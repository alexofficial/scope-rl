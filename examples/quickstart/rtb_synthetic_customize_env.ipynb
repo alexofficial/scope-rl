{
 "cells": [
  {
   "cell_type": "markdown",
   "metadata": {},
   "source": [
    "# Quickstart Example with Synthetic RTB Simulation (Customization)\n",
    "This notebook provides an example of customizing RTB environment.\n",
    "\n",
    "Our example with Synthetic RTB Simualtion contains the following 3 steps:\n",
    "1. Setup Synthetic RTB Simulation Environment and Interacting Online RL Agent\n",
    "2. Customize Environmental Configuration\n",
    "3. Customize Bidding Setup in RTB Env\n",
    "\n",
    "\\* This library uses [d3rlpy](https://github.com/takuseno/d3rlpy)'s algorithm implementations.  "
   ]
  },
  {
   "cell_type": "code",
   "execution_count": 1,
   "metadata": {},
   "outputs": [
    {
     "name": "stdout",
     "output_type": "stream",
     "text": [
      "The history saving thread hit an unexpected error (DatabaseError('database disk image is malformed')).History will not be written to the database.\n"
     ]
    }
   ],
   "source": [
    "# delete later\n",
    "%load_ext autoreload\n",
    "%autoreload 2"
   ]
  },
  {
   "cell_type": "code",
   "execution_count": 2,
   "metadata": {},
   "outputs": [],
   "source": [
    "# delete later\n",
    "import warnings\n",
    "warnings.simplefilter('ignore')"
   ]
  },
  {
   "cell_type": "code",
   "execution_count": 3,
   "metadata": {},
   "outputs": [],
   "source": [
    "# delete later\n",
    "import sys\n",
    "sys.path.append('../')\n",
    "sys.path.append('../../')"
   ]
  },
  {
   "cell_type": "code",
   "execution_count": 4,
   "metadata": {},
   "outputs": [],
   "source": [
    "# import offlinegym modules\n",
    "import offlinegym\n",
    "from offlinegym.policy import OnlineHead\n",
    "\n",
    "# import rtbgym modules\n",
    "from rtbgym import RTBEnv, CustomizedRTBEnv\n",
    "from rtbgym.utils import NormalDistribution\n",
    "\n",
    "# import d3rlpy algorithms\n",
    "from d3rlpy.algos import DiscreteRandomPolicy\n",
    "from d3rlpy.algos import RandomPolicy as ContinuousRandomPolicy\n",
    "from d3rlpy.preprocessing import MinMaxActionScaler\n",
    "\n",
    "# import from other libraries\n",
    "import torch\n",
    "from sklearn.linear_model import LogisticRegression\n",
    "from sklearn.utils import check_random_state"
   ]
  },
  {
   "cell_type": "code",
   "execution_count": 5,
   "metadata": {},
   "outputs": [],
   "source": [
    "from dataclasses import dataclass\n",
    "from typing import Tuple, Union, Optional\n",
    "\n",
    "import numpy as np\n",
    "import pandas as pd\n",
    "\n",
    "import matplotlib.pyplot as plt\n",
    "import seaborn as sns\n",
    "\n",
    "%matplotlib inline"
   ]
  },
  {
   "cell_type": "code",
   "execution_count": 6,
   "metadata": {},
   "outputs": [
    {
     "name": "stdout",
     "output_type": "stream",
     "text": [
      "0.0.0\n"
     ]
    }
   ],
   "source": [
    "# version\n",
    "print(offlinegym.__version__)"
   ]
  },
  {
   "cell_type": "code",
   "execution_count": 7,
   "metadata": {},
   "outputs": [],
   "source": [
    "# set random state\n",
    "random_state = 12345\n",
    "random_ = check_random_state(random_state)"
   ]
  },
  {
   "cell_type": "markdown",
   "metadata": {},
   "source": [
    "## 1. Setup Synthetic RTB Simulation Environment and Interacting Online RL Agent\n",
    "To begin with, we briefly describe the basic usage of the environment.\n",
    "\n",
    "#### RL setup for RTB\n",
    "In RTB, the objective of the RL agent is to maximize some KPIs (such as numbers of click or conversion) within a episode under the given budget constraints.  \n",
    "We often try to achieve this by adjusting bidding price function parameter $\\alpha$. By using $\\alpha$, we adjust bid price as follows.  \n",
    "$bid_{t,i} = \\alpha \\cdot r^{\\ast}$, \n",
    "where $r^{\\ast}$ denotes predicted or expected reward (KPIs).\n",
    "\n",
    "We often formulate this RTB problem as the following Constrained Markov Decision Process (CMDP):\n",
    "- `timestep`: One episode (a day or a week) consists of several timesteps (24 hours or seven days, for instance).\n",
    "- `state`: We observe statistical feedback from environment at each timestep, which include following informations.\n",
    "  - timestep\n",
    "  - remaining budget\n",
    "  - impression level features (budget comsuption rate, cost per mille of impressions, auction winning rate, reward) at previous timestep\n",
    "  - adjust rate (RL agent's decision making) at previous timestep\n",
    "- `action`: Agent chooses adjust rate parameter $\\alpha$ to maximize KPIs.\n",
    "- `reward`: Total number of clicks or conversions obtained during the timestep.\n",
    "- `constraints`: The pre-determined episodic budget should not be exceeded.\n",
    "\n",
    "Let's see how it works!"
   ]
  },
  {
   "cell_type": "code",
   "execution_count": 8,
   "metadata": {},
   "outputs": [],
   "source": [
    "# setup environment\n",
    "env = RTBEnv(random_state=random_state)"
   ]
  },
  {
   "cell_type": "code",
   "execution_count": 9,
   "metadata": {},
   "outputs": [],
   "source": [
    "# define random agent\n",
    "agent = OnlineHead(\n",
    "    ContinuousRandomPolicy(\n",
    "        action_scaler=MinMaxActionScaler(\n",
    "            minimum=0.1,  # minimum value that policy can take\n",
    "            maximum=10,  # maximum value that policy can take\n",
    "        )\n",
    "    )\n",
    ")"
   ]
  },
  {
   "cell_type": "code",
   "execution_count": 10,
   "metadata": {},
   "outputs": [],
   "source": [
    "# interact agent with environment\n",
    "# only 6 lines needed for RL interaction\n",
    "for episode in range(10):\n",
    "    obs = env.reset()\n",
    "    done = False\n",
    "\n",
    "    while not done:\n",
    "        action = agent.predict_online(obs)\n",
    "        obs, reward, done, info = env.step(action)"
   ]
  },
  {
   "cell_type": "code",
   "execution_count": 11,
   "metadata": {},
   "outputs": [
    {
     "name": "stdout",
     "output_type": "stream",
     "text": [
      "['timestep', 'remaining_budget', 'budget_consumption_rate', 'cost_per_mille_of_impression', 'winning_rate', 'reward', 'adjust_rate']\n",
      "(7,)\n"
     ]
    }
   ],
   "source": [
    "# state contains the following statistical feedback from environment\n",
    "print(env.obs_keys)\n",
    "print(obs.shape)"
   ]
  },
  {
   "cell_type": "code",
   "execution_count": 12,
   "metadata": {},
   "outputs": [
    {
     "data": {
      "image/png": "[encoded data removed]",
      "text/plain": [
       "<Figure size 432x288 with 2 Axes>"
      ]
     },
     "metadata": {
      "needs_background": "light"
     },
     "output_type": "display_data"
    }
   ],
   "source": [
    "# let's visualize the transition of remaing budget and cumulative reward\n",
    "# our goal is to gain a policy (i.e., agent) which maximize the cumulative reward under budget constraints using RL.  \n",
    "# for more visulization, please see appendix.\n",
    "\n",
    "def visualize_interaction_on_environment(env, agent):\n",
    "    obs = env.reset()\n",
    "    done = False\n",
    "    remaining_budget = [obs[1]]\n",
    "    cumulative_reward = [0]\n",
    "\n",
    "    while not done:\n",
    "        action = agent.predict_online(obs)\n",
    "        obs, reward, done, info = env.step(action)\n",
    "        remaining_budget.append(obs[1])\n",
    "        cumulative_reward.append(cumulative_reward[-1] + reward)\n",
    "\n",
    "    # plot\n",
    "    fig = plt.figure()\n",
    "    ax1 = fig.add_subplot(111)\n",
    "    ax1.plot(remaining_budget[:-1], label='remaining budget')\n",
    "    ax2 = ax1.twinx()\n",
    "    ax2.plot(cumulative_reward[:-1], label='cumulative reward', color='tab:orange')\n",
    "    ax1.set_xlabel('timestep')\n",
    "    ax1.set_ylabel('remainig budget')\n",
    "    ax1.set_ylim(0, env.initial_budget + 100)\n",
    "    ax2.set_ylabel('reward (coversion)')\n",
    "    ax1.legend(loc='upper left')\n",
    "    ax2.legend(loc='upper right')\n",
    "    plt.show()\n",
    "    \n",
    "visualize_interaction_on_environment(env, agent)"
   ]
  },
  {
   "cell_type": "markdown",
   "metadata": {},
   "source": [
    "## 2. Customize Environmental Configuration\n",
    "Now, we customize the RTB simulation.\n",
    "\n",
    "We have following environmental configurations:\n",
    "- `objective`: Objective KPIs of RTB, which is either \"click\" or \"conversion\".\n",
    "- `cost_indicator`: Timing of arising costs, which is any of \"impression\", \"click\", and \"conversion\".\n",
    "- `step_per_episode`: Number of timesteps in an episode.\n",
    "- `initial_budget`: Initial budget (i.e., constraint) for an episode.\n",
    "- `n_ads`: Number of ads used for auction bidding.\n",
    "- `n_users`: Number of users used for auction bidding.\n",
    "- `ad_feature_dim`: Dimensions of the ad feature vectors.\n",
    "- `user_feature_dim`: Dimensions of the user feature vectors.\n",
    "- `ad_feature_vector`: Feature vectors that characterizes each ad.\n",
    "- `user_feature_vector`: Feature vectors that characterizes each user.\n",
    "- `ad_sampling_rate`: Sampling probalities to determine which ad (id) is used in each auction.\n",
    "- `user_sampling_rate`: Sampling probalities to determine which user (id) is used in each auction.\n",
    "- `WinningPriceDistribution`: Winning price distribution of auctions.\n",
    "- `ClickTroughRate`: Click through rate (i.e., click / impression).\n",
    "- `ConversionRate`: Conversion rate (i.e., conversion / click).\n",
    "- `standard_bid_price_distribution`: Distribution of the bid price whose average impression probability is expected to be 0.5.\n",
    "- `minimum_standard_bid_price`: Minimum value for standard bid price.\n",
    "- `search_volume_distribution`: Search volume distribution for each timestep.\n",
    "- `minimum_search_volume`: Minimum search volume at each timestep.\n",
    "- `random_state`: Random state."
   ]
  },
  {
   "cell_type": "markdown",
   "metadata": {},
   "source": [
    "#### Case 1. Customizing the Basic Setup"
   ]
  },
  {
   "cell_type": "code",
   "execution_count": 13,
   "metadata": {},
   "outputs": [
    {
     "data": {
      "image/png": "[encoded data removed]",
      "text/plain": [
       "<Figure size 432x288 with 2 Axes>"
      ]
     },
     "metadata": {
      "needs_background": "light"
     },
     "output_type": "display_data"
    }
   ],
   "source": [
    "env = RTBEnv(\n",
    "    objective=\"click\",  # maximize the number of total impressions\n",
    "    cost_indicator=\"click\",  # cost arises every time click occurs\n",
    "    step_per_episode=14,  # 14 days as an episode\n",
    "    initial_budget=5000,  # budget available for 14 dayas is 5000\n",
    "    random_state=random_state,\n",
    ")\n",
    "visualize_interaction_on_environment(env, agent)"
   ]
  },
  {
   "cell_type": "markdown",
   "metadata": {},
   "source": [
    "#### Case 2. Defining the Ads and Users"
   ]
  },
  {
   "cell_type": "code",
   "execution_count": 14,
   "metadata": {},
   "outputs": [
    {
     "data": {
      "text/html": [
       "<div>\n",
       "<style scoped>\n",
       "    .dataframe tbody tr th:only-of-type {\n",
       "        vertical-align: middle;\n",
       "    }\n",
       "\n",
       "    .dataframe tbody tr th {\n",
       "        vertical-align: top;\n",
       "    }\n",
       "\n",
       "    .dataframe thead th {\n",
       "        text-align: right;\n",
       "    }\n",
       "</style>\n",
       "<table border=\"1\" class=\"dataframe\">\n",
       "  <thead>\n",
       "    <tr style=\"text-align: right;\">\n",
       "      <th></th>\n",
       "      <th>feature1</th>\n",
       "      <th>feature2</th>\n",
       "      <th>feature3</th>\n",
       "      <th>feature4</th>\n",
       "      <th>feature5</th>\n",
       "      <th>feature6</th>\n",
       "      <th>feature7</th>\n",
       "      <th>feature8</th>\n",
       "      <th>feature9</th>\n",
       "      <th>feature10</th>\n",
       "    </tr>\n",
       "  </thead>\n",
       "  <tbody>\n",
       "    <tr>\n",
       "      <th>ad1</th>\n",
       "      <td>-1</td>\n",
       "      <td>1</td>\n",
       "      <td>-1</td>\n",
       "      <td>-1</td>\n",
       "      <td>1</td>\n",
       "      <td>1</td>\n",
       "      <td>1</td>\n",
       "      <td>1</td>\n",
       "      <td>1</td>\n",
       "      <td>1</td>\n",
       "    </tr>\n",
       "    <tr>\n",
       "      <th>ad2</th>\n",
       "      <td>1</td>\n",
       "      <td>-1</td>\n",
       "      <td>1</td>\n",
       "      <td>1</td>\n",
       "      <td>1</td>\n",
       "      <td>1</td>\n",
       "      <td>-1</td>\n",
       "      <td>-1</td>\n",
       "      <td>1</td>\n",
       "      <td>-1</td>\n",
       "    </tr>\n",
       "    <tr>\n",
       "      <th>ad3</th>\n",
       "      <td>-1</td>\n",
       "      <td>1</td>\n",
       "      <td>1</td>\n",
       "      <td>-1</td>\n",
       "      <td>-1</td>\n",
       "      <td>1</td>\n",
       "      <td>1</td>\n",
       "      <td>1</td>\n",
       "      <td>1</td>\n",
       "      <td>1</td>\n",
       "    </tr>\n",
       "    <tr>\n",
       "      <th>ad4</th>\n",
       "      <td>-1</td>\n",
       "      <td>-1</td>\n",
       "      <td>-1</td>\n",
       "      <td>-1</td>\n",
       "      <td>-1</td>\n",
       "      <td>1</td>\n",
       "      <td>-1</td>\n",
       "      <td>1</td>\n",
       "      <td>-1</td>\n",
       "      <td>1</td>\n",
       "    </tr>\n",
       "    <tr>\n",
       "      <th>ad5</th>\n",
       "      <td>-1</td>\n",
       "      <td>-1</td>\n",
       "      <td>-1</td>\n",
       "      <td>-1</td>\n",
       "      <td>-1</td>\n",
       "      <td>1</td>\n",
       "      <td>1</td>\n",
       "      <td>-1</td>\n",
       "      <td>1</td>\n",
       "      <td>1</td>\n",
       "    </tr>\n",
       "  </tbody>\n",
       "</table>\n",
       "</div>"
      ],
      "text/plain": [
       "     feature1  feature2  feature3  feature4  feature5  feature6  feature7  \\\n",
       "ad1        -1         1        -1        -1         1         1         1   \n",
       "ad2         1        -1         1         1         1         1        -1   \n",
       "ad3        -1         1         1        -1        -1         1         1   \n",
       "ad4        -1        -1        -1        -1        -1         1        -1   \n",
       "ad5        -1        -1        -1        -1        -1         1         1   \n",
       "\n",
       "     feature8  feature9  feature10  \n",
       "ad1         1         1          1  \n",
       "ad2        -1         1         -1  \n",
       "ad3         1         1          1  \n",
       "ad4         1        -1          1  \n",
       "ad5        -1         1          1  "
      ]
     },
     "execution_count": 14,
     "metadata": {},
     "output_type": "execute_result"
    }
   ],
   "source": [
    "# we use the following ads for bidding\n",
    "ad_features = np.sign(random_.normal(size=(5, 10))).astype(int)\n",
    "ad_names, feature_names = [f\"ad{i+1}\" for i in range(5)], [f\"feature{i+1}\" for i in range(10)]\n",
    "ad_df = pd.DataFrame(ad_features, columns=feature_names, index=ad_names)\n",
    "ad_df"
   ]
  },
  {
   "cell_type": "code",
   "execution_count": 15,
   "metadata": {},
   "outputs": [
    {
     "data": {
      "text/html": [
       "<div>\n",
       "<style scoped>\n",
       "    .dataframe tbody tr th:only-of-type {\n",
       "        vertical-align: middle;\n",
       "    }\n",
       "\n",
       "    .dataframe tbody tr th {\n",
       "        vertical-align: top;\n",
       "    }\n",
       "\n",
       "    .dataframe thead th {\n",
       "        text-align: right;\n",
       "    }\n",
       "</style>\n",
       "<table border=\"1\" class=\"dataframe\">\n",
       "  <thead>\n",
       "    <tr style=\"text-align: right;\">\n",
       "      <th></th>\n",
       "      <th>feature1</th>\n",
       "      <th>feature2</th>\n",
       "      <th>feature3</th>\n",
       "      <th>feature4</th>\n",
       "      <th>feature5</th>\n",
       "    </tr>\n",
       "  </thead>\n",
       "  <tbody>\n",
       "    <tr>\n",
       "      <th>user1</th>\n",
       "      <td>0.069877</td>\n",
       "      <td>0.246674</td>\n",
       "      <td>-0.011862</td>\n",
       "      <td>1.004812</td>\n",
       "      <td>1.327195</td>\n",
       "    </tr>\n",
       "    <tr>\n",
       "      <th>user2</th>\n",
       "      <td>-0.919262</td>\n",
       "      <td>-1.549106</td>\n",
       "      <td>0.022185</td>\n",
       "      <td>0.758363</td>\n",
       "      <td>-0.660524</td>\n",
       "    </tr>\n",
       "    <tr>\n",
       "      <th>user3</th>\n",
       "      <td>0.862580</td>\n",
       "      <td>-0.010032</td>\n",
       "      <td>0.050009</td>\n",
       "      <td>0.670216</td>\n",
       "      <td>0.852965</td>\n",
       "    </tr>\n",
       "    <tr>\n",
       "      <th>user4</th>\n",
       "      <td>-0.955869</td>\n",
       "      <td>-0.023493</td>\n",
       "      <td>-2.304234</td>\n",
       "      <td>-0.652469</td>\n",
       "      <td>-1.218302</td>\n",
       "    </tr>\n",
       "    <tr>\n",
       "      <th>user5</th>\n",
       "      <td>-1.332610</td>\n",
       "      <td>1.074623</td>\n",
       "      <td>0.723642</td>\n",
       "      <td>0.690002</td>\n",
       "      <td>1.001543</td>\n",
       "    </tr>\n",
       "    <tr>\n",
       "      <th>...</th>\n",
       "      <td>...</td>\n",
       "      <td>...</td>\n",
       "      <td>...</td>\n",
       "      <td>...</td>\n",
       "      <td>...</td>\n",
       "    </tr>\n",
       "    <tr>\n",
       "      <th>user96</th>\n",
       "      <td>-1.686933</td>\n",
       "      <td>1.089539</td>\n",
       "      <td>2.060882</td>\n",
       "      <td>-0.241235</td>\n",
       "      <td>-0.947872</td>\n",
       "    </tr>\n",
       "    <tr>\n",
       "      <th>user97</th>\n",
       "      <td>0.676294</td>\n",
       "      <td>-0.653356</td>\n",
       "      <td>-0.652295</td>\n",
       "      <td>0.528828</td>\n",
       "      <td>0.357793</td>\n",
       "    </tr>\n",
       "    <tr>\n",
       "      <th>user98</th>\n",
       "      <td>0.188649</td>\n",
       "      <td>0.869417</td>\n",
       "      <td>-0.050667</td>\n",
       "      <td>-0.716365</td>\n",
       "      <td>-0.103259</td>\n",
       "    </tr>\n",
       "    <tr>\n",
       "      <th>user99</th>\n",
       "      <td>-1.141037</td>\n",
       "      <td>-0.500777</td>\n",
       "      <td>-0.389301</td>\n",
       "      <td>-0.473851</td>\n",
       "      <td>0.128664</td>\n",
       "    </tr>\n",
       "    <tr>\n",
       "      <th>user100</th>\n",
       "      <td>0.153694</td>\n",
       "      <td>0.444790</td>\n",
       "      <td>0.128532</td>\n",
       "      <td>0.252530</td>\n",
       "      <td>-0.940639</td>\n",
       "    </tr>\n",
       "  </tbody>\n",
       "</table>\n",
       "<p>100 rows × 5 columns</p>\n",
       "</div>"
      ],
      "text/plain": [
       "         feature1  feature2  feature3  feature4  feature5\n",
       "user1    0.069877  0.246674 -0.011862  1.004812  1.327195\n",
       "user2   -0.919262 -1.549106  0.022185  0.758363 -0.660524\n",
       "user3    0.862580 -0.010032  0.050009  0.670216  0.852965\n",
       "user4   -0.955869 -0.023493 -2.304234 -0.652469 -1.218302\n",
       "user5   -1.332610  1.074623  0.723642  0.690002  1.001543\n",
       "...           ...       ...       ...       ...       ...\n",
       "user96  -1.686933  1.089539  2.060882 -0.241235 -0.947872\n",
       "user97   0.676294 -0.653356 -0.652295  0.528828  0.357793\n",
       "user98   0.188649  0.869417 -0.050667 -0.716365 -0.103259\n",
       "user99  -1.141037 -0.500777 -0.389301 -0.473851  0.128664\n",
       "user100  0.153694  0.444790  0.128532  0.252530 -0.940639\n",
       "\n",
       "[100 rows x 5 columns]"
      ]
     },
     "execution_count": 15,
     "metadata": {},
     "output_type": "execute_result"
    }
   ],
   "source": [
    "# we assume that the foollowing 100 users randomly cast search queries\n",
    "user_features = random_.normal(size=(100, 5))\n",
    "user_names, feature_names = [f\"user{i+1}\" for i in range(100)], [f\"feature{i+1}\" for i in range(5)]\n",
    "user_df = pd.DataFrame(user_features, columns=feature_names, index=user_names)\n",
    "user_df"
   ]
  },
  {
   "cell_type": "code",
   "execution_count": 16,
   "metadata": {},
   "outputs": [
    {
     "data": {
      "image/png": "[encoded data removed]",
      "text/plain": [
       "<Figure size 432x288 with 2 Axes>"
      ]
     },
     "metadata": {
      "needs_background": "light"
     },
     "output_type": "display_data"
    }
   ],
   "source": [
    "# using the above data, we can simulate auction as follows\n",
    "# note that, ad_sampling_rate and user_sampling_rate can be defined for each timestep or across timesteps\n",
    "# by giving array with shape (timestep, n_ads/users) or (n_ads/users, )\n",
    "env = RTBEnv(\n",
    "    step_per_episode=7,  # 7 days in a week\n",
    "    n_ads=5,  # we use 5 ads\n",
    "    n_users=100,  # 100 users exists\n",
    "    ad_feature_dim=10,  # each ad has 10-dimensional features\n",
    "    user_feature_dim=5,  # each user has 5-dimensional features\n",
    "    ad_feature_vector=ad_features,  # use ad features defined above\n",
    "    user_feature_vector=user_features,  # use user features defined above\n",
    "    ad_sampling_rate=np.ones(5) / 5,  # uniformly sample all ads in simulation\n",
    "    user_sampling_rate=np.ones((7, 100)) / 100,  # uniformly sample all users in simulation *for every timestep*\n",
    "    random_state=random_state,\n",
    ")\n",
    "visualize_interaction_on_environment(env, agent)"
   ]
  },
  {
   "cell_type": "markdown",
   "metadata": {},
   "source": [
    "#### Case 3. Using Customized WinninPriceDistribution, ClickTroughRate, and ConversionRate"
   ]
  },
  {
   "cell_type": "code",
   "execution_count": 17,
   "metadata": {},
   "outputs": [],
   "source": [
    "# Let's first define WinningPriceDistribution using bid price.\n",
    "# note that, we use gamma distribution to simulate more realistic winning price distribution as default.\n",
    "# please refer to rtbgym.WinningPriceDistribution as well.\n",
    "\n",
    "from rtbgym import BaseWinningPriceDistribution\n",
    "\n",
    "@dataclass\n",
    "class CustomizedWinningPriceDistribution(BaseWinningPriceDistribution):\n",
    "    \"\"\"Initialization.\"\"\"\n",
    "    n_ads: int\n",
    "    n_users: int\n",
    "    ad_feature_dim: int\n",
    "    user_feature_dim: int\n",
    "    step_per_episode: int\n",
    "    standard_bid_price_distribution: NormalDistribution = NormalDistribution(\n",
    "        mean=50,\n",
    "        std=5,\n",
    "        random_state=12345,\n",
    "    )\n",
    "    minimum_standard_bid_price: Optional[Union[int, float]] = None\n",
    "    random_state: Optional[int] = None\n",
    "    \n",
    "    def __post_init__(self):\n",
    "        self.random_ = check_random_state(self.random_state)\n",
    "    \n",
    "    def sample_outcome(\n",
    "        self,\n",
    "        bid_prices: np.ndarray,\n",
    "        **kwargs,\n",
    "    ) -> Tuple[np.ndarray]:\n",
    "        \"\"\"Stochastically determine impression and second price for each auction.\"\"\"\n",
    "        # sample winning price from simple normal distribution\n",
    "        winning_prices = self.random_.normal(\n",
    "            loc=self.standard_bid_price,\n",
    "            scale=self.standard_bid_price / 5,\n",
    "            size=bid_prices.shape,\n",
    "        )\n",
    "        impressions = winning_prices < bid_prices\n",
    "        return impressions.astype(int), winning_prices.astype(int)\n",
    "    \n",
    "    @property\n",
    "    def standard_bid_price(self):\n",
    "        return self.standard_bid_price_distribution.mean"
   ]
  },
  {
   "cell_type": "code",
   "execution_count": 18,
   "metadata": {},
   "outputs": [],
   "source": [
    "# Here, we also customize ClickTroughRate and ConversionRate using both user and ad feature vectors.\n",
    "# please also refer to rtbgym.ClickThroughRate, rtbgym.ConversionRate as well.\n",
    "\n",
    "from rtbgym import BaseClickAndConversionRate\n",
    "from rtbgym.utils import sigmoid\n",
    "\n",
    "@dataclass\n",
    "class CustomizedClickThroughRate(BaseClickAndConversionRate):\n",
    "    \"\"\"Initialization.\"\"\"\n",
    "    n_ads: int\n",
    "    n_users: int\n",
    "    ad_feature_dim: int\n",
    "    user_feature_dim: int\n",
    "    step_per_episode: int\n",
    "    random_state: Optional[int] = None\n",
    "    \n",
    "    def __post_init__(self):\n",
    "        self.random_ = check_random_state(self.random_state)\n",
    "        self.ad_coef = self.random_.normal(\n",
    "            loc=0.0, \n",
    "            scale=0.5, \n",
    "            size=(self.ad_feature_dim, 10),\n",
    "        )\n",
    "        self.user_coef = self.random_.normal(\n",
    "            loc=0.0, \n",
    "            scale=0.5, \n",
    "            size=(self.user_feature_dim, 10),\n",
    "        )\n",
    "    \n",
    "    def calc_prob(\n",
    "        self,\n",
    "        ad_ids: np.ndarray,\n",
    "        user_ids: np.ndarray,\n",
    "        ad_feature_vector: np.ndarray,\n",
    "        user_feature_vector: np.ndarray,\n",
    "        timestep: Union[int, np.ndarray],\n",
    "    ) -> np.ndarray:\n",
    "        \"\"\"Calculate CTR (i.e., click per impression).\"\"\"\n",
    "        ad_latent = ad_feature_vector @ self.ad_coef\n",
    "        user_latent = user_feature_vector @ self.user_coef\n",
    "        ctrs = sigmoid((ad_latent * user_latent).mean(axis=1))\n",
    "        return ctrs\n",
    "    \n",
    "    def sample_outcome(\n",
    "        self,\n",
    "        ad_ids: np.ndarray,\n",
    "        user_ids: np.ndarray,\n",
    "        ad_feature_vector: np.ndarray,\n",
    "        user_feature_vector: np.ndarray,\n",
    "        timestep: Union[int, np.ndarray],\n",
    "    ) -> np.ndarray:\n",
    "        \"\"\"Stochastically determine whether click occurs in impression=True case.\"\"\"\n",
    "        ctrs = self.calc_prob(\n",
    "            timestep=timestep,\n",
    "            ad_ids=ad_ids,\n",
    "            user_ids=user_ids,\n",
    "            ad_feature_vector=ad_feature_vector,\n",
    "            user_feature_vector=user_feature_vector,\n",
    "        )\n",
    "        clicks = self.random_.rand(len(ad_ids)) < ctrs\n",
    "        return clicks.astype(int)"
   ]
  },
  {
   "cell_type": "code",
   "execution_count": 19,
   "metadata": {},
   "outputs": [],
   "source": [
    "@dataclass\n",
    "class CustomizedConversionRate(BaseClickAndConversionRate):\n",
    "    \"\"\"Initialization.\"\"\"\n",
    "    n_ads: int\n",
    "    n_users: int\n",
    "    ad_feature_dim: int\n",
    "    user_feature_dim: int\n",
    "    step_per_episode: int\n",
    "    random_state: Optional[int] = None\n",
    "\n",
    "    def __post_init__(self):\n",
    "        self.random_ = check_random_state(self.random_state + 1)\n",
    "        self.ad_coef = self.random_.normal(\n",
    "            loc=0.0, \n",
    "            scale=0.5, \n",
    "            size=(self.ad_feature_dim, 10),\n",
    "        )\n",
    "        self.user_coef = self.random_.normal(\n",
    "            loc=0.0, \n",
    "            scale=0.5, \n",
    "            size=(self.user_feature_dim, 10),\n",
    "        )\n",
    "    \n",
    "    def calc_prob(\n",
    "        self,\n",
    "        ad_ids: np.ndarray,\n",
    "        user_ids: np.ndarray,\n",
    "        ad_feature_vector: np.ndarray,\n",
    "        user_feature_vector: np.ndarray,\n",
    "        timestep: Union[int, np.ndarray],\n",
    "    ) -> np.ndarray:\n",
    "        \"\"\"Calculate CVR (i.e., conversion per click).\"\"\"\n",
    "        ad_latent = ad_feature_vector @ self.ad_coef\n",
    "        user_latent = user_feature_vector @ self.user_coef\n",
    "        cvrs = sigmoid((ad_latent * user_latent).mean(axis=1))\n",
    "        return cvrs\n",
    "    \n",
    "    def sample_outcome(\n",
    "        self,\n",
    "        ad_ids: np.ndarray,\n",
    "        user_ids: np.ndarray,\n",
    "        ad_feature_vector: np.ndarray,\n",
    "        user_feature_vector: np.ndarray,\n",
    "        timestep: Union[int, np.ndarray],\n",
    "    ) -> np.ndarray:\n",
    "        \"\"\"Stochastically determine whether conversion occurs in click=True case.\"\"\"\n",
    "        cvrs = self.calc_prob(\n",
    "            timestep=timestep,\n",
    "            ad_ids=ad_ids,\n",
    "            user_ids=user_ids,\n",
    "            ad_feature_vector=ad_feature_vector,\n",
    "            user_feature_vector=user_feature_vector,\n",
    "        )\n",
    "        conversions = self.random_.rand(len(ad_ids)) < cvrs\n",
    "        return conversions.astype(int)"
   ]
  },
  {
   "cell_type": "code",
   "execution_count": 20,
   "metadata": {},
   "outputs": [
    {
     "data": {
      "image/png": "[encoded data removed]",
      "text/plain": [
       "<Figure size 432x288 with 2 Axes>"
      ]
     },
     "metadata": {
      "needs_background": "light"
     },
     "output_type": "display_data"
    }
   ],
   "source": [
    "env = RTBEnv(\n",
    "    WinningPriceDistribution=CustomizedWinningPriceDistribution,\n",
    "    ClickThroughRate=CustomizedClickThroughRate,\n",
    "    ConversionRate=CustomizedConversionRate,\n",
    "    random_state=random_state,\n",
    ")\n",
    "visualize_interaction_on_environment(env, agent)"
   ]
  },
  {
   "cell_type": "markdown",
   "metadata": {},
   "source": [
    "#### Case 4. Adjusting Standard Bid Price and Search Volume Distribution"
   ]
  },
  {
   "cell_type": "code",
   "execution_count": 21,
   "metadata": {},
   "outputs": [
    {
     "data": {
      "image/png": "[encoded data removed]",
      "text/plain": [
       "<Figure size 432x288 with 2 Axes>"
      ]
     },
     "metadata": {
      "needs_background": "light"
     },
     "output_type": "display_data"
    }
   ],
   "source": [
    "env = RTBEnv(\n",
    "    step_per_episode=5,  # 5 days a week\n",
    "    standard_bid_price_distribution=NormalDistribution(\n",
    "        mean=100, \n",
    "        std=10, \n",
    "        random_state=random_state\n",
    "    ),\n",
    "    minimum_standard_bid_price=70,  # minimum standard bid price is 70\n",
    "    search_volume_distribution=NormalDistribution(\n",
    "        mean=np.array([100, 200, 100, 200, 300]),  # search volume varies day by day (depending on timestep)\n",
    "        std=np.ones(5) * 20,\n",
    "        random_state=random_state,\n",
    "    ),\n",
    "    minimum_search_volume=50,  # everyday, at least 50 queries are searched\n",
    "    random_state=random_state,\n",
    ")\n",
    "visualize_interaction_on_environment(env, agent)"
   ]
  },
  {
   "cell_type": "markdown",
   "metadata": {},
   "source": [
    "## 3. Customize Bidding Setup in RTB Env\n",
    "Here, we describe how the decision makers customize their own RTB environment.  \n",
    "Specifically, they can setup their own action space and bid price calculation rules by defining the following modules.\n",
    "- `reward_predictor` in Bidder class  \n",
    "    We use predicted rewards to calculate bid price.  \n",
    "        bid price = adjust rate * predicted reward ( * constant)\n",
    "    If None, we use ground-truth reward instead of predicted reward.  \n",
    "\n",
    "- `scaler` in Bidder class\n",
    "    Scaler defines constant in the bid price calculation.  \n",
    "        bid price = adjust rate * predicted reward ( * constant)\n",
    "        constant = scaler * standard_bid_price\n",
    "    where standard_bid_price indicates the average of standard_bid_price  \n",
    "    (bid price which has approximately 50% impression probability) over all ads.\n",
    "\n",
    "- `action_space` for agent  \n",
    "    We transform continual adjust rate space $[0, \\infty)$ into agent action space $[0.1, 10]$.  \n",
    "    Both discrete and continuous actions are acceptable.  \n",
    "    (We can tune multiplication of adjust rate using scaler.)\n",
    "    \n",
    "The arguments are given as follows:\n",
    "- `original_env`: Original RTB Environment.\n",
    "- `reward_predictor`: A machine learning model to predict the reward to determine the bidding price.\n",
    "- `scaler`: Scaling factor (constant value) used for bid price determination. (`None` for the auto-fitting)\n",
    "- `action_min`: Minimum value of adjust rate.\n",
    "- `action_max`: Maximum value of adjust rate.\n",
    "- `action_type`: Action type of the RL agent, which is either \"discrete\" or \"continuous\".\n",
    "- `n_actions`: Number of \"discrete\" actions.\n",
    "- `action_meaning`: Mapping function of agent action index to the actual \"discrete\" action to take."
   ]
  },
  {
   "cell_type": "code",
   "execution_count": 22,
   "metadata": {},
   "outputs": [],
   "source": [
    "# initialize environment\n",
    "env = RTBEnv(random_state=random_state)"
   ]
  },
  {
   "cell_type": "markdown",
   "metadata": {},
   "source": [
    "#### Case 1. Defining Continuous Action Space"
   ]
  },
  {
   "cell_type": "code",
   "execution_count": 23,
   "metadata": {},
   "outputs": [],
   "source": [
    "# let's customize the continuous action space\n",
    "custom_env = CustomizedRTBEnv(\n",
    "    original_env=env,\n",
    "    action_type=\"continuous\",\n",
    ")"
   ]
  },
  {
   "cell_type": "code",
   "execution_count": 24,
   "metadata": {},
   "outputs": [
    {
     "name": "stdout",
     "output_type": "stream",
     "text": [
      "Box(0.1, 10.0, (1,), float64)\n"
     ]
    }
   ],
   "source": [
    "print(custom_env.action_space)"
   ]
  },
  {
   "cell_type": "code",
   "execution_count": 25,
   "metadata": {},
   "outputs": [],
   "source": [
    "# another example\n",
    "custom_env = CustomizedRTBEnv(\n",
    "    original_env=env,\n",
    "    action_min=0.1,\n",
    "    action_max=0.5,\n",
    "    action_type=\"continuous\",\n",
    ")"
   ]
  },
  {
   "cell_type": "code",
   "execution_count": 26,
   "metadata": {},
   "outputs": [
    {
     "name": "stdout",
     "output_type": "stream",
     "text": [
      "Box(0.1, 0.5, (1,), float64)\n"
     ]
    }
   ],
   "source": [
    "print(custom_env.action_space)"
   ]
  },
  {
   "cell_type": "markdown",
   "metadata": {},
   "source": [
    "#### Case 2. Defining Discrete Action Space"
   ]
  },
  {
   "cell_type": "code",
   "execution_count": 27,
   "metadata": {},
   "outputs": [],
   "source": [
    "# let's customize the environment and discretize action space\n",
    "custom_env = CustomizedRTBEnv(\n",
    "    original_env=env,\n",
    "    action_type=\"discrete\",\n",
    ")"
   ]
  },
  {
   "cell_type": "code",
   "execution_count": 28,
   "metadata": {},
   "outputs": [
    {
     "name": "stdout",
     "output_type": "stream",
     "text": [
      "Discrete(10)\n",
      "[ 0.1         0.16681005  0.27825594  0.46415888  0.77426368  1.29154967\n",
      "  2.15443469  3.59381366  5.9948425  10.        ]\n"
     ]
    }
   ],
   "source": [
    "print(custom_env.action_space)\n",
    "print(custom_env.action_meaning)"
   ]
  },
  {
   "cell_type": "code",
   "execution_count": 29,
   "metadata": {},
   "outputs": [],
   "source": [
    "# another example\n",
    "custom_env = CustomizedRTBEnv(\n",
    "    original_env=env,\n",
    "    action_type=\"discrete\",\n",
    "    n_actions=5,\n",
    "    action_meaning=np.arange(1, 6)\n",
    ")"
   ]
  },
  {
   "cell_type": "code",
   "execution_count": 30,
   "metadata": {},
   "outputs": [
    {
     "name": "stdout",
     "output_type": "stream",
     "text": [
      "Discrete(5)\n",
      "[1 2 3 4 5]\n"
     ]
    }
   ],
   "source": [
    "print(custom_env.action_space)\n",
    "print(custom_env.action_meaning)"
   ]
  },
  {
   "cell_type": "markdown",
   "metadata": {},
   "source": [
    "#### Case 3. Using Customized Reward Predictor"
   ]
  },
  {
   "cell_type": "code",
   "execution_count": 31,
   "metadata": {},
   "outputs": [],
   "source": [
    "custom_env = CustomizedRTBEnv(\n",
    "    original_env=env,\n",
    "    reward_predictor=LogisticRegression(),  # use logistic regression as a reward predictor\n",
    "    action_type=\"discrete\",\n",
    ")"
   ]
  },
  {
   "cell_type": "code",
   "execution_count": 32,
   "metadata": {},
   "outputs": [],
   "source": [
    "custom_env = CustomizedRTBEnv(\n",
    "    original_env=env,\n",
    "    reward_predictor=None,  # use ground-truth (expected) reward as a reward predictor (oracle)\n",
    "    action_type=\"discrete\",\n",
    ")"
   ]
  },
  {
   "cell_type": "markdown",
   "metadata": {},
   "source": [
    "For the data collection and visualization, please refer to [examples/quickstart/rtb_synthetic_data_collection.ipynb](https://github.com/negocia-inc/rtb_reinforcement_learing/blob/ope/examples/quickstart/rtb_synthetic_data_collection.ipynb). \\\n",
    "For offline RL and OPE procedures, please refer to [examples/quickstart/rtb_synthetic_discrete_basic.ipynb](https://github.com/negocia-inc/rtb_reinforcement_learing/blob/ope/examples/quickstart/rtb_synthetic_discrete_basic.ipynb) and [examples/quickstart/rtb_synthetic_continuous_basic.ipynb](https://github.com/negocia-inc/rtb_reinforcement_learing/blob/ope/examples/quickstart/rtb_synthetic_continuous_basic.ipynb). \\\n",
    "For advanced topics in OPE and OPS, please refer to [examples/quickstart/rtb_synthetic_discrete_advanced.ipynb](https://github.com/negocia-inc/rtb_reinforcement_learing/blob/ope/examples/quickstart/rtb_synthetic_basic_advanced.ipynb) and [examples/quickstart/rtb_synthetic_continuous_advanced.ipynb](https://github.com/negocia-inc/rtb_reinforcement_learing/blob/ope/examples/quickstart/rtb_synthetic_continuous_advanced.ipynb)."
   ]
  },
  {
   "cell_type": "markdown",
   "metadata": {},
   "source": [
    "## Reference\n",
    "\n",
    "- Takuma Seno and Michita Imai. \\\n",
    "\"d3rlpy: An Offline Deep Reinforcement Library.\", 2021.\n",
    "\n",
    "- Di Wu, Xiujun Chen, Xun Yang, Hao Wang, Qing Tan, Xiaoxun Zhang, Jian Xu, and Kun Gai. \\\n",
    "\"Budget Constrained Bidding by Model-free Reinforcement Learning in Display Advertising.\", 2018.\n",
    "\n",
    "- Jun Zhao, Guang Qiu, Ziyu Guan, Wei Zhao, and Xiaofei He. \\\n",
    "\"Deep Reinforcement Learning for Sponsored Search Real-time Bidding.\", 2018.\n",
    "\n",
    "- Greg Brockman, Vicki Cheung, Ludwig Pettersson, Jonas Schneider, John Schulman, Jie Tang, and Wojciech Zaremba. \\\n",
    "\"OpenAI Gym.\", 2016."
   ]
  },
  {
   "cell_type": "code",
   "execution_count": null,
   "metadata": {},
   "outputs": [],
   "source": []
  }
 ],
 "metadata": {
  "kernelspec": {
   "display_name": "Python 3",
   "language": "python",
   "name": "python3"
  },
  "language_info": {
   "codemirror_mode": {
    "name": "ipython",
    "version": 3
   },
   "file_extension": ".py",
   "mimetype": "text/x-python",
   "name": "python",
   "nbconvert_exporter": "python",
   "pygments_lexer": "ipython3",
   "version": "3.8.5"
  }
 },
 "nbformat": 4,
 "nbformat_minor": 4
}
