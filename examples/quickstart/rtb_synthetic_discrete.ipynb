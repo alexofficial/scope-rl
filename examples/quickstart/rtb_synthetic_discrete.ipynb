{
 "cells": [
  {
   "cell_type": "markdown",
   "metadata": {},
   "source": [
    "# Quickstart Example with Synthetic RTB Simulation and Dataset (Discrete)\n",
    "This notebook provides an example of conducting **Off-policy Evaluation (OPE) and Offline Reinforcement Learning (Offline RL) with synthetic Real-Time Bidding (RTB) dataset**.\n",
    "\n",
    "Our example with Synthetic RTB Simualtion and Dataset contains the following 5 steps:\n",
    "0. (Setup Synthetic RTB Simulation Environment and Online RL)\n",
    "1. Synthetic Data Generation\n",
    "2. Offline Reinforcement Learning\n",
    "3. Off-Policy Evaluation and Evaluation of Offline RL methods\n",
    "4. Evaluation of OPE methods\n",
    "\n",
    "\\* This library uses [d3rlpy](https://github.com/takuseno/d3rlpy)'s algorithm implementations of online/offline rl policies and model-based evaluation.  \n",
    "\\* Also, our implementations of OPE are highly inspired by [Open Bandit Pipeline](https://github.com/st-tech/zr-obp)."
   ]
  },
  {
   "cell_type": "code",
   "execution_count": 1,
   "metadata": {},
   "outputs": [],
   "source": [
    "# delete later\n",
    "%load_ext autoreload\n",
    "%autoreload 2"
   ]
  },
  {
   "cell_type": "code",
   "execution_count": 2,
   "metadata": {},
   "outputs": [],
   "source": [
    "# delete later\n",
    "import warnings\n",
    "warnings.simplefilter('ignore')"
   ]
  },
  {
   "cell_type": "code",
   "execution_count": 3,
   "metadata": {},
   "outputs": [],
   "source": [
    "# delete later\n",
    "import sys\n",
    "sys.path.append('../')\n",
    "sys.path.append('../../')"
   ]
  },
  {
   "cell_type": "code",
   "execution_count": 4,
   "metadata": {},
   "outputs": [],
   "source": [
    "# import offlinegym modules\n",
    "import offlinegym\n",
    "from rtbgym import RTBEnv, CustomizedRTBEnv\n",
    "from offlinegym.dataset import SyntheticDataset\n",
    "from offlinegym.policy import OnlineHead\n",
    "from offlinegym.ope.online import (\n",
    "    calc_on_policy_policy_value,\n",
    "    visualize_on_policy_policy_value,\n",
    ")\n",
    "\n",
    "# import d3rlpy algorithms\n",
    "from d3rlpy.algos import DiscreteRandomPolicy\n",
    "from d3rlpy.algos import RandomPolicy as ContinuousRandomPolicy\n",
    "from d3rlpy.preprocessing import MinMaxActionScaler\n",
    "\n",
    "# import from other libraries\n",
    "import torch\n",
    "from sklearn.linear_model import LogisticRegression\n",
    "from sklearn.model_selection import train_test_split"
   ]
  },
  {
   "cell_type": "code",
   "execution_count": 5,
   "metadata": {},
   "outputs": [],
   "source": [
    "import pickle\n",
    "from glob import glob\n",
    "from tqdm import tqdm\n",
    "\n",
    "import numpy as np\n",
    "import pandas as pd\n",
    "\n",
    "import matplotlib.pyplot as plt\n",
    "import seaborn as sns\n",
    "\n",
    "%matplotlib inline"
   ]
  },
  {
   "cell_type": "code",
   "execution_count": 6,
   "metadata": {},
   "outputs": [
    {
     "name": "stdout",
     "output_type": "stream",
     "text": [
      "0.0.0\n"
     ]
    }
   ],
   "source": [
    "# version\n",
    "print(offlinegym.__version__)"
   ]
  },
  {
   "cell_type": "code",
   "execution_count": 7,
   "metadata": {},
   "outputs": [],
   "source": [
    "# set random state\n",
    "random_state = 12345"
   ]
  },
  {
   "cell_type": "code",
   "execution_count": 8,
   "metadata": {},
   "outputs": [],
   "source": [
    "# log directory\n",
    "from pathlib import Path\n",
    "Path(\"logs/\").mkdir(exist_ok=True)"
   ]
  },
  {
   "cell_type": "markdown",
   "metadata": {},
   "source": [
    "## 0. (Setup Synthetic RTB Simulation Environment and Online RL)\n",
    "To begin with, we briefly describe how the RTB environment works for the preparation.\n",
    "\n",
    "#### RL setup for RTB\n",
    "In RTB, the objective of the RL agent is to maximize some KPIs (such as numbers of click or conversion) within a episode under the given budget constraints.  \n",
    "We often try to achieve this by adjusting bidding price function parameter $\\alpha$. By using $\\alpha$, we adjust bid price as follows.  \n",
    "$bid_{t,i} = \\alpha \\cdot r^{\\ast}$, \n",
    "where $r^{\\ast}$ denotes predicted or expected reward (KPIs).\n",
    "\n",
    "We often formulate this RTB problem as the following Constrained Markov Decision Process (CMDP):\n",
    "- `timestep`: One episode (a day or a week) consists of several timesteps (24 hours or seven days, for instance).\n",
    "- `state`: We observe statistical feedback from environment at each timestep, which include following informations.\n",
    "  - timestep\n",
    "  - remaining budget\n",
    "  - impression level features (budget comsuption rate, cost per mille of impressions, auction winning rate, reward) at previous timestep\n",
    "  - adjust rate (RL agent's decision making) at previous timestep\n",
    "- `action`: Agent chooses adjust rate parameter $\\alpha$ to maximize KPIs.\n",
    "- `reward`: Total number of clicks or conversions obtained during the timestep.\n",
    "- `constraints`: The pre-determined episodic budget should not be exceeded.\n",
    "\n",
    "For more about the environmental configuration , please refer to [examples/quickstart/rtb_synthetic_customize_env.ipynb](https://github.com/negocia-inc/rtb_reinforcement_learing/blob/ope/examples/quickstart/rtb_synthetic_customize_env.ipynb).\n",
    "\n",
    "Let's see how it works!"
   ]
  },
  {
   "cell_type": "code",
   "execution_count": 9,
   "metadata": {},
   "outputs": [],
   "source": [
    "# setup environment\n",
    "env = RTBEnv(random_state=random_state)"
   ]
  },
  {
   "cell_type": "code",
   "execution_count": 10,
   "metadata": {},
   "outputs": [],
   "source": [
    "# define random agent\n",
    "agent = OnlineHead(\n",
    "    ContinuousRandomPolicy(\n",
    "        action_scaler=MinMaxActionScaler(\n",
    "            minimum=0.1,  # minimum value that policy can take\n",
    "            maximum=10,  # maximum value that policy can take\n",
    "        )\n",
    "    )\n",
    ")"
   ]
  },
  {
   "cell_type": "code",
   "execution_count": 11,
   "metadata": {},
   "outputs": [],
   "source": [
    "# interact agent with environment\n",
    "# only 6 lines needed for RL interaction\n",
    "for episode in range(10):\n",
    "    obs = env.reset()\n",
    "    done = False\n",
    "\n",
    "    while not done:\n",
    "        action = agent.predict_online(obs)\n",
    "        obs, reward, done, info = env.step(action)"
   ]
  },
  {
   "cell_type": "code",
   "execution_count": 12,
   "metadata": {},
   "outputs": [
    {
     "name": "stdout",
     "output_type": "stream",
     "text": [
      "['timestep', 'remaining_budget', 'budget_consumption_rate', 'cost_per_mille_of_impression', 'winning_rate', 'reward', 'adjust_rate']\n",
      "(7,)\n"
     ]
    }
   ],
   "source": [
    "# state contains the following statistical feedback from environment\n",
    "print(env.obs_keys)\n",
    "print(obs.shape)"
   ]
  },
  {
   "cell_type": "code",
   "execution_count": 13,
   "metadata": {},
   "outputs": [
    {
     "data": {
      "image/png": "[encoded data removed]",
      "text/plain": [
       "<Figure size 432x288 with 2 Axes>"
      ]
     },
     "metadata": {
      "needs_background": "light"
     },
     "output_type": "display_data"
    }
   ],
   "source": [
    "# let's visualize the transition of remaing budget and cumulative reward\n",
    "# our goal is to gain a policy (i.e., agent) which maximize the cumulative reward under budget constraints using RL.  \n",
    "obs = env.reset()\n",
    "done = False\n",
    "remaining_budget = [obs[1]]\n",
    "cumulative_reward = [0]\n",
    "\n",
    "while not done:\n",
    "    action = agent.predict_online(obs)\n",
    "    obs, reward, done, info = env.step(action)\n",
    "    remaining_budget.append(obs[1])\n",
    "    cumulative_reward.append(cumulative_reward[-1] + reward)\n",
    "\n",
    "# plot\n",
    "fig = plt.figure()\n",
    "ax1 = fig.add_subplot(111)\n",
    "ax1.plot(remaining_budget[:-1], label='remaining budget')\n",
    "ax2 = ax1.twinx()\n",
    "ax2.plot(cumulative_reward[:-1], label='cumulative reward', color='tab:orange')\n",
    "ax1.set_xlabel('timestep')\n",
    "ax1.set_ylabel('remainig budget')\n",
    "ax1.set_ylim(0, env.initial_budget + 100)\n",
    "ax2.set_ylabel('reward (coversion)')\n",
    "ax1.legend(loc='upper left')\n",
    "ax2.legend(loc='upper right')\n",
    "plt.show()"
   ]
  },
  {
   "cell_type": "markdown",
   "metadata": {},
   "source": [
    "We see that the random policy soon run out the budget.  \n",
    "Our goal is to derive a policy that controls the adjust rate (i.e., action) to maximize the reward within the given budget constraints."
   ]
  },
  {
   "cell_type": "markdown",
   "metadata": {},
   "source": [
    "#### Customization of bidding setup in RTB Env\n",
    "Here, we describe how the decision makers customize their own RTB environment.  \n",
    "Specifically, they can setup their own action space and bid price calculation rules by defining the following modules.\n",
    "- `reward_predictor` in Bidder class  \n",
    "    We use predicted rewards to calculate bid price.  \n",
    "        bid price = adjust rate * predicted reward ( * constant)\n",
    "    If None, we use ground-truth reward instead of predicted reward.  \n",
    "\n",
    "- `scaler` in Bidder class\n",
    "    Scaler defines constant in the bid price calculation.  \n",
    "        bid price = adjust rate * predicted reward ( * constant)\n",
    "        constant = scaler * standard_bid_price\n",
    "    where standard_bid_price indicates the average of standard_bid_price  \n",
    "    (bid price which has approximately 50% impression probability) over all ads.\n",
    "\n",
    "- `action_space` for agent  \n",
    "    We transform continual adjust rate space $[0, \\infty)$ into agent action space $[0.1, 10]$.  \n",
    "    Both discrete and continuous actions are acceptable.  \n",
    "    (We can tune multiplication of adjust rate using scaler.)\n",
    "    \n",
    "The arguments are given as follows:\n",
    "- `original_env`: Original RTB Environment.\n",
    "- `reward_predictor`: A machine learning model to predict the reward to determine the bidding price.\n",
    "- `scaler`: Scaling factor (constant value) used for bid price determination. (`None` for the auto-fitting)\n",
    "- `action_min`: Minimum value of adjust rate.\n",
    "- `action_max`: Maximum value of adjust rate.\n",
    "- `action_type`: Action type of the RL agent, which is either \"discrete\" or \"continuous\".\n",
    "- `n_actions`: Number of \"discrete\" actions.\n",
    "- `action_meaning`: Mapping function of agent action index to the actual \"discrete\" action to take."
   ]
  },
  {
   "cell_type": "code",
   "execution_count": 14,
   "metadata": {},
   "outputs": [],
   "source": [
    "# now, let's customize the environment and discretize action space\n",
    "env = CustomizedRTBEnv(\n",
    "    original_env=env,\n",
    "    reward_predictor=LogisticRegression(),\n",
    "    action_type=\"discrete\",\n",
    ")"
   ]
  },
  {
   "cell_type": "code",
   "execution_count": 15,
   "metadata": {},
   "outputs": [],
   "source": [
    "agent = OnlineHead(DiscreteRandomPolicy())\n",
    "agent.build_with_env(env)  # set discrete action space"
   ]
  },
  {
   "cell_type": "code",
   "execution_count": 16,
   "metadata": {},
   "outputs": [],
   "source": [
    "# interact agent with environment\n",
    "for episode in range(10):\n",
    "    obs = env.reset()\n",
    "    done = False\n",
    "\n",
    "    while not done:\n",
    "        action = agent.predict_online(obs)\n",
    "        obs, reward, done, info = env.step(action)"
   ]
  },
  {
   "cell_type": "code",
   "execution_count": 17,
   "metadata": {},
   "outputs": [
    {
     "name": "stdout",
     "output_type": "stream",
     "text": [
      "Discrete(10)\n",
      "[ 0.1         0.16681005  0.27825594  0.46415888  0.77426368  1.29154967\n",
      "  2.15443469  3.59381366  5.9948425  10.        ]\n"
     ]
    }
   ],
   "source": [
    "print(env.action_space)\n",
    "print(env.action_meaning)"
   ]
  },
  {
   "cell_type": "markdown",
   "metadata": {},
   "source": [
    "For more about the customization of environmental configuration , please refer to [examples/quickstart/rtb_synthetic_customize_env.ipynb](https://github.com/negocia-inc/rtb_reinforcement_learing/blob/ope/examples/quickstart/rtb_synthetic_customize_env.ipynb)."
   ]
  },
  {
   "cell_type": "markdown",
   "metadata": {},
   "source": [
    "#### Online RL and comparison of the policies\n",
    "We now learn an online RL policy and compare it to random policy, using on-policy policy estimation."
   ]
  },
  {
   "cell_type": "code",
   "execution_count": 18,
   "metadata": {},
   "outputs": [],
   "source": [
    "from d3rlpy.algos import DoubleDQN\n",
    "from d3rlpy.models.encoders import VectorEncoderFactory\n",
    "from d3rlpy.models.q_functions import MeanQFunctionFactory\n",
    "from d3rlpy.online.buffers import ReplayBuffer\n",
    "from d3rlpy.online.explorers import LinearDecayEpsilonGreedy\n",
    "\n",
    "# model\n",
    "ddqn = DoubleDQN(\n",
    "    encoder_factory=VectorEncoderFactory(hidden_units=[30, 30]),\n",
    "    q_func_factory=MeanQFunctionFactory(),\n",
    "    target_update_interval=100,\n",
    "    use_gpu=torch.cuda.is_available(),\n",
    ")\n",
    "# replay buffer\n",
    "buffer = ReplayBuffer(\n",
    "    maxlen=10000,\n",
    "    env=env,\n",
    ")\n",
    "# explorers\n",
    "explorer = LinearDecayEpsilonGreedy(\n",
    "    start_epsilon=1.0,\n",
    "    end_epsilon=0.1,\n",
    "    duration=1000,\n",
    ")"
   ]
  },
  {
   "cell_type": "code",
   "execution_count": 19,
   "metadata": {},
   "outputs": [
    {
     "name": "stdout",
     "output_type": "stream",
     "text": [
      "2022-02-03 17:14.53 [info     ] Directory is created at d3rlpy_logs/DoubleDQN_online_20220203171453\n",
      "2022-02-03 17:14.53 [debug    ] Building model...\n",
      "2022-02-03 17:14.53 [debug    ] Model has been built.\n",
      "2022-02-03 17:14.53 [info     ] Parameters are saved to d3rlpy_logs/DoubleDQN_online_20220203171453/params.json params={'action_scaler': None, 'batch_size': 32, 'encoder_factory': {'type': 'vector', 'params': {'hidden_units': [100], 'activation': 'relu', 'use_batch_norm': False, 'dropout_rate': None, 'use_dense': False}}, 'gamma': 0.99, 'generated_maxlen': 100000, 'learning_rate': 6.25e-05, 'n_critics': 1, 'n_frames': 1, 'n_steps': 1, 'optim_factory': {'optim_cls': 'Adam', 'betas': (0.9, 0.999), 'eps': 1e-08, 'weight_decay': 0, 'amsgrad': False}, 'q_func_factory': {'type': 'mean', 'params': {'bootstrap': False, 'share_encoder': False}}, 'real_ratio': 1.0, 'reward_scaler': None, 'scaler': None, 'target_reduction_type': 'min', 'target_update_interval': 100, 'use_gpu': None, 'algorithm': 'DoubleDQN', 'observation_shape': (7,), 'action_size': 10}\n"
     ]
    },
    {
     "name": "stderr",
     "output_type": "stream",
     "text": [
      "  1%|          | 994/100000 [00:10<16:42, 98.72it/s] "
     ]
    },
    {
     "name": "stdout",
     "output_type": "stream",
     "text": [
      "2022-02-03 17:15.04 [info     ] Model parameters are saved to d3rlpy_logs/DoubleDQN_online_20220203171453/model_1000.pt\n",
      "2022-02-03 17:15.04 [info     ] DoubleDQN_online_20220203171453: epoch=1 step=1000 epoch=1 metrics={'time_inference': 0.00045168328285217287, 'time_environment_step': 0.0008871182032993861, 'time_step': 0.009698776245117188, 'rollout_return': 10.864, 'time_sample_batch': 9.980503767574068e-05, 'time_algorithm_update': 0.008601410242874922, 'loss': 213.9177170077093, 'evaluation': 0.0} step=1000\n"
     ]
    },
    {
     "name": "stderr",
     "output_type": "stream",
     "text": [
      "  2%|▏         | 1996/100000 [00:20<17:02, 95.83it/s] "
     ]
    },
    {
     "name": "stdout",
     "output_type": "stream",
     "text": [
      "2022-02-03 17:15.14 [info     ] Model parameters are saved to d3rlpy_logs/DoubleDQN_online_20220203171453/model_2000.pt\n",
      "2022-02-03 17:15.14 [info     ] DoubleDQN_online_20220203171453: epoch=2 step=2000 epoch=2 metrics={'time_inference': 0.00046465444564819337, 'time_environment_step': 0.0008177225930350167, 'time_sample_batch': 0.0001132807731628418, 'time_algorithm_update': 0.007668802976608277, 'loss': 50.3792523393631, 'time_step': 0.009041790008544923, 'rollout_return': 1.752, 'evaluation': 0.0} step=2000\n"
     ]
    },
    {
     "name": "stderr",
     "output_type": "stream",
     "text": [
      "  3%|▎         | 2991/100000 [00:30<15:07, 106.87it/s]"
     ]
    },
    {
     "name": "stdout",
     "output_type": "stream",
     "text": [
      "2022-02-03 17:15.24 [info     ] Model parameters are saved to d3rlpy_logs/DoubleDQN_online_20220203171453/model_3000.pt\n",
      "2022-02-03 17:15.25 [info     ] DoubleDQN_online_20220203171453: epoch=3 step=3000 epoch=3 metrics={'time_inference': 0.0004002273082733154, 'time_environment_step': 0.0008537041800362723, 'time_sample_batch': 0.00011604571342468262, 'time_algorithm_update': 0.007775055646896362, 'loss': 53.018105483531954, 'time_step': 0.009120753765106201, 'rollout_return': 1.72, 'evaluation': 0.2} step=3000\n"
     ]
    },
    {
     "name": "stderr",
     "output_type": "stream",
     "text": [
      "  4%|▍         | 3994/100000 [00:41<13:36, 117.59it/s]"
     ]
    },
    {
     "name": "stdout",
     "output_type": "stream",
     "text": [
      "2022-02-03 17:15.35 [info     ] Model parameters are saved to d3rlpy_logs/DoubleDQN_online_20220203171453/model_4000.pt\n",
      "2022-02-03 17:15.35 [info     ] DoubleDQN_online_20220203171453: epoch=4 step=4000 epoch=4 metrics={'time_inference': 0.00040642571449279785, 'time_environment_step': 0.0008405175890241351, 'time_sample_batch': 0.000106522798538208, 'time_algorithm_update': 0.007798205137252808, 'loss': 50.67048401999474, 'time_step': 0.009139295578002929, 'rollout_return': 2.032, 'evaluation': 0.0} step=4000\n"
     ]
    },
    {
     "name": "stderr",
     "output_type": "stream",
     "text": [
      "  5%|▍         | 4998/100000 [00:53<19:38, 80.59it/s] "
     ]
    },
    {
     "name": "stdout",
     "output_type": "stream",
     "text": [
      "2022-02-03 17:15.47 [info     ] Model parameters are saved to d3rlpy_logs/DoubleDQN_online_20220203171453/model_5000.pt\n",
      "2022-02-03 17:15.47 [info     ] DoubleDQN_online_20220203171453: epoch=5 step=5000 epoch=5 metrics={'time_inference': 0.0004915359020233154, 'time_environment_step': 0.0009180752890450614, 'time_sample_batch': 0.00012811994552612305, 'time_algorithm_update': 0.008995941877365111, 'loss': 47.49617808628082, 'time_step': 0.010497769355773926, 'rollout_return': 1.784, 'evaluation': 0.0} step=5000\n"
     ]
    },
    {
     "name": "stderr",
     "output_type": "stream",
     "text": [
      "  6%|▌         | 5998/100000 [01:04<17:23, 90.11it/s] "
     ]
    },
    {
     "name": "stdout",
     "output_type": "stream",
     "text": [
      "2022-02-03 17:15.58 [info     ] Model parameters are saved to d3rlpy_logs/DoubleDQN_online_20220203171453/model_6000.pt\n",
      "2022-02-03 17:15.58 [info     ] DoubleDQN_online_20220203171453: epoch=6 step=6000 epoch=6 metrics={'time_inference': 0.00040920090675354006, 'time_environment_step': 0.0008431036812918527, 'time_sample_batch': 0.0001307220458984375, 'time_algorithm_update': 0.008137474536895752, 'loss': 44.386196712732314, 'time_step': 0.00951350998878479, 'rollout_return': 1.544, 'evaluation': 0.0} step=6000\n"
     ]
    },
    {
     "name": "stderr",
     "output_type": "stream",
     "text": [
      "  7%|▋         | 6996/100000 [01:14<16:55, 91.60it/s] "
     ]
    },
    {
     "name": "stdout",
     "output_type": "stream",
     "text": [
      "2022-02-03 17:16.08 [info     ] Model parameters are saved to d3rlpy_logs/DoubleDQN_online_20220203171453/model_7000.pt\n",
      "2022-02-03 17:16.08 [info     ] DoubleDQN_online_20220203171453: epoch=7 step=7000 epoch=7 metrics={'time_inference': 0.0004260861873626709, 'time_environment_step': 0.0008325456891741072, 'time_sample_batch': 0.00010707807540893555, 'time_algorithm_update': 0.008348427534103394, 'loss': 39.00836175704002, 'time_step': 0.009687684535980224, 'rollout_return': 2.088, 'evaluation': 2.9} step=7000\n"
     ]
    },
    {
     "name": "stderr",
     "output_type": "stream",
     "text": [
      "  8%|▊         | 7993/100000 [01:24<15:41, 97.77it/s] "
     ]
    },
    {
     "name": "stdout",
     "output_type": "stream",
     "text": [
      "2022-02-03 17:16.19 [info     ] Model parameters are saved to d3rlpy_logs/DoubleDQN_online_20220203171453/model_8000.pt\n",
      "2022-02-03 17:16.19 [info     ] DoubleDQN_online_20220203171453: epoch=8 step=8000 epoch=8 metrics={'time_inference': 0.00038744330406188966, 'time_environment_step': 0.0008493586948939732, 'time_sample_batch': 0.0001405794620513916, 'time_algorithm_update': 0.007739867687225342, 'loss': 34.96017615556717, 'time_step': 0.009083296775817871, 'rollout_return': 1.456, 'evaluation': 0.0} step=8000\n"
     ]
    },
    {
     "name": "stderr",
     "output_type": "stream",
     "text": [
      "  9%|▉         | 8998/100000 [01:35<12:20, 122.87it/s]"
     ]
    },
    {
     "name": "stdout",
     "output_type": "stream",
     "text": [
      "2022-02-03 17:16.29 [info     ] Model parameters are saved to d3rlpy_logs/DoubleDQN_online_20220203171453/model_9000.pt\n",
      "2022-02-03 17:16.29 [info     ] DoubleDQN_online_20220203171453: epoch=9 step=9000 epoch=9 metrics={'time_inference': 0.0004161038398742676, 'time_environment_step': 0.0008954522269112724, 'time_sample_batch': 9.514474868774413e-05, 'time_algorithm_update': 0.007867462158203125, 'loss': 29.405389555573464, 'time_step': 0.009232107877731323, 'rollout_return': 1.92, 'evaluation': 0.0} step=9000\n"
     ]
    },
    {
     "name": "stderr",
     "output_type": "stream",
     "text": [
      " 10%|▉         | 9987/100000 [01:44<13:42, 109.45it/s]"
     ]
    },
    {
     "name": "stdout",
     "output_type": "stream",
     "text": [
      "2022-02-03 17:16.38 [info     ] Model parameters are saved to d3rlpy_logs/DoubleDQN_online_20220203171453/model_10000.pt\n",
      "2022-02-03 17:16.38 [info     ] DoubleDQN_online_20220203171453: epoch=10 step=10000 epoch=10 metrics={'time_inference': 0.0003875048160552979, 'time_environment_step': 0.0007823464529854911, 'time_sample_batch': 9.062051773071288e-05, 'time_algorithm_update': 0.007034571647644043, 'loss': 26.662804971456527, 'time_step': 0.00826198387145996, 'rollout_return': 1.608, 'evaluation': 0.9} step=10000\n"
     ]
    },
    {
     "name": "stderr",
     "output_type": "stream",
     "text": [
      " 11%|█         | 10991/100000 [01:53<10:46, 137.78it/s]"
     ]
    },
    {
     "name": "stdout",
     "output_type": "stream",
     "text": [
      "2022-02-03 17:16.47 [info     ] Model parameters are saved to d3rlpy_logs/DoubleDQN_online_20220203171453/model_11000.pt\n",
      "2022-02-03 17:16.47 [info     ] DoubleDQN_online_20220203171453: epoch=11 step=11000 epoch=11 metrics={'time_inference': 0.00038827776908874513, 'time_environment_step': 0.0007956472124372209, 'time_sample_batch': 9.246444702148438e-05, 'time_algorithm_update': 0.006595322847366333, 'loss': 24.29127259016037, 'time_step': 0.007832648277282715, 'rollout_return': 1.488, 'evaluation': 0.0} step=11000\n"
     ]
    },
    {
     "name": "stderr",
     "output_type": "stream",
     "text": [
      " 12%|█▏        | 11998/100000 [02:02<08:55, 164.30it/s]"
     ]
    },
    {
     "name": "stdout",
     "output_type": "stream",
     "text": [
      "2022-02-03 17:16.56 [info     ] Model parameters are saved to d3rlpy_logs/DoubleDQN_online_20220203171453/model_12000.pt\n",
      "2022-02-03 17:16.56 [info     ] DoubleDQN_online_20220203171453: epoch=12 step=12000 epoch=12 metrics={'time_inference': 0.00039400243759155274, 'time_environment_step': 0.0008197571890694754, 'time_sample_batch': 0.00010850238800048828, 'time_algorithm_update': 0.00688230299949646, 'loss': 21.61559864091873, 'time_step': 0.00817454171180725, 'rollout_return': 2.216, 'evaluation': 0.0} step=12000\n"
     ]
    },
    {
     "name": "stderr",
     "output_type": "stream",
     "text": [
      " 13%|█▎        | 12974/100000 [02:10<13:01, 111.42it/s]"
     ]
    },
    {
     "name": "stdout",
     "output_type": "stream",
     "text": [
      "2022-02-03 17:17.04 [info     ] Model parameters are saved to d3rlpy_logs/DoubleDQN_online_20220203171453/model_13000.pt\n",
      "2022-02-03 17:17.04 [info     ] DoubleDQN_online_20220203171453: epoch=13 step=13000 epoch=13 metrics={'time_inference': 0.0003780026435852051, 'time_environment_step': 0.0007510817391531808, 'time_sample_batch': 8.879303932189942e-05, 'time_algorithm_update': 0.00568865180015564, 'loss': 19.384154328882694, 'time_step': 0.006894197225570679, 'rollout_return': 1.592, 'evaluation': 0.8} step=13000\n"
     ]
    },
    {
     "name": "stderr",
     "output_type": "stream",
     "text": [
      " 14%|█▍        | 13989/100000 [02:20<09:03, 158.29it/s]"
     ]
    },
    {
     "name": "stdout",
     "output_type": "stream",
     "text": [
      "2022-02-03 17:17.13 [info     ] Model parameters are saved to d3rlpy_logs/DoubleDQN_online_20220203171453/model_14000.pt\n",
      "2022-02-03 17:17.14 [info     ] DoubleDQN_online_20220203171453: epoch=14 step=14000 epoch=14 metrics={'time_inference': 0.0003870887756347656, 'time_environment_step': 0.0008115643092564174, 'time_sample_batch': 0.00011152911186218261, 'time_algorithm_update': 0.007290859937667846, 'loss': 16.725334881603718, 'time_step': 0.008573943376541137, 'rollout_return': 1.936, 'evaluation': 0.0} step=14000\n"
     ]
    },
    {
     "name": "stderr",
     "output_type": "stream",
     "text": [
      " 15%|█▍        | 14988/100000 [02:28<11:20, 124.86it/s]"
     ]
    },
    {
     "name": "stdout",
     "output_type": "stream",
     "text": [
      "2022-02-03 17:17.22 [info     ] Model parameters are saved to d3rlpy_logs/DoubleDQN_online_20220203171453/model_15000.pt\n",
      "2022-02-03 17:17.22 [info     ] DoubleDQN_online_20220203171453: epoch=15 step=15000 epoch=15 metrics={'time_inference': 0.00034659886360168457, 'time_environment_step': 0.0007640691484723772, 'time_sample_batch': 9.910130500793457e-05, 'time_algorithm_update': 0.006143227338790893, 'loss': 13.971638477623463, 'time_step': 0.007319962739944458, 'rollout_return': 2.072, 'evaluation': 0.0} step=15000\n"
     ]
    },
    {
     "name": "stderr",
     "output_type": "stream",
     "text": [
      " 16%|█▌        | 15995/100000 [02:38<13:32, 103.36it/s]"
     ]
    },
    {
     "name": "stdout",
     "output_type": "stream",
     "text": [
      "2022-02-03 17:17.32 [info     ] Model parameters are saved to d3rlpy_logs/DoubleDQN_online_20220203171453/model_16000.pt\n",
      "2022-02-03 17:17.32 [info     ] DoubleDQN_online_20220203171453: epoch=16 step=16000 epoch=16 metrics={'time_inference': 0.00043695735931396484, 'time_environment_step': 0.0008223193032400949, 'time_sample_batch': 9.98525619506836e-05, 'time_algorithm_update': 0.007697953462600708, 'loss': 11.823113630712033, 'time_step': 0.009028915882110595, 'rollout_return': 2.344, 'evaluation': 0.0} step=16000\n"
     ]
    },
    {
     "name": "stderr",
     "output_type": "stream",
     "text": [
      " 17%|█▋        | 16997/100000 [02:47<11:11, 123.53it/s]"
     ]
    },
    {
     "name": "stdout",
     "output_type": "stream",
     "text": [
      "2022-02-03 17:17.41 [info     ] Model parameters are saved to d3rlpy_logs/DoubleDQN_online_20220203171453/model_17000.pt\n",
      "2022-02-03 17:17.41 [info     ] DoubleDQN_online_20220203171453: epoch=17 step=17000 epoch=17 metrics={'time_inference': 0.0003559212684631348, 'time_environment_step': 0.0008417527335030692, 'time_sample_batch': 9.295916557312012e-05, 'time_algorithm_update': 0.007010903358459473, 'loss': 9.761031002759934, 'time_step': 0.008260548830032348, 'rollout_return': 2.768, 'evaluation': 1.7} step=17000\n"
     ]
    },
    {
     "name": "stderr",
     "output_type": "stream",
     "text": [
      " 18%|█▊        | 17991/100000 [02:58<13:26, 101.65it/s]"
     ]
    },
    {
     "name": "stdout",
     "output_type": "stream",
     "text": [
      "2022-02-03 17:17.52 [info     ] Model parameters are saved to d3rlpy_logs/DoubleDQN_online_20220203171453/model_18000.pt\n",
      "2022-02-03 17:17.52 [info     ] DoubleDQN_online_20220203171453: epoch=18 step=18000 epoch=18 metrics={'time_inference': 0.0004192948341369629, 'time_environment_step': 0.0009131605965750558, 'time_sample_batch': 0.00011828851699829101, 'time_algorithm_update': 0.00823096466064453, 'loss': 8.22428313857317, 'time_step': 0.009633596420288087, 'rollout_return': 7.336, 'evaluation': 2.0} step=18000\n"
     ]
    },
    {
     "name": "stderr",
     "output_type": "stream",
     "text": [
      " 19%|█▉        | 18998/100000 [03:07<13:01, 103.69it/s]"
     ]
    },
    {
     "name": "stdout",
     "output_type": "stream",
     "text": [
      "2022-02-03 17:18.01 [info     ] Model parameters are saved to d3rlpy_logs/DoubleDQN_online_20220203171453/model_19000.pt\n",
      "2022-02-03 17:18.01 [info     ] DoubleDQN_online_20220203171453: epoch=19 step=19000 epoch=19 metrics={'time_inference': 0.0003515670299530029, 'time_environment_step': 0.0008213748931884766, 'time_sample_batch': 9.350371360778808e-05, 'time_algorithm_update': 0.006994029998779297, 'loss': 4.667827631890773, 'time_step': 0.008235295057296753, 'rollout_return': 12.208, 'evaluation': 15.9} step=19000\n"
     ]
    },
    {
     "name": "stderr",
     "output_type": "stream",
     "text": [
      " 20%|█▉        | 19992/100000 [03:17<13:12, 100.94it/s]"
     ]
    },
    {
     "name": "stdout",
     "output_type": "stream",
     "text": [
      "2022-02-03 17:18.11 [info     ] Model parameters are saved to d3rlpy_logs/DoubleDQN_online_20220203171453/model_20000.pt\n",
      "2022-02-03 17:18.11 [info     ] DoubleDQN_online_20220203171453: epoch=20 step=20000 epoch=20 metrics={'time_inference': 0.0004616024494171143, 'time_environment_step': 0.0009609960828508649, 'time_sample_batch': 0.0001262803077697754, 'time_algorithm_update': 0.007508216857910156, 'loss': 3.297128836840391, 'time_step': 0.009006856203079224, 'rollout_return': 12.848, 'evaluation': 16.4} step=20000\n"
     ]
    },
    {
     "name": "stderr",
     "output_type": "stream",
     "text": [
      " 21%|██        | 20997/100000 [03:27<12:58, 101.52it/s]"
     ]
    },
    {
     "name": "stdout",
     "output_type": "stream",
     "text": [
      "2022-02-03 17:18.21 [info     ] Model parameters are saved to d3rlpy_logs/DoubleDQN_online_20220203171453/model_21000.pt\n",
      "2022-02-03 17:18.21 [info     ] DoubleDQN_online_20220203171453: epoch=21 step=21000 epoch=21 metrics={'time_inference': 0.0003716168403625488, 'time_environment_step': 0.0008837781633649553, 'time_sample_batch': 0.00013216924667358397, 'time_algorithm_update': 0.007134204626083374, 'loss': 3.5770653668642045, 'time_step': 0.008498043537139892, 'rollout_return': 12.448, 'evaluation': 15.1} step=21000\n"
     ]
    },
    {
     "name": "stderr",
     "output_type": "stream",
     "text": [
      " 22%|██▏       | 21993/100000 [03:38<11:47, 110.24it/s]"
     ]
    },
    {
     "name": "stdout",
     "output_type": "stream",
     "text": [
      "2022-02-03 17:18.32 [info     ] Model parameters are saved to d3rlpy_logs/DoubleDQN_online_20220203171453/model_22000.pt\n",
      "2022-02-03 17:18.32 [info     ] DoubleDQN_online_20220203171453: epoch=22 step=22000 epoch=22 metrics={'time_inference': 0.00047014498710632325, 'time_environment_step': 0.0008781397683279854, 'time_sample_batch': 0.00012493586540222168, 'time_algorithm_update': 0.008220206499099731, 'loss': 3.2713939586877823, 'time_step': 0.009653326988220214, 'rollout_return': 11.568, 'evaluation': 11.7} step=22000\n"
     ]
    },
    {
     "name": "stderr",
     "output_type": "stream",
     "text": [
      " 23%|██▎       | 22994/100000 [03:48<11:36, 110.54it/s]"
     ]
    },
    {
     "name": "stdout",
     "output_type": "stream",
     "text": [
      "2022-02-03 17:18.42 [info     ] Model parameters are saved to d3rlpy_logs/DoubleDQN_online_20220203171453/model_23000.pt\n",
      "2022-02-03 17:18.42 [info     ] DoubleDQN_online_20220203171453: epoch=23 step=23000 epoch=23 metrics={'time_inference': 0.00039872074127197265, 'time_environment_step': 0.0009020729064941407, 'time_sample_batch': 0.0001396632194519043, 'time_algorithm_update': 0.00777561616897583, 'loss': 3.5972590856552125, 'time_step': 0.009195702314376832, 'rollout_return': 11.384, 'evaluation': 14.5} step=23000\n"
     ]
    },
    {
     "name": "stderr",
     "output_type": "stream",
     "text": [
      " 24%|██▍       | 23996/100000 [03:59<19:05, 66.36it/s] "
     ]
    },
    {
     "name": "stdout",
     "output_type": "stream",
     "text": [
      "2022-02-03 17:18.53 [info     ] Model parameters are saved to d3rlpy_logs/DoubleDQN_online_20220203171453/model_24000.pt\n",
      "2022-02-03 17:18.53 [info     ] DoubleDQN_online_20220203171453: epoch=24 step=24000 epoch=24 metrics={'time_inference': 0.0004262397289276123, 'time_environment_step': 0.0008297808510916573, 'time_sample_batch': 0.00013256335258483886, 'time_algorithm_update': 0.008176671266555786, 'loss': 2.618734526574612, 'time_step': 0.009529066801071167, 'rollout_return': 12.384, 'evaluation': 13.9} step=24000\n"
     ]
    },
    {
     "name": "stderr",
     "output_type": "stream",
     "text": [
      " 25%|██▍       | 24988/100000 [04:09<14:22, 86.93it/s] "
     ]
    },
    {
     "name": "stdout",
     "output_type": "stream",
     "text": [
      "2022-02-03 17:19.04 [info     ] Model parameters are saved to d3rlpy_logs/DoubleDQN_online_20220203171453/model_25000.pt\n",
      "2022-02-03 17:19.04 [info     ] DoubleDQN_online_20220203171453: epoch=25 step=25000 epoch=25 metrics={'time_inference': 0.00040617752075195314, 'time_environment_step': 0.0008265021187918527, 'time_sample_batch': 0.0001242690086364746, 'time_algorithm_update': 0.008025530099868774, 'loss': 2.796754866242409, 'time_step': 0.009404357433319091, 'rollout_return': 13.784, 'evaluation': 0.0} step=25000\n"
     ]
    },
    {
     "name": "stderr",
     "output_type": "stream",
     "text": [
      " 26%|██▌       | 25995/100000 [04:21<14:55, 82.69it/s] "
     ]
    },
    {
     "name": "stdout",
     "output_type": "stream",
     "text": [
      "2022-02-03 17:19.15 [info     ] Model parameters are saved to d3rlpy_logs/DoubleDQN_online_20220203171453/model_26000.pt\n",
      "2022-02-03 17:19.15 [info     ] DoubleDQN_online_20220203171453: epoch=26 step=26000 epoch=26 metrics={'time_inference': 0.00047141623497009275, 'time_environment_step': 0.0009550530569893973, 'time_sample_batch': 0.0001187000274658203, 'time_algorithm_update': 0.008854219913482666, 'loss': 2.6438014402985575, 'time_step': 0.010390910148620605, 'rollout_return': 13.504, 'evaluation': 12.3} step=26000\n"
     ]
    },
    {
     "name": "stderr",
     "output_type": "stream",
     "text": [
      " 27%|██▋       | 26997/100000 [04:31<16:03, 75.74it/s] "
     ]
    },
    {
     "name": "stdout",
     "output_type": "stream",
     "text": [
      "2022-02-03 17:19.25 [info     ] Model parameters are saved to d3rlpy_logs/DoubleDQN_online_20220203171453/model_27000.pt\n",
      "2022-02-03 17:19.25 [info     ] DoubleDQN_online_20220203171453: epoch=27 step=27000 epoch=27 metrics={'time_inference': 0.00045044779777526857, 'time_environment_step': 0.0008953260694231305, 'time_sample_batch': 0.00011566019058227538, 'time_algorithm_update': 0.007311442136764526, 'loss': 2.406523970901966, 'time_step': 0.00875036120414734, 'rollout_return': 11.192, 'evaluation': 17.7} step=27000\n"
     ]
    },
    {
     "name": "stderr",
     "output_type": "stream",
     "text": [
      " 28%|██▊       | 27992/100000 [04:42<15:10, 79.12it/s] "
     ]
    },
    {
     "name": "stdout",
     "output_type": "stream",
     "text": [
      "2022-02-03 17:19.36 [info     ] Model parameters are saved to d3rlpy_logs/DoubleDQN_online_20220203171453/model_28000.pt\n",
      "2022-02-03 17:19.36 [info     ] DoubleDQN_online_20220203171453: epoch=28 step=28000 epoch=28 metrics={'time_inference': 0.0004922261238098144, 'time_environment_step': 0.0009024162292480468, 'time_sample_batch': 9.984612464904786e-05, 'time_algorithm_update': 0.007859091281890869, 'loss': 2.422092879295349, 'time_step': 0.00932012128829956, 'rollout_return': 12.984, 'evaluation': 0.0} step=28000\n"
     ]
    },
    {
     "name": "stderr",
     "output_type": "stream",
     "text": [
      " 29%|██▉       | 28993/100000 [04:51<11:34, 102.17it/s]"
     ]
    },
    {
     "name": "stdout",
     "output_type": "stream",
     "text": [
      "2022-02-03 17:19.45 [info     ] Model parameters are saved to d3rlpy_logs/DoubleDQN_online_20220203171453/model_29000.pt\n",
      "2022-02-03 17:19.45 [info     ] DoubleDQN_online_20220203171453: epoch=29 step=29000 epoch=29 metrics={'time_inference': 0.0003984215259552002, 'time_environment_step': 0.000870021002633231, 'time_sample_batch': 0.00010849738121032715, 'time_algorithm_update': 0.006726525783538819, 'loss': 2.2200538798570633, 'time_step': 0.00807830572128296, 'rollout_return': 12.328, 'evaluation': 8.0} step=29000\n"
     ]
    },
    {
     "name": "stderr",
     "output_type": "stream",
     "text": [
      " 30%|██▉       | 29986/100000 [05:00<08:37, 135.21it/s]"
     ]
    },
    {
     "name": "stdout",
     "output_type": "stream",
     "text": [
      "2022-02-03 17:19.54 [info     ] Model parameters are saved to d3rlpy_logs/DoubleDQN_online_20220203171453/model_30000.pt\n",
      "2022-02-03 17:19.54 [info     ] DoubleDQN_online_20220203171453: epoch=30 step=30000 epoch=30 metrics={'time_inference': 0.00043044400215148926, 'time_environment_step': 0.0008726727621895926, 'time_sample_batch': 0.00010764050483703613, 'time_algorithm_update': 0.007015841245651245, 'loss': 2.1299560651779177, 'time_step': 0.00840271234512329, 'rollout_return': 11.784, 'evaluation': 13.8} step=30000\n"
     ]
    },
    {
     "name": "stderr",
     "output_type": "stream",
     "text": [
      " 31%|███       | 30994/100000 [05:12<15:18, 75.16it/s] "
     ]
    },
    {
     "name": "stdout",
     "output_type": "stream",
     "text": [
      "2022-02-03 17:20.06 [info     ] Model parameters are saved to d3rlpy_logs/DoubleDQN_online_20220203171453/model_31000.pt\n",
      "2022-02-03 17:20.06 [info     ] DoubleDQN_online_20220203171453: epoch=31 step=31000 epoch=31 metrics={'time_inference': 0.00040988469123840333, 'time_environment_step': 0.0008586826324462891, 'time_sample_batch': 0.00011538028717041016, 'time_algorithm_update': 0.009377864837646485, 'loss': 2.309942617058754, 'time_step': 0.010733609676361083, 'rollout_return': 12.112, 'evaluation': 14.2} step=31000\n"
     ]
    },
    {
     "name": "stderr",
     "output_type": "stream",
     "text": [
      " 32%|███▏      | 31994/100000 [05:24<10:14, 110.75it/s]"
     ]
    },
    {
     "name": "stdout",
     "output_type": "stream",
     "text": [
      "2022-02-03 17:20.17 [info     ] Model parameters are saved to d3rlpy_logs/DoubleDQN_online_20220203171453/model_32000.pt\n",
      "2022-02-03 17:20.18 [info     ] DoubleDQN_online_20220203171453: epoch=32 step=32000 epoch=32 metrics={'time_inference': 0.00045285820960998534, 'time_environment_step': 0.0008624657222202846, 'time_sample_batch': 0.00011413455009460449, 'time_algorithm_update': 0.008609289407730102, 'loss': 2.0880705391168592, 'time_step': 0.01005510139465332, 'rollout_return': 13.872, 'evaluation': 0.0} step=32000\n"
     ]
    },
    {
     "name": "stderr",
     "output_type": "stream",
     "text": [
      " 33%|███▎      | 32993/100000 [05:33<09:02, 123.49it/s]"
     ]
    },
    {
     "name": "stdout",
     "output_type": "stream",
     "text": [
      "2022-02-03 17:20.27 [info     ] Model parameters are saved to d3rlpy_logs/DoubleDQN_online_20220203171453/model_33000.pt\n",
      "2022-02-03 17:20.27 [info     ] DoubleDQN_online_20220203171453: epoch=33 step=33000 epoch=33 metrics={'time_inference': 0.0003612964153289795, 'time_environment_step': 0.0008508216312953404, 'time_sample_batch': 0.00010952210426330567, 'time_algorithm_update': 0.0067827608585357664, 'loss': 2.891704255640507, 'time_step': 0.008062978267669678, 'rollout_return': 11.08, 'evaluation': 18.2} step=33000\n"
     ]
    },
    {
     "name": "stderr",
     "output_type": "stream",
     "text": [
      " 34%|███▍      | 33988/100000 [05:42<09:59, 110.03it/s]"
     ]
    },
    {
     "name": "stdout",
     "output_type": "stream",
     "text": [
      "2022-02-03 17:20.36 [info     ] Model parameters are saved to d3rlpy_logs/DoubleDQN_online_20220203171453/model_34000.pt\n",
      "2022-02-03 17:20.36 [info     ] DoubleDQN_online_20220203171453: epoch=34 step=34000 epoch=34 metrics={'time_inference': 0.00036103296279907225, 'time_environment_step': 0.0007893736703055245, 'time_sample_batch': 0.0001032423973083496, 'time_algorithm_update': 0.007229973793029785, 'loss': 2.354400548040867, 'time_step': 0.008457650661468506, 'rollout_return': 12.464, 'evaluation': 16.3} step=34000\n"
     ]
    },
    {
     "name": "stderr",
     "output_type": "stream",
     "text": [
      " 35%|███▍      | 34997/100000 [05:53<10:46, 100.51it/s]"
     ]
    },
    {
     "name": "stdout",
     "output_type": "stream",
     "text": [
      "2022-02-03 17:20.47 [info     ] Model parameters are saved to d3rlpy_logs/DoubleDQN_online_20220203171453/model_35000.pt\n",
      "2022-02-03 17:20.47 [info     ] DoubleDQN_online_20220203171453: epoch=35 step=35000 epoch=35 metrics={'time_inference': 0.0004178287982940674, 'time_environment_step': 0.0008657346452985491, 'time_sample_batch': 0.00010807132720947265, 'time_algorithm_update': 0.008056578397750855, 'loss': 2.3642468965649606, 'time_step': 0.009414934873580933, 'rollout_return': 13.296, 'evaluation': 15.2} step=35000\n"
     ]
    },
    {
     "name": "stderr",
     "output_type": "stream",
     "text": [
      " 36%|███▌      | 35996/100000 [06:03<09:56, 107.27it/s]"
     ]
    },
    {
     "name": "stdout",
     "output_type": "stream",
     "text": [
      "2022-02-03 17:20.57 [info     ] Model parameters are saved to d3rlpy_logs/DoubleDQN_online_20220203171453/model_36000.pt\n",
      "2022-02-03 17:20.57 [info     ] DoubleDQN_online_20220203171453: epoch=36 step=36000 epoch=36 metrics={'time_inference': 0.0003667666912078857, 'time_environment_step': 0.000899327141898019, 'time_sample_batch': 9.510946273803711e-05, 'time_algorithm_update': 0.00768049931526184, 'loss': 2.4331781705617903, 'time_step': 0.009037287712097167, 'rollout_return': 12.864, 'evaluation': 14.7} step=36000\n"
     ]
    },
    {
     "name": "stderr",
     "output_type": "stream",
     "text": [
      " 37%|███▋      | 36985/100000 [06:12<07:54, 132.76it/s]"
     ]
    },
    {
     "name": "stdout",
     "output_type": "stream",
     "text": [
      "2022-02-03 17:21.06 [info     ] Model parameters are saved to d3rlpy_logs/DoubleDQN_online_20220203171453/model_37000.pt\n",
      "2022-02-03 17:21.06 [info     ] DoubleDQN_online_20220203171453: epoch=37 step=37000 epoch=37 metrics={'time_inference': 0.0003416752815246582, 'time_environment_step': 0.0008302004677908761, 'time_sample_batch': 0.00010338926315307618, 'time_algorithm_update': 0.007200495958328247, 'loss': 1.8693152645826339, 'time_step': 0.008434764385223389, 'rollout_return': 12.584, 'evaluation': 15.4} step=37000\n"
     ]
    },
    {
     "name": "stderr",
     "output_type": "stream",
     "text": [
      " 38%|███▊      | 37987/100000 [06:23<10:59, 94.01it/s] "
     ]
    },
    {
     "name": "stdout",
     "output_type": "stream",
     "text": [
      "2022-02-03 17:21.17 [info     ] Model parameters are saved to d3rlpy_logs/DoubleDQN_online_20220203171453/model_38000.pt\n",
      "2022-02-03 17:21.17 [info     ] DoubleDQN_online_20220203171453: epoch=38 step=38000 epoch=38 metrics={'time_inference': 0.00043999648094177247, 'time_environment_step': 0.0009156036376953125, 'time_sample_batch': 9.463763236999512e-05, 'time_algorithm_update': 0.008281158447265626, 'loss': 2.141523952960968, 'time_step': 0.009714930295944214, 'rollout_return': 13.008, 'evaluation': 13.3} step=38000\n"
     ]
    },
    {
     "name": "stderr",
     "output_type": "stream",
     "text": [
      " 39%|███▉      | 38998/100000 [06:33<08:00, 126.93it/s]"
     ]
    },
    {
     "name": "stdout",
     "output_type": "stream",
     "text": [
      "2022-02-03 17:21.26 [info     ] Model parameters are saved to d3rlpy_logs/DoubleDQN_online_20220203171453/model_39000.pt\n",
      "2022-02-03 17:21.26 [info     ] DoubleDQN_online_20220203171453: epoch=39 step=39000 epoch=39 metrics={'time_inference': 0.000369051456451416, 'time_environment_step': 0.0007522234235491071, 'time_sample_batch': 0.00010272121429443359, 'time_algorithm_update': 0.00699194860458374, 'loss': 1.9926712983846664, 'time_step': 0.00818682336807251, 'rollout_return': 12.408, 'evaluation': 3.5} step=39000\n"
     ]
    },
    {
     "name": "stderr",
     "output_type": "stream",
     "text": [
      " 40%|███▉      | 39988/100000 [06:42<07:37, 131.31it/s]"
     ]
    },
    {
     "name": "stdout",
     "output_type": "stream",
     "text": [
      "2022-02-03 17:21.36 [info     ] Model parameters are saved to d3rlpy_logs/DoubleDQN_online_20220203171453/model_40000.pt\n",
      "2022-02-03 17:21.36 [info     ] DoubleDQN_online_20220203171453: epoch=40 step=40000 epoch=40 metrics={'time_inference': 0.00037175345420837404, 'time_environment_step': 0.0008158463069370815, 'time_sample_batch': 0.00012633371353149413, 'time_algorithm_update': 0.006907692909240723, 'loss': 2.071313737332821, 'time_step': 0.008199885845184326, 'rollout_return': 12.536, 'evaluation': 13.1} step=40000\n"
     ]
    },
    {
     "name": "stderr",
     "output_type": "stream",
     "text": [
      " 41%|████      | 40990/100000 [06:51<06:35, 149.17it/s]"
     ]
    },
    {
     "name": "stdout",
     "output_type": "stream",
     "text": [
      "2022-02-03 17:21.45 [info     ] Model parameters are saved to d3rlpy_logs/DoubleDQN_online_20220203171453/model_41000.pt\n",
      "2022-02-03 17:21.45 [info     ] DoubleDQN_online_20220203171453: epoch=41 step=41000 epoch=41 metrics={'time_inference': 0.0004031140804290771, 'time_environment_step': 0.0007971690041678292, 'time_sample_batch': 0.00011039543151855468, 'time_algorithm_update': 0.006851511478424072, 'loss': 2.30189025747776, 'time_step': 0.00812437915802002, 'rollout_return': 12.968, 'evaluation': 14.7} step=41000\n"
     ]
    },
    {
     "name": "stderr",
     "output_type": "stream",
     "text": [
      " 42%|████▏     | 41991/100000 [07:01<09:38, 100.27it/s]"
     ]
    },
    {
     "name": "stdout",
     "output_type": "stream",
     "text": [
      "2022-02-03 17:21.55 [info     ] Model parameters are saved to d3rlpy_logs/DoubleDQN_online_20220203171453/model_42000.pt\n",
      "2022-02-03 17:21.55 [info     ] DoubleDQN_online_20220203171453: epoch=42 step=42000 epoch=42 metrics={'time_inference': 0.0004075789451599121, 'time_environment_step': 0.0008673112051827567, 'time_sample_batch': 0.00010348892211914063, 'time_algorithm_update': 0.00807340145111084, 'loss': 2.1932125698328018, 'time_step': 0.009417146921157837, 'rollout_return': 12.672, 'evaluation': 0.0} step=42000\n"
     ]
    },
    {
     "name": "stderr",
     "output_type": "stream",
     "text": [
      " 43%|████▎     | 42992/100000 [07:09<08:44, 108.77it/s]"
     ]
    },
    {
     "name": "stdout",
     "output_type": "stream",
     "text": [
      "2022-02-03 17:22.03 [info     ] Model parameters are saved to d3rlpy_logs/DoubleDQN_online_20220203171453/model_43000.pt\n",
      "2022-02-03 17:22.03 [info     ] DoubleDQN_online_20220203171453: epoch=43 step=43000 epoch=43 metrics={'time_inference': 0.0003609554767608643, 'time_environment_step': 0.0007693413325718471, 'time_sample_batch': 9.154105186462403e-05, 'time_algorithm_update': 0.005395952701568603, 'loss': 2.061603399991989, 'time_step': 0.006583087682723999, 'rollout_return': 13.488, 'evaluation': 14.8} step=43000\n"
     ]
    },
    {
     "name": "stderr",
     "output_type": "stream",
     "text": [
      " 44%|████▍     | 43995/100000 [07:18<07:34, 123.24it/s]"
     ]
    },
    {
     "name": "stdout",
     "output_type": "stream",
     "text": [
      "2022-02-03 17:22.12 [info     ] Model parameters are saved to d3rlpy_logs/DoubleDQN_online_20220203171453/model_44000.pt\n",
      "2022-02-03 17:22.12 [info     ] DoubleDQN_online_20220203171453: epoch=44 step=44000 epoch=44 metrics={'time_inference': 0.00036991214752197263, 'time_environment_step': 0.0007716860089983259, 'time_sample_batch': 0.00014343357086181642, 'time_algorithm_update': 0.006563378095626831, 'loss': 2.3015889022350313, 'time_step': 0.007836570978164674, 'rollout_return': 11.224, 'evaluation': 13.6} step=44000\n"
     ]
    },
    {
     "name": "stderr",
     "output_type": "stream",
     "text": [
      " 45%|████▍     | 44994/100000 [07:28<09:48, 93.51it/s] "
     ]
    },
    {
     "name": "stdout",
     "output_type": "stream",
     "text": [
      "2022-02-03 17:22.22 [info     ] Model parameters are saved to d3rlpy_logs/DoubleDQN_online_20220203171453/model_45000.pt\n",
      "2022-02-03 17:22.22 [info     ] DoubleDQN_online_20220203171453: epoch=45 step=45000 epoch=45 metrics={'time_inference': 0.0003983018398284912, 'time_environment_step': 0.0008118727547781808, 'time_sample_batch': 0.00010466909408569336, 'time_algorithm_update': 0.008224032878875732, 'loss': 1.8985433609485627, 'time_step': 0.00951203989982605, 'rollout_return': 13.312, 'evaluation': 13.5} step=45000\n"
     ]
    },
    {
     "name": "stderr",
     "output_type": "stream",
     "text": [
      " 46%|████▌     | 45997/100000 [07:38<13:00, 69.21it/s] "
     ]
    },
    {
     "name": "stdout",
     "output_type": "stream",
     "text": [
      "2022-02-03 17:22.32 [info     ] Model parameters are saved to d3rlpy_logs/DoubleDQN_online_20220203171453/model_46000.pt\n",
      "2022-02-03 17:22.32 [info     ] DoubleDQN_online_20220203171453: epoch=46 step=46000 epoch=46 metrics={'time_inference': 0.0004142484664916992, 'time_environment_step': 0.0007979932512555803, 'time_sample_batch': 0.00010396671295166015, 'time_algorithm_update': 0.007134454011917114, 'loss': 1.7312347351312638, 'time_step': 0.008436757802963256, 'rollout_return': 14.2, 'evaluation': 13.9} step=46000\n"
     ]
    },
    {
     "name": "stderr",
     "output_type": "stream",
     "text": [
      " 47%|████▋     | 46986/100000 [07:47<08:13, 107.42it/s]"
     ]
    },
    {
     "name": "stdout",
     "output_type": "stream",
     "text": [
      "2022-02-03 17:22.41 [info     ] Model parameters are saved to d3rlpy_logs/DoubleDQN_online_20220203171453/model_47000.pt\n",
      "2022-02-03 17:22.42 [info     ] DoubleDQN_online_20220203171453: epoch=47 step=47000 epoch=47 metrics={'time_inference': 0.00039792442321777346, 'time_environment_step': 0.0007383490971156529, 'time_sample_batch': 0.0001066434383392334, 'time_algorithm_update': 0.007173893451690674, 'loss': 1.9710298836827278, 'time_step': 0.008387996673583984, 'rollout_return': 13.56, 'evaluation': 16.8} step=47000\n"
     ]
    },
    {
     "name": "stderr",
     "output_type": "stream",
     "text": [
      " 48%|████▊     | 47995/100000 [07:58<06:48, 127.25it/s]"
     ]
    },
    {
     "name": "stdout",
     "output_type": "stream",
     "text": [
      "2022-02-03 17:22.52 [info     ] Model parameters are saved to d3rlpy_logs/DoubleDQN_online_20220203171453/model_48000.pt\n",
      "2022-02-03 17:22.52 [info     ] DoubleDQN_online_20220203171453: epoch=48 step=48000 epoch=48 metrics={'time_inference': 0.0004255671501159668, 'time_environment_step': 0.0008977898188999721, 'time_sample_batch': 0.00011260581016540527, 'time_algorithm_update': 0.007567011594772339, 'loss': 1.9607927152514457, 'time_step': 0.009027226209640502, 'rollout_return': 13.296, 'evaluation': 16.3} step=48000\n"
     ]
    },
    {
     "name": "stderr",
     "output_type": "stream",
     "text": [
      " 49%|████▉     | 48994/100000 [08:08<09:02, 94.07it/s] "
     ]
    },
    {
     "name": "stdout",
     "output_type": "stream",
     "text": [
      "2022-02-03 17:23.02 [info     ] Model parameters are saved to d3rlpy_logs/DoubleDQN_online_20220203171453/model_49000.pt\n",
      "2022-02-03 17:23.02 [info     ] DoubleDQN_online_20220203171453: epoch=49 step=49000 epoch=49 metrics={'time_inference': 0.00043905854225158693, 'time_environment_step': 0.0008274023873465401, 'time_sample_batch': 0.00011742901802062989, 'time_algorithm_update': 0.008107035636901856, 'loss': 2.133874420106411, 'time_step': 0.009466538190841674, 'rollout_return': 12.36, 'evaluation': 16.5} step=49000\n"
     ]
    },
    {
     "name": "stderr",
     "output_type": "stream",
     "text": [
      " 50%|████▉     | 49987/100000 [08:18<08:30, 97.99it/s] "
     ]
    },
    {
     "name": "stdout",
     "output_type": "stream",
     "text": [
      "2022-02-03 17:23.12 [info     ] Model parameters are saved to d3rlpy_logs/DoubleDQN_online_20220203171453/model_50000.pt\n",
      "2022-02-03 17:23.12 [info     ] DoubleDQN_online_20220203171453: epoch=50 step=50000 epoch=50 metrics={'time_inference': 0.0003549904823303223, 'time_environment_step': 0.0008945143563406808, 'time_sample_batch': 0.00011183118820190429, 'time_algorithm_update': 0.007755384445190429, 'loss': 1.9328306861519813, 'time_step': 0.009092424869537354, 'rollout_return': 13.392, 'evaluation': 13.0} step=50000\n"
     ]
    },
    {
     "name": "stderr",
     "output_type": "stream",
     "text": [
      " 51%|█████     | 50989/100000 [08:29<09:07, 89.48it/s] "
     ]
    },
    {
     "name": "stdout",
     "output_type": "stream",
     "text": [
      "2022-02-03 17:23.23 [info     ] Model parameters are saved to d3rlpy_logs/DoubleDQN_online_20220203171453/model_51000.pt\n",
      "2022-02-03 17:23.23 [info     ] DoubleDQN_online_20220203171453: epoch=51 step=51000 epoch=51 metrics={'time_inference': 0.00038574910163879396, 'time_environment_step': 0.0009260798863002232, 'time_sample_batch': 9.945225715637207e-05, 'time_algorithm_update': 0.008071549415588379, 'loss': 1.8791498410403729, 'time_step': 0.009443872690200805, 'rollout_return': 13.584, 'evaluation': 16.8} step=51000\n"
     ]
    },
    {
     "name": "stderr",
     "output_type": "stream",
     "text": [
      " 52%|█████▏    | 51999/100000 [08:39<07:15, 110.14it/s]"
     ]
    },
    {
     "name": "stdout",
     "output_type": "stream",
     "text": [
      "2022-02-03 17:23.33 [info     ] Model parameters are saved to d3rlpy_logs/DoubleDQN_online_20220203171453/model_52000.pt\n",
      "2022-02-03 17:23.33 [info     ] DoubleDQN_online_20220203171453: epoch=52 step=52000 epoch=52 metrics={'time_inference': 0.00038090181350708006, 'time_environment_step': 0.0008096038273402623, 'time_sample_batch': 0.00013748884201049804, 'time_algorithm_update': 0.0072842128276824954, 'loss': 1.7764168587327003, 'time_step': 0.008577280282974243, 'rollout_return': 12.792, 'evaluation': 0.0} step=52000\n"
     ]
    },
    {
     "name": "stderr",
     "output_type": "stream",
     "text": [
      " 53%|█████▎    | 52997/100000 [08:47<05:19, 147.30it/s]"
     ]
    },
    {
     "name": "stdout",
     "output_type": "stream",
     "text": [
      "2022-02-03 17:23.41 [info     ] Model parameters are saved to d3rlpy_logs/DoubleDQN_online_20220203171453/model_53000.pt\n",
      "2022-02-03 17:23.41 [info     ] DoubleDQN_online_20220203171453: epoch=53 step=53000 epoch=53 metrics={'time_inference': 0.00037496423721313475, 'time_environment_step': 0.0008114305223737444, 'time_sample_batch': 0.00011154651641845703, 'time_algorithm_update': 0.006261137962341309, 'loss': 1.9503303254842759, 'time_step': 0.007531585216522217, 'rollout_return': 13.328, 'evaluation': 14.5} step=53000\n"
     ]
    },
    {
     "name": "stderr",
     "output_type": "stream",
     "text": [
      " 54%|█████▍    | 53999/100000 [08:56<07:23, 103.83it/s]"
     ]
    },
    {
     "name": "stdout",
     "output_type": "stream",
     "text": [
      "2022-02-03 17:23.50 [info     ] Model parameters are saved to d3rlpy_logs/DoubleDQN_online_20220203171453/model_54000.pt\n",
      "2022-02-03 17:23.50 [info     ] DoubleDQN_online_20220203171453: epoch=54 step=54000 epoch=54 metrics={'time_inference': 0.00036428284645080567, 'time_environment_step': 0.0007164263044084822, 'time_sample_batch': 9.645414352416992e-05, 'time_algorithm_update': 0.006829430341720581, 'loss': 1.9516662955880164, 'time_step': 0.007977124452590943, 'rollout_return': 12.36, 'evaluation': 16.6} step=54000\n"
     ]
    },
    {
     "name": "stderr",
     "output_type": "stream",
     "text": [
      " 55%|█████▍    | 54991/100000 [09:06<06:04, 123.61it/s]"
     ]
    },
    {
     "name": "stdout",
     "output_type": "stream",
     "text": [
      "2022-02-03 17:24.00 [info     ] Model parameters are saved to d3rlpy_logs/DoubleDQN_online_20220203171453/model_55000.pt\n",
      "2022-02-03 17:24.00 [info     ] DoubleDQN_online_20220203171453: epoch=55 step=55000 epoch=55 metrics={'time_inference': 0.0003882877826690674, 'time_environment_step': 0.0007975019727434431, 'time_sample_batch': 9.269571304321289e-05, 'time_algorithm_update': 0.0077768323421478274, 'loss': 2.0544811479449274, 'time_step': 0.009042965173721313, 'rollout_return': 12.296, 'evaluation': 17.0} step=55000\n"
     ]
    },
    {
     "name": "stderr",
     "output_type": "stream",
     "text": [
      " 56%|█████▌    | 55997/100000 [09:16<05:45, 127.35it/s]"
     ]
    },
    {
     "name": "stdout",
     "output_type": "stream",
     "text": [
      "2022-02-03 17:24.10 [info     ] Model parameters are saved to d3rlpy_logs/DoubleDQN_online_20220203171453/model_56000.pt\n",
      "2022-02-03 17:24.10 [info     ] DoubleDQN_online_20220203171453: epoch=56 step=56000 epoch=56 metrics={'time_inference': 0.0003469276428222656, 'time_environment_step': 0.0008349710191999163, 'time_sample_batch': 0.00012653303146362304, 'time_algorithm_update': 0.007737123012542725, 'loss': 1.8790862624049187, 'time_step': 0.00901465129852295, 'rollout_return': 14.08, 'evaluation': 11.3} step=56000\n"
     ]
    },
    {
     "name": "stderr",
     "output_type": "stream",
     "text": [
      " 57%|█████▋    | 56977/100000 [09:26<04:14, 168.81it/s]"
     ]
    },
    {
     "name": "stdout",
     "output_type": "stream",
     "text": [
      "2022-02-03 17:24.20 [info     ] Model parameters are saved to d3rlpy_logs/DoubleDQN_online_20220203171453/model_57000.pt\n",
      "2022-02-03 17:24.20 [info     ] DoubleDQN_online_20220203171453: epoch=57 step=57000 epoch=57 metrics={'time_inference': 0.000390491247177124, 'time_environment_step': 0.0008584572928292411, 'time_sample_batch': 0.0001387777328491211, 'time_algorithm_update': 0.007276965379714966, 'loss': 1.8856768559217454, 'time_step': 0.008658170700073242, 'rollout_return': 13.024, 'evaluation': 14.3} step=57000\n"
     ]
    },
    {
     "name": "stderr",
     "output_type": "stream",
     "text": [
      " 58%|█████▊    | 57976/100000 [09:36<06:54, 101.48it/s]"
     ]
    },
    {
     "name": "stdout",
     "output_type": "stream",
     "text": [
      "2022-02-03 17:24.30 [info     ] Model parameters are saved to d3rlpy_logs/DoubleDQN_online_20220203171453/model_58000.pt\n",
      "2022-02-03 17:24.30 [info     ] DoubleDQN_online_20220203171453: epoch=58 step=58000 epoch=58 metrics={'time_inference': 0.0003743231296539307, 'time_environment_step': 0.0008618670872279576, 'time_sample_batch': 0.0001089320182800293, 'time_algorithm_update': 0.0074189665317535404, 'loss': 2.14694840824604, 'time_step': 0.008722100019454957, 'rollout_return': 13.008, 'evaluation': 15.7} step=58000\n"
     ]
    },
    {
     "name": "stderr",
     "output_type": "stream",
     "text": [
      " 59%|█████▉    | 58981/100000 [09:48<04:59, 136.75it/s]"
     ]
    },
    {
     "name": "stdout",
     "output_type": "stream",
     "text": [
      "2022-02-03 17:24.42 [info     ] Model parameters are saved to d3rlpy_logs/DoubleDQN_online_20220203171453/model_59000.pt\n",
      "2022-02-03 17:24.43 [info     ] DoubleDQN_online_20220203171453: epoch=59 step=59000 epoch=59 metrics={'time_inference': 0.00042242646217346193, 'time_environment_step': 0.0009501500810895647, 'time_sample_batch': 0.0001358778476715088, 'time_algorithm_update': 0.009440460443496704, 'loss': 2.094580022752285, 'time_step': 0.010921066045761109, 'rollout_return': 12.616, 'evaluation': 15.9} step=59000\n"
     ]
    },
    {
     "name": "stderr",
     "output_type": "stream",
     "text": [
      " 60%|█████▉    | 59993/100000 [09:58<01:58, 336.46it/s]"
     ]
    },
    {
     "name": "stdout",
     "output_type": "stream",
     "text": [
      "2022-02-03 17:24.52 [info     ] Model parameters are saved to d3rlpy_logs/DoubleDQN_online_20220203171453/model_60000.pt\n",
      "2022-02-03 17:24.52 [info     ] DoubleDQN_online_20220203171453: epoch=60 step=60000 epoch=60 metrics={'time_inference': 0.00041071200370788576, 'time_environment_step': 0.0008466976710728237, 'time_sample_batch': 9.903550148010254e-05, 'time_algorithm_update': 0.006825196504592896, 'loss': 1.8137824222445489, 'time_step': 0.008161301374435425, 'rollout_return': 14.168, 'evaluation': 14.8} step=60000\n"
     ]
    },
    {
     "name": "stderr",
     "output_type": "stream",
     "text": [
      " 61%|██████    | 60999/100000 [10:07<02:24, 270.27it/s]"
     ]
    },
    {
     "name": "stdout",
     "output_type": "stream",
     "text": [
      "2022-02-03 17:25.01 [info     ] Model parameters are saved to d3rlpy_logs/DoubleDQN_online_20220203171453/model_61000.pt\n",
      "2022-02-03 17:25.01 [info     ] DoubleDQN_online_20220203171453: epoch=61 step=61000 epoch=61 metrics={'time_inference': 0.00041662120819091795, 'time_environment_step': 0.00082659912109375, 'time_sample_batch': 0.00010007691383361816, 'time_algorithm_update': 0.006685853481292725, 'loss': 2.3527788978219033, 'time_step': 0.008001663446426392, 'rollout_return': 13.12, 'evaluation': 18.4} step=61000\n"
     ]
    },
    {
     "name": "stderr",
     "output_type": "stream",
     "text": [
      " 62%|██████▏   | 61986/100000 [10:18<05:09, 122.78it/s]"
     ]
    },
    {
     "name": "stdout",
     "output_type": "stream",
     "text": [
      "2022-02-03 17:25.12 [info     ] Model parameters are saved to d3rlpy_logs/DoubleDQN_online_20220203171453/model_62000.pt\n",
      "2022-02-03 17:25.12 [info     ] DoubleDQN_online_20220203171453: epoch=62 step=62000 epoch=62 metrics={'time_inference': 0.00039466381072998045, 'time_environment_step': 0.0008873906816755022, 'time_sample_batch': 0.00011715388298034668, 'time_algorithm_update': 0.008295008897781371, 'loss': 1.8254687824249267, 'time_step': 0.009658861875534058, 'rollout_return': 12.08, 'evaluation': 5.6} step=62000\n"
     ]
    },
    {
     "name": "stderr",
     "output_type": "stream",
     "text": [
      " 63%|██████▎   | 62987/100000 [10:27<05:40, 108.73it/s]"
     ]
    },
    {
     "name": "stdout",
     "output_type": "stream",
     "text": [
      "2022-02-03 17:25.21 [info     ] Model parameters are saved to d3rlpy_logs/DoubleDQN_online_20220203171453/model_63000.pt\n",
      "2022-02-03 17:25.21 [info     ] DoubleDQN_online_20220203171453: epoch=63 step=63000 epoch=63 metrics={'time_inference': 0.00037833547592163087, 'time_environment_step': 0.0007504752022879464, 'time_sample_batch': 9.387063980102539e-05, 'time_algorithm_update': 0.0063683812618255614, 'loss': 1.9129105234146118, 'time_step': 0.007569453239440918, 'rollout_return': 12.84, 'evaluation': 15.4} step=63000\n"
     ]
    },
    {
     "name": "stderr",
     "output_type": "stream",
     "text": [
      " 64%|██████▍   | 63989/100000 [10:36<04:18, 139.32it/s]"
     ]
    },
    {
     "name": "stdout",
     "output_type": "stream",
     "text": [
      "2022-02-03 17:25.30 [info     ] Model parameters are saved to d3rlpy_logs/DoubleDQN_online_20220203171453/model_64000.pt\n",
      "2022-02-03 17:25.30 [info     ] DoubleDQN_online_20220203171453: epoch=64 step=64000 epoch=64 metrics={'time_inference': 0.00034488511085510257, 'time_environment_step': 0.0008156266893659319, 'time_sample_batch': 0.0001237335205078125, 'time_algorithm_update': 0.0066032402515411375, 'loss': 1.6915052344202994, 'time_step': 0.007859928131103516, 'rollout_return': 13.448, 'evaluation': 16.2} step=64000\n"
     ]
    },
    {
     "name": "stderr",
     "output_type": "stream",
     "text": [
      " 65%|██████▍   | 64996/100000 [10:47<04:20, 134.61it/s]"
     ]
    },
    {
     "name": "stdout",
     "output_type": "stream",
     "text": [
      "2022-02-03 17:25.41 [info     ] Model parameters are saved to d3rlpy_logs/DoubleDQN_online_20220203171453/model_65000.pt\n",
      "2022-02-03 17:25.41 [info     ] DoubleDQN_online_20220203171453: epoch=65 step=65000 epoch=65 metrics={'time_inference': 0.0004552154541015625, 'time_environment_step': 0.0008965048108782087, 'time_sample_batch': 0.00013829588890075682, 'time_algorithm_update': 0.008399389505386353, 'loss': 2.1005885460972786, 'time_step': 0.009861712694168091, 'rollout_return': 12.152, 'evaluation': 14.8} step=65000\n"
     ]
    },
    {
     "name": "stderr",
     "output_type": "stream",
     "text": [
      " 66%|██████▌   | 65999/100000 [10:58<06:18, 89.79it/s] "
     ]
    },
    {
     "name": "stdout",
     "output_type": "stream",
     "text": [
      "2022-02-03 17:25.52 [info     ] Model parameters are saved to d3rlpy_logs/DoubleDQN_online_20220203171453/model_66000.pt\n",
      "2022-02-03 17:25.52 [info     ] DoubleDQN_online_20220203171453: epoch=66 step=66000 epoch=66 metrics={'time_inference': 0.0004669764041900635, 'time_environment_step': 0.0008261432647705078, 'time_sample_batch': 0.00012476587295532228, 'time_algorithm_update': 0.007804072618484497, 'loss': 1.7642580763697624, 'time_step': 0.009188308000564575, 'rollout_return': 13.432, 'evaluation': 15.5} step=66000\n"
     ]
    },
    {
     "name": "stderr",
     "output_type": "stream",
     "text": [
      " 67%|██████▋   | 66998/100000 [11:08<05:55, 92.81it/s] "
     ]
    },
    {
     "name": "stdout",
     "output_type": "stream",
     "text": [
      "2022-02-03 17:26.02 [info     ] Model parameters are saved to d3rlpy_logs/DoubleDQN_online_20220203171453/model_67000.pt\n",
      "2022-02-03 17:26.02 [info     ] DoubleDQN_online_20220203171453: epoch=67 step=67000 epoch=67 metrics={'time_inference': 0.00039565372467041015, 'time_environment_step': 0.0007998809814453125, 'time_sample_batch': 0.00010470867156982422, 'time_algorithm_update': 0.007833270072937012, 'loss': 2.1403736297488214, 'time_step': 0.009115627050399781, 'rollout_return': 12.08, 'evaluation': 0.0} step=67000\n"
     ]
    },
    {
     "name": "stderr",
     "output_type": "stream",
     "text": [
      " 68%|██████▊   | 67999/100000 [11:16<04:28, 119.19it/s]"
     ]
    },
    {
     "name": "stdout",
     "output_type": "stream",
     "text": [
      "2022-02-03 17:26.10 [info     ] Model parameters are saved to d3rlpy_logs/DoubleDQN_online_20220203171453/model_68000.pt\n",
      "2022-02-03 17:26.11 [info     ] DoubleDQN_online_20220203171453: epoch=68 step=68000 epoch=68 metrics={'time_inference': 0.00040413522720336915, 'time_environment_step': 0.0007989422934395926, 'time_sample_batch': 9.370017051696777e-05, 'time_algorithm_update': 0.005899437427520752, 'loss': 1.9820614711046218, 'time_step': 0.007180062532424927, 'rollout_return': 10.312, 'evaluation': 0.0} step=68000\n"
     ]
    },
    {
     "name": "stderr",
     "output_type": "stream",
     "text": [
      " 69%|██████▉   | 68990/100000 [11:26<05:14, 98.47it/s] "
     ]
    },
    {
     "name": "stdout",
     "output_type": "stream",
     "text": [
      "2022-02-03 17:26.20 [info     ] Model parameters are saved to d3rlpy_logs/DoubleDQN_online_20220203171453/model_69000.pt\n",
      "2022-02-03 17:26.20 [info     ] DoubleDQN_online_20220203171453: epoch=69 step=69000 epoch=69 metrics={'time_inference': 0.0003719520568847656, 'time_environment_step': 0.0008639052254813058, 'time_sample_batch': 9.328866004943848e-05, 'time_algorithm_update': 0.00697870397567749, 'loss': 1.8333513369560241, 'time_step': 0.008264951705932617, 'rollout_return': 12.96, 'evaluation': 0.0} step=69000\n"
     ]
    },
    {
     "name": "stderr",
     "output_type": "stream",
     "text": [
      " 70%|██████▉   | 69986/100000 [11:35<05:09, 96.92it/s] "
     ]
    },
    {
     "name": "stdout",
     "output_type": "stream",
     "text": [
      "2022-02-03 17:26.29 [info     ] Model parameters are saved to d3rlpy_logs/DoubleDQN_online_20220203171453/model_70000.pt\n",
      "2022-02-03 17:26.30 [info     ] DoubleDQN_online_20220203171453: epoch=70 step=70000 epoch=70 metrics={'time_inference': 0.0003752055168151856, 'time_environment_step': 0.0008518826620919364, 'time_sample_batch': 0.0001282832622528076, 'time_algorithm_update': 0.006610651493072509, 'loss': 2.0968486457169058, 'time_step': 0.007930484533309936, 'rollout_return': 14.08, 'evaluation': 13.7} step=70000\n"
     ]
    },
    {
     "name": "stderr",
     "output_type": "stream",
     "text": [
      " 71%|███████   | 70996/100000 [11:44<05:35, 86.34it/s] "
     ]
    },
    {
     "name": "stdout",
     "output_type": "stream",
     "text": [
      "2022-02-03 17:26.38 [info     ] Model parameters are saved to d3rlpy_logs/DoubleDQN_online_20220203171453/model_71000.pt\n",
      "2022-02-03 17:26.38 [info     ] DoubleDQN_online_20220203171453: epoch=71 step=71000 epoch=71 metrics={'time_inference': 0.00037963032722473146, 'time_environment_step': 0.0007775911603655134, 'time_sample_batch': 0.00012828826904296876, 'time_algorithm_update': 0.006394919872283936, 'loss': 2.6090855708122254, 'time_step': 0.00765789008140564, 'rollout_return': 13.56, 'evaluation': 16.0} step=71000\n"
     ]
    },
    {
     "name": "stderr",
     "output_type": "stream",
     "text": [
      " 72%|███████▏  | 71988/100000 [11:53<04:05, 114.21it/s]"
     ]
    },
    {
     "name": "stdout",
     "output_type": "stream",
     "text": [
      "2022-02-03 17:26.47 [info     ] Model parameters are saved to d3rlpy_logs/DoubleDQN_online_20220203171453/model_72000.pt\n",
      "2022-02-03 17:26.47 [info     ] DoubleDQN_online_20220203171453: epoch=72 step=72000 epoch=72 metrics={'time_inference': 0.00036675238609313964, 'time_environment_step': 0.0007810042245047433, 'time_sample_batch': 0.0001177983283996582, 'time_algorithm_update': 0.006665965795516968, 'loss': 2.0558125636577604, 'time_step': 0.007898442029953002, 'rollout_return': 13.704, 'evaluation': 8.6} step=72000\n"
     ]
    },
    {
     "name": "stderr",
     "output_type": "stream",
     "text": [
      " 73%|███████▎  | 72992/100000 [12:03<04:47, 93.98it/s] "
     ]
    },
    {
     "name": "stdout",
     "output_type": "stream",
     "text": [
      "2022-02-03 17:26.57 [info     ] Model parameters are saved to d3rlpy_logs/DoubleDQN_online_20220203171453/model_73000.pt\n",
      "2022-02-03 17:26.57 [info     ] DoubleDQN_online_20220203171453: epoch=73 step=73000 epoch=73 metrics={'time_inference': 0.00034086942672729493, 'time_environment_step': 0.0008287179129464286, 'time_sample_batch': 0.00012326693534851074, 'time_algorithm_update': 0.007366679191589356, 'loss': 2.0526901785135268, 'time_step': 0.008633941650390624, 'rollout_return': 13.464, 'evaluation': 14.3} step=73000\n"
     ]
    },
    {
     "name": "stderr",
     "output_type": "stream",
     "text": [
      " 74%|███████▍  | 73999/100000 [12:18<12:34, 34.47it/s] "
     ]
    },
    {
     "name": "stdout",
     "output_type": "stream",
     "text": [
      "2022-02-03 17:27.12 [info     ] Model parameters are saved to d3rlpy_logs/DoubleDQN_online_20220203171453/model_74000.pt\n",
      "2022-02-03 17:27.12 [info     ] DoubleDQN_online_20220203171453: epoch=74 step=74000 epoch=74 metrics={'time_inference': 0.00045650720596313477, 'time_environment_step': 0.0010397131783621652, 'time_sample_batch': 0.0001299169063568115, 'time_algorithm_update': 0.011264901876449586, 'loss': 1.713694068312645, 'time_step': 0.012840460538864135, 'rollout_return': 13.504, 'evaluation': 16.0} step=74000\n"
     ]
    },
    {
     "name": "stderr",
     "output_type": "stream",
     "text": [
      " 75%|███████▍  | 74993/100000 [12:30<04:15, 97.83it/s] "
     ]
    },
    {
     "name": "stdout",
     "output_type": "stream",
     "text": [
      "2022-02-03 17:27.24 [info     ] Model parameters are saved to d3rlpy_logs/DoubleDQN_online_20220203171453/model_75000.pt\n",
      "2022-02-03 17:27.24 [info     ] DoubleDQN_online_20220203171453: epoch=75 step=75000 epoch=75 metrics={'time_inference': 0.0003634598255157471, 'time_environment_step': 0.0008993745531354632, 'time_sample_batch': 0.00012604475021362304, 'time_algorithm_update': 0.009524529695510865, 'loss': 1.69978150755167, 'time_step': 0.010868680000305176, 'rollout_return': 13.216, 'evaluation': 15.5} step=75000\n"
     ]
    },
    {
     "name": "stderr",
     "output_type": "stream",
     "text": [
      " 76%|███████▌  | 75997/100000 [12:37<04:32, 87.99it/s] "
     ]
    },
    {
     "name": "stdout",
     "output_type": "stream",
     "text": [
      "2022-02-03 17:27.31 [info     ] Model parameters are saved to d3rlpy_logs/DoubleDQN_online_20220203171453/model_76000.pt\n",
      "2022-02-03 17:27.31 [info     ] DoubleDQN_online_20220203171453: epoch=76 step=76000 epoch=76 metrics={'time_inference': 0.0003877935409545898, 'time_environment_step': 0.000728297369820731, 'time_sample_batch': 0.00010529780387878418, 'time_algorithm_update': 0.0054429397583007815, 'loss': 2.1888976569771765, 'time_step': 0.006637565851211548, 'rollout_return': 13.736, 'evaluation': 15.4} step=76000\n"
     ]
    },
    {
     "name": "stderr",
     "output_type": "stream",
     "text": [
      " 77%|███████▋  | 76990/100000 [12:46<03:39, 104.71it/s]"
     ]
    },
    {
     "name": "stdout",
     "output_type": "stream",
     "text": [
      "2022-02-03 17:27.40 [info     ] Model parameters are saved to d3rlpy_logs/DoubleDQN_online_20220203171453/model_77000.pt\n",
      "2022-02-03 17:27.41 [info     ] DoubleDQN_online_20220203171453: epoch=77 step=77000 epoch=77 metrics={'time_inference': 0.0003487350940704346, 'time_environment_step': 0.000845789773123605, 'time_sample_batch': 9.149956703186035e-05, 'time_algorithm_update': 0.006794433116912842, 'loss': 2.041576289653778, 'time_step': 0.008076054096221924, 'rollout_return': 13.624, 'evaluation': 14.4} step=77000\n"
     ]
    },
    {
     "name": "stderr",
     "output_type": "stream",
     "text": [
      " 78%|███████▊  | 77988/100000 [12:56<02:26, 149.93it/s]"
     ]
    },
    {
     "name": "stdout",
     "output_type": "stream",
     "text": [
      "2022-02-03 17:27.50 [info     ] Model parameters are saved to d3rlpy_logs/DoubleDQN_online_20220203171453/model_78000.pt\n",
      "2022-02-03 17:27.50 [info     ] DoubleDQN_online_20220203171453: epoch=78 step=78000 epoch=78 metrics={'time_inference': 0.0003598358631134033, 'time_environment_step': 0.0007900191715785436, 'time_sample_batch': 0.0001103515625, 'time_algorithm_update': 0.006637636661529541, 'loss': 1.7509813342094422, 'time_step': 0.007861032724380494, 'rollout_return': 12.992, 'evaluation': 17.7} step=78000\n"
     ]
    },
    {
     "name": "stderr",
     "output_type": "stream",
     "text": [
      " 79%|███████▉  | 78989/100000 [13:05<03:22, 103.97it/s]"
     ]
    },
    {
     "name": "stdout",
     "output_type": "stream",
     "text": [
      "2022-02-03 17:27.59 [info     ] Model parameters are saved to d3rlpy_logs/DoubleDQN_online_20220203171453/model_79000.pt\n",
      "2022-02-03 17:27.59 [info     ] DoubleDQN_online_20220203171453: epoch=79 step=79000 epoch=79 metrics={'time_inference': 0.0003790445327758789, 'time_environment_step': 0.000799879891531808, 'time_sample_batch': 0.00010334587097167969, 'time_algorithm_update': 0.0069621803760528565, 'loss': 1.8005564856529235, 'time_step': 0.008228887796401978, 'rollout_return': 13.496, 'evaluation': 15.1} step=79000\n"
     ]
    },
    {
     "name": "stderr",
     "output_type": "stream",
     "text": [
      " 80%|███████▉  | 79991/100000 [13:12<03:49, 87.05it/s] "
     ]
    },
    {
     "name": "stdout",
     "output_type": "stream",
     "text": [
      "2022-02-03 17:28.06 [info     ] Model parameters are saved to d3rlpy_logs/DoubleDQN_online_20220203171453/model_80000.pt\n",
      "2022-02-03 17:28.06 [info     ] DoubleDQN_online_20220203171453: epoch=80 step=80000 epoch=80 metrics={'time_inference': 0.00033717060089111326, 'time_environment_step': 0.000780193601335798, 'time_sample_batch': 0.00011008381843566895, 'time_algorithm_update': 0.005037497520446777, 'loss': 1.5779239868819714, 'time_step': 0.006227352380752563, 'rollout_return': 13.616, 'evaluation': 15.9} step=80000\n"
     ]
    },
    {
     "name": "stderr",
     "output_type": "stream",
     "text": [
      " 81%|████████  | 80985/100000 [13:17<01:26, 220.30it/s]"
     ]
    },
    {
     "name": "stdout",
     "output_type": "stream",
     "text": [
      "2022-02-03 17:28.11 [info     ] Model parameters are saved to d3rlpy_logs/DoubleDQN_online_20220203171453/model_81000.pt\n",
      "2022-02-03 17:28.11 [info     ] DoubleDQN_online_20220203171453: epoch=81 step=81000 epoch=81 metrics={'time_inference': 0.0003321359157562256, 'time_environment_step': 0.000715320314679827, 'time_sample_batch': 9.212279319763184e-05, 'time_algorithm_update': 0.0028692870140075684, 'loss': 1.8206486209332944, 'time_step': 0.003981638908386231, 'rollout_return': 12.784, 'evaluation': 4.0} step=81000\n"
     ]
    },
    {
     "name": "stderr",
     "output_type": "stream",
     "text": [
      " 82%|████████▏ | 81970/100000 [13:21<01:13, 246.11it/s]"
     ]
    },
    {
     "name": "stdout",
     "output_type": "stream",
     "text": [
      "2022-02-03 17:28.15 [info     ] Model parameters are saved to d3rlpy_logs/DoubleDQN_online_20220203171453/model_82000.pt\n",
      "2022-02-03 17:28.15 [info     ] DoubleDQN_online_20220203171453: epoch=82 step=82000 epoch=82 metrics={'time_inference': 0.0003157052993774414, 'time_environment_step': 0.0007089029039655413, 'time_sample_batch': 0.00010198879241943359, 'time_algorithm_update': 0.002653860330581665, 'loss': 2.0138744024634363, 'time_step': 0.0037538344860076904, 'rollout_return': 13.224, 'evaluation': 0.0} step=82000\n"
     ]
    },
    {
     "name": "stderr",
     "output_type": "stream",
     "text": [
      " 83%|████████▎ | 82992/100000 [13:25<01:02, 270.34it/s]"
     ]
    },
    {
     "name": "stdout",
     "output_type": "stream",
     "text": [
      "2022-02-03 17:28.19 [info     ] Model parameters are saved to d3rlpy_logs/DoubleDQN_online_20220203171453/model_83000.pt\n",
      "2022-02-03 17:28.19 [info     ] DoubleDQN_online_20220203171453: epoch=83 step=83000 epoch=83 metrics={'time_inference': 0.00033653664588928223, 'time_environment_step': 0.000708606447492327, 'time_sample_batch': 9.279108047485352e-05, 'time_algorithm_update': 0.0023454248905181883, 'loss': 1.7728782766461373, 'time_step': 0.0034586482048034667, 'rollout_return': 13.384, 'evaluation': 14.1} step=83000\n"
     ]
    },
    {
     "name": "stderr",
     "output_type": "stream",
     "text": [
      " 84%|████████▍ | 83991/100000 [13:29<01:03, 250.81it/s]"
     ]
    },
    {
     "name": "stdout",
     "output_type": "stream",
     "text": [
      "2022-02-03 17:28.23 [info     ] Model parameters are saved to d3rlpy_logs/DoubleDQN_online_20220203171453/model_84000.pt\n",
      "2022-02-03 17:28.23 [info     ] DoubleDQN_online_20220203171453: epoch=84 step=84000 epoch=84 metrics={'time_inference': 0.0003257122039794922, 'time_environment_step': 0.000740936279296875, 'time_sample_batch': 0.0001026465892791748, 'time_algorithm_update': 0.002487697124481201, 'loss': 1.9354804313778877, 'time_step': 0.0036269118785858152, 'rollout_return': 12.368, 'evaluation': 15.2} step=84000\n"
     ]
    },
    {
     "name": "stderr",
     "output_type": "stream",
     "text": [
      " 85%|████████▍ | 84978/100000 [13:33<01:03, 235.19it/s]"
     ]
    },
    {
     "name": "stdout",
     "output_type": "stream",
     "text": [
      "2022-02-03 17:28.27 [info     ] Model parameters are saved to d3rlpy_logs/DoubleDQN_online_20220203171453/model_85000.pt\n",
      "2022-02-03 17:28.27 [info     ] DoubleDQN_online_20220203171453: epoch=85 step=85000 epoch=85 metrics={'time_inference': 0.0003449091911315918, 'time_environment_step': 0.0007186998639787946, 'time_sample_batch': 9.221959114074708e-05, 'time_algorithm_update': 0.002600746154785156, 'loss': 1.6685197554528712, 'time_step': 0.00374380087852478, 'rollout_return': 13.776, 'evaluation': 16.0} step=85000\n"
     ]
    },
    {
     "name": "stderr",
     "output_type": "stream",
     "text": [
      " 86%|████████▌ | 85985/100000 [13:37<00:55, 251.02it/s]"
     ]
    },
    {
     "name": "stdout",
     "output_type": "stream",
     "text": [
      "2022-02-03 17:28.31 [info     ] Model parameters are saved to d3rlpy_logs/DoubleDQN_online_20220203171453/model_86000.pt\n",
      "2022-02-03 17:28.31 [info     ] DoubleDQN_online_20220203171453: epoch=86 step=86000 epoch=86 metrics={'time_inference': 0.0003385286331176758, 'time_environment_step': 0.000725926262991769, 'time_sample_batch': 0.0001231687068939209, 'time_algorithm_update': 0.0026621081829071047, 'loss': 1.7965050929188728, 'time_step': 0.0038326115608215334, 'rollout_return': 13.68, 'evaluation': 7.9} step=86000\n"
     ]
    },
    {
     "name": "stderr",
     "output_type": "stream",
     "text": [
      " 87%|████████▋ | 86982/100000 [13:41<00:49, 262.74it/s]"
     ]
    },
    {
     "name": "stdout",
     "output_type": "stream",
     "text": [
      "2022-02-03 17:28.35 [info     ] Model parameters are saved to d3rlpy_logs/DoubleDQN_online_20220203171453/model_87000.pt\n",
      "2022-02-03 17:28.35 [info     ] DoubleDQN_online_20220203171453: epoch=87 step=87000 epoch=87 metrics={'time_inference': 0.00032877397537231447, 'time_environment_step': 0.0007192072187151228, 'time_sample_batch': 9.217071533203125e-05, 'time_algorithm_update': 0.002494571924209595, 'loss': 2.0488448898792266, 'time_step': 0.003607367515563965, 'rollout_return': 13.52, 'evaluation': 16.4} step=87000\n"
     ]
    },
    {
     "name": "stderr",
     "output_type": "stream",
     "text": [
      " 88%|████████▊ | 87989/100000 [13:46<00:45, 262.61it/s]"
     ]
    },
    {
     "name": "stdout",
     "output_type": "stream",
     "text": [
      "2022-02-03 17:28.39 [info     ] Model parameters are saved to d3rlpy_logs/DoubleDQN_online_20220203171453/model_88000.pt\n",
      "2022-02-03 17:28.39 [info     ] DoubleDQN_online_20220203171453: epoch=88 step=88000 epoch=88 metrics={'time_inference': 0.00032595276832580566, 'time_environment_step': 0.0007375194004603794, 'time_sample_batch': 9.424924850463867e-05, 'time_algorithm_update': 0.0026509416103363036, 'loss': 1.515864649683237, 'time_step': 0.0037886946201324463, 'rollout_return': 14.088, 'evaluation': 15.1} step=88000\n"
     ]
    },
    {
     "name": "stderr",
     "output_type": "stream",
     "text": [
      " 89%|████████▉ | 88985/100000 [13:50<00:38, 288.10it/s]"
     ]
    },
    {
     "name": "stdout",
     "output_type": "stream",
     "text": [
      "2022-02-03 17:28.43 [info     ] Model parameters are saved to d3rlpy_logs/DoubleDQN_online_20220203171453/model_89000.pt\n",
      "2022-02-03 17:28.43 [info     ] DoubleDQN_online_20220203171453: epoch=89 step=89000 epoch=89 metrics={'time_inference': 0.0003449766635894775, 'time_environment_step': 0.0007553048815046038, 'time_sample_batch': 9.262371063232422e-05, 'time_algorithm_update': 0.0024903974533081056, 'loss': 1.930695819735527, 'time_step': 0.0036516478061676023, 'rollout_return': 12.8, 'evaluation': 16.8} step=89000\n"
     ]
    },
    {
     "name": "stderr",
     "output_type": "stream",
     "text": [
      " 90%|████████▉ | 89974/100000 [13:54<00:44, 226.27it/s]"
     ]
    },
    {
     "name": "stdout",
     "output_type": "stream",
     "text": [
      "2022-02-03 17:28.48 [info     ] Model parameters are saved to d3rlpy_logs/DoubleDQN_online_20220203171453/model_90000.pt\n",
      "2022-02-03 17:28.48 [info     ] DoubleDQN_online_20220203171453: epoch=90 step=90000 epoch=90 metrics={'time_inference': 0.00032251954078674314, 'time_environment_step': 0.0007338126046316964, 'time_sample_batch': 9.6574068069458e-05, 'time_algorithm_update': 0.0026188223361968996, 'loss': 1.6109927397966386, 'time_step': 0.0037427408695220946, 'rollout_return': 13.984, 'evaluation': 15.0} step=90000\n"
     ]
    },
    {
     "name": "stderr",
     "output_type": "stream",
     "text": [
      " 91%|█████████ | 90991/100000 [13:58<00:34, 261.96it/s]"
     ]
    },
    {
     "name": "stdout",
     "output_type": "stream",
     "text": [
      "2022-02-03 17:28.52 [info     ] Model parameters are saved to d3rlpy_logs/DoubleDQN_online_20220203171453/model_91000.pt\n",
      "2022-02-03 17:28.52 [info     ] DoubleDQN_online_20220203171453: epoch=91 step=91000 epoch=91 metrics={'time_inference': 0.0003936779499053955, 'time_environment_step': 0.0007435918535505022, 'time_sample_batch': 0.00010413908958435059, 'time_algorithm_update': 0.0026041200160980224, 'loss': 1.6160852838158608, 'time_step': 0.00381599235534668, 'rollout_return': 13.96, 'evaluation': 17.0} step=91000\n"
     ]
    },
    {
     "name": "stderr",
     "output_type": "stream",
     "text": [
      " 92%|█████████▏| 91987/100000 [14:02<00:36, 218.35it/s]"
     ]
    },
    {
     "name": "stdout",
     "output_type": "stream",
     "text": [
      "2022-02-03 17:28.56 [info     ] Model parameters are saved to d3rlpy_logs/DoubleDQN_online_20220203171453/model_92000.pt\n",
      "2022-02-03 17:28.56 [info     ] DoubleDQN_online_20220203171453: epoch=92 step=92000 epoch=92 metrics={'time_inference': 0.0003257739543914795, 'time_environment_step': 0.0007475016457693918, 'time_sample_batch': 0.00011361289024353027, 'time_algorithm_update': 0.002850895881652832, 'loss': 2.2906741740703582, 'time_step': 0.004007702589035034, 'rollout_return': 12.368, 'evaluation': 15.3} step=92000\n"
     ]
    },
    {
     "name": "stderr",
     "output_type": "stream",
     "text": [
      " 93%|█████████▎| 92970/100000 [14:06<00:29, 235.14it/s]"
     ]
    },
    {
     "name": "stdout",
     "output_type": "stream",
     "text": [
      "2022-02-03 17:29.00 [info     ] Model parameters are saved to d3rlpy_logs/DoubleDQN_online_20220203171453/model_93000.pt\n",
      "2022-02-03 17:29.00 [info     ] DoubleDQN_online_20220203171453: epoch=93 step=93000 epoch=93 metrics={'time_inference': 0.0003372073173522949, 'time_environment_step': 0.000737931387765067, 'time_sample_batch': 9.331750869750976e-05, 'time_algorithm_update': 0.002263088941574097, 'loss': 1.9692736807465554, 'time_step': 0.0034009833335876464, 'rollout_return': 13.152, 'evaluation': 14.7} step=93000\n"
     ]
    },
    {
     "name": "stderr",
     "output_type": "stream",
     "text": [
      " 94%|█████████▍| 93985/100000 [14:10<00:22, 268.51it/s]"
     ]
    },
    {
     "name": "stdout",
     "output_type": "stream",
     "text": [
      "2022-02-03 17:29.04 [info     ] Model parameters are saved to d3rlpy_logs/DoubleDQN_online_20220203171453/model_94000.pt\n",
      "2022-02-03 17:29.04 [info     ] DoubleDQN_online_20220203171453: epoch=94 step=94000 epoch=94 metrics={'time_inference': 0.0003182246685028076, 'time_environment_step': 0.0007177246638706752, 'time_sample_batch': 0.00010100579261779785, 'time_algorithm_update': 0.0024930520057678224, 'loss': 2.2579182603359222, 'time_step': 0.003603286027908325, 'rollout_return': 12.84, 'evaluation': 14.8} step=94000\n"
     ]
    },
    {
     "name": "stderr",
     "output_type": "stream",
     "text": [
      " 95%|█████████▍| 94974/100000 [14:14<00:21, 228.99it/s]"
     ]
    },
    {
     "name": "stdout",
     "output_type": "stream",
     "text": [
      "2022-02-03 17:29.08 [info     ] Model parameters are saved to d3rlpy_logs/DoubleDQN_online_20220203171453/model_95000.pt\n",
      "2022-02-03 17:29.08 [info     ] DoubleDQN_online_20220203171453: epoch=95 step=95000 epoch=95 metrics={'time_inference': 0.00034119033813476563, 'time_environment_step': 0.000756082534790039, 'time_sample_batch': 9.798073768615723e-05, 'time_algorithm_update': 0.00274673056602478, 'loss': 1.8768101550340652, 'time_step': 0.003912233114242554, 'rollout_return': 12.832, 'evaluation': 16.4} step=95000\n"
     ]
    },
    {
     "name": "stderr",
     "output_type": "stream",
     "text": [
      " 96%|█████████▌| 95988/100000 [14:19<00:17, 230.90it/s]"
     ]
    },
    {
     "name": "stdout",
     "output_type": "stream",
     "text": [
      "2022-02-03 17:29.12 [info     ] Model parameters are saved to d3rlpy_logs/DoubleDQN_online_20220203171453/model_96000.pt\n",
      "2022-02-03 17:29.12 [info     ] DoubleDQN_online_20220203171453: epoch=96 step=96000 epoch=96 metrics={'time_inference': 0.00038419556617736816, 'time_environment_step': 0.0007819009508405413, 'time_sample_batch': 9.885644912719727e-05, 'time_algorithm_update': 0.0024978222846984864, 'loss': 1.6416594234108925, 'time_step': 0.0037364120483398436, 'rollout_return': 13.904, 'evaluation': 14.9} step=96000\n"
     ]
    },
    {
     "name": "stderr",
     "output_type": "stream",
     "text": [
      " 97%|█████████▋| 96989/100000 [14:23<00:15, 200.02it/s]"
     ]
    },
    {
     "name": "stdout",
     "output_type": "stream",
     "text": [
      "2022-02-03 17:29.17 [info     ] Model parameters are saved to d3rlpy_logs/DoubleDQN_online_20220203171453/model_97000.pt\n",
      "2022-02-03 17:29.17 [info     ] DoubleDQN_online_20220203171453: epoch=97 step=97000 epoch=97 metrics={'time_inference': 0.0003683788776397705, 'time_environment_step': 0.0007938425881522042, 'time_sample_batch': 0.00010332703590393066, 'time_algorithm_update': 0.0027357473373413087, 'loss': 2.1346732447147367, 'time_step': 0.00397484016418457, 'rollout_return': 13.624, 'evaluation': 13.0} step=97000\n"
     ]
    },
    {
     "name": "stderr",
     "output_type": "stream",
     "text": [
      " 98%|█████████▊| 97979/100000 [14:28<00:09, 214.92it/s]"
     ]
    },
    {
     "name": "stdout",
     "output_type": "stream",
     "text": [
      "2022-02-03 17:29.22 [info     ] Model parameters are saved to d3rlpy_logs/DoubleDQN_online_20220203171453/model_98000.pt\n",
      "2022-02-03 17:29.22 [info     ] DoubleDQN_online_20220203171453: epoch=98 step=98000 epoch=98 metrics={'time_inference': 0.0003592376708984375, 'time_environment_step': 0.0007898943764822824, 'time_sample_batch': 9.871387481689453e-05, 'time_algorithm_update': 0.0030699341297149656, 'loss': 1.9555903958678245, 'time_step': 0.004302288055419922, 'rollout_return': 13.96, 'evaluation': 16.9} step=98000\n"
     ]
    },
    {
     "name": "stderr",
     "output_type": "stream",
     "text": [
      " 99%|█████████▉| 98983/100000 [14:32<00:04, 247.24it/s]"
     ]
    },
    {
     "name": "stdout",
     "output_type": "stream",
     "text": [
      "2022-02-03 17:29.26 [info     ] Model parameters are saved to d3rlpy_logs/DoubleDQN_online_20220203171453/model_99000.pt\n",
      "2022-02-03 17:29.26 [info     ] DoubleDQN_online_20220203171453: epoch=99 step=99000 epoch=99 metrics={'time_inference': 0.00036916637420654296, 'time_environment_step': 0.0008209337506975446, 'time_sample_batch': 9.974026679992676e-05, 'time_algorithm_update': 0.003076627731323242, 'loss': 2.1162728999853133, 'time_step': 0.004343457698822021, 'rollout_return': 9.072, 'evaluation': 0.0} step=99000\n"
     ]
    },
    {
     "name": "stderr",
     "output_type": "stream",
     "text": [
      "100%|█████████▉| 99989/100000 [14:36<00:00, 241.87it/s]"
     ]
    },
    {
     "name": "stdout",
     "output_type": "stream",
     "text": [
      "2022-02-03 17:29.30 [info     ] Model parameters are saved to d3rlpy_logs/DoubleDQN_online_20220203171453/model_100000.pt\n",
      "2022-02-03 17:29.30 [info     ] DoubleDQN_online_20220203171453: epoch=100 step=100000 epoch=100 metrics={'time_inference': 0.0003299112319946289, 'time_environment_step': 0.00073330933707101, 'time_sample_batch': 9.942007064819336e-05, 'time_algorithm_update': 0.0023376762866973875, 'loss': 1.8275701523423196, 'time_step': 0.003475276231765747, 'rollout_return': 11.624, 'evaluation': 14.5} step=100000\n"
     ]
    },
    {
     "name": "stderr",
     "output_type": "stream",
     "text": [
      "100%|██████████| 100000/100000 [14:36<00:00, 114.03it/s]\n"
     ]
    }
   ],
   "source": [
    "# start training\n",
    "# skip if there is a pre-trained model\n",
    "ddqn.fit_online(\n",
    "    env,\n",
    "    buffer,\n",
    "    explorer=explorer,\n",
    "    eval_env=env,\n",
    "    n_steps=100000,\n",
    "    n_steps_per_epoch=1000,\n",
    ")"
   ]
  },
  {
   "cell_type": "code",
   "execution_count": 20,
   "metadata": {},
   "outputs": [],
   "source": [
    "# save model\n",
    "ddqn.save_model(\"d3rlpy_logs/ddqn.pt\")"
   ]
  },
  {
   "cell_type": "code",
   "execution_count": 21,
   "metadata": {},
   "outputs": [
    {
     "name": "stdout",
     "output_type": "stream",
     "text": [
      "2022-02-03 17:29.30 [warning  ] Parameters will be reinitialized.\n"
     ]
    }
   ],
   "source": [
    "# reload model\n",
    "ddqn.build_with_env(env)\n",
    "ddqn.load_model(\"d3rlpy_logs/ddqn.pt\")"
   ]
  },
  {
   "cell_type": "code",
   "execution_count": 22,
   "metadata": {},
   "outputs": [
    {
     "data": {
      "text/plain": [
       "Text(0, 0.5, 'episode reward')"
      ]
     },
     "execution_count": 22,
     "metadata": {},
     "output_type": "execute_result"
    },
    {
     "data": {
      "image/png": "[encoded data removed]",
      "text/plain": [
       "<Figure size 432x288 with 1 Axes>"
      ]
     },
     "metadata": {
      "needs_background": "light"
     },
     "output_type": "display_data"
    }
   ],
   "source": [
    "# we see that training RL policy can be risky online\n",
    "log_path = sorted(glob(\"d3rlpy_logs/DoubleDQN_online_*/evaluation.csv\"))[-1]\n",
    "df = pd.read_csv(\n",
    "    log_path, \n",
    "    usecols=[1,2],\n",
    "    names=[\"train_episode\", \"episodic_rewards\"]\n",
    ")\n",
    "plt.plot(df[\"train_episode\"], df[\"episodic_rewards\"])\n",
    "plt.title(\"Learning curve of DDQN\")\n",
    "plt.xlabel(\"episode\")\n",
    "plt.ylabel(\"episode reward\")"
   ]
  },
  {
   "cell_type": "code",
   "execution_count": 23,
   "metadata": {},
   "outputs": [],
   "source": [
    "random = DiscreteRandomPolicy()\n",
    "random.build_with_env(env)"
   ]
  },
  {
   "cell_type": "code",
   "execution_count": 24,
   "metadata": {},
   "outputs": [
    {
     "data": {
      "application/vnd.jupyter.widget-view+json": {
       "model_id": "d8ef60c61de64159a946967201c1516b",
       "version_major": 2,
       "version_minor": 0
      },
      "text/plain": [
       "[calculate on-policy policy value]:   0%|          | 0/100 [00:00<?, ?it/s]"
      ]
     },
     "metadata": {},
     "output_type": "display_data"
    },
    {
     "data": {
      "application/vnd.jupyter.widget-view+json": {
       "model_id": "9355b25525e54530a6921d659d3a7f11",
       "version_major": 2,
       "version_minor": 0
      },
      "text/plain": [
       "[calculate on-policy policy value]:   0%|          | 0/100 [00:00<?, ?it/s]"
      ]
     },
     "metadata": {},
     "output_type": "display_data"
    },
    {
     "data": {
      "image/png": "[encoded data removed]",
      "text/plain": [
       "<Figure size 288x288 with 1 Axes>"
      ]
     },
     "metadata": {},
     "output_type": "display_data"
    }
   ],
   "source": [
    "# compare performance online\n",
    "visualize_on_policy_policy_value(\n",
    "    env=env,\n",
    "    policies=[ddqn, random],\n",
    "    policy_names=[\"ddqn\", \"random\"],\n",
    "    n_episodes=100,\n",
    "    random_state=random_state,\n",
    ")"
   ]
  },
  {
   "cell_type": "code",
   "execution_count": 25,
   "metadata": {},
   "outputs": [
    {
     "data": {
      "application/vnd.jupyter.widget-view+json": {
       "model_id": "97adfd079e1e470faec92220b59c3812",
       "version_major": 2,
       "version_minor": 0
      },
      "text/plain": [
       "[calculate on-policy policy value]:   0%|          | 0/100 [00:00<?, ?it/s]"
      ]
     },
     "metadata": {},
     "output_type": "display_data"
    },
    {
     "data": {
      "application/vnd.jupyter.widget-view+json": {
       "model_id": "a0158d8be4f9448182b939d1a44e5c23",
       "version_major": 2,
       "version_minor": 0
      },
      "text/plain": [
       "[calculate on-policy policy value]:   0%|          | 0/100 [00:00<?, ?it/s]"
      ]
     },
     "metadata": {},
     "output_type": "display_data"
    },
    {
     "name": "stdout",
     "output_type": "stream",
     "text": [
      "relative improvement: 0.1685393258426966\n"
     ]
    }
   ],
   "source": [
    "# on-policy policy value by ddqn policy\n",
    "# largely outperforms random policy (about 20%)\n",
    "ddqn_performance = calc_on_policy_policy_value(env, ddqn, n_episodes=100, random_state=random_state)\n",
    "random_performance = calc_on_policy_policy_value(env, random, n_episodes=100, random_state=random_state)\n",
    "print(\"relative improvement:\", (ddqn_performance - random_performance) / random_performance)"
   ]
  },
  {
   "cell_type": "markdown",
   "metadata": {},
   "source": [
    "## 1. Synthetic Dataset Generation\n",
    "In the previous section, we see how we can interact the environment *online* using synthetic simulator.  \n",
    "Though simulation is a good start for training agent, eventually we want to deploy our agent (or policy) in the real world environment.  \n",
    "However, online interaction may have potential risk of failure in real-world implementataion.  \n",
    "Therefore, we introduce alternative learning protocol, Offline RL, which aim to obtain a new policy using only offline logged dataset.\n",
    "\n",
    "We prepare easy-to-use synthetic dataset generator: `SyntheticDataset` class in the dataset module.  \n",
    "By regarding simulation environment as a hypothetical real-environment, we show how to conduct Offline RL using logged dataset in real-world application.  \n",
    "For detailed description of how to use real-world dataset, please see #TODO (will be implemented).\n",
    "\n",
    "We have following arguments for `SyntheticDataset` class:\n",
    "- `env`: RTB environment for RL defined in the previous section.\n",
    "- `bahavior_policy`: RL agent (or algorithm) used for the data collection.\n",
    "- `n_samples_pretrain_reward_predictor`: Numbers of samples used to pretrain reward predictor."
   ]
  },
  {
   "cell_type": "code",
   "execution_count": 26,
   "metadata": {},
   "outputs": [],
   "source": [
    "# import necessary module from offlinegym\n",
    "from offlinegym.policy import DiscreteEpsilonGreedyHead"
   ]
  },
  {
   "cell_type": "code",
   "execution_count": 27,
   "metadata": {},
   "outputs": [],
   "source": [
    "behavior_policy = DiscreteEpsilonGreedyHead(\n",
    "    ddqn, \n",
    "    n_actions=env.action_space.n,\n",
    "    epsilon=0.3,\n",
    "    name=\"ddqn_epsilon_0.3\",\n",
    "    random_state=random_state,\n",
    ")"
   ]
  },
  {
   "cell_type": "code",
   "execution_count": 28,
   "metadata": {},
   "outputs": [],
   "source": [
    "# initialize dataset class\n",
    "dataset = SyntheticDataset(\n",
    "    env=env,\n",
    "    behavior_policy=behavior_policy,\n",
    "    random_state=random_state,\n",
    ")"
   ]
  },
  {
   "cell_type": "code",
   "execution_count": 29,
   "metadata": {},
   "outputs": [
    {
     "data": {
      "application/vnd.jupyter.widget-view+json": {
       "model_id": "e5ad433f1af54ce09853dfe4fe8707d8",
       "version_major": 2,
       "version_minor": 0
      },
      "text/plain": [
       "[obtain_trajectories]:   0%|          | 0/10000 [00:00<?, ?it/s]"
      ]
     },
     "metadata": {},
     "output_type": "display_data"
    }
   ],
   "source": [
    "# collect logged data using behavior policy\n",
    "# skip if there is a preserved logged dataset\n",
    "logged_dataset = dataset.obtain_trajectories(n_episodes=10000, obtain_info=True)"
   ]
  },
  {
   "cell_type": "code",
   "execution_count": 30,
   "metadata": {},
   "outputs": [
    {
     "data": {
      "text/plain": [
       "{'size': 70000,\n",
       " 'n_episodes': 10000,\n",
       " 'step_per_episode': 7,\n",
       " 'action_type': 'discrete',\n",
       " 'n_actions': 10,\n",
       " 'action_dim': None,\n",
       " 'action_meaning': array([ 0.1       ,  0.16681005,  0.27825594,  0.46415888,  0.77426368,\n",
       "         1.29154967,  2.15443469,  3.59381366,  5.9948425 , 10.        ]),\n",
       " 'state_dim': 7,\n",
       " 'state_keys': ['timestep',\n",
       "  'remaining_budget',\n",
       "  'budget_consumption_rate',\n",
       "  'cost_per_mille_of_impression',\n",
       "  'winning_rate',\n",
       "  'reward',\n",
       "  'adjust_rate'],\n",
       " 'state': array([[0.00000000e+00, 3.00000000e+03, 9.29616093e-01, ...,\n",
       "         1.83918812e-01, 2.00000000e+00, 2.01813032e+00],\n",
       "        [1.00000000e+00, 1.91000000e+03, 3.63333333e-01, ...,\n",
       "         1.00000000e+00, 6.00000000e+00, 5.99484250e+00],\n",
       "        [2.00000000e+00, 1.91000000e+03, 0.00000000e+00, ...,\n",
       "         0.00000000e+00, 0.00000000e+00, 1.66810054e-01],\n",
       "        ...,\n",
       "        [4.00000000e+00, 2.20000000e+01, 0.00000000e+00, ...,\n",
       "         3.38164251e-02, 0.00000000e+00, 5.99484250e+00],\n",
       "        [5.00000000e+00, 2.20000000e+01, 0.00000000e+00, ...,\n",
       "         4.92610837e-03, 0.00000000e+00, 5.99484250e+00],\n",
       "        [6.00000000e+00, 2.20000000e+01, 0.00000000e+00, ...,\n",
       "         7.78210117e-03, 0.00000000e+00, 5.99484250e+00]]),\n",
       " 'action': array([8., 1., 8., ..., 8., 8., 8.]),\n",
       " 'reward': array([6., 0., 1., ..., 0., 0., 0.]),\n",
       " 'done': array([0., 0., 0., ..., 0., 0., 1.]),\n",
       " 'terminal': array([0., 0., 0., ..., 0., 0., 1.]),\n",
       " 'info': {'search_volume': array([201., 205., 217., ..., 203., 257., 179.]),\n",
       "  'impression': array([201.,   0., 217., ...,   1.,   2.,   5.]),\n",
       "  'click': array([21.,  0., 24., ...,  0.,  0.,  0.]),\n",
       "  'conversion': array([6., 0., 1., ..., 0., 0., 0.]),\n",
       "  'average_bid_price': array([348.32835821,   8.51707317, 317.64976959, ..., 282.25123153,\n",
       "         270.03501946, 263.99441341])},\n",
       " 'pscore': array([0.73, 0.03, 0.73, ..., 0.73, 0.73, 0.73])}"
      ]
     },
     "execution_count": 30,
     "metadata": {},
     "output_type": "execute_result"
    }
   ],
   "source": [
    "logged_dataset"
   ]
  },
  {
   "cell_type": "code",
   "execution_count": 31,
   "metadata": {},
   "outputs": [],
   "source": [
    "with open(\"logs/dataset_discrete.pkl\", \"wb\") as f:\n",
    "    pickle.dump(logged_dataset, f)"
   ]
  },
  {
   "cell_type": "code",
   "execution_count": 32,
   "metadata": {},
   "outputs": [],
   "source": [
    "with open(\"logs/dataset_discrete.pkl\", \"rb\") as f:\n",
    "    logged_dataset = pickle.load(f)"
   ]
  },
  {
   "cell_type": "code",
   "execution_count": 33,
   "metadata": {},
   "outputs": [
    {
     "data": {
      "application/vnd.jupyter.widget-view+json": {
       "model_id": "d1d355e0f6f44b12a8b662ceabd59a32",
       "version_major": 2,
       "version_minor": 0
      },
      "text/plain": [
       "[calculate on-policy policy value]:   0%|          | 0/100 [00:00<?, ?it/s]"
      ]
     },
     "metadata": {},
     "output_type": "display_data"
    },
    {
     "data": {
      "application/vnd.jupyter.widget-view+json": {
       "model_id": "347eff08f1ba48cb8883d9a48fb20500",
       "version_major": 2,
       "version_minor": 0
      },
      "text/plain": [
       "[calculate on-policy policy value]:   0%|          | 0/100 [00:00<?, ?it/s]"
      ]
     },
     "metadata": {},
     "output_type": "display_data"
    },
    {
     "data": {
      "application/vnd.jupyter.widget-view+json": {
       "model_id": "9b3b9627da04409fae3680d8fb98441e",
       "version_major": 2,
       "version_minor": 0
      },
      "text/plain": [
       "[calculate on-policy policy value]:   0%|          | 0/100 [00:00<?, ?it/s]"
      ]
     },
     "metadata": {},
     "output_type": "display_data"
    },
    {
     "data": {
      "image/png": "[encoded data removed]",
      "text/plain": [
       "<Figure size 432x288 with 1 Axes>"
      ]
     },
     "metadata": {},
     "output_type": "display_data"
    }
   ],
   "source": [
    "# compare performance online\n",
    "# almost same performance with greedy ddqn\n",
    "visualize_on_policy_policy_value(\n",
    "    env=env,\n",
    "    policies=[ddqn, behavior_policy, random],\n",
    "    policy_names=[\"ddqn\", \"ddqn (e=0.3)\", \"random\"],\n",
    "    n_episodes=100,\n",
    "    random_state=random_state,\n",
    ")"
   ]
  },
  {
   "cell_type": "code",
   "execution_count": 34,
   "metadata": {},
   "outputs": [
    {
     "data": {
      "text/html": [
       "<div>\n",
       "<style scoped>\n",
       "    .dataframe tbody tr th:only-of-type {\n",
       "        vertical-align: middle;\n",
       "    }\n",
       "\n",
       "    .dataframe tbody tr th {\n",
       "        vertical-align: top;\n",
       "    }\n",
       "\n",
       "    .dataframe thead th {\n",
       "        text-align: right;\n",
       "    }\n",
       "</style>\n",
       "<table border=\"1\" class=\"dataframe\">\n",
       "  <thead>\n",
       "    <tr style=\"text-align: right;\">\n",
       "      <th></th>\n",
       "      <th>adjust rate</th>\n",
       "      <th>average bid price</th>\n",
       "      <th>impression</th>\n",
       "      <th>click</th>\n",
       "      <th>conversion</th>\n",
       "      <th>winning rate</th>\n",
       "      <th>click / impression</th>\n",
       "      <th>conversion / click</th>\n",
       "    </tr>\n",
       "  </thead>\n",
       "  <tbody>\n",
       "    <tr>\n",
       "      <th>count</th>\n",
       "      <td>70000.000000</td>\n",
       "      <td>70000.000000</td>\n",
       "      <td>70000.000000</td>\n",
       "      <td>70000.000000</td>\n",
       "      <td>70000.000000</td>\n",
       "      <td>70000.000000</td>\n",
       "      <td>70000.000000</td>\n",
       "      <td>70000.000000</td>\n",
       "    </tr>\n",
       "    <tr>\n",
       "      <th>mean</th>\n",
       "      <td>3.052961</td>\n",
       "      <td>169.409524</td>\n",
       "      <td>90.232457</td>\n",
       "      <td>8.640914</td>\n",
       "      <td>2.022686</td>\n",
       "      <td>0.518416</td>\n",
       "      <td>0.059641</td>\n",
       "      <td>0.128435</td>\n",
       "    </tr>\n",
       "    <tr>\n",
       "      <th>std</th>\n",
       "      <td>2.643813</td>\n",
       "      <td>138.963659</td>\n",
       "      <td>90.787256</td>\n",
       "      <td>9.511029</td>\n",
       "      <td>2.919448</td>\n",
       "      <td>0.432293</td>\n",
       "      <td>0.069916</td>\n",
       "      <td>0.181928</td>\n",
       "    </tr>\n",
       "    <tr>\n",
       "      <th>min</th>\n",
       "      <td>0.000138</td>\n",
       "      <td>3.732323</td>\n",
       "      <td>0.000000</td>\n",
       "      <td>0.000000</td>\n",
       "      <td>0.000000</td>\n",
       "      <td>0.000000</td>\n",
       "      <td>0.000000</td>\n",
       "      <td>0.000000</td>\n",
       "    </tr>\n",
       "    <tr>\n",
       "      <th>25%</th>\n",
       "      <td>1.087647</td>\n",
       "      <td>69.777613</td>\n",
       "      <td>3.000000</td>\n",
       "      <td>0.000000</td>\n",
       "      <td>0.000000</td>\n",
       "      <td>0.037915</td>\n",
       "      <td>0.000000</td>\n",
       "      <td>0.000000</td>\n",
       "    </tr>\n",
       "    <tr>\n",
       "      <th>50%</th>\n",
       "      <td>2.154435</td>\n",
       "      <td>110.822106</td>\n",
       "      <td>38.000000</td>\n",
       "      <td>3.000000</td>\n",
       "      <td>0.000000</td>\n",
       "      <td>0.530334</td>\n",
       "      <td>0.066986</td>\n",
       "      <td>0.000000</td>\n",
       "    </tr>\n",
       "    <tr>\n",
       "      <th>75%</th>\n",
       "      <td>5.994843</td>\n",
       "      <td>300.079309</td>\n",
       "      <td>189.000000</td>\n",
       "      <td>18.000000</td>\n",
       "      <td>3.000000</td>\n",
       "      <td>1.000000</td>\n",
       "      <td>0.101852</td>\n",
       "      <td>0.222222</td>\n",
       "    </tr>\n",
       "    <tr>\n",
       "      <th>max</th>\n",
       "      <td>10.000000</td>\n",
       "      <td>580.652381</td>\n",
       "      <td>290.000000</td>\n",
       "      <td>41.000000</td>\n",
       "      <td>20.000000</td>\n",
       "      <td>1.000000</td>\n",
       "      <td>0.999995</td>\n",
       "      <td>0.999998</td>\n",
       "    </tr>\n",
       "  </tbody>\n",
       "</table>\n",
       "</div>"
      ],
      "text/plain": [
       "        adjust rate  average bid price    impression         click  \\\n",
       "count  70000.000000       70000.000000  70000.000000  70000.000000   \n",
       "mean       3.052961         169.409524     90.232457      8.640914   \n",
       "std        2.643813         138.963659     90.787256      9.511029   \n",
       "min        0.000138           3.732323      0.000000      0.000000   \n",
       "25%        1.087647          69.777613      3.000000      0.000000   \n",
       "50%        2.154435         110.822106     38.000000      3.000000   \n",
       "75%        5.994843         300.079309    189.000000     18.000000   \n",
       "max       10.000000         580.652381    290.000000     41.000000   \n",
       "\n",
       "         conversion  winning rate  click / impression  conversion / click  \n",
       "count  70000.000000  70000.000000        70000.000000        70000.000000  \n",
       "mean       2.022686      0.518416            0.059641            0.128435  \n",
       "std        2.919448      0.432293            0.069916            0.181928  \n",
       "min        0.000000      0.000000            0.000000            0.000000  \n",
       "25%        0.000000      0.037915            0.000000            0.000000  \n",
       "50%        0.000000      0.530334            0.066986            0.000000  \n",
       "75%        3.000000      1.000000            0.101852            0.222222  \n",
       "max       20.000000      1.000000            0.999995            0.999998  "
      ]
     },
     "execution_count": 34,
     "metadata": {},
     "output_type": "execute_result"
    }
   ],
   "source": [
    "# check statistics of the dataset\n",
    "df = pd.DataFrame()\n",
    "df['adjust rate'] = logged_dataset['state'][:, 6]\n",
    "df['average bid price'] = logged_dataset['info']['average_bid_price']\n",
    "df['impression'] = logged_dataset['info']['impression']\n",
    "df['click'] = logged_dataset['info']['click']\n",
    "df['conversion'] = logged_dataset['info']['conversion']\n",
    "df['winning rate'] = logged_dataset['state'][:, 4]\n",
    "df['click / impression'] = df['click'] / (df['impression'] + 1e-5)\n",
    "df['conversion / click'] = df['conversion'] / (df['click'] + 1e-5)\n",
    "df.describe()"
   ]
  },
  {
   "cell_type": "markdown",
   "metadata": {},
   "source": [
    "For more about the data collection and visualization, please refer to [examples/quickstart/rtb_synthetic_data_collection.ipynb](https://github.com/negocia-inc/rtb_reinforcement_learing/blob/ope/examples/quickstart/rtb_synthetic_data_collection.ipynb)."
   ]
  },
  {
   "cell_type": "markdown",
   "metadata": {},
   "source": [
    "## 2. Offline Reinforcement Learning\n",
    "In this section, we learn a new policy in an offline manner, without interacting to the environment.  \n",
    "To achieve this goal, we exploit logged dataset and train the policy on the data.  \n",
    "We use [d3rlpy](https://github.com/takuseno/d3rlpy)'s implementation of algorithms."
   ]
  },
  {
   "cell_type": "code",
   "execution_count": 35,
   "metadata": {},
   "outputs": [],
   "source": [
    "# import modules from d3rlpy\n",
    "from d3rlpy.dataset import MDPDataset\n",
    "from d3rlpy.algos import DiscreteCQL\n",
    "from d3rlpy.ope import DiscreteFQE\n",
    "from d3rlpy.metrics.scorer import evaluate_on_environment"
   ]
  },
  {
   "cell_type": "code",
   "execution_count": 36,
   "metadata": {},
   "outputs": [],
   "source": [
    "offlinerl_dataset = MDPDataset(\n",
    "    observations=logged_dataset[\"state\"],\n",
    "    actions=logged_dataset[\"action\"],\n",
    "    rewards=logged_dataset[\"reward\"],\n",
    "    terminals=logged_dataset[\"done\"],\n",
    "    episode_terminals=logged_dataset[\"done\"],\n",
    "    discrete_action=True,\n",
    ")\n",
    "train_episodes, test_episodes = train_test_split(offlinerl_dataset, test_size=0.2, random_state=random_state)"
   ]
  },
  {
   "cell_type": "code",
   "execution_count": 37,
   "metadata": {},
   "outputs": [],
   "source": [
    "# Use Conservetive Q-Learning policy\n",
    "cql = DiscreteCQL(\n",
    "    encoder_factory=VectorEncoderFactory(hidden_units=[30, 30]),\n",
    "    q_func_factory=MeanQFunctionFactory(),\n",
    "    use_gpu=torch.cuda.is_available(),\n",
    ")"
   ]
  },
  {
   "cell_type": "code",
   "execution_count": 38,
   "metadata": {},
   "outputs": [
    {
     "name": "stdout",
     "output_type": "stream",
     "text": [
      "2022-02-03 17:31.09 [debug    ] RandomIterator is selected.\n",
      "2022-02-03 17:31.09 [info     ] Directory is created at d3rlpy_logs/DiscreteCQL_20220203173109\n",
      "2022-02-03 17:31.09 [debug    ] Building models...\n",
      "2022-02-03 17:31.09 [debug    ] Models have been built.\n",
      "2022-02-03 17:31.09 [info     ] Parameters are saved to d3rlpy_logs/DiscreteCQL_20220203173109/params.json params={'action_scaler': None, 'alpha': 1.0, 'batch_size': 32, 'encoder_factory': {'type': 'vector', 'params': {'hidden_units': [100], 'activation': 'relu', 'use_batch_norm': False, 'dropout_rate': None, 'use_dense': False}}, 'gamma': 0.99, 'generated_maxlen': 100000, 'learning_rate': 6.25e-05, 'n_critics': 1, 'n_frames': 1, 'n_steps': 1, 'optim_factory': {'optim_cls': 'Adam', 'betas': (0.9, 0.999), 'eps': 1e-08, 'weight_decay': 0, 'amsgrad': False}, 'q_func_factory': {'type': 'mean', 'params': {'bootstrap': False, 'share_encoder': False}}, 'real_ratio': 1.0, 'reward_scaler': None, 'scaler': None, 'target_reduction_type': 'min', 'target_update_interval': 8000, 'use_gpu': None, 'algorithm': 'DiscreteCQL', 'observation_shape': (7,), 'action_size': 10}\n"
     ]
    },
    {
     "data": {
      "application/vnd.jupyter.widget-view+json": {
       "model_id": "e814d4cd3f35475d8513fe474437b7b1",
       "version_major": 2,
       "version_minor": 0
      },
      "text/plain": [
       "Epoch 1/1:   0%|          | 0/10000 [00:00<?, ?it/s]"
      ]
     },
     "metadata": {},
     "output_type": "display_data"
    },
    {
     "name": "stdout",
     "output_type": "stream",
     "text": [
      "2022-02-03 17:32.12 [info     ] DiscreteCQL_20220203173109: epoch=1 step=10000 epoch=1 metrics={'time_sample_batch': 0.00020052032470703124, 'time_algorithm_update': 0.0058701807737350465, 'loss': 289.9190297232628, 'time_step': 0.0062738921165466305, 'environment': 14.0} step=10000\n",
      "2022-02-03 17:32.12 [info     ] Model parameters are saved to d3rlpy_logs/DiscreteCQL_20220203173109/model_10000.pt\n"
     ]
    },
    {
     "data": {
      "text/plain": [
       "[(1,\n",
       "  {'time_sample_batch': 0.00020052032470703124,\n",
       "   'time_algorithm_update': 0.0058701807737350465,\n",
       "   'loss': 289.9190297232628,\n",
       "   'time_step': 0.0062738921165466305,\n",
       "   'environment': 14.0})]"
      ]
     },
     "execution_count": 38,
     "metadata": {},
     "output_type": "execute_result"
    }
   ],
   "source": [
    "cql.fit(\n",
    "    train_episodes,\n",
    "    eval_episodes=test_episodes,\n",
    "    n_steps=10000,\n",
    "    scorers={\n",
    "        'environment': evaluate_on_environment(env),\n",
    "        # to record training process w/ ground truth policy value, which is unseen to the agent\n",
    "    },\n",
    ")"
   ]
  },
  {
   "cell_type": "code",
   "execution_count": 39,
   "metadata": {},
   "outputs": [],
   "source": [
    "# save model\n",
    "cql.save_model(\"d3rlpy_logs/cql_discrete.pt\")"
   ]
  },
  {
   "cell_type": "code",
   "execution_count": 40,
   "metadata": {},
   "outputs": [
    {
     "name": "stdout",
     "output_type": "stream",
     "text": [
      "2022-02-03 17:32.13 [warning  ] Parameters will be reinitialized.\n"
     ]
    }
   ],
   "source": [
    "# reload model\n",
    "cql.build_with_env(env)\n",
    "cql.load_model(\"d3rlpy_logs/cql_discrete.pt\")"
   ]
  },
  {
   "cell_type": "code",
   "execution_count": 41,
   "metadata": {},
   "outputs": [
    {
     "data": {
      "application/vnd.jupyter.widget-view+json": {
       "model_id": "469725c859dd44a4a3edce5813cd2840",
       "version_major": 2,
       "version_minor": 0
      },
      "text/plain": [
       "[calculate on-policy policy value]:   0%|          | 0/100 [00:00<?, ?it/s]"
      ]
     },
     "metadata": {},
     "output_type": "display_data"
    },
    {
     "data": {
      "application/vnd.jupyter.widget-view+json": {
       "model_id": "974196dc2a634ab681d2d3d7a22b2080",
       "version_major": 2,
       "version_minor": 0
      },
      "text/plain": [
       "[calculate on-policy policy value]:   0%|          | 0/100 [00:00<?, ?it/s]"
      ]
     },
     "metadata": {},
     "output_type": "display_data"
    },
    {
     "data": {
      "application/vnd.jupyter.widget-view+json": {
       "model_id": "1356e22291f84ca0b78da2ff051f1e37",
       "version_major": 2,
       "version_minor": 0
      },
      "text/plain": [
       "[calculate on-policy policy value]:   0%|          | 0/100 [00:00<?, ?it/s]"
      ]
     },
     "metadata": {},
     "output_type": "display_data"
    },
    {
     "data": {
      "application/vnd.jupyter.widget-view+json": {
       "model_id": "5c2420a2c5f449078c22a15f7c8f8afb",
       "version_major": 2,
       "version_minor": 0
      },
      "text/plain": [
       "[calculate on-policy policy value]:   0%|          | 0/100 [00:00<?, ?it/s]"
      ]
     },
     "metadata": {},
     "output_type": "display_data"
    },
    {
     "data": {
      "image/png": "[encoded data removed]",
      "text/plain": [
       "<Figure size 576x288 with 1 Axes>"
      ]
     },
     "metadata": {},
     "output_type": "display_data"
    }
   ],
   "source": [
    "# compare performance online\n",
    "# not better than online policy, but achieves almost the same performance\n",
    "# meaning that we can learn a reasonable policy without interacting with the environment!\n",
    "visualize_on_policy_policy_value(\n",
    "    env=env,\n",
    "    policies=[ddqn, behavior_policy, cql, random],\n",
    "    policy_names=[\"ddqn\", \"ddqn (e=0.3)\", \"cql (offline)\", \"random\"],\n",
    "    n_episodes=100,\n",
    "    random_state=random_state,\n",
    ")"
   ]
  },
  {
   "cell_type": "markdown",
   "metadata": {},
   "source": [
    "## 3. Off-Policy Evaluation and Evaluation of Offline RL methods\n",
    "In the previous section, we verified the performance of learned policy via online interaction (aka A/B tests).  \n",
    "However, it could be risky because the policy may perform poorly in an online environment.  \n",
    "To tackle this issue, we aim to evaluate the performance of policies in an offline manner, to gain prior knowledge on how agent works in the environment."
   ]
  },
  {
   "cell_type": "code",
   "execution_count": 42,
   "metadata": {},
   "outputs": [],
   "source": [
    "# import ope modules from offlinegym\n",
    "from offlinegym.ope import CreateOPEInput\n",
    "from offlinegym.ope import OffPolicyEvaluation as OPE\n",
    "from offlinegym.ope import DiscreteDirectMethod as DM\n",
    "from offlinegym.ope import DiscreteTrajectoryWiseImportanceSampling as TIS\n",
    "from offlinegym.ope import DiscreteStepWiseImportanceSampling as SIS\n",
    "from offlinegym.ope import DiscreteDoublyRobust as DR\n",
    "from offlinegym.ope import DiscreteSelfNormalizedTrajectoryWiseImportanceSampling as SNTIS\n",
    "from offlinegym.ope import DiscreteSelfNormalizedStepWiseImportanceSampling as SNSIS\n",
    "from offlinegym.ope import DiscreteSelfNormalizedDoublyRobust as SNDR"
   ]
  },
  {
   "cell_type": "code",
   "execution_count": 43,
   "metadata": {},
   "outputs": [],
   "source": [
    "# define evaluation policies\n",
    "cql_ = DiscreteEpsilonGreedyHead(base_policy=cql, n_actions=env.action_space.n, name=\"cql\", epsilon=0.0, random_state=random_state)\n",
    "ddqn_ = DiscreteEpsilonGreedyHead(base_policy=ddqn, n_actions=env.action_space.n, name=\"ddqn\", epsilon=0.0, random_state=random_state)\n",
    "random_ = DiscreteEpsilonGreedyHead(base_policy=random, n_actions=env.action_space.n, name=\"random\", epsilon=1.0, random_state=random_state)\n",
    "evaluation_policies = [cql_, ddqn_, random_]"
   ]
  },
  {
   "cell_type": "code",
   "execution_count": 44,
   "metadata": {},
   "outputs": [],
   "source": [
    "# first, prepare OPE inputs\n",
    "prep = CreateOPEInput(\n",
    "    logged_dataset=logged_dataset,\n",
    "    use_base_model=True,  # use model-based prediction\n",
    ")"
   ]
  },
  {
   "cell_type": "code",
   "execution_count": 45,
   "metadata": {},
   "outputs": [
    {
     "data": {
      "application/vnd.jupyter.widget-view+json": {
       "model_id": "42f019d015314492a333f6adb549f2b9",
       "version_major": 2,
       "version_minor": 0
      },
      "text/plain": [
       "[fit FQE model]:   0%|          | 0/3 [00:00<?, ?it/s]"
      ]
     },
     "metadata": {},
     "output_type": "display_data"
    },
    {
     "name": "stdout",
     "output_type": "stream",
     "text": [
      "2022-02-03 17:32.17 [debug    ] RandomIterator is selected.\n",
      "2022-02-03 17:32.17 [info     ] Directory is created at d3rlpy_logs/DiscreteFQE_20220203173217\n",
      "2022-02-03 17:32.17 [debug    ] Building models...\n",
      "2022-02-03 17:32.17 [debug    ] Models have been built.\n",
      "2022-02-03 17:32.17 [info     ] Parameters are saved to d3rlpy_logs/DiscreteFQE_20220203173217/params.json params={'action_scaler': None, 'batch_size': 100, 'encoder_factory': {'type': 'vector', 'params': {'hidden_units': [30, 30], 'activation': 'relu', 'use_batch_norm': False, 'dropout_rate': None, 'use_dense': False}}, 'gamma': 0.99, 'generated_maxlen': 100000, 'learning_rate': 0.0001, 'n_critics': 1, 'n_frames': 1, 'n_steps': 1, 'optim_factory': {'optim_cls': 'Adam', 'betas': (0.9, 0.999), 'eps': 1e-08, 'weight_decay': 0, 'amsgrad': False}, 'q_func_factory': {'type': 'mean', 'params': {'bootstrap': False, 'share_encoder': False}}, 'real_ratio': 1.0, 'reward_scaler': None, 'scaler': None, 'target_update_interval': 100, 'use_gpu': None, 'algorithm': 'DiscreteFQE', 'observation_shape': (7,), 'action_size': 10}\n"
     ]
    },
    {
     "data": {
      "application/vnd.jupyter.widget-view+json": {
       "model_id": "9b0b282d0c134454823f2db251825a32",
       "version_major": 2,
       "version_minor": 0
      },
      "text/plain": [
       "Epoch 1/1:   0%|          | 0/10000 [00:00<?, ?it/s]"
      ]
     },
     "metadata": {},
     "output_type": "display_data"
    },
    {
     "name": "stdout",
     "output_type": "stream",
     "text": [
      "2022-02-03 17:33.48 [info     ] DiscreteFQE_20220203173217: epoch=1 step=10000 epoch=1 metrics={'time_sample_batch': 0.0005314762592315673, 'time_algorithm_update': 0.008184069395065307, 'loss': 2.24522663128376, 'time_step': 0.00893201813697815} step=10000\n",
      "2022-02-03 17:33.48 [info     ] Model parameters are saved to d3rlpy_logs/DiscreteFQE_20220203173217/model_10000.pt\n",
      "2022-02-03 17:33.48 [debug    ] RandomIterator is selected.\n",
      "2022-02-03 17:33.48 [info     ] Directory is created at d3rlpy_logs/DiscreteFQE_20220203173348\n",
      "2022-02-03 17:33.48 [debug    ] Building models...\n",
      "2022-02-03 17:33.48 [debug    ] Models have been built.\n",
      "2022-02-03 17:33.48 [info     ] Parameters are saved to d3rlpy_logs/DiscreteFQE_20220203173348/params.json params={'action_scaler': None, 'batch_size': 100, 'encoder_factory': {'type': 'vector', 'params': {'hidden_units': [30, 30], 'activation': 'relu', 'use_batch_norm': False, 'dropout_rate': None, 'use_dense': False}}, 'gamma': 0.99, 'generated_maxlen': 100000, 'learning_rate': 0.0001, 'n_critics': 1, 'n_frames': 1, 'n_steps': 1, 'optim_factory': {'optim_cls': 'Adam', 'betas': (0.9, 0.999), 'eps': 1e-08, 'weight_decay': 0, 'amsgrad': False}, 'q_func_factory': {'type': 'mean', 'params': {'bootstrap': False, 'share_encoder': False}}, 'real_ratio': 1.0, 'reward_scaler': None, 'scaler': None, 'target_update_interval': 100, 'use_gpu': None, 'algorithm': 'DiscreteFQE', 'observation_shape': (7,), 'action_size': 10}\n"
     ]
    },
    {
     "data": {
      "application/vnd.jupyter.widget-view+json": {
       "model_id": "a1dffde38996497090152a64e47c7d8b",
       "version_major": 2,
       "version_minor": 0
      },
      "text/plain": [
       "Epoch 1/1:   0%|          | 0/10000 [00:00<?, ?it/s]"
      ]
     },
     "metadata": {},
     "output_type": "display_data"
    },
    {
     "name": "stdout",
     "output_type": "stream",
     "text": [
      "2022-02-03 17:35.14 [info     ] DiscreteFQE_20220203173348: epoch=1 step=10000 epoch=1 metrics={'time_sample_batch': 0.0005352959156036377, 'time_algorithm_update': 0.007768843722343445, 'loss': 1.9296246442645788, 'time_step': 0.008531998038291931} step=10000\n",
      "2022-02-03 17:35.14 [info     ] Model parameters are saved to d3rlpy_logs/DiscreteFQE_20220203173348/model_10000.pt\n",
      "2022-02-03 17:35.14 [debug    ] RandomIterator is selected.\n",
      "2022-02-03 17:35.14 [info     ] Directory is created at d3rlpy_logs/DiscreteFQE_20220203173514\n",
      "2022-02-03 17:35.14 [debug    ] Building models...\n",
      "2022-02-03 17:35.14 [debug    ] Models have been built.\n",
      "2022-02-03 17:35.14 [info     ] Parameters are saved to d3rlpy_logs/DiscreteFQE_20220203173514/params.json params={'action_scaler': None, 'batch_size': 100, 'encoder_factory': {'type': 'vector', 'params': {'hidden_units': [30, 30], 'activation': 'relu', 'use_batch_norm': False, 'dropout_rate': None, 'use_dense': False}}, 'gamma': 0.99, 'generated_maxlen': 100000, 'learning_rate': 0.0001, 'n_critics': 1, 'n_frames': 1, 'n_steps': 1, 'optim_factory': {'optim_cls': 'Adam', 'betas': (0.9, 0.999), 'eps': 1e-08, 'weight_decay': 0, 'amsgrad': False}, 'q_func_factory': {'type': 'mean', 'params': {'bootstrap': False, 'share_encoder': False}}, 'real_ratio': 1.0, 'reward_scaler': None, 'scaler': None, 'target_update_interval': 100, 'use_gpu': None, 'algorithm': 'DiscreteFQE', 'observation_shape': (7,), 'action_size': 10}\n"
     ]
    },
    {
     "data": {
      "application/vnd.jupyter.widget-view+json": {
       "model_id": "3e5c0cfd44624d3f8d014699ac7b797a",
       "version_major": 2,
       "version_minor": 0
      },
      "text/plain": [
       "Epoch 1/1:   0%|          | 0/10000 [00:00<?, ?it/s]"
      ]
     },
     "metadata": {},
     "output_type": "display_data"
    },
    {
     "name": "stdout",
     "output_type": "stream",
     "text": [
      "2022-02-03 17:36.32 [info     ] DiscreteFQE_20220203173514: epoch=1 step=10000 epoch=1 metrics={'time_sample_batch': 0.0005215746879577637, 'time_algorithm_update': 0.006953977990150451, 'loss': 6.1020305338084695, 'time_step': 0.0076921414375305175} step=10000\n",
      "2022-02-03 17:36.32 [info     ] Model parameters are saved to d3rlpy_logs/DiscreteFQE_20220203173514/model_10000.pt\n"
     ]
    },
    {
     "data": {
      "application/vnd.jupyter.widget-view+json": {
       "model_id": "1327ba58154041aca6b253055a80d018",
       "version_major": 2,
       "version_minor": 0
      },
      "text/plain": [
       "[collect input data]:   0%|          | 0/3 [00:00<?, ?it/s]"
      ]
     },
     "metadata": {},
     "output_type": "display_data"
    },
    {
     "data": {
      "application/vnd.jupyter.widget-view+json": {
       "model_id": "94d4a7ac44724f1d828c3293da578508",
       "version_major": 2,
       "version_minor": 0
      },
      "text/plain": [
       "[calculate on-policy policy value]:   0%|          | 0/100 [00:00<?, ?it/s]"
      ]
     },
     "metadata": {},
     "output_type": "display_data"
    },
    {
     "data": {
      "application/vnd.jupyter.widget-view+json": {
       "model_id": "fcc68072567043b283eaab3deb43131c",
       "version_major": 2,
       "version_minor": 0
      },
      "text/plain": [
       "[calculate on-policy policy value]:   0%|          | 0/100 [00:00<?, ?it/s]"
      ]
     },
     "metadata": {},
     "output_type": "display_data"
    },
    {
     "data": {
      "application/vnd.jupyter.widget-view+json": {
       "model_id": "e226f4561d434753a9c0b3f9d27d2d07",
       "version_major": 2,
       "version_minor": 0
      },
      "text/plain": [
       "[calculate on-policy policy value]:   0%|          | 0/100 [00:00<?, ?it/s]"
      ]
     },
     "metadata": {},
     "output_type": "display_data"
    }
   ],
   "source": [
    "# takes time\n",
    "input_dict = prep.obtain_whole_inputs(\n",
    "    evaluation_policies=evaluation_policies,\n",
    "    env=env,\n",
    "    n_episodes_on_policy_evaluation=100,\n",
    "    random_state=random_state,\n",
    ")"
   ]
  },
  {
   "cell_type": "code",
   "execution_count": 46,
   "metadata": {},
   "outputs": [],
   "source": [
    "with open(\"logs/ope_input_dict_discrete.pkl\", \"wb\") as f:\n",
    "    pickle.dump(input_dict, f)"
   ]
  },
  {
   "cell_type": "code",
   "execution_count": 47,
   "metadata": {},
   "outputs": [],
   "source": [
    "with open(\"logs/ope_input_dict_discrete.pkl\", \"rb\") as f:\n",
    "    input_dict = pickle.load(f)"
   ]
  },
  {
   "cell_type": "code",
   "execution_count": 48,
   "metadata": {},
   "outputs": [],
   "source": [
    "ope = OPE(\n",
    "    logged_dataset=logged_dataset,\n",
    "    ope_estimators=[DM(), TIS(), SIS(), DR(), SNTIS(), SNSIS(), SNDR()],\n",
    ")"
   ]
  },
  {
   "cell_type": "code",
   "execution_count": 49,
   "metadata": {},
   "outputs": [],
   "source": [
    "# performance estimation by ope\n",
    "policy_value_df_dict, policy_value_interval_df_dict = ope.summarize_off_policy_estimates(input_dict, random_state=random_state)"
   ]
  },
  {
   "cell_type": "code",
   "execution_count": 50,
   "metadata": {},
   "outputs": [
    {
     "data": {
      "text/plain": [
       "{'cql':            policy_value  relative_policy_value\n",
       " on_policy     14.540000               1.000000\n",
       " dm             4.476561               0.307879\n",
       " tis           14.057005               0.966782\n",
       " sis           14.145144               0.972843\n",
       " dr            14.228294               0.978562\n",
       " sntis         21.695747               1.492142\n",
       " snsis         14.317460               0.984695\n",
       " sndr          14.334476               0.985865,\n",
       " 'ddqn':            policy_value  relative_policy_value\n",
       " on_policy     14.560000               1.000000\n",
       " dm             5.023689               0.345034\n",
       " tis           14.801675               1.016599\n",
       " sis           14.462411               0.993297\n",
       " dr            14.433665               0.991323\n",
       " sntis         14.509317               0.996519\n",
       " snsis         14.400155               0.989022\n",
       " sndr          14.391656               0.988438,\n",
       " 'random':            policy_value  relative_policy_value\n",
       " on_policy     11.970000               1.000000\n",
       " dm            13.056189               1.090743\n",
       " tis            6.170706               0.515514\n",
       " sis           12.068038               1.008190\n",
       " dr            14.068167               1.175285\n",
       " sntis         13.321999               1.112949\n",
       " snsis         13.535365               1.130774\n",
       " sndr          14.026947               1.171842}"
      ]
     },
     "execution_count": 50,
     "metadata": {},
     "output_type": "execute_result"
    }
   ],
   "source": [
    "# estimated policy performance\n",
    "policy_value_df_dict"
   ]
  },
  {
   "cell_type": "code",
   "execution_count": 51,
   "metadata": {},
   "outputs": [
    {
     "data": {
      "text/plain": [
       "{'cql':             mean  95.0% CI (lower)  95.0% CI (upper)\n",
       " dm      4.476582          4.476078          4.476981\n",
       " tis    16.094800          0.369265         40.096393\n",
       " sis    14.176760         13.739128         14.686105\n",
       " dr     14.244573         13.917803         14.634458\n",
       " sntis  24.840903          0.569928         61.885245\n",
       " snsis  14.350089         13.902136         14.880765\n",
       " sndr   14.349334         14.022612         14.762691,\n",
       " 'ddqn':             mean  95.0% CI (lower)  95.0% CI (upper)\n",
       " dm      5.023694          5.022442          5.024850\n",
       " tis    14.856222         13.957924         15.662330\n",
       " sis    14.471976         14.244455         14.690359\n",
       " dr     14.440589         14.289639         14.598601\n",
       " sntis  14.562786         13.682232         15.352972\n",
       " snsis  14.409667         14.183707         14.626824\n",
       " sndr   14.398533         14.248768         14.555511,\n",
       " 'random':             mean  95.0% CI (lower)  95.0% CI (upper)\n",
       " dm     13.056174         13.055875         13.056414\n",
       " tis     6.183670          3.994319          8.634787\n",
       " sis    11.913107          9.797230         14.329452\n",
       " dr     14.061073         13.308426         15.033648\n",
       " sntis  13.349987          8.623375         18.641728\n",
       " snsis  13.336884         10.654668         16.355036\n",
       " sndr   14.017232         12.968116         15.363143}"
      ]
     },
     "execution_count": 51,
     "metadata": {},
     "output_type": "execute_result"
    }
   ],
   "source": [
    "# estimated policy performance confidence intervals\n",
    "policy_value_interval_df_dict"
   ]
  },
  {
   "cell_type": "markdown",
   "metadata": {},
   "source": [
    "## 4. Evaluation of OPE methods\n",
    "Now, we evaluate how well ope estimators estimated the policy value."
   ]
  },
  {
   "cell_type": "code",
   "execution_count": 52,
   "metadata": {},
   "outputs": [
    {
     "data": {
      "image/png": "[encoded data removed]",
      "text/plain": [
       "<Figure size 1008x2592 with 3 Axes>"
      ]
     },
     "metadata": {},
     "output_type": "display_data"
    }
   ],
   "source": [
    "# we can visualize and compare the result\n",
    "# it seems that DM tends to have a bias though the variance is quite small, \n",
    "# while importance sampling estimators have a smaller bias with a larger variance.\n",
    "# self-normalized estimators also works well\n",
    "ope.visualize_off_policy_estimates(input_dict, random_state=random_state, sharey=True)"
   ]
  },
  {
   "cell_type": "code",
   "execution_count": 53,
   "metadata": {},
   "outputs": [
    {
     "data": {
      "text/html": [
       "<div>\n",
       "<style scoped>\n",
       "    .dataframe tbody tr th:only-of-type {\n",
       "        vertical-align: middle;\n",
       "    }\n",
       "\n",
       "    .dataframe tbody tr th {\n",
       "        vertical-align: top;\n",
       "    }\n",
       "\n",
       "    .dataframe thead th {\n",
       "        text-align: right;\n",
       "    }\n",
       "</style>\n",
       "<table border=\"1\" class=\"dataframe\">\n",
       "  <thead>\n",
       "    <tr style=\"text-align: right;\">\n",
       "      <th></th>\n",
       "      <th>cql</th>\n",
       "      <th>ddqn</th>\n",
       "      <th>random</th>\n",
       "    </tr>\n",
       "  </thead>\n",
       "  <tbody>\n",
       "    <tr>\n",
       "      <th>dm</th>\n",
       "      <td>101.272796</td>\n",
       "      <td>90.941234</td>\n",
       "      <td>1.179807</td>\n",
       "    </tr>\n",
       "    <tr>\n",
       "      <th>tis</th>\n",
       "      <td>0.233284</td>\n",
       "      <td>0.058407</td>\n",
       "      <td>33.631810</td>\n",
       "    </tr>\n",
       "    <tr>\n",
       "      <th>sis</th>\n",
       "      <td>0.155912</td>\n",
       "      <td>0.009524</td>\n",
       "      <td>0.009612</td>\n",
       "    </tr>\n",
       "    <tr>\n",
       "      <th>dr</th>\n",
       "      <td>0.097161</td>\n",
       "      <td>0.015960</td>\n",
       "      <td>4.402304</td>\n",
       "    </tr>\n",
       "    <tr>\n",
       "      <th>sntis</th>\n",
       "      <td>51.204710</td>\n",
       "      <td>0.002569</td>\n",
       "      <td>1.827902</td>\n",
       "    </tr>\n",
       "    <tr>\n",
       "      <th>snsis</th>\n",
       "      <td>0.049524</td>\n",
       "      <td>0.025550</td>\n",
       "      <td>2.450368</td>\n",
       "    </tr>\n",
       "    <tr>\n",
       "      <th>sndr</th>\n",
       "      <td>0.042240</td>\n",
       "      <td>0.028340</td>\n",
       "      <td>4.231033</td>\n",
       "    </tr>\n",
       "  </tbody>\n",
       "</table>\n",
       "</div>"
      ],
      "text/plain": [
       "              cql       ddqn     random\n",
       "dm     101.272796  90.941234   1.179807\n",
       "tis      0.233284   0.058407  33.631810\n",
       "sis      0.155912   0.009524   0.009612\n",
       "dr       0.097161   0.015960   4.402304\n",
       "sntis   51.204710   0.002569   1.827902\n",
       "snsis    0.049524   0.025550   2.450368\n",
       "sndr     0.042240   0.028340   4.231033"
      ]
     },
     "execution_count": 53,
     "metadata": {},
     "output_type": "execute_result"
    }
   ],
   "source": [
    "# squared-error (se) measures the estimation accuracy of OPE\n",
    "eval_metric_ope_df = ope.summarize_estimators_comparison(input_dict, metric=\"se\")\n",
    "eval_metric_ope_df"
   ]
  },
  {
   "cell_type": "markdown",
   "metadata": {},
   "source": [
    "## Reference\n",
    "\n",
    "- Yuta Saito, Shunsuke Aihara, Megumi Matsutani, and Yusuke Narita. \\\n",
    "\"Open Bandit Dataset and Pipeline: Towards Realistic and Reproducible Off-Policy Evaluation.\", 2021.\n",
    "\n",
    "- Takuma Seno and Michita Imai. \\\n",
    "\"d3rlpy: An Offline Deep Reinforcement Library.\", 2021.\n",
    "\n",
    "- Sergey Levine, Aviral Kumar, George Tucker, and Justin Fu. \\\n",
    "\"Offline Reinforcement Learning: Tutorial, Review, and Perspectives on Open Problems.\" 2020.\n",
    "\n",
    "- Aviral Kumar, Aurick Zhou, George Tucker, and Sergey Levine. \\\n",
    "\"Conservative Q-Learning for Offline Reinforcement Learning.\", 2020.\n",
    "\n",
    "- Nathan Kallus and Masatoshi Uehara. \\\n",
    "\"Intrinsically Efficient, Stable, and Bounded Off-Policy Evaluation for Reinforcement Learning.\", 2019.\n",
    "\n",
    "- Hoang Le, Cameron Voloshin, and Yisong Yue. \\\n",
    "\"Batch Policy Learning under Constraints.\", 2019.\n",
    "\n",
    "- Di Wu, Xiujun Chen, Xun Yang, Hao Wang, Qing Tan, Xiaoxun Zhang, Jian Xu, and Kun Gai. \\\n",
    "\"Budget Constrained Bidding by Model-free Reinforcement Learning in Display Advertising.\", 2018.\n",
    "\n",
    "- Jun Zhao, Guang Qiu, Ziyu Guan, Wei Zhao, and Xiaofei He. \\\n",
    "\"Deep Reinforcement Learning for Sponsored Search Real-time Bidding.\", 2018.\n",
    "\n",
    "- Nan Jiang and Lihong Li. \\\n",
    "\"Doubly Robust Off-policy Value Evaluation for Reinforcement Learning.\", 2016.\n",
    "\n",
    "- Philip S. Thomas and Emma Brunskill. \\\n",
    "\"Data-Efficient Off-Policy Policy Evaluation for Reinforcement Learning.\", 2016.\n",
    "\n",
    "- Greg Brockman, Vicki Cheung, Ludwig Pettersson, Jonas Schneider, John Schulman, Jie Tang, and Wojciech Zaremba. \\\n",
    "\"OpenAI Gym.\", 2016.\n",
    "\n",
    "- Adith Swaminathan and Thorsten Joachims. \\\n",
    "\"The Self-Normalized Estimator for Counterfactual Learning.\", 2015.\n",
    "\n",
    "- Hado van Hasselt, Arthur Guez, and David Silver. \\\n",
    "\"Deep Reinforcement Learning with Double Q-learning.\", 2015.\n",
    "\n",
    "- Miroslav Dudík, Dumitru Erhan, John Langford, and Lihong Li. \\\n",
    "\"Doubly Robust Policy Evaluation and Optimization.\", 2014.\n",
    "\n",
    "- Alex Strehl, John Langford, Sham Kakade, and Lihong Li. \\\n",
    "\"Learning from Logged Implicit Exploration Data.\", 2010.\n",
    "\n",
    "- Alina Beygelzimer and John Langford. \\\n",
    "\"The Offset Tree for Learning with Partial Labels.\", 2009.\n",
    "\n",
    "- Doina Precup, Richard S. Sutton, and Satinder P. Singh. \\\n",
    "\"Eligibility Traces for Off-Policy Policy Evaluation.\", 2000."
   ]
  },
  {
   "cell_type": "code",
   "execution_count": null,
   "metadata": {},
   "outputs": [],
   "source": []
  }
 ],
 "metadata": {
  "kernelspec": {
   "display_name": "Python 3",
   "language": "python",
   "name": "python3"
  },
  "language_info": {
   "codemirror_mode": {
    "name": "ipython",
    "version": 3
   },
   "file_extension": ".py",
   "mimetype": "text/x-python",
   "name": "python",
   "nbconvert_exporter": "python",
   "pygments_lexer": "ipython3",
   "version": "3.8.5"
  }
 },
 "nbformat": 4,
 "nbformat_minor": 4
}
