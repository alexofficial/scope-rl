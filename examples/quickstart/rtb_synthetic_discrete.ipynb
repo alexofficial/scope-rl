{
 "cells": [
  {
   "cell_type": "markdown",
   "metadata": {},
   "source": [
    "# Quickstart Example with Synthetic RTB Simulation and Dataset (Discrete)\n",
    "This notebook provides an example of conducting **Off-policy Evaluation (OPE) and Offline Reinforcement Learning (Offline RL) with synthetic Real-Time Bidding (RTB) dataset**.\n",
    "\n",
    "Our example with Synthetic RTB Simualtion and Dataset contains the following 5 steps:\n",
    "0. (Setup Synthetic RTB Simulation Environment and Online RL)\n",
    "1. Synthetic Data Generation\n",
    "2. Offline Reinforcement Learning\n",
    "3. Off-Policy Evaluation and Evaluation of Offline RL methods\n",
    "4. Evaluation of OPE methods\n",
    "\n",
    "\\* This library uses [d3rlpy](https://github.com/takuseno/d3rlpy)'s algorithm implementations of online/offline rl policies and model-based evaluation.  \n",
    "\\* Also, our implementations of OPE are highly inspired by [Open Bandit Pipeline](https://github.com/st-tech/zr-obp)."
   ]
  },
  {
   "cell_type": "code",
   "execution_count": 1,
   "metadata": {},
   "outputs": [],
   "source": [
    "# delete later\n",
    "%load_ext autoreload\n",
    "%autoreload 2"
   ]
  },
  {
   "cell_type": "code",
   "execution_count": 2,
   "metadata": {},
   "outputs": [],
   "source": [
    "# delete later\n",
    "import warnings\n",
    "warnings.simplefilter('ignore')"
   ]
  },
  {
   "cell_type": "code",
   "execution_count": 3,
   "metadata": {},
   "outputs": [],
   "source": [
    "# delete later\n",
    "import sys\n",
    "sys.path.append('../')\n",
    "sys.path.append('../../')"
   ]
  },
  {
   "cell_type": "code",
   "execution_count": 4,
   "metadata": {},
   "outputs": [],
   "source": [
    "# import _gym modules\n",
    "import _gym\n",
    "from _gym.env import RTBEnv, CustomizedRTBEnv\n",
    "from _gym.dataset import SyntheticDataset\n",
    "from _gym.policy import OnlineHead\n",
    "from _gym.ope.online import (\n",
    "    calc_on_policy_policy_value,\n",
    "    visualize_on_policy_policy_value,\n",
    ")\n",
    "\n",
    "# import d3rlpy algorithms\n",
    "from d3rlpy.algos import DiscreteRandomPolicy\n",
    "from d3rlpy.algos import RandomPolicy as ContinuousRandomPolicy\n",
    "from d3rlpy.preprocessing import MinMaxActionScaler\n",
    "\n",
    "# import from other libraries\n",
    "import torch\n",
    "from sklearn.linear_model import LogisticRegression\n",
    "from sklearn.model_selection import train_test_split"
   ]
  },
  {
   "cell_type": "code",
   "execution_count": 5,
   "metadata": {},
   "outputs": [],
   "source": [
    "import pickle\n",
    "from glob import glob\n",
    "from tqdm import tqdm\n",
    "\n",
    "import numpy as np\n",
    "import pandas as pd\n",
    "\n",
    "import matplotlib.pyplot as plt\n",
    "import seaborn as sns\n",
    "\n",
    "%matplotlib inline"
   ]
  },
  {
   "cell_type": "code",
   "execution_count": 6,
   "metadata": {},
   "outputs": [
    {
     "name": "stdout",
     "output_type": "stream",
     "text": [
      "0.0.0\n"
     ]
    }
   ],
   "source": [
    "# version\n",
    "print(_gym.__version__)"
   ]
  },
  {
   "cell_type": "code",
   "execution_count": 7,
   "metadata": {},
   "outputs": [],
   "source": [
    "# set random state\n",
    "random_state = 12345"
   ]
  },
  {
   "cell_type": "markdown",
   "metadata": {},
   "source": [
    "## 0. (Setup Synthetic RTB Simulation Environment and Online RL)\n",
    "To begin with, we briefly describe how the RTB environment works for the preparation.\n",
    "\n",
    "#### RL setup for RTB\n",
    "In RTB, the objective of the RL agent is to maximize some KPIs (such as numbers of click or conversion) within a episode under the given budget constraints.  \n",
    "We often try to achieve this by adjusting bidding price function parameter :math:`\\alpha`. By using :math:`\\alpha`, we adjust bid price as follows.  \n",
    ":math:`bid_{t,i} = \\alpha * r*`, \n",
    "where :math:`r*` denotes predicted or expected reward (KPIs).\n",
    "\n",
    "We often formulate this RTB problem as the following Constrained Markov Decision Process (CMDP):\n",
    "- `timestep`: One episode (a day or a week) consists of several timesteps (24 hours or seven days, for instance).\n",
    "- `state`: We observe statistical feedback from environment at each timestep, which include following informations.\n",
    "  - timestep\n",
    "  - remaining budget\n",
    "  - impression level features (budget comsuption rate, cost per mille of impressions, auction winning rate, reward) at previous timestep\n",
    "  - adjust rate (RL agent's decision making) at previous timestep\n",
    "- `action`: Agent chooses adjust rate parameter :math:`\\alpha` to maximize KPIs.\n",
    "- `reward`: Total number of clicks or conversions obtained during the timestep.\n",
    "- `constraints`: The pre-determined episodic budget should not be exceeded.\n",
    "\n",
    "Let's see how it works!"
   ]
  },
  {
   "cell_type": "code",
   "execution_count": 8,
   "metadata": {},
   "outputs": [],
   "source": [
    "# setup environment\n",
    "env = RTBEnv(random_state=random_state)"
   ]
  },
  {
   "cell_type": "code",
   "execution_count": 9,
   "metadata": {},
   "outputs": [],
   "source": [
    "# define random agent\n",
    "agent = OnlineHead(\n",
    "    ContinuousRandomPolicy(\n",
    "        action_scaler=MinMaxActionScaler(\n",
    "            minimum=0.1,  # minimum value that policy can take\n",
    "            maximum=10,  # maximum value that policy can take\n",
    "        )\n",
    "    )\n",
    ")"
   ]
  },
  {
   "cell_type": "code",
   "execution_count": 10,
   "metadata": {},
   "outputs": [],
   "source": [
    "# interact agent with environment\n",
    "# only 6 lines needed for RL interaction\n",
    "for episode in range(10):\n",
    "    obs = env.reset()\n",
    "    done = False\n",
    "\n",
    "    while not done:\n",
    "        action = agent.predict_online(obs)\n",
    "        obs, reward, done, info = env.step(action)"
   ]
  },
  {
   "cell_type": "code",
   "execution_count": 11,
   "metadata": {},
   "outputs": [
    {
     "name": "stdout",
     "output_type": "stream",
     "text": [
      "['timestep', 'remaining_budget', 'budget_consumption_rate', 'cost_per_mille_of_impression', 'winning_rate', 'reward', 'adjust_rate']\n",
      "(7,)\n"
     ]
    }
   ],
   "source": [
    "# state contains the following statistical feedback from environment\n",
    "print(env.obs_keys)\n",
    "print(obs.shape)"
   ]
  },
  {
   "cell_type": "code",
   "execution_count": 12,
   "metadata": {},
   "outputs": [
    {
     "data": {
      "image/png": "[encoded data removed]",
      "text/plain": [
       "<Figure size 432x288 with 2 Axes>"
      ]
     },
     "metadata": {
      "needs_background": "light"
     },
     "output_type": "display_data"
    }
   ],
   "source": [
    "# let's visualize the transition of remaing budget and cumulative reward\n",
    "# our goal is to gain a policy (i.e., agent) which maximize the cumulative reward under budget constraints using RL.  \n",
    "obs = env.reset()\n",
    "done = False\n",
    "remaining_budget = [obs[1]]\n",
    "cumulative_reward = [0]\n",
    "\n",
    "while not done:\n",
    "    action = agent.predict_online(obs)\n",
    "    obs, reward, done, info = env.step(action)\n",
    "    remaining_budget.append(obs[1])\n",
    "    cumulative_reward.append(cumulative_reward[-1] + reward)\n",
    "\n",
    "# plot\n",
    "fig = plt.figure()\n",
    "ax1 = fig.add_subplot(111)\n",
    "ax1.plot(remaining_budget[:-1], label='remaining budget')\n",
    "ax2 = ax1.twinx()\n",
    "ax2.plot(cumulative_reward[:-1], label='cumulative reward', color='tab:orange')\n",
    "ax1.set_xlabel('timestep')\n",
    "ax1.set_ylabel('remainig budget')\n",
    "ax1.set_ylim(0, env.initial_budget + 100)\n",
    "ax2.set_ylabel('reward (coversion)')\n",
    "ax1.legend(loc='upper left')\n",
    "ax2.legend(loc='upper right')\n",
    "plt.show()"
   ]
  },
  {
   "cell_type": "markdown",
   "metadata": {},
   "source": [
    "We see that the random policy soon run out the budget.  \n",
    "Our goal is to derive a policy that controls the adjust rate (i.e., action) to maximize the reward within the given budget constraints.\n",
    "\n",
    "For the customization of environmental configuration (e.g., WinningPriceDistribution) and visualization, please refer to `rtb_synthetic_customize_environment.ipynb`."
   ]
  },
  {
   "cell_type": "markdown",
   "metadata": {},
   "source": [
    "#### Customization of bidding setup in RTB Env\n",
    "Here, we describe how the decision makers customize their own RTB environment.  \n",
    "Specifically, they can setup their own action space and bid price calculation rules by defining the following modules.\n",
    "- `reward_predictor` in Bidder class  \n",
    "    We use predicted rewards to calculate bid price.  \n",
    "        bid price = adjust rate * predicted reward ( * constant)\n",
    "    If None, we use ground-truth reward instead of predicted reward.  \n",
    "\n",
    "- `scaler` in Bidder class\n",
    "    Scaler defines constant in the bid price calculation.  \n",
    "        bid price = adjust rate * predicted reward ( * constant)\n",
    "        constant = scaler * standard_bid_price\n",
    "    where standard_bid_price indicates the average of standard_bid_price  \n",
    "    (bid price which has approximately 50% impression probability) over all ads.\n",
    "\n",
    "- `action_space` for agent  \n",
    "    We transform continual adjust rate space [0, \\infty) into agent action space [0.1, 10].  \n",
    "    Both discrete and continuous actions are acceptable.  \n",
    "    (We can tune multiplication of adjust rate using scaler.)\n",
    "    \n",
    "The arguments are given as follows:\n",
    "- `original_env`: Original RTB Environment.\n",
    "- `reward_predictor`: A machine learning model to predict the reward to determine the bidding price.\n",
    "- `scaler`: Scaling factor (constant value) used for bid price determination. (`None` for the auto-fitting)\n",
    "- `action_type`: Action type of the RL agent, which is either \"discrete\" or \"continuous\".\n",
    "- `action_dim`: Dimention of \"discrete\" action.\n",
    "- `action_meaning`: Mapping function of agent action index to the actual \"discrete\" action to take."
   ]
  },
  {
   "cell_type": "code",
   "execution_count": 13,
   "metadata": {},
   "outputs": [],
   "source": [
    "# now, let's customize the environment and discretize action space\n",
    "env = CustomizedRTBEnv(\n",
    "    original_env=env,\n",
    "    reward_predictor=LogisticRegression(),\n",
    "    action_type=\"discrete\",\n",
    ")"
   ]
  },
  {
   "cell_type": "code",
   "execution_count": 14,
   "metadata": {},
   "outputs": [],
   "source": [
    "agent = OnlineHead(DiscreteRandomPolicy())\n",
    "agent.build_with_env(env)  # set discrete action space"
   ]
  },
  {
   "cell_type": "code",
   "execution_count": 15,
   "metadata": {},
   "outputs": [],
   "source": [
    "# interact agent with environment\n",
    "for episode in range(10):\n",
    "    obs = env.reset()\n",
    "    done = False\n",
    "\n",
    "    while not done:\n",
    "        action = agent.predict_online(obs)\n",
    "        obs, reward, done, info = env.step(action)"
   ]
  },
  {
   "cell_type": "code",
   "execution_count": 16,
   "metadata": {},
   "outputs": [
    {
     "name": "stdout",
     "output_type": "stream",
     "text": [
      "Discrete(10)\n",
      "[ 0.1         0.16681005  0.27825594  0.46415888  0.77426368  1.29154967\n",
      "  2.15443469  3.59381366  5.9948425  10.        ]\n"
     ]
    }
   ],
   "source": [
    "print(env.action_space)\n",
    "print(env.action_meaning)"
   ]
  },
  {
   "cell_type": "markdown",
   "metadata": {},
   "source": [
    "#### Online RL and comparison of the policies\n",
    "Noe, we learn an online RL policy and compare it to random policy, using on-policy policy estimation."
   ]
  },
  {
   "cell_type": "code",
   "execution_count": 17,
   "metadata": {},
   "outputs": [],
   "source": [
    "from d3rlpy.algos import DoubleDQN\n",
    "from d3rlpy.models.encoders import VectorEncoderFactory\n",
    "from d3rlpy.models.q_functions import MeanQFunctionFactory\n",
    "from d3rlpy.online.buffers import ReplayBuffer\n",
    "from d3rlpy.online.explorers import LinearDecayEpsilonGreedy\n",
    "\n",
    "# model\n",
    "ddqn = DoubleDQN(\n",
    "    encoder_factory=VectorEncoderFactory(hidden_units=[30, 30]),\n",
    "    q_func_factory=MeanQFunctionFactory(),\n",
    "    target_update_interval=100,\n",
    "    use_gpu=torch.cuda.is_available(),\n",
    ")\n",
    "# replay buffer\n",
    "buffer = ReplayBuffer(\n",
    "    maxlen=10000,\n",
    "    env=env,\n",
    ")\n",
    "# explorers\n",
    "explorer = LinearDecayEpsilonGreedy(\n",
    "    start_epsilon=1.0,\n",
    "    end_epsilon=0.1,\n",
    "    duration=1000,\n",
    ")"
   ]
  },
  {
   "cell_type": "code",
   "execution_count": 18,
   "metadata": {},
   "outputs": [
    {
     "name": "stdout",
     "output_type": "stream",
     "text": [
      "2021-12-10 19:01.44 [info     ] Directory is created at d3rlpy_logs/DoubleDQN_online_20211210190144\n",
      "2021-12-10 19:01.44 [debug    ] Building model...\n",
      "2021-12-10 19:01.44 [debug    ] Model has been built.\n",
      "2021-12-10 19:01.44 [info     ] Parameters are saved to d3rlpy_logs/DoubleDQN_online_20211210190144/params.json params={'action_scaler': None, 'batch_size': 32, 'encoder_factory': {'type': 'vector', 'params': {'hidden_units': [30, 30], 'activation': 'relu', 'use_batch_norm': False, 'dropout_rate': None, 'use_dense': False}}, 'gamma': 0.99, 'generated_maxlen': 100000, 'learning_rate': 6.25e-05, 'n_critics': 1, 'n_frames': 1, 'n_steps': 1, 'optim_factory': {'optim_cls': 'Adam', 'betas': (0.9, 0.999), 'eps': 1e-08, 'weight_decay': 0, 'amsgrad': False}, 'q_func_factory': {'type': 'mean', 'params': {'bootstrap': False, 'share_encoder': False}}, 'real_ratio': 1.0, 'reward_scaler': None, 'scaler': None, 'target_reduction_type': 'min', 'target_update_interval': 100, 'use_gpu': None, 'algorithm': 'DoubleDQN', 'observation_shape': (7,), 'action_size': 10}\n"
     ]
    },
    {
     "name": "stderr",
     "output_type": "stream",
     "text": [
      "  1%|          | 989/100000 [00:03<04:30, 365.89it/s]"
     ]
    },
    {
     "name": "stdout",
     "output_type": "stream",
     "text": [
      "2021-12-10 19:01.49 [info     ] Model parameters are saved to d3rlpy_logs/DoubleDQN_online_20211210190144/model_1000.pt\n",
      "2021-12-10 19:01.49 [info     ] DoubleDQN_online_20211210190144: epoch=1 step=1000 epoch=1 metrics={'time_inference': 0.00040834116935729983, 'time_environment_step': 0.0008053782326834543, 'time_step': 0.0038410325050354005, 'time_sample_batch': 0.00010081837853167287, 'time_algorithm_update': 0.002650486717342959, 'loss': 79.68481914722288, 'evaluation': 4.6} step=1000\n"
     ]
    },
    {
     "name": "stderr",
     "output_type": "stream",
     "text": [
      "  2%|▏         | 1981/100000 [00:07<05:21, 305.10it/s]"
     ]
    },
    {
     "name": "stdout",
     "output_type": "stream",
     "text": [
      "2021-12-10 19:01.52 [info     ] Model parameters are saved to d3rlpy_logs/DoubleDQN_online_20211210190144/model_2000.pt\n",
      "2021-12-10 19:01.52 [info     ] DoubleDQN_online_20211210190144: epoch=2 step=2000 epoch=2 metrics={'time_inference': 0.0003846592903137207, 'time_environment_step': 0.0007989943368094309, 'time_sample_batch': 0.00010577130317687988, 'time_algorithm_update': 0.0018990509510040283, 'loss': 21.620183304548263, 'time_step': 0.0031643524169921874, 'evaluation': 0.6} step=2000\n"
     ]
    },
    {
     "name": "stderr",
     "output_type": "stream",
     "text": [
      "  3%|▎         | 2992/100000 [00:10<05:15, 307.15it/s]"
     ]
    },
    {
     "name": "stdout",
     "output_type": "stream",
     "text": [
      "2021-12-10 19:01.55 [info     ] Model parameters are saved to d3rlpy_logs/DoubleDQN_online_20211210190144/model_3000.pt\n",
      "2021-12-10 19:01.55 [info     ] DoubleDQN_online_20211210190144: epoch=3 step=3000 epoch=3 metrics={'time_inference': 0.0003808786869049072, 'time_environment_step': 0.000735269546508789, 'time_sample_batch': 0.00010846376419067383, 'time_algorithm_update': 0.0018432292938232423, 'loss': 15.204612086474896, 'time_step': 0.003041562557220459, 'evaluation': 0.0} step=3000\n"
     ]
    },
    {
     "name": "stderr",
     "output_type": "stream",
     "text": [
      "  4%|▍         | 3995/100000 [00:13<04:15, 375.26it/s]"
     ]
    },
    {
     "name": "stdout",
     "output_type": "stream",
     "text": [
      "2021-12-10 19:01.58 [info     ] Model parameters are saved to d3rlpy_logs/DoubleDQN_online_20211210190144/model_4000.pt\n",
      "2021-12-10 19:01.58 [info     ] DoubleDQN_online_20211210190144: epoch=4 step=4000 epoch=4 metrics={'time_inference': 0.00035147643089294435, 'time_environment_step': 0.0007180243900844029, 'time_sample_batch': 9.350490570068359e-05, 'time_algorithm_update': 0.0015249483585357665, 'loss': 14.068701728343964, 'time_step': 0.0026618587970733644, 'evaluation': 0.0} step=4000\n"
     ]
    },
    {
     "name": "stderr",
     "output_type": "stream",
     "text": [
      "  5%|▍         | 4980/100000 [00:16<04:50, 327.01it/s]"
     ]
    },
    {
     "name": "stdout",
     "output_type": "stream",
     "text": [
      "2021-12-10 19:02.01 [info     ] Model parameters are saved to d3rlpy_logs/DoubleDQN_online_20211210190144/model_5000.pt\n",
      "2021-12-10 19:02.01 [info     ] DoubleDQN_online_20211210190144: epoch=5 step=5000 epoch=5 metrics={'time_inference': 0.00034767007827758787, 'time_environment_step': 0.0007208573477608817, 'time_sample_batch': 9.564447402954101e-05, 'time_algorithm_update': 0.0016853780746459962, 'loss': 13.236264414429664, 'time_step': 0.002821511745452881, 'evaluation': 0.5} step=5000\n"
     ]
    },
    {
     "name": "stderr",
     "output_type": "stream",
     "text": [
      "  6%|▌         | 5994/100000 [00:19<04:06, 380.63it/s]"
     ]
    },
    {
     "name": "stdout",
     "output_type": "stream",
     "text": [
      "2021-12-10 19:02.04 [info     ] Model parameters are saved to d3rlpy_logs/DoubleDQN_online_20211210190144/model_6000.pt\n",
      "2021-12-10 19:02.04 [info     ] DoubleDQN_online_20211210190144: epoch=6 step=6000 epoch=6 metrics={'time_inference': 0.0003470330238342285, 'time_environment_step': 0.0007252524239676339, 'time_sample_batch': 9.4313383102417e-05, 'time_algorithm_update': 0.001720834255218506, 'loss': 12.111293346911669, 'time_step': 0.002858508586883545, 'evaluation': 0.0} step=6000\n"
     ]
    },
    {
     "name": "stderr",
     "output_type": "stream",
     "text": [
      "  7%|▋         | 6973/100000 [00:22<04:14, 365.84it/s]"
     ]
    },
    {
     "name": "stdout",
     "output_type": "stream",
     "text": [
      "2021-12-10 19:02.07 [info     ] Model parameters are saved to d3rlpy_logs/DoubleDQN_online_20211210190144/model_7000.pt\n",
      "2021-12-10 19:02.07 [info     ] DoubleDQN_online_20211210190144: epoch=7 step=7000 epoch=7 metrics={'time_inference': 0.000365196704864502, 'time_environment_step': 0.0007571075984409878, 'time_sample_batch': 9.897327423095704e-05, 'time_algorithm_update': 0.001669590473175049, 'loss': 10.849184344545007, 'time_step': 0.002862391471862793, 'evaluation': 0.0} step=7000\n"
     ]
    },
    {
     "name": "stderr",
     "output_type": "stream",
     "text": [
      "  8%|▊         | 7965/100000 [00:25<04:32, 337.72it/s]"
     ]
    },
    {
     "name": "stdout",
     "output_type": "stream",
     "text": [
      "2021-12-10 19:02.10 [info     ] Model parameters are saved to d3rlpy_logs/DoubleDQN_online_20211210190144/model_8000.pt\n",
      "2021-12-10 19:02.10 [info     ] DoubleDQN_online_20211210190144: epoch=8 step=8000 epoch=8 metrics={'time_inference': 0.00034984493255615234, 'time_environment_step': 0.0007056541442871094, 'time_sample_batch': 0.00010424208641052246, 'time_algorithm_update': 0.0016401164531707764, 'loss': 9.315320558249951, 'time_step': 0.002772646188735962, 'evaluation': 0.0} step=8000\n"
     ]
    },
    {
     "name": "stderr",
     "output_type": "stream",
     "text": [
      "  9%|▉         | 8975/100000 [00:28<05:25, 279.22it/s]"
     ]
    },
    {
     "name": "stdout",
     "output_type": "stream",
     "text": [
      "2021-12-10 19:02.13 [info     ] Model parameters are saved to d3rlpy_logs/DoubleDQN_online_20211210190144/model_9000.pt\n",
      "2021-12-10 19:02.13 [info     ] DoubleDQN_online_20211210190144: epoch=9 step=9000 epoch=9 metrics={'time_inference': 0.00037441611289978026, 'time_environment_step': 0.0007952521187918526, 'time_sample_batch': 0.00010417747497558594, 'time_algorithm_update': 0.001688636064529419, 'loss': 8.310213917344809, 'time_step': 0.0029281089305877687, 'evaluation': 0.1} step=9000\n"
     ]
    },
    {
     "name": "stderr",
     "output_type": "stream",
     "text": [
      " 10%|▉         | 9966/100000 [00:31<04:49, 311.04it/s]"
     ]
    },
    {
     "name": "stdout",
     "output_type": "stream",
     "text": [
      "2021-12-10 19:02.17 [info     ] Model parameters are saved to d3rlpy_logs/DoubleDQN_online_20211210190144/model_10000.pt\n",
      "2021-12-10 19:02.17 [info     ] DoubleDQN_online_20211210190144: epoch=10 step=10000 epoch=10 metrics={'time_inference': 0.00041471385955810545, 'time_environment_step': 0.0008531742095947266, 'time_sample_batch': 0.00011192059516906738, 'time_algorithm_update': 0.0019056212902069092, 'loss': 7.091608953267336, 'time_step': 0.0032582502365112306, 'evaluation': 0.6} step=10000\n"
     ]
    },
    {
     "name": "stderr",
     "output_type": "stream",
     "text": [
      " 11%|█         | 10967/100000 [00:34<03:48, 389.30it/s]"
     ]
    },
    {
     "name": "stdout",
     "output_type": "stream",
     "text": [
      "2021-12-10 19:02.20 [info     ] Model parameters are saved to d3rlpy_logs/DoubleDQN_online_20211210190144/model_11000.pt\n",
      "2021-12-10 19:02.20 [info     ] DoubleDQN_online_20211210190144: epoch=11 step=11000 epoch=11 metrics={'time_inference': 0.0003640761375427246, 'time_environment_step': 0.0007418564387730189, 'time_sample_batch': 0.00010178041458129883, 'time_algorithm_update': 0.0016501839160919188, 'loss': 6.098164481818676, 'time_step': 0.002829145669937134, 'evaluation': 0.0} step=11000\n"
     ]
    },
    {
     "name": "stderr",
     "output_type": "stream",
     "text": [
      " 12%|█▏        | 11983/100000 [00:38<05:11, 282.48it/s]"
     ]
    },
    {
     "name": "stdout",
     "output_type": "stream",
     "text": [
      "2021-12-10 19:02.23 [info     ] Model parameters are saved to d3rlpy_logs/DoubleDQN_online_20211210190144/model_12000.pt\n",
      "2021-12-10 19:02.23 [info     ] DoubleDQN_online_20211210190144: epoch=12 step=12000 epoch=12 metrics={'time_inference': 0.00040587544441223145, 'time_environment_step': 0.0008409137725830078, 'time_sample_batch': 0.00010988283157348633, 'time_algorithm_update': 0.0018400430679321289, 'loss': 5.000338828444481, 'time_step': 0.003173332691192627, 'evaluation': 8.3} step=12000\n"
     ]
    },
    {
     "name": "stderr",
     "output_type": "stream",
     "text": [
      " 13%|█▎        | 12980/100000 [00:41<04:22, 331.87it/s]"
     ]
    },
    {
     "name": "stdout",
     "output_type": "stream",
     "text": [
      "2021-12-10 19:02.26 [info     ] Model parameters are saved to d3rlpy_logs/DoubleDQN_online_20211210190144/model_13000.pt\n",
      "2021-12-10 19:02.26 [info     ] DoubleDQN_online_20211210190144: epoch=13 step=13000 epoch=13 metrics={'time_inference': 0.0004040079116821289, 'time_environment_step': 0.0007955117906842913, 'time_sample_batch': 0.00011467266082763671, 'time_algorithm_update': 0.0017481453418731689, 'loss': 4.0033408406451345, 'time_step': 0.0030313611030578615, 'evaluation': 0.0} step=13000\n"
     ]
    },
    {
     "name": "stderr",
     "output_type": "stream",
     "text": [
      " 14%|█▍        | 13990/100000 [00:44<03:52, 370.18it/s]"
     ]
    },
    {
     "name": "stdout",
     "output_type": "stream",
     "text": [
      "2021-12-10 19:02.29 [info     ] Model parameters are saved to d3rlpy_logs/DoubleDQN_online_20211210190144/model_14000.pt\n",
      "2021-12-10 19:02.29 [info     ] DoubleDQN_online_20211210190144: epoch=14 step=14000 epoch=14 metrics={'time_inference': 0.00038053512573242186, 'time_environment_step': 0.0007843614305768694, 'time_sample_batch': 9.975719451904296e-05, 'time_algorithm_update': 0.0018013093471527099, 'loss': 3.3887848178595306, 'time_step': 0.0030353853702545165, 'evaluation': 0.5} step=14000\n"
     ]
    },
    {
     "name": "stderr",
     "output_type": "stream",
     "text": [
      " 15%|█▍        | 14985/100000 [00:47<04:03, 349.26it/s]"
     ]
    },
    {
     "name": "stdout",
     "output_type": "stream",
     "text": [
      "2021-12-10 19:02.32 [info     ] Model parameters are saved to d3rlpy_logs/DoubleDQN_online_20211210190144/model_15000.pt\n",
      "2021-12-10 19:02.32 [info     ] DoubleDQN_online_20211210190144: epoch=15 step=15000 epoch=15 metrics={'time_inference': 0.00035240221023559573, 'time_environment_step': 0.0007130298614501954, 'time_sample_batch': 0.00010153794288635253, 'time_algorithm_update': 0.0015770819187164308, 'loss': 2.981544288367033, 'time_step': 0.0027196500301361086, 'evaluation': 0.0} step=15000\n"
     ]
    },
    {
     "name": "stderr",
     "output_type": "stream",
     "text": [
      " 16%|█▌        | 15989/100000 [00:50<03:39, 382.36it/s]"
     ]
    },
    {
     "name": "stdout",
     "output_type": "stream",
     "text": [
      "2021-12-10 19:02.35 [info     ] Model parameters are saved to d3rlpy_logs/DoubleDQN_online_20211210190144/model_16000.pt\n",
      "2021-12-10 19:02.35 [info     ] DoubleDQN_online_20211210190144: epoch=16 step=16000 epoch=16 metrics={'time_inference': 0.00035166311264038085, 'time_environment_step': 0.0007125720977783203, 'time_sample_batch': 9.55348014831543e-05, 'time_algorithm_update': 0.0016016228199005127, 'loss': 2.4686255377233026, 'time_step': 0.002736290216445923, 'evaluation': 14.0} step=16000\n"
     ]
    },
    {
     "name": "stderr",
     "output_type": "stream",
     "text": [
      " 17%|█▋        | 16982/100000 [00:53<03:31, 391.94it/s]"
     ]
    },
    {
     "name": "stdout",
     "output_type": "stream",
     "text": [
      "2021-12-10 19:02.38 [info     ] Model parameters are saved to d3rlpy_logs/DoubleDQN_online_20211210190144/model_17000.pt\n",
      "2021-12-10 19:02.38 [info     ] DoubleDQN_online_20211210190144: epoch=17 step=17000 epoch=17 metrics={'time_inference': 0.0003379621505737305, 'time_environment_step': 0.0006847621372767858, 'time_sample_batch': 9.293484687805176e-05, 'time_algorithm_update': 0.0014786529541015625, 'loss': 1.9100672469586133, 'time_step': 0.0025702807903289797, 'evaluation': 17.6} step=17000\n"
     ]
    },
    {
     "name": "stderr",
     "output_type": "stream",
     "text": [
      " 18%|█▊        | 17972/100000 [00:56<04:49, 283.17it/s]"
     ]
    },
    {
     "name": "stdout",
     "output_type": "stream",
     "text": [
      "2021-12-10 19:02.41 [info     ] Model parameters are saved to d3rlpy_logs/DoubleDQN_online_20211210190144/model_18000.pt\n",
      "2021-12-10 19:02.41 [info     ] DoubleDQN_online_20211210190144: epoch=18 step=18000 epoch=18 metrics={'time_inference': 0.0003422856330871582, 'time_environment_step': 0.0006973811558314732, 'time_sample_batch': 9.371423721313476e-05, 'time_algorithm_update': 0.0016913280487060548, 'loss': 2.017188462153077, 'time_step': 0.002799830675125122, 'evaluation': 14.2} step=18000\n"
     ]
    },
    {
     "name": "stderr",
     "output_type": "stream",
     "text": [
      " 19%|█▉        | 18983/100000 [00:59<03:44, 360.50it/s]"
     ]
    },
    {
     "name": "stdout",
     "output_type": "stream",
     "text": [
      "2021-12-10 19:02.45 [info     ] Model parameters are saved to d3rlpy_logs/DoubleDQN_online_20211210190144/model_19000.pt\n",
      "2021-12-10 19:02.45 [info     ] DoubleDQN_online_20211210190144: epoch=19 step=19000 epoch=19 metrics={'time_inference': 0.00036788749694824217, 'time_environment_step': 0.0007562945229666574, 'time_sample_batch': 0.00011102461814880371, 'time_algorithm_update': 0.0022190968990325926, 'loss': 1.8387369981110095, 'time_step': 0.0034310877323150634, 'evaluation': 14.3} step=19000\n"
     ]
    },
    {
     "name": "stderr",
     "output_type": "stream",
     "text": [
      " 20%|█▉        | 19971/100000 [01:03<03:41, 361.26it/s]"
     ]
    },
    {
     "name": "stdout",
     "output_type": "stream",
     "text": [
      "2021-12-10 19:02.48 [info     ] Model parameters are saved to d3rlpy_logs/DoubleDQN_online_20211210190144/model_20000.pt\n",
      "2021-12-10 19:02.48 [info     ] DoubleDQN_online_20211210190144: epoch=20 step=20000 epoch=20 metrics={'time_inference': 0.00037287068367004394, 'time_environment_step': 0.0007689753941127232, 'time_sample_batch': 0.00010996961593627929, 'time_algorithm_update': 0.0017156982421875, 'loss': 1.6316791583895682, 'time_step': 0.0029466865062713625, 'evaluation': 13.6} step=20000\n"
     ]
    },
    {
     "name": "stderr",
     "output_type": "stream",
     "text": [
      " 21%|██        | 20971/100000 [01:06<03:32, 371.84it/s]"
     ]
    },
    {
     "name": "stdout",
     "output_type": "stream",
     "text": [
      "2021-12-10 19:02.51 [info     ] Model parameters are saved to d3rlpy_logs/DoubleDQN_online_20211210190144/model_21000.pt\n",
      "2021-12-10 19:02.51 [info     ] DoubleDQN_online_20211210190144: epoch=21 step=21000 epoch=21 metrics={'time_inference': 0.0003970799446105957, 'time_environment_step': 0.0007421103886195592, 'time_sample_batch': 0.00010451865196228027, 'time_algorithm_update': 0.0017138581275939941, 'loss': 1.5016536394059659, 'time_step': 0.002931464910507202, 'evaluation': 16.8} step=21000\n"
     ]
    },
    {
     "name": "stderr",
     "output_type": "stream",
     "text": [
      " 22%|██▏       | 21969/100000 [01:09<03:57, 329.14it/s]"
     ]
    },
    {
     "name": "stdout",
     "output_type": "stream",
     "text": [
      "2021-12-10 19:02.54 [info     ] Model parameters are saved to d3rlpy_logs/DoubleDQN_online_20211210190144/model_22000.pt\n",
      "2021-12-10 19:02.54 [info     ] DoubleDQN_online_20211210190144: epoch=22 step=22000 epoch=22 metrics={'time_inference': 0.000365570068359375, 'time_environment_step': 0.0007483803885323661, 'time_sample_batch': 9.996914863586425e-05, 'time_algorithm_update': 0.001674579381942749, 'loss': 1.4524602514803409, 'time_step': 0.002863157272338867, 'evaluation': 15.6} step=22000\n"
     ]
    },
    {
     "name": "stderr",
     "output_type": "stream",
     "text": [
      " 23%|██▎       | 22992/100000 [01:12<03:28, 369.27it/s]"
     ]
    },
    {
     "name": "stdout",
     "output_type": "stream",
     "text": [
      "2021-12-10 19:02.57 [info     ] Model parameters are saved to d3rlpy_logs/DoubleDQN_online_20211210190144/model_23000.pt\n",
      "2021-12-10 19:02.57 [info     ] DoubleDQN_online_20211210190144: epoch=23 step=23000 epoch=23 metrics={'time_inference': 0.0003445937633514404, 'time_environment_step': 0.0007134135110037667, 'time_sample_batch': 9.880876541137696e-05, 'time_algorithm_update': 0.0015425219535827636, 'loss': 1.4488687185049056, 'time_step': 0.0026840131282806394, 'evaluation': 8.9} step=23000\n"
     ]
    },
    {
     "name": "stderr",
     "output_type": "stream",
     "text": [
      " 24%|██▍       | 23967/100000 [01:14<03:26, 368.70it/s]"
     ]
    },
    {
     "name": "stdout",
     "output_type": "stream",
     "text": [
      "2021-12-10 19:03.00 [info     ] Model parameters are saved to d3rlpy_logs/DoubleDQN_online_20211210190144/model_24000.pt\n",
      "2021-12-10 19:03.00 [info     ] DoubleDQN_online_20211210190144: epoch=24 step=24000 epoch=24 metrics={'time_inference': 0.0003546314239501953, 'time_environment_step': 0.0007104873657226562, 'time_sample_batch': 9.835362434387206e-05, 'time_algorithm_update': 0.0015781054496765137, 'loss': 1.306951378762722, 'time_step': 0.002716212749481201, 'evaluation': 15.1} step=24000\n"
     ]
    },
    {
     "name": "stderr",
     "output_type": "stream",
     "text": [
      " 25%|██▍       | 24989/100000 [01:17<03:38, 343.87it/s]"
     ]
    },
    {
     "name": "stdout",
     "output_type": "stream",
     "text": [
      "2021-12-10 19:03.03 [info     ] Model parameters are saved to d3rlpy_logs/DoubleDQN_online_20211210190144/model_25000.pt\n",
      "2021-12-10 19:03.03 [info     ] DoubleDQN_online_20211210190144: epoch=25 step=25000 epoch=25 metrics={'time_inference': 0.00034496235847473143, 'time_environment_step': 0.0006964430127825056, 'time_sample_batch': 9.411787986755371e-05, 'time_algorithm_update': 0.0016263859272003173, 'loss': 1.215624363988638, 'time_step': 0.002737801790237427, 'evaluation': 6.0} step=25000\n"
     ]
    },
    {
     "name": "stderr",
     "output_type": "stream",
     "text": [
      " 26%|██▌       | 25995/100000 [01:20<03:16, 376.14it/s]"
     ]
    },
    {
     "name": "stdout",
     "output_type": "stream",
     "text": [
      "2021-12-10 19:03.05 [info     ] Model parameters are saved to d3rlpy_logs/DoubleDQN_online_20211210190144/model_26000.pt\n",
      "2021-12-10 19:03.05 [info     ] DoubleDQN_online_20211210190144: epoch=26 step=26000 epoch=26 metrics={'time_inference': 0.00034128737449645995, 'time_environment_step': 0.0006938612801688058, 'time_sample_batch': 9.425210952758789e-05, 'time_algorithm_update': 0.0015206809043884278, 'loss': 1.1343435544371605, 'time_step': 0.0026262223720550535, 'evaluation': 14.6} step=26000\n"
     ]
    },
    {
     "name": "stderr",
     "output_type": "stream",
     "text": [
      " 27%|██▋       | 26996/100000 [01:23<03:06, 390.83it/s]"
     ]
    },
    {
     "name": "stdout",
     "output_type": "stream",
     "text": [
      "2021-12-10 19:03.08 [info     ] Model parameters are saved to d3rlpy_logs/DoubleDQN_online_20211210190144/model_27000.pt\n",
      "2021-12-10 19:03.08 [info     ] DoubleDQN_online_20211210190144: epoch=27 step=27000 epoch=27 metrics={'time_inference': 0.0003410189151763916, 'time_environment_step': 0.0006864073617117746, 'time_sample_batch': 9.33542251586914e-05, 'time_algorithm_update': 0.0015026698112487794, 'loss': 1.1012184423953295, 'time_step': 0.0025995161533355713, 'evaluation': 15.5} step=27000\n"
     ]
    },
    {
     "name": "stderr",
     "output_type": "stream",
     "text": [
      " 28%|██▊       | 27972/100000 [01:26<03:11, 376.97it/s]"
     ]
    },
    {
     "name": "stdout",
     "output_type": "stream",
     "text": [
      "2021-12-10 19:03.11 [info     ] Model parameters are saved to d3rlpy_logs/DoubleDQN_online_20211210190144/model_28000.pt\n",
      "2021-12-10 19:03.11 [info     ] DoubleDQN_online_20211210190144: epoch=28 step=28000 epoch=28 metrics={'time_inference': 0.00035689735412597654, 'time_environment_step': 0.000730691637311663, 'time_sample_batch': 9.78851318359375e-05, 'time_algorithm_update': 0.0015903797149658203, 'loss': 1.0561048984825612, 'time_step': 0.002749685525894165, 'evaluation': 16.6} step=28000\n"
     ]
    },
    {
     "name": "stderr",
     "output_type": "stream",
     "text": [
      " 29%|██▉       | 28987/100000 [01:29<05:27, 216.77it/s]"
     ]
    },
    {
     "name": "stdout",
     "output_type": "stream",
     "text": [
      "2021-12-10 19:03.14 [info     ] Model parameters are saved to d3rlpy_logs/DoubleDQN_online_20211210190144/model_29000.pt\n",
      "2021-12-10 19:03.14 [info     ] DoubleDQN_online_20211210190144: epoch=29 step=29000 epoch=29 metrics={'time_inference': 0.0003518233299255371, 'time_environment_step': 0.0007178189413888114, 'time_sample_batch': 9.662461280822754e-05, 'time_algorithm_update': 0.001931614637374878, 'loss': 1.009070667475462, 'time_step': 0.003073541879653931, 'evaluation': 13.6} step=29000\n"
     ]
    },
    {
     "name": "stderr",
     "output_type": "stream",
     "text": [
      " 30%|██▉       | 29973/100000 [01:32<02:56, 396.37it/s]"
     ]
    },
    {
     "name": "stdout",
     "output_type": "stream",
     "text": [
      "2021-12-10 19:03.18 [info     ] Model parameters are saved to d3rlpy_logs/DoubleDQN_online_20211210190144/model_30000.pt\n",
      "2021-12-10 19:03.18 [info     ] DoubleDQN_online_20211210190144: epoch=30 step=30000 epoch=30 metrics={'time_inference': 0.00035604476928710935, 'time_environment_step': 0.0007026331765311105, 'time_sample_batch': 9.604811668395997e-05, 'time_algorithm_update': 0.001925790786743164, 'loss': 1.0179548122882842, 'time_step': 0.0030582633018493652, 'evaluation': 16.7} step=30000\n"
     ]
    },
    {
     "name": "stderr",
     "output_type": "stream",
     "text": [
      " 31%|███       | 30978/100000 [01:35<03:24, 337.07it/s]"
     ]
    },
    {
     "name": "stdout",
     "output_type": "stream",
     "text": [
      "2021-12-10 19:03.21 [info     ] Model parameters are saved to d3rlpy_logs/DoubleDQN_online_20211210190144/model_31000.pt\n",
      "2021-12-10 19:03.21 [info     ] DoubleDQN_online_20211210190144: epoch=31 step=31000 epoch=31 metrics={'time_inference': 0.0003669259548187256, 'time_environment_step': 0.0007338346753801618, 'time_sample_batch': 0.00010021615028381347, 'time_algorithm_update': 0.0015979132652282715, 'loss': 1.0293438324928283, 'time_step': 0.0027730743885040284, 'evaluation': 15.3} step=31000\n"
     ]
    },
    {
     "name": "stderr",
     "output_type": "stream",
     "text": [
      " 32%|███▏      | 31964/100000 [01:38<03:00, 377.09it/s]"
     ]
    },
    {
     "name": "stdout",
     "output_type": "stream",
     "text": [
      "2021-12-10 19:03.23 [info     ] Model parameters are saved to d3rlpy_logs/DoubleDQN_online_20211210190144/model_32000.pt\n",
      "2021-12-10 19:03.23 [info     ] DoubleDQN_online_20211210190144: epoch=32 step=32000 epoch=32 metrics={'time_inference': 0.0003412923812866211, 'time_environment_step': 0.0006949234008789062, 'time_sample_batch': 9.909343719482422e-05, 'time_algorithm_update': 0.001543792724609375, 'loss': 1.0510814045071601, 'time_step': 0.002654723644256592, 'evaluation': 11.5} step=32000\n"
     ]
    },
    {
     "name": "stderr",
     "output_type": "stream",
     "text": [
      " 33%|███▎      | 32977/100000 [01:41<03:30, 317.70it/s]"
     ]
    },
    {
     "name": "stdout",
     "output_type": "stream",
     "text": [
      "2021-12-10 19:03.26 [info     ] Model parameters are saved to d3rlpy_logs/DoubleDQN_online_20211210190144/model_33000.pt\n",
      "2021-12-10 19:03.26 [info     ] DoubleDQN_online_20211210190144: epoch=33 step=33000 epoch=33 metrics={'time_inference': 0.0003680460453033447, 'time_environment_step': 0.0007460057394845145, 'time_sample_batch': 9.79301929473877e-05, 'time_algorithm_update': 0.0016528844833374023, 'loss': 0.9960121770501137, 'time_step': 0.002836313009262085, 'evaluation': 16.4} step=33000\n"
     ]
    },
    {
     "name": "stderr",
     "output_type": "stream",
     "text": [
      " 34%|███▍      | 33979/100000 [01:45<03:09, 349.06it/s]"
     ]
    },
    {
     "name": "stdout",
     "output_type": "stream",
     "text": [
      "2021-12-10 19:03.30 [info     ] Model parameters are saved to d3rlpy_logs/DoubleDQN_online_20211210190144/model_34000.pt\n",
      "2021-12-10 19:03.30 [info     ] DoubleDQN_online_20211210190144: epoch=34 step=34000 epoch=34 metrics={'time_inference': 0.00039273929595947266, 'time_environment_step': 0.0008175547463553293, 'time_sample_batch': 0.00010408711433410644, 'time_algorithm_update': 0.0018178343772888184, 'loss': 1.0599208841621877, 'time_step': 0.0031132802963256836, 'evaluation': 17.6} step=34000\n"
     ]
    },
    {
     "name": "stderr",
     "output_type": "stream",
     "text": [
      " 35%|███▍      | 34988/100000 [01:48<04:35, 235.56it/s]"
     ]
    },
    {
     "name": "stdout",
     "output_type": "stream",
     "text": [
      "2021-12-10 19:03.33 [info     ] Model parameters are saved to d3rlpy_logs/DoubleDQN_online_20211210190144/model_35000.pt\n",
      "2021-12-10 19:03.33 [info     ] DoubleDQN_online_20211210190144: epoch=35 step=35000 epoch=35 metrics={'time_inference': 0.0003736917972564697, 'time_environment_step': 0.0007643484388078962, 'time_sample_batch': 0.0001016242504119873, 'time_algorithm_update': 0.001826411485671997, 'loss': 1.061542249172926, 'time_step': 0.003038991689682007, 'evaluation': 15.0} step=35000\n"
     ]
    },
    {
     "name": "stderr",
     "output_type": "stream",
     "text": [
      " 36%|███▌      | 35994/100000 [01:51<03:36, 295.25it/s]"
     ]
    },
    {
     "name": "stdout",
     "output_type": "stream",
     "text": [
      "2021-12-10 19:03.36 [info     ] Model parameters are saved to d3rlpy_logs/DoubleDQN_online_20211210190144/model_36000.pt\n",
      "2021-12-10 19:03.36 [info     ] DoubleDQN_online_20211210190144: epoch=36 step=36000 epoch=36 metrics={'time_inference': 0.0003876774311065674, 'time_environment_step': 0.000792994362967355, 'time_sample_batch': 0.00010302114486694335, 'time_algorithm_update': 0.0018434014320373535, 'loss': 1.0115357856452465, 'time_step': 0.0031003782749176026, 'evaluation': 15.2} step=36000\n"
     ]
    },
    {
     "name": "stderr",
     "output_type": "stream",
     "text": [
      " 37%|███▋      | 36993/100000 [01:54<03:00, 349.20it/s]"
     ]
    },
    {
     "name": "stdout",
     "output_type": "stream",
     "text": [
      "2021-12-10 19:03.39 [info     ] Model parameters are saved to d3rlpy_logs/DoubleDQN_online_20211210190144/model_37000.pt\n",
      "2021-12-10 19:03.39 [info     ] DoubleDQN_online_20211210190144: epoch=37 step=37000 epoch=37 metrics={'time_inference': 0.0003531174659729004, 'time_environment_step': 0.0007347393035888671, 'time_sample_batch': 9.720444679260254e-05, 'time_algorithm_update': 0.001685511589050293, 'loss': 1.0621230142712592, 'time_step': 0.0028456976413726806, 'evaluation': 16.2} step=37000\n"
     ]
    },
    {
     "name": "stderr",
     "output_type": "stream",
     "text": [
      " 38%|███▊      | 37986/100000 [01:58<02:55, 353.97it/s]"
     ]
    },
    {
     "name": "stdout",
     "output_type": "stream",
     "text": [
      "2021-12-10 19:03.43 [info     ] Model parameters are saved to d3rlpy_logs/DoubleDQN_online_20211210190144/model_38000.pt\n",
      "2021-12-10 19:03.43 [info     ] DoubleDQN_online_20211210190144: epoch=38 step=38000 epoch=38 metrics={'time_inference': 0.00040668392181396486, 'time_environment_step': 0.0008051877702985491, 'time_sample_batch': 0.00011785078048706055, 'time_algorithm_update': 0.0018489985466003417, 'loss': 1.0680533097982408, 'time_step': 0.0031622374057769776, 'evaluation': 14.3} step=38000\n"
     ]
    },
    {
     "name": "stderr",
     "output_type": "stream",
     "text": [
      " 39%|███▉      | 38998/100000 [02:01<02:44, 369.81it/s]"
     ]
    },
    {
     "name": "stdout",
     "output_type": "stream",
     "text": [
      "2021-12-10 19:03.46 [info     ] Model parameters are saved to d3rlpy_logs/DoubleDQN_online_20211210190144/model_39000.pt\n",
      "2021-12-10 19:03.46 [info     ] DoubleDQN_online_20211210190144: epoch=39 step=39000 epoch=39 metrics={'time_inference': 0.0003642723560333252, 'time_environment_step': 0.0007404060363769531, 'time_sample_batch': 9.7731351852417e-05, 'time_algorithm_update': 0.0017773313522338866, 'loss': 1.054897925555706, 'time_step': 0.0029595518112182618, 'evaluation': 8.1} step=39000\n"
     ]
    },
    {
     "name": "stderr",
     "output_type": "stream",
     "text": [
      " 40%|███▉      | 39977/100000 [02:04<02:56, 339.75it/s]"
     ]
    },
    {
     "name": "stdout",
     "output_type": "stream",
     "text": [
      "2021-12-10 19:03.49 [info     ] Model parameters are saved to d3rlpy_logs/DoubleDQN_online_20211210190144/model_40000.pt\n",
      "2021-12-10 19:03.49 [info     ] DoubleDQN_online_20211210190144: epoch=40 step=40000 epoch=40 metrics={'time_inference': 0.0003635480403900146, 'time_environment_step': 0.0007455893925258091, 'time_sample_batch': 9.711790084838867e-05, 'time_algorithm_update': 0.001678095817565918, 'loss': 1.090978000730276, 'time_step': 0.0028569915294647218, 'evaluation': 13.1} step=40000\n"
     ]
    },
    {
     "name": "stderr",
     "output_type": "stream",
     "text": [
      " 41%|████      | 40989/100000 [02:07<02:52, 341.78it/s]"
     ]
    },
    {
     "name": "stdout",
     "output_type": "stream",
     "text": [
      "2021-12-10 19:03.52 [info     ] Model parameters are saved to d3rlpy_logs/DoubleDQN_online_20211210190144/model_41000.pt\n",
      "2021-12-10 19:03.52 [info     ] DoubleDQN_online_20211210190144: epoch=41 step=41000 epoch=41 metrics={'time_inference': 0.0003716013431549072, 'time_environment_step': 0.0007851875850132534, 'time_sample_batch': 0.00010170483589172364, 'time_algorithm_update': 0.0017280395030975341, 'loss': 1.0342178954780101, 'time_step': 0.002963547945022583, 'evaluation': 14.4} step=41000\n"
     ]
    },
    {
     "name": "stderr",
     "output_type": "stream",
     "text": [
      " 42%|████▏     | 41980/100000 [02:10<02:38, 365.56it/s]"
     ]
    },
    {
     "name": "stdout",
     "output_type": "stream",
     "text": [
      "2021-12-10 19:03.55 [info     ] Model parameters are saved to d3rlpy_logs/DoubleDQN_online_20211210190144/model_42000.pt\n",
      "2021-12-10 19:03.55 [info     ] DoubleDQN_online_20211210190144: epoch=42 step=42000 epoch=42 metrics={'time_inference': 0.00037819361686706543, 'time_environment_step': 0.0007520850045340401, 'time_sample_batch': 0.0001000535488128662, 'time_algorithm_update': 0.0018976340293884277, 'loss': 1.0333455283641815, 'time_step': 0.0031029622554779052, 'evaluation': 15.6} step=42000\n"
     ]
    },
    {
     "name": "stderr",
     "output_type": "stream",
     "text": [
      " 43%|████▎     | 42977/100000 [02:13<02:36, 363.68it/s]"
     ]
    },
    {
     "name": "stdout",
     "output_type": "stream",
     "text": [
      "2021-12-10 19:03.58 [info     ] Model parameters are saved to d3rlpy_logs/DoubleDQN_online_20211210190144/model_43000.pt\n",
      "2021-12-10 19:03.59 [info     ] DoubleDQN_online_20211210190144: epoch=43 step=43000 epoch=43 metrics={'time_inference': 0.00037003326416015623, 'time_environment_step': 0.0007684473310198103, 'time_sample_batch': 9.97917652130127e-05, 'time_algorithm_update': 0.0018536524772644043, 'loss': 0.9929216699898243, 'time_step': 0.003062152862548828, 'evaluation': 16.6} step=43000\n"
     ]
    },
    {
     "name": "stderr",
     "output_type": "stream",
     "text": [
      " 44%|████▍     | 43981/100000 [02:16<02:36, 358.13it/s]"
     ]
    },
    {
     "name": "stdout",
     "output_type": "stream",
     "text": [
      "2021-12-10 19:04.01 [info     ] Model parameters are saved to d3rlpy_logs/DoubleDQN_online_20211210190144/model_44000.pt\n",
      "2021-12-10 19:04.01 [info     ] DoubleDQN_online_20211210190144: epoch=44 step=44000 epoch=44 metrics={'time_inference': 0.0003436088562011719, 'time_environment_step': 0.0006968757084437779, 'time_sample_batch': 9.395694732666016e-05, 'time_algorithm_update': 0.0015206589698791503, 'loss': 0.9549053433090449, 'time_step': 0.002634014129638672, 'evaluation': 14.3} step=44000\n"
     ]
    },
    {
     "name": "stderr",
     "output_type": "stream",
     "text": [
      " 45%|████▍     | 44978/100000 [02:19<02:20, 391.60it/s]"
     ]
    },
    {
     "name": "stdout",
     "output_type": "stream",
     "text": [
      "2021-12-10 19:04.04 [info     ] Model parameters are saved to d3rlpy_logs/DoubleDQN_online_20211210190144/model_45000.pt\n",
      "2021-12-10 19:04.04 [info     ] DoubleDQN_online_20211210190144: epoch=45 step=45000 epoch=45 metrics={'time_inference': 0.0003495960235595703, 'time_environment_step': 0.0007054476056780134, 'time_sample_batch': 9.546446800231933e-05, 'time_algorithm_update': 0.0015498721599578858, 'loss': 1.0064887408018113, 'time_step': 0.0026753389835357665, 'evaluation': 14.8} step=45000\n"
     ]
    },
    {
     "name": "stderr",
     "output_type": "stream",
     "text": [
      " 46%|████▌     | 45993/100000 [02:22<02:38, 340.25it/s]"
     ]
    },
    {
     "name": "stdout",
     "output_type": "stream",
     "text": [
      "2021-12-10 19:04.07 [info     ] Model parameters are saved to d3rlpy_logs/DoubleDQN_online_20211210190144/model_46000.pt\n",
      "2021-12-10 19:04.07 [info     ] DoubleDQN_online_20211210190144: epoch=46 step=46000 epoch=46 metrics={'time_inference': 0.0003497445583343506, 'time_environment_step': 0.000715055193219866, 'time_sample_batch': 9.557867050170899e-05, 'time_algorithm_update': 0.001604079008102417, 'loss': 0.9330735264569521, 'time_step': 0.0027403929233551024, 'evaluation': 11.5} step=46000\n"
     ]
    },
    {
     "name": "stderr",
     "output_type": "stream",
     "text": [
      " 47%|████▋     | 46970/100000 [02:25<02:18, 382.46it/s]"
     ]
    },
    {
     "name": "stdout",
     "output_type": "stream",
     "text": [
      "2021-12-10 19:04.10 [info     ] Model parameters are saved to d3rlpy_logs/DoubleDQN_online_20211210190144/model_47000.pt\n",
      "2021-12-10 19:04.10 [info     ] DoubleDQN_online_20211210190144: epoch=47 step=47000 epoch=47 metrics={'time_inference': 0.00035582923889160154, 'time_environment_step': 0.0007256287166050502, 'time_sample_batch': 9.685707092285156e-05, 'time_algorithm_update': 0.0016323585510253907, 'loss': 0.972457794547081, 'time_step': 0.002785153150558472, 'evaluation': 16.6} step=47000\n"
     ]
    },
    {
     "name": "stderr",
     "output_type": "stream",
     "text": [
      " 48%|████▊     | 47999/100000 [02:28<02:39, 325.59it/s]"
     ]
    },
    {
     "name": "stdout",
     "output_type": "stream",
     "text": [
      "2021-12-10 19:04.13 [info     ] Model parameters are saved to d3rlpy_logs/DoubleDQN_online_20211210190144/model_48000.pt\n",
      "2021-12-10 19:04.13 [info     ] DoubleDQN_online_20211210190144: epoch=48 step=48000 epoch=48 metrics={'time_inference': 0.00038754868507385256, 'time_environment_step': 0.0007842303684779576, 'time_sample_batch': 0.0001085054874420166, 'time_algorithm_update': 0.001783573627471924, 'loss': 0.912428447753191, 'time_step': 0.0030384652614593504, 'evaluation': 17.6} step=48000\n"
     ]
    },
    {
     "name": "stderr",
     "output_type": "stream",
     "text": [
      " 49%|████▉     | 48989/100000 [02:31<02:18, 367.69it/s]"
     ]
    },
    {
     "name": "stdout",
     "output_type": "stream",
     "text": [
      "2021-12-10 19:04.16 [info     ] Model parameters are saved to d3rlpy_logs/DoubleDQN_online_20211210190144/model_49000.pt\n",
      "2021-12-10 19:04.16 [info     ] DoubleDQN_online_20211210190144: epoch=49 step=49000 epoch=49 metrics={'time_inference': 0.0003783078193664551, 'time_environment_step': 0.0007604950496128627, 'time_sample_batch': 0.00010766148567199707, 'time_algorithm_update': 0.0016960239410400391, 'loss': 0.8534140366613865, 'time_step': 0.0029150936603546144, 'evaluation': 17.6} step=49000\n"
     ]
    },
    {
     "name": "stderr",
     "output_type": "stream",
     "text": [
      " 50%|████▉     | 49971/100000 [02:34<02:52, 290.01it/s]"
     ]
    },
    {
     "name": "stdout",
     "output_type": "stream",
     "text": [
      "2021-12-10 19:04.19 [info     ] Model parameters are saved to d3rlpy_logs/DoubleDQN_online_20211210190144/model_50000.pt\n",
      "2021-12-10 19:04.19 [info     ] DoubleDQN_online_20211210190144: epoch=50 step=50000 epoch=50 metrics={'time_inference': 0.00037136268615722655, 'time_environment_step': 0.000742734636579241, 'time_sample_batch': 9.734702110290527e-05, 'time_algorithm_update': 0.0017480041980743408, 'loss': 0.8510392987430095, 'time_step': 0.002934328317642212, 'evaluation': 13.8} step=50000\n"
     ]
    },
    {
     "name": "stderr",
     "output_type": "stream",
     "text": [
      " 51%|█████     | 50984/100000 [02:37<02:14, 364.23it/s]"
     ]
    },
    {
     "name": "stdout",
     "output_type": "stream",
     "text": [
      "2021-12-10 19:04.22 [info     ] Model parameters are saved to d3rlpy_logs/DoubleDQN_online_20211210190144/model_51000.pt\n",
      "2021-12-10 19:04.22 [info     ] DoubleDQN_online_20211210190144: epoch=51 step=51000 epoch=51 metrics={'time_inference': 0.0003488426208496094, 'time_environment_step': 0.0007047443389892578, 'time_sample_batch': 9.480452537536621e-05, 'time_algorithm_update': 0.0016730380058288573, 'loss': 0.8393083647787571, 'time_step': 0.0027970020771026613, 'evaluation': 16.9} step=51000\n"
     ]
    },
    {
     "name": "stderr",
     "output_type": "stream",
     "text": [
      " 52%|█████▏    | 51996/100000 [02:40<02:14, 356.18it/s]"
     ]
    },
    {
     "name": "stdout",
     "output_type": "stream",
     "text": [
      "2021-12-10 19:04.25 [info     ] Model parameters are saved to d3rlpy_logs/DoubleDQN_online_20211210190144/model_52000.pt\n",
      "2021-12-10 19:04.25 [info     ] DoubleDQN_online_20211210190144: epoch=52 step=52000 epoch=52 metrics={'time_inference': 0.00035220789909362794, 'time_environment_step': 0.000737060546875, 'time_sample_batch': 9.534597396850587e-05, 'time_algorithm_update': 0.00159633207321167, 'loss': 0.830987891793251, 'time_step': 0.002752967834472656, 'evaluation': 15.2} step=52000\n"
     ]
    },
    {
     "name": "stderr",
     "output_type": "stream",
     "text": [
      " 53%|█████▎    | 52979/100000 [02:43<02:18, 340.34it/s]"
     ]
    },
    {
     "name": "stdout",
     "output_type": "stream",
     "text": [
      "2021-12-10 19:04.28 [info     ] Model parameters are saved to d3rlpy_logs/DoubleDQN_online_20211210190144/model_53000.pt\n",
      "2021-12-10 19:04.28 [info     ] DoubleDQN_online_20211210190144: epoch=53 step=53000 epoch=53 metrics={'time_inference': 0.00035028648376464846, 'time_environment_step': 0.0007160331181117467, 'time_sample_batch': 9.618449211120606e-05, 'time_algorithm_update': 0.001594879388809204, 'loss': 0.8004657293260098, 'time_step': 0.0027319042682647705, 'evaluation': 13.4} step=53000\n"
     ]
    },
    {
     "name": "stderr",
     "output_type": "stream",
     "text": [
      " 54%|█████▍    | 53961/100000 [02:46<02:04, 370.12it/s]"
     ]
    },
    {
     "name": "stdout",
     "output_type": "stream",
     "text": [
      "2021-12-10 19:04.31 [info     ] Model parameters are saved to d3rlpy_logs/DoubleDQN_online_20211210190144/model_54000.pt\n",
      "2021-12-10 19:04.31 [info     ] DoubleDQN_online_20211210190144: epoch=54 step=54000 epoch=54 metrics={'time_inference': 0.00033693838119506835, 'time_environment_step': 0.0006860212598528181, 'time_sample_batch': 9.267234802246094e-05, 'time_algorithm_update': 0.0014973287582397462, 'loss': 0.7847107297480106, 'time_step': 0.0025890350341796877, 'evaluation': 15.5} step=54000\n"
     ]
    },
    {
     "name": "stderr",
     "output_type": "stream",
     "text": [
      " 55%|█████▍    | 54962/100000 [02:49<02:20, 320.88it/s]"
     ]
    },
    {
     "name": "stdout",
     "output_type": "stream",
     "text": [
      "2021-12-10 19:04.34 [info     ] Model parameters are saved to d3rlpy_logs/DoubleDQN_online_20211210190144/model_55000.pt\n",
      "2021-12-10 19:04.34 [info     ] DoubleDQN_online_20211210190144: epoch=55 step=55000 epoch=55 metrics={'time_inference': 0.000360828161239624, 'time_environment_step': 0.0007359346662248883, 'time_sample_batch': 9.792876243591308e-05, 'time_algorithm_update': 0.0016293783187866211, 'loss': 0.8369968642741442, 'time_step': 0.0027970800399780274, 'evaluation': 17.2} step=55000\n"
     ]
    },
    {
     "name": "stderr",
     "output_type": "stream",
     "text": [
      " 56%|█████▌    | 55972/100000 [02:52<02:07, 343.98it/s]"
     ]
    },
    {
     "name": "stdout",
     "output_type": "stream",
     "text": [
      "2021-12-10 19:04.37 [info     ] Model parameters are saved to d3rlpy_logs/DoubleDQN_online_20211210190144/model_56000.pt\n",
      "2021-12-10 19:04.37 [info     ] DoubleDQN_online_20211210190144: epoch=56 step=56000 epoch=56 metrics={'time_inference': 0.00035982155799865723, 'time_environment_step': 0.0007312232426234654, 'time_sample_batch': 9.72890853881836e-05, 'time_algorithm_update': 0.0015843353271484375, 'loss': 0.8055827874690294, 'time_step': 0.0027455589771270754, 'evaluation': 14.2} step=56000\n"
     ]
    },
    {
     "name": "stderr",
     "output_type": "stream",
     "text": [
      " 57%|█████▋    | 56996/100000 [02:55<02:18, 310.10it/s]"
     ]
    },
    {
     "name": "stdout",
     "output_type": "stream",
     "text": [
      "2021-12-10 19:04.40 [info     ] Model parameters are saved to d3rlpy_logs/DoubleDQN_online_20211210190144/model_57000.pt\n",
      "2021-12-10 19:04.40 [info     ] DoubleDQN_online_20211210190144: epoch=57 step=57000 epoch=57 metrics={'time_inference': 0.0003662943840026855, 'time_environment_step': 0.0007504967280796596, 'time_sample_batch': 9.772586822509766e-05, 'time_algorithm_update': 0.0016750431060791016, 'loss': 0.7946625910848379, 'time_step': 0.002863569736480713, 'evaluation': 15.5} step=57000\n"
     ]
    },
    {
     "name": "stderr",
     "output_type": "stream",
     "text": [
      " 58%|█████▊    | 57985/100000 [02:59<02:08, 326.87it/s]"
     ]
    },
    {
     "name": "stdout",
     "output_type": "stream",
     "text": [
      "2021-12-10 19:04.44 [info     ] Model parameters are saved to d3rlpy_logs/DoubleDQN_online_20211210190144/model_58000.pt\n",
      "2021-12-10 19:04.44 [info     ] DoubleDQN_online_20211210190144: epoch=58 step=58000 epoch=58 metrics={'time_inference': 0.000404050350189209, 'time_environment_step': 0.0008006954193115235, 'time_sample_batch': 0.00010846519470214843, 'time_algorithm_update': 0.002696974515914917, 'loss': 0.7557585389763117, 'time_step': 0.0039925346374511715, 'evaluation': 15.2} step=58000\n"
     ]
    },
    {
     "name": "stderr",
     "output_type": "stream",
     "text": [
      " 59%|█████▉    | 58965/100000 [03:02<02:01, 339.06it/s]"
     ]
    },
    {
     "name": "stdout",
     "output_type": "stream",
     "text": [
      "2021-12-10 19:04.47 [info     ] Model parameters are saved to d3rlpy_logs/DoubleDQN_online_20211210190144/model_59000.pt\n",
      "2021-12-10 19:04.47 [info     ] DoubleDQN_online_20211210190144: epoch=59 step=59000 epoch=59 metrics={'time_inference': 0.00035787653923034665, 'time_environment_step': 0.0007493463243756975, 'time_sample_batch': 9.772276878356934e-05, 'time_algorithm_update': 0.0016379623413085938, 'loss': 0.7705801132619381, 'time_step': 0.0028191812038421632, 'evaluation': 14.9} step=59000\n"
     ]
    },
    {
     "name": "stderr",
     "output_type": "stream",
     "text": [
      " 60%|█████▉    | 59989/100000 [03:05<02:26, 273.49it/s]"
     ]
    },
    {
     "name": "stdout",
     "output_type": "stream",
     "text": [
      "2021-12-10 19:04.50 [info     ] Model parameters are saved to d3rlpy_logs/DoubleDQN_online_20211210190144/model_60000.pt\n",
      "2021-12-10 19:04.50 [info     ] DoubleDQN_online_20211210190144: epoch=60 step=60000 epoch=60 metrics={'time_inference': 0.00037623476982116697, 'time_environment_step': 0.0007756720951625279, 'time_sample_batch': 0.00010613346099853516, 'time_algorithm_update': 0.001708418369293213, 'loss': 0.77603088735044, 'time_step': 0.0029391763210296633, 'evaluation': 15.3} step=60000\n"
     ]
    },
    {
     "name": "stderr",
     "output_type": "stream",
     "text": [
      " 61%|██████    | 60967/100000 [03:09<01:48, 358.30it/s]"
     ]
    },
    {
     "name": "stdout",
     "output_type": "stream",
     "text": [
      "2021-12-10 19:04.54 [info     ] Model parameters are saved to d3rlpy_logs/DoubleDQN_online_20211210190144/model_61000.pt\n",
      "2021-12-10 19:04.54 [info     ] DoubleDQN_online_20211210190144: epoch=61 step=61000 epoch=61 metrics={'time_inference': 0.000382896900177002, 'time_environment_step': 0.0007668781280517578, 'time_sample_batch': 0.00010991263389587402, 'time_algorithm_update': 0.0018094394207000732, 'loss': 0.779030671864748, 'time_step': 0.0030454394817352294, 'evaluation': 17.7} step=61000\n"
     ]
    },
    {
     "name": "stderr",
     "output_type": "stream",
     "text": [
      " 62%|██████▏   | 61977/100000 [03:12<01:42, 372.22it/s]"
     ]
    },
    {
     "name": "stdout",
     "output_type": "stream",
     "text": [
      "2021-12-10 19:04.57 [info     ] Model parameters are saved to d3rlpy_logs/DoubleDQN_online_20211210190144/model_62000.pt\n",
      "2021-12-10 19:04.57 [info     ] DoubleDQN_online_20211210190144: epoch=62 step=62000 epoch=62 metrics={'time_inference': 0.00037366652488708495, 'time_environment_step': 0.000731243406023298, 'time_sample_batch': 0.00010157585144042969, 'time_algorithm_update': 0.0016258747577667235, 'loss': 0.773730206400156, 'time_step': 0.002808746099472046, 'evaluation': 16.0} step=62000\n"
     ]
    },
    {
     "name": "stderr",
     "output_type": "stream",
     "text": [
      " 63%|██████▎   | 62976/100000 [03:15<01:52, 328.31it/s]"
     ]
    },
    {
     "name": "stdout",
     "output_type": "stream",
     "text": [
      "2021-12-10 19:05.00 [info     ] Model parameters are saved to d3rlpy_logs/DoubleDQN_online_20211210190144/model_63000.pt\n",
      "2021-12-10 19:05.00 [info     ] DoubleDQN_online_20211210190144: epoch=63 step=63000 epoch=63 metrics={'time_inference': 0.0003561289310455322, 'time_environment_step': 0.0007437005724225726, 'time_sample_batch': 0.00010376954078674316, 'time_algorithm_update': 0.0016461694240570068, 'loss': 0.7693555622696876, 'time_step': 0.002822139263153076, 'evaluation': 12.8} step=63000\n"
     ]
    },
    {
     "name": "stderr",
     "output_type": "stream",
     "text": [
      " 64%|██████▍   | 63977/100000 [03:18<01:43, 348.69it/s]"
     ]
    },
    {
     "name": "stdout",
     "output_type": "stream",
     "text": [
      "2021-12-10 19:05.03 [info     ] Model parameters are saved to d3rlpy_logs/DoubleDQN_online_20211210190144/model_64000.pt\n",
      "2021-12-10 19:05.03 [info     ] DoubleDQN_online_20211210190144: epoch=64 step=64000 epoch=64 metrics={'time_inference': 0.00036738038063049316, 'time_environment_step': 0.0007427667890276228, 'time_sample_batch': 9.913778305053711e-05, 'time_algorithm_update': 0.001625131368637085, 'loss': 0.7775949411392212, 'time_step': 0.0028070449829101563, 'evaluation': 15.1} step=64000\n"
     ]
    },
    {
     "name": "stderr",
     "output_type": "stream",
     "text": [
      " 65%|██████▍   | 64993/100000 [03:20<01:44, 333.64it/s]"
     ]
    },
    {
     "name": "stdout",
     "output_type": "stream",
     "text": [
      "2021-12-10 19:05.05 [info     ] Model parameters are saved to d3rlpy_logs/DoubleDQN_online_20211210190144/model_65000.pt\n",
      "2021-12-10 19:05.06 [info     ] DoubleDQN_online_20211210190144: epoch=65 step=65000 epoch=65 metrics={'time_inference': 0.0003441460132598877, 'time_environment_step': 0.0007048437935965402, 'time_sample_batch': 9.527802467346191e-05, 'time_algorithm_update': 0.001548685073852539, 'loss': 0.7795903490185737, 'time_step': 0.002668287992477417, 'evaluation': 13.9} step=65000\n"
     ]
    },
    {
     "name": "stderr",
     "output_type": "stream",
     "text": [
      " 66%|██████▌   | 65985/100000 [03:24<01:41, 336.01it/s]"
     ]
    },
    {
     "name": "stdout",
     "output_type": "stream",
     "text": [
      "2021-12-10 19:05.09 [info     ] Model parameters are saved to d3rlpy_logs/DoubleDQN_online_20211210190144/model_66000.pt\n",
      "2021-12-10 19:05.09 [info     ] DoubleDQN_online_20211210190144: epoch=66 step=66000 epoch=66 metrics={'time_inference': 0.0003956551551818848, 'time_environment_step': 0.0008188994271414621, 'time_sample_batch': 0.0001121666431427002, 'time_algorithm_update': 0.001816380500793457, 'loss': 0.8249251632392407, 'time_step': 0.0031206932067871095, 'evaluation': 16.0} step=66000\n"
     ]
    },
    {
     "name": "stderr",
     "output_type": "stream",
     "text": [
      " 67%|██████▋   | 66986/100000 [03:27<01:27, 376.35it/s]"
     ]
    },
    {
     "name": "stdout",
     "output_type": "stream",
     "text": [
      "2021-12-10 19:05.12 [info     ] Model parameters are saved to d3rlpy_logs/DoubleDQN_online_20211210190144/model_67000.pt\n",
      "2021-12-10 19:05.12 [info     ] DoubleDQN_online_20211210190144: epoch=67 step=67000 epoch=67 metrics={'time_inference': 0.000342327356338501, 'time_environment_step': 0.0006983405521937779, 'time_sample_batch': 9.493064880371094e-05, 'time_algorithm_update': 0.0015404584407806396, 'loss': 0.7907733600139618, 'time_step': 0.0026520097255706785, 'evaluation': 16.3} step=67000\n"
     ]
    },
    {
     "name": "stderr",
     "output_type": "stream",
     "text": [
      " 68%|██████▊   | 67972/100000 [03:30<01:34, 339.06it/s]"
     ]
    },
    {
     "name": "stdout",
     "output_type": "stream",
     "text": [
      "2021-12-10 19:05.15 [info     ] Model parameters are saved to d3rlpy_logs/DoubleDQN_online_20211210190144/model_68000.pt\n",
      "2021-12-10 19:05.15 [info     ] DoubleDQN_online_20211210190144: epoch=68 step=68000 epoch=68 metrics={'time_inference': 0.00037569403648376467, 'time_environment_step': 0.0007822393689836775, 'time_sample_batch': 0.00010337686538696289, 'time_algorithm_update': 0.0019097368717193603, 'loss': 0.7979832877963782, 'time_step': 0.0031482956409454345, 'evaluation': 13.8} step=68000\n"
     ]
    },
    {
     "name": "stderr",
     "output_type": "stream",
     "text": [
      " 69%|██████▉   | 68961/100000 [03:33<01:26, 357.61it/s]"
     ]
    },
    {
     "name": "stdout",
     "output_type": "stream",
     "text": [
      "2021-12-10 19:05.18 [info     ] Model parameters are saved to d3rlpy_logs/DoubleDQN_online_20211210190144/model_69000.pt\n",
      "2021-12-10 19:05.18 [info     ] DoubleDQN_online_20211210190144: epoch=69 step=69000 epoch=69 metrics={'time_inference': 0.0003612489700317383, 'time_environment_step': 0.0007380098615373884, 'time_sample_batch': 9.992051124572753e-05, 'time_algorithm_update': 0.0016179354190826417, 'loss': 0.8028477165400982, 'time_step': 0.0027926478385925293, 'evaluation': 16.3} step=69000\n"
     ]
    },
    {
     "name": "stderr",
     "output_type": "stream",
     "text": [
      " 70%|██████▉   | 69971/100000 [03:36<01:16, 394.78it/s]"
     ]
    },
    {
     "name": "stdout",
     "output_type": "stream",
     "text": [
      "2021-12-10 19:05.21 [info     ] Model parameters are saved to d3rlpy_logs/DoubleDQN_online_20211210190144/model_70000.pt\n",
      "2021-12-10 19:05.21 [info     ] DoubleDQN_online_20211210190144: epoch=70 step=70000 epoch=70 metrics={'time_inference': 0.00033775901794433593, 'time_environment_step': 0.0006885801042829241, 'time_sample_batch': 9.357738494873047e-05, 'time_algorithm_update': 0.001531710147857666, 'loss': 0.7910261108577251, 'time_step': 0.0026278724670410155, 'evaluation': 12.5} step=70000\n"
     ]
    },
    {
     "name": "stderr",
     "output_type": "stream",
     "text": [
      " 71%|███████   | 70963/100000 [03:38<01:19, 365.87it/s]"
     ]
    },
    {
     "name": "stdout",
     "output_type": "stream",
     "text": [
      "2021-12-10 19:05.24 [info     ] Model parameters are saved to d3rlpy_logs/DoubleDQN_online_20211210190144/model_71000.pt\n",
      "2021-12-10 19:05.24 [info     ] DoubleDQN_online_20211210190144: epoch=71 step=71000 epoch=71 metrics={'time_inference': 0.000353085994720459, 'time_environment_step': 0.0007181551797049386, 'time_sample_batch': 9.781384468078614e-05, 'time_algorithm_update': 0.0016381897926330566, 'loss': 0.8059918589293956, 'time_step': 0.0027817432880401613, 'evaluation': 16.4} step=71000\n"
     ]
    },
    {
     "name": "stderr",
     "output_type": "stream",
     "text": [
      " 72%|███████▏  | 71961/100000 [03:41<01:13, 381.08it/s]"
     ]
    },
    {
     "name": "stdout",
     "output_type": "stream",
     "text": [
      "2021-12-10 19:05.26 [info     ] Model parameters are saved to d3rlpy_logs/DoubleDQN_online_20211210190144/model_72000.pt\n",
      "2021-12-10 19:05.27 [info     ] DoubleDQN_online_20211210190144: epoch=72 step=72000 epoch=72 metrics={'time_inference': 0.0003425378799438477, 'time_environment_step': 0.0007005307333809989, 'time_sample_batch': 9.658551216125488e-05, 'time_algorithm_update': 0.0015726709365844727, 'loss': 0.8012915093153715, 'time_step': 0.002689420461654663, 'evaluation': 9.0} step=72000\n"
     ]
    },
    {
     "name": "stderr",
     "output_type": "stream",
     "text": [
      " 73%|███████▎  | 72982/100000 [03:44<01:12, 374.90it/s]"
     ]
    },
    {
     "name": "stdout",
     "output_type": "stream",
     "text": [
      "2021-12-10 19:05.29 [info     ] Model parameters are saved to d3rlpy_logs/DoubleDQN_online_20211210190144/model_73000.pt\n",
      "2021-12-10 19:05.29 [info     ] DoubleDQN_online_20211210190144: epoch=73 step=73000 epoch=73 metrics={'time_inference': 0.00035061359405517576, 'time_environment_step': 0.0007226486206054687, 'time_sample_batch': 9.590554237365723e-05, 'time_algorithm_update': 0.001614856719970703, 'loss': 0.7981892725229264, 'time_step': 0.0027592959403991697, 'evaluation': 14.3} step=73000\n"
     ]
    },
    {
     "name": "stderr",
     "output_type": "stream",
     "text": [
      " 74%|███████▍  | 73982/100000 [03:47<01:08, 379.77it/s]"
     ]
    },
    {
     "name": "stdout",
     "output_type": "stream",
     "text": [
      "2021-12-10 19:05.32 [info     ] Model parameters are saved to d3rlpy_logs/DoubleDQN_online_20211210190144/model_74000.pt\n",
      "2021-12-10 19:05.32 [info     ] DoubleDQN_online_20211210190144: epoch=74 step=74000 epoch=74 metrics={'time_inference': 0.00033815479278564455, 'time_environment_step': 0.0007010231018066406, 'time_sample_batch': 9.456777572631836e-05, 'time_algorithm_update': 0.0015564498901367188, 'loss': 0.827279115870595, 'time_step': 0.002667012929916382, 'evaluation': 17.2} step=74000\n"
     ]
    },
    {
     "name": "stderr",
     "output_type": "stream",
     "text": [
      " 75%|███████▍  | 74966/100000 [03:50<01:21, 305.44it/s]"
     ]
    },
    {
     "name": "stdout",
     "output_type": "stream",
     "text": [
      "2021-12-10 19:05.35 [info     ] Model parameters are saved to d3rlpy_logs/DoubleDQN_online_20211210190144/model_75000.pt\n",
      "2021-12-10 19:05.35 [info     ] DoubleDQN_online_20211210190144: epoch=75 step=75000 epoch=75 metrics={'time_inference': 0.0003477783203125, 'time_environment_step': 0.0007406984056745257, 'time_sample_batch': 0.00010009479522705078, 'time_algorithm_update': 0.001645740032196045, 'loss': 0.7965462132543325, 'time_step': 0.0028109321594238282, 'evaluation': 17.3} step=75000\n"
     ]
    },
    {
     "name": "stderr",
     "output_type": "stream",
     "text": [
      " 76%|███████▌  | 75967/100000 [03:53<01:15, 318.15it/s]"
     ]
    },
    {
     "name": "stdout",
     "output_type": "stream",
     "text": [
      "2021-12-10 19:05.38 [info     ] Model parameters are saved to d3rlpy_logs/DoubleDQN_online_20211210190144/model_76000.pt\n",
      "2021-12-10 19:05.38 [info     ] DoubleDQN_online_20211210190144: epoch=76 step=76000 epoch=76 metrics={'time_inference': 0.00035998058319091795, 'time_environment_step': 0.0007422964913504465, 'time_sample_batch': 9.827017784118653e-05, 'time_algorithm_update': 0.0016412131786346436, 'loss': 0.787825928658247, 'time_step': 0.002818883657455444, 'evaluation': 15.8} step=76000\n"
     ]
    },
    {
     "name": "stderr",
     "output_type": "stream",
     "text": [
      " 77%|███████▋  | 76963/100000 [03:56<01:02, 366.47it/s]"
     ]
    },
    {
     "name": "stdout",
     "output_type": "stream",
     "text": [
      "2021-12-10 19:05.41 [info     ] Model parameters are saved to d3rlpy_logs/DoubleDQN_online_20211210190144/model_77000.pt\n",
      "2021-12-10 19:05.41 [info     ] DoubleDQN_online_20211210190144: epoch=77 step=77000 epoch=77 metrics={'time_inference': 0.0003596639633178711, 'time_environment_step': 0.0007063568660191128, 'time_sample_batch': 9.572768211364747e-05, 'time_algorithm_update': 0.001543752908706665, 'loss': 0.760647209584713, 'time_step': 0.002680779695510864, 'evaluation': 15.2} step=77000\n"
     ]
    },
    {
     "name": "stderr",
     "output_type": "stream",
     "text": [
      " 78%|███████▊  | 77981/100000 [03:59<00:57, 384.46it/s]"
     ]
    },
    {
     "name": "stdout",
     "output_type": "stream",
     "text": [
      "2021-12-10 19:05.44 [info     ] Model parameters are saved to d3rlpy_logs/DoubleDQN_online_20211210190144/model_78000.pt\n",
      "2021-12-10 19:05.44 [info     ] DoubleDQN_online_20211210190144: epoch=78 step=78000 epoch=78 metrics={'time_inference': 0.00033547568321228027, 'time_environment_step': 0.0006830087389264788, 'time_sample_batch': 9.249114990234374e-05, 'time_algorithm_update': 0.0014975783824920654, 'loss': 0.7870654863417148, 'time_step': 0.0025850653648376463, 'evaluation': 16.6} step=78000\n"
     ]
    },
    {
     "name": "stderr",
     "output_type": "stream",
     "text": [
      " 79%|███████▉  | 78986/100000 [04:02<01:03, 332.70it/s]"
     ]
    },
    {
     "name": "stdout",
     "output_type": "stream",
     "text": [
      "2021-12-10 19:05.47 [info     ] Model parameters are saved to d3rlpy_logs/DoubleDQN_online_20211210190144/model_79000.pt\n",
      "2021-12-10 19:05.47 [info     ] DoubleDQN_online_20211210190144: epoch=79 step=79000 epoch=79 metrics={'time_inference': 0.0003591454029083252, 'time_environment_step': 0.0007550773620605468, 'time_sample_batch': 9.842133522033692e-05, 'time_algorithm_update': 0.0016815218925476075, 'loss': 0.7652305879890918, 'time_step': 0.0028656461238861083, 'evaluation': 16.8} step=79000\n"
     ]
    },
    {
     "name": "stderr",
     "output_type": "stream",
     "text": [
      " 80%|███████▉  | 79998/100000 [04:05<00:52, 378.44it/s]"
     ]
    },
    {
     "name": "stdout",
     "output_type": "stream",
     "text": [
      "2021-12-10 19:05.50 [info     ] Model parameters are saved to d3rlpy_logs/DoubleDQN_online_20211210190144/model_80000.pt\n",
      "2021-12-10 19:05.50 [info     ] DoubleDQN_online_20211210190144: epoch=80 step=80000 epoch=80 metrics={'time_inference': 0.00035115551948547365, 'time_environment_step': 0.0007318292345319475, 'time_sample_batch': 0.0001049203872680664, 'time_algorithm_update': 0.0016120030879974365, 'loss': 0.763513381049037, 'time_step': 0.002773777961730957, 'evaluation': 16.3} step=80000\n"
     ]
    },
    {
     "name": "stderr",
     "output_type": "stream",
     "text": [
      " 81%|████████  | 80996/100000 [04:08<00:49, 385.60it/s]"
     ]
    },
    {
     "name": "stdout",
     "output_type": "stream",
     "text": [
      "2021-12-10 19:05.53 [info     ] Model parameters are saved to d3rlpy_logs/DoubleDQN_online_20211210190144/model_81000.pt\n",
      "2021-12-10 19:05.53 [info     ] DoubleDQN_online_20211210190144: epoch=81 step=81000 epoch=81 metrics={'time_inference': 0.0003516051769256592, 'time_environment_step': 0.0007398515428815569, 'time_sample_batch': 9.704279899597168e-05, 'time_algorithm_update': 0.0016037867069244385, 'loss': 0.7623438667058945, 'time_step': 0.002765110492706299, 'evaluation': 7.2} step=81000\n"
     ]
    },
    {
     "name": "stderr",
     "output_type": "stream",
     "text": [
      " 82%|████████▏ | 81983/100000 [04:11<00:55, 326.25it/s]"
     ]
    },
    {
     "name": "stdout",
     "output_type": "stream",
     "text": [
      "2021-12-10 19:05.56 [info     ] Model parameters are saved to d3rlpy_logs/DoubleDQN_online_20211210190144/model_82000.pt\n",
      "2021-12-10 19:05.56 [info     ] DoubleDQN_online_20211210190144: epoch=82 step=82000 epoch=82 metrics={'time_inference': 0.00034934592247009275, 'time_environment_step': 0.0007043356214250838, 'time_sample_batch': 9.441447257995605e-05, 'time_algorithm_update': 0.0016564137935638427, 'loss': 0.7195698928833008, 'time_step': 0.002779534578323364, 'evaluation': 14.7} step=82000\n"
     ]
    },
    {
     "name": "stderr",
     "output_type": "stream",
     "text": [
      " 83%|████████▎ | 82964/100000 [04:14<00:45, 370.73it/s]"
     ]
    },
    {
     "name": "stdout",
     "output_type": "stream",
     "text": [
      "2021-12-10 19:05.59 [info     ] Model parameters are saved to d3rlpy_logs/DoubleDQN_online_20211210190144/model_83000.pt\n",
      "2021-12-10 19:05.59 [info     ] DoubleDQN_online_20211210190144: epoch=83 step=83000 epoch=83 metrics={'time_inference': 0.0003547697067260742, 'time_environment_step': 0.0007194527217320034, 'time_sample_batch': 9.485936164855958e-05, 'time_algorithm_update': 0.0015924034118652345, 'loss': 0.7383529902845621, 'time_step': 0.002735262155532837, 'evaluation': 15.4} step=83000\n"
     ]
    },
    {
     "name": "stderr",
     "output_type": "stream",
     "text": [
      " 84%|████████▍ | 83973/100000 [04:16<00:45, 351.68it/s]"
     ]
    },
    {
     "name": "stdout",
     "output_type": "stream",
     "text": [
      "2021-12-10 19:06.01 [info     ] Model parameters are saved to d3rlpy_logs/DoubleDQN_online_20211210190144/model_84000.pt\n",
      "2021-12-10 19:06.01 [info     ] DoubleDQN_online_20211210190144: epoch=84 step=84000 epoch=84 metrics={'time_inference': 0.0003398740291595459, 'time_environment_step': 0.0007003637041364398, 'time_sample_batch': 9.464406967163086e-05, 'time_algorithm_update': 0.0015451593399047852, 'loss': 0.751574884608388, 'time_step': 0.0026550779342651367, 'evaluation': 16.2} step=84000\n"
     ]
    },
    {
     "name": "stderr",
     "output_type": "stream",
     "text": [
      " 85%|████████▍ | 84985/100000 [04:19<00:41, 365.94it/s]"
     ]
    },
    {
     "name": "stdout",
     "output_type": "stream",
     "text": [
      "2021-12-10 19:06.04 [info     ] Model parameters are saved to d3rlpy_logs/DoubleDQN_online_20211210190144/model_85000.pt\n",
      "2021-12-10 19:06.04 [info     ] DoubleDQN_online_20211210190144: epoch=85 step=85000 epoch=85 metrics={'time_inference': 0.0003455381393432617, 'time_environment_step': 0.0007013391767229353, 'time_sample_batch': 9.670519828796386e-05, 'time_algorithm_update': 0.0015533251762390138, 'loss': 0.7266250579357147, 'time_step': 0.002671780824661255, 'evaluation': 14.8} step=85000\n"
     ]
    },
    {
     "name": "stderr",
     "output_type": "stream",
     "text": [
      " 86%|████████▌ | 85981/100000 [04:22<00:48, 288.71it/s]"
     ]
    },
    {
     "name": "stdout",
     "output_type": "stream",
     "text": [
      "2021-12-10 19:06.07 [info     ] Model parameters are saved to d3rlpy_logs/DoubleDQN_online_20211210190144/model_86000.pt\n",
      "2021-12-10 19:06.08 [info     ] DoubleDQN_online_20211210190144: epoch=86 step=86000 epoch=86 metrics={'time_inference': 0.00036275076866149904, 'time_environment_step': 0.0007644092014857701, 'time_sample_batch': 9.98835563659668e-05, 'time_algorithm_update': 0.0017285108566284179, 'loss': 0.7004510365873575, 'time_step': 0.0029293050765991212, 'evaluation': 16.5} step=86000\n"
     ]
    },
    {
     "name": "stderr",
     "output_type": "stream",
     "text": [
      " 87%|████████▋ | 86999/100000 [04:25<00:34, 374.30it/s]"
     ]
    },
    {
     "name": "stdout",
     "output_type": "stream",
     "text": [
      "2021-12-10 19:06.10 [info     ] Model parameters are saved to d3rlpy_logs/DoubleDQN_online_20211210190144/model_87000.pt\n",
      "2021-12-10 19:06.11 [info     ] DoubleDQN_online_20211210190144: epoch=87 step=87000 epoch=87 metrics={'time_inference': 0.00036902880668640136, 'time_environment_step': 0.0007351850782121931, 'time_sample_batch': 9.620094299316406e-05, 'time_algorithm_update': 0.0016532492637634276, 'loss': 0.800034909799695, 'time_step': 0.002827477693557739, 'evaluation': 15.6} step=87000\n"
     ]
    },
    {
     "name": "stderr",
     "output_type": "stream",
     "text": [
      " 88%|████████▊ | 87999/100000 [04:28<00:34, 350.24it/s]"
     ]
    },
    {
     "name": "stdout",
     "output_type": "stream",
     "text": [
      "2021-12-10 19:06.13 [info     ] Model parameters are saved to d3rlpy_logs/DoubleDQN_online_20211210190144/model_88000.pt\n",
      "2021-12-10 19:06.13 [info     ] DoubleDQN_online_20211210190144: epoch=88 step=88000 epoch=88 metrics={'time_inference': 0.0003465731143951416, 'time_environment_step': 0.0007051119123186384, 'time_sample_batch': 9.470129013061524e-05, 'time_algorithm_update': 0.0015553808212280273, 'loss': 0.7114839781969786, 'time_step': 0.0026764345169067384, 'evaluation': 17.8} step=88000\n"
     ]
    },
    {
     "name": "stderr",
     "output_type": "stream",
     "text": [
      " 89%|████████▉ | 88972/100000 [04:31<00:31, 349.99it/s]"
     ]
    },
    {
     "name": "stdout",
     "output_type": "stream",
     "text": [
      "2021-12-10 19:06.16 [info     ] Model parameters are saved to d3rlpy_logs/DoubleDQN_online_20211210190144/model_89000.pt\n",
      "2021-12-10 19:06.16 [info     ] DoubleDQN_online_20211210190144: epoch=89 step=89000 epoch=89 metrics={'time_inference': 0.0003653476238250732, 'time_environment_step': 0.0007693770272391183, 'time_sample_batch': 0.00010200977325439453, 'time_algorithm_update': 0.0016990070343017578, 'loss': 0.7297800304889679, 'time_step': 0.0029078898429870607, 'evaluation': 17.1} step=89000\n"
     ]
    },
    {
     "name": "stderr",
     "output_type": "stream",
     "text": [
      " 90%|████████▉ | 89995/100000 [04:34<00:30, 330.84it/s]"
     ]
    },
    {
     "name": "stdout",
     "output_type": "stream",
     "text": [
      "2021-12-10 19:06.19 [info     ] Model parameters are saved to d3rlpy_logs/DoubleDQN_online_20211210190144/model_90000.pt\n",
      "2021-12-10 19:06.20 [info     ] DoubleDQN_online_20211210190144: epoch=90 step=90000 epoch=90 metrics={'time_inference': 0.0003653209209442139, 'time_environment_step': 0.0007431542532784598, 'time_sample_batch': 0.00010122227668762207, 'time_algorithm_update': 0.001708296775817871, 'loss': 0.7515476772934199, 'time_step': 0.0028940184116363525, 'evaluation': 14.9} step=90000\n"
     ]
    },
    {
     "name": "stderr",
     "output_type": "stream",
     "text": [
      " 91%|█████████ | 90980/100000 [04:38<00:25, 352.57it/s]"
     ]
    },
    {
     "name": "stdout",
     "output_type": "stream",
     "text": [
      "2021-12-10 19:06.23 [info     ] Model parameters are saved to d3rlpy_logs/DoubleDQN_online_20211210190144/model_91000.pt\n",
      "2021-12-10 19:06.23 [info     ] DoubleDQN_online_20211210190144: epoch=91 step=91000 epoch=91 metrics={'time_inference': 0.00038410425186157225, 'time_environment_step': 0.0007830758775983538, 'time_sample_batch': 0.00010727500915527344, 'time_algorithm_update': 0.0017808029651641846, 'loss': 0.7476952711492777, 'time_step': 0.00303088116645813, 'evaluation': 14.4} step=91000\n"
     ]
    },
    {
     "name": "stderr",
     "output_type": "stream",
     "text": [
      " 92%|█████████▏| 91989/100000 [04:41<00:22, 360.84it/s]"
     ]
    },
    {
     "name": "stdout",
     "output_type": "stream",
     "text": [
      "2021-12-10 19:06.26 [info     ] Model parameters are saved to d3rlpy_logs/DoubleDQN_online_20211210190144/model_92000.pt\n",
      "2021-12-10 19:06.26 [info     ] DoubleDQN_online_20211210190144: epoch=92 step=92000 epoch=92 metrics={'time_inference': 0.0003632371425628662, 'time_environment_step': 0.0007378559112548828, 'time_sample_batch': 9.76700782775879e-05, 'time_algorithm_update': 0.0016370697021484376, 'loss': 0.7367524122968316, 'time_step': 0.002810709476470947, 'evaluation': 15.9} step=92000\n"
     ]
    },
    {
     "name": "stderr",
     "output_type": "stream",
     "text": [
      " 93%|█████████▎| 92987/100000 [04:44<00:18, 371.89it/s]"
     ]
    },
    {
     "name": "stdout",
     "output_type": "stream",
     "text": [
      "2021-12-10 19:06.29 [info     ] Model parameters are saved to d3rlpy_logs/DoubleDQN_online_20211210190144/model_93000.pt\n",
      "2021-12-10 19:06.29 [info     ] DoubleDQN_online_20211210190144: epoch=93 step=93000 epoch=93 metrics={'time_inference': 0.00034793472290039064, 'time_environment_step': 0.0007178609030587332, 'time_sample_batch': 9.612631797790527e-05, 'time_algorithm_update': 0.0016102852821350097, 'loss': 0.7479193993657828, 'time_step': 0.0027474212646484376, 'evaluation': 9.2} step=93000\n"
     ]
    },
    {
     "name": "stderr",
     "output_type": "stream",
     "text": [
      " 94%|█████████▍| 93966/100000 [04:47<00:17, 336.56it/s]"
     ]
    },
    {
     "name": "stdout",
     "output_type": "stream",
     "text": [
      "2021-12-10 19:06.32 [info     ] Model parameters are saved to d3rlpy_logs/DoubleDQN_online_20211210190144/model_94000.pt\n",
      "2021-12-10 19:06.32 [info     ] DoubleDQN_online_20211210190144: epoch=94 step=94000 epoch=94 metrics={'time_inference': 0.0003584296703338623, 'time_environment_step': 0.0007426095690046038, 'time_sample_batch': 9.85722541809082e-05, 'time_algorithm_update': 0.0016252484321594238, 'loss': 0.7432693603634835, 'time_step': 0.0027975001335144045, 'evaluation': 17.1} step=94000\n"
     ]
    },
    {
     "name": "stderr",
     "output_type": "stream",
     "text": [
      " 95%|█████████▍| 94986/100000 [04:50<00:16, 302.78it/s]"
     ]
    },
    {
     "name": "stdout",
     "output_type": "stream",
     "text": [
      "2021-12-10 19:06.35 [info     ] Model parameters are saved to d3rlpy_logs/DoubleDQN_online_20211210190144/model_95000.pt\n",
      "2021-12-10 19:06.35 [info     ] DoubleDQN_online_20211210190144: epoch=95 step=95000 epoch=95 metrics={'time_inference': 0.00038259315490722656, 'time_environment_step': 0.0008005564553397042, 'time_sample_batch': 0.00010308241844177246, 'time_algorithm_update': 0.0019759185314178465, 'loss': 0.7728101250082254, 'time_step': 0.0032333955764770506, 'evaluation': 17.8} step=95000\n"
     ]
    },
    {
     "name": "stderr",
     "output_type": "stream",
     "text": [
      " 96%|█████████▌| 95971/100000 [04:53<00:13, 295.44it/s]"
     ]
    },
    {
     "name": "stdout",
     "output_type": "stream",
     "text": [
      "2021-12-10 19:06.38 [info     ] Model parameters are saved to d3rlpy_logs/DoubleDQN_online_20211210190144/model_96000.pt\n",
      "2021-12-10 19:06.38 [info     ] DoubleDQN_online_20211210190144: epoch=96 step=96000 epoch=96 metrics={'time_inference': 0.0003873918056488037, 'time_environment_step': 0.0008174419403076172, 'time_sample_batch': 0.00010405158996582031, 'time_algorithm_update': 0.0018193182945251466, 'loss': 0.7580500900298357, 'time_step': 0.0031016671657562254, 'evaluation': 14.4} step=96000\n"
     ]
    },
    {
     "name": "stderr",
     "output_type": "stream",
     "text": [
      " 97%|█████████▋| 96997/100000 [04:57<00:11, 265.65it/s]"
     ]
    },
    {
     "name": "stdout",
     "output_type": "stream",
     "text": [
      "2021-12-10 19:06.42 [info     ] Model parameters are saved to d3rlpy_logs/DoubleDQN_online_20211210190144/model_97000.pt\n",
      "2021-12-10 19:06.42 [info     ] DoubleDQN_online_20211210190144: epoch=97 step=97000 epoch=97 metrics={'time_inference': 0.00036510324478149415, 'time_environment_step': 0.0007749064309256418, 'time_sample_batch': 0.00010657167434692383, 'time_algorithm_update': 0.0017711291313171388, 'loss': 0.765365279763937, 'time_step': 0.002991396427154541, 'evaluation': 15.0} step=97000\n"
     ]
    },
    {
     "name": "stderr",
     "output_type": "stream",
     "text": [
      " 98%|█████████▊| 97961/100000 [05:00<00:05, 369.34it/s]"
     ]
    },
    {
     "name": "stdout",
     "output_type": "stream",
     "text": [
      "2021-12-10 19:06.45 [info     ] Model parameters are saved to d3rlpy_logs/DoubleDQN_online_20211210190144/model_98000.pt\n",
      "2021-12-10 19:06.46 [info     ] DoubleDQN_online_20211210190144: epoch=98 step=98000 epoch=98 metrics={'time_inference': 0.00039243769645690916, 'time_environment_step': 0.0007963368552071707, 'time_sample_batch': 0.00010544276237487793, 'time_algorithm_update': 0.0022972779273986816, 'loss': 0.7902891629338265, 'time_step': 0.0035645575523376464, 'evaluation': 17.6} step=98000\n"
     ]
    },
    {
     "name": "stderr",
     "output_type": "stream",
     "text": [
      " 99%|█████████▉| 98999/100000 [05:03<00:02, 364.34it/s]"
     ]
    },
    {
     "name": "stdout",
     "output_type": "stream",
     "text": [
      "2021-12-10 19:06.48 [info     ] Model parameters are saved to d3rlpy_logs/DoubleDQN_online_20211210190144/model_99000.pt\n",
      "2021-12-10 19:06.48 [info     ] DoubleDQN_online_20211210190144: epoch=99 step=99000 epoch=99 metrics={'time_inference': 0.0003318946361541748, 'time_environment_step': 0.000673924309866769, 'time_sample_batch': 9.198117256164551e-05, 'time_algorithm_update': 0.0014632668495178224, 'loss': 0.7306689002215863, 'time_step': 0.0025391511917114257, 'evaluation': 11.8} step=99000\n"
     ]
    },
    {
     "name": "stderr",
     "output_type": "stream",
     "text": [
      "100%|█████████▉| 99966/100000 [05:06<00:00, 334.90it/s]"
     ]
    },
    {
     "name": "stdout",
     "output_type": "stream",
     "text": [
      "2021-12-10 19:06.51 [info     ] Model parameters are saved to d3rlpy_logs/DoubleDQN_online_20211210190144/model_100000.pt\n",
      "2021-12-10 19:06.51 [info     ] DoubleDQN_online_20211210190144: epoch=100 step=100000 epoch=100 metrics={'time_inference': 0.00036683011054992675, 'time_environment_step': 0.0007571255820138114, 'time_sample_batch': 0.00010902953147888184, 'time_algorithm_update': 0.0016803791522979736, 'loss': 0.7387397319078446, 'time_step': 0.002885817050933838, 'evaluation': 17.0} step=100000\n"
     ]
    },
    {
     "name": "stderr",
     "output_type": "stream",
     "text": [
      "100%|██████████| 100000/100000 [05:06<00:00, 325.85it/s]\n"
     ]
    }
   ],
   "source": [
    "# start training\n",
    "# skip if there is a pre-trained model\n",
    "ddqn.fit_online(\n",
    "    env,\n",
    "    buffer,\n",
    "    explorer=explorer,\n",
    "    eval_env=env,\n",
    "    n_steps=100000,\n",
    "    n_steps_per_epoch=1000,\n",
    ")"
   ]
  },
  {
   "cell_type": "code",
   "execution_count": 19,
   "metadata": {},
   "outputs": [],
   "source": [
    "# save model\n",
    "ddqn.save_model(\"d3rlpy_logs/ddqn.pt\")"
   ]
  },
  {
   "cell_type": "code",
   "execution_count": 20,
   "metadata": {},
   "outputs": [
    {
     "name": "stdout",
     "output_type": "stream",
     "text": [
      "2021-12-10 19:09.11 [warning  ] Parameters will be reinitialized.\n"
     ]
    }
   ],
   "source": [
    "# reload model\n",
    "ddqn.build_with_env(env)\n",
    "ddqn.load_model(\"d3rlpy_logs/ddqn.pt\")"
   ]
  },
  {
   "cell_type": "code",
   "execution_count": 21,
   "metadata": {},
   "outputs": [
    {
     "data": {
      "text/plain": [
       "Text(0, 0.5, 'episode reward')"
      ]
     },
     "execution_count": 21,
     "metadata": {},
     "output_type": "execute_result"
    },
    {
     "data": {
      "image/png": "[encoded data removed]",
      "text/plain": [
       "<Figure size 432x288 with 1 Axes>"
      ]
     },
     "metadata": {
      "needs_background": "light"
     },
     "output_type": "display_data"
    }
   ],
   "source": [
    "# we see that training RL policy can be risky online\n",
    "log_path = sorted(glob(\"d3rlpy_logs/DoubleDQN_online_*/evaluation.csv\"))[-1]\n",
    "df = pd.read_csv(\n",
    "    log_path, \n",
    "    usecols=[1,2],\n",
    "    names=[\"train_episode\", \"episodic_rewards\"]\n",
    ")\n",
    "plt.plot(df[\"train_episode\"], df[\"episodic_rewards\"])\n",
    "plt.title(\"Learning curve of DDQN\")\n",
    "plt.xlabel(\"episode\")\n",
    "plt.ylabel(\"episode reward\")"
   ]
  },
  {
   "cell_type": "code",
   "execution_count": 22,
   "metadata": {},
   "outputs": [],
   "source": [
    "random = DiscreteRandomPolicy()\n",
    "random.build_with_env(env)"
   ]
  },
  {
   "cell_type": "code",
   "execution_count": 23,
   "metadata": {},
   "outputs": [
    {
     "data": {
      "application/vnd.jupyter.widget-view+json": {
       "model_id": "498bc9d2fb244e3ab2e33e6175ed5530",
       "version_major": 2,
       "version_minor": 0
      },
      "text/plain": [
       "[calculate on-policy policy value]:   0%|          | 0/100 [00:00<?, ?it/s]"
      ]
     },
     "metadata": {},
     "output_type": "display_data"
    },
    {
     "data": {
      "application/vnd.jupyter.widget-view+json": {
       "model_id": "8b686952b76c419488218afb34764a6a",
       "version_major": 2,
       "version_minor": 0
      },
      "text/plain": [
       "[calculate on-policy policy value]:   0%|          | 0/100 [00:00<?, ?it/s]"
      ]
     },
     "metadata": {},
     "output_type": "display_data"
    },
    {
     "data": {
      "image/png": "[encoded data removed]",
      "text/plain": [
       "<Figure size 288x288 with 1 Axes>"
      ]
     },
     "metadata": {},
     "output_type": "display_data"
    }
   ],
   "source": [
    "# compare performance online\n",
    "visualize_on_policy_policy_value(\n",
    "    env=env,\n",
    "    policies=[ddqn, random],\n",
    "    policy_names=[\"ddqn\", \"random\"],\n",
    "    n_episodes=100,\n",
    "    random_state=random_state,\n",
    ")"
   ]
  },
  {
   "cell_type": "code",
   "execution_count": 24,
   "metadata": {},
   "outputs": [
    {
     "data": {
      "application/vnd.jupyter.widget-view+json": {
       "model_id": "7223b7d5a52c47fa8d29302f90e6334e",
       "version_major": 2,
       "version_minor": 0
      },
      "text/plain": [
       "[calculate on-policy policy value]:   0%|          | 0/100 [00:00<?, ?it/s]"
      ]
     },
     "metadata": {},
     "output_type": "display_data"
    },
    {
     "data": {
      "application/vnd.jupyter.widget-view+json": {
       "model_id": "15d9d860fe9c456383de6dbd8ca944c8",
       "version_major": 2,
       "version_minor": 0
      },
      "text/plain": [
       "[calculate on-policy policy value]:   0%|          | 0/100 [00:00<?, ?it/s]"
      ]
     },
     "metadata": {},
     "output_type": "display_data"
    },
    {
     "name": "stdout",
     "output_type": "stream",
     "text": [
      "relative improvement: 0.26276771004942334\n"
     ]
    }
   ],
   "source": [
    "# on-policy policy value by ddqn policy\n",
    "# largely outperforms random policy (about 20%)\n",
    "ddqn_performance = calc_on_policy_policy_value(env, ddqn, n_episodes=100, random_state=random_state)\n",
    "random_performance = calc_on_policy_policy_value(env, random, n_episodes=100, random_state=random_state)\n",
    "print(\"relative improvement:\", (ddqn_performance - random_performance) / random_performance)"
   ]
  },
  {
   "cell_type": "markdown",
   "metadata": {},
   "source": [
    "## 1. Synthetic Dataset Generation\n",
    "In the previous section, we see how we can interact the environment *online* using synthetic simulator.  \n",
    "Though simulation is a good start for training agent, eventually we want to deploy our agent (or policy) in the real world environment.  \n",
    "However, online interaction may have potential risk of failure in real-world implementataion.  \n",
    "Therefore, we introduce alternative learning protocol, Offline RL, which aim to obtain a new policy using only offline logged dataset.\n",
    "\n",
    "We prepare easy-to-use synthetic dataset generator: `SyntheticDataset` class in the dataset module.  \n",
    "By regarding simulation environment as a hypothetical real-environment, we show how to conduct Offline RL using logged dataset in real-world application.  \n",
    "For detailed description of how to use real-world dataset, please see #TODO (will be implemented).\n",
    "\n",
    "We have following arguments for `SyntheticDataset` class:\n",
    "- `env`: RTB environment for RL defined in the previous section.\n",
    "- `bahavior_policy`: RL agent (or algorithm) used for the data collection.\n",
    "- `n_samples_pretrain_reward_predictor`: Numbers of samples used to pretrain reward predictor."
   ]
  },
  {
   "cell_type": "code",
   "execution_count": 25,
   "metadata": {},
   "outputs": [],
   "source": [
    "# import necessary module from _gym\n",
    "from _gym.policy import DiscreteEpsilonGreedyHead"
   ]
  },
  {
   "cell_type": "code",
   "execution_count": 26,
   "metadata": {},
   "outputs": [],
   "source": [
    "behavior_policy = DiscreteEpsilonGreedyHead(\n",
    "    ddqn, \n",
    "    n_actions=env.action_space.n,\n",
    "    epsilon=0.3,\n",
    "    name=\"ddqn_epsilon_0.3\",\n",
    "    random_state=random_state,\n",
    ")"
   ]
  },
  {
   "cell_type": "code",
   "execution_count": 27,
   "metadata": {},
   "outputs": [],
   "source": [
    "# initialize dataset class\n",
    "dataset = SyntheticDataset(\n",
    "    env=env,\n",
    "    behavior_policy=behavior_policy,\n",
    "    random_state=random_state,\n",
    ")"
   ]
  },
  {
   "cell_type": "code",
   "execution_count": 28,
   "metadata": {},
   "outputs": [
    {
     "data": {
      "application/vnd.jupyter.widget-view+json": {
       "model_id": "6a9a39d9ecf141839ed0551368ee5ada",
       "version_major": 2,
       "version_minor": 0
      },
      "text/plain": [
       "[obtain_trajectories]:   0%|          | 0/10000 [00:00<?, ?it/s]"
      ]
     },
     "metadata": {},
     "output_type": "display_data"
    }
   ],
   "source": [
    "# collect logged data using behavior policy\n",
    "# skip if there is a preserved logged dataset\n",
    "logged_dataset = dataset.obtain_trajectories(n_episodes=10000, obtain_info=True)"
   ]
  },
  {
   "cell_type": "code",
   "execution_count": 29,
   "metadata": {},
   "outputs": [
    {
     "data": {
      "text/plain": [
       "{'size': 70000,\n",
       " 'n_episodes': 10000,\n",
       " 'step_per_episode': 7,\n",
       " 'action_type': 'discrete',\n",
       " 'n_actions': 10,\n",
       " 'action_dim': None,\n",
       " 'action_meaning': array([ 0.1       ,  0.16681005,  0.27825594,  0.46415888,  0.77426368,\n",
       "         1.29154967,  2.15443469,  3.59381366,  5.9948425 , 10.        ]),\n",
       " 'state_dim': 7,\n",
       " 'state_keys': ['timestep',\n",
       "  'remaining_budget',\n",
       "  'budget_consumption_rate',\n",
       "  'cost_per_mille_of_impression',\n",
       "  'winning_rate',\n",
       "  'reward',\n",
       "  'adjust_rate'],\n",
       " 'state': array([[0.00000000e+00, 3.00000000e+03, 9.29616093e-01, ...,\n",
       "         1.83918812e-01, 2.00000000e+00, 1.18615267e+00],\n",
       "        [1.00000000e+00, 1.91000000e+03, 3.63333333e-01, ...,\n",
       "         1.00000000e+00, 6.00000000e+00, 1.00000000e+01],\n",
       "        [2.00000000e+00, 1.91000000e+03, 0.00000000e+00, ...,\n",
       "         0.00000000e+00, 0.00000000e+00, 1.66810054e-01],\n",
       "        ...,\n",
       "        [4.00000000e+00, 6.00000000e+00, 9.88700565e-01, ...,\n",
       "         5.55555556e-01, 2.00000000e+00, 5.99484250e+00],\n",
       "        [5.00000000e+00, 6.00000000e+00, 0.00000000e+00, ...,\n",
       "         0.00000000e+00, 0.00000000e+00, 4.64158883e-01],\n",
       "        [6.00000000e+00, 6.00000000e+00, 0.00000000e+00, ...,\n",
       "         3.89105058e-03, 0.00000000e+00, 4.64158883e-01]]),\n",
       " 'action': array([9., 1., 5., ..., 3., 3., 6.]),\n",
       " 'reward': array([6., 0., 1., ..., 0., 0., 0.]),\n",
       " 'done': array([0., 0., 0., ..., 0., 0., 1.]),\n",
       " 'terminal': array([0., 0., 0., ..., 0., 0., 1.]),\n",
       " 'info': {'search_volume': array([201., 205., 217., ..., 203., 257., 179.]),\n",
       "  'impression': array([201.,   0., 184., ...,   0.,   1.,   4.]),\n",
       "  'click': array([21.,  0., 17., ...,  0.,  0.,  0.]),\n",
       "  'conversion': array([6., 0., 1., ..., 0., 0., 0.]),\n",
       "  'average_bid_price': array([581.42288557,   8.51707317,  68.03686636, ...,  21.37931034,\n",
       "          20.44357977,  94.54189944])},\n",
       " 'pscore': array([0.73, 0.03, 0.73, ..., 0.73, 0.73, 0.73])}"
      ]
     },
     "execution_count": 29,
     "metadata": {},
     "output_type": "execute_result"
    }
   ],
   "source": [
    "logged_dataset"
   ]
  },
  {
   "cell_type": "code",
   "execution_count": 30,
   "metadata": {},
   "outputs": [],
   "source": [
    "with open(\"logs/dataset_discrete.pkl\", \"wb\") as f:\n",
    "    pickle.dump(logged_dataset, f)"
   ]
  },
  {
   "cell_type": "code",
   "execution_count": 31,
   "metadata": {},
   "outputs": [],
   "source": [
    "with open(\"logs/dataset_discrete.pkl\", \"rb\") as f:\n",
    "    logged_dataset = pickle.load(f)"
   ]
  },
  {
   "cell_type": "code",
   "execution_count": 32,
   "metadata": {},
   "outputs": [
    {
     "data": {
      "application/vnd.jupyter.widget-view+json": {
       "model_id": "1dc9c5eba68c4c7c8bf4bbda2717acb1",
       "version_major": 2,
       "version_minor": 0
      },
      "text/plain": [
       "[calculate on-policy policy value]:   0%|          | 0/100 [00:00<?, ?it/s]"
      ]
     },
     "metadata": {},
     "output_type": "display_data"
    },
    {
     "data": {
      "application/vnd.jupyter.widget-view+json": {
       "model_id": "8b9c26ec742144cc9bde830552730105",
       "version_major": 2,
       "version_minor": 0
      },
      "text/plain": [
       "[calculate on-policy policy value]:   0%|          | 0/100 [00:00<?, ?it/s]"
      ]
     },
     "metadata": {},
     "output_type": "display_data"
    },
    {
     "data": {
      "application/vnd.jupyter.widget-view+json": {
       "model_id": "23954792330243fa900e8a117bd97155",
       "version_major": 2,
       "version_minor": 0
      },
      "text/plain": [
       "[calculate on-policy policy value]:   0%|          | 0/100 [00:00<?, ?it/s]"
      ]
     },
     "metadata": {},
     "output_type": "display_data"
    },
    {
     "data": {
      "image/png": "[encoded data removed]",
      "text/plain": [
       "<Figure size 432x288 with 1 Axes>"
      ]
     },
     "metadata": {},
     "output_type": "display_data"
    }
   ],
   "source": [
    "# compare performance online\n",
    "# almost same performance with greedy ddqn\n",
    "visualize_on_policy_policy_value(\n",
    "    env=env,\n",
    "    policies=[ddqn, behavior_policy, random],\n",
    "    policy_names=[\"ddqn\", \"ddqn (e=0.3)\", \"random\"],\n",
    "    n_episodes=100,\n",
    "    random_state=random_state,\n",
    ")"
   ]
  },
  {
   "cell_type": "code",
   "execution_count": 33,
   "metadata": {},
   "outputs": [
    {
     "data": {
      "text/html": [
       "<div>\n",
       "<style scoped>\n",
       "    .dataframe tbody tr th:only-of-type {\n",
       "        vertical-align: middle;\n",
       "    }\n",
       "\n",
       "    .dataframe tbody tr th {\n",
       "        vertical-align: top;\n",
       "    }\n",
       "\n",
       "    .dataframe thead th {\n",
       "        text-align: right;\n",
       "    }\n",
       "</style>\n",
       "<table border=\"1\" class=\"dataframe\">\n",
       "  <thead>\n",
       "    <tr style=\"text-align: right;\">\n",
       "      <th></th>\n",
       "      <th>adjust rate</th>\n",
       "      <th>average bid price</th>\n",
       "      <th>impression</th>\n",
       "      <th>click</th>\n",
       "      <th>conversion</th>\n",
       "      <th>winning rate</th>\n",
       "      <th>click / impression</th>\n",
       "      <th>conversion / click</th>\n",
       "    </tr>\n",
       "  </thead>\n",
       "  <tbody>\n",
       "    <tr>\n",
       "      <th>count</th>\n",
       "      <td>70000.000000</td>\n",
       "      <td>70000.000000</td>\n",
       "      <td>70000.000000</td>\n",
       "      <td>70000.000000</td>\n",
       "      <td>70000.000000</td>\n",
       "      <td>70000.000000</td>\n",
       "      <td>70000.000000</td>\n",
       "      <td>70000.000000</td>\n",
       "    </tr>\n",
       "    <tr>\n",
       "      <th>mean</th>\n",
       "      <td>2.541400</td>\n",
       "      <td>140.850691</td>\n",
       "      <td>78.069729</td>\n",
       "      <td>8.154286</td>\n",
       "      <td>2.038986</td>\n",
       "      <td>0.432751</td>\n",
       "      <td>0.085266</td>\n",
       "      <td>0.136984</td>\n",
       "    </tr>\n",
       "    <tr>\n",
       "      <th>std</th>\n",
       "      <td>3.378244</td>\n",
       "      <td>187.666651</td>\n",
       "      <td>86.051992</td>\n",
       "      <td>9.349534</td>\n",
       "      <td>2.968712</td>\n",
       "      <td>0.420002</td>\n",
       "      <td>0.126698</td>\n",
       "      <td>0.196387</td>\n",
       "    </tr>\n",
       "    <tr>\n",
       "      <th>min</th>\n",
       "      <td>0.000038</td>\n",
       "      <td>3.732323</td>\n",
       "      <td>0.000000</td>\n",
       "      <td>0.000000</td>\n",
       "      <td>0.000000</td>\n",
       "      <td>0.000000</td>\n",
       "      <td>0.000000</td>\n",
       "      <td>0.000000</td>\n",
       "    </tr>\n",
       "    <tr>\n",
       "      <th>25%</th>\n",
       "      <td>0.464159</td>\n",
       "      <td>21.781683</td>\n",
       "      <td>2.000000</td>\n",
       "      <td>0.000000</td>\n",
       "      <td>0.000000</td>\n",
       "      <td>0.014085</td>\n",
       "      <td>0.000000</td>\n",
       "      <td>0.000000</td>\n",
       "    </tr>\n",
       "    <tr>\n",
       "      <th>50%</th>\n",
       "      <td>0.774264</td>\n",
       "      <td>36.410851</td>\n",
       "      <td>12.000000</td>\n",
       "      <td>1.000000</td>\n",
       "      <td>0.000000</td>\n",
       "      <td>0.299153</td>\n",
       "      <td>0.079678</td>\n",
       "      <td>0.000000</td>\n",
       "    </tr>\n",
       "    <tr>\n",
       "      <th>75%</th>\n",
       "      <td>3.593814</td>\n",
       "      <td>259.207937</td>\n",
       "      <td>168.000000</td>\n",
       "      <td>17.000000</td>\n",
       "      <td>3.000000</td>\n",
       "      <td>0.865532</td>\n",
       "      <td>0.116667</td>\n",
       "      <td>0.238095</td>\n",
       "    </tr>\n",
       "    <tr>\n",
       "      <th>max</th>\n",
       "      <td>10.000000</td>\n",
       "      <td>585.751381</td>\n",
       "      <td>290.000000</td>\n",
       "      <td>41.000000</td>\n",
       "      <td>20.000000</td>\n",
       "      <td>1.000000</td>\n",
       "      <td>0.999997</td>\n",
       "      <td>0.999998</td>\n",
       "    </tr>\n",
       "  </tbody>\n",
       "</table>\n",
       "</div>"
      ],
      "text/plain": [
       "        adjust rate  average bid price    impression         click  \\\n",
       "count  70000.000000       70000.000000  70000.000000  70000.000000   \n",
       "mean       2.541400         140.850691     78.069729      8.154286   \n",
       "std        3.378244         187.666651     86.051992      9.349534   \n",
       "min        0.000038           3.732323      0.000000      0.000000   \n",
       "25%        0.464159          21.781683      2.000000      0.000000   \n",
       "50%        0.774264          36.410851     12.000000      1.000000   \n",
       "75%        3.593814         259.207937    168.000000     17.000000   \n",
       "max       10.000000         585.751381    290.000000     41.000000   \n",
       "\n",
       "         conversion  winning rate  click / impression  conversion / click  \n",
       "count  70000.000000  70000.000000        70000.000000        70000.000000  \n",
       "mean       2.038986      0.432751            0.085266            0.136984  \n",
       "std        2.968712      0.420002            0.126698            0.196387  \n",
       "min        0.000000      0.000000            0.000000            0.000000  \n",
       "25%        0.000000      0.014085            0.000000            0.000000  \n",
       "50%        0.000000      0.299153            0.079678            0.000000  \n",
       "75%        3.000000      0.865532            0.116667            0.238095  \n",
       "max       20.000000      1.000000            0.999997            0.999998  "
      ]
     },
     "execution_count": 33,
     "metadata": {},
     "output_type": "execute_result"
    }
   ],
   "source": [
    "# check statistics of the dataset\n",
    "df = pd.DataFrame()\n",
    "df['adjust rate'] = logged_dataset['state'][:, 6]\n",
    "df['average bid price'] = logged_dataset['info']['average_bid_price']\n",
    "df['impression'] = logged_dataset['info']['impression']\n",
    "df['click'] = logged_dataset['info']['click']\n",
    "df['conversion'] = logged_dataset['info']['conversion']\n",
    "df['winning rate'] = logged_dataset['state'][:, 4]\n",
    "df['click / impression'] = df['click'] / (df['impression'] + 1e-5)\n",
    "df['conversion / click'] = df['conversion'] / (df['click'] + 1e-5)\n",
    "df.describe()"
   ]
  },
  {
   "cell_type": "markdown",
   "metadata": {},
   "source": [
    "## 2. Offline Reinforcement Learning\n",
    "In this section, we learn a new policy in an offline manner, without interacting to the environment.  \n",
    "To achieve this goal, we exploit logged dataset and train the policy on the data.  \n",
    "We use [d3rlpy](https://github.com/takuseno/d3rlpy)'s implementation of algorithms."
   ]
  },
  {
   "cell_type": "code",
   "execution_count": 34,
   "metadata": {},
   "outputs": [],
   "source": [
    "# import modules from d3rlpy\n",
    "from d3rlpy.dataset import MDPDataset\n",
    "from d3rlpy.algos import DiscreteCQL\n",
    "from d3rlpy.ope import DiscreteFQE\n",
    "from d3rlpy.metrics.scorer import evaluate_on_environment"
   ]
  },
  {
   "cell_type": "code",
   "execution_count": 35,
   "metadata": {},
   "outputs": [],
   "source": [
    "offlinerl_dataset = MDPDataset(\n",
    "    observations=logged_dataset[\"state\"],\n",
    "    actions=logged_dataset[\"action\"],\n",
    "    rewards=logged_dataset[\"reward\"],\n",
    "    terminals=logged_dataset[\"done\"],\n",
    "    episode_terminals=logged_dataset[\"done\"],\n",
    "    discrete_action=True,\n",
    ")\n",
    "train_episodes, test_episodes = train_test_split(offlinerl_dataset, test_size=0.2, random_state=random_state)"
   ]
  },
  {
   "cell_type": "code",
   "execution_count": 36,
   "metadata": {},
   "outputs": [],
   "source": [
    "# Use Conservetive Q-Learning policy\n",
    "cql = DiscreteCQL(\n",
    "    encoder_factory=VectorEncoderFactory(hidden_units=[30, 30]),\n",
    "    q_func_factory=MeanQFunctionFactory(),\n",
    "    use_gpu=torch.cuda.is_available(),\n",
    ")"
   ]
  },
  {
   "cell_type": "code",
   "execution_count": 37,
   "metadata": {},
   "outputs": [
    {
     "name": "stdout",
     "output_type": "stream",
     "text": [
      "2021-12-10 19:12.32 [debug    ] RandomIterator is selected.\n",
      "2021-12-10 19:12.32 [info     ] Directory is created at d3rlpy_logs/DiscreteCQL_20211210191232\n",
      "2021-12-10 19:12.32 [debug    ] Building models...\n",
      "2021-12-10 19:12.32 [debug    ] Models have been built.\n",
      "2021-12-10 19:12.32 [info     ] Parameters are saved to d3rlpy_logs/DiscreteCQL_20211210191232/params.json params={'action_scaler': None, 'alpha': 1.0, 'batch_size': 32, 'encoder_factory': {'type': 'vector', 'params': {'hidden_units': [30, 30], 'activation': 'relu', 'use_batch_norm': False, 'dropout_rate': None, 'use_dense': False}}, 'gamma': 0.99, 'generated_maxlen': 100000, 'learning_rate': 6.25e-05, 'n_critics': 1, 'n_frames': 1, 'n_steps': 1, 'optim_factory': {'optim_cls': 'Adam', 'betas': (0.9, 0.999), 'eps': 1e-08, 'weight_decay': 0, 'amsgrad': False}, 'q_func_factory': {'type': 'mean', 'params': {'bootstrap': False, 'share_encoder': False}}, 'real_ratio': 1.0, 'reward_scaler': None, 'scaler': None, 'target_reduction_type': 'min', 'target_update_interval': 8000, 'use_gpu': None, 'algorithm': 'DiscreteCQL', 'observation_shape': (7,), 'action_size': 10}\n"
     ]
    },
    {
     "data": {
      "application/vnd.jupyter.widget-view+json": {
       "model_id": "70b9cef9f66543249757555777edc0d6",
       "version_major": 2,
       "version_minor": 0
      },
      "text/plain": [
       "Epoch 1/1:   0%|          | 0/10000 [00:00<?, ?it/s]"
      ]
     },
     "metadata": {},
     "output_type": "display_data"
    },
    {
     "name": "stdout",
     "output_type": "stream",
     "text": [
      "2021-12-10 19:12.53 [info     ] DiscreteCQL_20211210191232: epoch=1 step=10000 epoch=1 metrics={'time_sample_batch': 0.00012734112739562988, 'time_algorithm_update': 0.001853354525566101, 'loss': 228.6702939693451, 'time_step': 0.0021159080505371093, 'environment': 15.7} step=10000\n",
      "2021-12-10 19:12.53 [info     ] Model parameters are saved to d3rlpy_logs/DiscreteCQL_20211210191232/model_10000.pt\n"
     ]
    },
    {
     "data": {
      "text/plain": [
       "[(1,\n",
       "  {'time_sample_batch': 0.00012734112739562988,\n",
       "   'time_algorithm_update': 0.001853354525566101,\n",
       "   'loss': 228.6702939693451,\n",
       "   'time_step': 0.0021159080505371093,\n",
       "   'environment': 15.7})]"
      ]
     },
     "execution_count": 37,
     "metadata": {},
     "output_type": "execute_result"
    }
   ],
   "source": [
    "cql.fit(\n",
    "    train_episodes,\n",
    "    eval_episodes=test_episodes,\n",
    "    n_steps=10000,\n",
    "    scorers={\n",
    "        'environment': evaluate_on_environment(env),\n",
    "        # to record training process w/ ground truth policy value, which is unseen to the agent\n",
    "    },\n",
    ")"
   ]
  },
  {
   "cell_type": "code",
   "execution_count": 38,
   "metadata": {},
   "outputs": [],
   "source": [
    "# save model\n",
    "cql.save_model(\"d3rlpy_logs/cql_discrete.pt\")"
   ]
  },
  {
   "cell_type": "code",
   "execution_count": 39,
   "metadata": {},
   "outputs": [
    {
     "name": "stdout",
     "output_type": "stream",
     "text": [
      "2021-12-10 19:12.57 [warning  ] Parameters will be reinitialized.\n"
     ]
    }
   ],
   "source": [
    "# reload model\n",
    "cql.build_with_env(env)\n",
    "cql.load_model(\"d3rlpy_logs/cql_discrete.pt\")"
   ]
  },
  {
   "cell_type": "code",
   "execution_count": 40,
   "metadata": {},
   "outputs": [
    {
     "data": {
      "application/vnd.jupyter.widget-view+json": {
       "model_id": "4240fe136ffb48c0b9e93ab0fc89fe07",
       "version_major": 2,
       "version_minor": 0
      },
      "text/plain": [
       "[calculate on-policy policy value]:   0%|          | 0/100 [00:00<?, ?it/s]"
      ]
     },
     "metadata": {},
     "output_type": "display_data"
    },
    {
     "data": {
      "application/vnd.jupyter.widget-view+json": {
       "model_id": "93fcbb24209146419b11cc7765fa8d06",
       "version_major": 2,
       "version_minor": 0
      },
      "text/plain": [
       "[calculate on-policy policy value]:   0%|          | 0/100 [00:00<?, ?it/s]"
      ]
     },
     "metadata": {},
     "output_type": "display_data"
    },
    {
     "data": {
      "application/vnd.jupyter.widget-view+json": {
       "model_id": "8a320c9285754c5c908bbf2c6e4f4e54",
       "version_major": 2,
       "version_minor": 0
      },
      "text/plain": [
       "[calculate on-policy policy value]:   0%|          | 0/100 [00:00<?, ?it/s]"
      ]
     },
     "metadata": {},
     "output_type": "display_data"
    },
    {
     "data": {
      "application/vnd.jupyter.widget-view+json": {
       "model_id": "53f115b6dee144ab875fec45e660bc5c",
       "version_major": 2,
       "version_minor": 0
      },
      "text/plain": [
       "[calculate on-policy policy value]:   0%|          | 0/100 [00:00<?, ?it/s]"
      ]
     },
     "metadata": {},
     "output_type": "display_data"
    },
    {
     "data": {
      "image/png": "[encoded data removed]",
      "text/plain": [
       "<Figure size 576x288 with 1 Axes>"
      ]
     },
     "metadata": {},
     "output_type": "display_data"
    }
   ],
   "source": [
    "# compare performance online\n",
    "# not better than online policy, but achieves almost the same performance\n",
    "# meaning that we can learn a reasonable policy without interacting with the environment!\n",
    "visualize_on_policy_policy_value(\n",
    "    env=env,\n",
    "    policies=[ddqn, behavior_policy, cql, random],\n",
    "    policy_names=[\"ddqn\", \"ddqn (e=0.3)\", \"cql (offline)\", \"random\"],\n",
    "    n_episodes=100,\n",
    "    random_state=random_state,\n",
    ")"
   ]
  },
  {
   "cell_type": "markdown",
   "metadata": {},
   "source": [
    "## 3. Off-Policy Evaluation and Evaluation of Offline RL methods\n",
    "In the previous section, we verified the performance of learned policy via online interaction (aka A/B tests).  \n",
    "However, it could be risky because the policy may perform poorly in an online environment.  \n",
    "To tackle this issue, we aim to evaluate the performance of policies in an offline manner, to gain prior knowledge on how agent works in the environment."
   ]
  },
  {
   "cell_type": "code",
   "execution_count": 41,
   "metadata": {},
   "outputs": [],
   "source": [
    "# import ope modules from _gym\n",
    "from _gym.ope import CreateOPEInput\n",
    "from _gym.ope import OffPolicyEvaluation as OPE\n",
    "from _gym.ope import DiscreteDirectMethod as DM\n",
    "from _gym.ope import DiscreteTrajectoryWiseImportanceSampling as TIS\n",
    "from _gym.ope import DiscreteStepWiseImportanceSampling as SIS\n",
    "from _gym.ope import DiscreteDoublyRobust as DR\n",
    "from _gym.ope import DiscreteSelfNormalizedTrajectoryWiseImportanceSampling as SNTIS\n",
    "from _gym.ope import DiscreteSelfNormalizedStepWiseImportanceSampling as SNSIS\n",
    "from _gym.ope import DiscreteSelfNormalizedDoublyRobust as SNDR"
   ]
  },
  {
   "cell_type": "code",
   "execution_count": 42,
   "metadata": {},
   "outputs": [],
   "source": [
    "# define evaluation policies\n",
    "cql_ = DiscreteEpsilonGreedyHead(base_policy=cql, n_actions=env.action_space.n, name=\"cql\", epsilon=0.0, random_state=random_state)\n",
    "ddqn_ = DiscreteEpsilonGreedyHead(base_policy=ddqn, n_actions=env.action_space.n, name=\"ddqn\", epsilon=0.0, random_state=random_state)\n",
    "random_ = DiscreteEpsilonGreedyHead(base_policy=random, n_actions=env.action_space.n, name=\"random\", epsilon=1.0, random_state=random_state)\n",
    "evaluation_policies = [cql_, ddqn_, random_]"
   ]
  },
  {
   "cell_type": "code",
   "execution_count": 43,
   "metadata": {},
   "outputs": [],
   "source": [
    "# first, prepare OPE inputs\n",
    "prep = CreateOPEInput(\n",
    "    logged_dataset=logged_dataset,\n",
    "    use_base_model=True,  # use model-based prediction\n",
    ")"
   ]
  },
  {
   "cell_type": "code",
   "execution_count": 44,
   "metadata": {},
   "outputs": [
    {
     "data": {
      "application/vnd.jupyter.widget-view+json": {
       "model_id": "fd949a10af6945098986f2a06a4c852c",
       "version_major": 2,
       "version_minor": 0
      },
      "text/plain": [
       "[fit FQE model]:   0%|          | 0/3 [00:00<?, ?it/s]"
      ]
     },
     "metadata": {},
     "output_type": "display_data"
    },
    {
     "name": "stdout",
     "output_type": "stream",
     "text": [
      "2021-12-10 19:13.05 [debug    ] RandomIterator is selected.\n",
      "2021-12-10 19:13.05 [info     ] Directory is created at d3rlpy_logs/DiscreteFQE_20211210191305\n",
      "2021-12-10 19:13.05 [debug    ] Building models...\n",
      "2021-12-10 19:13.05 [debug    ] Models have been built.\n",
      "2021-12-10 19:13.05 [info     ] Parameters are saved to d3rlpy_logs/DiscreteFQE_20211210191305/params.json params={'action_scaler': None, 'batch_size': 100, 'encoder_factory': {'type': 'vector', 'params': {'hidden_units': [30, 30], 'activation': 'relu', 'use_batch_norm': False, 'dropout_rate': None, 'use_dense': False}}, 'gamma': 0.99, 'generated_maxlen': 100000, 'learning_rate': 0.0001, 'n_critics': 1, 'n_frames': 1, 'n_steps': 1, 'optim_factory': {'optim_cls': 'Adam', 'betas': (0.9, 0.999), 'eps': 1e-08, 'weight_decay': 0, 'amsgrad': False}, 'q_func_factory': {'type': 'mean', 'params': {'bootstrap': False, 'share_encoder': False}}, 'real_ratio': 1.0, 'reward_scaler': None, 'scaler': None, 'target_update_interval': 100, 'use_gpu': None, 'algorithm': 'DiscreteFQE', 'observation_shape': (7,), 'action_size': 10}\n"
     ]
    },
    {
     "data": {
      "application/vnd.jupyter.widget-view+json": {
       "model_id": "eaa6903fc1df4c62aafc3431393b3a02",
       "version_major": 2,
       "version_minor": 0
      },
      "text/plain": [
       "Epoch 1/1:   0%|          | 0/10000 [00:00<?, ?it/s]"
      ]
     },
     "metadata": {},
     "output_type": "display_data"
    },
    {
     "name": "stdout",
     "output_type": "stream",
     "text": [
      "2021-12-10 19:13.26 [info     ] DiscreteFQE_20211210191305: epoch=1 step=10000 epoch=1 metrics={'time_sample_batch': 0.00033852779865264893, 'time_algorithm_update': 0.0015603245973587036, 'loss': 7.8738768751561645, 'time_step': 0.0020647708415985106} step=10000\n",
      "2021-12-10 19:13.26 [info     ] Model parameters are saved to d3rlpy_logs/DiscreteFQE_20211210191305/model_10000.pt\n",
      "2021-12-10 19:13.26 [debug    ] RandomIterator is selected.\n",
      "2021-12-10 19:13.26 [info     ] Directory is created at d3rlpy_logs/DiscreteFQE_20211210191326\n",
      "2021-12-10 19:13.26 [debug    ] Building models...\n",
      "2021-12-10 19:13.26 [debug    ] Models have been built.\n",
      "2021-12-10 19:13.26 [info     ] Parameters are saved to d3rlpy_logs/DiscreteFQE_20211210191326/params.json params={'action_scaler': None, 'batch_size': 100, 'encoder_factory': {'type': 'vector', 'params': {'hidden_units': [30, 30], 'activation': 'relu', 'use_batch_norm': False, 'dropout_rate': None, 'use_dense': False}}, 'gamma': 0.99, 'generated_maxlen': 100000, 'learning_rate': 0.0001, 'n_critics': 1, 'n_frames': 1, 'n_steps': 1, 'optim_factory': {'optim_cls': 'Adam', 'betas': (0.9, 0.999), 'eps': 1e-08, 'weight_decay': 0, 'amsgrad': False}, 'q_func_factory': {'type': 'mean', 'params': {'bootstrap': False, 'share_encoder': False}}, 'real_ratio': 1.0, 'reward_scaler': None, 'scaler': None, 'target_update_interval': 100, 'use_gpu': None, 'algorithm': 'DiscreteFQE', 'observation_shape': (7,), 'action_size': 10}\n"
     ]
    },
    {
     "data": {
      "application/vnd.jupyter.widget-view+json": {
       "model_id": "55bf2cd480f54ffb891b55a6c2f8a663",
       "version_major": 2,
       "version_minor": 0
      },
      "text/plain": [
       "Epoch 1/1:   0%|          | 0/10000 [00:00<?, ?it/s]"
      ]
     },
     "metadata": {},
     "output_type": "display_data"
    },
    {
     "name": "stdout",
     "output_type": "stream",
     "text": [
      "2021-12-10 19:13.47 [info     ] DiscreteFQE_20211210191326: epoch=1 step=10000 epoch=1 metrics={'time_sample_batch': 0.00033653056621551515, 'time_algorithm_update': 0.0015749855756759645, 'loss': 4.012383095604181, 'time_step': 0.002076722812652588} step=10000\n",
      "2021-12-10 19:13.47 [info     ] Model parameters are saved to d3rlpy_logs/DiscreteFQE_20211210191326/model_10000.pt\n",
      "2021-12-10 19:13.47 [debug    ] RandomIterator is selected.\n",
      "2021-12-10 19:13.47 [info     ] Directory is created at d3rlpy_logs/DiscreteFQE_20211210191347\n",
      "2021-12-10 19:13.47 [debug    ] Building models...\n",
      "2021-12-10 19:13.47 [debug    ] Models have been built.\n",
      "2021-12-10 19:13.47 [info     ] Parameters are saved to d3rlpy_logs/DiscreteFQE_20211210191347/params.json params={'action_scaler': None, 'batch_size': 100, 'encoder_factory': {'type': 'vector', 'params': {'hidden_units': [30, 30], 'activation': 'relu', 'use_batch_norm': False, 'dropout_rate': None, 'use_dense': False}}, 'gamma': 0.99, 'generated_maxlen': 100000, 'learning_rate': 0.0001, 'n_critics': 1, 'n_frames': 1, 'n_steps': 1, 'optim_factory': {'optim_cls': 'Adam', 'betas': (0.9, 0.999), 'eps': 1e-08, 'weight_decay': 0, 'amsgrad': False}, 'q_func_factory': {'type': 'mean', 'params': {'bootstrap': False, 'share_encoder': False}}, 'real_ratio': 1.0, 'reward_scaler': None, 'scaler': None, 'target_update_interval': 100, 'use_gpu': None, 'algorithm': 'DiscreteFQE', 'observation_shape': (7,), 'action_size': 10}\n"
     ]
    },
    {
     "data": {
      "application/vnd.jupyter.widget-view+json": {
       "model_id": "f9b6a4034bf443429556b046a799de00",
       "version_major": 2,
       "version_minor": 0
      },
      "text/plain": [
       "Epoch 1/1:   0%|          | 0/10000 [00:00<?, ?it/s]"
      ]
     },
     "metadata": {},
     "output_type": "display_data"
    },
    {
     "name": "stdout",
     "output_type": "stream",
     "text": [
      "2021-12-10 19:14.05 [info     ] DiscreteFQE_20211210191347: epoch=1 step=10000 epoch=1 metrics={'time_sample_batch': 0.00032548117637634275, 'time_algorithm_update': 0.0012731675863265992, 'loss': 3.6792341850936414, 'time_step': 0.0017439369440078736} step=10000\n",
      "2021-12-10 19:14.05 [info     ] Model parameters are saved to d3rlpy_logs/DiscreteFQE_20211210191347/model_10000.pt\n"
     ]
    },
    {
     "data": {
      "application/vnd.jupyter.widget-view+json": {
       "model_id": "cf7bc1bca6644819ad922e31b0494ff0",
       "version_major": 2,
       "version_minor": 0
      },
      "text/plain": [
       "[collect input data]:   0%|          | 0/3 [00:00<?, ?it/s]"
      ]
     },
     "metadata": {},
     "output_type": "display_data"
    },
    {
     "data": {
      "application/vnd.jupyter.widget-view+json": {
       "model_id": "af98080b538f44318f3c728b99cd286e",
       "version_major": 2,
       "version_minor": 0
      },
      "text/plain": [
       "[calculate on-policy policy value]:   0%|          | 0/100 [00:00<?, ?it/s]"
      ]
     },
     "metadata": {},
     "output_type": "display_data"
    },
    {
     "data": {
      "application/vnd.jupyter.widget-view+json": {
       "model_id": "d0568a32d77042fbb9dd74dbe617c728",
       "version_major": 2,
       "version_minor": 0
      },
      "text/plain": [
       "[calculate on-policy policy value]:   0%|          | 0/100 [00:00<?, ?it/s]"
      ]
     },
     "metadata": {},
     "output_type": "display_data"
    },
    {
     "data": {
      "application/vnd.jupyter.widget-view+json": {
       "model_id": "8bed2cfaf8c44e1aaa9dbf7411a3716b",
       "version_major": 2,
       "version_minor": 0
      },
      "text/plain": [
       "[calculate on-policy policy value]:   0%|          | 0/100 [00:00<?, ?it/s]"
      ]
     },
     "metadata": {},
     "output_type": "display_data"
    }
   ],
   "source": [
    "# takes time\n",
    "input_dict = prep.obtain_whole_inputs(\n",
    "    evaluation_policies=evaluation_policies,\n",
    "    env=env,\n",
    "    n_episodes_on_policy_evaluation=100,\n",
    "    random_state=random_state,\n",
    ")"
   ]
  },
  {
   "cell_type": "code",
   "execution_count": 45,
   "metadata": {},
   "outputs": [],
   "source": [
    "with open(\"logs/ope_input_dict_discrete.pkl\", \"wb\") as f:\n",
    "    pickle.dump(input_dict, f)"
   ]
  },
  {
   "cell_type": "code",
   "execution_count": 46,
   "metadata": {},
   "outputs": [],
   "source": [
    "with open(\"logs/ope_input_dict_discrete.pkl\", \"rb\") as f:\n",
    "    input_dict = pickle.load(f)"
   ]
  },
  {
   "cell_type": "code",
   "execution_count": 54,
   "metadata": {},
   "outputs": [],
   "source": [
    "ope = OPE(\n",
    "    logged_dataset=logged_dataset,\n",
    "    ope_estimators=[DM(), TIS(), SIS(), DR(), SNTIS(), SNSIS(), SNDR()],\n",
    ")"
   ]
  },
  {
   "cell_type": "code",
   "execution_count": 55,
   "metadata": {},
   "outputs": [],
   "source": [
    "# performance estimation by ope\n",
    "policy_value_df_dict, policy_value_interval_df_dict = ope.summarize_off_policy_estimates(input_dict, random_state=random_state)"
   ]
  },
  {
   "cell_type": "code",
   "execution_count": 56,
   "metadata": {},
   "outputs": [
    {
     "data": {
      "text/plain": [
       "{'cql':            policy_value  relative_policy_value\n",
       " on_policy     15.840000               1.000000\n",
       " dm             5.698951               0.359782\n",
       " tis            3.505803               0.221326\n",
       " sis           12.814007               0.808965\n",
       " dr            12.856086               0.811622\n",
       " sntis         15.680162               0.989909\n",
       " snsis         14.050374               0.887019\n",
       " sndr          13.075871               0.825497,\n",
       " 'ddqn':            policy_value  relative_policy_value\n",
       " on_policy     15.330000               1.000000\n",
       " dm             5.831293               0.380384\n",
       " tis           15.049697               0.981715\n",
       " sis           15.028598               0.980339\n",
       " dr            14.981551               0.977270\n",
       " sntis         15.087114               0.984156\n",
       " snsis         15.039501               0.981050\n",
       " sndr          15.008732               0.979043,\n",
       " 'random':            policy_value  relative_policy_value\n",
       " on_policy     12.670000               1.000000\n",
       " dm             5.997542               0.473366\n",
       " tis            6.630911               0.523355\n",
       " sis           11.690351               0.922680\n",
       " dr            12.900679               1.018207\n",
       " sntis         13.455279               1.061979\n",
       " snsis         13.816701               1.090505\n",
       " sndr          14.250779               1.124766}"
      ]
     },
     "execution_count": 56,
     "metadata": {},
     "output_type": "execute_result"
    }
   ],
   "source": [
    "# estimated policy performance\n",
    "policy_value_df_dict"
   ]
  },
  {
   "cell_type": "code",
   "execution_count": 57,
   "metadata": {},
   "outputs": [
    {
     "data": {
      "text/plain": [
       "{'cql':             mean  95.0% CI (lower)  95.0% CI (upper)\n",
       " dm      5.698927          5.698425          5.699357\n",
       " tis     3.659688          1.539103          6.118371\n",
       " sis    12.866708         11.432369         14.591391\n",
       " dr     12.929428         11.807746         13.769608\n",
       " sntis  16.368435          6.883839         27.365216\n",
       " snsis  14.113893         12.434771         16.177238\n",
       " sndr   13.120482         11.549151         14.280387,\n",
       " 'ddqn':             mean  95.0% CI (lower)  95.0% CI (upper)\n",
       " dm      5.831339          5.830765          5.831875\n",
       " tis    15.093671         14.177455         15.985211\n",
       " sis    15.019641         14.731238         15.268441\n",
       " dr     14.973402         14.760997         15.178726\n",
       " sntis  15.131198         14.212704         16.024955\n",
       " snsis  15.030441         14.742193         15.279918\n",
       " sndr   15.000451         14.787520         15.206899,\n",
       " 'random':             mean  95.0% CI (lower)  95.0% CI (upper)\n",
       " dm      5.997551          5.997403          5.997708\n",
       " tis     6.645328          4.396922          9.491613\n",
       " sis    11.725387         10.168775         13.546919\n",
       " dr     12.939950         11.660061         14.301946\n",
       " sntis  13.484532          8.922124         19.260143\n",
       " snsis  13.851396         11.497983         16.559449\n",
       " sndr   14.289205         12.337284         16.369937}"
      ]
     },
     "execution_count": 57,
     "metadata": {},
     "output_type": "execute_result"
    }
   ],
   "source": [
    "# estimated policy performance confidence intervals\n",
    "policy_value_interval_df_dict"
   ]
  },
  {
   "cell_type": "markdown",
   "metadata": {},
   "source": [
    "## 4. Evaluation of OPE methods\n",
    "Now, we evaluate how well ope estimators estimated the policy value."
   ]
  },
  {
   "cell_type": "code",
   "execution_count": 58,
   "metadata": {},
   "outputs": [
    {
     "data": {
      "image/png": "[encoded data removed]",
      "text/plain": [
       "<Figure size 1008x2592 with 3 Axes>"
      ]
     },
     "metadata": {},
     "output_type": "display_data"
    }
   ],
   "source": [
    "# we can visualize and compare the result\n",
    "# it seems that DM tends to have a bias though the variance is quite small, \n",
    "# while importance sampling estimators have a smaller bias with a larger variance.\n",
    "# self-normalized estimators also works well\n",
    "ope.visualize_off_policy_estimates(input_dict, random_state=random_state, sharey=True)"
   ]
  },
  {
   "cell_type": "code",
   "execution_count": 59,
   "metadata": {},
   "outputs": [
    {
     "data": {
      "text/html": [
       "<div>\n",
       "<style scoped>\n",
       "    .dataframe tbody tr th:only-of-type {\n",
       "        vertical-align: middle;\n",
       "    }\n",
       "\n",
       "    .dataframe tbody tr th {\n",
       "        vertical-align: top;\n",
       "    }\n",
       "\n",
       "    .dataframe thead th {\n",
       "        text-align: right;\n",
       "    }\n",
       "</style>\n",
       "<table border=\"1\" class=\"dataframe\">\n",
       "  <thead>\n",
       "    <tr style=\"text-align: right;\">\n",
       "      <th></th>\n",
       "      <th>cql</th>\n",
       "      <th>ddqn</th>\n",
       "      <th>random</th>\n",
       "    </tr>\n",
       "  </thead>\n",
       "  <tbody>\n",
       "    <tr>\n",
       "      <th>dm</th>\n",
       "      <td>102.840871</td>\n",
       "      <td>90.225430</td>\n",
       "      <td>44.521700</td>\n",
       "    </tr>\n",
       "    <tr>\n",
       "      <th>tis</th>\n",
       "      <td>152.132422</td>\n",
       "      <td>0.078570</td>\n",
       "      <td>36.470592</td>\n",
       "    </tr>\n",
       "    <tr>\n",
       "      <th>sis</th>\n",
       "      <td>9.156636</td>\n",
       "      <td>0.090843</td>\n",
       "      <td>0.959711</td>\n",
       "    </tr>\n",
       "    <tr>\n",
       "      <th>dr</th>\n",
       "      <td>8.903740</td>\n",
       "      <td>0.121417</td>\n",
       "      <td>0.053213</td>\n",
       "    </tr>\n",
       "    <tr>\n",
       "      <th>sntis</th>\n",
       "      <td>0.025548</td>\n",
       "      <td>0.058993</td>\n",
       "      <td>0.616663</td>\n",
       "    </tr>\n",
       "    <tr>\n",
       "      <th>snsis</th>\n",
       "      <td>3.202763</td>\n",
       "      <td>0.084389</td>\n",
       "      <td>1.314922</td>\n",
       "    </tr>\n",
       "    <tr>\n",
       "      <th>sndr</th>\n",
       "      <td>7.640409</td>\n",
       "      <td>0.103213</td>\n",
       "      <td>2.498863</td>\n",
       "    </tr>\n",
       "  </tbody>\n",
       "</table>\n",
       "</div>"
      ],
      "text/plain": [
       "              cql       ddqn     random\n",
       "dm     102.840871  90.225430  44.521700\n",
       "tis    152.132422   0.078570  36.470592\n",
       "sis      9.156636   0.090843   0.959711\n",
       "dr       8.903740   0.121417   0.053213\n",
       "sntis    0.025548   0.058993   0.616663\n",
       "snsis    3.202763   0.084389   1.314922\n",
       "sndr     7.640409   0.103213   2.498863"
      ]
     },
     "execution_count": 59,
     "metadata": {},
     "output_type": "execute_result"
    }
   ],
   "source": [
    "# squared-error (se) measures the estimation accuracy of OPE\n",
    "eval_metric_ope_df = ope.summarize_estimators_comparison(input_dict, metric=\"se\")\n",
    "eval_metric_ope_df"
   ]
  },
  {
   "cell_type": "code",
   "execution_count": null,
   "metadata": {},
   "outputs": [],
   "source": []
  }
 ],
 "metadata": {
  "kernelspec": {
   "display_name": "Python 3",
   "language": "python",
   "name": "python3"
  },
  "language_info": {
   "codemirror_mode": {
    "name": "ipython",
    "version": 3
   },
   "file_extension": ".py",
   "mimetype": "text/x-python",
   "name": "python",
   "nbconvert_exporter": "python",
   "pygments_lexer": "ipython3",
   "version": "3.8.5"
  }
 },
 "nbformat": 4,
 "nbformat_minor": 4
}
