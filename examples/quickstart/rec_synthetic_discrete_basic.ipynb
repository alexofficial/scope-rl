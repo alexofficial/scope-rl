{
 "cells": [
  {
   "attachments": {},
   "cell_type": "markdown",
   "metadata": {},
   "source": [
    "# Quickstart Example with Synthetic Recommender Simulation and Dataset (Discrete)\n",
    "This notebook provides an example of conducting **Off-policy Evaluation (OPE) and Offline Reinforcement Learning (Offline RL) on a synthetic recommender system (REC) dataset**.\n",
    "\n",
    "This example consists of the following 5 steps: \\\n",
    "0. (Setup Synthetic Recommender Simulation Environment and Online RL)\n",
    "1. Synthetic Data Generation\n",
    "2. Offline Reinforcement Learning\n",
    "3. Off-Policy Evaluation and Evaluation of Offline RL methods\n",
    "4. Evaluation of OPE methods\n",
    "\n",
    "\\* This library uses [d3rlpy](https://github.com/takuseno/d3rlpy)'s algorithm implementations of online/offline rl policies and model-based evaluation.  \n",
    "\\* Also, our implementations of OPE are highly inspired by [Open Bandit Pipeline](https://github.com/st-tech/zr-obp)."
   ]
  },
  {
   "cell_type": "code",
   "execution_count": 15,
   "metadata": {},
   "outputs": [
    {
     "name": "stdout",
     "output_type": "stream",
     "text": [
      "The autoreload extension is already loaded. To reload it, use:\n",
      "  %reload_ext autoreload\n"
     ]
    }
   ],
   "source": [
    "# delete later\n",
    "%load_ext autoreload\n",
    "%autoreload 2"
   ]
  },
  {
   "cell_type": "code",
   "execution_count": 16,
   "metadata": {},
   "outputs": [],
   "source": [
    "# delete later\n",
    "import warnings\n",
    "warnings.simplefilter('ignore')"
   ]
  },
  {
   "cell_type": "code",
   "execution_count": 17,
   "metadata": {},
   "outputs": [],
   "source": [
    "# delete later\n",
    "import sys\n",
    "sys.path.append('../')\n",
    "sys.path.append('../../')"
   ]
  },
  {
   "cell_type": "code",
   "execution_count": 18,
   "metadata": {},
   "outputs": [],
   "source": [
    "# import OFRL modules\n",
    "import ofrl\n",
    "from recgym import RECEnv\n",
    "from ofrl.dataset import SyntheticDataset\n",
    "from ofrl.policy import OnlineHead\n",
    "from ofrl.policy import DiscreteEpsilonGreedyHead\n",
    "from ofrl.ope.online import (\n",
    "    calc_on_policy_policy_value,\n",
    "    visualize_on_policy_policy_value,\n",
    ")\n",
    "\n",
    "# import d3rlpy algorithms\n",
    "from d3rlpy.algos import DiscreteRandomPolicy\n",
    "from d3rlpy.algos import RandomPolicy as ContinuousRandomPolicy\n",
    "# from d3rlpy.preprocessing import MinMaxScaler, MinMaxActionScaler\n",
    "from ofrl.utils import MinMaxScaler, MinMaxActionScaler\n",
    "\n",
    "# import from other libraries\n",
    "import gym\n",
    "import torch\n",
    "from sklearn.model_selection import train_test_split"
   ]
  },
  {
   "cell_type": "code",
   "execution_count": 19,
   "metadata": {},
   "outputs": [],
   "source": [
    "import pickle\n",
    "from glob import glob\n",
    "from tqdm import tqdm\n",
    "\n",
    "import numpy as np\n",
    "import pandas as pd\n",
    "\n",
    "import matplotlib.pyplot as plt\n",
    "import seaborn as sns\n",
    "\n",
    "%matplotlib inline"
   ]
  },
  {
   "cell_type": "code",
   "execution_count": 20,
   "metadata": {},
   "outputs": [
    {
     "name": "stdout",
     "output_type": "stream",
     "text": [
      "0.0.0\n"
     ]
    }
   ],
   "source": [
    "# version\n",
    "print(ofrl.__version__)"
   ]
  },
  {
   "cell_type": "code",
   "execution_count": 21,
   "metadata": {},
   "outputs": [],
   "source": [
    "# set random state\n",
    "random_state = 12345"
   ]
  },
  {
   "cell_type": "code",
   "execution_count": 22,
   "metadata": {},
   "outputs": [],
   "source": [
    "# log directory\n",
    "from pathlib import Path\n",
    "Path(\"logs/\").mkdir(exist_ok=True)"
   ]
  },
  {
   "attachments": {},
   "cell_type": "markdown",
   "metadata": {},
   "source": [
    "## 0. (Setup Synthetic REC Simulation Environment and Online RL)\n",
    "To begin with, we briefly describe how the Recommender environment works for the preparation.\n",
    "\n",
    "#### RL setup for Recommendation\n",
    "In recommendation, the objective of the RL agent is to maximize reward\n",
    "\n",
    "We often formulate this recommendation problem as the following (Partially Observable) Markov Decision Process ((PO)MDP):\n",
    "- `state`: \n",
    "   - A vector representing user preference.  The preference changes over time in an episode by the actions presented by the RL agent.\n",
    "   - When the true state is unobservable, you can gain observation instead of state.\n",
    "- `action`:  Index of an item to present to the user.\n",
    "- `reward`: User engagement signal. Either binary or continuous.\n",
    "\n",
    "\n",
    "For more about the environmental configuration , please refer to [examples/quickstart/rec_synthetic_customize_env.ipynb](https://github.com/negocia-inc/rec_reinforcement_learing/blob/ope/examples/quickstart/rec_synthetic_customize_env.ipynb).\n",
    "\n",
    "Let's see how it works!"
   ]
  },
  {
   "cell_type": "code",
   "execution_count": 23,
   "metadata": {},
   "outputs": [],
   "source": [
    "# setup environment\n",
    "env = RECEnv(random_state=random_state)"
   ]
  },
  {
   "cell_type": "code",
   "execution_count": 24,
   "metadata": {},
   "outputs": [],
   "source": [
    "# define a random agent\n",
    "agent = DiscreteEpsilonGreedyHead(\n",
    "      base_policy = DiscreteRandomPolicy(),\n",
    "      name = 'random',\n",
    "      n_actions = env.n_items,\n",
    "      epsilon = 1. ,\n",
    "      random_state = random_state, \n",
    ")"
   ]
  },
  {
   "cell_type": "code",
   "execution_count": 25,
   "metadata": {},
   "outputs": [],
   "source": [
    "# interact agent with the environment\n",
    "# only 6 lines are needed for RL interaction\n",
    "for episode in range(10):\n",
    "    obs, info = env.reset()\n",
    "    done = False\n",
    "\n",
    "    while not done:\n",
    "        action = agent.predict_online(obs)\n",
    "        obs, reward, done, truncated, info = env.step(action)"
   ]
  },
  {
   "cell_type": "code",
   "execution_count": 26,
   "metadata": {},
   "outputs": [
    {
     "name": "stdout",
     "output_type": "stream",
     "text": [
      "(5,)\n",
      "[ 0.1093544  -0.03842231 -0.0212866   0.10483962 -0.04061846]\n"
     ]
    }
   ],
   "source": [
    "# state \n",
    "print(obs.shape)\n",
    "print(obs)"
   ]
  },
  {
   "cell_type": "code",
   "execution_count": 27,
   "metadata": {},
   "outputs": [
    {
     "data": {
      "image/png": "[encoded data removed]",
      "text/plain": [
       "<Figure size 640x480 with 1 Axes>"
      ]
     },
     "metadata": {},
     "output_type": "display_data"
    }
   ],
   "source": [
    "# let's visualize the transition of reward\n",
    "obs, info = env.reset()\n",
    "done = False\n",
    "reward_list = []\n",
    "\n",
    "while not done:\n",
    "    action = agent.sample_action_online(obs)\n",
    "\n",
    "    obs, reward, done, truncated, info = env.step(action)\n",
    "    reward_list.append(reward)\n",
    "\n",
    "# plot\n",
    "fig = plt.figure()\n",
    "ax1 = fig.add_subplot(111)\n",
    "ax1.plot(reward_list[:-1], label='reward', color='tab:orange')\n",
    "ax1.set_xlabel('timestep')\n",
    "ax1.set_ylabel('reward')\n",
    "ax1.legend(loc='upper left')\n",
    "plt.show()"
   ]
  },
  {
   "attachments": {},
   "cell_type": "markdown",
   "metadata": {},
   "source": [
    "For more about the environmental configurations and customization, please refer to [examples/quickstart/rec_synthetic_customize_env.ipynb](https://github.com/negocia-inc/rec_reinforcement_learing/blob/ope/examples/quickstart/rec_synthetic_customize_env.ipynb)."
   ]
  },
  {
   "cell_type": "markdown",
   "metadata": {},
   "source": [
    "#### Online RL and comparison of the policies\n",
    "We now learn an online RL policy and compare it to the random policy, using on-policy policy estimation."
   ]
  },
  {
   "cell_type": "code",
   "execution_count": 28,
   "metadata": {},
   "outputs": [],
   "source": [
    "# standardized environment for discrete action\n",
    "env = RECEnv(random_state=random_state)"
   ]
  },
  {
   "cell_type": "code",
   "execution_count": 29,
   "metadata": {},
   "outputs": [],
   "source": [
    "# for api compatibility to d3rlpy\n",
    "from ofrl.utils import OldGymAPIWrapper\n",
    "env_ = OldGymAPIWrapper(env)"
   ]
  },
  {
   "cell_type": "code",
   "execution_count": 30,
   "metadata": {},
   "outputs": [],
   "source": [
    "from d3rlpy.algos import DoubleDQN\n",
    "from d3rlpy.models.encoders import VectorEncoderFactory\n",
    "from d3rlpy.models.q_functions import MeanQFunctionFactory\n",
    "from d3rlpy.online.buffers import ReplayBuffer\n",
    "from d3rlpy.online.explorers import LinearDecayEpsilonGreedy\n",
    "\n",
    "# model\n",
    "ddqn = DoubleDQN(\n",
    "    encoder_factory=VectorEncoderFactory(hidden_units=[30, 30]),\n",
    "    q_func_factory=MeanQFunctionFactory(),\n",
    "    target_update_interval=100,\n",
    "    use_gpu=torch.cuda.is_available(),\n",
    ")\n",
    "# replay buffer\n",
    "buffer = ReplayBuffer(\n",
    "    maxlen=10000,\n",
    "    env=env_,\n",
    ")\n",
    "# explorers\n",
    "explorer = LinearDecayEpsilonGreedy(\n",
    "    start_epsilon=1.0,\n",
    "    end_epsilon=0.3,\n",
    "    duration=1000,\n",
    ")"
   ]
  },
  {
   "cell_type": "code",
   "execution_count": 31,
   "metadata": {},
   "outputs": [
    {
     "name": "stdout",
     "output_type": "stream",
     "text": [
      "2023-01-29 19:14.30 [info     ] Directory is created at d3rlpy_logs/DoubleDQN_online_20230129191430\n",
      "2023-01-29 19:14.30 [debug    ] Building model...\n",
      "2023-01-29 19:14.30 [debug    ] Model has been built.\n",
      "2023-01-29 19:14.30 [info     ] Parameters are saved to d3rlpy_logs/DoubleDQN_online_20230129191430/params.json params={'action_scaler': None, 'batch_size': 32, 'encoder_factory': {'type': 'vector', 'params': {'hidden_units': [30, 30], 'activation': 'relu', 'use_batch_norm': False, 'dropout_rate': None, 'use_dense': False}}, 'gamma': 0.99, 'generated_maxlen': 100000, 'learning_rate': 6.25e-05, 'n_critics': 1, 'n_frames': 1, 'n_steps': 1, 'optim_factory': {'optim_cls': 'Adam', 'betas': (0.9, 0.999), 'eps': 1e-08, 'weight_decay': 0, 'amsgrad': False}, 'q_func_factory': {'type': 'mean', 'params': {'share_encoder': False}}, 'real_ratio': 1.0, 'reward_scaler': None, 'scaler': None, 'target_update_interval': 100, 'use_gpu': None, 'algorithm': 'DoubleDQN', 'observation_shape': (5,), 'action_size': 100}\n"
     ]
    },
    {
     "data": {
      "application/vnd.jupyter.widget-view+json": {
       "model_id": "3684f2b28178482d8bbb01cf0a33963a",
       "version_major": 2,
       "version_minor": 0
      },
      "text/plain": [
       "  0%|          | 0/100000 [00:00<?, ?it/s]"
      ]
     },
     "metadata": {},
     "output_type": "display_data"
    },
    {
     "name": "stdout",
     "output_type": "stream",
     "text": [
      "2023-01-29 19:14.30 [info     ] Model parameters are saved to d3rlpy_logs/DoubleDQN_online_20230129191430/model_1000.pt\n",
      "2023-01-29 19:14.30 [info     ] DoubleDQN_online_20230129191430: epoch=1 step=1000 epoch=1 metrics={'time_inference': 0.00011654138565063477, 'time_environment_step': 1.729440689086914e-05, 'time_step': 0.00014197015762329102, 'rollout_return': -0.07971559414835931, 'evaluation': -0.2807491973693349} step=1000\n",
      "2023-01-29 19:14.31 [info     ] Model parameters are saved to d3rlpy_logs/DoubleDQN_online_20230129191430/model_2000.pt\n",
      "2023-01-29 19:14.31 [info     ] DoubleDQN_online_20230129191430: epoch=2 step=2000 epoch=2 metrics={'time_inference': 0.00013454675674438478, 'time_environment_step': 2.411508560180664e-05, 'time_sample_batch': 2.9363632202148437e-05, 'time_algorithm_update': 0.0006591975688934326, 'loss': 0.020137067385017873, 'time_step': 0.0008635752201080323, 'rollout_return': 0.2927390342033196, 'evaluation': 0.8514279006636831} step=2000\n",
      "2023-01-29 19:14.32 [info     ] Model parameters are saved to d3rlpy_logs/DoubleDQN_online_20230129191430/model_3000.pt\n",
      "2023-01-29 19:14.32 [info     ] DoubleDQN_online_20230129191430: epoch=3 step=3000 epoch=3 metrics={'time_inference': 0.00013358831405639647, 'time_environment_step': 2.4284839630126954e-05, 'time_sample_batch': 2.907085418701172e-05, 'time_algorithm_update': 0.0006360824108123779, 'loss': 0.016582755505107342, 'time_step': 0.0008391904830932618, 'rollout_return': 0.41874042054910043, 'evaluation': 0.9310308134182568} step=3000\n",
      "2023-01-29 19:14.33 [info     ] Model parameters are saved to d3rlpy_logs/DoubleDQN_online_20230129191430/model_4000.pt\n",
      "2023-01-29 19:14.33 [info     ] DoubleDQN_online_20230129191430: epoch=4 step=4000 epoch=4 metrics={'time_inference': 0.0001287367343902588, 'time_environment_step': 2.2982120513916017e-05, 'time_sample_batch': 2.871084213256836e-05, 'time_algorithm_update': 0.0006092584133148193, 'loss': 0.024851339685730636, 'time_step': 0.0008050782680511474, 'rollout_return': 0.5823608083364775, 'evaluation': 1.1420248317505568} step=4000\n",
      "2023-01-29 19:14.34 [info     ] Model parameters are saved to d3rlpy_logs/DoubleDQN_online_20230129191430/model_5000.pt\n",
      "2023-01-29 19:14.34 [info     ] DoubleDQN_online_20230129191430: epoch=5 step=5000 epoch=5 metrics={'time_inference': 0.00012240099906921385, 'time_environment_step': 2.1361589431762694e-05, 'time_sample_batch': 2.550220489501953e-05, 'time_algorithm_update': 0.0005899229049682617, 'loss': 0.031154956911690533, 'time_step': 0.000773526668548584, 'rollout_return': 0.6708034164396879, 'evaluation': 0.49587882634379576} step=5000\n",
      "2023-01-29 19:14.34 [info     ] Model parameters are saved to d3rlpy_logs/DoubleDQN_online_20230129191430/model_6000.pt\n",
      "2023-01-29 19:14.34 [info     ] DoubleDQN_online_20230129191430: epoch=6 step=6000 epoch=6 metrics={'time_inference': 0.00012235569953918457, 'time_environment_step': 2.1378040313720702e-05, 'time_sample_batch': 2.5693893432617188e-05, 'time_algorithm_update': 0.0005940382480621338, 'loss': 0.03638402667175979, 'time_step': 0.0007776753902435302, 'rollout_return': 0.7912936768362744, 'evaluation': 1.488786133588957} step=6000\n",
      "2023-01-29 19:14.35 [info     ] Model parameters are saved to d3rlpy_logs/DoubleDQN_online_20230129191430/model_7000.pt\n",
      "2023-01-29 19:14.35 [info     ] DoubleDQN_online_20230129191430: epoch=7 step=7000 epoch=7 metrics={'time_inference': 0.00012058281898498536, 'time_environment_step': 2.0988941192626955e-05, 'time_sample_batch': 2.5557994842529295e-05, 'time_algorithm_update': 0.0005826983451843262, 'loss': 0.03845338053256273, 'time_step': 0.000763796329498291, 'rollout_return': 0.7346590900577747, 'evaluation': 0.9522620866741465} step=7000\n",
      "2023-01-29 19:14.36 [info     ] Model parameters are saved to d3rlpy_logs/DoubleDQN_online_20230129191430/model_8000.pt\n",
      "2023-01-29 19:14.36 [info     ] DoubleDQN_online_20230129191430: epoch=8 step=8000 epoch=8 metrics={'time_inference': 0.00012450146675109863, 'time_environment_step': 2.215719223022461e-05, 'time_sample_batch': 2.8298139572143555e-05, 'time_algorithm_update': 0.0005987393856048584, 'loss': 0.03781085574813187, 'time_step': 0.0007883760929107666, 'rollout_return': 0.76784114809976, 'evaluation': 1.4709797332827634} step=8000\n",
      "2023-01-29 19:14.37 [info     ] Model parameters are saved to d3rlpy_logs/DoubleDQN_online_20230129191430/model_9000.pt\n",
      "2023-01-29 19:14.37 [info     ] DoubleDQN_online_20230129191430: epoch=9 step=9000 epoch=9 metrics={'time_inference': 0.00012562966346740722, 'time_environment_step': 2.2485971450805665e-05, 'time_sample_batch': 2.8840541839599608e-05, 'time_algorithm_update': 0.0006123640537261962, 'loss': 0.03673326728399843, 'time_step': 0.0008042945861816407, 'rollout_return': 0.8823647446705454, 'evaluation': 1.26639588057714} step=9000\n",
      "2023-01-29 19:14.38 [info     ] Model parameters are saved to d3rlpy_logs/DoubleDQN_online_20230129191430/model_10000.pt\n",
      "2023-01-29 19:14.38 [info     ] DoubleDQN_online_20230129191430: epoch=10 step=10000 epoch=10 metrics={'time_inference': 0.00012691164016723634, 'time_environment_step': 2.2584199905395506e-05, 'time_sample_batch': 2.9900312423706055e-05, 'time_algorithm_update': 0.000608156681060791, 'loss': 0.036517363280057905, 'time_step': 0.0008025267124176026, 'rollout_return': 0.8849202968126688, 'evaluation': 1.43893123728764} step=10000\n",
      "2023-01-29 19:14.39 [info     ] Model parameters are saved to d3rlpy_logs/DoubleDQN_online_20230129191430/model_11000.pt\n",
      "2023-01-29 19:14.39 [info     ] DoubleDQN_online_20230129191430: epoch=11 step=11000 epoch=11 metrics={'time_inference': 0.00013219642639160156, 'time_environment_step': 2.328634262084961e-05, 'time_sample_batch': 3.0710458755493163e-05, 'time_algorithm_update': 0.0006279807090759277, 'loss': 0.03635362916160375, 'time_step': 0.0008303794860839844, 'rollout_return': 0.8694901524752885, 'evaluation': 1.6088126042504771} step=11000\n",
      "2023-01-29 19:14.39 [info     ] Model parameters are saved to d3rlpy_logs/DoubleDQN_online_20230129191430/model_12000.pt\n",
      "2023-01-29 19:14.39 [info     ] DoubleDQN_online_20230129191430: epoch=12 step=12000 epoch=12 metrics={'time_inference': 0.00012602829933166504, 'time_environment_step': 2.2483110427856446e-05, 'time_sample_batch': 2.95407772064209e-05, 'time_algorithm_update': 0.0006045029163360596, 'loss': 0.036870239288546144, 'time_step': 0.0007979865074157715, 'rollout_return': 0.866874316157713, 'evaluation': 1.4374544501949622} step=12000\n",
      "2023-01-29 19:14.40 [info     ] Model parameters are saved to d3rlpy_logs/DoubleDQN_online_20230129191430/model_13000.pt\n",
      "2023-01-29 19:14.40 [info     ] DoubleDQN_online_20230129191430: epoch=13 step=13000 epoch=13 metrics={'time_inference': 0.00012558841705322265, 'time_environment_step': 2.231764793395996e-05, 'time_sample_batch': 2.9584407806396484e-05, 'time_algorithm_update': 0.0006027631759643555, 'loss': 0.03638922487571836, 'time_step': 0.0007956883907318115, 'rollout_return': 0.8032245560510965, 'evaluation': 1.6743745444327494} step=13000\n",
      "2023-01-29 19:14.41 [info     ] Model parameters are saved to d3rlpy_logs/DoubleDQN_online_20230129191430/model_14000.pt\n",
      "2023-01-29 19:14.41 [info     ] DoubleDQN_online_20230129191430: epoch=14 step=14000 epoch=14 metrics={'time_inference': 0.00012662148475646974, 'time_environment_step': 2.231597900390625e-05, 'time_sample_batch': 2.9480934143066406e-05, 'time_algorithm_update': 0.0006063184738159179, 'loss': 0.03681970940716565, 'time_step': 0.0008002333641052246, 'rollout_return': 0.9058954934385416, 'evaluation': 1.292339401165016} step=14000\n",
      "2023-01-29 19:14.42 [info     ] Model parameters are saved to d3rlpy_logs/DoubleDQN_online_20230129191430/model_15000.pt\n",
      "2023-01-29 19:14.42 [info     ] DoubleDQN_online_20230129191430: epoch=15 step=15000 epoch=15 metrics={'time_inference': 0.00012322068214416505, 'time_environment_step': 2.1944284439086913e-05, 'time_sample_batch': 2.8873920440673827e-05, 'time_algorithm_update': 0.0005919106006622314, 'loss': 0.039001518263481555, 'time_step': 0.0007811810970306396, 'rollout_return': 0.8294688745795221, 'evaluation': 0.8163075766001539} step=15000\n",
      "2023-01-29 19:14.43 [info     ] Model parameters are saved to d3rlpy_logs/DoubleDQN_online_20230129191430/model_16000.pt\n",
      "2023-01-29 19:14.43 [info     ] DoubleDQN_online_20230129191430: epoch=16 step=16000 epoch=16 metrics={'time_inference': 0.0001241273880004883, 'time_environment_step': 2.19573974609375e-05, 'time_sample_batch': 2.883768081665039e-05, 'time_algorithm_update': 0.0005971150398254394, 'loss': 0.04078428118210286, 'time_step': 0.0007872602939605713, 'rollout_return': 0.875320454011289, 'evaluation': 1.3212112449636628} step=16000\n",
      "2023-01-29 19:14.43 [info     ] Model parameters are saved to d3rlpy_logs/DoubleDQN_online_20230129191430/model_17000.pt\n",
      "2023-01-29 19:14.43 [info     ] DoubleDQN_online_20230129191430: epoch=17 step=17000 epoch=17 metrics={'time_inference': 0.00012348699569702149, 'time_environment_step': 2.1704673767089844e-05, 'time_sample_batch': 2.7847766876220705e-05, 'time_algorithm_update': 0.0005929932594299316, 'loss': 0.04093939730711281, 'time_step': 0.0007812478542327881, 'rollout_return': 0.8855571694658222, 'evaluation': 1.018396959100694} step=17000\n",
      "2023-01-29 19:14.44 [info     ] Model parameters are saved to d3rlpy_logs/DoubleDQN_online_20230129191430/model_18000.pt\n",
      "2023-01-29 19:14.44 [info     ] DoubleDQN_online_20230129191430: epoch=18 step=18000 epoch=18 metrics={'time_inference': 0.0001316220760345459, 'time_environment_step': 2.367281913757324e-05, 'time_sample_batch': 3.231167793273926e-05, 'time_algorithm_update': 0.0006292955875396728, 'loss': 0.039728827808983624, 'time_step': 0.0008336462974548339, 'rollout_return': 0.8890103879982847, 'evaluation': 1.5316829332530002} step=18000\n",
      "2023-01-29 19:14.45 [info     ] Model parameters are saved to d3rlpy_logs/DoubleDQN_online_20230129191430/model_19000.pt\n",
      "2023-01-29 19:14.45 [info     ] DoubleDQN_online_20230129191430: epoch=19 step=19000 epoch=19 metrics={'time_inference': 0.00013474369049072264, 'time_environment_step': 2.454066276550293e-05, 'time_sample_batch': 3.133869171142578e-05, 'time_algorithm_update': 0.0006497170925140381, 'loss': 0.04033966240100562, 'time_step': 0.0008571205139160156, 'rollout_return': 1.0265227555803074, 'evaluation': 1.1917106360796372} step=19000\n",
      "2023-01-29 19:14.46 [info     ] Model parameters are saved to d3rlpy_logs/DoubleDQN_online_20230129191430/model_20000.pt\n",
      "2023-01-29 19:14.46 [info     ] DoubleDQN_online_20230129191430: epoch=20 step=20000 epoch=20 metrics={'time_inference': 0.00012540602684020996, 'time_environment_step': 2.2350311279296875e-05, 'time_sample_batch': 2.950572967529297e-05, 'time_algorithm_update': 0.000600419282913208, 'loss': 0.04037614114210009, 'time_step': 0.0007932803630828857, 'rollout_return': 0.9196749666561972, 'evaluation': 1.394492776113414} step=20000\n",
      "2023-01-29 19:14.47 [info     ] Model parameters are saved to d3rlpy_logs/DoubleDQN_online_20230129191430/model_21000.pt\n",
      "2023-01-29 19:14.47 [info     ] DoubleDQN_online_20230129191430: epoch=21 step=21000 epoch=21 metrics={'time_inference': 0.00012537336349487306, 'time_environment_step': 2.2098064422607424e-05, 'time_sample_batch': 2.9447078704833986e-05, 'time_algorithm_update': 0.0005988562107086181, 'loss': 0.04261249648779631, 'time_step': 0.0007912909984588623, 'rollout_return': 0.967749909000283, 'evaluation': 1.1003780376980754} step=21000\n",
      "2023-01-29 19:14.48 [info     ] Model parameters are saved to d3rlpy_logs/DoubleDQN_online_20230129191430/model_22000.pt\n",
      "2023-01-29 19:14.48 [info     ] DoubleDQN_online_20230129191430: epoch=22 step=22000 epoch=22 metrics={'time_inference': 0.00012593603134155275, 'time_environment_step': 2.2253990173339845e-05, 'time_sample_batch': 2.9055118560791016e-05, 'time_algorithm_update': 0.0006048772335052491, 'loss': 0.04339021874777973, 'time_step': 0.0007977812290191651, 'rollout_return': 0.8853852606024532, 'evaluation': 1.4831472925682287} step=22000\n",
      "2023-01-29 19:14.48 [info     ] Model parameters are saved to d3rlpy_logs/DoubleDQN_online_20230129191430/model_23000.pt\n",
      "2023-01-29 19:14.48 [info     ] DoubleDQN_online_20230129191430: epoch=23 step=23000 epoch=23 metrics={'time_inference': 0.00012389540672302245, 'time_environment_step': 2.2186756134033205e-05, 'time_sample_batch': 2.8919458389282226e-05, 'time_algorithm_update': 0.00059543776512146, 'loss': 0.04388602823391557, 'time_step': 0.0007858057022094726, 'rollout_return': 1.0153385739323646, 'evaluation': 1.4255435050075984} step=23000\n",
      "2023-01-29 19:14.49 [info     ] Model parameters are saved to d3rlpy_logs/DoubleDQN_online_20230129191430/model_24000.pt\n",
      "2023-01-29 19:14.49 [info     ] DoubleDQN_online_20230129191430: epoch=24 step=24000 epoch=24 metrics={'time_inference': 0.00013419222831726073, 'time_environment_step': 2.4140596389770508e-05, 'time_sample_batch': 3.218865394592285e-05, 'time_algorithm_update': 0.0006679439544677734, 'loss': 0.04281018450576812, 'time_step': 0.0008755965232849121, 'rollout_return': 0.9452315267947375, 'evaluation': 1.7720361544728012} step=24000\n",
      "2023-01-29 19:14.50 [info     ] Model parameters are saved to d3rlpy_logs/DoubleDQN_online_20230129191430/model_25000.pt\n",
      "2023-01-29 19:14.50 [info     ] DoubleDQN_online_20230129191430: epoch=25 step=25000 epoch=25 metrics={'time_inference': 0.00012743544578552247, 'time_environment_step': 2.2816658020019532e-05, 'time_sample_batch': 3.0261516571044922e-05, 'time_algorithm_update': 0.0006069302558898926, 'loss': 0.04253095307759941, 'time_step': 0.000803396463394165, 'rollout_return': 1.0423244718469697, 'evaluation': 1.684812626140521} step=25000\n",
      "2023-01-29 19:14.51 [info     ] Model parameters are saved to d3rlpy_logs/DoubleDQN_online_20230129191430/model_26000.pt\n",
      "2023-01-29 19:14.51 [info     ] DoubleDQN_online_20230129191430: epoch=26 step=26000 epoch=26 metrics={'time_inference': 0.0001278367042541504, 'time_environment_step': 2.3022174835205078e-05, 'time_sample_batch': 3.042268753051758e-05, 'time_algorithm_update': 0.0006129713058471679, 'loss': 0.04364486503601074, 'time_step': 0.0008103973865509033, 'rollout_return': 0.8733542936282483, 'evaluation': 1.2830342133663803} step=26000\n",
      "2023-01-29 19:14.52 [info     ] Model parameters are saved to d3rlpy_logs/DoubleDQN_online_20230129191430/model_27000.pt\n",
      "2023-01-29 19:14.52 [info     ] DoubleDQN_online_20230129191430: epoch=27 step=27000 epoch=27 metrics={'time_inference': 0.0001272282600402832, 'time_environment_step': 2.291131019592285e-05, 'time_sample_batch': 3.0488014221191407e-05, 'time_algorithm_update': 0.0006136963367462158, 'loss': 0.044347687285393476, 'time_step': 0.0008103103637695313, 'rollout_return': 1.004687004192712, 'evaluation': 1.4561144836705806} step=27000\n",
      "2023-01-29 19:14.53 [info     ] Model parameters are saved to d3rlpy_logs/DoubleDQN_online_20230129191430/model_28000.pt\n",
      "2023-01-29 19:14.53 [info     ] DoubleDQN_online_20230129191430: epoch=28 step=28000 epoch=28 metrics={'time_inference': 0.00012881970405578613, 'time_environment_step': 2.3154258728027344e-05, 'time_sample_batch': 3.101348876953125e-05, 'time_algorithm_update': 0.0006188125610351562, 'loss': 0.04492024876922369, 'time_step': 0.0008180227279663086, 'rollout_return': 1.0303630439689955, 'evaluation': 1.533203363246614} step=28000\n",
      "2023-01-29 19:14.53 [info     ] Model parameters are saved to d3rlpy_logs/DoubleDQN_online_20230129191430/model_29000.pt\n",
      "2023-01-29 19:14.53 [info     ] DoubleDQN_online_20230129191430: epoch=29 step=29000 epoch=29 metrics={'time_inference': 0.00012077188491821288, 'time_environment_step': 2.14076042175293e-05, 'time_sample_batch': 2.682638168334961e-05, 'time_algorithm_update': 0.0005847144126892089, 'loss': 0.04428446270525455, 'time_step': 0.0007685532569885253, 'rollout_return': 1.0618762086452502, 'evaluation': 1.369205021856145} step=29000\n",
      "2023-01-29 19:14.54 [info     ] Model parameters are saved to d3rlpy_logs/DoubleDQN_online_20230129191430/model_30000.pt\n",
      "2023-01-29 19:14.54 [info     ] DoubleDQN_online_20230129191430: epoch=30 step=30000 epoch=30 metrics={'time_inference': 0.00012054109573364258, 'time_environment_step': 2.1234750747680664e-05, 'time_sample_batch': 2.693939208984375e-05, 'time_algorithm_update': 0.0005831549167633057, 'loss': 0.04468990354333073, 'time_step': 0.0007666668891906738, 'rollout_return': 1.096110640379405, 'evaluation': 1.764970846448163} step=30000\n",
      "2023-01-29 19:14.55 [info     ] Model parameters are saved to d3rlpy_logs/DoubleDQN_online_20230129191430/model_31000.pt\n",
      "2023-01-29 19:14.55 [info     ] DoubleDQN_online_20230129191430: epoch=31 step=31000 epoch=31 metrics={'time_inference': 0.0001341674327850342, 'time_environment_step': 2.367401123046875e-05, 'time_sample_batch': 3.123760223388672e-05, 'time_algorithm_update': 0.0006420054435729981, 'loss': 0.046933653723448515, 'time_step': 0.0008480854034423828, 'rollout_return': 1.102234670263092, 'evaluation': 1.4827139356425743} step=31000\n",
      "2023-01-29 19:14.56 [info     ] Model parameters are saved to d3rlpy_logs/DoubleDQN_online_20230129191430/model_32000.pt\n",
      "2023-01-29 19:14.56 [info     ] DoubleDQN_online_20230129191430: epoch=32 step=32000 epoch=32 metrics={'time_inference': 0.00013638281822204589, 'time_environment_step': 2.4241685867309572e-05, 'time_sample_batch': 3.2041311264038084e-05, 'time_algorithm_update': 0.0006624536514282227, 'loss': 0.0473544443808496, 'time_step': 0.0008725004196166993, 'rollout_return': 1.0380894909213012, 'evaluation': 1.3071819766209738} step=32000\n",
      "2023-01-29 19:14.57 [info     ] Model parameters are saved to d3rlpy_logs/DoubleDQN_online_20230129191430/model_33000.pt\n",
      "2023-01-29 19:14.57 [info     ] DoubleDQN_online_20230129191430: epoch=33 step=33000 epoch=33 metrics={'time_inference': 0.00012438058853149415, 'time_environment_step': 2.2338390350341797e-05, 'time_sample_batch': 2.9570817947387694e-05, 'time_algorithm_update': 0.0006012654304504394, 'loss': 0.04767998822964728, 'time_step': 0.0007930586338043213, 'rollout_return': 1.0879625378202327, 'evaluation': 1.342421884577274} step=33000\n",
      "2023-01-29 19:14.58 [info     ] Model parameters are saved to d3rlpy_logs/DoubleDQN_online_20230129191430/model_34000.pt\n",
      "2023-01-29 19:14.58 [info     ] DoubleDQN_online_20230129191430: epoch=34 step=34000 epoch=34 metrics={'time_inference': 0.00012958908081054686, 'time_environment_step': 2.295851707458496e-05, 'time_sample_batch': 3.091025352478027e-05, 'time_algorithm_update': 0.0006138348579406739, 'loss': 0.049759414719417694, 'time_step': 0.0008134322166442871, 'rollout_return': 1.0880060549091124, 'evaluation': 1.609847338492862} step=34000\n",
      "2023-01-29 19:14.58 [info     ] Model parameters are saved to d3rlpy_logs/DoubleDQN_online_20230129191430/model_35000.pt\n",
      "2023-01-29 19:14.58 [info     ] DoubleDQN_online_20230129191430: epoch=35 step=35000 epoch=35 metrics={'time_inference': 0.00012572169303894044, 'time_environment_step': 2.2308588027954102e-05, 'time_sample_batch': 2.9586315155029295e-05, 'time_algorithm_update': 0.0006017606258392334, 'loss': 0.049857445970177654, 'time_step': 0.0007951302528381348, 'rollout_return': 0.9981305620567368, 'evaluation': 1.6167455137597657} step=35000\n",
      "2023-01-29 19:14.59 [info     ] Model parameters are saved to d3rlpy_logs/DoubleDQN_online_20230129191430/model_36000.pt\n",
      "2023-01-29 19:14.59 [info     ] DoubleDQN_online_20230129191430: epoch=36 step=36000 epoch=36 metrics={'time_inference': 0.00012615418434143067, 'time_environment_step': 2.2624492645263673e-05, 'time_sample_batch': 2.954411506652832e-05, 'time_algorithm_update': 0.0006004362106323242, 'loss': 0.0501830415930599, 'time_step': 0.0007944524288177491, 'rollout_return': 0.9887697670380774, 'evaluation': 1.4647059182508617} step=36000\n",
      "2023-01-29 19:15.00 [info     ] Model parameters are saved to d3rlpy_logs/DoubleDQN_online_20230129191430/model_37000.pt\n",
      "2023-01-29 19:15.00 [info     ] DoubleDQN_online_20230129191430: epoch=37 step=37000 epoch=37 metrics={'time_inference': 0.000134765625, 'time_environment_step': 2.387523651123047e-05, 'time_sample_batch': 3.0594348907470704e-05, 'time_algorithm_update': 0.0006448242664337158, 'loss': 0.053907359867356716, 'time_step': 0.000850705623626709, 'rollout_return': 1.0772165578548885, 'evaluation': 1.2964775565594828} step=37000\n",
      "2023-01-29 19:15.01 [info     ] Model parameters are saved to d3rlpy_logs/DoubleDQN_online_20230129191430/model_38000.pt\n",
      "2023-01-29 19:15.01 [info     ] DoubleDQN_online_20230129191430: epoch=38 step=38000 epoch=38 metrics={'time_inference': 0.00012835144996643067, 'time_environment_step': 2.257370948791504e-05, 'time_sample_batch': 2.9314279556274415e-05, 'time_algorithm_update': 0.000621474027633667, 'loss': 0.05264578715339303, 'time_step': 0.0008174588680267334, 'rollout_return': 1.120670027756167, 'evaluation': 1.278355726559155} step=38000\n",
      "2023-01-29 19:15.02 [info     ] Model parameters are saved to d3rlpy_logs/DoubleDQN_online_20230129191430/model_39000.pt\n",
      "2023-01-29 19:15.02 [info     ] DoubleDQN_online_20230129191430: epoch=39 step=39000 epoch=39 metrics={'time_inference': 0.00012338733673095703, 'time_environment_step': 2.187061309814453e-05, 'time_sample_batch': 2.8382539749145508e-05, 'time_algorithm_update': 0.0005917279720306397, 'loss': 0.05383455898240209, 'time_step': 0.0007804632186889648, 'rollout_return': 1.1570715778309266, 'evaluation': 1.6593877035699705} step=39000\n",
      "2023-01-29 19:15.03 [info     ] Model parameters are saved to d3rlpy_logs/DoubleDQN_online_20230129191430/model_40000.pt\n",
      "2023-01-29 19:15.03 [info     ] DoubleDQN_online_20230129191430: epoch=40 step=40000 epoch=40 metrics={'time_inference': 0.00012428045272827148, 'time_environment_step': 2.2287845611572265e-05, 'time_sample_batch': 2.929258346557617e-05, 'time_algorithm_update': 0.0005982418060302735, 'loss': 0.05459211176075041, 'time_step': 0.0007895913124084473, 'rollout_return': 1.0196527836865013, 'evaluation': 1.339191296285972} step=40000\n",
      "2023-01-29 19:15.03 [info     ] Model parameters are saved to d3rlpy_logs/DoubleDQN_online_20230129191430/model_41000.pt\n",
      "2023-01-29 19:15.03 [info     ] DoubleDQN_online_20230129191430: epoch=41 step=41000 epoch=41 metrics={'time_inference': 0.00012139344215393066, 'time_environment_step': 2.125406265258789e-05, 'time_sample_batch': 2.6900053024291992e-05, 'time_algorithm_update': 0.0005837185382843018, 'loss': 0.05776232699677348, 'time_step': 0.0007682034969329834, 'rollout_return': 1.0748323146892156, 'evaluation': 1.645061890418356} step=41000\n",
      "2023-01-29 19:15.04 [info     ] Model parameters are saved to d3rlpy_logs/DoubleDQN_online_20230129191430/model_42000.pt\n",
      "2023-01-29 19:15.04 [info     ] DoubleDQN_online_20230129191430: epoch=42 step=42000 epoch=42 metrics={'time_inference': 0.00012204408645629882, 'time_environment_step': 2.1485328674316406e-05, 'time_sample_batch': 2.7686834335327147e-05, 'time_algorithm_update': 0.0005867486000061035, 'loss': 0.05419652495346963, 'time_step': 0.0007729036808013916, 'rollout_return': 1.1076909937990245, 'evaluation': 1.397201260242477} step=42000\n",
      "2023-01-29 19:15.05 [info     ] Model parameters are saved to d3rlpy_logs/DoubleDQN_online_20230129191430/model_43000.pt\n",
      "2023-01-29 19:15.05 [info     ] DoubleDQN_online_20230129191430: epoch=43 step=43000 epoch=43 metrics={'time_inference': 0.00012345623970031738, 'time_environment_step': 2.1839380264282226e-05, 'time_sample_batch': 2.8261899948120118e-05, 'time_algorithm_update': 0.0005893847942352295, 'loss': 0.05460751206986606, 'time_step': 0.0007781047821044922, 'rollout_return': 1.0670281811805622, 'evaluation': 1.6796876892465011} step=43000\n",
      "2023-01-29 19:15.06 [info     ] Model parameters are saved to d3rlpy_logs/DoubleDQN_online_20230129191430/model_44000.pt\n",
      "2023-01-29 19:15.06 [info     ] DoubleDQN_online_20230129191430: epoch=44 step=44000 epoch=44 metrics={'time_inference': 0.0001251230239868164, 'time_environment_step': 2.2350072860717772e-05, 'time_sample_batch': 2.955770492553711e-05, 'time_algorithm_update': 0.0006007764339447021, 'loss': 0.05462917766906321, 'time_step': 0.0007933547496795654, 'rollout_return': 1.110467801389126, 'evaluation': 1.8260860753173713} step=44000\n",
      "2023-01-29 19:15.07 [info     ] Model parameters are saved to d3rlpy_logs/DoubleDQN_online_20230129191430/model_45000.pt\n",
      "2023-01-29 19:15.07 [info     ] DoubleDQN_online_20230129191430: epoch=45 step=45000 epoch=45 metrics={'time_inference': 0.00013434195518493652, 'time_environment_step': 2.4517059326171873e-05, 'time_sample_batch': 3.259921073913574e-05, 'time_algorithm_update': 0.0006352555751800537, 'loss': 0.05510515575949103, 'time_step': 0.0008439009189605713, 'rollout_return': 1.1693509674745046, 'evaluation': 1.581431688582549} step=45000\n",
      "2023-01-29 19:15.08 [info     ] Model parameters are saved to d3rlpy_logs/DoubleDQN_online_20230129191430/model_46000.pt\n",
      "2023-01-29 19:15.08 [info     ] DoubleDQN_online_20230129191430: epoch=46 step=46000 epoch=46 metrics={'time_inference': 0.00013452887535095215, 'time_environment_step': 2.3450851440429687e-05, 'time_sample_batch': 3.080964088439941e-05, 'time_algorithm_update': 0.0006456072330474854, 'loss': 0.053777444809675216, 'time_step': 0.0008509292602539063, 'rollout_return': 1.1935903522996967, 'evaluation': 1.406005151445754} step=46000\n",
      "2023-01-29 19:15.08 [info     ] Model parameters are saved to d3rlpy_logs/DoubleDQN_online_20230129191430/model_47000.pt\n",
      "2023-01-29 19:15.08 [info     ] DoubleDQN_online_20230129191430: epoch=47 step=47000 epoch=47 metrics={'time_inference': 0.00012131977081298828, 'time_environment_step': 2.1390438079833985e-05, 'time_sample_batch': 2.691197395324707e-05, 'time_algorithm_update': 0.000584064245223999, 'loss': 0.05653053154423833, 'time_step': 0.0007684681415557861, 'rollout_return': 1.051446918631767, 'evaluation': 1.9415239649906788} step=47000\n",
      "2023-01-29 19:15.09 [info     ] Model parameters are saved to d3rlpy_logs/DoubleDQN_online_20230129191430/model_48000.pt\n",
      "2023-01-29 19:15.09 [info     ] DoubleDQN_online_20230129191430: epoch=48 step=48000 epoch=48 metrics={'time_inference': 0.00012874341011047364, 'time_environment_step': 2.352023124694824e-05, 'time_sample_batch': 3.1157732009887696e-05, 'time_algorithm_update': 0.0006130213737487793, 'loss': 0.05801616286113858, 'time_step': 0.0008127098083496094, 'rollout_return': 1.1512819581838245, 'evaluation': 1.866065649422115} step=48000\n",
      "2023-01-29 19:15.10 [info     ] Model parameters are saved to d3rlpy_logs/DoubleDQN_online_20230129191430/model_49000.pt\n",
      "2023-01-29 19:15.10 [info     ] DoubleDQN_online_20230129191430: epoch=49 step=49000 epoch=49 metrics={'time_inference': 0.0001259171962738037, 'time_environment_step': 2.2647857666015626e-05, 'time_sample_batch': 3.0170679092407227e-05, 'time_algorithm_update': 0.0005989761352539063, 'loss': 0.05612414070777595, 'time_step': 0.0007935113906860352, 'rollout_return': 1.0905338167000693, 'evaluation': 1.7455710384486083} step=49000\n",
      "2023-01-29 19:15.11 [info     ] Model parameters are saved to d3rlpy_logs/DoubleDQN_online_20230129191430/model_50000.pt\n",
      "2023-01-29 19:15.11 [info     ] DoubleDQN_online_20230129191430: epoch=50 step=50000 epoch=50 metrics={'time_inference': 0.00012805724143981933, 'time_environment_step': 2.2580623626708983e-05, 'time_sample_batch': 3.0120372772216798e-05, 'time_algorithm_update': 0.0006136369705200196, 'loss': 0.054756083354353904, 'time_step': 0.0008102293014526367, 'rollout_return': 1.0209321376538874, 'evaluation': 1.7189010094168573} step=50000\n",
      "2023-01-29 19:15.12 [info     ] Model parameters are saved to d3rlpy_logs/DoubleDQN_online_20230129191430/model_51000.pt\n",
      "2023-01-29 19:15.12 [info     ] DoubleDQN_online_20230129191430: epoch=51 step=51000 epoch=51 metrics={'time_inference': 0.00012343287467956544, 'time_environment_step': 2.2135496139526368e-05, 'time_sample_batch': 2.886652946472168e-05, 'time_algorithm_update': 0.0005946013927459716, 'loss': 0.054881251085549594, 'time_step': 0.0007844803333282471, 'rollout_return': 1.054353800699542, 'evaluation': 1.4817876762877424} step=51000\n",
      "2023-01-29 19:15.12 [info     ] Model parameters are saved to d3rlpy_logs/DoubleDQN_online_20230129191430/model_52000.pt\n",
      "2023-01-29 19:15.12 [info     ] DoubleDQN_online_20230129191430: epoch=52 step=52000 epoch=52 metrics={'time_inference': 0.00012982988357543946, 'time_environment_step': 2.337169647216797e-05, 'time_sample_batch': 3.160881996154785e-05, 'time_algorithm_update': 0.0006226682662963867, 'loss': 0.05472786729037762, 'time_step': 0.0008240694999694825, 'rollout_return': 1.0725911822121115, 'evaluation': 1.7058947318202218} step=52000\n",
      "2023-01-29 19:15.13 [info     ] Model parameters are saved to d3rlpy_logs/DoubleDQN_online_20230129191430/model_53000.pt\n",
      "2023-01-29 19:15.13 [info     ] DoubleDQN_online_20230129191430: epoch=53 step=53000 epoch=53 metrics={'time_inference': 0.0001253683567047119, 'time_environment_step': 2.2417306900024415e-05, 'time_sample_batch': 2.9776334762573243e-05, 'time_algorithm_update': 0.0006010503768920898, 'loss': 0.05378134450968355, 'time_step': 0.0007943320274353028, 'rollout_return': 1.0858965239242075, 'evaluation': 1.7139808607035039} step=53000\n",
      "2023-01-29 19:15.14 [info     ] Model parameters are saved to d3rlpy_logs/DoubleDQN_online_20230129191430/model_54000.pt\n",
      "2023-01-29 19:15.14 [info     ] DoubleDQN_online_20230129191430: epoch=54 step=54000 epoch=54 metrics={'time_inference': 0.00014453911781311035, 'time_environment_step': 2.645134925842285e-05, 'time_sample_batch': 3.415703773498535e-05, 'time_algorithm_update': 0.0007587709426879883, 'loss': 0.05289530079253018, 'time_step': 0.0009827821254730226, 'rollout_return': 1.1416068786368567, 'evaluation': 1.7262030184003887} step=54000\n",
      "2023-01-29 19:15.15 [info     ] Model parameters are saved to d3rlpy_logs/DoubleDQN_online_20230129191430/model_55000.pt\n",
      "2023-01-29 19:15.15 [info     ] DoubleDQN_online_20230129191430: epoch=55 step=55000 epoch=55 metrics={'time_inference': 0.00014567303657531737, 'time_environment_step': 2.5876998901367188e-05, 'time_sample_batch': 3.43935489654541e-05, 'time_algorithm_update': 0.0007096045017242432, 'loss': 0.05249877491407096, 'time_step': 0.0009341471195220948, 'rollout_return': 1.0849752443298195, 'evaluation': 1.850687315915803} step=55000\n",
      "2023-01-29 19:15.16 [info     ] Model parameters are saved to d3rlpy_logs/DoubleDQN_online_20230129191430/model_56000.pt\n",
      "2023-01-29 19:15.16 [info     ] DoubleDQN_online_20230129191430: epoch=56 step=56000 epoch=56 metrics={'time_inference': 0.00012349915504455568, 'time_environment_step': 2.1916866302490235e-05, 'time_sample_batch': 3.5956382751464847e-05, 'time_algorithm_update': 0.0006066653728485108, 'loss': 0.05305645758472383, 'time_step': 0.0008032312393188477, 'rollout_return': 1.0902066124356495, 'evaluation': 1.5883578171300077} step=56000\n",
      "2023-01-29 19:15.17 [info     ] Model parameters are saved to d3rlpy_logs/DoubleDQN_online_20230129191430/model_57000.pt\n",
      "2023-01-29 19:15.17 [info     ] DoubleDQN_online_20230129191430: epoch=57 step=57000 epoch=57 metrics={'time_inference': 0.00012347674369812012, 'time_environment_step': 2.1532058715820312e-05, 'time_sample_batch': 2.745652198791504e-05, 'time_algorithm_update': 0.0005978195667266845, 'loss': 0.053968270421028135, 'time_step': 0.0007854325771331787, 'rollout_return': 1.1955232552814088, 'evaluation': 1.8514795977794107} step=57000\n",
      "2023-01-29 19:15.18 [info     ] Model parameters are saved to d3rlpy_logs/DoubleDQN_online_20230129191430/model_58000.pt\n",
      "2023-01-29 19:15.18 [info     ] DoubleDQN_online_20230129191430: epoch=58 step=58000 epoch=58 metrics={'time_inference': 0.00011974811553955078, 'time_environment_step': 2.0775794982910156e-05, 'time_sample_batch': 2.5315284729003908e-05, 'time_algorithm_update': 0.0005818896293640136, 'loss': 0.05301933070085943, 'time_step': 0.0007622578144073487, 'rollout_return': 1.030331342872023, 'evaluation': 1.7431315795589382} step=58000\n",
      "2023-01-29 19:15.18 [info     ] Model parameters are saved to d3rlpy_logs/DoubleDQN_online_20230129191430/model_59000.pt\n",
      "2023-01-29 19:15.18 [info     ] DoubleDQN_online_20230129191430: epoch=59 step=59000 epoch=59 metrics={'time_inference': 0.00011816763877868652, 'time_environment_step': 2.0690441131591796e-05, 'time_sample_batch': 2.44903564453125e-05, 'time_algorithm_update': 0.0005749073028564453, 'loss': 0.05313031554874033, 'time_step': 0.0007526662349700928, 'rollout_return': 1.0594286778609883, 'evaluation': 1.7709942899359592} step=59000\n",
      "2023-01-29 19:15.19 [info     ] Model parameters are saved to d3rlpy_logs/DoubleDQN_online_20230129191430/model_60000.pt\n",
      "2023-01-29 19:15.19 [info     ] DoubleDQN_online_20230129191430: epoch=60 step=60000 epoch=60 metrics={'time_inference': 0.00011800909042358399, 'time_environment_step': 2.0437955856323242e-05, 'time_sample_batch': 2.4471521377563478e-05, 'time_algorithm_update': 0.0005735218524932862, 'loss': 0.0517180050406605, 'time_step': 0.0007507390975952148, 'rollout_return': 1.0536179118944293, 'evaluation': 1.5856779874461893} step=60000\n",
      "2023-01-29 19:15.20 [info     ] Model parameters are saved to d3rlpy_logs/DoubleDQN_online_20230129191430/model_61000.pt\n",
      "2023-01-29 19:15.20 [info     ] DoubleDQN_online_20230129191430: epoch=61 step=61000 epoch=61 metrics={'time_inference': 0.00011899542808532715, 'time_environment_step': 2.0804166793823242e-05, 'time_sample_batch': 2.511453628540039e-05, 'time_algorithm_update': 0.0005852916240692139, 'loss': 0.05242981281504035, 'time_step': 0.0007646822929382324, 'rollout_return': 1.0720157078390842, 'evaluation': 1.1635200268613655} step=61000\n",
      "2023-01-29 19:15.21 [info     ] Model parameters are saved to d3rlpy_logs/DoubleDQN_online_20230129191430/model_62000.pt\n",
      "2023-01-29 19:15.21 [info     ] DoubleDQN_online_20230129191430: epoch=62 step=62000 epoch=62 metrics={'time_inference': 0.0001187446117401123, 'time_environment_step': 2.067279815673828e-05, 'time_sample_batch': 2.4379253387451173e-05, 'time_algorithm_update': 0.0005744669437408447, 'loss': 0.05278327787108719, 'time_step': 0.0007526946067810059, 'rollout_return': 1.1417971223270593, 'evaluation': 1.6725503974475147} step=62000\n",
      "2023-01-29 19:15.22 [info     ] Model parameters are saved to d3rlpy_logs/DoubleDQN_online_20230129191430/model_63000.pt\n",
      "2023-01-29 19:15.22 [info     ] DoubleDQN_online_20230129191430: epoch=63 step=63000 epoch=63 metrics={'time_inference': 0.0001176447868347168, 'time_environment_step': 2.0548105239868165e-05, 'time_sample_batch': 2.4252891540527345e-05, 'time_algorithm_update': 0.0005716660022735596, 'loss': 0.05185985994525254, 'time_step': 0.0007483549118041992, 'rollout_return': 1.1219754640352488, 'evaluation': 1.653398692334531} step=63000\n",
      "2023-01-29 19:15.22 [info     ] Model parameters are saved to d3rlpy_logs/DoubleDQN_online_20230129191430/model_64000.pt\n",
      "2023-01-29 19:15.22 [info     ] DoubleDQN_online_20230129191430: epoch=64 step=64000 epoch=64 metrics={'time_inference': 0.00011830806732177735, 'time_environment_step': 2.0713329315185547e-05, 'time_sample_batch': 2.472710609436035e-05, 'time_algorithm_update': 0.000574596643447876, 'loss': 0.053398164611309765, 'time_step': 0.000752821683883667, 'rollout_return': 1.1492385034038377, 'evaluation': 1.547069072380566} step=64000\n",
      "2023-01-29 19:15.23 [info     ] Model parameters are saved to d3rlpy_logs/DoubleDQN_online_20230129191430/model_65000.pt\n",
      "2023-01-29 19:15.23 [info     ] DoubleDQN_online_20230129191430: epoch=65 step=65000 epoch=65 metrics={'time_inference': 0.0001200253963470459, 'time_environment_step': 2.1064043045043946e-05, 'time_sample_batch': 2.5542736053466797e-05, 'time_algorithm_update': 0.0005742244720458985, 'loss': 0.05568925243243575, 'time_step': 0.0007555413246154785, 'rollout_return': 1.1045157391297937, 'evaluation': 1.7167791605762577} step=65000\n",
      "2023-01-29 19:15.24 [info     ] Model parameters are saved to d3rlpy_logs/DoubleDQN_online_20230129191430/model_66000.pt\n",
      "2023-01-29 19:15.24 [info     ] DoubleDQN_online_20230129191430: epoch=66 step=66000 epoch=66 metrics={'time_inference': 0.00012239193916320802, 'time_environment_step': 2.1530628204345703e-05, 'time_sample_batch': 2.6010513305664063e-05, 'time_algorithm_update': 0.0005965573787689209, 'loss': 0.05482658206112683, 'time_step': 0.0007815263271331787, 'rollout_return': 1.1692873901709953, 'evaluation': 1.7100192736055384} step=66000\n",
      "2023-01-29 19:15.25 [info     ] Model parameters are saved to d3rlpy_logs/DoubleDQN_online_20230129191430/model_67000.pt\n",
      "2023-01-29 19:15.25 [info     ] DoubleDQN_online_20230129191430: epoch=67 step=67000 epoch=67 metrics={'time_inference': 0.00012344789505004883, 'time_environment_step': 2.1088123321533204e-05, 'time_sample_batch': 2.562904357910156e-05, 'time_algorithm_update': 0.0005933666229248047, 'loss': 0.05378204880282283, 'time_step': 0.0007785718441009522, 'rollout_return': 1.1968061948617459, 'evaluation': 1.6754869803764492} step=67000\n",
      "2023-01-29 19:15.25 [info     ] Model parameters are saved to d3rlpy_logs/DoubleDQN_online_20230129191430/model_68000.pt\n",
      "2023-01-29 19:15.25 [info     ] DoubleDQN_online_20230129191430: epoch=68 step=68000 epoch=68 metrics={'time_inference': 0.00011829280853271485, 'time_environment_step': 2.058887481689453e-05, 'time_sample_batch': 2.4498939514160156e-05, 'time_algorithm_update': 0.0005738480091094971, 'loss': 0.055585775278508665, 'time_step': 0.0007516229152679443, 'rollout_return': 1.1967169215602156, 'evaluation': 1.4997878337180175} step=68000\n",
      "2023-01-29 19:15.26 [info     ] Model parameters are saved to d3rlpy_logs/DoubleDQN_online_20230129191430/model_69000.pt\n",
      "2023-01-29 19:15.26 [info     ] DoubleDQN_online_20230129191430: epoch=69 step=69000 epoch=69 metrics={'time_inference': 0.00011792349815368653, 'time_environment_step': 2.060413360595703e-05, 'time_sample_batch': 2.4317502975463868e-05, 'time_algorithm_update': 0.0005733394622802735, 'loss': 0.054950127135030925, 'time_step': 0.0007505018711090088, 'rollout_return': 1.1760853073071065, 'evaluation': 1.7828032657449822} step=69000\n",
      "2023-01-29 19:15.27 [info     ] Model parameters are saved to d3rlpy_logs/DoubleDQN_online_20230129191430/model_70000.pt\n",
      "2023-01-29 19:15.27 [info     ] DoubleDQN_online_20230129191430: epoch=70 step=70000 epoch=70 metrics={'time_inference': 0.00011959409713745117, 'time_environment_step': 2.082204818725586e-05, 'time_sample_batch': 2.4979352951049805e-05, 'time_algorithm_update': 0.000579967737197876, 'loss': 0.058207532504573466, 'time_step': 0.0007598865032196045, 'rollout_return': 1.1695935607060752, 'evaluation': 1.460082500713834} step=70000\n",
      "2023-01-29 19:15.28 [info     ] Model parameters are saved to d3rlpy_logs/DoubleDQN_online_20230129191430/model_71000.pt\n",
      "2023-01-29 19:15.28 [info     ] DoubleDQN_online_20230129191430: epoch=71 step=71000 epoch=71 metrics={'time_inference': 0.00011754226684570312, 'time_environment_step': 2.0643234252929688e-05, 'time_sample_batch': 2.451348304748535e-05, 'time_algorithm_update': 0.0005728490352630615, 'loss': 0.05960988119803369, 'time_step': 0.0007498936653137207, 'rollout_return': 1.0993924224049387, 'evaluation': 1.8129935276128097} step=71000\n",
      "2023-01-29 19:15.29 [info     ] Model parameters are saved to d3rlpy_logs/DoubleDQN_online_20230129191430/model_72000.pt\n",
      "2023-01-29 19:15.29 [info     ] DoubleDQN_online_20230129191430: epoch=72 step=72000 epoch=72 metrics={'time_inference': 0.00011749863624572754, 'time_environment_step': 2.0645380020141602e-05, 'time_sample_batch': 2.4555206298828126e-05, 'time_algorithm_update': 0.0005736873149871826, 'loss': 0.05842094757221639, 'time_step': 0.0007506835460662841, 'rollout_return': 1.1433965530810837, 'evaluation': 1.62001945613879} step=72000\n",
      "2023-01-29 19:15.29 [info     ] Model parameters are saved to d3rlpy_logs/DoubleDQN_online_20230129191430/model_73000.pt\n",
      "2023-01-29 19:15.29 [info     ] DoubleDQN_online_20230129191430: epoch=73 step=73000 epoch=73 metrics={'time_inference': 0.00011722087860107422, 'time_environment_step': 2.044034004211426e-05, 'time_sample_batch': 2.4412631988525392e-05, 'time_algorithm_update': 0.0005735101699829102, 'loss': 0.05813705224357545, 'time_step': 0.0007497925758361817, 'rollout_return': 1.1623818882637709, 'evaluation': 1.819692447834856} step=73000\n",
      "2023-01-29 19:15.30 [info     ] Model parameters are saved to d3rlpy_logs/DoubleDQN_online_20230129191430/model_74000.pt\n",
      "2023-01-29 19:15.30 [info     ] DoubleDQN_online_20230129191430: epoch=74 step=74000 epoch=74 metrics={'time_inference': 0.00011816644668579101, 'time_environment_step': 2.0605802536010744e-05, 'time_sample_batch': 2.4553537368774414e-05, 'time_algorithm_update': 0.000574760913848877, 'loss': 0.05754194281063974, 'time_step': 0.0007524187564849854, 'rollout_return': 1.1519324550451477, 'evaluation': 1.8060204622838136} step=74000\n",
      "2023-01-29 19:15.31 [info     ] Model parameters are saved to d3rlpy_logs/DoubleDQN_online_20230129191430/model_75000.pt\n",
      "2023-01-29 19:15.31 [info     ] DoubleDQN_online_20230129191430: epoch=75 step=75000 epoch=75 metrics={'time_inference': 0.00011808347702026368, 'time_environment_step': 2.064967155456543e-05, 'time_sample_batch': 2.446866035461426e-05, 'time_algorithm_update': 0.0005734231472015381, 'loss': 0.058124582411721346, 'time_step': 0.0007508869171142578, 'rollout_return': 1.1768824899461514, 'evaluation': 1.7078936714046502} step=75000\n",
      "2023-01-29 19:15.32 [info     ] Model parameters are saved to d3rlpy_logs/DoubleDQN_online_20230129191430/model_76000.pt\n",
      "2023-01-29 19:15.32 [info     ] DoubleDQN_online_20230129191430: epoch=76 step=76000 epoch=76 metrics={'time_inference': 0.0001180109977722168, 'time_environment_step': 2.060532569885254e-05, 'time_sample_batch': 2.4211168289184572e-05, 'time_algorithm_update': 0.0005732259750366211, 'loss': 0.05698622365668416, 'time_step': 0.0007502768039703369, 'rollout_return': 1.2210124326363367, 'evaluation': 1.6277633249411374} step=76000\n",
      "2023-01-29 19:15.32 [info     ] Model parameters are saved to d3rlpy_logs/DoubleDQN_online_20230129191430/model_77000.pt\n",
      "2023-01-29 19:15.32 [info     ] DoubleDQN_online_20230129191430: epoch=77 step=77000 epoch=77 metrics={'time_inference': 0.00011873483657836914, 'time_environment_step': 2.0745277404785156e-05, 'time_sample_batch': 2.4491548538208006e-05, 'time_algorithm_update': 0.0005766468048095703, 'loss': 0.05925990216806531, 'time_step': 0.0007550723552703858, 'rollout_return': 1.1409564075855338, 'evaluation': 1.5980814623861996} step=77000\n",
      "2023-01-29 19:15.33 [info     ] Model parameters are saved to d3rlpy_logs/DoubleDQN_online_20230129191430/model_78000.pt\n",
      "2023-01-29 19:15.33 [info     ] DoubleDQN_online_20230129191430: epoch=78 step=78000 epoch=78 metrics={'time_inference': 0.00012116575241088868, 'time_environment_step': 2.1288394927978517e-05, 'time_sample_batch': 2.5690793991088866e-05, 'time_algorithm_update': 0.0005947484970092774, 'loss': 0.06049055431224406, 'time_step': 0.0007776675224304199, 'rollout_return': 1.1507043640300387, 'evaluation': 1.585386502257737} step=78000\n",
      "2023-01-29 19:15.34 [info     ] Model parameters are saved to d3rlpy_logs/DoubleDQN_online_20230129191430/model_79000.pt\n",
      "2023-01-29 19:15.34 [info     ] DoubleDQN_online_20230129191430: epoch=79 step=79000 epoch=79 metrics={'time_inference': 0.00011968040466308594, 'time_environment_step': 2.0920991897583007e-05, 'time_sample_batch': 2.5160551071166994e-05, 'time_algorithm_update': 0.0005802004337310791, 'loss': 0.06032466356083751, 'time_step': 0.000760965347290039, 'rollout_return': 1.0741040997024798, 'evaluation': 1.9188565312588686} step=79000\n",
      "2023-01-29 19:15.35 [info     ] Model parameters are saved to d3rlpy_logs/DoubleDQN_online_20230129191430/model_80000.pt\n",
      "2023-01-29 19:15.35 [info     ] DoubleDQN_online_20230129191430: epoch=80 step=80000 epoch=80 metrics={'time_inference': 0.00011753416061401367, 'time_environment_step': 2.0559310913085937e-05, 'time_sample_batch': 2.4457931518554688e-05, 'time_algorithm_update': 0.000574702501296997, 'loss': 0.06121607040241361, 'time_step': 0.0007516016960144043, 'rollout_return': 1.1756655772840927, 'evaluation': 1.6642098279538307} step=80000\n",
      "2023-01-29 19:15.36 [info     ] Model parameters are saved to d3rlpy_logs/DoubleDQN_online_20230129191430/model_81000.pt\n",
      "2023-01-29 19:15.36 [info     ] DoubleDQN_online_20230129191430: epoch=81 step=81000 epoch=81 metrics={'time_inference': 0.00011804080009460449, 'time_environment_step': 2.0639657974243165e-05, 'time_sample_batch': 2.43527889251709e-05, 'time_algorithm_update': 0.0005746638774871826, 'loss': 0.060773301053792236, 'time_step': 0.0007520172595977783, 'rollout_return': 1.204324212524961, 'evaluation': 1.42685795365774} step=81000\n",
      "2023-01-29 19:15.36 [info     ] Model parameters are saved to d3rlpy_logs/DoubleDQN_online_20230129191430/model_82000.pt\n",
      "2023-01-29 19:15.36 [info     ] DoubleDQN_online_20230129191430: epoch=82 step=82000 epoch=82 metrics={'time_inference': 0.00011769747734069824, 'time_environment_step': 2.050948143005371e-05, 'time_sample_batch': 2.4260044097900392e-05, 'time_algorithm_update': 0.0005736870765686035, 'loss': 0.059813154451549055, 'time_step': 0.0007503857612609863, 'rollout_return': 1.2764971760422943, 'evaluation': 1.8191577948294633} step=82000\n",
      "2023-01-29 19:15.37 [info     ] Model parameters are saved to d3rlpy_logs/DoubleDQN_online_20230129191430/model_83000.pt\n",
      "2023-01-29 19:15.37 [info     ] DoubleDQN_online_20230129191430: epoch=83 step=83000 epoch=83 metrics={'time_inference': 0.00011893773078918457, 'time_environment_step': 2.0767927169799805e-05, 'time_sample_batch': 2.4808406829833985e-05, 'time_algorithm_update': 0.0005776546001434326, 'loss': 0.06053077970445156, 'time_step': 0.0007564837932586669, 'rollout_return': 1.1413742725288765, 'evaluation': 1.6709267218573143} step=83000\n",
      "2023-01-29 19:15.38 [info     ] Model parameters are saved to d3rlpy_logs/DoubleDQN_online_20230129191430/model_84000.pt\n",
      "2023-01-29 19:15.38 [info     ] DoubleDQN_online_20230129191430: epoch=84 step=84000 epoch=84 metrics={'time_inference': 0.00011771321296691895, 'time_environment_step': 2.0509958267211915e-05, 'time_sample_batch': 2.455592155456543e-05, 'time_algorithm_update': 0.0005746192932128907, 'loss': 0.060121117509901525, 'time_step': 0.0007516796588897705, 'rollout_return': 1.1870197558925062, 'evaluation': 1.7852313325740226} step=84000\n",
      "2023-01-29 19:15.39 [info     ] Model parameters are saved to d3rlpy_logs/DoubleDQN_online_20230129191430/model_85000.pt\n",
      "2023-01-29 19:15.39 [info     ] DoubleDQN_online_20230129191430: epoch=85 step=85000 epoch=85 metrics={'time_inference': 0.00011798501014709473, 'time_environment_step': 2.0618438720703126e-05, 'time_sample_batch': 2.450060844421387e-05, 'time_algorithm_update': 0.0005751535892486573, 'loss': 0.0604102652259171, 'time_step': 0.0007525773048400879, 'rollout_return': 1.1552051740651954, 'evaluation': 1.5263818210931286} step=85000\n",
      "2023-01-29 19:15.39 [info     ] Model parameters are saved to d3rlpy_logs/DoubleDQN_online_20230129191430/model_86000.pt\n",
      "2023-01-29 19:15.39 [info     ] DoubleDQN_online_20230129191430: epoch=86 step=86000 epoch=86 metrics={'time_inference': 0.00011768507957458497, 'time_environment_step': 2.0508289337158203e-05, 'time_sample_batch': 2.4352550506591796e-05, 'time_algorithm_update': 0.000571807861328125, 'loss': 0.05889679130539298, 'time_step': 0.0007486903667449951, 'rollout_return': 1.178816842437706, 'evaluation': 1.7876020757897693} step=86000\n",
      "2023-01-29 19:15.40 [info     ] Model parameters are saved to d3rlpy_logs/DoubleDQN_online_20230129191430/model_87000.pt\n",
      "2023-01-29 19:15.40 [info     ] DoubleDQN_online_20230129191430: epoch=87 step=87000 epoch=87 metrics={'time_inference': 0.00011924028396606445, 'time_environment_step': 2.073478698730469e-05, 'time_sample_batch': 2.4846076965332032e-05, 'time_algorithm_update': 0.000581632137298584, 'loss': 0.06242741506733, 'time_step': 0.0007608804702758789, 'rollout_return': 1.1480956230955883, 'evaluation': 1.6224980400357698} step=87000\n",
      "2023-01-29 19:15.41 [info     ] Model parameters are saved to d3rlpy_logs/DoubleDQN_online_20230129191430/model_88000.pt\n",
      "2023-01-29 19:15.41 [info     ] DoubleDQN_online_20230129191430: epoch=88 step=88000 epoch=88 metrics={'time_inference': 0.00011811041831970215, 'time_environment_step': 2.0548105239868165e-05, 'time_sample_batch': 2.423524856567383e-05, 'time_algorithm_update': 0.0005756325721740723, 'loss': 0.06278109327889979, 'time_step': 0.0007528362274169921, 'rollout_return': 1.1944585221778412, 'evaluation': 1.754410144963223} step=88000\n",
      "2023-01-29 19:15.42 [info     ] Model parameters are saved to d3rlpy_logs/DoubleDQN_online_20230129191430/model_89000.pt\n",
      "2023-01-29 19:15.42 [info     ] DoubleDQN_online_20230129191430: epoch=89 step=89000 epoch=89 metrics={'time_inference': 0.00011795806884765625, 'time_environment_step': 2.045583724975586e-05, 'time_sample_batch': 2.4235010147094727e-05, 'time_algorithm_update': 0.000572178602218628, 'loss': 0.061300747603178024, 'time_step': 0.0007491171360015869, 'rollout_return': 1.1829298619072743, 'evaluation': 1.5713364234236384} step=89000\n",
      "2023-01-29 19:15.42 [info     ] Model parameters are saved to d3rlpy_logs/DoubleDQN_online_20230129191430/model_90000.pt\n",
      "2023-01-29 19:15.42 [info     ] DoubleDQN_online_20230129191430: epoch=90 step=90000 epoch=90 metrics={'time_inference': 0.00011783576011657714, 'time_environment_step': 2.046537399291992e-05, 'time_sample_batch': 2.4306297302246092e-05, 'time_algorithm_update': 0.0005748422145843506, 'loss': 0.06211498573981226, 'time_step': 0.0007517669200897217, 'rollout_return': 1.1288026740480825, 'evaluation': 1.919466150957988} step=90000\n",
      "2023-01-29 19:15.43 [info     ] Model parameters are saved to d3rlpy_logs/DoubleDQN_online_20230129191430/model_91000.pt\n",
      "2023-01-29 19:15.43 [info     ] DoubleDQN_online_20230129191430: epoch=91 step=91000 epoch=91 metrics={'time_inference': 0.00011816048622131348, 'time_environment_step': 2.056121826171875e-05, 'time_sample_batch': 2.4593114852905273e-05, 'time_algorithm_update': 0.0005747578144073486, 'loss': 0.06268069870211183, 'time_step': 0.0007524135112762451, 'rollout_return': 1.291470134159009, 'evaluation': 1.7770619990863998} step=91000\n",
      "2023-01-29 19:15.44 [info     ] Model parameters are saved to d3rlpy_logs/DoubleDQN_online_20230129191430/model_92000.pt\n",
      "2023-01-29 19:15.44 [info     ] DoubleDQN_online_20230129191430: epoch=92 step=92000 epoch=92 metrics={'time_inference': 0.00011777949333190918, 'time_environment_step': 2.065300941467285e-05, 'time_sample_batch': 2.4320125579833984e-05, 'time_algorithm_update': 0.0005733349323272705, 'loss': 0.0627236593067646, 'time_step': 0.0007503414154052734, 'rollout_return': 1.1807194028682835, 'evaluation': 1.9353145095576587} step=92000\n",
      "2023-01-29 19:15.45 [info     ] Model parameters are saved to d3rlpy_logs/DoubleDQN_online_20230129191430/model_93000.pt\n",
      "2023-01-29 19:15.45 [info     ] DoubleDQN_online_20230129191430: epoch=93 step=93000 epoch=93 metrics={'time_inference': 0.00011801743507385253, 'time_environment_step': 2.059769630432129e-05, 'time_sample_batch': 2.4496793746948242e-05, 'time_algorithm_update': 0.0005740458965301514, 'loss': 0.06239297870919108, 'time_step': 0.0007514703273773193, 'rollout_return': 1.2148620206431875, 'evaluation': 1.9199894212153095} step=93000\n",
      "2023-01-29 19:15.46 [info     ] Model parameters are saved to d3rlpy_logs/DoubleDQN_online_20230129191430/model_94000.pt\n",
      "2023-01-29 19:15.46 [info     ] DoubleDQN_online_20230129191430: epoch=94 step=94000 epoch=94 metrics={'time_inference': 0.00011882996559143066, 'time_environment_step': 2.0651578903198242e-05, 'time_sample_batch': 2.4761199951171874e-05, 'time_algorithm_update': 0.0005810055732727051, 'loss': 0.06572187601961195, 'time_step': 0.0007596240043640137, 'rollout_return': 1.1226869893587934, 'evaluation': 1.637649692356207} step=94000\n",
      "2023-01-29 19:15.46 [info     ] Model parameters are saved to d3rlpy_logs/DoubleDQN_online_20230129191430/model_95000.pt\n",
      "2023-01-29 19:15.46 [info     ] DoubleDQN_online_20230129191430: epoch=95 step=95000 epoch=95 metrics={'time_inference': 0.0001179196834564209, 'time_environment_step': 2.0466089248657225e-05, 'time_sample_batch': 2.4408340454101564e-05, 'time_algorithm_update': 0.0005752975940704346, 'loss': 0.06562102673016489, 'time_step': 0.000752427339553833, 'rollout_return': 1.127043518357244, 'evaluation': 1.7145483879236625} step=95000\n",
      "2023-01-29 19:15.47 [info     ] Model parameters are saved to d3rlpy_logs/DoubleDQN_online_20230129191430/model_96000.pt\n",
      "2023-01-29 19:15.47 [info     ] DoubleDQN_online_20230129191430: epoch=96 step=96000 epoch=96 metrics={'time_inference': 0.0001183924674987793, 'time_environment_step': 2.0861148834228517e-05, 'time_sample_batch': 2.491474151611328e-05, 'time_algorithm_update': 0.0005774736404418945, 'loss': 0.0632844095584005, 'time_step': 0.0007560906410217285, 'rollout_return': 1.1735613807036518, 'evaluation': 1.6894223895837208} step=96000\n",
      "2023-01-29 19:15.48 [info     ] Model parameters are saved to d3rlpy_logs/DoubleDQN_online_20230129191430/model_97000.pt\n",
      "2023-01-29 19:15.48 [info     ] DoubleDQN_online_20230129191430: epoch=97 step=97000 epoch=97 metrics={'time_inference': 0.00012076330184936523, 'time_environment_step': 2.1149396896362303e-05, 'time_sample_batch': 2.570509910583496e-05, 'time_algorithm_update': 0.0005884284973144531, 'loss': 0.0631851527504623, 'time_step': 0.0007708323001861572, 'rollout_return': 1.1309590813992012, 'evaluation': 1.6322537934139987} step=97000\n",
      "2023-01-29 19:15.49 [info     ] Model parameters are saved to d3rlpy_logs/DoubleDQN_online_20230129191430/model_98000.pt\n",
      "2023-01-29 19:15.49 [info     ] DoubleDQN_online_20230129191430: epoch=98 step=98000 epoch=98 metrics={'time_inference': 0.00011834287643432617, 'time_environment_step': 2.062082290649414e-05, 'time_sample_batch': 2.4424076080322264e-05, 'time_algorithm_update': 0.0005751502513885498, 'loss': 0.05977649092115462, 'time_step': 0.0007528977394104004, 'rollout_return': 1.133117165408934, 'evaluation': 1.8694291999286015} step=98000\n",
      "2023-01-29 19:15.49 [info     ] Model parameters are saved to d3rlpy_logs/DoubleDQN_online_20230129191430/model_99000.pt\n",
      "2023-01-29 19:15.49 [info     ] DoubleDQN_online_20230129191430: epoch=99 step=99000 epoch=99 metrics={'time_inference': 0.00011797475814819336, 'time_environment_step': 2.0475387573242186e-05, 'time_sample_batch': 2.4369478225708006e-05, 'time_algorithm_update': 0.0005750973224639892, 'loss': 0.05823020445741713, 'time_step': 0.0007521767616271973, 'rollout_return': 1.1845488530756607, 'evaluation': 1.738162348352585} step=99000\n",
      "2023-01-29 19:15.50 [info     ] Model parameters are saved to d3rlpy_logs/DoubleDQN_online_20230129191430/model_100000.pt\n",
      "2023-01-29 19:15.50 [info     ] DoubleDQN_online_20230129191430: epoch=100 step=100000 epoch=100 metrics={'time_inference': 0.00011809849739074707, 'time_environment_step': 2.0554304122924804e-05, 'time_sample_batch': 2.4332046508789062e-05, 'time_algorithm_update': 0.0005749964714050293, 'loss': 0.05808596037700772, 'time_step': 0.0007523307800292969, 'rollout_return': 1.1951833087279555, 'evaluation': 1.764808634894457} step=100000\n"
     ]
    }
   ],
   "source": [
    "# start training\n",
    "# skip if there is a pre-trained model\n",
    "ddqn.fit_online(\n",
    "    env_,\n",
    "    buffer,\n",
    "    explorer=explorer,\n",
    "    eval_env=env_,\n",
    "    n_steps=100000,\n",
    "    n_steps_per_epoch=1000,\n",
    "    update_start_step=1000,\n",
    ")"
   ]
  },
  {
   "cell_type": "code",
   "execution_count": 32,
   "metadata": {},
   "outputs": [],
   "source": [
    "# save model\n",
    "ddqn.save_model(\"d3rlpy_logs/ddqn.pt\")"
   ]
  },
  {
   "cell_type": "code",
   "execution_count": 33,
   "metadata": {},
   "outputs": [
    {
     "name": "stdout",
     "output_type": "stream",
     "text": [
      "2023-01-29 19:15.50 [warning  ] Parameters will be reinitialized.\n"
     ]
    }
   ],
   "source": [
    "# reload model\n",
    "ddqn.build_with_env(env_)\n",
    "ddqn.load_model(\"d3rlpy_logs/ddqn.pt\")"
   ]
  },
  {
   "cell_type": "code",
   "execution_count": 34,
   "metadata": {},
   "outputs": [
    {
     "data": {
      "text/plain": [
       "Text(0, 0.5, 'episode reward')"
      ]
     },
     "execution_count": 34,
     "metadata": {},
     "output_type": "execute_result"
    },
    {
     "data": {
      "image/png": "[encoded data removed]",
      "text/plain": [
       "<Figure size 640x480 with 1 Axes>"
      ]
     },
     "metadata": {},
     "output_type": "display_data"
    }
   ],
   "source": [
    "# we see that training RL policy can be risky online\n",
    "log_path = sorted(glob(\"d3rlpy_logs/DoubleDQN_online_*/evaluation.csv\"))[-1]\n",
    "df = pd.read_csv(\n",
    "    log_path, \n",
    "    usecols=[1,2],\n",
    "    names=[\"train_episode\", \"episodic_rewards\"]\n",
    ")\n",
    "plt.plot(df[\"train_episode\"], df[\"episodic_rewards\"])\n",
    "plt.title(\"Learning curve of DDQN\")\n",
    "plt.xlabel(\"episode\")\n",
    "plt.ylabel(\"episode reward\")"
   ]
  },
  {
   "cell_type": "code",
   "execution_count": 35,
   "metadata": {},
   "outputs": [],
   "source": [
    "random = DiscreteRandomPolicy()\n",
    "random.build_with_env(env_)"
   ]
  },
  {
   "cell_type": "code",
   "execution_count": 36,
   "metadata": {},
   "outputs": [
    {
     "data": {
      "application/vnd.jupyter.widget-view+json": {
       "model_id": "e2b0193cb6704bebbcfd0e0b504e6a8d",
       "version_major": 2,
       "version_minor": 0
      },
      "text/plain": [
       "[calculate on-policy policy value]:   0%|          | 0/100 [00:00<?, ?it/s]"
      ]
     },
     "metadata": {},
     "output_type": "display_data"
    },
    {
     "data": {
      "application/vnd.jupyter.widget-view+json": {
       "model_id": "2021abae05f84f92a2dc6da68900d901",
       "version_major": 2,
       "version_minor": 0
      },
      "text/plain": [
       "[calculate on-policy policy value]:   0%|          | 0/100 [00:00<?, ?it/s]"
      ]
     },
     "metadata": {},
     "output_type": "display_data"
    },
    {
     "data": {
      "image/png": "[encoded data removed]",
      "text/plain": [
       "<Figure size 400x400 with 1 Axes>"
      ]
     },
     "metadata": {},
     "output_type": "display_data"
    }
   ],
   "source": [
    "# compare the policy performance online\n",
    "visualize_on_policy_policy_value(\n",
    "    env=env,\n",
    "    policies=[ddqn, random],\n",
    "    policy_names=[\"ddqn\", \"random\"],\n",
    "    n_trajectories=100,\n",
    "    random_state=random_state,\n",
    ")"
   ]
  },
  {
   "cell_type": "code",
   "execution_count": 37,
   "metadata": {},
   "outputs": [
    {
     "data": {
      "application/vnd.jupyter.widget-view+json": {
       "model_id": "6d8f122e0eb840428a44f23e8245041d",
       "version_major": 2,
       "version_minor": 0
      },
      "text/plain": [
       "[calculate on-policy policy value]:   0%|          | 0/100 [00:00<?, ?it/s]"
      ]
     },
     "metadata": {},
     "output_type": "display_data"
    },
    {
     "data": {
      "application/vnd.jupyter.widget-view+json": {
       "model_id": "1b8f6e2bcb9e4e738dd7a5a0122c90e4",
       "version_major": 2,
       "version_minor": 0
      },
      "text/plain": [
       "[calculate on-policy policy value]:   0%|          | 0/100 [00:00<?, ?it/s]"
      ]
     },
     "metadata": {},
     "output_type": "display_data"
    },
    {
     "name": "stdout",
     "output_type": "stream",
     "text": [
      "relative improvement: -343.8536121823176\n"
     ]
    }
   ],
   "source": [
    "# on-policy policy value by ddqn policy\n",
    "# largely outperforms the random policy (about 20%)\n",
    "ddqn_performance = calc_on_policy_policy_value(env, ddqn, n_trajectories=100, random_state=random_state)\n",
    "random_performance = calc_on_policy_policy_value(env, random, n_trajectories=100, random_state=random_state)\n",
    "print(\"relative improvement:\", (ddqn_performance - random_performance) / random_performance)"
   ]
  },
  {
   "cell_type": "markdown",
   "metadata": {},
   "source": [
    "Note that, we provide the following functions for online evaluation of the policy performance under `ofrl.ope.online`.\n",
    "\n",
    "(Statistics)\n",
    "\n",
    "* `calc_on_policy_policy_value`\n",
    "* `calc_on_policy_policy_value_interval`\n",
    "* `calc_on_policy_variance`\n",
    "* `calc_on_policy_conditional_value_at_risk`\n",
    "* `calc_on_policy_policy_interquartile_range`\n",
    "* `calc_on_policy_cumulative_distribution_function`\n",
    "\n",
    "(Visualization)\n",
    "* `visualize_on_policy_policy_value`\n",
    "* `visualize_on_policy_policy_value_with_variance`\n",
    "* `visualize_on_policy_cumulative_distribution_function`\n",
    "* `visualize_on_policy_conditional_value_at_risk`\n",
    "* `visualize_on_policy_interquartile_range`"
   ]
  },
  {
   "attachments": {},
   "cell_type": "markdown",
   "metadata": {},
   "source": [
    "## 1. Synthetic Dataset Generation\n",
    "In the previous section, we see how we can interact with the environment *online* using synthetic simulator.  \n",
    "Though simulation is a good starting point for training an agent, eventually we want to deploy our agent (or policy) in the real world environment.  \n",
    "However, online interaction may have potential risk of failure in the real-world.\n",
    "Therefore, we introduce an alternative learning protocol, Offline RL, which aims at training a new policy using only offline logged dataset collected by a behavior policy $\\pi_0$:\n",
    "\n",
    "$$\\mathcal{D}_0 := \\{ \\{ s_t, a_t, s_{t+1}, r_t \\}_{t=1}^T \\}_{i=1}^n \\sim \\prod_{i=1}^n d_{s_0}(s_0) \\prod_{t=1}^T \\pi_0(a_t | s_t) p(s_{t+1} | s_t, a_t) p(r_t | s_t, a_t),$$\n",
    "\n",
    "where $s_t \\in \\mathcal{S}$ is the state observed at timestep $t$, $a_t$ is the action chosen by the behavior policy $\\pi_0$, and $r_t$ is the reward. \n",
    "\n",
    "We prepare an easy-to-use synthetic dataset generator: `SyntheticDataset` class in the dataset module.  \n",
    "By regarding the simulation environment as a hypothetical real-environment, we show how to conduct Offline RL using logged dataset in real-world application.  \n",
    "For detailed description of how to use a real-world dataset, please see #TODO (will be implemented).\n",
    "\n",
    "`SyntheticDataset` class the following arguments:\n",
    "- `env`: Recommender environment for RL defined in the previous section.\n",
    "- `behavior_policy`: RL agent (or algorithm) used for the data collection.\n",
    "- `maximum_step_per_episode`: Maximum number of timesteps in an episode.\n",
    "- `random_state`: Random state."
   ]
  },
  {
   "cell_type": "code",
   "execution_count": 38,
   "metadata": {},
   "outputs": [],
   "source": [
    "# import necessary module from OFRL\n",
    "from ofrl.policy import DiscreteEpsilonGreedyHead"
   ]
  },
  {
   "cell_type": "code",
   "execution_count": 39,
   "metadata": {},
   "outputs": [],
   "source": [
    "behavior_policy = DiscreteEpsilonGreedyHead(\n",
    "    ddqn, \n",
    "    n_actions=env.action_space.n,\n",
    "    epsilon=0.3,\n",
    "    name=\"ddqn_epsilon_0.3\",\n",
    "    random_state=random_state,\n",
    ")"
   ]
  },
  {
   "cell_type": "code",
   "execution_count": 40,
   "metadata": {},
   "outputs": [],
   "source": [
    "# initialize dataset class\n",
    "dataset = SyntheticDataset(\n",
    "    env=env,\n",
    "    max_episode_steps=env.step_per_episode,\n",
    ")"
   ]
  },
  {
   "cell_type": "code",
   "execution_count": 41,
   "metadata": {},
   "outputs": [
    {
     "data": {
      "application/vnd.jupyter.widget-view+json": {
       "model_id": "1526594dc9f3468db0fc6ec84d686bbb",
       "version_major": 2,
       "version_minor": 0
      },
      "text/plain": [
       "[obtain_trajectories]:   0%|          | 0/10000 [00:00<?, ?it/s]"
      ]
     },
     "metadata": {},
     "output_type": "display_data"
    },
    {
     "data": {
      "application/vnd.jupyter.widget-view+json": {
       "model_id": "4b8a292357b046b4a0949f2ca164634b",
       "version_major": 2,
       "version_minor": 0
      },
      "text/plain": [
       "[obtain_trajectories]:   0%|          | 0/10000 [00:00<?, ?it/s]"
      ]
     },
     "metadata": {},
     "output_type": "display_data"
    }
   ],
   "source": [
    "# collect logged data by a behavior policy\n",
    "# skip if there is a preserved logged dataset\n",
    "train_logged_dataset = dataset.obtain_episodes(\n",
    "    behavior_policies=behavior_policy,\n",
    "    n_trajectories=10000, \n",
    "    obtain_info=False,\n",
    "    random_state=random_state,\n",
    ")\n",
    "test_logged_dataset = dataset.obtain_episodes(\n",
    "    behavior_policies=behavior_policy,\n",
    "    n_trajectories=10000, \n",
    "    obtain_info=False,\n",
    "    random_state=random_state + 1,\n",
    ")"
   ]
  },
  {
   "cell_type": "code",
   "execution_count": 42,
   "metadata": {},
   "outputs": [
    {
     "data": {
      "text/plain": [
       "{'size': 100000,\n",
       " 'n_trajectories': 10000,\n",
       " 'step_per_trajectory': 10,\n",
       " 'action_type': 'discrete',\n",
       " 'n_actions': 100,\n",
       " 'action_dim': None,\n",
       " 'action_meaning': None,\n",
       " 'action_keys': None,\n",
       " 'state_dim': 5,\n",
       " 'state_keys': None,\n",
       " 'state': array([[ 0.04479014,  0.11492637, -0.05131316, -0.0280654 ,  0.0347718 ],\n",
       "        [ 0.3332417 ,  0.81095972, -0.37660578, -0.17510302,  0.24248986],\n",
       "        [ 0.33573982,  0.81127316, -0.36992432, -0.17628163,  0.24737709],\n",
       "        ...,\n",
       "        [-0.02714754, -0.2751157 ,  0.76551473, -0.39444382, -0.42658603],\n",
       "        [-0.00305992, -0.28838619,  0.76296553, -0.37898356, -0.43712596],\n",
       "        [ 0.02112386, -0.30138496,  0.75955249, -0.36303955, -0.44721717]]),\n",
       " 'action': array([35,  1, 85, ..., 13, 13, 13]),\n",
       " 'reward': array([ 0.02995955, -0.06758911,  0.10692327, ...,  0.17424734,\n",
       "         0.18073319,  0.1870417 ]),\n",
       " 'done': array([0., 0., 0., ..., 0., 0., 1.]),\n",
       " 'terminal': array([0., 0., 0., ..., 0., 0., 1.]),\n",
       " 'info': {},\n",
       " 'pscore': array([0.703, 0.003, 0.703, ..., 0.703, 0.703, 0.703]),\n",
       " 'behavior_policy': 'ddqn_epsilon_0.3',\n",
       " 'dataset_id': 0}"
      ]
     },
     "execution_count": 42,
     "metadata": {},
     "output_type": "execute_result"
    }
   ],
   "source": [
    "train_logged_dataset"
   ]
  },
  {
   "cell_type": "code",
   "execution_count": 43,
   "metadata": {},
   "outputs": [],
   "source": [
    "with open(\"logs/train_dataset_discrete_ddqn.pkl\", \"wb\") as f:\n",
    "    pickle.dump(train_logged_dataset, f)\n",
    "with open(\"logs/test_dataset_discrete_ddqn.pkl\", \"wb\") as f:\n",
    "    pickle.dump(test_logged_dataset, f)"
   ]
  },
  {
   "cell_type": "code",
   "execution_count": 44,
   "metadata": {},
   "outputs": [],
   "source": [
    "with open(\"logs/train_dataset_discrete_ddqn.pkl\", \"rb\") as f:\n",
    "    train_logged_dataset = pickle.load(f)\n",
    "with open(\"logs/test_dataset_discrete_ddqn.pkl\", \"rb\") as f:\n",
    "    test_logged_dataset = pickle.load(f)"
   ]
  },
  {
   "cell_type": "code",
   "execution_count": 45,
   "metadata": {},
   "outputs": [
    {
     "data": {
      "application/vnd.jupyter.widget-view+json": {
       "model_id": "306acfcb89644f2f93749b7a6b89b66b",
       "version_major": 2,
       "version_minor": 0
      },
      "text/plain": [
       "[calculate on-policy policy value]:   0%|          | 0/100 [00:00<?, ?it/s]"
      ]
     },
     "metadata": {},
     "output_type": "display_data"
    },
    {
     "data": {
      "application/vnd.jupyter.widget-view+json": {
       "model_id": "e0daa34a9ae34c1986afeaa965a5e97b",
       "version_major": 2,
       "version_minor": 0
      },
      "text/plain": [
       "[calculate on-policy policy value]:   0%|          | 0/100 [00:00<?, ?it/s]"
      ]
     },
     "metadata": {},
     "output_type": "display_data"
    },
    {
     "data": {
      "application/vnd.jupyter.widget-view+json": {
       "model_id": "78bac6c18fdd47fda4f819dc37b90622",
       "version_major": 2,
       "version_minor": 0
      },
      "text/plain": [
       "[calculate on-policy policy value]:   0%|          | 0/100 [00:00<?, ?it/s]"
      ]
     },
     "metadata": {},
     "output_type": "display_data"
    },
    {
     "data": {
      "image/png": "[encoded data removed]",
      "text/plain": [
       "<Figure size 600x400 with 1 Axes>"
      ]
     },
     "metadata": {},
     "output_type": "display_data"
    }
   ],
   "source": [
    "# compare the policy performance online\n",
    "# almost the same performance as greedy ddqn\n",
    "visualize_on_policy_policy_value(\n",
    "    env=env,\n",
    "    policies=[ddqn, behavior_policy, random],\n",
    "    policy_names=[\"ddqn\", \"ddqn (e=0.3)\", \"random\"],\n",
    "    n_trajectories=100,\n",
    "    random_state=random_state,\n",
    ")"
   ]
  },
  {
   "attachments": {},
   "cell_type": "markdown",
   "metadata": {},
   "source": [
    "For more about the data collection and visualization, please refer to [examples/quickstart/rec_synthetic_data_collection.ipynb](https://github.com/negocia-inc/rec_reinforcement_learing/blob/ope/examples/quickstart/rec_synthetic_data_collection.ipynb)."
   ]
  },
  {
   "cell_type": "markdown",
   "metadata": {},
   "source": [
    "## 2. Offline Reinforcement Learning\n",
    "In this section, we learn a new policy in an offline manner, without interacting with the environment.  \n",
    "We use [d3rlpy](https://github.com/takuseno/d3rlpy)'s implementation of algorithms."
   ]
  },
  {
   "cell_type": "code",
   "execution_count": 46,
   "metadata": {},
   "outputs": [],
   "source": [
    "# import modules from d3rlpy\n",
    "from d3rlpy.dataset import MDPDataset\n",
    "from d3rlpy.algos import DiscreteCQL\n",
    "from d3rlpy.ope import DiscreteFQE\n",
    "from d3rlpy.metrics.scorer import evaluate_on_environment"
   ]
  },
  {
   "cell_type": "code",
   "execution_count": 47,
   "metadata": {},
   "outputs": [],
   "source": [
    "offlinerl_dataset = MDPDataset(\n",
    "    observations=train_logged_dataset[\"state\"],\n",
    "    actions=train_logged_dataset[\"action\"],\n",
    "    rewards=train_logged_dataset[\"reward\"],\n",
    "    terminals=train_logged_dataset[\"done\"],\n",
    "    episode_terminals=train_logged_dataset[\"done\"],\n",
    "    discrete_action=True,\n",
    ")\n",
    "train_episodes, test_episodes = train_test_split(offlinerl_dataset, test_size=0.2, random_state=random_state)"
   ]
  },
  {
   "cell_type": "code",
   "execution_count": 48,
   "metadata": {},
   "outputs": [],
   "source": [
    "# Use Conservative Q-Learning policy\n",
    "cql = DiscreteCQL(\n",
    "    encoder_factory=VectorEncoderFactory(hidden_units=[30, 30]),\n",
    "    q_func_factory=MeanQFunctionFactory(),\n",
    "    use_gpu=torch.cuda.is_available(),\n",
    ")"
   ]
  },
  {
   "cell_type": "code",
   "execution_count": 49,
   "metadata": {},
   "outputs": [
    {
     "name": "stdout",
     "output_type": "stream",
     "text": [
      "2023-01-29 19:16.35 [debug    ] RandomIterator is selected.\n",
      "2023-01-29 19:16.35 [info     ] Directory is created at d3rlpy_logs/DiscreteCQL_20230129191635\n",
      "2023-01-29 19:16.35 [debug    ] Building models...\n",
      "2023-01-29 19:16.35 [debug    ] Models have been built.\n",
      "2023-01-29 19:16.35 [info     ] Parameters are saved to d3rlpy_logs/DiscreteCQL_20230129191635/params.json params={'action_scaler': None, 'alpha': 1.0, 'batch_size': 32, 'encoder_factory': {'type': 'vector', 'params': {'hidden_units': [30, 30], 'activation': 'relu', 'use_batch_norm': False, 'dropout_rate': None, 'use_dense': False}}, 'gamma': 0.99, 'generated_maxlen': 100000, 'learning_rate': 6.25e-05, 'n_critics': 1, 'n_frames': 1, 'n_steps': 1, 'optim_factory': {'optim_cls': 'Adam', 'betas': (0.9, 0.999), 'eps': 1e-08, 'weight_decay': 0, 'amsgrad': False}, 'q_func_factory': {'type': 'mean', 'params': {'share_encoder': False}}, 'real_ratio': 1.0, 'reward_scaler': None, 'scaler': None, 'target_update_interval': 8000, 'use_gpu': None, 'algorithm': 'DiscreteCQL', 'observation_shape': (5,), 'action_size': 100}\n"
     ]
    },
    {
     "data": {
      "application/vnd.jupyter.widget-view+json": {
       "model_id": "36a157998ff34ae8b649043f11765c01",
       "version_major": 2,
       "version_minor": 0
      },
      "text/plain": [
       "Epoch 1/1:   0%|          | 0/10000 [00:00<?, ?it/s]"
      ]
     },
     "metadata": {},
     "output_type": "display_data"
    },
    {
     "name": "stdout",
     "output_type": "stream",
     "text": [
      "2023-01-29 19:16.46 [info     ] DiscreteCQL_20230129191635: epoch=1 step=10000 epoch=1 metrics={'time_sample_batch': 6.645965576171875e-05, 'time_algorithm_update': 0.0009004708528518677, 'loss': 3.9869645569324494, 'time_step': 0.0010160348892211913, 'environment': 1.36142037630376} step=10000\n",
      "2023-01-29 19:16.46 [info     ] Model parameters are saved to d3rlpy_logs/DiscreteCQL_20230129191635/model_10000.pt\n"
     ]
    },
    {
     "data": {
      "text/plain": [
       "[(1,\n",
       "  {'time_sample_batch': 6.645965576171875e-05,\n",
       "   'time_algorithm_update': 0.0009004708528518677,\n",
       "   'loss': 3.9869645569324494,\n",
       "   'time_step': 0.0010160348892211913,\n",
       "   'environment': 1.36142037630376})]"
      ]
     },
     "execution_count": 49,
     "metadata": {},
     "output_type": "execute_result"
    }
   ],
   "source": [
    "cql.fit(\n",
    "    train_episodes,\n",
    "    eval_episodes=test_episodes,\n",
    "    n_steps=10000,\n",
    "    scorers={\n",
    "        'environment': evaluate_on_environment(env_),\n",
    "        # to record training process w/ ground truth policy value, which is unseen to the agent\n",
    "    },\n",
    ")"
   ]
  },
  {
   "cell_type": "code",
   "execution_count": 50,
   "metadata": {},
   "outputs": [],
   "source": [
    "# save model\n",
    "cql.save_model(\"d3rlpy_logs/cql_discrete.pt\")"
   ]
  },
  {
   "cell_type": "code",
   "execution_count": 51,
   "metadata": {},
   "outputs": [
    {
     "name": "stdout",
     "output_type": "stream",
     "text": [
      "2023-01-29 19:16.46 [warning  ] Parameters will be reinitialized.\n"
     ]
    }
   ],
   "source": [
    "# reload model\n",
    "cql.build_with_env(env_)\n",
    "cql.load_model(\"d3rlpy_logs/cql_discrete.pt\")"
   ]
  },
  {
   "cell_type": "code",
   "execution_count": 52,
   "metadata": {},
   "outputs": [
    {
     "data": {
      "application/vnd.jupyter.widget-view+json": {
       "model_id": "a26fa8b81bdb45b7bd3d448eeca1a939",
       "version_major": 2,
       "version_minor": 0
      },
      "text/plain": [
       "[calculate on-policy policy value]:   0%|          | 0/100 [00:00<?, ?it/s]"
      ]
     },
     "metadata": {},
     "output_type": "display_data"
    },
    {
     "data": {
      "application/vnd.jupyter.widget-view+json": {
       "model_id": "d3797b4738284662afdc62c149da32d1",
       "version_major": 2,
       "version_minor": 0
      },
      "text/plain": [
       "[calculate on-policy policy value]:   0%|          | 0/100 [00:00<?, ?it/s]"
      ]
     },
     "metadata": {},
     "output_type": "display_data"
    },
    {
     "data": {
      "application/vnd.jupyter.widget-view+json": {
       "model_id": "293dc4180b644a0fbf68724f28929e95",
       "version_major": 2,
       "version_minor": 0
      },
      "text/plain": [
       "[calculate on-policy policy value]:   0%|          | 0/100 [00:00<?, ?it/s]"
      ]
     },
     "metadata": {},
     "output_type": "display_data"
    },
    {
     "data": {
      "application/vnd.jupyter.widget-view+json": {
       "model_id": "12c0da8a16a64eaca267ae24172d8772",
       "version_major": 2,
       "version_minor": 0
      },
      "text/plain": [
       "[calculate on-policy policy value]:   0%|          | 0/100 [00:00<?, ?it/s]"
      ]
     },
     "metadata": {},
     "output_type": "display_data"
    },
    {
     "data": {
      "image/png": "[encoded data removed]",
      "text/plain": [
       "<Figure size 800x400 with 1 Axes>"
      ]
     },
     "metadata": {},
     "output_type": "display_data"
    }
   ],
   "source": [
    "# compare the policy performance online\n",
    "# not better than online policy, but achieves almost the same performance\n",
    "# meaning that we can learn a reasonable policy without interacting with the environment!\n",
    "visualize_on_policy_policy_value(\n",
    "    env=env,\n",
    "    policies=[ddqn, behavior_policy, cql, random],\n",
    "    policy_names=[\"ddqn\", \"ddqn (e=0.3)\", \"cql (offline)\", \"random\"],\n",
    "    n_trajectories=100,\n",
    "    random_state=random_state,\n",
    ")"
   ]
  },
  {
   "cell_type": "markdown",
   "metadata": {},
   "source": [
    "## 3. Off-Policy Evaluation and Evaluation of Offline RL methods\n",
    "In the previous section, we verified the performance of a learned policy via online interaction (aka A/B tests).  \n",
    "However, it could be risky because the policy may perform poorly in an online environment.  \n",
    "To tackle this issue, we aim at evaluating the performance of a policy offline, to gain some prior knowledge on how agent works in the environment.\n",
    "\n",
    "#### Estimation Target\n",
    "\n",
    "The goal to estimate the estimators' average policy performance, the *policy value*.\n",
    "\n",
    "$$ V(\\pi) := \\mathbb{E}\\left[\\sum_{t=1}^T \\gamma^{t-1} r_t \\mid \\pi \\right] $$"
   ]
  },
  {
   "cell_type": "code",
   "execution_count": 53,
   "metadata": {},
   "outputs": [],
   "source": [
    "# import ope modules from OFRL\n",
    "from ofrl.ope import CreateOPEInput\n",
    "from ofrl.ope import OffPolicyEvaluation as OPE\n",
    "from ofrl.ope import DiscreteDirectMethod as DM\n",
    "from ofrl.ope import DiscreteTrajectoryWiseImportanceSampling as TIS\n",
    "from ofrl.ope import DiscretePerDecisionImportanceSampling as PDIS\n",
    "from ofrl.ope import DiscreteDoublyRobust as DR\n",
    "from ofrl.ope import DiscreteSelfNormalizedTrajectoryWiseImportanceSampling as SNTIS\n",
    "from ofrl.ope import DiscreteSelfNormalizedPerDecisionImportanceSampling as SNPDIS\n",
    "from ofrl.ope import DiscreteSelfNormalizedDoublyRobust as SNDR"
   ]
  },
  {
   "cell_type": "code",
   "execution_count": 54,
   "metadata": {},
   "outputs": [],
   "source": [
    "# define evaluation policies\n",
    "cql_ = DiscreteEpsilonGreedyHead(base_policy=cql, n_actions=env.action_space.n, name=\"cql\", epsilon=0.0, random_state=random_state)\n",
    "ddqn_ = DiscreteEpsilonGreedyHead(base_policy=ddqn, n_actions=env.action_space.n, name=\"ddqn\", epsilon=0.0, random_state=random_state)\n",
    "random_ = DiscreteEpsilonGreedyHead(base_policy=random, n_actions=env.action_space.n, name=\"random\", epsilon=1.0, random_state=random_state)\n",
    "evaluation_policies = [cql_, ddqn_, random_]"
   ]
  },
  {
   "cell_type": "code",
   "execution_count": 55,
   "metadata": {},
   "outputs": [],
   "source": [
    "# first, prepare OPE inputs\n",
    "prep = CreateOPEInput(\n",
    "    env=env,\n",
    "    model_args={\n",
    "        \"fqe\": {\n",
    "            \"encoder_factory\": VectorEncoderFactory(hidden_units=[30, 30]),\n",
    "            \"q_func_factory\": MeanQFunctionFactory(),\n",
    "            \"learning_rate\": 1e-4,\n",
    "            \"use_gpu\": torch.cuda.is_available(),\n",
    "        }\n",
    "    },\n",
    "    state_scaler=MinMaxScaler(\n",
    "        minimum=test_logged_dataset[\"state\"].min(axis=0),\n",
    "        maximum=test_logged_dataset[\"state\"].max(axis=0),\n",
    "    ),\n",
    ")"
   ]
  },
  {
   "cell_type": "code",
   "execution_count": 56,
   "metadata": {},
   "outputs": [
    {
     "data": {
      "application/vnd.jupyter.widget-view+json": {
       "model_id": "c929d68e50c24de5b53e0e8190a45765",
       "version_major": 2,
       "version_minor": 0
      },
      "text/plain": [
       "[fit FQE model]:   0%|          | 0/3 [00:00<?, ?it/s]"
      ]
     },
     "metadata": {},
     "output_type": "display_data"
    },
    {
     "name": "stdout",
     "output_type": "stream",
     "text": [
      "2023-01-29 19:16.48 [debug    ] RoundIterator is selected.\n",
      "2023-01-29 19:16.48 [info     ] Directory is created at d3rlpy_logs/DiscreteFQE_20230129191648\n",
      "2023-01-29 19:16.48 [debug    ] Fitting scaler...              scaler=min_max\n",
      "2023-01-29 19:16.48 [debug    ] Building models...\n",
      "2023-01-29 19:16.48 [debug    ] Models have been built.\n",
      "2023-01-29 19:16.48 [info     ] Parameters are saved to d3rlpy_logs/DiscreteFQE_20230129191648/params.json params={'action_scaler': None, 'batch_size': 100, 'encoder_factory': {'type': 'vector', 'params': {'hidden_units': [30, 30], 'activation': 'relu', 'use_batch_norm': False, 'dropout_rate': None, 'use_dense': False}}, 'gamma': 1.0, 'generated_maxlen': 100000, 'learning_rate': 0.0001, 'n_critics': 1, 'n_frames': 1, 'n_steps': 1, 'optim_factory': {'optim_cls': 'Adam', 'betas': (0.9, 0.999), 'eps': 1e-08, 'weight_decay': 0, 'amsgrad': False}, 'q_func_factory': {'type': 'mean', 'params': {'share_encoder': False}}, 'real_ratio': 1.0, 'reward_scaler': None, 'scaler': {'type': 'min_max', 'params': {'maximum': array([0.90941022, 0.86425795, 0.9723564 , 0.85641503, 0.70348598]), 'minimum': array([-0.87370457, -0.95270068, -0.83243213, -0.84546495, -0.8563057 ])}}, 'target_update_interval': 100, 'use_gpu': None, 'algorithm': 'DiscreteFQE', 'observation_shape': (5,), 'action_size': 100}\n"
     ]
    },
    {
     "data": {
      "application/vnd.jupyter.widget-view+json": {
       "model_id": "9518e4d37fab4377a289fd28e4a2747c",
       "version_major": 2,
       "version_minor": 0
      },
      "text/plain": [
       "Epoch 1/1:   0%|          | 0/1000 [00:00<?, ?it/s]"
      ]
     },
     "metadata": {},
     "output_type": "display_data"
    },
    {
     "name": "stdout",
     "output_type": "stream",
     "text": [
      "2023-01-29 19:16.49 [info     ] DiscreteFQE_20230129191648: epoch=1 step=1000 epoch=1 metrics={'time_sample_batch': 7.85984992980957e-05, 'time_algorithm_update': 0.0007618527412414551, 'loss': 0.02817092270590365, 'time_step': 0.0008687317371368408} step=1000\n",
      "2023-01-29 19:16.49 [info     ] Model parameters are saved to d3rlpy_logs/DiscreteFQE_20230129191648/model_1000.pt\n",
      "2023-01-29 19:16.49 [debug    ] RoundIterator is selected.\n",
      "2023-01-29 19:16.49 [info     ] Directory is created at d3rlpy_logs/DiscreteFQE_20230129191649\n",
      "2023-01-29 19:16.49 [debug    ] Fitting scaler...              scaler=min_max\n",
      "2023-01-29 19:16.49 [debug    ] Building models...\n",
      "2023-01-29 19:16.49 [debug    ] Models have been built.\n",
      "2023-01-29 19:16.49 [info     ] Parameters are saved to d3rlpy_logs/DiscreteFQE_20230129191649/params.json params={'action_scaler': None, 'batch_size': 100, 'encoder_factory': {'type': 'vector', 'params': {'hidden_units': [30, 30], 'activation': 'relu', 'use_batch_norm': False, 'dropout_rate': None, 'use_dense': False}}, 'gamma': 1.0, 'generated_maxlen': 100000, 'learning_rate': 0.0001, 'n_critics': 1, 'n_frames': 1, 'n_steps': 1, 'optim_factory': {'optim_cls': 'Adam', 'betas': (0.9, 0.999), 'eps': 1e-08, 'weight_decay': 0, 'amsgrad': False}, 'q_func_factory': {'type': 'mean', 'params': {'share_encoder': False}}, 'real_ratio': 1.0, 'reward_scaler': None, 'scaler': {'type': 'min_max', 'params': {'maximum': array([0.90941022, 0.86425795, 0.9723564 , 0.85641503, 0.70348598]), 'minimum': array([-0.87370457, -0.95270068, -0.83243213, -0.84546495, -0.8563057 ])}}, 'target_update_interval': 100, 'use_gpu': None, 'algorithm': 'DiscreteFQE', 'observation_shape': (5,), 'action_size': 100}\n"
     ]
    },
    {
     "data": {
      "application/vnd.jupyter.widget-view+json": {
       "model_id": "5f7eaf4cd9fb4b04b63c9a54bca9b9b7",
       "version_major": 2,
       "version_minor": 0
      },
      "text/plain": [
       "Epoch 1/1:   0%|          | 0/1000 [00:00<?, ?it/s]"
      ]
     },
     "metadata": {},
     "output_type": "display_data"
    },
    {
     "name": "stdout",
     "output_type": "stream",
     "text": [
      "2023-01-29 19:16.50 [info     ] DiscreteFQE_20230129191649: epoch=1 step=1000 epoch=1 metrics={'time_sample_batch': 7.63087272644043e-05, 'time_algorithm_update': 0.0007639861106872558, 'loss': 0.02729422944691032, 'time_step': 0.0008693301677703858} step=1000\n",
      "2023-01-29 19:16.50 [info     ] Model parameters are saved to d3rlpy_logs/DiscreteFQE_20230129191649/model_1000.pt\n",
      "2023-01-29 19:16.50 [debug    ] RoundIterator is selected.\n",
      "2023-01-29 19:16.50 [info     ] Directory is created at d3rlpy_logs/DiscreteFQE_20230129191650\n",
      "2023-01-29 19:16.50 [debug    ] Fitting scaler...              scaler=min_max\n",
      "2023-01-29 19:16.50 [debug    ] Building models...\n",
      "2023-01-29 19:16.50 [debug    ] Models have been built.\n",
      "2023-01-29 19:16.50 [info     ] Parameters are saved to d3rlpy_logs/DiscreteFQE_20230129191650/params.json params={'action_scaler': None, 'batch_size': 100, 'encoder_factory': {'type': 'vector', 'params': {'hidden_units': [30, 30], 'activation': 'relu', 'use_batch_norm': False, 'dropout_rate': None, 'use_dense': False}}, 'gamma': 1.0, 'generated_maxlen': 100000, 'learning_rate': 0.0001, 'n_critics': 1, 'n_frames': 1, 'n_steps': 1, 'optim_factory': {'optim_cls': 'Adam', 'betas': (0.9, 0.999), 'eps': 1e-08, 'weight_decay': 0, 'amsgrad': False}, 'q_func_factory': {'type': 'mean', 'params': {'share_encoder': False}}, 'real_ratio': 1.0, 'reward_scaler': None, 'scaler': {'type': 'min_max', 'params': {'maximum': array([0.90941022, 0.86425795, 0.9723564 , 0.85641503, 0.70348598]), 'minimum': array([-0.87370457, -0.95270068, -0.83243213, -0.84546495, -0.8563057 ])}}, 'target_update_interval': 100, 'use_gpu': None, 'algorithm': 'DiscreteFQE', 'observation_shape': (5,), 'action_size': 100}\n"
     ]
    },
    {
     "data": {
      "application/vnd.jupyter.widget-view+json": {
       "model_id": "a825892ec7064d6d8954037964c3ecf8",
       "version_major": 2,
       "version_minor": 0
      },
      "text/plain": [
       "Epoch 1/1:   0%|          | 0/1000 [00:00<?, ?it/s]"
      ]
     },
     "metadata": {},
     "output_type": "display_data"
    },
    {
     "name": "stdout",
     "output_type": "stream",
     "text": [
      "2023-01-29 19:16.51 [info     ] DiscreteFQE_20230129191650: epoch=1 step=1000 epoch=1 metrics={'time_sample_batch': 7.615852355957032e-05, 'time_algorithm_update': 0.0006149575710296631, 'loss': 0.013406115298625081, 'time_step': 0.0007204749584197998} step=1000\n",
      "2023-01-29 19:16.51 [info     ] Model parameters are saved to d3rlpy_logs/DiscreteFQE_20230129191650/model_1000.pt\n"
     ]
    },
    {
     "data": {
      "application/vnd.jupyter.widget-view+json": {
       "model_id": "5142ff7c567644c1b2670a83a5b8ab2a",
       "version_major": 2,
       "version_minor": 0
      },
      "text/plain": [
       "[collect input data: eval_policy]:   0%|          | 0/3 [00:00<?, ?it/s]"
      ]
     },
     "metadata": {},
     "output_type": "display_data"
    },
    {
     "data": {
      "application/vnd.jupyter.widget-view+json": {
       "model_id": "b5e040a7109e4558b64775b0808efec7",
       "version_major": 2,
       "version_minor": 0
      },
      "text/plain": [
       "[calculate on-policy policy value]:   0%|          | 0/100 [00:00<?, ?it/s]"
      ]
     },
     "metadata": {},
     "output_type": "display_data"
    },
    {
     "data": {
      "application/vnd.jupyter.widget-view+json": {
       "model_id": "b65aae1c127840f19dbe0b7e8087cb09",
       "version_major": 2,
       "version_minor": 0
      },
      "text/plain": [
       "[calculate on-policy policy value]:   0%|          | 0/100 [00:00<?, ?it/s]"
      ]
     },
     "metadata": {},
     "output_type": "display_data"
    },
    {
     "data": {
      "application/vnd.jupyter.widget-view+json": {
       "model_id": "2af5fb3b9c014eedbf79898d7867b225",
       "version_major": 2,
       "version_minor": 0
      },
      "text/plain": [
       "[calculate on-policy policy value]:   0%|          | 0/100 [00:00<?, ?it/s]"
      ]
     },
     "metadata": {},
     "output_type": "display_data"
    }
   ],
   "source": [
    "# takes time\n",
    "input_dict = prep.obtain_whole_inputs(\n",
    "    logged_dataset=test_logged_dataset,\n",
    "    evaluation_policies=evaluation_policies,\n",
    "    require_value_prediction=True,\n",
    "    n_trajectories_on_policy_evaluation=100,\n",
    "    random_state=random_state,\n",
    ")"
   ]
  },
  {
   "cell_type": "code",
   "execution_count": 57,
   "metadata": {},
   "outputs": [],
   "source": [
    "with open(\"logs/ope_input_dict_discrete.pkl\", \"wb\") as f:\n",
    "    pickle.dump(input_dict, f)"
   ]
  },
  {
   "cell_type": "code",
   "execution_count": 58,
   "metadata": {},
   "outputs": [],
   "source": [
    "with open(\"logs/ope_input_dict_discrete.pkl\", \"rb\") as f:\n",
    "    input_dict = pickle.load(f)"
   ]
  },
  {
   "cell_type": "code",
   "execution_count": 59,
   "metadata": {},
   "outputs": [],
   "source": [
    "ope = OPE(\n",
    "    logged_dataset=test_logged_dataset,\n",
    "    ope_estimators=[DM(), TIS(), PDIS(), DR(), SNTIS(), SNPDIS(), SNDR()],\n",
    ")"
   ]
  },
  {
   "cell_type": "code",
   "execution_count": 60,
   "metadata": {},
   "outputs": [],
   "source": [
    "# performance estimation by ope\n",
    "policy_value_df_dict, policy_value_interval_df_dict = ope.summarize_off_policy_estimates(input_dict, random_state=random_state)"
   ]
  },
  {
   "cell_type": "code",
   "execution_count": 61,
   "metadata": {},
   "outputs": [
    {
     "data": {
      "text/plain": [
       "{'cql':            policy_value  relative_policy_value\n",
       " on_policy      1.736245               1.000000\n",
       " dm             0.841074               0.484421\n",
       " tis            2.467810               1.421349\n",
       " pdis           1.577253               0.908427\n",
       " dr             1.388900               0.799945\n",
       " sntis          2.076747               1.196114\n",
       " snpdis         1.936479               1.115326\n",
       " sndr           1.946996               1.121383,\n",
       " 'ddqn':            policy_value  relative_policy_value\n",
       " on_policy      1.723291               1.000000\n",
       " dm             0.894830               0.519256\n",
       " tis            1.472429               0.854428\n",
       " pdis           1.668313               0.968097\n",
       " dr             1.801468               1.045365\n",
       " sntis          1.702344               0.987845\n",
       " snpdis         1.713520               0.994330\n",
       " sndr           1.708680               0.991522,\n",
       " 'random':            policy_value  relative_policy_value\n",
       " on_policy     -0.022150                    NaN\n",
       " dm             0.056087                    NaN\n",
       " tis            5.283669                    NaN\n",
       " pdis           2.199880                    NaN\n",
       " dr             1.541198                    NaN\n",
       " sntis          0.307972                    NaN\n",
       " snpdis         0.271255                    NaN\n",
       " sndr           0.300857                    NaN}"
      ]
     },
     "execution_count": 61,
     "metadata": {},
     "output_type": "execute_result"
    }
   ],
   "source": [
    "# estimated policy performance\n",
    "policy_value_df_dict"
   ]
  },
  {
   "cell_type": "code",
   "execution_count": 62,
   "metadata": {},
   "outputs": [
    {
     "data": {
      "text/plain": [
       "{'cql':                mean  95.0% CI (lower)  95.0% CI (upper)\n",
       " on_policy  1.733483          1.641410          1.819005\n",
       " dm         0.841060          0.840025          0.841889\n",
       " tis        2.176159          0.621904          4.261869\n",
       " pdis       1.474999          0.904902          2.249968\n",
       " dr         1.409794          1.215959          1.572332\n",
       " sntis      1.831313          0.523354          3.586509\n",
       " snpdis     1.824172          1.192153          2.688434\n",
       " sndr       1.938392          1.807487          2.126104,\n",
       " 'ddqn':                mean  95.0% CI (lower)  95.0% CI (upper)\n",
       " on_policy  1.721272          1.626087          1.802342\n",
       " dm         0.894820          0.893321          0.896035\n",
       " tis        1.463512          1.311116          1.672788\n",
       " pdis       1.667146          1.596939          1.745263\n",
       " dr         1.805916          1.735204          1.883347\n",
       " sntis      1.692035          1.515843          1.933989\n",
       " snpdis     1.712200          1.637914          1.796070\n",
       " sndr       1.713927          1.632037          1.802561,\n",
       " 'random':                mean  95.0% CI (lower)  95.0% CI (upper)\n",
       " on_policy -0.019863         -0.075880          0.034760\n",
       " dm         0.056086          0.056065          0.056105\n",
       " tis        5.755006         -0.005541         20.901194\n",
       " pdis       2.441990         -0.930730          6.841894\n",
       " dr         1.552976          0.050244          4.425137\n",
       " sntis      0.335445         -0.000323          1.218280\n",
       " snpdis     0.279693         -0.029776          0.673156\n",
       " sndr       0.287033          0.060292          0.570530}"
      ]
     },
     "execution_count": 62,
     "metadata": {},
     "output_type": "execute_result"
    }
   ],
   "source": [
    "# estimated confidence intervals of the policy performance\n",
    "policy_value_interval_df_dict"
   ]
  },
  {
   "cell_type": "markdown",
   "metadata": {},
   "source": [
    "## 4. Evaluation of OPE methods\n",
    "Now, we evaluate how well the ope estimators estimated the policy value."
   ]
  },
  {
   "cell_type": "code",
   "execution_count": 63,
   "metadata": {},
   "outputs": [
    {
     "data": {
      "image/png": "[encoded data removed]",
      "text/plain": [
       "<Figure size 1400x1200 with 3 Axes>"
      ]
     },
     "metadata": {},
     "output_type": "display_data"
    }
   ],
   "source": [
    "# we can visualize and compare the result\n",
    "# it seems that DM tends to have a bias though the variance is quite small, \n",
    "# while (trajectory-wise) importance sampling estimators have a smaller bias with a larger variance.\n",
    "# self-normalized estimators also works well\n",
    "ope.visualize_off_policy_estimates(input_dict, random_state=random_state, sharey=False)"
   ]
  },
  {
   "cell_type": "code",
   "execution_count": 64,
   "metadata": {},
   "outputs": [
    {
     "data": {
      "text/html": [
       "<div>\n",
       "<style scoped>\n",
       "    .dataframe tbody tr th:only-of-type {\n",
       "        vertical-align: middle;\n",
       "    }\n",
       "\n",
       "    .dataframe tbody tr th {\n",
       "        vertical-align: top;\n",
       "    }\n",
       "\n",
       "    .dataframe thead th {\n",
       "        text-align: right;\n",
       "    }\n",
       "</style>\n",
       "<table border=\"1\" class=\"dataframe\">\n",
       "  <thead>\n",
       "    <tr style=\"text-align: right;\">\n",
       "      <th></th>\n",
       "      <th>cql</th>\n",
       "      <th>ddqn</th>\n",
       "      <th>random</th>\n",
       "    </tr>\n",
       "  </thead>\n",
       "  <tbody>\n",
       "    <tr>\n",
       "      <th>dm</th>\n",
       "      <td>0.801331</td>\n",
       "      <td>0.686348</td>\n",
       "      <td>0.006121</td>\n",
       "    </tr>\n",
       "    <tr>\n",
       "      <th>tis</th>\n",
       "      <td>0.535187</td>\n",
       "      <td>0.062932</td>\n",
       "      <td>28.151714</td>\n",
       "    </tr>\n",
       "    <tr>\n",
       "      <th>pdis</th>\n",
       "      <td>0.025279</td>\n",
       "      <td>0.003023</td>\n",
       "      <td>4.937420</td>\n",
       "    </tr>\n",
       "    <tr>\n",
       "      <th>dr</th>\n",
       "      <td>0.120649</td>\n",
       "      <td>0.006112</td>\n",
       "      <td>2.444057</td>\n",
       "    </tr>\n",
       "    <tr>\n",
       "      <th>sntis</th>\n",
       "      <td>0.115941</td>\n",
       "      <td>0.000439</td>\n",
       "      <td>0.108981</td>\n",
       "    </tr>\n",
       "    <tr>\n",
       "      <th>snpdis</th>\n",
       "      <td>0.040094</td>\n",
       "      <td>0.000095</td>\n",
       "      <td>0.086087</td>\n",
       "    </tr>\n",
       "    <tr>\n",
       "      <th>sndr</th>\n",
       "      <td>0.044416</td>\n",
       "      <td>0.000213</td>\n",
       "      <td>0.104334</td>\n",
       "    </tr>\n",
       "  </tbody>\n",
       "</table>\n",
       "</div>"
      ],
      "text/plain": [
       "             cql      ddqn     random\n",
       "dm      0.801331  0.686348   0.006121\n",
       "tis     0.535187  0.062932  28.151714\n",
       "pdis    0.025279  0.003023   4.937420\n",
       "dr      0.120649  0.006112   2.444057\n",
       "sntis   0.115941  0.000439   0.108981\n",
       "snpdis  0.040094  0.000095   0.086087\n",
       "sndr    0.044416  0.000213   0.104334"
      ]
     },
     "execution_count": 64,
     "metadata": {},
     "output_type": "execute_result"
    }
   ],
   "source": [
    "# squared-error (se) measures the estimation accuracy of OPE\n",
    "eval_metric_ope_df = ope.evaluate_performance_of_ope_estimators(\n",
    "    input_dict, \n",
    "    metric=\"se\",\n",
    "    return_by_dataframe=True,\n",
    ")\n",
    "eval_metric_ope_df"
   ]
  },
  {
   "attachments": {},
   "cell_type": "markdown",
   "metadata": {},
   "source": [
    "For more advanced topics in OPE (e.g., cumulative distribution function estimation) and OPS, please refer to [examples/quickstart/REC_synthetic_discrete_advanced.ipynb](https://github.com/negocia-inc/REC_reinforcement_learing/blob/ope/examples/quickstart/REC_synthetic_discrete_advanced.ipynb). \n",
    "\n",
    "For more advanced OPE estimators (e.g., state(-action) marginal estimators and double reinforcement learning), please refer to [examples/quickstart/REC_synthetic_discrete_zoo.ipynb](https://github.com/negocia-inc/REC_reinforcement_learing/blob/ope/examples/quickstart/REC_synthetic_discrete_zoo.ipynb). \n",
    "\n",
    "For the examples in the continuous action space, please refer to [examples/quickstart/REC_synthetic_continuous_basic.ipynb](https://github.com/negocia-inc/REC_reinforcement_learing/blob/ope/examples/quickstart/REC_synthetic_continuous_basic.ipynb)."
   ]
  },
  {
   "cell_type": "markdown",
   "metadata": {},
   "source": [
    "## Reference\n",
    "\n",
    "- Yuta Saito, Shunsuke Aihara, Megumi Matsutani, and Yusuke Narita. \\\n",
    "\"Open Bandit Dataset and Pipeline: Towards Realistic and Reproducible Off-Policy Evaluation.\", 2021.\n",
    "\n",
    "- Takuma Seno and Michita Imai. \\\n",
    "\"d3rlpy: An Offline Deep Reinforcement Library.\", 2021.\n",
    "\n",
    "- Sergey Levine, Aviral Kumar, George Tucker, and Justin Fu. \\\n",
    "\"Offline Reinforcement Learning: Tutorial, Review, and Perspectives on Open Problems.\" 2020.\n",
    "\n",
    "- Aviral Kumar, Aurick Zhou, George Tucker, and Sergey Levine. \\\n",
    "\"Conservative Q-Learning for Offline Reinforcement Learning.\", 2020.\n",
    "\n",
    "- Nathan Kallus and Masatoshi Uehara. \\\n",
    "\"Intrinsically Efficient, Stable, and Bounded Off-Policy Evaluation for Reinforcement Learning.\", 2019.\n",
    "\n",
    "- Hoang Le, Cameron Voloshin, and Yisong Yue. \\\n",
    "\"Batch Policy Learning under Constraints.\", 2019.\n",
    "\n",
    "- Di Wu, Xiujun Chen, Xun Yang, Hao Wang, Qing Tan, Xiaoxun Zhang, Jian Xu, and Kun Gai. \\\n",
    "\"Budget Constrained Bidding by Model-free Reinforcement Learning in Display Advertising.\", 2018.\n",
    "\n",
    "- Jun Zhao, Guang Qiu, Ziyu Guan, Wei Zhao, and Xiaofei He. \\\n",
    "\"Deep Reinforcement Learning for Sponsored Search Real-time Bidding.\", 2018.\n",
    "\n",
    "- Nan Jiang and Lihong Li. \\\n",
    "\"Doubly Robust Off-policy Value Evaluation for Reinforcement Learning.\", 2016.\n",
    "\n",
    "- Philip S. Thomas and Emma Brunskill. \\\n",
    "\"Data-Efficient Off-Policy Policy Evaluation for Reinforcement Learning.\", 2016.\n",
    "\n",
    "- Greg Brockman, Vicki Cheung, Ludwig Pettersson, Jonas Schneider, John Schulman, Jie Tang, and Wojciech Zaremba. \\\n",
    "\"OpenAI Gym.\", 2016.\n",
    "\n",
    "- Adith Swaminathan and Thorsten Joachims. \\\n",
    "\"The Self-Normalized Estimator for Counterfactual Learning.\", 2015.\n",
    "\n",
    "- Hado van Hasselt, Arthur Guez, and David Silver. \\\n",
    "\"Deep Reinforcement Learning with Double Q-learning.\", 2015.\n",
    "\n",
    "- Miroslav Dudík, Dumitru Erhan, John Langford, and Lihong Li. \\\n",
    "\"Doubly Robust Policy Evaluation and Optimization.\", 2014.\n",
    "\n",
    "- Alex Strehl, John Langford, Sham Kakade, and Lihong Li. \\\n",
    "\"Learning from Logged Implicit Exploration Data.\", 2010.\n",
    "\n",
    "- Alina Beygelzimer and John Langford. \\\n",
    "\"The Offset Tree for Learning with Partial Labels.\", 2009.\n",
    "\n",
    "- Doina Precup, Richard S. Sutton, and Satinder P. Singh. \\\n",
    "\"Eligibility Traces for Off-Policy Policy Evaluation.\", 2000."
   ]
  },
  {
   "cell_type": "code",
   "execution_count": null,
   "metadata": {},
   "outputs": [],
   "source": []
  }
 ],
 "metadata": {
  "kernelspec": {
   "display_name": "Python 3",
   "language": "python",
   "name": "python3"
  },
  "language_info": {
   "codemirror_mode": {
    "name": "ipython",
    "version": 3
   },
   "file_extension": ".py",
   "mimetype": "text/x-python",
   "name": "python",
   "nbconvert_exporter": "python",
   "pygments_lexer": "ipython3",
   "version": "3.10.6"
  },
  "vscode": {
   "interpreter": {
    "hash": "70404ee114725fce8ed9e697d67827f8546c678889944e6d695790702cbfe1f5"
   }
  }
 },
 "nbformat": 4,
 "nbformat_minor": 4
}
