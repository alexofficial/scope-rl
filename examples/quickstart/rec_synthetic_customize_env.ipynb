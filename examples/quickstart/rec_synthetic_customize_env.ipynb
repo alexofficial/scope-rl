{
 "cells": [
  {
   "attachments": {},
   "cell_type": "markdown",
   "metadata": {},
   "source": [
    "# Quickstart Example with Synthetic REC Simulation (Customization)\n",
    "This notebook provides an example of customizing the REC environment.\n",
    "\n",
    "This example on the Synthetic REC Simulation consists of the following 3 steps:\n",
    "1. Setup Synthetic REC Simulation Environment and Interacting Online RL Agent\n",
    "2. Standardized Environment\n",
    "3. Customize Environmental Configuration\n",
    "\n",
    "\\* This library uses [d3rlpy](https://github.com/takuseno/d3rlpy)'s algorithm implementations.  "
   ]
  },
  {
   "cell_type": "code",
   "execution_count": 25,
   "metadata": {},
   "outputs": [
    {
     "name": "stdout",
     "output_type": "stream",
     "text": [
      "The autoreload extension is already loaded. To reload it, use:\n",
      "  %reload_ext autoreload\n"
     ]
    }
   ],
   "source": [
    "# delete later\n",
    "%load_ext autoreload\n",
    "%autoreload 2"
   ]
  },
  {
   "cell_type": "code",
   "execution_count": 26,
   "metadata": {},
   "outputs": [],
   "source": [
    "# delete later\n",
    "import warnings\n",
    "warnings.simplefilter('ignore')"
   ]
  },
  {
   "cell_type": "code",
   "execution_count": 27,
   "metadata": {},
   "outputs": [],
   "source": [
    "# delete later\n",
    "import sys\n",
    "sys.path.append('/recgym')\n",
    "sys.path.append('../')\n",
    "sys.path.append('../../')"
   ]
  },
  {
   "cell_type": "code",
   "execution_count": 28,
   "metadata": {},
   "outputs": [],
   "source": [
    "# import OFRL modules\n",
    "import ofrl\n",
    "from ofrl.policy import OnlineHead\n",
    "from ofrl.policy import DiscreteEpsilonGreedyHead\n",
    "\n",
    "# import RECgym modules\n",
    "# import recgym\n",
    "from recgym.function import inner_reward_function\n",
    "from recgym.function import user_preference_dynamics\n",
    "from recgym.rec import RECEnv\n",
    "\n",
    "# import d3rlpy algorithms\n",
    "from d3rlpy.algos import DiscreteRandomPolicy\n",
    "\n",
    "# import from other libraries\n",
    "import gym\n",
    "\n",
    "# from sklearn.linear_model import LogisticRegression\n",
    "from sklearn.utils import check_random_state"
   ]
  },
  {
   "cell_type": "code",
   "execution_count": 29,
   "metadata": {},
   "outputs": [],
   "source": [
    "from dataclasses import dataclass\n",
    "from typing import Tuple, Union, Optional\n",
    "\n",
    "import numpy as np\n",
    "import pandas as pd\n",
    "\n",
    "import matplotlib.pyplot as plt\n",
    "import seaborn as sns\n",
    "\n",
    "%matplotlib inline"
   ]
  },
  {
   "cell_type": "code",
   "execution_count": 30,
   "metadata": {},
   "outputs": [
    {
     "name": "stdout",
     "output_type": "stream",
     "text": [
      "0.0.0\n"
     ]
    }
   ],
   "source": [
    "# version\n",
    "print(ofrl.__version__)"
   ]
  },
  {
   "cell_type": "code",
   "execution_count": 31,
   "metadata": {},
   "outputs": [],
   "source": [
    "# set random state\n",
    "random_state = 12345\n",
    "random_ = check_random_state(random_state)"
   ]
  },
  {
   "attachments": {},
   "cell_type": "markdown",
   "metadata": {},
   "source": [
    "## 1. Setup Synthetic REC Simulation Environment and Interacting Online RL Agent\n",
    "To begin with, we briefly describe the basic usage of the environment.\n",
    "\n",
    "#### RL setup for REC\n",
    "In REC, the objective of the RL agent is to maximize reward\n",
    "\n",
    "We often formulate this REC problem as the following Markov Decision Process (MDP):\n",
    "- `state`: \n",
    "   - make the initial state the user_feature of the chosen user\n",
    "   - update state with state_transition_function\n",
    "- `action`: selected from n_items\n",
    "- `reward`: rewards are determined by reward_function\n",
    "\n",
    "Let's see how it works!"
   ]
  },
  {
   "cell_type": "code",
   "execution_count": 32,
   "metadata": {},
   "outputs": [],
   "source": [
    "# setup environment\n",
    "env = RECEnv(\n",
    "    reward_function = inner_reward_function,\n",
    "    state_transition_function = user_preference_dynamics,\n",
    ")"
   ]
  },
  {
   "cell_type": "code",
   "execution_count": 33,
   "metadata": {},
   "outputs": [],
   "source": [
    "# define a random agent\n",
    "agent = DiscreteEpsilonGreedyHead(\n",
    "      base_policy = DiscreteRandomPolicy(),\n",
    "      name = 'random',\n",
    "      n_actions = env.n_items,\n",
    "      epsilon = 1. ,\n",
    "      random_state = random_state, \n",
    ")"
   ]
  },
  {
   "cell_type": "code",
   "execution_count": 34,
   "metadata": {},
   "outputs": [
    {
     "name": "stdout",
     "output_type": "stream",
     "text": [
      "DiscreteEpsilonGreedyHead(base_policy=d3rlpy.algos.random_policy.DiscreteRandomPolicy(action_scaler=None, action_size=1, batch_size=1, gamma=0.0, generated_maxlen=100000, impl=None, n_frames=1, n_steps=1, real_ratio=1.0, reward_scaler=None, scaler=None), name='random', n_actions=100, epsilon=1.0, random_state=12345)\n",
      "None\n",
      "Discrete(99)\n",
      "[-0.96329862  0.14600067 -0.11189911  0.74149697 -0.06555359]\n",
      "[ 0.32662217 -0.13148645 -0.66046824  0.04749118  0.54986361]\n",
      "100\n",
      "100\n"
     ]
    }
   ],
   "source": [
    "print(agent)\n",
    "print(agent.action_size)\n",
    "print(env.action_space)\n",
    "print(env.item_feature_vector[0])\n",
    "print(env.user_feature_vector[0])\n",
    "print(env.n_items)\n",
    "print(env.n_users)"
   ]
  },
  {
   "cell_type": "code",
   "execution_count": 35,
   "metadata": {},
   "outputs": [],
   "source": [
    "# interact agent with the environment\n",
    "# only 6 lines are needed for RL interaction\n",
    "for episode in range(10):\n",
    "    obs, info= env.reset()\n",
    "    done = False\n",
    "    \n",
    "    while not done:\n",
    "        action = agent.sample_action_online(obs)\n",
    "        obs, reward, done, truncated, info = env.step(action)"
   ]
  },
  {
   "cell_type": "code",
   "execution_count": 36,
   "metadata": {},
   "outputs": [
    {
     "name": "stdout",
     "output_type": "stream",
     "text": [
      "(5,)\n",
      "[-0.70308795 -0.5585391   0.25259079 -0.21514934  0.04736028]\n"
     ]
    }
   ],
   "source": [
    "# state \n",
    "print(obs.shape)\n",
    "print(obs)"
   ]
  },
  {
   "cell_type": "code",
   "execution_count": 37,
   "metadata": {},
   "outputs": [
    {
     "data": {
      "image/png": "[encoded data removed]",
      "text/plain": [
       "<Figure size 640x480 with 1 Axes>"
      ]
     },
     "metadata": {},
     "output_type": "display_data"
    }
   ],
   "source": [
    "# let's visualize the transition of the remaining budget and cumulative reward\n",
    "# our goal is to obtain a policy (or an agent) that maximizes the cumulative reward under budget constraints using RL.  \n",
    "# for more visualization, please see the appendix.\n",
    "\n",
    "def visualize_interaction_on_environment(env, agent):\n",
    "    obs, info = env.reset()\n",
    "    done = False\n",
    "    cumulative_reward = [0]\n",
    "\n",
    "    while not done:\n",
    "        action = agent.sample_action_online(obs)\n",
    "\n",
    "        obs, reward, done, truncated, info = env.step(action)\n",
    "        cumulative_reward.append(cumulative_reward[-1] + reward)\n",
    "\n",
    "    # plot\n",
    "    fig = plt.figure()\n",
    "    ax1 = fig.add_subplot(111)\n",
    "    ax1.plot(cumulative_reward[:-1], label='cumulative reward', color='tab:orange')\n",
    "    ax1.set_xlabel('timestep')\n",
    "    ax1.set_ylabel('reward (coversion)')\n",
    "    ax1.legend(loc='upper left')\n",
    "    plt.show()\n",
    "    \n",
    "visualize_interaction_on_environment(env, agent)"
   ]
  },
  {
   "attachments": {},
   "cell_type": "markdown",
   "metadata": {},
   "source": [
    "## 1. Standardized Environment\n",
    "\n",
    "We provide standardize REC environment i"
   ]
  },
  {
   "cell_type": "code",
   "execution_count": 38,
   "metadata": {},
   "outputs": [],
   "source": [
    "env = RECEnv(\n",
    "    reward_function = inner_reward_function,\n",
    "    state_transition_function = user_preference_dynamics,\n",
    ")"
   ]
  },
  {
   "attachments": {},
   "cell_type": "markdown",
   "metadata": {},
   "source": [
    "## 2. Customize Environmental Configuration\n",
    "Now, we customize the REC simulation environment.\n",
    "\n",
    "We have the following environmental configurations:\n",
    "- `reward_function`: Functions that determine how reward is calculated\n",
    "- `reward_function`: Functions that determine state update\n",
    "- `n_items`: Number of items used for recommendation.\n",
    "- `n_users`: Number of users used for recommendation.\n",
    "- `ad_feature_dim`: Dimensions of the item feature vectors.\n",
    "- `user_feature_dim`: Dimensions of the user feature vectors.\n",
    "- `ad_feature_vector`: Feature vectors that characterizes each item.\n",
    "- `user_feature_vector`: Feature vectors that characterizes each user.\n",
    "- `noise_std`: Amount of noise an observation has"
   ]
  },
  {
   "cell_type": "markdown",
   "metadata": {},
   "source": [
    "#### Case 1. Customizing the Basic Setup"
   ]
  },
  {
   "cell_type": "code",
   "execution_count": 39,
   "metadata": {},
   "outputs": [
    {
     "data": {
      "image/png": "[encoded data removed]",
      "text/plain": [
       "<Figure size 640x480 with 1 Axes>"
      ]
     },
     "metadata": {},
     "output_type": "display_data"
    }
   ],
   "source": [
    "env = RECEnv(\n",
    "        reward_function = inner_reward_function,\n",
    "        state_transition_function = user_preference_dynamics,\n",
    "        n_items = 100,  # we use 100 items\n",
    "        n_users = 100,  # 100 users exists\n",
    "        item_feature_dim = 5,  #each item has 5 dimensional features\n",
    "        user_feature_dim = 5,  #each user has 5 dimensional features\n",
    "        item_feature_vector = None,  #determine item_feature_vector from n_items and item_feature_dim in RECEnv\n",
    "        user_feature_vector = None,  #determine user_feature_vector from n_users and user_feature_dim in RECEnv\n",
    "        noise_std = 0, #not add noise to the observation\n",
    "        step_per_episode = 10,\n",
    ")\n",
    "visualize_interaction_on_environment(env, agent)"
   ]
  },
  {
   "attachments": {},
   "cell_type": "markdown",
   "metadata": {},
   "source": [
    "#### Case 2. Defining the Items and Users"
   ]
  },
  {
   "cell_type": "code",
   "execution_count": 40,
   "metadata": {},
   "outputs": [
    {
     "data": {
      "text/html": [
       "<div>\n",
       "<style scoped>\n",
       "    .dataframe tbody tr th:only-of-type {\n",
       "        vertical-align: middle;\n",
       "    }\n",
       "\n",
       "    .dataframe tbody tr th {\n",
       "        vertical-align: top;\n",
       "    }\n",
       "\n",
       "    .dataframe thead th {\n",
       "        text-align: right;\n",
       "    }\n",
       "</style>\n",
       "<table border=\"1\" class=\"dataframe\">\n",
       "  <thead>\n",
       "    <tr style=\"text-align: right;\">\n",
       "      <th></th>\n",
       "      <th>feature1</th>\n",
       "      <th>feature2</th>\n",
       "      <th>feature3</th>\n",
       "      <th>feature4</th>\n",
       "      <th>feature5</th>\n",
       "    </tr>\n",
       "  </thead>\n",
       "  <tbody>\n",
       "    <tr>\n",
       "      <th>ad1</th>\n",
       "      <td>-1</td>\n",
       "      <td>1</td>\n",
       "      <td>-1</td>\n",
       "      <td>-1</td>\n",
       "      <td>1</td>\n",
       "    </tr>\n",
       "    <tr>\n",
       "      <th>ad2</th>\n",
       "      <td>1</td>\n",
       "      <td>1</td>\n",
       "      <td>1</td>\n",
       "      <td>1</td>\n",
       "      <td>1</td>\n",
       "    </tr>\n",
       "    <tr>\n",
       "      <th>ad3</th>\n",
       "      <td>1</td>\n",
       "      <td>-1</td>\n",
       "      <td>1</td>\n",
       "      <td>1</td>\n",
       "      <td>1</td>\n",
       "    </tr>\n",
       "    <tr>\n",
       "      <th>ad4</th>\n",
       "      <td>1</td>\n",
       "      <td>-1</td>\n",
       "      <td>-1</td>\n",
       "      <td>1</td>\n",
       "      <td>-1</td>\n",
       "    </tr>\n",
       "    <tr>\n",
       "      <th>ad5</th>\n",
       "      <td>-1</td>\n",
       "      <td>1</td>\n",
       "      <td>1</td>\n",
       "      <td>-1</td>\n",
       "      <td>-1</td>\n",
       "    </tr>\n",
       "    <tr>\n",
       "      <th>...</th>\n",
       "      <td>...</td>\n",
       "      <td>...</td>\n",
       "      <td>...</td>\n",
       "      <td>...</td>\n",
       "      <td>...</td>\n",
       "    </tr>\n",
       "    <tr>\n",
       "      <th>ad96</th>\n",
       "      <td>1</td>\n",
       "      <td>-1</td>\n",
       "      <td>-1</td>\n",
       "      <td>-1</td>\n",
       "      <td>1</td>\n",
       "    </tr>\n",
       "    <tr>\n",
       "      <th>ad97</th>\n",
       "      <td>1</td>\n",
       "      <td>1</td>\n",
       "      <td>-1</td>\n",
       "      <td>1</td>\n",
       "      <td>1</td>\n",
       "    </tr>\n",
       "    <tr>\n",
       "      <th>ad98</th>\n",
       "      <td>-1</td>\n",
       "      <td>-1</td>\n",
       "      <td>1</td>\n",
       "      <td>1</td>\n",
       "      <td>-1</td>\n",
       "    </tr>\n",
       "    <tr>\n",
       "      <th>ad99</th>\n",
       "      <td>-1</td>\n",
       "      <td>1</td>\n",
       "      <td>-1</td>\n",
       "      <td>1</td>\n",
       "      <td>1</td>\n",
       "    </tr>\n",
       "    <tr>\n",
       "      <th>ad100</th>\n",
       "      <td>-1</td>\n",
       "      <td>1</td>\n",
       "      <td>1</td>\n",
       "      <td>1</td>\n",
       "      <td>1</td>\n",
       "    </tr>\n",
       "  </tbody>\n",
       "</table>\n",
       "<p>100 rows × 5 columns</p>\n",
       "</div>"
      ],
      "text/plain": [
       "       feature1  feature2  feature3  feature4  feature5\n",
       "ad1          -1         1        -1        -1         1\n",
       "ad2           1         1         1         1         1\n",
       "ad3           1        -1         1         1         1\n",
       "ad4           1        -1        -1         1        -1\n",
       "ad5          -1         1         1        -1        -1\n",
       "...         ...       ...       ...       ...       ...\n",
       "ad96          1        -1        -1        -1         1\n",
       "ad97          1         1        -1         1         1\n",
       "ad98         -1        -1         1         1        -1\n",
       "ad99         -1         1        -1         1         1\n",
       "ad100        -1         1         1         1         1\n",
       "\n",
       "[100 rows x 5 columns]"
      ]
     },
     "execution_count": 40,
     "metadata": {},
     "output_type": "execute_result"
    }
   ],
   "source": [
    "# we use the following items for recommendation\n",
    "item_features = np.sign(random_.normal(size=(100, 5))).astype(int)\n",
    "item_names, feature_names = [f\"ad{i+1}\" for i in range(100)], [f\"feature{i+1}\" for i in range(5)]\n",
    "item_df = pd.DataFrame(item_features, columns=feature_names, index=item_names)\n",
    "item_df"
   ]
  },
  {
   "cell_type": "code",
   "execution_count": 41,
   "metadata": {},
   "outputs": [
    {
     "data": {
      "text/html": [
       "<div>\n",
       "<style scoped>\n",
       "    .dataframe tbody tr th:only-of-type {\n",
       "        vertical-align: middle;\n",
       "    }\n",
       "\n",
       "    .dataframe tbody tr th {\n",
       "        vertical-align: top;\n",
       "    }\n",
       "\n",
       "    .dataframe thead th {\n",
       "        text-align: right;\n",
       "    }\n",
       "</style>\n",
       "<table border=\"1\" class=\"dataframe\">\n",
       "  <thead>\n",
       "    <tr style=\"text-align: right;\">\n",
       "      <th></th>\n",
       "      <th>feature1</th>\n",
       "      <th>feature2</th>\n",
       "      <th>feature3</th>\n",
       "      <th>feature4</th>\n",
       "      <th>feature5</th>\n",
       "    </tr>\n",
       "  </thead>\n",
       "  <tbody>\n",
       "    <tr>\n",
       "      <th>user1</th>\n",
       "      <td>-1</td>\n",
       "      <td>-1</td>\n",
       "      <td>-1</td>\n",
       "      <td>1</td>\n",
       "      <td>1</td>\n",
       "    </tr>\n",
       "    <tr>\n",
       "      <th>user2</th>\n",
       "      <td>-1</td>\n",
       "      <td>-1</td>\n",
       "      <td>1</td>\n",
       "      <td>1</td>\n",
       "      <td>-1</td>\n",
       "    </tr>\n",
       "    <tr>\n",
       "      <th>user3</th>\n",
       "      <td>-1</td>\n",
       "      <td>-1</td>\n",
       "      <td>1</td>\n",
       "      <td>1</td>\n",
       "      <td>-1</td>\n",
       "    </tr>\n",
       "    <tr>\n",
       "      <th>user4</th>\n",
       "      <td>1</td>\n",
       "      <td>1</td>\n",
       "      <td>1</td>\n",
       "      <td>1</td>\n",
       "      <td>1</td>\n",
       "    </tr>\n",
       "    <tr>\n",
       "      <th>user5</th>\n",
       "      <td>-1</td>\n",
       "      <td>-1</td>\n",
       "      <td>1</td>\n",
       "      <td>1</td>\n",
       "      <td>1</td>\n",
       "    </tr>\n",
       "    <tr>\n",
       "      <th>...</th>\n",
       "      <td>...</td>\n",
       "      <td>...</td>\n",
       "      <td>...</td>\n",
       "      <td>...</td>\n",
       "      <td>...</td>\n",
       "    </tr>\n",
       "    <tr>\n",
       "      <th>user96</th>\n",
       "      <td>-1</td>\n",
       "      <td>-1</td>\n",
       "      <td>-1</td>\n",
       "      <td>-1</td>\n",
       "      <td>1</td>\n",
       "    </tr>\n",
       "    <tr>\n",
       "      <th>user97</th>\n",
       "      <td>1</td>\n",
       "      <td>-1</td>\n",
       "      <td>1</td>\n",
       "      <td>1</td>\n",
       "      <td>-1</td>\n",
       "    </tr>\n",
       "    <tr>\n",
       "      <th>user98</th>\n",
       "      <td>1</td>\n",
       "      <td>-1</td>\n",
       "      <td>1</td>\n",
       "      <td>-1</td>\n",
       "      <td>-1</td>\n",
       "    </tr>\n",
       "    <tr>\n",
       "      <th>user99</th>\n",
       "      <td>-1</td>\n",
       "      <td>1</td>\n",
       "      <td>-1</td>\n",
       "      <td>1</td>\n",
       "      <td>-1</td>\n",
       "    </tr>\n",
       "    <tr>\n",
       "      <th>user100</th>\n",
       "      <td>1</td>\n",
       "      <td>-1</td>\n",
       "      <td>-1</td>\n",
       "      <td>1</td>\n",
       "      <td>1</td>\n",
       "    </tr>\n",
       "  </tbody>\n",
       "</table>\n",
       "<p>100 rows × 5 columns</p>\n",
       "</div>"
      ],
      "text/plain": [
       "         feature1  feature2  feature3  feature4  feature5\n",
       "user1          -1        -1        -1         1         1\n",
       "user2          -1        -1         1         1        -1\n",
       "user3          -1        -1         1         1        -1\n",
       "user4           1         1         1         1         1\n",
       "user5          -1        -1         1         1         1\n",
       "...           ...       ...       ...       ...       ...\n",
       "user96         -1        -1        -1        -1         1\n",
       "user97          1        -1         1         1        -1\n",
       "user98          1        -1         1        -1        -1\n",
       "user99         -1         1        -1         1        -1\n",
       "user100         1        -1        -1         1         1\n",
       "\n",
       "[100 rows x 5 columns]"
      ]
     },
     "execution_count": 41,
     "metadata": {},
     "output_type": "execute_result"
    }
   ],
   "source": [
    "# we assume that the following 100 users \n",
    "user_features = np.sign(random_.normal(size=(100, 5))).astype(int)\n",
    "user_names, feature_names = [f\"user{i+1}\" for i in range(100)], [f\"feature{i+1}\" for i in range(5)]\n",
    "user_df = pd.DataFrame(user_features, columns=feature_names, index=user_names)\n",
    "user_df"
   ]
  },
  {
   "cell_type": "code",
   "execution_count": 42,
   "metadata": {},
   "outputs": [
    {
     "data": {
      "image/png": "[encoded data removed]",
      "text/plain": [
       "<Figure size 640x480 with 1 Axes>"
      ]
     },
     "metadata": {},
     "output_type": "display_data"
    }
   ],
   "source": [
    "# using the above data, we can simulate an recommendation as follows\n",
    "env = RECEnv(\n",
    "        reward_function = inner_reward_function,\n",
    "        state_transition_function = user_preference_dynamics,\n",
    "        n_items = 100,  # we use 100 items\n",
    "        n_users = 100,  # 100 users exists\n",
    "        item_feature_dim = 5,  #each item has 5 dimensional features\n",
    "        user_feature_dim = 5,  #each user has 5 dimensional features\n",
    "        item_feature_vector = item_features, # use item features defined above\n",
    "        user_feature_vector = user_features, # use user features defined above\n",
    "        noise_std = 0, #not add noise to the observation\n",
    "        step_per_episode = 10,\n",
    ")\n",
    "visualize_interaction_on_environment(env, agent)"
   ]
  },
  {
   "attachments": {},
   "cell_type": "markdown",
   "metadata": {},
   "source": [
    "#### Case 3. Using Customized reward_function"
   ]
  },
  {
   "cell_type": "code",
   "execution_count": 43,
   "metadata": {},
   "outputs": [],
   "source": [
    "def cos_similar_function(state, action, item_feature_vector):\n",
    "    inner = state @ item_feature_vector[action]\n",
    "    reward = inner / (np.linalg.norm(state, ord=2) * np.linalg.norm(item_feature_vector[action], ord=2))\n",
    "    return reward\n"
   ]
  },
  {
   "cell_type": "code",
   "execution_count": 44,
   "metadata": {},
   "outputs": [
    {
     "data": {
      "image/png": "[encoded data removed]",
      "text/plain": [
       "<Figure size 640x480 with 1 Axes>"
      ]
     },
     "metadata": {},
     "output_type": "display_data"
    }
   ],
   "source": [
    "# setup environment\n",
    "env = RECEnv(\n",
    "    reward_function = inner_reward_function,\n",
    "    state_transition_function = user_preference_dynamics,\n",
    ")\n",
    "visualize_interaction_on_environment(env, agent)\n"
   ]
  },
  {
   "cell_type": "markdown",
   "metadata": {},
   "source": [
    "For data collection and visualization, please refer to [examples/quickstart/REC_synthetic_data_collection.ipynb](https://github.com/negocia-inc/REC_reinforcement_learing/blob/ope/examples/quickstart/REC_synthetic_data_collection.ipynb). \n",
    "\n",
    "For offline RL and OPE, please refer to [examples/quickstart/REC_synthetic_discrete_basic.ipynb](https://github.com/negocia-inc/REC_reinforcement_learing/blob/ope/examples/quickstart/REC_synthetic_discrete_basic.ipynb) and [examples/quickstart/REC_synthetic_continuous_basic.ipynb](https://github.com/negocia-inc/REC_reinforcement_learing/blob/ope/examples/quickstart/REC_synthetic_continuous_basic.ipynb).\n",
    "\n",
    "For advanced topics regarding OPE and OPS, please refer to [examples/quickstart/REC_synthetic_discrete_advanced.ipynb](https://github.com/negocia-inc/REC_reinforcement_learing/blob/ope/examples/quickstart/REC_synthetic_basic_advanced.ipynb) and [examples/quickstart/REC_synthetic_continuous_advanced.ipynb](https://github.com/negocia-inc/REC_reinforcement_learing/blob/ope/examples/quickstart/REC_synthetic_continuous_advanced.ipynb)."
   ]
  },
  {
   "cell_type": "markdown",
   "metadata": {},
   "source": [
    "## Reference\n",
    "\n",
    "- Takuma Seno and Michita Imai. \\\n",
    "\"d3rlpy: An Offline Deep Reinforcement Library.\", 2021.\n",
    "\n",
    "- Di Wu, Xiujun Chen, Xun Yang, Hao Wang, Qing Tan, Xiaoxun Zhang, Jian Xu, and Kun Gai. \\\n",
    "\"Budget Constrained Bidding by Model-free Reinforcement Learning in Display Advertising.\", 2018.\n",
    "\n",
    "- Jun Zhao, Guang Qiu, Ziyu Guan, Wei Zhao, and Xiaofei He. \\\n",
    "\"Deep Reinforcement Learning for Sponsored Search Real-time Bidding.\", 2018.\n",
    "\n",
    "- Greg Brockman, Vicki Cheung, Ludwig Pettersson, Jonas Schneider, John Schulman, Jie Tang, and Wojciech Zaremba. \\\n",
    "\"OpenAI Gym.\", 2016."
   ]
  },
  {
   "cell_type": "code",
   "execution_count": null,
   "metadata": {},
   "outputs": [],
   "source": []
  }
 ],
 "metadata": {
  "kernelspec": {
   "display_name": "Python 3.10.6 64-bit ('3.10.6')",
   "language": "python",
   "name": "python3"
  },
  "language_info": {
   "codemirror_mode": {
    "name": "ipython",
    "version": 3
   },
   "file_extension": ".py",
   "mimetype": "text/x-python",
   "name": "python",
   "nbconvert_exporter": "python",
   "pygments_lexer": "ipython3",
   "version": "3.10.6"
  },
  "vscode": {
   "interpreter": {
    "hash": "70404ee114725fce8ed9e697d67827f8546c678889944e6d695790702cbfe1f5"
   }
  }
 },
 "nbformat": 4,
 "nbformat_minor": 4
}
