{
 "cells": [
  {
   "cell_type": "markdown",
   "metadata": {},
   "source": [
    "# Quickstart Example of Off-Policy Evaluation with Various Estimators (Continuous)\n",
    "This notebook provides an example of conducting **Off-policy Evaluation (OPE)** with a basic synthetic  dataset and various OPE estimators (e.g., model-based vs importance sampling-based, marginal importance sampling, and double reinforcement learning).\n",
    "\n",
    "This example consists of the following 3 steps: \n",
    "1. Setup, Synthetic Data Generation, and Offline Policy Learning\n",
    "2. Off-Policy Evaluation (OPE) with various estimators\n",
    "\n",
    "\\* This library uses [d3rlpy](https://github.com/takuseno/d3rlpy)'s algorithm implementations of offline rl policies and model-based evaluation.  \n",
    "\\* Also, our implementations of OPE are highly inspired by [Open Bandit Pipeline](https://github.com/st-tech/zr-obp)."
   ]
  },
  {
   "cell_type": "code",
   "execution_count": 1,
   "metadata": {},
   "outputs": [],
   "source": [
    "# delete later\n",
    "%load_ext autoreload\n",
    "%autoreload 2"
   ]
  },
  {
   "cell_type": "code",
   "execution_count": 2,
   "metadata": {},
   "outputs": [],
   "source": [
    "# delete later\n",
    "import warnings\n",
    "warnings.simplefilter('ignore')"
   ]
  },
  {
   "cell_type": "code",
   "execution_count": 3,
   "metadata": {},
   "outputs": [],
   "source": [
    "# import OFRL modules\n",
    "import ofrl\n",
    "from basicgym import BasicEnv\n",
    "from ofrl.dataset import SyntheticDataset\n",
    "from ofrl.policy import OnlineHead, ContinuousEvalHead\n",
    "from ofrl.policy import ContinuousTruncatedGaussianHead as TruncatedGaussianHead\n",
    "from ofrl.ope.online import (\n",
    "    calc_on_policy_policy_value,\n",
    "    visualize_on_policy_policy_value,\n",
    ")\n",
    "from ofrl.utils import MinMaxScaler, MinMaxActionScaler\n",
    "\n",
    "# import d3rlpy algorithms\n",
    "from d3rlpy.algos import RandomPolicy\n",
    "# from d3rlpy.preprocessing import MinMaxScaler, MinMaxActionScaler\n",
    "from ofrl.utils import MinMaxScaler, MinMaxActionScaler\n",
    "\n",
    "# import from other libraries\n",
    "import gym\n",
    "import torch\n",
    "from sklearn.model_selection import train_test_split"
   ]
  },
  {
   "cell_type": "code",
   "execution_count": 4,
   "metadata": {},
   "outputs": [],
   "source": [
    "import pickle\n",
    "from glob import glob\n",
    "from tqdm import tqdm\n",
    "\n",
    "import numpy as np\n",
    "import pandas as pd\n",
    "\n",
    "import matplotlib.pyplot as plt\n",
    "import seaborn as sns\n",
    "\n",
    "%matplotlib inline"
   ]
  },
  {
   "cell_type": "code",
   "execution_count": 5,
   "metadata": {},
   "outputs": [
    {
     "name": "stdout",
     "output_type": "stream",
     "text": [
      "0.0.0\n"
     ]
    }
   ],
   "source": [
    "# version\n",
    "print(ofrl.__version__)"
   ]
  },
  {
   "cell_type": "code",
   "execution_count": 6,
   "metadata": {},
   "outputs": [],
   "source": [
    "# set random state\n",
    "random_state = 12345"
   ]
  },
  {
   "cell_type": "code",
   "execution_count": 7,
   "metadata": {},
   "outputs": [],
   "source": [
    "# log directory\n",
    "from pathlib import Path\n",
    "Path(\"logs/\").mkdir(exist_ok=True)"
   ]
  },
  {
   "cell_type": "markdown",
   "metadata": {},
   "source": [
    "## 1. Setup, Synthetic Data Generation, and Offline Policy Learning\n",
    "To begin with, we briefly describe the basic usage of the environment.\n",
    "\n",
    "#### RL setup for Basic Synthetic\n",
    "In Basic Synthetic, the objective of the RL agent is to maximize reward.\n",
    "\n",
    "We often formulate this synthetic  problem as the following (Partially Observable) Markov Decision Process ((PO)MDP):\n",
    "- `state`: State observation, which may be noisy in POMDPs.\n",
    "- `action`:  Indicating the action to presented by the RL agent.\n",
    "- `reward`: Reward observation.\n",
    "\n",
    "For more about the environmental configuration and its customization, please refer to [examples/quickstart/basic/basic_synthetic_customize_env.ipynb](https://github.com/negocia-inc/ofrl/blob/ope/examples/quickstart/basic/basic_synthetic_customize_env.ipynb)."
   ]
  },
  {
   "cell_type": "code",
   "execution_count": 8,
   "metadata": {},
   "outputs": [],
   "source": [
    "# standardized environment for continuous action\n",
    "env = gym.make(\"BasicEnv-continuous-v0\")"
   ]
  },
  {
   "cell_type": "code",
   "execution_count": 9,
   "metadata": {},
   "outputs": [],
   "source": [
    "# for api compatibility to d3rlpy\n",
    "from ofrl.utils import OldGymAPIWrapper\n",
    "env_ = OldGymAPIWrapper(env)"
   ]
  },
  {
   "cell_type": "markdown",
   "metadata": {},
   "source": [
    "#### Synthetic Data Generation\n",
    "Next, we collect logged data with a behavior policy $\\pi_0$:\n",
    "\n",
    "$$\\mathcal{D}_0 := \\{ \\{ s_t, a_t, s_{t+1}, r_t \\}_{t=1}^T \\}_{i=1}^n \\sim \\prod_{i=1}^n d_{s_0}(s_0) \\prod_{t=1}^T \\pi_0(a_t | s_t) p(s_{t+1} | s_t, a_t) p(r_t | s_t, a_t),$$\n",
    "\n",
    "where $s_t \\in \\mathcal{S}$ is the state observed at timestep $t$, $a_t$ is the action chosen by the behavior policy $\\pi_0$, and $r_t$ is the reward. \n",
    "\n",
    "`SyntheticDataset` has the following arguments:\n",
    "- `env`: Basic synthetic environment for RL defined in the previous section.\n",
    "- `max_episode_steps`: Maximum number of timesteps in an episode.\n",
    "\n",
    "For more about the data collection and visualization, please refer to [examples/quickstart/basic/basic_synthetic_data_collection.ipynb](https://github.com/negocia-inc/ofrl/blob/ope/examples/quickstart/basic/basic_synthetic_data_collection.ipynb)."
   ]
  },
  {
   "cell_type": "code",
   "execution_count": 10,
   "metadata": {},
   "outputs": [],
   "source": [
    "# behavior policy\n",
    "from d3rlpy.algos import SAC\n",
    "from d3rlpy.models.encoders import VectorEncoderFactory\n",
    "from d3rlpy.models.q_functions import MeanQFunctionFactory\n",
    "from d3rlpy.online.buffers import ReplayBuffer\n",
    "\n",
    "# model\n",
    "sac = SAC(\n",
    "    actor_encoder_factory=VectorEncoderFactory(hidden_units=[30, 30]),\n",
    "    critic_encoder_factory=VectorEncoderFactory(hidden_units=[30, 30]),\n",
    "    q_func_factory=MeanQFunctionFactory(),\n",
    "    use_gpu=torch.cuda.is_available(),\n",
    "    action_scaler=MinMaxActionScaler(\n",
    "        minimum=env_.action_space.low,   # 0.1\n",
    "        maximum=env_.action_space.high,  # 10\n",
    "    ),\n",
    ")\n",
    "# setup replay buffer\n",
    "buffer = ReplayBuffer(\n",
    "    maxlen=10000,\n",
    "    env=env_,\n",
    ")"
   ]
  },
  {
   "cell_type": "code",
   "execution_count": null,
   "metadata": {},
   "outputs": [],
   "source": [
    "# start training\n",
    "# skip if there is a pre-trained model\n",
    "sac.fit_online(\n",
    "    env_,\n",
    "    buffer,\n",
    "    eval_env=env_,\n",
    "    n_steps=100000,\n",
    "    n_steps_per_epoch=1000,\n",
    "    update_start_step=1000,\n",
    ")"
   ]
  },
  {
   "cell_type": "code",
   "execution_count": 13,
   "metadata": {},
   "outputs": [],
   "source": [
    "# save model\n",
    "sac.save_model(\"d3rlpy_logs/sac.pt\")"
   ]
  },
  {
   "cell_type": "code",
   "execution_count": 11,
   "metadata": {},
   "outputs": [],
   "source": [
    "# reload model\n",
    "sac.build_with_env(env_)\n",
    "sac.load_model(\"d3rlpy_logs/sac.pt\")"
   ]
  },
  {
   "cell_type": "code",
   "execution_count": 12,
   "metadata": {},
   "outputs": [],
   "source": [
    "behavior_policy = TruncatedGaussianHead(\n",
    "    sac, \n",
    "    minimum=env.action_space.low,\n",
    "    maximum=env.action_space.high,\n",
    "    sigma=np.array([1.0]),\n",
    "    name=\"sac_sigma_1.0\",\n",
    "    random_state=random_state,\n",
    ")"
   ]
  },
  {
   "cell_type": "code",
   "execution_count": 13,
   "metadata": {},
   "outputs": [],
   "source": [
    "# initialize dataset class\n",
    "dataset = SyntheticDataset(\n",
    "    env=env,\n",
    "    max_episode_steps=env.step_per_episode,\n",
    ")"
   ]
  },
  {
   "cell_type": "code",
   "execution_count": 15,
   "metadata": {},
   "outputs": [
    {
     "data": {
      "application/vnd.jupyter.widget-view+json": {
       "model_id": "0d1c0faf70bd440f938e492274d66b72",
       "version_major": 2,
       "version_minor": 0
      },
      "text/plain": [
       "[obtain_trajectories]:   0%|          | 0/10000 [00:00<?, ?it/s]"
      ]
     },
     "metadata": {},
     "output_type": "display_data"
    },
    {
     "data": {
      "application/vnd.jupyter.widget-view+json": {
       "model_id": "8ac9427dcca144319e747759b9385a7e",
       "version_major": 2,
       "version_minor": 0
      },
      "text/plain": [
       "[obtain_trajectories]:   0%|          | 0/10000 [00:00<?, ?it/s]"
      ]
     },
     "metadata": {},
     "output_type": "display_data"
    }
   ],
   "source": [
    "# collect logged data by a behavior policy\n",
    "# skip if there is a preserved logged dataset\n",
    "train_logged_dataset = dataset.obtain_episodes(\n",
    "    behavior_policies=behavior_policy,\n",
    "    n_trajectories=10000, \n",
    "    obtain_info=False,\n",
    "    random_state=random_state,\n",
    ")\n",
    "test_logged_dataset = dataset.obtain_episodes(\n",
    "    behavior_policies=behavior_policy,\n",
    "    n_trajectories=10000, \n",
    "    obtain_info=False,\n",
    "    random_state=random_state + 1,\n",
    ")"
   ]
  },
  {
   "cell_type": "code",
   "execution_count": 16,
   "metadata": {},
   "outputs": [],
   "source": [
    "with open(\"logs/train_dataset_continuous_sac.pkl\", \"wb\") as f:\n",
    "    pickle.dump(train_logged_dataset, f)\n",
    "with open(\"logs/test_dataset_continuous_sac.pkl\", \"wb\") as f:\n",
    "    pickle.dump(test_logged_dataset, f)"
   ]
  },
  {
   "cell_type": "code",
   "execution_count": 17,
   "metadata": {},
   "outputs": [],
   "source": [
    "with open(\"logs/train_dataset_continuous_sac.pkl\", \"rb\") as f:\n",
    "    train_logged_dataset = pickle.load(f)\n",
    "with open(\"logs/test_dataset_continuous_sac.pkl\", \"rb\") as f:\n",
    "    test_logged_dataset = pickle.load(f)"
   ]
  },
  {
   "cell_type": "markdown",
   "metadata": {},
   "source": [
    "#### Offline Policy Learning\n",
    "Here, we learn several \"candidate\" policies to be evaluated and selected using [d3rlpy](https://github.com/takuseno/d3rlpy)'s algorithm implementation.\n",
    "\n",
    "For more about the offline RL procedure, please refer to [examples/quickstart/basic/basic_synthetic_discrete_basic.ipynb](https://github.com/negocia-inc/ofrl/blob/ope/examples/quickstart/basic/basic_synthetic_discrete_basic.ipynb)."
   ]
  },
  {
   "cell_type": "code",
   "execution_count": 18,
   "metadata": {},
   "outputs": [],
   "source": [
    "# import modules from d3rlpy\n",
    "from d3rlpy.dataset import MDPDataset\n",
    "from d3rlpy.algos import CQL\n",
    "# transform offline dataset for d3rlpy\n",
    "offlinerl_dataset = MDPDataset(\n",
    "    observations=train_logged_dataset[\"state\"],\n",
    "    actions=train_logged_dataset[\"action\"],\n",
    "    rewards=train_logged_dataset[\"reward\"],\n",
    "    terminals=train_logged_dataset[\"done\"],\n",
    "    episode_terminals=train_logged_dataset[\"done\"],\n",
    ")\n",
    "train_episodes, test_episodes = train_test_split(offlinerl_dataset, test_size=0.2, random_state=random_state)"
   ]
  },
  {
   "cell_type": "code",
   "execution_count": 19,
   "metadata": {},
   "outputs": [],
   "source": [
    "# Use Conservative Q-Learning policy\n",
    "cql = CQL(\n",
    "    actor_encoder_factory=VectorEncoderFactory(hidden_units=[30, 30]),\n",
    "    critic_encoder_factory=VectorEncoderFactory(hidden_units=[30, 30]),\n",
    "    q_func_factory=MeanQFunctionFactory(),\n",
    "    use_gpu=torch.cuda.is_available(),\n",
    "    action_scaler=MinMaxActionScaler(\n",
    "        minimum=env_.action_space.low,  # minimum value that policy can take\n",
    "        maximum=env_.action_space.high,  # maximum value that policy can take\n",
    "    )\n",
    ")"
   ]
  },
  {
   "cell_type": "code",
   "execution_count": 20,
   "metadata": {},
   "outputs": [
    {
     "name": "stdout",
     "output_type": "stream",
     "text": [
      "2023-04-21 15:38:41 [debug    ] RandomIterator is selected.\n",
      "2023-04-21 15:38:41 [info     ] Directory is created at d3rlpy_logs/CQL_20230421153841\n",
      "2023-04-21 15:38:41 [debug    ] Fitting action scaler...       action_scaler=min_max\n",
      "2023-04-21 15:38:41 [debug    ] Building models...\n",
      "2023-04-21 15:38:41 [debug    ] Models have been built.\n",
      "2023-04-21 15:38:41 [info     ] Parameters are saved to d3rlpy_logs/CQL_20230421153841/params.json params={'action_scaler': {'type': 'min_max', 'params': {'minimum': array([-1., -1., -1.]), 'maximum': array([1., 1., 1.])}}, 'actor_encoder_factory': {'type': 'vector', 'params': {'hidden_units': [30, 30], 'activation': 'relu', 'use_batch_norm': False, 'dropout_rate': None, 'use_dense': False}}, 'actor_learning_rate': 0.0001, 'actor_optim_factory': {'optim_cls': 'Adam', 'betas': (0.9, 0.999), 'eps': 1e-08, 'weight_decay': 0, 'amsgrad': False}, 'alpha_learning_rate': 0.0001, 'alpha_optim_factory': {'optim_cls': 'Adam', 'betas': (0.9, 0.999), 'eps': 1e-08, 'weight_decay': 0, 'amsgrad': False}, 'alpha_threshold': 10.0, 'batch_size': 256, 'conservative_weight': 5.0, 'critic_encoder_factory': {'type': 'vector', 'params': {'hidden_units': [30, 30], 'activation': 'relu', 'use_batch_norm': False, 'dropout_rate': None, 'use_dense': False}}, 'critic_learning_rate': 0.0003, 'critic_optim_factory': {'optim_cls': 'Adam', 'betas': (0.9, 0.999), 'eps': 1e-08, 'weight_decay': 0, 'amsgrad': False}, 'gamma': 0.99, 'generated_maxlen': 100000, 'initial_alpha': 1.0, 'initial_temperature': 1.0, 'n_action_samples': 10, 'n_critics': 2, 'n_frames': 1, 'n_steps': 1, 'q_func_factory': {'type': 'mean', 'params': {'share_encoder': False}}, 'real_ratio': 1.0, 'reward_scaler': None, 'scaler': None, 'soft_q_backup': False, 'tau': 0.005, 'temp_learning_rate': 0.0001, 'temp_optim_factory': {'optim_cls': 'Adam', 'betas': (0.9, 0.999), 'eps': 1e-08, 'weight_decay': 0, 'amsgrad': False}, 'use_gpu': None, 'algorithm': 'CQL', 'observation_shape': (5,), 'action_size': 3}\n"
     ]
    },
    {
     "data": {
      "application/vnd.jupyter.widget-view+json": {
       "model_id": "4243eec14ec04639858b589371e37a56",
       "version_major": 2,
       "version_minor": 0
      },
      "text/plain": [
       "Epoch 1/1:   0%|          | 0/10000 [00:00<?, ?it/s]"
      ]
     },
     "metadata": {},
     "output_type": "display_data"
    },
    {
     "name": "stdout",
     "output_type": "stream",
     "text": [
      "2023-04-21 15:41:28 [info     ] CQL_20230421153841: epoch=1 step=10000 epoch=1 metrics={'time_sample_batch': 0.0006611957311630249, 'time_algorithm_update': 0.015592681479454041, 'temp_loss': 3.1395994193315504, 'temp': 0.6513148162513971, 'alpha_loss': -29.776415153503418, 'alpha': 1.7945884808301926, 'critic_loss': 32.84601785163879, 'actor_loss': -4.720401388072967, 'time_step': 0.016646797370910644} step=10000\n",
      "2023-04-21 15:41:28 [info     ] Model parameters are saved to d3rlpy_logs/CQL_20230421153841/model_10000.pt\n"
     ]
    },
    {
     "data": {
      "text/plain": [
       "[(1,\n",
       "  {'time_sample_batch': 0.0006611957311630249,\n",
       "   'time_algorithm_update': 0.015592681479454041,\n",
       "   'temp_loss': 3.1395994193315504,\n",
       "   'temp': 0.6513148162513971,\n",
       "   'alpha_loss': -29.776415153503418,\n",
       "   'alpha': 1.7945884808301926,\n",
       "   'critic_loss': 32.84601785163879,\n",
       "   'actor_loss': -4.720401388072967,\n",
       "   'time_step': 0.016646797370910644})]"
      ]
     },
     "execution_count": 20,
     "metadata": {},
     "output_type": "execute_result"
    }
   ],
   "source": [
    "cql.fit(\n",
    "    train_episodes,\n",
    "    eval_episodes=test_episodes,\n",
    "    n_steps=10000,\n",
    "    scorers={},\n",
    ")"
   ]
  },
  {
   "cell_type": "code",
   "execution_count": 21,
   "metadata": {},
   "outputs": [],
   "source": [
    "# save model\n",
    "cql.save_model(\"d3rlpy_logs/cql_continuous.pt\")"
   ]
  },
  {
   "cell_type": "code",
   "execution_count": 22,
   "metadata": {},
   "outputs": [
    {
     "name": "stdout",
     "output_type": "stream",
     "text": [
      "2023-04-21 15:41:28 [warning  ] Parameters will be reinitialized.\n"
     ]
    }
   ],
   "source": [
    "# reload model\n",
    "cql.build_with_env(env)\n",
    "cql.load_model(\"d3rlpy_logs/cql_continuous.pt\")"
   ]
  },
  {
   "cell_type": "markdown",
   "metadata": {},
   "source": [
    "## 2. Off-Policy Evaluation\n",
    "In this section, we aim at evaluating the various performance statistics of policies in an offline manner using (basic) model-based and importance sampling-based estimators.\n",
    "\n",
    "#### Estimation Target\n",
    "\n",
    "The goal to estimate the estimators' average policy performance, the *policy value*.\n",
    "\n",
    "$$ V(\\pi) := \\mathbb{E}\\left[\\sum_{t=1}^T \\gamma^{t-1} r_t \\mid \\pi \\right] $$"
   ]
  },
  {
   "cell_type": "code",
   "execution_count": 23,
   "metadata": {},
   "outputs": [],
   "source": [
    "# import ope modules from OFRL\n",
    "from ofrl.ope import CreateOPEInput\n",
    "from ofrl.ope import OffPolicyEvaluation as OPE\n",
    "# basic estimators\n",
    "from ofrl.ope import ContinuousDirectMethod as DM\n",
    "from ofrl.ope import ContinuousTrajectoryWiseImportanceSampling as TIS\n",
    "from ofrl.ope import ContinuousPerDecisionImportanceSampling as PDIS\n",
    "from ofrl.ope import ContinuousDoublyRobust as DR\n",
    "# self normalized estimators\n",
    "from ofrl.ope import ContinuousSelfNormalizedTrajectoryWiseImportanceSampling as SNTIS\n",
    "from ofrl.ope import ContinuousSelfNormalizedPerDecisionImportanceSampling as SNPDIS\n",
    "from ofrl.ope import ContinuousSelfNormalizedDoublyRobust as SNDR\n",
    "# marginal estimators\n",
    "from ofrl.ope import ContinuousStateActionMarginalImportanceSampling as SAMIS\n",
    "from ofrl.ope import ContinuousStateActionMarginalDoublyRobust as SAMDR\n",
    "from ofrl.ope import ContinuousStateMarginalImportanceSampling as SMIS\n",
    "from ofrl.ope import ContinuousStateMarginalDoublyRobust as SMDR\n",
    "from ofrl.ope import ContinuousStateActionMarginalSelfNormalizedImportanceSampling as SAMSNIS\n",
    "from ofrl.ope import ContinuousStateActionMarginalSelfNormalizedDoublyRobust as SAMSNDR\n",
    "from ofrl.ope import ContinuousStateMarginalSelfNormalizedImportanceSampling as SMSNIS\n",
    "from ofrl.ope import ContinuousStateMarginalSelfNormalizedDoublyRobust as SMSNDR\n",
    "# double reinforcement learning estimators\n",
    "from ofrl.ope import ContinuousDoubleReinforcementLearning as DRL"
   ]
  },
  {
   "cell_type": "code",
   "execution_count": 24,
   "metadata": {},
   "outputs": [],
   "source": [
    "# define evaluation policies (should be deterministic policy)\n",
    "cql_ = ContinuousEvalHead(\n",
    "    base_policy=cql,\n",
    "    name=\"cql\",\n",
    ")\n",
    "sac_ = ContinuousEvalHead(\n",
    "    base_policy=sac, \n",
    "    name=\"sac\", \n",
    ")\n",
    "evaluation_policies = [cql_, sac_]"
   ]
  },
  {
   "cell_type": "code",
   "execution_count": 192,
   "metadata": {},
   "outputs": [],
   "source": [
    "# first, prepare OPE inputs\n",
    "prep = CreateOPEInput(\n",
    "    env=env,\n",
    "    model_args={\n",
    "        \"fqe\": {\n",
    "            \"encoder_factory\": VectorEncoderFactory(hidden_units=[30, 30]),\n",
    "            \"q_func_factory\": MeanQFunctionFactory(),\n",
    "            \"learning_rate\": 1e-4,\n",
    "            \"use_gpu\": torch.cuda.is_available(),\n",
    "        },\n",
    "    },\n",
    "    state_scaler=MinMaxScaler(\n",
    "        minimum=test_logged_dataset[\"state\"].min(axis=0),\n",
    "        maximum=test_logged_dataset[\"state\"].max(axis=0),\n",
    "    ),\n",
    "    action_scaler=MinMaxActionScaler(\n",
    "        minimum=env.action_space.low,  # minimum value that policy can take\n",
    "        maximum=env.action_space.high,  # maximum value that policy can take\n",
    "    ),\n",
    "    gamma=0.95,\n",
    "    sigma=0.5,\n",
    "    device=\"cuda:0\" if torch.cuda.is_available() else \"cpu\",\n",
    ")"
   ]
  },
  {
   "cell_type": "code",
   "execution_count": 193,
   "metadata": {},
   "outputs": [
    {
     "data": {
      "application/vnd.jupyter.widget-view+json": {
       "model_id": "a54f9f4ca13c432e88f342f62628ced8",
       "version_major": 2,
       "version_minor": 0
      },
      "text/plain": [
       "[fit FQE model]:   0%|          | 0/2 [00:00<?, ?it/s]"
      ]
     },
     "metadata": {},
     "output_type": "display_data"
    },
    {
     "name": "stdout",
     "output_type": "stream",
     "text": [
      "2023-04-22 15:48:17 [debug    ] RoundIterator is selected.\n",
      "2023-04-22 15:48:17 [info     ] Directory is created at d3rlpy_logs/FQE_20230422154817\n",
      "2023-04-22 15:48:17 [debug    ] Fitting scaler...              scaler=min_max\n",
      "2023-04-22 15:48:17 [debug    ] Fitting action scaler...       action_scaler=min_max\n",
      "2023-04-22 15:48:17 [debug    ] Building models...\n",
      "2023-04-22 15:48:17 [debug    ] Models have been built.\n",
      "2023-04-22 15:48:17 [info     ] Parameters are saved to d3rlpy_logs/FQE_20230422154817/params.json params={'action_scaler': {'type': 'min_max', 'params': {'minimum': array([-1., -1., -1.]), 'maximum': array([1., 1., 1.])}}, 'batch_size': 100, 'encoder_factory': {'type': 'vector', 'params': {'hidden_units': [30, 30], 'activation': 'relu', 'use_batch_norm': False, 'dropout_rate': None, 'use_dense': False}}, 'gamma': 0.95, 'generated_maxlen': 100000, 'learning_rate': 0.0001, 'n_critics': 1, 'n_frames': 1, 'n_steps': 1, 'optim_factory': {'optim_cls': 'Adam', 'betas': (0.9, 0.999), 'eps': 1e-08, 'weight_decay': 0, 'amsgrad': False}, 'q_func_factory': {'type': 'mean', 'params': {'share_encoder': False}}, 'real_ratio': 1.0, 'reward_scaler': None, 'scaler': {'type': 'min_max', 'params': {'maximum': array([0.99322107, 0.98846274, 0.99875913, 0.9884822 , 0.99728977]), 'minimum': array([-0.98535214, -0.99443459, -0.99654596, -0.99357199, -0.9976912 ])}}, 'target_update_interval': 100, 'use_gpu': None, 'algorithm': 'FQE', 'observation_shape': (5,), 'action_size': 3}\n"
     ]
    },
    {
     "data": {
      "application/vnd.jupyter.widget-view+json": {
       "model_id": "f9294e1d5eb048d694047843d0ba68cc",
       "version_major": 2,
       "version_minor": 0
      },
      "text/plain": [
       "Epoch 1/10:   0%|          | 0/1000 [00:00<?, ?it/s]"
      ]
     },
     "metadata": {},
     "output_type": "display_data"
    },
    {
     "name": "stdout",
     "output_type": "stream",
     "text": [
      "2023-04-22 15:48:18 [info     ] FQE_20230422154817: epoch=1 step=1000 epoch=1 metrics={'time_sample_batch': 0.00012475132942199707, 'time_algorithm_update': 0.0011466543674468995, 'loss': 0.11119061845168471, 'time_step': 0.001312314510345459} step=1000\n",
      "2023-04-22 15:48:18 [info     ] Model parameters are saved to d3rlpy_logs/FQE_20230422154817/model_1000.pt\n"
     ]
    },
    {
     "data": {
      "application/vnd.jupyter.widget-view+json": {
       "model_id": "b275d02a8f224bf8a5343443babc29cb",
       "version_major": 2,
       "version_minor": 0
      },
      "text/plain": [
       "Epoch 2/10:   0%|          | 0/1000 [00:00<?, ?it/s]"
      ]
     },
     "metadata": {},
     "output_type": "display_data"
    },
    {
     "name": "stdout",
     "output_type": "stream",
     "text": [
      "2023-04-22 15:48:19 [info     ] FQE_20230422154817: epoch=2 step=2000 epoch=2 metrics={'time_sample_batch': 0.00011938762664794922, 'time_algorithm_update': 0.0011225223541259765, 'loss': 0.3100190244987607, 'time_step': 0.0012821788787841797} step=2000\n",
      "2023-04-22 15:48:19 [info     ] Model parameters are saved to d3rlpy_logs/FQE_20230422154817/model_2000.pt\n"
     ]
    },
    {
     "data": {
      "application/vnd.jupyter.widget-view+json": {
       "model_id": "e90bc321a20b4c829015f0ff40c76445",
       "version_major": 2,
       "version_minor": 0
      },
      "text/plain": [
       "Epoch 3/10:   0%|          | 0/1000 [00:00<?, ?it/s]"
      ]
     },
     "metadata": {},
     "output_type": "display_data"
    },
    {
     "name": "stdout",
     "output_type": "stream",
     "text": [
      "2023-04-22 15:48:21 [info     ] FQE_20230422154817: epoch=3 step=3000 epoch=3 metrics={'time_sample_batch': 0.00011090922355651856, 'time_algorithm_update': 0.0010452635288238526, 'loss': 0.4563088743239641, 'time_step': 0.0011911747455596925} step=3000\n",
      "2023-04-22 15:48:21 [info     ] Model parameters are saved to d3rlpy_logs/FQE_20230422154817/model_3000.pt\n"
     ]
    },
    {
     "data": {
      "application/vnd.jupyter.widget-view+json": {
       "model_id": "c77f197c7cbf49519a1e9eafbce7ed48",
       "version_major": 2,
       "version_minor": 0
      },
      "text/plain": [
       "Epoch 4/10:   0%|          | 0/1000 [00:00<?, ?it/s]"
      ]
     },
     "metadata": {},
     "output_type": "display_data"
    },
    {
     "name": "stdout",
     "output_type": "stream",
     "text": [
      "2023-04-22 15:48:22 [info     ] FQE_20230422154817: epoch=4 step=4000 epoch=4 metrics={'time_sample_batch': 0.00010402512550354004, 'time_algorithm_update': 0.000987330675125122, 'loss': 0.4977361194193363, 'time_step': 0.0011215898990631103} step=4000\n",
      "2023-04-22 15:48:22 [info     ] Model parameters are saved to d3rlpy_logs/FQE_20230422154817/model_4000.pt\n"
     ]
    },
    {
     "data": {
      "application/vnd.jupyter.widget-view+json": {
       "model_id": "3a62aadfd6c9409eb612f53a79ccb1ca",
       "version_major": 2,
       "version_minor": 0
      },
      "text/plain": [
       "Epoch 5/10:   0%|          | 0/1000 [00:00<?, ?it/s]"
      ]
     },
     "metadata": {},
     "output_type": "display_data"
    },
    {
     "name": "stdout",
     "output_type": "stream",
     "text": [
      "2023-04-22 15:48:23 [info     ] FQE_20230422154817: epoch=5 step=5000 epoch=5 metrics={'time_sample_batch': 0.000107421875, 'time_algorithm_update': 0.001022348165512085, 'loss': 0.5216948812305927, 'time_step': 0.0011626708507537842} step=5000\n",
      "2023-04-22 15:48:23 [info     ] Model parameters are saved to d3rlpy_logs/FQE_20230422154817/model_5000.pt\n"
     ]
    },
    {
     "data": {
      "application/vnd.jupyter.widget-view+json": {
       "model_id": "d18ad26c4289465ba0e78b584c1b5175",
       "version_major": 2,
       "version_minor": 0
      },
      "text/plain": [
       "Epoch 6/10:   0%|          | 0/1000 [00:00<?, ?it/s]"
      ]
     },
     "metadata": {},
     "output_type": "display_data"
    },
    {
     "name": "stdout",
     "output_type": "stream",
     "text": [
      "2023-04-22 15:48:24 [info     ] FQE_20230422154817: epoch=6 step=6000 epoch=6 metrics={'time_sample_batch': 0.00010915756225585937, 'time_algorithm_update': 0.0010367043018341064, 'loss': 0.5377898632884025, 'time_step': 0.001179973840713501} step=6000\n",
      "2023-04-22 15:48:24 [info     ] Model parameters are saved to d3rlpy_logs/FQE_20230422154817/model_6000.pt\n"
     ]
    },
    {
     "data": {
      "application/vnd.jupyter.widget-view+json": {
       "model_id": "e7366f673fb641169a689640f0e065ce",
       "version_major": 2,
       "version_minor": 0
      },
      "text/plain": [
       "Epoch 7/10:   0%|          | 0/1000 [00:00<?, ?it/s]"
      ]
     },
     "metadata": {},
     "output_type": "display_data"
    },
    {
     "name": "stdout",
     "output_type": "stream",
     "text": [
      "2023-04-22 15:48:25 [info     ] FQE_20230422154817: epoch=7 step=7000 epoch=7 metrics={'time_sample_batch': 0.000113234281539917, 'time_algorithm_update': 0.0010537090301513672, 'loss': 0.5518053091317415, 'time_step': 0.0012021074295043945} step=7000\n",
      "2023-04-22 15:48:25 [info     ] Model parameters are saved to d3rlpy_logs/FQE_20230422154817/model_7000.pt\n"
     ]
    },
    {
     "data": {
      "application/vnd.jupyter.widget-view+json": {
       "model_id": "0a5a0c1bdcd54fc3afb0ce016312eacc",
       "version_major": 2,
       "version_minor": 0
      },
      "text/plain": [
       "Epoch 8/10:   0%|          | 0/1000 [00:00<?, ?it/s]"
      ]
     },
     "metadata": {},
     "output_type": "display_data"
    },
    {
     "name": "stdout",
     "output_type": "stream",
     "text": [
      "2023-04-22 15:48:27 [info     ] FQE_20230422154817: epoch=8 step=8000 epoch=8 metrics={'time_sample_batch': 0.00010977482795715331, 'time_algorithm_update': 0.0010351030826568604, 'loss': 0.5494145108759403, 'time_step': 0.0011778793334960938} step=8000\n",
      "2023-04-22 15:48:27 [info     ] Model parameters are saved to d3rlpy_logs/FQE_20230422154817/model_8000.pt\n"
     ]
    },
    {
     "data": {
      "application/vnd.jupyter.widget-view+json": {
       "model_id": "80df5edddca145d48840a9f0e11f56ee",
       "version_major": 2,
       "version_minor": 0
      },
      "text/plain": [
       "Epoch 9/10:   0%|          | 0/1000 [00:00<?, ?it/s]"
      ]
     },
     "metadata": {},
     "output_type": "display_data"
    },
    {
     "name": "stdout",
     "output_type": "stream",
     "text": [
      "2023-04-22 15:48:28 [info     ] FQE_20230422154817: epoch=9 step=9000 epoch=9 metrics={'time_sample_batch': 0.00011044907569885254, 'time_algorithm_update': 0.0010379161834716797, 'loss': 0.5571318417415023, 'time_step': 0.0011824100017547607} step=9000\n",
      "2023-04-22 15:48:28 [info     ] Model parameters are saved to d3rlpy_logs/FQE_20230422154817/model_9000.pt\n"
     ]
    },
    {
     "data": {
      "application/vnd.jupyter.widget-view+json": {
       "model_id": "0b8767b66486446b9f925c5afb0d6bc7",
       "version_major": 2,
       "version_minor": 0
      },
      "text/plain": [
       "Epoch 10/10:   0%|          | 0/1000 [00:00<?, ?it/s]"
      ]
     },
     "metadata": {},
     "output_type": "display_data"
    },
    {
     "name": "stdout",
     "output_type": "stream",
     "text": [
      "2023-04-22 15:48:29 [info     ] FQE_20230422154817: epoch=10 step=10000 epoch=10 metrics={'time_sample_batch': 0.00010640525817871094, 'time_algorithm_update': 0.0010080020427703858, 'loss': 0.5687426952570677, 'time_step': 0.0011461477279663087} step=10000\n",
      "2023-04-22 15:48:29 [info     ] Model parameters are saved to d3rlpy_logs/FQE_20230422154817/model_10000.pt\n",
      "2023-04-22 15:48:29 [debug    ] RoundIterator is selected.\n",
      "2023-04-22 15:48:29 [info     ] Directory is created at d3rlpy_logs/FQE_20230422154829\n",
      "2023-04-22 15:48:29 [debug    ] Fitting scaler...              scaler=min_max\n",
      "2023-04-22 15:48:29 [debug    ] Fitting action scaler...       action_scaler=min_max\n",
      "2023-04-22 15:48:29 [debug    ] Building models...\n",
      "2023-04-22 15:48:29 [debug    ] Models have been built.\n",
      "2023-04-22 15:48:29 [info     ] Parameters are saved to d3rlpy_logs/FQE_20230422154829/params.json params={'action_scaler': {'type': 'min_max', 'params': {'minimum': array([-1., -1., -1.]), 'maximum': array([1., 1., 1.])}}, 'batch_size': 100, 'encoder_factory': {'type': 'vector', 'params': {'hidden_units': [30, 30], 'activation': 'relu', 'use_batch_norm': False, 'dropout_rate': None, 'use_dense': False}}, 'gamma': 0.95, 'generated_maxlen': 100000, 'learning_rate': 0.0001, 'n_critics': 1, 'n_frames': 1, 'n_steps': 1, 'optim_factory': {'optim_cls': 'Adam', 'betas': (0.9, 0.999), 'eps': 1e-08, 'weight_decay': 0, 'amsgrad': False}, 'q_func_factory': {'type': 'mean', 'params': {'share_encoder': False}}, 'real_ratio': 1.0, 'reward_scaler': None, 'scaler': {'type': 'min_max', 'params': {'maximum': array([0.99322107, 0.98846274, 0.99875913, 0.9884822 , 0.99728977]), 'minimum': array([-0.98535214, -0.99443459, -0.99654596, -0.99357199, -0.9976912 ])}}, 'target_update_interval': 100, 'use_gpu': None, 'algorithm': 'FQE', 'observation_shape': (5,), 'action_size': 3}\n"
     ]
    },
    {
     "data": {
      "application/vnd.jupyter.widget-view+json": {
       "model_id": "9e4ecd54ec8a4c41a0fdf84ee9b51f39",
       "version_major": 2,
       "version_minor": 0
      },
      "text/plain": [
       "Epoch 1/10:   0%|          | 0/1000 [00:00<?, ?it/s]"
      ]
     },
     "metadata": {},
     "output_type": "display_data"
    },
    {
     "name": "stdout",
     "output_type": "stream",
     "text": [
      "2023-04-22 15:48:30 [info     ] FQE_20230422154829: epoch=1 step=1000 epoch=1 metrics={'time_sample_batch': 0.00010958194732666016, 'time_algorithm_update': 0.001022606372833252, 'loss': 0.1483132332675159, 'time_step': 0.001166379451751709} step=1000\n",
      "2023-04-22 15:48:30 [info     ] Model parameters are saved to d3rlpy_logs/FQE_20230422154829/model_1000.pt\n"
     ]
    },
    {
     "data": {
      "application/vnd.jupyter.widget-view+json": {
       "model_id": "9dd6fb5b1f6d4df1a35e2872d52ba083",
       "version_major": 2,
       "version_minor": 0
      },
      "text/plain": [
       "Epoch 2/10:   0%|          | 0/1000 [00:00<?, ?it/s]"
      ]
     },
     "metadata": {},
     "output_type": "display_data"
    },
    {
     "name": "stdout",
     "output_type": "stream",
     "text": [
      "2023-04-22 15:48:31 [info     ] FQE_20230422154829: epoch=2 step=2000 epoch=2 metrics={'time_sample_batch': 0.00011515069007873535, 'time_algorithm_update': 0.0010692451000213622, 'loss': 0.600343017116189, 'time_step': 0.0012237749099731445} step=2000\n",
      "2023-04-22 15:48:31 [info     ] Model parameters are saved to d3rlpy_logs/FQE_20230422154829/model_2000.pt\n"
     ]
    },
    {
     "data": {
      "application/vnd.jupyter.widget-view+json": {
       "model_id": "f7d3458805ba48f8aee691227bd54d0f",
       "version_major": 2,
       "version_minor": 0
      },
      "text/plain": [
       "Epoch 3/10:   0%|          | 0/1000 [00:00<?, ?it/s]"
      ]
     },
     "metadata": {},
     "output_type": "display_data"
    },
    {
     "name": "stdout",
     "output_type": "stream",
     "text": [
      "2023-04-22 15:48:33 [info     ] FQE_20230422154829: epoch=3 step=3000 epoch=3 metrics={'time_sample_batch': 0.0001102294921875, 'time_algorithm_update': 0.0010300655364990235, 'loss': 0.8497038486599923, 'time_step': 0.0011758744716644288} step=3000\n",
      "2023-04-22 15:48:33 [info     ] Model parameters are saved to d3rlpy_logs/FQE_20230422154829/model_3000.pt\n"
     ]
    },
    {
     "data": {
      "application/vnd.jupyter.widget-view+json": {
       "model_id": "a78f9f7d78b64e47a072f3bdb701ea25",
       "version_major": 2,
       "version_minor": 0
      },
      "text/plain": [
       "Epoch 4/10:   0%|          | 0/1000 [00:00<?, ?it/s]"
      ]
     },
     "metadata": {},
     "output_type": "display_data"
    },
    {
     "name": "stdout",
     "output_type": "stream",
     "text": [
      "2023-04-22 15:48:34 [info     ] FQE_20230422154829: epoch=4 step=4000 epoch=4 metrics={'time_sample_batch': 0.00011049556732177734, 'time_algorithm_update': 0.0010269672870635985, 'loss': 0.9675616219341755, 'time_step': 0.0011706562042236328} step=4000\n",
      "2023-04-22 15:48:34 [info     ] Model parameters are saved to d3rlpy_logs/FQE_20230422154829/model_4000.pt\n"
     ]
    },
    {
     "data": {
      "application/vnd.jupyter.widget-view+json": {
       "model_id": "38ecad7463d547f5a00a25923106da63",
       "version_major": 2,
       "version_minor": 0
      },
      "text/plain": [
       "Epoch 5/10:   0%|          | 0/1000 [00:00<?, ?it/s]"
      ]
     },
     "metadata": {},
     "output_type": "display_data"
    },
    {
     "name": "stdout",
     "output_type": "stream",
     "text": [
      "2023-04-22 15:48:35 [info     ] FQE_20230422154829: epoch=5 step=5000 epoch=5 metrics={'time_sample_batch': 0.00010168600082397461, 'time_algorithm_update': 0.0009574952125549316, 'loss': 1.0324999829530717, 'time_step': 0.0010856411457061768} step=5000\n",
      "2023-04-22 15:48:35 [info     ] Model parameters are saved to d3rlpy_logs/FQE_20230422154829/model_5000.pt\n"
     ]
    },
    {
     "data": {
      "application/vnd.jupyter.widget-view+json": {
       "model_id": "0c7ff9997a9f46c2b4d4b17a0a4e4f86",
       "version_major": 2,
       "version_minor": 0
      },
      "text/plain": [
       "Epoch 6/10:   0%|          | 0/1000 [00:00<?, ?it/s]"
      ]
     },
     "metadata": {},
     "output_type": "display_data"
    },
    {
     "name": "stdout",
     "output_type": "stream",
     "text": [
      "2023-04-22 15:48:36 [info     ] FQE_20230422154829: epoch=6 step=6000 epoch=6 metrics={'time_sample_batch': 0.0001083979606628418, 'time_algorithm_update': 0.0009991462230682373, 'loss': 1.081721385985613, 'time_step': 0.001136110544204712} step=6000\n",
      "2023-04-22 15:48:36 [info     ] Model parameters are saved to d3rlpy_logs/FQE_20230422154829/model_6000.pt\n"
     ]
    },
    {
     "data": {
      "application/vnd.jupyter.widget-view+json": {
       "model_id": "ed4ecb71153c487b8190f86b6b5e426d",
       "version_major": 2,
       "version_minor": 0
      },
      "text/plain": [
       "Epoch 7/10:   0%|          | 0/1000 [00:00<?, ?it/s]"
      ]
     },
     "metadata": {},
     "output_type": "display_data"
    },
    {
     "name": "stdout",
     "output_type": "stream",
     "text": [
      "2023-04-22 15:48:37 [info     ] FQE_20230422154829: epoch=7 step=7000 epoch=7 metrics={'time_sample_batch': 0.00010352802276611328, 'time_algorithm_update': 0.0009695727825164795, 'loss': 1.1156860946714877, 'time_step': 0.0010991435050964355} step=7000\n",
      "2023-04-22 15:48:37 [info     ] Model parameters are saved to d3rlpy_logs/FQE_20230422154829/model_7000.pt\n"
     ]
    },
    {
     "data": {
      "application/vnd.jupyter.widget-view+json": {
       "model_id": "e289bb41a86044dfa72ae8a6636028a2",
       "version_major": 2,
       "version_minor": 0
      },
      "text/plain": [
       "Epoch 8/10:   0%|          | 0/1000 [00:00<?, ?it/s]"
      ]
     },
     "metadata": {},
     "output_type": "display_data"
    },
    {
     "name": "stdout",
     "output_type": "stream",
     "text": [
      "2023-04-22 15:48:38 [info     ] FQE_20230422154829: epoch=8 step=8000 epoch=8 metrics={'time_sample_batch': 0.00010907793045043945, 'time_algorithm_update': 0.0010080506801605224, 'loss': 1.11243234449625, 'time_step': 0.0011465442180633545} step=8000\n",
      "2023-04-22 15:48:38 [info     ] Model parameters are saved to d3rlpy_logs/FQE_20230422154829/model_8000.pt\n"
     ]
    },
    {
     "data": {
      "application/vnd.jupyter.widget-view+json": {
       "model_id": "2eecf20792a342ef892f884b7aedf5aa",
       "version_major": 2,
       "version_minor": 0
      },
      "text/plain": [
       "Epoch 9/10:   0%|          | 0/1000 [00:00<?, ?it/s]"
      ]
     },
     "metadata": {},
     "output_type": "display_data"
    },
    {
     "name": "stdout",
     "output_type": "stream",
     "text": [
      "2023-04-22 15:48:40 [info     ] FQE_20230422154829: epoch=9 step=9000 epoch=9 metrics={'time_sample_batch': 0.0001028437614440918, 'time_algorithm_update': 0.0010930769443511963, 'loss': 1.1108386031389237, 'time_step': 0.0012236526012420655} step=9000\n",
      "2023-04-22 15:48:40 [info     ] Model parameters are saved to d3rlpy_logs/FQE_20230422154829/model_9000.pt\n"
     ]
    },
    {
     "data": {
      "application/vnd.jupyter.widget-view+json": {
       "model_id": "780725fd098f47a2a065702e7d283d24",
       "version_major": 2,
       "version_minor": 0
      },
      "text/plain": [
       "Epoch 10/10:   0%|          | 0/1000 [00:00<?, ?it/s]"
      ]
     },
     "metadata": {},
     "output_type": "display_data"
    },
    {
     "name": "stdout",
     "output_type": "stream",
     "text": [
      "2023-04-22 15:48:41 [info     ] FQE_20230422154829: epoch=10 step=10000 epoch=10 metrics={'time_sample_batch': 9.640312194824219e-05, 'time_algorithm_update': 0.0009180707931518555, 'loss': 1.1425571176707745, 'time_step': 0.0010357933044433593} step=10000\n",
      "2023-04-22 15:48:41 [info     ] Model parameters are saved to d3rlpy_logs/FQE_20230422154829/model_10000.pt\n"
     ]
    },
    {
     "data": {
      "application/vnd.jupyter.widget-view+json": {
       "model_id": "e6d9b6a2eeb74d81a306ebc1f6df24d7",
       "version_major": 2,
       "version_minor": 0
      },
      "text/plain": [
       "[fit Augmented Lagrangian model]:   0%|          | 0/2 [00:00<?, ?it/s]"
      ]
     },
     "metadata": {},
     "output_type": "display_data"
    },
    {
     "data": {
      "application/vnd.jupyter.widget-view+json": {
       "model_id": "f979dadf707d49da912089b9335e2d39",
       "version_major": 2,
       "version_minor": 0
      },
      "text/plain": [
       "[fitting_weight_and_value_functions]:   0%|          | 0/10 [00:00<?, ?it/s]"
      ]
     },
     "metadata": {},
     "output_type": "display_data"
    },
    {
     "data": {
      "application/vnd.jupyter.widget-view+json": {
       "model_id": "68e311537ec24d738f1be0f700640e0d",
       "version_major": 2,
       "version_minor": 0
      },
      "text/plain": [
       "[epoch:    0]:   0%|          | 0/1000 [00:00<?, ?it/s]"
      ]
     },
     "metadata": {},
     "output_type": "display_data"
    },
    {
     "name": "stdout",
     "output_type": "stream",
     "text": [
      "epoch=   0, objective_loss=-0.046, \n"
     ]
    },
    {
     "data": {
      "application/vnd.jupyter.widget-view+json": {
       "model_id": "ecc1a424bdca468cb7f1def826b5fb68",
       "version_major": 2,
       "version_minor": 0
      },
      "text/plain": [
       "[epoch:    1]:   0%|          | 0/1000 [00:00<?, ?it/s]"
      ]
     },
     "metadata": {},
     "output_type": "display_data"
    },
    {
     "name": "stdout",
     "output_type": "stream",
     "text": [
      "epoch=   1, objective_loss=-0.206, \n"
     ]
    },
    {
     "data": {
      "application/vnd.jupyter.widget-view+json": {
       "model_id": "9391641dca2f469eb2a4f9d038265bbf",
       "version_major": 2,
       "version_minor": 0
      },
      "text/plain": [
       "[epoch:    2]:   0%|          | 0/1000 [00:00<?, ?it/s]"
      ]
     },
     "metadata": {},
     "output_type": "display_data"
    },
    {
     "name": "stdout",
     "output_type": "stream",
     "text": [
      "epoch=   2, objective_loss=-0.324, \n"
     ]
    },
    {
     "data": {
      "application/vnd.jupyter.widget-view+json": {
       "model_id": "83ea4fa2019f4aa09c466157e1164c8f",
       "version_major": 2,
       "version_minor": 0
      },
      "text/plain": [
       "[epoch:    3]:   0%|          | 0/1000 [00:00<?, ?it/s]"
      ]
     },
     "metadata": {},
     "output_type": "display_data"
    },
    {
     "name": "stdout",
     "output_type": "stream",
     "text": [
      "epoch=   3, objective_loss=-0.435, \n"
     ]
    },
    {
     "data": {
      "application/vnd.jupyter.widget-view+json": {
       "model_id": "cba8b6697c8244dabef93819821efe9a",
       "version_major": 2,
       "version_minor": 0
      },
      "text/plain": [
       "[epoch:    4]:   0%|          | 0/1000 [00:00<?, ?it/s]"
      ]
     },
     "metadata": {},
     "output_type": "display_data"
    },
    {
     "name": "stdout",
     "output_type": "stream",
     "text": [
      "epoch=   4, objective_loss=-0.343, \n"
     ]
    },
    {
     "data": {
      "application/vnd.jupyter.widget-view+json": {
       "model_id": "6c40c7aff7d140c3ab9c93f306d9ba68",
       "version_major": 2,
       "version_minor": 0
      },
      "text/plain": [
       "[epoch:    5]:   0%|          | 0/1000 [00:00<?, ?it/s]"
      ]
     },
     "metadata": {},
     "output_type": "display_data"
    },
    {
     "name": "stdout",
     "output_type": "stream",
     "text": [
      "epoch=   5, objective_loss=-0.531, \n"
     ]
    },
    {
     "data": {
      "application/vnd.jupyter.widget-view+json": {
       "model_id": "c378f64b114b46d097f651c3f9cb0dcc",
       "version_major": 2,
       "version_minor": 0
      },
      "text/plain": [
       "[epoch:    6]:   0%|          | 0/1000 [00:00<?, ?it/s]"
      ]
     },
     "metadata": {},
     "output_type": "display_data"
    },
    {
     "name": "stdout",
     "output_type": "stream",
     "text": [
      "epoch=   6, objective_loss=-0.494, \n"
     ]
    },
    {
     "data": {
      "application/vnd.jupyter.widget-view+json": {
       "model_id": "67116b5dfd0b46549a6eb05b21108877",
       "version_major": 2,
       "version_minor": 0
      },
      "text/plain": [
       "[epoch:    7]:   0%|          | 0/1000 [00:00<?, ?it/s]"
      ]
     },
     "metadata": {},
     "output_type": "display_data"
    },
    {
     "name": "stdout",
     "output_type": "stream",
     "text": [
      "epoch=   7, objective_loss=-0.695, \n"
     ]
    },
    {
     "data": {
      "application/vnd.jupyter.widget-view+json": {
       "model_id": "0f4ca51aa203418d9de2801ac4f56ff8",
       "version_major": 2,
       "version_minor": 0
      },
      "text/plain": [
       "[epoch:    8]:   0%|          | 0/1000 [00:00<?, ?it/s]"
      ]
     },
     "metadata": {},
     "output_type": "display_data"
    },
    {
     "name": "stdout",
     "output_type": "stream",
     "text": [
      "epoch=   8, objective_loss=-0.783, \n"
     ]
    },
    {
     "data": {
      "application/vnd.jupyter.widget-view+json": {
       "model_id": "4d51778cf26f4cc8b08413f529f7d4e4",
       "version_major": 2,
       "version_minor": 0
      },
      "text/plain": [
       "[epoch:    9]:   0%|          | 0/1000 [00:00<?, ?it/s]"
      ]
     },
     "metadata": {},
     "output_type": "display_data"
    },
    {
     "name": "stdout",
     "output_type": "stream",
     "text": [
      "epoch=   9, objective_loss=-0.920, \n"
     ]
    },
    {
     "data": {
      "application/vnd.jupyter.widget-view+json": {
       "model_id": "62dccd91017e4d68b5a490f188307346",
       "version_major": 2,
       "version_minor": 0
      },
      "text/plain": [
       "[fitting_weight_and_value_functions]:   0%|          | 0/10 [00:00<?, ?it/s]"
      ]
     },
     "metadata": {},
     "output_type": "display_data"
    },
    {
     "data": {
      "application/vnd.jupyter.widget-view+json": {
       "model_id": "8e51d51ba1714a01a69c8c3e3d2303e9",
       "version_major": 2,
       "version_minor": 0
      },
      "text/plain": [
       "[epoch:    0]:   0%|          | 0/100 [00:00<?, ?it/s]"
      ]
     },
     "metadata": {},
     "output_type": "display_data"
    },
    {
     "name": "stdout",
     "output_type": "stream",
     "text": [
      "epoch=   0, objective_loss=-288.081, \n"
     ]
    },
    {
     "data": {
      "application/vnd.jupyter.widget-view+json": {
       "model_id": "3c0c715aba034f5ba520b2cefd86d0a0",
       "version_major": 2,
       "version_minor": 0
      },
      "text/plain": [
       "[epoch:    1]:   0%|          | 0/100 [00:00<?, ?it/s]"
      ]
     },
     "metadata": {},
     "output_type": "display_data"
    },
    {
     "name": "stdout",
     "output_type": "stream",
     "text": [
      "epoch=   1, objective_loss=-290.492, \n"
     ]
    },
    {
     "data": {
      "application/vnd.jupyter.widget-view+json": {
       "model_id": "aced91af6e2a46ceb17664b8f660002a",
       "version_major": 2,
       "version_minor": 0
      },
      "text/plain": [
       "[epoch:    2]:   0%|          | 0/100 [00:00<?, ?it/s]"
      ]
     },
     "metadata": {},
     "output_type": "display_data"
    },
    {
     "name": "stdout",
     "output_type": "stream",
     "text": [
      "epoch=   2, objective_loss=-377.944, \n"
     ]
    },
    {
     "data": {
      "application/vnd.jupyter.widget-view+json": {
       "model_id": "218cd692a9b4474c8a932eabd8354c19",
       "version_major": 2,
       "version_minor": 0
      },
      "text/plain": [
       "[epoch:    3]:   0%|          | 0/100 [00:00<?, ?it/s]"
      ]
     },
     "metadata": {},
     "output_type": "display_data"
    },
    {
     "name": "stdout",
     "output_type": "stream",
     "text": [
      "epoch=   3, objective_loss=-134.040, \n"
     ]
    },
    {
     "data": {
      "application/vnd.jupyter.widget-view+json": {
       "model_id": "da8aa7da67ad4a0ca1a93b925c04343e",
       "version_major": 2,
       "version_minor": 0
      },
      "text/plain": [
       "[epoch:    4]:   0%|          | 0/100 [00:00<?, ?it/s]"
      ]
     },
     "metadata": {},
     "output_type": "display_data"
    },
    {
     "name": "stdout",
     "output_type": "stream",
     "text": [
      "epoch=   4, objective_loss=-88.003, \n"
     ]
    },
    {
     "data": {
      "application/vnd.jupyter.widget-view+json": {
       "model_id": "6c6b068345eb4b149f6b4665d27a7a4a",
       "version_major": 2,
       "version_minor": 0
      },
      "text/plain": [
       "[epoch:    5]:   0%|          | 0/100 [00:00<?, ?it/s]"
      ]
     },
     "metadata": {},
     "output_type": "display_data"
    },
    {
     "name": "stdout",
     "output_type": "stream",
     "text": [
      "epoch=   5, objective_loss=-71.463, \n"
     ]
    },
    {
     "data": {
      "application/vnd.jupyter.widget-view+json": {
       "model_id": "455204fd25764ac89283772593ad3961",
       "version_major": 2,
       "version_minor": 0
      },
      "text/plain": [
       "[epoch:    6]:   0%|          | 0/100 [00:00<?, ?it/s]"
      ]
     },
     "metadata": {},
     "output_type": "display_data"
    },
    {
     "name": "stdout",
     "output_type": "stream",
     "text": [
      "epoch=   6, objective_loss=-61.426, \n"
     ]
    },
    {
     "data": {
      "application/vnd.jupyter.widget-view+json": {
       "model_id": "3072e7360ad44c5997b41e6137f74d6a",
       "version_major": 2,
       "version_minor": 0
      },
      "text/plain": [
       "[epoch:    7]:   0%|          | 0/100 [00:00<?, ?it/s]"
      ]
     },
     "metadata": {},
     "output_type": "display_data"
    },
    {
     "name": "stdout",
     "output_type": "stream",
     "text": [
      "epoch=   7, objective_loss=-35.113, \n"
     ]
    },
    {
     "data": {
      "application/vnd.jupyter.widget-view+json": {
       "model_id": "52f5e3fa1bae47609f5881cfc99d5145",
       "version_major": 2,
       "version_minor": 0
      },
      "text/plain": [
       "[epoch:    8]:   0%|          | 0/100 [00:00<?, ?it/s]"
      ]
     },
     "metadata": {},
     "output_type": "display_data"
    },
    {
     "name": "stdout",
     "output_type": "stream",
     "text": [
      "epoch=   8, objective_loss=-19.828, \n"
     ]
    },
    {
     "data": {
      "application/vnd.jupyter.widget-view+json": {
       "model_id": "34d3107f0e974f05ba52ba4d20854a86",
       "version_major": 2,
       "version_minor": 0
      },
      "text/plain": [
       "[epoch:    9]:   0%|          | 0/100 [00:00<?, ?it/s]"
      ]
     },
     "metadata": {},
     "output_type": "display_data"
    },
    {
     "name": "stdout",
     "output_type": "stream",
     "text": [
      "epoch=   9, objective_loss=-5.423, \n"
     ]
    },
    {
     "data": {
      "application/vnd.jupyter.widget-view+json": {
       "model_id": "b511a35de1df4feaabf94b9e45c716be",
       "version_major": 2,
       "version_minor": 0
      },
      "text/plain": [
       "[fitting_weight_and_value_functions]:   0%|          | 0/10 [00:00<?, ?it/s]"
      ]
     },
     "metadata": {},
     "output_type": "display_data"
    },
    {
     "data": {
      "application/vnd.jupyter.widget-view+json": {
       "model_id": "8517740c419747aca430fde5569d5a0e",
       "version_major": 2,
       "version_minor": 0
      },
      "text/plain": [
       "[epoch:    0]:   0%|          | 0/1000 [00:00<?, ?it/s]"
      ]
     },
     "metadata": {},
     "output_type": "display_data"
    },
    {
     "name": "stdout",
     "output_type": "stream",
     "text": [
      "epoch=   0, objective_loss=-0.049, \n"
     ]
    },
    {
     "data": {
      "application/vnd.jupyter.widget-view+json": {
       "model_id": "85fa425d00344811967adf0e5af84ec3",
       "version_major": 2,
       "version_minor": 0
      },
      "text/plain": [
       "[epoch:    1]:   0%|          | 0/1000 [00:00<?, ?it/s]"
      ]
     },
     "metadata": {},
     "output_type": "display_data"
    },
    {
     "name": "stdout",
     "output_type": "stream",
     "text": [
      "epoch=   1, objective_loss=-0.144, \n"
     ]
    },
    {
     "data": {
      "application/vnd.jupyter.widget-view+json": {
       "model_id": "66c8eeb5f6fc49a69c940588354d90fe",
       "version_major": 2,
       "version_minor": 0
      },
      "text/plain": [
       "[epoch:    2]:   0%|          | 0/1000 [00:00<?, ?it/s]"
      ]
     },
     "metadata": {},
     "output_type": "display_data"
    },
    {
     "name": "stdout",
     "output_type": "stream",
     "text": [
      "epoch=   2, objective_loss=-0.293, \n"
     ]
    },
    {
     "data": {
      "application/vnd.jupyter.widget-view+json": {
       "model_id": "616bc23f852a433481ed502f09739612",
       "version_major": 2,
       "version_minor": 0
      },
      "text/plain": [
       "[epoch:    3]:   0%|          | 0/1000 [00:00<?, ?it/s]"
      ]
     },
     "metadata": {},
     "output_type": "display_data"
    },
    {
     "name": "stdout",
     "output_type": "stream",
     "text": [
      "epoch=   3, objective_loss=-0.401, \n"
     ]
    },
    {
     "data": {
      "application/vnd.jupyter.widget-view+json": {
       "model_id": "b35eb269d67b437593bc3f00c7c80810",
       "version_major": 2,
       "version_minor": 0
      },
      "text/plain": [
       "[epoch:    4]:   0%|          | 0/1000 [00:00<?, ?it/s]"
      ]
     },
     "metadata": {},
     "output_type": "display_data"
    },
    {
     "name": "stdout",
     "output_type": "stream",
     "text": [
      "epoch=   4, objective_loss=-0.478, \n"
     ]
    },
    {
     "data": {
      "application/vnd.jupyter.widget-view+json": {
       "model_id": "5cc32ffcdf0b410394c7c3bf4416cac5",
       "version_major": 2,
       "version_minor": 0
      },
      "text/plain": [
       "[epoch:    5]:   0%|          | 0/1000 [00:00<?, ?it/s]"
      ]
     },
     "metadata": {},
     "output_type": "display_data"
    },
    {
     "name": "stdout",
     "output_type": "stream",
     "text": [
      "epoch=   5, objective_loss=-0.627, \n"
     ]
    },
    {
     "data": {
      "application/vnd.jupyter.widget-view+json": {
       "model_id": "45822a82a72548cebbe55aec8a5113e1",
       "version_major": 2,
       "version_minor": 0
      },
      "text/plain": [
       "[epoch:    6]:   0%|          | 0/1000 [00:00<?, ?it/s]"
      ]
     },
     "metadata": {},
     "output_type": "display_data"
    },
    {
     "name": "stdout",
     "output_type": "stream",
     "text": [
      "epoch=   6, objective_loss=-0.725, \n"
     ]
    },
    {
     "data": {
      "application/vnd.jupyter.widget-view+json": {
       "model_id": "b476bd6d57e443118e7de651bdfe4fdf",
       "version_major": 2,
       "version_minor": 0
      },
      "text/plain": [
       "[epoch:    7]:   0%|          | 0/1000 [00:00<?, ?it/s]"
      ]
     },
     "metadata": {},
     "output_type": "display_data"
    },
    {
     "name": "stdout",
     "output_type": "stream",
     "text": [
      "epoch=   7, objective_loss=-0.746, \n"
     ]
    },
    {
     "data": {
      "application/vnd.jupyter.widget-view+json": {
       "model_id": "53afb7e0197c45a987e89ad435c34f45",
       "version_major": 2,
       "version_minor": 0
      },
      "text/plain": [
       "[epoch:    8]:   0%|          | 0/1000 [00:00<?, ?it/s]"
      ]
     },
     "metadata": {},
     "output_type": "display_data"
    },
    {
     "name": "stdout",
     "output_type": "stream",
     "text": [
      "epoch=   8, objective_loss=-0.680, \n"
     ]
    },
    {
     "data": {
      "application/vnd.jupyter.widget-view+json": {
       "model_id": "f8f4428274a94267b594ea92fd0cd9e4",
       "version_major": 2,
       "version_minor": 0
      },
      "text/plain": [
       "[epoch:    9]:   0%|          | 0/1000 [00:00<?, ?it/s]"
      ]
     },
     "metadata": {},
     "output_type": "display_data"
    },
    {
     "name": "stdout",
     "output_type": "stream",
     "text": [
      "epoch=   9, objective_loss=-0.980, \n"
     ]
    },
    {
     "data": {
      "application/vnd.jupyter.widget-view+json": {
       "model_id": "79d1b72222ad43cc901355943fbb2ebf",
       "version_major": 2,
       "version_minor": 0
      },
      "text/plain": [
       "[fitting_weight_and_value_functions]:   0%|          | 0/10 [00:00<?, ?it/s]"
      ]
     },
     "metadata": {},
     "output_type": "display_data"
    },
    {
     "data": {
      "application/vnd.jupyter.widget-view+json": {
       "model_id": "6bd112f39fb54817b4807284db6f72b9",
       "version_major": 2,
       "version_minor": 0
      },
      "text/plain": [
       "[epoch:    0]:   0%|          | 0/100 [00:00<?, ?it/s]"
      ]
     },
     "metadata": {},
     "output_type": "display_data"
    },
    {
     "name": "stdout",
     "output_type": "stream",
     "text": [
      "epoch=   0, objective_loss=-186.068, \n"
     ]
    },
    {
     "data": {
      "application/vnd.jupyter.widget-view+json": {
       "model_id": "315f54838c0d4316b73dd63889179ca5",
       "version_major": 2,
       "version_minor": 0
      },
      "text/plain": [
       "[epoch:    1]:   0%|          | 0/100 [00:00<?, ?it/s]"
      ]
     },
     "metadata": {},
     "output_type": "display_data"
    },
    {
     "name": "stdout",
     "output_type": "stream",
     "text": [
      "epoch=   1, objective_loss=-168.894, \n"
     ]
    },
    {
     "data": {
      "application/vnd.jupyter.widget-view+json": {
       "model_id": "9b58e00058614cdc90bfae264c37e283",
       "version_major": 2,
       "version_minor": 0
      },
      "text/plain": [
       "[epoch:    2]:   0%|          | 0/100 [00:00<?, ?it/s]"
      ]
     },
     "metadata": {},
     "output_type": "display_data"
    },
    {
     "name": "stdout",
     "output_type": "stream",
     "text": [
      "epoch=   2, objective_loss=-217.480, \n"
     ]
    },
    {
     "data": {
      "application/vnd.jupyter.widget-view+json": {
       "model_id": "ec951928ebf5450e9c03f66c0aadd379",
       "version_major": 2,
       "version_minor": 0
      },
      "text/plain": [
       "[epoch:    3]:   0%|          | 0/100 [00:00<?, ?it/s]"
      ]
     },
     "metadata": {},
     "output_type": "display_data"
    },
    {
     "name": "stdout",
     "output_type": "stream",
     "text": [
      "epoch=   3, objective_loss=-80.988, \n"
     ]
    },
    {
     "data": {
      "application/vnd.jupyter.widget-view+json": {
       "model_id": "5416c13321334972a2cc6da660059294",
       "version_major": 2,
       "version_minor": 0
      },
      "text/plain": [
       "[epoch:    4]:   0%|          | 0/100 [00:00<?, ?it/s]"
      ]
     },
     "metadata": {},
     "output_type": "display_data"
    },
    {
     "name": "stdout",
     "output_type": "stream",
     "text": [
      "epoch=   4, objective_loss=-56.363, \n"
     ]
    },
    {
     "data": {
      "application/vnd.jupyter.widget-view+json": {
       "model_id": "8ada6f8272774b4aa78500002b55c84a",
       "version_major": 2,
       "version_minor": 0
      },
      "text/plain": [
       "[epoch:    5]:   0%|          | 0/100 [00:00<?, ?it/s]"
      ]
     },
     "metadata": {},
     "output_type": "display_data"
    },
    {
     "name": "stdout",
     "output_type": "stream",
     "text": [
      "epoch=   5, objective_loss=-43.366, \n"
     ]
    },
    {
     "data": {
      "application/vnd.jupyter.widget-view+json": {
       "model_id": "1a89ffe688ee4f8b8307dfbb5c57c2ed",
       "version_major": 2,
       "version_minor": 0
      },
      "text/plain": [
       "[epoch:    6]:   0%|          | 0/100 [00:00<?, ?it/s]"
      ]
     },
     "metadata": {},
     "output_type": "display_data"
    },
    {
     "name": "stdout",
     "output_type": "stream",
     "text": [
      "epoch=   6, objective_loss=-34.520, \n"
     ]
    },
    {
     "data": {
      "application/vnd.jupyter.widget-view+json": {
       "model_id": "7ea93bdaf5894ce1bcef893228e86be3",
       "version_major": 2,
       "version_minor": 0
      },
      "text/plain": [
       "[epoch:    7]:   0%|          | 0/100 [00:00<?, ?it/s]"
      ]
     },
     "metadata": {},
     "output_type": "display_data"
    },
    {
     "name": "stdout",
     "output_type": "stream",
     "text": [
      "epoch=   7, objective_loss=-19.369, \n"
     ]
    },
    {
     "data": {
      "application/vnd.jupyter.widget-view+json": {
       "model_id": "4bea78d26a484328a7b336e420edeb96",
       "version_major": 2,
       "version_minor": 0
      },
      "text/plain": [
       "[epoch:    8]:   0%|          | 0/100 [00:00<?, ?it/s]"
      ]
     },
     "metadata": {},
     "output_type": "display_data"
    },
    {
     "name": "stdout",
     "output_type": "stream",
     "text": [
      "epoch=   8, objective_loss=-10.796, \n"
     ]
    },
    {
     "data": {
      "application/vnd.jupyter.widget-view+json": {
       "model_id": "4372fe4285a44e89af923516f067220e",
       "version_major": 2,
       "version_minor": 0
      },
      "text/plain": [
       "[epoch:    9]:   0%|          | 0/100 [00:00<?, ?it/s]"
      ]
     },
     "metadata": {},
     "output_type": "display_data"
    },
    {
     "name": "stdout",
     "output_type": "stream",
     "text": [
      "epoch=   9, objective_loss=-3.243, \n"
     ]
    },
    {
     "data": {
      "application/vnd.jupyter.widget-view+json": {
       "model_id": "191fe4f0da2746bea8e6ba0ec48f4dd6",
       "version_major": 2,
       "version_minor": 0
      },
      "text/plain": [
       "[collect input data: eval_policy]:   0%|          | 0/2 [00:00<?, ?it/s]"
      ]
     },
     "metadata": {},
     "output_type": "display_data"
    },
    {
     "data": {
      "application/vnd.jupyter.widget-view+json": {
       "model_id": "631f74548a724f298b8ac9e970517ba4",
       "version_major": 2,
       "version_minor": 0
      },
      "text/plain": [
       "[calculate on-policy policy value]:   0%|          | 0/100 [00:00<?, ?it/s]"
      ]
     },
     "metadata": {},
     "output_type": "display_data"
    },
    {
     "data": {
      "application/vnd.jupyter.widget-view+json": {
       "model_id": "bbe28bfe20604226be21b8f77e8f490b",
       "version_major": 2,
       "version_minor": 0
      },
      "text/plain": [
       "[calculate on-policy policy value]:   0%|          | 0/100 [00:00<?, ?it/s]"
      ]
     },
     "metadata": {},
     "output_type": "display_data"
    }
   ],
   "source": [
    "# takes time\n",
    "input_dict = prep.obtain_whole_inputs(\n",
    "    logged_dataset=test_logged_dataset,\n",
    "    evaluation_policies=evaluation_policies,\n",
    "    require_value_prediction=True,\n",
    "    require_weight_prediction=True,\n",
    "    n_epochs=10,\n",
    "    n_trajectories_on_policy_evaluation=100,\n",
    "    random_state=random_state,\n",
    ")"
   ]
  },
  {
   "cell_type": "code",
   "execution_count": 194,
   "metadata": {},
   "outputs": [],
   "source": [
    "with open(\"logs/ope_input_dict_continuous_zoo.pkl\", \"wb\") as f:\n",
    "    pickle.dump(input_dict, f)"
   ]
  },
  {
   "cell_type": "code",
   "execution_count": 195,
   "metadata": {},
   "outputs": [],
   "source": [
    "with open(\"logs/ope_input_dict_continuous_zoo.pkl\", \"rb\") as f:\n",
    "    input_dict = pickle.load(f)"
   ]
  },
  {
   "cell_type": "code",
   "execution_count": 196,
   "metadata": {},
   "outputs": [],
   "source": [
    "basic_estimators = [DM(), TIS(), PDIS(), DR(), SNTIS(), SNPDIS(), SNDR()]\n",
    "state_marginal_estimators = [SMIS(), SMDR(), SMSNIS(), SMSNDR()]\n",
    "state_action_marginal_estimators = [SAMIS(), SAMDR(), SAMSNIS(), SAMSNDR()]\n",
    "drl_estimators = [DRL()]\n",
    "all_estimators = basic_estimators + state_marginal_estimators + state_action_marginal_estimators + drl_estimators"
   ]
  },
  {
   "cell_type": "code",
   "execution_count": 197,
   "metadata": {},
   "outputs": [],
   "source": [
    "basic_estimators_name = [\"dm\", \"tis\", \"pdis\", \"dr\", \"sntis\", \"snpdis\", \"sndr\"]\n",
    "state_marginal_estimators_name = [\"sm_is\", \"sm_dr\", \"sm_snis\", \"sm_sndr\"]\n",
    "state_action_marginal_estimators_name = [\"sam_is\", \"sam_dr\", \"sam_snis\", \"sam_sndr\"]\n",
    "drl_estimators_name = [\"drl\"]"
   ]
  },
  {
   "cell_type": "code",
   "execution_count": 198,
   "metadata": {},
   "outputs": [],
   "source": [
    "ope = OPE(\n",
    "    logged_dataset=test_logged_dataset,\n",
    "    ope_estimators=all_estimators,\n",
    "    action_scaler=MinMaxActionScaler(\n",
    "        minimum=env.action_space.low,  # minimum value that policy can take\n",
    "        maximum=env.action_space.high,  # maximum value that policy can take\n",
    "    ),\n",
    "    sigma=0.1,\n",
    ")"
   ]
  },
  {
   "cell_type": "code",
   "execution_count": 199,
   "metadata": {},
   "outputs": [
    {
     "data": {
      "text/plain": [
       "{'cql':            policy_value  relative_policy_value\n",
       " on_policy  3.477378e+00           1.000000e+00\n",
       " dm         2.569958e+00           7.390504e-01\n",
       " tis       -1.479786e-52          -4.255464e-53\n",
       " pdis      -1.134858e-05          -3.263546e-06\n",
       " dr         2.569963e+00           7.390519e-01\n",
       " sntis     -1.479786e-42          -4.255464e-43\n",
       " snpdis    -5.551553e-01          -1.596477e-01\n",
       " sndr       2.875022e+00           8.267788e-01\n",
       " sm_is      9.862246e-03           2.836115e-03\n",
       " sm_dr      2.586097e+00           7.436917e-01\n",
       " sm_snis    1.055867e+00           3.036388e-01\n",
       " sm_sndr    4.300141e+00           1.236604e+00\n",
       " sam_is     4.583790e-01           1.318174e-01\n",
       " sam_dr     3.157394e+00           9.079813e-01\n",
       " sam_snis   2.086126e+00           5.999135e-01\n",
       " sam_sndr   5.245346e+00           1.508420e+00\n",
       " drl        2.804276e+00           8.064340e-01,\n",
       " 'sac':             policy_value  relative_policy_value\n",
       " on_policy   4.804073e+00           1.000000e+00\n",
       " dm          3.640935e+00           7.578851e-01\n",
       " tis        6.794207e-155          1.414260e-155\n",
       " pdis       -3.539953e-13          -7.368650e-14\n",
       " dr          3.640935e+00           7.578851e-01\n",
       " sntis      6.794207e-145          1.414260e-145\n",
       " snpdis     -3.486402e-03          -7.257179e-04\n",
       " sndr        3.646601e+00           7.590644e-01\n",
       " sm_is       9.501826e-03           1.977869e-03\n",
       " sm_dr       3.664063e+00           7.626993e-01\n",
       " sm_snis     1.055058e+00           2.196174e-01\n",
       " sm_sndr     6.211811e+00           1.293030e+00\n",
       " sam_is      4.672001e-01           9.725084e-02\n",
       " sam_dr      4.213375e+00           8.770422e-01\n",
       " sam_snis    2.902803e+00           6.042378e-01\n",
       " sam_sndr    7.197956e+00           1.498303e+00\n",
       " drl         3.884484e+00           8.085813e-01}"
      ]
     },
     "execution_count": 199,
     "metadata": {},
     "output_type": "execute_result"
    }
   ],
   "source": [
    "# policy value estimation by ope\n",
    "policy_value_df_dict, policy_value_interval_df_dict = ope.summarize_off_policy_estimates(\n",
    "    input_dict, \n",
    "    random_state=random_state,\n",
    ")\n",
    "# dictionary of the estimation\n",
    "policy_value_df_dict"
   ]
  },
  {
   "cell_type": "code",
   "execution_count": 200,
   "metadata": {},
   "outputs": [
    {
     "data": {
      "image/png": "[encoded data removed]",
      "text/plain": [
       "<Figure size 1400x800 with 2 Axes>"
      ]
     },
     "metadata": {},
     "output_type": "display_data"
    }
   ],
   "source": [
    "# visualize and compare the result\n",
    "ope.visualize_off_policy_estimates(\n",
    "    input_dict, \n",
    "    compared_estimators=basic_estimators_name,\n",
    "    random_state=random_state, \n",
    "    sharey=False,\n",
    ")\n",
    "# relative policy value to the behavior policy\n",
    "# ope.visualize_off_policy_estimates(input_dict, random_state=random_state, is_relative=True, sharey=False)"
   ]
  },
  {
   "cell_type": "code",
   "execution_count": 201,
   "metadata": {},
   "outputs": [
    {
     "data": {
      "image/png": "[encoded data removed]",
      "text/plain": [
       "<Figure size 800x800 with 2 Axes>"
      ]
     },
     "metadata": {},
     "output_type": "display_data"
    }
   ],
   "source": [
    "# visualize and compare the result\n",
    "ope.visualize_off_policy_estimates(\n",
    "    input_dict, \n",
    "    compared_estimators=state_marginal_estimators_name,\n",
    "    random_state=random_state, \n",
    "    sharey=False,\n",
    ")"
   ]
  },
  {
   "cell_type": "code",
   "execution_count": 202,
   "metadata": {},
   "outputs": [
    {
     "data": {
      "image/png": "[encoded data removed]",
      "text/plain": [
       "<Figure size 800x800 with 2 Axes>"
      ]
     },
     "metadata": {},
     "output_type": "display_data"
    }
   ],
   "source": [
    "# visualize and compare the result\n",
    "ope.visualize_off_policy_estimates(\n",
    "    input_dict, \n",
    "    compared_estimators=state_action_marginal_estimators_name,\n",
    "    random_state=random_state, \n",
    "    sharey=False,\n",
    ")"
   ]
  },
  {
   "cell_type": "code",
   "execution_count": 203,
   "metadata": {},
   "outputs": [
    {
     "data": {
      "image/png": "[encoded data removed]",
      "text/plain": [
       "<Figure size 1200x800 with 2 Axes>"
      ]
     },
     "metadata": {},
     "output_type": "display_data"
    }
   ],
   "source": [
    "# visualize and compare the result\n",
    "ope.visualize_off_policy_estimates(\n",
    "    input_dict, \n",
    "    compared_estimators=[\"dm\", \"sm_is\", \"sm_dr\", \"sam_is\", \"sam_dr\", \"drl\"],\n",
    "    random_state=random_state, \n",
    "    sharey=False,\n",
    ")"
   ]
  },
  {
   "cell_type": "code",
   "execution_count": 204,
   "metadata": {},
   "outputs": [
    {
     "data": {
      "image/png": "[encoded data removed]",
      "text/plain": [
       "<Figure size 1600x800 with 2 Axes>"
      ]
     },
     "metadata": {},
     "output_type": "display_data"
    }
   ],
   "source": [
    "ope.visualize_off_policy_estimates(\n",
    "    input_dict, \n",
    "    compared_estimators=[\"dm\", \"snpdis\", \"sndr\", \"sm_snis\", \"sm_sndr\", \"sam_snis\", \"sam_sndr\", \"drl\"],\n",
    "    random_state=random_state, \n",
    "    sharey=False,\n",
    ")"
   ]
  },
  {
   "cell_type": "markdown",
   "metadata": {},
   "source": [
    "For more advanced topics in OPE (e.g., cumulative distribution function estimation) and OPS, please refer to [examples/quickstart/basic/basic_synthetic_continuous_advanced.ipynb](https://github.com/negocia-inc/ofrl/blob/ope/examples/quickstart/basic/basic_synthetic_continuous_advanced.ipynb). \n",
    "\n",
    "For the examples in the discrete action space, please refer to [examples/quickstart/basic/basic_synthetic_discrete_zoo.ipynb](https://github.com/negocia-inc/ofrl/blob/ope/examples/quickstart/basic/basic_synthetic_discrete_zoo.ipynb)."
   ]
  },
  {
   "cell_type": "markdown",
   "metadata": {},
   "source": [
    "## Reference\n",
    "\n",
    "- Haanvid Lee, Jongmin Lee, Yunseon Choi, Wonseok Jeon, Byung-Jun Lee, Yung-Kyun Noh, and Kee-Eung Kim. \\\n",
    "\"Local Metric Learning for Off-Policy Evaluation in Contextual Bandits with Continuous Actions.\", 2022.\n",
    "\n",
    "- Yuta Saito, Shunsuke Aihara, Megumi Matsutani, and Yusuke Narita. \\\n",
    "\"Open Bandit Dataset and Pipeline: Towards Realistic and Reproducible Off-Policy Evaluation.\", 2021.\n",
    "\n",
    "- Takuma Seno and Michita Imai. \\\n",
    "\"d3rlpy: An Offline Deep Reinforcement Library.\", 2021.\n",
    "\n",
    "- Christina J. Yuan, Yash Chandak, Stephen Giguere, Philip S. Thomas, and Scott Niekum. \\\n",
    "\"SOPE: Spectrum of Off-Policy Estimators.\", 2021.\n",
    "\n",
    "- Nathan Kallus and Masatoshi Uehara. \\\n",
    "\"Double Reinforcement Learning for Efficient Off-Policy Evaluation in Markov Decision Processes.\", 2020.\n",
    "\n",
    "- Masatoshi Uehara, Jiawei Huang, and Nan Jiang. \\\n",
    "\"Minimax Weight and Q-Function Learning for Off-Policy Evaluation.\", 2020.\n",
    "\n",
    "- Mengjiao Yang, Ofir Nachum, Bo Dai, Lihong Li, and Dale Schuurmans. \\\n",
    "\"Off-Policy Evaluation via the Regularized Lagrangian.\", 2020.\n",
    "\n",
    "- Sergey Levine, Aviral Kumar, George Tucker, and Justin Fu. \\\n",
    "\"Offline Reinforcement Learning: Tutorial, Review, and Perspectives on Open Problems.\" 2020.\n",
    "\n",
    "- Aviral Kumar, Aurick Zhou, George Tucker, and Sergey Levine. \\\n",
    "\"Conservative Q-Learning for Offline Reinforcement Learning.\", 2020.\n",
    "\n",
    "- Nathan Kallus and Angela Zhou. \\\n",
    "\"Policy Evaluation and Optimization with Continuous Treatments.\", 2019.\n",
    "\n",
    "- Nathan Kallus and Masatoshi Uehara. \\\n",
    "\"Intrinsically Efficient, Stable, and Bounded Off-Policy Evaluation for Reinforcement Learning.\", 2019.\n",
    "\n",
    "- Hoang Le, Cameron Voloshin, and Yisong Yue. \\\n",
    "\"Batch Policy Learning under Constraints.\", 2019.\n",
    "\n",
    "- Qiang Liu, Lihong Li, Ziyang Tang, and Dengyong Zhou. \\\n",
    "\"Breaking the Curse of Horizon: Infinite-Horizon Off-Policy Estimation.\", 2018\n",
    "\n",
    "- Di Wu, Xiujun Chen, Xun Yang, Hao Wang, Qing Tan, Xiaoxun Zhang, Jian Xu, and Kun Gai. \\\n",
    "\"Budget Constrained Bidding by Model-free Reinforcement Learning in Display Advertising.\", 2018.\n",
    "\n",
    "- Jun Zhao, Guang Qiu, Ziyu Guan, Wei Zhao, and Xiaofei He. \\\n",
    "\"Deep Reinforcement Learning for Sponsored Search Real-time Bidding.\", 2018.\n",
    "\n",
    "- Josiah P. Hanna, Peter Stone, and Scott Niekum. \\\n",
    "\"Bootstrapping with Models: Confidence Intervals for Off-Policy Evaluation.\", 2017.\n",
    "\n",
    "- Nan Jiang and Lihong Li. \\\n",
    "\"Doubly Robust Off-policy Value Evaluation for Reinforcement Learning.\", 2016.\n",
    "\n",
    "- Philip S. Thomas and Emma Brunskill. \\\n",
    "\"Data-Efficient Off-Policy Policy Evaluation for Reinforcement Learning.\", 2016.\n",
    "\n",
    "- Greg Brockman, Vicki Cheung, Ludwig Pettersson, Jonas Schneider, John Schulman, Jie Tang, and Wojciech Zaremba. \\\n",
    "\"OpenAI Gym.\", 2016.\n",
    "\n",
    "- Philip S. Thomas, Georgios Theocharous, and Mohammad Ghavamzadeh. \\\n",
    "\"High Confidence Policy Improvement.\", 2015.\n",
    "\n",
    "- Philip S. Thomas, Georgios Theocharous, and Mohammad Ghavamzadeh. \\\n",
    "\"High Confidence Off-Policy Evaluation.\", 2015.\n",
    "\n",
    "- Adith Swaminathan and Thorsten Joachims. \\\n",
    "\"The Self-Normalized Estimator for Counterfactual Learning.\", 2015.\n",
    "\n",
    "- Hado van Hasselt, Arthur Guez, and David Silver. \\\n",
    "\"Deep Reinforcement Learning with Double Q-learning.\", 2015.\n",
    "\n",
    "- Miroslav Dudík, Dumitru Erhan, John Langford, and Lihong Li. \\\n",
    "\"Doubly Robust Policy Evaluation and Optimization.\", 2014.\n",
    "\n",
    "- Alex Strehl, John Langford, Sham Kakade, and Lihong Li. \\\n",
    "\"Learning from Logged Implicit Exploration Data.\", 2010.\n",
    "\n",
    "- Alina Beygelzimer and John Langford. \\\n",
    "\"The Offset Tree for Learning with Partial Labels.\", 2009.\n",
    "\n",
    "- Doina Precup, Richard S. Sutton, and Satinder P. Singh. \\\n",
    "\"Eligibility Traces for Off-Policy Policy Evaluation.\", 2000."
   ]
  },
  {
   "cell_type": "code",
   "execution_count": null,
   "metadata": {},
   "outputs": [],
   "source": []
  }
 ],
 "metadata": {
  "kernelspec": {
   "display_name": "Python 3 (ipykernel)",
   "language": "python",
   "name": "python3"
  },
  "language_info": {
   "codemirror_mode": {
    "name": "ipython",
    "version": 3
   },
   "file_extension": ".py",
   "mimetype": "text/x-python",
   "name": "python",
   "nbconvert_exporter": "python",
   "pygments_lexer": "ipython3",
   "version": "3.9.6"
  },
  "vscode": {
   "interpreter": {
    "hash": "70404ee114725fce8ed9e697d67827f8546c678889944e6d695790702cbfe1f5"
   }
  }
 },
 "nbformat": 4,
 "nbformat_minor": 4
}
