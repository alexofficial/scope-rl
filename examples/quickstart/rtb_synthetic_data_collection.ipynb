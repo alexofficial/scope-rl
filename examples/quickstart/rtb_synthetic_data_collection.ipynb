{
 "cells": [
  {
   "cell_type": "markdown",
   "metadata": {},
   "source": [
    "# Quickstart Example with Synthetic RTB Simulation and Dataset (Data Collection)\n",
    "This notebook provides an example of visualizing logged dataset collected on RTB environment.\n",
    "\n",
    "Our example with Synthetic RTB Simualtion and Dataset contains the following 2 cases:\n",
    "1. Discrete Action Case\n",
    "2. Continuous Action Case\n",
    "\n",
    "\\* This library uses [d3rlpy](https://github.com/takuseno/d3rlpy)'s algorithm implementations.  \n",
    "\\* Also, our implementations of the data collection module is highly inspired by [Open Bandit Pipeline](https://github.com/st-tech/zr-obp)."
   ]
  },
  {
   "cell_type": "code",
   "execution_count": 1,
   "metadata": {},
   "outputs": [],
   "source": [
    "# delete later\n",
    "%load_ext autoreload\n",
    "%autoreload 2"
   ]
  },
  {
   "cell_type": "code",
   "execution_count": 2,
   "metadata": {},
   "outputs": [],
   "source": [
    "# delete later\n",
    "import warnings\n",
    "warnings.simplefilter('ignore')"
   ]
  },
  {
   "cell_type": "code",
   "execution_count": 3,
   "metadata": {},
   "outputs": [],
   "source": [
    "# delete later\n",
    "import sys\n",
    "sys.path.append('../')\n",
    "sys.path.append('../../')"
   ]
  },
  {
   "cell_type": "code",
   "execution_count": 4,
   "metadata": {},
   "outputs": [],
   "source": [
    "# import offlinegym modules\n",
    "import offlinegym\n",
    "from rtbgym import RTBEnv, CustomizedRTBEnv\n",
    "from offlinegym.dataset import SyntheticDataset\n",
    "from offlinegym.policy import OnlineHead\n",
    "from offlinegym.ope.online import (\n",
    "    calc_on_policy_policy_value,\n",
    "    visualize_on_policy_policy_value,\n",
    ")\n",
    "\n",
    "# import d3rlpy algorithms\n",
    "from d3rlpy.algos import DiscreteRandomPolicy\n",
    "from d3rlpy.algos import RandomPolicy as ContinuousRandomPolicy\n",
    "from d3rlpy.preprocessing import MinMaxActionScaler\n",
    "\n",
    "# import from other libraries\n",
    "import torch\n",
    "from sklearn.linear_model import LogisticRegression\n",
    "from sklearn.model_selection import train_test_split\n",
    "from sklearn.utils import check_random_state"
   ]
  },
  {
   "cell_type": "code",
   "execution_count": 5,
   "metadata": {},
   "outputs": [],
   "source": [
    "import pickle\n",
    "from dataclasses import dataclass\n",
    "from typing import Tuple, Union, Optional\n",
    "from glob import glob\n",
    "from tqdm import tqdm\n",
    "\n",
    "import numpy as np\n",
    "import pandas as pd\n",
    "\n",
    "import matplotlib.pyplot as plt\n",
    "import seaborn as sns\n",
    "\n",
    "%matplotlib inline"
   ]
  },
  {
   "cell_type": "code",
   "execution_count": 6,
   "metadata": {},
   "outputs": [
    {
     "name": "stdout",
     "output_type": "stream",
     "text": [
      "0.0.0\n"
     ]
    }
   ],
   "source": [
    "# version\n",
    "print(offlinegym.__version__)"
   ]
  },
  {
   "cell_type": "code",
   "execution_count": 7,
   "metadata": {},
   "outputs": [],
   "source": [
    "# set random state\n",
    "random_state = 12345\n",
    "random_ = check_random_state(random_state)"
   ]
  },
  {
   "cell_type": "markdown",
   "metadata": {},
   "source": [
    "## 0. Description of Synthetic RTB Simulation Environment\n",
    "To begin with, we briefly describe the basic usage of the environment.\n",
    "\n",
    "#### RL setup for RTB\n",
    "In RTB, the objective of the RL agent is to maximize some KPIs (such as numbers of click or conversion) within a episode under the given budget constraints.  \n",
    "We often try to achieve this by adjusting bidding price function parameter $\\alpha$. By using $\\alpha$, we adjust bid price as follows.  \n",
    "$bid_{t,i} = \\alpha \\cdot r^{\\ast}$, \n",
    "where $r^{\\ast}$ denotes predicted or expected reward (KPIs).\n",
    "\n",
    "We often formulate this RTB problem as the following Constrained Markov Decision Process (CMDP):\n",
    "- `timestep`: One episode (a day or a week) consists of several timesteps (24 hours or seven days, for instance).\n",
    "- `state`: We observe statistical feedback from environment at each timestep, which include following informations.\n",
    "  - timestep\n",
    "  - remaining budget\n",
    "  - impression level features (budget comsuption rate, cost per mille of impressions, auction winning rate, reward) at previous timestep\n",
    "  - adjust rate (RL agent's decision making) at previous timestep\n",
    "- `action`: Agent chooses adjust rate parameter $\\alpha$ to maximize KPIs.\n",
    "- `reward`: Total number of clicks or conversions obtained during the timestep.\n",
    "- `constraints`: The pre-determined episodic budget should not be exceeded.\n",
    "\n",
    "Let's see how it works!"
   ]
  },
  {
   "cell_type": "code",
   "execution_count": 8,
   "metadata": {},
   "outputs": [],
   "source": [
    "# setup environment\n",
    "env = RTBEnv(random_state=random_state)"
   ]
  },
  {
   "cell_type": "code",
   "execution_count": 9,
   "metadata": {},
   "outputs": [],
   "source": [
    "# define random agent\n",
    "agent = OnlineHead(\n",
    "    ContinuousRandomPolicy(\n",
    "        action_scaler=MinMaxActionScaler(\n",
    "            minimum=0.1,  # minimum value that policy can take\n",
    "            maximum=10,  # maximum value that policy can take\n",
    "        )\n",
    "    )\n",
    ")"
   ]
  },
  {
   "cell_type": "code",
   "execution_count": 10,
   "metadata": {},
   "outputs": [],
   "source": [
    "# interact agent with environment\n",
    "# only 6 lines needed for RL interaction\n",
    "for episode in range(10):\n",
    "    obs = env.reset()\n",
    "    done = False\n",
    "\n",
    "    while not done:\n",
    "        action = agent.predict_online(obs)\n",
    "        obs, reward, done, info = env.step(action)"
   ]
  },
  {
   "cell_type": "code",
   "execution_count": 11,
   "metadata": {},
   "outputs": [
    {
     "name": "stdout",
     "output_type": "stream",
     "text": [
      "['timestep', 'remaining_budget', 'budget_consumption_rate', 'cost_per_mille_of_impression', 'winning_rate', 'reward', 'adjust_rate']\n",
      "(7,)\n"
     ]
    }
   ],
   "source": [
    "# state contains the following statistical feedback from environment\n",
    "print(env.obs_keys)\n",
    "print(obs.shape)"
   ]
  },
  {
   "cell_type": "code",
   "execution_count": 12,
   "metadata": {},
   "outputs": [
    {
     "data": {
      "image/png": "[encoded data removed]",
      "text/plain": [
       "<Figure size 432x288 with 2 Axes>"
      ]
     },
     "metadata": {
      "needs_background": "light"
     },
     "output_type": "display_data"
    }
   ],
   "source": [
    "# let's visualize the transition of remaing budget and cumulative reward\n",
    "# our goal is to gain a policy (i.e., agent) which maximize the cumulative reward under budget constraints using RL.  \n",
    "# for more visulization, please see appendix.\n",
    "obs = env.reset()\n",
    "done = False\n",
    "remaining_budget = [obs[1]]\n",
    "cumulative_reward = [0]\n",
    "\n",
    "while not done:\n",
    "    action = agent.predict_online(obs)\n",
    "    obs, reward, done, info = env.step(action)\n",
    "    remaining_budget.append(obs[1])\n",
    "    cumulative_reward.append(cumulative_reward[-1] + reward)\n",
    "\n",
    "# plot\n",
    "fig = plt.figure()\n",
    "ax1 = fig.add_subplot(111)\n",
    "ax1.plot(remaining_budget[:-1], label='remaining budget')\n",
    "ax2 = ax1.twinx()\n",
    "ax2.plot(cumulative_reward[:-1], label='cumulative reward', color='tab:orange')\n",
    "ax1.set_xlabel('timestep')\n",
    "ax1.set_ylabel('remainig budget')\n",
    "ax1.set_ylim(0, env.initial_budget + 100)\n",
    "ax2.set_ylabel('reward (coversion)')\n",
    "ax1.legend(loc='upper left')\n",
    "ax2.legend(loc='upper right')\n",
    "plt.show()"
   ]
  },
  {
   "cell_type": "markdown",
   "metadata": {},
   "source": [
    "For more about the environmental configuration , please refer to [examples/quickstart/rtb_synthetic_customize_env.ipynb](https://github.com/negocia-inc/rtb_reinforcement_learing/blob/ope/examples/quickstart/rtb_synthetic_customize_env.ipynb)."
   ]
  },
  {
   "cell_type": "markdown",
   "metadata": {},
   "source": [
    "## 1. Discrete Action Case\n",
    "Here, we present how to collect logged data by a discrete behavior policy.\n",
    "\n",
    "The procedure requires two steps:\n",
    "\n",
    "1. Learn a base deterministic policy\n",
    "2. Convert the deterministic policy into a stochastic policy.\n",
    "\n",
    "Below, we first learn a deterministic policy using [d3rlpy](https://github.com/takuseno/d3rlpy)."
   ]
  },
  {
   "cell_type": "code",
   "execution_count": 13,
   "metadata": {},
   "outputs": [],
   "source": [
    "# setup discrete environment\n",
    "env = CustomizedRTBEnv(\n",
    "    original_env=RTBEnv(random_state=random_state),\n",
    "    reward_predictor=LogisticRegression(),\n",
    "    action_type=\"discrete\",\n",
    ")"
   ]
  },
  {
   "cell_type": "code",
   "execution_count": 14,
   "metadata": {},
   "outputs": [],
   "source": [
    "# learn base deterministic policy for data collection\n",
    "from d3rlpy.algos import DoubleDQN\n",
    "from d3rlpy.models.encoders import VectorEncoderFactory\n",
    "from d3rlpy.models.q_functions import MeanQFunctionFactory\n",
    "from d3rlpy.online.buffers import ReplayBuffer\n",
    "from d3rlpy.online.explorers import LinearDecayEpsilonGreedy\n",
    "\n",
    "# model\n",
    "ddqn = DoubleDQN(\n",
    "    encoder_factory=VectorEncoderFactory(hidden_units=[30, 30]),\n",
    "    q_func_factory=MeanQFunctionFactory(),\n",
    "    target_update_interval=100,\n",
    "    use_gpu=torch.cuda.is_available(),\n",
    ")\n",
    "# replay buffer\n",
    "buffer = ReplayBuffer(\n",
    "    maxlen=10000,\n",
    "    env=env,\n",
    ")\n",
    "# explorers\n",
    "explorer = LinearDecayEpsilonGreedy(\n",
    "    start_epsilon=1.0,\n",
    "    end_epsilon=0.1,\n",
    "    duration=1000,\n",
    ")"
   ]
  },
  {
   "cell_type": "code",
   "execution_count": 15,
   "metadata": {},
   "outputs": [
    {
     "name": "stdout",
     "output_type": "stream",
     "text": [
      "2022-02-03 17:13.49 [info     ] Directory is created at d3rlpy_logs/DoubleDQN_online_20220203171349\n",
      "2022-02-03 17:13.49 [debug    ] Building model...\n",
      "2022-02-03 17:13.49 [debug    ] Model has been built.\n",
      "2022-02-03 17:13.49 [info     ] Parameters are saved to d3rlpy_logs/DoubleDQN_online_20220203171349/params.json params={'action_scaler': None, 'batch_size': 32, 'encoder_factory': {'type': 'vector', 'params': {'hidden_units': [100], 'activation': 'relu', 'use_batch_norm': False, 'dropout_rate': None, 'use_dense': False}}, 'gamma': 0.99, 'generated_maxlen': 100000, 'learning_rate': 6.25e-05, 'n_critics': 1, 'n_frames': 1, 'n_steps': 1, 'optim_factory': {'optim_cls': 'Adam', 'betas': (0.9, 0.999), 'eps': 1e-08, 'weight_decay': 0, 'amsgrad': False}, 'q_func_factory': {'type': 'mean', 'params': {'bootstrap': False, 'share_encoder': False}}, 'real_ratio': 1.0, 'reward_scaler': None, 'scaler': None, 'target_reduction_type': 'min', 'target_update_interval': 100, 'use_gpu': None, 'algorithm': 'DoubleDQN', 'observation_shape': (7,), 'action_size': 10}\n"
     ]
    },
    {
     "name": "stderr",
     "output_type": "stream",
     "text": [
      "  1%|          | 968/100000 [00:02<04:50, 341.01it/s]"
     ]
    },
    {
     "name": "stdout",
     "output_type": "stream",
     "text": [
      "2022-02-03 17:13.53 [info     ] Model parameters are saved to d3rlpy_logs/DoubleDQN_online_20220203171349/model_1000.pt\n",
      "2022-02-03 17:13.53 [info     ] DoubleDQN_online_20220203171349: epoch=1 step=1000 epoch=1 metrics={'time_inference': 0.0003407459259033203, 'time_environment_step': 0.0007538084302629744, 'time_step': 0.0029494380950927735, 'rollout_return': 10.008, 'time_sample_batch': 9.381214034891575e-05, 'time_algorithm_update': 0.0018573649080619139, 'loss': 238.53270975352572, 'evaluation': 0.0} step=1000\n"
     ]
    },
    {
     "name": "stderr",
     "output_type": "stream",
     "text": [
      "  2%|▏         | 1973/100000 [00:05<04:05, 398.72it/s]"
     ]
    },
    {
     "name": "stdout",
     "output_type": "stream",
     "text": [
      "2022-02-03 17:13.55 [info     ] Model parameters are saved to d3rlpy_logs/DoubleDQN_online_20220203171349/model_2000.pt\n",
      "2022-02-03 17:13.56 [info     ] DoubleDQN_online_20220203171349: epoch=2 step=2000 epoch=2 metrics={'time_inference': 0.0003299629688262939, 'time_environment_step': 0.0007696527753557477, 'time_sample_batch': 0.00010341763496398925, 'time_algorithm_update': 0.0015429072380065917, 'loss': 60.7754061126709, 'time_step': 0.0027118375301361086, 'rollout_return': 1.472, 'evaluation': 0.1} step=2000\n"
     ]
    },
    {
     "name": "stderr",
     "output_type": "stream",
     "text": [
      "  3%|▎         | 2994/100000 [00:09<05:21, 301.86it/s]"
     ]
    },
    {
     "name": "stdout",
     "output_type": "stream",
     "text": [
      "2022-02-03 17:13.59 [info     ] Model parameters are saved to d3rlpy_logs/DoubleDQN_online_20220203171349/model_3000.pt\n",
      "2022-02-03 17:13.59 [info     ] DoubleDQN_online_20220203171349: epoch=3 step=3000 epoch=3 metrics={'time_inference': 0.00037613677978515626, 'time_environment_step': 0.000858445303780692, 'time_sample_batch': 0.00010768938064575196, 'time_algorithm_update': 0.0018854527473449708, 'loss': 61.59905110645294, 'time_step': 0.003186631917953491, 'rollout_return': 2.2, 'evaluation': 0.0} step=3000\n"
     ]
    },
    {
     "name": "stderr",
     "output_type": "stream",
     "text": [
      "  4%|▍         | 3963/100000 [00:12<04:27, 359.42it/s]"
     ]
    },
    {
     "name": "stdout",
     "output_type": "stream",
     "text": [
      "2022-02-03 17:14.02 [info     ] Model parameters are saved to d3rlpy_logs/DoubleDQN_online_20220203171349/model_4000.pt\n",
      "2022-02-03 17:14.02 [info     ] DoubleDQN_online_20220203171349: epoch=4 step=4000 epoch=4 metrics={'time_inference': 0.0003394274711608887, 'time_environment_step': 0.0007609443664550781, 'time_sample_batch': 9.571647644042969e-05, 'time_algorithm_update': 0.0015811984539031983, 'loss': 60.26920095992088, 'time_step': 0.002752093553543091, 'rollout_return': 1.816, 'evaluation': 0.0} step=4000\n"
     ]
    },
    {
     "name": "stderr",
     "output_type": "stream",
     "text": [
      "  5%|▍         | 4958/100000 [00:15<04:26, 356.29it/s]"
     ]
    },
    {
     "name": "stdout",
     "output_type": "stream",
     "text": [
      "2022-02-03 17:14.05 [info     ] Model parameters are saved to d3rlpy_logs/DoubleDQN_online_20220203171349/model_5000.pt\n",
      "2022-02-03 17:14.05 [info     ] DoubleDQN_online_20220203171349: epoch=5 step=5000 epoch=5 metrics={'time_inference': 0.00035652756690979004, 'time_environment_step': 0.0007675868443080357, 'time_sample_batch': 0.00010004448890686036, 'time_algorithm_update': 0.001561551809310913, 'loss': 54.880205127835275, 'time_step': 0.0027602951526641845, 'rollout_return': 1.544, 'evaluation': 0.0} step=5000\n"
     ]
    },
    {
     "name": "stderr",
     "output_type": "stream",
     "text": [
      "  6%|▌         | 5980/100000 [00:18<04:31, 346.07it/s]"
     ]
    },
    {
     "name": "stdout",
     "output_type": "stream",
     "text": [
      "2022-02-03 17:14.08 [info     ] Model parameters are saved to d3rlpy_logs/DoubleDQN_online_20220203171349/model_6000.pt\n",
      "2022-02-03 17:14.08 [info     ] DoubleDQN_online_20220203171349: epoch=6 step=6000 epoch=6 metrics={'time_inference': 0.0003459022045135498, 'time_environment_step': 0.0007406278337751116, 'time_sample_batch': 9.473085403442382e-05, 'time_algorithm_update': 0.0016541709899902343, 'loss': 48.961057307124136, 'time_step': 0.0028064258098602296, 'rollout_return': 1.528, 'evaluation': 0.0} step=6000\n"
     ]
    },
    {
     "name": "stderr",
     "output_type": "stream",
     "text": [
      "  7%|▋         | 6957/100000 [00:20<03:38, 426.39it/s]"
     ]
    },
    {
     "name": "stdout",
     "output_type": "stream",
     "text": [
      "2022-02-03 17:14.10 [info     ] Model parameters are saved to d3rlpy_logs/DoubleDQN_online_20220203171349/model_7000.pt\n",
      "2022-02-03 17:14.11 [info     ] DoubleDQN_online_20220203171349: epoch=7 step=7000 epoch=7 metrics={'time_inference': 0.0003223588466644287, 'time_environment_step': 0.0007209080287388392, 'time_sample_batch': 0.00010127115249633789, 'time_algorithm_update': 0.0013861374855041503, 'loss': 43.23781216609478, 'time_step': 0.0025061719417572023, 'rollout_return': 1.968, 'evaluation': 0.0} step=7000\n"
     ]
    },
    {
     "name": "stderr",
     "output_type": "stream",
     "text": [
      "  8%|▊         | 7992/100000 [00:23<03:54, 392.09it/s]"
     ]
    },
    {
     "name": "stdout",
     "output_type": "stream",
     "text": [
      "2022-02-03 17:14.13 [info     ] Model parameters are saved to d3rlpy_logs/DoubleDQN_online_20220203171349/model_8000.pt\n",
      "2022-02-03 17:14.13 [info     ] DoubleDQN_online_20220203171349: epoch=8 step=8000 epoch=8 metrics={'time_inference': 0.0003316025733947754, 'time_environment_step': 0.0007295717511858259, 'time_sample_batch': 9.31687355041504e-05, 'time_algorithm_update': 0.0014079065322875977, 'loss': 39.017861017346384, 'time_step': 0.002532789468765259, 'rollout_return': 1.88, 'evaluation': 0.0} step=8000\n"
     ]
    },
    {
     "name": "stderr",
     "output_type": "stream",
     "text": [
      "  9%|▉         | 8981/100000 [00:26<04:10, 363.33it/s]"
     ]
    },
    {
     "name": "stdout",
     "output_type": "stream",
     "text": [
      "2022-02-03 17:14.16 [info     ] Model parameters are saved to d3rlpy_logs/DoubleDQN_online_20220203171349/model_9000.pt\n",
      "2022-02-03 17:14.16 [info     ] DoubleDQN_online_20220203171349: epoch=9 step=9000 epoch=9 metrics={'time_inference': 0.00031578803062438964, 'time_environment_step': 0.000709179197038923, 'time_sample_batch': 9.677386283874512e-05, 'time_algorithm_update': 0.0014498112201690673, 'loss': 34.308776442885396, 'time_step': 0.0025443317890167234, 'rollout_return': 1.76, 'evaluation': 0.0} step=9000\n"
     ]
    },
    {
     "name": "stderr",
     "output_type": "stream",
     "text": [
      " 10%|▉         | 9993/100000 [00:29<04:18, 348.68it/s]"
     ]
    },
    {
     "name": "stdout",
     "output_type": "stream",
     "text": [
      "2022-02-03 17:14.19 [info     ] Model parameters are saved to d3rlpy_logs/DoubleDQN_online_20220203171349/model_10000.pt\n",
      "2022-02-03 17:14.19 [info     ] DoubleDQN_online_20220203171349: epoch=10 step=10000 epoch=10 metrics={'time_inference': 0.0003735570907592773, 'time_environment_step': 0.0008081062861851284, 'time_sample_batch': 0.00010142970085144043, 'time_algorithm_update': 0.0017315146923065185, 'loss': 29.605535544276236, 'time_step': 0.0029890735149383546, 'rollout_return': 1.824, 'evaluation': 0.0} step=10000\n"
     ]
    },
    {
     "name": "stderr",
     "output_type": "stream",
     "text": [
      " 11%|█         | 10972/100000 [00:32<04:45, 311.81it/s]"
     ]
    },
    {
     "name": "stdout",
     "output_type": "stream",
     "text": [
      "2022-02-03 17:14.22 [info     ] Model parameters are saved to d3rlpy_logs/DoubleDQN_online_20220203171349/model_11000.pt\n",
      "2022-02-03 17:14.22 [info     ] DoubleDQN_online_20220203171349: epoch=11 step=11000 epoch=11 metrics={'time_inference': 0.0003788013458251953, 'time_environment_step': 0.0007962818145751953, 'time_sample_batch': 0.00010239601135253907, 'time_algorithm_update': 0.0016076242923736572, 'loss': 25.936093640327453, 'time_step': 0.0028538074493408205, 'rollout_return': 1.664, 'evaluation': 0.0} step=11000\n"
     ]
    },
    {
     "name": "stderr",
     "output_type": "stream",
     "text": [
      " 12%|█▏        | 11982/100000 [00:35<04:54, 298.56it/s]"
     ]
    },
    {
     "name": "stdout",
     "output_type": "stream",
     "text": [
      "2022-02-03 17:14.25 [info     ] Model parameters are saved to d3rlpy_logs/DoubleDQN_online_20220203171349/model_12000.pt\n",
      "2022-02-03 17:14.25 [info     ] DoubleDQN_online_20220203171349: epoch=12 step=12000 epoch=12 metrics={'time_inference': 0.00036883187294006346, 'time_environment_step': 0.0008253517150878906, 'time_sample_batch': 0.00011824774742126464, 'time_algorithm_update': 0.0016452355384826661, 'loss': 23.564653583288194, 'time_step': 0.002932227373123169, 'rollout_return': 2.016, 'evaluation': 0.1} step=12000\n"
     ]
    },
    {
     "name": "stderr",
     "output_type": "stream",
     "text": [
      " 13%|█▎        | 12988/100000 [00:38<04:01, 360.69it/s]"
     ]
    },
    {
     "name": "stdout",
     "output_type": "stream",
     "text": [
      "2022-02-03 17:14.28 [info     ] Model parameters are saved to d3rlpy_logs/DoubleDQN_online_20220203171349/model_13000.pt\n",
      "2022-02-03 17:14.28 [info     ] DoubleDQN_online_20220203171349: epoch=13 step=13000 epoch=13 metrics={'time_inference': 0.00033680891990661623, 'time_environment_step': 0.0007343011583600726, 'time_sample_batch': 9.571385383605956e-05, 'time_algorithm_update': 0.0014903013706207275, 'loss': 20.247244473069905, 'time_step': 0.002637439727783203, 'rollout_return': 2.08, 'evaluation': 2.7} step=13000\n"
     ]
    },
    {
     "name": "stderr",
     "output_type": "stream",
     "text": [
      " 14%|█▍        | 13965/100000 [00:41<03:33, 403.61it/s]"
     ]
    },
    {
     "name": "stdout",
     "output_type": "stream",
     "text": [
      "2022-02-03 17:14.31 [info     ] Model parameters are saved to d3rlpy_logs/DoubleDQN_online_20220203171349/model_14000.pt\n",
      "2022-02-03 17:14.31 [info     ] DoubleDQN_online_20220203171349: epoch=14 step=14000 epoch=14 metrics={'time_inference': 0.00032764172554016114, 'time_environment_step': 0.0007240924835205078, 'time_sample_batch': 9.352564811706542e-05, 'time_algorithm_update': 0.0014090559482574463, 'loss': 17.28225789284706, 'time_step': 0.0025249602794647215, 'rollout_return': 2.72, 'evaluation': 1.3} step=14000\n"
     ]
    },
    {
     "name": "stderr",
     "output_type": "stream",
     "text": [
      " 15%|█▍        | 14966/100000 [00:44<05:02, 280.78it/s]"
     ]
    },
    {
     "name": "stdout",
     "output_type": "stream",
     "text": [
      "2022-02-03 17:14.34 [info     ] Model parameters are saved to d3rlpy_logs/DoubleDQN_online_20220203171349/model_15000.pt\n",
      "2022-02-03 17:14.34 [info     ] DoubleDQN_online_20220203171349: epoch=15 step=15000 epoch=15 metrics={'time_inference': 0.00033531713485717774, 'time_environment_step': 0.0007529566628592355, 'time_sample_batch': 9.469151496887208e-05, 'time_algorithm_update': 0.001549750566482544, 'loss': 12.345957164406776, 'time_step': 0.002704510927200317, 'rollout_return': 3.672, 'evaluation': 0.0} step=15000\n"
     ]
    },
    {
     "name": "stderr",
     "output_type": "stream",
     "text": [
      " 16%|█▌        | 15997/100000 [00:47<03:38, 385.13it/s]"
     ]
    },
    {
     "name": "stdout",
     "output_type": "stream",
     "text": [
      "2022-02-03 17:14.37 [info     ] Model parameters are saved to d3rlpy_logs/DoubleDQN_online_20220203171349/model_16000.pt\n",
      "2022-02-03 17:14.37 [info     ] DoubleDQN_online_20220203171349: epoch=16 step=16000 epoch=16 metrics={'time_inference': 0.00036652493476867676, 'time_environment_step': 0.0008013706207275391, 'time_sample_batch': 0.00010068845748901367, 'time_algorithm_update': 0.0016897330284118652, 'loss': 8.753006717085839, 'time_step': 0.0029249186515808104, 'rollout_return': 5.072, 'evaluation': 0.0} step=16000\n"
     ]
    },
    {
     "name": "stderr",
     "output_type": "stream",
     "text": [
      " 17%|█▋        | 16975/100000 [00:50<04:42, 294.39it/s]"
     ]
    },
    {
     "name": "stdout",
     "output_type": "stream",
     "text": [
      "2022-02-03 17:14.40 [info     ] Model parameters are saved to d3rlpy_logs/DoubleDQN_online_20220203171349/model_17000.pt\n",
      "2022-02-03 17:14.40 [info     ] DoubleDQN_online_20220203171349: epoch=17 step=17000 epoch=17 metrics={'time_inference': 0.0003406732082366943, 'time_environment_step': 0.000764183589390346, 'time_sample_batch': 9.439516067504883e-05, 'time_algorithm_update': 0.0017751517295837402, 'loss': 6.404885761737823, 'time_step': 0.0029462454319000245, 'rollout_return': 8.792, 'evaluation': 7.3} step=17000\n"
     ]
    },
    {
     "name": "stderr",
     "output_type": "stream",
     "text": [
      " 18%|█▊        | 17961/100000 [00:53<03:21, 407.88it/s]"
     ]
    },
    {
     "name": "stdout",
     "output_type": "stream",
     "text": [
      "2022-02-03 17:14.43 [info     ] Model parameters are saved to d3rlpy_logs/DoubleDQN_online_20220203171349/model_18000.pt\n",
      "2022-02-03 17:14.43 [info     ] DoubleDQN_online_20220203171349: epoch=18 step=18000 epoch=18 metrics={'time_inference': 0.00034574222564697263, 'time_environment_step': 0.000770723615373884, 'time_sample_batch': 0.00010254502296447754, 'time_algorithm_update': 0.0017417027950286865, 'loss': 5.410031793236732, 'time_step': 0.0029301972389221193, 'rollout_return': 11.464, 'evaluation': 8.0} step=18000\n"
     ]
    },
    {
     "name": "stderr",
     "output_type": "stream",
     "text": [
      " 19%|█▉        | 18968/100000 [00:56<03:45, 358.73it/s]"
     ]
    },
    {
     "name": "stdout",
     "output_type": "stream",
     "text": [
      "2022-02-03 17:14.46 [info     ] Model parameters are saved to d3rlpy_logs/DoubleDQN_online_20220203171349/model_19000.pt\n",
      "2022-02-03 17:14.46 [info     ] DoubleDQN_online_20220203171349: epoch=19 step=19000 epoch=19 metrics={'time_inference': 0.00034044265747070314, 'time_environment_step': 0.0007491040910993303, 'time_sample_batch': 9.983873367309571e-05, 'time_algorithm_update': 0.0017718636989593505, 'loss': 4.519145899653434, 'time_step': 0.0029323525428771972, 'rollout_return': 12.4, 'evaluation': 0.0} step=19000\n"
     ]
    },
    {
     "name": "stderr",
     "output_type": "stream",
     "text": [
      " 20%|█▉        | 19961/100000 [00:59<03:17, 404.65it/s]"
     ]
    },
    {
     "name": "stdout",
     "output_type": "stream",
     "text": [
      "2022-02-03 17:14.49 [info     ] Model parameters are saved to d3rlpy_logs/DoubleDQN_online_20220203171349/model_20000.pt\n",
      "2022-02-03 17:14.49 [info     ] DoubleDQN_online_20220203171349: epoch=20 step=20000 epoch=20 metrics={'time_inference': 0.00033267903327941894, 'time_environment_step': 0.0007166085924421038, 'time_sample_batch': 0.00010204815864562989, 'time_algorithm_update': 0.0015042798519134522, 'loss': 3.4976187101602556, 'time_step': 0.0026291542053222656, 'rollout_return': 12.904, 'evaluation': 10.0} step=20000\n"
     ]
    },
    {
     "name": "stderr",
     "output_type": "stream",
     "text": [
      " 21%|██        | 20995/100000 [01:02<03:47, 346.81it/s]"
     ]
    },
    {
     "name": "stdout",
     "output_type": "stream",
     "text": [
      "2022-02-03 17:14.52 [info     ] Model parameters are saved to d3rlpy_logs/DoubleDQN_online_20220203171349/model_21000.pt\n",
      "2022-02-03 17:14.52 [info     ] DoubleDQN_online_20220203171349: epoch=21 step=21000 epoch=21 metrics={'time_inference': 0.0003673422336578369, 'time_environment_step': 0.0007736541203090122, 'time_sample_batch': 9.639811515808105e-05, 'time_algorithm_update': 0.001657764434814453, 'loss': 3.6693987399339676, 'time_step': 0.0028663287162780764, 'rollout_return': 13.2, 'evaluation': 13.2} step=21000\n"
     ]
    },
    {
     "name": "stderr",
     "output_type": "stream",
     "text": [
      " 22%|██▏       | 21986/100000 [01:11<08:00, 162.29it/s]"
     ]
    },
    {
     "name": "stdout",
     "output_type": "stream",
     "text": [
      "2022-02-03 17:15.01 [info     ] Model parameters are saved to d3rlpy_logs/DoubleDQN_online_20220203171349/model_22000.pt\n",
      "2022-02-03 17:15.01 [info     ] DoubleDQN_online_20220203171349: epoch=22 step=22000 epoch=22 metrics={'time_inference': 0.0003759419918060303, 'time_environment_step': 0.0008756536756243025, 'time_sample_batch': 0.00011073684692382812, 'time_algorithm_update': 0.0068217370510101315, 'loss': 3.5683609001636505, 'time_step': 0.008150414943695068, 'rollout_return': 13.32, 'evaluation': 10.9} step=22000\n"
     ]
    },
    {
     "name": "stderr",
     "output_type": "stream",
     "text": [
      " 23%|██▎       | 22995/100000 [01:22<10:58, 116.92it/s]"
     ]
    },
    {
     "name": "stdout",
     "output_type": "stream",
     "text": [
      "2022-02-03 17:15.12 [info     ] Model parameters are saved to d3rlpy_logs/DoubleDQN_online_20220203171349/model_23000.pt\n",
      "2022-02-03 17:15.12 [info     ] DoubleDQN_online_20220203171349: epoch=23 step=23000 epoch=23 metrics={'time_inference': 0.00043805670738220217, 'time_environment_step': 0.0008240865979875837, 'time_sample_batch': 0.00013558220863342285, 'time_algorithm_update': 0.008167533159255981, 'loss': 3.5427052335739138, 'time_step': 0.009548195123672486, 'rollout_return': 12.272, 'evaluation': 14.0} step=23000\n"
     ]
    },
    {
     "name": "stderr",
     "output_type": "stream",
     "text": [
      " 24%|██▍       | 23985/100000 [01:32<18:22, 68.94it/s] "
     ]
    },
    {
     "name": "stdout",
     "output_type": "stream",
     "text": [
      "2022-02-03 17:15.22 [info     ] Model parameters are saved to d3rlpy_logs/DoubleDQN_online_20220203171349/model_24000.pt\n",
      "2022-02-03 17:15.22 [info     ] DoubleDQN_online_20220203171349: epoch=24 step=24000 epoch=24 metrics={'time_inference': 0.00042711853981018064, 'time_environment_step': 0.0008489774976457869, 'time_sample_batch': 0.00010190629959106445, 'time_algorithm_update': 0.007558547496795655, 'loss': 3.141452771127224, 'time_step': 0.008900145053863525, 'rollout_return': 12.776, 'evaluation': 15.0} step=24000\n"
     ]
    },
    {
     "name": "stderr",
     "output_type": "stream",
     "text": [
      " 25%|██▍       | 24997/100000 [01:43<09:38, 129.55it/s]"
     ]
    },
    {
     "name": "stdout",
     "output_type": "stream",
     "text": [
      "2022-02-03 17:15.33 [info     ] Model parameters are saved to d3rlpy_logs/DoubleDQN_online_20220203171349/model_25000.pt\n",
      "2022-02-03 17:15.33 [info     ] DoubleDQN_online_20220203171349: epoch=25 step=25000 epoch=25 metrics={'time_inference': 0.00041608595848083497, 'time_environment_step': 0.0008249231066022601, 'time_sample_batch': 0.00011770129203796387, 'time_algorithm_update': 0.00826329469680786, 'loss': 2.7921761991977694, 'time_step': 0.009598241090774536, 'rollout_return': 13.2, 'evaluation': 11.2} step=25000\n"
     ]
    },
    {
     "name": "stderr",
     "output_type": "stream",
     "text": [
      " 26%|██▌       | 25989/100000 [01:54<16:25, 75.12it/s] "
     ]
    },
    {
     "name": "stdout",
     "output_type": "stream",
     "text": [
      "2022-02-03 17:15.44 [info     ] Model parameters are saved to d3rlpy_logs/DoubleDQN_online_20220203171349/model_26000.pt\n",
      "2022-02-03 17:15.44 [info     ] DoubleDQN_online_20220203171349: epoch=26 step=26000 epoch=26 metrics={'time_inference': 0.00043221449851989745, 'time_environment_step': 0.0009125695909772601, 'time_sample_batch': 0.00012621498107910157, 'time_algorithm_update': 0.00839905285835266, 'loss': 3.293062199115753, 'time_step': 0.009847050189971923, 'rollout_return': 12.528, 'evaluation': 5.4} step=26000\n"
     ]
    },
    {
     "name": "stderr",
     "output_type": "stream",
     "text": [
      " 27%|██▋       | 26993/100000 [02:04<15:57, 76.22it/s] "
     ]
    },
    {
     "name": "stdout",
     "output_type": "stream",
     "text": [
      "2022-02-03 17:15.54 [info     ] Model parameters are saved to d3rlpy_logs/DoubleDQN_online_20220203171349/model_27000.pt\n",
      "2022-02-03 17:15.54 [info     ] DoubleDQN_online_20220203171349: epoch=27 step=27000 epoch=27 metrics={'time_inference': 0.0004539482593536377, 'time_environment_step': 0.0008506017412458147, 'time_sample_batch': 0.00013362884521484375, 'time_algorithm_update': 0.008049068212509156, 'loss': 3.82139857172966, 'time_step': 0.009461704015731811, 'rollout_return': 12.064, 'evaluation': 0.0} step=27000\n"
     ]
    },
    {
     "name": "stderr",
     "output_type": "stream",
     "text": [
      " 28%|██▊       | 27994/100000 [02:14<11:28, 104.53it/s]"
     ]
    },
    {
     "name": "stdout",
     "output_type": "stream",
     "text": [
      "2022-02-03 17:16.04 [info     ] Model parameters are saved to d3rlpy_logs/DoubleDQN_online_20220203171349/model_28000.pt\n",
      "2022-02-03 17:16.05 [info     ] DoubleDQN_online_20220203171349: epoch=28 step=28000 epoch=28 metrics={'time_inference': 0.00041738247871398924, 'time_environment_step': 0.0007760205950055804, 'time_sample_batch': 0.00014992117881774904, 'time_algorithm_update': 0.007742044448852539, 'loss': 2.4422977665662766, 'time_step': 0.009055448770523071, 'rollout_return': 12.856, 'evaluation': 13.0} step=28000\n"
     ]
    },
    {
     "name": "stderr",
     "output_type": "stream",
     "text": [
      " 29%|██▉       | 28988/100000 [02:25<09:53, 119.75it/s]"
     ]
    },
    {
     "name": "stdout",
     "output_type": "stream",
     "text": [
      "2022-02-03 17:16.16 [info     ] Model parameters are saved to d3rlpy_logs/DoubleDQN_online_20220203171349/model_29000.pt\n",
      "2022-02-03 17:16.16 [info     ] DoubleDQN_online_20220203171349: epoch=29 step=29000 epoch=29 metrics={'time_inference': 0.0004118363857269287, 'time_environment_step': 0.0008711926596505302, 'time_sample_batch': 0.0001264352798461914, 'time_algorithm_update': 0.008361202955245972, 'loss': 2.5912901670336725, 'time_step': 0.009728649854660034, 'rollout_return': 12.36, 'evaluation': 15.2} step=29000\n"
     ]
    },
    {
     "name": "stderr",
     "output_type": "stream",
     "text": [
      " 30%|██▉       | 29995/100000 [02:35<13:06, 89.03it/s] "
     ]
    },
    {
     "name": "stdout",
     "output_type": "stream",
     "text": [
      "2022-02-03 17:16.25 [info     ] Model parameters are saved to d3rlpy_logs/DoubleDQN_online_20220203171349/model_30000.pt\n",
      "2022-02-03 17:16.25 [info     ] DoubleDQN_online_20220203171349: epoch=30 step=30000 epoch=30 metrics={'time_inference': 0.0004338388442993164, 'time_environment_step': 0.000895099367414202, 'time_sample_batch': 0.000117218017578125, 'time_algorithm_update': 0.007334817886352539, 'loss': 2.27742875957489, 'time_step': 0.008742032289505005, 'rollout_return': 13.064, 'evaluation': 17.1} step=30000\n"
     ]
    },
    {
     "name": "stderr",
     "output_type": "stream",
     "text": [
      " 31%|███       | 30997/100000 [02:45<08:30, 135.06it/s]"
     ]
    },
    {
     "name": "stdout",
     "output_type": "stream",
     "text": [
      "2022-02-03 17:16.35 [info     ] Model parameters are saved to d3rlpy_logs/DoubleDQN_online_20220203171349/model_31000.pt\n",
      "2022-02-03 17:16.35 [info     ] DoubleDQN_online_20220203171349: epoch=31 step=31000 epoch=31 metrics={'time_inference': 0.0004211714267730713, 'time_environment_step': 0.0007783699035644531, 'time_sample_batch': 0.00011938571929931641, 'time_algorithm_update': 0.007517586708068848, 'loss': 2.150094552755356, 'time_step': 0.008814905166625977, 'rollout_return': 13.288, 'evaluation': 17.1} step=31000\n"
     ]
    },
    {
     "name": "stderr",
     "output_type": "stream",
     "text": [
      " 32%|███▏      | 31997/100000 [02:55<14:29, 78.18it/s] "
     ]
    },
    {
     "name": "stdout",
     "output_type": "stream",
     "text": [
      "2022-02-03 17:16.45 [info     ] Model parameters are saved to d3rlpy_logs/DoubleDQN_online_20220203171349/model_32000.pt\n",
      "2022-02-03 17:16.45 [info     ] DoubleDQN_online_20220203171349: epoch=32 step=32000 epoch=32 metrics={'time_inference': 0.000393108606338501, 'time_environment_step': 0.0008372971670968192, 'time_sample_batch': 0.00010310745239257812, 'time_algorithm_update': 0.007702218532562256, 'loss': 2.6067820325493813, 'time_step': 0.008993422031402588, 'rollout_return': 10.048, 'evaluation': 13.3} step=32000\n"
     ]
    },
    {
     "name": "stderr",
     "output_type": "stream",
     "text": [
      " 33%|███▎      | 32996/100000 [03:05<10:49, 103.16it/s]"
     ]
    },
    {
     "name": "stdout",
     "output_type": "stream",
     "text": [
      "2022-02-03 17:16.55 [info     ] Model parameters are saved to d3rlpy_logs/DoubleDQN_online_20220203171349/model_33000.pt\n",
      "2022-02-03 17:16.55 [info     ] DoubleDQN_online_20220203171349: epoch=33 step=33000 epoch=33 metrics={'time_inference': 0.00039560794830322265, 'time_environment_step': 0.0007496506827218192, 'time_sample_batch': 0.00011893296241760254, 'time_algorithm_update': 0.007089414596557617, 'loss': 2.592592933237553, 'time_step': 0.008343977451324463, 'rollout_return': 11.736, 'evaluation': 14.7} step=33000\n"
     ]
    },
    {
     "name": "stderr",
     "output_type": "stream",
     "text": [
      " 34%|███▍      | 33999/100000 [03:14<06:27, 170.44it/s]"
     ]
    },
    {
     "name": "stdout",
     "output_type": "stream",
     "text": [
      "2022-02-03 17:17.04 [info     ] Model parameters are saved to d3rlpy_logs/DoubleDQN_online_20220203171349/model_34000.pt\n",
      "2022-02-03 17:17.04 [info     ] DoubleDQN_online_20220203171349: epoch=34 step=34000 epoch=34 metrics={'time_inference': 0.00035822176933288574, 'time_environment_step': 0.0008138833727155413, 'time_sample_batch': 8.919310569763184e-05, 'time_algorithm_update': 0.006768804550170898, 'loss': 2.626637346625328, 'time_step': 0.007991165399551392, 'rollout_return': 13.152, 'evaluation': 11.5} step=34000\n"
     ]
    },
    {
     "name": "stderr",
     "output_type": "stream",
     "text": [
      " 35%|███▍      | 34988/100000 [03:24<07:20, 147.44it/s]"
     ]
    },
    {
     "name": "stdout",
     "output_type": "stream",
     "text": [
      "2022-02-03 17:17.14 [info     ] Model parameters are saved to d3rlpy_logs/DoubleDQN_online_20220203171349/model_35000.pt\n",
      "2022-02-03 17:17.14 [info     ] DoubleDQN_online_20220203171349: epoch=35 step=35000 epoch=35 metrics={'time_inference': 0.00038181281089782717, 'time_environment_step': 0.000884345463344029, 'time_sample_batch': 0.00012520670890808105, 'time_algorithm_update': 0.007580516338348389, 'loss': 2.7722545825242997, 'time_step': 0.008941250801086426, 'rollout_return': 11.728, 'evaluation': 14.0} step=35000\n"
     ]
    },
    {
     "name": "stderr",
     "output_type": "stream",
     "text": [
      " 36%|███▌      | 35996/100000 [03:33<11:28, 92.99it/s] "
     ]
    },
    {
     "name": "stdout",
     "output_type": "stream",
     "text": [
      "2022-02-03 17:17.24 [info     ] Model parameters are saved to d3rlpy_logs/DoubleDQN_online_20220203171349/model_36000.pt\n",
      "2022-02-03 17:17.24 [info     ] DoubleDQN_online_20220203171349: epoch=36 step=36000 epoch=36 metrics={'time_inference': 0.0004045393466949463, 'time_environment_step': 0.000781719480242048, 'time_sample_batch': 0.00011938285827636719, 'time_algorithm_update': 0.007089333534240723, 'loss': 2.28863613396883, 'time_step': 0.008384744882583619, 'rollout_return': 13.344, 'evaluation': 16.1} step=36000\n"
     ]
    },
    {
     "name": "stderr",
     "output_type": "stream",
     "text": [
      " 37%|███▋      | 36987/100000 [03:43<07:10, 146.45it/s]"
     ]
    },
    {
     "name": "stdout",
     "output_type": "stream",
     "text": [
      "2022-02-03 17:17.33 [info     ] Model parameters are saved to d3rlpy_logs/DoubleDQN_online_20220203171349/model_37000.pt\n",
      "2022-02-03 17:17.33 [info     ] DoubleDQN_online_20220203171349: epoch=37 step=37000 epoch=37 metrics={'time_inference': 0.0003730909824371338, 'time_environment_step': 0.0008492377144949777, 'time_sample_batch': 0.00010549664497375489, 'time_algorithm_update': 0.007119933843612671, 'loss': 2.2069541653394698, 'time_step': 0.008415120363235473, 'rollout_return': 12.768, 'evaluation': 7.3} step=37000\n"
     ]
    },
    {
     "name": "stderr",
     "output_type": "stream",
     "text": [
      " 38%|███▊      | 37993/100000 [03:53<13:38, 75.75it/s] "
     ]
    },
    {
     "name": "stdout",
     "output_type": "stream",
     "text": [
      "2022-02-03 17:17.43 [info     ] Model parameters are saved to d3rlpy_logs/DoubleDQN_online_20220203171349/model_38000.pt\n",
      "2022-02-03 17:17.44 [info     ] DoubleDQN_online_20220203171349: epoch=38 step=38000 epoch=38 metrics={'time_inference': 0.0003616931438446045, 'time_environment_step': 0.0008945672171456474, 'time_sample_batch': 0.00010987210273742676, 'time_algorithm_update': 0.008050578355789184, 'loss': 2.27079866373539, 'time_step': 0.009380588769912719, 'rollout_return': 12.64, 'evaluation': 14.7} step=38000\n"
     ]
    },
    {
     "name": "stderr",
     "output_type": "stream",
     "text": [
      " 39%|███▉      | 38998/100000 [04:06<16:28, 61.70it/s] "
     ]
    },
    {
     "name": "stdout",
     "output_type": "stream",
     "text": [
      "2022-02-03 17:17.56 [info     ] Model parameters are saved to d3rlpy_logs/DoubleDQN_online_20220203171349/model_39000.pt\n",
      "2022-02-03 17:17.56 [info     ] DoubleDQN_online_20220203171349: epoch=39 step=39000 epoch=39 metrics={'time_inference': 0.0004517197608947754, 'time_environment_step': 0.0008803964342389788, 'time_sample_batch': 0.00013479208946228028, 'time_algorithm_update': 0.009999210357666016, 'loss': 2.1563210442662237, 'time_step': 0.011439768314361573, 'rollout_return': 13.696, 'evaluation': 16.1} step=39000\n"
     ]
    },
    {
     "name": "stderr",
     "output_type": "stream",
     "text": [
      " 40%|███▉      | 39986/100000 [04:15<09:48, 101.97it/s]"
     ]
    },
    {
     "name": "stdout",
     "output_type": "stream",
     "text": [
      "2022-02-03 17:18.05 [info     ] Model parameters are saved to d3rlpy_logs/DoubleDQN_online_20220203171349/model_40000.pt\n",
      "2022-02-03 17:18.05 [info     ] DoubleDQN_online_20220203171349: epoch=40 step=40000 epoch=40 metrics={'time_inference': 0.00037013459205627444, 'time_environment_step': 0.0008287372589111328, 'time_sample_batch': 0.00013465166091918945, 'time_algorithm_update': 0.006325683355331421, 'loss': 2.4341930087208747, 'time_step': 0.007628734111785889, 'rollout_return': 12.816, 'evaluation': 0.0} step=40000\n"
     ]
    },
    {
     "name": "stderr",
     "output_type": "stream",
     "text": [
      " 41%|████      | 40992/100000 [04:26<08:36, 114.15it/s]"
     ]
    },
    {
     "name": "stdout",
     "output_type": "stream",
     "text": [
      "2022-02-03 17:18.16 [info     ] Model parameters are saved to d3rlpy_logs/DoubleDQN_online_20220203171349/model_41000.pt\n",
      "2022-02-03 17:18.16 [info     ] DoubleDQN_online_20220203171349: epoch=41 step=41000 epoch=41 metrics={'time_inference': 0.0004306948184967041, 'time_environment_step': 0.000767711911882673, 'time_sample_batch': 0.0001007683277130127, 'time_algorithm_update': 0.008265265703201293, 'loss': 2.2519941574931144, 'time_step': 0.009560219526290893, 'rollout_return': 9.64, 'evaluation': 15.8} step=41000\n"
     ]
    },
    {
     "name": "stderr",
     "output_type": "stream",
     "text": [
      " 42%|████▏     | 41988/100000 [04:36<06:56, 139.30it/s]"
     ]
    },
    {
     "name": "stdout",
     "output_type": "stream",
     "text": [
      "2022-02-03 17:18.26 [info     ] Model parameters are saved to d3rlpy_logs/DoubleDQN_online_20220203171349/model_42000.pt\n",
      "2022-02-03 17:18.26 [info     ] DoubleDQN_online_20220203171349: epoch=42 step=42000 epoch=42 metrics={'time_inference': 0.0003864119052886963, 'time_environment_step': 0.000800013405936105, 'time_sample_batch': 0.00010808253288269043, 'time_algorithm_update': 0.007201171159744263, 'loss': 2.236219000339508, 'time_step': 0.00846025776863098, 'rollout_return': 12.872, 'evaluation': 16.0} step=42000\n"
     ]
    },
    {
     "name": "stderr",
     "output_type": "stream",
     "text": [
      " 43%|████▎     | 42993/100000 [04:47<09:16, 102.47it/s]"
     ]
    },
    {
     "name": "stdout",
     "output_type": "stream",
     "text": [
      "2022-02-03 17:18.37 [info     ] Model parameters are saved to d3rlpy_logs/DoubleDQN_online_20220203171349/model_43000.pt\n",
      "2022-02-03 17:18.37 [info     ] DoubleDQN_online_20220203171349: epoch=43 step=43000 epoch=43 metrics={'time_inference': 0.0004542210102081299, 'time_environment_step': 0.0009546702248709542, 'time_sample_batch': 0.00015380859375, 'time_algorithm_update': 0.008412896633148193, 'loss': 2.563503805696964, 'time_step': 0.009968889236450196, 'rollout_return': 12.52, 'evaluation': 14.9} step=43000\n"
     ]
    },
    {
     "name": "stderr",
     "output_type": "stream",
     "text": [
      " 44%|████▍     | 43994/100000 [04:58<09:56, 93.95it/s] "
     ]
    },
    {
     "name": "stdout",
     "output_type": "stream",
     "text": [
      "2022-02-03 17:18.48 [info     ] Model parameters are saved to d3rlpy_logs/DoubleDQN_online_20220203171349/model_44000.pt\n",
      "2022-02-03 17:18.48 [info     ] DoubleDQN_online_20220203171349: epoch=44 step=44000 epoch=44 metrics={'time_inference': 0.0004313604831695557, 'time_environment_step': 0.0008967939104352679, 'time_sample_batch': 0.00014484620094299316, 'time_algorithm_update': 0.008538632154464721, 'loss': 2.1178817864060404, 'time_step': 0.00997001051902771, 'rollout_return': 12.832, 'evaluation': 8.3} step=44000\n"
     ]
    },
    {
     "name": "stderr",
     "output_type": "stream",
     "text": [
      " 45%|████▍     | 44998/100000 [05:09<10:00, 91.66it/s] "
     ]
    },
    {
     "name": "stdout",
     "output_type": "stream",
     "text": [
      "2022-02-03 17:18.59 [info     ] Model parameters are saved to d3rlpy_logs/DoubleDQN_online_20220203171349/model_45000.pt\n",
      "2022-02-03 17:18.59 [info     ] DoubleDQN_online_20220203171349: epoch=45 step=45000 epoch=45 metrics={'time_inference': 0.00046970319747924804, 'time_environment_step': 0.0008531976427350725, 'time_sample_batch': 0.00013019418716430663, 'time_algorithm_update': 0.007743801116943359, 'loss': 2.181716076910496, 'time_step': 0.009169566869735718, 'rollout_return': 13.32, 'evaluation': 14.9} step=45000\n"
     ]
    },
    {
     "name": "stderr",
     "output_type": "stream",
     "text": [
      " 46%|████▌     | 45987/100000 [05:17<07:28, 120.52it/s]"
     ]
    },
    {
     "name": "stdout",
     "output_type": "stream",
     "text": [
      "2022-02-03 17:19.08 [info     ] Model parameters are saved to d3rlpy_logs/DoubleDQN_online_20220203171349/model_46000.pt\n",
      "2022-02-03 17:19.08 [info     ] DoubleDQN_online_20220203171349: epoch=46 step=46000 epoch=46 metrics={'time_inference': 0.00041094207763671875, 'time_environment_step': 0.0008794683728899275, 'time_sample_batch': 0.00010705161094665527, 'time_algorithm_update': 0.006818772315979004, 'loss': 2.9705938920974733, 'time_step': 0.008176518678665161, 'rollout_return': 12.72, 'evaluation': 0.2} step=46000\n"
     ]
    },
    {
     "name": "stderr",
     "output_type": "stream",
     "text": [
      " 47%|████▋     | 46992/100000 [05:29<09:32, 92.56it/s] "
     ]
    },
    {
     "name": "stdout",
     "output_type": "stream",
     "text": [
      "2022-02-03 17:19.19 [info     ] Model parameters are saved to d3rlpy_logs/DoubleDQN_online_20220203171349/model_47000.pt\n",
      "2022-02-03 17:19.19 [info     ] DoubleDQN_online_20220203171349: epoch=47 step=47000 epoch=47 metrics={'time_inference': 0.00044810938835144044, 'time_environment_step': 0.000960874285016741, 'time_sample_batch': 0.00010346698760986328, 'time_algorithm_update': 0.008511604070663452, 'loss': 3.056934951364994, 'time_step': 0.0100129873752594, 'rollout_return': 11.784, 'evaluation': 12.3} step=47000\n"
     ]
    },
    {
     "name": "stderr",
     "output_type": "stream",
     "text": [
      " 48%|████▊     | 47988/100000 [05:40<09:07, 94.97it/s] "
     ]
    },
    {
     "name": "stdout",
     "output_type": "stream",
     "text": [
      "2022-02-03 17:19.30 [info     ] Model parameters are saved to d3rlpy_logs/DoubleDQN_online_20220203171349/model_48000.pt\n",
      "2022-02-03 17:19.30 [info     ] DoubleDQN_online_20220203171349: epoch=48 step=48000 epoch=48 metrics={'time_inference': 0.00044333410263061525, 'time_environment_step': 0.0009746404375348773, 'time_sample_batch': 0.00012710952758789062, 'time_algorithm_update': 0.008186862945556641, 'loss': 2.37445111477375, 'time_step': 0.009678555965423583, 'rollout_return': 13.512, 'evaluation': 14.9} step=48000\n"
     ]
    },
    {
     "name": "stderr",
     "output_type": "stream",
     "text": [
      " 49%|████▉     | 48995/100000 [05:52<10:31, 80.73it/s] "
     ]
    },
    {
     "name": "stdout",
     "output_type": "stream",
     "text": [
      "2022-02-03 17:19.43 [info     ] Model parameters are saved to d3rlpy_logs/DoubleDQN_online_20220203171349/model_49000.pt\n",
      "2022-02-03 17:19.43 [info     ] DoubleDQN_online_20220203171349: epoch=49 step=49000 epoch=49 metrics={'time_inference': 0.0004286046028137207, 'time_environment_step': 0.0010054473876953125, 'time_sample_batch': 0.00010102319717407226, 'time_algorithm_update': 0.00926089334487915, 'loss': 2.344965735733509, 'time_step': 0.010751900911331177, 'rollout_return': 12.672, 'evaluation': 16.2} step=49000\n"
     ]
    },
    {
     "name": "stderr",
     "output_type": "stream",
     "text": [
      " 50%|████▉     | 49995/100000 [06:03<11:26, 72.85it/s] "
     ]
    },
    {
     "name": "stdout",
     "output_type": "stream",
     "text": [
      "2022-02-03 17:19.54 [info     ] Model parameters are saved to d3rlpy_logs/DoubleDQN_online_20220203171349/model_50000.pt\n",
      "2022-02-03 17:19.54 [info     ] DoubleDQN_online_20220203171349: epoch=50 step=50000 epoch=50 metrics={'time_inference': 0.0004747951030731201, 'time_environment_step': 0.000890573229108538, 'time_sample_batch': 0.00010271120071411133, 'time_algorithm_update': 0.007720959186553955, 'loss': 2.289978218436241, 'time_step': 0.009158316135406495, 'rollout_return': 13.6, 'evaluation': 14.5} step=50000\n"
     ]
    },
    {
     "name": "stderr",
     "output_type": "stream",
     "text": [
      " 51%|█████     | 50983/100000 [06:13<06:32, 124.79it/s]"
     ]
    },
    {
     "name": "stdout",
     "output_type": "stream",
     "text": [
      "2022-02-03 17:20.04 [info     ] Model parameters are saved to d3rlpy_logs/DoubleDQN_online_20220203171349/model_51000.pt\n",
      "2022-02-03 17:20.04 [info     ] DoubleDQN_online_20220203171349: epoch=51 step=51000 epoch=51 metrics={'time_inference': 0.00037653303146362307, 'time_environment_step': 0.0008308296203613281, 'time_sample_batch': 9.882616996765137e-05, 'time_algorithm_update': 0.007683110952377319, 'loss': 1.9061422904133796, 'time_step': 0.008954704284667969, 'rollout_return': 12.992, 'evaluation': 16.0} step=51000\n"
     ]
    },
    {
     "name": "stderr",
     "output_type": "stream",
     "text": [
      " 52%|█████▏    | 51994/100000 [06:24<08:17, 96.49it/s] "
     ]
    },
    {
     "name": "stdout",
     "output_type": "stream",
     "text": [
      "2022-02-03 17:20.14 [info     ] Model parameters are saved to d3rlpy_logs/DoubleDQN_online_20220203171349/model_52000.pt\n",
      "2022-02-03 17:20.15 [info     ] DoubleDQN_online_20220203171349: epoch=52 step=52000 epoch=52 metrics={'time_inference': 0.00044708251953125, 'time_environment_step': 0.0008428094046456473, 'time_sample_batch': 0.00011246991157531738, 'time_algorithm_update': 0.008263116836547851, 'loss': 2.9188661450743676, 'time_step': 0.009630076646804809, 'rollout_return': 12.168, 'evaluation': 15.8} step=52000\n"
     ]
    },
    {
     "name": "stderr",
     "output_type": "stream",
     "text": [
      " 53%|█████▎    | 52999/100000 [06:34<05:47, 135.07it/s]"
     ]
    },
    {
     "name": "stdout",
     "output_type": "stream",
     "text": [
      "2022-02-03 17:20.24 [info     ] Model parameters are saved to d3rlpy_logs/DoubleDQN_online_20220203171349/model_53000.pt\n",
      "2022-02-03 17:20.24 [info     ] DoubleDQN_online_20220203171349: epoch=53 step=53000 epoch=53 metrics={'time_inference': 0.00042990803718566894, 'time_environment_step': 0.000820925031389509, 'time_sample_batch': 0.00012626051902770997, 'time_algorithm_update': 0.00738445782661438, 'loss': 2.031734100043774, 'time_step': 0.00872716736793518, 'rollout_return': 12.912, 'evaluation': 18.0} step=53000\n"
     ]
    },
    {
     "name": "stderr",
     "output_type": "stream",
     "text": [
      " 54%|█████▍    | 53986/100000 [06:44<05:54, 129.77it/s]"
     ]
    },
    {
     "name": "stdout",
     "output_type": "stream",
     "text": [
      "2022-02-03 17:20.34 [info     ] Model parameters are saved to d3rlpy_logs/DoubleDQN_online_20220203171349/model_54000.pt\n",
      "2022-02-03 17:20.34 [info     ] DoubleDQN_online_20220203171349: epoch=54 step=54000 epoch=54 metrics={'time_inference': 0.0003540630340576172, 'time_environment_step': 0.0009008584703717913, 'time_sample_batch': 9.320902824401856e-05, 'time_algorithm_update': 0.007798502683639527, 'loss': 2.044073214054108, 'time_step': 0.00910358738899231, 'rollout_return': 12.952, 'evaluation': 16.4} step=54000\n"
     ]
    },
    {
     "name": "stderr",
     "output_type": "stream",
     "text": [
      " 55%|█████▍    | 54994/100000 [06:56<10:20, 72.48it/s] "
     ]
    },
    {
     "name": "stdout",
     "output_type": "stream",
     "text": [
      "2022-02-03 17:20.46 [info     ] Model parameters are saved to d3rlpy_logs/DoubleDQN_online_20220203171349/model_55000.pt\n",
      "2022-02-03 17:20.46 [info     ] DoubleDQN_online_20220203171349: epoch=55 step=55000 epoch=55 metrics={'time_inference': 0.0004346864223480225, 'time_environment_step': 0.0009013312203543527, 'time_sample_batch': 0.0001184694766998291, 'time_algorithm_update': 0.008750206232070923, 'loss': 2.677757243156433, 'time_step': 0.01016982126235962, 'rollout_return': 12.552, 'evaluation': 15.8} step=55000\n"
     ]
    },
    {
     "name": "stderr",
     "output_type": "stream",
     "text": [
      " 56%|█████▌    | 55994/100000 [07:05<05:54, 124.23it/s]"
     ]
    },
    {
     "name": "stdout",
     "output_type": "stream",
     "text": [
      "2022-02-03 17:20.55 [info     ] Model parameters are saved to d3rlpy_logs/DoubleDQN_online_20220203171349/model_56000.pt\n",
      "2022-02-03 17:20.55 [info     ] DoubleDQN_online_20220203171349: epoch=56 step=56000 epoch=56 metrics={'time_inference': 0.0003859367370605469, 'time_environment_step': 0.000769000734601702, 'time_sample_batch': 0.000109893798828125, 'time_algorithm_update': 0.00710666298866272, 'loss': 2.149514906525612, 'time_step': 0.008339037895202637, 'rollout_return': 12.776, 'evaluation': 0.0} step=56000\n"
     ]
    },
    {
     "name": "stderr",
     "output_type": "stream",
     "text": [
      " 57%|█████▋    | 56998/100000 [07:15<08:46, 81.68it/s] "
     ]
    },
    {
     "name": "stdout",
     "output_type": "stream",
     "text": [
      "2022-02-03 17:21.06 [info     ] Model parameters are saved to d3rlpy_logs/DoubleDQN_online_20220203171349/model_57000.pt\n",
      "2022-02-03 17:21.06 [info     ] DoubleDQN_online_20220203171349: epoch=57 step=57000 epoch=57 metrics={'time_inference': 0.0004334158897399902, 'time_environment_step': 0.0007866570608956473, 'time_sample_batch': 0.0001055893898010254, 'time_algorithm_update': 0.008010498762130737, 'loss': 2.3243936447501183, 'time_step': 0.009302417516708374, 'rollout_return': 13.048, 'evaluation': 0.0} step=57000\n"
     ]
    },
    {
     "name": "stderr",
     "output_type": "stream",
     "text": [
      " 58%|█████▊    | 57996/100000 [07:27<08:00, 87.35it/s] "
     ]
    },
    {
     "name": "stdout",
     "output_type": "stream",
     "text": [
      "2022-02-03 17:21.17 [info     ] Model parameters are saved to d3rlpy_logs/DoubleDQN_online_20220203171349/model_58000.pt\n",
      "2022-02-03 17:21.17 [info     ] DoubleDQN_online_20220203171349: epoch=58 step=58000 epoch=58 metrics={'time_inference': 0.00040605926513671874, 'time_environment_step': 0.0009330062866210937, 'time_sample_batch': 0.00012701964378356934, 'time_algorithm_update': 0.008642603635787964, 'loss': 2.286540811121464, 'time_step': 0.010079683542251586, 'rollout_return': 12.488, 'evaluation': 15.4} step=58000\n"
     ]
    },
    {
     "name": "stderr",
     "output_type": "stream",
     "text": [
      " 59%|█████▉    | 58982/100000 [07:37<03:39, 187.12it/s]"
     ]
    },
    {
     "name": "stdout",
     "output_type": "stream",
     "text": [
      "2022-02-03 17:21.27 [info     ] Model parameters are saved to d3rlpy_logs/DoubleDQN_online_20220203171349/model_59000.pt\n",
      "2022-02-03 17:21.27 [info     ] DoubleDQN_online_20220203171349: epoch=59 step=59000 epoch=59 metrics={'time_inference': 0.00037201595306396483, 'time_environment_step': 0.0008112147194998605, 'time_sample_batch': 9.490084648132324e-05, 'time_algorithm_update': 0.007659524202346802, 'loss': 2.9572663592100144, 'time_step': 0.008916621923446656, 'rollout_return': 12.304, 'evaluation': 12.9} step=59000\n"
     ]
    },
    {
     "name": "stderr",
     "output_type": "stream",
     "text": [
      " 60%|█████▉    | 59991/100000 [07:46<05:09, 129.07it/s]"
     ]
    },
    {
     "name": "stdout",
     "output_type": "stream",
     "text": [
      "2022-02-03 17:21.36 [info     ] Model parameters are saved to d3rlpy_logs/DoubleDQN_online_20220203171349/model_60000.pt\n",
      "2022-02-03 17:21.36 [info     ] DoubleDQN_online_20220203171349: epoch=60 step=60000 epoch=60 metrics={'time_inference': 0.00036644697189331055, 'time_environment_step': 0.0008046340942382813, 'time_sample_batch': 0.0001011664867401123, 'time_algorithm_update': 0.007092126131057739, 'loss': 2.181757853806019, 'time_step': 0.008336122035980225, 'rollout_return': 12.832, 'evaluation': 14.9} step=60000\n"
     ]
    },
    {
     "name": "stderr",
     "output_type": "stream",
     "text": [
      " 61%|██████    | 60974/100000 [07:55<04:52, 133.38it/s]"
     ]
    },
    {
     "name": "stdout",
     "output_type": "stream",
     "text": [
      "2022-02-03 17:21.45 [info     ] Model parameters are saved to d3rlpy_logs/DoubleDQN_online_20220203171349/model_61000.pt\n",
      "2022-02-03 17:21.45 [info     ] DoubleDQN_online_20220203171349: epoch=61 step=61000 epoch=61 metrics={'time_inference': 0.0003357090950012207, 'time_environment_step': 0.0007482918330601284, 'time_sample_batch': 0.00011704349517822266, 'time_algorithm_update': 0.006314495086669922, 'loss': 2.077047806382179, 'time_step': 0.007506613969802857, 'rollout_return': 14.608, 'evaluation': 8.3} step=61000\n"
     ]
    },
    {
     "name": "stderr",
     "output_type": "stream",
     "text": [
      " 62%|██████▏   | 61992/100000 [08:05<03:18, 191.21it/s]"
     ]
    },
    {
     "name": "stdout",
     "output_type": "stream",
     "text": [
      "2022-02-03 17:21.56 [info     ] Model parameters are saved to d3rlpy_logs/DoubleDQN_online_20220203171349/model_62000.pt\n",
      "2022-02-03 17:21.56 [info     ] DoubleDQN_online_20220203171349: epoch=62 step=62000 epoch=62 metrics={'time_inference': 0.00041591620445251466, 'time_environment_step': 0.0009399032592773437, 'time_sample_batch': 0.00011773276329040528, 'time_algorithm_update': 0.00797150993347168, 'loss': 2.4533136112689973, 'time_step': 0.009399083614349366, 'rollout_return': 12.6, 'evaluation': 1.0} step=62000\n"
     ]
    },
    {
     "name": "stderr",
     "output_type": "stream",
     "text": [
      " 63%|██████▎   | 62998/100000 [08:16<07:46, 79.34it/s] "
     ]
    },
    {
     "name": "stdout",
     "output_type": "stream",
     "text": [
      "2022-02-03 17:22.06 [info     ] Model parameters are saved to d3rlpy_logs/DoubleDQN_online_20220203171349/model_63000.pt\n",
      "2022-02-03 17:22.06 [info     ] DoubleDQN_online_20220203171349: epoch=63 step=63000 epoch=63 metrics={'time_inference': 0.00038217806816101074, 'time_environment_step': 0.000799583980015346, 'time_sample_batch': 0.00011347603797912597, 'time_algorithm_update': 0.008187408447265626, 'loss': 2.353222012758255, 'time_step': 0.009445043087005615, 'rollout_return': 13.568, 'evaluation': 14.2} step=63000\n"
     ]
    },
    {
     "name": "stderr",
     "output_type": "stream",
     "text": [
      " 64%|██████▍   | 63999/100000 [08:27<09:46, 61.39it/s] "
     ]
    },
    {
     "name": "stdout",
     "output_type": "stream",
     "text": [
      "2022-02-03 17:22.17 [info     ] Model parameters are saved to d3rlpy_logs/DoubleDQN_online_20220203171349/model_64000.pt\n",
      "2022-02-03 17:22.17 [info     ] DoubleDQN_online_20220203171349: epoch=64 step=64000 epoch=64 metrics={'time_inference': 0.0003771750926971436, 'time_environment_step': 0.0008968058994838169, 'time_sample_batch': 0.0001115562915802002, 'time_algorithm_update': 0.0077584412097930905, 'loss': 1.9445078878104687, 'time_step': 0.009108132362365722, 'rollout_return': 13.256, 'evaluation': 14.2} step=64000\n"
     ]
    },
    {
     "name": "stderr",
     "output_type": "stream",
     "text": [
      " 65%|██████▍   | 64990/100000 [08:37<06:17, 92.83it/s] "
     ]
    },
    {
     "name": "stdout",
     "output_type": "stream",
     "text": [
      "2022-02-03 17:22.27 [info     ] Model parameters are saved to d3rlpy_logs/DoubleDQN_online_20220203171349/model_65000.pt\n",
      "2022-02-03 17:22.28 [info     ] DoubleDQN_online_20220203171349: epoch=65 step=65000 epoch=65 metrics={'time_inference': 0.00044271636009216307, 'time_environment_step': 0.0009184226989746093, 'time_sample_batch': 0.0001162106990814209, 'time_algorithm_update': 0.008235813379287719, 'loss': 2.2340871564745903, 'time_step': 0.00968016219139099, 'rollout_return': 12.304, 'evaluation': 0.0} step=65000\n"
     ]
    },
    {
     "name": "stderr",
     "output_type": "stream",
     "text": [
      " 66%|██████▌   | 65994/100000 [08:47<06:08, 92.31it/s] "
     ]
    },
    {
     "name": "stdout",
     "output_type": "stream",
     "text": [
      "2022-02-03 17:22.37 [info     ] Model parameters are saved to d3rlpy_logs/DoubleDQN_online_20220203171349/model_66000.pt\n",
      "2022-02-03 17:22.37 [info     ] DoubleDQN_online_20220203171349: epoch=66 step=66000 epoch=66 metrics={'time_inference': 0.0003828482627868652, 'time_environment_step': 0.0008032035827636719, 'time_sample_batch': 9.344840049743653e-05, 'time_algorithm_update': 0.006997305154800415, 'loss': 1.9563060188889503, 'time_step': 0.008239344358444214, 'rollout_return': 13.576, 'evaluation': 13.8} step=66000\n"
     ]
    },
    {
     "name": "stderr",
     "output_type": "stream",
     "text": [
      " 67%|██████▋   | 66999/100000 [08:57<07:23, 74.35it/s] "
     ]
    },
    {
     "name": "stdout",
     "output_type": "stream",
     "text": [
      "2022-02-03 17:22.47 [info     ] Model parameters are saved to d3rlpy_logs/DoubleDQN_online_20220203171349/model_67000.pt\n",
      "2022-02-03 17:22.47 [info     ] DoubleDQN_online_20220203171349: epoch=67 step=67000 epoch=67 metrics={'time_inference': 0.0003918142318725586, 'time_environment_step': 0.0008789948054722378, 'time_sample_batch': 0.00011703038215637207, 'time_algorithm_update': 0.007657601356506348, 'loss': 2.3702740352749823, 'time_step': 0.008998774051666259, 'rollout_return': 13.472, 'evaluation': 0.0} step=67000\n"
     ]
    },
    {
     "name": "stderr",
     "output_type": "stream",
     "text": [
      " 68%|██████▊   | 67989/100000 [09:10<05:00, 106.46it/s]"
     ]
    },
    {
     "name": "stdout",
     "output_type": "stream",
     "text": [
      "2022-02-03 17:23.00 [info     ] Model parameters are saved to d3rlpy_logs/DoubleDQN_online_20220203171349/model_68000.pt\n",
      "2022-02-03 17:23.00 [info     ] DoubleDQN_online_20220203171349: epoch=68 step=68000 epoch=68 metrics={'time_inference': 0.00042619872093200683, 'time_environment_step': 0.0010280587332589285, 'time_sample_batch': 0.00014678049087524415, 'time_algorithm_update': 0.009793537378311156, 'loss': 1.8983943164944648, 'time_step': 0.01133664083480835, 'rollout_return': 11.8, 'evaluation': 16.3} step=68000\n"
     ]
    },
    {
     "name": "stderr",
     "output_type": "stream",
     "text": [
      " 69%|██████▉   | 68992/100000 [09:20<04:34, 113.00it/s]"
     ]
    },
    {
     "name": "stdout",
     "output_type": "stream",
     "text": [
      "2022-02-03 17:23.11 [info     ] Model parameters are saved to d3rlpy_logs/DoubleDQN_online_20220203171349/model_69000.pt\n",
      "2022-02-03 17:23.11 [info     ] DoubleDQN_online_20220203171349: epoch=69 step=69000 epoch=69 metrics={'time_inference': 0.00043843698501586916, 'time_environment_step': 0.0008707610539027623, 'time_sample_batch': 0.00010578536987304688, 'time_algorithm_update': 0.008369232892990113, 'loss': 2.322573256790638, 'time_step': 0.009748178243637084, 'rollout_return': 12.536, 'evaluation': 8.2} step=69000\n"
     ]
    },
    {
     "name": "stderr",
     "output_type": "stream",
     "text": [
      " 70%|██████▉   | 69988/100000 [09:30<05:25, 92.20it/s] "
     ]
    },
    {
     "name": "stdout",
     "output_type": "stream",
     "text": [
      "2022-02-03 17:23.21 [info     ] Model parameters are saved to d3rlpy_logs/DoubleDQN_online_20220203171349/model_70000.pt\n",
      "2022-02-03 17:23.21 [info     ] DoubleDQN_online_20220203171349: epoch=70 step=70000 epoch=70 metrics={'time_inference': 0.0003968510627746582, 'time_environment_step': 0.0008391481127057757, 'time_sample_batch': 9.34891700744629e-05, 'time_algorithm_update': 0.007557315111160278, 'loss': 2.2058918747007845, 'time_step': 0.00887655210494995, 'rollout_return': 12.0, 'evaluation': 10.0} step=70000\n"
     ]
    },
    {
     "name": "stderr",
     "output_type": "stream",
     "text": [
      " 71%|███████   | 70992/100000 [09:41<05:34, 86.85it/s] "
     ]
    },
    {
     "name": "stdout",
     "output_type": "stream",
     "text": [
      "2022-02-03 17:23.32 [info     ] Model parameters are saved to d3rlpy_logs/DoubleDQN_online_20220203171349/model_71000.pt\n",
      "2022-02-03 17:23.32 [info     ] DoubleDQN_online_20220203171349: epoch=71 step=71000 epoch=71 metrics={'time_inference': 0.0003642847537994385, 'time_environment_step': 0.0008589673723493304, 'time_sample_batch': 0.00011728668212890624, 'time_algorithm_update': 0.008384972095489503, 'loss': 1.9818459908366204, 'time_step': 0.009707068681716918, 'rollout_return': 13.136, 'evaluation': 14.9} step=71000\n"
     ]
    },
    {
     "name": "stderr",
     "output_type": "stream",
     "text": [
      " 72%|███████▏  | 71999/100000 [09:51<03:46, 123.46it/s]"
     ]
    },
    {
     "name": "stdout",
     "output_type": "stream",
     "text": [
      "2022-02-03 17:23.41 [info     ] Model parameters are saved to d3rlpy_logs/DoubleDQN_online_20220203171349/model_72000.pt\n",
      "2022-02-03 17:23.41 [info     ] DoubleDQN_online_20220203171349: epoch=72 step=72000 epoch=72 metrics={'time_inference': 0.0003697240352630615, 'time_environment_step': 0.0008222015925816127, 'time_sample_batch': 0.0001012277603149414, 'time_algorithm_update': 0.007062322854995727, 'loss': 1.956403467863798, 'time_step': 0.00832338261604309, 'rollout_return': 13.048, 'evaluation': 16.1} step=72000\n"
     ]
    },
    {
     "name": "stderr",
     "output_type": "stream",
     "text": [
      " 73%|███████▎  | 72984/100000 [10:00<02:16, 197.97it/s]"
     ]
    },
    {
     "name": "stdout",
     "output_type": "stream",
     "text": [
      "2022-02-03 17:23.50 [info     ] Model parameters are saved to d3rlpy_logs/DoubleDQN_online_20220203171349/model_73000.pt\n",
      "2022-02-03 17:23.50 [info     ] DoubleDQN_online_20220203171349: epoch=73 step=73000 epoch=73 metrics={'time_inference': 0.0003441429138183594, 'time_environment_step': 0.0007618887765066965, 'time_sample_batch': 9.891629219055176e-05, 'time_algorithm_update': 0.007194973230361938, 'loss': 2.4072167942523954, 'time_step': 0.00838569688796997, 'rollout_return': 12.656, 'evaluation': 13.9} step=73000\n"
     ]
    },
    {
     "name": "stderr",
     "output_type": "stream",
     "text": [
      " 74%|███████▍  | 73989/100000 [10:10<04:52, 88.96it/s] "
     ]
    },
    {
     "name": "stdout",
     "output_type": "stream",
     "text": [
      "2022-02-03 17:24.01 [info     ] Model parameters are saved to d3rlpy_logs/DoubleDQN_online_20220203171349/model_74000.pt\n",
      "2022-02-03 17:24.01 [info     ] DoubleDQN_online_20220203171349: epoch=74 step=74000 epoch=74 metrics={'time_inference': 0.0004049694538116455, 'time_environment_step': 0.0007670786721365793, 'time_sample_batch': 0.00012491989135742187, 'time_algorithm_update': 0.007709878444671631, 'loss': 2.070043808281422, 'time_step': 0.008995094060897827, 'rollout_return': 14.064, 'evaluation': 0.0} step=74000\n"
     ]
    },
    {
     "name": "stderr",
     "output_type": "stream",
     "text": [
      " 75%|███████▍  | 74995/100000 [10:19<03:00, 138.23it/s]"
     ]
    },
    {
     "name": "stdout",
     "output_type": "stream",
     "text": [
      "2022-02-03 17:24.09 [info     ] Model parameters are saved to d3rlpy_logs/DoubleDQN_online_20220203171349/model_75000.pt\n",
      "2022-02-03 17:24.09 [info     ] DoubleDQN_online_20220203171349: epoch=75 step=75000 epoch=75 metrics={'time_inference': 0.00033988213539123534, 'time_environment_step': 0.0008016744341169085, 'time_sample_batch': 0.00010950565338134766, 'time_algorithm_update': 0.006675676822662353, 'loss': 2.2541563267707825, 'time_step': 0.00790671420097351, 'rollout_return': 13.408, 'evaluation': 17.4} step=75000\n"
     ]
    },
    {
     "name": "stderr",
     "output_type": "stream",
     "text": [
      " 76%|███████▌  | 75996/100000 [10:30<05:31, 72.37it/s] "
     ]
    },
    {
     "name": "stdout",
     "output_type": "stream",
     "text": [
      "2022-02-03 17:24.20 [info     ] Model parameters are saved to d3rlpy_logs/DoubleDQN_online_20220203171349/model_76000.pt\n",
      "2022-02-03 17:24.20 [info     ] DoubleDQN_online_20220203171349: epoch=76 step=76000 epoch=76 metrics={'time_inference': 0.00039559221267700193, 'time_environment_step': 0.0008614561898367746, 'time_sample_batch': 0.00010344886779785157, 'time_algorithm_update': 0.007949769973754883, 'loss': 2.2972606892585756, 'time_step': 0.009278364419937134, 'rollout_return': 10.944, 'evaluation': 13.7} step=76000\n"
     ]
    },
    {
     "name": "stderr",
     "output_type": "stream",
     "text": [
      " 77%|███████▋  | 76994/100000 [10:40<05:27, 70.23it/s] "
     ]
    },
    {
     "name": "stdout",
     "output_type": "stream",
     "text": [
      "2022-02-03 17:24.30 [info     ] Model parameters are saved to d3rlpy_logs/DoubleDQN_online_20220203171349/model_77000.pt\n",
      "2022-02-03 17:24.30 [info     ] DoubleDQN_online_20220203171349: epoch=77 step=77000 epoch=77 metrics={'time_inference': 0.00040912389755249024, 'time_environment_step': 0.0007666497911725725, 'time_sample_batch': 0.00010269284248352051, 'time_algorithm_update': 0.007419740676879883, 'loss': 1.9862513249516487, 'time_step': 0.008704359292984009, 'rollout_return': 12.912, 'evaluation': 14.9} step=77000\n"
     ]
    },
    {
     "name": "stderr",
     "output_type": "stream",
     "text": [
      " 78%|███████▊  | 77999/100000 [10:52<05:11, 70.54it/s] "
     ]
    },
    {
     "name": "stdout",
     "output_type": "stream",
     "text": [
      "2022-02-03 17:24.42 [info     ] Model parameters are saved to d3rlpy_logs/DoubleDQN_online_20220203171349/model_78000.pt\n",
      "2022-02-03 17:24.42 [info     ] DoubleDQN_online_20220203171349: epoch=78 step=78000 epoch=78 metrics={'time_inference': 0.00047748064994812013, 'time_environment_step': 0.0009139913831438337, 'time_sample_batch': 0.00011966276168823242, 'time_algorithm_update': 0.009427290201187134, 'loss': 1.7780634813904763, 'time_step': 0.010914180755615234, 'rollout_return': 13.688, 'evaluation': 16.5} step=78000\n"
     ]
    },
    {
     "name": "stderr",
     "output_type": "stream",
     "text": [
      " 79%|███████▉  | 78998/100000 [11:01<03:22, 103.60it/s]"
     ]
    },
    {
     "name": "stdout",
     "output_type": "stream",
     "text": [
      "2022-02-03 17:24.51 [info     ] Model parameters are saved to d3rlpy_logs/DoubleDQN_online_20220203171349/model_79000.pt\n",
      "2022-02-03 17:24.51 [info     ] DoubleDQN_online_20220203171349: epoch=79 step=79000 epoch=79 metrics={'time_inference': 0.0003938627243041992, 'time_environment_step': 0.0008606771741594587, 'time_sample_batch': 0.00011423277854919434, 'time_algorithm_update': 0.006565201997756958, 'loss': 2.475605793893337, 'time_step': 0.007895236730575562, 'rollout_return': 12.464, 'evaluation': 0.0} step=79000\n"
     ]
    },
    {
     "name": "stderr",
     "output_type": "stream",
     "text": [
      " 80%|███████▉  | 79998/100000 [11:10<02:32, 131.45it/s]"
     ]
    },
    {
     "name": "stdout",
     "output_type": "stream",
     "text": [
      "2022-02-03 17:25.00 [info     ] Model parameters are saved to d3rlpy_logs/DoubleDQN_online_20220203171349/model_80000.pt\n",
      "2022-02-03 17:25.01 [info     ] DoubleDQN_online_20220203171349: epoch=80 step=80000 epoch=80 metrics={'time_inference': 0.00044118475914001464, 'time_environment_step': 0.000778423581804548, 'time_sample_batch': 0.0001453385353088379, 'time_algorithm_update': 0.006720423221588135, 'loss': 2.17606955075264, 'time_step': 0.008056347131729126, 'rollout_return': 13.352, 'evaluation': 5.0} step=80000\n"
     ]
    },
    {
     "name": "stderr",
     "output_type": "stream",
     "text": [
      " 81%|████████  | 80990/100000 [11:20<02:59, 105.75it/s]"
     ]
    },
    {
     "name": "stdout",
     "output_type": "stream",
     "text": [
      "2022-02-03 17:25.11 [info     ] Model parameters are saved to d3rlpy_logs/DoubleDQN_online_20220203171349/model_81000.pt\n",
      "2022-02-03 17:25.11 [info     ] DoubleDQN_online_20220203171349: epoch=81 step=81000 epoch=81 metrics={'time_inference': 0.00038240456581115724, 'time_environment_step': 0.0008223972320556641, 'time_sample_batch': 9.33992862701416e-05, 'time_algorithm_update': 0.007582150220870972, 'loss': 1.7278258649706841, 'time_step': 0.00886261510848999, 'rollout_return': 13.216, 'evaluation': 13.3} step=81000\n"
     ]
    },
    {
     "name": "stderr",
     "output_type": "stream",
     "text": [
      " 82%|████████▏ | 81986/100000 [11:28<02:22, 126.21it/s]"
     ]
    },
    {
     "name": "stdout",
     "output_type": "stream",
     "text": [
      "2022-02-03 17:25.19 [info     ] Model parameters are saved to d3rlpy_logs/DoubleDQN_online_20220203171349/model_82000.pt\n",
      "2022-02-03 17:25.19 [info     ] DoubleDQN_online_20220203171349: epoch=82 step=82000 epoch=82 metrics={'time_inference': 0.00040841054916381837, 'time_environment_step': 0.0008196836199079241, 'time_sample_batch': 9.223461151123047e-05, 'time_algorithm_update': 0.005673171043395996, 'loss': 2.90701069188118, 'time_step': 0.006955020904541016, 'rollout_return': 12.344, 'evaluation': 15.7} step=82000\n"
     ]
    },
    {
     "name": "stderr",
     "output_type": "stream",
     "text": [
      " 83%|████████▎ | 82998/100000 [11:37<02:08, 132.10it/s]"
     ]
    },
    {
     "name": "stdout",
     "output_type": "stream",
     "text": [
      "2022-02-03 17:25.27 [info     ] Model parameters are saved to d3rlpy_logs/DoubleDQN_online_20220203171349/model_83000.pt\n",
      "2022-02-03 17:25.27 [info     ] DoubleDQN_online_20220203171349: epoch=83 step=83000 epoch=83 metrics={'time_inference': 0.000375335693359375, 'time_environment_step': 0.0007956267765590123, 'time_sample_batch': 0.00010013723373413085, 'time_algorithm_update': 0.006083864450454712, 'loss': 1.8091690641641618, 'time_step': 0.00732956862449646, 'rollout_return': 13.464, 'evaluation': 13.4} step=83000\n"
     ]
    },
    {
     "name": "stderr",
     "output_type": "stream",
     "text": [
      " 84%|████████▍ | 83996/100000 [11:48<03:31, 75.83it/s] "
     ]
    },
    {
     "name": "stdout",
     "output_type": "stream",
     "text": [
      "2022-02-03 17:25.38 [info     ] Model parameters are saved to d3rlpy_logs/DoubleDQN_online_20220203171349/model_84000.pt\n",
      "2022-02-03 17:25.38 [info     ] DoubleDQN_online_20220203171349: epoch=84 step=84000 epoch=84 metrics={'time_inference': 0.0004032618999481201, 'time_environment_step': 0.000866640635899135, 'time_sample_batch': 0.00012417030334472656, 'time_algorithm_update': 0.007884714126586914, 'loss': 2.0512936263084414, 'time_step': 0.009255840539932251, 'rollout_return': 13.344, 'evaluation': 14.0} step=84000\n"
     ]
    },
    {
     "name": "stderr",
     "output_type": "stream",
     "text": [
      " 85%|████████▍ | 84999/100000 [11:57<01:54, 131.05it/s]"
     ]
    },
    {
     "name": "stdout",
     "output_type": "stream",
     "text": [
      "2022-02-03 17:25.47 [info     ] Model parameters are saved to d3rlpy_logs/DoubleDQN_online_20220203171349/model_85000.pt\n",
      "2022-02-03 17:25.47 [info     ] DoubleDQN_online_20220203171349: epoch=85 step=85000 epoch=85 metrics={'time_inference': 0.0003960702419281006, 'time_environment_step': 0.00089556884765625, 'time_sample_batch': 0.000101731538772583, 'time_algorithm_update': 0.006916215181350708, 'loss': 1.9902355107069016, 'time_step': 0.008286080360412597, 'rollout_return': 14.408, 'evaluation': 12.8} step=85000\n"
     ]
    },
    {
     "name": "stderr",
     "output_type": "stream",
     "text": [
      " 86%|████████▌ | 85994/100000 [12:05<02:34, 90.86it/s] "
     ]
    },
    {
     "name": "stdout",
     "output_type": "stream",
     "text": [
      "2022-02-03 17:25.55 [info     ] Model parameters are saved to d3rlpy_logs/DoubleDQN_online_20220203171349/model_86000.pt\n",
      "2022-02-03 17:25.55 [info     ] DoubleDQN_online_20220203171349: epoch=86 step=86000 epoch=86 metrics={'time_inference': 0.00039378690719604493, 'time_environment_step': 0.000778989246913365, 'time_sample_batch': 0.00011115288734436035, 'time_algorithm_update': 0.005840219974517822, 'loss': 2.777529010593891, 'time_step': 0.00709127688407898, 'rollout_return': 12.24, 'evaluation': 2.4} step=86000\n"
     ]
    },
    {
     "name": "stderr",
     "output_type": "stream",
     "text": [
      " 87%|████████▋ | 86992/100000 [12:14<01:36, 134.50it/s]"
     ]
    },
    {
     "name": "stdout",
     "output_type": "stream",
     "text": [
      "2022-02-03 17:26.04 [info     ] Model parameters are saved to d3rlpy_logs/DoubleDQN_online_20220203171349/model_87000.pt\n",
      "2022-02-03 17:26.05 [info     ] DoubleDQN_online_20220203171349: epoch=87 step=87000 epoch=87 metrics={'time_inference': 0.00037291812896728517, 'time_environment_step': 0.0008119555882045201, 'time_sample_batch': 0.0001100161075592041, 'time_algorithm_update': 0.0066608085632324215, 'loss': 2.0908038784265517, 'time_step': 0.007927918434143066, 'rollout_return': 13.6, 'evaluation': 14.3} step=87000\n"
     ]
    },
    {
     "name": "stderr",
     "output_type": "stream",
     "text": [
      " 88%|████████▊ | 87992/100000 [12:24<02:31, 79.17it/s] "
     ]
    },
    {
     "name": "stdout",
     "output_type": "stream",
     "text": [
      "2022-02-03 17:26.14 [info     ] Model parameters are saved to d3rlpy_logs/DoubleDQN_online_20220203171349/model_88000.pt\n",
      "2022-02-03 17:26.14 [info     ] DoubleDQN_online_20220203171349: epoch=88 step=88000 epoch=88 metrics={'time_inference': 0.0004983799457550049, 'time_environment_step': 0.0008533633095877512, 'time_sample_batch': 0.00010862803459167481, 'time_algorithm_update': 0.006961976528167725, 'loss': 1.7876264966130258, 'time_step': 0.008386226892471314, 'rollout_return': 14.24, 'evaluation': 14.6} step=88000\n"
     ]
    },
    {
     "name": "stderr",
     "output_type": "stream",
     "text": [
      " 89%|████████▉ | 88998/100000 [12:33<01:09, 159.09it/s]"
     ]
    },
    {
     "name": "stdout",
     "output_type": "stream",
     "text": [
      "2022-02-03 17:26.23 [info     ] Model parameters are saved to d3rlpy_logs/DoubleDQN_online_20220203171349/model_89000.pt\n",
      "2022-02-03 17:26.23 [info     ] DoubleDQN_online_20220203171349: epoch=89 step=89000 epoch=89 metrics={'time_inference': 0.0003463602066040039, 'time_environment_step': 0.0007922188895089286, 'time_sample_batch': 0.00010900998115539551, 'time_algorithm_update': 0.006311218976974487, 'loss': 2.1225775536894798, 'time_step': 0.0075384371280670165, 'rollout_return': 13.656, 'evaluation': 16.3} step=89000\n"
     ]
    },
    {
     "name": "stderr",
     "output_type": "stream",
     "text": [
      " 90%|████████▉ | 89988/100000 [12:42<01:57, 85.05it/s] "
     ]
    },
    {
     "name": "stdout",
     "output_type": "stream",
     "text": [
      "2022-02-03 17:26.33 [info     ] Model parameters are saved to d3rlpy_logs/DoubleDQN_online_20220203171349/model_90000.pt\n",
      "2022-02-03 17:26.33 [info     ] DoubleDQN_online_20220203171349: epoch=90 step=90000 epoch=90 metrics={'time_inference': 0.0004084370136260986, 'time_environment_step': 0.0007729734693254744, 'time_sample_batch': 0.00010548901557922363, 'time_algorithm_update': 0.007194611072540283, 'loss': 2.174132436156273, 'time_step': 0.008461825370788574, 'rollout_return': 12.92, 'evaluation': 9.4} step=90000\n"
     ]
    },
    {
     "name": "stderr",
     "output_type": "stream",
     "text": [
      " 91%|█████████ | 90996/100000 [12:51<00:53, 169.66it/s]"
     ]
    },
    {
     "name": "stdout",
     "output_type": "stream",
     "text": [
      "2022-02-03 17:26.41 [info     ] Model parameters are saved to d3rlpy_logs/DoubleDQN_online_20220203171349/model_91000.pt\n",
      "2022-02-03 17:26.41 [info     ] DoubleDQN_online_20220203171349: epoch=91 step=91000 epoch=91 metrics={'time_inference': 0.0003691091537475586, 'time_environment_step': 0.0008372865404401507, 'time_sample_batch': 0.00011384844779968261, 'time_algorithm_update': 0.006020377874374389, 'loss': 2.2075653391480445, 'time_step': 0.007311435461044312, 'rollout_return': 13.544, 'evaluation': 13.9} step=91000\n"
     ]
    },
    {
     "name": "stderr",
     "output_type": "stream",
     "text": [
      " 92%|█████████▏| 91990/100000 [13:01<01:12, 111.18it/s]"
     ]
    },
    {
     "name": "stdout",
     "output_type": "stream",
     "text": [
      "2022-02-03 17:26.51 [info     ] Model parameters are saved to d3rlpy_logs/DoubleDQN_online_20220203171349/model_92000.pt\n",
      "2022-02-03 17:26.51 [info     ] DoubleDQN_online_20220203171349: epoch=92 step=92000 epoch=92 metrics={'time_inference': 0.00039832401275634766, 'time_environment_step': 0.0007964344024658203, 'time_sample_batch': 0.0001134190559387207, 'time_algorithm_update': 0.007533662080764771, 'loss': 1.7832513455748558, 'time_step': 0.00881743621826172, 'rollout_return': 13.616, 'evaluation': 14.8} step=92000\n"
     ]
    },
    {
     "name": "stderr",
     "output_type": "stream",
     "text": [
      " 93%|█████████▎| 92998/100000 [13:11<02:17, 50.93it/s] "
     ]
    },
    {
     "name": "stdout",
     "output_type": "stream",
     "text": [
      "2022-02-03 17:27.01 [info     ] Model parameters are saved to d3rlpy_logs/DoubleDQN_online_20220203171349/model_93000.pt\n",
      "2022-02-03 17:27.01 [info     ] DoubleDQN_online_20220203171349: epoch=93 step=93000 epoch=93 metrics={'time_inference': 0.00041556286811828615, 'time_environment_step': 0.0008001537322998047, 'time_sample_batch': 0.00010908126831054687, 'time_algorithm_update': 0.007552008867263794, 'loss': 1.9836500816345215, 'time_step': 0.008857331752777099, 'rollout_return': 14.2, 'evaluation': 13.4} step=93000\n"
     ]
    },
    {
     "name": "stderr",
     "output_type": "stream",
     "text": [
      " 94%|█████████▍| 93991/100000 [13:22<01:13, 81.44it/s] "
     ]
    },
    {
     "name": "stdout",
     "output_type": "stream",
     "text": [
      "2022-02-03 17:27.13 [info     ] Model parameters are saved to d3rlpy_logs/DoubleDQN_online_20220203171349/model_94000.pt\n",
      "2022-02-03 17:27.13 [info     ] DoubleDQN_online_20220203171349: epoch=94 step=94000 epoch=94 metrics={'time_inference': 0.00047904014587402344, 'time_environment_step': 0.0008750321524483817, 'time_sample_batch': 0.00015345573425292968, 'time_algorithm_update': 0.00853581953048706, 'loss': 2.098626062512398, 'time_step': 0.010012598276138306, 'rollout_return': 12.672, 'evaluation': 16.1} step=94000\n"
     ]
    },
    {
     "name": "stderr",
     "output_type": "stream",
     "text": [
      " 95%|█████████▍| 94993/100000 [13:34<00:35, 139.94it/s]"
     ]
    },
    {
     "name": "stdout",
     "output_type": "stream",
     "text": [
      "2022-02-03 17:27.24 [info     ] Model parameters are saved to d3rlpy_logs/DoubleDQN_online_20220203171349/model_95000.pt\n",
      "2022-02-03 17:27.25 [info     ] DoubleDQN_online_20220203171349: epoch=95 step=95000 epoch=95 metrics={'time_inference': 0.0003632698059082031, 'time_environment_step': 0.0008646409170968192, 'time_sample_batch': 0.00012807941436767577, 'time_algorithm_update': 0.008626911401748658, 'loss': 3.0191927631497384, 'time_step': 0.00993915581703186, 'rollout_return': 11.12, 'evaluation': 17.3} step=95000\n"
     ]
    },
    {
     "name": "stderr",
     "output_type": "stream",
     "text": [
      " 96%|█████████▌| 95989/100000 [13:44<00:37, 106.10it/s]"
     ]
    },
    {
     "name": "stdout",
     "output_type": "stream",
     "text": [
      "2022-02-03 17:27.34 [info     ] Model parameters are saved to d3rlpy_logs/DoubleDQN_online_20220203171349/model_96000.pt\n",
      "2022-02-03 17:27.34 [info     ] DoubleDQN_online_20220203171349: epoch=96 step=96000 epoch=96 metrics={'time_inference': 0.000421208381652832, 'time_environment_step': 0.0007804906027657645, 'time_sample_batch': 0.00012056875228881836, 'time_algorithm_update': 0.006731931686401367, 'loss': 2.0359671388864515, 'time_step': 0.008018080472946167, 'rollout_return': 12.264, 'evaluation': 16.2} step=96000\n"
     ]
    },
    {
     "name": "stderr",
     "output_type": "stream",
     "text": [
      " 97%|█████████▋| 96987/100000 [13:51<00:16, 183.88it/s]"
     ]
    },
    {
     "name": "stdout",
     "output_type": "stream",
     "text": [
      "2022-02-03 17:27.41 [info     ] Model parameters are saved to d3rlpy_logs/DoubleDQN_online_20220203171349/model_97000.pt\n",
      "2022-02-03 17:27.42 [info     ] DoubleDQN_online_20220203171349: epoch=97 step=97000 epoch=97 metrics={'time_inference': 0.0003666808605194092, 'time_environment_step': 0.0007419850485665458, 'time_sample_batch': 9.611439704895019e-05, 'time_algorithm_update': 0.005305926322937012, 'loss': 1.843631402850151, 'time_step': 0.0064851434230804444, 'rollout_return': 13.768, 'evaluation': 13.3} step=97000\n"
     ]
    },
    {
     "name": "stderr",
     "output_type": "stream",
     "text": [
      " 98%|█████████▊| 97983/100000 [14:01<00:15, 134.35it/s]"
     ]
    },
    {
     "name": "stdout",
     "output_type": "stream",
     "text": [
      "2022-02-03 17:27.51 [info     ] Model parameters are saved to d3rlpy_logs/DoubleDQN_online_20220203171349/model_98000.pt\n",
      "2022-02-03 17:27.51 [info     ] DoubleDQN_online_20220203171349: epoch=98 step=98000 epoch=98 metrics={'time_inference': 0.00038024425506591794, 'time_environment_step': 0.0007553809029715401, 'time_sample_batch': 0.00010828375816345215, 'time_algorithm_update': 0.007054113864898682, 'loss': 2.142401508927345, 'time_step': 0.008276686429977417, 'rollout_return': 13.608, 'evaluation': 13.6} step=98000\n"
     ]
    },
    {
     "name": "stderr",
     "output_type": "stream",
     "text": [
      " 99%|█████████▉| 98989/100000 [14:10<00:07, 133.64it/s]"
     ]
    },
    {
     "name": "stdout",
     "output_type": "stream",
     "text": [
      "2022-02-03 17:28.00 [info     ] Model parameters are saved to d3rlpy_logs/DoubleDQN_online_20220203171349/model_99000.pt\n",
      "2022-02-03 17:28.00 [info     ] DoubleDQN_online_20220203171349: epoch=99 step=99000 epoch=99 metrics={'time_inference': 0.0003599417209625244, 'time_environment_step': 0.0007782047816685268, 'time_sample_batch': 0.00010187983512878418, 'time_algorithm_update': 0.0066457586288452145, 'loss': 2.3327767447829246, 'time_step': 0.007861506223678589, 'rollout_return': 13.784, 'evaluation': 14.0} step=99000\n"
     ]
    },
    {
     "name": "stderr",
     "output_type": "stream",
     "text": [
      "100%|█████████▉| 99993/100000 [14:17<00:00, 139.03it/s]"
     ]
    },
    {
     "name": "stdout",
     "output_type": "stream",
     "text": [
      "2022-02-03 17:28.08 [info     ] Model parameters are saved to d3rlpy_logs/DoubleDQN_online_20220203171349/model_100000.pt\n",
      "2022-02-03 17:28.08 [info     ] DoubleDQN_online_20220203171349: epoch=100 step=100000 epoch=100 metrics={'time_inference': 0.00041618657112121583, 'time_environment_step': 0.0008051392691476004, 'time_sample_batch': 9.015393257141113e-05, 'time_algorithm_update': 0.005242165565490723, 'loss': 1.7351528092324733, 'time_step': 0.006513572216033935, 'rollout_return': 13.168, 'evaluation': 13.4} step=100000\n"
     ]
    },
    {
     "name": "stderr",
     "output_type": "stream",
     "text": [
      "100%|██████████| 100000/100000 [14:18<00:00, 116.49it/s]\n"
     ]
    }
   ],
   "source": [
    "# start training\n",
    "# skip if there is a pre-trained model\n",
    "ddqn.fit_online(\n",
    "    env,\n",
    "    buffer,\n",
    "    explorer=explorer,\n",
    "    eval_env=env,\n",
    "    n_steps=100000,\n",
    "    n_steps_per_epoch=1000,\n",
    ")"
   ]
  },
  {
   "cell_type": "code",
   "execution_count": 16,
   "metadata": {},
   "outputs": [],
   "source": [
    "# save model\n",
    "ddqn.save_model(\"d3rlpy_logs/ddqn.pt\")"
   ]
  },
  {
   "cell_type": "code",
   "execution_count": 17,
   "metadata": {},
   "outputs": [
    {
     "name": "stdout",
     "output_type": "stream",
     "text": [
      "2022-02-03 17:28.08 [warning  ] Parameters will be reinitialized.\n"
     ]
    }
   ],
   "source": [
    "# reload model\n",
    "ddqn.build_with_env(env)\n",
    "ddqn.load_model(\"d3rlpy_logs/ddqn.pt\")"
   ]
  },
  {
   "cell_type": "markdown",
   "metadata": {},
   "source": [
    "### 1.1. Epsilon-Greedy behavior policy\n",
    "\n",
    "Let's now convert the deterministic policy (i.e., ddqn policy) into a stochstic behavior policy.\n",
    "\n",
    "We use epsilon-greedy policy to collect logged data using `DiscreteEpsilonGreedyHead`, \\\n",
    "where the behavior policy greedy takes action chosen by the deterministic policy with probability $1 - \\epsilon$ and takes action randomly with probability $\\epsilon$."
   ]
  },
  {
   "cell_type": "code",
   "execution_count": 18,
   "metadata": {},
   "outputs": [],
   "source": [
    "# convert base ddqn policy into a stochastic data collection policy\n",
    "from offlinegym.policy import DiscreteEpsilonGreedyHead\n",
    "\n",
    "behavior_policy = DiscreteEpsilonGreedyHead(\n",
    "    ddqn, \n",
    "    n_actions=env.action_space.n,\n",
    "    epsilon=0.3,  # probability of taking random action\n",
    "    name=\"ddqn_epsilon_0.3\",\n",
    "    random_state=random_state,\n",
    ")"
   ]
  },
  {
   "cell_type": "code",
   "execution_count": 19,
   "metadata": {},
   "outputs": [
    {
     "data": {
      "application/vnd.jupyter.widget-view+json": {
       "model_id": "741160026f6e42b7a832d896461e0672",
       "version_major": 2,
       "version_minor": 0
      },
      "text/plain": [
       "[obtain_trajectories]:   0%|          | 0/10000 [00:00<?, ?it/s]"
      ]
     },
     "metadata": {},
     "output_type": "display_data"
    }
   ],
   "source": [
    "# collect data\n",
    "dataset = SyntheticDataset(\n",
    "    env=env,\n",
    "    behavior_policy=behavior_policy,\n",
    "    random_state=random_state,\n",
    ")\n",
    "logged_dataset = dataset.obtain_trajectories(n_episodes=10000, obtain_info=True)"
   ]
  },
  {
   "cell_type": "code",
   "execution_count": 20,
   "metadata": {},
   "outputs": [
    {
     "data": {
      "text/plain": [
       "{'size': 70000,\n",
       " 'n_episodes': 10000,\n",
       " 'step_per_episode': 7,\n",
       " 'action_type': 'discrete',\n",
       " 'n_actions': 10,\n",
       " 'action_dim': None,\n",
       " 'action_meaning': array([ 0.1       ,  0.16681005,  0.27825594,  0.46415888,  0.77426368,\n",
       "         1.29154967,  2.15443469,  3.59381366,  5.9948425 , 10.        ]),\n",
       " 'state_dim': 7,\n",
       " 'state_keys': ['timestep',\n",
       "  'remaining_budget',\n",
       "  'budget_consumption_rate',\n",
       "  'cost_per_mille_of_impression',\n",
       "  'winning_rate',\n",
       "  'reward',\n",
       "  'adjust_rate'],\n",
       " 'state': array([[0.00000000e+00, 3.00000000e+03, 9.29616093e-01, ...,\n",
       "         1.83918812e-01, 2.00000000e+00, 3.84433556e-02],\n",
       "        [1.00000000e+00, 1.94100000e+03, 3.53000000e-01, ...,\n",
       "         9.95024876e-01, 6.00000000e+00, 2.15443469e+00],\n",
       "        [2.00000000e+00, 1.94100000e+03, 0.00000000e+00, ...,\n",
       "         0.00000000e+00, 0.00000000e+00, 1.66810054e-01],\n",
       "        ...,\n",
       "        [4.00000000e+00, 1.80000000e+01, 0.00000000e+00, ...,\n",
       "         3.38164251e-02, 0.00000000e+00, 5.99484250e+00],\n",
       "        [5.00000000e+00, 1.80000000e+01, 0.00000000e+00, ...,\n",
       "         4.92610837e-03, 0.00000000e+00, 3.59381366e+00],\n",
       "        [6.00000000e+00, 1.80000000e+01, 0.00000000e+00, ...,\n",
       "         7.78210117e-03, 0.00000000e+00, 3.59381366e+00]]),\n",
       " 'action': array([6., 1., 6., ..., 7., 7., 2.]),\n",
       " 'reward': array([6., 0., 1., ..., 0., 0., 0.]),\n",
       " 'done': array([0., 0., 0., ..., 0., 0., 1.]),\n",
       " 'terminal': array([0., 0., 0., ..., 0., 0., 1.]),\n",
       " 'info': {'search_volume': array([201., 205., 217., ..., 203., 257., 179.]),\n",
       "  'impression': array([200.,   0., 216., ...,   1.,   2.,   0.]),\n",
       "  'click': array([21.,  0., 24., ...,  0.,  0.,  0.]),\n",
       "  'conversion': array([6., 0., 1., ..., 0., 0., 0.]),\n",
       "  'average_bid_price': array([116.91044776,   8.24390244, 112.33179724, ..., 174.12315271,\n",
       "         169.31906615,  12.40782123])},\n",
       " 'pscore': array([0.73, 0.03, 0.73, ..., 0.73, 0.73, 0.73])}"
      ]
     },
     "execution_count": 20,
     "metadata": {},
     "output_type": "execute_result"
    }
   ],
   "source": [
    "logged_dataset"
   ]
  },
  {
   "cell_type": "code",
   "execution_count": 21,
   "metadata": {},
   "outputs": [
    {
     "data": {
      "text/html": [
       "<div>\n",
       "<style scoped>\n",
       "    .dataframe tbody tr th:only-of-type {\n",
       "        vertical-align: middle;\n",
       "    }\n",
       "\n",
       "    .dataframe tbody tr th {\n",
       "        vertical-align: top;\n",
       "    }\n",
       "\n",
       "    .dataframe thead th {\n",
       "        text-align: right;\n",
       "    }\n",
       "</style>\n",
       "<table border=\"1\" class=\"dataframe\">\n",
       "  <thead>\n",
       "    <tr style=\"text-align: right;\">\n",
       "      <th></th>\n",
       "      <th>adjust rate</th>\n",
       "      <th>average bid price</th>\n",
       "      <th>impression</th>\n",
       "      <th>click</th>\n",
       "      <th>conversion</th>\n",
       "      <th>winning rate</th>\n",
       "      <th>click / impression</th>\n",
       "      <th>conversion / click</th>\n",
       "    </tr>\n",
       "  </thead>\n",
       "  <tbody>\n",
       "    <tr>\n",
       "      <th>count</th>\n",
       "      <td>70000.000000</td>\n",
       "      <td>70000.000000</td>\n",
       "      <td>70000.000000</td>\n",
       "      <td>70000.000000</td>\n",
       "      <td>70000.000000</td>\n",
       "      <td>70000.000000</td>\n",
       "      <td>70000.000000</td>\n",
       "      <td>70000.000000</td>\n",
       "    </tr>\n",
       "    <tr>\n",
       "      <th>mean</th>\n",
       "      <td>2.762991</td>\n",
       "      <td>146.916095</td>\n",
       "      <td>89.734071</td>\n",
       "      <td>8.640914</td>\n",
       "      <td>2.028371</td>\n",
       "      <td>0.514945</td>\n",
       "      <td>0.060183</td>\n",
       "      <td>0.128325</td>\n",
       "    </tr>\n",
       "    <tr>\n",
       "      <th>std</th>\n",
       "      <td>2.285167</td>\n",
       "      <td>116.813884</td>\n",
       "      <td>90.669465</td>\n",
       "      <td>9.532771</td>\n",
       "      <td>2.922934</td>\n",
       "      <td>0.432647</td>\n",
       "      <td>0.070075</td>\n",
       "      <td>0.181473</td>\n",
       "    </tr>\n",
       "    <tr>\n",
       "      <th>min</th>\n",
       "      <td>0.000271</td>\n",
       "      <td>4.044199</td>\n",
       "      <td>0.000000</td>\n",
       "      <td>0.000000</td>\n",
       "      <td>0.000000</td>\n",
       "      <td>0.000000</td>\n",
       "      <td>0.000000</td>\n",
       "      <td>0.000000</td>\n",
       "    </tr>\n",
       "    <tr>\n",
       "      <th>25%</th>\n",
       "      <td>0.866431</td>\n",
       "      <td>60.312332</td>\n",
       "      <td>3.000000</td>\n",
       "      <td>0.000000</td>\n",
       "      <td>0.000000</td>\n",
       "      <td>0.035525</td>\n",
       "      <td>0.000000</td>\n",
       "      <td>0.000000</td>\n",
       "    </tr>\n",
       "    <tr>\n",
       "      <th>50%</th>\n",
       "      <td>2.154435</td>\n",
       "      <td>168.145027</td>\n",
       "      <td>39.000000</td>\n",
       "      <td>3.000000</td>\n",
       "      <td>0.000000</td>\n",
       "      <td>0.514286</td>\n",
       "      <td>0.067633</td>\n",
       "      <td>0.000000</td>\n",
       "    </tr>\n",
       "    <tr>\n",
       "      <th>75%</th>\n",
       "      <td>3.593814</td>\n",
       "      <td>182.131935</td>\n",
       "      <td>189.000000</td>\n",
       "      <td>18.000000</td>\n",
       "      <td>3.000000</td>\n",
       "      <td>1.000000</td>\n",
       "      <td>0.102564</td>\n",
       "      <td>0.222222</td>\n",
       "    </tr>\n",
       "    <tr>\n",
       "      <th>max</th>\n",
       "      <td>10.000000</td>\n",
       "      <td>546.900000</td>\n",
       "      <td>288.000000</td>\n",
       "      <td>41.000000</td>\n",
       "      <td>20.000000</td>\n",
       "      <td>1.000000</td>\n",
       "      <td>0.999990</td>\n",
       "      <td>0.999998</td>\n",
       "    </tr>\n",
       "  </tbody>\n",
       "</table>\n",
       "</div>"
      ],
      "text/plain": [
       "        adjust rate  average bid price    impression         click  \\\n",
       "count  70000.000000       70000.000000  70000.000000  70000.000000   \n",
       "mean       2.762991         146.916095     89.734071      8.640914   \n",
       "std        2.285167         116.813884     90.669465      9.532771   \n",
       "min        0.000271           4.044199      0.000000      0.000000   \n",
       "25%        0.866431          60.312332      3.000000      0.000000   \n",
       "50%        2.154435         168.145027     39.000000      3.000000   \n",
       "75%        3.593814         182.131935    189.000000     18.000000   \n",
       "max       10.000000         546.900000    288.000000     41.000000   \n",
       "\n",
       "         conversion  winning rate  click / impression  conversion / click  \n",
       "count  70000.000000  70000.000000        70000.000000        70000.000000  \n",
       "mean       2.028371      0.514945            0.060183            0.128325  \n",
       "std        2.922934      0.432647            0.070075            0.181473  \n",
       "min        0.000000      0.000000            0.000000            0.000000  \n",
       "25%        0.000000      0.035525            0.000000            0.000000  \n",
       "50%        0.000000      0.514286            0.067633            0.000000  \n",
       "75%        3.000000      1.000000            0.102564            0.222222  \n",
       "max       20.000000      1.000000            0.999990            0.999998  "
      ]
     },
     "execution_count": 21,
     "metadata": {},
     "output_type": "execute_result"
    }
   ],
   "source": [
    "# check statistics of the dataset\n",
    "# we see that the environment is highly stochstic and the reward is sparse\n",
    "df = pd.DataFrame()\n",
    "df['adjust rate'] = logged_dataset['state'][:, 6]\n",
    "df['average bid price'] = logged_dataset['info']['average_bid_price']\n",
    "df['impression'] = logged_dataset['info']['impression']\n",
    "df['click'] = logged_dataset['info']['click']\n",
    "df['conversion'] = logged_dataset['info']['conversion']\n",
    "df['winning rate'] = logged_dataset['state'][:, 4]\n",
    "df['click / impression'] = df['click'] / (df['impression'] + 1e-5)\n",
    "df['conversion / click'] = df['conversion'] / (df['click'] + 1e-5)\n",
    "df.describe()"
   ]
  },
  {
   "cell_type": "code",
   "execution_count": 22,
   "metadata": {},
   "outputs": [
    {
     "data": {
      "text/html": [
       "<div>\n",
       "<style scoped>\n",
       "    .dataframe tbody tr th:only-of-type {\n",
       "        vertical-align: middle;\n",
       "    }\n",
       "\n",
       "    .dataframe tbody tr th {\n",
       "        vertical-align: top;\n",
       "    }\n",
       "\n",
       "    .dataframe thead th {\n",
       "        text-align: right;\n",
       "    }\n",
       "</style>\n",
       "<table border=\"1\" class=\"dataframe\">\n",
       "  <thead>\n",
       "    <tr style=\"text-align: right;\">\n",
       "      <th></th>\n",
       "      <th>average adjust rate</th>\n",
       "      <th>average bid price</th>\n",
       "      <th>total impression</th>\n",
       "      <th>total click</th>\n",
       "      <th>total conversion</th>\n",
       "      <th>ramaining budget</th>\n",
       "    </tr>\n",
       "  </thead>\n",
       "  <tbody>\n",
       "    <tr>\n",
       "      <th>count</th>\n",
       "      <td>10000.000000</td>\n",
       "      <td>10000.000000</td>\n",
       "      <td>10000.000000</td>\n",
       "      <td>10000.000000</td>\n",
       "      <td>10000.000000</td>\n",
       "      <td>10000.000000</td>\n",
       "    </tr>\n",
       "    <tr>\n",
       "      <th>mean</th>\n",
       "      <td>2.762991</td>\n",
       "      <td>146.916095</td>\n",
       "      <td>89.734071</td>\n",
       "      <td>8.640914</td>\n",
       "      <td>2.028371</td>\n",
       "      <td>35.166400</td>\n",
       "    </tr>\n",
       "    <tr>\n",
       "      <th>std</th>\n",
       "      <td>0.792874</td>\n",
       "      <td>42.178096</td>\n",
       "      <td>10.809552</td>\n",
       "      <td>0.431630</td>\n",
       "      <td>0.508367</td>\n",
       "      <td>118.708538</td>\n",
       "    </tr>\n",
       "    <tr>\n",
       "      <th>min</th>\n",
       "      <td>0.545756</td>\n",
       "      <td>26.240186</td>\n",
       "      <td>34.714286</td>\n",
       "      <td>3.000000</td>\n",
       "      <td>0.285714</td>\n",
       "      <td>1.000000</td>\n",
       "    </tr>\n",
       "    <tr>\n",
       "      <th>25%</th>\n",
       "      <td>2.181334</td>\n",
       "      <td>114.582401</td>\n",
       "      <td>82.428571</td>\n",
       "      <td>8.428571</td>\n",
       "      <td>1.714286</td>\n",
       "      <td>8.000000</td>\n",
       "    </tr>\n",
       "    <tr>\n",
       "      <th>50%</th>\n",
       "      <td>2.693607</td>\n",
       "      <td>142.818251</td>\n",
       "      <td>89.428571</td>\n",
       "      <td>8.571429</td>\n",
       "      <td>2.000000</td>\n",
       "      <td>17.000000</td>\n",
       "    </tr>\n",
       "    <tr>\n",
       "      <th>75%</th>\n",
       "      <td>3.287755</td>\n",
       "      <td>174.372307</td>\n",
       "      <td>96.714286</td>\n",
       "      <td>8.857143</td>\n",
       "      <td>2.428571</td>\n",
       "      <td>29.000000</td>\n",
       "    </tr>\n",
       "    <tr>\n",
       "      <th>max</th>\n",
       "      <td>6.341030</td>\n",
       "      <td>353.752757</td>\n",
       "      <td>131.142857</td>\n",
       "      <td>10.428571</td>\n",
       "      <td>4.142857</td>\n",
       "      <td>2069.000000</td>\n",
       "    </tr>\n",
       "  </tbody>\n",
       "</table>\n",
       "</div>"
      ],
      "text/plain": [
       "       average adjust rate  average bid price  total impression   total click  \\\n",
       "count         10000.000000       10000.000000      10000.000000  10000.000000   \n",
       "mean              2.762991         146.916095         89.734071      8.640914   \n",
       "std               0.792874          42.178096         10.809552      0.431630   \n",
       "min               0.545756          26.240186         34.714286      3.000000   \n",
       "25%               2.181334         114.582401         82.428571      8.428571   \n",
       "50%               2.693607         142.818251         89.428571      8.571429   \n",
       "75%               3.287755         174.372307         96.714286      8.857143   \n",
       "max               6.341030         353.752757        131.142857     10.428571   \n",
       "\n",
       "       total conversion  ramaining budget  \n",
       "count      10000.000000      10000.000000  \n",
       "mean           2.028371         35.166400  \n",
       "std            0.508367        118.708538  \n",
       "min            0.285714          1.000000  \n",
       "25%            1.714286          8.000000  \n",
       "50%            2.000000         17.000000  \n",
       "75%            2.428571         29.000000  \n",
       "max            4.142857       2069.000000  "
      ]
     },
     "execution_count": 22,
     "metadata": {},
     "output_type": "execute_result"
    }
   ],
   "source": [
    "# aggeregate episodic statistics\n",
    "df_ = pd.DataFrame()\n",
    "df_['average adjust rate'] = logged_dataset['state'][:, 6].reshape(-1, 7).mean(axis=1)\n",
    "df_['average bid price'] = logged_dataset['info']['average_bid_price'].reshape(-1, 7).mean(axis=1)\n",
    "df_['total impression'] = logged_dataset['info']['impression'].reshape(-1, 7).mean(axis=1)\n",
    "df_['total click'] = logged_dataset['info']['click'].reshape(-1, 7).mean(axis=1)\n",
    "df_['total conversion'] = logged_dataset['info']['conversion'].reshape(-1, 7).mean(axis=1)\n",
    "df_['ramaining budget'] = logged_dataset['state'][:,1].reshape(-1, 7)[:,6]\n",
    "df_.describe()"
   ]
  },
  {
   "cell_type": "code",
   "execution_count": 23,
   "metadata": {},
   "outputs": [
    {
     "data": {
      "text/plain": [
       "<seaborn.axisgrid.PairGrid at 0x7f257e6708b0>"
      ]
     },
     "execution_count": 23,
     "metadata": {},
     "output_type": "execute_result"
    },
    {
     "data": {
      "image/png": "[encoded data removed]",
      "text/plain": [
       "<Figure size 1080x1080 with 42 Axes>"
      ]
     },
     "metadata": {
      "needs_background": "light"
     },
     "output_type": "display_data"
    }
   ],
   "source": [
    "# we see a strong correlation between number of impression and click.\n",
    "# However, large number of click does not necessarily lead to conversion.\n",
    "sns.pairplot(df_[:100])"
   ]
  },
  {
   "cell_type": "markdown",
   "metadata": {},
   "source": [
    "### 1.2. Softmax behavior policy\n",
    "We can also use `DiscreteSoftmaxHead` to derive a stochastic behavior policy.\n",
    "\n",
    "This algorithm uses Q function of the original algorithm, which estimates the value of given context and action pair (i.e., $(s, a)$) as $Q(s, a)$. \\\n",
    "Specifically, the behavior policy chooses actions stochastically as $\\pi(a \\mid s) = \\frac{\\exp(Q(s, a) / \\tau)}{\\sum_{a' \\in A} \\exp(Q(s, a') / \\tau)}$, where $A$ indicates the set discrete actions and $\\tau$ is a inverse temprature parameter."
   ]
  },
  {
   "cell_type": "code",
   "execution_count": 24,
   "metadata": {},
   "outputs": [],
   "source": [
    "# convert base ddqn policy into a stochastic data collection policy\n",
    "from offlinegym.policy import DiscreteSoftmaxHead\n",
    "\n",
    "behavior_policy = DiscreteSoftmaxHead(\n",
    "    ddqn, \n",
    "    n_actions=env.action_space.n,\n",
    "    tau=1.0,  # temperature parameter\n",
    "    name=\"ddqn_softmax_tau_1.0\",\n",
    "    random_state=random_state,\n",
    ")"
   ]
  },
  {
   "cell_type": "code",
   "execution_count": 25,
   "metadata": {},
   "outputs": [
    {
     "data": {
      "application/vnd.jupyter.widget-view+json": {
       "model_id": "6a834a99ae9a4eb093fbb728ccbdc922",
       "version_major": 2,
       "version_minor": 0
      },
      "text/plain": [
       "[obtain_trajectories]:   0%|          | 0/10000 [00:00<?, ?it/s]"
      ]
     },
     "metadata": {},
     "output_type": "display_data"
    }
   ],
   "source": [
    "# collect data\n",
    "dataset = SyntheticDataset(\n",
    "    env=env,\n",
    "    behavior_policy=behavior_policy,\n",
    "    random_state=random_state,\n",
    ")\n",
    "logged_dataset = dataset.obtain_trajectories(n_episodes=10000, obtain_info=True)"
   ]
  },
  {
   "cell_type": "code",
   "execution_count": 26,
   "metadata": {},
   "outputs": [
    {
     "data": {
      "text/plain": [
       "{'size': 70000,\n",
       " 'n_episodes': 10000,\n",
       " 'step_per_episode': 7,\n",
       " 'action_type': 'discrete',\n",
       " 'n_actions': 10,\n",
       " 'action_dim': None,\n",
       " 'action_meaning': array([ 0.1       ,  0.16681005,  0.27825594,  0.46415888,  0.77426368,\n",
       "         1.29154967,  2.15443469,  3.59381366,  5.9948425 , 10.        ]),\n",
       " 'state_dim': 7,\n",
       " 'state_keys': ['timestep',\n",
       "  'remaining_budget',\n",
       "  'budget_consumption_rate',\n",
       "  'cost_per_mille_of_impression',\n",
       "  'winning_rate',\n",
       "  'reward',\n",
       "  'adjust_rate'],\n",
       " 'state': array([[0.00000000e+00, 3.00000000e+03, 9.29616093e-01, ...,\n",
       "         1.83918812e-01, 2.00000000e+00, 2.41173032e-01],\n",
       "        [1.00000000e+00, 1.94100000e+03, 3.53000000e-01, ...,\n",
       "         9.95024876e-01, 6.00000000e+00, 2.15443469e+00],\n",
       "        [2.00000000e+00, 1.23800000e+03, 3.62184441e-01, ...,\n",
       "         1.00000000e+00, 1.00000000e+00, 5.99484250e+00],\n",
       "        ...,\n",
       "        [4.00000000e+00, 9.19000000e+02, 5.40500000e-01, ...,\n",
       "         1.00000000e+00, 4.00000000e+00, 5.99484250e+00],\n",
       "        [5.00000000e+00, 4.10000000e+01, 9.55386289e-01, ...,\n",
       "         7.14285714e-01, 5.00000000e+00, 5.99484250e+00],\n",
       "        [6.00000000e+00, 4.10000000e+01, 0.00000000e+00, ...,\n",
       "         7.78210117e-03, 0.00000000e+00, 3.59381366e+00]]),\n",
       " 'action': array([6., 8., 7., ..., 8., 7., 4.]),\n",
       " 'reward': array([6., 1., 1., ..., 5., 0., 0.]),\n",
       " 'done': array([0., 0., 0., ..., 0., 0., 1.]),\n",
       " 'terminal': array([0., 0., 0., ..., 0., 0., 1.]),\n",
       " 'info': {'search_volume': array([201., 205., 217., ..., 203., 257., 179.]),\n",
       "  'impression': array([200., 205., 211., ..., 145.,   2.,  17.]),\n",
       "  'click': array([21., 15., 23., ..., 17.,  0.,  1.]),\n",
       "  'conversion': array([6., 1., 1., ..., 5., 0., 0.]),\n",
       "  'average_bid_price': array([116.91044776, 313.3804878 , 187.7281106 , ..., 290.76847291,\n",
       "         169.31906615,  35.37430168])},\n",
       " 'pscore': array([0.33169773, 0.19939582, 0.38494673, ..., 0.21906821, 0.67390186,\n",
       "        0.09782859])}"
      ]
     },
     "execution_count": 26,
     "metadata": {},
     "output_type": "execute_result"
    }
   ],
   "source": [
    "logged_dataset"
   ]
  },
  {
   "cell_type": "code",
   "execution_count": 27,
   "metadata": {},
   "outputs": [
    {
     "data": {
      "text/html": [
       "<div>\n",
       "<style scoped>\n",
       "    .dataframe tbody tr th:only-of-type {\n",
       "        vertical-align: middle;\n",
       "    }\n",
       "\n",
       "    .dataframe tbody tr th {\n",
       "        vertical-align: top;\n",
       "    }\n",
       "\n",
       "    .dataframe thead th {\n",
       "        text-align: right;\n",
       "    }\n",
       "</style>\n",
       "<table border=\"1\" class=\"dataframe\">\n",
       "  <thead>\n",
       "    <tr style=\"text-align: right;\">\n",
       "      <th></th>\n",
       "      <th>adjust rate</th>\n",
       "      <th>average bid price</th>\n",
       "      <th>impression</th>\n",
       "      <th>click</th>\n",
       "      <th>conversion</th>\n",
       "      <th>winning rate</th>\n",
       "      <th>click / impression</th>\n",
       "      <th>conversion / click</th>\n",
       "    </tr>\n",
       "  </thead>\n",
       "  <tbody>\n",
       "    <tr>\n",
       "      <th>count</th>\n",
       "      <td>70000.000000</td>\n",
       "      <td>70000.000000</td>\n",
       "      <td>70000.000000</td>\n",
       "      <td>70000.000000</td>\n",
       "      <td>70000.000000</td>\n",
       "      <td>70000.000000</td>\n",
       "      <td>70000.000000</td>\n",
       "      <td>70000.000000</td>\n",
       "    </tr>\n",
       "    <tr>\n",
       "      <th>mean</th>\n",
       "      <td>3.873653</td>\n",
       "      <td>207.037060</td>\n",
       "      <td>90.113757</td>\n",
       "      <td>8.607329</td>\n",
       "      <td>2.001043</td>\n",
       "      <td>0.518059</td>\n",
       "      <td>0.058096</td>\n",
       "      <td>0.125365</td>\n",
       "    </tr>\n",
       "    <tr>\n",
       "      <th>std</th>\n",
       "      <td>3.134080</td>\n",
       "      <td>159.708882</td>\n",
       "      <td>91.029431</td>\n",
       "      <td>9.527490</td>\n",
       "      <td>2.907334</td>\n",
       "      <td>0.433275</td>\n",
       "      <td>0.066474</td>\n",
       "      <td>0.178370</td>\n",
       "    </tr>\n",
       "    <tr>\n",
       "      <th>min</th>\n",
       "      <td>0.000007</td>\n",
       "      <td>3.995690</td>\n",
       "      <td>0.000000</td>\n",
       "      <td>0.000000</td>\n",
       "      <td>0.000000</td>\n",
       "      <td>0.000000</td>\n",
       "      <td>0.000000</td>\n",
       "      <td>0.000000</td>\n",
       "    </tr>\n",
       "    <tr>\n",
       "      <th>25%</th>\n",
       "      <td>1.291550</td>\n",
       "      <td>99.568468</td>\n",
       "      <td>3.000000</td>\n",
       "      <td>0.000000</td>\n",
       "      <td>0.000000</td>\n",
       "      <td>0.037838</td>\n",
       "      <td>0.000000</td>\n",
       "      <td>0.000000</td>\n",
       "    </tr>\n",
       "    <tr>\n",
       "      <th>50%</th>\n",
       "      <td>3.593814</td>\n",
       "      <td>179.194929</td>\n",
       "      <td>38.000000</td>\n",
       "      <td>2.000000</td>\n",
       "      <td>0.000000</td>\n",
       "      <td>0.519608</td>\n",
       "      <td>0.065306</td>\n",
       "      <td>0.000000</td>\n",
       "    </tr>\n",
       "    <tr>\n",
       "      <th>75%</th>\n",
       "      <td>5.994843</td>\n",
       "      <td>296.371637</td>\n",
       "      <td>189.000000</td>\n",
       "      <td>18.000000</td>\n",
       "      <td>3.000000</td>\n",
       "      <td>1.000000</td>\n",
       "      <td>0.101010</td>\n",
       "      <td>0.214286</td>\n",
       "    </tr>\n",
       "    <tr>\n",
       "      <th>max</th>\n",
       "      <td>10.000000</td>\n",
       "      <td>553.283582</td>\n",
       "      <td>290.000000</td>\n",
       "      <td>41.000000</td>\n",
       "      <td>20.000000</td>\n",
       "      <td>1.000000</td>\n",
       "      <td>0.999995</td>\n",
       "      <td>0.999998</td>\n",
       "    </tr>\n",
       "  </tbody>\n",
       "</table>\n",
       "</div>"
      ],
      "text/plain": [
       "        adjust rate  average bid price    impression         click  \\\n",
       "count  70000.000000       70000.000000  70000.000000  70000.000000   \n",
       "mean       3.873653         207.037060     90.113757      8.607329   \n",
       "std        3.134080         159.708882     91.029431      9.527490   \n",
       "min        0.000007           3.995690      0.000000      0.000000   \n",
       "25%        1.291550          99.568468      3.000000      0.000000   \n",
       "50%        3.593814         179.194929     38.000000      2.000000   \n",
       "75%        5.994843         296.371637    189.000000     18.000000   \n",
       "max       10.000000         553.283582    290.000000     41.000000   \n",
       "\n",
       "         conversion  winning rate  click / impression  conversion / click  \n",
       "count  70000.000000  70000.000000        70000.000000        70000.000000  \n",
       "mean       2.001043      0.518059            0.058096            0.125365  \n",
       "std        2.907334      0.433275            0.066474            0.178370  \n",
       "min        0.000000      0.000000            0.000000            0.000000  \n",
       "25%        0.000000      0.037838            0.000000            0.000000  \n",
       "50%        0.000000      0.519608            0.065306            0.000000  \n",
       "75%        3.000000      1.000000            0.101010            0.214286  \n",
       "max       20.000000      1.000000            0.999995            0.999998  "
      ]
     },
     "execution_count": 27,
     "metadata": {},
     "output_type": "execute_result"
    }
   ],
   "source": [
    "# check statistics of the dataset\n",
    "# we see that the environment is highly stochstic and the reward is sparse\n",
    "df = pd.DataFrame()\n",
    "df['adjust rate'] = logged_dataset['state'][:, 6]\n",
    "df['average bid price'] = logged_dataset['info']['average_bid_price']\n",
    "df['impression'] = logged_dataset['info']['impression']\n",
    "df['click'] = logged_dataset['info']['click']\n",
    "df['conversion'] = logged_dataset['info']['conversion']\n",
    "df['winning rate'] = logged_dataset['state'][:, 4]\n",
    "df['click / impression'] = df['click'] / (df['impression'] + 1e-5)\n",
    "df['conversion / click'] = df['conversion'] / (df['click'] + 1e-5)\n",
    "df.describe()"
   ]
  },
  {
   "cell_type": "code",
   "execution_count": 28,
   "metadata": {},
   "outputs": [
    {
     "data": {
      "text/html": [
       "<div>\n",
       "<style scoped>\n",
       "    .dataframe tbody tr th:only-of-type {\n",
       "        vertical-align: middle;\n",
       "    }\n",
       "\n",
       "    .dataframe tbody tr th {\n",
       "        vertical-align: top;\n",
       "    }\n",
       "\n",
       "    .dataframe thead th {\n",
       "        text-align: right;\n",
       "    }\n",
       "</style>\n",
       "<table border=\"1\" class=\"dataframe\">\n",
       "  <thead>\n",
       "    <tr style=\"text-align: right;\">\n",
       "      <th></th>\n",
       "      <th>average adjust rate</th>\n",
       "      <th>average bid price</th>\n",
       "      <th>total impression</th>\n",
       "      <th>total click</th>\n",
       "      <th>total conversion</th>\n",
       "      <th>ramaining budget</th>\n",
       "    </tr>\n",
       "  </thead>\n",
       "  <tbody>\n",
       "    <tr>\n",
       "      <th>count</th>\n",
       "      <td>10000.000000</td>\n",
       "      <td>10000.000000</td>\n",
       "      <td>10000.000000</td>\n",
       "      <td>10000.000000</td>\n",
       "      <td>10000.000000</td>\n",
       "      <td>10000.000000</td>\n",
       "    </tr>\n",
       "    <tr>\n",
       "      <th>mean</th>\n",
       "      <td>3.873653</td>\n",
       "      <td>207.037060</td>\n",
       "      <td>90.113757</td>\n",
       "      <td>8.607329</td>\n",
       "      <td>2.001043</td>\n",
       "      <td>31.790300</td>\n",
       "    </tr>\n",
       "    <tr>\n",
       "      <th>std</th>\n",
       "      <td>1.047477</td>\n",
       "      <td>55.009264</td>\n",
       "      <td>10.843465</td>\n",
       "      <td>0.435236</td>\n",
       "      <td>0.508457</td>\n",
       "      <td>129.428931</td>\n",
       "    </tr>\n",
       "    <tr>\n",
       "      <th>min</th>\n",
       "      <td>0.218987</td>\n",
       "      <td>19.356611</td>\n",
       "      <td>22.428571</td>\n",
       "      <td>1.857143</td>\n",
       "      <td>0.142857</td>\n",
       "      <td>1.000000</td>\n",
       "    </tr>\n",
       "    <tr>\n",
       "      <th>25%</th>\n",
       "      <td>3.130172</td>\n",
       "      <td>167.875764</td>\n",
       "      <td>82.714286</td>\n",
       "      <td>8.285714</td>\n",
       "      <td>1.714286</td>\n",
       "      <td>8.000000</td>\n",
       "    </tr>\n",
       "    <tr>\n",
       "      <th>50%</th>\n",
       "      <td>3.831019</td>\n",
       "      <td>204.666774</td>\n",
       "      <td>89.571429</td>\n",
       "      <td>8.571429</td>\n",
       "      <td>2.000000</td>\n",
       "      <td>17.000000</td>\n",
       "    </tr>\n",
       "    <tr>\n",
       "      <th>75%</th>\n",
       "      <td>4.569160</td>\n",
       "      <td>243.181743</td>\n",
       "      <td>97.142857</td>\n",
       "      <td>8.857143</td>\n",
       "      <td>2.285714</td>\n",
       "      <td>28.000000</td>\n",
       "    </tr>\n",
       "    <tr>\n",
       "      <th>max</th>\n",
       "      <td>8.259417</td>\n",
       "      <td>439.761989</td>\n",
       "      <td>134.285714</td>\n",
       "      <td>10.428571</td>\n",
       "      <td>4.142857</td>\n",
       "      <td>2917.000000</td>\n",
       "    </tr>\n",
       "  </tbody>\n",
       "</table>\n",
       "</div>"
      ],
      "text/plain": [
       "       average adjust rate  average bid price  total impression   total click  \\\n",
       "count         10000.000000       10000.000000      10000.000000  10000.000000   \n",
       "mean              3.873653         207.037060         90.113757      8.607329   \n",
       "std               1.047477          55.009264         10.843465      0.435236   \n",
       "min               0.218987          19.356611         22.428571      1.857143   \n",
       "25%               3.130172         167.875764         82.714286      8.285714   \n",
       "50%               3.831019         204.666774         89.571429      8.571429   \n",
       "75%               4.569160         243.181743         97.142857      8.857143   \n",
       "max               8.259417         439.761989        134.285714     10.428571   \n",
       "\n",
       "       total conversion  ramaining budget  \n",
       "count      10000.000000      10000.000000  \n",
       "mean           2.001043         31.790300  \n",
       "std            0.508457        129.428931  \n",
       "min            0.142857          1.000000  \n",
       "25%            1.714286          8.000000  \n",
       "50%            2.000000         17.000000  \n",
       "75%            2.285714         28.000000  \n",
       "max            4.142857       2917.000000  "
      ]
     },
     "execution_count": 28,
     "metadata": {},
     "output_type": "execute_result"
    }
   ],
   "source": [
    "# aggeregate episodic statistics\n",
    "df_ = pd.DataFrame()\n",
    "df_['average adjust rate'] = logged_dataset['state'][:, 6].reshape(-1, 7).mean(axis=1)\n",
    "df_['average bid price'] = logged_dataset['info']['average_bid_price'].reshape(-1, 7).mean(axis=1)\n",
    "df_['total impression'] = logged_dataset['info']['impression'].reshape(-1, 7).mean(axis=1)\n",
    "df_['total click'] = logged_dataset['info']['click'].reshape(-1, 7).mean(axis=1)\n",
    "df_['total conversion'] = logged_dataset['info']['conversion'].reshape(-1, 7).mean(axis=1)\n",
    "df_['ramaining budget'] = logged_dataset['state'][:,1].reshape(-1, 7)[:,6]\n",
    "df_.describe()"
   ]
  },
  {
   "cell_type": "code",
   "execution_count": 29,
   "metadata": {},
   "outputs": [
    {
     "data": {
      "text/plain": [
       "<seaborn.axisgrid.PairGrid at 0x7f257461e0a0>"
      ]
     },
     "execution_count": 29,
     "metadata": {},
     "output_type": "execute_result"
    },
    {
     "data": {
      "image/png": "[encoded data removed]",
      "text/plain": [
       "<Figure size 1080x1080 with 42 Axes>"
      ]
     },
     "metadata": {
      "needs_background": "light"
     },
     "output_type": "display_data"
    }
   ],
   "source": [
    "# seems softmax policy obtain impression more, but conversion less than the epsilon-greedy policy\n",
    "sns.pairplot(df_[:100])"
   ]
  },
  {
   "cell_type": "markdown",
   "metadata": {},
   "source": [
    "For the offline RL and OPE procedure, please refer to [examples/quickstart/rtb_synthetic_discrete.ipynb](https://github.com/negocia-inc/rtb_reinforcement_learing/blob/master/examples/quickstart/rtb_synthetic_discrete.ipynb)."
   ]
  },
  {
   "cell_type": "markdown",
   "metadata": {},
   "source": [
    "## 2. Continuous Action Space\n",
    "We also describe the case where the continuous behavior policy is used. \\\n",
    "Here, we first learn a base deterministic policy in a similar manner with discrete action case."
   ]
  },
  {
   "cell_type": "code",
   "execution_count": 30,
   "metadata": {},
   "outputs": [],
   "source": [
    "# setup discrete environment\n",
    "env = CustomizedRTBEnv(\n",
    "    original_env=RTBEnv(random_state=random_state),\n",
    "    reward_predictor=LogisticRegression(),\n",
    "    action_type=\"continuous\",\n",
    ")"
   ]
  },
  {
   "cell_type": "code",
   "execution_count": 31,
   "metadata": {},
   "outputs": [],
   "source": [
    "# learn base deterministic policy for data collection\n",
    "from d3rlpy.algos import SAC\n",
    "from d3rlpy.models.encoders import VectorEncoderFactory\n",
    "from d3rlpy.models.q_functions import MeanQFunctionFactory\n",
    "from d3rlpy.online.buffers import ReplayBuffer\n",
    "\n",
    "# model\n",
    "sac = SAC(\n",
    "    actor_encoder_factory=VectorEncoderFactory(hidden_units=[30, 30]),\n",
    "    critic_encoder_factory=VectorEncoderFactory(hidden_units=[30, 30]),\n",
    "    q_func_factory=MeanQFunctionFactory(),\n",
    "    use_gpu=torch.cuda.is_available(),\n",
    "    action_scaler=MinMaxActionScaler(\n",
    "        minimum=env.action_space.low,   # 0.1\n",
    "        maximum=env.action_space.high,  # 10\n",
    "    ),\n",
    ")\n",
    "# setup replay buffer\n",
    "buffer = ReplayBuffer(\n",
    "    maxlen=10000,\n",
    "    env=env,\n",
    ")"
   ]
  },
  {
   "cell_type": "code",
   "execution_count": 32,
   "metadata": {},
   "outputs": [
    {
     "name": "stdout",
     "output_type": "stream",
     "text": [
      "2022-02-03 17:31.27 [info     ] Directory is created at d3rlpy_logs/SAC_online_20220203173127\n",
      "2022-02-03 17:31.27 [debug    ] Fitting action scaler...       action_scler=min_max\n",
      "2022-02-03 17:31.27 [debug    ] Building model...\n",
      "2022-02-03 17:31.27 [debug    ] Model has been built.\n",
      "2022-02-03 17:31.27 [info     ] Parameters are saved to d3rlpy_logs/SAC_online_20220203173127/params.json params={'action_scaler': {'type': 'min_max', 'params': {'minimum': array([0.1]), 'maximum': array([10.])}}, 'actor_encoder_factory': {'type': 'vector', 'params': {'hidden_units': [100], 'activation': 'relu', 'use_batch_norm': False, 'dropout_rate': None, 'use_dense': False}}, 'actor_learning_rate': 0.0003, 'actor_optim_factory': {'optim_cls': 'Adam', 'betas': (0.9, 0.999), 'eps': 1e-08, 'weight_decay': 0, 'amsgrad': False}, 'batch_size': 256, 'critic_encoder_factory': {'type': 'vector', 'params': {'hidden_units': [100], 'activation': 'relu', 'use_batch_norm': False, 'dropout_rate': None, 'use_dense': False}}, 'critic_learning_rate': 0.0003, 'critic_optim_factory': {'optim_cls': 'Adam', 'betas': (0.9, 0.999), 'eps': 1e-08, 'weight_decay': 0, 'amsgrad': False}, 'gamma': 0.99, 'generated_maxlen': 100000, 'initial_temperature': 1.0, 'n_critics': 2, 'n_frames': 1, 'n_steps': 1, 'q_func_factory': {'type': 'mean', 'params': {'bootstrap': False, 'share_encoder': False}}, 'real_ratio': 1.0, 'reward_scaler': None, 'scaler': None, 'target_reduction_type': 'min', 'tau': 0.005, 'temp_learning_rate': 0.0003, 'temp_optim_factory': {'optim_cls': 'Adam', 'betas': (0.9, 0.999), 'eps': 1e-08, 'weight_decay': 0, 'amsgrad': False}, 'use_gpu': None, 'algorithm': 'SAC', 'observation_shape': (7,), 'action_size': 1}\n"
     ]
    },
    {
     "name": "stderr",
     "output_type": "stream",
     "text": [
      "  1%|          | 998/100000 [00:37<1:58:09, 13.97it/s]"
     ]
    },
    {
     "name": "stdout",
     "output_type": "stream",
     "text": [
      "2022-02-03 17:32.04 [info     ] Model parameters are saved to d3rlpy_logs/SAC_online_20220203173127/model_1000.pt\n",
      "2022-02-03 17:32.04 [info     ] SAC_online_20220203173127: epoch=1 step=1000 epoch=1 metrics={'time_inference': 0.0009267849922180175, 'time_environment_step': 0.0009259248461042131, 'time_step': 0.034501362800598144, 'rollout_return': 8.056, 'time_sample_batch': 0.00032617111691659716, 'time_algorithm_update': 0.04588318511822605, 'temp_loss': -29.01002153277903, 'temp': 1.014229896382193, 'critic_loss': 36949.35350940926, 'actor_loss': 196.54371357099, 'evaluation': 14.9} step=1000\n"
     ]
    },
    {
     "name": "stderr",
     "output_type": "stream",
     "text": [
      "  2%|▏         | 1996/100000 [01:08<50:27, 32.37it/s]  "
     ]
    },
    {
     "name": "stdout",
     "output_type": "stream",
     "text": [
      "2022-02-03 17:32.36 [info     ] Model parameters are saved to d3rlpy_logs/SAC_online_20220203173127/model_2000.pt\n",
      "2022-02-03 17:32.36 [info     ] SAC_online_20220203173127: epoch=2 step=2000 epoch=2 metrics={'time_inference': 0.0007558057308197022, 'time_environment_step': 0.0009050369262695312, 'time_sample_batch': 0.00037315678596496583, 'time_algorithm_update': 0.026697147846221923, 'temp_loss': -5.955108958959579, 'temp': 1.0334455721378326, 'critic_loss': 2239.5403898620607, 'actor_loss': 62.31210834503174, 'time_step': 0.028719621419906617, 'rollout_return': 13.44, 'evaluation': 14.4} step=2000\n"
     ]
    },
    {
     "name": "stderr",
     "output_type": "stream",
     "text": [
      "  3%|▎         | 2998/100000 [01:55<54:28, 29.68it/s]  "
     ]
    },
    {
     "name": "stdout",
     "output_type": "stream",
     "text": [
      "2022-02-03 17:33.23 [info     ] Model parameters are saved to d3rlpy_logs/SAC_online_20220203173127/model_3000.pt\n",
      "2022-02-03 17:33.23 [info     ] SAC_online_20220203173127: epoch=3 step=3000 epoch=3 metrics={'time_inference': 0.00085520339012146, 'time_environment_step': 0.001011361803327288, 'time_sample_batch': 0.0003701910972595215, 'time_algorithm_update': 0.04096388030052185, 'temp_loss': -6.81749871301651, 'temp': 1.0804545226097106, 'critic_loss': 455.67051779174807, 'actor_loss': 35.00275743484497, 'time_step': 0.04317674136161804, 'rollout_return': 13.296, 'evaluation': 16.8} step=3000\n"
     ]
    },
    {
     "name": "stderr",
     "output_type": "stream",
     "text": [
      "  4%|▍         | 3998/100000 [02:43<1:09:12, 23.12it/s]"
     ]
    },
    {
     "name": "stdout",
     "output_type": "stream",
     "text": [
      "2022-02-03 17:34.11 [info     ] Model parameters are saved to d3rlpy_logs/SAC_online_20220203173127/model_4000.pt\n",
      "2022-02-03 17:34.11 [info     ] SAC_online_20220203173127: epoch=4 step=4000 epoch=4 metrics={'time_inference': 0.0007336592674255371, 'time_environment_step': 0.0009599718366350447, 'time_sample_batch': 0.00037519121170043944, 'time_algorithm_update': 0.0413048791885376, 'temp_loss': -12.434386920213699, 'temp': 1.2163939454555512, 'critic_loss': 489.08263452148435, 'actor_loss': 41.39706342887878, 'time_step': 0.04336409068107605, 'rollout_return': 14.744, 'evaluation': 14.5} step=4000\n"
     ]
    },
    {
     "name": "stderr",
     "output_type": "stream",
     "text": [
      "  5%|▍         | 4997/100000 [03:27<1:24:28, 18.74it/s]"
     ]
    },
    {
     "name": "stdout",
     "output_type": "stream",
     "text": [
      "2022-02-03 17:34.55 [info     ] Model parameters are saved to d3rlpy_logs/SAC_online_20220203173127/model_5000.pt\n",
      "2022-02-03 17:34.55 [info     ] SAC_online_20220203173127: epoch=5 step=5000 epoch=5 metrics={'time_inference': 0.0007607033252716065, 'time_environment_step': 0.0009638797215053013, 'time_sample_batch': 0.00041814541816711425, 'time_algorithm_update': 0.03801184177398682, 'temp_loss': -8.199567044734955, 'temp': 1.4367256914377213, 'critic_loss': 371.96393338012695, 'actor_loss': 33.83932646560669, 'time_step': 0.04013548421859741, 'rollout_return': 13.248, 'evaluation': 11.2} step=5000\n"
     ]
    },
    {
     "name": "stderr",
     "output_type": "stream",
     "text": [
      "  6%|▌         | 5997/100000 [04:16<40:14, 38.93it/s]  "
     ]
    },
    {
     "name": "stdout",
     "output_type": "stream",
     "text": [
      "2022-02-03 17:35.43 [info     ] Model parameters are saved to d3rlpy_logs/SAC_online_20220203173127/model_6000.pt\n",
      "2022-02-03 17:35.43 [info     ] SAC_online_20220203173127: epoch=6 step=6000 epoch=6 metrics={'time_inference': 0.0008208832740783692, 'time_environment_step': 0.0009697358267647879, 'time_sample_batch': 0.0004081296920776367, 'time_algorithm_update': 0.04187553596496582, 'temp_loss': -18.37582951450348, 'temp': 1.8848129974603653, 'critic_loss': 802.2616653137208, 'actor_loss': 57.34660425758362, 'time_step': 0.04404580736160278, 'rollout_return': 15.104, 'evaluation': 16.2} step=6000\n"
     ]
    },
    {
     "name": "stderr",
     "output_type": "stream",
     "text": [
      "  7%|▋         | 6999/100000 [04:58<1:15:24, 20.56it/s]"
     ]
    },
    {
     "name": "stdout",
     "output_type": "stream",
     "text": [
      "2022-02-03 17:36.26 [info     ] Model parameters are saved to d3rlpy_logs/SAC_online_20220203173127/model_7000.pt\n",
      "2022-02-03 17:36.26 [info     ] SAC_online_20220203173127: epoch=7 step=7000 epoch=7 metrics={'time_inference': 0.0007797708511352539, 'time_environment_step': 0.0009781641278948103, 'time_sample_batch': 0.0004340806007385254, 'time_algorithm_update': 0.03606437087059021, 'temp_loss': -15.811996129989623, 'temp': 2.6082332272529603, 'critic_loss': 1136.0569451293945, 'actor_loss': 63.35757264328003, 'time_step': 0.038232165813446045, 'rollout_return': 13.072, 'evaluation': 13.6} step=7000\n"
     ]
    },
    {
     "name": "stderr",
     "output_type": "stream",
     "text": [
      "  8%|▊         | 7996/100000 [05:22<21:48, 70.32it/s]  "
     ]
    },
    {
     "name": "stdout",
     "output_type": "stream",
     "text": [
      "2022-02-03 17:36.49 [info     ] Model parameters are saved to d3rlpy_logs/SAC_online_20220203173127/model_8000.pt\n",
      "2022-02-03 17:36.49 [info     ] SAC_online_20220203173127: epoch=8 step=8000 epoch=8 metrics={'time_inference': 0.0007865319252014161, 'time_environment_step': 0.000959479468209403, 'time_sample_batch': 0.00041432952880859377, 'time_algorithm_update': 0.019313255071640015, 'temp_loss': -19.733167536735536, 'temp': 3.522550874710083, 'critic_loss': 1830.744767578125, 'actor_loss': 76.74491456222535, 'time_step': 0.021444010734558105, 'rollout_return': 13.704, 'evaluation': 12.3} step=8000\n"
     ]
    },
    {
     "name": "stderr",
     "output_type": "stream",
     "text": [
      "  9%|▉         | 8999/100000 [05:32<13:35, 111.54it/s]"
     ]
    },
    {
     "name": "stdout",
     "output_type": "stream",
     "text": [
      "2022-02-03 17:37.00 [info     ] Model parameters are saved to d3rlpy_logs/SAC_online_20220203173127/model_9000.pt\n",
      "2022-02-03 17:37.00 [info     ] SAC_online_20220203173127: epoch=9 step=9000 epoch=9 metrics={'time_inference': 0.0006975810527801514, 'time_environment_step': 0.0008533475058419363, 'time_sample_batch': 0.00037985706329345706, 'time_algorithm_update': 0.008044734954833984, 'temp_loss': -51.09213157749176, 'temp': 5.447880784988404, 'critic_loss': 6072.606327392578, 'actor_loss': 166.43800096130371, 'time_step': 0.009953533887863159, 'rollout_return': 14.136, 'evaluation': 15.7} step=9000\n"
     ]
    },
    {
     "name": "stderr",
     "output_type": "stream",
     "text": [
      " 10%|▉         | 9987/100000 [05:44<20:16, 74.01it/s] "
     ]
    },
    {
     "name": "stdout",
     "output_type": "stream",
     "text": [
      "2022-02-03 17:37.12 [info     ] Model parameters are saved to d3rlpy_logs/SAC_online_20220203173127/model_10000.pt\n",
      "2022-02-03 17:37.12 [info     ] SAC_online_20220203173127: epoch=10 step=10000 epoch=10 metrics={'time_inference': 0.0007267966270446777, 'time_environment_step': 0.0009032442910330636, 'time_sample_batch': 0.0004045226573944092, 'time_algorithm_update': 0.009225730895996093, 'temp_loss': -42.42766627311707, 'temp': 7.655484572410583, 'critic_loss': 8772.906290039062, 'actor_loss': 178.95372230529784, 'time_step': 0.011235668659210205, 'rollout_return': 13.496, 'evaluation': 17.0} step=10000\n"
     ]
    },
    {
     "name": "stderr",
     "output_type": "stream",
     "text": [
      " 11%|█         | 10994/100000 [05:54<14:02, 105.61it/s]"
     ]
    },
    {
     "name": "stdout",
     "output_type": "stream",
     "text": [
      "2022-02-03 17:37.22 [info     ] Model parameters are saved to d3rlpy_logs/SAC_online_20220203173127/model_11000.pt\n",
      "2022-02-03 17:37.22 [info     ] SAC_online_20220203173127: epoch=11 step=11000 epoch=11 metrics={'time_inference': 0.0006917047500610351, 'time_environment_step': 0.0008699564252580915, 'time_sample_batch': 0.0003868107795715332, 'time_algorithm_update': 0.007472370386123657, 'temp_loss': -60.03001314926148, 'temp': 10.730605567932129, 'critic_loss': 16739.293255859375, 'actor_loss': 238.39174043273925, 'time_step': 0.009399463653564453, 'rollout_return': 12.8, 'evaluation': 14.6} step=11000\n"
     ]
    },
    {
     "name": "stderr",
     "output_type": "stream",
     "text": [
      " 12%|█▏        | 11995/100000 [06:04<15:13, 96.33it/s] "
     ]
    },
    {
     "name": "stdout",
     "output_type": "stream",
     "text": [
      "2022-02-03 17:37.31 [info     ] Model parameters are saved to d3rlpy_logs/SAC_online_20220203173127/model_12000.pt\n",
      "2022-02-03 17:37.31 [info     ] SAC_online_20220203173127: epoch=12 step=12000 epoch=12 metrics={'time_inference': 0.0006645534038543701, 'time_environment_step': 0.000841137204851423, 'time_sample_batch': 0.00037471580505371094, 'time_algorithm_update': 0.00685244345664978, 'temp_loss': -85.70155273056031, 'temp': 15.636147899627685, 'critic_loss': 33248.96698242187, 'actor_loss': 339.5867840881348, 'time_step': 0.008707327604293822, 'rollout_return': 12.704, 'evaluation': 0.0} step=12000\n"
     ]
    },
    {
     "name": "stderr",
     "output_type": "stream",
     "text": [
      " 13%|█▎        | 12995/100000 [06:13<11:29, 126.17it/s]"
     ]
    },
    {
     "name": "stdout",
     "output_type": "stream",
     "text": [
      "2022-02-03 17:37.40 [info     ] Model parameters are saved to d3rlpy_logs/SAC_online_20220203173127/model_13000.pt\n",
      "2022-02-03 17:37.40 [info     ] SAC_online_20220203173127: epoch=13 step=13000 epoch=13 metrics={'time_inference': 0.0006398026943206787, 'time_environment_step': 0.0008179582868303571, 'time_sample_batch': 0.00037252283096313475, 'time_algorithm_update': 0.0066072924137115475, 'temp_loss': -133.78350201416015, 'temp': 23.210238260269165, 'critic_loss': 73894.99758203125, 'actor_loss': 510.8308789672852, 'time_step': 0.008417375802993775, 'rollout_return': 12.872, 'evaluation': 18.7} step=13000\n"
     ]
    },
    {
     "name": "stderr",
     "output_type": "stream",
     "text": [
      " 14%|█▍        | 13994/100000 [06:22<13:49, 103.64it/s]"
     ]
    },
    {
     "name": "stdout",
     "output_type": "stream",
     "text": [
      "2022-02-03 17:37.49 [info     ] Model parameters are saved to d3rlpy_logs/SAC_online_20220203173127/model_14000.pt\n",
      "2022-02-03 17:37.49 [info     ] SAC_online_20220203173127: epoch=14 step=14000 epoch=14 metrics={'time_inference': 0.0006379175186157226, 'time_environment_step': 0.0008164443969726563, 'time_sample_batch': 0.00038429045677185056, 'time_algorithm_update': 0.0069685463905334475, 'temp_loss': -190.70157015228273, 'temp': 34.398584228515624, 'critic_loss': 159365.0504296875, 'actor_loss': 748.2237845458984, 'time_step': 0.008796462297439574, 'rollout_return': 13.272, 'evaluation': 16.2} step=14000\n"
     ]
    },
    {
     "name": "stderr",
     "output_type": "stream",
     "text": [
      " 15%|█▍        | 14999/100000 [06:31<12:48, 110.62it/s]"
     ]
    },
    {
     "name": "stdout",
     "output_type": "stream",
     "text": [
      "2022-02-03 17:37.59 [info     ] Model parameters are saved to d3rlpy_logs/SAC_online_20220203173127/model_15000.pt\n",
      "2022-02-03 17:37.59 [info     ] SAC_online_20220203173127: epoch=15 step=15000 epoch=15 metrics={'time_inference': 0.0006653001308441162, 'time_environment_step': 0.0008483772277832031, 'time_sample_batch': 0.0003835198879241943, 'time_algorithm_update': 0.006940669298171997, 'temp_loss': -343.10876533508304, 'temp': 51.26519715118408, 'critic_loss': 403085.669828125, 'actor_loss': 1220.182923828125, 'time_step': 0.00881716799736023, 'rollout_return': 13.688, 'evaluation': 9.3} step=15000\n"
     ]
    },
    {
     "name": "stderr",
     "output_type": "stream",
     "text": [
      " 16%|█▌        | 15993/100000 [06:40<11:51, 118.15it/s]"
     ]
    },
    {
     "name": "stdout",
     "output_type": "stream",
     "text": [
      "2022-02-03 17:38.07 [info     ] Model parameters are saved to d3rlpy_logs/SAC_online_20220203173127/model_16000.pt\n",
      "2022-02-03 17:38.08 [info     ] SAC_online_20220203173127: epoch=16 step=16000 epoch=16 metrics={'time_inference': 0.0006492564678192139, 'time_environment_step': 0.0008444538116455079, 'time_sample_batch': 0.00037839269638061525, 'time_algorithm_update': 0.006368506908416748, 'temp_loss': -657.3312485656738, 'temp': 79.68508031463622, 'critic_loss': 1182251.63040625, 'actor_loss': 2241.5220021972655, 'time_step': 0.008217754125595092, 'rollout_return': 13.344, 'evaluation': 14.5} step=16000\n"
     ]
    },
    {
     "name": "stderr",
     "output_type": "stream",
     "text": [
      " 17%|█▋        | 16999/100000 [06:49<12:01, 115.04it/s]"
     ]
    },
    {
     "name": "stdout",
     "output_type": "stream",
     "text": [
      "2022-02-03 17:38.16 [info     ] Model parameters are saved to d3rlpy_logs/SAC_online_20220203173127/model_17000.pt\n",
      "2022-02-03 17:38.16 [info     ] SAC_online_20220203173127: epoch=17 step=17000 epoch=17 metrics={'time_inference': 0.0006827332973480224, 'time_environment_step': 0.0008301239013671875, 'time_sample_batch': 0.0003761911392211914, 'time_algorithm_update': 0.006524553537368774, 'temp_loss': -758.7729342956543, 'temp': 117.1923461151123, 'critic_loss': 2228489.889, 'actor_loss': 3015.181187988281, 'time_step': 0.008396538019180298, 'rollout_return': 13.28, 'evaluation': 0.0} step=17000\n"
     ]
    },
    {
     "name": "stderr",
     "output_type": "stream",
     "text": [
      " 18%|█▊        | 17986/100000 [06:56<09:28, 144.37it/s]"
     ]
    },
    {
     "name": "stdout",
     "output_type": "stream",
     "text": [
      "2022-02-03 17:38.24 [info     ] Model parameters are saved to d3rlpy_logs/SAC_online_20220203173127/model_18000.pt\n",
      "2022-02-03 17:38.24 [info     ] SAC_online_20220203173127: epoch=18 step=18000 epoch=18 metrics={'time_inference': 0.0006236546039581299, 'time_environment_step': 0.0007723960876464844, 'time_sample_batch': 0.0003359370231628418, 'time_algorithm_update': 0.0056612021923065185, 'temp_loss': -888.2079064331054, 'temp': 161.58739639282226, 'critic_loss': 3696389.06425, 'actor_loss': 3644.7946433105467, 'time_step': 0.007379185676574707, 'rollout_return': 13.544, 'evaluation': 12.8} step=18000\n"
     ]
    },
    {
     "name": "stderr",
     "output_type": "stream",
     "text": [
      " 19%|█▉        | 18997/100000 [07:04<10:15, 131.58it/s]"
     ]
    },
    {
     "name": "stdout",
     "output_type": "stream",
     "text": [
      "2022-02-03 17:38.32 [info     ] Model parameters are saved to d3rlpy_logs/SAC_online_20220203173127/model_19000.pt\n",
      "2022-02-03 17:38.32 [info     ] SAC_online_20220203173127: epoch=19 step=19000 epoch=19 metrics={'time_inference': 0.0006186797618865967, 'time_environment_step': 0.000771331787109375, 'time_sample_batch': 0.0003384718894958496, 'time_algorithm_update': 0.005689769029617309, 'temp_loss': -1298.3611099243165, 'temp': 233.83855474853516, 'critic_loss': 7714562.8035, 'actor_loss': 5165.425344482422, 'time_step': 0.007404070377349853, 'rollout_return': 12.68, 'evaluation': 0.0} step=19000\n"
     ]
    },
    {
     "name": "stderr",
     "output_type": "stream",
     "text": [
      " 20%|█▉        | 19995/100000 [07:11<09:37, 138.48it/s]"
     ]
    },
    {
     "name": "stdout",
     "output_type": "stream",
     "text": [
      "2022-02-03 17:38.39 [info     ] Model parameters are saved to d3rlpy_logs/SAC_online_20220203173127/model_20000.pt\n",
      "2022-02-03 17:38.39 [info     ] SAC_online_20220203173127: epoch=20 step=20000 epoch=20 metrics={'time_inference': 0.0005850296020507812, 'time_environment_step': 0.0007329186030796596, 'time_sample_batch': 0.0003190045356750488, 'time_algorithm_update': 0.005385489702224732, 'temp_loss': -2041.7614885253906, 'temp': 347.8379638671875, 'critic_loss': 17458586.102, 'actor_loss': 7909.270507324219, 'time_step': 0.007007397413253784, 'rollout_return': 12.592, 'evaluation': 0.0} step=20000\n"
     ]
    },
    {
     "name": "stderr",
     "output_type": "stream",
     "text": [
      " 21%|██        | 20990/100000 [07:19<09:23, 140.23it/s]"
     ]
    },
    {
     "name": "stdout",
     "output_type": "stream",
     "text": [
      "2022-02-03 17:38.46 [info     ] Model parameters are saved to d3rlpy_logs/SAC_online_20220203173127/model_21000.pt\n",
      "2022-02-03 17:38.46 [info     ] SAC_online_20220203173127: epoch=21 step=21000 epoch=21 metrics={'time_inference': 0.000589653491973877, 'time_environment_step': 0.0007305635724748884, 'time_sample_batch': 0.0003267688751220703, 'time_algorithm_update': 0.005444261789321899, 'temp_loss': -2808.4941813964842, 'temp': 507.80379885864255, 'critic_loss': 36456204.787, 'actor_loss': 11231.559746582032, 'time_step': 0.007075570583343506, 'rollout_return': 12.64, 'evaluation': 14.6} step=21000\n"
     ]
    },
    {
     "name": "stderr",
     "output_type": "stream",
     "text": [
      " 22%|██▏       | 21988/100000 [07:26<09:17, 139.93it/s]"
     ]
    },
    {
     "name": "stdout",
     "output_type": "stream",
     "text": [
      "2022-02-03 17:38.53 [info     ] Model parameters are saved to d3rlpy_logs/SAC_online_20220203173127/model_22000.pt\n",
      "2022-02-03 17:38.53 [info     ] SAC_online_20220203173127: epoch=22 step=22000 epoch=22 metrics={'time_inference': 0.0005986099243164062, 'time_environment_step': 0.0007425035749162946, 'time_sample_batch': 0.0003320162296295166, 'time_algorithm_update': 0.005504580020904541, 'temp_loss': -5721.67213671875, 'temp': 764.7077998046875, 'critic_loss': 103410974.804, 'actor_loss': 19657.785291992186, 'time_step': 0.007162679195404053, 'rollout_return': 13.92, 'evaluation': 14.4} step=22000\n"
     ]
    },
    {
     "name": "stderr",
     "output_type": "stream",
     "text": [
      " 23%|██▎       | 22991/100000 [07:33<08:46, 146.33it/s]"
     ]
    },
    {
     "name": "stdout",
     "output_type": "stream",
     "text": [
      "2022-02-03 17:39.01 [info     ] Model parameters are saved to d3rlpy_logs/SAC_online_20220203173127/model_23000.pt\n",
      "2022-02-03 17:39.01 [info     ] SAC_online_20220203173127: epoch=23 step=23000 epoch=23 metrics={'time_inference': 0.0005890672206878662, 'time_environment_step': 0.0007309068952287947, 'time_sample_batch': 0.00032068943977355956, 'time_algorithm_update': 0.005428978681564331, 'temp_loss': -6278.825862792969, 'temp': 1139.385508239746, 'critic_loss': 192331865.856, 'actor_loss': 26830.97537890625, 'time_step': 0.007053349733352661, 'rollout_return': 12.904, 'evaluation': 15.3} step=23000\n"
     ]
    },
    {
     "name": "stderr",
     "output_type": "stream",
     "text": [
      " 24%|██▍       | 23989/100000 [07:40<09:30, 133.17it/s]"
     ]
    },
    {
     "name": "stdout",
     "output_type": "stream",
     "text": [
      "2022-02-03 17:39.08 [info     ] Model parameters are saved to d3rlpy_logs/SAC_online_20220203173127/model_24000.pt\n",
      "2022-02-03 17:39.08 [info     ] SAC_online_20220203173127: epoch=24 step=24000 epoch=24 metrics={'time_inference': 0.0005869226455688476, 'time_environment_step': 0.0007336968013218471, 'time_sample_batch': 0.00032109379768371584, 'time_algorithm_update': 0.005371901273727417, 'temp_loss': -14301.025579589843, 'temp': 1723.4154272460937, 'critic_loss': 569770458.576, 'actor_loss': 49900.488791015625, 'time_step': 0.006999753475189209, 'rollout_return': 13.688, 'evaluation': 16.6} step=24000\n"
     ]
    },
    {
     "name": "stderr",
     "output_type": "stream",
     "text": [
      " 25%|██▍       | 24995/100000 [07:48<08:35, 145.60it/s]"
     ]
    },
    {
     "name": "stdout",
     "output_type": "stream",
     "text": [
      "2022-02-03 17:39.15 [info     ] Model parameters are saved to d3rlpy_logs/SAC_online_20220203173127/model_25000.pt\n",
      "2022-02-03 17:39.15 [info     ] SAC_online_20220203173127: epoch=25 step=25000 epoch=25 metrics={'time_inference': 0.0006159174442291259, 'time_environment_step': 0.000777479989188058, 'time_sample_batch': 0.0003394839763641357, 'time_algorithm_update': 0.005595139265060425, 'temp_loss': -13393.611459960937, 'temp': 2409.3533376464843, 'critic_loss': 876487052.512, 'actor_loss': 56620.76236328125, 'time_step': 0.007312349557876587, 'rollout_return': 13.4, 'evaluation': 0.0} step=25000\n"
     ]
    },
    {
     "name": "stderr",
     "output_type": "stream",
     "text": [
      " 26%|██▌       | 25986/100000 [07:55<08:57, 137.73it/s]"
     ]
    },
    {
     "name": "stdout",
     "output_type": "stream",
     "text": [
      "2022-02-03 17:39.23 [info     ] Model parameters are saved to d3rlpy_logs/SAC_online_20220203173127/model_26000.pt\n",
      "2022-02-03 17:39.23 [info     ] SAC_online_20220203173127: epoch=26 step=26000 epoch=26 metrics={'time_inference': 0.0006107728481292724, 'time_environment_step': 0.0007622620718819754, 'time_sample_batch': 0.00033310747146606445, 'time_algorithm_update': 0.005580570220947266, 'temp_loss': -18342.329928710937, 'temp': 3413.1517099609373, 'critic_loss': 1619935373.504, 'actor_loss': 74774.21315234376, 'time_step': 0.007273698568344116, 'rollout_return': 12.88, 'evaluation': 14.5} step=26000\n"
     ]
    },
    {
     "name": "stderr",
     "output_type": "stream",
     "text": [
      " 27%|██▋       | 26995/100000 [08:03<09:00, 135.04it/s]"
     ]
    },
    {
     "name": "stdout",
     "output_type": "stream",
     "text": [
      "2022-02-03 17:39.30 [info     ] Model parameters are saved to d3rlpy_logs/SAC_online_20220203173127/model_27000.pt\n",
      "2022-02-03 17:39.30 [info     ] SAC_online_20220203173127: epoch=27 step=27000 epoch=27 metrics={'time_inference': 0.000618915319442749, 'time_environment_step': 0.0007682882036481584, 'time_sample_batch': 0.00033670806884765627, 'time_algorithm_update': 0.0056339740753173825, 'temp_loss': -27050.02952734375, 'temp': 4978.316920654297, 'critic_loss': 3409413542.528, 'actor_loss': 107044.4367578125, 'time_step': 0.007345349550247193, 'rollout_return': 13.072, 'evaluation': 10.9} step=27000\n"
     ]
    },
    {
     "name": "stderr",
     "output_type": "stream",
     "text": [
      " 28%|██▊       | 27991/100000 [08:10<08:09, 147.22it/s]"
     ]
    },
    {
     "name": "stdout",
     "output_type": "stream",
     "text": [
      "2022-02-03 17:39.37 [info     ] Model parameters are saved to d3rlpy_logs/SAC_online_20220203173127/model_28000.pt\n",
      "2022-02-03 17:39.38 [info     ] SAC_online_20220203173127: epoch=28 step=28000 epoch=28 metrics={'time_inference': 0.0005909900665283203, 'time_environment_step': 0.0007353003365652902, 'time_sample_batch': 0.00032048416137695314, 'time_algorithm_update': 0.005433887481689453, 'temp_loss': -40638.38795703125, 'temp': 7403.872645507812, 'critic_loss': 7620089896.448, 'actor_loss': 160258.820390625, 'time_step': 0.007064342021942139, 'rollout_return': 12.752, 'evaluation': 12.0} step=28000\n"
     ]
    },
    {
     "name": "stderr",
     "output_type": "stream",
     "text": [
      " 29%|██▉       | 28985/100000 [08:17<08:27, 139.94it/s]"
     ]
    },
    {
     "name": "stdout",
     "output_type": "stream",
     "text": [
      "2022-02-03 17:39.45 [info     ] Model parameters are saved to d3rlpy_logs/SAC_online_20220203173127/model_29000.pt\n",
      "2022-02-03 17:39.45 [info     ] SAC_online_20220203173127: epoch=29 step=29000 epoch=29 metrics={'time_inference': 0.0006019198894500733, 'time_environment_step': 0.0007503444126674107, 'time_sample_batch': 0.00032943582534790037, 'time_algorithm_update': 0.005633389472961426, 'temp_loss': -57215.62797265625, 'temp': 10954.987373046875, 'critic_loss': 15739054893.056, 'actor_loss': 230609.5449375, 'time_step': 0.0072998332977294925, 'rollout_return': 13.568, 'evaluation': 13.9} step=29000\n"
     ]
    },
    {
     "name": "stderr",
     "output_type": "stream",
     "text": [
      " 30%|██▉       | 29991/100000 [08:25<07:58, 146.26it/s]"
     ]
    },
    {
     "name": "stdout",
     "output_type": "stream",
     "text": [
      "2022-02-03 17:39.52 [info     ] Model parameters are saved to d3rlpy_logs/SAC_online_20220203173127/model_30000.pt\n",
      "2022-02-03 17:39.52 [info     ] SAC_online_20220203173127: epoch=30 step=30000 epoch=30 metrics={'time_inference': 0.0005976574420928955, 'time_environment_step': 0.000751199449811663, 'time_sample_batch': 0.00032900238037109373, 'time_algorithm_update': 0.005413386821746826, 'temp_loss': -89678.673921875, 'temp': 16261.302879882813, 'critic_loss': 36961144329.216, 'actor_loss': 342166.098484375, 'time_step': 0.007076236486434936, 'rollout_return': 13.832, 'evaluation': 17.8} step=30000\n"
     ]
    },
    {
     "name": "stderr",
     "output_type": "stream",
     "text": [
      " 31%|███       | 30996/100000 [08:32<07:57, 144.43it/s]"
     ]
    },
    {
     "name": "stdout",
     "output_type": "stream",
     "text": [
      "2022-02-03 17:40.00 [info     ] Model parameters are saved to d3rlpy_logs/SAC_online_20220203173127/model_31000.pt\n",
      "2022-02-03 17:40.00 [info     ] SAC_online_20220203173127: epoch=31 step=31000 epoch=31 metrics={'time_inference': 0.000601945161819458, 'time_environment_step': 0.0007507514953613282, 'time_sample_batch': 0.0003315448760986328, 'time_algorithm_update': 0.005518296241760254, 'temp_loss': -130313.929171875, 'temp': 24217.09709375, 'critic_loss': 78208697532.416, 'actor_loss': 492993.6421875, 'time_step': 0.007185276508331299, 'rollout_return': 13.576, 'evaluation': 14.5} step=31000\n"
     ]
    },
    {
     "name": "stderr",
     "output_type": "stream",
     "text": [
      " 32%|███▏      | 31990/100000 [08:39<07:59, 141.90it/s]"
     ]
    },
    {
     "name": "stdout",
     "output_type": "stream",
     "text": [
      "2022-02-03 17:40.07 [info     ] Model parameters are saved to d3rlpy_logs/SAC_online_20220203173127/model_32000.pt\n",
      "2022-02-03 17:40.07 [info     ] SAC_online_20220203173127: epoch=32 step=32000 epoch=32 metrics={'time_inference': 0.0005950138568878174, 'time_environment_step': 0.0007490942818777902, 'time_sample_batch': 0.00032892918586730955, 'time_algorithm_update': 0.005453721761703491, 'temp_loss': -241632.414546875, 'temp': 36889.31733007813, 'critic_loss': 213740768059.392, 'actor_loss': 784707.097, 'time_step': 0.007112333774566651, 'rollout_return': 14.064, 'evaluation': 14.6} step=32000\n"
     ]
    },
    {
     "name": "stderr",
     "output_type": "stream",
     "text": [
      " 33%|███▎      | 32994/100000 [08:47<07:49, 142.80it/s]"
     ]
    },
    {
     "name": "stdout",
     "output_type": "stream",
     "text": [
      "2022-02-03 17:40.14 [info     ] Model parameters are saved to d3rlpy_logs/SAC_online_20220203173127/model_33000.pt\n",
      "2022-02-03 17:40.14 [info     ] SAC_online_20220203173127: epoch=33 step=33000 epoch=33 metrics={'time_inference': 0.0005885317325592042, 'time_environment_step': 0.0007394787924630301, 'time_sample_batch': 0.00032357382774353025, 'time_algorithm_update': 0.005388401031494141, 'temp_loss': -310162.148453125, 'temp': 53250.8030703125, 'critic_loss': 421808934617.088, 'actor_loss': 1029839.900625, 'time_step': 0.0070247633457183834, 'rollout_return': 13.176, 'evaluation': 0.0} step=33000\n"
     ]
    },
    {
     "name": "stderr",
     "output_type": "stream",
     "text": [
      " 34%|███▍      | 33986/100000 [08:54<08:38, 127.27it/s]"
     ]
    },
    {
     "name": "stdout",
     "output_type": "stream",
     "text": [
      "2022-02-03 17:40.21 [info     ] Model parameters are saved to d3rlpy_logs/SAC_online_20220203173127/model_34000.pt\n",
      "2022-02-03 17:40.22 [info     ] SAC_online_20220203173127: epoch=34 step=34000 epoch=34 metrics={'time_inference': 0.0006005616188049317, 'time_environment_step': 0.0007537397657121931, 'time_sample_batch': 0.00033056879043579104, 'time_algorithm_update': 0.005502848386764526, 'temp_loss': -573784.74234375, 'temp': 81474.40747265625, 'critic_loss': 1154219977670.656, 'actor_loss': 1614840.290125, 'time_step': 0.0071726031303405765, 'rollout_return': 14.448, 'evaluation': 14.8} step=34000\n"
     ]
    },
    {
     "name": "stderr",
     "output_type": "stream",
     "text": [
      " 35%|███▍      | 34992/100000 [09:05<12:31, 86.55it/s] "
     ]
    },
    {
     "name": "stdout",
     "output_type": "stream",
     "text": [
      "2022-02-03 17:40.32 [info     ] Model parameters are saved to d3rlpy_logs/SAC_online_20220203173127/model_35000.pt\n",
      "2022-02-03 17:40.33 [info     ] SAC_online_20220203173127: epoch=35 step=35000 epoch=35 metrics={'time_inference': 0.0007853107452392578, 'time_environment_step': 0.0010071204049246652, 'time_sample_batch': 0.0004257006645202637, 'time_algorithm_update': 0.008088925838470458, 'temp_loss': -634634.42565625, 'temp': 114273.4752578125, 'critic_loss': 2013106748260.352, 'actor_loss': 1932002.110875, 'time_step': 0.010300397634506226, 'rollout_return': 13.64, 'evaluation': 14.1} step=35000\n"
     ]
    },
    {
     "name": "stderr",
     "output_type": "stream",
     "text": [
      " 36%|███▌      | 35998/100000 [09:18<12:05, 88.26it/s] "
     ]
    },
    {
     "name": "stdout",
     "output_type": "stream",
     "text": [
      "2022-02-03 17:40.46 [info     ] Model parameters are saved to d3rlpy_logs/SAC_online_20220203173127/model_36000.pt\n",
      "2022-02-03 17:40.46 [info     ] SAC_online_20220203173127: epoch=36 step=36000 epoch=36 metrics={'time_inference': 0.0008427937030792236, 'time_environment_step': 0.0010543090275355748, 'time_sample_batch': 0.0004533364772796631, 'time_algorithm_update': 0.009993670225143433, 'temp_loss': -936414.339625, 'temp': 166276.196328125, 'critic_loss': 4520863065702.4, 'actor_loss': 2615181.8745, 'time_step': 0.012337673902511597, 'rollout_return': 13.92, 'evaluation': 0.0} step=36000\n"
     ]
    },
    {
     "name": "stderr",
     "output_type": "stream",
     "text": [
      " 37%|███▋      | 36994/100000 [09:29<10:11, 102.96it/s]"
     ]
    },
    {
     "name": "stdout",
     "output_type": "stream",
     "text": [
      "2022-02-03 17:40.57 [info     ] Model parameters are saved to d3rlpy_logs/SAC_online_20220203173127/model_37000.pt\n",
      "2022-02-03 17:40.57 [info     ] SAC_online_20220203173127: epoch=37 step=37000 epoch=37 metrics={'time_inference': 0.0008207113742828369, 'time_environment_step': 0.0010444344111851284, 'time_sample_batch': 0.00044239544868469237, 'time_algorithm_update': 0.008199984550476075, 'temp_loss': -2041041.6719375, 'temp': 254406.861265625, 'critic_loss': 14697166590181.377, 'actor_loss': 4294186.5415, 'time_step': 0.010494710206985473, 'rollout_return': 13.288, 'evaluation': 16.8} step=37000\n"
     ]
    },
    {
     "name": "stderr",
     "output_type": "stream",
     "text": [
      " 38%|███▊      | 37998/100000 [09:40<11:40, 88.50it/s] "
     ]
    },
    {
     "name": "stdout",
     "output_type": "stream",
     "text": [
      "2022-02-03 17:41.07 [info     ] Model parameters are saved to d3rlpy_logs/SAC_online_20220203173127/model_38000.pt\n",
      "2022-02-03 17:41.07 [info     ] SAC_online_20220203173127: epoch=38 step=38000 epoch=38 metrics={'time_inference': 0.0007957158088684082, 'time_environment_step': 0.0010463954380580357, 'time_sample_batch': 0.000441126823425293, 'time_algorithm_update': 0.007348997354507446, 'temp_loss': -2058021.513375, 'temp': 371451.45028125, 'critic_loss': 24673798231949.312, 'actor_loss': 4882170.546, 'time_step': 0.009616750717163086, 'rollout_return': 13.04, 'evaluation': 13.9} step=38000\n"
     ]
    },
    {
     "name": "stderr",
     "output_type": "stream",
     "text": [
      " 39%|███▉      | 38998/100000 [09:51<11:21, 89.49it/s] "
     ]
    },
    {
     "name": "stdout",
     "output_type": "stream",
     "text": [
      "2022-02-03 17:41.18 [info     ] Model parameters are saved to d3rlpy_logs/SAC_online_20220203173127/model_39000.pt\n",
      "2022-02-03 17:41.18 [info     ] SAC_online_20220203173127: epoch=39 step=39000 epoch=39 metrics={'time_inference': 0.0008410463333129882, 'time_environment_step': 0.0010956753322056362, 'time_sample_batch': 0.00046126317977905276, 'time_algorithm_update': 0.008390380382537841, 'temp_loss': -2881071.78125, 'temp': 524923.25125, 'critic_loss': 49553827428302.85, 'actor_loss': 6349812.8335, 'time_step': 0.010773983240127563, 'rollout_return': 12.976, 'evaluation': 15.3} step=39000\n"
     ]
    },
    {
     "name": "stderr",
     "output_type": "stream",
     "text": [
      " 40%|███▉      | 39995/100000 [10:01<09:16, 107.88it/s]"
     ]
    },
    {
     "name": "stdout",
     "output_type": "stream",
     "text": [
      "2022-02-03 17:41.29 [info     ] Model parameters are saved to d3rlpy_logs/SAC_online_20220203173127/model_40000.pt\n",
      "2022-02-03 17:41.29 [info     ] SAC_online_20220203173127: epoch=40 step=40000 epoch=40 metrics={'time_inference': 0.0008152365684509277, 'time_environment_step': 0.0010612286158970423, 'time_sample_batch': 0.00045200490951538086, 'time_algorithm_update': 0.007575210094451904, 'temp_loss': -4853024.3105, 'temp': 771157.801625, 'critic_loss': 121877215418777.6, 'actor_loss': 9183068.882, 'time_step': 0.009891478538513184, 'rollout_return': 13.248, 'evaluation': 14.6} step=40000\n"
     ]
    },
    {
     "name": "stderr",
     "output_type": "stream",
     "text": [
      " 41%|████      | 40994/100000 [10:11<10:02, 97.93it/s] "
     ]
    },
    {
     "name": "stdout",
     "output_type": "stream",
     "text": [
      "2022-02-03 17:41.39 [info     ] Model parameters are saved to d3rlpy_logs/SAC_online_20220203173127/model_41000.pt\n",
      "2022-02-03 17:41.39 [info     ] SAC_online_20220203173127: epoch=41 step=41000 epoch=41 metrics={'time_inference': 0.0007872860431671143, 'time_environment_step': 0.0010079492841448103, 'time_sample_batch': 0.00043714523315429687, 'time_algorithm_update': 0.007365906715393066, 'temp_loss': -7385793.317, 'temp': 1177794.355625, 'critic_loss': 277901137812652.03, 'actor_loss': 12916231.81, 'time_step': 0.009588848114013672, 'rollout_return': 13.264, 'evaluation': 16.9} step=41000\n"
     ]
    },
    {
     "name": "stderr",
     "output_type": "stream",
     "text": [
      " 42%|████▏     | 41999/100000 [10:22<10:38, 90.85it/s] "
     ]
    },
    {
     "name": "stdout",
     "output_type": "stream",
     "text": [
      "2022-02-03 17:41.49 [info     ] Model parameters are saved to d3rlpy_logs/SAC_online_20220203173127/model_42000.pt\n",
      "2022-02-03 17:41.49 [info     ] SAC_online_20220203173127: epoch=42 step=42000 epoch=42 metrics={'time_inference': 0.0008218934535980225, 'time_environment_step': 0.0010301129477364676, 'time_sample_batch': 0.0004568142890930176, 'time_algorithm_update': 0.007530573606491089, 'temp_loss': -9285829.115, 'temp': 1666888.362375, 'critic_loss': 533817539906502.6, 'actor_loss': 16007154.513, 'time_step': 0.009832405567169189, 'rollout_return': 13.584, 'evaluation': 13.9} step=42000\n"
     ]
    },
    {
     "name": "stderr",
     "output_type": "stream",
     "text": [
      " 43%|████▎     | 42992/100000 [10:32<08:43, 108.85it/s]"
     ]
    },
    {
     "name": "stdout",
     "output_type": "stream",
     "text": [
      "2022-02-03 17:41.59 [info     ] Model parameters are saved to d3rlpy_logs/SAC_online_20220203173127/model_43000.pt\n",
      "2022-02-03 17:41.59 [info     ] SAC_online_20220203173127: epoch=43 step=43000 epoch=43 metrics={'time_inference': 0.0007739131450653076, 'time_environment_step': 0.001013481412615095, 'time_sample_batch': 0.0004340009689331055, 'time_algorithm_update': 0.007031010866165161, 'temp_loss': -13433977.3815, 'temp': 2440615.19175, 'critic_loss': 1129675813482922.0, 'actor_loss': 21764680.412, 'time_step': 0.009240173816680908, 'rollout_return': 13.416, 'evaluation': 15.1} step=43000\n"
     ]
    },
    {
     "name": "stderr",
     "output_type": "stream",
     "text": [
      " 44%|████▍     | 43991/100000 [10:42<09:19, 100.09it/s]"
     ]
    },
    {
     "name": "stdout",
     "output_type": "stream",
     "text": [
      "2022-02-03 17:42.09 [info     ] Model parameters are saved to d3rlpy_logs/SAC_online_20220203173127/model_44000.pt\n",
      "2022-02-03 17:42.09 [info     ] SAC_online_20220203173127: epoch=44 step=44000 epoch=44 metrics={'time_inference': 0.0008000538349151611, 'time_environment_step': 0.0010398660387311662, 'time_sample_batch': 0.00043668961524963377, 'time_algorithm_update': 0.0074108302593231205, 'temp_loss': -19840319.811, 'temp': 3605133.28325, 'critic_loss': 2453728632711938.0, 'actor_loss': 30190254.772, 'time_step': 0.009673341512680053, 'rollout_return': 13.288, 'evaluation': 15.9} step=44000\n"
     ]
    },
    {
     "name": "stderr",
     "output_type": "stream",
     "text": [
      " 45%|████▍     | 44994/100000 [10:53<10:46, 85.10it/s] "
     ]
    },
    {
     "name": "stdout",
     "output_type": "stream",
     "text": [
      "2022-02-03 17:42.21 [info     ] Model parameters are saved to d3rlpy_logs/SAC_online_20220203173127/model_45000.pt\n",
      "2022-02-03 17:42.21 [info     ] SAC_online_20220203173127: epoch=45 step=45000 epoch=45 metrics={'time_inference': 0.0008463821411132812, 'time_environment_step': 0.0010568433489118304, 'time_sample_batch': 0.0004560720920562744, 'time_algorithm_update': 0.008171051263809204, 'temp_loss': -30346574.726, 'temp': 5380429.675, 'critic_loss': 5526930165281587.0, 'actor_loss': 43225748.368, 'time_step': 0.010520882368087769, 'rollout_return': 13.424, 'evaluation': 14.0} step=45000\n"
     ]
    },
    {
     "name": "stderr",
     "output_type": "stream",
     "text": [
      " 46%|████▌     | 45991/100000 [11:04<08:13, 109.37it/s]"
     ]
    },
    {
     "name": "stdout",
     "output_type": "stream",
     "text": [
      "2022-02-03 17:42.31 [info     ] Model parameters are saved to d3rlpy_logs/SAC_online_20220203173127/model_46000.pt\n",
      "2022-02-03 17:42.31 [info     ] SAC_online_20220203173127: epoch=46 step=46000 epoch=46 metrics={'time_inference': 0.0008267650604248047, 'time_environment_step': 0.0010650582994733537, 'time_sample_batch': 0.00045494794845581056, 'time_algorithm_update': 0.00772929334640503, 'temp_loss': -43466430.44, 'temp': 7933732.1125, 'critic_loss': 1.1902042340782506e+16, 'actor_loss': 60399795.372, 'time_step': 0.010066282033920288, 'rollout_return': 14.016, 'evaluation': 16.2} step=46000\n"
     ]
    },
    {
     "name": "stderr",
     "output_type": "stream",
     "text": [
      " 47%|████▋     | 46993/100000 [11:14<09:10, 96.26it/s] "
     ]
    },
    {
     "name": "stdout",
     "output_type": "stream",
     "text": [
      "2022-02-03 17:42.42 [info     ] Model parameters are saved to d3rlpy_logs/SAC_online_20220203173127/model_47000.pt\n",
      "2022-02-03 17:42.42 [info     ] SAC_online_20220203173127: epoch=47 step=47000 epoch=47 metrics={'time_inference': 0.0008370378017425538, 'time_environment_step': 0.001075972148350307, 'time_sample_batch': 0.000460040807723999, 'time_algorithm_update': 0.007762774705886841, 'temp_loss': -95072261.836, 'temp': 12251454.772, 'critic_loss': 3.715039222504096e+16, 'actor_loss': 117337541.256, 'time_step': 0.010122481346130372, 'rollout_return': 13.176, 'evaluation': 12.7} step=47000\n"
     ]
    },
    {
     "name": "stderr",
     "output_type": "stream",
     "text": [
      " 48%|████▊     | 47998/100000 [11:25<08:05, 107.05it/s]"
     ]
    },
    {
     "name": "stdout",
     "output_type": "stream",
     "text": [
      "2022-02-03 17:42.52 [info     ] Model parameters are saved to d3rlpy_logs/SAC_online_20220203173127/model_48000.pt\n",
      "2022-02-03 17:42.52 [info     ] SAC_online_20220203173127: epoch=48 step=48000 epoch=48 metrics={'time_inference': 0.0008202190399169922, 'time_environment_step': 0.001053459712437221, 'time_sample_batch': 0.00044682979583740237, 'time_algorithm_update': 0.0075018775463104245, 'temp_loss': -130546586.008, 'temp': 18271332.92, 'critic_loss': 7.63084967797997e+16, 'actor_loss': 159997520.88, 'time_step': 0.0098115394115448, 'rollout_return': 13.76, 'evaluation': 15.0} step=48000\n"
     ]
    },
    {
     "name": "stderr",
     "output_type": "stream",
     "text": [
      " 49%|████▉     | 48994/100000 [11:36<08:14, 103.09it/s]"
     ]
    },
    {
     "name": "stdout",
     "output_type": "stream",
     "text": [
      "2022-02-03 17:43.03 [info     ] Model parameters are saved to d3rlpy_logs/SAC_online_20220203173127/model_49000.pt\n",
      "2022-02-03 17:43.03 [info     ] SAC_online_20220203173127: epoch=49 step=49000 epoch=49 metrics={'time_inference': 0.0008260321617126465, 'time_environment_step': 0.0010477722712925503, 'time_sample_batch': 0.00045233440399169923, 'time_algorithm_update': 0.007987720489501953, 'temp_loss': -174280830.52, 'temp': 25889159.788, 'critic_loss': 1.4956882879974474e+17, 'actor_loss': 211601675.04, 'time_step': 0.010301279067993165, 'rollout_return': 13.568, 'evaluation': 14.1} step=49000\n"
     ]
    },
    {
     "name": "stderr",
     "output_type": "stream",
     "text": [
      " 50%|████▉     | 49998/100000 [11:47<09:32, 87.31it/s] "
     ]
    },
    {
     "name": "stdout",
     "output_type": "stream",
     "text": [
      "2022-02-03 17:43.14 [info     ] Model parameters are saved to d3rlpy_logs/SAC_online_20220203173127/model_50000.pt\n",
      "2022-02-03 17:43.14 [info     ] SAC_online_20220203173127: epoch=50 step=50000 epoch=50 metrics={'time_inference': 0.0008532538414001465, 'time_environment_step': 0.0011042322431291853, 'time_sample_batch': 0.0004629223346710205, 'time_algorithm_update': 0.00839946150779724, 'temp_loss': -217027196.136, 'temp': 37206417.614, 'critic_loss': 2.7045680109708115e+17, 'actor_loss': 266709003.12, 'time_step': 0.010803850889205933, 'rollout_return': 13.2, 'evaluation': 16.9} step=50000\n"
     ]
    },
    {
     "name": "stderr",
     "output_type": "stream",
     "text": [
      " 51%|█████     | 50997/100000 [11:58<08:12, 99.44it/s] "
     ]
    },
    {
     "name": "stdout",
     "output_type": "stream",
     "text": [
      "2022-02-03 17:43.25 [info     ] Model parameters are saved to d3rlpy_logs/SAC_online_20220203173127/model_51000.pt\n",
      "2022-02-03 17:43.25 [info     ] SAC_online_20220203173127: epoch=51 step=51000 epoch=51 metrics={'time_inference': 0.0008387167453765869, 'time_environment_step': 0.0010532030378069197, 'time_sample_batch': 0.0004594714641571045, 'time_algorithm_update': 0.007941247463226319, 'temp_loss': -295221592.912, 'temp': 53439790.776, 'critic_loss': 5.218325054180672e+17, 'actor_loss': 364437184.064, 'time_step': 0.010281215906143188, 'rollout_return': 12.448, 'evaluation': 14.7} step=51000\n"
     ]
    },
    {
     "name": "stderr",
     "output_type": "stream",
     "text": [
      " 52%|█████▏    | 51997/100000 [12:11<08:37, 92.77it/s] "
     ]
    },
    {
     "name": "stdout",
     "output_type": "stream",
     "text": [
      "2022-02-03 17:43.38 [info     ] Model parameters are saved to d3rlpy_logs/SAC_online_20220203173127/model_52000.pt\n",
      "2022-02-03 17:43.38 [info     ] SAC_online_20220203173127: epoch=52 step=52000 epoch=52 metrics={'time_inference': 0.000820331335067749, 'time_environment_step': 0.0010522041320800782, 'time_sample_batch': 0.0004601945877075195, 'time_algorithm_update': 0.010149693965911866, 'temp_loss': -452446712.368, 'temp': 77433218.74, 'critic_loss': 1.1789985930549898e+18, 'actor_loss': 545481161.76, 'time_step': 0.012476605892181396, 'rollout_return': 13.496, 'evaluation': 15.4} step=52000\n"
     ]
    },
    {
     "name": "stderr",
     "output_type": "stream",
     "text": [
      " 53%|█████▎    | 52999/100000 [12:23<09:50, 79.59it/s] "
     ]
    },
    {
     "name": "stdout",
     "output_type": "stream",
     "text": [
      "2022-02-03 17:43.50 [info     ] Model parameters are saved to d3rlpy_logs/SAC_online_20220203173127/model_53000.pt\n",
      "2022-02-03 17:43.50 [info     ] SAC_online_20220203173127: epoch=53 step=53000 epoch=53 metrics={'time_inference': 0.0007850098609924317, 'time_environment_step': 0.0010639307839529855, 'time_sample_batch': 0.0004334537982940674, 'time_algorithm_update': 0.009057318687438965, 'temp_loss': -616885931.328, 'temp': 112921111.848, 'critic_loss': 2.3459908225311555e+18, 'actor_loss': 750304108.8, 'time_step': 0.011331728458404541, 'rollout_return': 12.696, 'evaluation': 16.8} step=53000\n"
     ]
    },
    {
     "name": "stderr",
     "output_type": "stream",
     "text": [
      " 54%|█████▍    | 53993/100000 [12:35<07:54, 96.96it/s] "
     ]
    },
    {
     "name": "stdout",
     "output_type": "stream",
     "text": [
      "2022-02-03 17:44.02 [info     ] Model parameters are saved to d3rlpy_logs/SAC_online_20220203173127/model_54000.pt\n",
      "2022-02-03 17:44.02 [info     ] SAC_online_20220203173127: epoch=54 step=54000 epoch=54 metrics={'time_inference': 0.000802807331085205, 'time_environment_step': 0.0010345020294189452, 'time_sample_batch': 0.00042367815971374514, 'time_algorithm_update': 0.009105978488922119, 'temp_loss': -915159556.608, 'temp': 166503439.536, 'critic_loss': 5.183287735552942e+18, 'actor_loss': 1098274318.976, 'time_step': 0.011365274429321288, 'rollout_return': 13.384, 'evaluation': 15.1} step=54000\n"
     ]
    },
    {
     "name": "stderr",
     "output_type": "stream",
     "text": [
      " 55%|█████▍    | 54991/100000 [12:46<09:14, 81.21it/s] "
     ]
    },
    {
     "name": "stdout",
     "output_type": "stream",
     "text": [
      "2022-02-03 17:44.14 [info     ] Model parameters are saved to d3rlpy_logs/SAC_online_20220203173127/model_55000.pt\n",
      "2022-02-03 17:44.14 [info     ] SAC_online_20220203173127: epoch=55 step=55000 epoch=55 metrics={'time_inference': 0.0007631900310516357, 'time_environment_step': 0.0010577831268310546, 'time_sample_batch': 0.00043741822242736816, 'time_algorithm_update': 0.00862153434753418, 'temp_loss': -2346780204.288, 'temp': 258891647.744, 'critic_loss': 1.9294086472183914e+19, 'actor_loss': 2624260139.264, 'time_step': 0.010866200923919678, 'rollout_return': 14.448, 'evaluation': 15.1} step=55000\n"
     ]
    },
    {
     "name": "stderr",
     "output_type": "stream",
     "text": [
      " 56%|█████▌    | 55995/100000 [12:58<07:17, 100.55it/s]"
     ]
    },
    {
     "name": "stdout",
     "output_type": "stream",
     "text": [
      "2022-02-03 17:44.25 [info     ] Model parameters are saved to d3rlpy_logs/SAC_online_20220203173127/model_56000.pt\n",
      "2022-02-03 17:44.25 [info     ] SAC_online_20220203173127: epoch=56 step=56000 epoch=56 metrics={'time_inference': 0.0008379063606262207, 'time_environment_step': 0.001083660670689174, 'time_sample_batch': 0.0004738905429840088, 'time_algorithm_update': 0.008562051057815552, 'temp_loss': -2583330212.48, 'temp': 391049037.664, 'critic_loss': 3.265848888080254e+19, 'actor_loss': 3000831938.944, 'time_step': 0.010950193643569946, 'rollout_return': 13.584, 'evaluation': 14.6} step=56000\n"
     ]
    },
    {
     "name": "stderr",
     "output_type": "stream",
     "text": [
      " 57%|█████▋    | 56993/100000 [13:06<07:41, 93.26it/s] "
     ]
    },
    {
     "name": "stdout",
     "output_type": "stream",
     "text": [
      "2022-02-03 17:44.34 [info     ] Model parameters are saved to d3rlpy_logs/SAC_online_20220203173127/model_57000.pt\n",
      "2022-02-03 17:44.34 [info     ] SAC_online_20220203173127: epoch=57 step=57000 epoch=57 metrics={'time_inference': 0.0006696715354919434, 'time_environment_step': 0.0008498873029436384, 'time_sample_batch': 0.00037313246726989745, 'time_algorithm_update': 0.006400226831436157, 'temp_loss': -4005479752.192, 'temp': 546984732.48, 'critic_loss': 7.003732379510166e+19, 'actor_loss': 4573669066.496, 'time_step': 0.008275376796722413, 'rollout_return': 14.36, 'evaluation': 16.5} step=57000\n"
     ]
    },
    {
     "name": "stderr",
     "output_type": "stream",
     "text": [
      " 58%|█████▊    | 57996/100000 [13:16<07:58, 87.79it/s] "
     ]
    },
    {
     "name": "stdout",
     "output_type": "stream",
     "text": [
      "2022-02-03 17:44.44 [info     ] Model parameters are saved to d3rlpy_logs/SAC_online_20220203173127/model_58000.pt\n",
      "2022-02-03 17:44.44 [info     ] SAC_online_20220203173127: epoch=58 step=58000 epoch=58 metrics={'time_inference': 0.0007288494110107422, 'time_environment_step': 0.0009320395333426339, 'time_sample_batch': 0.00041238975524902346, 'time_algorithm_update': 0.0073276166915893556, 'temp_loss': -4216202755.84, 'temp': 781420363.968, 'critic_loss': 1.1057001273780629e+20, 'actor_loss': 5019058473.984, 'time_step': 0.009378074169158935, 'rollout_return': 13.056, 'evaluation': 13.9} step=58000\n"
     ]
    },
    {
     "name": "stderr",
     "output_type": "stream",
     "text": [
      " 59%|█████▉    | 58993/100000 [13:27<07:08, 95.64it/s] "
     ]
    },
    {
     "name": "stdout",
     "output_type": "stream",
     "text": [
      "2022-02-03 17:44.55 [info     ] Model parameters are saved to d3rlpy_logs/SAC_online_20220203173127/model_59000.pt\n",
      "2022-02-03 17:44.55 [info     ] SAC_online_20220203173127: epoch=59 step=59000 epoch=59 metrics={'time_inference': 0.0007913973331451416, 'time_environment_step': 0.0009325030190604073, 'time_sample_batch': 0.00040660977363586424, 'time_algorithm_update': 0.008442718505859375, 'temp_loss': -5926994952.448, 'temp': 1103039682.496, 'critic_loss': 2.231067763368469e+20, 'actor_loss': 7058392259.328, 'time_step': 0.010555576086044311, 'rollout_return': 12.824, 'evaluation': 13.9} step=59000\n"
     ]
    },
    {
     "name": "stderr",
     "output_type": "stream",
     "text": [
      " 60%|█████▉    | 59990/100000 [13:39<07:27, 89.39it/s] "
     ]
    },
    {
     "name": "stdout",
     "output_type": "stream",
     "text": [
      "2022-02-03 17:45.06 [info     ] Model parameters are saved to d3rlpy_logs/SAC_online_20220203173127/model_60000.pt\n",
      "2022-02-03 17:45.06 [info     ] SAC_online_20220203173127: epoch=60 step=60000 epoch=60 metrics={'time_inference': 0.000740910530090332, 'time_environment_step': 0.0009005701882498605, 'time_sample_batch': 0.0003920044898986816, 'time_algorithm_update': 0.008856142282485963, 'temp_loss': -8829155483.648, 'temp': 1618910566.016, 'critic_loss': 4.921582178317683e+20, 'actor_loss': 10487260761.088, 'time_step': 0.010877056121826172, 'rollout_return': 13.264, 'evaluation': 17.0} step=60000\n"
     ]
    },
    {
     "name": "stderr",
     "output_type": "stream",
     "text": [
      " 61%|██████    | 60991/100000 [13:50<05:30, 117.89it/s]"
     ]
    },
    {
     "name": "stdout",
     "output_type": "stream",
     "text": [
      "2022-02-03 17:45.17 [info     ] Model parameters are saved to d3rlpy_logs/SAC_online_20220203173127/model_61000.pt\n",
      "2022-02-03 17:45.17 [info     ] SAC_online_20220203173127: epoch=61 step=61000 epoch=61 metrics={'time_inference': 0.0006822896003723145, 'time_environment_step': 0.0009326616014753069, 'time_sample_batch': 0.0004152300357818604, 'time_algorithm_update': 0.008157596826553344, 'temp_loss': -14262399422.464, 'temp': 2434710706.944, 'critic_loss': 1.144271681498846e+21, 'actor_loss': 16704234901.504, 'time_step': 0.010166409969329835, 'rollout_return': 13.192, 'evaluation': 14.0} step=61000\n"
     ]
    },
    {
     "name": "stderr",
     "output_type": "stream",
     "text": [
      " 62%|██████▏   | 61993/100000 [14:00<06:10, 102.69it/s]"
     ]
    },
    {
     "name": "stdout",
     "output_type": "stream",
     "text": [
      "2022-02-03 17:45.27 [info     ] Model parameters are saved to d3rlpy_logs/SAC_online_20220203173127/model_62000.pt\n",
      "2022-02-03 17:45.27 [info     ] SAC_online_20220203173127: epoch=62 step=62000 epoch=62 metrics={'time_inference': 0.0007074499130249024, 'time_environment_step': 0.0009405582972935268, 'time_sample_batch': 0.00043926024436950685, 'time_algorithm_update': 0.007559645414352417, 'temp_loss': -29607004226.56, 'temp': 3749509788.928, 'critic_loss': 3.435446093877403e+21, 'actor_loss': 33416875925.504, 'time_step': 0.009624918460845948, 'rollout_return': 14.152, 'evaluation': 11.7} step=62000\n"
     ]
    },
    {
     "name": "stderr",
     "output_type": "stream",
     "text": [
      " 63%|██████▎   | 62996/100000 [14:11<05:22, 114.63it/s]"
     ]
    },
    {
     "name": "stdout",
     "output_type": "stream",
     "text": [
      "2022-02-03 17:45.38 [info     ] Model parameters are saved to d3rlpy_logs/SAC_online_20220203173127/model_63000.pt\n",
      "2022-02-03 17:45.38 [info     ] SAC_online_20220203173127: epoch=63 step=63000 epoch=63 metrics={'time_inference': 0.0007628629207611084, 'time_environment_step': 0.0009814910888671874, 'time_sample_batch': 0.00041542315483093263, 'time_algorithm_update': 0.00811457109451294, 'temp_loss': -29202174206.976, 'temp': 5291471727.616, 'critic_loss': 5.217240914628976e+21, 'actor_loss': 34464992770.048, 'time_step': 0.010262848615646362, 'rollout_return': 13.4, 'evaluation': 12.0} step=63000\n"
     ]
    },
    {
     "name": "stderr",
     "output_type": "stream",
     "text": [
      " 64%|██████▍   | 63989/100000 [14:22<04:39, 128.92it/s]"
     ]
    },
    {
     "name": "stdout",
     "output_type": "stream",
     "text": [
      "2022-02-03 17:45.49 [info     ] Model parameters are saved to d3rlpy_logs/SAC_online_20220203173127/model_64000.pt\n",
      "2022-02-03 17:45.49 [info     ] SAC_online_20220203173127: epoch=64 step=64000 epoch=64 metrics={'time_inference': 0.0007266850471496582, 'time_environment_step': 0.0009024739946637835, 'time_sample_batch': 0.00042092156410217284, 'time_algorithm_update': 0.008616687536239623, 'temp_loss': -40227738890.24, 'temp': 7524428219.904, 'critic_loss': 1.03437087709267e+22, 'actor_loss': 47831065073.664, 'time_step': 0.01064656925201416, 'rollout_return': 13.392, 'evaluation': 16.3} step=64000\n"
     ]
    },
    {
     "name": "stderr",
     "output_type": "stream",
     "text": [
      " 65%|██████▍   | 64995/100000 [14:30<04:13, 138.12it/s]"
     ]
    },
    {
     "name": "stdout",
     "output_type": "stream",
     "text": [
      "2022-02-03 17:45.57 [info     ] Model parameters are saved to d3rlpy_logs/SAC_online_20220203173127/model_65000.pt\n",
      "2022-02-03 17:45.57 [info     ] SAC_online_20220203173127: epoch=65 step=65000 epoch=65 metrics={'time_inference': 0.0006265878677368164, 'time_environment_step': 0.000801955086844308, 'time_sample_batch': 0.00034880328178405764, 'time_algorithm_update': 0.005733432054519654, 'temp_loss': -59306143862.784, 'temp': 11037953128.448, 'critic_loss': 2.2280444783471935e+22, 'actor_loss': 70079882551.296, 'time_step': 0.007495432615280151, 'rollout_return': 13.44, 'evaluation': 15.9} step=65000\n"
     ]
    },
    {
     "name": "stderr",
     "output_type": "stream",
     "text": [
      " 66%|██████▌   | 65993/100000 [14:37<03:58, 142.45it/s]"
     ]
    },
    {
     "name": "stdout",
     "output_type": "stream",
     "text": [
      "2022-02-03 17:46.04 [info     ] Model parameters are saved to d3rlpy_logs/SAC_online_20220203173127/model_66000.pt\n",
      "2022-02-03 17:46.04 [info     ] SAC_online_20220203173127: epoch=66 step=66000 epoch=66 metrics={'time_inference': 0.0005783271789550781, 'time_environment_step': 0.0007364883422851563, 'time_sample_batch': 0.0003263256549835205, 'time_algorithm_update': 0.005383352994918824, 'temp_loss': -85614904131.584, 'temp': 16301469132.8, 'critic_loss': 4.763503586394786e+22, 'actor_loss': 102151608324.096, 'time_step': 0.007006786823272705, 'rollout_return': 13.392, 'evaluation': 14.5} step=66000\n"
     ]
    },
    {
     "name": "stderr",
     "output_type": "stream",
     "text": [
      " 67%|██████▋   | 66986/100000 [14:44<03:45, 146.53it/s]"
     ]
    },
    {
     "name": "stdout",
     "output_type": "stream",
     "text": [
      "2022-02-03 17:46.11 [info     ] Model parameters are saved to d3rlpy_logs/SAC_online_20220203173127/model_67000.pt\n",
      "2022-02-03 17:46.11 [info     ] SAC_online_20220203173127: epoch=67 step=67000 epoch=67 metrics={'time_inference': 0.0005704360008239746, 'time_environment_step': 0.0007278485979352678, 'time_sample_batch': 0.0003201858997344971, 'time_algorithm_update': 0.005288992881774902, 'temp_loss': -176485146361.856, 'temp': 24904883476.48, 'critic_loss': 1.4358689495637385e+23, 'actor_loss': 201868553084.928, 'time_step': 0.0068900325298309325, 'rollout_return': 13.648, 'evaluation': 15.2} step=67000\n"
     ]
    },
    {
     "name": "stderr",
     "output_type": "stream",
     "text": [
      " 68%|██████▊   | 67989/100000 [14:51<03:40, 144.96it/s]"
     ]
    },
    {
     "name": "stdout",
     "output_type": "stream",
     "text": [
      "2022-02-03 17:46.18 [info     ] Model parameters are saved to d3rlpy_logs/SAC_online_20220203173127/model_68000.pt\n",
      "2022-02-03 17:46.18 [info     ] SAC_online_20220203173127: epoch=68 step=68000 epoch=68 metrics={'time_inference': 0.0005738766193389892, 'time_environment_step': 0.0007318861825125558, 'time_sample_batch': 0.00032253527641296385, 'time_algorithm_update': 0.005293655872344971, 'temp_loss': -202964424704.0, 'temp': 36568437620.736, 'critic_loss': 2.4788622639394326e+23, 'actor_loss': 239192935432.192, 'time_step': 0.006904508113861084, 'rollout_return': 13.728, 'evaluation': 15.6} step=68000\n"
     ]
    },
    {
     "name": "stderr",
     "output_type": "stream",
     "text": [
      " 69%|██████▉   | 68987/100000 [14:58<04:07, 125.09it/s]"
     ]
    },
    {
     "name": "stdout",
     "output_type": "stream",
     "text": [
      "2022-02-03 17:46.25 [info     ] Model parameters are saved to d3rlpy_logs/SAC_online_20220203173127/model_69000.pt\n",
      "2022-02-03 17:46.25 [info     ] SAC_online_20220203173127: epoch=69 step=69000 epoch=69 metrics={'time_inference': 0.0005685765743255615, 'time_environment_step': 0.0007277025495256696, 'time_sample_batch': 0.0003180735111236572, 'time_algorithm_update': 0.0052751595973968505, 'temp_loss': -302760987303.936, 'temp': 52281070333.952, 'critic_loss': 5.248298341828472e+23, 'actor_loss': 356284672049.152, 'time_step': 0.006872379541397094, 'rollout_return': 14.264, 'evaluation': 14.6} step=69000\n"
     ]
    },
    {
     "name": "stderr",
     "output_type": "stream",
     "text": [
      " 70%|██████▉   | 69987/100000 [15:05<03:20, 149.90it/s]"
     ]
    },
    {
     "name": "stdout",
     "output_type": "stream",
     "text": [
      "2022-02-03 17:46.32 [info     ] Model parameters are saved to d3rlpy_logs/SAC_online_20220203173127/model_70000.pt\n",
      "2022-02-03 17:46.32 [info     ] SAC_online_20220203173127: epoch=70 step=70000 epoch=70 metrics={'time_inference': 0.000560619592666626, 'time_environment_step': 0.0007184668949672154, 'time_sample_batch': 0.0003144586086273193, 'time_algorithm_update': 0.005202394723892212, 'temp_loss': -589893596217.344, 'temp': 78520424259.584, 'critic_loss': 1.4752154107351312e+24, 'actor_loss': 667240348106.752, 'time_step': 0.006778994083404541, 'rollout_return': 14.16, 'evaluation': 14.2} step=70000\n"
     ]
    },
    {
     "name": "stderr",
     "output_type": "stream",
     "text": [
      " 71%|███████   | 70997/100000 [15:12<03:35, 134.49it/s]"
     ]
    },
    {
     "name": "stdout",
     "output_type": "stream",
     "text": [
      "2022-02-03 17:46.40 [info     ] Model parameters are saved to d3rlpy_logs/SAC_online_20220203173127/model_71000.pt\n",
      "2022-02-03 17:46.40 [info     ] SAC_online_20220203173127: epoch=71 step=71000 epoch=71 metrics={'time_inference': 0.000582709550857544, 'time_environment_step': 0.0007395079476492745, 'time_sample_batch': 0.00032643604278564454, 'time_algorithm_update': 0.005415001153945923, 'temp_loss': -712826319355.904, 'temp': 116025530851.328, 'critic_loss': 2.65196258118865e+24, 'actor_loss': 831610396770.304, 'time_step': 0.007046128273010254, 'rollout_return': 14.208, 'evaluation': 14.5} step=71000\n"
     ]
    },
    {
     "name": "stderr",
     "output_type": "stream",
     "text": [
      " 72%|███████▏  | 71993/100000 [15:19<03:07, 149.29it/s]"
     ]
    },
    {
     "name": "stdout",
     "output_type": "stream",
     "text": [
      "2022-02-03 17:46.47 [info     ] Model parameters are saved to d3rlpy_logs/SAC_online_20220203173127/model_72000.pt\n",
      "2022-02-03 17:46.47 [info     ] SAC_online_20220203173127: epoch=72 step=72000 epoch=72 metrics={'time_inference': 0.000566274881362915, 'time_environment_step': 0.0007227475302559989, 'time_sample_batch': 0.0003169677257537842, 'time_algorithm_update': 0.005254543066024781, 'temp_loss': -814156226297.856, 'temp': 159922667896.832, 'critic_loss': 4.4185888567536053e+24, 'actor_loss': 976648140029.952, 'time_step': 0.006843261003494263, 'rollout_return': 13.352, 'evaluation': 16.7} step=72000\n"
     ]
    },
    {
     "name": "stderr",
     "output_type": "stream",
     "text": [
      " 73%|███████▎  | 72996/100000 [15:26<03:03, 147.31it/s]"
     ]
    },
    {
     "name": "stdout",
     "output_type": "stream",
     "text": [
      "2022-02-03 17:46.54 [info     ] Model parameters are saved to d3rlpy_logs/SAC_online_20220203173127/model_73000.pt\n",
      "2022-02-03 17:46.54 [info     ] SAC_online_20220203173127: epoch=73 step=73000 epoch=73 metrics={'time_inference': 0.0005651657581329345, 'time_environment_step': 0.0007234949384416852, 'time_sample_batch': 0.0003156869411468506, 'time_algorithm_update': 0.005234474182128906, 'temp_loss': -1176708969529.344, 'temp': 229693241573.376, 'critic_loss': 9.177878445747662e+24, 'actor_loss': 1414774880468.992, 'time_step': 0.006821421861648559, 'rollout_return': 14.064, 'evaluation': 14.3} step=73000\n"
     ]
    },
    {
     "name": "stderr",
     "output_type": "stream",
     "text": [
      " 74%|███████▍  | 73995/100000 [15:33<03:02, 142.65it/s]"
     ]
    },
    {
     "name": "stdout",
     "output_type": "stream",
     "text": [
      "2022-02-03 17:47.01 [info     ] Model parameters are saved to d3rlpy_logs/SAC_online_20220203173127/model_74000.pt\n",
      "2022-02-03 17:47.01 [info     ] SAC_online_20220203173127: epoch=74 step=74000 epoch=74 metrics={'time_inference': 0.0005720593929290772, 'time_environment_step': 0.0007300965445382254, 'time_sample_batch': 0.0003203744888305664, 'time_algorithm_update': 0.005325313091278076, 'temp_loss': -1702108347891.712, 'temp': 335848152432.64, 'critic_loss': 1.9282736367053824e+25, 'actor_loss': 2028537697402.88, 'time_step': 0.0069302268028259275, 'rollout_return': 13.144, 'evaluation': 14.8} step=74000\n"
     ]
    },
    {
     "name": "stderr",
     "output_type": "stream",
     "text": [
      " 75%|███████▍  | 74984/100000 [15:40<02:59, 139.17it/s]"
     ]
    },
    {
     "name": "stdout",
     "output_type": "stream",
     "text": [
      "2022-02-03 17:47.08 [info     ] Model parameters are saved to d3rlpy_logs/SAC_online_20220203173127/model_75000.pt\n",
      "2022-02-03 17:47.08 [info     ] SAC_online_20220203173127: epoch=75 step=75000 epoch=75 metrics={'time_inference': 0.0005721790790557861, 'time_environment_step': 0.0007309300558907645, 'time_sample_batch': 0.00031816172599792483, 'time_algorithm_update': 0.005410864114761353, 'temp_loss': -2551474511740.928, 'temp': 497320880832.512, 'critic_loss': 4.300454377836378e+25, 'actor_loss': 3056301976190.976, 'time_step': 0.007014805793762207, 'rollout_return': 13.072, 'evaluation': 15.8} step=75000\n"
     ]
    },
    {
     "name": "stderr",
     "output_type": "stream",
     "text": [
      " 76%|███████▌  | 75998/100000 [15:48<02:47, 143.41it/s]"
     ]
    },
    {
     "name": "stdout",
     "output_type": "stream",
     "text": [
      "2022-02-03 17:47.15 [info     ] Model parameters are saved to d3rlpy_logs/SAC_online_20220203173127/model_76000.pt\n",
      "2022-02-03 17:47.15 [info     ] SAC_online_20220203173127: epoch=76 step=76000 epoch=76 metrics={'time_inference': 0.0005664763450622559, 'time_environment_step': 0.0007264802115304129, 'time_sample_batch': 0.00031816387176513675, 'time_algorithm_update': 0.00526884913444519, 'temp_loss': -4679540756447.232, 'temp': 750727867203.584, 'critic_loss': 1.1631809460489353e+26, 'actor_loss': 5427775716851.712, 'time_step': 0.0068626441955566405, 'rollout_return': 13.48, 'evaluation': 14.2} step=76000\n"
     ]
    },
    {
     "name": "stderr",
     "output_type": "stream",
     "text": [
      " 77%|███████▋  | 76995/100000 [15:55<02:41, 142.45it/s]"
     ]
    },
    {
     "name": "stdout",
     "output_type": "stream",
     "text": [
      "2022-02-03 17:47.22 [info     ] Model parameters are saved to d3rlpy_logs/SAC_online_20220203173127/model_77000.pt\n",
      "2022-02-03 17:47.22 [info     ] SAC_online_20220203173127: epoch=77 step=77000 epoch=77 metrics={'time_inference': 0.000569840669631958, 'time_environment_step': 0.000727093015398298, 'time_sample_batch': 0.0003195974826812744, 'time_algorithm_update': 0.005293386459350586, 'temp_loss': -5785445042749.44, 'temp': 1102762078240.768, 'critic_loss': 2.156460158892791e+26, 'actor_loss': 6863728244686.848, 'time_step': 0.006891947746276855, 'rollout_return': 13.144, 'evaluation': 16.0} step=77000\n"
     ]
    },
    {
     "name": "stderr",
     "output_type": "stream",
     "text": [
      " 78%|███████▊  | 77990/100000 [16:02<02:40, 137.00it/s]"
     ]
    },
    {
     "name": "stdout",
     "output_type": "stream",
     "text": [
      "2022-02-03 17:47.29 [info     ] Model parameters are saved to d3rlpy_logs/SAC_online_20220203173127/model_78000.pt\n",
      "2022-02-03 17:47.29 [info     ] SAC_online_20220203173127: epoch=78 step=78000 epoch=78 metrics={'time_inference': 0.0005704326629638672, 'time_environment_step': 0.0007303515842982701, 'time_sample_batch': 0.0003209507465362549, 'time_algorithm_update': 0.005308279514312744, 'temp_loss': -8454984788082.688, 'temp': 1606884015865.856, 'critic_loss': 4.569640982956285e+26, 'actor_loss': 10066128002875.393, 'time_step': 0.006912242412567138, 'rollout_return': 12.992, 'evaluation': 16.4} step=78000\n"
     ]
    },
    {
     "name": "stderr",
     "output_type": "stream",
     "text": [
      " 79%|███████▉  | 78996/100000 [16:09<02:32, 137.31it/s]"
     ]
    },
    {
     "name": "stdout",
     "output_type": "stream",
     "text": [
      "2022-02-03 17:47.37 [info     ] Model parameters are saved to d3rlpy_logs/SAC_online_20220203173127/model_79000.pt\n",
      "2022-02-03 17:47.37 [info     ] SAC_online_20220203173127: epoch=79 step=79000 epoch=79 metrics={'time_inference': 0.0005913023948669433, 'time_environment_step': 0.0007587906973702567, 'time_sample_batch': 0.00033309435844421385, 'time_algorithm_update': 0.0054880487918853756, 'temp_loss': -11737448010743.809, 'temp': 2337586775982.08, 'critic_loss': 9.291864500238944e+26, 'actor_loss': 14094348981895.168, 'time_step': 0.00715449857711792, 'rollout_return': 13.472, 'evaluation': 14.8} step=79000\n"
     ]
    },
    {
     "name": "stderr",
     "output_type": "stream",
     "text": [
      " 80%|███████▉  | 79985/100000 [16:16<02:23, 139.03it/s]"
     ]
    },
    {
     "name": "stdout",
     "output_type": "stream",
     "text": [
      "2022-02-03 17:47.44 [info     ] Model parameters are saved to d3rlpy_logs/SAC_online_20220203173127/model_80000.pt\n",
      "2022-02-03 17:47.44 [info     ] SAC_online_20220203173127: epoch=80 step=80000 epoch=80 metrics={'time_inference': 0.0005813727378845215, 'time_environment_step': 0.000749246324811663, 'time_sample_batch': 0.00032340383529663085, 'time_algorithm_update': 0.0053772516250610355, 'temp_loss': -18174511707324.414, 'temp': 3457363209879.552, 'critic_loss': 2.1148446505171118e+27, 'actor_loss': 21647031558733.824, 'time_step': 0.007014347076416016, 'rollout_return': 13.384, 'evaluation': 14.1} step=80000\n"
     ]
    },
    {
     "name": "stderr",
     "output_type": "stream",
     "text": [
      " 81%|████████  | 80998/100000 [16:24<02:06, 150.23it/s]"
     ]
    },
    {
     "name": "stdout",
     "output_type": "stream",
     "text": [
      "2022-02-03 17:47.51 [info     ] Model parameters are saved to d3rlpy_logs/SAC_online_20220203173127/model_81000.pt\n",
      "2022-02-03 17:47.51 [info     ] SAC_online_20220203173127: epoch=81 step=81000 epoch=81 metrics={'time_inference': 0.0005839896202087402, 'time_environment_step': 0.000738107681274414, 'time_sample_batch': 0.0003231675624847412, 'time_algorithm_update': 0.005410940408706665, 'temp_loss': -26368886025748.48, 'temp': 5097071559049.216, 'critic_loss': 4.503915058430015e+27, 'actor_loss': 31442826762911.742, 'time_step': 0.00703921914100647, 'rollout_return': 13.912, 'evaluation': 13.6} step=81000\n"
     ]
    },
    {
     "name": "stderr",
     "output_type": "stream",
     "text": [
      " 82%|████████▏ | 81988/100000 [16:31<02:07, 141.21it/s]"
     ]
    },
    {
     "name": "stdout",
     "output_type": "stream",
     "text": [
      "2022-02-03 17:47.58 [info     ] Model parameters are saved to d3rlpy_logs/SAC_online_20220203173127/model_82000.pt\n",
      "2022-02-03 17:47.58 [info     ] SAC_online_20220203173127: epoch=82 step=82000 epoch=82 metrics={'time_inference': 0.00058740234375, 'time_environment_step': 0.0007171088627406529, 'time_sample_batch': 0.00032089972496032715, 'time_algorithm_update': 0.005503881454467774, 'temp_loss': -36204469618212.87, 'temp': 7371733739765.76, 'critic_loss': 9.08714091724597e+27, 'actor_loss': 43657390366654.46, 'time_step': 0.007110008239746094, 'rollout_return': 14.304, 'evaluation': 15.5} step=82000\n"
     ]
    },
    {
     "name": "stderr",
     "output_type": "stream",
     "text": [
      " 83%|████████▎ | 82989/100000 [16:38<01:59, 141.79it/s]"
     ]
    },
    {
     "name": "stdout",
     "output_type": "stream",
     "text": [
      "2022-02-03 17:48.06 [info     ] Model parameters are saved to d3rlpy_logs/SAC_online_20220203173127/model_83000.pt\n",
      "2022-02-03 17:48.06 [info     ] SAC_online_20220203173127: epoch=83 step=83000 epoch=83 metrics={'time_inference': 0.0005852985382080078, 'time_environment_step': 0.0007240973881312779, 'time_sample_batch': 0.0003193392753601074, 'time_algorithm_update': 0.005526771783828735, 'temp_loss': -56496405618884.61, 'temp': 10918521083002.88, 'critic_loss': 2.083369790656087e+28, 'actor_loss': 67022735255011.33, 'time_step': 0.007136618614196778, 'rollout_return': 13.216, 'evaluation': 12.8} step=83000\n"
     ]
    },
    {
     "name": "stderr",
     "output_type": "stream",
     "text": [
      " 84%|████████▍ | 83994/100000 [16:45<01:56, 137.19it/s]"
     ]
    },
    {
     "name": "stdout",
     "output_type": "stream",
     "text": [
      "2022-02-03 17:48.13 [info     ] Model parameters are saved to d3rlpy_logs/SAC_online_20220203173127/model_84000.pt\n",
      "2022-02-03 17:48.13 [info     ] SAC_online_20220203173127: epoch=84 step=84000 epoch=84 metrics={'time_inference': 0.0005911471843719482, 'time_environment_step': 0.0007489752088274275, 'time_sample_batch': 0.0003263542652130127, 'time_algorithm_update': 0.005491572856903076, 'temp_loss': -83826829468631.05, 'temp': 16133432444715.008, 'critic_loss': 4.579892694463669e+28, 'actor_loss': 99951451500969.98, 'time_step': 0.007140851736068725, 'rollout_return': 12.632, 'evaluation': 0.0} step=84000\n"
     ]
    },
    {
     "name": "stderr",
     "output_type": "stream",
     "text": [
      " 85%|████████▍ | 84996/100000 [16:53<01:47, 139.52it/s]"
     ]
    },
    {
     "name": "stdout",
     "output_type": "stream",
     "text": [
      "2022-02-03 17:48.20 [info     ] Model parameters are saved to d3rlpy_logs/SAC_online_20220203173127/model_85000.pt\n",
      "2022-02-03 17:48.20 [info     ] SAC_online_20220203173127: epoch=85 step=85000 epoch=85 metrics={'time_inference': 0.000593155860900879, 'time_environment_step': 0.0007586574554443359, 'time_sample_batch': 0.0003308382034301758, 'time_algorithm_update': 0.005466836214065552, 'temp_loss': -148370174473404.4, 'temp': 24497761143488.51, 'critic_loss': 1.2013003174178878e+29, 'actor_loss': 172842395996520.44, 'time_step': 0.007133388519287109, 'rollout_return': 12.936, 'evaluation': 14.7} step=85000\n"
     ]
    },
    {
     "name": "stderr",
     "output_type": "stream",
     "text": [
      " 86%|████████▌ | 85999/100000 [17:00<01:44, 134.27it/s]"
     ]
    },
    {
     "name": "stdout",
     "output_type": "stream",
     "text": [
      "2022-02-03 17:48.27 [info     ] Model parameters are saved to d3rlpy_logs/SAC_online_20220203173127/model_86000.pt\n",
      "2022-02-03 17:48.28 [info     ] SAC_online_20220203173127: epoch=86 step=86000 epoch=86 metrics={'time_inference': 0.0005840904712677002, 'time_environment_step': 0.0007238270895821708, 'time_sample_batch': 0.0003259165287017822, 'time_algorithm_update': 0.00548940110206604, 'temp_loss': -285573269426274.3, 'temp': 37680803943022.59, 'critic_loss': 3.3492730345331874e+29, 'actor_loss': 322934017475215.4, 'time_step': 0.007104052305221558, 'rollout_return': 13.632, 'evaluation': 15.0} step=86000\n"
     ]
    },
    {
     "name": "stderr",
     "output_type": "stream",
     "text": [
      " 87%|████████▋ | 86989/100000 [17:07<01:32, 140.66it/s]"
     ]
    },
    {
     "name": "stdout",
     "output_type": "stream",
     "text": [
      "2022-02-03 17:48.35 [info     ] Model parameters are saved to d3rlpy_logs/SAC_online_20220203173127/model_87000.pt\n",
      "2022-02-03 17:48.35 [info     ] SAC_online_20220203173127: epoch=87 step=87000 epoch=87 metrics={'time_inference': 0.000578216552734375, 'time_environment_step': 0.0007371632712227957, 'time_sample_batch': 0.00032229018211364744, 'time_algorithm_update': 0.005387855052947998, 'temp_loss': -356292824301305.9, 'temp': 54043988868464.64, 'critic_loss': 6.3054417626998446e+29, 'actor_loss': 409641118876041.2, 'time_step': 0.007008598566055298, 'rollout_return': 14.032, 'evaluation': 13.8} step=87000\n"
     ]
    },
    {
     "name": "stderr",
     "output_type": "stream",
     "text": [
      " 88%|████████▊ | 87986/100000 [17:14<01:25, 139.75it/s]"
     ]
    },
    {
     "name": "stdout",
     "output_type": "stream",
     "text": [
      "2022-02-03 17:48.42 [info     ] Model parameters are saved to d3rlpy_logs/SAC_online_20220203173127/model_88000.pt\n",
      "2022-02-03 17:48.42 [info     ] SAC_online_20220203173127: epoch=88 step=88000 epoch=88 metrics={'time_inference': 0.0005722818374633789, 'time_environment_step': 0.0007303330557686942, 'time_sample_batch': 0.0003187394142150879, 'time_algorithm_update': 0.005358216762542725, 'temp_loss': -479515889503305.75, 'temp': 78134674416730.11, 'critic_loss': 1.2278755263574781e+30, 'actor_loss': 556021534628511.75, 'time_step': 0.006962478160858154, 'rollout_return': 13.608, 'evaluation': 4.6} step=88000\n"
     ]
    },
    {
     "name": "stderr",
     "output_type": "stream",
     "text": [
      " 89%|████████▉ | 88990/100000 [17:22<01:22, 133.02it/s]"
     ]
    },
    {
     "name": "stdout",
     "output_type": "stream",
     "text": [
      "2022-02-03 17:48.49 [info     ] Model parameters are saved to d3rlpy_logs/SAC_online_20220203173127/model_89000.pt\n",
      "2022-02-03 17:48.49 [info     ] SAC_online_20220203173127: epoch=89 step=89000 epoch=89 metrics={'time_inference': 0.0005913839340209961, 'time_environment_step': 0.0007507754734584263, 'time_sample_batch': 0.0003280620574951172, 'time_algorithm_update': 0.005493736267089844, 'temp_loss': -673015394339913.8, 'temp': 111896309576761.34, 'critic_loss': 2.4885575174104285e+30, 'actor_loss': 786937478928924.6, 'time_step': 0.007147151231765747, 'rollout_return': 13.152, 'evaluation': 16.9} step=89000\n"
     ]
    },
    {
     "name": "stderr",
     "output_type": "stream",
     "text": [
      " 90%|████████▉ | 89996/100000 [17:29<01:07, 148.13it/s]"
     ]
    },
    {
     "name": "stdout",
     "output_type": "stream",
     "text": [
      "2022-02-03 17:48.56 [info     ] Model parameters are saved to d3rlpy_logs/SAC_online_20220203173127/model_90000.pt\n",
      "2022-02-03 17:48.56 [info     ] SAC_online_20220203173127: epoch=90 step=90000 epoch=90 metrics={'time_inference': 0.0005512940883636475, 'time_environment_step': 0.0007001280103410993, 'time_sample_batch': 0.00030452775955200194, 'time_algorithm_update': 0.005135787963867188, 'temp_loss': -865275379063980.0, 'temp': 161114728872017.9, 'critic_loss': 4.6781986077459304e+30, 'actor_loss': 1021278888271020.0, 'time_step': 0.0066753048896789555, 'rollout_return': 13.424, 'evaluation': 15.1} step=90000\n"
     ]
    },
    {
     "name": "stderr",
     "output_type": "stream",
     "text": [
      " 91%|█████████ | 90996/100000 [17:36<01:03, 141.35it/s]"
     ]
    },
    {
     "name": "stdout",
     "output_type": "stream",
     "text": [
      "2022-02-03 17:49.03 [info     ] Model parameters are saved to d3rlpy_logs/SAC_online_20220203173127/model_91000.pt\n",
      "2022-02-03 17:49.03 [info     ] SAC_online_20220203173127: epoch=91 step=91000 epoch=91 metrics={'time_inference': 0.0005594906806945801, 'time_environment_step': 0.0007064585004534041, 'time_sample_batch': 0.00030697941780090333, 'time_algorithm_update': 0.005209716796875, 'temp_loss': -2150861490796626.0, 'temp': 247363717937758.22, 'critic_loss': 1.704765345379272e+31, 'actor_loss': 2399824710490652.5, 'time_step': 0.006764811038970947, 'rollout_return': 14.488, 'evaluation': 14.0} step=91000\n"
     ]
    },
    {
     "name": "stderr",
     "output_type": "stream",
     "text": [
      " 92%|█████████▏| 91991/100000 [17:43<00:53, 149.81it/s]"
     ]
    },
    {
     "name": "stdout",
     "output_type": "stream",
     "text": [
      "2022-02-03 17:49.10 [info     ] Model parameters are saved to d3rlpy_logs/SAC_online_20220203173127/model_92000.pt\n",
      "2022-02-03 17:49.10 [info     ] SAC_online_20220203173127: epoch=92 step=92000 epoch=92 metrics={'time_inference': 0.0005604310035705566, 'time_environment_step': 0.0007052331651960101, 'time_sample_batch': 0.0003098733425140381, 'time_algorithm_update': 0.005220693349838257, 'temp_loss': -2856280949472100.5, 'temp': 367117684074086.4, 'critic_loss': 3.4135964885407478e+31, 'actor_loss': 3221850516443103.0, 'time_step': 0.006778583765029907, 'rollout_return': 13.992, 'evaluation': 14.6} step=92000\n"
     ]
    },
    {
     "name": "stderr",
     "output_type": "stream",
     "text": [
      " 93%|█████████▎| 92991/100000 [17:49<00:51, 135.42it/s]"
     ]
    },
    {
     "name": "stdout",
     "output_type": "stream",
     "text": [
      "2022-02-03 17:49.17 [info     ] Model parameters are saved to d3rlpy_logs/SAC_online_20220203173127/model_93000.pt\n",
      "2022-02-03 17:49.17 [info     ] SAC_online_20220203173127: epoch=93 step=93000 epoch=93 metrics={'time_inference': 0.0005502774715423584, 'time_environment_step': 0.0007037596021379743, 'time_sample_batch': 0.00030490446090698244, 'time_algorithm_update': 0.005157312870025635, 'temp_loss': -3159283815105429.5, 'temp': 530794383444803.56, 'critic_loss': 5.486358014113963e+31, 'actor_loss': 3710438071418749.0, 'time_step': 0.0066988270282745364, 'rollout_return': 13.328, 'evaluation': 15.6} step=93000\n"
     ]
    },
    {
     "name": "stderr",
     "output_type": "stream",
     "text": [
      " 94%|█████████▍| 93994/100000 [17:57<00:40, 149.29it/s]"
     ]
    },
    {
     "name": "stdout",
     "output_type": "stream",
     "text": [
      "2022-02-03 17:49.24 [info     ] Model parameters are saved to d3rlpy_logs/SAC_online_20220203173127/model_94000.pt\n",
      "2022-02-03 17:49.24 [info     ] SAC_online_20220203173127: epoch=94 step=94000 epoch=94 metrics={'time_inference': 0.000568779468536377, 'time_environment_step': 0.0007172655378069197, 'time_sample_batch': 0.00031433081626892087, 'time_algorithm_update': 0.005326110601425171, 'temp_loss': -4714133955211690.0, 'temp': 753589786052132.9, 'critic_loss': 1.1406613076288866e+32, 'actor_loss': 5475950851245736.0, 'time_step': 0.006908609867095948, 'rollout_return': 13.536, 'evaluation': 14.8} step=94000\n"
     ]
    },
    {
     "name": "stderr",
     "output_type": "stream",
     "text": [
      " 95%|█████████▍| 94989/100000 [18:03<00:32, 151.87it/s]"
     ]
    },
    {
     "name": "stdout",
     "output_type": "stream",
     "text": [
      "2022-02-03 17:49.31 [info     ] Model parameters are saved to d3rlpy_logs/SAC_online_20220203173127/model_95000.pt\n",
      "2022-02-03 17:49.31 [info     ] SAC_online_20220203173127: epoch=95 step=95000 epoch=95 metrics={'time_inference': 0.0005527892112731933, 'time_environment_step': 0.0006987073080880301, 'time_sample_batch': 0.0003043475151062012, 'time_algorithm_update': 0.005152876138687134, 'temp_loss': -6348648804836704.0, 'temp': 1063159847874199.5, 'critic_loss': 2.24754890840822e+32, 'actor_loss': 7407151172995252.0, 'time_step': 0.006691673994064331, 'rollout_return': 13.512, 'evaluation': 14.6} step=95000\n"
     ]
    },
    {
     "name": "stderr",
     "output_type": "stream",
     "text": [
      " 96%|█████████▌| 95989/100000 [18:10<00:27, 147.33it/s]"
     ]
    },
    {
     "name": "stdout",
     "output_type": "stream",
     "text": [
      "2022-02-03 17:49.38 [info     ] Model parameters are saved to d3rlpy_logs/SAC_online_20220203173127/model_96000.pt\n",
      "2022-02-03 17:49.38 [info     ] SAC_online_20220203173127: epoch=96 step=96000 epoch=96 metrics={'time_inference': 0.0005602738857269287, 'time_environment_step': 0.0007051783970424108, 'time_sample_batch': 0.0003076367378234863, 'time_algorithm_update': 0.005252316236495972, 'temp_loss': -8523432763913667.0, 'temp': 1556452645420400.8, 'critic_loss': 4.414513106647442e+32, 'actor_loss': 1.006508052204172e+16, 'time_step': 0.006808409690856934, 'rollout_return': 13.376, 'evaluation': 15.8} step=96000\n"
     ]
    },
    {
     "name": "stderr",
     "output_type": "stream",
     "text": [
      " 97%|█████████▋| 96998/100000 [18:17<00:19, 153.37it/s]"
     ]
    },
    {
     "name": "stdout",
     "output_type": "stream",
     "text": [
      "2022-02-03 17:49.45 [info     ] Model parameters are saved to d3rlpy_logs/SAC_online_20220203173127/model_97000.pt\n",
      "2022-02-03 17:49.45 [info     ] SAC_online_20220203173127: epoch=97 step=97000 epoch=97 metrics={'time_inference': 0.0005506927967071534, 'time_environment_step': 0.0006930032457624163, 'time_sample_batch': 0.0003023812770843506, 'time_algorithm_update': 0.005130279779434204, 'temp_loss': -1.0946138694972604e+16, 'temp': 2225048579951558.8, 'critic_loss': 8.172081559716988e+32, 'actor_loss': 1.3223454054664896e+16, 'time_step': 0.0066601157188415526, 'rollout_return': 13.264, 'evaluation': 14.5} step=97000\n"
     ]
    },
    {
     "name": "stderr",
     "output_type": "stream",
     "text": [
      " 98%|█████████▊| 97996/100000 [18:24<00:15, 131.29it/s]"
     ]
    },
    {
     "name": "stdout",
     "output_type": "stream",
     "text": [
      "2022-02-03 17:49.52 [info     ] Model parameters are saved to d3rlpy_logs/SAC_online_20220203173127/model_98000.pt\n",
      "2022-02-03 17:49.52 [info     ] SAC_online_20220203173127: epoch=98 step=98000 epoch=98 metrics={'time_inference': 0.0005627851486206055, 'time_environment_step': 0.0007382461002894811, 'time_sample_batch': 0.00031003618240356445, 'time_algorithm_update': 0.005209898471832276, 'temp_loss': -1.595235583936535e+16, 'temp': 3241814919493976.0, 'critic_loss': 1.7248173381004345e+33, 'actor_loss': 1.9177244840622556e+16, 'time_step': 0.006801966667175293, 'rollout_return': 13.024, 'evaluation': 15.2} step=98000\n"
     ]
    },
    {
     "name": "stderr",
     "output_type": "stream",
     "text": [
      " 99%|█████████▉| 98997/100000 [18:31<00:06, 151.90it/s]"
     ]
    },
    {
     "name": "stdout",
     "output_type": "stream",
     "text": [
      "2022-02-03 17:49.59 [info     ] Model parameters are saved to d3rlpy_logs/SAC_online_20220203173127/model_99000.pt\n",
      "2022-02-03 17:49.59 [info     ] SAC_online_20220203173127: epoch=99 step=99000 epoch=99 metrics={'time_inference': 0.0005732197761535644, 'time_environment_step': 0.0007196911403111049, 'time_sample_batch': 0.0003172128200531006, 'time_algorithm_update': 0.005365247964859009, 'temp_loss': -2.2116567160958484e+16, 'temp': 4698710066226790.0, 'critic_loss': 3.578361256239245e+33, 'actor_loss': 2.65889585176479e+16, 'time_step': 0.006957907438278199, 'rollout_return': 13.16, 'evaluation': 13.5} step=99000\n"
     ]
    },
    {
     "name": "stderr",
     "output_type": "stream",
     "text": [
      "100%|█████████▉| 99989/100000 [18:38<00:00, 149.73it/s]"
     ]
    },
    {
     "name": "stdout",
     "output_type": "stream",
     "text": [
      "2022-02-03 17:50.06 [info     ] Model parameters are saved to d3rlpy_logs/SAC_online_20220203173127/model_100000.pt\n",
      "2022-02-03 17:50.06 [info     ] SAC_online_20220203173127: epoch=100 step=100000 epoch=100 metrics={'time_inference': 0.0005670552253723145, 'time_environment_step': 0.0007034222739083426, 'time_sample_batch': 0.0003126835823059082, 'time_algorithm_update': 0.005299561738967896, 'temp_loss': -2.936967929967044e+16, 'temp': 6780323032658346.0, 'critic_loss': 6.947377921645373e+33, 'actor_loss': 3.605924195906618e+16, 'time_step': 0.006864638805389405, 'rollout_return': 13.456, 'evaluation': 16.4} step=100000\n"
     ]
    },
    {
     "name": "stderr",
     "output_type": "stream",
     "text": [
      "100%|██████████| 100000/100000 [18:39<00:00, 89.36it/s]\n"
     ]
    }
   ],
   "source": [
    "# start training\n",
    "# skip if there is a pre-trained model\n",
    "sac.fit_online(\n",
    "    env,\n",
    "    buffer,\n",
    "    eval_env=env,\n",
    "    n_steps=100000,\n",
    "    n_steps_per_epoch=1000,\n",
    ")"
   ]
  },
  {
   "cell_type": "code",
   "execution_count": 33,
   "metadata": {},
   "outputs": [],
   "source": [
    "# save model\n",
    "sac.save_model(\"d3rlpy_logs/sac.pt\")"
   ]
  },
  {
   "cell_type": "code",
   "execution_count": 34,
   "metadata": {},
   "outputs": [
    {
     "name": "stdout",
     "output_type": "stream",
     "text": [
      "2022-02-03 17:50.06 [warning  ] Parameters will be reinitialized.\n"
     ]
    }
   ],
   "source": [
    "# reload model\n",
    "sac.build_with_env(env)\n",
    "sac.load_model(\"d3rlpy_logs/sac.pt\")"
   ]
  },
  {
   "cell_type": "markdown",
   "metadata": {},
   "source": [
    "### 2.1. Gaussian behavior policy\n",
    "\n",
    "Then, we convert a deterministic policy (i.e., greedy action choice of sac policy) into a stochastic policy. \n",
    "\n",
    "As the action space of `RTBEnv` is bounded, we use `ContinuousTruncatedGaussianHead`. \\\n",
    "Given the deterministic action $\\pi(s)$, this behavior policy samples actions from a truncated gaussian distribution as $a \\sim Truncnorm(\\pi(s), \\sigma)$, where $\\sigma$ indicates the noise level. \n",
    "\n",
    "Note that, when action space is not bounded, we can use `ContinuousGaussianHead` in a similar manner."
   ]
  },
  {
   "cell_type": "code",
   "execution_count": 35,
   "metadata": {},
   "outputs": [],
   "source": [
    "# convert base ddqn policy into a stochastic data collection policy\n",
    "from offlinegym.policy import ContinuousTruncatedGaussianHead\n",
    "\n",
    "behavior_policy = ContinuousTruncatedGaussianHead(\n",
    "    sac, \n",
    "    minimum=env.action_space.low,  # lower bound of the action space\n",
    "    maximum=env.action_space.high,  # upper bound of the action space\n",
    "    sigma=np.array([1.0]),  # noise level of a gaussian distribution\n",
    "    name=\"sac_sigma_1.0\",\n",
    "    random_state=random_state,\n",
    ")"
   ]
  },
  {
   "cell_type": "code",
   "execution_count": 36,
   "metadata": {},
   "outputs": [
    {
     "data": {
      "application/vnd.jupyter.widget-view+json": {
       "model_id": "32d149fd2ca94929ab27dfdf8b488c87",
       "version_major": 2,
       "version_minor": 0
      },
      "text/plain": [
       "[obtain_trajectories]:   0%|          | 0/10000 [00:00<?, ?it/s]"
      ]
     },
     "metadata": {},
     "output_type": "display_data"
    }
   ],
   "source": [
    "# collect data\n",
    "dataset = SyntheticDataset(\n",
    "    env=env,\n",
    "    behavior_policy=behavior_policy,\n",
    "    random_state=random_state,\n",
    ")\n",
    "logged_dataset = dataset.obtain_trajectories(n_episodes=10000, obtain_info=True)"
   ]
  },
  {
   "cell_type": "code",
   "execution_count": 37,
   "metadata": {},
   "outputs": [
    {
     "data": {
      "text/plain": [
       "{'size': 70000,\n",
       " 'n_episodes': 10000,\n",
       " 'step_per_episode': 7,\n",
       " 'action_type': 'continuous',\n",
       " 'n_actions': None,\n",
       " 'action_dim': 1,\n",
       " 'action_meaning': None,\n",
       " 'state_dim': 7,\n",
       " 'state_keys': ['timestep',\n",
       "  'remaining_budget',\n",
       "  'budget_consumption_rate',\n",
       "  'cost_per_mille_of_impression',\n",
       "  'winning_rate',\n",
       "  'reward',\n",
       "  'adjust_rate'],\n",
       " 'state': array([[0.00000000e+00, 3.00000000e+03, 9.29616093e-01, ...,\n",
       "         1.83918812e-01, 2.00000000e+00, 1.85899874e-01],\n",
       "        [1.00000000e+00, 1.99800000e+03, 3.34000000e-01, ...,\n",
       "         1.00000000e+00, 6.00000000e+00, 2.11804249e+00],\n",
       "        [2.00000000e+00, 1.99800000e+03, 0.00000000e+00, ...,\n",
       "         0.00000000e+00, 0.00000000e+00, 1.07244087e-01],\n",
       "        ...,\n",
       "        [4.00000000e+00, 1.34100000e+03, 3.03014553e-01, ...,\n",
       "         6.52173913e-01, 2.00000000e+00, 1.11811000e+00],\n",
       "        [5.00000000e+00, 1.37000000e+02, 8.97837435e-01, ...,\n",
       "         1.00000000e+00, 6.00000000e+00, 3.10862631e+00],\n",
       "        [6.00000000e+00, 1.30000000e+01, 9.05109489e-01, ...,\n",
       "         1.01167315e-01, 1.00000000e+00, 7.61226385e-01]]),\n",
       " 'action': array([[2.11804249],\n",
       "        [0.10724409],\n",
       "        [0.86377608],\n",
       "        ...,\n",
       "        [3.10862631],\n",
       "        [0.76122638],\n",
       "        [0.51724467]]),\n",
       " 'reward': array([6., 0., 1., ..., 6., 1., 0.]),\n",
       " 'done': array([0., 0., 0., ..., 0., 0., 1.]),\n",
       " 'terminal': array([0., 0., 0., ..., 0., 0., 1.]),\n",
       " 'info': {'search_volume': array([201., 205., 217., ..., 203., 257., 179.]),\n",
       "  'impression': array([201.,   0.,  90., ..., 203.,  26.,   4.]),\n",
       "  'click': array([21.,  0.,  9., ..., 25.,  4.,  0.]),\n",
       "  'conversion': array([6., 0., 1., ..., 6., 1., 0.]),\n",
       "  'average_bid_price': array([114.960199  ,   5.09756098,  44.70046083, ..., 150.56157635,\n",
       "          35.43579767,  23.48603352])},\n",
       " 'pscore': array([[0.39328367],\n",
       "        [0.79633991],\n",
       "        [0.10953732],\n",
       "        ...,\n",
       "        [0.00893991],\n",
       "        [0.63408376],\n",
       "        [0.66094641]])}"
      ]
     },
     "execution_count": 37,
     "metadata": {},
     "output_type": "execute_result"
    }
   ],
   "source": [
    "logged_dataset"
   ]
  },
  {
   "cell_type": "code",
   "execution_count": 38,
   "metadata": {},
   "outputs": [
    {
     "data": {
      "text/html": [
       "<div>\n",
       "<style scoped>\n",
       "    .dataframe tbody tr th:only-of-type {\n",
       "        vertical-align: middle;\n",
       "    }\n",
       "\n",
       "    .dataframe tbody tr th {\n",
       "        vertical-align: top;\n",
       "    }\n",
       "\n",
       "    .dataframe thead th {\n",
       "        text-align: right;\n",
       "    }\n",
       "</style>\n",
       "<table border=\"1\" class=\"dataframe\">\n",
       "  <thead>\n",
       "    <tr style=\"text-align: right;\">\n",
       "      <th></th>\n",
       "      <th>adjust rate</th>\n",
       "      <th>average bid price</th>\n",
       "      <th>impression</th>\n",
       "      <th>click</th>\n",
       "      <th>conversion</th>\n",
       "      <th>winning rate</th>\n",
       "      <th>click / impression</th>\n",
       "      <th>conversion / click</th>\n",
       "    </tr>\n",
       "  </thead>\n",
       "  <tbody>\n",
       "    <tr>\n",
       "      <th>count</th>\n",
       "      <td>7.000000e+04</td>\n",
       "      <td>70000.000000</td>\n",
       "      <td>70000.000000</td>\n",
       "      <td>70000.000000</td>\n",
       "      <td>70000.000000</td>\n",
       "      <td>70000.000000</td>\n",
       "      <td>70000.000000</td>\n",
       "      <td>70000.000000</td>\n",
       "    </tr>\n",
       "    <tr>\n",
       "      <th>mean</th>\n",
       "      <td>1.437419e+00</td>\n",
       "      <td>82.564675</td>\n",
       "      <td>88.455086</td>\n",
       "      <td>9.018000</td>\n",
       "      <td>2.170871</td>\n",
       "      <td>0.493636</td>\n",
       "      <td>0.077476</td>\n",
       "      <td>0.154148</td>\n",
       "    </tr>\n",
       "    <tr>\n",
       "      <th>std</th>\n",
       "      <td>1.212829e+00</td>\n",
       "      <td>69.079904</td>\n",
       "      <td>83.223002</td>\n",
       "      <td>9.067371</td>\n",
       "      <td>2.864296</td>\n",
       "      <td>0.399578</td>\n",
       "      <td>0.080620</td>\n",
       "      <td>0.190854</td>\n",
       "    </tr>\n",
       "    <tr>\n",
       "      <th>min</th>\n",
       "      <td>2.085728e-07</td>\n",
       "      <td>4.142857</td>\n",
       "      <td>0.000000</td>\n",
       "      <td>0.000000</td>\n",
       "      <td>0.000000</td>\n",
       "      <td>0.000000</td>\n",
       "      <td>0.000000</td>\n",
       "      <td>0.000000</td>\n",
       "    </tr>\n",
       "    <tr>\n",
       "      <th>25%</th>\n",
       "      <td>5.392699e-01</td>\n",
       "      <td>30.384507</td>\n",
       "      <td>4.000000</td>\n",
       "      <td>0.000000</td>\n",
       "      <td>0.000000</td>\n",
       "      <td>0.055866</td>\n",
       "      <td>0.000000</td>\n",
       "      <td>0.000000</td>\n",
       "    </tr>\n",
       "    <tr>\n",
       "      <th>50%</th>\n",
       "      <td>1.092130e+00</td>\n",
       "      <td>60.941795</td>\n",
       "      <td>64.000000</td>\n",
       "      <td>7.000000</td>\n",
       "      <td>1.000000</td>\n",
       "      <td>0.479627</td>\n",
       "      <td>0.084906</td>\n",
       "      <td>0.100000</td>\n",
       "    </tr>\n",
       "    <tr>\n",
       "      <th>75%</th>\n",
       "      <td>1.964715e+00</td>\n",
       "      <td>115.203710</td>\n",
       "      <td>176.000000</td>\n",
       "      <td>17.000000</td>\n",
       "      <td>4.000000</td>\n",
       "      <td>0.946532</td>\n",
       "      <td>0.114286</td>\n",
       "      <td>0.259259</td>\n",
       "    </tr>\n",
       "    <tr>\n",
       "      <th>max</th>\n",
       "      <td>8.022803e+00</td>\n",
       "      <td>396.794258</td>\n",
       "      <td>271.000000</td>\n",
       "      <td>44.000000</td>\n",
       "      <td>19.000000</td>\n",
       "      <td>1.000000</td>\n",
       "      <td>0.999995</td>\n",
       "      <td>0.999999</td>\n",
       "    </tr>\n",
       "  </tbody>\n",
       "</table>\n",
       "</div>"
      ],
      "text/plain": [
       "        adjust rate  average bid price    impression         click  \\\n",
       "count  7.000000e+04       70000.000000  70000.000000  70000.000000   \n",
       "mean   1.437419e+00          82.564675     88.455086      9.018000   \n",
       "std    1.212829e+00          69.079904     83.223002      9.067371   \n",
       "min    2.085728e-07           4.142857      0.000000      0.000000   \n",
       "25%    5.392699e-01          30.384507      4.000000      0.000000   \n",
       "50%    1.092130e+00          60.941795     64.000000      7.000000   \n",
       "75%    1.964715e+00         115.203710    176.000000     17.000000   \n",
       "max    8.022803e+00         396.794258    271.000000     44.000000   \n",
       "\n",
       "         conversion  winning rate  click / impression  conversion / click  \n",
       "count  70000.000000  70000.000000        70000.000000        70000.000000  \n",
       "mean       2.170871      0.493636            0.077476            0.154148  \n",
       "std        2.864296      0.399578            0.080620            0.190854  \n",
       "min        0.000000      0.000000            0.000000            0.000000  \n",
       "25%        0.000000      0.055866            0.000000            0.000000  \n",
       "50%        1.000000      0.479627            0.084906            0.100000  \n",
       "75%        4.000000      0.946532            0.114286            0.259259  \n",
       "max       19.000000      1.000000            0.999995            0.999999  "
      ]
     },
     "execution_count": 38,
     "metadata": {},
     "output_type": "execute_result"
    }
   ],
   "source": [
    "# check statistics of the dataset\n",
    "# we see that the environment is highly stochstic and the reward is sparse, in a simmilar manner with discrete case\n",
    "df = pd.DataFrame()\n",
    "df['adjust rate'] = logged_dataset['state'][:, 6]\n",
    "df['average bid price'] = logged_dataset['info']['average_bid_price']\n",
    "df['impression'] = logged_dataset['info']['impression']\n",
    "df['click'] = logged_dataset['info']['click']\n",
    "df['conversion'] = logged_dataset['info']['conversion']\n",
    "df['winning rate'] = logged_dataset['state'][:, 4]\n",
    "df['click / impression'] = df['click'] / (df['impression'] + 1e-5)\n",
    "df['conversion / click'] = df['conversion'] / (df['click'] + 1e-5)\n",
    "df.describe()"
   ]
  },
  {
   "cell_type": "code",
   "execution_count": 39,
   "metadata": {},
   "outputs": [
    {
     "data": {
      "text/html": [
       "<div>\n",
       "<style scoped>\n",
       "    .dataframe tbody tr th:only-of-type {\n",
       "        vertical-align: middle;\n",
       "    }\n",
       "\n",
       "    .dataframe tbody tr th {\n",
       "        vertical-align: top;\n",
       "    }\n",
       "\n",
       "    .dataframe thead th {\n",
       "        text-align: right;\n",
       "    }\n",
       "</style>\n",
       "<table border=\"1\" class=\"dataframe\">\n",
       "  <thead>\n",
       "    <tr style=\"text-align: right;\">\n",
       "      <th></th>\n",
       "      <th>average adjust rate</th>\n",
       "      <th>average bid price</th>\n",
       "      <th>total impression</th>\n",
       "      <th>total click</th>\n",
       "      <th>total conversion</th>\n",
       "      <th>ramaining budget</th>\n",
       "    </tr>\n",
       "  </thead>\n",
       "  <tbody>\n",
       "    <tr>\n",
       "      <th>count</th>\n",
       "      <td>10000.000000</td>\n",
       "      <td>10000.000000</td>\n",
       "      <td>10000.000000</td>\n",
       "      <td>10000.000000</td>\n",
       "      <td>10000.000000</td>\n",
       "      <td>10000.000000</td>\n",
       "    </tr>\n",
       "    <tr>\n",
       "      <th>mean</th>\n",
       "      <td>1.437419</td>\n",
       "      <td>82.564675</td>\n",
       "      <td>88.455086</td>\n",
       "      <td>9.018000</td>\n",
       "      <td>2.170871</td>\n",
       "      <td>220.739800</td>\n",
       "    </tr>\n",
       "    <tr>\n",
       "      <th>std</th>\n",
       "      <td>0.396715</td>\n",
       "      <td>25.415085</td>\n",
       "      <td>11.563934</td>\n",
       "      <td>0.795772</td>\n",
       "      <td>0.557475</td>\n",
       "      <td>388.673281</td>\n",
       "    </tr>\n",
       "    <tr>\n",
       "      <th>min</th>\n",
       "      <td>0.413380</td>\n",
       "      <td>28.716102</td>\n",
       "      <td>25.428571</td>\n",
       "      <td>2.142857</td>\n",
       "      <td>0.142857</td>\n",
       "      <td>1.000000</td>\n",
       "    </tr>\n",
       "    <tr>\n",
       "      <th>25%</th>\n",
       "      <td>1.146650</td>\n",
       "      <td>63.260819</td>\n",
       "      <td>81.571429</td>\n",
       "      <td>8.857143</td>\n",
       "      <td>1.857143</td>\n",
       "      <td>15.000000</td>\n",
       "    </tr>\n",
       "    <tr>\n",
       "      <th>50%</th>\n",
       "      <td>1.391672</td>\n",
       "      <td>79.196231</td>\n",
       "      <td>88.714286</td>\n",
       "      <td>9.142857</td>\n",
       "      <td>2.142857</td>\n",
       "      <td>31.000000</td>\n",
       "    </tr>\n",
       "    <tr>\n",
       "      <th>75%</th>\n",
       "      <td>1.674723</td>\n",
       "      <td>98.544652</td>\n",
       "      <td>96.000000</td>\n",
       "      <td>9.428571</td>\n",
       "      <td>2.571429</td>\n",
       "      <td>247.000000</td>\n",
       "    </tr>\n",
       "    <tr>\n",
       "      <th>max</th>\n",
       "      <td>3.831769</td>\n",
       "      <td>195.940386</td>\n",
       "      <td>130.857143</td>\n",
       "      <td>10.714286</td>\n",
       "      <td>4.142857</td>\n",
       "      <td>2827.000000</td>\n",
       "    </tr>\n",
       "  </tbody>\n",
       "</table>\n",
       "</div>"
      ],
      "text/plain": [
       "       average adjust rate  average bid price  total impression   total click  \\\n",
       "count         10000.000000       10000.000000      10000.000000  10000.000000   \n",
       "mean              1.437419          82.564675         88.455086      9.018000   \n",
       "std               0.396715          25.415085         11.563934      0.795772   \n",
       "min               0.413380          28.716102         25.428571      2.142857   \n",
       "25%               1.146650          63.260819         81.571429      8.857143   \n",
       "50%               1.391672          79.196231         88.714286      9.142857   \n",
       "75%               1.674723          98.544652         96.000000      9.428571   \n",
       "max               3.831769         195.940386        130.857143     10.714286   \n",
       "\n",
       "       total conversion  ramaining budget  \n",
       "count      10000.000000      10000.000000  \n",
       "mean           2.170871        220.739800  \n",
       "std            0.557475        388.673281  \n",
       "min            0.142857          1.000000  \n",
       "25%            1.857143         15.000000  \n",
       "50%            2.142857         31.000000  \n",
       "75%            2.571429        247.000000  \n",
       "max            4.142857       2827.000000  "
      ]
     },
     "execution_count": 39,
     "metadata": {},
     "output_type": "execute_result"
    }
   ],
   "source": [
    "# aggeregate episodic statistics\n",
    "# compared to the discrete case, remeining budget is small, meaning that continuous case is more flexible\n",
    "df_ = pd.DataFrame()\n",
    "df_['average adjust rate'] = logged_dataset['state'][:, 6].reshape(-1, 7).mean(axis=1)\n",
    "df_['average bid price'] = logged_dataset['info']['average_bid_price'].reshape(-1, 7).mean(axis=1)\n",
    "df_['total impression'] = logged_dataset['info']['impression'].reshape(-1, 7).mean(axis=1)\n",
    "df_['total click'] = logged_dataset['info']['click'].reshape(-1, 7).mean(axis=1)\n",
    "df_['total conversion'] = logged_dataset['info']['conversion'].reshape(-1, 7).mean(axis=1)\n",
    "df_['ramaining budget'] = logged_dataset['state'][:,1].reshape(-1, 7)[:,6]\n",
    "df_.describe()"
   ]
  },
  {
   "cell_type": "code",
   "execution_count": 40,
   "metadata": {},
   "outputs": [
    {
     "data": {
      "text/plain": [
       "<seaborn.axisgrid.PairGrid at 0x7f25e3b523a0>"
      ]
     },
     "execution_count": 40,
     "metadata": {},
     "output_type": "execute_result"
    },
    {
     "data": {
      "image/png": "[encoded data removed]",
      "text/plain": [
       "<Figure size 1080x1080 with 42 Axes>"
      ]
     },
     "metadata": {
      "needs_background": "light"
     },
     "output_type": "display_data"
    }
   ],
   "source": [
    "# the result reveals that there is slight negative correlation between bid price and impression\n",
    "sns.pairplot(df_[:100])"
   ]
  },
  {
   "cell_type": "markdown",
   "metadata": {},
   "source": [
    "For the offline RL and OPE procedure, please refer to [examples/quickstart/rtb_synthetic_continuous.ipynb](https://github.com/negocia-inc/rtb_reinforcement_learing/blob/ope/examples/quickstart/rtb_synthetic_continuous.ipynb)."
   ]
  },
  {
   "cell_type": "markdown",
   "metadata": {},
   "source": [
    "## Reference\n",
    "\n",
    "- Yuta Saito, Shunsuke Aihara, Megumi Matsutani, and Yusuke Narita. \\\n",
    "\"Open Bandit Dataset and Pipeline: Towards Realistic and Reproducible Off-Policy Evaluation.\", 2021.\n",
    "\n",
    "- Takuma Seno and Michita Imai. \\\n",
    "\"d3rlpy: An Offline Deep Reinforcement Library.\", 2021.\n",
    "\n",
    "- Tuomas Haarnoja, Aurick Zhou, Pieter Abbeel, and Sergey Levine. \\\n",
    "\"Soft Actor-Critic: Off-Policy Maximum Entropy Deep Reinforcement Learning with a Stochastic Actor.\" 2018.\n",
    "\n",
    "- Di Wu, Xiujun Chen, Xun Yang, Hao Wang, Qing Tan, Xiaoxun Zhang, Jian Xu, and Kun Gai. \\\n",
    "\"Budget Constrained Bidding by Model-free Reinforcement Learning in Display Advertising.\", 2018.\n",
    "\n",
    "- Jun Zhao, Guang Qiu, Ziyu Guan, Wei Zhao, and Xiaofei He. \\\n",
    "\"Deep Reinforcement Learning for Sponsored Search Real-time Bidding.\", 2018.\n",
    "\n",
    "- Greg Brockman, Vicki Cheung, Ludwig Pettersson, Jonas Schneider, John Schulman, Jie Tang, and Wojciech Zaremba. \\\n",
    "\"OpenAI Gym.\", 2016.\n",
    "\n",
    "- Hado van Hasselt, Arthur Guez, and David Silver. \\\n",
    "\"Deep Reinforcement Learning with Double Q-learning.\", 2015."
   ]
  },
  {
   "cell_type": "code",
   "execution_count": null,
   "metadata": {},
   "outputs": [],
   "source": []
  }
 ],
 "metadata": {
  "kernelspec": {
   "display_name": "Python 3",
   "language": "python",
   "name": "python3"
  },
  "language_info": {
   "codemirror_mode": {
    "name": "ipython",
    "version": 3
   },
   "file_extension": ".py",
   "mimetype": "text/x-python",
   "name": "python",
   "nbconvert_exporter": "python",
   "pygments_lexer": "ipython3",
   "version": "3.8.5"
  }
 },
 "nbformat": 4,
 "nbformat_minor": 4
}
