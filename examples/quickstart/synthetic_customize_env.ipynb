{
 "cells": [
  {
   "attachments": {},
   "cell_type": "markdown",
   "metadata": {},
   "source": [
    "# Quickstart Example with Synthetic Simulation (Customization)\n",
    "This notebook provides an example of customizing the Recommender environment.\n",
    "\n",
    "This example on the Synthetic Recommender Simulation consists of the following 3 steps:\n",
    "1. Setup Synthetic Recommender Simulation Environment and Interacting Online RL Agent\n",
    "2. Standardized Environment\n",
    "3. Customize Environmental Configuration\n",
    "\n",
    "\\* This library uses [d3rlpy](https://github.com/takuseno/d3rlpy)'s algorithm implementations.  "
   ]
  },
  {
   "cell_type": "code",
   "execution_count": 1,
   "metadata": {},
   "outputs": [],
   "source": [
    "# delete later\n",
    "%load_ext autoreload\n",
    "%autoreload 2"
   ]
  },
  {
   "cell_type": "code",
   "execution_count": 2,
   "metadata": {},
   "outputs": [],
   "source": [
    "# delete later\n",
    "import warnings\n",
    "warnings.simplefilter('ignore')"
   ]
  },
  {
   "cell_type": "code",
   "execution_count": 3,
   "metadata": {},
   "outputs": [],
   "source": [
    "# delete later\n",
    "import sys\n",
    "sys.path.append('../')\n",
    "sys.path.append('../../')"
   ]
  },
  {
   "cell_type": "code",
   "execution_count": 4,
   "metadata": {},
   "outputs": [],
   "source": [
    "# import OFRL modules\n",
    "import ofrl\n",
    "from ofrl.policy import OnlineHead\n",
    "from ofrl.policy import DiscreteEpsilonGreedyHead\n",
    "\n",
    "# import synthetic modules\n",
    "# import synthetic\n",
    "from syntheticgym import SyntheticEnv\n",
    "from syntheticgym import RewardFunction\n",
    "from syntheticgym import StateTransition\n",
    "from syntheticgym import BaseRewardFunction\n",
    "from syntheticgym import BaseStateTransition\n",
    "\n",
    "# import d3rlpy algorithms\n",
    "from d3rlpy.algos import DiscreteRandomPolicy\n",
    "from d3rlpy.algos import RandomPolicy as ContinuousRandomPolicy\n",
    "from d3rlpy.preprocessing import MinMaxActionScaler\n",
    "\n",
    "# import from other libraries\n",
    "import gym\n",
    "\n",
    "from sklearn.utils import check_random_state\n",
    "from sklearn.utils import check_scalar"
   ]
  },
  {
   "cell_type": "code",
   "execution_count": 5,
   "metadata": {},
   "outputs": [],
   "source": [
    "from dataclasses import dataclass\n",
    "from typing import Tuple, Union, Optional\n",
    "\n",
    "import numpy as np\n",
    "import pandas as pd\n",
    "\n",
    "import matplotlib.pyplot as plt\n",
    "import seaborn as sns\n",
    "\n",
    "%matplotlib inline"
   ]
  },
  {
   "cell_type": "code",
   "execution_count": 6,
   "metadata": {},
   "outputs": [
    {
     "name": "stdout",
     "output_type": "stream",
     "text": [
      "0.0.0\n"
     ]
    }
   ],
   "source": [
    "# version\n",
    "print(ofrl.__version__)"
   ]
  },
  {
   "cell_type": "code",
   "execution_count": 7,
   "metadata": {},
   "outputs": [],
   "source": [
    "# set random state\n",
    "random_state = 12345\n",
    "random_ = check_random_state(random_state)"
   ]
  },
  {
   "attachments": {},
   "cell_type": "markdown",
   "metadata": {},
   "source": [
    "## 1. Setup Synthetic Recommender Simulation Environment and Interacting Online RL Agent\n",
    "To begin with, we briefly describe the basic usage of the environment.\n",
    "\n",
    "#### RL setup for Recommendation\n",
    "In recommendation, the objective of the RL agent is to maximize reward\n",
    "\n",
    "We often formulate this recommendation problem as the following (Partially Observable) Markov Decision Process ((PO)MDP):\n",
    "- `state`: \n",
    "   - A vector representing user preference.  The preference changes over time in an episode by the actions presented by the RL agent.\n",
    "   - When the true state is unobservable, you can gain observation instead of state.\n",
    "- `action`:  Index of an item to present to the user.\n",
    "- `reward`: User engagement signal. Either binary or continuous.\n",
    "\n",
    "Let's see how it works!"
   ]
  },
  {
   "cell_type": "code",
   "execution_count": 8,
   "metadata": {},
   "outputs": [],
   "source": [
    "# setup environment\n",
    "env = SyntheticEnv(action_type='continuous', random_state=random_state)"
   ]
  },
  {
   "cell_type": "code",
   "execution_count": 9,
   "metadata": {},
   "outputs": [],
   "source": [
    "# define a random agent\n",
    "agent = OnlineHead(\n",
    "    ContinuousRandomPolicy(\n",
    "        action_scaler=MinMaxActionScaler(\n",
    "            minimum=0.1,  # minimum value that policy can take\n",
    "            maximum=10,  # maximum value that policy can take\n",
    "        )\n",
    "    ),\n",
    "    name=\"random\",\n",
    ")\n",
    "agent.build_with_env(env)"
   ]
  },
  {
   "cell_type": "markdown",
   "metadata": {},
   "source": []
  },
  {
   "cell_type": "code",
   "execution_count": 10,
   "metadata": {},
   "outputs": [
    {
     "name": "stdout",
     "output_type": "stream",
     "text": [
      "OnlineHead(base_policy=d3rlpy.algos.random_policy.RandomPolicy(action_scaler=d3rlpy.preprocessing.action_scalers.MinMaxActionScaler(minimum=0.1, maximum=10), action_size=10, batch_size=1, distribution='uniform', gamma=0.0, generated_maxlen=100000, impl=None, n_frames=1, n_steps=1, normal_std=1.0, real_ratio=1.0, reward_scaler=None, scaler=None), name='random')\n",
      "Box(-0.1, 10.0, (10,), float64)\n",
      "Box(-inf, inf, (5,), float64)\n"
     ]
    }
   ],
   "source": [
    "print(agent)\n",
    "print(env.action_space)\n",
    "print(env.observation_space)"
   ]
  },
  {
   "cell_type": "markdown",
   "metadata": {},
   "source": []
  },
  {
   "cell_type": "code",
   "execution_count": null,
   "metadata": {},
   "outputs": [],
   "source": [
    "import ofrl\n",
    "from ofrl.ope.online import calc_on_policy_policy_value\n",
    "# calculate on-policy policy value\n",
    "on_policy_performance = calc_on_policy_policy_value(\n",
    "  env,\n",
    "  agent,\n",
    "  n_trajectories=100,\n",
    "  random_state=12345\n",
    ")"
   ]
  },
  {
   "cell_type": "code",
   "execution_count": 12,
   "metadata": {},
   "outputs": [
    {
     "name": "stdout",
     "output_type": "stream",
     "text": [
      "301.72577010067675\n"
     ]
    }
   ],
   "source": [
    "print(on_policy_performance)"
   ]
  },
  {
   "cell_type": "code",
   "execution_count": 13,
   "metadata": {},
   "outputs": [
    {
     "name": "stdout",
     "output_type": "stream",
     "text": [
      "action= [9.67455773 8.17817202 7.19332449 6.99200762 9.63010238 9.03957158\n",
      " 2.84970012 4.68178752 0.25204747 2.58956814]\n",
      "action= [4.00954591 1.1278242  1.40296166 3.71737774 7.62014146 1.35818772\n",
      " 5.04314683 8.64467412 4.56128883 8.52890548]\n",
      "action= [9.16513496 2.88291921 7.7725167  4.5446151  8.2671321  0.65741051\n",
      " 2.31218657 0.26207307 1.56653702 2.67372804]\n",
      "action= [4.08907902 3.34864744 0.82826164 1.39088429 8.3623852  9.35328005\n",
      " 9.43952986 1.06078828 2.90869476 1.84696972]\n",
      "action= [1.18840756 0.95692587 5.10708754 9.54114034 6.01193382 6.18266078\n",
      " 2.40549502 5.78779544 4.09598252 8.68544995]\n",
      "action= [6.57189455 8.84298442 7.92951481 8.12538651 6.05990265 4.41765658\n",
      " 8.46179259 3.77951924 1.64967258 5.95347805]\n",
      "action= [3.69661493 5.25021871 4.16573908 2.62531458 0.16597473 5.69579483\n",
      " 5.14544703 2.82106657 2.90456527 6.13858507]\n",
      "action= [0.26293282 6.20598505 0.26826016 5.11285684 2.2653644  3.9189033\n",
      " 4.02237139 3.88572243 4.09913484 5.20603047]\n",
      "action= [9.50429733 5.50451878 6.2420145  4.37769327 9.79052894 5.84979827\n",
      " 3.77186571 2.64685913 6.43879485 8.49996417]\n",
      "action= [8.30362254 1.77973592 7.90104977 8.18042901 9.74157495 8.54933129\n",
      " 5.60453624 4.24526521 5.0880065  4.41853941]\n",
      "action= [4.11001954 9.33576029 1.01309118 9.88640506 7.30242473 2.62173337\n",
      " 9.98132082 5.79370322 5.41816028 5.46689174]\n",
      "action= [2.67204662 3.35331751 6.85896369 3.0915127  7.07734318 9.77827026\n",
      " 5.66659186 9.10745572 7.82043936 1.11445223]\n",
      "action= [4.00387192 1.0547464  4.6711392  9.10725676 0.41821868 9.83665654\n",
      " 5.62723169 3.05888339 2.70058104 2.06755802]\n",
      "action= [5.89392662 9.78115322 3.6094378  5.74910703 0.20051022 3.15379692\n",
      " 6.34371759 2.34148485 0.3802867  5.03012153]\n",
      "action= [3.57231899 8.21454649 6.14909365 3.72150557 0.46751849 2.39565356\n",
      " 1.69722717 2.96151756 0.31435997 1.96489452]\n",
      "action= [5.65613696 7.59849565 8.63403397 1.88688198 6.05683329 9.74948686\n",
      " 3.03109798 0.85501309 2.44708801 5.48006479]\n",
      "action= [7.01457382 0.45381014 6.12453337 1.52336496 1.01377288 4.95990181\n",
      " 8.13110873 6.07979778 9.49435227 8.87310248]\n",
      "action= [1.15678028 7.77598471 6.19134631 4.92338458 3.61150905 8.67224967\n",
      " 3.66996224 6.69678075 4.5664793  6.34260043]\n",
      "action= [4.82060014 3.21441825 5.55442276 4.72365138 6.09520591 3.76904776\n",
      " 5.91755462 0.11166515 4.9720826  4.5041718 ]\n",
      "action= [5.91479115 1.53014349 3.0929506  7.85815428 2.76210456 4.11068141\n",
      " 3.46692022 6.1715849  8.45221617 4.86951499]\n",
      "action= [3.77258506 9.04383085 7.1732685  5.24919633 8.24273741 3.88810323\n",
      " 0.75090851 7.24921979 1.59597046 9.71849864]\n",
      "action= [6.30475003 1.11001768 3.9399004  9.81730507 7.58241919 5.4625976\n",
      " 5.09657724 1.62227864 5.39935844 3.24505166]\n",
      "action= [9.33309533 0.67670301 0.37337485 9.96364785 0.84538739 1.91792357\n",
      " 2.62091378 9.9611267  7.67897044 4.99441489]\n",
      "action= [4.75049506 9.60285386 3.50681984 6.95909696 5.17836517 9.07483349\n",
      " 3.40030586 4.51715984 2.0770877  7.61839758]\n",
      "action= [5.54015    0.4852386  9.71899292 6.79614069 1.13021785 8.77692324\n",
      " 9.18589561 9.81434442 3.3226927  9.02596654]\n",
      "action= [2.56229954 1.51542606 0.65001237 1.34588658 5.91637009 2.67543106\n",
      " 7.66271705 7.53078488 1.64885148 7.84848828]\n",
      "action= [4.25785816 4.67106887 7.70750961 5.73091431 1.51186427 5.25725117\n",
      " 7.78202713 8.25301823 4.82000069 4.10311788]\n",
      "action= [2.19235224 5.17750963 4.10306589 0.53291522 4.99200675 0.76840902\n",
      " 9.78610431 6.26825941 2.659907   7.20752153]\n",
      "action= [8.93570347 4.80306045 1.31236439 9.85552308 2.15171902 7.30308141\n",
      " 5.44462664 5.0681748  3.60856172 3.00331474]\n",
      "action= [3.05646716 1.69709728 0.98012918 1.70920405 5.38171691 2.00579398\n",
      " 0.88593989 3.7457143  5.20081668 9.59060372]\n",
      "action= [9.62823989 0.60358975 4.79985029 5.12155766 9.56580794 4.21685095\n",
      " 0.74902877 2.96052108 0.21146939 0.9479969 ]\n",
      "action= [8.58709692 6.30486181 8.22040836 9.00821861 6.82834856 5.7730646\n",
      " 8.07004118 6.57747957 5.62335839 2.85950296]\n",
      "action= [8.9891437  7.90305473 7.24983974 1.2181861  5.97217545 0.47299182\n",
      " 7.87409565 5.13077601 1.31618813 5.45845381]\n",
      "action= [9.33154531 2.47982699 7.94459791 7.47922984 2.60367989 8.97098887\n",
      " 6.19066742 0.84579935 9.53816314 1.95868594]\n",
      "action= [5.28647228 5.76419668 5.00346211 0.34408977 2.52691112 6.75632304\n",
      " 4.10624856 4.50560319 0.99421203 4.1651725 ]\n",
      "action= [7.6367115  6.34206104 1.55088129 6.36341965 3.9372771  0.97809645\n",
      " 2.69234725 0.39171182 5.66987405 9.12715714]\n",
      "action= [3.44500207 1.49365456 0.80508901 4.85260611 7.12239322 8.00221426\n",
      " 4.28513423 5.83143929 1.33600785 5.7676274 ]\n",
      "action= [8.91143633 2.72684503 4.34679855 2.52292446 2.02009082 3.53981636\n",
      " 3.00852655 7.23621897 2.38962041 8.77863946]\n",
      "action= [7.63821038 9.13739664 4.07986057 1.93222456 7.5465238  4.31319642\n",
      " 4.12372666 5.48593798 3.58993369 0.56619396]\n",
      "action= [8.4348887  7.66021268 4.72344815 3.77721944 0.26993303 3.54850654\n",
      " 0.66711525 6.39337714 5.42150594 2.74734439]\n",
      "action= [4.7578899  8.93631089 0.66529836 5.12822007 1.79447838 1.34871549\n",
      " 0.43412524 0.58125308 0.94530869 7.25011896]\n",
      "action= [2.55765907 1.22538599 7.5789613  5.86384067 3.86509513 8.43406822\n",
      " 6.5372479  9.23218997 6.28177686 4.57017838]\n",
      "action= [2.48858914 5.7117405  8.71919366 5.57717212 6.43424378 7.34238622\n",
      " 6.45380077 3.55707292 3.60944435 5.32494805]\n",
      "action= [2.30026831 6.41106411 4.34555976 4.65884343 1.63735407 4.96027854\n",
      " 1.37083596 3.08371196 3.8776603  3.23741137]\n",
      "action= [4.28213112 0.58955865 4.60345382 4.07689324 7.98431864 5.73124467\n",
      " 9.62394703 8.62047631 2.46486346 5.40818746]\n",
      "action= [3.2088609  8.37863532 7.0849233  9.11238549 1.00313266 9.87991396\n",
      " 5.20416624 8.09339338 1.34001996 9.02058202]\n",
      "action= [4.35673458 7.54027012 2.58904866 8.66833449 7.06599117 6.36487984\n",
      " 8.69788077 8.03865762 6.68570277 6.13723669]\n",
      "action= [5.33928449 2.49868017 1.78868365 9.59987402 4.8448849  1.49898522\n",
      " 9.94334835 8.80030991 9.69998285 9.20165432]\n",
      "action= [2.19873769 9.58980184 6.02926919 8.43616045 4.77852952 6.98564382\n",
      " 2.73664491 7.32186255 2.36879732 6.67458014]\n",
      "action= [5.03212837 9.32346409 4.41389746 9.16648656 4.96338445 5.12672168\n",
      " 7.97702013 2.48261497 0.94082588 3.03869114]\n",
      "action= [9.36548172 6.82133017 2.65428691 4.9204897  9.18814899 2.23102952\n",
      " 0.95094897 6.25382334 0.76126608 5.54531293]\n",
      "action= [1.73875394 5.65207959 6.23302234 5.54026704 9.4857397  5.69795825\n",
      " 1.41371226 5.300999   9.59274336 2.28111866]\n",
      "action= [6.37873809 8.83939796 1.21895355 7.1543927  5.03716532 8.2831372\n",
      " 5.9560997  9.82979246 3.76737787 4.90064618]\n",
      "action= [4.5785375  0.22133409 6.05436012 9.98610388 9.13660271 4.40667775\n",
      " 9.36458794 3.39529034 9.42600193 9.52369916]\n",
      "action= [3.32333191 8.56125412 0.12590823 7.77732362 6.10005371 4.20112023\n",
      " 3.30607798 0.70398379 4.80443331 4.79605039]\n",
      "action= [7.94903452 4.59478279 9.03328773 3.30341153 6.47869329 1.37733483\n",
      " 4.43338831 8.48470266 7.05625592 9.11523959]\n",
      "action= [9.74512341 0.65775603 5.34256554 2.03518763 1.1598458  0.85314281\n",
      " 2.09866057 9.18833813 8.37260147 7.82704971]\n",
      "action= [5.5593956  4.27513309 0.82125513 2.07669974 4.81418392 9.25909438\n",
      " 1.90034476 3.7666182  8.58619949 7.68167891]\n",
      "action= [2.46991779 0.59959777 4.22483594 6.16933445 0.55252032 8.09657589\n",
      " 1.00982567 5.44966918 1.43761356 4.23077749]\n",
      "action= [4.84172859 5.25132623 9.01244352 8.1164018  7.73474433 5.82323133\n",
      " 3.90294269 7.8453429  1.57556355 3.12057292]\n",
      "action= [7.17286247 1.65993792 7.67275244 8.26463357 4.95411619 8.04749173\n",
      " 4.35939524 4.00801671 8.67051069 5.88513264]\n",
      "action= [4.84182441 4.59444171 1.85176536 3.34903592 9.89311695 7.46768576\n",
      " 6.46996437 5.93709532 5.68032939 7.85420536]\n",
      "action= [6.94902646 5.09375756 7.86696554 7.66056418 6.55232704 0.88569632\n",
      " 1.10989892 9.31027058 2.7686584  6.15571234]\n",
      "action= [6.50482388 1.79147584 6.02144848 3.30172487 9.39784172 2.91187962\n",
      " 1.3547832  2.93796943 1.0489662  8.02029662]\n",
      "action= [9.13398343 0.34408054 8.50439864 1.77995333 8.01890921 6.0306568\n",
      " 9.99819997 1.97552146 9.40789722 9.6152533 ]\n",
      "action= [8.34077143 5.22778548 5.39042222 5.80807062 7.52117945 5.08581757\n",
      " 1.97312713 9.47145811 2.82771612 5.05115334]\n",
      "action= [2.83835053 7.14506497 0.80715103 4.23047414 8.07173929 1.33665814\n",
      " 1.02590764 4.28243916 8.47756994 4.97644831]\n",
      "action= [1.40475763 7.60407092 3.46421881 8.89553381 1.12994085 8.8771445\n",
      " 2.01816089 8.92382722 4.07902586 8.03008926]\n",
      "action= [2.795306   8.47201816 2.82924037 0.15140149 7.57030143 3.12920725\n",
      " 4.67451111 2.68214548 6.62422759 6.17369494]\n",
      "action= [5.02468774 1.11338727 9.87808594 7.1963374  8.26752407 3.01973096\n",
      " 1.42643554 2.07935234 2.08848046 0.68464341]\n",
      "action= [8.99908113 6.34518008 2.83631455 1.32064541 9.39941451 6.36605406\n",
      " 5.65572399 6.8022911  3.29689219 9.12290786]\n",
      "action= [7.65646801 7.63950082 6.70588308 1.00611655 0.49846769 0.3640084\n",
      " 5.17379943 2.74531281 4.27711953 3.96066034]\n",
      "action= [3.64501613 4.72422765 5.02007819 5.25563257 1.89467219 7.90864515\n",
      " 8.45394959 9.50942102 3.72724568 8.89635987]\n",
      "action= [2.25942708 6.05711613 5.2478816  1.09531878 2.53269756 0.26572434\n",
      " 7.22251281 7.1016335  6.76326382 2.68649267]\n",
      "action= [2.49088614 8.48263223 3.90970247 8.71862484 4.52717196 8.68935214\n",
      " 1.30190365 3.93126527 5.43931452 4.88747915]\n",
      "action= [7.23480017 3.77139175 6.24192178 1.94488041 9.23793892 1.98093889\n",
      " 6.74307274 7.27782466 0.51542721 6.07490957]\n",
      "action= [7.36836478 5.02601895 0.94539667 9.47542178 8.85194806 0.91285103\n",
      " 2.43888983 3.43321712 3.44640266 4.76593044]\n",
      "action= [4.44209011 3.00062339 8.86147175 2.70263681 5.10538042 0.56565162\n",
      " 1.45541788 6.45398319 2.53028097 4.35252845]\n",
      "action= [3.96633988 6.84165746 4.69716029 7.75474585 0.82089386 9.01044785\n",
      " 8.91179071 3.93732592 4.25621979 8.4528431 ]\n",
      "action= [0.94795592 1.77044447 5.82907904 9.06324805 9.35843109 1.04606496\n",
      " 9.0369998  1.17873361 3.36330798 2.33255502]\n",
      "action= [7.19817674 7.12122817 9.35922257 0.6696399  3.44703782 3.69619615\n",
      " 3.25532903 5.19815749 3.0932819  9.59242871]\n",
      "action= [1.63266324 1.59718406 3.8480951  1.91631384 5.08805451 4.78924757\n",
      " 8.2946345  4.49612186 2.11756655 4.81939635]\n",
      "action= [7.0595584  9.97504693 9.63335887 6.6278652  3.88065828 7.37139535\n",
      " 4.34898271 2.0550534  9.15451623 6.65517412]\n",
      "action= [3.94253082 7.50373368 1.43615345 7.22340234 4.00145673 6.72464758\n",
      " 5.7907851  1.30316162 9.44329503 7.61559115]\n",
      "action= [9.79739721 0.25051981 8.55221813 3.91137684 3.98518864 4.9462176\n",
      " 1.52658283 1.96406999 3.89257821 2.56819537]\n",
      "action= [3.53443181 5.97179855 6.51983407 8.43169584 6.7030809  9.51261484\n",
      " 0.95068521 7.89352305 8.94893758 0.48976147]\n",
      "action= [9.9045332  7.58575482 0.28574742 2.15400717 7.9069447  4.85177311\n",
      " 9.0693478  4.03133677 2.81467368 9.56873616]\n",
      "action= [1.32493771 2.62275051 5.98003366 6.10123818 3.49461163 0.76549985\n",
      " 0.43086926 1.61557865 4.42875166 3.51899442]\n",
      "action= [2.94251725 8.60637727 3.49552908 7.05852939 5.67937072 0.16525585\n",
      " 8.59604777 4.14246068 2.56792499 7.03209098]\n",
      "action= [3.66297833 4.16054652 9.6277291  0.21639255 8.71016864 5.00622361\n",
      " 6.46818085 3.87726659 6.41029182 4.12491863]\n",
      "action= [4.97465529 8.2015934  3.99645994 0.19323439 7.38069227 9.48280157\n",
      " 7.44160339 8.67888437 8.73548151 3.62141084]\n",
      "action= [5.85511004 1.43115302 2.43859045 2.12552979 7.51676597 8.62017956\n",
      " 2.57350965 2.58104329 2.32118817 0.38097196]\n",
      "action= [2.60098745 3.92249541 2.96427314 6.62786101 7.00503879 0.80985299\n",
      " 3.59897787 4.76759787 1.31289526 6.29753705]\n",
      "action= [1.67474042 0.42529428 5.83943369 6.59806482 4.1919713  0.22584264\n",
      " 9.17510833 8.08755992 7.33177008 0.40499305]\n",
      "action= [4.70451002 3.61456702 9.77375444 0.41322657 9.43479284 1.01466527\n",
      " 2.38660288 8.46434404 5.69722573 4.31516035]\n",
      "action= [5.58378629 6.21020573 1.29455624 5.94135622 5.28699391 7.26421488\n",
      " 1.62003867 1.83700024 0.75486115 9.99128163]\n",
      "action= [2.27338527 1.28857299 6.90375085 8.85878128 0.21344136 9.7858355\n",
      " 4.33795338 5.97668464 1.86765422 9.83789347]\n",
      "action= [6.38838755 0.72155938 2.5046089  5.5518688  8.34406517 2.61735915\n",
      " 8.21760106 1.59626089 3.61573981 1.36729862]\n",
      "action= [1.77140818 1.14446641 7.75641653 9.77365192 8.16618889 9.25900893\n",
      " 8.68491992 6.97173401 0.55028334 4.29064257]\n",
      "action= [7.06605049 7.86521284 4.93222506 5.06355151 1.31365552 1.56910251\n",
      " 6.86638875 5.95252571 3.14604594 8.37783182]\n"
     ]
    }
   ],
   "source": [
    "# interact agent with the environment\n",
    "# only 6 lines are needed for RL interaction\n",
    "for episode in range(10):\n",
    "    obs, info = env.reset()\n",
    "    done = False\n",
    "\n",
    "    while not done:\n",
    "        action = agent.sample_action_online(obs)\n",
    "        obs, reward, done, truncated, info = env.step(action)"
   ]
  },
  {
   "cell_type": "code",
   "execution_count": 14,
   "metadata": {},
   "outputs": [
    {
     "name": "stdout",
     "output_type": "stream",
     "text": [
      "(5,)\n",
      "[ 0.02600991 -1.16815195 -0.94960877 -2.03745831  0.72519342]\n"
     ]
    }
   ],
   "source": [
    "# state \n",
    "print(obs.shape)\n",
    "print(obs)"
   ]
  },
  {
   "cell_type": "code",
   "execution_count": 15,
   "metadata": {},
   "outputs": [
    {
     "name": "stdout",
     "output_type": "stream",
     "text": [
      "action= [2.343267   6.50759554 9.03336102 2.45272568 5.7978268  6.20082119\n",
      " 4.60037156 9.92803134 4.21423381 0.79005632]\n",
      "action= [2.90587726 2.43380915 9.32170748 0.35929509 5.31091082 7.99506522\n",
      " 8.32063832 3.94988885 6.85268998 8.91851329]\n",
      "action= [4.34634182 9.18938885 9.53617587 5.77580178 4.58765054 7.04795458\n",
      " 3.42316675 8.50372441 7.63909157 7.25117455]\n",
      "action= [7.79164656 0.92748868 8.01936953 5.21968735 7.71725791 5.13691142\n",
      " 1.59677534 0.11751617 1.54998864 0.19088315]\n",
      "action= [5.41475307 7.09740986 4.71364637 3.87784908 1.78624129 4.11302815\n",
      " 5.74581575 8.10912418 8.13628332 3.77895583]\n",
      "action= [1.75954662 3.56408747 0.13829748 8.38466234 7.36303684 3.69015329\n",
      " 3.52048794 0.73935717 4.77137342 6.72483192]\n",
      "action= [6.87522182 2.47534043 9.75350977 6.27930293 5.82838242 3.68949592\n",
      " 7.95396778 8.58060367 7.82643109 0.73400073]\n",
      "action= [9.49875201 0.27015171 2.3662233  4.02122933 4.74099631 2.37582004\n",
      " 7.25083423 1.54389706 0.24222073 1.66515865]\n",
      "action= [9.9577472  0.90203175 7.84465841 8.08477386 8.37926843 8.00931514\n",
      " 3.52047571 8.55366415 5.86368071 0.37792703]\n",
      "action= [6.6851165  8.76343614 9.52772764 7.33104981 6.75283382 3.3445763\n",
      " 8.90005126 9.73718405 1.89328694 3.83789874]\n"
     ]
    },
    {
     "data": {
      "image/png": "[encoded data removed]",
      "text/plain": [
       "<Figure size 640x480 with 1 Axes>"
      ]
     },
     "metadata": {},
     "output_type": "display_data"
    }
   ],
   "source": [
    "# let's visualize the transition of reward\n",
    "def visualize_interaction_on_environment(env, agent):\n",
    "    obs, info = env.reset()\n",
    "    done = False\n",
    "    reward_list = []\n",
    "\n",
    "    while not done:\n",
    "        action = agent.sample_action_online(obs)\n",
    "        obs, reward, done, truncated, info = env.step(action)\n",
    "        reward_list.append(reward)\n",
    "\n",
    "    # plot\n",
    "    fig = plt.figure()\n",
    "    ax1 = fig.add_subplot(111)\n",
    "    ax1.plot(reward_list[:-1], label='reward', color='tab:orange')\n",
    "    ax1.set_xlabel('timestep')\n",
    "    ax1.set_ylabel('reward')\n",
    "    ax1.legend(loc='upper left')\n",
    "    plt.show()\n",
    "    \n",
    "visualize_interaction_on_environment(env, agent)"
   ]
  },
  {
   "attachments": {},
   "cell_type": "markdown",
   "metadata": {},
   "source": [
    "## 1. Standardized Environment\n",
    "\n",
    "We provide standardize recommender environment"
   ]
  },
  {
   "cell_type": "code",
   "execution_count": 16,
   "metadata": {},
   "outputs": [],
   "source": [
    "env = SyntheticEnv(random_state=12345)"
   ]
  },
  {
   "attachments": {},
   "cell_type": "markdown",
   "metadata": {},
   "source": [
    "## 2. Customize Environmental Configuration\n",
    "Now, we customize the recommender simulation environment.\n",
    "\n",
    "We have the following environmental configurations:\n",
    "- `StateTransition`: State transition of the synthetic simulation.\n",
    "- `RewardFunction`: Reward function of the synthetic simulation.\n",
    "- `state_dim`: Dimensions of state.\n",
    "- `action_type`: action type (i.e., continuous / discrete).\n",
    "- `n_actions`: Number of actions. Applicable only when reward_type is \"discrete\".\n",
    "- `action_context_dim`: Dimensions of the action context.\n",
    "- `action_context`: Feature vectors that characterizes each action.\n",
    "- `reward_type`: Reward type (i.e., continuous / binary).\n",
    "- `reward_std`: Standard deviation of the reward distribution. Applicable only when reward_type is \"continuous\".\n",
    "- `obs_std`: Standard deviation of the observation distribution.\n",
    "- `step_per_episode`: Number of timesteps in an episode.\n",
    "- `random_state` : Random state"
   ]
  },
  {
   "cell_type": "markdown",
   "metadata": {},
   "source": [
    "#### Case 1. Customizing the Basic Setup"
   ]
  },
  {
   "cell_type": "code",
   "execution_count": 17,
   "metadata": {},
   "outputs": [
    {
     "name": "stdout",
     "output_type": "stream",
     "text": [
      "action= [0.605243   2.34483237 9.96527349 9.55530698 5.57057725 6.80053001\n",
      " 8.52179023 2.39457019 1.78308425 7.01917463]\n",
      "action= [6.79871264 5.06750596 6.14865135 8.9405467  0.11546102 2.70509149\n",
      " 7.35185237 4.64954676 0.17486701 3.60476246]\n",
      "action= [9.3350799  4.24853413 1.63804189 8.45554167 0.19465491 3.77682464\n",
      " 5.59162527 6.33692357 5.39118715 4.77318209]\n",
      "action= [9.10928035 9.52111629 1.47776519 4.67590568 3.24826588 3.33723764\n",
      " 4.08109509 3.43584632 2.74541955 4.0047684 ]\n",
      "action= [4.34898642 1.82348031 4.81349265 1.11121859 5.50622869 1.10244766\n",
      " 6.61250968 8.65840376 4.27837925 7.58444429]\n",
      "action= [1.39783123 0.49960921 7.98766281 6.00357667 0.17305622 9.03535749\n",
      " 9.92857793 8.53630074 1.35855625 7.7561735 ]\n",
      "action= [6.85404722 8.27842111 7.16215567 0.43950087 0.54605868 4.10519496\n",
      " 9.45935135 3.27103961 6.57292417 9.88926857]\n",
      "action= [3.62717974 6.56124554 0.82462011 0.23293602 8.75572138 9.57678905\n",
      " 8.63957628 9.57595472 2.98948189 8.58341839]\n",
      "action= [9.87775462 4.8530049  1.86297919 2.21199145 6.96341399 5.91117264\n",
      " 4.98153787 0.12943872 3.90479857 7.78686607]\n",
      "action= [7.45701131 2.40026993 1.39607926 7.8472992  9.47793941 0.14092699\n",
      " 7.63783371 4.69304071 8.24076878 2.80898496]\n"
     ]
    },
    {
     "data": {
      "image/png": "[encoded data removed]",
      "text/plain": [
       "<Figure size 640x480 with 1 Axes>"
      ]
     },
     "metadata": {},
     "output_type": "display_data"
    }
   ],
   "source": [
    "env = SyntheticEnv(\n",
    "        StateTransition = StateTransition,\n",
    "        RewardFunction = RewardFunction,\n",
    "        state_dim = 5,\n",
    "        n_actions = 10,\n",
    "        action_context_dim = 10,\n",
    "        action_context = None,\n",
    "        reward_type = \"continuous\",  # \"binary\"\n",
    "        reward_std = 0.0,\n",
    "        obs_std = 0.0,\n",
    "        step_per_episode = 10,\n",
    "        random_state = 12345,\n",
    ")\n",
    "visualize_interaction_on_environment(env, agent)"
   ]
  },
  {
   "attachments": {},
   "cell_type": "markdown",
   "metadata": {},
   "source": [
    "#### Case 2. Defining the action_context"
   ]
  },
  {
   "cell_type": "code",
   "execution_count": 18,
   "metadata": {},
   "outputs": [
    {
     "ename": "SyntaxError",
     "evalue": "invalid syntax (729911845.py, line 2)",
     "output_type": "error",
     "traceback": [
      "\u001b[0;36m  Cell \u001b[0;32mIn [18], line 2\u001b[0;36m\u001b[0m\n\u001b[0;31m    action_context =\u001b[0m\n\u001b[0m                     ^\u001b[0m\n\u001b[0;31mSyntaxError\u001b[0m\u001b[0;31m:\u001b[0m invalid syntax\n"
     ]
    }
   ],
   "source": [
    "# we use the following items for recommendation\n",
    "action_context = "
   ]
  },
  {
   "cell_type": "code",
   "execution_count": null,
   "metadata": {},
   "outputs": [
    {
     "data": {
      "text/html": [
       "<div>\n",
       "<style scoped>\n",
       "    .dataframe tbody tr th:only-of-type {\n",
       "        vertical-align: middle;\n",
       "    }\n",
       "\n",
       "    .dataframe tbody tr th {\n",
       "        vertical-align: top;\n",
       "    }\n",
       "\n",
       "    .dataframe thead th {\n",
       "        text-align: right;\n",
       "    }\n",
       "</style>\n",
       "<table border=\"1\" class=\"dataframe\">\n",
       "  <thead>\n",
       "    <tr style=\"text-align: right;\">\n",
       "      <th></th>\n",
       "      <th>feature1</th>\n",
       "      <th>feature2</th>\n",
       "      <th>feature3</th>\n",
       "      <th>feature4</th>\n",
       "      <th>feature5</th>\n",
       "    </tr>\n",
       "  </thead>\n",
       "  <tbody>\n",
       "    <tr>\n",
       "      <th>user1</th>\n",
       "      <td>-1</td>\n",
       "      <td>-1</td>\n",
       "      <td>-1</td>\n",
       "      <td>1</td>\n",
       "      <td>1</td>\n",
       "    </tr>\n",
       "    <tr>\n",
       "      <th>user2</th>\n",
       "      <td>-1</td>\n",
       "      <td>-1</td>\n",
       "      <td>1</td>\n",
       "      <td>1</td>\n",
       "      <td>-1</td>\n",
       "    </tr>\n",
       "    <tr>\n",
       "      <th>user3</th>\n",
       "      <td>-1</td>\n",
       "      <td>-1</td>\n",
       "      <td>1</td>\n",
       "      <td>1</td>\n",
       "      <td>-1</td>\n",
       "    </tr>\n",
       "    <tr>\n",
       "      <th>user4</th>\n",
       "      <td>1</td>\n",
       "      <td>1</td>\n",
       "      <td>1</td>\n",
       "      <td>1</td>\n",
       "      <td>1</td>\n",
       "    </tr>\n",
       "    <tr>\n",
       "      <th>user5</th>\n",
       "      <td>-1</td>\n",
       "      <td>-1</td>\n",
       "      <td>1</td>\n",
       "      <td>1</td>\n",
       "      <td>1</td>\n",
       "    </tr>\n",
       "    <tr>\n",
       "      <th>...</th>\n",
       "      <td>...</td>\n",
       "      <td>...</td>\n",
       "      <td>...</td>\n",
       "      <td>...</td>\n",
       "      <td>...</td>\n",
       "    </tr>\n",
       "    <tr>\n",
       "      <th>user96</th>\n",
       "      <td>-1</td>\n",
       "      <td>-1</td>\n",
       "      <td>-1</td>\n",
       "      <td>-1</td>\n",
       "      <td>1</td>\n",
       "    </tr>\n",
       "    <tr>\n",
       "      <th>user97</th>\n",
       "      <td>1</td>\n",
       "      <td>-1</td>\n",
       "      <td>1</td>\n",
       "      <td>1</td>\n",
       "      <td>-1</td>\n",
       "    </tr>\n",
       "    <tr>\n",
       "      <th>user98</th>\n",
       "      <td>1</td>\n",
       "      <td>-1</td>\n",
       "      <td>1</td>\n",
       "      <td>-1</td>\n",
       "      <td>-1</td>\n",
       "    </tr>\n",
       "    <tr>\n",
       "      <th>user99</th>\n",
       "      <td>-1</td>\n",
       "      <td>1</td>\n",
       "      <td>-1</td>\n",
       "      <td>1</td>\n",
       "      <td>-1</td>\n",
       "    </tr>\n",
       "    <tr>\n",
       "      <th>user100</th>\n",
       "      <td>1</td>\n",
       "      <td>-1</td>\n",
       "      <td>-1</td>\n",
       "      <td>1</td>\n",
       "      <td>1</td>\n",
       "    </tr>\n",
       "  </tbody>\n",
       "</table>\n",
       "<p>100 rows × 5 columns</p>\n",
       "</div>"
      ],
      "text/plain": [
       "         feature1  feature2  feature3  feature4  feature5\n",
       "user1          -1        -1        -1         1         1\n",
       "user2          -1        -1         1         1        -1\n",
       "user3          -1        -1         1         1        -1\n",
       "user4           1         1         1         1         1\n",
       "user5          -1        -1         1         1         1\n",
       "...           ...       ...       ...       ...       ...\n",
       "user96         -1        -1        -1        -1         1\n",
       "user97          1        -1         1         1        -1\n",
       "user98          1        -1         1        -1        -1\n",
       "user99         -1         1        -1         1        -1\n",
       "user100         1        -1        -1         1         1\n",
       "\n",
       "[100 rows x 5 columns]"
      ]
     },
     "execution_count": 23,
     "metadata": {},
     "output_type": "execute_result"
    }
   ],
   "source": [
    "# we assume that the following 100 users \n",
    "user_features = np.sign(random_.normal(size=(100, 5))).astype(int)\n",
    "user_names, feature_names = [f\"user{i+1}\" for i in range(100)], [f\"feature{i+1}\" for i in range(5)]\n",
    "user_df = pd.DataFrame(user_features, columns=feature_names, index=user_names)\n",
    "user_df"
   ]
  },
  {
   "cell_type": "code",
   "execution_count": null,
   "metadata": {},
   "outputs": [
    {
     "ename": "NameError",
     "evalue": "name 'UserModel' is not defined",
     "output_type": "error",
     "traceback": [
      "\u001b[0;31m---------------------------------------------------------------------------\u001b[0m",
      "\u001b[0;31mNameError\u001b[0m                                 Traceback (most recent call last)",
      "Cell \u001b[0;32mIn [24], line 3\u001b[0m\n\u001b[1;32m      1\u001b[0m \u001b[39m# using the above data, we can simulate an recommendation as follows\u001b[39;00m\n\u001b[1;32m      2\u001b[0m env \u001b[39m=\u001b[39m SyntheticEnv(\n\u001b[0;32m----> 3\u001b[0m         UserModel \u001b[39m=\u001b[39m UserModel,\n\u001b[1;32m      4\u001b[0m         n_items \u001b[39m=\u001b[39m \u001b[39m100\u001b[39m,  \u001b[39m# we use 100 items\u001b[39;00m\n\u001b[1;32m      5\u001b[0m         n_users \u001b[39m=\u001b[39m \u001b[39m100\u001b[39m,  \u001b[39m# 100 users exists\u001b[39;00m\n\u001b[1;32m      6\u001b[0m         item_feature_dim \u001b[39m=\u001b[39m \u001b[39m5\u001b[39m,  \u001b[39m#each item has 5 dimensional features\u001b[39;00m\n\u001b[1;32m      7\u001b[0m         user_feature_dim \u001b[39m=\u001b[39m \u001b[39m5\u001b[39m,  \u001b[39m#each user has 5 dimensional features\u001b[39;00m\n\u001b[1;32m      8\u001b[0m         item_feature_vector \u001b[39m=\u001b[39m item_features, \u001b[39m# use item features defined above\u001b[39;00m\n\u001b[1;32m      9\u001b[0m         user_feature_vector \u001b[39m=\u001b[39m user_features, \u001b[39m# use user features defined above\u001b[39;00m\n\u001b[1;32m     10\u001b[0m         reward_type \u001b[39m=\u001b[39m \u001b[39m\"\u001b[39m\u001b[39mcontinuous\u001b[39m\u001b[39m\"\u001b[39m, \u001b[39m#we use continuous reward\u001b[39;00m\n\u001b[1;32m     11\u001b[0m         reward_std \u001b[39m=\u001b[39m \u001b[39m0.0\u001b[39m,\n\u001b[1;32m     12\u001b[0m         obs_std \u001b[39m=\u001b[39m \u001b[39m0.0\u001b[39m, \u001b[39m#not add noise to the observation\u001b[39;00m\n\u001b[1;32m     13\u001b[0m         step_per_episode \u001b[39m=\u001b[39m \u001b[39m10\u001b[39m,\n\u001b[1;32m     14\u001b[0m         random_state \u001b[39m=\u001b[39m \u001b[39m12345\u001b[39m,\n\u001b[1;32m     15\u001b[0m )\n\u001b[1;32m     16\u001b[0m visualize_interaction_on_environment(env, agent)\n",
      "\u001b[0;31mNameError\u001b[0m: name 'UserModel' is not defined"
     ]
    }
   ],
   "source": [
    "# using the above data, we can simulate an recommendation as follows\n",
    "env = SyntheticEnv(\n",
    "        UserModel = UserModel,\n",
    "        n_items = 100,  # we use 100 items\n",
    "        n_users = 100,  # 100 users exists\n",
    "        item_feature_dim = 5,  #each item has 5 dimensional features\n",
    "        user_feature_dim = 5,  #each user has 5 dimensional features\n",
    "        item_feature_vector = item_features, # use item features defined above\n",
    "        user_feature_vector = user_features, # use user features defined above\n",
    "        reward_type = \"continuous\", #we use continuous reward\n",
    "        reward_std = 0.0,\n",
    "        obs_std = 0.0, #not add noise to the observation\n",
    "        step_per_episode = 10,\n",
    "        random_state = 12345,\n",
    ")\n",
    "visualize_interaction_on_environment(env, agent)"
   ]
  },
  {
   "attachments": {},
   "cell_type": "markdown",
   "metadata": {},
   "source": [
    "#### Case 3. Using Customized UserModel(reward_function)"
   ]
  },
  {
   "cell_type": "code",
   "execution_count": null,
   "metadata": {},
   "outputs": [],
   "source": [
    "from synthetic import BaseUserModel\n",
    "from synthetic import Action\n",
    "\n",
    "@dataclass\n",
    "class UserModel(BaseUserModel):\n",
    "    reward_type: str = \"continuous\"  # \"binary\"\n",
    "    reward_std: float = 0.0\n",
    "    item_feature_vector: Optional[np.ndarray] = None,\n",
    "    random_state: Optional[int] = None\n",
    "\n",
    "    def __post_init__(self):\n",
    "        check_scalar(\n",
    "            self.reward_std,\n",
    "            name=\"reward_std\",\n",
    "            target_type=float,\n",
    "        )\n",
    "\n",
    "        if self.reward_type not in [\"continuous\", \"binary\"]:\n",
    "            raise ValueError(\n",
    "                f'reward_type must be either \"continuous\" or \"binary\", but {self.reward_type} is given'\n",
    "            )\n",
    "\n",
    "        self.random_ = check_random_state(self.random_state)\n",
    "\n",
    "    def user_preference_dynamics(\n",
    "        self,\n",
    "        state: np.ndarray,\n",
    "        action: Action,\n",
    "        alpha: float = 1.0,\n",
    "    )-> np.ndarray:\n",
    "        \n",
    "        check_scalar(\n",
    "            state,\n",
    "            name=\"state\",\n",
    "            target_type=np.ndarray,\n",
    "        )\n",
    "        check_scalar(\n",
    "            action,\n",
    "            name=\"action\",\n",
    "            target_type=Action,\n",
    "        )\n",
    "\n",
    "        state = (state + alpha * state @ self.item_feature_vector[action] * self.item_feature_vector[action])\n",
    "        state = state / np.linalg.norm(state, ord=2)\n",
    "        return state\n",
    "\n",
    "    def reward_function(\n",
    "        self,\n",
    "        state: np.ndarray,\n",
    "        action: Action,\n",
    "    )-> float:\n",
    "        reward = self.cos_similar_function(state, action)\n",
    "\n",
    "        if self.reward_type is \"continuous\":\n",
    "            reward = reward + self.random_.normal(loc=0.0, scale=self.reward_std)\n",
    "\n",
    "        return reward\n",
    "\n",
    "    def cos_similar_function(\n",
    "        self,\n",
    "        state: np.ndarray,\n",
    "        action: Action,\n",
    "    )-> float:\n",
    "        inner = state @ self.item_feature_vector[action]\n",
    "        reward = inner / (np.linalg.norm(state, ord=2) * np.linalg.norm(self.item_feature_vector[action], ord=2))\n",
    "\n",
    "        return reward"
   ]
  },
  {
   "cell_type": "code",
   "execution_count": null,
   "metadata": {},
   "outputs": [],
   "source": [
    "# setup environment\n",
    "env = SyntheticEnv(\n",
    "    UserModel = UserModel,\n",
    "    reward_type = \"continuous\",\n",
    "    random_state=12345\n",
    ")\n",
    "visualize_interaction_on_environment(env, agent)\n"
   ]
  },
  {
   "attachments": {},
   "cell_type": "markdown",
   "metadata": {},
   "source": [
    "#### Case 4. Using Customized UserModel(user_preference_dynamics and reward_function)"
   ]
  },
  {
   "cell_type": "code",
   "execution_count": null,
   "metadata": {},
   "outputs": [],
   "source": [
    "from synthetic import BaseUserModel\n",
    "from synthetic import Action\n",
    "\n",
    "@dataclass\n",
    "class UserModel(BaseUserModel):\n",
    "    reward_type: str = \"continuous\"  # \"binary\"\n",
    "    reward_std: float = 0.0\n",
    "    item_feature_vector: Optional[np.ndarray] = None,\n",
    "    random_state: Optional[int] = None\n",
    "\n",
    "    def __post_init__(self):\n",
    "        check_scalar(\n",
    "            self.reward_std,\n",
    "            name=\"reward_std\",\n",
    "            target_type=float,\n",
    "        )\n",
    "\n",
    "        if self.reward_type not in [\"continuous\", \"binary\"]:\n",
    "            raise ValueError(\n",
    "                f'reward_type must be either \"continuous\" or \"binary\", but {self.reward_type} is given'\n",
    "            )\n",
    "\n",
    "        self.random_ = check_random_state(self.random_state)\n",
    "\n",
    "    def user_preference_dynamics(\n",
    "        self,\n",
    "        state: np.ndarray,\n",
    "        action: Action,\n",
    "        alpha: float = 1.0,\n",
    "    )-> np.ndarray:\n",
    "        \n",
    "        check_scalar(\n",
    "            state,\n",
    "            name=\"state\",\n",
    "            target_type=np.ndarray,\n",
    "        )\n",
    "        check_scalar(\n",
    "            action,\n",
    "            name=\"action\",\n",
    "            target_type=Action,\n",
    "        )\n",
    "\n",
    "        if self.reward == 1:\n",
    "            state = (state + alpha * state @ self.item_feature_vector[action] * self.item_feature_vector[action])\n",
    "            state = state / np.linalg.norm(state, ord=2)\n",
    "            \n",
    "        return state\n",
    "\n",
    "    def reward_function(\n",
    "        self,\n",
    "        state: np.ndarray,\n",
    "        action: Action,\n",
    "    )-> float:\n",
    "        self.reward = self.random_.binomial(n=1, p=self.sigmoid(self.cos_similar_function(state, action)))\n",
    "\n",
    "        if self.reward_type is \"continuous\":\n",
    "            reward = reward + self.random_.normal(loc=0.0, scale=self.reward_std)\n",
    "\n",
    "        return self.reward\n",
    "\n",
    "    def cos_similar_function(\n",
    "        self,\n",
    "        state: np.ndarray,\n",
    "        action: Action,\n",
    "    )-> float:\n",
    "        inner = state @ self.item_feature_vector[action]\n",
    "        reward = inner / (np.linalg.norm(state, ord=2) * np.linalg.norm(self.item_feature_vector[action], ord=2))\n",
    "\n",
    "        return reward\n",
    "    \n",
    "    def sigmoid(self, x: Union[float, np.ndarray]) -> Union[float, np.ndarray]:\n",
    "    # Sigmoid function\n",
    "        return 1 / (1 + np.exp(-x))"
   ]
  },
  {
   "cell_type": "code",
   "execution_count": null,
   "metadata": {},
   "outputs": [],
   "source": [
    "# setup environment\n",
    "env = SyntheticEnv(\n",
    "    UserModel = UserModel,\n",
    "    reward_type = \"binary\",\n",
    "    random_state=12345\n",
    ")\n",
    "visualize_interaction_on_environment(env, agent)\n"
   ]
  },
  {
   "attachments": {},
   "cell_type": "markdown",
   "metadata": {},
   "source": [
    "## 3. Customize Bidding Setup in RTB Env\n",
    "Here, we describe how the decision makers can customize their own RTB environment.  \n",
    "Specifically, they can setup their own action space and bid price calculation rules by defining the following modules.\n",
    "- `reward_predictor` in Bidder class  \n",
    "    We use predicted rewards to calculate the bid price.  \n",
    "        bid price = adjust rate * predicted reward ( * constant)\n",
    "    If None, we use the ground-truth reward instead of the predicted reward.  \n",
    "\n",
    "- `scaler` in Bidder class\n",
    "    Scaler defines constant in the bid price calculation.  \n",
    "        bid price = adjust rate * predicted reward ( * constant)\n",
    "        constant = scaler * standard_bid_price\n",
    "    where standard_bid_price indicates the average of standard_bid_price  \n",
    "    (bid price which has approximately 50% impression probability) over all ads.\n",
    "\n",
    "- `action_space` for agent  \n",
    "    We transform continual adjust rate space $[0, \\infty)$ into agent action space $[0.1, 10]$.  \n",
    "    Both discrete and continuous actions are acceptable.  \n",
    "    (We can tune multiplication of adjust rate using scaler.)\n",
    "    \n",
    "The arguments are given as follows:\n",
    "- `original_env`: Original RTB Environment.\n",
    "- `reward_predictor`: A machine learning model to predict the reward to determine the bidding price.\n",
    "- `scaler`: Scaling factor (constant value) used for bid price determination. (`None` for the auto-fitting)\n",
    "- `action_min`: Minimum value of adjust rate.\n",
    "- `action_max`: Maximum value of adjust rate.\n",
    "- `action_type`: Action type of the RL agent, which should either be \"discrete\" or \"continuous\".\n",
    "- `n_actions`: Number of \"discrete\" actions.\n",
    "- `action_meaning`: Mapping function of agent action index to the actual \"discrete\" action to take."
   ]
  },
  {
   "cell_type": "code",
   "execution_count": null,
   "metadata": {},
   "outputs": [],
   "source": [
    "# initialize environment\n",
    "env = SyntheticEnv(random_state=random_state)"
   ]
  },
  {
   "attachments": {},
   "cell_type": "markdown",
   "metadata": {},
   "source": [
    "#### Case 1. Defining Continuous Action Space"
   ]
  },
  {
   "cell_type": "code",
   "execution_count": null,
   "metadata": {},
   "outputs": [],
   "source": [
    "# let's customize the continuous action space\n",
    "env = SyntheticEnv(\n",
    "    original_env=env,\n",
    "    action_type=\"continuous\",\n",
    ")"
   ]
  },
  {
   "cell_type": "code",
   "execution_count": null,
   "metadata": {},
   "outputs": [],
   "source": [
    "# define a random agent\n",
    "agent = DiscreteEpsilonGreedyHead(\n",
    "      base_policy = DiscreteRandomPolicy(),\n",
    "      name = 'random',\n",
    "      n_actions = env.n_actions,\n",
    "      epsilon = 1. ,\n",
    "      random_state = random_state, \n",
    ")"
   ]
  },
  {
   "cell_type": "code",
   "execution_count": null,
   "metadata": {},
   "outputs": [],
   "source": [
    "print(custom_env.action_space)\n"
   ]
  },
  {
   "cell_type": "code",
   "execution_count": null,
   "metadata": {},
   "outputs": [],
   "source": [
    "# another example\n",
    "custom_env = SyntheticEnv(\n",
    "    original_env=env,\n",
    "    action_min=0.1,\n",
    "    action_max=0.5,\n",
    "    action_type=\"continuous\",\n",
    ")"
   ]
  },
  {
   "cell_type": "code",
   "execution_count": null,
   "metadata": {},
   "outputs": [],
   "source": [
    "print(custom_env.action_space)"
   ]
  },
  {
   "attachments": {},
   "cell_type": "markdown",
   "metadata": {},
   "source": [
    "#### Case 2. Defining Discrete Action Space"
   ]
  },
  {
   "cell_type": "code",
   "execution_count": null,
   "metadata": {},
   "outputs": [],
   "source": [
    "# let's customize the environment and discretize the action space\n",
    "custom_env = SyntheticEnv(\n",
    "    random_state=random_state,\n",
    "    action_type=\"discrete\",\n",
    ")"
   ]
  },
  {
   "cell_type": "code",
   "execution_count": null,
   "metadata": {},
   "outputs": [
    {
     "name": "stdout",
     "output_type": "stream",
     "text": [
      "Discrete(100)\n"
     ]
    },
    {
     "ename": "AttributeError",
     "evalue": "'SyntheticEnv' object has no attribute 'action_meaning'",
     "output_type": "error",
     "traceback": [
      "\u001b[0;31m---------------------------------------------------------------------------\u001b[0m",
      "\u001b[0;31mAttributeError\u001b[0m                            Traceback (most recent call last)",
      "Cell \u001b[0;32mIn [168], line 2\u001b[0m\n\u001b[1;32m      1\u001b[0m \u001b[39mprint\u001b[39m(custom_env\u001b[39m.\u001b[39maction_space)\n\u001b[0;32m----> 2\u001b[0m \u001b[39mprint\u001b[39m(custom_env\u001b[39m.\u001b[39;49maction_meaning)\n",
      "\u001b[0;31mAttributeError\u001b[0m: 'SyntheticEnv' object has no attribute 'action_meaning'"
     ]
    }
   ],
   "source": [
    "print(custom_env.action_space)\n"
   ]
  },
  {
   "cell_type": "code",
   "execution_count": null,
   "metadata": {},
   "outputs": [],
   "source": [
    "# another example\n",
    "custom_env = SyntheticEnv(\n",
    "    original_env=env,\n",
    "    action_type=\"discrete\",\n",
    "    n_actions=5,\n",
    "    action_meaning=np.arange(1, 6)\n",
    ")"
   ]
  },
  {
   "cell_type": "code",
   "execution_count": null,
   "metadata": {},
   "outputs": [],
   "source": [
    "print(custom_env.action_space)\n",
    "print(custom_env.action_meaning)"
   ]
  },
  {
   "attachments": {},
   "cell_type": "markdown",
   "metadata": {},
   "source": [
    "## Reference\n",
    "- Sarah Dean, Jamie Morgenstern. \\\n",
    "\"Preference Dynamics Under Personalized Recommendations.\", 2022.\n",
    "\n",
    "- Takuma Seno and Michita Imai. \\\n",
    "\"d3rlpy: An Offline Deep Reinforcement Library.\", 2021.\n",
    "\n",
    "- David Rohde, Stephen Bonner, Travis Dunlop, Flavian Vasile, Alexandros Karatzoglou. \\\n",
    "\"RecoGym: A Reinforcement Learning Environment for the Problem of Product Recommendation in Online Advertising.\" 2018.\n",
    "\n",
    "- Greg Brockman, Vicki Cheung, Ludwig Pettersson, Jonas Schneider, John Schulman, Jie Tang, and Wojciech Zaremba. \\\n",
    "\"OpenAI Gym.\", 2016."
   ]
  },
  {
   "cell_type": "code",
   "execution_count": null,
   "metadata": {},
   "outputs": [],
   "source": []
  }
 ],
 "metadata": {
  "kernelspec": {
   "display_name": "Python 3.10.6 64-bit ('3.10.6')",
   "language": "python",
   "name": "python3"
  },
  "language_info": {
   "codemirror_mode": {
    "name": "ipython",
    "version": 3
   },
   "file_extension": ".py",
   "mimetype": "text/x-python",
   "name": "python",
   "nbconvert_exporter": "python",
   "pygments_lexer": "ipython3",
   "version": "3.10.6 (main, Sep 10 2022, 14:58:52) [Clang 13.1.6 (clang-1316.0.21.2.5)]"
  },
  "vscode": {
   "interpreter": {
    "hash": "70404ee114725fce8ed9e697d67827f8546c678889944e6d695790702cbfe1f5"
   }
  }
 },
 "nbformat": 4,
 "nbformat_minor": 4
}
