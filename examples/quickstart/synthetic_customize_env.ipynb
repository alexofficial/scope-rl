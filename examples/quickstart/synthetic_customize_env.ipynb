{
 "cells": [
  {
   "attachments": {},
   "cell_type": "markdown",
   "metadata": {},
   "source": [
    "# Quickstart Example with Synthetic Simulation (Customization)\n",
    "This notebook provides an example of customizing the Recommender environment.\n",
    "\n",
    "This example on the Synthetic Recommender Simulation consists of the following 3 steps:\n",
    "1. Setup Synthetic Recommender Simulation Environment and Interacting Online RL Agent\n",
    "2. Standardized Environment\n",
    "3. Customize Environmental Configuration\n",
    "\n",
    "\\* This library uses [d3rlpy](https://github.com/takuseno/d3rlpy)'s algorithm implementations.  "
   ]
  },
  {
   "cell_type": "code",
   "execution_count": 1,
   "metadata": {},
   "outputs": [],
   "source": [
    "# delete later\n",
    "%load_ext autoreload\n",
    "%autoreload 2"
   ]
  },
  {
   "cell_type": "code",
   "execution_count": 2,
   "metadata": {},
   "outputs": [],
   "source": [
    "# delete later\n",
    "import warnings\n",
    "warnings.simplefilter('ignore')"
   ]
  },
  {
   "cell_type": "code",
   "execution_count": 3,
   "metadata": {},
   "outputs": [],
   "source": [
    "# delete later\n",
    "import sys\n",
    "sys.path.append('../')\n",
    "sys.path.append('../../')"
   ]
  },
  {
   "cell_type": "code",
   "execution_count": 4,
   "metadata": {},
   "outputs": [],
   "source": [
    "# import OFRL modules\n",
    "import ofrl\n",
    "from ofrl.policy import OnlineHead\n",
    "from ofrl.policy import DiscreteEpsilonGreedyHead\n",
    "\n",
    "# import synthetic modules\n",
    "# import synthetic\n",
    "from syntheticgym import SyntheticEnv\n",
    "from syntheticgym import RewardFunction\n",
    "from syntheticgym import StateTransition\n",
    "from syntheticgym import BaseRewardFunction\n",
    "from syntheticgym import BaseStateTransition\n",
    "\n",
    "# import d3rlpy algorithms\n",
    "from d3rlpy.algos import DiscreteRandomPolicy\n",
    "from d3rlpy.algos import RandomPolicy as ContinuousRandomPolicy\n",
    "from d3rlpy.preprocessing import MinMaxActionScaler\n",
    "\n",
    "# import from other libraries\n",
    "import gym\n",
    "\n",
    "from sklearn.utils import check_random_state\n",
    "from sklearn.utils import check_scalar"
   ]
  },
  {
   "cell_type": "code",
   "execution_count": 5,
   "metadata": {},
   "outputs": [],
   "source": [
    "from dataclasses import dataclass\n",
    "from typing import Tuple, Union, Optional\n",
    "\n",
    "import numpy as np\n",
    "import pandas as pd\n",
    "\n",
    "import matplotlib.pyplot as plt\n",
    "import seaborn as sns\n",
    "\n",
    "%matplotlib inline"
   ]
  },
  {
   "cell_type": "code",
   "execution_count": 6,
   "metadata": {},
   "outputs": [
    {
     "name": "stdout",
     "output_type": "stream",
     "text": [
      "0.0.0\n"
     ]
    }
   ],
   "source": [
    "# version\n",
    "print(ofrl.__version__)"
   ]
  },
  {
   "cell_type": "code",
   "execution_count": 7,
   "metadata": {},
   "outputs": [],
   "source": [
    "# set random state\n",
    "random_state = 12345\n",
    "random_ = check_random_state(random_state)"
   ]
  },
  {
   "attachments": {},
   "cell_type": "markdown",
   "metadata": {},
   "source": [
    "## 1. Setup Synthetic Recommender Simulation Environment and Interacting Online RL Agent\n",
    "To begin with, we briefly describe the basic usage of the environment.\n",
    "\n",
    "#### RL setup for Recommendation\n",
    "In recommendation, the objective of the RL agent is to maximize reward\n",
    "\n",
    "We often formulate this recommendation problem as the following (Partially Observable) Markov Decision Process ((PO)MDP):\n",
    "- `state`: \n",
    "   - A vector representing user preference.  The preference changes over time in an episode by the actions presented by the RL agent.\n",
    "   - When the true state is unobservable, you can gain observation instead of state.\n",
    "- `action`:  Index of an item to present to the user.\n",
    "- `reward`: User engagement signal. Either binary or continuous.\n",
    "\n",
    "Let's see how it works!"
   ]
  },
  {
   "cell_type": "code",
   "execution_count": 8,
   "metadata": {},
   "outputs": [],
   "source": [
    "# setup environment\n",
    "# env = SyntheticEnv(random_state=random_state, action_type='discrete')\n",
    "env = SyntheticEnv(random_state=random_state, action_type='continuous')"
   ]
  },
  {
   "cell_type": "code",
   "execution_count": 9,
   "metadata": {},
   "outputs": [],
   "source": [
    "# define a random agent\n",
    "# agent = DiscreteEpsilonGreedyHead(\n",
    "#       base_policy = DiscreteRandomPolicy(),\n",
    "#       name = 'random',\n",
    "#       n_actions = env.n_actions,\n",
    "#       epsilon = 1. ,\n",
    "#       random_state = random_state, \n",
    "# )"
   ]
  },
  {
   "cell_type": "code",
   "execution_count": 10,
   "metadata": {},
   "outputs": [],
   "source": [
    "# define a random agent\n",
    "agent = OnlineHead(\n",
    "    ContinuousRandomPolicy(\n",
    "        action_scaler=MinMaxActionScaler(\n",
    "            minimum=0.1,  # minimum value that policy can take\n",
    "            maximum=10,  # maximum value that policy can take\n",
    "        )\n",
    "    ),\n",
    "    name=\"random\",\n",
    ")"
   ]
  },
  {
   "cell_type": "markdown",
   "metadata": {},
   "source": []
  },
  {
   "cell_type": "code",
   "execution_count": 11,
   "metadata": {},
   "outputs": [
    {
     "name": "stdout",
     "output_type": "stream",
     "text": [
      "OnlineHead(base_policy=d3rlpy.algos.random_policy.RandomPolicy(action_scaler=d3rlpy.preprocessing.action_scalers.MinMaxActionScaler(minimum=0.1, maximum=10), action_size=1, batch_size=1, distribution='uniform', gamma=0.0, generated_maxlen=100000, impl=None, n_frames=1, n_steps=1, normal_std=1.0, real_ratio=1.0, reward_scaler=None, scaler=None), name='random')\n",
      "Box(-inf, inf, (10,), float64)\n",
      "100\n",
      "10\n",
      "Box(-inf, inf, (10,), float64)\n"
     ]
    }
   ],
   "source": [
    "print(agent)\n",
    "\n",
    "print(env.action_space)\n",
    "print(env.n_actions)\n",
    "print(env.action_space.shape[0])\n",
    "\n",
    "print(env.observation_space)"
   ]
  },
  {
   "cell_type": "code",
   "execution_count": 12,
   "metadata": {},
   "outputs": [
    {
     "data": {
      "application/vnd.jupyter.widget-view+json": {
       "model_id": "3a5f313b7a9942bea3c00a0b884b6b81",
       "version_major": 2,
       "version_minor": 0
      },
      "text/plain": [
       "[calculate on-policy policy value]:   0%|          | 0/100 [00:00<?, ?it/s]"
      ]
     },
     "metadata": {},
     "output_type": "display_data"
    },
    {
     "ename": "ValueError",
     "evalue": "matmul: Input operand 1 has a mismatch in its core dimension 0, with gufunc signature (n?,k),(k,m?)->(n?,m?) (size 1 is different from 10)",
     "output_type": "error",
     "traceback": [
      "\u001b[0;31m---------------------------------------------------------------------------\u001b[0m",
      "\u001b[0;31mValueError\u001b[0m                                Traceback (most recent call last)",
      "Cell \u001b[0;32mIn [12], line 4\u001b[0m\n\u001b[1;32m      2\u001b[0m \u001b[39mfrom\u001b[39;00m \u001b[39mofrl\u001b[39;00m\u001b[39m.\u001b[39;00m\u001b[39mope\u001b[39;00m\u001b[39m.\u001b[39;00m\u001b[39monline\u001b[39;00m \u001b[39mimport\u001b[39;00m calc_on_policy_policy_value\n\u001b[1;32m      3\u001b[0m \u001b[39m# calculate on-policy policy value\u001b[39;00m\n\u001b[0;32m----> 4\u001b[0m on_policy_performance \u001b[39m=\u001b[39m calc_on_policy_policy_value(\n\u001b[1;32m      5\u001b[0m   env,\n\u001b[1;32m      6\u001b[0m   agent,\n\u001b[1;32m      7\u001b[0m   n_trajectories\u001b[39m=\u001b[39;49m\u001b[39m100\u001b[39;49m,\n\u001b[1;32m      8\u001b[0m   random_state\u001b[39m=\u001b[39;49m\u001b[39m12345\u001b[39;49m\n\u001b[1;32m      9\u001b[0m )\n",
      "File \u001b[0;32m~/dev/ofrl/examples/quickstart/../../ofrl/ope/online.py:849\u001b[0m, in \u001b[0;36mcalc_on_policy_policy_value\u001b[0;34m(env, policy, n_trajectories, step_per_trajectory, evaluate_on_stationary_distribution, gamma, alpha, use_bootstrap, n_bootstrap_samples, random_state)\u001b[0m\n\u001b[1;32m    837\u001b[0m     on_policy_policy_value \u001b[39m=\u001b[39m calc_on_policy_policy_value_interval(\n\u001b[1;32m    838\u001b[0m         env\u001b[39m=\u001b[39menv,\n\u001b[1;32m    839\u001b[0m         policy\u001b[39m=\u001b[39mpolicy,\n\u001b[0;32m   (...)\u001b[0m\n\u001b[1;32m    846\u001b[0m         random_state\u001b[39m=\u001b[39mrandom_state,\n\u001b[1;32m    847\u001b[0m     )\n\u001b[1;32m    848\u001b[0m \u001b[39melse\u001b[39;00m:\n\u001b[0;32m--> 849\u001b[0m     on_policy_policy_value \u001b[39m=\u001b[39m rollout_policy_online(\n\u001b[1;32m    850\u001b[0m         env\u001b[39m=\u001b[39;49menv,\n\u001b[1;32m    851\u001b[0m         policy\u001b[39m=\u001b[39;49mpolicy,\n\u001b[1;32m    852\u001b[0m         n_trajectories\u001b[39m=\u001b[39;49mn_trajectories,\n\u001b[1;32m    853\u001b[0m         step_per_trajectory\u001b[39m=\u001b[39;49mstep_per_trajectory,\n\u001b[1;32m    854\u001b[0m         evaluate_on_stationary_distribution\u001b[39m=\u001b[39;49mevaluate_on_stationary_distribution,\n\u001b[1;32m    855\u001b[0m         gamma\u001b[39m=\u001b[39;49mgamma,\n\u001b[1;32m    856\u001b[0m         random_state\u001b[39m=\u001b[39;49mrandom_state,\n\u001b[1;32m    857\u001b[0m     )\u001b[39m.\u001b[39mmean()\n\u001b[1;32m    858\u001b[0m \u001b[39mreturn\u001b[39;00m on_policy_policy_value\n",
      "File \u001b[0;32m~/dev/ofrl/examples/quickstart/../../ofrl/ope/online.py:1527\u001b[0m, in \u001b[0;36mrollout_policy_online\u001b[0;34m(env, policy, n_trajectories, step_per_trajectory, evaluate_on_stationary_distribution, gamma, random_state)\u001b[0m\n\u001b[1;32m   1525\u001b[0m \u001b[39mwhile\u001b[39;00m \u001b[39mnot\u001b[39;00m done:\n\u001b[1;32m   1526\u001b[0m     action \u001b[39m=\u001b[39m policy\u001b[39m.\u001b[39msample_action_online(state)\n\u001b[0;32m-> 1527\u001b[0m     state, reward, done, _, _ \u001b[39m=\u001b[39m env\u001b[39m.\u001b[39;49mstep(action)\n\u001b[1;32m   1528\u001b[0m     t \u001b[39m+\u001b[39m\u001b[39m=\u001b[39m \u001b[39m1\u001b[39m\n\u001b[1;32m   1530\u001b[0m     episode_reward \u001b[39m+\u001b[39m\u001b[39m=\u001b[39m gamma \u001b[39m*\u001b[39m\u001b[39m*\u001b[39m t \u001b[39m*\u001b[39m reward\n",
      "File \u001b[0;32m~/dev/ofrl/examples/quickstart/../../syntheticgym/envs/synthetic.py:184\u001b[0m, in \u001b[0;36mSyntheticEnv.step\u001b[0;34m(self, action)\u001b[0m\n\u001b[1;32m    145\u001b[0m \u001b[39m\"\"\"Simulate a recommender interaction with a user.\u001b[39;00m\n\u001b[1;32m    146\u001b[0m \n\u001b[1;32m    147\u001b[0m \u001b[39mNote\u001b[39;00m\n\u001b[0;32m   (...)\u001b[0m\n\u001b[1;32m    181\u001b[0m \n\u001b[1;32m    182\u001b[0m \u001b[39m\"\"\"\u001b[39;00m\n\u001b[1;32m    183\u001b[0m \u001b[39m# 1. sample reward for the given item.\u001b[39;00m\n\u001b[0;32m--> 184\u001b[0m reward \u001b[39m=\u001b[39m \u001b[39mself\u001b[39;49m\u001b[39m.\u001b[39;49mreward_function\u001b[39m.\u001b[39;49msample(\u001b[39mself\u001b[39;49m\u001b[39m.\u001b[39;49mstate, action)\n\u001b[1;32m    186\u001b[0m \u001b[39m# 2. update user state with state_transition\u001b[39;00m\n\u001b[1;32m    187\u001b[0m \u001b[39mself\u001b[39m\u001b[39m.\u001b[39mstate \u001b[39m=\u001b[39m \u001b[39mself\u001b[39m\u001b[39m.\u001b[39mstate_transition\u001b[39m.\u001b[39mstep(\u001b[39mself\u001b[39m\u001b[39m.\u001b[39mstate, action)\n",
      "File \u001b[0;32m~/dev/ofrl/examples/quickstart/../../syntheticgym/envs/simulator/function.py:172\u001b[0m, in \u001b[0;36mRewardFunction.sample\u001b[0;34m(self, state, action)\u001b[0m\n\u001b[1;32m    154\u001b[0m \u001b[39m\"\"\"Reward function. inner product of state and recommended item_feature\u001b[39;00m\n\u001b[1;32m    155\u001b[0m \n\u001b[1;32m    156\u001b[0m \u001b[39mParameters\u001b[39;00m\n\u001b[0;32m   (...)\u001b[0m\n\u001b[1;32m    169\u001b[0m \n\u001b[1;32m    170\u001b[0m \u001b[39m\"\"\"\u001b[39;00m\n\u001b[1;32m    171\u001b[0m \u001b[39mif\u001b[39;00m \u001b[39mself\u001b[39m\u001b[39m.\u001b[39maction_type \u001b[39m==\u001b[39m \u001b[39m\"\u001b[39m\u001b[39mcontinuous\u001b[39m\u001b[39m\"\u001b[39m:\n\u001b[0;32m--> 172\u001b[0m     reward \u001b[39m=\u001b[39m \u001b[39mself\u001b[39m\u001b[39m.\u001b[39mstate_coef\u001b[39m.\u001b[39mT \u001b[39m@\u001b[39m state \u001b[39m+\u001b[39m \u001b[39mself\u001b[39;49m\u001b[39m.\u001b[39;49maction_coef\u001b[39m.\u001b[39;49mT \u001b[39m@\u001b[39;49m action \u001b[39m+\u001b[39m (state\u001b[39m.\u001b[39mT \u001b[39m@\u001b[39m \u001b[39mself\u001b[39m\u001b[39m.\u001b[39mstate_action_coef) \u001b[39m@\u001b[39m action\n\u001b[1;32m    174\u001b[0m \u001b[39melif\u001b[39;00m \u001b[39mself\u001b[39m\u001b[39m.\u001b[39maction_type \u001b[39m==\u001b[39m \u001b[39m\"\u001b[39m\u001b[39mdiscrete\u001b[39m\u001b[39m\"\u001b[39m:\n\u001b[1;32m    175\u001b[0m     reward \u001b[39m=\u001b[39m \u001b[39mself\u001b[39m\u001b[39m.\u001b[39mstate_coef\u001b[39m.\u001b[39mT \u001b[39m@\u001b[39m state \u001b[39m+\u001b[39m \u001b[39mself\u001b[39m\u001b[39m.\u001b[39maction_coef\u001b[39m.\u001b[39mT \u001b[39m@\u001b[39m \u001b[39mself\u001b[39m\u001b[39m.\u001b[39maction_context[action] \u001b[39m+\u001b[39m (state\u001b[39m.\u001b[39mT \u001b[39m@\u001b[39m \u001b[39mself\u001b[39m\u001b[39m.\u001b[39mstate_action_coef ) \u001b[39m@\u001b[39m \u001b[39mself\u001b[39m\u001b[39m.\u001b[39maction_context[action]\n",
      "\u001b[0;31mValueError\u001b[0m: matmul: Input operand 1 has a mismatch in its core dimension 0, with gufunc signature (n?,k),(k,m?)->(n?,m?) (size 1 is different from 10)"
     ]
    }
   ],
   "source": [
    "import ofrl\n",
    "from ofrl.ope.online import calc_on_policy_policy_value\n",
    "# calculate on-policy policy value\n",
    "on_policy_performance = calc_on_policy_policy_value(\n",
    "  env,\n",
    "  agent,\n",
    "  n_trajectories=100,\n",
    "  random_state=12345\n",
    ")"
   ]
  },
  {
   "cell_type": "code",
   "execution_count": null,
   "metadata": {},
   "outputs": [],
   "source": [
    "# print(on_policy_performance)"
   ]
  },
  {
   "cell_type": "code",
   "execution_count": 14,
   "metadata": {},
   "outputs": [
    {
     "name": "stdout",
     "output_type": "stream",
     "text": [
      "[5.05897718]\n",
      "5.058977178711043\n"
     ]
    },
    {
     "ename": "ValueError",
     "evalue": "matmul: Input operand 1 has a mismatch in its core dimension 0, with gufunc signature (n?,k),(k,m?)->(n?,m?) (size 1 is different from 10)",
     "output_type": "error",
     "traceback": [
      "\u001b[0;31m---------------------------------------------------------------------------\u001b[0m",
      "\u001b[0;31mValueError\u001b[0m                                Traceback (most recent call last)",
      "Cell \u001b[0;32mIn [14], line 15\u001b[0m\n\u001b[1;32m     13\u001b[0m \u001b[39mprint\u001b[39m(action)\n\u001b[1;32m     14\u001b[0m \u001b[39mprint\u001b[39m(action[\u001b[39m0\u001b[39m])\n\u001b[0;32m---> 15\u001b[0m obs, reward, done, truncated, info \u001b[39m=\u001b[39m env\u001b[39m.\u001b[39;49mstep(action)\n\u001b[1;32m     16\u001b[0m \u001b[39m# print('obs=', obs)\u001b[39;00m\n\u001b[1;32m     17\u001b[0m \u001b[39mprint\u001b[39m(\u001b[39m'\u001b[39m\u001b[39mreward=\u001b[39m\u001b[39m'\u001b[39m, reward)\n",
      "File \u001b[0;32m~/dev/ofrl/examples/quickstart/../../syntheticgym/envs/synthetic.py:184\u001b[0m, in \u001b[0;36mSyntheticEnv.step\u001b[0;34m(self, action)\u001b[0m\n\u001b[1;32m    145\u001b[0m \u001b[39m\"\"\"Simulate a recommender interaction with a user.\u001b[39;00m\n\u001b[1;32m    146\u001b[0m \n\u001b[1;32m    147\u001b[0m \u001b[39mNote\u001b[39;00m\n\u001b[0;32m   (...)\u001b[0m\n\u001b[1;32m    181\u001b[0m \n\u001b[1;32m    182\u001b[0m \u001b[39m\"\"\"\u001b[39;00m\n\u001b[1;32m    183\u001b[0m \u001b[39m# 1. sample reward for the given item.\u001b[39;00m\n\u001b[0;32m--> 184\u001b[0m reward \u001b[39m=\u001b[39m \u001b[39mself\u001b[39;49m\u001b[39m.\u001b[39;49mreward_function\u001b[39m.\u001b[39;49msample(\u001b[39mself\u001b[39;49m\u001b[39m.\u001b[39;49mstate, action)\n\u001b[1;32m    186\u001b[0m \u001b[39m# 2. update user state with state_transition\u001b[39;00m\n\u001b[1;32m    187\u001b[0m \u001b[39mself\u001b[39m\u001b[39m.\u001b[39mstate \u001b[39m=\u001b[39m \u001b[39mself\u001b[39m\u001b[39m.\u001b[39mstate_transition\u001b[39m.\u001b[39mstep(\u001b[39mself\u001b[39m\u001b[39m.\u001b[39mstate, action)\n",
      "File \u001b[0;32m~/dev/ofrl/examples/quickstart/../../syntheticgym/envs/simulator/function.py:172\u001b[0m, in \u001b[0;36mRewardFunction.sample\u001b[0;34m(self, state, action)\u001b[0m\n\u001b[1;32m    154\u001b[0m \u001b[39m\"\"\"Reward function. inner product of state and recommended item_feature\u001b[39;00m\n\u001b[1;32m    155\u001b[0m \n\u001b[1;32m    156\u001b[0m \u001b[39mParameters\u001b[39;00m\n\u001b[0;32m   (...)\u001b[0m\n\u001b[1;32m    169\u001b[0m \n\u001b[1;32m    170\u001b[0m \u001b[39m\"\"\"\u001b[39;00m\n\u001b[1;32m    171\u001b[0m \u001b[39mif\u001b[39;00m \u001b[39mself\u001b[39m\u001b[39m.\u001b[39maction_type \u001b[39m==\u001b[39m \u001b[39m\"\u001b[39m\u001b[39mcontinuous\u001b[39m\u001b[39m\"\u001b[39m:\n\u001b[0;32m--> 172\u001b[0m     reward \u001b[39m=\u001b[39m \u001b[39mself\u001b[39m\u001b[39m.\u001b[39mstate_coef\u001b[39m.\u001b[39mT \u001b[39m@\u001b[39m state \u001b[39m+\u001b[39m \u001b[39mself\u001b[39;49m\u001b[39m.\u001b[39;49maction_coef\u001b[39m.\u001b[39;49mT \u001b[39m@\u001b[39;49m action \u001b[39m+\u001b[39m (state\u001b[39m.\u001b[39mT \u001b[39m@\u001b[39m \u001b[39mself\u001b[39m\u001b[39m.\u001b[39mstate_action_coef) \u001b[39m@\u001b[39m action\n\u001b[1;32m    174\u001b[0m \u001b[39melif\u001b[39;00m \u001b[39mself\u001b[39m\u001b[39m.\u001b[39maction_type \u001b[39m==\u001b[39m \u001b[39m\"\u001b[39m\u001b[39mdiscrete\u001b[39m\u001b[39m\"\u001b[39m:\n\u001b[1;32m    175\u001b[0m     reward \u001b[39m=\u001b[39m \u001b[39mself\u001b[39m\u001b[39m.\u001b[39mstate_coef\u001b[39m.\u001b[39mT \u001b[39m@\u001b[39m state \u001b[39m+\u001b[39m \u001b[39mself\u001b[39m\u001b[39m.\u001b[39maction_coef\u001b[39m.\u001b[39mT \u001b[39m@\u001b[39m \u001b[39mself\u001b[39m\u001b[39m.\u001b[39maction_context[action] \u001b[39m+\u001b[39m (state\u001b[39m.\u001b[39mT \u001b[39m@\u001b[39m \u001b[39mself\u001b[39m\u001b[39m.\u001b[39mstate_action_coef ) \u001b[39m@\u001b[39m \u001b[39mself\u001b[39m\u001b[39m.\u001b[39maction_context[action]\n",
      "\u001b[0;31mValueError\u001b[0m: matmul: Input operand 1 has a mismatch in its core dimension 0, with gufunc signature (n?,k),(k,m?)->(n?,m?) (size 1 is different from 10)"
     ]
    }
   ],
   "source": [
    "# interact agent with the environment\n",
    "# only 6 lines are needed for RL interaction\n",
    "for episode in range(10):\n",
    "    obs, info = env.reset()\n",
    "    done = False\n",
    "\n",
    "    while not done:\n",
    "        # discreteの場合：sample_action_onlineを使う\n",
    "        action = agent.sample_action_online(obs)\n",
    "        # action = agent.sample_action(obs)\n",
    "    \n",
    "        # action = agent.predict_online(obs)\n",
    "        print(action)\n",
    "        print(action[0])\n",
    "        obs, reward, done, truncated, info = env.step(action)\n",
    "        # print('obs=', obs)\n",
    "        print('reward=', reward)"
   ]
  },
  {
   "cell_type": "code",
   "execution_count": null,
   "metadata": {},
   "outputs": [
    {
     "ename": "ValueError",
     "evalue": "matmul: Input operand 0 does not have enough dimensions (has 0, gufunc core with signature (n?,k),(k,m?)->(n?,m?) requires 1)",
     "output_type": "error",
     "traceback": [
      "\u001b[0;31m---------------------------------------------------------------------------\u001b[0m",
      "\u001b[0;31mValueError\u001b[0m                                Traceback (most recent call last)",
      "Cell \u001b[0;32mIn [15], line 14\u001b[0m\n\u001b[1;32m     11\u001b[0m action \u001b[39m=\u001b[39m agent\u001b[39m.\u001b[39msample_action(obs)\n\u001b[1;32m     12\u001b[0m \u001b[39m# action = agent.predict_online(obs)\u001b[39;00m\n\u001b[1;32m     13\u001b[0m \u001b[39m# print(action)\u001b[39;00m\n\u001b[0;32m---> 14\u001b[0m obs, reward, done, truncated, info \u001b[39m=\u001b[39m env\u001b[39m.\u001b[39;49mstep(action)\n\u001b[1;32m     15\u001b[0m \u001b[39m# print('obs=', obs)\u001b[39;00m\n\u001b[1;32m     16\u001b[0m reward_list\u001b[39m.\u001b[39mappend(reward)\n",
      "File \u001b[0;32m~/dev/ofrl/examples/quickstart/../../syntheticgym/envs/synthetic.py:186\u001b[0m, in \u001b[0;36mSyntheticEnv.step\u001b[0;34m(self, action)\u001b[0m\n\u001b[1;32m    183\u001b[0m reward \u001b[39m=\u001b[39m \u001b[39mself\u001b[39m\u001b[39m.\u001b[39mreward_function\u001b[39m.\u001b[39msample(\u001b[39mself\u001b[39m\u001b[39m.\u001b[39mstate, action)\n\u001b[1;32m    185\u001b[0m \u001b[39m# 2. update user state with state_transition\u001b[39;00m\n\u001b[0;32m--> 186\u001b[0m \u001b[39mself\u001b[39m\u001b[39m.\u001b[39mstate \u001b[39m=\u001b[39m \u001b[39mself\u001b[39;49m\u001b[39m.\u001b[39;49mstate_transition\u001b[39m.\u001b[39;49mstep(\u001b[39mself\u001b[39;49m\u001b[39m.\u001b[39;49mstate, action)\n\u001b[1;32m    188\u001b[0m done \u001b[39m=\u001b[39m \u001b[39mself\u001b[39m\u001b[39m.\u001b[39mt \u001b[39m==\u001b[39m \u001b[39mself\u001b[39m\u001b[39m.\u001b[39mstep_per_episode \u001b[39m-\u001b[39m \u001b[39m1\u001b[39m\n\u001b[1;32m    190\u001b[0m \u001b[39mif\u001b[39;00m done:\n",
      "File \u001b[0;32m~/dev/ofrl/examples/quickstart/../../syntheticgym/envs/simulator/function.py:80\u001b[0m, in \u001b[0;36mStateTransition.step\u001b[0;34m(self, state, action)\u001b[0m\n\u001b[1;32m     61\u001b[0m \u001b[39m\"\"\"Function that determines how to update the state (i.e., user preference) based on the recommended item. user_feature is amplified by the recommended item_feature\u001b[39;00m\n\u001b[1;32m     62\u001b[0m \n\u001b[1;32m     63\u001b[0m \u001b[39mParameters\u001b[39;00m\n\u001b[0;32m   (...)\u001b[0m\n\u001b[1;32m     77\u001b[0m \n\u001b[1;32m     78\u001b[0m \u001b[39m\"\"\"\u001b[39;00m\n\u001b[1;32m     79\u001b[0m \u001b[39mif\u001b[39;00m \u001b[39mself\u001b[39m\u001b[39m.\u001b[39maction_type \u001b[39m==\u001b[39m \u001b[39m\"\u001b[39m\u001b[39mcontinuous\u001b[39m\u001b[39m\"\u001b[39m:\n\u001b[0;32m---> 80\u001b[0m     state \u001b[39m=\u001b[39m \u001b[39mself\u001b[39m\u001b[39m.\u001b[39mstate_coef \u001b[39m@\u001b[39m state \u001b[39m+\u001b[39m  \u001b[39mself\u001b[39m\u001b[39m.\u001b[39maction_coef \u001b[39m@\u001b[39m action \u001b[39m+\u001b[39m state \u001b[39m@\u001b[39;49m \u001b[39mself\u001b[39;49m\u001b[39m.\u001b[39;49mstate_action_coef\u001b[39m.\u001b[39;49mT \u001b[39m@\u001b[39;49m action\n\u001b[1;32m     82\u001b[0m \u001b[39melif\u001b[39;00m \u001b[39mself\u001b[39m\u001b[39m.\u001b[39maction_type \u001b[39m==\u001b[39m \u001b[39m\"\u001b[39m\u001b[39mdiscrete\u001b[39m\u001b[39m\"\u001b[39m:\n\u001b[1;32m     83\u001b[0m     state \u001b[39m=\u001b[39m \u001b[39mself\u001b[39m\u001b[39m.\u001b[39mstate_coef \u001b[39m@\u001b[39m state \u001b[39m+\u001b[39m \u001b[39mself\u001b[39m\u001b[39m.\u001b[39maction_coef \u001b[39m@\u001b[39m \u001b[39mself\u001b[39m\u001b[39m.\u001b[39maction_context[action] \u001b[39m+\u001b[39m  state \u001b[39m@\u001b[39m \u001b[39mself\u001b[39m\u001b[39m.\u001b[39mstate_action_coef\u001b[39m.\u001b[39mT \u001b[39m@\u001b[39m \u001b[39mself\u001b[39m\u001b[39m.\u001b[39maction_context[action]\n",
      "\u001b[0;31mValueError\u001b[0m: matmul: Input operand 0 does not have enough dimensions (has 0, gufunc core with signature (n?,k),(k,m?)->(n?,m?) requires 1)"
     ]
    }
   ],
   "source": [
    "# interact agent with the environment\n",
    "# only 6 lines are needed for RL interaction\n",
    "for episode in range(10):\n",
    "    obs, info = env.reset()\n",
    "    done = False\n",
    "    reward_list = []\n",
    "\n",
    "    while not done:\n",
    "        # discreteの場合：sample_action_onlineを使う\n",
    "        # action = agent.sample_action_online(obs)\n",
    "        action = agent.sample_action(obs)\n",
    "        # action = agent.predict_online(obs)\n",
    "        # print(action)\n",
    "        obs, reward, done, truncated, info = env.step(action)\n",
    "        # print('obs=', obs)\n",
    "        reward_list.append(reward)\n",
    "        a = reward_list[:-1]\n",
    "        # print('reward =',  a)\n",
    "        \n",
    "        # print('reward_list= ', reward_list)\n",
    "        # print('reward=', reward_list[:-1])"
   ]
  },
  {
   "cell_type": "code",
   "execution_count": null,
   "metadata": {},
   "outputs": [
    {
     "name": "stdout",
     "output_type": "stream",
     "text": [
      "(10, 10)\n",
      "[[ 0.41664732  0.41664732  0.41664732  0.41664732  0.41664732  0.41664732\n",
      "   0.41664732  0.41664732  0.41664732  0.41664732]\n",
      " [ 1.70365782  1.70365782  1.70365782  1.70365782  1.70365782  1.70365782\n",
      "   1.70365782  1.70365782  1.70365782  1.70365782]\n",
      " [-0.01184956 -0.01184956 -0.01184956 -0.01184956 -0.01184956 -0.01184956\n",
      "  -0.01184956 -0.01184956 -0.01184956 -0.01184956]\n",
      " [ 0.4792217   0.4792217   0.4792217   0.4792217   0.4792217   0.4792217\n",
      "   0.4792217   0.4792217   0.4792217   0.4792217 ]\n",
      " [ 1.20797195  1.20797195  1.20797195  1.20797195  1.20797195  1.20797195\n",
      "   1.20797195  1.20797195  1.20797195  1.20797195]\n",
      " [ 0.02301702  0.02301702  0.02301702  0.02301702  0.02301702  0.02301702\n",
      "   0.02301702  0.02301702  0.02301702  0.02301702]\n",
      " [-1.51206372 -1.51206372 -1.51206372 -1.51206372 -1.51206372 -1.51206372\n",
      "  -1.51206372 -1.51206372 -1.51206372 -1.51206372]\n",
      " [ 0.16263799  0.16263799  0.16263799  0.16263799  0.16263799  0.16263799\n",
      "   0.16263799  0.16263799  0.16263799  0.16263799]\n",
      " [-1.61632623 -1.61632623 -1.61632623 -1.61632623 -1.61632623 -1.61632623\n",
      "  -1.61632623 -1.61632623 -1.61632623 -1.61632623]\n",
      " [ 1.06804059  1.06804059  1.06804059  1.06804059  1.06804059  1.06804059\n",
      "   1.06804059  1.06804059  1.06804059  1.06804059]]\n"
     ]
    }
   ],
   "source": [
    "# state \n",
    "print(obs.shape)\n",
    "print(obs)"
   ]
  },
  {
   "cell_type": "code",
   "execution_count": null,
   "metadata": {},
   "outputs": [
    {
     "data": {
      "image/png": "[encoded data removed]",
      "text/plain": [
       "<Figure size 640x480 with 1 Axes>"
      ]
     },
     "metadata": {},
     "output_type": "display_data"
    }
   ],
   "source": [
    "# let's visualize the transition of reward\n",
    "def visualize_interaction_on_environment(env, agent):\n",
    "    obs, info = env.reset()\n",
    "    done = False\n",
    "    reward_list = []\n",
    "\n",
    "    while not done:\n",
    "        # action = agent.sample_action(obs)\n",
    "        action = agent.sample_action(obs)\n",
    "        # action = agent.predict_online(obs)\n",
    "        # print('action=', action)\n",
    "        obs, reward, done, truncated, info = env.step(action)\n",
    "        # print('state=', obs)\n",
    "        reward_list.append(reward)\n",
    "\n",
    "    # plot\n",
    "    fig = plt.figure()\n",
    "    ax1 = fig.add_subplot(111)\n",
    "    ax1.plot(reward_list[:-1], label='reward', color='tab:orange')\n",
    "    ax1.set_xlabel('timestep')\n",
    "    ax1.set_ylabel('reward')\n",
    "    ax1.legend(loc='upper left')\n",
    "    plt.show()\n",
    "    \n",
    "visualize_interaction_on_environment(env, agent)"
   ]
  },
  {
   "attachments": {},
   "cell_type": "markdown",
   "metadata": {},
   "source": [
    "## 1. Standardized Environment\n",
    "\n",
    "We provide standardize recommender environment"
   ]
  },
  {
   "cell_type": "code",
   "execution_count": null,
   "metadata": {},
   "outputs": [],
   "source": [
    "env = SyntheticEnv(random_state=12345)"
   ]
  },
  {
   "attachments": {},
   "cell_type": "markdown",
   "metadata": {},
   "source": [
    "## 2. Customize Environmental Configuration\n",
    "Now, we customize the recommender simulation environment.\n",
    "\n",
    "We have the following environmental configurations:\n",
    "- `UserModel`: User model which defines user_prefecture_dynamics and reward_function.\n",
    "- `n_items`: Number of items used for recommendation.\n",
    "- `n_users`: Number of users used for recommendation.\n",
    "- `item_feature_dim`: Dimensions of the item feature vectors.\n",
    "- `user_feature_dim`: Dimensions of the user feature vectors.\n",
    "- `item_feature_vector`: Feature vectors that characterizes each item.\n",
    "- `user_feature_vector`: Feature vectors that characterizes each user.\n",
    "- `reward_type`: Reward type (i.e., countinuous / binary).\n",
    "- `reward_std`: Standard deviation of the reward distribution. Applicable only when reward_type is \"continuous\".\n",
    "- `obs_std`: Standard deviation of the observation distribution.\n",
    "- `step_per_episode`: Number of timesteps in an episode.\n",
    "- `random_state` : Random state"
   ]
  },
  {
   "cell_type": "markdown",
   "metadata": {},
   "source": [
    "#### Case 1. Customizing the Basic Setup"
   ]
  },
  {
   "cell_type": "code",
   "execution_count": null,
   "metadata": {},
   "outputs": [
    {
     "data": {
      "image/png": "[encoded data removed]",
      "text/plain": [
       "<Figure size 640x480 with 1 Axes>"
      ]
     },
     "metadata": {},
     "output_type": "display_data"
    }
   ],
   "source": [
    "env = SyntheticEnv(\n",
    "        StateTransition = StateTransition,\n",
    "        RewardFunction = RewardFunction,\n",
    "        state_dim = 10,\n",
    "        n_actions = 100,\n",
    "        action_context_dim = 10,\n",
    "        action_context = None,\n",
    "        reward_type = \"continuous\",  # \"binary\"\n",
    "        reward_std = 0.0,\n",
    "        obs_std = 0.0,\n",
    "        step_per_episode = 10,\n",
    "        random_state = 12345,\n",
    ")\n",
    "visualize_interaction_on_environment(env, agent)"
   ]
  },
  {
   "attachments": {},
   "cell_type": "markdown",
   "metadata": {},
   "source": [
    "#### Case 2. Defining the Items and Users"
   ]
  },
  {
   "cell_type": "code",
   "execution_count": null,
   "metadata": {},
   "outputs": [
    {
     "data": {
      "text/html": [
       "<div>\n",
       "<style scoped>\n",
       "    .dataframe tbody tr th:only-of-type {\n",
       "        vertical-align: middle;\n",
       "    }\n",
       "\n",
       "    .dataframe tbody tr th {\n",
       "        vertical-align: top;\n",
       "    }\n",
       "\n",
       "    .dataframe thead th {\n",
       "        text-align: right;\n",
       "    }\n",
       "</style>\n",
       "<table border=\"1\" class=\"dataframe\">\n",
       "  <thead>\n",
       "    <tr style=\"text-align: right;\">\n",
       "      <th></th>\n",
       "      <th>feature1</th>\n",
       "      <th>feature2</th>\n",
       "      <th>feature3</th>\n",
       "      <th>feature4</th>\n",
       "      <th>feature5</th>\n",
       "    </tr>\n",
       "  </thead>\n",
       "  <tbody>\n",
       "    <tr>\n",
       "      <th>ad1</th>\n",
       "      <td>-1</td>\n",
       "      <td>1</td>\n",
       "      <td>-1</td>\n",
       "      <td>-1</td>\n",
       "      <td>1</td>\n",
       "    </tr>\n",
       "    <tr>\n",
       "      <th>ad2</th>\n",
       "      <td>1</td>\n",
       "      <td>1</td>\n",
       "      <td>1</td>\n",
       "      <td>1</td>\n",
       "      <td>1</td>\n",
       "    </tr>\n",
       "    <tr>\n",
       "      <th>ad3</th>\n",
       "      <td>1</td>\n",
       "      <td>-1</td>\n",
       "      <td>1</td>\n",
       "      <td>1</td>\n",
       "      <td>1</td>\n",
       "    </tr>\n",
       "    <tr>\n",
       "      <th>ad4</th>\n",
       "      <td>1</td>\n",
       "      <td>-1</td>\n",
       "      <td>-1</td>\n",
       "      <td>1</td>\n",
       "      <td>-1</td>\n",
       "    </tr>\n",
       "    <tr>\n",
       "      <th>ad5</th>\n",
       "      <td>-1</td>\n",
       "      <td>1</td>\n",
       "      <td>1</td>\n",
       "      <td>-1</td>\n",
       "      <td>-1</td>\n",
       "    </tr>\n",
       "    <tr>\n",
       "      <th>...</th>\n",
       "      <td>...</td>\n",
       "      <td>...</td>\n",
       "      <td>...</td>\n",
       "      <td>...</td>\n",
       "      <td>...</td>\n",
       "    </tr>\n",
       "    <tr>\n",
       "      <th>ad96</th>\n",
       "      <td>1</td>\n",
       "      <td>-1</td>\n",
       "      <td>-1</td>\n",
       "      <td>-1</td>\n",
       "      <td>1</td>\n",
       "    </tr>\n",
       "    <tr>\n",
       "      <th>ad97</th>\n",
       "      <td>1</td>\n",
       "      <td>1</td>\n",
       "      <td>-1</td>\n",
       "      <td>1</td>\n",
       "      <td>1</td>\n",
       "    </tr>\n",
       "    <tr>\n",
       "      <th>ad98</th>\n",
       "      <td>-1</td>\n",
       "      <td>-1</td>\n",
       "      <td>1</td>\n",
       "      <td>1</td>\n",
       "      <td>-1</td>\n",
       "    </tr>\n",
       "    <tr>\n",
       "      <th>ad99</th>\n",
       "      <td>-1</td>\n",
       "      <td>1</td>\n",
       "      <td>-1</td>\n",
       "      <td>1</td>\n",
       "      <td>1</td>\n",
       "    </tr>\n",
       "    <tr>\n",
       "      <th>ad100</th>\n",
       "      <td>-1</td>\n",
       "      <td>1</td>\n",
       "      <td>1</td>\n",
       "      <td>1</td>\n",
       "      <td>1</td>\n",
       "    </tr>\n",
       "  </tbody>\n",
       "</table>\n",
       "<p>100 rows × 5 columns</p>\n",
       "</div>"
      ],
      "text/plain": [
       "       feature1  feature2  feature3  feature4  feature5\n",
       "ad1          -1         1        -1        -1         1\n",
       "ad2           1         1         1         1         1\n",
       "ad3           1        -1         1         1         1\n",
       "ad4           1        -1        -1         1        -1\n",
       "ad5          -1         1         1        -1        -1\n",
       "...         ...       ...       ...       ...       ...\n",
       "ad96          1        -1        -1        -1         1\n",
       "ad97          1         1        -1         1         1\n",
       "ad98         -1        -1         1         1        -1\n",
       "ad99         -1         1        -1         1         1\n",
       "ad100        -1         1         1         1         1\n",
       "\n",
       "[100 rows x 5 columns]"
      ]
     },
     "execution_count": 20,
     "metadata": {},
     "output_type": "execute_result"
    }
   ],
   "source": [
    "# we use the following items for recommendation\n",
    "item_features = np.sign(random_.normal(size=(100, 5))).astype(int)\n",
    "item_names, feature_names = [f\"ad{i+1}\" for i in range(100)], [f\"feature{i+1}\" for i in range(5)]\n",
    "item_df = pd.DataFrame(item_features, columns=feature_names, index=item_names)\n",
    "item_df"
   ]
  },
  {
   "cell_type": "code",
   "execution_count": null,
   "metadata": {},
   "outputs": [
    {
     "data": {
      "text/html": [
       "<div>\n",
       "<style scoped>\n",
       "    .dataframe tbody tr th:only-of-type {\n",
       "        vertical-align: middle;\n",
       "    }\n",
       "\n",
       "    .dataframe tbody tr th {\n",
       "        vertical-align: top;\n",
       "    }\n",
       "\n",
       "    .dataframe thead th {\n",
       "        text-align: right;\n",
       "    }\n",
       "</style>\n",
       "<table border=\"1\" class=\"dataframe\">\n",
       "  <thead>\n",
       "    <tr style=\"text-align: right;\">\n",
       "      <th></th>\n",
       "      <th>feature1</th>\n",
       "      <th>feature2</th>\n",
       "      <th>feature3</th>\n",
       "      <th>feature4</th>\n",
       "      <th>feature5</th>\n",
       "    </tr>\n",
       "  </thead>\n",
       "  <tbody>\n",
       "    <tr>\n",
       "      <th>user1</th>\n",
       "      <td>-1</td>\n",
       "      <td>-1</td>\n",
       "      <td>-1</td>\n",
       "      <td>1</td>\n",
       "      <td>1</td>\n",
       "    </tr>\n",
       "    <tr>\n",
       "      <th>user2</th>\n",
       "      <td>-1</td>\n",
       "      <td>-1</td>\n",
       "      <td>1</td>\n",
       "      <td>1</td>\n",
       "      <td>-1</td>\n",
       "    </tr>\n",
       "    <tr>\n",
       "      <th>user3</th>\n",
       "      <td>-1</td>\n",
       "      <td>-1</td>\n",
       "      <td>1</td>\n",
       "      <td>1</td>\n",
       "      <td>-1</td>\n",
       "    </tr>\n",
       "    <tr>\n",
       "      <th>user4</th>\n",
       "      <td>1</td>\n",
       "      <td>1</td>\n",
       "      <td>1</td>\n",
       "      <td>1</td>\n",
       "      <td>1</td>\n",
       "    </tr>\n",
       "    <tr>\n",
       "      <th>user5</th>\n",
       "      <td>-1</td>\n",
       "      <td>-1</td>\n",
       "      <td>1</td>\n",
       "      <td>1</td>\n",
       "      <td>1</td>\n",
       "    </tr>\n",
       "    <tr>\n",
       "      <th>...</th>\n",
       "      <td>...</td>\n",
       "      <td>...</td>\n",
       "      <td>...</td>\n",
       "      <td>...</td>\n",
       "      <td>...</td>\n",
       "    </tr>\n",
       "    <tr>\n",
       "      <th>user96</th>\n",
       "      <td>-1</td>\n",
       "      <td>-1</td>\n",
       "      <td>-1</td>\n",
       "      <td>-1</td>\n",
       "      <td>1</td>\n",
       "    </tr>\n",
       "    <tr>\n",
       "      <th>user97</th>\n",
       "      <td>1</td>\n",
       "      <td>-1</td>\n",
       "      <td>1</td>\n",
       "      <td>1</td>\n",
       "      <td>-1</td>\n",
       "    </tr>\n",
       "    <tr>\n",
       "      <th>user98</th>\n",
       "      <td>1</td>\n",
       "      <td>-1</td>\n",
       "      <td>1</td>\n",
       "      <td>-1</td>\n",
       "      <td>-1</td>\n",
       "    </tr>\n",
       "    <tr>\n",
       "      <th>user99</th>\n",
       "      <td>-1</td>\n",
       "      <td>1</td>\n",
       "      <td>-1</td>\n",
       "      <td>1</td>\n",
       "      <td>-1</td>\n",
       "    </tr>\n",
       "    <tr>\n",
       "      <th>user100</th>\n",
       "      <td>1</td>\n",
       "      <td>-1</td>\n",
       "      <td>-1</td>\n",
       "      <td>1</td>\n",
       "      <td>1</td>\n",
       "    </tr>\n",
       "  </tbody>\n",
       "</table>\n",
       "<p>100 rows × 5 columns</p>\n",
       "</div>"
      ],
      "text/plain": [
       "         feature1  feature2  feature3  feature4  feature5\n",
       "user1          -1        -1        -1         1         1\n",
       "user2          -1        -1         1         1        -1\n",
       "user3          -1        -1         1         1        -1\n",
       "user4           1         1         1         1         1\n",
       "user5          -1        -1         1         1         1\n",
       "...           ...       ...       ...       ...       ...\n",
       "user96         -1        -1        -1        -1         1\n",
       "user97          1        -1         1         1        -1\n",
       "user98          1        -1         1        -1        -1\n",
       "user99         -1         1        -1         1        -1\n",
       "user100         1        -1        -1         1         1\n",
       "\n",
       "[100 rows x 5 columns]"
      ]
     },
     "execution_count": 23,
     "metadata": {},
     "output_type": "execute_result"
    }
   ],
   "source": [
    "# we assume that the following 100 users \n",
    "user_features = np.sign(random_.normal(size=(100, 5))).astype(int)\n",
    "user_names, feature_names = [f\"user{i+1}\" for i in range(100)], [f\"feature{i+1}\" for i in range(5)]\n",
    "user_df = pd.DataFrame(user_features, columns=feature_names, index=user_names)\n",
    "user_df"
   ]
  },
  {
   "cell_type": "code",
   "execution_count": null,
   "metadata": {},
   "outputs": [
    {
     "ename": "NameError",
     "evalue": "name 'UserModel' is not defined",
     "output_type": "error",
     "traceback": [
      "\u001b[0;31m---------------------------------------------------------------------------\u001b[0m",
      "\u001b[0;31mNameError\u001b[0m                                 Traceback (most recent call last)",
      "Cell \u001b[0;32mIn [24], line 3\u001b[0m\n\u001b[1;32m      1\u001b[0m \u001b[39m# using the above data, we can simulate an recommendation as follows\u001b[39;00m\n\u001b[1;32m      2\u001b[0m env \u001b[39m=\u001b[39m SyntheticEnv(\n\u001b[0;32m----> 3\u001b[0m         UserModel \u001b[39m=\u001b[39m UserModel,\n\u001b[1;32m      4\u001b[0m         n_items \u001b[39m=\u001b[39m \u001b[39m100\u001b[39m,  \u001b[39m# we use 100 items\u001b[39;00m\n\u001b[1;32m      5\u001b[0m         n_users \u001b[39m=\u001b[39m \u001b[39m100\u001b[39m,  \u001b[39m# 100 users exists\u001b[39;00m\n\u001b[1;32m      6\u001b[0m         item_feature_dim \u001b[39m=\u001b[39m \u001b[39m5\u001b[39m,  \u001b[39m#each item has 5 dimensional features\u001b[39;00m\n\u001b[1;32m      7\u001b[0m         user_feature_dim \u001b[39m=\u001b[39m \u001b[39m5\u001b[39m,  \u001b[39m#each user has 5 dimensional features\u001b[39;00m\n\u001b[1;32m      8\u001b[0m         item_feature_vector \u001b[39m=\u001b[39m item_features, \u001b[39m# use item features defined above\u001b[39;00m\n\u001b[1;32m      9\u001b[0m         user_feature_vector \u001b[39m=\u001b[39m user_features, \u001b[39m# use user features defined above\u001b[39;00m\n\u001b[1;32m     10\u001b[0m         reward_type \u001b[39m=\u001b[39m \u001b[39m\"\u001b[39m\u001b[39mcontinuous\u001b[39m\u001b[39m\"\u001b[39m, \u001b[39m#we use continuous reward\u001b[39;00m\n\u001b[1;32m     11\u001b[0m         reward_std \u001b[39m=\u001b[39m \u001b[39m0.0\u001b[39m,\n\u001b[1;32m     12\u001b[0m         obs_std \u001b[39m=\u001b[39m \u001b[39m0.0\u001b[39m, \u001b[39m#not add noise to the observation\u001b[39;00m\n\u001b[1;32m     13\u001b[0m         step_per_episode \u001b[39m=\u001b[39m \u001b[39m10\u001b[39m,\n\u001b[1;32m     14\u001b[0m         random_state \u001b[39m=\u001b[39m \u001b[39m12345\u001b[39m,\n\u001b[1;32m     15\u001b[0m )\n\u001b[1;32m     16\u001b[0m visualize_interaction_on_environment(env, agent)\n",
      "\u001b[0;31mNameError\u001b[0m: name 'UserModel' is not defined"
     ]
    }
   ],
   "source": [
    "# using the above data, we can simulate an recommendation as follows\n",
    "env = SyntheticEnv(\n",
    "        UserModel = UserModel,\n",
    "        n_items = 100,  # we use 100 items\n",
    "        n_users = 100,  # 100 users exists\n",
    "        item_feature_dim = 5,  #each item has 5 dimensional features\n",
    "        user_feature_dim = 5,  #each user has 5 dimensional features\n",
    "        item_feature_vector = item_features, # use item features defined above\n",
    "        user_feature_vector = user_features, # use user features defined above\n",
    "        reward_type = \"continuous\", #we use continuous reward\n",
    "        reward_std = 0.0,\n",
    "        obs_std = 0.0, #not add noise to the observation\n",
    "        step_per_episode = 10,\n",
    "        random_state = 12345,\n",
    ")\n",
    "visualize_interaction_on_environment(env, agent)"
   ]
  },
  {
   "attachments": {},
   "cell_type": "markdown",
   "metadata": {},
   "source": [
    "#### Case 3. Using Customized UserModel(reward_function)"
   ]
  },
  {
   "cell_type": "code",
   "execution_count": null,
   "metadata": {},
   "outputs": [],
   "source": [
    "from synthetic import BaseUserModel\n",
    "from synthetic import Action\n",
    "\n",
    "@dataclass\n",
    "class UserModel(BaseUserModel):\n",
    "    reward_type: str = \"continuous\"  # \"binary\"\n",
    "    reward_std: float = 0.0\n",
    "    item_feature_vector: Optional[np.ndarray] = None,\n",
    "    random_state: Optional[int] = None\n",
    "\n",
    "    def __post_init__(self):\n",
    "        check_scalar(\n",
    "            self.reward_std,\n",
    "            name=\"reward_std\",\n",
    "            target_type=float,\n",
    "        )\n",
    "\n",
    "        if self.reward_type not in [\"continuous\", \"binary\"]:\n",
    "            raise ValueError(\n",
    "                f'reward_type must be either \"continuous\" or \"binary\", but {self.reward_type} is given'\n",
    "            )\n",
    "\n",
    "        self.random_ = check_random_state(self.random_state)\n",
    "\n",
    "    def user_preference_dynamics(\n",
    "        self,\n",
    "        state: np.ndarray,\n",
    "        action: Action,\n",
    "        alpha: float = 1.0,\n",
    "    )-> np.ndarray:\n",
    "        \n",
    "        check_scalar(\n",
    "            state,\n",
    "            name=\"state\",\n",
    "            target_type=np.ndarray,\n",
    "        )\n",
    "        check_scalar(\n",
    "            action,\n",
    "            name=\"action\",\n",
    "            target_type=Action,\n",
    "        )\n",
    "\n",
    "        state = (state + alpha * state @ self.item_feature_vector[action] * self.item_feature_vector[action])\n",
    "        state = state / np.linalg.norm(state, ord=2)\n",
    "        return state\n",
    "\n",
    "    def reward_function(\n",
    "        self,\n",
    "        state: np.ndarray,\n",
    "        action: Action,\n",
    "    )-> float:\n",
    "        reward = self.cos_similar_function(state, action)\n",
    "\n",
    "        if self.reward_type is \"continuous\":\n",
    "            reward = reward + self.random_.normal(loc=0.0, scale=self.reward_std)\n",
    "\n",
    "        return reward\n",
    "\n",
    "    def cos_similar_function(\n",
    "        self,\n",
    "        state: np.ndarray,\n",
    "        action: Action,\n",
    "    )-> float:\n",
    "        inner = state @ self.item_feature_vector[action]\n",
    "        reward = inner / (np.linalg.norm(state, ord=2) * np.linalg.norm(self.item_feature_vector[action], ord=2))\n",
    "\n",
    "        return reward"
   ]
  },
  {
   "cell_type": "code",
   "execution_count": null,
   "metadata": {},
   "outputs": [],
   "source": [
    "# setup environment\n",
    "env = SyntheticEnv(\n",
    "    UserModel = UserModel,\n",
    "    reward_type = \"continuous\",\n",
    "    random_state=12345\n",
    ")\n",
    "visualize_interaction_on_environment(env, agent)\n"
   ]
  },
  {
   "attachments": {},
   "cell_type": "markdown",
   "metadata": {},
   "source": [
    "#### Case 4. Using Customized UserModel(user_preference_dynamics and reward_function)"
   ]
  },
  {
   "cell_type": "code",
   "execution_count": null,
   "metadata": {},
   "outputs": [],
   "source": [
    "from synthetic import BaseUserModel\n",
    "from synthetic import Action\n",
    "\n",
    "@dataclass\n",
    "class UserModel(BaseUserModel):\n",
    "    reward_type: str = \"continuous\"  # \"binary\"\n",
    "    reward_std: float = 0.0\n",
    "    item_feature_vector: Optional[np.ndarray] = None,\n",
    "    random_state: Optional[int] = None\n",
    "\n",
    "    def __post_init__(self):\n",
    "        check_scalar(\n",
    "            self.reward_std,\n",
    "            name=\"reward_std\",\n",
    "            target_type=float,\n",
    "        )\n",
    "\n",
    "        if self.reward_type not in [\"continuous\", \"binary\"]:\n",
    "            raise ValueError(\n",
    "                f'reward_type must be either \"continuous\" or \"binary\", but {self.reward_type} is given'\n",
    "            )\n",
    "\n",
    "        self.random_ = check_random_state(self.random_state)\n",
    "\n",
    "    def user_preference_dynamics(\n",
    "        self,\n",
    "        state: np.ndarray,\n",
    "        action: Action,\n",
    "        alpha: float = 1.0,\n",
    "    )-> np.ndarray:\n",
    "        \n",
    "        check_scalar(\n",
    "            state,\n",
    "            name=\"state\",\n",
    "            target_type=np.ndarray,\n",
    "        )\n",
    "        check_scalar(\n",
    "            action,\n",
    "            name=\"action\",\n",
    "            target_type=Action,\n",
    "        )\n",
    "\n",
    "        if self.reward == 1:\n",
    "            state = (state + alpha * state @ self.item_feature_vector[action] * self.item_feature_vector[action])\n",
    "            state = state / np.linalg.norm(state, ord=2)\n",
    "            \n",
    "        return state\n",
    "\n",
    "    def reward_function(\n",
    "        self,\n",
    "        state: np.ndarray,\n",
    "        action: Action,\n",
    "    )-> float:\n",
    "        self.reward = self.random_.binomial(n=1, p=self.sigmoid(self.cos_similar_function(state, action)))\n",
    "\n",
    "        if self.reward_type is \"continuous\":\n",
    "            reward = reward + self.random_.normal(loc=0.0, scale=self.reward_std)\n",
    "\n",
    "        return self.reward\n",
    "\n",
    "    def cos_similar_function(\n",
    "        self,\n",
    "        state: np.ndarray,\n",
    "        action: Action,\n",
    "    )-> float:\n",
    "        inner = state @ self.item_feature_vector[action]\n",
    "        reward = inner / (np.linalg.norm(state, ord=2) * np.linalg.norm(self.item_feature_vector[action], ord=2))\n",
    "\n",
    "        return reward\n",
    "    \n",
    "    def sigmoid(self, x: Union[float, np.ndarray]) -> Union[float, np.ndarray]:\n",
    "    # Sigmoid function\n",
    "        return 1 / (1 + np.exp(-x))"
   ]
  },
  {
   "cell_type": "code",
   "execution_count": null,
   "metadata": {},
   "outputs": [],
   "source": [
    "# setup environment\n",
    "env = SyntheticEnv(\n",
    "    UserModel = UserModel,\n",
    "    reward_type = \"binary\",\n",
    "    random_state=12345\n",
    ")\n",
    "visualize_interaction_on_environment(env, agent)\n"
   ]
  },
  {
   "attachments": {},
   "cell_type": "markdown",
   "metadata": {},
   "source": [
    "## 3. Customize Bidding Setup in RTB Env\n",
    "Here, we describe how the decision makers can customize their own RTB environment.  \n",
    "Specifically, they can setup their own action space and bid price calculation rules by defining the following modules.\n",
    "- `reward_predictor` in Bidder class  \n",
    "    We use predicted rewards to calculate the bid price.  \n",
    "        bid price = adjust rate * predicted reward ( * constant)\n",
    "    If None, we use the ground-truth reward instead of the predicted reward.  \n",
    "\n",
    "- `scaler` in Bidder class\n",
    "    Scaler defines constant in the bid price calculation.  \n",
    "        bid price = adjust rate * predicted reward ( * constant)\n",
    "        constant = scaler * standard_bid_price\n",
    "    where standard_bid_price indicates the average of standard_bid_price  \n",
    "    (bid price which has approximately 50% impression probability) over all ads.\n",
    "\n",
    "- `action_space` for agent  \n",
    "    We transform continual adjust rate space $[0, \\infty)$ into agent action space $[0.1, 10]$.  \n",
    "    Both discrete and continuous actions are acceptable.  \n",
    "    (We can tune multiplication of adjust rate using scaler.)\n",
    "    \n",
    "The arguments are given as follows:\n",
    "- `original_env`: Original RTB Environment.\n",
    "- `reward_predictor`: A machine learning model to predict the reward to determine the bidding price.\n",
    "- `scaler`: Scaling factor (constant value) used for bid price determination. (`None` for the auto-fitting)\n",
    "- `action_min`: Minimum value of adjust rate.\n",
    "- `action_max`: Maximum value of adjust rate.\n",
    "- `action_type`: Action type of the RL agent, which should either be \"discrete\" or \"continuous\".\n",
    "- `n_actions`: Number of \"discrete\" actions.\n",
    "- `action_meaning`: Mapping function of agent action index to the actual \"discrete\" action to take."
   ]
  },
  {
   "cell_type": "code",
   "execution_count": null,
   "metadata": {},
   "outputs": [],
   "source": [
    "# initialize environment\n",
    "env = SyntheticEnv(random_state=random_state)"
   ]
  },
  {
   "attachments": {},
   "cell_type": "markdown",
   "metadata": {},
   "source": [
    "#### Case 1. Defining Continuous Action Space"
   ]
  },
  {
   "cell_type": "code",
   "execution_count": null,
   "metadata": {},
   "outputs": [],
   "source": [
    "# let's customize the continuous action space\n",
    "env = SyntheticEnv(\n",
    "    original_env=env,\n",
    "    action_type=\"continuous\",\n",
    ")"
   ]
  },
  {
   "cell_type": "code",
   "execution_count": null,
   "metadata": {},
   "outputs": [],
   "source": [
    "print(custom_env.action_space)\n"
   ]
  },
  {
   "cell_type": "code",
   "execution_count": null,
   "metadata": {},
   "outputs": [],
   "source": [
    "# another example\n",
    "custom_env = SyntheticEnv(\n",
    "    original_env=env,\n",
    "    action_min=0.1,\n",
    "    action_max=0.5,\n",
    "    action_type=\"continuous\",\n",
    ")"
   ]
  },
  {
   "cell_type": "code",
   "execution_count": null,
   "metadata": {},
   "outputs": [],
   "source": [
    "print(custom_env.action_space)"
   ]
  },
  {
   "attachments": {},
   "cell_type": "markdown",
   "metadata": {},
   "source": [
    "#### Case 2. Defining Discrete Action Space"
   ]
  },
  {
   "cell_type": "code",
   "execution_count": null,
   "metadata": {},
   "outputs": [],
   "source": [
    "# let's customize the environment and discretize the action space\n",
    "custom_env = SyntheticEnv(\n",
    "    random_state=random_state,\n",
    "    action_type=\"discrete\",\n",
    ")"
   ]
  },
  {
   "cell_type": "code",
   "execution_count": null,
   "metadata": {},
   "outputs": [
    {
     "name": "stdout",
     "output_type": "stream",
     "text": [
      "Discrete(100)\n"
     ]
    },
    {
     "ename": "AttributeError",
     "evalue": "'SyntheticEnv' object has no attribute 'action_meaning'",
     "output_type": "error",
     "traceback": [
      "\u001b[0;31m---------------------------------------------------------------------------\u001b[0m",
      "\u001b[0;31mAttributeError\u001b[0m                            Traceback (most recent call last)",
      "Cell \u001b[0;32mIn [168], line 2\u001b[0m\n\u001b[1;32m      1\u001b[0m \u001b[39mprint\u001b[39m(custom_env\u001b[39m.\u001b[39maction_space)\n\u001b[0;32m----> 2\u001b[0m \u001b[39mprint\u001b[39m(custom_env\u001b[39m.\u001b[39;49maction_meaning)\n",
      "\u001b[0;31mAttributeError\u001b[0m: 'SyntheticEnv' object has no attribute 'action_meaning'"
     ]
    }
   ],
   "source": [
    "print(custom_env.action_space)\n"
   ]
  },
  {
   "cell_type": "code",
   "execution_count": null,
   "metadata": {},
   "outputs": [],
   "source": [
    "# another example\n",
    "custom_env = SyntheticEnv(\n",
    "    original_env=env,\n",
    "    action_type=\"discrete\",\n",
    "    n_actions=5,\n",
    "    action_meaning=np.arange(1, 6)\n",
    ")"
   ]
  },
  {
   "cell_type": "code",
   "execution_count": null,
   "metadata": {},
   "outputs": [],
   "source": [
    "print(custom_env.action_space)\n",
    "print(custom_env.action_meaning)"
   ]
  },
  {
   "attachments": {},
   "cell_type": "markdown",
   "metadata": {},
   "source": [
    "## Reference\n",
    "- Sarah Dean, Jamie Morgenstern. \\\n",
    "\"Preference Dynamics Under Personalized Recommendations.\", 2022.\n",
    "\n",
    "- Takuma Seno and Michita Imai. \\\n",
    "\"d3rlpy: An Offline Deep Reinforcement Library.\", 2021.\n",
    "\n",
    "- David Rohde, Stephen Bonner, Travis Dunlop, Flavian Vasile, Alexandros Karatzoglou. \\\n",
    "\"RecoGym: A Reinforcement Learning Environment for the Problem of Product Recommendation in Online Advertising.\" 2018.\n",
    "\n",
    "- Greg Brockman, Vicki Cheung, Ludwig Pettersson, Jonas Schneider, John Schulman, Jie Tang, and Wojciech Zaremba. \\\n",
    "\"OpenAI Gym.\", 2016."
   ]
  },
  {
   "cell_type": "code",
   "execution_count": null,
   "metadata": {},
   "outputs": [],
   "source": []
  }
 ],
 "metadata": {
  "kernelspec": {
   "display_name": "Python 3.10.6 64-bit ('3.10.6')",
   "language": "python",
   "name": "python3"
  },
  "language_info": {
   "codemirror_mode": {
    "name": "ipython",
    "version": 3
   },
   "file_extension": ".py",
   "mimetype": "text/x-python",
   "name": "python",
   "nbconvert_exporter": "python",
   "pygments_lexer": "ipython3",
   "version": "3.10.6"
  },
  "vscode": {
   "interpreter": {
    "hash": "70404ee114725fce8ed9e697d67827f8546c678889944e6d695790702cbfe1f5"
   }
  }
 },
 "nbformat": 4,
 "nbformat_minor": 4
}
