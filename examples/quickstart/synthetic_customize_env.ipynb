{
 "cells": [
  {
   "attachments": {},
   "cell_type": "markdown",
   "metadata": {},
   "source": [
    "# Quickstart Example with Synthetic Simulation (Customization)\n",
    "This notebook provides an example of customizing the Recommender environment.\n",
    "\n",
    "This example on the Synthetic Recommender Simulation consists of the following 3 steps:\n",
    "1. Setup Synthetic Recommender Simulation Environment and Interacting Online RL Agent\n",
    "2. Standardized Environment\n",
    "3. Customize Environmental Configuration\n",
    "\n",
    "\\* This library uses [d3rlpy](https://github.com/takuseno/d3rlpy)'s algorithm implementations.  "
   ]
  },
  {
   "cell_type": "code",
   "execution_count": 128,
   "metadata": {},
   "outputs": [
    {
     "name": "stdout",
     "output_type": "stream",
     "text": [
      "The autoreload extension is already loaded. To reload it, use:\n",
      "  %reload_ext autoreload\n"
     ]
    }
   ],
   "source": [
    "# delete later\n",
    "%load_ext autoreload\n",
    "%autoreload 2"
   ]
  },
  {
   "cell_type": "code",
   "execution_count": 129,
   "metadata": {},
   "outputs": [],
   "source": [
    "# delete later\n",
    "import warnings\n",
    "warnings.simplefilter('ignore')"
   ]
  },
  {
   "cell_type": "code",
   "execution_count": 130,
   "metadata": {},
   "outputs": [],
   "source": [
    "# delete later\n",
    "import sys\n",
    "sys.path.append('../')\n",
    "sys.path.append('../../')"
   ]
  },
  {
   "cell_type": "code",
   "execution_count": 131,
   "metadata": {},
   "outputs": [],
   "source": [
    "# import OFRL modules\n",
    "import ofrl\n",
    "from ofrl.policy import OnlineHead\n",
    "from ofrl.policy import DiscreteEpsilonGreedyHead\n",
    "\n",
    "# import synthetic modules\n",
    "# import synthetic\n",
    "from syntheticgym import SyntheticEnv\n",
    "from syntheticgym import RewardFunction\n",
    "from syntheticgym import StateTransition\n",
    "from syntheticgym import BaseRewardFunction\n",
    "from syntheticgym import BaseStateTransition\n",
    "\n",
    "# import d3rlpy algorithms\n",
    "from d3rlpy.algos import DiscreteRandomPolicy\n",
    "\n",
    "# import from other libraries\n",
    "import gym\n",
    "\n",
    "from sklearn.utils import check_random_state\n",
    "from sklearn.utils import check_scalar"
   ]
  },
  {
   "cell_type": "code",
   "execution_count": 132,
   "metadata": {},
   "outputs": [],
   "source": [
    "from dataclasses import dataclass\n",
    "from typing import Tuple, Union, Optional\n",
    "\n",
    "import numpy as np\n",
    "import pandas as pd\n",
    "\n",
    "import matplotlib.pyplot as plt\n",
    "import seaborn as sns\n",
    "\n",
    "%matplotlib inline"
   ]
  },
  {
   "cell_type": "code",
   "execution_count": 133,
   "metadata": {},
   "outputs": [
    {
     "name": "stdout",
     "output_type": "stream",
     "text": [
      "0.0.0\n"
     ]
    }
   ],
   "source": [
    "# version\n",
    "print(ofrl.__version__)"
   ]
  },
  {
   "cell_type": "code",
   "execution_count": 134,
   "metadata": {},
   "outputs": [],
   "source": [
    "# set random state\n",
    "random_state = 12345\n",
    "random_ = check_random_state(random_state)"
   ]
  },
  {
   "attachments": {},
   "cell_type": "markdown",
   "metadata": {},
   "source": [
    "## 1. Setup Synthetic Recommender Simulation Environment and Interacting Online RL Agent\n",
    "To begin with, we briefly describe the basic usage of the environment.\n",
    "\n",
    "#### RL setup for Recommendation\n",
    "In recommendation, the objective of the RL agent is to maximize reward\n",
    "\n",
    "We often formulate this recommendation problem as the following (Partially Observable) Markov Decision Process ((PO)MDP):\n",
    "- `state`: \n",
    "   - A vector representing user preference.  The preference changes over time in an episode by the actions presented by the RL agent.\n",
    "   - When the true state is unobservable, you can gain observation instead of state.\n",
    "- `action`:  Index of an item to present to the user.\n",
    "- `reward`: User engagement signal. Either binary or continuous.\n",
    "\n",
    "Let's see how it works!"
   ]
  },
  {
   "cell_type": "code",
   "execution_count": 135,
   "metadata": {},
   "outputs": [],
   "source": [
    "# setup environment\n",
    "env = SyntheticEnv(random_state=random_state)"
   ]
  },
  {
   "cell_type": "code",
   "execution_count": 136,
   "metadata": {},
   "outputs": [],
   "source": [
    "# define a random agent\n",
    "agent = DiscreteEpsilonGreedyHead(\n",
    "      base_policy = DiscreteRandomPolicy(),\n",
    "      name = 'random',\n",
    "      n_actions = env.n_actions,\n",
    "      epsilon = 1. ,\n",
    "      random_state = random_state, \n",
    ")"
   ]
  },
  {
   "cell_type": "code",
   "execution_count": 137,
   "metadata": {},
   "outputs": [
    {
     "name": "stdout",
     "output_type": "stream",
     "text": [
      "DiscreteEpsilonGreedyHead(base_policy=d3rlpy.algos.random_policy.DiscreteRandomPolicy(action_scaler=None, action_size=1, batch_size=1, gamma=0.0, generated_maxlen=100000, impl=None, n_frames=1, n_steps=1, real_ratio=1.0, reward_scaler=None, scaler=None), name='random', n_actions=100, epsilon=1.0, random_state=12345)\n",
      "Discrete(100)\n",
      "100\n",
      "100\n",
      "Box(-inf, inf, (10,), float64)\n"
     ]
    }
   ],
   "source": [
    "print(agent)\n",
    "print(env.action_space)\n",
    "print(env.n_actions)\n",
    "print(env.action_space.n)\n",
    "print(env.observation_space)"
   ]
  },
  {
   "cell_type": "code",
   "execution_count": 139,
   "metadata": {},
   "outputs": [
    {
     "data": {
      "application/vnd.jupyter.widget-view+json": {
       "model_id": "9a9444f31fb7440daa4195a582ea8011",
       "version_major": 2,
       "version_minor": 0
      },
      "text/plain": [
       "[calculate on-policy policy value]:   0%|          | 0/100 [00:00<?, ?it/s]"
      ]
     },
     "metadata": {},
     "output_type": "display_data"
    }
   ],
   "source": [
    "import ofrl\n",
    "from ofrl.ope.online import calc_on_policy_policy_value\n",
    "# calculate on-policy policy value\n",
    "on_policy_performance = calc_on_policy_policy_value(\n",
    "  env,\n",
    "  agent,\n",
    "  n_trajectories=100,\n",
    "  random_state=12345\n",
    ")"
   ]
  },
  {
   "cell_type": "code",
   "execution_count": 140,
   "metadata": {},
   "outputs": [
    {
     "name": "stdout",
     "output_type": "stream",
     "text": [
      "3.0244779810774065\n"
     ]
    }
   ],
   "source": [
    "print(on_policy_performance)"
   ]
  },
  {
   "cell_type": "code",
   "execution_count": 141,
   "metadata": {},
   "outputs": [],
   "source": [
    "# interact agent with the environment\n",
    "# only 6 lines are needed for RL interaction\n",
    "for episode in range(10):\n",
    "    obs, info = env.reset()\n",
    "    done = False\n",
    "\n",
    "    while not done:\n",
    "        action = agent.sample_action_online(obs)\n",
    "        obs, reward, done, truncated, info = env.step(action)"
   ]
  },
  {
   "cell_type": "code",
   "execution_count": 142,
   "metadata": {},
   "outputs": [
    {
     "name": "stdout",
     "output_type": "stream",
     "text": [
      "(10,)\n",
      "[ 0.16626022 -1.28222529 -0.59684868 -1.28831828  1.04649995 -0.04478404\n",
      "  2.2684836   0.2569045   0.53444324 -0.77788385]\n"
     ]
    }
   ],
   "source": [
    "# state \n",
    "print(obs.shape)\n",
    "print(obs)"
   ]
  },
  {
   "cell_type": "code",
   "execution_count": 143,
   "metadata": {},
   "outputs": [
    {
     "data": {
      "image/png": "[encoded data removed]",
      "text/plain": [
       "<Figure size 640x480 with 1 Axes>"
      ]
     },
     "metadata": {},
     "output_type": "display_data"
    }
   ],
   "source": [
    "# let's visualize the transition of reward\n",
    "def visualize_interaction_on_environment(env, agent):\n",
    "    obs, info = env.reset()\n",
    "    done = False\n",
    "    reward_list = []\n",
    "\n",
    "    while not done:\n",
    "        action = agent.sample_action_online(obs)\n",
    "        obs, reward, done, truncated, info = env.step(action)\n",
    "        reward_list.append(reward)\n",
    "\n",
    "    # plot\n",
    "    fig = plt.figure()\n",
    "    ax1 = fig.add_subplot(111)\n",
    "    ax1.plot(reward_list[:-1], label='reward', color='tab:orange')\n",
    "    ax1.set_xlabel('timestep')\n",
    "    ax1.set_ylabel('reward')\n",
    "    ax1.legend(loc='upper left')\n",
    "    plt.show()\n",
    "    \n",
    "visualize_interaction_on_environment(env, agent)"
   ]
  },
  {
   "attachments": {},
   "cell_type": "markdown",
   "metadata": {},
   "source": [
    "## 1. Standardized Environment\n",
    "\n",
    "We provide standardize recommender environment"
   ]
  },
  {
   "cell_type": "code",
   "execution_count": 144,
   "metadata": {},
   "outputs": [],
   "source": [
    "env = SyntheticEnv(random_state=12345)"
   ]
  },
  {
   "attachments": {},
   "cell_type": "markdown",
   "metadata": {},
   "source": [
    "## 2. Customize Environmental Configuration\n",
    "Now, we customize the recommender simulation environment.\n",
    "\n",
    "We have the following environmental configurations:\n",
    "- `UserModel`: User model which defines user_prefecture_dynamics and reward_function.\n",
    "- `n_items`: Number of items used for recommendation.\n",
    "- `n_users`: Number of users used for recommendation.\n",
    "- `item_feature_dim`: Dimensions of the item feature vectors.\n",
    "- `user_feature_dim`: Dimensions of the user feature vectors.\n",
    "- `item_feature_vector`: Feature vectors that characterizes each item.\n",
    "- `user_feature_vector`: Feature vectors that characterizes each user.\n",
    "- `reward_type`: Reward type (i.e., countinuous / binary).\n",
    "- `reward_std`: Standard deviation of the reward distribution. Applicable only when reward_type is \"continuous\".\n",
    "- `obs_std`: Standard deviation of the observation distribution.\n",
    "- `step_per_episode`: Number of timesteps in an episode.\n",
    "- `random_state` : Random state"
   ]
  },
  {
   "cell_type": "markdown",
   "metadata": {},
   "source": [
    "#### Case 1. Customizing the Basic Setup"
   ]
  },
  {
   "cell_type": "code",
   "execution_count": 145,
   "metadata": {},
   "outputs": [
    {
     "data": {
      "image/png": "[encoded data removed]",
      "text/plain": [
       "<Figure size 640x480 with 1 Axes>"
      ]
     },
     "metadata": {},
     "output_type": "display_data"
    }
   ],
   "source": [
    "env = SyntheticEnv(\n",
    "        StateTransition = StateTransition,\n",
    "        RewardFunction = RewardFunction,\n",
    "        state_dim = 10,\n",
    "        n_actions = 100,\n",
    "        action_context_dim = 10,\n",
    "        action_context = None,\n",
    "        reward_type = \"continuous\",  # \"binary\"\n",
    "        reward_std = 0.0,\n",
    "        obs_std = 0.0,\n",
    "        step_per_episode = 10,\n",
    "        random_state = 12345,\n",
    ")\n",
    "visualize_interaction_on_environment(env, agent)"
   ]
  },
  {
   "attachments": {},
   "cell_type": "markdown",
   "metadata": {},
   "source": [
    "#### Case 2. Defining the Items and Users"
   ]
  },
  {
   "cell_type": "code",
   "execution_count": 146,
   "metadata": {},
   "outputs": [
    {
     "data": {
      "text/html": [
       "<div>\n",
       "<style scoped>\n",
       "    .dataframe tbody tr th:only-of-type {\n",
       "        vertical-align: middle;\n",
       "    }\n",
       "\n",
       "    .dataframe tbody tr th {\n",
       "        vertical-align: top;\n",
       "    }\n",
       "\n",
       "    .dataframe thead th {\n",
       "        text-align: right;\n",
       "    }\n",
       "</style>\n",
       "<table border=\"1\" class=\"dataframe\">\n",
       "  <thead>\n",
       "    <tr style=\"text-align: right;\">\n",
       "      <th></th>\n",
       "      <th>feature1</th>\n",
       "      <th>feature2</th>\n",
       "      <th>feature3</th>\n",
       "      <th>feature4</th>\n",
       "      <th>feature5</th>\n",
       "    </tr>\n",
       "  </thead>\n",
       "  <tbody>\n",
       "    <tr>\n",
       "      <th>ad1</th>\n",
       "      <td>-1</td>\n",
       "      <td>1</td>\n",
       "      <td>-1</td>\n",
       "      <td>-1</td>\n",
       "      <td>1</td>\n",
       "    </tr>\n",
       "    <tr>\n",
       "      <th>ad2</th>\n",
       "      <td>1</td>\n",
       "      <td>1</td>\n",
       "      <td>1</td>\n",
       "      <td>1</td>\n",
       "      <td>1</td>\n",
       "    </tr>\n",
       "    <tr>\n",
       "      <th>ad3</th>\n",
       "      <td>1</td>\n",
       "      <td>-1</td>\n",
       "      <td>1</td>\n",
       "      <td>1</td>\n",
       "      <td>1</td>\n",
       "    </tr>\n",
       "    <tr>\n",
       "      <th>ad4</th>\n",
       "      <td>1</td>\n",
       "      <td>-1</td>\n",
       "      <td>-1</td>\n",
       "      <td>1</td>\n",
       "      <td>-1</td>\n",
       "    </tr>\n",
       "    <tr>\n",
       "      <th>ad5</th>\n",
       "      <td>-1</td>\n",
       "      <td>1</td>\n",
       "      <td>1</td>\n",
       "      <td>-1</td>\n",
       "      <td>-1</td>\n",
       "    </tr>\n",
       "    <tr>\n",
       "      <th>...</th>\n",
       "      <td>...</td>\n",
       "      <td>...</td>\n",
       "      <td>...</td>\n",
       "      <td>...</td>\n",
       "      <td>...</td>\n",
       "    </tr>\n",
       "    <tr>\n",
       "      <th>ad96</th>\n",
       "      <td>1</td>\n",
       "      <td>-1</td>\n",
       "      <td>-1</td>\n",
       "      <td>-1</td>\n",
       "      <td>1</td>\n",
       "    </tr>\n",
       "    <tr>\n",
       "      <th>ad97</th>\n",
       "      <td>1</td>\n",
       "      <td>1</td>\n",
       "      <td>-1</td>\n",
       "      <td>1</td>\n",
       "      <td>1</td>\n",
       "    </tr>\n",
       "    <tr>\n",
       "      <th>ad98</th>\n",
       "      <td>-1</td>\n",
       "      <td>-1</td>\n",
       "      <td>1</td>\n",
       "      <td>1</td>\n",
       "      <td>-1</td>\n",
       "    </tr>\n",
       "    <tr>\n",
       "      <th>ad99</th>\n",
       "      <td>-1</td>\n",
       "      <td>1</td>\n",
       "      <td>-1</td>\n",
       "      <td>1</td>\n",
       "      <td>1</td>\n",
       "    </tr>\n",
       "    <tr>\n",
       "      <th>ad100</th>\n",
       "      <td>-1</td>\n",
       "      <td>1</td>\n",
       "      <td>1</td>\n",
       "      <td>1</td>\n",
       "      <td>1</td>\n",
       "    </tr>\n",
       "  </tbody>\n",
       "</table>\n",
       "<p>100 rows × 5 columns</p>\n",
       "</div>"
      ],
      "text/plain": [
       "       feature1  feature2  feature3  feature4  feature5\n",
       "ad1          -1         1        -1        -1         1\n",
       "ad2           1         1         1         1         1\n",
       "ad3           1        -1         1         1         1\n",
       "ad4           1        -1        -1         1        -1\n",
       "ad5          -1         1         1        -1        -1\n",
       "...         ...       ...       ...       ...       ...\n",
       "ad96          1        -1        -1        -1         1\n",
       "ad97          1         1        -1         1         1\n",
       "ad98         -1        -1         1         1        -1\n",
       "ad99         -1         1        -1         1         1\n",
       "ad100        -1         1         1         1         1\n",
       "\n",
       "[100 rows x 5 columns]"
      ]
     },
     "execution_count": 146,
     "metadata": {},
     "output_type": "execute_result"
    }
   ],
   "source": [
    "# we use the following items for recommendation\n",
    "item_features = np.sign(random_.normal(size=(100, 5))).astype(int)\n",
    "item_names, feature_names = [f\"ad{i+1}\" for i in range(100)], [f\"feature{i+1}\" for i in range(5)]\n",
    "item_df = pd.DataFrame(item_features, columns=feature_names, index=item_names)\n",
    "item_df"
   ]
  },
  {
   "cell_type": "code",
   "execution_count": 147,
   "metadata": {},
   "outputs": [
    {
     "data": {
      "text/html": [
       "<div>\n",
       "<style scoped>\n",
       "    .dataframe tbody tr th:only-of-type {\n",
       "        vertical-align: middle;\n",
       "    }\n",
       "\n",
       "    .dataframe tbody tr th {\n",
       "        vertical-align: top;\n",
       "    }\n",
       "\n",
       "    .dataframe thead th {\n",
       "        text-align: right;\n",
       "    }\n",
       "</style>\n",
       "<table border=\"1\" class=\"dataframe\">\n",
       "  <thead>\n",
       "    <tr style=\"text-align: right;\">\n",
       "      <th></th>\n",
       "      <th>feature1</th>\n",
       "      <th>feature2</th>\n",
       "      <th>feature3</th>\n",
       "      <th>feature4</th>\n",
       "      <th>feature5</th>\n",
       "    </tr>\n",
       "  </thead>\n",
       "  <tbody>\n",
       "    <tr>\n",
       "      <th>user1</th>\n",
       "      <td>-1</td>\n",
       "      <td>-1</td>\n",
       "      <td>-1</td>\n",
       "      <td>1</td>\n",
       "      <td>1</td>\n",
       "    </tr>\n",
       "    <tr>\n",
       "      <th>user2</th>\n",
       "      <td>-1</td>\n",
       "      <td>-1</td>\n",
       "      <td>1</td>\n",
       "      <td>1</td>\n",
       "      <td>-1</td>\n",
       "    </tr>\n",
       "    <tr>\n",
       "      <th>user3</th>\n",
       "      <td>-1</td>\n",
       "      <td>-1</td>\n",
       "      <td>1</td>\n",
       "      <td>1</td>\n",
       "      <td>-1</td>\n",
       "    </tr>\n",
       "    <tr>\n",
       "      <th>user4</th>\n",
       "      <td>1</td>\n",
       "      <td>1</td>\n",
       "      <td>1</td>\n",
       "      <td>1</td>\n",
       "      <td>1</td>\n",
       "    </tr>\n",
       "    <tr>\n",
       "      <th>user5</th>\n",
       "      <td>-1</td>\n",
       "      <td>-1</td>\n",
       "      <td>1</td>\n",
       "      <td>1</td>\n",
       "      <td>1</td>\n",
       "    </tr>\n",
       "    <tr>\n",
       "      <th>...</th>\n",
       "      <td>...</td>\n",
       "      <td>...</td>\n",
       "      <td>...</td>\n",
       "      <td>...</td>\n",
       "      <td>...</td>\n",
       "    </tr>\n",
       "    <tr>\n",
       "      <th>user96</th>\n",
       "      <td>-1</td>\n",
       "      <td>-1</td>\n",
       "      <td>-1</td>\n",
       "      <td>-1</td>\n",
       "      <td>1</td>\n",
       "    </tr>\n",
       "    <tr>\n",
       "      <th>user97</th>\n",
       "      <td>1</td>\n",
       "      <td>-1</td>\n",
       "      <td>1</td>\n",
       "      <td>1</td>\n",
       "      <td>-1</td>\n",
       "    </tr>\n",
       "    <tr>\n",
       "      <th>user98</th>\n",
       "      <td>1</td>\n",
       "      <td>-1</td>\n",
       "      <td>1</td>\n",
       "      <td>-1</td>\n",
       "      <td>-1</td>\n",
       "    </tr>\n",
       "    <tr>\n",
       "      <th>user99</th>\n",
       "      <td>-1</td>\n",
       "      <td>1</td>\n",
       "      <td>-1</td>\n",
       "      <td>1</td>\n",
       "      <td>-1</td>\n",
       "    </tr>\n",
       "    <tr>\n",
       "      <th>user100</th>\n",
       "      <td>1</td>\n",
       "      <td>-1</td>\n",
       "      <td>-1</td>\n",
       "      <td>1</td>\n",
       "      <td>1</td>\n",
       "    </tr>\n",
       "  </tbody>\n",
       "</table>\n",
       "<p>100 rows × 5 columns</p>\n",
       "</div>"
      ],
      "text/plain": [
       "         feature1  feature2  feature3  feature4  feature5\n",
       "user1          -1        -1        -1         1         1\n",
       "user2          -1        -1         1         1        -1\n",
       "user3          -1        -1         1         1        -1\n",
       "user4           1         1         1         1         1\n",
       "user5          -1        -1         1         1         1\n",
       "...           ...       ...       ...       ...       ...\n",
       "user96         -1        -1        -1        -1         1\n",
       "user97          1        -1         1         1        -1\n",
       "user98          1        -1         1        -1        -1\n",
       "user99         -1         1        -1         1        -1\n",
       "user100         1        -1        -1         1         1\n",
       "\n",
       "[100 rows x 5 columns]"
      ]
     },
     "execution_count": 147,
     "metadata": {},
     "output_type": "execute_result"
    }
   ],
   "source": [
    "# we assume that the following 100 users \n",
    "user_features = np.sign(random_.normal(size=(100, 5))).astype(int)\n",
    "user_names, feature_names = [f\"user{i+1}\" for i in range(100)], [f\"feature{i+1}\" for i in range(5)]\n",
    "user_df = pd.DataFrame(user_features, columns=feature_names, index=user_names)\n",
    "user_df"
   ]
  },
  {
   "cell_type": "code",
   "execution_count": 148,
   "metadata": {},
   "outputs": [
    {
     "ename": "NameError",
     "evalue": "name 'UserModel' is not defined",
     "output_type": "error",
     "traceback": [
      "\u001b[0;31m---------------------------------------------------------------------------\u001b[0m",
      "\u001b[0;31mNameError\u001b[0m                                 Traceback (most recent call last)",
      "Cell \u001b[0;32mIn [148], line 3\u001b[0m\n\u001b[1;32m      1\u001b[0m \u001b[39m# using the above data, we can simulate an recommendation as follows\u001b[39;00m\n\u001b[1;32m      2\u001b[0m env \u001b[39m=\u001b[39m SyntheticEnv(\n\u001b[0;32m----> 3\u001b[0m         UserModel \u001b[39m=\u001b[39m UserModel,\n\u001b[1;32m      4\u001b[0m         n_items \u001b[39m=\u001b[39m \u001b[39m100\u001b[39m,  \u001b[39m# we use 100 items\u001b[39;00m\n\u001b[1;32m      5\u001b[0m         n_users \u001b[39m=\u001b[39m \u001b[39m100\u001b[39m,  \u001b[39m# 100 users exists\u001b[39;00m\n\u001b[1;32m      6\u001b[0m         item_feature_dim \u001b[39m=\u001b[39m \u001b[39m5\u001b[39m,  \u001b[39m#each item has 5 dimensional features\u001b[39;00m\n\u001b[1;32m      7\u001b[0m         user_feature_dim \u001b[39m=\u001b[39m \u001b[39m5\u001b[39m,  \u001b[39m#each user has 5 dimensional features\u001b[39;00m\n\u001b[1;32m      8\u001b[0m         item_feature_vector \u001b[39m=\u001b[39m item_features, \u001b[39m# use item features defined above\u001b[39;00m\n\u001b[1;32m      9\u001b[0m         user_feature_vector \u001b[39m=\u001b[39m user_features, \u001b[39m# use user features defined above\u001b[39;00m\n\u001b[1;32m     10\u001b[0m         reward_type \u001b[39m=\u001b[39m \u001b[39m\"\u001b[39m\u001b[39mcontinuous\u001b[39m\u001b[39m\"\u001b[39m, \u001b[39m#we use continuous reward\u001b[39;00m\n\u001b[1;32m     11\u001b[0m         reward_std \u001b[39m=\u001b[39m \u001b[39m0.0\u001b[39m,\n\u001b[1;32m     12\u001b[0m         obs_std \u001b[39m=\u001b[39m \u001b[39m0.0\u001b[39m, \u001b[39m#not add noise to the observation\u001b[39;00m\n\u001b[1;32m     13\u001b[0m         step_per_episode \u001b[39m=\u001b[39m \u001b[39m10\u001b[39m,\n\u001b[1;32m     14\u001b[0m         random_state \u001b[39m=\u001b[39m \u001b[39m12345\u001b[39m,\n\u001b[1;32m     15\u001b[0m )\n\u001b[1;32m     16\u001b[0m visualize_interaction_on_environment(env, agent)\n",
      "\u001b[0;31mNameError\u001b[0m: name 'UserModel' is not defined"
     ]
    }
   ],
   "source": [
    "# using the above data, we can simulate an recommendation as follows\n",
    "env = SyntheticEnv(\n",
    "        UserModel = UserModel,\n",
    "        n_items = 100,  # we use 100 items\n",
    "        n_users = 100,  # 100 users exists\n",
    "        item_feature_dim = 5,  #each item has 5 dimensional features\n",
    "        user_feature_dim = 5,  #each user has 5 dimensional features\n",
    "        item_feature_vector = item_features, # use item features defined above\n",
    "        user_feature_vector = user_features, # use user features defined above\n",
    "        reward_type = \"continuous\", #we use continuous reward\n",
    "        reward_std = 0.0,\n",
    "        obs_std = 0.0, #not add noise to the observation\n",
    "        step_per_episode = 10,\n",
    "        random_state = 12345,\n",
    ")\n",
    "visualize_interaction_on_environment(env, agent)"
   ]
  },
  {
   "attachments": {},
   "cell_type": "markdown",
   "metadata": {},
   "source": [
    "#### Case 3. Using Customized UserModel(reward_function)"
   ]
  },
  {
   "cell_type": "code",
   "execution_count": null,
   "metadata": {},
   "outputs": [],
   "source": [
    "from synthetic import BaseUserModel\n",
    "from synthetic import Action\n",
    "\n",
    "@dataclass\n",
    "class UserModel(BaseUserModel):\n",
    "    reward_type: str = \"continuous\"  # \"binary\"\n",
    "    reward_std: float = 0.0\n",
    "    item_feature_vector: Optional[np.ndarray] = None,\n",
    "    random_state: Optional[int] = None\n",
    "\n",
    "    def __post_init__(self):\n",
    "        check_scalar(\n",
    "            self.reward_std,\n",
    "            name=\"reward_std\",\n",
    "            target_type=float,\n",
    "        )\n",
    "\n",
    "        if self.reward_type not in [\"continuous\", \"binary\"]:\n",
    "            raise ValueError(\n",
    "                f'reward_type must be either \"continuous\" or \"binary\", but {self.reward_type} is given'\n",
    "            )\n",
    "\n",
    "        self.random_ = check_random_state(self.random_state)\n",
    "\n",
    "    def user_preference_dynamics(\n",
    "        self,\n",
    "        state: np.ndarray,\n",
    "        action: Action,\n",
    "        alpha: float = 1.0,\n",
    "    )-> np.ndarray:\n",
    "        \n",
    "        check_scalar(\n",
    "            state,\n",
    "            name=\"state\",\n",
    "            target_type=np.ndarray,\n",
    "        )\n",
    "        check_scalar(\n",
    "            action,\n",
    "            name=\"action\",\n",
    "            target_type=Action,\n",
    "        )\n",
    "\n",
    "        state = (state + alpha * state @ self.item_feature_vector[action] * self.item_feature_vector[action])\n",
    "        state = state / np.linalg.norm(state, ord=2)\n",
    "        return state\n",
    "\n",
    "    def reward_function(\n",
    "        self,\n",
    "        state: np.ndarray,\n",
    "        action: Action,\n",
    "    )-> float:\n",
    "        reward = self.cos_similar_function(state, action)\n",
    "\n",
    "        if self.reward_type is \"continuous\":\n",
    "            reward = reward + self.random_.normal(loc=0.0, scale=self.reward_std)\n",
    "\n",
    "        return reward\n",
    "\n",
    "    def cos_similar_function(\n",
    "        self,\n",
    "        state: np.ndarray,\n",
    "        action: Action,\n",
    "    )-> float:\n",
    "        inner = state @ self.item_feature_vector[action]\n",
    "        reward = inner / (np.linalg.norm(state, ord=2) * np.linalg.norm(self.item_feature_vector[action], ord=2))\n",
    "\n",
    "        return reward"
   ]
  },
  {
   "cell_type": "code",
   "execution_count": null,
   "metadata": {},
   "outputs": [],
   "source": [
    "# setup environment\n",
    "env = SyntheticEnv(\n",
    "    UserModel = UserModel,\n",
    "    reward_type = \"continuous\",\n",
    "    random_state=12345\n",
    ")\n",
    "visualize_interaction_on_environment(env, agent)\n"
   ]
  },
  {
   "attachments": {},
   "cell_type": "markdown",
   "metadata": {},
   "source": [
    "#### Case 4. Using Customized UserModel(user_preference_dynamics and reward_function)"
   ]
  },
  {
   "cell_type": "code",
   "execution_count": null,
   "metadata": {},
   "outputs": [],
   "source": [
    "from synthetic import BaseUserModel\n",
    "from synthetic import Action\n",
    "\n",
    "@dataclass\n",
    "class UserModel(BaseUserModel):\n",
    "    reward_type: str = \"continuous\"  # \"binary\"\n",
    "    reward_std: float = 0.0\n",
    "    item_feature_vector: Optional[np.ndarray] = None,\n",
    "    random_state: Optional[int] = None\n",
    "\n",
    "    def __post_init__(self):\n",
    "        check_scalar(\n",
    "            self.reward_std,\n",
    "            name=\"reward_std\",\n",
    "            target_type=float,\n",
    "        )\n",
    "\n",
    "        if self.reward_type not in [\"continuous\", \"binary\"]:\n",
    "            raise ValueError(\n",
    "                f'reward_type must be either \"continuous\" or \"binary\", but {self.reward_type} is given'\n",
    "            )\n",
    "\n",
    "        self.random_ = check_random_state(self.random_state)\n",
    "\n",
    "    def user_preference_dynamics(\n",
    "        self,\n",
    "        state: np.ndarray,\n",
    "        action: Action,\n",
    "        alpha: float = 1.0,\n",
    "    )-> np.ndarray:\n",
    "        \n",
    "        check_scalar(\n",
    "            state,\n",
    "            name=\"state\",\n",
    "            target_type=np.ndarray,\n",
    "        )\n",
    "        check_scalar(\n",
    "            action,\n",
    "            name=\"action\",\n",
    "            target_type=Action,\n",
    "        )\n",
    "\n",
    "        if self.reward == 1:\n",
    "            state = (state + alpha * state @ self.item_feature_vector[action] * self.item_feature_vector[action])\n",
    "            state = state / np.linalg.norm(state, ord=2)\n",
    "            \n",
    "        return state\n",
    "\n",
    "    def reward_function(\n",
    "        self,\n",
    "        state: np.ndarray,\n",
    "        action: Action,\n",
    "    )-> float:\n",
    "        self.reward = self.random_.binomial(n=1, p=self.sigmoid(self.cos_similar_function(state, action)))\n",
    "\n",
    "        if self.reward_type is \"continuous\":\n",
    "            reward = reward + self.random_.normal(loc=0.0, scale=self.reward_std)\n",
    "\n",
    "        return self.reward\n",
    "\n",
    "    def cos_similar_function(\n",
    "        self,\n",
    "        state: np.ndarray,\n",
    "        action: Action,\n",
    "    )-> float:\n",
    "        inner = state @ self.item_feature_vector[action]\n",
    "        reward = inner / (np.linalg.norm(state, ord=2) * np.linalg.norm(self.item_feature_vector[action], ord=2))\n",
    "\n",
    "        return reward\n",
    "    \n",
    "    def sigmoid(self, x: Union[float, np.ndarray]) -> Union[float, np.ndarray]:\n",
    "    # Sigmoid function\n",
    "        return 1 / (1 + np.exp(-x))"
   ]
  },
  {
   "cell_type": "code",
   "execution_count": null,
   "metadata": {},
   "outputs": [],
   "source": [
    "# setup environment\n",
    "env = SyntheticEnv(\n",
    "    UserModel = UserModel,\n",
    "    reward_type = \"binary\",\n",
    "    random_state=12345\n",
    ")\n",
    "visualize_interaction_on_environment(env, agent)\n"
   ]
  },
  {
   "attachments": {},
   "cell_type": "markdown",
   "metadata": {},
   "source": [
    "## Reference\n",
    "- Sarah Dean, Jamie Morgenstern. \\\n",
    "\"Preference Dynamics Under Personalized Recommendations.\", 2022.\n",
    "\n",
    "- Takuma Seno and Michita Imai. \\\n",
    "\"d3rlpy: An Offline Deep Reinforcement Library.\", 2021.\n",
    "\n",
    "- David Rohde, Stephen Bonner, Travis Dunlop, Flavian Vasile, Alexandros Karatzoglou. \\\n",
    "\"RecoGym: A Reinforcement Learning Environment for the Problem of Product Recommendation in Online Advertising.\" 2018.\n",
    "\n",
    "- Greg Brockman, Vicki Cheung, Ludwig Pettersson, Jonas Schneider, John Schulman, Jie Tang, and Wojciech Zaremba. \\\n",
    "\"OpenAI Gym.\", 2016."
   ]
  },
  {
   "cell_type": "code",
   "execution_count": null,
   "metadata": {},
   "outputs": [],
   "source": []
  }
 ],
 "metadata": {
  "kernelspec": {
   "display_name": "Python 3.10.6 64-bit ('3.10.6')",
   "language": "python",
   "name": "python3"
  },
  "language_info": {
   "codemirror_mode": {
    "name": "ipython",
    "version": 3
   },
   "file_extension": ".py",
   "mimetype": "text/x-python",
   "name": "python",
   "nbconvert_exporter": "python",
   "pygments_lexer": "ipython3",
   "version": "3.10.6"
  },
  "vscode": {
   "interpreter": {
    "hash": "70404ee114725fce8ed9e697d67827f8546c678889944e6d695790702cbfe1f5"
   }
  }
 },
 "nbformat": 4,
 "nbformat_minor": 4
}
