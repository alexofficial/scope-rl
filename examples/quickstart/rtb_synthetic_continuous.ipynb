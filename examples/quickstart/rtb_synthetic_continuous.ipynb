{
 "cells": [
  {
   "cell_type": "markdown",
   "metadata": {},
   "source": [
    "# Quickstart Example with Synthetic RTB Simulation and Dataset (Continuous)\n",
    "This notebook provides an example of conducting **Off-policy Evaluation (OPE) and Offline Reinforcement Learning (Offline RL) with synthetic Real-Time Bidding (RTB) dataset**.\n",
    "\n",
    "Our example with Synthetic RTB Simualtion and Dataset contains the following 5 steps:\n",
    "0. (Setup Synthetic RTB Simulation Environment and Online RL)\n",
    "1. Synthetic Data Generation\n",
    "2. Offline Reinforcement Learning\n",
    "3. Off-Policy Evaluation and Evaluation of Offline RL methods\n",
    "4. Evaluation of OPE methods\n",
    "\n",
    "We also show how to visualize the results in Appendix.\n",
    "\n",
    "\\* This library uses [d3rlpy](https://github.com/takuseno/d3rlpy)'s algorithm implementations of online/offline rl policies and model-based evaluation.  \n",
    "\\* Also, our implementations of OPE are highly inspired by [Open Bandit Pipeline](https://github.com/st-tech/zr-obp)."
   ]
  },
  {
   "cell_type": "code",
   "execution_count": 1,
   "metadata": {},
   "outputs": [],
   "source": [
    "# delete later\n",
    "%load_ext autoreload\n",
    "%autoreload 2"
   ]
  },
  {
   "cell_type": "code",
   "execution_count": 2,
   "metadata": {},
   "outputs": [],
   "source": [
    "# delete later\n",
    "import warnings\n",
    "warnings.simplefilter('ignore')"
   ]
  },
  {
   "cell_type": "code",
   "execution_count": 3,
   "metadata": {},
   "outputs": [],
   "source": [
    "# delete later\n",
    "import sys\n",
    "sys.path.append('../')\n",
    "sys.path.append('../../')"
   ]
  },
  {
   "cell_type": "code",
   "execution_count": 4,
   "metadata": {},
   "outputs": [],
   "source": [
    "# import offlinegym modules\n",
    "import offlinegym\n",
    "from rtbgym import RTBEnv, CustomizedRTBEnv\n",
    "from offlinegym.dataset import SyntheticDataset\n",
    "from offlinegym.policy import OnlineHead, ContinuousTruncatedGaussianHead\n",
    "from offlinegym.ope.online import (\n",
    "    calc_on_policy_policy_value,\n",
    "    visualize_on_policy_policy_value,\n",
    ")\n",
    "\n",
    "# import d3rlpy algorithms\n",
    "from d3rlpy.algos import DiscreteRandomPolicy\n",
    "from d3rlpy.algos import RandomPolicy as ContinuousRandomPolicy\n",
    "from d3rlpy.preprocessing import MinMaxActionScaler\n",
    "\n",
    "# import from other libraries\n",
    "import torch\n",
    "from sklearn.linear_model import LogisticRegression\n",
    "from sklearn.model_selection import train_test_split"
   ]
  },
  {
   "cell_type": "code",
   "execution_count": 5,
   "metadata": {},
   "outputs": [],
   "source": [
    "import pickle\n",
    "from glob import glob\n",
    "from tqdm import tqdm\n",
    "\n",
    "import numpy as np\n",
    "import pandas as pd\n",
    "\n",
    "import matplotlib.pyplot as plt\n",
    "import seaborn as sns\n",
    "\n",
    "%matplotlib inline"
   ]
  },
  {
   "cell_type": "code",
   "execution_count": 6,
   "metadata": {},
   "outputs": [
    {
     "name": "stdout",
     "output_type": "stream",
     "text": [
      "0.0.0\n"
     ]
    }
   ],
   "source": [
    "# version\n",
    "print(offlinegym.__version__)"
   ]
  },
  {
   "cell_type": "code",
   "execution_count": 7,
   "metadata": {},
   "outputs": [],
   "source": [
    "# set random state\n",
    "random_state = 12345"
   ]
  },
  {
   "cell_type": "code",
   "execution_count": 8,
   "metadata": {},
   "outputs": [],
   "source": [
    "# log directory\n",
    "from pathlib import Path\n",
    "Path(\"logs/\").mkdir(exist_ok=True)"
   ]
  },
  {
   "cell_type": "markdown",
   "metadata": {},
   "source": [
    "## 0. (Setup Synthetic RTB Simulation Environment and Online RL)\n",
    "To begin with, we briefly describe how the RTB environment works for the preparation.\n",
    "\n",
    "#### RL setup for RTB\n",
    "In RTB, the objective of the RL agent is to maximize some KPIs (such as numbers of click or conversion) within a episode under the given budget constraints.  \n",
    "We often try to achieve this by adjusting bidding price function parameter $\\alpha$. By using $\\alpha$, we adjust bid price as follows.  \n",
    "$bid_{t,i} = \\alpha \\cdot r^{\\ast}$, \n",
    "where $r^{\\ast}$ denotes predicted or expected reward (KPIs).\n",
    "\n",
    "We often formulate this RTB problem as the following Constrained Markov Decision Process (CMDP):\n",
    "- `timestep`: One episode (a day or a week) consists of several timesteps (24 hours or seven days, for instance).\n",
    "- `state`: We observe statistical feedback from environment at each timestep, which include following informations.\n",
    "  - timestep\n",
    "  - remaining budget\n",
    "  - impression level features (budget comsuption rate, cost per mille of impressions, auction winning rate, reward) at previous timestep\n",
    "  - adjust rate (RL agent's decision making) at previous timestep\n",
    "- `action`: Agent chooses adjust rate parameter $\\alpha$ to maximize KPIs.\n",
    "- `reward`: Total number of clicks or conversions obtained during the timestep.\n",
    "- `constraints`: The pre-determined episodic budget should not be exceeded.\n",
    "\n",
    "For more about the environmental configuration , please refer to [examples/quickstart/rtb_synthetic_customize_env.ipynb](https://github.com/negocia-inc/rtb_reinforcement_learing/blob/ope/examples/quickstart/rtb_synthetic_customize_env.ipynb).\n",
    "\n",
    "Let's see how it works!"
   ]
  },
  {
   "cell_type": "code",
   "execution_count": 9,
   "metadata": {},
   "outputs": [],
   "source": [
    "# setup environment\n",
    "env = RTBEnv(random_state=random_state)"
   ]
  },
  {
   "cell_type": "code",
   "execution_count": 10,
   "metadata": {},
   "outputs": [],
   "source": [
    "# define random agent\n",
    "agent = OnlineHead(\n",
    "    ContinuousRandomPolicy(\n",
    "        action_scaler=MinMaxActionScaler(\n",
    "            minimum=0.1,  # minimum value that policy can take\n",
    "            maximum=10,  # maximum value that policy can take\n",
    "        )\n",
    "    )\n",
    ")"
   ]
  },
  {
   "cell_type": "code",
   "execution_count": 11,
   "metadata": {},
   "outputs": [],
   "source": [
    "# interact agent with environment\n",
    "# only 6 lines needed for RL interaction\n",
    "for episode in range(10):\n",
    "    obs = env.reset()\n",
    "    done = False\n",
    "\n",
    "    while not done:\n",
    "        action = agent.predict_online(obs)\n",
    "        obs, reward, done, info = env.step(action)"
   ]
  },
  {
   "cell_type": "code",
   "execution_count": 12,
   "metadata": {},
   "outputs": [
    {
     "name": "stdout",
     "output_type": "stream",
     "text": [
      "['timestep', 'remaining_budget', 'budget_consumption_rate', 'cost_per_mille_of_impression', 'winning_rate', 'reward', 'adjust_rate']\n",
      "(7,)\n"
     ]
    }
   ],
   "source": [
    "# state contains the following statistical feedback from environment\n",
    "print(env.obs_keys)\n",
    "print(obs.shape)"
   ]
  },
  {
   "cell_type": "code",
   "execution_count": 13,
   "metadata": {},
   "outputs": [
    {
     "data": {
      "image/png": "[encoded data removed]",
      "text/plain": [
       "<Figure size 432x288 with 2 Axes>"
      ]
     },
     "metadata": {
      "needs_background": "light"
     },
     "output_type": "display_data"
    }
   ],
   "source": [
    "# let's visualize the transition of remaing budget and cumulative reward\n",
    "# our goal is to gain a policy (i.e., agent) which maximize the cumulative reward under budget constraints using RL.  \n",
    "# for more visulization, please see appendix.\n",
    "obs = env.reset()\n",
    "done = False\n",
    "remaining_budget = [obs[1]]\n",
    "cumulative_reward = [0]\n",
    "\n",
    "while not done:\n",
    "    action = agent.predict_online(obs)\n",
    "    obs, reward, done, info = env.step(action)\n",
    "    remaining_budget.append(obs[1])\n",
    "    cumulative_reward.append(cumulative_reward[-1] + reward)\n",
    "\n",
    "# plot\n",
    "fig = plt.figure()\n",
    "ax1 = fig.add_subplot(111)\n",
    "ax1.plot(remaining_budget[:-1], label='remaining budget')\n",
    "ax2 = ax1.twinx()\n",
    "ax2.plot(cumulative_reward[:-1], label='cumulative reward', color='tab:orange')\n",
    "ax1.set_xlabel('timestep')\n",
    "ax1.set_ylabel('remainig budget')\n",
    "ax1.set_ylim(0, env.initial_budget + 100)\n",
    "ax2.set_ylabel('reward (coversion)')\n",
    "ax1.legend(loc='upper left')\n",
    "ax2.legend(loc='upper right')\n",
    "plt.show()"
   ]
  },
  {
   "cell_type": "markdown",
   "metadata": {},
   "source": [
    "We see that the random policy soon run out the budget.  \n",
    "Our goal is to derive a policy that controls the adjust rate (i.e., action) to maximize the reward within the given budget constraints.\n",
    "\n",
    "For the customization of environmental configuration (e.g., WinningPriceDistribution) and visualization, please refer to `rtb_synthetic_customize_environment.ipynb`."
   ]
  },
  {
   "cell_type": "markdown",
   "metadata": {},
   "source": [
    "#### Customization of bidding setup in RTB Env\n",
    "Here, we describe how the decision makers customize their own RTB environment.  \n",
    "Specifically, they can setup their own action space and bid price calculation rules by defining the following modules.\n",
    "- `reward_predictor` in Bidder class  \n",
    "    We use predicted rewards to calculate bid price.  \n",
    "        bid price = adjust rate * predicted reward ( * constant)\n",
    "    If None, we use ground-truth reward instead of predicted reward.  \n",
    "\n",
    "- `scaler` in Bidder class\n",
    "    Scaler defines constant in the bid price calculation.  \n",
    "        bid price = adjust rate * predicted reward ( * constant)\n",
    "        constant = scaler * standard_bid_price\n",
    "    where standard_bid_price indicates the average of standard_bid_price  \n",
    "    (bid price which has approximately 50% impression probability) over all ads.\n",
    "\n",
    "- `action_space` for agent  \n",
    "    We transform continual adjust rate space $[0, \\infty)$ into agent action space $[0.1, 10]$.  \n",
    "    Both discrete and continuous actions are acceptable.  \n",
    "    (We can tune multiplication of adjust rate using scaler.)\n",
    "    \n",
    "The arguments are given as follows:\n",
    "- `original_env`: Original RTB Environment.\n",
    "- `reward_predictor`: A machine learning model to predict the reward to determine the bidding price.\n",
    "- `scaler`: Scaling factor (constant value) used for bid price determination. (`None` for the auto-fitting)\n",
    "- `action_min`: Minimum value of adjust rate.\n",
    "- `action_max`: Maximum value of adjust rate.\n",
    "- `action_type`: Action type of the RL agent, which is either \"discrete\" or \"continuous\".\n",
    "- `n_actions`: Number of \"discrete\" actions.\n",
    "- `action_meaning`: Mapping function of agent action index to the actual \"discrete\" action to take."
   ]
  },
  {
   "cell_type": "code",
   "execution_count": 14,
   "metadata": {},
   "outputs": [],
   "source": [
    "# now, let's customize the environment with reward predictor\n",
    "env = CustomizedRTBEnv(\n",
    "    original_env=env,\n",
    "    reward_predictor=LogisticRegression(),\n",
    "    action_type=\"continuous\",\n",
    ")"
   ]
  },
  {
   "cell_type": "code",
   "execution_count": 15,
   "metadata": {},
   "outputs": [],
   "source": [
    "# interact agent with environment\n",
    "for episode in range(10):\n",
    "    obs = env.reset()\n",
    "    done = False\n",
    "\n",
    "    while not done:\n",
    "        action = agent.predict_online(obs)\n",
    "        obs, reward, done, info = env.step(action)"
   ]
  },
  {
   "cell_type": "code",
   "execution_count": 16,
   "metadata": {},
   "outputs": [
    {
     "name": "stdout",
     "output_type": "stream",
     "text": [
      "Box(0.1, 10.0, (1,), float64)\n"
     ]
    }
   ],
   "source": [
    "print(env.action_space)"
   ]
  },
  {
   "cell_type": "markdown",
   "metadata": {},
   "source": [
    "#### Online RL and comparison of the policies\n",
    "We now learn an online RL policy and compare it to random policy, using on-policy policy estimation."
   ]
  },
  {
   "cell_type": "code",
   "execution_count": 17,
   "metadata": {},
   "outputs": [],
   "source": [
    "from d3rlpy.algos import SAC\n",
    "from d3rlpy.models.encoders import VectorEncoderFactory\n",
    "from d3rlpy.models.q_functions import MeanQFunctionFactory\n",
    "from d3rlpy.online.buffers import ReplayBuffer\n",
    "\n",
    "# model\n",
    "sac = SAC(\n",
    "    actor_encoder_factory=VectorEncoderFactory(hidden_units=[30, 30]),\n",
    "    critic_encoder_factory=VectorEncoderFactory(hidden_units=[30, 30]),\n",
    "    q_func_factory=MeanQFunctionFactory(),\n",
    "    use_gpu=torch.cuda.is_available(),\n",
    "    action_scaler=MinMaxActionScaler(\n",
    "        minimum=env.action_space.low,   # 0.1\n",
    "        maximum=env.action_space.high,  # 10\n",
    "    ),\n",
    ")\n",
    "# setup replay buffer\n",
    "buffer = ReplayBuffer(\n",
    "    maxlen=10000,\n",
    "    env=env,\n",
    ")"
   ]
  },
  {
   "cell_type": "code",
   "execution_count": 18,
   "metadata": {},
   "outputs": [
    {
     "name": "stdout",
     "output_type": "stream",
     "text": [
      "2022-02-03 17:10.22 [info     ] Directory is created at d3rlpy_logs/SAC_online_20220203171022\n",
      "2022-02-03 17:10.22 [debug    ] Fitting action scaler...       action_scler=min_max\n",
      "2022-02-03 17:10.22 [debug    ] Building model...\n",
      "2022-02-03 17:10.22 [debug    ] Model has been built.\n",
      "2022-02-03 17:10.22 [info     ] Parameters are saved to d3rlpy_logs/SAC_online_20220203171022/params.json params={'action_scaler': {'type': 'min_max', 'params': {'minimum': array([0.1]), 'maximum': array([10.])}}, 'actor_encoder_factory': {'type': 'vector', 'params': {'hidden_units': [100], 'activation': 'relu', 'use_batch_norm': False, 'dropout_rate': None, 'use_dense': False}}, 'actor_learning_rate': 0.0003, 'actor_optim_factory': {'optim_cls': 'Adam', 'betas': (0.9, 0.999), 'eps': 1e-08, 'weight_decay': 0, 'amsgrad': False}, 'batch_size': 256, 'critic_encoder_factory': {'type': 'vector', 'params': {'hidden_units': [100], 'activation': 'relu', 'use_batch_norm': False, 'dropout_rate': None, 'use_dense': False}}, 'critic_learning_rate': 0.0003, 'critic_optim_factory': {'optim_cls': 'Adam', 'betas': (0.9, 0.999), 'eps': 1e-08, 'weight_decay': 0, 'amsgrad': False}, 'gamma': 0.99, 'generated_maxlen': 100000, 'initial_temperature': 1.0, 'n_critics': 2, 'n_frames': 1, 'n_steps': 1, 'q_func_factory': {'type': 'mean', 'params': {'bootstrap': False, 'share_encoder': False}}, 'real_ratio': 1.0, 'reward_scaler': None, 'scaler': None, 'target_reduction_type': 'min', 'tau': 0.005, 'temp_learning_rate': 0.0003, 'temp_optim_factory': {'optim_cls': 'Adam', 'betas': (0.9, 0.999), 'eps': 1e-08, 'weight_decay': 0, 'amsgrad': False}, 'use_gpu': None, 'algorithm': 'SAC', 'observation_shape': (7,), 'action_size': 1}\n"
     ]
    },
    {
     "name": "stderr",
     "output_type": "stream",
     "text": [
      "  1%|          | 990/100000 [00:04<09:34, 172.26it/s] "
     ]
    },
    {
     "name": "stdout",
     "output_type": "stream",
     "text": [
      "2022-02-03 17:10.27 [info     ] Model parameters are saved to d3rlpy_logs/SAC_online_20220203171022/model_1000.pt\n",
      "2022-02-03 17:10.27 [info     ] SAC_online_20220203171022: epoch=1 step=1000 epoch=1 metrics={'time_inference': 0.0004972310066223145, 'time_environment_step': 0.0006343558175223214, 'time_step': 0.0046746284961700435, 'rollout_return': 13.352, 'time_sample_batch': 0.0002375070579992831, 'time_algorithm_update': 0.004802785466044425, 'temp_loss': -23.52747313136596, 'temp': 1.0129914887386469, 'critic_loss': 49942.64975208676, 'actor_loss': 9.688817156507742, 'evaluation': 13.9} step=1000\n"
     ]
    },
    {
     "name": "stderr",
     "output_type": "stream",
     "text": [
      "  2%|▏         | 1996/100000 [00:10<09:44, 167.62it/s]"
     ]
    },
    {
     "name": "stdout",
     "output_type": "stream",
     "text": [
      "2022-02-03 17:10.33 [info     ] Model parameters are saved to d3rlpy_logs/SAC_online_20220203171022/model_2000.pt\n",
      "2022-02-03 17:10.33 [info     ] SAC_online_20220203171022: epoch=2 step=2000 epoch=2 metrics={'time_inference': 0.0004877653121948242, 'time_environment_step': 0.0006450440543038505, 'time_sample_batch': 0.00023920536041259765, 'time_algorithm_update': 0.0045246765613555905, 'temp_loss': -5.33742641055584, 'temp': 1.032056751012802, 'critic_loss': 184.39332328796388, 'actor_loss': 5.280888223499059, 'time_step': 0.005881379127502442, 'rollout_return': 13.264, 'evaluation': 16.2} step=2000\n"
     ]
    },
    {
     "name": "stderr",
     "output_type": "stream",
     "text": [
      "  3%|▎         | 2986/100000 [00:16<10:14, 157.95it/s]"
     ]
    },
    {
     "name": "stdout",
     "output_type": "stream",
     "text": [
      "2022-02-03 17:10.39 [info     ] Model parameters are saved to d3rlpy_logs/SAC_online_20220203171022/model_3000.pt\n",
      "2022-02-03 17:10.39 [info     ] SAC_online_20220203171022: epoch=3 step=3000 epoch=3 metrics={'time_inference': 0.0004955344200134277, 'time_environment_step': 0.0006503690992082868, 'time_sample_batch': 0.00025318145751953127, 'time_algorithm_update': 0.004580878496170044, 'temp_loss': -5.777023151397705, 'temp': 1.079868324279785, 'critic_loss': 166.42938473510742, 'actor_loss': 18.45858276939392, 'time_step': 0.005963108777999878, 'rollout_return': 13.024, 'evaluation': 14.5} step=3000\n"
     ]
    },
    {
     "name": "stderr",
     "output_type": "stream",
     "text": [
      "  4%|▍         | 3993/100000 [00:23<10:13, 156.58it/s]"
     ]
    },
    {
     "name": "stdout",
     "output_type": "stream",
     "text": [
      "2022-02-03 17:10.45 [info     ] Model parameters are saved to d3rlpy_logs/SAC_online_20220203171022/model_4000.pt\n",
      "2022-02-03 17:10.45 [info     ] SAC_online_20220203171022: epoch=4 step=4000 epoch=4 metrics={'time_inference': 0.0004979159832000733, 'time_environment_step': 0.0006459598541259765, 'time_sample_batch': 0.0002624058723449707, 'time_algorithm_update': 0.004627943992614746, 'temp_loss': -6.285986963987351, 'temp': 1.1731657192707061, 'critic_loss': 212.636303024292, 'actor_loss': 22.66901354789734, 'time_step': 0.006018852710723877, 'rollout_return': 12.672, 'evaluation': 0.0} step=4000\n"
     ]
    },
    {
     "name": "stderr",
     "output_type": "stream",
     "text": [
      "  5%|▍         | 4988/100000 [00:29<09:28, 167.05it/s]"
     ]
    },
    {
     "name": "stdout",
     "output_type": "stream",
     "text": [
      "2022-02-03 17:10.51 [info     ] Model parameters are saved to d3rlpy_logs/SAC_online_20220203171022/model_5000.pt\n",
      "2022-02-03 17:10.52 [info     ] SAC_online_20220203171022: epoch=5 step=5000 epoch=5 metrics={'time_inference': 0.0004945223331451416, 'time_environment_step': 0.0006386258261544364, 'time_sample_batch': 0.0002655832767486572, 'time_algorithm_update': 0.004580307245254517, 'temp_loss': -7.50497455072403, 'temp': 1.3596289596557618, 'critic_loss': 284.21688641357423, 'actor_loss': 27.218546785354615, 'time_step': 0.005964263677597046, 'rollout_return': 12.44, 'evaluation': 15.6} step=5000\n"
     ]
    },
    {
     "name": "stderr",
     "output_type": "stream",
     "text": [
      "  6%|▌         | 5997/100000 [00:35<09:32, 164.08it/s]"
     ]
    },
    {
     "name": "stdout",
     "output_type": "stream",
     "text": [
      "2022-02-03 17:10.58 [info     ] Model parameters are saved to d3rlpy_logs/SAC_online_20220203171022/model_6000.pt\n",
      "2022-02-03 17:10.58 [info     ] SAC_online_20220203171022: epoch=6 step=6000 epoch=6 metrics={'time_inference': 0.0004929525852203369, 'time_environment_step': 0.000640601566859654, 'time_sample_batch': 0.00027108025550842284, 'time_algorithm_update': 0.0045979728698730465, 'temp_loss': -12.001790353059768, 'temp': 1.775401138663292, 'critic_loss': 530.718880279541, 'actor_loss': 40.86725743865967, 'time_step': 0.005987326145172119, 'rollout_return': 14.248, 'evaluation': 15.8} step=6000\n"
     ]
    },
    {
     "name": "stderr",
     "output_type": "stream",
     "text": [
      "  7%|▋         | 6995/100000 [00:41<09:15, 167.42it/s]"
     ]
    },
    {
     "name": "stdout",
     "output_type": "stream",
     "text": [
      "2022-02-03 17:11.04 [info     ] Model parameters are saved to d3rlpy_logs/SAC_online_20220203171022/model_7000.pt\n",
      "2022-02-03 17:11.04 [info     ] SAC_online_20220203171022: epoch=7 step=7000 epoch=7 metrics={'time_inference': 0.0005318598747253418, 'time_environment_step': 0.0007049792153494699, 'time_sample_batch': 0.0002996227741241455, 'time_algorithm_update': 0.004865228891372681, 'temp_loss': -13.238450273990631, 'temp': 2.4206233229637144, 'critic_loss': 839.0294965515137, 'actor_loss': 50.27657764816284, 'time_step': 0.006387248039245606, 'rollout_return': 12.0, 'evaluation': 15.7} step=7000\n"
     ]
    },
    {
     "name": "stderr",
     "output_type": "stream",
     "text": [
      "  8%|▊         | 7984/100000 [00:48<09:21, 163.81it/s]"
     ]
    },
    {
     "name": "stdout",
     "output_type": "stream",
     "text": [
      "2022-02-03 17:11.10 [info     ] Model parameters are saved to d3rlpy_logs/SAC_online_20220203171022/model_8000.pt\n",
      "2022-02-03 17:11.10 [info     ] SAC_online_20220203171022: epoch=8 step=8000 epoch=8 metrics={'time_inference': 0.0004941468238830566, 'time_environment_step': 0.0006402980259486607, 'time_sample_batch': 0.000279994010925293, 'time_algorithm_update': 0.00463144850730896, 'temp_loss': -18.743121402740478, 'temp': 3.4453138811588286, 'critic_loss': 1639.669490966797, 'actor_loss': 71.07475356674195, 'time_step': 0.006030306339263916, 'rollout_return': 13.016, 'evaluation': 11.9} step=8000\n"
     ]
    },
    {
     "name": "stderr",
     "output_type": "stream",
     "text": [
      "  9%|▉         | 8997/100000 [00:54<09:25, 161.01it/s]"
     ]
    },
    {
     "name": "stdout",
     "output_type": "stream",
     "text": [
      "2022-02-03 17:11.17 [info     ] Model parameters are saved to d3rlpy_logs/SAC_online_20220203171022/model_9000.pt\n",
      "2022-02-03 17:11.17 [info     ] SAC_online_20220203171022: epoch=9 step=9000 epoch=9 metrics={'time_inference': 0.0004912459850311279, 'time_environment_step': 0.0006315078735351562, 'time_sample_batch': 0.000276432991027832, 'time_algorithm_update': 0.004576485157012939, 'temp_loss': -28.14471771621704, 'temp': 5.078117227554321, 'critic_loss': 3620.0609387207032, 'actor_loss': 107.4446763534546, 'time_step': 0.005959676504135132, 'rollout_return': 12.352, 'evaluation': 13.4} step=9000\n"
     ]
    },
    {
     "name": "stderr",
     "output_type": "stream",
     "text": [
      " 10%|▉         | 9988/100000 [01:00<09:06, 164.72it/s]"
     ]
    },
    {
     "name": "stdout",
     "output_type": "stream",
     "text": [
      "2022-02-03 17:11.23 [info     ] Model parameters are saved to d3rlpy_logs/SAC_online_20220203171022/model_10000.pt\n",
      "2022-02-03 17:11.23 [info     ] SAC_online_20220203171022: epoch=10 step=10000 epoch=10 metrics={'time_inference': 0.0005048248767852783, 'time_environment_step': 0.000656855719430106, 'time_sample_batch': 0.000291881799697876, 'time_algorithm_update': 0.004687644481658935, 'temp_loss': -42.88582952690125, 'temp': 7.556362278461457, 'critic_loss': 8187.872259033203, 'actor_loss': 166.03789037322997, 'time_step': 0.006125317335128784, 'rollout_return': 13.032, 'evaluation': 12.5} step=10000\n"
     ]
    },
    {
     "name": "stderr",
     "output_type": "stream",
     "text": [
      " 11%|█         | 10998/100000 [01:06<08:35, 172.66it/s]"
     ]
    },
    {
     "name": "stdout",
     "output_type": "stream",
     "text": [
      "2022-02-03 17:11.29 [info     ] Model parameters are saved to d3rlpy_logs/SAC_online_20220203171022/model_11000.pt\n",
      "2022-02-03 17:11.29 [info     ] SAC_online_20220203171022: epoch=11 step=11000 epoch=11 metrics={'time_inference': 0.0004944336414337158, 'time_environment_step': 0.0006354686192103795, 'time_sample_batch': 0.0002851223945617676, 'time_algorithm_update': 0.004642176151275635, 'temp_loss': -66.07346537017823, 'temp': 11.130024488449097, 'critic_loss': 18138.056208496095, 'actor_loss': 249.0568526916504, 'time_step': 0.006041816711425781, 'rollout_return': 12.832, 'evaluation': 15.4} step=11000\n"
     ]
    },
    {
     "name": "stderr",
     "output_type": "stream",
     "text": [
      " 12%|█▏        | 11999/100000 [01:12<08:33, 171.24it/s]"
     ]
    },
    {
     "name": "stdout",
     "output_type": "stream",
     "text": [
      "2022-02-03 17:11.35 [info     ] Model parameters are saved to d3rlpy_logs/SAC_online_20220203171022/model_12000.pt\n",
      "2022-02-03 17:11.35 [info     ] SAC_online_20220203171022: epoch=12 step=12000 epoch=12 metrics={'time_inference': 0.0004994745254516601, 'time_environment_step': 0.0006527344839913504, 'time_sample_batch': 0.00029230833053588867, 'time_algorithm_update': 0.004669785976409912, 'temp_loss': -98.03096141815186, 'temp': 16.622460565567017, 'critic_loss': 40531.5289609375, 'actor_loss': 378.87435305786136, 'time_step': 0.00609943675994873, 'rollout_return': 13.408, 'evaluation': 15.0} step=12000\n"
     ]
    },
    {
     "name": "stderr",
     "output_type": "stream",
     "text": [
      " 13%|█▎        | 12991/100000 [01:19<08:43, 166.28it/s]"
     ]
    },
    {
     "name": "stdout",
     "output_type": "stream",
     "text": [
      "2022-02-03 17:11.42 [info     ] Model parameters are saved to d3rlpy_logs/SAC_online_20220203171022/model_13000.pt\n",
      "2022-02-03 17:11.42 [info     ] SAC_online_20220203171022: epoch=13 step=13000 epoch=13 metrics={'time_inference': 0.00049745774269104, 'time_environment_step': 0.0006432440621512277, 'time_sample_batch': 0.00028885555267333984, 'time_algorithm_update': 0.004650405406951904, 'temp_loss': -137.71893061065674, 'temp': 24.28780060005188, 'critic_loss': 84614.80379492187, 'actor_loss': 545.8630928344727, 'time_step': 0.0060664136409759525, 'rollout_return': 13.256, 'evaluation': 17.5} step=13000\n"
     ]
    },
    {
     "name": "stderr",
     "output_type": "stream",
     "text": [
      " 14%|█▍        | 13991/100000 [01:25<08:42, 164.76it/s]"
     ]
    },
    {
     "name": "stdout",
     "output_type": "stream",
     "text": [
      "2022-02-03 17:11.48 [info     ] Model parameters are saved to d3rlpy_logs/SAC_online_20220203171022/model_14000.pt\n",
      "2022-02-03 17:11.48 [info     ] SAC_online_20220203171022: epoch=14 step=14000 epoch=14 metrics={'time_inference': 0.0005132012367248535, 'time_environment_step': 0.0006676624843052455, 'time_sample_batch': 0.0002973606586456299, 'time_algorithm_update': 0.004775898694992065, 'temp_loss': -226.97103030395508, 'temp': 35.64926110458374, 'critic_loss': 199302.624921875, 'actor_loss': 842.1444974365235, 'time_step': 0.0062409164905548094, 'rollout_return': 12.776, 'evaluation': 13.9} step=14000\n"
     ]
    },
    {
     "name": "stderr",
     "output_type": "stream",
     "text": [
      " 15%|█▍        | 14998/100000 [01:32<08:43, 162.29it/s]"
     ]
    },
    {
     "name": "stdout",
     "output_type": "stream",
     "text": [
      "2022-02-03 17:11.54 [info     ] Model parameters are saved to d3rlpy_logs/SAC_online_20220203171022/model_15000.pt\n",
      "2022-02-03 17:11.54 [info     ] SAC_online_20220203171022: epoch=15 step=15000 epoch=15 metrics={'time_inference': 0.0005155332088470459, 'time_environment_step': 0.0006793452671595982, 'time_sample_batch': 0.0003019568920135498, 'time_algorithm_update': 0.004819323539733886, 'temp_loss': -290.84369946289064, 'temp': 52.66288265991211, 'critic_loss': 399617.958078125, 'actor_loss': 1194.793755859375, 'time_step': 0.0063027975559234615, 'rollout_return': 13.144, 'evaluation': 14.4} step=15000\n"
     ]
    },
    {
     "name": "stderr",
     "output_type": "stream",
     "text": [
      " 16%|█▌        | 15999/100000 [01:38<08:28, 165.05it/s]"
     ]
    },
    {
     "name": "stdout",
     "output_type": "stream",
     "text": [
      "2022-02-03 17:12.01 [info     ] Model parameters are saved to d3rlpy_logs/SAC_online_20220203171022/model_16000.pt\n",
      "2022-02-03 17:12.01 [info     ] SAC_online_20220203171022: epoch=16 step=16000 epoch=16 metrics={'time_inference': 0.0004922029972076416, 'time_environment_step': 0.0006287051609584263, 'time_sample_batch': 0.0002915441989898682, 'time_algorithm_update': 0.004631901264190674, 'temp_loss': -444.5093169403076, 'temp': 76.73278823852539, 'critic_loss': 864824.70059375, 'actor_loss': 1768.9651246337892, 'time_step': 0.0060300428867340085, 'rollout_return': 12.888, 'evaluation': 14.8} step=16000\n"
     ]
    },
    {
     "name": "stderr",
     "output_type": "stream",
     "text": [
      " 17%|█▋        | 16999/100000 [01:44<08:39, 159.72it/s]"
     ]
    },
    {
     "name": "stdout",
     "output_type": "stream",
     "text": [
      "2022-02-03 17:12.07 [info     ] Model parameters are saved to d3rlpy_logs/SAC_online_20220203171022/model_17000.pt\n",
      "2022-02-03 17:12.07 [info     ] SAC_online_20220203171022: epoch=17 step=17000 epoch=17 metrics={'time_inference': 0.0005016214847564697, 'time_environment_step': 0.0006430917467389787, 'time_sample_batch': 0.0002915940284729004, 'time_algorithm_update': 0.0046929121017456055, 'temp_loss': -615.1676751403809, 'temp': 112.2687088394165, 'critic_loss': 1794139.935375, 'actor_loss': 2512.43673046875, 'time_step': 0.006115495681762695, 'rollout_return': 13.064, 'evaluation': 16.0} step=17000\n"
     ]
    },
    {
     "name": "stderr",
     "output_type": "stream",
     "text": [
      " 18%|█▊        | 17985/100000 [01:50<08:11, 166.89it/s]"
     ]
    },
    {
     "name": "stdout",
     "output_type": "stream",
     "text": [
      "2022-02-03 17:12.13 [info     ] Model parameters are saved to d3rlpy_logs/SAC_online_20220203171022/model_18000.pt\n",
      "2022-02-03 17:12.13 [info     ] SAC_online_20220203171022: epoch=18 step=18000 epoch=18 metrics={'time_inference': 0.0005098886489868164, 'time_environment_step': 0.0006617655072893415, 'time_sample_batch': 0.0002929575443267822, 'time_algorithm_update': 0.004772777795791626, 'temp_loss': -965.4068920898437, 'temp': 166.6877628479004, 'critic_loss': 4114530.305375, 'actor_loss': 3817.4450478515623, 'time_step': 0.0062234380245208745, 'rollout_return': 12.936, 'evaluation': 13.2} step=18000\n"
     ]
    },
    {
     "name": "stderr",
     "output_type": "stream",
     "text": [
      " 19%|█▉        | 18986/100000 [01:57<08:46, 153.91it/s]"
     ]
    },
    {
     "name": "stdout",
     "output_type": "stream",
     "text": [
      "2022-02-03 17:12.20 [info     ] Model parameters are saved to d3rlpy_logs/SAC_online_20220203171022/model_19000.pt\n",
      "2022-02-03 17:12.20 [info     ] SAC_online_20220203171022: epoch=19 step=19000 epoch=19 metrics={'time_inference': 0.0005056309700012207, 'time_environment_step': 0.0006535483769008092, 'time_sample_batch': 0.00029245376586914065, 'time_algorithm_update': 0.004773939371109009, 'temp_loss': -1997.8034469604493, 'temp': 255.02724739074708, 'critic_loss': 11799937.015, 'actor_loss': 6890.514521240234, 'time_step': 0.006211716413497925, 'rollout_return': 13.784, 'evaluation': 16.6} step=19000\n"
     ]
    },
    {
     "name": "stderr",
     "output_type": "stream",
     "text": [
      " 20%|█▉        | 19989/100000 [02:03<08:42, 153.14it/s]"
     ]
    },
    {
     "name": "stdout",
     "output_type": "stream",
     "text": [
      "2022-02-03 17:12.26 [info     ] Model parameters are saved to d3rlpy_logs/SAC_online_20220203171022/model_20000.pt\n",
      "2022-02-03 17:12.26 [info     ] SAC_online_20220203171022: epoch=20 step=20000 epoch=20 metrics={'time_inference': 0.0005142917633056641, 'time_environment_step': 0.0006634810311453683, 'time_sample_batch': 0.00029823803901672365, 'time_algorithm_update': 0.004805044651031494, 'temp_loss': -2021.2032996826172, 'temp': 367.8964822692871, 'critic_loss': 19990081.778, 'actor_loss': 8466.041265136719, 'time_step': 0.006267730951309204, 'rollout_return': 12.352, 'evaluation': 13.6} step=20000\n"
     ]
    },
    {
     "name": "stderr",
     "output_type": "stream",
     "text": [
      " 21%|██        | 20992/100000 [02:10<09:19, 141.28it/s]"
     ]
    },
    {
     "name": "stdout",
     "output_type": "stream",
     "text": [
      "2022-02-03 17:12.33 [info     ] Model parameters are saved to d3rlpy_logs/SAC_online_20220203171022/model_21000.pt\n",
      "2022-02-03 17:12.33 [info     ] SAC_online_20220203171022: epoch=21 step=21000 epoch=21 metrics={'time_inference': 0.0005212922096252442, 'time_environment_step': 0.000678673335484096, 'time_sample_batch': 0.00030182743072509763, 'time_algorithm_update': 0.00486499547958374, 'temp_loss': -2910.2562189941405, 'temp': 524.0297823486328, 'critic_loss': 39659604.43, 'actor_loss': 11698.318959960938, 'time_step': 0.006352644920349121, 'rollout_return': 12.6, 'evaluation': 15.6} step=21000\n"
     ]
    },
    {
     "name": "stderr",
     "output_type": "stream",
     "text": [
      " 22%|██▏       | 21996/100000 [02:16<08:34, 151.59it/s]"
     ]
    },
    {
     "name": "stdout",
     "output_type": "stream",
     "text": [
      "2022-02-03 17:12.39 [info     ] Model parameters are saved to d3rlpy_logs/SAC_online_20220203171022/model_22000.pt\n",
      "2022-02-03 17:12.39 [info     ] SAC_online_20220203171022: epoch=22 step=22000 epoch=22 metrics={'time_inference': 0.0005269994735717774, 'time_environment_step': 0.0006754093170166015, 'time_sample_batch': 0.0003056943416595459, 'time_algorithm_update': 0.004906541109085083, 'temp_loss': -5303.586471557617, 'temp': 790.1286500854492, 'critic_loss': 101905860.248, 'actor_loss': 19452.598125, 'time_step': 0.006400966167449952, 'rollout_return': 13.096, 'evaluation': 14.3} step=22000\n"
     ]
    },
    {
     "name": "stderr",
     "output_type": "stream",
     "text": [
      " 23%|██▎       | 22998/100000 [02:23<07:50, 163.51it/s]"
     ]
    },
    {
     "name": "stdout",
     "output_type": "stream",
     "text": [
      "2022-02-03 17:12.46 [info     ] Model parameters are saved to d3rlpy_logs/SAC_online_20220203171022/model_23000.pt\n",
      "2022-02-03 17:12.46 [info     ] SAC_online_20220203171022: epoch=23 step=23000 epoch=23 metrics={'time_inference': 0.0005238142013549805, 'time_environment_step': 0.0006729463849748883, 'time_sample_batch': 0.0003017003536224365, 'time_algorithm_update': 0.004870339870452881, 'temp_loss': -6234.325002197265, 'temp': 1136.0455685424804, 'critic_loss': 186112697.096, 'actor_loss': 25444.05025, 'time_step': 0.006355830907821655, 'rollout_return': 12.36, 'evaluation': 15.9} step=23000\n"
     ]
    },
    {
     "name": "stderr",
     "output_type": "stream",
     "text": [
      " 24%|██▍       | 23998/100000 [02:29<07:39, 165.28it/s]"
     ]
    },
    {
     "name": "stdout",
     "output_type": "stream",
     "text": [
      "2022-02-03 17:12.52 [info     ] Model parameters are saved to d3rlpy_logs/SAC_online_20220203171022/model_24000.pt\n",
      "2022-02-03 17:12.52 [info     ] SAC_online_20220203171022: epoch=24 step=24000 epoch=24 metrics={'time_inference': 0.0005120060443878174, 'time_environment_step': 0.0006516546521868025, 'time_sample_batch': 0.00030261921882629396, 'time_algorithm_update': 0.004789846658706665, 'temp_loss': -9104.498905761719, 'temp': 1652.6813215332031, 'critic_loss': 387177587.056, 'actor_loss': 36411.79625585937, 'time_step': 0.006242318391799927, 'rollout_return': 12.408, 'evaluation': 14.6} step=24000\n"
     ]
    },
    {
     "name": "stderr",
     "output_type": "stream",
     "text": [
      " 25%|██▍       | 24985/100000 [02:36<07:46, 160.85it/s]"
     ]
    },
    {
     "name": "stdout",
     "output_type": "stream",
     "text": [
      "2022-02-03 17:12.59 [info     ] Model parameters are saved to d3rlpy_logs/SAC_online_20220203171022/model_25000.pt\n",
      "2022-02-03 17:12.59 [info     ] SAC_online_20220203171022: epoch=25 step=25000 epoch=25 metrics={'time_inference': 0.0005189800262451172, 'time_environment_step': 0.0006605864933558873, 'time_sample_batch': 0.00029551124572753905, 'time_algorithm_update': 0.004799720048904419, 'temp_loss': -15362.139065917969, 'temp': 2479.6257321777343, 'critic_loss': 942003055.616, 'actor_loss': 57948.48650390625, 'time_step': 0.006261602640151977, 'rollout_return': 14.024, 'evaluation': 14.3} step=25000\n"
     ]
    },
    {
     "name": "stderr",
     "output_type": "stream",
     "text": [
      " 26%|██▌       | 25987/100000 [02:42<08:13, 149.98it/s]"
     ]
    },
    {
     "name": "stdout",
     "output_type": "stream",
     "text": [
      "2022-02-03 17:13.05 [info     ] Model parameters are saved to d3rlpy_logs/SAC_online_20220203171022/model_26000.pt\n",
      "2022-02-03 17:13.05 [info     ] SAC_online_20220203171022: epoch=26 step=26000 epoch=26 metrics={'time_inference': 0.0005133528709411621, 'time_environment_step': 0.000650155748639788, 'time_sample_batch': 0.000291672945022583, 'time_algorithm_update': 0.004772175788879394, 'temp_loss': -19816.61023730469, 'temp': 3579.311721435547, 'critic_loss': 1810175901.696, 'actor_loss': 78484.1180546875, 'time_step': 0.0062139310836792, 'rollout_return': 13.312, 'evaluation': 12.2} step=26000\n"
     ]
    },
    {
     "name": "stderr",
     "output_type": "stream",
     "text": [
      " 27%|██▋       | 26990/100000 [02:48<07:29, 162.49it/s]"
     ]
    },
    {
     "name": "stdout",
     "output_type": "stream",
     "text": [
      "2022-02-03 17:13.11 [info     ] Model parameters are saved to d3rlpy_logs/SAC_online_20220203171022/model_27000.pt\n",
      "2022-02-03 17:13.11 [info     ] SAC_online_20220203171022: epoch=27 step=27000 epoch=27 metrics={'time_inference': 0.0005094597339630127, 'time_environment_step': 0.0006473181588309151, 'time_sample_batch': 0.00029274272918701174, 'time_algorithm_update': 0.004749017000198364, 'temp_loss': -28899.59690625, 'temp': 5263.745162109375, 'critic_loss': 3895181289.728, 'actor_loss': 113350.3905390625, 'time_step': 0.006184309244155884, 'rollout_return': 13.192, 'evaluation': 15.1} step=27000\n"
     ]
    },
    {
     "name": "stderr",
     "output_type": "stream",
     "text": [
      " 28%|██▊       | 27991/100000 [02:55<08:13, 145.94it/s]"
     ]
    },
    {
     "name": "stdout",
     "output_type": "stream",
     "text": [
      "2022-02-03 17:13.18 [info     ] Model parameters are saved to d3rlpy_logs/SAC_online_20220203171022/model_28000.pt\n",
      "2022-02-03 17:13.18 [info     ] SAC_online_20220203171022: epoch=28 step=28000 epoch=28 metrics={'time_inference': 0.0005128135681152344, 'time_environment_step': 0.0006546728951590402, 'time_sample_batch': 0.0002950739860534668, 'time_algorithm_update': 0.004774477481842041, 'temp_loss': -42334.290174804686, 'temp': 7768.465157226563, 'critic_loss': 8136599920.384, 'actor_loss': 162456.745375, 'time_step': 0.00622486925125122, 'rollout_return': 12.84, 'evaluation': 14.7} step=28000\n"
     ]
    },
    {
     "name": "stderr",
     "output_type": "stream",
     "text": [
      " 29%|██▉       | 28996/100000 [03:01<07:20, 161.32it/s]"
     ]
    },
    {
     "name": "stdout",
     "output_type": "stream",
     "text": [
      "2022-02-03 17:13.24 [info     ] Model parameters are saved to d3rlpy_logs/SAC_online_20220203171022/model_29000.pt\n",
      "2022-02-03 17:13.24 [info     ] SAC_online_20220203171022: epoch=29 step=29000 epoch=29 metrics={'time_inference': 0.0005330274105072022, 'time_environment_step': 0.0006996503557477678, 'time_sample_batch': 0.0003094735145568848, 'time_algorithm_update': 0.004953674793243408, 'temp_loss': -67027.06530078125, 'temp': 11626.329671875, 'critic_loss': 19088999713.792, 'actor_loss': 245404.990390625, 'time_step': 0.006483712673187256, 'rollout_return': 13.2, 'evaluation': 8.5} step=29000\n"
     ]
    },
    {
     "name": "stderr",
     "output_type": "stream",
     "text": [
      " 30%|██▉       | 29995/100000 [03:08<07:58, 146.42it/s]"
     ]
    },
    {
     "name": "stdout",
     "output_type": "stream",
     "text": [
      "2022-02-03 17:13.31 [info     ] Model parameters are saved to d3rlpy_logs/SAC_online_20220203171022/model_30000.pt\n",
      "2022-02-03 17:13.31 [info     ] SAC_online_20220203171022: epoch=30 step=30000 epoch=30 metrics={'time_inference': 0.0005484354496002197, 'time_environment_step': 0.0007212731497628349, 'time_sample_batch': 0.0003189043998718262, 'time_algorithm_update': 0.005020768642425537, 'temp_loss': -99395.1279140625, 'temp': 17206.663391601563, 'critic_loss': 41819210216.448, 'actor_loss': 361860.214296875, 'time_step': 0.006597968578338623, 'rollout_return': 13.168, 'evaluation': 13.1} step=30000\n"
     ]
    },
    {
     "name": "stderr",
     "output_type": "stream",
     "text": [
      " 31%|███       | 30999/100000 [03:15<07:04, 162.69it/s]"
     ]
    },
    {
     "name": "stdout",
     "output_type": "stream",
     "text": [
      "2022-02-03 17:13.38 [info     ] Model parameters are saved to d3rlpy_logs/SAC_online_20220203171022/model_31000.pt\n",
      "2022-02-03 17:13.38 [info     ] SAC_online_20220203171022: epoch=31 step=31000 epoch=31 metrics={'time_inference': 0.0005120785236358643, 'time_environment_step': 0.000678584235055106, 'time_sample_batch': 0.00029998087882995606, 'time_algorithm_update': 0.004800453901290893, 'temp_loss': -128851.367671875, 'temp': 24759.69853125, 'critic_loss': 78802148782.08, 'actor_loss': 487664.48303125, 'time_step': 0.006276824474334717, 'rollout_return': 12.824, 'evaluation': 13.7} step=31000\n"
     ]
    },
    {
     "name": "stderr",
     "output_type": "stream",
     "text": [
      " 32%|███▏      | 31993/100000 [03:21<07:44, 146.33it/s]"
     ]
    },
    {
     "name": "stdout",
     "output_type": "stream",
     "text": [
      "2022-02-03 17:13.44 [info     ] Model parameters are saved to d3rlpy_logs/SAC_online_20220203171022/model_32000.pt\n",
      "2022-02-03 17:13.44 [info     ] SAC_online_20220203171022: epoch=32 step=32000 epoch=32 metrics={'time_inference': 0.000529714822769165, 'time_environment_step': 0.0006891356876918248, 'time_sample_batch': 0.000308135986328125, 'time_algorithm_update': 0.00492310905456543, 'temp_loss': -198929.348875, 'temp': 36620.339376953125, 'critic_loss': 183530705633.28, 'actor_loss': 710881.1851875, 'time_step': 0.0064362621307373045, 'rollout_return': 12.936, 'evaluation': 0.0} step=32000\n"
     ]
    },
    {
     "name": "stderr",
     "output_type": "stream",
     "text": [
      " 33%|███▎      | 32989/100000 [03:29<11:38, 95.93it/s] "
     ]
    },
    {
     "name": "stdout",
     "output_type": "stream",
     "text": [
      "2022-02-03 17:13.52 [info     ] Model parameters are saved to d3rlpy_logs/SAC_online_20220203171022/model_33000.pt\n",
      "2022-02-03 17:13.52 [info     ] SAC_online_20220203171022: epoch=33 step=33000 epoch=33 metrics={'time_inference': 0.0005453374385833741, 'time_environment_step': 0.0006963675362723214, 'time_sample_batch': 0.00031769180297851565, 'time_algorithm_update': 0.005653656482696533, 'temp_loss': -291719.86340625, 'temp': 54389.66368359375, 'critic_loss': 399664572547.072, 'actor_loss': 1008918.186375, 'time_step': 0.007198467016220093, 'rollout_return': 13.08, 'evaluation': 17.7} step=33000\n"
     ]
    },
    {
     "name": "stderr",
     "output_type": "stream",
     "text": [
      " 34%|███▍      | 33999/100000 [03:39<11:01, 99.84it/s] "
     ]
    },
    {
     "name": "stdout",
     "output_type": "stream",
     "text": [
      "2022-02-03 17:14.01 [info     ] Model parameters are saved to d3rlpy_logs/SAC_online_20220203171022/model_34000.pt\n",
      "2022-02-03 17:14.01 [info     ] SAC_online_20220203171022: epoch=34 step=34000 epoch=34 metrics={'time_inference': 0.0006829719543457031, 'time_environment_step': 0.0008685389927455357, 'time_sample_batch': 0.00039429068565368655, 'time_algorithm_update': 0.007417123794555664, 'temp_loss': -440674.30534375, 'temp': 80853.95109375, 'critic_loss': 933493560573.952, 'actor_loss': 1421424.974, 'time_step': 0.009341277837753296, 'rollout_return': 12.768, 'evaluation': 14.5} step=34000\n"
     ]
    },
    {
     "name": "stderr",
     "output_type": "stream",
     "text": [
      " 35%|███▍      | 34999/100000 [03:48<08:40, 124.84it/s]"
     ]
    },
    {
     "name": "stdout",
     "output_type": "stream",
     "text": [
      "2022-02-03 17:14.11 [info     ] Model parameters are saved to d3rlpy_logs/SAC_online_20220203171022/model_35000.pt\n",
      "2022-02-03 17:14.11 [info     ] SAC_online_20220203171022: epoch=35 step=35000 epoch=35 metrics={'time_inference': 0.0006557397842407226, 'time_environment_step': 0.0008334429604666574, 'time_sample_batch': 0.0003872265815734863, 'time_algorithm_update': 0.0069995148181915285, 'temp_loss': -663361.25596875, 'temp': 120561.8050390625, 'critic_loss': 2211518248386.56, 'actor_loss': 1982520.782625, 'time_step': 0.008870205402374268, 'rollout_return': 13.144, 'evaluation': 0.0} step=35000\n"
     ]
    },
    {
     "name": "stderr",
     "output_type": "stream",
     "text": [
      " 36%|███▌      | 35995/100000 [03:57<12:59, 82.08it/s] "
     ]
    },
    {
     "name": "stdout",
     "output_type": "stream",
     "text": [
      "2022-02-03 17:14.20 [info     ] Model parameters are saved to d3rlpy_logs/SAC_online_20220203171022/model_36000.pt\n",
      "2022-02-03 17:14.20 [info     ] SAC_online_20220203171022: epoch=36 step=36000 epoch=36 metrics={'time_inference': 0.0006715042591094971, 'time_environment_step': 0.0008299541473388672, 'time_sample_batch': 0.00037966322898864746, 'time_algorithm_update': 0.007317383289337159, 'temp_loss': -975795.3369375, 'temp': 179318.4796875, 'critic_loss': 5098312200355.84, 'actor_loss': 2715387.523875, 'time_step': 0.009185623645782471, 'rollout_return': 13.168, 'evaluation': 12.3} step=36000\n"
     ]
    },
    {
     "name": "stderr",
     "output_type": "stream",
     "text": [
      " 37%|███▋      | 36991/100000 [04:07<09:04, 115.77it/s]"
     ]
    },
    {
     "name": "stdout",
     "output_type": "stream",
     "text": [
      "2022-02-03 17:14.30 [info     ] Model parameters are saved to d3rlpy_logs/SAC_online_20220203171022/model_37000.pt\n",
      "2022-02-03 17:14.30 [info     ] SAC_online_20220203171022: epoch=37 step=37000 epoch=37 metrics={'time_inference': 0.000680943250656128, 'time_environment_step': 0.0008771438598632812, 'time_sample_batch': 0.0003922312259674072, 'time_algorithm_update': 0.007473427295684815, 'temp_loss': -1456846.148375, 'temp': 266652.187375, 'critic_loss': 12134265205555.2, 'actor_loss': 3721602.88725, 'time_step': 0.009405296564102173, 'rollout_return': 12.6, 'evaluation': 16.3} step=37000\n"
     ]
    },
    {
     "name": "stderr",
     "output_type": "stream",
     "text": [
      " 38%|███▊      | 37996/100000 [04:17<13:58, 73.94it/s] "
     ]
    },
    {
     "name": "stdout",
     "output_type": "stream",
     "text": [
      "2022-02-03 17:14.40 [info     ] Model parameters are saved to d3rlpy_logs/SAC_online_20220203171022/model_38000.pt\n",
      "2022-02-03 17:14.40 [info     ] SAC_online_20220203171022: epoch=38 step=38000 epoch=38 metrics={'time_inference': 0.0006533384323120118, 'time_environment_step': 0.000840465818132673, 'time_sample_batch': 0.000382432222366333, 'time_algorithm_update': 0.007245877265930176, 'temp_loss': -2177873.478625, 'temp': 397017.2795625, 'critic_loss': 28260040369504.258, 'actor_loss': 5092046.098, 'time_step': 0.009111175060272217, 'rollout_return': 11.96, 'evaluation': 15.2} step=38000\n"
     ]
    },
    {
     "name": "stderr",
     "output_type": "stream",
     "text": [
      " 39%|███▉      | 38999/100000 [04:27<08:20, 121.79it/s]"
     ]
    },
    {
     "name": "stdout",
     "output_type": "stream",
     "text": [
      "2022-02-03 17:14.49 [info     ] Model parameters are saved to d3rlpy_logs/SAC_online_20220203171022/model_39000.pt\n",
      "2022-02-03 17:14.49 [info     ] SAC_online_20220203171022: epoch=39 step=39000 epoch=39 metrics={'time_inference': 0.0006974904537200928, 'time_environment_step': 0.0008856462751116071, 'time_sample_batch': 0.0004031229019165039, 'time_algorithm_update': 0.0073997387886047365, 'temp_loss': -3362686.064125, 'temp': 592024.96040625, 'critic_loss': 66038628192616.445, 'actor_loss': 7086253.085, 'time_step': 0.009365450382232667, 'rollout_return': 12.848, 'evaluation': 14.4} step=39000\n"
     ]
    },
    {
     "name": "stderr",
     "output_type": "stream",
     "text": [
      " 40%|███▉      | 39998/100000 [04:53<37:29, 26.67it/s] "
     ]
    },
    {
     "name": "stdout",
     "output_type": "stream",
     "text": [
      "2022-02-03 17:15.16 [info     ] Model parameters are saved to d3rlpy_logs/SAC_online_20220203171022/model_40000.pt\n",
      "2022-02-03 17:15.16 [info     ] SAC_online_20220203171022: epoch=40 step=40000 epoch=40 metrics={'time_inference': 0.0007952380180358886, 'time_environment_step': 0.0008944072723388672, 'time_sample_batch': 0.00045082592964172365, 'time_algorithm_update': 0.022121114253997803, 'temp_loss': -8821823.958, 'temp': 935453.45975, 'critic_loss': 247619006293344.25, 'actor_loss': 13685680.209, 'time_step': 0.024242705821990968, 'rollout_return': 14.656, 'evaluation': 13.1} step=40000\n"
     ]
    },
    {
     "name": "stderr",
     "output_type": "stream",
     "text": [
      " 41%|████      | 40999/100000 [05:30<46:37, 21.09it/s]  "
     ]
    },
    {
     "name": "stdout",
     "output_type": "stream",
     "text": [
      "2022-02-03 17:15.52 [info     ] Model parameters are saved to d3rlpy_logs/SAC_online_20220203171022/model_41000.pt\n",
      "2022-02-03 17:15.53 [info     ] SAC_online_20220203171022: epoch=41 step=41000 epoch=41 metrics={'time_inference': 0.0007698683738708496, 'time_environment_step': 0.0009135510580880301, 'time_sample_batch': 0.00044303035736083983, 'time_algorithm_update': 0.03139725756645203, 'temp_loss': -7346035.3575, 'temp': 1350924.270375, 'critic_loss': 339859549894737.94, 'actor_loss': 13297278.953, 'time_step': 0.03352401781082153, 'rollout_return': 13.0, 'evaluation': 14.7} step=41000\n"
     ]
    },
    {
     "name": "stderr",
     "output_type": "stream",
     "text": [
      " 42%|████▏     | 41997/100000 [06:03<17:06, 56.52it/s]"
     ]
    },
    {
     "name": "stdout",
     "output_type": "stream",
     "text": [
      "2022-02-03 17:16.26 [info     ] Model parameters are saved to d3rlpy_logs/SAC_online_20220203171022/model_42000.pt\n",
      "2022-02-03 17:16.26 [info     ] SAC_online_20220203171022: epoch=42 step=42000 epoch=42 metrics={'time_inference': 0.0007475814819335937, 'time_environment_step': 0.0010096171242850167, 'time_sample_batch': 0.0004102034568786621, 'time_algorithm_update': 0.02831538152694702, 'temp_loss': -10466194.0795, 'temp': 1877428.060375, 'critic_loss': 673410968008523.8, 'actor_loss': 17551844.169, 'time_step': 0.03047251510620117, 'rollout_return': 12.552, 'evaluation': 15.8} step=42000\n"
     ]
    },
    {
     "name": "stderr",
     "output_type": "stream",
     "text": [
      " 43%|████▎     | 42992/100000 [06:32<13:27, 70.57it/s]"
     ]
    },
    {
     "name": "stdout",
     "output_type": "stream",
     "text": [
      "2022-02-03 17:16.55 [info     ] Model parameters are saved to d3rlpy_logs/SAC_online_20220203171022/model_43000.pt\n",
      "2022-02-03 17:16.55 [info     ] SAC_online_20220203171022: epoch=43 step=43000 epoch=43 metrics={'time_inference': 0.0007539825439453124, 'time_environment_step': 0.0008828223092215402, 'time_sample_batch': 0.0004116177558898926, 'time_algorithm_update': 0.024799964904785157, 'temp_loss': -20137001.703, 'temp': 2772281.74325, 'critic_loss': 1837513892629053.5, 'actor_loss': 29047107.775, 'time_step': 0.026818683385848998, 'rollout_return': 13.64, 'evaluation': 13.9} step=43000\n"
     ]
    },
    {
     "name": "stderr",
     "output_type": "stream",
     "text": [
      " 44%|████▍     | 43998/100000 [07:03<26:52, 34.73it/s]"
     ]
    },
    {
     "name": "stdout",
     "output_type": "stream",
     "text": [
      "2022-02-03 17:17.26 [info     ] Model parameters are saved to d3rlpy_logs/SAC_online_20220203171022/model_44000.pt\n",
      "2022-02-03 17:17.26 [info     ] SAC_online_20220203171022: epoch=44 step=44000 epoch=44 metrics={'time_inference': 0.0006919801235198975, 'time_environment_step': 0.0009514686039515904, 'time_sample_batch': 0.00041493892669677737, 'time_algorithm_update': 0.025400124788284302, 'temp_loss': -29085481.39, 'temp': 4190588.80375, 'critic_loss': 4011398857874211.0, 'actor_loss': 40406159.61, 'time_step': 0.0274314489364624, 'rollout_return': 13.032, 'evaluation': 13.1} step=44000\n"
     ]
    },
    {
     "name": "stderr",
     "output_type": "stream",
     "text": [
      " 45%|████▍     | 44997/100000 [07:36<43:36, 21.02it/s]  "
     ]
    },
    {
     "name": "stdout",
     "output_type": "stream",
     "text": [
      "2022-02-03 17:17.59 [info     ] Model parameters are saved to d3rlpy_logs/SAC_online_20220203171022/model_45000.pt\n",
      "2022-02-03 17:17.59 [info     ] SAC_online_20220203171022: epoch=45 step=45000 epoch=45 metrics={'time_inference': 0.0007495284080505371, 'time_environment_step': 0.0009265188489641463, 'time_sample_batch': 0.00042775511741638183, 'time_algorithm_update': 0.02850222158432007, 'temp_loss': -44698028.14, 'temp': 6196773.6035, 'critic_loss': 8742772925226025.0, 'actor_loss': 59086476.026, 'time_step': 0.030598424673080445, 'rollout_return': 14.12, 'evaluation': 13.6} step=45000\n"
     ]
    },
    {
     "name": "stderr",
     "output_type": "stream",
     "text": [
      " 46%|████▌     | 45997/100000 [08:08<40:41, 22.12it/s]"
     ]
    },
    {
     "name": "stdout",
     "output_type": "stream",
     "text": [
      "2022-02-03 17:18.31 [info     ] Model parameters are saved to d3rlpy_logs/SAC_online_20220203171022/model_46000.pt\n",
      "2022-02-03 17:18.31 [info     ] SAC_online_20220203171022: epoch=46 step=46000 epoch=46 metrics={'time_inference': 0.0007405242919921875, 'time_environment_step': 0.0009676919664655413, 'time_sample_batch': 0.0003883824348449707, 'time_algorithm_update': 0.026777310848236084, 'temp_loss': -45205636.302, 'temp': 8568860.917, 'critic_loss': 1.326017522081307e+16, 'actor_loss': 62805351.868, 'time_step': 0.028853604316711426, 'rollout_return': 13.816, 'evaluation': 12.3} step=46000\n"
     ]
    },
    {
     "name": "stderr",
     "output_type": "stream",
     "text": [
      " 47%|████▋     | 46998/100000 [08:48<41:02, 21.53it/s]  "
     ]
    },
    {
     "name": "stdout",
     "output_type": "stream",
     "text": [
      "2022-02-03 17:19.11 [info     ] Model parameters are saved to d3rlpy_logs/SAC_online_20220203171022/model_47000.pt\n",
      "2022-02-03 17:19.11 [info     ] SAC_online_20220203171022: epoch=47 step=47000 epoch=47 metrics={'time_inference': 0.0008326988220214844, 'time_environment_step': 0.0010267854418073382, 'time_sample_batch': 0.00045675873756408693, 'time_algorithm_update': 0.03462747693061829, 'temp_loss': -65358540.22, 'temp': 12190935.903, 'critic_loss': 2.7276689403226884e+16, 'actor_loss': 87255650.624, 'time_step': 0.03693188762664795, 'rollout_return': 12.528, 'evaluation': 16.5} step=47000\n"
     ]
    },
    {
     "name": "stderr",
     "output_type": "stream",
     "text": [
      " 48%|████▊     | 47998/100000 [09:22<28:27, 30.45it/s]  "
     ]
    },
    {
     "name": "stdout",
     "output_type": "stream",
     "text": [
      "2022-02-03 17:19.45 [info     ] Model parameters are saved to d3rlpy_logs/SAC_online_20220203171022/model_48000.pt\n",
      "2022-02-03 17:19.45 [info     ] SAC_online_20220203171022: epoch=48 step=48000 epoch=48 metrics={'time_inference': 0.0008541393280029297, 'time_environment_step': 0.0010116822378976003, 'time_sample_batch': 0.000505758285522461, 'time_algorithm_update': 0.028295099020004273, 'temp_loss': -102601809.456, 'temp': 17982275.872, 'critic_loss': 6.249910149556102e+16, 'actor_loss': 131139200.488, 'time_step': 0.030644306898117066, 'rollout_return': 12.512, 'evaluation': 15.6} step=48000\n"
     ]
    },
    {
     "name": "stderr",
     "output_type": "stream",
     "text": [
      " 49%|████▉     | 48997/100000 [10:01<29:08, 29.17it/s]  "
     ]
    },
    {
     "name": "stdout",
     "output_type": "stream",
     "text": [
      "2022-02-03 17:20.24 [info     ] Model parameters are saved to d3rlpy_logs/SAC_online_20220203171022/model_49000.pt\n",
      "2022-02-03 17:20.24 [info     ] SAC_online_20220203171022: epoch=49 step=49000 epoch=49 metrics={'time_inference': 0.0008301620483398438, 'time_environment_step': 0.0010197260720389229, 'time_sample_batch': 0.0004408349990844727, 'time_algorithm_update': 0.03321210241317749, 'temp_loss': -142489875.24, 'temp': 26519489.402, 'critic_loss': 1.2746722274289752e+17, 'actor_loss': 180838322.968, 'time_step': 0.035493732452392575, 'rollout_return': 13.424, 'evaluation': 14.4} step=49000\n"
     ]
    },
    {
     "name": "stderr",
     "output_type": "stream",
     "text": [
      " 50%|████▉     | 49999/100000 [10:34<26:34, 31.36it/s]"
     ]
    },
    {
     "name": "stdout",
     "output_type": "stream",
     "text": [
      "2022-02-03 17:20.57 [info     ] Model parameters are saved to d3rlpy_logs/SAC_online_20220203171022/model_50000.pt\n",
      "2022-02-03 17:20.57 [info     ] SAC_online_20220203171022: epoch=50 step=50000 epoch=50 metrics={'time_inference': 0.0007221965789794922, 'time_environment_step': 0.0009166992732456752, 'time_sample_batch': 0.0004764647483825684, 'time_algorithm_update': 0.027759200096130372, 'temp_loss': -216364979.712, 'temp': 39180313.334, 'critic_loss': 2.8801407135948314e+17, 'actor_loss': 268580037.84, 'time_step': 0.029859650373458863, 'rollout_return': 13.24, 'evaluation': 13.0} step=50000\n"
     ]
    },
    {
     "name": "stderr",
     "output_type": "stream",
     "text": [
      " 51%|█████     | 50997/100000 [11:05<18:24, 44.36it/s]"
     ]
    },
    {
     "name": "stdout",
     "output_type": "stream",
     "text": [
      "2022-02-03 17:21.28 [info     ] Model parameters are saved to d3rlpy_logs/SAC_online_20220203171022/model_51000.pt\n",
      "2022-02-03 17:21.28 [info     ] SAC_online_20220203171022: epoch=51 step=51000 epoch=51 metrics={'time_inference': 0.0007679097652435303, 'time_environment_step': 0.0009596023559570313, 'time_sample_batch': 0.00041792082786560057, 'time_algorithm_update': 0.02622496581077576, 'temp_loss': -345044683.664, 'temp': 58658382.808, 'critic_loss': 6.701290893133124e+17, 'actor_loss': 418984887.792, 'time_step': 0.028346343278884887, 'rollout_return': 13.104, 'evaluation': 2.5} step=51000\n"
     ]
    },
    {
     "name": "stderr",
     "output_type": "stream",
     "text": [
      " 52%|█████▏    | 51996/100000 [11:36<24:41, 32.41it/s]"
     ]
    },
    {
     "name": "stdout",
     "output_type": "stream",
     "text": [
      "2022-02-03 17:21.58 [info     ] Model parameters are saved to d3rlpy_logs/SAC_online_20220203171022/model_52000.pt\n",
      "2022-02-03 17:21.59 [info     ] SAC_online_20220203171022: epoch=52 step=52000 epoch=52 metrics={'time_inference': 0.0007444765567779541, 'time_environment_step': 0.0009512857709612165, 'time_sample_batch': 0.0004079217910766602, 'time_algorithm_update': 0.025804561614990236, 'temp_loss': -480584000.928, 'temp': 85693972.664, 'critic_loss': 1.3921061799144026e+18, 'actor_loss': 580450922.08, 'time_step': 0.027874354600906374, 'rollout_return': 13.16, 'evaluation': 1.4} step=52000\n"
     ]
    },
    {
     "name": "stderr",
     "output_type": "stream",
     "text": [
      " 53%|█████▎    | 52994/100000 [12:10<22:45, 34.42it/s]  "
     ]
    },
    {
     "name": "stdout",
     "output_type": "stream",
     "text": [
      "2022-02-03 17:22.33 [info     ] Model parameters are saved to d3rlpy_logs/SAC_online_20220203171022/model_53000.pt\n",
      "2022-02-03 17:22.33 [info     ] SAC_online_20220203171022: epoch=53 step=53000 epoch=53 metrics={'time_inference': 0.0007327871322631836, 'time_environment_step': 0.0009535206386021205, 'time_sample_batch': 0.00042165207862854005, 'time_algorithm_update': 0.02878349995613098, 'temp_loss': -1263887439.36, 'temp': 135989084.88, 'critic_loss': 5.22936440996161e+18, 'actor_loss': 1413976028.736, 'time_step': 0.030870277404785155, 'rollout_return': 14.208, 'evaluation': 13.7} step=53000\n"
     ]
    },
    {
     "name": "stderr",
     "output_type": "stream",
     "text": [
      " 54%|█████▍    | 53997/100000 [12:43<35:03, 21.87it/s]"
     ]
    },
    {
     "name": "stdout",
     "output_type": "stream",
     "text": [
      "2022-02-03 17:23.06 [info     ] Model parameters are saved to d3rlpy_logs/SAC_online_20220203171022/model_54000.pt\n",
      "2022-02-03 17:23.06 [info     ] SAC_online_20220203171022: epoch=54 step=54000 epoch=54 metrics={'time_inference': 0.0007692608833312989, 'time_environment_step': 0.0010669727325439452, 'time_sample_batch': 0.0004211459159851074, 'time_algorithm_update': 0.028372079610824583, 'temp_loss': -1068461084.48, 'temp': 192032100.224, 'critic_loss': 6.828958805799249e+18, 'actor_loss': 1277982933.824, 'time_step': 0.030593086957931517, 'rollout_return': 12.992, 'evaluation': 15.3} step=54000\n"
     ]
    },
    {
     "name": "stderr",
     "output_type": "stream",
     "text": [
      " 55%|█████▍    | 54999/100000 [13:17<28:12, 26.58it/s]"
     ]
    },
    {
     "name": "stdout",
     "output_type": "stream",
     "text": [
      "2022-02-03 17:23.40 [info     ] Model parameters are saved to d3rlpy_logs/SAC_online_20220203171022/model_55000.pt\n",
      "2022-02-03 17:23.40 [info     ] SAC_online_20220203171022: epoch=55 step=55000 epoch=55 metrics={'time_inference': 0.000778085470199585, 'time_environment_step': 0.0009475383758544922, 'time_sample_batch': 0.0004385416507720947, 'time_algorithm_update': 0.028849499464035033, 'temp_loss': -1433121874.24, 'temp': 268477557.68, 'critic_loss': 1.3032278388642294e+19, 'actor_loss': 1717452707.456, 'time_step': 0.03098237466812134, 'rollout_return': 13.008, 'evaluation': 0.0} step=55000\n"
     ]
    },
    {
     "name": "stderr",
     "output_type": "stream",
     "text": [
      " 56%|█████▌    | 55997/100000 [13:46<29:16, 25.05it/s]"
     ]
    },
    {
     "name": "stdout",
     "output_type": "stream",
     "text": [
      "2022-02-03 17:24.09 [info     ] Model parameters are saved to d3rlpy_logs/SAC_online_20220203171022/model_56000.pt\n",
      "2022-02-03 17:24.09 [info     ] SAC_online_20220203171022: epoch=56 step=56000 epoch=56 metrics={'time_inference': 0.0007483854293823242, 'time_environment_step': 0.0008384053366524833, 'time_sample_batch': 0.0004152998924255371, 'time_algorithm_update': 0.02447629165649414, 'temp_loss': -2739366363.136, 'temp': 403982161.856, 'critic_loss': 3.4724348333680472e+19, 'actor_loss': 3179116165.76, 'time_step': 0.026485584020614624, 'rollout_return': 13.696, 'evaluation': 11.3} step=56000\n"
     ]
    },
    {
     "name": "stderr",
     "output_type": "stream",
     "text": [
      " 57%|█████▋    | 56988/100000 [14:20<09:21, 76.63it/s]  "
     ]
    },
    {
     "name": "stdout",
     "output_type": "stream",
     "text": [
      "2022-02-03 17:24.43 [info     ] Model parameters are saved to d3rlpy_logs/SAC_online_20220203171022/model_57000.pt\n",
      "2022-02-03 17:24.43 [info     ] SAC_online_20220203171022: epoch=57 step=57000 epoch=57 metrics={'time_inference': 0.0008398356437683105, 'time_environment_step': 0.000977891377040318, 'time_sample_batch': 0.0004555072784423828, 'time_algorithm_update': 0.02799634289741516, 'temp_loss': -3027371463.424, 'temp': 569078013.312, 'critic_loss': 5.848872707043118e+19, 'actor_loss': 3610843309.568, 'time_step': 0.030234869241714476, 'rollout_return': 13.312, 'evaluation': 15.2} step=57000\n"
     ]
    },
    {
     "name": "stderr",
     "output_type": "stream",
     "text": [
      " 58%|█████▊    | 57995/100000 [14:49<17:58, 38.93it/s] "
     ]
    },
    {
     "name": "stdout",
     "output_type": "stream",
     "text": [
      "2022-02-03 17:25.12 [info     ] Model parameters are saved to d3rlpy_logs/SAC_online_20220203171022/model_58000.pt\n",
      "2022-02-03 17:25.12 [info     ] SAC_online_20220203171022: epoch=58 step=58000 epoch=58 metrics={'time_inference': 0.0007483370304107666, 'time_environment_step': 0.0009056734357561384, 'time_sample_batch': 0.00047056031227111816, 'time_algorithm_update': 0.02477299427986145, 'temp_loss': -4350600305.28, 'temp': 827218201.984, 'critic_loss': 1.2141185141677626e+20, 'actor_loss': 5196784558.848, 'time_step': 0.026882051706314088, 'rollout_return': 12.192, 'evaluation': 14.6} step=58000\n"
     ]
    },
    {
     "name": "stderr",
     "output_type": "stream",
     "text": [
      " 59%|█████▉    | 58998/100000 [15:18<26:59, 25.31it/s]"
     ]
    },
    {
     "name": "stdout",
     "output_type": "stream",
     "text": [
      "2022-02-03 17:25.41 [info     ] Model parameters are saved to d3rlpy_logs/SAC_online_20220203171022/model_59000.pt\n",
      "2022-02-03 17:25.41 [info     ] SAC_online_20220203171022: epoch=59 step=59000 epoch=59 metrics={'time_inference': 0.000729280948638916, 'time_environment_step': 0.00099489620753697, 'time_sample_batch': 0.0004500992298126221, 'time_algorithm_update': 0.023991308450698853, 'temp_loss': -8575747027.456, 'temp': 1260069415.68, 'critic_loss': 3.4826049881825496e+20, 'actor_loss': 9872339784.704, 'time_step': 0.02612347173690796, 'rollout_return': 13.168, 'evaluation': 16.1} step=59000\n"
     ]
    },
    {
     "name": "stderr",
     "output_type": "stream",
     "text": [
      " 60%|█████▉    | 59996/100000 [15:47<17:51, 37.34it/s] "
     ]
    },
    {
     "name": "stdout",
     "output_type": "stream",
     "text": [
      "2022-02-03 17:26.09 [info     ] Model parameters are saved to d3rlpy_logs/SAC_online_20220203171022/model_60000.pt\n",
      "2022-02-03 17:26.10 [info     ] SAC_online_20220203171022: epoch=60 step=60000 epoch=60 metrics={'time_inference': 0.0007814810276031494, 'time_environment_step': 0.001007753644670759, 'time_sample_batch': 0.00044234657287597657, 'time_algorithm_update': 0.02409268832206726, 'temp_loss': -9966207564.288, 'temp': 1817297593.472, 'critic_loss': 6.037201214098857e+20, 'actor_loss': 11829136621.568, 'time_step': 0.026292551517486572, 'rollout_return': 12.992, 'evaluation': 5.1} step=60000\n"
     ]
    },
    {
     "name": "stderr",
     "output_type": "stream",
     "text": [
      " 61%|██████    | 60998/100000 [16:13<18:07, 35.85it/s] "
     ]
    },
    {
     "name": "stdout",
     "output_type": "stream",
     "text": [
      "2022-02-03 17:26.36 [info     ] Model parameters are saved to d3rlpy_logs/SAC_online_20220203171022/model_61000.pt\n",
      "2022-02-03 17:26.36 [info     ] SAC_online_20220203171022: epoch=61 step=61000 epoch=61 metrics={'time_inference': 0.0006688838005065918, 'time_environment_step': 0.0008940015520368304, 'time_sample_batch': 0.0004373462200164795, 'time_algorithm_update': 0.022299891233444214, 'temp_loss': -13910655486.976, 'temp': 2616348539.904, 'critic_loss': 1.2259386301278047e+21, 'actor_loss': 16494802423.808, 'time_step': 0.024279880046844483, 'rollout_return': 13.456, 'evaluation': 16.8} step=61000\n"
     ]
    },
    {
     "name": "stderr",
     "output_type": "stream",
     "text": [
      " 62%|██████▏   | 61999/100000 [16:45<28:39, 22.10it/s]"
     ]
    },
    {
     "name": "stdout",
     "output_type": "stream",
     "text": [
      "2022-02-03 17:27.08 [info     ] Model parameters are saved to d3rlpy_logs/SAC_online_20220203171022/model_62000.pt\n",
      "2022-02-03 17:27.09 [info     ] SAC_online_20220203171022: epoch=62 step=62000 epoch=62 metrics={'time_inference': 0.0007702765464782715, 'time_environment_step': 0.000964012963431222, 'time_sample_batch': 0.00040321040153503416, 'time_algorithm_update': 0.027242383241653442, 'temp_loss': -22751730428.416, 'temp': 3879687368.192, 'critic_loss': 2.9343460313750207e+21, 'actor_loss': 26600485051.392, 'time_step': 0.02936431574821472, 'rollout_return': 12.624, 'evaluation': 14.7} step=62000\n"
     ]
    },
    {
     "name": "stderr",
     "output_type": "stream",
     "text": [
      " 63%|██████▎   | 62996/100000 [17:16<13:14, 46.58it/s]  "
     ]
    },
    {
     "name": "stdout",
     "output_type": "stream",
     "text": [
      "2022-02-03 17:27.39 [info     ] Model parameters are saved to d3rlpy_logs/SAC_online_20220203171022/model_63000.pt\n",
      "2022-02-03 17:27.39 [info     ] SAC_online_20220203171022: epoch=63 step=63000 epoch=63 metrics={'time_inference': 0.0007632622718811035, 'time_environment_step': 0.0009052720751081194, 'time_sample_batch': 0.0004459228515625, 'time_algorithm_update': 0.025711265563964844, 'temp_loss': -29302879592.448, 'temp': 5629521760.768, 'critic_loss': 5.585518468012268e+21, 'actor_loss': 34931008438.272, 'time_step': 0.027803831338882447, 'rollout_return': 13.2, 'evaluation': 15.5} step=63000\n"
     ]
    },
    {
     "name": "stderr",
     "output_type": "stream",
     "text": [
      " 64%|██████▍   | 63996/100000 [17:40<17:35, 34.12it/s]"
     ]
    },
    {
     "name": "stdout",
     "output_type": "stream",
     "text": [
      "2022-02-03 17:28.03 [info     ] Model parameters are saved to d3rlpy_logs/SAC_online_20220203171022/model_64000.pt\n",
      "2022-02-03 17:28.04 [info     ] SAC_online_20220203171022: epoch=64 step=64000 epoch=64 metrics={'time_inference': 0.0007427020072937012, 'time_environment_step': 0.0008936078207833426, 'time_sample_batch': 0.00043454527854919434, 'time_algorithm_update': 0.01980688714981079, 'temp_loss': -49193805871.104, 'temp': 8371983553.024, 'critic_loss': 1.3791077092523365e+22, 'actor_loss': 57686292621.312, 'time_step': 0.021863606452941893, 'rollout_return': 13.176, 'evaluation': 16.4} step=64000\n"
     ]
    },
    {
     "name": "stderr",
     "output_type": "stream",
     "text": [
      " 65%|██████▍   | 64997/100000 [17:55<09:45, 59.74it/s] "
     ]
    },
    {
     "name": "stdout",
     "output_type": "stream",
     "text": [
      "2022-02-03 17:28.18 [info     ] Model parameters are saved to d3rlpy_logs/SAC_online_20220203171022/model_65000.pt\n",
      "2022-02-03 17:28.18 [info     ] SAC_online_20220203171022: epoch=65 step=65000 epoch=65 metrics={'time_inference': 0.0006540412902832031, 'time_environment_step': 0.0008014308384486608, 'time_sample_batch': 0.0003825109004974365, 'time_algorithm_update': 0.011566186428070068, 'temp_loss': -103733386969.088, 'temp': 12686149652.48, 'critic_loss': 4.239056060910809e+22, 'actor_loss': 116206840107.008, 'time_step': 0.013384397745132446, 'rollout_return': 13.712, 'evaluation': 15.0} step=65000\n"
     ]
    },
    {
     "name": "stderr",
     "output_type": "stream",
     "text": [
      " 66%|██████▌   | 65993/100000 [18:08<07:19, 77.29it/s] "
     ]
    },
    {
     "name": "stdout",
     "output_type": "stream",
     "text": [
      "2022-02-03 17:28.31 [info     ] Model parameters are saved to d3rlpy_logs/SAC_online_20220203171022/model_66000.pt\n",
      "2022-02-03 17:28.31 [info     ] SAC_online_20220203171022: epoch=66 step=66000 epoch=66 metrics={'time_inference': 0.0006586267948150635, 'time_environment_step': 0.0008492145538330078, 'time_sample_batch': 0.00037596964836120606, 'time_algorithm_update': 0.01033970308303833, 'temp_loss': -110399644303.36, 'temp': 18914666106.88, 'critic_loss': 6.798536693830852e+22, 'actor_loss': 129458852413.44, 'time_step': 0.012198062181472779, 'rollout_return': 12.992, 'evaluation': 15.6} step=66000\n"
     ]
    },
    {
     "name": "stderr",
     "output_type": "stream",
     "text": [
      " 67%|██████▋   | 66999/100000 [18:22<08:02, 68.35it/s]"
     ]
    },
    {
     "name": "stdout",
     "output_type": "stream",
     "text": [
      "2022-02-03 17:28.45 [info     ] Model parameters are saved to d3rlpy_logs/SAC_online_20220203171022/model_67000.pt\n",
      "2022-02-03 17:28.45 [info     ] SAC_online_20220203171022: epoch=67 step=67000 epoch=67 metrics={'time_inference': 0.0006452183723449707, 'time_environment_step': 0.0007873499734061105, 'time_sample_batch': 0.00036922788619995117, 'time_algorithm_update': 0.011032198429107666, 'temp_loss': -178130662539.264, 'temp': 26953547386.88, 'critic_loss': 1.558203443253289e+23, 'actor_loss': 206211047915.52, 'time_step': 0.012817051410675049, 'rollout_return': 13.688, 'evaluation': 13.6} step=67000\n"
     ]
    },
    {
     "name": "stderr",
     "output_type": "stream",
     "text": [
      " 68%|██████▊   | 67995/100000 [18:36<07:55, 67.29it/s]"
     ]
    },
    {
     "name": "stdout",
     "output_type": "stream",
     "text": [
      "2022-02-03 17:28.59 [info     ] Model parameters are saved to d3rlpy_logs/SAC_online_20220203171022/model_68000.pt\n",
      "2022-02-03 17:28.59 [info     ] SAC_online_20220203171022: epoch=68 step=68000 epoch=68 metrics={'time_inference': 0.0007110035419464111, 'time_environment_step': 0.0008549314226422992, 'time_sample_batch': 0.00037442421913146974, 'time_algorithm_update': 0.010726295471191406, 'temp_loss': -224047402180.608, 'temp': 38643872624.64, 'critic_loss': 2.819314792500184e+23, 'actor_loss': 263121440636.928, 'time_step': 0.012657470226287841, 'rollout_return': 13.888, 'evaluation': 13.7} step=68000\n"
     ]
    },
    {
     "name": "stderr",
     "output_type": "stream",
     "text": [
      " 69%|██████▉   | 68995/100000 [18:51<06:57, 74.33it/s]"
     ]
    },
    {
     "name": "stdout",
     "output_type": "stream",
     "text": [
      "2022-02-03 17:29.14 [info     ] Model parameters are saved to d3rlpy_logs/SAC_online_20220203171022/model_69000.pt\n",
      "2022-02-03 17:29.14 [info     ] SAC_online_20220203171022: epoch=69 step=69000 epoch=69 metrics={'time_inference': 0.0007034695148468018, 'time_environment_step': 0.0008846525464739118, 'time_sample_batch': 0.00042682147026062013, 'time_algorithm_update': 0.012383963584899902, 'temp_loss': -333665928781.824, 'temp': 55586511441.92, 'critic_loss': 5.993197672014153e+23, 'actor_loss': 387528826961.92, 'time_step': 0.014376873254776, 'rollout_return': 13.152, 'evaluation': 15.0} step=69000\n"
     ]
    },
    {
     "name": "stderr",
     "output_type": "stream",
     "text": [
      " 70%|██████▉   | 69996/100000 [19:06<07:30, 66.53it/s]"
     ]
    },
    {
     "name": "stdout",
     "output_type": "stream",
     "text": [
      "2022-02-03 17:29.29 [info     ] Model parameters are saved to d3rlpy_logs/SAC_online_20220203171022/model_70000.pt\n",
      "2022-02-03 17:29.29 [info     ] SAC_online_20220203171022: epoch=70 step=70000 epoch=70 metrics={'time_inference': 0.0007200160026550293, 'time_environment_step': 0.0009235046931675502, 'time_sample_batch': 0.00041457104682922363, 'time_algorithm_update': 0.011441749811172486, 'temp_loss': -494288922181.632, 'temp': 80117667196.928, 'critic_loss': 1.3074913174405697e+24, 'actor_loss': 575634279317.504, 'time_step': 0.01348630952835083, 'rollout_return': 13.568, 'evaluation': 0.0} step=70000\n"
     ]
    },
    {
     "name": "stderr",
     "output_type": "stream",
     "text": [
      " 71%|███████   | 70993/100000 [19:15<04:43, 102.45it/s]"
     ]
    },
    {
     "name": "stdout",
     "output_type": "stream",
     "text": [
      "2022-02-03 17:29.38 [info     ] Model parameters are saved to d3rlpy_logs/SAC_online_20220203171022/model_71000.pt\n",
      "2022-02-03 17:29.38 [info     ] SAC_online_20220203171022: epoch=71 step=71000 epoch=71 metrics={'time_inference': 0.0006897094249725342, 'time_environment_step': 0.0008376554761614118, 'time_sample_batch': 0.0003731119632720947, 'time_algorithm_update': 0.006771080255508423, 'temp_loss': -761305801539.584, 'temp': 119426595512.32, 'critic_loss': 2.992697114349428e+24, 'actor_loss': 884317233086.464, 'time_step': 0.008657706022262573, 'rollout_return': 13.184, 'evaluation': 15.9} step=71000\n"
     ]
    },
    {
     "name": "stderr",
     "output_type": "stream",
     "text": [
      " 72%|███████▏  | 71996/100000 [19:23<04:06, 113.68it/s]"
     ]
    },
    {
     "name": "stdout",
     "output_type": "stream",
     "text": [
      "2022-02-03 17:29.46 [info     ] Model parameters are saved to d3rlpy_logs/SAC_online_20220203171022/model_72000.pt\n",
      "2022-02-03 17:29.46 [info     ] SAC_online_20220203171022: epoch=72 step=72000 epoch=72 metrics={'time_inference': 0.000684628963470459, 'time_environment_step': 0.0008433788844517299, 'time_sample_batch': 0.00037859535217285155, 'time_algorithm_update': 0.006269189834594726, 'temp_loss': -1234322513657.856, 'temp': 173576362049.536, 'critic_loss': 7.025745262158974e+24, 'actor_loss': 1404159595511.808, 'time_step': 0.008163132905960083, 'rollout_return': 13.648, 'evaluation': 12.5} step=72000\n"
     ]
    },
    {
     "name": "stderr",
     "output_type": "stream",
     "text": [
      " 73%|███████▎  | 72989/100000 [19:31<03:20, 134.71it/s]"
     ]
    },
    {
     "name": "stdout",
     "output_type": "stream",
     "text": [
      "2022-02-03 17:29.54 [info     ] Model parameters are saved to d3rlpy_logs/SAC_online_20220203171022/model_73000.pt\n",
      "2022-02-03 17:29.54 [info     ] SAC_online_20220203171022: epoch=73 step=73000 epoch=73 metrics={'time_inference': 0.0006551444530487061, 'time_environment_step': 0.0008124926430838449, 'time_sample_batch': 0.0003668837547302246, 'time_algorithm_update': 0.006069689750671387, 'temp_loss': -1412687464890.368, 'temp': 255450725744.64, 'critic_loss': 1.2128954234133686e+25, 'actor_loss': 1669722035650.56, 'time_step': 0.007890687942504884, 'rollout_return': 13.08, 'evaluation': 0.0} step=73000\n"
     ]
    },
    {
     "name": "stderr",
     "output_type": "stream",
     "text": [
      " 74%|███████▍  | 73987/100000 [19:39<03:25, 126.78it/s]"
     ]
    },
    {
     "name": "stdout",
     "output_type": "stream",
     "text": [
      "2022-02-03 17:30.02 [info     ] Model parameters are saved to d3rlpy_logs/SAC_online_20220203171022/model_74000.pt\n",
      "2022-02-03 17:30.02 [info     ] SAC_online_20220203171022: epoch=74 step=74000 epoch=74 metrics={'time_inference': 0.0006218645572662354, 'time_environment_step': 0.0007705988202776228, 'time_sample_batch': 0.0003464982509613037, 'time_algorithm_update': 0.005738259553909302, 'temp_loss': -2024972999327.744, 'temp': 359939375529.984, 'critic_loss': 2.4309036285598638e+25, 'actor_loss': 2387522982248.448, 'time_step': 0.007463265657424927, 'rollout_return': 12.96, 'evaluation': 14.5} step=74000\n"
     ]
    },
    {
     "name": "stderr",
     "output_type": "stream",
     "text": [
      " 75%|███████▍  | 74997/100000 [19:47<03:30, 118.88it/s]"
     ]
    },
    {
     "name": "stdout",
     "output_type": "stream",
     "text": [
      "2022-02-03 17:30.10 [info     ] Model parameters are saved to d3rlpy_logs/SAC_online_20220203171022/model_75000.pt\n",
      "2022-02-03 17:30.10 [info     ] SAC_online_20220203171022: epoch=75 step=75000 epoch=75 metrics={'time_inference': 0.00067169189453125, 'time_environment_step': 0.000824270520891462, 'time_sample_batch': 0.0003714339733123779, 'time_algorithm_update': 0.0061692287921905516, 'temp_loss': -3505673945743.36, 'temp': 535068634742.784, 'critic_loss': 6.001632254003805e+25, 'actor_loss': 4049945097666.56, 'time_step': 0.008024511098861695, 'rollout_return': 13.496, 'evaluation': 15.4} step=75000\n"
     ]
    },
    {
     "name": "stderr",
     "output_type": "stream",
     "text": [
      " 76%|███████▌  | 75999/100000 [19:55<03:14, 123.13it/s]"
     ]
    },
    {
     "name": "stdout",
     "output_type": "stream",
     "text": [
      "2022-02-03 17:30.18 [info     ] Model parameters are saved to d3rlpy_logs/SAC_online_20220203171022/model_76000.pt\n",
      "2022-02-03 17:30.18 [info     ] SAC_online_20220203171022: epoch=76 step=76000 epoch=76 metrics={'time_inference': 0.0006630692481994629, 'time_environment_step': 0.0008159362248011998, 'time_sample_batch': 0.00036570477485656737, 'time_algorithm_update': 0.006054706573486328, 'temp_loss': -5319143817740.288, 'temp': 800957069000.704, 'critic_loss': 1.3611791259989669e+26, 'actor_loss': 6111306847092.736, 'time_step': 0.007888412952423096, 'rollout_return': 13.52, 'evaluation': 14.2} step=76000\n"
     ]
    },
    {
     "name": "stderr",
     "output_type": "stream",
     "text": [
      " 77%|███████▋  | 76999/100000 [20:04<03:10, 120.64it/s]"
     ]
    },
    {
     "name": "stdout",
     "output_type": "stream",
     "text": [
      "2022-02-03 17:30.26 [info     ] Model parameters are saved to d3rlpy_logs/SAC_online_20220203171022/model_77000.pt\n",
      "2022-02-03 17:30.26 [info     ] SAC_online_20220203171022: epoch=77 step=77000 epoch=77 metrics={'time_inference': 0.000668283224105835, 'time_environment_step': 0.0008236721583775112, 'time_sample_batch': 0.00036556768417358396, 'time_algorithm_update': 0.0061559369564056395, 'temp_loss': -5971454061707.264, 'temp': 1121932781092.864, 'critic_loss': 2.2084019252710104e+26, 'actor_loss': 7055526436012.032, 'time_step': 0.008001060724258423, 'rollout_return': 12.912, 'evaluation': 14.4} step=77000\n"
     ]
    },
    {
     "name": "stderr",
     "output_type": "stream",
     "text": [
      " 78%|███████▊  | 77998/100000 [20:12<02:56, 124.53it/s]"
     ]
    },
    {
     "name": "stdout",
     "output_type": "stream",
     "text": [
      "2022-02-03 17:30.34 [info     ] Model parameters are saved to d3rlpy_logs/SAC_online_20220203171022/model_78000.pt\n",
      "2022-02-03 17:30.34 [info     ] SAC_online_20220203171022: epoch=78 step=78000 epoch=78 metrics={'time_inference': 0.0006480245590209961, 'time_environment_step': 0.000810971941266741, 'time_sample_batch': 0.00036268115043640135, 'time_algorithm_update': 0.005962802171707153, 'temp_loss': -9999358302879.744, 'temp': 1643869808361.472, 'critic_loss': 5.2942174820044854e+26, 'actor_loss': 11639409357619.2, 'time_step': 0.007772812366485596, 'rollout_return': 13.136, 'evaluation': 16.6} step=78000\n"
     ]
    },
    {
     "name": "stderr",
     "output_type": "stream",
     "text": [
      " 79%|███████▉  | 78993/100000 [20:20<02:40, 131.18it/s]"
     ]
    },
    {
     "name": "stdout",
     "output_type": "stream",
     "text": [
      "2022-02-03 17:30.43 [info     ] Model parameters are saved to d3rlpy_logs/SAC_online_20220203171022/model_79000.pt\n",
      "2022-02-03 17:30.43 [info     ] SAC_online_20220203171022: epoch=79 step=79000 epoch=79 metrics={'time_inference': 0.0006938827037811279, 'time_environment_step': 0.0008345045362200056, 'time_sample_batch': 0.0003733689785003662, 'time_algorithm_update': 0.006255174398422241, 'temp_loss': -14835907715661.824, 'temp': 2381306480164.864, 'critic_loss': 1.1687901698397881e+27, 'actor_loss': 17197260669452.287, 'time_step': 0.008146654605865479, 'rollout_return': 13.016, 'evaluation': 15.1} step=79000\n"
     ]
    },
    {
     "name": "stderr",
     "output_type": "stream",
     "text": [
      " 80%|███████▉  | 79989/100000 [20:28<02:33, 129.95it/s]"
     ]
    },
    {
     "name": "stdout",
     "output_type": "stream",
     "text": [
      "2022-02-03 17:30.51 [info     ] Model parameters are saved to d3rlpy_logs/SAC_online_20220203171022/model_80000.pt\n",
      "2022-02-03 17:30.51 [info     ] SAC_online_20220203171022: epoch=80 step=80000 epoch=80 metrics={'time_inference': 0.0006888060569763183, 'time_environment_step': 0.0008348606654575893, 'time_sample_batch': 0.00037253522872924806, 'time_algorithm_update': 0.006215767860412598, 'temp_loss': -18338376849555.457, 'temp': 3468890750844.928, 'critic_loss': 2.1821719396265385e+27, 'actor_loss': 21581025085751.297, 'time_step': 0.008100203275680541, 'rollout_return': 12.312, 'evaluation': 11.3} step=80000\n"
     ]
    },
    {
     "name": "stderr",
     "output_type": "stream",
     "text": [
      " 81%|████████  | 80993/100000 [20:36<02:32, 124.41it/s]"
     ]
    },
    {
     "name": "stdout",
     "output_type": "stream",
     "text": [
      "2022-02-03 17:30.59 [info     ] Model parameters are saved to d3rlpy_logs/SAC_online_20220203171022/model_81000.pt\n",
      "2022-02-03 17:30.59 [info     ] SAC_online_20220203171022: epoch=81 step=81000 epoch=81 metrics={'time_inference': 0.0006700804233551026, 'time_environment_step': 0.0008171743665422712, 'time_sample_batch': 0.0003654899597167969, 'time_algorithm_update': 0.006136606693267823, 'temp_loss': -30929062876676.098, 'temp': 5054185826680.832, 'critic_loss': 5.202140683439193e+27, 'actor_loss': 36009663097995.266, 'time_step': 0.00797652244567871, 'rollout_return': 13.4, 'evaluation': 14.6} step=81000\n"
     ]
    },
    {
     "name": "stderr",
     "output_type": "stream",
     "text": [
      " 82%|████████▏ | 81993/100000 [20:45<02:23, 125.75it/s]"
     ]
    },
    {
     "name": "stdout",
     "output_type": "stream",
     "text": [
      "2022-02-03 17:31.08 [info     ] Model parameters are saved to d3rlpy_logs/SAC_online_20220203171022/model_82000.pt\n",
      "2022-02-03 17:31.08 [info     ] SAC_online_20220203171022: epoch=82 step=82000 epoch=82 metrics={'time_inference': 0.0006940138339996338, 'time_environment_step': 0.0008487976619175503, 'time_sample_batch': 0.0003784973621368408, 'time_algorithm_update': 0.006359398126602173, 'temp_loss': -42530006307438.59, 'temp': 7547183440592.896, 'critic_loss': 1.0475452439320626e+28, 'actor_loss': 49847336525889.54, 'time_step': 0.008269325494766236, 'rollout_return': 13.736, 'evaluation': 15.1} step=82000\n"
     ]
    },
    {
     "name": "stderr",
     "output_type": "stream",
     "text": [
      " 83%|████████▎ | 82994/100000 [21:02<06:18, 44.93it/s] "
     ]
    },
    {
     "name": "stdout",
     "output_type": "stream",
     "text": [
      "2022-02-03 17:31.25 [info     ] Model parameters are saved to d3rlpy_logs/SAC_online_20220203171022/model_83000.pt\n",
      "2022-02-03 17:31.25 [info     ] SAC_online_20220203171022: epoch=83 step=83000 epoch=83 metrics={'time_inference': 0.0007765049934387207, 'time_environment_step': 0.000958648681640625, 'time_sample_batch': 0.0004299218654632568, 'time_algorithm_update': 0.013600411415100098, 'temp_loss': -56955871783026.69, 'temp': 10733072008871.936, 'critic_loss': 2.050854851196794e+28, 'actor_loss': 67957617938399.234, 'time_step': 0.015742150783538817, 'rollout_return': 13.104, 'evaluation': 14.6} step=83000\n"
     ]
    },
    {
     "name": "stderr",
     "output_type": "stream",
     "text": [
      " 84%|████████▍ | 83998/100000 [21:48<12:32, 21.28it/s]"
     ]
    },
    {
     "name": "stdout",
     "output_type": "stream",
     "text": [
      "2022-02-03 17:32.10 [info     ] Model parameters are saved to d3rlpy_logs/SAC_online_20220203171022/model_84000.pt\n",
      "2022-02-03 17:32.11 [info     ] SAC_online_20220203171022: epoch=84 step=84000 epoch=84 metrics={'time_inference': 0.0008306021690368652, 'time_environment_step': 0.0010857492174421038, 'time_sample_batch': 0.000447507381439209, 'time_algorithm_update': 0.039458220720291134, 'temp_loss': -94296691959660.55, 'temp': 15701093018238.977, 'critic_loss': 4.965343522744118e+28, 'actor_loss': 110334781174054.9, 'time_step': 0.041788243293762205, 'rollout_return': 13.152, 'evaluation': 14.4} step=84000\n"
     ]
    },
    {
     "name": "stderr",
     "output_type": "stream",
     "text": [
      " 85%|████████▍ | 84999/100000 [22:23<15:06, 16.55it/s] "
     ]
    },
    {
     "name": "stdout",
     "output_type": "stream",
     "text": [
      "2022-02-03 17:32.46 [info     ] Model parameters are saved to d3rlpy_logs/SAC_online_20220203171022/model_85000.pt\n",
      "2022-02-03 17:32.46 [info     ] SAC_online_20220203171022: epoch=85 step=85000 epoch=85 metrics={'time_inference': 0.0007846047878265381, 'time_environment_step': 0.0009759763990129743, 'time_sample_batch': 0.0004287996292114258, 'time_algorithm_update': 0.029672181606292723, 'temp_loss': -163134237023666.2, 'temp': 23901320087863.297, 'critic_loss': 1.2781579958482583e+29, 'actor_loss': 186498443231887.38, 'time_step': 0.031840692758560184, 'rollout_return': 13.24, 'evaluation': 13.3} step=85000\n"
     ]
    },
    {
     "name": "stderr",
     "output_type": "stream",
     "text": [
      " 86%|████████▌ | 85998/100000 [23:06<11:27, 20.37it/s]"
     ]
    },
    {
     "name": "stdout",
     "output_type": "stream",
     "text": [
      "2022-02-03 17:33.29 [info     ] Model parameters are saved to d3rlpy_logs/SAC_online_20220203171022/model_86000.pt\n",
      "2022-02-03 17:33.29 [info     ] SAC_online_20220203171022: epoch=86 step=86000 epoch=86 metrics={'time_inference': 0.0007635250091552735, 'time_environment_step': 0.0011196539742606027, 'time_sample_batch': 0.000436600923538208, 'time_algorithm_update': 0.0368348548412323, 'temp_loss': -175846991664775.16, 'temp': 34569939098533.887, 'critic_loss': 2.051307387784943e+29, 'actor_loss': 211228378668204.03, 'time_step': 0.039110665321350095, 'rollout_return': 12.912, 'evaluation': 15.3} step=86000\n"
     ]
    },
    {
     "name": "stderr",
     "output_type": "stream",
     "text": [
      " 87%|████████▋ | 86999/100000 [23:59<11:02, 19.64it/s]"
     ]
    },
    {
     "name": "stdout",
     "output_type": "stream",
     "text": [
      "2022-02-03 17:34.22 [info     ] Model parameters are saved to d3rlpy_logs/SAC_online_20220203171022/model_87000.pt\n",
      "2022-02-03 17:34.22 [info     ] SAC_online_20220203171022: epoch=87 step=87000 epoch=87 metrics={'time_inference': 0.0008606526851654053, 'time_environment_step': 0.0010505428314208985, 'time_sample_batch': 0.000467144250869751, 'time_algorithm_update': 0.045970399618148805, 'temp_loss': -315453362499747.8, 'temp': 49831635452952.58, 'critic_loss': 5.0841413831180065e+29, 'actor_loss': 363383412460879.9, 'time_step': 0.04832238006591797, 'rollout_return': 13.288, 'evaluation': 15.5} step=87000\n"
     ]
    },
    {
     "name": "stderr",
     "output_type": "stream",
     "text": [
      " 88%|████████▊ | 87998/100000 [24:44<06:22, 31.39it/s]"
     ]
    },
    {
     "name": "stdout",
     "output_type": "stream",
     "text": [
      "2022-02-03 17:35.07 [info     ] Model parameters are saved to d3rlpy_logs/SAC_online_20220203171022/model_88000.pt\n",
      "2022-02-03 17:35.07 [info     ] SAC_online_20220203171022: epoch=88 step=88000 epoch=88 metrics={'time_inference': 0.0007810957431793212, 'time_environment_step': 0.0010668345860072545, 'time_sample_batch': 0.0004071207046508789, 'time_algorithm_update': 0.03790687084197998, 'temp_loss': -514116409425395.7, 'temp': 75309498146750.47, 'critic_loss': 1.2393626003178713e+30, 'actor_loss': 587773232388505.6, 'time_step': 0.04011412382125854, 'rollout_return': 13.856, 'evaluation': 14.9} step=88000\n"
     ]
    },
    {
     "name": "stderr",
     "output_type": "stream",
     "text": [
      " 89%|████████▉ | 88998/100000 [25:28<07:55, 23.13it/s]"
     ]
    },
    {
     "name": "stdout",
     "output_type": "stream",
     "text": [
      "2022-02-03 17:35.51 [info     ] Model parameters are saved to d3rlpy_logs/SAC_online_20220203171022/model_89000.pt\n",
      "2022-02-03 17:35.51 [info     ] SAC_online_20220203171022: epoch=89 step=89000 epoch=89 metrics={'time_inference': 0.0007943978309631347, 'time_environment_step': 0.00100876099722726, 'time_sample_batch': 0.00041385531425476075, 'time_algorithm_update': 0.03855963397026062, 'temp_loss': -653726556996239.4, 'temp': 108384972779290.62, 'critic_loss': 2.3259628470065956e+30, 'actor_loss': 759995432246968.4, 'time_step': 0.04074465012550354, 'rollout_return': 13.072, 'evaluation': 17.4} step=89000\n"
     ]
    },
    {
     "name": "stderr",
     "output_type": "stream",
     "text": [
      " 90%|████████▉ | 89996/100000 [26:07<05:34, 29.91it/s]"
     ]
    },
    {
     "name": "stdout",
     "output_type": "stream",
     "text": [
      "2022-02-03 17:36.30 [info     ] Model parameters are saved to d3rlpy_logs/SAC_online_20220203171022/model_90000.pt\n",
      "2022-02-03 17:36.30 [info     ] SAC_online_20220203171022: epoch=90 step=90000 epoch=90 metrics={'time_inference': 0.0007693920135498047, 'time_environment_step': 0.0009125559670584543, 'time_sample_batch': 0.00040984201431274413, 'time_algorithm_update': 0.0326068377494812, 'temp_loss': -965152320843153.4, 'temp': 157334499548463.1, 'critic_loss': 4.993536583565907e+30, 'actor_loss': 1125330733951352.9, 'time_step': 0.03469260406494141, 'rollout_return': 12.912, 'evaluation': 15.0} step=90000\n"
     ]
    },
    {
     "name": "stderr",
     "output_type": "stream",
     "text": [
      " 91%|█████████ | 90999/100000 [26:27<01:13, 122.24it/s]"
     ]
    },
    {
     "name": "stdout",
     "output_type": "stream",
     "text": [
      "2022-02-03 17:36.50 [info     ] Model parameters are saved to d3rlpy_logs/SAC_online_20220203171022/model_91000.pt\n",
      "2022-02-03 17:36.50 [info     ] SAC_online_20220203171022: epoch=91 step=91000 epoch=91 metrics={'time_inference': 0.0007657554149627686, 'time_environment_step': 0.00090500123160226, 'time_sample_batch': 0.00041284990310668944, 'time_algorithm_update': 0.01642212224006653, 'temp_loss': -1589812848194748.5, 'temp': 227075816138211.3, 'critic_loss': 1.1770280677215279e+31, 'actor_loss': 1813753880748490.8, 'time_step': 0.01850061821937561, 'rollout_return': 12.904, 'evaluation': 16.1} step=91000\n"
     ]
    },
    {
     "name": "stderr",
     "output_type": "stream",
     "text": [
      " 92%|█████████▏| 91994/100000 [26:38<01:22, 96.46it/s] "
     ]
    },
    {
     "name": "stdout",
     "output_type": "stream",
     "text": [
      "2022-02-03 17:37.01 [info     ] Model parameters are saved to d3rlpy_logs/SAC_online_20220203171022/model_92000.pt\n",
      "2022-02-03 17:37.01 [info     ] SAC_online_20220203171022: epoch=92 step=92000 epoch=92 metrics={'time_inference': 0.0006966207027435303, 'time_environment_step': 0.0008664013998849052, 'time_sample_batch': 0.0003942246437072754, 'time_algorithm_update': 0.00829578709602356, 'temp_loss': -1892225246220517.5, 'temp': 338074876914958.3, 'critic_loss': 2.125092404939932e+31, 'actor_loss': 2226174258936021.0, 'time_step': 0.010235492944717407, 'rollout_return': 13.424, 'evaluation': 14.7} step=92000\n"
     ]
    },
    {
     "name": "stderr",
     "output_type": "stream",
     "text": [
      " 93%|█████████▎| 92994/100000 [26:49<01:05, 106.17it/s]"
     ]
    },
    {
     "name": "stdout",
     "output_type": "stream",
     "text": [
      "2022-02-03 17:37.12 [info     ] Model parameters are saved to d3rlpy_logs/SAC_online_20220203171022/model_93000.pt\n",
      "2022-02-03 17:37.12 [info     ] SAC_online_20220203171022: epoch=93 step=93000 epoch=93 metrics={'time_inference': 0.00070416259765625, 'time_environment_step': 0.0009108110155378069, 'time_sample_batch': 0.00040583133697509767, 'time_algorithm_update': 0.0087504301071167, 'temp_loss': -3298719865421955.0, 'temp': 488111625522380.8, 'critic_loss': 5.253919021368984e+31, 'actor_loss': 3783342863459287.0, 'time_step': 0.010749406099319458, 'rollout_return': 13.52, 'evaluation': 14.6} step=93000\n"
     ]
    },
    {
     "name": "stderr",
     "output_type": "stream",
     "text": [
      " 94%|█████████▍| 93992/100000 [26:59<00:55, 108.67it/s]"
     ]
    },
    {
     "name": "stdout",
     "output_type": "stream",
     "text": [
      "2022-02-03 17:37.22 [info     ] Model parameters are saved to d3rlpy_logs/SAC_online_20220203171022/model_94000.pt\n",
      "2022-02-03 17:37.22 [info     ] SAC_online_20220203171022: epoch=94 step=94000 epoch=94 metrics={'time_inference': 0.0006720056533813477, 'time_environment_step': 0.0008797228676932199, 'time_sample_batch': 0.0003876616954803467, 'time_algorithm_update': 0.00758090615272522, 'temp_loss': -4270893099141562.5, 'temp': 710017179222802.4, 'critic_loss': 1.0088652794996477e+32, 'actor_loss': 4968736053574762.0, 'time_step': 0.009505069732666016, 'rollout_return': 13.216, 'evaluation': 14.7} step=94000\n"
     ]
    },
    {
     "name": "stderr",
     "output_type": "stream",
     "text": [
      " 95%|█████████▍| 94989/100000 [27:08<00:46, 107.47it/s]"
     ]
    },
    {
     "name": "stdout",
     "output_type": "stream",
     "text": [
      "2022-02-03 17:37.31 [info     ] Model parameters are saved to d3rlpy_logs/SAC_online_20220203171022/model_95000.pt\n",
      "2022-02-03 17:37.31 [info     ] SAC_online_20220203171022: epoch=95 step=95000 epoch=95 metrics={'time_inference': 0.0006445553302764892, 'time_environment_step': 0.0008053640638078962, 'time_sample_batch': 0.0003681163787841797, 'time_algorithm_update': 0.006682926416397094, 'temp_loss': -6075145725782524.0, 'temp': 1020269226285334.5, 'critic_loss': 2.0811207917057448e+32, 'actor_loss': 7098354111602491.0, 'time_step': 0.008492438793182374, 'rollout_return': 13.192, 'evaluation': 16.2} step=95000\n"
     ]
    },
    {
     "name": "stderr",
     "output_type": "stream",
     "text": [
      " 96%|█████████▌| 95989/100000 [27:17<00:32, 124.93it/s]"
     ]
    },
    {
     "name": "stdout",
     "output_type": "stream",
     "text": [
      "2022-02-03 17:37.40 [info     ] Model parameters are saved to d3rlpy_logs/SAC_online_20220203171022/model_96000.pt\n",
      "2022-02-03 17:37.40 [info     ] SAC_online_20220203171022: epoch=96 step=96000 epoch=96 metrics={'time_inference': 0.0006309454441070557, 'time_environment_step': 0.0008172542027064732, 'time_sample_batch': 0.00038038158416748045, 'time_algorithm_update': 0.0066432771682739256, 'temp_loss': -1.0842315517713186e+16, 'temp': 1531027203398041.5, 'critic_loss': 5.336235849310397e+32, 'actor_loss': 1.2375008194404024e+16, 'time_step': 0.00845165491104126, 'rollout_return': 13.872, 'evaluation': 14.5} step=96000\n"
     ]
    },
    {
     "name": "stderr",
     "output_type": "stream",
     "text": [
      " 97%|█████████▋| 96996/100000 [27:27<00:28, 105.16it/s]"
     ]
    },
    {
     "name": "stdout",
     "output_type": "stream",
     "text": [
      "2022-02-03 17:37.50 [info     ] Model parameters are saved to d3rlpy_logs/SAC_online_20220203171022/model_97000.pt\n",
      "2022-02-03 17:37.50 [info     ] SAC_online_20220203171022: epoch=97 step=97000 epoch=97 metrics={'time_inference': 0.0006426925659179688, 'time_environment_step': 0.0008326056344168526, 'time_sample_batch': 0.0003683285713195801, 'time_algorithm_update': 0.007024026155471802, 'temp_loss': -1.5531159722475388e+16, 'temp': 2225986083668099.0, 'critic_loss': 1.1141505153844732e+33, 'actor_loss': 1.7762046117941346e+16, 'time_step': 0.008857119798660279, 'rollout_return': 13.376, 'evaluation': 13.6} step=97000\n"
     ]
    },
    {
     "name": "stderr",
     "output_type": "stream",
     "text": [
      " 98%|█████████▊| 97997/100000 [27:36<00:19, 102.63it/s]"
     ]
    },
    {
     "name": "stdout",
     "output_type": "stream",
     "text": [
      "2022-02-03 17:37.59 [info     ] Model parameters are saved to d3rlpy_logs/SAC_online_20220203171022/model_98000.pt\n",
      "2022-02-03 17:37.59 [info     ] SAC_online_20220203171022: epoch=98 step=98000 epoch=98 metrics={'time_inference': 0.0006438117027282715, 'time_environment_step': 0.0008333287920270647, 'time_sample_batch': 0.000369732141494751, 'time_algorithm_update': 0.007031347990036011, 'temp_loss': -2.3982596793835716e+16, 'temp': 3341248731981807.5, 'critic_loss': 2.509478289237501e+33, 'actor_loss': 2.728948878587357e+16, 'time_step': 0.008858340024948121, 'rollout_return': 13.496, 'evaluation': 15.2} step=98000\n"
     ]
    },
    {
     "name": "stderr",
     "output_type": "stream",
     "text": [
      " 99%|█████████▉| 98997/100000 [27:45<00:09, 111.26it/s]"
     ]
    },
    {
     "name": "stdout",
     "output_type": "stream",
     "text": [
      "2022-02-03 17:38.08 [info     ] Model parameters are saved to d3rlpy_logs/SAC_online_20220203171022/model_99000.pt\n",
      "2022-02-03 17:38.08 [info     ] SAC_online_20220203171022: epoch=99 step=99000 epoch=99 metrics={'time_inference': 0.0006569511890411377, 'time_environment_step': 0.0008314105442592076, 'time_sample_batch': 0.00037608838081359865, 'time_algorithm_update': 0.006489720106124878, 'temp_loss': -3.2190750626739652e+16, 'temp': 4768622730243211.0, 'critic_loss': 4.864863737688276e+33, 'actor_loss': 3.680932341638339e+16, 'time_step': 0.008334434986114502, 'rollout_return': 13.192, 'evaluation': 10.6} step=99000\n"
     ]
    },
    {
     "name": "stderr",
     "output_type": "stream",
     "text": [
      "100%|█████████▉| 99993/100000 [27:54<00:00, 123.78it/s]"
     ]
    },
    {
     "name": "stdout",
     "output_type": "stream",
     "text": [
      "2022-02-03 17:38.17 [info     ] Model parameters are saved to d3rlpy_logs/SAC_online_20220203171022/model_100000.pt\n",
      "2022-02-03 17:38.17 [info     ] SAC_online_20220203171022: epoch=100 step=100000 epoch=100 metrics={'time_inference': 0.0006372380256652832, 'time_environment_step': 0.0008117239815848214, 'time_sample_batch': 0.00037166500091552734, 'time_algorithm_update': 0.006613818407058716, 'temp_loss': -3.3427918441527904e+16, 'temp': 6673232878056243.0, 'critic_loss': 7.3666435810394e+33, 'actor_loss': 4.024379116491899e+16, 'time_step': 0.00841694188117981, 'rollout_return': 12.808, 'evaluation': 12.4} step=100000\n"
     ]
    },
    {
     "name": "stderr",
     "output_type": "stream",
     "text": [
      "100%|██████████| 100000/100000 [27:54<00:00, 59.71it/s]\n"
     ]
    }
   ],
   "source": [
    "# start training\n",
    "# skip if there is a pre-trained model\n",
    "sac.fit_online(\n",
    "    env,\n",
    "    buffer,\n",
    "    eval_env=env,\n",
    "    n_steps=100000,\n",
    "    n_steps_per_epoch=1000,\n",
    ")"
   ]
  },
  {
   "cell_type": "code",
   "execution_count": 19,
   "metadata": {},
   "outputs": [],
   "source": [
    "# save model\n",
    "sac.save_model(\"d3rlpy_logs/sac.pt\")"
   ]
  },
  {
   "cell_type": "code",
   "execution_count": 20,
   "metadata": {},
   "outputs": [
    {
     "name": "stdout",
     "output_type": "stream",
     "text": [
      "2022-02-03 17:38.17 [warning  ] Parameters will be reinitialized.\n"
     ]
    }
   ],
   "source": [
    "# reload model\n",
    "sac.build_with_env(env)\n",
    "sac.load_model(\"d3rlpy_logs/sac.pt\")"
   ]
  },
  {
   "cell_type": "code",
   "execution_count": 21,
   "metadata": {},
   "outputs": [
    {
     "data": {
      "text/plain": [
       "Text(0, 0.5, 'episode reward')"
      ]
     },
     "execution_count": 21,
     "metadata": {},
     "output_type": "execute_result"
    },
    {
     "data": {
      "image/png": "[encoded data removed]",
      "text/plain": [
       "<Figure size 432x288 with 1 Axes>"
      ]
     },
     "metadata": {
      "needs_background": "light"
     },
     "output_type": "display_data"
    }
   ],
   "source": [
    "# may need more interactions to converge\n",
    "log_path = sorted(glob(\"d3rlpy_logs/SAC_online_*/evaluation.csv\"))[-1]\n",
    "df = pd.read_csv(\n",
    "    log_path, \n",
    "    usecols=[1,2],\n",
    "    names=[\"train_episode\", \"episodic_rewards\"]\n",
    ")\n",
    "plt.plot(df[\"train_episode\"], df[\"episodic_rewards\"])\n",
    "plt.title(\"Learning curve of SAC\")\n",
    "plt.xlabel(\"episode\")\n",
    "plt.ylabel(\"episode reward\")"
   ]
  },
  {
   "cell_type": "code",
   "execution_count": 22,
   "metadata": {},
   "outputs": [],
   "source": [
    "random = ContinuousRandomPolicy(\n",
    "    action_scaler=MinMaxActionScaler(\n",
    "        minimum=env.action_space.low,  # minimum value that policy can take\n",
    "        maximum=env.action_space.high,  # maximum value that policy can take\n",
    "    )\n",
    ")"
   ]
  },
  {
   "cell_type": "code",
   "execution_count": 23,
   "metadata": {},
   "outputs": [
    {
     "data": {
      "application/vnd.jupyter.widget-view+json": {
       "model_id": "950b64b0b39f421b90572bef1958f385",
       "version_major": 2,
       "version_minor": 0
      },
      "text/plain": [
       "[calculate on-policy policy value]:   0%|          | 0/100 [00:00<?, ?it/s]"
      ]
     },
     "metadata": {},
     "output_type": "display_data"
    },
    {
     "data": {
      "application/vnd.jupyter.widget-view+json": {
       "model_id": "34794169407e446b83dba7e14c34cabd",
       "version_major": 2,
       "version_minor": 0
      },
      "text/plain": [
       "[calculate on-policy policy value]:   0%|          | 0/100 [00:00<?, ?it/s]"
      ]
     },
     "metadata": {},
     "output_type": "display_data"
    },
    {
     "data": {
      "image/png": "[encoded data removed]",
      "text/plain": [
       "<Figure size 288x288 with 1 Axes>"
      ]
     },
     "metadata": {},
     "output_type": "display_data"
    }
   ],
   "source": [
    "# compare performance online\n",
    "visualize_on_policy_policy_value(\n",
    "    env=env,\n",
    "    policies=[sac, random],\n",
    "    policy_names=[\"sac\", \"random\"],\n",
    "    n_episodes=100,\n",
    "    random_state=random_state,\n",
    ")"
   ]
  },
  {
   "cell_type": "code",
   "execution_count": 24,
   "metadata": {},
   "outputs": [
    {
     "data": {
      "application/vnd.jupyter.widget-view+json": {
       "model_id": "74005f94192a402da21a41c18ac54067",
       "version_major": 2,
       "version_minor": 0
      },
      "text/plain": [
       "[calculate on-policy policy value]:   0%|          | 0/100 [00:00<?, ?it/s]"
      ]
     },
     "metadata": {},
     "output_type": "display_data"
    },
    {
     "data": {
      "application/vnd.jupyter.widget-view+json": {
       "model_id": "9e6ab2120f7d4a7eb0d2efa132939684",
       "version_major": 2,
       "version_minor": 0
      },
      "text/plain": [
       "[calculate on-policy policy value]:   0%|          | 0/100 [00:00<?, ?it/s]"
      ]
     },
     "metadata": {},
     "output_type": "display_data"
    },
    {
     "name": "stdout",
     "output_type": "stream",
     "text": [
      "relative improvement: -0.3034580098800283\n"
     ]
    }
   ],
   "source": [
    "# on-policy policy value by sac policy\n",
    "# slightly improves random policy\n",
    "sac_performance = calc_on_policy_policy_value(env, sac, n_episodes=100, random_state=random_state)\n",
    "random_performance = calc_on_policy_policy_value(env, random, n_episodes=100, random_state=random_state)\n",
    "print(\"relative improvement:\", (sac_performance - random_performance) / random_performance)"
   ]
  },
  {
   "cell_type": "markdown",
   "metadata": {},
   "source": [
    "## 1. Synthetic Dataset Generation\n",
    "In the previous section, we see how we can interact the environment *online* using synthetic simulator.  \n",
    "Though simulation is a good start for training agent, eventually we want to deploy our agent (or policy) in the real world environment.  \n",
    "However, online interaction may have potential risk of failure in real-world implementataion.  \n",
    "Therefore, we introduce alternative learning protocol, Offline RL, which aim to obtain a new policy using only offline logged dataset.\n",
    "\n",
    "We prepare easy-to-use synthetic dataset generator: `SyntheticDataset` class in the dataset module.  \n",
    "By regarding simulation environment as a hypothetical real-environment, we show how to conduct Offline RL using logged dataset in real-world application.  \n",
    "For detailed description of how to use real-world dataset, please see #TODO (will be implemented).\n",
    "\n",
    "We have following arguments for `SyntheticDataset` class:\n",
    "- `env`: RTB environment for RL defined in the previous section.\n",
    "- `bahavior_policy`: RL agent (or algorithm) used for the data collection.\n",
    "- `n_samples_pretrain_reward_predictor`: Numbers of samples used to pretrain reward predictor."
   ]
  },
  {
   "cell_type": "code",
   "execution_count": 25,
   "metadata": {},
   "outputs": [],
   "source": [
    "behavior_policy = ContinuousTruncatedGaussianHead(\n",
    "    sac, \n",
    "    minimum=env.action_space.low,\n",
    "    maximum=env.action_space.high,\n",
    "    sigma=np.array([1.0]),\n",
    "    name=\"sac_sigma_1.0\",\n",
    "    random_state=random_state,\n",
    ")"
   ]
  },
  {
   "cell_type": "code",
   "execution_count": 26,
   "metadata": {},
   "outputs": [],
   "source": [
    "# initialize dataset class\n",
    "dataset = SyntheticDataset(\n",
    "    env=env,\n",
    "    behavior_policy=behavior_policy,\n",
    "    random_state=random_state,\n",
    ")"
   ]
  },
  {
   "cell_type": "code",
   "execution_count": 27,
   "metadata": {},
   "outputs": [
    {
     "data": {
      "application/vnd.jupyter.widget-view+json": {
       "model_id": "f7f3f38773af4a0cb2cff2a28a81179f",
       "version_major": 2,
       "version_minor": 0
      },
      "text/plain": [
       "[obtain_trajectories]:   0%|          | 0/10000 [00:00<?, ?it/s]"
      ]
     },
     "metadata": {},
     "output_type": "display_data"
    }
   ],
   "source": [
    "# collect logged data using behavior policy\n",
    "# skip if there is a preserved logged dataset\n",
    "logged_dataset = dataset.obtain_trajectories(n_episodes=10000, obtain_info=True)"
   ]
  },
  {
   "cell_type": "code",
   "execution_count": 28,
   "metadata": {},
   "outputs": [
    {
     "data": {
      "text/plain": [
       "{'size': 70000,\n",
       " 'n_episodes': 10000,\n",
       " 'step_per_episode': 7,\n",
       " 'action_type': 'continuous',\n",
       " 'n_actions': None,\n",
       " 'action_dim': 1,\n",
       " 'action_meaning': None,\n",
       " 'state_dim': 7,\n",
       " 'state_keys': ['timestep',\n",
       "  'remaining_budget',\n",
       "  'budget_consumption_rate',\n",
       "  'cost_per_mille_of_impression',\n",
       "  'winning_rate',\n",
       "  'reward',\n",
       "  'adjust_rate'],\n",
       " 'state': array([[0.00000000e+00, 3.00000000e+03, 9.29616093e-01, ...,\n",
       "         1.83918812e-01, 2.00000000e+00, 1.13067664e-01],\n",
       "        [1.00000000e+00, 3.00000000e+03, 0.00000000e+00, ...,\n",
       "         0.00000000e+00, 0.00000000e+00, 1.20420353e-01],\n",
       "        [2.00000000e+00, 3.00000000e+03, 0.00000000e+00, ...,\n",
       "         0.00000000e+00, 0.00000000e+00, 3.05445571e-01],\n",
       "        ...,\n",
       "        [4.00000000e+00, 7.09000000e+02, 1.31127451e-01, ...,\n",
       "         1.98067633e-01, 0.00000000e+00, 7.67432314e-01],\n",
       "        [5.00000000e+00, 5.00000000e+00, 9.92947814e-01, ...,\n",
       "         5.41871921e-01, 5.00000000e+00, 2.32479393e+00],\n",
       "        [6.00000000e+00, 5.00000000e+00, 0.00000000e+00, ...,\n",
       "         3.11284047e-02, 0.00000000e+00, 6.91896914e-01]]),\n",
       " 'action': array([[0.12042035],\n",
       "        [0.30544557],\n",
       "        [0.11973931],\n",
       "        ...,\n",
       "        [2.32479393],\n",
       "        [0.69189691],\n",
       "        [5.28150319]]),\n",
       " 'reward': array([0., 0., 0., ..., 5., 0., 0.]),\n",
       " 'done': array([0., 0., 0., ..., 0., 0., 1.]),\n",
       " 'terminal': array([0., 0., 0., ..., 0., 0., 1.]),\n",
       " 'info': {'search_volume': array([201., 205., 217., ..., 203., 257., 179.]),\n",
       "  'impression': array([  0.,   0.,   0., ..., 110.,   8.,   5.]),\n",
       "  'click': array([ 0.,  0.,  0., ..., 14.,  0.,  0.]),\n",
       "  'conversion': array([0., 0., 0., ..., 5., 0., 0.]),\n",
       "  'average_bid_price': array([  6.51243781,  16.02439024,   5.85714286, ..., 109.13793103,\n",
       "          30.73151751, 232.54748603])},\n",
       " 'pscore': array([[0.58153319],\n",
       "        [0.60391818],\n",
       "        [0.57594883],\n",
       "        ...,\n",
       "        [0.37952204],\n",
       "        [0.39191527],\n",
       "        [0.33228287]])}"
      ]
     },
     "execution_count": 28,
     "metadata": {},
     "output_type": "execute_result"
    }
   ],
   "source": [
    "logged_dataset"
   ]
  },
  {
   "cell_type": "code",
   "execution_count": 29,
   "metadata": {},
   "outputs": [],
   "source": [
    "with open(\"logs/dataset_continuous.pkl\", \"wb\") as f:\n",
    "    pickle.dump(logged_dataset, f)"
   ]
  },
  {
   "cell_type": "code",
   "execution_count": 30,
   "metadata": {},
   "outputs": [],
   "source": [
    "with open(\"logs/dataset_continuous.pkl\", \"rb\") as f:\n",
    "    logged_dataset = pickle.load(f)"
   ]
  },
  {
   "cell_type": "code",
   "execution_count": 31,
   "metadata": {},
   "outputs": [
    {
     "data": {
      "application/vnd.jupyter.widget-view+json": {
       "model_id": "ad22f4446aa747bea4d30b3101bffc4f",
       "version_major": 2,
       "version_minor": 0
      },
      "text/plain": [
       "[calculate on-policy policy value]:   0%|          | 0/100 [00:00<?, ?it/s]"
      ]
     },
     "metadata": {},
     "output_type": "display_data"
    },
    {
     "data": {
      "application/vnd.jupyter.widget-view+json": {
       "model_id": "d51644a74fac425f90afee4e95da0a16",
       "version_major": 2,
       "version_minor": 0
      },
      "text/plain": [
       "[calculate on-policy policy value]:   0%|          | 0/100 [00:00<?, ?it/s]"
      ]
     },
     "metadata": {},
     "output_type": "display_data"
    },
    {
     "data": {
      "application/vnd.jupyter.widget-view+json": {
       "model_id": "3c84ab3500de4a49baf391dad3930262",
       "version_major": 2,
       "version_minor": 0
      },
      "text/plain": [
       "[calculate on-policy policy value]:   0%|          | 0/100 [00:00<?, ?it/s]"
      ]
     },
     "metadata": {},
     "output_type": "display_data"
    },
    {
     "data": {
      "image/png": "[encoded data removed]",
      "text/plain": [
       "<Figure size 432x288 with 1 Axes>"
      ]
     },
     "metadata": {},
     "output_type": "display_data"
    }
   ],
   "source": [
    "# compare performance online\n",
    "visualize_on_policy_policy_value(\n",
    "    env=env,\n",
    "    policies=[sac, behavior_policy, random],\n",
    "    policy_names=[\"sac\", \"sac (sigma=1.0)\", \"random\"],\n",
    "    n_episodes=100,\n",
    "    random_state=random_state,\n",
    ")"
   ]
  },
  {
   "cell_type": "code",
   "execution_count": 32,
   "metadata": {},
   "outputs": [
    {
     "data": {
      "text/html": [
       "<div>\n",
       "<style scoped>\n",
       "    .dataframe tbody tr th:only-of-type {\n",
       "        vertical-align: middle;\n",
       "    }\n",
       "\n",
       "    .dataframe tbody tr th {\n",
       "        vertical-align: top;\n",
       "    }\n",
       "\n",
       "    .dataframe thead th {\n",
       "        text-align: right;\n",
       "    }\n",
       "</style>\n",
       "<table border=\"1\" class=\"dataframe\">\n",
       "  <thead>\n",
       "    <tr style=\"text-align: right;\">\n",
       "      <th></th>\n",
       "      <th>adjust rate</th>\n",
       "      <th>average bid price</th>\n",
       "      <th>impression</th>\n",
       "      <th>click</th>\n",
       "      <th>conversion</th>\n",
       "      <th>winning rate</th>\n",
       "      <th>click / impression</th>\n",
       "      <th>conversion / click</th>\n",
       "    </tr>\n",
       "  </thead>\n",
       "  <tbody>\n",
       "    <tr>\n",
       "      <th>count</th>\n",
       "      <td>70000.000000</td>\n",
       "      <td>70000.000000</td>\n",
       "      <td>70000.000000</td>\n",
       "      <td>70000.000000</td>\n",
       "      <td>70000.000000</td>\n",
       "      <td>70000.000000</td>\n",
       "      <td>70000.000000</td>\n",
       "      <td>70000.000000</td>\n",
       "    </tr>\n",
       "    <tr>\n",
       "      <th>mean</th>\n",
       "      <td>1.788577</td>\n",
       "      <td>104.811641</td>\n",
       "      <td>90.439857</td>\n",
       "      <td>8.948600</td>\n",
       "      <td>1.952857</td>\n",
       "      <td>0.511295</td>\n",
       "      <td>0.073694</td>\n",
       "      <td>0.147900</td>\n",
       "    </tr>\n",
       "    <tr>\n",
       "      <th>std</th>\n",
       "      <td>1.497827</td>\n",
       "      <td>79.392272</td>\n",
       "      <td>82.441356</td>\n",
       "      <td>8.862528</td>\n",
       "      <td>2.497830</td>\n",
       "      <td>0.392179</td>\n",
       "      <td>0.074496</td>\n",
       "      <td>0.189117</td>\n",
       "    </tr>\n",
       "    <tr>\n",
       "      <th>min</th>\n",
       "      <td>0.000003</td>\n",
       "      <td>3.821596</td>\n",
       "      <td>0.000000</td>\n",
       "      <td>0.000000</td>\n",
       "      <td>0.000000</td>\n",
       "      <td>0.000000</td>\n",
       "      <td>0.000000</td>\n",
       "      <td>0.000000</td>\n",
       "    </tr>\n",
       "    <tr>\n",
       "      <th>25%</th>\n",
       "      <td>0.743639</td>\n",
       "      <td>47.149883</td>\n",
       "      <td>7.000000</td>\n",
       "      <td>0.000000</td>\n",
       "      <td>0.000000</td>\n",
       "      <td>0.081081</td>\n",
       "      <td>0.000000</td>\n",
       "      <td>0.000000</td>\n",
       "    </tr>\n",
       "    <tr>\n",
       "      <th>50%</th>\n",
       "      <td>1.436060</td>\n",
       "      <td>85.660275</td>\n",
       "      <td>70.000000</td>\n",
       "      <td>7.000000</td>\n",
       "      <td>1.000000</td>\n",
       "      <td>0.521127</td>\n",
       "      <td>0.082474</td>\n",
       "      <td>0.095238</td>\n",
       "    </tr>\n",
       "    <tr>\n",
       "      <th>75%</th>\n",
       "      <td>2.356390</td>\n",
       "      <td>140.560108</td>\n",
       "      <td>176.000000</td>\n",
       "      <td>17.000000</td>\n",
       "      <td>3.000000</td>\n",
       "      <td>0.940708</td>\n",
       "      <td>0.111111</td>\n",
       "      <td>0.249999</td>\n",
       "    </tr>\n",
       "    <tr>\n",
       "      <th>max</th>\n",
       "      <td>9.995007</td>\n",
       "      <td>546.253589</td>\n",
       "      <td>275.000000</td>\n",
       "      <td>42.000000</td>\n",
       "      <td>19.000000</td>\n",
       "      <td>1.000000</td>\n",
       "      <td>0.999995</td>\n",
       "      <td>0.999998</td>\n",
       "    </tr>\n",
       "  </tbody>\n",
       "</table>\n",
       "</div>"
      ],
      "text/plain": [
       "        adjust rate  average bid price    impression         click  \\\n",
       "count  70000.000000       70000.000000  70000.000000  70000.000000   \n",
       "mean       1.788577         104.811641     90.439857      8.948600   \n",
       "std        1.497827          79.392272     82.441356      8.862528   \n",
       "min        0.000003           3.821596      0.000000      0.000000   \n",
       "25%        0.743639          47.149883      7.000000      0.000000   \n",
       "50%        1.436060          85.660275     70.000000      7.000000   \n",
       "75%        2.356390         140.560108    176.000000     17.000000   \n",
       "max        9.995007         546.253589    275.000000     42.000000   \n",
       "\n",
       "         conversion  winning rate  click / impression  conversion / click  \n",
       "count  70000.000000  70000.000000        70000.000000        70000.000000  \n",
       "mean       1.952857      0.511295            0.073694            0.147900  \n",
       "std        2.497830      0.392179            0.074496            0.189117  \n",
       "min        0.000000      0.000000            0.000000            0.000000  \n",
       "25%        0.000000      0.081081            0.000000            0.000000  \n",
       "50%        1.000000      0.521127            0.082474            0.095238  \n",
       "75%        3.000000      0.940708            0.111111            0.249999  \n",
       "max       19.000000      1.000000            0.999995            0.999998  "
      ]
     },
     "execution_count": 32,
     "metadata": {},
     "output_type": "execute_result"
    }
   ],
   "source": [
    "# check statistics of the dataset\n",
    "df = pd.DataFrame()\n",
    "df['adjust rate'] = logged_dataset['state'][:, 6]\n",
    "df['average bid price'] = logged_dataset['info']['average_bid_price']\n",
    "df['impression'] = logged_dataset['info']['impression']\n",
    "df['click'] = logged_dataset['info']['click']\n",
    "df['conversion'] = logged_dataset['info']['conversion']\n",
    "df['winning rate'] = logged_dataset['state'][:, 4]\n",
    "df['click / impression'] = df['click'] / (df['impression'] + 1e-5)\n",
    "df['conversion / click'] = df['conversion'] / (df['click'] + 1e-5)\n",
    "df.describe()"
   ]
  },
  {
   "cell_type": "markdown",
   "metadata": {},
   "source": [
    "For more about the data collection and visualization, please refer to [examples/quickstart/rtb_synthetic_data_collection.ipynb](https://github.com/negocia-inc/rtb_reinforcement_learing/blob/ope/examples/quickstart/rtb_synthetic_data_collection.ipynb)."
   ]
  },
  {
   "cell_type": "markdown",
   "metadata": {},
   "source": [
    "## 2. Offline Reinforcement Learning\n",
    "In this section, we learn a new policy in an offline manner, without interacting to the environment.  \n",
    "To achieve this goal, we exploit logged dataset and train the policy on the data.  \n",
    "We use [d3rlpy](https://github.com/takuseno/d3rlpy)'s implementation of algorithms."
   ]
  },
  {
   "cell_type": "code",
   "execution_count": 33,
   "metadata": {},
   "outputs": [],
   "source": [
    "# import modules from d3rlpy\n",
    "from d3rlpy.dataset import MDPDataset\n",
    "from d3rlpy.algos import CQL as ContinuousCQL\n",
    "from d3rlpy.ope import FQE as ContinuousFQE\n",
    "from d3rlpy.metrics.scorer import evaluate_on_environment"
   ]
  },
  {
   "cell_type": "code",
   "execution_count": 34,
   "metadata": {},
   "outputs": [],
   "source": [
    "offlinerl_dataset = MDPDataset(\n",
    "    observations=logged_dataset[\"state\"],\n",
    "    actions=logged_dataset[\"action\"],\n",
    "    rewards=logged_dataset[\"reward\"],\n",
    "    terminals=logged_dataset[\"done\"],\n",
    "    episode_terminals=logged_dataset[\"done\"],\n",
    "    discrete_action=False,\n",
    ")\n",
    "train_episodes, test_episodes = train_test_split(offlinerl_dataset, test_size=0.2, random_state=random_state)"
   ]
  },
  {
   "cell_type": "code",
   "execution_count": 35,
   "metadata": {},
   "outputs": [],
   "source": [
    "# Use Conservetive Q-Learning policy\n",
    "cql = ContinuousCQL(\n",
    "    actor_encoder_factory=VectorEncoderFactory(hidden_units=[30, 30]),\n",
    "    critic_encoder_factory=VectorEncoderFactory(hidden_units=[30, 30]),\n",
    "    q_func_factory=MeanQFunctionFactory(),\n",
    "    use_gpu=torch.cuda.is_available(),\n",
    "    action_scaler=MinMaxActionScaler(\n",
    "        minimum=env.action_space.low,  # minimum value that policy can take\n",
    "        maximum=env.action_space.high,  # maximum value that policy can take\n",
    "    )\n",
    ")"
   ]
  },
  {
   "cell_type": "code",
   "execution_count": 36,
   "metadata": {},
   "outputs": [
    {
     "name": "stdout",
     "output_type": "stream",
     "text": [
      "2022-02-03 17:40.22 [debug    ] RandomIterator is selected.\n",
      "2022-02-03 17:40.22 [info     ] Directory is created at d3rlpy_logs/CQL_20220203174022\n",
      "2022-02-03 17:40.22 [debug    ] Fitting action scaler...       action_scaler=min_max\n",
      "2022-02-03 17:40.22 [debug    ] Building models...\n",
      "2022-02-03 17:40.22 [debug    ] Models have been built.\n",
      "2022-02-03 17:40.22 [info     ] Parameters are saved to d3rlpy_logs/CQL_20220203174022/params.json params={'action_scaler': {'type': 'min_max', 'params': {'minimum': array([0.1]), 'maximum': array([10.])}}, 'actor_encoder_factory': {'type': 'vector', 'params': {'hidden_units': [100], 'activation': 'relu', 'use_batch_norm': False, 'dropout_rate': None, 'use_dense': False}}, 'actor_learning_rate': 0.0001, 'actor_optim_factory': {'optim_cls': 'Adam', 'betas': (0.9, 0.999), 'eps': 1e-08, 'weight_decay': 0, 'amsgrad': False}, 'alpha_learning_rate': 0.0001, 'alpha_optim_factory': {'optim_cls': 'Adam', 'betas': (0.9, 0.999), 'eps': 1e-08, 'weight_decay': 0, 'amsgrad': False}, 'alpha_threshold': 10.0, 'batch_size': 256, 'conservative_weight': 5.0, 'critic_encoder_factory': {'type': 'vector', 'params': {'hidden_units': [100], 'activation': 'relu', 'use_batch_norm': False, 'dropout_rate': None, 'use_dense': False}}, 'critic_learning_rate': 0.0003, 'critic_optim_factory': {'optim_cls': 'Adam', 'betas': (0.9, 0.999), 'eps': 1e-08, 'weight_decay': 0, 'amsgrad': False}, 'gamma': 0.99, 'generated_maxlen': 100000, 'initial_alpha': 1.0, 'initial_temperature': 1.0, 'n_action_samples': 10, 'n_critics': 2, 'n_frames': 1, 'n_steps': 1, 'q_func_factory': {'type': 'mean', 'params': {'bootstrap': False, 'share_encoder': False}}, 'real_ratio': 1.0, 'reward_scaler': None, 'scaler': None, 'soft_q_backup': False, 'target_reduction_type': 'min', 'tau': 0.005, 'temp_learning_rate': 0.0001, 'temp_optim_factory': {'optim_cls': 'Adam', 'betas': (0.9, 0.999), 'eps': 1e-08, 'weight_decay': 0, 'amsgrad': False}, 'use_gpu': None, 'algorithm': 'CQL', 'observation_shape': (7,), 'action_size': 1}\n"
     ]
    },
    {
     "data": {
      "application/vnd.jupyter.widget-view+json": {
       "model_id": "a6cdda5daa8c43deb3d8c2831c06cc3e",
       "version_major": 2,
       "version_minor": 0
      },
      "text/plain": [
       "Epoch 1/1:   0%|          | 0/10000 [00:00<?, ?it/s]"
      ]
     },
     "metadata": {},
     "output_type": "display_data"
    },
    {
     "name": "stdout",
     "output_type": "stream",
     "text": [
      "2022-02-03 17:44.26 [info     ] CQL_20220203174022: epoch=1 step=10000 epoch=1 metrics={'time_sample_batch': 0.0011217228889465333, 'time_algorithm_update': 0.02232974088191986, 'temp_loss': -4.276017772118002, 'temp': 1.2034741466879844, 'alpha_loss': -13.400152545976638, 'alpha': 1.7695768750309944, 'critic_loss': 4629.5783101984025, 'actor_loss': 25.147487428418174, 'time_step': 0.024264101076126098, 'environment': 13.5} step=10000\n",
      "2022-02-03 17:44.26 [info     ] Model parameters are saved to d3rlpy_logs/CQL_20220203174022/model_10000.pt\n"
     ]
    },
    {
     "data": {
      "text/plain": [
       "[(1,\n",
       "  {'time_sample_batch': 0.0011217228889465333,\n",
       "   'time_algorithm_update': 0.02232974088191986,\n",
       "   'temp_loss': -4.276017772118002,\n",
       "   'temp': 1.2034741466879844,\n",
       "   'alpha_loss': -13.400152545976638,\n",
       "   'alpha': 1.7695768750309944,\n",
       "   'critic_loss': 4629.5783101984025,\n",
       "   'actor_loss': 25.147487428418174,\n",
       "   'time_step': 0.024264101076126098,\n",
       "   'environment': 13.5})]"
      ]
     },
     "execution_count": 36,
     "metadata": {},
     "output_type": "execute_result"
    }
   ],
   "source": [
    "cql.fit(\n",
    "    train_episodes,\n",
    "    eval_episodes=test_episodes,\n",
    "    n_steps=10000,\n",
    "    scorers={\n",
    "        'environment': evaluate_on_environment(env),\n",
    "        # to record training process w/ ground truth policy value, which is unseen to the agent\n",
    "    },\n",
    ")"
   ]
  },
  {
   "cell_type": "code",
   "execution_count": 37,
   "metadata": {},
   "outputs": [],
   "source": [
    "# save model\n",
    "cql.save_model(\"d3rlpy_logs/cql_continuous.pt\")"
   ]
  },
  {
   "cell_type": "code",
   "execution_count": 38,
   "metadata": {},
   "outputs": [
    {
     "name": "stdout",
     "output_type": "stream",
     "text": [
      "2022-02-03 17:44.27 [warning  ] Parameters will be reinitialized.\n"
     ]
    }
   ],
   "source": [
    "# reload model\n",
    "cql.build_with_env(env)\n",
    "cql.load_model(\"d3rlpy_logs/cql_continuous.pt\")"
   ]
  },
  {
   "cell_type": "code",
   "execution_count": 39,
   "metadata": {},
   "outputs": [
    {
     "data": {
      "application/vnd.jupyter.widget-view+json": {
       "model_id": "5a0e2a18e3c241be81b406927782c9d6",
       "version_major": 2,
       "version_minor": 0
      },
      "text/plain": [
       "[calculate on-policy policy value]:   0%|          | 0/100 [00:00<?, ?it/s]"
      ]
     },
     "metadata": {},
     "output_type": "display_data"
    },
    {
     "data": {
      "application/vnd.jupyter.widget-view+json": {
       "model_id": "ba7954af9e344b29a3d46aff4025c0c7",
       "version_major": 2,
       "version_minor": 0
      },
      "text/plain": [
       "[calculate on-policy policy value]:   0%|          | 0/100 [00:00<?, ?it/s]"
      ]
     },
     "metadata": {},
     "output_type": "display_data"
    },
    {
     "data": {
      "application/vnd.jupyter.widget-view+json": {
       "model_id": "f51838a4af8b45679aa97960dcabb9c9",
       "version_major": 2,
       "version_minor": 0
      },
      "text/plain": [
       "[calculate on-policy policy value]:   0%|          | 0/100 [00:00<?, ?it/s]"
      ]
     },
     "metadata": {},
     "output_type": "display_data"
    },
    {
     "data": {
      "application/vnd.jupyter.widget-view+json": {
       "model_id": "73e8e70b136a429781703bb6f255de14",
       "version_major": 2,
       "version_minor": 0
      },
      "text/plain": [
       "[calculate on-policy policy value]:   0%|          | 0/100 [00:00<?, ?it/s]"
      ]
     },
     "metadata": {},
     "output_type": "display_data"
    },
    {
     "data": {
      "image/png": "[encoded data removed]",
      "text/plain": [
       "<Figure size 576x288 with 1 Axes>"
      ]
     },
     "metadata": {},
     "output_type": "display_data"
    }
   ],
   "source": [
    "# compare performance online\n",
    "# wow, offline algorithm outperforms the online algorithm.\n",
    "# moreover, it requires no interaction to the environment!\n",
    "visualize_on_policy_policy_value(\n",
    "    env=env,\n",
    "    policies=[sac, behavior_policy, cql, random],\n",
    "    policy_names=[\"sac\", \"sac (sigma=1.0)\", \"cql\", \"random\"],\n",
    "    n_episodes=100,\n",
    "    random_state=random_state,\n",
    ")"
   ]
  },
  {
   "cell_type": "markdown",
   "metadata": {},
   "source": [
    "## 3. Off-Policy Evaluation and Evaluation of Offline RL methods\n",
    "In the previous section, we verified the performance of learned policy via online interaction (aka A/B tests).  \n",
    "However, it could be risky because the policy may perform poorly in an online environment.  \n",
    "To tackle this issue, we aim to evaluate the performance of policies in an offline manner, to gain prior knowledge on how agent works in the environment."
   ]
  },
  {
   "cell_type": "code",
   "execution_count": 40,
   "metadata": {},
   "outputs": [],
   "source": [
    "# import ope modules from offlinegym\n",
    "from offlinegym.ope import CreateOPEInput\n",
    "from offlinegym.ope import OffPolicyEvaluation as OPE\n",
    "from offlinegym.ope import ContinuousDirectMethod as DM\n",
    "from offlinegym.ope import ContinuousTrajectoryWiseImportanceSampling as TIS\n",
    "from offlinegym.ope import ContinuousStepWiseImportanceSampling as SIS\n",
    "from offlinegym.ope import ContinuousDoublyRobust as DR\n",
    "from offlinegym.ope import ContinuousSelfNormalizedTrajectoryWiseImportanceSampling as SNTIS\n",
    "from offlinegym.ope import ContinuousSelfNormalizedStepWiseImportanceSampling as SNSIS\n",
    "from offlinegym.ope import ContinuousSelfNormalizedDoublyRobust as SNDR\n",
    "from offlinegym.policy import ContinuousEvalHead"
   ]
  },
  {
   "cell_type": "code",
   "execution_count": 41,
   "metadata": {},
   "outputs": [],
   "source": [
    "# define evaluation policies (deterministic policy)\n",
    "# though OPE is applicable to stochastic policies (i.e., random), the estimation result will be unstable\n",
    "# because continuous OPE is mainly designed for deterministic policies\n",
    "cql_ = ContinuousEvalHead(\n",
    "    base_policy=cql,\n",
    "    name=\"cql\",\n",
    ")\n",
    "sac_ = ContinuousEvalHead(\n",
    "    base_policy=sac, \n",
    "    name=\"sac\", \n",
    ")\n",
    "random_ = ContinuousEvalHead(\n",
    "    base_policy=random, \n",
    "    name=\"random\", \n",
    ")\n",
    "evaluation_policies = [cql_, sac_, random_]"
   ]
  },
  {
   "cell_type": "code",
   "execution_count": 42,
   "metadata": {},
   "outputs": [],
   "source": [
    "# first, prepare OPE inputs\n",
    "prep = CreateOPEInput(\n",
    "    logged_dataset=logged_dataset,\n",
    "    use_base_model=True,  # use model-based prediction\n",
    "    base_model_args={\n",
    "        \"encoder_factory\": VectorEncoderFactory(hidden_units=[30, 30]),\n",
    "        \"q_func_factory\": MeanQFunctionFactory(),\n",
    "        \"learning_rate\": 1e-4,\n",
    "        \"use_gpu\": torch.cuda.is_available(),\n",
    "        \"action_scaler\": MinMaxActionScaler(\n",
    "            minimum=env.action_space.low,  # minimum value that policy can take\n",
    "            maximum=env.action_space.high,  # maximum value that policy can take\n",
    "        ),\n",
    "    },\n",
    ")"
   ]
  },
  {
   "cell_type": "code",
   "execution_count": 43,
   "metadata": {},
   "outputs": [
    {
     "data": {
      "application/vnd.jupyter.widget-view+json": {
       "model_id": "36a2e64400ac4e348672fde1de0268ef",
       "version_major": 2,
       "version_minor": 0
      },
      "text/plain": [
       "[fit FQE model]:   0%|          | 0/3 [00:00<?, ?it/s]"
      ]
     },
     "metadata": {},
     "output_type": "display_data"
    },
    {
     "name": "stdout",
     "output_type": "stream",
     "text": [
      "2022-02-03 17:44.30 [debug    ] RandomIterator is selected.\n",
      "2022-02-03 17:44.30 [info     ] Directory is created at d3rlpy_logs/FQE_20220203174430\n",
      "2022-02-03 17:44.30 [debug    ] Fitting action scaler...       action_scaler=min_max\n",
      "2022-02-03 17:44.30 [debug    ] Building models...\n",
      "2022-02-03 17:44.30 [debug    ] Models have been built.\n",
      "2022-02-03 17:44.30 [info     ] Parameters are saved to d3rlpy_logs/FQE_20220203174430/params.json params={'action_scaler': {'type': 'min_max', 'params': {'minimum': array([0.1]), 'maximum': array([10.])}}, 'batch_size': 100, 'encoder_factory': {'type': 'vector', 'params': {'hidden_units': [100], 'activation': 'relu', 'use_batch_norm': False, 'dropout_rate': None, 'use_dense': False}}, 'gamma': 0.99, 'generated_maxlen': 100000, 'learning_rate': 0.0001, 'n_critics': 1, 'n_frames': 1, 'n_steps': 1, 'optim_factory': {'optim_cls': 'Adam', 'betas': (0.9, 0.999), 'eps': 1e-08, 'weight_decay': 0, 'amsgrad': False}, 'q_func_factory': {'type': 'mean', 'params': {'bootstrap': False, 'share_encoder': False}}, 'real_ratio': 1.0, 'reward_scaler': None, 'scaler': None, 'target_update_interval': 100, 'use_gpu': None, 'algorithm': 'FQE', 'observation_shape': (7,), 'action_size': 1}\n"
     ]
    },
    {
     "data": {
      "application/vnd.jupyter.widget-view+json": {
       "model_id": "96c694e89f714c07a2e5d7d11463d065",
       "version_major": 2,
       "version_minor": 0
      },
      "text/plain": [
       "Epoch 1/1:   0%|          | 0/10000 [00:00<?, ?it/s]"
      ]
     },
     "metadata": {},
     "output_type": "display_data"
    },
    {
     "name": "stdout",
     "output_type": "stream",
     "text": [
      "2022-02-03 17:44.57 [info     ] FQE_20220203174430: epoch=1 step=10000 epoch=1 metrics={'time_sample_batch': 0.00047898128032684324, 'time_algorithm_update': 0.0019386317491531372, 'loss': 291.59715474727153, 'time_step': 0.002634687066078186} step=10000\n",
      "2022-02-03 17:44.57 [info     ] Model parameters are saved to d3rlpy_logs/FQE_20220203174430/model_10000.pt\n",
      "2022-02-03 17:44.57 [debug    ] RandomIterator is selected.\n",
      "2022-02-03 17:44.57 [info     ] Directory is created at d3rlpy_logs/FQE_20220203174457\n",
      "2022-02-03 17:44.57 [debug    ] Fitting action scaler...       action_scaler=min_max\n",
      "2022-02-03 17:44.57 [debug    ] Building models...\n",
      "2022-02-03 17:44.57 [debug    ] Models have been built.\n",
      "2022-02-03 17:44.57 [info     ] Parameters are saved to d3rlpy_logs/FQE_20220203174457/params.json params={'action_scaler': {'type': 'min_max', 'params': {'minimum': array([0.1]), 'maximum': array([10.])}}, 'batch_size': 100, 'encoder_factory': {'type': 'vector', 'params': {'hidden_units': [100], 'activation': 'relu', 'use_batch_norm': False, 'dropout_rate': None, 'use_dense': False}}, 'gamma': 0.99, 'generated_maxlen': 100000, 'learning_rate': 0.0001, 'n_critics': 1, 'n_frames': 1, 'n_steps': 1, 'optim_factory': {'optim_cls': 'Adam', 'betas': (0.9, 0.999), 'eps': 1e-08, 'weight_decay': 0, 'amsgrad': False}, 'q_func_factory': {'type': 'mean', 'params': {'bootstrap': False, 'share_encoder': False}}, 'real_ratio': 1.0, 'reward_scaler': None, 'scaler': None, 'target_update_interval': 100, 'use_gpu': None, 'algorithm': 'FQE', 'observation_shape': (7,), 'action_size': 1}\n"
     ]
    },
    {
     "data": {
      "application/vnd.jupyter.widget-view+json": {
       "model_id": "2e428201ba4e430ea9103806a6bd3da1",
       "version_major": 2,
       "version_minor": 0
      },
      "text/plain": [
       "Epoch 1/1:   0%|          | 0/10000 [00:00<?, ?it/s]"
      ]
     },
     "metadata": {},
     "output_type": "display_data"
    },
    {
     "name": "stdout",
     "output_type": "stream",
     "text": [
      "2022-02-03 17:45.24 [info     ] FQE_20220203174457: epoch=1 step=10000 epoch=1 metrics={'time_sample_batch': 0.0004816984176635742, 'time_algorithm_update': 0.0020292882442474367, 'loss': 117.65893121478558, 'time_step': 0.00271438467502594} step=10000\n",
      "2022-02-03 17:45.24 [info     ] Model parameters are saved to d3rlpy_logs/FQE_20220203174457/model_10000.pt\n",
      "2022-02-03 17:45.24 [debug    ] RandomIterator is selected.\n",
      "2022-02-03 17:45.24 [info     ] Directory is created at d3rlpy_logs/FQE_20220203174524\n",
      "2022-02-03 17:45.24 [debug    ] Fitting action scaler...       action_scaler=min_max\n",
      "2022-02-03 17:45.24 [debug    ] Building models...\n",
      "2022-02-03 17:45.24 [debug    ] Models have been built.\n",
      "2022-02-03 17:45.24 [info     ] Parameters are saved to d3rlpy_logs/FQE_20220203174524/params.json params={'action_scaler': {'type': 'min_max', 'params': {'minimum': array([0.1]), 'maximum': array([10.])}}, 'batch_size': 100, 'encoder_factory': {'type': 'vector', 'params': {'hidden_units': [100], 'activation': 'relu', 'use_batch_norm': False, 'dropout_rate': None, 'use_dense': False}}, 'gamma': 0.99, 'generated_maxlen': 100000, 'learning_rate': 0.0001, 'n_critics': 1, 'n_frames': 1, 'n_steps': 1, 'optim_factory': {'optim_cls': 'Adam', 'betas': (0.9, 0.999), 'eps': 1e-08, 'weight_decay': 0, 'amsgrad': False}, 'q_func_factory': {'type': 'mean', 'params': {'bootstrap': False, 'share_encoder': False}}, 'real_ratio': 1.0, 'reward_scaler': None, 'scaler': None, 'target_update_interval': 100, 'use_gpu': None, 'algorithm': 'FQE', 'observation_shape': (7,), 'action_size': 1}\n"
     ]
    },
    {
     "data": {
      "application/vnd.jupyter.widget-view+json": {
       "model_id": "23bf809f72334d18a991ef5359119e71",
       "version_major": 2,
       "version_minor": 0
      },
      "text/plain": [
       "Epoch 1/1:   0%|          | 0/10000 [00:00<?, ?it/s]"
      ]
     },
     "metadata": {},
     "output_type": "display_data"
    },
    {
     "name": "stdout",
     "output_type": "stream",
     "text": [
      "2022-02-03 17:45.48 [info     ] FQE_20220203174524: epoch=1 step=10000 epoch=1 metrics={'time_sample_batch': 0.0004799180269241333, 'time_algorithm_update': 0.0016690959215164185, 'loss': 261.80370614910123, 'time_step': 0.0023460408926010133} step=10000\n",
      "2022-02-03 17:45.48 [info     ] Model parameters are saved to d3rlpy_logs/FQE_20220203174524/model_10000.pt\n"
     ]
    },
    {
     "data": {
      "application/vnd.jupyter.widget-view+json": {
       "model_id": "9be74b6493c048d6b5cd52351b1b0965",
       "version_major": 2,
       "version_minor": 0
      },
      "text/plain": [
       "[collect input data]:   0%|          | 0/3 [00:00<?, ?it/s]"
      ]
     },
     "metadata": {},
     "output_type": "display_data"
    },
    {
     "data": {
      "application/vnd.jupyter.widget-view+json": {
       "model_id": "5a2fe0f244e24b41b0f605f069e15a96",
       "version_major": 2,
       "version_minor": 0
      },
      "text/plain": [
       "[calculate on-policy policy value]:   0%|          | 0/100 [00:00<?, ?it/s]"
      ]
     },
     "metadata": {},
     "output_type": "display_data"
    },
    {
     "data": {
      "application/vnd.jupyter.widget-view+json": {
       "model_id": "68c3b070bea048abbef0d522cf4bf3cf",
       "version_major": 2,
       "version_minor": 0
      },
      "text/plain": [
       "[calculate on-policy policy value]:   0%|          | 0/100 [00:00<?, ?it/s]"
      ]
     },
     "metadata": {},
     "output_type": "display_data"
    },
    {
     "data": {
      "application/vnd.jupyter.widget-view+json": {
       "model_id": "81fb5207448a4b29a51761eef83a478a",
       "version_major": 2,
       "version_minor": 0
      },
      "text/plain": [
       "[calculate on-policy policy value]:   0%|          | 0/100 [00:00<?, ?it/s]"
      ]
     },
     "metadata": {},
     "output_type": "display_data"
    }
   ],
   "source": [
    "input_dict = prep.obtain_whole_inputs(\n",
    "    evaluation_policies=evaluation_policies,\n",
    "    env=env,\n",
    "    n_episodes_on_policy_evaluation=100,\n",
    "    random_state=random_state,\n",
    ")"
   ]
  },
  {
   "cell_type": "code",
   "execution_count": 44,
   "metadata": {},
   "outputs": [],
   "source": [
    "with open(\"logs/ope_input_dict_continuous.pkl\", \"wb\") as f:\n",
    "    pickle.dump(input_dict, f)"
   ]
  },
  {
   "cell_type": "code",
   "execution_count": 45,
   "metadata": {},
   "outputs": [],
   "source": [
    "with open(\"logs/ope_input_dict_continuous.pkl\", \"rb\") as f:\n",
    "    input_dict = pickle.load(f)"
   ]
  },
  {
   "cell_type": "code",
   "execution_count": 46,
   "metadata": {},
   "outputs": [],
   "source": [
    "ope = OPE(\n",
    "    logged_dataset=logged_dataset,\n",
    "    ope_estimators=[\n",
    "        DM(), \n",
    "        TIS(\n",
    "            action_dim=1,\n",
    "            use_truncated_kernel=True,\n",
    "            action_min=env.action_space.low,\n",
    "            action_max=env.action_space.high,\n",
    "        ), \n",
    "        SIS(\n",
    "            action_dim=1,\n",
    "            use_truncated_kernel=True,\n",
    "            action_min=env.action_space.low,\n",
    "            action_max=env.action_space.high,\n",
    "        ), \n",
    "        DR(\n",
    "            action_dim=1,\n",
    "            use_truncated_kernel=True,\n",
    "            action_min=env.action_space.low,\n",
    "            action_max=env.action_space.high,\n",
    "        ),\n",
    "        SNTIS(\n",
    "            action_dim=1,\n",
    "            use_truncated_kernel=True,\n",
    "            action_min=env.action_space.low,\n",
    "            action_max=env.action_space.high,\n",
    "        ), \n",
    "        SNSIS(\n",
    "            action_dim=1,\n",
    "            use_truncated_kernel=True,\n",
    "            action_min=env.action_space.low,\n",
    "            action_max=env.action_space.high,\n",
    "        ), \n",
    "        SNDR(\n",
    "            action_dim=1,\n",
    "            use_truncated_kernel=True,\n",
    "            action_min=env.action_space.low,\n",
    "            action_max=env.action_space.high,\n",
    "        ),\n",
    "    ],\n",
    ")"
   ]
  },
  {
   "cell_type": "code",
   "execution_count": 47,
   "metadata": {},
   "outputs": [],
   "source": [
    "# performance estimation by ope\n",
    "# takes time to compute\n",
    "policy_value_df_dict, policy_value_interval_df_dict = ope.summarize_off_policy_estimates(input_dict, random_state=random_state)"
   ]
  },
  {
   "cell_type": "code",
   "execution_count": 48,
   "metadata": {},
   "outputs": [
    {
     "data": {
      "text/plain": [
       "{'cql':            policy_value  relative_policy_value\n",
       " on_policy     13.230000               1.000000\n",
       " dm             4.792799               0.362268\n",
       " tis           12.849773               0.971260\n",
       " sis           18.660814               1.410492\n",
       " dr            16.793131               1.269322\n",
       " sntis          5.675354               0.428976\n",
       " snsis         13.886855               1.049649\n",
       " sndr          -1.978310              -0.149532,\n",
       " 'sac':            policy_value  relative_policy_value\n",
       " on_policy      9.690000               1.000000\n",
       " dm             6.269644               0.647022\n",
       " tis           39.547617               4.081281\n",
       " sis           24.889830               2.568610\n",
       " dr            20.971360               2.164227\n",
       " sntis          8.849582               0.913270\n",
       " snsis         12.981231               1.339652\n",
       " sndr           0.597097               0.061620,\n",
       " 'random':            policy_value  relative_policy_value\n",
       " on_policy     14.580000               1.000000\n",
       " dm             3.745755               0.256911\n",
       " tis            0.055235               0.003788\n",
       " sis            7.454226               0.511264\n",
       " dr             7.988510               0.547909\n",
       " sntis          7.134173               0.489312\n",
       " snsis         12.114003               0.830864\n",
       " sndr           8.400485               0.576165}"
      ]
     },
     "execution_count": 48,
     "metadata": {},
     "output_type": "execute_result"
    }
   ],
   "source": [
    "# estimated policy performance\n",
    "policy_value_df_dict"
   ]
  },
  {
   "cell_type": "code",
   "execution_count": 49,
   "metadata": {},
   "outputs": [
    {
     "data": {
      "text/plain": [
       "{'cql':             mean  95.0% CI (lower)  95.0% CI (upper)\n",
       " dm      4.792976          4.789593          4.796622\n",
       " tis    12.756790          6.850116         19.606625\n",
       " sis    18.748299         15.047135         25.675522\n",
       " dr     16.813161         12.970353         24.009566\n",
       " sntis   5.741872          4.638710          6.944545\n",
       " snsis  13.919427         12.831888         14.965705\n",
       " sndr   -1.991983         -5.345655          1.105331,\n",
       " 'sac':             mean  95.0% CI (lower)  95.0% CI (upper)\n",
       " dm      6.269892          6.267096          6.273362\n",
       " tis    39.542529         38.399616         40.883708\n",
       " sis    24.911332         24.556967         25.277483\n",
       " dr     20.989573         20.747529         21.260537\n",
       " sntis   8.854102          8.038891          9.880084\n",
       " snsis  12.954432         12.405055         13.553686\n",
       " sndr    0.770657         -2.489432          4.917055,\n",
       " 'random':             mean  95.0% CI (lower)  95.0% CI (upper)\n",
       " dm      3.745924          3.741784          3.749447\n",
       " tis     0.059568          0.005346          0.132838\n",
       " sis     7.929962          2.921665         16.024639\n",
       " dr      8.226065          5.556711         12.321119\n",
       " sntis   8.138044          0.309106         21.102616\n",
       " snsis  12.454833          9.230860         16.480462\n",
       " sndr    8.902972          3.067687         15.307390}"
      ]
     },
     "execution_count": 49,
     "metadata": {},
     "output_type": "execute_result"
    }
   ],
   "source": [
    "# estimated policy performance confidence intervals\n",
    "policy_value_interval_df_dict"
   ]
  },
  {
   "cell_type": "markdown",
   "metadata": {},
   "source": [
    "## 4. Evaluation of OPE methods\n",
    "Now, we evaluate how well ope estimators estimated the policy value."
   ]
  },
  {
   "cell_type": "code",
   "execution_count": 50,
   "metadata": {},
   "outputs": [
    {
     "data": {
      "image/png": "[encoded data removed]",
      "text/plain": [
       "<Figure size 1008x2592 with 3 Axes>"
      ]
     },
     "metadata": {},
     "output_type": "display_data"
    }
   ],
   "source": [
    "# we can visualize and compare the result\n",
    "# it seems offline metrics underestimates the policy value\n",
    "ope.visualize_off_policy_estimates(input_dict, random_state=random_state, sharey=True)"
   ]
  },
  {
   "cell_type": "code",
   "execution_count": 51,
   "metadata": {},
   "outputs": [
    {
     "data": {
      "text/html": [
       "<div>\n",
       "<style scoped>\n",
       "    .dataframe tbody tr th:only-of-type {\n",
       "        vertical-align: middle;\n",
       "    }\n",
       "\n",
       "    .dataframe tbody tr th {\n",
       "        vertical-align: top;\n",
       "    }\n",
       "\n",
       "    .dataframe thead th {\n",
       "        text-align: right;\n",
       "    }\n",
       "</style>\n",
       "<table border=\"1\" class=\"dataframe\">\n",
       "  <thead>\n",
       "    <tr style=\"text-align: right;\">\n",
       "      <th></th>\n",
       "      <th>cql</th>\n",
       "      <th>sac</th>\n",
       "      <th>random</th>\n",
       "    </tr>\n",
       "  </thead>\n",
       "  <tbody>\n",
       "    <tr>\n",
       "      <th>dm</th>\n",
       "      <td>71.186353</td>\n",
       "      <td>11.698837</td>\n",
       "      <td>117.380860</td>\n",
       "    </tr>\n",
       "    <tr>\n",
       "      <th>tis</th>\n",
       "      <td>0.144572</td>\n",
       "      <td>891.477317</td>\n",
       "      <td>210.968809</td>\n",
       "    </tr>\n",
       "    <tr>\n",
       "      <th>sis</th>\n",
       "      <td>29.493737</td>\n",
       "      <td>231.034818</td>\n",
       "      <td>50.776657</td>\n",
       "    </tr>\n",
       "    <tr>\n",
       "      <th>dr</th>\n",
       "      <td>12.695903</td>\n",
       "      <td>127.269090</td>\n",
       "      <td>43.447743</td>\n",
       "    </tr>\n",
       "    <tr>\n",
       "      <th>sntis</th>\n",
       "      <td>57.072677</td>\n",
       "      <td>0.706303</td>\n",
       "      <td>55.440336</td>\n",
       "    </tr>\n",
       "    <tr>\n",
       "      <th>snsis</th>\n",
       "      <td>0.431459</td>\n",
       "      <td>10.832200</td>\n",
       "      <td>6.081141</td>\n",
       "    </tr>\n",
       "    <tr>\n",
       "      <th>sndr</th>\n",
       "      <td>231.292680</td>\n",
       "      <td>82.680879</td>\n",
       "      <td>38.186405</td>\n",
       "    </tr>\n",
       "  </tbody>\n",
       "</table>\n",
       "</div>"
      ],
      "text/plain": [
       "              cql         sac      random\n",
       "dm      71.186353   11.698837  117.380860\n",
       "tis      0.144572  891.477317  210.968809\n",
       "sis     29.493737  231.034818   50.776657\n",
       "dr      12.695903  127.269090   43.447743\n",
       "sntis   57.072677    0.706303   55.440336\n",
       "snsis    0.431459   10.832200    6.081141\n",
       "sndr   231.292680   82.680879   38.186405"
      ]
     },
     "execution_count": 51,
     "metadata": {},
     "output_type": "execute_result"
    }
   ],
   "source": [
    "# squared-error (se) measures the estimation accuracy of OPE\n",
    "eval_metric_ope_df = ope.summarize_estimators_comparison(input_dict, metric=\"se\")\n",
    "eval_metric_ope_df"
   ]
  },
  {
   "cell_type": "markdown",
   "metadata": {},
   "source": [
    "## Reference\n",
    "\n",
    "- Yuta Saito, Shunsuke Aihara, Megumi Matsutani, and Yusuke Narita. \\\n",
    "\"Open Bandit Dataset and Pipeline: Towards Realistic and Reproducible Off-Policy Evaluation.\", 2021.\n",
    "\n",
    "- Takuma Seno and Michita Imai. \\\n",
    "\"d3rlpy: An Offline Deep Reinforcement Library.\", 2021.\n",
    "\n",
    "- Sergey Levine, Aviral Kumar, George Tucker, and Justin Fu. \\\n",
    "\"Offline Reinforcement Learning: Tutorial, Review, and Perspectives on Open Problems.\" 2020.\n",
    "\n",
    "- Aviral Kumar, Aurick Zhou, George Tucker, and Sergey Levine. \\\n",
    "\"Conservative Q-Learning for Offline Reinforcement Learning.\", 2020.\n",
    "\n",
    "- Nathan Kallus and Masatoshi Uehara. \\\n",
    "\"Intrinsically Efficient, Stable, and Bounded Off-Policy Evaluation for Reinforcement Learning.\", 2019.\n",
    "\n",
    "- Hoang Le, Cameron Voloshin, and Yisong Yue. \\\n",
    "\"Batch Policy Learning under Constraints.\", 2019.\n",
    "\n",
    "- Tuomas Haarnoja, Aurick Zhou, Pieter Abbeel, and Sergey Levine. \\\n",
    "\"Soft Actor-Critic: Off-Policy Maximum Entropy Deep Reinforcement Learning with a Stochastic Actor.\" 2018.\n",
    "\n",
    "- Di Wu, Xiujun Chen, Xun Yang, Hao Wang, Qing Tan, Xiaoxun Zhang, Jian Xu, and Kun Gai. \\\n",
    "\"Budget Constrained Bidding by Model-free Reinforcement Learning in Display Advertising.\", 2018.\n",
    "\n",
    "- Jun Zhao, Guang Qiu, Ziyu Guan, Wei Zhao, and Xiaofei He. \\\n",
    "\"Deep Reinforcement Learning for Sponsored Search Real-time Bidding.\", 2018.\n",
    "\n",
    "- Nan Jiang and Lihong Li. \\\n",
    "\"Doubly Robust Off-policy Value Evaluation for Reinforcement Learning.\", 2016.\n",
    "\n",
    "- Philip S. Thomas and Emma Brunskill. \\\n",
    "\"Data-Efficient Off-Policy Policy Evaluation for Reinforcement Learning.\", 2016.\n",
    "\n",
    "- Greg Brockman, Vicki Cheung, Ludwig Pettersson, Jonas Schneider, John Schulman, Jie Tang, and Wojciech Zaremba. \\\n",
    "\"OpenAI Gym.\", 2016.\n",
    "\n",
    "- Adith Swaminathan and Thorsten Joachims. \\\n",
    "\"The Self-Normalized Estimator for Counterfactual Learning.\", 2015.\n",
    "\n",
    "- Miroslav Dudík, Dumitru Erhan, John Langford, and Lihong Li. \\\n",
    "\"Doubly Robust Policy Evaluation and Optimization.\", 2014.\n",
    "\n",
    "- Alex Strehl, John Langford, Sham Kakade, and Lihong Li. \\\n",
    "\"Learning from Logged Implicit Exploration Data.\", 2010.\n",
    "\n",
    "- Alina Beygelzimer and John Langford. \\\n",
    "\"The Offset Tree for Learning with Partial Labels.\", 2009.\n",
    "\n",
    "- Doina Precup, Richard S. Sutton, and Satinder P. Singh. \\\n",
    "\"Eligibility Traces for Off-Policy Policy Evaluation.\", 2000."
   ]
  },
  {
   "cell_type": "code",
   "execution_count": null,
   "metadata": {},
   "outputs": [],
   "source": []
  }
 ],
 "metadata": {
  "kernelspec": {
   "display_name": "Python 3",
   "language": "python",
   "name": "python3"
  },
  "language_info": {
   "codemirror_mode": {
    "name": "ipython",
    "version": 3
   },
   "file_extension": ".py",
   "mimetype": "text/x-python",
   "name": "python",
   "nbconvert_exporter": "python",
   "pygments_lexer": "ipython3",
   "version": "3.8.5"
  }
 },
 "nbformat": 4,
 "nbformat_minor": 4
}
