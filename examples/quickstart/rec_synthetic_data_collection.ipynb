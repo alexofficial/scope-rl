{
 "cells": [
  {
   "attachments": {},
   "cell_type": "markdown",
   "metadata": {},
   "source": [
    "# Quickstart Example with Synthetic Recommender Simulation and Dataset (Data Collection)\n",
    "This notebook provides an example of visualizing the logged dataset collected on an recommender environment.\n",
    "\n",
    "This example on consists of the following case:\n",
    "1. Discrete Action Case\n",
    "\n",
    "\\* This library uses [d3rlpy](https://github.com/takuseno/d3rlpy)'s algorithm implementations.  \n",
    "\\* Also, our data collection module is highly inspired by [Open Bandit Pipeline](https://github.com/st-tech/zr-obp)."
   ]
  },
  {
   "cell_type": "code",
   "execution_count": 106,
   "metadata": {},
   "outputs": [
    {
     "name": "stdout",
     "output_type": "stream",
     "text": [
      "The autoreload extension is already loaded. To reload it, use:\n",
      "  %reload_ext autoreload\n"
     ]
    }
   ],
   "source": [
    "# delete later\n",
    "%load_ext autoreload\n",
    "%autoreload 2"
   ]
  },
  {
   "cell_type": "code",
   "execution_count": 107,
   "metadata": {},
   "outputs": [
    {
     "name": "stdout",
     "output_type": "stream",
     "text": [
      "1.1.1\n"
     ]
    }
   ],
   "source": [
    "import d3rlpy\n",
    "print(d3rlpy.__version__)\n"
   ]
  },
  {
   "cell_type": "code",
   "execution_count": 108,
   "metadata": {},
   "outputs": [],
   "source": [
    "# delete later\n",
    "import warnings\n",
    "warnings.simplefilter('ignore')"
   ]
  },
  {
   "cell_type": "code",
   "execution_count": 109,
   "metadata": {},
   "outputs": [],
   "source": [
    "# delete later\n",
    "import sys\n",
    "sys.path.append('../')\n",
    "sys.path.append('../../')"
   ]
  },
  {
   "cell_type": "code",
   "execution_count": 110,
   "metadata": {},
   "outputs": [],
   "source": [
    "# import OFRL modules\n",
    "import ofrl\n",
    "from ofrl.dataset import SyntheticDataset\n",
    "from ofrl.policy import OnlineHead\n",
    "from ofrl.policy import DiscreteEpsilonGreedyHead\n",
    "from ofrl.ope.online import (\n",
    "    calc_on_policy_policy_value,\n",
    "    visualize_on_policy_policy_value,\n",
    ")\n",
    "\n",
    "# import recgym\n",
    "from recgym import RECEnv\n",
    "from recgym import UserModel\n",
    "\n",
    "# import d3rlpy algorithms\n",
    "from d3rlpy.algos import DiscreteRandomPolicy\n",
    "\n",
    "# import from other libraries\n",
    "import gym\n",
    "import torch\n",
    "from sklearn.model_selection import train_test_split\n",
    "from sklearn.utils import check_random_state"
   ]
  },
  {
   "cell_type": "code",
   "execution_count": 111,
   "metadata": {},
   "outputs": [],
   "source": [
    "import pickle\n",
    "from dataclasses import dataclass\n",
    "from typing import Tuple, Union, Optional\n",
    "from glob import glob\n",
    "from tqdm import tqdm\n",
    "\n",
    "import numpy as np\n",
    "import pandas as pd\n",
    "\n",
    "import matplotlib.pyplot as plt\n",
    "import seaborn as sns\n",
    "\n",
    "%matplotlib inline"
   ]
  },
  {
   "cell_type": "code",
   "execution_count": 112,
   "metadata": {},
   "outputs": [
    {
     "name": "stdout",
     "output_type": "stream",
     "text": [
      "0.0.0\n"
     ]
    }
   ],
   "source": [
    "# version\n",
    "print(ofrl.__version__)"
   ]
  },
  {
   "cell_type": "code",
   "execution_count": 113,
   "metadata": {},
   "outputs": [],
   "source": [
    "# set random state\n",
    "random_state = 12345\n",
    "random_ = check_random_state(random_state)"
   ]
  },
  {
   "attachments": {},
   "cell_type": "markdown",
   "metadata": {},
   "source": [
    "## 0. Description of Synthetic Recommender Simulation Environment\n",
    "\n",
    "To begin with, we briefly describe the basic usage of the environment.\n",
    "\n",
    "#### RL setup for Recommendation\n",
    "In recommendation, the objective of the RL agent is to maximize reward\n",
    "\n",
    "We often formulate this recommendation problem as the following (Partially Observable) Markov Decision Process ((PO)MDP):\n",
    "- `state`: \n",
    "   - A vector representing user preference.  The preference changes over time in an episode by the actions presented by the RL agent.\n",
    "   - When the true state is unobservable, you can gain observation instead of state.\n",
    "- `action`:  Index of an item to present to the user.\n",
    "- `reward`: User engagement signal. Either binary or continuous.\n",
    "\n",
    "Let's see how it works!"
   ]
  },
  {
   "cell_type": "code",
   "execution_count": 114,
   "metadata": {},
   "outputs": [],
   "source": [
    "# setup environment\n",
    "env = RECEnv(random_state=random_state)"
   ]
  },
  {
   "cell_type": "code",
   "execution_count": 115,
   "metadata": {},
   "outputs": [],
   "source": [
    "agent = DiscreteEpsilonGreedyHead(\n",
    "      base_policy = DiscreteRandomPolicy(),\n",
    "      name = 'random',\n",
    "      n_actions = env.n_items,\n",
    "      epsilon = 1. ,\n",
    "      random_state = random_state, \n",
    ")"
   ]
  },
  {
   "cell_type": "code",
   "execution_count": 116,
   "metadata": {},
   "outputs": [],
   "source": [
    "# interact agent with the environment\n",
    "# only 6 lines are needed for RL interaction\n",
    "for episode in range(10):\n",
    "    obs, info = env.reset()\n",
    "    done = False\n",
    "\n",
    "    while not done:\n",
    "        action = agent.sample_action_online(obs)\n",
    "        obs, reward, done, truncated, info = env.step(action)"
   ]
  },
  {
   "cell_type": "code",
   "execution_count": 117,
   "metadata": {},
   "outputs": [
    {
     "name": "stdout",
     "output_type": "stream",
     "text": [
      "(5,)\n",
      "[ 0.1093544  -0.03842231 -0.0212866   0.10483962 -0.04061846]\n"
     ]
    }
   ],
   "source": [
    "# state \n",
    "print(obs.shape)\n",
    "print(obs)"
   ]
  },
  {
   "cell_type": "code",
   "execution_count": 118,
   "metadata": {},
   "outputs": [
    {
     "data": {
      "image/png": "[encoded data removed]",
      "text/plain": [
       "<Figure size 640x480 with 1 Axes>"
      ]
     },
     "metadata": {},
     "output_type": "display_data"
    }
   ],
   "source": [
    "# let's visualize the transition of reward\n",
    "obs, info = env.reset()\n",
    "done = False\n",
    "reward_list = []\n",
    "\n",
    "while not done:\n",
    "    action = agent.sample_action_online(obs)\n",
    "\n",
    "    obs, reward, done, truncated, info = env.step(action)\n",
    "    reward_list.append(reward)\n",
    "\n",
    "# plot\n",
    "fig = plt.figure()\n",
    "ax1 = fig.add_subplot(111)\n",
    "ax1.plot(reward_list[:-1], label='reward', color='tab:orange')\n",
    "ax1.set_xlabel('timestep')\n",
    "ax1.set_ylabel('reward')\n",
    "ax1.legend(loc='upper left')\n",
    "plt.show()"
   ]
  },
  {
   "attachments": {},
   "cell_type": "markdown",
   "metadata": {},
   "source": [
    "For more about the environmental configuration , please refer to [examples/quickstart/rec_synthetic_customize_env.ipynb](https://github.com/negocia-inc/rec_reinforcement_learing/blob/ope/examples/quickstart/rec_synthetic_customize_env.ipynb)."
   ]
  },
  {
   "cell_type": "markdown",
   "metadata": {},
   "source": [
    "## 1. Discrete Action Case\n",
    "Here, we present how to collect logged data by a behavior policy in the case of discrete action.\n",
    "\n",
    "The procedure requires two steps:\n",
    "\n",
    "1. Learn a base deterministic policy\n",
    "2. Convert the deterministic policy into a stochastic policy.\n",
    "\n",
    "Below, we first learn a deterministic policy using [d3rlpy](https://github.com/takuseno/d3rlpy)."
   ]
  },
  {
   "cell_type": "code",
   "execution_count": 119,
   "metadata": {},
   "outputs": [],
   "source": [
    "# standardized environment for discrete action\n",
    "env = RECEnv(random_state=random_state)"
   ]
  },
  {
   "cell_type": "code",
   "execution_count": 120,
   "metadata": {},
   "outputs": [],
   "source": [
    "# for api compatibility to d3rlpy\n",
    "from ofrl.utils import OldGymAPIWrapper\n",
    "env_ = OldGymAPIWrapper(env)"
   ]
  },
  {
   "cell_type": "code",
   "execution_count": 121,
   "metadata": {},
   "outputs": [],
   "source": [
    "# learn a base deterministic policy for data collection\n",
    "from d3rlpy.algos import DoubleDQN\n",
    "from d3rlpy.models.encoders import VectorEncoderFactory\n",
    "from d3rlpy.models.q_functions import MeanQFunctionFactory\n",
    "from d3rlpy.online.buffers import ReplayBuffer\n",
    "from d3rlpy.online.explorers import LinearDecayEpsilonGreedy\n",
    "\n",
    "# model\n",
    "ddqn = DoubleDQN(\n",
    "    encoder_factory=VectorEncoderFactory(hidden_units=[30, 30]),\n",
    "    q_func_factory=MeanQFunctionFactory(),\n",
    "    target_update_interval=100,\n",
    "    use_gpu=torch.cuda.is_available(),\n",
    ")\n",
    "# replay buffer\n",
    "buffer = ReplayBuffer(\n",
    "    maxlen=10000,\n",
    "    env=env_,\n",
    ")\n",
    "# explorers\n",
    "explorer = LinearDecayEpsilonGreedy(\n",
    "    start_epsilon=1.0,\n",
    "    end_epsilon=0.1,\n",
    "    duration=1000,\n",
    ")"
   ]
  },
  {
   "cell_type": "code",
   "execution_count": 122,
   "metadata": {},
   "outputs": [
    {
     "name": "stdout",
     "output_type": "stream",
     "text": [
      "2023-01-29 19:10.24 [info     ] Directory is created at d3rlpy_logs/DoubleDQN_online_20230129191024\n",
      "2023-01-29 19:10.24 [debug    ] Building model...\n",
      "2023-01-29 19:10.24 [debug    ] Model has been built.\n",
      "2023-01-29 19:10.24 [info     ] Parameters are saved to d3rlpy_logs/DoubleDQN_online_20230129191024/params.json params={'action_scaler': None, 'batch_size': 32, 'encoder_factory': {'type': 'vector', 'params': {'hidden_units': [30, 30], 'activation': 'relu', 'use_batch_norm': False, 'dropout_rate': None, 'use_dense': False}}, 'gamma': 0.99, 'generated_maxlen': 100000, 'learning_rate': 6.25e-05, 'n_critics': 1, 'n_frames': 1, 'n_steps': 1, 'optim_factory': {'optim_cls': 'Adam', 'betas': (0.9, 0.999), 'eps': 1e-08, 'weight_decay': 0, 'amsgrad': False}, 'q_func_factory': {'type': 'mean', 'params': {'share_encoder': False}}, 'real_ratio': 1.0, 'reward_scaler': None, 'scaler': None, 'target_update_interval': 100, 'use_gpu': None, 'algorithm': 'DoubleDQN', 'observation_shape': (5,), 'action_size': 100}\n"
     ]
    },
    {
     "data": {
      "application/vnd.jupyter.widget-view+json": {
       "model_id": "e4b07459e5c94386b9d2942ea4c34377",
       "version_major": 2,
       "version_minor": 0
      },
      "text/plain": [
       "  0%|          | 0/100000 [00:00<?, ?it/s]"
      ]
     },
     "metadata": {},
     "output_type": "display_data"
    },
    {
     "name": "stdout",
     "output_type": "stream",
     "text": [
      "2023-01-29 19:10.24 [info     ] Model parameters are saved to d3rlpy_logs/DoubleDQN_online_20230129191024/model_1000.pt\n",
      "2023-01-29 19:10.24 [info     ] DoubleDQN_online_20230129191024: epoch=1 step=1000 epoch=1 metrics={'time_inference': 0.00011585307121276856, 'time_environment_step': 1.7534255981445312e-05, 'time_step': 0.0001407284736633301, 'rollout_return': -0.26534847964190983, 'evaluation': -0.16596018986335592} step=1000\n",
      "2023-01-29 19:10.25 [info     ] Model parameters are saved to d3rlpy_logs/DoubleDQN_online_20230129191024/model_2000.pt\n",
      "2023-01-29 19:10.25 [info     ] DoubleDQN_online_20230129191024: epoch=2 step=2000 epoch=2 metrics={'time_inference': 0.00012767839431762696, 'time_environment_step': 2.325439453125e-05, 'time_sample_batch': 2.6998043060302734e-05, 'time_algorithm_update': 0.0006235084533691407, 'loss': 0.017797822850290686, 'time_step': 0.0008162415027618408, 'rollout_return': 0.07785749864732197, 'evaluation': 0.5040027257004918} step=2000\n",
      "2023-01-29 19:10.26 [info     ] Model parameters are saved to d3rlpy_logs/DoubleDQN_online_20230129191024/model_3000.pt\n",
      "2023-01-29 19:10.26 [info     ] DoubleDQN_online_20230129191024: epoch=3 step=3000 epoch=3 metrics={'time_inference': 0.0001326024532318115, 'time_environment_step': 2.4643182754516603e-05, 'time_sample_batch': 3.067421913146973e-05, 'time_algorithm_update': 0.0006461780071258545, 'loss': 0.012918813258875162, 'time_step': 0.0008499295711517334, 'rollout_return': 0.4577813237828757, 'evaluation': 0.6154191138536107} step=3000\n",
      "2023-01-29 19:10.27 [info     ] Model parameters are saved to d3rlpy_logs/DoubleDQN_online_20230129191024/model_4000.pt\n",
      "2023-01-29 19:10.27 [info     ] DoubleDQN_online_20230129191024: epoch=4 step=4000 epoch=4 metrics={'time_inference': 0.00012781381607055665, 'time_environment_step': 2.3354291915893554e-05, 'time_sample_batch': 2.9092073440551758e-05, 'time_algorithm_update': 0.0006281514167785644, 'loss': 0.015710317185614258, 'time_step': 0.0008233113288879394, 'rollout_return': 0.6442780851972972, 'evaluation': 1.2267494711152485} step=4000\n",
      "2023-01-29 19:10.28 [info     ] Model parameters are saved to d3rlpy_logs/DoubleDQN_online_20230129191024/model_5000.pt\n",
      "2023-01-29 19:10.28 [info     ] DoubleDQN_online_20230129191024: epoch=5 step=5000 epoch=5 metrics={'time_inference': 0.0001443173885345459, 'time_environment_step': 2.7773141860961915e-05, 'time_sample_batch': 3.515625e-05, 'time_algorithm_update': 0.0007061204910278321, 'loss': 0.01970242368709296, 'time_step': 0.0009311904907226562, 'rollout_return': 0.6672689063443754, 'evaluation': 0.9313977197137719} step=5000\n",
      "2023-01-29 19:10.29 [info     ] Model parameters are saved to d3rlpy_logs/DoubleDQN_online_20230129191024/model_6000.pt\n",
      "2023-01-29 19:10.29 [info     ] DoubleDQN_online_20230129191024: epoch=6 step=6000 epoch=6 metrics={'time_inference': 0.00012742042541503908, 'time_environment_step': 2.3303031921386718e-05, 'time_sample_batch': 2.9193639755249024e-05, 'time_algorithm_update': 0.0006165027618408204, 'loss': 0.023085518965963274, 'time_step': 0.000811182975769043, 'rollout_return': 0.7863005763516202, 'evaluation': 0.7085289598761655} step=6000\n",
      "2023-01-29 19:10.29 [info     ] Model parameters are saved to d3rlpy_logs/DoubleDQN_online_20230129191024/model_7000.pt\n",
      "2023-01-29 19:10.29 [info     ] DoubleDQN_online_20230129191024: epoch=7 step=7000 epoch=7 metrics={'time_inference': 0.000129962682723999, 'time_environment_step': 2.3598194122314452e-05, 'time_sample_batch': 2.95867919921875e-05, 'time_algorithm_update': 0.0006286478042602539, 'loss': 0.027065242931246757, 'time_step': 0.0008268024921417236, 'rollout_return': 0.7890902441071558, 'evaluation': 0.7648252978661947} step=7000\n",
      "2023-01-29 19:10.30 [info     ] Model parameters are saved to d3rlpy_logs/DoubleDQN_online_20230129191024/model_8000.pt\n",
      "2023-01-29 19:10.30 [info     ] DoubleDQN_online_20230129191024: epoch=8 step=8000 epoch=8 metrics={'time_inference': 0.0001269545555114746, 'time_environment_step': 2.338409423828125e-05, 'time_sample_batch': 2.9697656631469728e-05, 'time_algorithm_update': 0.0006198592185974121, 'loss': 0.02761996478680521, 'time_step': 0.0008146665096282959, 'rollout_return': 0.7792850117098798, 'evaluation': 0.8783980659997119} step=8000\n",
      "2023-01-29 19:10.31 [info     ] Model parameters are saved to d3rlpy_logs/DoubleDQN_online_20230129191024/model_9000.pt\n",
      "2023-01-29 19:10.31 [info     ] DoubleDQN_online_20230129191024: epoch=9 step=9000 epoch=9 metrics={'time_inference': 0.00012725615501403808, 'time_environment_step': 2.3150444030761717e-05, 'time_sample_batch': 2.9945850372314454e-05, 'time_algorithm_update': 0.0006201069355010986, 'loss': 0.027930583127774296, 'time_step': 0.0008151943683624267, 'rollout_return': 1.0321210951922033, 'evaluation': 1.556566292180896} step=9000\n",
      "2023-01-29 19:10.32 [info     ] Model parameters are saved to d3rlpy_logs/DoubleDQN_online_20230129191024/model_10000.pt\n",
      "2023-01-29 19:10.32 [info     ] DoubleDQN_online_20230129191024: epoch=10 step=10000 epoch=10 metrics={'time_inference': 0.00013500237464904785, 'time_environment_step': 2.4582147598266603e-05, 'time_sample_batch': 3.118729591369629e-05, 'time_algorithm_update': 0.0006487534046173096, 'loss': 0.030031133792363107, 'time_step': 0.0008550043106079102, 'rollout_return': 0.9206106281568093, 'evaluation': 0.7094979387113256} step=10000\n",
      "2023-01-29 19:10.33 [info     ] Model parameters are saved to d3rlpy_logs/DoubleDQN_online_20230129191024/model_11000.pt\n",
      "2023-01-29 19:10.33 [info     ] DoubleDQN_online_20230129191024: epoch=11 step=11000 epoch=11 metrics={'time_inference': 0.00013389205932617186, 'time_environment_step': 2.5191068649291994e-05, 'time_sample_batch': 3.269267082214355e-05, 'time_algorithm_update': 0.0006508543491363525, 'loss': 0.03262830840982497, 'time_step': 0.0008597843647003174, 'rollout_return': 1.0522179333347192, 'evaluation': 1.036845188891841} step=11000\n",
      "2023-01-29 19:10.34 [info     ] Model parameters are saved to d3rlpy_logs/DoubleDQN_online_20230129191024/model_12000.pt\n",
      "2023-01-29 19:10.34 [info     ] DoubleDQN_online_20230129191024: epoch=12 step=12000 epoch=12 metrics={'time_inference': 0.00012633442878723144, 'time_environment_step': 2.3285627365112305e-05, 'time_sample_batch': 3.0210018157958983e-05, 'time_algorithm_update': 0.0006144881248474121, 'loss': 0.03229313379246741, 'time_step': 0.0008098695278167724, 'rollout_return': 1.0691837054192381, 'evaluation': 1.3589030610142756} step=12000\n",
      "2023-01-29 19:10.35 [info     ] Model parameters are saved to d3rlpy_logs/DoubleDQN_online_20230129191024/model_13000.pt\n",
      "2023-01-29 19:10.35 [info     ] DoubleDQN_online_20230129191024: epoch=13 step=13000 epoch=13 metrics={'time_inference': 0.0001334214210510254, 'time_environment_step': 2.447795867919922e-05, 'time_sample_batch': 3.154349327087402e-05, 'time_algorithm_update': 0.0006683781147003173, 'loss': 0.032310992943122986, 'time_step': 0.0008744616508483886, 'rollout_return': 1.203695803487616, 'evaluation': 1.576046341137431} step=13000\n",
      "2023-01-29 19:10.35 [info     ] Model parameters are saved to d3rlpy_logs/DoubleDQN_online_20230129191024/model_14000.pt\n",
      "2023-01-29 19:10.35 [info     ] DoubleDQN_online_20230129191024: epoch=14 step=14000 epoch=14 metrics={'time_inference': 0.0001237359046936035, 'time_environment_step': 2.2428750991821287e-05, 'time_sample_batch': 2.8420209884643555e-05, 'time_algorithm_update': 0.000602358341217041, 'loss': 0.03748253022506833, 'time_step': 0.0007919666767120361, 'rollout_return': 1.211397317340082, 'evaluation': 1.2124045501878629} step=14000\n",
      "2023-01-29 19:10.36 [info     ] Model parameters are saved to d3rlpy_logs/DoubleDQN_online_20230129191024/model_15000.pt\n",
      "2023-01-29 19:10.36 [info     ] DoubleDQN_online_20230129191024: epoch=15 step=15000 epoch=15 metrics={'time_inference': 0.00012497997283935546, 'time_environment_step': 2.262091636657715e-05, 'time_sample_batch': 2.965998649597168e-05, 'time_algorithm_update': 0.0006102983951568604, 'loss': 0.04122436028346419, 'time_step': 0.0008028535842895507, 'rollout_return': 1.2101369588429889, 'evaluation': 1.22514909195602} step=15000\n",
      "2023-01-29 19:10.37 [info     ] Model parameters are saved to d3rlpy_logs/DoubleDQN_online_20230129191024/model_16000.pt\n",
      "2023-01-29 19:10.37 [info     ] DoubleDQN_online_20230129191024: epoch=16 step=16000 epoch=16 metrics={'time_inference': 0.00012726140022277833, 'time_environment_step': 2.2989511489868163e-05, 'time_sample_batch': 2.9828786849975587e-05, 'time_algorithm_update': 0.0006106421947479248, 'loss': 0.042906804444268344, 'time_step': 0.0008060414791107178, 'rollout_return': 1.3586316486636596, 'evaluation': 1.6448781184598815} step=16000\n",
      "2023-01-29 19:10.38 [info     ] Model parameters are saved to d3rlpy_logs/DoubleDQN_online_20230129191024/model_17000.pt\n",
      "2023-01-29 19:10.38 [info     ] DoubleDQN_online_20230129191024: epoch=17 step=17000 epoch=17 metrics={'time_inference': 0.00012540411949157714, 'time_environment_step': 2.2777080535888673e-05, 'time_sample_batch': 2.9265642166137694e-05, 'time_algorithm_update': 0.0006069283485412597, 'loss': 0.04415290898270905, 'time_step': 0.000799586296081543, 'rollout_return': 1.3495775507833188, 'evaluation': 1.5360775545642043} step=17000\n",
      "2023-01-29 19:10.39 [info     ] Model parameters are saved to d3rlpy_logs/DoubleDQN_online_20230129191024/model_18000.pt\n",
      "2023-01-29 19:10.39 [info     ] DoubleDQN_online_20230129191024: epoch=18 step=18000 epoch=18 metrics={'time_inference': 0.00012505650520324706, 'time_environment_step': 2.2888422012329103e-05, 'time_sample_batch': 2.9301881790161132e-05, 'time_algorithm_update': 0.0006112024784088135, 'loss': 0.045439768441952764, 'time_step': 0.0008036534786224365, 'rollout_return': 1.2773122845068003, 'evaluation': 1.5205760193474838} step=18000\n",
      "2023-01-29 19:10.40 [info     ] Model parameters are saved to d3rlpy_logs/DoubleDQN_online_20230129191024/model_19000.pt\n",
      "2023-01-29 19:10.40 [info     ] DoubleDQN_online_20230129191024: epoch=19 step=19000 epoch=19 metrics={'time_inference': 0.00012980198860168456, 'time_environment_step': 2.3679256439208984e-05, 'time_sample_batch': 2.9806375503540038e-05, 'time_algorithm_update': 0.0006376698017120362, 'loss': 0.04768550428654999, 'time_step': 0.0008368675708770752, 'rollout_return': 1.2141087643720136, 'evaluation': 1.3236847586063802} step=19000\n",
      "2023-01-29 19:10.40 [info     ] Model parameters are saved to d3rlpy_logs/DoubleDQN_online_20230129191024/model_20000.pt\n",
      "2023-01-29 19:10.40 [info     ] DoubleDQN_online_20230129191024: epoch=20 step=20000 epoch=20 metrics={'time_inference': 0.00013410997390747071, 'time_environment_step': 2.4486541748046873e-05, 'time_sample_batch': 3.0687093734741214e-05, 'time_algorithm_update': 0.0006510388851165772, 'loss': 0.04851146566867828, 'time_step': 0.0008569338321685791, 'rollout_return': 1.3666184156929557, 'evaluation': 1.5183343753741472} step=20000\n",
      "2023-01-29 19:10.41 [info     ] Model parameters are saved to d3rlpy_logs/DoubleDQN_online_20230129191024/model_21000.pt\n",
      "2023-01-29 19:10.41 [info     ] DoubleDQN_online_20230129191024: epoch=21 step=21000 epoch=21 metrics={'time_inference': 0.00013540148735046386, 'time_environment_step': 2.4687767028808594e-05, 'time_sample_batch': 3.184843063354492e-05, 'time_algorithm_update': 0.0006521472930908203, 'loss': 0.0483489460516721, 'time_step': 0.0008611350059509278, 'rollout_return': 1.2525888305587607, 'evaluation': 1.314532961241614} step=21000\n",
      "2023-01-29 19:10.42 [info     ] Model parameters are saved to d3rlpy_logs/DoubleDQN_online_20230129191024/model_22000.pt\n",
      "2023-01-29 19:10.42 [info     ] DoubleDQN_online_20230129191024: epoch=22 step=22000 epoch=22 metrics={'time_inference': 0.00012530422210693359, 'time_environment_step': 2.2992134094238283e-05, 'time_sample_batch': 2.9632806777954102e-05, 'time_algorithm_update': 0.000607210636138916, 'loss': 0.049063247346319255, 'time_step': 0.000800638198852539, 'rollout_return': 1.3811445003978542, 'evaluation': 1.440437790927105} step=22000\n",
      "2023-01-29 19:10.43 [info     ] Model parameters are saved to d3rlpy_logs/DoubleDQN_online_20230129191024/model_23000.pt\n",
      "2023-01-29 19:10.43 [info     ] DoubleDQN_online_20230129191024: epoch=23 step=23000 epoch=23 metrics={'time_inference': 0.00012523865699768066, 'time_environment_step': 2.2772550582885742e-05, 'time_sample_batch': 2.927541732788086e-05, 'time_algorithm_update': 0.0006101212501525879, 'loss': 0.04915934362448752, 'time_step': 0.0008027331829071045, 'rollout_return': 1.3361675617822033, 'evaluation': 1.7434377407680142} step=23000\n",
      "2023-01-29 19:10.44 [info     ] Model parameters are saved to d3rlpy_logs/DoubleDQN_online_20230129191024/model_24000.pt\n",
      "2023-01-29 19:10.44 [info     ] DoubleDQN_online_20230129191024: epoch=24 step=24000 epoch=24 metrics={'time_inference': 0.0001297926902770996, 'time_environment_step': 2.389407157897949e-05, 'time_sample_batch': 3.0278444290161133e-05, 'time_algorithm_update': 0.0006336960792541504, 'loss': 0.05073754061572254, 'time_step': 0.0008336985111236572, 'rollout_return': 1.2641817414159566, 'evaluation': 1.7261835345981964} step=24000\n",
      "2023-01-29 19:10.45 [info     ] Model parameters are saved to d3rlpy_logs/DoubleDQN_online_20230129191024/model_25000.pt\n",
      "2023-01-29 19:10.45 [info     ] DoubleDQN_online_20230129191024: epoch=25 step=25000 epoch=25 metrics={'time_inference': 0.00012845921516418458, 'time_environment_step': 2.3909807205200194e-05, 'time_sample_batch': 3.0257463455200197e-05, 'time_algorithm_update': 0.0006282534599304199, 'loss': 0.04907243297062814, 'time_step': 0.0008267862796783448, 'rollout_return': 1.3982253782152358, 'evaluation': 1.4050674179909688} step=25000\n",
      "2023-01-29 19:10.45 [info     ] Model parameters are saved to d3rlpy_logs/DoubleDQN_online_20230129191024/model_26000.pt\n",
      "2023-01-29 19:10.45 [info     ] DoubleDQN_online_20230129191024: epoch=26 step=26000 epoch=26 metrics={'time_inference': 0.00012691760063171387, 'time_environment_step': 2.332758903503418e-05, 'time_sample_batch': 2.9865026473999025e-05, 'time_algorithm_update': 0.0006209306716918945, 'loss': 0.049001734338700774, 'time_step': 0.0008167390823364258, 'rollout_return': 1.3077031093007552, 'evaluation': 1.4835022305237147} step=26000\n",
      "2023-01-29 19:10.46 [info     ] Model parameters are saved to d3rlpy_logs/DoubleDQN_online_20230129191024/model_27000.pt\n",
      "2023-01-29 19:10.46 [info     ] DoubleDQN_online_20230129191024: epoch=27 step=27000 epoch=27 metrics={'time_inference': 0.00012638163566589355, 'time_environment_step': 2.3012399673461914e-05, 'time_sample_batch': 2.9603958129882814e-05, 'time_algorithm_update': 0.0006118619441986084, 'loss': 0.04971322323288768, 'time_step': 0.0008061950206756592, 'rollout_return': 1.3319989022232621, 'evaluation': 1.4337380482086226} step=27000\n",
      "2023-01-29 19:10.47 [info     ] Model parameters are saved to d3rlpy_logs/DoubleDQN_online_20230129191024/model_28000.pt\n",
      "2023-01-29 19:10.47 [info     ] DoubleDQN_online_20230129191024: epoch=28 step=28000 epoch=28 metrics={'time_inference': 0.00012496232986450195, 'time_environment_step': 2.301645278930664e-05, 'time_sample_batch': 2.9274463653564453e-05, 'time_algorithm_update': 0.0006100296974182129, 'loss': 0.05008041289821267, 'time_step': 0.0008025949001312256, 'rollout_return': 1.2203563706384726, 'evaluation': 1.2968422439270682} step=28000\n",
      "2023-01-29 19:10.48 [info     ] Model parameters are saved to d3rlpy_logs/DoubleDQN_online_20230129191024/model_29000.pt\n",
      "2023-01-29 19:10.48 [info     ] DoubleDQN_online_20230129191024: epoch=29 step=29000 epoch=29 metrics={'time_inference': 0.00012768101692199707, 'time_environment_step': 2.3633718490600585e-05, 'time_sample_batch': 3.023529052734375e-05, 'time_algorithm_update': 0.0006194417476654053, 'loss': 0.04992741498164833, 'time_step': 0.0008167304992675781, 'rollout_return': 1.3223386856000205, 'evaluation': 1.513442913722049} step=29000\n",
      "2023-01-29 19:10.49 [info     ] Model parameters are saved to d3rlpy_logs/DoubleDQN_online_20230129191024/model_30000.pt\n",
      "2023-01-29 19:10.49 [info     ] DoubleDQN_online_20230129191024: epoch=30 step=30000 epoch=30 metrics={'time_inference': 0.00014974331855773925, 'time_environment_step': 2.7976512908935547e-05, 'time_sample_batch': 3.667998313903809e-05, 'time_algorithm_update': 0.0007367885112762451, 'loss': 0.049237161522731186, 'time_step': 0.0009703772068023681, 'rollout_return': 1.3764533049783905, 'evaluation': 1.8331243380916173} step=30000\n",
      "2023-01-29 19:10.50 [info     ] Model parameters are saved to d3rlpy_logs/DoubleDQN_online_20230129191024/model_31000.pt\n",
      "2023-01-29 19:10.50 [info     ] DoubleDQN_online_20230129191024: epoch=31 step=31000 epoch=31 metrics={'time_inference': 0.00013383173942565918, 'time_environment_step': 2.5131940841674805e-05, 'time_sample_batch': 3.26545238494873e-05, 'time_algorithm_update': 0.000652529001235962, 'loss': 0.050900807499885556, 'time_step': 0.0008612589836120606, 'rollout_return': 1.4115039703032553, 'evaluation': 1.603844615783651} step=31000\n",
      "2023-01-29 19:10.51 [info     ] Model parameters are saved to d3rlpy_logs/DoubleDQN_online_20230129191024/model_32000.pt\n",
      "2023-01-29 19:10.51 [info     ] DoubleDQN_online_20230129191024: epoch=32 step=32000 epoch=32 metrics={'time_inference': 0.00014156293869018556, 'time_environment_step': 2.664923667907715e-05, 'time_sample_batch': 3.5065174102783206e-05, 'time_algorithm_update': 0.0006951243877410889, 'loss': 0.05154305326100439, 'time_step': 0.0009168298244476319, 'rollout_return': 1.385789334680355, 'evaluation': 1.5717210775640809} step=32000\n",
      "2023-01-29 19:10.52 [info     ] Model parameters are saved to d3rlpy_logs/DoubleDQN_online_20230129191024/model_33000.pt\n",
      "2023-01-29 19:10.52 [info     ] DoubleDQN_online_20230129191024: epoch=33 step=33000 epoch=33 metrics={'time_inference': 0.0001283416748046875, 'time_environment_step': 2.3545265197753906e-05, 'time_sample_batch': 3.0991315841674803e-05, 'time_algorithm_update': 0.0006241941452026367, 'loss': 0.05285026824846864, 'time_step': 0.0008230326175689697, 'rollout_return': 1.3358318792777333, 'evaluation': 1.4223368128634013} step=33000\n",
      "2023-01-29 19:10.53 [info     ] Model parameters are saved to d3rlpy_logs/DoubleDQN_online_20230129191024/model_34000.pt\n",
      "2023-01-29 19:10.53 [info     ] DoubleDQN_online_20230129191024: epoch=34 step=34000 epoch=34 metrics={'time_inference': 0.00012990403175354003, 'time_environment_step': 2.3883819580078125e-05, 'time_sample_batch': 3.08082103729248e-05, 'time_algorithm_update': 0.0006309537887573242, 'loss': 0.0518966006655246, 'time_step': 0.0008316888809204102, 'rollout_return': 1.2952423271956417, 'evaluation': 1.1710139493212761} step=34000\n",
      "2023-01-29 19:10.53 [info     ] Model parameters are saved to d3rlpy_logs/DoubleDQN_online_20230129191024/model_35000.pt\n",
      "2023-01-29 19:10.53 [info     ] DoubleDQN_online_20230129191024: epoch=35 step=35000 epoch=35 metrics={'time_inference': 0.00014028692245483397, 'time_environment_step': 2.617359161376953e-05, 'time_sample_batch': 3.425788879394531e-05, 'time_algorithm_update': 0.0006944930553436279, 'loss': 0.05140211518853903, 'time_step': 0.0009136931896209716, 'rollout_return': 1.3629521571299406, 'evaluation': 1.569427917066485} step=35000\n",
      "2023-01-29 19:10.54 [info     ] Model parameters are saved to d3rlpy_logs/DoubleDQN_online_20230129191024/model_36000.pt\n",
      "2023-01-29 19:10.54 [info     ] DoubleDQN_online_20230129191024: epoch=36 step=36000 epoch=36 metrics={'time_inference': 0.00013205385208129883, 'time_environment_step': 2.4352073669433594e-05, 'time_sample_batch': 3.199386596679688e-05, 'time_algorithm_update': 0.0006356511116027832, 'loss': 0.04998901305161416, 'time_step': 0.0008409614562988281, 'rollout_return': 1.315757041293002, 'evaluation': 1.5980475711015074} step=36000\n",
      "2023-01-29 19:10.55 [info     ] Model parameters are saved to d3rlpy_logs/DoubleDQN_online_20230129191024/model_37000.pt\n",
      "2023-01-29 19:10.55 [info     ] DoubleDQN_online_20230129191024: epoch=37 step=37000 epoch=37 metrics={'time_inference': 0.00012816572189331055, 'time_environment_step': 2.3503065109252928e-05, 'time_sample_batch': 3.009223937988281e-05, 'time_algorithm_update': 0.0006340515613555909, 'loss': 0.050571835147216915, 'time_step': 0.0008315207958221435, 'rollout_return': 1.3085568347113294, 'evaluation': 1.4272565592228863} step=37000\n",
      "2023-01-29 19:10.56 [info     ] Model parameters are saved to d3rlpy_logs/DoubleDQN_online_20230129191024/model_38000.pt\n",
      "2023-01-29 19:10.56 [info     ] DoubleDQN_online_20230129191024: epoch=38 step=38000 epoch=38 metrics={'time_inference': 0.00012875723838806153, 'time_environment_step': 2.344560623168945e-05, 'time_sample_batch': 3.1045198440551756e-05, 'time_algorithm_update': 0.0006238431930541993, 'loss': 0.04960796604026109, 'time_step': 0.0008228693008422852, 'rollout_return': 1.2699996746090376, 'evaluation': 1.7116639405323604} step=38000\n",
      "2023-01-29 19:10.57 [info     ] Model parameters are saved to d3rlpy_logs/DoubleDQN_online_20230129191024/model_39000.pt\n",
      "2023-01-29 19:10.57 [info     ] DoubleDQN_online_20230129191024: epoch=39 step=39000 epoch=39 metrics={'time_inference': 0.0001212151050567627, 'time_environment_step': 2.1790266036987304e-05, 'time_sample_batch': 2.739739418029785e-05, 'time_algorithm_update': 0.0005907981395721436, 'loss': 0.04975760838482529, 'time_step': 0.0007759938240051269, 'rollout_return': 1.4359034135431248, 'evaluation': 1.6130000349326465} step=39000\n",
      "2023-01-29 19:10.58 [info     ] Model parameters are saved to d3rlpy_logs/DoubleDQN_online_20230129191024/model_40000.pt\n",
      "2023-01-29 19:10.58 [info     ] DoubleDQN_online_20230129191024: epoch=40 step=40000 epoch=40 metrics={'time_inference': 0.00013561534881591797, 'time_environment_step': 2.4929523468017578e-05, 'time_sample_batch': 3.486847877502441e-05, 'time_algorithm_update': 0.0006409082412719727, 'loss': 0.050073364514857534, 'time_step': 0.0008524467945098877, 'rollout_return': 1.4813319896041761, 'evaluation': 1.450979686919616} step=40000\n",
      "2023-01-29 19:10.59 [info     ] Model parameters are saved to d3rlpy_logs/DoubleDQN_online_20230129191024/model_41000.pt\n",
      "2023-01-29 19:10.59 [info     ] DoubleDQN_online_20230129191024: epoch=41 step=41000 epoch=41 metrics={'time_inference': 0.00012320971488952637, 'time_environment_step': 2.3337602615356447e-05, 'time_sample_batch': 2.849721908569336e-05, 'time_algorithm_update': 0.0006060709953308105, 'loss': 0.051523559041321276, 'time_step': 0.0007964041233062744, 'rollout_return': 1.3320328522927454, 'evaluation': 1.5029559898180973} step=41000\n",
      "2023-01-29 19:10.59 [info     ] Model parameters are saved to d3rlpy_logs/DoubleDQN_online_20230129191024/model_42000.pt\n",
      "2023-01-29 19:10.59 [info     ] DoubleDQN_online_20230129191024: epoch=42 step=42000 epoch=42 metrics={'time_inference': 0.00012021946907043458, 'time_environment_step': 2.149033546447754e-05, 'time_sample_batch': 2.6091814041137695e-05, 'time_algorithm_update': 0.0005838160514831544, 'loss': 0.05162842272594571, 'time_step': 0.0007659440040588379, 'rollout_return': 1.296432080878937, 'evaluation': 1.289382538019429} step=42000\n",
      "2023-01-29 19:11.00 [info     ] Model parameters are saved to d3rlpy_logs/DoubleDQN_online_20230129191024/model_43000.pt\n",
      "2023-01-29 19:11.00 [info     ] DoubleDQN_online_20230129191024: epoch=43 step=43000 epoch=43 metrics={'time_inference': 0.00011826634407043457, 'time_environment_step': 2.1251440048217775e-05, 'time_sample_batch': 2.5434017181396484e-05, 'time_algorithm_update': 0.0005831389427185059, 'loss': 0.05055618733912706, 'time_step': 0.000762291431427002, 'rollout_return': 1.3828241286909153, 'evaluation': 1.6657692674564264} step=43000\n",
      "2023-01-29 19:11.01 [info     ] Model parameters are saved to d3rlpy_logs/DoubleDQN_online_20230129191024/model_44000.pt\n",
      "2023-01-29 19:11.01 [info     ] DoubleDQN_online_20230129191024: epoch=44 step=44000 epoch=44 metrics={'time_inference': 0.00011858391761779785, 'time_environment_step': 2.134251594543457e-05, 'time_sample_batch': 2.5223493576049805e-05, 'time_algorithm_update': 0.0005815465450286865, 'loss': 0.05169122450612485, 'time_step': 0.0007610149383544922, 'rollout_return': 1.4570880995259612, 'evaluation': 1.5059027589835177} step=44000\n",
      "2023-01-29 19:11.02 [info     ] Model parameters are saved to d3rlpy_logs/DoubleDQN_online_20230129191024/model_45000.pt\n",
      "2023-01-29 19:11.02 [info     ] DoubleDQN_online_20230129191024: epoch=45 step=45000 epoch=45 metrics={'time_inference': 0.00011849188804626464, 'time_environment_step': 2.129673957824707e-05, 'time_sample_batch': 2.486276626586914e-05, 'time_algorithm_update': 0.0005825536251068116, 'loss': 0.05207688866741955, 'time_step': 0.0007613816261291504, 'rollout_return': 1.4273811247012032, 'evaluation': 1.5650733425485526} step=45000\n",
      "2023-01-29 19:11.02 [info     ] Model parameters are saved to d3rlpy_logs/DoubleDQN_online_20230129191024/model_46000.pt\n",
      "2023-01-29 19:11.02 [info     ] DoubleDQN_online_20230129191024: epoch=46 step=46000 epoch=46 metrics={'time_inference': 0.00011847639083862304, 'time_environment_step': 2.11944580078125e-05, 'time_sample_batch': 2.5223255157470702e-05, 'time_algorithm_update': 0.0005826914310455323, 'loss': 0.052065064564347265, 'time_step': 0.0007617619037628174, 'rollout_return': 1.4386841463401203, 'evaluation': 1.4112501106211064} step=46000\n",
      "2023-01-29 19:11.03 [info     ] Model parameters are saved to d3rlpy_logs/DoubleDQN_online_20230129191024/model_47000.pt\n",
      "2023-01-29 19:11.03 [info     ] DoubleDQN_online_20230129191024: epoch=47 step=47000 epoch=47 metrics={'time_inference': 0.0001180875301361084, 'time_environment_step': 2.1135807037353517e-05, 'time_sample_batch': 2.5092124938964844e-05, 'time_algorithm_update': 0.0005823960304260254, 'loss': 0.053522121373564005, 'time_step': 0.0007609810829162598, 'rollout_return': 1.3309409779372532, 'evaluation': 1.6693775564051052} step=47000\n",
      "2023-01-29 19:11.04 [info     ] Model parameters are saved to d3rlpy_logs/DoubleDQN_online_20230129191024/model_48000.pt\n",
      "2023-01-29 19:11.04 [info     ] DoubleDQN_online_20230129191024: epoch=48 step=48000 epoch=48 metrics={'time_inference': 0.00011857914924621583, 'time_environment_step': 2.1243810653686522e-05, 'time_sample_batch': 2.5127410888671874e-05, 'time_algorithm_update': 0.000582660436630249, 'loss': 0.053270496740937236, 'time_step': 0.0007617194652557373, 'rollout_return': 1.2918835270503508, 'evaluation': 1.4819716089452615} step=48000\n",
      "2023-01-29 19:11.05 [info     ] Model parameters are saved to d3rlpy_logs/DoubleDQN_online_20230129191024/model_49000.pt\n",
      "2023-01-29 19:11.05 [info     ] DoubleDQN_online_20230129191024: epoch=49 step=49000 epoch=49 metrics={'time_inference': 0.00012077832221984864, 'time_environment_step': 2.205467224121094e-05, 'time_sample_batch': 2.6812076568603515e-05, 'time_algorithm_update': 0.0005926830768585205, 'loss': 0.052524674829095605, 'time_step': 0.0007771139144897461, 'rollout_return': 1.4530595313644437, 'evaluation': 1.2450943872855569} step=49000\n",
      "2023-01-29 19:11.06 [info     ] Model parameters are saved to d3rlpy_logs/DoubleDQN_online_20230129191024/model_50000.pt\n",
      "2023-01-29 19:11.06 [info     ] DoubleDQN_online_20230129191024: epoch=50 step=50000 epoch=50 metrics={'time_inference': 0.0001258699893951416, 'time_environment_step': 2.3299217224121095e-05, 'time_sample_batch': 3.0128002166748047e-05, 'time_algorithm_update': 0.0006100773811340332, 'loss': 0.05375283453240991, 'time_step': 0.0008049383163452148, 'rollout_return': 1.3520679150466188, 'evaluation': 1.6843270272862494} step=50000\n",
      "2023-01-29 19:11.06 [info     ] Model parameters are saved to d3rlpy_logs/DoubleDQN_online_20230129191024/model_51000.pt\n",
      "2023-01-29 19:11.06 [info     ] DoubleDQN_online_20230129191024: epoch=51 step=51000 epoch=51 metrics={'time_inference': 0.00011964702606201172, 'time_environment_step': 2.1738767623901368e-05, 'time_sample_batch': 2.644491195678711e-05, 'time_algorithm_update': 0.0005862853527069092, 'loss': 0.05132688669487834, 'time_step': 0.0007686672210693359, 'rollout_return': 1.3051954744205059, 'evaluation': 1.376658282385789} step=51000\n",
      "2023-01-29 19:11.07 [info     ] Model parameters are saved to d3rlpy_logs/DoubleDQN_online_20230129191024/model_52000.pt\n",
      "2023-01-29 19:11.07 [info     ] DoubleDQN_online_20230129191024: epoch=52 step=52000 epoch=52 metrics={'time_inference': 0.00011803770065307617, 'time_environment_step': 2.1254777908325196e-05, 'time_sample_batch': 2.4886369705200195e-05, 'time_algorithm_update': 0.0005778353214263916, 'loss': 0.05081924653425813, 'time_step': 0.0007561495304107666, 'rollout_return': 1.3601521174157982, 'evaluation': 1.3218309766230703} step=52000\n",
      "2023-01-29 19:11.08 [info     ] Model parameters are saved to d3rlpy_logs/DoubleDQN_online_20230129191024/model_53000.pt\n",
      "2023-01-29 19:11.08 [info     ] DoubleDQN_online_20230129191024: epoch=53 step=53000 epoch=53 metrics={'time_inference': 0.00011907625198364258, 'time_environment_step': 2.1503686904907226e-05, 'time_sample_batch': 2.615976333618164e-05, 'time_algorithm_update': 0.0006363685131072998, 'loss': 0.05007850862853229, 'time_step': 0.0008174796104431152, 'rollout_return': 1.4039202620072952, 'evaluation': 1.2924682280169602} step=53000\n",
      "2023-01-29 19:11.09 [info     ] Model parameters are saved to d3rlpy_logs/DoubleDQN_online_20230129191024/model_54000.pt\n",
      "2023-01-29 19:11.09 [info     ] DoubleDQN_online_20230129191024: epoch=54 step=54000 epoch=54 metrics={'time_inference': 0.00011880373954772949, 'time_environment_step': 2.139782905578613e-05, 'time_sample_batch': 2.587270736694336e-05, 'time_algorithm_update': 0.0005814793109893798, 'loss': 0.05060358439665288, 'time_step': 0.0007620315551757813, 'rollout_return': 1.2904512281202265, 'evaluation': 1.6153184841399497} step=54000\n",
      "2023-01-29 19:11.10 [info     ] Model parameters are saved to d3rlpy_logs/DoubleDQN_online_20230129191024/model_55000.pt\n",
      "2023-01-29 19:11.10 [info     ] DoubleDQN_online_20230129191024: epoch=55 step=55000 epoch=55 metrics={'time_inference': 0.00011763501167297363, 'time_environment_step': 2.1170377731323243e-05, 'time_sample_batch': 2.526378631591797e-05, 'time_algorithm_update': 0.0005782332420349121, 'loss': 0.0499758907854557, 'time_step': 0.0007566292285919189, 'rollout_return': 1.3805977836744021, 'evaluation': 1.6741330076377978} step=55000\n",
      "2023-01-29 19:11.10 [info     ] Model parameters are saved to d3rlpy_logs/DoubleDQN_online_20230129191024/model_56000.pt\n",
      "2023-01-29 19:11.10 [info     ] DoubleDQN_online_20230129191024: epoch=56 step=56000 epoch=56 metrics={'time_inference': 0.0001190629005432129, 'time_environment_step': 2.1309852600097655e-05, 'time_sample_batch': 2.5879383087158205e-05, 'time_algorithm_update': 0.0005825684070587158, 'loss': 0.050186300093308094, 'time_step': 0.0007632246017456054, 'rollout_return': 1.36901660594803, 'evaluation': 1.3535104044535133} step=56000\n",
      "2023-01-29 19:11.11 [info     ] Model parameters are saved to d3rlpy_logs/DoubleDQN_online_20230129191024/model_57000.pt\n",
      "2023-01-29 19:11.11 [info     ] DoubleDQN_online_20230129191024: epoch=57 step=57000 epoch=57 metrics={'time_inference': 0.00012312173843383788, 'time_environment_step': 2.24454402923584e-05, 'time_sample_batch': 2.8890371322631835e-05, 'time_algorithm_update': 0.0005969312191009521, 'loss': 0.05125157393142581, 'time_step': 0.0007865633964538574, 'rollout_return': 1.5034658630376256, 'evaluation': 1.284294022799785} step=57000\n",
      "2023-01-29 19:11.12 [info     ] Model parameters are saved to d3rlpy_logs/DoubleDQN_online_20230129191024/model_58000.pt\n",
      "2023-01-29 19:11.12 [info     ] DoubleDQN_online_20230129191024: epoch=58 step=58000 epoch=58 metrics={'time_inference': 0.00012022852897644042, 'time_environment_step': 2.176976203918457e-05, 'time_sample_batch': 2.754998207092285e-05, 'time_algorithm_update': 0.0005877718925476074, 'loss': 0.05170666515268386, 'time_step': 0.0007722177505493164, 'rollout_return': 1.356669860197619, 'evaluation': 0.9963586778162632} step=58000\n",
      "2023-01-29 19:11.13 [info     ] Model parameters are saved to d3rlpy_logs/DoubleDQN_online_20230129191024/model_59000.pt\n",
      "2023-01-29 19:11.13 [info     ] DoubleDQN_online_20230129191024: epoch=59 step=59000 epoch=59 metrics={'time_inference': 0.00012834811210632325, 'time_environment_step': 2.4134159088134765e-05, 'time_sample_batch': 3.0087947845458983e-05, 'time_algorithm_update': 0.0006288044452667236, 'loss': 0.05365511208027601, 'time_step': 0.0008277101516723633, 'rollout_return': 1.4154734272246137, 'evaluation': 1.4021549795620811} step=59000\n",
      "2023-01-29 19:11.14 [info     ] Model parameters are saved to d3rlpy_logs/DoubleDQN_online_20230129191024/model_60000.pt\n",
      "2023-01-29 19:11.14 [info     ] DoubleDQN_online_20230129191024: epoch=60 step=60000 epoch=60 metrics={'time_inference': 0.00013184571266174316, 'time_environment_step': 2.4289608001708984e-05, 'time_sample_batch': 3.132462501525879e-05, 'time_algorithm_update': 0.0006510605812072754, 'loss': 0.05233505879342556, 'time_step': 0.0008553121089935302, 'rollout_return': 1.3673406553406764, 'evaluation': 1.5671681164266065} step=60000\n",
      "2023-01-29 19:11.15 [info     ] Model parameters are saved to d3rlpy_logs/DoubleDQN_online_20230129191024/model_61000.pt\n",
      "2023-01-29 19:11.15 [info     ] DoubleDQN_online_20230129191024: epoch=61 step=61000 epoch=61 metrics={'time_inference': 0.0001238386631011963, 'time_environment_step': 2.246856689453125e-05, 'time_sample_batch': 2.8400182723999023e-05, 'time_algorithm_update': 0.0006029608249664307, 'loss': 0.05173078781832009, 'time_step': 0.0007929596900939942, 'rollout_return': 1.5322820727381192, 'evaluation': 1.7199625920143002} step=61000\n",
      "2023-01-29 19:11.15 [info     ] Model parameters are saved to d3rlpy_logs/DoubleDQN_online_20230129191024/model_62000.pt\n",
      "2023-01-29 19:11.15 [info     ] DoubleDQN_online_20230129191024: epoch=62 step=62000 epoch=62 metrics={'time_inference': 0.00012069606781005859, 'time_environment_step': 2.179265022277832e-05, 'time_sample_batch': 2.643108367919922e-05, 'time_algorithm_update': 0.0005909528732299805, 'loss': 0.0531109957806766, 'time_step': 0.0007745208740234375, 'rollout_return': 1.4432774606535583, 'evaluation': 1.4976860172576143} step=62000\n",
      "2023-01-29 19:11.16 [info     ] Model parameters are saved to d3rlpy_logs/DoubleDQN_online_20230129191024/model_63000.pt\n",
      "2023-01-29 19:11.16 [info     ] DoubleDQN_online_20230129191024: epoch=63 step=63000 epoch=63 metrics={'time_inference': 0.00012227535247802735, 'time_environment_step': 2.209782600402832e-05, 'time_sample_batch': 2.7822256088256834e-05, 'time_algorithm_update': 0.0005965073108673096, 'loss': 0.05426668594963849, 'time_step': 0.0007837533950805664, 'rollout_return': 1.330954180193641, 'evaluation': 1.725223049331173} step=63000\n",
      "2023-01-29 19:11.17 [info     ] Model parameters are saved to d3rlpy_logs/DoubleDQN_online_20230129191024/model_64000.pt\n",
      "2023-01-29 19:11.17 [info     ] DoubleDQN_online_20230129191024: epoch=64 step=64000 epoch=64 metrics={'time_inference': 0.0001208806037902832, 'time_environment_step': 2.163863182067871e-05, 'time_sample_batch': 2.6729583740234374e-05, 'time_algorithm_update': 0.0005917954444885254, 'loss': 0.053006920469924806, 'time_step': 0.0007756881713867188, 'rollout_return': 1.4318941004881773, 'evaluation': 1.7263827354395116} step=64000\n",
      "2023-01-29 19:11.18 [info     ] Model parameters are saved to d3rlpy_logs/DoubleDQN_online_20230129191024/model_65000.pt\n",
      "2023-01-29 19:11.18 [info     ] DoubleDQN_online_20230129191024: epoch=65 step=65000 epoch=65 metrics={'time_inference': 0.0001735844612121582, 'time_environment_step': 3.229188919067383e-05, 'time_sample_batch': 4.049205780029297e-05, 'time_algorithm_update': 0.0008888192176818848, 'loss': 0.052312600297853354, 'time_step': 0.0011589293479919434, 'rollout_return': 1.3811725821633956, 'evaluation': 1.4406569944997778} step=65000\n",
      "2023-01-29 19:11.19 [info     ] Model parameters are saved to d3rlpy_logs/DoubleDQN_online_20230129191024/model_66000.pt\n",
      "2023-01-29 19:11.19 [info     ] DoubleDQN_online_20230129191024: epoch=66 step=66000 epoch=66 metrics={'time_inference': 0.00013561487197875975, 'time_environment_step': 2.5542497634887694e-05, 'time_sample_batch': 3.302788734436035e-05, 'time_algorithm_update': 0.0006636469364166259, 'loss': 0.05391329832933843, 'time_step': 0.000875178337097168, 'rollout_return': 1.4262540886825232, 'evaluation': 1.8012783638935506} step=66000\n",
      "2023-01-29 19:11.20 [info     ] Model parameters are saved to d3rlpy_logs/DoubleDQN_online_20230129191024/model_67000.pt\n",
      "2023-01-29 19:11.20 [info     ] DoubleDQN_online_20230129191024: epoch=67 step=67000 epoch=67 metrics={'time_inference': 0.00012717294692993165, 'time_environment_step': 2.3342132568359374e-05, 'time_sample_batch': 3.0651092529296876e-05, 'time_algorithm_update': 0.0006191170215606689, 'loss': 0.05469357372820377, 'time_step': 0.0008161594867706299, 'rollout_return': 1.4768717097739614, 'evaluation': 1.4392796466420694} step=67000\n",
      "2023-01-29 19:11.21 [info     ] Model parameters are saved to d3rlpy_logs/DoubleDQN_online_20230129191024/model_68000.pt\n",
      "2023-01-29 19:11.21 [info     ] DoubleDQN_online_20230129191024: epoch=68 step=68000 epoch=68 metrics={'time_inference': 0.0001209580898284912, 'time_environment_step': 2.167797088623047e-05, 'time_sample_batch': 2.6825904846191408e-05, 'time_algorithm_update': 0.0005906319618225098, 'loss': 0.05538796006888151, 'time_step': 0.0007748403549194336, 'rollout_return': 1.4151266791664394, 'evaluation': 1.6327776658827204} step=68000\n",
      "2023-01-29 19:11.21 [info     ] Model parameters are saved to d3rlpy_logs/DoubleDQN_online_20230129191024/model_69000.pt\n",
      "2023-01-29 19:11.21 [info     ] DoubleDQN_online_20230129191024: epoch=69 step=69000 epoch=69 metrics={'time_inference': 0.00012297534942626954, 'time_environment_step': 2.2417306900024415e-05, 'time_sample_batch': 2.8342008590698242e-05, 'time_algorithm_update': 0.000602532148361206, 'loss': 0.054759241866879166, 'time_step': 0.0007914845943450927, 'rollout_return': 1.3771228019787503, 'evaluation': 1.566779933407396} step=69000\n",
      "2023-01-29 19:11.22 [info     ] Model parameters are saved to d3rlpy_logs/DoubleDQN_online_20230129191024/model_70000.pt\n",
      "2023-01-29 19:11.22 [info     ] DoubleDQN_online_20230129191024: epoch=70 step=70000 epoch=70 metrics={'time_inference': 0.0001212306022644043, 'time_environment_step': 2.178645133972168e-05, 'time_sample_batch': 2.7161836624145507e-05, 'time_algorithm_update': 0.0005935230255126954, 'loss': 0.054825744651257995, 'time_step': 0.0007785038948059082, 'rollout_return': 1.4713241717357204, 'evaluation': 1.6822804644512146} step=70000\n",
      "2023-01-29 19:11.23 [info     ] Model parameters are saved to d3rlpy_logs/DoubleDQN_online_20230129191024/model_71000.pt\n",
      "2023-01-29 19:11.23 [info     ] DoubleDQN_online_20230129191024: epoch=71 step=71000 epoch=71 metrics={'time_inference': 0.0001203911304473877, 'time_environment_step': 2.1685361862182617e-05, 'time_sample_batch': 2.6781082153320313e-05, 'time_algorithm_update': 0.0005905563831329346, 'loss': 0.05505446880124509, 'time_step': 0.0007740657329559326, 'rollout_return': 1.4894515912648894, 'evaluation': 1.4378244054216995} step=71000\n",
      "2023-01-29 19:11.24 [info     ] Model parameters are saved to d3rlpy_logs/DoubleDQN_online_20230129191024/model_72000.pt\n",
      "2023-01-29 19:11.24 [info     ] DoubleDQN_online_20230129191024: epoch=72 step=72000 epoch=72 metrics={'time_inference': 0.00012118911743164062, 'time_environment_step': 2.1870851516723634e-05, 'time_sample_batch': 2.680802345275879e-05, 'time_algorithm_update': 0.0005910439491271973, 'loss': 0.05562087296508253, 'time_step': 0.0007755322456359864, 'rollout_return': 1.377207316331511, 'evaluation': 1.717370762764515} step=72000\n",
      "2023-01-29 19:11.25 [info     ] Model parameters are saved to d3rlpy_logs/DoubleDQN_online_20230129191024/model_73000.pt\n",
      "2023-01-29 19:11.25 [info     ] DoubleDQN_online_20230129191024: epoch=73 step=73000 epoch=73 metrics={'time_inference': 0.00012092041969299317, 'time_environment_step': 2.1720409393310548e-05, 'time_sample_batch': 2.707505226135254e-05, 'time_algorithm_update': 0.0005919389724731445, 'loss': 0.05456551517359912, 'time_step': 0.0007763042449951172, 'rollout_return': 1.5023172527257176, 'evaluation': 1.646085124864019} step=73000\n",
      "2023-01-29 19:11.25 [info     ] Model parameters are saved to d3rlpy_logs/DoubleDQN_online_20230129191024/model_74000.pt\n",
      "2023-01-29 19:11.25 [info     ] DoubleDQN_online_20230129191024: epoch=74 step=74000 epoch=74 metrics={'time_inference': 0.00012021756172180175, 'time_environment_step': 2.1631002426147462e-05, 'time_sample_batch': 2.6453256607055665e-05, 'time_algorithm_update': 0.0005900235176086425, 'loss': 0.0546484891101718, 'time_step': 0.0007729489803314209, 'rollout_return': 1.534262653309831, 'evaluation': 1.7459124059544862} step=74000\n",
      "2023-01-29 19:11.26 [info     ] Model parameters are saved to d3rlpy_logs/DoubleDQN_online_20230129191024/model_75000.pt\n",
      "2023-01-29 19:11.26 [info     ] DoubleDQN_online_20230129191024: epoch=75 step=75000 epoch=75 metrics={'time_inference': 0.00012074613571166993, 'time_environment_step': 2.163958549499512e-05, 'time_sample_batch': 2.6600837707519532e-05, 'time_algorithm_update': 0.0005897543430328369, 'loss': 0.057682559449225665, 'time_step': 0.0007732253074645996, 'rollout_return': 1.4432274125762192, 'evaluation': 1.4356868374342455} step=75000\n",
      "2023-01-29 19:11.27 [info     ] Model parameters are saved to d3rlpy_logs/DoubleDQN_online_20230129191024/model_76000.pt\n",
      "2023-01-29 19:11.27 [info     ] DoubleDQN_online_20230129191024: epoch=76 step=76000 epoch=76 metrics={'time_inference': 0.00012040162086486816, 'time_environment_step': 2.156233787536621e-05, 'time_sample_batch': 2.6405811309814454e-05, 'time_algorithm_update': 0.0005889823436737061, 'loss': 0.05716855437681079, 'time_step': 0.0007720062732696533, 'rollout_return': 1.4456292602318683, 'evaluation': 1.5574649242584582} step=76000\n",
      "2023-01-29 19:11.28 [info     ] Model parameters are saved to d3rlpy_logs/DoubleDQN_online_20230129191024/model_77000.pt\n",
      "2023-01-29 19:11.28 [info     ] DoubleDQN_online_20230129191024: epoch=77 step=77000 epoch=77 metrics={'time_inference': 0.00012052369117736816, 'time_environment_step': 2.1602630615234376e-05, 'time_sample_batch': 2.6386499404907227e-05, 'time_algorithm_update': 0.0005902867317199707, 'loss': 0.0566927420347929, 'time_step': 0.0007733724117279053, 'rollout_return': 1.383795487675958, 'evaluation': 1.5588315564852544} step=77000\n",
      "2023-01-29 19:11.29 [info     ] Model parameters are saved to d3rlpy_logs/DoubleDQN_online_20230129191024/model_78000.pt\n",
      "2023-01-29 19:11.29 [info     ] DoubleDQN_online_20230129191024: epoch=78 step=78000 epoch=78 metrics={'time_inference': 0.00012091684341430664, 'time_environment_step': 2.1637439727783204e-05, 'time_sample_batch': 2.6529550552368163e-05, 'time_algorithm_update': 0.000590036392211914, 'loss': 0.05843663832359016, 'time_step': 0.0007737967967987061, 'rollout_return': 1.409463242958553, 'evaluation': 1.5011729206152793} step=78000\n",
      "2023-01-29 19:11.29 [info     ] Model parameters are saved to d3rlpy_logs/DoubleDQN_online_20230129191024/model_79000.pt\n",
      "2023-01-29 19:11.29 [info     ] DoubleDQN_online_20230129191024: epoch=79 step=79000 epoch=79 metrics={'time_inference': 0.00012000799179077149, 'time_environment_step': 2.161574363708496e-05, 'time_sample_batch': 2.6343584060668944e-05, 'time_algorithm_update': 0.0005898268222808838, 'loss': 0.057674166802316906, 'time_step': 0.0007722873687744141, 'rollout_return': 1.4940471964547273, 'evaluation': 1.7221690736192201} step=79000\n",
      "2023-01-29 19:11.30 [info     ] Model parameters are saved to d3rlpy_logs/DoubleDQN_online_20230129191024/model_80000.pt\n",
      "2023-01-29 19:11.30 [info     ] DoubleDQN_online_20230129191024: epoch=80 step=80000 epoch=80 metrics={'time_inference': 0.0001203157901763916, 'time_environment_step': 2.1604061126708985e-05, 'time_sample_batch': 2.624082565307617e-05, 'time_algorithm_update': 0.0005896835327148437, 'loss': 0.05391853401158005, 'time_step': 0.0007724220752716065, 'rollout_return': 1.4947813970364923, 'evaluation': 1.5686720670350682} step=80000\n",
      "2023-01-29 19:11.31 [info     ] Model parameters are saved to d3rlpy_logs/DoubleDQN_online_20230129191024/model_81000.pt\n",
      "2023-01-29 19:11.31 [info     ] DoubleDQN_online_20230129191024: epoch=81 step=81000 epoch=81 metrics={'time_inference': 0.00012601566314697266, 'time_environment_step': 2.2639989852905274e-05, 'time_sample_batch': 2.78167724609375e-05, 'time_algorithm_update': 0.0006151666641235351, 'loss': 0.05465342566557228, 'time_step': 0.0008069009780883789, 'rollout_return': 1.3957093240018603, 'evaluation': 1.3495026793308667} step=81000\n",
      "2023-01-29 19:11.32 [info     ] Model parameters are saved to d3rlpy_logs/DoubleDQN_online_20230129191024/model_82000.pt\n",
      "2023-01-29 19:11.32 [info     ] DoubleDQN_online_20230129191024: epoch=82 step=82000 epoch=82 metrics={'time_inference': 0.0001429297924041748, 'time_environment_step': 2.5530099868774415e-05, 'time_sample_batch': 3.1807661056518555e-05, 'time_algorithm_update': 0.0007188236713409424, 'loss': 0.05496970620378852, 'time_step': 0.0009366741180419922, 'rollout_return': 1.3721886892422959, 'evaluation': 1.6583210220520386} step=82000\n",
      "2023-01-29 19:11.33 [info     ] Model parameters are saved to d3rlpy_logs/DoubleDQN_online_20230129191024/model_83000.pt\n",
      "2023-01-29 19:11.33 [info     ] DoubleDQN_online_20230129191024: epoch=83 step=83000 epoch=83 metrics={'time_inference': 0.00012170004844665527, 'time_environment_step': 2.1831512451171874e-05, 'time_sample_batch': 2.6856660842895507e-05, 'time_algorithm_update': 0.000592249870300293, 'loss': 0.05497276447061449, 'time_step': 0.000777299165725708, 'rollout_return': 1.4381281848648415, 'evaluation': 1.5626974605983572} step=83000\n",
      "2023-01-29 19:11.34 [info     ] Model parameters are saved to d3rlpy_logs/DoubleDQN_online_20230129191024/model_84000.pt\n",
      "2023-01-29 19:11.34 [info     ] DoubleDQN_online_20230129191024: epoch=84 step=84000 epoch=84 metrics={'time_inference': 0.00012077641487121582, 'time_environment_step': 2.1675586700439453e-05, 'time_sample_batch': 2.685236930847168e-05, 'time_algorithm_update': 0.0005910604000091553, 'loss': 0.05614061317592859, 'time_step': 0.0007749354839324951, 'rollout_return': 1.5340986475080036, 'evaluation': 1.8196172300839126} step=84000\n",
      "2023-01-29 19:11.34 [info     ] Model parameters are saved to d3rlpy_logs/DoubleDQN_online_20230129191024/model_85000.pt\n",
      "2023-01-29 19:11.34 [info     ] DoubleDQN_online_20230129191024: epoch=85 step=85000 epoch=85 metrics={'time_inference': 0.0001209123134613037, 'time_environment_step': 2.1683216094970703e-05, 'time_sample_batch': 2.7014970779418945e-05, 'time_algorithm_update': 0.0005929968357086181, 'loss': 0.055281423574313523, 'time_step': 0.0007773146629333496, 'rollout_return': 1.334097486623723, 'evaluation': 1.7692468077794419} step=85000\n",
      "2023-01-29 19:11.35 [info     ] Model parameters are saved to d3rlpy_logs/DoubleDQN_online_20230129191024/model_86000.pt\n",
      "2023-01-29 19:11.35 [info     ] DoubleDQN_online_20230129191024: epoch=86 step=86000 epoch=86 metrics={'time_inference': 0.00012100791931152343, 'time_environment_step': 2.183842658996582e-05, 'time_sample_batch': 2.6845693588256837e-05, 'time_algorithm_update': 0.0005905191898345947, 'loss': 0.055432086007669565, 'time_step': 0.0007748866081237793, 'rollout_return': 1.524403319608594, 'evaluation': 1.8120536809741812} step=86000\n",
      "2023-01-29 19:11.36 [info     ] Model parameters are saved to d3rlpy_logs/DoubleDQN_online_20230129191024/model_87000.pt\n",
      "2023-01-29 19:11.36 [info     ] DoubleDQN_online_20230129191024: epoch=87 step=87000 epoch=87 metrics={'time_inference': 0.00012156248092651367, 'time_environment_step': 2.1890163421630858e-05, 'time_sample_batch': 2.7042627334594726e-05, 'time_algorithm_update': 0.0005921061038970947, 'loss': 0.055361064763739705, 'time_step': 0.0007771761417388916, 'rollout_return': 1.5082139256254083, 'evaluation': 1.7326313049152429} step=87000\n",
      "2023-01-29 19:11.37 [info     ] Model parameters are saved to d3rlpy_logs/DoubleDQN_online_20230129191024/model_88000.pt\n",
      "2023-01-29 19:11.37 [info     ] DoubleDQN_online_20230129191024: epoch=88 step=88000 epoch=88 metrics={'time_inference': 0.00012201261520385742, 'time_environment_step': 2.1805286407470703e-05, 'time_sample_batch': 2.7459144592285156e-05, 'time_algorithm_update': 0.0005973920822143554, 'loss': 0.05637309183739126, 'time_step': 0.0007834198474884033, 'rollout_return': 1.495608946745316, 'evaluation': 1.7129012692159171} step=88000\n",
      "2023-01-29 19:11.38 [info     ] Model parameters are saved to d3rlpy_logs/DoubleDQN_online_20230129191024/model_89000.pt\n",
      "2023-01-29 19:11.38 [info     ] DoubleDQN_online_20230129191024: epoch=89 step=89000 epoch=89 metrics={'time_inference': 0.00013363146781921386, 'time_environment_step': 2.480483055114746e-05, 'time_sample_batch': 3.2969236373901364e-05, 'time_algorithm_update': 0.0006611449718475342, 'loss': 0.059595983987674114, 'time_step': 0.0008713369369506836, 'rollout_return': 1.553745975546777, 'evaluation': 1.6503509205860847} step=89000\n",
      "2023-01-29 19:11.39 [info     ] Model parameters are saved to d3rlpy_logs/DoubleDQN_online_20230129191024/model_90000.pt\n",
      "2023-01-29 19:11.39 [info     ] DoubleDQN_online_20230129191024: epoch=90 step=90000 epoch=90 metrics={'time_inference': 0.00012763690948486327, 'time_environment_step': 2.3085832595825194e-05, 'time_sample_batch': 2.9165029525756836e-05, 'time_algorithm_update': 0.0006210684776306152, 'loss': 0.05772513845935464, 'time_step': 0.0008165462017059326, 'rollout_return': 1.5094797281045556, 'evaluation': 1.4269119307041171} step=90000\n",
      "2023-01-29 19:11.39 [info     ] Model parameters are saved to d3rlpy_logs/DoubleDQN_online_20230129191024/model_91000.pt\n",
      "2023-01-29 19:11.39 [info     ] DoubleDQN_online_20230129191024: epoch=91 step=91000 epoch=91 metrics={'time_inference': 0.0001327376365661621, 'time_environment_step': 2.430391311645508e-05, 'time_sample_batch': 3.1309843063354494e-05, 'time_algorithm_update': 0.0006374037265777588, 'loss': 0.05793408659286797, 'time_step': 0.0008421068191528321, 'rollout_return': 1.5306096276801455, 'evaluation': 1.8058034252268318} step=91000\n",
      "2023-01-29 19:11.40 [info     ] Model parameters are saved to d3rlpy_logs/DoubleDQN_online_20230129191024/model_92000.pt\n",
      "2023-01-29 19:11.40 [info     ] DoubleDQN_online_20230129191024: epoch=92 step=92000 epoch=92 metrics={'time_inference': 0.0001418440341949463, 'time_environment_step': 2.5015830993652345e-05, 'time_sample_batch': 3.344535827636719e-05, 'time_algorithm_update': 0.0006925747394561768, 'loss': 0.05851274674199521, 'time_step': 0.0009098639488220215, 'rollout_return': 1.4454720884462489, 'evaluation': 1.625555153544094} step=92000\n",
      "2023-01-29 19:11.41 [info     ] Model parameters are saved to d3rlpy_logs/DoubleDQN_online_20230129191024/model_93000.pt\n",
      "2023-01-29 19:11.41 [info     ] DoubleDQN_online_20230129191024: epoch=93 step=93000 epoch=93 metrics={'time_inference': 0.00016674137115478516, 'time_environment_step': 3.183889389038086e-05, 'time_sample_batch': 3.978419303894043e-05, 'time_algorithm_update': 0.000836233377456665, 'loss': 0.05886991629004478, 'time_step': 0.0010990452766418456, 'rollout_return': 1.4414286297350591, 'evaluation': 1.714946775857276} step=93000\n",
      "2023-01-29 19:11.42 [info     ] Model parameters are saved to d3rlpy_logs/DoubleDQN_online_20230129191024/model_94000.pt\n",
      "2023-01-29 19:11.42 [info     ] DoubleDQN_online_20230129191024: epoch=94 step=94000 epoch=94 metrics={'time_inference': 0.00015459585189819337, 'time_environment_step': 2.921915054321289e-05, 'time_sample_batch': 3.6180973052978513e-05, 'time_algorithm_update': 0.0007559773921966553, 'loss': 0.05809125554747879, 'time_step': 0.0009955928325653077, 'rollout_return': 1.462810609513686, 'evaluation': 1.5973877028125842} step=94000\n",
      "2023-01-29 19:11.43 [info     ] Model parameters are saved to d3rlpy_logs/DoubleDQN_online_20230129191024/model_95000.pt\n",
      "2023-01-29 19:11.43 [info     ] DoubleDQN_online_20230129191024: epoch=95 step=95000 epoch=95 metrics={'time_inference': 0.00012007951736450195, 'time_environment_step': 2.1679162979125977e-05, 'time_sample_batch': 2.6726245880126953e-05, 'time_algorithm_update': 0.0005918378829956055, 'loss': 0.058859895065426826, 'time_step': 0.000774998664855957, 'rollout_return': 1.4403632668661357, 'evaluation': 1.2626069171797198} step=95000\n",
      "2023-01-29 19:11.44 [info     ] Model parameters are saved to d3rlpy_logs/DoubleDQN_online_20230129191024/model_96000.pt\n",
      "2023-01-29 19:11.44 [info     ] DoubleDQN_online_20230129191024: epoch=96 step=96000 epoch=96 metrics={'time_inference': 0.00012230563163757323, 'time_environment_step': 2.207040786743164e-05, 'time_sample_batch': 2.816009521484375e-05, 'time_algorithm_update': 0.00060079026222229, 'loss': 0.06031748184375465, 'time_step': 0.0007883126735687255, 'rollout_return': 1.4141471633549847, 'evaluation': 1.37326840639353} step=96000\n",
      "2023-01-29 19:11.45 [info     ] Model parameters are saved to d3rlpy_logs/DoubleDQN_online_20230129191024/model_97000.pt\n",
      "2023-01-29 19:11.45 [info     ] DoubleDQN_online_20230129191024: epoch=97 step=97000 epoch=97 metrics={'time_inference': 0.00011883211135864258, 'time_environment_step': 2.1500587463378908e-05, 'time_sample_batch': 2.6091337203979493e-05, 'time_algorithm_update': 0.0005866892337799073, 'loss': 0.05889755590632558, 'time_step': 0.0007674286365509034, 'rollout_return': 1.3896755298107388, 'evaluation': 1.1734934993715391} step=97000\n",
      "2023-01-29 19:11.46 [info     ] Model parameters are saved to d3rlpy_logs/DoubleDQN_online_20230129191024/model_98000.pt\n",
      "2023-01-29 19:11.46 [info     ] DoubleDQN_online_20230129191024: epoch=98 step=98000 epoch=98 metrics={'time_inference': 0.00012129020690917969, 'time_environment_step': 2.177906036376953e-05, 'time_sample_batch': 2.7054548263549803e-05, 'time_algorithm_update': 0.0005949745178222656, 'loss': 0.057480755895376205, 'time_step': 0.0007797791957855224, 'rollout_return': 1.4513053675743692, 'evaluation': 1.664283631711268} step=98000\n",
      "2023-01-29 19:11.46 [info     ] Model parameters are saved to d3rlpy_logs/DoubleDQN_online_20230129191024/model_99000.pt\n",
      "2023-01-29 19:11.47 [info     ] DoubleDQN_online_20230129191024: epoch=99 step=99000 epoch=99 metrics={'time_inference': 0.0001277158260345459, 'time_environment_step': 2.315402030944824e-05, 'time_sample_batch': 2.979779243469238e-05, 'time_algorithm_update': 0.0006213862895965576, 'loss': 0.056650325717404484, 'time_step': 0.0008177568912506103, 'rollout_return': 1.3806824687631554, 'evaluation': 1.122863342596251} step=99000\n",
      "2023-01-29 19:11.47 [info     ] Model parameters are saved to d3rlpy_logs/DoubleDQN_online_20230129191024/model_100000.pt\n",
      "2023-01-29 19:11.47 [info     ] DoubleDQN_online_20230129191024: epoch=100 step=100000 epoch=100 metrics={'time_inference': 0.00012121057510375977, 'time_environment_step': 2.177286148071289e-05, 'time_sample_batch': 2.695131301879883e-05, 'time_algorithm_update': 0.0005989706516265869, 'loss': 0.05409103374183178, 'time_step': 0.0007835848331451416, 'rollout_return': 1.4520380990610013, 'evaluation': 1.823725435741384} step=100000\n"
     ]
    }
   ],
   "source": [
    "# start training\n",
    "# skip if there is a pre-trained model\n",
    "ddqn.fit_online(\n",
    "    env_,\n",
    "    buffer,\n",
    "    explorer=explorer,\n",
    "    eval_env=env_,\n",
    "    n_steps=100000,\n",
    "    n_steps_per_epoch=1000,\n",
    "    update_start_step=1000,\n",
    ")"
   ]
  },
  {
   "cell_type": "code",
   "execution_count": 123,
   "metadata": {},
   "outputs": [],
   "source": [
    "# save model\n",
    "ddqn.save_model(\"d3rlpy_logs/ddqn.pt\")"
   ]
  },
  {
   "cell_type": "code",
   "execution_count": 124,
   "metadata": {},
   "outputs": [
    {
     "name": "stdout",
     "output_type": "stream",
     "text": [
      "2023-01-29 19:11.47 [warning  ] Parameters will be reinitialized.\n"
     ]
    }
   ],
   "source": [
    "# reload model\n",
    "ddqn.build_with_env(env)\n",
    "ddqn.load_model(\"d3rlpy_logs/ddqn.pt\")"
   ]
  },
  {
   "attachments": {},
   "cell_type": "markdown",
   "metadata": {},
   "source": [
    "### 1.1. Epsilon-Greedy behavior policy\n",
    "\n",
    "Let's now convert the deterministic policy (i.e., ddqn policy) into a stochastic behavior policy.\n",
    "\n",
    "We use epsilon-greedy policy to collect logged data using `DiscreteEpsilonGreedyHead`, where the behavior policy greedily takes an action chosen by the deterministic policy with probability $1 - \\epsilon$ and takes an action randomly with probability $\\epsilon$.\n",
    "\n",
    "Note that, `SyntheticDataset` has the following arguments:\n",
    "- `env`: REC environment for RL defined in the previous section.\n",
    "- `behavior_policy`: RL agent (or algorithm) used for the data collection.\n",
    "- `maximum_step_per_episode`: Maximum number of timesteps in an episode.\n",
    "- `random_state`: Random state."
   ]
  },
  {
   "cell_type": "code",
   "execution_count": 125,
   "metadata": {},
   "outputs": [],
   "source": [
    "# convert the base ddqn policy into a stochastic data collection policy\n",
    "from ofrl.policy import DiscreteEpsilonGreedyHead\n",
    "\n",
    "behavior_policy = DiscreteEpsilonGreedyHead(\n",
    "    ddqn, \n",
    "    n_actions=env.action_space.n,\n",
    "    epsilon=0.3,  # probability of taking random action\n",
    "    name=\"ddqn_epsilon_0.3\",\n",
    "    random_state=random_state,\n",
    ")"
   ]
  },
  {
   "cell_type": "code",
   "execution_count": 126,
   "metadata": {},
   "outputs": [
    {
     "data": {
      "application/vnd.jupyter.widget-view+json": {
       "model_id": "0332cbe0f6f6477691d5c2d254fbdf0b",
       "version_major": 2,
       "version_minor": 0
      },
      "text/plain": [
       "[obtain_trajectories]:   0%|          | 0/10000 [00:00<?, ?it/s]"
      ]
     },
     "metadata": {},
     "output_type": "display_data"
    }
   ],
   "source": [
    "# collect data\n",
    "dataset = SyntheticDataset(\n",
    "    env=env,\n",
    "    max_episode_steps=env.step_per_episode,\n",
    ")\n",
    "logged_dataset = dataset.obtain_episodes(\n",
    "    behavior_policies=behavior_policy,\n",
    "    n_trajectories=10000, \n",
    "    obtain_info=False,\n",
    "    random_state=random_state,\n",
    ")"
   ]
  },
  {
   "cell_type": "code",
   "execution_count": 127,
   "metadata": {},
   "outputs": [
    {
     "data": {
      "text/plain": [
       "{'size': 100000,\n",
       " 'n_trajectories': 10000,\n",
       " 'step_per_trajectory': 10,\n",
       " 'action_type': 'discrete',\n",
       " 'n_actions': 100,\n",
       " 'action_dim': None,\n",
       " 'action_meaning': None,\n",
       " 'action_keys': None,\n",
       " 'state_dim': 5,\n",
       " 'state_keys': None,\n",
       " 'state': array([[ 0.04479014,  0.11492637, -0.05131316, -0.0280654 ,  0.0347718 ],\n",
       "        [ 0.31503721,  0.81768938, -0.36120075, -0.19721304,  0.25055272],\n",
       "        [ 0.3176479 ,  0.81787642, -0.35436823, -0.19829411,  0.25550065],\n",
       "        ...,\n",
       "        [-0.10915613, -0.28363175,  0.74603822, -0.41306459, -0.42478534],\n",
       "        [-0.12570957, -0.30023359,  0.73458951, -0.40779104, -0.43375294],\n",
       "        [-0.14150977, -0.31595069,  0.72305186, -0.40242499, -0.44204103]]),\n",
       " 'action': array([25,  1, 35, ..., 94, 94, 94]),\n",
       " 'reward': array([ 0.00394039, -0.06940761,  0.21191121, ...,  0.2342805 ,\n",
       "         0.23774111,  0.24088727]),\n",
       " 'done': array([0., 0., 0., ..., 0., 0., 1.]),\n",
       " 'terminal': array([0., 0., 0., ..., 0., 0., 1.]),\n",
       " 'info': {},\n",
       " 'pscore': array([0.703, 0.003, 0.703, ..., 0.703, 0.703, 0.703]),\n",
       " 'behavior_policy': 'ddqn_epsilon_0.3',\n",
       " 'dataset_id': 0}"
      ]
     },
     "execution_count": 127,
     "metadata": {},
     "output_type": "execute_result"
    }
   ],
   "source": [
    "logged_dataset"
   ]
  },
  {
   "cell_type": "markdown",
   "metadata": {},
   "source": [
    "### 1.2. Softmax behavior policy\n",
    "We can also use `DiscreteSoftmaxHead` to derive a stochastic behavior policy.\n",
    "\n",
    "This algorithm uses Q function of the original algorithm, which estimates the value of a given context and action pair (i.e., $(s, a)$) as $Q(s, a)$. \\\n",
    "Specifically, the behavior policy chooses actions stochastically as $\\pi(a \\mid s) = \\frac{\\exp(Q(s, a) / \\tau)}{\\sum_{a' \\in A} \\exp(Q(s, a') / \\tau)}$, where $A$ indicates the set discrete actions and $\\tau$ is an inverse temperature parameter."
   ]
  },
  {
   "cell_type": "code",
   "execution_count": 128,
   "metadata": {},
   "outputs": [],
   "source": [
    "# convert base ddqn policy into a stochastic data collection policy\n",
    "from ofrl.policy import DiscreteSoftmaxHead\n",
    "\n",
    "behavior_policy = DiscreteSoftmaxHead(\n",
    "    ddqn, \n",
    "    n_actions=env.action_space.n,\n",
    "    tau=1.0,  # temperature parameter\n",
    "    name=\"ddqn_softmax_tau_1.0\",\n",
    "    random_state=random_state,\n",
    ")"
   ]
  },
  {
   "cell_type": "code",
   "execution_count": 129,
   "metadata": {},
   "outputs": [
    {
     "data": {
      "application/vnd.jupyter.widget-view+json": {
       "model_id": "4c382d57e36548178eaed002c0da59b3",
       "version_major": 2,
       "version_minor": 0
      },
      "text/plain": [
       "[obtain_trajectories]:   0%|          | 0/10000 [00:00<?, ?it/s]"
      ]
     },
     "metadata": {},
     "output_type": "display_data"
    }
   ],
   "source": [
    "# collect data\n",
    "dataset = SyntheticDataset(\n",
    "    env=env,\n",
    "    max_episode_steps=env.step_per_episode,\n",
    ")\n",
    "logged_dataset = dataset.obtain_episodes(\n",
    "    behavior_policies=behavior_policy, \n",
    "    n_trajectories=10000, \n",
    "    obtain_info=False,\n",
    "    random_state=random_state,\n",
    ")"
   ]
  },
  {
   "cell_type": "code",
   "execution_count": 130,
   "metadata": {},
   "outputs": [
    {
     "data": {
      "text/plain": [
       "{'size': 100000,\n",
       " 'n_trajectories': 10000,\n",
       " 'step_per_trajectory': 10,\n",
       " 'action_type': 'discrete',\n",
       " 'n_actions': 100,\n",
       " 'action_dim': None,\n",
       " 'action_meaning': None,\n",
       " 'action_keys': None,\n",
       " 'state_dim': 5,\n",
       " 'state_keys': None,\n",
       " 'state': array([[ 0.04479014,  0.11492637, -0.05131316, -0.0280654 ,  0.0347718 ],\n",
       "        [ 0.32747688,  0.81742899, -0.35620633, -0.19460325,  0.24457179],\n",
       "        [ 0.31881905,  0.82013443, -0.35614103, -0.19853796,  0.24388558],\n",
       "        ...,\n",
       "        [-0.10960747, -0.24220769,  0.7781889 , -0.43876604, -0.36225411],\n",
       "        [-0.1086413 , -0.24031048,  0.77961738, -0.43924655, -0.36014879],\n",
       "        [-0.10951045, -0.23987609,  0.77848565, -0.44051018, -0.36107867]]),\n",
       " 'action': array([26, 82, 96, ..., 12, 67, 44]),\n",
       " 'reward': array([ 0.02345876, -0.071049  , -0.05870125, ..., -0.03161836,\n",
       "        -0.00898974,  0.01312199]),\n",
       " 'done': array([0., 0., 0., ..., 0., 0., 1.]),\n",
       " 'terminal': array([0., 0., 0., ..., 0., 0., 1.]),\n",
       " 'info': {},\n",
       " 'pscore': array([0.00961385, 0.01043336, 0.01112116, ..., 0.01003331, 0.0094552 ,\n",
       "        0.01148651]),\n",
       " 'behavior_policy': 'ddqn_softmax_tau_1.0',\n",
       " 'dataset_id': 0}"
      ]
     },
     "execution_count": 130,
     "metadata": {},
     "output_type": "execute_result"
    }
   ],
   "source": [
    "logged_dataset"
   ]
  },
  {
   "attachments": {},
   "cell_type": "markdown",
   "metadata": {},
   "source": [
    "For offline RL and OPE procedures, please refer to [examples/quickstart/REC_synthetic_discrete_basic.ipynb](https://github.com/negocia-inc/REC_reinforcement_learing/blob/master/examples/quickstart/REC_synthetic_discrete_basic.ipynb).\n",
    "\n",
    "For more advanced topic in OPE and OPS, please refer to [examples/quickstart/REC_synthetic_discrete_advanced.ipynb](https://github.com/negocia-inc/REC_reinforcement_learing/blob/ope/examples/quickstart/REC_synthetic_discrete_advanced.ipynb)."
   ]
  },
  {
   "attachments": {},
   "cell_type": "markdown",
   "metadata": {},
   "source": [
    "## Reference\n",
    "- Sarah Dean, Jamie Morgenstern. \\\n",
    "\"Preference Dynamics Under Personalized Recommendations.\", 2022.\n",
    "\n",
    "- Yuta Saito, Shunsuke Aihara, Megumi Matsutani, and Yusuke Narita. \\\n",
    "\"Open Bandit Dataset and Pipeline: Towards Realistic and Reproducible Off-Policy Evaluation.\", 2021.\n",
    "\n",
    "- Takuma Seno and Michita Imai. \\\n",
    "\"d3rlpy: An Offline Deep Reinforcement Library.\", 2021.\n",
    "\n",
    "- Tuomas Haarnoja, Aurick Zhou, Pieter Abbeel, and Sergey Levine. \\\n",
    "\"Soft Actor-Critic: Off-Policy Maximum Entropy Deep Reinforcement Learning with a Stochastic Actor.\" 2018.\n",
    "\n",
    "- Greg Brockman, Vicki Cheung, Ludwig Pettersson, Jonas Schneider, John Schulman, Jie Tang, and Wojciech Zaremba. \\\n",
    "\"OpenAI Gym.\", 2016.\n",
    "\n",
    "- Hado van Hasselt, Arthur Guez, and David Silver. \\\n",
    "\"Deep Reinforcement Learning with Double Q-learning.\", 2015."
   ]
  }
 ],
 "metadata": {
  "kernelspec": {
   "display_name": "Python 3.10.6 64-bit ('3.10.6')",
   "language": "python",
   "name": "python3"
  },
  "language_info": {
   "codemirror_mode": {
    "name": "ipython",
    "version": 3
   },
   "file_extension": ".py",
   "mimetype": "text/x-python",
   "name": "python",
   "nbconvert_exporter": "python",
   "pygments_lexer": "ipython3",
   "version": "3.10.6"
  },
  "vscode": {
   "interpreter": {
    "hash": "70404ee114725fce8ed9e697d67827f8546c678889944e6d695790702cbfe1f5"
   }
  }
 },
 "nbformat": 4,
 "nbformat_minor": 4
}
