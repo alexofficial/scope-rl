{
 "cells": [
  {
   "cell_type": "markdown",
   "metadata": {},
   "source": [
    "# Quickstart Example of Off-Policy Evaluation with Various Estimators (Continuous)\n",
    "This notebook provides an example of conducting **Off-policy Evaluation (OPE)** with a synthetic Real-Time Bidding (RTB) dataset and various OPE estimators (e.g., model-based vs importance sampling-based, marginal importance sampling, and double reinforcement learning).\n",
    "\n",
    "This example consists of the following 3 steps: \n",
    "1. Setup, Synthetic Data Generation, and Offline Policy Learning\n",
    "2. Off-Policy Evaluation (OPE) with various estimators\n",
    "\n",
    "\\* This library uses [d3rlpy](https://github.com/takuseno/d3rlpy)'s algorithm implementations of offline rl policies and model-based evaluation.  \n",
    "\\* Also, our implementations of OPE are highly inspired by [Open Bandit Pipeline](https://github.com/st-tech/zr-obp)."
   ]
  },
  {
   "cell_type": "code",
   "execution_count": 1,
   "metadata": {},
   "outputs": [],
   "source": [
    "# delete later\n",
    "%load_ext autoreload\n",
    "%autoreload 2"
   ]
  },
  {
   "cell_type": "code",
   "execution_count": 2,
   "metadata": {},
   "outputs": [],
   "source": [
    "# delete later\n",
    "import warnings\n",
    "warnings.simplefilter('ignore')"
   ]
  },
  {
   "cell_type": "code",
   "execution_count": 3,
   "metadata": {},
   "outputs": [],
   "source": [
    "# delete later\n",
    "import sys\n",
    "sys.path.append('../')\n",
    "sys.path.append('../../')"
   ]
  },
  {
   "cell_type": "code",
   "execution_count": 4,
   "metadata": {},
   "outputs": [],
   "source": [
    "# import OFRL modules\n",
    "import ofrl\n",
    "from rtbgym import RTBEnv, CustomizedRTBEnv\n",
    "from ofrl.dataset import SyntheticDataset\n",
    "from ofrl.policy import OnlineHead, ContinuousEvalHead\n",
    "from ofrl.policy import ContinuousTruncatedGaussianHead as TruncatedGaussianHead\n",
    "from ofrl.ope.online import (\n",
    "    calc_on_policy_policy_value,\n",
    "    visualize_on_policy_policy_value,\n",
    ")\n",
    "from ofrl.utils import MinMaxScaler, MinMaxActionScaler\n",
    "\n",
    "# import d3rlpy algorithms\n",
    "from d3rlpy.algos import RandomPolicy\n",
    "# from d3rlpy.preprocessing import MinMaxScaler, MinMaxActionScaler\n",
    "\n",
    "# import from other libraries\n",
    "import gym\n",
    "import torch\n",
    "from sklearn.model_selection import train_test_split"
   ]
  },
  {
   "cell_type": "code",
   "execution_count": 5,
   "metadata": {},
   "outputs": [],
   "source": [
    "import pickle\n",
    "from glob import glob\n",
    "from tqdm import tqdm\n",
    "\n",
    "import numpy as np\n",
    "import pandas as pd\n",
    "\n",
    "import matplotlib.pyplot as plt\n",
    "import seaborn as sns\n",
    "\n",
    "%matplotlib inline"
   ]
  },
  {
   "cell_type": "code",
   "execution_count": 6,
   "metadata": {},
   "outputs": [
    {
     "name": "stdout",
     "output_type": "stream",
     "text": [
      "0.0.0\n"
     ]
    }
   ],
   "source": [
    "# version\n",
    "print(ofrl.__version__)"
   ]
  },
  {
   "cell_type": "code",
   "execution_count": 7,
   "metadata": {},
   "outputs": [],
   "source": [
    "# set random state\n",
    "random_state = 12345"
   ]
  },
  {
   "cell_type": "code",
   "execution_count": 8,
   "metadata": {},
   "outputs": [],
   "source": [
    "# log directory\n",
    "from pathlib import Path\n",
    "Path(\"logs/\").mkdir(exist_ok=True)"
   ]
  },
  {
   "cell_type": "markdown",
   "metadata": {},
   "source": [
    "## 1. Setup, Synthetic Data Generation, and Offline Policy Learning\n",
    "To begin with, we briefly describe how the RTB environment works.\n",
    "\n",
    "#### RL setup for RTB\n",
    "In RTB, the objective of the RL agent is to maximize some KPIs (number of clicks or conversions) within an episode under given budget constraints.  \n",
    "\n",
    "We often try to achieve this by adjusting bidding price function parameter $\\alpha$. By using $\\alpha$, we can adjust the bid price as follows.  \n",
    "$bid_{t,i} = \\alpha \\cdot r^{\\ast}$, \n",
    "where $r^{\\ast}$ denotes a predicted or expected reward (KPIs).\n",
    "\n",
    "We often formulate this RTB problem as the following Constrained Markov Decision Process (CMDP):\n",
    "- `timestep`: One episode (a day or a week) consists of several timesteps (24 hours or seven days, for instance).\n",
    "- `state`: We observe some feedback from the environment at each timestep, which includes the following.\n",
    "  - timestep\n",
    "  - remaining budget\n",
    "  - impression level features (budget consumption rate, cost per mille of impressions, auction winning rate, reward) at the previous timestep\n",
    "  - adjust rate (RL agent's decision making) at the previous timestep\n",
    "- `action`: Agent chooses adjust rate parameter $\\alpha$ to maximize KPIs.\n",
    "- `reward`: Total number of clicks or conversions obtained during the timestep.\n",
    "- `constraints`: The pre-determined episodic budget should not be exceeded.\n",
    "\n",
    "For more about the environmental configuration and its customization, please refer to [examples/quickstart/rtb_synthetic_customize_env.ipynb](https://github.com/negocia-inc/rtb_reinforcement_learing/blob/ope/examples/quickstart/rtb_synthetic_customize_env.ipynb)."
   ]
  },
  {
   "cell_type": "code",
   "execution_count": 9,
   "metadata": {},
   "outputs": [],
   "source": [
    "# standardized environment for discrete action\n",
    "env = gym.make(\"RTBEnv-continuous-v0\")"
   ]
  },
  {
   "cell_type": "code",
   "execution_count": 10,
   "metadata": {},
   "outputs": [],
   "source": [
    "# for api compatibility to d3rlpy\n",
    "from ofrl.utils import OldGymAPIWrapper\n",
    "env_ = OldGymAPIWrapper(env)"
   ]
  },
  {
   "cell_type": "markdown",
   "metadata": {},
   "source": [
    "#### Synthetic Data Generation\n",
    "Next, we collect logged data with the uniform random agent.\n",
    "\n",
    "`SyntheticDataset` has the following arguments:\n",
    "- `env`: RTB environment for RL defined in the previous section.\n",
    "- `behavior_policy`: RL agent (or algorithm) used for the data collection.\n",
    "- `maximum_step_per_episode`: Maximum number of timesteps in an episode.\n",
    "- `action_meaning`: Dictionary which maps discrete action index into specific actions.\n",
    "- `action_keys`: Name of the action variable at each dimension.\n",
    "- `state_keys`: Name of the state variable at each dimension.\n",
    "- `info_keys`: Dictionary containing of key and the type of info components.\n",
    "- `random_state`: Random state.\n",
    "\n",
    "For more about the data collection and visualization, please refer to [examples/quickstart/rtb_synthetic_data_collection.ipynb](https://github.com/negocia-inc/rtb_reinforcement_learing/blob/ope/examples/quickstart/rtb_synthetic_data_collection.ipynb)."
   ]
  },
  {
   "cell_type": "code",
   "execution_count": 11,
   "metadata": {},
   "outputs": [],
   "source": [
    "# behavior policy\n",
    "from d3rlpy.algos import SAC\n",
    "from d3rlpy.models.encoders import VectorEncoderFactory\n",
    "from d3rlpy.models.q_functions import MeanQFunctionFactory\n",
    "from d3rlpy.online.buffers import ReplayBuffer\n",
    "\n",
    "# model\n",
    "sac = SAC(\n",
    "    actor_encoder_factory=VectorEncoderFactory(hidden_units=[30, 30]),\n",
    "    critic_encoder_factory=VectorEncoderFactory(hidden_units=[30, 30]),\n",
    "    q_func_factory=MeanQFunctionFactory(),\n",
    "    use_gpu=torch.cuda.is_available(),\n",
    "    action_scaler=MinMaxActionScaler(\n",
    "        minimum=env_.action_space.low,   # 0.1\n",
    "        maximum=env_.action_space.high,  # 10\n",
    "    ),\n",
    ")\n",
    "# setup replay buffer\n",
    "buffer = ReplayBuffer(\n",
    "    maxlen=10000,\n",
    "    env=env_,\n",
    ")"
   ]
  },
  {
   "cell_type": "code",
   "execution_count": 12,
   "metadata": {},
   "outputs": [
    {
     "name": "stdout",
     "output_type": "stream",
     "text": [
      "2022-11-24 04:09.24 [info     ] Directory is created at d3rlpy_logs/DoubleDQN_online_20221124040924\n",
      "2022-11-24 04:09.24 [debug    ] Building model...\n",
      "2022-11-24 04:09.24 [debug    ] Model has been built.\n",
      "2022-11-24 04:09.24 [info     ] Parameters are saved to d3rlpy_logs/DoubleDQN_online_20221124040924/params.json params={'action_scaler': None, 'batch_size': 32, 'encoder_factory': {'type': 'vector', 'params': {'hidden_units': [30, 30], 'activation': 'relu', 'use_batch_norm': False, 'dropout_rate': None, 'use_dense': False}}, 'gamma': 0.99, 'generated_maxlen': 100000, 'learning_rate': 6.25e-05, 'n_critics': 1, 'n_frames': 1, 'n_steps': 1, 'optim_factory': {'optim_cls': 'Adam', 'betas': (0.9, 0.999), 'eps': 1e-08, 'weight_decay': 0, 'amsgrad': False}, 'q_func_factory': {'type': 'mean', 'params': {'share_encoder': False}}, 'real_ratio': 1.0, 'reward_scaler': None, 'scaler': None, 'target_update_interval': 100, 'use_gpu': None, 'algorithm': 'DoubleDQN', 'observation_shape': (7,), 'action_size': 10}\n"
     ]
    },
    {
     "data": {
      "application/vnd.jupyter.widget-view+json": {
       "model_id": "5f91c9e7285446858b28398c7db28c5a",
       "version_major": 2,
       "version_minor": 0
      },
      "text/plain": [
       "  0%|          | 0/100000 [00:00<?, ?it/s]"
      ]
     },
     "metadata": {},
     "output_type": "display_data"
    },
    {
     "name": "stdout",
     "output_type": "stream",
     "text": [
      "2022-11-24 04:09.26 [info     ] Model parameters are saved to d3rlpy_logs/DoubleDQN_online_20221124040924/model_1000.pt\n",
      "2022-11-24 04:09.26 [info     ] DoubleDQN_online_20221124040924: epoch=1 step=1000 epoch=1 metrics={'time_inference': 0.0006391119956970215, 'time_environment_step': 0.0011666758060455322, 'time_step': 0.0018793754577636718, 'rollout_return': 14.028169014084508, 'evaluation': 14.3} step=1000\n",
      "2022-11-24 04:09.34 [info     ] Model parameters are saved to d3rlpy_logs/DoubleDQN_online_20221124040924/model_2000.pt\n",
      "2022-11-24 04:09.34 [info     ] DoubleDQN_online_20221124040924: epoch=2 step=2000 epoch=2 metrics={'time_inference': 0.0006009256839752198, 'time_environment_step': 0.0012014827728271484, 'time_sample_batch': 0.00016651487350463867, 'time_algorithm_update': 0.006054023504257202, 'loss': 51.65224489116669, 'time_step': 0.008141992568969726, 'rollout_return': 11.330985915492958, 'evaluation': 6.2} step=2000\n",
      "2022-11-24 04:09.39 [info     ] Model parameters are saved to d3rlpy_logs/DoubleDQN_online_20221124040924/model_3000.pt\n",
      "2022-11-24 04:09.39 [info     ] DoubleDQN_online_20221124040924: epoch=3 step=3000 epoch=3 metrics={'time_inference': 0.0005249426364898681, 'time_environment_step': 0.0010611765384674072, 'time_sample_batch': 0.00012854695320129394, 'time_algorithm_update': 0.002799613952636719, 'loss': 16.407875782966613, 'time_step': 0.004609891891479492, 'rollout_return': 3.084507042253521, 'evaluation': 0.0} step=3000\n",
      "2022-11-24 04:09.43 [info     ] Model parameters are saved to d3rlpy_logs/DoubleDQN_online_20221124040924/model_4000.pt\n",
      "2022-11-24 04:09.43 [info     ] DoubleDQN_online_20221124040924: epoch=4 step=4000 epoch=4 metrics={'time_inference': 0.0004946553707122803, 'time_environment_step': 0.0010060961246490478, 'time_sample_batch': 0.00012081146240234376, 'time_algorithm_update': 0.0024088969230651857, 'loss': 12.665743448257446, 'time_step': 0.0041232950687408445, 'rollout_return': 1.556338028169014, 'evaluation': 0.0} step=4000\n",
      "2022-11-24 04:09.48 [info     ] Model parameters are saved to d3rlpy_logs/DoubleDQN_online_20221124040924/model_5000.pt\n",
      "2022-11-24 04:09.48 [info     ] DoubleDQN_online_20221124040924: epoch=5 step=5000 epoch=5 metrics={'time_inference': 0.0005019211769104004, 'time_environment_step': 0.001032637119293213, 'time_sample_batch': 0.00012807273864746095, 'time_algorithm_update': 0.0026599528789520263, 'loss': 11.192959085702896, 'time_step': 0.004415662527084351, 'rollout_return': 1.6619718309859155, 'evaluation': 0.0} step=5000\n",
      "2022-11-24 04:09.52 [info     ] Model parameters are saved to d3rlpy_logs/DoubleDQN_online_20221124040924/model_6000.pt\n",
      "2022-11-24 04:09.52 [info     ] DoubleDQN_online_20221124040924: epoch=6 step=6000 epoch=6 metrics={'time_inference': 0.000526449203491211, 'time_environment_step': 0.0010207052230834961, 'time_sample_batch': 0.00013373565673828125, 'time_algorithm_update': 0.002496744394302368, 'loss': 9.915407749414443, 'time_step': 0.00427388882637024, 'rollout_return': 1.880281690140845, 'evaluation': 0.0} step=6000\n",
      "2022-11-24 04:09.58 [info     ] Model parameters are saved to d3rlpy_logs/DoubleDQN_online_20221124040924/model_7000.pt\n",
      "2022-11-24 04:09.58 [info     ] DoubleDQN_online_20221124040924: epoch=7 step=7000 epoch=7 metrics={'time_inference': 0.0005435729026794433, 'time_environment_step': 0.0010808446407318114, 'time_sample_batch': 0.00013205385208129883, 'time_algorithm_update': 0.0033916966915130617, 'loss': 8.485488889932633, 'time_step': 0.005247413873672485, 'rollout_return': 2.507042253521127, 'evaluation': 0.0} step=7000\n",
      "2022-11-24 04:10.02 [info     ] Model parameters are saved to d3rlpy_logs/DoubleDQN_online_20221124040924/model_8000.pt\n",
      "2022-11-24 04:10.03 [info     ] DoubleDQN_online_20221124040924: epoch=8 step=8000 epoch=8 metrics={'time_inference': 0.0005328593254089356, 'time_environment_step': 0.0010801491737365723, 'time_sample_batch': 0.00013052964210510254, 'time_algorithm_update': 0.0025861737728118898, 'loss': 6.883586257338524, 'time_step': 0.004430618524551392, 'rollout_return': 3.7183098591549295, 'evaluation': 6.3} step=8000\n",
      "2022-11-24 04:10.07 [info     ] Model parameters are saved to d3rlpy_logs/DoubleDQN_online_20221124040924/model_9000.pt\n",
      "2022-11-24 04:10.07 [info     ] DoubleDQN_online_20221124040924: epoch=9 step=9000 epoch=9 metrics={'time_inference': 0.0005122885704040527, 'time_environment_step': 0.001061631679534912, 'time_sample_batch': 0.00014324116706848145, 'time_algorithm_update': 0.002659184217453003, 'loss': 4.916154412031173, 'time_step': 0.004469882011413575, 'rollout_return': 6.492957746478873, 'evaluation': 5.4} step=9000\n",
      "2022-11-24 04:10.11 [info     ] Model parameters are saved to d3rlpy_logs/DoubleDQN_online_20221124040924/model_10000.pt\n",
      "2022-11-24 04:10.11 [info     ] DoubleDQN_online_20221124040924: epoch=10 step=10000 epoch=10 metrics={'time_inference': 0.0004569623470306396, 'time_environment_step': 0.0009453997611999511, 'time_sample_batch': 0.0001146235466003418, 'time_algorithm_update': 0.0022548155784606933, 'loss': 3.9014664346575736, 'time_step': 0.0038574776649475096, 'rollout_return': 6.859154929577465, 'evaluation': 7.1} step=10000\n",
      "2022-11-24 04:10.16 [info     ] Model parameters are saved to d3rlpy_logs/DoubleDQN_online_20221124040924/model_11000.pt\n",
      "2022-11-24 04:10.16 [info     ] DoubleDQN_online_20221124040924: epoch=11 step=11000 epoch=11 metrics={'time_inference': 0.0005282874107360839, 'time_environment_step': 0.0010730316638946533, 'time_sample_batch': 0.00014464688301086425, 'time_algorithm_update': 0.0028621201515197756, 'loss': 3.1136285669207573, 'time_step': 0.004709497213363647, 'rollout_return': 11.169014084507042, 'evaluation': 17.1} step=11000\n",
      "2022-11-24 04:10.21 [info     ] Model parameters are saved to d3rlpy_logs/DoubleDQN_online_20221124040924/model_12000.pt\n",
      "2022-11-24 04:10.21 [info     ] DoubleDQN_online_20221124040924: epoch=12 step=12000 epoch=12 metrics={'time_inference': 0.0004908747673034668, 'time_environment_step': 0.0009881558418273926, 'time_sample_batch': 0.00012159323692321778, 'time_algorithm_update': 0.0025238728523254393, 'loss': 2.4206844108104706, 'time_step': 0.004218226432800293, 'rollout_return': 13.943661971830986, 'evaluation': 16.0} step=12000\n",
      "2022-11-24 04:10.25 [info     ] Model parameters are saved to d3rlpy_logs/DoubleDQN_online_20221124040924/model_13000.pt\n",
      "2022-11-24 04:10.25 [info     ] DoubleDQN_online_20221124040924: epoch=13 step=13000 epoch=13 metrics={'time_inference': 0.0005322139263153076, 'time_environment_step': 0.001048919439315796, 'time_sample_batch': 0.00013336277008056641, 'time_algorithm_update': 0.0027557404041290284, 'loss': 2.6071165048778058, 'time_step': 0.004575765371322632, 'rollout_return': 13.683098591549296, 'evaluation': 17.3} step=13000\n",
      "2022-11-24 04:10.30 [info     ] Model parameters are saved to d3rlpy_logs/DoubleDQN_online_20221124040924/model_14000.pt\n",
      "2022-11-24 04:10.30 [info     ] DoubleDQN_online_20221124040924: epoch=14 step=14000 epoch=14 metrics={'time_inference': 0.0005709681510925293, 'time_environment_step': 0.0011374659538269042, 'time_sample_batch': 0.000135845422744751, 'time_algorithm_update': 0.0029043736457824705, 'loss': 2.5679472901821137, 'time_step': 0.004862051248550415, 'rollout_return': 13.633802816901408, 'evaluation': 12.6} step=14000\n",
      "2022-11-24 04:10.35 [info     ] Model parameters are saved to d3rlpy_logs/DoubleDQN_online_20221124040924/model_15000.pt\n",
      "2022-11-24 04:10.35 [info     ] DoubleDQN_online_20221124040924: epoch=15 step=15000 epoch=15 metrics={'time_inference': 0.0005282108783721923, 'time_environment_step': 0.0010702853202819824, 'time_sample_batch': 0.00014008307456970216, 'time_algorithm_update': 0.002732020854949951, 'loss': 2.383141320884228, 'time_step': 0.004581636190414429, 'rollout_return': 13.373239436619718, 'evaluation': 14.7} step=15000\n",
      "2022-11-24 04:10.40 [info     ] Model parameters are saved to d3rlpy_logs/DoubleDQN_online_20221124040924/model_16000.pt\n",
      "2022-11-24 04:10.40 [info     ] DoubleDQN_online_20221124040924: epoch=16 step=16000 epoch=16 metrics={'time_inference': 0.0005237739086151123, 'time_environment_step': 0.0010634317398071289, 'time_sample_batch': 0.00012732195854187013, 'time_algorithm_update': 0.0026004586219787597, 'loss': 2.131216789126396, 'time_step': 0.004410550832748413, 'rollout_return': 14.394366197183098, 'evaluation': 17.0} step=16000\n",
      "2022-11-24 04:10.44 [info     ] Model parameters are saved to d3rlpy_logs/DoubleDQN_online_20221124040924/model_17000.pt\n",
      "2022-11-24 04:10.44 [info     ] DoubleDQN_online_20221124040924: epoch=17 step=17000 epoch=17 metrics={'time_inference': 0.000518312931060791, 'time_environment_step': 0.0010335109233856202, 'time_sample_batch': 0.0001429595947265625, 'time_algorithm_update': 0.002557133197784424, 'loss': 2.0062890086174012, 'time_step': 0.004348176717758179, 'rollout_return': 14.507042253521126, 'evaluation': 15.8} step=17000\n",
      "2022-11-24 04:10.49 [info     ] Model parameters are saved to d3rlpy_logs/DoubleDQN_online_20221124040924/model_18000.pt\n",
      "2022-11-24 04:10.49 [info     ] DoubleDQN_online_20221124040924: epoch=18 step=18000 epoch=18 metrics={'time_inference': 0.0005008585453033448, 'time_environment_step': 0.0010400054454803467, 'time_sample_batch': 0.00012703609466552734, 'time_algorithm_update': 0.002490830659866333, 'loss': 1.6946520519554615, 'time_step': 0.004256481170654297, 'rollout_return': 14.17605633802817, 'evaluation': 14.2} step=18000\n",
      "2022-11-24 04:10.54 [info     ] Model parameters are saved to d3rlpy_logs/DoubleDQN_online_20221124040924/model_19000.pt\n",
      "2022-11-24 04:10.54 [info     ] DoubleDQN_online_20221124040924: epoch=19 step=19000 epoch=19 metrics={'time_inference': 0.0005545105934143067, 'time_environment_step': 0.0011452147960662842, 'time_sample_batch': 0.0001414756774902344, 'time_algorithm_update': 0.0028961174488067627, 'loss': 1.6346817847192288, 'time_step': 0.004854596853256225, 'rollout_return': 12.640845070422536, 'evaluation': 0.0} step=19000\n",
      "2022-11-24 04:10.59 [info     ] Model parameters are saved to d3rlpy_logs/DoubleDQN_online_20221124040924/model_20000.pt\n",
      "2022-11-24 04:10.59 [info     ] DoubleDQN_online_20221124040924: epoch=20 step=20000 epoch=20 metrics={'time_inference': 0.0005566706657409668, 'time_environment_step': 0.0010899748802185058, 'time_sample_batch': 0.0001385784149169922, 'time_algorithm_update': 0.002690401792526245, 'loss': 1.4065679381489753, 'time_step': 0.004581557273864746, 'rollout_return': 13.591549295774648, 'evaluation': 16.7} step=20000\n",
      "2022-11-24 04:11.03 [info     ] Model parameters are saved to d3rlpy_logs/DoubleDQN_online_20221124040924/model_21000.pt\n",
      "2022-11-24 04:11.03 [info     ] DoubleDQN_online_20221124040924: epoch=21 step=21000 epoch=21 metrics={'time_inference': 0.0005487508773803711, 'time_environment_step': 0.0010808022022247314, 'time_sample_batch': 0.00013242459297180175, 'time_algorithm_update': 0.002527993679046631, 'loss': 1.3686612291038036, 'time_step': 0.004393565893173218, 'rollout_return': 13.26056338028169, 'evaluation': 17.8} step=21000\n",
      "2022-11-24 04:11.08 [info     ] Model parameters are saved to d3rlpy_logs/DoubleDQN_online_20221124040924/model_22000.pt\n",
      "2022-11-24 04:11.08 [info     ] DoubleDQN_online_20221124040924: epoch=22 step=22000 epoch=22 metrics={'time_inference': 0.0005044410228729248, 'time_environment_step': 0.001004850149154663, 'time_sample_batch': 0.00013698267936706544, 'time_algorithm_update': 0.0023623218536376954, 'loss': 1.4087702948451042, 'time_step': 0.004107720613479614, 'rollout_return': 11.753521126760564, 'evaluation': 10.2} step=22000\n",
      "2022-11-24 04:11.12 [info     ] Model parameters are saved to d3rlpy_logs/DoubleDQN_online_20221124040924/model_23000.pt\n",
      "2022-11-24 04:11.12 [info     ] DoubleDQN_online_20221124040924: epoch=23 step=23000 epoch=23 metrics={'time_inference': 0.000545464277267456, 'time_environment_step': 0.0011031572818756103, 'time_sample_batch': 0.0001323230266571045, 'time_algorithm_update': 0.0025944409370422363, 'loss': 1.4509145569205284, 'time_step': 0.004476504325866699, 'rollout_return': 12.253521126760564, 'evaluation': 11.3} step=23000\n",
      "2022-11-24 04:11.17 [info     ] Model parameters are saved to d3rlpy_logs/DoubleDQN_online_20221124040924/model_24000.pt\n",
      "2022-11-24 04:11.17 [info     ] DoubleDQN_online_20221124040924: epoch=24 step=24000 epoch=24 metrics={'time_inference': 0.00046413755416870115, 'time_environment_step': 0.000954242467880249, 'time_sample_batch': 0.00011519479751586914, 'time_algorithm_update': 0.0022937419414520263, 'loss': 1.3367328715622424, 'time_step': 0.003917131185531616, 'rollout_return': 13.690140845070422, 'evaluation': 15.9} step=24000\n",
      "2022-11-24 04:11.21 [info     ] Model parameters are saved to d3rlpy_logs/DoubleDQN_online_20221124040924/model_25000.pt\n",
      "2022-11-24 04:11.21 [info     ] DoubleDQN_online_20221124040924: epoch=25 step=25000 epoch=25 metrics={'time_inference': 0.0004898509979248046, 'time_environment_step': 0.0009907176494598389, 'time_sample_batch': 0.00012068843841552735, 'time_algorithm_update': 0.0024331531524658203, 'loss': 1.341902158498764, 'time_step': 0.004132478952407837, 'rollout_return': 13.274647887323944, 'evaluation': 14.3} step=25000\n",
      "2022-11-24 04:11.25 [info     ] Model parameters are saved to d3rlpy_logs/DoubleDQN_online_20221124040924/model_26000.pt\n",
      "2022-11-24 04:11.25 [info     ] DoubleDQN_online_20221124040924: epoch=26 step=26000 epoch=26 metrics={'time_inference': 0.0005142762660980224, 'time_environment_step': 0.0010062799453735352, 'time_sample_batch': 0.00012584471702575684, 'time_algorithm_update': 0.0025436344146728515, 'loss': 1.3582175614833831, 'time_step': 0.004287339448928833, 'rollout_return': 13.443661971830986, 'evaluation': 16.7} step=26000\n",
      "2022-11-24 04:11.31 [info     ] Model parameters are saved to d3rlpy_logs/DoubleDQN_online_20221124040924/model_27000.pt\n",
      "2022-11-24 04:11.31 [info     ] DoubleDQN_online_20221124040924: epoch=27 step=27000 epoch=27 metrics={'time_inference': 0.0005603599548339844, 'time_environment_step': 0.0012040672302246094, 'time_sample_batch': 0.00014232516288757325, 'time_algorithm_update': 0.003232954978942871, 'loss': 1.3773020769655704, 'time_step': 0.005252147197723388, 'rollout_return': 13.0, 'evaluation': 16.3} step=27000\n",
      "2022-11-24 04:11.36 [info     ] Model parameters are saved to d3rlpy_logs/DoubleDQN_online_20221124040924/model_28000.pt\n",
      "2022-11-24 04:11.36 [info     ] DoubleDQN_online_20221124040924: epoch=28 step=28000 epoch=28 metrics={'time_inference': 0.0005660707950592041, 'time_environment_step': 0.0011170976161956787, 'time_sample_batch': 0.00013686060905456542, 'time_algorithm_update': 0.0026803817749023436, 'loss': 1.3411408475041389, 'time_step': 0.004603563070297241, 'rollout_return': 13.387323943661972, 'evaluation': 16.2} step=28000\n",
      "2022-11-24 04:11.42 [info     ] Model parameters are saved to d3rlpy_logs/DoubleDQN_online_20221124040924/model_29000.pt\n",
      "2022-11-24 04:11.42 [info     ] DoubleDQN_online_20221124040924: epoch=29 step=29000 epoch=29 metrics={'time_inference': 0.0005734193325042724, 'time_environment_step': 0.0011497840881347656, 'time_sample_batch': 0.0001392822265625, 'time_algorithm_update': 0.004159091234207153, 'loss': 1.3009229226410388, 'time_step': 0.006125445365905762, 'rollout_return': 15.091549295774648, 'evaluation': 15.9} step=29000\n",
      "2022-11-24 04:11.48 [info     ] Model parameters are saved to d3rlpy_logs/DoubleDQN_online_20221124040924/model_30000.pt\n",
      "2022-11-24 04:11.48 [info     ] DoubleDQN_online_20221124040924: epoch=30 step=30000 epoch=30 metrics={'time_inference': 0.0006087355613708497, 'time_environment_step': 0.0011125144958496094, 'time_sample_batch': 0.0001496570110321045, 'time_algorithm_update': 0.004098940372467041, 'loss': 1.3312254292666912, 'time_step': 0.006069887399673462, 'rollout_return': 13.274647887323944, 'evaluation': 14.7} step=30000\n",
      "2022-11-24 04:11.53 [info     ] Model parameters are saved to d3rlpy_logs/DoubleDQN_online_20221124040924/model_31000.pt\n",
      "2022-11-24 04:11.53 [info     ] DoubleDQN_online_20221124040924: epoch=31 step=31000 epoch=31 metrics={'time_inference': 0.0005485739707946777, 'time_environment_step': 0.001071951150894165, 'time_sample_batch': 0.00013579225540161132, 'time_algorithm_update': 0.0028388283252716064, 'loss': 1.3250951763093473, 'time_step': 0.0047013692855834965, 'rollout_return': 14.112676056338028, 'evaluation': 14.2} step=31000\n",
      "2022-11-24 04:11.59 [info     ] Model parameters are saved to d3rlpy_logs/DoubleDQN_online_20221124040924/model_32000.pt\n",
      "2022-11-24 04:11.59 [info     ] DoubleDQN_online_20221124040924: epoch=32 step=32000 epoch=32 metrics={'time_inference': 0.0005409657955169678, 'time_environment_step': 0.001085442304611206, 'time_sample_batch': 0.00013739514350891114, 'time_algorithm_update': 0.003399441957473755, 'loss': 1.3386988937258721, 'time_step': 0.00526460599899292, 'rollout_return': 13.387323943661972, 'evaluation': 15.4} step=32000\n",
      "2022-11-24 04:12.04 [info     ] Model parameters are saved to d3rlpy_logs/DoubleDQN_online_20221124040924/model_33000.pt\n",
      "2022-11-24 04:12.04 [info     ] DoubleDQN_online_20221124040924: epoch=33 step=33000 epoch=33 metrics={'time_inference': 0.0005199062824249268, 'time_environment_step': 0.0010349678993225098, 'time_sample_batch': 0.00014151597023010255, 'time_algorithm_update': 0.0027863848209381103, 'loss': 1.239940570950508, 'time_step': 0.0045866649150848385, 'rollout_return': 13.887323943661972, 'evaluation': 13.8} step=33000\n",
      "2022-11-24 04:12.08 [info     ] Model parameters are saved to d3rlpy_logs/DoubleDQN_online_20221124040924/model_34000.pt\n",
      "2022-11-24 04:12.08 [info     ] DoubleDQN_online_20221124040924: epoch=34 step=34000 epoch=34 metrics={'time_inference': 0.00047409725189208985, 'time_environment_step': 0.0009878723621368408, 'time_sample_batch': 0.0001262977123260498, 'time_algorithm_update': 0.002602938175201416, 'loss': 1.237200101852417, 'time_step': 0.004282355785369873, 'rollout_return': 14.028169014084508, 'evaluation': 12.9} step=34000\n",
      "2022-11-24 04:12.12 [info     ] Model parameters are saved to d3rlpy_logs/DoubleDQN_online_20221124040924/model_35000.pt\n",
      "2022-11-24 04:12.12 [info     ] DoubleDQN_online_20221124040924: epoch=35 step=35000 epoch=35 metrics={'time_inference': 0.0004977908134460449, 'time_environment_step': 0.000997575044631958, 'time_sample_batch': 0.00012580418586730956, 'time_algorithm_update': 0.002418043851852417, 'loss': 1.1645111198425293, 'time_step': 0.004131627321243286, 'rollout_return': 14.788732394366198, 'evaluation': 14.5} step=35000\n",
      "2022-11-24 04:12.17 [info     ] Model parameters are saved to d3rlpy_logs/DoubleDQN_online_20221124040924/model_36000.pt\n",
      "2022-11-24 04:12.17 [info     ] DoubleDQN_online_20221124040924: epoch=36 step=36000 epoch=36 metrics={'time_inference': 0.00048298096656799317, 'time_environment_step': 0.000957165002822876, 'time_sample_batch': 0.0001234111785888672, 'time_algorithm_update': 0.0026261091232299806, 'loss': 1.1658258126974106, 'time_step': 0.004278088569641113, 'rollout_return': 14.873239436619718, 'evaluation': 15.7} step=36000\n",
      "2022-11-24 04:12.21 [info     ] Model parameters are saved to d3rlpy_logs/DoubleDQN_online_20221124040924/model_37000.pt\n",
      "2022-11-24 04:12.21 [info     ] DoubleDQN_online_20221124040924: epoch=37 step=37000 epoch=37 metrics={'time_inference': 0.0004944219589233398, 'time_environment_step': 0.0009907195568084717, 'time_sample_batch': 0.00012737178802490234, 'time_algorithm_update': 0.0025706212520599367, 'loss': 1.1411765811294317, 'time_step': 0.004278469800949097, 'rollout_return': 14.492957746478874, 'evaluation': 16.2} step=37000\n",
      "2022-11-24 04:12.26 [info     ] Model parameters are saved to d3rlpy_logs/DoubleDQN_online_20221124040924/model_38000.pt\n",
      "2022-11-24 04:12.26 [info     ] DoubleDQN_online_20221124040924: epoch=38 step=38000 epoch=38 metrics={'time_inference': 0.0005154087543487549, 'time_environment_step': 0.0009454793930053711, 'time_sample_batch': 0.00013352251052856445, 'time_algorithm_update': 0.002507691860198975, 'loss': 1.074179648384452, 'time_step': 0.004193238019943237, 'rollout_return': 14.380281690140846, 'evaluation': 17.7} step=38000\n",
      "2022-11-24 04:12.31 [info     ] Model parameters are saved to d3rlpy_logs/DoubleDQN_online_20221124040924/model_39000.pt\n",
      "2022-11-24 04:12.31 [info     ] DoubleDQN_online_20221124040924: epoch=39 step=39000 epoch=39 metrics={'time_inference': 0.000585949182510376, 'time_environment_step': 0.0011874799728393555, 'time_sample_batch': 0.00014139676094055177, 'time_algorithm_update': 0.0028665051460266115, 'loss': 1.1021062182486057, 'time_step': 0.004903223514556885, 'rollout_return': 14.556338028169014, 'evaluation': 6.7} step=39000\n",
      "2022-11-24 04:12.36 [info     ] Model parameters are saved to d3rlpy_logs/DoubleDQN_online_20221124040924/model_40000.pt\n",
      "2022-11-24 04:12.36 [info     ] DoubleDQN_online_20221124040924: epoch=40 step=40000 epoch=40 metrics={'time_inference': 0.0006452100276947021, 'time_environment_step': 0.0012105848789215087, 'time_sample_batch': 0.00014911842346191406, 'time_algorithm_update': 0.0029393682479858397, 'loss': 1.0875398457348346, 'time_step': 0.0050635521411895755, 'rollout_return': 14.485915492957746, 'evaluation': 16.2} step=40000\n",
      "2022-11-24 04:12.41 [info     ] Model parameters are saved to d3rlpy_logs/DoubleDQN_online_20221124040924/model_41000.pt\n",
      "2022-11-24 04:12.41 [info     ] DoubleDQN_online_20221124040924: epoch=41 step=41000 epoch=41 metrics={'time_inference': 0.0005283536911010742, 'time_environment_step': 0.0010575571060180665, 'time_sample_batch': 0.0001342630386352539, 'time_algorithm_update': 0.002695279359817505, 'loss': 0.9832087152600288, 'time_step': 0.0045191793441772465, 'rollout_return': 15.669014084507042, 'evaluation': 16.0} step=41000\n",
      "2022-11-24 04:12.46 [info     ] Model parameters are saved to d3rlpy_logs/DoubleDQN_online_20221124040924/model_42000.pt\n",
      "2022-11-24 04:12.46 [info     ] DoubleDQN_online_20221124040924: epoch=42 step=42000 epoch=42 metrics={'time_inference': 0.0005804054737091064, 'time_environment_step': 0.0011510095596313477, 'time_sample_batch': 0.00014325404167175293, 'time_algorithm_update': 0.0027487967014312746, 'loss': 0.9793617592453957, 'time_step': 0.004732836246490479, 'rollout_return': 14.626760563380282, 'evaluation': 15.1} step=42000\n",
      "2022-11-24 04:12.50 [info     ] Model parameters are saved to d3rlpy_logs/DoubleDQN_online_20221124040924/model_43000.pt\n",
      "2022-11-24 04:12.50 [info     ] DoubleDQN_online_20221124040924: epoch=43 step=43000 epoch=43 metrics={'time_inference': 0.00048345160484313963, 'time_environment_step': 0.00095552659034729, 'time_sample_batch': 0.00012163829803466797, 'time_algorithm_update': 0.0023806633949279787, 'loss': 0.9606723312735558, 'time_step': 0.004038741111755371, 'rollout_return': 14.422535211267606, 'evaluation': 16.8} step=43000\n",
      "2022-11-24 04:12.55 [info     ] Model parameters are saved to d3rlpy_logs/DoubleDQN_online_20221124040924/model_44000.pt\n",
      "2022-11-24 04:12.55 [info     ] DoubleDQN_online_20221124040924: epoch=44 step=44000 epoch=44 metrics={'time_inference': 0.0005033736228942871, 'time_environment_step': 0.0010343611240386963, 'time_sample_batch': 0.00014834785461425781, 'time_algorithm_update': 0.002454005718231201, 'loss': 0.9538744035661221, 'time_step': 0.004237314701080322, 'rollout_return': 14.985915492957746, 'evaluation': 4.0} step=44000\n",
      "2022-11-24 04:12.59 [info     ] Model parameters are saved to d3rlpy_logs/DoubleDQN_online_20221124040924/model_45000.pt\n",
      "2022-11-24 04:12.59 [info     ] DoubleDQN_online_20221124040924: epoch=45 step=45000 epoch=45 metrics={'time_inference': 0.0004826815128326416, 'time_environment_step': 0.0009821712970733642, 'time_sample_batch': 0.00012235856056213378, 'time_algorithm_update': 0.0024909210205078126, 'loss': 0.9032638324946165, 'time_step': 0.0041723806858062745, 'rollout_return': 14.352112676056338, 'evaluation': 13.7} step=45000\n",
      "2022-11-24 04:13.20 [info     ] Model parameters are saved to d3rlpy_logs/DoubleDQN_online_20221124040924/model_46000.pt\n",
      "2022-11-24 04:13.20 [info     ] DoubleDQN_online_20221124040924: epoch=46 step=46000 epoch=46 metrics={'time_inference': 0.0006901931762695313, 'time_environment_step': 0.001199533462524414, 'time_sample_batch': 0.00014483094215393067, 'time_algorithm_update': 0.01855271577835083, 'loss': 0.8970011759400368, 'time_step': 0.02071329712867737, 'rollout_return': 15.633802816901408, 'evaluation': 15.6} step=46000\n",
      "2022-11-24 04:13.44 [info     ] Model parameters are saved to d3rlpy_logs/DoubleDQN_online_20221124040924/model_47000.pt\n",
      "2022-11-24 04:13.44 [info     ] DoubleDQN_online_20221124040924: epoch=47 step=47000 epoch=47 metrics={'time_inference': 0.0006140010356903076, 'time_environment_step': 0.0011622648239135742, 'time_sample_batch': 0.00013523030281066895, 'time_algorithm_update': 0.02165206289291382, 'loss': 0.9149891436845065, 'time_step': 0.023716386079788206, 'rollout_return': 15.345070422535212, 'evaluation': 14.5} step=47000\n",
      "2022-11-24 04:14.11 [info     ] Model parameters are saved to d3rlpy_logs/DoubleDQN_online_20221124040924/model_48000.pt\n",
      "2022-11-24 04:14.11 [info     ] DoubleDQN_online_20221124040924: epoch=48 step=48000 epoch=48 metrics={'time_inference': 0.0005514297485351563, 'time_environment_step': 0.0012156639099121093, 'time_sample_batch': 0.00018393945693969728, 'time_algorithm_update': 0.02388139009475708, 'loss': 0.8899529009759426, 'time_step': 0.025959406614303588, 'rollout_return': 14.633802816901408, 'evaluation': 15.1} step=48000\n",
      "2022-11-24 04:14.36 [info     ] Model parameters are saved to d3rlpy_logs/DoubleDQN_online_20221124040924/model_49000.pt\n",
      "2022-11-24 04:14.36 [info     ] DoubleDQN_online_20221124040924: epoch=49 step=49000 epoch=49 metrics={'time_inference': 0.000630439043045044, 'time_environment_step': 0.001296053171157837, 'time_sample_batch': 0.0001419508457183838, 'time_algorithm_update': 0.022601674795150756, 'loss': 0.8661122130155563, 'time_step': 0.024779167652130125, 'rollout_return': 14.725352112676056, 'evaluation': 13.3} step=49000\n",
      "2022-11-24 04:15.02 [info     ] Model parameters are saved to d3rlpy_logs/DoubleDQN_online_20221124040924/model_50000.pt\n",
      "2022-11-24 04:15.02 [info     ] DoubleDQN_online_20221124040924: epoch=50 step=50000 epoch=50 metrics={'time_inference': 0.0006242291927337646, 'time_environment_step': 0.0012290074825286866, 'time_sample_batch': 0.00013278555870056152, 'time_algorithm_update': 0.022876555919647216, 'loss': 0.8199541818797589, 'time_step': 0.02500158429145813, 'rollout_return': 15.556338028169014, 'evaluation': 16.0} step=50000\n",
      "2022-11-24 04:15.28 [info     ] Model parameters are saved to d3rlpy_logs/DoubleDQN_online_20221124040924/model_51000.pt\n",
      "2022-11-24 04:15.28 [info     ] DoubleDQN_online_20221124040924: epoch=51 step=51000 epoch=51 metrics={'time_inference': 0.0008529260158538818, 'time_environment_step': 0.0012575476169586182, 'time_sample_batch': 0.00013801646232604981, 'time_algorithm_update': 0.023630810737609864, 'loss': 0.8263212329298257, 'time_step': 0.0259913330078125, 'rollout_return': 14.93661971830986, 'evaluation': 16.7} step=51000\n",
      "2022-11-24 04:15.49 [info     ] Model parameters are saved to d3rlpy_logs/DoubleDQN_online_20221124040924/model_52000.pt\n",
      "2022-11-24 04:15.50 [info     ] DoubleDQN_online_20221124040924: epoch=52 step=52000 epoch=52 metrics={'time_inference': 0.0005785367488861084, 'time_environment_step': 0.001221259117126465, 'time_sample_batch': 0.00017083001136779786, 'time_algorithm_update': 0.018811629056930543, 'loss': 0.8102268223762512, 'time_step': 0.020901102781295776, 'rollout_return': 15.274647887323944, 'evaluation': 15.5} step=52000\n",
      "2022-11-24 04:16.13 [info     ] Model parameters are saved to d3rlpy_logs/DoubleDQN_online_20221124040924/model_53000.pt\n",
      "2022-11-24 04:16.13 [info     ] DoubleDQN_online_20221124040924: epoch=53 step=53000 epoch=53 metrics={'time_inference': 0.0005890223979949952, 'time_environment_step': 0.0011573200225830078, 'time_sample_batch': 0.00013698363304138185, 'time_algorithm_update': 0.020856948614120484, 'loss': 0.813475992038846, 'time_step': 0.02284518027305603, 'rollout_return': 15.415492957746478, 'evaluation': 19.8} step=53000\n",
      "2022-11-24 04:16.35 [info     ] Model parameters are saved to d3rlpy_logs/DoubleDQN_online_20221124040924/model_54000.pt\n",
      "2022-11-24 04:16.35 [info     ] DoubleDQN_online_20221124040924: epoch=54 step=54000 epoch=54 metrics={'time_inference': 0.0006561598777770996, 'time_environment_step': 0.0012562355995178222, 'time_sample_batch': 0.00018074655532836914, 'time_algorithm_update': 0.019568020820617676, 'loss': 0.8166197817325592, 'time_step': 0.02180486512184143, 'rollout_return': 14.901408450704226, 'evaluation': 13.7} step=54000\n",
      "2022-11-24 04:17.01 [info     ] Model parameters are saved to d3rlpy_logs/DoubleDQN_online_20221124040924/model_55000.pt\n",
      "2022-11-24 04:17.01 [info     ] DoubleDQN_online_20221124040924: epoch=55 step=55000 epoch=55 metrics={'time_inference': 0.0005939080715179443, 'time_environment_step': 0.0013125832080841063, 'time_sample_batch': 0.00016157341003417968, 'time_algorithm_update': 0.023760645627975464, 'loss': 0.8421637505888939, 'time_step': 0.025930445671081544, 'rollout_return': 15.253521126760564, 'evaluation': 14.6} step=55000\n",
      "2022-11-24 04:17.26 [info     ] Model parameters are saved to d3rlpy_logs/DoubleDQN_online_20221124040924/model_56000.pt\n",
      "2022-11-24 04:17.27 [info     ] DoubleDQN_online_20221124040924: epoch=56 step=56000 epoch=56 metrics={'time_inference': 0.0006939973831176757, 'time_environment_step': 0.001306530237197876, 'time_sample_batch': 0.00017952752113342286, 'time_algorithm_update': 0.02224842596054077, 'loss': 0.840046137303114, 'time_step': 0.024570528507232667, 'rollout_return': 15.30281690140845, 'evaluation': 17.5} step=56000\n",
      "2022-11-24 04:17.50 [info     ] Model parameters are saved to d3rlpy_logs/DoubleDQN_online_20221124040924/model_57000.pt\n",
      "2022-11-24 04:17.50 [info     ] DoubleDQN_online_20221124040924: epoch=57 step=57000 epoch=57 metrics={'time_inference': 0.0005901033878326416, 'time_environment_step': 0.0014076497554779052, 'time_sample_batch': 0.00015737128257751465, 'time_algorithm_update': 0.020938865184783936, 'loss': 0.8489366295635701, 'time_step': 0.023190561532974243, 'rollout_return': 15.035211267605634, 'evaluation': 15.3} step=57000\n",
      "2022-11-24 04:18.13 [info     ] Model parameters are saved to d3rlpy_logs/DoubleDQN_online_20221124040924/model_58000.pt\n",
      "2022-11-24 04:18.13 [info     ] DoubleDQN_online_20221124040924: epoch=58 step=58000 epoch=58 metrics={'time_inference': 0.000542466402053833, 'time_environment_step': 0.0013524658679962159, 'time_sample_batch': 0.00017274880409240724, 'time_algorithm_update': 0.020744004011154175, 'loss': 0.8275324693024159, 'time_step': 0.02292363214492798, 'rollout_return': 15.809859154929578, 'evaluation': 15.1} step=58000\n",
      "2022-11-24 04:18.38 [info     ] Model parameters are saved to d3rlpy_logs/DoubleDQN_online_20221124040924/model_59000.pt\n",
      "2022-11-24 04:18.38 [info     ] DoubleDQN_online_20221124040924: epoch=59 step=59000 epoch=59 metrics={'time_inference': 0.000598496675491333, 'time_environment_step': 0.0012866296768188476, 'time_sample_batch': 0.00019382166862487793, 'time_algorithm_update': 0.02189545154571533, 'loss': 0.8233762739598751, 'time_step': 0.02411042547225952, 'rollout_return': 15.78169014084507, 'evaluation': 15.3} step=59000\n",
      "2022-11-24 04:19.03 [info     ] Model parameters are saved to d3rlpy_logs/DoubleDQN_online_20221124040924/model_60000.pt\n",
      "2022-11-24 04:19.03 [info     ] DoubleDQN_online_20221124040924: epoch=60 step=60000 epoch=60 metrics={'time_inference': 0.0006024448871612549, 'time_environment_step': 0.0012631688117980956, 'time_sample_batch': 0.0001493370532989502, 'time_algorithm_update': 0.022619226694107056, 'loss': 0.8456320052146912, 'time_step': 0.02474906849861145, 'rollout_return': 15.76056338028169, 'evaluation': 17.3} step=60000\n",
      "2022-11-24 04:19.29 [info     ] Model parameters are saved to d3rlpy_logs/DoubleDQN_online_20221124040924/model_61000.pt\n",
      "2022-11-24 04:19.29 [info     ] DoubleDQN_online_20221124040924: epoch=61 step=61000 epoch=61 metrics={'time_inference': 0.0006170177459716797, 'time_environment_step': 0.001156735897064209, 'time_sample_batch': 0.00015804886817932128, 'time_algorithm_update': 0.023223185777664183, 'loss': 0.8369243388175964, 'time_step': 0.025252310037612916, 'rollout_return': 15.661971830985916, 'evaluation': 17.7} step=61000\n",
      "2022-11-24 04:19.53 [info     ] Model parameters are saved to d3rlpy_logs/DoubleDQN_online_20221124040924/model_62000.pt\n",
      "2022-11-24 04:19.53 [info     ] DoubleDQN_online_20221124040924: epoch=62 step=62000 epoch=62 metrics={'time_inference': 0.00063458251953125, 'time_environment_step': 0.0012794282436370849, 'time_sample_batch': 0.0001399517059326172, 'time_algorithm_update': 0.02139489531517029, 'loss': 0.8099661489576101, 'time_step': 0.02354902172088623, 'rollout_return': 15.640845070422536, 'evaluation': 12.3} step=62000\n",
      "2022-11-24 04:20.18 [info     ] Model parameters are saved to d3rlpy_logs/DoubleDQN_online_20221124040924/model_63000.pt\n",
      "2022-11-24 04:20.18 [info     ] DoubleDQN_online_20221124040924: epoch=63 step=63000 epoch=63 metrics={'time_inference': 0.0005305545330047607, 'time_environment_step': 0.0012049834728240967, 'time_sample_batch': 0.00014860367774963379, 'time_algorithm_update': 0.02236280345916748, 'loss': 0.8205022641122341, 'time_step': 0.024357417821884154, 'rollout_return': 15.866197183098592, 'evaluation': 15.0} step=63000\n",
      "2022-11-24 04:20.45 [info     ] Model parameters are saved to d3rlpy_logs/DoubleDQN_online_20221124040924/model_64000.pt\n",
      "2022-11-24 04:20.45 [info     ] DoubleDQN_online_20221124040924: epoch=64 step=64000 epoch=64 metrics={'time_inference': 0.0006959819793701172, 'time_environment_step': 0.0011864311695098876, 'time_sample_batch': 0.0001750190258026123, 'time_algorithm_update': 0.024214696645736694, 'loss': 0.8086938464343548, 'time_step': 0.02639395833015442, 'rollout_return': 15.267605633802816, 'evaluation': 16.0} step=64000\n",
      "2022-11-24 04:21.28 [info     ] Model parameters are saved to d3rlpy_logs/DoubleDQN_online_20221124040924/model_65000.pt\n",
      "2022-11-24 04:21.28 [info     ] DoubleDQN_online_20221124040924: epoch=65 step=65000 epoch=65 metrics={'time_inference': 0.0007726306915283203, 'time_environment_step': 0.0014183270931243898, 'time_sample_batch': 0.0001417534351348877, 'time_algorithm_update': 0.04016040515899658, 'loss': 0.8042400875836611, 'time_step': 0.042594839572906495, 'rollout_return': 15.190140845070422, 'evaluation': 15.7} step=65000\n",
      "2022-11-24 04:22.14 [info     ] Model parameters are saved to d3rlpy_logs/DoubleDQN_online_20221124040924/model_66000.pt\n",
      "2022-11-24 04:22.14 [info     ] DoubleDQN_online_20221124040924: epoch=66 step=66000 epoch=66 metrics={'time_inference': 0.0008188662528991699, 'time_environment_step': 0.0012569332122802734, 'time_sample_batch': 0.00015965032577514647, 'time_algorithm_update': 0.04235280084609985, 'loss': 0.790311357319355, 'time_step': 0.04470102190971374, 'rollout_return': 14.943661971830986, 'evaluation': 16.3} step=66000\n",
      "2022-11-24 04:22.56 [info     ] Model parameters are saved to d3rlpy_logs/DoubleDQN_online_20221124040924/model_67000.pt\n",
      "2022-11-24 04:22.56 [info     ] DoubleDQN_online_20221124040924: epoch=67 step=67000 epoch=67 metrics={'time_inference': 0.0006983492374420166, 'time_environment_step': 0.0014210364818572998, 'time_sample_batch': 0.00018873786926269532, 'time_algorithm_update': 0.039059415340423585, 'loss': 0.7797649938166141, 'time_step': 0.04152165222167969, 'rollout_return': 16.007042253521128, 'evaluation': 16.8} step=67000\n",
      "2022-11-24 04:23.39 [info     ] Model parameters are saved to d3rlpy_logs/DoubleDQN_online_20221124040924/model_68000.pt\n",
      "2022-11-24 04:23.39 [info     ] DoubleDQN_online_20221124040924: epoch=68 step=68000 epoch=68 metrics={'time_inference': 0.00073677659034729, 'time_environment_step': 0.0013245227336883545, 'time_sample_batch': 0.00015286970138549805, 'time_algorithm_update': 0.039659250497817995, 'loss': 0.8096874168217182, 'time_step': 0.04197145771980286, 'rollout_return': 14.788732394366198, 'evaluation': 16.1} step=68000\n",
      "2022-11-24 04:24.21 [info     ] Model parameters are saved to d3rlpy_logs/DoubleDQN_online_20221124040924/model_69000.pt\n",
      "2022-11-24 04:24.21 [info     ] DoubleDQN_online_20221124040924: epoch=69 step=69000 epoch=69 metrics={'time_inference': 0.0006589479446411133, 'time_environment_step': 0.0011137094497680664, 'time_sample_batch': 0.00013368606567382813, 'time_algorithm_update': 0.03931954622268677, 'loss': 0.7900754267275334, 'time_step': 0.04133468008041382, 'rollout_return': 15.30281690140845, 'evaluation': 14.8} step=69000\n",
      "2022-11-24 04:25.02 [info     ] Model parameters are saved to d3rlpy_logs/DoubleDQN_online_20221124040924/model_70000.pt\n",
      "2022-11-24 04:25.02 [info     ] DoubleDQN_online_20221124040924: epoch=70 step=70000 epoch=70 metrics={'time_inference': 0.0006262938976287842, 'time_environment_step': 0.001274832248687744, 'time_sample_batch': 0.0001335146427154541, 'time_algorithm_update': 0.03877118992805481, 'loss': 0.7795660886466503, 'time_step': 0.04091018319129944, 'rollout_return': 15.028169014084508, 'evaluation': 15.2} step=70000\n",
      "2022-11-24 04:25.45 [info     ] Model parameters are saved to d3rlpy_logs/DoubleDQN_online_20221124040924/model_71000.pt\n",
      "2022-11-24 04:25.45 [info     ] DoubleDQN_online_20221124040924: epoch=71 step=71000 epoch=71 metrics={'time_inference': 0.0007180583477020264, 'time_environment_step': 0.0013058393001556398, 'time_sample_batch': 0.0001390540599822998, 'time_algorithm_update': 0.039607124805450436, 'loss': 0.8134811701476574, 'time_step': 0.04187061357498169, 'rollout_return': 15.17605633802817, 'evaluation': 17.6} step=71000\n",
      "2022-11-24 04:26.27 [info     ] Model parameters are saved to d3rlpy_logs/DoubleDQN_online_20221124040924/model_72000.pt\n",
      "2022-11-24 04:26.27 [info     ] DoubleDQN_online_20221124040924: epoch=72 step=72000 epoch=72 metrics={'time_inference': 0.0006155650615692139, 'time_environment_step': 0.0011916549205780028, 'time_sample_batch': 0.00011712980270385743, 'time_algorithm_update': 0.03916399264335632, 'loss': 0.786643756866455, 'time_step': 0.041208518981933596, 'rollout_return': 15.345070422535212, 'evaluation': 18.6} step=72000\n",
      "2022-11-24 04:27.10 [info     ] Model parameters are saved to d3rlpy_logs/DoubleDQN_online_20221124040924/model_73000.pt\n",
      "2022-11-24 04:27.10 [info     ] DoubleDQN_online_20221124040924: epoch=73 step=73000 epoch=73 metrics={'time_inference': 0.00069948148727417, 'time_environment_step': 0.0011762387752532958, 'time_sample_batch': 0.00012159419059753418, 'time_algorithm_update': 0.040139127492904665, 'loss': 0.8352748873829842, 'time_step': 0.04223932194709778, 'rollout_return': 15.119718309859154, 'evaluation': 15.9} step=73000\n",
      "2022-11-24 04:27.53 [info     ] Model parameters are saved to d3rlpy_logs/DoubleDQN_online_20221124040924/model_74000.pt\n",
      "2022-11-24 04:27.53 [info     ] DoubleDQN_online_20221124040924: epoch=74 step=74000 epoch=74 metrics={'time_inference': 0.0006972699165344238, 'time_environment_step': 0.0012802915573120117, 'time_sample_batch': 0.00016069769859313965, 'time_algorithm_update': 0.04026576709747314, 'loss': 0.8316723520755768, 'time_step': 0.04249965977668762, 'rollout_return': 15.112676056338028, 'evaluation': 17.9} step=74000\n",
      "2022-11-24 04:28.37 [info     ] Model parameters are saved to d3rlpy_logs/DoubleDQN_online_20221124040924/model_75000.pt\n",
      "2022-11-24 04:28.37 [info     ] DoubleDQN_online_20221124040924: epoch=75 step=75000 epoch=75 metrics={'time_inference': 0.0006059300899505615, 'time_environment_step': 0.0011085591316223145, 'time_sample_batch': 0.0001186525821685791, 'time_algorithm_update': 0.04201159238815308, 'loss': 0.8007000981271267, 'time_step': 0.04396657657623291, 'rollout_return': 15.577464788732394, 'evaluation': 6.8} step=75000\n",
      "2022-11-24 04:29.20 [info     ] Model parameters are saved to d3rlpy_logs/DoubleDQN_online_20221124040924/model_76000.pt\n",
      "2022-11-24 04:29.20 [info     ] DoubleDQN_online_20221124040924: epoch=76 step=76000 epoch=76 metrics={'time_inference': 0.0006281564235687256, 'time_environment_step': 0.0012044472694396973, 'time_sample_batch': 0.00015489101409912109, 'time_algorithm_update': 0.039862425327301027, 'loss': 0.8778324854075908, 'time_step': 0.041945696353912355, 'rollout_return': 14.52112676056338, 'evaluation': 17.3} step=76000\n",
      "2022-11-24 04:30.01 [info     ] Model parameters are saved to d3rlpy_logs/DoubleDQN_online_20221124040924/model_77000.pt\n",
      "2022-11-24 04:30.01 [info     ] DoubleDQN_online_20221124040924: epoch=77 step=77000 epoch=77 metrics={'time_inference': 0.0005978748798370361, 'time_environment_step': 0.0010520591735839844, 'time_sample_batch': 0.00011901807785034179, 'time_algorithm_update': 0.03815226650238037, 'loss': 0.840776847705245, 'time_step': 0.04002722239494324, 'rollout_return': 15.809859154929578, 'evaluation': 15.8} step=77000\n",
      "2022-11-24 04:30.44 [info     ] Model parameters are saved to d3rlpy_logs/DoubleDQN_online_20221124040924/model_78000.pt\n",
      "2022-11-24 04:30.44 [info     ] DoubleDQN_online_20221124040924: epoch=78 step=78000 epoch=78 metrics={'time_inference': 0.0006910769939422607, 'time_environment_step': 0.0012371878623962402, 'time_sample_batch': 0.0001343693733215332, 'time_algorithm_update': 0.040516277074813846, 'loss': 0.7848881903290749, 'time_step': 0.042699193239212035, 'rollout_return': 15.485915492957746, 'evaluation': 15.2} step=78000\n",
      "2022-11-24 04:31.27 [info     ] Model parameters are saved to d3rlpy_logs/DoubleDQN_online_20221124040924/model_79000.pt\n",
      "2022-11-24 04:31.27 [info     ] DoubleDQN_online_20221124040924: epoch=79 step=79000 epoch=79 metrics={'time_inference': 0.0006231193542480469, 'time_environment_step': 0.001268678903579712, 'time_sample_batch': 0.00019949269294738768, 'time_algorithm_update': 0.040304054975509644, 'loss': 0.8415636793375015, 'time_step': 0.042489773750305174, 'rollout_return': 14.429577464788732, 'evaluation': 16.7} step=79000\n",
      "2022-11-24 04:32.10 [info     ] Model parameters are saved to d3rlpy_logs/DoubleDQN_online_20221124040924/model_80000.pt\n",
      "2022-11-24 04:32.11 [info     ] DoubleDQN_online_20221124040924: epoch=80 step=80000 epoch=80 metrics={'time_inference': 0.000642059326171875, 'time_environment_step': 0.001160165548324585, 'time_sample_batch': 0.00012039661407470704, 'time_algorithm_update': 0.040691636085510255, 'loss': 0.8057800752967597, 'time_step': 0.04271262526512146, 'rollout_return': 15.640845070422536, 'evaluation': 18.2} step=80000\n",
      "2022-11-24 04:32.53 [info     ] Model parameters are saved to d3rlpy_logs/DoubleDQN_online_20221124040924/model_81000.pt\n",
      "2022-11-24 04:32.53 [info     ] DoubleDQN_online_20221124040924: epoch=81 step=81000 epoch=81 metrics={'time_inference': 0.0006477954387664795, 'time_environment_step': 0.0012846529483795167, 'time_sample_batch': 0.00021316266059875487, 'time_algorithm_update': 0.039291006088256836, 'loss': 0.8143344572782516, 'time_step': 0.041549402713775635, 'rollout_return': 15.267605633802816, 'evaluation': 15.4} step=81000\n",
      "2022-11-24 04:33.35 [info     ] Model parameters are saved to d3rlpy_logs/DoubleDQN_online_20221124040924/model_82000.pt\n",
      "2022-11-24 04:33.35 [info     ] DoubleDQN_online_20221124040924: epoch=82 step=82000 epoch=82 metrics={'time_inference': 0.0005943264961242676, 'time_environment_step': 0.0010654957294464111, 'time_sample_batch': 0.0001795375347137451, 'time_algorithm_update': 0.03937408757209778, 'loss': 0.7959156328886747, 'time_step': 0.04132446670532226, 'rollout_return': 15.5, 'evaluation': 15.3} step=82000\n",
      "2022-11-24 04:34.18 [info     ] Model parameters are saved to d3rlpy_logs/DoubleDQN_online_20221124040924/model_83000.pt\n",
      "2022-11-24 04:34.18 [info     ] DoubleDQN_online_20221124040924: epoch=83 step=83000 epoch=83 metrics={'time_inference': 0.000655750036239624, 'time_environment_step': 0.0011256077289581298, 'time_sample_batch': 0.00015776896476745605, 'time_algorithm_update': 0.040680123567581175, 'loss': 0.8050743266642094, 'time_step': 0.0427173261642456, 'rollout_return': 15.788732394366198, 'evaluation': 17.2} step=83000\n",
      "2022-11-24 04:34.59 [info     ] Model parameters are saved to d3rlpy_logs/DoubleDQN_online_20221124040924/model_84000.pt\n",
      "2022-11-24 04:34.59 [info     ] DoubleDQN_online_20221124040924: epoch=84 step=84000 epoch=84 metrics={'time_inference': 0.0006283857822418213, 'time_environment_step': 0.0012960023880004884, 'time_sample_batch': 0.00012012982368469238, 'time_algorithm_update': 0.03834211039543152, 'loss': 0.8531722706854343, 'time_step': 0.040483897447586056, 'rollout_return': 15.17605633802817, 'evaluation': 18.6} step=84000\n",
      "2022-11-24 04:35.43 [info     ] Model parameters are saved to d3rlpy_logs/DoubleDQN_online_20221124040924/model_85000.pt\n",
      "2022-11-24 04:35.43 [info     ] DoubleDQN_online_20221124040924: epoch=85 step=85000 epoch=85 metrics={'time_inference': 0.0007131779193878173, 'time_environment_step': 0.0011412241458892821, 'time_sample_batch': 0.00015392923355102538, 'time_algorithm_update': 0.04080867004394531, 'loss': 0.7663879335075617, 'time_step': 0.04290993165969849, 'rollout_return': 16.302816901408452, 'evaluation': 14.7} step=85000\n",
      "2022-11-24 04:36.25 [info     ] Model parameters are saved to d3rlpy_logs/DoubleDQN_online_20221124040924/model_86000.pt\n",
      "2022-11-24 04:36.25 [info     ] DoubleDQN_online_20221124040924: epoch=86 step=86000 epoch=86 metrics={'time_inference': 0.0006948018074035645, 'time_environment_step': 0.0011549184322357177, 'time_sample_batch': 0.00021304535865783691, 'time_algorithm_update': 0.03900713062286377, 'loss': 0.8168357208073139, 'time_step': 0.041186851501464845, 'rollout_return': 15.32394366197183, 'evaluation': 17.2} step=86000\n",
      "2022-11-24 04:37.07 [info     ] Model parameters are saved to d3rlpy_logs/DoubleDQN_online_20221124040924/model_87000.pt\n",
      "2022-11-24 04:37.07 [info     ] DoubleDQN_online_20221124040924: epoch=87 step=87000 epoch=87 metrics={'time_inference': 0.0006737909317016601, 'time_environment_step': 0.001284851312637329, 'time_sample_batch': 0.0001424102783203125, 'time_algorithm_update': 0.03946682357788086, 'loss': 0.7794848176538944, 'time_step': 0.04171641683578491, 'rollout_return': 15.267605633802816, 'evaluation': 17.8} step=87000\n",
      "2022-11-24 04:37.48 [info     ] Model parameters are saved to d3rlpy_logs/DoubleDQN_online_20221124040924/model_88000.pt\n",
      "2022-11-24 04:37.48 [info     ] DoubleDQN_online_20221124040924: epoch=88 step=88000 epoch=88 metrics={'time_inference': 0.0006517021656036377, 'time_environment_step': 0.0012488021850585937, 'time_sample_batch': 0.00014632391929626464, 'time_algorithm_update': 0.038097577333450316, 'loss': 0.7958256105184555, 'time_step': 0.04028286051750183, 'rollout_return': 15.338028169014084, 'evaluation': 16.1} step=88000\n",
      "2022-11-24 04:38.32 [info     ] Model parameters are saved to d3rlpy_logs/DoubleDQN_online_20221124040924/model_89000.pt\n",
      "2022-11-24 04:38.32 [info     ] DoubleDQN_online_20221124040924: epoch=89 step=89000 epoch=89 metrics={'time_inference': 0.000689418077468872, 'time_environment_step': 0.0012040357589721679, 'time_sample_batch': 0.00017207074165344238, 'time_algorithm_update': 0.04098837518692017, 'loss': 0.7616622612178325, 'time_step': 0.04322963094711304, 'rollout_return': 15.126760563380282, 'evaluation': 18.1} step=89000\n",
      "2022-11-24 04:39.13 [info     ] Model parameters are saved to d3rlpy_logs/DoubleDQN_online_20221124040924/model_90000.pt\n",
      "2022-11-24 04:39.14 [info     ] DoubleDQN_online_20221124040924: epoch=90 step=90000 epoch=90 metrics={'time_inference': 0.0006015040874481201, 'time_environment_step': 0.0011645333766937256, 'time_sample_batch': 0.0001442110538482666, 'time_algorithm_update': 0.038891403675079345, 'loss': 0.7798601747304201, 'time_step': 0.040917887210845945, 'rollout_return': 15.359154929577464, 'evaluation': 13.5} step=90000\n",
      "2022-11-24 04:39.56 [info     ] Model parameters are saved to d3rlpy_logs/DoubleDQN_online_20221124040924/model_91000.pt\n",
      "2022-11-24 04:39.56 [info     ] DoubleDQN_online_20221124040924: epoch=91 step=91000 epoch=91 metrics={'time_inference': 0.0007364280223846435, 'time_environment_step': 0.0012521493434906007, 'time_sample_batch': 0.00013083696365356445, 'time_algorithm_update': 0.0393699893951416, 'loss': 0.7688740740716458, 'time_step': 0.041585280418395994, 'rollout_return': 15.274647887323944, 'evaluation': 18.8} step=91000\n",
      "2022-11-24 04:40.36 [info     ] Model parameters are saved to d3rlpy_logs/DoubleDQN_online_20221124040924/model_92000.pt\n",
      "2022-11-24 04:40.36 [info     ] DoubleDQN_online_20221124040924: epoch=92 step=92000 epoch=92 metrics={'time_inference': 0.000622464895248413, 'time_environment_step': 0.0011180970668792725, 'time_sample_batch': 0.00012433934211730958, 'time_algorithm_update': 0.03766051244735718, 'loss': 0.7842688998430968, 'time_step': 0.03961843729019165, 'rollout_return': 15.570422535211268, 'evaluation': 13.0} step=92000\n",
      "2022-11-24 04:41.19 [info     ] Model parameters are saved to d3rlpy_logs/DoubleDQN_online_20221124040924/model_93000.pt\n",
      "2022-11-24 04:41.19 [info     ] DoubleDQN_online_20221124040924: epoch=93 step=93000 epoch=93 metrics={'time_inference': 0.0007387802600860595, 'time_environment_step': 0.001181922197341919, 'time_sample_batch': 0.00019318580627441406, 'time_algorithm_update': 0.040146530389785766, 'loss': 0.8091396031528711, 'time_step': 0.04236949872970581, 'rollout_return': 15.711267605633802, 'evaluation': 14.3} step=93000\n",
      "2022-11-24 04:42.02 [info     ] Model parameters are saved to d3rlpy_logs/DoubleDQN_online_20221124040924/model_94000.pt\n",
      "2022-11-24 04:42.02 [info     ] DoubleDQN_online_20221124040924: epoch=94 step=94000 epoch=94 metrics={'time_inference': 0.0005696277618408203, 'time_environment_step': 0.0011864380836486817, 'time_sample_batch': 0.00011997175216674804, 'time_algorithm_update': 0.04054055094718933, 'loss': 0.7887063533514738, 'time_step': 0.04251872396469116, 'rollout_return': 15.21830985915493, 'evaluation': 14.7} step=94000\n",
      "2022-11-24 04:42.44 [info     ] Model parameters are saved to d3rlpy_logs/DoubleDQN_online_20221124040924/model_95000.pt\n",
      "2022-11-24 04:42.44 [info     ] DoubleDQN_online_20221124040924: epoch=95 step=95000 epoch=95 metrics={'time_inference': 0.0006611113548278809, 'time_environment_step': 0.0011344780921936034, 'time_sample_batch': 0.00014786624908447266, 'time_algorithm_update': 0.03946478629112243, 'loss': 0.7790074013471603, 'time_step': 0.041505640029907226, 'rollout_return': 15.352112676056338, 'evaluation': 18.3} step=95000\n",
      "2022-11-24 04:43.26 [info     ] Model parameters are saved to d3rlpy_logs/DoubleDQN_online_20221124040924/model_96000.pt\n",
      "2022-11-24 04:43.26 [info     ] DoubleDQN_online_20221124040924: epoch=96 step=96000 epoch=96 metrics={'time_inference': 0.0005427451133728028, 'time_environment_step': 0.001168504238128662, 'time_sample_batch': 0.0001656625270843506, 'time_algorithm_update': 0.038755412817001345, 'loss': 0.7525748955011368, 'time_step': 0.04076035737991333, 'rollout_return': 15.654929577464788, 'evaluation': 15.5} step=96000\n",
      "2022-11-24 04:44.08 [info     ] Model parameters are saved to d3rlpy_logs/DoubleDQN_online_20221124040924/model_97000.pt\n",
      "2022-11-24 04:44.08 [info     ] DoubleDQN_online_20221124040924: epoch=97 step=97000 epoch=97 metrics={'time_inference': 0.0007694563865661621, 'time_environment_step': 0.001395899772644043, 'time_sample_batch': 0.00011969208717346191, 'time_algorithm_update': 0.03899997663497925, 'loss': 0.7605824783593417, 'time_step': 0.04141897797584534, 'rollout_return': 14.964788732394366, 'evaluation': 15.1} step=97000\n",
      "2022-11-24 04:44.51 [info     ] Model parameters are saved to d3rlpy_logs/DoubleDQN_online_20221124040924/model_98000.pt\n",
      "2022-11-24 04:44.51 [info     ] DoubleDQN_online_20221124040924: epoch=98 step=98000 epoch=98 metrics={'time_inference': 0.0007922670841217041, 'time_environment_step': 0.0012015163898468017, 'time_sample_batch': 0.00012367749214172363, 'time_algorithm_update': 0.040260741710662844, 'loss': 0.7777868694961071, 'time_step': 0.04249968719482422, 'rollout_return': 15.633802816901408, 'evaluation': 16.2} step=98000\n",
      "2022-11-24 04:45.33 [info     ] Model parameters are saved to d3rlpy_logs/DoubleDQN_online_20221124040924/model_99000.pt\n",
      "2022-11-24 04:45.33 [info     ] DoubleDQN_online_20221124040924: epoch=99 step=99000 epoch=99 metrics={'time_inference': 0.0007582721710205078, 'time_environment_step': 0.0011502470970153808, 'time_sample_batch': 0.00025372171401977537, 'time_algorithm_update': 0.03917379450798035, 'loss': 0.7701134917736053, 'time_step': 0.04144530081748962, 'rollout_return': 15.056338028169014, 'evaluation': 16.5} step=99000\n",
      "2022-11-24 04:46.15 [info     ] Model parameters are saved to d3rlpy_logs/DoubleDQN_online_20221124040924/model_100000.pt\n",
      "2022-11-24 04:46.15 [info     ] DoubleDQN_online_20221124040924: epoch=100 step=100000 epoch=100 metrics={'time_inference': 0.0008430292606353759, 'time_environment_step': 0.001175954818725586, 'time_sample_batch': 0.0001964256763458252, 'time_algorithm_update': 0.03859689688682556, 'loss': 0.7726270357966423, 'time_step': 0.040973392009735106, 'rollout_return': 15.69718309859155, 'evaluation': 15.8} step=100000\n"
     ]
    }
   ],
   "source": [
    "# start training\n",
    "# skip if there is a pre-trained model\n",
    "sac.fit_online(\n",
    "    env_,\n",
    "    buffer,\n",
    "    eval_env=env_,\n",
    "    n_steps=100000,\n",
    "    n_steps_per_epoch=1000,\n",
    "    update_start_step=1000,\n",
    ")"
   ]
  },
  {
   "cell_type": "code",
   "execution_count": null,
   "metadata": {},
   "outputs": [],
   "source": [
    "# save model\n",
    "sac.save_model(\"d3rlpy_logs/sac.pt\")"
   ]
  },
  {
   "cell_type": "code",
   "execution_count": 12,
   "metadata": {},
   "outputs": [],
   "source": [
    "# reload model\n",
    "sac.build_with_env(env_)\n",
    "sac.load_model(\"d3rlpy_logs/sac.pt\")"
   ]
  },
  {
   "cell_type": "code",
   "execution_count": 13,
   "metadata": {},
   "outputs": [],
   "source": [
    "behavior_policy = TruncatedGaussianHead(\n",
    "    sac, \n",
    "    minimum=env.action_space.low,\n",
    "    maximum=env.action_space.high,\n",
    "    sigma=np.array([1.0]),\n",
    "    name=\"sac_sigma_1.0\",\n",
    "    random_state=random_state,\n",
    ")"
   ]
  },
  {
   "cell_type": "code",
   "execution_count": 14,
   "metadata": {},
   "outputs": [],
   "source": [
    "# initialize dataset class\n",
    "dataset = SyntheticDataset(\n",
    "    env=env,\n",
    "    behavior_policy=behavior_policy,\n",
    "    state_keys=env.obs_keys,\n",
    "    max_episode_steps=env.step_per_episode,\n",
    "    info_keys={\n",
    "        \"search_volume\": int,\n",
    "        \"impression\": int,\n",
    "        \"click\": int,\n",
    "        \"conversion\": int,\n",
    "        \"average_bid_price\": float,\n",
    "    },\n",
    "    random_state=random_state,\n",
    ")"
   ]
  },
  {
   "cell_type": "code",
   "execution_count": 16,
   "metadata": {},
   "outputs": [
    {
     "data": {
      "application/vnd.jupyter.widget-view+json": {
       "model_id": "4a5bc76275fd438bafb622d89e50fc5d",
       "version_major": 2,
       "version_minor": 0
      },
      "text/plain": [
       "[obtain_trajectories]:   0%|          | 0/10000 [00:00<?, ?it/s]"
      ]
     },
     "metadata": {},
     "output_type": "display_data"
    }
   ],
   "source": [
    "# collect logged data by a behavior policy\n",
    "# skip if there is a preserved logged dataset\n",
    "logged_dataset = dataset.obtain_episodes(n_trajectories=10000, obtain_info=True)"
   ]
  },
  {
   "cell_type": "code",
   "execution_count": 15,
   "metadata": {},
   "outputs": [],
   "source": [
    "with open(\"logs/dataset_continuous.pkl\", \"wb\") as f:\n",
    "    pickle.dump(logged_dataset, f)"
   ]
  },
  {
   "cell_type": "code",
   "execution_count": 15,
   "metadata": {},
   "outputs": [],
   "source": [
    "with open(\"logs/dataset_continuous.pkl\", \"rb\") as f:\n",
    "    logged_dataset = pickle.load(f)"
   ]
  },
  {
   "cell_type": "markdown",
   "metadata": {},
   "source": [
    "#### Offline Policy Learning\n",
    "Here, we learn several \"candidate\" policies to be evaluated and selected using [d3rlpy](https://github.com/takuseno/d3rlpy)'s algorithm implementation.\n",
    "\n",
    "For more about the offline RL procedure, please refer to [examples/quickstart/rtb_synthetic_discrete_basic.ipynb](https://github.com/negocia-inc/rtb_reinforcement_learing/blob/ope/examples/quickstart/rtb_synthetic_discrete_basic.ipynb)."
   ]
  },
  {
   "cell_type": "code",
   "execution_count": 16,
   "metadata": {},
   "outputs": [],
   "source": [
    "# import modules from d3rlpy\n",
    "from d3rlpy.dataset import MDPDataset\n",
    "from d3rlpy.algos import CQL\n",
    "# transform offline dataset for d3rlpy\n",
    "offlinerl_dataset = MDPDataset(\n",
    "    observations=logged_dataset[\"state\"],\n",
    "    actions=logged_dataset[\"action\"],\n",
    "    rewards=logged_dataset[\"reward\"],\n",
    "    terminals=logged_dataset[\"done\"],\n",
    "    episode_terminals=logged_dataset[\"done\"],\n",
    "    discrete_action=True,\n",
    ")\n",
    "train_episodes, test_episodes = train_test_split(offlinerl_dataset, test_size=0.2, random_state=random_state)"
   ]
  },
  {
   "cell_type": "code",
   "execution_count": 17,
   "metadata": {},
   "outputs": [],
   "source": [
    "# Use Conservative Q-Learning policy\n",
    "cql = CQL(\n",
    "    actor_encoder_factory=VectorEncoderFactory(hidden_units=[30, 30]),\n",
    "    critic_encoder_factory=VectorEncoderFactory(hidden_units=[30, 30]),\n",
    "    q_func_factory=MeanQFunctionFactory(),\n",
    "    use_gpu=torch.cuda.is_available(),\n",
    "    action_scaler=MinMaxActionScaler(\n",
    "        minimum=env_.action_space.low,  # minimum value that policy can take\n",
    "        maximum=env_.action_space.high,  # maximum value that policy can take\n",
    "    )\n",
    ")"
   ]
  },
  {
   "cell_type": "code",
   "execution_count": 20,
   "metadata": {},
   "outputs": [
    {
     "name": "stdout",
     "output_type": "stream",
     "text": [
      "2022-11-24 04:49.20 [debug    ] RandomIterator is selected.\n",
      "2022-11-24 04:49.20 [info     ] Directory is created at d3rlpy_logs/DiscreteCQL_20221124044920\n",
      "2022-11-24 04:49.20 [debug    ] Building models...\n",
      "2022-11-24 04:49.20 [debug    ] Models have been built.\n",
      "2022-11-24 04:49.20 [info     ] Parameters are saved to d3rlpy_logs/DiscreteCQL_20221124044920/params.json params={'action_scaler': None, 'alpha': 1.0, 'batch_size': 32, 'encoder_factory': {'type': 'vector', 'params': {'hidden_units': [30, 30], 'activation': 'relu', 'use_batch_norm': False, 'dropout_rate': None, 'use_dense': False}}, 'gamma': 0.99, 'generated_maxlen': 100000, 'learning_rate': 6.25e-05, 'n_critics': 1, 'n_frames': 1, 'n_steps': 1, 'optim_factory': {'optim_cls': 'Adam', 'betas': (0.9, 0.999), 'eps': 1e-08, 'weight_decay': 0, 'amsgrad': False}, 'q_func_factory': {'type': 'mean', 'params': {'share_encoder': False}}, 'real_ratio': 1.0, 'reward_scaler': None, 'scaler': None, 'target_update_interval': 8000, 'use_gpu': None, 'algorithm': 'DiscreteCQL', 'observation_shape': (7,), 'action_size': 10}\n"
     ]
    },
    {
     "data": {
      "application/vnd.jupyter.widget-view+json": {
       "model_id": "7047c17a90ee48b19b91f105e9b67618",
       "version_major": 2,
       "version_minor": 0
      },
      "text/plain": [
       "Epoch 1/1:   0%|          | 0/10000 [00:00<?, ?it/s]"
      ]
     },
     "metadata": {},
     "output_type": "display_data"
    },
    {
     "name": "stdout",
     "output_type": "stream",
     "text": [
      "2022-11-24 04:56.13 [info     ] DiscreteCQL_20221124044920: epoch=1 step=10000 epoch=1 metrics={'time_sample_batch': 0.00039889097213745116, 'time_algorithm_update': 0.04027746403217316, 'loss': 77.3925471253395, 'time_step': 0.04094007489681244} step=10000\n",
      "2022-11-24 04:56.13 [info     ] Model parameters are saved to d3rlpy_logs/DiscreteCQL_20221124044920/model_10000.pt\n"
     ]
    },
    {
     "data": {
      "text/plain": [
       "[(1,\n",
       "  {'time_sample_batch': 0.00039889097213745116,\n",
       "   'time_algorithm_update': 0.04027746403217316,\n",
       "   'loss': 77.3925471253395,\n",
       "   'time_step': 0.04094007489681244})]"
      ]
     },
     "execution_count": 20,
     "metadata": {},
     "output_type": "execute_result"
    }
   ],
   "source": [
    "cql.fit(\n",
    "    train_episodes,\n",
    "    eval_episodes=test_episodes,\n",
    "    n_steps=10000,\n",
    "    scorers={},\n",
    ")"
   ]
  },
  {
   "cell_type": "code",
   "execution_count": 20,
   "metadata": {},
   "outputs": [],
   "source": [
    "# save model\n",
    "cql.save_model(\"d3rlpy_logs/cql_continuous.pt\")"
   ]
  },
  {
   "cell_type": "code",
   "execution_count": 18,
   "metadata": {},
   "outputs": [],
   "source": [
    "# reload model\n",
    "cql.build_with_env(env)\n",
    "cql.load_model(\"d3rlpy_logs/cql_continuous.pt\")"
   ]
  },
  {
   "cell_type": "markdown",
   "metadata": {},
   "source": [
    "## 2. Off-Policy Evaluation\n",
    "In this section, we aim at evaluating the various performance statistics of policies in an offline manner using (basic) model-based and importance sampling-based estimators.\n",
    "\n",
    "#### Estimation Target\n",
    "\n",
    "The goal to estimate the estimators' average policy performance, the *policy value*.\n",
    "\n",
    "$$ V(\\pi) := \\mathbb{E}\\left[\\sum_{t=1}^T \\gamma^{t-1} r_t \\mid \\pi \\right] $$"
   ]
  },
  {
   "cell_type": "code",
   "execution_count": 19,
   "metadata": {},
   "outputs": [],
   "source": [
    "# import ope modules from OFRL\n",
    "from ofrl.ope import CreateOPEInput\n",
    "from ofrl.ope import OffPolicyEvaluation as OPE\n",
    "# basic estimators\n",
    "from ofrl.ope import ContinuousDirectMethod as DM\n",
    "from ofrl.ope import ContinuousTrajectoryWiseImportanceSampling as TIS\n",
    "from ofrl.ope import ContinuousPerDecisionImportanceSampling as PDIS\n",
    "from ofrl.ope import ContinuousDoublyRobust as DR\n",
    "# self normalized estimators\n",
    "from ofrl.ope import ContinuousSelfNormalizedTrajectoryWiseImportanceSampling as SNTIS\n",
    "from ofrl.ope import ContinuousSelfNormalizedPerDecisionImportanceSampling as SNPDIS\n",
    "from ofrl.ope import ContinuousSelfNormalizedDoublyRobust as SNDR\n",
    "# marginal estimators\n",
    "from ofrl.ope import ContinuousStateActionMarginalImportanceSampling as SAMIS\n",
    "from ofrl.ope import ContinuousStateActionMarginalDoublyRobust as SAMDR\n",
    "from ofrl.ope import ContinuousStateMarginalImportanceSampling as SMIS\n",
    "from ofrl.ope import ContinuousStateMarginalDoublyRobust as SMDR\n",
    "from ofrl.ope import ContinuousStateActionMarginalSelfNormalizedImportanceSampling as SAMSNIS\n",
    "from ofrl.ope import ContinuousStateActionMarginalSelfNormalizedDoublyRobust as SAMSNDR\n",
    "from ofrl.ope import ContinuousStateMarginalSelfNormalizedImportanceSampling as SMSNIS\n",
    "from ofrl.ope import ContinuousStateMarginalSelfNormalizedDoublyRobust as SMSNDR\n",
    "# double reinforcement learning estimators\n",
    "from ofrl.ope import ContinuousDoubleReinforcementLearning as DRL"
   ]
  },
  {
   "cell_type": "code",
   "execution_count": 20,
   "metadata": {},
   "outputs": [],
   "source": [
    "# define evaluation policies (should be deterministic policy)\n",
    "cql_ = ContinuousEvalHead(\n",
    "    base_policy=cql,\n",
    "    name=\"cql\",\n",
    ")\n",
    "sac_ = ContinuousEvalHead(\n",
    "    base_policy=sac, \n",
    "    name=\"sac\", \n",
    ")\n",
    "evaluation_policies = [cql_, sac_]"
   ]
  },
  {
   "cell_type": "code",
   "execution_count": 39,
   "metadata": {},
   "outputs": [],
   "source": [
    "# first, prepare OPE inputs\n",
    "prep = CreateOPEInput(\n",
    "    env=env,\n",
    "    logged_dataset=logged_dataset,\n",
    "    model_args={\n",
    "        \"fqe\": {\n",
    "            \"encoder_factory\": VectorEncoderFactory(hidden_units=[30, 30]),\n",
    "            \"q_func_factory\": MeanQFunctionFactory(),\n",
    "            \"learning_rate\": 1e-4,\n",
    "            \"use_gpu\": torch.cuda.is_available(),\n",
    "        },\n",
    "    },\n",
    "    state_scaler=MinMaxScaler(\n",
    "        minimum=logged_dataset[\"state\"].min(axis=0),\n",
    "        maximum=logged_dataset[\"state\"].max(axis=0),\n",
    "    ),\n",
    "    action_scaler=MinMaxActionScaler(\n",
    "        minimum=env.action_space.low,  # minimum value that policy can take\n",
    "        maximum=env.action_space.high,  # maximum value that policy can take\n",
    "    ),\n",
    "    gamma=0.95,\n",
    "    sigma=0.1,\n",
    "    device=\"cuda:0\" if torch.cuda.is_available() else \"cpu\",\n",
    ")"
   ]
  },
  {
   "cell_type": "code",
   "execution_count": 40,
   "metadata": {},
   "outputs": [
    {
     "data": {
      "application/vnd.jupyter.widget-view+json": {
       "model_id": "2e0487c5582e4ee3b6abaacaa6610119",
       "version_major": 2,
       "version_minor": 0
      },
      "text/plain": [
       "[fit FQE model]:   0%|          | 0/2 [00:00<?, ?it/s]"
      ]
     },
     "metadata": {},
     "output_type": "display_data"
    },
    {
     "name": "stdout",
     "output_type": "stream",
     "text": [
      "2022-12-03 12:03.01 [debug    ] RoundIterator is selected.\n",
      "2022-12-03 12:03.01 [info     ] Directory is created at d3rlpy_logs/FQE_20221203120301\n",
      "2022-12-03 12:03.01 [debug    ] Fitting scaler...              scaler=min_max\n",
      "2022-12-03 12:03.01 [debug    ] Fitting action scaler...       action_scaler=min_max\n",
      "2022-12-03 12:03.01 [debug    ] Building models...\n",
      "2022-12-03 12:03.01 [debug    ] Models have been built.\n",
      "2022-12-03 12:03.01 [info     ] Parameters are saved to d3rlpy_logs/FQE_20221203120301/params.json params={'action_scaler': {'type': 'min_max', 'params': {'minimum': array([0.1]), 'maximum': array([10.])}}, 'batch_size': 100, 'encoder_factory': {'type': 'vector', 'params': {'hidden_units': [30, 30], 'activation': 'relu', 'use_batch_norm': False, 'dropout_rate': None, 'use_dense': False}}, 'gamma': 0.95, 'generated_maxlen': 100000, 'learning_rate': 0.0001, 'n_critics': 1, 'n_frames': 1, 'n_steps': 1, 'optim_factory': {'optim_cls': 'Adam', 'betas': (0.9, 0.999), 'eps': 1e-08, 'weight_decay': 0, 'amsgrad': False}, 'q_func_factory': {'type': 'mean', 'params': {'share_encoder': False}}, 'real_ratio': 1.0, 'reward_scaler': None, 'scaler': {'type': 'min_max', 'params': {'maximum': array([6.00000000e+00, 3.00000000e+03, 9.99993399e-01, 7.50000000e+04,\n",
      "       1.00000000e+00, 2.00000000e+01, 1.01749215e+01]), 'minimum': array([0.00000000e+00, 1.00000000e+00, 0.00000000e+00, 0.00000000e+00,\n",
      "       0.00000000e+00, 0.00000000e+00, 3.73607909e-05])}}, 'target_update_interval': 100, 'use_gpu': None, 'algorithm': 'FQE', 'observation_shape': (7,), 'action_size': 1}\n"
     ]
    },
    {
     "data": {
      "application/vnd.jupyter.widget-view+json": {
       "model_id": "aec96d8492b34903943c937ee4ec88c5",
       "version_major": 2,
       "version_minor": 0
      },
      "text/plain": [
       "Epoch 1/1:   0%|          | 0/700 [00:00<?, ?it/s]"
      ]
     },
     "metadata": {},
     "output_type": "display_data"
    },
    {
     "name": "stdout",
     "output_type": "stream",
     "text": [
      "2022-12-03 12:03.07 [info     ] FQE_20221203120301: epoch=1 step=700 epoch=1 metrics={'time_sample_batch': 0.0002655632155282157, 'time_algorithm_update': 0.007570972102028983, 'loss': 20.96256237915584, 'time_step': 0.007990869113377163} step=700\n",
      "2022-12-03 12:03.07 [info     ] Model parameters are saved to d3rlpy_logs/FQE_20221203120301/model_700.pt\n",
      "2022-12-03 12:03.07 [debug    ] RoundIterator is selected.\n",
      "2022-12-03 12:03.07 [info     ] Directory is created at d3rlpy_logs/FQE_20221203120307\n",
      "2022-12-03 12:03.07 [debug    ] Fitting scaler...              scaler=min_max\n",
      "2022-12-03 12:03.07 [debug    ] Fitting action scaler...       action_scaler=min_max\n",
      "2022-12-03 12:03.07 [debug    ] Building models...\n",
      "2022-12-03 12:03.07 [debug    ] Models have been built.\n",
      "2022-12-03 12:03.07 [info     ] Parameters are saved to d3rlpy_logs/FQE_20221203120307/params.json params={'action_scaler': {'type': 'min_max', 'params': {'minimum': array([0.1]), 'maximum': array([10.])}}, 'batch_size': 100, 'encoder_factory': {'type': 'vector', 'params': {'hidden_units': [30, 30], 'activation': 'relu', 'use_batch_norm': False, 'dropout_rate': None, 'use_dense': False}}, 'gamma': 0.95, 'generated_maxlen': 100000, 'learning_rate': 0.0001, 'n_critics': 1, 'n_frames': 1, 'n_steps': 1, 'optim_factory': {'optim_cls': 'Adam', 'betas': (0.9, 0.999), 'eps': 1e-08, 'weight_decay': 0, 'amsgrad': False}, 'q_func_factory': {'type': 'mean', 'params': {'share_encoder': False}}, 'real_ratio': 1.0, 'reward_scaler': None, 'scaler': {'type': 'min_max', 'params': {'maximum': array([6.00000000e+00, 3.00000000e+03, 9.99993399e-01, 7.50000000e+04,\n",
      "       1.00000000e+00, 2.00000000e+01, 1.01749215e+01]), 'minimum': array([0.00000000e+00, 1.00000000e+00, 0.00000000e+00, 0.00000000e+00,\n",
      "       0.00000000e+00, 0.00000000e+00, 3.73607909e-05])}}, 'target_update_interval': 100, 'use_gpu': None, 'algorithm': 'FQE', 'observation_shape': (7,), 'action_size': 1}\n"
     ]
    },
    {
     "data": {
      "application/vnd.jupyter.widget-view+json": {
       "model_id": "074e4588be38467ab5940bc20306361e",
       "version_major": 2,
       "version_minor": 0
      },
      "text/plain": [
       "Epoch 1/1:   0%|          | 0/700 [00:00<?, ?it/s]"
      ]
     },
     "metadata": {},
     "output_type": "display_data"
    },
    {
     "name": "stdout",
     "output_type": "stream",
     "text": [
      "2022-12-03 12:03.14 [info     ] FQE_20221203120307: epoch=1 step=700 epoch=1 metrics={'time_sample_batch': 0.0003174809047154018, 'time_algorithm_update': 0.009675643444061278, 'loss': 14.47379571233477, 'time_step': 0.010102202551705497} step=700\n",
      "2022-12-03 12:03.14 [info     ] Model parameters are saved to d3rlpy_logs/FQE_20221203120307/model_700.pt\n"
     ]
    },
    {
     "data": {
      "application/vnd.jupyter.widget-view+json": {
       "model_id": "c8e9b0d05c4842369bdda7a8fae18ce0",
       "version_major": 2,
       "version_minor": 0
      },
      "text/plain": [
       "[fit MWL model]:   0%|          | 0/2 [00:00<?, ?it/s]"
      ]
     },
     "metadata": {},
     "output_type": "display_data"
    },
    {
     "data": {
      "application/vnd.jupyter.widget-view+json": {
       "model_id": "74ff0e1bd6b14ee295b5a2c3bfbdd7dc",
       "version_major": 2,
       "version_minor": 0
      },
      "text/plain": [
       "[fitting_weight_function]:   0%|          | 0/100 [00:00<?, ?it/s]"
      ]
     },
     "metadata": {},
     "output_type": "display_data"
    },
    {
     "data": {
      "application/vnd.jupyter.widget-view+json": {
       "model_id": "3f03879c6b164209a533f33df8f5b00c",
       "version_major": 2,
       "version_minor": 0
      },
      "text/plain": [
       "[fitting_weight_function]:   0%|          | 0/100 [00:00<?, ?it/s]"
      ]
     },
     "metadata": {},
     "output_type": "display_data"
    },
    {
     "data": {
      "application/vnd.jupyter.widget-view+json": {
       "model_id": "a25a5a7a521043fd9ce7c49e5046d9e3",
       "version_major": 2,
       "version_minor": 0
      },
      "text/plain": [
       "[fitting_weight_function]:   0%|          | 0/100 [00:00<?, ?it/s]"
      ]
     },
     "metadata": {},
     "output_type": "display_data"
    },
    {
     "data": {
      "application/vnd.jupyter.widget-view+json": {
       "model_id": "e60679e56bd540528e44836ea1579ebb",
       "version_major": 2,
       "version_minor": 0
      },
      "text/plain": [
       "[fitting_weight_function]:   0%|          | 0/100 [00:00<?, ?it/s]"
      ]
     },
     "metadata": {},
     "output_type": "display_data"
    },
    {
     "data": {
      "application/vnd.jupyter.widget-view+json": {
       "model_id": "de9dd71f826e4602ba08d0ea997bd0a5",
       "version_major": 2,
       "version_minor": 0
      },
      "text/plain": [
       "[collect input data]:   0%|          | 0/2 [00:00<?, ?it/s]"
      ]
     },
     "metadata": {},
     "output_type": "display_data"
    },
    {
     "data": {
      "application/vnd.jupyter.widget-view+json": {
       "model_id": "79a9a6dd4eb043f3aded665e61cf0d2a",
       "version_major": 2,
       "version_minor": 0
      },
      "text/plain": [
       "[calculate on-policy policy value]:   0%|          | 0/100 [00:00<?, ?it/s]"
      ]
     },
     "metadata": {},
     "output_type": "display_data"
    },
    {
     "data": {
      "application/vnd.jupyter.widget-view+json": {
       "model_id": "7db64c2bfe4f487b92b266eb93379650",
       "version_major": 2,
       "version_minor": 0
      },
      "text/plain": [
       "[calculate on-policy policy value]:   0%|          | 0/100 [00:00<?, ?it/s]"
      ]
     },
     "metadata": {},
     "output_type": "display_data"
    }
   ],
   "source": [
    "# takes time\n",
    "input_dict = prep.obtain_whole_inputs(\n",
    "    evaluation_policies=evaluation_policies,\n",
    "    require_value_prediction=True,\n",
    "    require_weight_prediction=True,\n",
    "    n_trajectories_on_policy_evaluation=100,\n",
    "    random_state=random_state,\n",
    ")"
   ]
  },
  {
   "cell_type": "code",
   "execution_count": 41,
   "metadata": {},
   "outputs": [],
   "source": [
    "with open(\"logs/ope_input_dict_continuous_zoo.pkl\", \"wb\") as f:\n",
    "    pickle.dump(input_dict, f)"
   ]
  },
  {
   "cell_type": "code",
   "execution_count": 42,
   "metadata": {},
   "outputs": [],
   "source": [
    "with open(\"logs/ope_input_dict_continuous_zoo.pkl\", \"rb\") as f:\n",
    "    input_dict = pickle.load(f)"
   ]
  },
  {
   "cell_type": "code",
   "execution_count": 43,
   "metadata": {},
   "outputs": [],
   "source": [
    "basic_estimators = [DM(), TIS(), PDIS(), DR(), SNTIS(), SNPDIS(), SNDR()]\n",
    "state_marginal_estimators = [SMIS(), SMDR(), SMSNIS(), SMSNDR()]\n",
    "state_action_marginal_estimators = [SAMIS(), SAMDR(), SAMSNIS(), SAMSNDR()]\n",
    "drl_estimators = [DRL()]\n",
    "all_estimators = basic_estimators + state_marginal_estimators + state_action_marginal_estimators + drl_estimators"
   ]
  },
  {
   "cell_type": "code",
   "execution_count": 44,
   "metadata": {},
   "outputs": [],
   "source": [
    "basic_estimators_name = [\"dm\", \"tis\", \"pdis\", \"dr\", \"sntis\", \"snpdis\", \"sndr\"]\n",
    "state_marginal_estimators_name = [\"sm_is\", \"sm_dr\", \"sm_snis\", \"sm_sndr\"]\n",
    "state_action_marginal_estimators_name = [\"sam_is\", \"sam_dr\", \"sam_snis\", \"sam_sndr\"]\n",
    "drl_estimators_name = [\"drl\"]"
   ]
  },
  {
   "cell_type": "code",
   "execution_count": 55,
   "metadata": {},
   "outputs": [],
   "source": [
    "ope = OPE(\n",
    "    logged_dataset=logged_dataset,\n",
    "    ope_estimators=all_estimators,\n",
    "    action_scaler=MinMaxActionScaler(\n",
    "        minimum=env.action_space.low,  # minimum value that policy can take\n",
    "        maximum=env.action_space.high,  # maximum value that policy can take\n",
    "    ),\n",
    "    sigma=0.1,\n",
    ")"
   ]
  },
  {
   "cell_type": "code",
   "execution_count": 56,
   "metadata": {},
   "outputs": [
    {
     "data": {
      "text/plain": [
       "{'cql':            policy_value  relative_policy_value\n",
       " on_policy  1.325953e+01           1.000000e+00\n",
       " dm         3.554066e+00           2.680387e-01\n",
       " tis        1.668373e-16           1.258245e-17\n",
       " pdis       6.689895e+00           5.045350e-01\n",
       " dr         9.249207e+00           6.975519e-01\n",
       " sntis      1.668373e-06           1.258244e-07\n",
       " snpdis     1.684044e+01           1.270064e+00\n",
       " sndr       1.959835e+01           1.478058e+00\n",
       " sm_is      0.000000e+00           0.000000e+00\n",
       " sm_dr      3.554066e+00           2.680387e-01\n",
       " sm_snis    0.000000e+00           0.000000e+00\n",
       " sm_sndr    3.554066e+00           2.680387e-01\n",
       " sam_is     6.879445e-04           5.188304e-05\n",
       " sam_dr     3.554525e+00           2.680733e-01\n",
       " sam_snis   3.354592e+00           2.529949e-01\n",
       " sam_sndr   6.145876e+00           4.635064e-01\n",
       " drl        3.546632e+00           2.674780e-01,\n",
       " 'sac':            policy_value  relative_policy_value\n",
       " on_policy     13.849778               1.000000\n",
       " dm             4.751534               0.343077\n",
       " tis           20.649184               1.490940\n",
       " pdis          10.459749               0.755229\n",
       " dr             9.816244               0.708765\n",
       " sntis         14.927068               1.077784\n",
       " snpdis        13.872294               1.001626\n",
       " sndr          13.783901               0.995243\n",
       " sm_is          0.000000               0.000000\n",
       " sm_dr          4.751534               0.343077\n",
       " sm_snis        0.000000               0.000000\n",
       " sm_sndr        4.751534               0.343077\n",
       " sam_is         0.000470               0.000034\n",
       " sam_dr         4.751928               0.343105\n",
       " sam_snis       2.804044               0.202461\n",
       " sam_sndr       6.896601               0.497958\n",
       " drl            4.753474               0.343217}"
      ]
     },
     "execution_count": 56,
     "metadata": {},
     "output_type": "execute_result"
    }
   ],
   "source": [
    "# policy value estimation by ope\n",
    "policy_value_df_dict, policy_value_interval_df_dict = ope.summarize_off_policy_estimates(\n",
    "    input_dict, \n",
    "    random_state=random_state,\n",
    ")\n",
    "# dictionary of the estimation\n",
    "policy_value_df_dict"
   ]
  },
  {
   "cell_type": "code",
   "execution_count": 57,
   "metadata": {},
   "outputs": [
    {
     "data": {
      "image/png": "[encoded data removed]",
      "text/plain": [
       "<Figure size 1008x576 with 2 Axes>"
      ]
     },
     "metadata": {},
     "output_type": "display_data"
    }
   ],
   "source": [
    "# visualize and compare the result\n",
    "ope.visualize_off_policy_estimates(\n",
    "    input_dict, \n",
    "    compared_estimators=basic_estimators_name,\n",
    "    random_state=random_state, \n",
    "    sharey=False,\n",
    ")\n",
    "# relative policy value to the behavior policy\n",
    "# ope.visualize_off_policy_estimates(input_dict, random_state=random_state, is_relative=True, sharey=False)"
   ]
  },
  {
   "cell_type": "code",
   "execution_count": 58,
   "metadata": {},
   "outputs": [
    {
     "data": {
      "image/png": "[encoded data removed]",
      "text/plain": [
       "<Figure size 576x576 with 2 Axes>"
      ]
     },
     "metadata": {},
     "output_type": "display_data"
    }
   ],
   "source": [
    "# visualize and compare the result\n",
    "ope.visualize_off_policy_estimates(\n",
    "    input_dict, \n",
    "    compared_estimators=state_marginal_estimators_name,\n",
    "    random_state=random_state, \n",
    "    sharey=False,\n",
    ")"
   ]
  },
  {
   "cell_type": "code",
   "execution_count": 59,
   "metadata": {},
   "outputs": [
    {
     "data": {
      "image/png": "[encoded data removed]",
      "text/plain": [
       "<Figure size 576x576 with 2 Axes>"
      ]
     },
     "metadata": {},
     "output_type": "display_data"
    }
   ],
   "source": [
    "# visualize and compare the result\n",
    "ope.visualize_off_policy_estimates(\n",
    "    input_dict, \n",
    "    compared_estimators=state_action_marginal_estimators_name,\n",
    "    random_state=random_state, \n",
    "    sharey=False,\n",
    ")"
   ]
  },
  {
   "cell_type": "code",
   "execution_count": 60,
   "metadata": {},
   "outputs": [
    {
     "data": {
      "image/png": "[encoded data removed]",
      "text/plain": [
       "<Figure size 864x576 with 2 Axes>"
      ]
     },
     "metadata": {},
     "output_type": "display_data"
    }
   ],
   "source": [
    "# visualize and compare the result\n",
    "ope.visualize_off_policy_estimates(\n",
    "    input_dict, \n",
    "    compared_estimators=[\"dm\", \"sm_is\", \"sm_dr\", \"sam_is\", \"sam_dr\", \"drl\"],\n",
    "    random_state=random_state, \n",
    "    sharey=False,\n",
    ")"
   ]
  },
  {
   "cell_type": "code",
   "execution_count": 61,
   "metadata": {},
   "outputs": [
    {
     "data": {
      "image/png": "[encoded data removed]",
      "text/plain": [
       "<Figure size 1008x576 with 2 Axes>"
      ]
     },
     "metadata": {},
     "output_type": "display_data"
    }
   ],
   "source": [
    "ope.visualize_off_policy_estimates(\n",
    "    input_dict, \n",
    "    compared_estimators=[\"dm\", \"snpdis\", \"sndr\", \"sm_snis\", \"sm_sndr\", \"sam_snis\", \"sam_sndr\"],\n",
    "    random_state=random_state, \n",
    "    sharey=False,\n",
    ")"
   ]
  },
  {
   "cell_type": "markdown",
   "metadata": {},
   "source": [
    "For more advanced topics in OPE (e.g., cumulative distribution function estimation) and OPS, please refer to [examples/quickstart/rtb_synthetic_continuous_advanced.ipynb](https://github.com/negocia-inc/rtb_reinforcement_learing/blob/ope/examples/quickstart/rtb_synthetic_continuous_advanced.ipynb). \n",
    "\n",
    "For the examples in the discrete action space, please refer to [examples/quickstart/rtb_synthetic_discrete_zoo.ipynb](https://github.com/negocia-inc/rtb_reinforcement_learing/blob/ope/examples/quickstart/rtb_synthetic_discrete_zoo.ipynb)."
   ]
  },
  {
   "cell_type": "markdown",
   "metadata": {},
   "source": [
    "## Reference\n",
    "\n",
    "- Haanvid Lee, Jongmin Lee, Yunseon Choi, Wonseok Jeon, Byung-Jun Lee, Yung-Kyun Noh, and Kee-Eung Kim. \\\n",
    "\"Local Metric Learning for Off-Policy Evaluation in Contextual Bandits with Continuous Actions.\", 2022.\n",
    "\n",
    "- Yuta Saito, Shunsuke Aihara, Megumi Matsutani, and Yusuke Narita. \\\n",
    "\"Open Bandit Dataset and Pipeline: Towards Realistic and Reproducible Off-Policy Evaluation.\", 2021.\n",
    "\n",
    "- Takuma Seno and Michita Imai. \\\n",
    "\"d3rlpy: An Offline Deep Reinforcement Library.\", 2021.\n",
    "\n",
    "- Christina J. Yuan, Yash Chandak, Stephen Giguere, Philip S. Thomas, and Scott Niekum. \\\n",
    "\"SOPE: Spectrum of Off-Policy Estimators.\", 2021.\n",
    "\n",
    "- Nathan Kallus and Masatoshi Uehara. \\\n",
    "\"Double Reinforcement Learning for Efficient Off-Policy Evaluation in Markov Decision Processes.\", 2020.\n",
    "\n",
    "- Masatoshi Uehara, Jiawei Huang, and Nan Jiang. \\\n",
    "\"Minimax Weight and Q-Function Learning for Off-Policy Evaluation.\", 2020.\n",
    "\n",
    "- Mengjiao Yang, Ofir Nachum, Bo Dai, Lihong Li, and Dale Schuurmans. \\\n",
    "\"Off-Policy Evaluation via the Regularized Lagrangian.\", 2020.\n",
    "\n",
    "- Sergey Levine, Aviral Kumar, George Tucker, and Justin Fu. \\\n",
    "\"Offline Reinforcement Learning: Tutorial, Review, and Perspectives on Open Problems.\" 2020.\n",
    "\n",
    "- Aviral Kumar, Aurick Zhou, George Tucker, and Sergey Levine. \\\n",
    "\"Conservative Q-Learning for Offline Reinforcement Learning.\", 2020.\n",
    "\n",
    "- Nathan Kallus and Angela Zhou. \\\n",
    "\"Policy Evaluation and Optimization with Continuous Treatments.\", 2019.\n",
    "\n",
    "- Nathan Kallus and Masatoshi Uehara. \\\n",
    "\"Intrinsically Efficient, Stable, and Bounded Off-Policy Evaluation for Reinforcement Learning.\", 2019.\n",
    "\n",
    "- Hoang Le, Cameron Voloshin, and Yisong Yue. \\\n",
    "\"Batch Policy Learning under Constraints.\", 2019.\n",
    "\n",
    "- Qiang Liu, Lihong Li, Ziyang Tang, and Dengyong Zhou. \\\n",
    "\"Breaking the Curse of Horizon: Infinite-Horizon Off-Policy Estimation.\", 2018\n",
    "\n",
    "- Di Wu, Xiujun Chen, Xun Yang, Hao Wang, Qing Tan, Xiaoxun Zhang, Jian Xu, and Kun Gai. \\\n",
    "\"Budget Constrained Bidding by Model-free Reinforcement Learning in Display Advertising.\", 2018.\n",
    "\n",
    "- Jun Zhao, Guang Qiu, Ziyu Guan, Wei Zhao, and Xiaofei He. \\\n",
    "\"Deep Reinforcement Learning for Sponsored Search Real-time Bidding.\", 2018.\n",
    "\n",
    "- Josiah P. Hanna, Peter Stone, and Scott Niekum. \\\n",
    "\"Bootstrapping with Models: Confidence Intervals for Off-Policy Evaluation.\", 2017.\n",
    "\n",
    "- Nan Jiang and Lihong Li. \\\n",
    "\"Doubly Robust Off-policy Value Evaluation for Reinforcement Learning.\", 2016.\n",
    "\n",
    "- Philip S. Thomas and Emma Brunskill. \\\n",
    "\"Data-Efficient Off-Policy Policy Evaluation for Reinforcement Learning.\", 2016.\n",
    "\n",
    "- Greg Brockman, Vicki Cheung, Ludwig Pettersson, Jonas Schneider, John Schulman, Jie Tang, and Wojciech Zaremba. \\\n",
    "\"OpenAI Gym.\", 2016.\n",
    "\n",
    "- Philip S. Thomas, Georgios Theocharous, and Mohammad Ghavamzadeh. \\\n",
    "\"High Confidence Policy Improvement.\", 2015.\n",
    "\n",
    "- Philip S. Thomas, Georgios Theocharous, and Mohammad Ghavamzadeh. \\\n",
    "\"High Confidence Off-Policy Evaluation.\", 2015.\n",
    "\n",
    "- Adith Swaminathan and Thorsten Joachims. \\\n",
    "\"The Self-Normalized Estimator for Counterfactual Learning.\", 2015.\n",
    "\n",
    "- Hado van Hasselt, Arthur Guez, and David Silver. \\\n",
    "\"Deep Reinforcement Learning with Double Q-learning.\", 2015.\n",
    "\n",
    "- Miroslav Dudík, Dumitru Erhan, John Langford, and Lihong Li. \\\n",
    "\"Doubly Robust Policy Evaluation and Optimization.\", 2014.\n",
    "\n",
    "- Alex Strehl, John Langford, Sham Kakade, and Lihong Li. \\\n",
    "\"Learning from Logged Implicit Exploration Data.\", 2010.\n",
    "\n",
    "- Alina Beygelzimer and John Langford. \\\n",
    "\"The Offset Tree for Learning with Partial Labels.\", 2009.\n",
    "\n",
    "- Doina Precup, Richard S. Sutton, and Satinder P. Singh. \\\n",
    "\"Eligibility Traces for Off-Policy Policy Evaluation.\", 2000."
   ]
  },
  {
   "cell_type": "code",
   "execution_count": null,
   "metadata": {},
   "outputs": [],
   "source": []
  }
 ],
 "metadata": {
  "kernelspec": {
   "display_name": "Python 3",
   "language": "python",
   "name": "python3"
  },
  "language_info": {
   "codemirror_mode": {
    "name": "ipython",
    "version": 3
   },
   "file_extension": ".py",
   "mimetype": "text/x-python",
   "name": "python",
   "nbconvert_exporter": "python",
   "pygments_lexer": "ipython3",
   "version": "3.8.5"
  },
  "vscode": {
   "interpreter": {
    "hash": "eeb0e296031d5f4c93e05211083c58e9e78a3e8af86402f626ea4098c0a5e991"
   }
  }
 },
 "nbformat": 4,
 "nbformat_minor": 4
}
