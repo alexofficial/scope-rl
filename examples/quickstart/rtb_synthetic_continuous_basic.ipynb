{
 "cells": [
  {
   "cell_type": "markdown",
   "metadata": {},
   "source": [
    "# Quickstart Example with Synthetic RTB Simulation and Dataset (Continuous)\n",
    "This notebook provides an example of conducting **Off-policy Evaluation (OPE) and Offline Reinforcement Learning (Offline RL) on a synthetic Real-Time Bidding (RTB) dataset**.\n",
    "\n",
    "Our example with Synthetic RTB Simulation and Dataset consists of the following 5 steps:\n",
    "0. (Setup Synthetic RTB Simulation Environment and Online RL)\n",
    "1. Synthetic Data Generation\n",
    "2. Offline Reinforcement Learning\n",
    "3. Off-Policy Evaluation and Evaluation of Offline RL methods\n",
    "4. Evaluation of OPE methods\n",
    "\n",
    "We also show how to visualize the results in the Appendix.\n",
    "\n",
    "\\* This library uses [d3rlpy](https://github.com/takuseno/d3rlpy)'s algorithm implementations of online/offline rl policies and model-based evaluation.  \n",
    "\\* Also, our OPE implementations are highly inspired by [Open Bandit Pipeline](https://github.com/st-tech/zr-obp)."
   ]
  },
  {
   "cell_type": "code",
   "execution_count": 1,
   "metadata": {},
   "outputs": [],
   "source": [
    "# delete later\n",
    "%load_ext autoreload\n",
    "%autoreload 2"
   ]
  },
  {
   "cell_type": "code",
   "execution_count": 2,
   "metadata": {},
   "outputs": [],
   "source": [
    "# delete later\n",
    "import warnings\n",
    "warnings.simplefilter('ignore')"
   ]
  },
  {
   "cell_type": "code",
   "execution_count": 3,
   "metadata": {},
   "outputs": [],
   "source": [
    "# delete later\n",
    "import sys\n",
    "sys.path.append('../')\n",
    "sys.path.append('../../')"
   ]
  },
  {
   "cell_type": "code",
   "execution_count": 4,
   "metadata": {},
   "outputs": [],
   "source": [
    "# import OFRL modules\n",
    "import ofrl\n",
    "from rtbgym import RTBEnv, CustomizedRTBEnv\n",
    "from ofrl.dataset import SyntheticDataset\n",
    "from ofrl.policy import OnlineHead, ContinuousTruncatedGaussianHead\n",
    "from ofrl.ope.online import (\n",
    "    calc_on_policy_policy_value,\n",
    "    visualize_on_policy_policy_value,\n",
    ")\n",
    "\n",
    "# import d3rlpy algorithms\n",
    "from d3rlpy.algos import DiscreteRandomPolicy\n",
    "from d3rlpy.algos import RandomPolicy as ContinuousRandomPolicy\n",
    "from d3rlpy.preprocessing import MinMaxActionScaler\n",
    "\n",
    "# import from other libraries\n",
    "import gym\n",
    "import torch\n",
    "from sklearn.model_selection import train_test_split"
   ]
  },
  {
   "cell_type": "code",
   "execution_count": 5,
   "metadata": {},
   "outputs": [],
   "source": [
    "import pickle\n",
    "from glob import glob\n",
    "from tqdm import tqdm\n",
    "\n",
    "import numpy as np\n",
    "import pandas as pd\n",
    "\n",
    "import matplotlib.pyplot as plt\n",
    "import seaborn as sns\n",
    "\n",
    "%matplotlib inline"
   ]
  },
  {
   "cell_type": "code",
   "execution_count": 6,
   "metadata": {},
   "outputs": [
    {
     "name": "stdout",
     "output_type": "stream",
     "text": [
      "0.0.0\n"
     ]
    }
   ],
   "source": [
    "# version\n",
    "print(ofrl.__version__)"
   ]
  },
  {
   "cell_type": "code",
   "execution_count": 7,
   "metadata": {},
   "outputs": [],
   "source": [
    "# set random state\n",
    "random_state = 12345"
   ]
  },
  {
   "cell_type": "code",
   "execution_count": 8,
   "metadata": {},
   "outputs": [],
   "source": [
    "# log directory\n",
    "from pathlib import Path\n",
    "Path(\"logs/\").mkdir(exist_ok=True)"
   ]
  },
  {
   "cell_type": "markdown",
   "metadata": {},
   "source": [
    "## 0. (Setup Synthetic RTB Simulation Environment and Online RL)\n",
    "To begin with, we briefly describe how the RTB environment works.\n",
    "\n",
    "#### RL setup for RTB\n",
    "In RTB, the objective of the RL agent is to maximize some KPIs (such as number of clicks or conversions) within an episode under given budget constraints. We often try to achieve this by adjusting bidding price function parameter $\\alpha$. By using $\\alpha$, we can adjust the bid price as follows.  \n",
    "$bid_{t,i} = \\alpha \\cdot r^{\\ast}$, \n",
    "where $r^{\\ast}$ denotes a predicted or expected reward (KPIs).\n",
    "\n",
    "We often formulate this RTB problem as the following Constrained Markov Decision Process (CMDP):\n",
    "- `timestep`: One episode (a day or a week) consists of several timesteps (24 hours or seven days, for instance).\n",
    "- `state`: We observe some feedback from the environment at each timestep, which includes the followings.\n",
    "  - timestep\n",
    "  - remaining budget\n",
    "  - impression level features (budget consumption rate, cost per mille of impressions, auction winning rate, reward) at the previous timestep\n",
    "  - adjust rate (RL agent's decision making) at the previous timestep\n",
    "- `action`: Agent chooses adjust rate parameter $\\alpha$ to maximize KPIs.\n",
    "- `reward`: Total number of clicks or conversions obtained during the timestep.\n",
    "- `constraints`: The pre-determined episodic budget should not be exceeded.\n",
    "\n",
    "For more about the environmental configurations, please refer to [examples/quickstart/rtb_synthetic_customize_env.ipynb](https://github.com/negocia-inc/rtb_reinforcement_learing/blob/ope/examples/quickstart/rtb_synthetic_customize_env.ipynb).\n",
    "\n",
    "Then, Let's see how it works!"
   ]
  },
  {
   "cell_type": "code",
   "execution_count": 9,
   "metadata": {},
   "outputs": [],
   "source": [
    "# setup environment\n",
    "env = RTBEnv(random_state=random_state)"
   ]
  },
  {
   "cell_type": "code",
   "execution_count": 10,
   "metadata": {},
   "outputs": [],
   "source": [
    "# define a random agent\n",
    "agent = OnlineHead(\n",
    "    ContinuousRandomPolicy(\n",
    "        action_scaler=MinMaxActionScaler(\n",
    "            minimum=0.1,  # minimum value that policy can take\n",
    "            maximum=10,  # maximum value that policy can take\n",
    "        )\n",
    "    )\n",
    ")"
   ]
  },
  {
   "cell_type": "code",
   "execution_count": 11,
   "metadata": {},
   "outputs": [],
   "source": [
    "# interact agent with the environment\n",
    "# only 6 lines are needed for RL interaction\n",
    "for episode in range(10):\n",
    "    obs, info = env.reset()\n",
    "    done = False\n",
    "\n",
    "    while not done:\n",
    "        action = agent.predict_online(obs)\n",
    "        obs, reward, done, truncated, info = env.step(action)"
   ]
  },
  {
   "cell_type": "code",
   "execution_count": 12,
   "metadata": {},
   "outputs": [
    {
     "name": "stdout",
     "output_type": "stream",
     "text": [
      "['timestep', 'remaining_budget', 'budget_consumption_rate', 'cost_per_mille_of_impression', 'winning_rate', 'reward', 'adjust_rate']\n",
      "(7,)\n"
     ]
    }
   ],
   "source": [
    "# state consists of the following feedback from the environment\n",
    "print(env.obs_keys)\n",
    "print(obs.shape)"
   ]
  },
  {
   "cell_type": "code",
   "execution_count": 13,
   "metadata": {},
   "outputs": [
    {
     "data": {
      "image/png": "[encoded data removed]",
      "text/plain": [
       "<Figure size 432x288 with 2 Axes>"
      ]
     },
     "metadata": {
      "needs_background": "light"
     },
     "output_type": "display_data"
    }
   ],
   "source": [
    "# let's visualize the transition of remaining budget and the cumulative reward\n",
    "# our goal is to obtain a policy (i.e., agent) that maximizes the cumulative reward under budget constraints using RL.  \n",
    "# for more visualization, please see the appendix.\n",
    "obs, info = env.reset()\n",
    "done = False\n",
    "remaining_budget = [obs[1]]\n",
    "cumulative_reward = [0]\n",
    "\n",
    "while not done:\n",
    "    action = agent.predict_online(obs)\n",
    "    obs, reward, done, truncated, info = env.step(action)\n",
    "    remaining_budget.append(obs[1])\n",
    "    cumulative_reward.append(cumulative_reward[-1] + reward)\n",
    "\n",
    "# plot\n",
    "fig = plt.figure()\n",
    "ax1 = fig.add_subplot(111)\n",
    "ax1.plot(remaining_budget[:-1], label='remaining budget')\n",
    "ax2 = ax1.twinx()\n",
    "ax2.plot(cumulative_reward[:-1], label='cumulative reward', color='tab:orange')\n",
    "ax1.set_xlabel('timestep')\n",
    "ax1.set_ylabel('remainig budget')\n",
    "ax1.set_ylim(0, env.initial_budget + 100)\n",
    "ax2.set_ylabel('reward (coversion)')\n",
    "ax1.legend(loc='upper left')\n",
    "ax2.legend(loc='upper right')\n",
    "plt.show()"
   ]
  },
  {
   "cell_type": "markdown",
   "metadata": {},
   "source": [
    "We see that the random policy run out the budget quickly.  \n",
    "Our goal is to derive a policy that controls the adjust rate (i.e., action) to maximize the reward while meeting the given budget constraints.\n",
    "\n",
    "For more about the environmental configurations and customization, please refer to [examples/quickstart/rtb_synthetic_customize_env.ipynb](https://github.com/negocia-inc/rtb_reinforcement_learing/blob/ope/examples/quickstart/rtb_synthetic_customize_env.ipynb)."
   ]
  },
  {
   "cell_type": "markdown",
   "metadata": {},
   "source": [
    "#### Online RL and comparison of the policies\n",
    "We now learn an online RL policy and compare it to the random policy, based on their on-policy policy value estimation."
   ]
  },
  {
   "cell_type": "code",
   "execution_count": 14,
   "metadata": {},
   "outputs": [
    {
     "name": "stdout",
     "output_type": "stream",
     "text": [
      "Box(0.1, 10.0, (1,), float64)\n"
     ]
    }
   ],
   "source": [
    "# standardized environment for continuous actions\n",
    "env = gym.make(\"RTBEnv-continuous-v0\")\n",
    "print(env.action_space)"
   ]
  },
  {
   "cell_type": "code",
   "execution_count": 15,
   "metadata": {},
   "outputs": [],
   "source": [
    "# for api compatibility to d3rlpy\n",
    "from ofrl.utils import OldGymAPIWrapper\n",
    "env_ = OldGymAPIWrapper(env)"
   ]
  },
  {
   "cell_type": "code",
   "execution_count": 16,
   "metadata": {},
   "outputs": [],
   "source": [
    "from d3rlpy.algos import SAC\n",
    "from d3rlpy.models.encoders import VectorEncoderFactory\n",
    "from d3rlpy.models.q_functions import MeanQFunctionFactory\n",
    "from d3rlpy.online.buffers import ReplayBuffer\n",
    "\n",
    "# model\n",
    "sac = SAC(\n",
    "    actor_encoder_factory=VectorEncoderFactory(hidden_units=[30, 30]),\n",
    "    critic_encoder_factory=VectorEncoderFactory(hidden_units=[30, 30]),\n",
    "    q_func_factory=MeanQFunctionFactory(),\n",
    "    use_gpu=torch.cuda.is_available(),\n",
    "    action_scaler=MinMaxActionScaler(\n",
    "        minimum=env_.action_space.low,   # 0.1\n",
    "        maximum=env_.action_space.high,  # 10\n",
    "    ),\n",
    ")\n",
    "# setup replay buffer\n",
    "buffer = ReplayBuffer(\n",
    "    maxlen=10000,\n",
    "    env=env_,\n",
    ")"
   ]
  },
  {
   "cell_type": "code",
   "execution_count": 17,
   "metadata": {},
   "outputs": [
    {
     "name": "stdout",
     "output_type": "stream",
     "text": [
      "2022-11-24 04:13.00 [info     ] Directory is created at d3rlpy_logs/SAC_online_20221124041300\n",
      "2022-11-24 04:13.00 [debug    ] Fitting action scaler...       action_scler=min_max\n",
      "2022-11-24 04:13.00 [debug    ] Building model...\n",
      "2022-11-24 04:13.00 [debug    ] Model has been built.\n",
      "2022-11-24 04:13.00 [info     ] Parameters are saved to d3rlpy_logs/SAC_online_20221124041300/params.json params={'action_scaler': {'type': 'min_max', 'params': {'minimum': array([0.1]), 'maximum': array([10.])}}, 'actor_encoder_factory': {'type': 'vector', 'params': {'hidden_units': [30, 30], 'activation': 'relu', 'use_batch_norm': False, 'dropout_rate': None, 'use_dense': False}}, 'actor_learning_rate': 0.0003, 'actor_optim_factory': {'optim_cls': 'Adam', 'betas': (0.9, 0.999), 'eps': 1e-08, 'weight_decay': 0, 'amsgrad': False}, 'batch_size': 256, 'critic_encoder_factory': {'type': 'vector', 'params': {'hidden_units': [30, 30], 'activation': 'relu', 'use_batch_norm': False, 'dropout_rate': None, 'use_dense': False}}, 'critic_learning_rate': 0.0003, 'critic_optim_factory': {'optim_cls': 'Adam', 'betas': (0.9, 0.999), 'eps': 1e-08, 'weight_decay': 0, 'amsgrad': False}, 'gamma': 0.99, 'generated_maxlen': 100000, 'initial_temperature': 1.0, 'n_critics': 2, 'n_frames': 1, 'n_steps': 1, 'q_func_factory': {'type': 'mean', 'params': {'share_encoder': False}}, 'real_ratio': 1.0, 'reward_scaler': None, 'scaler': None, 'tau': 0.005, 'temp_learning_rate': 0.0003, 'temp_optim_factory': {'optim_cls': 'Adam', 'betas': (0.9, 0.999), 'eps': 1e-08, 'weight_decay': 0, 'amsgrad': False}, 'use_gpu': None, 'algorithm': 'SAC', 'observation_shape': (7,), 'action_size': 1}\n"
     ]
    },
    {
     "data": {
      "application/vnd.jupyter.widget-view+json": {
       "model_id": "6b36f47ac5f54ef4868c8724c31d2292",
       "version_major": 2,
       "version_minor": 0
      },
      "text/plain": [
       "  0%|          | 0/100000 [00:00<?, ?it/s]"
      ]
     },
     "metadata": {},
     "output_type": "display_data"
    },
    {
     "name": "stdout",
     "output_type": "stream",
     "text": [
      "2022-11-24 04:13.04 [info     ] Model parameters are saved to d3rlpy_logs/SAC_online_20221124041300/model_1000.pt\n",
      "2022-11-24 04:13.04 [info     ] SAC_online_20221124041300: epoch=1 step=1000 epoch=1 metrics={'time_inference': 0.001657743215560913, 'time_environment_step': 0.001623241662979126, 'time_step': 0.0033777382373809815, 'rollout_return': 0.0, 'evaluation': 0.0} step=1000\n",
      "2022-11-24 04:15.34 [info     ] Model parameters are saved to d3rlpy_logs/SAC_online_20221124041300/model_2000.pt\n",
      "2022-11-24 04:15.34 [info     ] SAC_online_20221124041300: epoch=2 step=2000 epoch=2 metrics={'time_inference': 0.0013964664936065674, 'time_environment_step': 0.0014573986530303955, 'time_sample_batch': 0.0004152514934539795, 'time_algorithm_update': 0.1457834072113037, 'temp_loss': -8.032622046470642, 'temp': 1.0494079979658126, 'critic_loss': 792.0752134475708, 'actor_loss': 5.279309185393155, 'time_step': 0.1491574146747589, 'rollout_return': 13.04225352112676, 'evaluation': 14.0} step=2000\n",
      "2022-11-24 04:17.56 [info     ] Model parameters are saved to d3rlpy_logs/SAC_online_20221124041300/model_3000.pt\n",
      "2022-11-24 04:17.56 [info     ] SAC_online_20221124041300: epoch=3 step=3000 epoch=3 metrics={'time_inference': 0.0012665889263153076, 'time_environment_step': 0.0015707175731658936, 'time_sample_batch': 0.0005263314247131348, 'time_algorithm_update': 0.1378822410106659, 'temp_loss': -10.043787651777267, 'temp': 1.2689635444879532, 'critic_loss': 368.1751859207153, 'actor_loss': 28.09066389465332, 'time_step': 0.14137891674041747, 'rollout_return': 13.76056338028169, 'evaluation': 15.7} step=3000\n",
      "2022-11-24 04:20.15 [info     ] Model parameters are saved to d3rlpy_logs/SAC_online_20221124041300/model_4000.pt\n",
      "2022-11-24 04:20.15 [info     ] SAC_online_20221124041300: epoch=4 step=4000 epoch=4 metrics={'time_inference': 0.00132121205329895, 'time_environment_step': 0.0015313575267791749, 'time_sample_batch': 0.0006485669612884521, 'time_algorithm_update': 0.13419277811050415, 'temp_loss': -9.149508902549744, 'temp': 1.6409616428613663, 'critic_loss': 534.6420627746583, 'actor_loss': 32.24031321907044, 'time_step': 0.13791149616241455, 'rollout_return': 12.908450704225352, 'evaluation': 13.2} step=4000\n",
      "2022-11-24 04:28.02 [info     ] Model parameters are saved to d3rlpy_logs/SAC_online_20221124041300/model_5000.pt\n",
      "2022-11-24 04:28.02 [info     ] SAC_online_20221124041300: epoch=5 step=5000 epoch=5 metrics={'time_inference': 0.0015321097373962402, 'time_environment_step': 0.0016029152870178222, 'time_sample_batch': 0.0006251435279846191, 'time_algorithm_update': 0.46160282158851623, 'temp_loss': -13.320423106193543, 'temp': 2.249845518708229, 'critic_loss': 932.7262265014648, 'actor_loss': 45.196656227111816, 'time_step': 0.4655193078517914, 'rollout_return': 12.591549295774648, 'evaluation': 13.3} step=5000\n",
      "2022-11-24 04:37.09 [info     ] Model parameters are saved to d3rlpy_logs/SAC_online_20221124041300/model_6000.pt\n",
      "2022-11-24 04:37.09 [info     ] SAC_online_20221124041300: epoch=6 step=6000 epoch=6 metrics={'time_inference': 0.0015934224128723144, 'time_environment_step': 0.0015873444080352784, 'time_sample_batch': 0.0007370264530181885, 'time_algorithm_update': 0.5407922005653382, 'temp_loss': -18.54469895362854, 'temp': 3.2171908395290374, 'critic_loss': 1800.1475272216796, 'actor_loss': 64.99260499954224, 'time_step': 0.5448637573719025, 'rollout_return': 13.154929577464788, 'evaluation': 0.0} step=6000\n",
      "2022-11-24 04:46.24 [info     ] Model parameters are saved to d3rlpy_logs/SAC_online_20221124041300/model_7000.pt\n",
      "2022-11-24 04:46.25 [info     ] SAC_online_20221124041300: epoch=7 step=7000 epoch=7 metrics={'time_inference': 0.002230305194854736, 'time_environment_step': 0.0018439681529998778, 'time_sample_batch': 0.0006639440059661865, 'time_algorithm_update': 0.5492546172142029, 'temp_loss': -26.283315006256103, 'temp': 4.6658571269512175, 'critic_loss': 3631.453610839844, 'actor_loss': 93.1381942062378, 'time_step': 0.5541576781272888, 'rollout_return': 13.211267605633802, 'evaluation': 15.5} step=7000\n",
      "2022-11-24 04:51.10 [info     ] Model parameters are saved to d3rlpy_logs/SAC_online_20221124041300/model_8000.pt\n",
      "2022-11-24 04:51.10 [info     ] SAC_online_20221124041300: epoch=8 step=8000 epoch=8 metrics={'time_inference': 0.0015104076862335206, 'time_environment_step': 0.0013728160858154296, 'time_sample_batch': 0.0007436311244964599, 'time_algorithm_update': 0.2805707325935364, 'temp_loss': -37.96920114517212, 'temp': 6.86799079990387, 'critic_loss': 6764.167100341797, 'actor_loss': 128.76045302581787, 'time_step': 0.28431201982498167, 'rollout_return': 12.02112676056338, 'evaluation': 12.5} step=8000\n",
      "2022-11-24 05:01.17 [info     ] Model parameters are saved to d3rlpy_logs/SAC_online_20221124041300/model_9000.pt\n",
      "2022-11-24 05:01.17 [info     ] SAC_online_20221124041300: epoch=9 step=9000 epoch=9 metrics={'time_inference': 0.0022134740352630616, 'time_environment_step': 0.001758444309234619, 'time_sample_batch': 0.0005981643199920654, 'time_algorithm_update': 0.6004613449573517, 'temp_loss': -56.84825288772583, 'temp': 10.199260310173035, 'critic_loss': 14282.048610351563, 'actor_loss': 187.68228900146485, 'time_step': 0.605132886171341, 'rollout_return': 13.443661971830986, 'evaluation': 15.3} step=9000\n",
      "2022-11-24 05:10.25 [info     ] Model parameters are saved to d3rlpy_logs/SAC_online_20221124041300/model_10000.pt\n",
      "2022-11-24 05:10.25 [info     ] SAC_online_20221124041300: epoch=10 step=10000 epoch=10 metrics={'time_inference': 0.0016893117427825928, 'time_environment_step': 0.0018594365119934083, 'time_sample_batch': 0.000804243803024292, 'time_algorithm_update': 0.5422983407974243, 'temp_loss': -110.12023681259156, 'temp': 15.30639280605316, 'critic_loss': 37964.717020507815, 'actor_loss': 331.2205006256103, 'time_step': 0.5468730840682984, 'rollout_return': 13.28169014084507, 'evaluation': 16.1} step=10000\n",
      "2022-11-24 05:12.08 [info     ] Model parameters are saved to d3rlpy_logs/SAC_online_20221124041300/model_11000.pt\n",
      "2022-11-24 05:12.08 [info     ] SAC_online_20221124041300: epoch=11 step=11000 epoch=11 metrics={'time_inference': 0.001386439323425293, 'time_environment_step': 0.001343543767929077, 'time_sample_batch': 0.0006269211769104004, 'time_algorithm_update': 0.0982861864566803, 'temp_loss': -174.42578713989258, 'temp': 24.059026500701904, 'critic_loss': 90207.13835546875, 'actor_loss': 560.4146504211426, 'time_step': 0.10175876188278198, 'rollout_return': 13.753521126760564, 'evaluation': 15.6} step=11000\n",
      "2022-11-24 05:13.32 [info     ] Model parameters are saved to d3rlpy_logs/SAC_online_20221124041300/model_12000.pt\n",
      "2022-11-24 05:13.32 [info     ] SAC_online_20221124041300: epoch=12 step=12000 epoch=12 metrics={'time_inference': 0.0011936426162719727, 'time_environment_step': 0.0012490143775939942, 'time_sample_batch': 0.0004893124103546142, 'time_algorithm_update': 0.0800498332977295, 'temp_loss': -176.44544994354249, 'temp': 32.78141974449158, 'critic_loss': 128465.54121484375, 'actor_loss': 608.9291153869628, 'time_step': 0.08312136340141296, 'rollout_return': 12.859154929577464, 'evaluation': 15.5} step=12000\n",
      "2022-11-24 05:15.08 [info     ] Model parameters are saved to d3rlpy_logs/SAC_online_20221124041300/model_13000.pt\n",
      "2022-11-24 05:15.08 [info     ] SAC_online_20221124041300: epoch=13 step=13000 epoch=13 metrics={'time_inference': 0.0013571758270263673, 'time_environment_step': 0.001281736135482788, 'time_sample_batch': 0.0006340067386627197, 'time_algorithm_update': 0.0921054253578186, 'temp_loss': -430.69035829925537, 'temp': 50.29997308349609, 'critic_loss': 418280.0370390625, 'actor_loss': 1290.0768665771484, 'time_step': 0.09551186633110047, 'rollout_return': 14.225352112676056, 'evaluation': 14.8} step=13000\n",
      "2022-11-24 05:16.49 [info     ] Model parameters are saved to d3rlpy_logs/SAC_online_20221124041300/model_14000.pt\n",
      "2022-11-24 05:16.49 [info     ] SAC_online_20221124041300: epoch=14 step=14000 epoch=14 metrics={'time_inference': 0.0012276501655578613, 'time_environment_step': 0.0013607237339019775, 'time_sample_batch': 0.0004891366958618165, 'time_algorithm_update': 0.09686357760429383, 'temp_loss': -376.63434648132323, 'temp': 70.20369861602784, 'critic_loss': 616218.02115625, 'actor_loss': 1364.635578125, 'time_step': 0.10007159852981568, 'rollout_return': 13.295774647887324, 'evaluation': 10.0} step=14000\n",
      "2022-11-24 05:18.31 [info     ] Model parameters are saved to d3rlpy_logs/SAC_online_20221124041300/model_15000.pt\n",
      "2022-11-24 05:18.31 [info     ] SAC_online_20221124041300: epoch=15 step=15000 epoch=15 metrics={'time_inference': 0.0011516401767730712, 'time_environment_step': 0.0012932920455932617, 'time_sample_batch': 0.0005484106540679932, 'time_algorithm_update': 0.09775773644447326, 'temp_loss': -730.784234451294, 'temp': 103.29280623626708, 'critic_loss': 1550403.0569375, 'actor_loss': 2314.065493774414, 'time_step': 0.10085246324539185, 'rollout_return': 13.401408450704226, 'evaluation': 15.6} step=15000\n",
      "2022-11-24 05:19.30 [info     ] Model parameters are saved to d3rlpy_logs/SAC_online_20221124041300/model_16000.pt\n",
      "2022-11-24 05:19.30 [info     ] SAC_online_20221124041300: epoch=16 step=16000 epoch=16 metrics={'time_inference': 0.0010402610301971436, 'time_environment_step': 0.0011741690635681153, 'time_sample_batch': 0.0005673456192016601, 'time_algorithm_update': 0.05573171019554138, 'temp_loss': -773.3956251831055, 'temp': 145.67781037139892, 'critic_loss': 2568440.59525, 'actor_loss': 2736.1212415771483, 'time_step': 0.05864143943786621, 'rollout_return': 13.422535211267606, 'evaluation': 15.6} step=16000\n",
      "2022-11-24 05:21.16 [info     ] Model parameters are saved to d3rlpy_logs/SAC_online_20221124041300/model_17000.pt\n",
      "2022-11-24 05:21.16 [info     ] SAC_online_20221124041300: epoch=17 step=17000 epoch=17 metrics={'time_inference': 0.001195822238922119, 'time_environment_step': 0.0014014565944671631, 'time_sample_batch': 0.0007431144714355469, 'time_algorithm_update': 0.10155637550354003, 'temp_loss': -1094.4037424316407, 'temp': 209.06473532104494, 'critic_loss': 5171826.95025, 'actor_loss': 3782.248049316406, 'time_step': 0.10503944993019104, 'rollout_return': 12.788732394366198, 'evaluation': 14.2} step=17000\n",
      "2022-11-24 05:23.02 [info     ] Model parameters are saved to d3rlpy_logs/SAC_online_20221124041300/model_18000.pt\n",
      "2022-11-24 05:23.02 [info     ] SAC_online_20221124041300: epoch=18 step=18000 epoch=18 metrics={'time_inference': 0.0014113364219665526, 'time_environment_step': 0.0014994981288909911, 'time_sample_batch': 0.0005691602230072022, 'time_algorithm_update': 0.1015165958404541, 'temp_loss': -2107.3038947753907, 'temp': 318.6219635772705, 'critic_loss': 13794229.0845, 'actor_loss': 6696.281967773438, 'time_step': 0.10512955021858215, 'rollout_return': 13.52112676056338, 'evaluation': 14.8} step=18000\n",
      "2022-11-24 05:24.48 [info     ] Model parameters are saved to d3rlpy_logs/SAC_online_20221124041300/model_19000.pt\n",
      "2022-11-24 05:24.48 [info     ] SAC_online_20221124041300: epoch=19 step=19000 epoch=19 metrics={'time_inference': 0.00133233904838562, 'time_environment_step': 0.001335284948348999, 'time_sample_batch': 0.0004938576221466065, 'time_algorithm_update': 0.10119992065429688, 'temp_loss': -2921.0411392822266, 'temp': 464.9716850585938, 'critic_loss': 29310188.195, 'actor_loss': 9654.040898925781, 'time_step': 0.10449013781547546, 'rollout_return': 13.619718309859154, 'evaluation': 15.4} step=19000\n",
      "2022-11-24 05:26.30 [info     ] Model parameters are saved to d3rlpy_logs/SAC_online_20221124041300/model_20000.pt\n",
      "2022-11-24 05:26.30 [info     ] SAC_online_20221124041300: epoch=20 step=20000 epoch=20 metrics={'time_inference': 0.001289686918258667, 'time_environment_step': 0.0014307198524475097, 'time_sample_batch': 0.0005222587585449219, 'time_algorithm_update': 0.09770527362823486, 'temp_loss': -5309.739026489257, 'temp': 704.842558227539, 'critic_loss': 76887897.208, 'actor_loss': 16794.295625976563, 'time_step': 0.10107389283180236, 'rollout_return': 14.45774647887324, 'evaluation': 13.9} step=20000\n",
      "2022-11-24 05:28.09 [info     ] Model parameters are saved to d3rlpy_logs/SAC_online_20221124041300/model_21000.pt\n",
      "2022-11-24 05:28.09 [info     ] SAC_online_20221124041300: epoch=21 step=21000 epoch=21 metrics={'time_inference': 0.0012884480953216553, 'time_environment_step': 0.0013183727264404297, 'time_sample_batch': 0.0005816028118133545, 'time_algorithm_update': 0.09486796045303345, 'temp_loss': -6391.22257019043, 'temp': 1008.1816223754882, 'critic_loss': 145330924.352, 'actor_loss': 21870.223990234375, 'time_step': 0.09817203426361085, 'rollout_return': 13.112676056338028, 'evaluation': 16.0} step=21000\n",
      "2022-11-24 05:29.50 [info     ] Model parameters are saved to d3rlpy_logs/SAC_online_20221124041300/model_22000.pt\n",
      "2022-11-24 05:29.50 [info     ] SAC_online_20221124041300: epoch=22 step=22000 epoch=22 metrics={'time_inference': 0.0013359179496765137, 'time_environment_step': 0.0012894053459167481, 'time_sample_batch': 0.0005954699516296386, 'time_algorithm_update': 0.09673748183250427, 'temp_loss': -10194.023084472656, 'temp': 1424.5924901123046, 'critic_loss': 308317394.952, 'actor_loss': 31403.65143359375, 'time_step': 0.10011750721931457, 'rollout_return': 13.816901408450704, 'evaluation': 14.5} step=22000\n",
      "2022-11-24 05:31.34 [info     ] Model parameters are saved to d3rlpy_logs/SAC_online_20221124041300/model_23000.pt\n",
      "2022-11-24 05:31.34 [info     ] SAC_online_20221124041300: epoch=23 step=23000 epoch=23 metrics={'time_inference': 0.0012789440155029296, 'time_environment_step': 0.0013292672634124755, 'time_sample_batch': 0.0005294175148010254, 'time_algorithm_update': 0.10001348280906677, 'temp_loss': -12510.667352539063, 'temp': 2137.3545489501953, 'critic_loss': 623706858.592, 'actor_loss': 44705.293296875, 'time_step': 0.10327891254425049, 'rollout_return': 13.43661971830986, 'evaluation': 14.1} step=23000\n",
      "2022-11-24 05:33.14 [info     ] Model parameters are saved to d3rlpy_logs/SAC_online_20221124041300/model_24000.pt\n",
      "2022-11-24 05:33.14 [info     ] SAC_online_20221124041300: epoch=24 step=24000 epoch=24 metrics={'time_inference': 0.0012757444381713866, 'time_environment_step': 0.0013101847171783448, 'time_sample_batch': 0.0005154485702514648, 'time_algorithm_update': 0.09598298716545105, 'temp_loss': -15309.051747070313, 'temp': 2972.4575524902343, 'critic_loss': 1086209726.4, 'actor_loss': 55496.32662890625, 'time_step': 0.09921264386177063, 'rollout_return': 13.112676056338028, 'evaluation': 16.5} step=24000\n",
      "2022-11-24 05:34.51 [info     ] Model parameters are saved to d3rlpy_logs/SAC_online_20221124041300/model_25000.pt\n",
      "2022-11-24 05:34.51 [info     ] SAC_online_20221124041300: epoch=25 step=25000 epoch=25 metrics={'time_inference': 0.0012596263885498048, 'time_environment_step': 0.0014267024993896485, 'time_sample_batch': 0.0006258158683776856, 'time_algorithm_update': 0.09330816149711608, 'temp_loss': -22825.945150390624, 'temp': 4323.221560302734, 'critic_loss': 2366597217.28, 'actor_loss': 81126.57212890625, 'time_step': 0.09672155284881592, 'rollout_return': 12.992957746478874, 'evaluation': 12.8} step=25000\n",
      "2022-11-24 05:36.56 [info     ] Model parameters are saved to d3rlpy_logs/SAC_online_20221124041300/model_26000.pt\n",
      "2022-11-24 05:36.56 [info     ] SAC_online_20221124041300: epoch=26 step=26000 epoch=26 metrics={'time_inference': 0.0013021626472473145, 'time_environment_step': 0.0013797059059143066, 'time_sample_batch': 0.0005449070930480957, 'time_algorithm_update': 0.12002572226524354, 'temp_loss': -35919.12268945313, 'temp': 6412.886034179687, 'critic_loss': 5420694968.832, 'actor_loss': 123669.8145234375, 'time_step': 0.12337056589126587, 'rollout_return': 13.330985915492958, 'evaluation': 0.0} step=26000\n",
      "2022-11-24 05:38.32 [info     ] Model parameters are saved to d3rlpy_logs/SAC_online_20221124041300/model_27000.pt\n",
      "2022-11-24 05:38.32 [info     ] SAC_online_20221124041300: epoch=27 step=27000 epoch=27 metrics={'time_inference': 0.0012189719676971435, 'time_environment_step': 0.0013603594303131105, 'time_sample_batch': 0.0005321850776672364, 'time_algorithm_update': 0.09253071212768554, 'temp_loss': -49926.45637695312, 'temp': 9526.219864746094, 'critic_loss': 11505102201.344, 'actor_loss': 179522.092671875, 'time_step': 0.09580371069908142, 'rollout_return': 12.654929577464788, 'evaluation': 0.0} step=27000\n",
      "2022-11-24 05:40.19 [info     ] Model parameters are saved to d3rlpy_logs/SAC_online_20221124041300/model_28000.pt\n",
      "2022-11-24 05:40.19 [info     ] SAC_online_20221124041300: epoch=28 step=28000 epoch=28 metrics={'time_inference': 0.0011591134071350098, 'time_environment_step': 0.0014876303672790526, 'time_sample_batch': 0.0005100293159484863, 'time_algorithm_update': 0.10221815347671509, 'temp_loss': -87981.55617578125, 'temp': 14074.476291992187, 'critic_loss': 28807532825.6, 'actor_loss': 284595.648765625, 'time_step': 0.105537677526474, 'rollout_return': 13.464788732394366, 'evaluation': 15.4} step=28000\n",
      "2022-11-24 05:41.59 [info     ] Model parameters are saved to d3rlpy_logs/SAC_online_20221124041300/model_29000.pt\n",
      "2022-11-24 05:41.59 [info     ] SAC_online_20221124041300: epoch=29 step=29000 epoch=29 metrics={'time_inference': 0.0012088251113891602, 'time_environment_step': 0.0013859381675720216, 'time_sample_batch': 0.0006038050651550293, 'time_algorithm_update': 0.09572947692871094, 'temp_loss': -122380.25369921875, 'temp': 21210.12714453125, 'critic_loss': 63702368581.632, 'actor_loss': 432049.894, 'time_step': 0.09904660844802857, 'rollout_return': 13.288732394366198, 'evaluation': 15.1} step=29000\n",
      "2022-11-24 05:43.29 [info     ] Model parameters are saved to d3rlpy_logs/SAC_online_20221124041300/model_30000.pt\n",
      "2022-11-24 05:43.29 [info     ] SAC_online_20221124041300: epoch=30 step=30000 epoch=30 metrics={'time_inference': 0.0010836381912231446, 'time_environment_step': 0.0012636849880218507, 'time_sample_batch': 0.0004904541969299316, 'time_algorithm_update': 0.08639176678657531, 'temp_loss': -230978.83728125, 'temp': 31419.56902734375, 'critic_loss': 167561771130.88, 'actor_loss': 728237.7956875, 'time_step': 0.08936545181274413, 'rollout_return': 13.732394366197184, 'evaluation': 12.1} step=30000\n",
      "2022-11-24 05:45.18 [info     ] Model parameters are saved to d3rlpy_logs/SAC_online_20221124041300/model_31000.pt\n",
      "2022-11-24 05:45.18 [info     ] SAC_online_20221124041300: epoch=31 step=31000 epoch=31 metrics={'time_inference': 0.0012170276641845703, 'time_environment_step': 0.001366971492767334, 'time_sample_batch': 0.0005974631309509277, 'time_algorithm_update': 0.10480348753929138, 'temp_loss': -279111.5824609375, 'temp': 45972.04767578125, 'critic_loss': 327096232493.056, 'actor_loss': 994104.5760625, 'time_step': 0.10810073733329773, 'rollout_return': 13.549295774647888, 'evaluation': 12.2} step=31000\n",
      "2022-11-24 05:46.59 [info     ] Model parameters are saved to d3rlpy_logs/SAC_online_20221124041300/model_32000.pt\n",
      "2022-11-24 05:46.59 [info     ] SAC_online_20221124041300: epoch=32 step=32000 epoch=32 metrics={'time_inference': 0.0013143489360809327, 'time_environment_step': 0.0013473074436187744, 'time_sample_batch': 0.000619373083114624, 'time_algorithm_update': 0.09699453568458558, 'temp_loss': -444945.8654921875, 'temp': 65380.96996875, 'critic_loss': 695653424627.712, 'actor_loss': 1421729.25025, 'time_step': 0.100387788772583, 'rollout_return': 13.528169014084508, 'evaluation': 14.7} step=32000\n",
      "2022-11-24 05:48.41 [info     ] Model parameters are saved to d3rlpy_logs/SAC_online_20221124041300/model_33000.pt\n",
      "2022-11-24 05:48.41 [info     ] SAC_online_20221124041300: epoch=33 step=33000 epoch=33 metrics={'time_inference': 0.0012596647739410401, 'time_environment_step': 0.0013501307964324952, 'time_sample_batch': 0.0006727399826049805, 'time_algorithm_update': 0.09765986323356629, 'temp_loss': -510287.396640625, 'temp': 95345.092546875, 'critic_loss': 1256836428333.056, 'actor_loss': 1903322.71475, 'time_step': 0.10106868720054626, 'rollout_return': 12.78169014084507, 'evaluation': 14.3} step=33000\n",
      "2022-11-24 05:50.26 [info     ] Model parameters are saved to d3rlpy_logs/SAC_online_20221124041300/model_34000.pt\n",
      "2022-11-24 05:50.26 [info     ] SAC_online_20221124041300: epoch=34 step=34000 epoch=34 metrics={'time_inference': 0.001294891119003296, 'time_environment_step': 0.0012688109874725343, 'time_sample_batch': 0.0004865868091583252, 'time_algorithm_update': 0.1010593547821045, 'temp_loss': -679519.707875, 'temp': 131999.649953125, 'critic_loss': 2254294107160.576, 'actor_loss': 2427214.6815, 'time_step': 0.10424690270423889, 'rollout_return': 12.661971830985916, 'evaluation': 12.0} step=34000\n",
      "2022-11-24 05:52.28 [info     ] Model parameters are saved to d3rlpy_logs/SAC_online_20221124041300/model_35000.pt\n",
      "2022-11-24 05:52.28 [info     ] SAC_online_20221124041300: epoch=35 step=35000 epoch=35 metrics={'time_inference': 0.0012602715492248536, 'time_environment_step': 0.001371640920639038, 'time_sample_batch': 0.0005279340744018554, 'time_algorithm_update': 0.11757794427871704, 'temp_loss': -1084316.20553125, 'temp': 194949.937609375, 'critic_loss': 4996692326219.776, 'actor_loss': 3647854.63075, 'time_step': 0.12086087250709533, 'rollout_return': 13.654929577464788, 'evaluation': 0.0} step=35000\n",
      "2022-11-24 05:54.10 [info     ] Model parameters are saved to d3rlpy_logs/SAC_online_20221124041300/model_36000.pt\n",
      "2022-11-24 05:54.10 [info     ] SAC_online_20221124041300: epoch=36 step=36000 epoch=36 metrics={'time_inference': 0.0012054016590118408, 'time_environment_step': 0.0014734585285186767, 'time_sample_batch': 0.0005404281616210937, 'time_algorithm_update': 0.09795764946937562, 'temp_loss': -1351263.4725, 'temp': 278336.747015625, 'critic_loss': 9228736566657.023, 'actor_loss': 4814484.22425, 'time_step': 0.10129700088500977, 'rollout_return': 13.288732394366198, 'evaluation': 14.0} step=36000\n",
      "2022-11-24 05:55.54 [info     ] Model parameters are saved to d3rlpy_logs/SAC_online_20221124041300/model_37000.pt\n",
      "2022-11-24 05:55.54 [info     ] SAC_online_20221124041300: epoch=37 step=37000 epoch=37 metrics={'time_inference': 0.001218301296234131, 'time_environment_step': 0.0013955795764923095, 'time_sample_batch': 0.0005346534252166748, 'time_algorithm_update': 0.0998988482952118, 'temp_loss': -1929311.8525, 'temp': 404109.08496875, 'critic_loss': 18800815902294.016, 'actor_loss': 6806698.4235, 'time_step': 0.10315698838233947, 'rollout_return': 13.169014084507042, 'evaluation': 14.5} step=37000\n",
      "2022-11-24 05:57.41 [info     ] Model parameters are saved to d3rlpy_logs/SAC_online_20221124041300/model_38000.pt\n",
      "2022-11-24 05:57.41 [info     ] SAC_online_20221124041300: epoch=38 step=38000 epoch=38 metrics={'time_inference': 0.0013100314140319824, 'time_environment_step': 0.0012952346801757813, 'time_sample_batch': 0.0005799496173858643, 'time_algorithm_update': 0.10234592914581299, 'temp_loss': -2737694.1254375, 'temp': 593047.66803125, 'critic_loss': 38705165616807.94, 'actor_loss': 9633786.3545, 'time_step': 0.10564598202705383, 'rollout_return': 13.352112676056338, 'evaluation': 14.9} step=38000\n",
      "2022-11-24 05:59.29 [info     ] Model parameters are saved to d3rlpy_logs/SAC_online_20221124041300/model_39000.pt\n",
      "2022-11-24 05:59.29 [info     ] SAC_online_20221124041300: epoch=39 step=39000 epoch=39 metrics={'time_inference': 0.0012925200462341308, 'time_environment_step': 0.0014128353595733642, 'time_sample_batch': 0.0006193616390228272, 'time_algorithm_update': 0.10364825415611267, 'temp_loss': -3053510.3833125, 'temp': 833482.12675, 'critic_loss': 66091501421068.29, 'actor_loss': 11796294.115, 'time_step': 0.10708410453796387, 'rollout_return': 13.309859154929578, 'evaluation': 13.9} step=39000\n",
      "2022-11-24 06:01.19 [info     ] Model parameters are saved to d3rlpy_logs/SAC_online_20221124041300/model_40000.pt\n",
      "2022-11-24 06:01.19 [info     ] SAC_online_20221124041300: epoch=40 step=40000 epoch=40 metrics={'time_inference': 0.0013423182964324952, 'time_environment_step': 0.0013227155208587647, 'time_sample_batch': 0.0005564982891082764, 'time_algorithm_update': 0.10650315189361573, 'temp_loss': -5604543.1735, 'temp': 1228969.7160625, 'critic_loss': 162420622897446.9, 'actor_loss': 18067158.3, 'time_step': 0.10984367609024048, 'rollout_return': 13.43661971830986, 'evaluation': 15.5} step=40000\n",
      "2022-11-24 06:03.03 [info     ] Model parameters are saved to d3rlpy_logs/SAC_online_20221124041300/model_41000.pt\n",
      "2022-11-24 06:03.03 [info     ] SAC_online_20221124041300: epoch=41 step=41000 epoch=41 metrics={'time_inference': 0.0012038424015045166, 'time_environment_step': 0.0012641582489013672, 'time_sample_batch': 0.0006475093364715576, 'time_algorithm_update': 0.09883166933059692, 'temp_loss': -7216100.764625, 'temp': 1797983.044375, 'critic_loss': 321529106158059.5, 'actor_loss': 24443321.505, 'time_step': 0.10208024549484253, 'rollout_return': 14.21830985915493, 'evaluation': 13.4} step=41000\n",
      "2022-11-24 06:04.44 [info     ] Model parameters are saved to d3rlpy_logs/SAC_online_20221124041300/model_42000.pt\n",
      "2022-11-24 06:04.44 [info     ] SAC_online_20221124041300: epoch=42 step=42000 epoch=42 metrics={'time_inference': 0.0012115418910980224, 'time_environment_step': 0.0013142635822296143, 'time_sample_batch': 0.0005282111167907715, 'time_algorithm_update': 0.09736157202720643, 'temp_loss': -12604002.81575, 'temp': 2528949.9785, 'critic_loss': 778473919773409.2, 'actor_loss': 34926039.09, 'time_step': 0.10054707527160645, 'rollout_return': 14.077464788732394, 'evaluation': 15.0} step=42000\n",
      "2022-11-24 06:06.25 [info     ] Model parameters are saved to d3rlpy_logs/SAC_online_20221124041300/model_43000.pt\n",
      "2022-11-24 06:06.25 [info     ] SAC_online_20221124041300: epoch=43 step=43000 epoch=43 metrics={'time_inference': 0.0011846210956573486, 'time_environment_step': 0.0014238250255584717, 'time_sample_batch': 0.000589141845703125, 'time_algorithm_update': 0.0968387131690979, 'temp_loss': -18221064.9495, 'temp': 3824596.41225, 'critic_loss': 1734550906118078.5, 'actor_loss': 50364727.364, 'time_step': 0.10013922476768494, 'rollout_return': 12.76056338028169, 'evaluation': 15.6} step=43000\n",
      "2022-11-24 06:08.06 [info     ] Model parameters are saved to d3rlpy_logs/SAC_online_20221124041300/model_44000.pt\n",
      "2022-11-24 06:08.06 [info     ] SAC_online_20221124041300: epoch=44 step=44000 epoch=44 metrics={'time_inference': 0.0013976595401763916, 'time_environment_step': 0.0012398886680603028, 'time_sample_batch': 0.0005557613372802735, 'time_algorithm_update': 0.0963808388710022, 'temp_loss': -21044011.0125, 'temp': 5429526.5505, 'critic_loss': 3002256148096090.0, 'actor_loss': 63032016.5, 'time_step': 0.0997084288597107, 'rollout_return': 14.007042253521126, 'evaluation': 13.4} step=44000\n",
      "2022-11-24 06:10.09 [info     ] Model parameters are saved to d3rlpy_logs/SAC_online_20221124041300/model_45000.pt\n",
      "2022-11-24 06:10.09 [info     ] SAC_online_20221124041300: epoch=45 step=45000 epoch=45 metrics={'time_inference': 0.001482424259185791, 'time_environment_step': 0.0014037787914276123, 'time_sample_batch': 0.0005865275859832763, 'time_algorithm_update': 0.11869460988044739, 'temp_loss': -16312880.726, 'temp': 7159287.9865, 'critic_loss': 4282481438718165.0, 'actor_loss': 66104448.992, 'time_step': 0.12230267786979675, 'rollout_return': 14.485915492957746, 'evaluation': 13.3} step=45000\n",
      "2022-11-24 06:11.54 [info     ] Model parameters are saved to d3rlpy_logs/SAC_online_20221124041300/model_46000.pt\n",
      "2022-11-24 06:11.54 [info     ] SAC_online_20221124041300: epoch=46 step=46000 epoch=46 metrics={'time_inference': 0.001231022834777832, 'time_environment_step': 0.0014620778560638429, 'time_sample_batch': 0.0005111176967620849, 'time_algorithm_update': 0.10097093319892883, 'temp_loss': -33650844.571, 'temp': 10056439.7985, 'critic_loss': 1.0250502456081384e+16, 'actor_loss': 97964314.06, 'time_step': 0.10435309338569641, 'rollout_return': 14.0, 'evaluation': 14.0} step=46000\n",
      "2022-11-24 06:13.38 [info     ] Model parameters are saved to d3rlpy_logs/SAC_online_20221124041300/model_47000.pt\n",
      "2022-11-24 06:13.38 [info     ] SAC_online_20221124041300: epoch=47 step=47000 epoch=47 metrics={'time_inference': 0.0013775675296783447, 'time_environment_step': 0.0013809101581573487, 'time_sample_batch': 0.0005035526752471924, 'time_algorithm_update': 0.09966320633888244, 'temp_loss': -31609547.244, 'temp': 14071510.386, 'critic_loss': 1.7568347655757628e+16, 'actor_loss': 113614949.832, 'time_step': 0.10307066011428832, 'rollout_return': 15.28169014084507, 'evaluation': 14.2} step=47000\n",
      "2022-11-24 06:15.25 [info     ] Model parameters are saved to d3rlpy_logs/SAC_online_20221124041300/model_48000.pt\n",
      "2022-11-24 06:15.25 [info     ] SAC_online_20221124041300: epoch=48 step=48000 epoch=48 metrics={'time_inference': 0.00132611346244812, 'time_environment_step': 0.0013090219497680663, 'time_sample_batch': 0.0006032886505126954, 'time_algorithm_update': 0.10316282939910888, 'temp_loss': -54845490.32, 'temp': 19907518.125, 'critic_loss': 3.889784679916844e+16, 'actor_loss': 157984621.416, 'time_step': 0.1065163950920105, 'rollout_return': 14.169014084507042, 'evaluation': 13.0} step=48000\n",
      "2022-11-24 06:17.11 [info     ] Model parameters are saved to d3rlpy_logs/SAC_online_20221124041300/model_49000.pt\n",
      "2022-11-24 06:17.11 [info     ] SAC_online_20221124041300: epoch=49 step=49000 epoch=49 metrics={'time_inference': 0.001254103183746338, 'time_environment_step': 0.0013453347682952882, 'time_sample_batch': 0.0006413717269897461, 'time_algorithm_update': 0.1013808445930481, 'temp_loss': -68098691.744, 'temp': 27764564.038, 'critic_loss': 7.455484135630229e+16, 'actor_loss': 199352667.104, 'time_step': 0.10473758029937744, 'rollout_return': 14.394366197183098, 'evaluation': 12.1} step=49000\n",
      "2022-11-24 06:18.56 [info     ] Model parameters are saved to d3rlpy_logs/SAC_online_20221124041300/model_50000.pt\n",
      "2022-11-24 06:18.56 [info     ] SAC_online_20221124041300: epoch=50 step=50000 epoch=50 metrics={'time_inference': 0.0012266745567321778, 'time_environment_step': 0.0013608694076538085, 'time_sample_batch': 0.000652761459350586, 'time_algorithm_update': 0.10043825101852417, 'temp_loss': -132308370.568, 'temp': 40288933.032, 'critic_loss': 1.8564304975360845e+17, 'actor_loss': 300886354.64, 'time_step': 0.10380391335487366, 'rollout_return': 14.612676056338028, 'evaluation': 14.5} step=50000\n",
      "2022-11-24 06:20.40 [info     ] Model parameters are saved to d3rlpy_logs/SAC_online_20221124041300/model_51000.pt\n",
      "2022-11-24 06:20.41 [info     ] SAC_online_20221124041300: epoch=51 step=51000 epoch=51 metrics={'time_inference': 0.0014455478191375732, 'time_environment_step': 0.0014827897548675536, 'time_sample_batch': 0.0005643227100372314, 'time_algorithm_update': 0.10036079406738281, 'temp_loss': -182330333.72, 'temp': 58085565.804, 'critic_loss': 3.921489635777268e+17, 'actor_loss': 399422044.144, 'time_step': 0.10397045874595642, 'rollout_return': 14.309859154929578, 'evaluation': 0.0} step=51000\n",
      "2022-11-24 06:22.30 [info     ] Model parameters are saved to d3rlpy_logs/SAC_online_20221124041300/model_52000.pt\n",
      "2022-11-24 06:22.30 [info     ] SAC_online_20221124041300: epoch=52 step=52000 epoch=52 metrics={'time_inference': 0.0012582185268402099, 'time_environment_step': 0.0014475255012512207, 'time_sample_batch': 0.0006007986068725585, 'time_algorithm_update': 0.10475675773620606, 'temp_loss': -196503279.928, 'temp': 82196163.104, 'critic_loss': 7.170798777853448e+17, 'actor_loss': 474140540.512, 'time_step': 0.10820448422431946, 'rollout_return': 14.246478873239436, 'evaluation': 14.4} step=52000\n",
      "2022-11-24 06:24.26 [info     ] Model parameters are saved to d3rlpy_logs/SAC_online_20221124041300/model_53000.pt\n",
      "2022-11-24 06:24.26 [info     ] SAC_online_20221124041300: epoch=53 step=53000 epoch=53 metrics={'time_inference': 0.001187565803527832, 'time_environment_step': 0.0015959477424621583, 'time_sample_batch': 0.0006054174900054931, 'time_algorithm_update': 0.11194483208656311, 'temp_loss': -271940092.136, 'temp': 113751369.816, 'critic_loss': 1.4215083236037745e+18, 'actor_loss': 621010000.0, 'time_step': 0.11547691297531128, 'rollout_return': 14.816901408450704, 'evaluation': 16.5} step=53000\n",
      "2022-11-24 06:26.17 [info     ] Model parameters are saved to d3rlpy_logs/SAC_online_20221124041300/model_54000.pt\n",
      "2022-11-24 06:26.17 [info     ] SAC_online_20221124041300: epoch=54 step=54000 epoch=54 metrics={'time_inference': 0.001272289752960205, 'time_environment_step': 0.0014246926307678223, 'time_sample_batch': 0.0006362998485565186, 'time_algorithm_update': 0.10657299637794494, 'temp_loss': -215465079.712, 'temp': 154236671.68, 'critic_loss': 2.05373478576497e+18, 'actor_loss': 638986387.488, 'time_step': 0.11000810861587525, 'rollout_return': 14.316901408450704, 'evaluation': 15.2} step=54000\n",
      "2022-11-24 06:28.06 [info     ] Model parameters are saved to d3rlpy_logs/SAC_online_20221124041300/model_55000.pt\n",
      "2022-11-24 06:28.06 [info     ] SAC_online_20221124041300: epoch=55 step=55000 epoch=55 metrics={'time_inference': 0.0013936505317687989, 'time_environment_step': 0.0013889861106872558, 'time_sample_batch': 0.000605273962020874, 'time_algorithm_update': 0.10502592968940735, 'temp_loss': 186625110.648, 'temp': 164264618.16, 'critic_loss': 4.614585602732122e+17, 'actor_loss': 246194452.432, 'time_step': 0.10855993866920471, 'rollout_return': 14.26056338028169, 'evaluation': 12.7} step=55000\n",
      "2022-11-24 06:29.49 [info     ] Model parameters are saved to d3rlpy_logs/SAC_online_20221124041300/model_56000.pt\n",
      "2022-11-24 06:29.49 [info     ] SAC_online_20221124041300: epoch=56 step=56000 epoch=56 metrics={'time_inference': 0.001376857280731201, 'time_environment_step': 0.0012440204620361329, 'time_sample_batch': 0.0006073193550109864, 'time_algorithm_update': 0.09804145455360412, 'temp_loss': 202107801.856, 'temp': 124422173.504, 'critic_loss': 4.842734324637342e+16, 'actor_loss': 138237305.072, 'time_step': 0.10142662215232849, 'rollout_return': 14.732394366197184, 'evaluation': 15.2} step=56000\n",
      "2022-11-24 06:31.30 [info     ] Model parameters are saved to d3rlpy_logs/SAC_online_20221124041300/model_57000.pt\n",
      "2022-11-24 06:31.30 [info     ] SAC_online_20221124041300: epoch=57 step=57000 epoch=57 metrics={'time_inference': 0.001381474733352661, 'time_environment_step': 0.0012974803447723389, 'time_sample_batch': 0.0006628408432006836, 'time_algorithm_update': 0.09725346541404724, 'temp_loss': 158359814.32, 'temp': 97032453.968, 'critic_loss': 3.03146098736591e+16, 'actor_loss': 109579595.192, 'time_step': 0.10069685125350952, 'rollout_return': 14.535211267605634, 'evaluation': 13.9} step=57000\n",
      "2022-11-24 06:32.01 [info     ] Model parameters are saved to d3rlpy_logs/SAC_online_20221124041300/model_58000.pt\n",
      "2022-11-24 06:32.01 [info     ] SAC_online_20221124041300: epoch=58 step=58000 epoch=58 metrics={'time_inference': 0.0010926904678344727, 'time_environment_step': 0.0012192106246948242, 'time_sample_batch': 0.00048490524291992186, 'time_algorithm_update': 0.027296679735183717, 'temp_loss': 125568016.48, 'temp': 76733224.192, 'critic_loss': 2.1156765972450772e+16, 'actor_loss': 82100478.056, 'time_step': 0.030212193489074706, 'rollout_return': 14.380281690140846, 'evaluation': 15.4} step=58000\n",
      "2022-11-24 06:33.42 [info     ] Model parameters are saved to d3rlpy_logs/SAC_online_20221124041300/model_59000.pt\n",
      "2022-11-24 06:33.43 [info     ] SAC_online_20221124041300: epoch=59 step=59000 epoch=59 metrics={'time_inference': 0.0013535735607147217, 'time_environment_step': 0.0014157655239105224, 'time_sample_batch': 0.0006285946369171142, 'time_algorithm_update': 0.09719872403144836, 'temp_loss': 99315094.76, 'temp': 61118156.78, 'critic_loss': 1.6671422606083096e+16, 'actor_loss': 55435246.976, 'time_step': 0.10074771666526794, 'rollout_return': 14.69718309859155, 'evaluation': 13.8} step=59000\n",
      "2022-11-24 06:35.27 [info     ] Model parameters are saved to d3rlpy_logs/SAC_online_20221124041300/model_60000.pt\n",
      "2022-11-24 06:35.27 [info     ] SAC_online_20221124041300: epoch=60 step=60000 epoch=60 metrics={'time_inference': 0.0014047467708587647, 'time_environment_step': 0.0014371120929718019, 'time_sample_batch': 0.0005528945922851562, 'time_algorithm_update': 0.09999878239631653, 'temp_loss': 79598531.788, 'temp': 48791123.928, 'critic_loss': 1.4872821883136376e+16, 'actor_loss': 29062059.370125, 'time_step': 0.1035166642665863, 'rollout_return': 14.767605633802816, 'evaluation': 16.2} step=60000\n",
      "2022-11-24 06:37.17 [info     ] Model parameters are saved to d3rlpy_logs/SAC_online_20221124041300/model_61000.pt\n",
      "2022-11-24 06:37.17 [info     ] SAC_online_20221124041300: epoch=61 step=61000 epoch=61 metrics={'time_inference': 0.0012519774436950684, 'time_environment_step': 0.0013105669021606446, 'time_sample_batch': 0.0005491681098937989, 'time_algorithm_update': 0.10636999273300171, 'temp_loss': 64378515.176, 'temp': 38919760.284, 'critic_loss': 1.3065116388941628e+16, 'actor_loss': 5647827.015070313, 'time_step': 0.10960324096679687, 'rollout_return': 14.084507042253522, 'evaluation': 14.1} step=61000\n",
      "2022-11-24 06:39.08 [info     ] Model parameters are saved to d3rlpy_logs/SAC_online_20221124041300/model_62000.pt\n",
      "2022-11-24 06:39.08 [info     ] SAC_online_20221124041300: epoch=62 step=62000 epoch=62 metrics={'time_inference': 0.0013730058670043946, 'time_environment_step': 0.0014572181701660155, 'time_sample_batch': 0.0005672743320465088, 'time_algorithm_update': 0.10652266955375671, 'temp_loss': 51312041.112, 'temp': 31060736.53, 'critic_loss': 1.15224002880319e+16, 'actor_loss': -12570333.591375, 'time_step': 0.11004923987388611, 'rollout_return': 13.985915492957746, 'evaluation': 12.3} step=62000\n",
      "2022-11-24 06:41.12 [info     ] Model parameters are saved to d3rlpy_logs/SAC_online_20221124041300/model_63000.pt\n",
      "2022-11-24 06:41.12 [info     ] SAC_online_20221124041300: epoch=63 step=63000 epoch=63 metrics={'time_inference': 0.0011784443855285644, 'time_environment_step': 0.0013984336853027344, 'time_sample_batch': 0.0005563914775848389, 'time_algorithm_update': 0.11958227467536926, 'temp_loss': 40919135.802, 'temp': 24824838.594, 'critic_loss': 9105167548420194.0, 'actor_loss': -24667694.171, 'time_step': 0.12283372497558594, 'rollout_return': 14.753521126760564, 'evaluation': 13.2} step=63000\n",
      "2022-11-24 06:42.52 [info     ] Model parameters are saved to d3rlpy_logs/SAC_online_20221124041300/model_64000.pt\n",
      "2022-11-24 06:42.53 [info     ] SAC_online_20221124041300: epoch=64 step=64000 epoch=64 metrics={'time_inference': 0.0013755302429199218, 'time_environment_step': 0.0013786301612854004, 'time_sample_batch': 0.0005573983192443848, 'time_algorithm_update': 0.09600291466712951, 'temp_loss': 32687545.512, 'temp': 19853156.684, 'critic_loss': 6295541276792062.0, 'actor_loss': -31979341.594, 'time_step': 0.09945561909675599, 'rollout_return': 14.274647887323944, 'evaluation': 15.5} step=64000\n",
      "2022-11-24 06:44.41 [info     ] Model parameters are saved to d3rlpy_logs/SAC_online_20221124041300/model_65000.pt\n",
      "2022-11-24 06:44.41 [info     ] SAC_online_20221124041300: epoch=65 step=65000 epoch=65 metrics={'time_inference': 0.0013323557376861573, 'time_environment_step': 0.001367769479751587, 'time_sample_batch': 0.0005854644775390625, 'time_algorithm_update': 0.10393498611450196, 'temp_loss': 26212373.232, 'temp': 15875020.888, 'critic_loss': 3986183409016766.5, 'actor_loss': -37190356.562, 'time_step': 0.10733664655685425, 'rollout_return': 14.408450704225352, 'evaluation': 13.9} step=65000\n",
      "2022-11-24 06:46.42 [info     ] Model parameters are saved to d3rlpy_logs/SAC_online_20221124041300/model_66000.pt\n",
      "2022-11-24 06:46.42 [info     ] SAC_online_20221124041300: epoch=66 step=66000 epoch=66 metrics={'time_inference': 0.001367778778076172, 'time_environment_step': 0.001484231948852539, 'time_sample_batch': 0.0005953457355499268, 'time_algorithm_update': 0.11648163890838623, 'temp_loss': 20946249.186, 'temp': 12692593.738, 'critic_loss': 2421483853681000.5, 'actor_loss': -37659430.21, 'time_step': 0.1200939245223999, 'rollout_return': 14.0, 'evaluation': 13.9} step=66000\n",
      "2022-11-24 06:48.50 [info     ] Model parameters are saved to d3rlpy_logs/SAC_online_20221124041300/model_67000.pt\n",
      "2022-11-24 06:48.50 [info     ] SAC_online_20221124041300: epoch=67 step=67000 epoch=67 metrics={'time_inference': 0.0012792360782623291, 'time_environment_step': 0.0014655461311340332, 'time_sample_batch': 0.0005660469532012939, 'time_algorithm_update': 0.12369824886322021, 'temp_loss': 16783726.501, 'temp': 10145960.057, 'critic_loss': 1110197916275834.9, 'actor_loss': -33118379.448, 'time_step': 0.12719528603553773, 'rollout_return': 14.309859154929578, 'evaluation': 16.2} step=67000\n",
      "2022-11-24 06:50.58 [info     ] Model parameters are saved to d3rlpy_logs/SAC_online_20221124041300/model_68000.pt\n",
      "2022-11-24 06:50.58 [info     ] SAC_online_20221124041300: epoch=68 step=68000 epoch=68 metrics={'time_inference': 0.0012586610317230225, 'time_environment_step': 0.0014495065212249757, 'time_sample_batch': 0.0005949430465698242, 'time_algorithm_update': 0.12330967617034912, 'temp_loss': 13374195.46, 'temp': 8116253.344, 'critic_loss': 413821226490789.9, 'actor_loss': -24655842.584, 'time_step': 0.12677464413642883, 'rollout_return': 14.288732394366198, 'evaluation': 16.3} step=68000\n",
      "2022-11-24 06:53.01 [info     ] Model parameters are saved to d3rlpy_logs/SAC_online_20221124041300/model_69000.pt\n",
      "2022-11-24 06:53.01 [info     ] SAC_online_20221124041300: epoch=69 step=69000 epoch=69 metrics={'time_inference': 0.0013105952739715576, 'time_environment_step': 0.0014546403884887695, 'time_sample_batch': 0.0004923930168151856, 'time_algorithm_update': 0.11922110104560853, 'temp_loss': 10731644.506, 'temp': 6487444.0695, 'critic_loss': 126233996269977.6, 'actor_loss': -16013014.021, 'time_step': 0.12260980629920959, 'rollout_return': 14.330985915492958, 'evaluation': 13.6} step=69000\n",
      "2022-11-24 06:54.51 [info     ] Model parameters are saved to d3rlpy_logs/SAC_online_20221124041300/model_70000.pt\n",
      "2022-11-24 06:54.51 [info     ] SAC_online_20221124041300: epoch=70 step=70000 epoch=70 metrics={'time_inference': 0.0011633224487304689, 'time_environment_step': 0.0013978369235992433, 'time_sample_batch': 0.0005270485877990722, 'time_algorithm_update': 0.10550073480606079, 'temp_loss': 8556698.4815, 'temp': 5188735.588, 'critic_loss': 56298299965046.78, 'actor_loss': -10049327.6465, 'time_step': 0.1087396776676178, 'rollout_return': 14.32394366197183, 'evaluation': 14.1} step=70000\n",
      "2022-11-24 06:57.03 [info     ] Model parameters are saved to d3rlpy_logs/SAC_online_20221124041300/model_71000.pt\n",
      "2022-11-24 06:57.03 [info     ] SAC_online_20221124041300: epoch=71 step=71000 epoch=71 metrics={'time_inference': 0.0012909631729125977, 'time_environment_step': 0.0013047652244567872, 'time_sample_batch': 0.0006180601119995117, 'time_algorithm_update': 0.1280037066936493, 'temp_loss': 6861794.6105, 'temp': 4149222.75525, 'critic_loss': 38155268732747.77, 'actor_loss': -7297052.7805, 'time_step': 0.13134043502807619, 'rollout_return': 14.288732394366198, 'evaluation': 15.2} step=71000\n",
      "2022-11-24 07:04.30 [info     ] Model parameters are saved to d3rlpy_logs/SAC_online_20221124041300/model_72000.pt\n",
      "2022-11-24 07:04.30 [info     ] SAC_online_20221124041300: epoch=72 step=72000 epoch=72 metrics={'time_inference': 0.0016219973564147948, 'time_environment_step': 0.0018698136806488037, 'time_sample_batch': 0.0007028355598449707, 'time_algorithm_update': 0.4409346766471863, 'temp_loss': 5498979.233, 'temp': 3316663.9605, 'critic_loss': 24624113148493.824, 'actor_loss': -5671149.0455, 'time_step': 0.44524468874931333, 'rollout_return': 14.54225352112676, 'evaluation': 15.4} step=72000\n",
      "2022-11-24 07:06.33 [info     ] Model parameters are saved to d3rlpy_logs/SAC_online_20221124041300/model_73000.pt\n",
      "2022-11-24 07:06.33 [info     ] SAC_online_20221124041300: epoch=73 step=73000 epoch=73 metrics={'time_inference': 0.001279357671737671, 'time_environment_step': 0.0014104483127593995, 'time_sample_batch': 0.0006252460479736329, 'time_algorithm_update': 0.11892176103591919, 'temp_loss': 4377145.20425, 'temp': 2652679.41725, 'critic_loss': 15147880564129.793, 'actor_loss': -4457276.1415, 'time_step': 0.12236347579956054, 'rollout_return': 14.161971830985916, 'evaluation': 14.2} step=73000\n",
      "2022-11-24 07:08.23 [info     ] Model parameters are saved to d3rlpy_logs/SAC_online_20221124041300/model_74000.pt\n",
      "2022-11-24 07:08.23 [info     ] SAC_online_20221124041300: epoch=74 step=74000 epoch=74 metrics={'time_inference': 0.0012704999446868897, 'time_environment_step': 0.001344801902770996, 'time_sample_batch': 0.0005702307224273682, 'time_algorithm_update': 0.10564036130905151, 'temp_loss': 3503783.95875, 'temp': 2121162.061, 'critic_loss': 9390824748482.56, 'actor_loss': -3553498.2635, 'time_step': 0.1089358057975769, 'rollout_return': 14.429577464788732, 'evaluation': 15.8} step=74000\n",
      "2022-11-24 07:10.05 [info     ] Model parameters are saved to d3rlpy_logs/SAC_online_20221124041300/model_75000.pt\n",
      "2022-11-24 07:10.05 [info     ] SAC_online_20221124041300: epoch=75 step=75000 epoch=75 metrics={'time_inference': 0.001173424243927002, 'time_environment_step': 0.0014170770645141602, 'time_sample_batch': 0.0005830297470092773, 'time_algorithm_update': 0.09724934124946594, 'temp_loss': 2805714.4835, 'temp': 1696182.605625, 'critic_loss': 5871296112492.544, 'actor_loss': -2936286.72, 'time_step': 0.10052764773368836, 'rollout_return': 14.330985915492958, 'evaluation': 14.0} step=75000\n",
      "2022-11-24 07:12.36 [info     ] Model parameters are saved to d3rlpy_logs/SAC_online_20221124041300/model_76000.pt\n",
      "2022-11-24 07:12.36 [info     ] SAC_online_20221124041300: epoch=76 step=76000 epoch=76 metrics={'time_inference': 0.0012205829620361328, 'time_environment_step': 0.0013636162281036378, 'time_sample_batch': 0.0006934027671813965, 'time_algorithm_update': 0.14710219478607178, 'temp_loss': 2241504.044625, 'temp': 1356225.99875, 'critic_loss': 3518021842501.632, 'actor_loss': -2428681.043875, 'time_step': 0.15053440403938292, 'rollout_return': 14.17605633802817, 'evaluation': 15.5} step=76000\n",
      "2022-11-24 07:14.40 [info     ] Model parameters are saved to d3rlpy_logs/SAC_online_20221124041300/model_77000.pt\n",
      "2022-11-24 07:14.40 [info     ] SAC_online_20221124041300: epoch=77 step=77000 epoch=77 metrics={'time_inference': 0.001238433837890625, 'time_environment_step': 0.0013213529586791992, 'time_sample_batch': 0.000608173131942749, 'time_algorithm_update': 0.11935753750801087, 'temp_loss': 1796582.506625, 'temp': 1084552.097375, 'critic_loss': 2082172197535.744, 'actor_loss': -1993100.907625, 'time_step': 0.12266350793838501, 'rollout_return': 14.380281690140846, 'evaluation': 14.3} step=77000\n",
      "2022-11-24 07:17.27 [info     ] Model parameters are saved to d3rlpy_logs/SAC_online_20221124041300/model_78000.pt\n",
      "2022-11-24 07:17.27 [info     ] SAC_online_20221124041300: epoch=78 step=78000 epoch=78 metrics={'time_inference': 0.001260648012161255, 'time_environment_step': 0.001559556007385254, 'time_sample_batch': 0.0006120176315307617, 'time_algorithm_update': 0.16204058289527892, 'temp_loss': 1432542.197625, 'temp': 867329.821625, 'critic_loss': 1264864120668.16, 'actor_loss': -1536143.178625, 'time_step': 0.16565176677703858, 'rollout_return': 14.267605633802816, 'evaluation': 13.5} step=78000\n",
      "2022-11-24 07:19.31 [info     ] Model parameters are saved to d3rlpy_logs/SAC_online_20221124041300/model_79000.pt\n",
      "2022-11-24 07:19.31 [info     ] SAC_online_20221124041300: epoch=79 step=79000 epoch=79 metrics={'time_inference': 0.0012462897300720215, 'time_environment_step': 0.0014407613277435303, 'time_sample_batch': 0.0006901538372039795, 'time_algorithm_update': 0.12009806299209595, 'temp_loss': 1144535.28, 'temp': 693549.8469375, 'critic_loss': 747583937085.44, 'actor_loss': -1161003.063375, 'time_step': 0.12361411809921265, 'rollout_return': 13.971830985915492, 'evaluation': 15.1} step=79000\n",
      "2022-11-24 07:24.56 [info     ] Model parameters are saved to d3rlpy_logs/SAC_online_20221124041300/model_80000.pt\n",
      "2022-11-24 07:24.56 [info     ] SAC_online_20221124041300: epoch=80 step=80000 epoch=80 metrics={'time_inference': 0.0013659088611602784, 'time_environment_step': 0.0015362923145294189, 'time_sample_batch': 0.0006306548118591308, 'time_algorithm_update': 0.31997405862808226, 'temp_loss': 917855.8205, 'temp': 554838.81859375, 'critic_loss': 420269540442.112, 'actor_loss': -897375.27925, 'time_step': 0.32374283266067505, 'rollout_return': 14.464788732394366, 'evaluation': 16.0} step=80000\n",
      "2022-11-24 07:30.55 [info     ] Model parameters are saved to d3rlpy_logs/SAC_online_20221124041300/model_81000.pt\n",
      "2022-11-24 07:30.55 [info     ] SAC_online_20221124041300: epoch=81 step=81000 epoch=81 metrics={'time_inference': 0.0017866406440734863, 'time_environment_step': 0.001521683692932129, 'time_sample_batch': 0.0005942275524139405, 'time_algorithm_update': 0.3536808135509491, 'temp_loss': 733313.5580625, 'temp': 443639.05328125, 'critic_loss': 235813672812.544, 'actor_loss': -714655.59225, 'time_step': 0.35775065517425536, 'rollout_return': 14.330985915492958, 'evaluation': 14.7} step=81000\n",
      "2022-11-24 07:32.34 [info     ] Model parameters are saved to d3rlpy_logs/SAC_online_20221124041300/model_82000.pt\n",
      "2022-11-24 07:32.34 [info     ] SAC_online_20221124041300: epoch=82 step=82000 epoch=82 metrics={'time_inference': 0.001121511697769165, 'time_environment_step': 0.0012983510494232178, 'time_sample_batch': 0.0005935583114624023, 'time_algorithm_update': 0.0947901840209961, 'temp_loss': 585426.08990625, 'temp': 354756.0824375, 'critic_loss': 133596114198.528, 'actor_loss': -588005.95728125, 'time_step': 0.09794669771194459, 'rollout_return': 14.549295774647888, 'evaluation': 14.2} step=82000\n",
      "2022-11-24 07:34.31 [info     ] Model parameters are saved to d3rlpy_logs/SAC_online_20221124041300/model_83000.pt\n",
      "2022-11-24 07:34.32 [info     ] SAC_online_20221124041300: epoch=83 step=83000 epoch=83 metrics={'time_inference': 0.0010791826248168945, 'time_environment_step': 0.001355424404144287, 'time_sample_batch': 0.0005358765125274658, 'time_algorithm_update': 0.11347180438041687, 'temp_loss': 465690.083703125, 'temp': 283878.8941875, 'critic_loss': 81300124954.624, 'actor_loss': -494019.978121582, 'time_step': 0.1165825138092041, 'rollout_return': 14.422535211267606, 'evaluation': 14.0} step=83000\n",
      "2022-11-24 07:36.20 [info     ] Model parameters are saved to d3rlpy_logs/SAC_online_20221124041300/model_84000.pt\n",
      "2022-11-24 07:36.20 [info     ] SAC_online_20221124041300: epoch=84 step=84000 epoch=84 metrics={'time_inference': 0.001258469581604004, 'time_environment_step': 0.0012804386615753174, 'time_sample_batch': 0.0005733935832977295, 'time_algorithm_update': 0.1045267951488495, 'temp_loss': 374300.06009375, 'temp': 227106.93503125, 'critic_loss': 47227183493.12, 'actor_loss': -427841.2163125, 'time_step': 0.10776364970207214, 'rollout_return': 14.161971830985916, 'evaluation': 14.8} step=84000\n",
      "2022-11-24 07:38.09 [info     ] Model parameters are saved to d3rlpy_logs/SAC_online_20221124041300/model_85000.pt\n",
      "2022-11-24 07:38.09 [info     ] SAC_online_20221124041300: epoch=85 step=85000 epoch=85 metrics={'time_inference': 0.001295492172241211, 'time_environment_step': 0.001450326681137085, 'time_sample_batch': 0.00048786473274230955, 'time_algorithm_update': 0.10445306301116944, 'temp_loss': 299556.025, 'temp': 181628.814875, 'critic_loss': 31482314291.2, 'actor_loss': -353119.911875, 'time_step': 0.10786261653900146, 'rollout_return': 14.56338028169014, 'evaluation': 14.1} step=85000\n",
      "2022-11-24 07:40.02 [info     ] Model parameters are saved to d3rlpy_logs/SAC_online_20221124041300/model_86000.pt\n",
      "2022-11-24 07:40.02 [info     ] SAC_online_20221124041300: epoch=86 step=86000 epoch=86 metrics={'time_inference': 0.0012607696056365968, 'time_environment_step': 0.0013335628509521485, 'time_sample_batch': 0.0004983270168304444, 'time_algorithm_update': 0.10885875058174134, 'temp_loss': 238871.729296875, 'temp': 145227.0874765625, 'critic_loss': 21795499675.648, 'actor_loss': -280707.186984375, 'time_step': 0.11208329439163207, 'rollout_return': 14.295774647887324, 'evaluation': 14.5} step=86000\n",
      "2022-11-24 07:42.09 [info     ] Model parameters are saved to d3rlpy_logs/SAC_online_20221124041300/model_87000.pt\n",
      "2022-11-24 07:42.09 [info     ] SAC_online_20221124041300: epoch=87 step=87000 epoch=87 metrics={'time_inference': 0.0012257072925567626, 'time_environment_step': 0.0013993840217590332, 'time_sample_batch': 0.0006291334629058838, 'time_algorithm_update': 0.12256457376480102, 'temp_loss': 191227.44428125, 'temp': 116171.168046875, 'critic_loss': 14922989046.784, 'actor_loss': -219001.1149375, 'time_step': 0.1259754409790039, 'rollout_return': 14.23943661971831, 'evaluation': 16.6} step=87000\n",
      "2022-11-24 07:44.03 [info     ] Model parameters are saved to d3rlpy_logs/SAC_online_20221124041300/model_88000.pt\n",
      "2022-11-24 07:44.03 [info     ] SAC_online_20221124041300: epoch=88 step=88000 epoch=88 metrics={'time_inference': 0.0012506756782531738, 'time_environment_step': 0.0012808246612548827, 'time_sample_batch': 0.0005541942119598388, 'time_algorithm_update': 0.11010633111000061, 'temp_loss': 152481.421640625, 'temp': 92940.23446875, 'critic_loss': 10785840023.04, 'actor_loss': -168217.8163828125, 'time_step': 0.1133289897441864, 'rollout_return': 13.97887323943662, 'evaluation': 14.5} step=88000\n",
      "2022-11-24 07:45.54 [info     ] Model parameters are saved to d3rlpy_logs/SAC_online_20221124041300/model_89000.pt\n",
      "2022-11-24 07:45.54 [info     ] SAC_online_20221124041300: epoch=89 step=89000 epoch=89 metrics={'time_inference': 0.0013786656856536864, 'time_environment_step': 0.0013574185371398927, 'time_sample_batch': 0.0006385869979858398, 'time_algorithm_update': 0.10644552636146545, 'temp_loss': 122315.5622265625, 'temp': 74311.9970234375, 'critic_loss': 7343071796.736, 'actor_loss': -130402.320609375, 'time_step': 0.10999331259727478, 'rollout_return': 14.056338028169014, 'evaluation': 15.1} step=89000\n",
      "2022-11-24 07:47.34 [info     ] Model parameters are saved to d3rlpy_logs/SAC_online_20221124041300/model_90000.pt\n",
      "2022-11-24 07:47.34 [info     ] SAC_online_20221124041300: epoch=90 step=90000 epoch=90 metrics={'time_inference': 0.0011916239261627198, 'time_environment_step': 0.0013589298725128175, 'time_sample_batch': 0.0006692042350769043, 'time_algorithm_update': 0.0956092505455017, 'temp_loss': 97523.24202734375, 'temp': 59440.107640625, 'critic_loss': 5014904176.896, 'actor_loss': -99404.51668945313, 'time_step': 0.09897959804534912, 'rollout_return': 14.190140845070422, 'evaluation': 12.4} step=90000\n",
      "2022-11-24 07:49.17 [info     ] Model parameters are saved to d3rlpy_logs/SAC_online_20221124041300/model_91000.pt\n",
      "2022-11-24 07:49.17 [info     ] SAC_online_20221124041300: epoch=91 step=91000 epoch=91 metrics={'time_inference': 0.0014637770652770996, 'time_environment_step': 0.0012874014377593993, 'time_sample_batch': 0.0005800948143005371, 'time_algorithm_update': 0.09909502911567689, 'temp_loss': 78049.8011484375, 'temp': 47537.6583203125, 'critic_loss': 3209994259.072, 'actor_loss': -76381.67487109375, 'time_step': 0.10255617427825928, 'rollout_return': 13.753521126760564, 'evaluation': 15.2} step=91000\n",
      "2022-11-24 07:50.56 [info     ] Model parameters are saved to d3rlpy_logs/SAC_online_20221124041300/model_92000.pt\n",
      "2022-11-24 07:50.56 [info     ] SAC_online_20221124041300: epoch=92 step=92000 epoch=92 metrics={'time_inference': 0.0013051877021789551, 'time_environment_step': 0.0013678104877471924, 'time_sample_batch': 0.0005595357418060302, 'time_algorithm_update': 0.09442586040496827, 'temp_loss': 62276.2172890625, 'temp': 38024.22440625, 'critic_loss': 2014461364.352, 'actor_loss': -57590.9367578125, 'time_step': 0.09777741742134094, 'rollout_return': 14.366197183098592, 'evaluation': 14.1} step=92000\n",
      "2022-11-24 07:52.49 [info     ] Model parameters are saved to d3rlpy_logs/SAC_online_20221124041300/model_93000.pt\n",
      "2022-11-24 07:52.49 [info     ] SAC_online_20221124041300: epoch=93 step=93000 epoch=93 metrics={'time_inference': 0.001271319627761841, 'time_environment_step': 0.0013267436027526855, 'time_sample_batch': 0.0005385596752166748, 'time_algorithm_update': 0.10886501479148865, 'temp_loss': 49915.588515625, 'temp': 30413.640826171875, 'critic_loss': 1226658796.352, 'actor_loss': -43659.91143554688, 'time_step': 0.11214581608772278, 'rollout_return': 14.429577464788732, 'evaluation': 13.2} step=93000\n",
      "2022-11-24 07:54.38 [info     ] Model parameters are saved to d3rlpy_logs/SAC_online_20221124041300/model_94000.pt\n",
      "2022-11-24 07:54.38 [info     ] SAC_online_20221124041300: epoch=94 step=94000 epoch=94 metrics={'time_inference': 0.0012333872318267822, 'time_environment_step': 0.0013086123466491699, 'time_sample_batch': 0.0005341289043426514, 'time_algorithm_update': 0.10483267211914063, 'temp_loss': 39991.19496484375, 'temp': 24316.372181640625, 'critic_loss': 768625714.304, 'actor_loss': -32492.324541015623, 'time_step': 0.10801232600212098, 'rollout_return': 14.5, 'evaluation': 12.7} step=94000\n",
      "2022-11-24 07:56.21 [info     ] Model parameters are saved to d3rlpy_logs/SAC_online_20221124041300/model_95000.pt\n",
      "2022-11-24 07:56.21 [info     ] SAC_online_20221124041300: epoch=95 step=95000 epoch=95 metrics={'time_inference': 0.0012465131282806397, 'time_environment_step': 0.0012689580917358398, 'time_sample_batch': 0.0005006711483001709, 'time_algorithm_update': 0.099072518825531, 'temp_loss': 31995.778435546876, 'temp': 19436.453162109374, 'critic_loss': 535100347.552, 'actor_loss': -23708.92233331299, 'time_step': 0.10224871039390564, 'rollout_return': 14.67605633802817, 'evaluation': 13.4} step=95000\n",
      "2022-11-24 07:58.46 [info     ] Model parameters are saved to d3rlpy_logs/SAC_online_20221124041300/model_96000.pt\n",
      "2022-11-24 07:58.46 [info     ] SAC_online_20221124041300: epoch=96 step=96000 epoch=96 metrics={'time_inference': 0.0016676836013793945, 'time_environment_step': 0.0017694857120513917, 'time_sample_batch': 0.000683931589126587, 'time_algorithm_update': 0.13939832544326783, 'temp_loss': 25628.242447265624, 'temp': 15535.723752929687, 'critic_loss': 397833828.08, 'actor_loss': -17565.07669189453, 'time_step': 0.14367754554748535, 'rollout_return': 14.084507042253522, 'evaluation': 13.9} step=96000\n",
      "2022-11-24 08:01.11 [info     ] Model parameters are saved to d3rlpy_logs/SAC_online_20221124041300/model_97000.pt\n",
      "2022-11-24 08:01.11 [info     ] SAC_online_20221124041300: epoch=97 step=97000 epoch=97 metrics={'time_inference': 0.0015139267444610595, 'time_environment_step': 0.0016974358558654785, 'time_sample_batch': 0.0006286158561706543, 'time_algorithm_update': 0.13992733216285705, 'temp_loss': 20512.953638671876, 'temp': 12420.902624023438, 'critic_loss': 332841611.312, 'actor_loss': -12779.319528076172, 'time_step': 0.14392299509048462, 'rollout_return': 14.225352112676056, 'evaluation': 14.9} step=97000\n",
      "2022-11-24 08:02.13 [info     ] Model parameters are saved to d3rlpy_logs/SAC_online_20221124041300/model_98000.pt\n",
      "2022-11-24 08:02.13 [info     ] SAC_online_20221124041300: epoch=98 step=98000 epoch=98 metrics={'time_inference': 0.001229656457901001, 'time_environment_step': 0.001446221113204956, 'time_sample_batch': 0.0005848762989044189, 'time_algorithm_update': 0.05811988663673401, 'temp_loss': 16420.17086328125, 'temp': 9926.451524414062, 'critic_loss': 284290238.112, 'actor_loss': -9168.07989565277, 'time_step': 0.061505258560180666, 'rollout_return': 14.535211267605634, 'evaluation': 15.0} step=98000\n",
      "2022-11-24 08:04.23 [info     ] Model parameters are saved to d3rlpy_logs/SAC_online_20221124041300/model_99000.pt\n",
      "2022-11-24 08:04.23 [info     ] SAC_online_20221124041300: epoch=99 step=99000 epoch=99 metrics={'time_inference': 0.0014076714515686036, 'time_environment_step': 0.0016302852630615235, 'time_sample_batch': 0.0006727075576782226, 'time_algorithm_update': 0.12502499961853028, 'temp_loss': 13149.107790039063, 'temp': 7934.243026855469, 'critic_loss': 236717363.264, 'actor_loss': -6453.06232258606, 'time_step': 0.12890137457847595, 'rollout_return': 14.316901408450704, 'evaluation': 13.1} step=99000\n",
      "2022-11-24 08:06.38 [info     ] Model parameters are saved to d3rlpy_logs/SAC_online_20221124041300/model_100000.pt\n",
      "2022-11-24 08:06.38 [info     ] SAC_online_20221124041300: epoch=100 step=100000 epoch=100 metrics={'time_inference': 0.0014486303329467774, 'time_environment_step': 0.001582465648651123, 'time_sample_batch': 0.0006248469352722167, 'time_algorithm_update': 0.12988065218925476, 'temp_loss': 10452.174977539062, 'temp': 6346.505860839844, 'critic_loss': 219317200.368, 'actor_loss': -3701.189582878113, 'time_step': 0.13374921011924742, 'rollout_return': 14.366197183098592, 'evaluation': 14.7} step=100000\n"
     ]
    }
   ],
   "source": [
    "# start training\n",
    "# skip if there is a pre-trained model\n",
    "sac.fit_online(\n",
    "    env_,\n",
    "    buffer,\n",
    "    eval_env=env_,\n",
    "    n_steps=100000,\n",
    "    n_steps_per_epoch=1000,\n",
    "    update_start_step=1000,\n",
    ")"
   ]
  },
  {
   "cell_type": "code",
   "execution_count": 17,
   "metadata": {},
   "outputs": [],
   "source": [
    "# save model\n",
    "sac.save_model(\"d3rlpy_logs/sac.pt\")"
   ]
  },
  {
   "cell_type": "code",
   "execution_count": 17,
   "metadata": {},
   "outputs": [],
   "source": [
    "# reload model\n",
    "sac.build_with_env(env_)\n",
    "sac.load_model(\"d3rlpy_logs/sac.pt\")"
   ]
  },
  {
   "cell_type": "code",
   "execution_count": 18,
   "metadata": {},
   "outputs": [
    {
     "data": {
      "text/plain": [
       "Text(0, 0.5, 'episode reward')"
      ]
     },
     "execution_count": 18,
     "metadata": {},
     "output_type": "execute_result"
    },
    {
     "data": {
      "image/png": "[encoded data removed]",
      "text/plain": [
       "<Figure size 432x288 with 1 Axes>"
      ]
     },
     "metadata": {
      "needs_background": "light"
     },
     "output_type": "display_data"
    }
   ],
   "source": [
    "# may need more interactions to converge\n",
    "log_path = sorted(glob(\"d3rlpy_logs/SAC_online_*/evaluation.csv\"))[-1]\n",
    "df = pd.read_csv(\n",
    "    log_path, \n",
    "    usecols=[1,2],\n",
    "    names=[\"train_episode\", \"episodic_rewards\"]\n",
    ")\n",
    "plt.plot(df[\"train_episode\"], df[\"episodic_rewards\"])\n",
    "plt.title(\"Learning curve of SAC\")\n",
    "plt.xlabel(\"episode\")\n",
    "plt.ylabel(\"episode reward\")"
   ]
  },
  {
   "cell_type": "code",
   "execution_count": 19,
   "metadata": {},
   "outputs": [],
   "source": [
    "random = ContinuousRandomPolicy(\n",
    "    action_scaler=MinMaxActionScaler(\n",
    "        minimum=env_.action_space.low,  # minimum value that policy can take\n",
    "        maximum=env_.action_space.high,  # maximum value that policy can take\n",
    "    )\n",
    ")"
   ]
  },
  {
   "cell_type": "code",
   "execution_count": 20,
   "metadata": {},
   "outputs": [
    {
     "data": {
      "application/vnd.jupyter.widget-view+json": {
       "model_id": "ba0586ca46b54a97ae126fa2fbc5b073",
       "version_major": 2,
       "version_minor": 0
      },
      "text/plain": [
       "[calculate on-policy policy value]:   0%|          | 0/100 [00:00<?, ?it/s]"
      ]
     },
     "metadata": {},
     "output_type": "display_data"
    },
    {
     "data": {
      "application/vnd.jupyter.widget-view+json": {
       "model_id": "b1519e0ea0d7421693ef711ad457c40d",
       "version_major": 2,
       "version_minor": 0
      },
      "text/plain": [
       "[calculate on-policy policy value]:   0%|          | 0/100 [00:00<?, ?it/s]"
      ]
     },
     "metadata": {},
     "output_type": "display_data"
    },
    {
     "data": {
      "image/png": "[encoded data removed]",
      "text/plain": [
       "<Figure size 288x288 with 1 Axes>"
      ]
     },
     "metadata": {},
     "output_type": "display_data"
    }
   ],
   "source": [
    "# compare the performance online\n",
    "visualize_on_policy_policy_value(\n",
    "    env=env,\n",
    "    policies=[sac, random],\n",
    "    policy_names=[\"sac\", \"random\"],\n",
    "    n_trajectories=100,\n",
    "    random_state=random_state,\n",
    ")"
   ]
  },
  {
   "cell_type": "code",
   "execution_count": 22,
   "metadata": {},
   "outputs": [
    {
     "data": {
      "application/vnd.jupyter.widget-view+json": {
       "model_id": "de96c5b4f451469ead0de5333cbfbd00",
       "version_major": 2,
       "version_minor": 0
      },
      "text/plain": [
       "[calculate on-policy policy value]:   0%|          | 0/100 [00:00<?, ?it/s]"
      ]
     },
     "metadata": {},
     "output_type": "display_data"
    },
    {
     "data": {
      "application/vnd.jupyter.widget-view+json": {
       "model_id": "2e790372590c44cd9949fa584f8ad6d2",
       "version_major": 2,
       "version_minor": 0
      },
      "text/plain": [
       "[calculate on-policy policy value]:   0%|          | 0/100 [00:00<?, ?it/s]"
      ]
     },
     "metadata": {},
     "output_type": "display_data"
    },
    {
     "name": "stdout",
     "output_type": "stream",
     "text": [
      "relative improvement: 0.0949720670391061\n"
     ]
    }
   ],
   "source": [
    "# on-policy policy value of the sac policy\n",
    "# slightly improves that of the random policy\n",
    "sac_performance = calc_on_policy_policy_value(env, sac, n_trajectories=100, random_state=random_state)\n",
    "random_performance = calc_on_policy_policy_value(env, random, n_trajectories=100, random_state=random_state)\n",
    "print(\"relative improvement:\", (sac_performance - random_performance) / random_performance)"
   ]
  },
  {
   "cell_type": "markdown",
   "metadata": {},
   "source": [
    "Note that, we provide the following functions for online evaluation of the policy performance under `ofrl.ope.online`.\n",
    "\n",
    "(Statistics)\n",
    "\n",
    "* `calc_on_policy_policy_value`\n",
    "* `calc_on_policy_policy_value_interval`\n",
    "* `calc_on_policy_variance`\n",
    "* `calc_on_policy_conditional_value_at_risk`\n",
    "* `calc_on_policy_policy_interquartile_range`\n",
    "* `calc_on_policy_cumulative_distribution_function`\n",
    "\n",
    "(Visualization)\n",
    "* `visualize_on_policy_policy_value`\n",
    "* `visualize_on_policy_policy_value_with_variance`\n",
    "* `visualize_on_policy_cumulative_distribution_function`\n",
    "* `visualize_on_policy_conditional_value_at_risk`\n",
    "* `visualize_on_policy_interquartile_range`"
   ]
  },
  {
   "cell_type": "markdown",
   "metadata": {},
   "source": [
    "## 1. Synthetic Dataset Generation\n",
    "In the previous section, we saw how we can interact with the environment *online* using a synthetic simulator.  \n",
    "Though simulation is a good starting point for training an agent, eventually we want to deploy our agent (or policy) in the real world environment.  \n",
    "However, online interaction may have potential risk of failure in real-world implementation.  \n",
    "Therefore, we introduce alternative learning protocol, Offline RL, which aims at training a new policy using only offline logged data.\n",
    "\n",
    "We prepare an easy-to-use synthetic dataset generator: `SyntheticDataset` class in the dataset module.  \n",
    "By regarding simulation environment as a hypothetical real-environment, we show how to conduct Offline RL leveraging logged data.  \n",
    "For detailed description of how to use real-world dataset, please see #TODO (will be implemented).\n",
    "\n",
    "`SyntheticDataset` has the following arguments:\n",
    "- `env`: RTB environment for RL defined in the previous section.\n",
    "- `behavior_policy`: RL agent (or algorithm) used for the data collection.\n",
    "- `maximum_step_per_episode`: Maximum number of timesteps in an episode.\n",
    "- `action_meaning`: Dictionary which maps discrete action index into specific actions.\n",
    "- `action_keys`: Name of the action variable at each dimension.\n",
    "- `state_keys`: Name of the state variable at each dimension.\n",
    "- `info_keys`: Dictionary containing of key and the type of info components.\n",
    "- `random_state`: Random state."
   ]
  },
  {
   "cell_type": "code",
   "execution_count": 23,
   "metadata": {},
   "outputs": [],
   "source": [
    "behavior_policy = ContinuousTruncatedGaussianHead(\n",
    "    sac, \n",
    "    minimum=env.action_space.low,\n",
    "    maximum=env.action_space.high,\n",
    "    sigma=np.array([1.0]),\n",
    "    name=\"sac_sigma_1.0\",\n",
    "    random_state=random_state,\n",
    ")"
   ]
  },
  {
   "cell_type": "code",
   "execution_count": 24,
   "metadata": {},
   "outputs": [],
   "source": [
    "# initialize dataset class\n",
    "dataset = SyntheticDataset(\n",
    "    env=env,\n",
    "    behavior_policy=behavior_policy,\n",
    "    state_keys=env.obs_keys,\n",
    "    max_episode_steps=env.step_per_episode,\n",
    "    info_keys={\n",
    "        \"search_volume\": int,\n",
    "        \"impression\": int,\n",
    "        \"click\": int,\n",
    "        \"conversion\": int,\n",
    "        \"average_bid_price\": float,\n",
    "    },\n",
    "    random_state=random_state,\n",
    ")"
   ]
  },
  {
   "cell_type": "code",
   "execution_count": 25,
   "metadata": {},
   "outputs": [
    {
     "data": {
      "application/vnd.jupyter.widget-view+json": {
       "model_id": "2d17bf93faed4b80a5c14647dd8f422b",
       "version_major": 2,
       "version_minor": 0
      },
      "text/plain": [
       "[obtain_trajectories]:   0%|          | 0/10000 [00:00<?, ?it/s]"
      ]
     },
     "metadata": {},
     "output_type": "display_data"
    }
   ],
   "source": [
    "# collect logged data by the behavior policy\n",
    "# skip if there is a preserved logged dataset\n",
    "logged_dataset = dataset.obtain_episodes(n_trajectories=10000, obtain_info=True)"
   ]
  },
  {
   "cell_type": "code",
   "execution_count": 26,
   "metadata": {},
   "outputs": [
    {
     "data": {
      "text/plain": [
       "{'size': 70000,\n",
       " 'n_trajectories': 10000,\n",
       " 'step_per_trajectory': 7,\n",
       " 'action_type': 'continuous',\n",
       " 'n_actions': None,\n",
       " 'action_dim': 1,\n",
       " 'action_meaning': None,\n",
       " 'action_keys': None,\n",
       " 'state_dim': 7,\n",
       " 'state_keys': ['timestep',\n",
       "  'remaining_budget',\n",
       "  'budget_consumption_rate',\n",
       "  'cost_per_mille_of_impression',\n",
       "  'winning_rate',\n",
       "  'reward',\n",
       "  'adjust_rate'],\n",
       " 'state': array([[0.00000000e+00, 3.00000000e+03, 9.44940540e-01, ...,\n",
       "         1.66114895e-01, 2.00000000e+00, 3.65503958e-01],\n",
       "        [1.00000000e+00, 1.79800000e+03, 4.00666667e-01, ...,\n",
       "         1.00000000e+00, 9.00000000e+00, 8.02510565e+00],\n",
       "        [2.00000000e+00, 1.25800000e+03, 3.00333704e-01, ...,\n",
       "         8.61538462e-01, 2.00000000e+00, 1.35563416e+00],\n",
       "        ...,\n",
       "        [4.00000000e+00, 6.00000000e+01, 8.17629179e-01, ...,\n",
       "         5.47263682e-01, 2.00000000e+00, 2.36520534e+00],\n",
       "        [5.00000000e+00, 2.00000000e+00, 9.66666667e-01, ...,\n",
       "         7.29166667e-02, 1.00000000e+00, 3.27225135e+00],\n",
       "        [6.00000000e+00, 2.00000000e+00, 0.00000000e+00, ...,\n",
       "         1.48514851e-02, 0.00000000e+00, 1.62619360e+00]]),\n",
       " 'action': array([[8.02510565],\n",
       "        [1.35563416],\n",
       "        [1.23446534],\n",
       "        ...,\n",
       "        [3.27225135],\n",
       "        [1.6261936 ],\n",
       "        [1.12568983]]),\n",
       " 'reward': array([9., 2., 2., ..., 1., 0., 0.]),\n",
       " 'done': array([0., 0., 0., ..., 0., 0., 1.]),\n",
       " 'terminal': array([0., 0., 0., ..., 0., 0., 1.]),\n",
       " 'info': {'search_volume': array([177, 195, 194, ..., 192, 202, 201]),\n",
       "  'impression': array([177, 168, 155, ...,  14,   3,   5]),\n",
       "  'click': array([22, 13, 11, ...,  2,  0,  0]),\n",
       "  'conversion': array([9, 2, 2, ..., 1, 0, 0]),\n",
       "  'average_bid_price': array([430.68926554,  71.31282051,  62.94845361, ..., 159.16666667,\n",
       "          77.81683168,  52.85572139])},\n",
       " 'pscore': array([[0.19535744],\n",
       "        [0.38285842],\n",
       "        [0.4674457 ],\n",
       "        ...,\n",
       "        [0.13273602],\n",
       "        [0.42275619],\n",
       "        [0.49009476]])}"
      ]
     },
     "execution_count": 26,
     "metadata": {},
     "output_type": "execute_result"
    }
   ],
   "source": [
    "logged_dataset"
   ]
  },
  {
   "cell_type": "code",
   "execution_count": 27,
   "metadata": {},
   "outputs": [],
   "source": [
    "with open(\"logs/dataset_continuous.pkl\", \"wb\") as f:\n",
    "    pickle.dump(logged_dataset, f)"
   ]
  },
  {
   "cell_type": "code",
   "execution_count": 28,
   "metadata": {},
   "outputs": [],
   "source": [
    "with open(\"logs/dataset_continuous.pkl\", \"rb\") as f:\n",
    "    logged_dataset = pickle.load(f)"
   ]
  },
  {
   "cell_type": "code",
   "execution_count": 30,
   "metadata": {},
   "outputs": [
    {
     "data": {
      "application/vnd.jupyter.widget-view+json": {
       "model_id": "3509a44a6e3c412299ba2d150e2ecf90",
       "version_major": 2,
       "version_minor": 0
      },
      "text/plain": [
       "[calculate on-policy policy value]:   0%|          | 0/100 [00:00<?, ?it/s]"
      ]
     },
     "metadata": {},
     "output_type": "display_data"
    },
    {
     "data": {
      "application/vnd.jupyter.widget-view+json": {
       "model_id": "83e22cc3f5ec4dd6b225d882446c73e1",
       "version_major": 2,
       "version_minor": 0
      },
      "text/plain": [
       "[calculate on-policy policy value]:   0%|          | 0/100 [00:00<?, ?it/s]"
      ]
     },
     "metadata": {},
     "output_type": "display_data"
    },
    {
     "data": {
      "application/vnd.jupyter.widget-view+json": {
       "model_id": "5387355860be4433a101004c3f6445b2",
       "version_major": 2,
       "version_minor": 0
      },
      "text/plain": [
       "[calculate on-policy policy value]:   0%|          | 0/100 [00:00<?, ?it/s]"
      ]
     },
     "metadata": {},
     "output_type": "display_data"
    },
    {
     "data": {
      "image/png": "[encoded data removed]",
      "text/plain": [
       "<Figure size 432x288 with 1 Axes>"
      ]
     },
     "metadata": {},
     "output_type": "display_data"
    }
   ],
   "source": [
    "# compare the policy performance online\n",
    "visualize_on_policy_policy_value(\n",
    "    env=env,\n",
    "    policies=[sac, behavior_policy, random],\n",
    "    policy_names=[\"sac\", \"sac (sigma=1.0)\", \"random\"],\n",
    "    n_trajectories=100,\n",
    "    random_state=random_state,\n",
    ")"
   ]
  },
  {
   "cell_type": "code",
   "execution_count": 31,
   "metadata": {},
   "outputs": [
    {
     "data": {
      "text/html": [
       "<div>\n",
       "<style scoped>\n",
       "    .dataframe tbody tr th:only-of-type {\n",
       "        vertical-align: middle;\n",
       "    }\n",
       "\n",
       "    .dataframe tbody tr th {\n",
       "        vertical-align: top;\n",
       "    }\n",
       "\n",
       "    .dataframe thead th {\n",
       "        text-align: right;\n",
       "    }\n",
       "</style>\n",
       "<table border=\"1\" class=\"dataframe\">\n",
       "  <thead>\n",
       "    <tr style=\"text-align: right;\">\n",
       "      <th></th>\n",
       "      <th>adjust rate</th>\n",
       "      <th>average bid price</th>\n",
       "      <th>impression</th>\n",
       "      <th>click</th>\n",
       "      <th>conversion</th>\n",
       "      <th>winning rate</th>\n",
       "      <th>click / impression</th>\n",
       "      <th>conversion / click</th>\n",
       "    </tr>\n",
       "  </thead>\n",
       "  <tbody>\n",
       "    <tr>\n",
       "      <th>count</th>\n",
       "      <td>70000.000000</td>\n",
       "      <td>70000.000000</td>\n",
       "      <td>70000.000000</td>\n",
       "      <td>70000.000000</td>\n",
       "      <td>70000.000000</td>\n",
       "      <td>70000.000000</td>\n",
       "      <td>70000.000000</td>\n",
       "      <td>70000.000000</td>\n",
       "    </tr>\n",
       "    <tr>\n",
       "      <th>mean</th>\n",
       "      <td>3.194803</td>\n",
       "      <td>175.390779</td>\n",
       "      <td>89.097314</td>\n",
       "      <td>8.908414</td>\n",
       "      <td>2.230386</td>\n",
       "      <td>0.505120</td>\n",
       "      <td>0.074132</td>\n",
       "      <td>0.151308</td>\n",
       "    </tr>\n",
       "    <tr>\n",
       "      <th>std</th>\n",
       "      <td>3.501734</td>\n",
       "      <td>182.112056</td>\n",
       "      <td>84.502003</td>\n",
       "      <td>9.126745</td>\n",
       "      <td>3.048590</td>\n",
       "      <td>0.404500</td>\n",
       "      <td>0.078599</td>\n",
       "      <td>0.190146</td>\n",
       "    </tr>\n",
       "    <tr>\n",
       "      <th>min</th>\n",
       "      <td>0.000037</td>\n",
       "      <td>4.080000</td>\n",
       "      <td>0.000000</td>\n",
       "      <td>0.000000</td>\n",
       "      <td>0.000000</td>\n",
       "      <td>0.000000</td>\n",
       "      <td>0.000000</td>\n",
       "      <td>0.000000</td>\n",
       "    </tr>\n",
       "    <tr>\n",
       "      <th>25%</th>\n",
       "      <td>0.660007</td>\n",
       "      <td>38.935459</td>\n",
       "      <td>6.000000</td>\n",
       "      <td>0.000000</td>\n",
       "      <td>0.000000</td>\n",
       "      <td>0.064378</td>\n",
       "      <td>0.000000</td>\n",
       "      <td>0.000000</td>\n",
       "    </tr>\n",
       "    <tr>\n",
       "      <th>50%</th>\n",
       "      <td>1.398543</td>\n",
       "      <td>79.479992</td>\n",
       "      <td>60.000000</td>\n",
       "      <td>6.000000</td>\n",
       "      <td>1.000000</td>\n",
       "      <td>0.489052</td>\n",
       "      <td>0.082474</td>\n",
       "      <td>0.086956</td>\n",
       "    </tr>\n",
       "    <tr>\n",
       "      <th>75%</th>\n",
       "      <td>7.423930</td>\n",
       "      <td>393.594124</td>\n",
       "      <td>180.000000</td>\n",
       "      <td>17.000000</td>\n",
       "      <td>4.000000</td>\n",
       "      <td>0.991238</td>\n",
       "      <td>0.111111</td>\n",
       "      <td>0.260869</td>\n",
       "    </tr>\n",
       "    <tr>\n",
       "      <th>max</th>\n",
       "      <td>10.174922</td>\n",
       "      <td>547.617021</td>\n",
       "      <td>290.000000</td>\n",
       "      <td>47.000000</td>\n",
       "      <td>20.000000</td>\n",
       "      <td>1.000000</td>\n",
       "      <td>0.999995</td>\n",
       "      <td>0.999998</td>\n",
       "    </tr>\n",
       "  </tbody>\n",
       "</table>\n",
       "</div>"
      ],
      "text/plain": [
       "        adjust rate  average bid price    impression         click  \\\n",
       "count  70000.000000       70000.000000  70000.000000  70000.000000   \n",
       "mean       3.194803         175.390779     89.097314      8.908414   \n",
       "std        3.501734         182.112056     84.502003      9.126745   \n",
       "min        0.000037           4.080000      0.000000      0.000000   \n",
       "25%        0.660007          38.935459      6.000000      0.000000   \n",
       "50%        1.398543          79.479992     60.000000      6.000000   \n",
       "75%        7.423930         393.594124    180.000000     17.000000   \n",
       "max       10.174922         547.617021    290.000000     47.000000   \n",
       "\n",
       "         conversion  winning rate  click / impression  conversion / click  \n",
       "count  70000.000000  70000.000000        70000.000000        70000.000000  \n",
       "mean       2.230386      0.505120            0.074132            0.151308  \n",
       "std        3.048590      0.404500            0.078599            0.190146  \n",
       "min        0.000000      0.000000            0.000000            0.000000  \n",
       "25%        0.000000      0.064378            0.000000            0.000000  \n",
       "50%        1.000000      0.489052            0.082474            0.086956  \n",
       "75%        4.000000      0.991238            0.111111            0.260869  \n",
       "max       20.000000      1.000000            0.999995            0.999998  "
      ]
     },
     "execution_count": 31,
     "metadata": {},
     "output_type": "execute_result"
    }
   ],
   "source": [
    "# let's see some statistics of the logged dataset\n",
    "df = pd.DataFrame()\n",
    "df['adjust rate'] = logged_dataset['state'][:, 6]\n",
    "df['average bid price'] = logged_dataset['info']['average_bid_price']\n",
    "df['impression'] = logged_dataset['info']['impression']\n",
    "df['click'] = logged_dataset['info']['click']\n",
    "df['conversion'] = logged_dataset['info']['conversion']\n",
    "df['winning rate'] = logged_dataset['state'][:, 4]\n",
    "df['click / impression'] = df['click'] / (df['impression'] + 1e-5)\n",
    "df['conversion / click'] = df['conversion'] / (df['click'] + 1e-5)\n",
    "df.describe()"
   ]
  },
  {
   "cell_type": "markdown",
   "metadata": {},
   "source": [
    "For more about the data collection and visualization, please refer to [examples/quickstart/rtb_synthetic_data_collection.ipynb](https://github.com/negocia-inc/rtb_reinforcement_learing/blob/ope/examples/quickstart/rtb_synthetic_data_collection.ipynb)."
   ]
  },
  {
   "cell_type": "markdown",
   "metadata": {},
   "source": [
    "## 2. Offline Reinforcement Learning\n",
    "In this section, we learn a new policy in an offline manner, without interacting with the environment.\n",
    "We use [d3rlpy](https://github.com/takuseno/d3rlpy)'s implementation of offline RL algorithms."
   ]
  },
  {
   "cell_type": "code",
   "execution_count": 32,
   "metadata": {},
   "outputs": [],
   "source": [
    "# import modules from d3rlpy\n",
    "from d3rlpy.dataset import MDPDataset\n",
    "from d3rlpy.algos import CQL as ContinuousCQL\n",
    "from d3rlpy.ope import FQE as ContinuousFQE\n",
    "from d3rlpy.metrics.scorer import evaluate_on_environment"
   ]
  },
  {
   "cell_type": "code",
   "execution_count": 33,
   "metadata": {},
   "outputs": [],
   "source": [
    "offlinerl_dataset = MDPDataset(\n",
    "    observations=logged_dataset[\"state\"],\n",
    "    actions=logged_dataset[\"action\"],\n",
    "    rewards=logged_dataset[\"reward\"],\n",
    "    terminals=logged_dataset[\"done\"],\n",
    "    episode_terminals=logged_dataset[\"done\"],\n",
    "    discrete_action=False,\n",
    ")\n",
    "train_episodes, test_episodes = train_test_split(offlinerl_dataset, test_size=0.2, random_state=random_state)"
   ]
  },
  {
   "cell_type": "code",
   "execution_count": 34,
   "metadata": {},
   "outputs": [],
   "source": [
    "# Use Conservative Q-Learning policy\n",
    "cql = ContinuousCQL(\n",
    "    actor_encoder_factory=VectorEncoderFactory(hidden_units=[30, 30]),\n",
    "    critic_encoder_factory=VectorEncoderFactory(hidden_units=[30, 30]),\n",
    "    q_func_factory=MeanQFunctionFactory(),\n",
    "    use_gpu=torch.cuda.is_available(),\n",
    "    action_scaler=MinMaxActionScaler(\n",
    "        minimum=env_.action_space.low,  # minimum value that policy can take\n",
    "        maximum=env_.action_space.high,  # maximum value that policy can take\n",
    "    )\n",
    ")"
   ]
  },
  {
   "cell_type": "code",
   "execution_count": 33,
   "metadata": {},
   "outputs": [
    {
     "name": "stdout",
     "output_type": "stream",
     "text": [
      "2022-11-24 08:12.25 [debug    ] RandomIterator is selected.\n",
      "2022-11-24 08:12.25 [info     ] Directory is created at d3rlpy_logs/CQL_20221124081225\n",
      "2022-11-24 08:12.25 [debug    ] Fitting action scaler...       action_scaler=min_max\n",
      "2022-11-24 08:12.25 [debug    ] Building models...\n",
      "2022-11-24 08:12.25 [debug    ] Models have been built.\n",
      "2022-11-24 08:12.25 [info     ] Parameters are saved to d3rlpy_logs/CQL_20221124081225/params.json params={'action_scaler': {'type': 'min_max', 'params': {'minimum': array([0.1]), 'maximum': array([10.])}}, 'actor_encoder_factory': {'type': 'vector', 'params': {'hidden_units': [30, 30], 'activation': 'relu', 'use_batch_norm': False, 'dropout_rate': None, 'use_dense': False}}, 'actor_learning_rate': 0.0001, 'actor_optim_factory': {'optim_cls': 'Adam', 'betas': (0.9, 0.999), 'eps': 1e-08, 'weight_decay': 0, 'amsgrad': False}, 'alpha_learning_rate': 0.0001, 'alpha_optim_factory': {'optim_cls': 'Adam', 'betas': (0.9, 0.999), 'eps': 1e-08, 'weight_decay': 0, 'amsgrad': False}, 'alpha_threshold': 10.0, 'batch_size': 256, 'conservative_weight': 5.0, 'critic_encoder_factory': {'type': 'vector', 'params': {'hidden_units': [30, 30], 'activation': 'relu', 'use_batch_norm': False, 'dropout_rate': None, 'use_dense': False}}, 'critic_learning_rate': 0.0003, 'critic_optim_factory': {'optim_cls': 'Adam', 'betas': (0.9, 0.999), 'eps': 1e-08, 'weight_decay': 0, 'amsgrad': False}, 'gamma': 0.99, 'generated_maxlen': 100000, 'initial_alpha': 1.0, 'initial_temperature': 1.0, 'n_action_samples': 10, 'n_critics': 2, 'n_frames': 1, 'n_steps': 1, 'q_func_factory': {'type': 'mean', 'params': {'share_encoder': False}}, 'real_ratio': 1.0, 'reward_scaler': None, 'scaler': None, 'soft_q_backup': False, 'tau': 0.005, 'temp_learning_rate': 0.0001, 'temp_optim_factory': {'optim_cls': 'Adam', 'betas': (0.9, 0.999), 'eps': 1e-08, 'weight_decay': 0, 'amsgrad': False}, 'use_gpu': None, 'algorithm': 'CQL', 'observation_shape': (7,), 'action_size': 1}\n"
     ]
    },
    {
     "data": {
      "application/vnd.jupyter.widget-view+json": {
       "model_id": "6c316481b3b5446890c1b1c7f3588dc6",
       "version_major": 2,
       "version_minor": 0
      },
      "text/plain": [
       "Epoch 1/1:   0%|          | 0/10000 [00:00<?, ?it/s]"
      ]
     },
     "metadata": {},
     "output_type": "display_data"
    },
    {
     "name": "stdout",
     "output_type": "stream",
     "text": [
      "2022-11-24 08:49.04 [info     ] CQL_20221124081225: epoch=1 step=10000 epoch=1 metrics={'time_sample_batch': 0.001699075174331665, 'time_algorithm_update': 0.21614931993484496, 'temp_loss': 0.7147513757584617, 'temp': 0.8120893530607224, 'alpha_loss': -15.780788986825943, 'alpha': 1.8041691214561462, 'critic_loss': 497.9179059207916, 'actor_loss': 2.73943178067822, 'time_step': 0.21890709965229035, 'environment': 15.6} step=10000\n",
      "2022-11-24 08:49.04 [info     ] Model parameters are saved to d3rlpy_logs/CQL_20221124081225/model_10000.pt\n"
     ]
    },
    {
     "data": {
      "text/plain": [
       "[(1,\n",
       "  {'time_sample_batch': 0.001699075174331665,\n",
       "   'time_algorithm_update': 0.21614931993484496,\n",
       "   'temp_loss': 0.7147513757584617,\n",
       "   'temp': 0.8120893530607224,\n",
       "   'alpha_loss': -15.780788986825943,\n",
       "   'alpha': 1.8041691214561462,\n",
       "   'critic_loss': 497.9179059207916,\n",
       "   'actor_loss': 2.73943178067822,\n",
       "   'time_step': 0.21890709965229035,\n",
       "   'environment': 15.6})]"
      ]
     },
     "execution_count": 33,
     "metadata": {},
     "output_type": "execute_result"
    }
   ],
   "source": [
    "cql.fit(\n",
    "    train_episodes,\n",
    "    eval_episodes=test_episodes,\n",
    "    n_steps=10000,\n",
    "    scorers={\n",
    "        'environment': evaluate_on_environment(env_),\n",
    "        # to record training process w/ ground truth policy value, which is unseen to the agent\n",
    "    },\n",
    ")"
   ]
  },
  {
   "cell_type": "code",
   "execution_count": 35,
   "metadata": {},
   "outputs": [],
   "source": [
    "# save model\n",
    "cql.save_model(\"d3rlpy_logs/cql_continuous.pt\")"
   ]
  },
  {
   "cell_type": "code",
   "execution_count": 35,
   "metadata": {},
   "outputs": [],
   "source": [
    "# reload model\n",
    "cql.build_with_env(env)\n",
    "cql.load_model(\"d3rlpy_logs/cql_continuous.pt\")"
   ]
  },
  {
   "cell_type": "code",
   "execution_count": 36,
   "metadata": {},
   "outputs": [
    {
     "data": {
      "application/vnd.jupyter.widget-view+json": {
       "model_id": "47653ec213184164978bd88b7b2992a1",
       "version_major": 2,
       "version_minor": 0
      },
      "text/plain": [
       "[calculate on-policy policy value]:   0%|          | 0/100 [00:00<?, ?it/s]"
      ]
     },
     "metadata": {},
     "output_type": "display_data"
    },
    {
     "data": {
      "application/vnd.jupyter.widget-view+json": {
       "model_id": "1757ea34e36840479b4d08e6218a344f",
       "version_major": 2,
       "version_minor": 0
      },
      "text/plain": [
       "[calculate on-policy policy value]:   0%|          | 0/100 [00:00<?, ?it/s]"
      ]
     },
     "metadata": {},
     "output_type": "display_data"
    },
    {
     "data": {
      "application/vnd.jupyter.widget-view+json": {
       "model_id": "f7e8554d0b9a419c879c89848fbe4184",
       "version_major": 2,
       "version_minor": 0
      },
      "text/plain": [
       "[calculate on-policy policy value]:   0%|          | 0/100 [00:00<?, ?it/s]"
      ]
     },
     "metadata": {},
     "output_type": "display_data"
    },
    {
     "data": {
      "application/vnd.jupyter.widget-view+json": {
       "model_id": "7a772a006a1f491caf882fcde35c2f34",
       "version_major": 2,
       "version_minor": 0
      },
      "text/plain": [
       "[calculate on-policy policy value]:   0%|          | 0/100 [00:00<?, ?it/s]"
      ]
     },
     "metadata": {},
     "output_type": "display_data"
    },
    {
     "data": {
      "image/png": "[encoded data removed]",
      "text/plain": [
       "<Figure size 576x288 with 1 Axes>"
      ]
     },
     "metadata": {},
     "output_type": "display_data"
    }
   ],
   "source": [
    "# compare the policy performance online\n",
    "# wow, offline algorithm outperforms the online algorithm.\n",
    "# even though it requires no interaction with the environment!\n",
    "visualize_on_policy_policy_value(\n",
    "    env=env,\n",
    "    policies=[sac, behavior_policy, cql, random],\n",
    "    policy_names=[\"sac\", \"sac (sigma=1.0)\", \"cql\", \"random\"],\n",
    "    n_trajectories=100,\n",
    "    random_state=random_state,\n",
    ")"
   ]
  },
  {
   "cell_type": "markdown",
   "metadata": {},
   "source": [
    "## 3. Off-Policy Evaluation and Evaluation of Offline RL methods\n",
    "In the previous section, we verified the performance of a learned policy via online interaction (aka A/B tests).  \n",
    "However, it could be risky in practice, because the policy may perform poorly in an online environment.  \n",
    "To tackle this issue, we aim at evaluating the performance of a policy offline, to gain some prior knowledge on how the agent works in the environment.\n",
    "\n",
    "#### Estimation Target\n",
    "\n",
    "The goal to estimate the estimators' average policy performance, the *policy value*.\n",
    "\n",
    "$$ V(\\pi) := \\mathbb{E}\\left[\\sum_{t=1}^T \\gamma^{t-1} r_t \\mid \\pi \\right] $$"
   ]
  },
  {
   "cell_type": "code",
   "execution_count": 37,
   "metadata": {},
   "outputs": [],
   "source": [
    "# import ope modules from OFRL\n",
    "from ofrl.ope import CreateOPEInput\n",
    "from ofrl.ope import OffPolicyEvaluation as OPE\n",
    "from ofrl.ope import ContinuousDirectMethod as DM\n",
    "from ofrl.ope import ContinuousTrajectoryWiseImportanceSampling as TIS\n",
    "from ofrl.ope import ContinuousPerDecisionImportanceSampling as PDIS\n",
    "from ofrl.ope import ContinuousDoublyRobust as DR\n",
    "from ofrl.ope import ContinuousSelfNormalizedTrajectoryWiseImportanceSampling as SNTIS\n",
    "from ofrl.ope import ContinuousSelfNormalizedPerDecisionImportanceSampling as SNPDIS\n",
    "from ofrl.ope import ContinuousSelfNormalizedDoublyRobust as SNDR\n",
    "from ofrl.policy import ContinuousEvalHead"
   ]
  },
  {
   "cell_type": "code",
   "execution_count": 38,
   "metadata": {},
   "outputs": [],
   "source": [
    "# define evaluation policies (should be deterministic policy)\n",
    "cql_ = ContinuousEvalHead(\n",
    "    base_policy=cql,\n",
    "    name=\"cql\",\n",
    ")\n",
    "sac_ = ContinuousEvalHead(\n",
    "    base_policy=sac, \n",
    "    name=\"sac\", \n",
    ")\n",
    "evaluation_policies = [cql_, sac_]"
   ]
  },
  {
   "cell_type": "code",
   "execution_count": 39,
   "metadata": {},
   "outputs": [],
   "source": [
    "# first, prepare OPE inputs\n",
    "prep = CreateOPEInput(\n",
    "    logged_dataset=logged_dataset,\n",
    "    model_args={\n",
    "        \"fqe\": {\n",
    "            \"encoder_factory\": VectorEncoderFactory(hidden_units=[30, 30]),\n",
    "            \"q_func_factory\": MeanQFunctionFactory(),\n",
    "            \"learning_rate\": 1e-4,\n",
    "            \"use_gpu\": torch.cuda.is_available(),\n",
    "            \"action_scaler\": MinMaxActionScaler(\n",
    "                minimum=env.action_space.low,  # minimum value that policy can take\n",
    "                maximum=env.action_space.high,  # maximum value that policy can take\n",
    "            ),\n",
    "        },\n",
    "    },\n",
    ")"
   ]
  },
  {
   "cell_type": "code",
   "execution_count": 40,
   "metadata": {},
   "outputs": [
    {
     "data": {
      "application/vnd.jupyter.widget-view+json": {
       "model_id": "cf1d1177b88549ebaf29c99b3aab3248",
       "version_major": 2,
       "version_minor": 0
      },
      "text/plain": [
       "[fit FQE model]:   0%|          | 0/2 [00:00<?, ?it/s]"
      ]
     },
     "metadata": {},
     "output_type": "display_data"
    },
    {
     "name": "stdout",
     "output_type": "stream",
     "text": [
      "2022-12-01 09:16.13 [debug    ] RoundIterator is selected.\n",
      "2022-12-01 09:16.13 [info     ] Directory is created at d3rlpy_logs/FQE_20221201091613\n",
      "2022-12-01 09:16.13 [debug    ] Fitting action scaler...       action_scaler=min_max\n",
      "2022-12-01 09:16.13 [debug    ] Building models...\n",
      "2022-12-01 09:16.13 [debug    ] Models have been built.\n",
      "2022-12-01 09:16.13 [info     ] Parameters are saved to d3rlpy_logs/FQE_20221201091613/params.json params={'action_scaler': {'type': 'min_max', 'params': {'minimum': array([0.1]), 'maximum': array([10.])}}, 'batch_size': 100, 'encoder_factory': {'type': 'vector', 'params': {'hidden_units': [30, 30], 'activation': 'relu', 'use_batch_norm': False, 'dropout_rate': None, 'use_dense': False}}, 'gamma': 0.99, 'generated_maxlen': 100000, 'learning_rate': 0.0001, 'n_critics': 1, 'n_frames': 1, 'n_steps': 1, 'optim_factory': {'optim_cls': 'Adam', 'betas': (0.9, 0.999), 'eps': 1e-08, 'weight_decay': 0, 'amsgrad': False}, 'q_func_factory': {'type': 'mean', 'params': {'share_encoder': False}}, 'real_ratio': 1.0, 'reward_scaler': None, 'scaler': None, 'target_update_interval': 100, 'use_gpu': None, 'algorithm': 'FQE', 'observation_shape': (7,), 'action_size': 1}\n"
     ]
    },
    {
     "data": {
      "application/vnd.jupyter.widget-view+json": {
       "model_id": "1f30dfde26d94362bb582adfa42473e4",
       "version_major": 2,
       "version_minor": 0
      },
      "text/plain": [
       "Epoch 1/1:   0%|          | 0/700 [00:00<?, ?it/s]"
      ]
     },
     "metadata": {},
     "output_type": "display_data"
    },
    {
     "name": "stdout",
     "output_type": "stream",
     "text": [
      "2022-12-01 09:16.17 [info     ] FQE_20221201091613: epoch=1 step=700 epoch=1 metrics={'time_sample_batch': 0.00024000406265258789, 'time_algorithm_update': 0.005128491606031145, 'loss': 1615.4350064413889, 'time_step': 0.0054912400245666505} step=700\n",
      "2022-12-01 09:16.17 [info     ] Model parameters are saved to d3rlpy_logs/FQE_20221201091613/model_700.pt\n",
      "2022-12-01 09:16.17 [debug    ] RoundIterator is selected.\n",
      "2022-12-01 09:16.17 [info     ] Directory is created at d3rlpy_logs/FQE_20221201091617\n",
      "2022-12-01 09:16.17 [debug    ] Fitting action scaler...       action_scaler=min_max\n",
      "2022-12-01 09:16.17 [debug    ] Building models...\n",
      "2022-12-01 09:16.17 [debug    ] Models have been built.\n",
      "2022-12-01 09:16.17 [info     ] Parameters are saved to d3rlpy_logs/FQE_20221201091617/params.json params={'action_scaler': {'type': 'min_max', 'params': {'minimum': array([0.1]), 'maximum': array([10.])}}, 'batch_size': 100, 'encoder_factory': {'type': 'vector', 'params': {'hidden_units': [30, 30], 'activation': 'relu', 'use_batch_norm': False, 'dropout_rate': None, 'use_dense': False}}, 'gamma': 0.99, 'generated_maxlen': 100000, 'learning_rate': 0.0001, 'n_critics': 1, 'n_frames': 1, 'n_steps': 1, 'optim_factory': {'optim_cls': 'Adam', 'betas': (0.9, 0.999), 'eps': 1e-08, 'weight_decay': 0, 'amsgrad': False}, 'q_func_factory': {'type': 'mean', 'params': {'share_encoder': False}}, 'real_ratio': 1.0, 'reward_scaler': None, 'scaler': None, 'target_update_interval': 100, 'use_gpu': None, 'algorithm': 'FQE', 'observation_shape': (7,), 'action_size': 1}\n"
     ]
    },
    {
     "data": {
      "application/vnd.jupyter.widget-view+json": {
       "model_id": "cb46f97278c240be9121fa6ceb36a7e5",
       "version_major": 2,
       "version_minor": 0
      },
      "text/plain": [
       "Epoch 1/1:   0%|          | 0/700 [00:00<?, ?it/s]"
      ]
     },
     "metadata": {},
     "output_type": "display_data"
    },
    {
     "name": "stdout",
     "output_type": "stream",
     "text": [
      "2022-12-01 09:16.21 [info     ] FQE_20221201091617: epoch=1 step=700 epoch=1 metrics={'time_sample_batch': 0.0003174911226545061, 'time_algorithm_update': 0.005459210191454207, 'loss': 99.76048294850759, 'time_step': 0.005919234752655029} step=700\n",
      "2022-12-01 09:16.21 [info     ] Model parameters are saved to d3rlpy_logs/FQE_20221201091617/model_700.pt\n"
     ]
    },
    {
     "data": {
      "application/vnd.jupyter.widget-view+json": {
       "model_id": "92445ce6e37d4ff288d3271025ef0a14",
       "version_major": 2,
       "version_minor": 0
      },
      "text/plain": [
       "[collect input data]:   0%|          | 0/2 [00:00<?, ?it/s]"
      ]
     },
     "metadata": {},
     "output_type": "display_data"
    },
    {
     "data": {
      "application/vnd.jupyter.widget-view+json": {
       "model_id": "377f310625a443198f7ad44112e23431",
       "version_major": 2,
       "version_minor": 0
      },
      "text/plain": [
       "[calculate on-policy policy value]:   0%|          | 0/100 [00:00<?, ?it/s]"
      ]
     },
     "metadata": {},
     "output_type": "display_data"
    },
    {
     "data": {
      "application/vnd.jupyter.widget-view+json": {
       "model_id": "252c9652a40b4aea94606f7d4b9e86fc",
       "version_major": 2,
       "version_minor": 0
      },
      "text/plain": [
       "[calculate on-policy policy value]:   0%|          | 0/100 [00:00<?, ?it/s]"
      ]
     },
     "metadata": {},
     "output_type": "display_data"
    }
   ],
   "source": [
    "input_dict = prep.obtain_whole_inputs(\n",
    "    evaluation_policies=evaluation_policies,\n",
    "    env=env,\n",
    "    require_value_prediction=True,\n",
    "    n_trajectories_on_policy_evaluation=100,\n",
    "    random_state=random_state,\n",
    ")"
   ]
  },
  {
   "cell_type": "code",
   "execution_count": 41,
   "metadata": {},
   "outputs": [],
   "source": [
    "with open(\"logs/ope_input_dict_continuous.pkl\", \"wb\") as f:\n",
    "    pickle.dump(input_dict, f)"
   ]
  },
  {
   "cell_type": "code",
   "execution_count": 42,
   "metadata": {},
   "outputs": [],
   "source": [
    "with open(\"logs/ope_input_dict_continuous.pkl\", \"rb\") as f:\n",
    "    input_dict = pickle.load(f)"
   ]
  },
  {
   "cell_type": "code",
   "execution_count": 43,
   "metadata": {},
   "outputs": [
    {
     "data": {
      "text/plain": [
       "{'cql': {'evaluation_policy_action_dist': None,\n",
       "  'evaluation_policy_action': array([[9.441403  ],\n",
       "         [4.6896276 ],\n",
       "         [4.188139  ],\n",
       "         ...,\n",
       "         [3.8834045 ],\n",
       "         [3.9756644 ],\n",
       "         [0.54805344]], dtype=float32),\n",
       "  'state_action_value_prediction': array([[48.40606689, 48.41096115],\n",
       "         [24.86627579, 24.86741257],\n",
       "         [21.43648148, 21.43871689],\n",
       "         ...,\n",
       "         [ 0.59641576,  0.59690785],\n",
       "         [-0.24252011, -0.24105527],\n",
       "         [-0.1352578 , -0.13546033]]),\n",
       "  'initial_state_value_prediction': array([48.41096115, 48.43484879, 48.43166351, ..., 48.39765549,\n",
       "         48.38090515, 48.44278717]),\n",
       "  'state_action_marginal_importance_weight': None,\n",
       "  'state_marginal_importance_weight': None,\n",
       "  'on_policy_policy_value': array([ 8.,  9., 10., 16., 14., 11., 16., 19., 12., 14., 26., 13., 12.,\n",
       "          8., 14., 15., 14., 19., 11., 13., 10., 16., 16.,  8., 14., 13.,\n",
       "         18., 16., 13., 13., 16., 11., 10., 14., 12., 18., 17., 13., 14.,\n",
       "          9., 26., 12., 10., 17., 13., 20., 14., 12., 22., 15., 15., 21.,\n",
       "         22.,  9., 18., 18., 15., 18., 20., 17., 17., 22., 17., 12.,  8.,\n",
       "         20., 10.,  8.,  7., 15., 18.,  8., 13., 13., 14., 12., 17., 11.,\n",
       "         19., 16., 10., 17., 21., 13., 20., 13., 21., 10., 11., 14., 22.,\n",
       "         13., 14., 13., 18.,  8., 15., 15., 20.,  5.]),\n",
       "  'gamma': 1.0},\n",
       " 'sac': {'evaluation_policy_action_dist': None,\n",
       "  'evaluation_policy_action': array([[9.495105  ],\n",
       "         [0.22427475],\n",
       "         [0.5346992 ],\n",
       "         ...,\n",
       "         [1.7552608 ],\n",
       "         [1.6760893 ],\n",
       "         [0.94414777]], dtype=float32),\n",
       "  'state_action_value_prediction': array([[ 6.77849388,  6.78177261],\n",
       "         [ 0.95520592,  0.95171928],\n",
       "         [ 1.29742622,  1.2952404 ],\n",
       "         ...,\n",
       "         [ 0.02307701,  0.02181435],\n",
       "         [-0.52301216, -0.52295494],\n",
       "         [-0.05870654, -0.06011581]]),\n",
       "  'initial_state_value_prediction': array([6.78177261, 6.73685074, 6.76950264, ..., 6.76483345, 6.80091667,\n",
       "         6.73634911]),\n",
       "  'state_action_marginal_importance_weight': None,\n",
       "  'state_marginal_importance_weight': None,\n",
       "  'on_policy_policy_value': array([ 8., 12., 14., 15., 13., 12., 16., 16., 13., 19., 27., 12., 15.,\n",
       "          9., 15., 11., 15., 17., 17., 17., 13., 18., 18.,  9., 14., 12.,\n",
       "         20., 16., 15., 17., 18., 13., 12., 15., 17., 24., 19., 13., 17.,\n",
       "         11., 25., 15., 12., 16., 13., 22., 14., 11., 23., 16., 19., 21.,\n",
       "         24.,  7., 20., 18., 20., 15., 21., 18., 15., 21., 16., 16., 10.,\n",
       "         20., 17., 13.,  9., 16., 14., 11., 10., 14., 14., 12., 19., 13.,\n",
       "         18., 18., 12., 18., 21., 13., 19., 14., 21., 10., 13., 13., 22.,\n",
       "         17., 18., 15., 20., 12., 19., 13., 18., 10.]),\n",
       "  'gamma': 1.0}}"
      ]
     },
     "execution_count": 43,
     "metadata": {},
     "output_type": "execute_result"
    }
   ],
   "source": [
    "input_dict"
   ]
  },
  {
   "cell_type": "code",
   "execution_count": 44,
   "metadata": {},
   "outputs": [],
   "source": [
    "ope = OPE(\n",
    "    logged_dataset=logged_dataset,\n",
    "    ope_estimators=[DM(), TIS(), PDIS(), DR(), SNTIS(), SNPDIS(), SNDR()],\n",
    "    action_scaler=(env.action_space.high - env.action_space.low),\n",
    ")"
   ]
  },
  {
   "cell_type": "code",
   "execution_count": 45,
   "metadata": {},
   "outputs": [],
   "source": [
    "# performance estimation by ope\n",
    "# takes time to compute (about 15min)\n",
    "policy_value_df_dict, policy_value_interval_df_dict = ope.summarize_off_policy_estimates(input_dict, random_state=random_state)"
   ]
  },
  {
   "cell_type": "code",
   "execution_count": 46,
   "metadata": {},
   "outputs": [
    {
     "data": {
      "text/plain": [
       "{'cql':            policy_value  relative_policy_value\n",
       " on_policy  1.449000e+01               1.000000\n",
       " dm         4.840023e+01               3.340251\n",
       " tis        2.800124e+06          193245.297993\n",
       " pdis       4.245539e+03             292.997837\n",
       " dr        -3.378651e+04           -2331.712161\n",
       " sntis      1.588187e+01               1.096058\n",
       " snpdis     1.252270e+01               0.864231\n",
       " sndr       1.243130e+01               0.857923,\n",
       " 'sac':            policy_value  relative_policy_value\n",
       " on_policy  1.568000e+01               1.000000\n",
       " dm         6.776536e+00               0.432177\n",
       " tis        3.492704e+06          222748.991427\n",
       " pdis       4.964913e+03             316.639857\n",
       " dr         1.756779e+05           11203.944808\n",
       " sntis      1.587727e+01               1.012581\n",
       " snpdis     1.256916e+01               0.801605\n",
       " sndr       1.258831e+01               0.802826}"
      ]
     },
     "execution_count": 46,
     "metadata": {},
     "output_type": "execute_result"
    }
   ],
   "source": [
    "# estimated policy performance\n",
    "policy_value_df_dict"
   ]
  },
  {
   "cell_type": "code",
   "execution_count": 47,
   "metadata": {},
   "outputs": [
    {
     "data": {
      "text/plain": [
       "{'cql':                    mean  95.0% CI (lower)  95.0% CI (upper)\n",
       " on_policy  1.440890e+01         13.660000      1.508575e+01\n",
       " dm         4.840020e+01         48.399324      4.840105e+01\n",
       " tis        2.568202e+06     181531.220293      7.931534e+06\n",
       " pdis       4.450694e+03       1579.692698      9.007106e+03\n",
       " dr        -3.167679e+04     -84220.924166     -6.960946e+03\n",
       " sntis      1.456645e+01          1.029617      4.498644e+01\n",
       " snpdis     1.255092e+01          9.763637      1.618231e+01\n",
       " sndr       1.085571e+01        -19.996098      3.210516e+01,\n",
       " 'sac':                    mean  95.0% CI (lower)  95.0% CI (upper)\n",
       " on_policy  1.560450e+01         14.894250      1.627625e+01\n",
       " dm         6.776606e+00          6.775594      6.777720e+00\n",
       " tis        3.203167e+06     223052.964729      9.899174e+06\n",
       " pdis       5.212978e+03       1865.374614      1.057528e+04\n",
       " dr         1.605761e+05       2834.355634      5.170617e+05\n",
       " sntis      1.456108e+01          1.013963      4.500004e+01\n",
       " snpdis     1.259455e+01          9.859553      1.624285e+01\n",
       " sndr       1.242097e+01         11.133816      1.404160e+01}"
      ]
     },
     "execution_count": 47,
     "metadata": {},
     "output_type": "execute_result"
    }
   ],
   "source": [
    "# estimated confidence intervals of the policy performance\n",
    "policy_value_interval_df_dict"
   ]
  },
  {
   "cell_type": "markdown",
   "metadata": {},
   "source": [
    "## 4. Evaluation of OPE methods\n",
    "Now, we evaluate how well the ope estimators estimated the policy value."
   ]
  },
  {
   "cell_type": "code",
   "execution_count": 48,
   "metadata": {},
   "outputs": [
    {
     "data": {
      "image/png": "[encoded data removed]",
      "text/plain": [
       "<Figure size 576x576 with 2 Axes>"
      ]
     },
     "metadata": {},
     "output_type": "display_data"
    }
   ],
   "source": [
    "# we can visualize and compare the ope result\n",
    "# it seems many offline metrics underestimate the policy value\n",
    "ope.visualize_off_policy_estimates(\n",
    "    input_dict, \n",
    "    compared_estimators=[\"dm\", \"sntis\", \"snpdis\", \"sndr\"],\n",
    "    random_state=random_state, \n",
    "    sharey=True,\n",
    ")"
   ]
  },
  {
   "cell_type": "code",
   "execution_count": 49,
   "metadata": {},
   "outputs": [
    {
     "data": {
      "text/html": [
       "<div>\n",
       "<style scoped>\n",
       "    .dataframe tbody tr th:only-of-type {\n",
       "        vertical-align: middle;\n",
       "    }\n",
       "\n",
       "    .dataframe tbody tr th {\n",
       "        vertical-align: top;\n",
       "    }\n",
       "\n",
       "    .dataframe thead th {\n",
       "        text-align: right;\n",
       "    }\n",
       "</style>\n",
       "<table border=\"1\" class=\"dataframe\">\n",
       "  <thead>\n",
       "    <tr style=\"text-align: right;\">\n",
       "      <th></th>\n",
       "      <th>cql</th>\n",
       "      <th>sac</th>\n",
       "    </tr>\n",
       "  </thead>\n",
       "  <tbody>\n",
       "    <tr>\n",
       "      <th>dm</th>\n",
       "      <td>1.149904e+03</td>\n",
       "      <td>7.927166e+01</td>\n",
       "    </tr>\n",
       "    <tr>\n",
       "      <th>tis</th>\n",
       "      <td>7.840615e+12</td>\n",
       "      <td>1.219887e+13</td>\n",
       "    </tr>\n",
       "    <tr>\n",
       "      <th>pdis</th>\n",
       "      <td>1.790177e+07</td>\n",
       "      <td>2.449491e+07</td>\n",
       "    </tr>\n",
       "    <tr>\n",
       "      <th>dr</th>\n",
       "      <td>1.142508e+09</td>\n",
       "      <td>3.085720e+10</td>\n",
       "    </tr>\n",
       "    <tr>\n",
       "      <th>sntis</th>\n",
       "      <td>1.937313e+00</td>\n",
       "      <td>3.891358e-02</td>\n",
       "    </tr>\n",
       "    <tr>\n",
       "      <th>snpdis</th>\n",
       "      <td>3.870256e+00</td>\n",
       "      <td>9.677296e+00</td>\n",
       "    </tr>\n",
       "    <tr>\n",
       "      <th>sndr</th>\n",
       "      <td>4.238249e+00</td>\n",
       "      <td>9.558530e+00</td>\n",
       "    </tr>\n",
       "  </tbody>\n",
       "</table>\n",
       "</div>"
      ],
      "text/plain": [
       "                 cql           sac\n",
       "dm      1.149904e+03  7.927166e+01\n",
       "tis     7.840615e+12  1.219887e+13\n",
       "pdis    1.790177e+07  2.449491e+07\n",
       "dr      1.142508e+09  3.085720e+10\n",
       "sntis   1.937313e+00  3.891358e-02\n",
       "snpdis  3.870256e+00  9.677296e+00\n",
       "sndr    4.238249e+00  9.558530e+00"
      ]
     },
     "execution_count": 49,
     "metadata": {},
     "output_type": "execute_result"
    }
   ],
   "source": [
    "# squared-error (se) measures the estimation accuracy of OPE\n",
    "eval_metric_ope_df = ope.evaluate_performance_of_ope_estimators(\n",
    "    input_dict, \n",
    "    metric=\"se\",\n",
    "    return_by_dataframe=True,\n",
    ")\n",
    "eval_metric_ope_df"
   ]
  },
  {
   "cell_type": "markdown",
   "metadata": {},
   "source": [
    "For more advanced topics in OPE (e.g., cumulative distribution function estimation) and OPS, please refer to [examples/quickstart/rtb_synthetic_continuous_advanced.ipynb](https://github.com/negocia-inc/rtb_reinforcement_learing/blob/ope/examples/quickstart/rtb_synthetic_continuous_advanced.ipynb). \n",
    "\n",
    "For more advanced OPE estimators (e.g., state(-action) marginal estimators and double reinforcement learning), please refer to [examples/quickstart/rtb_synthetic_continuous_zoo.ipynb](https://github.com/negocia-inc/rtb_reinforcement_learing/blob/ope/examples/quickstart/rtb_synthetic_continuous_zoo.ipynb). \n",
    "\n",
    "For examples regarding the discrete action space, please refer to [examples/quickstart/rtb_synthetic_discrete_basic.ipynb](https://github.com/negocia-inc/rtb_reinforcement_learing/blob/ope/examples/quickstart/rtb_synthetic_discrete_basic.ipynb)."
   ]
  },
  {
   "cell_type": "markdown",
   "metadata": {},
   "source": [
    "## Reference\n",
    "\n",
    "- Haanvid Lee, Jongmin Lee, Yunseon Choi, Wonseok Jeon, Byung-Jun Lee, Yung-Kyun Noh, and Kee-Eung Kim. \\\n",
    "\"Local Metric Learning for Off-Policy Evaluation in Contextual Bandits with Continuous Actions.\", 2022.\n",
    "\n",
    "- Yuta Saito, Shunsuke Aihara, Megumi Matsutani, and Yusuke Narita. \\\n",
    "\"Open Bandit Dataset and Pipeline: Towards Realistic and Reproducible Off-Policy Evaluation.\", 2021.\n",
    "\n",
    "- Takuma Seno and Michita Imai. \\\n",
    "\"d3rlpy: An Offline Deep Reinforcement Library.\", 2021.\n",
    "\n",
    "- Sergey Levine, Aviral Kumar, George Tucker, and Justin Fu. \\\n",
    "\"Offline Reinforcement Learning: Tutorial, Review, and Perspectives on Open Problems.\" 2020.\n",
    "\n",
    "- Aviral Kumar, Aurick Zhou, George Tucker, and Sergey Levine. \\\n",
    "\"Conservative Q-Learning for Offline Reinforcement Learning.\", 2020.\n",
    "\n",
    "- Nathan Kallus and Angela Zhou. \\\n",
    "\"Policy Evaluation and Optimization with Continuous Treatments.\", 2019.\n",
    "\n",
    "- Nathan Kallus and Masatoshi Uehara. \\\n",
    "\"Intrinsically Efficient, Stable, and Bounded Off-Policy Evaluation for Reinforcement Learning.\", 2019.\n",
    "\n",
    "- Hoang Le, Cameron Voloshin, and Yisong Yue. \\\n",
    "\"Batch Policy Learning under Constraints.\", 2019.\n",
    "\n",
    "- Tuomas Haarnoja, Aurick Zhou, Pieter Abbeel, and Sergey Levine. \\\n",
    "\"Soft Actor-Critic: Off-Policy Maximum Entropy Deep Reinforcement Learning with a Stochastic Actor.\" 2018.\n",
    "\n",
    "- Di Wu, Xiujun Chen, Xun Yang, Hao Wang, Qing Tan, Xiaoxun Zhang, Jian Xu, and Kun Gai. \\\n",
    "\"Budget Constrained Bidding by Model-free Reinforcement Learning in Display Advertising.\", 2018.\n",
    "\n",
    "- Jun Zhao, Guang Qiu, Ziyu Guan, Wei Zhao, and Xiaofei He. \\\n",
    "\"Deep Reinforcement Learning for Sponsored Search Real-time Bidding.\", 2018.\n",
    "\n",
    "- Nan Jiang and Lihong Li. \\\n",
    "\"Doubly Robust Off-policy Value Evaluation for Reinforcement Learning.\", 2016.\n",
    "\n",
    "- Philip S. Thomas and Emma Brunskill. \\\n",
    "\"Data-Efficient Off-Policy Policy Evaluation for Reinforcement Learning.\", 2016.\n",
    "\n",
    "- Greg Brockman, Vicki Cheung, Ludwig Pettersson, Jonas Schneider, John Schulman, Jie Tang, and Wojciech Zaremba. \\\n",
    "\"OpenAI Gym.\", 2016.\n",
    "\n",
    "- Adith Swaminathan and Thorsten Joachims. \\\n",
    "\"The Self-Normalized Estimator for Counterfactual Learning.\", 2015.\n",
    "\n",
    "- Miroslav Dudík, Dumitru Erhan, John Langford, and Lihong Li. \\\n",
    "\"Doubly Robust Policy Evaluation and Optimization.\", 2014.\n",
    "\n",
    "- Alex Strehl, John Langford, Sham Kakade, and Lihong Li. \\\n",
    "\"Learning from Logged Implicit Exploration Data.\", 2010.\n",
    "\n",
    "- Alina Beygelzimer and John Langford. \\\n",
    "\"The Offset Tree for Learning with Partial Labels.\", 2009.\n",
    "\n",
    "- Doina Precup, Richard S. Sutton, and Satinder P. Singh. \\\n",
    "\"Eligibility Traces for Off-Policy Policy Evaluation.\", 2000."
   ]
  },
  {
   "cell_type": "code",
   "execution_count": null,
   "metadata": {},
   "outputs": [],
   "source": []
  }
 ],
 "metadata": {
  "kernelspec": {
   "display_name": "Python 3",
   "language": "python",
   "name": "python3"
  },
  "language_info": {
   "codemirror_mode": {
    "name": "ipython",
    "version": 3
   },
   "file_extension": ".py",
   "mimetype": "text/x-python",
   "name": "python",
   "nbconvert_exporter": "python",
   "pygments_lexer": "ipython3",
   "version": "3.8.5"
  },
  "vscode": {
   "interpreter": {
    "hash": "eeb0e296031d5f4c93e05211083c58e9e78a3e8af86402f626ea4098c0a5e991"
   }
  }
 },
 "nbformat": 4,
 "nbformat_minor": 4
}
