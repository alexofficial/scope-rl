{
 "cells": [
  {
   "cell_type": "markdown",
   "metadata": {},
   "source": [
    "# Quickstart Example with Synthetic RTB Simulation and Dataset (Continuous)\n",
    "This notebook provides an example of conducting **Off-policy Evaluation (OPE) and Offline Reinforcement Learning (Offline RL) with synthetic Real-Time Bidding (RTB) dataset**.\n",
    "\n",
    "Our example with Synthetic RTB Simualtion and Dataset contains the following 5 steps:\n",
    "0. (Setup Synthetic RTB Simulation Environment and Online RL)\n",
    "1. Synthetic Data Generation\n",
    "2. Offline Reinforcement Learning\n",
    "3. Off-Policy Evaluation and Evaluation of Offline RL methods\n",
    "4. Evaluation of OPE methods\n",
    "\n",
    "We also show how to visualize the results in Appendix.\n",
    "\n",
    "\\* This library uses [d3rlpy](https://github.com/takuseno/d3rlpy)'s algorithm implementations of online/offline rl policies and model-based evaluation.  \n",
    "\\* Also, our implementations of OPE are highly inspired by [Open Bandit Pipeline](https://github.com/st-tech/zr-obp)."
   ]
  },
  {
   "cell_type": "code",
   "execution_count": 1,
   "metadata": {},
   "outputs": [
    {
     "name": "stdout",
     "output_type": "stream",
     "text": [
      "The history saving thread hit an unexpected error (DatabaseError('database disk image is malformed')).History will not be written to the database.\n"
     ]
    }
   ],
   "source": [
    "# delete later\n",
    "%load_ext autoreload\n",
    "%autoreload 2"
   ]
  },
  {
   "cell_type": "code",
   "execution_count": 2,
   "metadata": {},
   "outputs": [],
   "source": [
    "# delete later\n",
    "import warnings\n",
    "warnings.simplefilter('ignore')"
   ]
  },
  {
   "cell_type": "code",
   "execution_count": 3,
   "metadata": {},
   "outputs": [],
   "source": [
    "# delete later\n",
    "import sys\n",
    "sys.path.append('../')\n",
    "sys.path.append('../../')"
   ]
  },
  {
   "cell_type": "code",
   "execution_count": 4,
   "metadata": {},
   "outputs": [],
   "source": [
    "# import offlinegym modules\n",
    "import offlinegym\n",
    "from rtbgym import RTBEnv, CustomizedRTBEnv\n",
    "from offlinegym.dataset import SyntheticDataset\n",
    "from offlinegym.policy import OnlineHead, ContinuousTruncatedGaussianHead\n",
    "from offlinegym.ope.online import (\n",
    "    calc_on_policy_policy_value,\n",
    "    visualize_on_policy_policy_value,\n",
    ")\n",
    "\n",
    "# import d3rlpy algorithms\n",
    "from d3rlpy.algos import DiscreteRandomPolicy\n",
    "from d3rlpy.algos import RandomPolicy as ContinuousRandomPolicy\n",
    "from d3rlpy.preprocessing import MinMaxActionScaler\n",
    "\n",
    "# import from other libraries\n",
    "import torch\n",
    "from sklearn.linear_model import LogisticRegression\n",
    "from sklearn.model_selection import train_test_split"
   ]
  },
  {
   "cell_type": "code",
   "execution_count": 5,
   "metadata": {},
   "outputs": [],
   "source": [
    "import pickle\n",
    "from glob import glob\n",
    "from tqdm import tqdm\n",
    "\n",
    "import numpy as np\n",
    "import pandas as pd\n",
    "\n",
    "import matplotlib.pyplot as plt\n",
    "import seaborn as sns\n",
    "\n",
    "%matplotlib inline"
   ]
  },
  {
   "cell_type": "code",
   "execution_count": 6,
   "metadata": {},
   "outputs": [
    {
     "name": "stdout",
     "output_type": "stream",
     "text": [
      "0.0.0\n"
     ]
    }
   ],
   "source": [
    "# version\n",
    "print(offlinegym.__version__)"
   ]
  },
  {
   "cell_type": "code",
   "execution_count": 7,
   "metadata": {},
   "outputs": [],
   "source": [
    "# set random state\n",
    "random_state = 12345"
   ]
  },
  {
   "cell_type": "code",
   "execution_count": 8,
   "metadata": {},
   "outputs": [],
   "source": [
    "# log directory\n",
    "from pathlib import Path\n",
    "Path(\"logs/\").mkdir(exist_ok=True)"
   ]
  },
  {
   "cell_type": "markdown",
   "metadata": {},
   "source": [
    "## 0. (Setup Synthetic RTB Simulation Environment and Online RL)\n",
    "To begin with, we briefly describe how the RTB environment works for the preparation.\n",
    "\n",
    "#### RL setup for RTB\n",
    "In RTB, the objective of the RL agent is to maximize some KPIs (such as numbers of click or conversion) within a episode under the given budget constraints.  \n",
    "We often try to achieve this by adjusting bidding price function parameter $\\alpha$. By using $\\alpha$, we adjust bid price as follows.  \n",
    "$bid_{t,i} = \\alpha \\cdot r^{\\ast}$, \n",
    "where $r^{\\ast}$ denotes predicted or expected reward (KPIs).\n",
    "\n",
    "We often formulate this RTB problem as the following Constrained Markov Decision Process (CMDP):\n",
    "- `timestep`: One episode (a day or a week) consists of several timesteps (24 hours or seven days, for instance).\n",
    "- `state`: We observe statistical feedback from environment at each timestep, which include following informations.\n",
    "  - timestep\n",
    "  - remaining budget\n",
    "  - impression level features (budget comsuption rate, cost per mille of impressions, auction winning rate, reward) at previous timestep\n",
    "  - adjust rate (RL agent's decision making) at previous timestep\n",
    "- `action`: Agent chooses adjust rate parameter $\\alpha$ to maximize KPIs.\n",
    "- `reward`: Total number of clicks or conversions obtained during the timestep.\n",
    "- `constraints`: The pre-determined episodic budget should not be exceeded.\n",
    "\n",
    "For more about the environmental configuration , please refer to [examples/quickstart/rtb_synthetic_customize_env.ipynb](https://github.com/negocia-inc/rtb_reinforcement_learing/blob/ope/examples/quickstart/rtb_synthetic_customize_env.ipynb).\n",
    "\n",
    "Let's see how it works!"
   ]
  },
  {
   "cell_type": "code",
   "execution_count": 9,
   "metadata": {},
   "outputs": [],
   "source": [
    "# setup environment\n",
    "env = RTBEnv(random_state=random_state)"
   ]
  },
  {
   "cell_type": "code",
   "execution_count": 10,
   "metadata": {},
   "outputs": [],
   "source": [
    "# define random agent\n",
    "agent = OnlineHead(\n",
    "    ContinuousRandomPolicy(\n",
    "        action_scaler=MinMaxActionScaler(\n",
    "            minimum=0.1,  # minimum value that policy can take\n",
    "            maximum=10,  # maximum value that policy can take\n",
    "        )\n",
    "    )\n",
    ")"
   ]
  },
  {
   "cell_type": "code",
   "execution_count": 11,
   "metadata": {},
   "outputs": [],
   "source": [
    "# interact agent with environment\n",
    "# only 6 lines needed for RL interaction\n",
    "for episode in range(10):\n",
    "    obs = env.reset()\n",
    "    done = False\n",
    "\n",
    "    while not done:\n",
    "        action = agent.predict_online(obs)\n",
    "        obs, reward, done, info = env.step(action)"
   ]
  },
  {
   "cell_type": "code",
   "execution_count": 12,
   "metadata": {},
   "outputs": [
    {
     "name": "stdout",
     "output_type": "stream",
     "text": [
      "['timestep', 'remaining_budget', 'budget_consumption_rate', 'cost_per_mille_of_impression', 'winning_rate', 'reward', 'adjust_rate']\n",
      "(7,)\n"
     ]
    }
   ],
   "source": [
    "# state contains the following statistical feedback from environment\n",
    "print(env.obs_keys)\n",
    "print(obs.shape)"
   ]
  },
  {
   "cell_type": "code",
   "execution_count": 13,
   "metadata": {},
   "outputs": [
    {
     "data": {
      "image/png": "[encoded data removed]",
      "text/plain": [
       "<Figure size 432x288 with 2 Axes>"
      ]
     },
     "metadata": {
      "needs_background": "light"
     },
     "output_type": "display_data"
    }
   ],
   "source": [
    "# let's visualize the transition of remaing budget and cumulative reward\n",
    "# our goal is to gain a policy (i.e., agent) which maximize the cumulative reward under budget constraints using RL.  \n",
    "# for more visulization, please see appendix.\n",
    "obs = env.reset()\n",
    "done = False\n",
    "remaining_budget = [obs[1]]\n",
    "cumulative_reward = [0]\n",
    "\n",
    "while not done:\n",
    "    action = agent.predict_online(obs)\n",
    "    obs, reward, done, info = env.step(action)\n",
    "    remaining_budget.append(obs[1])\n",
    "    cumulative_reward.append(cumulative_reward[-1] + reward)\n",
    "\n",
    "# plot\n",
    "fig = plt.figure()\n",
    "ax1 = fig.add_subplot(111)\n",
    "ax1.plot(remaining_budget[:-1], label='remaining budget')\n",
    "ax2 = ax1.twinx()\n",
    "ax2.plot(cumulative_reward[:-1], label='cumulative reward', color='tab:orange')\n",
    "ax1.set_xlabel('timestep')\n",
    "ax1.set_ylabel('remainig budget')\n",
    "ax1.set_ylim(0, env.initial_budget + 100)\n",
    "ax2.set_ylabel('reward (coversion)')\n",
    "ax1.legend(loc='upper left')\n",
    "ax2.legend(loc='upper right')\n",
    "plt.show()"
   ]
  },
  {
   "cell_type": "markdown",
   "metadata": {},
   "source": [
    "We see that the random policy soon run out the budget.  \n",
    "Our goal is to derive a policy that controls the adjust rate (i.e., action) to maximize the reward within the given budget constraints.\n",
    "\n",
    "For the customization of environmental configuration (e.g., WinningPriceDistribution) and visualization, please refer to `rtb_synthetic_customize_environment.ipynb`."
   ]
  },
  {
   "cell_type": "markdown",
   "metadata": {},
   "source": [
    "#### Customization of bidding setup in RTB Env\n",
    "Here, we describe how the decision makers customize their own RTB environment.  \n",
    "Specifically, they can setup their own action space and bid price calculation rules by defining the following modules.\n",
    "- `reward_predictor` in Bidder class  \n",
    "    We use predicted rewards to calculate bid price.  \n",
    "        bid price = adjust rate * predicted reward ( * constant)\n",
    "    If None, we use ground-truth reward instead of predicted reward.  \n",
    "\n",
    "- `scaler` in Bidder class\n",
    "    Scaler defines constant in the bid price calculation.  \n",
    "        bid price = adjust rate * predicted reward ( * constant)\n",
    "        constant = scaler * standard_bid_price\n",
    "    where standard_bid_price indicates the average of standard_bid_price  \n",
    "    (bid price which has approximately 50% impression probability) over all ads.\n",
    "\n",
    "- `action_space` for agent  \n",
    "    We transform continual adjust rate space $[0, \\infty)$ into agent action space $[0.1, 10]$.  \n",
    "    Both discrete and continuous actions are acceptable.  \n",
    "    (We can tune multiplication of adjust rate using scaler.)\n",
    "    \n",
    "The arguments are given as follows:\n",
    "- `original_env`: Original RTB Environment.\n",
    "- `reward_predictor`: A machine learning model to predict the reward to determine the bidding price.\n",
    "- `scaler`: Scaling factor (constant value) used for bid price determination. (`None` for the auto-fitting)\n",
    "- `action_min`: Minimum value of adjust rate.\n",
    "- `action_max`: Maximum value of adjust rate.\n",
    "- `action_type`: Action type of the RL agent, which is either \"discrete\" or \"continuous\".\n",
    "- `n_actions`: Number of \"discrete\" actions.\n",
    "- `action_meaning`: Mapping function of agent action index to the actual \"discrete\" action to take."
   ]
  },
  {
   "cell_type": "code",
   "execution_count": 14,
   "metadata": {},
   "outputs": [],
   "source": [
    "# now, let's customize the environment with reward predictor\n",
    "env = CustomizedRTBEnv(\n",
    "    original_env=env,\n",
    "    reward_predictor=LogisticRegression(),\n",
    "    action_type=\"continuous\",\n",
    ")"
   ]
  },
  {
   "cell_type": "code",
   "execution_count": 15,
   "metadata": {},
   "outputs": [],
   "source": [
    "# interact agent with environment\n",
    "for episode in range(10):\n",
    "    obs = env.reset()\n",
    "    done = False\n",
    "\n",
    "    while not done:\n",
    "        action = agent.predict_online(obs)\n",
    "        obs, reward, done, info = env.step(action)"
   ]
  },
  {
   "cell_type": "code",
   "execution_count": 16,
   "metadata": {},
   "outputs": [
    {
     "name": "stdout",
     "output_type": "stream",
     "text": [
      "Box(0.1, 10.0, (1,), float64)\n"
     ]
    }
   ],
   "source": [
    "print(env.action_space)"
   ]
  },
  {
   "cell_type": "markdown",
   "metadata": {},
   "source": [
    "#### Online RL and comparison of the policies\n",
    "We now learn an online RL policy and compare it to random policy, using on-policy policy estimation."
   ]
  },
  {
   "cell_type": "code",
   "execution_count": 17,
   "metadata": {},
   "outputs": [],
   "source": [
    "from d3rlpy.algos import SAC\n",
    "from d3rlpy.models.encoders import VectorEncoderFactory\n",
    "from d3rlpy.models.q_functions import MeanQFunctionFactory\n",
    "from d3rlpy.online.buffers import ReplayBuffer\n",
    "\n",
    "# model\n",
    "sac = SAC(\n",
    "    actor_encoder_factory=VectorEncoderFactory(hidden_units=[30, 30]),\n",
    "    critic_encoder_factory=VectorEncoderFactory(hidden_units=[30, 30]),\n",
    "    q_func_factory=MeanQFunctionFactory(),\n",
    "    use_gpu=torch.cuda.is_available(),\n",
    "    action_scaler=MinMaxActionScaler(\n",
    "        minimum=env.action_space.low,   # 0.1\n",
    "        maximum=env.action_space.high,  # 10\n",
    "    ),\n",
    ")\n",
    "# setup replay buffer\n",
    "buffer = ReplayBuffer(\n",
    "    maxlen=10000,\n",
    "    env=env,\n",
    ")"
   ]
  },
  {
   "cell_type": "code",
   "execution_count": 18,
   "metadata": {},
   "outputs": [
    {
     "name": "stdout",
     "output_type": "stream",
     "text": [
      "2022-05-25 16:03.29 [info     ] Directory is created at d3rlpy_logs/SAC_online_20220525160329\n",
      "2022-05-25 16:03.29 [debug    ] Fitting action scaler...       action_scler=min_max\n",
      "2022-05-25 16:03.29 [debug    ] Building model...\n",
      "2022-05-25 16:03.29 [debug    ] Model has been built.\n",
      "2022-05-25 16:03.29 [info     ] Parameters are saved to d3rlpy_logs/SAC_online_20220525160329/params.json params={'action_scaler': {'type': 'min_max', 'params': {'minimum': array([0.1]), 'maximum': array([10.])}}, 'actor_encoder_factory': {'type': 'vector', 'params': {'hidden_units': [30, 30], 'activation': 'relu', 'use_batch_norm': False, 'dropout_rate': None, 'use_dense': False}}, 'actor_learning_rate': 0.0003, 'actor_optim_factory': {'optim_cls': 'Adam', 'betas': (0.9, 0.999), 'eps': 1e-08, 'weight_decay': 0, 'amsgrad': False}, 'batch_size': 256, 'critic_encoder_factory': {'type': 'vector', 'params': {'hidden_units': [30, 30], 'activation': 'relu', 'use_batch_norm': False, 'dropout_rate': None, 'use_dense': False}}, 'critic_learning_rate': 0.0003, 'critic_optim_factory': {'optim_cls': 'Adam', 'betas': (0.9, 0.999), 'eps': 1e-08, 'weight_decay': 0, 'amsgrad': False}, 'gamma': 0.99, 'generated_maxlen': 100000, 'initial_temperature': 1.0, 'n_critics': 2, 'n_frames': 1, 'n_steps': 1, 'q_func_factory': {'type': 'mean', 'params': {'share_encoder': False}}, 'real_ratio': 1.0, 'reward_scaler': None, 'scaler': None, 'tau': 0.005, 'temp_learning_rate': 0.0003, 'temp_optim_factory': {'optim_cls': 'Adam', 'betas': (0.9, 0.999), 'eps': 1e-08, 'weight_decay': 0, 'amsgrad': False}, 'use_gpu': None, 'algorithm': 'SAC', 'observation_shape': (7,), 'action_size': 1}\n"
     ]
    },
    {
     "data": {
      "application/vnd.jupyter.widget-view+json": {
       "model_id": "cf715aa543274e81b32e9606926fd8ec",
       "version_major": 2,
       "version_minor": 0
      },
      "text/plain": [
       "  0%|          | 0/100000 [00:00<?, ?it/s]"
      ]
     },
     "metadata": {},
     "output_type": "display_data"
    },
    {
     "name": "stdout",
     "output_type": "stream",
     "text": [
      "2022-05-25 16:03.35 [info     ] Model parameters are saved to d3rlpy_logs/SAC_online_20220525160329/model_1000.pt\n",
      "2022-05-25 16:03.35 [info     ] SAC_online_20220525160329: epoch=1 step=1000 epoch=1 metrics={'time_inference': 0.0005439412593841553, 'time_environment_step': 0.0006406114101409912, 'time_step': 0.005317545413970947, 'rollout_return': 10.894366197183098, 'time_sample_batch': 0.00021726639081459507, 'time_algorithm_update': 0.005268507658392391, 'temp_loss': -2.950444771739006, 'temp': 1.0156023247245183, 'critic_loss': 3645.1599560990467, 'actor_loss': 60.003381726558885, 'evaluation': 14.7} step=1000\n",
      "2022-05-25 16:03.42 [info     ] Model parameters are saved to d3rlpy_logs/SAC_online_20220525160329/model_2000.pt\n",
      "2022-05-25 16:03.42 [info     ] SAC_online_20220525160329: epoch=2 step=2000 epoch=2 metrics={'time_inference': 0.0005519685745239257, 'time_environment_step': 0.0006457421779632568, 'time_sample_batch': 0.00022825908660888673, 'time_algorithm_update': 0.005176695108413697, 'temp_loss': -1.9657694609165193, 'temp': 1.0738365989923477, 'critic_loss': 237.32705615997315, 'actor_loss': 18.725427295684813, 'time_step': 0.006664741754531861, 'rollout_return': 14.690140845070422, 'evaluation': 15.9} step=2000\n",
      "2022-05-25 16:03.49 [info     ] Model parameters are saved to d3rlpy_logs/SAC_online_20220525160329/model_3000.pt\n",
      "2022-05-25 16:03.49 [info     ] SAC_online_20220525160329: epoch=3 step=3000 epoch=3 metrics={'time_inference': 0.000583690881729126, 'time_environment_step': 0.0007034220695495605, 'time_sample_batch': 0.00025894999504089356, 'time_algorithm_update': 0.005446932077407837, 'temp_loss': -2.6777187624573706, 'temp': 1.2577763538360596, 'critic_loss': 131.814248336792, 'actor_loss': 11.125239952087401, 'time_step': 0.0070602896213531495, 'rollout_return': 14.5, 'evaluation': 15.1} step=3000\n",
      "2022-05-25 16:03.56 [info     ] Model parameters are saved to d3rlpy_logs/SAC_online_20220525160329/model_4000.pt\n",
      "2022-05-25 16:03.56 [info     ] SAC_online_20220525160329: epoch=4 step=4000 epoch=4 metrics={'time_inference': 0.0005475900173187256, 'time_environment_step': 0.0006450936794281006, 'time_sample_batch': 0.00024270224571228027, 'time_algorithm_update': 0.005202780485153199, 'temp_loss': -3.6879945631623268, 'temp': 1.6479233568906784, 'critic_loss': 213.2408970336914, 'actor_loss': 13.514505478858947, 'time_step': 0.006699639797210694, 'rollout_return': 15.091549295774648, 'evaluation': 15.8} step=4000\n",
      "2022-05-25 16:04.03 [info     ] Model parameters are saved to d3rlpy_logs/SAC_online_20220525160329/model_5000.pt\n",
      "2022-05-25 16:04.03 [info     ] SAC_online_20220525160329: epoch=5 step=5000 epoch=5 metrics={'time_inference': 0.0005704591274261475, 'time_environment_step': 0.0006735043525695801, 'time_sample_batch': 0.00026111936569213866, 'time_algorithm_update': 0.005358355522155762, 'temp_loss': -5.49978106045723, 'temp': 2.3436779329776765, 'critic_loss': 438.88648239135745, 'actor_loss': 20.909845970153807, 'time_step': 0.006927925825119019, 'rollout_return': 14.316901408450704, 'evaluation': 14.3} step=5000\n",
      "2022-05-25 16:04.10 [info     ] Model parameters are saved to d3rlpy_logs/SAC_online_20220525160329/model_6000.pt\n",
      "2022-05-25 16:04.10 [info     ] SAC_online_20220525160329: epoch=6 step=6000 epoch=6 metrics={'time_inference': 0.0005432190895080566, 'time_environment_step': 0.0006362411975860596, 'time_sample_batch': 0.0002493009567260742, 'time_algorithm_update': 0.005138342142105103, 'temp_loss': -8.115424335241318, 'temp': 3.4397490832805633, 'critic_loss': 947.5534590759278, 'actor_loss': 32.71355571365356, 'time_step': 0.006627358436584472, 'rollout_return': 14.654929577464788, 'evaluation': 14.2} step=6000\n",
      "2022-05-25 16:04.17 [info     ] Model parameters are saved to d3rlpy_logs/SAC_online_20220525160329/model_7000.pt\n",
      "2022-05-25 16:04.17 [info     ] SAC_online_20220525160329: epoch=7 step=7000 epoch=7 metrics={'time_inference': 0.0005420217514038086, 'time_environment_step': 0.0006373219490051269, 'time_sample_batch': 0.00025188660621643067, 'time_algorithm_update': 0.005133386850357056, 'temp_loss': -12.185349596500396, 'temp': 5.082015978336334, 'critic_loss': 2076.065126403809, 'actor_loss': 50.88721314239502, 'time_step': 0.00662481427192688, 'rollout_return': 15.105633802816902, 'evaluation': 12.0} step=7000\n",
      "2022-05-25 16:04.24 [info     ] Model parameters are saved to d3rlpy_logs/SAC_online_20220525160329/model_8000.pt\n",
      "2022-05-25 16:04.24 [info     ] SAC_online_20220525160329: epoch=8 step=8000 epoch=8 metrics={'time_inference': 0.0005569372177124023, 'time_environment_step': 0.0006548640727996826, 'time_sample_batch': 0.00026108908653259277, 'time_algorithm_update': 0.005263489007949829, 'temp_loss': -18.467615866184236, 'temp': 7.557417833328247, 'critic_loss': 4630.381330566406, 'actor_loss': 78.92529878234863, 'time_step': 0.006798185110092163, 'rollout_return': 14.683098591549296, 'evaluation': 12.0} step=8000\n",
      "2022-05-25 16:04.31 [info     ] Model parameters are saved to d3rlpy_logs/SAC_online_20220525160329/model_9000.pt\n",
      "2022-05-25 16:04.31 [info     ] SAC_online_20220525160329: epoch=9 step=9000 epoch=9 metrics={'time_inference': 0.0005562412738800049, 'time_environment_step': 0.0006602654457092285, 'time_sample_batch': 0.00026880884170532224, 'time_algorithm_update': 0.005256770133972168, 'temp_loss': -26.972970586776732, 'temp': 11.177779314994812, 'critic_loss': 9915.833479003906, 'actor_loss': 118.8551354522705, 'time_step': 0.00680467414855957, 'rollout_return': 14.415492957746478, 'evaluation': 15.9} step=9000\n",
      "2022-05-25 16:04.38 [info     ] Model parameters are saved to d3rlpy_logs/SAC_online_20220525160329/model_10000.pt\n",
      "2022-05-25 16:04.38 [info     ] SAC_online_20220525160329: epoch=10 step=10000 epoch=10 metrics={'time_inference': 0.0005581238269805908, 'time_environment_step': 0.0006598620414733886, 'time_sample_batch': 0.00027043485641479494, 'time_algorithm_update': 0.005348378896713257, 'temp_loss': -40.80852617073059, 'temp': 16.598354495048522, 'critic_loss': 21938.583044921874, 'actor_loss': 180.29619862365723, 'time_step': 0.006899543762207031, 'rollout_return': 14.725352112676056, 'evaluation': 14.4} step=10000\n",
      "2022-05-25 16:04.45 [info     ] Model parameters are saved to d3rlpy_logs/SAC_online_20220525160329/model_11000.pt\n",
      "2022-05-25 16:04.45 [info     ] SAC_online_20220525160329: epoch=11 step=11000 epoch=11 metrics={'time_inference': 0.0005608623027801514, 'time_environment_step': 0.0006650776863098145, 'time_sample_batch': 0.00027202439308166503, 'time_algorithm_update': 0.005329502820968628, 'temp_loss': -63.230903650283814, 'temp': 24.73321349143982, 'critic_loss': 47071.1962421875, 'actor_loss': 276.7851315765381, 'time_step': 0.006893788814544678, 'rollout_return': 14.767605633802816, 'evaluation': 16.3} step=11000\n",
      "2022-05-25 16:04.52 [info     ] Model parameters are saved to d3rlpy_logs/SAC_online_20220525160329/model_12000.pt\n",
      "2022-05-25 16:04.52 [info     ] SAC_online_20220525160329: epoch=12 step=12000 epoch=12 metrics={'time_inference': 0.0005549986362457276, 'time_environment_step': 0.0006577701568603515, 'time_sample_batch': 0.0002682726383209229, 'time_algorithm_update': 0.005293213605880738, 'temp_loss': -93.89094411468506, 'temp': 36.78420195198059, 'critic_loss': 103290.3205546875, 'actor_loss': 417.1970387573242, 'time_step': 0.00683966875076294, 'rollout_return': 14.528169014084508, 'evaluation': 13.3} step=12000\n",
      "2022-05-25 16:04.59 [info     ] Model parameters are saved to d3rlpy_logs/SAC_online_20220525160329/model_13000.pt\n",
      "2022-05-25 16:04.59 [info     ] SAC_online_20220525160329: epoch=13 step=13000 epoch=13 metrics={'time_inference': 0.0005669717788696289, 'time_environment_step': 0.0006676321029663086, 'time_sample_batch': 0.000272446870803833, 'time_algorithm_update': 0.005392726182937622, 'temp_loss': -138.73310007476806, 'temp': 54.53802658462524, 'critic_loss': 226524.205265625, 'actor_loss': 623.9194988708496, 'time_step': 0.006967018842697143, 'rollout_return': 14.26056338028169, 'evaluation': 11.1} step=13000\n",
      "2022-05-25 16:05.06 [info     ] Model parameters are saved to d3rlpy_logs/SAC_online_20220525160329/model_14000.pt\n",
      "2022-05-25 16:05.06 [info     ] SAC_online_20220525160329: epoch=14 step=14000 epoch=14 metrics={'time_inference': 0.0005661523342132568, 'time_environment_step': 0.00066408109664917, 'time_sample_batch': 0.0002711000442504883, 'time_algorithm_update': 0.0053624074459075926, 'temp_loss': -207.87553752899169, 'temp': 80.96775728607177, 'critic_loss': 503005.774328125, 'actor_loss': 928.9973860473633, 'time_step': 0.00692986536026001, 'rollout_return': 15.070422535211268, 'evaluation': 16.9} step=14000\n",
      "2022-05-25 16:05.13 [info     ] Model parameters are saved to d3rlpy_logs/SAC_online_20220525160329/model_15000.pt\n",
      "2022-05-25 16:05.13 [info     ] SAC_online_20220525160329: epoch=15 step=15000 epoch=15 metrics={'time_inference': 0.0005656561851501465, 'time_environment_step': 0.0006676070690155029, 'time_sample_batch': 0.00026993870735168455, 'time_algorithm_update': 0.005395148992538452, 'temp_loss': -305.1692947998047, 'temp': 119.9555617980957, 'critic_loss': 1095593.846, 'actor_loss': 1378.3010341186523, 'time_step': 0.006965434789657593, 'rollout_return': 14.345070422535212, 'evaluation': 14.8} step=15000\n",
      "2022-05-25 16:05.20 [info     ] Model parameters are saved to d3rlpy_logs/SAC_online_20220525160329/model_16000.pt\n",
      "2022-05-25 16:05.20 [info     ] SAC_online_20220525160329: epoch=16 step=16000 epoch=16 metrics={'time_inference': 0.0005581550598144532, 'time_environment_step': 0.000656996488571167, 'time_sample_batch': 0.00026646876335144045, 'time_algorithm_update': 0.0053171954154968264, 'temp_loss': -457.046774597168, 'temp': 178.09385540771484, 'critic_loss': 2394303.013875, 'actor_loss': 2057.274586791992, 'time_step': 0.006864688873291016, 'rollout_return': 15.190140845070422, 'evaluation': 13.6} step=16000\n",
      "2022-05-25 16:05.27 [info     ] Model parameters are saved to d3rlpy_logs/SAC_online_20220525160329/model_17000.pt\n",
      "2022-05-25 16:05.27 [info     ] SAC_online_20220525160329: epoch=17 step=17000 epoch=17 metrics={'time_inference': 0.0005631141662597656, 'time_environment_step': 0.0006636905670166015, 'time_sample_batch': 0.00026917195320129395, 'time_algorithm_update': 0.005350305557250977, 'temp_loss': -668.3562118225097, 'temp': 263.4425280303955, 'critic_loss': 5248685.1165, 'actor_loss': 3013.4703811035156, 'time_step': 0.006912883043289185, 'rollout_return': 14.985915492957746, 'evaluation': 14.3} step=17000\n",
      "2022-05-25 16:05.34 [info     ] Model parameters are saved to d3rlpy_logs/SAC_online_20220525160329/model_18000.pt\n",
      "2022-05-25 16:05.35 [info     ] SAC_online_20220525160329: epoch=18 step=18000 epoch=18 metrics={'time_inference': 0.0005625219345092773, 'time_environment_step': 0.0006597464084625244, 'time_sample_batch': 0.0002692255973815918, 'time_algorithm_update': 0.00533078932762146, 'temp_loss': -987.8164552307129, 'temp': 389.8286622314453, 'critic_loss': 11379401.905, 'actor_loss': 4462.198197998046, 'time_step': 0.006888353347778321, 'rollout_return': 14.669014084507042, 'evaluation': 12.1} step=18000\n",
      "2022-05-25 16:05.42 [info     ] Model parameters are saved to d3rlpy_logs/SAC_online_20220525160329/model_19000.pt\n",
      "2022-05-25 16:05.42 [info     ] SAC_online_20220525160329: epoch=19 step=19000 epoch=19 metrics={'time_inference': 0.0005687441825866699, 'time_environment_step': 0.0006702404022216797, 'time_sample_batch': 0.0002719395160675049, 'time_algorithm_update': 0.005408431768417358, 'temp_loss': -1446.8119935913087, 'temp': 576.6191558532715, 'critic_loss': 25153582.536, 'actor_loss': 6598.7487568359375, 'time_step': 0.00698665976524353, 'rollout_return': 14.93661971830986, 'evaluation': 14.4} step=19000\n",
      "2022-05-25 16:05.49 [info     ] Model parameters are saved to d3rlpy_logs/SAC_online_20220525160329/model_20000.pt\n",
      "2022-05-25 16:05.49 [info     ] SAC_online_20220525160329: epoch=20 step=20000 epoch=20 metrics={'time_inference': 0.0005693652629852295, 'time_environment_step': 0.0006688096523284912, 'time_sample_batch': 0.0002715024948120117, 'time_algorithm_update': 0.005414689064025879, 'temp_loss': -2148.86203314209, 'temp': 853.79167578125, 'critic_loss': 55183119.21, 'actor_loss': 9776.479337890625, 'time_step': 0.006991348505020142, 'rollout_return': 14.82394366197183, 'evaluation': 15.5} step=20000\n",
      "2022-05-25 16:05.56 [info     ] Model parameters are saved to d3rlpy_logs/SAC_online_20220525160329/model_21000.pt\n",
      "2022-05-25 16:05.56 [info     ] SAC_online_20220525160329: epoch=21 step=21000 epoch=21 metrics={'time_inference': 0.0005700638294219971, 'time_environment_step': 0.0006722266674041748, 'time_sample_batch': 0.00027442431449890137, 'time_algorithm_update': 0.005412020444869995, 'temp_loss': 706.6317830352783, 'temp': 1036.2877041625977, 'critic_loss': 22975071.56925, 'actor_loss': 4268.803122497558, 'time_step': 0.0069962811470031736, 'rollout_return': 14.514084507042254, 'evaluation': 15.4} step=21000\n",
      "2022-05-25 16:06.03 [info     ] Model parameters are saved to d3rlpy_logs/SAC_online_20220525160329/model_22000.pt\n",
      "2022-05-25 16:06.03 [info     ] SAC_online_20220525160329: epoch=22 step=22000 epoch=22 metrics={'time_inference': 0.0005664622783660889, 'time_environment_step': 0.0006663870811462403, 'time_sample_batch': 0.0002701606750488281, 'time_algorithm_update': 0.0053938889503479005, 'temp_loss': 1348.2867614746094, 'temp': 825.0360209960937, 'critic_loss': 591859.382078125, 'actor_loss': -633.9686412606239, 'time_step': 0.006964088678359986, 'rollout_return': 14.471830985915492, 'evaluation': 14.6} step=22000\n",
      "2022-05-25 16:06.10 [info     ] Model parameters are saved to d3rlpy_logs/SAC_online_20220525160329/model_23000.pt\n",
      "2022-05-25 16:06.10 [info     ] SAC_online_20220525160329: epoch=23 step=23000 epoch=23 metrics={'time_inference': 0.0005687813758850097, 'time_environment_step': 0.0006666336059570312, 'time_sample_batch': 0.00027263355255126954, 'time_algorithm_update': 0.005392805814743042, 'temp_loss': 1073.713758605957, 'temp': 652.8180576782227, 'critic_loss': 179398.926296875, 'actor_loss': -1129.9968530883789, 'time_step': 0.006967832088470459, 'rollout_return': 14.21830985915493, 'evaluation': 14.8} step=23000\n",
      "2022-05-25 16:06.18 [info     ] Model parameters are saved to d3rlpy_logs/SAC_online_20220525160329/model_24000.pt\n",
      "2022-05-25 16:06.18 [info     ] SAC_online_20220525160329: epoch=24 step=24000 epoch=24 metrics={'time_inference': 0.0005745868682861329, 'time_environment_step': 0.0006772971153259277, 'time_sample_batch': 0.00027353549003601073, 'time_algorithm_update': 0.0054512984752655026, 'temp_loss': 854.3836075439453, 'temp': 519.4148967285156, 'critic_loss': 131946.9349296875, 'actor_loss': -992.2087266235352, 'time_step': 0.0070447025299072265, 'rollout_return': 14.316901408450704, 'evaluation': 13.0} step=24000\n",
      "2022-05-25 16:06.25 [info     ] Model parameters are saved to d3rlpy_logs/SAC_online_20220525160329/model_25000.pt\n",
      "2022-05-25 16:06.25 [info     ] SAC_online_20220525160329: epoch=25 step=25000 epoch=25 metrics={'time_inference': 0.0005812451839447021, 'time_environment_step': 0.0006896224021911621, 'time_sample_batch': 0.00027893543243408204, 'time_algorithm_update': 0.005583196401596069, 'temp_loss': 679.6763223876953, 'temp': 414.4274153137207, 'critic_loss': 87115.28351171875, 'actor_loss': -795.3307942504882, 'time_step': 0.007203428506851196, 'rollout_return': 14.253521126760564, 'evaluation': 13.4} step=25000\n",
      "2022-05-25 16:06.32 [info     ] Model parameters are saved to d3rlpy_logs/SAC_online_20220525160329/model_26000.pt\n",
      "2022-05-25 16:06.32 [info     ] SAC_online_20220525160329: epoch=26 step=26000 epoch=26 metrics={'time_inference': 0.0005759053230285644, 'time_environment_step': 0.0006792933940887451, 'time_sample_batch': 0.00027581381797790527, 'time_algorithm_update': 0.005491993188858032, 'temp_loss': 545.767301361084, 'temp': 331.0109131164551, 'critic_loss': 50994.33662109375, 'actor_loss': -640.5258510131836, 'time_step': 0.007091609477996827, 'rollout_return': 14.556338028169014, 'evaluation': 13.2} step=26000\n",
      "2022-05-25 16:06.40 [info     ] Model parameters are saved to d3rlpy_logs/SAC_online_20220525160329/model_27000.pt\n",
      "2022-05-25 16:06.40 [info     ] SAC_online_20220525160329: epoch=27 step=27000 epoch=27 metrics={'time_inference': 0.0005773732662200928, 'time_environment_step': 0.0006804618835449218, 'time_sample_batch': 0.0002748768329620361, 'time_algorithm_update': 0.0054926745891571045, 'temp_loss': 432.8783162841797, 'temp': 264.6203307189941, 'critic_loss': 34897.01065820312, 'actor_loss': -502.3200895690918, 'time_step': 0.007094134330749511, 'rollout_return': 14.035211267605634, 'evaluation': 14.6} step=27000\n",
      "2022-05-25 16:06.47 [info     ] Model parameters are saved to d3rlpy_logs/SAC_online_20220525160329/model_28000.pt\n",
      "2022-05-25 16:06.47 [info     ] SAC_online_20220525160329: epoch=28 step=28000 epoch=28 metrics={'time_inference': 0.0005714685916900635, 'time_environment_step': 0.0006714615821838379, 'time_sample_batch': 0.00027338337898254395, 'time_algorithm_update': 0.005432101964950561, 'temp_loss': 346.97715405273436, 'temp': 211.66556498718262, 'critic_loss': 21286.704314453124, 'actor_loss': -401.19529583740234, 'time_step': 0.007016103029251099, 'rollout_return': 14.183098591549296, 'evaluation': 14.1} step=28000\n",
      "2022-05-25 16:06.54 [info     ] Model parameters are saved to d3rlpy_logs/SAC_online_20220525160329/model_29000.pt\n",
      "2022-05-25 16:06.54 [info     ] SAC_online_20220525160329: epoch=29 step=29000 epoch=29 metrics={'time_inference': 0.0005780680179595947, 'time_environment_step': 0.0006809508800506591, 'time_sample_batch': 0.00027710700035095214, 'time_algorithm_update': 0.00550942325592041, 'temp_loss': 277.9792905273438, 'temp': 169.1943145751953, 'critic_loss': 12846.83540625, 'actor_loss': -324.62133808898926, 'time_step': 0.007113585948944092, 'rollout_return': 14.267605633802816, 'evaluation': 15.4} step=29000\n",
      "2022-05-25 16:07.01 [info     ] Model parameters are saved to d3rlpy_logs/SAC_online_20220525160329/model_30000.pt\n",
      "2022-05-25 16:07.01 [info     ] SAC_online_20220525160329: epoch=30 step=30000 epoch=30 metrics={'time_inference': 0.0005736076831817627, 'time_environment_step': 0.0006727674007415772, 'time_sample_batch': 0.0002726786136627197, 'time_algorithm_update': 0.005441869497299194, 'temp_loss': 223.0915656890869, 'temp': 135.26070899963378, 'critic_loss': 7471.919921875, 'actor_loss': -264.6942717590332, 'time_step': 0.007029028654098511, 'rollout_return': 14.45774647887324, 'evaluation': 14.6} step=30000\n",
      "2022-05-25 16:07.09 [info     ] Model parameters are saved to d3rlpy_logs/SAC_online_20220525160329/model_31000.pt\n",
      "2022-05-25 16:07.09 [info     ] SAC_online_20220525160329: epoch=31 step=31000 epoch=31 metrics={'time_inference': 0.000579455852508545, 'time_environment_step': 0.0006849753856658935, 'time_sample_batch': 0.0002777309417724609, 'time_algorithm_update': 0.005509697914123536, 'temp_loss': 176.8917287750244, 'temp': 108.22044680786132, 'critic_loss': 5398.641608642578, 'actor_loss': -211.70400801086427, 'time_step': 0.007120411872863769, 'rollout_return': 14.82394366197183, 'evaluation': 14.6} step=31000\n",
      "2022-05-25 16:07.16 [info     ] Model parameters are saved to d3rlpy_logs/SAC_online_20220525160329/model_32000.pt\n",
      "2022-05-25 16:07.16 [info     ] SAC_online_20220525160329: epoch=32 step=32000 epoch=32 metrics={'time_inference': 0.0005706436634063721, 'time_environment_step': 0.000668895959854126, 'time_sample_batch': 0.0002707967758178711, 'time_algorithm_update': 0.005427602052688598, 'temp_loss': 141.6941374206543, 'temp': 86.55394627380372, 'critic_loss': 3534.1842738037108, 'actor_loss': -174.67228860473634, 'time_step': 0.007005055427551269, 'rollout_return': 14.211267605633802, 'evaluation': 14.5} step=32000\n",
      "2022-05-25 16:07.23 [info     ] Model parameters are saved to d3rlpy_logs/SAC_online_20220525160329/model_33000.pt\n",
      "2022-05-25 16:07.23 [info     ] SAC_online_20220525160329: epoch=33 step=33000 epoch=33 metrics={'time_inference': 0.0005765600204467774, 'time_environment_step': 0.0006773908138275146, 'time_sample_batch': 0.0002778282165527344, 'time_algorithm_update': 0.005480697393417358, 'temp_loss': 112.9729349822998, 'temp': 69.26203293609619, 'critic_loss': 2427.4242520751955, 'actor_loss': -141.5254131088257, 'time_step': 0.007080718755722046, 'rollout_return': 15.098591549295774, 'evaluation': 12.6} step=33000\n",
      "2022-05-25 16:07.30 [info     ] Model parameters are saved to d3rlpy_logs/SAC_online_20220525160329/model_34000.pt\n",
      "2022-05-25 16:07.30 [info     ] SAC_online_20220525160329: epoch=34 step=34000 epoch=34 metrics={'time_inference': 0.0005777463912963868, 'time_environment_step': 0.0006749765872955322, 'time_sample_batch': 0.0002742314338684082, 'time_algorithm_update': 0.005482098817825317, 'temp_loss': 90.05357662963867, 'temp': 55.44698600769043, 'critic_loss': 1652.19568359375, 'actor_loss': -113.20325812530517, 'time_step': 0.007077314138412475, 'rollout_return': 14.387323943661972, 'evaluation': 16.5} step=34000\n",
      "2022-05-25 16:07.38 [info     ] Model parameters are saved to d3rlpy_logs/SAC_online_20220525160329/model_35000.pt\n",
      "2022-05-25 16:07.38 [info     ] SAC_online_20220525160329: epoch=35 step=35000 epoch=35 metrics={'time_inference': 0.0005733869075775146, 'time_environment_step': 0.0006764073371887207, 'time_sample_batch': 0.00027260589599609376, 'time_algorithm_update': 0.0054486019611358644, 'temp_loss': 72.1331470336914, 'temp': 44.36189346313476, 'critic_loss': 1088.972609008789, 'actor_loss': -91.2495830154419, 'time_step': 0.007039366722106933, 'rollout_return': 14.401408450704226, 'evaluation': 15.7} step=35000\n",
      "2022-05-25 16:07.45 [info     ] Model parameters are saved to d3rlpy_logs/SAC_online_20220525160329/model_36000.pt\n",
      "2022-05-25 16:07.45 [info     ] SAC_online_20220525160329: epoch=36 step=36000 epoch=36 metrics={'time_inference': 0.000580416202545166, 'time_environment_step': 0.0006862034797668457, 'time_sample_batch': 0.0002785220146179199, 'time_algorithm_update': 0.005540857791900635, 'temp_loss': 57.57123575973511, 'temp': 35.495211736679074, 'critic_loss': 709.556489654541, 'actor_loss': -73.58984460830689, 'time_step': 0.007155014514923096, 'rollout_return': 14.366197183098592, 'evaluation': 14.0} step=36000\n",
      "2022-05-25 16:07.52 [info     ] Model parameters are saved to d3rlpy_logs/SAC_online_20220525160329/model_37000.pt\n",
      "2022-05-25 16:07.52 [info     ] SAC_online_20220525160329: epoch=37 step=37000 epoch=37 metrics={'time_inference': 0.000571091890335083, 'time_environment_step': 0.0006685183048248291, 'time_sample_batch': 0.0002709794044494629, 'time_algorithm_update': 0.005411274671554565, 'temp_loss': 46.30670925521851, 'temp': 28.37824813079834, 'critic_loss': 431.7415021209717, 'actor_loss': -58.77358773040771, 'time_step': 0.006989323854446411, 'rollout_return': 14.964788732394366, 'evaluation': 13.8} step=37000\n",
      "2022-05-25 16:07.59 [info     ] Model parameters are saved to d3rlpy_logs/SAC_online_20220525160329/model_38000.pt\n",
      "2022-05-25 16:07.59 [info     ] SAC_online_20220525160329: epoch=38 step=38000 epoch=38 metrics={'time_inference': 0.0005696585178375244, 'time_environment_step': 0.0006688592433929443, 'time_sample_batch': 0.00026969599723815916, 'time_algorithm_update': 0.005424142599105835, 'temp_loss': 36.898386489868166, 'temp': 22.692289293289186, 'critic_loss': 292.1030930328369, 'actor_loss': -45.83066827011108, 'time_step': 0.006999372243881225, 'rollout_return': 13.838028169014084, 'evaluation': 14.3} step=38000\n",
      "2022-05-25 16:08.07 [info     ] Model parameters are saved to d3rlpy_logs/SAC_online_20220525160329/model_39000.pt\n",
      "2022-05-25 16:08.07 [info     ] SAC_online_20220525160329: epoch=39 step=39000 epoch=39 metrics={'time_inference': 0.0005752589702606202, 'time_environment_step': 0.0006721112728118897, 'time_sample_batch': 0.0002715916633605957, 'time_algorithm_update': 0.005474182844161987, 'temp_loss': 29.60602385520935, 'temp': 18.140994598388673, 'critic_loss': 184.4158431930542, 'actor_loss': -37.37787751770019, 'time_step': 0.007060659408569336, 'rollout_return': 14.309859154929578, 'evaluation': 16.0} step=39000\n",
      "2022-05-25 16:08.14 [info     ] Model parameters are saved to d3rlpy_logs/SAC_online_20220525160329/model_40000.pt\n",
      "2022-05-25 16:08.14 [info     ] SAC_online_20220525160329: epoch=40 step=40000 epoch=40 metrics={'time_inference': 0.0005716230869293213, 'time_environment_step': 0.0006697673797607422, 'time_sample_batch': 0.00027116894721984863, 'time_algorithm_update': 0.00543375301361084, 'temp_loss': 23.676449926376343, 'temp': 14.50425456237793, 'critic_loss': 125.44643920516968, 'actor_loss': -30.605334939956666, 'time_step': 0.007013201236724853, 'rollout_return': 14.47887323943662, 'evaluation': 15.4} step=40000\n",
      "2022-05-25 16:08.21 [info     ] Model parameters are saved to d3rlpy_logs/SAC_online_20220525160329/model_41000.pt\n",
      "2022-05-25 16:08.21 [info     ] SAC_online_20220525160329: epoch=41 step=41000 epoch=41 metrics={'time_inference': 0.0005746023654937744, 'time_environment_step': 0.0006703271865844727, 'time_sample_batch': 0.0002702953815460205, 'time_algorithm_update': 0.0054381186962127685, 'temp_loss': 18.87318430519104, 'temp': 11.600305186271667, 'critic_loss': 99.28968844985963, 'actor_loss': -25.26568329811096, 'time_step': 0.007020566701889038, 'rollout_return': 14.73943661971831, 'evaluation': 14.6} step=41000\n",
      "2022-05-25 16:08.28 [info     ] Model parameters are saved to d3rlpy_logs/SAC_online_20220525160329/model_42000.pt\n",
      "2022-05-25 16:08.28 [info     ] SAC_online_20220525160329: epoch=42 step=42000 epoch=42 metrics={'time_inference': 0.0005718414783477783, 'time_environment_step': 0.0006657612323760987, 'time_sample_batch': 0.00027026963233947756, 'time_algorithm_update': 0.005428394556045532, 'temp_loss': 15.132345122337341, 'temp': 9.275665802001953, 'critic_loss': 66.4365126953125, 'actor_loss': -21.24789792060852, 'time_step': 0.0070032539367675785, 'rollout_return': 14.190140845070422, 'evaluation': 14.9} step=42000\n",
      "2022-05-25 16:08.36 [info     ] Model parameters are saved to d3rlpy_logs/SAC_online_20220525160329/model_43000.pt\n",
      "2022-05-25 16:08.36 [info     ] SAC_online_20220525160329: epoch=43 step=43000 epoch=43 metrics={'time_inference': 0.0005895581245422363, 'time_environment_step': 0.0006908621788024903, 'time_sample_batch': 0.0002805049419403076, 'time_algorithm_update': 0.005583788633346558, 'temp_loss': 12.101476484298706, 'temp': 7.418677233695984, 'critic_loss': 49.21134570503235, 'actor_loss': -17.763200037002562, 'time_step': 0.007214222192764282, 'rollout_return': 14.683098591549296, 'evaluation': 13.2} step=43000\n",
      "2022-05-25 16:08.43 [info     ] Model parameters are saved to d3rlpy_logs/SAC_online_20220525160329/model_44000.pt\n",
      "2022-05-25 16:08.43 [info     ] SAC_online_20220525160329: epoch=44 step=44000 epoch=44 metrics={'time_inference': 0.0005754313468933106, 'time_environment_step': 0.0006750836372375488, 'time_sample_batch': 0.00027376317977905276, 'time_algorithm_update': 0.0054741504192352295, 'temp_loss': 9.60941642665863, 'temp': 5.935394521713257, 'critic_loss': 42.8006836013794, 'actor_loss': -14.609206025123596, 'time_step': 0.007066480398178101, 'rollout_return': 14.556338028169014, 'evaluation': 13.7} step=44000\n",
      "2022-05-25 16:08.50 [info     ] Model parameters are saved to d3rlpy_logs/SAC_online_20220525160329/model_45000.pt\n",
      "2022-05-25 16:08.50 [info     ] SAC_online_20220525160329: epoch=45 step=45000 epoch=45 metrics={'time_inference': 0.000574404239654541, 'time_environment_step': 0.0006669149398803711, 'time_sample_batch': 0.00027061080932617185, 'time_algorithm_update': 0.005452053308486938, 'temp_loss': 7.700648378372192, 'temp': 4.749467750072479, 'critic_loss': 32.48888639545441, 'actor_loss': -12.55968310046196, 'time_step': 0.007030983686447143, 'rollout_return': 14.464788732394366, 'evaluation': 13.6} step=45000\n",
      "2022-05-25 16:08.57 [info     ] Model parameters are saved to d3rlpy_logs/SAC_online_20220525160329/model_46000.pt\n",
      "2022-05-25 16:08.57 [info     ] SAC_online_20220525160329: epoch=46 step=46000 epoch=46 metrics={'time_inference': 0.0005765864849090576, 'time_environment_step': 0.0006680853366851806, 'time_sample_batch': 0.00027065563201904297, 'time_algorithm_update': 0.005434781789779663, 'temp_loss': 6.131952736377716, 'temp': 3.801230126619339, 'critic_loss': 34.08773366546631, 'actor_loss': -10.42897754240036, 'time_step': 0.007017031908035278, 'rollout_return': 14.732394366197184, 'evaluation': 13.4} step=46000\n",
      "2022-05-25 16:09.05 [info     ] Model parameters are saved to d3rlpy_logs/SAC_online_20220525160329/model_47000.pt\n",
      "2022-05-25 16:09.05 [info     ] SAC_online_20220525160329: epoch=47 step=47000 epoch=47 metrics={'time_inference': 0.000569627046585083, 'time_environment_step': 0.0006662976741790772, 'time_sample_batch': 0.00027104449272155763, 'time_algorithm_update': 0.005417825937271118, 'temp_loss': 4.874506626367569, 'temp': 3.043472454547882, 'critic_loss': 42.57956520175934, 'actor_loss': -8.80070102763176, 'time_step': 0.006991504907608032, 'rollout_return': 14.845070422535212, 'evaluation': 13.4} step=47000\n",
      "2022-05-25 16:09.12 [info     ] Model parameters are saved to d3rlpy_logs/SAC_online_20220525160329/model_48000.pt\n",
      "2022-05-25 16:09.12 [info     ] SAC_online_20220525160329: epoch=48 step=48000 epoch=48 metrics={'time_inference': 0.0005674164295196533, 'time_environment_step': 0.0006620209217071533, 'time_sample_batch': 0.00026762127876281736, 'time_algorithm_update': 0.005404742956161499, 'temp_loss': 3.9088886415958406, 'temp': 2.43604584813118, 'critic_loss': 37.74566330528259, 'actor_loss': -7.6244949618577955, 'time_step': 0.006968145132064819, 'rollout_return': 14.401408450704226, 'evaluation': 14.2} step=48000\n",
      "2022-05-25 16:09.19 [info     ] Model parameters are saved to d3rlpy_logs/SAC_online_20220525160329/model_49000.pt\n",
      "2022-05-25 16:09.19 [info     ] SAC_online_20220525160329: epoch=49 step=49000 epoch=49 metrics={'time_inference': 0.0005804378986358642, 'time_environment_step': 0.0006752288341522216, 'time_sample_batch': 0.00027367210388183595, 'time_algorithm_update': 0.005462341070175171, 'temp_loss': 3.1064992661476136, 'temp': 1.948985485434532, 'critic_loss': 26.744103121757508, 'actor_loss': -6.838956359624863, 'time_step': 0.007059330940246582, 'rollout_return': 14.464788732394366, 'evaluation': 15.1} step=49000\n",
      "2022-05-25 16:09.26 [info     ] Model parameters are saved to d3rlpy_logs/SAC_online_20220525160329/model_50000.pt\n",
      "2022-05-25 16:09.26 [info     ] SAC_online_20220525160329: epoch=50 step=50000 epoch=50 metrics={'time_inference': 0.0005754823684692383, 'time_environment_step': 0.0006708755493164063, 'time_sample_batch': 0.0002728214263916016, 'time_algorithm_update': 0.005476072311401368, 'temp_loss': 2.4914259407520296, 'temp': 1.560708892941475, 'critic_loss': 29.41871744966507, 'actor_loss': -6.086736775234342, 'time_step': 0.00706276535987854, 'rollout_return': 14.894366197183098, 'evaluation': 15.2} step=50000\n",
      "2022-05-25 16:09.34 [info     ] Model parameters are saved to d3rlpy_logs/SAC_online_20220525160329/model_51000.pt\n",
      "2022-05-25 16:09.34 [info     ] SAC_online_20220525160329: epoch=51 step=51000 epoch=51 metrics={'time_inference': 0.0005729966163635254, 'time_environment_step': 0.0006704289913177491, 'time_sample_batch': 0.00027134919166564944, 'time_algorithm_update': 0.0054737069606781005, 'temp_loss': 1.9683368798494338, 'temp': 1.2495781347751618, 'critic_loss': 20.97085792541504, 'actor_loss': -5.49781933811307, 'time_step': 0.0070557699203491215, 'rollout_return': 14.661971830985916, 'evaluation': 15.2} step=51000\n",
      "2022-05-25 16:09.41 [info     ] Model parameters are saved to d3rlpy_logs/SAC_online_20220525160329/model_52000.pt\n",
      "2022-05-25 16:09.41 [info     ] SAC_online_20220525160329: epoch=52 step=52000 epoch=52 metrics={'time_inference': 0.000573502779006958, 'time_environment_step': 0.000668067455291748, 'time_sample_batch': 0.00026866769790649415, 'time_algorithm_update': 0.00543399167060852, 'temp_loss': 1.5656035009622573, 'temp': 1.0017899428009986, 'critic_loss': 22.055388106822967, 'actor_loss': -5.024517012301833, 'time_step': 0.007011206865310669, 'rollout_return': 14.5, 'evaluation': 14.3} step=52000\n",
      "2022-05-25 16:09.48 [info     ] Model parameters are saved to d3rlpy_logs/SAC_online_20220525160329/model_53000.pt\n",
      "2022-05-25 16:09.48 [info     ] SAC_online_20220525160329: epoch=53 step=53000 epoch=53 metrics={'time_inference': 0.0005764176845550537, 'time_environment_step': 0.0006660277843475342, 'time_sample_batch': 0.0002714023590087891, 'time_algorithm_update': 0.0054544475078582766, 'temp_loss': 1.2445910090208054, 'temp': 0.8029914138317108, 'critic_loss': 18.548922103881836, 'actor_loss': -4.6090684042721985, 'time_step': 0.007035090684890747, 'rollout_return': 14.774647887323944, 'evaluation': 12.9} step=53000\n",
      "2022-05-25 16:09.55 [info     ] Model parameters are saved to d3rlpy_logs/SAC_online_20220525160329/model_54000.pt\n",
      "2022-05-25 16:09.55 [info     ] SAC_online_20220525160329: epoch=54 step=54000 epoch=54 metrics={'time_inference': 0.0005743925571441651, 'time_environment_step': 0.0006678330898284912, 'time_sample_batch': 0.00027129173278808596, 'time_algorithm_update': 0.005429012060165405, 'temp_loss': 0.9854802849292755, 'temp': 0.6438526147007942, 'critic_loss': 17.812817765712737, 'actor_loss': -4.208400846377015, 'time_step': 0.007009501457214355, 'rollout_return': 15.154929577464788, 'evaluation': 14.8} step=54000\n",
      "2022-05-25 16:10.02 [info     ] Model parameters are saved to d3rlpy_logs/SAC_online_20220525160329/model_55000.pt\n",
      "2022-05-25 16:10.02 [info     ] SAC_online_20220525160329: epoch=55 step=55000 epoch=55 metrics={'time_inference': 0.0005806119441986084, 'time_environment_step': 0.0006739513874053955, 'time_sample_batch': 0.000272205114364624, 'time_algorithm_update': 0.00549477219581604, 'temp_loss': 0.7705802418887615, 'temp': 0.5170430440306664, 'critic_loss': 14.666678280830384, 'actor_loss': -4.1487293348908425, 'time_step': 0.007089265823364258, 'rollout_return': 14.943661971830986, 'evaluation': 15.3} step=55000\n",
      "2022-05-25 16:10.10 [info     ] Model parameters are saved to d3rlpy_logs/SAC_online_20220525160329/model_56000.pt\n",
      "2022-05-25 16:10.10 [info     ] SAC_online_20220525160329: epoch=56 step=56000 epoch=56 metrics={'time_inference': 0.00059222412109375, 'time_environment_step': 0.0006996042728424072, 'time_sample_batch': 0.0002806086540222168, 'time_algorithm_update': 0.0055959224700927734, 'temp_loss': 0.6087270457446575, 'temp': 0.41573324528336525, 'critic_loss': 14.317934000492096, 'actor_loss': -3.9898747848421334, 'time_step': 0.007238908767700196, 'rollout_return': 15.514084507042254, 'evaluation': 14.8} step=56000\n",
      "2022-05-25 16:10.17 [info     ] Model parameters are saved to d3rlpy_logs/SAC_online_20220525160329/model_57000.pt\n",
      "2022-05-25 16:10.17 [info     ] SAC_online_20220525160329: epoch=57 step=57000 epoch=57 metrics={'time_inference': 0.0005797512531280517, 'time_environment_step': 0.0006751728057861328, 'time_sample_batch': 0.00027347803115844725, 'time_algorithm_update': 0.005520618438720703, 'temp_loss': 0.47867821738123895, 'temp': 0.33450644025206566, 'critic_loss': 12.43648289680481, 'actor_loss': -3.900186577282846, 'time_step': 0.007117044925689697, 'rollout_return': 14.746478873239436, 'evaluation': 14.2} step=57000\n",
      "2022-05-25 16:10.25 [info     ] Model parameters are saved to d3rlpy_logs/SAC_online_20220525160329/model_58000.pt\n",
      "2022-05-25 16:10.25 [info     ] SAC_online_20220525160329: epoch=58 step=58000 epoch=58 metrics={'time_inference': 0.0005805747509002685, 'time_environment_step': 0.0006791315078735351, 'time_sample_batch': 0.00027518224716186526, 'time_algorithm_update': 0.005567323446273803, 'temp_loss': 0.36856978008151053, 'temp': 0.2697145740389824, 'critic_loss': 13.223416422367096, 'actor_loss': -3.7459898531585933, 'time_step': 0.007170710563659668, 'rollout_return': 14.859154929577464, 'evaluation': 14.8} step=58000\n",
      "2022-05-25 16:10.32 [info     ] Model parameters are saved to d3rlpy_logs/SAC_online_20220525160329/model_59000.pt\n",
      "2022-05-25 16:10.32 [info     ] SAC_online_20220525160329: epoch=59 step=59000 epoch=59 metrics={'time_inference': 0.0005873169898986816, 'time_environment_step': 0.0006921994686126709, 'time_sample_batch': 0.0002767593860626221, 'time_algorithm_update': 0.0055898411273956295, 'temp_loss': 0.2866337829530239, 'temp': 0.218019652351737, 'critic_loss': 12.308923158884049, 'actor_loss': -3.5899269019179045, 'time_step': 0.007215724468231201, 'rollout_return': 15.070422535211268, 'evaluation': 15.2} step=59000\n",
      "2022-05-25 16:10.40 [info     ] Model parameters are saved to d3rlpy_logs/SAC_online_20220525160329/model_60000.pt\n",
      "2022-05-25 16:10.40 [info     ] SAC_online_20220525160329: epoch=60 step=60000 epoch=60 metrics={'time_inference': 0.0006062393188476562, 'time_environment_step': 0.0007125599384307862, 'time_sample_batch': 0.00028653240203857424, 'time_algorithm_update': 0.0058074257373809815, 'temp_loss': 0.219912560403347, 'temp': 0.17643646086752415, 'critic_loss': 11.950651245594024, 'actor_loss': -3.6070943550616503, 'time_step': 0.007485180854797363, 'rollout_return': 15.267605633802816, 'evaluation': 14.9} step=60000\n",
      "2022-05-25 16:10.47 [info     ] Model parameters are saved to d3rlpy_logs/SAC_online_20220525160329/model_61000.pt\n",
      "2022-05-25 16:10.47 [info     ] SAC_online_20220525160329: epoch=61 step=61000 epoch=61 metrics={'time_inference': 0.0005925168991088867, 'time_environment_step': 0.000699389934539795, 'time_sample_batch': 0.00028197431564331053, 'time_algorithm_update': 0.005672860383987427, 'temp_loss': 0.16498414976149797, 'temp': 0.14334506098926067, 'critic_loss': 13.389355654716491, 'actor_loss': -3.4607340569347143, 'time_step': 0.007317640781402588, 'rollout_return': 15.190140845070422, 'evaluation': 15.1} step=61000\n",
      "2022-05-25 16:10.55 [info     ] Model parameters are saved to d3rlpy_logs/SAC_online_20220525160329/model_62000.pt\n",
      "2022-05-25 16:10.55 [info     ] SAC_online_20220525160329: epoch=62 step=62000 epoch=62 metrics={'time_inference': 0.0005927162170410157, 'time_environment_step': 0.0007005774974822998, 'time_sample_batch': 0.00028349924087524417, 'time_algorithm_update': 0.005639147043228149, 'temp_loss': 0.1235515283420682, 'temp': 0.11709378869831562, 'critic_loss': 11.986183867454528, 'actor_loss': -3.516601335927844, 'time_step': 0.007286802768707275, 'rollout_return': 15.049295774647888, 'evaluation': 14.8} step=62000\n",
      "2022-05-25 16:11.02 [info     ] Model parameters are saved to d3rlpy_logs/SAC_online_20220525160329/model_63000.pt\n",
      "2022-05-25 16:11.02 [info     ] SAC_online_20220525160329: epoch=63 step=63000 epoch=63 metrics={'time_inference': 0.0005924994945526123, 'time_environment_step': 0.0006897306442260742, 'time_sample_batch': 0.00027839303016662597, 'time_algorithm_update': 0.005610552787780762, 'temp_loss': 0.09111446832865476, 'temp': 0.09616990099102259, 'critic_loss': 12.024156346082687, 'actor_loss': -3.5175635247044266, 'time_step': 0.007241426944732666, 'rollout_return': 14.992957746478874, 'evaluation': 13.3} step=63000\n",
      "2022-05-25 16:11.09 [info     ] Model parameters are saved to d3rlpy_logs/SAC_online_20220525160329/model_64000.pt\n",
      "2022-05-25 16:11.09 [info     ] SAC_online_20220525160329: epoch=64 step=64000 epoch=64 metrics={'time_inference': 0.0005617759227752686, 'time_environment_step': 0.0006445236206054687, 'time_sample_batch': 0.0002612736225128174, 'time_algorithm_update': 0.005354833126068115, 'temp_loss': 0.06902652120543644, 'temp': 0.07885585059970618, 'critic_loss': 12.066004910707473, 'actor_loss': -3.535773136086762, 'time_step': 0.006886799335479737, 'rollout_return': 15.056338028169014, 'evaluation': 14.9} step=64000\n",
      "2022-05-25 16:11.17 [info     ] Model parameters are saved to d3rlpy_logs/SAC_online_20220525160329/model_65000.pt\n",
      "2022-05-25 16:11.17 [info     ] SAC_online_20220525160329: epoch=65 step=65000 epoch=65 metrics={'time_inference': 0.0005836749076843262, 'time_environment_step': 0.0006791143417358398, 'time_sample_batch': 0.00027622485160827635, 'time_algorithm_update': 0.005562151193618774, 'temp_loss': 0.046980750498594716, 'temp': 0.06536723359301687, 'critic_loss': 13.318004932403564, 'actor_loss': -3.4052302172183992, 'time_step': 0.007169658184051513, 'rollout_return': 14.845070422535212, 'evaluation': 15.2} step=65000\n",
      "2022-05-25 16:11.24 [info     ] Model parameters are saved to d3rlpy_logs/SAC_online_20220525160329/model_66000.pt\n",
      "2022-05-25 16:11.24 [info     ] SAC_online_20220525160329: epoch=66 step=66000 epoch=66 metrics={'time_inference': 0.0005654699802398682, 'time_environment_step': 0.0006556704044342041, 'time_sample_batch': 0.0002643933296203613, 'time_algorithm_update': 0.005385817050933838, 'temp_loss': 0.03165527313377243, 'temp': 0.05501949996873736, 'critic_loss': 12.14243677854538, 'actor_loss': -3.4385691783688963, 'time_step': 0.006937084436416626, 'rollout_return': 14.922535211267606, 'evaluation': 12.9} step=66000\n",
      "2022-05-25 16:11.31 [info     ] Model parameters are saved to d3rlpy_logs/SAC_online_20220525160329/model_67000.pt\n",
      "2022-05-25 16:11.32 [info     ] SAC_online_20220525160329: epoch=67 step=67000 epoch=67 metrics={'time_inference': 0.0006261518001556397, 'time_environment_step': 0.0007223296165466309, 'time_sample_batch': 0.00029079532623291015, 'time_algorithm_update': 0.005853209018707275, 'temp_loss': 0.018846724731993163, 'temp': 0.047209265395998956, 'critic_loss': 10.28299313902855, 'actor_loss': -3.391365409530699, 'time_step': 0.00756658148765564, 'rollout_return': 15.450704225352112, 'evaluation': 14.9} step=67000\n",
      "2022-05-25 16:11.39 [info     ] Model parameters are saved to d3rlpy_logs/SAC_online_20220525160329/model_68000.pt\n",
      "2022-05-25 16:11.39 [info     ] SAC_online_20220525160329: epoch=68 step=68000 epoch=68 metrics={'time_inference': 0.0005952813625335694, 'time_environment_step': 0.0006949231624603272, 'time_sample_batch': 0.0002810013294219971, 'time_algorithm_update': 0.005671861410140991, 'temp_loss': 0.005915786063211271, 'temp': 0.042380325812846426, 'critic_loss': 12.245831969738006, 'actor_loss': -3.52564286820218, 'time_step': 0.0073128464221954344, 'rollout_return': 14.908450704225352, 'evaluation': 14.0} step=68000\n",
      "2022-05-25 16:11.46 [info     ] Model parameters are saved to d3rlpy_logs/SAC_online_20220525160329/model_69000.pt\n",
      "2022-05-25 16:11.46 [info     ] SAC_online_20220525160329: epoch=69 step=69000 epoch=69 metrics={'time_inference': 0.0005794780254364014, 'time_environment_step': 0.000677415132522583, 'time_sample_batch': 0.0002753469944000244, 'time_algorithm_update': 0.005546504020690918, 'temp_loss': -5.114134951145388e-05, 'temp': 0.041345531959086655, 'critic_loss': 10.804575757980347, 'actor_loss': -3.5377037199400365, 'time_step': 0.007146997690200806, 'rollout_return': 14.901408450704226, 'evaluation': 16.2} step=69000\n",
      "2022-05-25 16:11.54 [info     ] Model parameters are saved to d3rlpy_logs/SAC_online_20220525160329/model_70000.pt\n",
      "2022-05-25 16:11.54 [info     ] SAC_online_20220525160329: epoch=70 step=70000 epoch=70 metrics={'time_inference': 0.0006034753322601319, 'time_environment_step': 0.0007091326713562012, 'time_sample_batch': 0.000285508394241333, 'time_algorithm_update': 0.005719116449356079, 'temp_loss': -0.004048089820280439, 'temp': 0.04325869727879763, 'critic_loss': 11.617374518871307, 'actor_loss': -3.4651926403716207, 'time_step': 0.007389029741287231, 'rollout_return': 14.816901408450704, 'evaluation': 14.4} step=70000\n",
      "2022-05-25 16:12.01 [info     ] Model parameters are saved to d3rlpy_logs/SAC_online_20220525160329/model_71000.pt\n",
      "2022-05-25 16:12.01 [info     ] SAC_online_20220525160329: epoch=71 step=71000 epoch=71 metrics={'time_inference': 0.0005911269187927246, 'time_environment_step': 0.0006932353973388672, 'time_sample_batch': 0.0002792525291442871, 'time_algorithm_update': 0.005613455295562744, 'temp_loss': -0.001943342620448675, 'temp': 0.04559872350841761, 'critic_loss': 10.111830949783325, 'actor_loss': -3.3803069684654474, 'time_step': 0.007247179746627808, 'rollout_return': 14.69718309859155, 'evaluation': 14.6} step=71000\n",
      "2022-05-25 16:12.08 [info     ] Model parameters are saved to d3rlpy_logs/SAC_online_20220525160329/model_72000.pt\n",
      "2022-05-25 16:12.08 [info     ] SAC_online_20220525160329: epoch=72 step=72000 epoch=72 metrics={'time_inference': 0.0005542922019958496, 'time_environment_step': 0.0006315491199493408, 'time_sample_batch': 0.00025571346282958984, 'time_algorithm_update': 0.005307057619094849, 'temp_loss': -0.01631308420156711, 'temp': 0.04965291995927691, 'critic_loss': 15.230062059640884, 'actor_loss': -3.128603808604181, 'time_step': 0.006811308145523071, 'rollout_return': 14.225352112676056, 'evaluation': 15.7} step=72000\n",
      "2022-05-25 16:12.15 [info     ] Model parameters are saved to d3rlpy_logs/SAC_online_20220525160329/model_73000.pt\n",
      "2022-05-25 16:12.15 [info     ] SAC_online_20220525160329: epoch=73 step=73000 epoch=73 metrics={'time_inference': 0.0005517723560333252, 'time_environment_step': 0.0006264181137084961, 'time_sample_batch': 0.00025391149520874023, 'time_algorithm_update': 0.0052653634548187256, 'temp_loss': 0.00026499726719339376, 'temp': 0.053851881828159094, 'critic_loss': 15.358923512935638, 'actor_loss': -3.3120546413958074, 'time_step': 0.006759979009628296, 'rollout_return': 14.471830985915492, 'evaluation': 14.6} step=73000\n",
      "2022-05-25 16:12.22 [info     ] Model parameters are saved to d3rlpy_logs/SAC_online_20220525160329/model_74000.pt\n",
      "2022-05-25 16:12.22 [info     ] SAC_online_20220525160329: epoch=74 step=74000 epoch=74 metrics={'time_inference': 0.0005572445392608643, 'time_environment_step': 0.000640589714050293, 'time_sample_batch': 0.0002598278522491455, 'time_algorithm_update': 0.005326062917709351, 'temp_loss': -0.0027996646269457413, 'temp': 0.05498372455313802, 'critic_loss': 9.601718379735946, 'actor_loss': -3.3161127440854905, 'time_step': 0.006847536325454712, 'rollout_return': 15.084507042253522, 'evaluation': 14.7} step=74000\n",
      "2022-05-25 16:12.30 [info     ] Model parameters are saved to d3rlpy_logs/SAC_online_20220525160329/model_75000.pt\n",
      "2022-05-25 16:12.30 [info     ] SAC_online_20220525160329: epoch=75 step=75000 epoch=75 metrics={'time_inference': 0.0005732283592224121, 'time_environment_step': 0.0006623389720916748, 'time_sample_batch': 0.0002694027423858643, 'time_algorithm_update': 0.00545102858543396, 'temp_loss': -0.006019652776551083, 'temp': 0.058363463621586564, 'critic_loss': 12.69177427840233, 'actor_loss': -3.070768067229539, 'time_step': 0.007022543430328369, 'rollout_return': 15.161971830985916, 'evaluation': 13.6} step=75000\n",
      "2022-05-25 16:12.37 [info     ] Model parameters are saved to d3rlpy_logs/SAC_online_20220525160329/model_76000.pt\n",
      "2022-05-25 16:12.37 [info     ] SAC_online_20220525160329: epoch=76 step=76000 epoch=76 metrics={'time_inference': 0.0006016061305999756, 'time_environment_step': 0.0007014803886413575, 'time_sample_batch': 0.000286097526550293, 'time_algorithm_update': 0.005710430145263672, 'temp_loss': -0.0016938162122532958, 'temp': 0.06223413540422917, 'critic_loss': 11.183572656393052, 'actor_loss': -3.264477865688503, 'time_step': 0.0073708720207214355, 'rollout_return': 15.232394366197184, 'evaluation': 14.4} step=76000\n",
      "2022-05-25 16:12.45 [info     ] Model parameters are saved to d3rlpy_logs/SAC_online_20220525160329/model_77000.pt\n",
      "2022-05-25 16:12.45 [info     ] SAC_online_20220525160329: epoch=77 step=77000 epoch=77 metrics={'time_inference': 0.0006071510314941406, 'time_environment_step': 0.0007106432914733887, 'time_sample_batch': 0.00028776288032531736, 'time_algorithm_update': 0.005717376708984375, 'temp_loss': -0.00033875943480234127, 'temp': 0.06415901890397072, 'critic_loss': 9.80447254395485, 'actor_loss': -3.222021959412843, 'time_step': 0.007395984172821045, 'rollout_return': 14.80281690140845, 'evaluation': 13.7} step=77000\n",
      "2022-05-25 16:12.52 [info     ] Model parameters are saved to d3rlpy_logs/SAC_online_20220525160329/model_78000.pt\n",
      "2022-05-25 16:12.52 [info     ] SAC_online_20220525160329: epoch=78 step=78000 epoch=78 metrics={'time_inference': 0.000591557502746582, 'time_environment_step': 0.0006922378540039063, 'time_sample_batch': 0.000278071403503418, 'time_algorithm_update': 0.005589827060699463, 'temp_loss': -0.0010332686846959405, 'temp': 0.0654938096255064, 'critic_loss': 14.875868370056152, 'actor_loss': -2.926689543854445, 'time_step': 0.007221468925476074, 'rollout_return': 15.225352112676056, 'evaluation': 14.6} step=78000\n",
      "2022-05-25 16:12.59 [info     ] Model parameters are saved to d3rlpy_logs/SAC_online_20220525160329/model_79000.pt\n",
      "2022-05-25 16:13.00 [info     ] SAC_online_20220525160329: epoch=79 step=79000 epoch=79 metrics={'time_inference': 0.0005806565284729003, 'time_environment_step': 0.0006738059520721435, 'time_sample_batch': 0.00027242255210876466, 'time_algorithm_update': 0.005507672548294067, 'temp_loss': 0.0005873307670408394, 'temp': 0.063731959246099, 'critic_loss': 9.531103725433349, 'actor_loss': -3.19351964212209, 'time_step': 0.007102504968643188, 'rollout_return': 14.859154929577464, 'evaluation': 14.2} step=79000\n",
      "2022-05-25 16:13.07 [info     ] Model parameters are saved to d3rlpy_logs/SAC_online_20220525160329/model_80000.pt\n",
      "2022-05-25 16:13.07 [info     ] SAC_online_20220525160329: epoch=80 step=80000 epoch=80 metrics={'time_inference': 0.0005715422630310059, 'time_environment_step': 0.0006692235469818116, 'time_sample_batch': 0.0002701263427734375, 'time_algorithm_update': 0.005499226331710815, 'temp_loss': -0.0017606137192924508, 'temp': 0.06513411397486925, 'critic_loss': 10.384931176424027, 'actor_loss': -3.1273833214640616, 'time_step': 0.0070772569179534915, 'rollout_return': 14.795774647887324, 'evaluation': 15.1} step=80000\n",
      "2022-05-25 16:13.14 [info     ] Model parameters are saved to d3rlpy_logs/SAC_online_20220525160329/model_81000.pt\n",
      "2022-05-25 16:13.14 [info     ] SAC_online_20220525160329: epoch=81 step=81000 epoch=81 metrics={'time_inference': 0.0005756640434265137, 'time_environment_step': 0.0006662111282348633, 'time_sample_batch': 0.00027023983001708986, 'time_algorithm_update': 0.005508948802947998, 'temp_loss': 0.002004343459033407, 'temp': 0.06422688038647174, 'critic_loss': 13.107300550222396, 'actor_loss': -3.0021285131573676, 'time_step': 0.007088840484619141, 'rollout_return': 14.67605633802817, 'evaluation': 13.9} step=81000\n",
      "2022-05-25 16:13.22 [info     ] Model parameters are saved to d3rlpy_logs/SAC_online_20220525160329/model_82000.pt\n",
      "2022-05-25 16:13.22 [info     ] SAC_online_20220525160329: epoch=82 step=82000 epoch=82 metrics={'time_inference': 0.0006001024246215821, 'time_environment_step': 0.0007033534049987793, 'time_sample_batch': 0.0002842860221862793, 'time_algorithm_update': 0.005674525022506714, 'temp_loss': 0.00017848965979646892, 'temp': 0.06296943095698952, 'critic_loss': 16.86239726305008, 'actor_loss': -3.0460797533541917, 'time_step': 0.007333503484725952, 'rollout_return': 14.725352112676056, 'evaluation': 16.3} step=82000\n",
      "2022-05-25 16:13.29 [info     ] Model parameters are saved to d3rlpy_logs/SAC_online_20220525160329/model_83000.pt\n",
      "2022-05-25 16:13.29 [info     ] SAC_online_20220525160329: epoch=83 step=83000 epoch=83 metrics={'time_inference': 0.0005793299674987793, 'time_environment_step': 0.00067594575881958, 'time_sample_batch': 0.00027638959884643553, 'time_algorithm_update': 0.005520072460174561, 'temp_loss': 0.001089936242933618, 'temp': 0.06277100175991654, 'critic_loss': 6.990527351617813, 'actor_loss': -3.21059350502491, 'time_step': 0.007120110511779785, 'rollout_return': 14.830985915492958, 'evaluation': 15.4} step=83000\n",
      "2022-05-25 16:13.36 [info     ] Model parameters are saved to d3rlpy_logs/SAC_online_20220525160329/model_84000.pt\n",
      "2022-05-25 16:13.36 [info     ] SAC_online_20220525160329: epoch=84 step=84000 epoch=84 metrics={'time_inference': 0.000569871187210083, 'time_environment_step': 0.0006628654003143311, 'time_sample_batch': 0.00026960086822509766, 'time_algorithm_update': 0.005475887298583984, 'temp_loss': -0.010133736902498641, 'temp': 0.06430233335867525, 'critic_loss': 10.38627133989334, 'actor_loss': -2.982594448134303, 'time_step': 0.007044883728027343, 'rollout_return': 14.43661971830986, 'evaluation': 15.3} step=84000\n",
      "2022-05-25 16:13.43 [info     ] Model parameters are saved to d3rlpy_logs/SAC_online_20220525160329/model_85000.pt\n",
      "2022-05-25 16:13.43 [info     ] SAC_online_20220525160329: epoch=85 step=85000 epoch=85 metrics={'time_inference': 0.0005723800659179687, 'time_environment_step': 0.000663067102432251, 'time_sample_batch': 0.00026827311515808107, 'time_algorithm_update': 0.0054382321834564205, 'temp_loss': -0.003029353188961977, 'temp': 0.06533385619521141, 'critic_loss': 12.441036292791367, 'actor_loss': -2.971470425821841, 'time_step': 0.007008208990097046, 'rollout_return': 14.19718309859155, 'evaluation': 13.4} step=85000\n",
      "2022-05-25 16:13.51 [info     ] Model parameters are saved to d3rlpy_logs/SAC_online_20220525160329/model_86000.pt\n",
      "2022-05-25 16:13.51 [info     ] SAC_online_20220525160329: epoch=86 step=86000 epoch=86 metrics={'time_inference': 0.0006014032363891601, 'time_environment_step': 0.0007010006904602051, 'time_sample_batch': 0.000283405065536499, 'time_algorithm_update': 0.005668555974960327, 'temp_loss': 0.009551894927833928, 'temp': 0.0648031349480152, 'critic_loss': 9.307004396438598, 'actor_loss': -3.131573385715485, 'time_step': 0.0073256237506866455, 'rollout_return': 14.661971830985916, 'evaluation': 14.7} step=86000\n",
      "2022-05-25 16:13.58 [info     ] Model parameters are saved to d3rlpy_logs/SAC_online_20220525160329/model_87000.pt\n",
      "2022-05-25 16:13.58 [info     ] SAC_online_20220525160329: epoch=87 step=87000 epoch=87 metrics={'time_inference': 0.0005909972190856934, 'time_environment_step': 0.0006937339305877686, 'time_sample_batch': 0.00027836871147155764, 'time_algorithm_update': 0.0056670475006103515, 'temp_loss': 0.00669592584046768, 'temp': 0.05903967679291964, 'critic_loss': 11.698007603645324, 'actor_loss': -3.070662229595706, 'time_step': 0.007301062107086182, 'rollout_return': 15.007042253521126, 'evaluation': 15.6} step=87000\n",
      "2022-05-25 16:14.05 [info     ] Model parameters are saved to d3rlpy_logs/SAC_online_20220525160329/model_88000.pt\n",
      "2022-05-25 16:14.05 [info     ] SAC_online_20220525160329: epoch=88 step=88000 epoch=88 metrics={'time_inference': 0.0005551655292510986, 'time_environment_step': 0.0006315195560455322, 'time_sample_batch': 0.00025548911094665526, 'time_algorithm_update': 0.005309833765029907, 'temp_loss': 0.0018396288696676494, 'temp': 0.0563444825001061, 'critic_loss': 10.804599338531494, 'actor_loss': -3.0732110089063642, 'time_step': 0.0068145432472229, 'rollout_return': 14.746478873239436, 'evaluation': 14.0} step=88000\n",
      "2022-05-25 16:14.12 [info     ] Model parameters are saved to d3rlpy_logs/SAC_online_20220525160329/model_89000.pt\n",
      "2022-05-25 16:14.12 [info     ] SAC_online_20220525160329: epoch=89 step=89000 epoch=89 metrics={'time_inference': 0.000552586555480957, 'time_environment_step': 0.0006309621334075928, 'time_sample_batch': 0.00025493049621582033, 'time_algorithm_update': 0.005286362648010254, 'temp_loss': 0.0009942248608567751, 'temp': 0.05450370631366968, 'critic_loss': 13.013132050514221, 'actor_loss': -3.0112281841319053, 'time_step': 0.006787693977355957, 'rollout_return': 14.866197183098592, 'evaluation': 12.5} step=89000\n",
      "2022-05-25 16:14.19 [info     ] Model parameters are saved to d3rlpy_logs/SAC_online_20220525160329/model_90000.pt\n",
      "2022-05-25 16:14.20 [info     ] SAC_online_20220525160329: epoch=90 step=90000 epoch=90 metrics={'time_inference': 0.0005694150924682618, 'time_environment_step': 0.0006558244228363037, 'time_sample_batch': 0.00026438617706298827, 'time_algorithm_update': 0.005423614978790283, 'temp_loss': 0.0028206774922145995, 'temp': 0.05254442417249083, 'critic_loss': 10.894891604661941, 'actor_loss': -3.119189099835232, 'time_step': 0.006979052066802978, 'rollout_return': 14.929577464788732, 'evaluation': 15.2} step=90000\n",
      "2022-05-25 16:14.27 [info     ] Model parameters are saved to d3rlpy_logs/SAC_online_20220525160329/model_91000.pt\n",
      "2022-05-25 16:14.27 [info     ] SAC_online_20220525160329: epoch=91 step=91000 epoch=91 metrics={'time_inference': 0.0005684828758239746, 'time_environment_step': 0.0006563572883605957, 'time_sample_batch': 0.00026575326919555666, 'time_algorithm_update': 0.005395826101303101, 'temp_loss': 0.002654130309718312, 'temp': 0.04944453897327185, 'critic_loss': 11.45062281370163, 'actor_loss': -3.0954156718105077, 'time_step': 0.006952404260635376, 'rollout_return': 14.873239436619718, 'evaluation': 15.0} step=91000\n",
      "2022-05-25 16:14.34 [info     ] Model parameters are saved to d3rlpy_logs/SAC_online_20220525160329/model_92000.pt\n",
      "2022-05-25 16:14.34 [info     ] SAC_online_20220525160329: epoch=92 step=92000 epoch=92 metrics={'time_inference': 0.0005937950611114501, 'time_environment_step': 0.0006886613368988037, 'time_sample_batch': 0.0002786374092102051, 'time_algorithm_update': 0.005681264638900757, 'temp_loss': 0.0031870485899271445, 'temp': 0.0462510753236711, 'critic_loss': 10.524537845134734, 'actor_loss': -3.2129223687686026, 'time_step': 0.007311310291290283, 'rollout_return': 14.788732394366198, 'evaluation': 14.7} step=92000\n",
      "2022-05-25 16:14.42 [info     ] Model parameters are saved to d3rlpy_logs/SAC_online_20220525160329/model_93000.pt\n",
      "2022-05-25 16:14.42 [info     ] SAC_online_20220525160329: epoch=93 step=93000 epoch=93 metrics={'time_inference': 0.0006206796169281006, 'time_environment_step': 0.0007267675399780274, 'time_sample_batch': 0.0002881002426147461, 'time_algorithm_update': 0.005814913511276245, 'temp_loss': 0.002528420713162632, 'temp': 0.0433405628092587, 'critic_loss': 9.227150871276855, 'actor_loss': -3.223646939901635, 'time_step': 0.007525630712509155, 'rollout_return': 15.154929577464788, 'evaluation': 12.9} step=93000\n",
      "2022-05-25 16:14.49 [info     ] Model parameters are saved to d3rlpy_logs/SAC_online_20220525160329/model_94000.pt\n",
      "2022-05-25 16:14.49 [info     ] SAC_online_20220525160329: epoch=94 step=94000 epoch=94 metrics={'time_inference': 0.0005922346115112305, 'time_environment_step': 0.0006987307071685791, 'time_sample_batch': 0.00028139066696166994, 'time_algorithm_update': 0.005668278455734253, 'temp_loss': 0.001159753786676447, 'temp': 0.04145591653138399, 'critic_loss': 10.293854751110077, 'actor_loss': -3.201768608938903, 'time_step': 0.007311087608337402, 'rollout_return': 15.352112676056338, 'evaluation': 14.2} step=94000\n",
      "2022-05-25 16:14.57 [info     ] Model parameters are saved to d3rlpy_logs/SAC_online_20220525160329/model_95000.pt\n",
      "2022-05-25 16:14.57 [info     ] SAC_online_20220525160329: epoch=95 step=95000 epoch=95 metrics={'time_inference': 0.0005841634273529053, 'time_environment_step': 0.0006734912395477295, 'time_sample_batch': 0.0002729823589324951, 'time_algorithm_update': 0.005598175525665283, 'temp_loss': 0.003701254979445366, 'temp': 0.03866255688294768, 'critic_loss': 10.19009588932991, 'actor_loss': -3.2444989451877775, 'time_step': 0.007196590900421142, 'rollout_return': 14.795774647887324, 'evaluation': 13.5} step=95000\n",
      "2022-05-25 16:15.05 [info     ] Model parameters are saved to d3rlpy_logs/SAC_online_20220525160329/model_96000.pt\n",
      "2022-05-25 16:15.05 [info     ] SAC_online_20220525160329: epoch=96 step=96000 epoch=96 metrics={'time_inference': 0.0006080176830291748, 'time_environment_step': 0.0007152326107025146, 'time_sample_batch': 0.00029037141799926757, 'time_algorithm_update': 0.005832186460494995, 'temp_loss': 0.0029008479678595905, 'temp': 0.03523055440932512, 'critic_loss': 11.065338633060456, 'actor_loss': -3.2675150389149783, 'time_step': 0.007517533540725708, 'rollout_return': 14.753521126760564, 'evaluation': 16.8} step=96000\n",
      "2022-05-25 16:15.12 [info     ] Model parameters are saved to d3rlpy_logs/SAC_online_20220525160329/model_97000.pt\n",
      "2022-05-25 16:15.12 [info     ] SAC_online_20220525160329: epoch=97 step=97000 epoch=97 metrics={'time_inference': 0.0006118934154510498, 'time_environment_step': 0.0007157840728759765, 'time_sample_batch': 0.0002890160083770752, 'time_algorithm_update': 0.0058014590740203854, 'temp_loss': 0.0021214618948288263, 'temp': 0.03238305047899485, 'critic_loss': 10.143326243400574, 'actor_loss': -3.2797697718180716, 'time_step': 0.0074903428554534916, 'rollout_return': 14.866197183098592, 'evaluation': 14.7} step=97000\n",
      "2022-05-25 16:15.20 [info     ] Model parameters are saved to d3rlpy_logs/SAC_online_20220525160329/model_98000.pt\n",
      "2022-05-25 16:15.20 [info     ] SAC_online_20220525160329: epoch=98 step=98000 epoch=98 metrics={'time_inference': 0.0006203956604003907, 'time_environment_step': 0.0007261934280395508, 'time_sample_batch': 0.000293264627456665, 'time_algorithm_update': 0.0058880455493927, 'temp_loss': 0.0020989458417025163, 'temp': 0.03013835850171745, 'critic_loss': 9.655956748247146, 'actor_loss': -3.3594218764156105, 'time_step': 0.007601442337036132, 'rollout_return': 15.32394366197183, 'evaluation': 14.1} step=98000\n",
      "2022-05-25 16:15.28 [info     ] Model parameters are saved to d3rlpy_logs/SAC_online_20220525160329/model_99000.pt\n",
      "2022-05-25 16:15.28 [info     ] SAC_online_20220525160329: epoch=99 step=99000 epoch=99 metrics={'time_inference': 0.0006122739315032959, 'time_environment_step': 0.000721451997756958, 'time_sample_batch': 0.0002940638065338135, 'time_algorithm_update': 0.005823759317398071, 'temp_loss': 0.0012099589402860148, 'temp': 0.02783577181957662, 'critic_loss': 11.753991725444793, 'actor_loss': -3.192056213924661, 'time_step': 0.007523778676986694, 'rollout_return': 14.732394366197184, 'evaluation': 15.0} step=99000\n",
      "2022-05-25 16:15.35 [info     ] Model parameters are saved to d3rlpy_logs/SAC_online_20220525160329/model_100000.pt\n",
      "2022-05-25 16:15.35 [info     ] SAC_online_20220525160329: epoch=100 step=100000 epoch=100 metrics={'time_inference': 0.0006002249717712402, 'time_environment_step': 0.0007062666416168213, 'time_sample_batch': 0.00028599286079406737, 'time_algorithm_update': 0.005721419811248779, 'temp_loss': 0.0003058969948469894, 'temp': 0.027476347269490362, 'critic_loss': 11.390184982299804, 'actor_loss': -3.2522967778891325, 'time_step': 0.0073849196434021, 'rollout_return': 14.73943661971831, 'evaluation': 15.4} step=100000\n"
     ]
    }
   ],
   "source": [
    "# start training\n",
    "# skip if there is a pre-trained model\n",
    "sac.fit_online(\n",
    "    env,\n",
    "    buffer,\n",
    "    eval_env=env,\n",
    "    n_steps=100000,\n",
    "    n_steps_per_epoch=1000,\n",
    ")"
   ]
  },
  {
   "cell_type": "code",
   "execution_count": 19,
   "metadata": {},
   "outputs": [],
   "source": [
    "# save model\n",
    "sac.save_model(\"d3rlpy_logs/sac.pt\")"
   ]
  },
  {
   "cell_type": "code",
   "execution_count": 20,
   "metadata": {},
   "outputs": [
    {
     "name": "stdout",
     "output_type": "stream",
     "text": [
      "2022-05-25 16:15.35 [warning  ] Parameters will be reinitialized.\n"
     ]
    }
   ],
   "source": [
    "# reload model\n",
    "sac.build_with_env(env)\n",
    "sac.load_model(\"d3rlpy_logs/sac.pt\")"
   ]
  },
  {
   "cell_type": "code",
   "execution_count": 21,
   "metadata": {},
   "outputs": [
    {
     "data": {
      "text/plain": [
       "Text(0, 0.5, 'episode reward')"
      ]
     },
     "execution_count": 21,
     "metadata": {},
     "output_type": "execute_result"
    },
    {
     "data": {
      "image/png": "[encoded data removed]",
      "text/plain": [
       "<Figure size 432x288 with 1 Axes>"
      ]
     },
     "metadata": {
      "needs_background": "light"
     },
     "output_type": "display_data"
    }
   ],
   "source": [
    "# may need more interactions to converge\n",
    "log_path = sorted(glob(\"d3rlpy_logs/SAC_online_*/evaluation.csv\"))[-1]\n",
    "df = pd.read_csv(\n",
    "    log_path, \n",
    "    usecols=[1,2],\n",
    "    names=[\"train_episode\", \"episodic_rewards\"]\n",
    ")\n",
    "plt.plot(df[\"train_episode\"], df[\"episodic_rewards\"])\n",
    "plt.title(\"Learning curve of SAC\")\n",
    "plt.xlabel(\"episode\")\n",
    "plt.ylabel(\"episode reward\")"
   ]
  },
  {
   "cell_type": "code",
   "execution_count": 22,
   "metadata": {},
   "outputs": [],
   "source": [
    "random = ContinuousRandomPolicy(\n",
    "    action_scaler=MinMaxActionScaler(\n",
    "        minimum=env.action_space.low,  # minimum value that policy can take\n",
    "        maximum=env.action_space.high,  # maximum value that policy can take\n",
    "    )\n",
    ")"
   ]
  },
  {
   "cell_type": "code",
   "execution_count": 23,
   "metadata": {},
   "outputs": [
    {
     "data": {
      "application/vnd.jupyter.widget-view+json": {
       "model_id": "343b6077b5084202af00d7a9e6742d12",
       "version_major": 2,
       "version_minor": 0
      },
      "text/plain": [
       "[calculate on-policy policy value]:   0%|          | 0/100 [00:00<?, ?it/s]"
      ]
     },
     "metadata": {},
     "output_type": "display_data"
    },
    {
     "data": {
      "application/vnd.jupyter.widget-view+json": {
       "model_id": "b7f01f981ad140928e794b8f2d509c8e",
       "version_major": 2,
       "version_minor": 0
      },
      "text/plain": [
       "[calculate on-policy policy value]:   0%|          | 0/100 [00:00<?, ?it/s]"
      ]
     },
     "metadata": {},
     "output_type": "display_data"
    },
    {
     "data": {
      "image/png": "[encoded data removed]",
      "text/plain": [
       "<Figure size 288x288 with 1 Axes>"
      ]
     },
     "metadata": {},
     "output_type": "display_data"
    }
   ],
   "source": [
    "# compare performance online\n",
    "visualize_on_policy_policy_value(\n",
    "    env=env,\n",
    "    policies=[sac, random],\n",
    "    policy_names=[\"sac\", \"random\"],\n",
    "    n_episodes=100,\n",
    "    random_state=random_state,\n",
    ")"
   ]
  },
  {
   "cell_type": "code",
   "execution_count": 24,
   "metadata": {},
   "outputs": [
    {
     "data": {
      "application/vnd.jupyter.widget-view+json": {
       "model_id": "57e0c3f1b2e74d349a138a07dde437d5",
       "version_major": 2,
       "version_minor": 0
      },
      "text/plain": [
       "[calculate on-policy policy value]:   0%|          | 0/100 [00:00<?, ?it/s]"
      ]
     },
     "metadata": {},
     "output_type": "display_data"
    },
    {
     "data": {
      "application/vnd.jupyter.widget-view+json": {
       "model_id": "1ee2b40e4b39408fa2ec930d3f25c81a",
       "version_major": 2,
       "version_minor": 0
      },
      "text/plain": [
       "[calculate on-policy policy value]:   0%|          | 0/100 [00:00<?, ?it/s]"
      ]
     },
     "metadata": {},
     "output_type": "display_data"
    },
    {
     "name": "stdout",
     "output_type": "stream",
     "text": [
      "relative improvement: 0.021557719054241913\n"
     ]
    }
   ],
   "source": [
    "# on-policy policy value by sac policy\n",
    "# slightly improves random policy\n",
    "sac_performance = calc_on_policy_policy_value(env, sac, n_episodes=100, random_state=random_state)\n",
    "random_performance = calc_on_policy_policy_value(env, random, n_episodes=100, random_state=random_state)\n",
    "print(\"relative improvement:\", (sac_performance - random_performance) / random_performance)"
   ]
  },
  {
   "cell_type": "markdown",
   "metadata": {},
   "source": [
    "## 1. Synthetic Dataset Generation\n",
    "In the previous section, we see how we can interact the environment *online* using synthetic simulator.  \n",
    "Though simulation is a good start for training agent, eventually we want to deploy our agent (or policy) in the real world environment.  \n",
    "However, online interaction may have potential risk of failure in real-world implementataion.  \n",
    "Therefore, we introduce alternative learning protocol, Offline RL, which aim to obtain a new policy using only offline logged dataset.\n",
    "\n",
    "We prepare easy-to-use synthetic dataset generator: `SyntheticDataset` class in the dataset module.  \n",
    "By regarding simulation environment as a hypothetical real-environment, we show how to conduct Offline RL using logged dataset in real-world application.  \n",
    "For detailed description of how to use real-world dataset, please see #TODO (will be implemented).\n",
    "\n",
    "We have following arguments for `SyntheticDataset` class:\n",
    "- `env`: RTB environment for RL defined in the previous section.\n",
    "- `bahavior_policy`: RL agent (or algorithm) used for the data collection.\n",
    "- `n_samples_pretrain_reward_predictor`: Numbers of samples used to pretrain reward predictor."
   ]
  },
  {
   "cell_type": "code",
   "execution_count": 25,
   "metadata": {},
   "outputs": [],
   "source": [
    "behavior_policy = ContinuousTruncatedGaussianHead(\n",
    "    sac, \n",
    "    minimum=env.action_space.low,\n",
    "    maximum=env.action_space.high,\n",
    "    sigma=np.array([1.0]),\n",
    "    name=\"sac_sigma_1.0\",\n",
    "    random_state=random_state,\n",
    ")"
   ]
  },
  {
   "cell_type": "code",
   "execution_count": 26,
   "metadata": {},
   "outputs": [],
   "source": [
    "# initialize dataset class\n",
    "dataset = SyntheticDataset(\n",
    "    env=env,\n",
    "    behavior_policy=behavior_policy,\n",
    "    random_state=random_state,\n",
    ")"
   ]
  },
  {
   "cell_type": "code",
   "execution_count": 27,
   "metadata": {},
   "outputs": [
    {
     "data": {
      "application/vnd.jupyter.widget-view+json": {
       "model_id": "df21a7999a3d412fad38aeb49067d1be",
       "version_major": 2,
       "version_minor": 0
      },
      "text/plain": [
       "[obtain_trajectories]:   0%|          | 0/10000 [00:00<?, ?it/s]"
      ]
     },
     "metadata": {},
     "output_type": "display_data"
    }
   ],
   "source": [
    "# collect logged data using behavior policy\n",
    "# skip if there is a preserved logged dataset\n",
    "logged_dataset = dataset.obtain_trajectories(n_episodes=10000, obtain_info=True)"
   ]
  },
  {
   "cell_type": "code",
   "execution_count": 28,
   "metadata": {},
   "outputs": [
    {
     "data": {
      "text/plain": [
       "{'size': 70000,\n",
       " 'n_episodes': 10000,\n",
       " 'step_per_episode': 7,\n",
       " 'action_type': 'continuous',\n",
       " 'n_actions': None,\n",
       " 'action_dim': 1,\n",
       " 'action_meaning': None,\n",
       " 'state_dim': 7,\n",
       " 'state_keys': ['timestep',\n",
       "  'remaining_budget',\n",
       "  'budget_consumption_rate',\n",
       "  'cost_per_mille_of_impression',\n",
       "  'winning_rate',\n",
       "  'reward',\n",
       "  'adjust_rate'],\n",
       " 'state': array([[0.00000000e+00, 3.00000000e+03, 9.29616093e-01, ...,\n",
       "         1.83918812e-01, 2.00000000e+00, 3.17600898e-03],\n",
       "        [1.00000000e+00, 1.94100000e+03, 3.53000000e-01, ...,\n",
       "         1.00000000e+00, 6.00000000e+00, 9.85339383e+00],\n",
       "        [2.00000000e+00, 1.23800000e+03, 3.62184441e-01, ...,\n",
       "         1.00000000e+00, 1.00000000e+00, 5.43766649e+00],\n",
       "        ...,\n",
       "        [4.00000000e+00, 1.80000000e+01, 0.00000000e+00, ...,\n",
       "         3.38164251e-02, 0.00000000e+00, 4.62934984e+00],\n",
       "        [5.00000000e+00, 1.80000000e+01, 0.00000000e+00, ...,\n",
       "         4.92610837e-03, 0.00000000e+00, 5.62715174e+00],\n",
       "        [6.00000000e+00, 1.80000000e+01, 0.00000000e+00, ...,\n",
       "         7.78210117e-03, 0.00000000e+00, 3.81896968e+00]]),\n",
       " 'action': array([[9.85339383],\n",
       "        [5.43766649],\n",
       "        [8.41316912],\n",
       "        ...,\n",
       "        [5.62715174],\n",
       "        [3.81896968],\n",
       "        [5.34028911]]),\n",
       " 'reward': array([6., 1., 1., ..., 0., 0., 0.]),\n",
       " 'done': array([0., 0., 0., ..., 0., 0., 1.]),\n",
       " 'terminal': array([0., 0., 0., ..., 0., 0., 1.]),\n",
       " 'info': {'search_volume': array([201., 205., 217., ..., 203., 257., 179.]),\n",
       "  'impression': array([201., 205., 211., ...,   1.,   2.,   5.]),\n",
       "  'click': array([21., 15., 23., ...,  0.,  0.,  0.]),\n",
       "  'conversion': array([6., 1., 1., ..., 0., 0., 0.]),\n",
       "  'average_bid_price': array([572.87562189, 293.80487805, 445.98617512, ..., 264.92118227,\n",
       "         171.83657588, 235.11731844])},\n",
       " 'pscore': array([[0.77275083],\n",
       "        [0.36079898],\n",
       "        [0.18742277],\n",
       "        ...,\n",
       "        [0.31657653],\n",
       "        [0.38246776],\n",
       "        [0.11455964]])}"
      ]
     },
     "execution_count": 28,
     "metadata": {},
     "output_type": "execute_result"
    }
   ],
   "source": [
    "logged_dataset"
   ]
  },
  {
   "cell_type": "code",
   "execution_count": 29,
   "metadata": {},
   "outputs": [],
   "source": [
    "with open(\"logs/dataset_continuous.pkl\", \"wb\") as f:\n",
    "    pickle.dump(logged_dataset, f)"
   ]
  },
  {
   "cell_type": "code",
   "execution_count": 30,
   "metadata": {},
   "outputs": [],
   "source": [
    "with open(\"logs/dataset_continuous.pkl\", \"rb\") as f:\n",
    "    logged_dataset = pickle.load(f)"
   ]
  },
  {
   "cell_type": "code",
   "execution_count": 31,
   "metadata": {},
   "outputs": [
    {
     "data": {
      "application/vnd.jupyter.widget-view+json": {
       "model_id": "a879a1fd042241588c7d7e6a32e56197",
       "version_major": 2,
       "version_minor": 0
      },
      "text/plain": [
       "[calculate on-policy policy value]:   0%|          | 0/100 [00:00<?, ?it/s]"
      ]
     },
     "metadata": {},
     "output_type": "display_data"
    },
    {
     "data": {
      "application/vnd.jupyter.widget-view+json": {
       "model_id": "6bad5f19ee694bc58d7f5b0c09791475",
       "version_major": 2,
       "version_minor": 0
      },
      "text/plain": [
       "[calculate on-policy policy value]:   0%|          | 0/100 [00:00<?, ?it/s]"
      ]
     },
     "metadata": {},
     "output_type": "display_data"
    },
    {
     "data": {
      "application/vnd.jupyter.widget-view+json": {
       "model_id": "8f735965cedb4c5cbec97f1cc472de47",
       "version_major": 2,
       "version_minor": 0
      },
      "text/plain": [
       "[calculate on-policy policy value]:   0%|          | 0/100 [00:00<?, ?it/s]"
      ]
     },
     "metadata": {},
     "output_type": "display_data"
    },
    {
     "data": {
      "image/png": "[encoded data removed]",
      "text/plain": [
       "<Figure size 432x288 with 1 Axes>"
      ]
     },
     "metadata": {},
     "output_type": "display_data"
    }
   ],
   "source": [
    "# compare performance online\n",
    "visualize_on_policy_policy_value(\n",
    "    env=env,\n",
    "    policies=[sac, behavior_policy, random],\n",
    "    policy_names=[\"sac\", \"sac (sigma=1.0)\", \"random\"],\n",
    "    n_episodes=100,\n",
    "    random_state=random_state,\n",
    ")"
   ]
  },
  {
   "cell_type": "code",
   "execution_count": 32,
   "metadata": {},
   "outputs": [
    {
     "data": {
      "text/html": [
       "<div>\n",
       "<style scoped>\n",
       "    .dataframe tbody tr th:only-of-type {\n",
       "        vertical-align: middle;\n",
       "    }\n",
       "\n",
       "    .dataframe tbody tr th {\n",
       "        vertical-align: top;\n",
       "    }\n",
       "\n",
       "    .dataframe thead th {\n",
       "        text-align: right;\n",
       "    }\n",
       "</style>\n",
       "<table border=\"1\" class=\"dataframe\">\n",
       "  <thead>\n",
       "    <tr style=\"text-align: right;\">\n",
       "      <th></th>\n",
       "      <th>adjust rate</th>\n",
       "      <th>average bid price</th>\n",
       "      <th>impression</th>\n",
       "      <th>click</th>\n",
       "      <th>conversion</th>\n",
       "      <th>winning rate</th>\n",
       "      <th>click / impression</th>\n",
       "      <th>conversion / click</th>\n",
       "    </tr>\n",
       "  </thead>\n",
       "  <tbody>\n",
       "    <tr>\n",
       "      <th>count</th>\n",
       "      <td>70000.000000</td>\n",
       "      <td>70000.000000</td>\n",
       "      <td>70000.000000</td>\n",
       "      <td>70000.000000</td>\n",
       "      <td>70000.000000</td>\n",
       "      <td>70000.000000</td>\n",
       "      <td>70000.000000</td>\n",
       "      <td>70000.000000</td>\n",
       "    </tr>\n",
       "    <tr>\n",
       "      <th>mean</th>\n",
       "      <td>5.585957</td>\n",
       "      <td>314.946908</td>\n",
       "      <td>91.110157</td>\n",
       "      <td>8.650986</td>\n",
       "      <td>2.109129</td>\n",
       "      <td>0.522348</td>\n",
       "      <td>0.059749</td>\n",
       "      <td>0.132055</td>\n",
       "    </tr>\n",
       "    <tr>\n",
       "      <th>std</th>\n",
       "      <td>3.224211</td>\n",
       "      <td>150.022420</td>\n",
       "      <td>89.599583</td>\n",
       "      <td>9.487097</td>\n",
       "      <td>3.049657</td>\n",
       "      <td>0.427077</td>\n",
       "      <td>0.067697</td>\n",
       "      <td>0.185249</td>\n",
       "    </tr>\n",
       "    <tr>\n",
       "      <th>min</th>\n",
       "      <td>0.000075</td>\n",
       "      <td>3.952128</td>\n",
       "      <td>0.000000</td>\n",
       "      <td>0.000000</td>\n",
       "      <td>0.000000</td>\n",
       "      <td>0.000000</td>\n",
       "      <td>0.000000</td>\n",
       "      <td>0.000000</td>\n",
       "    </tr>\n",
       "    <tr>\n",
       "      <th>25%</th>\n",
       "      <td>2.061048</td>\n",
       "      <td>237.597503</td>\n",
       "      <td>6.000000</td>\n",
       "      <td>0.000000</td>\n",
       "      <td>0.000000</td>\n",
       "      <td>0.051813</td>\n",
       "      <td>0.000000</td>\n",
       "      <td>0.000000</td>\n",
       "    </tr>\n",
       "    <tr>\n",
       "      <th>50%</th>\n",
       "      <td>6.551289</td>\n",
       "      <td>342.498718</td>\n",
       "      <td>39.000000</td>\n",
       "      <td>3.000000</td>\n",
       "      <td>0.000000</td>\n",
       "      <td>0.536842</td>\n",
       "      <td>0.067797</td>\n",
       "      <td>0.000000</td>\n",
       "    </tr>\n",
       "    <tr>\n",
       "      <th>75%</th>\n",
       "      <td>8.254224</td>\n",
       "      <td>412.651018</td>\n",
       "      <td>189.000000</td>\n",
       "      <td>18.000000</td>\n",
       "      <td>3.000000</td>\n",
       "      <td>1.000000</td>\n",
       "      <td>0.102041</td>\n",
       "      <td>0.227273</td>\n",
       "    </tr>\n",
       "    <tr>\n",
       "      <th>max</th>\n",
       "      <td>9.999990</td>\n",
       "      <td>579.994286</td>\n",
       "      <td>290.000000</td>\n",
       "      <td>41.000000</td>\n",
       "      <td>20.000000</td>\n",
       "      <td>1.000000</td>\n",
       "      <td>0.999995</td>\n",
       "      <td>0.999998</td>\n",
       "    </tr>\n",
       "  </tbody>\n",
       "</table>\n",
       "</div>"
      ],
      "text/plain": [
       "        adjust rate  average bid price    impression         click  \\\n",
       "count  70000.000000       70000.000000  70000.000000  70000.000000   \n",
       "mean       5.585957         314.946908     91.110157      8.650986   \n",
       "std        3.224211         150.022420     89.599583      9.487097   \n",
       "min        0.000075           3.952128      0.000000      0.000000   \n",
       "25%        2.061048         237.597503      6.000000      0.000000   \n",
       "50%        6.551289         342.498718     39.000000      3.000000   \n",
       "75%        8.254224         412.651018    189.000000     18.000000   \n",
       "max        9.999990         579.994286    290.000000     41.000000   \n",
       "\n",
       "         conversion  winning rate  click / impression  conversion / click  \n",
       "count  70000.000000  70000.000000        70000.000000        70000.000000  \n",
       "mean       2.109129      0.522348            0.059749            0.132055  \n",
       "std        3.049657      0.427077            0.067697            0.185249  \n",
       "min        0.000000      0.000000            0.000000            0.000000  \n",
       "25%        0.000000      0.051813            0.000000            0.000000  \n",
       "50%        0.000000      0.536842            0.067797            0.000000  \n",
       "75%        3.000000      1.000000            0.102041            0.227273  \n",
       "max       20.000000      1.000000            0.999995            0.999998  "
      ]
     },
     "execution_count": 32,
     "metadata": {},
     "output_type": "execute_result"
    }
   ],
   "source": [
    "# check statistics of the dataset\n",
    "df = pd.DataFrame()\n",
    "df['adjust rate'] = logged_dataset['state'][:, 6]\n",
    "df['average bid price'] = logged_dataset['info']['average_bid_price']\n",
    "df['impression'] = logged_dataset['info']['impression']\n",
    "df['click'] = logged_dataset['info']['click']\n",
    "df['conversion'] = logged_dataset['info']['conversion']\n",
    "df['winning rate'] = logged_dataset['state'][:, 4]\n",
    "df['click / impression'] = df['click'] / (df['impression'] + 1e-5)\n",
    "df['conversion / click'] = df['conversion'] / (df['click'] + 1e-5)\n",
    "df.describe()"
   ]
  },
  {
   "cell_type": "markdown",
   "metadata": {},
   "source": [
    "For more about the data collection and visualization, please refer to [examples/quickstart/rtb_synthetic_data_collection.ipynb](https://github.com/negocia-inc/rtb_reinforcement_learing/blob/ope/examples/quickstart/rtb_synthetic_data_collection.ipynb)."
   ]
  },
  {
   "cell_type": "markdown",
   "metadata": {},
   "source": [
    "## 2. Offline Reinforcement Learning\n",
    "In this section, we learn a new policy in an offline manner, without interacting to the environment.  \n",
    "To achieve this goal, we exploit logged dataset and train the policy on the data.  \n",
    "We use [d3rlpy](https://github.com/takuseno/d3rlpy)'s implementation of algorithms."
   ]
  },
  {
   "cell_type": "code",
   "execution_count": 33,
   "metadata": {},
   "outputs": [],
   "source": [
    "# import modules from d3rlpy\n",
    "from d3rlpy.dataset import MDPDataset\n",
    "from d3rlpy.algos import CQL as ContinuousCQL\n",
    "from d3rlpy.ope import FQE as ContinuousFQE\n",
    "from d3rlpy.metrics.scorer import evaluate_on_environment"
   ]
  },
  {
   "cell_type": "code",
   "execution_count": 34,
   "metadata": {},
   "outputs": [],
   "source": [
    "offlinerl_dataset = MDPDataset(\n",
    "    observations=logged_dataset[\"state\"],\n",
    "    actions=logged_dataset[\"action\"],\n",
    "    rewards=logged_dataset[\"reward\"],\n",
    "    terminals=logged_dataset[\"done\"],\n",
    "    episode_terminals=logged_dataset[\"done\"],\n",
    "    discrete_action=False,\n",
    ")\n",
    "train_episodes, test_episodes = train_test_split(offlinerl_dataset, test_size=0.2, random_state=random_state)"
   ]
  },
  {
   "cell_type": "code",
   "execution_count": 35,
   "metadata": {},
   "outputs": [],
   "source": [
    "# Use Conservetive Q-Learning policy\n",
    "cql = ContinuousCQL(\n",
    "    actor_encoder_factory=VectorEncoderFactory(hidden_units=[30, 30]),\n",
    "    critic_encoder_factory=VectorEncoderFactory(hidden_units=[30, 30]),\n",
    "    q_func_factory=MeanQFunctionFactory(),\n",
    "    use_gpu=torch.cuda.is_available(),\n",
    "    action_scaler=MinMaxActionScaler(\n",
    "        minimum=env.action_space.low,  # minimum value that policy can take\n",
    "        maximum=env.action_space.high,  # maximum value that policy can take\n",
    "    )\n",
    ")"
   ]
  },
  {
   "cell_type": "code",
   "execution_count": 36,
   "metadata": {},
   "outputs": [
    {
     "name": "stdout",
     "output_type": "stream",
     "text": [
      "2022-05-25 16:17.44 [debug    ] RandomIterator is selected.\n",
      "2022-05-25 16:17.44 [info     ] Directory is created at d3rlpy_logs/CQL_20220525161744\n",
      "2022-05-25 16:17.44 [debug    ] Fitting action scaler...       action_scaler=min_max\n",
      "2022-05-25 16:17.44 [debug    ] Building models...\n",
      "2022-05-25 16:17.44 [debug    ] Models have been built.\n",
      "2022-05-25 16:17.44 [info     ] Parameters are saved to d3rlpy_logs/CQL_20220525161744/params.json params={'action_scaler': {'type': 'min_max', 'params': {'minimum': array([0.1]), 'maximum': array([10.])}}, 'actor_encoder_factory': {'type': 'vector', 'params': {'hidden_units': [30, 30], 'activation': 'relu', 'use_batch_norm': False, 'dropout_rate': None, 'use_dense': False}}, 'actor_learning_rate': 0.0001, 'actor_optim_factory': {'optim_cls': 'Adam', 'betas': (0.9, 0.999), 'eps': 1e-08, 'weight_decay': 0, 'amsgrad': False}, 'alpha_learning_rate': 0.0001, 'alpha_optim_factory': {'optim_cls': 'Adam', 'betas': (0.9, 0.999), 'eps': 1e-08, 'weight_decay': 0, 'amsgrad': False}, 'alpha_threshold': 10.0, 'batch_size': 256, 'conservative_weight': 5.0, 'critic_encoder_factory': {'type': 'vector', 'params': {'hidden_units': [30, 30], 'activation': 'relu', 'use_batch_norm': False, 'dropout_rate': None, 'use_dense': False}}, 'critic_learning_rate': 0.0003, 'critic_optim_factory': {'optim_cls': 'Adam', 'betas': (0.9, 0.999), 'eps': 1e-08, 'weight_decay': 0, 'amsgrad': False}, 'gamma': 0.99, 'generated_maxlen': 100000, 'initial_alpha': 1.0, 'initial_temperature': 1.0, 'n_action_samples': 10, 'n_critics': 2, 'n_frames': 1, 'n_steps': 1, 'q_func_factory': {'type': 'mean', 'params': {'share_encoder': False}}, 'real_ratio': 1.0, 'reward_scaler': None, 'scaler': None, 'soft_q_backup': False, 'tau': 0.005, 'temp_learning_rate': 0.0001, 'temp_optim_factory': {'optim_cls': 'Adam', 'betas': (0.9, 0.999), 'eps': 1e-08, 'weight_decay': 0, 'amsgrad': False}, 'use_gpu': None, 'algorithm': 'CQL', 'observation_shape': (7,), 'action_size': 1}\n"
     ]
    },
    {
     "data": {
      "application/vnd.jupyter.widget-view+json": {
       "model_id": "a705cec8bd4146faa8694ebafdfa5a0f",
       "version_major": 2,
       "version_minor": 0
      },
      "text/plain": [
       "Epoch 1/1:   0%|          | 0/10000 [00:00<?, ?it/s]"
      ]
     },
     "metadata": {},
     "output_type": "display_data"
    },
    {
     "name": "stdout",
     "output_type": "stream",
     "text": [
      "2022-05-25 16:20.42 [info     ] CQL_20220525161744: epoch=1 step=10000 epoch=1 metrics={'time_sample_batch': 0.0007930652618408203, 'time_algorithm_update': 0.01624735679626465, 'temp_loss': -0.12384038128927351, 'temp': 0.893027877008915, 'alpha_loss': -16.161811073970796, 'alpha': 1.7989144074916839, 'critic_loss': 265.36377936935423, 'actor_loss': -7.815542046570778, 'time_step': 0.01765838601589203, 'environment': 14.1} step=10000\n",
      "2022-05-25 16:20.42 [info     ] Model parameters are saved to d3rlpy_logs/CQL_20220525161744/model_10000.pt\n"
     ]
    },
    {
     "data": {
      "text/plain": [
       "[(1,\n",
       "  {'time_sample_batch': 0.0007930652618408203,\n",
       "   'time_algorithm_update': 0.01624735679626465,\n",
       "   'temp_loss': -0.12384038128927351,\n",
       "   'temp': 0.893027877008915,\n",
       "   'alpha_loss': -16.161811073970796,\n",
       "   'alpha': 1.7989144074916839,\n",
       "   'critic_loss': 265.36377936935423,\n",
       "   'actor_loss': -7.815542046570778,\n",
       "   'time_step': 0.01765838601589203,\n",
       "   'environment': 14.1})]"
      ]
     },
     "execution_count": 36,
     "metadata": {},
     "output_type": "execute_result"
    }
   ],
   "source": [
    "cql.fit(\n",
    "    train_episodes,\n",
    "    eval_episodes=test_episodes,\n",
    "    n_steps=10000,\n",
    "    scorers={\n",
    "        'environment': evaluate_on_environment(env),\n",
    "        # to record training process w/ ground truth policy value, which is unseen to the agent\n",
    "    },\n",
    ")"
   ]
  },
  {
   "cell_type": "code",
   "execution_count": 37,
   "metadata": {},
   "outputs": [],
   "source": [
    "# save model\n",
    "cql.save_model(\"d3rlpy_logs/cql_continuous.pt\")"
   ]
  },
  {
   "cell_type": "code",
   "execution_count": 38,
   "metadata": {},
   "outputs": [
    {
     "name": "stdout",
     "output_type": "stream",
     "text": [
      "2022-05-25 16:20.42 [warning  ] Parameters will be reinitialized.\n"
     ]
    }
   ],
   "source": [
    "# reload model\n",
    "cql.build_with_env(env)\n",
    "cql.load_model(\"d3rlpy_logs/cql_continuous.pt\")"
   ]
  },
  {
   "cell_type": "code",
   "execution_count": 39,
   "metadata": {},
   "outputs": [
    {
     "data": {
      "application/vnd.jupyter.widget-view+json": {
       "model_id": "c8d62b928a394ffd906b7347ae5dc89c",
       "version_major": 2,
       "version_minor": 0
      },
      "text/plain": [
       "[calculate on-policy policy value]:   0%|          | 0/100 [00:00<?, ?it/s]"
      ]
     },
     "metadata": {},
     "output_type": "display_data"
    },
    {
     "data": {
      "application/vnd.jupyter.widget-view+json": {
       "model_id": "b2ba3bb2d763466f80e249b3817b26b2",
       "version_major": 2,
       "version_minor": 0
      },
      "text/plain": [
       "[calculate on-policy policy value]:   0%|          | 0/100 [00:00<?, ?it/s]"
      ]
     },
     "metadata": {},
     "output_type": "display_data"
    },
    {
     "data": {
      "application/vnd.jupyter.widget-view+json": {
       "model_id": "e3ebfd189356432f991841c29aafaff7",
       "version_major": 2,
       "version_minor": 0
      },
      "text/plain": [
       "[calculate on-policy policy value]:   0%|          | 0/100 [00:00<?, ?it/s]"
      ]
     },
     "metadata": {},
     "output_type": "display_data"
    },
    {
     "data": {
      "application/vnd.jupyter.widget-view+json": {
       "model_id": "b9ae9ba3e3134c1da8d6ccb49bd97486",
       "version_major": 2,
       "version_minor": 0
      },
      "text/plain": [
       "[calculate on-policy policy value]:   0%|          | 0/100 [00:00<?, ?it/s]"
      ]
     },
     "metadata": {},
     "output_type": "display_data"
    },
    {
     "data": {
      "image/png": "[encoded data removed]",
      "text/plain": [
       "<Figure size 576x288 with 1 Axes>"
      ]
     },
     "metadata": {},
     "output_type": "display_data"
    }
   ],
   "source": [
    "# compare performance online\n",
    "# wow, offline algorithm outperforms the online algorithm.\n",
    "# moreover, it requires no interaction to the environment!\n",
    "visualize_on_policy_policy_value(\n",
    "    env=env,\n",
    "    policies=[sac, behavior_policy, cql, random],\n",
    "    policy_names=[\"sac\", \"sac (sigma=1.0)\", \"cql\", \"random\"],\n",
    "    n_episodes=100,\n",
    "    random_state=random_state,\n",
    ")"
   ]
  },
  {
   "cell_type": "markdown",
   "metadata": {},
   "source": [
    "## 3. Off-Policy Evaluation and Evaluation of Offline RL methods\n",
    "In the previous section, we verified the performance of learned policy via online interaction (aka A/B tests).  \n",
    "However, it could be risky because the policy may perform poorly in an online environment.  \n",
    "To tackle this issue, we aim to evaluate the performance of policies in an offline manner, to gain prior knowledge on how agent works in the environment."
   ]
  },
  {
   "cell_type": "code",
   "execution_count": 40,
   "metadata": {},
   "outputs": [],
   "source": [
    "# import ope modules from offlinegym\n",
    "from offlinegym.ope import CreateOPEInput\n",
    "from offlinegym.ope import ContinuousOffPolicyEvaluation as OPE\n",
    "from offlinegym.ope import ContinuousDirectMethod as DM\n",
    "from offlinegym.ope import ContinuousTrajectoryWiseImportanceSampling as TIS\n",
    "from offlinegym.ope import ContinuousPerDecisionImportanceSampling as PDIS\n",
    "from offlinegym.ope import ContinuousDoublyRobust as DR\n",
    "from offlinegym.ope import ContinuousSelfNormalizedTrajectoryWiseImportanceSampling as SNTIS\n",
    "from offlinegym.ope import ContinuousSelfNormalizedPerDecisionImportanceSampling as SNPDIS\n",
    "from offlinegym.ope import ContinuousSelfNormalizedDoublyRobust as SNDR\n",
    "from offlinegym.policy import ContinuousEvalHead"
   ]
  },
  {
   "cell_type": "code",
   "execution_count": 41,
   "metadata": {},
   "outputs": [],
   "source": [
    "# define evaluation policies (deterministic policy)\n",
    "# though OPE is applicable to stochastic policies (i.e., random), the estimation result will be unstable\n",
    "# because continuous OPE is mainly designed for deterministic policies\n",
    "cql_ = ContinuousEvalHead(\n",
    "    base_policy=cql,\n",
    "    name=\"cql\",\n",
    ")\n",
    "sac_ = ContinuousEvalHead(\n",
    "    base_policy=sac, \n",
    "    name=\"sac\", \n",
    ")\n",
    "random_ = ContinuousEvalHead(\n",
    "    base_policy=random, \n",
    "    name=\"random\", \n",
    ")\n",
    "evaluation_policies = [cql_, sac_, random_]"
   ]
  },
  {
   "cell_type": "code",
   "execution_count": 42,
   "metadata": {},
   "outputs": [],
   "source": [
    "# first, prepare OPE inputs\n",
    "prep = CreateOPEInput(\n",
    "    logged_dataset=logged_dataset,\n",
    "    use_base_model=True,  # use model-based prediction\n",
    "    base_model_args={\n",
    "        \"encoder_factory\": VectorEncoderFactory(hidden_units=[30, 30]),\n",
    "        \"q_func_factory\": MeanQFunctionFactory(),\n",
    "        \"learning_rate\": 1e-4,\n",
    "        \"use_gpu\": torch.cuda.is_available(),\n",
    "        \"action_scaler\": MinMaxActionScaler(\n",
    "            minimum=env.action_space.low,  # minimum value that policy can take\n",
    "            maximum=env.action_space.high,  # maximum value that policy can take\n",
    "        ),\n",
    "    },\n",
    ")"
   ]
  },
  {
   "cell_type": "code",
   "execution_count": 43,
   "metadata": {},
   "outputs": [
    {
     "data": {
      "application/vnd.jupyter.widget-view+json": {
       "model_id": "2bd6e4c1c9574870a375ff7e7b4b6099",
       "version_major": 2,
       "version_minor": 0
      },
      "text/plain": [
       "[fit FQE model]:   0%|          | 0/3 [00:00<?, ?it/s]"
      ]
     },
     "metadata": {},
     "output_type": "display_data"
    },
    {
     "name": "stdout",
     "output_type": "stream",
     "text": [
      "2022-05-25 16:20.46 [debug    ] RandomIterator is selected.\n",
      "2022-05-25 16:20.46 [info     ] Directory is created at d3rlpy_logs/FQE_20220525162046\n",
      "2022-05-25 16:20.46 [debug    ] Fitting action scaler...       action_scaler=min_max\n",
      "2022-05-25 16:20.46 [debug    ] Building models...\n",
      "2022-05-25 16:20.46 [debug    ] Models have been built.\n",
      "2022-05-25 16:20.46 [info     ] Parameters are saved to d3rlpy_logs/FQE_20220525162046/params.json params={'action_scaler': {'type': 'min_max', 'params': {'minimum': array([0.1]), 'maximum': array([10.])}}, 'batch_size': 100, 'encoder_factory': {'type': 'vector', 'params': {'hidden_units': [30, 30], 'activation': 'relu', 'use_batch_norm': False, 'dropout_rate': None, 'use_dense': False}}, 'gamma': 0.99, 'generated_maxlen': 100000, 'learning_rate': 0.0001, 'n_critics': 1, 'n_frames': 1, 'n_steps': 1, 'optim_factory': {'optim_cls': 'Adam', 'betas': (0.9, 0.999), 'eps': 1e-08, 'weight_decay': 0, 'amsgrad': False}, 'q_func_factory': {'type': 'mean', 'params': {'share_encoder': False}}, 'real_ratio': 1.0, 'reward_scaler': None, 'scaler': None, 'target_update_interval': 100, 'use_gpu': None, 'algorithm': 'FQE', 'observation_shape': (7,), 'action_size': 1}\n"
     ]
    },
    {
     "data": {
      "application/vnd.jupyter.widget-view+json": {
       "model_id": "34811ebc40ad474a998dd5c2c7693e68",
       "version_major": 2,
       "version_minor": 0
      },
      "text/plain": [
       "Epoch 1/1:   0%|          | 0/10000 [00:00<?, ?it/s]"
      ]
     },
     "metadata": {},
     "output_type": "display_data"
    },
    {
     "name": "stdout",
     "output_type": "stream",
     "text": [
      "2022-05-25 16:21.07 [info     ] FQE_20220525162046: epoch=1 step=10000 epoch=1 metrics={'time_sample_batch': 0.00033525750637054445, 'time_algorithm_update': 0.001641861629486084, 'loss': 17.50416890347004, 'time_step': 0.002126596713066101} step=10000\n",
      "2022-05-25 16:21.07 [info     ] Model parameters are saved to d3rlpy_logs/FQE_20220525162046/model_10000.pt\n",
      "2022-05-25 16:21.07 [debug    ] RandomIterator is selected.\n",
      "2022-05-25 16:21.07 [info     ] Directory is created at d3rlpy_logs/FQE_20220525162107\n",
      "2022-05-25 16:21.07 [debug    ] Fitting action scaler...       action_scaler=min_max\n",
      "2022-05-25 16:21.07 [debug    ] Building models...\n",
      "2022-05-25 16:21.07 [debug    ] Models have been built.\n",
      "2022-05-25 16:21.07 [info     ] Parameters are saved to d3rlpy_logs/FQE_20220525162107/params.json params={'action_scaler': {'type': 'min_max', 'params': {'minimum': array([0.1]), 'maximum': array([10.])}}, 'batch_size': 100, 'encoder_factory': {'type': 'vector', 'params': {'hidden_units': [30, 30], 'activation': 'relu', 'use_batch_norm': False, 'dropout_rate': None, 'use_dense': False}}, 'gamma': 0.99, 'generated_maxlen': 100000, 'learning_rate': 0.0001, 'n_critics': 1, 'n_frames': 1, 'n_steps': 1, 'optim_factory': {'optim_cls': 'Adam', 'betas': (0.9, 0.999), 'eps': 1e-08, 'weight_decay': 0, 'amsgrad': False}, 'q_func_factory': {'type': 'mean', 'params': {'share_encoder': False}}, 'real_ratio': 1.0, 'reward_scaler': None, 'scaler': None, 'target_update_interval': 100, 'use_gpu': None, 'algorithm': 'FQE', 'observation_shape': (7,), 'action_size': 1}\n"
     ]
    },
    {
     "data": {
      "application/vnd.jupyter.widget-view+json": {
       "model_id": "348babea746648f780657717359b363e",
       "version_major": 2,
       "version_minor": 0
      },
      "text/plain": [
       "Epoch 1/1:   0%|          | 0/10000 [00:00<?, ?it/s]"
      ]
     },
     "metadata": {},
     "output_type": "display_data"
    },
    {
     "name": "stdout",
     "output_type": "stream",
     "text": [
      "2022-05-25 16:21.29 [info     ] FQE_20220525162107: epoch=1 step=10000 epoch=1 metrics={'time_sample_batch': 0.00033731391429901123, 'time_algorithm_update': 0.0016288190841674804, 'loss': 30.56908214212656, 'time_step': 0.0021172046899795532} step=10000\n",
      "2022-05-25 16:21.29 [info     ] Model parameters are saved to d3rlpy_logs/FQE_20220525162107/model_10000.pt\n",
      "2022-05-25 16:21.29 [debug    ] RandomIterator is selected.\n",
      "2022-05-25 16:21.29 [info     ] Directory is created at d3rlpy_logs/FQE_20220525162129\n",
      "2022-05-25 16:21.29 [debug    ] Fitting action scaler...       action_scaler=min_max\n",
      "2022-05-25 16:21.29 [debug    ] Building models...\n",
      "2022-05-25 16:21.29 [debug    ] Models have been built.\n",
      "2022-05-25 16:21.29 [info     ] Parameters are saved to d3rlpy_logs/FQE_20220525162129/params.json params={'action_scaler': {'type': 'min_max', 'params': {'minimum': array([0.1]), 'maximum': array([10.])}}, 'batch_size': 100, 'encoder_factory': {'type': 'vector', 'params': {'hidden_units': [30, 30], 'activation': 'relu', 'use_batch_norm': False, 'dropout_rate': None, 'use_dense': False}}, 'gamma': 0.99, 'generated_maxlen': 100000, 'learning_rate': 0.0001, 'n_critics': 1, 'n_frames': 1, 'n_steps': 1, 'optim_factory': {'optim_cls': 'Adam', 'betas': (0.9, 0.999), 'eps': 1e-08, 'weight_decay': 0, 'amsgrad': False}, 'q_func_factory': {'type': 'mean', 'params': {'share_encoder': False}}, 'real_ratio': 1.0, 'reward_scaler': None, 'scaler': None, 'target_update_interval': 100, 'use_gpu': None, 'algorithm': 'FQE', 'observation_shape': (7,), 'action_size': 1}\n"
     ]
    },
    {
     "data": {
      "application/vnd.jupyter.widget-view+json": {
       "model_id": "1d470a2ec509412db9856a27cded142b",
       "version_major": 2,
       "version_minor": 0
      },
      "text/plain": [
       "Epoch 1/1:   0%|          | 0/10000 [00:00<?, ?it/s]"
      ]
     },
     "metadata": {},
     "output_type": "display_data"
    },
    {
     "name": "stdout",
     "output_type": "stream",
     "text": [
      "2022-05-25 16:21.46 [info     ] FQE_20220525162129: epoch=1 step=10000 epoch=1 metrics={'time_sample_batch': 0.00034757790565490725, 'time_algorithm_update': 0.001170003080368042, 'loss': 32.29798990040422, 'time_step': 0.001671768617630005} step=10000\n",
      "2022-05-25 16:21.46 [info     ] Model parameters are saved to d3rlpy_logs/FQE_20220525162129/model_10000.pt\n"
     ]
    },
    {
     "data": {
      "application/vnd.jupyter.widget-view+json": {
       "model_id": "bd65d877ff8f4f30826cc03d6dd0927f",
       "version_major": 2,
       "version_minor": 0
      },
      "text/plain": [
       "[collect input data]:   0%|          | 0/3 [00:00<?, ?it/s]"
      ]
     },
     "metadata": {},
     "output_type": "display_data"
    },
    {
     "data": {
      "application/vnd.jupyter.widget-view+json": {
       "model_id": "f244e688701843c3afa893780dcf951c",
       "version_major": 2,
       "version_minor": 0
      },
      "text/plain": [
       "[calculate on-policy policy value]:   0%|          | 0/100 [00:00<?, ?it/s]"
      ]
     },
     "metadata": {},
     "output_type": "display_data"
    },
    {
     "data": {
      "application/vnd.jupyter.widget-view+json": {
       "model_id": "0a70ca23fe094026bb0e46dba40a536b",
       "version_major": 2,
       "version_minor": 0
      },
      "text/plain": [
       "[calculate on-policy policy value]:   0%|          | 0/100 [00:00<?, ?it/s]"
      ]
     },
     "metadata": {},
     "output_type": "display_data"
    },
    {
     "data": {
      "application/vnd.jupyter.widget-view+json": {
       "model_id": "6a75cb52b395495d96313a3d737540f4",
       "version_major": 2,
       "version_minor": 0
      },
      "text/plain": [
       "[calculate on-policy policy value]:   0%|          | 0/100 [00:00<?, ?it/s]"
      ]
     },
     "metadata": {},
     "output_type": "display_data"
    }
   ],
   "source": [
    "input_dict = prep.obtain_whole_inputs(\n",
    "    evaluation_policies=evaluation_policies,\n",
    "    env=env,\n",
    "    n_episodes_on_policy_evaluation=100,\n",
    "    random_state=random_state,\n",
    ")"
   ]
  },
  {
   "cell_type": "code",
   "execution_count": 44,
   "metadata": {},
   "outputs": [],
   "source": [
    "with open(\"logs/ope_input_dict_continuous.pkl\", \"wb\") as f:\n",
    "    pickle.dump(input_dict, f)"
   ]
  },
  {
   "cell_type": "code",
   "execution_count": 45,
   "metadata": {},
   "outputs": [],
   "source": [
    "with open(\"logs/ope_input_dict_continuous.pkl\", \"rb\") as f:\n",
    "    input_dict = pickle.load(f)"
   ]
  },
  {
   "cell_type": "code",
   "execution_count": 46,
   "metadata": {},
   "outputs": [],
   "source": [
    "ope = OPE(\n",
    "    logged_dataset=logged_dataset,\n",
    "    ope_estimators=[DM(), TIS(), PDIS(), DR(), SNTIS(), SNPDIS(), SNDR()],\n",
    "    use_truncated_kernel=True,\n",
    "    action_min=env.action_space.low,\n",
    "    action_max=env.action_space.high,\n",
    ")"
   ]
  },
  {
   "cell_type": "code",
   "execution_count": 47,
   "metadata": {},
   "outputs": [],
   "source": [
    "# performance estimation by ope\n",
    "# takes time to compute (about 15min)\n",
    "policy_value_df_dict, policy_value_interval_df_dict = ope.summarize_off_policy_estimates(input_dict, random_state=random_state)"
   ]
  },
  {
   "cell_type": "code",
   "execution_count": 48,
   "metadata": {},
   "outputs": [
    {
     "data": {
      "text/plain": [
       "{'cql':            policy_value  relative_policy_value\n",
       " on_policy     14.530000               1.000000\n",
       " dm            14.747017               1.014936\n",
       " tis            7.684538               0.528874\n",
       " pdis           9.966479               0.685924\n",
       " dr            14.594612               1.004447\n",
       " sntis         14.771694               1.016634\n",
       " snpdis        13.717555               0.944085\n",
       " sndr          15.874133               1.092507,\n",
       " 'sac':            policy_value  relative_policy_value\n",
       " on_policy     14.690000               1.000000\n",
       " dm             6.778968               0.461468\n",
       " tis            5.650598               0.384656\n",
       " pdis           5.483310               0.373268\n",
       " dr             9.900961               0.673993\n",
       " sntis         13.992086               0.952491\n",
       " snpdis        18.858255               1.283748\n",
       " sndr           6.331990               0.431041,\n",
       " 'random':            policy_value  relative_policy_value\n",
       " on_policy     14.560000               1.000000\n",
       " dm            16.021606               1.100385\n",
       " tis            0.039821               0.002735\n",
       " pdis           3.856120               0.264843\n",
       " dr            15.805440               1.085538\n",
       " sntis          1.572983               0.108035\n",
       " snpdis        21.759686               1.494484\n",
       " sndr           6.800651               0.467078}"
      ]
     },
     "execution_count": 48,
     "metadata": {},
     "output_type": "execute_result"
    }
   ],
   "source": [
    "# estimated policy performance\n",
    "policy_value_df_dict"
   ]
  },
  {
   "cell_type": "code",
   "execution_count": 49,
   "metadata": {},
   "outputs": [
    {
     "data": {
      "text/plain": [
       "{'cql':                 mean  95.0% CI (lower)  95.0% CI (upper)\n",
       " on_policy  14.449200         13.699000         15.135750\n",
       " dm         14.746883         14.744733         14.749398\n",
       " tis         7.881582          6.088334         10.649567\n",
       " pdis       10.040258          9.409467         11.274636\n",
       " dr         14.567669         13.893138         14.905509\n",
       " sntis      14.691067         13.310163         16.305371\n",
       " snpdis     13.697407         13.432858         13.930637\n",
       " sndr       16.135674         13.245911         19.821117,\n",
       " 'sac':                 mean  95.0% CI (lower)  95.0% CI (upper)\n",
       " on_policy  14.615700         13.828500         15.325250\n",
       " dm          6.779031          6.777446          6.780271\n",
       " tis         5.640486          5.431696          5.934692\n",
       " pdis        5.485990          5.414094          5.554535\n",
       " dr          9.900894          9.825293          9.979689\n",
       " sntis      14.016718         10.627767         18.062910\n",
       " snpdis     18.893009         17.674652         20.384640\n",
       " sndr        5.892554          1.283802          8.833877,\n",
       " 'random':                 mean  95.0% CI (lower)  95.0% CI (upper)\n",
       " on_policy  14.491500         13.667500         15.210500\n",
       " dm         16.021595         16.020933         16.022315\n",
       " tis         0.041153          0.005868          0.093033\n",
       " pdis        3.923466          3.181638          4.758034\n",
       " dr         15.800280         15.591412         16.068394\n",
       " sntis       1.584925          0.672900          2.771128\n",
       " snpdis     23.270108         12.809171         41.634973\n",
       " sndr        6.341629         -9.301701         19.468151}"
      ]
     },
     "execution_count": 49,
     "metadata": {},
     "output_type": "execute_result"
    }
   ],
   "source": [
    "# estimated policy performance confidence intervals\n",
    "policy_value_interval_df_dict"
   ]
  },
  {
   "cell_type": "markdown",
   "metadata": {},
   "source": [
    "## 4. Evaluation of OPE methods\n",
    "Now, we evaluate how well ope estimators estimated the policy value."
   ]
  },
  {
   "cell_type": "code",
   "execution_count": 50,
   "metadata": {},
   "outputs": [
    {
     "data": {
      "image/png": "[encoded data removed]",
      "text/plain": [
       "<Figure size 1008x2592 with 3 Axes>"
      ]
     },
     "metadata": {},
     "output_type": "display_data"
    }
   ],
   "source": [
    "# we can visualize and compare the result\n",
    "# it seems offline metrics underestimates the policy value\n",
    "ope.visualize_off_policy_estimates(input_dict, random_state=random_state, sharey=True)"
   ]
  },
  {
   "cell_type": "code",
   "execution_count": 51,
   "metadata": {},
   "outputs": [
    {
     "data": {
      "text/html": [
       "<div>\n",
       "<style scoped>\n",
       "    .dataframe tbody tr th:only-of-type {\n",
       "        vertical-align: middle;\n",
       "    }\n",
       "\n",
       "    .dataframe tbody tr th {\n",
       "        vertical-align: top;\n",
       "    }\n",
       "\n",
       "    .dataframe thead th {\n",
       "        text-align: right;\n",
       "    }\n",
       "</style>\n",
       "<table border=\"1\" class=\"dataframe\">\n",
       "  <thead>\n",
       "    <tr style=\"text-align: right;\">\n",
       "      <th></th>\n",
       "      <th>cql</th>\n",
       "      <th>sac</th>\n",
       "      <th>random</th>\n",
       "    </tr>\n",
       "  </thead>\n",
       "  <tbody>\n",
       "    <tr>\n",
       "      <th>dm</th>\n",
       "      <td>0.047096</td>\n",
       "      <td>62.584430</td>\n",
       "      <td>2.136293</td>\n",
       "    </tr>\n",
       "    <tr>\n",
       "      <th>tis</th>\n",
       "      <td>46.860344</td>\n",
       "      <td>81.710794</td>\n",
       "      <td>210.835587</td>\n",
       "    </tr>\n",
       "    <tr>\n",
       "      <th>pdis</th>\n",
       "      <td>20.825725</td>\n",
       "      <td>84.763140</td>\n",
       "      <td>114.573053</td>\n",
       "    </tr>\n",
       "    <tr>\n",
       "      <th>dr</th>\n",
       "      <td>0.004175</td>\n",
       "      <td>22.934894</td>\n",
       "      <td>1.551120</td>\n",
       "    </tr>\n",
       "    <tr>\n",
       "      <th>sntis</th>\n",
       "      <td>0.058416</td>\n",
       "      <td>0.487084</td>\n",
       "      <td>168.662615</td>\n",
       "    </tr>\n",
       "    <tr>\n",
       "      <th>snpdis</th>\n",
       "      <td>0.660067</td>\n",
       "      <td>17.374353</td>\n",
       "      <td>51.835485</td>\n",
       "    </tr>\n",
       "    <tr>\n",
       "      <th>sndr</th>\n",
       "      <td>1.806695</td>\n",
       "      <td>69.856338</td>\n",
       "      <td>60.207489</td>\n",
       "    </tr>\n",
       "  </tbody>\n",
       "</table>\n",
       "</div>"
      ],
      "text/plain": [
       "              cql        sac      random\n",
       "dm       0.047096  62.584430    2.136293\n",
       "tis     46.860344  81.710794  210.835587\n",
       "pdis    20.825725  84.763140  114.573053\n",
       "dr       0.004175  22.934894    1.551120\n",
       "sntis    0.058416   0.487084  168.662615\n",
       "snpdis   0.660067  17.374353   51.835485\n",
       "sndr     1.806695  69.856338   60.207489"
      ]
     },
     "execution_count": 51,
     "metadata": {},
     "output_type": "execute_result"
    }
   ],
   "source": [
    "# squared-error (se) measures the estimation accuracy of OPE\n",
    "eval_metric_ope_df = ope.summarize_estimators_comparison(input_dict, metric=\"se\")\n",
    "eval_metric_ope_df"
   ]
  },
  {
   "cell_type": "markdown",
   "metadata": {},
   "source": [
    "For more advanced topics in OPE (e.g., cumulative distribution function estimation and distributionally robust estimation) and OPS, please refer to [examples/quickstart/rtb_synthetic_continuous_advanced.ipynb](https://github.com/negocia-inc/rtb_reinforcement_learing/blob/ope/examples/quickstart/rtb_synthetic_continuous_advanced.ipynb). \\\n",
    "For the examples in the discrete action space, please refer to [examples/quickstart/rtb_synthetic_discrete_basic.ipynb](https://github.com/negocia-inc/rtb_reinforcement_learing/blob/ope/examples/quickstart/rtb_synthetic_discrete_basic.ipynb)."
   ]
  },
  {
   "cell_type": "markdown",
   "metadata": {},
   "source": [
    "## Reference\n",
    "\n",
    "- Yuta Saito, Shunsuke Aihara, Megumi Matsutani, and Yusuke Narita. \\\n",
    "\"Open Bandit Dataset and Pipeline: Towards Realistic and Reproducible Off-Policy Evaluation.\", 2021.\n",
    "\n",
    "- Takuma Seno and Michita Imai. \\\n",
    "\"d3rlpy: An Offline Deep Reinforcement Library.\", 2021.\n",
    "\n",
    "- Sergey Levine, Aviral Kumar, George Tucker, and Justin Fu. \\\n",
    "\"Offline Reinforcement Learning: Tutorial, Review, and Perspectives on Open Problems.\" 2020.\n",
    "\n",
    "- Aviral Kumar, Aurick Zhou, George Tucker, and Sergey Levine. \\\n",
    "\"Conservative Q-Learning for Offline Reinforcement Learning.\", 2020.\n",
    "\n",
    "- Nathan Kallus and Masatoshi Uehara. \\\n",
    "\"Intrinsically Efficient, Stable, and Bounded Off-Policy Evaluation for Reinforcement Learning.\", 2019.\n",
    "\n",
    "- Hoang Le, Cameron Voloshin, and Yisong Yue. \\\n",
    "\"Batch Policy Learning under Constraints.\", 2019.\n",
    "\n",
    "- Tuomas Haarnoja, Aurick Zhou, Pieter Abbeel, and Sergey Levine. \\\n",
    "\"Soft Actor-Critic: Off-Policy Maximum Entropy Deep Reinforcement Learning with a Stochastic Actor.\" 2018.\n",
    "\n",
    "- Di Wu, Xiujun Chen, Xun Yang, Hao Wang, Qing Tan, Xiaoxun Zhang, Jian Xu, and Kun Gai. \\\n",
    "\"Budget Constrained Bidding by Model-free Reinforcement Learning in Display Advertising.\", 2018.\n",
    "\n",
    "- Jun Zhao, Guang Qiu, Ziyu Guan, Wei Zhao, and Xiaofei He. \\\n",
    "\"Deep Reinforcement Learning for Sponsored Search Real-time Bidding.\", 2018.\n",
    "\n",
    "- Nan Jiang and Lihong Li. \\\n",
    "\"Doubly Robust Off-policy Value Evaluation for Reinforcement Learning.\", 2016.\n",
    "\n",
    "- Philip S. Thomas and Emma Brunskill. \\\n",
    "\"Data-Efficient Off-Policy Policy Evaluation for Reinforcement Learning.\", 2016.\n",
    "\n",
    "- Greg Brockman, Vicki Cheung, Ludwig Pettersson, Jonas Schneider, John Schulman, Jie Tang, and Wojciech Zaremba. \\\n",
    "\"OpenAI Gym.\", 2016.\n",
    "\n",
    "- Adith Swaminathan and Thorsten Joachims. \\\n",
    "\"The Self-Normalized Estimator for Counterfactual Learning.\", 2015.\n",
    "\n",
    "- Miroslav Dudík, Dumitru Erhan, John Langford, and Lihong Li. \\\n",
    "\"Doubly Robust Policy Evaluation and Optimization.\", 2014.\n",
    "\n",
    "- Alex Strehl, John Langford, Sham Kakade, and Lihong Li. \\\n",
    "\"Learning from Logged Implicit Exploration Data.\", 2010.\n",
    "\n",
    "- Alina Beygelzimer and John Langford. \\\n",
    "\"The Offset Tree for Learning with Partial Labels.\", 2009.\n",
    "\n",
    "- Doina Precup, Richard S. Sutton, and Satinder P. Singh. \\\n",
    "\"Eligibility Traces for Off-Policy Policy Evaluation.\", 2000."
   ]
  },
  {
   "cell_type": "code",
   "execution_count": null,
   "metadata": {},
   "outputs": [],
   "source": []
  }
 ],
 "metadata": {
  "kernelspec": {
   "display_name": "Python 3",
   "language": "python",
   "name": "python3"
  },
  "language_info": {
   "codemirror_mode": {
    "name": "ipython",
    "version": 3
   },
   "file_extension": ".py",
   "mimetype": "text/x-python",
   "name": "python",
   "nbconvert_exporter": "python",
   "pygments_lexer": "ipython3",
   "version": "3.8.5"
  }
 },
 "nbformat": 4,
 "nbformat_minor": 4
}
