{
 "cells": [
  {
   "cell_type": "markdown",
   "metadata": {},
   "source": [
    "# Quickstart Example with Synthetic RTB Simulation and Dataset (Continuous)\n",
    "This notebook provides an example of conducting **Off-policy Evaluation (OPE) and Offline Reinforcement Learning (Offline RL) on a synthetic Real-Time Bidding (RTB) dataset**.\n",
    "\n",
    "Our example with Synthetic RTB Simulation and Dataset consists of the following 5 steps:\n",
    "0. (Setup Synthetic RTB Simulation Environment and Online RL)\n",
    "1. Synthetic Data Generation\n",
    "2. Offline Reinforcement Learning\n",
    "3. Off-Policy Evaluation and Evaluation of Offline RL methods\n",
    "4. Evaluation of OPE methods\n",
    "\n",
    "We also show how to visualize the results in the Appendix.\n",
    "\n",
    "\\* This library uses [d3rlpy](https://github.com/takuseno/d3rlpy)'s algorithm implementations of online/offline rl policies and model-based evaluation.  \n",
    "\\* Also, our OPE implementations are highly inspired by [Open Bandit Pipeline](https://github.com/st-tech/zr-obp)."
   ]
  },
  {
   "cell_type": "code",
   "execution_count": 1,
   "metadata": {},
   "outputs": [],
   "source": [
    "# delete later\n",
    "%load_ext autoreload\n",
    "%autoreload 2"
   ]
  },
  {
   "cell_type": "code",
   "execution_count": 2,
   "metadata": {},
   "outputs": [],
   "source": [
    "# delete later\n",
    "import warnings\n",
    "warnings.simplefilter('ignore')"
   ]
  },
  {
   "cell_type": "code",
   "execution_count": 3,
   "metadata": {},
   "outputs": [],
   "source": [
    "# delete later\n",
    "import sys\n",
    "sys.path.append('../')\n",
    "sys.path.append('../../')"
   ]
  },
  {
   "cell_type": "code",
   "execution_count": 4,
   "metadata": {},
   "outputs": [],
   "source": [
    "# import OFRL modules\n",
    "import ofrl\n",
    "from rtbgym import RTBEnv, CustomizedRTBEnv\n",
    "from ofrl.dataset import SyntheticDataset\n",
    "from ofrl.policy import OnlineHead, ContinuousTruncatedGaussianHead\n",
    "from ofrl.ope.online import (\n",
    "    calc_on_policy_policy_value,\n",
    "    visualize_on_policy_policy_value,\n",
    ")\n",
    "\n",
    "# import d3rlpy algorithms\n",
    "from d3rlpy.algos import DiscreteRandomPolicy\n",
    "from d3rlpy.algos import RandomPolicy as ContinuousRandomPolicy\n",
    "from d3rlpy.preprocessing import MinMaxActionScaler\n",
    "\n",
    "# import from other libraries\n",
    "import gym\n",
    "import torch\n",
    "from sklearn.model_selection import train_test_split"
   ]
  },
  {
   "cell_type": "code",
   "execution_count": 5,
   "metadata": {},
   "outputs": [],
   "source": [
    "import pickle\n",
    "from glob import glob\n",
    "from tqdm import tqdm\n",
    "\n",
    "import numpy as np\n",
    "import pandas as pd\n",
    "\n",
    "import matplotlib.pyplot as plt\n",
    "import seaborn as sns\n",
    "\n",
    "%matplotlib inline"
   ]
  },
  {
   "cell_type": "code",
   "execution_count": 6,
   "metadata": {},
   "outputs": [
    {
     "name": "stdout",
     "output_type": "stream",
     "text": [
      "0.0.0\n"
     ]
    }
   ],
   "source": [
    "# version\n",
    "print(ofrl.__version__)"
   ]
  },
  {
   "cell_type": "code",
   "execution_count": 7,
   "metadata": {},
   "outputs": [],
   "source": [
    "# set random state\n",
    "random_state = 12345"
   ]
  },
  {
   "cell_type": "code",
   "execution_count": 8,
   "metadata": {},
   "outputs": [],
   "source": [
    "# log directory\n",
    "from pathlib import Path\n",
    "Path(\"logs/\").mkdir(exist_ok=True)"
   ]
  },
  {
   "cell_type": "markdown",
   "metadata": {},
   "source": [
    "## 0. (Setup Synthetic RTB Simulation Environment and Online RL)\n",
    "To begin with, we briefly describe how the RTB environment works.\n",
    "\n",
    "#### RL setup for RTB\n",
    "In RTB, the objective of the RL agent is to maximize some KPIs (such as number of clicks or conversions) within an episode under given budget constraints. We often try to achieve this by adjusting bidding price function parameter $\\alpha$. By using $\\alpha$, we can adjust the bid price as follows.  \n",
    "$bid_{t,i} = \\alpha \\cdot r^{\\ast}$, \n",
    "where $r^{\\ast}$ denotes a predicted or expected reward (KPIs).\n",
    "\n",
    "We often formulate this RTB problem as the following Constrained Markov Decision Process (CMDP):\n",
    "- `timestep`: One episode (a day or a week) consists of several timesteps (24 hours or seven days, for instance).\n",
    "- `state`: We observe some feedback from the environment at each timestep, which includes the followings.\n",
    "  - timestep\n",
    "  - remaining budget\n",
    "  - impression level features (budget consumption rate, cost per mille of impressions, auction winning rate, reward) at the previous timestep\n",
    "  - adjust rate (RL agent's decision making) at the previous timestep\n",
    "- `action`: Agent chooses adjust rate parameter $\\alpha$ to maximize KPIs.\n",
    "- `reward`: Total number of clicks or conversions obtained during the timestep.\n",
    "- `constraints`: The pre-determined episodic budget should not be exceeded.\n",
    "\n",
    "For more about the environmental configurations, please refer to [examples/quickstart/rtb_synthetic_customize_env.ipynb](https://github.com/negocia-inc/rtb_reinforcement_learing/blob/ope/examples/quickstart/rtb_synthetic_customize_env.ipynb).\n",
    "\n",
    "Then, Let's see how it works!"
   ]
  },
  {
   "cell_type": "code",
   "execution_count": 9,
   "metadata": {},
   "outputs": [],
   "source": [
    "# setup environment\n",
    "env = RTBEnv(random_state=random_state)"
   ]
  },
  {
   "cell_type": "code",
   "execution_count": 10,
   "metadata": {},
   "outputs": [],
   "source": [
    "# define a random agent\n",
    "agent = OnlineHead(\n",
    "    ContinuousRandomPolicy(\n",
    "        action_scaler=MinMaxActionScaler(\n",
    "            minimum=0.1,  # minimum value that policy can take\n",
    "            maximum=10,  # maximum value that policy can take\n",
    "        )\n",
    "    )\n",
    ")"
   ]
  },
  {
   "cell_type": "code",
   "execution_count": 11,
   "metadata": {},
   "outputs": [],
   "source": [
    "# interact agent with the environment\n",
    "# only 6 lines are needed for RL interaction\n",
    "for episode in range(10):\n",
    "    obs, info = env.reset()\n",
    "    done = False\n",
    "\n",
    "    while not done:\n",
    "        action = agent.predict_online(obs)\n",
    "        obs, reward, done, truncated, info = env.step(action)"
   ]
  },
  {
   "cell_type": "code",
   "execution_count": 12,
   "metadata": {},
   "outputs": [
    {
     "name": "stdout",
     "output_type": "stream",
     "text": [
      "['timestep', 'remaining_budget', 'budget_consumption_rate', 'cost_per_mille_of_impression', 'winning_rate', 'reward', 'adjust_rate']\n",
      "(7,)\n"
     ]
    }
   ],
   "source": [
    "# state consists of the following feedback from the environment\n",
    "print(env.obs_keys)\n",
    "print(obs.shape)"
   ]
  },
  {
   "cell_type": "code",
   "execution_count": 13,
   "metadata": {},
   "outputs": [
    {
     "data": {
      "image/png": "[encoded data removed]",
      "text/plain": [
       "<Figure size 432x288 with 2 Axes>"
      ]
     },
     "metadata": {
      "needs_background": "light"
     },
     "output_type": "display_data"
    }
   ],
   "source": [
    "# let's visualize the transition of remaining budget and the cumulative reward\n",
    "# our goal is to obtain a policy (i.e., agent) that maximizes the cumulative reward under budget constraints using RL.  \n",
    "# for more visualization, please see the appendix.\n",
    "obs, info = env.reset()\n",
    "done = False\n",
    "remaining_budget = [obs[1]]\n",
    "cumulative_reward = [0]\n",
    "\n",
    "while not done:\n",
    "    action = agent.predict_online(obs)\n",
    "    obs, reward, done, truncated, info = env.step(action)\n",
    "    remaining_budget.append(obs[1])\n",
    "    cumulative_reward.append(cumulative_reward[-1] + reward)\n",
    "\n",
    "# plot\n",
    "fig = plt.figure()\n",
    "ax1 = fig.add_subplot(111)\n",
    "ax1.plot(remaining_budget[:-1], label='remaining budget')\n",
    "ax2 = ax1.twinx()\n",
    "ax2.plot(cumulative_reward[:-1], label='cumulative reward', color='tab:orange')\n",
    "ax1.set_xlabel('timestep')\n",
    "ax1.set_ylabel('remainig budget')\n",
    "ax1.set_ylim(0, env.initial_budget + 100)\n",
    "ax2.set_ylabel('reward (coversion)')\n",
    "ax1.legend(loc='upper left')\n",
    "ax2.legend(loc='upper right')\n",
    "plt.show()"
   ]
  },
  {
   "cell_type": "markdown",
   "metadata": {},
   "source": [
    "We see that the random policy run out the budget quickly.  \n",
    "Our goal is to derive a policy that controls the adjust rate (i.e., action) to maximize the reward while meeting the given budget constraints.\n",
    "\n",
    "For more about the environmental configurations and customization, please refer to [examples/quickstart/rtb_synthetic_customize_env.ipynb](https://github.com/negocia-inc/rtb_reinforcement_learing/blob/ope/examples/quickstart/rtb_synthetic_customize_env.ipynb)."
   ]
  },
  {
   "cell_type": "markdown",
   "metadata": {},
   "source": [
    "#### Online RL and comparison of the policies\n",
    "We now learn an online RL policy and compare it to the random policy, based on their on-policy policy value estimation."
   ]
  },
  {
   "cell_type": "code",
   "execution_count": 14,
   "metadata": {},
   "outputs": [
    {
     "name": "stdout",
     "output_type": "stream",
     "text": [
      "Box(0.1, 10.0, (1,), float64)\n"
     ]
    }
   ],
   "source": [
    "# standardized environment for continuous actions\n",
    "env = gym.make(\"RTBEnv-continuous-v0\")\n",
    "print(env.action_space)"
   ]
  },
  {
   "cell_type": "code",
   "execution_count": 15,
   "metadata": {},
   "outputs": [],
   "source": [
    "from d3rlpy.algos import SAC\n",
    "from d3rlpy.models.encoders import VectorEncoderFactory\n",
    "from d3rlpy.models.q_functions import MeanQFunctionFactory\n",
    "from d3rlpy.online.buffers import ReplayBuffer\n",
    "\n",
    "# model\n",
    "sac = SAC(\n",
    "    actor_encoder_factory=VectorEncoderFactory(hidden_units=[30, 30]),\n",
    "    critic_encoder_factory=VectorEncoderFactory(hidden_units=[30, 30]),\n",
    "    q_func_factory=MeanQFunctionFactory(),\n",
    "    use_gpu=torch.cuda.is_available(),\n",
    "    action_scaler=MinMaxActionScaler(\n",
    "        minimum=env.action_space.low,   # 0.1\n",
    "        maximum=env.action_space.high,  # 10\n",
    "    ),\n",
    ")\n",
    "# setup replay buffer\n",
    "buffer = ReplayBuffer(\n",
    "    maxlen=10000,\n",
    "    env=env,\n",
    ")"
   ]
  },
  {
   "cell_type": "code",
   "execution_count": 16,
   "metadata": {},
   "outputs": [
    {
     "name": "stdout",
     "output_type": "stream",
     "text": [
      "2022-10-26 09:33.05 [info     ] Directory is created at d3rlpy_logs/SAC_online_20221026093305\n",
      "2022-10-26 09:33.05 [debug    ] Fitting action scaler...       action_scler=min_max\n",
      "2022-10-26 09:33.05 [debug    ] Building model...\n",
      "2022-10-26 09:33.05 [debug    ] Model has been built.\n",
      "2022-10-26 09:33.05 [info     ] Parameters are saved to d3rlpy_logs/SAC_online_20221026093305/params.json params={'action_scaler': {'type': 'min_max', 'params': {'minimum': array([0.1]), 'maximum': array([10.])}}, 'actor_encoder_factory': {'type': 'vector', 'params': {'hidden_units': [30, 30], 'activation': 'relu', 'use_batch_norm': False, 'dropout_rate': None, 'use_dense': False}}, 'actor_learning_rate': 0.0003, 'actor_optim_factory': {'optim_cls': 'Adam', 'betas': (0.9, 0.999), 'eps': 1e-08, 'weight_decay': 0, 'amsgrad': False}, 'batch_size': 256, 'critic_encoder_factory': {'type': 'vector', 'params': {'hidden_units': [30, 30], 'activation': 'relu', 'use_batch_norm': False, 'dropout_rate': None, 'use_dense': False}}, 'critic_learning_rate': 0.0003, 'critic_optim_factory': {'optim_cls': 'Adam', 'betas': (0.9, 0.999), 'eps': 1e-08, 'weight_decay': 0, 'amsgrad': False}, 'gamma': 0.99, 'generated_maxlen': 100000, 'initial_temperature': 1.0, 'n_critics': 2, 'n_frames': 1, 'n_steps': 1, 'q_func_factory': {'type': 'mean', 'params': {'share_encoder': False}}, 'real_ratio': 1.0, 'reward_scaler': None, 'scaler': None, 'tau': 0.005, 'temp_learning_rate': 0.0003, 'temp_optim_factory': {'optim_cls': 'Adam', 'betas': (0.9, 0.999), 'eps': 1e-08, 'weight_decay': 0, 'amsgrad': False}, 'use_gpu': None, 'algorithm': 'SAC', 'observation_shape': (7,), 'action_size': 1}\n"
     ]
    },
    {
     "data": {
      "application/vnd.jupyter.widget-view+json": {
       "model_id": "3edf6d2abcdc47b1baa1f1fb4cc4f7b4",
       "version_major": 2,
       "version_minor": 0
      },
      "text/plain": [
       "  0%|          | 0/100000 [00:00<?, ?it/s]"
      ]
     },
     "metadata": {},
     "output_type": "display_data"
    },
    {
     "name": "stderr",
     "output_type": "stream",
     "text": [
      "/home/haa/.local/lib/python3.8/site-packages/gym/utils/passive_env_checker.py:219: DeprecationWarning: \u001b[33mWARN: Core environment is written in old step API which returns one bool instead of two. It is recommended to rewrite the environment with new step API. \u001b[0m\n",
      "  logger.deprecation(\n"
     ]
    },
    {
     "name": "stdout",
     "output_type": "stream",
     "text": [
      "2022-10-26 09:33.07 [info     ] Model parameters are saved to d3rlpy_logs/SAC_online_20221026093305/model_1000.pt\n",
      "2022-10-26 09:33.07 [info     ] SAC_online_20221026093305: epoch=1 step=1000 epoch=1 metrics={'time_inference': 0.0011659486293792724, 'time_environment_step': 0.0011464426517486573, 'time_step': 0.0023881990909576417, 'rollout_return': 0.0, 'evaluation': 0.0} step=1000\n",
      "2022-10-26 09:33.34 [info     ] Model parameters are saved to d3rlpy_logs/SAC_online_20221026093305/model_2000.pt\n",
      "2022-10-26 09:33.34 [info     ] SAC_online_20221026093305: epoch=2 step=2000 epoch=2 metrics={'time_inference': 0.0010744585990905761, 'time_environment_step': 0.0012298746109008789, 'time_sample_batch': 0.00044418931007385255, 'time_algorithm_update': 0.023699126958847044, 'temp_loss': -9.680815499195829, 'temp': 1.012107159972191, 'critic_loss': 8869.84507571411, 'actor_loss': 58.444327085495, 'time_step': 0.026550143241882325, 'rollout_return': 13.683098591549296, 'evaluation': 15.7} step=2000\n",
      "2022-10-26 09:34.01 [info     ] Model parameters are saved to d3rlpy_logs/SAC_online_20221026093305/model_3000.pt\n",
      "2022-10-26 09:34.01 [info     ] SAC_online_20221026093305: epoch=3 step=3000 epoch=3 metrics={'time_inference': 0.0010858376026153564, 'time_environment_step': 0.001240417957305908, 'time_sample_batch': 0.0004334101676940918, 'time_algorithm_update': 0.023812526702880858, 'temp_loss': -0.879199661821127, 'temp': 1.0165541269779206, 'critic_loss': 112.6973274307251, 'actor_loss': 10.639977049827575, 'time_step': 0.02667642617225647, 'rollout_return': 14.774647887323944, 'evaluation': 13.8} step=3000\n",
      "2022-10-26 09:34.29 [info     ] Model parameters are saved to d3rlpy_logs/SAC_online_20221026093305/model_4000.pt\n",
      "2022-10-26 09:34.29 [info     ] SAC_online_20221026093305: epoch=4 step=4000 epoch=4 metrics={'time_inference': 0.0011011314392089843, 'time_environment_step': 0.0012256579399108887, 'time_sample_batch': 0.00046450376510620117, 'time_algorithm_update': 0.024009979009628295, 'temp_loss': -1.4184946272671222, 'temp': 1.0358897634744644, 'critic_loss': 72.97881340026855, 'actor_loss': 6.534318092823028, 'time_step': 0.026916027784347533, 'rollout_return': 14.95774647887324, 'evaluation': 13.2} step=4000\n",
      "2022-10-26 09:34.55 [info     ] Model parameters are saved to d3rlpy_logs/SAC_online_20221026093305/model_5000.pt\n",
      "2022-10-26 09:34.55 [info     ] SAC_online_20221026093305: epoch=5 step=5000 epoch=5 metrics={'time_inference': 0.0011101565361022949, 'time_environment_step': 0.001215787649154663, 'time_sample_batch': 0.0004653022289276123, 'time_algorithm_update': 0.022837058067321777, 'temp_loss': -1.805851704210043, 'temp': 1.0810524736642837, 'critic_loss': 81.0888514213562, 'actor_loss': 6.62012046289444, 'time_step': 0.025731371879577636, 'rollout_return': 14.401408450704226, 'evaluation': 13.3} step=5000\n",
      "2022-10-26 09:35.21 [info     ] Model parameters are saved to d3rlpy_logs/SAC_online_20221026093305/model_6000.pt\n",
      "2022-10-26 09:35.21 [info     ] SAC_online_20221026093305: epoch=6 step=6000 epoch=6 metrics={'time_inference': 0.0011170461177825927, 'time_environment_step': 0.0012477655410766601, 'time_sample_batch': 0.0004861774444580078, 'time_algorithm_update': 0.022443901538848877, 'temp_loss': -2.1502650042176246, 'temp': 1.1774750225543975, 'critic_loss': 100.45963632202148, 'actor_loss': 7.926591733932495, 'time_step': 0.025405189990997314, 'rollout_return': 14.767605633802816, 'evaluation': 14.3} step=6000\n",
      "2022-10-26 09:35.51 [info     ] Model parameters are saved to d3rlpy_logs/SAC_online_20221026093305/model_7000.pt\n",
      "2022-10-26 09:35.51 [info     ] SAC_online_20221026093305: epoch=7 step=7000 epoch=7 metrics={'time_inference': 0.0011176726818084718, 'time_environment_step': 0.0013009240627288817, 'time_sample_batch': 0.000533179521560669, 'time_algorithm_update': 0.026532785415649414, 'temp_loss': -2.7650510927438736, 'temp': 1.3802634432315826, 'critic_loss': 141.47924624633788, 'actor_loss': 10.366412281990051, 'time_step': 0.029604402065277098, 'rollout_return': 15.077464788732394, 'evaluation': 16.3} step=7000\n",
      "2022-10-26 09:36.11 [info     ] Model parameters are saved to d3rlpy_logs/SAC_online_20221026093305/model_8000.pt\n",
      "2022-10-26 09:36.11 [info     ] SAC_online_20221026093305: epoch=8 step=8000 epoch=8 metrics={'time_inference': 0.0011343252658843994, 'time_environment_step': 0.0011748883724212646, 'time_sample_batch': 0.0004921183586120606, 'time_algorithm_update': 0.017459604978561402, 'temp_loss': -3.6911766976118088, 'temp': 1.7870358035564422, 'critic_loss': 243.53485565948486, 'actor_loss': 14.793154602050782, 'time_step': 0.02037006998062134, 'rollout_return': 14.626760563380282, 'evaluation': 12.4} step=8000\n",
      "2022-10-26 09:36.25 [info     ] Model parameters are saved to d3rlpy_logs/SAC_online_20221026093305/model_9000.pt\n",
      "2022-10-26 09:36.25 [info     ] SAC_online_20221026093305: epoch=9 step=9000 epoch=9 metrics={'time_inference': 0.0009311904907226562, 'time_environment_step': 0.0010932283401489259, 'time_sample_batch': 0.00043872904777526856, 'time_algorithm_update': 0.010864655256271363, 'temp_loss': -5.465811074256897, 'temp': 2.5150395925045013, 'critic_loss': 497.2208332977295, 'actor_loss': 22.899988530158996, 'time_step': 0.013424837350845337, 'rollout_return': 14.330985915492958, 'evaluation': 15.3} step=9000\n",
      "2022-10-26 09:36.39 [info     ] Model parameters are saved to d3rlpy_logs/SAC_online_20221026093305/model_10000.pt\n",
      "2022-10-26 09:36.39 [info     ] SAC_online_20221026093305: epoch=10 step=10000 epoch=10 metrics={'time_inference': 0.0009266140460968018, 'time_environment_step': 0.0010515735149383544, 'time_sample_batch': 0.0004437053203582764, 'time_algorithm_update': 0.010824952840805053, 'temp_loss': -8.117418648958207, 'temp': 3.6873175864219667, 'critic_loss': 1088.643036743164, 'actor_loss': 36.09012370681763, 'time_step': 0.013345210790634155, 'rollout_return': 14.30281690140845, 'evaluation': 16.4} step=10000\n",
      "2022-10-26 09:36.54 [info     ] Model parameters are saved to d3rlpy_logs/SAC_online_20221026093305/model_11000.pt\n",
      "2022-10-26 09:36.54 [info     ] SAC_online_20221026093305: epoch=11 step=11000 epoch=11 metrics={'time_inference': 0.0009213485717773438, 'time_environment_step': 0.0010802323818206788, 'time_sample_batch': 0.0004539175033569336, 'time_algorithm_update': 0.012264279365539551, 'temp_loss': -13.066365915298462, 'temp': 5.47048179769516, 'critic_loss': 2365.103245239258, 'actor_loss': 56.28249118804931, 'time_step': 0.014835333824157715, 'rollout_return': 15.147887323943662, 'evaluation': 15.6} step=11000\n",
      "2022-10-26 09:37.09 [info     ] Model parameters are saved to d3rlpy_logs/SAC_online_20221026093305/model_12000.pt\n",
      "2022-10-26 09:37.09 [info     ] SAC_online_20221026093305: epoch=12 step=12000 epoch=12 metrics={'time_inference': 0.0009130651950836181, 'time_environment_step': 0.0010707228183746338, 'time_sample_batch': 0.00044655299186706544, 'time_algorithm_update': 0.012331774711608887, 'temp_loss': -21.91572118473053, 'temp': 8.29808189868927, 'critic_loss': 5352.193548828125, 'actor_loss': 93.24897641372681, 'time_step': 0.01486170244216919, 'rollout_return': 13.950704225352112, 'evaluation': 15.5} step=12000\n",
      "2022-10-26 09:39.07 [info     ] Model parameters are saved to d3rlpy_logs/SAC_online_20221026093305/model_13000.pt\n",
      "2022-10-26 09:39.07 [info     ] SAC_online_20221026093305: epoch=13 step=13000 epoch=13 metrics={'time_inference': 0.001181281328201294, 'time_environment_step': 0.0012440202236175537, 'time_sample_batch': 0.0005486733913421631, 'time_algorithm_update': 0.11417686152458191, 'temp_loss': -32.10009631824494, 'temp': 12.404180609703063, 'critic_loss': 11912.922067871094, 'actor_loss': 142.99016920471192, 'time_step': 0.1172643802165985, 'rollout_return': 14.338028169014084, 'evaluation': 15.0} step=13000\n",
      "2022-10-26 09:41.37 [info     ] Model parameters are saved to d3rlpy_logs/SAC_online_20221026093305/model_14000.pt\n",
      "2022-10-26 09:41.37 [info     ] SAC_online_20221026093305: epoch=14 step=14000 epoch=14 metrics={'time_inference': 0.0011409895420074463, 'time_environment_step': 0.0013155958652496338, 'time_sample_batch': 0.00046941423416137695, 'time_algorithm_update': 0.14601805233955384, 'temp_loss': -47.5301754989624, 'temp': 18.321547704696656, 'critic_loss': 25825.3330546875, 'actor_loss': 212.3296969909668, 'time_step': 0.14908040714263915, 'rollout_return': 14.894366197183098, 'evaluation': 14.7} step=14000\n",
      "2022-10-26 09:43.57 [info     ] Model parameters are saved to d3rlpy_logs/SAC_online_20221026093305/model_15000.pt\n",
      "2022-10-26 09:43.57 [info     ] SAC_online_20221026093305: epoch=15 step=15000 epoch=15 metrics={'time_inference': 0.0012594413757324218, 'time_environment_step': 0.0013497607707977294, 'time_sample_batch': 0.0006005480289459228, 'time_algorithm_update': 0.13504553961753846, 'temp_loss': -69.5713124885559, 'temp': 27.13258459663391, 'critic_loss': 55966.27808984375, 'actor_loss': 313.50175563049316, 'time_step': 0.1383799979686737, 'rollout_return': 14.471830985915492, 'evaluation': 15.5} step=15000\n",
      "2022-10-26 09:46.05 [info     ] Model parameters are saved to d3rlpy_logs/SAC_online_20221026093305/model_16000.pt\n",
      "2022-10-26 09:46.05 [info     ] SAC_online_20221026093305: epoch=16 step=16000 epoch=16 metrics={'time_inference': 0.0011846864223480226, 'time_environment_step': 0.0014600272178649902, 'time_sample_batch': 0.0005173299312591553, 'time_algorithm_update': 0.12411958789825439, 'temp_loss': -104.07416988754272, 'temp': 40.18006080627441, 'critic_loss': 124170.94001171875, 'actor_loss': 466.6315098571777, 'time_step': 0.1273951723575592, 'rollout_return': 15.028169014084508, 'evaluation': 15.6} step=16000\n",
      "2022-10-26 09:49.42 [info     ] Model parameters are saved to d3rlpy_logs/SAC_online_20221026093305/model_17000.pt\n",
      "2022-10-26 09:49.42 [info     ] SAC_online_20221026093305: epoch=17 step=17000 epoch=17 metrics={'time_inference': 0.0018129191398620606, 'time_environment_step': 0.00191226863861084, 'time_sample_batch': 0.0007401561737060547, 'time_algorithm_update': 0.2108524866104126, 'temp_loss': -151.7483703918457, 'temp': 59.397181640625, 'critic_loss': 271651.666328125, 'actor_loss': 686.3228049316406, 'time_step': 0.21552819180488586, 'rollout_return': 14.73943661971831, 'evaluation': 0.0} step=17000\n",
      "2022-10-26 09:52.33 [info     ] Model parameters are saved to d3rlpy_logs/SAC_online_20221026093305/model_18000.pt\n",
      "2022-10-26 09:52.33 [info     ] SAC_online_20221026093305: epoch=18 step=18000 epoch=18 metrics={'time_inference': 0.0016187782287597657, 'time_environment_step': 0.001520704984664917, 'time_sample_batch': 0.0006544470787048339, 'time_algorithm_update': 0.16629990005493164, 'temp_loss': -219.4785209456682, 'temp': 87.53246099090576, 'critic_loss': 567896.875765625, 'actor_loss': 1001.5503884887695, 'time_step': 0.17028658080101014, 'rollout_return': 14.112676056338028, 'evaluation': 13.9} step=18000\n",
      "2022-10-26 09:55.36 [info     ] Model parameters are saved to d3rlpy_logs/SAC_online_20221026093305/model_19000.pt\n",
      "2022-10-26 09:55.36 [info     ] SAC_online_20221026093305: epoch=19 step=19000 epoch=19 metrics={'time_inference': 0.001617975950241089, 'time_environment_step': 0.0015919530391693116, 'time_sample_batch': 0.0008854022026062012, 'time_algorithm_update': 0.17720152068138123, 'temp_loss': -320.7642882080078, 'temp': 128.44924771881102, 'critic_loss': 1263675.690375, 'actor_loss': 1470.1243157958984, 'time_step': 0.18148125886917113, 'rollout_return': 15.380281690140846, 'evaluation': 13.7} step=19000\n",
      "2022-10-26 09:58.46 [info     ] Model parameters are saved to d3rlpy_logs/SAC_online_20221026093305/model_20000.pt\n",
      "2022-10-26 09:58.46 [info     ] SAC_online_20221026093305: epoch=20 step=20000 epoch=20 metrics={'time_inference': 0.0017494161128997802, 'time_environment_step': 0.0017491073608398436, 'time_sample_batch': 0.0006667430400848389, 'time_algorithm_update': 0.1845680878162384, 'temp_loss': -478.9611034851074, 'temp': 189.8329919128418, 'critic_loss': 2771135.59475, 'actor_loss': 2170.209512084961, 'time_step': 0.18887373352050782, 'rollout_return': 14.711267605633802, 'evaluation': 14.1} step=20000\n",
      "2022-10-26 10:02.16 [info     ] Model parameters are saved to d3rlpy_logs/SAC_online_20221026093305/model_21000.pt\n",
      "2022-10-26 10:02.16 [info     ] SAC_online_20221026093305: epoch=21 step=21000 epoch=21 metrics={'time_inference': 0.001546140193939209, 'time_environment_step': 0.0015644292831420898, 'time_sample_batch': 0.0006747536659240722, 'time_algorithm_update': 0.20432500219345093, 'temp_loss': -727.0000392456054, 'temp': 282.37142779541017, 'critic_loss': 6190119.64, 'actor_loss': 3247.982167236328, 'time_step': 0.20825694799423217, 'rollout_return': 14.30281690140845, 'evaluation': 17.1} step=21000\n",
      "2022-10-26 10:05.22 [info     ] Model parameters are saved to d3rlpy_logs/SAC_online_20221026093305/model_22000.pt\n",
      "2022-10-26 10:05.22 [info     ] SAC_online_20221026093305: epoch=22 step=22000 epoch=22 metrics={'time_inference': 0.001451282024383545, 'time_environment_step': 0.0015175132751464844, 'time_sample_batch': 0.0006845433712005615, 'time_algorithm_update': 0.18144540810585022, 'temp_loss': -1068.7500171203612, 'temp': 418.5550391845703, 'critic_loss': 13516214.5385, 'actor_loss': 4822.7271796875, 'time_step': 0.18523463821411132, 'rollout_return': 15.112676056338028, 'evaluation': 14.5} step=22000\n",
      "2022-10-26 10:08.36 [info     ] Model parameters are saved to d3rlpy_logs/SAC_online_20221026093305/model_23000.pt\n",
      "2022-10-26 10:08.36 [info     ] SAC_online_20221026093305: epoch=23 step=23000 epoch=23 metrics={'time_inference': 0.0013166084289550782, 'time_environment_step': 0.0015607099533081054, 'time_sample_batch': 0.0007313616275787353, 'time_algorithm_update': 0.1886504545211792, 'temp_loss': 321.78196615219116, 'temp': 505.15796893310545, 'critic_loss': 4916380.95178125, 'actor_loss': 2008.041081911087, 'time_step': 0.19239626526832582, 'rollout_return': 14.80281690140845, 'evaluation': 14.1} step=23000\n",
      "2022-10-26 10:11.48 [info     ] Model parameters are saved to d3rlpy_logs/SAC_online_20221026093305/model_24000.pt\n",
      "2022-10-26 10:11.48 [info     ] SAC_online_20221026093305: epoch=24 step=24000 epoch=24 metrics={'time_inference': 0.0013269896507263183, 'time_environment_step': 0.0014153187274932861, 'time_sample_batch': 0.0006835694313049316, 'time_algorithm_update': 0.18686129570007323, 'temp_loss': 635.3216357421875, 'temp': 402.30089196777345, 'critic_loss': 291235.8388671875, 'actor_loss': -284.30952213668826, 'time_step': 0.19048889493942261, 'rollout_return': 14.06338028169014, 'evaluation': 15.2} step=24000\n",
      "2022-10-26 10:14.54 [info     ] Model parameters are saved to d3rlpy_logs/SAC_online_20221026093305/model_25000.pt\n",
      "2022-10-26 10:14.54 [info     ] SAC_online_20221026093305: epoch=25 step=25000 epoch=25 metrics={'time_inference': 0.0014618489742279053, 'time_environment_step': 0.0014541802406311036, 'time_sample_batch': 0.0006187920570373535, 'time_algorithm_update': 0.18101619362831115, 'temp_loss': 505.6042183837891, 'temp': 317.74231198120117, 'critic_loss': 90754.46904296875, 'actor_loss': -494.48615853881836, 'time_step': 0.1847088987827301, 'rollout_return': 14.169014084507042, 'evaluation': 12.8} step=25000\n",
      "2022-10-26 10:17.44 [info     ] Model parameters are saved to d3rlpy_logs/SAC_online_20221026093305/model_26000.pt\n",
      "2022-10-26 10:17.44 [info     ] SAC_online_20221026093305: epoch=26 step=26000 epoch=26 metrics={'time_inference': 0.001479924440383911, 'time_environment_step': 0.0013942973613739014, 'time_sample_batch': 0.0007570452690124511, 'time_algorithm_update': 0.16565057611465453, 'temp_loss': 404.8151717529297, 'temp': 252.0755943145752, 'critic_loss': 48317.77731347656, 'actor_loss': -445.9821730041504, 'time_step': 0.16940957927703856, 'rollout_return': 14.30281690140845, 'evaluation': 15.2} step=26000\n",
      "2022-10-26 10:20.09 [info     ] Model parameters are saved to d3rlpy_logs/SAC_online_20221026093305/model_27000.pt\n",
      "2022-10-26 10:20.09 [info     ] SAC_online_20221026093305: epoch=27 step=27000 epoch=27 metrics={'time_inference': 0.0012062172889709473, 'time_environment_step': 0.0014847371578216553, 'time_sample_batch': 0.000582324743270874, 'time_algorithm_update': 0.1407365508079529, 'temp_loss': 322.0619700012207, 'temp': 201.03660885620118, 'critic_loss': 26045.32690625, 'actor_loss': -357.87038650512693, 'time_step': 0.14412892293930055, 'rollout_return': 14.380281690140846, 'evaluation': 15.8} step=27000\n",
      "2022-10-26 10:22.12 [info     ] Model parameters are saved to d3rlpy_logs/SAC_online_20221026093305/model_28000.pt\n",
      "2022-10-26 10:22.12 [info     ] SAC_online_20221026093305: epoch=28 step=28000 epoch=28 metrics={'time_inference': 0.0012145824432373048, 'time_environment_step': 0.0012143778800964356, 'time_sample_batch': 0.0005557918548583984, 'time_algorithm_update': 0.11873758125305175, 'temp_loss': 255.66573095703126, 'temp': 160.53364280700683, 'critic_loss': 16225.21526513672, 'actor_loss': -279.88935790252685, 'time_step': 0.12182057332992553, 'rollout_return': 14.190140845070422, 'evaluation': 15.4} step=28000\n",
      "2022-10-26 10:24.11 [info     ] Model parameters are saved to d3rlpy_logs/SAC_online_20221026093305/model_29000.pt\n",
      "2022-10-26 10:24.11 [info     ] SAC_online_20221026093305: epoch=29 step=29000 epoch=29 metrics={'time_inference': 0.0010735137462615967, 'time_environment_step': 0.0012739624977111817, 'time_sample_batch': 0.0005658833980560303, 'time_algorithm_update': 0.11481128787994385, 'temp_loss': 207.2346468887329, 'temp': 128.2755880355835, 'critic_loss': 9010.556865966797, 'actor_loss': -229.00593661499025, 'time_step': 0.11788299202919006, 'rollout_return': 14.415492957746478, 'evaluation': 15.2} step=29000\n",
      "2022-10-26 10:26.15 [info     ] Model parameters are saved to d3rlpy_logs/SAC_online_20221026093305/model_30000.pt\n",
      "2022-10-26 10:26.15 [info     ] SAC_online_20221026093305: epoch=30 step=30000 epoch=30 metrics={'time_inference': 0.0012860867977142333, 'time_environment_step': 0.0011470131874084472, 'time_sample_batch': 0.0005319161415100098, 'time_algorithm_update': 0.12009100532531738, 'temp_loss': 162.45936876869203, 'temp': 102.58710015106202, 'critic_loss': 6596.0727763671875, 'actor_loss': -174.40905529546737, 'time_step': 0.12321060538291931, 'rollout_return': 14.54225352112676, 'evaluation': 15.2} step=30000\n",
      "2022-10-26 10:28.32 [info     ] Model parameters are saved to d3rlpy_logs/SAC_online_20221026093305/model_31000.pt\n",
      "2022-10-26 10:28.32 [info     ] SAC_online_20221026093305: epoch=31 step=31000 epoch=31 metrics={'time_inference': 0.0012019457817077637, 'time_environment_step': 0.0013301675319671632, 'time_sample_batch': 0.0006681103706359863, 'time_algorithm_update': 0.13350025629997253, 'temp_loss': 129.99996008992196, 'temp': 82.16352421569825, 'critic_loss': 4338.891828125, 'actor_loss': -139.13699962329864, 'time_step': 0.13679852533340453, 'rollout_return': 14.605633802816902, 'evaluation': 13.6} step=31000\n",
      "2022-10-26 10:30.41 [info     ] Model parameters are saved to d3rlpy_logs/SAC_online_20221026093305/model_32000.pt\n",
      "2022-10-26 10:30.41 [info     ] SAC_online_20221026093305: epoch=32 step=32000 epoch=32 metrics={'time_inference': 0.0010537209510803223, 'time_environment_step': 0.0015628247261047364, 'time_sample_batch': 0.0004936201572418213, 'time_algorithm_update': 0.12481646251678467, 'temp_loss': 104.62550130844116, 'temp': 65.87051535034179, 'critic_loss': 2710.8360893554686, 'actor_loss': -111.80255006408692, 'time_step': 0.12803214502334595, 'rollout_return': 14.598591549295774, 'evaluation': 14.7} step=32000\n",
      "2022-10-26 10:32.55 [info     ] Model parameters are saved to d3rlpy_logs/SAC_online_20221026093305/model_33000.pt\n",
      "2022-10-26 10:32.55 [info     ] SAC_online_20221026093305: epoch=33 step=33000 epoch=33 metrics={'time_inference': 0.0012216362953186035, 'time_environment_step': 0.0012768986225128174, 'time_sample_batch': 0.0005673465728759765, 'time_algorithm_update': 0.1300965015888214, 'temp_loss': 83.86991027069092, 'temp': 52.64225096511841, 'critic_loss': 1638.3203579711915, 'actor_loss': -93.61831069374084, 'time_step': 0.13328424334526062, 'rollout_return': 14.077464788732394, 'evaluation': 14.3} step=33000\n",
      "2022-10-26 10:35.24 [info     ] Model parameters are saved to d3rlpy_logs/SAC_online_20221026093305/model_34000.pt\n",
      "2022-10-26 10:35.24 [info     ] SAC_online_20221026093305: epoch=34 step=34000 epoch=34 metrics={'time_inference': 0.001231609582901001, 'time_environment_step': 0.001367541790008545, 'time_sample_batch': 0.00047845935821533205, 'time_algorithm_update': 0.14432566022872925, 'temp_loss': 66.50852317428588, 'temp': 42.152802993774415, 'critic_loss': 1277.5310734558107, 'actor_loss': -75.7824263420105, 'time_step': 0.14755293655395507, 'rollout_return': 14.401408450704226, 'evaluation': 12.0} step=34000\n",
      "2022-10-26 10:36.42 [info     ] Model parameters are saved to d3rlpy_logs/SAC_online_20221026093305/model_35000.pt\n",
      "2022-10-26 10:36.42 [info     ] SAC_online_20221026093305: epoch=35 step=35000 epoch=35 metrics={'time_inference': 0.0012219319343566896, 'time_environment_step': 0.0013509368896484374, 'time_sample_batch': 0.000564828872680664, 'time_algorithm_update': 0.0740748689174652, 'temp_loss': 52.968174217224124, 'temp': 33.758745834350584, 'critic_loss': 881.6979904785156, 'actor_loss': -61.89313307952881, 'time_step': 0.0773648202419281, 'rollout_return': 14.45774647887324, 'evaluation': 12.2} step=35000\n",
      "2022-10-26 10:37.16 [info     ] Model parameters are saved to d3rlpy_logs/SAC_online_20221026093305/model_36000.pt\n",
      "2022-10-26 10:37.16 [info     ] SAC_online_20221026093305: epoch=36 step=36000 epoch=36 metrics={'time_inference': 0.0011639444828033447, 'time_environment_step': 0.0012642920017242431, 'time_sample_batch': 0.0005400166511535645, 'time_algorithm_update': 0.03071398901939392, 'temp_loss': 42.28557608222962, 'temp': 27.043965808868407, 'critic_loss': 619.6660666046142, 'actor_loss': -51.441354944229126, 'time_step': 0.03379932975769043, 'rollout_return': 14.190140845070422, 'evaluation': 14.8} step=36000\n",
      "2022-10-26 10:37.51 [info     ] Model parameters are saved to d3rlpy_logs/SAC_online_20221026093305/model_37000.pt\n",
      "2022-10-26 10:37.51 [info     ] SAC_online_20221026093305: epoch=37 step=37000 epoch=37 metrics={'time_inference': 0.0010950784683227538, 'time_environment_step': 0.001291692018508911, 'time_sample_batch': 0.0005482633113861084, 'time_algorithm_update': 0.03092884969711304, 'temp_loss': 33.52794781398773, 'temp': 21.66436223602295, 'critic_loss': 450.8953541412354, 'actor_loss': -41.84323637723923, 'time_step': 0.03398876047134399, 'rollout_return': 14.485915492957746, 'evaluation': 14.5} step=37000\n",
      "2022-10-26 10:38.17 [info     ] Model parameters are saved to d3rlpy_logs/SAC_online_20221026093305/model_38000.pt\n",
      "2022-10-26 10:38.17 [info     ] SAC_online_20221026093305: epoch=38 step=38000 epoch=38 metrics={'time_inference': 0.001069481611251831, 'time_environment_step': 0.0012311124801635742, 'time_sample_batch': 0.00047892665863037107, 'time_algorithm_update': 0.023094475507736207, 'temp_loss': 26.6156793384552, 'temp': 17.360628251075745, 'critic_loss': 342.1283275756836, 'actor_loss': -34.17708935832977, 'time_step': 0.02598684883117676, 'rollout_return': 13.753521126760564, 'evaluation': 14.9} step=38000\n",
      "2022-10-26 10:38.47 [info     ] Model parameters are saved to d3rlpy_logs/SAC_online_20221026093305/model_39000.pt\n",
      "2022-10-26 10:38.47 [info     ] SAC_online_20221026093305: epoch=39 step=39000 epoch=39 metrics={'time_inference': 0.0011215314865112304, 'time_environment_step': 0.0012967901229858398, 'time_sample_batch': 0.000524770975112915, 'time_algorithm_update': 0.02624533486366272, 'temp_loss': 21.255353838920595, 'temp': 13.939184997558593, 'critic_loss': 226.95937223815918, 'actor_loss': -27.840855581760408, 'time_step': 0.029333194017410278, 'rollout_return': 14.471830985915492, 'evaluation': 13.9} step=39000\n",
      "2022-10-26 10:39.08 [info     ] Model parameters are saved to d3rlpy_logs/SAC_online_20221026093305/model_40000.pt\n",
      "2022-10-26 10:39.08 [info     ] SAC_online_20221026093305: epoch=40 step=40000 epoch=40 metrics={'time_inference': 0.0010203487873077393, 'time_environment_step': 0.0011944031715393065, 'time_sample_batch': 0.00047148561477661135, 'time_algorithm_update': 0.018007394552230833, 'temp_loss': 16.86823422549665, 'temp': 11.176516202926635, 'critic_loss': 193.19801580047607, 'actor_loss': -22.315180556714534, 'time_step': 0.02080187487602234, 'rollout_return': 14.387323943661972, 'evaluation': 15.6} step=40000\n",
      "2022-10-26 10:39.27 [info     ] Model parameters are saved to d3rlpy_logs/SAC_online_20221026093305/model_41000.pt\n",
      "2022-10-26 10:39.27 [info     ] SAC_online_20221026093305: epoch=41 step=41000 epoch=41 metrics={'time_inference': 0.0010463733673095703, 'time_environment_step': 0.0012641081809997559, 'time_sample_batch': 0.0005273444652557373, 'time_algorithm_update': 0.01566314387321472, 'temp_loss': 13.645635061264038, 'temp': 8.947252010822297, 'critic_loss': 107.36160850906371, 'actor_loss': -19.17836790370941, 'time_step': 0.01861929202079773, 'rollout_return': 14.647887323943662, 'evaluation': 13.4} step=41000\n",
      "2022-10-26 10:39.41 [info     ] Model parameters are saved to d3rlpy_logs/SAC_online_20221026093305/model_42000.pt\n",
      "2022-10-26 10:39.41 [info     ] SAC_online_20221026093305: epoch=42 step=42000 epoch=42 metrics={'time_inference': 0.0009273319244384766, 'time_environment_step': 0.0010866749286651612, 'time_sample_batch': 0.0004535312652587891, 'time_algorithm_update': 0.010293466567993164, 'temp_loss': 10.781937523126603, 'temp': 7.166737367153168, 'critic_loss': 80.72936968994141, 'actor_loss': -15.806958541870117, 'time_step': 0.012868941068649291, 'rollout_return': 14.598591549295774, 'evaluation': 15.0} step=42000\n",
      "2022-10-26 10:39.55 [info     ] Model parameters are saved to d3rlpy_logs/SAC_online_20221026093305/model_43000.pt\n",
      "2022-10-26 10:39.55 [info     ] SAC_online_20221026093305: epoch=43 step=43000 epoch=43 metrics={'time_inference': 0.0009958953857421874, 'time_environment_step': 0.0011414244174957275, 'time_sample_batch': 0.00048157835006713866, 'time_algorithm_update': 0.01119990587234497, 'temp_loss': 8.427282307386399, 'temp': 5.754722539424896, 'critic_loss': 66.67154034423828, 'actor_loss': -12.683440069913864, 'time_step': 0.013928905010223388, 'rollout_return': 14.316901408450704, 'evaluation': 15.7} step=43000\n",
      "2022-10-26 10:40.09 [info     ] Model parameters are saved to d3rlpy_logs/SAC_online_20221026093305/model_44000.pt\n",
      "2022-10-26 10:40.09 [info     ] SAC_online_20221026093305: epoch=44 step=44000 epoch=44 metrics={'time_inference': 0.0009842660427093505, 'time_environment_step': 0.0011270954608917237, 'time_sample_batch': 0.00045681500434875487, 'time_algorithm_update': 0.011184577226638794, 'temp_loss': 6.6732028778940435, 'temp': 4.628325865268708, 'critic_loss': 51.16027263069153, 'actor_loss': -10.489221307575702, 'time_step': 0.013858799934387206, 'rollout_return': 14.887323943661972, 'evaluation': 13.4} step=44000\n",
      "2022-10-26 10:40.24 [info     ] Model parameters are saved to d3rlpy_logs/SAC_online_20221026093305/model_45000.pt\n",
      "2022-10-26 10:40.24 [info     ] SAC_online_20221026093305: epoch=45 step=45000 epoch=45 metrics={'time_inference': 0.000996652603149414, 'time_environment_step': 0.0012034056186676024, 'time_sample_batch': 0.0004937319755554199, 'time_algorithm_update': 0.012068271875381469, 'temp_loss': 5.325089741230011, 'temp': 3.722174827814102, 'critic_loss': 38.04882023239136, 'actor_loss': -8.706968363136053, 'time_step': 0.014873955249786377, 'rollout_return': 14.992957746478874, 'evaluation': 13.5} step=45000\n",
      "2022-10-26 10:40.39 [info     ] Model parameters are saved to d3rlpy_logs/SAC_online_20221026093305/model_46000.pt\n",
      "2022-10-26 10:40.39 [info     ] SAC_online_20221026093305: epoch=46 step=46000 epoch=46 metrics={'time_inference': 0.0009185414314270019, 'time_environment_step': 0.0010744078159332275, 'time_sample_batch': 0.0004342012405395508, 'time_algorithm_update': 0.012086189985275268, 'temp_loss': 4.235578663982451, 'temp': 2.9911425316333773, 'critic_loss': 29.36988221645355, 'actor_loss': -7.531614807665348, 'time_step': 0.014618292331695556, 'rollout_return': 14.838028169014084, 'evaluation': 14.1} step=46000\n",
      "2022-10-26 10:40.54 [info     ] Model parameters are saved to d3rlpy_logs/SAC_online_20221026093305/model_47000.pt\n",
      "2022-10-26 10:40.54 [info     ] SAC_online_20221026093305: epoch=47 step=47000 epoch=47 metrics={'time_inference': 0.0009552221298217774, 'time_environment_step': 0.0010976104736328126, 'time_sample_batch': 0.0004628465175628662, 'time_algorithm_update': 0.01182057785987854, 'temp_loss': 3.3143771548271177, 'temp': 2.4048172919750215, 'critic_loss': 24.456294447898866, 'actor_loss': -6.356979571133852, 'time_step': 0.014442450046539306, 'rollout_return': 14.908450704225352, 'evaluation': 15.2} step=47000\n",
      "2022-10-26 10:41.08 [info     ] Model parameters are saved to d3rlpy_logs/SAC_online_20221026093305/model_48000.pt\n",
      "2022-10-26 10:41.08 [info     ] SAC_online_20221026093305: epoch=48 step=48000 epoch=48 metrics={'time_inference': 0.0008911337852478028, 'time_environment_step': 0.001055163860321045, 'time_sample_batch': 0.0004333205223083496, 'time_algorithm_update': 0.011382805824279784, 'temp_loss': 2.6111885034441946, 'temp': 1.941502389550209, 'critic_loss': 20.881209156036377, 'actor_loss': -5.380788808971643, 'time_step': 0.013862159967422485, 'rollout_return': 14.816901408450704, 'evaluation': 15.7} step=48000\n",
      "2022-10-26 10:41.23 [info     ] Model parameters are saved to d3rlpy_logs/SAC_online_20221026093305/model_49000.pt\n",
      "2022-10-26 10:41.23 [info     ] SAC_online_20221026093305: epoch=49 step=49000 epoch=49 metrics={'time_inference': 0.0008982377052307129, 'time_environment_step': 0.0010568270683288575, 'time_sample_batch': 0.00044676971435546873, 'time_algorithm_update': 0.011865938425064088, 'temp_loss': 2.209202371239662, 'temp': 1.5532650698423385, 'critic_loss': 12.247692232131959, 'actor_loss': -5.558389626264572, 'time_step': 0.014371021270751953, 'rollout_return': 14.591549295774648, 'evaluation': 12.2} step=49000\n",
      "2022-10-26 10:41.38 [info     ] Model parameters are saved to d3rlpy_logs/SAC_online_20221026093305/model_50000.pt\n",
      "2022-10-26 10:41.38 [info     ] SAC_online_20221026093305: epoch=50 step=50000 epoch=50 metrics={'time_inference': 0.0009340741634368897, 'time_environment_step': 0.0010899279117584228, 'time_sample_batch': 0.0004270248413085937, 'time_algorithm_update': 0.012003206491470337, 'temp_loss': 1.7549642704129218, 'temp': 1.2391824499368667, 'critic_loss': 10.490343590259553, 'actor_loss': -5.167168610811234, 'time_step': 0.014568560123443604, 'rollout_return': 15.19718309859155, 'evaluation': 14.5} step=50000\n",
      "2022-10-26 10:41.52 [info     ] Model parameters are saved to d3rlpy_logs/SAC_online_20221026093305/model_51000.pt\n",
      "2022-10-26 10:41.52 [info     ] SAC_online_20221026093305: epoch=51 step=51000 epoch=51 metrics={'time_inference': 0.0008850827217102051, 'time_environment_step': 0.0010650017261505126, 'time_sample_batch': 0.00047729969024658204, 'time_algorithm_update': 0.011544974565505982, 'temp_loss': 1.3980458545684815, 'temp': 0.9914491580724716, 'critic_loss': 9.474691489219666, 'actor_loss': -4.790018905311823, 'time_step': 0.014079285144805909, 'rollout_return': 14.767605633802816, 'evaluation': 13.9} step=51000\n",
      "2022-10-26 10:42.07 [info     ] Model parameters are saved to d3rlpy_logs/SAC_online_20221026093305/model_52000.pt\n",
      "2022-10-26 10:42.07 [info     ] SAC_online_20221026093305: epoch=52 step=52000 epoch=52 metrics={'time_inference': 0.0009096550941467285, 'time_environment_step': 0.0010585336685180664, 'time_sample_batch': 0.0004621281623840332, 'time_algorithm_update': 0.011904426574707031, 'temp_loss': 1.108286933839321, 'temp': 0.7943264777064324, 'critic_loss': 8.779609072685242, 'actor_loss': -4.458042549848557, 'time_step': 0.014433666944503784, 'rollout_return': 14.626760563380282, 'evaluation': 14.2} step=52000\n",
      "2022-10-26 10:42.23 [info     ] Model parameters are saved to d3rlpy_logs/SAC_online_20221026093305/model_53000.pt\n",
      "2022-10-26 10:42.23 [info     ] SAC_online_20221026093305: epoch=53 step=53000 epoch=53 metrics={'time_inference': 0.000949260950088501, 'time_environment_step': 0.0010697221755981445, 'time_sample_batch': 0.00044122719764709474, 'time_algorithm_update': 0.013028917789459228, 'temp_loss': 0.8728842874169349, 'temp': 0.6379713654518128, 'critic_loss': 8.422218806266784, 'actor_loss': -4.269146874427795, 'time_step': 0.015595109701156617, 'rollout_return': 15.295774647887324, 'evaluation': 16.6} step=53000\n",
      "2022-10-26 10:42.38 [info     ] Model parameters are saved to d3rlpy_logs/SAC_online_20221026093305/model_54000.pt\n",
      "2022-10-26 10:42.38 [info     ] SAC_online_20221026093305: epoch=54 step=54000 epoch=54 metrics={'time_inference': 0.0008715834617614746, 'time_environment_step': 0.0010020008087158203, 'time_sample_batch': 0.0004256291389465332, 'time_algorithm_update': 0.011972363710403442, 'temp_loss': 0.7048145895600318, 'temp': 0.5109493936896324, 'critic_loss': 7.889392462730408, 'actor_loss': -4.210762160778046, 'time_step': 0.014365342378616332, 'rollout_return': 14.661971830985916, 'evaluation': 15.5} step=54000\n",
      "2022-10-26 10:42.57 [info     ] Model parameters are saved to d3rlpy_logs/SAC_online_20221026093305/model_55000.pt\n",
      "2022-10-26 10:42.57 [info     ] SAC_online_20221026093305: epoch=55 step=55000 epoch=55 metrics={'time_inference': 0.0009950518608093262, 'time_environment_step': 0.0011338369846343995, 'time_sample_batch': 0.00044944000244140624, 'time_algorithm_update': 0.016233816146850585, 'temp_loss': 0.54171286650002, 'temp': 0.4108518210351467, 'critic_loss': 9.536486977815628, 'actor_loss': -4.02328078840673, 'time_step': 0.018924338340759277, 'rollout_return': 15.112676056338028, 'evaluation': 13.7} step=55000\n",
      "2022-10-26 10:43.13 [info     ] Model parameters are saved to d3rlpy_logs/SAC_online_20221026093305/model_56000.pt\n",
      "2022-10-26 10:43.13 [info     ] SAC_online_20221026093305: epoch=56 step=56000 epoch=56 metrics={'time_inference': 0.0010126407146453858, 'time_environment_step': 0.0011255600452423095, 'time_sample_batch': 0.0004699406623840332, 'time_algorithm_update': 0.013620433568954468, 'temp_loss': 0.423355447717011, 'temp': 0.33156589564681055, 'critic_loss': 10.117796706199647, 'actor_loss': -3.9135390771478415, 'time_step': 0.016335275173187256, 'rollout_return': 15.577464788732394, 'evaluation': 15.2} step=56000\n",
      "2022-10-26 10:43.27 [info     ] Model parameters are saved to d3rlpy_logs/SAC_online_20221026093305/model_57000.pt\n",
      "2022-10-26 10:43.27 [info     ] SAC_online_20221026093305: epoch=57 step=57000 epoch=57 metrics={'time_inference': 0.0009342279434204102, 'time_environment_step': 0.0011123464107513428, 'time_sample_batch': 0.0004573075771331787, 'time_algorithm_update': 0.01104440140724182, 'temp_loss': 0.338680848762393, 'temp': 0.2674278268665075, 'critic_loss': 6.79894787311554, 'actor_loss': -4.010221084117889, 'time_step': 0.013661231756210326, 'rollout_return': 15.21830985915493, 'evaluation': 15.0} step=57000\n",
      "2022-10-26 10:43.40 [info     ] Model parameters are saved to d3rlpy_logs/SAC_online_20221026093305/model_58000.pt\n",
      "2022-10-26 10:43.40 [info     ] SAC_online_20221026093305: epoch=58 step=58000 epoch=58 metrics={'time_inference': 0.0008414878845214844, 'time_environment_step': 0.0009505312442779541, 'time_sample_batch': 0.00041165971755981445, 'time_algorithm_update': 0.009701601505279541, 'temp_loss': 0.26303896141797306, 'temp': 0.2155468192398548, 'critic_loss': 6.865026728153229, 'actor_loss': -3.97179064938426, 'time_step': 0.011996142387390137, 'rollout_return': 15.394366197183098, 'evaluation': 14.1} step=58000\n",
      "2022-10-26 10:43.54 [info     ] Model parameters are saved to d3rlpy_logs/SAC_online_20221026093305/model_59000.pt\n",
      "2022-10-26 10:43.54 [info     ] SAC_online_20221026093305: epoch=59 step=59000 epoch=59 metrics={'time_inference': 0.0008997852802276611, 'time_environment_step': 0.0010070900917053224, 'time_sample_batch': 0.0004261445999145508, 'time_algorithm_update': 0.0112558274269104, 'temp_loss': 0.20599796605855228, 'temp': 0.17431044965982437, 'critic_loss': 16.58639019060135, 'actor_loss': -3.6542917299196125, 'time_step': 0.013703711032867431, 'rollout_return': 15.845070422535212, 'evaluation': 14.1} step=59000\n",
      "2022-10-26 10:44.07 [info     ] Model parameters are saved to d3rlpy_logs/SAC_online_20221026093305/model_60000.pt\n",
      "2022-10-26 10:44.07 [info     ] SAC_online_20221026093305: epoch=60 step=60000 epoch=60 metrics={'time_inference': 0.0008830058574676513, 'time_environment_step': 0.0010384697914123536, 'time_sample_batch': 0.0004389193058013916, 'time_algorithm_update': 0.010644765138626099, 'temp_loss': 0.15125683215563185, 'temp': 0.14146778813004493, 'critic_loss': 5.960387796878814, 'actor_loss': -4.030472035437822, 'time_step': 0.013105795860290528, 'rollout_return': 15.669014084507042, 'evaluation': 17.8} step=60000\n",
      "2022-10-26 10:44.20 [info     ] Model parameters are saved to d3rlpy_logs/SAC_online_20221026093305/model_61000.pt\n",
      "2022-10-26 10:44.20 [info     ] SAC_online_20221026093305: epoch=61 step=61000 epoch=61 metrics={'time_inference': 0.0008706459999084472, 'time_environment_step': 0.0010076627731323243, 'time_sample_batch': 0.00042768430709838866, 'time_algorithm_update': 0.010004632234573364, 'temp_loss': 0.10906847632443532, 'temp': 0.11660489624738693, 'critic_loss': 6.0721900088787075, 'actor_loss': -4.046273452997208, 'time_step': 0.012409622430801391, 'rollout_return': 14.985915492957746, 'evaluation': 16.5} step=61000\n",
      "2022-10-26 10:44.32 [info     ] Model parameters are saved to d3rlpy_logs/SAC_online_20221026093305/model_62000.pt\n",
      "2022-10-26 10:44.32 [info     ] SAC_online_20221026093305: epoch=62 step=62000 epoch=62 metrics={'time_inference': 0.0008308756351470948, 'time_environment_step': 0.001015469789505005, 'time_sample_batch': 0.0004261641502380371, 'time_algorithm_update': 0.010091339349746703, 'temp_loss': 0.08404247887374368, 'temp': 0.09657073488086462, 'critic_loss': 6.544081749916077, 'actor_loss': -3.966591836132109, 'time_step': 0.012462980270385742, 'rollout_return': 15.028169014084508, 'evaluation': 12.5} step=62000\n",
      "2022-10-26 10:44.45 [info     ] Model parameters are saved to d3rlpy_logs/SAC_online_20221026093305/model_63000.pt\n",
      "2022-10-26 10:44.45 [info     ] SAC_online_20221026093305: epoch=63 step=63000 epoch=63 metrics={'time_inference': 0.0008577020168304444, 'time_environment_step': 0.0009749090671539307, 'time_sample_batch': 0.00040750551223754883, 'time_algorithm_update': 0.010021201848983764, 'temp_loss': 0.06493628596968483, 'temp': 0.07992875026166439, 'critic_loss': 7.45613113617897, 'actor_loss': -4.011667700946331, 'time_step': 0.012360996007919312, 'rollout_return': 15.598591549295774, 'evaluation': 14.8} step=63000\n",
      "2022-10-26 10:44.59 [info     ] Model parameters are saved to d3rlpy_logs/SAC_online_20221026093305/model_64000.pt\n",
      "2022-10-26 10:44.59 [info     ] SAC_online_20221026093305: epoch=64 step=64000 epoch=64 metrics={'time_inference': 0.0009165053367614746, 'time_environment_step': 0.0010329253673553467, 'time_sample_batch': 0.0004254779815673828, 'time_algorithm_update': 0.011073817253112793, 'temp_loss': 0.0456573166573653, 'temp': 0.06645959467440844, 'critic_loss': 6.168515905857086, 'actor_loss': -4.183318538427353, 'time_step': 0.013558284997940064, 'rollout_return': 15.450704225352112, 'evaluation': 16.5} step=64000\n",
      "2022-10-26 10:45.14 [info     ] Model parameters are saved to d3rlpy_logs/SAC_online_20221026093305/model_65000.pt\n",
      "2022-10-26 10:45.14 [info     ] SAC_online_20221026093305: epoch=65 step=65000 epoch=65 metrics={'time_inference': 0.0009778482913970947, 'time_environment_step': 0.0011182889938354493, 'time_sample_batch': 0.00044820117950439454, 'time_algorithm_update': 0.012476918220520019, 'temp_loss': 0.029367133727631882, 'temp': 0.05681902956217527, 'critic_loss': 5.479926712036133, 'actor_loss': -4.281759163379669, 'time_step': 0.015131552457809448, 'rollout_return': 15.669014084507042, 'evaluation': 14.9} step=65000\n",
      "2022-10-26 10:45.29 [info     ] Model parameters are saved to d3rlpy_logs/SAC_online_20221026093305/model_66000.pt\n",
      "2022-10-26 10:45.29 [info     ] SAC_online_20221026093305: epoch=66 step=66000 epoch=66 metrics={'time_inference': 0.0009844088554382324, 'time_environment_step': 0.0011404812335968017, 'time_sample_batch': 0.000454941987991333, 'time_algorithm_update': 0.01197824263572693, 'temp_loss': 0.02132782668794971, 'temp': 0.04930667256563902, 'critic_loss': 6.138508390903473, 'actor_loss': -4.228424142837524, 'time_step': 0.0146631338596344, 'rollout_return': 14.95774647887324, 'evaluation': 14.9} step=66000\n",
      "2022-10-26 10:45.46 [info     ] Model parameters are saved to d3rlpy_logs/SAC_online_20221026093305/model_67000.pt\n",
      "2022-10-26 10:45.46 [info     ] SAC_online_20221026093305: epoch=67 step=67000 epoch=67 metrics={'time_inference': 0.0009658417701721192, 'time_environment_step': 0.0010833182334899901, 'time_sample_batch': 0.00047012662887573243, 'time_algorithm_update': 0.014052542924880982, 'temp_loss': 0.015684274870407536, 'temp': 0.043098429553210735, 'critic_loss': 5.908360996246338, 'actor_loss': -4.309515810251236, 'time_step': 0.016674200773239136, 'rollout_return': 15.93661971830986, 'evaluation': 17.4} step=67000\n",
      "2022-10-26 10:46.04 [info     ] Model parameters are saved to d3rlpy_logs/SAC_online_20221026093305/model_68000.pt\n",
      "2022-10-26 10:46.04 [info     ] SAC_online_20221026093305: epoch=68 step=68000 epoch=68 metrics={'time_inference': 0.0008944201469421386, 'time_environment_step': 0.0010587034225463868, 'time_sample_batch': 0.0004496293067932129, 'time_algorithm_update': 0.015136514425277709, 'temp_loss': 0.007005750244425144, 'temp': 0.03857065962255001, 'critic_loss': 6.152915444135666, 'actor_loss': -4.350853225708008, 'time_step': 0.01763988161087036, 'rollout_return': 15.76056338028169, 'evaluation': 16.4} step=68000\n",
      "2022-10-26 10:46.21 [info     ] Model parameters are saved to d3rlpy_logs/SAC_online_20221026093305/model_69000.pt\n",
      "2022-10-26 10:46.21 [info     ] SAC_online_20221026093305: epoch=69 step=69000 epoch=69 metrics={'time_inference': 0.0010080652236938476, 'time_environment_step': 0.001140643835067749, 'time_sample_batch': 0.00046358132362365724, 'time_algorithm_update': 0.013899169921875, 'temp_loss': 0.007631142001744593, 'temp': 0.035267206497490405, 'critic_loss': 5.854429718017578, 'actor_loss': -4.46488483786583, 'time_step': 0.016623267650604248, 'rollout_return': 15.591549295774648, 'evaluation': 13.6} step=69000\n",
      "2022-10-26 10:46.37 [info     ] Model parameters are saved to d3rlpy_logs/SAC_online_20221026093305/model_70000.pt\n",
      "2022-10-26 10:46.37 [info     ] SAC_online_20221026093305: epoch=70 step=70000 epoch=70 metrics={'time_inference': 0.0009352560043334961, 'time_environment_step': 0.001146433115005493, 'time_sample_batch': 0.00045990514755249023, 'time_algorithm_update': 0.012282165288925171, 'temp_loss': 0.0016060792722273618, 'temp': 0.033470283839851615, 'critic_loss': 5.968882105112076, 'actor_loss': -4.463865012407303, 'time_step': 0.014930486679077148, 'rollout_return': 15.47887323943662, 'evaluation': 15.2} step=70000\n",
      "2022-10-26 10:46.54 [info     ] Model parameters are saved to d3rlpy_logs/SAC_online_20221026093305/model_71000.pt\n",
      "2022-10-26 10:46.54 [info     ] SAC_online_20221026093305: epoch=71 step=71000 epoch=71 metrics={'time_inference': 0.0010461435317993164, 'time_environment_step': 0.0012316737174987793, 'time_sample_batch': 0.000520519495010376, 'time_algorithm_update': 0.014359787940979004, 'temp_loss': 0.0038296385464491323, 'temp': 0.0326303814984858, 'critic_loss': 6.426470239639282, 'actor_loss': -4.419758322358131, 'time_step': 0.017278502702713014, 'rollout_return': 15.415492957746478, 'evaluation': 16.4} step=71000\n",
      "2022-10-26 10:47.13 [info     ] Model parameters are saved to d3rlpy_logs/SAC_online_20221026093305/model_72000.pt\n",
      "2022-10-26 10:47.13 [info     ] SAC_online_20221026093305: epoch=72 step=72000 epoch=72 metrics={'time_inference': 0.0010230576992034913, 'time_environment_step': 0.0012358758449554444, 'time_sample_batch': 0.0005241634845733643, 'time_algorithm_update': 0.015081883907318116, 'temp_loss': 0.003439380170078948, 'temp': 0.031008079044520857, 'critic_loss': 5.872235167264939, 'actor_loss': -4.527392630577087, 'time_step': 0.01798087763786316, 'rollout_return': 15.830985915492958, 'evaluation': 18.1} step=72000\n",
      "2022-10-26 10:47.32 [info     ] Model parameters are saved to d3rlpy_logs/SAC_online_20221026093305/model_73000.pt\n",
      "2022-10-26 10:47.32 [info     ] SAC_online_20221026093305: epoch=73 step=73000 epoch=73 metrics={'time_inference': 0.0010455777645111083, 'time_environment_step': 0.0012195215225219726, 'time_sample_batch': 0.0005154862403869629, 'time_algorithm_update': 0.015912755489349364, 'temp_loss': 0.0013028415666340152, 'temp': 0.02897656274586916, 'critic_loss': 6.001399517059326, 'actor_loss': -4.565784343481064, 'time_step': 0.018805259943008423, 'rollout_return': 15.605633802816902, 'evaluation': 16.7} step=73000\n",
      "2022-10-26 10:47.49 [info     ] Model parameters are saved to d3rlpy_logs/SAC_online_20221026093305/model_74000.pt\n",
      "2022-10-26 10:47.49 [info     ] SAC_online_20221026093305: epoch=74 step=74000 epoch=74 metrics={'time_inference': 0.000986138343811035, 'time_environment_step': 0.0011144506931304932, 'time_sample_batch': 0.0004909842014312744, 'time_algorithm_update': 0.014340158224105835, 'temp_loss': -0.0017685075924382546, 'temp': 0.029704937437549234, 'critic_loss': 6.163779554128647, 'actor_loss': -4.527683013796806, 'time_step': 0.017048365116119384, 'rollout_return': 16.0, 'evaluation': 16.2} step=74000\n",
      "2022-10-26 10:48.03 [info     ] Model parameters are saved to d3rlpy_logs/SAC_online_20221026093305/model_75000.pt\n",
      "2022-10-26 10:48.03 [info     ] SAC_online_20221026093305: epoch=75 step=75000 epoch=75 metrics={'time_inference': 0.0009108343124389648, 'time_environment_step': 0.0010165653228759765, 'time_sample_batch': 0.00043817877769470215, 'time_algorithm_update': 0.011034158945083618, 'temp_loss': -0.0013527594033803324, 'temp': 0.030795605462044476, 'critic_loss': 5.868177945375442, 'actor_loss': -4.573457391381264, 'time_step': 0.013497753143310547, 'rollout_return': 15.795774647887324, 'evaluation': 17.1} step=75000\n",
      "2022-10-26 10:48.20 [info     ] Model parameters are saved to d3rlpy_logs/SAC_online_20221026093305/model_76000.pt\n",
      "2022-10-26 10:48.21 [info     ] SAC_online_20221026093305: epoch=76 step=76000 epoch=76 metrics={'time_inference': 0.0009716627597808838, 'time_environment_step': 0.0010756673812866212, 'time_sample_batch': 0.0004733676910400391, 'time_algorithm_update': 0.014250466585159301, 'temp_loss': -0.005914082619419787, 'temp': 0.03176023400947452, 'critic_loss': 6.263211979627609, 'actor_loss': -4.558666927814484, 'time_step': 0.0168747136592865, 'rollout_return': 15.767605633802816, 'evaluation': 16.1} step=76000\n",
      "2022-10-26 10:48.34 [info     ] Model parameters are saved to d3rlpy_logs/SAC_online_20221026093305/model_77000.pt\n",
      "2022-10-26 10:48.35 [info     ] SAC_online_20221026093305: epoch=77 step=77000 epoch=77 metrics={'time_inference': 0.0009059605598449707, 'time_environment_step': 0.0010394186973571777, 'time_sample_batch': 0.00043872761726379393, 'time_algorithm_update': 0.011233338832855225, 'temp_loss': 0.0011431112661375665, 'temp': 0.03360078941658139, 'critic_loss': 6.029862862825394, 'actor_loss': -4.581785647034645, 'time_step': 0.013722944736480712, 'rollout_return': 16.422535211267604, 'evaluation': 15.4} step=77000\n",
      "2022-10-26 10:48.48 [info     ] Model parameters are saved to d3rlpy_logs/SAC_online_20221026093305/model_78000.pt\n",
      "2022-10-26 10:48.48 [info     ] SAC_online_20221026093305: epoch=78 step=78000 epoch=78 metrics={'time_inference': 0.0008529274463653564, 'time_environment_step': 0.0010220293998718262, 'time_sample_batch': 0.0004422032833099365, 'time_algorithm_update': 0.010383684635162354, 'temp_loss': 0.00015000887210771908, 'temp': 0.03317896405234933, 'critic_loss': 5.692680587291718, 'actor_loss': -4.634723800182343, 'time_step': 0.012802399635314942, 'rollout_return': 15.633802816901408, 'evaluation': 15.0} step=78000\n",
      "2022-10-26 10:49.02 [info     ] Model parameters are saved to d3rlpy_logs/SAC_online_20221026093305/model_79000.pt\n",
      "2022-10-26 10:49.02 [info     ] SAC_online_20221026093305: epoch=79 step=79000 epoch=79 metrics={'time_inference': 0.0009247715473175049, 'time_environment_step': 0.0010892157554626466, 'time_sample_batch': 0.00044891929626464844, 'time_algorithm_update': 0.011394112348556518, 'temp_loss': -0.0011478589806647507, 'temp': 0.032652421217411756, 'critic_loss': 6.162963596343994, 'actor_loss': -4.577785547494888, 'time_step': 0.013968767166137696, 'rollout_return': 15.711267605633802, 'evaluation': 15.7} step=79000\n",
      "2022-10-26 10:49.16 [info     ] Model parameters are saved to d3rlpy_logs/SAC_online_20221026093305/model_80000.pt\n",
      "2022-10-26 10:49.16 [info     ] SAC_online_20221026093305: epoch=80 step=80000 epoch=80 metrics={'time_inference': 0.0008808557987213135, 'time_environment_step': 0.0010187082290649414, 'time_sample_batch': 0.00042146873474121094, 'time_algorithm_update': 0.01095468258857727, 'temp_loss': 0.0010298770906229037, 'temp': 0.033180999010801314, 'critic_loss': 6.015030081272125, 'actor_loss': -4.610219280600548, 'time_step': 0.013376456499099732, 'rollout_return': 16.154929577464788, 'evaluation': 15.8} step=80000\n",
      "2022-10-26 10:49.31 [info     ] Model parameters are saved to d3rlpy_logs/SAC_online_20221026093305/model_81000.pt\n",
      "2022-10-26 10:49.32 [info     ] SAC_online_20221026093305: epoch=81 step=81000 epoch=81 metrics={'time_inference': 0.0010350685119628906, 'time_environment_step': 0.0011134953498840331, 'time_sample_batch': 0.00044445133209228515, 'time_algorithm_update': 0.012797374963760376, 'temp_loss': 0.00287210898954072, 'temp': 0.03217135850712657, 'critic_loss': 5.791313428401947, 'actor_loss': -4.655171874284744, 'time_step': 0.015494353294372558, 'rollout_return': 15.647887323943662, 'evaluation': 15.8} step=81000\n",
      "2022-10-26 10:49.45 [info     ] Model parameters are saved to d3rlpy_logs/SAC_online_20221026093305/model_82000.pt\n",
      "2022-10-26 10:49.45 [info     ] SAC_online_20221026093305: epoch=82 step=82000 epoch=82 metrics={'time_inference': 0.0008974947929382324, 'time_environment_step': 0.0010175304412841798, 'time_sample_batch': 0.0004439456462860107, 'time_algorithm_update': 0.010929077863693237, 'temp_loss': 0.0031320843791472724, 'temp': 0.030566083198413252, 'critic_loss': 5.640062523841858, 'actor_loss': -4.715227256417275, 'time_step': 0.01338433837890625, 'rollout_return': 15.380281690140846, 'evaluation': 16.3} step=82000\n",
      "2022-10-26 10:49.59 [info     ] Model parameters are saved to d3rlpy_logs/SAC_online_20221026093305/model_83000.pt\n",
      "2022-10-26 10:49.59 [info     ] SAC_online_20221026093305: epoch=83 step=83000 epoch=83 metrics={'time_inference': 0.0008885142803192139, 'time_environment_step': 0.001047595977783203, 'time_sample_batch': 0.0004374840259552002, 'time_algorithm_update': 0.0109554922580719, 'temp_loss': 0.003556148981791921, 'temp': 0.028438822949305175, 'critic_loss': 5.813377156496048, 'actor_loss': -4.670144018292427, 'time_step': 0.01342696213722229, 'rollout_return': 15.908450704225352, 'evaluation': 15.5} step=83000\n",
      "2022-10-26 10:50.13 [info     ] Model parameters are saved to d3rlpy_logs/SAC_online_20221026093305/model_84000.pt\n",
      "2022-10-26 10:50.13 [info     ] SAC_online_20221026093305: epoch=84 step=84000 epoch=84 metrics={'time_inference': 0.0009267137050628662, 'time_environment_step': 0.0010403857231140138, 'time_sample_batch': 0.00044590520858764647, 'time_algorithm_update': 0.011280532598495483, 'temp_loss': 0.004416961099137552, 'temp': 0.02661066107451916, 'critic_loss': 6.135120433092117, 'actor_loss': -4.675394897580147, 'time_step': 0.013793966770172118, 'rollout_return': 16.309859154929576, 'evaluation': 17.3} step=84000\n",
      "2022-10-26 10:50.29 [info     ] Model parameters are saved to d3rlpy_logs/SAC_online_20221026093305/model_85000.pt\n",
      "2022-10-26 10:50.29 [info     ] SAC_online_20221026093305: epoch=85 step=85000 epoch=85 metrics={'time_inference': 0.0009413044452667237, 'time_environment_step': 0.0010491652488708496, 'time_sample_batch': 0.0004620292186737061, 'time_algorithm_update': 0.01288238787651062, 'temp_loss': 0.005365958444337593, 'temp': 0.023963780000805856, 'critic_loss': 5.833490655660629, 'actor_loss': -4.826738348007202, 'time_step': 0.015447956323623658, 'rollout_return': 16.176056338028168, 'evaluation': 15.6} step=85000\n",
      "2022-10-26 10:50.44 [info     ] Model parameters are saved to d3rlpy_logs/SAC_online_20221026093305/model_86000.pt\n",
      "2022-10-26 10:50.44 [info     ] SAC_online_20221026093305: epoch=86 step=86000 epoch=86 metrics={'time_inference': 0.000947190523147583, 'time_environment_step': 0.0010622155666351319, 'time_sample_batch': 0.00044913458824157715, 'time_algorithm_update': 0.011679603815078736, 'temp_loss': 0.0018318341271951794, 'temp': 0.022017912788316607, 'critic_loss': 6.027299917221069, 'actor_loss': -4.795957958936691, 'time_step': 0.014238762140274048, 'rollout_return': 15.964788732394366, 'evaluation': 15.9} step=86000\n",
      "2022-10-26 10:50.58 [info     ] Model parameters are saved to d3rlpy_logs/SAC_online_20221026093305/model_87000.pt\n",
      "2022-10-26 10:50.58 [info     ] SAC_online_20221026093305: epoch=87 step=87000 epoch=87 metrics={'time_inference': 0.0009591939449310302, 'time_environment_step': 0.0010893313884735108, 'time_sample_batch': 0.00045424914360046387, 'time_algorithm_update': 0.01157832407951355, 'temp_loss': -0.0026346467624098297, 'temp': 0.02178828314319253, 'critic_loss': 5.710308020830154, 'actor_loss': -4.859122421264648, 'time_step': 0.014185464143753051, 'rollout_return': 15.97887323943662, 'evaluation': 16.0} step=87000\n",
      "2022-10-26 10:51.14 [info     ] Model parameters are saved to d3rlpy_logs/SAC_online_20221026093305/model_88000.pt\n",
      "2022-10-26 10:51.14 [info     ] SAC_online_20221026093305: epoch=88 step=88000 epoch=88 metrics={'time_inference': 0.0010018677711486816, 'time_environment_step': 0.0011701607704162598, 'time_sample_batch': 0.00048221707344055177, 'time_algorithm_update': 0.012662200927734376, 'temp_loss': 0.000872229651969974, 'temp': 0.022425721168518067, 'critic_loss': 6.246976953029632, 'actor_loss': -4.793389721393585, 'time_step': 0.015428465843200683, 'rollout_return': 15.21830985915493, 'evaluation': 16.2} step=88000\n",
      "2022-10-26 10:51.32 [info     ] Model parameters are saved to d3rlpy_logs/SAC_online_20221026093305/model_89000.pt\n",
      "2022-10-26 10:51.32 [info     ] SAC_online_20221026093305: epoch=89 step=89000 epoch=89 metrics={'time_inference': 0.0010074353218078613, 'time_environment_step': 0.0011516077518463135, 'time_sample_batch': 0.0005099122524261474, 'time_algorithm_update': 0.01472844123840332, 'temp_loss': 0.000411864685927867, 'temp': 0.022464240539819002, 'critic_loss': 6.14356344127655, 'actor_loss': -4.790327380150557, 'time_step': 0.017507721424102785, 'rollout_return': 15.47887323943662, 'evaluation': 17.2} step=89000\n",
      "2022-10-26 10:51.45 [info     ] Model parameters are saved to d3rlpy_logs/SAC_online_20221026093305/model_90000.pt\n",
      "2022-10-26 10:51.45 [info     ] SAC_online_20221026093305: epoch=90 step=90000 epoch=90 metrics={'time_inference': 0.0008518068790435791, 'time_environment_step': 0.00099409818649292, 'time_sample_batch': 0.00043785881996154783, 'time_algorithm_update': 0.01050827670097351, 'temp_loss': 0.0010339325283639483, 'temp': 0.021668335001915694, 'critic_loss': 7.037747428178787, 'actor_loss': -4.6836939437687395, 'time_step': 0.012888150930404662, 'rollout_return': 15.366197183098592, 'evaluation': 14.1} step=90000\n",
      "2022-10-26 10:51.59 [info     ] Model parameters are saved to d3rlpy_logs/SAC_online_20221026093305/model_91000.pt\n",
      "2022-10-26 10:51.59 [info     ] SAC_online_20221026093305: epoch=91 step=91000 epoch=91 metrics={'time_inference': 0.0008692848682403565, 'time_environment_step': 0.001040184736251831, 'time_sample_batch': 0.0004364809989929199, 'time_algorithm_update': 0.01093796730041504, 'temp_loss': 0.00026474665648129305, 'temp': 0.021655165560543536, 'critic_loss': 5.846632107496261, 'actor_loss': -4.782590022802353, 'time_step': 0.013380412578582763, 'rollout_return': 15.866197183098592, 'evaluation': 17.3} step=91000\n",
      "2022-10-26 10:52.13 [info     ] Model parameters are saved to d3rlpy_logs/SAC_online_20221026093305/model_92000.pt\n",
      "2022-10-26 10:52.13 [info     ] SAC_online_20221026093305: epoch=92 step=92000 epoch=92 metrics={'time_inference': 0.0009464776515960693, 'time_environment_step': 0.0011015808582305908, 'time_sample_batch': 0.00045380663871765137, 'time_algorithm_update': 0.011690255880355835, 'temp_loss': -0.0006845720479614102, 'temp': 0.02153312034532428, 'critic_loss': 6.4322647380828855, 'actor_loss': -4.7525126180648805, 'time_step': 0.014298832893371582, 'rollout_return': 15.816901408450704, 'evaluation': 16.0} step=92000\n",
      "2022-10-26 10:52.27 [info     ] Model parameters are saved to d3rlpy_logs/SAC_online_20221026093305/model_93000.pt\n",
      "2022-10-26 10:52.27 [info     ] SAC_online_20221026093305: epoch=93 step=93000 epoch=93 metrics={'time_inference': 0.0008450274467468262, 'time_environment_step': 0.0010253520011901855, 'time_sample_batch': 0.00043285608291625976, 'time_algorithm_update': 0.010578329086303712, 'temp_loss': -0.0016569275996444048, 'temp': 0.02224038350023329, 'critic_loss': 6.140329061985016, 'actor_loss': -4.786448470830917, 'time_step': 0.012979770421981812, 'rollout_return': 16.197183098591548, 'evaluation': 15.5} step=93000\n",
      "2022-10-26 10:52.41 [info     ] Model parameters are saved to d3rlpy_logs/SAC_online_20221026093305/model_94000.pt\n",
      "2022-10-26 10:52.41 [info     ] SAC_online_20221026093305: epoch=94 step=94000 epoch=94 metrics={'time_inference': 0.0009036369323730469, 'time_environment_step': 0.001061652421951294, 'time_sample_batch': 0.00043471574783325194, 'time_algorithm_update': 0.011046274185180664, 'temp_loss': -0.005594384496944258, 'temp': 0.02399684964120388, 'critic_loss': 11.044403522253036, 'actor_loss': -4.667687638133764, 'time_step': 0.013544245719909668, 'rollout_return': 16.091549295774648, 'evaluation': 14.6} step=94000\n",
      "2022-10-26 10:52.55 [info     ] Model parameters are saved to d3rlpy_logs/SAC_online_20221026093305/model_95000.pt\n",
      "2022-10-26 10:52.55 [info     ] SAC_online_20221026093305: epoch=95 step=95000 epoch=95 metrics={'time_inference': 0.0009274301528930664, 'time_environment_step': 0.001092427968978882, 'time_sample_batch': 0.0004646704196929932, 'time_algorithm_update': 0.011469768762588501, 'temp_loss': -0.00533749698655447, 'temp': 0.026466387705877423, 'critic_loss': 5.828855097293854, 'actor_loss': -4.83232194685936, 'time_step': 0.014055464029312134, 'rollout_return': 16.161971830985916, 'evaluation': 15.8} step=95000\n",
      "2022-10-26 10:53.09 [info     ] Model parameters are saved to d3rlpy_logs/SAC_online_20221026093305/model_96000.pt\n",
      "2022-10-26 10:53.09 [info     ] SAC_online_20221026093305: epoch=96 step=96000 epoch=96 metrics={'time_inference': 0.0009718804359436035, 'time_environment_step': 0.00108266282081604, 'time_sample_batch': 0.00047706055641174314, 'time_algorithm_update': 0.011317014455795289, 'temp_loss': -0.0022606804557872237, 'temp': 0.028719307160004974, 'critic_loss': 6.257396612644196, 'actor_loss': -4.768705993890762, 'time_step': 0.013950835466384887, 'rollout_return': 15.894366197183098, 'evaluation': 15.2} step=96000\n",
      "2022-10-26 10:53.31 [info     ] Model parameters are saved to d3rlpy_logs/SAC_online_20221026093305/model_97000.pt\n",
      "2022-10-26 10:53.31 [info     ] SAC_online_20221026093305: epoch=97 step=97000 epoch=97 metrics={'time_inference': 0.0010258910655975343, 'time_environment_step': 0.001176245927810669, 'time_sample_batch': 0.0005095832347869874, 'time_algorithm_update': 0.01841945147514343, 'temp_loss': -0.001076708608175977, 'temp': 0.029728300880640744, 'critic_loss': 6.019362401008606, 'actor_loss': -4.764479878902435, 'time_step': 0.02124465346336365, 'rollout_return': 15.352112676056338, 'evaluation': 15.3} step=97000\n",
      "2022-10-26 10:53.55 [info     ] Model parameters are saved to d3rlpy_logs/SAC_online_20221026093305/model_98000.pt\n",
      "2022-10-26 10:53.55 [info     ] SAC_online_20221026093305: epoch=98 step=98000 epoch=98 metrics={'time_inference': 0.0011470539569854736, 'time_environment_step': 0.0013131988048553467, 'time_sample_batch': 0.0005651445388793945, 'time_algorithm_update': 0.02069600486755371, 'temp_loss': -0.0027384471971308813, 'temp': 0.031235202131792903, 'critic_loss': 7.879874664545059, 'actor_loss': -4.666015154674649, 'time_step': 0.023853373765945436, 'rollout_return': 16.302816901408452, 'evaluation': 15.3} step=98000\n",
      "2022-10-26 10:54.19 [info     ] Model parameters are saved to d3rlpy_logs/SAC_online_20221026093305/model_99000.pt\n",
      "2022-10-26 10:54.19 [info     ] SAC_online_20221026093305: epoch=99 step=99000 epoch=99 metrics={'time_inference': 0.0011831746101379395, 'time_environment_step': 0.0012841153144836426, 'time_sample_batch': 0.0005755758285522461, 'time_algorithm_update': 0.02024582600593567, 'temp_loss': 0.001154884700794355, 'temp': 0.03101927730254829, 'critic_loss': 5.584620611429214, 'actor_loss': -4.811843376159668, 'time_step': 0.023408133268356324, 'rollout_return': 15.380281690140846, 'evaluation': 15.8} step=99000\n",
      "2022-10-26 10:54.36 [info     ] Model parameters are saved to d3rlpy_logs/SAC_online_20221026093305/model_100000.pt\n",
      "2022-10-26 10:54.37 [info     ] SAC_online_20221026093305: epoch=100 step=100000 epoch=100 metrics={'time_inference': 0.0009302377700805664, 'time_environment_step': 0.0010860726833343507, 'time_sample_batch': 0.0004519984722137451, 'time_algorithm_update': 0.014169414520263672, 'temp_loss': -0.0016596226223919075, 'temp': 0.03136519248783588, 'critic_loss': 6.268006878137588, 'actor_loss': -4.802371775627136, 'time_step': 0.016742197275161744, 'rollout_return': 16.232394366197184, 'evaluation': 16.4} step=100000\n"
     ]
    }
   ],
   "source": [
    "# start training\n",
    "# skip if there is a pre-trained model\n",
    "sac.fit_online(\n",
    "    env,\n",
    "    buffer,\n",
    "    eval_env=env,\n",
    "    n_steps=100000,\n",
    "    n_steps_per_epoch=1000,\n",
    "    update_start_step=1000,\n",
    ")"
   ]
  },
  {
   "cell_type": "code",
   "execution_count": 17,
   "metadata": {},
   "outputs": [],
   "source": [
    "# save model\n",
    "sac.save_model(\"d3rlpy_logs/sac.pt\")"
   ]
  },
  {
   "cell_type": "code",
   "execution_count": 18,
   "metadata": {},
   "outputs": [
    {
     "name": "stdout",
     "output_type": "stream",
     "text": [
      "2022-10-26 10:54.37 [warning  ] Parameters will be reinitialized.\n"
     ]
    }
   ],
   "source": [
    "# reload model\n",
    "sac.build_with_env(env)\n",
    "sac.load_model(\"d3rlpy_logs/sac.pt\")"
   ]
  },
  {
   "cell_type": "code",
   "execution_count": 19,
   "metadata": {},
   "outputs": [
    {
     "data": {
      "text/plain": [
       "Text(0, 0.5, 'episode reward')"
      ]
     },
     "execution_count": 19,
     "metadata": {},
     "output_type": "execute_result"
    },
    {
     "data": {
      "image/png": "[encoded data removed]",
      "text/plain": [
       "<Figure size 432x288 with 1 Axes>"
      ]
     },
     "metadata": {
      "needs_background": "light"
     },
     "output_type": "display_data"
    }
   ],
   "source": [
    "# may need more interactions to converge\n",
    "log_path = sorted(glob(\"d3rlpy_logs/SAC_online_*/evaluation.csv\"))[-1]\n",
    "df = pd.read_csv(\n",
    "    log_path, \n",
    "    usecols=[1,2],\n",
    "    names=[\"train_episode\", \"episodic_rewards\"]\n",
    ")\n",
    "plt.plot(df[\"train_episode\"], df[\"episodic_rewards\"])\n",
    "plt.title(\"Learning curve of SAC\")\n",
    "plt.xlabel(\"episode\")\n",
    "plt.ylabel(\"episode reward\")"
   ]
  },
  {
   "cell_type": "code",
   "execution_count": 20,
   "metadata": {},
   "outputs": [],
   "source": [
    "random = ContinuousRandomPolicy(\n",
    "    action_scaler=MinMaxActionScaler(\n",
    "        minimum=env.action_space.low,  # minimum value that policy can take\n",
    "        maximum=env.action_space.high,  # maximum value that policy can take\n",
    "    )\n",
    ")"
   ]
  },
  {
   "cell_type": "code",
   "execution_count": 21,
   "metadata": {},
   "outputs": [
    {
     "data": {
      "application/vnd.jupyter.widget-view+json": {
       "model_id": "47d46488864f44888ee21c86e80efca0",
       "version_major": 2,
       "version_minor": 0
      },
      "text/plain": [
       "[calculate on-policy policy value]:   0%|          | 0/100 [00:00<?, ?it/s]"
      ]
     },
     "metadata": {},
     "output_type": "display_data"
    },
    {
     "data": {
      "application/vnd.jupyter.widget-view+json": {
       "model_id": "9e21acc07f5c4f909a6bfbe62d445381",
       "version_major": 2,
       "version_minor": 0
      },
      "text/plain": [
       "[calculate on-policy policy value]:   0%|          | 0/100 [00:00<?, ?it/s]"
      ]
     },
     "metadata": {},
     "output_type": "display_data"
    },
    {
     "data": {
      "image/png": "[encoded data removed]",
      "text/plain": [
       "<Figure size 288x288 with 1 Axes>"
      ]
     },
     "metadata": {},
     "output_type": "display_data"
    }
   ],
   "source": [
    "# compare the performance online\n",
    "visualize_on_policy_policy_value(\n",
    "    env=env,\n",
    "    policies=[sac, random],\n",
    "    policy_names=[\"sac\", \"random\"],\n",
    "    n_episodes=100,\n",
    "    random_state=random_state,\n",
    ")"
   ]
  },
  {
   "cell_type": "code",
   "execution_count": 22,
   "metadata": {},
   "outputs": [
    {
     "data": {
      "application/vnd.jupyter.widget-view+json": {
       "model_id": "9f6a180034c24cb9bee5862f3986c1bf",
       "version_major": 2,
       "version_minor": 0
      },
      "text/plain": [
       "[calculate on-policy policy value]:   0%|          | 0/100 [00:00<?, ?it/s]"
      ]
     },
     "metadata": {},
     "output_type": "display_data"
    },
    {
     "data": {
      "application/vnd.jupyter.widget-view+json": {
       "model_id": "8c08b92d1c5f4fc3886535424cd5984a",
       "version_major": 2,
       "version_minor": 0
      },
      "text/plain": [
       "[calculate on-policy policy value]:   0%|          | 0/100 [00:00<?, ?it/s]"
      ]
     },
     "metadata": {},
     "output_type": "display_data"
    },
    {
     "name": "stdout",
     "output_type": "stream",
     "text": [
      "relative improvement: 0.0911621433542102\n"
     ]
    }
   ],
   "source": [
    "# on-policy policy value of the sac policy\n",
    "# slightly improves that of the random policy\n",
    "sac_performance = calc_on_policy_policy_value(env, sac, n_episodes=100, random_state=random_state)\n",
    "random_performance = calc_on_policy_policy_value(env, random, n_episodes=100, random_state=random_state)\n",
    "print(\"relative improvement:\", (sac_performance - random_performance) / random_performance)"
   ]
  },
  {
   "cell_type": "markdown",
   "metadata": {},
   "source": [
    "Note that, we provide the following functions for online evaluation of the policy performance under `ofrl.ope.online`.\n",
    "\n",
    "(Statistics)\n",
    "\n",
    "* `calc_on_policy_policy_value`\n",
    "* `calc_on_policy_policy_value_interval`\n",
    "* `calc_on_policy_variance`\n",
    "* `calc_on_policy_conditional_value_at_risk`\n",
    "* `calc_on_policy_policy_interquartile_range`\n",
    "* `calc_on_policy_cumulative_distribution_function`\n",
    "\n",
    "(Visualization)\n",
    "* `visualize_on_policy_policy_value`\n",
    "* `visualize_on_policy_policy_value_with_variance`\n",
    "* `visualize_on_policy_cumulative_distribution_function`\n",
    "* `visualize_on_policy_conditional_value_at_risk`\n",
    "* `visualize_on_policy_interquartile_range`"
   ]
  },
  {
   "cell_type": "markdown",
   "metadata": {},
   "source": [
    "## 1. Synthetic Dataset Generation\n",
    "In the previous section, we saw how we can interact with the environment *online* using a synthetic simulator.  \n",
    "Though simulation is a good starting point for training an agent, eventually we want to deploy our agent (or policy) in the real world environment.  \n",
    "However, online interaction may have potential risk of failure in real-world implementation.  \n",
    "Therefore, we introduce alternative learning protocol, Offline RL, which aims at training a new policy using only offline logged data.\n",
    "\n",
    "We prepare an easy-to-use synthetic dataset generator: `SyntheticDataset` class in the dataset module.  \n",
    "By regarding simulation environment as a hypothetical real-environment, we show how to conduct Offline RL leveraging logged data.  \n",
    "For detailed description of how to use real-world dataset, please see #TODO (will be implemented).\n",
    "\n",
    "`SyntheticDataset` has the following arguments:\n",
    "- `env`: RTB environment for RL defined in the previous section.\n",
    "- `behavior_policy`: RL agent (or algorithm) used for the data collection.\n",
    "- `maximum_step_per_episode`: Maximum number of timesteps in an episode.\n",
    "- `action_meaning`: Dictionary which maps discrete action index into specific actions.\n",
    "- `action_keys`: Name of the action variable at each dimension.\n",
    "- `state_keys`: Name of the state variable at each dimension.\n",
    "- `info_keys`: Dictionary containing of key and the type of info components.\n",
    "- `random_state`: Random state."
   ]
  },
  {
   "cell_type": "code",
   "execution_count": 23,
   "metadata": {},
   "outputs": [],
   "source": [
    "behavior_policy = ContinuousTruncatedGaussianHead(\n",
    "    sac, \n",
    "    minimum=env.action_space.low,\n",
    "    maximum=env.action_space.high,\n",
    "    sigma=np.array([1.0]),\n",
    "    name=\"sac_sigma_1.0\",\n",
    "    random_state=random_state,\n",
    ")"
   ]
  },
  {
   "cell_type": "code",
   "execution_count": 24,
   "metadata": {},
   "outputs": [],
   "source": [
    "# initialize dataset class\n",
    "dataset = SyntheticDataset(\n",
    "    env=env,\n",
    "    behavior_policy=behavior_policy,\n",
    "    state_keys=env.obs_keys,\n",
    "    maximum_step_per_episode=env.step_per_episode,\n",
    "    info_keys={\n",
    "        \"search_volume\": int,\n",
    "        \"impression\": int,\n",
    "        \"click\": int,\n",
    "        \"conversion\": int,\n",
    "        \"average_bid_price\": float,\n",
    "    },\n",
    "    random_state=random_state,\n",
    ")"
   ]
  },
  {
   "cell_type": "code",
   "execution_count": 25,
   "metadata": {},
   "outputs": [
    {
     "data": {
      "application/vnd.jupyter.widget-view+json": {
       "model_id": "4e172e7d155f40f9b13cd9172a75092b",
       "version_major": 2,
       "version_minor": 0
      },
      "text/plain": [
       "[obtain_trajectories]:   0%|          | 0/10000 [00:00<?, ?it/s]"
      ]
     },
     "metadata": {},
     "output_type": "display_data"
    }
   ],
   "source": [
    "# collect logged data by the behavior policy\n",
    "# skip if there is a preserved logged dataset\n",
    "logged_dataset = dataset.obtain_trajectories(n_episodes=10000, obtain_info=True)"
   ]
  },
  {
   "cell_type": "code",
   "execution_count": 26,
   "metadata": {},
   "outputs": [
    {
     "data": {
      "text/plain": [
       "{'size': 70000,\n",
       " 'n_episodes': 10000,\n",
       " 'step_per_episode': 7,\n",
       " 'maximum_step_per_episode': 7,\n",
       " 'action_type': 'continuous',\n",
       " 'n_actions': None,\n",
       " 'action_dim': 1,\n",
       " 'action_meaning': None,\n",
       " 'action_keys': None,\n",
       " 'state_dim': 7,\n",
       " 'state_keys': ['timestep',\n",
       "  'remaining_budget',\n",
       "  'budget_consumption_rate',\n",
       "  'cost_per_mille_of_impression',\n",
       "  'winning_rate',\n",
       "  'reward',\n",
       "  'adjust_rate'],\n",
       " 'state': array([[0.00000000e+00, 3.00000000e+03, 9.29616093e-01, ...,\n",
       "         1.83918812e-01, 2.00000000e+00, 2.28589290e-01],\n",
       "        [1.00000000e+00, 1.91000000e+03, 3.63333333e-01, ...,\n",
       "         1.00000000e+00, 6.00000000e+00, 9.78978000e+00],\n",
       "        [2.00000000e+00, 1.78300000e+03, 6.64921466e-02, ...,\n",
       "         2.48780488e-01, 1.00000000e+00, 7.51221295e-01],\n",
       "        ...,\n",
       "        [4.00000000e+00, 1.50000000e+01, 9.82121573e-01, ...,\n",
       "         8.55072464e-01, 4.00000000e+00, 1.86633468e+00],\n",
       "        [5.00000000e+00, 1.50000000e+01, 0.00000000e+00, ...,\n",
       "         4.92610837e-03, 0.00000000e+00, 2.26092899e+00],\n",
       "        [6.00000000e+00, 1.50000000e+01, 0.00000000e+00, ...,\n",
       "         7.78210117e-03, 0.00000000e+00, 5.36331596e+00]]),\n",
       " 'action': array([[9.78978   ],\n",
       "        [0.75122129],\n",
       "        [1.35081968],\n",
       "        ...,\n",
       "        [2.26092899],\n",
       "        [5.36331596],\n",
       "        [4.25984876]]),\n",
       " 'reward': array([6., 1., 1., ..., 0., 0., 0.]),\n",
       " 'done': array([0., 0., 0., ..., 0., 0., 1.]),\n",
       " 'terminal': array([0., 0., 0., ..., 0., 0., 1.]),\n",
       " 'info': {'search_volume': array([201, 205, 217, ..., 203, 257, 179]),\n",
       "  'impression': array([201,  51, 193, ...,   1,   2,   5]),\n",
       "  'click': array([21,  4, 20, ...,  0,  0,  0]),\n",
       "  'conversion': array([6, 1, 1, ..., 0, 0, 0]),\n",
       "  'average_bid_price': array([533.08955224,  38.82439024,  70.25806452, ..., 109.36453202,\n",
       "         252.94552529, 196.94972067])},\n",
       " 'pscore': array([[0.54566528],\n",
       "        [0.62216823],\n",
       "        [0.39765037],\n",
       "        ...,\n",
       "        [0.35940019],\n",
       "        [0.31533716],\n",
       "        [0.20847388]])}"
      ]
     },
     "execution_count": 26,
     "metadata": {},
     "output_type": "execute_result"
    }
   ],
   "source": [
    "logged_dataset"
   ]
  },
  {
   "cell_type": "code",
   "execution_count": 27,
   "metadata": {},
   "outputs": [],
   "source": [
    "with open(\"logs/dataset_continuous.pkl\", \"wb\") as f:\n",
    "    pickle.dump(logged_dataset, f)"
   ]
  },
  {
   "cell_type": "code",
   "execution_count": 28,
   "metadata": {},
   "outputs": [],
   "source": [
    "with open(\"logs/dataset_continuous.pkl\", \"rb\") as f:\n",
    "    logged_dataset = pickle.load(f)"
   ]
  },
  {
   "cell_type": "code",
   "execution_count": 29,
   "metadata": {},
   "outputs": [
    {
     "data": {
      "application/vnd.jupyter.widget-view+json": {
       "model_id": "d00ce6d08e354b97ba6934cd9dce1e68",
       "version_major": 2,
       "version_minor": 0
      },
      "text/plain": [
       "[calculate on-policy policy value]:   0%|          | 0/100 [00:00<?, ?it/s]"
      ]
     },
     "metadata": {},
     "output_type": "display_data"
    },
    {
     "data": {
      "application/vnd.jupyter.widget-view+json": {
       "model_id": "81f355e0550240689edac2f4feaf1ccc",
       "version_major": 2,
       "version_minor": 0
      },
      "text/plain": [
       "[calculate on-policy policy value]:   0%|          | 0/100 [00:00<?, ?it/s]"
      ]
     },
     "metadata": {},
     "output_type": "display_data"
    },
    {
     "data": {
      "application/vnd.jupyter.widget-view+json": {
       "model_id": "6fac36637f674792824437e96c43dddb",
       "version_major": 2,
       "version_minor": 0
      },
      "text/plain": [
       "[calculate on-policy policy value]:   0%|          | 0/100 [00:00<?, ?it/s]"
      ]
     },
     "metadata": {},
     "output_type": "display_data"
    },
    {
     "data": {
      "image/png": "[encoded data removed]",
      "text/plain": [
       "<Figure size 432x288 with 1 Axes>"
      ]
     },
     "metadata": {},
     "output_type": "display_data"
    }
   ],
   "source": [
    "# compare the policy performance online\n",
    "visualize_on_policy_policy_value(\n",
    "    env=env,\n",
    "    policies=[sac, behavior_policy, random],\n",
    "    policy_names=[\"sac\", \"sac (sigma=1.0)\", \"random\"],\n",
    "    n_episodes=100,\n",
    "    random_state=random_state,\n",
    ")"
   ]
  },
  {
   "cell_type": "code",
   "execution_count": 30,
   "metadata": {},
   "outputs": [
    {
     "data": {
      "text/html": [
       "<div>\n",
       "<style scoped>\n",
       "    .dataframe tbody tr th:only-of-type {\n",
       "        vertical-align: middle;\n",
       "    }\n",
       "\n",
       "    .dataframe tbody tr th {\n",
       "        vertical-align: top;\n",
       "    }\n",
       "\n",
       "    .dataframe thead th {\n",
       "        text-align: right;\n",
       "    }\n",
       "</style>\n",
       "<table border=\"1\" class=\"dataframe\">\n",
       "  <thead>\n",
       "    <tr style=\"text-align: right;\">\n",
       "      <th></th>\n",
       "      <th>adjust rate</th>\n",
       "      <th>average bid price</th>\n",
       "      <th>impression</th>\n",
       "      <th>click</th>\n",
       "      <th>conversion</th>\n",
       "      <th>winning rate</th>\n",
       "      <th>click / impression</th>\n",
       "      <th>conversion / click</th>\n",
       "    </tr>\n",
       "  </thead>\n",
       "  <tbody>\n",
       "    <tr>\n",
       "      <th>count</th>\n",
       "      <td>70000.000000</td>\n",
       "      <td>70000.000000</td>\n",
       "      <td>70000.000000</td>\n",
       "      <td>70000.000000</td>\n",
       "      <td>70000.000000</td>\n",
       "      <td>70000.000000</td>\n",
       "      <td>70000.000000</td>\n",
       "      <td>70000.000000</td>\n",
       "    </tr>\n",
       "    <tr>\n",
       "      <th>mean</th>\n",
       "      <td>3.190504</td>\n",
       "      <td>175.262978</td>\n",
       "      <td>89.181529</td>\n",
       "      <td>8.913586</td>\n",
       "      <td>2.236157</td>\n",
       "      <td>0.505609</td>\n",
       "      <td>0.074013</td>\n",
       "      <td>0.152029</td>\n",
       "    </tr>\n",
       "    <tr>\n",
       "      <th>std</th>\n",
       "      <td>3.493517</td>\n",
       "      <td>181.762804</td>\n",
       "      <td>84.452966</td>\n",
       "      <td>9.124444</td>\n",
       "      <td>3.052882</td>\n",
       "      <td>0.403887</td>\n",
       "      <td>0.077907</td>\n",
       "      <td>0.190383</td>\n",
       "    </tr>\n",
       "    <tr>\n",
       "      <th>min</th>\n",
       "      <td>0.000063</td>\n",
       "      <td>4.144231</td>\n",
       "      <td>0.000000</td>\n",
       "      <td>0.000000</td>\n",
       "      <td>0.000000</td>\n",
       "      <td>0.000000</td>\n",
       "      <td>0.000000</td>\n",
       "      <td>0.000000</td>\n",
       "    </tr>\n",
       "    <tr>\n",
       "      <th>25%</th>\n",
       "      <td>0.662406</td>\n",
       "      <td>39.562428</td>\n",
       "      <td>6.000000</td>\n",
       "      <td>0.000000</td>\n",
       "      <td>0.000000</td>\n",
       "      <td>0.065089</td>\n",
       "      <td>0.000000</td>\n",
       "      <td>0.000000</td>\n",
       "    </tr>\n",
       "    <tr>\n",
       "      <th>50%</th>\n",
       "      <td>1.406780</td>\n",
       "      <td>79.533513</td>\n",
       "      <td>61.000000</td>\n",
       "      <td>6.000000</td>\n",
       "      <td>1.000000</td>\n",
       "      <td>0.488662</td>\n",
       "      <td>0.082353</td>\n",
       "      <td>0.090909</td>\n",
       "    </tr>\n",
       "    <tr>\n",
       "      <th>75%</th>\n",
       "      <td>7.359410</td>\n",
       "      <td>392.718869</td>\n",
       "      <td>180.000000</td>\n",
       "      <td>17.000000</td>\n",
       "      <td>4.000000</td>\n",
       "      <td>0.990789</td>\n",
       "      <td>0.111111</td>\n",
       "      <td>0.263158</td>\n",
       "    </tr>\n",
       "    <tr>\n",
       "      <th>max</th>\n",
       "      <td>9.999994</td>\n",
       "      <td>550.081340</td>\n",
       "      <td>290.000000</td>\n",
       "      <td>41.000000</td>\n",
       "      <td>20.000000</td>\n",
       "      <td>1.000000</td>\n",
       "      <td>0.999995</td>\n",
       "      <td>0.999998</td>\n",
       "    </tr>\n",
       "  </tbody>\n",
       "</table>\n",
       "</div>"
      ],
      "text/plain": [
       "        adjust rate  average bid price    impression         click  \\\n",
       "count  70000.000000       70000.000000  70000.000000  70000.000000   \n",
       "mean       3.190504         175.262978     89.181529      8.913586   \n",
       "std        3.493517         181.762804     84.452966      9.124444   \n",
       "min        0.000063           4.144231      0.000000      0.000000   \n",
       "25%        0.662406          39.562428      6.000000      0.000000   \n",
       "50%        1.406780          79.533513     61.000000      6.000000   \n",
       "75%        7.359410         392.718869    180.000000     17.000000   \n",
       "max        9.999994         550.081340    290.000000     41.000000   \n",
       "\n",
       "         conversion  winning rate  click / impression  conversion / click  \n",
       "count  70000.000000  70000.000000        70000.000000        70000.000000  \n",
       "mean       2.236157      0.505609            0.074013            0.152029  \n",
       "std        3.052882      0.403887            0.077907            0.190383  \n",
       "min        0.000000      0.000000            0.000000            0.000000  \n",
       "25%        0.000000      0.065089            0.000000            0.000000  \n",
       "50%        1.000000      0.488662            0.082353            0.090909  \n",
       "75%        4.000000      0.990789            0.111111            0.263158  \n",
       "max       20.000000      1.000000            0.999995            0.999998  "
      ]
     },
     "execution_count": 30,
     "metadata": {},
     "output_type": "execute_result"
    }
   ],
   "source": [
    "# let's see some statistics of the logged dataset\n",
    "df = pd.DataFrame()\n",
    "df['adjust rate'] = logged_dataset['state'][:, 6]\n",
    "df['average bid price'] = logged_dataset['info']['average_bid_price']\n",
    "df['impression'] = logged_dataset['info']['impression']\n",
    "df['click'] = logged_dataset['info']['click']\n",
    "df['conversion'] = logged_dataset['info']['conversion']\n",
    "df['winning rate'] = logged_dataset['state'][:, 4]\n",
    "df['click / impression'] = df['click'] / (df['impression'] + 1e-5)\n",
    "df['conversion / click'] = df['conversion'] / (df['click'] + 1e-5)\n",
    "df.describe()"
   ]
  },
  {
   "cell_type": "markdown",
   "metadata": {},
   "source": [
    "For more about the data collection and visualization, please refer to [examples/quickstart/rtb_synthetic_data_collection.ipynb](https://github.com/negocia-inc/rtb_reinforcement_learing/blob/ope/examples/quickstart/rtb_synthetic_data_collection.ipynb)."
   ]
  },
  {
   "cell_type": "markdown",
   "metadata": {},
   "source": [
    "## 2. Offline Reinforcement Learning\n",
    "In this section, we learn a new policy in an offline manner, without interacting with the environment.\n",
    "We use [d3rlpy](https://github.com/takuseno/d3rlpy)'s implementation of offline RL algorithms."
   ]
  },
  {
   "cell_type": "code",
   "execution_count": 31,
   "metadata": {},
   "outputs": [],
   "source": [
    "# import modules from d3rlpy\n",
    "from d3rlpy.dataset import MDPDataset\n",
    "from d3rlpy.algos import CQL as ContinuousCQL\n",
    "from d3rlpy.ope import FQE as ContinuousFQE\n",
    "from d3rlpy.metrics.scorer import evaluate_on_environment"
   ]
  },
  {
   "cell_type": "code",
   "execution_count": 32,
   "metadata": {},
   "outputs": [],
   "source": [
    "offlinerl_dataset = MDPDataset(\n",
    "    observations=logged_dataset[\"state\"],\n",
    "    actions=logged_dataset[\"action\"],\n",
    "    rewards=logged_dataset[\"reward\"],\n",
    "    terminals=logged_dataset[\"done\"],\n",
    "    episode_terminals=logged_dataset[\"done\"],\n",
    "    discrete_action=False,\n",
    ")\n",
    "train_episodes, test_episodes = train_test_split(offlinerl_dataset, test_size=0.2, random_state=random_state)"
   ]
  },
  {
   "cell_type": "code",
   "execution_count": 33,
   "metadata": {},
   "outputs": [],
   "source": [
    "# Use Conservative Q-Learning policy\n",
    "cql = ContinuousCQL(\n",
    "    actor_encoder_factory=VectorEncoderFactory(hidden_units=[30, 30]),\n",
    "    critic_encoder_factory=VectorEncoderFactory(hidden_units=[30, 30]),\n",
    "    q_func_factory=MeanQFunctionFactory(),\n",
    "    use_gpu=torch.cuda.is_available(),\n",
    "    action_scaler=MinMaxActionScaler(\n",
    "        minimum=env.action_space.low,  # minimum value that policy can take\n",
    "        maximum=env.action_space.high,  # maximum value that policy can take\n",
    "    )\n",
    ")"
   ]
  },
  {
   "cell_type": "code",
   "execution_count": 34,
   "metadata": {},
   "outputs": [
    {
     "name": "stdout",
     "output_type": "stream",
     "text": [
      "2022-10-26 10:58.01 [debug    ] RandomIterator is selected.\n",
      "2022-10-26 10:58.01 [info     ] Directory is created at d3rlpy_logs/CQL_20221026105801\n",
      "2022-10-26 10:58.01 [debug    ] Fitting action scaler...       action_scaler=min_max\n",
      "2022-10-26 10:58.01 [debug    ] Building models...\n",
      "2022-10-26 10:58.01 [debug    ] Models have been built.\n",
      "2022-10-26 10:58.01 [info     ] Parameters are saved to d3rlpy_logs/CQL_20221026105801/params.json params={'action_scaler': {'type': 'min_max', 'params': {'minimum': array([0.1]), 'maximum': array([10.])}}, 'actor_encoder_factory': {'type': 'vector', 'params': {'hidden_units': [30, 30], 'activation': 'relu', 'use_batch_norm': False, 'dropout_rate': None, 'use_dense': False}}, 'actor_learning_rate': 0.0001, 'actor_optim_factory': {'optim_cls': 'Adam', 'betas': (0.9, 0.999), 'eps': 1e-08, 'weight_decay': 0, 'amsgrad': False}, 'alpha_learning_rate': 0.0001, 'alpha_optim_factory': {'optim_cls': 'Adam', 'betas': (0.9, 0.999), 'eps': 1e-08, 'weight_decay': 0, 'amsgrad': False}, 'alpha_threshold': 10.0, 'batch_size': 256, 'conservative_weight': 5.0, 'critic_encoder_factory': {'type': 'vector', 'params': {'hidden_units': [30, 30], 'activation': 'relu', 'use_batch_norm': False, 'dropout_rate': None, 'use_dense': False}}, 'critic_learning_rate': 0.0003, 'critic_optim_factory': {'optim_cls': 'Adam', 'betas': (0.9, 0.999), 'eps': 1e-08, 'weight_decay': 0, 'amsgrad': False}, 'gamma': 0.99, 'generated_maxlen': 100000, 'initial_alpha': 1.0, 'initial_temperature': 1.0, 'n_action_samples': 10, 'n_critics': 2, 'n_frames': 1, 'n_steps': 1, 'q_func_factory': {'type': 'mean', 'params': {'share_encoder': False}}, 'real_ratio': 1.0, 'reward_scaler': None, 'scaler': None, 'soft_q_backup': False, 'tau': 0.005, 'temp_learning_rate': 0.0001, 'temp_optim_factory': {'optim_cls': 'Adam', 'betas': (0.9, 0.999), 'eps': 1e-08, 'weight_decay': 0, 'amsgrad': False}, 'use_gpu': None, 'algorithm': 'CQL', 'observation_shape': (7,), 'action_size': 1}\n"
     ]
    },
    {
     "data": {
      "application/vnd.jupyter.widget-view+json": {
       "model_id": "e7291201776e4bc286b6a1b3b038a22d",
       "version_major": 2,
       "version_minor": 0
      },
      "text/plain": [
       "Epoch 1/1:   0%|          | 0/10000 [00:00<?, ?it/s]"
      ]
     },
     "metadata": {},
     "output_type": "display_data"
    },
    {
     "name": "stdout",
     "output_type": "stream",
     "text": [
      "2022-10-26 11:04.04 [info     ] CQL_20221026105801: epoch=1 step=10000 epoch=1 metrics={'time_sample_batch': 0.0014077051639556884, 'time_algorithm_update': 0.033637277412414554, 'temp_loss': 0.2786307230707258, 'temp': 0.8669204258203507, 'alpha_loss': -14.758403413581847, 'alpha': 1.7856249429106712, 'critic_loss': 285.51923848457335, 'actor_loss': 3.629690679929126, 'time_step': 0.03598473150730133, 'environment': 14.0} step=10000\n",
      "2022-10-26 11:04.04 [info     ] Model parameters are saved to d3rlpy_logs/CQL_20221026105801/model_10000.pt\n"
     ]
    },
    {
     "data": {
      "text/plain": [
       "[(1,\n",
       "  {'time_sample_batch': 0.0014077051639556884,\n",
       "   'time_algorithm_update': 0.033637277412414554,\n",
       "   'temp_loss': 0.2786307230707258,\n",
       "   'temp': 0.8669204258203507,\n",
       "   'alpha_loss': -14.758403413581847,\n",
       "   'alpha': 1.7856249429106712,\n",
       "   'critic_loss': 285.51923848457335,\n",
       "   'actor_loss': 3.629690679929126,\n",
       "   'time_step': 0.03598473150730133,\n",
       "   'environment': 14.0})]"
      ]
     },
     "execution_count": 34,
     "metadata": {},
     "output_type": "execute_result"
    }
   ],
   "source": [
    "cql.fit(\n",
    "    train_episodes,\n",
    "    eval_episodes=test_episodes,\n",
    "    n_steps=10000,\n",
    "    scorers={\n",
    "        'environment': evaluate_on_environment(env),\n",
    "        # to record training process w/ ground truth policy value, which is unseen to the agent\n",
    "    },\n",
    ")"
   ]
  },
  {
   "cell_type": "code",
   "execution_count": 35,
   "metadata": {},
   "outputs": [],
   "source": [
    "# save model\n",
    "cql.save_model(\"d3rlpy_logs/cql_continuous.pt\")"
   ]
  },
  {
   "cell_type": "code",
   "execution_count": 36,
   "metadata": {},
   "outputs": [
    {
     "name": "stdout",
     "output_type": "stream",
     "text": [
      "2022-10-26 11:04.04 [warning  ] Parameters will be reinitialized.\n"
     ]
    }
   ],
   "source": [
    "# reload model\n",
    "cql.build_with_env(env)\n",
    "cql.load_model(\"d3rlpy_logs/cql_continuous.pt\")"
   ]
  },
  {
   "cell_type": "code",
   "execution_count": 37,
   "metadata": {},
   "outputs": [
    {
     "data": {
      "application/vnd.jupyter.widget-view+json": {
       "model_id": "f4874e49409e42aea48c8cf4e3a1e81b",
       "version_major": 2,
       "version_minor": 0
      },
      "text/plain": [
       "[calculate on-policy policy value]:   0%|          | 0/100 [00:00<?, ?it/s]"
      ]
     },
     "metadata": {},
     "output_type": "display_data"
    },
    {
     "data": {
      "application/vnd.jupyter.widget-view+json": {
       "model_id": "3755650986094b2396bd96f1a71a5d89",
       "version_major": 2,
       "version_minor": 0
      },
      "text/plain": [
       "[calculate on-policy policy value]:   0%|          | 0/100 [00:00<?, ?it/s]"
      ]
     },
     "metadata": {},
     "output_type": "display_data"
    },
    {
     "data": {
      "application/vnd.jupyter.widget-view+json": {
       "model_id": "7314338268854a8490da55dab03116dc",
       "version_major": 2,
       "version_minor": 0
      },
      "text/plain": [
       "[calculate on-policy policy value]:   0%|          | 0/100 [00:00<?, ?it/s]"
      ]
     },
     "metadata": {},
     "output_type": "display_data"
    },
    {
     "data": {
      "application/vnd.jupyter.widget-view+json": {
       "model_id": "45346436e9e143e28ea83610320fc8b4",
       "version_major": 2,
       "version_minor": 0
      },
      "text/plain": [
       "[calculate on-policy policy value]:   0%|          | 0/100 [00:00<?, ?it/s]"
      ]
     },
     "metadata": {},
     "output_type": "display_data"
    },
    {
     "data": {
      "image/png": "[encoded data removed]",
      "text/plain": [
       "<Figure size 576x288 with 1 Axes>"
      ]
     },
     "metadata": {},
     "output_type": "display_data"
    }
   ],
   "source": [
    "# compare the policy performance online\n",
    "# wow, offline algorithm outperforms the online algorithm.\n",
    "# even though it requires no interaction with the environment!\n",
    "visualize_on_policy_policy_value(\n",
    "    env=env,\n",
    "    policies=[sac, behavior_policy, cql, random],\n",
    "    policy_names=[\"sac\", \"sac (sigma=1.0)\", \"cql\", \"random\"],\n",
    "    n_episodes=100,\n",
    "    random_state=random_state,\n",
    ")"
   ]
  },
  {
   "cell_type": "markdown",
   "metadata": {},
   "source": [
    "## 3. Off-Policy Evaluation and Evaluation of Offline RL methods\n",
    "In the previous section, we verified the performance of a learned policy via online interaction (aka A/B tests).  \n",
    "However, it could be risky in practice, because the policy may perform poorly in an online environment.  \n",
    "To tackle this issue, we aim at evaluating the performance of a policy offline, to gain some prior knowledge on how the agent works in the environment."
   ]
  },
  {
   "cell_type": "code",
   "execution_count": 38,
   "metadata": {},
   "outputs": [],
   "source": [
    "# import ope modules from OFRL\n",
    "from ofrl.ope import CreateOPEInput\n",
    "from ofrl.ope import ContinuousOffPolicyEvaluation as OPE\n",
    "from ofrl.ope import ContinuousDirectMethod as DM\n",
    "from ofrl.ope import ContinuousTrajectoryWiseImportanceSampling as TIS\n",
    "from ofrl.ope import ContinuousPerDecisionImportanceSampling as PDIS\n",
    "from ofrl.ope import ContinuousDoublyRobust as DR\n",
    "from ofrl.ope import ContinuousSelfNormalizedTrajectoryWiseImportanceSampling as SNTIS\n",
    "from ofrl.ope import ContinuousSelfNormalizedPerDecisionImportanceSampling as SNPDIS\n",
    "from ofrl.ope import ContinuousSelfNormalizedDoublyRobust as SNDR\n",
    "from ofrl.policy import ContinuousEvalHead"
   ]
  },
  {
   "cell_type": "code",
   "execution_count": 39,
   "metadata": {},
   "outputs": [],
   "source": [
    "# define evaluation policies (deterministic policy)\n",
    "# though OPE is applicable to stochastic policies (i.e., random), the estimation result will be unstable\n",
    "# because continuous OPE is mainly designed for deterministic policies\n",
    "cql_ = ContinuousEvalHead(\n",
    "    base_policy=cql,\n",
    "    name=\"cql\",\n",
    ")\n",
    "sac_ = ContinuousEvalHead(\n",
    "    base_policy=sac, \n",
    "    name=\"sac\", \n",
    ")\n",
    "random_ = ContinuousEvalHead(\n",
    "    base_policy=random, \n",
    "    name=\"random\", \n",
    ")\n",
    "evaluation_policies = [cql_, sac_, random_]"
   ]
  },
  {
   "cell_type": "code",
   "execution_count": 40,
   "metadata": {},
   "outputs": [],
   "source": [
    "# first, prepare OPE inputs\n",
    "prep = CreateOPEInput(\n",
    "    logged_dataset=logged_dataset,\n",
    "    use_base_model=True,  # use model-based prediction\n",
    "    base_model_args={\n",
    "        \"encoder_factory\": VectorEncoderFactory(hidden_units=[30, 30]),\n",
    "        \"q_func_factory\": MeanQFunctionFactory(),\n",
    "        \"learning_rate\": 1e-4,\n",
    "        \"use_gpu\": torch.cuda.is_available(),\n",
    "        \"action_scaler\": MinMaxActionScaler(\n",
    "            minimum=env.action_space.low,  # minimum value that policy can take\n",
    "            maximum=env.action_space.high,  # maximum value that policy can take\n",
    "        ),\n",
    "    },\n",
    ")"
   ]
  },
  {
   "cell_type": "code",
   "execution_count": 41,
   "metadata": {},
   "outputs": [
    {
     "data": {
      "application/vnd.jupyter.widget-view+json": {
       "model_id": "60524f1039194fa397a9237994964723",
       "version_major": 2,
       "version_minor": 0
      },
      "text/plain": [
       "[fit FQE model]:   0%|          | 0/3 [00:00<?, ?it/s]"
      ]
     },
     "metadata": {},
     "output_type": "display_data"
    },
    {
     "name": "stdout",
     "output_type": "stream",
     "text": [
      "2022-10-26 11:04.10 [debug    ] RandomIterator is selected.\n",
      "2022-10-26 11:04.10 [info     ] Directory is created at d3rlpy_logs/FQE_20221026110410\n",
      "2022-10-26 11:04.10 [debug    ] Fitting action scaler...       action_scaler=min_max\n",
      "2022-10-26 11:04.10 [debug    ] Building models...\n",
      "2022-10-26 11:04.10 [debug    ] Models have been built.\n",
      "2022-10-26 11:04.10 [info     ] Parameters are saved to d3rlpy_logs/FQE_20221026110410/params.json params={'action_scaler': {'type': 'min_max', 'params': {'minimum': array([0.1]), 'maximum': array([10.])}}, 'batch_size': 100, 'encoder_factory': {'type': 'vector', 'params': {'hidden_units': [30, 30], 'activation': 'relu', 'use_batch_norm': False, 'dropout_rate': None, 'use_dense': False}}, 'gamma': 0.99, 'generated_maxlen': 100000, 'learning_rate': 0.0001, 'n_critics': 1, 'n_frames': 1, 'n_steps': 1, 'optim_factory': {'optim_cls': 'Adam', 'betas': (0.9, 0.999), 'eps': 1e-08, 'weight_decay': 0, 'amsgrad': False}, 'q_func_factory': {'type': 'mean', 'params': {'share_encoder': False}}, 'real_ratio': 1.0, 'reward_scaler': None, 'scaler': None, 'target_update_interval': 100, 'use_gpu': None, 'algorithm': 'FQE', 'observation_shape': (7,), 'action_size': 1}\n"
     ]
    },
    {
     "data": {
      "application/vnd.jupyter.widget-view+json": {
       "model_id": "0fd0cf9e8ab946db92df0aa027d79122",
       "version_major": 2,
       "version_minor": 0
      },
      "text/plain": [
       "Epoch 1/1:   0%|          | 0/10000 [00:00<?, ?it/s]"
      ]
     },
     "metadata": {},
     "output_type": "display_data"
    },
    {
     "name": "stdout",
     "output_type": "stream",
     "text": [
      "2022-10-26 11:04.54 [info     ] FQE_20221026110410: epoch=1 step=10000 epoch=1 metrics={'time_sample_batch': 0.0005972204923629761, 'time_algorithm_update': 0.0034484645843505858, 'loss': 336.8417991107821, 'time_step': 0.0042979392766952515} step=10000\n",
      "2022-10-26 11:04.54 [info     ] Model parameters are saved to d3rlpy_logs/FQE_20221026110410/model_10000.pt\n",
      "2022-10-26 11:04.54 [debug    ] RandomIterator is selected.\n",
      "2022-10-26 11:04.54 [info     ] Directory is created at d3rlpy_logs/FQE_20221026110454\n",
      "2022-10-26 11:04.54 [debug    ] Fitting action scaler...       action_scaler=min_max\n",
      "2022-10-26 11:04.54 [debug    ] Building models...\n",
      "2022-10-26 11:04.54 [debug    ] Models have been built.\n",
      "2022-10-26 11:04.54 [info     ] Parameters are saved to d3rlpy_logs/FQE_20221026110454/params.json params={'action_scaler': {'type': 'min_max', 'params': {'minimum': array([0.1]), 'maximum': array([10.])}}, 'batch_size': 100, 'encoder_factory': {'type': 'vector', 'params': {'hidden_units': [30, 30], 'activation': 'relu', 'use_batch_norm': False, 'dropout_rate': None, 'use_dense': False}}, 'gamma': 0.99, 'generated_maxlen': 100000, 'learning_rate': 0.0001, 'n_critics': 1, 'n_frames': 1, 'n_steps': 1, 'optim_factory': {'optim_cls': 'Adam', 'betas': (0.9, 0.999), 'eps': 1e-08, 'weight_decay': 0, 'amsgrad': False}, 'q_func_factory': {'type': 'mean', 'params': {'share_encoder': False}}, 'real_ratio': 1.0, 'reward_scaler': None, 'scaler': None, 'target_update_interval': 100, 'use_gpu': None, 'algorithm': 'FQE', 'observation_shape': (7,), 'action_size': 1}\n"
     ]
    },
    {
     "data": {
      "application/vnd.jupyter.widget-view+json": {
       "model_id": "076467c55d9346d7911de547f30268dd",
       "version_major": 2,
       "version_minor": 0
      },
      "text/plain": [
       "Epoch 1/1:   0%|          | 0/10000 [00:00<?, ?it/s]"
      ]
     },
     "metadata": {},
     "output_type": "display_data"
    },
    {
     "name": "stdout",
     "output_type": "stream",
     "text": [
      "2022-10-26 11:05.34 [info     ] FQE_20221026110454: epoch=1 step=10000 epoch=1 metrics={'time_sample_batch': 0.0005827213287353516, 'time_algorithm_update': 0.0031946092128753664, 'loss': 188.5109380328655, 'time_step': 0.0040133670091629025} step=10000\n",
      "2022-10-26 11:05.34 [info     ] Model parameters are saved to d3rlpy_logs/FQE_20221026110454/model_10000.pt\n",
      "2022-10-26 11:05.34 [debug    ] RandomIterator is selected.\n",
      "2022-10-26 11:05.34 [info     ] Directory is created at d3rlpy_logs/FQE_20221026110534\n",
      "2022-10-26 11:05.34 [debug    ] Fitting action scaler...       action_scaler=min_max\n",
      "2022-10-26 11:05.34 [debug    ] Building models...\n",
      "2022-10-26 11:05.34 [debug    ] Models have been built.\n",
      "2022-10-26 11:05.34 [info     ] Parameters are saved to d3rlpy_logs/FQE_20221026110534/params.json params={'action_scaler': {'type': 'min_max', 'params': {'minimum': array([0.1]), 'maximum': array([10.])}}, 'batch_size': 100, 'encoder_factory': {'type': 'vector', 'params': {'hidden_units': [30, 30], 'activation': 'relu', 'use_batch_norm': False, 'dropout_rate': None, 'use_dense': False}}, 'gamma': 0.99, 'generated_maxlen': 100000, 'learning_rate': 0.0001, 'n_critics': 1, 'n_frames': 1, 'n_steps': 1, 'optim_factory': {'optim_cls': 'Adam', 'betas': (0.9, 0.999), 'eps': 1e-08, 'weight_decay': 0, 'amsgrad': False}, 'q_func_factory': {'type': 'mean', 'params': {'share_encoder': False}}, 'real_ratio': 1.0, 'reward_scaler': None, 'scaler': None, 'target_update_interval': 100, 'use_gpu': None, 'algorithm': 'FQE', 'observation_shape': (7,), 'action_size': 1}\n"
     ]
    },
    {
     "data": {
      "application/vnd.jupyter.widget-view+json": {
       "model_id": "bf6dc3318b694f9eb45fa59a22625c1f",
       "version_major": 2,
       "version_minor": 0
      },
      "text/plain": [
       "Epoch 1/1:   0%|          | 0/10000 [00:00<?, ?it/s]"
      ]
     },
     "metadata": {},
     "output_type": "display_data"
    },
    {
     "name": "stdout",
     "output_type": "stream",
     "text": [
      "2022-10-26 11:06.10 [info     ] FQE_20221026110534: epoch=1 step=10000 epoch=1 metrics={'time_sample_batch': 0.0006092874050140381, 'time_algorithm_update': 0.002660566520690918, 'loss': 41.31410571988821, 'time_step': 0.0035187057733535765} step=10000\n",
      "2022-10-26 11:06.10 [info     ] Model parameters are saved to d3rlpy_logs/FQE_20221026110534/model_10000.pt\n"
     ]
    },
    {
     "data": {
      "application/vnd.jupyter.widget-view+json": {
       "model_id": "cae3d871ea8b43238e8d46e9aed054bf",
       "version_major": 2,
       "version_minor": 0
      },
      "text/plain": [
       "[collect input data]:   0%|          | 0/3 [00:00<?, ?it/s]"
      ]
     },
     "metadata": {},
     "output_type": "display_data"
    },
    {
     "data": {
      "application/vnd.jupyter.widget-view+json": {
       "model_id": "4ce012da39b240b18fd6b2f03cdfd9ed",
       "version_major": 2,
       "version_minor": 0
      },
      "text/plain": [
       "[calculate on-policy policy value]:   0%|          | 0/100 [00:00<?, ?it/s]"
      ]
     },
     "metadata": {},
     "output_type": "display_data"
    },
    {
     "data": {
      "application/vnd.jupyter.widget-view+json": {
       "model_id": "808d482718f84d8e86235af9a2b5e0f8",
       "version_major": 2,
       "version_minor": 0
      },
      "text/plain": [
       "[calculate on-policy policy value]:   0%|          | 0/100 [00:00<?, ?it/s]"
      ]
     },
     "metadata": {},
     "output_type": "display_data"
    },
    {
     "data": {
      "application/vnd.jupyter.widget-view+json": {
       "model_id": "e284a536ec5147219ed5330f0feb56cd",
       "version_major": 2,
       "version_minor": 0
      },
      "text/plain": [
       "[calculate on-policy policy value]:   0%|          | 0/100 [00:00<?, ?it/s]"
      ]
     },
     "metadata": {},
     "output_type": "display_data"
    }
   ],
   "source": [
    "input_dict = prep.obtain_whole_inputs(\n",
    "    evaluation_policies=evaluation_policies,\n",
    "    env=env,\n",
    "    n_episodes_on_policy_evaluation=100,\n",
    "    random_state=random_state,\n",
    ")"
   ]
  },
  {
   "cell_type": "code",
   "execution_count": 42,
   "metadata": {},
   "outputs": [],
   "source": [
    "with open(\"logs/ope_input_dict_continuous.pkl\", \"wb\") as f:\n",
    "    pickle.dump(input_dict, f)"
   ]
  },
  {
   "cell_type": "code",
   "execution_count": 43,
   "metadata": {},
   "outputs": [],
   "source": [
    "with open(\"logs/ope_input_dict_continuous.pkl\", \"rb\") as f:\n",
    "    input_dict = pickle.load(f)"
   ]
  },
  {
   "cell_type": "code",
   "execution_count": 44,
   "metadata": {},
   "outputs": [],
   "source": [
    "ope = OPE(\n",
    "    logged_dataset=logged_dataset,\n",
    "    ope_estimators=[DM(), TIS(), PDIS(), DR(), SNTIS(), SNPDIS(), SNDR()],\n",
    "    use_truncated_kernel=True,\n",
    "    action_min=env.action_space.low,\n",
    "    action_max=env.action_space.high,\n",
    ")"
   ]
  },
  {
   "cell_type": "code",
   "execution_count": 45,
   "metadata": {},
   "outputs": [],
   "source": [
    "# performance estimation by ope\n",
    "# takes time to compute (about 15min)\n",
    "policy_value_df_dict, policy_value_interval_df_dict = ope.summarize_off_policy_estimates(input_dict, random_state=random_state)"
   ]
  },
  {
   "cell_type": "code",
   "execution_count": 46,
   "metadata": {},
   "outputs": [
    {
     "data": {
      "text/plain": [
       "{'cql':            policy_value  relative_policy_value\n",
       " on_policy     14.490000               1.000000\n",
       " dm            15.378084               1.061289\n",
       " tis            0.015459               0.001067\n",
       " pdis           5.507862               0.380115\n",
       " dr            14.664130               1.012017\n",
       " sntis          0.033018               0.002279\n",
       " snpdis        19.776785               1.364858\n",
       " sndr           2.738149               0.188968,\n",
       " 'sac':            policy_value  relative_policy_value\n",
       " on_policy     15.680000               1.000000\n",
       " dm            12.769823               0.814402\n",
       " tis           20.036420               1.277833\n",
       " pdis          10.876716               0.693668\n",
       " dr            15.521830               0.989913\n",
       " sntis         14.787657               0.943090\n",
       " snpdis        15.377844               0.980730\n",
       " sndr           4.541594               0.289642,\n",
       " 'random':            policy_value  relative_policy_value\n",
       " on_policy     14.460000               1.000000\n",
       " dm            14.091709               0.974530\n",
       " tis            0.004628               0.000320\n",
       " pdis           3.914671               0.270724\n",
       " dr            14.276995               0.987344\n",
       " sntis          4.090204               0.282863\n",
       " snpdis        15.712823               1.086641\n",
       " sndr           7.783369               0.538269}"
      ]
     },
     "execution_count": 46,
     "metadata": {},
     "output_type": "execute_result"
    }
   ],
   "source": [
    "# estimated policy performance\n",
    "policy_value_df_dict"
   ]
  },
  {
   "cell_type": "code",
   "execution_count": 47,
   "metadata": {},
   "outputs": [
    {
     "data": {
      "text/plain": [
       "{'cql':                 mean  95.0% CI (lower)  95.0% CI (upper)\n",
       " on_policy  14.408900         13.660000         15.085750\n",
       " dm         15.378029         15.376151         15.379759\n",
       " tis         0.016221          0.001289          0.037272\n",
       " pdis        5.543983          5.073506          6.083141\n",
       " dr         14.671475         11.869830         15.656368\n",
       " sntis       0.032146          0.019836          0.047854\n",
       " snpdis     19.718705         17.573910         21.829512\n",
       " sndr        2.817918         -1.701713          6.730251,\n",
       " 'sac':                 mean  95.0% CI (lower)  95.0% CI (upper)\n",
       " on_policy  15.604500         14.894250         16.276250\n",
       " dm         12.769650         12.765161         12.773505\n",
       " tis        20.037378         19.512960         20.611669\n",
       " pdis       10.878729         10.733516         11.024591\n",
       " dr         15.525231         15.430739         15.599469\n",
       " sntis      14.809297         13.539894         15.919198\n",
       " snpdis     15.378091         15.026544         15.817015\n",
       " sndr        4.568752          3.151244          6.070217,\n",
       " 'random':                 mean  95.0% CI (lower)  95.0% CI (upper)\n",
       " on_policy  14.383200         13.559500         15.061000\n",
       " dm         14.091558         14.088614         14.094368\n",
       " tis         0.004959          0.001184          0.010137\n",
       " pdis        3.916718          3.289875          4.634713\n",
       " dr         14.273041         14.076457         14.448700\n",
       " sntis       4.564028          0.224209          9.547500\n",
       " snpdis     15.499982         12.111144         24.358331\n",
       " sndr        7.821232          3.079750         11.907822}"
      ]
     },
     "execution_count": 47,
     "metadata": {},
     "output_type": "execute_result"
    }
   ],
   "source": [
    "# estimated confidence intervals of the policy performance\n",
    "policy_value_interval_df_dict"
   ]
  },
  {
   "cell_type": "markdown",
   "metadata": {},
   "source": [
    "## 4. Evaluation of OPE methods\n",
    "Now, we evaluate how well the ope estimators estimated the policy value."
   ]
  },
  {
   "cell_type": "code",
   "execution_count": 48,
   "metadata": {},
   "outputs": [
    {
     "data": {
      "image/png": "[encoded data removed]",
      "text/plain": [
       "<Figure size 1008x2592 with 3 Axes>"
      ]
     },
     "metadata": {},
     "output_type": "display_data"
    }
   ],
   "source": [
    "# we can visualize and compare the ope result\n",
    "# it seems many offline metrics underestimate the policy value\n",
    "ope.visualize_off_policy_estimates(input_dict, random_state=random_state, sharey=True)"
   ]
  },
  {
   "cell_type": "code",
   "execution_count": 49,
   "metadata": {},
   "outputs": [
    {
     "data": {
      "text/html": [
       "<div>\n",
       "<style scoped>\n",
       "    .dataframe tbody tr th:only-of-type {\n",
       "        vertical-align: middle;\n",
       "    }\n",
       "\n",
       "    .dataframe tbody tr th {\n",
       "        vertical-align: top;\n",
       "    }\n",
       "\n",
       "    .dataframe thead th {\n",
       "        text-align: right;\n",
       "    }\n",
       "</style>\n",
       "<table border=\"1\" class=\"dataframe\">\n",
       "  <thead>\n",
       "    <tr style=\"text-align: right;\">\n",
       "      <th></th>\n",
       "      <th>cql</th>\n",
       "      <th>sac</th>\n",
       "      <th>random</th>\n",
       "    </tr>\n",
       "  </thead>\n",
       "  <tbody>\n",
       "    <tr>\n",
       "      <th>dm</th>\n",
       "      <td>0.788694</td>\n",
       "      <td>8.469130</td>\n",
       "      <td>0.135638</td>\n",
       "    </tr>\n",
       "    <tr>\n",
       "      <th>tis</th>\n",
       "      <td>209.512325</td>\n",
       "      <td>18.978399</td>\n",
       "      <td>208.957771</td>\n",
       "    </tr>\n",
       "    <tr>\n",
       "      <th>pdis</th>\n",
       "      <td>80.678807</td>\n",
       "      <td>23.071533</td>\n",
       "      <td>111.203962</td>\n",
       "    </tr>\n",
       "    <tr>\n",
       "      <th>dr</th>\n",
       "      <td>0.030321</td>\n",
       "      <td>0.025018</td>\n",
       "      <td>0.033491</td>\n",
       "    </tr>\n",
       "    <tr>\n",
       "      <th>sntis</th>\n",
       "      <td>209.004321</td>\n",
       "      <td>0.796275</td>\n",
       "      <td>107.532673</td>\n",
       "    </tr>\n",
       "    <tr>\n",
       "      <th>snpdis</th>\n",
       "      <td>27.950099</td>\n",
       "      <td>0.091299</td>\n",
       "      <td>1.569566</td>\n",
       "    </tr>\n",
       "    <tr>\n",
       "      <th>sndr</th>\n",
       "      <td>138.105994</td>\n",
       "      <td>124.064093</td>\n",
       "      <td>44.577400</td>\n",
       "    </tr>\n",
       "  </tbody>\n",
       "</table>\n",
       "</div>"
      ],
      "text/plain": [
       "               cql         sac      random\n",
       "dm        0.788694    8.469130    0.135638\n",
       "tis     209.512325   18.978399  208.957771\n",
       "pdis     80.678807   23.071533  111.203962\n",
       "dr        0.030321    0.025018    0.033491\n",
       "sntis   209.004321    0.796275  107.532673\n",
       "snpdis   27.950099    0.091299    1.569566\n",
       "sndr    138.105994  124.064093   44.577400"
      ]
     },
     "execution_count": 49,
     "metadata": {},
     "output_type": "execute_result"
    }
   ],
   "source": [
    "# squared-error (se) measures the estimation accuracy of OPE\n",
    "eval_metric_ope_df = ope.evaluate_performance_of_ope_estimators(\n",
    "    input_dict, \n",
    "    metric=\"se\",\n",
    "    return_by_dataframe=True,\n",
    ")\n",
    "eval_metric_ope_df"
   ]
  },
  {
   "cell_type": "markdown",
   "metadata": {},
   "source": [
    "For examples regarding the discrete action space, please refer to [examples/quickstart/rtb_synthetic_discrete_basic.ipynb](https://github.com/negocia-inc/rtb_reinforcement_learing/blob/ope/examples/quickstart/rtb_synthetic_discrete_basic.ipynb)."
   ]
  },
  {
   "cell_type": "markdown",
   "metadata": {},
   "source": [
    "## Reference\n",
    "\n",
    "- Yuta Saito, Shunsuke Aihara, Megumi Matsutani, and Yusuke Narita. \\\n",
    "\"Open Bandit Dataset and Pipeline: Towards Realistic and Reproducible Off-Policy Evaluation.\", 2021.\n",
    "\n",
    "- Takuma Seno and Michita Imai. \\\n",
    "\"d3rlpy: An Offline Deep Reinforcement Library.\", 2021.\n",
    "\n",
    "- Sergey Levine, Aviral Kumar, George Tucker, and Justin Fu. \\\n",
    "\"Offline Reinforcement Learning: Tutorial, Review, and Perspectives on Open Problems.\" 2020.\n",
    "\n",
    "- Aviral Kumar, Aurick Zhou, George Tucker, and Sergey Levine. \\\n",
    "\"Conservative Q-Learning for Offline Reinforcement Learning.\", 2020.\n",
    "\n",
    "- Nathan Kallus and Masatoshi Uehara. \\\n",
    "\"Intrinsically Efficient, Stable, and Bounded Off-Policy Evaluation for Reinforcement Learning.\", 2019.\n",
    "\n",
    "- Hoang Le, Cameron Voloshin, and Yisong Yue. \\\n",
    "\"Batch Policy Learning under Constraints.\", 2019.\n",
    "\n",
    "- Tuomas Haarnoja, Aurick Zhou, Pieter Abbeel, and Sergey Levine. \\\n",
    "\"Soft Actor-Critic: Off-Policy Maximum Entropy Deep Reinforcement Learning with a Stochastic Actor.\" 2018.\n",
    "\n",
    "- Di Wu, Xiujun Chen, Xun Yang, Hao Wang, Qing Tan, Xiaoxun Zhang, Jian Xu, and Kun Gai. \\\n",
    "\"Budget Constrained Bidding by Model-free Reinforcement Learning in Display Advertising.\", 2018.\n",
    "\n",
    "- Jun Zhao, Guang Qiu, Ziyu Guan, Wei Zhao, and Xiaofei He. \\\n",
    "\"Deep Reinforcement Learning for Sponsored Search Real-time Bidding.\", 2018.\n",
    "\n",
    "- Nan Jiang and Lihong Li. \\\n",
    "\"Doubly Robust Off-policy Value Evaluation for Reinforcement Learning.\", 2016.\n",
    "\n",
    "- Philip S. Thomas and Emma Brunskill. \\\n",
    "\"Data-Efficient Off-Policy Policy Evaluation for Reinforcement Learning.\", 2016.\n",
    "\n",
    "- Greg Brockman, Vicki Cheung, Ludwig Pettersson, Jonas Schneider, John Schulman, Jie Tang, and Wojciech Zaremba. \\\n",
    "\"OpenAI Gym.\", 2016.\n",
    "\n",
    "- Adith Swaminathan and Thorsten Joachims. \\\n",
    "\"The Self-Normalized Estimator for Counterfactual Learning.\", 2015.\n",
    "\n",
    "- Miroslav Dudík, Dumitru Erhan, John Langford, and Lihong Li. \\\n",
    "\"Doubly Robust Policy Evaluation and Optimization.\", 2014.\n",
    "\n",
    "- Alex Strehl, John Langford, Sham Kakade, and Lihong Li. \\\n",
    "\"Learning from Logged Implicit Exploration Data.\", 2010.\n",
    "\n",
    "- Alina Beygelzimer and John Langford. \\\n",
    "\"The Offset Tree for Learning with Partial Labels.\", 2009.\n",
    "\n",
    "- Doina Precup, Richard S. Sutton, and Satinder P. Singh. \\\n",
    "\"Eligibility Traces for Off-Policy Policy Evaluation.\", 2000."
   ]
  },
  {
   "cell_type": "code",
   "execution_count": null,
   "metadata": {},
   "outputs": [],
   "source": []
  }
 ],
 "metadata": {
  "kernelspec": {
   "display_name": "Python 3",
   "language": "python",
   "name": "python3"
  },
  "language_info": {
   "codemirror_mode": {
    "name": "ipython",
    "version": 3
   },
   "file_extension": ".py",
   "mimetype": "text/x-python",
   "name": "python",
   "nbconvert_exporter": "python",
   "pygments_lexer": "ipython3",
   "version": "3.8.5"
  },
  "vscode": {
   "interpreter": {
    "hash": "eeb0e296031d5f4c93e05211083c58e9e78a3e8af86402f626ea4098c0a5e991"
   }
  }
 },
 "nbformat": 4,
 "nbformat_minor": 4
}
