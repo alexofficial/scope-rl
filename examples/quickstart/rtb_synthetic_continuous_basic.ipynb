{
 "cells": [
  {
   "cell_type": "markdown",
   "metadata": {},
   "source": [
    "# Quickstart Example with Synthetic RTB Simulation and Dataset (Continuous)\n",
    "This notebook provides an example of conducting **Off-policy Evaluation (OPE) and Offline Reinforcement Learning (Offline RL) with synthetic Real-Time Bidding (RTB) dataset**.\n",
    "\n",
    "Our example with Synthetic RTB Simualtion and Dataset contains the following 5 steps:\n",
    "0. (Setup Synthetic RTB Simulation Environment and Online RL)\n",
    "1. Synthetic Data Generation\n",
    "2. Offline Reinforcement Learning\n",
    "3. Off-Policy Evaluation and Evaluation of Offline RL methods\n",
    "4. Evaluation of OPE methods\n",
    "\n",
    "We also show how to visualize the results in Appendix.\n",
    "\n",
    "\\* This library uses [d3rlpy](https://github.com/takuseno/d3rlpy)'s algorithm implementations of online/offline rl policies and model-based evaluation.  \n",
    "\\* Also, our implementations of OPE are highly inspired by [Open Bandit Pipeline](https://github.com/st-tech/zr-obp)."
   ]
  },
  {
   "cell_type": "code",
   "execution_count": 1,
   "metadata": {},
   "outputs": [
    {
     "name": "stdout",
     "output_type": "stream",
     "text": [
      "The history saving thread hit an unexpected error (DatabaseError('database disk image is malformed')).History will not be written to the database.\n"
     ]
    }
   ],
   "source": [
    "# delete later\n",
    "%load_ext autoreload\n",
    "%autoreload 2"
   ]
  },
  {
   "cell_type": "code",
   "execution_count": 2,
   "metadata": {},
   "outputs": [],
   "source": [
    "# delete later\n",
    "import warnings\n",
    "warnings.simplefilter('ignore')"
   ]
  },
  {
   "cell_type": "code",
   "execution_count": 3,
   "metadata": {},
   "outputs": [],
   "source": [
    "# delete later\n",
    "import sys\n",
    "sys.path.append('../')\n",
    "sys.path.append('../../')"
   ]
  },
  {
   "cell_type": "code",
   "execution_count": 4,
   "metadata": {},
   "outputs": [],
   "source": [
    "# import offlinegym modules\n",
    "import offlinegym\n",
    "from rtbgym import RTBEnv, CustomizedRTBEnv\n",
    "from offlinegym.dataset import SyntheticDataset\n",
    "from offlinegym.policy import OnlineHead, ContinuousTruncatedGaussianHead\n",
    "from offlinegym.ope.online import (\n",
    "    calc_on_policy_policy_value,\n",
    "    visualize_on_policy_policy_value,\n",
    ")\n",
    "\n",
    "# import d3rlpy algorithms\n",
    "from d3rlpy.algos import DiscreteRandomPolicy\n",
    "from d3rlpy.algos import RandomPolicy as ContinuousRandomPolicy\n",
    "from d3rlpy.preprocessing import MinMaxActionScaler\n",
    "\n",
    "# import from other libraries\n",
    "import torch\n",
    "from sklearn.linear_model import LogisticRegression\n",
    "from sklearn.model_selection import train_test_split"
   ]
  },
  {
   "cell_type": "code",
   "execution_count": 5,
   "metadata": {},
   "outputs": [],
   "source": [
    "import pickle\n",
    "from glob import glob\n",
    "from tqdm import tqdm\n",
    "\n",
    "import numpy as np\n",
    "import pandas as pd\n",
    "\n",
    "import matplotlib.pyplot as plt\n",
    "import seaborn as sns\n",
    "\n",
    "%matplotlib inline"
   ]
  },
  {
   "cell_type": "code",
   "execution_count": 6,
   "metadata": {},
   "outputs": [
    {
     "name": "stdout",
     "output_type": "stream",
     "text": [
      "0.0.0\n"
     ]
    }
   ],
   "source": [
    "# version\n",
    "print(offlinegym.__version__)"
   ]
  },
  {
   "cell_type": "code",
   "execution_count": 7,
   "metadata": {},
   "outputs": [],
   "source": [
    "# set random state\n",
    "random_state = 12345"
   ]
  },
  {
   "cell_type": "code",
   "execution_count": 8,
   "metadata": {},
   "outputs": [],
   "source": [
    "# log directory\n",
    "from pathlib import Path\n",
    "Path(\"logs/\").mkdir(exist_ok=True)"
   ]
  },
  {
   "cell_type": "markdown",
   "metadata": {},
   "source": [
    "## 0. (Setup Synthetic RTB Simulation Environment and Online RL)\n",
    "To begin with, we briefly describe how the RTB environment works for the preparation.\n",
    "\n",
    "#### RL setup for RTB\n",
    "In RTB, the objective of the RL agent is to maximize some KPIs (such as numbers of click or conversion) within a episode under the given budget constraints.  \n",
    "We often try to achieve this by adjusting bidding price function parameter $\\alpha$. By using $\\alpha$, we adjust bid price as follows.  \n",
    "$bid_{t,i} = \\alpha \\cdot r^{\\ast}$, \n",
    "where $r^{\\ast}$ denotes predicted or expected reward (KPIs).\n",
    "\n",
    "We often formulate this RTB problem as the following Constrained Markov Decision Process (CMDP):\n",
    "- `timestep`: One episode (a day or a week) consists of several timesteps (24 hours or seven days, for instance).\n",
    "- `state`: We observe statistical feedback from environment at each timestep, which include following informations.\n",
    "  - timestep\n",
    "  - remaining budget\n",
    "  - impression level features (budget comsuption rate, cost per mille of impressions, auction winning rate, reward) at previous timestep\n",
    "  - adjust rate (RL agent's decision making) at previous timestep\n",
    "- `action`: Agent chooses adjust rate parameter $\\alpha$ to maximize KPIs.\n",
    "- `reward`: Total number of clicks or conversions obtained during the timestep.\n",
    "- `constraints`: The pre-determined episodic budget should not be exceeded.\n",
    "\n",
    "For more about the environmental configuration , please refer to [examples/quickstart/rtb_synthetic_customize_env.ipynb](https://github.com/negocia-inc/rtb_reinforcement_learing/blob/ope/examples/quickstart/rtb_synthetic_customize_env.ipynb).\n",
    "\n",
    "Let's see how it works!"
   ]
  },
  {
   "cell_type": "code",
   "execution_count": 9,
   "metadata": {},
   "outputs": [],
   "source": [
    "# setup environment\n",
    "env = RTBEnv(random_state=random_state)"
   ]
  },
  {
   "cell_type": "code",
   "execution_count": 10,
   "metadata": {},
   "outputs": [],
   "source": [
    "# define random agent\n",
    "agent = OnlineHead(\n",
    "    ContinuousRandomPolicy(\n",
    "        action_scaler=MinMaxActionScaler(\n",
    "            minimum=0.1,  # minimum value that policy can take\n",
    "            maximum=10,  # maximum value that policy can take\n",
    "        )\n",
    "    )\n",
    ")"
   ]
  },
  {
   "cell_type": "code",
   "execution_count": 11,
   "metadata": {},
   "outputs": [],
   "source": [
    "# interact agent with environment\n",
    "# only 6 lines needed for RL interaction\n",
    "for episode in range(10):\n",
    "    obs = env.reset()\n",
    "    done = False\n",
    "\n",
    "    while not done:\n",
    "        action = agent.predict_online(obs)\n",
    "        obs, reward, done, info = env.step(action)"
   ]
  },
  {
   "cell_type": "code",
   "execution_count": 12,
   "metadata": {},
   "outputs": [
    {
     "name": "stdout",
     "output_type": "stream",
     "text": [
      "['timestep', 'remaining_budget', 'budget_consumption_rate', 'cost_per_mille_of_impression', 'winning_rate', 'reward', 'adjust_rate']\n",
      "(7,)\n"
     ]
    }
   ],
   "source": [
    "# state contains the following statistical feedback from environment\n",
    "print(env.obs_keys)\n",
    "print(obs.shape)"
   ]
  },
  {
   "cell_type": "code",
   "execution_count": 13,
   "metadata": {},
   "outputs": [
    {
     "data": {
      "image/png": "[encoded data removed]",
      "text/plain": [
       "<Figure size 432x288 with 2 Axes>"
      ]
     },
     "metadata": {
      "needs_background": "light"
     },
     "output_type": "display_data"
    }
   ],
   "source": [
    "# let's visualize the transition of remaing budget and cumulative reward\n",
    "# our goal is to gain a policy (i.e., agent) which maximize the cumulative reward under budget constraints using RL.  \n",
    "# for more visulization, please see appendix.\n",
    "obs = env.reset()\n",
    "done = False\n",
    "remaining_budget = [obs[1]]\n",
    "cumulative_reward = [0]\n",
    "\n",
    "while not done:\n",
    "    action = agent.predict_online(obs)\n",
    "    obs, reward, done, info = env.step(action)\n",
    "    remaining_budget.append(obs[1])\n",
    "    cumulative_reward.append(cumulative_reward[-1] + reward)\n",
    "\n",
    "# plot\n",
    "fig = plt.figure()\n",
    "ax1 = fig.add_subplot(111)\n",
    "ax1.plot(remaining_budget[:-1], label='remaining budget')\n",
    "ax2 = ax1.twinx()\n",
    "ax2.plot(cumulative_reward[:-1], label='cumulative reward', color='tab:orange')\n",
    "ax1.set_xlabel('timestep')\n",
    "ax1.set_ylabel('remainig budget')\n",
    "ax1.set_ylim(0, env.initial_budget + 100)\n",
    "ax2.set_ylabel('reward (coversion)')\n",
    "ax1.legend(loc='upper left')\n",
    "ax2.legend(loc='upper right')\n",
    "plt.show()"
   ]
  },
  {
   "cell_type": "markdown",
   "metadata": {},
   "source": [
    "We see that the random policy soon run out the budget.  \n",
    "Our goal is to derive a policy that controls the adjust rate (i.e., action) to maximize the reward within the given budget constraints.\n",
    "\n",
    "For the customization of environmental configuration (e.g., WinningPriceDistribution) and visualization, please refer to `rtb_synthetic_customize_environment.ipynb`."
   ]
  },
  {
   "cell_type": "markdown",
   "metadata": {},
   "source": [
    "#### Customization of bidding setup in RTB Env\n",
    "Here, we describe how the decision makers customize their own RTB environment.  \n",
    "Specifically, they can setup their own action space and bid price calculation rules by defining the following modules.\n",
    "- `reward_predictor` in Bidder class  \n",
    "    We use predicted rewards to calculate bid price.  \n",
    "        bid price = adjust rate * predicted reward ( * constant)\n",
    "    If None, we use ground-truth reward instead of predicted reward.  \n",
    "\n",
    "- `scaler` in Bidder class\n",
    "    Scaler defines constant in the bid price calculation.  \n",
    "        bid price = adjust rate * predicted reward ( * constant)\n",
    "        constant = scaler * standard_bid_price\n",
    "    where standard_bid_price indicates the average of standard_bid_price  \n",
    "    (bid price which has approximately 50% impression probability) over all ads.\n",
    "\n",
    "- `action_space` for agent  \n",
    "    We transform continual adjust rate space $[0, \\infty)$ into agent action space $[0.1, 10]$.  \n",
    "    Both discrete and continuous actions are acceptable.  \n",
    "    (We can tune multiplication of adjust rate using scaler.)\n",
    "    \n",
    "The arguments are given as follows:\n",
    "- `original_env`: Original RTB Environment.\n",
    "- `reward_predictor`: A machine learning model to predict the reward to determine the bidding price.\n",
    "- `scaler`: Scaling factor (constant value) used for bid price determination. (`None` for the auto-fitting)\n",
    "- `action_min`: Minimum value of adjust rate.\n",
    "- `action_max`: Maximum value of adjust rate.\n",
    "- `action_type`: Action type of the RL agent, which is either \"discrete\" or \"continuous\".\n",
    "- `n_actions`: Number of \"discrete\" actions.\n",
    "- `action_meaning`: Mapping function of agent action index to the actual \"discrete\" action to take."
   ]
  },
  {
   "cell_type": "code",
   "execution_count": 14,
   "metadata": {},
   "outputs": [],
   "source": [
    "# now, let's customize the environment with reward predictor\n",
    "env = CustomizedRTBEnv(\n",
    "    original_env=env,\n",
    "    reward_predictor=LogisticRegression(),\n",
    "    action_type=\"continuous\",\n",
    ")"
   ]
  },
  {
   "cell_type": "code",
   "execution_count": 15,
   "metadata": {},
   "outputs": [],
   "source": [
    "# interact agent with environment\n",
    "for episode in range(10):\n",
    "    obs = env.reset()\n",
    "    done = False\n",
    "\n",
    "    while not done:\n",
    "        action = agent.predict_online(obs)\n",
    "        obs, reward, done, info = env.step(action)"
   ]
  },
  {
   "cell_type": "code",
   "execution_count": 16,
   "metadata": {},
   "outputs": [
    {
     "name": "stdout",
     "output_type": "stream",
     "text": [
      "Box(0.1, 10.0, (1,), float64)\n"
     ]
    }
   ],
   "source": [
    "print(env.action_space)"
   ]
  },
  {
   "cell_type": "markdown",
   "metadata": {},
   "source": [
    "#### Online RL and comparison of the policies\n",
    "We now learn an online RL policy and compare it to random policy, using on-policy policy estimation."
   ]
  },
  {
   "cell_type": "code",
   "execution_count": 17,
   "metadata": {},
   "outputs": [],
   "source": [
    "from d3rlpy.algos import SAC\n",
    "from d3rlpy.models.encoders import VectorEncoderFactory\n",
    "from d3rlpy.models.q_functions import MeanQFunctionFactory\n",
    "from d3rlpy.online.buffers import ReplayBuffer\n",
    "\n",
    "# model\n",
    "sac = SAC(\n",
    "    actor_encoder_factory=VectorEncoderFactory(hidden_units=[30, 30]),\n",
    "    critic_encoder_factory=VectorEncoderFactory(hidden_units=[30, 30]),\n",
    "    q_func_factory=MeanQFunctionFactory(),\n",
    "    use_gpu=torch.cuda.is_available(),\n",
    "    action_scaler=MinMaxActionScaler(\n",
    "        minimum=env.action_space.low,   # 0.1\n",
    "        maximum=env.action_space.high,  # 10\n",
    "    ),\n",
    ")\n",
    "# setup replay buffer\n",
    "buffer = ReplayBuffer(\n",
    "    maxlen=10000,\n",
    "    env=env,\n",
    ")"
   ]
  },
  {
   "cell_type": "code",
   "execution_count": 18,
   "metadata": {},
   "outputs": [
    {
     "name": "stdout",
     "output_type": "stream",
     "text": [
      "2022-04-09 10:42.25 [info     ] Directory is created at d3rlpy_logs/SAC_online_20220409104225\n",
      "2022-04-09 10:42.25 [debug    ] Fitting action scaler...       action_scler=min_max\n",
      "2022-04-09 10:42.25 [debug    ] Building model...\n",
      "2022-04-09 10:42.25 [debug    ] Model has been built.\n",
      "2022-04-09 10:42.25 [info     ] Parameters are saved to d3rlpy_logs/SAC_online_20220409104225/params.json params={'action_scaler': {'type': 'min_max', 'params': {'minimum': array([0.1]), 'maximum': array([10.])}}, 'actor_encoder_factory': {'type': 'vector', 'params': {'hidden_units': [30, 30], 'activation': 'relu', 'use_batch_norm': False, 'dropout_rate': None, 'use_dense': False}}, 'actor_learning_rate': 0.0003, 'actor_optim_factory': {'optim_cls': 'Adam', 'betas': (0.9, 0.999), 'eps': 1e-08, 'weight_decay': 0, 'amsgrad': False}, 'batch_size': 256, 'critic_encoder_factory': {'type': 'vector', 'params': {'hidden_units': [30, 30], 'activation': 'relu', 'use_batch_norm': False, 'dropout_rate': None, 'use_dense': False}}, 'critic_learning_rate': 0.0003, 'critic_optim_factory': {'optim_cls': 'Adam', 'betas': (0.9, 0.999), 'eps': 1e-08, 'weight_decay': 0, 'amsgrad': False}, 'gamma': 0.99, 'generated_maxlen': 100000, 'initial_temperature': 1.0, 'n_critics': 2, 'n_frames': 1, 'n_steps': 1, 'q_func_factory': {'type': 'mean', 'params': {'bootstrap': False, 'share_encoder': False}}, 'real_ratio': 1.0, 'reward_scaler': None, 'scaler': None, 'target_reduction_type': 'min', 'tau': 0.005, 'temp_learning_rate': 0.0003, 'temp_optim_factory': {'optim_cls': 'Adam', 'betas': (0.9, 0.999), 'eps': 1e-08, 'weight_decay': 0, 'amsgrad': False}, 'use_gpu': None, 'algorithm': 'SAC', 'observation_shape': (7,), 'action_size': 1}\n"
     ]
    },
    {
     "name": "stderr",
     "output_type": "stream",
     "text": [
      "  1%|          | 990/100000 [00:06<17:28, 94.39it/s] "
     ]
    },
    {
     "name": "stdout",
     "output_type": "stream",
     "text": [
      "2022-04-09 10:42.32 [info     ] Model parameters are saved to d3rlpy_logs/SAC_online_20220409104225/model_1000.pt\n",
      "2022-04-09 10:42.32 [info     ] SAC_online_20220409104225: epoch=1 step=1000 epoch=1 metrics={'time_inference': 0.0006456437110900879, 'time_environment_step': 0.0007423556191580636, 'time_step': 0.00680603837966919, 'rollout_return': 14.408, 'time_sample_batch': 0.0003021606461499334, 'time_algorithm_update': 0.007401907123635817, 'temp_loss': -8.438813447615045, 'temp': 1.071618863008653, 'critic_loss': 5418.2810776425895, 'actor_loss': -36.43066995450766, 'evaluation': 15.3} step=1000\n"
     ]
    },
    {
     "name": "stderr",
     "output_type": "stream",
     "text": [
      "  2%|▏         | 1994/100000 [00:15<13:54, 117.42it/s]"
     ]
    },
    {
     "name": "stdout",
     "output_type": "stream",
     "text": [
      "2022-04-09 10:42.41 [info     ] Model parameters are saved to d3rlpy_logs/SAC_online_20220409104225/model_2000.pt\n",
      "2022-04-09 10:42.41 [info     ] SAC_online_20220409104225: epoch=2 step=2000 epoch=2 metrics={'time_inference': 0.0006181755065917968, 'time_environment_step': 0.0007488288879394531, 'time_sample_batch': 0.00030256342887878415, 'time_algorithm_update': 0.006734182834625244, 'temp_loss': -3.195833703994751, 'temp': 1.1937804238796235, 'critic_loss': 211.7515786819458, 'actor_loss': -0.11808491614460945, 'time_step': 0.008380924701690674, 'rollout_return': 14.592, 'evaluation': 16.2} step=2000\n"
     ]
    },
    {
     "name": "stderr",
     "output_type": "stream",
     "text": [
      "  3%|▎         | 2996/100000 [00:25<14:34, 110.92it/s]"
     ]
    },
    {
     "name": "stdout",
     "output_type": "stream",
     "text": [
      "2022-04-09 10:42.51 [info     ] Model parameters are saved to d3rlpy_logs/SAC_online_20220409104225/model_3000.pt\n",
      "2022-04-09 10:42.51 [info     ] SAC_online_20220409104225: epoch=3 step=3000 epoch=3 metrics={'time_inference': 0.0006640400886535645, 'time_environment_step': 0.0007984570094517299, 'time_sample_batch': 0.0003303806781768799, 'time_algorithm_update': 0.008030237674713135, 'temp_loss': -3.8503438423871996, 'temp': 1.4495252836942674, 'critic_loss': 198.89133918762207, 'actor_loss': 12.688186116695404, 'time_step': 0.009798588514328002, 'rollout_return': 14.6, 'evaluation': 14.5} step=3000\n"
     ]
    },
    {
     "name": "stderr",
     "output_type": "stream",
     "text": [
      "  4%|▍         | 3991/100000 [00:36<25:09, 63.61it/s] "
     ]
    },
    {
     "name": "stdout",
     "output_type": "stream",
     "text": [
      "2022-04-09 10:43.01 [info     ] Model parameters are saved to d3rlpy_logs/SAC_online_20220409104225/model_4000.pt\n",
      "2022-04-09 10:43.01 [info     ] SAC_online_20220409104225: epoch=4 step=4000 epoch=4 metrics={'time_inference': 0.0006869003772735596, 'time_environment_step': 0.0008147068023681641, 'time_sample_batch': 0.000363839864730835, 'time_algorithm_update': 0.008407987117767335, 'temp_loss': -5.0649201567173, 'temp': 1.9372369357347488, 'critic_loss': 335.5654123535156, 'actor_loss': 20.30677181148529, 'time_step': 0.010249861717224121, 'rollout_return': 14.712, 'evaluation': 14.3} step=4000\n"
     ]
    },
    {
     "name": "stderr",
     "output_type": "stream",
     "text": [
      "  5%|▍         | 4998/100000 [00:47<1:07:14, 23.55it/s]"
     ]
    },
    {
     "name": "stdout",
     "output_type": "stream",
     "text": [
      "2022-04-09 10:43.12 [info     ] Model parameters are saved to d3rlpy_logs/SAC_online_20220409104225/model_5000.pt\n",
      "2022-04-09 10:43.12 [info     ] SAC_online_20220409104225: epoch=5 step=5000 epoch=5 metrics={'time_inference': 0.0006893110275268554, 'time_environment_step': 0.0008106297084263393, 'time_sample_batch': 0.0003487212657928467, 'time_algorithm_update': 0.008725260496139526, 'temp_loss': -7.318801837444306, 'temp': 2.7555326130390165, 'critic_loss': 673.5451787719727, 'actor_loss': 31.284176065444946, 'time_step': 0.010548845052719117, 'rollout_return': 14.456, 'evaluation': 16.3} step=5000\n"
     ]
    },
    {
     "name": "stderr",
     "output_type": "stream",
     "text": [
      "  6%|▌         | 5998/100000 [01:25<1:15:35, 20.72it/s]"
     ]
    },
    {
     "name": "stdout",
     "output_type": "stream",
     "text": [
      "2022-04-09 10:43.50 [info     ] Model parameters are saved to d3rlpy_logs/SAC_online_20220409104225/model_6000.pt\n",
      "2022-04-09 10:43.51 [info     ] SAC_online_20220409104225: epoch=6 step=6000 epoch=6 metrics={'time_inference': 0.0008139724731445312, 'time_environment_step': 0.0009721554347446986, 'time_sample_batch': 0.0003677568435668945, 'time_algorithm_update': 0.03261432647705078, 'temp_loss': -10.56037668967247, 'temp': 4.0278258152008055, 'critic_loss': 1397.7171087646484, 'actor_loss': 47.09887529373169, 'time_step': 0.034731295824050906, 'rollout_return': 14.984, 'evaluation': 16.3} step=6000\n"
     ]
    },
    {
     "name": "stderr",
     "output_type": "stream",
     "text": [
      "  7%|▋         | 6999/100000 [02:07<1:49:26, 14.16it/s]"
     ]
    },
    {
     "name": "stdout",
     "output_type": "stream",
     "text": [
      "2022-04-09 10:44.33 [info     ] Model parameters are saved to d3rlpy_logs/SAC_online_20220409104225/model_7000.pt\n",
      "2022-04-09 10:44.33 [info     ] SAC_online_20220409104225: epoch=7 step=7000 epoch=7 metrics={'time_inference': 0.000887005090713501, 'time_environment_step': 0.0009910989488874163, 'time_sample_batch': 0.0005028703212738037, 'time_algorithm_update': 0.036135818481445314, 'temp_loss': -15.485686466693878, 'temp': 5.924194759368897, 'critic_loss': 2995.6240645751955, 'actor_loss': 70.77998680114746, 'time_step': 0.038505547285079954, 'rollout_return': 14.376, 'evaluation': 15.6} step=7000\n"
     ]
    },
    {
     "name": "stderr",
     "output_type": "stream",
     "text": [
      "  8%|▊         | 7998/100000 [02:56<1:07:18, 22.78it/s]"
     ]
    },
    {
     "name": "stdout",
     "output_type": "stream",
     "text": [
      "2022-04-09 10:45.22 [info     ] Model parameters are saved to d3rlpy_logs/SAC_online_20220409104225/model_8000.pt\n",
      "2022-04-09 10:45.22 [info     ] SAC_online_20220409104225: epoch=8 step=8000 epoch=8 metrics={'time_inference': 0.0010058860778808594, 'time_environment_step': 0.0012172342027936664, 'time_sample_batch': 0.00046703362464904787, 'time_algorithm_update': 0.04181966185569763, 'temp_loss': -22.88671433353424, 'temp': 8.780213810443879, 'critic_loss': 6514.890832763672, 'actor_loss': 106.3825157699585, 'time_step': 0.0444759304523468, 'rollout_return': 14.704, 'evaluation': 13.4} step=8000\n"
     ]
    },
    {
     "name": "stderr",
     "output_type": "stream",
     "text": [
      "  9%|▉         | 8998/100000 [03:45<2:10:22, 11.63it/s]"
     ]
    },
    {
     "name": "stdout",
     "output_type": "stream",
     "text": [
      "2022-04-09 10:46.10 [info     ] Model parameters are saved to d3rlpy_logs/SAC_online_20220409104225/model_9000.pt\n",
      "2022-04-09 10:46.10 [info     ] SAC_online_20220409104225: epoch=9 step=9000 epoch=9 metrics={'time_inference': 0.000930274486541748, 'time_environment_step': 0.0011333133152553014, 'time_sample_batch': 0.0004687542915344238, 'time_algorithm_update': 0.042070993185043336, 'temp_loss': -33.649416139602664, 'temp': 12.954859279632569, 'critic_loss': 14069.903180664063, 'actor_loss': 157.5249170150757, 'time_step': 0.04456369638442993, 'rollout_return': 14.64, 'evaluation': 13.4} step=9000\n"
     ]
    },
    {
     "name": "stderr",
     "output_type": "stream",
     "text": [
      " 10%|▉         | 9998/100000 [04:32<1:28:35, 16.93it/s]"
     ]
    },
    {
     "name": "stdout",
     "output_type": "stream",
     "text": [
      "2022-04-09 10:46.57 [info     ] Model parameters are saved to d3rlpy_logs/SAC_online_20220409104225/model_10000.pt\n",
      "2022-04-09 10:46.57 [info     ] SAC_online_20220409104225: epoch=10 step=10000 epoch=10 metrics={'time_inference': 0.001042712450027466, 'time_environment_step': 0.0011369846888950894, 'time_sample_batch': 0.0004729304313659668, 'time_algorithm_update': 0.03989130282402038, 'temp_loss': -50.13683067131043, 'temp': 19.192939391136168, 'critic_loss': 31054.582671875, 'actor_loss': 235.93674533081054, 'time_step': 0.04252557063102722, 'rollout_return': 14.16, 'evaluation': 12.5} step=10000\n"
     ]
    },
    {
     "name": "stderr",
     "output_type": "stream",
     "text": [
      " 11%|█         | 10996/100000 [05:21<1:28:39, 16.73it/s]"
     ]
    },
    {
     "name": "stdout",
     "output_type": "stream",
     "text": [
      "2022-04-09 10:47.47 [info     ] Model parameters are saved to d3rlpy_logs/SAC_online_20220409104225/model_11000.pt\n",
      "2022-04-09 10:47.47 [info     ] SAC_online_20220409104225: epoch=11 step=11000 epoch=11 metrics={'time_inference': 0.0010195538997650147, 'time_environment_step': 0.001164271763392857, 'time_sample_batch': 0.0004799292087554932, 'time_algorithm_update': 0.04285553383827209, 'temp_loss': -73.04701663970947, 'temp': 28.38901036834717, 'critic_loss': 67044.677640625, 'actor_loss': 346.318786605835, 'time_step': 0.04551929593086243, 'rollout_return': 14.272, 'evaluation': 14.3} step=11000\n"
     ]
    },
    {
     "name": "stderr",
     "output_type": "stream",
     "text": [
      " 12%|█▏        | 11999/100000 [06:17<1:04:23, 22.78it/s]"
     ]
    },
    {
     "name": "stdout",
     "output_type": "stream",
     "text": [
      "2022-04-09 10:48.42 [info     ] Model parameters are saved to d3rlpy_logs/SAC_online_20220409104225/model_12000.pt\n",
      "2022-04-09 10:48.42 [info     ] SAC_online_20220409104225: epoch=12 step=12000 epoch=12 metrics={'time_inference': 0.0010249810218811036, 'time_environment_step': 0.0012743315015520367, 'time_sample_batch': 0.00046314382553100587, 'time_algorithm_update': 0.047837409019470215, 'temp_loss': -107.64216180801391, 'temp': 41.902435054779055, 'critic_loss': 147574.526296875, 'actor_loss': 512.0062845458984, 'time_step': 0.050552648067474365, 'rollout_return': 14.216, 'evaluation': 15.5} step=12000\n"
     ]
    },
    {
     "name": "stderr",
     "output_type": "stream",
     "text": [
      " 13%|█▎        | 12999/100000 [07:06<1:39:32, 14.57it/s]"
     ]
    },
    {
     "name": "stdout",
     "output_type": "stream",
     "text": [
      "2022-04-09 10:49.31 [info     ] Model parameters are saved to d3rlpy_logs/SAC_online_20220409104225/model_13000.pt\n",
      "2022-04-09 10:49.31 [info     ] SAC_online_20220409104225: epoch=13 step=13000 epoch=13 metrics={'time_inference': 0.0009725892543792725, 'time_environment_step': 0.0011596567971365792, 'time_sample_batch': 0.0005102076530456543, 'time_algorithm_update': 0.041818358182907106, 'temp_loss': -155.8452823410034, 'temp': 61.89787126922607, 'critic_loss': 316357.6000625, 'actor_loss': 748.4039128417969, 'time_step': 0.04443208527565003, 'rollout_return': 14.744, 'evaluation': 17.5} step=13000\n"
     ]
    },
    {
     "name": "stderr",
     "output_type": "stream",
     "text": [
      " 14%|█▍        | 13998/100000 [08:00<1:32:28, 15.50it/s]"
     ]
    },
    {
     "name": "stdout",
     "output_type": "stream",
     "text": [
      "2022-04-09 10:50.26 [info     ] Model parameters are saved to d3rlpy_logs/SAC_online_20220409104225/model_14000.pt\n",
      "2022-04-09 10:50.26 [info     ] SAC_online_20220409104225: epoch=14 step=14000 epoch=14 metrics={'time_inference': 0.0010269310474395753, 'time_environment_step': 0.0010882647378104074, 'time_sample_batch': 0.0005286722183227539, 'time_algorithm_update': 0.04703078532218933, 'temp_loss': -234.60529732513427, 'temp': 91.65025426483155, 'critic_loss': 696286.20078125, 'actor_loss': 1109.4288373413085, 'time_step': 0.04968120765686035, 'rollout_return': 14.456, 'evaluation': 14.8} step=14000\n"
     ]
    },
    {
     "name": "stderr",
     "output_type": "stream",
     "text": [
      " 15%|█▍        | 14998/100000 [08:55<1:16:29, 18.52it/s]"
     ]
    },
    {
     "name": "stdout",
     "output_type": "stream",
     "text": [
      "2022-04-09 10:51.21 [info     ] Model parameters are saved to d3rlpy_logs/SAC_online_20220409104225/model_15000.pt\n",
      "2022-04-09 10:51.21 [info     ] SAC_online_20220409104225: epoch=15 step=15000 epoch=15 metrics={'time_inference': 0.0010625274181365967, 'time_environment_step': 0.001140401840209961, 'time_sample_batch': 0.0005235569477081299, 'time_algorithm_update': 0.04689580678939819, 'temp_loss': -345.9255838012695, 'temp': 135.61385511779784, 'critic_loss': 1534067.906125, 'actor_loss': 1638.156265625, 'time_step': 0.04961577796936035, 'rollout_return': 14.96, 'evaluation': 14.4} step=15000\n"
     ]
    },
    {
     "name": "stderr",
     "output_type": "stream",
     "text": [
      " 16%|█▌        | 15999/100000 [09:43<1:32:38, 15.11it/s]"
     ]
    },
    {
     "name": "stdout",
     "output_type": "stream",
     "text": [
      "2022-04-09 10:52.08 [info     ] Model parameters are saved to d3rlpy_logs/SAC_online_20220409104225/model_16000.pt\n",
      "2022-04-09 10:52.08 [info     ] SAC_online_20220409104225: epoch=16 step=16000 epoch=16 metrics={'time_inference': 0.0010588855743408202, 'time_environment_step': 0.001054675783429827, 'time_sample_batch': 0.0004951567649841309, 'time_algorithm_update': 0.04084081292152405, 'temp_loss': -510.9212713317871, 'temp': 201.27544943237305, 'critic_loss': 3357263.24375, 'actor_loss': 2415.5216677246094, 'time_step': 0.04342751240730286, 'rollout_return': 14.176, 'evaluation': 15.1} step=16000\n"
     ]
    },
    {
     "name": "stderr",
     "output_type": "stream",
     "text": [
      " 17%|█▋        | 16997/100000 [10:37<51:22, 26.93it/s]  "
     ]
    },
    {
     "name": "stdout",
     "output_type": "stream",
     "text": [
      "2022-04-09 10:53.02 [info     ] Model parameters are saved to d3rlpy_logs/SAC_online_20220409104225/model_17000.pt\n",
      "2022-04-09 10:53.02 [info     ] SAC_online_20220409104225: epoch=17 step=17000 epoch=17 metrics={'time_inference': 0.0010720345973968507, 'time_environment_step': 0.0011489453996930805, 'time_sample_batch': 0.000502877950668335, 'time_algorithm_update': 0.04608920621871948, 'temp_loss': -678.8998177433014, 'temp': 296.73641528320314, 'critic_loss': 6709416.7165, 'actor_loss': 3429.4410380859376, 'time_step': 0.048832597494125364, 'rollout_return': 14.344, 'evaluation': 14.4} step=17000\n"
     ]
    },
    {
     "name": "stderr",
     "output_type": "stream",
     "text": [
      " 18%|█▊        | 17999/100000 [11:27<1:11:26, 19.13it/s]"
     ]
    },
    {
     "name": "stdout",
     "output_type": "stream",
     "text": [
      "2022-04-09 10:53.53 [info     ] Model parameters are saved to d3rlpy_logs/SAC_online_20220409104225/model_18000.pt\n",
      "2022-04-09 10:53.53 [info     ] SAC_online_20220409104225: epoch=18 step=18000 epoch=18 metrics={'time_inference': 0.0009484233856201172, 'time_environment_step': 0.0011945231301443916, 'time_sample_batch': 0.0004982373714447022, 'time_algorithm_update': 0.04343462944030762, 'temp_loss': 325.69616374778747, 'temp': 327.5228712768555, 'critic_loss': 2300588.071671875, 'actor_loss': 1094.7574004592896, 'time_step': 0.0460427074432373, 'rollout_return': 14.384, 'evaluation': 13.2} step=18000\n"
     ]
    },
    {
     "name": "stderr",
     "output_type": "stream",
     "text": [
      " 19%|█▉        | 18996/100000 [12:19<1:02:39, 21.55it/s]"
     ]
    },
    {
     "name": "stdout",
     "output_type": "stream",
     "text": [
      "2022-04-09 10:54.44 [info     ] Model parameters are saved to d3rlpy_logs/SAC_online_20220409104225/model_19000.pt\n",
      "2022-04-09 10:54.44 [info     ] SAC_online_20220409104225: epoch=19 step=19000 epoch=19 metrics={'time_inference': 0.0009893927574157716, 'time_environment_step': 0.001269521985735212, 'time_sample_batch': 0.0005213792324066162, 'time_algorithm_update': 0.044095476150512694, 'temp_loss': 397.0198717651367, 'temp': 256.0689468688965, 'critic_loss': 245443.10984960938, 'actor_loss': -147.38809999895096, 'time_step': 0.046837882280349734, 'rollout_return': 14.464, 'evaluation': 15.0} step=19000\n"
     ]
    },
    {
     "name": "stderr",
     "output_type": "stream",
     "text": [
      " 20%|█▉        | 19998/100000 [13:09<1:12:49, 18.31it/s]"
     ]
    },
    {
     "name": "stdout",
     "output_type": "stream",
     "text": [
      "2022-04-09 10:55.35 [info     ] Model parameters are saved to d3rlpy_logs/SAC_online_20220409104225/model_20000.pt\n",
      "2022-04-09 10:55.35 [info     ] SAC_online_20220409104225: epoch=20 step=20000 epoch=20 metrics={'time_inference': 0.0009979488849639893, 'time_environment_step': 0.0011224171774727957, 'time_sample_batch': 0.0005483505725860596, 'time_algorithm_update': 0.04330425333976746, 'temp_loss': 319.9039303588867, 'temp': 199.99237005615234, 'critic_loss': 37499.672803710935, 'actor_loss': -325.8056293182373, 'time_step': 0.045954521179199216, 'rollout_return': 14.096, 'evaluation': 13.6} step=20000\n"
     ]
    },
    {
     "name": "stderr",
     "output_type": "stream",
     "text": [
      " 21%|██        | 20998/100000 [14:04<46:01, 28.61it/s]  "
     ]
    },
    {
     "name": "stdout",
     "output_type": "stream",
     "text": [
      "2022-04-09 10:56.29 [info     ] Model parameters are saved to d3rlpy_logs/SAC_online_20220409104225/model_21000.pt\n",
      "2022-04-09 10:56.29 [info     ] SAC_online_20220409104225: epoch=21 step=21000 epoch=21 metrics={'time_inference': 0.0010228667259216308, 'time_environment_step': 0.0011287779126848494, 'time_sample_batch': 0.0004893021583557129, 'time_algorithm_update': 0.0467913990020752, 'temp_loss': 248.06746007728577, 'temp': 158.39450941467285, 'critic_loss': 25914.516965820312, 'actor_loss': -289.382206407547, 'time_step': 0.04942176079750061, 'rollout_return': 14.424, 'evaluation': 15.4} step=21000\n"
     ]
    },
    {
     "name": "stderr",
     "output_type": "stream",
     "text": [
      " 22%|██▏       | 21996/100000 [14:56<35:15, 36.87it/s]  "
     ]
    },
    {
     "name": "stdout",
     "output_type": "stream",
     "text": [
      "2022-04-09 10:57.22 [info     ] Model parameters are saved to d3rlpy_logs/SAC_online_20220409104225/model_22000.pt\n",
      "2022-04-09 10:57.22 [info     ] SAC_online_20220409104225: epoch=22 step=22000 epoch=22 metrics={'time_inference': 0.0010231690406799316, 'time_environment_step': 0.0011525824410574777, 'time_sample_batch': 0.0005139527320861816, 'time_algorithm_update': 0.04509308362007141, 'temp_loss': 201.54344020080566, 'temp': 125.93902414703369, 'critic_loss': 13331.074690185547, 'actor_loss': -243.31575621032715, 'time_step': 0.047768864631652835, 'rollout_return': 14.232, 'evaluation': 14.3} step=22000\n"
     ]
    },
    {
     "name": "stderr",
     "output_type": "stream",
     "text": [
      " 23%|██▎       | 22999/100000 [15:46<1:41:55, 12.59it/s]"
     ]
    },
    {
     "name": "stdout",
     "output_type": "stream",
     "text": [
      "2022-04-09 10:58.12 [info     ] Model parameters are saved to d3rlpy_logs/SAC_online_20220409104225/model_23000.pt\n",
      "2022-04-09 10:58.12 [info     ] SAC_online_20220409104225: epoch=23 step=23000 epoch=23 metrics={'time_inference': 0.0010288567543029785, 'time_environment_step': 0.0011107466561453682, 'time_sample_batch': 0.0004939415454864502, 'time_algorithm_update': 0.04270106673240662, 'temp_loss': 159.8757766609192, 'temp': 100.42519256591797, 'critic_loss': 8494.066746826173, 'actor_loss': -195.29527142047883, 'time_step': 0.0452977786064148, 'rollout_return': 13.488, 'evaluation': 14.5} step=23000\n"
     ]
    },
    {
     "name": "stderr",
     "output_type": "stream",
     "text": [
      " 24%|██▍       | 23998/100000 [16:25<16:06, 78.62it/s]  "
     ]
    },
    {
     "name": "stdout",
     "output_type": "stream",
     "text": [
      "2022-04-09 10:58.51 [info     ] Model parameters are saved to d3rlpy_logs/SAC_online_20220409104225/model_24000.pt\n",
      "2022-04-09 10:58.51 [info     ] SAC_online_20220409104225: epoch=24 step=24000 epoch=24 metrics={'time_inference': 0.0009624037742614746, 'time_environment_step': 0.0010474927084786552, 'time_sample_batch': 0.0004973924160003662, 'time_algorithm_update': 0.03288458132743836, 'temp_loss': 129.5364433746338, 'temp': 80.22258944702149, 'critic_loss': 4354.632386108398, 'actor_loss': -161.17285092163087, 'time_step': 0.03537734317779541, 'rollout_return': 14.08, 'evaluation': 13.6} step=24000\n"
     ]
    },
    {
     "name": "stderr",
     "output_type": "stream",
     "text": [
      " 25%|██▍       | 24996/100000 [16:39<15:27, 80.87it/s]"
     ]
    },
    {
     "name": "stdout",
     "output_type": "stream",
     "text": [
      "2022-04-09 10:59.04 [info     ] Model parameters are saved to d3rlpy_logs/SAC_online_20220409104225/model_25000.pt\n",
      "2022-04-09 10:59.04 [info     ] SAC_online_20220409104225: epoch=25 step=25000 epoch=25 metrics={'time_inference': 0.0007944114208221436, 'time_environment_step': 0.001013974598475865, 'time_sample_batch': 0.00043828415870666505, 'time_algorithm_update': 0.010929194688796997, 'temp_loss': 101.96571737670898, 'temp': 64.15567567062378, 'critic_loss': 3287.58937890625, 'actor_loss': -125.81874382781983, 'time_step': 0.013146764516830445, 'rollout_return': 15.048, 'evaluation': 14.1} step=25000\n"
     ]
    },
    {
     "name": "stderr",
     "output_type": "stream",
     "text": [
      " 26%|██▌       | 25993/100000 [16:52<15:20, 80.39it/s]"
     ]
    },
    {
     "name": "stdout",
     "output_type": "stream",
     "text": [
      "2022-04-09 10:59.17 [info     ] Model parameters are saved to d3rlpy_logs/SAC_online_20220409104225/model_26000.pt\n",
      "2022-04-09 10:59.17 [info     ] SAC_online_20220409104225: epoch=26 step=26000 epoch=26 metrics={'time_inference': 0.0007759244441986084, 'time_environment_step': 0.000927513667515346, 'time_sample_batch': 0.00041908407211303713, 'time_algorithm_update': 0.010186298131942748, 'temp_loss': 83.04618039321899, 'temp': 51.23729261398316, 'critic_loss': 1415.1457997436523, 'actor_loss': -107.43023314666748, 'time_step': 0.01229583477973938, 'rollout_return': 14.16, 'evaluation': 12.4} step=26000\n"
     ]
    },
    {
     "name": "stderr",
     "output_type": "stream",
     "text": [
      " 27%|██▋       | 26993/100000 [17:05<14:24, 84.47it/s]"
     ]
    },
    {
     "name": "stdout",
     "output_type": "stream",
     "text": [
      "2022-04-09 10:59.30 [info     ] Model parameters are saved to d3rlpy_logs/SAC_online_20220409104225/model_27000.pt\n",
      "2022-04-09 10:59.30 [info     ] SAC_online_20220409104225: epoch=27 step=27000 epoch=27 metrics={'time_inference': 0.0007726311683654785, 'time_environment_step': 0.0009602361406598772, 'time_sample_batch': 0.0004284849166870117, 'time_algorithm_update': 0.010254588365554809, 'temp_loss': 65.39150251007081, 'temp': 40.96083439254761, 'critic_loss': 1393.8109800415039, 'actor_loss': -85.26081973648071, 'time_step': 0.012387356996536255, 'rollout_return': 14.848, 'evaluation': 14.5} step=27000\n"
     ]
    },
    {
     "name": "stderr",
     "output_type": "stream",
     "text": [
      " 28%|██▊       | 27997/100000 [17:19<15:12, 78.93it/s]"
     ]
    },
    {
     "name": "stdout",
     "output_type": "stream",
     "text": [
      "2022-04-09 10:59.44 [info     ] Model parameters are saved to d3rlpy_logs/SAC_online_20220409104225/model_28000.pt\n",
      "2022-04-09 10:59.45 [info     ] SAC_online_20220409104225: epoch=28 step=28000 epoch=28 metrics={'time_inference': 0.0008490583896636962, 'time_environment_step': 0.0010368469783238001, 'time_sample_batch': 0.00042847394943237307, 'time_algorithm_update': 0.011270818948745728, 'temp_loss': 52.66539107894897, 'temp': 32.78725527381897, 'critic_loss': 741.310664276123, 'actor_loss': -70.3640294418335, 'time_step': 0.013560694694519043, 'rollout_return': 14.272, 'evaluation': 14.7} step=28000\n"
     ]
    },
    {
     "name": "stderr",
     "output_type": "stream",
     "text": [
      " 29%|██▉       | 28996/100000 [17:32<14:25, 82.04it/s]"
     ]
    },
    {
     "name": "stdout",
     "output_type": "stream",
     "text": [
      "2022-04-09 10:59.57 [info     ] Model parameters are saved to d3rlpy_logs/SAC_online_20220409104225/model_29000.pt\n",
      "2022-04-09 10:59.57 [info     ] SAC_online_20220409104225: epoch=29 step=29000 epoch=29 metrics={'time_inference': 0.0007637825012207031, 'time_environment_step': 0.0009430310385567802, 'time_sample_batch': 0.00041617298126220704, 'time_algorithm_update': 0.010014838695526123, 'temp_loss': 42.03102513504028, 'temp': 26.221721195220947, 'critic_loss': 512.3990024414062, 'actor_loss': -57.519745893478394, 'time_step': 0.012123181581497193, 'rollout_return': 14.272, 'evaluation': 14.2} step=29000\n"
     ]
    },
    {
     "name": "stderr",
     "output_type": "stream",
     "text": [
      " 30%|██▉       | 29999/100000 [17:45<14:16, 81.69it/s]"
     ]
    },
    {
     "name": "stdout",
     "output_type": "stream",
     "text": [
      "2022-04-09 11:00.10 [info     ] Model parameters are saved to d3rlpy_logs/SAC_online_20220409104225/model_30000.pt\n",
      "2022-04-09 11:00.10 [info     ] SAC_online_20220409104225: epoch=30 step=30000 epoch=30 metrics={'time_inference': 0.0007566051483154296, 'time_environment_step': 0.0009075464521135603, 'time_sample_batch': 0.0004145200252532959, 'time_algorithm_update': 0.0104111807346344, 'temp_loss': 33.220901264905926, 'temp': 21.001822036743164, 'critic_loss': 494.13131311798094, 'actor_loss': -44.942975926041605, 'time_step': 0.012466904640197753, 'rollout_return': 14.432, 'evaluation': 13.1} step=30000\n"
     ]
    },
    {
     "name": "stderr",
     "output_type": "stream",
     "text": [
      " 31%|███       | 30998/100000 [17:58<17:53, 64.26it/s]"
     ]
    },
    {
     "name": "stdout",
     "output_type": "stream",
     "text": [
      "2022-04-09 11:00.24 [info     ] Model parameters are saved to d3rlpy_logs/SAC_online_20220409104225/model_31000.pt\n",
      "2022-04-09 11:00.24 [info     ] SAC_online_20220409104225: epoch=31 step=31000 epoch=31 metrics={'time_inference': 0.0008499939441680908, 'time_environment_step': 0.0009785246167864118, 'time_sample_batch': 0.0004357795715332031, 'time_algorithm_update': 0.010870134830474854, 'temp_loss': 26.94026898574829, 'temp': 16.792554833412172, 'critic_loss': 255.1871760559082, 'actor_loss': -38.16651546764374, 'time_step': 0.013107887983322143, 'rollout_return': 14.696, 'evaluation': 13.7} step=31000\n"
     ]
    },
    {
     "name": "stderr",
     "output_type": "stream",
     "text": [
      " 32%|███▏      | 31992/100000 [18:12<13:46, 82.33it/s]"
     ]
    },
    {
     "name": "stdout",
     "output_type": "stream",
     "text": [
      "2022-04-09 11:00.37 [info     ] Model parameters are saved to d3rlpy_logs/SAC_online_20220409104225/model_32000.pt\n",
      "2022-04-09 11:00.37 [info     ] SAC_online_20220409104225: epoch=32 step=32000 epoch=32 metrics={'time_inference': 0.0007755002975463868, 'time_environment_step': 0.0009657355717250279, 'time_sample_batch': 0.0004275503158569336, 'time_algorithm_update': 0.010620598316192626, 'temp_loss': 21.564776676177978, 'temp': 13.414880472183228, 'critic_loss': 165.23997856903077, 'actor_loss': -31.678602271080017, 'time_step': 0.012761884927749633, 'rollout_return': 14.616, 'evaluation': 15.1} step=32000\n"
     ]
    },
    {
     "name": "stderr",
     "output_type": "stream",
     "text": [
      " 33%|███▎      | 32995/100000 [18:25<12:56, 86.27it/s]"
     ]
    },
    {
     "name": "stdout",
     "output_type": "stream",
     "text": [
      "2022-04-09 11:00.51 [info     ] Model parameters are saved to d3rlpy_logs/SAC_online_20220409104225/model_33000.pt\n",
      "2022-04-09 11:00.51 [info     ] SAC_online_20220409104225: epoch=33 step=33000 epoch=33 metrics={'time_inference': 0.000851006031036377, 'time_environment_step': 0.0009762178148542132, 'time_sample_batch': 0.000435089111328125, 'time_algorithm_update': 0.0106733660697937, 'temp_loss': 17.172958931922913, 'temp': 10.74042535495758, 'critic_loss': 119.19104944610595, 'actor_loss': -25.812997461318968, 'time_step': 0.012933234691619873, 'rollout_return': 14.192, 'evaluation': 16.8} step=33000\n"
     ]
    },
    {
     "name": "stderr",
     "output_type": "stream",
     "text": [
      " 34%|███▍      | 33990/100000 [18:33<08:00, 137.26it/s]"
     ]
    },
    {
     "name": "stdout",
     "output_type": "stream",
     "text": [
      "2022-04-09 11:00.59 [info     ] Model parameters are saved to d3rlpy_logs/SAC_online_20220409104225/model_34000.pt\n",
      "2022-04-09 11:00.59 [info     ] SAC_online_20220409104225: epoch=34 step=34000 epoch=34 metrics={'time_inference': 0.0005846929550170899, 'time_environment_step': 0.0007086830139160156, 'time_sample_batch': 0.0003092041015625, 'time_algorithm_update': 0.005881649732589722, 'temp_loss': 13.74297002696991, 'temp': 8.589864790916442, 'critic_loss': 83.33911692810058, 'actor_loss': -21.10188756799698, 'time_step': 0.007468459844589234, 'rollout_return': 14.92, 'evaluation': 14.6} step=34000\n"
     ]
    },
    {
     "name": "stderr",
     "output_type": "stream",
     "text": [
      " 35%|███▍      | 34985/100000 [18:41<08:05, 133.92it/s]"
     ]
    },
    {
     "name": "stdout",
     "output_type": "stream",
     "text": [
      "2022-04-09 11:01.06 [info     ] Model parameters are saved to d3rlpy_logs/SAC_online_20220409104225/model_35000.pt\n",
      "2022-04-09 11:01.06 [info     ] SAC_online_20220409104225: epoch=35 step=35000 epoch=35 metrics={'time_inference': 0.0006025724411010742, 'time_environment_step': 0.0007377605438232421, 'time_sample_batch': 0.0003181614875793457, 'time_algorithm_update': 0.0060322644710540775, 'temp_loss': 11.008112912654877, 'temp': 6.870591005802154, 'critic_loss': 52.249066997528075, 'actor_loss': -17.531593811035155, 'time_step': 0.007674594640731811, 'rollout_return': 14.488, 'evaluation': 14.9} step=35000\n"
     ]
    },
    {
     "name": "stderr",
     "output_type": "stream",
     "text": [
      " 36%|███▌      | 35997/100000 [18:49<08:09, 130.80it/s]"
     ]
    },
    {
     "name": "stdout",
     "output_type": "stream",
     "text": [
      "2022-04-09 11:01.14 [info     ] Model parameters are saved to d3rlpy_logs/SAC_online_20220409104225/model_36000.pt\n",
      "2022-04-09 11:01.14 [info     ] SAC_online_20220409104225: epoch=36 step=36000 epoch=36 metrics={'time_inference': 0.0005892040729522705, 'time_environment_step': 0.000719402585710798, 'time_sample_batch': 0.00031474828720092776, 'time_algorithm_update': 0.005913644552230835, 'temp_loss': 8.672182771265506, 'temp': 5.494469236850739, 'critic_loss': 45.37006374740601, 'actor_loss': -14.216005047619342, 'time_step': 0.007520760774612427, 'rollout_return': 14.736, 'evaluation': 12.3} step=36000\n"
     ]
    },
    {
     "name": "stderr",
     "output_type": "stream",
     "text": [
      " 37%|███▋      | 36988/100000 [18:56<08:03, 130.25it/s]"
     ]
    },
    {
     "name": "stdout",
     "output_type": "stream",
     "text": [
      "2022-04-09 11:01.22 [info     ] Model parameters are saved to d3rlpy_logs/SAC_online_20220409104225/model_37000.pt\n",
      "2022-04-09 11:01.22 [info     ] SAC_online_20220409104225: epoch=37 step=37000 epoch=37 metrics={'time_inference': 0.0005835587978363037, 'time_environment_step': 0.0007134622846330915, 'time_sample_batch': 0.00031238269805908205, 'time_algorithm_update': 0.005876450777053833, 'temp_loss': 7.042128704547882, 'temp': 4.408605511426925, 'critic_loss': 29.818111179351806, 'actor_loss': -12.018214001178741, 'time_step': 0.007469188213348388, 'rollout_return': 14.056, 'evaluation': 15.3} step=37000\n"
     ]
    },
    {
     "name": "stderr",
     "output_type": "stream",
     "text": [
      " 38%|███▊      | 37988/100000 [19:04<08:05, 127.71it/s]"
     ]
    },
    {
     "name": "stdout",
     "output_type": "stream",
     "text": [
      "2022-04-09 11:01.30 [info     ] Model parameters are saved to d3rlpy_logs/SAC_online_20220409104225/model_38000.pt\n",
      "2022-04-09 11:01.30 [info     ] SAC_online_20220409104225: epoch=38 step=38000 epoch=38 metrics={'time_inference': 0.0005935356616973877, 'time_environment_step': 0.000739058358328683, 'time_sample_batch': 0.00031307005882263186, 'time_algorithm_update': 0.0059069664478302005, 'temp_loss': 5.546875940531492, 'temp': 3.5314344644546507, 'critic_loss': 24.590282208442687, 'actor_loss': -9.990142915219069, 'time_step': 0.007534196376800537, 'rollout_return': 14.224, 'evaluation': 13.6} step=38000\n"
     ]
    },
    {
     "name": "stderr",
     "output_type": "stream",
     "text": [
      " 39%|███▉      | 38987/100000 [19:12<08:58, 113.26it/s]"
     ]
    },
    {
     "name": "stdout",
     "output_type": "stream",
     "text": [
      "2022-04-09 11:01.37 [info     ] Model parameters are saved to d3rlpy_logs/SAC_online_20220409104225/model_39000.pt\n",
      "2022-04-09 11:01.37 [info     ] SAC_online_20220409104225: epoch=39 step=39000 epoch=39 metrics={'time_inference': 0.0005983309745788574, 'time_environment_step': 0.0007309804643903459, 'time_sample_batch': 0.0003172788619995117, 'time_algorithm_update': 0.0060002942085266115, 'temp_loss': 4.529319931983948, 'temp': 2.819425267457962, 'critic_loss': 16.338973450660706, 'actor_loss': -8.919779870986938, 'time_step': 0.007630851268768311, 'rollout_return': 14.488, 'evaluation': 14.4} step=39000\n"
     ]
    },
    {
     "name": "stderr",
     "output_type": "stream",
     "text": [
      " 40%|███▉      | 39989/100000 [19:20<07:35, 131.71it/s]"
     ]
    },
    {
     "name": "stdout",
     "output_type": "stream",
     "text": [
      "2022-04-09 11:01.45 [info     ] Model parameters are saved to d3rlpy_logs/SAC_online_20220409104225/model_40000.pt\n",
      "2022-04-09 11:01.45 [info     ] SAC_online_20220409104225: epoch=40 step=40000 epoch=40 metrics={'time_inference': 0.0006089744567871094, 'time_environment_step': 0.0007436597006661551, 'time_sample_batch': 0.0003220551013946533, 'time_algorithm_update': 0.006034979820251465, 'temp_loss': 3.617135465860367, 'temp': 2.2516414737701416, 'critic_loss': 12.578453333377839, 'actor_loss': -7.742187061786652, 'time_step': 0.007694478273391724, 'rollout_return': 14.872, 'evaluation': 13.1} step=40000\n"
     ]
    },
    {
     "name": "stderr",
     "output_type": "stream",
     "text": [
      " 41%|████      | 40997/100000 [19:28<07:26, 132.06it/s]"
     ]
    },
    {
     "name": "stdout",
     "output_type": "stream",
     "text": [
      "2022-04-09 11:01.54 [info     ] Model parameters are saved to d3rlpy_logs/SAC_online_20220409104225/model_41000.pt\n",
      "2022-04-09 11:01.54 [info     ] SAC_online_20220409104225: epoch=41 step=41000 epoch=41 metrics={'time_inference': 0.0006449403762817383, 'time_environment_step': 0.0007828115735735212, 'time_sample_batch': 0.00033704352378845215, 'time_algorithm_update': 0.006375838518142701, 'temp_loss': 2.85766902422905, 'temp': 1.8012323927879335, 'critic_loss': 11.004436812877655, 'actor_loss': -6.684656303882599, 'time_step': 0.008126975297927856, 'rollout_return': 13.984, 'evaluation': 14.4} step=41000\n"
     ]
    },
    {
     "name": "stderr",
     "output_type": "stream",
     "text": [
      " 42%|████▏     | 41998/100000 [19:36<07:15, 133.28it/s]"
     ]
    },
    {
     "name": "stdout",
     "output_type": "stream",
     "text": [
      "2022-04-09 11:02.01 [info     ] Model parameters are saved to d3rlpy_logs/SAC_online_20220409104225/model_42000.pt\n",
      "2022-04-09 11:02.01 [info     ] SAC_online_20220409104225: epoch=42 step=42000 epoch=42 metrics={'time_inference': 0.0006054913997650146, 'time_environment_step': 0.0007403392791748047, 'time_sample_batch': 0.0003200228214263916, 'time_algorithm_update': 0.006060371637344361, 'temp_loss': 2.2820671810507775, 'temp': 1.4429682911634445, 'critic_loss': 10.391422215938569, 'actor_loss': -5.861154004693032, 'time_step': 0.007709614753723145, 'rollout_return': 13.904, 'evaluation': 15.0} step=42000\n"
     ]
    },
    {
     "name": "stderr",
     "output_type": "stream",
     "text": [
      " 43%|████▎     | 42999/100000 [19:44<08:14, 115.30it/s]"
     ]
    },
    {
     "name": "stdout",
     "output_type": "stream",
     "text": [
      "2022-04-09 11:02.09 [info     ] Model parameters are saved to d3rlpy_logs/SAC_online_20220409104225/model_43000.pt\n",
      "2022-04-09 11:02.09 [info     ] SAC_online_20220409104225: epoch=43 step=43000 epoch=43 metrics={'time_inference': 0.0006004555225372314, 'time_environment_step': 0.0007339921678815569, 'time_sample_batch': 0.0003191497325897217, 'time_algorithm_update': 0.00601618218421936, 'temp_loss': 1.8369446573257446, 'temp': 1.155062264084816, 'critic_loss': 8.664183503627777, 'actor_loss': -5.416286161661148, 'time_step': 0.007652851819992065, 'rollout_return': 14.12, 'evaluation': 13.9} step=43000\n"
     ]
    },
    {
     "name": "stderr",
     "output_type": "stream",
     "text": [
      " 44%|████▍     | 43986/100000 [19:51<06:56, 134.53it/s]"
     ]
    },
    {
     "name": "stdout",
     "output_type": "stream",
     "text": [
      "2022-04-09 11:02.17 [info     ] Model parameters are saved to d3rlpy_logs/SAC_online_20220409104225/model_44000.pt\n",
      "2022-04-09 11:02.17 [info     ] SAC_online_20220409104225: epoch=44 step=44000 epoch=44 metrics={'time_inference': 0.0005860652923583984, 'time_environment_step': 0.0007082658495221819, 'time_sample_batch': 0.00030976247787475587, 'time_algorithm_update': 0.005864275932312012, 'temp_loss': 1.465944650053978, 'temp': 0.9240815027356147, 'critic_loss': 7.870114938259125, 'actor_loss': -4.933695918142796, 'time_step': 0.007452352046966553, 'rollout_return': 14.392, 'evaluation': 13.0} step=44000\n"
     ]
    },
    {
     "name": "stderr",
     "output_type": "stream",
     "text": [
      " 45%|████▍     | 44995/100000 [19:59<06:59, 131.25it/s]"
     ]
    },
    {
     "name": "stdout",
     "output_type": "stream",
     "text": [
      "2022-04-09 11:02.25 [info     ] Model parameters are saved to d3rlpy_logs/SAC_online_20220409104225/model_45000.pt\n",
      "2022-04-09 11:02.25 [info     ] SAC_online_20220409104225: epoch=45 step=45000 epoch=45 metrics={'time_inference': 0.0006129608154296875, 'time_environment_step': 0.0007455496106828962, 'time_sample_batch': 0.0003222355842590332, 'time_algorithm_update': 0.006154403209686279, 'temp_loss': 1.1510618472397327, 'temp': 0.7405378943681717, 'critic_loss': 8.395630288600922, 'actor_loss': -4.560469448328019, 'time_step': 0.00781880259513855, 'rollout_return': 14.64, 'evaluation': 13.6} step=45000\n"
     ]
    },
    {
     "name": "stderr",
     "output_type": "stream",
     "text": [
      " 46%|████▌     | 45999/100000 [20:07<06:38, 135.65it/s]"
     ]
    },
    {
     "name": "stdout",
     "output_type": "stream",
     "text": [
      "2022-04-09 11:02.32 [info     ] Model parameters are saved to d3rlpy_logs/SAC_online_20220409104225/model_46000.pt\n",
      "2022-04-09 11:02.32 [info     ] SAC_online_20220409104225: epoch=46 step=46000 epoch=46 metrics={'time_inference': 0.0005706853866577149, 'time_environment_step': 0.0006826136452811104, 'time_sample_batch': 0.00029888296127319336, 'time_algorithm_update': 0.0057377638816833495, 'temp_loss': 0.9384005696177483, 'temp': 0.5923337906599044, 'critic_loss': 7.279113928079605, 'actor_loss': -4.341449588298798, 'time_step': 0.007274013519287109, 'rollout_return': 14.888, 'evaluation': 12.3} step=46000\n"
     ]
    },
    {
     "name": "stderr",
     "output_type": "stream",
     "text": [
      " 47%|████▋     | 46986/100000 [20:14<06:29, 136.13it/s]"
     ]
    },
    {
     "name": "stdout",
     "output_type": "stream",
     "text": [
      "2022-04-09 11:02.40 [info     ] Model parameters are saved to d3rlpy_logs/SAC_online_20220409104225/model_47000.pt\n",
      "2022-04-09 11:02.40 [info     ] SAC_online_20220409104225: epoch=47 step=47000 epoch=47 metrics={'time_inference': 0.0005765388011932373, 'time_environment_step': 0.0006914457593645368, 'time_sample_batch': 0.00030445170402526855, 'time_algorithm_update': 0.005799864530563355, 'temp_loss': 0.7410329546332359, 'temp': 0.47381766557693483, 'critic_loss': 8.796866303682327, 'actor_loss': -4.126946590360254, 'time_step': 0.007355941295623779, 'rollout_return': 14.16, 'evaluation': 16.6} step=47000\n"
     ]
    },
    {
     "name": "stderr",
     "output_type": "stream",
     "text": [
      " 48%|████▊     | 47990/100000 [20:22<06:19, 137.11it/s]"
     ]
    },
    {
     "name": "stdout",
     "output_type": "stream",
     "text": [
      "2022-04-09 11:02.47 [info     ] Model parameters are saved to d3rlpy_logs/SAC_online_20220409104225/model_48000.pt\n",
      "2022-04-09 11:02.47 [info     ] SAC_online_20220409104225: epoch=48 step=48000 epoch=48 metrics={'time_inference': 0.0005729763507843018, 'time_environment_step': 0.000684586933680943, 'time_sample_batch': 0.00030156683921813966, 'time_algorithm_update': 0.005766022205352783, 'temp_loss': 0.5872575277388096, 'temp': 0.37976670476794244, 'critic_loss': 5.753224508523941, 'actor_loss': -4.01195969247818, 'time_step': 0.007308967113494873, 'rollout_return': 14.256, 'evaluation': 14.0} step=48000\n"
     ]
    },
    {
     "name": "stderr",
     "output_type": "stream",
     "text": [
      " 49%|████▉     | 48996/100000 [20:30<07:23, 114.94it/s]"
     ]
    },
    {
     "name": "stdout",
     "output_type": "stream",
     "text": [
      "2022-04-09 11:02.55 [info     ] Model parameters are saved to d3rlpy_logs/SAC_online_20220409104225/model_49000.pt\n",
      "2022-04-09 11:02.55 [info     ] SAC_online_20220409104225: epoch=49 step=49000 epoch=49 metrics={'time_inference': 0.0006205229759216308, 'time_environment_step': 0.0007504768371582031, 'time_sample_batch': 0.0003252403736114502, 'time_algorithm_update': 0.0061430509090423585, 'temp_loss': 0.4682464306950569, 'temp': 0.3043602301478386, 'critic_loss': 6.330964959621429, 'actor_loss': -3.781104163646698, 'time_step': 0.007824543237686157, 'rollout_return': 14.024, 'evaluation': 16.3} step=49000\n"
     ]
    },
    {
     "name": "stderr",
     "output_type": "stream",
     "text": [
      " 50%|████▉     | 49995/100000 [20:38<06:32, 127.25it/s]"
     ]
    },
    {
     "name": "stdout",
     "output_type": "stream",
     "text": [
      "2022-04-09 11:03.04 [info     ] Model parameters are saved to d3rlpy_logs/SAC_online_20220409104225/model_50000.pt\n",
      "2022-04-09 11:03.04 [info     ] SAC_online_20220409104225: epoch=50 step=50000 epoch=50 metrics={'time_inference': 0.0006414928436279297, 'time_environment_step': 0.0007926834651402065, 'time_sample_batch': 0.00033765411376953123, 'time_algorithm_update': 0.0062960443496704105, 'temp_loss': 0.36772641319036486, 'temp': 0.2442678573578596, 'critic_loss': 6.156316969394684, 'actor_loss': -3.6218899445533754, 'time_step': 0.008053391456604005, 'rollout_return': 14.72, 'evaluation': 13.0} step=50000\n"
     ]
    },
    {
     "name": "stderr",
     "output_type": "stream",
     "text": [
      " 51%|█████     | 50999/100000 [20:47<07:04, 115.49it/s]"
     ]
    },
    {
     "name": "stdout",
     "output_type": "stream",
     "text": [
      "2022-04-09 11:03.12 [info     ] Model parameters are saved to d3rlpy_logs/SAC_online_20220409104225/model_51000.pt\n",
      "2022-04-09 11:03.12 [info     ] SAC_online_20220409104225: epoch=51 step=51000 epoch=51 metrics={'time_inference': 0.0006890902519226074, 'time_environment_step': 0.0008173514774867467, 'time_sample_batch': 0.00035396671295166016, 'time_algorithm_update': 0.006809108972549439, 'temp_loss': 0.291448907956481, 'temp': 0.19603840060532093, 'critic_loss': 6.094360341072083, 'actor_loss': -3.564487054526806, 'time_step': 0.00865416121482849, 'rollout_return': 14.52, 'evaluation': 15.3} step=51000\n"
     ]
    },
    {
     "name": "stderr",
     "output_type": "stream",
     "text": [
      " 52%|█████▏    | 51995/100000 [20:56<07:20, 108.87it/s]"
     ]
    },
    {
     "name": "stdout",
     "output_type": "stream",
     "text": [
      "2022-04-09 11:03.22 [info     ] Model parameters are saved to d3rlpy_logs/SAC_online_20220409104225/model_52000.pt\n",
      "2022-04-09 11:03.22 [info     ] SAC_online_20220409104225: epoch=52 step=52000 epoch=52 metrics={'time_inference': 0.0007107923030853271, 'time_environment_step': 0.0008328429630824498, 'time_sample_batch': 0.0003642764091491699, 'time_algorithm_update': 0.00698291802406311, 'temp_loss': 0.22584784816205503, 'temp': 0.15769808216392994, 'critic_loss': 5.82274247288704, 'actor_loss': -3.5174703760147095, 'time_step': 0.008875633239746094, 'rollout_return': 14.688, 'evaluation': 13.7} step=52000\n"
     ]
    },
    {
     "name": "stderr",
     "output_type": "stream",
     "text": [
      " 53%|█████▎    | 52995/100000 [21:05<07:11, 108.89it/s]"
     ]
    },
    {
     "name": "stdout",
     "output_type": "stream",
     "text": [
      "2022-04-09 11:03.31 [info     ] Model parameters are saved to d3rlpy_logs/SAC_online_20220409104225/model_53000.pt\n",
      "2022-04-09 11:03.31 [info     ] SAC_online_20220409104225: epoch=53 step=53000 epoch=53 metrics={'time_inference': 0.0007474203109741211, 'time_environment_step': 0.0008798558371407645, 'time_sample_batch': 0.00038184261322021486, 'time_algorithm_update': 0.007286523342132568, 'temp_loss': 0.1778132518902421, 'temp': 0.12710414962470531, 'critic_loss': 5.865000708818435, 'actor_loss': -3.5148553942143916, 'time_step': 0.009282081127166749, 'rollout_return': 14.632, 'evaluation': 13.7} step=53000\n"
     ]
    },
    {
     "name": "stderr",
     "output_type": "stream",
     "text": [
      " 54%|█████▍    | 53988/100000 [21:14<06:21, 120.67it/s]"
     ]
    },
    {
     "name": "stdout",
     "output_type": "stream",
     "text": [
      "2022-04-09 11:03.40 [info     ] Model parameters are saved to d3rlpy_logs/SAC_online_20220409104225/model_54000.pt\n",
      "2022-04-09 11:03.40 [info     ] SAC_online_20220409104225: epoch=54 step=54000 epoch=54 metrics={'time_inference': 0.0007094595432281494, 'time_environment_step': 0.0008367206028529575, 'time_sample_batch': 0.0003668665885925293, 'time_algorithm_update': 0.006951780080795288, 'temp_loss': 0.14072625284641982, 'temp': 0.1024452120512724, 'critic_loss': 5.692976722478867, 'actor_loss': -3.469112637281418, 'time_step': 0.008849217414855956, 'rollout_return': 14.656, 'evaluation': 15.3} step=54000\n"
     ]
    },
    {
     "name": "stderr",
     "output_type": "stream",
     "text": [
      " 55%|█████▍    | 54998/100000 [21:23<06:23, 117.49it/s]"
     ]
    },
    {
     "name": "stdout",
     "output_type": "stream",
     "text": [
      "2022-04-09 11:03.49 [info     ] Model parameters are saved to d3rlpy_logs/SAC_online_20220409104225/model_55000.pt\n",
      "2022-04-09 11:03.49 [info     ] SAC_online_20220409104225: epoch=55 step=55000 epoch=55 metrics={'time_inference': 0.0006857991218566894, 'time_environment_step': 0.0008147198813302177, 'time_sample_batch': 0.00035898661613464357, 'time_algorithm_update': 0.0068153560161590574, 'temp_loss': 0.1076626348271966, 'temp': 0.08260553025454283, 'critic_loss': 5.683547455787659, 'actor_loss': -3.510309012830257, 'time_step': 0.008658214807510375, 'rollout_return': 15.12, 'evaluation': 17.9} step=55000\n"
     ]
    },
    {
     "name": "stderr",
     "output_type": "stream",
     "text": [
      " 56%|█████▌    | 55997/100000 [21:32<06:19, 115.98it/s]"
     ]
    },
    {
     "name": "stdout",
     "output_type": "stream",
     "text": [
      "2022-04-09 11:03.58 [info     ] Model parameters are saved to d3rlpy_logs/SAC_online_20220409104225/model_56000.pt\n",
      "2022-04-09 11:03.58 [info     ] SAC_online_20220409104225: epoch=56 step=56000 epoch=56 metrics={'time_inference': 0.0007030026912689209, 'time_environment_step': 0.0008225364685058593, 'time_sample_batch': 0.0003598151206970215, 'time_algorithm_update': 0.006877082347869873, 'temp_loss': 0.08102165570482611, 'temp': 0.06694990653172135, 'critic_loss': 5.598497061491012, 'actor_loss': -3.4987615598738193, 'time_step': 0.008746179819107056, 'rollout_return': 15.184, 'evaluation': 12.0} step=56000\n"
     ]
    },
    {
     "name": "stderr",
     "output_type": "stream",
     "text": [
      " 57%|█████▋    | 56996/100000 [21:41<06:31, 109.79it/s]"
     ]
    },
    {
     "name": "stdout",
     "output_type": "stream",
     "text": [
      "2022-04-09 11:04.07 [info     ] Model parameters are saved to d3rlpy_logs/SAC_online_20220409104225/model_57000.pt\n",
      "2022-04-09 11:04.07 [info     ] SAC_online_20220409104225: epoch=57 step=57000 epoch=57 metrics={'time_inference': 0.0006873223781585693, 'time_environment_step': 0.0008169514792306082, 'time_sample_batch': 0.00035697054862976073, 'time_algorithm_update': 0.006889434814453125, 'temp_loss': 0.06181891633011401, 'temp': 0.054636920824646946, 'critic_loss': 5.969149111032486, 'actor_loss': -3.4792873060107232, 'time_step': 0.008734954595565796, 'rollout_return': 14.936, 'evaluation': 15.1} step=57000\n"
     ]
    },
    {
     "name": "stderr",
     "output_type": "stream",
     "text": [
      " 58%|█████▊    | 57994/100000 [21:50<06:02, 115.81it/s]"
     ]
    },
    {
     "name": "stdout",
     "output_type": "stream",
     "text": [
      "2022-04-09 11:04.16 [info     ] Model parameters are saved to d3rlpy_logs/SAC_online_20220409104225/model_58000.pt\n",
      "2022-04-09 11:04.16 [info     ] SAC_online_20220409104225: epoch=58 step=58000 epoch=58 metrics={'time_inference': 0.0006870696544647217, 'time_environment_step': 0.0008141787392752511, 'time_sample_batch': 0.00035490918159484863, 'time_algorithm_update': 0.006761601448059082, 'temp_loss': 0.049223242161795494, 'temp': 0.044371412999928, 'critic_loss': 5.894062087774277, 'actor_loss': -3.516124169409275, 'time_step': 0.008601653337478638, 'rollout_return': 14.544, 'evaluation': 14.9} step=58000\n"
     ]
    },
    {
     "name": "stderr",
     "output_type": "stream",
     "text": [
      " 59%|█████▉    | 58999/100000 [21:59<05:49, 117.21it/s]"
     ]
    },
    {
     "name": "stdout",
     "output_type": "stream",
     "text": [
      "2022-04-09 11:04.25 [info     ] Model parameters are saved to d3rlpy_logs/SAC_online_20220409104225/model_59000.pt\n",
      "2022-04-09 11:04.25 [info     ] SAC_online_20220409104225: epoch=59 step=59000 epoch=59 metrics={'time_inference': 0.0006989490985870361, 'time_environment_step': 0.0008197969709123884, 'time_sample_batch': 0.00036120772361755373, 'time_algorithm_update': 0.006966169834136963, 'temp_loss': 0.03855624178535072, 'temp': 0.03585047198459506, 'critic_loss': 5.596510244607925, 'actor_loss': -3.5719803867042064, 'time_step': 0.00883146357536316, 'rollout_return': 14.392, 'evaluation': 15.2} step=59000\n"
     ]
    },
    {
     "name": "stderr",
     "output_type": "stream",
     "text": [
      " 60%|█████▉    | 59996/100000 [22:08<05:34, 119.48it/s]"
     ]
    },
    {
     "name": "stdout",
     "output_type": "stream",
     "text": [
      "2022-04-09 11:04.33 [info     ] Model parameters are saved to d3rlpy_logs/SAC_online_20220409104225/model_60000.pt\n",
      "2022-04-09 11:04.34 [info     ] SAC_online_20220409104225: epoch=60 step=60000 epoch=60 metrics={'time_inference': 0.0006883916854858399, 'time_environment_step': 0.0008138664790562221, 'time_sample_batch': 0.00035935449600219726, 'time_algorithm_update': 0.006809956073760987, 'temp_loss': 0.0283029400696978, 'temp': 0.02924937126785517, 'critic_loss': 5.532448817014695, 'actor_loss': -3.5775652068257333, 'time_step': 0.008655160427093507, 'rollout_return': 15.08, 'evaluation': 14.7} step=60000\n"
     ]
    },
    {
     "name": "stderr",
     "output_type": "stream",
     "text": [
      " 61%|██████    | 60995/100000 [22:17<05:39, 115.01it/s]"
     ]
    },
    {
     "name": "stdout",
     "output_type": "stream",
     "text": [
      "2022-04-09 11:04.43 [info     ] Model parameters are saved to d3rlpy_logs/SAC_online_20220409104225/model_61000.pt\n",
      "2022-04-09 11:04.43 [info     ] SAC_online_20220409104225: epoch=61 step=61000 epoch=61 metrics={'time_inference': 0.0007054226398468018, 'time_environment_step': 0.0008285506112234933, 'time_sample_batch': 0.0003622100353240967, 'time_algorithm_update': 0.006964462995529175, 'temp_loss': 0.019362824989948423, 'temp': 0.024127873545512556, 'critic_loss': 5.222273710727691, 'actor_loss': -3.6366172872781752, 'time_step': 0.008845097541809082, 'rollout_return': 15.08, 'evaluation': 16.8} step=61000\n"
     ]
    },
    {
     "name": "stderr",
     "output_type": "stream",
     "text": [
      " 62%|██████▏   | 61989/100000 [22:25<05:16, 119.98it/s]"
     ]
    },
    {
     "name": "stdout",
     "output_type": "stream",
     "text": [
      "2022-04-09 11:04.51 [info     ] Model parameters are saved to d3rlpy_logs/SAC_online_20220409104225/model_62000.pt\n",
      "2022-04-09 11:04.51 [info     ] SAC_online_20220409104225: epoch=62 step=62000 epoch=62 metrics={'time_inference': 0.0006316723823547363, 'time_environment_step': 0.0007810374668666295, 'time_sample_batch': 0.0003355872631072998, 'time_algorithm_update': 0.006279938459396363, 'temp_loss': 0.012300437650410459, 'temp': 0.020413692016154526, 'critic_loss': 5.8827962417602535, 'actor_loss': -3.7353321026563644, 'time_step': 0.008013163805007934, 'rollout_return': 14.808, 'evaluation': 15.0} step=62000\n"
     ]
    },
    {
     "name": "stderr",
     "output_type": "stream",
     "text": [
      " 63%|██████▎   | 62996/100000 [22:36<11:57, 51.60it/s] "
     ]
    },
    {
     "name": "stdout",
     "output_type": "stream",
     "text": [
      "2022-04-09 11:05.02 [info     ] Model parameters are saved to d3rlpy_logs/SAC_online_20220409104225/model_63000.pt\n",
      "2022-04-09 11:05.02 [info     ] SAC_online_20220409104225: epoch=63 step=63000 epoch=63 metrics={'time_inference': 0.0007050940990447998, 'time_environment_step': 0.000864729472569057, 'time_sample_batch': 0.00037215065956115723, 'time_algorithm_update': 0.008952738285064698, 'temp_loss': 0.010171936653641751, 'temp': 0.017308739423751832, 'critic_loss': 5.516984526395798, 'actor_loss': -3.7432161993980406, 'time_step': 0.010878663539886474, 'rollout_return': 15.168, 'evaluation': 16.0} step=63000\n"
     ]
    },
    {
     "name": "stderr",
     "output_type": "stream",
     "text": [
      " 64%|██████▍   | 63997/100000 [22:53<08:37, 69.53it/s]"
     ]
    },
    {
     "name": "stdout",
     "output_type": "stream",
     "text": [
      "2022-04-09 11:05.19 [info     ] Model parameters are saved to d3rlpy_logs/SAC_online_20220409104225/model_64000.pt\n",
      "2022-04-09 11:05.19 [info     ] SAC_online_20220409104225: epoch=64 step=64000 epoch=64 metrics={'time_inference': 0.0009109804630279541, 'time_environment_step': 0.0010781429835728237, 'time_sample_batch': 0.00044914817810058595, 'time_algorithm_update': 0.013582931518554688, 'temp_loss': 0.008155808661540505, 'temp': 0.014396362530998885, 'critic_loss': 6.100613094329834, 'actor_loss': -3.7699418351724745, 'time_step': 0.01599373698234558, 'rollout_return': 14.232, 'evaluation': 17.9} step=64000\n"
     ]
    },
    {
     "name": "stderr",
     "output_type": "stream",
     "text": [
      " 65%|██████▍   | 64999/100000 [23:09<07:58, 73.08it/s]"
     ]
    },
    {
     "name": "stdout",
     "output_type": "stream",
     "text": [
      "2022-04-09 11:05.34 [info     ] Model parameters are saved to d3rlpy_logs/SAC_online_20220409104225/model_65000.pt\n",
      "2022-04-09 11:05.34 [info     ] SAC_online_20220409104225: epoch=65 step=65000 epoch=65 metrics={'time_inference': 0.0008227179050445556, 'time_environment_step': 0.001041839872087751, 'time_sample_batch': 0.00042635226249694824, 'time_algorithm_update': 0.012153956890106201, 'temp_loss': 0.0027313786434096984, 'temp': 0.012615262421779334, 'critic_loss': 5.516894869327545, 'actor_loss': -3.8639747430682183, 'time_step': 0.014411802291870118, 'rollout_return': 15.456, 'evaluation': 15.5} step=65000\n"
     ]
    },
    {
     "name": "stderr",
     "output_type": "stream",
     "text": [
      " 66%|██████▌   | 65986/100000 [23:18<04:25, 128.12it/s]"
     ]
    },
    {
     "name": "stdout",
     "output_type": "stream",
     "text": [
      "2022-04-09 11:05.44 [info     ] Model parameters are saved to d3rlpy_logs/SAC_online_20220409104225/model_66000.pt\n",
      "2022-04-09 11:05.44 [info     ] SAC_online_20220409104225: epoch=66 step=66000 epoch=66 metrics={'time_inference': 0.0006718654632568359, 'time_environment_step': 0.0008024098532540458, 'time_sample_batch': 0.00035118818283081055, 'time_algorithm_update': 0.007209270238876343, 'temp_loss': 0.003547960223251721, 'temp': 0.011612467317841947, 'critic_loss': 5.63055242562294, 'actor_loss': -3.947640075027943, 'time_step': 0.009018434286117554, 'rollout_return': 15.024, 'evaluation': 14.8} step=66000\n"
     ]
    },
    {
     "name": "stderr",
     "output_type": "stream",
     "text": [
      " 67%|██████▋   | 66994/100000 [23:26<04:16, 128.56it/s]"
     ]
    },
    {
     "name": "stdout",
     "output_type": "stream",
     "text": [
      "2022-04-09 11:05.51 [info     ] Model parameters are saved to d3rlpy_logs/SAC_online_20220409104225/model_67000.pt\n",
      "2022-04-09 11:05.51 [info     ] SAC_online_20220409104225: epoch=67 step=67000 epoch=67 metrics={'time_inference': 0.0006022405624389648, 'time_environment_step': 0.0007367877960205078, 'time_sample_batch': 0.0003185238838195801, 'time_algorithm_update': 0.006014061450958252, 'temp_loss': 0.0016006280228502874, 'temp': 0.010438412457704544, 'critic_loss': 6.077012203454971, 'actor_loss': -4.015091640114784, 'time_step': 0.007655534029006958, 'rollout_return': 15.608, 'evaluation': 14.8} step=67000\n"
     ]
    },
    {
     "name": "stderr",
     "output_type": "stream",
     "text": [
      " 68%|██████▊   | 67997/100000 [23:34<04:04, 131.05it/s]"
     ]
    },
    {
     "name": "stdout",
     "output_type": "stream",
     "text": [
      "2022-04-09 11:05.59 [info     ] Model parameters are saved to d3rlpy_logs/SAC_online_20220409104225/model_68000.pt\n",
      "2022-04-09 11:05.59 [info     ] SAC_online_20220409104225: epoch=68 step=68000 epoch=68 metrics={'time_inference': 0.0006073498725891113, 'time_environment_step': 0.0007508207048688617, 'time_sample_batch': 0.0003224680423736572, 'time_algorithm_update': 0.006048105001449585, 'temp_loss': 0.00013719888822379288, 'temp': 0.010108311736956239, 'critic_loss': 5.9423773982524875, 'actor_loss': -4.091048495978117, 'time_step': 0.007712783813476562, 'rollout_return': 15.632, 'evaluation': 15.0} step=68000\n"
     ]
    },
    {
     "name": "stderr",
     "output_type": "stream",
     "text": [
      " 69%|██████▉   | 68990/100000 [23:42<04:35, 112.60it/s]"
     ]
    },
    {
     "name": "stdout",
     "output_type": "stream",
     "text": [
      "2022-04-09 11:06.08 [info     ] Model parameters are saved to d3rlpy_logs/SAC_online_20220409104225/model_69000.pt\n",
      "2022-04-09 11:06.08 [info     ] SAC_online_20220409104225: epoch=69 step=69000 epoch=69 metrics={'time_inference': 0.0006647965908050537, 'time_environment_step': 0.0008108089991978236, 'time_sample_batch': 0.0003430929183959961, 'time_algorithm_update': 0.006492551565170288, 'temp_loss': -0.0012570584609929937, 'temp': 0.01046522257849574, 'critic_loss': 5.854279674291611, 'actor_loss': -4.172834212243557, 'time_step': 0.008297399520874023, 'rollout_return': 14.984, 'evaluation': 15.4} step=69000\n"
     ]
    },
    {
     "name": "stderr",
     "output_type": "stream",
     "text": [
      " 70%|██████▉   | 69992/100000 [23:51<03:52, 128.95it/s]"
     ]
    },
    {
     "name": "stdout",
     "output_type": "stream",
     "text": [
      "2022-04-09 11:06.16 [info     ] Model parameters are saved to d3rlpy_logs/SAC_online_20220409104225/model_70000.pt\n",
      "2022-04-09 11:06.16 [info     ] SAC_online_20220409104225: epoch=70 step=70000 epoch=70 metrics={'time_inference': 0.000638761043548584, 'time_environment_step': 0.000778571537562779, 'time_sample_batch': 0.00033483123779296875, 'time_algorithm_update': 0.00628031063079834, 'temp_loss': -0.0020161409433785593, 'temp': 0.011287751668132841, 'critic_loss': 6.083761942386627, 'actor_loss': -4.231077757716179, 'time_step': 0.008018537998199463, 'rollout_return': 15.216, 'evaluation': 13.4} step=70000\n"
     ]
    },
    {
     "name": "stderr",
     "output_type": "stream",
     "text": [
      " 71%|███████   | 70998/100000 [23:58<03:36, 134.23it/s]"
     ]
    },
    {
     "name": "stdout",
     "output_type": "stream",
     "text": [
      "2022-04-09 11:06.24 [info     ] Model parameters are saved to d3rlpy_logs/SAC_online_20220409104225/model_71000.pt\n",
      "2022-04-09 11:06.24 [info     ] SAC_online_20220409104225: epoch=71 step=71000 epoch=71 metrics={'time_inference': 0.0006048333644866943, 'time_environment_step': 0.0007332665579659598, 'time_sample_batch': 0.0003178849220275879, 'time_algorithm_update': 0.00603330659866333, 'temp_loss': -0.0012559879699911107, 'temp': 0.011781854139640927, 'critic_loss': 5.408342709302902, 'actor_loss': -4.315655525684357, 'time_step': 0.007674284219741821, 'rollout_return': 15.472, 'evaluation': 15.9} step=71000\n"
     ]
    },
    {
     "name": "stderr",
     "output_type": "stream",
     "text": [
      " 72%|███████▏  | 71993/100000 [24:06<03:35, 129.84it/s]"
     ]
    },
    {
     "name": "stdout",
     "output_type": "stream",
     "text": [
      "2022-04-09 11:06.32 [info     ] Model parameters are saved to d3rlpy_logs/SAC_online_20220409104225/model_72000.pt\n",
      "2022-04-09 11:06.32 [info     ] SAC_online_20220409104225: epoch=72 step=72000 epoch=72 metrics={'time_inference': 0.0006005451679229737, 'time_environment_step': 0.0007291979108537946, 'time_sample_batch': 0.00031472277641296384, 'time_algorithm_update': 0.0060110924243927, 'temp_loss': 6.539269590575713e-05, 'temp': 0.012176095250993967, 'critic_loss': 6.147364928483963, 'actor_loss': -4.257780989110469, 'time_step': 0.007638364791870117, 'rollout_return': 14.912, 'evaluation': 15.1} step=72000\n"
     ]
    },
    {
     "name": "stderr",
     "output_type": "stream",
     "text": [
      " 73%|███████▎  | 72991/100000 [24:14<03:29, 128.75it/s]"
     ]
    },
    {
     "name": "stdout",
     "output_type": "stream",
     "text": [
      "2022-04-09 11:06.40 [info     ] Model parameters are saved to d3rlpy_logs/SAC_online_20220409104225/model_73000.pt\n",
      "2022-04-09 11:06.40 [info     ] SAC_online_20220409104225: epoch=73 step=73000 epoch=73 metrics={'time_inference': 0.0006034750938415527, 'time_environment_step': 0.000729654312133789, 'time_sample_batch': 0.00031716060638427735, 'time_algorithm_update': 0.006020524501800537, 'temp_loss': 0.0010734792825460317, 'temp': 0.01187624685652554, 'critic_loss': 5.394200050115585, 'actor_loss': -4.3505884020328525, 'time_step': 0.007654342412948608, 'rollout_return': 15.568, 'evaluation': 16.1} step=73000\n"
     ]
    },
    {
     "name": "stderr",
     "output_type": "stream",
     "text": [
      " 74%|███████▍  | 73997/100000 [24:22<03:23, 127.58it/s]"
     ]
    },
    {
     "name": "stdout",
     "output_type": "stream",
     "text": [
      "2022-04-09 11:06.47 [info     ] Model parameters are saved to d3rlpy_logs/SAC_online_20220409104225/model_74000.pt\n",
      "2022-04-09 11:06.47 [info     ] SAC_online_20220409104225: epoch=74 step=74000 epoch=74 metrics={'time_inference': 0.0005838799476623535, 'time_environment_step': 0.0007034350803920201, 'time_sample_batch': 0.0003101160526275635, 'time_algorithm_update': 0.005880340576171875, 'temp_loss': -0.00024399355313653359, 'temp': 0.011708366653881967, 'critic_loss': 5.769644451141358, 'actor_loss': -4.320570832490921, 'time_step': 0.007461228609085083, 'rollout_return': 15.168, 'evaluation': 15.1} step=74000\n"
     ]
    },
    {
     "name": "stderr",
     "output_type": "stream",
     "text": [
      " 75%|███████▍  | 74986/100000 [24:30<03:30, 118.65it/s]"
     ]
    },
    {
     "name": "stdout",
     "output_type": "stream",
     "text": [
      "2022-04-09 11:06.55 [info     ] Model parameters are saved to d3rlpy_logs/SAC_online_20220409104225/model_75000.pt\n",
      "2022-04-09 11:06.55 [info     ] SAC_online_20220409104225: epoch=75 step=75000 epoch=75 metrics={'time_inference': 0.0006125140190124512, 'time_environment_step': 0.0007513596670968192, 'time_sample_batch': 0.000325364351272583, 'time_algorithm_update': 0.0061348135471344, 'temp_loss': -0.002246419599199726, 'temp': 0.012675898551009595, 'critic_loss': 6.083376384973526, 'actor_loss': -4.305403890252113, 'time_step': 0.007808226823806763, 'rollout_return': 15.488, 'evaluation': 16.5} step=75000\n"
     ]
    },
    {
     "name": "stderr",
     "output_type": "stream",
     "text": [
      " 76%|███████▌  | 75990/100000 [24:39<03:07, 127.72it/s]"
     ]
    },
    {
     "name": "stdout",
     "output_type": "stream",
     "text": [
      "2022-04-09 11:07.04 [info     ] Model parameters are saved to d3rlpy_logs/SAC_online_20220409104225/model_76000.pt\n",
      "2022-04-09 11:07.04 [info     ] SAC_online_20220409104225: epoch=76 step=76000 epoch=76 metrics={'time_inference': 0.0006875622272491455, 'time_environment_step': 0.000838303702218192, 'time_sample_batch': 0.000353884220123291, 'time_algorithm_update': 0.006801777839660644, 'temp_loss': 0.0012414795328877517, 'temp': 0.01289166180882603, 'critic_loss': 5.544803045749664, 'actor_loss': -4.34743580687046, 'time_step': 0.008672471761703491, 'rollout_return': 15.208, 'evaluation': 15.2} step=76000\n"
     ]
    },
    {
     "name": "stderr",
     "output_type": "stream",
     "text": [
      " 77%|███████▋  | 76988/100000 [24:47<02:52, 133.39it/s]"
     ]
    },
    {
     "name": "stdout",
     "output_type": "stream",
     "text": [
      "2022-04-09 11:07.13 [info     ] Model parameters are saved to d3rlpy_logs/SAC_online_20220409104225/model_77000.pt\n",
      "2022-04-09 11:07.13 [info     ] SAC_online_20220409104225: epoch=77 step=77000 epoch=77 metrics={'time_inference': 0.0006809492111206055, 'time_environment_step': 0.000818960462297712, 'time_sample_batch': 0.00034800124168395997, 'time_algorithm_update': 0.006567444086074829, 'temp_loss': 0.0028994538853003176, 'temp': 0.01146713646221906, 'critic_loss': 5.610500145435333, 'actor_loss': -4.307580899834633, 'time_step': 0.00840295648574829, 'rollout_return': 14.76, 'evaluation': 13.7} step=77000\n"
     ]
    },
    {
     "name": "stderr",
     "output_type": "stream",
     "text": [
      " 78%|███████▊  | 77997/100000 [24:56<03:17, 111.23it/s]"
     ]
    },
    {
     "name": "stdout",
     "output_type": "stream",
     "text": [
      "2022-04-09 11:07.21 [info     ] Model parameters are saved to d3rlpy_logs/SAC_online_20220409104225/model_78000.pt\n",
      "2022-04-09 11:07.21 [info     ] SAC_online_20220409104225: epoch=78 step=78000 epoch=78 metrics={'time_inference': 0.0006781392097473145, 'time_environment_step': 0.0008254547119140625, 'time_sample_batch': 0.0003497195243835449, 'time_algorithm_update': 0.006637070417404175, 'temp_loss': 0.00207422755175503, 'temp': 0.01007218620646745, 'critic_loss': 5.806964691638947, 'actor_loss': -4.271077278971672, 'time_step': 0.008479310750961304, 'rollout_return': 14.824, 'evaluation': 17.1} step=78000\n"
     ]
    },
    {
     "name": "stderr",
     "output_type": "stream",
     "text": [
      " 79%|███████▉  | 78998/100000 [25:05<06:12, 56.42it/s] "
     ]
    },
    {
     "name": "stdout",
     "output_type": "stream",
     "text": [
      "2022-04-09 11:07.31 [info     ] Model parameters are saved to d3rlpy_logs/SAC_online_20220409104225/model_79000.pt\n",
      "2022-04-09 11:07.31 [info     ] SAC_online_20220409104225: epoch=79 step=79000 epoch=79 metrics={'time_inference': 0.0006721298694610596, 'time_environment_step': 0.0008140207018171038, 'time_sample_batch': 0.0003440053462982178, 'time_algorithm_update': 0.0076004152297973636, 'temp_loss': 0.0009287334350010497, 'temp': 0.009603966124355793, 'critic_loss': 5.325651339530944, 'actor_loss': -4.268711308538914, 'time_step': 0.009421824932098389, 'rollout_return': 14.736, 'evaluation': 17.5} step=79000\n"
     ]
    },
    {
     "name": "stderr",
     "output_type": "stream",
     "text": [
      " 80%|███████▉  | 79997/100000 [25:23<05:36, 59.43it/s]"
     ]
    },
    {
     "name": "stdout",
     "output_type": "stream",
     "text": [
      "2022-04-09 11:07.48 [info     ] Model parameters are saved to d3rlpy_logs/SAC_online_20220409104225/model_80000.pt\n",
      "2022-04-09 11:07.48 [info     ] SAC_online_20220409104225: epoch=80 step=80000 epoch=80 metrics={'time_inference': 0.0009055633544921875, 'time_environment_step': 0.0010766007559640067, 'time_sample_batch': 0.00045898675918579104, 'time_algorithm_update': 0.013562837839126587, 'temp_loss': 0.0006996859936407418, 'temp': 0.009008674538694321, 'critic_loss': 5.225169709444046, 'actor_loss': -4.198441286206245, 'time_step': 0.015991461277008057, 'rollout_return': 14.976, 'evaluation': 15.2} step=80000\n"
     ]
    },
    {
     "name": "stderr",
     "output_type": "stream",
     "text": [
      " 81%|████████  | 80998/100000 [25:39<05:39, 55.91it/s]"
     ]
    },
    {
     "name": "stdout",
     "output_type": "stream",
     "text": [
      "2022-04-09 11:08.04 [info     ] Model parameters are saved to d3rlpy_logs/SAC_online_20220409104225/model_81000.pt\n",
      "2022-04-09 11:08.04 [info     ] SAC_online_20220409104225: epoch=81 step=81000 epoch=81 metrics={'time_inference': 0.0008775405883789063, 'time_environment_step': 0.0010277462005615235, 'time_sample_batch': 0.0004607336521148682, 'time_algorithm_update': 0.012870073795318604, 'temp_loss': 0.0011002848125863237, 'temp': 0.008471917130984366, 'critic_loss': 5.534574070215225, 'actor_loss': -4.16176582634449, 'time_step': 0.01521359944343567, 'rollout_return': 15.248, 'evaluation': 14.8} step=81000\n"
     ]
    },
    {
     "name": "stderr",
     "output_type": "stream",
     "text": [
      " 82%|████████▏ | 81998/100000 [25:56<04:09, 72.23it/s]"
     ]
    },
    {
     "name": "stdout",
     "output_type": "stream",
     "text": [
      "2022-04-09 11:08.22 [info     ] Model parameters are saved to d3rlpy_logs/SAC_online_20220409104225/model_82000.pt\n",
      "2022-04-09 11:08.22 [info     ] SAC_online_20220409104225: epoch=82 step=82000 epoch=82 metrics={'time_inference': 0.0008870680332183837, 'time_environment_step': 0.0011418617793491907, 'time_sample_batch': 0.0004835193157196045, 'time_algorithm_update': 0.014400733232498169, 'temp_loss': 0.0007622230120687164, 'temp': 0.007888632288668304, 'critic_loss': 5.200858086109162, 'actor_loss': -4.238593282699585, 'time_step': 0.016885032892227172, 'rollout_return': 15.608, 'evaluation': 14.8} step=82000\n"
     ]
    },
    {
     "name": "stderr",
     "output_type": "stream",
     "text": [
      " 83%|████████▎ | 82998/100000 [26:13<03:31, 80.35it/s]"
     ]
    },
    {
     "name": "stdout",
     "output_type": "stream",
     "text": [
      "2022-04-09 11:08.38 [info     ] Model parameters are saved to d3rlpy_logs/SAC_online_20220409104225/model_83000.pt\n",
      "2022-04-09 11:08.38 [info     ] SAC_online_20220409104225: epoch=83 step=83000 epoch=83 metrics={'time_inference': 0.000898369312286377, 'time_environment_step': 0.0010807609558105469, 'time_sample_batch': 0.000462376594543457, 'time_algorithm_update': 0.012979871273040771, 'temp_loss': -3.215778535377467e-06, 'temp': 0.007655328556895256, 'critic_loss': 5.652340952157974, 'actor_loss': -4.217763038337231, 'time_step': 0.015405692338943481, 'rollout_return': 15.248, 'evaluation': 15.8} step=83000\n"
     ]
    },
    {
     "name": "stderr",
     "output_type": "stream",
     "text": [
      " 84%|████████▍ | 83997/100000 [26:33<07:35, 35.10it/s]"
     ]
    },
    {
     "name": "stdout",
     "output_type": "stream",
     "text": [
      "2022-04-09 11:08.58 [info     ] Model parameters are saved to d3rlpy_logs/SAC_online_20220409104225/model_84000.pt\n",
      "2022-04-09 11:08.58 [info     ] SAC_online_20220409104225: epoch=84 step=84000 epoch=84 metrics={'time_inference': 0.0009225699901580811, 'time_environment_step': 0.0010574937547956195, 'time_sample_batch': 0.0004608099460601807, 'time_algorithm_update': 0.016294474124908448, 'temp_loss': -0.00012809801282855914, 'temp': 0.007730169426649809, 'critic_loss': 5.38457253074646, 'actor_loss': -4.319107163578272, 'time_step': 0.018708048105239867, 'rollout_return': 15.368, 'evaluation': 15.6} step=84000\n"
     ]
    },
    {
     "name": "stderr",
     "output_type": "stream",
     "text": [
      " 85%|████████▍ | 84996/100000 [27:00<06:39, 37.54it/s]"
     ]
    },
    {
     "name": "stdout",
     "output_type": "stream",
     "text": [
      "2022-04-09 11:09.25 [info     ] Model parameters are saved to d3rlpy_logs/SAC_online_20220409104225/model_85000.pt\n",
      "2022-04-09 11:09.25 [info     ] SAC_online_20220409104225: epoch=85 step=85000 epoch=85 metrics={'time_inference': 0.0009536292552947998, 'time_environment_step': 0.001082221439906529, 'time_sample_batch': 0.0004886209964752198, 'time_algorithm_update': 0.022451162576675416, 'temp_loss': -0.00026043187875620787, 'temp': 0.007835971827618778, 'critic_loss': 5.094028901815414, 'actor_loss': -4.340903186917305, 'time_step': 0.024951297283172608, 'rollout_return': 15.352, 'evaluation': 14.2} step=85000\n"
     ]
    },
    {
     "name": "stderr",
     "output_type": "stream",
     "text": [
      " 86%|████████▌ | 85988/100000 [27:15<02:24, 96.79it/s] "
     ]
    },
    {
     "name": "stdout",
     "output_type": "stream",
     "text": [
      "2022-04-09 11:09.41 [info     ] Model parameters are saved to d3rlpy_logs/SAC_online_20220409104225/model_86000.pt\n",
      "2022-04-09 11:09.41 [info     ] SAC_online_20220409104225: epoch=86 step=86000 epoch=86 metrics={'time_inference': 0.0008379583358764649, 'time_environment_step': 0.0009795270647321428, 'time_sample_batch': 0.0004260435104370117, 'time_algorithm_update': 0.01268825888633728, 'temp_loss': 0.00016228773794864536, 'temp': 0.007991616987623275, 'critic_loss': 5.487578367471695, 'actor_loss': -4.313189428329467, 'time_step': 0.014916203498840331, 'rollout_return': 15.504, 'evaluation': 14.9} step=86000\n"
     ]
    },
    {
     "name": "stderr",
     "output_type": "stream",
     "text": [
      " 87%|████████▋ | 86995/100000 [27:25<01:50, 117.90it/s]"
     ]
    },
    {
     "name": "stdout",
     "output_type": "stream",
     "text": [
      "2022-04-09 11:09.50 [info     ] Model parameters are saved to d3rlpy_logs/SAC_online_20220409104225/model_87000.pt\n",
      "2022-04-09 11:09.50 [info     ] SAC_online_20220409104225: epoch=87 step=87000 epoch=87 metrics={'time_inference': 0.000714228630065918, 'time_environment_step': 0.0008503295353480748, 'time_sample_batch': 0.0003708858489990234, 'time_algorithm_update': 0.0071312041282653804, 'temp_loss': -0.00030559485888079506, 'temp': 0.007957057962194085, 'critic_loss': 5.880608955144882, 'actor_loss': -4.339115947663784, 'time_step': 0.009049366474151612, 'rollout_return': 15.136, 'evaluation': 16.7} step=87000\n"
     ]
    },
    {
     "name": "stderr",
     "output_type": "stream",
     "text": [
      " 88%|████████▊ | 87994/100000 [27:33<01:42, 116.58it/s]"
     ]
    },
    {
     "name": "stdout",
     "output_type": "stream",
     "text": [
      "2022-04-09 11:09.59 [info     ] Model parameters are saved to d3rlpy_logs/SAC_online_20220409104225/model_88000.pt\n",
      "2022-04-09 11:09.59 [info     ] SAC_online_20220409104225: epoch=88 step=88000 epoch=88 metrics={'time_inference': 0.0006871318817138672, 'time_environment_step': 0.0008104727608816964, 'time_sample_batch': 0.0003556687831878662, 'time_algorithm_update': 0.006742813110351562, 'temp_loss': 0.0009026363895172835, 'temp': 0.007657423140946776, 'critic_loss': 5.557896860837936, 'actor_loss': -4.420426332712173, 'time_step': 0.008578996658325195, 'rollout_return': 15.608, 'evaluation': 17.0} step=88000\n"
     ]
    },
    {
     "name": "stderr",
     "output_type": "stream",
     "text": [
      " 89%|████████▉ | 88998/100000 [27:43<02:01, 90.46it/s] "
     ]
    },
    {
     "name": "stdout",
     "output_type": "stream",
     "text": [
      "2022-04-09 11:10.09 [info     ] Model parameters are saved to d3rlpy_logs/SAC_online_20220409104225/model_89000.pt\n",
      "2022-04-09 11:10.09 [info     ] SAC_online_20220409104225: epoch=89 step=89000 epoch=89 metrics={'time_inference': 0.0007819573879241943, 'time_environment_step': 0.0009184327806745256, 'time_sample_batch': 0.0003904259204864502, 'time_algorithm_update': 0.00756801986694336, 'temp_loss': 0.00039183814915668335, 'temp': 0.007307946028187871, 'critic_loss': 5.718427686929703, 'actor_loss': -4.427047228485346, 'time_step': 0.009645326375961303, 'rollout_return': 14.688, 'evaluation': 16.4} step=89000\n"
     ]
    },
    {
     "name": "stderr",
     "output_type": "stream",
     "text": [
      " 90%|████████▉ | 89992/100000 [27:52<01:26, 115.96it/s]"
     ]
    },
    {
     "name": "stdout",
     "output_type": "stream",
     "text": [
      "2022-04-09 11:10.18 [info     ] Model parameters are saved to d3rlpy_logs/SAC_online_20220409104225/model_90000.pt\n",
      "2022-04-09 11:10.18 [info     ] SAC_online_20220409104225: epoch=90 step=90000 epoch=90 metrics={'time_inference': 0.0007153782844543457, 'time_environment_step': 0.0008330375126429966, 'time_sample_batch': 0.0003661057949066162, 'time_algorithm_update': 0.007044718742370605, 'temp_loss': 0.000872713020471565, 'temp': 0.006783653062768281, 'critic_loss': 5.204048475980759, 'actor_loss': -4.496857369422913, 'time_step': 0.008945341587066651, 'rollout_return': 15.128, 'evaluation': 15.9} step=90000\n"
     ]
    },
    {
     "name": "stderr",
     "output_type": "stream",
     "text": [
      " 91%|█████████ | 90996/100000 [28:01<01:18, 115.03it/s]"
     ]
    },
    {
     "name": "stdout",
     "output_type": "stream",
     "text": [
      "2022-04-09 11:10.26 [info     ] Model parameters are saved to d3rlpy_logs/SAC_online_20220409104225/model_91000.pt\n",
      "2022-04-09 11:10.27 [info     ] SAC_online_20220409104225: epoch=91 step=91000 epoch=91 metrics={'time_inference': 0.0006606502532958984, 'time_environment_step': 0.0007919562203543527, 'time_sample_batch': 0.00034901118278503416, 'time_algorithm_update': 0.006609868764877319, 'temp_loss': -0.0010895219909289153, 'temp': 0.006713095634244382, 'critic_loss': 5.851772490262985, 'actor_loss': -4.515876388832927, 'time_step': 0.008393656015396118, 'rollout_return': 15.344, 'evaluation': 16.2} step=91000\n"
     ]
    },
    {
     "name": "stderr",
     "output_type": "stream",
     "text": [
      " 92%|█████████▏| 91998/100000 [28:10<01:09, 115.28it/s]"
     ]
    },
    {
     "name": "stdout",
     "output_type": "stream",
     "text": [
      "2022-04-09 11:10.35 [info     ] Model parameters are saved to d3rlpy_logs/SAC_online_20220409104225/model_92000.pt\n",
      "2022-04-09 11:10.35 [info     ] SAC_online_20220409104225: epoch=92 step=92000 epoch=92 metrics={'time_inference': 0.0006795988082885742, 'time_environment_step': 0.0008098316192626953, 'time_sample_batch': 0.000356492280960083, 'time_algorithm_update': 0.006796062469482422, 'temp_loss': -0.0017034183145005954, 'temp': 0.007822656268253923, 'critic_loss': 5.480366706371307, 'actor_loss': -4.640530752062798, 'time_step': 0.008625024080276489, 'rollout_return': 15.552, 'evaluation': 16.1} step=92000\n"
     ]
    },
    {
     "name": "stderr",
     "output_type": "stream",
     "text": [
      " 93%|█████████▎| 92991/100000 [28:20<01:06, 105.48it/s]"
     ]
    },
    {
     "name": "stdout",
     "output_type": "stream",
     "text": [
      "2022-04-09 11:10.45 [info     ] Model parameters are saved to d3rlpy_logs/SAC_online_20220409104225/model_93000.pt\n",
      "2022-04-09 11:10.45 [info     ] SAC_online_20220409104225: epoch=93 step=93000 epoch=93 metrics={'time_inference': 0.0007502343654632568, 'time_environment_step': 0.0008930527823311942, 'time_sample_batch': 0.00039267969131469727, 'time_algorithm_update': 0.007757116079330445, 'temp_loss': -0.0015741526401398004, 'temp': 0.009253834873437882, 'critic_loss': 6.150961929798126, 'actor_loss': -4.5810843362808225, 'time_step': 0.009778408527374268, 'rollout_return': 15.288, 'evaluation': 15.7} step=93000\n"
     ]
    },
    {
     "name": "stderr",
     "output_type": "stream",
     "text": [
      " 94%|█████████▍| 93988/100000 [28:29<00:55, 108.28it/s]"
     ]
    },
    {
     "name": "stdout",
     "output_type": "stream",
     "text": [
      "2022-04-09 11:10.55 [info     ] Model parameters are saved to d3rlpy_logs/SAC_online_20220409104225/model_94000.pt\n",
      "2022-04-09 11:10.55 [info     ] SAC_online_20220409104225: epoch=94 step=94000 epoch=94 metrics={'time_inference': 0.0007645561695098877, 'time_environment_step': 0.0009118829454694476, 'time_sample_batch': 0.0003813314437866211, 'time_algorithm_update': 0.007264650106430054, 'temp_loss': -0.0005535838763753418, 'temp': 0.010111324100755156, 'critic_loss': 6.3032069075107575, 'actor_loss': -4.57691899818182, 'time_step': 0.009314180374145508, 'rollout_return': 15.616, 'evaluation': 15.9} step=94000\n"
     ]
    },
    {
     "name": "stderr",
     "output_type": "stream",
     "text": [
      " 95%|█████████▍| 94991/100000 [28:39<00:47, 106.54it/s]"
     ]
    },
    {
     "name": "stdout",
     "output_type": "stream",
     "text": [
      "2022-04-09 11:11.04 [info     ] Model parameters are saved to d3rlpy_logs/SAC_online_20220409104225/model_95000.pt\n",
      "2022-04-09 11:11.04 [info     ] SAC_online_20220409104225: epoch=95 step=95000 epoch=95 metrics={'time_inference': 0.0007703807353973388, 'time_environment_step': 0.0009041778019496373, 'time_sample_batch': 0.0003791632652282715, 'time_algorithm_update': 0.007194207429885864, 'temp_loss': -0.001370874569969601, 'temp': 0.011082383170723915, 'critic_loss': 5.268795852899552, 'actor_loss': -4.699028826951981, 'time_step': 0.009241872072219848, 'rollout_return': 15.336, 'evaluation': 16.2} step=95000\n"
     ]
    },
    {
     "name": "stderr",
     "output_type": "stream",
     "text": [
      " 96%|█████████▌| 95999/100000 [28:47<00:31, 128.74it/s]"
     ]
    },
    {
     "name": "stdout",
     "output_type": "stream",
     "text": [
      "2022-04-09 11:11.13 [info     ] Model parameters are saved to d3rlpy_logs/SAC_online_20220409104225/model_96000.pt\n",
      "2022-04-09 11:11.13 [info     ] SAC_online_20220409104225: epoch=96 step=96000 epoch=96 metrics={'time_inference': 0.0006493911743164063, 'time_environment_step': 0.0007968681880405971, 'time_sample_batch': 0.00033899879455566407, 'time_algorithm_update': 0.00640360426902771, 'temp_loss': 7.020035442110383e-05, 'temp': 0.011602267815731466, 'critic_loss': 5.635490778207779, 'actor_loss': -4.566146431803704, 'time_step': 0.008174952268600464, 'rollout_return': 14.832, 'evaluation': 13.9} step=96000\n"
     ]
    },
    {
     "name": "stderr",
     "output_type": "stream",
     "text": [
      " 97%|█████████▋| 96993/100000 [28:56<00:22, 131.73it/s]"
     ]
    },
    {
     "name": "stdout",
     "output_type": "stream",
     "text": [
      "2022-04-09 11:11.21 [info     ] Model parameters are saved to d3rlpy_logs/SAC_online_20220409104225/model_97000.pt\n",
      "2022-04-09 11:11.21 [info     ] SAC_online_20220409104225: epoch=97 step=97000 epoch=97 metrics={'time_inference': 0.000649350643157959, 'time_environment_step': 0.0007859780447823661, 'time_sample_batch': 0.000336944580078125, 'time_algorithm_update': 0.006462120056152344, 'temp_loss': -9.54493148237816e-05, 'temp': 0.011433262849226593, 'critic_loss': 5.435395887374878, 'actor_loss': -4.598393114328385, 'time_step': 0.008219319820404053, 'rollout_return': 15.256, 'evaluation': 15.1} step=97000\n"
     ]
    },
    {
     "name": "stderr",
     "output_type": "stream",
     "text": [
      " 98%|█████████▊| 97997/100000 [29:04<00:15, 127.40it/s]"
     ]
    },
    {
     "name": "stdout",
     "output_type": "stream",
     "text": [
      "2022-04-09 11:11.29 [info     ] Model parameters are saved to d3rlpy_logs/SAC_online_20220409104225/model_98000.pt\n",
      "2022-04-09 11:11.29 [info     ] SAC_online_20220409104225: epoch=98 step=98000 epoch=98 metrics={'time_inference': 0.0006415798664093018, 'time_environment_step': 0.0007879390716552735, 'time_sample_batch': 0.00033795762062072756, 'time_algorithm_update': 0.006389182567596435, 'temp_loss': -0.0007657887613931962, 'temp': 0.012110273177735508, 'critic_loss': 6.058637486219406, 'actor_loss': -4.533374485969543, 'time_step': 0.008140965461730957, 'rollout_return': 15.256, 'evaluation': 16.5} step=98000\n"
     ]
    },
    {
     "name": "stderr",
     "output_type": "stream",
     "text": [
      " 99%|█████████▉| 98989/100000 [29:12<00:07, 128.89it/s]"
     ]
    },
    {
     "name": "stdout",
     "output_type": "stream",
     "text": [
      "2022-04-09 11:11.38 [info     ] Model parameters are saved to d3rlpy_logs/SAC_online_20220409104225/model_99000.pt\n",
      "2022-04-09 11:11.38 [info     ] SAC_online_20220409104225: epoch=99 step=99000 epoch=99 metrics={'time_inference': 0.0006213777065277099, 'time_environment_step': 0.0007835905892508371, 'time_sample_batch': 0.00033172369003295896, 'time_algorithm_update': 0.006261136054992676, 'temp_loss': -0.001021064841086627, 'temp': 0.012960683609358967, 'critic_loss': 5.772930326938629, 'actor_loss': -4.57020711517334, 'time_step': 0.007981815576553345, 'rollout_return': 15.504, 'evaluation': 12.5} step=99000\n"
     ]
    },
    {
     "name": "stderr",
     "output_type": "stream",
     "text": [
      "100%|█████████▉| 99993/100000 [29:20<00:00, 134.85it/s]"
     ]
    },
    {
     "name": "stdout",
     "output_type": "stream",
     "text": [
      "2022-04-09 11:11.46 [info     ] Model parameters are saved to d3rlpy_logs/SAC_online_20220409104225/model_100000.pt\n",
      "2022-04-09 11:11.46 [info     ] SAC_online_20220409104225: epoch=100 step=100000 epoch=100 metrics={'time_inference': 0.0006271841526031494, 'time_environment_step': 0.000771115711757115, 'time_sample_batch': 0.0003278341293334961, 'time_algorithm_update': 0.006207583665847778, 'temp_loss': -0.0005405308872868772, 'temp': 0.01386084544006735, 'critic_loss': 5.615311392784118, 'actor_loss': -4.494340934276581, 'time_step': 0.0079186372756958, 'rollout_return': 15.296, 'evaluation': 15.5} step=100000\n"
     ]
    },
    {
     "name": "stderr",
     "output_type": "stream",
     "text": [
      "100%|██████████| 100000/100000 [29:20<00:00, 56.79it/s]\n"
     ]
    }
   ],
   "source": [
    "# start training\n",
    "# skip if there is a pre-trained model\n",
    "sac.fit_online(\n",
    "    env,\n",
    "    buffer,\n",
    "    eval_env=env,\n",
    "    n_steps=100000,\n",
    "    n_steps_per_epoch=1000,\n",
    ")"
   ]
  },
  {
   "cell_type": "code",
   "execution_count": 19,
   "metadata": {},
   "outputs": [],
   "source": [
    "# save model\n",
    "sac.save_model(\"d3rlpy_logs/sac.pt\")"
   ]
  },
  {
   "cell_type": "code",
   "execution_count": 20,
   "metadata": {},
   "outputs": [
    {
     "name": "stdout",
     "output_type": "stream",
     "text": [
      "2022-04-09 11:11.46 [warning  ] Parameters will be reinitialized.\n"
     ]
    }
   ],
   "source": [
    "# reload model\n",
    "sac.build_with_env(env)\n",
    "sac.load_model(\"d3rlpy_logs/sac.pt\")"
   ]
  },
  {
   "cell_type": "code",
   "execution_count": 21,
   "metadata": {},
   "outputs": [
    {
     "data": {
      "text/plain": [
       "Text(0, 0.5, 'episode reward')"
      ]
     },
     "execution_count": 21,
     "metadata": {},
     "output_type": "execute_result"
    },
    {
     "data": {
      "image/png": "[encoded data removed]",
      "text/plain": [
       "<Figure size 432x288 with 1 Axes>"
      ]
     },
     "metadata": {
      "needs_background": "light"
     },
     "output_type": "display_data"
    }
   ],
   "source": [
    "# may need more interactions to converge\n",
    "log_path = sorted(glob(\"d3rlpy_logs/SAC_online_*/evaluation.csv\"))[-1]\n",
    "df = pd.read_csv(\n",
    "    log_path, \n",
    "    usecols=[1,2],\n",
    "    names=[\"train_episode\", \"episodic_rewards\"]\n",
    ")\n",
    "plt.plot(df[\"train_episode\"], df[\"episodic_rewards\"])\n",
    "plt.title(\"Learning curve of SAC\")\n",
    "plt.xlabel(\"episode\")\n",
    "plt.ylabel(\"episode reward\")"
   ]
  },
  {
   "cell_type": "code",
   "execution_count": 22,
   "metadata": {},
   "outputs": [],
   "source": [
    "random = ContinuousRandomPolicy(\n",
    "    action_scaler=MinMaxActionScaler(\n",
    "        minimum=env.action_space.low,  # minimum value that policy can take\n",
    "        maximum=env.action_space.high,  # maximum value that policy can take\n",
    "    )\n",
    ")"
   ]
  },
  {
   "cell_type": "code",
   "execution_count": 23,
   "metadata": {},
   "outputs": [
    {
     "data": {
      "application/vnd.jupyter.widget-view+json": {
       "model_id": "7a3b3377db5d4edcabe6742b7ed9ca45",
       "version_major": 2,
       "version_minor": 0
      },
      "text/plain": [
       "[calculate on-policy policy value]:   0%|          | 0/100 [00:00<?, ?it/s]"
      ]
     },
     "metadata": {},
     "output_type": "display_data"
    },
    {
     "data": {
      "application/vnd.jupyter.widget-view+json": {
       "model_id": "8f4cb28be1eb4be9a2b7894a95629ee4",
       "version_major": 2,
       "version_minor": 0
      },
      "text/plain": [
       "[calculate on-policy policy value]:   0%|          | 0/100 [00:00<?, ?it/s]"
      ]
     },
     "metadata": {},
     "output_type": "display_data"
    },
    {
     "data": {
      "image/png": "[encoded data removed]",
      "text/plain": [
       "<Figure size 288x288 with 1 Axes>"
      ]
     },
     "metadata": {},
     "output_type": "display_data"
    }
   ],
   "source": [
    "# compare performance online\n",
    "visualize_on_policy_policy_value(\n",
    "    env=env,\n",
    "    policies=[sac, random],\n",
    "    policy_names=[\"sac\", \"random\"],\n",
    "    n_episodes=100,\n",
    "    random_state=random_state,\n",
    ")"
   ]
  },
  {
   "cell_type": "code",
   "execution_count": 24,
   "metadata": {},
   "outputs": [
    {
     "data": {
      "application/vnd.jupyter.widget-view+json": {
       "model_id": "309738731791436aa0a3187975c7d0cd",
       "version_major": 2,
       "version_minor": 0
      },
      "text/plain": [
       "[calculate on-policy policy value]:   0%|          | 0/100 [00:00<?, ?it/s]"
      ]
     },
     "metadata": {},
     "output_type": "display_data"
    },
    {
     "data": {
      "application/vnd.jupyter.widget-view+json": {
       "model_id": "92184b2232ea42e5a06719835bf84f09",
       "version_major": 2,
       "version_minor": 0
      },
      "text/plain": [
       "[calculate on-policy policy value]:   0%|          | 0/100 [00:00<?, ?it/s]"
      ]
     },
     "metadata": {},
     "output_type": "display_data"
    },
    {
     "name": "stdout",
     "output_type": "stream",
     "text": [
      "relative improvement: 0.07188160676532779\n"
     ]
    }
   ],
   "source": [
    "# on-policy policy value by sac policy\n",
    "# slightly improves random policy\n",
    "sac_performance = calc_on_policy_policy_value(env, sac, n_episodes=100, random_state=random_state)\n",
    "random_performance = calc_on_policy_policy_value(env, random, n_episodes=100, random_state=random_state)\n",
    "print(\"relative improvement:\", (sac_performance - random_performance) / random_performance)"
   ]
  },
  {
   "cell_type": "markdown",
   "metadata": {},
   "source": [
    "## 1. Synthetic Dataset Generation\n",
    "In the previous section, we see how we can interact the environment *online* using synthetic simulator.  \n",
    "Though simulation is a good start for training agent, eventually we want to deploy our agent (or policy) in the real world environment.  \n",
    "However, online interaction may have potential risk of failure in real-world implementataion.  \n",
    "Therefore, we introduce alternative learning protocol, Offline RL, which aim to obtain a new policy using only offline logged dataset.\n",
    "\n",
    "We prepare easy-to-use synthetic dataset generator: `SyntheticDataset` class in the dataset module.  \n",
    "By regarding simulation environment as a hypothetical real-environment, we show how to conduct Offline RL using logged dataset in real-world application.  \n",
    "For detailed description of how to use real-world dataset, please see #TODO (will be implemented).\n",
    "\n",
    "We have following arguments for `SyntheticDataset` class:\n",
    "- `env`: RTB environment for RL defined in the previous section.\n",
    "- `bahavior_policy`: RL agent (or algorithm) used for the data collection.\n",
    "- `n_samples_pretrain_reward_predictor`: Numbers of samples used to pretrain reward predictor."
   ]
  },
  {
   "cell_type": "code",
   "execution_count": 25,
   "metadata": {},
   "outputs": [],
   "source": [
    "behavior_policy = ContinuousTruncatedGaussianHead(\n",
    "    sac, \n",
    "    minimum=env.action_space.low,\n",
    "    maximum=env.action_space.high,\n",
    "    sigma=np.array([1.0]),\n",
    "    name=\"sac_sigma_1.0\",\n",
    "    random_state=random_state,\n",
    ")"
   ]
  },
  {
   "cell_type": "code",
   "execution_count": 26,
   "metadata": {},
   "outputs": [],
   "source": [
    "# initialize dataset class\n",
    "dataset = SyntheticDataset(\n",
    "    env=env,\n",
    "    behavior_policy=behavior_policy,\n",
    "    random_state=random_state,\n",
    ")"
   ]
  },
  {
   "cell_type": "code",
   "execution_count": 27,
   "metadata": {},
   "outputs": [
    {
     "data": {
      "application/vnd.jupyter.widget-view+json": {
       "model_id": "82c254f7a0fb4199b8517b1ad8742a9d",
       "version_major": 2,
       "version_minor": 0
      },
      "text/plain": [
       "[obtain_trajectories]:   0%|          | 0/10000 [00:00<?, ?it/s]"
      ]
     },
     "metadata": {},
     "output_type": "display_data"
    }
   ],
   "source": [
    "# collect logged data using behavior policy\n",
    "# skip if there is a preserved logged dataset\n",
    "logged_dataset = dataset.obtain_trajectories(n_episodes=10000, obtain_info=True)"
   ]
  },
  {
   "cell_type": "code",
   "execution_count": 28,
   "metadata": {},
   "outputs": [
    {
     "data": {
      "text/plain": [
       "{'size': 70000,\n",
       " 'n_episodes': 10000,\n",
       " 'step_per_episode': 7,\n",
       " 'action_type': 'continuous',\n",
       " 'n_actions': None,\n",
       " 'action_dim': 1,\n",
       " 'action_meaning': None,\n",
       " 'state_dim': 7,\n",
       " 'state_keys': ['timestep',\n",
       "  'remaining_budget',\n",
       "  'budget_consumption_rate',\n",
       "  'cost_per_mille_of_impression',\n",
       "  'winning_rate',\n",
       "  'reward',\n",
       "  'adjust_rate'],\n",
       " 'state': array([[0.00000000e+00, 3.00000000e+03, 9.29616093e-01, ...,\n",
       "         1.83918812e-01, 2.00000000e+00, 1.65804778e+00],\n",
       "        [1.00000000e+00, 1.91000000e+03, 3.63333333e-01, ...,\n",
       "         1.00000000e+00, 6.00000000e+00, 9.08894015e+00],\n",
       "        [2.00000000e+00, 1.17300000e+03, 3.85863874e-01, ...,\n",
       "         9.60975610e-01, 1.00000000e+00, 1.72933845e+00],\n",
       "        ...,\n",
       "        [4.00000000e+00, 4.37000000e+02, 7.14751958e-01, ...,\n",
       "         1.00000000e+00, 4.00000000e+00, 7.64677224e+00],\n",
       "        [5.00000000e+00, 2.70000000e+01, 9.38215103e-01, ...,\n",
       "         2.31527094e-01, 3.00000000e+00, 9.77425899e+00],\n",
       "        [6.00000000e+00, 2.70000000e+01, 0.00000000e+00, ...,\n",
       "         7.78210117e-03, 0.00000000e+00, 6.26920565e+00]]),\n",
       " 'action': array([[9.08894015],\n",
       "        [1.72933845],\n",
       "        [1.76750529],\n",
       "        ...,\n",
       "        [9.77425899],\n",
       "        [6.26920565],\n",
       "        [3.09639603]]),\n",
       " 'reward': array([6., 1., 1., ..., 3., 0., 0.]),\n",
       " 'done': array([0., 0., 0., ..., 0., 0., 1.]),\n",
       " 'terminal': array([0., 0., 0., ..., 0., 0., 1.]),\n",
       " 'info': {'search_volume': array([201., 205., 217., ..., 203., 257., 179.]),\n",
       "  'impression': array([201., 197., 212., ...,  47.,   2.,   5.]),\n",
       "  'click': array([21., 15., 22., ...,  8.,  0.,  0.]),\n",
       "  'conversion': array([6., 1., 1., ..., 3., 0., 0.]),\n",
       "  'average_bid_price': array([528.40298507,  93.10731707,  93.29493088, ..., 460.52216749,\n",
       "         282.40856031, 136.12290503])},\n",
       " 'pscore': array([[0.5356804 ],\n",
       "        [0.23539508],\n",
       "        [0.31314581],\n",
       "        ...,\n",
       "        [0.37386086],\n",
       "        [0.21909564],\n",
       "        [0.3992615 ]])}"
      ]
     },
     "execution_count": 28,
     "metadata": {},
     "output_type": "execute_result"
    }
   ],
   "source": [
    "logged_dataset"
   ]
  },
  {
   "cell_type": "code",
   "execution_count": 29,
   "metadata": {},
   "outputs": [],
   "source": [
    "with open(\"logs/dataset_continuous.pkl\", \"wb\") as f:\n",
    "    pickle.dump(logged_dataset, f)"
   ]
  },
  {
   "cell_type": "code",
   "execution_count": 30,
   "metadata": {},
   "outputs": [],
   "source": [
    "with open(\"logs/dataset_continuous.pkl\", \"rb\") as f:\n",
    "    logged_dataset = pickle.load(f)"
   ]
  },
  {
   "cell_type": "code",
   "execution_count": 31,
   "metadata": {},
   "outputs": [
    {
     "data": {
      "application/vnd.jupyter.widget-view+json": {
       "model_id": "ad5b340f1fa349548e7fe894438ae2c3",
       "version_major": 2,
       "version_minor": 0
      },
      "text/plain": [
       "[calculate on-policy policy value]:   0%|          | 0/100 [00:00<?, ?it/s]"
      ]
     },
     "metadata": {},
     "output_type": "display_data"
    },
    {
     "data": {
      "application/vnd.jupyter.widget-view+json": {
       "model_id": "ad3cb810f7914b3cbe69fc4b081cd6ad",
       "version_major": 2,
       "version_minor": 0
      },
      "text/plain": [
       "[calculate on-policy policy value]:   0%|          | 0/100 [00:00<?, ?it/s]"
      ]
     },
     "metadata": {},
     "output_type": "display_data"
    },
    {
     "data": {
      "application/vnd.jupyter.widget-view+json": {
       "model_id": "2fd694a0d1eb482f98755647ac58a092",
       "version_major": 2,
       "version_minor": 0
      },
      "text/plain": [
       "[calculate on-policy policy value]:   0%|          | 0/100 [00:00<?, ?it/s]"
      ]
     },
     "metadata": {},
     "output_type": "display_data"
    },
    {
     "data": {
      "image/png": "[encoded data removed]",
      "text/plain": [
       "<Figure size 432x288 with 1 Axes>"
      ]
     },
     "metadata": {},
     "output_type": "display_data"
    }
   ],
   "source": [
    "# compare performance online\n",
    "visualize_on_policy_policy_value(\n",
    "    env=env,\n",
    "    policies=[sac, behavior_policy, random],\n",
    "    policy_names=[\"sac\", \"sac (sigma=1.0)\", \"random\"],\n",
    "    n_episodes=100,\n",
    "    random_state=random_state,\n",
    ")"
   ]
  },
  {
   "cell_type": "code",
   "execution_count": 32,
   "metadata": {},
   "outputs": [
    {
     "data": {
      "text/html": [
       "<div>\n",
       "<style scoped>\n",
       "    .dataframe tbody tr th:only-of-type {\n",
       "        vertical-align: middle;\n",
       "    }\n",
       "\n",
       "    .dataframe tbody tr th {\n",
       "        vertical-align: top;\n",
       "    }\n",
       "\n",
       "    .dataframe thead th {\n",
       "        text-align: right;\n",
       "    }\n",
       "</style>\n",
       "<table border=\"1\" class=\"dataframe\">\n",
       "  <thead>\n",
       "    <tr style=\"text-align: right;\">\n",
       "      <th></th>\n",
       "      <th>adjust rate</th>\n",
       "      <th>average bid price</th>\n",
       "      <th>impression</th>\n",
       "      <th>click</th>\n",
       "      <th>conversion</th>\n",
       "      <th>winning rate</th>\n",
       "      <th>click / impression</th>\n",
       "      <th>conversion / click</th>\n",
       "    </tr>\n",
       "  </thead>\n",
       "  <tbody>\n",
       "    <tr>\n",
       "      <th>count</th>\n",
       "      <td>70000.000000</td>\n",
       "      <td>70000.000000</td>\n",
       "      <td>70000.000000</td>\n",
       "      <td>70000.000000</td>\n",
       "      <td>70000.000000</td>\n",
       "      <td>70000.000000</td>\n",
       "      <td>70000.000000</td>\n",
       "      <td>70000.000000</td>\n",
       "    </tr>\n",
       "    <tr>\n",
       "      <th>mean</th>\n",
       "      <td>5.070918</td>\n",
       "      <td>285.944930</td>\n",
       "      <td>90.226514</td>\n",
       "      <td>8.788671</td>\n",
       "      <td>2.188486</td>\n",
       "      <td>0.515717</td>\n",
       "      <td>0.065556</td>\n",
       "      <td>0.141061</td>\n",
       "    </tr>\n",
       "    <tr>\n",
       "      <th>std</th>\n",
       "      <td>3.738492</td>\n",
       "      <td>178.827325</td>\n",
       "      <td>86.489338</td>\n",
       "      <td>9.306420</td>\n",
       "      <td>3.065277</td>\n",
       "      <td>0.412144</td>\n",
       "      <td>0.069522</td>\n",
       "      <td>0.185319</td>\n",
       "    </tr>\n",
       "    <tr>\n",
       "      <th>min</th>\n",
       "      <td>0.000043</td>\n",
       "      <td>4.173684</td>\n",
       "      <td>0.000000</td>\n",
       "      <td>0.000000</td>\n",
       "      <td>0.000000</td>\n",
       "      <td>0.000000</td>\n",
       "      <td>0.000000</td>\n",
       "      <td>0.000000</td>\n",
       "    </tr>\n",
       "    <tr>\n",
       "      <th>25%</th>\n",
       "      <td>1.026860</td>\n",
       "      <td>94.053773</td>\n",
       "      <td>6.000000</td>\n",
       "      <td>0.000000</td>\n",
       "      <td>0.000000</td>\n",
       "      <td>0.059091</td>\n",
       "      <td>0.000000</td>\n",
       "      <td>0.000000</td>\n",
       "    </tr>\n",
       "    <tr>\n",
       "      <th>50%</th>\n",
       "      <td>5.997562</td>\n",
       "      <td>319.050414</td>\n",
       "      <td>54.000000</td>\n",
       "      <td>5.000000</td>\n",
       "      <td>1.000000</td>\n",
       "      <td>0.522096</td>\n",
       "      <td>0.075630</td>\n",
       "      <td>0.055556</td>\n",
       "    </tr>\n",
       "    <tr>\n",
       "      <th>75%</th>\n",
       "      <td>8.791513</td>\n",
       "      <td>444.742979</td>\n",
       "      <td>183.000000</td>\n",
       "      <td>17.000000</td>\n",
       "      <td>4.000000</td>\n",
       "      <td>1.000000</td>\n",
       "      <td>0.106383</td>\n",
       "      <td>0.250000</td>\n",
       "    </tr>\n",
       "    <tr>\n",
       "      <th>max</th>\n",
       "      <td>9.999965</td>\n",
       "      <td>582.104762</td>\n",
       "      <td>290.000000</td>\n",
       "      <td>41.000000</td>\n",
       "      <td>20.000000</td>\n",
       "      <td>1.000000</td>\n",
       "      <td>0.999997</td>\n",
       "      <td>0.999998</td>\n",
       "    </tr>\n",
       "  </tbody>\n",
       "</table>\n",
       "</div>"
      ],
      "text/plain": [
       "        adjust rate  average bid price    impression         click  \\\n",
       "count  70000.000000       70000.000000  70000.000000  70000.000000   \n",
       "mean       5.070918         285.944930     90.226514      8.788671   \n",
       "std        3.738492         178.827325     86.489338      9.306420   \n",
       "min        0.000043           4.173684      0.000000      0.000000   \n",
       "25%        1.026860          94.053773      6.000000      0.000000   \n",
       "50%        5.997562         319.050414     54.000000      5.000000   \n",
       "75%        8.791513         444.742979    183.000000     17.000000   \n",
       "max        9.999965         582.104762    290.000000     41.000000   \n",
       "\n",
       "         conversion  winning rate  click / impression  conversion / click  \n",
       "count  70000.000000  70000.000000        70000.000000        70000.000000  \n",
       "mean       2.188486      0.515717            0.065556            0.141061  \n",
       "std        3.065277      0.412144            0.069522            0.185319  \n",
       "min        0.000000      0.000000            0.000000            0.000000  \n",
       "25%        0.000000      0.059091            0.000000            0.000000  \n",
       "50%        1.000000      0.522096            0.075630            0.055556  \n",
       "75%        4.000000      1.000000            0.106383            0.250000  \n",
       "max       20.000000      1.000000            0.999997            0.999998  "
      ]
     },
     "execution_count": 32,
     "metadata": {},
     "output_type": "execute_result"
    }
   ],
   "source": [
    "# check statistics of the dataset\n",
    "df = pd.DataFrame()\n",
    "df['adjust rate'] = logged_dataset['state'][:, 6]\n",
    "df['average bid price'] = logged_dataset['info']['average_bid_price']\n",
    "df['impression'] = logged_dataset['info']['impression']\n",
    "df['click'] = logged_dataset['info']['click']\n",
    "df['conversion'] = logged_dataset['info']['conversion']\n",
    "df['winning rate'] = logged_dataset['state'][:, 4]\n",
    "df['click / impression'] = df['click'] / (df['impression'] + 1e-5)\n",
    "df['conversion / click'] = df['conversion'] / (df['click'] + 1e-5)\n",
    "df.describe()"
   ]
  },
  {
   "cell_type": "markdown",
   "metadata": {},
   "source": [
    "For more about the data collection and visualization, please refer to [examples/quickstart/rtb_synthetic_data_collection.ipynb](https://github.com/negocia-inc/rtb_reinforcement_learing/blob/ope/examples/quickstart/rtb_synthetic_data_collection.ipynb)."
   ]
  },
  {
   "cell_type": "markdown",
   "metadata": {},
   "source": [
    "## 2. Offline Reinforcement Learning\n",
    "In this section, we learn a new policy in an offline manner, without interacting to the environment.  \n",
    "To achieve this goal, we exploit logged dataset and train the policy on the data.  \n",
    "We use [d3rlpy](https://github.com/takuseno/d3rlpy)'s implementation of algorithms."
   ]
  },
  {
   "cell_type": "code",
   "execution_count": 33,
   "metadata": {},
   "outputs": [],
   "source": [
    "# import modules from d3rlpy\n",
    "from d3rlpy.dataset import MDPDataset\n",
    "from d3rlpy.algos import CQL as ContinuousCQL\n",
    "from d3rlpy.ope import FQE as ContinuousFQE\n",
    "from d3rlpy.metrics.scorer import evaluate_on_environment"
   ]
  },
  {
   "cell_type": "code",
   "execution_count": 34,
   "metadata": {},
   "outputs": [],
   "source": [
    "offlinerl_dataset = MDPDataset(\n",
    "    observations=logged_dataset[\"state\"],\n",
    "    actions=logged_dataset[\"action\"],\n",
    "    rewards=logged_dataset[\"reward\"],\n",
    "    terminals=logged_dataset[\"done\"],\n",
    "    episode_terminals=logged_dataset[\"done\"],\n",
    "    discrete_action=False,\n",
    ")\n",
    "train_episodes, test_episodes = train_test_split(offlinerl_dataset, test_size=0.2, random_state=random_state)"
   ]
  },
  {
   "cell_type": "code",
   "execution_count": 35,
   "metadata": {},
   "outputs": [],
   "source": [
    "# Use Conservetive Q-Learning policy\n",
    "cql = ContinuousCQL(\n",
    "    actor_encoder_factory=VectorEncoderFactory(hidden_units=[30, 30]),\n",
    "    critic_encoder_factory=VectorEncoderFactory(hidden_units=[30, 30]),\n",
    "    q_func_factory=MeanQFunctionFactory(),\n",
    "    use_gpu=torch.cuda.is_available(),\n",
    "    action_scaler=MinMaxActionScaler(\n",
    "        minimum=env.action_space.low,  # minimum value that policy can take\n",
    "        maximum=env.action_space.high,  # maximum value that policy can take\n",
    "    )\n",
    ")"
   ]
  },
  {
   "cell_type": "code",
   "execution_count": 36,
   "metadata": {},
   "outputs": [
    {
     "name": "stdout",
     "output_type": "stream",
     "text": [
      "2022-04-09 11:16.21 [debug    ] RandomIterator is selected.\n",
      "2022-04-09 11:16.21 [info     ] Directory is created at d3rlpy_logs/CQL_20220409111621\n",
      "2022-04-09 11:16.21 [debug    ] Fitting action scaler...       action_scaler=min_max\n",
      "2022-04-09 11:16.21 [debug    ] Building models...\n",
      "2022-04-09 11:16.21 [debug    ] Models have been built.\n",
      "2022-04-09 11:16.21 [info     ] Parameters are saved to d3rlpy_logs/CQL_20220409111621/params.json params={'action_scaler': {'type': 'min_max', 'params': {'minimum': array([0.1]), 'maximum': array([10.])}}, 'actor_encoder_factory': {'type': 'vector', 'params': {'hidden_units': [30, 30], 'activation': 'relu', 'use_batch_norm': False, 'dropout_rate': None, 'use_dense': False}}, 'actor_learning_rate': 0.0001, 'actor_optim_factory': {'optim_cls': 'Adam', 'betas': (0.9, 0.999), 'eps': 1e-08, 'weight_decay': 0, 'amsgrad': False}, 'alpha_learning_rate': 0.0001, 'alpha_optim_factory': {'optim_cls': 'Adam', 'betas': (0.9, 0.999), 'eps': 1e-08, 'weight_decay': 0, 'amsgrad': False}, 'alpha_threshold': 10.0, 'batch_size': 256, 'conservative_weight': 5.0, 'critic_encoder_factory': {'type': 'vector', 'params': {'hidden_units': [30, 30], 'activation': 'relu', 'use_batch_norm': False, 'dropout_rate': None, 'use_dense': False}}, 'critic_learning_rate': 0.0003, 'critic_optim_factory': {'optim_cls': 'Adam', 'betas': (0.9, 0.999), 'eps': 1e-08, 'weight_decay': 0, 'amsgrad': False}, 'gamma': 0.99, 'generated_maxlen': 100000, 'initial_alpha': 1.0, 'initial_temperature': 1.0, 'n_action_samples': 10, 'n_critics': 2, 'n_frames': 1, 'n_steps': 1, 'q_func_factory': {'type': 'mean', 'params': {'bootstrap': False, 'share_encoder': False}}, 'real_ratio': 1.0, 'reward_scaler': None, 'scaler': None, 'soft_q_backup': False, 'target_reduction_type': 'min', 'tau': 0.005, 'temp_learning_rate': 0.0001, 'temp_optim_factory': {'optim_cls': 'Adam', 'betas': (0.9, 0.999), 'eps': 1e-08, 'weight_decay': 0, 'amsgrad': False}, 'use_gpu': None, 'algorithm': 'CQL', 'observation_shape': (7,), 'action_size': 1}\n"
     ]
    },
    {
     "data": {
      "application/vnd.jupyter.widget-view+json": {
       "model_id": "eb49ff7674b1473da96217cc6c02e486",
       "version_major": 2,
       "version_minor": 0
      },
      "text/plain": [
       "Epoch 1/1:   0%|          | 0/10000 [00:00<?, ?it/s]"
      ]
     },
     "metadata": {},
     "output_type": "display_data"
    },
    {
     "name": "stdout",
     "output_type": "stream",
     "text": [
      "2022-04-09 11:22.32 [info     ] CQL_20220409111621: epoch=1 step=10000 epoch=1 metrics={'time_sample_batch': 0.0012491287708282471, 'time_algorithm_update': 0.03462712342739105, 'temp_loss': -5.690403391098976, 'temp': 1.5494696282505989, 'alpha_loss': -15.801690856409072, 'alpha': 1.784243188381195, 'critic_loss': 349.12200392246245, 'actor_loss': 15.174352159184217, 'time_step': 0.03676080949306488, 'environment': 14.0} step=10000\n",
      "2022-04-09 11:22.32 [info     ] Model parameters are saved to d3rlpy_logs/CQL_20220409111621/model_10000.pt\n"
     ]
    },
    {
     "data": {
      "text/plain": [
       "[(1,\n",
       "  {'time_sample_batch': 0.0012491287708282471,\n",
       "   'time_algorithm_update': 0.03462712342739105,\n",
       "   'temp_loss': -5.690403391098976,\n",
       "   'temp': 1.5494696282505989,\n",
       "   'alpha_loss': -15.801690856409072,\n",
       "   'alpha': 1.784243188381195,\n",
       "   'critic_loss': 349.12200392246245,\n",
       "   'actor_loss': 15.174352159184217,\n",
       "   'time_step': 0.03676080949306488,\n",
       "   'environment': 14.0})]"
      ]
     },
     "execution_count": 36,
     "metadata": {},
     "output_type": "execute_result"
    }
   ],
   "source": [
    "cql.fit(\n",
    "    train_episodes,\n",
    "    eval_episodes=test_episodes,\n",
    "    n_steps=10000,\n",
    "    scorers={\n",
    "        'environment': evaluate_on_environment(env),\n",
    "        # to record training process w/ ground truth policy value, which is unseen to the agent\n",
    "    },\n",
    ")"
   ]
  },
  {
   "cell_type": "code",
   "execution_count": 37,
   "metadata": {},
   "outputs": [],
   "source": [
    "# save model\n",
    "cql.save_model(\"d3rlpy_logs/cql_continuous.pt\")"
   ]
  },
  {
   "cell_type": "code",
   "execution_count": 38,
   "metadata": {},
   "outputs": [
    {
     "name": "stdout",
     "output_type": "stream",
     "text": [
      "2022-04-09 11:22.32 [warning  ] Parameters will be reinitialized.\n"
     ]
    }
   ],
   "source": [
    "# reload model\n",
    "cql.build_with_env(env)\n",
    "cql.load_model(\"d3rlpy_logs/cql_continuous.pt\")"
   ]
  },
  {
   "cell_type": "code",
   "execution_count": 39,
   "metadata": {},
   "outputs": [
    {
     "data": {
      "application/vnd.jupyter.widget-view+json": {
       "model_id": "e34f5f49495444c7a15ef0c41f8e08fd",
       "version_major": 2,
       "version_minor": 0
      },
      "text/plain": [
       "[calculate on-policy policy value]:   0%|          | 0/100 [00:00<?, ?it/s]"
      ]
     },
     "metadata": {},
     "output_type": "display_data"
    },
    {
     "data": {
      "application/vnd.jupyter.widget-view+json": {
       "model_id": "3e031778e1fd4cc78006852339d5a6a0",
       "version_major": 2,
       "version_minor": 0
      },
      "text/plain": [
       "[calculate on-policy policy value]:   0%|          | 0/100 [00:00<?, ?it/s]"
      ]
     },
     "metadata": {},
     "output_type": "display_data"
    },
    {
     "data": {
      "application/vnd.jupyter.widget-view+json": {
       "model_id": "ca64ce065e5c4217970089452c48bd12",
       "version_major": 2,
       "version_minor": 0
      },
      "text/plain": [
       "[calculate on-policy policy value]:   0%|          | 0/100 [00:00<?, ?it/s]"
      ]
     },
     "metadata": {},
     "output_type": "display_data"
    },
    {
     "data": {
      "application/vnd.jupyter.widget-view+json": {
       "model_id": "8986b480e0034217a484524d7d8bc27f",
       "version_major": 2,
       "version_minor": 0
      },
      "text/plain": [
       "[calculate on-policy policy value]:   0%|          | 0/100 [00:00<?, ?it/s]"
      ]
     },
     "metadata": {},
     "output_type": "display_data"
    },
    {
     "data": {
      "image/png": "[encoded data removed]",
      "text/plain": [
       "<Figure size 576x288 with 1 Axes>"
      ]
     },
     "metadata": {},
     "output_type": "display_data"
    }
   ],
   "source": [
    "# compare performance online\n",
    "# wow, offline algorithm outperforms the online algorithm.\n",
    "# moreover, it requires no interaction to the environment!\n",
    "visualize_on_policy_policy_value(\n",
    "    env=env,\n",
    "    policies=[sac, behavior_policy, cql, random],\n",
    "    policy_names=[\"sac\", \"sac (sigma=1.0)\", \"cql\", \"random\"],\n",
    "    n_episodes=100,\n",
    "    random_state=random_state,\n",
    ")"
   ]
  },
  {
   "cell_type": "markdown",
   "metadata": {},
   "source": [
    "## 3. Off-Policy Evaluation and Evaluation of Offline RL methods\n",
    "In the previous section, we verified the performance of learned policy via online interaction (aka A/B tests).  \n",
    "However, it could be risky because the policy may perform poorly in an online environment.  \n",
    "To tackle this issue, we aim to evaluate the performance of policies in an offline manner, to gain prior knowledge on how agent works in the environment."
   ]
  },
  {
   "cell_type": "code",
   "execution_count": 40,
   "metadata": {},
   "outputs": [],
   "source": [
    "# import ope modules from offlinegym\n",
    "from offlinegym.ope import CreateOPEInput\n",
    "from offlinegym.ope import ContinuousOffPolicyEvaluation as OPE\n",
    "from offlinegym.ope import ContinuousDirectMethod as DM\n",
    "from offlinegym.ope import ContinuousTrajectoryWiseImportanceSampling as TIS\n",
    "from offlinegym.ope import ContinuousStepWiseImportanceSampling as SIS\n",
    "from offlinegym.ope import ContinuousDoublyRobust as DR\n",
    "from offlinegym.ope import ContinuousSelfNormalizedTrajectoryWiseImportanceSampling as SNTIS\n",
    "from offlinegym.ope import ContinuousSelfNormalizedStepWiseImportanceSampling as SNSIS\n",
    "from offlinegym.ope import ContinuousSelfNormalizedDoublyRobust as SNDR\n",
    "from offlinegym.policy import ContinuousEvalHead"
   ]
  },
  {
   "cell_type": "code",
   "execution_count": 41,
   "metadata": {},
   "outputs": [],
   "source": [
    "# define evaluation policies (deterministic policy)\n",
    "# though OPE is applicable to stochastic policies (i.e., random), the estimation result will be unstable\n",
    "# because continuous OPE is mainly designed for deterministic policies\n",
    "cql_ = ContinuousEvalHead(\n",
    "    base_policy=cql,\n",
    "    name=\"cql\",\n",
    ")\n",
    "sac_ = ContinuousEvalHead(\n",
    "    base_policy=sac, \n",
    "    name=\"sac\", \n",
    ")\n",
    "random_ = ContinuousEvalHead(\n",
    "    base_policy=random, \n",
    "    name=\"random\", \n",
    ")\n",
    "evaluation_policies = [cql_, sac_, random_]"
   ]
  },
  {
   "cell_type": "code",
   "execution_count": 42,
   "metadata": {},
   "outputs": [],
   "source": [
    "# first, prepare OPE inputs\n",
    "prep = CreateOPEInput(\n",
    "    logged_dataset=logged_dataset,\n",
    "    use_base_model=True,  # use model-based prediction\n",
    "    base_model_args={\n",
    "        \"encoder_factory\": VectorEncoderFactory(hidden_units=[30, 30]),\n",
    "        \"q_func_factory\": MeanQFunctionFactory(),\n",
    "        \"learning_rate\": 1e-4,\n",
    "        \"use_gpu\": torch.cuda.is_available(),\n",
    "        \"action_scaler\": MinMaxActionScaler(\n",
    "            minimum=env.action_space.low,  # minimum value that policy can take\n",
    "            maximum=env.action_space.high,  # maximum value that policy can take\n",
    "        ),\n",
    "    },\n",
    ")"
   ]
  },
  {
   "cell_type": "code",
   "execution_count": 43,
   "metadata": {},
   "outputs": [
    {
     "data": {
      "application/vnd.jupyter.widget-view+json": {
       "model_id": "1ef89f33eeae45b0ab9af9fd1c666256",
       "version_major": 2,
       "version_minor": 0
      },
      "text/plain": [
       "[fit FQE model]:   0%|          | 0/3 [00:00<?, ?it/s]"
      ]
     },
     "metadata": {},
     "output_type": "display_data"
    },
    {
     "name": "stdout",
     "output_type": "stream",
     "text": [
      "2022-04-09 11:22.48 [debug    ] RandomIterator is selected.\n",
      "2022-04-09 11:22.48 [info     ] Directory is created at d3rlpy_logs/FQE_20220409112248\n",
      "2022-04-09 11:22.48 [debug    ] Fitting action scaler...       action_scaler=min_max\n",
      "2022-04-09 11:22.48 [debug    ] Building models...\n",
      "2022-04-09 11:22.48 [debug    ] Models have been built.\n",
      "2022-04-09 11:22.48 [info     ] Parameters are saved to d3rlpy_logs/FQE_20220409112248/params.json params={'action_scaler': {'type': 'min_max', 'params': {'minimum': array([0.1]), 'maximum': array([10.])}}, 'batch_size': 100, 'encoder_factory': {'type': 'vector', 'params': {'hidden_units': [30, 30], 'activation': 'relu', 'use_batch_norm': False, 'dropout_rate': None, 'use_dense': False}}, 'gamma': 0.99, 'generated_maxlen': 100000, 'learning_rate': 0.0001, 'n_critics': 1, 'n_frames': 1, 'n_steps': 1, 'optim_factory': {'optim_cls': 'Adam', 'betas': (0.9, 0.999), 'eps': 1e-08, 'weight_decay': 0, 'amsgrad': False}, 'q_func_factory': {'type': 'mean', 'params': {'bootstrap': False, 'share_encoder': False}}, 'real_ratio': 1.0, 'reward_scaler': None, 'scaler': None, 'target_update_interval': 100, 'use_gpu': None, 'algorithm': 'FQE', 'observation_shape': (7,), 'action_size': 1}\n"
     ]
    },
    {
     "data": {
      "application/vnd.jupyter.widget-view+json": {
       "model_id": "33cbd4d85c2b48d3adf727dbc041994c",
       "version_major": 2,
       "version_minor": 0
      },
      "text/plain": [
       "Epoch 1/1:   0%|          | 0/10000 [00:00<?, ?it/s]"
      ]
     },
     "metadata": {},
     "output_type": "display_data"
    },
    {
     "name": "stdout",
     "output_type": "stream",
     "text": [
      "2022-04-09 11:23.28 [info     ] FQE_20220409112248: epoch=1 step=10000 epoch=1 metrics={'time_sample_batch': 0.0005544935703277587, 'time_algorithm_update': 0.0031807961463928224, 'loss': 54.142491907310486, 'time_step': 0.003982900977134705} step=10000\n",
      "2022-04-09 11:23.28 [info     ] Model parameters are saved to d3rlpy_logs/FQE_20220409112248/model_10000.pt\n",
      "2022-04-09 11:23.28 [debug    ] RandomIterator is selected.\n",
      "2022-04-09 11:23.28 [info     ] Directory is created at d3rlpy_logs/FQE_20220409112328\n",
      "2022-04-09 11:23.28 [debug    ] Fitting action scaler...       action_scaler=min_max\n",
      "2022-04-09 11:23.28 [debug    ] Building models...\n",
      "2022-04-09 11:23.28 [debug    ] Models have been built.\n",
      "2022-04-09 11:23.28 [info     ] Parameters are saved to d3rlpy_logs/FQE_20220409112328/params.json params={'action_scaler': {'type': 'min_max', 'params': {'minimum': array([0.1]), 'maximum': array([10.])}}, 'batch_size': 100, 'encoder_factory': {'type': 'vector', 'params': {'hidden_units': [30, 30], 'activation': 'relu', 'use_batch_norm': False, 'dropout_rate': None, 'use_dense': False}}, 'gamma': 0.99, 'generated_maxlen': 100000, 'learning_rate': 0.0001, 'n_critics': 1, 'n_frames': 1, 'n_steps': 1, 'optim_factory': {'optim_cls': 'Adam', 'betas': (0.9, 0.999), 'eps': 1e-08, 'weight_decay': 0, 'amsgrad': False}, 'q_func_factory': {'type': 'mean', 'params': {'bootstrap': False, 'share_encoder': False}}, 'real_ratio': 1.0, 'reward_scaler': None, 'scaler': None, 'target_update_interval': 100, 'use_gpu': None, 'algorithm': 'FQE', 'observation_shape': (7,), 'action_size': 1}\n"
     ]
    },
    {
     "data": {
      "application/vnd.jupyter.widget-view+json": {
       "model_id": "eb57295c229b49bca2b4f4b400314382",
       "version_major": 2,
       "version_minor": 0
      },
      "text/plain": [
       "Epoch 1/1:   0%|          | 0/10000 [00:00<?, ?it/s]"
      ]
     },
     "metadata": {},
     "output_type": "display_data"
    },
    {
     "name": "stdout",
     "output_type": "stream",
     "text": [
      "2022-04-09 11:24.09 [info     ] FQE_20220409112328: epoch=1 step=10000 epoch=1 metrics={'time_sample_batch': 0.0005454506874084473, 'time_algorithm_update': 0.0031914170503616335, 'loss': 166.17880113382338, 'time_step': 0.0039777085781097414} step=10000\n",
      "2022-04-09 11:24.09 [info     ] Model parameters are saved to d3rlpy_logs/FQE_20220409112328/model_10000.pt\n",
      "2022-04-09 11:24.09 [debug    ] RandomIterator is selected.\n",
      "2022-04-09 11:24.09 [info     ] Directory is created at d3rlpy_logs/FQE_20220409112409\n",
      "2022-04-09 11:24.09 [debug    ] Fitting action scaler...       action_scaler=min_max\n",
      "2022-04-09 11:24.09 [debug    ] Building models...\n",
      "2022-04-09 11:24.09 [debug    ] Models have been built.\n",
      "2022-04-09 11:24.09 [info     ] Parameters are saved to d3rlpy_logs/FQE_20220409112409/params.json params={'action_scaler': {'type': 'min_max', 'params': {'minimum': array([0.1]), 'maximum': array([10.])}}, 'batch_size': 100, 'encoder_factory': {'type': 'vector', 'params': {'hidden_units': [30, 30], 'activation': 'relu', 'use_batch_norm': False, 'dropout_rate': None, 'use_dense': False}}, 'gamma': 0.99, 'generated_maxlen': 100000, 'learning_rate': 0.0001, 'n_critics': 1, 'n_frames': 1, 'n_steps': 1, 'optim_factory': {'optim_cls': 'Adam', 'betas': (0.9, 0.999), 'eps': 1e-08, 'weight_decay': 0, 'amsgrad': False}, 'q_func_factory': {'type': 'mean', 'params': {'bootstrap': False, 'share_encoder': False}}, 'real_ratio': 1.0, 'reward_scaler': None, 'scaler': None, 'target_update_interval': 100, 'use_gpu': None, 'algorithm': 'FQE', 'observation_shape': (7,), 'action_size': 1}\n"
     ]
    },
    {
     "data": {
      "application/vnd.jupyter.widget-view+json": {
       "model_id": "0ab286ac8bd5432b9afd0621b887794b",
       "version_major": 2,
       "version_minor": 0
      },
      "text/plain": [
       "Epoch 1/1:   0%|          | 0/10000 [00:00<?, ?it/s]"
      ]
     },
     "metadata": {},
     "output_type": "display_data"
    },
    {
     "name": "stdout",
     "output_type": "stream",
     "text": [
      "2022-04-09 11:24.45 [info     ] FQE_20220409112409: epoch=1 step=10000 epoch=1 metrics={'time_sample_batch': 0.0005788706064224243, 'time_algorithm_update': 0.0027520483016967774, 'loss': 528.5910084251285, 'time_step': 0.0035788203716278074} step=10000\n",
      "2022-04-09 11:24.45 [info     ] Model parameters are saved to d3rlpy_logs/FQE_20220409112409/model_10000.pt\n"
     ]
    },
    {
     "data": {
      "application/vnd.jupyter.widget-view+json": {
       "model_id": "11d99bfb845e4e3f8b2d296ce985d28f",
       "version_major": 2,
       "version_minor": 0
      },
      "text/plain": [
       "[collect input data]:   0%|          | 0/3 [00:00<?, ?it/s]"
      ]
     },
     "metadata": {},
     "output_type": "display_data"
    },
    {
     "data": {
      "application/vnd.jupyter.widget-view+json": {
       "model_id": "905c120a3eab46758d1b60c0c7600812",
       "version_major": 2,
       "version_minor": 0
      },
      "text/plain": [
       "[calculate on-policy policy value]:   0%|          | 0/100 [00:00<?, ?it/s]"
      ]
     },
     "metadata": {},
     "output_type": "display_data"
    },
    {
     "data": {
      "application/vnd.jupyter.widget-view+json": {
       "model_id": "9c231c8848db4ed7941e6e26fb414029",
       "version_major": 2,
       "version_minor": 0
      },
      "text/plain": [
       "[calculate on-policy policy value]:   0%|          | 0/100 [00:00<?, ?it/s]"
      ]
     },
     "metadata": {},
     "output_type": "display_data"
    },
    {
     "data": {
      "application/vnd.jupyter.widget-view+json": {
       "model_id": "5b814ad613ae48dda50895fd5a4a9020",
       "version_major": 2,
       "version_minor": 0
      },
      "text/plain": [
       "[calculate on-policy policy value]:   0%|          | 0/100 [00:00<?, ?it/s]"
      ]
     },
     "metadata": {},
     "output_type": "display_data"
    }
   ],
   "source": [
    "input_dict = prep.obtain_whole_inputs(\n",
    "    evaluation_policies=evaluation_policies,\n",
    "    env=env,\n",
    "    n_episodes_on_policy_evaluation=100,\n",
    "    random_state=random_state,\n",
    ")"
   ]
  },
  {
   "cell_type": "code",
   "execution_count": 44,
   "metadata": {},
   "outputs": [],
   "source": [
    "with open(\"logs/ope_input_dict_continuous.pkl\", \"wb\") as f:\n",
    "    pickle.dump(input_dict, f)"
   ]
  },
  {
   "cell_type": "code",
   "execution_count": 45,
   "metadata": {},
   "outputs": [],
   "source": [
    "with open(\"logs/ope_input_dict_continuous.pkl\", \"rb\") as f:\n",
    "    input_dict = pickle.load(f)"
   ]
  },
  {
   "cell_type": "code",
   "execution_count": 51,
   "metadata": {},
   "outputs": [],
   "source": [
    "ope = OPE(\n",
    "    logged_dataset=logged_dataset,\n",
    "    ope_estimators=[DM(), TIS(), SIS(), DR(),SNTIS(), SNSIS(), SNDR()],\n",
    "    use_truncated_kernel=True,\n",
    "    action_min=env.action_space.low,\n",
    "    action_max=env.action_space.high,\n",
    ")"
   ]
  },
  {
   "cell_type": "code",
   "execution_count": 53,
   "metadata": {},
   "outputs": [],
   "source": [
    "# performance estimation by ope\n",
    "# takes time to compute (about 15min)\n",
    "policy_value_df_dict, policy_value_interval_df_dict = ope.summarize_off_policy_estimates(input_dict, random_state=random_state)"
   ]
  },
  {
   "cell_type": "code",
   "execution_count": 54,
   "metadata": {},
   "outputs": [
    {
     "data": {
      "text/plain": [
       "{'cql':            policy_value  relative_policy_value\n",
       " on_policy     14.490000               1.000000\n",
       " dm             4.324059               0.298417\n",
       " tis            0.173346               0.011963\n",
       " sis            7.812230               0.539146\n",
       " dr            12.015934               0.829257\n",
       " sntis         13.672992               0.943616\n",
       " snsis         12.143371               0.838052\n",
       " sndr          18.914106               1.305321,\n",
       " 'sac':            policy_value  relative_policy_value\n",
       " on_policy     15.210000               1.000000\n",
       " dm             5.284315               0.347424\n",
       " tis            5.906693               0.388343\n",
       " sis            7.005968               0.460616\n",
       " dr             9.327198               0.613228\n",
       " sntis         13.976031               0.918871\n",
       " snsis         17.321454               1.138820\n",
       " sndr           8.024509               0.527581,\n",
       " 'random':            policy_value  relative_policy_value\n",
       " on_policy     14.590000               1.000000\n",
       " dm             6.202677               0.425132\n",
       " tis            0.146986               0.010074\n",
       " sis            3.343278               0.229149\n",
       " dr             8.994827               0.616506\n",
       " sntis          8.852093               0.606723\n",
       " snsis         17.980549               1.232389\n",
       " sndr          13.855288               0.949643}"
      ]
     },
     "execution_count": 54,
     "metadata": {},
     "output_type": "execute_result"
    }
   ],
   "source": [
    "# estimated policy performance\n",
    "policy_value_df_dict"
   ]
  },
  {
   "cell_type": "code",
   "execution_count": 55,
   "metadata": {},
   "outputs": [
    {
     "data": {
      "text/plain": [
       "{'cql':                 mean  95.0% CI (lower)  95.0% CI (upper)\n",
       " on_policy  14.408900         13.660000         15.085750\n",
       " dm          4.324007          4.323470          4.324701\n",
       " tis         0.171937          0.091443          0.267336\n",
       " sis         7.824450          7.468503          8.150115\n",
       " dr         12.024874         11.688711         12.319964\n",
       " sntis      13.830569          7.601915         21.630947\n",
       " snsis      12.114894         11.603913         12.648266\n",
       " sndr       18.900158         16.912600         21.594342,\n",
       " 'sac':                 mean  95.0% CI (lower)  95.0% CI (upper)\n",
       " on_policy  15.136900         14.259000         15.885250\n",
       " dm          5.284171          5.282671          5.285841\n",
       " tis         5.905642          5.668918          6.158456\n",
       " sis         7.017905          6.925040          7.092151\n",
       " dr          9.334127          9.276331          9.381909\n",
       " sntis      14.161635         12.028203         17.741509\n",
       " snsis      17.384892         16.803224         17.951404\n",
       " sndr        8.048629          5.690864         11.704192,\n",
       " 'random':                 mean  95.0% CI (lower)  95.0% CI (upper)\n",
       " on_policy  14.527500         13.609000         15.320000\n",
       " dm          6.202688          6.202176          6.203107\n",
       " tis         0.145318          0.003240          0.353604\n",
       " sis         3.375767          3.099390          3.715809\n",
       " dr          9.026170          8.720567          9.336739\n",
       " sntis       8.323422          0.509252         23.816620\n",
       " snsis      17.782450         12.833859         25.510260\n",
       " sndr       13.729157          8.171054         18.997765}"
      ]
     },
     "execution_count": 55,
     "metadata": {},
     "output_type": "execute_result"
    }
   ],
   "source": [
    "# estimated policy performance confidence intervals\n",
    "policy_value_interval_df_dict"
   ]
  },
  {
   "cell_type": "markdown",
   "metadata": {},
   "source": [
    "## 4. Evaluation of OPE methods\n",
    "Now, we evaluate how well ope estimators estimated the policy value."
   ]
  },
  {
   "cell_type": "code",
   "execution_count": 58,
   "metadata": {},
   "outputs": [
    {
     "data": {
      "image/png": "[encoded data removed]",
      "text/plain": [
       "<Figure size 1008x2592 with 3 Axes>"
      ]
     },
     "metadata": {},
     "output_type": "display_data"
    }
   ],
   "source": [
    "# we can visualize and compare the result\n",
    "# it seems offline metrics underestimates the policy value\n",
    "ope.visualize_off_policy_estimates(input_dict, random_state=random_state, sharey=True)"
   ]
  },
  {
   "cell_type": "code",
   "execution_count": 57,
   "metadata": {},
   "outputs": [
    {
     "data": {
      "text/html": [
       "<div>\n",
       "<style scoped>\n",
       "    .dataframe tbody tr th:only-of-type {\n",
       "        vertical-align: middle;\n",
       "    }\n",
       "\n",
       "    .dataframe tbody tr th {\n",
       "        vertical-align: top;\n",
       "    }\n",
       "\n",
       "    .dataframe thead th {\n",
       "        text-align: right;\n",
       "    }\n",
       "</style>\n",
       "<table border=\"1\" class=\"dataframe\">\n",
       "  <thead>\n",
       "    <tr style=\"text-align: right;\">\n",
       "      <th></th>\n",
       "      <th>cql</th>\n",
       "      <th>sac</th>\n",
       "      <th>random</th>\n",
       "    </tr>\n",
       "  </thead>\n",
       "  <tbody>\n",
       "    <tr>\n",
       "      <th>dm</th>\n",
       "      <td>103.346366</td>\n",
       "      <td>98.519230</td>\n",
       "      <td>70.347191</td>\n",
       "    </tr>\n",
       "    <tr>\n",
       "      <th>tis</th>\n",
       "      <td>204.966574</td>\n",
       "      <td>86.551515</td>\n",
       "      <td>208.600649</td>\n",
       "    </tr>\n",
       "    <tr>\n",
       "      <th>sis</th>\n",
       "      <td>44.592608</td>\n",
       "      <td>67.306146</td>\n",
       "      <td>126.488755</td>\n",
       "    </tr>\n",
       "    <tr>\n",
       "      <th>dr</th>\n",
       "      <td>6.121005</td>\n",
       "      <td>34.607355</td>\n",
       "      <td>31.305964</td>\n",
       "    </tr>\n",
       "    <tr>\n",
       "      <th>sntis</th>\n",
       "      <td>0.667502</td>\n",
       "      <td>1.522679</td>\n",
       "      <td>32.923582</td>\n",
       "    </tr>\n",
       "    <tr>\n",
       "      <th>snsis</th>\n",
       "      <td>5.506668</td>\n",
       "      <td>4.458239</td>\n",
       "      <td>11.495822</td>\n",
       "    </tr>\n",
       "    <tr>\n",
       "      <th>sndr</th>\n",
       "      <td>19.572716</td>\n",
       "      <td>51.631286</td>\n",
       "      <td>0.539802</td>\n",
       "    </tr>\n",
       "  </tbody>\n",
       "</table>\n",
       "</div>"
      ],
      "text/plain": [
       "              cql        sac      random\n",
       "dm     103.346366  98.519230   70.347191\n",
       "tis    204.966574  86.551515  208.600649\n",
       "sis     44.592608  67.306146  126.488755\n",
       "dr       6.121005  34.607355   31.305964\n",
       "sntis    0.667502   1.522679   32.923582\n",
       "snsis    5.506668   4.458239   11.495822\n",
       "sndr    19.572716  51.631286    0.539802"
      ]
     },
     "execution_count": 57,
     "metadata": {},
     "output_type": "execute_result"
    }
   ],
   "source": [
    "# squared-error (se) measures the estimation accuracy of OPE\n",
    "eval_metric_ope_df = ope.summarize_estimators_comparison(input_dict, metric=\"se\")\n",
    "eval_metric_ope_df"
   ]
  },
  {
   "cell_type": "markdown",
   "metadata": {},
   "source": [
    "For more advanced topics in OPE (e.g., cumulative distribution function estimation and distributionally robust estimation) and OPS, please refer to [examples/quickstart/rtb_synthetic_continuous_advanced.ipynb](https://github.com/negocia-inc/rtb_reinforcement_learing/blob/ope/examples/quickstart/rtb_synthetic_continuous_advanced.ipynb). \\\n",
    "For the examples in the discrete action space, please refer to [examples/quickstart/rtb_synthetic_discrete_basic.ipynb](https://github.com/negocia-inc/rtb_reinforcement_learing/blob/ope/examples/quickstart/rtb_synthetic_discrete_basic.ipynb)."
   ]
  },
  {
   "cell_type": "markdown",
   "metadata": {},
   "source": [
    "## Reference\n",
    "\n",
    "- Yuta Saito, Shunsuke Aihara, Megumi Matsutani, and Yusuke Narita. \\\n",
    "\"Open Bandit Dataset and Pipeline: Towards Realistic and Reproducible Off-Policy Evaluation.\", 2021.\n",
    "\n",
    "- Takuma Seno and Michita Imai. \\\n",
    "\"d3rlpy: An Offline Deep Reinforcement Library.\", 2021.\n",
    "\n",
    "- Sergey Levine, Aviral Kumar, George Tucker, and Justin Fu. \\\n",
    "\"Offline Reinforcement Learning: Tutorial, Review, and Perspectives on Open Problems.\" 2020.\n",
    "\n",
    "- Aviral Kumar, Aurick Zhou, George Tucker, and Sergey Levine. \\\n",
    "\"Conservative Q-Learning for Offline Reinforcement Learning.\", 2020.\n",
    "\n",
    "- Nathan Kallus and Masatoshi Uehara. \\\n",
    "\"Intrinsically Efficient, Stable, and Bounded Off-Policy Evaluation for Reinforcement Learning.\", 2019.\n",
    "\n",
    "- Hoang Le, Cameron Voloshin, and Yisong Yue. \\\n",
    "\"Batch Policy Learning under Constraints.\", 2019.\n",
    "\n",
    "- Tuomas Haarnoja, Aurick Zhou, Pieter Abbeel, and Sergey Levine. \\\n",
    "\"Soft Actor-Critic: Off-Policy Maximum Entropy Deep Reinforcement Learning with a Stochastic Actor.\" 2018.\n",
    "\n",
    "- Di Wu, Xiujun Chen, Xun Yang, Hao Wang, Qing Tan, Xiaoxun Zhang, Jian Xu, and Kun Gai. \\\n",
    "\"Budget Constrained Bidding by Model-free Reinforcement Learning in Display Advertising.\", 2018.\n",
    "\n",
    "- Jun Zhao, Guang Qiu, Ziyu Guan, Wei Zhao, and Xiaofei He. \\\n",
    "\"Deep Reinforcement Learning for Sponsored Search Real-time Bidding.\", 2018.\n",
    "\n",
    "- Nan Jiang and Lihong Li. \\\n",
    "\"Doubly Robust Off-policy Value Evaluation for Reinforcement Learning.\", 2016.\n",
    "\n",
    "- Philip S. Thomas and Emma Brunskill. \\\n",
    "\"Data-Efficient Off-Policy Policy Evaluation for Reinforcement Learning.\", 2016.\n",
    "\n",
    "- Greg Brockman, Vicki Cheung, Ludwig Pettersson, Jonas Schneider, John Schulman, Jie Tang, and Wojciech Zaremba. \\\n",
    "\"OpenAI Gym.\", 2016.\n",
    "\n",
    "- Adith Swaminathan and Thorsten Joachims. \\\n",
    "\"The Self-Normalized Estimator for Counterfactual Learning.\", 2015.\n",
    "\n",
    "- Miroslav Dudík, Dumitru Erhan, John Langford, and Lihong Li. \\\n",
    "\"Doubly Robust Policy Evaluation and Optimization.\", 2014.\n",
    "\n",
    "- Alex Strehl, John Langford, Sham Kakade, and Lihong Li. \\\n",
    "\"Learning from Logged Implicit Exploration Data.\", 2010.\n",
    "\n",
    "- Alina Beygelzimer and John Langford. \\\n",
    "\"The Offset Tree for Learning with Partial Labels.\", 2009.\n",
    "\n",
    "- Doina Precup, Richard S. Sutton, and Satinder P. Singh. \\\n",
    "\"Eligibility Traces for Off-Policy Policy Evaluation.\", 2000."
   ]
  },
  {
   "cell_type": "code",
   "execution_count": null,
   "metadata": {},
   "outputs": [],
   "source": []
  }
 ],
 "metadata": {
  "kernelspec": {
   "display_name": "Python 3",
   "language": "python",
   "name": "python3"
  },
  "language_info": {
   "codemirror_mode": {
    "name": "ipython",
    "version": 3
   },
   "file_extension": ".py",
   "mimetype": "text/x-python",
   "name": "python",
   "nbconvert_exporter": "python",
   "pygments_lexer": "ipython3",
   "version": "3.8.5"
  }
 },
 "nbformat": 4,
 "nbformat_minor": 4
}
