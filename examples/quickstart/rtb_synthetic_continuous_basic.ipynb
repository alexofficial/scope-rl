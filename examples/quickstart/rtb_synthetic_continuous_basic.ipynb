{
 "cells": [
  {
   "cell_type": "markdown",
   "metadata": {},
   "source": [
    "# Quickstart Example with Synthetic RTB Simulation and Dataset (Continuous)\n",
    "This notebook provides an example of conducting **Off-policy Evaluation (OPE) and Offline Reinforcement Learning (Offline RL) on a synthetic Real-Time Bidding (RTB) dataset**.\n",
    "\n",
    "Our example with Synthetic RTB Simulation and Dataset consists of the following 5 steps:\n",
    "0. (Setup Synthetic RTB Simulation Environment and Online RL)\n",
    "1. Synthetic Data Generation\n",
    "2. Offline Reinforcement Learning\n",
    "3. Off-Policy Evaluation and Evaluation of Offline RL methods\n",
    "4. Evaluation of OPE methods\n",
    "\n",
    "We also show how to visualize the results in the Appendix.\n",
    "\n",
    "\\* This library uses [d3rlpy](https://github.com/takuseno/d3rlpy)'s algorithm implementations of online/offline rl policies and model-based evaluation.  \n",
    "\\* Also, our OPE implementations are highly inspired by [Open Bandit Pipeline](https://github.com/st-tech/zr-obp)."
   ]
  },
  {
   "cell_type": "code",
   "execution_count": 1,
   "metadata": {},
   "outputs": [],
   "source": [
    "# delete later\n",
    "%load_ext autoreload\n",
    "%autoreload 2"
   ]
  },
  {
   "cell_type": "code",
   "execution_count": 2,
   "metadata": {},
   "outputs": [],
   "source": [
    "# delete later\n",
    "import warnings\n",
    "warnings.simplefilter('ignore')"
   ]
  },
  {
   "cell_type": "code",
   "execution_count": 3,
   "metadata": {},
   "outputs": [],
   "source": [
    "# delete later\n",
    "import sys\n",
    "sys.path.append('../')\n",
    "sys.path.append('../../')"
   ]
  },
  {
   "cell_type": "code",
   "execution_count": 4,
   "metadata": {},
   "outputs": [],
   "source": [
    "# import OFRL modules\n",
    "import ofrl\n",
    "from rtbgym import RTBEnv, CustomizedRTBEnv\n",
    "from ofrl.dataset import SyntheticDataset\n",
    "from ofrl.policy import OnlineHead, ContinuousTruncatedGaussianHead\n",
    "from ofrl.ope.online import (\n",
    "    calc_on_policy_policy_value,\n",
    "    visualize_on_policy_policy_value,\n",
    ")\n",
    "\n",
    "# import d3rlpy algorithms\n",
    "from d3rlpy.algos import DiscreteRandomPolicy\n",
    "from d3rlpy.algos import RandomPolicy as ContinuousRandomPolicy\n",
    "from d3rlpy.preprocessing import MinMaxActionScaler\n",
    "\n",
    "# import from other libraries\n",
    "import gym\n",
    "import torch\n",
    "from sklearn.model_selection import train_test_split"
   ]
  },
  {
   "cell_type": "code",
   "execution_count": 5,
   "metadata": {},
   "outputs": [],
   "source": [
    "import pickle\n",
    "from glob import glob\n",
    "from tqdm import tqdm\n",
    "\n",
    "import numpy as np\n",
    "import pandas as pd\n",
    "\n",
    "import matplotlib.pyplot as plt\n",
    "import seaborn as sns\n",
    "\n",
    "%matplotlib inline"
   ]
  },
  {
   "cell_type": "code",
   "execution_count": 6,
   "metadata": {},
   "outputs": [
    {
     "name": "stdout",
     "output_type": "stream",
     "text": [
      "0.0.0\n"
     ]
    }
   ],
   "source": [
    "# version\n",
    "print(ofrl.__version__)"
   ]
  },
  {
   "cell_type": "code",
   "execution_count": 7,
   "metadata": {},
   "outputs": [],
   "source": [
    "# set random state\n",
    "random_state = 12345"
   ]
  },
  {
   "cell_type": "code",
   "execution_count": 8,
   "metadata": {},
   "outputs": [],
   "source": [
    "# log directory\n",
    "from pathlib import Path\n",
    "Path(\"logs/\").mkdir(exist_ok=True)"
   ]
  },
  {
   "cell_type": "markdown",
   "metadata": {},
   "source": [
    "## 0. (Setup Synthetic RTB Simulation Environment and Online RL)\n",
    "To begin with, we briefly describe how the RTB environment works.\n",
    "\n",
    "#### RL setup for RTB\n",
    "In RTB, the objective of the RL agent is to maximize some KPIs (such as number of clicks or conversions) within an episode under given budget constraints. We often try to achieve this by adjusting bidding price function parameter $\\alpha$. By using $\\alpha$, we can adjust the bid price as follows.  \n",
    "$bid_{t,i} = \\alpha \\cdot r^{\\ast}$, \n",
    "where $r^{\\ast}$ denotes a predicted or expected reward (KPIs).\n",
    "\n",
    "We often formulate this RTB problem as the following Constrained Markov Decision Process (CMDP):\n",
    "- `timestep`: One episode (a day or a week) consists of several timesteps (24 hours or seven days, for instance).\n",
    "- `state`: We observe some feedback from the environment at each timestep, which includes the followings.\n",
    "  - timestep\n",
    "  - remaining budget\n",
    "  - impression level features (budget consumption rate, cost per mille of impressions, auction winning rate, reward) at the previous timestep\n",
    "  - adjust rate (RL agent's decision making) at the previous timestep\n",
    "- `action`: Agent chooses adjust rate parameter $\\alpha$ to maximize KPIs.\n",
    "- `reward`: Total number of clicks or conversions obtained during the timestep.\n",
    "- `constraints`: The pre-determined episodic budget should not be exceeded.\n",
    "\n",
    "For more about the environmental configurations, please refer to [examples/quickstart/rtb_synthetic_customize_env.ipynb](https://github.com/negocia-inc/rtb_reinforcement_learing/blob/ope/examples/quickstart/rtb_synthetic_customize_env.ipynb).\n",
    "\n",
    "Then, Let's see how it works!"
   ]
  },
  {
   "cell_type": "code",
   "execution_count": 9,
   "metadata": {},
   "outputs": [],
   "source": [
    "# setup environment\n",
    "env = RTBEnv(random_state=random_state)"
   ]
  },
  {
   "cell_type": "code",
   "execution_count": 10,
   "metadata": {},
   "outputs": [],
   "source": [
    "# define a random agent\n",
    "agent = OnlineHead(\n",
    "    ContinuousRandomPolicy(\n",
    "        action_scaler=MinMaxActionScaler(\n",
    "            minimum=0.1,  # minimum value that policy can take\n",
    "            maximum=10,  # maximum value that policy can take\n",
    "        )\n",
    "    )\n",
    ")"
   ]
  },
  {
   "cell_type": "code",
   "execution_count": 11,
   "metadata": {},
   "outputs": [],
   "source": [
    "# interact agent with the environment\n",
    "# only 6 lines are needed for RL interaction\n",
    "for episode in range(10):\n",
    "    obs = env.reset()\n",
    "    done = False\n",
    "\n",
    "    while not done:\n",
    "        action = agent.predict_online(obs)\n",
    "        obs, reward, done, info = env.step(action)"
   ]
  },
  {
   "cell_type": "code",
   "execution_count": 12,
   "metadata": {},
   "outputs": [
    {
     "name": "stdout",
     "output_type": "stream",
     "text": [
      "['timestep', 'remaining_budget', 'budget_consumption_rate', 'cost_per_mille_of_impression', 'winning_rate', 'reward', 'adjust_rate']\n",
      "(7,)\n"
     ]
    }
   ],
   "source": [
    "# state consists of the following feedback from the environment\n",
    "print(env.obs_keys)\n",
    "print(obs.shape)"
   ]
  },
  {
   "cell_type": "code",
   "execution_count": 13,
   "metadata": {},
   "outputs": [
    {
     "data": {
      "image/png": "[encoded data removed]",
      "text/plain": [
       "<Figure size 432x288 with 2 Axes>"
      ]
     },
     "metadata": {
      "needs_background": "light"
     },
     "output_type": "display_data"
    }
   ],
   "source": [
    "# let's visualize the transition of remaining budget and the cumulative reward\n",
    "# our goal is to obtain a policy (i.e., agent) that maximizes the cumulative reward under budget constraints using RL.  \n",
    "# for more visualization, please see the appendix.\n",
    "obs = env.reset()\n",
    "done = False\n",
    "remaining_budget = [obs[1]]\n",
    "cumulative_reward = [0]\n",
    "\n",
    "while not done:\n",
    "    action = agent.predict_online(obs)\n",
    "    obs, reward, done, info = env.step(action)\n",
    "    remaining_budget.append(obs[1])\n",
    "    cumulative_reward.append(cumulative_reward[-1] + reward)\n",
    "\n",
    "# plot\n",
    "fig = plt.figure()\n",
    "ax1 = fig.add_subplot(111)\n",
    "ax1.plot(remaining_budget[:-1], label='remaining budget')\n",
    "ax2 = ax1.twinx()\n",
    "ax2.plot(cumulative_reward[:-1], label='cumulative reward', color='tab:orange')\n",
    "ax1.set_xlabel('timestep')\n",
    "ax1.set_ylabel('remainig budget')\n",
    "ax1.set_ylim(0, env.initial_budget + 100)\n",
    "ax2.set_ylabel('reward (coversion)')\n",
    "ax1.legend(loc='upper left')\n",
    "ax2.legend(loc='upper right')\n",
    "plt.show()"
   ]
  },
  {
   "cell_type": "markdown",
   "metadata": {},
   "source": [
    "We see that the random policy run out the budget quickly.  \n",
    "Our goal is to derive a policy that controls the adjust rate (i.e., action) to maximize the reward while meeting the given budget constraints.\n",
    "\n",
    "For more about the environmental configurations and customization, please refer to [examples/quickstart/rtb_synthetic_customize_env.ipynb](https://github.com/negocia-inc/rtb_reinforcement_learing/blob/ope/examples/quickstart/rtb_synthetic_customize_env.ipynb)."
   ]
  },
  {
   "cell_type": "markdown",
   "metadata": {},
   "source": [
    "#### Online RL and comparison of the policies\n",
    "We now learn an online RL policy and compare it to the random policy, based on their on-policy policy value estimation."
   ]
  },
  {
   "cell_type": "code",
   "execution_count": 14,
   "metadata": {},
   "outputs": [
    {
     "name": "stdout",
     "output_type": "stream",
     "text": [
      "Box(0.1, 10.0, (1,), float64)\n"
     ]
    }
   ],
   "source": [
    "# standardized environment for continuous actions\n",
    "env = gym.make(\"RTBEnv-continuous-v0\")\n",
    "print(env.action_space)"
   ]
  },
  {
   "cell_type": "code",
   "execution_count": 15,
   "metadata": {},
   "outputs": [],
   "source": [
    "from d3rlpy.algos import SAC\n",
    "from d3rlpy.models.encoders import VectorEncoderFactory\n",
    "from d3rlpy.models.q_functions import MeanQFunctionFactory\n",
    "from d3rlpy.online.buffers import ReplayBuffer\n",
    "\n",
    "# model\n",
    "sac = SAC(\n",
    "    actor_encoder_factory=VectorEncoderFactory(hidden_units=[30, 30]),\n",
    "    critic_encoder_factory=VectorEncoderFactory(hidden_units=[30, 30]),\n",
    "    q_func_factory=MeanQFunctionFactory(),\n",
    "    use_gpu=torch.cuda.is_available(),\n",
    "    action_scaler=MinMaxActionScaler(\n",
    "        minimum=env.action_space.low,   # 0.1\n",
    "        maximum=env.action_space.high,  # 10\n",
    "    ),\n",
    ")\n",
    "# setup replay buffer\n",
    "buffer = ReplayBuffer(\n",
    "    maxlen=10000,\n",
    "    env=env,\n",
    ")"
   ]
  },
  {
   "cell_type": "code",
   "execution_count": 16,
   "metadata": {},
   "outputs": [
    {
     "name": "stdout",
     "output_type": "stream",
     "text": [
      "2022-08-07 20:04.06 [info     ] Directory is created at d3rlpy_logs/SAC_online_20220807200406\n",
      "2022-08-07 20:04.06 [debug    ] Fitting action scaler...       action_scler=min_max\n",
      "2022-08-07 20:04.06 [debug    ] Building model...\n",
      "2022-08-07 20:04.07 [debug    ] Model has been built.\n",
      "2022-08-07 20:04.07 [info     ] Parameters are saved to d3rlpy_logs/SAC_online_20220807200406/params.json params={'action_scaler': {'type': 'min_max', 'params': {'minimum': array([0.1]), 'maximum': array([10.])}}, 'actor_encoder_factory': {'type': 'vector', 'params': {'hidden_units': [30, 30], 'activation': 'relu', 'use_batch_norm': False, 'dropout_rate': None, 'use_dense': False}}, 'actor_learning_rate': 0.0003, 'actor_optim_factory': {'optim_cls': 'Adam', 'betas': (0.9, 0.999), 'eps': 1e-08, 'weight_decay': 0, 'amsgrad': False}, 'batch_size': 256, 'critic_encoder_factory': {'type': 'vector', 'params': {'hidden_units': [30, 30], 'activation': 'relu', 'use_batch_norm': False, 'dropout_rate': None, 'use_dense': False}}, 'critic_learning_rate': 0.0003, 'critic_optim_factory': {'optim_cls': 'Adam', 'betas': (0.9, 0.999), 'eps': 1e-08, 'weight_decay': 0, 'amsgrad': False}, 'gamma': 0.99, 'generated_maxlen': 100000, 'initial_temperature': 1.0, 'n_critics': 2, 'n_frames': 1, 'n_steps': 1, 'q_func_factory': {'type': 'mean', 'params': {'share_encoder': False}}, 'real_ratio': 1.0, 'reward_scaler': None, 'scaler': None, 'tau': 0.005, 'temp_learning_rate': 0.0003, 'temp_optim_factory': {'optim_cls': 'Adam', 'betas': (0.9, 0.999), 'eps': 1e-08, 'weight_decay': 0, 'amsgrad': False}, 'use_gpu': None, 'algorithm': 'SAC', 'observation_shape': (7,), 'action_size': 1}\n"
     ]
    },
    {
     "data": {
      "application/vnd.jupyter.widget-view+json": {
       "model_id": "c62f718456284754bb4915c60744127c",
       "version_major": 2,
       "version_minor": 0
      },
      "text/plain": [
       "  0%|          | 0/100000 [00:00<?, ?it/s]"
      ]
     },
     "metadata": {},
     "output_type": "display_data"
    },
    {
     "name": "stdout",
     "output_type": "stream",
     "text": [
      "2022-08-07 20:04.08 [info     ] Model parameters are saved to d3rlpy_logs/SAC_online_20220807200406/model_1000.pt\n",
      "2022-08-07 20:04.08 [info     ] SAC_online_20220807200406: epoch=1 step=1000 epoch=1 metrics={'time_inference': 0.0006619565486907959, 'time_environment_step': 0.0006894879341125488, 'time_step': 0.001394697904586792, 'rollout_return': 14.147887323943662, 'evaluation': 14.2} step=1000\n",
      "2022-08-07 20:04.20 [info     ] Model parameters are saved to d3rlpy_logs/SAC_online_20220807200406/model_2000.pt\n",
      "2022-08-07 20:04.20 [info     ] SAC_online_20220807200406: epoch=2 step=2000 epoch=2 metrics={'time_inference': 0.0007417981624603272, 'time_environment_step': 0.0008663187026977539, 'time_sample_batch': 0.0003336350917816162, 'time_algorithm_update': 0.00949693775177002, 'temp_loss': -4.798466501057148, 'temp': 1.0288647935390471, 'critic_loss': 15162.78583859253, 'actor_loss': 83.91643513679504, 'time_step': 0.011518097877502442, 'rollout_return': 14.485915492957746, 'evaluation': 14.7} step=2000\n",
      "2022-08-07 20:04.32 [info     ] Model parameters are saved to d3rlpy_logs/SAC_online_20220807200406/model_3000.pt\n",
      "2022-08-07 20:04.32 [info     ] SAC_online_20220807200406: epoch=3 step=3000 epoch=3 metrics={'time_inference': 0.0007770726680755615, 'time_environment_step': 0.0009215664863586426, 'time_sample_batch': 0.00036170434951782226, 'time_algorithm_update': 0.010328337430953979, 'temp_loss': -2.7699843653440475, 'temp': 1.1133895795345305, 'critic_loss': 217.9781039199829, 'actor_loss': 21.503477816581725, 'time_step': 0.012466686248779297, 'rollout_return': 14.640845070422536, 'evaluation': 15.7} step=3000\n",
      "2022-08-07 20:04.42 [info     ] Model parameters are saved to d3rlpy_logs/SAC_online_20220807200406/model_4000.pt\n",
      "2022-08-07 20:04.42 [info     ] SAC_online_20220807200406: epoch=4 step=4000 epoch=4 metrics={'time_inference': 0.000684525728225708, 'time_environment_step': 0.0007855944633483887, 'time_sample_batch': 0.0003380138874053955, 'time_algorithm_update': 0.00770276403427124, 'temp_loss': -3.224415979266167, 'temp': 1.2985342593193054, 'critic_loss': 142.05898246765136, 'actor_loss': 12.958191824913024, 'time_step': 0.009587378263473511, 'rollout_return': 14.626760563380282, 'evaluation': 13.5} step=4000\n",
      "2022-08-07 20:05.01 [info     ] Model parameters are saved to d3rlpy_logs/SAC_online_20220807200406/model_5000.pt\n",
      "2022-08-07 20:05.01 [info     ] SAC_online_20220807200406: epoch=5 step=5000 epoch=5 metrics={'time_inference': 0.0007278201580047608, 'time_environment_step': 0.0009281132221221924, 'time_sample_batch': 0.00035622763633728026, 'time_algorithm_update': 0.016322014570236205, 'temp_loss': -4.206040442824364, 'temp': 1.6703722642660142, 'critic_loss': 223.16109314727782, 'actor_loss': 15.09418453502655, 'time_step': 0.018413136959075926, 'rollout_return': 14.422535211267606, 'evaluation': 13.3} step=5000\n",
      "2022-08-07 20:05.12 [info     ] Model parameters are saved to d3rlpy_logs/SAC_online_20220807200406/model_6000.pt\n",
      "2022-08-07 20:05.12 [info     ] SAC_online_20220807200406: epoch=6 step=6000 epoch=6 metrics={'time_inference': 0.0007205710411071777, 'time_environment_step': 0.0008442630767822266, 'time_sample_batch': 0.0003596220016479492, 'time_algorithm_update': 0.009189961433410644, 'temp_loss': -5.910028940439224, 'temp': 2.331266150355339, 'critic_loss': 436.1527953796387, 'actor_loss': 22.21197012710571, 'time_step': 0.011203245639801025, 'rollout_return': 14.69718309859155, 'evaluation': 14.2} step=6000\n",
      "2022-08-07 20:05.23 [info     ] Model parameters are saved to d3rlpy_logs/SAC_online_20220807200406/model_7000.pt\n",
      "2022-08-07 20:05.23 [info     ] SAC_online_20220807200406: epoch=7 step=7000 epoch=7 metrics={'time_inference': 0.0006922907829284668, 'time_environment_step': 0.0008445026874542237, 'time_sample_batch': 0.00034589028358459473, 'time_algorithm_update': 0.008161307096481323, 'temp_loss': -8.619582111597062, 'temp': 3.386279146671295, 'critic_loss': 895.8466834716797, 'actor_loss': 33.892225257873534, 'time_step': 0.010120022773742675, 'rollout_return': 14.746478873239436, 'evaluation': 16.3} step=7000\n",
      "2022-08-07 20:05.33 [info     ] Model parameters are saved to d3rlpy_logs/SAC_online_20220807200406/model_8000.pt\n",
      "2022-08-07 20:05.33 [info     ] SAC_online_20220807200406: epoch=8 step=8000 epoch=8 metrics={'time_inference': 0.0007475793361663818, 'time_environment_step': 0.0008675549030303956, 'time_sample_batch': 0.00036286449432373045, 'time_algorithm_update': 0.008570735692977905, 'temp_loss': -12.57871039056778, 'temp': 4.99085333108902, 'critic_loss': 1956.9471535644532, 'actor_loss': 52.33092889404297, 'time_step': 0.010638583898544312, 'rollout_return': 14.570422535211268, 'evaluation': 12.7} step=8000\n",
      "2022-08-07 20:05.43 [info     ] Model parameters are saved to d3rlpy_logs/SAC_online_20220807200406/model_9000.pt\n",
      "2022-08-07 20:05.43 [info     ] SAC_online_20220807200406: epoch=9 step=9000 epoch=9 metrics={'time_inference': 0.0006666862964630127, 'time_environment_step': 0.0007830138206481933, 'time_sample_batch': 0.00035474181175231933, 'time_algorithm_update': 0.007130486011505127, 'temp_loss': -18.696348162651063, 'temp': 7.368225014686584, 'critic_loss': 4199.621418945312, 'actor_loss': 79.50493949890136, 'time_step': 0.009008035182952881, 'rollout_return': 14.71830985915493, 'evaluation': 12.2} step=9000\n",
      "2022-08-07 20:05.52 [info     ] Model parameters are saved to d3rlpy_logs/SAC_online_20220807200406/model_10000.pt\n",
      "2022-08-07 20:05.52 [info     ] SAC_online_20220807200406: epoch=10 step=10000 epoch=10 metrics={'time_inference': 0.0006739192008972168, 'time_environment_step': 0.000789813756942749, 'time_sample_batch': 0.00035070490837097167, 'time_algorithm_update': 0.007194056987762452, 'temp_loss': -27.39631251525879, 'temp': 10.908252754211425, 'critic_loss': 9254.868499511718, 'actor_loss': 120.13197354125977, 'time_step': 0.009079755544662475, 'rollout_return': 14.380281690140846, 'evaluation': 19.9} step=10000\n",
      "2022-08-07 20:06.02 [info     ] Model parameters are saved to d3rlpy_logs/SAC_online_20220807200406/model_11000.pt\n",
      "2022-08-07 20:06.02 [info     ] SAC_online_20220807200406: epoch=11 step=11000 epoch=11 metrics={'time_inference': 0.0007067654132843018, 'time_environment_step': 0.0008040671348571777, 'time_sample_batch': 0.00035214591026306154, 'time_algorithm_update': 0.008417914390563965, 'temp_loss': -40.511406770706174, 'temp': 16.11883439064026, 'critic_loss': 20170.76403222656, 'actor_loss': 180.99170198059082, 'time_step': 0.010356419086456299, 'rollout_return': 15.147887323943662, 'evaluation': 15.6} step=11000\n",
      "2022-08-07 20:06.12 [info     ] Model parameters are saved to d3rlpy_logs/SAC_online_20220807200406/model_12000.pt\n",
      "2022-08-07 20:06.12 [info     ] SAC_online_20220807200406: epoch=12 step=12000 epoch=12 metrics={'time_inference': 0.0007061021327972412, 'time_environment_step': 0.0008169646263122558, 'time_sample_batch': 0.0003706564903259277, 'time_algorithm_update': 0.007613515615463257, 'temp_loss': -59.17137578392029, 'temp': 23.83437356376648, 'critic_loss': 43279.57257421875, 'actor_loss': 266.13410028076174, 'time_step': 0.009592458009719848, 'rollout_return': 14.30281690140845, 'evaluation': 16.0} step=12000\n",
      "2022-08-07 20:06.24 [info     ] Model parameters are saved to d3rlpy_logs/SAC_online_20220807200406/model_13000.pt\n",
      "2022-08-07 20:06.24 [info     ] SAC_online_20220807200406: epoch=13 step=13000 epoch=13 metrics={'time_inference': 0.0007869014739990234, 'time_environment_step': 0.0009385294914245606, 'time_sample_batch': 0.0003882908821105957, 'time_algorithm_update': 0.00895977783203125, 'temp_loss': -88.67243952560425, 'temp': 35.30990150260925, 'critic_loss': 96514.2461796875, 'actor_loss': 398.73105068969727, 'time_step': 0.01116329574584961, 'rollout_return': 14.56338028169014, 'evaluation': 16.2} step=13000\n",
      "2022-08-07 20:06.36 [info     ] Model parameters are saved to d3rlpy_logs/SAC_online_20220807200406/model_14000.pt\n",
      "2022-08-07 20:06.36 [info     ] SAC_online_20220807200406: epoch=14 step=14000 epoch=14 metrics={'time_inference': 0.0007821099758148194, 'time_environment_step': 0.0009377865791320801, 'time_sample_batch': 0.0003992290496826172, 'time_algorithm_update': 0.009712714195251465, 'temp_loss': -34.7164454395771, 'temp': 49.13107699584961, 'critic_loss': 102953.77185791015, 'actor_loss': 366.5010488243103, 'time_step': 0.011919006586074829, 'rollout_return': 14.809859154929578, 'evaluation': 14.5} step=14000\n",
      "2022-08-07 20:06.46 [info     ] Model parameters are saved to d3rlpy_logs/SAC_online_20220807200406/model_15000.pt\n",
      "2022-08-07 20:06.46 [info     ] SAC_online_20220807200406: epoch=15 step=15000 epoch=15 metrics={'time_inference': 0.0007225840091705322, 'time_environment_step': 0.0008771421909332276, 'time_sample_batch': 0.0004025130271911621, 'time_algorithm_update': 0.008335731029510497, 'temp_loss': 68.50788552474975, 'temp': 42.76143502426147, 'critic_loss': 3187.135024902344, 'actor_loss': -0.030937837183475494, 'time_step': 0.010426565647125245, 'rollout_return': 14.007042253521126, 'evaluation': 15.5} step=15000\n",
      "2022-08-07 20:06.58 [info     ] Model parameters are saved to d3rlpy_logs/SAC_online_20220807200406/model_16000.pt\n",
      "2022-08-07 20:06.58 [info     ] SAC_online_20220807200406: epoch=16 step=16000 epoch=16 metrics={'time_inference': 0.0007878947257995606, 'time_environment_step': 0.000958587646484375, 'time_sample_batch': 0.00041567301750183107, 'time_algorithm_update': 0.009261063337326049, 'temp_loss': 54.39734464645386, 'temp': 33.69127956581116, 'critic_loss': 582.802959487915, 'actor_loss': -53.55416057777405, 'time_step': 0.011512816429138184, 'rollout_return': 14.535211267605634, 'evaluation': 15.6} step=16000\n",
      "2022-08-07 20:07.08 [info     ] Model parameters are saved to d3rlpy_logs/SAC_online_20220807200406/model_17000.pt\n",
      "2022-08-07 20:07.08 [info     ] SAC_online_20220807200406: epoch=17 step=17000 epoch=17 metrics={'time_inference': 0.0006971511840820312, 'time_environment_step': 0.0008459908962249755, 'time_sample_batch': 0.0003689868450164795, 'time_algorithm_update': 0.0077904720306396485, 'temp_loss': 43.36922012710571, 'temp': 26.73409559059143, 'critic_loss': 375.5470072784424, 'actor_loss': -51.88903245162964, 'time_step': 0.009782928466796875, 'rollout_return': 14.633802816901408, 'evaluation': 13.7} step=17000\n",
      "2022-08-07 20:07.17 [info     ] Model parameters are saved to d3rlpy_logs/SAC_online_20220807200406/model_18000.pt\n",
      "2022-08-07 20:07.17 [info     ] SAC_online_20220807200406: epoch=18 step=18000 epoch=18 metrics={'time_inference': 0.0006788482666015625, 'time_environment_step': 0.0007811682224273681, 'time_sample_batch': 0.00035442304611206055, 'time_algorithm_update': 0.007195360660552978, 'temp_loss': 34.555621770858764, 'temp': 21.30136005592346, 'critic_loss': 241.2285126876831, 'actor_loss': -42.26103935623169, 'time_step': 0.009085564613342286, 'rollout_return': 14.126760563380282, 'evaluation': 13.9} step=18000\n",
      "2022-08-07 20:07.28 [info     ] Model parameters are saved to d3rlpy_logs/SAC_online_20220807200406/model_19000.pt\n",
      "2022-08-07 20:07.28 [info     ] SAC_online_20220807200406: epoch=19 step=19000 epoch=19 metrics={'time_inference': 0.0007251620292663575, 'time_environment_step': 0.0008572194576263427, 'time_sample_batch': 0.00036669802665710447, 'time_algorithm_update': 0.007896799802780151, 'temp_loss': 27.536421880722045, 'temp': 17.0130283241272, 'critic_loss': 155.0952393875122, 'actor_loss': -34.223327889442444, 'time_step': 0.00992901611328125, 'rollout_return': 15.035211267605634, 'evaluation': 13.7} step=19000\n",
      "2022-08-07 20:07.37 [info     ] Model parameters are saved to d3rlpy_logs/SAC_online_20220807200406/model_20000.pt\n",
      "2022-08-07 20:07.37 [info     ] SAC_online_20220807200406: epoch=20 step=20000 epoch=20 metrics={'time_inference': 0.0007021498680114747, 'time_environment_step': 0.0008019132614135742, 'time_sample_batch': 0.00035462284088134765, 'time_algorithm_update': 0.0072337229251861574, 'temp_loss': 21.90490062046051, 'temp': 13.606862894058228, 'critic_loss': 104.94191923522949, 'actor_loss': -27.562614645957947, 'time_step': 0.009168860197067261, 'rollout_return': 14.28169014084507, 'evaluation': 14.1} step=20000\n",
      "2022-08-07 20:07.47 [info     ] Model parameters are saved to d3rlpy_logs/SAC_online_20220807200406/model_21000.pt\n",
      "2022-08-07 20:07.47 [info     ] SAC_online_20220807200406: epoch=21 step=21000 epoch=21 metrics={'time_inference': 0.0006795303821563721, 'time_environment_step': 0.0008144125938415527, 'time_sample_batch': 0.0003630552291870117, 'time_algorithm_update': 0.007623939514160156, 'temp_loss': 17.63604965877533, 'temp': 10.883182055473327, 'critic_loss': 62.38550681304932, 'actor_loss': -23.148484745025634, 'time_step': 0.009557449340820312, 'rollout_return': 14.267605633802816, 'evaluation': 16.0} step=21000\n",
      "2022-08-07 20:07.56 [info     ] Model parameters are saved to d3rlpy_logs/SAC_online_20220807200406/model_22000.pt\n",
      "2022-08-07 20:07.56 [info     ] SAC_online_20220807200406: epoch=22 step=22000 epoch=22 metrics={'time_inference': 0.0006661276817321777, 'time_environment_step': 0.0007906460762023926, 'time_sample_batch': 0.0003467674255371094, 'time_algorithm_update': 0.0071986355781555175, 'temp_loss': 14.031253003120423, 'temp': 8.700067269802094, 'critic_loss': 46.2774970741272, 'actor_loss': -19.413162741661072, 'time_step': 0.009078570365905762, 'rollout_return': 14.443661971830986, 'evaluation': 14.5} step=22000\n",
      "2022-08-07 20:08.05 [info     ] Model parameters are saved to d3rlpy_logs/SAC_online_20220807200406/model_23000.pt\n",
      "2022-08-07 20:08.05 [info     ] SAC_online_20220807200406: epoch=23 step=23000 epoch=23 metrics={'time_inference': 0.0006700687408447266, 'time_environment_step': 0.0007715466022491455, 'time_sample_batch': 0.00034776210784912107, 'time_algorithm_update': 0.007309407711029053, 'temp_loss': 11.267834528923034, 'temp': 6.958323351383209, 'critic_loss': 29.38870022201538, 'actor_loss': -16.551107332229613, 'time_step': 0.009174656867980958, 'rollout_return': 14.873239436619718, 'evaluation': 14.1} step=23000\n",
      "2022-08-07 20:08.15 [info     ] Model parameters are saved to d3rlpy_logs/SAC_online_20220807200406/model_24000.pt\n",
      "2022-08-07 20:08.15 [info     ] SAC_online_20220807200406: epoch=24 step=24000 epoch=24 metrics={'time_inference': 0.0006777992248535157, 'time_environment_step': 0.0007885782718658447, 'time_sample_batch': 0.0003471403121948242, 'time_algorithm_update': 0.00727063775062561, 'temp_loss': 8.987376311302185, 'temp': 5.562888824939728, 'critic_loss': 21.552866535186766, 'actor_loss': -14.180991393089295, 'time_step': 0.009161848068237305, 'rollout_return': 14.464788732394366, 'evaluation': 15.2} step=24000\n",
      "2022-08-07 20:08.23 [info     ] Model parameters are saved to d3rlpy_logs/SAC_online_20220807200406/model_25000.pt\n",
      "2022-08-07 20:08.23 [info     ] SAC_online_20220807200406: epoch=25 step=25000 epoch=25 metrics={'time_inference': 0.0006510653495788574, 'time_environment_step': 0.0007590737342834473, 'time_sample_batch': 0.00032959437370300295, 'time_algorithm_update': 0.006734368085861206, 'temp_loss': 7.15443474149704, 'temp': 4.450944038152695, 'critic_loss': 16.956828984737395, 'actor_loss': -12.150292041301727, 'time_step': 0.008548173427581787, 'rollout_return': 14.43661971830986, 'evaluation': 12.8} step=25000\n",
      "2022-08-07 20:08.30 [info     ] Model parameters are saved to d3rlpy_logs/SAC_online_20220807200406/model_26000.pt\n",
      "2022-08-07 20:08.30 [info     ] SAC_online_20220807200406: epoch=26 step=26000 epoch=26 metrics={'time_inference': 0.0005379490852355957, 'time_environment_step': 0.0006053524017333985, 'time_sample_batch': 0.00024954771995544436, 'time_algorithm_update': 0.00512291932106018, 'temp_loss': 5.72996915435791, 'temp': 3.5639859790802, 'critic_loss': 12.396463927268982, 'actor_loss': -10.542501502990723, 'time_step': 0.006576422452926636, 'rollout_return': 14.387323943661972, 'evaluation': 15.2} step=26000\n",
      "2022-08-07 20:08.37 [info     ] Model parameters are saved to d3rlpy_logs/SAC_online_20220807200406/model_27000.pt\n",
      "2022-08-07 20:08.37 [info     ] SAC_online_20220807200406: epoch=27 step=27000 epoch=27 metrics={'time_inference': 0.000537893295288086, 'time_environment_step': 0.0006102244853973389, 'time_sample_batch': 0.0002504274845123291, 'time_algorithm_update': 0.005132923841476441, 'temp_loss': 4.597316839456559, 'temp': 2.8490657198429106, 'critic_loss': 9.227882734775543, 'actor_loss': -9.301538918018341, 'time_step': 0.006592497825622558, 'rollout_return': 14.408450704225352, 'evaluation': 15.8} step=27000\n",
      "2022-08-07 20:08.44 [info     ] Model parameters are saved to d3rlpy_logs/SAC_online_20220807200406/model_28000.pt\n",
      "2022-08-07 20:08.44 [info     ] SAC_online_20220807200406: epoch=28 step=28000 epoch=28 metrics={'time_inference': 0.0005962722301483155, 'time_environment_step': 0.0006905519962310792, 'time_sample_batch': 0.00028560376167297366, 'time_algorithm_update': 0.005581130027770996, 'temp_loss': 3.599813181221485, 'temp': 2.2819401729106903, 'critic_loss': 8.437199218988418, 'actor_loss': -8.00125378370285, 'time_step': 0.007224463701248169, 'rollout_return': 14.28169014084507, 'evaluation': 15.6} step=28000\n",
      "2022-08-07 20:08.52 [info     ] Model parameters are saved to d3rlpy_logs/SAC_online_20220807200406/model_29000.pt\n",
      "2022-08-07 20:08.52 [info     ] SAC_online_20220807200406: epoch=29 step=29000 epoch=29 metrics={'time_inference': 0.0006090564727783204, 'time_environment_step': 0.0007052805423736572, 'time_sample_batch': 0.0002898201942443848, 'time_algorithm_update': 0.005718023300170899, 'temp_loss': 2.9365161182880404, 'temp': 1.8283038415908814, 'critic_loss': 6.4790916368961335, 'actor_loss': -7.285271267414093, 'time_step': 0.007394482374191284, 'rollout_return': 14.556338028169014, 'evaluation': 15.2} step=29000\n",
      "2022-08-07 20:08.59 [info     ] Model parameters are saved to d3rlpy_logs/SAC_online_20220807200406/model_30000.pt\n",
      "2022-08-07 20:08.59 [info     ] SAC_online_20220807200406: epoch=30 step=30000 epoch=30 metrics={'time_inference': 0.00059454345703125, 'time_environment_step': 0.0006789364814758301, 'time_sample_batch': 0.0002808334827423096, 'time_algorithm_update': 0.005598912477493286, 'temp_loss': 2.356311124801636, 'temp': 1.4594074298143387, 'critic_loss': 5.885048684358597, 'actor_loss': -6.683822940349579, 'time_step': 0.00722207236289978, 'rollout_return': 14.640845070422536, 'evaluation': 15.2} step=30000\n",
      "2022-08-07 20:09.08 [info     ] Model parameters are saved to d3rlpy_logs/SAC_online_20220807200406/model_31000.pt\n",
      "2022-08-07 20:09.08 [info     ] SAC_online_20220807200406: epoch=31 step=31000 epoch=31 metrics={'time_inference': 0.0006807229518890381, 'time_environment_step': 0.0007776257991790772, 'time_sample_batch': 0.0003259217739105225, 'time_algorithm_update': 0.006381242513656616, 'temp_loss': 1.8663540103435516, 'temp': 1.167292256832123, 'critic_loss': 5.416588101387024, 'actor_loss': -6.0946286735534665, 'time_step': 0.008244516134262084, 'rollout_return': 15.28169014084507, 'evaluation': 13.6} step=31000\n",
      "2022-08-07 20:09.15 [info     ] Model parameters are saved to d3rlpy_logs/SAC_online_20220807200406/model_32000.pt\n",
      "2022-08-07 20:09.15 [info     ] SAC_online_20220807200406: epoch=32 step=32000 epoch=32 metrics={'time_inference': 0.0006325244903564453, 'time_environment_step': 0.0007169432640075684, 'time_sample_batch': 0.00030556321144104004, 'time_algorithm_update': 0.0059878981113433835, 'temp_loss': 1.4854079347848892, 'temp': 0.9339469871520996, 'critic_loss': 5.405457329988479, 'actor_loss': -5.644864629268646, 'time_step': 0.007716249227523803, 'rollout_return': 14.45774647887324, 'evaluation': 14.7} step=32000\n",
      "2022-08-07 20:09.23 [info     ] Model parameters are saved to d3rlpy_logs/SAC_online_20220807200406/model_33000.pt\n",
      "2022-08-07 20:09.23 [info     ] SAC_online_20220807200406: epoch=33 step=33000 epoch=33 metrics={'time_inference': 0.0006391088962554932, 'time_environment_step': 0.00072475004196167, 'time_sample_batch': 0.00031176495552062987, 'time_algorithm_update': 0.006082452297210693, 'temp_loss': 1.193218847811222, 'temp': 0.7478235269188881, 'critic_loss': 4.969807421207428, 'actor_loss': -5.287390676736831, 'time_step': 0.007832009553909301, 'rollout_return': 14.471830985915492, 'evaluation': 14.3} step=33000\n",
      "2022-08-07 20:09.31 [info     ] Model parameters are saved to d3rlpy_logs/SAC_online_20220807200406/model_34000.pt\n",
      "2022-08-07 20:09.31 [info     ] SAC_online_20220807200406: epoch=34 step=34000 epoch=34 metrics={'time_inference': 0.0006224386692047119, 'time_environment_step': 0.0007032575607299805, 'time_sample_batch': 0.0002950108051300049, 'time_algorithm_update': 0.00585269570350647, 'temp_loss': 0.9470211359262466, 'temp': 0.5984555888175964, 'critic_loss': 4.766867020368576, 'actor_loss': -4.987545170307159, 'time_step': 0.007545434713363648, 'rollout_return': 14.873239436619718, 'evaluation': 12.0} step=34000\n",
      "2022-08-07 20:09.39 [info     ] Model parameters are saved to d3rlpy_logs/SAC_online_20220807200406/model_35000.pt\n",
      "2022-08-07 20:09.39 [info     ] SAC_online_20220807200406: epoch=35 step=35000 epoch=35 metrics={'time_inference': 0.0006434237957000733, 'time_environment_step': 0.0007271490097045898, 'time_sample_batch': 0.000307187557220459, 'time_algorithm_update': 0.006035911560058594, 'temp_loss': 0.7551291660070419, 'temp': 0.4790309365391731, 'critic_loss': 4.870372020959854, 'actor_loss': -4.721456261396408, 'time_step': 0.007788817882537841, 'rollout_return': 14.619718309859154, 'evaluation': 12.2} step=35000\n",
      "2022-08-07 20:09.47 [info     ] Model parameters are saved to d3rlpy_logs/SAC_online_20220807200406/model_36000.pt\n",
      "2022-08-07 20:09.47 [info     ] SAC_online_20220807200406: epoch=36 step=36000 epoch=36 metrics={'time_inference': 0.000659968376159668, 'time_environment_step': 0.0007439024448394775, 'time_sample_batch': 0.00031420183181762694, 'time_algorithm_update': 0.006204577207565308, 'temp_loss': 0.6035048760473728, 'temp': 0.3837125701904297, 'critic_loss': 4.652762718915939, 'actor_loss': -4.540031383037567, 'time_step': 0.0079992573261261, 'rollout_return': 14.56338028169014, 'evaluation': 14.8} step=36000\n",
      "2022-08-07 20:09.55 [info     ] Model parameters are saved to d3rlpy_logs/SAC_online_20220807200406/model_37000.pt\n",
      "2022-08-07 20:09.55 [info     ] SAC_online_20220807200406: epoch=37 step=37000 epoch=37 metrics={'time_inference': 0.000639519453048706, 'time_environment_step': 0.0007243564128875732, 'time_sample_batch': 0.0003075175285339355, 'time_algorithm_update': 0.006027912616729737, 'temp_loss': 0.4791303775012493, 'temp': 0.307275318801403, 'critic_loss': 4.647734493255615, 'actor_loss': -4.353102134943009, 'time_step': 0.007773618698120117, 'rollout_return': 14.93661971830986, 'evaluation': 14.5} step=37000\n",
      "2022-08-07 20:10.03 [info     ] Model parameters are saved to d3rlpy_logs/SAC_online_20220807200406/model_38000.pt\n",
      "2022-08-07 20:10.03 [info     ] SAC_online_20220807200406: epoch=38 step=38000 epoch=38 metrics={'time_inference': 0.0006701328754425049, 'time_environment_step': 0.0007542147636413574, 'time_sample_batch': 0.000317302942276001, 'time_algorithm_update': 0.00621742296218872, 'temp_loss': 0.3804212101697922, 'temp': 0.246265504732728, 'critic_loss': 4.700222193002701, 'actor_loss': -4.238307177305222, 'time_step': 0.00803810739517212, 'rollout_return': 14.380281690140846, 'evaluation': 15.0} step=38000\n",
      "2022-08-07 20:10.11 [info     ] Model parameters are saved to d3rlpy_logs/SAC_online_20220807200406/model_39000.pt\n",
      "2022-08-07 20:10.11 [info     ] SAC_online_20220807200406: epoch=39 step=39000 epoch=39 metrics={'time_inference': 0.0006448242664337158, 'time_environment_step': 0.0007286643981933593, 'time_sample_batch': 0.0003083457946777344, 'time_algorithm_update': 0.006058176040649414, 'temp_loss': 0.29909299458563327, 'temp': 0.19760482220351697, 'critic_loss': 4.673965518236161, 'actor_loss': -4.0957749140262605, 'time_step': 0.007814750909805298, 'rollout_return': 14.612676056338028, 'evaluation': 13.9} step=39000\n",
      "2022-08-07 20:10.20 [info     ] Model parameters are saved to d3rlpy_logs/SAC_online_20220807200406/model_40000.pt\n",
      "2022-08-07 20:10.20 [info     ] SAC_online_20220807200406: epoch=40 step=40000 epoch=40 metrics={'time_inference': 0.0006969225406646729, 'time_environment_step': 0.000780390739440918, 'time_sample_batch': 0.00032794857025146486, 'time_algorithm_update': 0.006564992427825928, 'temp_loss': 0.23735750578343867, 'temp': 0.15876279628276824, 'critic_loss': 4.618403574228287, 'actor_loss': -4.035686662912369, 'time_step': 0.008450234174728394, 'rollout_return': 14.93661971830986, 'evaluation': 15.6} step=40000\n",
      "2022-08-07 20:10.33 [info     ] Model parameters are saved to d3rlpy_logs/SAC_online_20220807200406/model_41000.pt\n",
      "2022-08-07 20:10.33 [info     ] SAC_online_20220807200406: epoch=41 step=41000 epoch=41 metrics={'time_inference': 0.0007978265285491944, 'time_environment_step': 0.0009086034297943115, 'time_sample_batch': 0.0003777065277099609, 'time_algorithm_update': 0.010090249538421631, 'temp_loss': 0.1870364908427, 'temp': 0.12743712577968835, 'critic_loss': 4.505062186479568, 'actor_loss': -4.024327554464341, 'time_step': 0.012263914346694946, 'rollout_return': 15.401408450704226, 'evaluation': 13.4} step=41000\n",
      "2022-08-07 20:10.49 [info     ] Model parameters are saved to d3rlpy_logs/SAC_online_20220807200406/model_42000.pt\n",
      "2022-08-07 20:10.49 [info     ] SAC_online_20220807200406: epoch=42 step=42000 epoch=42 metrics={'time_inference': 0.000783015251159668, 'time_environment_step': 0.0009668791294097901, 'time_sample_batch': 0.0004225013256072998, 'time_algorithm_update': 0.01381626057624817, 'temp_loss': 0.14726278540864587, 'temp': 0.10261207953840494, 'critic_loss': 4.440363987207412, 'actor_loss': -4.001062180757523, 'time_step': 0.016076483726501466, 'rollout_return': 14.654929577464788, 'evaluation': 15.5} step=42000\n",
      "2022-08-07 20:11.06 [info     ] Model parameters are saved to d3rlpy_logs/SAC_online_20220807200406/model_43000.pt\n",
      "2022-08-07 20:11.06 [info     ] SAC_online_20220807200406: epoch=43 step=43000 epoch=43 metrics={'time_inference': 0.0008018884658813477, 'time_environment_step': 0.0009179317951202393, 'time_sample_batch': 0.00038939762115478514, 'time_algorithm_update': 0.01448772668838501, 'temp_loss': 0.113044808909297, 'temp': 0.08272346012294292, 'critic_loss': 4.558691425085068, 'actor_loss': -4.024107407331467, 'time_step': 0.016682461261749267, 'rollout_return': 14.69718309859155, 'evaluation': 15.6} step=43000\n",
      "2022-08-07 20:11.19 [info     ] Model parameters are saved to d3rlpy_logs/SAC_online_20220807200406/model_44000.pt\n",
      "2022-08-07 20:11.19 [info     ] SAC_online_20220807200406: epoch=44 step=44000 epoch=44 metrics={'time_inference': 0.0007675933837890625, 'time_environment_step': 0.0008494577407836914, 'time_sample_batch': 0.00035389375686645507, 'time_algorithm_update': 0.010556441068649293, 'temp_loss': 0.08864875813573599, 'temp': 0.06686151468008757, 'critic_loss': 4.401993681669235, 'actor_loss': -4.016412954568863, 'time_step': 0.012611536979675294, 'rollout_return': 15.316901408450704, 'evaluation': 14.1} step=44000\n",
      "2022-08-07 20:11.27 [info     ] Model parameters are saved to d3rlpy_logs/SAC_online_20220807200406/model_45000.pt\n",
      "2022-08-07 20:11.27 [info     ] SAC_online_20220807200406: epoch=45 step=45000 epoch=45 metrics={'time_inference': 0.0006545522212982178, 'time_environment_step': 0.0007352328300476074, 'time_sample_batch': 0.0003144431114196777, 'time_algorithm_update': 0.006480218887329102, 'temp_loss': 0.06560282847099007, 'temp': 0.05427621489018202, 'critic_loss': 5.035564001083374, 'actor_loss': -4.03609892160818, 'time_step': 0.008259863376617431, 'rollout_return': 15.070422535211268, 'evaluation': 13.1} step=45000\n",
      "2022-08-07 20:11.44 [info     ] Model parameters are saved to d3rlpy_logs/SAC_online_20220807200406/model_46000.pt\n",
      "2022-08-07 20:11.44 [info     ] SAC_online_20220807200406: epoch=46 step=46000 epoch=46 metrics={'time_inference': 0.0007727515697479249, 'time_environment_step': 0.0009640100002288819, 'time_sample_batch': 0.00040982818603515624, 'time_algorithm_update': 0.01410301184654236, 'temp_loss': 0.049546522306278346, 'temp': 0.04436826195940375, 'critic_loss': 4.430329975247383, 'actor_loss': -4.141923735141754, 'time_step': 0.016339078903198242, 'rollout_return': 15.788732394366198, 'evaluation': 14.9} step=46000\n",
      "2022-08-07 20:12.02 [info     ] Model parameters are saved to d3rlpy_logs/SAC_online_20220807200406/model_47000.pt\n",
      "2022-08-07 20:12.02 [info     ] SAC_online_20220807200406: epoch=47 step=47000 epoch=47 metrics={'time_inference': 0.000875774621963501, 'time_environment_step': 0.0009276766777038574, 'time_sample_batch': 0.00042357635498046874, 'time_algorithm_update': 0.0154855477809906, 'temp_loss': 0.03593011980690062, 'temp': 0.036436855856329206, 'critic_loss': 4.5719017739295955, 'actor_loss': -4.237064443588257, 'time_step': 0.017818158864974974, 'rollout_return': 15.556338028169014, 'evaluation': 15.9} step=47000\n",
      "2022-08-07 20:12.24 [info     ] Model parameters are saved to d3rlpy_logs/SAC_online_20220807200406/model_48000.pt\n",
      "2022-08-07 20:12.24 [info     ] SAC_online_20220807200406: epoch=48 step=48000 epoch=48 metrics={'time_inference': 0.0008031065464019775, 'time_environment_step': 0.0009366154670715332, 'time_sample_batch': 0.00039897775650024413, 'time_algorithm_update': 0.019287038803100585, 'temp_loss': 0.026550719545339233, 'temp': 0.03011612019315362, 'critic_loss': 4.415007679700851, 'actor_loss': -4.294517924785614, 'time_step': 0.02151269769668579, 'rollout_return': 15.366197183098592, 'evaluation': 15.6} step=48000\n",
      "2022-08-07 20:13.06 [info     ] Model parameters are saved to d3rlpy_logs/SAC_online_20220807200406/model_49000.pt\n",
      "2022-08-07 20:13.06 [info     ] SAC_online_20220807200406: epoch=49 step=49000 epoch=49 metrics={'time_inference': 0.0008903415203094482, 'time_environment_step': 0.001038153648376465, 'time_sample_batch': 0.0004328148365020752, 'time_algorithm_update': 0.03900223517417908, 'temp_loss': 0.016991367933544096, 'temp': 0.025169075433164836, 'critic_loss': 4.70256075668335, 'actor_loss': -4.419041211128235, 'time_step': 0.04145473861694336, 'rollout_return': 15.464788732394366, 'evaluation': 13.8} step=49000\n",
      "2022-08-07 20:13.46 [info     ] Model parameters are saved to d3rlpy_logs/SAC_online_20220807200406/model_50000.pt\n",
      "2022-08-07 20:13.46 [info     ] SAC_online_20220807200406: epoch=50 step=50000 epoch=50 metrics={'time_inference': 0.0008378326892852783, 'time_environment_step': 0.0009720447063446045, 'time_sample_batch': 0.0004075338840484619, 'time_algorithm_update': 0.037727359294891356, 'temp_loss': 0.010931075207801769, 'temp': 0.021607133351266385, 'critic_loss': 4.68503759598732, 'actor_loss': -4.529718398571014, 'time_step': 0.040038753986358644, 'rollout_return': 15.71830985915493, 'evaluation': 14.9} step=50000\n",
      "2022-08-07 20:14.26 [info     ] Model parameters are saved to d3rlpy_logs/SAC_online_20220807200406/model_51000.pt\n",
      "2022-08-07 20:14.26 [info     ] SAC_online_20220807200406: epoch=51 step=51000 epoch=51 metrics={'time_inference': 0.0009261894226074218, 'time_environment_step': 0.0010148489475250244, 'time_sample_batch': 0.0004470324516296387, 'time_algorithm_update': 0.036886319875717166, 'temp_loss': 0.0062814820711355425, 'temp': 0.018917040906846525, 'critic_loss': 4.814055513620376, 'actor_loss': -4.600903894662857, 'time_step': 0.03935330963134766, 'rollout_return': 15.485915492957746, 'evaluation': 15.0} step=51000\n",
      "2022-08-07 20:15.10 [info     ] Model parameters are saved to d3rlpy_logs/SAC_online_20220807200406/model_52000.pt\n",
      "2022-08-07 20:15.10 [info     ] SAC_online_20220807200406: epoch=52 step=52000 epoch=52 metrics={'time_inference': 0.0008826477527618408, 'time_environment_step': 0.0011216893196105957, 'time_sample_batch': 0.0004115016460418701, 'time_algorithm_update': 0.04140791368484497, 'temp_loss': 0.0037359553156929904, 'temp': 0.017033468382433057, 'critic_loss': 4.846000248432159, 'actor_loss': -4.703419540882111, 'time_step': 0.043907456874847414, 'rollout_return': 15.612676056338028, 'evaluation': 17.3} step=52000\n",
      "2022-08-07 20:15.45 [info     ] Model parameters are saved to d3rlpy_logs/SAC_online_20220807200406/model_53000.pt\n",
      "2022-08-07 20:15.45 [info     ] SAC_online_20220807200406: epoch=53 step=53000 epoch=53 metrics={'time_inference': 0.0007503120899200439, 'time_environment_step': 0.0009500632286071777, 'time_sample_batch': 0.00041712021827697754, 'time_algorithm_update': 0.03204140019416809, 'temp_loss': 0.0020941762818110876, 'temp': 0.015497712282463908, 'critic_loss': 4.884027713775635, 'actor_loss': -4.779654921293258, 'time_step': 0.03423653650283814, 'rollout_return': 15.767605633802816, 'evaluation': 18.6} step=53000\n",
      "2022-08-07 20:15.54 [info     ] Model parameters are saved to d3rlpy_logs/SAC_online_20220807200406/model_54000.pt\n",
      "2022-08-07 20:15.54 [info     ] SAC_online_20220807200406: epoch=54 step=54000 epoch=54 metrics={'time_inference': 0.0006573877334594727, 'time_environment_step': 0.0007771303653717041, 'time_sample_batch': 0.0003493938446044922, 'time_algorithm_update': 0.00685620379447937, 'temp_loss': 0.00024993144218751697, 'temp': 0.014803829639218748, 'critic_loss': 4.85982434463501, 'actor_loss': -4.854529228448868, 'time_step': 0.00871590518951416, 'rollout_return': 15.471830985915492, 'evaluation': 15.7} step=54000\n",
      "2022-08-07 20:16.05 [info     ] Model parameters are saved to d3rlpy_logs/SAC_online_20220807200406/model_55000.pt\n",
      "2022-08-07 20:16.05 [info     ] SAC_online_20220807200406: epoch=55 step=55000 epoch=55 metrics={'time_inference': 0.0007759773731231689, 'time_environment_step': 0.0009413504600524902, 'time_sample_batch': 0.0003923928737640381, 'time_algorithm_update': 0.008846707105636597, 'temp_loss': -0.0008614563078081119, 'temp': 0.015064118947833776, 'critic_loss': 4.845644699335098, 'actor_loss': -4.908792532205582, 'time_step': 0.01104288649559021, 'rollout_return': 15.774647887323944, 'evaluation': 14.3} step=55000\n",
      "2022-08-07 20:16.15 [info     ] Model parameters are saved to d3rlpy_logs/SAC_online_20220807200406/model_56000.pt\n",
      "2022-08-07 20:16.15 [info     ] SAC_online_20220807200406: epoch=56 step=56000 epoch=56 metrics={'time_inference': 0.0007202484607696533, 'time_environment_step': 0.0008876757621765136, 'time_sample_batch': 0.00037578582763671877, 'time_algorithm_update': 0.007836994647979736, 'temp_loss': -0.0004312500389496563, 'temp': 0.01564724429603666, 'critic_loss': 4.843241564750671, 'actor_loss': -4.9513498198986055, 'time_step': 0.00990750527381897, 'rollout_return': 16.112676056338028, 'evaluation': 15.9} step=56000\n",
      "2022-08-07 20:16.22 [info     ] Model parameters are saved to d3rlpy_logs/SAC_online_20220807200406/model_57000.pt\n",
      "2022-08-07 20:16.22 [info     ] SAC_online_20220807200406: epoch=57 step=57000 epoch=57 metrics={'time_inference': 0.0005910744667053223, 'time_environment_step': 0.0006868331432342529, 'time_sample_batch': 0.00027837133407592775, 'time_algorithm_update': 0.0055792899131774905, 'temp_loss': -0.0001684813554675202, 'temp': 0.01581471400335431, 'critic_loss': 4.774687463283539, 'actor_loss': -4.983038000106811, 'time_step': 0.007205147504806519, 'rollout_return': 15.626760563380282, 'evaluation': 15.6} step=57000\n",
      "2022-08-07 20:16.31 [info     ] Model parameters are saved to d3rlpy_logs/SAC_online_20220807200406/model_58000.pt\n",
      "2022-08-07 20:16.31 [info     ] SAC_online_20220807200406: epoch=58 step=58000 epoch=58 metrics={'time_inference': 0.0006921067237854004, 'time_environment_step': 0.0008083453178405762, 'time_sample_batch': 0.00031804013252258303, 'time_algorithm_update': 0.006316485404968261, 'temp_loss': -0.0003238236757388222, 'temp': 0.016118011455982923, 'critic_loss': 4.700077749490738, 'actor_loss': -5.019360186100006, 'time_step': 0.008220258951187134, 'rollout_return': 15.78169014084507, 'evaluation': 15.3} step=58000\n",
      "2022-08-07 20:16.38 [info     ] Model parameters are saved to d3rlpy_logs/SAC_online_20220807200406/model_59000.pt\n",
      "2022-08-07 20:16.38 [info     ] SAC_online_20220807200406: epoch=59 step=59000 epoch=59 metrics={'time_inference': 0.0006106500625610351, 'time_environment_step': 0.0007135555744171143, 'time_sample_batch': 0.0002889747619628906, 'time_algorithm_update': 0.005665108919143676, 'temp_loss': -0.0002454106243967544, 'temp': 0.0162360314168036, 'critic_loss': 4.694008292675019, 'actor_loss': -5.024385365009308, 'time_step': 0.007352025747299195, 'rollout_return': 16.169014084507044, 'evaluation': 16.1} step=59000\n",
      "2022-08-07 20:16.46 [info     ] Model parameters are saved to d3rlpy_logs/SAC_online_20220807200406/model_60000.pt\n",
      "2022-08-07 20:16.46 [info     ] SAC_online_20220807200406: epoch=60 step=60000 epoch=60 metrics={'time_inference': 0.0006054856777191162, 'time_environment_step': 0.0006983747482299804, 'time_sample_batch': 0.0002821476459503174, 'time_algorithm_update': 0.005630340337753296, 'temp_loss': -0.0005693036535303691, 'temp': 0.016672914853319527, 'critic_loss': 4.826811070919037, 'actor_loss': -5.014273555755615, 'time_step': 0.007288623571395874, 'rollout_return': 15.76056338028169, 'evaluation': 18.4} step=60000\n",
      "2022-08-07 20:16.54 [info     ] Model parameters are saved to d3rlpy_logs/SAC_online_20220807200406/model_61000.pt\n",
      "2022-08-07 20:16.54 [info     ] SAC_online_20220807200406: epoch=61 step=61000 epoch=61 metrics={'time_inference': 0.0006662487983703613, 'time_environment_step': 0.0007711493968963623, 'time_sample_batch': 0.00030700874328613284, 'time_algorithm_update': 0.006222057342529297, 'temp_loss': -0.00034611059693270363, 'temp': 0.017074715089052915, 'critic_loss': 4.68800786781311, 'actor_loss': -5.044312459230423, 'time_step': 0.008046749353408813, 'rollout_return': 15.401408450704226, 'evaluation': 16.0} step=61000\n",
      "2022-08-07 20:17.02 [info     ] Model parameters are saved to d3rlpy_logs/SAC_online_20220807200406/model_62000.pt\n",
      "2022-08-07 20:17.02 [info     ] SAC_online_20220807200406: epoch=62 step=62000 epoch=62 metrics={'time_inference': 0.0006391391754150391, 'time_environment_step': 0.0007497272491455078, 'time_sample_batch': 0.00030036449432373045, 'time_algorithm_update': 0.005901651859283447, 'temp_loss': -0.00028188071461772776, 'temp': 0.017354402590543033, 'critic_loss': 4.699199652433395, 'actor_loss': -4.975013919115066, 'time_step': 0.00766876220703125, 'rollout_return': 15.316901408450704, 'evaluation': 15.4} step=62000\n",
      "2022-08-07 20:17.09 [info     ] Model parameters are saved to d3rlpy_logs/SAC_online_20220807200406/model_63000.pt\n",
      "2022-08-07 20:17.09 [info     ] SAC_online_20220807200406: epoch=63 step=63000 epoch=63 metrics={'time_inference': 0.0005723004341125488, 'time_environment_step': 0.0006591787338256836, 'time_sample_batch': 0.00026801276206970214, 'time_algorithm_update': 0.005414952754974365, 'temp_loss': -0.00015568202457870938, 'temp': 0.017544758139178156, 'critic_loss': 4.715526182651519, 'actor_loss': -5.000881501197815, 'time_step': 0.006981328964233398, 'rollout_return': 15.753521126760564, 'evaluation': 14.4} step=63000\n",
      "2022-08-07 20:17.16 [info     ] Model parameters are saved to d3rlpy_logs/SAC_online_20220807200406/model_64000.pt\n",
      "2022-08-07 20:17.16 [info     ] SAC_online_20220807200406: epoch=64 step=64000 epoch=64 metrics={'time_inference': 0.0005831139087677002, 'time_environment_step': 0.0006723711490631103, 'time_sample_batch': 0.0002760257720947266, 'time_algorithm_update': 0.0055352959632873535, 'temp_loss': 0.000300476464744861, 'temp': 0.017516401540488006, 'critic_loss': 4.6738763921260835, 'actor_loss': -4.972332181215286, 'time_step': 0.007135353803634644, 'rollout_return': 15.556338028169014, 'evaluation': 15.1} step=64000\n",
      "2022-08-07 20:17.24 [info     ] Model parameters are saved to d3rlpy_logs/SAC_online_20220807200406/model_65000.pt\n",
      "2022-08-07 20:17.24 [info     ] SAC_online_20220807200406: epoch=65 step=65000 epoch=65 metrics={'time_inference': 0.0006250810623168946, 'time_environment_step': 0.0007229275703430176, 'time_sample_batch': 0.0002925291061401367, 'time_algorithm_update': 0.005844195365905761, 'temp_loss': 0.00034001625788368983, 'temp': 0.017161865862086415, 'critic_loss': 4.703987381219864, 'actor_loss': -4.974959022283554, 'time_step': 0.007560649871826172, 'rollout_return': 16.0, 'evaluation': 15.2} step=65000\n",
      "2022-08-07 20:17.31 [info     ] Model parameters are saved to d3rlpy_logs/SAC_online_20220807200406/model_66000.pt\n",
      "2022-08-07 20:17.31 [info     ] SAC_online_20220807200406: epoch=66 step=66000 epoch=66 metrics={'time_inference': 0.0006003434658050537, 'time_environment_step': 0.0006915557384490966, 'time_sample_batch': 0.00028357768058776857, 'time_algorithm_update': 0.00560001540184021, 'temp_loss': 0.00036902673234726535, 'temp': 0.0168041665032506, 'critic_loss': 4.535749501943588, 'actor_loss': -4.953749715805054, 'time_step': 0.007246405601501465, 'rollout_return': 15.126760563380282, 'evaluation': 15.7} step=66000\n",
      "2022-08-07 20:17.38 [info     ] Model parameters are saved to d3rlpy_logs/SAC_online_20220807200406/model_67000.pt\n",
      "2022-08-07 20:17.38 [info     ] SAC_online_20220807200406: epoch=67 step=67000 epoch=67 metrics={'time_inference': 0.0005744297504425049, 'time_environment_step': 0.0006539516448974609, 'time_sample_batch': 0.00026910185813903807, 'time_algorithm_update': 0.005392326593399048, 'temp_loss': 0.00031011214008321985, 'temp': 0.01650377118214965, 'critic_loss': 4.595905974149704, 'actor_loss': -4.933343929052353, 'time_step': 0.006955948829650879, 'rollout_return': 15.633802816901408, 'evaluation': 16.3} step=67000\n",
      "2022-08-07 20:17.45 [info     ] Model parameters are saved to d3rlpy_logs/SAC_online_20220807200406/model_68000.pt\n",
      "2022-08-07 20:17.45 [info     ] SAC_online_20220807200406: epoch=68 step=68000 epoch=68 metrics={'time_inference': 0.0005523021221160889, 'time_environment_step': 0.0006214878559112548, 'time_sample_batch': 0.000256976842880249, 'time_algorithm_update': 0.005227891206741333, 'temp_loss': 0.00027871814438549337, 'temp': 0.016217842500656842, 'critic_loss': 4.641324791193008, 'actor_loss': -4.910274567127228, 'time_step': 0.0067212114334106446, 'rollout_return': 15.401408450704226, 'evaluation': 15.2} step=68000\n",
      "2022-08-07 20:17.52 [info     ] Model parameters are saved to d3rlpy_logs/SAC_online_20220807200406/model_69000.pt\n",
      "2022-08-07 20:17.52 [info     ] SAC_online_20220807200406: epoch=69 step=69000 epoch=69 metrics={'time_inference': 0.000559849739074707, 'time_environment_step': 0.0006352379322052002, 'time_sample_batch': 0.00026222991943359377, 'time_algorithm_update': 0.005289303064346313, 'temp_loss': 0.00030979870734154245, 'temp': 0.01610009620897472, 'critic_loss': 4.6006987104415895, 'actor_loss': -4.874791151762008, 'time_step': 0.006810713529586792, 'rollout_return': 15.52112676056338, 'evaluation': 13.5} step=69000\n",
      "2022-08-07 20:17.59 [info     ] Model parameters are saved to d3rlpy_logs/SAC_online_20220807200406/model_70000.pt\n",
      "2022-08-07 20:17.59 [info     ] SAC_online_20220807200406: epoch=70 step=70000 epoch=70 metrics={'time_inference': 0.0005711064338684082, 'time_environment_step': 0.0006550030708312989, 'time_sample_batch': 0.0002653851509094238, 'time_algorithm_update': 0.005449121952056885, 'temp_loss': 0.0007416417771164561, 'temp': 0.015456605575047433, 'critic_loss': 4.539529563426972, 'actor_loss': -4.880626553535461, 'time_step': 0.007006656169891357, 'rollout_return': 15.288732394366198, 'evaluation': 15.6} step=70000\n",
      "2022-08-07 20:18.06 [info     ] Model parameters are saved to d3rlpy_logs/SAC_online_20220807200406/model_71000.pt\n",
      "2022-08-07 20:18.06 [info     ] SAC_online_20220807200406: epoch=71 step=71000 epoch=71 metrics={'time_inference': 0.0005520498752593994, 'time_environment_step': 0.0006189765930175781, 'time_sample_batch': 0.00025613069534301757, 'time_algorithm_update': 0.005221947431564331, 'temp_loss': 0.00040403380455973094, 'temp': 0.014982459257356822, 'critic_loss': 4.4960119168758395, 'actor_loss': -4.88169108080864, 'time_step': 0.006711394548416138, 'rollout_return': 15.528169014084508, 'evaluation': 16.4} step=71000\n",
      "2022-08-07 20:18.14 [info     ] Model parameters are saved to d3rlpy_logs/SAC_online_20220807200406/model_72000.pt\n",
      "2022-08-07 20:18.14 [info     ] SAC_online_20220807200406: epoch=72 step=72000 epoch=72 metrics={'time_inference': 0.0006580820083618164, 'time_environment_step': 0.0007572553157806397, 'time_sample_batch': 0.0003028614521026611, 'time_algorithm_update': 0.006008689880371094, 'temp_loss': 0.000654054367892968, 'temp': 0.014632431148551405, 'critic_loss': 4.5128153541088105, 'actor_loss': -4.862701288700103, 'time_step': 0.007806278228759765, 'rollout_return': 15.95774647887324, 'evaluation': 15.4} step=72000\n",
      "2022-08-07 20:18.21 [info     ] Model parameters are saved to d3rlpy_logs/SAC_online_20220807200406/model_73000.pt\n",
      "2022-08-07 20:18.21 [info     ] SAC_online_20220807200406: epoch=73 step=73000 epoch=73 metrics={'time_inference': 0.000585261344909668, 'time_environment_step': 0.0006792836189270019, 'time_sample_batch': 0.0002760748863220215, 'time_algorithm_update': 0.005545976877212524, 'temp_loss': 0.001034498454799177, 'temp': 0.014003927879035472, 'critic_loss': 4.5539439175128935, 'actor_loss': -4.913060317754746, 'time_step': 0.007155514240264892, 'rollout_return': 15.380281690140846, 'evaluation': 16.2} step=73000\n",
      "2022-08-07 20:18.29 [info     ] Model parameters are saved to d3rlpy_logs/SAC_online_20220807200406/model_74000.pt\n",
      "2022-08-07 20:18.29 [info     ] SAC_online_20220807200406: epoch=74 step=74000 epoch=74 metrics={'time_inference': 0.0005791783332824707, 'time_environment_step': 0.0006627819538116455, 'time_sample_batch': 0.0002704737186431885, 'time_algorithm_update': 0.005465088605880737, 'temp_loss': 0.0013579994237370556, 'temp': 0.012983326761052013, 'critic_loss': 4.690228422641754, 'actor_loss': -4.938523037672043, 'time_step': 0.007044762849807739, 'rollout_return': 15.901408450704226, 'evaluation': 17.1} step=74000\n",
      "2022-08-07 20:18.36 [info     ] Model parameters are saved to d3rlpy_logs/SAC_online_20220807200406/model_75000.pt\n",
      "2022-08-07 20:18.36 [info     ] SAC_online_20220807200406: epoch=75 step=75000 epoch=75 metrics={'time_inference': 0.0005661356449127197, 'time_environment_step': 0.0006419966220855712, 'time_sample_batch': 0.00026300835609436034, 'time_algorithm_update': 0.0053791778087615965, 'temp_loss': 0.00180077046525912, 'temp': 0.011741822912357747, 'critic_loss': 4.563338874101639, 'actor_loss': -4.948369002342224, 'time_step': 0.00691556715965271, 'rollout_return': 15.633802816901408, 'evaluation': 17.0} step=75000\n",
      "2022-08-07 20:18.44 [info     ] Model parameters are saved to d3rlpy_logs/SAC_online_20220807200406/model_76000.pt\n",
      "2022-08-07 20:18.44 [info     ] SAC_online_20220807200406: epoch=76 step=76000 epoch=76 metrics={'time_inference': 0.0006793034076690674, 'time_environment_step': 0.000786524772644043, 'time_sample_batch': 0.0003133399486541748, 'time_algorithm_update': 0.0061677412986755374, 'temp_loss': 0.0009877331540628803, 'temp': 0.01072194887138903, 'critic_loss': 4.597219965219498, 'actor_loss': -4.92482125878334, 'time_step': 0.008030010223388671, 'rollout_return': 15.845070422535212, 'evaluation': 16.9} step=76000\n",
      "2022-08-07 20:18.51 [info     ] Model parameters are saved to d3rlpy_logs/SAC_online_20220807200406/model_77000.pt\n",
      "2022-08-07 20:18.51 [info     ] SAC_online_20220807200406: epoch=77 step=77000 epoch=77 metrics={'time_inference': 0.0005883960723876953, 'time_environment_step': 0.0006703717708587646, 'time_sample_batch': 0.00026969099044799803, 'time_algorithm_update': 0.005482225179672241, 'temp_loss': 0.00019981789643497904, 'temp': 0.010369093471206724, 'critic_loss': 4.614150298833847, 'actor_loss': -4.9433153860569, 'time_step': 0.007078915357589722, 'rollout_return': 16.260563380281692, 'evaluation': 15.8} step=77000\n",
      "2022-08-07 20:18.58 [info     ] Model parameters are saved to d3rlpy_logs/SAC_online_20220807200406/model_78000.pt\n",
      "2022-08-07 20:18.58 [info     ] SAC_online_20220807200406: epoch=78 step=78000 epoch=78 metrics={'time_inference': 0.0005683219432830811, 'time_environment_step': 0.0006449060440063476, 'time_sample_batch': 0.0002658953666687012, 'time_algorithm_update': 0.005395859718322754, 'temp_loss': -2.0229681213095317e-05, 'temp': 0.010343020508997143, 'critic_loss': 4.717490675926208, 'actor_loss': -4.982564629793167, 'time_step': 0.00694007396697998, 'rollout_return': 15.316901408450704, 'evaluation': 16.2} step=78000\n",
      "2022-08-07 20:19.06 [info     ] Model parameters are saved to d3rlpy_logs/SAC_online_20220807200406/model_79000.pt\n",
      "2022-08-07 20:19.06 [info     ] SAC_online_20220807200406: epoch=79 step=79000 epoch=79 metrics={'time_inference': 0.0006026308536529541, 'time_environment_step': 0.0006925616264343261, 'time_sample_batch': 0.00028107428550720216, 'time_algorithm_update': 0.0056069912910461425, 'temp_loss': -0.000740565110303578, 'temp': 0.010420752079226077, 'critic_loss': 4.596036668539047, 'actor_loss': -5.019283710718155, 'time_step': 0.007254641532897949, 'rollout_return': 15.443661971830986, 'evaluation': 15.5} step=79000\n",
      "2022-08-07 20:19.13 [info     ] Model parameters are saved to d3rlpy_logs/SAC_online_20220807200406/model_80000.pt\n",
      "2022-08-07 20:19.13 [info     ] SAC_online_20220807200406: epoch=80 step=80000 epoch=80 metrics={'time_inference': 0.0006196808815002442, 'time_environment_step': 0.0007190237045288086, 'time_sample_batch': 0.0002907123565673828, 'time_algorithm_update': 0.005800483465194703, 'temp_loss': -0.0016046401401545154, 'temp': 0.011320813884958624, 'critic_loss': 4.531007666826248, 'actor_loss': -5.055142001867294, 'time_step': 0.007503072261810303, 'rollout_return': 15.669014084507042, 'evaluation': 17.6} step=80000\n",
      "2022-08-07 20:19.20 [info     ] Model parameters are saved to d3rlpy_logs/SAC_online_20220807200406/model_81000.pt\n",
      "2022-08-07 20:19.20 [info     ] SAC_online_20220807200406: epoch=81 step=81000 epoch=81 metrics={'time_inference': 0.0005686805248260498, 'time_environment_step': 0.0006483209133148194, 'time_sample_batch': 0.0002641069889068603, 'time_algorithm_update': 0.005363687992095947, 'temp_loss': -0.0016726961479944294, 'temp': 0.01230004289932549, 'critic_loss': 4.653629375457764, 'actor_loss': -5.04283821105957, 'time_step': 0.006910305023193359, 'rollout_return': 15.73943661971831, 'evaluation': 15.9} step=81000\n",
      "2022-08-07 20:19.27 [info     ] Model parameters are saved to d3rlpy_logs/SAC_online_20220807200406/model_82000.pt\n",
      "2022-08-07 20:19.27 [info     ] SAC_online_20220807200406: epoch=82 step=82000 epoch=82 metrics={'time_inference': 0.0005700857639312744, 'time_environment_step': 0.0006541581153869628, 'time_sample_batch': 0.00026772236824035647, 'time_algorithm_update': 0.005428018569946289, 'temp_loss': -0.0007584909862234781, 'temp': 0.013151627627201378, 'critic_loss': 4.645354692697525, 'actor_loss': -5.025258869409561, 'time_step': 0.00698580527305603, 'rollout_return': 15.443661971830986, 'evaluation': 15.6} step=82000\n",
      "2022-08-07 20:19.34 [info     ] Model parameters are saved to d3rlpy_logs/SAC_online_20220807200406/model_83000.pt\n",
      "2022-08-07 20:19.34 [info     ] SAC_online_20220807200406: epoch=83 step=83000 epoch=83 metrics={'time_inference': 0.0005547084808349609, 'time_environment_step': 0.000629474401473999, 'time_sample_batch': 0.00025904989242553713, 'time_algorithm_update': 0.0052685365676879885, 'temp_loss': -0.00043524494156008586, 'temp': 0.013468885910697281, 'critic_loss': 4.434530256509781, 'actor_loss': -5.002524963617325, 'time_step': 0.00677524185180664, 'rollout_return': 15.795774647887324, 'evaluation': 14.6} step=83000\n",
      "2022-08-07 20:19.41 [info     ] Model parameters are saved to d3rlpy_logs/SAC_online_20220807200406/model_84000.pt\n",
      "2022-08-07 20:19.41 [info     ] SAC_online_20220807200406: epoch=84 step=84000 epoch=84 metrics={'time_inference': 0.0005652835369110107, 'time_environment_step': 0.0006461398601531982, 'time_sample_batch': 0.0002624201774597168, 'time_algorithm_update': 0.005345564126968383, 'temp_loss': -6.652090183342806e-05, 'temp': 0.01372160842642188, 'critic_loss': 4.55370600104332, 'actor_loss': -5.003054088592529, 'time_step': 0.006884521484375, 'rollout_return': 15.838028169014084, 'evaluation': 17.2} step=84000\n",
      "2022-08-07 20:19.49 [info     ] Model parameters are saved to d3rlpy_logs/SAC_online_20220807200406/model_85000.pt\n",
      "2022-08-07 20:19.49 [info     ] SAC_online_20220807200406: epoch=85 step=85000 epoch=85 metrics={'time_inference': 0.0005783905982971191, 'time_environment_step': 0.0006701347827911376, 'time_sample_batch': 0.0002726566791534424, 'time_algorithm_update': 0.005467527627944947, 'temp_loss': 0.0005111461266933475, 'temp': 0.013612571391277015, 'critic_loss': 4.480182218313217, 'actor_loss': -5.00659345293045, 'time_step': 0.007057332277297974, 'rollout_return': 15.859154929577464, 'evaluation': 15.0} step=85000\n",
      "2022-08-07 20:19.55 [info     ] Model parameters are saved to d3rlpy_logs/SAC_online_20220807200406/model_86000.pt\n",
      "2022-08-07 20:19.55 [info     ] SAC_online_20220807200406: epoch=86 step=86000 epoch=86 metrics={'time_inference': 0.0005522668361663818, 'time_environment_step': 0.0006215050220489502, 'time_sample_batch': 0.0002558865547180176, 'time_algorithm_update': 0.005240130662918091, 'temp_loss': 0.0002786484859752818, 'temp': 0.01315409289766103, 'critic_loss': 4.556273362398148, 'actor_loss': -4.994602958917618, 'time_step': 0.006732593774795532, 'rollout_return': 15.619718309859154, 'evaluation': 14.4} step=86000\n",
      "2022-08-07 20:20.03 [info     ] Model parameters are saved to d3rlpy_logs/SAC_online_20220807200406/model_87000.pt\n",
      "2022-08-07 20:20.03 [info     ] SAC_online_20220807200406: epoch=87 step=87000 epoch=87 metrics={'time_inference': 0.0005995707511901856, 'time_environment_step': 0.0006892952919006348, 'time_sample_batch': 0.00028235936164855955, 'time_algorithm_update': 0.005608452558517456, 'temp_loss': 0.0003431989776872797, 'temp': 0.012988517683930695, 'critic_loss': 4.463179917573929, 'actor_loss': -4.972765454530716, 'time_step': 0.007249633073806763, 'rollout_return': 15.654929577464788, 'evaluation': 15.9} step=87000\n",
      "2022-08-07 20:20.10 [info     ] Model parameters are saved to d3rlpy_logs/SAC_online_20220807200406/model_88000.pt\n",
      "2022-08-07 20:20.10 [info     ] SAC_online_20220807200406: epoch=88 step=88000 epoch=88 metrics={'time_inference': 0.0005837762355804443, 'time_environment_step': 0.0006755514144897461, 'time_sample_batch': 0.00027670669555664065, 'time_algorithm_update': 0.00550540041923523, 'temp_loss': 0.0009770824049628573, 'temp': 0.012327977983281016, 'critic_loss': 4.373192341804504, 'actor_loss': -4.927506776571274, 'time_step': 0.007110148668289185, 'rollout_return': 15.17605633802817, 'evaluation': 16.5} step=88000\n",
      "2022-08-07 20:20.17 [info     ] Model parameters are saved to d3rlpy_logs/SAC_online_20220807200406/model_89000.pt\n",
      "2022-08-07 20:20.17 [info     ] SAC_online_20220807200406: epoch=89 step=89000 epoch=89 metrics={'time_inference': 0.0005814888477325439, 'time_environment_step': 0.0006664526462554931, 'time_sample_batch': 0.00027394914627075197, 'time_algorithm_update': 0.005527408361434937, 'temp_loss': 0.0009227487014104554, 'temp': 0.011464063088409603, 'critic_loss': 4.413733360528946, 'actor_loss': -4.882432965993881, 'time_step': 0.007116502046585083, 'rollout_return': 15.049295774647888, 'evaluation': 16.4} step=89000\n",
      "2022-08-07 20:20.24 [info     ] Model parameters are saved to d3rlpy_logs/SAC_online_20220807200406/model_90000.pt\n",
      "2022-08-07 20:20.24 [info     ] SAC_online_20220807200406: epoch=90 step=90000 epoch=90 metrics={'time_inference': 0.0005535953044891358, 'time_environment_step': 0.0006340401172637939, 'time_sample_batch': 0.00026098108291625977, 'time_algorithm_update': 0.005325488328933716, 'temp_loss': 0.0010475407429257756, 'temp': 0.010485249602235854, 'critic_loss': 4.390522813081741, 'actor_loss': -4.8166559016704555, 'time_step': 0.006837916851043701, 'rollout_return': 15.190140845070422, 'evaluation': 14.3} step=90000\n",
      "2022-08-07 20:20.31 [info     ] Model parameters are saved to d3rlpy_logs/SAC_online_20220807200406/model_91000.pt\n",
      "2022-08-07 20:20.31 [info     ] SAC_online_20220807200406: epoch=91 step=91000 epoch=91 metrics={'time_inference': 0.0005464544296264649, 'time_environment_step': 0.0006198248863220215, 'time_sample_batch': 0.00025484418869018555, 'time_algorithm_update': 0.005218732833862305, 'temp_loss': 0.0007743402948835865, 'temp': 0.009695135085843503, 'critic_loss': 4.305696574211121, 'actor_loss': -4.8299654915332795, 'time_step': 0.006702309131622315, 'rollout_return': 15.274647887323944, 'evaluation': 16.4} step=91000\n",
      "2022-08-07 20:20.38 [info     ] Model parameters are saved to d3rlpy_logs/SAC_online_20220807200406/model_92000.pt\n",
      "2022-08-07 20:20.38 [info     ] SAC_online_20220807200406: epoch=92 step=92000 epoch=92 metrics={'time_inference': 0.000559190034866333, 'time_environment_step': 0.0006355228424072266, 'time_sample_batch': 0.0002604861259460449, 'time_algorithm_update': 0.005317520380020141, 'temp_loss': 0.0005290853074911866, 'temp': 0.009135107658803463, 'critic_loss': 4.393309580087662, 'actor_loss': -4.789823702096939, 'time_step': 0.006836925029754639, 'rollout_return': 15.528169014084508, 'evaluation': 16.7} step=92000\n",
      "2022-08-07 20:20.45 [info     ] Model parameters are saved to d3rlpy_logs/SAC_online_20220807200406/model_93000.pt\n",
      "2022-08-07 20:20.45 [info     ] SAC_online_20220807200406: epoch=93 step=93000 epoch=93 metrics={'time_inference': 0.0005597739219665528, 'time_environment_step': 0.0006419997215270997, 'time_sample_batch': 0.00026250672340393064, 'time_algorithm_update': 0.005334425449371338, 'temp_loss': 0.00021302074592676945, 'temp': 0.008810325792990625, 'critic_loss': 4.229877318501472, 'actor_loss': -4.804704271316528, 'time_step': 0.006863456010818481, 'rollout_return': 15.845070422535212, 'evaluation': 15.0} step=93000\n",
      "2022-08-07 20:20.53 [info     ] Model parameters are saved to d3rlpy_logs/SAC_online_20220807200406/model_94000.pt\n",
      "2022-08-07 20:20.53 [info     ] SAC_online_20220807200406: epoch=94 step=94000 epoch=94 metrics={'time_inference': 0.0005906734466552734, 'time_environment_step': 0.0006830050945281983, 'time_sample_batch': 0.0002795562744140625, 'time_algorithm_update': 0.005565315246582031, 'temp_loss': -0.00018434173845889744, 'temp': 0.008810814198106528, 'critic_loss': 4.2631351194381715, 'actor_loss': -4.789377562046051, 'time_step': 0.007188437938690185, 'rollout_return': 15.725352112676056, 'evaluation': 14.7} step=94000\n",
      "2022-08-07 20:21.00 [info     ] Model parameters are saved to d3rlpy_logs/SAC_online_20220807200406/model_95000.pt\n",
      "2022-08-07 20:21.00 [info     ] SAC_online_20220807200406: epoch=95 step=95000 epoch=95 metrics={'time_inference': 0.0005998702049255371, 'time_environment_step': 0.0006865012645721436, 'time_sample_batch': 0.0002828090190887451, 'time_algorithm_update': 0.005665835857391358, 'temp_loss': -0.000341806538097444, 'temp': 0.009077913338318467, 'critic_loss': 4.250896488428116, 'actor_loss': -4.818031100273132, 'time_step': 0.007305082082748413, 'rollout_return': 15.711267605633802, 'evaluation': 16.6} step=95000\n",
      "2022-08-07 20:21.07 [info     ] Model parameters are saved to d3rlpy_logs/SAC_online_20220807200406/model_96000.pt\n",
      "2022-08-07 20:21.07 [info     ] SAC_online_20220807200406: epoch=96 step=96000 epoch=96 metrics={'time_inference': 0.0005468077659606934, 'time_environment_step': 0.000619107723236084, 'time_sample_batch': 0.00025534677505493163, 'time_algorithm_update': 0.005210216760635376, 'temp_loss': -0.0002612398802411917, 'temp': 0.009247485980391502, 'critic_loss': 4.340195729732513, 'actor_loss': -4.8056191537380215, 'time_step': 0.006693913698196411, 'rollout_return': 16.070422535211268, 'evaluation': 14.2} step=96000\n",
      "2022-08-07 20:21.14 [info     ] Model parameters are saved to d3rlpy_logs/SAC_online_20220807200406/model_97000.pt\n",
      "2022-08-07 20:21.14 [info     ] SAC_online_20220807200406: epoch=97 step=97000 epoch=97 metrics={'time_inference': 0.0005695114135742188, 'time_environment_step': 0.0006484692096710205, 'time_sample_batch': 0.0002655794620513916, 'time_algorithm_update': 0.005397934675216675, 'temp_loss': -0.00037745316022483165, 'temp': 0.00960895170737058, 'critic_loss': 4.162401435136795, 'actor_loss': -4.8522168946266175, 'time_step': 0.006946975708007812, 'rollout_return': 15.246478873239436, 'evaluation': 15.0} step=97000\n",
      "2022-08-07 20:21.22 [info     ] Model parameters are saved to d3rlpy_logs/SAC_online_20220807200406/model_98000.pt\n",
      "2022-08-07 20:21.22 [info     ] SAC_online_20220807200406: epoch=98 step=98000 epoch=98 metrics={'time_inference': 0.0006269123554229736, 'time_environment_step': 0.0007237710952758789, 'time_sample_batch': 0.00029332637786865233, 'time_algorithm_update': 0.005871204853057861, 'temp_loss': -0.0008340367858836544, 'temp': 0.01011134609207511, 'critic_loss': 4.363098144054413, 'actor_loss': -4.853986102342605, 'time_step': 0.007589184999465942, 'rollout_return': 16.330985915492956, 'evaluation': 15.1} step=98000\n",
      "2022-08-07 20:21.29 [info     ] Model parameters are saved to d3rlpy_logs/SAC_online_20220807200406/model_99000.pt\n",
      "2022-08-07 20:21.29 [info     ] SAC_online_20220807200406: epoch=99 step=99000 epoch=99 metrics={'time_inference': 0.0005973751544952392, 'time_environment_step': 0.0006898398399353028, 'time_sample_batch': 0.0002813460826873779, 'time_algorithm_update': 0.005598064184188843, 'temp_loss': -0.000716194888263999, 'temp': 0.010869670906104148, 'critic_loss': 4.3564870140552525, 'actor_loss': -4.920859607696533, 'time_step': 0.007236810684204101, 'rollout_return': 15.56338028169014, 'evaluation': 14.0} step=99000\n",
      "2022-08-07 20:21.36 [info     ] Model parameters are saved to d3rlpy_logs/SAC_online_20220807200406/model_100000.pt\n",
      "2022-08-07 20:21.36 [info     ] SAC_online_20220807200406: epoch=100 step=100000 epoch=100 metrics={'time_inference': 0.0005972368717193603, 'time_environment_step': 0.0006876413822174073, 'time_sample_batch': 0.00028142023086547853, 'time_algorithm_update': 0.005643847942352295, 'temp_loss': -0.0010044514850233099, 'temp': 0.01181069231312722, 'critic_loss': 4.353738860845565, 'actor_loss': -4.991075081586838, 'time_step': 0.00727952766418457, 'rollout_return': 15.71830985915493, 'evaluation': 15.7} step=100000\n"
     ]
    }
   ],
   "source": [
    "# start training\n",
    "# skip if there is a pre-trained model\n",
    "sac.fit_online(\n",
    "    env,\n",
    "    buffer,\n",
    "    eval_env=env,\n",
    "    n_steps=100000,\n",
    "    n_steps_per_epoch=1000,\n",
    "    update_start_step=1000,\n",
    ")"
   ]
  },
  {
   "cell_type": "code",
   "execution_count": 17,
   "metadata": {},
   "outputs": [],
   "source": [
    "# save model\n",
    "sac.save_model(\"d3rlpy_logs/sac.pt\")"
   ]
  },
  {
   "cell_type": "code",
   "execution_count": 18,
   "metadata": {},
   "outputs": [
    {
     "name": "stdout",
     "output_type": "stream",
     "text": [
      "2022-08-07 20:21.37 [warning  ] Parameters will be reinitialized.\n"
     ]
    }
   ],
   "source": [
    "# reload model\n",
    "sac.build_with_env(env)\n",
    "sac.load_model(\"d3rlpy_logs/sac.pt\")"
   ]
  },
  {
   "cell_type": "code",
   "execution_count": 19,
   "metadata": {},
   "outputs": [
    {
     "data": {
      "text/plain": [
       "Text(0, 0.5, 'episode reward')"
      ]
     },
     "execution_count": 19,
     "metadata": {},
     "output_type": "execute_result"
    },
    {
     "data": {
      "image/png": "[encoded data removed]",
      "text/plain": [
       "<Figure size 432x288 with 1 Axes>"
      ]
     },
     "metadata": {
      "needs_background": "light"
     },
     "output_type": "display_data"
    }
   ],
   "source": [
    "# may need more interactions to converge\n",
    "log_path = sorted(glob(\"d3rlpy_logs/SAC_online_*/evaluation.csv\"))[-1]\n",
    "df = pd.read_csv(\n",
    "    log_path, \n",
    "    usecols=[1,2],\n",
    "    names=[\"train_episode\", \"episodic_rewards\"]\n",
    ")\n",
    "plt.plot(df[\"train_episode\"], df[\"episodic_rewards\"])\n",
    "plt.title(\"Learning curve of SAC\")\n",
    "plt.xlabel(\"episode\")\n",
    "plt.ylabel(\"episode reward\")"
   ]
  },
  {
   "cell_type": "code",
   "execution_count": 20,
   "metadata": {},
   "outputs": [],
   "source": [
    "random = ContinuousRandomPolicy(\n",
    "    action_scaler=MinMaxActionScaler(\n",
    "        minimum=env.action_space.low,  # minimum value that policy can take\n",
    "        maximum=env.action_space.high,  # maximum value that policy can take\n",
    "    )\n",
    ")"
   ]
  },
  {
   "cell_type": "code",
   "execution_count": 21,
   "metadata": {},
   "outputs": [
    {
     "data": {
      "application/vnd.jupyter.widget-view+json": {
       "model_id": "6cb34984db3e49c48025c798fc899454",
       "version_major": 2,
       "version_minor": 0
      },
      "text/plain": [
       "[calculate on-policy policy value]:   0%|          | 0/100 [00:00<?, ?it/s]"
      ]
     },
     "metadata": {},
     "output_type": "display_data"
    },
    {
     "data": {
      "application/vnd.jupyter.widget-view+json": {
       "model_id": "9b4f1b78d2b2472a8694e2be79e44155",
       "version_major": 2,
       "version_minor": 0
      },
      "text/plain": [
       "[calculate on-policy policy value]:   0%|          | 0/100 [00:00<?, ?it/s]"
      ]
     },
     "metadata": {},
     "output_type": "display_data"
    },
    {
     "data": {
      "image/png": "[encoded data removed]",
      "text/plain": [
       "<Figure size 288x288 with 1 Axes>"
      ]
     },
     "metadata": {},
     "output_type": "display_data"
    }
   ],
   "source": [
    "# compare the performance online\n",
    "visualize_on_policy_policy_value(\n",
    "    env=env,\n",
    "    policies=[sac, random],\n",
    "    policy_names=[\"sac\", \"random\"],\n",
    "    n_episodes=100,\n",
    "    random_state=random_state,\n",
    ")"
   ]
  },
  {
   "cell_type": "code",
   "execution_count": 22,
   "metadata": {},
   "outputs": [
    {
     "data": {
      "application/vnd.jupyter.widget-view+json": {
       "model_id": "ff9c88d61708402ca5a83034ab0a8ae6",
       "version_major": 2,
       "version_minor": 0
      },
      "text/plain": [
       "[calculate on-policy policy value]:   0%|          | 0/100 [00:00<?, ?it/s]"
      ]
     },
     "metadata": {},
     "output_type": "display_data"
    },
    {
     "data": {
      "application/vnd.jupyter.widget-view+json": {
       "model_id": "ee79970144e2438b87bce199fbfae1e9",
       "version_major": 2,
       "version_minor": 0
      },
      "text/plain": [
       "[calculate on-policy policy value]:   0%|          | 0/100 [00:00<?, ?it/s]"
      ]
     },
     "metadata": {},
     "output_type": "display_data"
    },
    {
     "name": "stdout",
     "output_type": "stream",
     "text": [
      "relative improvement: 0.07515657620041755\n"
     ]
    }
   ],
   "source": [
    "# on-policy policy value of the sac policy\n",
    "# slightly improves that of the random policy\n",
    "sac_performance = calc_on_policy_policy_value(env, sac, n_episodes=100, random_state=random_state)\n",
    "random_performance = calc_on_policy_policy_value(env, random, n_episodes=100, random_state=random_state)\n",
    "print(\"relative improvement:\", (sac_performance - random_performance) / random_performance)"
   ]
  },
  {
   "cell_type": "markdown",
   "metadata": {},
   "source": [
    "Note that, we provide the following functions for online evaluation of the policy performance under `ofrl.ope.online`.\n",
    "\n",
    "(Statistics)\n",
    "\n",
    "* `calc_on_policy_policy_value`\n",
    "* `calc_on_policy_policy_value_interval`\n",
    "* `calc_on_policy_variance`\n",
    "* `calc_on_policy_conditional_value_at_risk`\n",
    "* `calc_on_policy_policy_interquartile_range`\n",
    "* `calc_on_policy_cumulative_distribution_function`\n",
    "\n",
    "(Visualization)\n",
    "* `visualize_on_policy_policy_value`\n",
    "* `visualize_on_policy_policy_value_with_variance`\n",
    "* `visualize_on_policy_cumulative_distribution_function`\n",
    "* `visualize_on_policy_conditional_value_at_risk`\n",
    "* `visualize_on_policy_interquartile_range`"
   ]
  },
  {
   "cell_type": "markdown",
   "metadata": {},
   "source": [
    "## 1. Synthetic Dataset Generation\n",
    "In the previous section, we saw how we can interact with the environment *online* using a synthetic simulator.  \n",
    "Though simulation is a good starting point for training an agent, eventually we want to deploy our agent (or policy) in the real world environment.  \n",
    "However, online interaction may have potential risk of failure in real-world implementation.  \n",
    "Therefore, we introduce alternative learning protocol, Offline RL, which aims at training a new policy using only offline logged data.\n",
    "\n",
    "We prepare an easy-to-use synthetic dataset generator: `SyntheticDataset` class in the dataset module.  \n",
    "By regarding simulation environment as a hypothetical real-environment, we show how to conduct Offline RL leveraging logged data.  \n",
    "For detailed description of how to use real-world dataset, please see #TODO (will be implemented).\n",
    "\n",
    "the `SyntheticDataset` class has the following arguments:\n",
    "- `env`: RTB environment for RL defined in the previous section.\n",
    "- `behavior_policy`: RL agent (or algorithm) used for the data collection.\n",
    "- `n_samples_pretrain_reward_predictor`: Numbers of samples used to pretrain a reward predictor."
   ]
  },
  {
   "cell_type": "code",
   "execution_count": 23,
   "metadata": {},
   "outputs": [],
   "source": [
    "behavior_policy = ContinuousTruncatedGaussianHead(\n",
    "    sac, \n",
    "    minimum=env.action_space.low,\n",
    "    maximum=env.action_space.high,\n",
    "    sigma=np.array([1.0]),\n",
    "    name=\"sac_sigma_1.0\",\n",
    "    random_state=random_state,\n",
    ")"
   ]
  },
  {
   "cell_type": "code",
   "execution_count": 24,
   "metadata": {},
   "outputs": [],
   "source": [
    "# initialize dataset class\n",
    "dataset = SyntheticDataset(\n",
    "    env=env,\n",
    "    behavior_policy=behavior_policy,\n",
    "    is_rtb_env=True,\n",
    "    random_state=random_state,\n",
    ")"
   ]
  },
  {
   "cell_type": "code",
   "execution_count": 25,
   "metadata": {},
   "outputs": [
    {
     "data": {
      "application/vnd.jupyter.widget-view+json": {
       "model_id": "4a9e25233ab84deeba61ea6e4ee614f5",
       "version_major": 2,
       "version_minor": 0
      },
      "text/plain": [
       "[obtain_trajectories]:   0%|          | 0/10000 [00:00<?, ?it/s]"
      ]
     },
     "metadata": {},
     "output_type": "display_data"
    }
   ],
   "source": [
    "# collect logged data by the behavior policy\n",
    "# skip if there is a preserved logged dataset\n",
    "logged_dataset = dataset.obtain_trajectories(n_episodes=10000, obtain_info=True)"
   ]
  },
  {
   "cell_type": "code",
   "execution_count": 26,
   "metadata": {},
   "outputs": [
    {
     "data": {
      "text/plain": [
       "{'size': 70000,\n",
       " 'n_episodes': 10000,\n",
       " 'step_per_episode': 7,\n",
       " 'action_type': 'continuous',\n",
       " 'n_actions': None,\n",
       " 'action_dim': 1,\n",
       " 'action_meaning': None,\n",
       " 'state_dim': 7,\n",
       " 'state_keys': ['timestep',\n",
       "  'remaining_budget',\n",
       "  'budget_consumption_rate',\n",
       "  'cost_per_mille_of_impression',\n",
       "  'winning_rate',\n",
       "  'reward',\n",
       "  'adjust_rate'],\n",
       " 'state': array([[0.00000000e+00, 3.00000000e+03, 9.29616093e-01, ...,\n",
       "         1.83918812e-01, 2.00000000e+00, 9.39641133e-01],\n",
       "        [1.00000000e+00, 1.91000000e+03, 3.63333333e-01, ...,\n",
       "         1.00000000e+00, 6.00000000e+00, 9.73637004e+00],\n",
       "        [2.00000000e+00, 1.50400000e+03, 2.12565445e-01, ...,\n",
       "         6.14634146e-01, 1.00000000e+00, 1.11269493e+00],\n",
       "        ...,\n",
       "        [4.00000000e+00, 6.00000000e+01, 8.87005650e-01, ...,\n",
       "         5.89371981e-01, 2.00000000e+00, 1.82808753e+00],\n",
       "        [5.00000000e+00, 3.80000000e+01, 3.66666667e-01, ...,\n",
       "         2.46305419e-02, 1.00000000e+00, 5.20180286e-01],\n",
       "        [6.00000000e+00, 3.80000000e+01, 0.00000000e+00, ...,\n",
       "         0.00000000e+00, 0.00000000e+00, 4.03242607e-01]]),\n",
       " 'action': array([[9.73637004],\n",
       "        [1.11269493],\n",
       "        [1.28142591],\n",
       "        ...,\n",
       "        [0.52018029],\n",
       "        [0.40324261],\n",
       "        [6.82946804]]),\n",
       " 'reward': array([6., 1., 1., ..., 1., 0., 0.]),\n",
       " 'done': array([0., 0., 0., ..., 0., 0., 1.]),\n",
       " 'terminal': array([0., 0., 0., ..., 0., 0., 1.]),\n",
       " 'info': {'search_volume': array([201., 205., 217., ..., 203., 257., 179.]),\n",
       "  'impression': array([201., 126., 182., ...,   5.,   0.,   8.]),\n",
       "  'click': array([21., 10., 19., ...,  1.,  0.,  1.]),\n",
       "  'conversion': array([6., 1., 1., ..., 1., 0., 0.]),\n",
       "  'average_bid_price': array([530.18905473,  57.74634146,  66.57603687, ...,  24.73891626,\n",
       "          18.57587549, 316.0726257 ])},\n",
       " 'pscore': array([[0.5793982 ],\n",
       "        [0.50039489],\n",
       "        [0.42226509],\n",
       "        ...,\n",
       "        [0.58237445],\n",
       "        [0.58883509],\n",
       "        [0.13227685]])}"
      ]
     },
     "execution_count": 26,
     "metadata": {},
     "output_type": "execute_result"
    }
   ],
   "source": [
    "logged_dataset"
   ]
  },
  {
   "cell_type": "code",
   "execution_count": 27,
   "metadata": {},
   "outputs": [],
   "source": [
    "with open(\"logs/dataset_continuous.pkl\", \"wb\") as f:\n",
    "    pickle.dump(logged_dataset, f)"
   ]
  },
  {
   "cell_type": "code",
   "execution_count": 28,
   "metadata": {},
   "outputs": [],
   "source": [
    "with open(\"logs/dataset_continuous.pkl\", \"rb\") as f:\n",
    "    logged_dataset = pickle.load(f)"
   ]
  },
  {
   "cell_type": "code",
   "execution_count": 29,
   "metadata": {},
   "outputs": [
    {
     "data": {
      "application/vnd.jupyter.widget-view+json": {
       "model_id": "6eb4a83d7369477cbb41964d763164d9",
       "version_major": 2,
       "version_minor": 0
      },
      "text/plain": [
       "[calculate on-policy policy value]:   0%|          | 0/100 [00:00<?, ?it/s]"
      ]
     },
     "metadata": {},
     "output_type": "display_data"
    },
    {
     "data": {
      "application/vnd.jupyter.widget-view+json": {
       "model_id": "b16b4bb0c4094edd9c323e0d402f7353",
       "version_major": 2,
       "version_minor": 0
      },
      "text/plain": [
       "[calculate on-policy policy value]:   0%|          | 0/100 [00:00<?, ?it/s]"
      ]
     },
     "metadata": {},
     "output_type": "display_data"
    },
    {
     "data": {
      "application/vnd.jupyter.widget-view+json": {
       "model_id": "8be82315b23441e78d9dfbe359333a6a",
       "version_major": 2,
       "version_minor": 0
      },
      "text/plain": [
       "[calculate on-policy policy value]:   0%|          | 0/100 [00:00<?, ?it/s]"
      ]
     },
     "metadata": {},
     "output_type": "display_data"
    },
    {
     "data": {
      "image/png": "[encoded data removed]",
      "text/plain": [
       "<Figure size 432x288 with 1 Axes>"
      ]
     },
     "metadata": {},
     "output_type": "display_data"
    }
   ],
   "source": [
    "# compare the policy performance online\n",
    "visualize_on_policy_policy_value(\n",
    "    env=env,\n",
    "    policies=[sac, behavior_policy, random],\n",
    "    policy_names=[\"sac\", \"sac (sigma=1.0)\", \"random\"],\n",
    "    n_episodes=100,\n",
    "    random_state=random_state,\n",
    ")"
   ]
  },
  {
   "cell_type": "code",
   "execution_count": 30,
   "metadata": {},
   "outputs": [
    {
     "data": {
      "text/html": [
       "<div>\n",
       "<style scoped>\n",
       "    .dataframe tbody tr th:only-of-type {\n",
       "        vertical-align: middle;\n",
       "    }\n",
       "\n",
       "    .dataframe tbody tr th {\n",
       "        vertical-align: top;\n",
       "    }\n",
       "\n",
       "    .dataframe thead th {\n",
       "        text-align: right;\n",
       "    }\n",
       "</style>\n",
       "<table border=\"1\" class=\"dataframe\">\n",
       "  <thead>\n",
       "    <tr style=\"text-align: right;\">\n",
       "      <th></th>\n",
       "      <th>adjust rate</th>\n",
       "      <th>average bid price</th>\n",
       "      <th>impression</th>\n",
       "      <th>click</th>\n",
       "      <th>conversion</th>\n",
       "      <th>winning rate</th>\n",
       "      <th>click / impression</th>\n",
       "      <th>conversion / click</th>\n",
       "    </tr>\n",
       "  </thead>\n",
       "  <tbody>\n",
       "    <tr>\n",
       "      <th>count</th>\n",
       "      <td>70000.000000</td>\n",
       "      <td>70000.000000</td>\n",
       "      <td>70000.000000</td>\n",
       "      <td>70000.000000</td>\n",
       "      <td>70000.000000</td>\n",
       "      <td>70000.000000</td>\n",
       "      <td>70000.000000</td>\n",
       "      <td>70000.000000</td>\n",
       "    </tr>\n",
       "    <tr>\n",
       "      <th>mean</th>\n",
       "      <td>3.240452</td>\n",
       "      <td>182.696944</td>\n",
       "      <td>88.917300</td>\n",
       "      <td>8.908543</td>\n",
       "      <td>2.232086</td>\n",
       "      <td>0.504086</td>\n",
       "      <td>0.074162</td>\n",
       "      <td>0.151683</td>\n",
       "    </tr>\n",
       "    <tr>\n",
       "      <th>std</th>\n",
       "      <td>3.601971</td>\n",
       "      <td>188.062732</td>\n",
       "      <td>84.784036</td>\n",
       "      <td>9.138825</td>\n",
       "      <td>3.048491</td>\n",
       "      <td>0.405912</td>\n",
       "      <td>0.079047</td>\n",
       "      <td>0.190577</td>\n",
       "    </tr>\n",
       "    <tr>\n",
       "      <th>min</th>\n",
       "      <td>0.000021</td>\n",
       "      <td>4.154589</td>\n",
       "      <td>0.000000</td>\n",
       "      <td>0.000000</td>\n",
       "      <td>0.000000</td>\n",
       "      <td>0.000000</td>\n",
       "      <td>0.000000</td>\n",
       "      <td>0.000000</td>\n",
       "    </tr>\n",
       "    <tr>\n",
       "      <th>25%</th>\n",
       "      <td>0.609132</td>\n",
       "      <td>35.279209</td>\n",
       "      <td>5.000000</td>\n",
       "      <td>0.000000</td>\n",
       "      <td>0.000000</td>\n",
       "      <td>0.058824</td>\n",
       "      <td>0.000000</td>\n",
       "      <td>0.000000</td>\n",
       "    </tr>\n",
       "    <tr>\n",
       "      <th>50%</th>\n",
       "      <td>1.298055</td>\n",
       "      <td>74.685464</td>\n",
       "      <td>60.000000</td>\n",
       "      <td>6.000000</td>\n",
       "      <td>1.000000</td>\n",
       "      <td>0.490091</td>\n",
       "      <td>0.082418</td>\n",
       "      <td>0.086956</td>\n",
       "    </tr>\n",
       "    <tr>\n",
       "      <th>75%</th>\n",
       "      <td>7.782938</td>\n",
       "      <td>407.839574</td>\n",
       "      <td>180.000000</td>\n",
       "      <td>17.000000</td>\n",
       "      <td>4.000000</td>\n",
       "      <td>0.991379</td>\n",
       "      <td>0.111111</td>\n",
       "      <td>0.260869</td>\n",
       "    </tr>\n",
       "    <tr>\n",
       "      <th>max</th>\n",
       "      <td>9.999965</td>\n",
       "      <td>550.885167</td>\n",
       "      <td>290.000000</td>\n",
       "      <td>41.000000</td>\n",
       "      <td>20.000000</td>\n",
       "      <td>1.000000</td>\n",
       "      <td>0.999995</td>\n",
       "      <td>0.999998</td>\n",
       "    </tr>\n",
       "  </tbody>\n",
       "</table>\n",
       "</div>"
      ],
      "text/plain": [
       "        adjust rate  average bid price    impression         click  \\\n",
       "count  70000.000000       70000.000000  70000.000000  70000.000000   \n",
       "mean       3.240452         182.696944     88.917300      8.908543   \n",
       "std        3.601971         188.062732     84.784036      9.138825   \n",
       "min        0.000021           4.154589      0.000000      0.000000   \n",
       "25%        0.609132          35.279209      5.000000      0.000000   \n",
       "50%        1.298055          74.685464     60.000000      6.000000   \n",
       "75%        7.782938         407.839574    180.000000     17.000000   \n",
       "max        9.999965         550.885167    290.000000     41.000000   \n",
       "\n",
       "         conversion  winning rate  click / impression  conversion / click  \n",
       "count  70000.000000  70000.000000        70000.000000        70000.000000  \n",
       "mean       2.232086      0.504086            0.074162            0.151683  \n",
       "std        3.048491      0.405912            0.079047            0.190577  \n",
       "min        0.000000      0.000000            0.000000            0.000000  \n",
       "25%        0.000000      0.058824            0.000000            0.000000  \n",
       "50%        1.000000      0.490091            0.082418            0.086956  \n",
       "75%        4.000000      0.991379            0.111111            0.260869  \n",
       "max       20.000000      1.000000            0.999995            0.999998  "
      ]
     },
     "execution_count": 30,
     "metadata": {},
     "output_type": "execute_result"
    }
   ],
   "source": [
    "# let's see some statistics of the logged dataset\n",
    "df = pd.DataFrame()\n",
    "df['adjust rate'] = logged_dataset['state'][:, 6]\n",
    "df['average bid price'] = logged_dataset['info']['average_bid_price']\n",
    "df['impression'] = logged_dataset['info']['impression']\n",
    "df['click'] = logged_dataset['info']['click']\n",
    "df['conversion'] = logged_dataset['info']['conversion']\n",
    "df['winning rate'] = logged_dataset['state'][:, 4]\n",
    "df['click / impression'] = df['click'] / (df['impression'] + 1e-5)\n",
    "df['conversion / click'] = df['conversion'] / (df['click'] + 1e-5)\n",
    "df.describe()"
   ]
  },
  {
   "cell_type": "markdown",
   "metadata": {},
   "source": [
    "For more about the data collection and visualization, please refer to [examples/quickstart/rtb_synthetic_data_collection.ipynb](https://github.com/negocia-inc/rtb_reinforcement_learing/blob/ope/examples/quickstart/rtb_synthetic_data_collection.ipynb)."
   ]
  },
  {
   "cell_type": "markdown",
   "metadata": {},
   "source": [
    "## 2. Offline Reinforcement Learning\n",
    "In this section, we learn a new policy in an offline manner, without interacting with the environment.\n",
    "We use [d3rlpy](https://github.com/takuseno/d3rlpy)'s implementation of offline RL algorithms."
   ]
  },
  {
   "cell_type": "code",
   "execution_count": 31,
   "metadata": {},
   "outputs": [],
   "source": [
    "# import modules from d3rlpy\n",
    "from d3rlpy.dataset import MDPDataset\n",
    "from d3rlpy.algos import CQL as ContinuousCQL\n",
    "from d3rlpy.ope import FQE as ContinuousFQE\n",
    "from d3rlpy.metrics.scorer import evaluate_on_environment"
   ]
  },
  {
   "cell_type": "code",
   "execution_count": 32,
   "metadata": {},
   "outputs": [],
   "source": [
    "offlinerl_dataset = MDPDataset(\n",
    "    observations=logged_dataset[\"state\"],\n",
    "    actions=logged_dataset[\"action\"],\n",
    "    rewards=logged_dataset[\"reward\"],\n",
    "    terminals=logged_dataset[\"done\"],\n",
    "    episode_terminals=logged_dataset[\"done\"],\n",
    "    discrete_action=False,\n",
    ")\n",
    "train_episodes, test_episodes = train_test_split(offlinerl_dataset, test_size=0.2, random_state=random_state)"
   ]
  },
  {
   "cell_type": "code",
   "execution_count": 33,
   "metadata": {},
   "outputs": [],
   "source": [
    "# Use Conservative Q-Learning policy\n",
    "cql = ContinuousCQL(\n",
    "    actor_encoder_factory=VectorEncoderFactory(hidden_units=[30, 30]),\n",
    "    critic_encoder_factory=VectorEncoderFactory(hidden_units=[30, 30]),\n",
    "    q_func_factory=MeanQFunctionFactory(),\n",
    "    use_gpu=torch.cuda.is_available(),\n",
    "    action_scaler=MinMaxActionScaler(\n",
    "        minimum=env.action_space.low,  # minimum value that policy can take\n",
    "        maximum=env.action_space.high,  # maximum value that policy can take\n",
    "    )\n",
    ")"
   ]
  },
  {
   "cell_type": "code",
   "execution_count": 34,
   "metadata": {},
   "outputs": [
    {
     "name": "stdout",
     "output_type": "stream",
     "text": [
      "2022-08-07 20:28.55 [debug    ] RandomIterator is selected.\n",
      "2022-08-07 20:28.55 [info     ] Directory is created at d3rlpy_logs/CQL_20220807202855\n",
      "2022-08-07 20:28.55 [debug    ] Fitting action scaler...       action_scaler=min_max\n",
      "2022-08-07 20:28.55 [debug    ] Building models...\n",
      "2022-08-07 20:28.55 [debug    ] Models have been built.\n",
      "2022-08-07 20:28.55 [info     ] Parameters are saved to d3rlpy_logs/CQL_20220807202855/params.json params={'action_scaler': {'type': 'min_max', 'params': {'minimum': array([0.1]), 'maximum': array([10.])}}, 'actor_encoder_factory': {'type': 'vector', 'params': {'hidden_units': [30, 30], 'activation': 'relu', 'use_batch_norm': False, 'dropout_rate': None, 'use_dense': False}}, 'actor_learning_rate': 0.0001, 'actor_optim_factory': {'optim_cls': 'Adam', 'betas': (0.9, 0.999), 'eps': 1e-08, 'weight_decay': 0, 'amsgrad': False}, 'alpha_learning_rate': 0.0001, 'alpha_optim_factory': {'optim_cls': 'Adam', 'betas': (0.9, 0.999), 'eps': 1e-08, 'weight_decay': 0, 'amsgrad': False}, 'alpha_threshold': 10.0, 'batch_size': 256, 'conservative_weight': 5.0, 'critic_encoder_factory': {'type': 'vector', 'params': {'hidden_units': [30, 30], 'activation': 'relu', 'use_batch_norm': False, 'dropout_rate': None, 'use_dense': False}}, 'critic_learning_rate': 0.0003, 'critic_optim_factory': {'optim_cls': 'Adam', 'betas': (0.9, 0.999), 'eps': 1e-08, 'weight_decay': 0, 'amsgrad': False}, 'gamma': 0.99, 'generated_maxlen': 100000, 'initial_alpha': 1.0, 'initial_temperature': 1.0, 'n_action_samples': 10, 'n_critics': 2, 'n_frames': 1, 'n_steps': 1, 'q_func_factory': {'type': 'mean', 'params': {'share_encoder': False}}, 'real_ratio': 1.0, 'reward_scaler': None, 'scaler': None, 'soft_q_backup': False, 'tau': 0.005, 'temp_learning_rate': 0.0001, 'temp_optim_factory': {'optim_cls': 'Adam', 'betas': (0.9, 0.999), 'eps': 1e-08, 'weight_decay': 0, 'amsgrad': False}, 'use_gpu': None, 'algorithm': 'CQL', 'observation_shape': (7,), 'action_size': 1}\n"
     ]
    },
    {
     "data": {
      "application/vnd.jupyter.widget-view+json": {
       "model_id": "c0062fb43a8946f7b9b63f19db71efab",
       "version_major": 2,
       "version_minor": 0
      },
      "text/plain": [
       "Epoch 1/1:   0%|          | 0/10000 [00:00<?, ?it/s]"
      ]
     },
     "metadata": {},
     "output_type": "display_data"
    },
    {
     "name": "stdout",
     "output_type": "stream",
     "text": [
      "2022-08-07 20:32.05 [info     ] CQL_20220807202855: epoch=1 step=10000 epoch=1 metrics={'time_sample_batch': 0.0008492306470870972, 'time_algorithm_update': 0.01739008150100708, 'temp_loss': -0.9228596374791116, 'temp': 0.9499754681766033, 'alpha_loss': -12.656518353128433, 'alpha': 1.7648432995200156, 'critic_loss': 50.735307508564, 'actor_loss': -0.8868541959092021, 'time_step': 0.01888938989639282, 'environment': 14.0} step=10000\n",
      "2022-08-07 20:32.05 [info     ] Model parameters are saved to d3rlpy_logs/CQL_20220807202855/model_10000.pt\n"
     ]
    },
    {
     "data": {
      "text/plain": [
       "[(1,\n",
       "  {'time_sample_batch': 0.0008492306470870972,\n",
       "   'time_algorithm_update': 0.01739008150100708,\n",
       "   'temp_loss': -0.9228596374791116,\n",
       "   'temp': 0.9499754681766033,\n",
       "   'alpha_loss': -12.656518353128433,\n",
       "   'alpha': 1.7648432995200156,\n",
       "   'critic_loss': 50.735307508564,\n",
       "   'actor_loss': -0.8868541959092021,\n",
       "   'time_step': 0.01888938989639282,\n",
       "   'environment': 14.0})]"
      ]
     },
     "execution_count": 34,
     "metadata": {},
     "output_type": "execute_result"
    }
   ],
   "source": [
    "cql.fit(\n",
    "    train_episodes,\n",
    "    eval_episodes=test_episodes,\n",
    "    n_steps=10000,\n",
    "    scorers={\n",
    "        'environment': evaluate_on_environment(env),\n",
    "        # to record training process w/ ground truth policy value, which is unseen to the agent\n",
    "    },\n",
    ")"
   ]
  },
  {
   "cell_type": "code",
   "execution_count": 35,
   "metadata": {},
   "outputs": [],
   "source": [
    "# save model\n",
    "cql.save_model(\"d3rlpy_logs/cql_continuous.pt\")"
   ]
  },
  {
   "cell_type": "code",
   "execution_count": 36,
   "metadata": {},
   "outputs": [
    {
     "name": "stdout",
     "output_type": "stream",
     "text": [
      "2022-08-07 20:32.05 [warning  ] Parameters will be reinitialized.\n"
     ]
    }
   ],
   "source": [
    "# reload model\n",
    "cql.build_with_env(env)\n",
    "cql.load_model(\"d3rlpy_logs/cql_continuous.pt\")"
   ]
  },
  {
   "cell_type": "code",
   "execution_count": 37,
   "metadata": {},
   "outputs": [
    {
     "data": {
      "application/vnd.jupyter.widget-view+json": {
       "model_id": "0acbf5d0c22b4142a63e74be594eeb41",
       "version_major": 2,
       "version_minor": 0
      },
      "text/plain": [
       "[calculate on-policy policy value]:   0%|          | 0/100 [00:00<?, ?it/s]"
      ]
     },
     "metadata": {},
     "output_type": "display_data"
    },
    {
     "data": {
      "application/vnd.jupyter.widget-view+json": {
       "model_id": "7ee054299ec2406ea76f349d3513f140",
       "version_major": 2,
       "version_minor": 0
      },
      "text/plain": [
       "[calculate on-policy policy value]:   0%|          | 0/100 [00:00<?, ?it/s]"
      ]
     },
     "metadata": {},
     "output_type": "display_data"
    },
    {
     "data": {
      "application/vnd.jupyter.widget-view+json": {
       "model_id": "ae9f5b51eafd453ab41b3334c25ea476",
       "version_major": 2,
       "version_minor": 0
      },
      "text/plain": [
       "[calculate on-policy policy value]:   0%|          | 0/100 [00:00<?, ?it/s]"
      ]
     },
     "metadata": {},
     "output_type": "display_data"
    },
    {
     "data": {
      "application/vnd.jupyter.widget-view+json": {
       "model_id": "6df3daf3094f49febf4a906161ba4ce2",
       "version_major": 2,
       "version_minor": 0
      },
      "text/plain": [
       "[calculate on-policy policy value]:   0%|          | 0/100 [00:00<?, ?it/s]"
      ]
     },
     "metadata": {},
     "output_type": "display_data"
    },
    {
     "data": {
      "image/png": "[encoded data removed]",
      "text/plain": [
       "<Figure size 576x288 with 1 Axes>"
      ]
     },
     "metadata": {},
     "output_type": "display_data"
    }
   ],
   "source": [
    "# compare the policy performance online\n",
    "# wow, offline algorithm outperforms the online algorithm.\n",
    "# even though it requires no interaction with the environment!\n",
    "visualize_on_policy_policy_value(\n",
    "    env=env,\n",
    "    policies=[sac, behavior_policy, cql, random],\n",
    "    policy_names=[\"sac\", \"sac (sigma=1.0)\", \"cql\", \"random\"],\n",
    "    n_episodes=100,\n",
    "    random_state=random_state,\n",
    ")"
   ]
  },
  {
   "cell_type": "markdown",
   "metadata": {},
   "source": [
    "## 3. Off-Policy Evaluation and Evaluation of Offline RL methods\n",
    "In the previous section, we verified the performance of a learned policy via online interaction (aka A/B tests).  \n",
    "However, it could be risky in practice, because the policy may perform poorly in an online environment.  \n",
    "To tackle this issue, we aim at evaluating the performance of a policy offline, to gain some prior knowledge on how the agent works in the environment."
   ]
  },
  {
   "cell_type": "code",
   "execution_count": 38,
   "metadata": {},
   "outputs": [],
   "source": [
    "# import ope modules from OFRL\n",
    "from ofrl.ope import CreateOPEInput\n",
    "from ofrl.ope import ContinuousOffPolicyEvaluation as OPE\n",
    "from ofrl.ope import ContinuousDirectMethod as DM\n",
    "from ofrl.ope import ContinuousTrajectoryWiseImportanceSampling as TIS\n",
    "from ofrl.ope import ContinuousPerDecisionImportanceSampling as PDIS\n",
    "from ofrl.ope import ContinuousDoublyRobust as DR\n",
    "from ofrl.ope import ContinuousSelfNormalizedTrajectoryWiseImportanceSampling as SNTIS\n",
    "from ofrl.ope import ContinuousSelfNormalizedPerDecisionImportanceSampling as SNPDIS\n",
    "from ofrl.ope import ContinuousSelfNormalizedDoublyRobust as SNDR\n",
    "from ofrl.policy import ContinuousEvalHead"
   ]
  },
  {
   "cell_type": "code",
   "execution_count": 39,
   "metadata": {},
   "outputs": [],
   "source": [
    "# define evaluation policies (deterministic policy)\n",
    "# though OPE is applicable to stochastic policies (i.e., random), the estimation result will be unstable\n",
    "# because continuous OPE is mainly designed for deterministic policies\n",
    "cql_ = ContinuousEvalHead(\n",
    "    base_policy=cql,\n",
    "    name=\"cql\",\n",
    ")\n",
    "sac_ = ContinuousEvalHead(\n",
    "    base_policy=sac, \n",
    "    name=\"sac\", \n",
    ")\n",
    "random_ = ContinuousEvalHead(\n",
    "    base_policy=random, \n",
    "    name=\"random\", \n",
    ")\n",
    "evaluation_policies = [cql_, sac_, random_]"
   ]
  },
  {
   "cell_type": "code",
   "execution_count": 40,
   "metadata": {},
   "outputs": [],
   "source": [
    "# first, prepare OPE inputs\n",
    "prep = CreateOPEInput(\n",
    "    logged_dataset=logged_dataset,\n",
    "    use_base_model=True,  # use model-based prediction\n",
    "    base_model_args={\n",
    "        \"encoder_factory\": VectorEncoderFactory(hidden_units=[30, 30]),\n",
    "        \"q_func_factory\": MeanQFunctionFactory(),\n",
    "        \"learning_rate\": 1e-4,\n",
    "        \"use_gpu\": torch.cuda.is_available(),\n",
    "        \"action_scaler\": MinMaxActionScaler(\n",
    "            minimum=env.action_space.low,  # minimum value that policy can take\n",
    "            maximum=env.action_space.high,  # maximum value that policy can take\n",
    "        ),\n",
    "    },\n",
    ")"
   ]
  },
  {
   "cell_type": "code",
   "execution_count": 41,
   "metadata": {},
   "outputs": [
    {
     "data": {
      "application/vnd.jupyter.widget-view+json": {
       "model_id": "97a2041504084a45a7c1e3ec4478cedf",
       "version_major": 2,
       "version_minor": 0
      },
      "text/plain": [
       "[fit FQE model]:   0%|          | 0/3 [00:00<?, ?it/s]"
      ]
     },
     "metadata": {},
     "output_type": "display_data"
    },
    {
     "name": "stdout",
     "output_type": "stream",
     "text": [
      "2022-08-07 20:35.16 [debug    ] RandomIterator is selected.\n",
      "2022-08-07 20:35.16 [info     ] Directory is created at d3rlpy_logs/FQE_20220807203516\n",
      "2022-08-07 20:35.16 [debug    ] Fitting action scaler...       action_scaler=min_max\n",
      "2022-08-07 20:35.16 [debug    ] Building models...\n",
      "2022-08-07 20:35.16 [debug    ] Models have been built.\n",
      "2022-08-07 20:35.17 [info     ] Parameters are saved to d3rlpy_logs/FQE_20220807203516/params.json params={'action_scaler': {'type': 'min_max', 'params': {'minimum': array([0.1]), 'maximum': array([10.])}}, 'batch_size': 100, 'encoder_factory': {'type': 'vector', 'params': {'hidden_units': [30, 30], 'activation': 'relu', 'use_batch_norm': False, 'dropout_rate': None, 'use_dense': False}}, 'gamma': 0.99, 'generated_maxlen': 100000, 'learning_rate': 0.0001, 'n_critics': 1, 'n_frames': 1, 'n_steps': 1, 'optim_factory': {'optim_cls': 'Adam', 'betas': (0.9, 0.999), 'eps': 1e-08, 'weight_decay': 0, 'amsgrad': False}, 'q_func_factory': {'type': 'mean', 'params': {'share_encoder': False}}, 'real_ratio': 1.0, 'reward_scaler': None, 'scaler': None, 'target_update_interval': 100, 'use_gpu': None, 'algorithm': 'FQE', 'observation_shape': (7,), 'action_size': 1}\n"
     ]
    },
    {
     "data": {
      "application/vnd.jupyter.widget-view+json": {
       "model_id": "b8fb0f554f204d638bbeaec870aa5782",
       "version_major": 2,
       "version_minor": 0
      },
      "text/plain": [
       "Epoch 1/1:   0%|          | 0/10000 [00:00<?, ?it/s]"
      ]
     },
     "metadata": {},
     "output_type": "display_data"
    },
    {
     "name": "stdout",
     "output_type": "stream",
     "text": [
      "2022-08-07 20:35.38 [info     ] FQE_20220807203516: epoch=1 step=10000 epoch=1 metrics={'time_sample_batch': 0.0003354790449142456, 'time_algorithm_update': 0.001624916386604309, 'loss': 629.9000845882535, 'time_step': 0.002119781231880188} step=10000\n",
      "2022-08-07 20:35.38 [info     ] Model parameters are saved to d3rlpy_logs/FQE_20220807203516/model_10000.pt\n",
      "2022-08-07 20:35.38 [debug    ] RandomIterator is selected.\n",
      "2022-08-07 20:35.38 [info     ] Directory is created at d3rlpy_logs/FQE_20220807203538\n",
      "2022-08-07 20:35.38 [debug    ] Fitting action scaler...       action_scaler=min_max\n",
      "2022-08-07 20:35.38 [debug    ] Building models...\n",
      "2022-08-07 20:35.38 [debug    ] Models have been built.\n",
      "2022-08-07 20:35.38 [info     ] Parameters are saved to d3rlpy_logs/FQE_20220807203538/params.json params={'action_scaler': {'type': 'min_max', 'params': {'minimum': array([0.1]), 'maximum': array([10.])}}, 'batch_size': 100, 'encoder_factory': {'type': 'vector', 'params': {'hidden_units': [30, 30], 'activation': 'relu', 'use_batch_norm': False, 'dropout_rate': None, 'use_dense': False}}, 'gamma': 0.99, 'generated_maxlen': 100000, 'learning_rate': 0.0001, 'n_critics': 1, 'n_frames': 1, 'n_steps': 1, 'optim_factory': {'optim_cls': 'Adam', 'betas': (0.9, 0.999), 'eps': 1e-08, 'weight_decay': 0, 'amsgrad': False}, 'q_func_factory': {'type': 'mean', 'params': {'share_encoder': False}}, 'real_ratio': 1.0, 'reward_scaler': None, 'scaler': None, 'target_update_interval': 100, 'use_gpu': None, 'algorithm': 'FQE', 'observation_shape': (7,), 'action_size': 1}\n"
     ]
    },
    {
     "data": {
      "application/vnd.jupyter.widget-view+json": {
       "model_id": "746f0462593241ad8f42056c72f7076a",
       "version_major": 2,
       "version_minor": 0
      },
      "text/plain": [
       "Epoch 1/1:   0%|          | 0/10000 [00:00<?, ?it/s]"
      ]
     },
     "metadata": {},
     "output_type": "display_data"
    },
    {
     "name": "stdout",
     "output_type": "stream",
     "text": [
      "2022-08-07 20:35.59 [info     ] FQE_20220807203538: epoch=1 step=10000 epoch=1 metrics={'time_sample_batch': 0.00032385711669921874, 'time_algorithm_update': 0.001552482271194458, 'loss': 206.53639951354265, 'time_step': 0.0020279370784759524} step=10000\n",
      "2022-08-07 20:35.59 [info     ] Model parameters are saved to d3rlpy_logs/FQE_20220807203538/model_10000.pt\n",
      "2022-08-07 20:35.59 [debug    ] RandomIterator is selected.\n",
      "2022-08-07 20:35.59 [info     ] Directory is created at d3rlpy_logs/FQE_20220807203559\n",
      "2022-08-07 20:35.59 [debug    ] Fitting action scaler...       action_scaler=min_max\n",
      "2022-08-07 20:35.59 [debug    ] Building models...\n",
      "2022-08-07 20:35.59 [debug    ] Models have been built.\n",
      "2022-08-07 20:35.59 [info     ] Parameters are saved to d3rlpy_logs/FQE_20220807203559/params.json params={'action_scaler': {'type': 'min_max', 'params': {'minimum': array([0.1]), 'maximum': array([10.])}}, 'batch_size': 100, 'encoder_factory': {'type': 'vector', 'params': {'hidden_units': [30, 30], 'activation': 'relu', 'use_batch_norm': False, 'dropout_rate': None, 'use_dense': False}}, 'gamma': 0.99, 'generated_maxlen': 100000, 'learning_rate': 0.0001, 'n_critics': 1, 'n_frames': 1, 'n_steps': 1, 'optim_factory': {'optim_cls': 'Adam', 'betas': (0.9, 0.999), 'eps': 1e-08, 'weight_decay': 0, 'amsgrad': False}, 'q_func_factory': {'type': 'mean', 'params': {'share_encoder': False}}, 'real_ratio': 1.0, 'reward_scaler': None, 'scaler': None, 'target_update_interval': 100, 'use_gpu': None, 'algorithm': 'FQE', 'observation_shape': (7,), 'action_size': 1}\n"
     ]
    },
    {
     "data": {
      "application/vnd.jupyter.widget-view+json": {
       "model_id": "20360d8a9d5f4bfba1a49be0ccb3eeed",
       "version_major": 2,
       "version_minor": 0
      },
      "text/plain": [
       "Epoch 1/1:   0%|          | 0/10000 [00:00<?, ?it/s]"
      ]
     },
     "metadata": {},
     "output_type": "display_data"
    },
    {
     "name": "stdout",
     "output_type": "stream",
     "text": [
      "2022-08-07 20:36.14 [info     ] FQE_20220807203559: epoch=1 step=10000 epoch=1 metrics={'time_sample_batch': 0.0003084303379058838, 'time_algorithm_update': 0.0010446364641189575, 'loss': 6.136992767858505, 'time_step': 0.001476510214805603} step=10000\n",
      "2022-08-07 20:36.14 [info     ] Model parameters are saved to d3rlpy_logs/FQE_20220807203559/model_10000.pt\n"
     ]
    },
    {
     "data": {
      "application/vnd.jupyter.widget-view+json": {
       "model_id": "eb0b626dddc44e4f995de1deea0f125b",
       "version_major": 2,
       "version_minor": 0
      },
      "text/plain": [
       "[collect input data]:   0%|          | 0/3 [00:00<?, ?it/s]"
      ]
     },
     "metadata": {},
     "output_type": "display_data"
    },
    {
     "data": {
      "application/vnd.jupyter.widget-view+json": {
       "model_id": "39036973c2d24e74adce5cbb77c02ec2",
       "version_major": 2,
       "version_minor": 0
      },
      "text/plain": [
       "[calculate on-policy policy value]:   0%|          | 0/100 [00:00<?, ?it/s]"
      ]
     },
     "metadata": {},
     "output_type": "display_data"
    },
    {
     "data": {
      "application/vnd.jupyter.widget-view+json": {
       "model_id": "ba939750dd244151acc0450b5a1927c5",
       "version_major": 2,
       "version_minor": 0
      },
      "text/plain": [
       "[calculate on-policy policy value]:   0%|          | 0/100 [00:00<?, ?it/s]"
      ]
     },
     "metadata": {},
     "output_type": "display_data"
    },
    {
     "data": {
      "application/vnd.jupyter.widget-view+json": {
       "model_id": "0fbd7c579b64452e92c1b3c6329f518e",
       "version_major": 2,
       "version_minor": 0
      },
      "text/plain": [
       "[calculate on-policy policy value]:   0%|          | 0/100 [00:00<?, ?it/s]"
      ]
     },
     "metadata": {},
     "output_type": "display_data"
    }
   ],
   "source": [
    "input_dict = prep.obtain_whole_inputs(\n",
    "    evaluation_policies=evaluation_policies,\n",
    "    env=env,\n",
    "    n_episodes_on_policy_evaluation=100,\n",
    "    random_state=random_state,\n",
    ")"
   ]
  },
  {
   "cell_type": "code",
   "execution_count": 42,
   "metadata": {},
   "outputs": [],
   "source": [
    "with open(\"logs/ope_input_dict_continuous.pkl\", \"wb\") as f:\n",
    "    pickle.dump(input_dict, f)"
   ]
  },
  {
   "cell_type": "code",
   "execution_count": 43,
   "metadata": {},
   "outputs": [],
   "source": [
    "with open(\"logs/ope_input_dict_continuous.pkl\", \"rb\") as f:\n",
    "    input_dict = pickle.load(f)"
   ]
  },
  {
   "cell_type": "code",
   "execution_count": 44,
   "metadata": {},
   "outputs": [],
   "source": [
    "ope = OPE(\n",
    "    logged_dataset=logged_dataset,\n",
    "    ope_estimators=[DM(), TIS(), PDIS(), DR(), SNTIS(), SNPDIS(), SNDR()],\n",
    "    use_truncated_kernel=True,\n",
    "    action_min=env.action_space.low,\n",
    "    action_max=env.action_space.high,\n",
    ")"
   ]
  },
  {
   "cell_type": "code",
   "execution_count": 45,
   "metadata": {},
   "outputs": [],
   "source": [
    "# performance estimation by ope\n",
    "# takes time to compute (about 15min)\n",
    "policy_value_df_dict, policy_value_interval_df_dict = ope.summarize_off_policy_estimates(input_dict, random_state=random_state)"
   ]
  },
  {
   "cell_type": "code",
   "execution_count": 46,
   "metadata": {},
   "outputs": [
    {
     "data": {
      "text/plain": [
       "{'cql':            policy_value  relative_policy_value\n",
       " on_policy     14.550000               1.000000\n",
       " dm            13.719770               0.942940\n",
       " tis            3.532694               0.242797\n",
       " pdis           7.967856               0.547619\n",
       " dr            13.841412               0.951300\n",
       " sntis         15.293822               1.051122\n",
       " snpdis        17.942292               1.233147\n",
       " sndr          10.094618               0.693788,\n",
       " 'sac':            policy_value  relative_policy_value\n",
       " on_policy     15.450000               1.000000\n",
       " dm            15.031089               0.972886\n",
       " tis           16.201323               1.048629\n",
       " pdis           9.713060               0.628677\n",
       " dr            15.294856               0.989958\n",
       " sntis         15.310393               0.990964\n",
       " snpdis        14.777470               0.956471\n",
       " sndr           3.871531               0.250585,\n",
       " 'random':            policy_value  relative_policy_value\n",
       " on_policy     14.530000               1.000000\n",
       " dm            11.030163               0.759130\n",
       " tis            0.000621               0.000043\n",
       " pdis           6.263733               0.431090\n",
       " dr            12.693192               0.873585\n",
       " sntis          3.234344               0.222598\n",
       " snpdis        16.073090               1.106200\n",
       " sndr          11.998609               0.825782}"
      ]
     },
     "execution_count": 46,
     "metadata": {},
     "output_type": "execute_result"
    }
   ],
   "source": [
    "# estimated policy performance\n",
    "policy_value_df_dict"
   ]
  },
  {
   "cell_type": "code",
   "execution_count": 47,
   "metadata": {},
   "outputs": [
    {
     "data": {
      "text/plain": [
       "{'cql':                 mean  95.0% CI (lower)  95.0% CI (upper)\n",
       " on_policy  14.474700         13.719000         15.175250\n",
       " dm         13.719879         13.716555         13.722521\n",
       " tis         3.448446          1.451470          6.820628\n",
       " pdis        8.027714          7.077587          9.448641\n",
       " dr         13.838651         13.173891         14.413088\n",
       " sntis      15.285918         12.667199         18.735644\n",
       " snpdis     17.931884         17.355795         18.813509\n",
       " sndr       10.712442          3.351773         20.862889,\n",
       " 'sac':                 mean  95.0% CI (lower)  95.0% CI (upper)\n",
       " on_policy  15.406800         14.423750         16.165750\n",
       " dm         15.030932         15.026137         15.035934\n",
       " tis        16.233404         15.622668         16.761853\n",
       " pdis        9.710654          9.582301          9.821352\n",
       " dr         15.296918         15.228159         15.354913\n",
       " sntis      15.329058         14.498443         16.678082\n",
       " snpdis     14.785614         14.491806         15.095468\n",
       " sndr        4.487168         -3.985536         15.858959,\n",
       " 'random':                 mean  95.0% CI (lower)  95.0% CI (upper)\n",
       " on_policy  14.467900         13.710000         15.246250\n",
       " dm         11.030051         11.027540         11.032643\n",
       " tis         0.000695          0.000032          0.001900\n",
       " pdis        6.408367          3.608076         10.852604\n",
       " dr         12.708846         11.437418         14.512773\n",
       " sntis       3.316366          0.546879          7.564901\n",
       " snpdis     16.010964         12.317280         21.004152\n",
       " sndr       12.535555          4.574719         22.170052}"
      ]
     },
     "execution_count": 47,
     "metadata": {},
     "output_type": "execute_result"
    }
   ],
   "source": [
    "# estimated confidence intervals of the policy performance\n",
    "policy_value_interval_df_dict"
   ]
  },
  {
   "cell_type": "markdown",
   "metadata": {},
   "source": [
    "## 4. Evaluation of OPE methods\n",
    "Now, we evaluate how well the ope estimators estimated the policy value."
   ]
  },
  {
   "cell_type": "code",
   "execution_count": 48,
   "metadata": {},
   "outputs": [
    {
     "data": {
      "image/png": "[encoded data removed]",
      "text/plain": [
       "<Figure size 1008x2592 with 3 Axes>"
      ]
     },
     "metadata": {},
     "output_type": "display_data"
    }
   ],
   "source": [
    "# we can visualize and compare the ope result\n",
    "# it seems many offline metrics underestimate the policy value\n",
    "ope.visualize_off_policy_estimates(input_dict, random_state=random_state, sharey=True)"
   ]
  },
  {
   "cell_type": "code",
   "execution_count": 49,
   "metadata": {},
   "outputs": [
    {
     "data": {
      "text/html": [
       "<div>\n",
       "<style scoped>\n",
       "    .dataframe tbody tr th:only-of-type {\n",
       "        vertical-align: middle;\n",
       "    }\n",
       "\n",
       "    .dataframe tbody tr th {\n",
       "        vertical-align: top;\n",
       "    }\n",
       "\n",
       "    .dataframe thead th {\n",
       "        text-align: right;\n",
       "    }\n",
       "</style>\n",
       "<table border=\"1\" class=\"dataframe\">\n",
       "  <thead>\n",
       "    <tr style=\"text-align: right;\">\n",
       "      <th></th>\n",
       "      <th>cql</th>\n",
       "      <th>sac</th>\n",
       "      <th>random</th>\n",
       "    </tr>\n",
       "  </thead>\n",
       "  <tbody>\n",
       "    <tr>\n",
       "      <th>dm</th>\n",
       "      <td>0.689281</td>\n",
       "      <td>0.175487</td>\n",
       "      <td>12.248860</td>\n",
       "    </tr>\n",
       "    <tr>\n",
       "      <th>tis</th>\n",
       "      <td>121.381035</td>\n",
       "      <td>0.564486</td>\n",
       "      <td>211.102862</td>\n",
       "    </tr>\n",
       "    <tr>\n",
       "      <th>pdis</th>\n",
       "      <td>43.324617</td>\n",
       "      <td>32.912483</td>\n",
       "      <td>68.331163</td>\n",
       "    </tr>\n",
       "    <tr>\n",
       "      <th>dr</th>\n",
       "      <td>0.502096</td>\n",
       "      <td>0.024070</td>\n",
       "      <td>3.373864</td>\n",
       "    </tr>\n",
       "    <tr>\n",
       "      <th>sntis</th>\n",
       "      <td>0.553272</td>\n",
       "      <td>0.019490</td>\n",
       "      <td>127.591833</td>\n",
       "    </tr>\n",
       "    <tr>\n",
       "      <th>snpdis</th>\n",
       "      <td>11.507644</td>\n",
       "      <td>0.452296</td>\n",
       "      <td>2.381128</td>\n",
       "    </tr>\n",
       "    <tr>\n",
       "      <th>sndr</th>\n",
       "      <td>19.850431</td>\n",
       "      <td>134.060936</td>\n",
       "      <td>6.407942</td>\n",
       "    </tr>\n",
       "  </tbody>\n",
       "</table>\n",
       "</div>"
      ],
      "text/plain": [
       "               cql         sac      random\n",
       "dm        0.689281    0.175487   12.248860\n",
       "tis     121.381035    0.564486  211.102862\n",
       "pdis     43.324617   32.912483   68.331163\n",
       "dr        0.502096    0.024070    3.373864\n",
       "sntis     0.553272    0.019490  127.591833\n",
       "snpdis   11.507644    0.452296    2.381128\n",
       "sndr     19.850431  134.060936    6.407942"
      ]
     },
     "execution_count": 49,
     "metadata": {},
     "output_type": "execute_result"
    }
   ],
   "source": [
    "# squared-error (se) measures the estimation accuracy of OPE\n",
    "eval_metric_ope_df = ope.evaluate_performance_of_ope_estimators(\n",
    "    input_dict, \n",
    "    metric=\"se\",\n",
    "    return_by_dataframe=True,\n",
    ")\n",
    "eval_metric_ope_df"
   ]
  },
  {
   "cell_type": "markdown",
   "metadata": {},
   "source": [
    "For examples regarding the discrete action space, please refer to [examples/quickstart/rtb_synthetic_discrete_basic.ipynb](https://github.com/negocia-inc/rtb_reinforcement_learing/blob/ope/examples/quickstart/rtb_synthetic_discrete_basic.ipynb)."
   ]
  },
  {
   "cell_type": "markdown",
   "metadata": {},
   "source": [
    "## Reference\n",
    "\n",
    "- Yuta Saito, Shunsuke Aihara, Megumi Matsutani, and Yusuke Narita. \\\n",
    "\"Open Bandit Dataset and Pipeline: Towards Realistic and Reproducible Off-Policy Evaluation.\", 2021.\n",
    "\n",
    "- Takuma Seno and Michita Imai. \\\n",
    "\"d3rlpy: An Offline Deep Reinforcement Library.\", 2021.\n",
    "\n",
    "- Sergey Levine, Aviral Kumar, George Tucker, and Justin Fu. \\\n",
    "\"Offline Reinforcement Learning: Tutorial, Review, and Perspectives on Open Problems.\" 2020.\n",
    "\n",
    "- Aviral Kumar, Aurick Zhou, George Tucker, and Sergey Levine. \\\n",
    "\"Conservative Q-Learning for Offline Reinforcement Learning.\", 2020.\n",
    "\n",
    "- Nathan Kallus and Masatoshi Uehara. \\\n",
    "\"Intrinsically Efficient, Stable, and Bounded Off-Policy Evaluation for Reinforcement Learning.\", 2019.\n",
    "\n",
    "- Hoang Le, Cameron Voloshin, and Yisong Yue. \\\n",
    "\"Batch Policy Learning under Constraints.\", 2019.\n",
    "\n",
    "- Tuomas Haarnoja, Aurick Zhou, Pieter Abbeel, and Sergey Levine. \\\n",
    "\"Soft Actor-Critic: Off-Policy Maximum Entropy Deep Reinforcement Learning with a Stochastic Actor.\" 2018.\n",
    "\n",
    "- Di Wu, Xiujun Chen, Xun Yang, Hao Wang, Qing Tan, Xiaoxun Zhang, Jian Xu, and Kun Gai. \\\n",
    "\"Budget Constrained Bidding by Model-free Reinforcement Learning in Display Advertising.\", 2018.\n",
    "\n",
    "- Jun Zhao, Guang Qiu, Ziyu Guan, Wei Zhao, and Xiaofei He. \\\n",
    "\"Deep Reinforcement Learning for Sponsored Search Real-time Bidding.\", 2018.\n",
    "\n",
    "- Nan Jiang and Lihong Li. \\\n",
    "\"Doubly Robust Off-policy Value Evaluation for Reinforcement Learning.\", 2016.\n",
    "\n",
    "- Philip S. Thomas and Emma Brunskill. \\\n",
    "\"Data-Efficient Off-Policy Policy Evaluation for Reinforcement Learning.\", 2016.\n",
    "\n",
    "- Greg Brockman, Vicki Cheung, Ludwig Pettersson, Jonas Schneider, John Schulman, Jie Tang, and Wojciech Zaremba. \\\n",
    "\"OpenAI Gym.\", 2016.\n",
    "\n",
    "- Adith Swaminathan and Thorsten Joachims. \\\n",
    "\"The Self-Normalized Estimator for Counterfactual Learning.\", 2015.\n",
    "\n",
    "- Miroslav Dudík, Dumitru Erhan, John Langford, and Lihong Li. \\\n",
    "\"Doubly Robust Policy Evaluation and Optimization.\", 2014.\n",
    "\n",
    "- Alex Strehl, John Langford, Sham Kakade, and Lihong Li. \\\n",
    "\"Learning from Logged Implicit Exploration Data.\", 2010.\n",
    "\n",
    "- Alina Beygelzimer and John Langford. \\\n",
    "\"The Offset Tree for Learning with Partial Labels.\", 2009.\n",
    "\n",
    "- Doina Precup, Richard S. Sutton, and Satinder P. Singh. \\\n",
    "\"Eligibility Traces for Off-Policy Policy Evaluation.\", 2000."
   ]
  },
  {
   "cell_type": "code",
   "execution_count": null,
   "metadata": {},
   "outputs": [],
   "source": []
  }
 ],
 "metadata": {
  "kernelspec": {
   "display_name": "Python 3",
   "language": "python",
   "name": "python3"
  },
  "language_info": {
   "codemirror_mode": {
    "name": "ipython",
    "version": 3
   },
   "file_extension": ".py",
   "mimetype": "text/x-python",
   "name": "python",
   "nbconvert_exporter": "python",
   "pygments_lexer": "ipython3",
   "version": "3.8.5"
  },
  "vscode": {
   "interpreter": {
    "hash": "eeb0e296031d5f4c93e05211083c58e9e78a3e8af86402f626ea4098c0a5e991"
   }
  }
 },
 "nbformat": 4,
 "nbformat_minor": 4
}
