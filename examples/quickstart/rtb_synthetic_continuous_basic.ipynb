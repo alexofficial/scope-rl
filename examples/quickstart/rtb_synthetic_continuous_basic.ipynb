{
 "cells": [
  {
   "cell_type": "markdown",
   "metadata": {},
   "source": [
    "# Quickstart Example with Synthetic RTB Simulation and Dataset (Continuous)\n",
    "This notebook provides an example of conducting **Off-policy Evaluation (OPE) and Offline Reinforcement Learning (Offline RL) on a synthetic Real-Time Bidding (RTB) dataset**.\n",
    "\n",
    "Our example with Synthetic RTB Simulation and Dataset consists of the following 5 steps:\n",
    "0. (Setup Synthetic RTB Simulation Environment and Online RL)\n",
    "1. Synthetic Data Generation\n",
    "2. Offline Reinforcement Learning\n",
    "3. Off-Policy Evaluation and Evaluation of Offline RL methods\n",
    "4. Evaluation of OPE methods\n",
    "\n",
    "We also show how to visualize the results in the Appendix.\n",
    "\n",
    "\\* This library uses [d3rlpy](https://github.com/takuseno/d3rlpy)'s algorithm implementations of online/offline rl policies and model-based evaluation.  \n",
    "\\* Also, our OPE implementations are highly inspired by [Open Bandit Pipeline](https://github.com/st-tech/zr-obp)."
   ]
  },
  {
   "cell_type": "code",
   "execution_count": 1,
   "metadata": {},
   "outputs": [],
   "source": [
    "# delete later\n",
    "%load_ext autoreload\n",
    "%autoreload 2"
   ]
  },
  {
   "cell_type": "code",
   "execution_count": 2,
   "metadata": {},
   "outputs": [],
   "source": [
    "# delete later\n",
    "import warnings\n",
    "warnings.simplefilter('ignore')"
   ]
  },
  {
   "cell_type": "code",
   "execution_count": 3,
   "metadata": {},
   "outputs": [],
   "source": [
    "# delete later\n",
    "import sys\n",
    "sys.path.append('../')\n",
    "sys.path.append('../../')"
   ]
  },
  {
   "cell_type": "code",
   "execution_count": 4,
   "metadata": {},
   "outputs": [],
   "source": [
    "# import OFRL modules\n",
    "import ofrl\n",
    "from rtbgym import RTBEnv, CustomizedRTBEnv\n",
    "from ofrl.dataset import SyntheticDataset\n",
    "from ofrl.policy import OnlineHead, ContinuousTruncatedGaussianHead\n",
    "from ofrl.ope.online import (\n",
    "    calc_on_policy_policy_value,\n",
    "    visualize_on_policy_policy_value,\n",
    ")\n",
    "\n",
    "# import d3rlpy algorithms\n",
    "from d3rlpy.algos import DiscreteRandomPolicy\n",
    "from d3rlpy.algos import RandomPolicy as ContinuousRandomPolicy\n",
    "from d3rlpy.preprocessing import MinMaxActionScaler\n",
    "\n",
    "# import from other libraries\n",
    "import gym\n",
    "import torch\n",
    "from sklearn.model_selection import train_test_split"
   ]
  },
  {
   "cell_type": "code",
   "execution_count": 5,
   "metadata": {},
   "outputs": [],
   "source": [
    "import pickle\n",
    "from glob import glob\n",
    "from tqdm import tqdm\n",
    "\n",
    "import numpy as np\n",
    "import pandas as pd\n",
    "\n",
    "import matplotlib.pyplot as plt\n",
    "import seaborn as sns\n",
    "\n",
    "%matplotlib inline"
   ]
  },
  {
   "cell_type": "code",
   "execution_count": 6,
   "metadata": {},
   "outputs": [
    {
     "name": "stdout",
     "output_type": "stream",
     "text": [
      "0.0.0\n"
     ]
    }
   ],
   "source": [
    "# version\n",
    "print(ofrl.__version__)"
   ]
  },
  {
   "cell_type": "code",
   "execution_count": 7,
   "metadata": {},
   "outputs": [],
   "source": [
    "# set random state\n",
    "random_state = 12345"
   ]
  },
  {
   "cell_type": "code",
   "execution_count": 8,
   "metadata": {},
   "outputs": [],
   "source": [
    "# log directory\n",
    "from pathlib import Path\n",
    "Path(\"logs/\").mkdir(exist_ok=True)"
   ]
  },
  {
   "cell_type": "markdown",
   "metadata": {},
   "source": [
    "## 0. (Setup Synthetic RTB Simulation Environment and Online RL)\n",
    "To begin with, we briefly describe how the RTB environment works.\n",
    "\n",
    "#### RL setup for RTB\n",
    "In RTB, the objective of the RL agent is to maximize some KPIs (such as number of clicks or conversions) within an episode under given budget constraints. We often try to achieve this by adjusting bidding price function parameter $\\alpha$. By using $\\alpha$, we can adjust the bid price as follows.  \n",
    "$bid_{t,i} = \\alpha \\cdot r^{\\ast}$, \n",
    "where $r^{\\ast}$ denotes a predicted or expected reward (KPIs).\n",
    "\n",
    "We often formulate this RTB problem as the following Constrained Markov Decision Process (CMDP):\n",
    "- `timestep`: One episode (a day or a week) consists of several timesteps (24 hours or seven days, for instance).\n",
    "- `state`: We observe some feedback from the environment at each timestep, which includes the followings.\n",
    "  - timestep\n",
    "  - remaining budget\n",
    "  - impression level features (budget consumption rate, cost per mille of impressions, auction winning rate, reward) at the previous timestep\n",
    "  - adjust rate (RL agent's decision making) at the previous timestep\n",
    "- `action`: Agent chooses adjust rate parameter $\\alpha$ to maximize KPIs.\n",
    "- `reward`: Total number of clicks or conversions obtained during the timestep.\n",
    "- `constraints`: The pre-determined episodic budget should not be exceeded.\n",
    "\n",
    "For more about the environmental configurations, please refer to [examples/quickstart/rtb_synthetic_customize_env.ipynb](https://github.com/negocia-inc/rtb_reinforcement_learing/blob/ope/examples/quickstart/rtb_synthetic_customize_env.ipynb).\n",
    "\n",
    "Then, Let's see how it works!"
   ]
  },
  {
   "cell_type": "code",
   "execution_count": 9,
   "metadata": {},
   "outputs": [],
   "source": [
    "# setup environment\n",
    "env = RTBEnv(random_state=random_state)"
   ]
  },
  {
   "cell_type": "code",
   "execution_count": 10,
   "metadata": {},
   "outputs": [],
   "source": [
    "# define a random agent\n",
    "agent = OnlineHead(\n",
    "    ContinuousRandomPolicy(\n",
    "        action_scaler=MinMaxActionScaler(\n",
    "            minimum=0.1,  # minimum value that policy can take\n",
    "            maximum=10,  # maximum value that policy can take\n",
    "        )\n",
    "    )\n",
    ")"
   ]
  },
  {
   "cell_type": "code",
   "execution_count": 11,
   "metadata": {},
   "outputs": [],
   "source": [
    "# interact agent with the environment\n",
    "# only 6 lines are needed for RL interaction\n",
    "for episode in range(10):\n",
    "    obs = env.reset()\n",
    "    done = False\n",
    "\n",
    "    while not done:\n",
    "        action = agent.predict_online(obs)\n",
    "        obs, reward, done, info = env.step(action)"
   ]
  },
  {
   "cell_type": "code",
   "execution_count": 12,
   "metadata": {},
   "outputs": [
    {
     "name": "stdout",
     "output_type": "stream",
     "text": [
      "['timestep', 'remaining_budget', 'budget_consumption_rate', 'cost_per_mille_of_impression', 'winning_rate', 'reward', 'adjust_rate']\n",
      "(7,)\n"
     ]
    }
   ],
   "source": [
    "# state consists of the following feedback from the environment\n",
    "print(env.obs_keys)\n",
    "print(obs.shape)"
   ]
  },
  {
   "cell_type": "code",
   "execution_count": 13,
   "metadata": {},
   "outputs": [
    {
     "data": {
      "image/png": "[encoded data removed]",
      "text/plain": [
       "<Figure size 432x288 with 2 Axes>"
      ]
     },
     "metadata": {
      "needs_background": "light"
     },
     "output_type": "display_data"
    }
   ],
   "source": [
    "# let's visualize the transition of remaining budget and the cumulative reward\n",
    "# our goal is to obtain a policy (i.e., agent) that maximizes the cumulative reward under budget constraints using RL.  \n",
    "# for more visualization, please see the appendix.\n",
    "obs = env.reset()\n",
    "done = False\n",
    "remaining_budget = [obs[1]]\n",
    "cumulative_reward = [0]\n",
    "\n",
    "while not done:\n",
    "    action = agent.predict_online(obs)\n",
    "    obs, reward, done, info = env.step(action)\n",
    "    remaining_budget.append(obs[1])\n",
    "    cumulative_reward.append(cumulative_reward[-1] + reward)\n",
    "\n",
    "# plot\n",
    "fig = plt.figure()\n",
    "ax1 = fig.add_subplot(111)\n",
    "ax1.plot(remaining_budget[:-1], label='remaining budget')\n",
    "ax2 = ax1.twinx()\n",
    "ax2.plot(cumulative_reward[:-1], label='cumulative reward', color='tab:orange')\n",
    "ax1.set_xlabel('timestep')\n",
    "ax1.set_ylabel('remainig budget')\n",
    "ax1.set_ylim(0, env.initial_budget + 100)\n",
    "ax2.set_ylabel('reward (coversion)')\n",
    "ax1.legend(loc='upper left')\n",
    "ax2.legend(loc='upper right')\n",
    "plt.show()"
   ]
  },
  {
   "cell_type": "markdown",
   "metadata": {},
   "source": [
    "We see that the random policy run out the budget quickly.  \n",
    "Our goal is to derive a policy that controls the adjust rate (i.e., action) to maximize the reward while meeting the given budget constraints.\n",
    "\n",
    "For more about the environmental configurations and customization, please refer to [examples/quickstart/rtb_synthetic_customize_env.ipynb](https://github.com/negocia-inc/rtb_reinforcement_learing/blob/ope/examples/quickstart/rtb_synthetic_customize_env.ipynb)."
   ]
  },
  {
   "cell_type": "markdown",
   "metadata": {},
   "source": [
    "#### Online RL and comparison of the policies\n",
    "We now learn an online RL policy and compare it to the random policy, based on their on-policy policy value estimation."
   ]
  },
  {
   "cell_type": "code",
   "execution_count": 14,
   "metadata": {},
   "outputs": [
    {
     "name": "stdout",
     "output_type": "stream",
     "text": [
      "Box(0.1, 10.0, (1,), float64)\n"
     ]
    }
   ],
   "source": [
    "# standardized environment for continuous actions\n",
    "env = gym.make(\"RTBEnv-continuous-v0\")\n",
    "print(env.action_space)"
   ]
  },
  {
   "cell_type": "code",
   "execution_count": 15,
   "metadata": {},
   "outputs": [],
   "source": [
    "from d3rlpy.algos import SAC\n",
    "from d3rlpy.models.encoders import VectorEncoderFactory\n",
    "from d3rlpy.models.q_functions import MeanQFunctionFactory\n",
    "from d3rlpy.online.buffers import ReplayBuffer\n",
    "\n",
    "# model\n",
    "sac = SAC(\n",
    "    actor_encoder_factory=VectorEncoderFactory(hidden_units=[30, 30]),\n",
    "    critic_encoder_factory=VectorEncoderFactory(hidden_units=[30, 30]),\n",
    "    q_func_factory=MeanQFunctionFactory(),\n",
    "    use_gpu=torch.cuda.is_available(),\n",
    "    action_scaler=MinMaxActionScaler(\n",
    "        minimum=env.action_space.low,   # 0.1\n",
    "        maximum=env.action_space.high,  # 10\n",
    "    ),\n",
    ")\n",
    "# setup replay buffer\n",
    "buffer = ReplayBuffer(\n",
    "    maxlen=10000,\n",
    "    env=env,\n",
    ")"
   ]
  },
  {
   "cell_type": "code",
   "execution_count": 16,
   "metadata": {},
   "outputs": [
    {
     "name": "stdout",
     "output_type": "stream",
     "text": [
      "2022-06-02 12:41.40 [info     ] Directory is created at d3rlpy_logs/SAC_online_20220602124140\n",
      "2022-06-02 12:41.40 [debug    ] Fitting action scaler...       action_scler=min_max\n",
      "2022-06-02 12:41.40 [debug    ] Building model...\n",
      "2022-06-02 12:41.40 [debug    ] Model has been built.\n",
      "2022-06-02 12:41.40 [info     ] Parameters are saved to d3rlpy_logs/SAC_online_20220602124140/params.json params={'action_scaler': {'type': 'min_max', 'params': {'minimum': array([0.1]), 'maximum': array([10.])}}, 'actor_encoder_factory': {'type': 'vector', 'params': {'hidden_units': [30, 30], 'activation': 'relu', 'use_batch_norm': False, 'dropout_rate': None, 'use_dense': False}}, 'actor_learning_rate': 0.0003, 'actor_optim_factory': {'optim_cls': 'Adam', 'betas': (0.9, 0.999), 'eps': 1e-08, 'weight_decay': 0, 'amsgrad': False}, 'batch_size': 256, 'critic_encoder_factory': {'type': 'vector', 'params': {'hidden_units': [30, 30], 'activation': 'relu', 'use_batch_norm': False, 'dropout_rate': None, 'use_dense': False}}, 'critic_learning_rate': 0.0003, 'critic_optim_factory': {'optim_cls': 'Adam', 'betas': (0.9, 0.999), 'eps': 1e-08, 'weight_decay': 0, 'amsgrad': False}, 'gamma': 0.99, 'generated_maxlen': 100000, 'initial_temperature': 1.0, 'n_critics': 2, 'n_frames': 1, 'n_steps': 1, 'q_func_factory': {'type': 'mean', 'params': {'share_encoder': False}}, 'real_ratio': 1.0, 'reward_scaler': None, 'scaler': None, 'tau': 0.005, 'temp_learning_rate': 0.0003, 'temp_optim_factory': {'optim_cls': 'Adam', 'betas': (0.9, 0.999), 'eps': 1e-08, 'weight_decay': 0, 'amsgrad': False}, 'use_gpu': None, 'algorithm': 'SAC', 'observation_shape': (7,), 'action_size': 1}\n"
     ]
    },
    {
     "data": {
      "application/vnd.jupyter.widget-view+json": {
       "model_id": "32dc6c31ad0e4d24bae032603dd1520c",
       "version_major": 2,
       "version_minor": 0
      },
      "text/plain": [
       "  0%|          | 0/100000 [00:00<?, ?it/s]"
      ]
     },
     "metadata": {},
     "output_type": "display_data"
    },
    {
     "name": "stdout",
     "output_type": "stream",
     "text": [
      "2022-06-02 12:41.42 [info     ] Model parameters are saved to d3rlpy_logs/SAC_online_20220602124140/model_1000.pt\n",
      "2022-06-02 12:41.42 [info     ] SAC_online_20220602124140: epoch=1 step=1000 epoch=1 metrics={'time_inference': 0.0007708430290222168, 'time_environment_step': 0.000797736406326294, 'time_step': 0.001618976593017578, 'rollout_return': 16.028169014084508, 'evaluation': 15.4} step=1000\n",
      "2022-06-02 12:41.51 [info     ] Model parameters are saved to d3rlpy_logs/SAC_online_20220602124140/model_2000.pt\n",
      "2022-06-02 12:41.51 [info     ] SAC_online_20220602124140: epoch=2 step=2000 epoch=2 metrics={'time_inference': 0.000690967321395874, 'time_environment_step': 0.0008430166244506836, 'time_sample_batch': 0.0003178722858428955, 'time_algorithm_update': 0.007640807151794433, 'temp_loss': -3.539016711831093, 'temp': 1.028316447854042, 'critic_loss': 465.9615774765015, 'actor_loss': -13.438324065446853, 'time_step': 0.009572003841400147, 'rollout_return': 14.54225352112676, 'evaluation': 14.7} step=2000\n",
      "2022-06-02 12:42.01 [info     ] Model parameters are saved to d3rlpy_logs/SAC_online_20220602124140/model_3000.pt\n",
      "2022-06-02 12:42.01 [info     ] SAC_online_20220602124140: epoch=3 step=3000 epoch=3 metrics={'time_inference': 0.000724161148071289, 'time_environment_step': 0.0008868122100830078, 'time_sample_batch': 0.00035315251350402833, 'time_algorithm_update': 0.007755131006240845, 'temp_loss': -2.3464284154772757, 'temp': 1.1220215516090393, 'critic_loss': 106.37549354934693, 'actor_loss': 2.0164812002554537, 'time_step': 0.009797392129898072, 'rollout_return': 15.204225352112676, 'evaluation': 13.6} step=3000\n",
      "2022-06-02 12:42.13 [info     ] Model parameters are saved to d3rlpy_logs/SAC_online_20220602124140/model_4000.pt\n",
      "2022-06-02 12:42.13 [info     ] SAC_online_20220602124140: epoch=4 step=4000 epoch=4 metrics={'time_inference': 0.0008259580135345459, 'time_environment_step': 0.0009524185657501221, 'time_sample_batch': 0.00037267637252807616, 'time_algorithm_update': 0.008792002677917481, 'temp_loss': -3.049864778637886, 'temp': 1.3438520632982254, 'critic_loss': 135.58195156860353, 'actor_loss': 8.772412207603455, 'time_step': 0.011037545919418334, 'rollout_return': 14.69718309859155, 'evaluation': 13.1} step=4000\n",
      "2022-06-02 12:42.23 [info     ] Model parameters are saved to d3rlpy_logs/SAC_online_20220602124140/model_5000.pt\n",
      "2022-06-02 12:42.23 [info     ] SAC_online_20220602124140: epoch=5 step=5000 epoch=5 metrics={'time_inference': 0.0007212831974029541, 'time_environment_step': 0.0008522326946258545, 'time_sample_batch': 0.0003554437160491943, 'time_algorithm_update': 0.00776844072341919, 'temp_loss': -4.125041500210762, 'temp': 1.7873322024345397, 'critic_loss': 241.25336643981933, 'actor_loss': 14.818482484817505, 'time_step': 0.009778932094573974, 'rollout_return': 14.492957746478874, 'evaluation': 13.3} step=5000\n",
      "2022-06-02 12:42.33 [info     ] Model parameters are saved to d3rlpy_logs/SAC_online_20220602124140/model_6000.pt\n",
      "2022-06-02 12:42.33 [info     ] SAC_online_20220602124140: epoch=6 step=6000 epoch=6 metrics={'time_inference': 0.0007397987842559814, 'time_environment_step': 0.0009349350929260254, 'time_sample_batch': 0.0003717193603515625, 'time_algorithm_update': 0.008127641677856446, 'temp_loss': -6.113534382820129, 'temp': 2.5503587996959687, 'critic_loss': 490.15722871398924, 'actor_loss': 23.705074732780457, 'time_step': 0.010261254072189332, 'rollout_return': 14.387323943661972, 'evaluation': 15.0} step=6000\n",
      "2022-06-02 12:42.42 [info     ] Model parameters are saved to d3rlpy_logs/SAC_online_20220602124140/model_7000.pt\n",
      "2022-06-02 12:42.42 [info     ] SAC_online_20220602124140: epoch=7 step=7000 epoch=7 metrics={'time_inference': 0.0006639876365661621, 'time_environment_step': 0.0007733895778656006, 'time_sample_batch': 0.0003084452152252197, 'time_algorithm_update': 0.006468219041824341, 'temp_loss': -8.99110313820839, 'temp': 3.7464583206176756, 'critic_loss': 1053.316727722168, 'actor_loss': 37.174822967529295, 'time_step': 0.008289026260375977, 'rollout_return': 14.73943661971831, 'evaluation': 16.4} step=7000\n",
      "2022-06-02 12:42.49 [info     ] Model parameters are saved to d3rlpy_logs/SAC_online_20220602124140/model_8000.pt\n",
      "2022-06-02 12:42.49 [info     ] SAC_online_20220602124140: epoch=8 step=8000 epoch=8 metrics={'time_inference': 0.000579106092453003, 'time_environment_step': 0.0006794271469116211, 'time_sample_batch': 0.00026992201805114746, 'time_algorithm_update': 0.005443674802780151, 'temp_loss': -13.207271591186524, 'temp': 5.530895998954773, 'critic_loss': 2294.253862060547, 'actor_loss': 57.27433742904663, 'time_step': 0.007037589550018311, 'rollout_return': 14.471830985915492, 'evaluation': 12.4} step=8000\n",
      "2022-06-02 12:42.56 [info     ] Model parameters are saved to d3rlpy_logs/SAC_online_20220602124140/model_9000.pt\n",
      "2022-06-02 12:42.57 [info     ] SAC_online_20220602124140: epoch=9 step=9000 epoch=9 metrics={'time_inference': 0.0006061646938323974, 'time_environment_step': 0.0007193100452423096, 'time_sample_batch': 0.00028734779357910155, 'time_algorithm_update': 0.005650910854339599, 'temp_loss': -19.547945231437684, 'temp': 8.180071044445038, 'critic_loss': 5067.918091796875, 'actor_loss': 87.22613116455078, 'time_step': 0.007331999778747558, 'rollout_return': 14.774647887323944, 'evaluation': 14.3} step=9000\n",
      "2022-06-02 12:43.04 [info     ] Model parameters are saved to d3rlpy_logs/SAC_online_20220602124140/model_10000.pt\n",
      "2022-06-02 12:43.04 [info     ] SAC_online_20220602124140: epoch=10 step=10000 epoch=10 metrics={'time_inference': 0.0005856916904449463, 'time_environment_step': 0.0006929786205291748, 'time_sample_batch': 0.0002789161205291748, 'time_algorithm_update': 0.0054606664180755615, 'temp_loss': -29.719239833831786, 'temp': 12.129233646392823, 'critic_loss': 11007.065967285156, 'actor_loss': 130.48034944915773, 'time_step': 0.007084949016571045, 'rollout_return': 15.04225352112676, 'evaluation': 16.1} step=10000\n",
      "2022-06-02 12:43.11 [info     ] Model parameters are saved to d3rlpy_logs/SAC_online_20220602124140/model_11000.pt\n",
      "2022-06-02 12:43.11 [info     ] SAC_online_20220602124140: epoch=11 step=11000 epoch=11 metrics={'time_inference': 0.0005745170116424561, 'time_environment_step': 0.000668595552444458, 'time_sample_batch': 0.0002739510536193848, 'time_algorithm_update': 0.005392531156539917, 'temp_loss': -44.12322813987732, 'temp': 18.02460378551483, 'critic_loss': 24577.852013671876, 'actor_loss': 198.17781170654297, 'time_step': 0.0069762194156646725, 'rollout_return': 14.915492957746478, 'evaluation': 15.6} step=11000\n",
      "2022-06-02 12:43.18 [info     ] Model parameters are saved to d3rlpy_logs/SAC_online_20220602124140/model_12000.pt\n",
      "2022-06-02 12:43.18 [info     ] SAC_online_20220602124140: epoch=12 step=12000 epoch=12 metrics={'time_inference': 0.0005692949295043945, 'time_environment_step': 0.0006563351154327393, 'time_sample_batch': 0.0002663438320159912, 'time_algorithm_update': 0.005370957136154175, 'temp_loss': -67.15488945960999, 'temp': 26.792762720108033, 'critic_loss': 55056.083765625, 'actor_loss': 298.0508996887207, 'time_step': 0.0069279570579528806, 'rollout_return': 14.28169014084507, 'evaluation': 15.5} step=12000\n",
      "2022-06-02 12:43.25 [info     ] Model parameters are saved to d3rlpy_logs/SAC_online_20220602124140/model_13000.pt\n",
      "2022-06-02 12:43.25 [info     ] SAC_online_20220602124140: epoch=13 step=13000 epoch=13 metrics={'time_inference': 0.0005921871662139893, 'time_environment_step': 0.0006875758171081543, 'time_sample_batch': 0.0002805912494659424, 'time_algorithm_update': 0.005566166400909424, 'temp_loss': -98.49057709884643, 'temp': 39.775900520324704, 'critic_loss': 119693.4793984375, 'actor_loss': 444.0158505859375, 'time_step': 0.007195954084396362, 'rollout_return': 14.30281690140845, 'evaluation': 14.8} step=13000\n",
      "2022-06-02 12:43.33 [info     ] Model parameters are saved to d3rlpy_logs/SAC_online_20220602124140/model_14000.pt\n",
      "2022-06-02 12:43.33 [info     ] SAC_online_20220602124140: epoch=14 step=14000 epoch=14 metrics={'time_inference': 0.0005737395286560059, 'time_environment_step': 0.0006625716686248779, 'time_sample_batch': 0.0002693808078765869, 'time_algorithm_update': 0.0053989443778991696, 'temp_loss': -146.84664990234376, 'temp': 58.899232654571534, 'critic_loss': 261067.23925, 'actor_loss': 658.6422450256348, 'time_step': 0.006971316576004028, 'rollout_return': 15.028169014084508, 'evaluation': 14.5} step=14000\n",
      "2022-06-02 12:43.40 [info     ] Model parameters are saved to d3rlpy_logs/SAC_online_20220602124140/model_15000.pt\n",
      "2022-06-02 12:43.40 [info     ] SAC_online_20220602124140: epoch=15 step=15000 epoch=15 metrics={'time_inference': 0.0005766448974609375, 'time_environment_step': 0.0006718857288360595, 'time_sample_batch': 0.0002743403911590576, 'time_algorithm_update': 0.0054576008319854735, 'temp_loss': -217.13997128868104, 'temp': 87.22907117462158, 'critic_loss': 577401.910703125, 'actor_loss': 979.6612484741211, 'time_step': 0.007048107624053955, 'rollout_return': 14.859154929577464, 'evaluation': 15.6} step=15000\n",
      "2022-06-02 12:43.47 [info     ] Model parameters are saved to d3rlpy_logs/SAC_online_20220602124140/model_16000.pt\n",
      "2022-06-02 12:43.47 [info     ] SAC_online_20220602124140: epoch=16 step=16000 epoch=16 metrics={'time_inference': 0.0005967299938201905, 'time_environment_step': 0.0006880583763122558, 'time_sample_batch': 0.00028260278701782224, 'time_algorithm_update': 0.005628716945648193, 'temp_loss': -316.21532625389096, 'temp': 128.645546043396, 'critic_loss': 1232935.569796875, 'actor_loss': 1434.972762573242, 'time_step': 0.007265873670578003, 'rollout_return': 15.028169014084508, 'evaluation': 15.6} step=16000\n",
      "2022-06-02 12:43.56 [info     ] Model parameters are saved to d3rlpy_logs/SAC_online_20220602124140/model_17000.pt\n",
      "2022-06-02 12:43.56 [info     ] SAC_online_20220602124140: epoch=17 step=17000 epoch=17 metrics={'time_inference': 0.0006678211688995362, 'time_environment_step': 0.0007627906799316407, 'time_sample_batch': 0.000320509672164917, 'time_algorithm_update': 0.006355664491653442, 'temp_loss': -466.6132324523926, 'temp': 190.03103355407714, 'critic_loss': 2695746.622125, 'actor_loss': 2124.2962498779298, 'time_step': 0.008185664415359497, 'rollout_return': 14.76056338028169, 'evaluation': 13.7} step=17000\n",
      "2022-06-02 12:44.04 [info     ] Model parameters are saved to d3rlpy_logs/SAC_online_20220602124140/model_18000.pt\n",
      "2022-06-02 12:44.04 [info     ] SAC_online_20220602124140: epoch=18 step=18000 epoch=18 metrics={'time_inference': 0.0006729178428649902, 'time_environment_step': 0.0007667038440704346, 'time_sample_batch': 0.0003226921558380127, 'time_algorithm_update': 0.006284072399139405, 'temp_loss': -690.3362166137696, 'temp': 281.00627082824707, 'critic_loss': 5930660.25925, 'actor_loss': 3128.448747314453, 'time_step': 0.008125343322753907, 'rollout_return': 14.169014084507042, 'evaluation': 13.9} step=18000\n",
      "2022-06-02 12:44.12 [info     ] Model parameters are saved to d3rlpy_logs/SAC_online_20220602124140/model_19000.pt\n",
      "2022-06-02 12:44.12 [info     ] SAC_online_20220602124140: epoch=19 step=19000 epoch=19 metrics={'time_inference': 0.0006713781356811523, 'time_environment_step': 0.0007692723274230957, 'time_sample_batch': 0.00032442569732666016, 'time_algorithm_update': 0.006328937530517578, 'temp_loss': -1031.4219639587402, 'temp': 416.8912395019531, 'critic_loss': 13014739.284, 'actor_loss': 4629.358356933593, 'time_step': 0.008172511339187623, 'rollout_return': 15.028169014084508, 'evaluation': 16.7} step=19000\n",
      "2022-06-02 12:44.21 [info     ] Model parameters are saved to d3rlpy_logs/SAC_online_20220602124140/model_20000.pt\n",
      "2022-06-02 12:44.21 [info     ] SAC_online_20220602124140: epoch=20 step=20000 epoch=20 metrics={'time_inference': 0.0006717894077301025, 'time_environment_step': 0.0007671425342559814, 'time_sample_batch': 0.00032328009605407714, 'time_algorithm_update': 0.006356274366378784, 'temp_loss': -1500.3075252075196, 'temp': 615.749332458496, 'critic_loss': 28098423.564, 'actor_loss': 6778.753569824219, 'time_step': 0.00819709300994873, 'rollout_return': 14.873239436619718, 'evaluation': 14.1} step=20000\n",
      "2022-06-02 12:44.29 [info     ] Model parameters are saved to d3rlpy_logs/SAC_online_20220602124140/model_21000.pt\n",
      "2022-06-02 12:44.29 [info     ] SAC_online_20220602124140: epoch=21 step=21000 epoch=21 metrics={'time_inference': 0.0006734447479248047, 'time_environment_step': 0.0007668874263763428, 'time_sample_batch': 0.00032126140594482424, 'time_algorithm_update': 0.006317812442779541, 'temp_loss': -2226.2805360107423, 'temp': 911.875169494629, 'critic_loss': 61828799.488, 'actor_loss': 10077.372187988281, 'time_step': 0.00815837025642395, 'rollout_return': 14.330985915492958, 'evaluation': 16.0} step=21000\n",
      "2022-06-02 12:44.38 [info     ] Model parameters are saved to d3rlpy_logs/SAC_online_20220602124140/model_22000.pt\n",
      "2022-06-02 12:44.38 [info     ] SAC_online_20220602124140: epoch=22 step=22000 epoch=22 metrics={'time_inference': 0.0006798632144927978, 'time_environment_step': 0.0007723548412322998, 'time_sample_batch': 0.0003258059024810791, 'time_algorithm_update': 0.006347325086593628, 'temp_loss': -1177.1799593429566, 'temp': 1289.4240192871093, 'critic_loss': 75718228.501, 'actor_loss': 10222.643196777344, 'time_step': 0.00820483422279358, 'rollout_return': 14.647887323943662, 'evaluation': 14.5} step=22000\n",
      "2022-06-02 12:44.46 [info     ] Model parameters are saved to d3rlpy_logs/SAC_online_20220602124140/model_23000.pt\n",
      "2022-06-02 12:44.46 [info     ] SAC_online_20220602124140: epoch=23 step=23000 epoch=23 metrics={'time_inference': 0.0006581885814666748, 'time_environment_step': 0.0007541656494140625, 'time_sample_batch': 0.000316281795501709, 'time_algorithm_update': 0.006165899991989136, 'temp_loss': 1846.516155029297, 'temp': 1144.0580174560546, 'critic_loss': 2974093.77021875, 'actor_loss': 194.03294839954376, 'time_step': 0.007972756624221802, 'rollout_return': 14.577464788732394, 'evaluation': 14.1} step=23000\n",
      "2022-06-02 12:44.54 [info     ] Model parameters are saved to d3rlpy_logs/SAC_online_20220602124140/model_24000.pt\n",
      "2022-06-02 12:44.54 [info     ] SAC_online_20220602124140: epoch=24 step=24000 epoch=24 metrics={'time_inference': 0.0006892192363739014, 'time_environment_step': 0.0007808339595794677, 'time_sample_batch': 0.00033042383193969724, 'time_algorithm_update': 0.006440985441207886, 'temp_loss': 1462.6927113647462, 'temp': 898.4372282104492, 'critic_loss': 516859.5286328125, 'actor_loss': -1240.5816997680663, 'time_step': 0.008322674036026, 'rollout_return': 14.035211267605634, 'evaluation': 15.2} step=24000\n",
      "2022-06-02 12:45.03 [info     ] Model parameters are saved to d3rlpy_logs/SAC_online_20220602124140/model_25000.pt\n",
      "2022-06-02 12:45.03 [info     ] SAC_online_20220602124140: epoch=25 step=25000 epoch=25 metrics={'time_inference': 0.0006851778030395508, 'time_environment_step': 0.000776930570602417, 'time_sample_batch': 0.00032542157173156736, 'time_algorithm_update': 0.006462780952453613, 'temp_loss': 1162.766894958496, 'temp': 712.4631784667969, 'critic_loss': 322077.7349453125, 'actor_loss': -1258.1389517211915, 'time_step': 0.008332292079925536, 'rollout_return': 14.316901408450704, 'evaluation': 12.8} step=25000\n",
      "2022-06-02 12:45.12 [info     ] Model parameters are saved to d3rlpy_logs/SAC_online_20220602124140/model_26000.pt\n",
      "2022-06-02 12:45.12 [info     ] SAC_online_20220602124140: epoch=26 step=26000 epoch=26 metrics={'time_inference': 0.0007182035446166992, 'time_environment_step': 0.0007894065380096435, 'time_sample_batch': 0.0003302199840545654, 'time_algorithm_update': 0.0065092148780822754, 'temp_loss': 924.8853143005371, 'temp': 567.7927905578613, 'critic_loss': 217424.84640234374, 'actor_loss': -1039.8573279113768, 'time_step': 0.008429545164108276, 'rollout_return': 14.232394366197184, 'evaluation': 15.2} step=26000\n",
      "2022-06-02 12:45.20 [info     ] Model parameters are saved to d3rlpy_logs/SAC_online_20220602124140/model_27000.pt\n",
      "2022-06-02 12:45.20 [info     ] SAC_online_20220602124140: epoch=27 step=27000 epoch=27 metrics={'time_inference': 0.0006469979286193848, 'time_environment_step': 0.0007471437454223633, 'time_sample_batch': 0.00030832529067993165, 'time_algorithm_update': 0.006113034009933471, 'temp_loss': 740.5786930541992, 'temp': 453.3687946472168, 'critic_loss': 119794.602375, 'actor_loss': -828.8664283447266, 'time_step': 0.00789171814918518, 'rollout_return': 14.246478873239436, 'evaluation': 15.8} step=27000\n",
      "2022-06-02 12:45.27 [info     ] Model parameters are saved to d3rlpy_logs/SAC_online_20220602124140/model_28000.pt\n",
      "2022-06-02 12:45.27 [info     ] SAC_online_20220602124140: epoch=28 step=28000 epoch=28 metrics={'time_inference': 0.0006191830635070801, 'time_environment_step': 0.0007155683040618897, 'time_sample_batch': 0.0002902028560638428, 'time_algorithm_update': 0.005806286573410034, 'temp_loss': 595.8440183410645, 'temp': 361.99877310180665, 'critic_loss': 78259.47706640625, 'actor_loss': -668.0670749511719, 'time_step': 0.0075042335987091065, 'rollout_return': 14.028169014084508, 'evaluation': 15.4} step=28000\n",
      "2022-06-02 12:45.38 [info     ] Model parameters are saved to d3rlpy_logs/SAC_online_20220602124140/model_29000.pt\n",
      "2022-06-02 12:45.38 [info     ] SAC_online_20220602124140: epoch=29 step=29000 epoch=29 metrics={'time_inference': 0.0007082726955413818, 'time_environment_step': 0.0008264269828796387, 'time_sample_batch': 0.0003671607971191406, 'time_algorithm_update': 0.008343862056732178, 'temp_loss': 473.6091396789551, 'temp': 289.2112296447754, 'critic_loss': 47143.83511425781, 'actor_loss': -528.2999081420899, 'time_step': 0.010328479766845703, 'rollout_return': 14.52112676056338, 'evaluation': 15.2} step=29000\n",
      "2022-06-02 12:45.49 [info     ] Model parameters are saved to d3rlpy_logs/SAC_online_20220602124140/model_30000.pt\n",
      "2022-06-02 12:45.49 [info     ] SAC_online_20220602124140: epoch=30 step=30000 epoch=30 metrics={'time_inference': 0.00073769211769104, 'time_environment_step': 0.0008986103534698487, 'time_sample_batch': 0.00037132906913757327, 'time_algorithm_update': 0.008371769428253174, 'temp_loss': 378.84868264770506, 'temp': 231.280638961792, 'critic_loss': 28993.162340820312, 'actor_loss': -420.0226265106201, 'time_step': 0.01046359610557556, 'rollout_return': 14.556338028169014, 'evaluation': 15.2} step=30000\n",
      "2022-06-02 12:45.59 [info     ] Model parameters are saved to d3rlpy_logs/SAC_online_20220602124140/model_31000.pt\n",
      "2022-06-02 12:45.59 [info     ] SAC_online_20220602124140: epoch=31 step=31000 epoch=31 metrics={'time_inference': 0.000716493844985962, 'time_environment_step': 0.0008906517028808594, 'time_sample_batch': 0.00037363600730895997, 'time_algorithm_update': 0.008405416488647462, 'temp_loss': 304.2635708312988, 'temp': 184.83029615783693, 'critic_loss': 16831.935319824217, 'actor_loss': -341.4765319519043, 'time_step': 0.010471189022064209, 'rollout_return': 14.56338028169014, 'evaluation': 13.6} step=31000\n",
      "2022-06-02 12:46.07 [info     ] Model parameters are saved to d3rlpy_logs/SAC_online_20220602124140/model_32000.pt\n",
      "2022-06-02 12:46.07 [info     ] SAC_online_20220602124140: epoch=32 step=32000 epoch=32 metrics={'time_inference': 0.0006322448253631592, 'time_environment_step': 0.000722459077835083, 'time_sample_batch': 0.0003001978397369385, 'time_algorithm_update': 0.0060815663337707515, 'temp_loss': 242.00222686767577, 'temp': 147.83312295532227, 'critic_loss': 10117.619993408203, 'actor_loss': -269.8399504089355, 'time_step': 0.007808009624481201, 'rollout_return': 14.514084507042254, 'evaluation': 14.7} step=32000\n",
      "2022-06-02 12:46.15 [info     ] Model parameters are saved to d3rlpy_logs/SAC_online_20220602124140/model_33000.pt\n",
      "2022-06-02 12:46.15 [info     ] SAC_online_20220602124140: epoch=33 step=33000 epoch=33 metrics={'time_inference': 0.000607252836227417, 'time_environment_step': 0.0007053050994873047, 'time_sample_batch': 0.00028638219833374023, 'time_algorithm_update': 0.005669538497924805, 'temp_loss': 194.0875343017578, 'temp': 118.20710339355469, 'critic_loss': 5125.174820800781, 'actor_loss': -218.5559324645996, 'time_step': 0.007340164661407471, 'rollout_return': 14.274647887323944, 'evaluation': 14.3} step=33000\n",
      "2022-06-02 12:46.25 [info     ] Model parameters are saved to d3rlpy_logs/SAC_online_20220602124140/model_34000.pt\n",
      "2022-06-02 12:46.25 [info     ] SAC_online_20220602124140: epoch=34 step=34000 epoch=34 metrics={'time_inference': 0.0006810243129730224, 'time_environment_step': 0.0007980432510375976, 'time_sample_batch': 0.0003148210048675537, 'time_algorithm_update': 0.007525981664657593, 'temp_loss': 154.50292500305176, 'temp': 94.56940892028808, 'critic_loss': 3598.6071369628908, 'actor_loss': -172.9194521484375, 'time_step': 0.00940079402923584, 'rollout_return': 14.274647887323944, 'evaluation': 12.0} step=34000\n",
      "2022-06-02 12:46.36 [info     ] Model parameters are saved to d3rlpy_logs/SAC_online_20220602124140/model_35000.pt\n",
      "2022-06-02 12:46.36 [info     ] SAC_online_20220602124140: epoch=35 step=35000 epoch=35 metrics={'time_inference': 0.0008641040325164795, 'time_environment_step': 0.001000046730041504, 'time_sample_batch': 0.00042345356941223146, 'time_algorithm_update': 0.008902506113052369, 'temp_loss': 123.69095977020264, 'temp': 75.65739018249512, 'critic_loss': 2340.9990535888674, 'actor_loss': -137.9854088897705, 'time_step': 0.011287657976150512, 'rollout_return': 14.211267605633802, 'evaluation': 12.2} step=35000\n",
      "2022-06-02 12:46.48 [info     ] Model parameters are saved to d3rlpy_logs/SAC_online_20220602124140/model_36000.pt\n",
      "2022-06-02 12:46.48 [info     ] SAC_online_20220602124140: epoch=36 step=36000 epoch=36 metrics={'time_inference': 0.0007921874523162842, 'time_environment_step': 0.0009568688869476318, 'time_sample_batch': 0.00041098809242248534, 'time_algorithm_update': 0.008997258424758911, 'temp_loss': 99.87871820831299, 'temp': 60.46749634170532, 'critic_loss': 1250.2362376708984, 'actor_loss': -112.08980564117432, 'time_step': 0.011257094621658326, 'rollout_return': 14.295774647887324, 'evaluation': 14.8} step=36000\n",
      "2022-06-02 12:47.00 [info     ] Model parameters are saved to d3rlpy_logs/SAC_online_20220602124140/model_37000.pt\n",
      "2022-06-02 12:47.00 [info     ] SAC_online_20220602124140: epoch=37 step=37000 epoch=37 metrics={'time_inference': 0.0007551653385162354, 'time_environment_step': 0.0009350030422210693, 'time_sample_batch': 0.00038213276863098143, 'time_algorithm_update': 0.009595089673995971, 'temp_loss': 79.18679064941406, 'temp': 48.34336275100708, 'critic_loss': 968.4995317687989, 'actor_loss': -88.77493347549438, 'time_step': 0.0117558491230011, 'rollout_return': 14.330985915492958, 'evaluation': 14.5} step=37000\n",
      "2022-06-02 12:47.10 [info     ] Model parameters are saved to d3rlpy_logs/SAC_online_20220602124140/model_38000.pt\n",
      "2022-06-02 12:47.10 [info     ] SAC_online_20220602124140: epoch=38 step=38000 epoch=38 metrics={'time_inference': 0.000723142147064209, 'time_environment_step': 0.0009000823497772217, 'time_sample_batch': 0.00038381552696228026, 'time_algorithm_update': 0.008021232843399048, 'temp_loss': 63.00915072250366, 'temp': 38.67332174682617, 'critic_loss': 698.6128310852051, 'actor_loss': -70.69352437400818, 'time_step': 0.010114595651626587, 'rollout_return': 13.908450704225352, 'evaluation': 14.9} step=38000\n",
      "2022-06-02 12:47.22 [info     ] Model parameters are saved to d3rlpy_logs/SAC_online_20220602124140/model_39000.pt\n",
      "2022-06-02 12:47.22 [info     ] SAC_online_20220602124140: epoch=39 step=39000 epoch=39 metrics={'time_inference': 0.0008156633377075195, 'time_environment_step': 0.001020099401473999, 'time_sample_batch': 0.0004171645641326904, 'time_algorithm_update': 0.009533172130584716, 'temp_loss': 50.85039886856079, 'temp': 30.950230619430542, 'critic_loss': 376.1315554199219, 'actor_loss': -58.51206430435181, 'time_step': 0.011881322145462036, 'rollout_return': 14.295774647887324, 'evaluation': 13.9} step=39000\n",
      "2022-06-02 12:47.33 [info     ] Model parameters are saved to d3rlpy_logs/SAC_online_20220602124140/model_40000.pt\n",
      "2022-06-02 12:47.33 [info     ] SAC_online_20220602124140: epoch=40 step=40000 epoch=40 metrics={'time_inference': 0.0007543792724609375, 'time_environment_step': 0.0009232823848724365, 'time_sample_batch': 0.00040946602821350097, 'time_algorithm_update': 0.008708274602890014, 'temp_loss': 40.356467193603514, 'temp': 24.75505613899231, 'critic_loss': 320.3253331680298, 'actor_loss': -46.9480813369751, 'time_step': 0.010882810592651367, 'rollout_return': 14.105633802816902, 'evaluation': 15.6} step=40000\n",
      "2022-06-02 12:47.43 [info     ] Model parameters are saved to d3rlpy_logs/SAC_online_20220602124140/model_41000.pt\n",
      "2022-06-02 12:47.43 [info     ] SAC_online_20220602124140: epoch=41 step=41000 epoch=41 metrics={'time_inference': 0.000726043701171875, 'time_environment_step': 0.0008737695217132568, 'time_sample_batch': 0.00038048529624938967, 'time_algorithm_update': 0.007572307825088501, 'temp_loss': 32.54953124427795, 'temp': 19.78986406326294, 'critic_loss': 189.94022799682617, 'actor_loss': -39.12278551483154, 'time_step': 0.009637045621871948, 'rollout_return': 14.654929577464788, 'evaluation': 13.4} step=41000\n",
      "2022-06-02 12:47.54 [info     ] Model parameters are saved to d3rlpy_logs/SAC_online_20220602124140/model_42000.pt\n",
      "2022-06-02 12:47.54 [info     ] SAC_online_20220602124140: epoch=42 step=42000 epoch=42 metrics={'time_inference': 0.0007563745975494385, 'time_environment_step': 0.0009295930862426758, 'time_sample_batch': 0.00037589192390441895, 'time_algorithm_update': 0.008318586587905883, 'temp_loss': 25.89953039932251, 'temp': 15.818684461593628, 'critic_loss': 149.95557861328126, 'actor_loss': -31.92007834815979, 'time_step': 0.01046977424621582, 'rollout_return': 14.288732394366198, 'evaluation': 15.0} step=42000\n",
      "2022-06-02 12:48.03 [info     ] Model parameters are saved to d3rlpy_logs/SAC_online_20220602124140/model_43000.pt\n",
      "2022-06-02 12:48.03 [info     ] SAC_online_20220602124140: epoch=43 step=43000 epoch=43 metrics={'time_inference': 0.0006844580173492431, 'time_environment_step': 0.0007996766567230225, 'time_sample_batch': 0.00033319973945617674, 'time_algorithm_update': 0.00649798583984375, 'temp_loss': 20.592522751808165, 'temp': 12.658649374961852, 'critic_loss': 121.16403359985351, 'actor_loss': -26.055444561958314, 'time_step': 0.008396745204925537, 'rollout_return': 13.746478873239436, 'evaluation': 15.6} step=43000\n",
      "2022-06-02 12:48.10 [info     ] Model parameters are saved to d3rlpy_logs/SAC_online_20220602124140/model_44000.pt\n",
      "2022-06-02 12:48.10 [info     ] SAC_online_20220602124140: epoch=44 step=44000 epoch=44 metrics={'time_inference': 0.000582235336303711, 'time_environment_step': 0.0006685166358947754, 'time_sample_batch': 0.00027385854721069335, 'time_algorithm_update': 0.005512620687484741, 'temp_loss': 16.586159516334533, 'temp': 10.12745927619934, 'critic_loss': 85.91997267532349, 'actor_loss': -21.91829881477356, 'time_step': 0.007104474067687988, 'rollout_return': 14.338028169014084, 'evaluation': 13.4} step=44000\n",
      "2022-06-02 12:48.17 [info     ] Model parameters are saved to d3rlpy_logs/SAC_online_20220602124140/model_45000.pt\n",
      "2022-06-02 12:48.17 [info     ] SAC_online_20220602124140: epoch=45 step=45000 epoch=45 metrics={'time_inference': 0.0005947811603546143, 'time_environment_step': 0.0007007317543029785, 'time_sample_batch': 0.0002833182811737061, 'time_algorithm_update': 0.005608039140701294, 'temp_loss': 13.275978380203247, 'temp': 8.096132035255431, 'critic_loss': 64.32821788024903, 'actor_loss': -18.591027671813965, 'time_step': 0.0072589051723480225, 'rollout_return': 14.140845070422536, 'evaluation': 12.8} step=45000\n",
      "2022-06-02 12:48.24 [info     ] Model parameters are saved to d3rlpy_logs/SAC_online_20220602124140/model_46000.pt\n",
      "2022-06-02 12:48.24 [info     ] SAC_online_20220602124140: epoch=46 step=46000 epoch=46 metrics={'time_inference': 0.0005689187049865722, 'time_environment_step': 0.0006549084186553956, 'time_sample_batch': 0.00026730751991271975, 'time_algorithm_update': 0.005395172357559204, 'temp_loss': 10.57763339805603, 'temp': 6.473561891078949, 'critic_loss': 68.37083354949951, 'actor_loss': -15.332121330082417, 'time_step': 0.006952333211898804, 'rollout_return': 14.711267605633802, 'evaluation': 14.0} step=46000\n",
      "2022-06-02 12:48.32 [info     ] Model parameters are saved to d3rlpy_logs/SAC_online_20220602124140/model_47000.pt\n",
      "2022-06-02 12:48.32 [info     ] SAC_online_20220602124140: epoch=47 step=47000 epoch=47 metrics={'time_inference': 0.0005722653865814209, 'time_environment_step': 0.0006570816040039062, 'time_sample_batch': 0.0002683284282684326, 'time_algorithm_update': 0.005428125143051147, 'temp_loss': 8.475734537124634, 'temp': 5.177009256362915, 'critic_loss': 48.323971431732176, 'actor_loss': -13.142285838127137, 'time_step': 0.006992518186569214, 'rollout_return': 14.788732394366198, 'evaluation': 14.2} step=47000\n",
      "2022-06-02 12:48.39 [info     ] Model parameters are saved to d3rlpy_logs/SAC_online_20220602124140/model_48000.pt\n",
      "2022-06-02 12:48.39 [info     ] SAC_online_20220602124140: epoch=48 step=48000 epoch=48 metrics={'time_inference': 0.0005775396823883057, 'time_environment_step': 0.0006655383110046386, 'time_sample_batch': 0.0002699258327484131, 'time_algorithm_update': 0.005463487386703491, 'temp_loss': 6.74024631690979, 'temp': 4.142227262973785, 'critic_loss': 47.75792960357666, 'actor_loss': -11.087007498443127, 'time_step': 0.007043354749679566, 'rollout_return': 14.21830985915493, 'evaluation': 13.0} step=48000\n",
      "2022-06-02 12:48.46 [info     ] Model parameters are saved to d3rlpy_logs/SAC_online_20220602124140/model_49000.pt\n",
      "2022-06-02 12:48.46 [info     ] SAC_online_20220602124140: epoch=49 step=49000 epoch=49 metrics={'time_inference': 0.000567166805267334, 'time_environment_step': 0.000653480052947998, 'time_sample_batch': 0.0002658078670501709, 'time_algorithm_update': 0.005387553453445435, 'temp_loss': 5.419753280162811, 'temp': 3.3131351289749147, 'critic_loss': 38.16568412971497, 'actor_loss': -9.574364085674286, 'time_step': 0.006940299749374389, 'rollout_return': 14.267605633802816, 'evaluation': 12.1} step=49000\n",
      "2022-06-02 12:48.53 [info     ] Model parameters are saved to d3rlpy_logs/SAC_online_20220602124140/model_50000.pt\n",
      "2022-06-02 12:48.53 [info     ] SAC_online_20220602124140: epoch=50 step=50000 epoch=50 metrics={'time_inference': 0.0005852119922637939, 'time_environment_step': 0.0006728403568267823, 'time_sample_batch': 0.00027468633651733397, 'time_algorithm_update': 0.005489446640014648, 'temp_loss': 4.320362709760666, 'temp': 2.6492544379234313, 'critic_loss': 35.89471896743775, 'actor_loss': -8.219052183397114, 'time_step': 0.007090816259384155, 'rollout_return': 14.753521126760564, 'evaluation': 14.5} step=50000\n",
      "2022-06-02 12:49.00 [info     ] Model parameters are saved to d3rlpy_logs/SAC_online_20220602124140/model_51000.pt\n",
      "2022-06-02 12:49.00 [info     ] SAC_online_20220602124140: epoch=51 step=51000 epoch=51 metrics={'time_inference': 0.0005697298049926758, 'time_environment_step': 0.0006707901954650879, 'time_sample_batch': 0.00026785850524902344, 'time_algorithm_update': 0.005396038770675659, 'temp_loss': 3.4435071704387665, 'temp': 2.1207433837652205, 'critic_loss': 34.92093480968475, 'actor_loss': -7.088260650366545, 'time_step': 0.006971115827560425, 'rollout_return': 14.007042253521126, 'evaluation': 13.9} step=51000\n",
      "2022-06-02 12:49.08 [info     ] Model parameters are saved to d3rlpy_logs/SAC_online_20220602124140/model_52000.pt\n",
      "2022-06-02 12:49.08 [info     ] SAC_online_20220602124140: epoch=52 step=52000 epoch=52 metrics={'time_inference': 0.0005690152645111084, 'time_environment_step': 0.0006561086177825927, 'time_sample_batch': 0.0002664766311645508, 'time_algorithm_update': 0.00539331316947937, 'temp_loss': 2.7376095955371857, 'temp': 1.696754109621048, 'critic_loss': 32.50230179405212, 'actor_loss': -6.335685406565666, 'time_step': 0.006950855255126953, 'rollout_return': 14.105633802816902, 'evaluation': 14.2} step=52000\n",
      "2022-06-02 12:49.15 [info     ] Model parameters are saved to d3rlpy_logs/SAC_online_20220602124140/model_53000.pt\n",
      "2022-06-02 12:49.15 [info     ] SAC_online_20220602124140: epoch=53 step=53000 epoch=53 metrics={'time_inference': 0.0005765104293823242, 'time_environment_step': 0.0006646032333374023, 'time_sample_batch': 0.0002717792987823486, 'time_algorithm_update': 0.0054652953147888185, 'temp_loss': 2.180668211340904, 'temp': 1.3595627714395524, 'critic_loss': 30.098877685546874, 'actor_loss': -5.676667281895876, 'time_step': 0.007045852899551392, 'rollout_return': 14.612676056338028, 'evaluation': 16.5} step=53000\n",
      "2022-06-02 12:49.22 [info     ] Model parameters are saved to d3rlpy_logs/SAC_online_20220602124140/model_54000.pt\n",
      "2022-06-02 12:49.22 [info     ] SAC_online_20220602124140: epoch=54 step=54000 epoch=54 metrics={'time_inference': 0.0005797352790832519, 'time_environment_step': 0.0006664597988128662, 'time_sample_batch': 0.0002730474472045898, 'time_algorithm_update': 0.005520068645477295, 'temp_loss': 1.722829614162445, 'temp': 1.0895049268007277, 'critic_loss': 26.46947486305237, 'actor_loss': -5.053061204753816, 'time_step': 0.007106865644454956, 'rollout_return': 13.816901408450704, 'evaluation': 15.2} step=54000\n",
      "2022-06-02 12:49.29 [info     ] Model parameters are saved to d3rlpy_logs/SAC_online_20220602124140/model_55000.pt\n",
      "2022-06-02 12:49.29 [info     ] SAC_online_20220602124140: epoch=55 step=55000 epoch=55 metrics={'time_inference': 0.0005609478950500488, 'time_environment_step': 0.000643242359161377, 'time_sample_batch': 0.0002629420757293701, 'time_algorithm_update': 0.005320029973983765, 'temp_loss': 1.3622810516357422, 'temp': 0.8739543575048446, 'critic_loss': 26.262142543792724, 'actor_loss': -4.450843587532639, 'time_step': 0.006851644277572632, 'rollout_return': 14.309859154929578, 'evaluation': 12.7} step=55000\n",
      "2022-06-02 12:49.36 [info     ] Model parameters are saved to d3rlpy_logs/SAC_online_20220602124140/model_56000.pt\n",
      "2022-06-02 12:49.36 [info     ] SAC_online_20220602124140: epoch=56 step=56000 epoch=56 metrics={'time_inference': 0.0005839509963989258, 'time_environment_step': 0.0006707620620727539, 'time_sample_batch': 0.0002731959819793701, 'time_algorithm_update': 0.0054982399940490725, 'temp_loss': 1.0699714985489845, 'temp': 0.7022755858898163, 'critic_loss': 24.80740245246887, 'actor_loss': -4.1492714614793655, 'time_step': 0.007094014167785645, 'rollout_return': 14.859154929577464, 'evaluation': 15.2} step=56000\n",
      "2022-06-02 12:49.44 [info     ] Model parameters are saved to d3rlpy_logs/SAC_online_20220602124140/model_57000.pt\n",
      "2022-06-02 12:49.44 [info     ] SAC_online_20220602124140: epoch=57 step=57000 epoch=57 metrics={'time_inference': 0.0005724387168884277, 'time_environment_step': 0.0006621155738830566, 'time_sample_batch': 0.0002706954479217529, 'time_algorithm_update': 0.005447654962539673, 'temp_loss': 0.8446198739409446, 'temp': 0.5643637014031411, 'critic_loss': 23.555064374923706, 'actor_loss': -3.850516380801797, 'time_step': 0.007020020484924316, 'rollout_return': 14.626760563380282, 'evaluation': 13.9} step=57000\n",
      "2022-06-02 12:49.51 [info     ] Model parameters are saved to d3rlpy_logs/SAC_online_20220602124140/model_58000.pt\n",
      "2022-06-02 12:49.51 [info     ] SAC_online_20220602124140: epoch=58 step=58000 epoch=58 metrics={'time_inference': 0.000595412015914917, 'time_environment_step': 0.0006948375701904297, 'time_sample_batch': 0.00028067898750305174, 'time_algorithm_update': 0.005631001710891724, 'temp_loss': 0.6599267545342445, 'temp': 0.4540690353512764, 'critic_loss': 21.063296576023102, 'actor_loss': -3.5554675654508174, 'time_step': 0.007272987604141235, 'rollout_return': 14.605633802816902, 'evaluation': 15.4} step=58000\n",
      "2022-06-02 12:49.59 [info     ] Model parameters are saved to d3rlpy_logs/SAC_online_20220602124140/model_59000.pt\n",
      "2022-06-02 12:49.59 [info     ] SAC_online_20220602124140: epoch=59 step=59000 epoch=59 metrics={'time_inference': 0.0006279840469360352, 'time_environment_step': 0.0007432475090026855, 'time_sample_batch': 0.00030203866958618166, 'time_algorithm_update': 0.0059455099105834965, 'temp_loss': 0.4978639198243618, 'temp': 0.36672278213500975, 'critic_loss': 22.62402089691162, 'actor_loss': -3.3306709244810047, 'time_step': 0.007695737361907959, 'rollout_return': 14.830985915492958, 'evaluation': 13.8} step=59000\n",
      "2022-06-02 12:50.07 [info     ] Model parameters are saved to d3rlpy_logs/SAC_online_20220602124140/model_60000.pt\n",
      "2022-06-02 12:50.07 [info     ] SAC_online_20220602124140: epoch=60 step=60000 epoch=60 metrics={'time_inference': 0.0006128857135772705, 'time_environment_step': 0.0007114648818969726, 'time_sample_batch': 0.0002883923053741455, 'time_algorithm_update': 0.005783825397491455, 'temp_loss': 0.3621381152570248, 'temp': 0.29986735224723815, 'critic_loss': 22.30521500778198, 'actor_loss': -3.2337410345822573, 'time_step': 0.007469748735427857, 'rollout_return': 15.084507042253522, 'evaluation': 16.2} step=60000\n",
      "2022-06-02 12:50.14 [info     ] Model parameters are saved to d3rlpy_logs/SAC_online_20220602124140/model_61000.pt\n",
      "2022-06-02 12:50.14 [info     ] SAC_online_20220602124140: epoch=61 step=61000 epoch=61 metrics={'time_inference': 0.0005951075553894043, 'time_environment_step': 0.0006954073905944824, 'time_sample_batch': 0.000281834602355957, 'time_algorithm_update': 0.00562946605682373, 'temp_loss': 0.28909641806781294, 'temp': 0.24404759661853315, 'critic_loss': 20.765000593185423, 'actor_loss': -2.923928935436532, 'time_step': 0.007272602558135987, 'rollout_return': 14.450704225352112, 'evaluation': 14.1} step=61000\n",
      "2022-06-02 12:50.22 [info     ] Model parameters are saved to d3rlpy_logs/SAC_online_20220602124140/model_62000.pt\n",
      "2022-06-02 12:50.22 [info     ] SAC_online_20220602124140: epoch=62 step=62000 epoch=62 metrics={'time_inference': 0.0006106734275817871, 'time_environment_step': 0.0007103505134582519, 'time_sample_batch': 0.00028827762603759766, 'time_algorithm_update': 0.005797505855560303, 'temp_loss': 0.22691380087286234, 'temp': 0.19798937426507474, 'critic_loss': 18.980193203926085, 'actor_loss': -2.8503360098190607, 'time_step': 0.007479433536529541, 'rollout_return': 14.345070422535212, 'evaluation': 12.3} step=62000\n",
      "2022-06-02 12:50.29 [info     ] Model parameters are saved to d3rlpy_logs/SAC_online_20220602124140/model_63000.pt\n",
      "2022-06-02 12:50.29 [info     ] SAC_online_20220602124140: epoch=63 step=63000 epoch=63 metrics={'time_inference': 0.00060296630859375, 'time_environment_step': 0.0006984481811523437, 'time_sample_batch': 0.0002857217788696289, 'time_algorithm_update': 0.005692388772964478, 'temp_loss': 0.17374330891296266, 'temp': 0.16051635919511317, 'critic_loss': 20.843932027816773, 'actor_loss': -2.688589286681265, 'time_step': 0.007350913047790527, 'rollout_return': 14.866197183098592, 'evaluation': 13.2} step=63000\n",
      "2022-06-02 12:50.37 [info     ] Model parameters are saved to d3rlpy_logs/SAC_online_20220602124140/model_64000.pt\n",
      "2022-06-02 12:50.37 [info     ] SAC_online_20220602124140: epoch=64 step=64000 epoch=64 metrics={'time_inference': 0.0005861461162567138, 'time_environment_step': 0.0006737797260284423, 'time_sample_batch': 0.00027317070960998534, 'time_algorithm_update': 0.005534241914749146, 'temp_loss': 0.12555960682127626, 'temp': 0.13125120390206577, 'critic_loss': 22.44148193311691, 'actor_loss': -2.496966497357935, 'time_step': 0.00713569164276123, 'rollout_return': 14.415492957746478, 'evaluation': 15.4} step=64000\n",
      "2022-06-02 12:50.44 [info     ] Model parameters are saved to d3rlpy_logs/SAC_online_20220602124140/model_65000.pt\n",
      "2022-06-02 12:50.44 [info     ] SAC_online_20220602124140: epoch=65 step=65000 epoch=65 metrics={'time_inference': 0.0005954551696777344, 'time_environment_step': 0.0006935431957244873, 'time_sample_batch': 0.0002832725048065186, 'time_algorithm_update': 0.005615570783615112, 'temp_loss': 0.09673341243457981, 'temp': 0.1078785764053464, 'critic_loss': 15.360110372066497, 'actor_loss': -2.6426915711909533, 'time_step': 0.007258638143539429, 'rollout_return': 14.535211267605634, 'evaluation': 14.1} step=65000\n",
      "2022-06-02 12:50.52 [info     ] Model parameters are saved to d3rlpy_logs/SAC_online_20220602124140/model_66000.pt\n",
      "2022-06-02 12:50.52 [info     ] SAC_online_20220602124140: epoch=66 step=66000 epoch=66 metrics={'time_inference': 0.0006103315353393555, 'time_environment_step': 0.0007248752117156983, 'time_sample_batch': 0.00029481196403503417, 'time_algorithm_update': 0.005765232563018799, 'temp_loss': 0.07016997939383146, 'temp': 0.08859849330037832, 'critic_loss': 19.22277841091156, 'actor_loss': -2.493369759457186, 'time_step': 0.007470036268234253, 'rollout_return': 14.204225352112676, 'evaluation': 13.9} step=66000\n",
      "2022-06-02 12:51.00 [info     ] Model parameters are saved to d3rlpy_logs/SAC_online_20220602124140/model_67000.pt\n",
      "2022-06-02 12:51.00 [info     ] SAC_online_20220602124140: epoch=67 step=67000 epoch=67 metrics={'time_inference': 0.0006256213188171386, 'time_environment_step': 0.0007545905113220215, 'time_sample_batch': 0.00030291748046875, 'time_algorithm_update': 0.005846801519393921, 'temp_loss': 0.04625330820382806, 'temp': 0.07405026359111071, 'critic_loss': 19.271338833332063, 'actor_loss': -2.4950922155454753, 'time_step': 0.007608137607574463, 'rollout_return': 14.605633802816902, 'evaluation': 16.5} step=67000\n",
      "2022-06-02 12:51.07 [info     ] Model parameters are saved to d3rlpy_logs/SAC_online_20220602124140/model_68000.pt\n",
      "2022-06-02 12:51.07 [info     ] SAC_online_20220602124140: epoch=68 step=68000 epoch=68 metrics={'time_inference': 0.0005977818965911865, 'time_environment_step': 0.0007004358768463135, 'time_sample_batch': 0.00028314876556396486, 'time_algorithm_update': 0.0056427459716796875, 'temp_loss': 0.030038145027123393, 'temp': 0.06314823855087161, 'critic_loss': 19.77959700536728, 'actor_loss': -2.4761354015078396, 'time_step': 0.0072951197624206545, 'rollout_return': 14.415492957746478, 'evaluation': 16.4} step=68000\n",
      "2022-06-02 12:51.15 [info     ] Model parameters are saved to d3rlpy_logs/SAC_online_20220602124140/model_69000.pt\n",
      "2022-06-02 12:51.15 [info     ] SAC_online_20220602124140: epoch=69 step=69000 epoch=69 metrics={'time_inference': 0.0006083183288574219, 'time_environment_step': 0.0007067501544952392, 'time_sample_batch': 0.00028763866424560546, 'time_algorithm_update': 0.005766223430633545, 'temp_loss': 0.015459866117394996, 'temp': 0.054978531125932935, 'critic_loss': 17.58196305322647, 'actor_loss': -2.53485913573578, 'time_step': 0.007440479040145874, 'rollout_return': 14.401408450704226, 'evaluation': 13.8} step=69000\n",
      "2022-06-02 12:51.22 [info     ] Model parameters are saved to d3rlpy_logs/SAC_online_20220602124140/model_70000.pt\n",
      "2022-06-02 12:51.22 [info     ] SAC_online_20220602124140: epoch=70 step=70000 epoch=70 metrics={'time_inference': 0.0005950019359588623, 'time_environment_step': 0.0006940979957580566, 'time_sample_batch': 0.0002803988456726074, 'time_algorithm_update': 0.0056512451171875, 'temp_loss': 0.00696122181561077, 'temp': 0.05043641195818782, 'critic_loss': 16.757331634044647, 'actor_loss': -2.5161202960219233, 'time_step': 0.007291316032409668, 'rollout_return': 14.54225352112676, 'evaluation': 14.1} step=70000\n",
      "2022-06-02 12:51.30 [info     ] Model parameters are saved to d3rlpy_logs/SAC_online_20220602124140/model_71000.pt\n",
      "2022-06-02 12:51.30 [info     ] SAC_online_20220602124140: epoch=71 step=71000 epoch=71 metrics={'time_inference': 0.0006080520153045654, 'time_environment_step': 0.0007098853588104248, 'time_sample_batch': 0.00029091763496398923, 'time_algorithm_update': 0.005738843202590943, 'temp_loss': 0.0016168308024061843, 'temp': 0.04854742211475968, 'critic_loss': 16.688293721199035, 'actor_loss': -2.58115754956007, 'time_step': 0.00742060399055481, 'rollout_return': 14.43661971830986, 'evaluation': 15.2} step=71000\n",
      "2022-06-02 12:51.37 [info     ] Model parameters are saved to d3rlpy_logs/SAC_online_20220602124140/model_72000.pt\n",
      "2022-06-02 12:51.37 [info     ] SAC_online_20220602124140: epoch=72 step=72000 epoch=72 metrics={'time_inference': 0.0006031317710876464, 'time_environment_step': 0.0007117545604705811, 'time_sample_batch': 0.00028866362571716307, 'time_algorithm_update': 0.005705945730209351, 'temp_loss': 0.0010205307755240937, 'temp': 0.04765903861820698, 'critic_loss': 18.18730492734909, 'actor_loss': -2.3632733374238013, 'time_step': 0.007382458209991455, 'rollout_return': 14.338028169014084, 'evaluation': 15.5} step=72000\n",
      "2022-06-02 12:51.45 [info     ] Model parameters are saved to d3rlpy_logs/SAC_online_20220602124140/model_73000.pt\n",
      "2022-06-02 12:51.45 [info     ] SAC_online_20220602124140: epoch=73 step=73000 epoch=73 metrics={'time_inference': 0.000596376895904541, 'time_environment_step': 0.000697474479675293, 'time_sample_batch': 0.0002812364101409912, 'time_algorithm_update': 0.005633042573928833, 'temp_loss': -0.0016127995576825924, 'temp': 0.04836590484157205, 'critic_loss': 17.878172099113463, 'actor_loss': -2.5181350379716605, 'time_step': 0.007280210018157959, 'rollout_return': 14.274647887323944, 'evaluation': 14.2} step=73000\n",
      "2022-06-02 12:51.52 [info     ] Model parameters are saved to d3rlpy_logs/SAC_online_20220602124140/model_74000.pt\n",
      "2022-06-02 12:51.52 [info     ] SAC_online_20220602124140: epoch=74 step=74000 epoch=74 metrics={'time_inference': 0.0005763630867004395, 'time_environment_step': 0.0006712698936462403, 'time_sample_batch': 0.0002731523513793945, 'time_algorithm_update': 0.005473118066787719, 'temp_loss': 0.00048166231164941564, 'temp': 0.04832550279423595, 'critic_loss': 17.92038106775284, 'actor_loss': -2.445528613012284, 'time_step': 0.007062106847763061, 'rollout_return': 14.429577464788732, 'evaluation': 15.8} step=74000\n",
      "2022-06-02 12:51.59 [info     ] Model parameters are saved to d3rlpy_logs/SAC_online_20220602124140/model_75000.pt\n",
      "2022-06-02 12:51.59 [info     ] SAC_online_20220602124140: epoch=75 step=75000 epoch=75 metrics={'time_inference': 0.0005766775608062744, 'time_environment_step': 0.0006719121932983399, 'time_sample_batch': 0.0002700345516204834, 'time_algorithm_update': 0.005485965490341187, 'temp_loss': -0.0009778930983738974, 'temp': 0.04858453260734677, 'critic_loss': 15.5959609541893, 'actor_loss': -2.5093732402287423, 'time_step': 0.007073330879211426, 'rollout_return': 14.73943661971831, 'evaluation': 13.8} step=75000\n",
      "2022-06-02 12:52.07 [info     ] Model parameters are saved to d3rlpy_logs/SAC_online_20220602124140/model_76000.pt\n",
      "2022-06-02 12:52.07 [info     ] SAC_online_20220602124140: epoch=76 step=76000 epoch=76 metrics={'time_inference': 0.0005805840492248536, 'time_environment_step': 0.0006727945804595948, 'time_sample_batch': 0.0002717690467834473, 'time_algorithm_update': 0.005493711471557617, 'temp_loss': -0.00042711862543364984, 'temp': 0.04824363737925887, 'critic_loss': 18.15956887316704, 'actor_loss': -2.537225104158744, 'time_step': 0.007087496280670166, 'rollout_return': 14.866197183098592, 'evaluation': 15.4} step=76000\n",
      "2022-06-02 12:52.14 [info     ] Model parameters are saved to d3rlpy_logs/SAC_online_20220602124140/model_77000.pt\n",
      "2022-06-02 12:52.14 [info     ] SAC_online_20220602124140: epoch=77 step=77000 epoch=77 metrics={'time_inference': 0.0006089911460876465, 'time_environment_step': 0.0007233030796051026, 'time_sample_batch': 0.00029287171363830567, 'time_algorithm_update': 0.005798166275024414, 'temp_loss': -0.0006933841857535299, 'temp': 0.04954689338058233, 'critic_loss': 14.25704317998886, 'actor_loss': -2.596690863478929, 'time_step': 0.007497133731842041, 'rollout_return': 14.71830985915493, 'evaluation': 14.3} step=77000\n",
      "2022-06-02 12:52.22 [info     ] Model parameters are saved to d3rlpy_logs/SAC_online_20220602124140/model_78000.pt\n",
      "2022-06-02 12:52.22 [info     ] SAC_online_20220602124140: epoch=78 step=78000 epoch=78 metrics={'time_inference': 0.0006411838531494141, 'time_environment_step': 0.00075762939453125, 'time_sample_batch': 0.00030596160888671876, 'time_algorithm_update': 0.006067089796066284, 'temp_loss': -0.0004445049928763183, 'temp': 0.049795308522880076, 'critic_loss': 17.037689334869384, 'actor_loss': -2.457352901490405, 'time_step': 0.007848805427551269, 'rollout_return': 14.422535211267606, 'evaluation': 13.6} step=78000\n",
      "2022-06-02 12:52.30 [info     ] Model parameters are saved to d3rlpy_logs/SAC_online_20220602124140/model_79000.pt\n",
      "2022-06-02 12:52.30 [info     ] SAC_online_20220602124140: epoch=79 step=79000 epoch=79 metrics={'time_inference': 0.0005868005752563476, 'time_environment_step': 0.0006838874816894531, 'time_sample_batch': 0.00027747368812561034, 'time_algorithm_update': 0.00557733416557312, 'temp_loss': -0.0013250706242979504, 'temp': 0.051587290238589045, 'critic_loss': 16.450540361166, 'actor_loss': -2.367917064975947, 'time_step': 0.007194940805435181, 'rollout_return': 14.394366197183098, 'evaluation': 15.2} step=79000\n",
      "2022-06-02 12:52.37 [info     ] Model parameters are saved to d3rlpy_logs/SAC_online_20220602124140/model_80000.pt\n",
      "2022-06-02 12:52.37 [info     ] SAC_online_20220602124140: epoch=80 step=80000 epoch=80 metrics={'time_inference': 0.0005815479755401611, 'time_environment_step': 0.0006745541095733642, 'time_sample_batch': 0.0002740910053253174, 'time_algorithm_update': 0.005531466484069824, 'temp_loss': 0.00025457897534943185, 'temp': 0.05111928467452526, 'critic_loss': 18.344447913885116, 'actor_loss': -2.3741427823742853, 'time_step': 0.007130827188491821, 'rollout_return': 14.669014084507042, 'evaluation': 16.0} step=80000\n",
      "2022-06-02 12:52.45 [info     ] Model parameters are saved to d3rlpy_logs/SAC_online_20220602124140/model_81000.pt\n",
      "2022-06-02 12:52.45 [info     ] SAC_online_20220602124140: epoch=81 step=81000 epoch=81 metrics={'time_inference': 0.0006502106189727783, 'time_environment_step': 0.000758812665939331, 'time_sample_batch': 0.00030707430839538573, 'time_algorithm_update': 0.0060744030475616455, 'temp_loss': 0.001138646506529767, 'temp': 0.05041584974899888, 'critic_loss': 14.756928828239442, 'actor_loss': -2.528600220916793, 'time_step': 0.007868502378463746, 'rollout_return': 14.67605633802817, 'evaluation': 15.1} step=81000\n",
      "2022-06-02 12:52.54 [info     ] Model parameters are saved to d3rlpy_logs/SAC_online_20220602124140/model_82000.pt\n",
      "2022-06-02 12:52.54 [info     ] SAC_online_20220602124140: epoch=82 step=82000 epoch=82 metrics={'time_inference': 0.0006625044345855713, 'time_environment_step': 0.0007577543258666992, 'time_sample_batch': 0.0003132336139678955, 'time_algorithm_update': 0.006619930267333984, 'temp_loss': 0.0009414888759783934, 'temp': 0.050061653926968576, 'critic_loss': 15.431626390457152, 'actor_loss': -2.4925433363243936, 'time_step': 0.008431938409805297, 'rollout_return': 14.415492957746478, 'evaluation': 14.2} step=82000\n",
      "2022-06-02 12:53.05 [info     ] Model parameters are saved to d3rlpy_logs/SAC_online_20220602124140/model_83000.pt\n",
      "2022-06-02 12:53.05 [info     ] SAC_online_20220602124140: epoch=83 step=83000 epoch=83 metrics={'time_inference': 0.0007837855815887451, 'time_environment_step': 0.0009083366394042969, 'time_sample_batch': 0.0003915235996246338, 'time_algorithm_update': 0.008240289688110351, 'temp_loss': 0.002545856418320909, 'temp': 0.04746922166645527, 'critic_loss': 19.03409285879135, 'actor_loss': -2.3562772811874746, 'time_step': 0.010413969039916992, 'rollout_return': 14.690140845070422, 'evaluation': 13.9} step=83000\n",
      "2022-06-02 12:53.17 [info     ] Model parameters are saved to d3rlpy_logs/SAC_online_20220602124140/model_84000.pt\n",
      "2022-06-02 12:53.17 [info     ] SAC_online_20220602124140: epoch=84 step=84000 epoch=84 metrics={'time_inference': 0.0008602571487426757, 'time_environment_step': 0.0010293922424316406, 'time_sample_batch': 0.00043848419189453124, 'time_algorithm_update': 0.010050998210906983, 'temp_loss': 0.000936256576096639, 'temp': 0.045787593599408864, 'critic_loss': 18.894292323112488, 'actor_loss': -2.4428079926632345, 'time_step': 0.012488676309585571, 'rollout_return': 14.309859154929578, 'evaluation': 15.2} step=84000\n",
      "2022-06-02 12:53.28 [info     ] Model parameters are saved to d3rlpy_logs/SAC_online_20220602124140/model_85000.pt\n",
      "2022-06-02 12:53.28 [info     ] SAC_online_20220602124140: epoch=85 step=85000 epoch=85 metrics={'time_inference': 0.0007862498760223389, 'time_environment_step': 0.0009102139472961426, 'time_sample_batch': 0.0003771071434020996, 'time_algorithm_update': 0.008299659252166748, 'temp_loss': 0.00014614895710838026, 'temp': 0.045371135648339986, 'critic_loss': 16.765317019701005, 'actor_loss': -2.443549329660833, 'time_step': 0.010461315155029297, 'rollout_return': 14.767605633802816, 'evaluation': 14.1} step=85000\n",
      "2022-06-02 12:53.38 [info     ] Model parameters are saved to d3rlpy_logs/SAC_online_20220602124140/model_86000.pt\n",
      "2022-06-02 12:53.38 [info     ] SAC_online_20220602124140: epoch=86 step=86000 epoch=86 metrics={'time_inference': 0.0006957159042358398, 'time_environment_step': 0.0008379547595977784, 'time_sample_batch': 0.0003668208122253418, 'time_algorithm_update': 0.007585502624511718, 'temp_loss': -0.0007870980473526288, 'temp': 0.04569420558959246, 'critic_loss': 18.722163335800172, 'actor_loss': -2.4167018907777966, 'time_step': 0.009568914175033569, 'rollout_return': 14.274647887323944, 'evaluation': 15.0} step=86000\n",
      "2022-06-02 12:53.48 [info     ] Model parameters are saved to d3rlpy_logs/SAC_online_20220602124140/model_87000.pt\n",
      "2022-06-02 12:53.48 [info     ] SAC_online_20220602124140: epoch=87 step=87000 epoch=87 metrics={'time_inference': 0.0007150633335113526, 'time_environment_step': 0.0008562138080596924, 'time_sample_batch': 0.00037769699096679686, 'time_algorithm_update': 0.007803483486175537, 'temp_loss': -0.001486028174549574, 'temp': 0.04665134194865823, 'critic_loss': 25.367397526979445, 'actor_loss': -2.3015772390253844, 'time_step': 0.009834966897964478, 'rollout_return': 14.43661971830986, 'evaluation': 16.7} step=87000\n",
      "2022-06-02 12:53.58 [info     ] Model parameters are saved to d3rlpy_logs/SAC_online_20220602124140/model_88000.pt\n",
      "2022-06-02 12:53.58 [info     ] SAC_online_20220602124140: epoch=88 step=88000 epoch=88 metrics={'time_inference': 0.0007247362136840821, 'time_environment_step': 0.0008768768310546875, 'time_sample_batch': 0.0003637669086456299, 'time_algorithm_update': 0.00796135401725769, 'temp_loss': 0.0009336763913161121, 'temp': 0.04746600083261728, 'critic_loss': 17.566767821311952, 'actor_loss': -2.522714490540326, 'time_step': 0.01000835347175598, 'rollout_return': 14.147887323943662, 'evaluation': 14.6} step=88000\n",
      "2022-06-02 12:54.08 [info     ] Model parameters are saved to d3rlpy_logs/SAC_online_20220602124140/model_89000.pt\n",
      "2022-06-02 12:54.08 [info     ] SAC_online_20220602124140: epoch=89 step=89000 epoch=89 metrics={'time_inference': 0.0007145423889160156, 'time_environment_step': 0.0008386976718902588, 'time_sample_batch': 0.0003672118186950684, 'time_algorithm_update': 0.007623792409896851, 'temp_loss': 0.0006578328140021768, 'temp': 0.04601741981133819, 'critic_loss': 20.00135436582565, 'actor_loss': -2.3336703843008726, 'time_step': 0.009630344867706298, 'rollout_return': 14.133802816901408, 'evaluation': 15.0} step=89000\n",
      "2022-06-02 12:54.19 [info     ] Model parameters are saved to d3rlpy_logs/SAC_online_20220602124140/model_90000.pt\n",
      "2022-06-02 12:54.19 [info     ] SAC_online_20220602124140: epoch=90 step=90000 epoch=90 metrics={'time_inference': 0.000798530101776123, 'time_environment_step': 0.0009280405044555664, 'time_sample_batch': 0.00040721845626831056, 'time_algorithm_update': 0.008678975343704223, 'temp_loss': -0.0013011570113740164, 'temp': 0.04631322258338332, 'critic_loss': 21.020832973957063, 'actor_loss': -2.3729496247693898, 'time_step': 0.010903047800064087, 'rollout_return': 14.274647887323944, 'evaluation': 12.4} step=90000\n",
      "2022-06-02 12:54.31 [info     ] Model parameters are saved to d3rlpy_logs/SAC_online_20220602124140/model_91000.pt\n",
      "2022-06-02 12:54.31 [info     ] SAC_online_20220602124140: epoch=91 step=91000 epoch=91 metrics={'time_inference': 0.0007983641624450683, 'time_environment_step': 0.0009305202960968018, 'time_sample_batch': 0.00040671801567077634, 'time_algorithm_update': 0.008751015663146972, 'temp_loss': -0.0025916313266206997, 'temp': 0.05008910563960672, 'critic_loss': 18.863569582223892, 'actor_loss': -2.3185730646774174, 'time_step': 0.01098064947128296, 'rollout_return': 11.345070422535212, 'evaluation': 15.3} step=91000\n",
      "2022-06-02 12:54.43 [info     ] Model parameters are saved to d3rlpy_logs/SAC_online_20220602124140/model_92000.pt\n",
      "2022-06-02 12:54.43 [info     ] SAC_online_20220602124140: epoch=92 step=92000 epoch=92 metrics={'time_inference': 0.0008030345439910888, 'time_environment_step': 0.000996896743774414, 'time_sample_batch': 0.00042041659355163575, 'time_algorithm_update': 0.009532828330993653, 'temp_loss': -0.0025640569665119984, 'temp': 0.050854294750839475, 'critic_loss': 23.940938573360445, 'actor_loss': -2.2609651557169856, 'time_step': 0.01185000467300415, 'rollout_return': 14.422535211267606, 'evaluation': 14.1} step=92000\n",
      "2022-06-02 12:54.54 [info     ] Model parameters are saved to d3rlpy_logs/SAC_online_20220602124140/model_93000.pt\n",
      "2022-06-02 12:54.55 [info     ] SAC_online_20220602124140: epoch=93 step=93000 epoch=93 metrics={'time_inference': 0.0008128547668457032, 'time_environment_step': 0.0009972529411315918, 'time_sample_batch': 0.00040747976303100587, 'time_algorithm_update': 0.009253955841064454, 'temp_loss': -0.0035101190761779436, 'temp': 0.05562430858239532, 'critic_loss': 28.181743123054506, 'actor_loss': -2.228704757010564, 'time_step': 0.011566407203674316, 'rollout_return': 14.549295774647888, 'evaluation': 13.2} step=93000\n",
      "2022-06-02 12:55.06 [info     ] Model parameters are saved to d3rlpy_logs/SAC_online_20220602124140/model_94000.pt\n",
      "2022-06-02 12:55.06 [info     ] SAC_online_20220602124140: epoch=94 step=94000 epoch=94 metrics={'time_inference': 0.0008229668140411377, 'time_environment_step': 0.0009942083358764648, 'time_sample_batch': 0.0004171569347381592, 'time_algorithm_update': 0.008917633533477784, 'temp_loss': -0.0029340159865678286, 'temp': 0.05950257766991854, 'critic_loss': 17.935608449459075, 'actor_loss': -2.3759627370797096, 'time_step': 0.011244749546051026, 'rollout_return': 14.528169014084508, 'evaluation': 12.7} step=94000\n",
      "2022-06-02 12:55.16 [info     ] Model parameters are saved to d3rlpy_logs/SAC_online_20220602124140/model_95000.pt\n",
      "2022-06-02 12:55.17 [info     ] SAC_online_20220602124140: epoch=95 step=95000 epoch=95 metrics={'time_inference': 0.0007415552139282227, 'time_environment_step': 0.0008827354907989501, 'time_sample_batch': 0.0003694589138031006, 'time_algorithm_update': 0.00812885570526123, 'temp_loss': -0.0018897469439834822, 'temp': 0.06349753569066524, 'critic_loss': 21.821726114988326, 'actor_loss': -2.4341590378023685, 'time_step': 0.010211623907089233, 'rollout_return': 14.73943661971831, 'evaluation': 13.4} step=95000\n",
      "2022-06-02 12:55.28 [info     ] Model parameters are saved to d3rlpy_logs/SAC_online_20220602124140/model_96000.pt\n",
      "2022-06-02 12:55.28 [info     ] SAC_online_20220602124140: epoch=96 step=96000 epoch=96 metrics={'time_inference': 0.000815941572189331, 'time_environment_step': 0.0009663672447204589, 'time_sample_batch': 0.00042140960693359375, 'time_algorithm_update': 0.009058902502059936, 'temp_loss': -0.0008348423495772295, 'temp': 0.06478386351466178, 'critic_loss': 16.428316163539886, 'actor_loss': -2.4979952571094035, 'time_step': 0.01136446976661682, 'rollout_return': 14.373239436619718, 'evaluation': 13.9} step=96000\n",
      "2022-06-02 12:55.39 [info     ] Model parameters are saved to d3rlpy_logs/SAC_online_20220602124140/model_97000.pt\n",
      "2022-06-02 12:55.39 [info     ] SAC_online_20220602124140: epoch=97 step=97000 epoch=97 metrics={'time_inference': 0.0007720844745635986, 'time_environment_step': 0.0009096128940582276, 'time_sample_batch': 0.00040006232261657714, 'time_algorithm_update': 0.008372061252593994, 'temp_loss': -0.0010411298024700954, 'temp': 0.06790251300483942, 'critic_loss': 21.684471069812776, 'actor_loss': -2.282019835365936, 'time_step': 0.010544177055358886, 'rollout_return': 14.133802816901408, 'evaluation': 14.9} step=97000\n",
      "2022-06-02 12:55.49 [info     ] Model parameters are saved to d3rlpy_logs/SAC_online_20220602124140/model_98000.pt\n",
      "2022-06-02 12:55.49 [info     ] SAC_online_20220602124140: epoch=98 step=98000 epoch=98 metrics={'time_inference': 0.0007279748916625976, 'time_environment_step': 0.0008914093971252442, 'time_sample_batch': 0.0003729228973388672, 'time_algorithm_update': 0.00782188653945923, 'temp_loss': 0.001332058317726478, 'temp': 0.06644901640713215, 'critic_loss': 17.107330947399138, 'actor_loss': -2.429464801065624, 'time_step': 0.009896427631378173, 'rollout_return': 14.605633802816902, 'evaluation': 15.0} step=98000\n",
      "2022-06-02 12:56.00 [info     ] Model parameters are saved to d3rlpy_logs/SAC_online_20220602124140/model_99000.pt\n",
      "2022-06-02 12:56.00 [info     ] SAC_online_20220602124140: epoch=99 step=99000 epoch=99 metrics={'time_inference': 0.0007891836166381836, 'time_environment_step': 0.0008990683555603027, 'time_sample_batch': 0.00039849972724914553, 'time_algorithm_update': 0.008294118642807007, 'temp_loss': 0.0006481799833418336, 'temp': 0.06487879087775945, 'critic_loss': 20.408283085823058, 'actor_loss': -2.400003609107807, 'time_step': 0.0104672110080719, 'rollout_return': 14.21830985915493, 'evaluation': 13.0} step=99000\n",
      "2022-06-02 12:56.12 [info     ] Model parameters are saved to d3rlpy_logs/SAC_online_20220602124140/model_100000.pt\n",
      "2022-06-02 12:56.12 [info     ] SAC_online_20220602124140: epoch=100 step=100000 epoch=100 metrics={'time_inference': 0.000752068281173706, 'time_environment_step': 0.0008972377777099609, 'time_sample_batch': 0.00040148186683654783, 'time_algorithm_update': 0.009478249788284302, 'temp_loss': 0.0003132332242967095, 'temp': 0.06390430170297623, 'critic_loss': 15.427079869508743, 'actor_loss': -2.634654350601137, 'time_step': 0.011613795757293701, 'rollout_return': 14.471830985915492, 'evaluation': 14.7} step=100000\n"
     ]
    }
   ],
   "source": [
    "# start training\n",
    "# skip if there is a pre-trained model\n",
    "sac.fit_online(\n",
    "    env,\n",
    "    buffer,\n",
    "    eval_env=env,\n",
    "    n_steps=100000,\n",
    "    n_steps_per_epoch=1000,\n",
    "    update_start_step=1000,\n",
    ")"
   ]
  },
  {
   "cell_type": "code",
   "execution_count": 18,
   "metadata": {},
   "outputs": [],
   "source": [
    "# save model\n",
    "sac.save_model(\"d3rlpy_logs/sac.pt\")"
   ]
  },
  {
   "cell_type": "code",
   "execution_count": 19,
   "metadata": {},
   "outputs": [
    {
     "name": "stdout",
     "output_type": "stream",
     "text": [
      "2022-06-02 13:51.28 [warning  ] Parameters will be reinitialized.\n"
     ]
    }
   ],
   "source": [
    "# reload model\n",
    "sac.build_with_env(env)\n",
    "sac.load_model(\"d3rlpy_logs/sac.pt\")"
   ]
  },
  {
   "cell_type": "code",
   "execution_count": 20,
   "metadata": {},
   "outputs": [
    {
     "data": {
      "text/plain": [
       "Text(0, 0.5, 'episode reward')"
      ]
     },
     "execution_count": 20,
     "metadata": {},
     "output_type": "execute_result"
    },
    {
     "data": {
      "image/png": "[encoded data removed]",
      "text/plain": [
       "<Figure size 432x288 with 1 Axes>"
      ]
     },
     "metadata": {
      "needs_background": "light"
     },
     "output_type": "display_data"
    }
   ],
   "source": [
    "# may need more interactions to converge\n",
    "log_path = sorted(glob(\"d3rlpy_logs/SAC_online_*/evaluation.csv\"))[-1]\n",
    "df = pd.read_csv(\n",
    "    log_path, \n",
    "    usecols=[1,2],\n",
    "    names=[\"train_episode\", \"episodic_rewards\"]\n",
    ")\n",
    "plt.plot(df[\"train_episode\"], df[\"episodic_rewards\"])\n",
    "plt.title(\"Learning curve of SAC\")\n",
    "plt.xlabel(\"episode\")\n",
    "plt.ylabel(\"episode reward\")"
   ]
  },
  {
   "cell_type": "code",
   "execution_count": 21,
   "metadata": {},
   "outputs": [],
   "source": [
    "random = ContinuousRandomPolicy(\n",
    "    action_scaler=MinMaxActionScaler(\n",
    "        minimum=env.action_space.low,  # minimum value that policy can take\n",
    "        maximum=env.action_space.high,  # maximum value that policy can take\n",
    "    )\n",
    ")"
   ]
  },
  {
   "cell_type": "code",
   "execution_count": 22,
   "metadata": {},
   "outputs": [
    {
     "data": {
      "application/vnd.jupyter.widget-view+json": {
       "model_id": "bec31d0cd1114bf19959d4bd5300f498",
       "version_major": 2,
       "version_minor": 0
      },
      "text/plain": [
       "[calculate on-policy policy value]:   0%|          | 0/100 [00:00<?, ?it/s]"
      ]
     },
     "metadata": {},
     "output_type": "display_data"
    },
    {
     "data": {
      "application/vnd.jupyter.widget-view+json": {
       "model_id": "3de723c8cddc4a96803fb6129f4db29e",
       "version_major": 2,
       "version_minor": 0
      },
      "text/plain": [
       "[calculate on-policy policy value]:   0%|          | 0/100 [00:00<?, ?it/s]"
      ]
     },
     "metadata": {},
     "output_type": "display_data"
    },
    {
     "data": {
      "image/png": "[encoded data removed]",
      "text/plain": [
       "<Figure size 288x288 with 1 Axes>"
      ]
     },
     "metadata": {},
     "output_type": "display_data"
    }
   ],
   "source": [
    "# compare the performance online\n",
    "visualize_on_policy_policy_value(\n",
    "    env=env,\n",
    "    policies=[sac, random],\n",
    "    policy_names=[\"sac\", \"random\"],\n",
    "    n_episodes=100,\n",
    "    random_state=random_state,\n",
    ")"
   ]
  },
  {
   "cell_type": "code",
   "execution_count": 23,
   "metadata": {},
   "outputs": [
    {
     "data": {
      "application/vnd.jupyter.widget-view+json": {
       "model_id": "5f37a92dcbaa44eca611dbfff6f19323",
       "version_major": 2,
       "version_minor": 0
      },
      "text/plain": [
       "[calculate on-policy policy value]:   0%|          | 0/100 [00:00<?, ?it/s]"
      ]
     },
     "metadata": {},
     "output_type": "display_data"
    },
    {
     "data": {
      "application/vnd.jupyter.widget-view+json": {
       "model_id": "9fa1c2f92ba74563b2b96ad05fcaad2c",
       "version_major": 2,
       "version_minor": 0
      },
      "text/plain": [
       "[calculate on-policy policy value]:   0%|          | 0/100 [00:00<?, ?it/s]"
      ]
     },
     "metadata": {},
     "output_type": "display_data"
    },
    {
     "name": "stdout",
     "output_type": "stream",
     "text": [
      "relative improvement: 0.023288637967537055\n"
     ]
    }
   ],
   "source": [
    "# on-policy policy value of the sac policy\n",
    "# slightly improves that of the random policy\n",
    "sac_performance = calc_on_policy_policy_value(env, sac, n_episodes=100, random_state=random_state)\n",
    "random_performance = calc_on_policy_policy_value(env, random, n_episodes=100, random_state=random_state)\n",
    "print(\"relative improvement:\", (sac_performance - random_performance) / random_performance)"
   ]
  },
  {
   "cell_type": "markdown",
   "metadata": {},
   "source": [
    "Note that, we provide the following functions for online evaluation of the policy performance under `ofrl.ope.online`.\n",
    "\n",
    "(Statistics)\n",
    "\n",
    "* `calc_on_policy_policy_value`\n",
    "* `calc_on_policy_policy_value_interval`\n",
    "* `calc_on_policy_variance`\n",
    "* `calc_on_policy_conditional_value_at_risk`\n",
    "* `calc_on_policy_policy_interquartile_range`\n",
    "* `calc_on_policy_cumulative_distribution_function`\n",
    "\n",
    "(Visualization)\n",
    "* `visualize_on_policy_policy_value`\n",
    "* `visualize_on_policy_policy_value_with_variance`\n",
    "* `visualize_on_policy_cumulative_distribution_function`\n",
    "* `visualize_on_policy_conditional_value_at_risk`\n",
    "* `visualize_on_policy_interquartile_range`"
   ]
  },
  {
   "cell_type": "markdown",
   "metadata": {},
   "source": [
    "## 1. Synthetic Dataset Generation\n",
    "In the previous section, we saw how we can interact with the environment *online* using a synthetic simulator.  \n",
    "Though simulation is a good starting point for training an agent, eventually we want to deploy our agent (or policy) in the real world environment.  \n",
    "However, online interaction may have potential risk of failure in real-world implementation.  \n",
    "Therefore, we introduce alternative learning protocol, Offline RL, which aims at training a new policy using only offline logged data.\n",
    "\n",
    "We prepare an easy-to-use synthetic dataset generator: `SyntheticDataset` class in the dataset module.  \n",
    "By regarding simulation environment as a hypothetical real-environment, we show how to conduct Offline RL leveraging logged data.  \n",
    "For detailed description of how to use real-world dataset, please see #TODO (will be implemented).\n",
    "\n",
    "the `SyntheticDataset` class has the following arguments:\n",
    "- `env`: RTB environment for RL defined in the previous section.\n",
    "- `behavior_policy`: RL agent (or algorithm) used for the data collection.\n",
    "- `n_samples_pretrain_reward_predictor`: Numbers of samples used to pretrain a reward predictor."
   ]
  },
  {
   "cell_type": "code",
   "execution_count": 24,
   "metadata": {},
   "outputs": [],
   "source": [
    "behavior_policy = ContinuousTruncatedGaussianHead(\n",
    "    sac, \n",
    "    minimum=env.action_space.low,\n",
    "    maximum=env.action_space.high,\n",
    "    sigma=np.array([1.0]),\n",
    "    name=\"sac_sigma_1.0\",\n",
    "    random_state=random_state,\n",
    ")"
   ]
  },
  {
   "cell_type": "code",
   "execution_count": 25,
   "metadata": {},
   "outputs": [],
   "source": [
    "# initialize dataset class\n",
    "dataset = SyntheticDataset(\n",
    "    env=env,\n",
    "    behavior_policy=behavior_policy,\n",
    "    is_rtb_env=True,\n",
    "    random_state=random_state,\n",
    ")"
   ]
  },
  {
   "cell_type": "code",
   "execution_count": 26,
   "metadata": {},
   "outputs": [
    {
     "data": {
      "application/vnd.jupyter.widget-view+json": {
       "model_id": "5339363b6662455290128caefcc2b759",
       "version_major": 2,
       "version_minor": 0
      },
      "text/plain": [
       "[obtain_trajectories]:   0%|          | 0/10000 [00:00<?, ?it/s]"
      ]
     },
     "metadata": {},
     "output_type": "display_data"
    }
   ],
   "source": [
    "# collect logged data by the behavior policy\n",
    "# skip if there is a preserved logged dataset\n",
    "logged_dataset = dataset.obtain_trajectories(n_episodes=10000, obtain_info=True)"
   ]
  },
  {
   "cell_type": "code",
   "execution_count": 27,
   "metadata": {},
   "outputs": [
    {
     "data": {
      "text/plain": [
       "{'size': 70000,\n",
       " 'n_episodes': 10000,\n",
       " 'step_per_episode': 7,\n",
       " 'action_type': 'continuous',\n",
       " 'n_actions': None,\n",
       " 'action_dim': 1,\n",
       " 'action_meaning': None,\n",
       " 'state_dim': 7,\n",
       " 'state_keys': ['timestep',\n",
       "  'remaining_budget',\n",
       "  'budget_consumption_rate',\n",
       "  'cost_per_mille_of_impression',\n",
       "  'winning_rate',\n",
       "  'reward',\n",
       "  'adjust_rate'],\n",
       " 'state': array([[0.00000000e+00, 3.00000000e+03, 9.29616093e-01, ...,\n",
       "         1.83918812e-01, 2.00000000e+00, 1.33309676e-01],\n",
       "        [1.00000000e+00, 1.91000000e+03, 3.63333333e-01, ...,\n",
       "         1.00000000e+00, 6.00000000e+00, 9.26160713e+00],\n",
       "        [2.00000000e+00, 1.17300000e+03, 3.85863874e-01, ...,\n",
       "         1.00000000e+00, 1.00000000e+00, 9.46003070e+00],\n",
       "        ...,\n",
       "        [4.00000000e+00, 2.20000000e+01, 0.00000000e+00, ...,\n",
       "         1.44927536e-02, 0.00000000e+00, 1.13127864e+00],\n",
       "        [5.00000000e+00, 2.20000000e+01, 0.00000000e+00, ...,\n",
       "         4.92610837e-03, 0.00000000e+00, 6.83228635e+00],\n",
       "        [6.00000000e+00, 2.20000000e+01, 0.00000000e+00, ...,\n",
       "         8.17120623e-02, 0.00000000e+00, 8.91335445e-01]]),\n",
       " 'action': array([[9.26160713],\n",
       "        [9.4600307 ],\n",
       "        [8.33869322],\n",
       "        ...,\n",
       "        [6.83228635],\n",
       "        [0.89133545],\n",
       "        [3.00945207]]),\n",
       " 'reward': array([6., 1., 1., ..., 0., 0., 0.]),\n",
       " 'done': array([0., 0., 0., ..., 0., 0., 1.]),\n",
       " 'terminal': array([0., 0., 0., ..., 0., 0., 1.]),\n",
       " 'info': {'search_volume': array([201., 205., 217., ..., 203., 257., 179.]),\n",
       "  'impression': array([201., 205., 189., ...,   1.,  21.,   5.]),\n",
       "  'click': array([21., 15., 21., ...,  0.,  0.,  0.]),\n",
       "  'conversion': array([6., 1., 1., ..., 0., 0., 0.]),\n",
       "  'average_bid_price': array([504.28358209, 494.73658537, 436.22119816, ..., 331.47783251,\n",
       "          41.62645914, 139.00558659])},\n",
       " 'pscore': array([[0.59563805],\n",
       "        [0.65600361],\n",
       "        [0.30579915],\n",
       "        ...,\n",
       "        [0.25954709],\n",
       "        [0.14665144],\n",
       "        [0.39127791]])}"
      ]
     },
     "execution_count": 27,
     "metadata": {},
     "output_type": "execute_result"
    }
   ],
   "source": [
    "logged_dataset"
   ]
  },
  {
   "cell_type": "code",
   "execution_count": 28,
   "metadata": {},
   "outputs": [],
   "source": [
    "with open(\"logs/dataset_continuous.pkl\", \"wb\") as f:\n",
    "    pickle.dump(logged_dataset, f)"
   ]
  },
  {
   "cell_type": "code",
   "execution_count": 29,
   "metadata": {},
   "outputs": [],
   "source": [
    "with open(\"logs/dataset_continuous.pkl\", \"rb\") as f:\n",
    "    logged_dataset = pickle.load(f)"
   ]
  },
  {
   "cell_type": "code",
   "execution_count": 30,
   "metadata": {},
   "outputs": [
    {
     "data": {
      "application/vnd.jupyter.widget-view+json": {
       "model_id": "ba293acc268245e49bb52b54dbe08541",
       "version_major": 2,
       "version_minor": 0
      },
      "text/plain": [
       "[calculate on-policy policy value]:   0%|          | 0/100 [00:00<?, ?it/s]"
      ]
     },
     "metadata": {},
     "output_type": "display_data"
    },
    {
     "data": {
      "application/vnd.jupyter.widget-view+json": {
       "model_id": "16af8fb6ab9947e2ab38f244913e49e2",
       "version_major": 2,
       "version_minor": 0
      },
      "text/plain": [
       "[calculate on-policy policy value]:   0%|          | 0/100 [00:00<?, ?it/s]"
      ]
     },
     "metadata": {},
     "output_type": "display_data"
    },
    {
     "data": {
      "application/vnd.jupyter.widget-view+json": {
       "model_id": "5327c2b7013442cebacb4d34f0036fc3",
       "version_major": 2,
       "version_minor": 0
      },
      "text/plain": [
       "[calculate on-policy policy value]:   0%|          | 0/100 [00:00<?, ?it/s]"
      ]
     },
     "metadata": {},
     "output_type": "display_data"
    },
    {
     "data": {
      "image/png": "[encoded data removed]",
      "text/plain": [
       "<Figure size 432x288 with 1 Axes>"
      ]
     },
     "metadata": {},
     "output_type": "display_data"
    }
   ],
   "source": [
    "# compare the policy performance online\n",
    "visualize_on_policy_policy_value(\n",
    "    env=env,\n",
    "    policies=[sac, behavior_policy, random],\n",
    "    policy_names=[\"sac\", \"sac (sigma=1.0)\", \"random\"],\n",
    "    n_episodes=100,\n",
    "    random_state=random_state,\n",
    ")"
   ]
  },
  {
   "cell_type": "code",
   "execution_count": 31,
   "metadata": {},
   "outputs": [
    {
     "data": {
      "text/html": [
       "<div>\n",
       "<style scoped>\n",
       "    .dataframe tbody tr th:only-of-type {\n",
       "        vertical-align: middle;\n",
       "    }\n",
       "\n",
       "    .dataframe tbody tr th {\n",
       "        vertical-align: top;\n",
       "    }\n",
       "\n",
       "    .dataframe thead th {\n",
       "        text-align: right;\n",
       "    }\n",
       "</style>\n",
       "<table border=\"1\" class=\"dataframe\">\n",
       "  <thead>\n",
       "    <tr style=\"text-align: right;\">\n",
       "      <th></th>\n",
       "      <th>adjust rate</th>\n",
       "      <th>average bid price</th>\n",
       "      <th>impression</th>\n",
       "      <th>click</th>\n",
       "      <th>conversion</th>\n",
       "      <th>winning rate</th>\n",
       "      <th>click / impression</th>\n",
       "      <th>conversion / click</th>\n",
       "    </tr>\n",
       "  </thead>\n",
       "  <tbody>\n",
       "    <tr>\n",
       "      <th>count</th>\n",
       "      <td>70000.000000</td>\n",
       "      <td>70000.000000</td>\n",
       "      <td>70000.000000</td>\n",
       "      <td>70000.000000</td>\n",
       "      <td>70000.000000</td>\n",
       "      <td>70000.000000</td>\n",
       "      <td>70000.000000</td>\n",
       "      <td>70000.000000</td>\n",
       "    </tr>\n",
       "    <tr>\n",
       "      <th>mean</th>\n",
       "      <td>5.853966</td>\n",
       "      <td>330.992375</td>\n",
       "      <td>91.489743</td>\n",
       "      <td>8.568843</td>\n",
       "      <td>2.050814</td>\n",
       "      <td>0.524850</td>\n",
       "      <td>0.056087</td>\n",
       "      <td>0.125279</td>\n",
       "    </tr>\n",
       "    <tr>\n",
       "      <th>std</th>\n",
       "      <td>3.665618</td>\n",
       "      <td>170.770094</td>\n",
       "      <td>91.176899</td>\n",
       "      <td>9.565874</td>\n",
       "      <td>3.032508</td>\n",
       "      <td>0.434810</td>\n",
       "      <td>0.065468</td>\n",
       "      <td>0.180912</td>\n",
       "    </tr>\n",
       "    <tr>\n",
       "      <th>min</th>\n",
       "      <td>0.000028</td>\n",
       "      <td>4.175610</td>\n",
       "      <td>0.000000</td>\n",
       "      <td>0.000000</td>\n",
       "      <td>0.000000</td>\n",
       "      <td>0.000000</td>\n",
       "      <td>0.000000</td>\n",
       "      <td>0.000000</td>\n",
       "    </tr>\n",
       "    <tr>\n",
       "      <th>25%</th>\n",
       "      <td>1.868850</td>\n",
       "      <td>149.848555</td>\n",
       "      <td>5.000000</td>\n",
       "      <td>0.000000</td>\n",
       "      <td>0.000000</td>\n",
       "      <td>0.046392</td>\n",
       "      <td>0.000000</td>\n",
       "      <td>0.000000</td>\n",
       "    </tr>\n",
       "    <tr>\n",
       "      <th>50%</th>\n",
       "      <td>7.853300</td>\n",
       "      <td>412.849365</td>\n",
       "      <td>32.000000</td>\n",
       "      <td>1.000000</td>\n",
       "      <td>0.000000</td>\n",
       "      <td>0.548667</td>\n",
       "      <td>0.062500</td>\n",
       "      <td>0.000000</td>\n",
       "    </tr>\n",
       "    <tr>\n",
       "      <th>75%</th>\n",
       "      <td>9.215373</td>\n",
       "      <td>474.846030</td>\n",
       "      <td>190.000000</td>\n",
       "      <td>18.000000</td>\n",
       "      <td>3.000000</td>\n",
       "      <td>1.000000</td>\n",
       "      <td>0.099526</td>\n",
       "      <td>0.214286</td>\n",
       "    </tr>\n",
       "    <tr>\n",
       "      <th>max</th>\n",
       "      <td>9.999957</td>\n",
       "      <td>549.801980</td>\n",
       "      <td>290.000000</td>\n",
       "      <td>41.000000</td>\n",
       "      <td>20.000000</td>\n",
       "      <td>1.000000</td>\n",
       "      <td>0.999990</td>\n",
       "      <td>0.999998</td>\n",
       "    </tr>\n",
       "  </tbody>\n",
       "</table>\n",
       "</div>"
      ],
      "text/plain": [
       "        adjust rate  average bid price    impression         click  \\\n",
       "count  70000.000000       70000.000000  70000.000000  70000.000000   \n",
       "mean       5.853966         330.992375     91.489743      8.568843   \n",
       "std        3.665618         170.770094     91.176899      9.565874   \n",
       "min        0.000028           4.175610      0.000000      0.000000   \n",
       "25%        1.868850         149.848555      5.000000      0.000000   \n",
       "50%        7.853300         412.849365     32.000000      1.000000   \n",
       "75%        9.215373         474.846030    190.000000     18.000000   \n",
       "max        9.999957         549.801980    290.000000     41.000000   \n",
       "\n",
       "         conversion  winning rate  click / impression  conversion / click  \n",
       "count  70000.000000  70000.000000        70000.000000        70000.000000  \n",
       "mean       2.050814      0.524850            0.056087            0.125279  \n",
       "std        3.032508      0.434810            0.065468            0.180912  \n",
       "min        0.000000      0.000000            0.000000            0.000000  \n",
       "25%        0.000000      0.046392            0.000000            0.000000  \n",
       "50%        0.000000      0.548667            0.062500            0.000000  \n",
       "75%        3.000000      1.000000            0.099526            0.214286  \n",
       "max       20.000000      1.000000            0.999990            0.999998  "
      ]
     },
     "execution_count": 31,
     "metadata": {},
     "output_type": "execute_result"
    }
   ],
   "source": [
    "# let's see some statistics of the logged dataset\n",
    "df = pd.DataFrame()\n",
    "df['adjust rate'] = logged_dataset['state'][:, 6]\n",
    "df['average bid price'] = logged_dataset['info']['average_bid_price']\n",
    "df['impression'] = logged_dataset['info']['impression']\n",
    "df['click'] = logged_dataset['info']['click']\n",
    "df['conversion'] = logged_dataset['info']['conversion']\n",
    "df['winning rate'] = logged_dataset['state'][:, 4]\n",
    "df['click / impression'] = df['click'] / (df['impression'] + 1e-5)\n",
    "df['conversion / click'] = df['conversion'] / (df['click'] + 1e-5)\n",
    "df.describe()"
   ]
  },
  {
   "cell_type": "markdown",
   "metadata": {},
   "source": [
    "For more about the data collection and visualization, please refer to [examples/quickstart/rtb_synthetic_data_collection.ipynb](https://github.com/negocia-inc/rtb_reinforcement_learing/blob/ope/examples/quickstart/rtb_synthetic_data_collection.ipynb)."
   ]
  },
  {
   "cell_type": "markdown",
   "metadata": {},
   "source": [
    "## 2. Offline Reinforcement Learning\n",
    "In this section, we learn a new policy in an offline manner, without interacting with the environment.\n",
    "We use [d3rlpy](https://github.com/takuseno/d3rlpy)'s implementation of offline RL algorithms."
   ]
  },
  {
   "cell_type": "code",
   "execution_count": 32,
   "metadata": {},
   "outputs": [],
   "source": [
    "# import modules from d3rlpy\n",
    "from d3rlpy.dataset import MDPDataset\n",
    "from d3rlpy.algos import CQL as ContinuousCQL\n",
    "from d3rlpy.ope import FQE as ContinuousFQE\n",
    "from d3rlpy.metrics.scorer import evaluate_on_environment"
   ]
  },
  {
   "cell_type": "code",
   "execution_count": 33,
   "metadata": {},
   "outputs": [],
   "source": [
    "offlinerl_dataset = MDPDataset(\n",
    "    observations=logged_dataset[\"state\"],\n",
    "    actions=logged_dataset[\"action\"],\n",
    "    rewards=logged_dataset[\"reward\"],\n",
    "    terminals=logged_dataset[\"done\"],\n",
    "    episode_terminals=logged_dataset[\"done\"],\n",
    "    discrete_action=False,\n",
    ")\n",
    "train_episodes, test_episodes = train_test_split(offlinerl_dataset, test_size=0.2, random_state=random_state)"
   ]
  },
  {
   "cell_type": "code",
   "execution_count": 34,
   "metadata": {},
   "outputs": [],
   "source": [
    "# Use Conservative Q-Learning policy\n",
    "cql = ContinuousCQL(\n",
    "    actor_encoder_factory=VectorEncoderFactory(hidden_units=[30, 30]),\n",
    "    critic_encoder_factory=VectorEncoderFactory(hidden_units=[30, 30]),\n",
    "    q_func_factory=MeanQFunctionFactory(),\n",
    "    use_gpu=torch.cuda.is_available(),\n",
    "    action_scaler=MinMaxActionScaler(\n",
    "        minimum=env.action_space.low,  # minimum value that policy can take\n",
    "        maximum=env.action_space.high,  # maximum value that policy can take\n",
    "    )\n",
    ")"
   ]
  },
  {
   "cell_type": "code",
   "execution_count": 35,
   "metadata": {},
   "outputs": [
    {
     "name": "stdout",
     "output_type": "stream",
     "text": [
      "2022-06-02 13:57.57 [debug    ] RandomIterator is selected.\n",
      "2022-06-02 13:57.57 [info     ] Directory is created at d3rlpy_logs/CQL_20220602135757\n",
      "2022-06-02 13:57.57 [debug    ] Fitting action scaler...       action_scaler=min_max\n",
      "2022-06-02 13:57.57 [debug    ] Building models...\n",
      "2022-06-02 13:57.57 [debug    ] Models have been built.\n",
      "2022-06-02 13:57.57 [info     ] Parameters are saved to d3rlpy_logs/CQL_20220602135757/params.json params={'action_scaler': {'type': 'min_max', 'params': {'minimum': array([0.1]), 'maximum': array([10.])}}, 'actor_encoder_factory': {'type': 'vector', 'params': {'hidden_units': [30, 30], 'activation': 'relu', 'use_batch_norm': False, 'dropout_rate': None, 'use_dense': False}}, 'actor_learning_rate': 0.0001, 'actor_optim_factory': {'optim_cls': 'Adam', 'betas': (0.9, 0.999), 'eps': 1e-08, 'weight_decay': 0, 'amsgrad': False}, 'alpha_learning_rate': 0.0001, 'alpha_optim_factory': {'optim_cls': 'Adam', 'betas': (0.9, 0.999), 'eps': 1e-08, 'weight_decay': 0, 'amsgrad': False}, 'alpha_threshold': 10.0, 'batch_size': 256, 'conservative_weight': 5.0, 'critic_encoder_factory': {'type': 'vector', 'params': {'hidden_units': [30, 30], 'activation': 'relu', 'use_batch_norm': False, 'dropout_rate': None, 'use_dense': False}}, 'critic_learning_rate': 0.0003, 'critic_optim_factory': {'optim_cls': 'Adam', 'betas': (0.9, 0.999), 'eps': 1e-08, 'weight_decay': 0, 'amsgrad': False}, 'gamma': 0.99, 'generated_maxlen': 100000, 'initial_alpha': 1.0, 'initial_temperature': 1.0, 'n_action_samples': 10, 'n_critics': 2, 'n_frames': 1, 'n_steps': 1, 'q_func_factory': {'type': 'mean', 'params': {'share_encoder': False}}, 'real_ratio': 1.0, 'reward_scaler': None, 'scaler': None, 'soft_q_backup': False, 'tau': 0.005, 'temp_learning_rate': 0.0001, 'temp_optim_factory': {'optim_cls': 'Adam', 'betas': (0.9, 0.999), 'eps': 1e-08, 'weight_decay': 0, 'amsgrad': False}, 'use_gpu': None, 'algorithm': 'CQL', 'observation_shape': (7,), 'action_size': 1}\n"
     ]
    },
    {
     "data": {
      "application/vnd.jupyter.widget-view+json": {
       "model_id": "6db67e8912b6413790101cd22784ada1",
       "version_major": 2,
       "version_minor": 0
      },
      "text/plain": [
       "Epoch 1/1:   0%|          | 0/10000 [00:00<?, ?it/s]"
      ]
     },
     "metadata": {},
     "output_type": "display_data"
    },
    {
     "name": "stdout",
     "output_type": "stream",
     "text": [
      "2022-06-02 14:02.09 [info     ] CQL_20220602135757: epoch=1 step=10000 epoch=1 metrics={'time_sample_batch': 0.001045482325553894, 'time_algorithm_update': 0.023115245032310487, 'temp_loss': -0.8935201915087179, 'temp': 0.9268068702459336, 'alpha_loss': -15.184046733617782, 'alpha': 1.7862434062361716, 'critic_loss': 257.7772041630745, 'actor_loss': -4.104355513077975, 'time_step': 0.024990552139282227, 'environment': 14.0} step=10000\n",
      "2022-06-02 14:02.09 [info     ] Model parameters are saved to d3rlpy_logs/CQL_20220602135757/model_10000.pt\n"
     ]
    },
    {
     "data": {
      "text/plain": [
       "[(1,\n",
       "  {'time_sample_batch': 0.001045482325553894,\n",
       "   'time_algorithm_update': 0.023115245032310487,\n",
       "   'temp_loss': -0.8935201915087179,\n",
       "   'temp': 0.9268068702459336,\n",
       "   'alpha_loss': -15.184046733617782,\n",
       "   'alpha': 1.7862434062361716,\n",
       "   'critic_loss': 257.7772041630745,\n",
       "   'actor_loss': -4.104355513077975,\n",
       "   'time_step': 0.024990552139282227,\n",
       "   'environment': 14.0})]"
      ]
     },
     "execution_count": 35,
     "metadata": {},
     "output_type": "execute_result"
    }
   ],
   "source": [
    "cql.fit(\n",
    "    train_episodes,\n",
    "    eval_episodes=test_episodes,\n",
    "    n_steps=10000,\n",
    "    scorers={\n",
    "        'environment': evaluate_on_environment(env),\n",
    "        # to record training process w/ ground truth policy value, which is unseen to the agent\n",
    "    },\n",
    ")"
   ]
  },
  {
   "cell_type": "code",
   "execution_count": 36,
   "metadata": {},
   "outputs": [],
   "source": [
    "# save model\n",
    "cql.save_model(\"d3rlpy_logs/cql_continuous.pt\")"
   ]
  },
  {
   "cell_type": "code",
   "execution_count": 37,
   "metadata": {},
   "outputs": [
    {
     "name": "stdout",
     "output_type": "stream",
     "text": [
      "2022-06-02 14:02.09 [warning  ] Parameters will be reinitialized.\n"
     ]
    }
   ],
   "source": [
    "# reload model\n",
    "cql.build_with_env(env)\n",
    "cql.load_model(\"d3rlpy_logs/cql_continuous.pt\")"
   ]
  },
  {
   "cell_type": "code",
   "execution_count": 38,
   "metadata": {},
   "outputs": [
    {
     "data": {
      "application/vnd.jupyter.widget-view+json": {
       "model_id": "e626f8c25c3e45f4a43785bc42d2ece3",
       "version_major": 2,
       "version_minor": 0
      },
      "text/plain": [
       "[calculate on-policy policy value]:   0%|          | 0/100 [00:00<?, ?it/s]"
      ]
     },
     "metadata": {},
     "output_type": "display_data"
    },
    {
     "data": {
      "application/vnd.jupyter.widget-view+json": {
       "model_id": "0e5678be0b1e43ea8b3bc25d9ee7e56b",
       "version_major": 2,
       "version_minor": 0
      },
      "text/plain": [
       "[calculate on-policy policy value]:   0%|          | 0/100 [00:00<?, ?it/s]"
      ]
     },
     "metadata": {},
     "output_type": "display_data"
    },
    {
     "data": {
      "application/vnd.jupyter.widget-view+json": {
       "model_id": "941754b1d6b142dba5b3c6ae2dacb96b",
       "version_major": 2,
       "version_minor": 0
      },
      "text/plain": [
       "[calculate on-policy policy value]:   0%|          | 0/100 [00:00<?, ?it/s]"
      ]
     },
     "metadata": {},
     "output_type": "display_data"
    },
    {
     "data": {
      "application/vnd.jupyter.widget-view+json": {
       "model_id": "c6eed830b18c4b8cb5a5a960d5656af1",
       "version_major": 2,
       "version_minor": 0
      },
      "text/plain": [
       "[calculate on-policy policy value]:   0%|          | 0/100 [00:00<?, ?it/s]"
      ]
     },
     "metadata": {},
     "output_type": "display_data"
    },
    {
     "data": {
      "image/png": "[encoded data removed]",
      "text/plain": [
       "<Figure size 576x288 with 1 Axes>"
      ]
     },
     "metadata": {},
     "output_type": "display_data"
    }
   ],
   "source": [
    "# compare the policy performance online\n",
    "# wow, offline algorithm outperforms the online algorithm.\n",
    "# even though it requires no interaction with the environment!\n",
    "visualize_on_policy_policy_value(\n",
    "    env=env,\n",
    "    policies=[sac, behavior_policy, cql, random],\n",
    "    policy_names=[\"sac\", \"sac (sigma=1.0)\", \"cql\", \"random\"],\n",
    "    n_episodes=100,\n",
    "    random_state=random_state,\n",
    ")"
   ]
  },
  {
   "cell_type": "markdown",
   "metadata": {},
   "source": [
    "## 3. Off-Policy Evaluation and Evaluation of Offline RL methods\n",
    "In the previous section, we verified the performance of a learned policy via online interaction (aka A/B tests).  \n",
    "However, it could be risky in practice, because the policy may perform poorly in an online environment.  \n",
    "To tackle this issue, we aim at evaluating the performance of a policy offline, to gain some prior knowledge on how the agent works in the environment."
   ]
  },
  {
   "cell_type": "code",
   "execution_count": 39,
   "metadata": {},
   "outputs": [],
   "source": [
    "# import ope modules from OFRL\n",
    "from ofrl.ope import CreateOPEInput\n",
    "from ofrl.ope import ContinuousOffPolicyEvaluation as OPE\n",
    "from ofrl.ope import ContinuousDirectMethod as DM\n",
    "from ofrl.ope import ContinuousTrajectoryWiseImportanceSampling as TIS\n",
    "from ofrl.ope import ContinuousPerDecisionImportanceSampling as PDIS\n",
    "from ofrl.ope import ContinuousDoublyRobust as DR\n",
    "from ofrl.ope import ContinuousSelfNormalizedTrajectoryWiseImportanceSampling as SNTIS\n",
    "from ofrl.ope import ContinuousSelfNormalizedPerDecisionImportanceSampling as SNPDIS\n",
    "from ofrl.ope import ContinuousSelfNormalizedDoublyRobust as SNDR\n",
    "from ofrl.policy import ContinuousEvalHead"
   ]
  },
  {
   "cell_type": "code",
   "execution_count": 40,
   "metadata": {},
   "outputs": [],
   "source": [
    "# define evaluation policies (deterministic policy)\n",
    "# though OPE is applicable to stochastic policies (i.e., random), the estimation result will be unstable\n",
    "# because continuous OPE is mainly designed for deterministic policies\n",
    "cql_ = ContinuousEvalHead(\n",
    "    base_policy=cql,\n",
    "    name=\"cql\",\n",
    ")\n",
    "sac_ = ContinuousEvalHead(\n",
    "    base_policy=sac, \n",
    "    name=\"sac\", \n",
    ")\n",
    "random_ = ContinuousEvalHead(\n",
    "    base_policy=random, \n",
    "    name=\"random\", \n",
    ")\n",
    "evaluation_policies = [cql_, sac_, random_]"
   ]
  },
  {
   "cell_type": "code",
   "execution_count": 41,
   "metadata": {},
   "outputs": [],
   "source": [
    "# first, prepare OPE inputs\n",
    "prep = CreateOPEInput(\n",
    "    logged_dataset=logged_dataset,\n",
    "    use_base_model=True,  # use model-based prediction\n",
    "    base_model_args={\n",
    "        \"encoder_factory\": VectorEncoderFactory(hidden_units=[30, 30]),\n",
    "        \"q_func_factory\": MeanQFunctionFactory(),\n",
    "        \"learning_rate\": 1e-4,\n",
    "        \"use_gpu\": torch.cuda.is_available(),\n",
    "        \"action_scaler\": MinMaxActionScaler(\n",
    "            minimum=env.action_space.low,  # minimum value that policy can take\n",
    "            maximum=env.action_space.high,  # maximum value that policy can take\n",
    "        ),\n",
    "    },\n",
    ")"
   ]
  },
  {
   "cell_type": "code",
   "execution_count": 42,
   "metadata": {},
   "outputs": [
    {
     "data": {
      "application/vnd.jupyter.widget-view+json": {
       "model_id": "13511ef0a24a4b54b478a23cd6a53af4",
       "version_major": 2,
       "version_minor": 0
      },
      "text/plain": [
       "[fit FQE model]:   0%|          | 0/3 [00:00<?, ?it/s]"
      ]
     },
     "metadata": {},
     "output_type": "display_data"
    },
    {
     "name": "stdout",
     "output_type": "stream",
     "text": [
      "2022-06-02 14:05.36 [debug    ] RandomIterator is selected.\n",
      "2022-06-02 14:05.36 [info     ] Directory is created at d3rlpy_logs/FQE_20220602140536\n",
      "2022-06-02 14:05.36 [debug    ] Fitting action scaler...       action_scaler=min_max\n",
      "2022-06-02 14:05.36 [debug    ] Building models...\n",
      "2022-06-02 14:05.36 [debug    ] Models have been built.\n",
      "2022-06-02 14:05.36 [info     ] Parameters are saved to d3rlpy_logs/FQE_20220602140536/params.json params={'action_scaler': {'type': 'min_max', 'params': {'minimum': array([0.1]), 'maximum': array([10.])}}, 'batch_size': 100, 'encoder_factory': {'type': 'vector', 'params': {'hidden_units': [30, 30], 'activation': 'relu', 'use_batch_norm': False, 'dropout_rate': None, 'use_dense': False}}, 'gamma': 0.99, 'generated_maxlen': 100000, 'learning_rate': 0.0001, 'n_critics': 1, 'n_frames': 1, 'n_steps': 1, 'optim_factory': {'optim_cls': 'Adam', 'betas': (0.9, 0.999), 'eps': 1e-08, 'weight_decay': 0, 'amsgrad': False}, 'q_func_factory': {'type': 'mean', 'params': {'share_encoder': False}}, 'real_ratio': 1.0, 'reward_scaler': None, 'scaler': None, 'target_update_interval': 100, 'use_gpu': None, 'algorithm': 'FQE', 'observation_shape': (7,), 'action_size': 1}\n"
     ]
    },
    {
     "data": {
      "application/vnd.jupyter.widget-view+json": {
       "model_id": "0c8a56491293498484c944f2237ffc8b",
       "version_major": 2,
       "version_minor": 0
      },
      "text/plain": [
       "Epoch 1/1:   0%|          | 0/10000 [00:00<?, ?it/s]"
      ]
     },
     "metadata": {},
     "output_type": "display_data"
    },
    {
     "name": "stdout",
     "output_type": "stream",
     "text": [
      "2022-06-02 14:06.09 [info     ] FQE_20220602140536: epoch=1 step=10000 epoch=1 metrics={'time_sample_batch': 0.0005077235698699951, 'time_algorithm_update': 0.002597626829147339, 'loss': 313.76593570124504, 'time_step': 0.003325587201118469} step=10000\n",
      "2022-06-02 14:06.09 [info     ] Model parameters are saved to d3rlpy_logs/FQE_20220602140536/model_10000.pt\n",
      "2022-06-02 14:06.09 [debug    ] RandomIterator is selected.\n",
      "2022-06-02 14:06.09 [info     ] Directory is created at d3rlpy_logs/FQE_20220602140609\n",
      "2022-06-02 14:06.09 [debug    ] Fitting action scaler...       action_scaler=min_max\n",
      "2022-06-02 14:06.09 [debug    ] Building models...\n",
      "2022-06-02 14:06.09 [debug    ] Models have been built.\n",
      "2022-06-02 14:06.09 [info     ] Parameters are saved to d3rlpy_logs/FQE_20220602140609/params.json params={'action_scaler': {'type': 'min_max', 'params': {'minimum': array([0.1]), 'maximum': array([10.])}}, 'batch_size': 100, 'encoder_factory': {'type': 'vector', 'params': {'hidden_units': [30, 30], 'activation': 'relu', 'use_batch_norm': False, 'dropout_rate': None, 'use_dense': False}}, 'gamma': 0.99, 'generated_maxlen': 100000, 'learning_rate': 0.0001, 'n_critics': 1, 'n_frames': 1, 'n_steps': 1, 'optim_factory': {'optim_cls': 'Adam', 'betas': (0.9, 0.999), 'eps': 1e-08, 'weight_decay': 0, 'amsgrad': False}, 'q_func_factory': {'type': 'mean', 'params': {'share_encoder': False}}, 'real_ratio': 1.0, 'reward_scaler': None, 'scaler': None, 'target_update_interval': 100, 'use_gpu': None, 'algorithm': 'FQE', 'observation_shape': (7,), 'action_size': 1}\n"
     ]
    },
    {
     "data": {
      "application/vnd.jupyter.widget-view+json": {
       "model_id": "18bb475a6a4d42f09fc6f7e4a9389529",
       "version_major": 2,
       "version_minor": 0
      },
      "text/plain": [
       "Epoch 1/1:   0%|          | 0/10000 [00:00<?, ?it/s]"
      ]
     },
     "metadata": {},
     "output_type": "display_data"
    },
    {
     "name": "stdout",
     "output_type": "stream",
     "text": [
      "2022-06-02 14:06.42 [info     ] FQE_20220602140609: epoch=1 step=10000 epoch=1 metrics={'time_sample_batch': 0.0005022750616073609, 'time_algorithm_update': 0.0024642263412475588, 'loss': 664.6008085890592, 'time_step': 0.0031780136585235594} step=10000\n",
      "2022-06-02 14:06.42 [info     ] Model parameters are saved to d3rlpy_logs/FQE_20220602140609/model_10000.pt\n",
      "2022-06-02 14:06.42 [debug    ] RandomIterator is selected.\n",
      "2022-06-02 14:06.42 [info     ] Directory is created at d3rlpy_logs/FQE_20220602140642\n",
      "2022-06-02 14:06.42 [debug    ] Fitting action scaler...       action_scaler=min_max\n",
      "2022-06-02 14:06.42 [debug    ] Building models...\n",
      "2022-06-02 14:06.42 [debug    ] Models have been built.\n",
      "2022-06-02 14:06.42 [info     ] Parameters are saved to d3rlpy_logs/FQE_20220602140642/params.json params={'action_scaler': {'type': 'min_max', 'params': {'minimum': array([0.1]), 'maximum': array([10.])}}, 'batch_size': 100, 'encoder_factory': {'type': 'vector', 'params': {'hidden_units': [30, 30], 'activation': 'relu', 'use_batch_norm': False, 'dropout_rate': None, 'use_dense': False}}, 'gamma': 0.99, 'generated_maxlen': 100000, 'learning_rate': 0.0001, 'n_critics': 1, 'n_frames': 1, 'n_steps': 1, 'optim_factory': {'optim_cls': 'Adam', 'betas': (0.9, 0.999), 'eps': 1e-08, 'weight_decay': 0, 'amsgrad': False}, 'q_func_factory': {'type': 'mean', 'params': {'share_encoder': False}}, 'real_ratio': 1.0, 'reward_scaler': None, 'scaler': None, 'target_update_interval': 100, 'use_gpu': None, 'algorithm': 'FQE', 'observation_shape': (7,), 'action_size': 1}\n"
     ]
    },
    {
     "data": {
      "application/vnd.jupyter.widget-view+json": {
       "model_id": "3ae291f0f112447baa09f1048cdd1b76",
       "version_major": 2,
       "version_minor": 0
      },
      "text/plain": [
       "Epoch 1/1:   0%|          | 0/10000 [00:00<?, ?it/s]"
      ]
     },
     "metadata": {},
     "output_type": "display_data"
    },
    {
     "name": "stdout",
     "output_type": "stream",
     "text": [
      "2022-06-02 14:07.06 [info     ] FQE_20220602140642: epoch=1 step=10000 epoch=1 metrics={'time_sample_batch': 0.0005004998207092285, 'time_algorithm_update': 0.0017187340259552002, 'loss': 8.441649040126801, 'time_step': 0.0024258845329284667} step=10000\n",
      "2022-06-02 14:07.06 [info     ] Model parameters are saved to d3rlpy_logs/FQE_20220602140642/model_10000.pt\n"
     ]
    },
    {
     "data": {
      "application/vnd.jupyter.widget-view+json": {
       "model_id": "bfa415153ef045dfa2f885f49bdfafe4",
       "version_major": 2,
       "version_minor": 0
      },
      "text/plain": [
       "[collect input data]:   0%|          | 0/3 [00:00<?, ?it/s]"
      ]
     },
     "metadata": {},
     "output_type": "display_data"
    },
    {
     "data": {
      "application/vnd.jupyter.widget-view+json": {
       "model_id": "d9435d133c794c41aed170b72658d446",
       "version_major": 2,
       "version_minor": 0
      },
      "text/plain": [
       "[calculate on-policy policy value]:   0%|          | 0/100 [00:00<?, ?it/s]"
      ]
     },
     "metadata": {},
     "output_type": "display_data"
    },
    {
     "data": {
      "application/vnd.jupyter.widget-view+json": {
       "model_id": "0d8cf7faf72841afad4899a6f89f7014",
       "version_major": 2,
       "version_minor": 0
      },
      "text/plain": [
       "[calculate on-policy policy value]:   0%|          | 0/100 [00:00<?, ?it/s]"
      ]
     },
     "metadata": {},
     "output_type": "display_data"
    },
    {
     "data": {
      "application/vnd.jupyter.widget-view+json": {
       "model_id": "350c79c9cf0a490d88ae3737952ef8fe",
       "version_major": 2,
       "version_minor": 0
      },
      "text/plain": [
       "[calculate on-policy policy value]:   0%|          | 0/100 [00:00<?, ?it/s]"
      ]
     },
     "metadata": {},
     "output_type": "display_data"
    }
   ],
   "source": [
    "input_dict = prep.obtain_whole_inputs(\n",
    "    evaluation_policies=evaluation_policies,\n",
    "    env=env,\n",
    "    n_episodes_on_policy_evaluation=100,\n",
    "    random_state=random_state,\n",
    ")"
   ]
  },
  {
   "cell_type": "code",
   "execution_count": 43,
   "metadata": {},
   "outputs": [],
   "source": [
    "with open(\"logs/ope_input_dict_continuous.pkl\", \"wb\") as f:\n",
    "    pickle.dump(input_dict, f)"
   ]
  },
  {
   "cell_type": "code",
   "execution_count": 44,
   "metadata": {},
   "outputs": [],
   "source": [
    "with open(\"logs/ope_input_dict_continuous.pkl\", \"rb\") as f:\n",
    "    input_dict = pickle.load(f)"
   ]
  },
  {
   "cell_type": "code",
   "execution_count": 45,
   "metadata": {},
   "outputs": [],
   "source": [
    "ope = OPE(\n",
    "    logged_dataset=logged_dataset,\n",
    "    ope_estimators=[DM(), TIS(), PDIS(), DR(), SNTIS(), SNPDIS(), SNDR()],\n",
    "    use_truncated_kernel=True,\n",
    "    action_min=env.action_space.low,\n",
    "    action_max=env.action_space.high,\n",
    ")"
   ]
  },
  {
   "cell_type": "code",
   "execution_count": 46,
   "metadata": {},
   "outputs": [],
   "source": [
    "# performance estimation by ope\n",
    "# takes time to compute (about 15min)\n",
    "policy_value_df_dict, policy_value_interval_df_dict = ope.summarize_off_policy_estimates(input_dict, random_state=random_state)"
   ]
  },
  {
   "cell_type": "code",
   "execution_count": 47,
   "metadata": {},
   "outputs": [
    {
     "data": {
      "text/plain": [
       "{'cql':            policy_value  relative_policy_value\n",
       " on_policy     14.490000               1.000000\n",
       " dm            11.792686               0.813850\n",
       " tis            0.154289               0.010648\n",
       " pdis           9.835071               0.678749\n",
       " dr            11.559985               0.797791\n",
       " sntis          8.401922               0.579843\n",
       " snpdis        17.592569               1.214118\n",
       " sndr          13.429263               0.926795,\n",
       " 'sac':            policy_value  relative_policy_value\n",
       " on_policy     14.500000               1.000000\n",
       " dm            14.204239               0.979603\n",
       " tis            1.474268               0.101674\n",
       " pdis           4.278990               0.295103\n",
       " dr            14.302080               0.986350\n",
       " sntis         14.719959               1.015170\n",
       " snpdis        14.252187               0.982909\n",
       " sndr          14.302287               0.986365,\n",
       " 'random':            policy_value  relative_policy_value\n",
       " on_policy     14.300000               1.000000\n",
       " dm            15.606367               1.091354\n",
       " tis            0.001910               0.000134\n",
       " pdis           3.884983               0.271677\n",
       " dr            16.616976               1.162026\n",
       " sntis          5.924433               0.414296\n",
       " snpdis        14.465202               1.011553\n",
       " sndr          14.754414               1.031777}"
      ]
     },
     "execution_count": 47,
     "metadata": {},
     "output_type": "execute_result"
    }
   ],
   "source": [
    "# estimated policy performance\n",
    "policy_value_df_dict"
   ]
  },
  {
   "cell_type": "code",
   "execution_count": 48,
   "metadata": {},
   "outputs": [
    {
     "data": {
      "text/plain": [
       "{'cql':                 mean  95.0% CI (lower)  95.0% CI (upper)\n",
       " on_policy  14.408900         13.660000         15.085750\n",
       " dm         11.792699         11.792084         11.793253\n",
       " tis         0.153202          0.078695          0.280380\n",
       " pdis        9.829290          9.692749          9.971687\n",
       " dr         11.563440         11.485105         11.633693\n",
       " sntis       8.642298          6.257216         11.179134\n",
       " snpdis     17.625293         16.785902         18.873916\n",
       " sndr       13.274803          9.738283         16.244157,\n",
       " 'sac':                 mean  95.0% CI (lower)  95.0% CI (upper)\n",
       " on_policy  14.426300         13.684250         15.125250\n",
       " dm         14.204251         14.203987         14.204626\n",
       " tis         1.474993          1.421885          1.529777\n",
       " pdis        4.281386          4.240819          4.321223\n",
       " dr         14.302685         14.277889         14.324097\n",
       " sntis      14.766585         13.669787         16.158817\n",
       " snpdis     14.276108         14.022747         14.511638\n",
       " sndr       14.267895         13.158380         15.578224,\n",
       " 'random':                 mean  95.0% CI (lower)  95.0% CI (upper)\n",
       " on_policy  14.195600         13.542250         14.910500\n",
       " dm         15.606306         15.602495         15.610298\n",
       " tis         0.001964          0.000657          0.003245\n",
       " pdis        3.888613          3.259554          4.799891\n",
       " dr         16.626889         16.372419         16.982888\n",
       " sntis       6.127781          1.355419         12.130364\n",
       " snpdis     14.602099         13.459835         15.595554\n",
       " sndr       14.710984          8.869979         20.947689}"
      ]
     },
     "execution_count": 48,
     "metadata": {},
     "output_type": "execute_result"
    }
   ],
   "source": [
    "# estimated confidence intervals of the policy performance\n",
    "policy_value_interval_df_dict"
   ]
  },
  {
   "cell_type": "markdown",
   "metadata": {},
   "source": [
    "## 4. Evaluation of OPE methods\n",
    "Now, we evaluate how well the ope estimators estimated the policy value."
   ]
  },
  {
   "cell_type": "code",
   "execution_count": 49,
   "metadata": {},
   "outputs": [
    {
     "data": {
      "image/png": "[encoded data removed]",
      "text/plain": [
       "<Figure size 1008x2592 with 3 Axes>"
      ]
     },
     "metadata": {},
     "output_type": "display_data"
    }
   ],
   "source": [
    "# we can visualize and compare the ope result\n",
    "# it seems many offline metrics underestimate the policy value\n",
    "ope.visualize_off_policy_estimates(input_dict, random_state=random_state, sharey=True)"
   ]
  },
  {
   "cell_type": "code",
   "execution_count": 50,
   "metadata": {},
   "outputs": [
    {
     "data": {
      "text/html": [
       "<div>\n",
       "<style scoped>\n",
       "    .dataframe tbody tr th:only-of-type {\n",
       "        vertical-align: middle;\n",
       "    }\n",
       "\n",
       "    .dataframe tbody tr th {\n",
       "        vertical-align: top;\n",
       "    }\n",
       "\n",
       "    .dataframe thead th {\n",
       "        text-align: right;\n",
       "    }\n",
       "</style>\n",
       "<table border=\"1\" class=\"dataframe\">\n",
       "  <thead>\n",
       "    <tr style=\"text-align: right;\">\n",
       "      <th></th>\n",
       "      <th>cql</th>\n",
       "      <th>sac</th>\n",
       "      <th>random</th>\n",
       "    </tr>\n",
       "  </thead>\n",
       "  <tbody>\n",
       "    <tr>\n",
       "      <th>dm</th>\n",
       "      <td>7.275505</td>\n",
       "      <td>0.087475</td>\n",
       "      <td>1.706595</td>\n",
       "    </tr>\n",
       "    <tr>\n",
       "      <th>tis</th>\n",
       "      <td>205.512597</td>\n",
       "      <td>169.669689</td>\n",
       "      <td>204.435381</td>\n",
       "    </tr>\n",
       "    <tr>\n",
       "      <th>pdis</th>\n",
       "      <td>21.668365</td>\n",
       "      <td>104.469045</td>\n",
       "      <td>108.472587</td>\n",
       "    </tr>\n",
       "    <tr>\n",
       "      <th>dr</th>\n",
       "      <td>8.584990</td>\n",
       "      <td>0.039172</td>\n",
       "      <td>5.368380</td>\n",
       "    </tr>\n",
       "    <tr>\n",
       "      <th>sntis</th>\n",
       "      <td>37.064700</td>\n",
       "      <td>0.048382</td>\n",
       "      <td>70.150116</td>\n",
       "    </tr>\n",
       "    <tr>\n",
       "      <th>snpdis</th>\n",
       "      <td>9.625937</td>\n",
       "      <td>0.061411</td>\n",
       "      <td>0.027292</td>\n",
       "    </tr>\n",
       "    <tr>\n",
       "      <th>sndr</th>\n",
       "      <td>1.125162</td>\n",
       "      <td>0.039090</td>\n",
       "      <td>0.206492</td>\n",
       "    </tr>\n",
       "  </tbody>\n",
       "</table>\n",
       "</div>"
      ],
      "text/plain": [
       "               cql         sac      random\n",
       "dm        7.275505    0.087475    1.706595\n",
       "tis     205.512597  169.669689  204.435381\n",
       "pdis     21.668365  104.469045  108.472587\n",
       "dr        8.584990    0.039172    5.368380\n",
       "sntis    37.064700    0.048382   70.150116\n",
       "snpdis    9.625937    0.061411    0.027292\n",
       "sndr      1.125162    0.039090    0.206492"
      ]
     },
     "execution_count": 50,
     "metadata": {},
     "output_type": "execute_result"
    }
   ],
   "source": [
    "# squared-error (se) measures the estimation accuracy of OPE\n",
    "eval_metric_ope_df = ope.summarize_estimators_comparison(input_dict, metric=\"se\")\n",
    "eval_metric_ope_df"
   ]
  },
  {
   "cell_type": "markdown",
   "metadata": {},
   "source": [
    "For examples regarding the discrete action space, please refer to [examples/quickstart/rtb_synthetic_discrete_basic.ipynb](https://github.com/negocia-inc/rtb_reinforcement_learing/blob/ope/examples/quickstart/rtb_synthetic_discrete_basic.ipynb)."
   ]
  },
  {
   "cell_type": "markdown",
   "metadata": {},
   "source": [
    "## Reference\n",
    "\n",
    "- Yuta Saito, Shunsuke Aihara, Megumi Matsutani, and Yusuke Narita. \\\n",
    "\"Open Bandit Dataset and Pipeline: Towards Realistic and Reproducible Off-Policy Evaluation.\", 2021.\n",
    "\n",
    "- Takuma Seno and Michita Imai. \\\n",
    "\"d3rlpy: An Offline Deep Reinforcement Library.\", 2021.\n",
    "\n",
    "- Sergey Levine, Aviral Kumar, George Tucker, and Justin Fu. \\\n",
    "\"Offline Reinforcement Learning: Tutorial, Review, and Perspectives on Open Problems.\" 2020.\n",
    "\n",
    "- Aviral Kumar, Aurick Zhou, George Tucker, and Sergey Levine. \\\n",
    "\"Conservative Q-Learning for Offline Reinforcement Learning.\", 2020.\n",
    "\n",
    "- Nathan Kallus and Masatoshi Uehara. \\\n",
    "\"Intrinsically Efficient, Stable, and Bounded Off-Policy Evaluation for Reinforcement Learning.\", 2019.\n",
    "\n",
    "- Hoang Le, Cameron Voloshin, and Yisong Yue. \\\n",
    "\"Batch Policy Learning under Constraints.\", 2019.\n",
    "\n",
    "- Tuomas Haarnoja, Aurick Zhou, Pieter Abbeel, and Sergey Levine. \\\n",
    "\"Soft Actor-Critic: Off-Policy Maximum Entropy Deep Reinforcement Learning with a Stochastic Actor.\" 2018.\n",
    "\n",
    "- Di Wu, Xiujun Chen, Xun Yang, Hao Wang, Qing Tan, Xiaoxun Zhang, Jian Xu, and Kun Gai. \\\n",
    "\"Budget Constrained Bidding by Model-free Reinforcement Learning in Display Advertising.\", 2018.\n",
    "\n",
    "- Jun Zhao, Guang Qiu, Ziyu Guan, Wei Zhao, and Xiaofei He. \\\n",
    "\"Deep Reinforcement Learning for Sponsored Search Real-time Bidding.\", 2018.\n",
    "\n",
    "- Nan Jiang and Lihong Li. \\\n",
    "\"Doubly Robust Off-policy Value Evaluation for Reinforcement Learning.\", 2016.\n",
    "\n",
    "- Philip S. Thomas and Emma Brunskill. \\\n",
    "\"Data-Efficient Off-Policy Policy Evaluation for Reinforcement Learning.\", 2016.\n",
    "\n",
    "- Greg Brockman, Vicki Cheung, Ludwig Pettersson, Jonas Schneider, John Schulman, Jie Tang, and Wojciech Zaremba. \\\n",
    "\"OpenAI Gym.\", 2016.\n",
    "\n",
    "- Adith Swaminathan and Thorsten Joachims. \\\n",
    "\"The Self-Normalized Estimator for Counterfactual Learning.\", 2015.\n",
    "\n",
    "- Miroslav Dudík, Dumitru Erhan, John Langford, and Lihong Li. \\\n",
    "\"Doubly Robust Policy Evaluation and Optimization.\", 2014.\n",
    "\n",
    "- Alex Strehl, John Langford, Sham Kakade, and Lihong Li. \\\n",
    "\"Learning from Logged Implicit Exploration Data.\", 2010.\n",
    "\n",
    "- Alina Beygelzimer and John Langford. \\\n",
    "\"The Offset Tree for Learning with Partial Labels.\", 2009.\n",
    "\n",
    "- Doina Precup, Richard S. Sutton, and Satinder P. Singh. \\\n",
    "\"Eligibility Traces for Off-Policy Policy Evaluation.\", 2000."
   ]
  },
  {
   "cell_type": "code",
   "execution_count": null,
   "metadata": {},
   "outputs": [],
   "source": []
  }
 ],
 "metadata": {
  "kernelspec": {
   "display_name": "Python 3.9.4 64-bit",
   "language": "python",
   "name": "python3"
  },
  "language_info": {
   "codemirror_mode": {
    "name": "ipython",
    "version": 3
   },
   "file_extension": ".py",
   "mimetype": "text/x-python",
   "name": "python",
   "nbconvert_exporter": "python",
   "pygments_lexer": "ipython3",
   "version": "3.9.4"
  },
  "vscode": {
   "interpreter": {
    "hash": "eeb0e296031d5f4c93e05211083c58e9e78a3e8af86402f626ea4098c0a5e991"
   }
  }
 },
 "nbformat": 4,
 "nbformat_minor": 4
}
