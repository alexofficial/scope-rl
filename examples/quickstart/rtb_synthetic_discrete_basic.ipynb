{
 "cells": [
  {
   "cell_type": "markdown",
   "metadata": {},
   "source": [
    "# Quickstart Example with Synthetic RTB Simulation and Dataset (Discrete)\n",
    "This notebook provides an example of conducting **Off-policy Evaluation (OPE) and Offline Reinforcement Learning (Offline RL) with synthetic Real-Time Bidding (RTB) dataset**.\n",
    "\n",
    "Our example with Synthetic RTB Simualtion and Dataset contains the following 5 steps: \\\n",
    "0. (Setup Synthetic RTB Simulation Environment and Online RL)\n",
    "1. Synthetic Data Generation\n",
    "2. Offline Reinforcement Learning\n",
    "3. Off-Policy Evaluation and Evaluation of Offline RL methods\n",
    "4. Evaluation of OPE methods\n",
    "\n",
    "\\* This library uses [d3rlpy](https://github.com/takuseno/d3rlpy)'s algorithm implementations of online/offline rl policies and model-based evaluation.  \n",
    "\\* Also, our implementations of OPE are highly inspired by [Open Bandit Pipeline](https://github.com/st-tech/zr-obp)."
   ]
  },
  {
   "cell_type": "code",
   "execution_count": 1,
   "metadata": {},
   "outputs": [],
   "source": [
    "# delete later\n",
    "%load_ext autoreload\n",
    "%autoreload 2"
   ]
  },
  {
   "cell_type": "code",
   "execution_count": 2,
   "metadata": {},
   "outputs": [],
   "source": [
    "# delete later\n",
    "import warnings\n",
    "warnings.simplefilter('ignore')"
   ]
  },
  {
   "cell_type": "code",
   "execution_count": 3,
   "metadata": {},
   "outputs": [],
   "source": [
    "# delete later\n",
    "import sys\n",
    "sys.path.append('../')\n",
    "sys.path.append('../../')"
   ]
  },
  {
   "cell_type": "code",
   "execution_count": 4,
   "metadata": {},
   "outputs": [],
   "source": [
    "# import offlinegym modules\n",
    "import offlinegym\n",
    "from rtbgym import RTBEnv, CustomizedRTBEnv\n",
    "from offlinegym.dataset import SyntheticDataset\n",
    "from offlinegym.policy import OnlineHead\n",
    "from offlinegym.ope.online import (\n",
    "    calc_on_policy_policy_value,\n",
    "    visualize_on_policy_policy_value,\n",
    ")\n",
    "\n",
    "# import d3rlpy algorithms\n",
    "from d3rlpy.algos import DiscreteRandomPolicy\n",
    "from d3rlpy.algos import RandomPolicy as ContinuousRandomPolicy\n",
    "from d3rlpy.preprocessing import MinMaxActionScaler\n",
    "\n",
    "# import from other libraries\n",
    "import gym\n",
    "import torch\n",
    "from sklearn.model_selection import train_test_split"
   ]
  },
  {
   "cell_type": "code",
   "execution_count": 5,
   "metadata": {},
   "outputs": [],
   "source": [
    "import pickle\n",
    "from glob import glob\n",
    "from tqdm import tqdm\n",
    "\n",
    "import numpy as np\n",
    "import pandas as pd\n",
    "\n",
    "import matplotlib.pyplot as plt\n",
    "import seaborn as sns\n",
    "\n",
    "%matplotlib inline"
   ]
  },
  {
   "cell_type": "code",
   "execution_count": 6,
   "metadata": {},
   "outputs": [
    {
     "name": "stdout",
     "output_type": "stream",
     "text": [
      "0.0.0\n"
     ]
    }
   ],
   "source": [
    "# version\n",
    "print(offlinegym.__version__)"
   ]
  },
  {
   "cell_type": "code",
   "execution_count": 7,
   "metadata": {},
   "outputs": [],
   "source": [
    "# set random state\n",
    "random_state = 12345"
   ]
  },
  {
   "cell_type": "code",
   "execution_count": 8,
   "metadata": {},
   "outputs": [],
   "source": [
    "# log directory\n",
    "from pathlib import Path\n",
    "Path(\"logs/\").mkdir(exist_ok=True)"
   ]
  },
  {
   "cell_type": "markdown",
   "metadata": {},
   "source": [
    "## 0. (Setup Synthetic RTB Simulation Environment and Online RL)\n",
    "To begin with, we briefly describe how the RTB environment works for the preparation.\n",
    "\n",
    "#### RL setup for RTB\n",
    "In RTB, the objective of the RL agent is to maximize some KPIs (such as numbers of click or conversion) within a episode under the given budget constraints.  \n",
    "We often try to achieve this by adjusting bidding price function parameter $\\alpha$. By using $\\alpha$, we adjust bid price as follows.  \n",
    "$bid_{t,i} = \\alpha \\cdot r^{\\ast}$, \n",
    "where $r^{\\ast}$ denotes predicted or expected reward (KPIs).\n",
    "\n",
    "We often formulate this RTB problem as the following Constrained Markov Decision Process (CMDP):\n",
    "- `timestep`: One episode (a day or a week) consists of several timesteps (24 hours or seven days, for instance).\n",
    "- `state`: We observe statistical feedback from environment at each timestep, which include following informations.\n",
    "  - timestep\n",
    "  - remaining budget\n",
    "  - impression level features (budget comsuption rate, cost per mille of impressions, auction winning rate, reward) at previous timestep\n",
    "  - adjust rate (RL agent's decision making) at previous timestep\n",
    "- `action`: Agent chooses adjust rate parameter $\\alpha$ to maximize KPIs.\n",
    "- `reward`: Total number of clicks or conversions obtained during the timestep.\n",
    "- `constraints`: The pre-determined episodic budget should not be exceeded.\n",
    "\n",
    "For more about the environmental configuration , please refer to [examples/quickstart/rtb_synthetic_customize_env.ipynb](https://github.com/negocia-inc/rtb_reinforcement_learing/blob/ope/examples/quickstart/rtb_synthetic_customize_env.ipynb).\n",
    "\n",
    "Let's see how it works!"
   ]
  },
  {
   "cell_type": "code",
   "execution_count": 9,
   "metadata": {},
   "outputs": [],
   "source": [
    "# setup environment\n",
    "env = RTBEnv(random_state=random_state)"
   ]
  },
  {
   "cell_type": "code",
   "execution_count": 10,
   "metadata": {},
   "outputs": [],
   "source": [
    "# define random agent\n",
    "agent = OnlineHead(\n",
    "    ContinuousRandomPolicy(\n",
    "        action_scaler=MinMaxActionScaler(\n",
    "            minimum=0.1,  # minimum value that policy can take\n",
    "            maximum=10,  # maximum value that policy can take\n",
    "        )\n",
    "    )\n",
    ")"
   ]
  },
  {
   "cell_type": "code",
   "execution_count": 11,
   "metadata": {},
   "outputs": [],
   "source": [
    "# interact agent with environment\n",
    "# only 6 lines needed for RL interaction\n",
    "for episode in range(10):\n",
    "    obs = env.reset()\n",
    "    done = False\n",
    "\n",
    "    while not done:\n",
    "        action = agent.predict_online(obs)\n",
    "        obs, reward, done, info = env.step(action)"
   ]
  },
  {
   "cell_type": "code",
   "execution_count": 12,
   "metadata": {},
   "outputs": [
    {
     "name": "stdout",
     "output_type": "stream",
     "text": [
      "['timestep', 'remaining_budget', 'budget_consumption_rate', 'cost_per_mille_of_impression', 'winning_rate', 'reward', 'adjust_rate']\n",
      "(7,)\n"
     ]
    }
   ],
   "source": [
    "# state contains the following statistical feedback from environment\n",
    "print(env.obs_keys)\n",
    "print(obs.shape)"
   ]
  },
  {
   "cell_type": "code",
   "execution_count": 13,
   "metadata": {},
   "outputs": [
    {
     "data": {
      "image/png": "[encoded data removed]",
      "text/plain": [
       "<Figure size 432x288 with 2 Axes>"
      ]
     },
     "metadata": {
      "needs_background": "light"
     },
     "output_type": "display_data"
    }
   ],
   "source": [
    "# let's visualize the transition of remaing budget and cumulative reward\n",
    "# our goal is to gain a policy (i.e., agent) which maximize the cumulative reward under budget constraints using RL.  \n",
    "obs = env.reset()\n",
    "done = False\n",
    "remaining_budget = [obs[1]]\n",
    "cumulative_reward = [0]\n",
    "\n",
    "while not done:\n",
    "    action = agent.predict_online(obs)\n",
    "    obs, reward, done, info = env.step(action)\n",
    "    remaining_budget.append(obs[1])\n",
    "    cumulative_reward.append(cumulative_reward[-1] + reward)\n",
    "\n",
    "# plot\n",
    "fig = plt.figure()\n",
    "ax1 = fig.add_subplot(111)\n",
    "ax1.plot(remaining_budget[:-1], label='remaining budget')\n",
    "ax2 = ax1.twinx()\n",
    "ax2.plot(cumulative_reward[:-1], label='cumulative reward', color='tab:orange')\n",
    "ax1.set_xlabel('timestep')\n",
    "ax1.set_ylabel('remainig budget')\n",
    "ax1.set_ylim(0, env.initial_budget + 100)\n",
    "ax2.set_ylabel('reward (coversion)')\n",
    "ax1.legend(loc='upper left')\n",
    "ax2.legend(loc='upper right')\n",
    "plt.show()"
   ]
  },
  {
   "cell_type": "markdown",
   "metadata": {},
   "source": [
    "We see that the random policy soon run out the budget.  \n",
    "Our goal is to derive a policy that controls the adjust rate (i.e., action) to maximize the reward within the given budget constraints.\n",
    "\n",
    "For more about the environmental configurations and customization, please refer to [examples/quickstart/rtb_synthetic_customize_env.ipynb](https://github.com/negocia-inc/rtb_reinforcement_learing/blob/ope/examples/quickstart/rtb_synthetic_customize_env.ipynb)."
   ]
  },
  {
   "cell_type": "markdown",
   "metadata": {},
   "source": [
    "#### Online RL and comparison of the policies\n",
    "We now learn an online RL policy and compare it to random policy, using on-policy policy estimation."
   ]
  },
  {
   "cell_type": "code",
   "execution_count": 14,
   "metadata": {},
   "outputs": [
    {
     "name": "stdout",
     "output_type": "stream",
     "text": [
      "[ 0.1         0.16681005  0.27825594  0.46415888  0.77426368  1.29154967\n",
      "  2.15443469  3.59381366  5.9948425  10.        ]\n"
     ]
    }
   ],
   "source": [
    "# standardized environemnt for discrete action\n",
    "env = gym.make(\"RTBEnv-discrete-v0\")\n",
    "print(env.action_meaning)"
   ]
  },
  {
   "cell_type": "code",
   "execution_count": 15,
   "metadata": {},
   "outputs": [],
   "source": [
    "from d3rlpy.algos import DoubleDQN\n",
    "from d3rlpy.models.encoders import VectorEncoderFactory\n",
    "from d3rlpy.models.q_functions import MeanQFunctionFactory\n",
    "from d3rlpy.online.buffers import ReplayBuffer\n",
    "from d3rlpy.online.explorers import LinearDecayEpsilonGreedy\n",
    "\n",
    "# model\n",
    "ddqn = DoubleDQN(\n",
    "    encoder_factory=VectorEncoderFactory(hidden_units=[30, 30]),\n",
    "    q_func_factory=MeanQFunctionFactory(),\n",
    "    target_update_interval=100,\n",
    "    use_gpu=torch.cuda.is_available(),\n",
    ")\n",
    "# replay buffer\n",
    "buffer = ReplayBuffer(\n",
    "    maxlen=10000,\n",
    "    env=env,\n",
    ")\n",
    "# explorers\n",
    "explorer = LinearDecayEpsilonGreedy(\n",
    "    start_epsilon=1.0,\n",
    "    end_epsilon=0.3,\n",
    "    duration=1000,\n",
    ")"
   ]
  },
  {
   "cell_type": "code",
   "execution_count": 16,
   "metadata": {},
   "outputs": [
    {
     "name": "stdout",
     "output_type": "stream",
     "text": [
      "2022-06-09 13:06.01 [info     ] Directory is created at d3rlpy_logs/DoubleDQN_online_20220609130601\n",
      "2022-06-09 13:06.01 [debug    ] Building model...\n",
      "2022-06-09 13:06.01 [debug    ] Model has been built.\n",
      "2022-06-09 13:06.01 [info     ] Parameters are saved to d3rlpy_logs/DoubleDQN_online_20220609130601/params.json params={'action_scaler': None, 'batch_size': 32, 'encoder_factory': {'type': 'vector', 'params': {'hidden_units': [30, 30], 'activation': 'relu', 'use_batch_norm': False, 'dropout_rate': None, 'use_dense': False}}, 'gamma': 0.99, 'generated_maxlen': 100000, 'learning_rate': 6.25e-05, 'n_critics': 1, 'n_frames': 1, 'n_steps': 1, 'optim_factory': {'optim_cls': 'Adam', 'betas': (0.9, 0.999), 'eps': 1e-08, 'weight_decay': 0, 'amsgrad': False}, 'q_func_factory': {'type': 'mean', 'params': {'share_encoder': False}}, 'real_ratio': 1.0, 'reward_scaler': None, 'scaler': None, 'target_update_interval': 100, 'use_gpu': None, 'algorithm': 'DoubleDQN', 'observation_shape': (7,), 'action_size': 10}\n"
     ]
    },
    {
     "data": {
      "application/vnd.jupyter.widget-view+json": {
       "model_id": "0e1116870caf4d17b61f8e7cdca4caaa",
       "version_major": 2,
       "version_minor": 0
      },
      "text/plain": [
       "  0%|          | 0/100000 [00:00<?, ?it/s]"
      ]
     },
     "metadata": {},
     "output_type": "display_data"
    },
    {
     "name": "stdout",
     "output_type": "stream",
     "text": [
      "2022-06-09 13:06.02 [info     ] Model parameters are saved to d3rlpy_logs/DoubleDQN_online_20220609130601/model_1000.pt\n",
      "2022-06-09 13:06.02 [info     ] DoubleDQN_online_20220609130601: epoch=1 step=1000 epoch=1 metrics={'time_inference': 0.00034343695640563966, 'time_environment_step': 0.0005806100368499756, 'time_step': 0.0009608530998229981, 'rollout_return': 12.950704225352112, 'evaluation': 14.2} step=1000\n",
      "2022-06-09 13:06.05 [info     ] Model parameters are saved to d3rlpy_logs/DoubleDQN_online_20220609130601/model_2000.pt\n",
      "2022-06-09 13:06.05 [info     ] DoubleDQN_online_20220609130601: epoch=2 step=2000 epoch=2 metrics={'time_inference': 0.00030292439460754395, 'time_environment_step': 0.0006048946380615235, 'time_sample_batch': 7.404613494873047e-05, 'time_algorithm_update': 0.0012749712467193604, 'loss': 63.913463223457335, 'time_step': 0.002316171646118164, 'rollout_return': 13.091549295774648, 'evaluation': 0.0} step=2000\n",
      "2022-06-09 13:06.07 [info     ] Model parameters are saved to d3rlpy_logs/DoubleDQN_online_20220609130601/model_3000.pt\n",
      "2022-06-09 13:06.07 [info     ] DoubleDQN_online_20220609130601: epoch=3 step=3000 epoch=3 metrics={'time_inference': 0.00027721714973449706, 'time_environment_step': 0.0005495483875274658, 'time_sample_batch': 6.696724891662597e-05, 'time_algorithm_update': 0.0011232938766479491, 'loss': 16.009177528858185, 'time_step': 0.002068946838378906, 'rollout_return': 4.922535211267606, 'evaluation': 0.0} step=3000\n",
      "2022-06-09 13:06.09 [info     ] Model parameters are saved to d3rlpy_logs/DoubleDQN_online_20220609130601/model_4000.pt\n",
      "2022-06-09 13:06.09 [info     ] DoubleDQN_online_20220609130601: epoch=4 step=4000 epoch=4 metrics={'time_inference': 0.0002828989028930664, 'time_environment_step': 0.0005568506717681885, 'time_sample_batch': 6.815910339355469e-05, 'time_algorithm_update': 0.0011378068923950195, 'loss': 14.072333827495575, 'time_step': 0.0020986337661743166, 'rollout_return': 4.823943661971831, 'evaluation': 0.0} step=4000\n",
      "2022-06-09 13:06.11 [info     ] Model parameters are saved to d3rlpy_logs/DoubleDQN_online_20220609130601/model_5000.pt\n",
      "2022-06-09 13:06.11 [info     ] DoubleDQN_online_20220609130601: epoch=5 step=5000 epoch=5 metrics={'time_inference': 0.00028757619857788086, 'time_environment_step': 0.0005645434856414795, 'time_sample_batch': 7.077860832214356e-05, 'time_algorithm_update': 0.0011749715805053711, 'loss': 14.125350178480149, 'time_step': 0.0021516802310943602, 'rollout_return': 4.711267605633803, 'evaluation': 0.0} step=5000\n",
      "2022-06-09 13:06.14 [info     ] Model parameters are saved to d3rlpy_logs/DoubleDQN_online_20220609130601/model_6000.pt\n",
      "2022-06-09 13:06.14 [info     ] DoubleDQN_online_20220609130601: epoch=6 step=6000 epoch=6 metrics={'time_inference': 0.0002967996597290039, 'time_environment_step': 0.0005913286209106445, 'time_sample_batch': 7.439231872558594e-05, 'time_algorithm_update': 0.001202061176300049, 'loss': 12.924994868516922, 'time_step': 0.0022216084003448488, 'rollout_return': 4.570422535211268, 'evaluation': 0.0} step=6000\n",
      "2022-06-09 13:06.16 [info     ] Model parameters are saved to d3rlpy_logs/DoubleDQN_online_20220609130601/model_7000.pt\n",
      "2022-06-09 13:06.16 [info     ] DoubleDQN_online_20220609130601: epoch=7 step=7000 epoch=7 metrics={'time_inference': 0.000318537712097168, 'time_environment_step': 0.0006276535987854004, 'time_sample_batch': 7.920074462890625e-05, 'time_algorithm_update': 0.0012823169231414794, 'loss': 11.339364906549454, 'time_step': 0.0023682544231414795, 'rollout_return': 4.697183098591549, 'evaluation': 0.0} step=7000\n",
      "2022-06-09 13:06.19 [info     ] Model parameters are saved to d3rlpy_logs/DoubleDQN_online_20220609130601/model_8000.pt\n",
      "2022-06-09 13:06.19 [info     ] DoubleDQN_online_20220609130601: epoch=8 step=8000 epoch=8 metrics={'time_inference': 0.00029414010047912597, 'time_environment_step': 0.0005808374881744384, 'time_sample_batch': 7.35793113708496e-05, 'time_algorithm_update': 0.0011878507137298585, 'loss': 9.34656182527542, 'time_step': 0.002192312240600586, 'rollout_return': 6.02112676056338, 'evaluation': 0.0} step=8000\n",
      "2022-06-09 13:06.21 [info     ] Model parameters are saved to d3rlpy_logs/DoubleDQN_online_20220609130601/model_9000.pt\n",
      "2022-06-09 13:06.21 [info     ] DoubleDQN_online_20220609130601: epoch=9 step=9000 epoch=9 metrics={'time_inference': 0.000298753023147583, 'time_environment_step': 0.0005885722637176513, 'time_sample_batch': 7.51817226409912e-05, 'time_algorithm_update': 0.0012044839859008788, 'loss': 7.813973055422306, 'time_step': 0.002223245859146118, 'rollout_return': 5.669014084507042, 'evaluation': 5.3} step=9000\n",
      "2022-06-09 13:06.23 [info     ] Model parameters are saved to d3rlpy_logs/DoubleDQN_online_20220609130601/model_10000.pt\n",
      "2022-06-09 13:06.23 [info     ] DoubleDQN_online_20220609130601: epoch=10 step=10000 epoch=10 metrics={'time_inference': 0.0002910151481628418, 'time_environment_step': 0.0005780541896820068, 'time_sample_batch': 7.363605499267578e-05, 'time_algorithm_update': 0.0011767685413360597, 'loss': 6.175601286530495, 'time_step': 0.0021746530532836916, 'rollout_return': 7.133802816901408, 'evaluation': 0.0} step=10000\n",
      "2022-06-09 13:06.26 [info     ] Model parameters are saved to d3rlpy_logs/DoubleDQN_online_20220609130601/model_11000.pt\n",
      "2022-06-09 13:06.26 [info     ] DoubleDQN_online_20220609130601: epoch=11 step=11000 epoch=11 metrics={'time_inference': 0.0002962949275970459, 'time_environment_step': 0.0005904612541198731, 'time_sample_batch': 7.536029815673828e-05, 'time_algorithm_update': 0.001201202154159546, 'loss': 5.122951457858085, 'time_step': 0.002221489191055298, 'rollout_return': 7.964788732394366, 'evaluation': 4.2} step=11000\n",
      "2022-06-09 13:06.28 [info     ] Model parameters are saved to d3rlpy_logs/DoubleDQN_online_20220609130601/model_12000.pt\n",
      "2022-06-09 13:06.28 [info     ] DoubleDQN_online_20220609130601: epoch=12 step=12000 epoch=12 metrics={'time_inference': 0.00028989696502685545, 'time_environment_step': 0.0005809435844421387, 'time_sample_batch': 7.332873344421386e-05, 'time_algorithm_update': 0.001175910234451294, 'loss': 4.424350591778755, 'time_step': 0.0021761305332183836, 'rollout_return': 7.316901408450704, 'evaluation': 0.9} step=12000\n",
      "2022-06-09 13:06.30 [info     ] Model parameters are saved to d3rlpy_logs/DoubleDQN_online_20220609130601/model_13000.pt\n",
      "2022-06-09 13:06.30 [info     ] DoubleDQN_online_20220609130601: epoch=13 step=13000 epoch=13 metrics={'time_inference': 0.00029623699188232423, 'time_environment_step': 0.0005897970199584961, 'time_sample_batch': 7.50892162322998e-05, 'time_algorithm_update': 0.0012059273719787597, 'loss': 3.7310988937616347, 'time_step': 0.002224994659423828, 'rollout_return': 8.492957746478874, 'evaluation': 5.8} step=13000\n",
      "2022-06-09 13:06.32 [info     ] Model parameters are saved to d3rlpy_logs/DoubleDQN_online_20220609130601/model_14000.pt\n",
      "2022-06-09 13:06.32 [info     ] DoubleDQN_online_20220609130601: epoch=14 step=14000 epoch=14 metrics={'time_inference': 0.00029228949546813965, 'time_environment_step': 0.0005805487632751465, 'time_sample_batch': 7.396864891052246e-05, 'time_algorithm_update': 0.00119176983833313, 'loss': 2.7848664169311523, 'time_step': 0.002195432424545288, 'rollout_return': 10.133802816901408, 'evaluation': 13.8} step=14000\n",
      "2022-06-09 13:06.35 [info     ] Model parameters are saved to d3rlpy_logs/DoubleDQN_online_20220609130601/model_15000.pt\n",
      "2022-06-09 13:06.35 [info     ] DoubleDQN_online_20220609130601: epoch=15 step=15000 epoch=15 metrics={'time_inference': 0.0002839808464050293, 'time_environment_step': 0.0005666174888610839, 'time_sample_batch': 7.199764251708985e-05, 'time_algorithm_update': 0.0011664252281188964, 'loss': 2.1879174297451973, 'time_step': 0.0021441850662231444, 'rollout_return': 12.93661971830986, 'evaluation': 16.8} step=15000\n",
      "2022-06-09 13:06.37 [info     ] Model parameters are saved to d3rlpy_logs/DoubleDQN_online_20220609130601/model_16000.pt\n",
      "2022-06-09 13:06.37 [info     ] DoubleDQN_online_20220609130601: epoch=16 step=16000 epoch=16 metrics={'time_inference': 0.0002861790657043457, 'time_environment_step': 0.0005696456432342529, 'time_sample_batch': 7.250571250915527e-05, 'time_algorithm_update': 0.0011654481887817382, 'loss': 2.111787569463253, 'time_step': 0.0021488661766052245, 'rollout_return': 13.795774647887324, 'evaluation': 17.4} step=16000\n",
      "2022-06-09 13:06.39 [info     ] Model parameters are saved to d3rlpy_logs/DoubleDQN_online_20220609130601/model_17000.pt\n",
      "2022-06-09 13:06.39 [info     ] DoubleDQN_online_20220609130601: epoch=17 step=17000 epoch=17 metrics={'time_inference': 0.00027434396743774414, 'time_environment_step': 0.0005423541069030761, 'time_sample_batch': 6.77335262298584e-05, 'time_algorithm_update': 0.0011152863502502442, 'loss': 1.8074904503226281, 'time_step': 0.002051687717437744, 'rollout_return': 13.929577464788732, 'evaluation': 15.4} step=17000\n",
      "2022-06-09 13:06.41 [info     ] Model parameters are saved to d3rlpy_logs/DoubleDQN_online_20220609130601/model_18000.pt\n",
      "2022-06-09 13:06.41 [info     ] DoubleDQN_online_20220609130601: epoch=18 step=18000 epoch=18 metrics={'time_inference': 0.0002706036567687988, 'time_environment_step': 0.0005363657474517822, 'time_sample_batch': 6.681227684020996e-05, 'time_algorithm_update': 0.0010991950035095215, 'loss': 1.7769798686802387, 'time_step': 0.0020244691371917724, 'rollout_return': 14.140845070422536, 'evaluation': 15.4} step=18000\n",
      "2022-06-09 13:06.43 [info     ] Model parameters are saved to d3rlpy_logs/DoubleDQN_online_20220609130601/model_19000.pt\n",
      "2022-06-09 13:06.43 [info     ] DoubleDQN_online_20220609130601: epoch=19 step=19000 epoch=19 metrics={'time_inference': 0.0002772421836853027, 'time_environment_step': 0.0005516815185546875, 'time_sample_batch': 6.920909881591797e-05, 'time_algorithm_update': 0.0011309177875518798, 'loss': 1.6009254212379456, 'time_step': 0.002082322597503662, 'rollout_return': 14.366197183098592, 'evaluation': 8.7} step=19000\n",
      "2022-06-09 13:06.46 [info     ] Model parameters are saved to d3rlpy_logs/DoubleDQN_online_20220609130601/model_20000.pt\n",
      "2022-06-09 13:06.46 [info     ] DoubleDQN_online_20220609130601: epoch=20 step=20000 epoch=20 metrics={'time_inference': 0.00030008602142333985, 'time_environment_step': 0.0006005914211273194, 'time_sample_batch': 7.687759399414062e-05, 'time_algorithm_update': 0.0012277681827545166, 'loss': 1.497829399228096, 'time_step': 0.0022646989822387694, 'rollout_return': 13.753521126760564, 'evaluation': 16.5} step=20000\n",
      "2022-06-09 13:06.48 [info     ] Model parameters are saved to d3rlpy_logs/DoubleDQN_online_20220609130601/model_21000.pt\n",
      "2022-06-09 13:06.48 [info     ] DoubleDQN_online_20220609130601: epoch=21 step=21000 epoch=21 metrics={'time_inference': 0.000287705659866333, 'time_environment_step': 0.0005740227699279786, 'time_sample_batch': 7.206296920776368e-05, 'time_algorithm_update': 0.0011747362613677979, 'loss': 1.4555856740176678, 'time_step': 0.0021642358303070068, 'rollout_return': 13.070422535211268, 'evaluation': 17.4} step=21000\n",
      "2022-06-09 13:06.50 [info     ] Model parameters are saved to d3rlpy_logs/DoubleDQN_online_20220609130601/model_22000.pt\n",
      "2022-06-09 13:06.51 [info     ] DoubleDQN_online_20220609130601: epoch=22 step=22000 epoch=22 metrics={'time_inference': 0.0002984583377838135, 'time_environment_step': 0.0005948073863983154, 'time_sample_batch': 7.606172561645508e-05, 'time_algorithm_update': 0.0012178611755371094, 'loss': 1.271631151482463, 'time_step': 0.002246281862258911, 'rollout_return': 14.82394366197183, 'evaluation': 14.6} step=22000\n",
      "2022-06-09 13:06.53 [info     ] Model parameters are saved to d3rlpy_logs/DoubleDQN_online_20220609130601/model_23000.pt\n",
      "2022-06-09 13:06.53 [info     ] DoubleDQN_online_20220609130601: epoch=23 step=23000 epoch=23 metrics={'time_inference': 0.0002964427471160889, 'time_environment_step': 0.0005966112613677979, 'time_sample_batch': 7.620024681091309e-05, 'time_algorithm_update': 0.0012176656723022461, 'loss': 1.1637774534523486, 'time_step': 0.00224530029296875, 'rollout_return': 13.471830985915492, 'evaluation': 16.6} step=23000\n",
      "2022-06-09 13:06.55 [info     ] Model parameters are saved to d3rlpy_logs/DoubleDQN_online_20220609130601/model_24000.pt\n",
      "2022-06-09 13:06.55 [info     ] DoubleDQN_online_20220609130601: epoch=24 step=24000 epoch=24 metrics={'time_inference': 0.0002947854995727539, 'time_environment_step': 0.0005850567817687988, 'time_sample_batch': 7.471513748168945e-05, 'time_algorithm_update': 0.0012132408618927002, 'loss': 1.1526030296087264, 'time_step': 0.0022247917652130126, 'rollout_return': 12.612676056338028, 'evaluation': 16.1} step=24000\n",
      "2022-06-09 13:06.58 [info     ] Model parameters are saved to d3rlpy_logs/DoubleDQN_online_20220609130601/model_25000.pt\n",
      "2022-06-09 13:06.58 [info     ] DoubleDQN_online_20220609130601: epoch=25 step=25000 epoch=25 metrics={'time_inference': 0.0003044290542602539, 'time_environment_step': 0.0006051554679870606, 'time_sample_batch': 7.708525657653809e-05, 'time_algorithm_update': 0.0012414307594299317, 'loss': 1.0613535380959511, 'time_step': 0.002287586212158203, 'rollout_return': 13.922535211267606, 'evaluation': 12.1} step=25000\n",
      "2022-06-09 13:07.00 [info     ] Model parameters are saved to d3rlpy_logs/DoubleDQN_online_20220609130601/model_26000.pt\n",
      "2022-06-09 13:07.00 [info     ] DoubleDQN_online_20220609130601: epoch=26 step=26000 epoch=26 metrics={'time_inference': 0.000293229341506958, 'time_environment_step': 0.0005822618007659912, 'time_sample_batch': 7.391929626464844e-05, 'time_algorithm_update': 0.0011943953037261963, 'loss': 1.0865330792665482, 'time_step': 0.002200819969177246, 'rollout_return': 13.380281690140846, 'evaluation': 10.7} step=26000\n",
      "2022-06-09 13:07.02 [info     ] Model parameters are saved to d3rlpy_logs/DoubleDQN_online_20220609130601/model_27000.pt\n",
      "2022-06-09 13:07.02 [info     ] DoubleDQN_online_20220609130601: epoch=27 step=27000 epoch=27 metrics={'time_inference': 0.0002803373336791992, 'time_environment_step': 0.0005544366836547852, 'time_sample_batch': 7.015156745910645e-05, 'time_algorithm_update': 0.001140723466873169, 'loss': 1.032451501995325, 'time_step': 0.002099296808242798, 'rollout_return': 13.56338028169014, 'evaluation': 13.8} step=27000\n",
      "2022-06-09 13:07.04 [info     ] Model parameters are saved to d3rlpy_logs/DoubleDQN_online_20220609130601/model_28000.pt\n",
      "2022-06-09 13:07.04 [info     ] DoubleDQN_online_20220609130601: epoch=28 step=28000 epoch=28 metrics={'time_inference': 0.00027600574493408204, 'time_environment_step': 0.0005454170703887939, 'time_sample_batch': 6.812596321105957e-05, 'time_algorithm_update': 0.001122040033340454, 'loss': 1.029147959381342, 'time_step': 0.0020641891956329345, 'rollout_return': 14.26056338028169, 'evaluation': 15.7} step=28000\n",
      "2022-06-09 13:07.06 [info     ] Model parameters are saved to d3rlpy_logs/DoubleDQN_online_20220609130601/model_29000.pt\n",
      "2022-06-09 13:07.06 [info     ] DoubleDQN_online_20220609130601: epoch=29 step=29000 epoch=29 metrics={'time_inference': 0.00027247953414916994, 'time_environment_step': 0.0005407798290252686, 'time_sample_batch': 6.763410568237305e-05, 'time_algorithm_update': 0.0011075887680053712, 'loss': 1.0349185734391213, 'time_step': 0.0020405902862548828, 'rollout_return': 13.950704225352112, 'evaluation': 15.7} step=29000\n",
      "2022-06-09 13:07.09 [info     ] Model parameters are saved to d3rlpy_logs/DoubleDQN_online_20220609130601/model_30000.pt\n",
      "2022-06-09 13:07.09 [info     ] DoubleDQN_online_20220609130601: epoch=30 step=30000 epoch=30 metrics={'time_inference': 0.0002846357822418213, 'time_environment_step': 0.0005645904541015625, 'time_sample_batch': 7.142066955566406e-05, 'time_algorithm_update': 0.0011588037014007568, 'loss': 1.0858412162661553, 'time_step': 0.002134291648864746, 'rollout_return': 13.73943661971831, 'evaluation': 13.4} step=30000\n",
      "2022-06-09 13:07.11 [info     ] Model parameters are saved to d3rlpy_logs/DoubleDQN_online_20220609130601/model_31000.pt\n",
      "2022-06-09 13:07.11 [info     ] DoubleDQN_online_20220609130601: epoch=31 step=31000 epoch=31 metrics={'time_inference': 0.0003112273216247559, 'time_environment_step': 0.000621309757232666, 'time_sample_batch': 7.948827743530274e-05, 'time_algorithm_update': 0.0012755401134490966, 'loss': 1.022929284274578, 'time_step': 0.0023481531143188477, 'rollout_return': 14.514084507042254, 'evaluation': 14.8} step=31000\n",
      "2022-06-09 13:07.13 [info     ] Model parameters are saved to d3rlpy_logs/DoubleDQN_online_20220609130601/model_32000.pt\n",
      "2022-06-09 13:07.13 [info     ] DoubleDQN_online_20220609130601: epoch=32 step=32000 epoch=32 metrics={'time_inference': 0.0002818989753723144, 'time_environment_step': 0.0005580639839172363, 'time_sample_batch': 7.037520408630371e-05, 'time_algorithm_update': 0.0011453022956848145, 'loss': 0.9900098495781422, 'time_step': 0.0021097557544708253, 'rollout_return': 14.119718309859154, 'evaluation': 15.1} step=32000\n",
      "2022-06-09 13:07.16 [info     ] Model parameters are saved to d3rlpy_logs/DoubleDQN_online_20220609130601/model_33000.pt\n",
      "2022-06-09 13:07.16 [info     ] DoubleDQN_online_20220609130601: epoch=33 step=33000 epoch=33 metrics={'time_inference': 0.0002745635509490967, 'time_environment_step': 0.0005447218418121337, 'time_sample_batch': 6.782650947570801e-05, 'time_algorithm_update': 0.0011199209690093994, 'loss': 0.9758640680015087, 'time_step': 0.002059406280517578, 'rollout_return': 14.133802816901408, 'evaluation': 14.1} step=33000\n",
      "2022-06-09 13:07.18 [info     ] Model parameters are saved to d3rlpy_logs/DoubleDQN_online_20220609130601/model_34000.pt\n",
      "2022-06-09 13:07.18 [info     ] DoubleDQN_online_20220609130601: epoch=34 step=34000 epoch=34 metrics={'time_inference': 0.0003001694679260254, 'time_environment_step': 0.0005936920642852783, 'time_sample_batch': 7.536101341247558e-05, 'time_algorithm_update': 0.0012189779281616211, 'loss': 0.9865240464806557, 'time_step': 0.002246016025543213, 'rollout_return': 13.82394366197183, 'evaluation': 13.6} step=34000\n",
      "2022-06-09 13:07.20 [info     ] Model parameters are saved to d3rlpy_logs/DoubleDQN_online_20220609130601/model_35000.pt\n",
      "2022-06-09 13:07.20 [info     ] DoubleDQN_online_20220609130601: epoch=35 step=35000 epoch=35 metrics={'time_inference': 0.000304917573928833, 'time_environment_step': 0.0006025538444519043, 'time_sample_batch': 7.727432250976563e-05, 'time_algorithm_update': 0.0012388100624084472, 'loss': 0.966815384298563, 'time_step': 0.0022834293842315676, 'rollout_return': 14.06338028169014, 'evaluation': 14.8} step=35000\n",
      "2022-06-09 13:07.23 [info     ] Model parameters are saved to d3rlpy_logs/DoubleDQN_online_20220609130601/model_36000.pt\n",
      "2022-06-09 13:07.23 [info     ] DoubleDQN_online_20220609130601: epoch=36 step=36000 epoch=36 metrics={'time_inference': 0.00030671167373657227, 'time_environment_step': 0.0006087193489074707, 'time_sample_batch': 7.781863212585449e-05, 'time_algorithm_update': 0.0012496261596679687, 'loss': 0.9373640512824059, 'time_step': 0.002302821159362793, 'rollout_return': 14.82394366197183, 'evaluation': 16.8} step=36000\n",
      "2022-06-09 13:07.25 [info     ] Model parameters are saved to d3rlpy_logs/DoubleDQN_online_20220609130601/model_37000.pt\n",
      "2022-06-09 13:07.25 [info     ] DoubleDQN_online_20220609130601: epoch=37 step=37000 epoch=37 metrics={'time_inference': 0.0003109843730926514, 'time_environment_step': 0.000612764835357666, 'time_sample_batch': 7.863926887512207e-05, 'time_algorithm_update': 0.0012545690536499023, 'loss': 0.9217998966872692, 'time_step': 0.0023173849582672117, 'rollout_return': 14.30281690140845, 'evaluation': 9.1} step=37000\n",
      "2022-06-09 13:07.28 [info     ] Model parameters are saved to d3rlpy_logs/DoubleDQN_online_20220609130601/model_38000.pt\n",
      "2022-06-09 13:07.28 [info     ] DoubleDQN_online_20220609130601: epoch=38 step=38000 epoch=38 metrics={'time_inference': 0.0003126266002655029, 'time_environment_step': 0.0006133229732513428, 'time_sample_batch': 7.821846008300781e-05, 'time_algorithm_update': 0.0012635867595672608, 'loss': 0.9011260423362255, 'time_step': 0.0023284213542938232, 'rollout_return': 13.880281690140846, 'evaluation': 0.0} step=38000\n",
      "2022-06-09 13:07.30 [info     ] Model parameters are saved to d3rlpy_logs/DoubleDQN_online_20220609130601/model_39000.pt\n",
      "2022-06-09 13:07.30 [info     ] DoubleDQN_online_20220609130601: epoch=39 step=39000 epoch=39 metrics={'time_inference': 0.00029077386856079103, 'time_environment_step': 0.000578192949295044, 'time_sample_batch': 7.383847236633301e-05, 'time_algorithm_update': 0.0011867685317993163, 'loss': 0.9173264778107405, 'time_step': 0.002186077117919922, 'rollout_return': 14.183098591549296, 'evaluation': 14.7} step=39000\n",
      "2022-06-09 13:07.32 [info     ] Model parameters are saved to d3rlpy_logs/DoubleDQN_online_20220609130601/model_40000.pt\n",
      "2022-06-09 13:07.32 [info     ] DoubleDQN_online_20220609130601: epoch=40 step=40000 epoch=40 metrics={'time_inference': 0.00030693364143371583, 'time_environment_step': 0.0005998651981353759, 'time_sample_batch': 7.695508003234864e-05, 'time_algorithm_update': 0.0012395174503326415, 'loss': 0.8848731518983841, 'time_step': 0.002282665729522705, 'rollout_return': 14.084507042253522, 'evaluation': 16.7} step=40000\n",
      "2022-06-09 13:07.35 [info     ] Model parameters are saved to d3rlpy_logs/DoubleDQN_online_20220609130601/model_41000.pt\n",
      "2022-06-09 13:07.35 [info     ] DoubleDQN_online_20220609130601: epoch=41 step=41000 epoch=41 metrics={'time_inference': 0.00030054593086242673, 'time_environment_step': 0.0005934915542602539, 'time_sample_batch': 7.45086669921875e-05, 'time_algorithm_update': 0.0012181344032287597, 'loss': 0.8853919208049774, 'time_step': 0.0022441909313201903, 'rollout_return': 15.295774647887324, 'evaluation': 11.7} step=41000\n",
      "2022-06-09 13:07.37 [info     ] Model parameters are saved to d3rlpy_logs/DoubleDQN_online_20220609130601/model_42000.pt\n",
      "2022-06-09 13:07.37 [info     ] DoubleDQN_online_20220609130601: epoch=42 step=42000 epoch=42 metrics={'time_inference': 0.00028003644943237305, 'time_environment_step': 0.0005536079406738281, 'time_sample_batch': 6.959176063537598e-05, 'time_algorithm_update': 0.0011490077972412108, 'loss': 0.880910965025425, 'time_step': 0.0021060640811920166, 'rollout_return': 14.471830985915492, 'evaluation': 11.2} step=42000\n",
      "2022-06-09 13:07.39 [info     ] Model parameters are saved to d3rlpy_logs/DoubleDQN_online_20220609130601/model_43000.pt\n",
      "2022-06-09 13:07.39 [info     ] DoubleDQN_online_20220609130601: epoch=43 step=43000 epoch=43 metrics={'time_inference': 0.0002834792137145996, 'time_environment_step': 0.000563878059387207, 'time_sample_batch': 7.124805450439453e-05, 'time_algorithm_update': 0.0011586205959320068, 'loss': 0.8871398530751466, 'time_step': 0.0021323294639587404, 'rollout_return': 13.845070422535212, 'evaluation': 16.6} step=43000\n",
      "2022-06-09 13:07.41 [info     ] Model parameters are saved to d3rlpy_logs/DoubleDQN_online_20220609130601/model_44000.pt\n",
      "2022-06-09 13:07.41 [info     ] DoubleDQN_online_20220609130601: epoch=44 step=44000 epoch=44 metrics={'time_inference': 0.0002922849655151367, 'time_environment_step': 0.0005812299251556397, 'time_sample_batch': 7.395601272583008e-05, 'time_algorithm_update': 0.0011952996253967285, 'loss': 0.9189211278557777, 'time_step': 0.0021998279094696043, 'rollout_return': 14.147887323943662, 'evaluation': 16.7} step=44000\n",
      "2022-06-09 13:07.44 [info     ] Model parameters are saved to d3rlpy_logs/DoubleDQN_online_20220609130601/model_45000.pt\n",
      "2022-06-09 13:07.44 [info     ] DoubleDQN_online_20220609130601: epoch=45 step=45000 epoch=45 metrics={'time_inference': 0.0002999441623687744, 'time_environment_step': 0.000596543550491333, 'time_sample_batch': 7.636070251464843e-05, 'time_algorithm_update': 0.0012298235893249511, 'loss': 0.8972245548665524, 'time_step': 0.002261634111404419, 'rollout_return': 13.711267605633802, 'evaluation': 7.8} step=45000\n",
      "2022-06-09 13:07.46 [info     ] Model parameters are saved to d3rlpy_logs/DoubleDQN_online_20220609130601/model_46000.pt\n",
      "2022-06-09 13:07.46 [info     ] DoubleDQN_online_20220609130601: epoch=46 step=46000 epoch=46 metrics={'time_inference': 0.00030415964126586915, 'time_environment_step': 0.0006065235137939453, 'time_sample_batch': 7.649803161621094e-05, 'time_algorithm_update': 0.0012393014430999755, 'loss': 0.8651177247017622, 'time_step': 0.0022855021953582765, 'rollout_return': 15.380281690140846, 'evaluation': 16.6} step=46000\n",
      "2022-06-09 13:07.48 [info     ] Model parameters are saved to d3rlpy_logs/DoubleDQN_online_20220609130601/model_47000.pt\n",
      "2022-06-09 13:07.48 [info     ] DoubleDQN_online_20220609130601: epoch=47 step=47000 epoch=47 metrics={'time_inference': 0.00028073477745056154, 'time_environment_step': 0.0005543873310089111, 'time_sample_batch': 6.966328620910645e-05, 'time_algorithm_update': 0.0011434895992279053, 'loss': 0.8618573057800532, 'time_step': 0.002102383852005005, 'rollout_return': 15.591549295774648, 'evaluation': 17.4} step=47000\n",
      "2022-06-09 13:07.51 [info     ] Model parameters are saved to d3rlpy_logs/DoubleDQN_online_20220609130601/model_48000.pt\n",
      "2022-06-09 13:07.51 [info     ] DoubleDQN_online_20220609130601: epoch=48 step=48000 epoch=48 metrics={'time_inference': 0.0002786109447479248, 'time_environment_step': 0.0005499222278594971, 'time_sample_batch': 6.872320175170898e-05, 'time_algorithm_update': 0.0011315393447875978, 'loss': 0.8696559545397758, 'time_step': 0.002082160472869873, 'rollout_return': 14.035211267605634, 'evaluation': 15.8} step=48000\n",
      "2022-06-09 13:07.53 [info     ] Model parameters are saved to d3rlpy_logs/DoubleDQN_online_20220609130601/model_49000.pt\n",
      "2022-06-09 13:07.53 [info     ] DoubleDQN_online_20220609130601: epoch=49 step=49000 epoch=49 metrics={'time_inference': 0.00028072166442871094, 'time_environment_step': 0.0005593671798706055, 'time_sample_batch': 6.978321075439453e-05, 'time_algorithm_update': 0.001146456003189087, 'loss': 0.8651252053231001, 'time_step': 0.002110440969467163, 'rollout_return': 14.82394366197183, 'evaluation': 13.7} step=49000\n",
      "2022-06-09 13:07.55 [info     ] Model parameters are saved to d3rlpy_logs/DoubleDQN_online_20220609130601/model_50000.pt\n",
      "2022-06-09 13:07.55 [info     ] DoubleDQN_online_20220609130601: epoch=50 step=50000 epoch=50 metrics={'time_inference': 0.00028110265731811523, 'time_environment_step': 0.0005572562217712403, 'time_sample_batch': 6.963205337524414e-05, 'time_algorithm_update': 0.0011482806205749512, 'loss': 0.8299902694374323, 'time_step': 0.0021103761196136473, 'rollout_return': 14.274647887323944, 'evaluation': 16.1} step=50000\n",
      "2022-06-09 13:07.57 [info     ] Model parameters are saved to d3rlpy_logs/DoubleDQN_online_20220609130601/model_51000.pt\n",
      "2022-06-09 13:07.57 [info     ] DoubleDQN_online_20220609130601: epoch=51 step=51000 epoch=51 metrics={'time_inference': 0.0002774062156677246, 'time_environment_step': 0.0005474655628204346, 'time_sample_batch': 6.86037540435791e-05, 'time_algorithm_update': 0.001129852294921875, 'loss': 0.8777544699460268, 'time_step': 0.0020764262676239015, 'rollout_return': 13.387323943661972, 'evaluation': 14.8} step=51000\n",
      "2022-06-09 13:07.59 [info     ] Model parameters are saved to d3rlpy_logs/DoubleDQN_online_20220609130601/model_52000.pt\n",
      "2022-06-09 13:07.59 [info     ] DoubleDQN_online_20220609130601: epoch=52 step=52000 epoch=52 metrics={'time_inference': 0.00028777360916137695, 'time_environment_step': 0.0005701003074645996, 'time_sample_batch': 7.198715209960937e-05, 'time_algorithm_update': 0.001171175718307495, 'loss': 0.8420653003454208, 'time_step': 0.002156512975692749, 'rollout_return': 14.774647887323944, 'evaluation': 15.3} step=52000\n",
      "2022-06-09 13:08.02 [info     ] Model parameters are saved to d3rlpy_logs/DoubleDQN_online_20220609130601/model_53000.pt\n",
      "2022-06-09 13:08.02 [info     ] DoubleDQN_online_20220609130601: epoch=53 step=53000 epoch=53 metrics={'time_inference': 0.0002967941761016846, 'time_environment_step': 0.0005939838886260987, 'time_sample_batch': 7.451891899108887e-05, 'time_algorithm_update': 0.0012211475372314452, 'loss': 0.8548403616398573, 'time_step': 0.00224452543258667, 'rollout_return': 15.183098591549296, 'evaluation': 18.0} step=53000\n",
      "2022-06-09 13:08.04 [info     ] Model parameters are saved to d3rlpy_logs/DoubleDQN_online_20220609130601/model_54000.pt\n",
      "2022-06-09 13:08.04 [info     ] DoubleDQN_online_20220609130601: epoch=54 step=54000 epoch=54 metrics={'time_inference': 0.0003047220706939697, 'time_environment_step': 0.0006053948402404785, 'time_sample_batch': 7.639288902282715e-05, 'time_algorithm_update': 0.0012436223030090332, 'loss': 0.8825035991668702, 'time_step': 0.0022901241779327394, 'rollout_return': 14.253521126760564, 'evaluation': 15.3} step=54000\n",
      "2022-06-09 13:08.07 [info     ] Model parameters are saved to d3rlpy_logs/DoubleDQN_online_20220609130601/model_55000.pt\n",
      "2022-06-09 13:08.07 [info     ] DoubleDQN_online_20220609130601: epoch=55 step=55000 epoch=55 metrics={'time_inference': 0.00028962969779968263, 'time_environment_step': 0.0005743048191070557, 'time_sample_batch': 7.295727729797363e-05, 'time_algorithm_update': 0.0011794869899749757, 'loss': 0.8579072874784469, 'time_step': 0.002173173666000366, 'rollout_return': 14.943661971830986, 'evaluation': 15.5} step=55000\n",
      "2022-06-09 13:08.09 [info     ] Model parameters are saved to d3rlpy_logs/DoubleDQN_online_20220609130601/model_56000.pt\n",
      "2022-06-09 13:08.09 [info     ] DoubleDQN_online_20220609130601: epoch=56 step=56000 epoch=56 metrics={'time_inference': 0.00028148531913757324, 'time_environment_step': 0.0005538554191589355, 'time_sample_batch': 6.955838203430176e-05, 'time_algorithm_update': 0.001146005630493164, 'loss': 0.8335219914317131, 'time_step': 0.0021048521995544432, 'rollout_return': 14.992957746478874, 'evaluation': 16.6} step=56000\n",
      "2022-06-09 13:08.11 [info     ] Model parameters are saved to d3rlpy_logs/DoubleDQN_online_20220609130601/model_57000.pt\n",
      "2022-06-09 13:08.11 [info     ] DoubleDQN_online_20220609130601: epoch=57 step=57000 epoch=57 metrics={'time_inference': 0.0002786886692047119, 'time_environment_step': 0.0005524022579193116, 'time_sample_batch': 6.939911842346192e-05, 'time_algorithm_update': 0.0011403250694274902, 'loss': 0.8285213144719601, 'time_step': 0.0020940351486206056, 'rollout_return': 14.52112676056338, 'evaluation': 14.6} step=57000\n",
      "2022-06-09 13:08.13 [info     ] Model parameters are saved to d3rlpy_logs/DoubleDQN_online_20220609130601/model_58000.pt\n",
      "2022-06-09 13:08.13 [info     ] DoubleDQN_online_20220609130601: epoch=58 step=58000 epoch=58 metrics={'time_inference': 0.00028145766258239746, 'time_environment_step': 0.0005576949119567871, 'time_sample_batch': 6.989002227783203e-05, 'time_algorithm_update': 0.0011449637413024902, 'loss': 0.8316431819647551, 'time_step': 0.002108163356781006, 'rollout_return': 14.43661971830986, 'evaluation': 15.9} step=58000\n",
      "2022-06-09 13:08.15 [info     ] Model parameters are saved to d3rlpy_logs/DoubleDQN_online_20220609130601/model_59000.pt\n",
      "2022-06-09 13:08.15 [info     ] DoubleDQN_online_20220609130601: epoch=59 step=59000 epoch=59 metrics={'time_inference': 0.0002838435173034668, 'time_environment_step': 0.0005625326633453369, 'time_sample_batch': 7.094907760620117e-05, 'time_algorithm_update': 0.001159379482269287, 'loss': 0.8042124337553977, 'time_step': 0.002131280422210693, 'rollout_return': 15.26056338028169, 'evaluation': 16.3} step=59000\n",
      "2022-06-09 13:08.18 [info     ] Model parameters are saved to d3rlpy_logs/DoubleDQN_online_20220609130601/model_60000.pt\n",
      "2022-06-09 13:08.18 [info     ] DoubleDQN_online_20220609130601: epoch=60 step=60000 epoch=60 metrics={'time_inference': 0.00027839040756225586, 'time_environment_step': 0.0005524086952209472, 'time_sample_batch': 6.948661804199218e-05, 'time_algorithm_update': 0.0011376194953918457, 'loss': 0.8312375093996525, 'time_step': 0.002091336727142334, 'rollout_return': 14.711267605633802, 'evaluation': 17.8} step=60000\n",
      "2022-06-09 13:08.20 [info     ] Model parameters are saved to d3rlpy_logs/DoubleDQN_online_20220609130601/model_61000.pt\n",
      "2022-06-09 13:08.20 [info     ] DoubleDQN_online_20220609130601: epoch=61 step=61000 epoch=61 metrics={'time_inference': 0.0002775554656982422, 'time_environment_step': 0.000551436424255371, 'time_sample_batch': 6.911230087280273e-05, 'time_algorithm_update': 0.0011470122337341308, 'loss': 0.8198758734762669, 'time_step': 0.002098673105239868, 'rollout_return': 14.73943661971831, 'evaluation': 16.9} step=61000\n",
      "2022-06-09 13:08.22 [info     ] Model parameters are saved to d3rlpy_logs/DoubleDQN_online_20220609130601/model_62000.pt\n",
      "2022-06-09 13:08.22 [info     ] DoubleDQN_online_20220609130601: epoch=62 step=62000 epoch=62 metrics={'time_inference': 0.00027522635459899903, 'time_environment_step': 0.0005473401546478271, 'time_sample_batch': 6.830763816833496e-05, 'time_algorithm_update': 0.0011235547065734863, 'loss': 0.7881197451651096, 'time_step': 0.002067445516586304, 'rollout_return': 14.30281690140845, 'evaluation': 15.4} step=62000\n",
      "2022-06-09 13:08.24 [info     ] Model parameters are saved to d3rlpy_logs/DoubleDQN_online_20220609130601/model_63000.pt\n",
      "2022-06-09 13:08.24 [info     ] DoubleDQN_online_20220609130601: epoch=63 step=63000 epoch=63 metrics={'time_inference': 0.00028587722778320313, 'time_environment_step': 0.0005654237270355225, 'time_sample_batch': 7.054638862609863e-05, 'time_algorithm_update': 0.0011699042320251465, 'loss': 0.8104039180278778, 'time_step': 0.0021464123725891114, 'rollout_return': 15.0, 'evaluation': 13.2} step=63000\n",
      "2022-06-09 13:08.26 [info     ] Model parameters are saved to d3rlpy_logs/DoubleDQN_online_20220609130601/model_64000.pt\n",
      "2022-06-09 13:08.26 [info     ] DoubleDQN_online_20220609130601: epoch=64 step=64000 epoch=64 metrics={'time_inference': 0.000279179573059082, 'time_environment_step': 0.00055470609664917, 'time_sample_batch': 6.925106048583984e-05, 'time_algorithm_update': 0.0011383523941040038, 'loss': 0.7764223292917013, 'time_step': 0.002095357418060303, 'rollout_return': 14.605633802816902, 'evaluation': 15.3} step=64000\n",
      "2022-06-09 13:08.29 [info     ] Model parameters are saved to d3rlpy_logs/DoubleDQN_online_20220609130601/model_65000.pt\n",
      "2022-06-09 13:08.29 [info     ] DoubleDQN_online_20220609130601: epoch=65 step=65000 epoch=65 metrics={'time_inference': 0.0002790477275848389, 'time_environment_step': 0.0005529773235321045, 'time_sample_batch': 6.985211372375488e-05, 'time_algorithm_update': 0.0011413710117340087, 'loss': 0.7698348914980888, 'time_step': 0.0020971810817718506, 'rollout_return': 14.97887323943662, 'evaluation': 15.7} step=65000\n",
      "2022-06-09 13:08.31 [info     ] Model parameters are saved to d3rlpy_logs/DoubleDQN_online_20220609130601/model_66000.pt\n",
      "2022-06-09 13:08.31 [info     ] DoubleDQN_online_20220609130601: epoch=66 step=66000 epoch=66 metrics={'time_inference': 0.00027832889556884765, 'time_environment_step': 0.0005515201091766357, 'time_sample_batch': 6.943798065185548e-05, 'time_algorithm_update': 0.0011355926990509033, 'loss': 0.7764341112822294, 'time_step': 0.0020885066986083985, 'rollout_return': 14.098591549295774, 'evaluation': 16.3} step=66000\n",
      "2022-06-09 13:08.33 [info     ] Model parameters are saved to d3rlpy_logs/DoubleDQN_online_20220609130601/model_67000.pt\n",
      "2022-06-09 13:08.33 [info     ] DoubleDQN_online_20220609130601: epoch=67 step=67000 epoch=67 metrics={'time_inference': 0.000278564453125, 'time_environment_step': 0.0005528712272644043, 'time_sample_batch': 6.918787956237793e-05, 'time_algorithm_update': 0.0011404001712799073, 'loss': 0.7963196170926095, 'time_step': 0.00209482479095459, 'rollout_return': 15.04225352112676, 'evaluation': 16.3} step=67000\n",
      "2022-06-09 13:08.35 [info     ] Model parameters are saved to d3rlpy_logs/DoubleDQN_online_20220609130601/model_68000.pt\n",
      "2022-06-09 13:08.35 [info     ] DoubleDQN_online_20220609130601: epoch=68 step=68000 epoch=68 metrics={'time_inference': 0.0002844784259796143, 'time_environment_step': 0.0005731608867645264, 'time_sample_batch': 7.072257995605469e-05, 'time_algorithm_update': 0.001162553071975708, 'loss': 0.7606042945533991, 'time_step': 0.002145735263824463, 'rollout_return': 14.82394366197183, 'evaluation': 18.1} step=68000\n",
      "2022-06-09 13:08.38 [info     ] Model parameters are saved to d3rlpy_logs/DoubleDQN_online_20220609130601/model_69000.pt\n",
      "2022-06-09 13:08.38 [info     ] DoubleDQN_online_20220609130601: epoch=69 step=69000 epoch=69 metrics={'time_inference': 0.00028520727157592776, 'time_environment_step': 0.0005637316703796387, 'time_sample_batch': 7.089853286743164e-05, 'time_algorithm_update': 0.0011618242263793945, 'loss': 0.7450459994971752, 'time_step': 0.0021366274356842043, 'rollout_return': 14.54225352112676, 'evaluation': 13.7} step=69000\n",
      "2022-06-09 13:08.40 [info     ] Model parameters are saved to d3rlpy_logs/DoubleDQN_online_20220609130601/model_70000.pt\n",
      "2022-06-09 13:08.40 [info     ] DoubleDQN_online_20220609130601: epoch=70 step=70000 epoch=70 metrics={'time_inference': 0.000282745361328125, 'time_environment_step': 0.000561208963394165, 'time_sample_batch': 7.020998001098633e-05, 'time_algorithm_update': 0.0011977372169494629, 'loss': 0.7647942357361317, 'time_step': 0.002166217803955078, 'rollout_return': 14.507042253521126, 'evaluation': 15.6} step=70000\n",
      "2022-06-09 13:08.42 [info     ] Model parameters are saved to d3rlpy_logs/DoubleDQN_online_20220609130601/model_71000.pt\n",
      "2022-06-09 13:08.42 [info     ] DoubleDQN_online_20220609130601: epoch=71 step=71000 epoch=71 metrics={'time_inference': 0.0002911818027496338, 'time_environment_step': 0.0005797169208526611, 'time_sample_batch': 7.24785327911377e-05, 'time_algorithm_update': 0.0011940574645996093, 'loss': 0.7683110233396292, 'time_step': 0.002193007469177246, 'rollout_return': 14.577464788732394, 'evaluation': 16.7} step=71000\n",
      "2022-06-09 13:08.44 [info     ] Model parameters are saved to d3rlpy_logs/DoubleDQN_online_20220609130601/model_72000.pt\n",
      "2022-06-09 13:08.44 [info     ] DoubleDQN_online_20220609130601: epoch=72 step=72000 epoch=72 metrics={'time_inference': 0.0002820096015930176, 'time_environment_step': 0.0005556120872497558, 'time_sample_batch': 6.964969635009766e-05, 'time_algorithm_update': 0.0011421968936920165, 'loss': 0.767685750707984, 'time_step': 0.0021033670902252197, 'rollout_return': 15.126760563380282, 'evaluation': 18.8} step=72000\n",
      "2022-06-09 13:08.47 [info     ] Model parameters are saved to d3rlpy_logs/DoubleDQN_online_20220609130601/model_73000.pt\n",
      "2022-06-09 13:08.47 [info     ] DoubleDQN_online_20220609130601: epoch=73 step=73000 epoch=73 metrics={'time_inference': 0.0002793145179748535, 'time_environment_step': 0.0005528523921966553, 'time_sample_batch': 6.95960521697998e-05, 'time_algorithm_update': 0.0011418607234954833, 'loss': 0.7577767050415277, 'time_step': 0.0020970759391784667, 'rollout_return': 13.683098591549296, 'evaluation': 15.1} step=73000\n",
      "2022-06-09 13:08.49 [info     ] Model parameters are saved to d3rlpy_logs/DoubleDQN_online_20220609130601/model_74000.pt\n",
      "2022-06-09 13:08.49 [info     ] DoubleDQN_online_20220609130601: epoch=74 step=74000 epoch=74 metrics={'time_inference': 0.00027927231788635255, 'time_environment_step': 0.0005522058010101319, 'time_sample_batch': 6.898021697998047e-05, 'time_algorithm_update': 0.0011518497467041015, 'loss': 0.7342346143573523, 'time_step': 0.0021056063175201416, 'rollout_return': 15.098591549295774, 'evaluation': 15.9} step=74000\n",
      "2022-06-09 13:08.51 [info     ] Model parameters are saved to d3rlpy_logs/DoubleDQN_online_20220609130601/model_75000.pt\n",
      "2022-06-09 13:08.51 [info     ] DoubleDQN_online_20220609130601: epoch=75 step=75000 epoch=75 metrics={'time_inference': 0.00027705025672912595, 'time_environment_step': 0.0005470061302185058, 'time_sample_batch': 6.821846961975098e-05, 'time_algorithm_update': 0.001128925323486328, 'loss': 0.7893053581416607, 'time_step': 0.0020741097927093506, 'rollout_return': 14.859154929577464, 'evaluation': 18.0} step=75000\n",
      "2022-06-09 13:08.53 [info     ] Model parameters are saved to d3rlpy_logs/DoubleDQN_online_20220609130601/model_76000.pt\n",
      "2022-06-09 13:08.53 [info     ] DoubleDQN_online_20220609130601: epoch=76 step=76000 epoch=76 metrics={'time_inference': 0.0002762501239776611, 'time_environment_step': 0.0005478849411010742, 'time_sample_batch': 6.876754760742188e-05, 'time_algorithm_update': 0.0011311235427856445, 'loss': 0.7522320872545243, 'time_step': 0.00207701849937439, 'rollout_return': 14.816901408450704, 'evaluation': 15.5} step=76000\n",
      "2022-06-09 13:08.55 [info     ] Model parameters are saved to d3rlpy_logs/DoubleDQN_online_20220609130601/model_77000.pt\n",
      "2022-06-09 13:08.55 [info     ] DoubleDQN_online_20220609130601: epoch=77 step=77000 epoch=77 metrics={'time_inference': 0.00028261852264404295, 'time_environment_step': 0.0005617146492004394, 'time_sample_batch': 7.03573226928711e-05, 'time_algorithm_update': 0.0011564884185791015, 'loss': 0.751582124888897, 'time_step': 0.0021255872249603272, 'rollout_return': 15.485915492957746, 'evaluation': 15.5} step=77000\n",
      "2022-06-09 13:08.58 [info     ] Model parameters are saved to d3rlpy_logs/DoubleDQN_online_20220609130601/model_78000.pt\n",
      "2022-06-09 13:08.58 [info     ] DoubleDQN_online_20220609130601: epoch=78 step=78000 epoch=78 metrics={'time_inference': 0.00027935624122619627, 'time_environment_step': 0.0005562374591827393, 'time_sample_batch': 6.930971145629883e-05, 'time_algorithm_update': 0.0011445131301879882, 'loss': 0.761283576592803, 'time_step': 0.0021031615734100344, 'rollout_return': 14.838028169014084, 'evaluation': 16.1} step=78000\n",
      "2022-06-09 13:09.00 [info     ] Model parameters are saved to d3rlpy_logs/DoubleDQN_online_20220609130601/model_79000.pt\n",
      "2022-06-09 13:09.00 [info     ] DoubleDQN_online_20220609130601: epoch=79 step=79000 epoch=79 metrics={'time_inference': 0.00028320074081420897, 'time_environment_step': 0.0005610828399658203, 'time_sample_batch': 7.042789459228516e-05, 'time_algorithm_update': 0.0011615855693817138, 'loss': 0.7304363163709641, 'time_step': 0.0021304459571838377, 'rollout_return': 15.112676056338028, 'evaluation': 15.4} step=79000\n",
      "2022-06-09 13:09.02 [info     ] Model parameters are saved to d3rlpy_logs/DoubleDQN_online_20220609130601/model_80000.pt\n",
      "2022-06-09 13:09.02 [info     ] DoubleDQN_online_20220609130601: epoch=80 step=80000 epoch=80 metrics={'time_inference': 0.00028143644332885744, 'time_environment_step': 0.0005560584068298339, 'time_sample_batch': 7.013535499572753e-05, 'time_algorithm_update': 0.0011515445709228515, 'loss': 0.7136351865082979, 'time_step': 0.0021132335662841797, 'rollout_return': 14.76056338028169, 'evaluation': 17.6} step=80000\n",
      "2022-06-09 13:09.04 [info     ] Model parameters are saved to d3rlpy_logs/DoubleDQN_online_20220609130601/model_81000.pt\n",
      "2022-06-09 13:09.04 [info     ] DoubleDQN_online_20220609130601: epoch=81 step=81000 epoch=81 metrics={'time_inference': 0.0002785542011260986, 'time_environment_step': 0.0005513792037963867, 'time_sample_batch': 6.934642791748047e-05, 'time_algorithm_update': 0.0011619000434875488, 'loss': 0.7166627915650606, 'time_step': 0.0021143858432769776, 'rollout_return': 14.950704225352112, 'evaluation': 16.7} step=81000\n",
      "2022-06-09 13:09.06 [info     ] Model parameters are saved to d3rlpy_logs/DoubleDQN_online_20220609130601/model_82000.pt\n",
      "2022-06-09 13:09.06 [info     ] DoubleDQN_online_20220609130601: epoch=82 step=82000 epoch=82 metrics={'time_inference': 0.00027822256088256837, 'time_environment_step': 0.0005520117282867431, 'time_sample_batch': 6.889581680297852e-05, 'time_algorithm_update': 0.001140434980392456, 'loss': 0.7360787407904863, 'time_step': 0.002093217372894287, 'rollout_return': 14.73943661971831, 'evaluation': 15.7} step=82000\n",
      "2022-06-09 13:09.09 [info     ] Model parameters are saved to d3rlpy_logs/DoubleDQN_online_20220609130601/model_83000.pt\n",
      "2022-06-09 13:09.09 [info     ] DoubleDQN_online_20220609130601: epoch=83 step=83000 epoch=83 metrics={'time_inference': 0.0002857537269592285, 'time_environment_step': 0.000566943645477295, 'time_sample_batch': 7.121944427490235e-05, 'time_algorithm_update': 0.0011696512699127196, 'loss': 0.7235984319597483, 'time_step': 0.002148067474365234, 'rollout_return': 15.408450704225352, 'evaluation': 14.0} step=83000\n",
      "2022-06-09 13:09.11 [info     ] Model parameters are saved to d3rlpy_logs/DoubleDQN_online_20220609130601/model_84000.pt\n",
      "2022-06-09 13:09.11 [info     ] DoubleDQN_online_20220609130601: epoch=84 step=84000 epoch=84 metrics={'time_inference': 0.0002814018726348877, 'time_environment_step': 0.0005578405857086182, 'time_sample_batch': 7.004976272583008e-05, 'time_algorithm_update': 0.0011499919891357422, 'loss': 0.7179150348007679, 'time_step': 0.002113313436508179, 'rollout_return': 15.422535211267606, 'evaluation': 17.6} step=84000\n",
      "2022-06-09 13:09.13 [info     ] Model parameters are saved to d3rlpy_logs/DoubleDQN_online_20220609130601/model_85000.pt\n",
      "2022-06-09 13:09.13 [info     ] DoubleDQN_online_20220609130601: epoch=85 step=85000 epoch=85 metrics={'time_inference': 0.0002808811664581299, 'time_environment_step': 0.0005561306476593018, 'time_sample_batch': 6.985926628112794e-05, 'time_algorithm_update': 0.0011495962142944337, 'loss': 0.7077026997953654, 'time_step': 0.0021103053092956544, 'rollout_return': 14.908450704225352, 'evaluation': 14.2} step=85000\n",
      "2022-06-09 13:09.15 [info     ] Model parameters are saved to d3rlpy_logs/DoubleDQN_online_20220609130601/model_86000.pt\n",
      "2022-06-09 13:09.15 [info     ] DoubleDQN_online_20220609130601: epoch=86 step=86000 epoch=86 metrics={'time_inference': 0.0002836661338806152, 'time_environment_step': 0.000555802583694458, 'time_sample_batch': 6.967759132385254e-05, 'time_algorithm_update': 0.0011554193496704102, 'loss': 0.7192471221387386, 'time_step': 0.0021183438301086424, 'rollout_return': 15.274647887323944, 'evaluation': 14.3} step=86000\n",
      "2022-06-09 13:09.18 [info     ] Model parameters are saved to d3rlpy_logs/DoubleDQN_online_20220609130601/model_87000.pt\n",
      "2022-06-09 13:09.18 [info     ] DoubleDQN_online_20220609130601: epoch=87 step=87000 epoch=87 metrics={'time_inference': 0.00028007149696350096, 'time_environment_step': 0.000555042028427124, 'time_sample_batch': 6.947422027587891e-05, 'time_algorithm_update': 0.0011459310054779052, 'loss': 0.7278998995125294, 'time_step': 0.0021042609214782714, 'rollout_return': 14.922535211267606, 'evaluation': 12.5} step=87000\n",
      "2022-06-09 13:09.20 [info     ] Model parameters are saved to d3rlpy_logs/DoubleDQN_online_20220609130601/model_88000.pt\n",
      "2022-06-09 13:09.20 [info     ] DoubleDQN_online_20220609130601: epoch=88 step=88000 epoch=88 metrics={'time_inference': 0.00028254508972167967, 'time_environment_step': 0.0005593340396881103, 'time_sample_batch': 7.021164894104003e-05, 'time_algorithm_update': 0.001157742977142334, 'loss': 0.7276139749139547, 'time_step': 0.002124038219451904, 'rollout_return': 14.767605633802816, 'evaluation': 17.1} step=88000\n",
      "2022-06-09 13:09.22 [info     ] Model parameters are saved to d3rlpy_logs/DoubleDQN_online_20220609130601/model_89000.pt\n",
      "2022-06-09 13:09.22 [info     ] DoubleDQN_online_20220609130601: epoch=89 step=89000 epoch=89 metrics={'time_inference': 0.00027869343757629393, 'time_environment_step': 0.0005534646511077881, 'time_sample_batch': 6.943178176879883e-05, 'time_algorithm_update': 0.0011428837776184082, 'loss': 0.7251017106771469, 'time_step': 0.0020981781482696535, 'rollout_return': 14.56338028169014, 'evaluation': 17.0} step=89000\n",
      "2022-06-09 13:09.24 [info     ] Model parameters are saved to d3rlpy_logs/DoubleDQN_online_20220609130601/model_90000.pt\n",
      "2022-06-09 13:09.24 [info     ] DoubleDQN_online_20220609130601: epoch=90 step=90000 epoch=90 metrics={'time_inference': 0.0002815048694610596, 'time_environment_step': 0.0005570244789123535, 'time_sample_batch': 6.965374946594238e-05, 'time_algorithm_update': 0.0011499669551849365, 'loss': 0.755338492974639, 'time_step': 0.002111997127532959, 'rollout_return': 14.598591549295774, 'evaluation': 14.8} step=90000\n",
      "2022-06-09 13:09.26 [info     ] Model parameters are saved to d3rlpy_logs/DoubleDQN_online_20220609130601/model_91000.pt\n",
      "2022-06-09 13:09.26 [info     ] DoubleDQN_online_20220609130601: epoch=91 step=91000 epoch=91 metrics={'time_inference': 0.000278874397277832, 'time_environment_step': 0.0005529007911682129, 'time_sample_batch': 6.940031051635742e-05, 'time_algorithm_update': 0.001141986131668091, 'loss': 0.7322420820742845, 'time_step': 0.002096565246582031, 'rollout_return': 14.309859154929578, 'evaluation': 17.4} step=91000\n",
      "2022-06-09 13:09.29 [info     ] Model parameters are saved to d3rlpy_logs/DoubleDQN_online_20220609130601/model_92000.pt\n",
      "2022-06-09 13:09.29 [info     ] DoubleDQN_online_20220609130601: epoch=92 step=92000 epoch=92 metrics={'time_inference': 0.00028079962730407715, 'time_environment_step': 0.0005559985637664795, 'time_sample_batch': 6.960797309875488e-05, 'time_algorithm_update': 0.0011515088081359864, 'loss': 0.7342564525306224, 'time_step': 0.0021115355491638185, 'rollout_return': 14.612676056338028, 'evaluation': 15.4} step=92000\n",
      "2022-06-09 13:09.31 [info     ] Model parameters are saved to d3rlpy_logs/DoubleDQN_online_20220609130601/model_93000.pt\n",
      "2022-06-09 13:09.31 [info     ] DoubleDQN_online_20220609130601: epoch=93 step=93000 epoch=93 metrics={'time_inference': 0.00027631855010986327, 'time_environment_step': 0.0005480051040649414, 'time_sample_batch': 6.859970092773438e-05, 'time_algorithm_update': 0.001131939172744751, 'loss': 0.7366086098104715, 'time_step': 0.0020778443813323976, 'rollout_return': 14.950704225352112, 'evaluation': 15.7} step=93000\n",
      "2022-06-09 13:09.33 [info     ] Model parameters are saved to d3rlpy_logs/DoubleDQN_online_20220609130601/model_94000.pt\n",
      "2022-06-09 13:09.33 [info     ] DoubleDQN_online_20220609130601: epoch=94 step=94000 epoch=94 metrics={'time_inference': 0.0002768867015838623, 'time_environment_step': 0.0005485792160034179, 'time_sample_batch': 6.891918182373046e-05, 'time_algorithm_update': 0.0011346230506896972, 'loss': 0.737543232485652, 'time_step': 0.002081960439682007, 'rollout_return': 15.47887323943662, 'evaluation': 15.6} step=94000\n",
      "2022-06-09 13:09.35 [info     ] Model parameters are saved to d3rlpy_logs/DoubleDQN_online_20220609130601/model_95000.pt\n",
      "2022-06-09 13:09.35 [info     ] DoubleDQN_online_20220609130601: epoch=95 step=95000 epoch=95 metrics={'time_inference': 0.0002793407440185547, 'time_environment_step': 0.0005547351837158203, 'time_sample_batch': 6.977248191833496e-05, 'time_algorithm_update': 0.001143739938735962, 'loss': 0.7342041063010692, 'time_step': 0.0021011624336242677, 'rollout_return': 15.28169014084507, 'evaluation': 13.8} step=95000\n",
      "2022-06-09 13:09.37 [info     ] Model parameters are saved to d3rlpy_logs/DoubleDQN_online_20220609130601/model_96000.pt\n",
      "2022-06-09 13:09.38 [info     ] DoubleDQN_online_20220609130601: epoch=96 step=96000 epoch=96 metrics={'time_inference': 0.00028271794319152834, 'time_environment_step': 0.0005590589046478271, 'time_sample_batch': 7.045292854309081e-05, 'time_algorithm_update': 0.0011544671058654784, 'loss': 0.7580847342312336, 'time_step': 0.002120500326156616, 'rollout_return': 14.908450704225352, 'evaluation': 14.7} step=96000\n",
      "2022-06-09 13:09.40 [info     ] Model parameters are saved to d3rlpy_logs/DoubleDQN_online_20220609130601/model_97000.pt\n",
      "2022-06-09 13:09.40 [info     ] DoubleDQN_online_20220609130601: epoch=97 step=97000 epoch=97 metrics={'time_inference': 0.000280198335647583, 'time_environment_step': 0.0005533795356750488, 'time_sample_batch': 6.941819190979004e-05, 'time_algorithm_update': 0.0011453561782836913, 'loss': 0.7407957988381386, 'time_step': 0.002102025270462036, 'rollout_return': 14.612676056338028, 'evaluation': 15.8} step=97000\n",
      "2022-06-09 13:09.42 [info     ] Model parameters are saved to d3rlpy_logs/DoubleDQN_online_20220609130601/model_98000.pt\n",
      "2022-06-09 13:09.42 [info     ] DoubleDQN_online_20220609130601: epoch=98 step=98000 epoch=98 metrics={'time_inference': 0.00027793240547180175, 'time_environment_step': 0.0005500614643096924, 'time_sample_batch': 6.903553009033203e-05, 'time_algorithm_update': 0.0011346194744110108, 'loss': 0.7555198616087436, 'time_step': 0.0020849308967590334, 'rollout_return': 15.647887323943662, 'evaluation': 16.7} step=98000\n",
      "2022-06-09 13:09.44 [info     ] Model parameters are saved to d3rlpy_logs/DoubleDQN_online_20220609130601/model_99000.pt\n",
      "2022-06-09 13:09.44 [info     ] DoubleDQN_online_20220609130601: epoch=99 step=99000 epoch=99 metrics={'time_inference': 0.0002812659740447998, 'time_environment_step': 0.0005546724796295166, 'time_sample_batch': 6.982016563415527e-05, 'time_algorithm_update': 0.0011534323692321776, 'loss': 0.7271044433563948, 'time_step': 0.002112776279449463, 'rollout_return': 14.570422535211268, 'evaluation': 13.1} step=99000\n",
      "2022-06-09 13:09.46 [info     ] Model parameters are saved to d3rlpy_logs/DoubleDQN_online_20220609130601/model_100000.pt\n",
      "2022-06-09 13:09.46 [info     ] DoubleDQN_online_20220609130601: epoch=100 step=100000 epoch=100 metrics={'time_inference': 0.00028084826469421386, 'time_environment_step': 0.0005541684627532959, 'time_sample_batch': 6.934499740600586e-05, 'time_algorithm_update': 0.001145294427871704, 'loss': 0.7663558671623468, 'time_step': 0.002103397607803345, 'rollout_return': 15.098591549295774, 'evaluation': 16.3} step=100000\n"
     ]
    }
   ],
   "source": [
    "# start training\n",
    "# skip if there is a pre-trained model\n",
    "ddqn.fit_online(\n",
    "    env,\n",
    "    buffer,\n",
    "    explorer=explorer,\n",
    "    eval_env=env,\n",
    "    n_steps=100000,\n",
    "    n_steps_per_epoch=1000,\n",
    "    update_start_step=1000,\n",
    ")"
   ]
  },
  {
   "cell_type": "code",
   "execution_count": 18,
   "metadata": {},
   "outputs": [],
   "source": [
    "# save model\n",
    "ddqn.save_model(\"d3rlpy_logs/ddqn.pt\")"
   ]
  },
  {
   "cell_type": "code",
   "execution_count": 16,
   "metadata": {},
   "outputs": [],
   "source": [
    "# reload model\n",
    "ddqn.build_with_env(env)\n",
    "ddqn.load_model(\"d3rlpy_logs/ddqn.pt\")"
   ]
  },
  {
   "cell_type": "code",
   "execution_count": 17,
   "metadata": {},
   "outputs": [
    {
     "data": {
      "text/plain": [
       "Text(0, 0.5, 'episode reward')"
      ]
     },
     "execution_count": 17,
     "metadata": {},
     "output_type": "execute_result"
    },
    {
     "data": {
      "image/png": "[encoded data removed]",
      "text/plain": [
       "<Figure size 432x288 with 1 Axes>"
      ]
     },
     "metadata": {
      "needs_background": "light"
     },
     "output_type": "display_data"
    }
   ],
   "source": [
    "# we see that training RL policy can be risky online\n",
    "log_path = sorted(glob(\"d3rlpy_logs/DoubleDQN_online_*/evaluation.csv\"))[-1]\n",
    "df = pd.read_csv(\n",
    "    log_path, \n",
    "    usecols=[1,2],\n",
    "    names=[\"train_episode\", \"episodic_rewards\"]\n",
    ")\n",
    "plt.plot(df[\"train_episode\"], df[\"episodic_rewards\"])\n",
    "plt.title(\"Learning curve of DDQN\")\n",
    "plt.xlabel(\"episode\")\n",
    "plt.ylabel(\"episode reward\")"
   ]
  },
  {
   "cell_type": "code",
   "execution_count": 19,
   "metadata": {},
   "outputs": [],
   "source": [
    "random = DiscreteRandomPolicy()\n",
    "random.build_with_env(env)"
   ]
  },
  {
   "cell_type": "code",
   "execution_count": 20,
   "metadata": {},
   "outputs": [
    {
     "data": {
      "application/vnd.jupyter.widget-view+json": {
       "model_id": "b2bdb21abaa442b184e0a443ff128d98",
       "version_major": 2,
       "version_minor": 0
      },
      "text/plain": [
       "[calculate on-policy policy value]:   0%|          | 0/100 [00:00<?, ?it/s]"
      ]
     },
     "metadata": {},
     "output_type": "display_data"
    },
    {
     "data": {
      "application/vnd.jupyter.widget-view+json": {
       "model_id": "8e10ce31c3d2448dab0707326d9d312a",
       "version_major": 2,
       "version_minor": 0
      },
      "text/plain": [
       "[calculate on-policy policy value]:   0%|          | 0/100 [00:00<?, ?it/s]"
      ]
     },
     "metadata": {},
     "output_type": "display_data"
    },
    {
     "data": {
      "image/png": "[encoded data removed]",
      "text/plain": [
       "<Figure size 288x288 with 1 Axes>"
      ]
     },
     "metadata": {},
     "output_type": "display_data"
    }
   ],
   "source": [
    "# compare performance online\n",
    "visualize_on_policy_policy_value(\n",
    "    env=env,\n",
    "    policies=[ddqn, random],\n",
    "    policy_names=[\"ddqn\", \"random\"],\n",
    "    n_episodes=100,\n",
    "    random_state=random_state,\n",
    ")"
   ]
  },
  {
   "cell_type": "code",
   "execution_count": 21,
   "metadata": {},
   "outputs": [
    {
     "data": {
      "application/vnd.jupyter.widget-view+json": {
       "model_id": "5d8429b52dc546d484412b602bedf785",
       "version_major": 2,
       "version_minor": 0
      },
      "text/plain": [
       "[calculate on-policy policy value]:   0%|          | 0/100 [00:00<?, ?it/s]"
      ]
     },
     "metadata": {},
     "output_type": "display_data"
    },
    {
     "data": {
      "application/vnd.jupyter.widget-view+json": {
       "model_id": "545072abc6224facacd894a649e8a332",
       "version_major": 2,
       "version_minor": 0
      },
      "text/plain": [
       "[calculate on-policy policy value]:   0%|          | 0/100 [00:00<?, ?it/s]"
      ]
     },
     "metadata": {},
     "output_type": "display_data"
    },
    {
     "name": "stdout",
     "output_type": "stream",
     "text": [
      "relative improvement: 0.1928625664388763\n"
     ]
    }
   ],
   "source": [
    "# on-policy policy value by ddqn policy\n",
    "# largely outperforms random policy (about 20%)\n",
    "ddqn_performance = calc_on_policy_policy_value(env, ddqn, n_episodes=100, random_state=random_state)\n",
    "random_performance = calc_on_policy_policy_value(env, random, n_episodes=100, random_state=random_state)\n",
    "print(\"relative improvement:\", (ddqn_performance - random_performance) / random_performance)"
   ]
  },
  {
   "cell_type": "markdown",
   "metadata": {},
   "source": [
    "## 1. Synthetic Dataset Generation\n",
    "In the previous section, we see how we can interact the environment *online* using synthetic simulator.  \n",
    "Though simulation is a good start for training agent, eventually we want to deploy our agent (or policy) in the real world environment.  \n",
    "However, online interaction may have potential risk of failure in real-world implementataion.  \n",
    "Therefore, we introduce alternative learning protocol, Offline RL, which aim to obtain a new policy using only offline logged dataset.\n",
    "\n",
    "We prepare easy-to-use synthetic dataset generator: `SyntheticDataset` class in the dataset module.  \n",
    "By regarding simulation environment as a hypothetical real-environment, we show how to conduct Offline RL using logged dataset in real-world application.  \n",
    "For detailed description of how to use real-world dataset, please see #TODO (will be implemented).\n",
    "\n",
    "We have following arguments for `SyntheticDataset` class:\n",
    "- `env`: RTB environment for RL defined in the previous section.\n",
    "- `bahavior_policy`: RL agent (or algorithm) used for the data collection.\n",
    "- `n_samples_pretrain_reward_predictor`: Numbers of samples used to pretrain reward predictor."
   ]
  },
  {
   "cell_type": "code",
   "execution_count": 22,
   "metadata": {},
   "outputs": [],
   "source": [
    "# import necessary module from offlinegym\n",
    "from offlinegym.policy import DiscreteEpsilonGreedyHead"
   ]
  },
  {
   "cell_type": "code",
   "execution_count": 23,
   "metadata": {},
   "outputs": [],
   "source": [
    "behavior_policy = DiscreteEpsilonGreedyHead(\n",
    "    ddqn, \n",
    "    n_actions=env.action_space.n,\n",
    "    epsilon=0.3,\n",
    "    name=\"ddqn_epsilon_0.3\",\n",
    "    random_state=random_state,\n",
    ")"
   ]
  },
  {
   "cell_type": "code",
   "execution_count": 24,
   "metadata": {},
   "outputs": [],
   "source": [
    "# initialize dataset class\n",
    "dataset = SyntheticDataset(\n",
    "    env=env,\n",
    "    behavior_policy=behavior_policy,\n",
    "    is_rtb_env=True,\n",
    "    random_state=random_state,\n",
    ")"
   ]
  },
  {
   "cell_type": "code",
   "execution_count": 25,
   "metadata": {},
   "outputs": [
    {
     "data": {
      "application/vnd.jupyter.widget-view+json": {
       "model_id": "43c9e889d82045a49aecec646f7ff0c5",
       "version_major": 2,
       "version_minor": 0
      },
      "text/plain": [
       "[obtain_trajectories]:   0%|          | 0/10000 [00:00<?, ?it/s]"
      ]
     },
     "metadata": {},
     "output_type": "display_data"
    }
   ],
   "source": [
    "# collect logged data using behavior policy\n",
    "# skip if there is a preserved logged dataset\n",
    "logged_dataset = dataset.obtain_trajectories(n_episodes=10000, obtain_info=True)"
   ]
  },
  {
   "cell_type": "code",
   "execution_count": 26,
   "metadata": {},
   "outputs": [
    {
     "data": {
      "text/plain": [
       "{'size': 70000,\n",
       " 'n_episodes': 10000,\n",
       " 'step_per_episode': 7,\n",
       " 'action_type': 'discrete',\n",
       " 'n_actions': 10,\n",
       " 'action_dim': None,\n",
       " 'action_meaning': array([ 0.1       ,  0.16681005,  0.27825594,  0.46415888,  0.77426368,\n",
       "         1.29154967,  2.15443469,  3.59381366,  5.9948425 , 10.        ]),\n",
       " 'state_dim': 7,\n",
       " 'state_keys': ['timestep',\n",
       "  'remaining_budget',\n",
       "  'budget_consumption_rate',\n",
       "  'cost_per_mille_of_impression',\n",
       "  'winning_rate',\n",
       "  'reward',\n",
       "  'adjust_rate'],\n",
       " 'state': array([[0.00000000e+00, 3.00000000e+03, 9.29616093e-01, ...,\n",
       "         1.83918812e-01, 2.00000000e+00, 1.33732502e-01],\n",
       "        [1.00000000e+00, 1.91000000e+03, 3.63333333e-01, ...,\n",
       "         1.00000000e+00, 6.00000000e+00, 5.99484250e+00],\n",
       "        [2.00000000e+00, 1.91000000e+03, 0.00000000e+00, ...,\n",
       "         0.00000000e+00, 0.00000000e+00, 1.66810054e-01],\n",
       "        ...,\n",
       "        [4.00000000e+00, 3.20000000e+01, 9.42549372e-01, ...,\n",
       "         5.55555556e-01, 2.00000000e+00, 5.99484250e+00],\n",
       "        [5.00000000e+00, 3.20000000e+01, 0.00000000e+00, ...,\n",
       "         4.92610837e-03, 0.00000000e+00, 1.29154967e+00],\n",
       "        [6.00000000e+00, 3.20000000e+01, 0.00000000e+00, ...,\n",
       "         4.28015564e-02, 0.00000000e+00, 1.29154967e+00]]),\n",
       " 'action': array([8., 1., 5., ..., 5., 5., 6.]),\n",
       " 'reward': array([6., 0., 1., ..., 0., 0., 0.]),\n",
       " 'done': array([0., 0., 0., ..., 0., 0., 1.]),\n",
       " 'terminal': array([0., 0., 0., ..., 0., 0., 1.]),\n",
       " 'info': {'search_volume': array([201., 205., 217., ..., 203., 257., 179.]),\n",
       "  'impression': array([201.,   0., 184., ...,   1.,  11.,   8.]),\n",
       "  'click': array([21.,  0., 19., ...,  0.,  0.,  1.]),\n",
       "  'conversion': array([6., 0., 1., ..., 0., 0., 0.]),\n",
       "  'average_bid_price': array([326.24875622,   8.24390244,  67.19354839, ...,  62.2364532 ,\n",
       "          60.53307393,  99.34078212])},\n",
       " 'pscore': array([0.73, 0.03, 0.73, ..., 0.73, 0.73, 0.73])}"
      ]
     },
     "execution_count": 26,
     "metadata": {},
     "output_type": "execute_result"
    }
   ],
   "source": [
    "logged_dataset"
   ]
  },
  {
   "cell_type": "code",
   "execution_count": 27,
   "metadata": {},
   "outputs": [],
   "source": [
    "with open(\"logs/dataset_discrete.pkl\", \"wb\") as f:\n",
    "    pickle.dump(logged_dataset, f)"
   ]
  },
  {
   "cell_type": "code",
   "execution_count": 28,
   "metadata": {},
   "outputs": [],
   "source": [
    "with open(\"logs/dataset_discrete.pkl\", \"rb\") as f:\n",
    "    logged_dataset = pickle.load(f)"
   ]
  },
  {
   "cell_type": "code",
   "execution_count": 29,
   "metadata": {},
   "outputs": [
    {
     "data": {
      "application/vnd.jupyter.widget-view+json": {
       "model_id": "caf1aea14f0141979ee0e705261585b5",
       "version_major": 2,
       "version_minor": 0
      },
      "text/plain": [
       "[calculate on-policy policy value]:   0%|          | 0/100 [00:00<?, ?it/s]"
      ]
     },
     "metadata": {},
     "output_type": "display_data"
    },
    {
     "data": {
      "application/vnd.jupyter.widget-view+json": {
       "model_id": "ed090f8f038c4503ba97b9e2b1420362",
       "version_major": 2,
       "version_minor": 0
      },
      "text/plain": [
       "[calculate on-policy policy value]:   0%|          | 0/100 [00:00<?, ?it/s]"
      ]
     },
     "metadata": {},
     "output_type": "display_data"
    },
    {
     "data": {
      "application/vnd.jupyter.widget-view+json": {
       "model_id": "53e0cf01c4e341f0868393704feaeaa4",
       "version_major": 2,
       "version_minor": 0
      },
      "text/plain": [
       "[calculate on-policy policy value]:   0%|          | 0/100 [00:00<?, ?it/s]"
      ]
     },
     "metadata": {},
     "output_type": "display_data"
    },
    {
     "data": {
      "image/png": "[encoded data removed]",
      "text/plain": [
       "<Figure size 432x288 with 1 Axes>"
      ]
     },
     "metadata": {},
     "output_type": "display_data"
    }
   ],
   "source": [
    "# compare performance online\n",
    "# almost same performance with greedy ddqn\n",
    "visualize_on_policy_policy_value(\n",
    "    env=env,\n",
    "    policies=[ddqn, behavior_policy, random],\n",
    "    policy_names=[\"ddqn\", \"ddqn (e=0.3)\", \"random\"],\n",
    "    n_episodes=100,\n",
    "    random_state=random_state,\n",
    ")"
   ]
  },
  {
   "cell_type": "code",
   "execution_count": 30,
   "metadata": {},
   "outputs": [
    {
     "data": {
      "text/html": [
       "<div>\n",
       "<style scoped>\n",
       "    .dataframe tbody tr th:only-of-type {\n",
       "        vertical-align: middle;\n",
       "    }\n",
       "\n",
       "    .dataframe tbody tr th {\n",
       "        vertical-align: top;\n",
       "    }\n",
       "\n",
       "    .dataframe thead th {\n",
       "        text-align: right;\n",
       "    }\n",
       "</style>\n",
       "<table border=\"1\" class=\"dataframe\">\n",
       "  <thead>\n",
       "    <tr style=\"text-align: right;\">\n",
       "      <th></th>\n",
       "      <th>adjust rate</th>\n",
       "      <th>average bid price</th>\n",
       "      <th>impression</th>\n",
       "      <th>click</th>\n",
       "      <th>conversion</th>\n",
       "      <th>winning rate</th>\n",
       "      <th>click / impression</th>\n",
       "      <th>conversion / click</th>\n",
       "    </tr>\n",
       "  </thead>\n",
       "  <tbody>\n",
       "    <tr>\n",
       "      <th>count</th>\n",
       "      <td>70000.000000</td>\n",
       "      <td>70000.000000</td>\n",
       "      <td>70000.000000</td>\n",
       "      <td>70000.000000</td>\n",
       "      <td>70000.000000</td>\n",
       "      <td>70000.000000</td>\n",
       "      <td>70000.000000</td>\n",
       "      <td>70000.000000</td>\n",
       "    </tr>\n",
       "    <tr>\n",
       "      <th>mean</th>\n",
       "      <td>2.143551</td>\n",
       "      <td>118.761797</td>\n",
       "      <td>91.315629</td>\n",
       "      <td>9.089029</td>\n",
       "      <td>2.168043</td>\n",
       "      <td>0.515376</td>\n",
       "      <td>0.071215</td>\n",
       "      <td>0.144263</td>\n",
       "    </tr>\n",
       "    <tr>\n",
       "      <th>std</th>\n",
       "      <td>2.299263</td>\n",
       "      <td>122.256154</td>\n",
       "      <td>81.529734</td>\n",
       "      <td>8.865248</td>\n",
       "      <td>2.888160</td>\n",
       "      <td>0.385988</td>\n",
       "      <td>0.076777</td>\n",
       "      <td>0.179844</td>\n",
       "    </tr>\n",
       "    <tr>\n",
       "      <th>min</th>\n",
       "      <td>0.000042</td>\n",
       "      <td>4.051887</td>\n",
       "      <td>0.000000</td>\n",
       "      <td>0.000000</td>\n",
       "      <td>0.000000</td>\n",
       "      <td>0.000000</td>\n",
       "      <td>0.000000</td>\n",
       "      <td>0.000000</td>\n",
       "    </tr>\n",
       "    <tr>\n",
       "      <th>25%</th>\n",
       "      <td>0.774264</td>\n",
       "      <td>59.905646</td>\n",
       "      <td>4.000000</td>\n",
       "      <td>0.000000</td>\n",
       "      <td>0.000000</td>\n",
       "      <td>0.049327</td>\n",
       "      <td>0.000000</td>\n",
       "      <td>0.000000</td>\n",
       "    </tr>\n",
       "    <tr>\n",
       "      <th>50%</th>\n",
       "      <td>1.291550</td>\n",
       "      <td>64.509804</td>\n",
       "      <td>90.000000</td>\n",
       "      <td>9.000000</td>\n",
       "      <td>1.000000</td>\n",
       "      <td>0.677419</td>\n",
       "      <td>0.080000</td>\n",
       "      <td>0.083333</td>\n",
       "    </tr>\n",
       "    <tr>\n",
       "      <th>75%</th>\n",
       "      <td>2.154435</td>\n",
       "      <td>165.974645</td>\n",
       "      <td>167.000000</td>\n",
       "      <td>17.000000</td>\n",
       "      <td>3.000000</td>\n",
       "      <td>0.828960</td>\n",
       "      <td>0.109756</td>\n",
       "      <td>0.250000</td>\n",
       "    </tr>\n",
       "    <tr>\n",
       "      <th>max</th>\n",
       "      <td>10.000000</td>\n",
       "      <td>546.900000</td>\n",
       "      <td>290.000000</td>\n",
       "      <td>41.000000</td>\n",
       "      <td>20.000000</td>\n",
       "      <td>1.000000</td>\n",
       "      <td>0.999997</td>\n",
       "      <td>0.999998</td>\n",
       "    </tr>\n",
       "  </tbody>\n",
       "</table>\n",
       "</div>"
      ],
      "text/plain": [
       "        adjust rate  average bid price    impression         click  \\\n",
       "count  70000.000000       70000.000000  70000.000000  70000.000000   \n",
       "mean       2.143551         118.761797     91.315629      9.089029   \n",
       "std        2.299263         122.256154     81.529734      8.865248   \n",
       "min        0.000042           4.051887      0.000000      0.000000   \n",
       "25%        0.774264          59.905646      4.000000      0.000000   \n",
       "50%        1.291550          64.509804     90.000000      9.000000   \n",
       "75%        2.154435         165.974645    167.000000     17.000000   \n",
       "max       10.000000         546.900000    290.000000     41.000000   \n",
       "\n",
       "         conversion  winning rate  click / impression  conversion / click  \n",
       "count  70000.000000  70000.000000        70000.000000        70000.000000  \n",
       "mean       2.168043      0.515376            0.071215            0.144263  \n",
       "std        2.888160      0.385988            0.076777            0.179844  \n",
       "min        0.000000      0.000000            0.000000            0.000000  \n",
       "25%        0.000000      0.049327            0.000000            0.000000  \n",
       "50%        1.000000      0.677419            0.080000            0.083333  \n",
       "75%        3.000000      0.828960            0.109756            0.250000  \n",
       "max       20.000000      1.000000            0.999997            0.999998  "
      ]
     },
     "execution_count": 30,
     "metadata": {},
     "output_type": "execute_result"
    }
   ],
   "source": [
    "# check statistics of the dataset\n",
    "df = pd.DataFrame()\n",
    "df['adjust rate'] = logged_dataset['state'][:, 6]\n",
    "df['average bid price'] = logged_dataset['info']['average_bid_price']\n",
    "df['impression'] = logged_dataset['info']['impression']\n",
    "df['click'] = logged_dataset['info']['click']\n",
    "df['conversion'] = logged_dataset['info']['conversion']\n",
    "df['winning rate'] = logged_dataset['state'][:, 4]\n",
    "df['click / impression'] = df['click'] / (df['impression'] + 1e-5)\n",
    "df['conversion / click'] = df['conversion'] / (df['click'] + 1e-5)\n",
    "df.describe()"
   ]
  },
  {
   "cell_type": "markdown",
   "metadata": {},
   "source": [
    "For more about the data collection and visualization, please refer to [examples/quickstart/rtb_synthetic_data_collection.ipynb](https://github.com/negocia-inc/rtb_reinforcement_learing/blob/ope/examples/quickstart/rtb_synthetic_data_collection.ipynb)."
   ]
  },
  {
   "cell_type": "markdown",
   "metadata": {},
   "source": [
    "## 2. Offline Reinforcement Learning\n",
    "In this section, we learn a new policy in an offline manner, without interacting to the environment.  \n",
    "To achieve this goal, we exploit logged dataset and train the policy on the data.  \n",
    "We use [d3rlpy](https://github.com/takuseno/d3rlpy)'s implementation of algorithms."
   ]
  },
  {
   "cell_type": "code",
   "execution_count": 31,
   "metadata": {},
   "outputs": [],
   "source": [
    "# import modules from d3rlpy\n",
    "from d3rlpy.dataset import MDPDataset\n",
    "from d3rlpy.algos import DiscreteCQL\n",
    "from d3rlpy.ope import DiscreteFQE\n",
    "from d3rlpy.metrics.scorer import evaluate_on_environment"
   ]
  },
  {
   "cell_type": "code",
   "execution_count": 32,
   "metadata": {},
   "outputs": [],
   "source": [
    "offlinerl_dataset = MDPDataset(\n",
    "    observations=logged_dataset[\"state\"],\n",
    "    actions=logged_dataset[\"action\"],\n",
    "    rewards=logged_dataset[\"reward\"],\n",
    "    terminals=logged_dataset[\"done\"],\n",
    "    episode_terminals=logged_dataset[\"done\"],\n",
    "    discrete_action=True,\n",
    ")\n",
    "train_episodes, test_episodes = train_test_split(offlinerl_dataset, test_size=0.2, random_state=random_state)"
   ]
  },
  {
   "cell_type": "code",
   "execution_count": 33,
   "metadata": {},
   "outputs": [],
   "source": [
    "# Use Conservetive Q-Learning policy\n",
    "cql = DiscreteCQL(\n",
    "    encoder_factory=VectorEncoderFactory(hidden_units=[30, 30]),\n",
    "    q_func_factory=MeanQFunctionFactory(),\n",
    "    use_gpu=torch.cuda.is_available(),\n",
    ")"
   ]
  },
  {
   "cell_type": "code",
   "execution_count": 34,
   "metadata": {},
   "outputs": [
    {
     "name": "stdout",
     "output_type": "stream",
     "text": [
      "2022-06-09 13:11.45 [debug    ] RandomIterator is selected.\n",
      "2022-06-09 13:11.45 [info     ] Directory is created at d3rlpy_logs/DiscreteCQL_20220609131145\n",
      "2022-06-09 13:11.45 [debug    ] Building models...\n",
      "2022-06-09 13:11.45 [debug    ] Models have been built.\n",
      "2022-06-09 13:11.45 [info     ] Parameters are saved to d3rlpy_logs/DiscreteCQL_20220609131145/params.json params={'action_scaler': None, 'alpha': 1.0, 'batch_size': 32, 'encoder_factory': {'type': 'vector', 'params': {'hidden_units': [30, 30], 'activation': 'relu', 'use_batch_norm': False, 'dropout_rate': None, 'use_dense': False}}, 'gamma': 0.99, 'generated_maxlen': 100000, 'learning_rate': 6.25e-05, 'n_critics': 1, 'n_frames': 1, 'n_steps': 1, 'optim_factory': {'optim_cls': 'Adam', 'betas': (0.9, 0.999), 'eps': 1e-08, 'weight_decay': 0, 'amsgrad': False}, 'q_func_factory': {'type': 'mean', 'params': {'share_encoder': False}}, 'real_ratio': 1.0, 'reward_scaler': None, 'scaler': None, 'target_update_interval': 8000, 'use_gpu': None, 'algorithm': 'DiscreteCQL', 'observation_shape': (7,), 'action_size': 10}\n"
     ]
    },
    {
     "data": {
      "application/vnd.jupyter.widget-view+json": {
       "model_id": "81a600fc3b514dc1bf486489854f405a",
       "version_major": 2,
       "version_minor": 0
      },
      "text/plain": [
       "Epoch 1/1:   0%|          | 0/10000 [00:00<?, ?it/s]"
      ]
     },
     "metadata": {},
     "output_type": "display_data"
    },
    {
     "name": "stdout",
     "output_type": "stream",
     "text": [
      "2022-06-09 13:12.05 [info     ] DiscreteCQL_20220609131145: epoch=1 step=10000 epoch=1 metrics={'time_sample_batch': 0.0001240518808364868, 'time_algorithm_update': 0.0017827794551849366, 'loss': 66.8778075091362, 'time_step': 0.0020425372123718264, 'environment': 16.1} step=10000\n",
      "2022-06-09 13:12.05 [info     ] Model parameters are saved to d3rlpy_logs/DiscreteCQL_20220609131145/model_10000.pt\n"
     ]
    },
    {
     "data": {
      "text/plain": [
       "[(1,\n",
       "  {'time_sample_batch': 0.0001240518808364868,\n",
       "   'time_algorithm_update': 0.0017827794551849366,\n",
       "   'loss': 66.8778075091362,\n",
       "   'time_step': 0.0020425372123718264,\n",
       "   'environment': 16.1})]"
      ]
     },
     "execution_count": 34,
     "metadata": {},
     "output_type": "execute_result"
    }
   ],
   "source": [
    "cql.fit(\n",
    "    train_episodes,\n",
    "    eval_episodes=test_episodes,\n",
    "    n_steps=10000,\n",
    "    scorers={\n",
    "        'environment': evaluate_on_environment(env),\n",
    "        # to record training process w/ ground truth policy value, which is unseen to the agent\n",
    "    },\n",
    ")"
   ]
  },
  {
   "cell_type": "code",
   "execution_count": 35,
   "metadata": {},
   "outputs": [],
   "source": [
    "# save model\n",
    "cql.save_model(\"d3rlpy_logs/cql_discrete.pt\")"
   ]
  },
  {
   "cell_type": "code",
   "execution_count": 36,
   "metadata": {},
   "outputs": [
    {
     "name": "stdout",
     "output_type": "stream",
     "text": [
      "2022-06-09 13:12.09 [warning  ] Parameters will be reinitialized.\n"
     ]
    }
   ],
   "source": [
    "# reload model\n",
    "cql.build_with_env(env)\n",
    "cql.load_model(\"d3rlpy_logs/cql_discrete.pt\")"
   ]
  },
  {
   "cell_type": "code",
   "execution_count": 37,
   "metadata": {},
   "outputs": [
    {
     "data": {
      "application/vnd.jupyter.widget-view+json": {
       "model_id": "ad40452b2e374e29847a11895c90505e",
       "version_major": 2,
       "version_minor": 0
      },
      "text/plain": [
       "[calculate on-policy policy value]:   0%|          | 0/100 [00:00<?, ?it/s]"
      ]
     },
     "metadata": {},
     "output_type": "display_data"
    },
    {
     "data": {
      "application/vnd.jupyter.widget-view+json": {
       "model_id": "4dde575aa8944e3690b91bf565768585",
       "version_major": 2,
       "version_minor": 0
      },
      "text/plain": [
       "[calculate on-policy policy value]:   0%|          | 0/100 [00:00<?, ?it/s]"
      ]
     },
     "metadata": {},
     "output_type": "display_data"
    },
    {
     "data": {
      "application/vnd.jupyter.widget-view+json": {
       "model_id": "db13e7e130564638b66d601bc31b2fbf",
       "version_major": 2,
       "version_minor": 0
      },
      "text/plain": [
       "[calculate on-policy policy value]:   0%|          | 0/100 [00:00<?, ?it/s]"
      ]
     },
     "metadata": {},
     "output_type": "display_data"
    },
    {
     "data": {
      "application/vnd.jupyter.widget-view+json": {
       "model_id": "0118a09f1bc9460c9bdc1e13ea44112e",
       "version_major": 2,
       "version_minor": 0
      },
      "text/plain": [
       "[calculate on-policy policy value]:   0%|          | 0/100 [00:00<?, ?it/s]"
      ]
     },
     "metadata": {},
     "output_type": "display_data"
    },
    {
     "data": {
      "image/png": "[encoded data removed]",
      "text/plain": [
       "<Figure size 576x288 with 1 Axes>"
      ]
     },
     "metadata": {},
     "output_type": "display_data"
    }
   ],
   "source": [
    "# compare performance online\n",
    "# not better than online policy, but achieves almost the same performance\n",
    "# meaning that we can learn a reasonable policy without interacting with the environment!\n",
    "visualize_on_policy_policy_value(\n",
    "    env=env,\n",
    "    policies=[ddqn, behavior_policy, cql, random],\n",
    "    policy_names=[\"ddqn\", \"ddqn (e=0.3)\", \"cql (offline)\", \"random\"],\n",
    "    n_episodes=100,\n",
    "    random_state=random_state,\n",
    ")"
   ]
  },
  {
   "cell_type": "markdown",
   "metadata": {},
   "source": [
    "## 3. Off-Policy Evaluation and Evaluation of Offline RL methods\n",
    "In the previous section, we verified the performance of learned policy via online interaction (aka A/B tests).  \n",
    "However, it could be risky because the policy may perform poorly in an online environment.  \n",
    "To tackle this issue, we aim to evaluate the performance of policies in an offline manner, to gain prior knowledge on how agent works in the environment."
   ]
  },
  {
   "cell_type": "code",
   "execution_count": 38,
   "metadata": {},
   "outputs": [],
   "source": [
    "# import ope modules from offlinegym\n",
    "from offlinegym.ope import CreateOPEInput\n",
    "from offlinegym.ope import DiscreteOffPolicyEvaluation as OPE\n",
    "from offlinegym.ope import DiscreteDirectMethod as DM\n",
    "from offlinegym.ope import DiscreteTrajectoryWiseImportanceSampling as TIS\n",
    "from offlinegym.ope import DiscretePerDecisionImportanceSampling as PDIS\n",
    "from offlinegym.ope import DiscreteDoublyRobust as DR\n",
    "from offlinegym.ope import DiscreteSelfNormalizedTrajectoryWiseImportanceSampling as SNTIS\n",
    "from offlinegym.ope import DiscreteSelfNormalizedPerDecisionImportanceSampling as SNPDIS\n",
    "from offlinegym.ope import DiscreteSelfNormalizedDoublyRobust as SNDR"
   ]
  },
  {
   "cell_type": "code",
   "execution_count": 39,
   "metadata": {},
   "outputs": [],
   "source": [
    "# define evaluation policies\n",
    "cql_ = DiscreteEpsilonGreedyHead(base_policy=cql, n_actions=env.action_space.n, name=\"cql\", epsilon=0.0, random_state=random_state)\n",
    "ddqn_ = DiscreteEpsilonGreedyHead(base_policy=ddqn, n_actions=env.action_space.n, name=\"ddqn\", epsilon=0.0, random_state=random_state)\n",
    "random_ = DiscreteEpsilonGreedyHead(base_policy=random, n_actions=env.action_space.n, name=\"random\", epsilon=1.0, random_state=random_state)\n",
    "evaluation_policies = [cql_, ddqn_, random_]"
   ]
  },
  {
   "cell_type": "code",
   "execution_count": 40,
   "metadata": {},
   "outputs": [],
   "source": [
    "# first, prepare OPE inputs\n",
    "prep = CreateOPEInput(\n",
    "    logged_dataset=logged_dataset,\n",
    "    use_base_model=True,  # use model-based prediction\n",
    ")"
   ]
  },
  {
   "cell_type": "code",
   "execution_count": 41,
   "metadata": {},
   "outputs": [
    {
     "data": {
      "application/vnd.jupyter.widget-view+json": {
       "model_id": "7158ef072bef4f039e4a9c763d262e6f",
       "version_major": 2,
       "version_minor": 0
      },
      "text/plain": [
       "[fit FQE model]:   0%|          | 0/3 [00:00<?, ?it/s]"
      ]
     },
     "metadata": {},
     "output_type": "display_data"
    },
    {
     "name": "stdout",
     "output_type": "stream",
     "text": [
      "2022-06-09 13:12.22 [debug    ] RandomIterator is selected.\n",
      "2022-06-09 13:12.22 [info     ] Directory is created at d3rlpy_logs/DiscreteFQE_20220609131222\n",
      "2022-06-09 13:12.22 [debug    ] Building models...\n",
      "2022-06-09 13:12.22 [debug    ] Models have been built.\n",
      "2022-06-09 13:12.22 [info     ] Parameters are saved to d3rlpy_logs/DiscreteFQE_20220609131222/params.json params={'action_scaler': None, 'batch_size': 100, 'encoder_factory': {'type': 'vector', 'params': {'hidden_units': [30, 30], 'activation': 'relu', 'use_batch_norm': False, 'dropout_rate': None, 'use_dense': False}}, 'gamma': 0.99, 'generated_maxlen': 100000, 'learning_rate': 0.0001, 'n_critics': 1, 'n_frames': 1, 'n_steps': 1, 'optim_factory': {'optim_cls': 'Adam', 'betas': (0.9, 0.999), 'eps': 1e-08, 'weight_decay': 0, 'amsgrad': False}, 'q_func_factory': {'type': 'mean', 'params': {'share_encoder': False}}, 'real_ratio': 1.0, 'reward_scaler': None, 'scaler': None, 'target_update_interval': 100, 'use_gpu': None, 'algorithm': 'DiscreteFQE', 'observation_shape': (7,), 'action_size': 10}\n"
     ]
    },
    {
     "data": {
      "application/vnd.jupyter.widget-view+json": {
       "model_id": "f96a58e6ae534297a7a3f0afcdeaee11",
       "version_major": 2,
       "version_minor": 0
      },
      "text/plain": [
       "Epoch 1/1:   0%|          | 0/10000 [00:00<?, ?it/s]"
      ]
     },
     "metadata": {},
     "output_type": "display_data"
    },
    {
     "name": "stdout",
     "output_type": "stream",
     "text": [
      "2022-06-09 13:12.42 [info     ] DiscreteFQE_20220609131222: epoch=1 step=10000 epoch=1 metrics={'time_sample_batch': 0.0003205966949462891, 'time_algorithm_update': 0.0014626028299331666, 'loss': 4.042461380803585, 'time_step': 0.0019375526428222656} step=10000\n",
      "2022-06-09 13:12.42 [info     ] Model parameters are saved to d3rlpy_logs/DiscreteFQE_20220609131222/model_10000.pt\n",
      "2022-06-09 13:12.42 [debug    ] RandomIterator is selected.\n",
      "2022-06-09 13:12.42 [info     ] Directory is created at d3rlpy_logs/DiscreteFQE_20220609131242\n",
      "2022-06-09 13:12.42 [debug    ] Building models...\n",
      "2022-06-09 13:12.42 [debug    ] Models have been built.\n",
      "2022-06-09 13:12.42 [info     ] Parameters are saved to d3rlpy_logs/DiscreteFQE_20220609131242/params.json params={'action_scaler': None, 'batch_size': 100, 'encoder_factory': {'type': 'vector', 'params': {'hidden_units': [30, 30], 'activation': 'relu', 'use_batch_norm': False, 'dropout_rate': None, 'use_dense': False}}, 'gamma': 0.99, 'generated_maxlen': 100000, 'learning_rate': 0.0001, 'n_critics': 1, 'n_frames': 1, 'n_steps': 1, 'optim_factory': {'optim_cls': 'Adam', 'betas': (0.9, 0.999), 'eps': 1e-08, 'weight_decay': 0, 'amsgrad': False}, 'q_func_factory': {'type': 'mean', 'params': {'share_encoder': False}}, 'real_ratio': 1.0, 'reward_scaler': None, 'scaler': None, 'target_update_interval': 100, 'use_gpu': None, 'algorithm': 'DiscreteFQE', 'observation_shape': (7,), 'action_size': 10}\n"
     ]
    },
    {
     "data": {
      "application/vnd.jupyter.widget-view+json": {
       "model_id": "84dacb6138c1434eb56e14cf11ec63c2",
       "version_major": 2,
       "version_minor": 0
      },
      "text/plain": [
       "Epoch 1/1:   0%|          | 0/10000 [00:00<?, ?it/s]"
      ]
     },
     "metadata": {},
     "output_type": "display_data"
    },
    {
     "name": "stdout",
     "output_type": "stream",
     "text": [
      "2022-06-09 13:13.02 [info     ] DiscreteFQE_20220609131242: epoch=1 step=10000 epoch=1 metrics={'time_sample_batch': 0.0003221126079559326, 'time_algorithm_update': 0.0014751283407211304, 'loss': 1.5549487250626086, 'time_step': 0.0019417073249816895} step=10000\n",
      "2022-06-09 13:13.02 [info     ] Model parameters are saved to d3rlpy_logs/DiscreteFQE_20220609131242/model_10000.pt\n",
      "2022-06-09 13:13.02 [debug    ] RandomIterator is selected.\n",
      "2022-06-09 13:13.02 [info     ] Directory is created at d3rlpy_logs/DiscreteFQE_20220609131302\n",
      "2022-06-09 13:13.02 [debug    ] Building models...\n",
      "2022-06-09 13:13.02 [debug    ] Models have been built.\n",
      "2022-06-09 13:13.02 [info     ] Parameters are saved to d3rlpy_logs/DiscreteFQE_20220609131302/params.json params={'action_scaler': None, 'batch_size': 100, 'encoder_factory': {'type': 'vector', 'params': {'hidden_units': [30, 30], 'activation': 'relu', 'use_batch_norm': False, 'dropout_rate': None, 'use_dense': False}}, 'gamma': 0.99, 'generated_maxlen': 100000, 'learning_rate': 0.0001, 'n_critics': 1, 'n_frames': 1, 'n_steps': 1, 'optim_factory': {'optim_cls': 'Adam', 'betas': (0.9, 0.999), 'eps': 1e-08, 'weight_decay': 0, 'amsgrad': False}, 'q_func_factory': {'type': 'mean', 'params': {'share_encoder': False}}, 'real_ratio': 1.0, 'reward_scaler': None, 'scaler': None, 'target_update_interval': 100, 'use_gpu': None, 'algorithm': 'DiscreteFQE', 'observation_shape': (7,), 'action_size': 10}\n"
     ]
    },
    {
     "data": {
      "application/vnd.jupyter.widget-view+json": {
       "model_id": "67b7d37b029b4e25a2537efe4f3e9e6d",
       "version_major": 2,
       "version_minor": 0
      },
      "text/plain": [
       "Epoch 1/1:   0%|          | 0/10000 [00:00<?, ?it/s]"
      ]
     },
     "metadata": {},
     "output_type": "display_data"
    },
    {
     "name": "stdout",
     "output_type": "stream",
     "text": [
      "2022-06-09 13:13.20 [info     ] DiscreteFQE_20220609131302: epoch=1 step=10000 epoch=1 metrics={'time_sample_batch': 0.0003401743173599243, 'time_algorithm_update': 0.0012704248428344726, 'loss': 3.693067208188772, 'time_step': 0.0017589282751083375} step=10000\n",
      "2022-06-09 13:13.20 [info     ] Model parameters are saved to d3rlpy_logs/DiscreteFQE_20220609131302/model_10000.pt\n"
     ]
    },
    {
     "data": {
      "application/vnd.jupyter.widget-view+json": {
       "model_id": "a9f9ac96719b40a48503ff34e706614f",
       "version_major": 2,
       "version_minor": 0
      },
      "text/plain": [
       "[collect input data]:   0%|          | 0/3 [00:00<?, ?it/s]"
      ]
     },
     "metadata": {},
     "output_type": "display_data"
    },
    {
     "data": {
      "application/vnd.jupyter.widget-view+json": {
       "model_id": "28f2247210b94e99a131f0aadc8e212f",
       "version_major": 2,
       "version_minor": 0
      },
      "text/plain": [
       "[calculate on-policy policy value]:   0%|          | 0/100 [00:00<?, ?it/s]"
      ]
     },
     "metadata": {},
     "output_type": "display_data"
    },
    {
     "data": {
      "application/vnd.jupyter.widget-view+json": {
       "model_id": "0adaf5176999413ba9b38d689cbce5e9",
       "version_major": 2,
       "version_minor": 0
      },
      "text/plain": [
       "[calculate on-policy policy value]:   0%|          | 0/100 [00:00<?, ?it/s]"
      ]
     },
     "metadata": {},
     "output_type": "display_data"
    },
    {
     "data": {
      "application/vnd.jupyter.widget-view+json": {
       "model_id": "bfb2c9c662894a998eba01835d84275a",
       "version_major": 2,
       "version_minor": 0
      },
      "text/plain": [
       "[calculate on-policy policy value]:   0%|          | 0/100 [00:00<?, ?it/s]"
      ]
     },
     "metadata": {},
     "output_type": "display_data"
    }
   ],
   "source": [
    "# takes time\n",
    "input_dict = prep.obtain_whole_inputs(\n",
    "    evaluation_policies=evaluation_policies,\n",
    "    env=env,\n",
    "    n_episodes_on_policy_evaluation=100,\n",
    "    random_state=random_state,\n",
    ")"
   ]
  },
  {
   "cell_type": "code",
   "execution_count": 42,
   "metadata": {},
   "outputs": [],
   "source": [
    "with open(\"logs/ope_input_dict_discrete.pkl\", \"wb\") as f:\n",
    "    pickle.dump(input_dict, f)"
   ]
  },
  {
   "cell_type": "code",
   "execution_count": 43,
   "metadata": {},
   "outputs": [],
   "source": [
    "with open(\"logs/ope_input_dict_discrete.pkl\", \"rb\") as f:\n",
    "    input_dict = pickle.load(f)"
   ]
  },
  {
   "cell_type": "code",
   "execution_count": 44,
   "metadata": {},
   "outputs": [],
   "source": [
    "ope = OPE(\n",
    "    logged_dataset=logged_dataset,\n",
    "    ope_estimators=[DM(), TIS(), PDIS(), DR(), SNTIS(), SNPDIS(), SNDR()],\n",
    ")"
   ]
  },
  {
   "cell_type": "code",
   "execution_count": 45,
   "metadata": {},
   "outputs": [],
   "source": [
    "# performance estimation by ope\n",
    "policy_value_df_dict, policy_value_interval_df_dict = ope.summarize_off_policy_estimates(input_dict, random_state=random_state)"
   ]
  },
  {
   "cell_type": "code",
   "execution_count": 46,
   "metadata": {},
   "outputs": [
    {
     "data": {
      "text/plain": [
       "{'cql':            policy_value  relative_policy_value\n",
       " on_policy     15.680000               1.000000\n",
       " dm            12.001753               0.765418\n",
       " tis            1.101315               0.070237\n",
       " pdis          11.526453               0.735105\n",
       " dr            15.624346               0.996451\n",
       " sntis         16.666667               1.062925\n",
       " snpdis        13.643907               0.870147\n",
       " sndr          16.658216               1.062386,\n",
       " 'ddqn':            policy_value  relative_policy_value\n",
       " on_policy     15.730000               1.000000\n",
       " dm            14.897795               0.947094\n",
       " tis           16.074373               1.021893\n",
       " pdis          15.896977               1.010615\n",
       " dr            15.838769               1.006915\n",
       " sntis         15.926457               1.012489\n",
       " snpdis        15.804679               1.004748\n",
       " sndr          15.833890               1.006605,\n",
       " 'random':            policy_value  relative_policy_value\n",
       " on_policy     12.570000               1.000000\n",
       " dm            13.990791               1.113030\n",
       " tis            5.559508               0.442284\n",
       " pdis          11.749125               0.934696\n",
       " dr            13.674929               1.087902\n",
       " sntis         12.667984               1.007795\n",
       " snpdis        13.417879               1.067453\n",
       " sndr          12.792539               1.017704}"
      ]
     },
     "execution_count": 46,
     "metadata": {},
     "output_type": "execute_result"
    }
   ],
   "source": [
    "# estimated policy performance\n",
    "policy_value_df_dict"
   ]
  },
  {
   "cell_type": "code",
   "execution_count": 47,
   "metadata": {},
   "outputs": [
    {
     "data": {
      "text/plain": [
       "{'cql':                 mean  95.0% CI (lower)  95.0% CI (upper)\n",
       " on_policy  15.674200         14.924750         16.426750\n",
       " dm         12.001751         12.001506         12.002030\n",
       " tis         1.163209          0.000000          2.538531\n",
       " pdis       11.669742          8.834191         15.848273\n",
       " dr         15.643102         14.118618         17.548221\n",
       " sntis      17.603333          0.000000         38.416667\n",
       " snpdis     13.936695          9.826332         18.080812\n",
       " sndr       16.612210         14.874601         18.806371,\n",
       " 'ddqn':                 mean  95.0% CI (lower)  95.0% CI (upper)\n",
       " on_policy  15.685600         14.930000         16.346750\n",
       " dm         14.897840         14.889316         14.906235\n",
       " tis        16.092178         15.109123         16.997803\n",
       " pdis       15.910241         15.650408         16.200529\n",
       " dr         15.846785         15.755260         15.940210\n",
       " sntis      15.944099         14.970090         16.841390\n",
       " snpdis     15.817877         15.559473         16.106549\n",
       " sndr       15.841866         15.751021         15.934312,\n",
       " 'random':                 mean  95.0% CI (lower)  95.0% CI (upper)\n",
       " on_policy  12.497200         11.637000         13.475750\n",
       " dm         13.990810         13.990568         13.991078\n",
       " tis         5.562328          3.743758          7.501272\n",
       " pdis       11.646539          9.924040         14.259451\n",
       " dr         13.680884         12.833251         14.361696\n",
       " sntis      12.674409          8.530586         17.092517\n",
       " snpdis     13.284935         10.848863         17.055918\n",
       " sndr       12.810346         11.353553         14.021941}"
      ]
     },
     "execution_count": 47,
     "metadata": {},
     "output_type": "execute_result"
    }
   ],
   "source": [
    "# estimated policy performance confidence intervals\n",
    "policy_value_interval_df_dict"
   ]
  },
  {
   "cell_type": "markdown",
   "metadata": {},
   "source": [
    "## 4. Evaluation of OPE methods\n",
    "Now, we evaluate how well ope estimators estimated the policy value."
   ]
  },
  {
   "cell_type": "code",
   "execution_count": 48,
   "metadata": {},
   "outputs": [
    {
     "data": {
      "image/png": "[encoded data removed]",
      "text/plain": [
       "<Figure size 1008x864 with 3 Axes>"
      ]
     },
     "metadata": {},
     "output_type": "display_data"
    }
   ],
   "source": [
    "# we can visualize and compare the result\n",
    "# it seems that DM tends to have a bias though the variance is quite small, \n",
    "# while (trajectory-wise) importance sampling estimators have a smaller bias with a larger variance.\n",
    "# self-normalized estimators also works well\n",
    "ope.visualize_off_policy_estimates(input_dict, random_state=random_state, sharey=False)"
   ]
  },
  {
   "cell_type": "code",
   "execution_count": 49,
   "metadata": {},
   "outputs": [
    {
     "data": {
      "text/html": [
       "<div>\n",
       "<style scoped>\n",
       "    .dataframe tbody tr th:only-of-type {\n",
       "        vertical-align: middle;\n",
       "    }\n",
       "\n",
       "    .dataframe tbody tr th {\n",
       "        vertical-align: top;\n",
       "    }\n",
       "\n",
       "    .dataframe thead th {\n",
       "        text-align: right;\n",
       "    }\n",
       "</style>\n",
       "<table border=\"1\" class=\"dataframe\">\n",
       "  <thead>\n",
       "    <tr style=\"text-align: right;\">\n",
       "      <th></th>\n",
       "      <th>cql</th>\n",
       "      <th>ddqn</th>\n",
       "      <th>random</th>\n",
       "    </tr>\n",
       "  </thead>\n",
       "  <tbody>\n",
       "    <tr>\n",
       "      <th>dm</th>\n",
       "      <td>13.529500</td>\n",
       "      <td>0.692564</td>\n",
       "      <td>2.018646</td>\n",
       "    </tr>\n",
       "    <tr>\n",
       "      <th>tis</th>\n",
       "      <td>212.538054</td>\n",
       "      <td>0.118592</td>\n",
       "      <td>49.146991</td>\n",
       "    </tr>\n",
       "    <tr>\n",
       "      <th>pdis</th>\n",
       "      <td>17.251951</td>\n",
       "      <td>0.027881</td>\n",
       "      <td>0.673836</td>\n",
       "    </tr>\n",
       "    <tr>\n",
       "      <th>dr</th>\n",
       "      <td>0.003097</td>\n",
       "      <td>0.011831</td>\n",
       "      <td>1.220868</td>\n",
       "    </tr>\n",
       "    <tr>\n",
       "      <th>sntis</th>\n",
       "      <td>0.973511</td>\n",
       "      <td>0.038596</td>\n",
       "      <td>0.009601</td>\n",
       "    </tr>\n",
       "    <tr>\n",
       "      <th>snpdis</th>\n",
       "      <td>4.145675</td>\n",
       "      <td>0.005577</td>\n",
       "      <td>0.718898</td>\n",
       "    </tr>\n",
       "    <tr>\n",
       "      <th>sndr</th>\n",
       "      <td>0.956906</td>\n",
       "      <td>0.010793</td>\n",
       "      <td>0.049524</td>\n",
       "    </tr>\n",
       "  </tbody>\n",
       "</table>\n",
       "</div>"
      ],
      "text/plain": [
       "               cql      ddqn     random\n",
       "dm       13.529500  0.692564   2.018646\n",
       "tis     212.538054  0.118592  49.146991\n",
       "pdis     17.251951  0.027881   0.673836\n",
       "dr        0.003097  0.011831   1.220868\n",
       "sntis     0.973511  0.038596   0.009601\n",
       "snpdis    4.145675  0.005577   0.718898\n",
       "sndr      0.956906  0.010793   0.049524"
      ]
     },
     "execution_count": 49,
     "metadata": {},
     "output_type": "execute_result"
    }
   ],
   "source": [
    "# squared-error (se) measures the estimation accuracy of OPE\n",
    "eval_metric_ope_df = ope.summarize_estimators_comparison(input_dict, metric=\"se\")\n",
    "eval_metric_ope_df"
   ]
  },
  {
   "cell_type": "markdown",
   "metadata": {},
   "source": [
    "For more advanced topics in OPE (e.g., cumulative distribution function estimation and distributionally robust estimation) and OPS, please refer to [examples/quickstart/rtb_synthetic_discrete_advanced.ipynb](https://github.com/negocia-inc/rtb_reinforcement_learing/blob/ope/examples/quickstart/rtb_synthetic_discrete_advanced.ipynb). \\\n",
    "For the examples in the continuous action space, please refer to [examples/quickstart/rtb_synthetic_continuous_basic.ipynb](https://github.com/negocia-inc/rtb_reinforcement_learing/blob/ope/examples/quickstart/rtb_synthetic_continuous_basic.ipynb)."
   ]
  },
  {
   "cell_type": "markdown",
   "metadata": {},
   "source": [
    "## Reference\n",
    "\n",
    "- Yuta Saito, Shunsuke Aihara, Megumi Matsutani, and Yusuke Narita. \\\n",
    "\"Open Bandit Dataset and Pipeline: Towards Realistic and Reproducible Off-Policy Evaluation.\", 2021.\n",
    "\n",
    "- Takuma Seno and Michita Imai. \\\n",
    "\"d3rlpy: An Offline Deep Reinforcement Library.\", 2021.\n",
    "\n",
    "- Sergey Levine, Aviral Kumar, George Tucker, and Justin Fu. \\\n",
    "\"Offline Reinforcement Learning: Tutorial, Review, and Perspectives on Open Problems.\" 2020.\n",
    "\n",
    "- Aviral Kumar, Aurick Zhou, George Tucker, and Sergey Levine. \\\n",
    "\"Conservative Q-Learning for Offline Reinforcement Learning.\", 2020.\n",
    "\n",
    "- Nathan Kallus and Masatoshi Uehara. \\\n",
    "\"Intrinsically Efficient, Stable, and Bounded Off-Policy Evaluation for Reinforcement Learning.\", 2019.\n",
    "\n",
    "- Hoang Le, Cameron Voloshin, and Yisong Yue. \\\n",
    "\"Batch Policy Learning under Constraints.\", 2019.\n",
    "\n",
    "- Di Wu, Xiujun Chen, Xun Yang, Hao Wang, Qing Tan, Xiaoxun Zhang, Jian Xu, and Kun Gai. \\\n",
    "\"Budget Constrained Bidding by Model-free Reinforcement Learning in Display Advertising.\", 2018.\n",
    "\n",
    "- Jun Zhao, Guang Qiu, Ziyu Guan, Wei Zhao, and Xiaofei He. \\\n",
    "\"Deep Reinforcement Learning for Sponsored Search Real-time Bidding.\", 2018.\n",
    "\n",
    "- Nan Jiang and Lihong Li. \\\n",
    "\"Doubly Robust Off-policy Value Evaluation for Reinforcement Learning.\", 2016.\n",
    "\n",
    "- Philip S. Thomas and Emma Brunskill. \\\n",
    "\"Data-Efficient Off-Policy Policy Evaluation for Reinforcement Learning.\", 2016.\n",
    "\n",
    "- Greg Brockman, Vicki Cheung, Ludwig Pettersson, Jonas Schneider, John Schulman, Jie Tang, and Wojciech Zaremba. \\\n",
    "\"OpenAI Gym.\", 2016.\n",
    "\n",
    "- Adith Swaminathan and Thorsten Joachims. \\\n",
    "\"The Self-Normalized Estimator for Counterfactual Learning.\", 2015.\n",
    "\n",
    "- Hado van Hasselt, Arthur Guez, and David Silver. \\\n",
    "\"Deep Reinforcement Learning with Double Q-learning.\", 2015.\n",
    "\n",
    "- Miroslav Dudík, Dumitru Erhan, John Langford, and Lihong Li. \\\n",
    "\"Doubly Robust Policy Evaluation and Optimization.\", 2014.\n",
    "\n",
    "- Alex Strehl, John Langford, Sham Kakade, and Lihong Li. \\\n",
    "\"Learning from Logged Implicit Exploration Data.\", 2010.\n",
    "\n",
    "- Alina Beygelzimer and John Langford. \\\n",
    "\"The Offset Tree for Learning with Partial Labels.\", 2009.\n",
    "\n",
    "- Doina Precup, Richard S. Sutton, and Satinder P. Singh. \\\n",
    "\"Eligibility Traces for Off-Policy Policy Evaluation.\", 2000."
   ]
  },
  {
   "cell_type": "code",
   "execution_count": null,
   "metadata": {},
   "outputs": [],
   "source": []
  }
 ],
 "metadata": {
  "kernelspec": {
   "display_name": "Python 3",
   "language": "python",
   "name": "python3"
  },
  "language_info": {
   "codemirror_mode": {
    "name": "ipython",
    "version": 3
   },
   "file_extension": ".py",
   "mimetype": "text/x-python",
   "name": "python",
   "nbconvert_exporter": "python",
   "pygments_lexer": "ipython3",
   "version": "3.8.5"
  }
 },
 "nbformat": 4,
 "nbformat_minor": 4
}
