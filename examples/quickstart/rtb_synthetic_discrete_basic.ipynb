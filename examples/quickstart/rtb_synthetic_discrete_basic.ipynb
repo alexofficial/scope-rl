{
 "cells": [
  {
   "cell_type": "markdown",
   "metadata": {},
   "source": [
    "# Quickstart Example with Synthetic RTB Simulation and Dataset (Discrete)\n",
    "This notebook provides an example of conducting **Off-policy Evaluation (OPE) and Offline Reinforcement Learning (Offline RL) with synthetic Real-Time Bidding (RTB) dataset**.\n",
    "\n",
    "Our example with Synthetic RTB Simualtion and Dataset contains the following 5 steps: \\\n",
    "0. (Setup Synthetic RTB Simulation Environment and Online RL)\n",
    "1. Synthetic Data Generation\n",
    "2. Offline Reinforcement Learning\n",
    "3. Off-Policy Evaluation and Evaluation of Offline RL methods\n",
    "4. Evaluation of OPE methods\n",
    "\n",
    "\\* This library uses [d3rlpy](https://github.com/takuseno/d3rlpy)'s algorithm implementations of online/offline rl policies and model-based evaluation.  \n",
    "\\* Also, our implementations of OPE are highly inspired by [Open Bandit Pipeline](https://github.com/st-tech/zr-obp)."
   ]
  },
  {
   "cell_type": "code",
   "execution_count": 1,
   "metadata": {},
   "outputs": [
    {
     "name": "stdout",
     "output_type": "stream",
     "text": [
      "The history saving thread hit an unexpected error (DatabaseError('database disk image is malformed')).History will not be written to the database.\n"
     ]
    }
   ],
   "source": [
    "# delete later\n",
    "%load_ext autoreload\n",
    "%autoreload 2"
   ]
  },
  {
   "cell_type": "code",
   "execution_count": 2,
   "metadata": {},
   "outputs": [],
   "source": [
    "# delete later\n",
    "import warnings\n",
    "warnings.simplefilter('ignore')"
   ]
  },
  {
   "cell_type": "code",
   "execution_count": 3,
   "metadata": {},
   "outputs": [],
   "source": [
    "# delete later\n",
    "import sys\n",
    "sys.path.append('../')\n",
    "sys.path.append('../../')"
   ]
  },
  {
   "cell_type": "code",
   "execution_count": 4,
   "metadata": {},
   "outputs": [],
   "source": [
    "# import offlinegym modules\n",
    "import offlinegym\n",
    "from rtbgym import RTBEnv, CustomizedRTBEnv\n",
    "from offlinegym.dataset import SyntheticDataset\n",
    "from offlinegym.policy import OnlineHead\n",
    "from offlinegym.ope.online import (\n",
    "    calc_on_policy_policy_value,\n",
    "    visualize_on_policy_policy_value,\n",
    ")\n",
    "\n",
    "# import d3rlpy algorithms\n",
    "from d3rlpy.algos import DiscreteRandomPolicy\n",
    "from d3rlpy.algos import RandomPolicy as ContinuousRandomPolicy\n",
    "from d3rlpy.preprocessing import MinMaxActionScaler\n",
    "\n",
    "# import from other libraries\n",
    "import torch\n",
    "from sklearn.linear_model import LogisticRegression\n",
    "from sklearn.model_selection import train_test_split"
   ]
  },
  {
   "cell_type": "code",
   "execution_count": 5,
   "metadata": {},
   "outputs": [],
   "source": [
    "import pickle\n",
    "from glob import glob\n",
    "from tqdm import tqdm\n",
    "\n",
    "import numpy as np\n",
    "import pandas as pd\n",
    "\n",
    "import matplotlib.pyplot as plt\n",
    "import seaborn as sns\n",
    "\n",
    "%matplotlib inline"
   ]
  },
  {
   "cell_type": "code",
   "execution_count": 6,
   "metadata": {},
   "outputs": [
    {
     "name": "stdout",
     "output_type": "stream",
     "text": [
      "0.0.0\n"
     ]
    }
   ],
   "source": [
    "# version\n",
    "print(offlinegym.__version__)"
   ]
  },
  {
   "cell_type": "code",
   "execution_count": 7,
   "metadata": {},
   "outputs": [],
   "source": [
    "# set random state\n",
    "random_state = 12345"
   ]
  },
  {
   "cell_type": "code",
   "execution_count": 8,
   "metadata": {},
   "outputs": [],
   "source": [
    "# log directory\n",
    "from pathlib import Path\n",
    "Path(\"logs/\").mkdir(exist_ok=True)"
   ]
  },
  {
   "cell_type": "markdown",
   "metadata": {},
   "source": [
    "## 0. (Setup Synthetic RTB Simulation Environment and Online RL)\n",
    "To begin with, we briefly describe how the RTB environment works for the preparation.\n",
    "\n",
    "#### RL setup for RTB\n",
    "In RTB, the objective of the RL agent is to maximize some KPIs (such as numbers of click or conversion) within a episode under the given budget constraints.  \n",
    "We often try to achieve this by adjusting bidding price function parameter $\\alpha$. By using $\\alpha$, we adjust bid price as follows.  \n",
    "$bid_{t,i} = \\alpha \\cdot r^{\\ast}$, \n",
    "where $r^{\\ast}$ denotes predicted or expected reward (KPIs).\n",
    "\n",
    "We often formulate this RTB problem as the following Constrained Markov Decision Process (CMDP):\n",
    "- `timestep`: One episode (a day or a week) consists of several timesteps (24 hours or seven days, for instance).\n",
    "- `state`: We observe statistical feedback from environment at each timestep, which include following informations.\n",
    "  - timestep\n",
    "  - remaining budget\n",
    "  - impression level features (budget comsuption rate, cost per mille of impressions, auction winning rate, reward) at previous timestep\n",
    "  - adjust rate (RL agent's decision making) at previous timestep\n",
    "- `action`: Agent chooses adjust rate parameter $\\alpha$ to maximize KPIs.\n",
    "- `reward`: Total number of clicks or conversions obtained during the timestep.\n",
    "- `constraints`: The pre-determined episodic budget should not be exceeded.\n",
    "\n",
    "For more about the environmental configuration , please refer to [examples/quickstart/rtb_synthetic_customize_env.ipynb](https://github.com/negocia-inc/rtb_reinforcement_learing/blob/ope/examples/quickstart/rtb_synthetic_customize_env.ipynb).\n",
    "\n",
    "Let's see how it works!"
   ]
  },
  {
   "cell_type": "code",
   "execution_count": 9,
   "metadata": {},
   "outputs": [],
   "source": [
    "# setup environment\n",
    "env = RTBEnv(random_state=random_state)"
   ]
  },
  {
   "cell_type": "code",
   "execution_count": 10,
   "metadata": {},
   "outputs": [],
   "source": [
    "# define random agent\n",
    "agent = OnlineHead(\n",
    "    ContinuousRandomPolicy(\n",
    "        action_scaler=MinMaxActionScaler(\n",
    "            minimum=0.1,  # minimum value that policy can take\n",
    "            maximum=10,  # maximum value that policy can take\n",
    "        )\n",
    "    )\n",
    ")"
   ]
  },
  {
   "cell_type": "code",
   "execution_count": 11,
   "metadata": {},
   "outputs": [],
   "source": [
    "# interact agent with environment\n",
    "# only 6 lines needed for RL interaction\n",
    "for episode in range(10):\n",
    "    obs = env.reset()\n",
    "    done = False\n",
    "\n",
    "    while not done:\n",
    "        action = agent.predict_online(obs)\n",
    "        obs, reward, done, info = env.step(action)"
   ]
  },
  {
   "cell_type": "code",
   "execution_count": 12,
   "metadata": {},
   "outputs": [
    {
     "name": "stdout",
     "output_type": "stream",
     "text": [
      "['timestep', 'remaining_budget', 'budget_consumption_rate', 'cost_per_mille_of_impression', 'winning_rate', 'reward', 'adjust_rate']\n",
      "(7,)\n"
     ]
    }
   ],
   "source": [
    "# state contains the following statistical feedback from environment\n",
    "print(env.obs_keys)\n",
    "print(obs.shape)"
   ]
  },
  {
   "cell_type": "code",
   "execution_count": 13,
   "metadata": {},
   "outputs": [
    {
     "data": {
      "image/png": "[encoded data removed]",
      "text/plain": [
       "<Figure size 432x288 with 2 Axes>"
      ]
     },
     "metadata": {
      "needs_background": "light"
     },
     "output_type": "display_data"
    }
   ],
   "source": [
    "# let's visualize the transition of remaing budget and cumulative reward\n",
    "# our goal is to gain a policy (i.e., agent) which maximize the cumulative reward under budget constraints using RL.  \n",
    "obs = env.reset()\n",
    "done = False\n",
    "remaining_budget = [obs[1]]\n",
    "cumulative_reward = [0]\n",
    "\n",
    "while not done:\n",
    "    action = agent.predict_online(obs)\n",
    "    obs, reward, done, info = env.step(action)\n",
    "    remaining_budget.append(obs[1])\n",
    "    cumulative_reward.append(cumulative_reward[-1] + reward)\n",
    "\n",
    "# plot\n",
    "fig = plt.figure()\n",
    "ax1 = fig.add_subplot(111)\n",
    "ax1.plot(remaining_budget[:-1], label='remaining budget')\n",
    "ax2 = ax1.twinx()\n",
    "ax2.plot(cumulative_reward[:-1], label='cumulative reward', color='tab:orange')\n",
    "ax1.set_xlabel('timestep')\n",
    "ax1.set_ylabel('remainig budget')\n",
    "ax1.set_ylim(0, env.initial_budget + 100)\n",
    "ax2.set_ylabel('reward (coversion)')\n",
    "ax1.legend(loc='upper left')\n",
    "ax2.legend(loc='upper right')\n",
    "plt.show()"
   ]
  },
  {
   "cell_type": "markdown",
   "metadata": {},
   "source": [
    "We see that the random policy soon run out the budget.  \n",
    "Our goal is to derive a policy that controls the adjust rate (i.e., action) to maximize the reward within the given budget constraints."
   ]
  },
  {
   "cell_type": "markdown",
   "metadata": {},
   "source": [
    "#### Customization of bidding setup in RTB Env\n",
    "Here, we describe how the decision makers customize their own RTB environment.  \n",
    "Specifically, they can setup their own action space and bid price calculation rules by defining the following modules.\n",
    "- `reward_predictor` in Bidder class  \n",
    "    We use predicted rewards to calculate bid price.  \n",
    "        bid price = adjust rate * predicted reward ( * constant)\n",
    "    If None, we use ground-truth reward instead of predicted reward.  \n",
    "\n",
    "- `scaler` in Bidder class\n",
    "    Scaler defines constant in the bid price calculation.  \n",
    "        bid price = adjust rate * predicted reward ( * constant)\n",
    "        constant = scaler * standard_bid_price\n",
    "    where standard_bid_price indicates the average of standard_bid_price  \n",
    "    (bid price which has approximately 50% impression probability) over all ads.\n",
    "\n",
    "- `action_space` for agent  \n",
    "    We transform continual adjust rate space $[0, \\infty)$ into agent action space $[0.1, 10]$.  \n",
    "    Both discrete and continuous actions are acceptable.  \n",
    "    (We can tune multiplication of adjust rate using scaler.)\n",
    "    \n",
    "The arguments are given as follows:\n",
    "- `original_env`: Original RTB Environment.\n",
    "- `reward_predictor`: A machine learning model to predict the reward to determine the bidding price.\n",
    "- `scaler`: Scaling factor (constant value) used for bid price determination. (`None` for the auto-fitting)\n",
    "- `action_min`: Minimum value of adjust rate.\n",
    "- `action_max`: Maximum value of adjust rate.\n",
    "- `action_type`: Action type of the RL agent, which is either \"discrete\" or \"continuous\".\n",
    "- `n_actions`: Number of \"discrete\" actions.\n",
    "- `action_meaning`: Mapping function of agent action index to the actual \"discrete\" action to take."
   ]
  },
  {
   "cell_type": "code",
   "execution_count": 14,
   "metadata": {},
   "outputs": [],
   "source": [
    "# now, let's customize the environment and discretize action space\n",
    "env = CustomizedRTBEnv(\n",
    "    original_env=env,\n",
    "    reward_predictor=LogisticRegression(),\n",
    "    action_type=\"discrete\",\n",
    ")"
   ]
  },
  {
   "cell_type": "code",
   "execution_count": 15,
   "metadata": {},
   "outputs": [],
   "source": [
    "agent = OnlineHead(DiscreteRandomPolicy())\n",
    "agent.build_with_env(env)  # set discrete action space"
   ]
  },
  {
   "cell_type": "code",
   "execution_count": 16,
   "metadata": {},
   "outputs": [],
   "source": [
    "# interact agent with environment\n",
    "for episode in range(10):\n",
    "    obs = env.reset()\n",
    "    done = False\n",
    "\n",
    "    while not done:\n",
    "        action = agent.predict_online(obs)\n",
    "        obs, reward, done, info = env.step(action)"
   ]
  },
  {
   "cell_type": "code",
   "execution_count": 17,
   "metadata": {},
   "outputs": [
    {
     "name": "stdout",
     "output_type": "stream",
     "text": [
      "Discrete(10)\n",
      "[ 0.1         0.16681005  0.27825594  0.46415888  0.77426368  1.29154967\n",
      "  2.15443469  3.59381366  5.9948425  10.        ]\n"
     ]
    }
   ],
   "source": [
    "print(env.action_space)\n",
    "print(env.action_meaning)"
   ]
  },
  {
   "cell_type": "markdown",
   "metadata": {},
   "source": [
    "For more about the customization of environmental configuration , please refer to [examples/quickstart/rtb_synthetic_customize_env.ipynb](https://github.com/negocia-inc/rtb_reinforcement_learing/blob/ope/examples/quickstart/rtb_synthetic_customize_env.ipynb)."
   ]
  },
  {
   "cell_type": "markdown",
   "metadata": {},
   "source": [
    "#### Online RL and comparison of the policies\n",
    "We now learn an online RL policy and compare it to random policy, using on-policy policy estimation."
   ]
  },
  {
   "cell_type": "code",
   "execution_count": 18,
   "metadata": {},
   "outputs": [],
   "source": [
    "from d3rlpy.algos import DoubleDQN\n",
    "from d3rlpy.models.encoders import VectorEncoderFactory\n",
    "from d3rlpy.models.q_functions import MeanQFunctionFactory\n",
    "from d3rlpy.online.buffers import ReplayBuffer\n",
    "from d3rlpy.online.explorers import LinearDecayEpsilonGreedy\n",
    "\n",
    "# model\n",
    "ddqn = DoubleDQN(\n",
    "    encoder_factory=VectorEncoderFactory(hidden_units=[30, 30]),\n",
    "    q_func_factory=MeanQFunctionFactory(),\n",
    "    target_update_interval=100,\n",
    "    use_gpu=torch.cuda.is_available(),\n",
    ")\n",
    "# replay buffer\n",
    "buffer = ReplayBuffer(\n",
    "    maxlen=10000,\n",
    "    env=env,\n",
    ")\n",
    "# explorers\n",
    "explorer = LinearDecayEpsilonGreedy(\n",
    "    start_epsilon=1.0,\n",
    "    end_epsilon=0.1,\n",
    "    duration=1000,\n",
    ")"
   ]
  },
  {
   "cell_type": "code",
   "execution_count": 19,
   "metadata": {},
   "outputs": [
    {
     "name": "stdout",
     "output_type": "stream",
     "text": [
      "2022-05-25 14:16.28 [info     ] Directory is created at d3rlpy_logs/DoubleDQN_online_20220525141628\n",
      "2022-05-25 14:16.28 [debug    ] Building model...\n",
      "2022-05-25 14:16.28 [debug    ] Model has been built.\n",
      "2022-05-25 14:16.28 [info     ] Parameters are saved to d3rlpy_logs/DoubleDQN_online_20220525141628/params.json params={'action_scaler': None, 'batch_size': 32, 'encoder_factory': {'type': 'vector', 'params': {'hidden_units': [30, 30], 'activation': 'relu', 'use_batch_norm': False, 'dropout_rate': None, 'use_dense': False}}, 'gamma': 0.99, 'generated_maxlen': 100000, 'learning_rate': 6.25e-05, 'n_critics': 1, 'n_frames': 1, 'n_steps': 1, 'optim_factory': {'optim_cls': 'Adam', 'betas': (0.9, 0.999), 'eps': 1e-08, 'weight_decay': 0, 'amsgrad': False}, 'q_func_factory': {'type': 'mean', 'params': {'share_encoder': False}}, 'real_ratio': 1.0, 'reward_scaler': None, 'scaler': None, 'target_update_interval': 100, 'use_gpu': None, 'algorithm': 'DoubleDQN', 'observation_shape': (7,), 'action_size': 10}\n"
     ]
    },
    {
     "data": {
      "application/vnd.jupyter.widget-view+json": {
       "model_id": "e57d7a13a8ac48fd8e858dac99b576e9",
       "version_major": 2,
       "version_minor": 0
      },
      "text/plain": [
       "  0%|          | 0/100000 [00:00<?, ?it/s]"
      ]
     },
     "metadata": {},
     "output_type": "display_data"
    },
    {
     "name": "stdout",
     "output_type": "stream",
     "text": [
      "2022-05-25 14:16.30 [info     ] Model parameters are saved to d3rlpy_logs/DoubleDQN_online_20220525141628/model_1000.pt\n",
      "2022-05-25 14:16.31 [info     ] DoubleDQN_online_20220525141628: epoch=1 step=1000 epoch=1 metrics={'time_inference': 0.0003273577690124512, 'time_environment_step': 0.0006488890647888183, 'time_step': 0.0023853349685668945, 'rollout_return': 10.190140845070422, 'time_sample_batch': 7.797495655584484e-05, 'time_algorithm_update': 0.001318635960276149, 'loss': 85.73346900644076, 'evaluation': 0.0} step=1000\n",
      "2022-05-25 14:16.33 [info     ] Model parameters are saved to d3rlpy_logs/DoubleDQN_online_20220525141628/model_2000.pt\n",
      "2022-05-25 14:16.33 [info     ] DoubleDQN_online_20220525141628: epoch=2 step=2000 epoch=2 metrics={'time_inference': 0.00031052374839782716, 'time_environment_step': 0.0006250369548797607, 'time_sample_batch': 7.619690895080567e-05, 'time_algorithm_update': 0.0012648534774780274, 'loss': 32.124428754329685, 'time_step': 0.0023334572315216063, 'rollout_return': 2.035211267605634, 'evaluation': 0.0} step=2000\n",
      "2022-05-25 14:16.35 [info     ] Model parameters are saved to d3rlpy_logs/DoubleDQN_online_20220525141628/model_3000.pt\n",
      "2022-05-25 14:16.35 [info     ] DoubleDQN_online_20220525141628: epoch=3 step=3000 epoch=3 metrics={'time_inference': 0.00028881216049194336, 'time_environment_step': 0.0005758595466613769, 'time_sample_batch': 6.998586654663085e-05, 'time_algorithm_update': 0.0011692461967468262, 'loss': 33.10307279682159, 'time_step': 0.0021569366455078125, 'rollout_return': 1.5774647887323943, 'evaluation': 0.0} step=3000\n",
      "2022-05-25 14:16.37 [info     ] Model parameters are saved to d3rlpy_logs/DoubleDQN_online_20220525141628/model_4000.pt\n",
      "2022-05-25 14:16.38 [info     ] DoubleDQN_online_20220525141628: epoch=4 step=4000 epoch=4 metrics={'time_inference': 0.000286160945892334, 'time_environment_step': 0.0005751101970672607, 'time_sample_batch': 7.066178321838379e-05, 'time_algorithm_update': 0.00116404128074646, 'loss': 28.74306266641617, 'time_step': 0.002148770809173584, 'rollout_return': 2.0492957746478875, 'evaluation': 0.9} step=4000\n",
      "2022-05-25 14:16.40 [info     ] Model parameters are saved to d3rlpy_logs/DoubleDQN_online_20220525141628/model_5000.pt\n",
      "2022-05-25 14:16.40 [info     ] DoubleDQN_online_20220525141628: epoch=5 step=5000 epoch=5 metrics={'time_inference': 0.0003144838809967041, 'time_environment_step': 0.0006178281307220459, 'time_sample_batch': 7.735872268676758e-05, 'time_algorithm_update': 0.0012751154899597167, 'loss': 25.193354818820954, 'time_step': 0.0023421027660369873, 'rollout_return': 1.8873239436619718, 'evaluation': 0.0} step=5000\n",
      "2022-05-25 14:16.42 [info     ] Model parameters are saved to d3rlpy_logs/DoubleDQN_online_20220525141628/model_6000.pt\n",
      "2022-05-25 14:16.42 [info     ] DoubleDQN_online_20220525141628: epoch=6 step=6000 epoch=6 metrics={'time_inference': 0.00029129600524902346, 'time_environment_step': 0.0005814299583435058, 'time_sample_batch': 7.261157035827637e-05, 'time_algorithm_update': 0.0011862695217132568, 'loss': 20.301927320957184, 'time_step': 0.0021847498416900633, 'rollout_return': 1.8591549295774648, 'evaluation': 0.0} step=6000\n",
      "2022-05-25 14:16.45 [info     ] Model parameters are saved to d3rlpy_logs/DoubleDQN_online_20220525141628/model_7000.pt\n",
      "2022-05-25 14:16.45 [info     ] DoubleDQN_online_20220525141628: epoch=7 step=7000 epoch=7 metrics={'time_inference': 0.0002876455783843994, 'time_environment_step': 0.0005726242065429688, 'time_sample_batch': 7.152056694030761e-05, 'time_algorithm_update': 0.0011689467430114745, 'loss': 15.08970212507248, 'time_step': 0.0021534175872802734, 'rollout_return': 3.1267605633802815, 'evaluation': 0.0} step=7000\n",
      "2022-05-25 14:16.47 [info     ] Model parameters are saved to d3rlpy_logs/DoubleDQN_online_20220525141628/model_8000.pt\n",
      "2022-05-25 14:16.47 [info     ] DoubleDQN_online_20220525141628: epoch=8 step=8000 epoch=8 metrics={'time_inference': 0.00029337096214294436, 'time_environment_step': 0.0005825402736663819, 'time_sample_batch': 7.320404052734375e-05, 'time_algorithm_update': 0.0011911489963531495, 'loss': 11.020582166194917, 'time_step': 0.002193608045578003, 'rollout_return': 2.6971830985915495, 'evaluation': 1.9} step=8000\n",
      "2022-05-25 14:16.49 [info     ] Model parameters are saved to d3rlpy_logs/DoubleDQN_online_20220525141628/model_9000.pt\n",
      "2022-05-25 14:16.49 [info     ] DoubleDQN_online_20220525141628: epoch=9 step=9000 epoch=9 metrics={'time_inference': 0.00029187917709350586, 'time_environment_step': 0.0005979890823364258, 'time_sample_batch': 7.45854377746582e-05, 'time_algorithm_update': 0.0011918294429779054, 'loss': 8.114036372065543, 'time_step': 0.0022103171348571778, 'rollout_return': 4.436619718309859, 'evaluation': 8.6} step=9000\n",
      "2022-05-25 14:16.51 [info     ] Model parameters are saved to d3rlpy_logs/DoubleDQN_online_20220525141628/model_10000.pt\n",
      "2022-05-25 14:16.51 [info     ] DoubleDQN_online_20220525141628: epoch=10 step=10000 epoch=10 metrics={'time_inference': 0.00028510570526123045, 'time_environment_step': 0.0005705561637878417, 'time_sample_batch': 7.209229469299317e-05, 'time_algorithm_update': 0.0011665151119232178, 'loss': 5.079659709095955, 'time_step': 0.002146519899368286, 'rollout_return': 8.253521126760564, 'evaluation': 14.7} step=10000\n",
      "2022-05-25 14:16.54 [info     ] Model parameters are saved to d3rlpy_logs/DoubleDQN_online_20220525141628/model_11000.pt\n",
      "2022-05-25 14:16.54 [info     ] DoubleDQN_online_20220525141628: epoch=11 step=11000 epoch=11 metrics={'time_inference': 0.0002863645553588867, 'time_environment_step': 0.0005702028274536132, 'time_sample_batch': 7.194304466247558e-05, 'time_algorithm_update': 0.0011619553565979004, 'loss': 2.9263512303829193, 'time_step': 0.0021439430713653565, 'rollout_return': 12.232394366197184, 'evaluation': 14.2} step=11000\n",
      "2022-05-25 14:16.56 [info     ] Model parameters are saved to d3rlpy_logs/DoubleDQN_online_20220525141628/model_12000.pt\n",
      "2022-05-25 14:16.56 [info     ] DoubleDQN_online_20220525141628: epoch=12 step=12000 epoch=12 metrics={'time_inference': 0.00029237627983093263, 'time_environment_step': 0.000584061861038208, 'time_sample_batch': 7.422256469726563e-05, 'time_algorithm_update': 0.0011905977725982667, 'loss': 2.5621899057626725, 'time_step': 0.0021965372562408447, 'rollout_return': 13.67605633802817, 'evaluation': 15.0} step=12000\n",
      "2022-05-25 14:16.58 [info     ] Model parameters are saved to d3rlpy_logs/DoubleDQN_online_20220525141628/model_13000.pt\n",
      "2022-05-25 14:16.58 [info     ] DoubleDQN_online_20220525141628: epoch=13 step=13000 epoch=13 metrics={'time_inference': 0.0002899410724639893, 'time_environment_step': 0.0005785019397735596, 'time_sample_batch': 7.284402847290038e-05, 'time_algorithm_update': 0.0011887714862823487, 'loss': 2.5845082784891127, 'time_step': 0.002184555768966675, 'rollout_return': 13.605633802816902, 'evaluation': 17.0} step=13000\n",
      "2022-05-25 14:17.01 [info     ] Model parameters are saved to d3rlpy_logs/DoubleDQN_online_20220525141628/model_14000.pt\n",
      "2022-05-25 14:17.01 [info     ] DoubleDQN_online_20220525141628: epoch=14 step=14000 epoch=14 metrics={'time_inference': 0.0002848718166351318, 'time_environment_step': 0.0005682651996612548, 'time_sample_batch': 7.193517684936524e-05, 'time_algorithm_update': 0.0011598408222198487, 'loss': 2.3696571843326093, 'time_step': 0.002138110876083374, 'rollout_return': 14.147887323943662, 'evaluation': 16.9} step=14000\n",
      "2022-05-25 14:17.03 [info     ] Model parameters are saved to d3rlpy_logs/DoubleDQN_online_20220525141628/model_15000.pt\n",
      "2022-05-25 14:17.03 [info     ] DoubleDQN_online_20220525141628: epoch=15 step=15000 epoch=15 metrics={'time_inference': 0.0003022115230560303, 'time_environment_step': 0.0006085395812988281, 'time_sample_batch': 7.793021202087402e-05, 'time_algorithm_update': 0.0012353441715240478, 'loss': 2.566833677351475, 'time_step': 0.0022814247608184813, 'rollout_return': 11.21830985915493, 'evaluation': 15.6} step=15000\n",
      "2022-05-25 14:17.05 [info     ] Model parameters are saved to d3rlpy_logs/DoubleDQN_online_20220525141628/model_16000.pt\n",
      "2022-05-25 14:17.05 [info     ] DoubleDQN_online_20220525141628: epoch=16 step=16000 epoch=16 metrics={'time_inference': 0.00030660510063171384, 'time_environment_step': 0.0006102340221405029, 'time_sample_batch': 7.788395881652832e-05, 'time_algorithm_update': 0.0012500901222229003, 'loss': 1.8996081797480584, 'time_step': 0.0023030695915222167, 'rollout_return': 14.80281690140845, 'evaluation': 14.1} step=16000\n",
      "2022-05-25 14:17.08 [info     ] Model parameters are saved to d3rlpy_logs/DoubleDQN_online_20220525141628/model_17000.pt\n",
      "2022-05-25 14:17.08 [info     ] DoubleDQN_online_20220525141628: epoch=17 step=17000 epoch=17 metrics={'time_inference': 0.00029477763175964354, 'time_environment_step': 0.0005889530181884766, 'time_sample_batch': 7.531476020812988e-05, 'time_algorithm_update': 0.0011954526901245116, 'loss': 1.8817998755574226, 'time_step': 0.0022107374668121336, 'rollout_return': 14.352112676056338, 'evaluation': 15.0} step=17000\n",
      "2022-05-25 14:17.10 [info     ] Model parameters are saved to d3rlpy_logs/DoubleDQN_online_20220525141628/model_18000.pt\n",
      "2022-05-25 14:17.10 [info     ] DoubleDQN_online_20220525141628: epoch=18 step=18000 epoch=18 metrics={'time_inference': 0.000294475793838501, 'time_environment_step': 0.0005876953601837158, 'time_sample_batch': 7.483720779418945e-05, 'time_algorithm_update': 0.0011955993175506593, 'loss': 1.6211750925183297, 'time_step': 0.0022086677551269532, 'rollout_return': 13.584507042253522, 'evaluation': 17.9} step=18000\n",
      "2022-05-25 14:17.12 [info     ] Model parameters are saved to d3rlpy_logs/DoubleDQN_online_20220525141628/model_19000.pt\n",
      "2022-05-25 14:17.12 [info     ] DoubleDQN_online_20220525141628: epoch=19 step=19000 epoch=19 metrics={'time_inference': 0.0002810213565826416, 'time_environment_step': 0.0005588183403015136, 'time_sample_batch': 7.073140144348144e-05, 'time_algorithm_update': 0.0011414813995361329, 'loss': 1.42910290274024, 'time_step': 0.0021045544147491454, 'rollout_return': 14.140845070422536, 'evaluation': 13.1} step=19000\n",
      "2022-05-25 14:17.15 [info     ] Model parameters are saved to d3rlpy_logs/DoubleDQN_online_20220525141628/model_20000.pt\n",
      "2022-05-25 14:17.15 [info     ] DoubleDQN_online_20220525141628: epoch=20 step=20000 epoch=20 metrics={'time_inference': 0.0002827908992767334, 'time_environment_step': 0.0005622513294219971, 'time_sample_batch': 7.08625316619873e-05, 'time_algorithm_update': 0.0011507222652435303, 'loss': 1.245514389425516, 'time_step': 0.0021194424629211424, 'rollout_return': 13.859154929577464, 'evaluation': 16.0} step=20000\n",
      "2022-05-25 14:17.17 [info     ] Model parameters are saved to d3rlpy_logs/DoubleDQN_online_20220525141628/model_21000.pt\n",
      "2022-05-25 14:17.17 [info     ] DoubleDQN_online_20220525141628: epoch=21 step=21000 epoch=21 metrics={'time_inference': 0.00028440356254577637, 'time_environment_step': 0.0005622038841247559, 'time_sample_batch': 7.111859321594238e-05, 'time_algorithm_update': 0.0011484360694885255, 'loss': 1.1650318029522895, 'time_step': 0.002119269132614136, 'rollout_return': 13.82394366197183, 'evaluation': 16.7} step=21000\n",
      "2022-05-25 14:17.19 [info     ] Model parameters are saved to d3rlpy_logs/DoubleDQN_online_20220525141628/model_22000.pt\n",
      "2022-05-25 14:17.19 [info     ] DoubleDQN_online_20220525141628: epoch=22 step=22000 epoch=22 metrics={'time_inference': 0.00028513360023498533, 'time_environment_step': 0.0005647189617156983, 'time_sample_batch': 7.129859924316406e-05, 'time_algorithm_update': 0.0011526775360107423, 'loss': 1.1423763437271117, 'time_step': 0.002126840829849243, 'rollout_return': 13.28169014084507, 'evaluation': 14.5} step=22000\n",
      "2022-05-25 14:17.21 [info     ] Model parameters are saved to d3rlpy_logs/DoubleDQN_online_20220525141628/model_23000.pt\n",
      "2022-05-25 14:17.21 [info     ] DoubleDQN_online_20220525141628: epoch=23 step=23000 epoch=23 metrics={'time_inference': 0.00028450393676757814, 'time_environment_step': 0.0005640506744384766, 'time_sample_batch': 7.124972343444825e-05, 'time_algorithm_update': 0.0011506645679473877, 'loss': 1.204648432403803, 'time_step': 0.002123292922973633, 'rollout_return': 13.077464788732394, 'evaluation': 16.4} step=23000\n",
      "2022-05-25 14:17.24 [info     ] Model parameters are saved to d3rlpy_logs/DoubleDQN_online_20220525141628/model_24000.pt\n",
      "2022-05-25 14:17.24 [info     ] DoubleDQN_online_20220525141628: epoch=24 step=24000 epoch=24 metrics={'time_inference': 0.0002960643768310547, 'time_environment_step': 0.0005935144424438477, 'time_sample_batch': 7.571840286254883e-05, 'time_algorithm_update': 0.001217029571533203, 'loss': 1.0931919957697391, 'time_step': 0.0022382516860961913, 'rollout_return': 14.028169014084508, 'evaluation': 13.7} step=24000\n",
      "2022-05-25 14:17.26 [info     ] Model parameters are saved to d3rlpy_logs/DoubleDQN_online_20220525141628/model_25000.pt\n",
      "2022-05-25 14:17.26 [info     ] DoubleDQN_online_20220525141628: epoch=25 step=25000 epoch=25 metrics={'time_inference': 0.0002835392951965332, 'time_environment_step': 0.0005647377967834472, 'time_sample_batch': 7.155346870422364e-05, 'time_algorithm_update': 0.001149559736251831, 'loss': 1.0855733216702939, 'time_step': 0.002122211694717407, 'rollout_return': 13.816901408450704, 'evaluation': 14.4} step=25000\n",
      "2022-05-25 14:17.28 [info     ] Model parameters are saved to d3rlpy_logs/DoubleDQN_online_20220525141628/model_26000.pt\n",
      "2022-05-25 14:17.28 [info     ] DoubleDQN_online_20220525141628: epoch=26 step=26000 epoch=26 metrics={'time_inference': 0.0002890186309814453, 'time_environment_step': 0.0005784068107604981, 'time_sample_batch': 7.299685478210449e-05, 'time_algorithm_update': 0.0011774227619171143, 'loss': 1.0662834865152835, 'time_step': 0.002172154426574707, 'rollout_return': 14.070422535211268, 'evaluation': 13.7} step=26000\n",
      "2022-05-25 14:17.30 [info     ] Model parameters are saved to d3rlpy_logs/DoubleDQN_online_20220525141628/model_27000.pt\n",
      "2022-05-25 14:17.30 [info     ] DoubleDQN_online_20220525141628: epoch=27 step=27000 epoch=27 metrics={'time_inference': 0.00028134202957153323, 'time_environment_step': 0.0005621011257171631, 'time_sample_batch': 7.083487510681153e-05, 'time_algorithm_update': 0.001144010066986084, 'loss': 1.101811925381422, 'time_step': 0.002111234188079834, 'rollout_return': 14.014084507042254, 'evaluation': 14.6} step=27000\n",
      "2022-05-25 14:17.33 [info     ] Model parameters are saved to d3rlpy_logs/DoubleDQN_online_20220525141628/model_28000.pt\n",
      "2022-05-25 14:17.33 [info     ] DoubleDQN_online_20220525141628: epoch=28 step=28000 epoch=28 metrics={'time_inference': 0.0002805066108703613, 'time_environment_step': 0.0005600519180297851, 'time_sample_batch': 7.043194770812989e-05, 'time_algorithm_update': 0.0011386399269104003, 'loss': 1.0655270712375642, 'time_step': 0.002102099895477295, 'rollout_return': 14.028169014084508, 'evaluation': 7.3} step=28000\n",
      "2022-05-25 14:17.35 [info     ] Model parameters are saved to d3rlpy_logs/DoubleDQN_online_20220525141628/model_29000.pt\n",
      "2022-05-25 14:17.35 [info     ] DoubleDQN_online_20220525141628: epoch=29 step=29000 epoch=29 metrics={'time_inference': 0.00028146958351135253, 'time_environment_step': 0.0005617668628692627, 'time_sample_batch': 7.116389274597168e-05, 'time_algorithm_update': 0.0011476385593414307, 'loss': 1.0337276403307916, 'time_step': 0.00211494517326355, 'rollout_return': 14.619718309859154, 'evaluation': 16.3} step=29000\n",
      "2022-05-25 14:17.37 [info     ] Model parameters are saved to d3rlpy_logs/DoubleDQN_online_20220525141628/model_30000.pt\n",
      "2022-05-25 14:17.37 [info     ] DoubleDQN_online_20220525141628: epoch=30 step=30000 epoch=30 metrics={'time_inference': 0.00029008293151855467, 'time_environment_step': 0.0005786383152008057, 'time_sample_batch': 7.302212715148925e-05, 'time_algorithm_update': 0.001179133892059326, 'loss': 1.0305123206079005, 'time_step': 0.002175339698791504, 'rollout_return': 14.67605633802817, 'evaluation': 15.0} step=30000\n",
      "2022-05-25 14:17.39 [info     ] Model parameters are saved to d3rlpy_logs/DoubleDQN_online_20220525141628/model_31000.pt\n",
      "2022-05-25 14:17.39 [info     ] DoubleDQN_online_20220525141628: epoch=31 step=31000 epoch=31 metrics={'time_inference': 0.00028316259384155275, 'time_environment_step': 0.000563610315322876, 'time_sample_batch': 7.081842422485351e-05, 'time_algorithm_update': 0.001151128053665161, 'loss': 1.0329032745063305, 'time_step': 0.0021218297481536866, 'rollout_return': 14.415492957746478, 'evaluation': 17.0} step=31000\n",
      "2022-05-25 14:17.42 [info     ] Model parameters are saved to d3rlpy_logs/DoubleDQN_online_20220525141628/model_32000.pt\n",
      "2022-05-25 14:17.42 [info     ] DoubleDQN_online_20220525141628: epoch=32 step=32000 epoch=32 metrics={'time_inference': 0.0002829740047454834, 'time_environment_step': 0.0005636627674102783, 'time_sample_batch': 7.125163078308105e-05, 'time_algorithm_update': 0.0011515934467315673, 'loss': 1.019062110453844, 'time_step': 0.0021222293376922607, 'rollout_return': 14.140845070422536, 'evaluation': 15.3} step=32000\n",
      "2022-05-25 14:17.44 [info     ] Model parameters are saved to d3rlpy_logs/DoubleDQN_online_20220525141628/model_33000.pt\n",
      "2022-05-25 14:17.44 [info     ] DoubleDQN_online_20220525141628: epoch=33 step=33000 epoch=33 metrics={'time_inference': 0.00028082656860351564, 'time_environment_step': 0.0005592751502990723, 'time_sample_batch': 7.057094573974609e-05, 'time_algorithm_update': 0.001141017198562622, 'loss': 0.9722319313883782, 'time_step': 0.0021043078899383545, 'rollout_return': 14.859154929577464, 'evaluation': 12.8} step=33000\n",
      "2022-05-25 14:17.46 [info     ] Model parameters are saved to d3rlpy_logs/DoubleDQN_online_20220525141628/model_34000.pt\n",
      "2022-05-25 14:17.46 [info     ] DoubleDQN_online_20220525141628: epoch=34 step=34000 epoch=34 metrics={'time_inference': 0.0002849102020263672, 'time_environment_step': 0.0005674142837524414, 'time_sample_batch': 7.111358642578125e-05, 'time_algorithm_update': 0.0011610429286956787, 'loss': 1.0469780803024769, 'time_step': 0.002138036012649536, 'rollout_return': 14.161971830985916, 'evaluation': 12.9} step=34000\n",
      "2022-05-25 14:17.48 [info     ] Model parameters are saved to d3rlpy_logs/DoubleDQN_online_20220525141628/model_35000.pt\n",
      "2022-05-25 14:17.48 [info     ] DoubleDQN_online_20220525141628: epoch=35 step=35000 epoch=35 metrics={'time_inference': 0.0002829084396362305, 'time_environment_step': 0.000565593957901001, 'time_sample_batch': 7.155323028564453e-05, 'time_algorithm_update': 0.0011523070335388184, 'loss': 0.9675728865861892, 'time_step': 0.0021260571479797363, 'rollout_return': 15.056338028169014, 'evaluation': 16.1} step=35000\n",
      "2022-05-25 14:17.51 [info     ] Model parameters are saved to d3rlpy_logs/DoubleDQN_online_20220525141628/model_36000.pt\n",
      "2022-05-25 14:17.51 [info     ] DoubleDQN_online_20220525141628: epoch=36 step=36000 epoch=36 metrics={'time_inference': 0.0003008403778076172, 'time_environment_step': 0.0005997979640960694, 'time_sample_batch': 7.600188255310058e-05, 'time_algorithm_update': 0.0012250187397003173, 'loss': 0.9964128289520741, 'time_step': 0.0022584857940673828, 'rollout_return': 14.45774647887324, 'evaluation': 15.5} step=36000\n",
      "2022-05-25 14:17.53 [info     ] Model parameters are saved to d3rlpy_logs/DoubleDQN_online_20220525141628/model_37000.pt\n",
      "2022-05-25 14:17.53 [info     ] DoubleDQN_online_20220525141628: epoch=37 step=37000 epoch=37 metrics={'time_inference': 0.0002867100238800049, 'time_environment_step': 0.0005762834548950196, 'time_sample_batch': 7.250475883483887e-05, 'time_algorithm_update': 0.001175191879272461, 'loss': 1.0446616071164607, 'time_step': 0.0021650028228759766, 'rollout_return': 14.859154929577464, 'evaluation': 16.9} step=37000\n",
      "2022-05-25 14:17.55 [info     ] Model parameters are saved to d3rlpy_logs/DoubleDQN_online_20220525141628/model_38000.pt\n",
      "2022-05-25 14:17.55 [info     ] DoubleDQN_online_20220525141628: epoch=38 step=38000 epoch=38 metrics={'time_inference': 0.0002856142520904541, 'time_environment_step': 0.0005715100765228271, 'time_sample_batch': 7.163596153259278e-05, 'time_algorithm_update': 0.0011616754531860352, 'loss': 1.0026341260373592, 'time_step': 0.002143990516662598, 'rollout_return': 14.5, 'evaluation': 9.7} step=38000\n",
      "2022-05-25 14:17.57 [info     ] Model parameters are saved to d3rlpy_logs/DoubleDQN_online_20220525141628/model_39000.pt\n",
      "2022-05-25 14:17.58 [info     ] DoubleDQN_online_20220525141628: epoch=39 step=39000 epoch=39 metrics={'time_inference': 0.0002842161655426025, 'time_environment_step': 0.0005753552913665772, 'time_sample_batch': 7.104301452636719e-05, 'time_algorithm_update': 0.001156926155090332, 'loss': 0.9974041372239589, 'time_step': 0.0021406049728393555, 'rollout_return': 14.535211267605634, 'evaluation': 16.3} step=39000\n",
      "2022-05-25 14:18.00 [info     ] Model parameters are saved to d3rlpy_logs/DoubleDQN_online_20220525141628/model_40000.pt\n",
      "2022-05-25 14:18.00 [info     ] DoubleDQN_online_20220525141628: epoch=40 step=40000 epoch=40 metrics={'time_inference': 0.0003108706474304199, 'time_environment_step': 0.0006227138042449951, 'time_sample_batch': 7.84003734588623e-05, 'time_algorithm_update': 0.0012744760513305664, 'loss': 1.0059643059372902, 'time_step': 0.0023458774089813233, 'rollout_return': 14.514084507042254, 'evaluation': 18.1} step=40000\n",
      "2022-05-25 14:18.02 [info     ] Model parameters are saved to d3rlpy_logs/DoubleDQN_online_20220525141628/model_41000.pt\n",
      "2022-05-25 14:18.02 [info     ] DoubleDQN_online_20220525141628: epoch=41 step=41000 epoch=41 metrics={'time_inference': 0.00028222966194152834, 'time_environment_step': 0.00055961012840271, 'time_sample_batch': 6.97016716003418e-05, 'time_algorithm_update': 0.0011466929912567138, 'loss': 1.0052359680235385, 'time_step': 0.0021109495162963867, 'rollout_return': 14.577464788732394, 'evaluation': 14.1} step=41000\n",
      "2022-05-25 14:18.04 [info     ] Model parameters are saved to d3rlpy_logs/DoubleDQN_online_20220525141628/model_42000.pt\n",
      "2022-05-25 14:18.04 [info     ] DoubleDQN_online_20220525141628: epoch=42 step=42000 epoch=42 metrics={'time_inference': 0.00028323793411254885, 'time_environment_step': 0.0005626113414764404, 'time_sample_batch': 7.03270435333252e-05, 'time_algorithm_update': 0.001148606777191162, 'loss': 1.0127436976730824, 'time_step': 0.002117558479309082, 'rollout_return': 14.732394366197184, 'evaluation': 15.0} step=42000\n",
      "2022-05-25 14:18.07 [info     ] Model parameters are saved to d3rlpy_logs/DoubleDQN_online_20220525141628/model_43000.pt\n",
      "2022-05-25 14:18.07 [info     ] DoubleDQN_online_20220525141628: epoch=43 step=43000 epoch=43 metrics={'time_inference': 0.0002930428981781006, 'time_environment_step': 0.0005861692428588867, 'time_sample_batch': 7.39130973815918e-05, 'time_algorithm_update': 0.0011951758861541747, 'loss': 0.9807987912297249, 'time_step': 0.0022032074928283693, 'rollout_return': 15.0, 'evaluation': 13.7} step=43000\n",
      "2022-05-25 14:18.09 [info     ] Model parameters are saved to d3rlpy_logs/DoubleDQN_online_20220525141628/model_44000.pt\n",
      "2022-05-25 14:18.09 [info     ] DoubleDQN_online_20220525141628: epoch=44 step=44000 epoch=44 metrics={'time_inference': 0.0002877495288848877, 'time_environment_step': 0.0005798842906951904, 'time_sample_batch': 7.299304008483886e-05, 'time_algorithm_update': 0.0011857979297637939, 'loss': 0.9105192545950412, 'time_step': 0.0021807870864868164, 'rollout_return': 15.485915492957746, 'evaluation': 14.6} step=44000\n",
      "2022-05-25 14:18.11 [info     ] Model parameters are saved to d3rlpy_logs/DoubleDQN_online_20220525141628/model_45000.pt\n",
      "2022-05-25 14:18.11 [info     ] DoubleDQN_online_20220525141628: epoch=45 step=45000 epoch=45 metrics={'time_inference': 0.00029640412330627443, 'time_environment_step': 0.0006003017425537109, 'time_sample_batch': 7.515120506286621e-05, 'time_algorithm_update': 0.0012291622161865233, 'loss': 0.9761480078399182, 'time_step': 0.0022576348781585694, 'rollout_return': 14.753521126760564, 'evaluation': 15.7} step=45000\n",
      "2022-05-25 14:18.14 [info     ] Model parameters are saved to d3rlpy_logs/DoubleDQN_online_20220525141628/model_46000.pt\n",
      "2022-05-25 14:18.14 [info     ] DoubleDQN_online_20220525141628: epoch=46 step=46000 epoch=46 metrics={'time_inference': 0.00028949737548828125, 'time_environment_step': 0.000577552080154419, 'time_sample_batch': 7.227659225463867e-05, 'time_algorithm_update': 0.0011757755279541017, 'loss': 0.9372675579935312, 'time_step': 0.002169340133666992, 'rollout_return': 14.267605633802816, 'evaluation': 13.4} step=46000\n",
      "2022-05-25 14:18.16 [info     ] Model parameters are saved to d3rlpy_logs/DoubleDQN_online_20220525141628/model_47000.pt\n",
      "2022-05-25 14:18.16 [info     ] DoubleDQN_online_20220525141628: epoch=47 step=47000 epoch=47 metrics={'time_inference': 0.0002910497188568115, 'time_environment_step': 0.0005846033096313476, 'time_sample_batch': 7.295560836791992e-05, 'time_algorithm_update': 0.0011877751350402833, 'loss': 0.893087500244379, 'time_step': 0.0021913793087005615, 'rollout_return': 15.070422535211268, 'evaluation': 13.8} step=47000\n",
      "2022-05-25 14:18.18 [info     ] Model parameters are saved to d3rlpy_logs/DoubleDQN_online_20220525141628/model_48000.pt\n",
      "2022-05-25 14:18.18 [info     ] DoubleDQN_online_20220525141628: epoch=48 step=48000 epoch=48 metrics={'time_inference': 0.0002852981090545654, 'time_environment_step': 0.0005682148933410645, 'time_sample_batch': 7.144927978515625e-05, 'time_algorithm_update': 0.0011592717170715331, 'loss': 0.9483750126063824, 'time_step': 0.002137363910675049, 'rollout_return': 14.67605633802817, 'evaluation': 14.2} step=48000\n",
      "2022-05-25 14:18.21 [info     ] Model parameters are saved to d3rlpy_logs/DoubleDQN_online_20220525141628/model_49000.pt\n",
      "2022-05-25 14:18.21 [info     ] DoubleDQN_online_20220525141628: epoch=49 step=49000 epoch=49 metrics={'time_inference': 0.00029223299026489256, 'time_environment_step': 0.0005828709602355957, 'time_sample_batch': 7.299065589904785e-05, 'time_algorithm_update': 0.0011897075176239013, 'loss': 0.9344236427247524, 'time_step': 0.0021927683353424074, 'rollout_return': 15.183098591549296, 'evaluation': 7.5} step=49000\n",
      "2022-05-25 14:18.23 [info     ] Model parameters are saved to d3rlpy_logs/DoubleDQN_online_20220525141628/model_50000.pt\n",
      "2022-05-25 14:18.23 [info     ] DoubleDQN_online_20220525141628: epoch=50 step=50000 epoch=50 metrics={'time_inference': 0.00029819846153259275, 'time_environment_step': 0.0005982456207275391, 'time_sample_batch': 7.529878616333008e-05, 'time_algorithm_update': 0.0012174654006958008, 'loss': 0.8942536441087723, 'time_step': 0.002247188091278076, 'rollout_return': 14.47887323943662, 'evaluation': 15.8} step=50000\n",
      "2022-05-25 14:18.25 [info     ] Model parameters are saved to d3rlpy_logs/DoubleDQN_online_20220525141628/model_51000.pt\n",
      "2022-05-25 14:18.25 [info     ] DoubleDQN_online_20220525141628: epoch=51 step=51000 epoch=51 metrics={'time_inference': 0.00029752063751220704, 'time_environment_step': 0.0005900046825408936, 'time_sample_batch': 7.39421844482422e-05, 'time_algorithm_update': 0.0012013096809387208, 'loss': 0.9227737190127373, 'time_step': 0.0022189855575561524, 'rollout_return': 14.964788732394366, 'evaluation': 16.3} step=51000\n",
      "2022-05-25 14:18.28 [info     ] Model parameters are saved to d3rlpy_logs/DoubleDQN_online_20220525141628/model_52000.pt\n",
      "2022-05-25 14:18.28 [info     ] DoubleDQN_online_20220525141628: epoch=52 step=52000 epoch=52 metrics={'time_inference': 0.0002918369770050049, 'time_environment_step': 0.000581770658493042, 'time_sample_batch': 7.34415054321289e-05, 'time_algorithm_update': 0.0011883494853973389, 'loss': 0.8892126696705818, 'time_step': 0.0021901926994323732, 'rollout_return': 14.683098591549296, 'evaluation': 16.4} step=52000\n",
      "2022-05-25 14:18.30 [info     ] Model parameters are saved to d3rlpy_logs/DoubleDQN_online_20220525141628/model_53000.pt\n",
      "2022-05-25 14:18.30 [info     ] DoubleDQN_online_20220525141628: epoch=53 step=53000 epoch=53 metrics={'time_inference': 0.00029831981658935545, 'time_environment_step': 0.0005961854457855225, 'time_sample_batch': 7.50434398651123e-05, 'time_algorithm_update': 0.0012182145118713379, 'loss': 0.9069766977876424, 'time_step': 0.002243958473205566, 'rollout_return': 14.985915492957746, 'evaluation': 12.0} step=53000\n",
      "2022-05-25 14:18.32 [info     ] Model parameters are saved to d3rlpy_logs/DoubleDQN_online_20220525141628/model_54000.pt\n",
      "2022-05-25 14:18.32 [info     ] DoubleDQN_online_20220525141628: epoch=54 step=54000 epoch=54 metrics={'time_inference': 0.00030023765563964844, 'time_environment_step': 0.0006024901866912842, 'time_sample_batch': 7.575154304504395e-05, 'time_algorithm_update': 0.0012308781147003173, 'loss': 0.9186240873634816, 'time_step': 0.0022660815715789795, 'rollout_return': 14.830985915492958, 'evaluation': 16.5} step=54000\n",
      "2022-05-25 14:18.35 [info     ] Model parameters are saved to d3rlpy_logs/DoubleDQN_online_20220525141628/model_55000.pt\n",
      "2022-05-25 14:18.35 [info     ] DoubleDQN_online_20220525141628: epoch=55 step=55000 epoch=55 metrics={'time_inference': 0.000290349006652832, 'time_environment_step': 0.0005765109062194824, 'time_sample_batch': 7.304787635803222e-05, 'time_algorithm_update': 0.0011750235557556152, 'loss': 0.8778439915329218, 'time_step': 0.002169240713119507, 'rollout_return': 15.647887323943662, 'evaluation': 17.3} step=55000\n",
      "2022-05-25 14:18.37 [info     ] Model parameters are saved to d3rlpy_logs/DoubleDQN_online_20220525141628/model_56000.pt\n",
      "2022-05-25 14:18.37 [info     ] DoubleDQN_online_20220525141628: epoch=56 step=56000 epoch=56 metrics={'time_inference': 0.00028342533111572264, 'time_environment_step': 0.0005659687519073486, 'time_sample_batch': 7.098770141601563e-05, 'time_algorithm_update': 0.0011520726680755615, 'loss': 0.9137777214795351, 'time_step': 0.0021254494190216067, 'rollout_return': 15.443661971830986, 'evaluation': 16.0} step=56000\n",
      "2022-05-25 14:18.39 [info     ] Model parameters are saved to d3rlpy_logs/DoubleDQN_online_20220525141628/model_57000.pt\n",
      "2022-05-25 14:18.39 [info     ] DoubleDQN_online_20220525141628: epoch=57 step=57000 epoch=57 metrics={'time_inference': 0.00029224419593811034, 'time_environment_step': 0.0005821940898895263, 'time_sample_batch': 7.353568077087402e-05, 'time_algorithm_update': 0.0012288744449615479, 'loss': 0.8783408400714398, 'time_step': 0.0022315361499786377, 'rollout_return': 14.971830985915492, 'evaluation': 16.1} step=57000\n",
      "2022-05-25 14:18.42 [info     ] Model parameters are saved to d3rlpy_logs/DoubleDQN_online_20220525141628/model_58000.pt\n",
      "2022-05-25 14:18.42 [info     ] DoubleDQN_online_20220525141628: epoch=58 step=58000 epoch=58 metrics={'time_inference': 0.00028810000419616697, 'time_environment_step': 0.0005739386081695557, 'time_sample_batch': 7.268691062927246e-05, 'time_algorithm_update': 0.0011754546165466308, 'loss': 0.8927400539219379, 'time_step': 0.0021642191410064697, 'rollout_return': 15.507042253521126, 'evaluation': 15.8} step=58000\n",
      "2022-05-25 14:18.44 [info     ] Model parameters are saved to d3rlpy_logs/DoubleDQN_online_20220525141628/model_59000.pt\n",
      "2022-05-25 14:18.44 [info     ] DoubleDQN_online_20220525141628: epoch=59 step=59000 epoch=59 metrics={'time_inference': 0.0002956421375274658, 'time_environment_step': 0.0005906095504760742, 'time_sample_batch': 7.416248321533203e-05, 'time_algorithm_update': 0.0012062687873840331, 'loss': 0.8570080922544002, 'time_step': 0.002222221612930298, 'rollout_return': 15.119718309859154, 'evaluation': 15.3} step=59000\n",
      "2022-05-25 14:18.46 [info     ] Model parameters are saved to d3rlpy_logs/DoubleDQN_online_20220525141628/model_60000.pt\n",
      "2022-05-25 14:18.46 [info     ] DoubleDQN_online_20220525141628: epoch=60 step=60000 epoch=60 metrics={'time_inference': 0.00030837464332580564, 'time_environment_step': 0.0006178886890411377, 'time_sample_batch': 7.836103439331055e-05, 'time_algorithm_update': 0.001258352279663086, 'loss': 0.8595663707852363, 'time_step': 0.0023209819793701173, 'rollout_return': 15.211267605633802, 'evaluation': 15.6} step=60000\n",
      "2022-05-25 14:18.49 [info     ] Model parameters are saved to d3rlpy_logs/DoubleDQN_online_20220525141628/model_61000.pt\n",
      "2022-05-25 14:18.49 [info     ] DoubleDQN_online_20220525141628: epoch=61 step=61000 epoch=61 metrics={'time_inference': 0.0002895824909210205, 'time_environment_step': 0.000575009822845459, 'time_sample_batch': 7.254648208618164e-05, 'time_algorithm_update': 0.0011790046691894532, 'loss': 0.8609107729494572, 'time_step': 0.00216955041885376, 'rollout_return': 14.54225352112676, 'evaluation': 16.3} step=61000\n",
      "2022-05-25 14:18.51 [info     ] Model parameters are saved to d3rlpy_logs/DoubleDQN_online_20220525141628/model_62000.pt\n",
      "2022-05-25 14:18.51 [info     ] DoubleDQN_online_20220525141628: epoch=62 step=62000 epoch=62 metrics={'time_inference': 0.0002890341281890869, 'time_environment_step': 0.0005759155750274658, 'time_sample_batch': 7.216262817382813e-05, 'time_algorithm_update': 0.0011743109226226808, 'loss': 0.8971666497588158, 'time_step': 0.002165479898452759, 'rollout_return': 14.654929577464788, 'evaluation': 15.7} step=62000\n",
      "2022-05-25 14:18.53 [info     ] Model parameters are saved to d3rlpy_logs/DoubleDQN_online_20220525141628/model_63000.pt\n",
      "2022-05-25 14:18.53 [info     ] DoubleDQN_online_20220525141628: epoch=63 step=63000 epoch=63 metrics={'time_inference': 0.00028494882583618165, 'time_environment_step': 0.0005687730312347412, 'time_sample_batch': 7.082223892211914e-05, 'time_algorithm_update': 0.0011620116233825683, 'loss': 0.8783379634022712, 'time_step': 0.002140098571777344, 'rollout_return': 15.373239436619718, 'evaluation': 15.6} step=63000\n",
      "2022-05-25 14:18.55 [info     ] Model parameters are saved to d3rlpy_logs/DoubleDQN_online_20220525141628/model_64000.pt\n",
      "2022-05-25 14:18.55 [info     ] DoubleDQN_online_20220525141628: epoch=64 step=64000 epoch=64 metrics={'time_inference': 0.00028785419464111327, 'time_environment_step': 0.0005760393142700195, 'time_sample_batch': 7.26780891418457e-05, 'time_algorithm_update': 0.0011777968406677245, 'loss': 0.8659106557965278, 'time_step': 0.0021683621406555177, 'rollout_return': 14.809859154929578, 'evaluation': 16.1} step=64000\n",
      "2022-05-25 14:18.58 [info     ] Model parameters are saved to d3rlpy_logs/DoubleDQN_online_20220525141628/model_65000.pt\n",
      "2022-05-25 14:18.58 [info     ] DoubleDQN_online_20220525141628: epoch=65 step=65000 epoch=65 metrics={'time_inference': 0.00030378007888793944, 'time_environment_step': 0.0006037716865539551, 'time_sample_batch': 7.554435729980469e-05, 'time_algorithm_update': 0.001235156536102295, 'loss': 0.8225317241251469, 'time_step': 0.0022751889228820803, 'rollout_return': 15.126760563380282, 'evaluation': 16.5} step=65000\n",
      "2022-05-25 14:19.00 [info     ] Model parameters are saved to d3rlpy_logs/DoubleDQN_online_20220525141628/model_66000.pt\n",
      "2022-05-25 14:19.00 [info     ] DoubleDQN_online_20220525141628: epoch=66 step=66000 epoch=66 metrics={'time_inference': 0.0002934155464172363, 'time_environment_step': 0.0005883827209472657, 'time_sample_batch': 7.376456260681153e-05, 'time_algorithm_update': 0.0012018253803253174, 'loss': 0.8217295296788215, 'time_step': 0.00221253776550293, 'rollout_return': 15.014084507042254, 'evaluation': 14.1} step=66000\n",
      "2022-05-25 14:19.03 [info     ] Model parameters are saved to d3rlpy_logs/DoubleDQN_online_20220525141628/model_67000.pt\n",
      "2022-05-25 14:19.03 [info     ] DoubleDQN_online_20220525141628: epoch=67 step=67000 epoch=67 metrics={'time_inference': 0.00030674147605895996, 'time_environment_step': 0.0006131167411804199, 'time_sample_batch': 7.72995948791504e-05, 'time_algorithm_update': 0.001252650260925293, 'loss': 0.7905987648218871, 'time_step': 0.0023076906204223635, 'rollout_return': 15.387323943661972, 'evaluation': 15.1} step=67000\n",
      "2022-05-25 14:19.05 [info     ] Model parameters are saved to d3rlpy_logs/DoubleDQN_online_20220525141628/model_68000.pt\n",
      "2022-05-25 14:19.05 [info     ] DoubleDQN_online_20220525141628: epoch=68 step=68000 epoch=68 metrics={'time_inference': 0.0002885842323303223, 'time_environment_step': 0.0005735194683074951, 'time_sample_batch': 7.214951515197754e-05, 'time_algorithm_update': 0.0011752779483795166, 'loss': 0.8095945965349675, 'time_step': 0.0021640949249267577, 'rollout_return': 14.971830985915492, 'evaluation': 14.7} step=68000\n",
      "2022-05-25 14:19.07 [info     ] Model parameters are saved to d3rlpy_logs/DoubleDQN_online_20220525141628/model_69000.pt\n",
      "2022-05-25 14:19.07 [info     ] DoubleDQN_online_20220525141628: epoch=69 step=69000 epoch=69 metrics={'time_inference': 0.00030056166648864745, 'time_environment_step': 0.0006029493808746338, 'time_sample_batch': 7.641768455505371e-05, 'time_algorithm_update': 0.0012348039150238037, 'loss': 0.8142854570001363, 'time_step': 0.0022717816829681396, 'rollout_return': 15.161971830985916, 'evaluation': 17.7} step=69000\n",
      "2022-05-25 14:19.10 [info     ] Model parameters are saved to d3rlpy_logs/DoubleDQN_online_20220525141628/model_70000.pt\n",
      "2022-05-25 14:19.10 [info     ] DoubleDQN_online_20220525141628: epoch=70 step=70000 epoch=70 metrics={'time_inference': 0.00029082202911376954, 'time_environment_step': 0.0005804734230041503, 'time_sample_batch': 7.223105430603027e-05, 'time_algorithm_update': 0.0011812431812286378, 'loss': 0.8510815687477589, 'time_step': 0.0021789896488189696, 'rollout_return': 15.077464788732394, 'evaluation': 5.7} step=70000\n",
      "2022-05-25 14:19.12 [info     ] Model parameters are saved to d3rlpy_logs/DoubleDQN_online_20220525141628/model_71000.pt\n",
      "2022-05-25 14:19.12 [info     ] DoubleDQN_online_20220525141628: epoch=71 step=71000 epoch=71 metrics={'time_inference': 0.0002933180332183838, 'time_environment_step': 0.0005872218608856201, 'time_sample_batch': 7.344841957092285e-05, 'time_algorithm_update': 0.0011973650455474854, 'loss': 0.8527708867788315, 'time_step': 0.0022063076496124266, 'rollout_return': 14.992957746478874, 'evaluation': 15.6} step=71000\n",
      "2022-05-25 14:19.14 [info     ] Model parameters are saved to d3rlpy_logs/DoubleDQN_online_20220525141628/model_72000.pt\n",
      "2022-05-25 14:19.14 [info     ] DoubleDQN_online_20220525141628: epoch=72 step=72000 epoch=72 metrics={'time_inference': 0.0002940332889556885, 'time_environment_step': 0.0005886619091033936, 'time_sample_batch': 7.340264320373535e-05, 'time_algorithm_update': 0.0012147939205169678, 'loss': 0.819997079372406, 'time_step': 0.002226966142654419, 'rollout_return': 15.359154929577464, 'evaluation': 16.4} step=72000\n",
      "2022-05-25 14:19.17 [info     ] Model parameters are saved to d3rlpy_logs/DoubleDQN_online_20220525141628/model_73000.pt\n",
      "2022-05-25 14:19.17 [info     ] DoubleDQN_online_20220525141628: epoch=73 step=73000 epoch=73 metrics={'time_inference': 0.00030047273635864255, 'time_environment_step': 0.0006026172637939453, 'time_sample_batch': 7.600069046020507e-05, 'time_algorithm_update': 0.0012312099933624269, 'loss': 0.8121407850682736, 'time_step': 0.0022667393684387208, 'rollout_return': 14.485915492957746, 'evaluation': 0.0} step=73000\n",
      "2022-05-25 14:19.19 [info     ] Model parameters are saved to d3rlpy_logs/DoubleDQN_online_20220525141628/model_74000.pt\n",
      "2022-05-25 14:19.19 [info     ] DoubleDQN_online_20220525141628: epoch=74 step=74000 epoch=74 metrics={'time_inference': 0.00030395007133483885, 'time_environment_step': 0.0006055459976196289, 'time_sample_batch': 7.634711265563965e-05, 'time_algorithm_update': 0.001238776922225952, 'loss': 0.8210776093006134, 'time_step': 0.002281695604324341, 'rollout_return': 14.67605633802817, 'evaluation': 14.2} step=74000\n",
      "2022-05-25 14:19.22 [info     ] Model parameters are saved to d3rlpy_logs/DoubleDQN_online_20220525141628/model_75000.pt\n",
      "2022-05-25 14:19.22 [info     ] DoubleDQN_online_20220525141628: epoch=75 step=75000 epoch=75 metrics={'time_inference': 0.0003050327301025391, 'time_environment_step': 0.0006146576404571534, 'time_sample_batch': 7.705402374267578e-05, 'time_algorithm_update': 0.0012507047653198243, 'loss': 0.7875088949799538, 'time_step': 0.0023052523136138916, 'rollout_return': 15.443661971830986, 'evaluation': 15.0} step=75000\n",
      "2022-05-25 14:19.24 [info     ] Model parameters are saved to d3rlpy_logs/DoubleDQN_online_20220525141628/model_76000.pt\n",
      "2022-05-25 14:19.24 [info     ] DoubleDQN_online_20220525141628: epoch=76 step=76000 epoch=76 metrics={'time_inference': 0.00029340386390686035, 'time_environment_step': 0.0005843498706817626, 'time_sample_batch': 7.27546215057373e-05, 'time_algorithm_update': 0.0011962161064147949, 'loss': 0.8137818521261215, 'time_step': 0.0022016165256500244, 'rollout_return': 15.471830985915492, 'evaluation': 14.9} step=76000\n",
      "2022-05-25 14:19.26 [info     ] Model parameters are saved to d3rlpy_logs/DoubleDQN_online_20220525141628/model_77000.pt\n",
      "2022-05-25 14:19.26 [info     ] DoubleDQN_online_20220525141628: epoch=77 step=77000 epoch=77 metrics={'time_inference': 0.0003059384822845459, 'time_environment_step': 0.0006069869995117187, 'time_sample_batch': 7.65085220336914e-05, 'time_algorithm_update': 0.0012616631984710693, 'loss': 0.7727953588068486, 'time_step': 0.0023085079193115236, 'rollout_return': 15.190140845070422, 'evaluation': 15.2} step=77000\n",
      "2022-05-25 14:19.29 [info     ] Model parameters are saved to d3rlpy_logs/DoubleDQN_online_20220525141628/model_78000.pt\n",
      "2022-05-25 14:19.29 [info     ] DoubleDQN_online_20220525141628: epoch=78 step=78000 epoch=78 metrics={'time_inference': 0.0003017172813415527, 'time_environment_step': 0.0006032605171203613, 'time_sample_batch': 7.604193687438964e-05, 'time_algorithm_update': 0.0012320430278778076, 'loss': 0.780406456887722, 'time_step': 0.002269794225692749, 'rollout_return': 15.225352112676056, 'evaluation': 15.0} step=78000\n",
      "2022-05-25 14:19.31 [info     ] Model parameters are saved to d3rlpy_logs/DoubleDQN_online_20220525141628/model_79000.pt\n",
      "2022-05-25 14:19.31 [info     ] DoubleDQN_online_20220525141628: epoch=79 step=79000 epoch=79 metrics={'time_inference': 0.00028997182846069336, 'time_environment_step': 0.0005766551494598388, 'time_sample_batch': 7.172226905822754e-05, 'time_algorithm_update': 0.0011847238540649413, 'loss': 0.8145458020567894, 'time_step': 0.002177198648452759, 'rollout_return': 14.690140845070422, 'evaluation': 15.2} step=79000\n",
      "2022-05-25 14:19.33 [info     ] Model parameters are saved to d3rlpy_logs/DoubleDQN_online_20220525141628/model_80000.pt\n",
      "2022-05-25 14:19.33 [info     ] DoubleDQN_online_20220525141628: epoch=80 step=80000 epoch=80 metrics={'time_inference': 0.00029776573181152345, 'time_environment_step': 0.0005943942070007325, 'time_sample_batch': 7.408070564270019e-05, 'time_algorithm_update': 0.001215956211090088, 'loss': 0.7956541626155377, 'time_step': 0.002237753391265869, 'rollout_return': 15.028169014084508, 'evaluation': 17.7} step=80000\n",
      "2022-05-25 14:19.36 [info     ] Model parameters are saved to d3rlpy_logs/DoubleDQN_online_20220525141628/model_81000.pt\n",
      "2022-05-25 14:19.36 [info     ] DoubleDQN_online_20220525141628: epoch=81 step=81000 epoch=81 metrics={'time_inference': 0.00029211711883544923, 'time_environment_step': 0.0005834076404571533, 'time_sample_batch': 7.332062721252441e-05, 'time_algorithm_update': 0.0011958520412445068, 'loss': 0.801484176337719, 'time_step': 0.002199303388595581, 'rollout_return': 14.711267605633802, 'evaluation': 13.4} step=81000\n",
      "2022-05-25 14:19.38 [info     ] Model parameters are saved to d3rlpy_logs/DoubleDQN_online_20220525141628/model_82000.pt\n",
      "2022-05-25 14:19.38 [info     ] DoubleDQN_online_20220525141628: epoch=82 step=82000 epoch=82 metrics={'time_inference': 0.00030509066581726075, 'time_environment_step': 0.000611466646194458, 'time_sample_batch': 7.730627059936523e-05, 'time_algorithm_update': 0.001256078004837036, 'loss': 0.82107807508111, 'time_step': 0.0023078227043151853, 'rollout_return': 15.04225352112676, 'evaluation': 12.0} step=82000\n",
      "2022-05-25 14:19.40 [info     ] Model parameters are saved to d3rlpy_logs/DoubleDQN_online_20220525141628/model_83000.pt\n",
      "2022-05-25 14:19.40 [info     ] DoubleDQN_online_20220525141628: epoch=83 step=83000 epoch=83 metrics={'time_inference': 0.0002922203540802002, 'time_environment_step': 0.0005856037139892578, 'time_sample_batch': 7.32874870300293e-05, 'time_algorithm_update': 0.0011993656158447265, 'loss': 0.8464517413526773, 'time_step': 0.002205244779586792, 'rollout_return': 15.028169014084508, 'evaluation': 18.4} step=83000\n",
      "2022-05-25 14:19.43 [info     ] Model parameters are saved to d3rlpy_logs/DoubleDQN_online_20220525141628/model_84000.pt\n",
      "2022-05-25 14:19.43 [info     ] DoubleDQN_online_20220525141628: epoch=84 step=84000 epoch=84 metrics={'time_inference': 0.0002988030910491943, 'time_environment_step': 0.0005923888683319092, 'time_sample_batch': 7.458400726318359e-05, 'time_algorithm_update': 0.001218881130218506, 'loss': 0.8299515113681555, 'time_step': 0.00224060583114624, 'rollout_return': 15.309859154929578, 'evaluation': 1.5} step=84000\n",
      "2022-05-25 14:19.45 [info     ] Model parameters are saved to d3rlpy_logs/DoubleDQN_online_20220525141628/model_85000.pt\n",
      "2022-05-25 14:19.45 [info     ] DoubleDQN_online_20220525141628: epoch=85 step=85000 epoch=85 metrics={'time_inference': 0.0002933478355407715, 'time_environment_step': 0.0005831606388092041, 'time_sample_batch': 7.292914390563965e-05, 'time_algorithm_update': 0.0011970901489257813, 'loss': 0.8098022394180298, 'time_step': 0.0022015006542205813, 'rollout_return': 14.267605633802816, 'evaluation': 14.2} step=85000\n",
      "2022-05-25 14:19.47 [info     ] Model parameters are saved to d3rlpy_logs/DoubleDQN_online_20220525141628/model_86000.pt\n",
      "2022-05-25 14:19.47 [info     ] DoubleDQN_online_20220525141628: epoch=86 step=86000 epoch=86 metrics={'time_inference': 0.00029463887214660646, 'time_environment_step': 0.0005834360122680664, 'time_sample_batch': 7.326078414916993e-05, 'time_algorithm_update': 0.0011977415084838867, 'loss': 0.8754179245531559, 'time_step': 0.002203738451004028, 'rollout_return': 14.105633802816902, 'evaluation': 14.6} step=86000\n",
      "2022-05-25 14:19.50 [info     ] Model parameters are saved to d3rlpy_logs/DoubleDQN_online_20220525141628/model_87000.pt\n",
      "2022-05-25 14:19.50 [info     ] DoubleDQN_online_20220525141628: epoch=87 step=87000 epoch=87 metrics={'time_inference': 0.0003008325099945068, 'time_environment_step': 0.0005990133285522461, 'time_sample_batch': 7.486653327941894e-05, 'time_algorithm_update': 0.00122753643989563, 'loss': 0.8993597141802311, 'time_step': 0.002258782148361206, 'rollout_return': 14.67605633802817, 'evaluation': 16.1} step=87000\n",
      "2022-05-25 14:19.52 [info     ] Model parameters are saved to d3rlpy_logs/DoubleDQN_online_20220525141628/model_88000.pt\n",
      "2022-05-25 14:19.52 [info     ] DoubleDQN_online_20220525141628: epoch=88 step=88000 epoch=88 metrics={'time_inference': 0.0002879939079284668, 'time_environment_step': 0.000575937032699585, 'time_sample_batch': 7.187151908874512e-05, 'time_algorithm_update': 0.001180846929550171, 'loss': 0.87134888240695, 'time_step': 0.0021702675819396974, 'rollout_return': 15.147887323943662, 'evaluation': 16.2} step=88000\n",
      "2022-05-25 14:19.55 [info     ] Model parameters are saved to d3rlpy_logs/DoubleDQN_online_20220525141628/model_89000.pt\n",
      "2022-05-25 14:19.55 [info     ] DoubleDQN_online_20220525141628: epoch=89 step=89000 epoch=89 metrics={'time_inference': 0.0003063335418701172, 'time_environment_step': 0.0006101913452148437, 'time_sample_batch': 7.598257064819336e-05, 'time_algorithm_update': 0.0012489855289459229, 'loss': 0.8501952855587006, 'time_step': 0.00229862117767334, 'rollout_return': 15.338028169014084, 'evaluation': 14.0} step=89000\n",
      "2022-05-25 14:19.57 [info     ] Model parameters are saved to d3rlpy_logs/DoubleDQN_online_20220525141628/model_90000.pt\n",
      "2022-05-25 14:19.57 [info     ] DoubleDQN_online_20220525141628: epoch=90 step=90000 epoch=90 metrics={'time_inference': 0.00029987001419067385, 'time_environment_step': 0.0005944805145263671, 'time_sample_batch': 7.419371604919433e-05, 'time_algorithm_update': 0.0012250592708587646, 'loss': 0.8290228590071201, 'time_step': 0.00224994158744812, 'rollout_return': 14.922535211267606, 'evaluation': 16.7} step=90000\n",
      "2022-05-25 14:19.59 [info     ] Model parameters are saved to d3rlpy_logs/DoubleDQN_online_20220525141628/model_91000.pt\n",
      "2022-05-25 14:19.59 [info     ] DoubleDQN_online_20220525141628: epoch=91 step=91000 epoch=91 metrics={'time_inference': 0.00030415177345275877, 'time_environment_step': 0.0006057538986206054, 'time_sample_batch': 7.698726654052735e-05, 'time_algorithm_update': 0.0012382400035858155, 'loss': 0.8505321243256331, 'time_step': 0.0022817556858062745, 'rollout_return': 15.02112676056338, 'evaluation': 15.4} step=91000\n",
      "2022-05-25 14:20.02 [info     ] Model parameters are saved to d3rlpy_logs/DoubleDQN_online_20220525141628/model_92000.pt\n",
      "2022-05-25 14:20.02 [info     ] DoubleDQN_online_20220525141628: epoch=92 step=92000 epoch=92 metrics={'time_inference': 0.00030043411254882814, 'time_environment_step': 0.0006000535488128662, 'time_sample_batch': 7.580995559692383e-05, 'time_algorithm_update': 0.0012379148006439209, 'loss': 0.8235662239938975, 'time_step': 0.002270951509475708, 'rollout_return': 15.894366197183098, 'evaluation': 13.1} step=92000\n",
      "2022-05-25 14:20.04 [info     ] Model parameters are saved to d3rlpy_logs/DoubleDQN_online_20220525141628/model_93000.pt\n",
      "2022-05-25 14:20.04 [info     ] DoubleDQN_online_20220525141628: epoch=93 step=93000 epoch=93 metrics={'time_inference': 0.0003031306266784668, 'time_environment_step': 0.0006030406951904296, 'time_sample_batch': 7.6279878616333e-05, 'time_algorithm_update': 0.001238969087600708, 'loss': 0.8379788918197155, 'time_step': 0.0022782835960388184, 'rollout_return': 15.30281690140845, 'evaluation': 14.4} step=93000\n",
      "2022-05-25 14:20.06 [info     ] Model parameters are saved to d3rlpy_logs/DoubleDQN_online_20220525141628/model_94000.pt\n",
      "2022-05-25 14:20.07 [info     ] DoubleDQN_online_20220525141628: epoch=94 step=94000 epoch=94 metrics={'time_inference': 0.00030166172981262206, 'time_environment_step': 0.0006006381511688232, 'time_sample_batch': 7.651400566101074e-05, 'time_algorithm_update': 0.0012368981838226318, 'loss': 0.8283912204653024, 'time_step': 0.0022718589305877686, 'rollout_return': 15.535211267605634, 'evaluation': 15.9} step=94000\n",
      "2022-05-25 14:20.09 [info     ] Model parameters are saved to d3rlpy_logs/DoubleDQN_online_20220525141628/model_95000.pt\n",
      "2022-05-25 14:20.09 [info     ] DoubleDQN_online_20220525141628: epoch=95 step=95000 epoch=95 metrics={'time_inference': 0.00029889965057373045, 'time_environment_step': 0.0005992252826690674, 'time_sample_batch': 7.534170150756835e-05, 'time_algorithm_update': 0.0012231476306915282, 'loss': 0.805957159012556, 'time_step': 0.002252518653869629, 'rollout_return': 15.359154929577464, 'evaluation': 14.8} step=95000\n",
      "2022-05-25 14:20.11 [info     ] Model parameters are saved to d3rlpy_logs/DoubleDQN_online_20220525141628/model_96000.pt\n",
      "2022-05-25 14:20.11 [info     ] DoubleDQN_online_20220525141628: epoch=96 step=96000 epoch=96 metrics={'time_inference': 0.0002898819446563721, 'time_environment_step': 0.0005764710903167725, 'time_sample_batch': 7.355999946594239e-05, 'time_algorithm_update': 0.0011897563934326171, 'loss': 0.813062247544527, 'time_step': 0.0021837959289550783, 'rollout_return': 15.04225352112676, 'evaluation': 16.7} step=96000\n",
      "2022-05-25 14:20.14 [info     ] Model parameters are saved to d3rlpy_logs/DoubleDQN_online_20220525141628/model_97000.pt\n",
      "2022-05-25 14:20.14 [info     ] DoubleDQN_online_20220525141628: epoch=97 step=97000 epoch=97 metrics={'time_inference': 0.00030748891830444336, 'time_environment_step': 0.0006083993911743164, 'time_sample_batch': 7.616353034973144e-05, 'time_algorithm_update': 0.0012496776580810547, 'loss': 0.8348076132237912, 'time_step': 0.0022994372844696047, 'rollout_return': 15.06338028169014, 'evaluation': 14.7} step=97000\n",
      "2022-05-25 14:20.16 [info     ] Model parameters are saved to d3rlpy_logs/DoubleDQN_online_20220525141628/model_98000.pt\n",
      "2022-05-25 14:20.16 [info     ] DoubleDQN_online_20220525141628: epoch=98 step=98000 epoch=98 metrics={'time_inference': 0.0002906022071838379, 'time_environment_step': 0.0005767886638641357, 'time_sample_batch': 7.145023345947266e-05, 'time_algorithm_update': 0.0011836693286895752, 'loss': 0.8278974575102329, 'time_step': 0.0021764488220214844, 'rollout_return': 15.809859154929578, 'evaluation': 14.3} step=98000\n",
      "2022-05-25 14:20.18 [info     ] Model parameters are saved to d3rlpy_logs/DoubleDQN_online_20220525141628/model_99000.pt\n",
      "2022-05-25 14:20.18 [info     ] DoubleDQN_online_20220525141628: epoch=99 step=99000 epoch=99 metrics={'time_inference': 0.0003001041412353516, 'time_environment_step': 0.0005990979671478271, 'time_sample_batch': 7.503914833068848e-05, 'time_algorithm_update': 0.0012291934490203857, 'loss': 0.7926345387548208, 'time_step': 0.0022593896389007566, 'rollout_return': 15.035211267605634, 'evaluation': 18.1} step=99000\n",
      "2022-05-25 14:20.21 [info     ] Model parameters are saved to d3rlpy_logs/DoubleDQN_online_20220525141628/model_100000.pt\n",
      "2022-05-25 14:20.21 [info     ] DoubleDQN_online_20220525141628: epoch=100 step=100000 epoch=100 metrics={'time_inference': 0.0002872567176818848, 'time_environment_step': 0.0005702760219573975, 'time_sample_batch': 7.091093063354493e-05, 'time_algorithm_update': 0.0011698150634765626, 'loss': 0.7877980101257562, 'time_step': 0.002151755094528198, 'rollout_return': 15.267605633802816, 'evaluation': 14.8} step=100000\n"
     ]
    }
   ],
   "source": [
    "# start training\n",
    "# skip if there is a pre-trained model\n",
    "ddqn.fit_online(\n",
    "    env,\n",
    "    buffer,\n",
    "    explorer=explorer,\n",
    "    eval_env=env,\n",
    "    n_steps=100000,\n",
    "    n_steps_per_epoch=1000,\n",
    ")"
   ]
  },
  {
   "cell_type": "code",
   "execution_count": 20,
   "metadata": {},
   "outputs": [],
   "source": [
    "# save model\n",
    "ddqn.save_model(\"d3rlpy_logs/ddqn.pt\")"
   ]
  },
  {
   "cell_type": "code",
   "execution_count": 21,
   "metadata": {},
   "outputs": [
    {
     "name": "stdout",
     "output_type": "stream",
     "text": [
      "2022-05-25 14:20.21 [warning  ] Parameters will be reinitialized.\n"
     ]
    }
   ],
   "source": [
    "# reload model\n",
    "ddqn.build_with_env(env)\n",
    "ddqn.load_model(\"d3rlpy_logs/ddqn.pt\")"
   ]
  },
  {
   "cell_type": "code",
   "execution_count": 22,
   "metadata": {},
   "outputs": [
    {
     "data": {
      "text/plain": [
       "Text(0, 0.5, 'episode reward')"
      ]
     },
     "execution_count": 22,
     "metadata": {},
     "output_type": "execute_result"
    },
    {
     "data": {
      "image/png": "[encoded data removed]",
      "text/plain": [
       "<Figure size 432x288 with 1 Axes>"
      ]
     },
     "metadata": {
      "needs_background": "light"
     },
     "output_type": "display_data"
    }
   ],
   "source": [
    "# we see that training RL policy can be risky online\n",
    "log_path = sorted(glob(\"d3rlpy_logs/DoubleDQN_online_*/evaluation.csv\"))[-1]\n",
    "df = pd.read_csv(\n",
    "    log_path, \n",
    "    usecols=[1,2],\n",
    "    names=[\"train_episode\", \"episodic_rewards\"]\n",
    ")\n",
    "plt.plot(df[\"train_episode\"], df[\"episodic_rewards\"])\n",
    "plt.title(\"Learning curve of DDQN\")\n",
    "plt.xlabel(\"episode\")\n",
    "plt.ylabel(\"episode reward\")"
   ]
  },
  {
   "cell_type": "code",
   "execution_count": 23,
   "metadata": {},
   "outputs": [],
   "source": [
    "random = DiscreteRandomPolicy()\n",
    "random.build_with_env(env)"
   ]
  },
  {
   "cell_type": "code",
   "execution_count": 24,
   "metadata": {},
   "outputs": [
    {
     "data": {
      "application/vnd.jupyter.widget-view+json": {
       "model_id": "f302ff23f3d44f8c88237c1d511ced29",
       "version_major": 2,
       "version_minor": 0
      },
      "text/plain": [
       "[calculate on-policy policy value]:   0%|          | 0/100 [00:00<?, ?it/s]"
      ]
     },
     "metadata": {},
     "output_type": "display_data"
    },
    {
     "data": {
      "application/vnd.jupyter.widget-view+json": {
       "model_id": "815270295fde4e48aa7102114a1984f1",
       "version_major": 2,
       "version_minor": 0
      },
      "text/plain": [
       "[calculate on-policy policy value]:   0%|          | 0/100 [00:00<?, ?it/s]"
      ]
     },
     "metadata": {},
     "output_type": "display_data"
    },
    {
     "data": {
      "image/png": "[encoded data removed]",
      "text/plain": [
       "<Figure size 288x288 with 1 Axes>"
      ]
     },
     "metadata": {},
     "output_type": "display_data"
    }
   ],
   "source": [
    "# compare performance online\n",
    "visualize_on_policy_policy_value(\n",
    "    env=env,\n",
    "    policies=[ddqn, random],\n",
    "    policy_names=[\"ddqn\", \"random\"],\n",
    "    n_episodes=100,\n",
    "    random_state=random_state,\n",
    ")"
   ]
  },
  {
   "cell_type": "code",
   "execution_count": 25,
   "metadata": {},
   "outputs": [
    {
     "data": {
      "application/vnd.jupyter.widget-view+json": {
       "model_id": "d20d81a5755e429ca04cc994a7fecb35",
       "version_major": 2,
       "version_minor": 0
      },
      "text/plain": [
       "[calculate on-policy policy value]:   0%|          | 0/100 [00:00<?, ?it/s]"
      ]
     },
     "metadata": {},
     "output_type": "display_data"
    },
    {
     "data": {
      "application/vnd.jupyter.widget-view+json": {
       "model_id": "1ccccc5fa81e4c3c9625b4afb22fb51e",
       "version_major": 2,
       "version_minor": 0
      },
      "text/plain": [
       "[calculate on-policy policy value]:   0%|          | 0/100 [00:00<?, ?it/s]"
      ]
     },
     "metadata": {},
     "output_type": "display_data"
    },
    {
     "name": "stdout",
     "output_type": "stream",
     "text": [
      "relative improvement: 0.1672025723472669\n"
     ]
    }
   ],
   "source": [
    "# on-policy policy value by ddqn policy\n",
    "# largely outperforms random policy (about 20%)\n",
    "ddqn_performance = calc_on_policy_policy_value(env, ddqn, n_episodes=100, random_state=random_state)\n",
    "random_performance = calc_on_policy_policy_value(env, random, n_episodes=100, random_state=random_state)\n",
    "print(\"relative improvement:\", (ddqn_performance - random_performance) / random_performance)"
   ]
  },
  {
   "cell_type": "markdown",
   "metadata": {},
   "source": [
    "## 1. Synthetic Dataset Generation\n",
    "In the previous section, we see how we can interact the environment *online* using synthetic simulator.  \n",
    "Though simulation is a good start for training agent, eventually we want to deploy our agent (or policy) in the real world environment.  \n",
    "However, online interaction may have potential risk of failure in real-world implementataion.  \n",
    "Therefore, we introduce alternative learning protocol, Offline RL, which aim to obtain a new policy using only offline logged dataset.\n",
    "\n",
    "We prepare easy-to-use synthetic dataset generator: `SyntheticDataset` class in the dataset module.  \n",
    "By regarding simulation environment as a hypothetical real-environment, we show how to conduct Offline RL using logged dataset in real-world application.  \n",
    "For detailed description of how to use real-world dataset, please see #TODO (will be implemented).\n",
    "\n",
    "We have following arguments for `SyntheticDataset` class:\n",
    "- `env`: RTB environment for RL defined in the previous section.\n",
    "- `bahavior_policy`: RL agent (or algorithm) used for the data collection.\n",
    "- `n_samples_pretrain_reward_predictor`: Numbers of samples used to pretrain reward predictor."
   ]
  },
  {
   "cell_type": "code",
   "execution_count": 26,
   "metadata": {},
   "outputs": [],
   "source": [
    "# import necessary module from offlinegym\n",
    "from offlinegym.policy import DiscreteEpsilonGreedyHead"
   ]
  },
  {
   "cell_type": "code",
   "execution_count": 27,
   "metadata": {},
   "outputs": [],
   "source": [
    "behavior_policy = DiscreteEpsilonGreedyHead(\n",
    "    ddqn, \n",
    "    n_actions=env.action_space.n,\n",
    "    epsilon=0.3,\n",
    "    name=\"ddqn_epsilon_0.3\",\n",
    "    random_state=random_state,\n",
    ")"
   ]
  },
  {
   "cell_type": "code",
   "execution_count": 28,
   "metadata": {},
   "outputs": [],
   "source": [
    "# initialize dataset class\n",
    "dataset = SyntheticDataset(\n",
    "    env=env,\n",
    "    behavior_policy=behavior_policy,\n",
    "    random_state=random_state,\n",
    ")"
   ]
  },
  {
   "cell_type": "code",
   "execution_count": 29,
   "metadata": {},
   "outputs": [
    {
     "data": {
      "application/vnd.jupyter.widget-view+json": {
       "model_id": "c03a860b48a4433b8ac7d014b3ce3c7d",
       "version_major": 2,
       "version_minor": 0
      },
      "text/plain": [
       "[obtain_trajectories]:   0%|          | 0/10000 [00:00<?, ?it/s]"
      ]
     },
     "metadata": {},
     "output_type": "display_data"
    }
   ],
   "source": [
    "# collect logged data using behavior policy\n",
    "# skip if there is a preserved logged dataset\n",
    "logged_dataset = dataset.obtain_trajectories(n_episodes=10000, obtain_info=True)"
   ]
  },
  {
   "cell_type": "code",
   "execution_count": 30,
   "metadata": {},
   "outputs": [
    {
     "data": {
      "text/plain": [
       "{'size': 70000,\n",
       " 'n_episodes': 10000,\n",
       " 'step_per_episode': 7,\n",
       " 'action_type': 'discrete',\n",
       " 'n_actions': 10,\n",
       " 'action_dim': None,\n",
       " 'action_meaning': array([ 0.1       ,  0.16681005,  0.27825594,  0.46415888,  0.77426368,\n",
       "         1.29154967,  2.15443469,  3.59381366,  5.9948425 , 10.        ]),\n",
       " 'state_dim': 7,\n",
       " 'state_keys': ['timestep',\n",
       "  'remaining_budget',\n",
       "  'budget_consumption_rate',\n",
       "  'cost_per_mille_of_impression',\n",
       "  'winning_rate',\n",
       "  'reward',\n",
       "  'adjust_rate'],\n",
       " 'state': array([[0.00000000e+00, 3.00000000e+03, 9.29616093e-01, ...,\n",
       "         1.83918812e-01, 2.00000000e+00, 5.37509767e-01],\n",
       "        [1.00000000e+00, 1.91000000e+03, 3.63333333e-01, ...,\n",
       "         1.00000000e+00, 6.00000000e+00, 1.00000000e+01],\n",
       "        [2.00000000e+00, 1.91000000e+03, 0.00000000e+00, ...,\n",
       "         0.00000000e+00, 0.00000000e+00, 1.66810054e-01],\n",
       "        ...,\n",
       "        [4.00000000e+00, 2.20000000e+01, 0.00000000e+00, ...,\n",
       "         3.38164251e-02, 0.00000000e+00, 5.99484250e+00],\n",
       "        [5.00000000e+00, 2.20000000e+01, 0.00000000e+00, ...,\n",
       "         4.92610837e-03, 0.00000000e+00, 2.15443469e+00],\n",
       "        [6.00000000e+00, 2.20000000e+01, 0.00000000e+00, ...,\n",
       "         3.89105058e-02, 0.00000000e+00, 1.29154967e+00]]),\n",
       " 'action': array([9., 1., 6., ..., 6., 5., 8.]),\n",
       " 'reward': array([6., 0., 1., ..., 0., 0., 0.]),\n",
       " 'done': array([0., 0., 0., ..., 0., 0., 1.]),\n",
       " 'terminal': array([0., 0., 0., ..., 0., 0., 1.]),\n",
       " 'info': {'search_volume': array([201., 205., 217., ..., 203., 257., 179.]),\n",
       "  'impression': array([201.,   0., 217., ...,   1.,  10.,   5.]),\n",
       "  'click': array([21.,  0., 24., ...,  0.,  0.,  0.]),\n",
       "  'conversion': array([6., 0., 1., ..., 0., 0., 0.]),\n",
       "  'average_bid_price': array([581.42288557,   8.51707317, 113.8202765 , ..., 101.1182266 ,\n",
       "          57.80155642, 263.99441341])},\n",
       " 'pscore': array([0.73, 0.03, 0.73, ..., 0.73, 0.73, 0.73])}"
      ]
     },
     "execution_count": 30,
     "metadata": {},
     "output_type": "execute_result"
    }
   ],
   "source": [
    "logged_dataset"
   ]
  },
  {
   "cell_type": "code",
   "execution_count": 31,
   "metadata": {},
   "outputs": [],
   "source": [
    "with open(\"logs/dataset_discrete.pkl\", \"wb\") as f:\n",
    "    pickle.dump(logged_dataset, f)"
   ]
  },
  {
   "cell_type": "code",
   "execution_count": 32,
   "metadata": {},
   "outputs": [],
   "source": [
    "with open(\"logs/dataset_discrete.pkl\", \"rb\") as f:\n",
    "    logged_dataset = pickle.load(f)"
   ]
  },
  {
   "cell_type": "code",
   "execution_count": 33,
   "metadata": {},
   "outputs": [
    {
     "data": {
      "application/vnd.jupyter.widget-view+json": {
       "model_id": "52820288c7c149fe88171fa916bdeda0",
       "version_major": 2,
       "version_minor": 0
      },
      "text/plain": [
       "[calculate on-policy policy value]:   0%|          | 0/100 [00:00<?, ?it/s]"
      ]
     },
     "metadata": {},
     "output_type": "display_data"
    },
    {
     "data": {
      "application/vnd.jupyter.widget-view+json": {
       "model_id": "0a244c98a60f4f1eab7b714c6a61ecc0",
       "version_major": 2,
       "version_minor": 0
      },
      "text/plain": [
       "[calculate on-policy policy value]:   0%|          | 0/100 [00:00<?, ?it/s]"
      ]
     },
     "metadata": {},
     "output_type": "display_data"
    },
    {
     "data": {
      "application/vnd.jupyter.widget-view+json": {
       "model_id": "eb29e383949c49819c183c0a5ca663d7",
       "version_major": 2,
       "version_minor": 0
      },
      "text/plain": [
       "[calculate on-policy policy value]:   0%|          | 0/100 [00:00<?, ?it/s]"
      ]
     },
     "metadata": {},
     "output_type": "display_data"
    },
    {
     "data": {
      "image/png": "[encoded data removed]",
      "text/plain": [
       "<Figure size 432x288 with 1 Axes>"
      ]
     },
     "metadata": {},
     "output_type": "display_data"
    }
   ],
   "source": [
    "# compare performance online\n",
    "# almost same performance with greedy ddqn\n",
    "visualize_on_policy_policy_value(\n",
    "    env=env,\n",
    "    policies=[ddqn, behavior_policy, random],\n",
    "    policy_names=[\"ddqn\", \"ddqn (e=0.3)\", \"random\"],\n",
    "    n_episodes=100,\n",
    "    random_state=random_state,\n",
    ")"
   ]
  },
  {
   "cell_type": "code",
   "execution_count": 34,
   "metadata": {},
   "outputs": [
    {
     "data": {
      "text/html": [
       "<div>\n",
       "<style scoped>\n",
       "    .dataframe tbody tr th:only-of-type {\n",
       "        vertical-align: middle;\n",
       "    }\n",
       "\n",
       "    .dataframe tbody tr th {\n",
       "        vertical-align: top;\n",
       "    }\n",
       "\n",
       "    .dataframe thead th {\n",
       "        text-align: right;\n",
       "    }\n",
       "</style>\n",
       "<table border=\"1\" class=\"dataframe\">\n",
       "  <thead>\n",
       "    <tr style=\"text-align: right;\">\n",
       "      <th></th>\n",
       "      <th>adjust rate</th>\n",
       "      <th>average bid price</th>\n",
       "      <th>impression</th>\n",
       "      <th>click</th>\n",
       "      <th>conversion</th>\n",
       "      <th>winning rate</th>\n",
       "      <th>click / impression</th>\n",
       "      <th>conversion / click</th>\n",
       "    </tr>\n",
       "  </thead>\n",
       "  <tbody>\n",
       "    <tr>\n",
       "      <th>count</th>\n",
       "      <td>70000.000000</td>\n",
       "      <td>70000.000000</td>\n",
       "      <td>70000.000000</td>\n",
       "      <td>70000.000000</td>\n",
       "      <td>70000.000000</td>\n",
       "      <td>70000.000000</td>\n",
       "      <td>70000.000000</td>\n",
       "      <td>70000.000000</td>\n",
       "    </tr>\n",
       "    <tr>\n",
       "      <th>mean</th>\n",
       "      <td>3.328799</td>\n",
       "      <td>185.814429</td>\n",
       "      <td>89.960829</td>\n",
       "      <td>8.624000</td>\n",
       "      <td>2.020957</td>\n",
       "      <td>0.516941</td>\n",
       "      <td>0.059180</td>\n",
       "      <td>0.127806</td>\n",
       "    </tr>\n",
       "    <tr>\n",
       "      <th>std</th>\n",
       "      <td>3.382200</td>\n",
       "      <td>184.796287</td>\n",
       "      <td>90.924359</td>\n",
       "      <td>9.532955</td>\n",
       "      <td>2.922999</td>\n",
       "      <td>0.433130</td>\n",
       "      <td>0.069515</td>\n",
       "      <td>0.181449</td>\n",
       "    </tr>\n",
       "    <tr>\n",
       "      <th>min</th>\n",
       "      <td>0.000012</td>\n",
       "      <td>3.732323</td>\n",
       "      <td>0.000000</td>\n",
       "      <td>0.000000</td>\n",
       "      <td>0.000000</td>\n",
       "      <td>0.000000</td>\n",
       "      <td>0.000000</td>\n",
       "      <td>0.000000</td>\n",
       "    </tr>\n",
       "    <tr>\n",
       "      <th>25%</th>\n",
       "      <td>1.291550</td>\n",
       "      <td>69.167386</td>\n",
       "      <td>3.000000</td>\n",
       "      <td>0.000000</td>\n",
       "      <td>0.000000</td>\n",
       "      <td>0.037037</td>\n",
       "      <td>0.000000</td>\n",
       "      <td>0.000000</td>\n",
       "    </tr>\n",
       "    <tr>\n",
       "      <th>50%</th>\n",
       "      <td>2.154435</td>\n",
       "      <td>108.066844</td>\n",
       "      <td>37.000000</td>\n",
       "      <td>3.000000</td>\n",
       "      <td>0.000000</td>\n",
       "      <td>0.520529</td>\n",
       "      <td>0.066667</td>\n",
       "      <td>0.000000</td>\n",
       "    </tr>\n",
       "    <tr>\n",
       "      <th>75%</th>\n",
       "      <td>3.593814</td>\n",
       "      <td>262.174555</td>\n",
       "      <td>189.000000</td>\n",
       "      <td>18.000000</td>\n",
       "      <td>3.000000</td>\n",
       "      <td>1.000000</td>\n",
       "      <td>0.101604</td>\n",
       "      <td>0.217391</td>\n",
       "    </tr>\n",
       "    <tr>\n",
       "      <th>max</th>\n",
       "      <td>12.821535</td>\n",
       "      <td>585.751381</td>\n",
       "      <td>290.000000</td>\n",
       "      <td>41.000000</td>\n",
       "      <td>20.000000</td>\n",
       "      <td>1.000000</td>\n",
       "      <td>0.999990</td>\n",
       "      <td>0.999998</td>\n",
       "    </tr>\n",
       "  </tbody>\n",
       "</table>\n",
       "</div>"
      ],
      "text/plain": [
       "        adjust rate  average bid price    impression         click  \\\n",
       "count  70000.000000       70000.000000  70000.000000  70000.000000   \n",
       "mean       3.328799         185.814429     89.960829      8.624000   \n",
       "std        3.382200         184.796287     90.924359      9.532955   \n",
       "min        0.000012           3.732323      0.000000      0.000000   \n",
       "25%        1.291550          69.167386      3.000000      0.000000   \n",
       "50%        2.154435         108.066844     37.000000      3.000000   \n",
       "75%        3.593814         262.174555    189.000000     18.000000   \n",
       "max       12.821535         585.751381    290.000000     41.000000   \n",
       "\n",
       "         conversion  winning rate  click / impression  conversion / click  \n",
       "count  70000.000000  70000.000000        70000.000000        70000.000000  \n",
       "mean       2.020957      0.516941            0.059180            0.127806  \n",
       "std        2.922999      0.433130            0.069515            0.181449  \n",
       "min        0.000000      0.000000            0.000000            0.000000  \n",
       "25%        0.000000      0.037037            0.000000            0.000000  \n",
       "50%        0.000000      0.520529            0.066667            0.000000  \n",
       "75%        3.000000      1.000000            0.101604            0.217391  \n",
       "max       20.000000      1.000000            0.999990            0.999998  "
      ]
     },
     "execution_count": 34,
     "metadata": {},
     "output_type": "execute_result"
    }
   ],
   "source": [
    "# check statistics of the dataset\n",
    "df = pd.DataFrame()\n",
    "df['adjust rate'] = logged_dataset['state'][:, 6]\n",
    "df['average bid price'] = logged_dataset['info']['average_bid_price']\n",
    "df['impression'] = logged_dataset['info']['impression']\n",
    "df['click'] = logged_dataset['info']['click']\n",
    "df['conversion'] = logged_dataset['info']['conversion']\n",
    "df['winning rate'] = logged_dataset['state'][:, 4]\n",
    "df['click / impression'] = df['click'] / (df['impression'] + 1e-5)\n",
    "df['conversion / click'] = df['conversion'] / (df['click'] + 1e-5)\n",
    "df.describe()"
   ]
  },
  {
   "cell_type": "markdown",
   "metadata": {},
   "source": [
    "For more about the data collection and visualization, please refer to [examples/quickstart/rtb_synthetic_data_collection.ipynb](https://github.com/negocia-inc/rtb_reinforcement_learing/blob/ope/examples/quickstart/rtb_synthetic_data_collection.ipynb)."
   ]
  },
  {
   "cell_type": "markdown",
   "metadata": {},
   "source": [
    "## 2. Offline Reinforcement Learning\n",
    "In this section, we learn a new policy in an offline manner, without interacting to the environment.  \n",
    "To achieve this goal, we exploit logged dataset and train the policy on the data.  \n",
    "We use [d3rlpy](https://github.com/takuseno/d3rlpy)'s implementation of algorithms."
   ]
  },
  {
   "cell_type": "code",
   "execution_count": 35,
   "metadata": {},
   "outputs": [],
   "source": [
    "# import modules from d3rlpy\n",
    "from d3rlpy.dataset import MDPDataset\n",
    "from d3rlpy.algos import DiscreteCQL\n",
    "from d3rlpy.ope import DiscreteFQE\n",
    "from d3rlpy.metrics.scorer import evaluate_on_environment"
   ]
  },
  {
   "cell_type": "code",
   "execution_count": 36,
   "metadata": {},
   "outputs": [],
   "source": [
    "offlinerl_dataset = MDPDataset(\n",
    "    observations=logged_dataset[\"state\"],\n",
    "    actions=logged_dataset[\"action\"],\n",
    "    rewards=logged_dataset[\"reward\"],\n",
    "    terminals=logged_dataset[\"done\"],\n",
    "    episode_terminals=logged_dataset[\"done\"],\n",
    "    discrete_action=True,\n",
    ")\n",
    "train_episodes, test_episodes = train_test_split(offlinerl_dataset, test_size=0.2, random_state=random_state)"
   ]
  },
  {
   "cell_type": "code",
   "execution_count": 37,
   "metadata": {},
   "outputs": [],
   "source": [
    "# Use Conservetive Q-Learning policy\n",
    "cql = DiscreteCQL(\n",
    "    encoder_factory=VectorEncoderFactory(hidden_units=[30, 30]),\n",
    "    q_func_factory=MeanQFunctionFactory(),\n",
    "    use_gpu=torch.cuda.is_available(),\n",
    ")"
   ]
  },
  {
   "cell_type": "code",
   "execution_count": 38,
   "metadata": {},
   "outputs": [
    {
     "name": "stdout",
     "output_type": "stream",
     "text": [
      "2022-05-25 14:21.37 [debug    ] RandomIterator is selected.\n",
      "2022-05-25 14:21.37 [info     ] Directory is created at d3rlpy_logs/DiscreteCQL_20220525142137\n",
      "2022-05-25 14:21.37 [debug    ] Building models...\n",
      "2022-05-25 14:21.37 [debug    ] Models have been built.\n",
      "2022-05-25 14:21.37 [info     ] Parameters are saved to d3rlpy_logs/DiscreteCQL_20220525142137/params.json params={'action_scaler': None, 'alpha': 1.0, 'batch_size': 32, 'encoder_factory': {'type': 'vector', 'params': {'hidden_units': [30, 30], 'activation': 'relu', 'use_batch_norm': False, 'dropout_rate': None, 'use_dense': False}}, 'gamma': 0.99, 'generated_maxlen': 100000, 'learning_rate': 6.25e-05, 'n_critics': 1, 'n_frames': 1, 'n_steps': 1, 'optim_factory': {'optim_cls': 'Adam', 'betas': (0.9, 0.999), 'eps': 1e-08, 'weight_decay': 0, 'amsgrad': False}, 'q_func_factory': {'type': 'mean', 'params': {'share_encoder': False}}, 'real_ratio': 1.0, 'reward_scaler': None, 'scaler': None, 'target_update_interval': 8000, 'use_gpu': None, 'algorithm': 'DiscreteCQL', 'observation_shape': (7,), 'action_size': 10}\n"
     ]
    },
    {
     "data": {
      "application/vnd.jupyter.widget-view+json": {
       "model_id": "fddec74e959443b890c47730686e1beb",
       "version_major": 2,
       "version_minor": 0
      },
      "text/plain": [
       "Epoch 1/1:   0%|          | 0/10000 [00:00<?, ?it/s]"
      ]
     },
     "metadata": {},
     "output_type": "display_data"
    },
    {
     "name": "stdout",
     "output_type": "stream",
     "text": [
      "2022-05-25 14:21.59 [info     ] DiscreteCQL_20220525142137: epoch=1 step=10000 epoch=1 metrics={'time_sample_batch': 0.00013356876373291014, 'time_algorithm_update': 0.001868479824066162, 'loss': 54.6403830177784, 'time_step': 0.0021541911363601686, 'environment': 14.2} step=10000\n",
      "2022-05-25 14:21.59 [info     ] Model parameters are saved to d3rlpy_logs/DiscreteCQL_20220525142137/model_10000.pt\n"
     ]
    },
    {
     "data": {
      "text/plain": [
       "[(1,\n",
       "  {'time_sample_batch': 0.00013356876373291014,\n",
       "   'time_algorithm_update': 0.001868479824066162,\n",
       "   'loss': 54.6403830177784,\n",
       "   'time_step': 0.0021541911363601686,\n",
       "   'environment': 14.2})]"
      ]
     },
     "execution_count": 38,
     "metadata": {},
     "output_type": "execute_result"
    }
   ],
   "source": [
    "cql.fit(\n",
    "    train_episodes,\n",
    "    eval_episodes=test_episodes,\n",
    "    n_steps=10000,\n",
    "    scorers={\n",
    "        'environment': evaluate_on_environment(env),\n",
    "        # to record training process w/ ground truth policy value, which is unseen to the agent\n",
    "    },\n",
    ")"
   ]
  },
  {
   "cell_type": "code",
   "execution_count": 39,
   "metadata": {},
   "outputs": [],
   "source": [
    "# save model\n",
    "cql.save_model(\"d3rlpy_logs/cql_discrete.pt\")"
   ]
  },
  {
   "cell_type": "code",
   "execution_count": 40,
   "metadata": {},
   "outputs": [
    {
     "name": "stdout",
     "output_type": "stream",
     "text": [
      "2022-05-25 14:21.59 [warning  ] Parameters will be reinitialized.\n"
     ]
    }
   ],
   "source": [
    "# reload model\n",
    "cql.build_with_env(env)\n",
    "cql.load_model(\"d3rlpy_logs/cql_discrete.pt\")"
   ]
  },
  {
   "cell_type": "code",
   "execution_count": 41,
   "metadata": {},
   "outputs": [
    {
     "data": {
      "application/vnd.jupyter.widget-view+json": {
       "model_id": "367af8da6af24cb6ba8a7db177ada9d6",
       "version_major": 2,
       "version_minor": 0
      },
      "text/plain": [
       "[calculate on-policy policy value]:   0%|          | 0/100 [00:00<?, ?it/s]"
      ]
     },
     "metadata": {},
     "output_type": "display_data"
    },
    {
     "data": {
      "application/vnd.jupyter.widget-view+json": {
       "model_id": "f3c069270a504b7abeebf465d3387c63",
       "version_major": 2,
       "version_minor": 0
      },
      "text/plain": [
       "[calculate on-policy policy value]:   0%|          | 0/100 [00:00<?, ?it/s]"
      ]
     },
     "metadata": {},
     "output_type": "display_data"
    },
    {
     "data": {
      "application/vnd.jupyter.widget-view+json": {
       "model_id": "b9a0ab6cf41b46ea9a1a155504aa5032",
       "version_major": 2,
       "version_minor": 0
      },
      "text/plain": [
       "[calculate on-policy policy value]:   0%|          | 0/100 [00:00<?, ?it/s]"
      ]
     },
     "metadata": {},
     "output_type": "display_data"
    },
    {
     "data": {
      "application/vnd.jupyter.widget-view+json": {
       "model_id": "c3ccd01f2a474620ac82b674ff581b15",
       "version_major": 2,
       "version_minor": 0
      },
      "text/plain": [
       "[calculate on-policy policy value]:   0%|          | 0/100 [00:00<?, ?it/s]"
      ]
     },
     "metadata": {},
     "output_type": "display_data"
    },
    {
     "data": {
      "image/png": "[encoded data removed]",
      "text/plain": [
       "<Figure size 576x288 with 1 Axes>"
      ]
     },
     "metadata": {},
     "output_type": "display_data"
    }
   ],
   "source": [
    "# compare performance online\n",
    "# not better than online policy, but achieves almost the same performance\n",
    "# meaning that we can learn a reasonable policy without interacting with the environment!\n",
    "visualize_on_policy_policy_value(\n",
    "    env=env,\n",
    "    policies=[ddqn, behavior_policy, cql, random],\n",
    "    policy_names=[\"ddqn\", \"ddqn (e=0.3)\", \"cql (offline)\", \"random\"],\n",
    "    n_episodes=100,\n",
    "    random_state=random_state,\n",
    ")"
   ]
  },
  {
   "cell_type": "markdown",
   "metadata": {},
   "source": [
    "## 3. Off-Policy Evaluation and Evaluation of Offline RL methods\n",
    "In the previous section, we verified the performance of learned policy via online interaction (aka A/B tests).  \n",
    "However, it could be risky because the policy may perform poorly in an online environment.  \n",
    "To tackle this issue, we aim to evaluate the performance of policies in an offline manner, to gain prior knowledge on how agent works in the environment."
   ]
  },
  {
   "cell_type": "code",
   "execution_count": 42,
   "metadata": {},
   "outputs": [],
   "source": [
    "# import ope modules from offlinegym\n",
    "from offlinegym.ope import CreateOPEInput\n",
    "from offlinegym.ope import DiscreteOffPolicyEvaluation as OPE\n",
    "from offlinegym.ope import DiscreteDirectMethod as DM\n",
    "from offlinegym.ope import DiscreteTrajectoryWiseImportanceSampling as TIS\n",
    "from offlinegym.ope import DiscretePerDecisionImportanceSampling as PDIS\n",
    "from offlinegym.ope import DiscreteDoublyRobust as DR\n",
    "from offlinegym.ope import DiscreteSelfNormalizedTrajectoryWiseImportanceSampling as SNTIS\n",
    "from offlinegym.ope import DiscreteSelfNormalizedPerDecisionImportanceSampling as SNPDIS\n",
    "from offlinegym.ope import DiscreteSelfNormalizedDoublyRobust as SNDR"
   ]
  },
  {
   "cell_type": "code",
   "execution_count": 43,
   "metadata": {},
   "outputs": [],
   "source": [
    "# define evaluation policies\n",
    "cql_ = DiscreteEpsilonGreedyHead(base_policy=cql, n_actions=env.action_space.n, name=\"cql\", epsilon=0.0, random_state=random_state)\n",
    "ddqn_ = DiscreteEpsilonGreedyHead(base_policy=ddqn, n_actions=env.action_space.n, name=\"ddqn\", epsilon=0.0, random_state=random_state)\n",
    "random_ = DiscreteEpsilonGreedyHead(base_policy=random, n_actions=env.action_space.n, name=\"random\", epsilon=1.0, random_state=random_state)\n",
    "evaluation_policies = [cql_, ddqn_, random_]"
   ]
  },
  {
   "cell_type": "code",
   "execution_count": 44,
   "metadata": {},
   "outputs": [],
   "source": [
    "# first, prepare OPE inputs\n",
    "prep = CreateOPEInput(\n",
    "    logged_dataset=logged_dataset,\n",
    "    use_base_model=True,  # use model-based prediction\n",
    ")"
   ]
  },
  {
   "cell_type": "code",
   "execution_count": 45,
   "metadata": {},
   "outputs": [
    {
     "data": {
      "application/vnd.jupyter.widget-view+json": {
       "model_id": "916f6cfc23cd441dbfd48894b648c0ec",
       "version_major": 2,
       "version_minor": 0
      },
      "text/plain": [
       "[fit FQE model]:   0%|          | 0/3 [00:00<?, ?it/s]"
      ]
     },
     "metadata": {},
     "output_type": "display_data"
    },
    {
     "name": "stdout",
     "output_type": "stream",
     "text": [
      "2022-05-25 14:22.02 [debug    ] RandomIterator is selected.\n",
      "2022-05-25 14:22.02 [info     ] Directory is created at d3rlpy_logs/DiscreteFQE_20220525142202\n",
      "2022-05-25 14:22.02 [debug    ] Building models...\n",
      "2022-05-25 14:22.02 [debug    ] Models have been built.\n",
      "2022-05-25 14:22.02 [info     ] Parameters are saved to d3rlpy_logs/DiscreteFQE_20220525142202/params.json params={'action_scaler': None, 'batch_size': 100, 'encoder_factory': {'type': 'vector', 'params': {'hidden_units': [30, 30], 'activation': 'relu', 'use_batch_norm': False, 'dropout_rate': None, 'use_dense': False}}, 'gamma': 0.99, 'generated_maxlen': 100000, 'learning_rate': 0.0001, 'n_critics': 1, 'n_frames': 1, 'n_steps': 1, 'optim_factory': {'optim_cls': 'Adam', 'betas': (0.9, 0.999), 'eps': 1e-08, 'weight_decay': 0, 'amsgrad': False}, 'q_func_factory': {'type': 'mean', 'params': {'share_encoder': False}}, 'real_ratio': 1.0, 'reward_scaler': None, 'scaler': None, 'target_update_interval': 100, 'use_gpu': None, 'algorithm': 'DiscreteFQE', 'observation_shape': (7,), 'action_size': 10}\n"
     ]
    },
    {
     "data": {
      "application/vnd.jupyter.widget-view+json": {
       "model_id": "b0e6925a37b549b7808d292be9aab038",
       "version_major": 2,
       "version_minor": 0
      },
      "text/plain": [
       "Epoch 1/1:   0%|          | 0/10000 [00:00<?, ?it/s]"
      ]
     },
     "metadata": {},
     "output_type": "display_data"
    },
    {
     "name": "stdout",
     "output_type": "stream",
     "text": [
      "2022-05-25 14:22.23 [info     ] DiscreteFQE_20220525142202: epoch=1 step=10000 epoch=1 metrics={'time_sample_batch': 0.00035072367191314697, 'time_algorithm_update': 0.0015656081199645997, 'loss': 4.694595843356848, 'time_step': 0.002087600111961365} step=10000\n",
      "2022-05-25 14:22.23 [info     ] Model parameters are saved to d3rlpy_logs/DiscreteFQE_20220525142202/model_10000.pt\n",
      "2022-05-25 14:22.23 [debug    ] RandomIterator is selected.\n",
      "2022-05-25 14:22.23 [info     ] Directory is created at d3rlpy_logs/DiscreteFQE_20220525142223\n",
      "2022-05-25 14:22.23 [debug    ] Building models...\n",
      "2022-05-25 14:22.23 [debug    ] Models have been built.\n",
      "2022-05-25 14:22.23 [info     ] Parameters are saved to d3rlpy_logs/DiscreteFQE_20220525142223/params.json params={'action_scaler': None, 'batch_size': 100, 'encoder_factory': {'type': 'vector', 'params': {'hidden_units': [30, 30], 'activation': 'relu', 'use_batch_norm': False, 'dropout_rate': None, 'use_dense': False}}, 'gamma': 0.99, 'generated_maxlen': 100000, 'learning_rate': 0.0001, 'n_critics': 1, 'n_frames': 1, 'n_steps': 1, 'optim_factory': {'optim_cls': 'Adam', 'betas': (0.9, 0.999), 'eps': 1e-08, 'weight_decay': 0, 'amsgrad': False}, 'q_func_factory': {'type': 'mean', 'params': {'share_encoder': False}}, 'real_ratio': 1.0, 'reward_scaler': None, 'scaler': None, 'target_update_interval': 100, 'use_gpu': None, 'algorithm': 'DiscreteFQE', 'observation_shape': (7,), 'action_size': 10}\n"
     ]
    },
    {
     "data": {
      "application/vnd.jupyter.widget-view+json": {
       "model_id": "203dde0df2b74c9d9c3f44ce966d06bf",
       "version_major": 2,
       "version_minor": 0
      },
      "text/plain": [
       "Epoch 1/1:   0%|          | 0/10000 [00:00<?, ?it/s]"
      ]
     },
     "metadata": {},
     "output_type": "display_data"
    },
    {
     "name": "stdout",
     "output_type": "stream",
     "text": [
      "2022-05-25 14:22.44 [info     ] DiscreteFQE_20220525142223: epoch=1 step=10000 epoch=1 metrics={'time_sample_batch': 0.00035342447757720946, 'time_algorithm_update': 0.0015465709447860718, 'loss': 2.0889009344100953, 'time_step': 0.0020594837665557863} step=10000\n",
      "2022-05-25 14:22.44 [info     ] Model parameters are saved to d3rlpy_logs/DiscreteFQE_20220525142223/model_10000.pt\n",
      "2022-05-25 14:22.44 [debug    ] RandomIterator is selected.\n",
      "2022-05-25 14:22.44 [info     ] Directory is created at d3rlpy_logs/DiscreteFQE_20220525142244\n",
      "2022-05-25 14:22.44 [debug    ] Building models...\n",
      "2022-05-25 14:22.44 [debug    ] Models have been built.\n",
      "2022-05-25 14:22.44 [info     ] Parameters are saved to d3rlpy_logs/DiscreteFQE_20220525142244/params.json params={'action_scaler': None, 'batch_size': 100, 'encoder_factory': {'type': 'vector', 'params': {'hidden_units': [30, 30], 'activation': 'relu', 'use_batch_norm': False, 'dropout_rate': None, 'use_dense': False}}, 'gamma': 0.99, 'generated_maxlen': 100000, 'learning_rate': 0.0001, 'n_critics': 1, 'n_frames': 1, 'n_steps': 1, 'optim_factory': {'optim_cls': 'Adam', 'betas': (0.9, 0.999), 'eps': 1e-08, 'weight_decay': 0, 'amsgrad': False}, 'q_func_factory': {'type': 'mean', 'params': {'share_encoder': False}}, 'real_ratio': 1.0, 'reward_scaler': None, 'scaler': None, 'target_update_interval': 100, 'use_gpu': None, 'algorithm': 'DiscreteFQE', 'observation_shape': (7,), 'action_size': 10}\n"
     ]
    },
    {
     "data": {
      "application/vnd.jupyter.widget-view+json": {
       "model_id": "060b8804c7274617b778d156a7f15b60",
       "version_major": 2,
       "version_minor": 0
      },
      "text/plain": [
       "Epoch 1/1:   0%|          | 0/10000 [00:00<?, ?it/s]"
      ]
     },
     "metadata": {},
     "output_type": "display_data"
    },
    {
     "name": "stdout",
     "output_type": "stream",
     "text": [
      "2022-05-25 14:23.02 [info     ] DiscreteFQE_20220525142244: epoch=1 step=10000 epoch=1 metrics={'time_sample_batch': 0.00034315459728240965, 'time_algorithm_update': 0.0012917297124862672, 'loss': 5.2461845766037705, 'time_step': 0.0017868359804153443} step=10000\n",
      "2022-05-25 14:23.02 [info     ] Model parameters are saved to d3rlpy_logs/DiscreteFQE_20220525142244/model_10000.pt\n"
     ]
    },
    {
     "data": {
      "application/vnd.jupyter.widget-view+json": {
       "model_id": "139e2c7f06f5497a8d099bb572486381",
       "version_major": 2,
       "version_minor": 0
      },
      "text/plain": [
       "[collect input data]:   0%|          | 0/3 [00:00<?, ?it/s]"
      ]
     },
     "metadata": {},
     "output_type": "display_data"
    },
    {
     "data": {
      "application/vnd.jupyter.widget-view+json": {
       "model_id": "9f211f4dcb7f44bfa8e4cb37bcd1be51",
       "version_major": 2,
       "version_minor": 0
      },
      "text/plain": [
       "[calculate on-policy policy value]:   0%|          | 0/100 [00:00<?, ?it/s]"
      ]
     },
     "metadata": {},
     "output_type": "display_data"
    },
    {
     "data": {
      "application/vnd.jupyter.widget-view+json": {
       "model_id": "14834ef490f149c7ae278c537eff1163",
       "version_major": 2,
       "version_minor": 0
      },
      "text/plain": [
       "[calculate on-policy policy value]:   0%|          | 0/100 [00:00<?, ?it/s]"
      ]
     },
     "metadata": {},
     "output_type": "display_data"
    },
    {
     "data": {
      "application/vnd.jupyter.widget-view+json": {
       "model_id": "1088bdbfe85348b7baed4117d2e16295",
       "version_major": 2,
       "version_minor": 0
      },
      "text/plain": [
       "[calculate on-policy policy value]:   0%|          | 0/100 [00:00<?, ?it/s]"
      ]
     },
     "metadata": {},
     "output_type": "display_data"
    }
   ],
   "source": [
    "# takes time\n",
    "input_dict = prep.obtain_whole_inputs(\n",
    "    evaluation_policies=evaluation_policies,\n",
    "    env=env,\n",
    "    n_episodes_on_policy_evaluation=100,\n",
    "    random_state=random_state,\n",
    ")"
   ]
  },
  {
   "cell_type": "code",
   "execution_count": 46,
   "metadata": {},
   "outputs": [],
   "source": [
    "with open(\"logs/ope_input_dict_discrete.pkl\", \"wb\") as f:\n",
    "    pickle.dump(input_dict, f)"
   ]
  },
  {
   "cell_type": "code",
   "execution_count": 47,
   "metadata": {},
   "outputs": [],
   "source": [
    "with open(\"logs/ope_input_dict_discrete.pkl\", \"rb\") as f:\n",
    "    input_dict = pickle.load(f)"
   ]
  },
  {
   "cell_type": "code",
   "execution_count": 48,
   "metadata": {},
   "outputs": [],
   "source": [
    "ope = OPE(\n",
    "    logged_dataset=logged_dataset,\n",
    "    ope_estimators=[DM(), TIS(), PDIS(), DR(), SNTIS(), SNPDIS(), SNDR()],\n",
    ")"
   ]
  },
  {
   "cell_type": "code",
   "execution_count": 49,
   "metadata": {},
   "outputs": [],
   "source": [
    "# performance estimation by ope\n",
    "policy_value_df_dict, policy_value_interval_df_dict = ope.summarize_off_policy_estimates(input_dict, random_state=random_state)"
   ]
  },
  {
   "cell_type": "code",
   "execution_count": 50,
   "metadata": {},
   "outputs": [
    {
     "data": {
      "text/plain": [
       "{'cql':            policy_value  relative_policy_value\n",
       " on_policy     14.610000               1.000000\n",
       " dm            14.142085               0.967973\n",
       " tis            5.391315               0.369015\n",
       " pdis          13.983371               0.957110\n",
       " dr            14.391441               0.985040\n",
       " sntis         15.142373               1.036439\n",
       " snpdis        14.161228               0.969283\n",
       " sndr          14.378092               0.984127,\n",
       " 'ddqn':            policy_value  relative_policy_value\n",
       " on_policy     14.520000               1.000000\n",
       " dm            13.128750               0.904184\n",
       " tis           14.578998               1.004063\n",
       " pdis          14.423091               0.993326\n",
       " dr            14.405395               0.992107\n",
       " sntis         14.522994               1.000206\n",
       " snpdis        14.404861               0.992070\n",
       " sndr          14.405911               0.992143,\n",
       " 'random':            policy_value  relative_policy_value\n",
       " on_policy     12.600000               1.000000\n",
       " dm            13.969864               1.108719\n",
       " tis            4.703925               0.373327\n",
       " pdis          11.282637               0.895447\n",
       " dr            14.022419               1.112890\n",
       " sntis         12.766334               1.013201\n",
       " snpdis        12.447328               0.987883\n",
       " sndr          13.841680               1.098546}"
      ]
     },
     "execution_count": 50,
     "metadata": {},
     "output_type": "execute_result"
    }
   ],
   "source": [
    "# estimated policy performance\n",
    "policy_value_df_dict"
   ]
  },
  {
   "cell_type": "code",
   "execution_count": 51,
   "metadata": {},
   "outputs": [
    {
     "data": {
      "text/plain": [
       "{'cql':                 mean  95.0% CI (lower)  95.0% CI (upper)\n",
       " on_policy  14.519600         13.764250         15.191000\n",
       " dm         14.142053         14.140087         14.144273\n",
       " tis         5.360988          3.111879          7.798050\n",
       " pdis       13.998998         13.567049         14.328406\n",
       " dr         14.394623         14.220550         14.563226\n",
       " sntis      15.057195          8.740212         21.902076\n",
       " snpdis     14.178012         13.737043         14.518904\n",
       " sndr       14.382475         14.200197         14.549508,\n",
       " 'ddqn':                 mean  95.0% CI (lower)  95.0% CI (upper)\n",
       " on_policy  14.440800         13.689500         15.095750\n",
       " dm         13.128744         13.127875         13.129690\n",
       " tis        14.644081         13.903477         15.459861\n",
       " pdis       14.421285         14.197602         14.614243\n",
       " dr         14.412094         14.326354         14.507467\n",
       " sntis      14.587827         13.850068         15.400473\n",
       " snpdis     14.403035         14.179972         14.595602\n",
       " sndr       14.412616         14.327078         14.507649,\n",
       " 'random':                 mean  95.0% CI (lower)  95.0% CI (upper)\n",
       " on_policy  12.530000         11.664750         13.530500\n",
       " dm         13.969855         13.969730         13.969985\n",
       " tis         4.742270          3.201506          6.556606\n",
       " pdis       11.242018          9.850978         13.366993\n",
       " dr         14.024462         13.286454         14.819718\n",
       " sntis      12.870402          8.688805         17.794462\n",
       " snpdis     12.371924         10.415374         15.351709\n",
       " sndr       13.839953         12.678859         15.274474}"
      ]
     },
     "execution_count": 51,
     "metadata": {},
     "output_type": "execute_result"
    }
   ],
   "source": [
    "# estimated policy performance confidence intervals\n",
    "policy_value_interval_df_dict"
   ]
  },
  {
   "cell_type": "markdown",
   "metadata": {},
   "source": [
    "## 4. Evaluation of OPE methods\n",
    "Now, we evaluate how well ope estimators estimated the policy value."
   ]
  },
  {
   "cell_type": "code",
   "execution_count": 52,
   "metadata": {},
   "outputs": [
    {
     "data": {
      "image/png": "[encoded data removed]",
      "text/plain": [
       "<Figure size 1008x864 with 3 Axes>"
      ]
     },
     "metadata": {},
     "output_type": "display_data"
    }
   ],
   "source": [
    "# we can visualize and compare the result\n",
    "# it seems that DM tends to have a bias though the variance is quite small, \n",
    "# while (trajectory-wise) importance sampling estimators have a smaller bias with a larger variance.\n",
    "# self-normalized estimators also works well\n",
    "ope.visualize_off_policy_estimates(input_dict, random_state=random_state, sharey=False)"
   ]
  },
  {
   "cell_type": "code",
   "execution_count": 53,
   "metadata": {},
   "outputs": [
    {
     "data": {
      "text/html": [
       "<div>\n",
       "<style scoped>\n",
       "    .dataframe tbody tr th:only-of-type {\n",
       "        vertical-align: middle;\n",
       "    }\n",
       "\n",
       "    .dataframe tbody tr th {\n",
       "        vertical-align: top;\n",
       "    }\n",
       "\n",
       "    .dataframe thead th {\n",
       "        text-align: right;\n",
       "    }\n",
       "</style>\n",
       "<table border=\"1\" class=\"dataframe\">\n",
       "  <thead>\n",
       "    <tr style=\"text-align: right;\">\n",
       "      <th></th>\n",
       "      <th>cql</th>\n",
       "      <th>ddqn</th>\n",
       "      <th>random</th>\n",
       "    </tr>\n",
       "  </thead>\n",
       "  <tbody>\n",
       "    <tr>\n",
       "      <th>dm</th>\n",
       "      <td>0.218945</td>\n",
       "      <td>1.935576</td>\n",
       "      <td>1.876527</td>\n",
       "    </tr>\n",
       "    <tr>\n",
       "      <th>tis</th>\n",
       "      <td>84.984162</td>\n",
       "      <td>0.003481</td>\n",
       "      <td>62.347995</td>\n",
       "    </tr>\n",
       "    <tr>\n",
       "      <th>pdis</th>\n",
       "      <td>0.392663</td>\n",
       "      <td>0.009391</td>\n",
       "      <td>1.735445</td>\n",
       "    </tr>\n",
       "    <tr>\n",
       "      <th>dr</th>\n",
       "      <td>0.047768</td>\n",
       "      <td>0.013134</td>\n",
       "      <td>2.023277</td>\n",
       "    </tr>\n",
       "    <tr>\n",
       "      <th>sntis</th>\n",
       "      <td>0.283421</td>\n",
       "      <td>0.000009</td>\n",
       "      <td>0.027667</td>\n",
       "    </tr>\n",
       "    <tr>\n",
       "      <th>snpdis</th>\n",
       "      <td>0.201396</td>\n",
       "      <td>0.013257</td>\n",
       "      <td>0.023309</td>\n",
       "    </tr>\n",
       "    <tr>\n",
       "      <th>sndr</th>\n",
       "      <td>0.053781</td>\n",
       "      <td>0.013016</td>\n",
       "      <td>1.541770</td>\n",
       "    </tr>\n",
       "  </tbody>\n",
       "</table>\n",
       "</div>"
      ],
      "text/plain": [
       "              cql      ddqn     random\n",
       "dm       0.218945  1.935576   1.876527\n",
       "tis     84.984162  0.003481  62.347995\n",
       "pdis     0.392663  0.009391   1.735445\n",
       "dr       0.047768  0.013134   2.023277\n",
       "sntis    0.283421  0.000009   0.027667\n",
       "snpdis   0.201396  0.013257   0.023309\n",
       "sndr     0.053781  0.013016   1.541770"
      ]
     },
     "execution_count": 53,
     "metadata": {},
     "output_type": "execute_result"
    }
   ],
   "source": [
    "# squared-error (se) measures the estimation accuracy of OPE\n",
    "eval_metric_ope_df = ope.summarize_estimators_comparison(input_dict, metric=\"se\")\n",
    "eval_metric_ope_df"
   ]
  },
  {
   "cell_type": "markdown",
   "metadata": {},
   "source": [
    "For more advanced topics in OPE (e.g., cumulative distribution function estimation and distributionally robust estimation) and OPS, please refer to [examples/quickstart/rtb_synthetic_discrete_advanced.ipynb](https://github.com/negocia-inc/rtb_reinforcement_learing/blob/ope/examples/quickstart/rtb_synthetic_discrete_advanced.ipynb). \\\n",
    "For the examples in the continuous action space, please refer to [examples/quickstart/rtb_synthetic_continuous_basic.ipynb](https://github.com/negocia-inc/rtb_reinforcement_learing/blob/ope/examples/quickstart/rtb_synthetic_continuous_basic.ipynb)."
   ]
  },
  {
   "cell_type": "markdown",
   "metadata": {},
   "source": [
    "## Reference\n",
    "\n",
    "- Yuta Saito, Shunsuke Aihara, Megumi Matsutani, and Yusuke Narita. \\\n",
    "\"Open Bandit Dataset and Pipeline: Towards Realistic and Reproducible Off-Policy Evaluation.\", 2021.\n",
    "\n",
    "- Takuma Seno and Michita Imai. \\\n",
    "\"d3rlpy: An Offline Deep Reinforcement Library.\", 2021.\n",
    "\n",
    "- Sergey Levine, Aviral Kumar, George Tucker, and Justin Fu. \\\n",
    "\"Offline Reinforcement Learning: Tutorial, Review, and Perspectives on Open Problems.\" 2020.\n",
    "\n",
    "- Aviral Kumar, Aurick Zhou, George Tucker, and Sergey Levine. \\\n",
    "\"Conservative Q-Learning for Offline Reinforcement Learning.\", 2020.\n",
    "\n",
    "- Nathan Kallus and Masatoshi Uehara. \\\n",
    "\"Intrinsically Efficient, Stable, and Bounded Off-Policy Evaluation for Reinforcement Learning.\", 2019.\n",
    "\n",
    "- Hoang Le, Cameron Voloshin, and Yisong Yue. \\\n",
    "\"Batch Policy Learning under Constraints.\", 2019.\n",
    "\n",
    "- Di Wu, Xiujun Chen, Xun Yang, Hao Wang, Qing Tan, Xiaoxun Zhang, Jian Xu, and Kun Gai. \\\n",
    "\"Budget Constrained Bidding by Model-free Reinforcement Learning in Display Advertising.\", 2018.\n",
    "\n",
    "- Jun Zhao, Guang Qiu, Ziyu Guan, Wei Zhao, and Xiaofei He. \\\n",
    "\"Deep Reinforcement Learning for Sponsored Search Real-time Bidding.\", 2018.\n",
    "\n",
    "- Nan Jiang and Lihong Li. \\\n",
    "\"Doubly Robust Off-policy Value Evaluation for Reinforcement Learning.\", 2016.\n",
    "\n",
    "- Philip S. Thomas and Emma Brunskill. \\\n",
    "\"Data-Efficient Off-Policy Policy Evaluation for Reinforcement Learning.\", 2016.\n",
    "\n",
    "- Greg Brockman, Vicki Cheung, Ludwig Pettersson, Jonas Schneider, John Schulman, Jie Tang, and Wojciech Zaremba. \\\n",
    "\"OpenAI Gym.\", 2016.\n",
    "\n",
    "- Adith Swaminathan and Thorsten Joachims. \\\n",
    "\"The Self-Normalized Estimator for Counterfactual Learning.\", 2015.\n",
    "\n",
    "- Hado van Hasselt, Arthur Guez, and David Silver. \\\n",
    "\"Deep Reinforcement Learning with Double Q-learning.\", 2015.\n",
    "\n",
    "- Miroslav Dudík, Dumitru Erhan, John Langford, and Lihong Li. \\\n",
    "\"Doubly Robust Policy Evaluation and Optimization.\", 2014.\n",
    "\n",
    "- Alex Strehl, John Langford, Sham Kakade, and Lihong Li. \\\n",
    "\"Learning from Logged Implicit Exploration Data.\", 2010.\n",
    "\n",
    "- Alina Beygelzimer and John Langford. \\\n",
    "\"The Offset Tree for Learning with Partial Labels.\", 2009.\n",
    "\n",
    "- Doina Precup, Richard S. Sutton, and Satinder P. Singh. \\\n",
    "\"Eligibility Traces for Off-Policy Policy Evaluation.\", 2000."
   ]
  },
  {
   "cell_type": "code",
   "execution_count": null,
   "metadata": {},
   "outputs": [],
   "source": []
  }
 ],
 "metadata": {
  "kernelspec": {
   "display_name": "Python 3",
   "language": "python",
   "name": "python3"
  },
  "language_info": {
   "codemirror_mode": {
    "name": "ipython",
    "version": 3
   },
   "file_extension": ".py",
   "mimetype": "text/x-python",
   "name": "python",
   "nbconvert_exporter": "python",
   "pygments_lexer": "ipython3",
   "version": "3.8.5"
  }
 },
 "nbformat": 4,
 "nbformat_minor": 4
}
