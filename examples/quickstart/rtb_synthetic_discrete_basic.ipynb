{
 "cells": [
  {
   "cell_type": "markdown",
   "metadata": {},
   "source": [
    "# Quickstart Example with Synthetic RTB Simulation and Dataset (Discrete)\n",
    "This notebook provides an example of conducting **Off-policy Evaluation (OPE) and Offline Reinforcement Learning (Offline RL) on a synthetic Real-Time Bidding (RTB) dataset**.\n",
    "\n",
    "This example consists of the following 5 steps: \\\n",
    "0. (Setup Synthetic RTB Simulation Environment and Online RL)\n",
    "1. Synthetic Data Generation\n",
    "2. Offline Reinforcement Learning\n",
    "3. Off-Policy Evaluation and Evaluation of Offline RL methods\n",
    "4. Evaluation of OPE methods\n",
    "\n",
    "\\* This library uses [d3rlpy](https://github.com/takuseno/d3rlpy)'s algorithm implementations of online/offline rl policies and model-based evaluation.  \n",
    "\\* Also, our implementations of OPE are highly inspired by [Open Bandit Pipeline](https://github.com/st-tech/zr-obp)."
   ]
  },
  {
   "cell_type": "code",
   "execution_count": 1,
   "metadata": {},
   "outputs": [
    {
     "data": {
      "text/plain": [
       "'0.26.2'"
      ]
     },
     "execution_count": 1,
     "metadata": {},
     "output_type": "execute_result"
    }
   ],
   "source": [
    "import gym\n",
    "gym.__version__"
   ]
  },
  {
   "cell_type": "code",
   "execution_count": 2,
   "metadata": {},
   "outputs": [],
   "source": [
    "# delete later\n",
    "%load_ext autoreload\n",
    "%autoreload 2"
   ]
  },
  {
   "cell_type": "code",
   "execution_count": 3,
   "metadata": {},
   "outputs": [],
   "source": [
    "# delete later\n",
    "import warnings\n",
    "warnings.simplefilter('ignore')"
   ]
  },
  {
   "cell_type": "code",
   "execution_count": 4,
   "metadata": {},
   "outputs": [],
   "source": [
    "# delete later\n",
    "import sys\n",
    "sys.path.append('../')\n",
    "sys.path.append('../../')"
   ]
  },
  {
   "cell_type": "code",
   "execution_count": 6,
   "metadata": {},
   "outputs": [],
   "source": [
    "# import OFRL modules\n",
    "import ofrl\n",
    "from rtbgym import RTBEnv, CustomizedRTBEnv\n",
    "from ofrl.dataset import SyntheticDataset\n",
    "from ofrl.policy import OnlineHead\n",
    "from ofrl.ope.online import (\n",
    "    calc_on_policy_policy_value,\n",
    "    visualize_on_policy_policy_value,\n",
    ")\n",
    "\n",
    "# import d3rlpy algorithms\n",
    "from d3rlpy.algos import DiscreteRandomPolicy\n",
    "from d3rlpy.algos import RandomPolicy as ContinuousRandomPolicy\n",
    "from d3rlpy.preprocessing import MinMaxActionScaler\n",
    "\n",
    "# import from other libraries\n",
    "import gym\n",
    "import torch\n",
    "from sklearn.model_selection import train_test_split"
   ]
  },
  {
   "cell_type": "code",
   "execution_count": 7,
   "metadata": {},
   "outputs": [],
   "source": [
    "import pickle\n",
    "from glob import glob\n",
    "from tqdm import tqdm\n",
    "\n",
    "import numpy as np\n",
    "import pandas as pd\n",
    "\n",
    "import matplotlib.pyplot as plt\n",
    "import seaborn as sns\n",
    "\n",
    "%matplotlib inline"
   ]
  },
  {
   "cell_type": "code",
   "execution_count": 8,
   "metadata": {},
   "outputs": [
    {
     "name": "stdout",
     "output_type": "stream",
     "text": [
      "0.0.0\n"
     ]
    }
   ],
   "source": [
    "# version\n",
    "print(ofrl.__version__)"
   ]
  },
  {
   "cell_type": "code",
   "execution_count": 9,
   "metadata": {},
   "outputs": [],
   "source": [
    "# set random state\n",
    "random_state = 12345"
   ]
  },
  {
   "cell_type": "code",
   "execution_count": 10,
   "metadata": {},
   "outputs": [],
   "source": [
    "# log directory\n",
    "from pathlib import Path\n",
    "Path(\"logs/\").mkdir(exist_ok=True)"
   ]
  },
  {
   "cell_type": "markdown",
   "metadata": {},
   "source": [
    "## 0. (Setup Synthetic RTB Simulation Environment and Online RL)\n",
    "To begin with, we briefly describe how the RTB environment works for the preparation.\n",
    "\n",
    "#### RL setup for RTB\n",
    "In RTB, the objective of the RL agent is to maximize some KPIs (number of clicks or conversions) within an episode under given budget constraints.  \n",
    "We often try to achieve this by adjusting bidding price function parameter $\\alpha$. By using $\\alpha$, we can adjust the bid price as follows.  \n",
    "$bid_{t,i} = \\alpha \\cdot r^{\\ast}$, \n",
    "where $r^{\\ast}$ denotes a predicted or expected reward (KPIs).\n",
    "\n",
    "We often formulate this RTB problem as the following Constrained Markov Decision Process (CMDP):\n",
    "- `timestep`: One episode (a day or a week) consists of several timesteps (24 hours or seven days, for instance).\n",
    "- `state`: We observe some feedback from the environment at each timestep, which includes the following.\n",
    "  - timestep\n",
    "  - remaining budget\n",
    "  - impression level features (budget consumption rate, cost per mille of impressions, auction winning rate, reward) at the previous timestep\n",
    "  - adjust rate (RL agent's decision making) at the previous timestep\n",
    "- `action`: Agent chooses adjust rate parameter $\\alpha$ to maximize KPIs.\n",
    "- `reward`: Total number of clicks or conversions obtained during the timestep.\n",
    "- `constraints`: The pre-determined episodic budget should not be exceeded.\n",
    "\n",
    "For more about the environmental configuration , please refer to [examples/quickstart/rtb_synthetic_customize_env.ipynb](https://github.com/negocia-inc/rtb_reinforcement_learing/blob/ope/examples/quickstart/rtb_synthetic_customize_env.ipynb).\n",
    "\n",
    "Let's see how it works!"
   ]
  },
  {
   "cell_type": "code",
   "execution_count": 11,
   "metadata": {},
   "outputs": [],
   "source": [
    "# setup environment\n",
    "env = RTBEnv(random_state=random_state)"
   ]
  },
  {
   "cell_type": "code",
   "execution_count": 12,
   "metadata": {},
   "outputs": [],
   "source": [
    "# define a random agent\n",
    "agent = OnlineHead(\n",
    "    ContinuousRandomPolicy(\n",
    "        action_scaler=MinMaxActionScaler(\n",
    "            minimum=0.1,  # minimum value that policy can take\n",
    "            maximum=10,  # maximum value that policy can take\n",
    "        )\n",
    "    )\n",
    ")"
   ]
  },
  {
   "cell_type": "code",
   "execution_count": 13,
   "metadata": {},
   "outputs": [],
   "source": [
    "# interact agent with the environment\n",
    "# only 6 lines are needed for RL interaction\n",
    "for episode in range(10):\n",
    "    obs = env.reset()\n",
    "    done = False\n",
    "\n",
    "    while not done:\n",
    "        action = agent.predict_online(obs)\n",
    "        obs, reward, done, info = env.step(action)"
   ]
  },
  {
   "cell_type": "code",
   "execution_count": 14,
   "metadata": {},
   "outputs": [
    {
     "name": "stdout",
     "output_type": "stream",
     "text": [
      "['timestep', 'remaining_budget', 'budget_consumption_rate', 'cost_per_mille_of_impression', 'winning_rate', 'reward', 'adjust_rate']\n",
      "(7,)\n"
     ]
    }
   ],
   "source": [
    "# state contains the following feedback from the environment\n",
    "print(env.obs_keys)\n",
    "print(obs.shape)"
   ]
  },
  {
   "cell_type": "code",
   "execution_count": 15,
   "metadata": {},
   "outputs": [
    {
     "data": {
      "image/png": "[encoded data removed]",
      "text/plain": [
       "<Figure size 432x288 with 2 Axes>"
      ]
     },
     "metadata": {
      "needs_background": "light"
     },
     "output_type": "display_data"
    }
   ],
   "source": [
    "# let's visualize the transition of the remaining budget and cumulative reward\n",
    "# our goal is to obtain a policy (or an agent) that maximizes the cumulative reward under budget constraints using RL.  \n",
    "obs = env.reset()\n",
    "done = False\n",
    "remaining_budget = [obs[1]]\n",
    "cumulative_reward = [0]\n",
    "\n",
    "while not done:\n",
    "    action = agent.predict_online(obs)\n",
    "    obs, reward, done, info = env.step(action)\n",
    "    remaining_budget.append(obs[1])\n",
    "    cumulative_reward.append(cumulative_reward[-1] + reward)\n",
    "\n",
    "# plot\n",
    "fig = plt.figure()\n",
    "ax1 = fig.add_subplot(111)\n",
    "ax1.plot(remaining_budget[:-1], label='remaining budget')\n",
    "ax2 = ax1.twinx()\n",
    "ax2.plot(cumulative_reward[:-1], label='cumulative reward', color='tab:orange')\n",
    "ax1.set_xlabel('timestep')\n",
    "ax1.set_ylabel('remainig budget')\n",
    "ax1.set_ylim(0, env.initial_budget + 100)\n",
    "ax2.set_ylabel('reward (coversion)')\n",
    "ax1.legend(loc='upper left')\n",
    "ax2.legend(loc='upper right')\n",
    "plt.show()"
   ]
  },
  {
   "cell_type": "markdown",
   "metadata": {},
   "source": [
    "We see that the random policy run out the budget quickly.  \n",
    "Our goal is to derive a policy that controls the adjust rate (i.e., action) to maximize the reward within the given budget constraints.\n",
    "\n",
    "For more about the environmental configurations and customization, please refer to [examples/quickstart/rtb_synthetic_customize_env.ipynb](https://github.com/negocia-inc/rtb_reinforcement_learing/blob/ope/examples/quickstart/rtb_synthetic_customize_env.ipynb)."
   ]
  },
  {
   "cell_type": "markdown",
   "metadata": {},
   "source": [
    "#### Online RL and comparison of the policies\n",
    "We now learn an online RL policy and compare it to the random policy, using on-policy policy estimation."
   ]
  },
  {
   "cell_type": "code",
   "execution_count": 19,
   "metadata": {},
   "outputs": [
    {
     "name": "stdout",
     "output_type": "stream",
     "text": [
      "[ 0.1         0.16681005  0.27825594  0.46415888  0.77426368  1.29154967\n",
      "  2.15443469  3.59381366  5.9948425  10.        ]\n"
     ]
    }
   ],
   "source": [
    "# standardized environment for discrete action\n",
    "env = gym.make(\"RTBEnv-discrete-v0\")\n",
    "print(env.action_meaning)"
   ]
  },
  {
   "cell_type": "code",
   "execution_count": 20,
   "metadata": {},
   "outputs": [],
   "source": [
    "from d3rlpy.algos import DoubleDQN\n",
    "from d3rlpy.models.encoders import VectorEncoderFactory\n",
    "from d3rlpy.models.q_functions import MeanQFunctionFactory\n",
    "from d3rlpy.online.buffers import ReplayBuffer\n",
    "from d3rlpy.online.explorers import LinearDecayEpsilonGreedy\n",
    "\n",
    "# model\n",
    "ddqn = DoubleDQN(\n",
    "    encoder_factory=VectorEncoderFactory(hidden_units=[30, 30]),\n",
    "    q_func_factory=MeanQFunctionFactory(),\n",
    "    target_update_interval=100,\n",
    "    use_gpu=torch.cuda.is_available(),\n",
    ")\n",
    "# replay buffer\n",
    "buffer = ReplayBuffer(\n",
    "    maxlen=10000,\n",
    "    env=env,\n",
    ")\n",
    "# explorers\n",
    "explorer = LinearDecayEpsilonGreedy(\n",
    "    start_epsilon=1.0,\n",
    "    end_epsilon=0.3,\n",
    "    duration=1000,\n",
    ")"
   ]
  },
  {
   "cell_type": "code",
   "execution_count": 21,
   "metadata": {},
   "outputs": [
    {
     "name": "stdout",
     "output_type": "stream",
     "text": [
      "2022-10-26 09:15.40 [info     ] Directory is created at d3rlpy_logs/DoubleDQN_online_20221026091540\n",
      "2022-10-26 09:15.40 [debug    ] Building model...\n",
      "2022-10-26 09:15.40 [debug    ] Model has been built.\n",
      "2022-10-26 09:15.40 [info     ] Parameters are saved to d3rlpy_logs/DoubleDQN_online_20221026091540/params.json params={'action_scaler': None, 'batch_size': 32, 'encoder_factory': {'type': 'vector', 'params': {'hidden_units': [30, 30], 'activation': 'relu', 'use_batch_norm': False, 'dropout_rate': None, 'use_dense': False}}, 'gamma': 0.99, 'generated_maxlen': 100000, 'learning_rate': 6.25e-05, 'n_critics': 1, 'n_frames': 1, 'n_steps': 1, 'optim_factory': {'optim_cls': 'Adam', 'betas': (0.9, 0.999), 'eps': 1e-08, 'weight_decay': 0, 'amsgrad': False}, 'q_func_factory': {'type': 'mean', 'params': {'share_encoder': False}}, 'real_ratio': 1.0, 'reward_scaler': None, 'scaler': None, 'target_update_interval': 100, 'use_gpu': None, 'algorithm': 'DoubleDQN', 'observation_shape': (7,), 'action_size': 10}\n"
     ]
    },
    {
     "data": {
      "application/vnd.jupyter.widget-view+json": {
       "model_id": "7ddef4af6aad4efeaa359e907dc6f2af",
       "version_major": 2,
       "version_minor": 0
      },
      "text/plain": [
       "  0%|          | 0/100000 [00:00<?, ?it/s]"
      ]
     },
     "metadata": {},
     "output_type": "display_data"
    },
    {
     "name": "stdout",
     "output_type": "stream",
     "text": [
      "2022-10-26 09:15.42 [info     ] Model parameters are saved to d3rlpy_logs/DoubleDQN_online_20221026091540/model_1000.pt\n",
      "2022-10-26 09:15.42 [info     ] DoubleDQN_online_20221026091540: epoch=1 step=1000 epoch=1 metrics={'time_inference': 0.0005766105651855469, 'time_environment_step': 0.0010785808563232421, 'time_step': 0.0017241456508636475, 'rollout_return': 9.56338028169014, 'evaluation': 0.0} step=1000\n",
      "2022-10-26 09:15.47 [info     ] Model parameters are saved to d3rlpy_logs/DoubleDQN_online_20221026091540/model_2000.pt\n",
      "2022-10-26 09:15.47 [info     ] DoubleDQN_online_20221026091540: epoch=2 step=2000 epoch=2 metrics={'time_inference': 0.0005692384243011475, 'time_environment_step': 0.0010851664543151856, 'time_sample_batch': 0.0001356675624847412, 'time_algorithm_update': 0.003538487195968628, 'loss': 59.68317970371246, 'time_step': 0.005428056478500367, 'rollout_return': 9.80281690140845, 'evaluation': 0.0} step=2000\n",
      "2022-10-26 09:15.52 [info     ] Model parameters are saved to d3rlpy_logs/DoubleDQN_online_20221026091540/model_3000.pt\n",
      "2022-10-26 09:15.52 [info     ] DoubleDQN_online_20221026091540: epoch=3 step=3000 epoch=3 metrics={'time_inference': 0.0005003812313079834, 'time_environment_step': 0.001002770185470581, 'time_sample_batch': 0.0001185591220855713, 'time_algorithm_update': 0.002853208065032959, 'loss': 11.165724806547164, 'time_step': 0.004571107149124146, 'rollout_return': 6.056338028169014, 'evaluation': 0.0} step=3000\n",
      "2022-10-26 09:15.56 [info     ] Model parameters are saved to d3rlpy_logs/DoubleDQN_online_20221026091540/model_4000.pt\n",
      "2022-10-26 09:15.56 [info     ] DoubleDQN_online_20221026091540: epoch=4 step=4000 epoch=4 metrics={'time_inference': 0.0004879789352416992, 'time_environment_step': 0.0009964690208435058, 'time_sample_batch': 0.00011762142181396484, 'time_algorithm_update': 0.0024858314990997316, 'loss': 9.62228787255287, 'time_step': 0.0041754510402679445, 'rollout_return': 4.690140845070423, 'evaluation': 0.0} step=4000\n",
      "2022-10-26 09:16.01 [info     ] Model parameters are saved to d3rlpy_logs/DoubleDQN_online_20221026091540/model_5000.pt\n",
      "2022-10-26 09:16.01 [info     ] DoubleDQN_online_20221026091540: epoch=5 step=5000 epoch=5 metrics={'time_inference': 0.00047870755195617676, 'time_environment_step': 0.0009740192890167237, 'time_sample_batch': 0.00012048244476318359, 'time_algorithm_update': 0.002704902648925781, 'loss': 8.55475125670433, 'time_step': 0.004364764451980591, 'rollout_return': 6.091549295774648, 'evaluation': 0.0} step=5000\n",
      "2022-10-26 09:16.06 [info     ] Model parameters are saved to d3rlpy_logs/DoubleDQN_online_20221026091540/model_6000.pt\n",
      "2022-10-26 09:16.06 [info     ] DoubleDQN_online_20221026091540: epoch=6 step=6000 epoch=6 metrics={'time_inference': 0.0004995558261871338, 'time_environment_step': 0.0009966740608215333, 'time_sample_batch': 0.00011808872222900391, 'time_algorithm_update': 0.0029100441932678224, 'loss': 7.33532792031765, 'time_step': 0.0046125583648681644, 'rollout_return': 6.901408450704225, 'evaluation': 0.0} step=6000\n",
      "2022-10-26 09:16.10 [info     ] Model parameters are saved to d3rlpy_logs/DoubleDQN_online_20221026091540/model_7000.pt\n",
      "2022-10-26 09:16.10 [info     ] DoubleDQN_online_20221026091540: epoch=7 step=7000 epoch=7 metrics={'time_inference': 0.00045855069160461424, 'time_environment_step': 0.0009480798244476318, 'time_sample_batch': 0.00011824655532836914, 'time_algorithm_update': 0.002511950969696045, 'loss': 5.462789878606796, 'time_step': 0.004121136426925659, 'rollout_return': 6.563380281690141, 'evaluation': 0.5} step=7000\n",
      "2022-10-26 09:16.15 [info     ] Model parameters are saved to d3rlpy_logs/DoubleDQN_online_20221026091540/model_8000.pt\n",
      "2022-10-26 09:16.15 [info     ] DoubleDQN_online_20221026091540: epoch=8 step=8000 epoch=8 metrics={'time_inference': 0.0004881861209869385, 'time_environment_step': 0.0009677035808563232, 'time_sample_batch': 0.00011654758453369141, 'time_algorithm_update': 0.0028252463340759275, 'loss': 4.371755747079849, 'time_step': 0.004486557722091675, 'rollout_return': 8.464788732394366, 'evaluation': 6.9} step=8000\n",
      "2022-10-26 09:16.20 [info     ] Model parameters are saved to d3rlpy_logs/DoubleDQN_online_20221026091540/model_9000.pt\n",
      "2022-10-26 09:16.20 [info     ] DoubleDQN_online_20221026091540: epoch=9 step=9000 epoch=9 metrics={'time_inference': 0.000559281587600708, 'time_environment_step': 0.001046135663986206, 'time_sample_batch': 0.00012639760971069335, 'time_algorithm_update': 0.0036897776126861574, 'loss': 3.3244451574087144, 'time_step': 0.005514427423477173, 'rollout_return': 9.535211267605634, 'evaluation': 9.5} step=9000\n",
      "2022-10-26 09:16.25 [info     ] Model parameters are saved to d3rlpy_logs/DoubleDQN_online_20221026091540/model_10000.pt\n",
      "2022-10-26 09:16.25 [info     ] DoubleDQN_online_20221026091540: epoch=10 step=10000 epoch=10 metrics={'time_inference': 0.0005513877868652344, 'time_environment_step': 0.0010930438041687012, 'time_sample_batch': 0.00013535070419311523, 'time_algorithm_update': 0.0026529219150543213, 'loss': 2.6226941861510276, 'time_step': 0.004533022880554199, 'rollout_return': 11.32394366197183, 'evaluation': 12.9} step=10000\n",
      "2022-10-26 09:16.29 [info     ] Model parameters are saved to d3rlpy_logs/DoubleDQN_online_20221026091540/model_11000.pt\n",
      "2022-10-26 09:16.29 [info     ] DoubleDQN_online_20221026091540: epoch=11 step=11000 epoch=11 metrics={'time_inference': 0.0004759335517883301, 'time_environment_step': 0.0009795846939086915, 'time_sample_batch': 0.00011560535430908203, 'time_algorithm_update': 0.0025150418281555177, 'loss': 2.42502038949728, 'time_step': 0.004176748037338257, 'rollout_return': 11.67605633802817, 'evaluation': 5.3} step=11000\n",
      "2022-10-26 09:16.33 [info     ] Model parameters are saved to d3rlpy_logs/DoubleDQN_online_20221026091540/model_12000.pt\n",
      "2022-10-26 09:16.33 [info     ] DoubleDQN_online_20221026091540: epoch=12 step=12000 epoch=12 metrics={'time_inference': 0.00044648551940917967, 'time_environment_step': 0.0008992276191711426, 'time_sample_batch': 0.00011554145812988281, 'time_algorithm_update': 0.0021715712547302245, 'loss': 2.1531445277929304, 'time_step': 0.0037155985832214356, 'rollout_return': 13.345070422535212, 'evaluation': 0.0} step=12000\n",
      "2022-10-26 09:16.37 [info     ] Model parameters are saved to d3rlpy_logs/DoubleDQN_online_20221026091540/model_13000.pt\n",
      "2022-10-26 09:16.37 [info     ] DoubleDQN_online_20221026091540: epoch=13 step=13000 epoch=13 metrics={'time_inference': 0.0004597680568695068, 'time_environment_step': 0.0009088289737701416, 'time_sample_batch': 0.00011148858070373536, 'time_algorithm_update': 0.0024215383529663085, 'loss': 1.917759577035904, 'time_step': 0.003983726263046264, 'rollout_return': 13.464788732394366, 'evaluation': 14.5} step=13000\n",
      "2022-10-26 09:16.42 [info     ] Model parameters are saved to d3rlpy_logs/DoubleDQN_online_20221026091540/model_14000.pt\n",
      "2022-10-26 09:16.42 [info     ] DoubleDQN_online_20221026091540: epoch=14 step=14000 epoch=14 metrics={'time_inference': 0.000460566520690918, 'time_environment_step': 0.0009302549362182617, 'time_sample_batch': 0.00011845827102661133, 'time_algorithm_update': 0.002409876108169556, 'loss': 1.6420430032610893, 'time_step': 0.004005731821060181, 'rollout_return': 14.140845070422536, 'evaluation': 11.8} step=14000\n",
      "2022-10-26 09:16.46 [info     ] Model parameters are saved to d3rlpy_logs/DoubleDQN_online_20221026091540/model_15000.pt\n",
      "2022-10-26 09:16.46 [info     ] DoubleDQN_online_20221026091540: epoch=15 step=15000 epoch=15 metrics={'time_inference': 0.00046103715896606446, 'time_environment_step': 0.000930457592010498, 'time_sample_batch': 0.00011567234992980958, 'time_algorithm_update': 0.002356327772140503, 'loss': 1.6508736183047295, 'time_step': 0.003947449445724487, 'rollout_return': 14.443661971830986, 'evaluation': 15.5} step=15000\n",
      "2022-10-26 09:16.49 [info     ] Model parameters are saved to d3rlpy_logs/DoubleDQN_online_20221026091540/model_16000.pt\n",
      "2022-10-26 09:16.49 [info     ] DoubleDQN_online_20221026091540: epoch=16 step=16000 epoch=16 metrics={'time_inference': 0.0003943648338317871, 'time_environment_step': 0.0008221068382263184, 'time_sample_batch': 0.0001023714542388916, 'time_algorithm_update': 0.0018237507343292236, 'loss': 1.5575533098876477, 'time_step': 0.003220594644546509, 'rollout_return': 14.119718309859154, 'evaluation': 17.0} step=16000\n",
      "2022-10-26 09:16.53 [info     ] Model parameters are saved to d3rlpy_logs/DoubleDQN_online_20221026091540/model_17000.pt\n",
      "2022-10-26 09:16.53 [info     ] DoubleDQN_online_20221026091540: epoch=17 step=17000 epoch=17 metrics={'time_inference': 0.0004809699058532715, 'time_environment_step': 0.0009355041980743409, 'time_sample_batch': 0.0001169898509979248, 'time_algorithm_update': 0.002397796869277954, 'loss': 1.4094483686089516, 'time_step': 0.004019252061843872, 'rollout_return': 13.633802816901408, 'evaluation': 15.5} step=17000\n",
      "2022-10-26 09:16.58 [info     ] Model parameters are saved to d3rlpy_logs/DoubleDQN_online_20221026091540/model_18000.pt\n",
      "2022-10-26 09:16.58 [info     ] DoubleDQN_online_20221026091540: epoch=18 step=18000 epoch=18 metrics={'time_inference': 0.0005311095714569092, 'time_environment_step': 0.0010614521503448486, 'time_sample_batch': 0.00012468457221984864, 'time_algorithm_update': 0.002887424468994141, 'loss': 1.3081212739050387, 'time_step': 0.004699896335601807, 'rollout_return': 12.929577464788732, 'evaluation': 13.1} step=18000\n",
      "2022-10-26 09:17.04 [info     ] Model parameters are saved to d3rlpy_logs/DoubleDQN_online_20221026091540/model_19000.pt\n",
      "2022-10-26 09:17.04 [info     ] DoubleDQN_online_20221026091540: epoch=19 step=19000 epoch=19 metrics={'time_inference': 0.0005648310184478759, 'time_environment_step': 0.0010117394924163818, 'time_sample_batch': 0.00012606906890869142, 'time_algorithm_update': 0.003449883222579956, 'loss': 1.2240621136128902, 'time_step': 0.0052453818321228024, 'rollout_return': 13.154929577464788, 'evaluation': 14.8} step=19000\n",
      "2022-10-26 09:17.08 [info     ] Model parameters are saved to d3rlpy_logs/DoubleDQN_online_20221026091540/model_20000.pt\n",
      "2022-10-26 09:17.08 [info     ] DoubleDQN_online_20221026091540: epoch=20 step=20000 epoch=20 metrics={'time_inference': 0.0004924640655517578, 'time_environment_step': 0.0009683220386505127, 'time_sample_batch': 0.0001192479133605957, 'time_algorithm_update': 0.0024980409145355224, 'loss': 1.1210606418401003, 'time_step': 0.004166347503662109, 'rollout_return': 13.71830985915493, 'evaluation': 16.2} step=20000\n",
      "2022-10-26 09:17.12 [info     ] Model parameters are saved to d3rlpy_logs/DoubleDQN_online_20221026091540/model_21000.pt\n",
      "2022-10-26 09:17.12 [info     ] DoubleDQN_online_20221026091540: epoch=21 step=21000 epoch=21 metrics={'time_inference': 0.00046437501907348633, 'time_environment_step': 0.0009120268821716309, 'time_sample_batch': 0.00012169981002807618, 'time_algorithm_update': 0.0027037861347198487, 'loss': 1.0913922157287597, 'time_step': 0.004286533117294312, 'rollout_return': 13.45774647887324, 'evaluation': 16.9} step=21000\n",
      "2022-10-26 09:17.18 [info     ] Model parameters are saved to d3rlpy_logs/DoubleDQN_online_20221026091540/model_22000.pt\n",
      "2022-10-26 09:17.18 [info     ] DoubleDQN_online_20221026091540: epoch=22 step=22000 epoch=22 metrics={'time_inference': 0.0006188652515411377, 'time_environment_step': 0.00115122652053833, 'time_sample_batch': 0.00012473416328430176, 'time_algorithm_update': 0.0036101536750793458, 'loss': 1.0453044796288014, 'time_step': 0.00561785888671875, 'rollout_return': 13.873239436619718, 'evaluation': 16.5} step=22000\n",
      "2022-10-26 09:17.22 [info     ] Model parameters are saved to d3rlpy_logs/DoubleDQN_online_20221026091540/model_23000.pt\n",
      "2022-10-26 09:17.22 [info     ] DoubleDQN_online_20221026091540: epoch=23 step=23000 epoch=23 metrics={'time_inference': 0.00044763946533203126, 'time_environment_step': 0.0009260642528533936, 'time_sample_batch': 0.00011207056045532226, 'time_algorithm_update': 0.0021766908168792723, 'loss': 1.050546172052622, 'time_step': 0.003747943162918091, 'rollout_return': 13.859154929577464, 'evaluation': 15.1} step=23000\n",
      "2022-10-26 09:17.27 [info     ] Model parameters are saved to d3rlpy_logs/DoubleDQN_online_20221026091540/model_24000.pt\n",
      "2022-10-26 09:17.27 [info     ] DoubleDQN_online_20221026091540: epoch=24 step=24000 epoch=24 metrics={'time_inference': 0.0005408146381378174, 'time_environment_step': 0.0010516974925994873, 'time_sample_batch': 0.0001295809745788574, 'time_algorithm_update': 0.002591775894165039, 'loss': 1.102811913371086, 'time_step': 0.004412724018096924, 'rollout_return': 12.788732394366198, 'evaluation': 7.4} step=24000\n",
      "2022-10-26 09:17.31 [info     ] Model parameters are saved to d3rlpy_logs/DoubleDQN_online_20221026091540/model_25000.pt\n",
      "2022-10-26 09:17.31 [info     ] DoubleDQN_online_20221026091540: epoch=25 step=25000 epoch=25 metrics={'time_inference': 0.0005032224655151367, 'time_environment_step': 0.0009963855743408204, 'time_sample_batch': 0.00012035465240478515, 'time_algorithm_update': 0.0023526206016540527, 'loss': 1.0935459406375885, 'time_step': 0.004064138650894165, 'rollout_return': 12.880281690140846, 'evaluation': 14.4} step=25000\n",
      "2022-10-26 09:17.35 [info     ] Model parameters are saved to d3rlpy_logs/DoubleDQN_online_20221026091540/model_26000.pt\n",
      "2022-10-26 09:17.35 [info     ] DoubleDQN_online_20221026091540: epoch=26 step=26000 epoch=26 metrics={'time_inference': 0.00046111512184143067, 'time_environment_step': 0.0009602320194244385, 'time_sample_batch': 0.00011599373817443847, 'time_algorithm_update': 0.0021583092212677, 'loss': 1.0916360338330269, 'time_step': 0.0037842626571655273, 'rollout_return': 14.070422535211268, 'evaluation': 14.9} step=26000\n",
      "2022-10-26 09:17.39 [info     ] Model parameters are saved to d3rlpy_logs/DoubleDQN_online_20221026091540/model_27000.pt\n",
      "2022-10-26 09:17.39 [info     ] DoubleDQN_online_20221026091540: epoch=27 step=27000 epoch=27 metrics={'time_inference': 0.0004929211139678955, 'time_environment_step': 0.0009675614833831787, 'time_sample_batch': 0.00012302136421203614, 'time_algorithm_update': 0.002309325456619263, 'loss': 1.0945087279379369, 'time_step': 0.003984712600708008, 'rollout_return': 13.78169014084507, 'evaluation': 16.1} step=27000\n",
      "2022-10-26 09:17.43 [info     ] Model parameters are saved to d3rlpy_logs/DoubleDQN_online_20221026091540/model_28000.pt\n",
      "2022-10-26 09:17.43 [info     ] DoubleDQN_online_20221026091540: epoch=28 step=28000 epoch=28 metrics={'time_inference': 0.0004708747863769531, 'time_environment_step': 0.0009339554309844971, 'time_sample_batch': 0.00011789321899414063, 'time_algorithm_update': 0.0022725582122802733, 'loss': 1.1674162603318692, 'time_step': 0.0038895227909088136, 'rollout_return': 13.422535211267606, 'evaluation': 17.0} step=28000\n",
      "2022-10-26 09:17.47 [info     ] Model parameters are saved to d3rlpy_logs/DoubleDQN_online_20221026091540/model_29000.pt\n",
      "2022-10-26 09:17.47 [info     ] DoubleDQN_online_20221026091540: epoch=29 step=29000 epoch=29 metrics={'time_inference': 0.0004407167434692383, 'time_environment_step': 0.0008985030651092529, 'time_sample_batch': 0.0001116487979888916, 'time_algorithm_update': 0.0021055707931518556, 'loss': 1.0785263970792294, 'time_step': 0.0036404595375061034, 'rollout_return': 14.232394366197184, 'evaluation': 17.0} step=29000\n",
      "2022-10-26 09:17.51 [info     ] Model parameters are saved to d3rlpy_logs/DoubleDQN_online_20221026091540/model_30000.pt\n",
      "2022-10-26 09:17.51 [info     ] DoubleDQN_online_20221026091540: epoch=30 step=30000 epoch=30 metrics={'time_inference': 0.00047397398948669433, 'time_environment_step': 0.0009177932739257812, 'time_sample_batch': 0.00011049747467041015, 'time_algorithm_update': 0.002321941375732422, 'loss': 1.0390246766507625, 'time_step': 0.003907783746719361, 'rollout_return': 14.78169014084507, 'evaluation': 14.8} step=30000\n",
      "2022-10-26 09:17.55 [info     ] Model parameters are saved to d3rlpy_logs/DoubleDQN_online_20221026091540/model_31000.pt\n",
      "2022-10-26 09:17.55 [info     ] DoubleDQN_online_20221026091540: epoch=31 step=31000 epoch=31 metrics={'time_inference': 0.0004842813014984131, 'time_environment_step': 0.0009903779029846191, 'time_sample_batch': 0.00012131905555725097, 'time_algorithm_update': 0.002357609748840332, 'loss': 1.0203696511387825, 'time_step': 0.004043860673904419, 'rollout_return': 14.640845070422536, 'evaluation': 17.2} step=31000\n",
      "2022-10-26 09:17.59 [info     ] Model parameters are saved to d3rlpy_logs/DoubleDQN_online_20221026091540/model_32000.pt\n",
      "2022-10-26 09:17.59 [info     ] DoubleDQN_online_20221026091540: epoch=32 step=32000 epoch=32 metrics={'time_inference': 0.00042775392532348635, 'time_environment_step': 0.0008657915592193604, 'time_sample_batch': 0.00011421465873718261, 'time_algorithm_update': 0.0020931482315063475, 'loss': 1.0089786533415317, 'time_step': 0.003582092523574829, 'rollout_return': 14.612676056338028, 'evaluation': 15.2} step=32000\n",
      "2022-10-26 09:18.03 [info     ] Model parameters are saved to d3rlpy_logs/DoubleDQN_online_20221026091540/model_33000.pt\n",
      "2022-10-26 09:18.03 [info     ] DoubleDQN_online_20221026091540: epoch=33 step=33000 epoch=33 metrics={'time_inference': 0.0004644021987915039, 'time_environment_step': 0.0009380106925964356, 'time_sample_batch': 0.00011242341995239258, 'time_algorithm_update': 0.002275196075439453, 'loss': 0.9939998255074024, 'time_step': 0.003877122402191162, 'rollout_return': 14.394366197183098, 'evaluation': 13.9} step=33000\n",
      "2022-10-26 09:18.07 [info     ] Model parameters are saved to d3rlpy_logs/DoubleDQN_online_20221026091540/model_34000.pt\n",
      "2022-10-26 09:18.07 [info     ] DoubleDQN_online_20221026091540: epoch=34 step=34000 epoch=34 metrics={'time_inference': 0.00048775458335876463, 'time_environment_step': 0.0009573707580566406, 'time_sample_batch': 0.00012269306182861327, 'time_algorithm_update': 0.002486923933029175, 'loss': 0.9539268277883529, 'time_step': 0.0041438302993774415, 'rollout_return': 14.514084507042254, 'evaluation': 13.4} step=34000\n",
      "2022-10-26 09:18.11 [info     ] Model parameters are saved to d3rlpy_logs/DoubleDQN_online_20221026091540/model_35000.pt\n",
      "2022-10-26 09:18.11 [info     ] DoubleDQN_online_20221026091540: epoch=35 step=35000 epoch=35 metrics={'time_inference': 0.000495924711227417, 'time_environment_step': 0.0009606382846832275, 'time_sample_batch': 0.00011749625205993652, 'time_algorithm_update': 0.0023803558349609374, 'loss': 0.9196931110769511, 'time_step': 0.0040464048385620115, 'rollout_return': 14.661971830985916, 'evaluation': 12.9} step=35000\n",
      "2022-10-26 09:18.15 [info     ] Model parameters are saved to d3rlpy_logs/DoubleDQN_online_20221026091540/model_36000.pt\n",
      "2022-10-26 09:18.15 [info     ] DoubleDQN_online_20221026091540: epoch=36 step=36000 epoch=36 metrics={'time_inference': 0.0004327898025512695, 'time_environment_step': 0.000865839958190918, 'time_sample_batch': 0.00011416006088256836, 'time_algorithm_update': 0.002002094268798828, 'loss': 0.8724952091574669, 'time_step': 0.0034992027282714842, 'rollout_return': 14.464788732394366, 'evaluation': 16.8} step=36000\n",
      "2022-10-26 09:18.20 [info     ] Model parameters are saved to d3rlpy_logs/DoubleDQN_online_20221026091540/model_37000.pt\n",
      "2022-10-26 09:18.20 [info     ] DoubleDQN_online_20221026091540: epoch=37 step=37000 epoch=37 metrics={'time_inference': 0.0005398235321044922, 'time_environment_step': 0.0010543813705444335, 'time_sample_batch': 0.00012516188621520996, 'time_algorithm_update': 0.002612093448638916, 'loss': 0.850484998345375, 'time_step': 0.004426786422729492, 'rollout_return': 14.753521126760564, 'evaluation': 14.0} step=37000\n",
      "2022-10-26 09:18.23 [info     ] Model parameters are saved to d3rlpy_logs/DoubleDQN_online_20221026091540/model_38000.pt\n",
      "2022-10-26 09:18.23 [info     ] DoubleDQN_online_20221026091540: epoch=38 step=38000 epoch=38 metrics={'time_inference': 0.0004507150650024414, 'time_environment_step': 0.0009041006565093994, 'time_sample_batch': 0.00010912752151489258, 'time_algorithm_update': 0.0022001819610595703, 'loss': 0.8516162677109241, 'time_step': 0.003745845317840576, 'rollout_return': 14.45774647887324, 'evaluation': 16.7} step=38000\n",
      "2022-10-26 09:18.28 [info     ] Model parameters are saved to d3rlpy_logs/DoubleDQN_online_20221026091540/model_39000.pt\n",
      "2022-10-26 09:18.28 [info     ] DoubleDQN_online_20221026091540: epoch=39 step=39000 epoch=39 metrics={'time_inference': 0.0004641568660736084, 'time_environment_step': 0.0009289367198944092, 'time_sample_batch': 0.00011889433860778808, 'time_algorithm_update': 0.00231443452835083, 'loss': 0.8207725034356117, 'time_step': 0.003916224956512451, 'rollout_return': 14.612676056338028, 'evaluation': 16.6} step=39000\n",
      "2022-10-26 09:18.31 [info     ] Model parameters are saved to d3rlpy_logs/DoubleDQN_online_20221026091540/model_40000.pt\n",
      "2022-10-26 09:18.31 [info     ] DoubleDQN_online_20221026091540: epoch=40 step=40000 epoch=40 metrics={'time_inference': 0.0004149298667907715, 'time_environment_step': 0.0008321585655212402, 'time_sample_batch': 0.00010303831100463867, 'time_algorithm_update': 0.0019156644344329834, 'loss': 0.8086046383678913, 'time_step': 0.0033471415042877197, 'rollout_return': 14.929577464788732, 'evaluation': 15.0} step=40000\n",
      "2022-10-26 09:18.35 [info     ] Model parameters are saved to d3rlpy_logs/DoubleDQN_online_20221026091540/model_41000.pt\n",
      "2022-10-26 09:18.35 [info     ] DoubleDQN_online_20221026091540: epoch=41 step=41000 epoch=41 metrics={'time_inference': 0.00045240426063537597, 'time_environment_step': 0.0008956480026245117, 'time_sample_batch': 0.00011033844947814942, 'time_algorithm_update': 0.002247285604476929, 'loss': 0.8135783059298992, 'time_step': 0.003792440176010132, 'rollout_return': 14.570422535211268, 'evaluation': 9.8} step=41000\n",
      "2022-10-26 09:18.39 [info     ] Model parameters are saved to d3rlpy_logs/DoubleDQN_online_20221026091540/model_42000.pt\n",
      "2022-10-26 09:18.39 [info     ] DoubleDQN_online_20221026091540: epoch=42 step=42000 epoch=42 metrics={'time_inference': 0.0004916365146636963, 'time_environment_step': 0.0010001955032348632, 'time_sample_batch': 0.00012490534782409667, 'time_algorithm_update': 0.0024590458869934084, 'loss': 0.804277194917202, 'time_step': 0.004166522264480591, 'rollout_return': 14.471830985915492, 'evaluation': 15.8} step=42000\n",
      "2022-10-26 09:18.43 [info     ] Model parameters are saved to d3rlpy_logs/DoubleDQN_online_20221026091540/model_43000.pt\n",
      "2022-10-26 09:18.43 [info     ] DoubleDQN_online_20221026091540: epoch=43 step=43000 epoch=43 metrics={'time_inference': 0.0004153244495391846, 'time_environment_step': 0.0008450117111206054, 'time_sample_batch': 0.0001072249412536621, 'time_algorithm_update': 0.0019858536720275878, 'loss': 0.8270463082045316, 'time_step': 0.0034311699867248537, 'rollout_return': 14.450704225352112, 'evaluation': 16.1} step=43000\n",
      "2022-10-26 09:18.47 [info     ] Model parameters are saved to d3rlpy_logs/DoubleDQN_online_20221026091540/model_44000.pt\n",
      "2022-10-26 09:18.47 [info     ] DoubleDQN_online_20221026091540: epoch=44 step=44000 epoch=44 metrics={'time_inference': 0.000454890251159668, 'time_environment_step': 0.0009008185863494873, 'time_sample_batch': 0.00011003780364990234, 'time_algorithm_update': 0.0021519689559936525, 'loss': 0.8143272441327571, 'time_step': 0.0037009265422821044, 'rollout_return': 14.922535211267606, 'evaluation': 15.3} step=44000\n",
      "2022-10-26 09:18.50 [info     ] Model parameters are saved to d3rlpy_logs/DoubleDQN_online_20221026091540/model_45000.pt\n",
      "2022-10-26 09:18.50 [info     ] DoubleDQN_online_20221026091540: epoch=45 step=45000 epoch=45 metrics={'time_inference': 0.0004331860542297363, 'time_environment_step': 0.0008769538402557373, 'time_sample_batch': 0.00011267304420471191, 'time_algorithm_update': 0.002008878469467163, 'loss': 0.7988327585756779, 'time_step': 0.003510053873062134, 'rollout_return': 14.640845070422536, 'evaluation': 14.2} step=45000\n",
      "2022-10-26 09:18.54 [info     ] Model parameters are saved to d3rlpy_logs/DoubleDQN_online_20221026091540/model_46000.pt\n",
      "2022-10-26 09:18.54 [info     ] DoubleDQN_online_20221026091540: epoch=46 step=46000 epoch=46 metrics={'time_inference': 0.0004607393741607666, 'time_environment_step': 0.0009220077991485596, 'time_sample_batch': 0.00011447691917419434, 'time_algorithm_update': 0.0022579615116119383, 'loss': 0.8370202089101076, 'time_step': 0.0038423542976379396, 'rollout_return': 14.76056338028169, 'evaluation': 14.8} step=46000\n",
      "2022-10-26 09:18.59 [info     ] Model parameters are saved to d3rlpy_logs/DoubleDQN_online_20221026091540/model_47000.pt\n",
      "2022-10-26 09:18.59 [info     ] DoubleDQN_online_20221026091540: epoch=47 step=47000 epoch=47 metrics={'time_inference': 0.0004535961151123047, 'time_environment_step': 0.0008875997066497802, 'time_sample_batch': 0.00011083197593688965, 'time_algorithm_update': 0.002505361557006836, 'loss': 0.8209160238951445, 'time_step': 0.0040378692150115966, 'rollout_return': 14.774647887323944, 'evaluation': 13.3} step=47000\n",
      "2022-10-26 09:19.02 [info     ] Model parameters are saved to d3rlpy_logs/DoubleDQN_online_20221026091540/model_48000.pt\n",
      "2022-10-26 09:19.02 [info     ] DoubleDQN_online_20221026091540: epoch=48 step=48000 epoch=48 metrics={'time_inference': 0.00046615004539489745, 'time_environment_step': 0.0008929581642150879, 'time_sample_batch': 0.00011571121215820312, 'time_algorithm_update': 0.0022066028118133546, 'loss': 0.7971213679015636, 'time_step': 0.0037627553939819335, 'rollout_return': 14.788732394366198, 'evaluation': 16.5} step=48000\n",
      "2022-10-26 09:19.06 [info     ] Model parameters are saved to d3rlpy_logs/DoubleDQN_online_20221026091540/model_49000.pt\n",
      "2022-10-26 09:19.06 [info     ] DoubleDQN_online_20221026091540: epoch=49 step=49000 epoch=49 metrics={'time_inference': 0.00045314669609069824, 'time_environment_step': 0.0009056122303009033, 'time_sample_batch': 0.00011331224441528321, 'time_algorithm_update': 0.0022556555271148683, 'loss': 0.8141437236368656, 'time_step': 0.003810615539550781, 'rollout_return': 14.859154929577464, 'evaluation': 13.2} step=49000\n",
      "2022-10-26 09:19.10 [info     ] Model parameters are saved to d3rlpy_logs/DoubleDQN_online_20221026091540/model_50000.pt\n",
      "2022-10-26 09:19.10 [info     ] DoubleDQN_online_20221026091540: epoch=50 step=50000 epoch=50 metrics={'time_inference': 0.0004298853874206543, 'time_environment_step': 0.0008645150661468506, 'time_sample_batch': 0.00010665011405944824, 'time_algorithm_update': 0.0020744490623474123, 'loss': 0.806860972493887, 'time_step': 0.0035555295944213867, 'rollout_return': 14.626760563380282, 'evaluation': 14.4} step=50000\n",
      "2022-10-26 09:19.14 [info     ] Model parameters are saved to d3rlpy_logs/DoubleDQN_online_20221026091540/model_51000.pt\n",
      "2022-10-26 09:19.14 [info     ] DoubleDQN_online_20221026091540: epoch=51 step=51000 epoch=51 metrics={'time_inference': 0.0004640505313873291, 'time_environment_step': 0.0009196031093597412, 'time_sample_batch': 0.00011492347717285156, 'time_algorithm_update': 0.0022270481586456298, 'loss': 0.8075891342759133, 'time_step': 0.003808835029602051, 'rollout_return': 14.373239436619718, 'evaluation': 15.2} step=51000\n",
      "2022-10-26 09:19.18 [info     ] Model parameters are saved to d3rlpy_logs/DoubleDQN_online_20221026091540/model_52000.pt\n",
      "2022-10-26 09:19.18 [info     ] DoubleDQN_online_20221026091540: epoch=52 step=52000 epoch=52 metrics={'time_inference': 0.00047574377059936523, 'time_environment_step': 0.0009274823665618897, 'time_sample_batch': 0.00011622977256774902, 'time_algorithm_update': 0.002531177043914795, 'loss': 0.8334288095980883, 'time_step': 0.004135729312896729, 'rollout_return': 14.5, 'evaluation': 14.6} step=52000\n",
      "2022-10-26 09:19.23 [info     ] Model parameters are saved to d3rlpy_logs/DoubleDQN_online_20221026091540/model_53000.pt\n",
      "2022-10-26 09:19.23 [info     ] DoubleDQN_online_20221026091540: epoch=53 step=53000 epoch=53 metrics={'time_inference': 0.0004648046493530273, 'time_environment_step': 0.0009115169048309326, 'time_sample_batch': 0.00012642502784729004, 'time_algorithm_update': 0.002644726037979126, 'loss': 0.8332881819307804, 'time_step': 0.00423649001121521, 'rollout_return': 15.007042253521126, 'evaluation': 18.0} step=53000\n",
      "2022-10-26 09:19.28 [info     ] Model parameters are saved to d3rlpy_logs/DoubleDQN_online_20221026091540/model_54000.pt\n",
      "2022-10-26 09:19.28 [info     ] DoubleDQN_online_20221026091540: epoch=54 step=54000 epoch=54 metrics={'time_inference': 0.0004765326976776123, 'time_environment_step': 0.0009111580848693848, 'time_sample_batch': 0.00011788654327392578, 'time_algorithm_update': 0.002929539203643799, 'loss': 0.8019903692603111, 'time_step': 0.004524329423904419, 'rollout_return': 14.711267605633802, 'evaluation': 16.0} step=54000\n",
      "2022-10-26 09:19.33 [info     ] Model parameters are saved to d3rlpy_logs/DoubleDQN_online_20221026091540/model_55000.pt\n",
      "2022-10-26 09:19.33 [info     ] DoubleDQN_online_20221026091540: epoch=55 step=55000 epoch=55 metrics={'time_inference': 0.0005127012729644776, 'time_environment_step': 0.0010182256698608397, 'time_sample_batch': 0.00013256216049194335, 'time_algorithm_update': 0.0032698180675506594, 'loss': 0.7987893432527781, 'time_step': 0.0050328407287597654, 'rollout_return': 14.93661971830986, 'evaluation': 14.5} step=55000\n",
      "2022-10-26 09:19.37 [info     ] Model parameters are saved to d3rlpy_logs/DoubleDQN_online_20221026091540/model_56000.pt\n",
      "2022-10-26 09:19.37 [info     ] DoubleDQN_online_20221026091540: epoch=56 step=56000 epoch=56 metrics={'time_inference': 0.00046650314331054686, 'time_environment_step': 0.0009202160835266114, 'time_sample_batch': 0.0001125936508178711, 'time_algorithm_update': 0.0027000439167022706, 'loss': 0.7962951544523239, 'time_step': 0.004284726619720459, 'rollout_return': 14.971830985915492, 'evaluation': 15.8} step=56000\n",
      "2022-10-26 09:19.42 [info     ] Model parameters are saved to d3rlpy_logs/DoubleDQN_online_20221026091540/model_57000.pt\n",
      "2022-10-26 09:19.42 [info     ] DoubleDQN_online_20221026091540: epoch=57 step=57000 epoch=57 metrics={'time_inference': 0.00046480607986450196, 'time_environment_step': 0.0009557514190673828, 'time_sample_batch': 0.00012554264068603515, 'time_algorithm_update': 0.0034499778747558592, 'loss': 0.7560312886536121, 'time_step': 0.0050804922580719, 'rollout_return': 14.887323943661972, 'evaluation': 14.2} step=57000\n",
      "2022-10-26 09:19.47 [info     ] Model parameters are saved to d3rlpy_logs/DoubleDQN_online_20221026091540/model_58000.pt\n",
      "2022-10-26 09:19.47 [info     ] DoubleDQN_online_20221026091540: epoch=58 step=58000 epoch=58 metrics={'time_inference': 0.0004689922332763672, 'time_environment_step': 0.000982048511505127, 'time_sample_batch': 0.00013503575325012206, 'time_algorithm_update': 0.002784851789474487, 'loss': 0.8157926660627127, 'time_step': 0.004453282356262207, 'rollout_return': 15.056338028169014, 'evaluation': 14.9} step=58000\n",
      "2022-10-26 09:19.52 [info     ] Model parameters are saved to d3rlpy_logs/DoubleDQN_online_20221026091540/model_59000.pt\n",
      "2022-10-26 09:19.52 [info     ] DoubleDQN_online_20221026091540: epoch=59 step=59000 epoch=59 metrics={'time_inference': 0.0004827210903167725, 'time_environment_step': 0.0009342663288116456, 'time_sample_batch': 0.00011419892311096192, 'time_algorithm_update': 0.0028267996311187745, 'loss': 0.7853473491370678, 'time_step': 0.004447134256362915, 'rollout_return': 14.80281690140845, 'evaluation': 15.7} step=59000\n",
      "2022-10-26 09:19.56 [info     ] Model parameters are saved to d3rlpy_logs/DoubleDQN_online_20221026091540/model_60000.pt\n",
      "2022-10-26 09:19.56 [info     ] DoubleDQN_online_20221026091540: epoch=60 step=60000 epoch=60 metrics={'time_inference': 0.00046133899688720705, 'time_environment_step': 0.0009682719707489013, 'time_sample_batch': 0.00011516213417053222, 'time_algorithm_update': 0.0024878292083740233, 'loss': 0.7873278121501207, 'time_step': 0.004119662284851075, 'rollout_return': 15.119718309859154, 'evaluation': 18.9} step=60000\n",
      "2022-10-26 09:20.00 [info     ] Model parameters are saved to d3rlpy_logs/DoubleDQN_online_20221026091540/model_61000.pt\n",
      "2022-10-26 09:20.00 [info     ] DoubleDQN_online_20221026091540: epoch=61 step=61000 epoch=61 metrics={'time_inference': 0.0004945342540740966, 'time_environment_step': 0.0009972476959228516, 'time_sample_batch': 0.0001289684772491455, 'time_algorithm_update': 0.0025295515060424806, 'loss': 0.7764251186847687, 'time_step': 0.004260718107223511, 'rollout_return': 14.528169014084508, 'evaluation': 16.2} step=61000\n",
      "2022-10-26 09:20.05 [info     ] Model parameters are saved to d3rlpy_logs/DoubleDQN_online_20221026091540/model_62000.pt\n",
      "2022-10-26 09:20.05 [info     ] DoubleDQN_online_20221026091540: epoch=62 step=62000 epoch=62 metrics={'time_inference': 0.0004849903583526611, 'time_environment_step': 0.0009285836219787598, 'time_sample_batch': 0.00011827945709228516, 'time_algorithm_update': 0.002485937833786011, 'loss': 0.7526965044140815, 'time_step': 0.004101587057113647, 'rollout_return': 14.577464788732394, 'evaluation': 14.3} step=62000\n",
      "2022-10-26 09:20.08 [info     ] Model parameters are saved to d3rlpy_logs/DoubleDQN_online_20221026091540/model_63000.pt\n",
      "2022-10-26 09:20.08 [info     ] DoubleDQN_online_20221026091540: epoch=63 step=63000 epoch=63 metrics={'time_inference': 0.0004418971538543701, 'time_environment_step': 0.0008743896484375, 'time_sample_batch': 0.00010826706886291504, 'time_algorithm_update': 0.0022005939483642576, 'loss': 0.7544917086213827, 'time_step': 0.0037063775062561037, 'rollout_return': 15.035211267605634, 'evaluation': 14.1} step=63000\n",
      "2022-10-26 09:20.12 [info     ] Model parameters are saved to d3rlpy_logs/DoubleDQN_online_20221026091540/model_64000.pt\n",
      "2022-10-26 09:20.12 [info     ] DoubleDQN_online_20221026091540: epoch=64 step=64000 epoch=64 metrics={'time_inference': 0.00047342896461486815, 'time_environment_step': 0.0009184317588806152, 'time_sample_batch': 0.00011500382423400879, 'time_algorithm_update': 0.002254357576370239, 'loss': 0.7674768362045288, 'time_step': 0.0038494822978973387, 'rollout_return': 14.591549295774648, 'evaluation': 14.0} step=64000\n",
      "2022-10-26 09:20.16 [info     ] Model parameters are saved to d3rlpy_logs/DoubleDQN_online_20221026091540/model_65000.pt\n",
      "2022-10-26 09:20.16 [info     ] DoubleDQN_online_20221026091540: epoch=65 step=65000 epoch=65 metrics={'time_inference': 0.0004695632457733154, 'time_environment_step': 0.0008869063854217529, 'time_sample_batch': 0.00010991287231445312, 'time_algorithm_update': 0.0020992298126220705, 'loss': 0.7693637103885412, 'time_step': 0.0036498575210571287, 'rollout_return': 14.922535211267606, 'evaluation': 15.2} step=65000\n",
      "2022-10-26 09:20.21 [info     ] Model parameters are saved to d3rlpy_logs/DoubleDQN_online_20221026091540/model_66000.pt\n",
      "2022-10-26 09:20.21 [info     ] DoubleDQN_online_20221026091540: epoch=66 step=66000 epoch=66 metrics={'time_inference': 0.000505079984664917, 'time_environment_step': 0.0010221879482269288, 'time_sample_batch': 0.0001373138427734375, 'time_algorithm_update': 0.0024867074489593505, 'loss': 0.8037321750819683, 'time_step': 0.004243873596191407, 'rollout_return': 14.619718309859154, 'evaluation': 14.6} step=66000\n",
      "2022-10-26 09:20.24 [info     ] Model parameters are saved to d3rlpy_logs/DoubleDQN_online_20221026091540/model_67000.pt\n",
      "2022-10-26 09:20.24 [info     ] DoubleDQN_online_20221026091540: epoch=67 step=67000 epoch=67 metrics={'time_inference': 0.0004349105358123779, 'time_environment_step': 0.0008944501876831055, 'time_sample_batch': 0.00011286044120788574, 'time_algorithm_update': 0.002058846950531006, 'loss': 0.7558904611170292, 'time_step': 0.0035832762718200684, 'rollout_return': 14.816901408450704, 'evaluation': 17.9} step=67000\n",
      "2022-10-26 09:20.28 [info     ] Model parameters are saved to d3rlpy_logs/DoubleDQN_online_20221026091540/model_68000.pt\n",
      "2022-10-26 09:20.28 [info     ] DoubleDQN_online_20221026091540: epoch=68 step=68000 epoch=68 metrics={'time_inference': 0.0004758896827697754, 'time_environment_step': 0.0009440207481384278, 'time_sample_batch': 0.00011557865142822265, 'time_algorithm_update': 0.0022809622287750246, 'loss': 0.7997545410841703, 'time_step': 0.0039039828777313232, 'rollout_return': 14.528169014084508, 'evaluation': 16.2} step=68000\n",
      "2022-10-26 09:20.33 [info     ] Model parameters are saved to d3rlpy_logs/DoubleDQN_online_20221026091540/model_69000.pt\n",
      "2022-10-26 09:20.33 [info     ] DoubleDQN_online_20221026091540: epoch=69 step=69000 epoch=69 metrics={'time_inference': 0.0005490264892578125, 'time_environment_step': 0.0009586687088012695, 'time_sample_batch': 0.000132493257522583, 'time_algorithm_update': 0.002300982475280762, 'loss': 0.8094448587745429, 'time_step': 0.004029507637023926, 'rollout_return': 14.788732394366198, 'evaluation': 13.5} step=69000\n",
      "2022-10-26 09:20.37 [info     ] Model parameters are saved to d3rlpy_logs/DoubleDQN_online_20221026091540/model_70000.pt\n",
      "2022-10-26 09:20.37 [info     ] DoubleDQN_online_20221026091540: epoch=70 step=70000 epoch=70 metrics={'time_inference': 0.0004927926063537598, 'time_environment_step': 0.0009912226200103759, 'time_sample_batch': 0.00011785221099853515, 'time_algorithm_update': 0.0023587329387664796, 'loss': 0.7592596471607685, 'time_step': 0.004048604011535645, 'rollout_return': 14.514084507042254, 'evaluation': 15.0} step=70000\n",
      "2022-10-26 09:20.41 [info     ] Model parameters are saved to d3rlpy_logs/DoubleDQN_online_20221026091540/model_71000.pt\n",
      "2022-10-26 09:20.41 [info     ] DoubleDQN_online_20221026091540: epoch=71 step=71000 epoch=71 metrics={'time_inference': 0.0004707450866699219, 'time_environment_step': 0.0009538969993591309, 'time_sample_batch': 0.0001156940460205078, 'time_algorithm_update': 0.002257808208465576, 'loss': 0.7723588934093714, 'time_step': 0.003883800506591797, 'rollout_return': 14.43661971830986, 'evaluation': 17.4} step=71000\n",
      "2022-10-26 09:20.44 [info     ] Model parameters are saved to d3rlpy_logs/DoubleDQN_online_20221026091540/model_72000.pt\n",
      "2022-10-26 09:20.44 [info     ] DoubleDQN_online_20221026091540: epoch=72 step=72000 epoch=72 metrics={'time_inference': 0.0004469807147979736, 'time_environment_step': 0.0008527841567993164, 'time_sample_batch': 0.00010718226432800293, 'time_algorithm_update': 0.002029314041137695, 'loss': 0.7480273472368717, 'time_step': 0.0035144987106323243, 'rollout_return': 15.084507042253522, 'evaluation': 15.8} step=72000\n",
      "2022-10-26 09:20.49 [info     ] Model parameters are saved to d3rlpy_logs/DoubleDQN_online_20221026091540/model_73000.pt\n",
      "2022-10-26 09:20.49 [info     ] DoubleDQN_online_20221026091540: epoch=73 step=73000 epoch=73 metrics={'time_inference': 0.00048507213592529296, 'time_environment_step': 0.0009773845672607423, 'time_sample_batch': 0.00011582279205322265, 'time_algorithm_update': 0.002443385362625122, 'loss': 0.7803297176361084, 'time_step': 0.004106519699096679, 'rollout_return': 14.816901408450704, 'evaluation': 15.8} step=73000\n",
      "2022-10-26 09:20.53 [info     ] Model parameters are saved to d3rlpy_logs/DoubleDQN_online_20221026091540/model_74000.pt\n",
      "2022-10-26 09:20.53 [info     ] DoubleDQN_online_20221026091540: epoch=74 step=74000 epoch=74 metrics={'time_inference': 0.00045891475677490234, 'time_environment_step': 0.0009298598766326904, 'time_sample_batch': 0.00011392068862915039, 'time_algorithm_update': 0.0022245676517486574, 'loss': 0.7961807574629783, 'time_step': 0.0038120410442352296, 'rollout_return': 14.830985915492958, 'evaluation': 16.2} step=74000\n",
      "2022-10-26 09:20.57 [info     ] Model parameters are saved to d3rlpy_logs/DoubleDQN_online_20221026091540/model_75000.pt\n",
      "2022-10-26 09:20.57 [info     ] DoubleDQN_online_20221026091540: epoch=75 step=75000 epoch=75 metrics={'time_inference': 0.00048482346534729006, 'time_environment_step': 0.0009229929447174073, 'time_sample_batch': 0.0001137402057647705, 'time_algorithm_update': 0.002231259822845459, 'loss': 0.7898647593259811, 'time_step': 0.0038399336338043213, 'rollout_return': 14.95774647887324, 'evaluation': 16.4} step=75000\n",
      "2022-10-26 09:21.00 [info     ] Model parameters are saved to d3rlpy_logs/DoubleDQN_online_20221026091540/model_76000.pt\n",
      "2022-10-26 09:21.00 [info     ] DoubleDQN_online_20221026091540: epoch=76 step=76000 epoch=76 metrics={'time_inference': 0.00043839430809020996, 'time_environment_step': 0.0008838205337524414, 'time_sample_batch': 0.0001094667911529541, 'time_algorithm_update': 0.0021063170433044433, 'loss': 0.7561270609498024, 'time_step': 0.003617894649505615, 'rollout_return': 14.577464788732394, 'evaluation': 14.5} step=76000\n",
      "2022-10-26 09:21.05 [info     ] Model parameters are saved to d3rlpy_logs/DoubleDQN_online_20221026091540/model_77000.pt\n",
      "2022-10-26 09:21.05 [info     ] DoubleDQN_online_20221026091540: epoch=77 step=77000 epoch=77 metrics={'time_inference': 0.000517291784286499, 'time_environment_step': 0.0010204806327819825, 'time_sample_batch': 0.00012448263168334962, 'time_algorithm_update': 0.002699647903442383, 'loss': 0.7955248727351427, 'time_step': 0.004455941200256348, 'rollout_return': 14.894366197183098, 'evaluation': 14.8} step=77000\n",
      "2022-10-26 09:21.10 [info     ] Model parameters are saved to d3rlpy_logs/DoubleDQN_online_20221026091540/model_78000.pt\n",
      "2022-10-26 09:21.10 [info     ] DoubleDQN_online_20221026091540: epoch=78 step=78000 epoch=78 metrics={'time_inference': 0.0005155208110809327, 'time_environment_step': 0.0010030462741851807, 'time_sample_batch': 0.00012655138969421386, 'time_algorithm_update': 0.002491485118865967, 'loss': 0.8037026559412479, 'time_step': 0.004234507560729981, 'rollout_return': 14.985915492957746, 'evaluation': 14.7} step=78000\n",
      "2022-10-26 09:21.14 [info     ] Model parameters are saved to d3rlpy_logs/DoubleDQN_online_20221026091540/model_79000.pt\n",
      "2022-10-26 09:21.14 [info     ] DoubleDQN_online_20221026091540: epoch=79 step=79000 epoch=79 metrics={'time_inference': 0.000472104549407959, 'time_environment_step': 0.0009280481338500977, 'time_sample_batch': 0.00011534953117370605, 'time_algorithm_update': 0.002403160095214844, 'loss': 0.7963645894527436, 'time_step': 0.004007100582122803, 'rollout_return': 14.80281690140845, 'evaluation': 16.1} step=79000\n",
      "2022-10-26 09:21.18 [info     ] Model parameters are saved to d3rlpy_logs/DoubleDQN_online_20221026091540/model_80000.pt\n",
      "2022-10-26 09:21.18 [info     ] DoubleDQN_online_20221026091540: epoch=80 step=80000 epoch=80 metrics={'time_inference': 0.0004850435256958008, 'time_environment_step': 0.0009249415397644043, 'time_sample_batch': 0.00012408089637756347, 'time_algorithm_update': 0.0024399425983428957, 'loss': 0.8026590936034917, 'time_step': 0.0040580320358276365, 'rollout_return': 14.485915492957746, 'evaluation': 18.0} step=80000\n",
      "2022-10-26 09:21.22 [info     ] Model parameters are saved to d3rlpy_logs/DoubleDQN_online_20221026091540/model_81000.pt\n",
      "2022-10-26 09:21.22 [info     ] DoubleDQN_online_20221026091540: epoch=81 step=81000 epoch=81 metrics={'time_inference': 0.0004693183898925781, 'time_environment_step': 0.0009429388046264649, 'time_sample_batch': 0.00011727452278137207, 'time_algorithm_update': 0.002278502941131592, 'loss': 0.7726870576441288, 'time_step': 0.0038943467140197755, 'rollout_return': 14.633802816901408, 'evaluation': 14.7} step=81000\n",
      "2022-10-26 09:21.26 [info     ] Model parameters are saved to d3rlpy_logs/DoubleDQN_online_20221026091540/model_82000.pt\n",
      "2022-10-26 09:21.26 [info     ] DoubleDQN_online_20221026091540: epoch=82 step=82000 epoch=82 metrics={'time_inference': 0.00043517398834228514, 'time_environment_step': 0.000897223949432373, 'time_sample_batch': 0.00012203741073608399, 'time_algorithm_update': 0.0022736928462982176, 'loss': 0.7802242727428674, 'time_step': 0.003810419321060181, 'rollout_return': 14.69718309859155, 'evaluation': 15.2} step=82000\n",
      "2022-10-26 09:21.30 [info     ] Model parameters are saved to d3rlpy_logs/DoubleDQN_online_20221026091540/model_83000.pt\n",
      "2022-10-26 09:21.30 [info     ] DoubleDQN_online_20221026091540: epoch=83 step=83000 epoch=83 metrics={'time_inference': 0.00047513413429260253, 'time_environment_step': 0.0009210953712463378, 'time_sample_batch': 0.00011417603492736817, 'time_algorithm_update': 0.0023517980575561525, 'loss': 0.7811967296898366, 'time_step': 0.003960430145263672, 'rollout_return': 14.950704225352112, 'evaluation': 14.5} step=83000\n",
      "2022-10-26 09:21.34 [info     ] Model parameters are saved to d3rlpy_logs/DoubleDQN_online_20221026091540/model_84000.pt\n",
      "2022-10-26 09:21.34 [info     ] DoubleDQN_online_20221026091540: epoch=84 step=84000 epoch=84 metrics={'time_inference': 0.0004788177013397217, 'time_environment_step': 0.0009863905906677246, 'time_sample_batch': 0.00011934280395507813, 'time_algorithm_update': 0.002396949529647827, 'loss': 0.7661126485168934, 'time_step': 0.004076029062271118, 'rollout_return': 14.880281690140846, 'evaluation': 15.5} step=84000\n",
      "2022-10-26 09:21.38 [info     ] Model parameters are saved to d3rlpy_logs/DoubleDQN_online_20221026091540/model_85000.pt\n",
      "2022-10-26 09:21.38 [info     ] DoubleDQN_online_20221026091540: epoch=85 step=85000 epoch=85 metrics={'time_inference': 0.0004646244049072266, 'time_environment_step': 0.0009097681045532227, 'time_sample_batch': 0.00011334443092346192, 'time_algorithm_update': 0.002160840034484863, 'loss': 0.7554869080781936, 'time_step': 0.003732059955596924, 'rollout_return': 15.028169014084508, 'evaluation': 14.9} step=85000\n",
      "2022-10-26 09:21.42 [info     ] Model parameters are saved to d3rlpy_logs/DoubleDQN_online_20221026091540/model_86000.pt\n",
      "2022-10-26 09:21.42 [info     ] DoubleDQN_online_20221026091540: epoch=86 step=86000 epoch=86 metrics={'time_inference': 0.0004889860153198242, 'time_environment_step': 0.0009471995830535888, 'time_sample_batch': 0.00013074636459350586, 'time_algorithm_update': 0.00246359658241272, 'loss': 0.7817212729603052, 'time_step': 0.004118774175643921, 'rollout_return': 14.626760563380282, 'evaluation': 15.8} step=86000\n",
      "2022-10-26 09:21.47 [info     ] Model parameters are saved to d3rlpy_logs/DoubleDQN_online_20221026091540/model_87000.pt\n",
      "2022-10-26 09:21.47 [info     ] DoubleDQN_online_20221026091540: epoch=87 step=87000 epoch=87 metrics={'time_inference': 0.0005161302089691162, 'time_environment_step': 0.0009937245845794678, 'time_sample_batch': 0.0001315476894378662, 'time_algorithm_update': 0.003058394432067871, 'loss': 0.7622076978683472, 'time_step': 0.0047917189598083495, 'rollout_return': 15.21830985915493, 'evaluation': 16.9} step=87000\n",
      "2022-10-26 09:21.53 [info     ] Model parameters are saved to d3rlpy_logs/DoubleDQN_online_20221026091540/model_88000.pt\n",
      "2022-10-26 09:21.53 [info     ] DoubleDQN_online_20221026091540: epoch=88 step=88000 epoch=88 metrics={'time_inference': 0.0005268778800964355, 'time_environment_step': 0.0010608646869659424, 'time_sample_batch': 0.00012064743041992187, 'time_algorithm_update': 0.0032943999767303467, 'loss': 0.8209941444396973, 'time_step': 0.005100525617599487, 'rollout_return': 14.204225352112676, 'evaluation': 16.3} step=88000\n",
      "2022-10-26 09:21.57 [info     ] Model parameters are saved to d3rlpy_logs/DoubleDQN_online_20221026091540/model_89000.pt\n",
      "2022-10-26 09:21.57 [info     ] DoubleDQN_online_20221026091540: epoch=89 step=89000 epoch=89 metrics={'time_inference': 0.0005283827781677246, 'time_environment_step': 0.001054239273071289, 'time_sample_batch': 0.00013153553009033204, 'time_algorithm_update': 0.0025958826541900635, 'loss': 0.7864099396765232, 'time_step': 0.0044170117378234865, 'rollout_return': 14.21830985915493, 'evaluation': 15.4} step=89000\n",
      "2022-10-26 09:22.02 [info     ] Model parameters are saved to d3rlpy_logs/DoubleDQN_online_20221026091540/model_90000.pt\n",
      "2022-10-26 09:22.02 [info     ] DoubleDQN_online_20221026091540: epoch=90 step=90000 epoch=90 metrics={'time_inference': 0.0004906461238861084, 'time_environment_step': 0.0010193474292755128, 'time_sample_batch': 0.00012216424942016602, 'time_algorithm_update': 0.0025715029239654543, 'loss': 0.7740223298668861, 'time_step': 0.004302083253860473, 'rollout_return': 14.774647887323944, 'evaluation': 9.4} step=90000\n",
      "2022-10-26 09:22.06 [info     ] Model parameters are saved to d3rlpy_logs/DoubleDQN_online_20221026091540/model_91000.pt\n",
      "2022-10-26 09:22.06 [info     ] DoubleDQN_online_20221026091540: epoch=91 step=91000 epoch=91 metrics={'time_inference': 0.0004987223148345948, 'time_environment_step': 0.0010194098949432373, 'time_sample_batch': 0.00012169075012207032, 'time_algorithm_update': 0.002529156684875488, 'loss': 0.7900280326753855, 'time_step': 0.004267222166061401, 'rollout_return': 14.352112676056338, 'evaluation': 17.2} step=91000\n",
      "2022-10-26 09:22.10 [info     ] Model parameters are saved to d3rlpy_logs/DoubleDQN_online_20221026091540/model_92000.pt\n",
      "2022-10-26 09:22.10 [info     ] DoubleDQN_online_20221026091540: epoch=92 step=92000 epoch=92 metrics={'time_inference': 0.0004966249465942383, 'time_environment_step': 0.0009938721656799316, 'time_sample_batch': 0.00012238383293151857, 'time_algorithm_update': 0.0023787477016448976, 'loss': 0.7613318661153317, 'time_step': 0.004091832876205444, 'rollout_return': 14.394366197183098, 'evaluation': 14.2} step=92000\n",
      "2022-10-26 09:22.15 [info     ] Model parameters are saved to d3rlpy_logs/DoubleDQN_online_20221026091540/model_93000.pt\n",
      "2022-10-26 09:22.15 [info     ] DoubleDQN_online_20221026091540: epoch=93 step=93000 epoch=93 metrics={'time_inference': 0.0004958310127258301, 'time_environment_step': 0.0010071654319763184, 'time_sample_batch': 0.00012051224708557128, 'time_algorithm_update': 0.0024281752109527586, 'loss': 0.778291292667389, 'time_step': 0.004143415212631225, 'rollout_return': 14.507042253521126, 'evaluation': 15.7} step=93000\n",
      "2022-10-26 09:22.18 [info     ] Model parameters are saved to d3rlpy_logs/DoubleDQN_online_20221026091540/model_94000.pt\n",
      "2022-10-26 09:22.18 [info     ] DoubleDQN_online_20221026091540: epoch=94 step=94000 epoch=94 metrics={'time_inference': 0.00046341443061828614, 'time_environment_step': 0.0008942968845367432, 'time_sample_batch': 0.00011207675933837891, 'time_algorithm_update': 0.0021530256271362304, 'loss': 0.7731899408698082, 'time_step': 0.003705024242401123, 'rollout_return': 14.788732394366198, 'evaluation': 14.1} step=94000\n",
      "2022-10-26 09:22.22 [info     ] Model parameters are saved to d3rlpy_logs/DoubleDQN_online_20221026091540/model_95000.pt\n",
      "2022-10-26 09:22.22 [info     ] DoubleDQN_online_20221026091540: epoch=95 step=95000 epoch=95 metrics={'time_inference': 0.00043227863311767577, 'time_environment_step': 0.000871683120727539, 'time_sample_batch': 0.000130218505859375, 'time_algorithm_update': 0.0020699343681335448, 'loss': 0.7237566258460283, 'time_step': 0.003583817481994629, 'rollout_return': 15.183098591549296, 'evaluation': 15.5} step=95000\n",
      "2022-10-26 09:22.26 [info     ] Model parameters are saved to d3rlpy_logs/DoubleDQN_online_20221026091540/model_96000.pt\n",
      "2022-10-26 09:22.26 [info     ] DoubleDQN_online_20221026091540: epoch=96 step=96000 epoch=96 metrics={'time_inference': 0.00045582795143127443, 'time_environment_step': 0.0008967957496643067, 'time_sample_batch': 0.00010998106002807617, 'time_algorithm_update': 0.002127694845199585, 'loss': 0.7660695159435272, 'time_step': 0.003673892974853516, 'rollout_return': 14.570422535211268, 'evaluation': 13.7} step=96000\n",
      "2022-10-26 09:22.30 [info     ] Model parameters are saved to d3rlpy_logs/DoubleDQN_online_20221026091540/model_97000.pt\n",
      "2022-10-26 09:22.30 [info     ] DoubleDQN_online_20221026091540: epoch=97 step=97000 epoch=97 metrics={'time_inference': 0.0004571104049682617, 'time_environment_step': 0.000891998291015625, 'time_sample_batch': 0.00011142754554748535, 'time_algorithm_update': 0.002138356924057007, 'loss': 0.719676572650671, 'time_step': 0.0036811892986297608, 'rollout_return': 14.32394366197183, 'evaluation': 15.6} step=97000\n",
      "2022-10-26 09:22.34 [info     ] Model parameters are saved to d3rlpy_logs/DoubleDQN_online_20221026091540/model_98000.pt\n",
      "2022-10-26 09:22.34 [info     ] DoubleDQN_online_20221026091540: epoch=98 step=98000 epoch=98 metrics={'time_inference': 0.0004620974063873291, 'time_environment_step': 0.000976909875869751, 'time_sample_batch': 0.0001175696849822998, 'time_algorithm_update': 0.00220927095413208, 'loss': 0.73567149053514, 'time_step': 0.0038548219203948975, 'rollout_return': 15.0, 'evaluation': 14.9} step=98000\n",
      "2022-10-26 09:22.38 [info     ] Model parameters are saved to d3rlpy_logs/DoubleDQN_online_20221026091540/model_99000.pt\n",
      "2022-10-26 09:22.38 [info     ] DoubleDQN_online_20221026091540: epoch=99 step=99000 epoch=99 metrics={'time_inference': 0.000423708438873291, 'time_environment_step': 0.0008678858280181885, 'time_sample_batch': 0.00011094808578491211, 'time_algorithm_update': 0.0020410821437835693, 'loss': 0.7469920843839646, 'time_step': 0.0035258259773254396, 'rollout_return': 14.154929577464788, 'evaluation': 15.7} step=99000\n",
      "2022-10-26 09:22.42 [info     ] Model parameters are saved to d3rlpy_logs/DoubleDQN_online_20221026091540/model_100000.pt\n",
      "2022-10-26 09:22.42 [info     ] DoubleDQN_online_20221026091540: epoch=100 step=100000 epoch=100 metrics={'time_inference': 0.0004568939208984375, 'time_environment_step': 0.000920529842376709, 'time_sample_batch': 0.00012597012519836425, 'time_algorithm_update': 0.00233980131149292, 'loss': 0.7656752552688122, 'time_step': 0.003929711103439331, 'rollout_return': 13.647887323943662, 'evaluation': 16.1} step=100000\n"
     ]
    }
   ],
   "source": [
    "# start training\n",
    "# skip if there is a pre-trained model\n",
    "ddqn.fit_online(\n",
    "    env,\n",
    "    buffer,\n",
    "    explorer=explorer,\n",
    "    eval_env=env,\n",
    "    n_steps=100000,\n",
    "    n_steps_per_epoch=1000,\n",
    "    update_start_step=1000,\n",
    ")"
   ]
  },
  {
   "cell_type": "code",
   "execution_count": 22,
   "metadata": {},
   "outputs": [],
   "source": [
    "# save model\n",
    "ddqn.save_model(\"d3rlpy_logs/ddqn.pt\")"
   ]
  },
  {
   "cell_type": "code",
   "execution_count": 23,
   "metadata": {},
   "outputs": [
    {
     "name": "stdout",
     "output_type": "stream",
     "text": [
      "2022-10-26 09:23.33 [warning  ] Parameters will be reinitialized.\n"
     ]
    }
   ],
   "source": [
    "# reload model\n",
    "ddqn.build_with_env(env)\n",
    "ddqn.load_model(\"d3rlpy_logs/ddqn.pt\")"
   ]
  },
  {
   "cell_type": "code",
   "execution_count": 24,
   "metadata": {},
   "outputs": [
    {
     "data": {
      "text/plain": [
       "Text(0, 0.5, 'episode reward')"
      ]
     },
     "execution_count": 24,
     "metadata": {},
     "output_type": "execute_result"
    },
    {
     "data": {
      "image/png": "[encoded data removed]",
      "text/plain": [
       "<Figure size 432x288 with 1 Axes>"
      ]
     },
     "metadata": {
      "needs_background": "light"
     },
     "output_type": "display_data"
    }
   ],
   "source": [
    "# we see that training RL policy can be risky online\n",
    "log_path = sorted(glob(\"d3rlpy_logs/DoubleDQN_online_*/evaluation.csv\"))[-1]\n",
    "df = pd.read_csv(\n",
    "    log_path, \n",
    "    usecols=[1,2],\n",
    "    names=[\"train_episode\", \"episodic_rewards\"]\n",
    ")\n",
    "plt.plot(df[\"train_episode\"], df[\"episodic_rewards\"])\n",
    "plt.title(\"Learning curve of DDQN\")\n",
    "plt.xlabel(\"episode\")\n",
    "plt.ylabel(\"episode reward\")"
   ]
  },
  {
   "cell_type": "code",
   "execution_count": 25,
   "metadata": {},
   "outputs": [],
   "source": [
    "random = DiscreteRandomPolicy()\n",
    "random.build_with_env(env)"
   ]
  },
  {
   "cell_type": "code",
   "execution_count": 26,
   "metadata": {},
   "outputs": [
    {
     "data": {
      "application/vnd.jupyter.widget-view+json": {
       "model_id": "5bf7456888b4418fa7a94e7ecb33fcf5",
       "version_major": 2,
       "version_minor": 0
      },
      "text/plain": [
       "[calculate on-policy policy value]:   0%|          | 0/100 [00:00<?, ?it/s]"
      ]
     },
     "metadata": {},
     "output_type": "display_data"
    },
    {
     "data": {
      "application/vnd.jupyter.widget-view+json": {
       "model_id": "adfbe52798a3401895adc9dc50dd2684",
       "version_major": 2,
       "version_minor": 0
      },
      "text/plain": [
       "[calculate on-policy policy value]:   0%|          | 0/100 [00:00<?, ?it/s]"
      ]
     },
     "metadata": {},
     "output_type": "display_data"
    },
    {
     "data": {
      "image/png": "[encoded data removed]",
      "text/plain": [
       "<Figure size 288x288 with 1 Axes>"
      ]
     },
     "metadata": {},
     "output_type": "display_data"
    }
   ],
   "source": [
    "# compare the policy performance online\n",
    "visualize_on_policy_policy_value(\n",
    "    env=env,\n",
    "    policies=[ddqn, random],\n",
    "    policy_names=[\"ddqn\", \"random\"],\n",
    "    n_episodes=100,\n",
    "    random_state=random_state,\n",
    ")"
   ]
  },
  {
   "cell_type": "code",
   "execution_count": 27,
   "metadata": {},
   "outputs": [
    {
     "data": {
      "application/vnd.jupyter.widget-view+json": {
       "model_id": "a0663294a8a94c59a4040f6c95e7392a",
       "version_major": 2,
       "version_minor": 0
      },
      "text/plain": [
       "[calculate on-policy policy value]:   0%|          | 0/100 [00:00<?, ?it/s]"
      ]
     },
     "metadata": {},
     "output_type": "display_data"
    },
    {
     "data": {
      "application/vnd.jupyter.widget-view+json": {
       "model_id": "650187d7842f417daf947bce3dc9008c",
       "version_major": 2,
       "version_minor": 0
      },
      "text/plain": [
       "[calculate on-policy policy value]:   0%|          | 0/100 [00:00<?, ?it/s]"
      ]
     },
     "metadata": {},
     "output_type": "display_data"
    },
    {
     "name": "stdout",
     "output_type": "stream",
     "text": [
      "relative improvement: 0.23343373493975902\n"
     ]
    }
   ],
   "source": [
    "# on-policy policy value by ddqn policy\n",
    "# largely outperforms the random policy (about 20%)\n",
    "ddqn_performance = calc_on_policy_policy_value(env, ddqn, n_episodes=100, random_state=random_state)\n",
    "random_performance = calc_on_policy_policy_value(env, random, n_episodes=100, random_state=random_state)\n",
    "print(\"relative improvement:\", (ddqn_performance - random_performance) / random_performance)"
   ]
  },
  {
   "cell_type": "markdown",
   "metadata": {},
   "source": [
    "Note that, we provide the following functions for online evaluation of the policy performance under `ofrl.ope.online`.\n",
    "\n",
    "(Statistics)\n",
    "\n",
    "* `calc_on_policy_policy_value`\n",
    "* `calc_on_policy_policy_value_interval`\n",
    "* `calc_on_policy_variance`\n",
    "* `calc_on_policy_conditional_value_at_risk`\n",
    "* `calc_on_policy_policy_interquartile_range`\n",
    "* `calc_on_policy_cumulative_distribution_function`\n",
    "\n",
    "(Visualization)\n",
    "* `visualize_on_policy_policy_value`\n",
    "* `visualize_on_policy_policy_value_with_variance`\n",
    "* `visualize_on_policy_cumulative_distribution_function`\n",
    "* `visualize_on_policy_conditional_value_at_risk`\n",
    "* `visualize_on_policy_interquartile_range`"
   ]
  },
  {
   "cell_type": "markdown",
   "metadata": {},
   "source": [
    "## 1. Synthetic Dataset Generation\n",
    "In the previous section, we see how we can interact with the environment *online* using synthetic simulator.  \n",
    "Though simulation is a good starting point for training an agent, eventually we want to deploy our agent (or policy) in the real world environment.  \n",
    "However, online interaction may have potential risk of failure in the real-world.\n",
    "Therefore, we introduce an alternative learning protocol, Offline RL, which aims at training a new policy using only offline logged dataset.\n",
    "\n",
    "We prepare an easy-to-use synthetic dataset generator: `SyntheticDataset` class in the dataset module.  \n",
    "By regarding the simulation environment as a hypothetical real-environment, we show how to conduct Offline RL using logged dataset in real-world application.  \n",
    "For detailed description of how to use a real-world dataset, please see #TODO (will be implemented).\n",
    "\n",
    "`SyntheticDataset` class the following arguments:\n",
    "- `env`: RTB environment for RL defined in the previous section.\n",
    "- `behavior_policy`: RL agent (or algorithm) used for the data collection.\n",
    "- `maximum_step_per_episode`: Maximum number of timesteps in an episode.\n",
    "- `action_meaning`: Dictionary which maps discrete action index into specific actions.\n",
    "- `action_keys`: Name of the action variable at each dimension.\n",
    "- `state_keys`: Name of the state variable at each dimension.\n",
    "- `info_keys`: Dictionary containing of key and the type of info components.\n",
    "- `random_state`: Random state."
   ]
  },
  {
   "cell_type": "code",
   "execution_count": 28,
   "metadata": {},
   "outputs": [],
   "source": [
    "# import necessary module from OFRL\n",
    "from ofrl.policy import DiscreteEpsilonGreedyHead"
   ]
  },
  {
   "cell_type": "code",
   "execution_count": 29,
   "metadata": {},
   "outputs": [],
   "source": [
    "behavior_policy = DiscreteEpsilonGreedyHead(\n",
    "    ddqn, \n",
    "    n_actions=env.action_space.n,\n",
    "    epsilon=0.3,\n",
    "    name=\"ddqn_epsilon_0.3\",\n",
    "    random_state=random_state,\n",
    ")"
   ]
  },
  {
   "cell_type": "code",
   "execution_count": 31,
   "metadata": {},
   "outputs": [],
   "source": [
    "# initialize dataset class\n",
    "dataset = SyntheticDataset(\n",
    "    env=env,\n",
    "    behavior_policy=behavior_policy,\n",
    "    action_meaning=env.action_meaning,\n",
    "    state_keys=env.obs_keys,\n",
    "    maximum_step_per_episode=env.step_per_episode,\n",
    "    info_keys={\n",
    "        \"search_volume\": int,\n",
    "        \"impression\": int,\n",
    "        \"click\": int,\n",
    "        \"conversion\": int,\n",
    "        \"average_bid_price\": float,\n",
    "    },\n",
    "    random_state=random_state,\n",
    ")"
   ]
  },
  {
   "cell_type": "code",
   "execution_count": 32,
   "metadata": {},
   "outputs": [
    {
     "data": {
      "application/vnd.jupyter.widget-view+json": {
       "model_id": "c1444a37cd394e7eba86509dc20e5b14",
       "version_major": 2,
       "version_minor": 0
      },
      "text/plain": [
       "[obtain_trajectories]:   0%|          | 0/10000 [00:00<?, ?it/s]"
      ]
     },
     "metadata": {},
     "output_type": "display_data"
    }
   ],
   "source": [
    "# collect logged data by a behavior policy\n",
    "# skip if there is a preserved logged dataset\n",
    "logged_dataset = dataset.obtain_trajectories(n_episodes=10000, obtain_info=True)"
   ]
  },
  {
   "cell_type": "code",
   "execution_count": 33,
   "metadata": {},
   "outputs": [
    {
     "data": {
      "text/plain": [
       "{'size': 70000,\n",
       " 'n_episodes': 10000,\n",
       " 'step_per_episode': 7,\n",
       " 'maximum_step_per_episode': 7,\n",
       " 'action_type': 'discrete',\n",
       " 'n_actions': 10,\n",
       " 'action_dim': None,\n",
       " 'action_meaning': array([ 0.1       ,  0.16681005,  0.27825594,  0.46415888,  0.77426368,\n",
       "         1.29154967,  2.15443469,  3.59381366,  5.9948425 , 10.        ]),\n",
       " 'action_keys': None,\n",
       " 'state_dim': 7,\n",
       " 'state_keys': ['timestep',\n",
       "  'remaining_budget',\n",
       "  'budget_consumption_rate',\n",
       "  'cost_per_mille_of_impression',\n",
       "  'winning_rate',\n",
       "  'reward',\n",
       "  'adjust_rate'],\n",
       " 'state': array([[0.00000000e+00, 3.00000000e+03, 9.29616093e-01, ...,\n",
       "         1.83918812e-01, 2.00000000e+00, 1.32116227e+00],\n",
       "        [1.00000000e+00, 1.98200000e+03, 3.39333333e-01, ...,\n",
       "         1.00000000e+00, 6.00000000e+00, 5.99484250e+00],\n",
       "        [2.00000000e+00, 1.98200000e+03, 0.00000000e+00, ...,\n",
       "         0.00000000e+00, 0.00000000e+00, 1.66810054e-01],\n",
       "        ...,\n",
       "        [4.00000000e+00, 9.00000000e+00, 9.83240223e-01, ...,\n",
       "         5.55555556e-01, 2.00000000e+00, 5.99484250e+00],\n",
       "        [5.00000000e+00, 9.00000000e+00, 0.00000000e+00, ...,\n",
       "         0.00000000e+00, 0.00000000e+00, 1.66810054e-01],\n",
       "        [6.00000000e+00, 9.00000000e+00, 0.00000000e+00, ...,\n",
       "         7.78210117e-03, 0.00000000e+00, 3.59381366e+00]]),\n",
       " 'action': array([8., 1., 8., ..., 1., 7., 6.]),\n",
       " 'reward': array([6., 0., 1., ..., 0., 0., 0.]),\n",
       " 'done': array([0., 0., 0., ..., 0., 0., 1.]),\n",
       " 'terminal': array([0., 0., 0., ..., 0., 0., 1.]),\n",
       " 'info': {'search_volume': array([201, 205, 217, ..., 203, 257, 179]),\n",
       "  'impression': array([201,   0, 217, ...,   0,   2,   5]),\n",
       "  'click': array([21,  0, 24, ...,  0,  0,  0]),\n",
       "  'conversion': array([6, 0, 1, ..., 0, 0, 0]),\n",
       "  'average_bid_price': array([326.24875622,   8.24390244, 313.49769585, ...,   7.61576355,\n",
       "         169.31906615,  99.34078212])},\n",
       " 'pscore': array([0.73, 0.73, 0.73, ..., 0.73, 0.73, 0.73])}"
      ]
     },
     "execution_count": 33,
     "metadata": {},
     "output_type": "execute_result"
    }
   ],
   "source": [
    "logged_dataset"
   ]
  },
  {
   "cell_type": "code",
   "execution_count": 34,
   "metadata": {},
   "outputs": [],
   "source": [
    "with open(\"logs/dataset_discrete.pkl\", \"wb\") as f:\n",
    "    pickle.dump(logged_dataset, f)"
   ]
  },
  {
   "cell_type": "code",
   "execution_count": 35,
   "metadata": {},
   "outputs": [],
   "source": [
    "with open(\"logs/dataset_discrete.pkl\", \"rb\") as f:\n",
    "    logged_dataset = pickle.load(f)"
   ]
  },
  {
   "cell_type": "code",
   "execution_count": 36,
   "metadata": {},
   "outputs": [
    {
     "data": {
      "application/vnd.jupyter.widget-view+json": {
       "model_id": "0c0c36f604e648bc80dbc8c7f46c02ea",
       "version_major": 2,
       "version_minor": 0
      },
      "text/plain": [
       "[calculate on-policy policy value]:   0%|          | 0/100 [00:00<?, ?it/s]"
      ]
     },
     "metadata": {},
     "output_type": "display_data"
    },
    {
     "data": {
      "application/vnd.jupyter.widget-view+json": {
       "model_id": "0d0460ee60d446258379e58f691959c9",
       "version_major": 2,
       "version_minor": 0
      },
      "text/plain": [
       "[calculate on-policy policy value]:   0%|          | 0/100 [00:00<?, ?it/s]"
      ]
     },
     "metadata": {},
     "output_type": "display_data"
    },
    {
     "data": {
      "application/vnd.jupyter.widget-view+json": {
       "model_id": "78fc3c9c8e7542d09b27fa527301f03c",
       "version_major": 2,
       "version_minor": 0
      },
      "text/plain": [
       "[calculate on-policy policy value]:   0%|          | 0/100 [00:00<?, ?it/s]"
      ]
     },
     "metadata": {},
     "output_type": "display_data"
    },
    {
     "data": {
      "image/png": "[encoded data removed]",
      "text/plain": [
       "<Figure size 432x288 with 1 Axes>"
      ]
     },
     "metadata": {},
     "output_type": "display_data"
    }
   ],
   "source": [
    "# compare the policy performance online\n",
    "# almost the same performance as greedy ddqn\n",
    "visualize_on_policy_policy_value(\n",
    "    env=env,\n",
    "    policies=[ddqn, behavior_policy, random],\n",
    "    policy_names=[\"ddqn\", \"ddqn (e=0.3)\", \"random\"],\n",
    "    n_episodes=100,\n",
    "    random_state=random_state,\n",
    ")"
   ]
  },
  {
   "cell_type": "code",
   "execution_count": 37,
   "metadata": {},
   "outputs": [
    {
     "data": {
      "text/html": [
       "<div>\n",
       "<style scoped>\n",
       "    .dataframe tbody tr th:only-of-type {\n",
       "        vertical-align: middle;\n",
       "    }\n",
       "\n",
       "    .dataframe tbody tr th {\n",
       "        vertical-align: top;\n",
       "    }\n",
       "\n",
       "    .dataframe thead th {\n",
       "        text-align: right;\n",
       "    }\n",
       "</style>\n",
       "<table border=\"1\" class=\"dataframe\">\n",
       "  <thead>\n",
       "    <tr style=\"text-align: right;\">\n",
       "      <th></th>\n",
       "      <th>adjust rate</th>\n",
       "      <th>average bid price</th>\n",
       "      <th>impression</th>\n",
       "      <th>click</th>\n",
       "      <th>conversion</th>\n",
       "      <th>winning rate</th>\n",
       "      <th>click / impression</th>\n",
       "      <th>conversion / click</th>\n",
       "    </tr>\n",
       "  </thead>\n",
       "  <tbody>\n",
       "    <tr>\n",
       "      <th>count</th>\n",
       "      <td>70000.000000</td>\n",
       "      <td>70000.000000</td>\n",
       "      <td>70000.0000</td>\n",
       "      <td>70000.000000</td>\n",
       "      <td>70000.000000</td>\n",
       "      <td>70000.000000</td>\n",
       "      <td>70000.000000</td>\n",
       "      <td>70000.000000</td>\n",
       "    </tr>\n",
       "    <tr>\n",
       "      <th>mean</th>\n",
       "      <td>2.078757</td>\n",
       "      <td>112.666237</td>\n",
       "      <td>81.4301</td>\n",
       "      <td>8.481929</td>\n",
       "      <td>2.110229</td>\n",
       "      <td>0.454172</td>\n",
       "      <td>0.058011</td>\n",
       "      <td>0.124187</td>\n",
       "    </tr>\n",
       "    <tr>\n",
       "      <th>std</th>\n",
       "      <td>2.555589</td>\n",
       "      <td>135.146173</td>\n",
       "      <td>88.0784</td>\n",
       "      <td>9.596558</td>\n",
       "      <td>3.000877</td>\n",
       "      <td>0.429999</td>\n",
       "      <td>0.072109</td>\n",
       "      <td>0.165762</td>\n",
       "    </tr>\n",
       "    <tr>\n",
       "      <th>min</th>\n",
       "      <td>0.000128</td>\n",
       "      <td>4.051887</td>\n",
       "      <td>0.0000</td>\n",
       "      <td>0.000000</td>\n",
       "      <td>0.000000</td>\n",
       "      <td>0.000000</td>\n",
       "      <td>0.000000</td>\n",
       "      <td>0.000000</td>\n",
       "    </tr>\n",
       "    <tr>\n",
       "      <th>25%</th>\n",
       "      <td>0.166810</td>\n",
       "      <td>8.051933</td>\n",
       "      <td>0.0000</td>\n",
       "      <td>0.000000</td>\n",
       "      <td>0.000000</td>\n",
       "      <td>0.000000</td>\n",
       "      <td>0.000000</td>\n",
       "      <td>0.000000</td>\n",
       "    </tr>\n",
       "    <tr>\n",
       "      <th>50%</th>\n",
       "      <td>1.206937</td>\n",
       "      <td>61.403238</td>\n",
       "      <td>27.0000</td>\n",
       "      <td>2.000000</td>\n",
       "      <td>0.000000</td>\n",
       "      <td>0.393380</td>\n",
       "      <td>0.057692</td>\n",
       "      <td>0.000000</td>\n",
       "    </tr>\n",
       "    <tr>\n",
       "      <th>75%</th>\n",
       "      <td>3.593814</td>\n",
       "      <td>176.868202</td>\n",
       "      <td>173.0000</td>\n",
       "      <td>17.000000</td>\n",
       "      <td>4.000000</td>\n",
       "      <td>0.934812</td>\n",
       "      <td>0.105960</td>\n",
       "      <td>0.230769</td>\n",
       "    </tr>\n",
       "    <tr>\n",
       "      <th>max</th>\n",
       "      <td>11.237331</td>\n",
       "      <td>546.900000</td>\n",
       "      <td>290.0000</td>\n",
       "      <td>41.000000</td>\n",
       "      <td>20.000000</td>\n",
       "      <td>1.000000</td>\n",
       "      <td>0.999995</td>\n",
       "      <td>0.999999</td>\n",
       "    </tr>\n",
       "  </tbody>\n",
       "</table>\n",
       "</div>"
      ],
      "text/plain": [
       "        adjust rate  average bid price  impression         click  \\\n",
       "count  70000.000000       70000.000000  70000.0000  70000.000000   \n",
       "mean       2.078757         112.666237     81.4301      8.481929   \n",
       "std        2.555589         135.146173     88.0784      9.596558   \n",
       "min        0.000128           4.051887      0.0000      0.000000   \n",
       "25%        0.166810           8.051933      0.0000      0.000000   \n",
       "50%        1.206937          61.403238     27.0000      2.000000   \n",
       "75%        3.593814         176.868202    173.0000     17.000000   \n",
       "max       11.237331         546.900000    290.0000     41.000000   \n",
       "\n",
       "         conversion  winning rate  click / impression  conversion / click  \n",
       "count  70000.000000  70000.000000        70000.000000        70000.000000  \n",
       "mean       2.110229      0.454172            0.058011            0.124187  \n",
       "std        3.000877      0.429999            0.072109            0.165762  \n",
       "min        0.000000      0.000000            0.000000            0.000000  \n",
       "25%        0.000000      0.000000            0.000000            0.000000  \n",
       "50%        0.000000      0.393380            0.057692            0.000000  \n",
       "75%        4.000000      0.934812            0.105960            0.230769  \n",
       "max       20.000000      1.000000            0.999995            0.999999  "
      ]
     },
     "execution_count": 37,
     "metadata": {},
     "output_type": "execute_result"
    }
   ],
   "source": [
    "# let's see some statistics of the dataset\n",
    "df = pd.DataFrame()\n",
    "df['adjust rate'] = logged_dataset['state'][:, 6]\n",
    "df['average bid price'] = logged_dataset['info']['average_bid_price']\n",
    "df['impression'] = logged_dataset['info']['impression']\n",
    "df['click'] = logged_dataset['info']['click']\n",
    "df['conversion'] = logged_dataset['info']['conversion']\n",
    "df['winning rate'] = logged_dataset['state'][:, 4]\n",
    "df['click / impression'] = df['click'] / (df['impression'] + 1e-5)\n",
    "df['conversion / click'] = df['conversion'] / (df['click'] + 1e-5)\n",
    "df.describe()"
   ]
  },
  {
   "cell_type": "markdown",
   "metadata": {},
   "source": [
    "For more about the data collection and visualization, please refer to [examples/quickstart/rtb_synthetic_data_collection.ipynb](https://github.com/negocia-inc/rtb_reinforcement_learing/blob/ope/examples/quickstart/rtb_synthetic_data_collection.ipynb)."
   ]
  },
  {
   "cell_type": "markdown",
   "metadata": {},
   "source": [
    "## 2. Offline Reinforcement Learning\n",
    "In this section, we learn a new policy in an offline manner, without interacting with the environment.  \n",
    "We use [d3rlpy](https://github.com/takuseno/d3rlpy)'s implementation of algorithms."
   ]
  },
  {
   "cell_type": "code",
   "execution_count": 38,
   "metadata": {},
   "outputs": [],
   "source": [
    "# import modules from d3rlpy\n",
    "from d3rlpy.dataset import MDPDataset\n",
    "from d3rlpy.algos import DiscreteCQL\n",
    "from d3rlpy.ope import DiscreteFQE\n",
    "from d3rlpy.metrics.scorer import evaluate_on_environment"
   ]
  },
  {
   "cell_type": "code",
   "execution_count": 39,
   "metadata": {},
   "outputs": [],
   "source": [
    "offlinerl_dataset = MDPDataset(\n",
    "    observations=logged_dataset[\"state\"],\n",
    "    actions=logged_dataset[\"action\"],\n",
    "    rewards=logged_dataset[\"reward\"],\n",
    "    terminals=logged_dataset[\"done\"],\n",
    "    episode_terminals=logged_dataset[\"done\"],\n",
    "    discrete_action=True,\n",
    ")\n",
    "train_episodes, test_episodes = train_test_split(offlinerl_dataset, test_size=0.2, random_state=random_state)"
   ]
  },
  {
   "cell_type": "code",
   "execution_count": 40,
   "metadata": {},
   "outputs": [],
   "source": [
    "# Use Conservative Q-Learning policy\n",
    "cql = DiscreteCQL(\n",
    "    encoder_factory=VectorEncoderFactory(hidden_units=[30, 30]),\n",
    "    q_func_factory=MeanQFunctionFactory(),\n",
    "    use_gpu=torch.cuda.is_available(),\n",
    ")"
   ]
  },
  {
   "cell_type": "code",
   "execution_count": 41,
   "metadata": {},
   "outputs": [
    {
     "name": "stdout",
     "output_type": "stream",
     "text": [
      "2022-10-26 09:27.57 [debug    ] RandomIterator is selected.\n",
      "2022-10-26 09:27.57 [info     ] Directory is created at d3rlpy_logs/DiscreteCQL_20221026092757\n",
      "2022-10-26 09:27.57 [debug    ] Building models...\n",
      "2022-10-26 09:27.57 [debug    ] Models have been built.\n",
      "2022-10-26 09:27.57 [info     ] Parameters are saved to d3rlpy_logs/DiscreteCQL_20221026092757/params.json params={'action_scaler': None, 'alpha': 1.0, 'batch_size': 32, 'encoder_factory': {'type': 'vector', 'params': {'hidden_units': [30, 30], 'activation': 'relu', 'use_batch_norm': False, 'dropout_rate': None, 'use_dense': False}}, 'gamma': 0.99, 'generated_maxlen': 100000, 'learning_rate': 6.25e-05, 'n_critics': 1, 'n_frames': 1, 'n_steps': 1, 'optim_factory': {'optim_cls': 'Adam', 'betas': (0.9, 0.999), 'eps': 1e-08, 'weight_decay': 0, 'amsgrad': False}, 'q_func_factory': {'type': 'mean', 'params': {'share_encoder': False}}, 'real_ratio': 1.0, 'reward_scaler': None, 'scaler': None, 'target_update_interval': 8000, 'use_gpu': None, 'algorithm': 'DiscreteCQL', 'observation_shape': (7,), 'action_size': 10}\n"
     ]
    },
    {
     "data": {
      "application/vnd.jupyter.widget-view+json": {
       "model_id": "d1395399456242589318e1d25f913ba8",
       "version_major": 2,
       "version_minor": 0
      },
      "text/plain": [
       "Epoch 1/1:   0%|          | 0/10000 [00:00<?, ?it/s]"
      ]
     },
     "metadata": {},
     "output_type": "display_data"
    },
    {
     "name": "stdout",
     "output_type": "stream",
     "text": [
      "2022-10-26 09:28.42 [info     ] DiscreteCQL_20221026092757: epoch=1 step=10000 epoch=1 metrics={'time_sample_batch': 0.00023577950000762938, 'time_algorithm_update': 0.0038767402172088625, 'loss': 38.5219607427597, 'time_step': 0.004362755656242371, 'environment': 17.6} step=10000\n",
      "2022-10-26 09:28.42 [info     ] Model parameters are saved to d3rlpy_logs/DiscreteCQL_20221026092757/model_10000.pt\n"
     ]
    },
    {
     "data": {
      "text/plain": [
       "[(1,\n",
       "  {'time_sample_batch': 0.00023577950000762938,\n",
       "   'time_algorithm_update': 0.0038767402172088625,\n",
       "   'loss': 38.5219607427597,\n",
       "   'time_step': 0.004362755656242371,\n",
       "   'environment': 17.6})]"
      ]
     },
     "execution_count": 41,
     "metadata": {},
     "output_type": "execute_result"
    }
   ],
   "source": [
    "cql.fit(\n",
    "    train_episodes,\n",
    "    eval_episodes=test_episodes,\n",
    "    n_steps=10000,\n",
    "    scorers={\n",
    "        'environment': evaluate_on_environment(env),\n",
    "        # to record training process w/ ground truth policy value, which is unseen to the agent\n",
    "    },\n",
    ")"
   ]
  },
  {
   "cell_type": "code",
   "execution_count": 42,
   "metadata": {},
   "outputs": [],
   "source": [
    "# save model\n",
    "cql.save_model(\"d3rlpy_logs/cql_discrete.pt\")"
   ]
  },
  {
   "cell_type": "code",
   "execution_count": 43,
   "metadata": {},
   "outputs": [
    {
     "name": "stdout",
     "output_type": "stream",
     "text": [
      "2022-10-26 09:28.42 [warning  ] Parameters will be reinitialized.\n"
     ]
    }
   ],
   "source": [
    "# reload model\n",
    "cql.build_with_env(env)\n",
    "cql.load_model(\"d3rlpy_logs/cql_discrete.pt\")"
   ]
  },
  {
   "cell_type": "code",
   "execution_count": 44,
   "metadata": {},
   "outputs": [
    {
     "data": {
      "application/vnd.jupyter.widget-view+json": {
       "model_id": "62afe19fa7c24e2792c6f6f5b8d733eb",
       "version_major": 2,
       "version_minor": 0
      },
      "text/plain": [
       "[calculate on-policy policy value]:   0%|          | 0/100 [00:00<?, ?it/s]"
      ]
     },
     "metadata": {},
     "output_type": "display_data"
    },
    {
     "data": {
      "application/vnd.jupyter.widget-view+json": {
       "model_id": "57686e42c5e44de5a3c2869f4f2d4a7b",
       "version_major": 2,
       "version_minor": 0
      },
      "text/plain": [
       "[calculate on-policy policy value]:   0%|          | 0/100 [00:00<?, ?it/s]"
      ]
     },
     "metadata": {},
     "output_type": "display_data"
    },
    {
     "data": {
      "application/vnd.jupyter.widget-view+json": {
       "model_id": "6ebfc10d46a44b118fed1b3686e52601",
       "version_major": 2,
       "version_minor": 0
      },
      "text/plain": [
       "[calculate on-policy policy value]:   0%|          | 0/100 [00:00<?, ?it/s]"
      ]
     },
     "metadata": {},
     "output_type": "display_data"
    },
    {
     "data": {
      "application/vnd.jupyter.widget-view+json": {
       "model_id": "34b60456c9164fab9cc696417b412d03",
       "version_major": 2,
       "version_minor": 0
      },
      "text/plain": [
       "[calculate on-policy policy value]:   0%|          | 0/100 [00:00<?, ?it/s]"
      ]
     },
     "metadata": {},
     "output_type": "display_data"
    },
    {
     "data": {
      "image/png": "[encoded data removed]",
      "text/plain": [
       "<Figure size 576x288 with 1 Axes>"
      ]
     },
     "metadata": {},
     "output_type": "display_data"
    }
   ],
   "source": [
    "# compare the policy performance online\n",
    "# not better than online policy, but achieves almost the same performance\n",
    "# meaning that we can learn a reasonable policy without interacting with the environment!\n",
    "visualize_on_policy_policy_value(\n",
    "    env=env,\n",
    "    policies=[ddqn, behavior_policy, cql, random],\n",
    "    policy_names=[\"ddqn\", \"ddqn (e=0.3)\", \"cql (offline)\", \"random\"],\n",
    "    n_episodes=100,\n",
    "    random_state=random_state,\n",
    ")"
   ]
  },
  {
   "cell_type": "markdown",
   "metadata": {},
   "source": [
    "## 3. Off-Policy Evaluation and Evaluation of Offline RL methods\n",
    "In the previous section, we verified the performance of a learned policy via online interaction (aka A/B tests).  \n",
    "However, it could be risky because the policy may perform poorly in an online environment.  \n",
    "To tackle this issue, we aim at evaluating the performance of a policy offline, to gain some prior knowledge on how agent works in the environment."
   ]
  },
  {
   "cell_type": "code",
   "execution_count": 45,
   "metadata": {},
   "outputs": [],
   "source": [
    "# import ope modules from OFRL\n",
    "from ofrl.ope import CreateOPEInput\n",
    "from ofrl.ope import DiscreteOffPolicyEvaluation as OPE\n",
    "from ofrl.ope import DiscreteDirectMethod as DM\n",
    "from ofrl.ope import DiscreteTrajectoryWiseImportanceSampling as TIS\n",
    "from ofrl.ope import DiscretePerDecisionImportanceSampling as PDIS\n",
    "from ofrl.ope import DiscreteDoublyRobust as DR\n",
    "from ofrl.ope import DiscreteSelfNormalizedTrajectoryWiseImportanceSampling as SNTIS\n",
    "from ofrl.ope import DiscreteSelfNormalizedPerDecisionImportanceSampling as SNPDIS\n",
    "from ofrl.ope import DiscreteSelfNormalizedDoublyRobust as SNDR"
   ]
  },
  {
   "cell_type": "code",
   "execution_count": 46,
   "metadata": {},
   "outputs": [],
   "source": [
    "# define evaluation policies\n",
    "cql_ = DiscreteEpsilonGreedyHead(base_policy=cql, n_actions=env.action_space.n, name=\"cql\", epsilon=0.0, random_state=random_state)\n",
    "ddqn_ = DiscreteEpsilonGreedyHead(base_policy=ddqn, n_actions=env.action_space.n, name=\"ddqn\", epsilon=0.0, random_state=random_state)\n",
    "random_ = DiscreteEpsilonGreedyHead(base_policy=random, n_actions=env.action_space.n, name=\"random\", epsilon=1.0, random_state=random_state)\n",
    "evaluation_policies = [cql_, ddqn_, random_]"
   ]
  },
  {
   "cell_type": "code",
   "execution_count": 47,
   "metadata": {},
   "outputs": [],
   "source": [
    "# first, prepare OPE inputs\n",
    "prep = CreateOPEInput(\n",
    "    logged_dataset=logged_dataset,\n",
    "    use_base_model=True,  # use model-based prediction\n",
    ")"
   ]
  },
  {
   "cell_type": "code",
   "execution_count": 48,
   "metadata": {},
   "outputs": [
    {
     "data": {
      "application/vnd.jupyter.widget-view+json": {
       "model_id": "d2678742e8cd496594b2a8d99e85ed7e",
       "version_major": 2,
       "version_minor": 0
      },
      "text/plain": [
       "[fit FQE model]:   0%|          | 0/3 [00:00<?, ?it/s]"
      ]
     },
     "metadata": {},
     "output_type": "display_data"
    },
    {
     "name": "stdout",
     "output_type": "stream",
     "text": [
      "2022-10-26 09:28.46 [debug    ] RandomIterator is selected.\n",
      "2022-10-26 09:28.46 [info     ] Directory is created at d3rlpy_logs/DiscreteFQE_20221026092846\n",
      "2022-10-26 09:28.46 [debug    ] Building models...\n",
      "2022-10-26 09:28.46 [debug    ] Models have been built.\n",
      "2022-10-26 09:28.46 [info     ] Parameters are saved to d3rlpy_logs/DiscreteFQE_20221026092846/params.json params={'action_scaler': None, 'batch_size': 100, 'encoder_factory': {'type': 'vector', 'params': {'hidden_units': [30, 30], 'activation': 'relu', 'use_batch_norm': False, 'dropout_rate': None, 'use_dense': False}}, 'gamma': 0.99, 'generated_maxlen': 100000, 'learning_rate': 0.0001, 'n_critics': 1, 'n_frames': 1, 'n_steps': 1, 'optim_factory': {'optim_cls': 'Adam', 'betas': (0.9, 0.999), 'eps': 1e-08, 'weight_decay': 0, 'amsgrad': False}, 'q_func_factory': {'type': 'mean', 'params': {'share_encoder': False}}, 'real_ratio': 1.0, 'reward_scaler': None, 'scaler': None, 'target_update_interval': 100, 'use_gpu': None, 'algorithm': 'DiscreteFQE', 'observation_shape': (7,), 'action_size': 10}\n"
     ]
    },
    {
     "data": {
      "application/vnd.jupyter.widget-view+json": {
       "model_id": "da315cbdc64b44469a46fa257e59543a",
       "version_major": 2,
       "version_minor": 0
      },
      "text/plain": [
       "Epoch 1/1:   0%|          | 0/10000 [00:00<?, ?it/s]"
      ]
     },
     "metadata": {},
     "output_type": "display_data"
    },
    {
     "name": "stdout",
     "output_type": "stream",
     "text": [
      "2022-10-26 09:29.32 [info     ] DiscreteFQE_20221026092846: epoch=1 step=10000 epoch=1 metrics={'time_sample_batch': 0.0006144280433654785, 'time_algorithm_update': 0.003676178240776062, 'loss': 3.324072260558605, 'time_step': 0.004550950527191162} step=10000\n",
      "2022-10-26 09:29.32 [info     ] Model parameters are saved to d3rlpy_logs/DiscreteFQE_20221026092846/model_10000.pt\n",
      "2022-10-26 09:29.32 [debug    ] RandomIterator is selected.\n",
      "2022-10-26 09:29.32 [info     ] Directory is created at d3rlpy_logs/DiscreteFQE_20221026092932\n",
      "2022-10-26 09:29.32 [debug    ] Building models...\n",
      "2022-10-26 09:29.32 [debug    ] Models have been built.\n",
      "2022-10-26 09:29.32 [info     ] Parameters are saved to d3rlpy_logs/DiscreteFQE_20221026092932/params.json params={'action_scaler': None, 'batch_size': 100, 'encoder_factory': {'type': 'vector', 'params': {'hidden_units': [30, 30], 'activation': 'relu', 'use_batch_norm': False, 'dropout_rate': None, 'use_dense': False}}, 'gamma': 0.99, 'generated_maxlen': 100000, 'learning_rate': 0.0001, 'n_critics': 1, 'n_frames': 1, 'n_steps': 1, 'optim_factory': {'optim_cls': 'Adam', 'betas': (0.9, 0.999), 'eps': 1e-08, 'weight_decay': 0, 'amsgrad': False}, 'q_func_factory': {'type': 'mean', 'params': {'share_encoder': False}}, 'real_ratio': 1.0, 'reward_scaler': None, 'scaler': None, 'target_update_interval': 100, 'use_gpu': None, 'algorithm': 'DiscreteFQE', 'observation_shape': (7,), 'action_size': 10}\n"
     ]
    },
    {
     "data": {
      "application/vnd.jupyter.widget-view+json": {
       "model_id": "2b8403b1784a41c19bebd46856eb3291",
       "version_major": 2,
       "version_minor": 0
      },
      "text/plain": [
       "Epoch 1/1:   0%|          | 0/10000 [00:00<?, ?it/s]"
      ]
     },
     "metadata": {},
     "output_type": "display_data"
    },
    {
     "name": "stdout",
     "output_type": "stream",
     "text": [
      "2022-10-26 09:30.18 [info     ] DiscreteFQE_20221026092932: epoch=1 step=10000 epoch=1 metrics={'time_sample_batch': 0.0006085740566253663, 'time_algorithm_update': 0.0036222452402114866, 'loss': 2.160532303804159, 'time_step': 0.004482607364654541} step=10000\n",
      "2022-10-26 09:30.18 [info     ] Model parameters are saved to d3rlpy_logs/DiscreteFQE_20221026092932/model_10000.pt\n",
      "2022-10-26 09:30.18 [debug    ] RandomIterator is selected.\n",
      "2022-10-26 09:30.18 [info     ] Directory is created at d3rlpy_logs/DiscreteFQE_20221026093018\n",
      "2022-10-26 09:30.18 [debug    ] Building models...\n",
      "2022-10-26 09:30.18 [debug    ] Models have been built.\n",
      "2022-10-26 09:30.18 [info     ] Parameters are saved to d3rlpy_logs/DiscreteFQE_20221026093018/params.json params={'action_scaler': None, 'batch_size': 100, 'encoder_factory': {'type': 'vector', 'params': {'hidden_units': [30, 30], 'activation': 'relu', 'use_batch_norm': False, 'dropout_rate': None, 'use_dense': False}}, 'gamma': 0.99, 'generated_maxlen': 100000, 'learning_rate': 0.0001, 'n_critics': 1, 'n_frames': 1, 'n_steps': 1, 'optim_factory': {'optim_cls': 'Adam', 'betas': (0.9, 0.999), 'eps': 1e-08, 'weight_decay': 0, 'amsgrad': False}, 'q_func_factory': {'type': 'mean', 'params': {'share_encoder': False}}, 'real_ratio': 1.0, 'reward_scaler': None, 'scaler': None, 'target_update_interval': 100, 'use_gpu': None, 'algorithm': 'DiscreteFQE', 'observation_shape': (7,), 'action_size': 10}\n"
     ]
    },
    {
     "data": {
      "application/vnd.jupyter.widget-view+json": {
       "model_id": "6ccde6a920bf4f179e40d383fd685af3",
       "version_major": 2,
       "version_minor": 0
      },
      "text/plain": [
       "Epoch 1/1:   0%|          | 0/10000 [00:00<?, ?it/s]"
      ]
     },
     "metadata": {},
     "output_type": "display_data"
    },
    {
     "name": "stdout",
     "output_type": "stream",
     "text": [
      "2022-10-26 09:30.51 [info     ] DiscreteFQE_20221026093018: epoch=1 step=10000 epoch=1 metrics={'time_sample_batch': 0.0005812028169631958, 'time_algorithm_update': 0.002464097189903259, 'loss': 5.547017300263048, 'time_step': 0.00327724814414978} step=10000\n",
      "2022-10-26 09:30.51 [info     ] Model parameters are saved to d3rlpy_logs/DiscreteFQE_20221026093018/model_10000.pt\n"
     ]
    },
    {
     "data": {
      "application/vnd.jupyter.widget-view+json": {
       "model_id": "57b93584586742d4b3667d7558b580d8",
       "version_major": 2,
       "version_minor": 0
      },
      "text/plain": [
       "[collect input data]:   0%|          | 0/3 [00:00<?, ?it/s]"
      ]
     },
     "metadata": {},
     "output_type": "display_data"
    },
    {
     "data": {
      "application/vnd.jupyter.widget-view+json": {
       "model_id": "5c7515f3d1194def97cf4f85da208bf9",
       "version_major": 2,
       "version_minor": 0
      },
      "text/plain": [
       "[calculate on-policy policy value]:   0%|          | 0/100 [00:00<?, ?it/s]"
      ]
     },
     "metadata": {},
     "output_type": "display_data"
    },
    {
     "data": {
      "application/vnd.jupyter.widget-view+json": {
       "model_id": "e6951cb574094969817ca3bf95eaf831",
       "version_major": 2,
       "version_minor": 0
      },
      "text/plain": [
       "[calculate on-policy policy value]:   0%|          | 0/100 [00:00<?, ?it/s]"
      ]
     },
     "metadata": {},
     "output_type": "display_data"
    },
    {
     "data": {
      "application/vnd.jupyter.widget-view+json": {
       "model_id": "ec364ed21c0244219fdfec0d53b33430",
       "version_major": 2,
       "version_minor": 0
      },
      "text/plain": [
       "[calculate on-policy policy value]:   0%|          | 0/100 [00:00<?, ?it/s]"
      ]
     },
     "metadata": {},
     "output_type": "display_data"
    }
   ],
   "source": [
    "# takes time\n",
    "input_dict = prep.obtain_whole_inputs(\n",
    "    evaluation_policies=evaluation_policies,\n",
    "    env=env,\n",
    "    n_episodes_on_policy_evaluation=100,\n",
    "    random_state=random_state,\n",
    ")"
   ]
  },
  {
   "cell_type": "code",
   "execution_count": 49,
   "metadata": {},
   "outputs": [],
   "source": [
    "with open(\"logs/ope_input_dict_discrete.pkl\", \"wb\") as f:\n",
    "    pickle.dump(input_dict, f)"
   ]
  },
  {
   "cell_type": "code",
   "execution_count": 50,
   "metadata": {},
   "outputs": [],
   "source": [
    "with open(\"logs/ope_input_dict_discrete.pkl\", \"rb\") as f:\n",
    "    input_dict = pickle.load(f)"
   ]
  },
  {
   "cell_type": "code",
   "execution_count": 51,
   "metadata": {},
   "outputs": [],
   "source": [
    "ope = OPE(\n",
    "    logged_dataset=logged_dataset,\n",
    "    ope_estimators=[DM(), TIS(), PDIS(), DR(), SNTIS(), SNPDIS(), SNDR()],\n",
    ")"
   ]
  },
  {
   "cell_type": "code",
   "execution_count": 52,
   "metadata": {},
   "outputs": [],
   "source": [
    "# performance estimation by ope\n",
    "policy_value_df_dict, policy_value_interval_df_dict = ope.summarize_off_policy_estimates(input_dict, random_state=random_state)"
   ]
  },
  {
   "cell_type": "code",
   "execution_count": 53,
   "metadata": {},
   "outputs": [
    {
     "data": {
      "text/plain": [
       "{'cql':            policy_value  relative_policy_value\n",
       " on_policy     16.480000               1.000000\n",
       " dm            14.248743               0.864608\n",
       " tis            6.031888               0.366013\n",
       " pdis          15.012298               0.910940\n",
       " dr            15.330538               0.930251\n",
       " sntis         15.941786               0.967341\n",
       " snpdis        15.039092               0.912566\n",
       " sndr          15.119771               0.917462,\n",
       " 'ddqn':            policy_value  relative_policy_value\n",
       " on_policy     16.380000               1.000000\n",
       " dm            15.649364               0.955395\n",
       " tis           16.541451               1.009857\n",
       " pdis          16.338355               0.997458\n",
       " dr            16.202203               0.989145\n",
       " sntis         16.345259               0.997879\n",
       " snpdis        16.203940               0.989252\n",
       " sndr          16.199834               0.989001,\n",
       " 'random':            policy_value  relative_policy_value\n",
       " on_policy     12.520000               1.000000\n",
       " dm            12.523195               1.000255\n",
       " tis            6.908353               0.551785\n",
       " pdis          12.662919               1.011415\n",
       " dr            13.422290               1.072068\n",
       " sntis         12.909451               1.031106\n",
       " snpdis        14.589550               1.165300\n",
       " sndr          13.260030               1.059108}"
      ]
     },
     "execution_count": 53,
     "metadata": {},
     "output_type": "execute_result"
    }
   ],
   "source": [
    "# estimated policy performance\n",
    "policy_value_df_dict"
   ]
  },
  {
   "cell_type": "code",
   "execution_count": 54,
   "metadata": {},
   "outputs": [
    {
     "data": {
      "text/plain": [
       "{'cql':                 mean  95.0% CI (lower)  95.0% CI (upper)\n",
       " on_policy  16.402700         15.589000         17.175750\n",
       " dm         14.248603         14.245425         14.251928\n",
       " tis         6.219513          4.112288          9.101026\n",
       " pdis       14.974052         13.903592         16.137293\n",
       " dr         15.270716         13.239743         16.420193\n",
       " sntis      16.437663         10.868441         24.053270\n",
       " snpdis     15.027220         13.934999         16.379889\n",
       " sndr       15.064638         13.461472         16.201808,\n",
       " 'ddqn':                 mean  95.0% CI (lower)  95.0% CI (upper)\n",
       " on_policy  16.315800         15.470000         17.047250\n",
       " dm         15.649230         15.646828         15.652122\n",
       " tis        16.565746         15.657827         17.446687\n",
       " pdis       16.333220         16.061954         16.692491\n",
       " dr         16.200421         16.057925         16.309804\n",
       " sntis      16.369267         15.472115         17.239758\n",
       " snpdis     16.198916         15.931220         16.553662\n",
       " sndr       16.198106         16.057198         16.306221,\n",
       " 'random':                 mean  95.0% CI (lower)  95.0% CI (upper)\n",
       " on_policy  12.454300         11.514750         13.375250\n",
       " dm         12.523131         12.522068         12.524374\n",
       " tis         6.796187          4.558591          9.420225\n",
       " pdis       12.470979          9.984829         15.350322\n",
       " dr         13.371007         12.734754         14.026206\n",
       " sntis      12.699850          8.518515         17.603318\n",
       " snpdis     14.340771         11.121287         18.128902\n",
       " sndr       13.187329         12.234425         14.066134}"
      ]
     },
     "execution_count": 54,
     "metadata": {},
     "output_type": "execute_result"
    }
   ],
   "source": [
    "# estimated confidence intervals of the policy performance\n",
    "policy_value_interval_df_dict"
   ]
  },
  {
   "cell_type": "markdown",
   "metadata": {},
   "source": [
    "## 4. Evaluation of OPE methods\n",
    "Now, we evaluate how well the ope estimators estimated the policy value."
   ]
  },
  {
   "cell_type": "code",
   "execution_count": 55,
   "metadata": {},
   "outputs": [
    {
     "data": {
      "image/png": "[encoded data removed]",
      "text/plain": [
       "<Figure size 1008x864 with 3 Axes>"
      ]
     },
     "metadata": {},
     "output_type": "display_data"
    }
   ],
   "source": [
    "# we can visualize and compare the result\n",
    "# it seems that DM tends to have a bias though the variance is quite small, \n",
    "# while (trajectory-wise) importance sampling estimators have a smaller bias with a larger variance.\n",
    "# self-normalized estimators also works well\n",
    "ope.visualize_off_policy_estimates(input_dict, random_state=random_state, sharey=False)"
   ]
  },
  {
   "cell_type": "code",
   "execution_count": 56,
   "metadata": {},
   "outputs": [
    {
     "data": {
      "text/html": [
       "<div>\n",
       "<style scoped>\n",
       "    .dataframe tbody tr th:only-of-type {\n",
       "        vertical-align: middle;\n",
       "    }\n",
       "\n",
       "    .dataframe tbody tr th {\n",
       "        vertical-align: top;\n",
       "    }\n",
       "\n",
       "    .dataframe thead th {\n",
       "        text-align: right;\n",
       "    }\n",
       "</style>\n",
       "<table border=\"1\" class=\"dataframe\">\n",
       "  <thead>\n",
       "    <tr style=\"text-align: right;\">\n",
       "      <th></th>\n",
       "      <th>cql</th>\n",
       "      <th>ddqn</th>\n",
       "      <th>random</th>\n",
       "    </tr>\n",
       "  </thead>\n",
       "  <tbody>\n",
       "    <tr>\n",
       "      <th>dm</th>\n",
       "      <td>4.978507</td>\n",
       "      <td>0.533830</td>\n",
       "      <td>0.000010</td>\n",
       "    </tr>\n",
       "    <tr>\n",
       "      <th>tis</th>\n",
       "      <td>109.163052</td>\n",
       "      <td>0.026066</td>\n",
       "      <td>31.490584</td>\n",
       "    </tr>\n",
       "    <tr>\n",
       "      <th>pdis</th>\n",
       "      <td>2.154149</td>\n",
       "      <td>0.001734</td>\n",
       "      <td>0.020426</td>\n",
       "    </tr>\n",
       "    <tr>\n",
       "      <th>dr</th>\n",
       "      <td>1.321263</td>\n",
       "      <td>0.031612</td>\n",
       "      <td>0.814128</td>\n",
       "    </tr>\n",
       "    <tr>\n",
       "      <th>sntis</th>\n",
       "      <td>0.289674</td>\n",
       "      <td>0.001207</td>\n",
       "      <td>0.151672</td>\n",
       "    </tr>\n",
       "    <tr>\n",
       "      <th>snpdis</th>\n",
       "      <td>2.076216</td>\n",
       "      <td>0.030997</td>\n",
       "      <td>4.283038</td>\n",
       "    </tr>\n",
       "    <tr>\n",
       "      <th>sndr</th>\n",
       "      <td>1.850223</td>\n",
       "      <td>0.032460</td>\n",
       "      <td>0.547644</td>\n",
       "    </tr>\n",
       "  </tbody>\n",
       "</table>\n",
       "</div>"
      ],
      "text/plain": [
       "               cql      ddqn     random\n",
       "dm        4.978507  0.533830   0.000010\n",
       "tis     109.163052  0.026066  31.490584\n",
       "pdis      2.154149  0.001734   0.020426\n",
       "dr        1.321263  0.031612   0.814128\n",
       "sntis     0.289674  0.001207   0.151672\n",
       "snpdis    2.076216  0.030997   4.283038\n",
       "sndr      1.850223  0.032460   0.547644"
      ]
     },
     "execution_count": 56,
     "metadata": {},
     "output_type": "execute_result"
    }
   ],
   "source": [
    "# squared-error (se) measures the estimation accuracy of OPE\n",
    "eval_metric_ope_df = ope.evaluate_performance_of_ope_estimators(\n",
    "    input_dict, \n",
    "    metric=\"se\",\n",
    "    return_by_dataframe=True,\n",
    ")\n",
    "eval_metric_ope_df"
   ]
  },
  {
   "cell_type": "markdown",
   "metadata": {},
   "source": [
    "For more advanced topics in OPE (e.g., cumulative distribution function estimation) and OPS, please refer to [examples/quickstart/rtb_synthetic_discrete_advanced.ipynb](https://github.com/negocia-inc/rtb_reinforcement_learing/blob/ope/examples/quickstart/rtb_synthetic_discrete_advanced.ipynb). \n",
    "\n",
    "For the examples in the continuous action space, please refer to [examples/quickstart/rtb_synthetic_continuous_basic.ipynb](https://github.com/negocia-inc/rtb_reinforcement_learing/blob/ope/examples/quickstart/rtb_synthetic_continuous_basic.ipynb)."
   ]
  },
  {
   "cell_type": "markdown",
   "metadata": {},
   "source": [
    "## Reference\n",
    "\n",
    "- Yuta Saito, Shunsuke Aihara, Megumi Matsutani, and Yusuke Narita. \\\n",
    "\"Open Bandit Dataset and Pipeline: Towards Realistic and Reproducible Off-Policy Evaluation.\", 2021.\n",
    "\n",
    "- Takuma Seno and Michita Imai. \\\n",
    "\"d3rlpy: An Offline Deep Reinforcement Library.\", 2021.\n",
    "\n",
    "- Sergey Levine, Aviral Kumar, George Tucker, and Justin Fu. \\\n",
    "\"Offline Reinforcement Learning: Tutorial, Review, and Perspectives on Open Problems.\" 2020.\n",
    "\n",
    "- Aviral Kumar, Aurick Zhou, George Tucker, and Sergey Levine. \\\n",
    "\"Conservative Q-Learning for Offline Reinforcement Learning.\", 2020.\n",
    "\n",
    "- Nathan Kallus and Masatoshi Uehara. \\\n",
    "\"Intrinsically Efficient, Stable, and Bounded Off-Policy Evaluation for Reinforcement Learning.\", 2019.\n",
    "\n",
    "- Hoang Le, Cameron Voloshin, and Yisong Yue. \\\n",
    "\"Batch Policy Learning under Constraints.\", 2019.\n",
    "\n",
    "- Di Wu, Xiujun Chen, Xun Yang, Hao Wang, Qing Tan, Xiaoxun Zhang, Jian Xu, and Kun Gai. \\\n",
    "\"Budget Constrained Bidding by Model-free Reinforcement Learning in Display Advertising.\", 2018.\n",
    "\n",
    "- Jun Zhao, Guang Qiu, Ziyu Guan, Wei Zhao, and Xiaofei He. \\\n",
    "\"Deep Reinforcement Learning for Sponsored Search Real-time Bidding.\", 2018.\n",
    "\n",
    "- Nan Jiang and Lihong Li. \\\n",
    "\"Doubly Robust Off-policy Value Evaluation for Reinforcement Learning.\", 2016.\n",
    "\n",
    "- Philip S. Thomas and Emma Brunskill. \\\n",
    "\"Data-Efficient Off-Policy Policy Evaluation for Reinforcement Learning.\", 2016.\n",
    "\n",
    "- Greg Brockman, Vicki Cheung, Ludwig Pettersson, Jonas Schneider, John Schulman, Jie Tang, and Wojciech Zaremba. \\\n",
    "\"OpenAI Gym.\", 2016.\n",
    "\n",
    "- Adith Swaminathan and Thorsten Joachims. \\\n",
    "\"The Self-Normalized Estimator for Counterfactual Learning.\", 2015.\n",
    "\n",
    "- Hado van Hasselt, Arthur Guez, and David Silver. \\\n",
    "\"Deep Reinforcement Learning with Double Q-learning.\", 2015.\n",
    "\n",
    "- Miroslav Dudík, Dumitru Erhan, John Langford, and Lihong Li. \\\n",
    "\"Doubly Robust Policy Evaluation and Optimization.\", 2014.\n",
    "\n",
    "- Alex Strehl, John Langford, Sham Kakade, and Lihong Li. \\\n",
    "\"Learning from Logged Implicit Exploration Data.\", 2010.\n",
    "\n",
    "- Alina Beygelzimer and John Langford. \\\n",
    "\"The Offset Tree for Learning with Partial Labels.\", 2009.\n",
    "\n",
    "- Doina Precup, Richard S. Sutton, and Satinder P. Singh. \\\n",
    "\"Eligibility Traces for Off-Policy Policy Evaluation.\", 2000."
   ]
  },
  {
   "cell_type": "code",
   "execution_count": null,
   "metadata": {},
   "outputs": [],
   "source": []
  }
 ],
 "metadata": {
  "kernelspec": {
   "display_name": "Python 3",
   "language": "python",
   "name": "python3"
  },
  "language_info": {
   "codemirror_mode": {
    "name": "ipython",
    "version": 3
   },
   "file_extension": ".py",
   "mimetype": "text/x-python",
   "name": "python",
   "nbconvert_exporter": "python",
   "pygments_lexer": "ipython3",
   "version": "3.8.5"
  },
  "vscode": {
   "interpreter": {
    "hash": "eeb0e296031d5f4c93e05211083c58e9e78a3e8af86402f626ea4098c0a5e991"
   }
  }
 },
 "nbformat": 4,
 "nbformat_minor": 4
}
