{
 "cells": [
  {
   "cell_type": "markdown",
   "metadata": {},
   "source": [
    "# Quickstart Example with Synthetic RTB Simulation and Dataset (Discrete)\n",
    "This notebook provides an example of conducting **Off-policy Evaluation (OPE) and Offline Reinforcement Learning (Offline RL) on a synthetic Real-Time Bidding (RTB) dataset**.\n",
    "\n",
    "This example consists of the following 5 steps: \\\n",
    "0. (Setup Synthetic RTB Simulation Environment and Online RL)\n",
    "1. Synthetic Data Generation\n",
    "2. Offline Reinforcement Learning\n",
    "3. Off-Policy Evaluation and Evaluation of Offline RL methods\n",
    "4. Evaluation of OPE methods\n",
    "\n",
    "\\* This library uses [d3rlpy](https://github.com/takuseno/d3rlpy)'s algorithm implementations of online/offline rl policies and model-based evaluation.  \n",
    "\\* Also, our implementations of OPE are highly inspired by [Open Bandit Pipeline](https://github.com/st-tech/zr-obp)."
   ]
  },
  {
   "cell_type": "code",
   "execution_count": 2,
   "metadata": {},
   "outputs": [],
   "source": [
    "# delete later\n",
    "%load_ext autoreload\n",
    "%autoreload 2"
   ]
  },
  {
   "cell_type": "code",
   "execution_count": 3,
   "metadata": {},
   "outputs": [],
   "source": [
    "# delete later\n",
    "import warnings\n",
    "warnings.simplefilter('ignore')"
   ]
  },
  {
   "cell_type": "code",
   "execution_count": 4,
   "metadata": {},
   "outputs": [],
   "source": [
    "# delete later\n",
    "import sys\n",
    "sys.path.append('../')\n",
    "sys.path.append('../../')"
   ]
  },
  {
   "cell_type": "code",
   "execution_count": 5,
   "metadata": {},
   "outputs": [],
   "source": [
    "# import OFRL modules\n",
    "import ofrl\n",
    "from rtbgym import RTBEnv, CustomizedRTBEnv\n",
    "from ofrl.dataset import SyntheticDataset\n",
    "from ofrl.policy import OnlineHead\n",
    "from ofrl.ope.online import (\n",
    "    calc_on_policy_policy_value,\n",
    "    visualize_on_policy_policy_value,\n",
    ")\n",
    "\n",
    "# import d3rlpy algorithms\n",
    "from d3rlpy.algos import DiscreteRandomPolicy\n",
    "from d3rlpy.algos import RandomPolicy as ContinuousRandomPolicy\n",
    "# from d3rlpy.preprocessing import MinMaxScaler, MinMaxActionScaler\n",
    "from ofrl.utils import MinMaxScaler, MinMaxActionScaler\n",
    "\n",
    "# import from other libraries\n",
    "import gym\n",
    "import torch\n",
    "from sklearn.model_selection import train_test_split"
   ]
  },
  {
   "cell_type": "code",
   "execution_count": 5,
   "metadata": {},
   "outputs": [],
   "source": [
    "import pickle\n",
    "from glob import glob\n",
    "from tqdm import tqdm\n",
    "\n",
    "import numpy as np\n",
    "import pandas as pd\n",
    "\n",
    "import matplotlib.pyplot as plt\n",
    "import seaborn as sns\n",
    "\n",
    "%matplotlib inline"
   ]
  },
  {
   "cell_type": "code",
   "execution_count": 6,
   "metadata": {},
   "outputs": [
    {
     "name": "stdout",
     "output_type": "stream",
     "text": [
      "0.0.0\n"
     ]
    }
   ],
   "source": [
    "# version\n",
    "print(ofrl.__version__)"
   ]
  },
  {
   "cell_type": "code",
   "execution_count": 7,
   "metadata": {},
   "outputs": [],
   "source": [
    "# set random state\n",
    "random_state = 12345"
   ]
  },
  {
   "cell_type": "code",
   "execution_count": 8,
   "metadata": {},
   "outputs": [],
   "source": [
    "# log directory\n",
    "from pathlib import Path\n",
    "Path(\"logs/\").mkdir(exist_ok=True)"
   ]
  },
  {
   "cell_type": "markdown",
   "metadata": {},
   "source": [
    "## 0. (Setup Synthetic RTB Simulation Environment and Online RL)\n",
    "To begin with, we briefly describe how the RTB environment works for the preparation.\n",
    "\n",
    "#### RL setup for RTB\n",
    "In RTB, the objective of the RL agent is to maximize some KPIs (number of clicks or conversions) within an episode under given budget constraints.  \n",
    "We often try to achieve this by adjusting bidding price function parameter $\\alpha$. By using $\\alpha$, we can adjust the bid price as follows.  \n",
    "$bid_{t,i} = \\alpha \\cdot r^{\\ast}$, \n",
    "where $r^{\\ast}$ denotes a predicted or expected reward (KPIs).\n",
    "\n",
    "We often formulate this RTB problem as the following Constrained Markov Decision Process (CMDP):\n",
    "- `timestep`: One episode (a day or a week) consists of several timesteps (24 hours or seven days, for instance).\n",
    "- `state`: We observe some feedback from the environment at each timestep, which includes the following.\n",
    "  - timestep\n",
    "  - remaining budget\n",
    "  - impression level features (budget consumption rate, cost per mille of impressions, auction winning rate, reward) at the previous timestep\n",
    "  - adjust rate (RL agent's decision making) at the previous timestep\n",
    "- `action`: Agent chooses adjust rate parameter $\\alpha$ to maximize KPIs.\n",
    "- `reward`: Total number of clicks or conversions obtained during the timestep.\n",
    "- `constraints`: The pre-determined episodic budget should not be exceeded.\n",
    "\n",
    "For more about the environmental configuration , please refer to [examples/quickstart/rtb_synthetic_customize_env.ipynb](https://github.com/negocia-inc/rtb_reinforcement_learing/blob/ope/examples/quickstart/rtb_synthetic_customize_env.ipynb).\n",
    "\n",
    "Let's see how it works!"
   ]
  },
  {
   "cell_type": "code",
   "execution_count": 9,
   "metadata": {},
   "outputs": [],
   "source": [
    "# setup environment\n",
    "env = RTBEnv(random_state=random_state)"
   ]
  },
  {
   "cell_type": "code",
   "execution_count": 10,
   "metadata": {},
   "outputs": [],
   "source": [
    "# define a random agent\n",
    "agent = OnlineHead(\n",
    "    ContinuousRandomPolicy(\n",
    "        action_scaler=MinMaxActionScaler(\n",
    "            minimum=0.1,  # minimum value that policy can take\n",
    "            maximum=10,  # maximum value that policy can take\n",
    "        )\n",
    "    )\n",
    ")"
   ]
  },
  {
   "cell_type": "code",
   "execution_count": 11,
   "metadata": {},
   "outputs": [],
   "source": [
    "# interact agent with the environment\n",
    "# only 6 lines are needed for RL interaction\n",
    "for episode in range(10):\n",
    "    obs, info = env.reset()\n",
    "    done = False\n",
    "\n",
    "    while not done:\n",
    "        action = agent.predict_online(obs)\n",
    "        obs, reward, done, truncated, info = env.step(action)"
   ]
  },
  {
   "cell_type": "code",
   "execution_count": 12,
   "metadata": {},
   "outputs": [
    {
     "name": "stdout",
     "output_type": "stream",
     "text": [
      "['timestep', 'remaining_budget', 'budget_consumption_rate', 'cost_per_mille_of_impression', 'winning_rate', 'reward', 'adjust_rate']\n",
      "(7,)\n"
     ]
    }
   ],
   "source": [
    "# state contains the following feedback from the environment\n",
    "print(env.obs_keys)\n",
    "print(obs.shape)"
   ]
  },
  {
   "cell_type": "code",
   "execution_count": 13,
   "metadata": {},
   "outputs": [
    {
     "data": {
      "image/png": "[encoded data removed]",
      "text/plain": [
       "<Figure size 432x288 with 2 Axes>"
      ]
     },
     "metadata": {
      "needs_background": "light"
     },
     "output_type": "display_data"
    }
   ],
   "source": [
    "# let's visualize the transition of the remaining budget and cumulative reward\n",
    "# our goal is to obtain a policy (or an agent) that maximizes the cumulative reward under budget constraints using RL.  \n",
    "obs, info = env.reset()\n",
    "done = False\n",
    "remaining_budget = [obs[1]]\n",
    "cumulative_reward = [0]\n",
    "\n",
    "while not done:\n",
    "    action = agent.predict_online(obs)\n",
    "    obs, reward, done, truncated, info = env.step(action)\n",
    "    remaining_budget.append(obs[1])\n",
    "    cumulative_reward.append(cumulative_reward[-1] + reward)\n",
    "\n",
    "# plot\n",
    "fig = plt.figure()\n",
    "ax1 = fig.add_subplot(111)\n",
    "ax1.plot(remaining_budget[:-1], label='remaining budget')\n",
    "ax2 = ax1.twinx()\n",
    "ax2.plot(cumulative_reward[:-1], label='cumulative reward', color='tab:orange')\n",
    "ax1.set_xlabel('timestep')\n",
    "ax1.set_ylabel('remainig budget')\n",
    "ax1.set_ylim(0, env.initial_budget + 100)\n",
    "ax2.set_ylabel('reward (coversion)')\n",
    "ax1.legend(loc='upper left')\n",
    "ax2.legend(loc='upper right')\n",
    "plt.show()"
   ]
  },
  {
   "cell_type": "markdown",
   "metadata": {},
   "source": [
    "We see that the random policy run out the budget quickly.  \n",
    "Our goal is to derive a policy that controls the adjust rate (i.e., action) to maximize the reward within the given budget constraints.\n",
    "\n",
    "For more about the environmental configurations and customization, please refer to [examples/quickstart/rtb_synthetic_customize_env.ipynb](https://github.com/negocia-inc/rtb_reinforcement_learing/blob/ope/examples/quickstart/rtb_synthetic_customize_env.ipynb)."
   ]
  },
  {
   "cell_type": "markdown",
   "metadata": {},
   "source": [
    "#### Online RL and comparison of the policies\n",
    "We now learn an online RL policy and compare it to the random policy, using on-policy policy estimation."
   ]
  },
  {
   "cell_type": "code",
   "execution_count": 14,
   "metadata": {},
   "outputs": [
    {
     "name": "stdout",
     "output_type": "stream",
     "text": [
      "[ 0.1         0.16681005  0.27825594  0.46415888  0.77426368  1.29154967\n",
      "  2.15443469  3.59381366  5.9948425  10.        ]\n"
     ]
    }
   ],
   "source": [
    "# standardized environment for discrete action\n",
    "env = gym.make(\"RTBEnv-discrete-v0\")\n",
    "print(env.action_meaning)"
   ]
  },
  {
   "cell_type": "code",
   "execution_count": 15,
   "metadata": {},
   "outputs": [],
   "source": [
    "# for api compatibility to d3rlpy\n",
    "from ofrl.utils import OldGymAPIWrapper\n",
    "env_ = OldGymAPIWrapper(env)"
   ]
  },
  {
   "cell_type": "code",
   "execution_count": 16,
   "metadata": {},
   "outputs": [],
   "source": [
    "from d3rlpy.algos import DoubleDQN\n",
    "from d3rlpy.models.encoders import VectorEncoderFactory\n",
    "from d3rlpy.models.q_functions import MeanQFunctionFactory\n",
    "from d3rlpy.online.buffers import ReplayBuffer\n",
    "from d3rlpy.online.explorers import LinearDecayEpsilonGreedy\n",
    "\n",
    "# model\n",
    "ddqn = DoubleDQN(\n",
    "    encoder_factory=VectorEncoderFactory(hidden_units=[30, 30]),\n",
    "    q_func_factory=MeanQFunctionFactory(),\n",
    "    target_update_interval=100,\n",
    "    use_gpu=torch.cuda.is_available(),\n",
    ")\n",
    "# replay buffer\n",
    "buffer = ReplayBuffer(\n",
    "    maxlen=10000,\n",
    "    env=env_,\n",
    ")\n",
    "# explorers\n",
    "explorer = LinearDecayEpsilonGreedy(\n",
    "    start_epsilon=1.0,\n",
    "    end_epsilon=0.3,\n",
    "    duration=1000,\n",
    ")"
   ]
  },
  {
   "cell_type": "code",
   "execution_count": 20,
   "metadata": {},
   "outputs": [
    {
     "name": "stdout",
     "output_type": "stream",
     "text": [
      "2022-11-23 19:15.29 [info     ] Directory is created at d3rlpy_logs/DoubleDQN_online_20221123191529\n",
      "2022-11-23 19:15.29 [debug    ] Building model...\n",
      "2022-11-23 19:15.29 [debug    ] Model has been built.\n",
      "2022-11-23 19:15.29 [info     ] Parameters are saved to d3rlpy_logs/DoubleDQN_online_20221123191529/params.json params={'action_scaler': None, 'batch_size': 32, 'encoder_factory': {'type': 'vector', 'params': {'hidden_units': [30, 30], 'activation': 'relu', 'use_batch_norm': False, 'dropout_rate': None, 'use_dense': False}}, 'gamma': 0.99, 'generated_maxlen': 100000, 'learning_rate': 6.25e-05, 'n_critics': 1, 'n_frames': 1, 'n_steps': 1, 'optim_factory': {'optim_cls': 'Adam', 'betas': (0.9, 0.999), 'eps': 1e-08, 'weight_decay': 0, 'amsgrad': False}, 'q_func_factory': {'type': 'mean', 'params': {'share_encoder': False}}, 'real_ratio': 1.0, 'reward_scaler': None, 'scaler': None, 'target_update_interval': 100, 'use_gpu': None, 'algorithm': 'DoubleDQN', 'observation_shape': (7,), 'action_size': 10}\n"
     ]
    },
    {
     "data": {
      "application/vnd.jupyter.widget-view+json": {
       "model_id": "2968b8171634452ca9908822770d07e2",
       "version_major": 2,
       "version_minor": 0
      },
      "text/plain": [
       "  0%|          | 0/100000 [00:00<?, ?it/s]"
      ]
     },
     "metadata": {},
     "output_type": "display_data"
    },
    {
     "name": "stdout",
     "output_type": "stream",
     "text": [
      "2022-11-23 19:15.31 [info     ] Model parameters are saved to d3rlpy_logs/DoubleDQN_online_20221123191529/model_1000.pt\n",
      "2022-11-23 19:15.31 [info     ] DoubleDQN_online_20221123191529: epoch=1 step=1000 epoch=1 metrics={'time_inference': 0.0006090338230133057, 'time_environment_step': 0.0011364734172821045, 'time_step': 0.0018185782432556153, 'rollout_return': 13.56338028169014, 'evaluation': 14.2} step=1000\n",
      "2022-11-23 19:15.41 [info     ] Model parameters are saved to d3rlpy_logs/DoubleDQN_online_20221123191529/model_2000.pt\n",
      "2022-11-23 19:15.41 [info     ] DoubleDQN_online_20221123191529: epoch=2 step=2000 epoch=2 metrics={'time_inference': 0.0006753802299499512, 'time_environment_step': 0.0012419466972351074, 'time_sample_batch': 0.00016655588150024414, 'time_algorithm_update': 0.007915701866149902, 'loss': 38.515727172374724, 'time_step': 0.010126076698303222, 'rollout_return': 8.767605633802816, 'evaluation': 0.5} step=2000\n",
      "2022-11-23 19:15.46 [info     ] Model parameters are saved to d3rlpy_logs/DoubleDQN_online_20221123191529/model_3000.pt\n",
      "2022-11-23 19:15.46 [info     ] DoubleDQN_online_20221123191529: epoch=3 step=3000 epoch=3 metrics={'time_inference': 0.0005789504051208496, 'time_environment_step': 0.00108217716217041, 'time_sample_batch': 0.00015448856353759765, 'time_algorithm_update': 0.0027235753536224367, 'loss': 14.542765480995179, 'time_step': 0.004649436950683593, 'rollout_return': 5.098591549295775, 'evaluation': 7.0} step=3000\n",
      "2022-11-23 19:15.50 [info     ] Model parameters are saved to d3rlpy_logs/DoubleDQN_online_20221123191529/model_4000.pt\n",
      "2022-11-23 19:15.50 [info     ] DoubleDQN_online_20221123191529: epoch=4 step=4000 epoch=4 metrics={'time_inference': 0.0004762880802154541, 'time_environment_step': 0.0009865031242370606, 'time_sample_batch': 0.00012449002265930176, 'time_algorithm_update': 0.0023974199295043945, 'loss': 13.030283934950829, 'time_step': 0.004073019742965698, 'rollout_return': 6.753521126760563, 'evaluation': 0.0} step=4000\n",
      "2022-11-23 19:15.55 [info     ] Model parameters are saved to d3rlpy_logs/DoubleDQN_online_20221123191529/model_5000.pt\n",
      "2022-11-23 19:15.55 [info     ] DoubleDQN_online_20221123191529: epoch=5 step=5000 epoch=5 metrics={'time_inference': 0.0005629062652587891, 'time_environment_step': 0.0011286065578460693, 'time_sample_batch': 0.00014690303802490233, 'time_algorithm_update': 0.002725482225418091, 'loss': 12.159267886161803, 'time_step': 0.004664119482040405, 'rollout_return': 4.570422535211268, 'evaluation': 0.5} step=5000\n",
      "2022-11-23 19:16.00 [info     ] Model parameters are saved to d3rlpy_logs/DoubleDQN_online_20221123191529/model_6000.pt\n",
      "2022-11-23 19:16.00 [info     ] DoubleDQN_online_20221123191529: epoch=6 step=6000 epoch=6 metrics={'time_inference': 0.00052779221534729, 'time_environment_step': 0.0010221920013427734, 'time_sample_batch': 0.0001286160945892334, 'time_algorithm_update': 0.002597203016281128, 'loss': 10.433469240665437, 'time_step': 0.00436952543258667, 'rollout_return': 5.584507042253521, 'evaluation': 0.0} step=6000\n",
      "2022-11-23 19:16.04 [info     ] Model parameters are saved to d3rlpy_logs/DoubleDQN_online_20221123191529/model_7000.pt\n",
      "2022-11-23 19:16.04 [info     ] DoubleDQN_online_20221123191529: epoch=7 step=7000 epoch=7 metrics={'time_inference': 0.0005115301609039306, 'time_environment_step': 0.0010675649642944336, 'time_sample_batch': 0.0001282353401184082, 'time_algorithm_update': 0.002489137411117554, 'loss': 8.738477697491646, 'time_step': 0.004289465665817261, 'rollout_return': 5.549295774647887, 'evaluation': 0.4} step=7000\n",
      "2022-11-23 19:16.09 [info     ] Model parameters are saved to d3rlpy_logs/DoubleDQN_online_20221123191529/model_8000.pt\n",
      "2022-11-23 19:16.09 [info     ] DoubleDQN_online_20221123191529: epoch=8 step=8000 epoch=8 metrics={'time_inference': 0.0005371038913726807, 'time_environment_step': 0.0011172821521759032, 'time_sample_batch': 0.00013627338409423828, 'time_algorithm_update': 0.0031319682598114013, 'loss': 7.434094705343247, 'time_step': 0.005020850658416748, 'rollout_return': 4.830985915492958, 'evaluation': 0.0} step=8000\n",
      "2022-11-23 19:16.15 [info     ] Model parameters are saved to d3rlpy_logs/DoubleDQN_online_20221123191529/model_9000.pt\n",
      "2022-11-23 19:16.15 [info     ] DoubleDQN_online_20221123191529: epoch=9 step=9000 epoch=9 metrics={'time_inference': 0.0005592834949493408, 'time_environment_step': 0.0011413545608520508, 'time_sample_batch': 0.00013869071006774903, 'time_algorithm_update': 0.0035804998874664306, 'loss': 6.107063066720962, 'time_step': 0.005518476009368897, 'rollout_return': 5.415492957746479, 'evaluation': 0.0} step=9000\n",
      "2022-11-23 19:16.20 [info     ] Model parameters are saved to d3rlpy_logs/DoubleDQN_online_20221123191529/model_10000.pt\n",
      "2022-11-23 19:16.20 [info     ] DoubleDQN_online_20221123191529: epoch=10 step=10000 epoch=10 metrics={'time_inference': 0.0005227315425872802, 'time_environment_step': 0.0010603001117706298, 'time_sample_batch': 0.0001282308101654053, 'time_algorithm_update': 0.0027909865379333494, 'loss': 4.913862666606903, 'time_step': 0.004595649480819702, 'rollout_return': 5.901408450704225, 'evaluation': 0.0} step=10000\n",
      "2022-11-23 19:16.25 [info     ] Model parameters are saved to d3rlpy_logs/DoubleDQN_online_20221123191529/model_11000.pt\n",
      "2022-11-23 19:16.25 [info     ] DoubleDQN_online_20221123191529: epoch=11 step=11000 epoch=11 metrics={'time_inference': 0.0005232477188110351, 'time_environment_step': 0.0010387065410614013, 'time_sample_batch': 0.00012790822982788086, 'time_algorithm_update': 0.002653533458709717, 'loss': 4.027162256896496, 'time_step': 0.004440558433532715, 'rollout_return': 8.485915492957746, 'evaluation': 7.4} step=11000\n",
      "2022-11-23 19:16.29 [info     ] Model parameters are saved to d3rlpy_logs/DoubleDQN_online_20221123191529/model_12000.pt\n",
      "2022-11-23 19:16.29 [info     ] DoubleDQN_online_20221123191529: epoch=12 step=12000 epoch=12 metrics={'time_inference': 0.0005253503322601318, 'time_environment_step': 0.0010296821594238282, 'time_sample_batch': 0.00012615132331848144, 'time_algorithm_update': 0.0027114746570587158, 'loss': 3.216043763279915, 'time_step': 0.004490764379501343, 'rollout_return': 9.43661971830986, 'evaluation': 0.7} step=12000\n",
      "2022-11-23 19:16.34 [info     ] Model parameters are saved to d3rlpy_logs/DoubleDQN_online_20221123191529/model_13000.pt\n",
      "2022-11-23 19:16.34 [info     ] DoubleDQN_online_20221123191529: epoch=13 step=13000 epoch=13 metrics={'time_inference': 0.00048554372787475587, 'time_environment_step': 0.000972574234008789, 'time_sample_batch': 0.0001239471435546875, 'time_algorithm_update': 0.0023915889263153075, 'loss': 2.4113583924770357, 'time_step': 0.004069819211959839, 'rollout_return': 10.169014084507042, 'evaluation': 0.0} step=13000\n",
      "2022-11-23 19:16.39 [info     ] Model parameters are saved to d3rlpy_logs/DoubleDQN_online_20221123191529/model_14000.pt\n",
      "2022-11-23 19:16.39 [info     ] DoubleDQN_online_20221123191529: epoch=14 step=14000 epoch=14 metrics={'time_inference': 0.0005845677852630615, 'time_environment_step': 0.0010667295455932617, 'time_sample_batch': 0.00013242602348327635, 'time_algorithm_update': 0.0029693868160247804, 'loss': 2.118891208946705, 'time_step': 0.004851471900939941, 'rollout_return': 12.943661971830986, 'evaluation': 13.0} step=14000\n",
      "2022-11-23 19:16.43 [info     ] Model parameters are saved to d3rlpy_logs/DoubleDQN_online_20221123191529/model_15000.pt\n",
      "2022-11-23 19:16.44 [info     ] DoubleDQN_online_20221123191529: epoch=15 step=15000 epoch=15 metrics={'time_inference': 0.0005367617607116699, 'time_environment_step': 0.0010743148326873779, 'time_sample_batch': 0.00014398574829101562, 'time_algorithm_update': 0.002686007022857666, 'loss': 1.9245386155843736, 'time_step': 0.004541019916534424, 'rollout_return': 13.908450704225352, 'evaluation': 14.9} step=15000\n",
      "2022-11-23 19:16.48 [info     ] Model parameters are saved to d3rlpy_logs/DoubleDQN_online_20221123191529/model_16000.pt\n",
      "2022-11-23 19:16.48 [info     ] DoubleDQN_online_20221123191529: epoch=16 step=16000 epoch=16 metrics={'time_inference': 0.0005453040599822998, 'time_environment_step': 0.001029102087020874, 'time_sample_batch': 0.00012686085700988769, 'time_algorithm_update': 0.002708678483963013, 'loss': 2.0274913546442987, 'time_step': 0.0045081405639648435, 'rollout_return': 11.880281690140846, 'evaluation': 17.7} step=16000\n",
      "2022-11-23 19:16.53 [info     ] Model parameters are saved to d3rlpy_logs/DoubleDQN_online_20221123191529/model_17000.pt\n",
      "2022-11-23 19:16.53 [info     ] DoubleDQN_online_20221123191529: epoch=17 step=17000 epoch=17 metrics={'time_inference': 0.0005201239585876465, 'time_environment_step': 0.00106392502784729, 'time_sample_batch': 0.00013854646682739258, 'time_algorithm_update': 0.0025172882080078127, 'loss': 1.7632741826772689, 'time_step': 0.004342092752456665, 'rollout_return': 14.514084507042254, 'evaluation': 15.9} step=17000\n",
      "2022-11-23 19:16.57 [info     ] Model parameters are saved to d3rlpy_logs/DoubleDQN_online_20221123191529/model_18000.pt\n",
      "2022-11-23 19:16.57 [info     ] DoubleDQN_online_20221123191529: epoch=18 step=18000 epoch=18 metrics={'time_inference': 0.0004982914924621582, 'time_environment_step': 0.0009751784801483155, 'time_sample_batch': 0.00012521147727966308, 'time_algorithm_update': 0.002387195587158203, 'loss': 1.7314598498940468, 'time_step': 0.00407828688621521, 'rollout_return': 13.95774647887324, 'evaluation': 14.6} step=18000\n",
      "2022-11-23 19:17.02 [info     ] Model parameters are saved to d3rlpy_logs/DoubleDQN_online_20221123191529/model_19000.pt\n",
      "2022-11-23 19:17.02 [info     ] DoubleDQN_online_20221123191529: epoch=19 step=19000 epoch=19 metrics={'time_inference': 0.0005616092681884765, 'time_environment_step': 0.0010508012771606446, 'time_sample_batch': 0.0001310725212097168, 'time_algorithm_update': 0.0028210670948028566, 'loss': 1.6616405486166477, 'time_step': 0.004663161277770996, 'rollout_return': 14.76056338028169, 'evaluation': 16.9} step=19000\n",
      "2022-11-23 19:17.07 [info     ] Model parameters are saved to d3rlpy_logs/DoubleDQN_online_20221123191529/model_20000.pt\n",
      "2022-11-23 19:17.07 [info     ] DoubleDQN_online_20221123191529: epoch=20 step=20000 epoch=20 metrics={'time_inference': 0.0005935811996459961, 'time_environment_step': 0.0011562840938568115, 'time_sample_batch': 0.00016373801231384279, 'time_algorithm_update': 0.0030936684608459473, 'loss': 1.6218068862259387, 'time_step': 0.005129867553710937, 'rollout_return': 12.915492957746478, 'evaluation': 15.9} step=20000\n",
      "2022-11-23 19:17.13 [info     ] Model parameters are saved to d3rlpy_logs/DoubleDQN_online_20221123191529/model_21000.pt\n",
      "2022-11-23 19:17.13 [info     ] DoubleDQN_online_20221123191529: epoch=21 step=21000 epoch=21 metrics={'time_inference': 0.0006861031055450439, 'time_environment_step': 0.0012776987552642822, 'time_sample_batch': 0.00015639495849609374, 'time_algorithm_update': 0.003534475088119507, 'loss': 1.408151103168726, 'time_step': 0.005775806903839112, 'rollout_return': 13.211267605633802, 'evaluation': 16.2} step=21000\n",
      "2022-11-23 19:17.18 [info     ] Model parameters are saved to d3rlpy_logs/DoubleDQN_online_20221123191529/model_22000.pt\n",
      "2022-11-23 19:17.18 [info     ] DoubleDQN_online_20221123191529: epoch=22 step=22000 epoch=22 metrics={'time_inference': 0.0005658442974090576, 'time_environment_step': 0.0011080763339996339, 'time_sample_batch': 0.00013717341423034667, 'time_algorithm_update': 0.0029213523864746096, 'loss': 1.2557613472938538, 'time_step': 0.00483652925491333, 'rollout_return': 14.211267605633802, 'evaluation': 16.4} step=22000\n",
      "2022-11-23 19:17.23 [info     ] Model parameters are saved to d3rlpy_logs/DoubleDQN_online_20221123191529/model_23000.pt\n",
      "2022-11-23 19:17.23 [info     ] DoubleDQN_online_20221123191529: epoch=23 step=23000 epoch=23 metrics={'time_inference': 0.0005143022537231445, 'time_environment_step': 0.0010267179012298584, 'time_sample_batch': 0.00013265347480773926, 'time_algorithm_update': 0.0024894514083862304, 'loss': 1.1734033333957195, 'time_step': 0.004258105754852295, 'rollout_return': 14.725352112676056, 'evaluation': 16.3} step=23000\n",
      "2022-11-23 19:17.27 [info     ] Model parameters are saved to d3rlpy_logs/DoubleDQN_online_20221123191529/model_24000.pt\n",
      "2022-11-23 19:17.27 [info     ] DoubleDQN_online_20221123191529: epoch=24 step=24000 epoch=24 metrics={'time_inference': 0.0005142781734466553, 'time_environment_step': 0.0010134968757629394, 'time_sample_batch': 0.0001387007236480713, 'time_algorithm_update': 0.0025242807865142824, 'loss': 1.1379199400544167, 'time_step': 0.004294741153717041, 'rollout_return': 14.32394366197183, 'evaluation': 16.6} step=24000\n",
      "2022-11-23 19:17.32 [info     ] Model parameters are saved to d3rlpy_logs/DoubleDQN_online_20221123191529/model_25000.pt\n",
      "2022-11-23 19:17.32 [info     ] DoubleDQN_online_20221123191529: epoch=25 step=25000 epoch=25 metrics={'time_inference': 0.0004943797588348389, 'time_environment_step': 0.000998664140701294, 'time_sample_batch': 0.00012436461448669435, 'time_algorithm_update': 0.0023484773635864256, 'loss': 1.1006575333476067, 'time_step': 0.004058839797973633, 'rollout_return': 14.56338028169014, 'evaluation': 15.2} step=25000\n",
      "2022-11-23 19:17.36 [info     ] Model parameters are saved to d3rlpy_logs/DoubleDQN_online_20221123191529/model_26000.pt\n",
      "2022-11-23 19:17.36 [info     ] DoubleDQN_online_20221123191529: epoch=26 step=26000 epoch=26 metrics={'time_inference': 0.0005246362686157226, 'time_environment_step': 0.0010558664798736572, 'time_sample_batch': 0.00013236045837402343, 'time_algorithm_update': 0.0026389651298522948, 'loss': 1.1200610239803792, 'time_step': 0.004447815895080566, 'rollout_return': 14.014084507042254, 'evaluation': 16.7} step=26000\n",
      "2022-11-23 19:17.40 [info     ] Model parameters are saved to d3rlpy_logs/DoubleDQN_online_20221123191529/model_27000.pt\n",
      "2022-11-23 19:17.40 [info     ] DoubleDQN_online_20221123191529: epoch=27 step=27000 epoch=27 metrics={'time_inference': 0.0004873836040496826, 'time_environment_step': 0.0009524765014648438, 'time_sample_batch': 0.00011877751350402833, 'time_algorithm_update': 0.002246396541595459, 'loss': 1.0864758709073066, 'time_step': 0.0038944191932678224, 'rollout_return': 14.19718309859155, 'evaluation': 12.0} step=27000\n",
      "2022-11-23 19:17.45 [info     ] Model parameters are saved to d3rlpy_logs/DoubleDQN_online_20221123191529/model_28000.pt\n",
      "2022-11-23 19:17.45 [info     ] DoubleDQN_online_20221123191529: epoch=28 step=28000 epoch=28 metrics={'time_inference': 0.0004808409214019775, 'time_environment_step': 0.0009950222969055177, 'time_sample_batch': 0.00012330794334411622, 'time_algorithm_update': 0.0024506928920745847, 'loss': 1.038599588394165, 'time_step': 0.004139652967453003, 'rollout_return': 14.0, 'evaluation': 16.8} step=28000\n",
      "2022-11-23 19:17.49 [info     ] Model parameters are saved to d3rlpy_logs/DoubleDQN_online_20221123191529/model_29000.pt\n",
      "2022-11-23 19:17.49 [info     ] DoubleDQN_online_20221123191529: epoch=29 step=29000 epoch=29 metrics={'time_inference': 0.0005133030414581299, 'time_environment_step': 0.0010533761978149415, 'time_sample_batch': 0.00013416004180908202, 'time_algorithm_update': 0.002639512777328491, 'loss': 1.0561465264707803, 'time_step': 0.00443703293800354, 'rollout_return': 14.26056338028169, 'evaluation': 15.7} step=29000\n",
      "2022-11-23 19:17.54 [info     ] Model parameters are saved to d3rlpy_logs/DoubleDQN_online_20221123191529/model_30000.pt\n",
      "2022-11-23 19:17.54 [info     ] DoubleDQN_online_20221123191529: epoch=30 step=30000 epoch=30 metrics={'time_inference': 0.0005038456916809082, 'time_environment_step': 0.001021409273147583, 'time_sample_batch': 0.0001284046173095703, 'time_algorithm_update': 0.0025422232151031494, 'loss': 1.0443434846103192, 'time_step': 0.0042911794185638424, 'rollout_return': 14.06338028169014, 'evaluation': 13.3} step=30000\n",
      "2022-11-23 19:17.58 [info     ] Model parameters are saved to d3rlpy_logs/DoubleDQN_online_20221123191529/model_31000.pt\n",
      "2022-11-23 19:17.58 [info     ] DoubleDQN_online_20221123191529: epoch=31 step=31000 epoch=31 metrics={'time_inference': 0.0005086870193481446, 'time_environment_step': 0.0010301814079284669, 'time_sample_batch': 0.00012752652168273926, 'time_algorithm_update': 0.002438018321990967, 'loss': 1.0290304338037968, 'time_step': 0.0042131378650665284, 'rollout_return': 14.32394366197183, 'evaluation': 13.1} step=31000\n",
      "2022-11-23 19:18.03 [info     ] Model parameters are saved to d3rlpy_logs/DoubleDQN_online_20221123191529/model_32000.pt\n",
      "2022-11-23 19:18.03 [info     ] DoubleDQN_online_20221123191529: epoch=32 step=32000 epoch=32 metrics={'time_inference': 0.0005237786769866944, 'time_environment_step': 0.0010293328762054443, 'time_sample_batch': 0.00012481212615966797, 'time_algorithm_update': 0.0024443941116333006, 'loss': 1.0089911042153836, 'time_step': 0.004214220762252808, 'rollout_return': 14.43661971830986, 'evaluation': 16.3} step=32000\n",
      "2022-11-23 19:18.07 [info     ] Model parameters are saved to d3rlpy_logs/DoubleDQN_online_20221123191529/model_33000.pt\n",
      "2022-11-23 19:18.07 [info     ] DoubleDQN_online_20221123191529: epoch=33 step=33000 epoch=33 metrics={'time_inference': 0.00048216128349304197, 'time_environment_step': 0.0009606633186340332, 'time_sample_batch': 0.00012149739265441894, 'time_algorithm_update': 0.002300123929977417, 'loss': 0.9754497385025025, 'time_step': 0.003955308198928833, 'rollout_return': 13.626760563380282, 'evaluation': 14.7} step=33000\n",
      "2022-11-23 19:18.11 [info     ] Model parameters are saved to d3rlpy_logs/DoubleDQN_online_20221123191529/model_34000.pt\n",
      "2022-11-23 19:18.11 [info     ] DoubleDQN_online_20221123191529: epoch=34 step=34000 epoch=34 metrics={'time_inference': 0.0004446759223937988, 'time_environment_step': 0.0009003355503082275, 'time_sample_batch': 0.00011877274513244628, 'time_algorithm_update': 0.0020816977024078367, 'loss': 1.0049556309878827, 'time_step': 0.0036292197704315184, 'rollout_return': 14.78169014084507, 'evaluation': 13.9} step=34000\n",
      "2022-11-23 19:18.15 [info     ] Model parameters are saved to d3rlpy_logs/DoubleDQN_online_20221123191529/model_35000.pt\n",
      "2022-11-23 19:18.15 [info     ] DoubleDQN_online_20221123191529: epoch=35 step=35000 epoch=35 metrics={'time_inference': 0.0004639894962310791, 'time_environment_step': 0.0009365754127502442, 'time_sample_batch': 0.00011708831787109375, 'time_algorithm_update': 0.0021295650005340575, 'loss': 0.9513425236642361, 'time_step': 0.003736973524093628, 'rollout_return': 14.584507042253522, 'evaluation': 5.7} step=35000\n",
      "2022-11-23 19:18.20 [info     ] Model parameters are saved to d3rlpy_logs/DoubleDQN_online_20221123191529/model_36000.pt\n",
      "2022-11-23 19:18.20 [info     ] DoubleDQN_online_20221123191529: epoch=36 step=36000 epoch=36 metrics={'time_inference': 0.0005584592819213867, 'time_environment_step': 0.0010651376247406007, 'time_sample_batch': 0.00014372611045837403, 'time_algorithm_update': 0.003311076879501343, 'loss': 0.9696026422381401, 'time_step': 0.005177909135818481, 'rollout_return': 14.901408450704226, 'evaluation': 16.5} step=36000\n",
      "2022-11-23 19:18.27 [info     ] Model parameters are saved to d3rlpy_logs/DoubleDQN_online_20221123191529/model_37000.pt\n",
      "2022-11-23 19:18.27 [info     ] DoubleDQN_online_20221123191529: epoch=37 step=37000 epoch=37 metrics={'time_inference': 0.0006303040981292724, 'time_environment_step': 0.001336923122406006, 'time_sample_batch': 0.00016181421279907226, 'time_algorithm_update': 0.004384080171585083, 'loss': 0.9252710681557655, 'time_step': 0.0066225149631500245, 'rollout_return': 15.007042253521126, 'evaluation': 16.3} step=37000\n",
      "2022-11-23 19:18.33 [info     ] Model parameters are saved to d3rlpy_logs/DoubleDQN_online_20221123191529/model_38000.pt\n",
      "2022-11-23 19:18.33 [info     ] DoubleDQN_online_20221123191529: epoch=38 step=38000 epoch=38 metrics={'time_inference': 0.0006058106422424317, 'time_environment_step': 0.0011523325443267823, 'time_sample_batch': 0.00013581347465515137, 'time_algorithm_update': 0.0041107337474823, 'loss': 0.9493054979741573, 'time_step': 0.006104733943939209, 'rollout_return': 13.922535211267606, 'evaluation': 17.9} step=38000\n",
      "2022-11-23 19:18.38 [info     ] Model parameters are saved to d3rlpy_logs/DoubleDQN_online_20221123191529/model_39000.pt\n",
      "2022-11-23 19:18.38 [info     ] DoubleDQN_online_20221123191529: epoch=39 step=39000 epoch=39 metrics={'time_inference': 0.0005101866722106934, 'time_environment_step': 0.001006237745285034, 'time_sample_batch': 0.00013172459602355958, 'time_algorithm_update': 0.002687145233154297, 'loss': 0.9057347602546215, 'time_step': 0.004441131114959717, 'rollout_return': 14.422535211267606, 'evaluation': 0.0} step=39000\n",
      "2022-11-23 19:18.43 [info     ] Model parameters are saved to d3rlpy_logs/DoubleDQN_online_20221123191529/model_40000.pt\n",
      "2022-11-23 19:18.43 [info     ] DoubleDQN_online_20221123191529: epoch=40 step=40000 epoch=40 metrics={'time_inference': 0.0005305056571960449, 'time_environment_step': 0.0010750577449798583, 'time_sample_batch': 0.00013356328010559083, 'time_algorithm_update': 0.0026711745262146, 'loss': 0.8806655327379703, 'time_step': 0.004512655258178711, 'rollout_return': 14.859154929577464, 'evaluation': 16.5} step=40000\n",
      "2022-11-23 19:18.47 [info     ] Model parameters are saved to d3rlpy_logs/DoubleDQN_online_20221123191529/model_41000.pt\n",
      "2022-11-23 19:18.47 [info     ] DoubleDQN_online_20221123191529: epoch=41 step=41000 epoch=41 metrics={'time_inference': 0.0005053415298461914, 'time_environment_step': 0.0010245115756988526, 'time_sample_batch': 0.0001358911991119385, 'time_algorithm_update': 0.0024120757579803465, 'loss': 0.9133016041219234, 'time_step': 0.0041918129920959476, 'rollout_return': 14.93661971830986, 'evaluation': 15.0} step=41000\n",
      "2022-11-23 19:18.52 [info     ] Model parameters are saved to d3rlpy_logs/DoubleDQN_online_20221123191529/model_42000.pt\n",
      "2022-11-23 19:18.52 [info     ] DoubleDQN_online_20221123191529: epoch=42 step=42000 epoch=42 metrics={'time_inference': 0.0005156457424163819, 'time_environment_step': 0.0010516548156738281, 'time_sample_batch': 0.00012833738327026366, 'time_algorithm_update': 0.002495159149169922, 'loss': 0.865413283586502, 'time_step': 0.004287994623184204, 'rollout_return': 14.359154929577464, 'evaluation': 16.1} step=42000\n",
      "2022-11-23 19:18.56 [info     ] Model parameters are saved to d3rlpy_logs/DoubleDQN_online_20221123191529/model_43000.pt\n",
      "2022-11-23 19:18.56 [info     ] DoubleDQN_online_20221123191529: epoch=43 step=43000 epoch=43 metrics={'time_inference': 0.0004967207908630371, 'time_environment_step': 0.0010181705951690673, 'time_sample_batch': 0.00012790393829345702, 'time_algorithm_update': 0.0027197155952453614, 'loss': 0.824946630179882, 'time_step': 0.0044569108486175535, 'rollout_return': 15.049295774647888, 'evaluation': 17.8} step=43000\n",
      "2022-11-23 19:19.01 [info     ] Model parameters are saved to d3rlpy_logs/DoubleDQN_online_20221123191529/model_44000.pt\n",
      "2022-11-23 19:19.01 [info     ] DoubleDQN_online_20221123191529: epoch=44 step=44000 epoch=44 metrics={'time_inference': 0.0004919040203094483, 'time_environment_step': 0.0010079276561737061, 'time_sample_batch': 0.00012361860275268555, 'time_algorithm_update': 0.0024179298877716063, 'loss': 0.8249012765437365, 'time_step': 0.004132225751876831, 'rollout_return': 15.049295774647888, 'evaluation': 16.8} step=44000\n",
      "2022-11-23 19:19.05 [info     ] Model parameters are saved to d3rlpy_logs/DoubleDQN_online_20221123191529/model_45000.pt\n",
      "2022-11-23 19:19.05 [info     ] DoubleDQN_online_20221123191529: epoch=45 step=45000 epoch=45 metrics={'time_inference': 0.000525515079498291, 'time_environment_step': 0.0010681872367858886, 'time_sample_batch': 0.0001448671817779541, 'time_algorithm_update': 0.002654361724853516, 'loss': 0.8075037146061659, 'time_step': 0.004497427225112915, 'rollout_return': 14.17605633802817, 'evaluation': 14.3} step=45000\n",
      "2022-11-23 19:19.10 [info     ] Model parameters are saved to d3rlpy_logs/DoubleDQN_online_20221123191529/model_46000.pt\n",
      "2022-11-23 19:19.10 [info     ] DoubleDQN_online_20221123191529: epoch=46 step=46000 epoch=46 metrics={'time_inference': 0.0005474011898040772, 'time_environment_step': 0.0011214993000030517, 'time_sample_batch': 0.00013303446769714355, 'time_algorithm_update': 0.0029100871086120608, 'loss': 0.8009287884235382, 'time_step': 0.004814334630966186, 'rollout_return': 15.169014084507042, 'evaluation': 16.0} step=46000\n",
      "2022-11-23 19:19.15 [info     ] Model parameters are saved to d3rlpy_logs/DoubleDQN_online_20221123191529/model_47000.pt\n",
      "2022-11-23 19:19.15 [info     ] DoubleDQN_online_20221123191529: epoch=47 step=47000 epoch=47 metrics={'time_inference': 0.0005148086547851563, 'time_environment_step': 0.0010129384994506836, 'time_sample_batch': 0.00012664031982421875, 'time_algorithm_update': 0.0025989925861358643, 'loss': 0.8051031837314367, 'time_step': 0.004353678464889527, 'rollout_return': 14.647887323943662, 'evaluation': 15.5} step=47000\n",
      "2022-11-23 19:19.19 [info     ] Model parameters are saved to d3rlpy_logs/DoubleDQN_online_20221123191529/model_48000.pt\n",
      "2022-11-23 19:19.20 [info     ] DoubleDQN_online_20221123191529: epoch=48 step=48000 epoch=48 metrics={'time_inference': 0.0005311458110809326, 'time_environment_step': 0.0010555827617645265, 'time_sample_batch': 0.00013281941413879395, 'time_algorithm_update': 0.0026066699028015135, 'loss': 0.7861374734342098, 'time_step': 0.00442495846748352, 'rollout_return': 14.359154929577464, 'evaluation': 17.3} step=48000\n",
      "2022-11-23 19:19.24 [info     ] Model parameters are saved to d3rlpy_logs/DoubleDQN_online_20221123191529/model_49000.pt\n",
      "2022-11-23 19:19.24 [info     ] DoubleDQN_online_20221123191529: epoch=49 step=49000 epoch=49 metrics={'time_inference': 0.0004900834560394288, 'time_environment_step': 0.0009637274742126465, 'time_sample_batch': 0.00012928509712219238, 'time_algorithm_update': 0.0023443784713745117, 'loss': 0.7767872654944659, 'time_step': 0.004017216682434082, 'rollout_return': 14.183098591549296, 'evaluation': 13.6} step=49000\n",
      "2022-11-23 19:19.28 [info     ] Model parameters are saved to d3rlpy_logs/DoubleDQN_online_20221123191529/model_50000.pt\n",
      "2022-11-23 19:19.28 [info     ] DoubleDQN_online_20221123191529: epoch=50 step=50000 epoch=50 metrics={'time_inference': 0.0004783370494842529, 'time_environment_step': 0.0009505271911621094, 'time_sample_batch': 0.00012114191055297851, 'time_algorithm_update': 0.0022633051872253417, 'loss': 0.7929435752630234, 'time_step': 0.0039019031524658203, 'rollout_return': 14.852112676056338, 'evaluation': 16.0} step=50000\n",
      "2022-11-23 19:19.32 [info     ] Model parameters are saved to d3rlpy_logs/DoubleDQN_online_20221123191529/model_51000.pt\n",
      "2022-11-23 19:19.32 [info     ] DoubleDQN_online_20221123191529: epoch=51 step=51000 epoch=51 metrics={'time_inference': 0.0004935078620910645, 'time_environment_step': 0.0009773950576782227, 'time_sample_batch': 0.00012082576751708984, 'time_algorithm_update': 0.002280625581741333, 'loss': 0.7760393744409084, 'time_step': 0.00396188759803772, 'rollout_return': 14.373239436619718, 'evaluation': 13.8} step=51000\n",
      "2022-11-23 19:19.37 [info     ] Model parameters are saved to d3rlpy_logs/DoubleDQN_online_20221123191529/model_52000.pt\n",
      "2022-11-23 19:19.37 [info     ] DoubleDQN_online_20221123191529: epoch=52 step=52000 epoch=52 metrics={'time_inference': 0.0005360171794891358, 'time_environment_step': 0.0010755341053009034, 'time_sample_batch': 0.00013994646072387694, 'time_algorithm_update': 0.002684347629547119, 'loss': 0.7931625468730926, 'time_step': 0.00453858757019043, 'rollout_return': 14.69718309859155, 'evaluation': 15.7} step=52000\n",
      "2022-11-23 19:19.41 [info     ] Model parameters are saved to d3rlpy_logs/DoubleDQN_online_20221123191529/model_53000.pt\n",
      "2022-11-23 19:19.41 [info     ] DoubleDQN_online_20221123191529: epoch=53 step=53000 epoch=53 metrics={'time_inference': 0.0005002295970916748, 'time_environment_step': 0.0009787752628326416, 'time_sample_batch': 0.0001237640380859375, 'time_algorithm_update': 0.002329115390777588, 'loss': 0.7924904826879501, 'time_step': 0.0040227131843566894, 'rollout_return': 15.070422535211268, 'evaluation': 18.6} step=53000\n",
      "2022-11-23 19:19.45 [info     ] Model parameters are saved to d3rlpy_logs/DoubleDQN_online_20221123191529/model_54000.pt\n",
      "2022-11-23 19:19.45 [info     ] DoubleDQN_online_20221123191529: epoch=54 step=54000 epoch=54 metrics={'time_inference': 0.0005116486549377442, 'time_environment_step': 0.0010095927715301513, 'time_sample_batch': 0.0001276845932006836, 'time_algorithm_update': 0.002530186653137207, 'loss': 0.8148384305238724, 'time_step': 0.004275485754013062, 'rollout_return': 14.401408450704226, 'evaluation': 16.4} step=54000\n",
      "2022-11-23 19:19.50 [info     ] Model parameters are saved to d3rlpy_logs/DoubleDQN_online_20221123191529/model_55000.pt\n",
      "2022-11-23 19:19.50 [info     ] DoubleDQN_online_20221123191529: epoch=55 step=55000 epoch=55 metrics={'time_inference': 0.0005017139911651611, 'time_environment_step': 0.0009776263236999513, 'time_sample_batch': 0.00012032818794250488, 'time_algorithm_update': 0.002310429573059082, 'loss': 0.834171418249607, 'time_step': 0.004000279188156128, 'rollout_return': 14.556338028169014, 'evaluation': 13.8} step=55000\n",
      "2022-11-23 19:19.54 [info     ] Model parameters are saved to d3rlpy_logs/DoubleDQN_online_20221123191529/model_56000.pt\n",
      "2022-11-23 19:19.54 [info     ] DoubleDQN_online_20221123191529: epoch=56 step=56000 epoch=56 metrics={'time_inference': 0.0004842822551727295, 'time_environment_step': 0.0009765183925628662, 'time_sample_batch': 0.00012726020812988282, 'time_algorithm_update': 0.0023873569965362548, 'loss': 0.8197297065854072, 'time_step': 0.0040720152854919435, 'rollout_return': 14.54225352112676, 'evaluation': 17.8} step=56000\n",
      "2022-11-23 19:19.58 [info     ] Model parameters are saved to d3rlpy_logs/DoubleDQN_online_20221123191529/model_57000.pt\n",
      "2022-11-23 19:19.58 [info     ] DoubleDQN_online_20221123191529: epoch=57 step=57000 epoch=57 metrics={'time_inference': 0.0004806985855102539, 'time_environment_step': 0.000965221643447876, 'time_sample_batch': 0.00012203478813171387, 'time_algorithm_update': 0.0022992994785308836, 'loss': 0.8301036792397499, 'time_step': 0.003957125902175903, 'rollout_return': 14.591549295774648, 'evaluation': 16.1} step=57000\n",
      "2022-11-23 19:20.03 [info     ] Model parameters are saved to d3rlpy_logs/DoubleDQN_online_20221123191529/model_58000.pt\n",
      "2022-11-23 19:20.03 [info     ] DoubleDQN_online_20221123191529: epoch=58 step=58000 epoch=58 metrics={'time_inference': 0.0005004503726959229, 'time_environment_step': 0.0010137965679168702, 'time_sample_batch': 0.00012927865982055665, 'time_algorithm_update': 0.002496948719024658, 'loss': 0.8120698500871658, 'time_step': 0.0042329044342041015, 'rollout_return': 14.73943661971831, 'evaluation': 15.8} step=58000\n",
      "2022-11-23 19:20.07 [info     ] Model parameters are saved to d3rlpy_logs/DoubleDQN_online_20221123191529/model_59000.pt\n",
      "2022-11-23 19:20.07 [info     ] DoubleDQN_online_20221123191529: epoch=59 step=59000 epoch=59 metrics={'time_inference': 0.0005329132080078125, 'time_environment_step': 0.0010702133178710938, 'time_sample_batch': 0.00013547372817993163, 'time_algorithm_update': 0.002495322227478027, 'loss': 0.8116438631117344, 'time_step': 0.004335646629333496, 'rollout_return': 14.95774647887324, 'evaluation': 14.6} step=59000\n",
      "2022-11-23 19:20.12 [info     ] Model parameters are saved to d3rlpy_logs/DoubleDQN_online_20221123191529/model_60000.pt\n",
      "2022-11-23 19:20.12 [info     ] DoubleDQN_online_20221123191529: epoch=60 step=60000 epoch=60 metrics={'time_inference': 0.0005181822776794434, 'time_environment_step': 0.0010587050914764404, 'time_sample_batch': 0.00012874317169189454, 'time_algorithm_update': 0.0025000576972961427, 'loss': 0.782536858022213, 'time_step': 0.004310379028320313, 'rollout_return': 14.873239436619718, 'evaluation': 17.4} step=60000\n",
      "2022-11-23 19:20.16 [info     ] Model parameters are saved to d3rlpy_logs/DoubleDQN_online_20221123191529/model_61000.pt\n",
      "2022-11-23 19:20.16 [info     ] DoubleDQN_online_20221123191529: epoch=61 step=61000 epoch=61 metrics={'time_inference': 0.0005041470527648925, 'time_environment_step': 0.0010063962936401366, 'time_sample_batch': 0.00012462019920349122, 'time_algorithm_update': 0.0026209497451782225, 'loss': 0.7927211198508739, 'time_step': 0.004350343942642212, 'rollout_return': 14.873239436619718, 'evaluation': 17.5} step=61000\n",
      "2022-11-23 19:20.20 [info     ] Model parameters are saved to d3rlpy_logs/DoubleDQN_online_20221123191529/model_62000.pt\n",
      "2022-11-23 19:20.20 [info     ] DoubleDQN_online_20221123191529: epoch=62 step=62000 epoch=62 metrics={'time_inference': 0.00047411561012268067, 'time_environment_step': 0.00096260404586792, 'time_sample_batch': 0.0001196732521057129, 'time_algorithm_update': 0.0023333935737609862, 'loss': 0.7833004554063082, 'time_step': 0.003980381965637207, 'rollout_return': 14.014084507042254, 'evaluation': 15.9} step=62000\n",
      "2022-11-23 19:20.25 [info     ] Model parameters are saved to d3rlpy_logs/DoubleDQN_online_20221123191529/model_63000.pt\n",
      "2022-11-23 19:20.25 [info     ] DoubleDQN_online_20221123191529: epoch=63 step=63000 epoch=63 metrics={'time_inference': 0.0005123682022094726, 'time_environment_step': 0.001015551805496216, 'time_sample_batch': 0.00012578487396240235, 'time_algorithm_update': 0.002454259157180786, 'loss': 0.8105155791640282, 'time_step': 0.00420459794998169, 'rollout_return': 14.964788732394366, 'evaluation': 14.7} step=63000\n",
      "2022-11-23 19:20.29 [info     ] Model parameters are saved to d3rlpy_logs/DoubleDQN_online_20221123191529/model_64000.pt\n",
      "2022-11-23 19:20.29 [info     ] DoubleDQN_online_20221123191529: epoch=64 step=64000 epoch=64 metrics={'time_inference': 0.00047397875785827636, 'time_environment_step': 0.0009490394592285156, 'time_sample_batch': 0.00012034344673156738, 'time_algorithm_update': 0.0022550077438354492, 'loss': 0.7817167427241802, 'time_step': 0.0038868374824523925, 'rollout_return': 14.669014084507042, 'evaluation': 16.7} step=64000\n",
      "2022-11-23 19:20.33 [info     ] Model parameters are saved to d3rlpy_logs/DoubleDQN_online_20221123191529/model_65000.pt\n",
      "2022-11-23 19:20.33 [info     ] DoubleDQN_online_20221123191529: epoch=65 step=65000 epoch=65 metrics={'time_inference': 0.0005312836170196533, 'time_environment_step': 0.001039926290512085, 'time_sample_batch': 0.00014092326164245607, 'time_algorithm_update': 0.0025389342308044433, 'loss': 0.7966738254725934, 'time_step': 0.004347840070724487, 'rollout_return': 14.690140845070422, 'evaluation': 17.1} step=65000\n",
      "2022-11-23 19:20.38 [info     ] Model parameters are saved to d3rlpy_logs/DoubleDQN_online_20221123191529/model_66000.pt\n",
      "2022-11-23 19:20.38 [info     ] DoubleDQN_online_20221123191529: epoch=66 step=66000 epoch=66 metrics={'time_inference': 0.000497326135635376, 'time_environment_step': 0.001018336057662964, 'time_sample_batch': 0.0001295781135559082, 'time_algorithm_update': 0.002458155870437622, 'loss': 0.7675061434805394, 'time_step': 0.004202661514282227, 'rollout_return': 14.338028169014084, 'evaluation': 14.3} step=66000\n",
      "2022-11-23 19:20.42 [info     ] Model parameters are saved to d3rlpy_logs/DoubleDQN_online_20221123191529/model_67000.pt\n",
      "2022-11-23 19:20.42 [info     ] DoubleDQN_online_20221123191529: epoch=67 step=67000 epoch=67 metrics={'time_inference': 0.0004817948341369629, 'time_environment_step': 0.0009765207767486572, 'time_sample_batch': 0.00012273025512695313, 'time_algorithm_update': 0.0023376784324645994, 'loss': 0.7672574513703585, 'time_step': 0.004009370803833008, 'rollout_return': 15.056338028169014, 'evaluation': 17.4} step=67000\n",
      "2022-11-23 19:20.46 [info     ] Model parameters are saved to d3rlpy_logs/DoubleDQN_online_20221123191529/model_68000.pt\n",
      "2022-11-23 19:20.46 [info     ] DoubleDQN_online_20221123191529: epoch=68 step=68000 epoch=68 metrics={'time_inference': 0.00048147296905517577, 'time_environment_step': 0.0009369015693664551, 'time_sample_batch': 0.00011920094490051269, 'time_algorithm_update': 0.002262625694274902, 'loss': 0.7707926513552665, 'time_step': 0.003887667417526245, 'rollout_return': 15.366197183098592, 'evaluation': 16.4} step=68000\n",
      "2022-11-23 19:20.51 [info     ] Model parameters are saved to d3rlpy_logs/DoubleDQN_online_20221123191529/model_69000.pt\n",
      "2022-11-23 19:20.51 [info     ] DoubleDQN_online_20221123191529: epoch=69 step=69000 epoch=69 metrics={'time_inference': 0.0004917876720428467, 'time_environment_step': 0.0009947121143341064, 'time_sample_batch': 0.00013020801544189452, 'time_algorithm_update': 0.002473745346069336, 'loss': 0.772794726729393, 'time_step': 0.004181424140930176, 'rollout_return': 14.866197183098592, 'evaluation': 14.1} step=69000\n",
      "2022-11-23 19:20.55 [info     ] Model parameters are saved to d3rlpy_logs/DoubleDQN_online_20221123191529/model_70000.pt\n",
      "2022-11-23 19:20.55 [info     ] DoubleDQN_online_20221123191529: epoch=70 step=70000 epoch=70 metrics={'time_inference': 0.0005171623229980469, 'time_environment_step': 0.0010363571643829345, 'time_sample_batch': 0.00012672591209411622, 'time_algorithm_update': 0.0025767171382904052, 'loss': 0.7678592906594276, 'time_step': 0.004351260662078857, 'rollout_return': 14.915492957746478, 'evaluation': 13.7} step=70000\n",
      "2022-11-23 19:20.59 [info     ] Model parameters are saved to d3rlpy_logs/DoubleDQN_online_20221123191529/model_71000.pt\n",
      "2022-11-23 19:20.59 [info     ] DoubleDQN_online_20221123191529: epoch=71 step=71000 epoch=71 metrics={'time_inference': 0.0004698357582092285, 'time_environment_step': 0.0009418976306915283, 'time_sample_batch': 0.00011917972564697265, 'time_algorithm_update': 0.0023032951354980467, 'loss': 0.7615153895169496, 'time_step': 0.003930908441543579, 'rollout_return': 14.429577464788732, 'evaluation': 16.5} step=71000\n",
      "2022-11-23 19:21.03 [info     ] Model parameters are saved to d3rlpy_logs/DoubleDQN_online_20221123191529/model_72000.pt\n",
      "2022-11-23 19:21.03 [info     ] DoubleDQN_online_20221123191529: epoch=72 step=72000 epoch=72 metrics={'time_inference': 0.00043771815299987793, 'time_environment_step': 0.0008892641067504883, 'time_sample_batch': 0.00011958193778991699, 'time_algorithm_update': 0.0020990850925445555, 'loss': 0.7862318888455629, 'time_step': 0.0036300199031829832, 'rollout_return': 14.943661971830986, 'evaluation': 16.8} step=72000\n",
      "2022-11-23 19:21.08 [info     ] Model parameters are saved to d3rlpy_logs/DoubleDQN_online_20221123191529/model_73000.pt\n",
      "2022-11-23 19:21.08 [info     ] DoubleDQN_online_20221123191529: epoch=73 step=73000 epoch=73 metrics={'time_inference': 0.0005206577777862549, 'time_environment_step': 0.0010429558753967286, 'time_sample_batch': 0.00013117003440856934, 'time_algorithm_update': 0.0025192580223083495, 'loss': 0.755783356204629, 'time_step': 0.004310492992401123, 'rollout_return': 14.52112676056338, 'evaluation': 15.4} step=73000\n",
      "2022-11-23 19:21.12 [info     ] Model parameters are saved to d3rlpy_logs/DoubleDQN_online_20221123191529/model_74000.pt\n",
      "2022-11-23 19:21.12 [info     ] DoubleDQN_online_20221123191529: epoch=74 step=74000 epoch=74 metrics={'time_inference': 0.0005333025455474854, 'time_environment_step': 0.0010643408298492431, 'time_sample_batch': 0.00013656091690063477, 'time_algorithm_update': 0.00253326153755188, 'loss': 0.7549026824831963, 'time_step': 0.004370491266250611, 'rollout_return': 14.338028169014084, 'evaluation': 15.0} step=74000\n",
      "2022-11-23 19:21.17 [info     ] Model parameters are saved to d3rlpy_logs/DoubleDQN_online_20221123191529/model_75000.pt\n",
      "2022-11-23 19:21.17 [info     ] DoubleDQN_online_20221123191529: epoch=75 step=75000 epoch=75 metrics={'time_inference': 0.0005007452964782714, 'time_environment_step': 0.001031275749206543, 'time_sample_batch': 0.00012926650047302246, 'time_algorithm_update': 0.002639707088470459, 'loss': 0.7473114605545997, 'time_step': 0.00440078616142273, 'rollout_return': 14.78169014084507, 'evaluation': 15.9} step=75000\n",
      "2022-11-23 19:21.21 [info     ] Model parameters are saved to d3rlpy_logs/DoubleDQN_online_20221123191529/model_76000.pt\n",
      "2022-11-23 19:21.21 [info     ] DoubleDQN_online_20221123191529: epoch=76 step=76000 epoch=76 metrics={'time_inference': 0.0004865391254425049, 'time_environment_step': 0.0009671950340270996, 'time_sample_batch': 0.00012581825256347657, 'time_algorithm_update': 0.0024883565902709963, 'loss': 0.7424420249462128, 'time_step': 0.004156505107879639, 'rollout_return': 14.640845070422536, 'evaluation': 15.6} step=76000\n",
      "2022-11-23 19:21.26 [info     ] Model parameters are saved to d3rlpy_logs/DoubleDQN_online_20221123191529/model_77000.pt\n",
      "2022-11-23 19:21.26 [info     ] DoubleDQN_online_20221123191529: epoch=77 step=77000 epoch=77 metrics={'time_inference': 0.0004968476295471191, 'time_environment_step': 0.0009826393127441407, 'time_sample_batch': 0.00012435102462768555, 'time_algorithm_update': 0.0024137091636657715, 'loss': 0.7454685122072696, 'time_step': 0.004109525442123413, 'rollout_return': 15.028169014084508, 'evaluation': 15.3} step=77000\n",
      "2022-11-23 19:21.30 [info     ] Model parameters are saved to d3rlpy_logs/DoubleDQN_online_20221123191529/model_78000.pt\n",
      "2022-11-23 19:21.30 [info     ] DoubleDQN_online_20221123191529: epoch=78 step=78000 epoch=78 metrics={'time_inference': 0.0005263173580169677, 'time_environment_step': 0.0010197765827178954, 'time_sample_batch': 0.00012653756141662597, 'time_algorithm_update': 0.0024951655864715577, 'loss': 0.7449318295270204, 'time_step': 0.004258794069290161, 'rollout_return': 14.866197183098592, 'evaluation': 16.9} step=78000\n",
      "2022-11-23 19:21.35 [info     ] Model parameters are saved to d3rlpy_logs/DoubleDQN_online_20221123191529/model_79000.pt\n",
      "2022-11-23 19:21.35 [info     ] DoubleDQN_online_20221123191529: epoch=79 step=79000 epoch=79 metrics={'time_inference': 0.0005132873058319091, 'time_environment_step': 0.0010207502841949464, 'time_sample_batch': 0.00013955163955688477, 'time_algorithm_update': 0.0025734343528747558, 'loss': 0.7601582136452198, 'time_step': 0.004342227935791016, 'rollout_return': 14.507042253521126, 'evaluation': 17.3} step=79000\n",
      "2022-11-23 19:21.39 [info     ] Model parameters are saved to d3rlpy_logs/DoubleDQN_online_20221123191529/model_80000.pt\n",
      "2022-11-23 19:21.39 [info     ] DoubleDQN_online_20221123191529: epoch=80 step=80000 epoch=80 metrics={'time_inference': 0.0005204031467437744, 'time_environment_step': 0.0010419092178344726, 'time_sample_batch': 0.00014026904106140137, 'time_algorithm_update': 0.0025795361995697022, 'loss': 0.7296007733047009, 'time_step': 0.004376093149185181, 'rollout_return': 14.577464788732394, 'evaluation': 18.3} step=80000\n",
      "2022-11-23 19:21.44 [info     ] Model parameters are saved to d3rlpy_logs/DoubleDQN_online_20221123191529/model_81000.pt\n",
      "2022-11-23 19:21.44 [info     ] DoubleDQN_online_20221123191529: epoch=81 step=81000 epoch=81 metrics={'time_inference': 0.0005131325721740722, 'time_environment_step': 0.0010559210777282715, 'time_sample_batch': 0.00012960624694824217, 'time_algorithm_update': 0.00257289981842041, 'loss': 0.742235248401761, 'time_step': 0.004371404409408569, 'rollout_return': 14.859154929577464, 'evaluation': 17.0} step=81000\n",
      "2022-11-23 19:21.48 [info     ] Model parameters are saved to d3rlpy_logs/DoubleDQN_online_20221123191529/model_82000.pt\n",
      "2022-11-23 19:21.48 [info     ] DoubleDQN_online_20221123191529: epoch=82 step=82000 epoch=82 metrics={'time_inference': 0.0005279762744903564, 'time_environment_step': 0.0010554182529449463, 'time_sample_batch': 0.00013316607475280761, 'time_algorithm_update': 0.00253879451751709, 'loss': 0.7553784252256155, 'time_step': 0.004352215051651001, 'rollout_return': 14.471830985915492, 'evaluation': 15.2} step=82000\n",
      "2022-11-23 19:21.53 [info     ] Model parameters are saved to d3rlpy_logs/DoubleDQN_online_20221123191529/model_83000.pt\n",
      "2022-11-23 19:21.53 [info     ] DoubleDQN_online_20221123191529: epoch=83 step=83000 epoch=83 metrics={'time_inference': 0.0005057010650634765, 'time_environment_step': 0.0010011179447174073, 'time_sample_batch': 0.00012300395965576173, 'time_algorithm_update': 0.0023528029918670652, 'loss': 0.7421802871823311, 'time_step': 0.004074312925338745, 'rollout_return': 15.091549295774648, 'evaluation': 17.0} step=83000\n",
      "2022-11-23 19:21.57 [info     ] Model parameters are saved to d3rlpy_logs/DoubleDQN_online_20221123191529/model_84000.pt\n",
      "2022-11-23 19:21.57 [info     ] DoubleDQN_online_20221123191529: epoch=84 step=84000 epoch=84 metrics={'time_inference': 0.00048452234268188475, 'time_environment_step': 0.0009726681709289551, 'time_sample_batch': 0.00012692666053771973, 'time_algorithm_update': 0.0023654000759124757, 'loss': 0.7442766155302525, 'time_step': 0.004044353485107422, 'rollout_return': 15.253521126760564, 'evaluation': 14.5} step=84000\n",
      "2022-11-23 19:22.01 [info     ] Model parameters are saved to d3rlpy_logs/DoubleDQN_online_20221123191529/model_85000.pt\n",
      "2022-11-23 19:22.01 [info     ] DoubleDQN_online_20221123191529: epoch=85 step=85000 epoch=85 metrics={'time_inference': 0.0004950253963470459, 'time_environment_step': 0.0009739270210266113, 'time_sample_batch': 0.0001240994930267334, 'time_algorithm_update': 0.0023761186599731447, 'loss': 0.7473411037772894, 'time_step': 0.004059387683868408, 'rollout_return': 14.619718309859154, 'evaluation': 15.2} step=85000\n",
      "2022-11-23 19:22.06 [info     ] Model parameters are saved to d3rlpy_logs/DoubleDQN_online_20221123191529/model_86000.pt\n",
      "2022-11-23 19:22.06 [info     ] DoubleDQN_online_20221123191529: epoch=86 step=86000 epoch=86 metrics={'time_inference': 0.0005393118858337402, 'time_environment_step': 0.0010747027397155762, 'time_sample_batch': 0.0001355271339416504, 'time_algorithm_update': 0.0025466275215148926, 'loss': 0.752669107735157, 'time_step': 0.0043978731632232666, 'rollout_return': 14.69718309859155, 'evaluation': 15.5} step=86000\n",
      "2022-11-23 19:22.10 [info     ] Model parameters are saved to d3rlpy_logs/DoubleDQN_online_20221123191529/model_87000.pt\n",
      "2022-11-23 19:22.10 [info     ] DoubleDQN_online_20221123191529: epoch=87 step=87000 epoch=87 metrics={'time_inference': 0.0005157690048217773, 'time_environment_step': 0.0010067470073699951, 'time_sample_batch': 0.00013094711303710937, 'time_algorithm_update': 0.0024060325622558593, 'loss': 0.7356352785229683, 'time_step': 0.004154811620712281, 'rollout_return': 15.098591549295774, 'evaluation': 18.7} step=87000\n",
      "2022-11-23 19:22.14 [info     ] Model parameters are saved to d3rlpy_logs/DoubleDQN_online_20221123191529/model_88000.pt\n",
      "2022-11-23 19:22.14 [info     ] DoubleDQN_online_20221123191529: epoch=88 step=88000 epoch=88 metrics={'time_inference': 0.00047314763069152834, 'time_environment_step': 0.0009543969631195068, 'time_sample_batch': 0.00012176823616027832, 'time_algorithm_update': 0.0023237009048461916, 'loss': 0.7499412114620209, 'time_step': 0.003961668252944946, 'rollout_return': 14.5, 'evaluation': 13.2} step=88000\n",
      "2022-11-23 19:22.18 [info     ] Model parameters are saved to d3rlpy_logs/DoubleDQN_online_20221123191529/model_89000.pt\n",
      "2022-11-23 19:22.19 [info     ] DoubleDQN_online_20221123191529: epoch=89 step=89000 epoch=89 metrics={'time_inference': 0.0004699146747589111, 'time_environment_step': 0.0009725818634033203, 'time_sample_batch': 0.00011987733840942383, 'time_algorithm_update': 0.0023231110572814943, 'loss': 0.7665797500014305, 'time_step': 0.003973923444747925, 'rollout_return': 14.408450704225352, 'evaluation': 15.1} step=89000\n",
      "2022-11-23 19:22.23 [info     ] Model parameters are saved to d3rlpy_logs/DoubleDQN_online_20221123191529/model_90000.pt\n",
      "2022-11-23 19:22.23 [info     ] DoubleDQN_online_20221123191529: epoch=90 step=90000 epoch=90 metrics={'time_inference': 0.0005207633972167968, 'time_environment_step': 0.0010411090850830078, 'time_sample_batch': 0.00013440537452697753, 'time_algorithm_update': 0.0025556068420410157, 'loss': 0.7700353810489178, 'time_step': 0.004350853204727173, 'rollout_return': 14.5, 'evaluation': 14.5} step=90000\n",
      "2022-11-23 19:22.28 [info     ] Model parameters are saved to d3rlpy_logs/DoubleDQN_online_20221123191529/model_91000.pt\n",
      "2022-11-23 19:22.28 [info     ] DoubleDQN_online_20221123191529: epoch=91 step=91000 epoch=91 metrics={'time_inference': 0.0004821033477783203, 'time_environment_step': 0.0009879159927368164, 'time_sample_batch': 0.00013545989990234374, 'time_algorithm_update': 0.002915100336074829, 'loss': 0.7561771612763405, 'time_step': 0.004624865770339966, 'rollout_return': 14.316901408450704, 'evaluation': 15.9} step=91000\n",
      "2022-11-23 19:22.32 [info     ] Model parameters are saved to d3rlpy_logs/DoubleDQN_online_20221123191529/model_92000.pt\n",
      "2022-11-23 19:22.32 [info     ] DoubleDQN_online_20221123191529: epoch=92 step=92000 epoch=92 metrics={'time_inference': 0.00045464134216308594, 'time_environment_step': 0.0009199142456054688, 'time_sample_batch': 0.00011664676666259766, 'time_algorithm_update': 0.0022235777378082277, 'loss': 0.7529971536695957, 'time_step': 0.0038033111095428468, 'rollout_return': 15.091549295774648, 'evaluation': 14.4} step=92000\n",
      "2022-11-23 19:22.36 [info     ] Model parameters are saved to d3rlpy_logs/DoubleDQN_online_20221123191529/model_93000.pt\n",
      "2022-11-23 19:22.36 [info     ] DoubleDQN_online_20221123191529: epoch=93 step=93000 epoch=93 metrics={'time_inference': 0.0005025017261505127, 'time_environment_step': 0.0010187370777130127, 'time_sample_batch': 0.00013880586624145507, 'time_algorithm_update': 0.002592524528503418, 'loss': 0.7749968047440052, 'time_step': 0.004345484972000122, 'rollout_return': 14.964788732394366, 'evaluation': 15.9} step=93000\n",
      "2022-11-23 19:22.41 [info     ] Model parameters are saved to d3rlpy_logs/DoubleDQN_online_20221123191529/model_94000.pt\n",
      "2022-11-23 19:22.41 [info     ] DoubleDQN_online_20221123191529: epoch=94 step=94000 epoch=94 metrics={'time_inference': 0.0005368585586547852, 'time_environment_step': 0.0010883064270019531, 'time_sample_batch': 0.00014809107780456543, 'time_algorithm_update': 0.002679969072341919, 'loss': 0.7546635320782662, 'time_step': 0.004553594350814819, 'rollout_return': 14.690140845070422, 'evaluation': 16.0} step=94000\n",
      "2022-11-23 19:22.46 [info     ] Model parameters are saved to d3rlpy_logs/DoubleDQN_online_20221123191529/model_95000.pt\n",
      "2022-11-23 19:22.46 [info     ] DoubleDQN_online_20221123191529: epoch=95 step=95000 epoch=95 metrics={'time_inference': 0.0005309560298919678, 'time_environment_step': 0.001061690330505371, 'time_sample_batch': 0.00013286828994750976, 'time_algorithm_update': 0.0025437870025634764, 'loss': 0.7699546753615141, 'time_step': 0.004371482372283936, 'rollout_return': 15.43661971830986, 'evaluation': 15.7} step=95000\n",
      "2022-11-23 19:22.51 [info     ] Model parameters are saved to d3rlpy_logs/DoubleDQN_online_20221123191529/model_96000.pt\n",
      "2022-11-23 19:22.51 [info     ] DoubleDQN_online_20221123191529: epoch=96 step=96000 epoch=96 metrics={'time_inference': 0.0005186047554016114, 'time_environment_step': 0.0010805718898773194, 'time_sample_batch': 0.00013206648826599122, 'time_algorithm_update': 0.002724531888961792, 'loss': 0.7523558788895607, 'time_step': 0.004554444551467895, 'rollout_return': 14.943661971830986, 'evaluation': 14.5} step=96000\n",
      "2022-11-23 19:22.55 [info     ] Model parameters are saved to d3rlpy_logs/DoubleDQN_online_20221123191529/model_97000.pt\n",
      "2022-11-23 19:22.55 [info     ] DoubleDQN_online_20221123191529: epoch=97 step=97000 epoch=97 metrics={'time_inference': 0.0004923479557037353, 'time_environment_step': 0.0009791517257690429, 'time_sample_batch': 0.00012258052825927734, 'time_algorithm_update': 0.0023280014991760253, 'loss': 0.7562597595751286, 'time_step': 0.004018769025802612, 'rollout_return': 13.95774647887324, 'evaluation': 16.2} step=97000\n",
      "2022-11-23 19:22.59 [info     ] Model parameters are saved to d3rlpy_logs/DoubleDQN_online_20221123191529/model_98000.pt\n",
      "2022-11-23 19:22.59 [info     ] DoubleDQN_online_20221123191529: epoch=98 step=98000 epoch=98 metrics={'time_inference': 0.00048586225509643556, 'time_environment_step': 0.0009668276309967041, 'time_sample_batch': 0.00012771368026733397, 'time_algorithm_update': 0.002368167877197266, 'loss': 0.764679735392332, 'time_step': 0.004038496017456055, 'rollout_return': 14.915492957746478, 'evaluation': 16.3} step=98000\n",
      "2022-11-23 19:23.03 [info     ] Model parameters are saved to d3rlpy_logs/DoubleDQN_online_20221123191529/model_99000.pt\n",
      "2022-11-23 19:23.04 [info     ] DoubleDQN_online_20221123191529: epoch=99 step=99000 epoch=99 metrics={'time_inference': 0.00052207350730896, 'time_environment_step': 0.0009969260692596436, 'time_sample_batch': 0.0001312885284423828, 'time_algorithm_update': 0.0025354812145233154, 'loss': 0.7452667558640241, 'time_step': 0.0042777154445648195, 'rollout_return': 14.943661971830986, 'evaluation': 15.3} step=99000\n",
      "2022-11-23 19:23.08 [info     ] Model parameters are saved to d3rlpy_logs/DoubleDQN_online_20221123191529/model_100000.pt\n",
      "2022-11-23 19:23.08 [info     ] DoubleDQN_online_20221123191529: epoch=100 step=100000 epoch=100 metrics={'time_inference': 0.0005044424533843994, 'time_environment_step': 0.0010296554565429688, 'time_sample_batch': 0.00012948274612426759, 'time_algorithm_update': 0.0024836297035217285, 'loss': 0.753497164145112, 'time_step': 0.004240810632705688, 'rollout_return': 15.056338028169014, 'evaluation': 16.1} step=100000\n"
     ]
    }
   ],
   "source": [
    "# start training\n",
    "# skip if there is a pre-trained model\n",
    "ddqn.fit_online(\n",
    "    env_,\n",
    "    buffer,\n",
    "    explorer=explorer,\n",
    "    eval_env=env_,\n",
    "    n_steps=100000,\n",
    "    n_steps_per_epoch=1000,\n",
    "    update_start_step=1000,\n",
    ")"
   ]
  },
  {
   "cell_type": "code",
   "execution_count": 22,
   "metadata": {},
   "outputs": [],
   "source": [
    "# save model\n",
    "ddqn.save_model(\"d3rlpy_logs/ddqn.pt\")"
   ]
  },
  {
   "cell_type": "code",
   "execution_count": 17,
   "metadata": {},
   "outputs": [],
   "source": [
    "# reload model\n",
    "ddqn.build_with_env(env_)\n",
    "ddqn.load_model(\"d3rlpy_logs/ddqn.pt\")"
   ]
  },
  {
   "cell_type": "code",
   "execution_count": 18,
   "metadata": {},
   "outputs": [
    {
     "data": {
      "text/plain": [
       "Text(0, 0.5, 'episode reward')"
      ]
     },
     "execution_count": 18,
     "metadata": {},
     "output_type": "execute_result"
    },
    {
     "data": {
      "image/png": "[encoded data removed]",
      "text/plain": [
       "<Figure size 432x288 with 1 Axes>"
      ]
     },
     "metadata": {
      "needs_background": "light"
     },
     "output_type": "display_data"
    }
   ],
   "source": [
    "# we see that training RL policy can be risky online\n",
    "log_path = sorted(glob(\"d3rlpy_logs/DoubleDQN_online_*/evaluation.csv\"))[-1]\n",
    "df = pd.read_csv(\n",
    "    log_path, \n",
    "    usecols=[1,2],\n",
    "    names=[\"train_episode\", \"episodic_rewards\"]\n",
    ")\n",
    "plt.plot(df[\"train_episode\"], df[\"episodic_rewards\"])\n",
    "plt.title(\"Learning curve of DDQN\")\n",
    "plt.xlabel(\"episode\")\n",
    "plt.ylabel(\"episode reward\")"
   ]
  },
  {
   "cell_type": "code",
   "execution_count": 19,
   "metadata": {},
   "outputs": [],
   "source": [
    "random = DiscreteRandomPolicy()\n",
    "random.build_with_env(env_)"
   ]
  },
  {
   "cell_type": "code",
   "execution_count": 20,
   "metadata": {},
   "outputs": [
    {
     "data": {
      "application/vnd.jupyter.widget-view+json": {
       "model_id": "a89141f22bbb46c6b8ac795ed3075af9",
       "version_major": 2,
       "version_minor": 0
      },
      "text/plain": [
       "[calculate on-policy policy value]:   0%|          | 0/100 [00:00<?, ?it/s]"
      ]
     },
     "metadata": {},
     "output_type": "display_data"
    },
    {
     "data": {
      "application/vnd.jupyter.widget-view+json": {
       "model_id": "68f79dd245524af2bfdb0bae9685faa6",
       "version_major": 2,
       "version_minor": 0
      },
      "text/plain": [
       "[calculate on-policy policy value]:   0%|          | 0/100 [00:00<?, ?it/s]"
      ]
     },
     "metadata": {},
     "output_type": "display_data"
    },
    {
     "data": {
      "image/png": "[encoded data removed]",
      "text/plain": [
       "<Figure size 288x288 with 1 Axes>"
      ]
     },
     "metadata": {},
     "output_type": "display_data"
    }
   ],
   "source": [
    "# compare the policy performance online\n",
    "visualize_on_policy_policy_value(\n",
    "    env=env,\n",
    "    policies=[ddqn, random],\n",
    "    policy_names=[\"ddqn\", \"random\"],\n",
    "    n_trajectories=100,\n",
    "    random_state=random_state,\n",
    ")"
   ]
  },
  {
   "cell_type": "code",
   "execution_count": 21,
   "metadata": {},
   "outputs": [
    {
     "data": {
      "application/vnd.jupyter.widget-view+json": {
       "model_id": "84f181cc13f64717b0ad745f432f8b14",
       "version_major": 2,
       "version_minor": 0
      },
      "text/plain": [
       "[calculate on-policy policy value]:   0%|          | 0/100 [00:00<?, ?it/s]"
      ]
     },
     "metadata": {},
     "output_type": "display_data"
    },
    {
     "data": {
      "application/vnd.jupyter.widget-view+json": {
       "model_id": "c07cae7366034c429fc1af1e2fd02f1a",
       "version_major": 2,
       "version_minor": 0
      },
      "text/plain": [
       "[calculate on-policy policy value]:   0%|          | 0/100 [00:00<?, ?it/s]"
      ]
     },
     "metadata": {},
     "output_type": "display_data"
    },
    {
     "name": "stdout",
     "output_type": "stream",
     "text": [
      "relative improvement: 0.3516209476309229\n"
     ]
    }
   ],
   "source": [
    "# on-policy policy value by ddqn policy\n",
    "# largely outperforms the random policy (about 20%)\n",
    "ddqn_performance = calc_on_policy_policy_value(env, ddqn, n_trajectories=100, random_state=random_state)\n",
    "random_performance = calc_on_policy_policy_value(env, random, n_trajectories=100, random_state=random_state)\n",
    "print(\"relative improvement:\", (ddqn_performance - random_performance) / random_performance)"
   ]
  },
  {
   "cell_type": "markdown",
   "metadata": {},
   "source": [
    "Note that, we provide the following functions for online evaluation of the policy performance under `ofrl.ope.online`.\n",
    "\n",
    "(Statistics)\n",
    "\n",
    "* `calc_on_policy_policy_value`\n",
    "* `calc_on_policy_policy_value_interval`\n",
    "* `calc_on_policy_variance`\n",
    "* `calc_on_policy_conditional_value_at_risk`\n",
    "* `calc_on_policy_policy_interquartile_range`\n",
    "* `calc_on_policy_cumulative_distribution_function`\n",
    "\n",
    "(Visualization)\n",
    "* `visualize_on_policy_policy_value`\n",
    "* `visualize_on_policy_policy_value_with_variance`\n",
    "* `visualize_on_policy_cumulative_distribution_function`\n",
    "* `visualize_on_policy_conditional_value_at_risk`\n",
    "* `visualize_on_policy_interquartile_range`"
   ]
  },
  {
   "cell_type": "markdown",
   "metadata": {},
   "source": [
    "## 1. Synthetic Dataset Generation\n",
    "In the previous section, we see how we can interact with the environment *online* using synthetic simulator.  \n",
    "Though simulation is a good starting point for training an agent, eventually we want to deploy our agent (or policy) in the real world environment.  \n",
    "However, online interaction may have potential risk of failure in the real-world.\n",
    "Therefore, we introduce an alternative learning protocol, Offline RL, which aims at training a new policy using only offline logged dataset.\n",
    "\n",
    "We prepare an easy-to-use synthetic dataset generator: `SyntheticDataset` class in the dataset module.  \n",
    "By regarding the simulation environment as a hypothetical real-environment, we show how to conduct Offline RL using logged dataset in real-world application.  \n",
    "For detailed description of how to use a real-world dataset, please see #TODO (will be implemented).\n",
    "\n",
    "`SyntheticDataset` class the following arguments:\n",
    "- `env`: RTB environment for RL defined in the previous section.\n",
    "- `behavior_policy`: RL agent (or algorithm) used for the data collection.\n",
    "- `maximum_step_per_episode`: Maximum number of timesteps in an episode.\n",
    "- `action_meaning`: Dictionary which maps discrete action index into specific actions.\n",
    "- `action_keys`: Name of the action variable at each dimension.\n",
    "- `state_keys`: Name of the state variable at each dimension.\n",
    "- `info_keys`: Dictionary containing of key and the type of info components.\n",
    "- `random_state`: Random state."
   ]
  },
  {
   "cell_type": "code",
   "execution_count": 22,
   "metadata": {},
   "outputs": [],
   "source": [
    "# import necessary module from OFRL\n",
    "from ofrl.policy import DiscreteEpsilonGreedyHead"
   ]
  },
  {
   "cell_type": "code",
   "execution_count": 23,
   "metadata": {},
   "outputs": [],
   "source": [
    "behavior_policy = DiscreteEpsilonGreedyHead(\n",
    "    ddqn, \n",
    "    n_actions=env.action_space.n,\n",
    "    epsilon=0.3,\n",
    "    name=\"ddqn_epsilon_0.3\",\n",
    "    random_state=random_state,\n",
    ")"
   ]
  },
  {
   "cell_type": "code",
   "execution_count": 24,
   "metadata": {},
   "outputs": [],
   "source": [
    "# initialize dataset class\n",
    "dataset = SyntheticDataset(\n",
    "    env=env,\n",
    "    behavior_policy=behavior_policy,\n",
    "    action_meaning=env.action_meaning,\n",
    "    state_keys=env.obs_keys,\n",
    "    max_episode_steps=env.step_per_episode,\n",
    "    info_keys={\n",
    "        \"search_volume\": int,\n",
    "        \"impression\": int,\n",
    "        \"click\": int,\n",
    "        \"conversion\": int,\n",
    "        \"average_bid_price\": float,\n",
    "    },\n",
    "    random_state=random_state,\n",
    ")"
   ]
  },
  {
   "cell_type": "code",
   "execution_count": 25,
   "metadata": {},
   "outputs": [
    {
     "data": {
      "application/vnd.jupyter.widget-view+json": {
       "model_id": "842c45835dde4129963f9836a477f92c",
       "version_major": 2,
       "version_minor": 0
      },
      "text/plain": [
       "[obtain_trajectories]:   0%|          | 0/10000 [00:00<?, ?it/s]"
      ]
     },
     "metadata": {},
     "output_type": "display_data"
    }
   ],
   "source": [
    "# collect logged data by a behavior policy\n",
    "# skip if there is a preserved logged dataset\n",
    "logged_dataset = dataset.obtain_episodes(n_trajectories=10000, obtain_info=True)"
   ]
  },
  {
   "cell_type": "code",
   "execution_count": 26,
   "metadata": {},
   "outputs": [
    {
     "data": {
      "text/plain": [
       "{'size': 70000,\n",
       " 'n_trajectories': 10000,\n",
       " 'step_per_trajectory': 7,\n",
       " 'action_type': 'discrete',\n",
       " 'n_actions': 10,\n",
       " 'action_dim': None,\n",
       " 'action_meaning': array([ 0.1       ,  0.16681005,  0.27825594,  0.46415888,  0.77426368,\n",
       "         1.29154967,  2.15443469,  3.59381366,  5.9948425 , 10.        ]),\n",
       " 'action_keys': None,\n",
       " 'state_dim': 7,\n",
       " 'state_keys': ['timestep',\n",
       "  'remaining_budget',\n",
       "  'budget_consumption_rate',\n",
       "  'cost_per_mille_of_impression',\n",
       "  'winning_rate',\n",
       "  'reward',\n",
       "  'adjust_rate'],\n",
       " 'state': array([[0.00000000e+00, 3.00000000e+03, 9.44940540e-01, ...,\n",
       "         1.66114895e-01, 2.00000000e+00, 5.60911914e-01],\n",
       "        [1.00000000e+00, 1.79800000e+03, 4.00666667e-01, ...,\n",
       "         1.00000000e+00, 9.00000000e+00, 5.99484250e+00],\n",
       "        [2.00000000e+00, 1.79800000e+03, 0.00000000e+00, ...,\n",
       "         0.00000000e+00, 0.00000000e+00, 1.66810054e-01],\n",
       "        ...,\n",
       "        [4.00000000e+00, 4.30000000e+01, 9.54497354e-01, ...,\n",
       "         9.90049751e-01, 5.00000000e+00, 5.99484250e+00],\n",
       "        [5.00000000e+00, 4.30000000e+01, 0.00000000e+00, ...,\n",
       "         0.00000000e+00, 0.00000000e+00, 1.66810054e-01],\n",
       "        [6.00000000e+00, 4.30000000e+01, 0.00000000e+00, ...,\n",
       "         9.90099010e-03, 0.00000000e+00, 4.64158883e-01]]),\n",
       " 'action': array([8, 1, 5, ..., 1, 3, 3]),\n",
       " 'reward': array([9., 0., 2., ..., 0., 0., 0.]),\n",
       " 'done': array([0., 0., 0., ..., 0., 0., 1.]),\n",
       " 'terminal': array([0., 0., 0., ..., 0., 0., 1.]),\n",
       " 'info': {'search_volume': array([177, 195, 194, ..., 192, 202, 201]),\n",
       "  'impression': array([177,   0, 159, ...,   0,   2,   0]),\n",
       "  'click': array([22,  0, 11, ...,  0,  0,  0]),\n",
       "  'conversion': array([9, 0, 2, ..., 0, 0, 0]),\n",
       "  'average_bid_price': array([321.59887006,   8.31282051,  65.87113402, ...,   7.66145833,\n",
       "          21.85148515,  21.51741294])},\n",
       " 'pscore': array([0.73, 0.73, 0.73, ..., 0.73, 0.73, 0.73])}"
      ]
     },
     "execution_count": 26,
     "metadata": {},
     "output_type": "execute_result"
    }
   ],
   "source": [
    "logged_dataset"
   ]
  },
  {
   "cell_type": "code",
   "execution_count": 44,
   "metadata": {},
   "outputs": [],
   "source": [
    "with open(\"logs/dataset_discrete.pkl\", \"wb\") as f:\n",
    "    pickle.dump(logged_dataset, f)"
   ]
  },
  {
   "cell_type": "code",
   "execution_count": 27,
   "metadata": {},
   "outputs": [],
   "source": [
    "with open(\"logs/dataset_discrete.pkl\", \"rb\") as f:\n",
    "    logged_dataset = pickle.load(f)"
   ]
  },
  {
   "cell_type": "code",
   "execution_count": 28,
   "metadata": {},
   "outputs": [
    {
     "data": {
      "application/vnd.jupyter.widget-view+json": {
       "model_id": "c1f1f04c15de4157ba6df95139113503",
       "version_major": 2,
       "version_minor": 0
      },
      "text/plain": [
       "[calculate on-policy policy value]:   0%|          | 0/100 [00:00<?, ?it/s]"
      ]
     },
     "metadata": {},
     "output_type": "display_data"
    },
    {
     "data": {
      "application/vnd.jupyter.widget-view+json": {
       "model_id": "34b20565e4c944b2ac0a4c9a57a42e49",
       "version_major": 2,
       "version_minor": 0
      },
      "text/plain": [
       "[calculate on-policy policy value]:   0%|          | 0/100 [00:00<?, ?it/s]"
      ]
     },
     "metadata": {},
     "output_type": "display_data"
    },
    {
     "data": {
      "application/vnd.jupyter.widget-view+json": {
       "model_id": "ec0f4653fa194cebb1abc643d4a22c34",
       "version_major": 2,
       "version_minor": 0
      },
      "text/plain": [
       "[calculate on-policy policy value]:   0%|          | 0/100 [00:00<?, ?it/s]"
      ]
     },
     "metadata": {},
     "output_type": "display_data"
    },
    {
     "data": {
      "image/png": "[encoded data removed]",
      "text/plain": [
       "<Figure size 432x288 with 1 Axes>"
      ]
     },
     "metadata": {},
     "output_type": "display_data"
    }
   ],
   "source": [
    "# compare the policy performance online\n",
    "# almost the same performance as greedy ddqn\n",
    "visualize_on_policy_policy_value(\n",
    "    env=env,\n",
    "    policies=[ddqn, behavior_policy, random],\n",
    "    policy_names=[\"ddqn\", \"ddqn (e=0.3)\", \"random\"],\n",
    "    n_trajectories=100,\n",
    "    random_state=random_state,\n",
    ")"
   ]
  },
  {
   "cell_type": "code",
   "execution_count": 29,
   "metadata": {},
   "outputs": [
    {
     "data": {
      "text/html": [
       "<div>\n",
       "<style scoped>\n",
       "    .dataframe tbody tr th:only-of-type {\n",
       "        vertical-align: middle;\n",
       "    }\n",
       "\n",
       "    .dataframe tbody tr th {\n",
       "        vertical-align: top;\n",
       "    }\n",
       "\n",
       "    .dataframe thead th {\n",
       "        text-align: right;\n",
       "    }\n",
       "</style>\n",
       "<table border=\"1\" class=\"dataframe\">\n",
       "  <thead>\n",
       "    <tr style=\"text-align: right;\">\n",
       "      <th></th>\n",
       "      <th>adjust rate</th>\n",
       "      <th>average bid price</th>\n",
       "      <th>impression</th>\n",
       "      <th>click</th>\n",
       "      <th>conversion</th>\n",
       "      <th>winning rate</th>\n",
       "      <th>click / impression</th>\n",
       "      <th>conversion / click</th>\n",
       "    </tr>\n",
       "  </thead>\n",
       "  <tbody>\n",
       "    <tr>\n",
       "      <th>count</th>\n",
       "      <td>70000.000000</td>\n",
       "      <td>70000.000000</td>\n",
       "      <td>70000.000000</td>\n",
       "      <td>70000.000000</td>\n",
       "      <td>70000.000000</td>\n",
       "      <td>70000.000000</td>\n",
       "      <td>70000.000000</td>\n",
       "      <td>70000.000000</td>\n",
       "    </tr>\n",
       "    <tr>\n",
       "      <th>mean</th>\n",
       "      <td>2.069842</td>\n",
       "      <td>112.060423</td>\n",
       "      <td>81.380843</td>\n",
       "      <td>8.473414</td>\n",
       "      <td>2.110871</td>\n",
       "      <td>0.452092</td>\n",
       "      <td>0.059252</td>\n",
       "      <td>0.126011</td>\n",
       "    </tr>\n",
       "    <tr>\n",
       "      <th>std</th>\n",
       "      <td>2.545521</td>\n",
       "      <td>134.613085</td>\n",
       "      <td>87.536678</td>\n",
       "      <td>9.532274</td>\n",
       "      <td>2.996440</td>\n",
       "      <td>0.427894</td>\n",
       "      <td>0.071815</td>\n",
       "      <td>0.168836</td>\n",
       "    </tr>\n",
       "    <tr>\n",
       "      <th>min</th>\n",
       "      <td>0.000003</td>\n",
       "      <td>4.026178</td>\n",
       "      <td>0.000000</td>\n",
       "      <td>0.000000</td>\n",
       "      <td>0.000000</td>\n",
       "      <td>0.000000</td>\n",
       "      <td>0.000000</td>\n",
       "      <td>0.000000</td>\n",
       "    </tr>\n",
       "    <tr>\n",
       "      <th>25%</th>\n",
       "      <td>0.166810</td>\n",
       "      <td>8.054336</td>\n",
       "      <td>0.000000</td>\n",
       "      <td>0.000000</td>\n",
       "      <td>0.000000</td>\n",
       "      <td>0.000000</td>\n",
       "      <td>0.000000</td>\n",
       "      <td>0.000000</td>\n",
       "    </tr>\n",
       "    <tr>\n",
       "      <th>50%</th>\n",
       "      <td>1.169829</td>\n",
       "      <td>61.310903</td>\n",
       "      <td>29.000000</td>\n",
       "      <td>2.000000</td>\n",
       "      <td>0.000000</td>\n",
       "      <td>0.389501</td>\n",
       "      <td>0.061674</td>\n",
       "      <td>0.000000</td>\n",
       "    </tr>\n",
       "    <tr>\n",
       "      <th>75%</th>\n",
       "      <td>3.593814</td>\n",
       "      <td>175.592623</td>\n",
       "      <td>171.000000</td>\n",
       "      <td>17.000000</td>\n",
       "      <td>4.000000</td>\n",
       "      <td>0.927720</td>\n",
       "      <td>0.106667</td>\n",
       "      <td>0.230769</td>\n",
       "    </tr>\n",
       "    <tr>\n",
       "      <th>max</th>\n",
       "      <td>12.247221</td>\n",
       "      <td>555.903614</td>\n",
       "      <td>290.000000</td>\n",
       "      <td>42.000000</td>\n",
       "      <td>19.000000</td>\n",
       "      <td>1.000000</td>\n",
       "      <td>0.999998</td>\n",
       "      <td>0.999999</td>\n",
       "    </tr>\n",
       "  </tbody>\n",
       "</table>\n",
       "</div>"
      ],
      "text/plain": [
       "        adjust rate  average bid price    impression         click  \\\n",
       "count  70000.000000       70000.000000  70000.000000  70000.000000   \n",
       "mean       2.069842         112.060423     81.380843      8.473414   \n",
       "std        2.545521         134.613085     87.536678      9.532274   \n",
       "min        0.000003           4.026178      0.000000      0.000000   \n",
       "25%        0.166810           8.054336      0.000000      0.000000   \n",
       "50%        1.169829          61.310903     29.000000      2.000000   \n",
       "75%        3.593814         175.592623    171.000000     17.000000   \n",
       "max       12.247221         555.903614    290.000000     42.000000   \n",
       "\n",
       "         conversion  winning rate  click / impression  conversion / click  \n",
       "count  70000.000000  70000.000000        70000.000000        70000.000000  \n",
       "mean       2.110871      0.452092            0.059252            0.126011  \n",
       "std        2.996440      0.427894            0.071815            0.168836  \n",
       "min        0.000000      0.000000            0.000000            0.000000  \n",
       "25%        0.000000      0.000000            0.000000            0.000000  \n",
       "50%        0.000000      0.389501            0.061674            0.000000  \n",
       "75%        4.000000      0.927720            0.106667            0.230769  \n",
       "max       19.000000      1.000000            0.999998            0.999999  "
      ]
     },
     "execution_count": 29,
     "metadata": {},
     "output_type": "execute_result"
    }
   ],
   "source": [
    "# let's see some statistics of the dataset\n",
    "df = pd.DataFrame()\n",
    "df['adjust rate'] = logged_dataset['state'][:, 6]\n",
    "df['average bid price'] = logged_dataset['info']['average_bid_price']\n",
    "df['impression'] = logged_dataset['info']['impression']\n",
    "df['click'] = logged_dataset['info']['click']\n",
    "df['conversion'] = logged_dataset['info']['conversion']\n",
    "df['winning rate'] = logged_dataset['state'][:, 4]\n",
    "df['click / impression'] = df['click'] / (df['impression'] + 1e-5)\n",
    "df['conversion / click'] = df['conversion'] / (df['click'] + 1e-5)\n",
    "df.describe()"
   ]
  },
  {
   "cell_type": "markdown",
   "metadata": {},
   "source": [
    "For more about the data collection and visualization, please refer to [examples/quickstart/rtb_synthetic_data_collection.ipynb](https://github.com/negocia-inc/rtb_reinforcement_learing/blob/ope/examples/quickstart/rtb_synthetic_data_collection.ipynb)."
   ]
  },
  {
   "cell_type": "markdown",
   "metadata": {},
   "source": [
    "## 2. Offline Reinforcement Learning\n",
    "In this section, we learn a new policy in an offline manner, without interacting with the environment.  \n",
    "We use [d3rlpy](https://github.com/takuseno/d3rlpy)'s implementation of algorithms."
   ]
  },
  {
   "cell_type": "code",
   "execution_count": 30,
   "metadata": {},
   "outputs": [],
   "source": [
    "# import modules from d3rlpy\n",
    "from d3rlpy.dataset import MDPDataset\n",
    "from d3rlpy.algos import DiscreteCQL\n",
    "from d3rlpy.ope import DiscreteFQE\n",
    "from d3rlpy.metrics.scorer import evaluate_on_environment"
   ]
  },
  {
   "cell_type": "code",
   "execution_count": 31,
   "metadata": {},
   "outputs": [],
   "source": [
    "offlinerl_dataset = MDPDataset(\n",
    "    observations=logged_dataset[\"state\"],\n",
    "    actions=logged_dataset[\"action\"],\n",
    "    rewards=logged_dataset[\"reward\"],\n",
    "    terminals=logged_dataset[\"done\"],\n",
    "    episode_terminals=logged_dataset[\"done\"],\n",
    "    discrete_action=True,\n",
    ")\n",
    "train_episodes, test_episodes = train_test_split(offlinerl_dataset, test_size=0.2, random_state=random_state)"
   ]
  },
  {
   "cell_type": "code",
   "execution_count": 32,
   "metadata": {},
   "outputs": [],
   "source": [
    "# Use Conservative Q-Learning policy\n",
    "cql = DiscreteCQL(\n",
    "    encoder_factory=VectorEncoderFactory(hidden_units=[30, 30]),\n",
    "    q_func_factory=MeanQFunctionFactory(),\n",
    "    use_gpu=torch.cuda.is_available(),\n",
    ")"
   ]
  },
  {
   "cell_type": "code",
   "execution_count": 51,
   "metadata": {},
   "outputs": [
    {
     "name": "stdout",
     "output_type": "stream",
     "text": [
      "2022-12-01 09:05.13 [debug    ] RandomIterator is selected.\n",
      "2022-12-01 09:05.13 [info     ] Directory is created at d3rlpy_logs/DiscreteCQL_20221201090513\n",
      "2022-12-01 09:05.13 [debug    ] Building models...\n",
      "2022-12-01 09:05.13 [debug    ] Models have been built.\n",
      "2022-12-01 09:05.13 [info     ] Parameters are saved to d3rlpy_logs/DiscreteCQL_20221201090513/params.json params={'action_scaler': None, 'alpha': 1.0, 'batch_size': 32, 'encoder_factory': {'type': 'vector', 'params': {'hidden_units': [30, 30], 'activation': 'relu', 'use_batch_norm': False, 'dropout_rate': None, 'use_dense': False}}, 'gamma': 0.99, 'generated_maxlen': 100000, 'learning_rate': 6.25e-05, 'n_critics': 1, 'n_frames': 1, 'n_steps': 1, 'optim_factory': {'optim_cls': 'Adam', 'betas': (0.9, 0.999), 'eps': 1e-08, 'weight_decay': 0, 'amsgrad': False}, 'q_func_factory': {'type': 'mean', 'params': {'share_encoder': False}}, 'real_ratio': 1.0, 'reward_scaler': None, 'scaler': None, 'target_update_interval': 8000, 'use_gpu': None, 'algorithm': 'DiscreteCQL', 'observation_shape': (7,), 'action_size': 10}\n"
     ]
    },
    {
     "data": {
      "application/vnd.jupyter.widget-view+json": {
       "model_id": "2dd5183d807e445d9f0c278d2ce8ece2",
       "version_major": 2,
       "version_minor": 0
      },
      "text/plain": [
       "Epoch 1/1:   0%|          | 0/10000 [00:00<?, ?it/s]"
      ]
     },
     "metadata": {},
     "output_type": "display_data"
    },
    {
     "name": "stdout",
     "output_type": "stream",
     "text": [
      "2022-12-01 09:07.46 [info     ] DiscreteCQL_20221201090513: epoch=1 step=10000 epoch=1 metrics={'time_sample_batch': 0.0002882416248321533, 'time_algorithm_update': 0.014613411235809327, 'loss': 66.94269924764633, 'time_step': 0.015173145627975464, 'environment': 16.6} step=10000\n",
      "2022-12-01 09:07.46 [info     ] Model parameters are saved to d3rlpy_logs/DiscreteCQL_20221201090513/model_10000.pt\n"
     ]
    },
    {
     "data": {
      "text/plain": [
       "[(1,\n",
       "  {'time_sample_batch': 0.0002882416248321533,\n",
       "   'time_algorithm_update': 0.014613411235809327,\n",
       "   'loss': 66.94269924764633,\n",
       "   'time_step': 0.015173145627975464,\n",
       "   'environment': 16.6})]"
      ]
     },
     "execution_count": 51,
     "metadata": {},
     "output_type": "execute_result"
    }
   ],
   "source": [
    "cql.fit(\n",
    "    train_episodes,\n",
    "    eval_episodes=test_episodes,\n",
    "    n_steps=10000,\n",
    "    scorers={\n",
    "        'environment': evaluate_on_environment(env_),\n",
    "        # to record training process w/ ground truth policy value, which is unseen to the agent\n",
    "    },\n",
    ")"
   ]
  },
  {
   "cell_type": "code",
   "execution_count": 42,
   "metadata": {},
   "outputs": [],
   "source": [
    "# save model\n",
    "cql.save_model(\"d3rlpy_logs/cql_discrete.pt\")"
   ]
  },
  {
   "cell_type": "code",
   "execution_count": 33,
   "metadata": {},
   "outputs": [],
   "source": [
    "# reload model\n",
    "cql.build_with_env(env_)\n",
    "cql.load_model(\"d3rlpy_logs/cql_discrete.pt\")"
   ]
  },
  {
   "cell_type": "code",
   "execution_count": 34,
   "metadata": {},
   "outputs": [
    {
     "data": {
      "application/vnd.jupyter.widget-view+json": {
       "model_id": "e2513fc84ac148dcad05cc4dbff7897a",
       "version_major": 2,
       "version_minor": 0
      },
      "text/plain": [
       "[calculate on-policy policy value]:   0%|          | 0/100 [00:00<?, ?it/s]"
      ]
     },
     "metadata": {},
     "output_type": "display_data"
    },
    {
     "data": {
      "application/vnd.jupyter.widget-view+json": {
       "model_id": "4fcf8fedecbb4b19b77efad742963c80",
       "version_major": 2,
       "version_minor": 0
      },
      "text/plain": [
       "[calculate on-policy policy value]:   0%|          | 0/100 [00:00<?, ?it/s]"
      ]
     },
     "metadata": {},
     "output_type": "display_data"
    },
    {
     "data": {
      "application/vnd.jupyter.widget-view+json": {
       "model_id": "4357da8b16d747829e735580e7034278",
       "version_major": 2,
       "version_minor": 0
      },
      "text/plain": [
       "[calculate on-policy policy value]:   0%|          | 0/100 [00:00<?, ?it/s]"
      ]
     },
     "metadata": {},
     "output_type": "display_data"
    },
    {
     "data": {
      "application/vnd.jupyter.widget-view+json": {
       "model_id": "43173c607a3e4182a69f7f8ba441847f",
       "version_major": 2,
       "version_minor": 0
      },
      "text/plain": [
       "[calculate on-policy policy value]:   0%|          | 0/100 [00:00<?, ?it/s]"
      ]
     },
     "metadata": {},
     "output_type": "display_data"
    },
    {
     "data": {
      "image/png": "[encoded data removed]",
      "text/plain": [
       "<Figure size 576x288 with 1 Axes>"
      ]
     },
     "metadata": {},
     "output_type": "display_data"
    }
   ],
   "source": [
    "# compare the policy performance online\n",
    "# not better than online policy, but achieves almost the same performance\n",
    "# meaning that we can learn a reasonable policy without interacting with the environment!\n",
    "visualize_on_policy_policy_value(\n",
    "    env=env,\n",
    "    policies=[ddqn, behavior_policy, cql, random],\n",
    "    policy_names=[\"ddqn\", \"ddqn (e=0.3)\", \"cql (offline)\", \"random\"],\n",
    "    n_trajectories=100,\n",
    "    random_state=random_state,\n",
    ")"
   ]
  },
  {
   "cell_type": "markdown",
   "metadata": {},
   "source": [
    "## 3. Off-Policy Evaluation and Evaluation of Offline RL methods\n",
    "In the previous section, we verified the performance of a learned policy via online interaction (aka A/B tests).  \n",
    "However, it could be risky because the policy may perform poorly in an online environment.  \n",
    "To tackle this issue, we aim at evaluating the performance of a policy offline, to gain some prior knowledge on how agent works in the environment.\n",
    "\n",
    "#### Estimation Target\n",
    "\n",
    "The goal to estimate the estimators' average policy performance, the *policy value*.\n",
    "\n",
    "$$ V(\\pi) := \\mathbb{E}\\left[\\sum_{t=1}^T \\gamma^{t-1} r_t \\mid \\pi \\right] $$"
   ]
  },
  {
   "cell_type": "code",
   "execution_count": 35,
   "metadata": {},
   "outputs": [],
   "source": [
    "# import ope modules from OFRL\n",
    "from ofrl.ope import CreateOPEInput\n",
    "from ofrl.ope import OffPolicyEvaluation as OPE\n",
    "from ofrl.ope import DiscreteDirectMethod as DM\n",
    "from ofrl.ope import DiscreteTrajectoryWiseImportanceSampling as TIS\n",
    "from ofrl.ope import DiscretePerDecisionImportanceSampling as PDIS\n",
    "from ofrl.ope import DiscreteDoublyRobust as DR\n",
    "from ofrl.ope import DiscreteSelfNormalizedTrajectoryWiseImportanceSampling as SNTIS\n",
    "from ofrl.ope import DiscreteSelfNormalizedPerDecisionImportanceSampling as SNPDIS\n",
    "from ofrl.ope import DiscreteSelfNormalizedDoublyRobust as SNDR"
   ]
  },
  {
   "cell_type": "code",
   "execution_count": 36,
   "metadata": {},
   "outputs": [],
   "source": [
    "# define evaluation policies\n",
    "cql_ = DiscreteEpsilonGreedyHead(base_policy=cql, n_actions=env.action_space.n, name=\"cql\", epsilon=0.0, random_state=random_state)\n",
    "ddqn_ = DiscreteEpsilonGreedyHead(base_policy=ddqn, n_actions=env.action_space.n, name=\"ddqn\", epsilon=0.0, random_state=random_state)\n",
    "random_ = DiscreteEpsilonGreedyHead(base_policy=random, n_actions=env.action_space.n, name=\"random\", epsilon=1.0, random_state=random_state)\n",
    "evaluation_policies = [cql_, ddqn_, random_]"
   ]
  },
  {
   "cell_type": "code",
   "execution_count": 40,
   "metadata": {},
   "outputs": [],
   "source": [
    "# first, prepare OPE inputs\n",
    "prep = CreateOPEInput(\n",
    "    env=env,\n",
    "    model_args={\n",
    "        \"fqe\": {\n",
    "            \"encoder_factory\": VectorEncoderFactory(hidden_units=[30, 30]),\n",
    "            \"q_func_factory\": MeanQFunctionFactory(),\n",
    "            \"learning_rate\": 1e-4,\n",
    "            \"use_gpu\": torch.cuda.is_available(),\n",
    "        }\n",
    "    },\n",
    "    state_scaler=MinMaxScaler(\n",
    "        minimum=logged_dataset[\"state\"].min(axis=0),\n",
    "        maximum=logged_dataset[\"state\"].max(axis=0),\n",
    "    ),\n",
    ")"
   ]
  },
  {
   "cell_type": "code",
   "execution_count": 41,
   "metadata": {},
   "outputs": [
    {
     "data": {
      "application/vnd.jupyter.widget-view+json": {
       "model_id": "afea031a8b5144faa6bfb23ae5606eed",
       "version_major": 2,
       "version_minor": 0
      },
      "text/plain": [
       "[fit FQE model]:   0%|          | 0/3 [00:00<?, ?it/s]"
      ]
     },
     "metadata": {},
     "output_type": "display_data"
    },
    {
     "name": "stdout",
     "output_type": "stream",
     "text": [
      "2023-01-04 20:55.04 [debug    ] RoundIterator is selected.\n",
      "2023-01-04 20:55.04 [info     ] Directory is created at d3rlpy_logs/DiscreteFQE_20230104205504\n",
      "2023-01-04 20:55.04 [debug    ] Fitting scaler...              scaler=min_max\n",
      "2023-01-04 20:55.04 [debug    ] Building models...\n",
      "2023-01-04 20:55.04 [debug    ] Models have been built.\n",
      "2023-01-04 20:55.04 [info     ] Parameters are saved to d3rlpy_logs/DiscreteFQE_20230104205504/params.json params={'action_scaler': None, 'batch_size': 100, 'encoder_factory': {'type': 'vector', 'params': {'hidden_units': [30, 30], 'activation': 'relu', 'use_batch_norm': False, 'dropout_rate': None, 'use_dense': False}}, 'gamma': 1.0, 'generated_maxlen': 100000, 'learning_rate': 0.0001, 'n_critics': 1, 'n_frames': 1, 'n_steps': 1, 'optim_factory': {'optim_cls': 'Adam', 'betas': (0.9, 0.999), 'eps': 1e-08, 'weight_decay': 0, 'amsgrad': False}, 'q_func_factory': {'type': 'mean', 'params': {'share_encoder': False}}, 'real_ratio': 1.0, 'reward_scaler': None, 'scaler': {'type': 'min_max', 'params': {'maximum': array([6.00000000e+00, 3.00000000e+03, 9.99993399e-01, 8.70000000e+04,\n",
      "       1.00000000e+00, 1.90000000e+01, 1.22472213e+01]), 'minimum': array([0.00000000e+00, 1.00000000e+00, 0.00000000e+00, 0.00000000e+00,\n",
      "       0.00000000e+00, 0.00000000e+00, 2.88642615e-06])}}, 'target_update_interval': 100, 'use_gpu': None, 'algorithm': 'DiscreteFQE', 'observation_shape': (7,), 'action_size': 10}\n"
     ]
    },
    {
     "data": {
      "application/vnd.jupyter.widget-view+json": {
       "model_id": "4c60d55b96bb4bb2b982d312eca673d5",
       "version_major": 2,
       "version_minor": 0
      },
      "text/plain": [
       "Epoch 1/1:   0%|          | 0/700 [00:00<?, ?it/s]"
      ]
     },
     "metadata": {},
     "output_type": "display_data"
    },
    {
     "name": "stdout",
     "output_type": "stream",
     "text": [
      "2023-01-04 20:55.05 [info     ] DiscreteFQE_20230104205504: epoch=1 step=700 epoch=1 metrics={'time_sample_batch': 0.00013560499463762557, 'time_algorithm_update': 0.0015653634071350097, 'loss': 1.6561811207021986, 'time_step': 0.001756659916469029} step=700\n",
      "2023-01-04 20:55.05 [info     ] Model parameters are saved to d3rlpy_logs/DiscreteFQE_20230104205504/model_700.pt\n",
      "2023-01-04 20:55.05 [debug    ] RoundIterator is selected.\n",
      "2023-01-04 20:55.05 [info     ] Directory is created at d3rlpy_logs/DiscreteFQE_20230104205505\n",
      "2023-01-04 20:55.05 [debug    ] Fitting scaler...              scaler=min_max\n",
      "2023-01-04 20:55.05 [debug    ] Building models...\n",
      "2023-01-04 20:55.05 [debug    ] Models have been built.\n",
      "2023-01-04 20:55.05 [info     ] Parameters are saved to d3rlpy_logs/DiscreteFQE_20230104205505/params.json params={'action_scaler': None, 'batch_size': 100, 'encoder_factory': {'type': 'vector', 'params': {'hidden_units': [30, 30], 'activation': 'relu', 'use_batch_norm': False, 'dropout_rate': None, 'use_dense': False}}, 'gamma': 1.0, 'generated_maxlen': 100000, 'learning_rate': 0.0001, 'n_critics': 1, 'n_frames': 1, 'n_steps': 1, 'optim_factory': {'optim_cls': 'Adam', 'betas': (0.9, 0.999), 'eps': 1e-08, 'weight_decay': 0, 'amsgrad': False}, 'q_func_factory': {'type': 'mean', 'params': {'share_encoder': False}}, 'real_ratio': 1.0, 'reward_scaler': None, 'scaler': {'type': 'min_max', 'params': {'maximum': array([6.00000000e+00, 3.00000000e+03, 9.99993399e-01, 8.70000000e+04,\n",
      "       1.00000000e+00, 1.90000000e+01, 1.22472213e+01]), 'minimum': array([0.00000000e+00, 1.00000000e+00, 0.00000000e+00, 0.00000000e+00,\n",
      "       0.00000000e+00, 0.00000000e+00, 2.88642615e-06])}}, 'target_update_interval': 100, 'use_gpu': None, 'algorithm': 'DiscreteFQE', 'observation_shape': (7,), 'action_size': 10}\n"
     ]
    },
    {
     "data": {
      "application/vnd.jupyter.widget-view+json": {
       "model_id": "86f7cf8d6d4f4685adb85125d8e28db5",
       "version_major": 2,
       "version_minor": 0
      },
      "text/plain": [
       "Epoch 1/1:   0%|          | 0/700 [00:00<?, ?it/s]"
      ]
     },
     "metadata": {},
     "output_type": "display_data"
    },
    {
     "name": "stdout",
     "output_type": "stream",
     "text": [
      "2023-01-04 20:55.06 [info     ] DiscreteFQE_20230104205505: epoch=1 step=700 epoch=1 metrics={'time_sample_batch': 0.00013124534061976842, 'time_algorithm_update': 0.0014918671335492815, 'loss': 1.753982378074101, 'time_step': 0.001673217841557094} step=700\n",
      "2023-01-04 20:55.06 [info     ] Model parameters are saved to d3rlpy_logs/DiscreteFQE_20230104205505/model_700.pt\n",
      "2023-01-04 20:55.06 [debug    ] RoundIterator is selected.\n",
      "2023-01-04 20:55.06 [info     ] Directory is created at d3rlpy_logs/DiscreteFQE_20230104205506\n",
      "2023-01-04 20:55.06 [debug    ] Fitting scaler...              scaler=min_max\n",
      "2023-01-04 20:55.06 [debug    ] Building models...\n",
      "2023-01-04 20:55.06 [debug    ] Models have been built.\n",
      "2023-01-04 20:55.06 [info     ] Parameters are saved to d3rlpy_logs/DiscreteFQE_20230104205506/params.json params={'action_scaler': None, 'batch_size': 100, 'encoder_factory': {'type': 'vector', 'params': {'hidden_units': [30, 30], 'activation': 'relu', 'use_batch_norm': False, 'dropout_rate': None, 'use_dense': False}}, 'gamma': 1.0, 'generated_maxlen': 100000, 'learning_rate': 0.0001, 'n_critics': 1, 'n_frames': 1, 'n_steps': 1, 'optim_factory': {'optim_cls': 'Adam', 'betas': (0.9, 0.999), 'eps': 1e-08, 'weight_decay': 0, 'amsgrad': False}, 'q_func_factory': {'type': 'mean', 'params': {'share_encoder': False}}, 'real_ratio': 1.0, 'reward_scaler': None, 'scaler': {'type': 'min_max', 'params': {'maximum': array([6.00000000e+00, 3.00000000e+03, 9.99993399e-01, 8.70000000e+04,\n",
      "       1.00000000e+00, 1.90000000e+01, 1.22472213e+01]), 'minimum': array([0.00000000e+00, 1.00000000e+00, 0.00000000e+00, 0.00000000e+00,\n",
      "       0.00000000e+00, 0.00000000e+00, 2.88642615e-06])}}, 'target_update_interval': 100, 'use_gpu': None, 'algorithm': 'DiscreteFQE', 'observation_shape': (7,), 'action_size': 10}\n"
     ]
    },
    {
     "data": {
      "application/vnd.jupyter.widget-view+json": {
       "model_id": "c2fecabf92b74612ae93da28a194c5d7",
       "version_major": 2,
       "version_minor": 0
      },
      "text/plain": [
       "Epoch 1/1:   0%|          | 0/700 [00:00<?, ?it/s]"
      ]
     },
     "metadata": {},
     "output_type": "display_data"
    },
    {
     "name": "stdout",
     "output_type": "stream",
     "text": [
      "2023-01-04 20:55.07 [info     ] DiscreteFQE_20230104205506: epoch=1 step=700 epoch=1 metrics={'time_sample_batch': 0.00013699804033551896, 'time_algorithm_update': 0.0013288344655718123, 'loss': 1.770499598639352, 'time_step': 0.0015202106748308454} step=700\n",
      "2023-01-04 20:55.07 [info     ] Model parameters are saved to d3rlpy_logs/DiscreteFQE_20230104205506/model_700.pt\n"
     ]
    },
    {
     "data": {
      "application/vnd.jupyter.widget-view+json": {
       "model_id": "9d3e055b915b441bb00bc746d1202b92",
       "version_major": 2,
       "version_minor": 0
      },
      "text/plain": [
       "[collect input data]:   0%|          | 0/3 [00:00<?, ?it/s]"
      ]
     },
     "metadata": {},
     "output_type": "display_data"
    },
    {
     "data": {
      "application/vnd.jupyter.widget-view+json": {
       "model_id": "2e8b6602b1d644d28f0f17c908a144e8",
       "version_major": 2,
       "version_minor": 0
      },
      "text/plain": [
       "[calculate on-policy policy value]:   0%|          | 0/100 [00:00<?, ?it/s]"
      ]
     },
     "metadata": {},
     "output_type": "display_data"
    },
    {
     "data": {
      "application/vnd.jupyter.widget-view+json": {
       "model_id": "9061e9bb9f7f497c91cafb316a11e8f7",
       "version_major": 2,
       "version_minor": 0
      },
      "text/plain": [
       "[calculate on-policy policy value]:   0%|          | 0/100 [00:00<?, ?it/s]"
      ]
     },
     "metadata": {},
     "output_type": "display_data"
    },
    {
     "data": {
      "application/vnd.jupyter.widget-view+json": {
       "model_id": "41f121dc6921461bad4a71dbd4fe7dae",
       "version_major": 2,
       "version_minor": 0
      },
      "text/plain": [
       "[calculate on-policy policy value]:   0%|          | 0/100 [00:00<?, ?it/s]"
      ]
     },
     "metadata": {},
     "output_type": "display_data"
    }
   ],
   "source": [
    "# takes time\n",
    "input_dict = prep.obtain_whole_inputs(\n",
    "    logged_dataset=logged_dataset,\n",
    "    evaluation_policies=evaluation_policies,\n",
    "    require_value_prediction=True,\n",
    "    n_trajectories_on_policy_evaluation=100,\n",
    "    random_state=random_state,\n",
    ")"
   ]
  },
  {
   "cell_type": "code",
   "execution_count": 44,
   "metadata": {},
   "outputs": [],
   "source": [
    "with open(\"logs/ope_input_dict_discrete.pkl\", \"wb\") as f:\n",
    "    pickle.dump(input_dict, f)"
   ]
  },
  {
   "cell_type": "code",
   "execution_count": 45,
   "metadata": {},
   "outputs": [],
   "source": [
    "with open(\"logs/ope_input_dict_discrete.pkl\", \"rb\") as f:\n",
    "    input_dict = pickle.load(f)"
   ]
  },
  {
   "cell_type": "code",
   "execution_count": 42,
   "metadata": {},
   "outputs": [],
   "source": [
    "ope = OPE(\n",
    "    logged_dataset=logged_dataset,\n",
    "    ope_estimators=[DM(), TIS(), PDIS(), DR(), SNTIS(), SNPDIS(), SNDR()],\n",
    ")"
   ]
  },
  {
   "cell_type": "code",
   "execution_count": 44,
   "metadata": {},
   "outputs": [],
   "source": [
    "# performance estimation by ope\n",
    "policy_value_df_dict, policy_value_interval_df_dict = ope.summarize_off_policy_estimates(input_dict, random_state=random_state)"
   ]
  },
  {
   "cell_type": "code",
   "execution_count": 45,
   "metadata": {},
   "outputs": [
    {
     "data": {
      "text/plain": [
       "{'cql':            policy_value  relative_policy_value\n",
       " on_policy     16.530000               1.000000\n",
       " dm             4.414616               0.267067\n",
       " tis            8.129817               0.491822\n",
       " pdis          14.281121               0.863952\n",
       " dr            15.419919               0.932844\n",
       " sntis         16.134132               0.976052\n",
       " snpdis        16.457177               0.995595\n",
       " sndr          16.708943               1.010825,\n",
       " 'ddqn':            policy_value  relative_policy_value\n",
       " on_policy     16.260000               1.000000\n",
       " dm             2.544292               0.156476\n",
       " tis           16.562270               1.018590\n",
       " pdis          16.271383               1.000700\n",
       " dr            16.240486               0.998800\n",
       " sntis         16.149162               0.993183\n",
       " snpdis        16.229112               0.998100\n",
       " sndr          16.231507               0.998248,\n",
       " 'random':            policy_value  relative_policy_value\n",
       " on_policy     12.570000               1.000000\n",
       " dm             1.238948               0.098564\n",
       " tis            7.146286               0.568519\n",
       " pdis          11.507260               0.915454\n",
       " dr            12.008501               0.955330\n",
       " sntis         13.128612               1.044440\n",
       " snpdis        12.337081               0.981470\n",
       " sndr          12.303981               0.978837}"
      ]
     },
     "execution_count": 45,
     "metadata": {},
     "output_type": "execute_result"
    }
   ],
   "source": [
    "# estimated policy performance\n",
    "policy_value_df_dict"
   ]
  },
  {
   "cell_type": "code",
   "execution_count": 46,
   "metadata": {},
   "outputs": [
    {
     "data": {
      "text/plain": [
       "{'cql':                 mean  95.0% CI (lower)  95.0% CI (upper)\n",
       " on_policy  16.462600         15.619000         17.222500\n",
       " dm          4.414383          4.404665          4.422965\n",
       " tis         8.197212          5.448311         11.452312\n",
       " pdis       14.284115         13.235664         15.319093\n",
       " dr         15.402349         14.509666         16.386119\n",
       " sntis      16.267880         10.812515         22.727829\n",
       " snpdis     16.464921         14.968059         17.983174\n",
       " sndr       16.682313         15.435752         18.084372,\n",
       " 'ddqn':                 mean  95.0% CI (lower)  95.0% CI (upper)\n",
       " on_policy  16.179700         15.338500         16.967750\n",
       " dm          2.544188          2.539861          2.548063\n",
       " tis        16.642642         15.805576         17.837231\n",
       " pdis       16.297426         15.995828         16.631489\n",
       " dr         16.255124         16.003603         16.543408\n",
       " sntis      16.227529         15.411342         17.392321\n",
       " snpdis     16.255107         15.954799         16.588681\n",
       " sndr       16.246293         15.995092         16.533612,\n",
       " 'random':                 mean  95.0% CI (lower)  95.0% CI (upper)\n",
       " on_policy  12.497200         11.637000         13.475750\n",
       " dm          1.238908          1.235578          1.241973\n",
       " tis         7.297585          5.116208         10.230011\n",
       " pdis       11.601555         10.007481         13.310806\n",
       " dr         12.091108         10.560076         13.771484\n",
       " sntis      13.406567          9.399108         18.793796\n",
       " snpdis     12.435429         10.587870         14.433051\n",
       " sndr       12.389547         10.681973         14.244077}"
      ]
     },
     "execution_count": 46,
     "metadata": {},
     "output_type": "execute_result"
    }
   ],
   "source": [
    "# estimated confidence intervals of the policy performance\n",
    "policy_value_interval_df_dict"
   ]
  },
  {
   "cell_type": "markdown",
   "metadata": {},
   "source": [
    "## 4. Evaluation of OPE methods\n",
    "Now, we evaluate how well the ope estimators estimated the policy value."
   ]
  },
  {
   "cell_type": "code",
   "execution_count": 47,
   "metadata": {},
   "outputs": [
    {
     "data": {
      "image/png": "[encoded data removed]",
      "text/plain": [
       "<Figure size 1008x864 with 3 Axes>"
      ]
     },
     "metadata": {},
     "output_type": "display_data"
    }
   ],
   "source": [
    "# we can visualize and compare the result\n",
    "# it seems that DM tends to have a bias though the variance is quite small, \n",
    "# while (trajectory-wise) importance sampling estimators have a smaller bias with a larger variance.\n",
    "# self-normalized estimators also works well\n",
    "ope.visualize_off_policy_estimates(input_dict, random_state=random_state, sharey=False)"
   ]
  },
  {
   "cell_type": "code",
   "execution_count": 49,
   "metadata": {},
   "outputs": [
    {
     "data": {
      "text/html": [
       "<div>\n",
       "<style scoped>\n",
       "    .dataframe tbody tr th:only-of-type {\n",
       "        vertical-align: middle;\n",
       "    }\n",
       "\n",
       "    .dataframe tbody tr th {\n",
       "        vertical-align: top;\n",
       "    }\n",
       "\n",
       "    .dataframe thead th {\n",
       "        text-align: right;\n",
       "    }\n",
       "</style>\n",
       "<table border=\"1\" class=\"dataframe\">\n",
       "  <thead>\n",
       "    <tr style=\"text-align: right;\">\n",
       "      <th></th>\n",
       "      <th>cql</th>\n",
       "      <th>ddqn</th>\n",
       "      <th>random</th>\n",
       "    </tr>\n",
       "  </thead>\n",
       "  <tbody>\n",
       "    <tr>\n",
       "      <th>dm</th>\n",
       "      <td>146.782519</td>\n",
       "      <td>188.120648</td>\n",
       "      <td>128.392731</td>\n",
       "    </tr>\n",
       "    <tr>\n",
       "      <th>tis</th>\n",
       "      <td>70.563067</td>\n",
       "      <td>0.091367</td>\n",
       "      <td>29.416672</td>\n",
       "    </tr>\n",
       "    <tr>\n",
       "      <th>pdis</th>\n",
       "      <td>5.057458</td>\n",
       "      <td>0.000130</td>\n",
       "      <td>1.129417</td>\n",
       "    </tr>\n",
       "    <tr>\n",
       "      <th>dr</th>\n",
       "      <td>1.232279</td>\n",
       "      <td>0.000381</td>\n",
       "      <td>0.315281</td>\n",
       "    </tr>\n",
       "    <tr>\n",
       "      <th>sntis</th>\n",
       "      <td>0.156712</td>\n",
       "      <td>0.012285</td>\n",
       "      <td>0.312047</td>\n",
       "    </tr>\n",
       "    <tr>\n",
       "      <th>snpdis</th>\n",
       "      <td>0.005303</td>\n",
       "      <td>0.000954</td>\n",
       "      <td>0.054251</td>\n",
       "    </tr>\n",
       "    <tr>\n",
       "      <th>sndr</th>\n",
       "      <td>0.032021</td>\n",
       "      <td>0.000812</td>\n",
       "      <td>0.070766</td>\n",
       "    </tr>\n",
       "  </tbody>\n",
       "</table>\n",
       "</div>"
      ],
      "text/plain": [
       "               cql        ddqn      random\n",
       "dm      146.782519  188.120648  128.392731\n",
       "tis      70.563067    0.091367   29.416672\n",
       "pdis      5.057458    0.000130    1.129417\n",
       "dr        1.232279    0.000381    0.315281\n",
       "sntis     0.156712    0.012285    0.312047\n",
       "snpdis    0.005303    0.000954    0.054251\n",
       "sndr      0.032021    0.000812    0.070766"
      ]
     },
     "execution_count": 49,
     "metadata": {},
     "output_type": "execute_result"
    }
   ],
   "source": [
    "# squared-error (se) measures the estimation accuracy of OPE\n",
    "eval_metric_ope_df = ope.evaluate_performance_of_ope_estimators(\n",
    "    input_dict, \n",
    "    metric=\"se\",\n",
    "    return_by_dataframe=True,\n",
    ")\n",
    "eval_metric_ope_df"
   ]
  },
  {
   "cell_type": "markdown",
   "metadata": {},
   "source": [
    "For more advanced topics in OPE (e.g., cumulative distribution function estimation) and OPS, please refer to [examples/quickstart/rtb_synthetic_discrete_advanced.ipynb](https://github.com/negocia-inc/rtb_reinforcement_learing/blob/ope/examples/quickstart/rtb_synthetic_discrete_advanced.ipynb). \n",
    "\n",
    "For more advanced OPE estimators (e.g., state(-action) marginal estimators and double reinforcement learning), please refer to [examples/quickstart/rtb_synthetic_discrete_zoo.ipynb](https://github.com/negocia-inc/rtb_reinforcement_learing/blob/ope/examples/quickstart/rtb_synthetic_discrete_zoo.ipynb). \n",
    "\n",
    "For the examples in the continuous action space, please refer to [examples/quickstart/rtb_synthetic_continuous_basic.ipynb](https://github.com/negocia-inc/rtb_reinforcement_learing/blob/ope/examples/quickstart/rtb_synthetic_continuous_basic.ipynb)."
   ]
  },
  {
   "cell_type": "markdown",
   "metadata": {},
   "source": [
    "## Reference\n",
    "\n",
    "- Yuta Saito, Shunsuke Aihara, Megumi Matsutani, and Yusuke Narita. \\\n",
    "\"Open Bandit Dataset and Pipeline: Towards Realistic and Reproducible Off-Policy Evaluation.\", 2021.\n",
    "\n",
    "- Takuma Seno and Michita Imai. \\\n",
    "\"d3rlpy: An Offline Deep Reinforcement Library.\", 2021.\n",
    "\n",
    "- Sergey Levine, Aviral Kumar, George Tucker, and Justin Fu. \\\n",
    "\"Offline Reinforcement Learning: Tutorial, Review, and Perspectives on Open Problems.\" 2020.\n",
    "\n",
    "- Aviral Kumar, Aurick Zhou, George Tucker, and Sergey Levine. \\\n",
    "\"Conservative Q-Learning for Offline Reinforcement Learning.\", 2020.\n",
    "\n",
    "- Nathan Kallus and Masatoshi Uehara. \\\n",
    "\"Intrinsically Efficient, Stable, and Bounded Off-Policy Evaluation for Reinforcement Learning.\", 2019.\n",
    "\n",
    "- Hoang Le, Cameron Voloshin, and Yisong Yue. \\\n",
    "\"Batch Policy Learning under Constraints.\", 2019.\n",
    "\n",
    "- Di Wu, Xiujun Chen, Xun Yang, Hao Wang, Qing Tan, Xiaoxun Zhang, Jian Xu, and Kun Gai. \\\n",
    "\"Budget Constrained Bidding by Model-free Reinforcement Learning in Display Advertising.\", 2018.\n",
    "\n",
    "- Jun Zhao, Guang Qiu, Ziyu Guan, Wei Zhao, and Xiaofei He. \\\n",
    "\"Deep Reinforcement Learning for Sponsored Search Real-time Bidding.\", 2018.\n",
    "\n",
    "- Nan Jiang and Lihong Li. \\\n",
    "\"Doubly Robust Off-policy Value Evaluation for Reinforcement Learning.\", 2016.\n",
    "\n",
    "- Philip S. Thomas and Emma Brunskill. \\\n",
    "\"Data-Efficient Off-Policy Policy Evaluation for Reinforcement Learning.\", 2016.\n",
    "\n",
    "- Greg Brockman, Vicki Cheung, Ludwig Pettersson, Jonas Schneider, John Schulman, Jie Tang, and Wojciech Zaremba. \\\n",
    "\"OpenAI Gym.\", 2016.\n",
    "\n",
    "- Adith Swaminathan and Thorsten Joachims. \\\n",
    "\"The Self-Normalized Estimator for Counterfactual Learning.\", 2015.\n",
    "\n",
    "- Hado van Hasselt, Arthur Guez, and David Silver. \\\n",
    "\"Deep Reinforcement Learning with Double Q-learning.\", 2015.\n",
    "\n",
    "- Miroslav Dudík, Dumitru Erhan, John Langford, and Lihong Li. \\\n",
    "\"Doubly Robust Policy Evaluation and Optimization.\", 2014.\n",
    "\n",
    "- Alex Strehl, John Langford, Sham Kakade, and Lihong Li. \\\n",
    "\"Learning from Logged Implicit Exploration Data.\", 2010.\n",
    "\n",
    "- Alina Beygelzimer and John Langford. \\\n",
    "\"The Offset Tree for Learning with Partial Labels.\", 2009.\n",
    "\n",
    "- Doina Precup, Richard S. Sutton, and Satinder P. Singh. \\\n",
    "\"Eligibility Traces for Off-Policy Policy Evaluation.\", 2000."
   ]
  },
  {
   "cell_type": "code",
   "execution_count": null,
   "metadata": {},
   "outputs": [],
   "source": []
  }
 ],
 "metadata": {
  "kernelspec": {
   "display_name": "Python 3",
   "language": "python",
   "name": "python3"
  },
  "language_info": {
   "codemirror_mode": {
    "name": "ipython",
    "version": 3
   },
   "file_extension": ".py",
   "mimetype": "text/x-python",
   "name": "python",
   "nbconvert_exporter": "python",
   "pygments_lexer": "ipython3",
   "version": "3.8.5"
  },
  "vscode": {
   "interpreter": {
    "hash": "eeb0e296031d5f4c93e05211083c58e9e78a3e8af86402f626ea4098c0a5e991"
   }
  }
 },
 "nbformat": 4,
 "nbformat_minor": 4
}
