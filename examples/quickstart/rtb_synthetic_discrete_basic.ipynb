{
 "cells": [
  {
   "cell_type": "markdown",
   "metadata": {},
   "source": [
    "# Quickstart Example with Synthetic RTB Simulation and Dataset (Discrete)\n",
    "This notebook provides an example of conducting **Off-policy Evaluation (OPE) and Offline Reinforcement Learning (Offline RL) with synthetic Real-Time Bidding (RTB) dataset**.\n",
    "\n",
    "Our example with Synthetic RTB Simualtion and Dataset contains the following 5 steps: \\\n",
    "0. (Setup Synthetic RTB Simulation Environment and Online RL)\n",
    "1. Synthetic Data Generation\n",
    "2. Offline Reinforcement Learning\n",
    "3. Off-Policy Evaluation and Evaluation of Offline RL methods\n",
    "4. Evaluation of OPE methods\n",
    "\n",
    "\\* This library uses [d3rlpy](https://github.com/takuseno/d3rlpy)'s algorithm implementations of online/offline rl policies and model-based evaluation.  \n",
    "\\* Also, our implementations of OPE are highly inspired by [Open Bandit Pipeline](https://github.com/st-tech/zr-obp)."
   ]
  },
  {
   "cell_type": "code",
   "execution_count": 1,
   "metadata": {},
   "outputs": [],
   "source": [
    "# delete later\n",
    "%load_ext autoreload\n",
    "%autoreload 2"
   ]
  },
  {
   "cell_type": "code",
   "execution_count": 2,
   "metadata": {},
   "outputs": [],
   "source": [
    "# delete later\n",
    "import warnings\n",
    "warnings.simplefilter('ignore')"
   ]
  },
  {
   "cell_type": "code",
   "execution_count": 3,
   "metadata": {},
   "outputs": [],
   "source": [
    "# delete later\n",
    "import sys\n",
    "sys.path.append('../')\n",
    "sys.path.append('../../')"
   ]
  },
  {
   "cell_type": "code",
   "execution_count": 4,
   "metadata": {},
   "outputs": [],
   "source": [
    "# import offlinegym modules\n",
    "import offlinegym\n",
    "from rtbgym import RTBEnv, CustomizedRTBEnv\n",
    "from offlinegym.dataset import SyntheticDataset\n",
    "from offlinegym.policy import OnlineHead\n",
    "from offlinegym.ope.online import (\n",
    "    calc_on_policy_policy_value,\n",
    "    visualize_on_policy_policy_value,\n",
    ")\n",
    "\n",
    "# import d3rlpy algorithms\n",
    "from d3rlpy.algos import DiscreteRandomPolicy\n",
    "from d3rlpy.algos import RandomPolicy as ContinuousRandomPolicy\n",
    "from d3rlpy.preprocessing import MinMaxActionScaler\n",
    "\n",
    "# import from other libraries\n",
    "import gym\n",
    "import torch\n",
    "from sklearn.model_selection import train_test_split"
   ]
  },
  {
   "cell_type": "code",
   "execution_count": 5,
   "metadata": {},
   "outputs": [],
   "source": [
    "import pickle\n",
    "from glob import glob\n",
    "from tqdm import tqdm\n",
    "\n",
    "import numpy as np\n",
    "import pandas as pd\n",
    "\n",
    "import matplotlib.pyplot as plt\n",
    "import seaborn as sns\n",
    "\n",
    "%matplotlib inline"
   ]
  },
  {
   "cell_type": "code",
   "execution_count": 6,
   "metadata": {},
   "outputs": [
    {
     "name": "stdout",
     "output_type": "stream",
     "text": [
      "0.0.0\n"
     ]
    }
   ],
   "source": [
    "# version\n",
    "print(offlinegym.__version__)"
   ]
  },
  {
   "cell_type": "code",
   "execution_count": 7,
   "metadata": {},
   "outputs": [],
   "source": [
    "# set random state\n",
    "random_state = 12345"
   ]
  },
  {
   "cell_type": "code",
   "execution_count": 8,
   "metadata": {},
   "outputs": [],
   "source": [
    "# log directory\n",
    "from pathlib import Path\n",
    "Path(\"logs/\").mkdir(exist_ok=True)"
   ]
  },
  {
   "cell_type": "markdown",
   "metadata": {},
   "source": [
    "## 0. (Setup Synthetic RTB Simulation Environment and Online RL)\n",
    "To begin with, we briefly describe how the RTB environment works for the preparation.\n",
    "\n",
    "#### RL setup for RTB\n",
    "In RTB, the objective of the RL agent is to maximize some KPIs (such as numbers of click or conversion) within a episode under the given budget constraints.  \n",
    "We often try to achieve this by adjusting bidding price function parameter $\\alpha$. By using $\\alpha$, we adjust bid price as follows.  \n",
    "$bid_{t,i} = \\alpha \\cdot r^{\\ast}$, \n",
    "where $r^{\\ast}$ denotes predicted or expected reward (KPIs).\n",
    "\n",
    "We often formulate this RTB problem as the following Constrained Markov Decision Process (CMDP):\n",
    "- `timestep`: One episode (a day or a week) consists of several timesteps (24 hours or seven days, for instance).\n",
    "- `state`: We observe statistical feedback from environment at each timestep, which include following informations.\n",
    "  - timestep\n",
    "  - remaining budget\n",
    "  - impression level features (budget comsuption rate, cost per mille of impressions, auction winning rate, reward) at previous timestep\n",
    "  - adjust rate (RL agent's decision making) at previous timestep\n",
    "- `action`: Agent chooses adjust rate parameter $\\alpha$ to maximize KPIs.\n",
    "- `reward`: Total number of clicks or conversions obtained during the timestep.\n",
    "- `constraints`: The pre-determined episodic budget should not be exceeded.\n",
    "\n",
    "For more about the environmental configuration , please refer to [examples/quickstart/rtb_synthetic_customize_env.ipynb](https://github.com/negocia-inc/rtb_reinforcement_learing/blob/ope/examples/quickstart/rtb_synthetic_customize_env.ipynb).\n",
    "\n",
    "Let's see how it works!"
   ]
  },
  {
   "cell_type": "code",
   "execution_count": 9,
   "metadata": {},
   "outputs": [],
   "source": [
    "# setup environment\n",
    "env = RTBEnv(random_state=random_state)"
   ]
  },
  {
   "cell_type": "code",
   "execution_count": 10,
   "metadata": {},
   "outputs": [],
   "source": [
    "# define random agent\n",
    "agent = OnlineHead(\n",
    "    ContinuousRandomPolicy(\n",
    "        action_scaler=MinMaxActionScaler(\n",
    "            minimum=0.1,  # minimum value that policy can take\n",
    "            maximum=10,  # maximum value that policy can take\n",
    "        )\n",
    "    )\n",
    ")"
   ]
  },
  {
   "cell_type": "code",
   "execution_count": 11,
   "metadata": {},
   "outputs": [],
   "source": [
    "# interact agent with environment\n",
    "# only 6 lines needed for RL interaction\n",
    "for episode in range(10):\n",
    "    obs = env.reset()\n",
    "    done = False\n",
    "\n",
    "    while not done:\n",
    "        action = agent.predict_online(obs)\n",
    "        obs, reward, done, info = env.step(action)"
   ]
  },
  {
   "cell_type": "code",
   "execution_count": 12,
   "metadata": {},
   "outputs": [
    {
     "name": "stdout",
     "output_type": "stream",
     "text": [
      "['timestep', 'remaining_budget', 'budget_consumption_rate', 'cost_per_mille_of_impression', 'winning_rate', 'reward', 'adjust_rate']\n",
      "(7,)\n"
     ]
    }
   ],
   "source": [
    "# state contains the following statistical feedback from environment\n",
    "print(env.obs_keys)\n",
    "print(obs.shape)"
   ]
  },
  {
   "cell_type": "code",
   "execution_count": 13,
   "metadata": {},
   "outputs": [
    {
     "data": {
      "image/png": "[encoded data removed]",
      "text/plain": [
       "<Figure size 432x288 with 2 Axes>"
      ]
     },
     "metadata": {
      "needs_background": "light"
     },
     "output_type": "display_data"
    }
   ],
   "source": [
    "# let's visualize the transition of remaing budget and cumulative reward\n",
    "# our goal is to gain a policy (i.e., agent) which maximize the cumulative reward under budget constraints using RL.  \n",
    "obs = env.reset()\n",
    "done = False\n",
    "remaining_budget = [obs[1]]\n",
    "cumulative_reward = [0]\n",
    "\n",
    "while not done:\n",
    "    action = agent.predict_online(obs)\n",
    "    obs, reward, done, info = env.step(action)\n",
    "    remaining_budget.append(obs[1])\n",
    "    cumulative_reward.append(cumulative_reward[-1] + reward)\n",
    "\n",
    "# plot\n",
    "fig = plt.figure()\n",
    "ax1 = fig.add_subplot(111)\n",
    "ax1.plot(remaining_budget[:-1], label='remaining budget')\n",
    "ax2 = ax1.twinx()\n",
    "ax2.plot(cumulative_reward[:-1], label='cumulative reward', color='tab:orange')\n",
    "ax1.set_xlabel('timestep')\n",
    "ax1.set_ylabel('remainig budget')\n",
    "ax1.set_ylim(0, env.initial_budget + 100)\n",
    "ax2.set_ylabel('reward (coversion)')\n",
    "ax1.legend(loc='upper left')\n",
    "ax2.legend(loc='upper right')\n",
    "plt.show()"
   ]
  },
  {
   "cell_type": "markdown",
   "metadata": {},
   "source": [
    "We see that the random policy soon run out the budget.  \n",
    "Our goal is to derive a policy that controls the adjust rate (i.e., action) to maximize the reward within the given budget constraints.\n",
    "\n",
    "For more about the environmental configurations and customization, please refer to [examples/quickstart/rtb_synthetic_customize_env.ipynb](https://github.com/negocia-inc/rtb_reinforcement_learing/blob/ope/examples/quickstart/rtb_synthetic_customize_env.ipynb)."
   ]
  },
  {
   "cell_type": "markdown",
   "metadata": {},
   "source": [
    "#### Online RL and comparison of the policies\n",
    "We now learn an online RL policy and compare it to random policy, using on-policy policy estimation."
   ]
  },
  {
   "cell_type": "code",
   "execution_count": 14,
   "metadata": {},
   "outputs": [
    {
     "name": "stdout",
     "output_type": "stream",
     "text": [
      "[ 0.1         0.16681005  0.27825594  0.46415888  0.77426368  1.29154967\n",
      "  2.15443469  3.59381366  5.9948425  10.        ]\n"
     ]
    }
   ],
   "source": [
    "# standardized environemnt for discrete action\n",
    "env = gym.make(\"RTBEnv-discrete-v0\")\n",
    "print(env.action_meaning)"
   ]
  },
  {
   "cell_type": "code",
   "execution_count": 15,
   "metadata": {},
   "outputs": [],
   "source": [
    "from d3rlpy.algos import DoubleDQN\n",
    "from d3rlpy.models.encoders import VectorEncoderFactory\n",
    "from d3rlpy.models.q_functions import MeanQFunctionFactory\n",
    "from d3rlpy.online.buffers import ReplayBuffer\n",
    "from d3rlpy.online.explorers import LinearDecayEpsilonGreedy\n",
    "\n",
    "# model\n",
    "ddqn = DoubleDQN(\n",
    "    encoder_factory=VectorEncoderFactory(hidden_units=[30, 30]),\n",
    "    q_func_factory=MeanQFunctionFactory(),\n",
    "    target_update_interval=100,\n",
    "    use_gpu=torch.cuda.is_available(),\n",
    ")\n",
    "# replay buffer\n",
    "buffer = ReplayBuffer(\n",
    "    maxlen=10000,\n",
    "    env=env,\n",
    ")\n",
    "# explorers\n",
    "explorer = LinearDecayEpsilonGreedy(\n",
    "    start_epsilon=1.0,\n",
    "    end_epsilon=0.3,\n",
    "    duration=1000,\n",
    ")"
   ]
  },
  {
   "cell_type": "code",
   "execution_count": 16,
   "metadata": {},
   "outputs": [
    {
     "name": "stdout",
     "output_type": "stream",
     "text": [
      "2022-06-02 12:38.25 [info     ] Directory is created at d3rlpy_logs/DoubleDQN_online_20220602123825\n",
      "2022-06-02 12:38.25 [debug    ] Building model...\n",
      "2022-06-02 12:38.25 [debug    ] Model has been built.\n",
      "2022-06-02 12:38.25 [info     ] Parameters are saved to d3rlpy_logs/DoubleDQN_online_20220602123825/params.json params={'action_scaler': None, 'batch_size': 32, 'encoder_factory': {'type': 'vector', 'params': {'hidden_units': [30, 30], 'activation': 'relu', 'use_batch_norm': False, 'dropout_rate': None, 'use_dense': False}}, 'gamma': 0.99, 'generated_maxlen': 100000, 'learning_rate': 6.25e-05, 'n_critics': 1, 'n_frames': 1, 'n_steps': 1, 'optim_factory': {'optim_cls': 'Adam', 'betas': (0.9, 0.999), 'eps': 1e-08, 'weight_decay': 0, 'amsgrad': False}, 'q_func_factory': {'type': 'mean', 'params': {'share_encoder': False}}, 'real_ratio': 1.0, 'reward_scaler': None, 'scaler': None, 'target_update_interval': 100, 'use_gpu': None, 'algorithm': 'DoubleDQN', 'observation_shape': (7,), 'action_size': 10}\n"
     ]
    },
    {
     "data": {
      "application/vnd.jupyter.widget-view+json": {
       "model_id": "c9a5d95a38354bd49a87f130ff9f32c7",
       "version_major": 2,
       "version_minor": 0
      },
      "text/plain": [
       "  0%|          | 0/100000 [00:00<?, ?it/s]"
      ]
     },
     "metadata": {},
     "output_type": "display_data"
    },
    {
     "name": "stdout",
     "output_type": "stream",
     "text": [
      "2022-06-02 12:38.26 [info     ] Model parameters are saved to d3rlpy_logs/DoubleDQN_online_20220602123825/model_1000.pt\n",
      "2022-06-02 12:38.26 [info     ] DoubleDQN_online_20220602123825: epoch=1 step=1000 epoch=1 metrics={'time_inference': 0.00027731728553771973, 'time_environment_step': 0.0005324971675872803, 'time_step': 0.0008419928550720215, 'rollout_return': 13.309859154929578, 'evaluation': 14.2} step=1000\n",
      "2022-06-02 12:38.28 [info     ] Model parameters are saved to d3rlpy_logs/DoubleDQN_online_20220602123825/model_2000.pt\n",
      "2022-06-02 12:38.28 [info     ] DoubleDQN_online_20220602123825: epoch=2 step=2000 epoch=2 metrics={'time_inference': 0.0002997908592224121, 'time_environment_step': 0.0006178052425384521, 'time_sample_batch': 7.587099075317383e-05, 'time_algorithm_update': 0.0012296104431152343, 'loss': 46.833126534461975, 'time_step': 0.0022790718078613283, 'rollout_return': 10.922535211267606, 'evaluation': 0.0} step=2000\n",
      "2022-06-02 12:38.30 [info     ] Model parameters are saved to d3rlpy_logs/DoubleDQN_online_20220602123825/model_3000.pt\n",
      "2022-06-02 12:38.30 [info     ] DoubleDQN_online_20220602123825: epoch=3 step=3000 epoch=3 metrics={'time_inference': 0.0002817451953887939, 'time_environment_step': 0.0005701696872711182, 'time_sample_batch': 6.924748420715332e-05, 'time_algorithm_update': 0.0011441209316253663, 'loss': 9.857804393053055, 'time_step': 0.002117010831832886, 'rollout_return': 5.598591549295775, 'evaluation': 0.0} step=3000\n",
      "2022-06-02 12:38.33 [info     ] Model parameters are saved to d3rlpy_logs/DoubleDQN_online_20220602123825/model_4000.pt\n",
      "2022-06-02 12:38.33 [info     ] DoubleDQN_online_20220602123825: epoch=4 step=4000 epoch=4 metrics={'time_inference': 0.0002780220508575439, 'time_environment_step': 0.0005654940605163574, 'time_sample_batch': 6.885337829589843e-05, 'time_algorithm_update': 0.0011398718357086182, 'loss': 7.8554498946666715, 'time_step': 0.002103715181350708, 'rollout_return': 5.330985915492958, 'evaluation': 0.0} step=4000\n",
      "2022-06-02 12:38.35 [info     ] Model parameters are saved to d3rlpy_logs/DoubleDQN_online_20220602123825/model_5000.pt\n",
      "2022-06-02 12:38.35 [info     ] DoubleDQN_online_20220602123825: epoch=5 step=5000 epoch=5 metrics={'time_inference': 0.00028577661514282227, 'time_environment_step': 0.0005804107189178466, 'time_sample_batch': 7.240557670593261e-05, 'time_algorithm_update': 0.001163599967956543, 'loss': 7.288907838582992, 'time_step': 0.002155390024185181, 'rollout_return': 4.971830985915493, 'evaluation': 0.0} step=5000\n",
      "2022-06-02 12:38.37 [info     ] Model parameters are saved to d3rlpy_logs/DoubleDQN_online_20220602123825/model_6000.pt\n",
      "2022-06-02 12:38.37 [info     ] DoubleDQN_online_20220602123825: epoch=6 step=6000 epoch=6 metrics={'time_inference': 0.0002868978977203369, 'time_environment_step': 0.0005807011127471924, 'time_sample_batch': 7.260227203369141e-05, 'time_algorithm_update': 0.001173868417739868, 'loss': 6.4457945469617846, 'time_step': 0.0021665656566619874, 'rollout_return': 5.23943661971831, 'evaluation': 0.0} step=6000\n",
      "2022-06-02 12:38.39 [info     ] Model parameters are saved to d3rlpy_logs/DoubleDQN_online_20220602123825/model_7000.pt\n",
      "2022-06-02 12:38.39 [info     ] DoubleDQN_online_20220602123825: epoch=7 step=7000 epoch=7 metrics={'time_inference': 0.00028349733352661134, 'time_environment_step': 0.0005745880603790283, 'time_sample_batch': 7.192683219909668e-05, 'time_algorithm_update': 0.001151594877243042, 'loss': 5.441121182799339, 'time_step': 0.0021337785720825196, 'rollout_return': 5.436619718309859, 'evaluation': 0.4} step=7000\n",
      "2022-06-02 12:38.42 [info     ] Model parameters are saved to d3rlpy_logs/DoubleDQN_online_20220602123825/model_8000.pt\n",
      "2022-06-02 12:38.42 [info     ] DoubleDQN_online_20220602123825: epoch=8 step=8000 epoch=8 metrics={'time_inference': 0.00028453707695007323, 'time_environment_step': 0.0005795595645904541, 'time_sample_batch': 7.276105880737305e-05, 'time_algorithm_update': 0.001157376766204834, 'loss': 4.398895700931549, 'time_step': 0.0021464667320251463, 'rollout_return': 5.746478873239437, 'evaluation': 0.0} step=8000\n",
      "2022-06-02 12:38.44 [info     ] Model parameters are saved to d3rlpy_logs/DoubleDQN_online_20220602123825/model_9000.pt\n",
      "2022-06-02 12:38.44 [info     ] DoubleDQN_online_20220602123825: epoch=9 step=9000 epoch=9 metrics={'time_inference': 0.0002850584983825684, 'time_environment_step': 0.0005790331363677979, 'time_sample_batch': 7.314705848693847e-05, 'time_algorithm_update': 0.001157754421234131, 'loss': 3.357915793418884, 'time_step': 0.0021474504470825194, 'rollout_return': 9.795774647887324, 'evaluation': 7.6} step=9000\n",
      "2022-06-02 12:38.46 [info     ] Model parameters are saved to d3rlpy_logs/DoubleDQN_online_20220602123825/model_10000.pt\n",
      "2022-06-02 12:38.46 [info     ] DoubleDQN_online_20220602123825: epoch=10 step=10000 epoch=10 metrics={'time_inference': 0.0002845566272735596, 'time_environment_step': 0.0005780372619628906, 'time_sample_batch': 7.319450378417969e-05, 'time_algorithm_update': 0.001156580924987793, 'loss': 2.448876916587353, 'time_step': 0.002145220756530762, 'rollout_return': 12.295774647887324, 'evaluation': 9.8} step=10000\n",
      "2022-06-02 12:38.48 [info     ] Model parameters are saved to d3rlpy_logs/DoubleDQN_online_20220602123825/model_11000.pt\n",
      "2022-06-02 12:38.48 [info     ] DoubleDQN_online_20220602123825: epoch=11 step=11000 epoch=11 metrics={'time_inference': 0.00028399658203125, 'time_environment_step': 0.0005733637809753418, 'time_sample_batch': 7.19151496887207e-05, 'time_algorithm_update': 0.0011613657474517822, 'loss': 2.235139675498009, 'time_step': 0.0021439735889434816, 'rollout_return': 13.049295774647888, 'evaluation': 15.4} step=11000\n",
      "2022-06-02 12:38.51 [info     ] Model parameters are saved to d3rlpy_logs/DoubleDQN_online_20220602123825/model_12000.pt\n",
      "2022-06-02 12:38.51 [info     ] DoubleDQN_online_20220602123825: epoch=12 step=12000 epoch=12 metrics={'time_inference': 0.00028209972381591797, 'time_environment_step': 0.0005703225135803223, 'time_sample_batch': 7.172679901123047e-05, 'time_algorithm_update': 0.0011541807651519775, 'loss': 2.1027341466546057, 'time_step': 0.0021315906047821047, 'rollout_return': 13.225352112676056, 'evaluation': 13.1} step=12000\n",
      "2022-06-02 12:38.53 [info     ] Model parameters are saved to d3rlpy_logs/DoubleDQN_online_20220602123825/model_13000.pt\n",
      "2022-06-02 12:38.53 [info     ] DoubleDQN_online_20220602123825: epoch=13 step=13000 epoch=13 metrics={'time_inference': 0.0002922854423522949, 'time_environment_step': 0.0005890283584594726, 'time_sample_batch': 7.43706226348877e-05, 'time_algorithm_update': 0.0011917080879211427, 'loss': 1.9632989798784255, 'time_step': 0.0022026684284210205, 'rollout_return': 13.126760563380282, 'evaluation': 16.6} step=13000\n",
      "2022-06-02 12:38.55 [info     ] Model parameters are saved to d3rlpy_logs/DoubleDQN_online_20220602123825/model_14000.pt\n",
      "2022-06-02 12:38.55 [info     ] DoubleDQN_online_20220602123825: epoch=14 step=14000 epoch=14 metrics={'time_inference': 0.00028146100044250486, 'time_environment_step': 0.0005663962364196777, 'time_sample_batch': 7.114219665527344e-05, 'time_algorithm_update': 0.001146428108215332, 'loss': 1.7472150022387505, 'time_step': 0.0021185877323150635, 'rollout_return': 14.415492957746478, 'evaluation': 14.7} step=14000\n",
      "2022-06-02 12:38.57 [info     ] Model parameters are saved to d3rlpy_logs/DoubleDQN_online_20220602123825/model_15000.pt\n",
      "2022-06-02 12:38.58 [info     ] DoubleDQN_online_20220602123825: epoch=15 step=15000 epoch=15 metrics={'time_inference': 0.0002838459014892578, 'time_environment_step': 0.0005714626312255859, 'time_sample_batch': 7.190179824829101e-05, 'time_algorithm_update': 0.0011724536418914796, 'loss': 1.665694074332714, 'time_step': 0.0021528658866882323, 'rollout_return': 14.345070422535212, 'evaluation': 16.4} step=15000\n",
      "2022-06-02 12:39.00 [info     ] Model parameters are saved to d3rlpy_logs/DoubleDQN_online_20220602123825/model_16000.pt\n",
      "2022-06-02 12:39.00 [info     ] DoubleDQN_online_20220602123825: epoch=16 step=16000 epoch=16 metrics={'time_inference': 0.0003071770668029785, 'time_environment_step': 0.0006192386150360108, 'time_sample_batch': 7.967233657836914e-05, 'time_algorithm_update': 0.0012488842010498046, 'loss': 1.5758590841144324, 'time_step': 0.0023136634826660158, 'rollout_return': 14.17605633802817, 'evaluation': 17.7} step=16000\n",
      "2022-06-02 12:39.02 [info     ] Model parameters are saved to d3rlpy_logs/DoubleDQN_online_20220602123825/model_17000.pt\n",
      "2022-06-02 12:39.02 [info     ] DoubleDQN_online_20220602123825: epoch=17 step=17000 epoch=17 metrics={'time_inference': 0.00029004216194152834, 'time_environment_step': 0.000585360050201416, 'time_sample_batch': 7.413649559020997e-05, 'time_algorithm_update': 0.0011879277229309081, 'loss': 1.3970989633202553, 'time_step': 0.002192907094955444, 'rollout_return': 14.161971830985916, 'evaluation': 15.9} step=17000\n",
      "2022-06-02 12:39.04 [info     ] Model parameters are saved to d3rlpy_logs/DoubleDQN_online_20220602123825/model_18000.pt\n",
      "2022-06-02 12:39.04 [info     ] DoubleDQN_online_20220602123825: epoch=18 step=18000 epoch=18 metrics={'time_inference': 0.00028426051139831545, 'time_environment_step': 0.0005722260475158692, 'time_sample_batch': 7.18693733215332e-05, 'time_algorithm_update': 0.0011598670482635498, 'loss': 1.2244622223973274, 'time_step': 0.0021419951915740967, 'rollout_return': 13.887323943661972, 'evaluation': 14.5} step=18000\n",
      "2022-06-02 12:39.07 [info     ] Model parameters are saved to d3rlpy_logs/DoubleDQN_online_20220602123825/model_19000.pt\n",
      "2022-06-02 12:39.07 [info     ] DoubleDQN_online_20220602123825: epoch=19 step=19000 epoch=19 metrics={'time_inference': 0.00028314757347106933, 'time_environment_step': 0.0005744724273681641, 'time_sample_batch': 7.256793975830078e-05, 'time_algorithm_update': 0.0011625914573669433, 'loss': 1.0893050309717656, 'time_step': 0.002147156238555908, 'rollout_return': 15.133802816901408, 'evaluation': 15.5} step=19000\n",
      "2022-06-02 12:39.09 [info     ] Model parameters are saved to d3rlpy_logs/DoubleDQN_online_20220602123825/model_20000.pt\n",
      "2022-06-02 12:39.09 [info     ] DoubleDQN_online_20220602123825: epoch=20 step=20000 epoch=20 metrics={'time_inference': 0.0002818014621734619, 'time_environment_step': 0.0005713009834289551, 'time_sample_batch': 7.21569061279297e-05, 'time_algorithm_update': 0.0011589772701263428, 'loss': 1.0816106009483337, 'time_step': 0.0021377160549163818, 'rollout_return': 13.507042253521126, 'evaluation': 17.0} step=20000\n",
      "2022-06-02 12:39.11 [info     ] Model parameters are saved to d3rlpy_logs/DoubleDQN_online_20220602123825/model_21000.pt\n",
      "2022-06-02 12:39.11 [info     ] DoubleDQN_online_20220602123825: epoch=21 step=21000 epoch=21 metrics={'time_inference': 0.00028749823570251465, 'time_environment_step': 0.0005806584358215332, 'time_sample_batch': 7.330751419067383e-05, 'time_algorithm_update': 0.0011907014846801757, 'loss': 1.1020496129393578, 'time_step': 0.0021865947246551515, 'rollout_return': 12.922535211267606, 'evaluation': 15.1} step=21000\n",
      "2022-06-02 12:39.14 [info     ] Model parameters are saved to d3rlpy_logs/DoubleDQN_online_20220602123825/model_22000.pt\n",
      "2022-06-02 12:39.14 [info     ] DoubleDQN_online_20220602123825: epoch=22 step=22000 epoch=22 metrics={'time_inference': 0.00029909706115722654, 'time_environment_step': 0.000604874849319458, 'time_sample_batch': 7.710933685302735e-05, 'time_algorithm_update': 0.0012243595123291016, 'loss': 1.0851914267838, 'time_step': 0.002262994050979614, 'rollout_return': 13.929577464788732, 'evaluation': 15.4} step=22000\n",
      "2022-06-02 12:39.16 [info     ] Model parameters are saved to d3rlpy_logs/DoubleDQN_online_20220602123825/model_23000.pt\n",
      "2022-06-02 12:39.16 [info     ] DoubleDQN_online_20220602123825: epoch=23 step=23000 epoch=23 metrics={'time_inference': 0.00030081796646118164, 'time_environment_step': 0.0006014232635498047, 'time_sample_batch': 7.673907279968262e-05, 'time_algorithm_update': 0.0012231850624084472, 'loss': 1.0119863124787807, 'time_step': 0.0022593488693237306, 'rollout_return': 14.429577464788732, 'evaluation': 11.5} step=23000\n",
      "2022-06-02 12:39.18 [info     ] Model parameters are saved to d3rlpy_logs/DoubleDQN_online_20220602123825/model_24000.pt\n",
      "2022-06-02 12:39.18 [info     ] DoubleDQN_online_20220602123825: epoch=24 step=24000 epoch=24 metrics={'time_inference': 0.00028971290588378906, 'time_environment_step': 0.0005838770866394043, 'time_sample_batch': 7.387065887451172e-05, 'time_algorithm_update': 0.0011873774528503417, 'loss': 1.0214135204702617, 'time_step': 0.002189732074737549, 'rollout_return': 13.852112676056338, 'evaluation': 17.2} step=24000\n",
      "2022-06-02 12:39.21 [info     ] Model parameters are saved to d3rlpy_logs/DoubleDQN_online_20220602123825/model_25000.pt\n",
      "2022-06-02 12:39.21 [info     ] DoubleDQN_online_20220602123825: epoch=25 step=25000 epoch=25 metrics={'time_inference': 0.00029709792137145994, 'time_environment_step': 0.00059928560256958, 'time_sample_batch': 7.537579536437988e-05, 'time_algorithm_update': 0.0012141461372375487, 'loss': 0.9881370267570019, 'time_step': 0.002242302656173706, 'rollout_return': 14.661971830985916, 'evaluation': 13.5} step=25000\n",
      "2022-06-02 12:39.23 [info     ] Model parameters are saved to d3rlpy_logs/DoubleDQN_online_20220602123825/model_26000.pt\n",
      "2022-06-02 12:39.23 [info     ] DoubleDQN_online_20220602123825: epoch=26 step=26000 epoch=26 metrics={'time_inference': 0.0003122224807739258, 'time_environment_step': 0.000629396915435791, 'time_sample_batch': 8.034896850585937e-05, 'time_algorithm_update': 0.0012690653800964354, 'loss': 1.0310997212529183, 'time_step': 0.0023506035804748537, 'rollout_return': 14.330985915492958, 'evaluation': 16.6} step=26000\n",
      "2022-06-02 12:39.25 [info     ] Model parameters are saved to d3rlpy_logs/DoubleDQN_online_20220602123825/model_27000.pt\n",
      "2022-06-02 12:39.26 [info     ] DoubleDQN_online_20220602123825: epoch=27 step=27000 epoch=27 metrics={'time_inference': 0.0002920079231262207, 'time_environment_step': 0.0005889892578125, 'time_sample_batch': 7.40499496459961e-05, 'time_algorithm_update': 0.0011961596012115478, 'loss': 1.0210064790397881, 'time_step': 0.002206437826156616, 'rollout_return': 13.795774647887324, 'evaluation': 14.7} step=27000\n",
      "2022-06-02 12:39.28 [info     ] Model parameters are saved to d3rlpy_logs/DoubleDQN_online_20220602123825/model_28000.pt\n",
      "2022-06-02 12:39.28 [info     ] DoubleDQN_online_20220602123825: epoch=28 step=28000 epoch=28 metrics={'time_inference': 0.00028446578979492187, 'time_environment_step': 0.0005742475986480713, 'time_sample_batch': 7.219314575195313e-05, 'time_algorithm_update': 0.0011604440212249756, 'loss': 1.0220378158688546, 'time_step': 0.00214510178565979, 'rollout_return': 13.873239436619718, 'evaluation': 15.4} step=28000\n",
      "2022-06-02 12:39.30 [info     ] Model parameters are saved to d3rlpy_logs/DoubleDQN_online_20220602123825/model_29000.pt\n",
      "2022-06-02 12:39.30 [info     ] DoubleDQN_online_20220602123825: epoch=29 step=29000 epoch=29 metrics={'time_inference': 0.00028538870811462404, 'time_environment_step': 0.000575554609298706, 'time_sample_batch': 7.229900360107423e-05, 'time_algorithm_update': 0.0011688063144683837, 'loss': 1.0327250789999962, 'time_step': 0.0021559207439422606, 'rollout_return': 13.788732394366198, 'evaluation': 17.2} step=29000\n",
      "2022-06-02 12:39.32 [info     ] Model parameters are saved to d3rlpy_logs/DoubleDQN_online_20220602123825/model_30000.pt\n",
      "2022-06-02 12:39.32 [info     ] DoubleDQN_online_20220602123825: epoch=30 step=30000 epoch=30 metrics={'time_inference': 0.00028760147094726563, 'time_environment_step': 0.0005798866748809814, 'time_sample_batch': 7.294154167175293e-05, 'time_algorithm_update': 0.0011873023509979248, 'loss': 0.9861988038420677, 'time_step': 0.0021826136112213135, 'rollout_return': 14.54225352112676, 'evaluation': 17.0} step=30000\n",
      "2022-06-02 12:39.35 [info     ] Model parameters are saved to d3rlpy_logs/DoubleDQN_online_20220602123825/model_31000.pt\n",
      "2022-06-02 12:39.35 [info     ] DoubleDQN_online_20220602123825: epoch=31 step=31000 epoch=31 metrics={'time_inference': 0.0002854819297790527, 'time_environment_step': 0.0005777151584625244, 'time_sample_batch': 7.258749008178711e-05, 'time_algorithm_update': 0.0011735756397247314, 'loss': 0.970641897559166, 'time_step': 0.0021634762287139893, 'rollout_return': 15.211267605633802, 'evaluation': 14.8} step=31000\n",
      "2022-06-02 12:39.37 [info     ] Model parameters are saved to d3rlpy_logs/DoubleDQN_online_20220602123825/model_32000.pt\n",
      "2022-06-02 12:39.37 [info     ] DoubleDQN_online_20220602123825: epoch=32 step=32000 epoch=32 metrics={'time_inference': 0.0002885594367980957, 'time_environment_step': 0.0005854973793029785, 'time_sample_batch': 7.3883056640625e-05, 'time_algorithm_update': 0.001186859369277954, 'loss': 0.9529257939308882, 'time_step': 0.0021894268989562987, 'rollout_return': 14.17605633802817, 'evaluation': 14.2} step=32000\n",
      "2022-06-02 12:39.39 [info     ] Model parameters are saved to d3rlpy_logs/DoubleDQN_online_20220602123825/model_33000.pt\n",
      "2022-06-02 12:39.39 [info     ] DoubleDQN_online_20220602123825: epoch=33 step=33000 epoch=33 metrics={'time_inference': 0.000284512996673584, 'time_environment_step': 0.000575021743774414, 'time_sample_batch': 7.20515251159668e-05, 'time_algorithm_update': 0.0011661291122436524, 'loss': 0.9530685784816741, 'time_step': 0.002151589632034302, 'rollout_return': 14.492957746478874, 'evaluation': 12.2} step=33000\n",
      "2022-06-02 12:39.41 [info     ] Model parameters are saved to d3rlpy_logs/DoubleDQN_online_20220602123825/model_34000.pt\n",
      "2022-06-02 12:39.41 [info     ] DoubleDQN_online_20220602123825: epoch=34 step=34000 epoch=34 metrics={'time_inference': 0.00028800511360168457, 'time_environment_step': 0.0005808014869689941, 'time_sample_batch': 7.270622253417969e-05, 'time_algorithm_update': 0.0011725828647613525, 'loss': 0.9318028344213962, 'time_step': 0.0021682798862457274, 'rollout_return': 14.591549295774648, 'evaluation': 13.5} step=34000\n",
      "2022-06-02 12:39.44 [info     ] Model parameters are saved to d3rlpy_logs/DoubleDQN_online_20220602123825/model_35000.pt\n",
      "2022-06-02 12:39.44 [info     ] DoubleDQN_online_20220602123825: epoch=35 step=35000 epoch=35 metrics={'time_inference': 0.0002900760173797607, 'time_environment_step': 0.0005873522758483887, 'time_sample_batch': 7.334303855895996e-05, 'time_algorithm_update': 0.001189692497253418, 'loss': 0.9196816748678684, 'time_step': 0.00219556188583374, 'rollout_return': 15.154929577464788, 'evaluation': 12.7} step=35000\n",
      "2022-06-02 12:39.46 [info     ] Model parameters are saved to d3rlpy_logs/DoubleDQN_online_20220602123825/model_36000.pt\n",
      "2022-06-02 12:39.46 [info     ] DoubleDQN_online_20220602123825: epoch=36 step=36000 epoch=36 metrics={'time_inference': 0.0002995259761810303, 'time_environment_step': 0.000604158878326416, 'time_sample_batch': 7.652473449707032e-05, 'time_algorithm_update': 0.0012287774085998535, 'loss': 0.9001972281038761, 'time_step': 0.002265944719314575, 'rollout_return': 15.028169014084508, 'evaluation': 17.6} step=36000\n",
      "2022-06-02 12:39.48 [info     ] Model parameters are saved to d3rlpy_logs/DoubleDQN_online_20220602123825/model_37000.pt\n",
      "2022-06-02 12:39.49 [info     ] DoubleDQN_online_20220602123825: epoch=37 step=37000 epoch=37 metrics={'time_inference': 0.00029155039787292483, 'time_environment_step': 0.0005923881530761719, 'time_sample_batch': 7.452178001403809e-05, 'time_algorithm_update': 0.0011972618103027344, 'loss': 0.8832977042496204, 'time_step': 0.002210991621017456, 'rollout_return': 14.943661971830986, 'evaluation': 16.3} step=37000\n",
      "2022-06-02 12:39.51 [info     ] Model parameters are saved to d3rlpy_logs/DoubleDQN_online_20220602123825/model_38000.pt\n",
      "2022-06-02 12:39.51 [info     ] DoubleDQN_online_20220602123825: epoch=38 step=38000 epoch=38 metrics={'time_inference': 0.0002947788238525391, 'time_environment_step': 0.000597132682800293, 'time_sample_batch': 7.48291015625e-05, 'time_algorithm_update': 0.001224632978439331, 'loss': 0.871136521577835, 'time_step': 0.002247295379638672, 'rollout_return': 14.126760563380282, 'evaluation': 14.6} step=38000\n",
      "2022-06-02 12:39.53 [info     ] Model parameters are saved to d3rlpy_logs/DoubleDQN_online_20220602123825/model_39000.pt\n",
      "2022-06-02 12:39.53 [info     ] DoubleDQN_online_20220602123825: epoch=39 step=39000 epoch=39 metrics={'time_inference': 0.0003134686946868896, 'time_environment_step': 0.0006313881874084472, 'time_sample_batch': 7.98051357269287e-05, 'time_algorithm_update': 0.0012791738510131835, 'loss': 0.8627228187173605, 'time_step': 0.002363187313079834, 'rollout_return': 14.732394366197184, 'evaluation': 15.4} step=39000\n",
      "2022-06-02 12:39.56 [info     ] Model parameters are saved to d3rlpy_logs/DoubleDQN_online_20220602123825/model_40000.pt\n",
      "2022-06-02 12:39.56 [info     ] DoubleDQN_online_20220602123825: epoch=40 step=40000 epoch=40 metrics={'time_inference': 0.00030286741256713867, 'time_environment_step': 0.0006166465282440185, 'time_sample_batch': 7.719397544860839e-05, 'time_algorithm_update': 0.0012407877445220947, 'loss': 0.8576720171868801, 'time_step': 0.0022952334880828856, 'rollout_return': 15.183098591549296, 'evaluation': 16.4} step=40000\n",
      "2022-06-02 12:39.58 [info     ] Model parameters are saved to d3rlpy_logs/DoubleDQN_online_20220602123825/model_41000.pt\n",
      "2022-06-02 12:39.58 [info     ] DoubleDQN_online_20220602123825: epoch=41 step=41000 epoch=41 metrics={'time_inference': 0.0002972066402435303, 'time_environment_step': 0.0006017501354217529, 'time_sample_batch': 7.5913667678833e-05, 'time_algorithm_update': 0.0012240300178527831, 'loss': 0.8224924368858337, 'time_step': 0.00225567626953125, 'rollout_return': 15.288732394366198, 'evaluation': 15.2} step=41000\n",
      "2022-06-02 12:40.01 [info     ] Model parameters are saved to d3rlpy_logs/DoubleDQN_online_20220602123825/model_42000.pt\n",
      "2022-06-02 12:40.01 [info     ] DoubleDQN_online_20220602123825: epoch=42 step=42000 epoch=42 metrics={'time_inference': 0.00030949664115905763, 'time_environment_step': 0.0006279704570770263, 'time_sample_batch': 7.944083213806153e-05, 'time_algorithm_update': 0.0012844130992889404, 'loss': 0.8317624345570803, 'time_step': 0.002360093832015991, 'rollout_return': 14.147887323943662, 'evaluation': 15.7} step=42000\n",
      "2022-06-02 12:40.03 [info     ] Model parameters are saved to d3rlpy_logs/DoubleDQN_online_20220602123825/model_43000.pt\n",
      "2022-06-02 12:40.03 [info     ] DoubleDQN_online_20220602123825: epoch=43 step=43000 epoch=43 metrics={'time_inference': 0.0002938849925994873, 'time_environment_step': 0.0006082763671875, 'time_sample_batch': 7.555150985717774e-05, 'time_algorithm_update': 0.0012098770141601562, 'loss': 0.8463833433538676, 'time_step': 0.002243373155593872, 'rollout_return': 14.795774647887324, 'evaluation': 18.2} step=43000\n",
      "2022-06-02 12:40.05 [info     ] Model parameters are saved to d3rlpy_logs/DoubleDQN_online_20220602123825/model_44000.pt\n",
      "2022-06-02 12:40.05 [info     ] DoubleDQN_online_20220602123825: epoch=44 step=44000 epoch=44 metrics={'time_inference': 0.0003068089485168457, 'time_environment_step': 0.0006247873306274414, 'time_sample_batch': 7.861614227294922e-05, 'time_algorithm_update': 0.0012582581043243408, 'loss': 0.836558825969696, 'time_step': 0.0023275642395019533, 'rollout_return': 14.859154929577464, 'evaluation': 16.9} step=44000\n",
      "2022-06-02 12:40.08 [info     ] Model parameters are saved to d3rlpy_logs/DoubleDQN_online_20220602123825/model_45000.pt\n",
      "2022-06-02 12:40.08 [info     ] DoubleDQN_online_20220602123825: epoch=45 step=45000 epoch=45 metrics={'time_inference': 0.0002971019744873047, 'time_environment_step': 0.0006018595695495606, 'time_sample_batch': 7.582759857177734e-05, 'time_algorithm_update': 0.0012202200889587403, 'loss': 0.8469960175305605, 'time_step': 0.0022510929107666016, 'rollout_return': 13.908450704225352, 'evaluation': 15.3} step=45000\n",
      "2022-06-02 12:40.10 [info     ] Model parameters are saved to d3rlpy_logs/DoubleDQN_online_20220602123825/model_46000.pt\n",
      "2022-06-02 12:40.10 [info     ] DoubleDQN_online_20220602123825: epoch=46 step=46000 epoch=46 metrics={'time_inference': 0.00028882622718811034, 'time_environment_step': 0.0005819799900054932, 'time_sample_batch': 7.221484184265137e-05, 'time_algorithm_update': 0.0011765170097351074, 'loss': 0.868274995714426, 'time_step': 0.002173962354660034, 'rollout_return': 14.450704225352112, 'evaluation': 13.2} step=46000\n",
      "2022-06-02 12:40.13 [info     ] Model parameters are saved to d3rlpy_logs/DoubleDQN_online_20220602123825/model_47000.pt\n",
      "2022-06-02 12:40.13 [info     ] DoubleDQN_online_20220602123825: epoch=47 step=47000 epoch=47 metrics={'time_inference': 0.0003044276237487793, 'time_environment_step': 0.0006186087131500244, 'time_sample_batch': 7.782435417175293e-05, 'time_algorithm_update': 0.001253887176513672, 'loss': 0.8178524812459945, 'time_step': 0.0023131818771362305, 'rollout_return': 15.246478873239436, 'evaluation': 17.7} step=47000\n",
      "2022-06-02 12:40.15 [info     ] Model parameters are saved to d3rlpy_logs/DoubleDQN_online_20220602123825/model_48000.pt\n",
      "2022-06-02 12:40.15 [info     ] DoubleDQN_online_20220602123825: epoch=48 step=48000 epoch=48 metrics={'time_inference': 0.00032376837730407714, 'time_environment_step': 0.0006649026870727539, 'time_sample_batch': 8.418798446655274e-05, 'time_algorithm_update': 0.0013335566520690917, 'loss': 0.8318235200196504, 'time_step': 0.002470097780227661, 'rollout_return': 14.67605633802817, 'evaluation': 15.5} step=48000\n",
      "2022-06-02 12:40.18 [info     ] Model parameters are saved to d3rlpy_logs/DoubleDQN_online_20220602123825/model_49000.pt\n",
      "2022-06-02 12:40.18 [info     ] DoubleDQN_online_20220602123825: epoch=49 step=49000 epoch=49 metrics={'time_inference': 0.0003091447353363037, 'time_environment_step': 0.0006307835578918457, 'time_sample_batch': 7.875800132751464e-05, 'time_algorithm_update': 0.0012894847393035889, 'loss': 0.816554112136364, 'time_step': 0.0023668923377990723, 'rollout_return': 14.661971830985916, 'evaluation': 15.5} step=49000\n",
      "2022-06-02 12:40.20 [info     ] Model parameters are saved to d3rlpy_logs/DoubleDQN_online_20220602123825/model_50000.pt\n",
      "2022-06-02 12:40.20 [info     ] DoubleDQN_online_20220602123825: epoch=50 step=50000 epoch=50 metrics={'time_inference': 0.0003041093349456787, 'time_environment_step': 0.0006188797950744629, 'time_sample_batch': 7.768678665161132e-05, 'time_algorithm_update': 0.001265862226486206, 'loss': 0.8232350966334343, 'time_step': 0.0023238310813903807, 'rollout_return': 15.077464788732394, 'evaluation': 15.5} step=50000\n",
      "2022-06-02 12:40.23 [info     ] Model parameters are saved to d3rlpy_logs/DoubleDQN_online_20220602123825/model_51000.pt\n",
      "2022-06-02 12:40.23 [info     ] DoubleDQN_online_20220602123825: epoch=51 step=51000 epoch=51 metrics={'time_inference': 0.0003154592514038086, 'time_environment_step': 0.000641300916671753, 'time_sample_batch': 8.177685737609864e-05, 'time_algorithm_update': 0.0012950599193572998, 'loss': 0.8147353036105632, 'time_step': 0.002394567012786865, 'rollout_return': 14.880281690140846, 'evaluation': 16.3} step=51000\n",
      "2022-06-02 12:40.25 [info     ] Model parameters are saved to d3rlpy_logs/DoubleDQN_online_20220602123825/model_52000.pt\n",
      "2022-06-02 12:40.25 [info     ] DoubleDQN_online_20220602123825: epoch=52 step=52000 epoch=52 metrics={'time_inference': 0.0003001604080200195, 'time_environment_step': 0.0006082806587219238, 'time_sample_batch': 7.662653923034668e-05, 'time_algorithm_update': 0.001226180076599121, 'loss': 0.8141444776803255, 'time_step': 0.0022679839134216308, 'rollout_return': 14.690140845070422, 'evaluation': 15.7} step=52000\n",
      "2022-06-02 12:40.27 [info     ] Model parameters are saved to d3rlpy_logs/DoubleDQN_online_20220602123825/model_53000.pt\n",
      "2022-06-02 12:40.27 [info     ] DoubleDQN_online_20220602123825: epoch=53 step=53000 epoch=53 metrics={'time_inference': 0.00029856419563293457, 'time_environment_step': 0.0006039409637451172, 'time_sample_batch': 7.585501670837402e-05, 'time_algorithm_update': 0.0012663204669952392, 'loss': 0.8318331673145294, 'time_step': 0.002300828456878662, 'rollout_return': 14.901408450704226, 'evaluation': 18.7} step=53000\n",
      "2022-06-02 12:40.30 [info     ] Model parameters are saved to d3rlpy_logs/DoubleDQN_online_20220602123825/model_54000.pt\n",
      "2022-06-02 12:40.30 [info     ] DoubleDQN_online_20220602123825: epoch=54 step=54000 epoch=54 metrics={'time_inference': 0.0003019249439239502, 'time_environment_step': 0.0006111915111541748, 'time_sample_batch': 7.685184478759765e-05, 'time_algorithm_update': 0.0012346932888031006, 'loss': 0.822808976456523, 'time_step': 0.0022819509506225586, 'rollout_return': 14.464788732394366, 'evaluation': 13.3} step=54000\n",
      "2022-06-02 12:40.32 [info     ] Model parameters are saved to d3rlpy_logs/DoubleDQN_online_20220602123825/model_55000.pt\n",
      "2022-06-02 12:40.32 [info     ] DoubleDQN_online_20220602123825: epoch=55 step=55000 epoch=55 metrics={'time_inference': 0.0002921731472015381, 'time_environment_step': 0.0005924675464630127, 'time_sample_batch': 7.443404197692871e-05, 'time_algorithm_update': 0.0011997025012969972, 'loss': 0.8063688695430755, 'time_step': 0.0022139108180999757, 'rollout_return': 15.30281690140845, 'evaluation': 9.7} step=55000\n",
      "2022-06-02 12:40.34 [info     ] Model parameters are saved to d3rlpy_logs/DoubleDQN_online_20220602123825/model_56000.pt\n",
      "2022-06-02 12:40.34 [info     ] DoubleDQN_online_20220602123825: epoch=56 step=56000 epoch=56 metrics={'time_inference': 0.0002962217330932617, 'time_environment_step': 0.0005999438762664795, 'time_sample_batch': 7.47063159942627e-05, 'time_algorithm_update': 0.00121282958984375, 'loss': 0.7917009487152099, 'time_step': 0.002239763259887695, 'rollout_return': 15.274647887323944, 'evaluation': 16.7} step=56000\n",
      "2022-06-02 12:40.37 [info     ] Model parameters are saved to d3rlpy_logs/DoubleDQN_online_20220602123825/model_57000.pt\n",
      "2022-06-02 12:40.37 [info     ] DoubleDQN_online_20220602123825: epoch=57 step=57000 epoch=57 metrics={'time_inference': 0.000291872501373291, 'time_environment_step': 0.0005911803245544434, 'time_sample_batch': 7.394003868103028e-05, 'time_algorithm_update': 0.0011990013122558593, 'loss': 0.7935494302213192, 'time_step': 0.0022108347415924073, 'rollout_return': 14.838028169014084, 'evaluation': 14.2} step=57000\n",
      "2022-06-02 12:40.39 [info     ] Model parameters are saved to d3rlpy_logs/DoubleDQN_online_20220602123825/model_58000.pt\n",
      "2022-06-02 12:40.39 [info     ] DoubleDQN_online_20220602123825: epoch=58 step=58000 epoch=58 metrics={'time_inference': 0.0002927873134613037, 'time_environment_step': 0.0005905864238739014, 'time_sample_batch': 7.391119003295898e-05, 'time_algorithm_update': 0.0012411355972290039, 'loss': 0.7745827975124121, 'time_step': 0.0022534849643707274, 'rollout_return': 14.82394366197183, 'evaluation': 15.6} step=58000\n",
      "2022-06-02 12:40.41 [info     ] Model parameters are saved to d3rlpy_logs/DoubleDQN_online_20220602123825/model_59000.pt\n",
      "2022-06-02 12:40.42 [info     ] DoubleDQN_online_20220602123825: epoch=59 step=59000 epoch=59 metrics={'time_inference': 0.00029496264457702637, 'time_environment_step': 0.0005952723026275635, 'time_sample_batch': 7.429885864257813e-05, 'time_algorithm_update': 0.0012090723514556884, 'loss': 0.7796962331533432, 'time_step': 0.0022290666103363037, 'rollout_return': 15.605633802816902, 'evaluation': 18.2} step=59000\n",
      "2022-06-02 12:40.44 [info     ] Model parameters are saved to d3rlpy_logs/DoubleDQN_online_20220602123825/model_60000.pt\n",
      "2022-06-02 12:40.44 [info     ] DoubleDQN_online_20220602123825: epoch=60 step=60000 epoch=60 metrics={'time_inference': 0.0003027675151824951, 'time_environment_step': 0.000613022804260254, 'time_sample_batch': 7.723617553710937e-05, 'time_algorithm_update': 0.0012550511360168457, 'loss': 0.7877285612076521, 'time_step': 0.002305495023727417, 'rollout_return': 15.253521126760564, 'evaluation': 15.7} step=60000\n",
      "2022-06-02 12:40.46 [info     ] Model parameters are saved to d3rlpy_logs/DoubleDQN_online_20220602123825/model_61000.pt\n",
      "2022-06-02 12:40.47 [info     ] DoubleDQN_online_20220602123825: epoch=61 step=61000 epoch=61 metrics={'time_inference': 0.00032085084915161135, 'time_environment_step': 0.000646679401397705, 'time_sample_batch': 8.147120475769042e-05, 'time_algorithm_update': 0.001312237024307251, 'loss': 0.8138600666522979, 'time_step': 0.0024225120544433595, 'rollout_return': 14.661971830985916, 'evaluation': 16.4} step=61000\n",
      "2022-06-02 12:40.49 [info     ] Model parameters are saved to d3rlpy_logs/DoubleDQN_online_20220602123825/model_62000.pt\n",
      "2022-06-02 12:40.49 [info     ] DoubleDQN_online_20220602123825: epoch=62 step=62000 epoch=62 metrics={'time_inference': 0.00029585599899291994, 'time_environment_step': 0.0005984957218170166, 'time_sample_batch': 7.488822937011718e-05, 'time_algorithm_update': 0.0012130360603332519, 'loss': 0.7724236428141594, 'time_step': 0.002238020658493042, 'rollout_return': 14.30281690140845, 'evaluation': 16.7} step=62000\n",
      "2022-06-02 12:40.51 [info     ] Model parameters are saved to d3rlpy_logs/DoubleDQN_online_20220602123825/model_63000.pt\n",
      "2022-06-02 12:40.51 [info     ] DoubleDQN_online_20220602123825: epoch=63 step=63000 epoch=63 metrics={'time_inference': 0.0002939310073852539, 'time_environment_step': 0.0005931384563446045, 'time_sample_batch': 7.393693923950195e-05, 'time_algorithm_update': 0.0012019550800323486, 'loss': 0.8005766078233719, 'time_step': 0.0022182540893554686, 'rollout_return': 14.577464788732394, 'evaluation': 14.4} step=63000\n",
      "2022-06-02 12:40.54 [info     ] Model parameters are saved to d3rlpy_logs/DoubleDQN_online_20220602123825/model_64000.pt\n",
      "2022-06-02 12:40.54 [info     ] DoubleDQN_online_20220602123825: epoch=64 step=64000 epoch=64 metrics={'time_inference': 0.0003054404258728027, 'time_environment_step': 0.0006196303367614746, 'time_sample_batch': 7.802724838256836e-05, 'time_algorithm_update': 0.001257730484008789, 'loss': 0.7661161183714866, 'time_step': 0.002319389343261719, 'rollout_return': 14.640845070422536, 'evaluation': 17.1} step=64000\n",
      "2022-06-02 12:40.56 [info     ] Model parameters are saved to d3rlpy_logs/DoubleDQN_online_20220602123825/model_65000.pt\n",
      "2022-06-02 12:40.56 [info     ] DoubleDQN_online_20220602123825: epoch=65 step=65000 epoch=65 metrics={'time_inference': 0.00029587626457214353, 'time_environment_step': 0.0005993580818176269, 'time_sample_batch': 7.474470138549805e-05, 'time_algorithm_update': 0.0012152328491210937, 'loss': 0.7621742557436227, 'time_step': 0.0022411327362060547, 'rollout_return': 14.894366197183098, 'evaluation': 15.0} step=65000\n",
      "2022-06-02 12:40.58 [info     ] Model parameters are saved to d3rlpy_logs/DoubleDQN_online_20220602123825/model_66000.pt\n",
      "2022-06-02 12:40.58 [info     ] DoubleDQN_online_20220602123825: epoch=66 step=66000 epoch=66 metrics={'time_inference': 0.00029501748085021973, 'time_environment_step': 0.0005980703830718994, 'time_sample_batch': 7.515263557434083e-05, 'time_algorithm_update': 0.001211435317993164, 'loss': 0.7659794647395611, 'time_step': 0.002235401391983032, 'rollout_return': 14.119718309859154, 'evaluation': 15.2} step=66000\n",
      "2022-06-02 12:41.01 [info     ] Model parameters are saved to d3rlpy_logs/DoubleDQN_online_20220602123825/model_67000.pt\n",
      "2022-06-02 12:41.01 [info     ] DoubleDQN_online_20220602123825: epoch=67 step=67000 epoch=67 metrics={'time_inference': 0.000308896541595459, 'time_environment_step': 0.0006303334236145019, 'time_sample_batch': 7.799863815307617e-05, 'time_algorithm_update': 0.0012856588363647462, 'loss': 0.7822964380085469, 'time_step': 0.00236174201965332, 'rollout_return': 15.190140845070422, 'evaluation': 15.7} step=67000\n",
      "2022-06-02 12:41.03 [info     ] Model parameters are saved to d3rlpy_logs/DoubleDQN_online_20220602123825/model_68000.pt\n",
      "2022-06-02 12:41.03 [info     ] DoubleDQN_online_20220602123825: epoch=68 step=68000 epoch=68 metrics={'time_inference': 0.00031000685691833494, 'time_environment_step': 0.0006296393871307373, 'time_sample_batch': 7.896852493286133e-05, 'time_algorithm_update': 0.0012749428749084472, 'loss': 0.7536848464906216, 'time_step': 0.0023534409999847413, 'rollout_return': 14.859154929577464, 'evaluation': 16.2} step=68000\n",
      "2022-06-02 12:41.06 [info     ] Model parameters are saved to d3rlpy_logs/DoubleDQN_online_20220602123825/model_69000.pt\n",
      "2022-06-02 12:41.06 [info     ] DoubleDQN_online_20220602123825: epoch=69 step=69000 epoch=69 metrics={'time_inference': 0.0002904188632965088, 'time_environment_step': 0.0005876805782318115, 'time_sample_batch': 7.217597961425781e-05, 'time_algorithm_update': 0.0011907918453216552, 'loss': 0.7713572637140751, 'time_step': 0.002195655107498169, 'rollout_return': 14.47887323943662, 'evaluation': 15.7} step=69000\n",
      "2022-06-02 12:41.08 [info     ] Model parameters are saved to d3rlpy_logs/DoubleDQN_online_20220602123825/model_70000.pt\n",
      "2022-06-02 12:41.08 [info     ] DoubleDQN_online_20220602123825: epoch=70 step=70000 epoch=70 metrics={'time_inference': 0.0002977051734924316, 'time_environment_step': 0.0006013925075531005, 'time_sample_batch': 7.476115226745606e-05, 'time_algorithm_update': 0.0012221510410308839, 'loss': 0.7513362272381783, 'time_step': 0.0022522499561309813, 'rollout_return': 14.78169014084507, 'evaluation': 15.4} step=70000\n",
      "2022-06-02 12:41.10 [info     ] Model parameters are saved to d3rlpy_logs/DoubleDQN_online_20220602123825/model_71000.pt\n",
      "2022-06-02 12:41.10 [info     ] DoubleDQN_online_20220602123825: epoch=71 step=71000 epoch=71 metrics={'time_inference': 0.0003043015003204346, 'time_environment_step': 0.0006118745803833008, 'time_sample_batch': 7.577705383300781e-05, 'time_algorithm_update': 0.0012429118156433105, 'loss': 0.774279726356268, 'time_step': 0.0022915363311767577, 'rollout_return': 14.669014084507042, 'evaluation': 16.1} step=71000\n",
      "2022-06-02 12:41.13 [info     ] Model parameters are saved to d3rlpy_logs/DoubleDQN_online_20220602123825/model_72000.pt\n",
      "2022-06-02 12:41.13 [info     ] DoubleDQN_online_20220602123825: epoch=72 step=72000 epoch=72 metrics={'time_inference': 0.00029188251495361326, 'time_environment_step': 0.0005911626815795899, 'time_sample_batch': 7.333755493164063e-05, 'time_algorithm_update': 0.0011993379592895508, 'loss': 0.7813570804297923, 'time_step': 0.002211075782775879, 'rollout_return': 14.873239436619718, 'evaluation': 15.1} step=72000\n",
      "2022-06-02 12:41.15 [info     ] Model parameters are saved to d3rlpy_logs/DoubleDQN_online_20220602123825/model_73000.pt\n",
      "2022-06-02 12:41.15 [info     ] DoubleDQN_online_20220602123825: epoch=73 step=73000 epoch=73 metrics={'time_inference': 0.0002947111129760742, 'time_environment_step': 0.0005947165489196777, 'time_sample_batch': 7.36544132232666e-05, 'time_algorithm_update': 0.0012051689624786378, 'loss': 0.7858143469691277, 'time_step': 0.0022236056327819822, 'rollout_return': 14.669014084507042, 'evaluation': 18.3} step=73000\n",
      "2022-06-02 12:41.17 [info     ] Model parameters are saved to d3rlpy_logs/DoubleDQN_online_20220602123825/model_74000.pt\n",
      "2022-06-02 12:41.17 [info     ] DoubleDQN_online_20220602123825: epoch=74 step=74000 epoch=74 metrics={'time_inference': 0.0003056468963623047, 'time_environment_step': 0.0006176726818084717, 'time_sample_batch': 7.664918899536133e-05, 'time_algorithm_update': 0.0012513532638549804, 'loss': 0.7655960264503956, 'time_step': 0.0023085927963256837, 'rollout_return': 14.56338028169014, 'evaluation': 17.3} step=74000\n",
      "2022-06-02 12:41.20 [info     ] Model parameters are saved to d3rlpy_logs/DoubleDQN_online_20220602123825/model_75000.pt\n",
      "2022-06-02 12:41.20 [info     ] DoubleDQN_online_20220602123825: epoch=75 step=75000 epoch=75 metrics={'time_inference': 0.000299790620803833, 'time_environment_step': 0.0006075844764709472, 'time_sample_batch': 7.62479305267334e-05, 'time_algorithm_update': 0.0012320940494537354, 'loss': 0.7689727193713188, 'time_step': 0.0022725415229797362, 'rollout_return': 14.71830985915493, 'evaluation': 17.9} step=75000\n",
      "2022-06-02 12:41.22 [info     ] Model parameters are saved to d3rlpy_logs/DoubleDQN_online_20220602123825/model_76000.pt\n",
      "2022-06-02 12:41.22 [info     ] DoubleDQN_online_20220602123825: epoch=76 step=76000 epoch=76 metrics={'time_inference': 0.00032289838790893556, 'time_environment_step': 0.0006560263633728028, 'time_sample_batch': 8.342242240905762e-05, 'time_algorithm_update': 0.0013458094596862794, 'loss': 0.7668770302534104, 'time_step': 0.0024705190658569336, 'rollout_return': 15.246478873239436, 'evaluation': 17.3} step=76000\n",
      "2022-06-02 12:41.25 [info     ] Model parameters are saved to d3rlpy_logs/DoubleDQN_online_20220602123825/model_77000.pt\n",
      "2022-06-02 12:41.25 [info     ] DoubleDQN_online_20220602123825: epoch=77 step=77000 epoch=77 metrics={'time_inference': 0.00031313085556030273, 'time_environment_step': 0.0006336593627929688, 'time_sample_batch': 8.004355430603027e-05, 'time_algorithm_update': 0.0012928471565246582, 'loss': 0.7850653252899646, 'time_step': 0.0023795266151428224, 'rollout_return': 15.183098591549296, 'evaluation': 14.4} step=77000\n",
      "2022-06-02 12:41.27 [info     ] Model parameters are saved to d3rlpy_logs/DoubleDQN_online_20220602123825/model_78000.pt\n",
      "2022-06-02 12:41.27 [info     ] DoubleDQN_online_20220602123825: epoch=78 step=78000 epoch=78 metrics={'time_inference': 0.00030081915855407717, 'time_environment_step': 0.0006071321964263916, 'time_sample_batch': 7.576704025268555e-05, 'time_algorithm_update': 0.0012392370700836182, 'loss': 0.7689680986553431, 'time_step': 0.002280179500579834, 'rollout_return': 14.556338028169014, 'evaluation': 14.8} step=78000\n",
      "2022-06-02 12:41.30 [info     ] Model parameters are saved to d3rlpy_logs/DoubleDQN_online_20220602123825/model_79000.pt\n",
      "2022-06-02 12:41.30 [info     ] DoubleDQN_online_20220602123825: epoch=79 step=79000 epoch=79 metrics={'time_inference': 0.00032465052604675293, 'time_environment_step': 0.0006600041389465332, 'time_sample_batch': 8.256864547729492e-05, 'time_algorithm_update': 0.001337055206298828, 'loss': 0.7884100205898285, 'time_step': 0.0024652674198150635, 'rollout_return': 14.725352112676056, 'evaluation': 16.5} step=79000\n",
      "2022-06-02 12:41.33 [info     ] Model parameters are saved to d3rlpy_logs/DoubleDQN_online_20220602123825/model_80000.pt\n",
      "2022-06-02 12:41.33 [info     ] DoubleDQN_online_20220602123825: epoch=80 step=80000 epoch=80 metrics={'time_inference': 0.0003533179759979248, 'time_environment_step': 0.0007104160785675049, 'time_sample_batch': 8.887910842895508e-05, 'time_algorithm_update': 0.0014675509929656981, 'loss': 0.7693185141384602, 'time_step': 0.0026875221729278564, 'rollout_return': 15.253521126760564, 'evaluation': 15.0} step=80000\n",
      "2022-06-02 12:41.35 [info     ] Model parameters are saved to d3rlpy_logs/DoubleDQN_online_20220602123825/model_81000.pt\n",
      "2022-06-02 12:41.35 [info     ] DoubleDQN_online_20220602123825: epoch=81 step=81000 epoch=81 metrics={'time_inference': 0.00031007838249206545, 'time_environment_step': 0.0006260161399841309, 'time_sample_batch': 7.826685905456542e-05, 'time_algorithm_update': 0.0012753887176513673, 'loss': 0.7685255194306374, 'time_step': 0.0023484864234924316, 'rollout_return': 15.253521126760564, 'evaluation': 15.0} step=81000\n",
      "2022-06-02 12:41.38 [info     ] Model parameters are saved to d3rlpy_logs/DoubleDQN_online_20220602123825/model_82000.pt\n",
      "2022-06-02 12:41.38 [info     ] DoubleDQN_online_20220602123825: epoch=82 step=82000 epoch=82 metrics={'time_inference': 0.0002989044189453125, 'time_environment_step': 0.0006034281253814697, 'time_sample_batch': 7.520747184753418e-05, 'time_algorithm_update': 0.0012236824035644531, 'loss': 0.7499090839028358, 'time_step': 0.0022577478885650636, 'rollout_return': 14.929577464788732, 'evaluation': 17.2} step=82000\n",
      "2022-06-02 12:41.40 [info     ] Model parameters are saved to d3rlpy_logs/DoubleDQN_online_20220602123825/model_83000.pt\n",
      "2022-06-02 12:41.40 [info     ] DoubleDQN_online_20220602123825: epoch=83 step=83000 epoch=83 metrics={'time_inference': 0.00034639477729797363, 'time_environment_step': 0.0007020938396453858, 'time_sample_batch': 8.804869651794434e-05, 'time_algorithm_update': 0.0014292643070220948, 'loss': 0.7594983822703362, 'time_step': 0.00263122034072876, 'rollout_return': 14.788732394366198, 'evaluation': 16.9} step=83000\n",
      "2022-06-02 12:41.44 [info     ] Model parameters are saved to d3rlpy_logs/DoubleDQN_online_20220602123825/model_84000.pt\n",
      "2022-06-02 12:41.44 [info     ] DoubleDQN_online_20220602123825: epoch=84 step=84000 epoch=84 metrics={'time_inference': 0.0003687734603881836, 'time_environment_step': 0.0007581064701080322, 'time_sample_batch': 9.75804328918457e-05, 'time_algorithm_update': 0.0016894359588623046, 'loss': 0.7581626785695553, 'time_step': 0.0029846444129943846, 'rollout_return': 14.97887323943662, 'evaluation': 16.2} step=84000\n",
      "2022-06-02 12:41.47 [info     ] Model parameters are saved to d3rlpy_logs/DoubleDQN_online_20220602123825/model_85000.pt\n",
      "2022-06-02 12:41.47 [info     ] DoubleDQN_online_20220602123825: epoch=85 step=85000 epoch=85 metrics={'time_inference': 0.0003798084259033203, 'time_environment_step': 0.0007718701362609863, 'time_sample_batch': 9.503602981567383e-05, 'time_algorithm_update': 0.001819366455078125, 'loss': 0.7616186893582344, 'time_step': 0.003132927417755127, 'rollout_return': 15.04225352112676, 'evaluation': 11.9} step=85000\n",
      "2022-06-02 12:41.50 [info     ] Model parameters are saved to d3rlpy_logs/DoubleDQN_online_20220602123825/model_86000.pt\n",
      "2022-06-02 12:41.50 [info     ] DoubleDQN_online_20220602123825: epoch=86 step=86000 epoch=86 metrics={'time_inference': 0.0003792097568511963, 'time_environment_step': 0.0007440938949584961, 'time_sample_batch': 9.912753105163575e-05, 'time_algorithm_update': 0.001794426441192627, 'loss': 0.769641584828496, 'time_step': 0.0030842974185943603, 'rollout_return': 15.112676056338028, 'evaluation': 15.9} step=86000\n",
      "2022-06-02 12:41.53 [info     ] Model parameters are saved to d3rlpy_logs/DoubleDQN_online_20220602123825/model_87000.pt\n",
      "2022-06-02 12:41.53 [info     ] DoubleDQN_online_20220602123825: epoch=87 step=87000 epoch=87 metrics={'time_inference': 0.0003705282211303711, 'time_environment_step': 0.0007813417911529541, 'time_sample_batch': 0.0001056058406829834, 'time_algorithm_update': 0.0016878018379211427, 'loss': 0.7623155701160431, 'time_step': 0.003013877868652344, 'rollout_return': 15.26056338028169, 'evaluation': 17.7} step=87000\n",
      "2022-06-02 12:41.57 [info     ] Model parameters are saved to d3rlpy_logs/DoubleDQN_online_20220602123825/model_88000.pt\n",
      "2022-06-02 12:41.57 [info     ] DoubleDQN_online_20220602123825: epoch=88 step=88000 epoch=88 metrics={'time_inference': 0.00037623214721679686, 'time_environment_step': 0.0008021786212921143, 'time_sample_batch': 0.00010094571113586426, 'time_algorithm_update': 0.0019944825172424317, 'loss': 0.7627225303351879, 'time_step': 0.003345649480819702, 'rollout_return': 14.830985915492958, 'evaluation': 15.0} step=88000\n",
      "2022-06-02 12:42.00 [info     ] Model parameters are saved to d3rlpy_logs/DoubleDQN_online_20220602123825/model_89000.pt\n",
      "2022-06-02 12:42.00 [info     ] DoubleDQN_online_20220602123825: epoch=89 step=89000 epoch=89 metrics={'time_inference': 0.00039410209655761717, 'time_environment_step': 0.0007820513248443604, 'time_sample_batch': 9.749650955200195e-05, 'time_algorithm_update': 0.0017916934490203858, 'loss': 0.7639586766660214, 'time_step': 0.003139319896697998, 'rollout_return': 15.246478873239436, 'evaluation': 16.0} step=89000\n",
      "2022-06-02 12:42.03 [info     ] Model parameters are saved to d3rlpy_logs/DoubleDQN_online_20220602123825/model_90000.pt\n",
      "2022-06-02 12:42.03 [info     ] DoubleDQN_online_20220602123825: epoch=90 step=90000 epoch=90 metrics={'time_inference': 0.00035844850540161133, 'time_environment_step': 0.0007572674751281738, 'time_sample_batch': 9.409976005554199e-05, 'time_algorithm_update': 0.0017405858039855958, 'loss': 0.7588920201361179, 'time_step': 0.003034179210662842, 'rollout_return': 14.76056338028169, 'evaluation': 15.5} step=90000\n",
      "2022-06-02 12:42.07 [info     ] Model parameters are saved to d3rlpy_logs/DoubleDQN_online_20220602123825/model_91000.pt\n",
      "2022-06-02 12:42.07 [info     ] DoubleDQN_online_20220602123825: epoch=91 step=91000 epoch=91 metrics={'time_inference': 0.00045238566398620605, 'time_environment_step': 0.0008765993118286133, 'time_sample_batch': 0.00011824893951416015, 'time_algorithm_update': 0.002203886032104492, 'loss': 0.7553874225616455, 'time_step': 0.0037325778007507326, 'rollout_return': 14.570422535211268, 'evaluation': 15.3} step=91000\n",
      "2022-06-02 12:42.10 [info     ] Model parameters are saved to d3rlpy_logs/DoubleDQN_online_20220602123825/model_92000.pt\n",
      "2022-06-02 12:42.10 [info     ] DoubleDQN_online_20220602123825: epoch=92 step=92000 epoch=92 metrics={'time_inference': 0.0003813884258270264, 'time_environment_step': 0.0007849240303039551, 'time_sample_batch': 0.00010785269737243653, 'time_algorithm_update': 0.001691901922225952, 'loss': 0.7551393307447434, 'time_step': 0.0030368647575378417, 'rollout_return': 14.894366197183098, 'evaluation': 16.4} step=92000\n",
      "2022-06-02 12:42.14 [info     ] Model parameters are saved to d3rlpy_logs/DoubleDQN_online_20220602123825/model_93000.pt\n",
      "2022-06-02 12:42.14 [info     ] DoubleDQN_online_20220602123825: epoch=93 step=93000 epoch=93 metrics={'time_inference': 0.0004044623374938965, 'time_environment_step': 0.0008211519718170166, 'time_sample_batch': 0.00010531878471374511, 'time_algorithm_update': 0.0018589856624603271, 'loss': 0.7557297774553299, 'time_step': 0.003274071216583252, 'rollout_return': 14.809859154929578, 'evaluation': 13.3} step=93000\n",
      "2022-06-02 12:42.17 [info     ] Model parameters are saved to d3rlpy_logs/DoubleDQN_online_20220602123825/model_94000.pt\n",
      "2022-06-02 12:42.17 [info     ] DoubleDQN_online_20220602123825: epoch=94 step=94000 epoch=94 metrics={'time_inference': 0.00037644243240356445, 'time_environment_step': 0.0008229115009307862, 'time_sample_batch': 9.972810745239258e-05, 'time_algorithm_update': 0.0018333475589752198, 'loss': 0.7464306349307299, 'time_step': 0.0032037193775177, 'rollout_return': 14.788732394366198, 'evaluation': 16.1} step=94000\n",
      "2022-06-02 12:42.20 [info     ] Model parameters are saved to d3rlpy_logs/DoubleDQN_online_20220602123825/model_95000.pt\n",
      "2022-06-02 12:42.20 [info     ] DoubleDQN_online_20220602123825: epoch=95 step=95000 epoch=95 metrics={'time_inference': 0.0003737270832061768, 'time_environment_step': 0.0007759542465209961, 'time_sample_batch': 9.499597549438477e-05, 'time_algorithm_update': 0.0016758031845092774, 'loss': 0.7507990473657846, 'time_step': 0.0029894952774047853, 'rollout_return': 15.330985915492958, 'evaluation': 14.8} step=95000\n",
      "2022-06-02 12:42.23 [info     ] Model parameters are saved to d3rlpy_logs/DoubleDQN_online_20220602123825/model_96000.pt\n",
      "2022-06-02 12:42.23 [info     ] DoubleDQN_online_20220602123825: epoch=96 step=96000 epoch=96 metrics={'time_inference': 0.00036318826675415036, 'time_environment_step': 0.0007709450721740723, 'time_sample_batch': 9.465932846069335e-05, 'time_algorithm_update': 0.001656482219696045, 'loss': 0.753254047691822, 'time_step': 0.002952653884887695, 'rollout_return': 14.866197183098592, 'evaluation': 15.0} step=96000\n",
      "2022-06-02 12:42.26 [info     ] Model parameters are saved to d3rlpy_logs/DoubleDQN_online_20220602123825/model_97000.pt\n",
      "2022-06-02 12:42.26 [info     ] DoubleDQN_online_20220602123825: epoch=97 step=97000 epoch=97 metrics={'time_inference': 0.00037238240242004394, 'time_environment_step': 0.0007762734889984131, 'time_sample_batch': 9.806275367736817e-05, 'time_algorithm_update': 0.0017143068313598632, 'loss': 0.7640337098836899, 'time_step': 0.0030293288230895995, 'rollout_return': 14.014084507042254, 'evaluation': 15.8} step=97000\n",
      "2022-06-02 12:42.30 [info     ] Model parameters are saved to d3rlpy_logs/DoubleDQN_online_20220602123825/model_98000.pt\n",
      "2022-06-02 12:42.30 [info     ] DoubleDQN_online_20220602123825: epoch=98 step=98000 epoch=98 metrics={'time_inference': 0.00040728020668029787, 'time_environment_step': 0.0008442366123199463, 'time_sample_batch': 0.00010117363929748535, 'time_algorithm_update': 0.00194091796875, 'loss': 0.7584133876562118, 'time_step': 0.00336765456199646, 'rollout_return': 15.190140845070422, 'evaluation': 15.6} step=98000\n",
      "2022-06-02 12:42.33 [info     ] Model parameters are saved to d3rlpy_logs/DoubleDQN_online_20220602123825/model_99000.pt\n",
      "2022-06-02 12:42.33 [info     ] DoubleDQN_online_20220602123825: epoch=99 step=99000 epoch=99 metrics={'time_inference': 0.00040692925453186037, 'time_environment_step': 0.0008598453998565674, 'time_sample_batch': 0.00011903667449951172, 'time_algorithm_update': 0.0018662548065185548, 'loss': 0.7686467131376267, 'time_step': 0.0033301699161529543, 'rollout_return': 14.859154929577464, 'evaluation': 14.3} step=99000\n",
      "2022-06-02 12:42.37 [info     ] Model parameters are saved to d3rlpy_logs/DoubleDQN_online_20220602123825/model_100000.pt\n",
      "2022-06-02 12:42.37 [info     ] DoubleDQN_online_20220602123825: epoch=100 step=100000 epoch=100 metrics={'time_inference': 0.00039320611953735354, 'time_environment_step': 0.0008265902996063232, 'time_sample_batch': 9.960412979125976e-05, 'time_algorithm_update': 0.0017901570796966552, 'loss': 0.7470503908842802, 'time_step': 0.0031832435131073, 'rollout_return': 15.049295774647888, 'evaluation': 14.7} step=100000\n"
     ]
    }
   ],
   "source": [
    "# start training\n",
    "# skip if there is a pre-trained model\n",
    "ddqn.fit_online(\n",
    "    env,\n",
    "    buffer,\n",
    "    explorer=explorer,\n",
    "    eval_env=env,\n",
    "    n_steps=100000,\n",
    "    n_steps_per_epoch=1000,\n",
    "    update_start_step=1000,\n",
    ")"
   ]
  },
  {
   "cell_type": "code",
   "execution_count": 17,
   "metadata": {},
   "outputs": [],
   "source": [
    "# save model\n",
    "ddqn.save_model(\"d3rlpy_logs/ddqn.pt\")"
   ]
  },
  {
   "cell_type": "code",
   "execution_count": 18,
   "metadata": {},
   "outputs": [
    {
     "name": "stdout",
     "output_type": "stream",
     "text": [
      "2022-06-02 12:42.46 [warning  ] Parameters will be reinitialized.\n"
     ]
    }
   ],
   "source": [
    "# reload model\n",
    "ddqn.build_with_env(env)\n",
    "ddqn.load_model(\"d3rlpy_logs/ddqn.pt\")"
   ]
  },
  {
   "cell_type": "code",
   "execution_count": 19,
   "metadata": {},
   "outputs": [
    {
     "data": {
      "text/plain": [
       "Text(0, 0.5, 'episode reward')"
      ]
     },
     "execution_count": 19,
     "metadata": {},
     "output_type": "execute_result"
    },
    {
     "data": {
      "image/png": "[encoded data removed]",
      "text/plain": [
       "<Figure size 432x288 with 1 Axes>"
      ]
     },
     "metadata": {
      "needs_background": "light"
     },
     "output_type": "display_data"
    }
   ],
   "source": [
    "# we see that training RL policy can be risky online\n",
    "log_path = sorted(glob(\"d3rlpy_logs/DoubleDQN_online_*/evaluation.csv\"))[-1]\n",
    "df = pd.read_csv(\n",
    "    log_path, \n",
    "    usecols=[1,2],\n",
    "    names=[\"train_episode\", \"episodic_rewards\"]\n",
    ")\n",
    "plt.plot(df[\"train_episode\"], df[\"episodic_rewards\"])\n",
    "plt.title(\"Learning curve of DDQN\")\n",
    "plt.xlabel(\"episode\")\n",
    "plt.ylabel(\"episode reward\")"
   ]
  },
  {
   "cell_type": "code",
   "execution_count": 20,
   "metadata": {},
   "outputs": [],
   "source": [
    "random = DiscreteRandomPolicy()\n",
    "random.build_with_env(env)"
   ]
  },
  {
   "cell_type": "code",
   "execution_count": 21,
   "metadata": {},
   "outputs": [
    {
     "data": {
      "application/vnd.jupyter.widget-view+json": {
       "model_id": "e3a411a91c1b461e9e45fdd982a5e5ba",
       "version_major": 2,
       "version_minor": 0
      },
      "text/plain": [
       "[calculate on-policy policy value]:   0%|          | 0/100 [00:00<?, ?it/s]"
      ]
     },
     "metadata": {},
     "output_type": "display_data"
    },
    {
     "data": {
      "application/vnd.jupyter.widget-view+json": {
       "model_id": "f3281ea42557478382c26409b46fae38",
       "version_major": 2,
       "version_minor": 0
      },
      "text/plain": [
       "[calculate on-policy policy value]:   0%|          | 0/100 [00:00<?, ?it/s]"
      ]
     },
     "metadata": {},
     "output_type": "display_data"
    },
    {
     "data": {
      "image/png": "[encoded data removed]",
      "text/plain": [
       "<Figure size 288x288 with 1 Axes>"
      ]
     },
     "metadata": {},
     "output_type": "display_data"
    }
   ],
   "source": [
    "# compare performance online\n",
    "visualize_on_policy_policy_value(\n",
    "    env=env,\n",
    "    policies=[ddqn, random],\n",
    "    policy_names=[\"ddqn\", \"random\"],\n",
    "    n_episodes=100,\n",
    "    random_state=random_state,\n",
    ")"
   ]
  },
  {
   "cell_type": "code",
   "execution_count": 22,
   "metadata": {},
   "outputs": [
    {
     "data": {
      "application/vnd.jupyter.widget-view+json": {
       "model_id": "f2aad5dd3d864b79a58b29bde8fa6b04",
       "version_major": 2,
       "version_minor": 0
      },
      "text/plain": [
       "[calculate on-policy policy value]:   0%|          | 0/100 [00:00<?, ?it/s]"
      ]
     },
     "metadata": {},
     "output_type": "display_data"
    },
    {
     "data": {
      "application/vnd.jupyter.widget-view+json": {
       "model_id": "2309e7b61d8b4bcebd99e2e7a32709d1",
       "version_major": 2,
       "version_minor": 0
      },
      "text/plain": [
       "[calculate on-policy policy value]:   0%|          | 0/100 [00:00<?, ?it/s]"
      ]
     },
     "metadata": {},
     "output_type": "display_data"
    },
    {
     "name": "stdout",
     "output_type": "stream",
     "text": [
      "relative improvement: 0.1526898734177215\n"
     ]
    }
   ],
   "source": [
    "# on-policy policy value by ddqn policy\n",
    "# largely outperforms random policy (about 20%)\n",
    "ddqn_performance = calc_on_policy_policy_value(env, ddqn, n_episodes=100, random_state=random_state)\n",
    "random_performance = calc_on_policy_policy_value(env, random, n_episodes=100, random_state=random_state)\n",
    "print(\"relative improvement:\", (ddqn_performance - random_performance) / random_performance)"
   ]
  },
  {
   "cell_type": "markdown",
   "metadata": {},
   "source": [
    "## 1. Synthetic Dataset Generation\n",
    "In the previous section, we see how we can interact the environment *online* using synthetic simulator.  \n",
    "Though simulation is a good start for training agent, eventually we want to deploy our agent (or policy) in the real world environment.  \n",
    "However, online interaction may have potential risk of failure in real-world implementataion.  \n",
    "Therefore, we introduce alternative learning protocol, Offline RL, which aim to obtain a new policy using only offline logged dataset.\n",
    "\n",
    "We prepare easy-to-use synthetic dataset generator: `SyntheticDataset` class in the dataset module.  \n",
    "By regarding simulation environment as a hypothetical real-environment, we show how to conduct Offline RL using logged dataset in real-world application.  \n",
    "For detailed description of how to use real-world dataset, please see #TODO (will be implemented).\n",
    "\n",
    "We have following arguments for `SyntheticDataset` class:\n",
    "- `env`: RTB environment for RL defined in the previous section.\n",
    "- `bahavior_policy`: RL agent (or algorithm) used for the data collection.\n",
    "- `n_samples_pretrain_reward_predictor`: Numbers of samples used to pretrain reward predictor."
   ]
  },
  {
   "cell_type": "code",
   "execution_count": 23,
   "metadata": {},
   "outputs": [],
   "source": [
    "# import necessary module from offlinegym\n",
    "from offlinegym.policy import DiscreteEpsilonGreedyHead"
   ]
  },
  {
   "cell_type": "code",
   "execution_count": 24,
   "metadata": {},
   "outputs": [],
   "source": [
    "behavior_policy = DiscreteEpsilonGreedyHead(\n",
    "    ddqn, \n",
    "    n_actions=env.action_space.n,\n",
    "    epsilon=0.3,\n",
    "    name=\"ddqn_epsilon_0.3\",\n",
    "    random_state=random_state,\n",
    ")"
   ]
  },
  {
   "cell_type": "code",
   "execution_count": 26,
   "metadata": {},
   "outputs": [],
   "source": [
    "# initialize dataset class\n",
    "dataset = SyntheticDataset(\n",
    "    env=env,\n",
    "    behavior_policy=behavior_policy,\n",
    "    is_rtb_env=True,\n",
    "    random_state=random_state,\n",
    ")"
   ]
  },
  {
   "cell_type": "code",
   "execution_count": 27,
   "metadata": {},
   "outputs": [
    {
     "data": {
      "application/vnd.jupyter.widget-view+json": {
       "model_id": "06c44e96f1d94c2ea8ff2bb16bd6011a",
       "version_major": 2,
       "version_minor": 0
      },
      "text/plain": [
       "[obtain_trajectories]:   0%|          | 0/10000 [00:00<?, ?it/s]"
      ]
     },
     "metadata": {},
     "output_type": "display_data"
    }
   ],
   "source": [
    "# collect logged data using behavior policy\n",
    "# skip if there is a preserved logged dataset\n",
    "logged_dataset = dataset.obtain_trajectories(n_episodes=10000, obtain_info=True)"
   ]
  },
  {
   "cell_type": "code",
   "execution_count": 28,
   "metadata": {},
   "outputs": [
    {
     "data": {
      "text/plain": [
       "{'size': 70000,\n",
       " 'n_episodes': 10000,\n",
       " 'step_per_episode': 7,\n",
       " 'action_type': 'discrete',\n",
       " 'n_actions': 10,\n",
       " 'action_dim': None,\n",
       " 'action_meaning': array([ 0.1       ,  0.16681005,  0.27825594,  0.46415888,  0.77426368,\n",
       "         1.29154967,  2.15443469,  3.59381366,  5.9948425 , 10.        ]),\n",
       " 'state_dim': 7,\n",
       " 'state_keys': ['timestep',\n",
       "  'remaining_budget',\n",
       "  'budget_consumption_rate',\n",
       "  'cost_per_mille_of_impression',\n",
       "  'winning_rate',\n",
       "  'reward',\n",
       "  'adjust_rate'],\n",
       " 'state': array([[0.00000000e+00, 3.00000000e+03, 9.29616093e-01, ...,\n",
       "         1.83918812e-01, 2.00000000e+00, 3.78794508e-02],\n",
       "        [1.00000000e+00, 1.91000000e+03, 3.63333333e-01, ...,\n",
       "         1.00000000e+00, 6.00000000e+00, 1.00000000e+01],\n",
       "        [2.00000000e+00, 1.91000000e+03, 0.00000000e+00, ...,\n",
       "         0.00000000e+00, 0.00000000e+00, 1.66810054e-01],\n",
       "        ...,\n",
       "        [4.00000000e+00, 2.20000000e+01, 0.00000000e+00, ...,\n",
       "         3.38164251e-02, 0.00000000e+00, 5.99484250e+00],\n",
       "        [5.00000000e+00, 2.20000000e+01, 0.00000000e+00, ...,\n",
       "         2.46305419e-02, 0.00000000e+00, 7.74263683e-01],\n",
       "        [6.00000000e+00, 2.20000000e+01, 0.00000000e+00, ...,\n",
       "         0.00000000e+00, 0.00000000e+00, 1.00000000e-01]]),\n",
       " 'action': array([9., 1., 9., ..., 4., 0., 0.]),\n",
       " 'reward': array([6., 0., 1., ..., 0., 0., 0.]),\n",
       " 'done': array([0., 0., 0., ..., 0., 0., 1.]),\n",
       " 'terminal': array([0., 0., 0., ..., 0., 0., 1.]),\n",
       " 'info': {'search_volume': array([201., 205., 217., ..., 203., 257., 179.]),\n",
       "  'impression': array([201.,   0., 217., ...,   5.,   0.,   0.]),\n",
       "  'click': array([21.,  0., 24., ...,  0.,  0.,  0.]),\n",
       "  'conversion': array([6., 0., 1., ..., 0., 0., 0.]),\n",
       "  'average_bid_price': array([544.55223881,   8.24390244, 523.24423963, ...,  37.14285714,\n",
       "           4.25680934,   4.13407821])},\n",
       " 'pscore': array([0.73, 0.03, 0.73, ..., 0.73, 0.73, 0.73])}"
      ]
     },
     "execution_count": 28,
     "metadata": {},
     "output_type": "execute_result"
    }
   ],
   "source": [
    "logged_dataset"
   ]
  },
  {
   "cell_type": "code",
   "execution_count": 29,
   "metadata": {},
   "outputs": [],
   "source": [
    "with open(\"logs/dataset_discrete.pkl\", \"wb\") as f:\n",
    "    pickle.dump(logged_dataset, f)"
   ]
  },
  {
   "cell_type": "code",
   "execution_count": 30,
   "metadata": {},
   "outputs": [],
   "source": [
    "with open(\"logs/dataset_discrete.pkl\", \"rb\") as f:\n",
    "    logged_dataset = pickle.load(f)"
   ]
  },
  {
   "cell_type": "code",
   "execution_count": 31,
   "metadata": {},
   "outputs": [
    {
     "data": {
      "application/vnd.jupyter.widget-view+json": {
       "model_id": "bdc5de2b395e4f598ee83a75a05627d2",
       "version_major": 2,
       "version_minor": 0
      },
      "text/plain": [
       "[calculate on-policy policy value]:   0%|          | 0/100 [00:00<?, ?it/s]"
      ]
     },
     "metadata": {},
     "output_type": "display_data"
    },
    {
     "data": {
      "application/vnd.jupyter.widget-view+json": {
       "model_id": "8e140e8f8591482b85aeea455e315e32",
       "version_major": 2,
       "version_minor": 0
      },
      "text/plain": [
       "[calculate on-policy policy value]:   0%|          | 0/100 [00:00<?, ?it/s]"
      ]
     },
     "metadata": {},
     "output_type": "display_data"
    },
    {
     "data": {
      "application/vnd.jupyter.widget-view+json": {
       "model_id": "544dec945a184fd384d20541b9173a50",
       "version_major": 2,
       "version_minor": 0
      },
      "text/plain": [
       "[calculate on-policy policy value]:   0%|          | 0/100 [00:00<?, ?it/s]"
      ]
     },
     "metadata": {},
     "output_type": "display_data"
    },
    {
     "data": {
      "image/png": "[encoded data removed]",
      "text/plain": [
       "<Figure size 432x288 with 1 Axes>"
      ]
     },
     "metadata": {},
     "output_type": "display_data"
    }
   ],
   "source": [
    "# compare performance online\n",
    "# almost same performance with greedy ddqn\n",
    "visualize_on_policy_policy_value(\n",
    "    env=env,\n",
    "    policies=[ddqn, behavior_policy, random],\n",
    "    policy_names=[\"ddqn\", \"ddqn (e=0.3)\", \"random\"],\n",
    "    n_episodes=100,\n",
    "    random_state=random_state,\n",
    ")"
   ]
  },
  {
   "cell_type": "code",
   "execution_count": 32,
   "metadata": {},
   "outputs": [
    {
     "data": {
      "text/html": [
       "<div>\n",
       "<style scoped>\n",
       "    .dataframe tbody tr th:only-of-type {\n",
       "        vertical-align: middle;\n",
       "    }\n",
       "\n",
       "    .dataframe tbody tr th {\n",
       "        vertical-align: top;\n",
       "    }\n",
       "\n",
       "    .dataframe thead th {\n",
       "        text-align: right;\n",
       "    }\n",
       "</style>\n",
       "<table border=\"1\" class=\"dataframe\">\n",
       "  <thead>\n",
       "    <tr style=\"text-align: right;\">\n",
       "      <th></th>\n",
       "      <th>adjust rate</th>\n",
       "      <th>average bid price</th>\n",
       "      <th>impression</th>\n",
       "      <th>click</th>\n",
       "      <th>conversion</th>\n",
       "      <th>winning rate</th>\n",
       "      <th>click / impression</th>\n",
       "      <th>conversion / click</th>\n",
       "    </tr>\n",
       "  </thead>\n",
       "  <tbody>\n",
       "    <tr>\n",
       "      <th>count</th>\n",
       "      <td>70000.000000</td>\n",
       "      <td>70000.000000</td>\n",
       "      <td>70000.000000</td>\n",
       "      <td>70000.000000</td>\n",
       "      <td>70000.000000</td>\n",
       "      <td>70000.000000</td>\n",
       "      <td>70000.000000</td>\n",
       "      <td>70000.000000</td>\n",
       "    </tr>\n",
       "    <tr>\n",
       "      <th>mean</th>\n",
       "      <td>5.248072</td>\n",
       "      <td>276.826870</td>\n",
       "      <td>89.664286</td>\n",
       "      <td>8.664029</td>\n",
       "      <td>2.030471</td>\n",
       "      <td>0.516768</td>\n",
       "      <td>0.060930</td>\n",
       "      <td>0.129293</td>\n",
       "    </tr>\n",
       "    <tr>\n",
       "      <th>std</th>\n",
       "      <td>4.471500</td>\n",
       "      <td>227.978056</td>\n",
       "      <td>91.137440</td>\n",
       "      <td>9.498569</td>\n",
       "      <td>2.917623</td>\n",
       "      <td>0.433177</td>\n",
       "      <td>0.073626</td>\n",
       "      <td>0.181581</td>\n",
       "    </tr>\n",
       "    <tr>\n",
       "      <th>min</th>\n",
       "      <td>0.000178</td>\n",
       "      <td>4.010309</td>\n",
       "      <td>0.000000</td>\n",
       "      <td>0.000000</td>\n",
       "      <td>0.000000</td>\n",
       "      <td>0.000000</td>\n",
       "      <td>0.000000</td>\n",
       "      <td>0.000000</td>\n",
       "    </tr>\n",
       "    <tr>\n",
       "      <th>25%</th>\n",
       "      <td>0.774264</td>\n",
       "      <td>36.616369</td>\n",
       "      <td>2.000000</td>\n",
       "      <td>0.000000</td>\n",
       "      <td>0.000000</td>\n",
       "      <td>0.029167</td>\n",
       "      <td>0.000000</td>\n",
       "      <td>0.000000</td>\n",
       "    </tr>\n",
       "    <tr>\n",
       "      <th>50%</th>\n",
       "      <td>3.593814</td>\n",
       "      <td>283.556483</td>\n",
       "      <td>40.000000</td>\n",
       "      <td>3.000000</td>\n",
       "      <td>0.000000</td>\n",
       "      <td>0.537836</td>\n",
       "      <td>0.067873</td>\n",
       "      <td>0.000000</td>\n",
       "    </tr>\n",
       "    <tr>\n",
       "      <th>75%</th>\n",
       "      <td>10.000000</td>\n",
       "      <td>509.359907</td>\n",
       "      <td>188.000000</td>\n",
       "      <td>18.000000</td>\n",
       "      <td>3.000000</td>\n",
       "      <td>1.000000</td>\n",
       "      <td>0.102439</td>\n",
       "      <td>0.222222</td>\n",
       "    </tr>\n",
       "    <tr>\n",
       "      <th>max</th>\n",
       "      <td>10.000000</td>\n",
       "      <td>555.903614</td>\n",
       "      <td>290.000000</td>\n",
       "      <td>41.000000</td>\n",
       "      <td>20.000000</td>\n",
       "      <td>1.000000</td>\n",
       "      <td>0.999995</td>\n",
       "      <td>0.999998</td>\n",
       "    </tr>\n",
       "  </tbody>\n",
       "</table>\n",
       "</div>"
      ],
      "text/plain": [
       "        adjust rate  average bid price    impression         click  \\\n",
       "count  70000.000000       70000.000000  70000.000000  70000.000000   \n",
       "mean       5.248072         276.826870     89.664286      8.664029   \n",
       "std        4.471500         227.978056     91.137440      9.498569   \n",
       "min        0.000178           4.010309      0.000000      0.000000   \n",
       "25%        0.774264          36.616369      2.000000      0.000000   \n",
       "50%        3.593814         283.556483     40.000000      3.000000   \n",
       "75%       10.000000         509.359907    188.000000     18.000000   \n",
       "max       10.000000         555.903614    290.000000     41.000000   \n",
       "\n",
       "         conversion  winning rate  click / impression  conversion / click  \n",
       "count  70000.000000  70000.000000        70000.000000        70000.000000  \n",
       "mean       2.030471      0.516768            0.060930            0.129293  \n",
       "std        2.917623      0.433177            0.073626            0.181581  \n",
       "min        0.000000      0.000000            0.000000            0.000000  \n",
       "25%        0.000000      0.029167            0.000000            0.000000  \n",
       "50%        0.000000      0.537836            0.067873            0.000000  \n",
       "75%        3.000000      1.000000            0.102439            0.222222  \n",
       "max       20.000000      1.000000            0.999995            0.999998  "
      ]
     },
     "execution_count": 32,
     "metadata": {},
     "output_type": "execute_result"
    }
   ],
   "source": [
    "# check statistics of the dataset\n",
    "df = pd.DataFrame()\n",
    "df['adjust rate'] = logged_dataset['state'][:, 6]\n",
    "df['average bid price'] = logged_dataset['info']['average_bid_price']\n",
    "df['impression'] = logged_dataset['info']['impression']\n",
    "df['click'] = logged_dataset['info']['click']\n",
    "df['conversion'] = logged_dataset['info']['conversion']\n",
    "df['winning rate'] = logged_dataset['state'][:, 4]\n",
    "df['click / impression'] = df['click'] / (df['impression'] + 1e-5)\n",
    "df['conversion / click'] = df['conversion'] / (df['click'] + 1e-5)\n",
    "df.describe()"
   ]
  },
  {
   "cell_type": "markdown",
   "metadata": {},
   "source": [
    "For more about the data collection and visualization, please refer to [examples/quickstart/rtb_synthetic_data_collection.ipynb](https://github.com/negocia-inc/rtb_reinforcement_learing/blob/ope/examples/quickstart/rtb_synthetic_data_collection.ipynb)."
   ]
  },
  {
   "cell_type": "markdown",
   "metadata": {},
   "source": [
    "## 2. Offline Reinforcement Learning\n",
    "In this section, we learn a new policy in an offline manner, without interacting to the environment.  \n",
    "To achieve this goal, we exploit logged dataset and train the policy on the data.  \n",
    "We use [d3rlpy](https://github.com/takuseno/d3rlpy)'s implementation of algorithms."
   ]
  },
  {
   "cell_type": "code",
   "execution_count": 33,
   "metadata": {},
   "outputs": [],
   "source": [
    "# import modules from d3rlpy\n",
    "from d3rlpy.dataset import MDPDataset\n",
    "from d3rlpy.algos import DiscreteCQL\n",
    "from d3rlpy.ope import DiscreteFQE\n",
    "from d3rlpy.metrics.scorer import evaluate_on_environment"
   ]
  },
  {
   "cell_type": "code",
   "execution_count": 34,
   "metadata": {},
   "outputs": [],
   "source": [
    "offlinerl_dataset = MDPDataset(\n",
    "    observations=logged_dataset[\"state\"],\n",
    "    actions=logged_dataset[\"action\"],\n",
    "    rewards=logged_dataset[\"reward\"],\n",
    "    terminals=logged_dataset[\"done\"],\n",
    "    episode_terminals=logged_dataset[\"done\"],\n",
    "    discrete_action=True,\n",
    ")\n",
    "train_episodes, test_episodes = train_test_split(offlinerl_dataset, test_size=0.2, random_state=random_state)"
   ]
  },
  {
   "cell_type": "code",
   "execution_count": 35,
   "metadata": {},
   "outputs": [],
   "source": [
    "# Use Conservetive Q-Learning policy\n",
    "cql = DiscreteCQL(\n",
    "    encoder_factory=VectorEncoderFactory(hidden_units=[30, 30]),\n",
    "    q_func_factory=MeanQFunctionFactory(),\n",
    "    use_gpu=torch.cuda.is_available(),\n",
    ")"
   ]
  },
  {
   "cell_type": "code",
   "execution_count": 36,
   "metadata": {},
   "outputs": [
    {
     "name": "stdout",
     "output_type": "stream",
     "text": [
      "2022-06-02 12:45.30 [debug    ] RandomIterator is selected.\n",
      "2022-06-02 12:45.30 [info     ] Directory is created at d3rlpy_logs/DiscreteCQL_20220602124530\n",
      "2022-06-02 12:45.30 [debug    ] Building models...\n",
      "2022-06-02 12:45.30 [debug    ] Models have been built.\n",
      "2022-06-02 12:45.30 [info     ] Parameters are saved to d3rlpy_logs/DiscreteCQL_20220602124530/params.json params={'action_scaler': None, 'alpha': 1.0, 'batch_size': 32, 'encoder_factory': {'type': 'vector', 'params': {'hidden_units': [30, 30], 'activation': 'relu', 'use_batch_norm': False, 'dropout_rate': None, 'use_dense': False}}, 'gamma': 0.99, 'generated_maxlen': 100000, 'learning_rate': 6.25e-05, 'n_critics': 1, 'n_frames': 1, 'n_steps': 1, 'optim_factory': {'optim_cls': 'Adam', 'betas': (0.9, 0.999), 'eps': 1e-08, 'weight_decay': 0, 'amsgrad': False}, 'q_func_factory': {'type': 'mean', 'params': {'share_encoder': False}}, 'real_ratio': 1.0, 'reward_scaler': None, 'scaler': None, 'target_update_interval': 8000, 'use_gpu': None, 'algorithm': 'DiscreteCQL', 'observation_shape': (7,), 'action_size': 10}\n"
     ]
    },
    {
     "data": {
      "application/vnd.jupyter.widget-view+json": {
       "model_id": "fba48c72613f40c7ab17d4a8ead93d38",
       "version_major": 2,
       "version_minor": 0
      },
      "text/plain": [
       "Epoch 1/1:   0%|          | 0/10000 [00:00<?, ?it/s]"
      ]
     },
     "metadata": {},
     "output_type": "display_data"
    },
    {
     "name": "stdout",
     "output_type": "stream",
     "text": [
      "2022-06-02 12:46.01 [info     ] DiscreteCQL_20220602124530: epoch=1 step=10000 epoch=1 metrics={'time_sample_batch': 0.00017815184593200683, 'time_algorithm_update': 0.0026940245389938354, 'loss': 99.20716195335388, 'time_step': 0.0030584347486495972, 'environment': 14.4} step=10000\n",
      "2022-06-02 12:46.01 [info     ] Model parameters are saved to d3rlpy_logs/DiscreteCQL_20220602124530/model_10000.pt\n"
     ]
    },
    {
     "data": {
      "text/plain": [
       "[(1,\n",
       "  {'time_sample_batch': 0.00017815184593200683,\n",
       "   'time_algorithm_update': 0.0026940245389938354,\n",
       "   'loss': 99.20716195335388,\n",
       "   'time_step': 0.0030584347486495972,\n",
       "   'environment': 14.4})]"
      ]
     },
     "execution_count": 36,
     "metadata": {},
     "output_type": "execute_result"
    }
   ],
   "source": [
    "cql.fit(\n",
    "    train_episodes,\n",
    "    eval_episodes=test_episodes,\n",
    "    n_steps=10000,\n",
    "    scorers={\n",
    "        'environment': evaluate_on_environment(env),\n",
    "        # to record training process w/ ground truth policy value, which is unseen to the agent\n",
    "    },\n",
    ")"
   ]
  },
  {
   "cell_type": "code",
   "execution_count": 38,
   "metadata": {},
   "outputs": [],
   "source": [
    "# save model\n",
    "cql.save_model(\"d3rlpy_logs/cql_discrete.pt\")"
   ]
  },
  {
   "cell_type": "code",
   "execution_count": 39,
   "metadata": {},
   "outputs": [
    {
     "name": "stdout",
     "output_type": "stream",
     "text": [
      "2022-06-02 12:46.14 [warning  ] Parameters will be reinitialized.\n"
     ]
    }
   ],
   "source": [
    "# reload model\n",
    "cql.build_with_env(env)\n",
    "cql.load_model(\"d3rlpy_logs/cql_discrete.pt\")"
   ]
  },
  {
   "cell_type": "code",
   "execution_count": 37,
   "metadata": {},
   "outputs": [
    {
     "data": {
      "application/vnd.jupyter.widget-view+json": {
       "model_id": "8a0c086532d74ad2af9cb5c3666367c9",
       "version_major": 2,
       "version_minor": 0
      },
      "text/plain": [
       "[calculate on-policy policy value]:   0%|          | 0/100 [00:00<?, ?it/s]"
      ]
     },
     "metadata": {},
     "output_type": "display_data"
    },
    {
     "data": {
      "application/vnd.jupyter.widget-view+json": {
       "model_id": "fabd554a40524529973aa9a59b697d2f",
       "version_major": 2,
       "version_minor": 0
      },
      "text/plain": [
       "[calculate on-policy policy value]:   0%|          | 0/100 [00:00<?, ?it/s]"
      ]
     },
     "metadata": {},
     "output_type": "display_data"
    },
    {
     "data": {
      "application/vnd.jupyter.widget-view+json": {
       "model_id": "0bebc7033b4c434caf0e2e0a2f9f71f9",
       "version_major": 2,
       "version_minor": 0
      },
      "text/plain": [
       "[calculate on-policy policy value]:   0%|          | 0/100 [00:00<?, ?it/s]"
      ]
     },
     "metadata": {},
     "output_type": "display_data"
    },
    {
     "data": {
      "application/vnd.jupyter.widget-view+json": {
       "model_id": "d0d76c8c51254060ae88c35a2b0543bc",
       "version_major": 2,
       "version_minor": 0
      },
      "text/plain": [
       "[calculate on-policy policy value]:   0%|          | 0/100 [00:00<?, ?it/s]"
      ]
     },
     "metadata": {},
     "output_type": "display_data"
    },
    {
     "data": {
      "image/png": "[encoded data removed]",
      "text/plain": [
       "<Figure size 576x288 with 1 Axes>"
      ]
     },
     "metadata": {},
     "output_type": "display_data"
    }
   ],
   "source": [
    "# compare performance online\n",
    "# not better than online policy, but achieves almost the same performance\n",
    "# meaning that we can learn a reasonable policy without interacting with the environment!\n",
    "visualize_on_policy_policy_value(\n",
    "    env=env,\n",
    "    policies=[ddqn, behavior_policy, cql, random],\n",
    "    policy_names=[\"ddqn\", \"ddqn (e=0.3)\", \"cql (offline)\", \"random\"],\n",
    "    n_episodes=100,\n",
    "    random_state=random_state,\n",
    ")"
   ]
  },
  {
   "cell_type": "markdown",
   "metadata": {},
   "source": [
    "## 3. Off-Policy Evaluation and Evaluation of Offline RL methods\n",
    "In the previous section, we verified the performance of learned policy via online interaction (aka A/B tests).  \n",
    "However, it could be risky because the policy may perform poorly in an online environment.  \n",
    "To tackle this issue, we aim to evaluate the performance of policies in an offline manner, to gain prior knowledge on how agent works in the environment."
   ]
  },
  {
   "cell_type": "code",
   "execution_count": 40,
   "metadata": {},
   "outputs": [],
   "source": [
    "# import ope modules from offlinegym\n",
    "from offlinegym.ope import CreateOPEInput\n",
    "from offlinegym.ope import DiscreteOffPolicyEvaluation as OPE\n",
    "from offlinegym.ope import DiscreteDirectMethod as DM\n",
    "from offlinegym.ope import DiscreteTrajectoryWiseImportanceSampling as TIS\n",
    "from offlinegym.ope import DiscretePerDecisionImportanceSampling as PDIS\n",
    "from offlinegym.ope import DiscreteDoublyRobust as DR\n",
    "from offlinegym.ope import DiscreteSelfNormalizedTrajectoryWiseImportanceSampling as SNTIS\n",
    "from offlinegym.ope import DiscreteSelfNormalizedPerDecisionImportanceSampling as SNPDIS\n",
    "from offlinegym.ope import DiscreteSelfNormalizedDoublyRobust as SNDR"
   ]
  },
  {
   "cell_type": "code",
   "execution_count": 41,
   "metadata": {},
   "outputs": [],
   "source": [
    "# define evaluation policies\n",
    "cql_ = DiscreteEpsilonGreedyHead(base_policy=cql, n_actions=env.action_space.n, name=\"cql\", epsilon=0.0, random_state=random_state)\n",
    "ddqn_ = DiscreteEpsilonGreedyHead(base_policy=ddqn, n_actions=env.action_space.n, name=\"ddqn\", epsilon=0.0, random_state=random_state)\n",
    "random_ = DiscreteEpsilonGreedyHead(base_policy=random, n_actions=env.action_space.n, name=\"random\", epsilon=1.0, random_state=random_state)\n",
    "evaluation_policies = [cql_, ddqn_, random_]"
   ]
  },
  {
   "cell_type": "code",
   "execution_count": 42,
   "metadata": {},
   "outputs": [],
   "source": [
    "# first, prepare OPE inputs\n",
    "prep = CreateOPEInput(\n",
    "    logged_dataset=logged_dataset,\n",
    "    use_base_model=True,  # use model-based prediction\n",
    ")"
   ]
  },
  {
   "cell_type": "code",
   "execution_count": 43,
   "metadata": {},
   "outputs": [
    {
     "data": {
      "application/vnd.jupyter.widget-view+json": {
       "model_id": "1e09008d666d4e1aba4b9a341651a4f1",
       "version_major": 2,
       "version_minor": 0
      },
      "text/plain": [
       "[fit FQE model]:   0%|          | 0/3 [00:00<?, ?it/s]"
      ]
     },
     "metadata": {},
     "output_type": "display_data"
    },
    {
     "name": "stdout",
     "output_type": "stream",
     "text": [
      "2022-06-02 12:46.20 [debug    ] RandomIterator is selected.\n",
      "2022-06-02 12:46.20 [info     ] Directory is created at d3rlpy_logs/DiscreteFQE_20220602124620\n",
      "2022-06-02 12:46.20 [debug    ] Building models...\n",
      "2022-06-02 12:46.20 [debug    ] Models have been built.\n",
      "2022-06-02 12:46.20 [info     ] Parameters are saved to d3rlpy_logs/DiscreteFQE_20220602124620/params.json params={'action_scaler': None, 'batch_size': 100, 'encoder_factory': {'type': 'vector', 'params': {'hidden_units': [30, 30], 'activation': 'relu', 'use_batch_norm': False, 'dropout_rate': None, 'use_dense': False}}, 'gamma': 0.99, 'generated_maxlen': 100000, 'learning_rate': 0.0001, 'n_critics': 1, 'n_frames': 1, 'n_steps': 1, 'optim_factory': {'optim_cls': 'Adam', 'betas': (0.9, 0.999), 'eps': 1e-08, 'weight_decay': 0, 'amsgrad': False}, 'q_func_factory': {'type': 'mean', 'params': {'share_encoder': False}}, 'real_ratio': 1.0, 'reward_scaler': None, 'scaler': None, 'target_update_interval': 100, 'use_gpu': None, 'algorithm': 'DiscreteFQE', 'observation_shape': (7,), 'action_size': 10}\n"
     ]
    },
    {
     "data": {
      "application/vnd.jupyter.widget-view+json": {
       "model_id": "66c966d1888d4674b2cce53789623ffc",
       "version_major": 2,
       "version_minor": 0
      },
      "text/plain": [
       "Epoch 1/1:   0%|          | 0/10000 [00:00<?, ?it/s]"
      ]
     },
     "metadata": {},
     "output_type": "display_data"
    },
    {
     "name": "stdout",
     "output_type": "stream",
     "text": [
      "2022-06-02 12:46.53 [info     ] DiscreteFQE_20220602124620: epoch=1 step=10000 epoch=1 metrics={'time_sample_batch': 0.0005170162200927735, 'time_algorithm_update': 0.0024411035776138305, 'loss': 2.6914717103749513, 'time_step': 0.0031803364992141724} step=10000\n",
      "2022-06-02 12:46.53 [info     ] Model parameters are saved to d3rlpy_logs/DiscreteFQE_20220602124620/model_10000.pt\n",
      "2022-06-02 12:46.53 [debug    ] RandomIterator is selected.\n",
      "2022-06-02 12:46.53 [info     ] Directory is created at d3rlpy_logs/DiscreteFQE_20220602124653\n",
      "2022-06-02 12:46.53 [debug    ] Building models...\n",
      "2022-06-02 12:46.53 [debug    ] Models have been built.\n",
      "2022-06-02 12:46.53 [info     ] Parameters are saved to d3rlpy_logs/DiscreteFQE_20220602124653/params.json params={'action_scaler': None, 'batch_size': 100, 'encoder_factory': {'type': 'vector', 'params': {'hidden_units': [30, 30], 'activation': 'relu', 'use_batch_norm': False, 'dropout_rate': None, 'use_dense': False}}, 'gamma': 0.99, 'generated_maxlen': 100000, 'learning_rate': 0.0001, 'n_critics': 1, 'n_frames': 1, 'n_steps': 1, 'optim_factory': {'optim_cls': 'Adam', 'betas': (0.9, 0.999), 'eps': 1e-08, 'weight_decay': 0, 'amsgrad': False}, 'q_func_factory': {'type': 'mean', 'params': {'share_encoder': False}}, 'real_ratio': 1.0, 'reward_scaler': None, 'scaler': None, 'target_update_interval': 100, 'use_gpu': None, 'algorithm': 'DiscreteFQE', 'observation_shape': (7,), 'action_size': 10}\n"
     ]
    },
    {
     "data": {
      "application/vnd.jupyter.widget-view+json": {
       "model_id": "5c47b20dcb704819bd95e4520859351a",
       "version_major": 2,
       "version_minor": 0
      },
      "text/plain": [
       "Epoch 1/1:   0%|          | 0/10000 [00:00<?, ?it/s]"
      ]
     },
     "metadata": {},
     "output_type": "display_data"
    },
    {
     "name": "stdout",
     "output_type": "stream",
     "text": [
      "2022-06-02 12:47.25 [info     ] DiscreteFQE_20220602124653: epoch=1 step=10000 epoch=1 metrics={'time_sample_batch': 0.0005006343126296997, 'time_algorithm_update': 0.0025063721656799318, 'loss': 4.384018781512975, 'time_step': 0.0032185553312301636} step=10000\n",
      "2022-06-02 12:47.25 [info     ] Model parameters are saved to d3rlpy_logs/DiscreteFQE_20220602124653/model_10000.pt\n",
      "2022-06-02 12:47.25 [debug    ] RandomIterator is selected.\n",
      "2022-06-02 12:47.25 [info     ] Directory is created at d3rlpy_logs/DiscreteFQE_20220602124725\n",
      "2022-06-02 12:47.25 [debug    ] Building models...\n",
      "2022-06-02 12:47.25 [debug    ] Models have been built.\n",
      "2022-06-02 12:47.25 [info     ] Parameters are saved to d3rlpy_logs/DiscreteFQE_20220602124725/params.json params={'action_scaler': None, 'batch_size': 100, 'encoder_factory': {'type': 'vector', 'params': {'hidden_units': [30, 30], 'activation': 'relu', 'use_batch_norm': False, 'dropout_rate': None, 'use_dense': False}}, 'gamma': 0.99, 'generated_maxlen': 100000, 'learning_rate': 0.0001, 'n_critics': 1, 'n_frames': 1, 'n_steps': 1, 'optim_factory': {'optim_cls': 'Adam', 'betas': (0.9, 0.999), 'eps': 1e-08, 'weight_decay': 0, 'amsgrad': False}, 'q_func_factory': {'type': 'mean', 'params': {'share_encoder': False}}, 'real_ratio': 1.0, 'reward_scaler': None, 'scaler': None, 'target_update_interval': 100, 'use_gpu': None, 'algorithm': 'DiscreteFQE', 'observation_shape': (7,), 'action_size': 10}\n"
     ]
    },
    {
     "data": {
      "application/vnd.jupyter.widget-view+json": {
       "model_id": "0c389c3483d84bad89dc4b88f31c661b",
       "version_major": 2,
       "version_minor": 0
      },
      "text/plain": [
       "Epoch 1/1:   0%|          | 0/10000 [00:00<?, ?it/s]"
      ]
     },
     "metadata": {},
     "output_type": "display_data"
    },
    {
     "name": "stdout",
     "output_type": "stream",
     "text": [
      "2022-06-02 12:47.52 [info     ] DiscreteFQE_20220602124725: epoch=1 step=10000 epoch=1 metrics={'time_sample_batch': 0.0004943162679672241, 'time_algorithm_update': 0.001906733536720276, 'loss': 2.786719653993845, 'time_step': 0.002595817542076111} step=10000\n",
      "2022-06-02 12:47.52 [info     ] Model parameters are saved to d3rlpy_logs/DiscreteFQE_20220602124725/model_10000.pt\n"
     ]
    },
    {
     "data": {
      "application/vnd.jupyter.widget-view+json": {
       "model_id": "905326808112472ba9cea0ef79ce6178",
       "version_major": 2,
       "version_minor": 0
      },
      "text/plain": [
       "[collect input data]:   0%|          | 0/3 [00:00<?, ?it/s]"
      ]
     },
     "metadata": {},
     "output_type": "display_data"
    },
    {
     "data": {
      "application/vnd.jupyter.widget-view+json": {
       "model_id": "aac5016dc11d4cc1b77d0762fbd1bf5f",
       "version_major": 2,
       "version_minor": 0
      },
      "text/plain": [
       "[calculate on-policy policy value]:   0%|          | 0/100 [00:00<?, ?it/s]"
      ]
     },
     "metadata": {},
     "output_type": "display_data"
    },
    {
     "data": {
      "application/vnd.jupyter.widget-view+json": {
       "model_id": "afdd7a6a82f44a8c9b0978b41f19d883",
       "version_major": 2,
       "version_minor": 0
      },
      "text/plain": [
       "[calculate on-policy policy value]:   0%|          | 0/100 [00:00<?, ?it/s]"
      ]
     },
     "metadata": {},
     "output_type": "display_data"
    },
    {
     "data": {
      "application/vnd.jupyter.widget-view+json": {
       "model_id": "3e52f60ef13b4f57812b508505911d21",
       "version_major": 2,
       "version_minor": 0
      },
      "text/plain": [
       "[calculate on-policy policy value]:   0%|          | 0/100 [00:00<?, ?it/s]"
      ]
     },
     "metadata": {},
     "output_type": "display_data"
    }
   ],
   "source": [
    "# takes time\n",
    "input_dict = prep.obtain_whole_inputs(\n",
    "    evaluation_policies=evaluation_policies,\n",
    "    env=env,\n",
    "    n_episodes_on_policy_evaluation=100,\n",
    "    random_state=random_state,\n",
    ")"
   ]
  },
  {
   "cell_type": "code",
   "execution_count": 48,
   "metadata": {},
   "outputs": [],
   "source": [
    "with open(\"logs/ope_input_dict_discrete.pkl\", \"wb\") as f:\n",
    "    pickle.dump(input_dict, f)"
   ]
  },
  {
   "cell_type": "code",
   "execution_count": 49,
   "metadata": {},
   "outputs": [],
   "source": [
    "with open(\"logs/ope_input_dict_discrete.pkl\", \"rb\") as f:\n",
    "    input_dict = pickle.load(f)"
   ]
  },
  {
   "cell_type": "code",
   "execution_count": 44,
   "metadata": {},
   "outputs": [],
   "source": [
    "ope = OPE(\n",
    "    logged_dataset=logged_dataset,\n",
    "    ope_estimators=[DM(), TIS(), PDIS(), DR(), SNTIS(), SNPDIS(), SNDR()],\n",
    ")"
   ]
  },
  {
   "cell_type": "code",
   "execution_count": 45,
   "metadata": {},
   "outputs": [],
   "source": [
    "# performance estimation by ope\n",
    "policy_value_df_dict, policy_value_interval_df_dict = ope.summarize_off_policy_estimates(input_dict, random_state=random_state)"
   ]
  },
  {
   "cell_type": "code",
   "execution_count": 46,
   "metadata": {},
   "outputs": [
    {
     "data": {
      "text/plain": [
       "{'cql':            policy_value  relative_policy_value\n",
       " on_policy     14.570000               1.000000\n",
       " dm            13.812385               0.948002\n",
       " tis            0.583848               0.040072\n",
       " pdis          14.122857               0.969311\n",
       " dr            14.668332               1.006749\n",
       " sntis         18.786408               1.289390\n",
       " snpdis        14.273742               0.979667\n",
       " sndr          14.683099               1.007762,\n",
       " 'ddqn':            policy_value  relative_policy_value\n",
       " on_policy     14.570000               1.000000\n",
       " dm            14.447560               0.991596\n",
       " tis           14.510203               0.995896\n",
       " pdis          14.478820               0.993742\n",
       " dr            14.485464               0.994198\n",
       " sntis         14.546279               0.998372\n",
       " snpdis        14.462916               0.992650\n",
       " sndr          14.489604               0.994482,\n",
       " 'random':            policy_value  relative_policy_value\n",
       " on_policy     12.570000               1.000000\n",
       " dm            14.223056               1.131508\n",
       " tis            5.429168               0.431915\n",
       " pdis          11.052877               0.879306\n",
       " dr            13.836526               1.100758\n",
       " sntis         13.822672               1.099656\n",
       " snpdis        12.738246               1.013385\n",
       " sndr          14.010584               1.114605}"
      ]
     },
     "execution_count": 46,
     "metadata": {},
     "output_type": "execute_result"
    }
   ],
   "source": [
    "# estimated policy performance\n",
    "policy_value_df_dict"
   ]
  },
  {
   "cell_type": "code",
   "execution_count": 47,
   "metadata": {},
   "outputs": [
    {
     "data": {
      "text/plain": [
       "{'cql':                 mean  95.0% CI (lower)  95.0% CI (upper)\n",
       " on_policy  14.503000         13.739500         15.131000\n",
       " dm         13.812277         13.810379         13.814545\n",
       " tis         0.562974          0.064698          1.504630\n",
       " pdis       14.079711         13.553385         14.829925\n",
       " dr         14.648434         14.352765         14.946951\n",
       " sntis      18.114757          2.081796         48.414320\n",
       " snpdis     14.196003         13.549200         15.217385\n",
       " sndr       14.641440         14.282406         14.974612,\n",
       " 'ddqn':                 mean  95.0% CI (lower)  95.0% CI (upper)\n",
       " on_policy  14.487300         13.732250         15.305750\n",
       " dm         14.447507         14.446268         14.449047\n",
       " tis        14.525673         13.729477         15.284232\n",
       " pdis       14.480333         14.270780         14.659410\n",
       " dr         14.495256         14.392833         14.574811\n",
       " sntis      14.561788         13.763612         15.322232\n",
       " snpdis     14.464437         14.254791         14.643334\n",
       " sndr       14.499339         14.396976         14.578642,\n",
       " 'random':                 mean  95.0% CI (lower)  95.0% CI (upper)\n",
       " on_policy  12.497200         11.637000         13.475750\n",
       " dm         14.222983         14.221657         14.224682\n",
       " tis         5.541934          3.694095          7.240480\n",
       " pdis       11.066484         10.017179         12.375163\n",
       " dr         13.842955         13.367648         14.372565\n",
       " sntis      14.109774          9.405172         18.434274\n",
       " snpdis     12.741745         11.228493         14.840559\n",
       " sndr       14.013793         13.263732         14.853380}"
      ]
     },
     "execution_count": 47,
     "metadata": {},
     "output_type": "execute_result"
    }
   ],
   "source": [
    "# estimated policy performance confidence intervals\n",
    "policy_value_interval_df_dict"
   ]
  },
  {
   "cell_type": "markdown",
   "metadata": {},
   "source": [
    "## 4. Evaluation of OPE methods\n",
    "Now, we evaluate how well ope estimators estimated the policy value."
   ]
  },
  {
   "cell_type": "code",
   "execution_count": 50,
   "metadata": {},
   "outputs": [
    {
     "data": {
      "image/png": "[encoded data removed]",
      "text/plain": [
       "<Figure size 1008x864 with 3 Axes>"
      ]
     },
     "metadata": {},
     "output_type": "display_data"
    }
   ],
   "source": [
    "# we can visualize and compare the result\n",
    "# it seems that DM tends to have a bias though the variance is quite small, \n",
    "# while (trajectory-wise) importance sampling estimators have a smaller bias with a larger variance.\n",
    "# self-normalized estimators also works well\n",
    "ope.visualize_off_policy_estimates(input_dict, random_state=random_state, sharey=False)"
   ]
  },
  {
   "cell_type": "code",
   "execution_count": 51,
   "metadata": {},
   "outputs": [
    {
     "data": {
      "text/html": [
       "<div>\n",
       "<style scoped>\n",
       "    .dataframe tbody tr th:only-of-type {\n",
       "        vertical-align: middle;\n",
       "    }\n",
       "\n",
       "    .dataframe tbody tr th {\n",
       "        vertical-align: top;\n",
       "    }\n",
       "\n",
       "    .dataframe thead th {\n",
       "        text-align: right;\n",
       "    }\n",
       "</style>\n",
       "<table border=\"1\" class=\"dataframe\">\n",
       "  <thead>\n",
       "    <tr style=\"text-align: right;\">\n",
       "      <th></th>\n",
       "      <th>cql</th>\n",
       "      <th>ddqn</th>\n",
       "      <th>random</th>\n",
       "    </tr>\n",
       "  </thead>\n",
       "  <tbody>\n",
       "    <tr>\n",
       "      <th>dm</th>\n",
       "      <td>0.573981</td>\n",
       "      <td>0.014992</td>\n",
       "      <td>2.732595</td>\n",
       "    </tr>\n",
       "    <tr>\n",
       "      <th>tis</th>\n",
       "      <td>195.612452</td>\n",
       "      <td>0.003576</td>\n",
       "      <td>50.991476</td>\n",
       "    </tr>\n",
       "    <tr>\n",
       "      <th>pdis</th>\n",
       "      <td>0.199937</td>\n",
       "      <td>0.008314</td>\n",
       "      <td>2.301663</td>\n",
       "    </tr>\n",
       "    <tr>\n",
       "      <th>dr</th>\n",
       "      <td>0.009669</td>\n",
       "      <td>0.007146</td>\n",
       "      <td>1.604087</td>\n",
       "    </tr>\n",
       "    <tr>\n",
       "      <th>sntis</th>\n",
       "      <td>17.778094</td>\n",
       "      <td>0.000563</td>\n",
       "      <td>1.569186</td>\n",
       "    </tr>\n",
       "    <tr>\n",
       "      <th>snpdis</th>\n",
       "      <td>0.087769</td>\n",
       "      <td>0.011467</td>\n",
       "      <td>0.028307</td>\n",
       "    </tr>\n",
       "    <tr>\n",
       "      <th>sndr</th>\n",
       "      <td>0.012791</td>\n",
       "      <td>0.006463</td>\n",
       "      <td>2.075281</td>\n",
       "    </tr>\n",
       "  </tbody>\n",
       "</table>\n",
       "</div>"
      ],
      "text/plain": [
       "               cql      ddqn     random\n",
       "dm        0.573981  0.014992   2.732595\n",
       "tis     195.612452  0.003576  50.991476\n",
       "pdis      0.199937  0.008314   2.301663\n",
       "dr        0.009669  0.007146   1.604087\n",
       "sntis    17.778094  0.000563   1.569186\n",
       "snpdis    0.087769  0.011467   0.028307\n",
       "sndr      0.012791  0.006463   2.075281"
      ]
     },
     "execution_count": 51,
     "metadata": {},
     "output_type": "execute_result"
    }
   ],
   "source": [
    "# squared-error (se) measures the estimation accuracy of OPE\n",
    "eval_metric_ope_df = ope.summarize_estimators_comparison(input_dict, metric=\"se\")\n",
    "eval_metric_ope_df"
   ]
  },
  {
   "cell_type": "markdown",
   "metadata": {},
   "source": [
    "For more advanced topics in OPE (e.g., cumulative distribution function estimation and distributionally robust estimation) and OPS, please refer to [examples/quickstart/rtb_synthetic_discrete_advanced.ipynb](https://github.com/negocia-inc/rtb_reinforcement_learing/blob/ope/examples/quickstart/rtb_synthetic_discrete_advanced.ipynb). \\\n",
    "For the examples in the continuous action space, please refer to [examples/quickstart/rtb_synthetic_continuous_basic.ipynb](https://github.com/negocia-inc/rtb_reinforcement_learing/blob/ope/examples/quickstart/rtb_synthetic_continuous_basic.ipynb)."
   ]
  },
  {
   "cell_type": "markdown",
   "metadata": {},
   "source": [
    "## Reference\n",
    "\n",
    "- Yuta Saito, Shunsuke Aihara, Megumi Matsutani, and Yusuke Narita. \\\n",
    "\"Open Bandit Dataset and Pipeline: Towards Realistic and Reproducible Off-Policy Evaluation.\", 2021.\n",
    "\n",
    "- Takuma Seno and Michita Imai. \\\n",
    "\"d3rlpy: An Offline Deep Reinforcement Library.\", 2021.\n",
    "\n",
    "- Sergey Levine, Aviral Kumar, George Tucker, and Justin Fu. \\\n",
    "\"Offline Reinforcement Learning: Tutorial, Review, and Perspectives on Open Problems.\" 2020.\n",
    "\n",
    "- Aviral Kumar, Aurick Zhou, George Tucker, and Sergey Levine. \\\n",
    "\"Conservative Q-Learning for Offline Reinforcement Learning.\", 2020.\n",
    "\n",
    "- Nathan Kallus and Masatoshi Uehara. \\\n",
    "\"Intrinsically Efficient, Stable, and Bounded Off-Policy Evaluation for Reinforcement Learning.\", 2019.\n",
    "\n",
    "- Hoang Le, Cameron Voloshin, and Yisong Yue. \\\n",
    "\"Batch Policy Learning under Constraints.\", 2019.\n",
    "\n",
    "- Di Wu, Xiujun Chen, Xun Yang, Hao Wang, Qing Tan, Xiaoxun Zhang, Jian Xu, and Kun Gai. \\\n",
    "\"Budget Constrained Bidding by Model-free Reinforcement Learning in Display Advertising.\", 2018.\n",
    "\n",
    "- Jun Zhao, Guang Qiu, Ziyu Guan, Wei Zhao, and Xiaofei He. \\\n",
    "\"Deep Reinforcement Learning for Sponsored Search Real-time Bidding.\", 2018.\n",
    "\n",
    "- Nan Jiang and Lihong Li. \\\n",
    "\"Doubly Robust Off-policy Value Evaluation for Reinforcement Learning.\", 2016.\n",
    "\n",
    "- Philip S. Thomas and Emma Brunskill. \\\n",
    "\"Data-Efficient Off-Policy Policy Evaluation for Reinforcement Learning.\", 2016.\n",
    "\n",
    "- Greg Brockman, Vicki Cheung, Ludwig Pettersson, Jonas Schneider, John Schulman, Jie Tang, and Wojciech Zaremba. \\\n",
    "\"OpenAI Gym.\", 2016.\n",
    "\n",
    "- Adith Swaminathan and Thorsten Joachims. \\\n",
    "\"The Self-Normalized Estimator for Counterfactual Learning.\", 2015.\n",
    "\n",
    "- Hado van Hasselt, Arthur Guez, and David Silver. \\\n",
    "\"Deep Reinforcement Learning with Double Q-learning.\", 2015.\n",
    "\n",
    "- Miroslav Dudík, Dumitru Erhan, John Langford, and Lihong Li. \\\n",
    "\"Doubly Robust Policy Evaluation and Optimization.\", 2014.\n",
    "\n",
    "- Alex Strehl, John Langford, Sham Kakade, and Lihong Li. \\\n",
    "\"Learning from Logged Implicit Exploration Data.\", 2010.\n",
    "\n",
    "- Alina Beygelzimer and John Langford. \\\n",
    "\"The Offset Tree for Learning with Partial Labels.\", 2009.\n",
    "\n",
    "- Doina Precup, Richard S. Sutton, and Satinder P. Singh. \\\n",
    "\"Eligibility Traces for Off-Policy Policy Evaluation.\", 2000."
   ]
  },
  {
   "cell_type": "code",
   "execution_count": null,
   "metadata": {},
   "outputs": [],
   "source": []
  }
 ],
 "metadata": {
  "kernelspec": {
   "display_name": "Python 3",
   "language": "python",
   "name": "python3"
  },
  "language_info": {
   "codemirror_mode": {
    "name": "ipython",
    "version": 3
   },
   "file_extension": ".py",
   "mimetype": "text/x-python",
   "name": "python",
   "nbconvert_exporter": "python",
   "pygments_lexer": "ipython3",
   "version": "3.8.5"
  }
 },
 "nbformat": 4,
 "nbformat_minor": 4
}
