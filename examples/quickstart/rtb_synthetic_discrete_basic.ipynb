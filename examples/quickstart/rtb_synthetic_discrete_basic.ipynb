{
 "cells": [
  {
   "cell_type": "markdown",
   "metadata": {},
   "source": [
    "# Quickstart Example with Synthetic RTB Simulation and Dataset (Discrete)\n",
    "This notebook provides an example of conducting **Off-policy Evaluation (OPE) and Offline Reinforcement Learning (Offline RL) with synthetic Real-Time Bidding (RTB) dataset**.\n",
    "\n",
    "Our example with Synthetic RTB Simualtion and Dataset contains the following 5 steps: \\\n",
    "0. (Setup Synthetic RTB Simulation Environment and Online RL)\n",
    "1. Synthetic Data Generation\n",
    "2. Offline Reinforcement Learning\n",
    "3. Off-Policy Evaluation and Evaluation of Offline RL methods\n",
    "4. Evaluation of OPE methods\n",
    "\n",
    "\\* This library uses [d3rlpy](https://github.com/takuseno/d3rlpy)'s algorithm implementations of online/offline rl policies and model-based evaluation.  \n",
    "\\* Also, our implementations of OPE are highly inspired by [Open Bandit Pipeline](https://github.com/st-tech/zr-obp)."
   ]
  },
  {
   "cell_type": "code",
   "execution_count": 1,
   "metadata": {},
   "outputs": [
    {
     "name": "stdout",
     "output_type": "stream",
     "text": [
      "The history saving thread hit an unexpected error (DatabaseError('database disk image is malformed')).History will not be written to the database.\n"
     ]
    }
   ],
   "source": [
    "# delete later\n",
    "%load_ext autoreload\n",
    "%autoreload 2"
   ]
  },
  {
   "cell_type": "code",
   "execution_count": 2,
   "metadata": {},
   "outputs": [],
   "source": [
    "# delete later\n",
    "import warnings\n",
    "warnings.simplefilter('ignore')"
   ]
  },
  {
   "cell_type": "code",
   "execution_count": 3,
   "metadata": {},
   "outputs": [],
   "source": [
    "# delete later\n",
    "import sys\n",
    "sys.path.append('../')\n",
    "sys.path.append('../../')"
   ]
  },
  {
   "cell_type": "code",
   "execution_count": 4,
   "metadata": {},
   "outputs": [],
   "source": [
    "# import offlinegym modules\n",
    "import offlinegym\n",
    "from rtbgym import RTBEnv, CustomizedRTBEnv\n",
    "from offlinegym.dataset import SyntheticDataset\n",
    "from offlinegym.policy import OnlineHead\n",
    "from offlinegym.ope.online import (\n",
    "    calc_on_policy_policy_value,\n",
    "    visualize_on_policy_policy_value,\n",
    ")\n",
    "\n",
    "# import d3rlpy algorithms\n",
    "from d3rlpy.algos import DiscreteRandomPolicy\n",
    "from d3rlpy.algos import RandomPolicy as ContinuousRandomPolicy\n",
    "from d3rlpy.preprocessing import MinMaxActionScaler\n",
    "\n",
    "# import from other libraries\n",
    "import torch\n",
    "from sklearn.linear_model import LogisticRegression\n",
    "from sklearn.model_selection import train_test_split"
   ]
  },
  {
   "cell_type": "code",
   "execution_count": 5,
   "metadata": {},
   "outputs": [],
   "source": [
    "import pickle\n",
    "from glob import glob\n",
    "from tqdm import tqdm\n",
    "\n",
    "import numpy as np\n",
    "import pandas as pd\n",
    "\n",
    "import matplotlib.pyplot as plt\n",
    "import seaborn as sns\n",
    "\n",
    "%matplotlib inline"
   ]
  },
  {
   "cell_type": "code",
   "execution_count": 6,
   "metadata": {},
   "outputs": [
    {
     "name": "stdout",
     "output_type": "stream",
     "text": [
      "0.0.0\n"
     ]
    }
   ],
   "source": [
    "# version\n",
    "print(offlinegym.__version__)"
   ]
  },
  {
   "cell_type": "code",
   "execution_count": 7,
   "metadata": {},
   "outputs": [],
   "source": [
    "# set random state\n",
    "random_state = 12345"
   ]
  },
  {
   "cell_type": "code",
   "execution_count": 8,
   "metadata": {},
   "outputs": [],
   "source": [
    "# log directory\n",
    "from pathlib import Path\n",
    "Path(\"logs/\").mkdir(exist_ok=True)"
   ]
  },
  {
   "cell_type": "markdown",
   "metadata": {},
   "source": [
    "## 0. (Setup Synthetic RTB Simulation Environment and Online RL)\n",
    "To begin with, we briefly describe how the RTB environment works for the preparation.\n",
    "\n",
    "#### RL setup for RTB\n",
    "In RTB, the objective of the RL agent is to maximize some KPIs (such as numbers of click or conversion) within a episode under the given budget constraints.  \n",
    "We often try to achieve this by adjusting bidding price function parameter $\\alpha$. By using $\\alpha$, we adjust bid price as follows.  \n",
    "$bid_{t,i} = \\alpha \\cdot r^{\\ast}$, \n",
    "where $r^{\\ast}$ denotes predicted or expected reward (KPIs).\n",
    "\n",
    "We often formulate this RTB problem as the following Constrained Markov Decision Process (CMDP):\n",
    "- `timestep`: One episode (a day or a week) consists of several timesteps (24 hours or seven days, for instance).\n",
    "- `state`: We observe statistical feedback from environment at each timestep, which include following informations.\n",
    "  - timestep\n",
    "  - remaining budget\n",
    "  - impression level features (budget comsuption rate, cost per mille of impressions, auction winning rate, reward) at previous timestep\n",
    "  - adjust rate (RL agent's decision making) at previous timestep\n",
    "- `action`: Agent chooses adjust rate parameter $\\alpha$ to maximize KPIs.\n",
    "- `reward`: Total number of clicks or conversions obtained during the timestep.\n",
    "- `constraints`: The pre-determined episodic budget should not be exceeded.\n",
    "\n",
    "For more about the environmental configuration , please refer to [examples/quickstart/rtb_synthetic_customize_env.ipynb](https://github.com/negocia-inc/rtb_reinforcement_learing/blob/ope/examples/quickstart/rtb_synthetic_customize_env.ipynb).\n",
    "\n",
    "Let's see how it works!"
   ]
  },
  {
   "cell_type": "code",
   "execution_count": 9,
   "metadata": {},
   "outputs": [],
   "source": [
    "# setup environment\n",
    "env = RTBEnv(random_state=random_state)"
   ]
  },
  {
   "cell_type": "code",
   "execution_count": 10,
   "metadata": {},
   "outputs": [],
   "source": [
    "# define random agent\n",
    "agent = OnlineHead(\n",
    "    ContinuousRandomPolicy(\n",
    "        action_scaler=MinMaxActionScaler(\n",
    "            minimum=0.1,  # minimum value that policy can take\n",
    "            maximum=10,  # maximum value that policy can take\n",
    "        )\n",
    "    )\n",
    ")"
   ]
  },
  {
   "cell_type": "code",
   "execution_count": 11,
   "metadata": {},
   "outputs": [],
   "source": [
    "# interact agent with environment\n",
    "# only 6 lines needed for RL interaction\n",
    "for episode in range(10):\n",
    "    obs = env.reset()\n",
    "    done = False\n",
    "\n",
    "    while not done:\n",
    "        action = agent.predict_online(obs)\n",
    "        obs, reward, done, info = env.step(action)"
   ]
  },
  {
   "cell_type": "code",
   "execution_count": 12,
   "metadata": {},
   "outputs": [
    {
     "name": "stdout",
     "output_type": "stream",
     "text": [
      "['timestep', 'remaining_budget', 'budget_consumption_rate', 'cost_per_mille_of_impression', 'winning_rate', 'reward', 'adjust_rate']\n",
      "(7,)\n"
     ]
    }
   ],
   "source": [
    "# state contains the following statistical feedback from environment\n",
    "print(env.obs_keys)\n",
    "print(obs.shape)"
   ]
  },
  {
   "cell_type": "code",
   "execution_count": 13,
   "metadata": {},
   "outputs": [
    {
     "data": {
      "image/png": "[encoded data removed]",
      "text/plain": [
       "<Figure size 432x288 with 2 Axes>"
      ]
     },
     "metadata": {
      "needs_background": "light"
     },
     "output_type": "display_data"
    }
   ],
   "source": [
    "# let's visualize the transition of remaing budget and cumulative reward\n",
    "# our goal is to gain a policy (i.e., agent) which maximize the cumulative reward under budget constraints using RL.  \n",
    "obs = env.reset()\n",
    "done = False\n",
    "remaining_budget = [obs[1]]\n",
    "cumulative_reward = [0]\n",
    "\n",
    "while not done:\n",
    "    action = agent.predict_online(obs)\n",
    "    obs, reward, done, info = env.step(action)\n",
    "    remaining_budget.append(obs[1])\n",
    "    cumulative_reward.append(cumulative_reward[-1] + reward)\n",
    "\n",
    "# plot\n",
    "fig = plt.figure()\n",
    "ax1 = fig.add_subplot(111)\n",
    "ax1.plot(remaining_budget[:-1], label='remaining budget')\n",
    "ax2 = ax1.twinx()\n",
    "ax2.plot(cumulative_reward[:-1], label='cumulative reward', color='tab:orange')\n",
    "ax1.set_xlabel('timestep')\n",
    "ax1.set_ylabel('remainig budget')\n",
    "ax1.set_ylim(0, env.initial_budget + 100)\n",
    "ax2.set_ylabel('reward (coversion)')\n",
    "ax1.legend(loc='upper left')\n",
    "ax2.legend(loc='upper right')\n",
    "plt.show()"
   ]
  },
  {
   "cell_type": "markdown",
   "metadata": {},
   "source": [
    "We see that the random policy soon run out the budget.  \n",
    "Our goal is to derive a policy that controls the adjust rate (i.e., action) to maximize the reward within the given budget constraints."
   ]
  },
  {
   "cell_type": "markdown",
   "metadata": {},
   "source": [
    "#### Customization of bidding setup in RTB Env\n",
    "Here, we describe how the decision makers customize their own RTB environment.  \n",
    "Specifically, they can setup their own action space and bid price calculation rules by defining the following modules.\n",
    "- `reward_predictor` in Bidder class  \n",
    "    We use predicted rewards to calculate bid price.  \n",
    "        bid price = adjust rate * predicted reward ( * constant)\n",
    "    If None, we use ground-truth reward instead of predicted reward.  \n",
    "\n",
    "- `scaler` in Bidder class\n",
    "    Scaler defines constant in the bid price calculation.  \n",
    "        bid price = adjust rate * predicted reward ( * constant)\n",
    "        constant = scaler * standard_bid_price\n",
    "    where standard_bid_price indicates the average of standard_bid_price  \n",
    "    (bid price which has approximately 50% impression probability) over all ads.\n",
    "\n",
    "- `action_space` for agent  \n",
    "    We transform continual adjust rate space $[0, \\infty)$ into agent action space $[0.1, 10]$.  \n",
    "    Both discrete and continuous actions are acceptable.  \n",
    "    (We can tune multiplication of adjust rate using scaler.)\n",
    "    \n",
    "The arguments are given as follows:\n",
    "- `original_env`: Original RTB Environment.\n",
    "- `reward_predictor`: A machine learning model to predict the reward to determine the bidding price.\n",
    "- `scaler`: Scaling factor (constant value) used for bid price determination. (`None` for the auto-fitting)\n",
    "- `action_min`: Minimum value of adjust rate.\n",
    "- `action_max`: Maximum value of adjust rate.\n",
    "- `action_type`: Action type of the RL agent, which is either \"discrete\" or \"continuous\".\n",
    "- `n_actions`: Number of \"discrete\" actions.\n",
    "- `action_meaning`: Mapping function of agent action index to the actual \"discrete\" action to take."
   ]
  },
  {
   "cell_type": "code",
   "execution_count": 14,
   "metadata": {},
   "outputs": [],
   "source": [
    "# now, let's customize the environment and discretize action space\n",
    "env = CustomizedRTBEnv(\n",
    "    original_env=env,\n",
    "    reward_predictor=LogisticRegression(),\n",
    "    action_type=\"discrete\",\n",
    ")"
   ]
  },
  {
   "cell_type": "code",
   "execution_count": 15,
   "metadata": {},
   "outputs": [],
   "source": [
    "agent = OnlineHead(DiscreteRandomPolicy())\n",
    "agent.build_with_env(env)  # set discrete action space"
   ]
  },
  {
   "cell_type": "code",
   "execution_count": 16,
   "metadata": {},
   "outputs": [],
   "source": [
    "# interact agent with environment\n",
    "for episode in range(10):\n",
    "    obs = env.reset()\n",
    "    done = False\n",
    "\n",
    "    while not done:\n",
    "        action = agent.predict_online(obs)\n",
    "        obs, reward, done, info = env.step(action)"
   ]
  },
  {
   "cell_type": "code",
   "execution_count": 17,
   "metadata": {},
   "outputs": [
    {
     "name": "stdout",
     "output_type": "stream",
     "text": [
      "Discrete(10)\n",
      "[ 0.1         0.16681005  0.27825594  0.46415888  0.77426368  1.29154967\n",
      "  2.15443469  3.59381366  5.9948425  10.        ]\n"
     ]
    }
   ],
   "source": [
    "print(env.action_space)\n",
    "print(env.action_meaning)"
   ]
  },
  {
   "cell_type": "markdown",
   "metadata": {},
   "source": [
    "For more about the customization of environmental configuration , please refer to [examples/quickstart/rtb_synthetic_customize_env.ipynb](https://github.com/negocia-inc/rtb_reinforcement_learing/blob/ope/examples/quickstart/rtb_synthetic_customize_env.ipynb)."
   ]
  },
  {
   "cell_type": "markdown",
   "metadata": {},
   "source": [
    "#### Online RL and comparison of the policies\n",
    "We now learn an online RL policy and compare it to random policy, using on-policy policy estimation."
   ]
  },
  {
   "cell_type": "code",
   "execution_count": 18,
   "metadata": {},
   "outputs": [],
   "source": [
    "from d3rlpy.algos import DoubleDQN\n",
    "from d3rlpy.models.encoders import VectorEncoderFactory\n",
    "from d3rlpy.models.q_functions import MeanQFunctionFactory\n",
    "from d3rlpy.online.buffers import ReplayBuffer\n",
    "from d3rlpy.online.explorers import LinearDecayEpsilonGreedy\n",
    "\n",
    "# model\n",
    "ddqn = DoubleDQN(\n",
    "    encoder_factory=VectorEncoderFactory(hidden_units=[30, 30]),\n",
    "    q_func_factory=MeanQFunctionFactory(),\n",
    "    target_update_interval=100,\n",
    "    use_gpu=torch.cuda.is_available(),\n",
    ")\n",
    "# replay buffer\n",
    "buffer = ReplayBuffer(\n",
    "    maxlen=10000,\n",
    "    env=env,\n",
    ")\n",
    "# explorers\n",
    "explorer = LinearDecayEpsilonGreedy(\n",
    "    start_epsilon=1.0,\n",
    "    end_epsilon=0.1,\n",
    "    duration=1000,\n",
    ")"
   ]
  },
  {
   "cell_type": "code",
   "execution_count": 22,
   "metadata": {},
   "outputs": [
    {
     "name": "stdout",
     "output_type": "stream",
     "text": [
      "2022-04-09 10:41.47 [info     ] Directory is created at d3rlpy_logs/DoubleDQN_online_20220409104147\n",
      "2022-04-09 10:41.47 [debug    ] Building model...\n",
      "2022-04-09 10:41.47 [debug    ] Model has been built.\n",
      "2022-04-09 10:41.47 [info     ] Parameters are saved to d3rlpy_logs/DoubleDQN_online_20220409104147/params.json params={'action_scaler': None, 'batch_size': 32, 'encoder_factory': {'type': 'vector', 'params': {'hidden_units': [30, 30], 'activation': 'relu', 'use_batch_norm': False, 'dropout_rate': None, 'use_dense': False}}, 'gamma': 0.99, 'generated_maxlen': 100000, 'learning_rate': 6.25e-05, 'n_critics': 1, 'n_frames': 1, 'n_steps': 1, 'optim_factory': {'optim_cls': 'Adam', 'betas': (0.9, 0.999), 'eps': 1e-08, 'weight_decay': 0, 'amsgrad': False}, 'q_func_factory': {'type': 'mean', 'params': {'bootstrap': False, 'share_encoder': False}}, 'real_ratio': 1.0, 'reward_scaler': None, 'scaler': None, 'target_reduction_type': 'min', 'target_update_interval': 100, 'use_gpu': None, 'algorithm': 'DoubleDQN', 'observation_shape': (7,), 'action_size': 10}\n"
     ]
    },
    {
     "name": "stderr",
     "output_type": "stream",
     "text": [
      "  1%|          | 979/100000 [00:02<03:33, 463.73it/s]"
     ]
    },
    {
     "name": "stdout",
     "output_type": "stream",
     "text": [
      "2022-04-09 10:41.49 [info     ] Model parameters are saved to d3rlpy_logs/DoubleDQN_online_20220409104147/model_1000.pt\n",
      "2022-04-09 10:41.49 [info     ] DoubleDQN_online_20220409104147: epoch=1 step=1000 epoch=1 metrics={'time_inference': 0.00032339286804199216, 'time_environment_step': 0.0006163994925362723, 'time_step': 0.0022282426357269286, 'rollout_return': 10.44, 'time_sample_batch': 7.586191995369188e-05, 'time_algorithm_update': 0.0012861929702362663, 'loss': 80.8681693389037, 'evaluation': 0.0} step=1000\n"
     ]
    },
    {
     "name": "stderr",
     "output_type": "stream",
     "text": [
      "  2%|▏         | 1976/100000 [00:04<03:19, 491.06it/s]"
     ]
    },
    {
     "name": "stdout",
     "output_type": "stream",
     "text": [
      "2022-04-09 10:41.51 [info     ] Model parameters are saved to d3rlpy_logs/DoubleDQN_online_20220409104147/model_2000.pt\n",
      "2022-04-09 10:41.51 [info     ] DoubleDQN_online_20220409104147: epoch=2 step=2000 epoch=2 metrics={'time_inference': 0.0002746226787567139, 'time_environment_step': 0.0005581989288330078, 'time_sample_batch': 6.869459152221679e-05, 'time_algorithm_update': 0.0011494145393371581, 'loss': 19.57934263432026, 'time_step': 0.002031181573867798, 'rollout_return': 1.856, 'evaluation': 0.0} step=2000\n"
     ]
    },
    {
     "name": "stderr",
     "output_type": "stream",
     "text": [
      "  3%|▎         | 2989/100000 [00:06<03:36, 449.00it/s]"
     ]
    },
    {
     "name": "stdout",
     "output_type": "stream",
     "text": [
      "2022-04-09 10:41.53 [info     ] Model parameters are saved to d3rlpy_logs/DoubleDQN_online_20220409104147/model_3000.pt\n",
      "2022-04-09 10:41.53 [info     ] DoubleDQN_online_20220409104147: epoch=3 step=3000 epoch=3 metrics={'time_inference': 0.0002891077995300293, 'time_environment_step': 0.0005884053366524833, 'time_sample_batch': 7.436418533325195e-05, 'time_algorithm_update': 0.001203052282333374, 'loss': 16.456129159092903, 'time_step': 0.002133618116378784, 'rollout_return': 1.56, 'evaluation': 1.2} step=3000\n"
     ]
    },
    {
     "name": "stderr",
     "output_type": "stream",
     "text": [
      "  4%|▍         | 3966/100000 [00:08<03:25, 468.29it/s]"
     ]
    },
    {
     "name": "stdout",
     "output_type": "stream",
     "text": [
      "2022-04-09 10:41.56 [info     ] Model parameters are saved to d3rlpy_logs/DoubleDQN_online_20220409104147/model_4000.pt\n",
      "2022-04-09 10:41.56 [info     ] DoubleDQN_online_20220409104147: epoch=4 step=4000 epoch=4 metrics={'time_inference': 0.0002815704345703125, 'time_environment_step': 0.0005663612910679408, 'time_sample_batch': 7.241582870483398e-05, 'time_algorithm_update': 0.001183159351348877, 'loss': 15.631553725123405, 'time_step': 0.0020846190452575683, 'rollout_return': 1.416, 'evaluation': 0.4} step=4000\n"
     ]
    },
    {
     "name": "stderr",
     "output_type": "stream",
     "text": [
      "  5%|▍         | 4980/100000 [00:10<03:23, 467.03it/s]"
     ]
    },
    {
     "name": "stdout",
     "output_type": "stream",
     "text": [
      "2022-04-09 10:41.58 [info     ] Model parameters are saved to d3rlpy_logs/DoubleDQN_online_20220409104147/model_5000.pt\n",
      "2022-04-09 10:41.58 [info     ] DoubleDQN_online_20220409104147: epoch=5 step=5000 epoch=5 metrics={'time_inference': 0.00028580141067504884, 'time_environment_step': 0.0005775672367640904, 'time_sample_batch': 7.402443885803223e-05, 'time_algorithm_update': 0.0011859931945800782, 'loss': 14.110002030700445, 'time_step': 0.002103715419769287, 'rollout_return': 1.76, 'evaluation': 0.0} step=5000\n"
     ]
    },
    {
     "name": "stderr",
     "output_type": "stream",
     "text": [
      "  6%|▌         | 5969/100000 [00:13<03:13, 484.98it/s]"
     ]
    },
    {
     "name": "stdout",
     "output_type": "stream",
     "text": [
      "2022-04-09 10:42.00 [info     ] Model parameters are saved to d3rlpy_logs/DoubleDQN_online_20220409104147/model_6000.pt\n",
      "2022-04-09 10:42.00 [info     ] DoubleDQN_online_20220409104147: epoch=6 step=6000 epoch=6 metrics={'time_inference': 0.00027699041366577147, 'time_environment_step': 0.0005608664921351842, 'time_sample_batch': 7.207655906677246e-05, 'time_algorithm_update': 0.0011579101085662843, 'loss': 12.935853615403175, 'time_step': 0.00204856276512146, 'rollout_return': 1.376, 'evaluation': 0.0} step=6000\n"
     ]
    },
    {
     "name": "stderr",
     "output_type": "stream",
     "text": [
      "  7%|▋         | 6995/100000 [00:15<03:20, 463.31it/s]"
     ]
    },
    {
     "name": "stdout",
     "output_type": "stream",
     "text": [
      "2022-04-09 10:42.02 [info     ] Model parameters are saved to d3rlpy_logs/DoubleDQN_online_20220409104147/model_7000.pt\n",
      "2022-04-09 10:42.02 [info     ] DoubleDQN_online_20220409104147: epoch=7 step=7000 epoch=7 metrics={'time_inference': 0.00028345131874084475, 'time_environment_step': 0.0005767721448625837, 'time_sample_batch': 7.393574714660644e-05, 'time_algorithm_update': 0.0011892096996307373, 'loss': 11.616702338933944, 'time_step': 0.0021031804084777833, 'rollout_return': 1.512, 'evaluation': 0.0} step=7000\n"
     ]
    },
    {
     "name": "stderr",
     "output_type": "stream",
     "text": [
      "  8%|▊         | 7995/100000 [00:17<03:14, 472.59it/s]"
     ]
    },
    {
     "name": "stdout",
     "output_type": "stream",
     "text": [
      "2022-04-09 10:42.04 [info     ] Model parameters are saved to d3rlpy_logs/DoubleDQN_online_20220409104147/model_8000.pt\n",
      "2022-04-09 10:42.04 [info     ] DoubleDQN_online_20220409104147: epoch=8 step=8000 epoch=8 metrics={'time_inference': 0.0002905082702636719, 'time_environment_step': 0.0005914216722760882, 'time_sample_batch': 7.584500312805176e-05, 'time_algorithm_update': 0.0012026135921478272, 'loss': 10.093089960575103, 'time_step': 0.0021391687393188478, 'rollout_return': 1.952, 'evaluation': 1.5} step=8000\n"
     ]
    },
    {
     "name": "stderr",
     "output_type": "stream",
     "text": [
      "  9%|▉         | 8983/100000 [00:19<03:09, 481.00it/s]"
     ]
    },
    {
     "name": "stdout",
     "output_type": "stream",
     "text": [
      "2022-04-09 10:42.07 [info     ] Model parameters are saved to d3rlpy_logs/DoubleDQN_online_20220409104147/model_9000.pt\n",
      "2022-04-09 10:42.07 [info     ] DoubleDQN_online_20220409104147: epoch=9 step=9000 epoch=9 metrics={'time_inference': 0.00027648138999938963, 'time_environment_step': 0.0005602942875453404, 'time_sample_batch': 7.256698608398437e-05, 'time_algorithm_update': 0.0011560182571411133, 'loss': 9.059152806699275, 'time_step': 0.002045757293701172, 'rollout_return': 1.592, 'evaluation': 0.0} step=9000\n"
     ]
    },
    {
     "name": "stderr",
     "output_type": "stream",
     "text": [
      " 10%|▉         | 9983/100000 [00:22<03:09, 474.87it/s]"
     ]
    },
    {
     "name": "stdout",
     "output_type": "stream",
     "text": [
      "2022-04-09 10:42.09 [info     ] Model parameters are saved to d3rlpy_logs/DoubleDQN_online_20220409104147/model_10000.pt\n",
      "2022-04-09 10:42.09 [info     ] DoubleDQN_online_20220409104147: epoch=10 step=10000 epoch=10 metrics={'time_inference': 0.00029134798049926757, 'time_environment_step': 0.0005962189265659877, 'time_sample_batch': 7.789540290832519e-05, 'time_algorithm_update': 0.0012424483299255371, 'loss': 7.312947622835636, 'time_step': 0.002187281847000122, 'rollout_return': 1.6, 'evaluation': 0.0} step=10000\n"
     ]
    },
    {
     "name": "stderr",
     "output_type": "stream",
     "text": [
      " 11%|█         | 10976/100000 [00:24<03:06, 478.31it/s]"
     ]
    },
    {
     "name": "stdout",
     "output_type": "stream",
     "text": [
      "2022-04-09 10:42.11 [info     ] Model parameters are saved to d3rlpy_logs/DoubleDQN_online_20220409104147/model_11000.pt\n",
      "2022-04-09 10:42.11 [info     ] DoubleDQN_online_20220409104147: epoch=11 step=11000 epoch=11 metrics={'time_inference': 0.0002779412269592285, 'time_environment_step': 0.0005600057329450335, 'time_sample_batch': 7.370662689208985e-05, 'time_algorithm_update': 0.0011619675159454347, 'loss': 6.64919526784122, 'time_step': 0.002054337501525879, 'rollout_return': 1.536, 'evaluation': 0.0} step=11000\n"
     ]
    },
    {
     "name": "stderr",
     "output_type": "stream",
     "text": [
      " 12%|█▏        | 11983/100000 [00:26<03:14, 453.18it/s]"
     ]
    },
    {
     "name": "stdout",
     "output_type": "stream",
     "text": [
      "2022-04-09 10:42.13 [info     ] Model parameters are saved to d3rlpy_logs/DoubleDQN_online_20220409104147/model_12000.pt\n",
      "2022-04-09 10:42.13 [info     ] DoubleDQN_online_20220409104147: epoch=12 step=12000 epoch=12 metrics={'time_inference': 0.0002971034049987793, 'time_environment_step': 0.0006046093532017299, 'time_sample_batch': 7.884860038757324e-05, 'time_algorithm_update': 0.0012351305484771728, 'loss': 5.7939787733852866, 'time_step': 0.0021957483291625978, 'rollout_return': 1.928, 'evaluation': 0.0} step=12000\n"
     ]
    },
    {
     "name": "stderr",
     "output_type": "stream",
     "text": [
      " 13%|█▎        | 12956/100000 [00:28<03:11, 454.45it/s]"
     ]
    },
    {
     "name": "stdout",
     "output_type": "stream",
     "text": [
      "2022-04-09 10:42.15 [info     ] Model parameters are saved to d3rlpy_logs/DoubleDQN_online_20220409104147/model_13000.pt\n",
      "2022-04-09 10:42.16 [info     ] DoubleDQN_online_20220409104147: epoch=13 step=13000 epoch=13 metrics={'time_inference': 0.00028112125396728514, 'time_environment_step': 0.0005705283028738839, 'time_sample_batch': 7.509136199951172e-05, 'time_algorithm_update': 0.001186537742614746, 'loss': 5.209417390227318, 'time_step': 0.0020948004722595214, 'rollout_return': 2.128, 'evaluation': 2.2} step=13000\n"
     ]
    },
    {
     "name": "stderr",
     "output_type": "stream",
     "text": [
      " 14%|█▍        | 13956/100000 [00:30<03:18, 434.07it/s]"
     ]
    },
    {
     "name": "stdout",
     "output_type": "stream",
     "text": [
      "2022-04-09 10:42.18 [info     ] Model parameters are saved to d3rlpy_logs/DoubleDQN_online_20220409104147/model_14000.pt\n",
      "2022-04-09 10:42.18 [info     ] DoubleDQN_online_20220409104147: epoch=14 step=14000 epoch=14 metrics={'time_inference': 0.0002961080074310303, 'time_environment_step': 0.0005995772225516183, 'time_sample_batch': 7.900619506835937e-05, 'time_algorithm_update': 0.00125787353515625, 'loss': 4.30979447466135, 'time_step': 0.0022126386165618895, 'rollout_return': 2.632, 'evaluation': 0.0} step=14000\n"
     ]
    },
    {
     "name": "stderr",
     "output_type": "stream",
     "text": [
      " 15%|█▍        | 14995/100000 [00:33<03:17, 430.91it/s]"
     ]
    },
    {
     "name": "stdout",
     "output_type": "stream",
     "text": [
      "2022-04-09 10:42.20 [info     ] Model parameters are saved to d3rlpy_logs/DoubleDQN_online_20220409104147/model_15000.pt\n",
      "2022-04-09 10:42.20 [info     ] DoubleDQN_online_20220409104147: epoch=15 step=15000 epoch=15 metrics={'time_inference': 0.00029196929931640624, 'time_environment_step': 0.0005907772609165736, 'time_sample_batch': 7.74984359741211e-05, 'time_algorithm_update': 0.0012225613594055175, 'loss': 3.520606608182192, 'time_step': 0.002164036750793457, 'rollout_return': 4.72, 'evaluation': 0.0} step=15000\n"
     ]
    },
    {
     "name": "stderr",
     "output_type": "stream",
     "text": [
      " 16%|█▌        | 15955/100000 [00:35<02:58, 472.15it/s]"
     ]
    },
    {
     "name": "stdout",
     "output_type": "stream",
     "text": [
      "2022-04-09 10:42.22 [info     ] Model parameters are saved to d3rlpy_logs/DoubleDQN_online_20220409104147/model_16000.pt\n",
      "2022-04-09 10:42.22 [info     ] DoubleDQN_online_20220409104147: epoch=16 step=16000 epoch=16 metrics={'time_inference': 0.00028818130493164063, 'time_environment_step': 0.0005876928056989398, 'time_sample_batch': 7.796359062194824e-05, 'time_algorithm_update': 0.0012150096893310547, 'loss': 2.5656562702059746, 'time_step': 0.002150252103805542, 'rollout_return': 7.984, 'evaluation': 13.6} step=16000\n"
     ]
    },
    {
     "name": "stderr",
     "output_type": "stream",
     "text": [
      " 17%|█▋        | 16983/100000 [00:37<02:48, 492.39it/s]"
     ]
    },
    {
     "name": "stdout",
     "output_type": "stream",
     "text": [
      "2022-04-09 10:42.25 [info     ] Model parameters are saved to d3rlpy_logs/DoubleDQN_online_20220409104147/model_17000.pt\n",
      "2022-04-09 10:42.25 [info     ] DoubleDQN_online_20220409104147: epoch=17 step=17000 epoch=17 metrics={'time_inference': 0.00027965021133422854, 'time_environment_step': 0.0005666280473981584, 'time_sample_batch': 7.4798583984375e-05, 'time_algorithm_update': 0.0011755533218383788, 'loss': 2.077694919705391, 'time_step': 0.002078227519989014, 'rollout_return': 12.648, 'evaluation': 16.0} step=17000\n"
     ]
    },
    {
     "name": "stderr",
     "output_type": "stream",
     "text": [
      " 18%|█▊        | 17983/100000 [00:40<03:30, 389.40it/s]"
     ]
    },
    {
     "name": "stdout",
     "output_type": "stream",
     "text": [
      "2022-04-09 10:42.27 [info     ] Model parameters are saved to d3rlpy_logs/DoubleDQN_online_20220409104147/model_18000.pt\n",
      "2022-04-09 10:42.27 [info     ] DoubleDQN_online_20220409104147: epoch=18 step=18000 epoch=18 metrics={'time_inference': 0.0003190455436706543, 'time_environment_step': 0.0006756561824253627, 'time_sample_batch': 9.484648704528809e-05, 'time_algorithm_update': 0.0016249988079071044, 'loss': 1.9401279214322567, 'time_step': 0.0026921486854553224, 'rollout_return': 13.224, 'evaluation': 14.9} step=18000\n"
     ]
    },
    {
     "name": "stderr",
     "output_type": "stream",
     "text": [
      " 19%|█▉        | 18980/100000 [00:43<03:56, 342.10it/s]"
     ]
    },
    {
     "name": "stdout",
     "output_type": "stream",
     "text": [
      "2022-04-09 10:42.30 [info     ] Model parameters are saved to d3rlpy_logs/DoubleDQN_online_20220409104147/model_19000.pt\n",
      "2022-04-09 10:42.30 [info     ] DoubleDQN_online_20220409104147: epoch=19 step=19000 epoch=19 metrics={'time_inference': 0.00033124923706054685, 'time_environment_step': 0.0006805951254708427, 'time_sample_batch': 8.996295928955078e-05, 'time_algorithm_update': 0.0016328761577606202, 'loss': 1.8604962202906608, 'time_step': 0.002718545436859131, 'rollout_return': 12.64, 'evaluation': 16.5} step=19000\n"
     ]
    },
    {
     "name": "stderr",
     "output_type": "stream",
     "text": [
      " 20%|█▉        | 19992/100000 [00:46<03:32, 377.21it/s]"
     ]
    },
    {
     "name": "stdout",
     "output_type": "stream",
     "text": [
      "2022-04-09 10:42.33 [info     ] Model parameters are saved to d3rlpy_logs/DoubleDQN_online_20220409104147/model_20000.pt\n",
      "2022-04-09 10:42.33 [info     ] DoubleDQN_online_20220409104147: epoch=20 step=20000 epoch=20 metrics={'time_inference': 0.00035521912574768065, 'time_environment_step': 0.0007280630384172712, 'time_sample_batch': 9.25447940826416e-05, 'time_algorithm_update': 0.001715567111968994, 'loss': 1.7821054632663726, 'time_step': 0.0028728301525115965, 'rollout_return': 13.128, 'evaluation': 9.9} step=20000\n"
     ]
    },
    {
     "name": "stderr",
     "output_type": "stream",
     "text": [
      " 21%|██        | 20977/100000 [00:49<03:23, 388.49it/s]"
     ]
    },
    {
     "name": "stdout",
     "output_type": "stream",
     "text": [
      "2022-04-09 10:42.36 [info     ] Model parameters are saved to d3rlpy_logs/DoubleDQN_online_20220409104147/model_21000.pt\n",
      "2022-04-09 10:42.36 [info     ] DoubleDQN_online_20220409104147: epoch=21 step=21000 epoch=21 metrics={'time_inference': 0.00032256174087524415, 'time_environment_step': 0.0006676338740757533, 'time_sample_batch': 8.742237091064453e-05, 'time_algorithm_update': 0.0015440132617950439, 'loss': 1.6941093466430903, 'time_step': 0.0025968265533447264, 'rollout_return': 12.192, 'evaluation': 15.8} step=21000\n"
     ]
    },
    {
     "name": "stderr",
     "output_type": "stream",
     "text": [
      " 22%|██▏       | 21995/100000 [00:52<03:13, 402.19it/s]"
     ]
    },
    {
     "name": "stdout",
     "output_type": "stream",
     "text": [
      "2022-04-09 10:42.39 [info     ] Model parameters are saved to d3rlpy_logs/DoubleDQN_online_20220409104147/model_22000.pt\n",
      "2022-04-09 10:42.39 [info     ] DoubleDQN_online_20220409104147: epoch=22 step=22000 epoch=22 metrics={'time_inference': 0.00033205437660217287, 'time_environment_step': 0.0006592565264020647, 'time_sample_batch': 8.741974830627442e-05, 'time_algorithm_update': 0.0015621814727783203, 'loss': 1.5925979219973088, 'time_step': 0.002616863250732422, 'rollout_return': 13.848, 'evaluation': 14.4} step=22000\n"
     ]
    },
    {
     "name": "stderr",
     "output_type": "stream",
     "text": [
      " 23%|██▎       | 22974/100000 [00:54<03:20, 384.50it/s]"
     ]
    },
    {
     "name": "stdout",
     "output_type": "stream",
     "text": [
      "2022-04-09 10:42.42 [info     ] Model parameters are saved to d3rlpy_logs/DoubleDQN_online_20220409104147/model_23000.pt\n",
      "2022-04-09 10:42.42 [info     ] DoubleDQN_online_20220409104147: epoch=23 step=23000 epoch=23 metrics={'time_inference': 0.0003200268745422363, 'time_environment_step': 0.0006851844787597656, 'time_sample_batch': 9.319353103637695e-05, 'time_algorithm_update': 0.0015667474269866943, 'loss': 1.5497611692100763, 'time_step': 0.0026481335163116453, 'rollout_return': 13.432, 'evaluation': 15.8} step=23000\n"
     ]
    },
    {
     "name": "stderr",
     "output_type": "stream",
     "text": [
      " 24%|██▍       | 23962/100000 [00:57<03:25, 370.81it/s]"
     ]
    },
    {
     "name": "stdout",
     "output_type": "stream",
     "text": [
      "2022-04-09 10:42.45 [info     ] Model parameters are saved to d3rlpy_logs/DoubleDQN_online_20220409104147/model_24000.pt\n",
      "2022-04-09 10:42.45 [info     ] DoubleDQN_online_20220409104147: epoch=24 step=24000 epoch=24 metrics={'time_inference': 0.000342350959777832, 'time_environment_step': 0.0007027702331542969, 'time_sample_batch': 9.189271926879883e-05, 'time_algorithm_update': 0.0017959883213043214, 'loss': 1.3552301789671182, 'time_step': 0.0029115769863128664, 'rollout_return': 12.696, 'evaluation': 14.3} step=24000\n"
     ]
    },
    {
     "name": "stderr",
     "output_type": "stream",
     "text": [
      " 25%|██▍       | 24984/100000 [01:01<03:27, 361.87it/s]"
     ]
    },
    {
     "name": "stdout",
     "output_type": "stream",
     "text": [
      "2022-04-09 10:42.48 [info     ] Model parameters are saved to d3rlpy_logs/DoubleDQN_online_20220409104147/model_25000.pt\n",
      "2022-04-09 10:42.48 [info     ] DoubleDQN_online_20220409104147: epoch=25 step=25000 epoch=25 metrics={'time_inference': 0.00034581947326660156, 'time_environment_step': 0.0007194486345563616, 'time_sample_batch': 0.00011128902435302734, 'time_algorithm_update': 0.002172032356262207, 'loss': 1.3419468648433686, 'time_step': 0.0033205339908599853, 'rollout_return': 13.344, 'evaluation': 13.4} step=25000\n"
     ]
    },
    {
     "name": "stderr",
     "output_type": "stream",
     "text": [
      " 26%|██▌       | 25989/100000 [01:04<03:57, 311.29it/s]"
     ]
    },
    {
     "name": "stdout",
     "output_type": "stream",
     "text": [
      "2022-04-09 10:42.51 [info     ] Model parameters are saved to d3rlpy_logs/DoubleDQN_online_20220409104147/model_26000.pt\n",
      "2022-04-09 10:42.51 [info     ] DoubleDQN_online_20220409104147: epoch=26 step=26000 epoch=26 metrics={'time_inference': 0.00035597872734069826, 'time_environment_step': 0.0007315875462123325, 'time_sample_batch': 9.345507621765136e-05, 'time_algorithm_update': 0.0016915595531463623, 'loss': 1.1748178805410863, 'time_step': 0.0028551535606384276, 'rollout_return': 14.016, 'evaluation': 12.3} step=26000\n"
     ]
    },
    {
     "name": "stderr",
     "output_type": "stream",
     "text": [
      " 27%|██▋       | 26991/100000 [01:07<04:17, 283.62it/s]"
     ]
    },
    {
     "name": "stdout",
     "output_type": "stream",
     "text": [
      "2022-04-09 10:42.55 [info     ] Model parameters are saved to d3rlpy_logs/DoubleDQN_online_20220409104147/model_27000.pt\n",
      "2022-04-09 10:42.55 [info     ] DoubleDQN_online_20220409104147: epoch=27 step=27000 epoch=27 metrics={'time_inference': 0.00034310340881347655, 'time_environment_step': 0.0007223295484270368, 'time_sample_batch': 9.369874000549316e-05, 'time_algorithm_update': 0.0019140172004699708, 'loss': 1.092115253508091, 'time_step': 0.0030537321567535402, 'rollout_return': 13.32, 'evaluation': 15.2} step=27000\n"
     ]
    },
    {
     "name": "stderr",
     "output_type": "stream",
     "text": [
      " 28%|██▊       | 27976/100000 [01:10<03:49, 314.15it/s]"
     ]
    },
    {
     "name": "stdout",
     "output_type": "stream",
     "text": [
      "2022-04-09 10:42.58 [info     ] Model parameters are saved to d3rlpy_logs/DoubleDQN_online_20220409104147/model_28000.pt\n",
      "2022-04-09 10:42.58 [info     ] DoubleDQN_online_20220409104147: epoch=28 step=28000 epoch=28 metrics={'time_inference': 0.00036588621139526365, 'time_environment_step': 0.0007136407579694475, 'time_sample_batch': 9.32462215423584e-05, 'time_algorithm_update': 0.0016984632015228272, 'loss': 1.008702645599842, 'time_step': 0.002844372272491455, 'rollout_return': 14.112, 'evaluation': 0.0} step=28000\n"
     ]
    },
    {
     "name": "stderr",
     "output_type": "stream",
     "text": [
      " 29%|██▉       | 28974/100000 [01:14<07:56, 149.19it/s]"
     ]
    },
    {
     "name": "stdout",
     "output_type": "stream",
     "text": [
      "2022-04-09 10:43.01 [info     ] Model parameters are saved to d3rlpy_logs/DoubleDQN_online_20220409104147/model_29000.pt\n",
      "2022-04-09 10:43.01 [info     ] DoubleDQN_online_20220409104147: epoch=29 step=29000 epoch=29 metrics={'time_inference': 0.0003937509059906006, 'time_environment_step': 0.0007586517333984375, 'time_sample_batch': 9.828829765319824e-05, 'time_algorithm_update': 0.0021401214599609374, 'loss': 1.1166075946688652, 'time_step': 0.0033595690727233887, 'rollout_return': 13.056, 'evaluation': 14.2} step=29000\n"
     ]
    },
    {
     "name": "stderr",
     "output_type": "stream",
     "text": [
      " 30%|██▉       | 29970/100000 [01:17<03:06, 374.83it/s]"
     ]
    },
    {
     "name": "stdout",
     "output_type": "stream",
     "text": [
      "2022-04-09 10:43.04 [info     ] Model parameters are saved to d3rlpy_logs/DoubleDQN_online_20220409104147/model_30000.pt\n",
      "2022-04-09 10:43.04 [info     ] DoubleDQN_online_20220409104147: epoch=30 step=30000 epoch=30 metrics={'time_inference': 0.00034437155723571775, 'time_environment_step': 0.0007099672045026506, 'time_sample_batch': 9.452438354492187e-05, 'time_algorithm_update': 0.0015203628540039061, 'loss': 1.0119783925414085, 'time_step': 0.002643261432647705, 'rollout_return': 14.528, 'evaluation': 15.0} step=30000\n"
     ]
    },
    {
     "name": "stderr",
     "output_type": "stream",
     "text": [
      " 31%|███       | 30991/100000 [01:20<03:23, 339.69it/s]"
     ]
    },
    {
     "name": "stdout",
     "output_type": "stream",
     "text": [
      "2022-04-09 10:43.07 [info     ] Model parameters are saved to d3rlpy_logs/DoubleDQN_online_20220409104147/model_31000.pt\n",
      "2022-04-09 10:43.07 [info     ] DoubleDQN_online_20220409104147: epoch=31 step=31000 epoch=31 metrics={'time_inference': 0.0003990182876586914, 'time_environment_step': 0.0007945949009486608, 'time_sample_batch': 0.00010348987579345703, 'time_algorithm_update': 0.0017813060283660889, 'loss': 1.0172466499507427, 'time_step': 0.0030462915897369386, 'rollout_return': 13.72, 'evaluation': 14.3} step=31000\n"
     ]
    },
    {
     "name": "stderr",
     "output_type": "stream",
     "text": [
      " 32%|███▏      | 31983/100000 [01:23<02:58, 381.35it/s]"
     ]
    },
    {
     "name": "stdout",
     "output_type": "stream",
     "text": [
      "2022-04-09 10:43.10 [info     ] Model parameters are saved to d3rlpy_logs/DoubleDQN_online_20220409104147/model_32000.pt\n",
      "2022-04-09 10:43.10 [info     ] DoubleDQN_online_20220409104147: epoch=32 step=32000 epoch=32 metrics={'time_inference': 0.0003317704200744629, 'time_environment_step': 0.0006950956072126116, 'time_sample_batch': 9.247827529907227e-05, 'time_algorithm_update': 0.0015166552066802979, 'loss': 0.9922560476362705, 'time_step': 0.002609063148498535, 'rollout_return': 13.672, 'evaluation': 0.0} step=32000\n"
     ]
    },
    {
     "name": "stderr",
     "output_type": "stream",
     "text": [
      " 33%|███▎      | 32987/100000 [01:34<09:20, 119.50it/s]"
     ]
    },
    {
     "name": "stdout",
     "output_type": "stream",
     "text": [
      "2022-04-09 10:43.21 [info     ] Model parameters are saved to d3rlpy_logs/DoubleDQN_online_20220409104147/model_33000.pt\n",
      "2022-04-09 10:43.21 [info     ] DoubleDQN_online_20220409104147: epoch=33 step=33000 epoch=33 metrics={'time_inference': 0.0004917464256286621, 'time_environment_step': 0.0008702035631452287, 'time_sample_batch': 9.90908145904541e-05, 'time_algorithm_update': 0.00851004695892334, 'loss': 0.9779511768221855, 'time_step': 0.009927781105041503, 'rollout_return': 14.792, 'evaluation': 18.1} step=33000\n"
     ]
    },
    {
     "name": "stderr",
     "output_type": "stream",
     "text": [
      " 34%|███▍      | 33993/100000 [01:45<08:40, 126.72it/s]"
     ]
    },
    {
     "name": "stdout",
     "output_type": "stream",
     "text": [
      "2022-04-09 10:43.32 [info     ] Model parameters are saved to d3rlpy_logs/DoubleDQN_online_20220409104147/model_34000.pt\n",
      "2022-04-09 10:43.32 [info     ] DoubleDQN_online_20220409104147: epoch=34 step=34000 epoch=34 metrics={'time_inference': 0.00047272539138793943, 'time_environment_step': 0.0008099370683942522, 'time_sample_batch': 0.00011912465095520019, 'time_algorithm_update': 0.008506783962249756, 'loss': 0.9682067225277424, 'time_step': 0.009916297435760498, 'rollout_return': 14.896, 'evaluation': 16.8} step=34000\n"
     ]
    },
    {
     "name": "stderr",
     "output_type": "stream",
     "text": [
      " 35%|███▍      | 34997/100000 [01:56<10:31, 102.93it/s]"
     ]
    },
    {
     "name": "stdout",
     "output_type": "stream",
     "text": [
      "2022-04-09 10:43.43 [info     ] Model parameters are saved to d3rlpy_logs/DoubleDQN_online_20220409104147/model_35000.pt\n",
      "2022-04-09 10:43.43 [info     ] DoubleDQN_online_20220409104147: epoch=35 step=35000 epoch=35 metrics={'time_inference': 0.0004443316459655762, 'time_environment_step': 0.0007999403817313058, 'time_sample_batch': 9.801030158996582e-05, 'time_algorithm_update': 0.008277381420135498, 'loss': 0.9939827494025231, 'time_step': 0.009595230340957642, 'rollout_return': 14.592, 'evaluation': 17.0} step=35000\n"
     ]
    },
    {
     "name": "stderr",
     "output_type": "stream",
     "text": [
      " 36%|███▌      | 35999/100000 [02:07<09:47, 108.89it/s]"
     ]
    },
    {
     "name": "stdout",
     "output_type": "stream",
     "text": [
      "2022-04-09 10:43.54 [info     ] Model parameters are saved to d3rlpy_logs/DoubleDQN_online_20220409104147/model_36000.pt\n",
      "2022-04-09 10:43.54 [info     ] DoubleDQN_online_20220409104147: epoch=36 step=36000 epoch=36 metrics={'time_inference': 0.00047580742835998536, 'time_environment_step': 0.0008924181801932199, 'time_sample_batch': 0.00011013936996459962, 'time_algorithm_update': 0.008905812978744506, 'loss': 1.0537853724956512, 'time_step': 0.010376225471496582, 'rollout_return': 13.68, 'evaluation': 15.2} step=36000\n"
     ]
    },
    {
     "name": "stderr",
     "output_type": "stream",
     "text": [
      " 37%|███▋      | 36991/100000 [02:18<08:14, 127.34it/s]"
     ]
    },
    {
     "name": "stdout",
     "output_type": "stream",
     "text": [
      "2022-04-09 10:44.05 [info     ] Model parameters are saved to d3rlpy_logs/DoubleDQN_online_20220409104147/model_37000.pt\n",
      "2022-04-09 10:44.05 [info     ] DoubleDQN_online_20220409104147: epoch=37 step=37000 epoch=37 metrics={'time_inference': 0.00039028215408325195, 'time_environment_step': 0.0009328019278390067, 'time_sample_batch': 0.00010220861434936524, 'time_algorithm_update': 0.008331560134887695, 'loss': 1.0070361996442079, 'time_step': 0.009716315746307373, 'rollout_return': 13.256, 'evaluation': 0.0} step=37000\n"
     ]
    },
    {
     "name": "stderr",
     "output_type": "stream",
     "text": [
      " 38%|███▊      | 37991/100000 [02:30<14:29, 71.32it/s] "
     ]
    },
    {
     "name": "stdout",
     "output_type": "stream",
     "text": [
      "2022-04-09 10:44.18 [info     ] Model parameters are saved to d3rlpy_logs/DoubleDQN_online_20220409104147/model_38000.pt\n",
      "2022-04-09 10:44.18 [info     ] DoubleDQN_online_20220409104147: epoch=38 step=38000 epoch=38 metrics={'time_inference': 0.0004370112419128418, 'time_environment_step': 0.0009980008261544363, 'time_sample_batch': 0.00010827255249023437, 'time_algorithm_update': 0.009436041593551636, 'loss': 1.1045119566917418, 'time_step': 0.010933547735214233, 'rollout_return': 12.84, 'evaluation': 14.2} step=38000\n"
     ]
    },
    {
     "name": "stderr",
     "output_type": "stream",
     "text": [
      " 39%|███▉      | 38987/100000 [02:42<12:20, 82.45it/s] "
     ]
    },
    {
     "name": "stdout",
     "output_type": "stream",
     "text": [
      "2022-04-09 10:44.30 [info     ] Model parameters are saved to d3rlpy_logs/DoubleDQN_online_20220409104147/model_39000.pt\n",
      "2022-04-09 10:44.30 [info     ] DoubleDQN_online_20220409104147: epoch=39 step=39000 epoch=39 metrics={'time_inference': 0.0004991271495819092, 'time_environment_step': 0.000982602528163365, 'time_sample_batch': 0.00012009525299072266, 'time_algorithm_update': 0.009356842517852784, 'loss': 0.9923815336078405, 'time_step': 0.010914448022842407, 'rollout_return': 14.224, 'evaluation': 14.9} step=39000\n"
     ]
    },
    {
     "name": "stderr",
     "output_type": "stream",
     "text": [
      " 40%|███▉      | 39992/100000 [02:55<11:21, 88.12it/s] "
     ]
    },
    {
     "name": "stdout",
     "output_type": "stream",
     "text": [
      "2022-04-09 10:44.43 [info     ] Model parameters are saved to d3rlpy_logs/DoubleDQN_online_20220409104147/model_40000.pt\n",
      "2022-04-09 10:44.43 [info     ] DoubleDQN_online_20220409104147: epoch=40 step=40000 epoch=40 metrics={'time_inference': 0.0004743688106536865, 'time_environment_step': 0.001122509002685547, 'time_sample_batch': 0.0001353154182434082, 'time_algorithm_update': 0.009718600273132325, 'loss': 1.0347163735628129, 'time_step': 0.011388765096664429, 'rollout_return': 13.96, 'evaluation': 8.8} step=40000\n"
     ]
    },
    {
     "name": "stderr",
     "output_type": "stream",
     "text": [
      " 41%|████      | 40992/100000 [03:08<15:15, 64.48it/s] "
     ]
    },
    {
     "name": "stdout",
     "output_type": "stream",
     "text": [
      "2022-04-09 10:44.55 [info     ] Model parameters are saved to d3rlpy_logs/DoubleDQN_online_20220409104147/model_41000.pt\n",
      "2022-04-09 10:44.55 [info     ] DoubleDQN_online_20220409104147: epoch=41 step=41000 epoch=41 metrics={'time_inference': 0.00047205543518066405, 'time_environment_step': 0.0009907428196498326, 'time_sample_batch': 0.000140761137008667, 'time_algorithm_update': 0.009790124654769897, 'loss': 0.9597344769835472, 'time_step': 0.011354224920272828, 'rollout_return': 13.992, 'evaluation': 16.0} step=41000\n"
     ]
    },
    {
     "name": "stderr",
     "output_type": "stream",
     "text": [
      " 42%|████▏     | 41992/100000 [03:22<10:56, 88.39it/s] "
     ]
    },
    {
     "name": "stdout",
     "output_type": "stream",
     "text": [
      "2022-04-09 10:45.09 [info     ] Model parameters are saved to d3rlpy_logs/DoubleDQN_online_20220409104147/model_42000.pt\n",
      "2022-04-09 10:45.09 [info     ] DoubleDQN_online_20220409104147: epoch=42 step=42000 epoch=42 metrics={'time_inference': 0.0005496978759765625, 'time_environment_step': 0.0010079678126743861, 'time_sample_batch': 0.00013628602027893066, 'time_algorithm_update': 0.010391839265823365, 'loss': 1.0564110824763775, 'time_step': 0.012047104120254516, 'rollout_return': 14.632, 'evaluation': 11.8} step=42000\n"
     ]
    },
    {
     "name": "stderr",
     "output_type": "stream",
     "text": [
      " 43%|████▎     | 42997/100000 [03:34<14:01, 67.74it/s] "
     ]
    },
    {
     "name": "stdout",
     "output_type": "stream",
     "text": [
      "2022-04-09 10:45.22 [info     ] Model parameters are saved to d3rlpy_logs/DoubleDQN_online_20220409104147/model_43000.pt\n",
      "2022-04-09 10:45.22 [info     ] DoubleDQN_online_20220409104147: epoch=43 step=43000 epoch=43 metrics={'time_inference': 0.00046326637268066405, 'time_environment_step': 0.001003882816859654, 'time_sample_batch': 0.00018156671524047853, 'time_algorithm_update': 0.009909770965576171, 'loss': 0.978949546918273, 'time_step': 0.011544551610946654, 'rollout_return': 13.92, 'evaluation': 11.3} step=43000\n"
     ]
    },
    {
     "name": "stderr",
     "output_type": "stream",
     "text": [
      " 44%|████▍     | 43998/100000 [03:47<12:21, 75.53it/s] "
     ]
    },
    {
     "name": "stdout",
     "output_type": "stream",
     "text": [
      "2022-04-09 10:45.35 [info     ] Model parameters are saved to d3rlpy_logs/DoubleDQN_online_20220409104147/model_44000.pt\n",
      "2022-04-09 10:45.35 [info     ] DoubleDQN_online_20220409104147: epoch=44 step=44000 epoch=44 metrics={'time_inference': 0.0005616731643676758, 'time_environment_step': 0.00100940922328404, 'time_sample_batch': 0.00012118434906005859, 'time_algorithm_update': 0.01002470874786377, 'loss': 0.9735037960112095, 'time_step': 0.011676973342895507, 'rollout_return': 14.528, 'evaluation': 11.8} step=44000\n"
     ]
    },
    {
     "name": "stderr",
     "output_type": "stream",
     "text": [
      " 45%|████▍     | 44998/100000 [04:02<12:10, 75.32it/s] "
     ]
    },
    {
     "name": "stdout",
     "output_type": "stream",
     "text": [
      "2022-04-09 10:45.49 [info     ] Model parameters are saved to d3rlpy_logs/DoubleDQN_online_20220409104147/model_45000.pt\n",
      "2022-04-09 10:45.49 [info     ] DoubleDQN_online_20220409104147: epoch=45 step=45000 epoch=45 metrics={'time_inference': 0.0005525476932525634, 'time_environment_step': 0.0011605608803885324, 'time_sample_batch': 0.0001114645004272461, 'time_algorithm_update': 0.010762383937835693, 'loss': 1.0874940302670002, 'time_step': 0.012583843946456908, 'rollout_return': 13.696, 'evaluation': 15.2} step=45000\n"
     ]
    },
    {
     "name": "stderr",
     "output_type": "stream",
     "text": [
      " 46%|████▌     | 45977/100000 [04:14<10:17, 87.51it/s] "
     ]
    },
    {
     "name": "stdout",
     "output_type": "stream",
     "text": [
      "2022-04-09 10:46.01 [info     ] Model parameters are saved to d3rlpy_logs/DoubleDQN_online_20220409104147/model_46000.pt\n",
      "2022-04-09 10:46.01 [info     ] DoubleDQN_online_20220409104147: epoch=46 step=46000 epoch=46 metrics={'time_inference': 0.0005056195259094239, 'time_environment_step': 0.0009757537841796875, 'time_sample_batch': 0.00011954975128173828, 'time_algorithm_update': 0.009346536397933959, 'loss': 1.0098817368149757, 'time_step': 0.010943763494491577, 'rollout_return': 14.488, 'evaluation': 14.4} step=46000\n"
     ]
    },
    {
     "name": "stderr",
     "output_type": "stream",
     "text": [
      " 47%|████▋     | 46991/100000 [04:28<12:07, 72.90it/s] "
     ]
    },
    {
     "name": "stdout",
     "output_type": "stream",
     "text": [
      "2022-04-09 10:46.15 [info     ] Model parameters are saved to d3rlpy_logs/DoubleDQN_online_20220409104147/model_47000.pt\n",
      "2022-04-09 10:46.15 [info     ] DoubleDQN_online_20220409104147: epoch=47 step=47000 epoch=47 metrics={'time_inference': 0.000559650182723999, 'time_environment_step': 0.0011464127131870815, 'time_sample_batch': 0.0001412057876586914, 'time_algorithm_update': 0.010516738176345825, 'loss': 0.954726940870285, 'time_step': 0.012313141107559204, 'rollout_return': 13.84, 'evaluation': 16.7} step=47000\n"
     ]
    },
    {
     "name": "stderr",
     "output_type": "stream",
     "text": [
      " 48%|████▊     | 47999/100000 [04:40<14:14, 60.87it/s] "
     ]
    },
    {
     "name": "stdout",
     "output_type": "stream",
     "text": [
      "2022-04-09 10:46.27 [info     ] Model parameters are saved to d3rlpy_logs/DoubleDQN_online_20220409104147/model_48000.pt\n",
      "2022-04-09 10:46.27 [info     ] DoubleDQN_online_20220409104147: epoch=48 step=48000 epoch=48 metrics={'time_inference': 0.0005335152149200439, 'time_environment_step': 0.0011826689583914621, 'time_sample_batch': 0.00014928078651428223, 'time_algorithm_update': 0.009003877639770508, 'loss': 0.9800679871141911, 'time_step': 0.010813285112380982, 'rollout_return': 13.392, 'evaluation': 15.7} step=48000\n"
     ]
    },
    {
     "name": "stderr",
     "output_type": "stream",
     "text": [
      " 49%|████▉     | 48998/100000 [04:53<09:43, 87.48it/s] "
     ]
    },
    {
     "name": "stdout",
     "output_type": "stream",
     "text": [
      "2022-04-09 10:46.40 [info     ] Model parameters are saved to d3rlpy_logs/DoubleDQN_online_20220409104147/model_49000.pt\n",
      "2022-04-09 10:46.40 [info     ] DoubleDQN_online_20220409104147: epoch=49 step=49000 epoch=49 metrics={'time_inference': 0.0004727623462677002, 'time_environment_step': 0.001033731188092913, 'time_sample_batch': 0.00012208175659179688, 'time_algorithm_update': 0.010013019800186157, 'loss': 0.9597864525467157, 'time_step': 0.011606905221939088, 'rollout_return': 14.672, 'evaluation': 17.1} step=49000\n"
     ]
    },
    {
     "name": "stderr",
     "output_type": "stream",
     "text": [
      " 50%|████▉     | 49999/100000 [05:06<10:37, 78.48it/s] "
     ]
    },
    {
     "name": "stdout",
     "output_type": "stream",
     "text": [
      "2022-04-09 10:46.53 [info     ] Model parameters are saved to d3rlpy_logs/DoubleDQN_online_20220409104147/model_50000.pt\n",
      "2022-04-09 10:46.53 [info     ] DoubleDQN_online_20220409104147: epoch=50 step=50000 epoch=50 metrics={'time_inference': 0.0004952523708343506, 'time_environment_step': 0.001024517604282924, 'time_sample_batch': 0.00014139580726623536, 'time_algorithm_update': 0.010064628839492797, 'loss': 0.9576184461116791, 'time_step': 0.011703304052352904, 'rollout_return': 15.072, 'evaluation': 14.1} step=50000\n"
     ]
    },
    {
     "name": "stderr",
     "output_type": "stream",
     "text": [
      " 51%|█████     | 50999/100000 [05:20<12:20, 66.18it/s] "
     ]
    },
    {
     "name": "stdout",
     "output_type": "stream",
     "text": [
      "2022-04-09 10:47.08 [info     ] Model parameters are saved to d3rlpy_logs/DoubleDQN_online_20220409104147/model_51000.pt\n",
      "2022-04-09 10:47.08 [info     ] DoubleDQN_online_20220409104147: epoch=51 step=51000 epoch=51 metrics={'time_inference': 0.00048427128791809083, 'time_environment_step': 0.001002394539969308, 'time_sample_batch': 0.00012564373016357423, 'time_algorithm_update': 0.010947070598602294, 'loss': 0.9329974871575832, 'time_step': 0.012527972221374513, 'rollout_return': 13.616, 'evaluation': 15.3} step=51000\n"
     ]
    },
    {
     "name": "stderr",
     "output_type": "stream",
     "text": [
      " 52%|█████▏    | 51990/100000 [05:34<11:14, 71.18it/s] "
     ]
    },
    {
     "name": "stdout",
     "output_type": "stream",
     "text": [
      "2022-04-09 10:47.22 [info     ] Model parameters are saved to d3rlpy_logs/DoubleDQN_online_20220409104147/model_52000.pt\n",
      "2022-04-09 10:47.22 [info     ] DoubleDQN_online_20220409104147: epoch=52 step=52000 epoch=52 metrics={'time_inference': 0.0005178580284118653, 'time_environment_step': 0.0009602693830217634, 'time_sample_batch': 0.00013133549690246582, 'time_algorithm_update': 0.011066140174865723, 'loss': 0.903486393019557, 'time_step': 0.012657691478729248, 'rollout_return': 14.904, 'evaluation': 14.7} step=52000\n"
     ]
    },
    {
     "name": "stderr",
     "output_type": "stream",
     "text": [
      " 53%|█████▎    | 52997/100000 [05:47<09:11, 85.19it/s] "
     ]
    },
    {
     "name": "stdout",
     "output_type": "stream",
     "text": [
      "2022-04-09 10:47.34 [info     ] Model parameters are saved to d3rlpy_logs/DoubleDQN_online_20220409104147/model_53000.pt\n",
      "2022-04-09 10:47.34 [info     ] DoubleDQN_online_20220409104147: epoch=53 step=53000 epoch=53 metrics={'time_inference': 0.0005079777240753173, 'time_environment_step': 0.001074836186000279, 'time_sample_batch': 0.00015059828758239745, 'time_algorithm_update': 0.00965859866142273, 'loss': 0.890867289096117, 'time_step': 0.011374663114547729, 'rollout_return': 15.464, 'evaluation': 15.0} step=53000\n"
     ]
    },
    {
     "name": "stderr",
     "output_type": "stream",
     "text": [
      " 54%|█████▍    | 53995/100000 [06:01<13:39, 56.11it/s] "
     ]
    },
    {
     "name": "stdout",
     "output_type": "stream",
     "text": [
      "2022-04-09 10:47.48 [info     ] Model parameters are saved to d3rlpy_logs/DoubleDQN_online_20220409104147/model_54000.pt\n",
      "2022-04-09 10:47.49 [info     ] DoubleDQN_online_20220409104147: epoch=54 step=54000 epoch=54 metrics={'time_inference': 0.000536482572555542, 'time_environment_step': 0.0011390015738351005, 'time_sample_batch': 0.00017647075653076172, 'time_algorithm_update': 0.010860900640487671, 'loss': 0.9339233964085579, 'time_step': 0.012656582117080688, 'rollout_return': 14.928, 'evaluation': 15.9} step=54000\n"
     ]
    },
    {
     "name": "stderr",
     "output_type": "stream",
     "text": [
      " 55%|█████▍    | 54991/100000 [06:15<08:58, 83.59it/s] "
     ]
    },
    {
     "name": "stdout",
     "output_type": "stream",
     "text": [
      "2022-04-09 10:48.02 [info     ] Model parameters are saved to d3rlpy_logs/DoubleDQN_online_20220409104147/model_55000.pt\n",
      "2022-04-09 10:48.02 [info     ] DoubleDQN_online_20220409104147: epoch=55 step=55000 epoch=55 metrics={'time_inference': 0.0005243599414825439, 'time_environment_step': 0.0010978025708879744, 'time_sample_batch': 0.00014163684844970703, 'time_algorithm_update': 0.010471237182617188, 'loss': 1.0202484762966633, 'time_step': 0.012202108860015869, 'rollout_return': 14.32, 'evaluation': 18.4} step=55000\n"
     ]
    },
    {
     "name": "stderr",
     "output_type": "stream",
     "text": [
      " 56%|█████▌    | 55992/100000 [06:30<15:54, 46.10it/s] "
     ]
    },
    {
     "name": "stdout",
     "output_type": "stream",
     "text": [
      "2022-04-09 10:48.17 [info     ] Model parameters are saved to d3rlpy_logs/DoubleDQN_online_20220409104147/model_56000.pt\n",
      "2022-04-09 10:48.17 [info     ] DoubleDQN_online_20220409104147: epoch=56 step=56000 epoch=56 metrics={'time_inference': 0.0005773210525512695, 'time_environment_step': 0.0010499144962855748, 'time_sample_batch': 0.00012135529518127441, 'time_algorithm_update': 0.011577674865722656, 'loss': 0.9923216268718242, 'time_step': 0.0132878520488739, 'rollout_return': 14.224, 'evaluation': 13.9} step=56000\n"
     ]
    },
    {
     "name": "stderr",
     "output_type": "stream",
     "text": [
      " 57%|█████▋    | 56999/100000 [06:44<09:40, 74.11it/s] "
     ]
    },
    {
     "name": "stdout",
     "output_type": "stream",
     "text": [
      "2022-04-09 10:48.31 [info     ] Model parameters are saved to d3rlpy_logs/DoubleDQN_online_20220409104147/model_57000.pt\n",
      "2022-04-09 10:48.31 [info     ] DoubleDQN_online_20220409104147: epoch=57 step=57000 epoch=57 metrics={'time_inference': 0.0005535683631896972, 'time_environment_step': 0.0010496649060930524, 'time_sample_batch': 0.00013515710830688476, 'time_algorithm_update': 0.010924031257629394, 'loss': 0.8896707575172186, 'time_step': 0.012619518518447876, 'rollout_return': 15.0, 'evaluation': 15.6} step=57000\n"
     ]
    },
    {
     "name": "stderr",
     "output_type": "stream",
     "text": [
      " 58%|█████▊    | 57983/100000 [06:58<11:07, 62.91it/s] "
     ]
    },
    {
     "name": "stdout",
     "output_type": "stream",
     "text": [
      "2022-04-09 10:48.45 [info     ] Model parameters are saved to d3rlpy_logs/DoubleDQN_online_20220409104147/model_58000.pt\n",
      "2022-04-09 10:48.45 [info     ] DoubleDQN_online_20220409104147: epoch=58 step=58000 epoch=58 metrics={'time_inference': 0.0004915971755981445, 'time_environment_step': 0.0009891270228794642, 'time_sample_batch': 0.00012522268295288085, 'time_algorithm_update': 0.010489576578140258, 'loss': 0.8735793032944202, 'time_step': 0.012073689460754395, 'rollout_return': 14.504, 'evaluation': 15.5} step=58000\n"
     ]
    },
    {
     "name": "stderr",
     "output_type": "stream",
     "text": [
      " 59%|█████▉    | 58990/100000 [07:13<07:01, 97.25it/s] "
     ]
    },
    {
     "name": "stdout",
     "output_type": "stream",
     "text": [
      "2022-04-09 10:49.00 [info     ] Model parameters are saved to d3rlpy_logs/DoubleDQN_online_20220409104147/model_59000.pt\n",
      "2022-04-09 10:49.00 [info     ] DoubleDQN_online_20220409104147: epoch=59 step=59000 epoch=59 metrics={'time_inference': 0.0005404198169708252, 'time_environment_step': 0.001128974369594029, 'time_sample_batch': 0.00014156365394592284, 'time_algorithm_update': 0.011537285566329956, 'loss': 0.8941928371489049, 'time_step': 0.01330222725868225, 'rollout_return': 14.352, 'evaluation': 16.0} step=59000\n"
     ]
    },
    {
     "name": "stderr",
     "output_type": "stream",
     "text": [
      " 60%|█████▉    | 59999/100000 [07:27<13:09, 50.64it/s] "
     ]
    },
    {
     "name": "stdout",
     "output_type": "stream",
     "text": [
      "2022-04-09 10:49.15 [info     ] Model parameters are saved to d3rlpy_logs/DoubleDQN_online_20220409104147/model_60000.pt\n",
      "2022-04-09 10:49.15 [info     ] DoubleDQN_online_20220409104147: epoch=60 step=60000 epoch=60 metrics={'time_inference': 0.0005152592658996582, 'time_environment_step': 0.0010054710933140346, 'time_sample_batch': 0.00011507105827331542, 'time_algorithm_update': 0.011291569948196412, 'loss': 0.9096790190041065, 'time_step': 0.012898636817932128, 'rollout_return': 14.776, 'evaluation': 16.8} step=60000\n"
     ]
    },
    {
     "name": "stderr",
     "output_type": "stream",
     "text": [
      " 61%|██████    | 60998/100000 [07:42<11:00, 59.02it/s] "
     ]
    },
    {
     "name": "stdout",
     "output_type": "stream",
     "text": [
      "2022-04-09 10:49.30 [info     ] Model parameters are saved to d3rlpy_logs/DoubleDQN_online_20220409104147/model_61000.pt\n",
      "2022-04-09 10:49.30 [info     ] DoubleDQN_online_20220409104147: epoch=61 step=61000 epoch=61 metrics={'time_inference': 0.0005520393848419189, 'time_environment_step': 0.0010437417711530413, 'time_sample_batch': 0.00013329339027404785, 'time_algorithm_update': 0.011465607166290283, 'loss': 0.9125495212972164, 'time_step': 0.013179636955261231, 'rollout_return': 14.624, 'evaluation': 16.8} step=61000\n"
     ]
    },
    {
     "name": "stderr",
     "output_type": "stream",
     "text": [
      " 62%|██████▏   | 61993/100000 [07:56<09:38, 65.69it/s] "
     ]
    },
    {
     "name": "stdout",
     "output_type": "stream",
     "text": [
      "2022-04-09 10:49.44 [info     ] Model parameters are saved to d3rlpy_logs/DoubleDQN_online_20220409104147/model_62000.pt\n",
      "2022-04-09 10:49.44 [info     ] DoubleDQN_online_20220409104147: epoch=62 step=62000 epoch=62 metrics={'time_inference': 0.000512399673461914, 'time_environment_step': 0.0010650803702218193, 'time_sample_batch': 0.0001156771183013916, 'time_algorithm_update': 0.011117351293563843, 'loss': 0.937864425778389, 'time_step': 0.01277804398536682, 'rollout_return': 14.504, 'evaluation': 15.0} step=62000\n"
     ]
    },
    {
     "name": "stderr",
     "output_type": "stream",
     "text": [
      " 63%|██████▎   | 62994/100000 [08:11<06:35, 93.59it/s] "
     ]
    },
    {
     "name": "stdout",
     "output_type": "stream",
     "text": [
      "2022-04-09 10:49.58 [info     ] Model parameters are saved to d3rlpy_logs/DoubleDQN_online_20220409104147/model_63000.pt\n",
      "2022-04-09 10:49.58 [info     ] DoubleDQN_online_20220409104147: epoch=63 step=63000 epoch=63 metrics={'time_inference': 0.0005564236640930176, 'time_environment_step': 0.0011176248277936663, 'time_sample_batch': 0.0001434047222137451, 'time_algorithm_update': 0.01111458158493042, 'loss': 0.9195354331433773, 'time_step': 0.012888983488082886, 'rollout_return': 14.0, 'evaluation': 16.9} step=63000\n"
     ]
    },
    {
     "name": "stderr",
     "output_type": "stream",
     "text": [
      " 64%|██████▍   | 63992/100000 [08:25<08:11, 73.23it/s] "
     ]
    },
    {
     "name": "stdout",
     "output_type": "stream",
     "text": [
      "2022-04-09 10:50.12 [info     ] Model parameters are saved to d3rlpy_logs/DoubleDQN_online_20220409104147/model_64000.pt\n",
      "2022-04-09 10:50.12 [info     ] DoubleDQN_online_20220409104147: epoch=64 step=64000 epoch=64 metrics={'time_inference': 0.0005391204357147217, 'time_environment_step': 0.0010740626198904855, 'time_sample_batch': 0.00013362503051757814, 'time_algorithm_update': 0.010537151575088501, 'loss': 0.9026935273110867, 'time_step': 0.012242095947265625, 'rollout_return': 14.464, 'evaluation': 16.3} step=64000\n"
     ]
    },
    {
     "name": "stderr",
     "output_type": "stream",
     "text": [
      " 65%|██████▍   | 64995/100000 [08:40<08:57, 65.08it/s] "
     ]
    },
    {
     "name": "stdout",
     "output_type": "stream",
     "text": [
      "2022-04-09 10:50.27 [info     ] Model parameters are saved to d3rlpy_logs/DoubleDQN_online_20220409104147/model_65000.pt\n",
      "2022-04-09 10:50.28 [info     ] DoubleDQN_online_20220409104147: epoch=65 step=65000 epoch=65 metrics={'time_inference': 0.000698610782623291, 'time_environment_step': 0.0011563164847237723, 'time_sample_batch': 0.00014794397354125978, 'time_algorithm_update': 0.011726887226104736, 'loss': 0.9949792142510414, 'time_step': 0.013685118675231934, 'rollout_return': 14.656, 'evaluation': 14.6} step=65000\n"
     ]
    },
    {
     "name": "stderr",
     "output_type": "stream",
     "text": [
      " 66%|██████▌   | 65994/100000 [08:56<07:16, 77.95it/s]"
     ]
    },
    {
     "name": "stdout",
     "output_type": "stream",
     "text": [
      "2022-04-09 10:50.44 [info     ] Model parameters are saved to d3rlpy_logs/DoubleDQN_online_20220409104147/model_66000.pt\n",
      "2022-04-09 10:50.44 [info     ] DoubleDQN_online_20220409104147: epoch=66 step=66000 epoch=66 metrics={'time_inference': 0.0005113117694854737, 'time_environment_step': 0.001104262215750558, 'time_sample_batch': 0.00015990281105041505, 'time_algorithm_update': 0.012678623914718627, 'loss': 0.9719558481872081, 'time_step': 0.01440340495109558, 'rollout_return': 14.216, 'evaluation': 13.7} step=66000\n"
     ]
    },
    {
     "name": "stderr",
     "output_type": "stream",
     "text": [
      " 67%|██████▋   | 66999/100000 [09:11<09:03, 60.71it/s] "
     ]
    },
    {
     "name": "stdout",
     "output_type": "stream",
     "text": [
      "2022-04-09 10:50.59 [info     ] Model parameters are saved to d3rlpy_logs/DoubleDQN_online_20220409104147/model_67000.pt\n",
      "2022-04-09 10:50.59 [info     ] DoubleDQN_online_20220409104147: epoch=67 step=67000 epoch=67 metrics={'time_inference': 0.0006225142478942871, 'time_environment_step': 0.0011707232339041574, 'time_sample_batch': 0.00015488409996032714, 'time_algorithm_update': 0.011520899772644044, 'loss': 0.8830631582140922, 'time_step': 0.013428552865982055, 'rollout_return': 15.016, 'evaluation': 12.4} step=67000\n"
     ]
    },
    {
     "name": "stderr",
     "output_type": "stream",
     "text": [
      " 68%|██████▊   | 67993/100000 [09:27<07:53, 67.53it/s] "
     ]
    },
    {
     "name": "stdout",
     "output_type": "stream",
     "text": [
      "2022-04-09 10:51.14 [info     ] Model parameters are saved to d3rlpy_logs/DoubleDQN_online_20220409104147/model_68000.pt\n",
      "2022-04-09 10:51.14 [info     ] DoubleDQN_online_20220409104147: epoch=68 step=68000 epoch=68 metrics={'time_inference': 0.0005765244960784912, 'time_environment_step': 0.001127950668334961, 'time_sample_batch': 0.00017479491233825684, 'time_algorithm_update': 0.01218972086906433, 'loss': 0.9057673914134502, 'time_step': 0.014052350044250489, 'rollout_return': 14.16, 'evaluation': 14.3} step=68000\n"
     ]
    },
    {
     "name": "stderr",
     "output_type": "stream",
     "text": [
      " 69%|██████▉   | 68993/100000 [09:42<06:02, 85.59it/s]"
     ]
    },
    {
     "name": "stdout",
     "output_type": "stream",
     "text": [
      "2022-04-09 10:51.29 [info     ] Model parameters are saved to d3rlpy_logs/DoubleDQN_online_20220409104147/model_69000.pt\n",
      "2022-04-09 10:51.29 [info     ] DoubleDQN_online_20220409104147: epoch=69 step=69000 epoch=69 metrics={'time_inference': 0.0005700235366821289, 'time_environment_step': 0.0010517150333949497, 'time_sample_batch': 0.00012271666526794434, 'time_algorithm_update': 0.01149628210067749, 'loss': 0.8948177166879178, 'time_step': 0.013220925569534301, 'rollout_return': 13.984, 'evaluation': 2.9} step=69000\n"
     ]
    },
    {
     "name": "stderr",
     "output_type": "stream",
     "text": [
      " 70%|██████▉   | 69995/100000 [09:56<07:51, 63.67it/s] "
     ]
    },
    {
     "name": "stdout",
     "output_type": "stream",
     "text": [
      "2022-04-09 10:51.43 [info     ] Model parameters are saved to d3rlpy_logs/DoubleDQN_online_20220409104147/model_70000.pt\n",
      "2022-04-09 10:51.43 [info     ] DoubleDQN_online_20220409104147: epoch=70 step=70000 epoch=70 metrics={'time_inference': 0.00045471644401550294, 'time_environment_step': 0.0010910565512520926, 'time_sample_batch': 0.00013755488395690918, 'time_algorithm_update': 0.010574865818023681, 'loss': 0.9165070272088051, 'time_step': 0.012205940246582031, 'rollout_return': 14.808, 'evaluation': 13.2} step=70000\n"
     ]
    },
    {
     "name": "stderr",
     "output_type": "stream",
     "text": [
      " 71%|███████   | 70988/100000 [10:09<04:10, 115.71it/s]"
     ]
    },
    {
     "name": "stdout",
     "output_type": "stream",
     "text": [
      "2022-04-09 10:51.56 [info     ] Model parameters are saved to d3rlpy_logs/DoubleDQN_online_20220409104147/model_71000.pt\n",
      "2022-04-09 10:51.56 [info     ] DoubleDQN_online_20220409104147: epoch=71 step=71000 epoch=71 metrics={'time_inference': 0.0005931615829467774, 'time_environment_step': 0.0009971493312290736, 'time_sample_batch': 0.00011590743064880371, 'time_algorithm_update': 0.010183802604675293, 'loss': 0.842073649019003, 'time_step': 0.011848163366317749, 'rollout_return': 14.68, 'evaluation': 16.9} step=71000\n"
     ]
    },
    {
     "name": "stderr",
     "output_type": "stream",
     "text": [
      " 72%|███████▏  | 71995/100000 [10:21<05:35, 83.56it/s] "
     ]
    },
    {
     "name": "stdout",
     "output_type": "stream",
     "text": [
      "2022-04-09 10:52.08 [info     ] Model parameters are saved to d3rlpy_logs/DoubleDQN_online_20220409104147/model_72000.pt\n",
      "2022-04-09 10:52.08 [info     ] DoubleDQN_online_20220409104147: epoch=72 step=72000 epoch=72 metrics={'time_inference': 0.00042291712760925295, 'time_environment_step': 0.0010055738176618304, 'time_sample_batch': 0.0001433556079864502, 'time_algorithm_update': 0.009086625814437867, 'loss': 0.9697594064474105, 'time_step': 0.010612478494644166, 'rollout_return': 14.848, 'evaluation': 18.3} step=72000\n"
     ]
    },
    {
     "name": "stderr",
     "output_type": "stream",
     "text": [
      " 73%|███████▎  | 72999/100000 [10:34<07:15, 62.03it/s] "
     ]
    },
    {
     "name": "stdout",
     "output_type": "stream",
     "text": [
      "2022-04-09 10:52.21 [info     ] Model parameters are saved to d3rlpy_logs/DoubleDQN_online_20220409104147/model_73000.pt\n",
      "2022-04-09 10:52.21 [info     ] DoubleDQN_online_20220409104147: epoch=73 step=73000 epoch=73 metrics={'time_inference': 0.0004923410415649414, 'time_environment_step': 0.0010789012908935546, 'time_sample_batch': 0.0001218247413635254, 'time_algorithm_update': 0.010105184555053711, 'loss': 0.8345620903074742, 'time_step': 0.011780821084976197, 'rollout_return': 15.112, 'evaluation': 14.0} step=73000\n"
     ]
    },
    {
     "name": "stderr",
     "output_type": "stream",
     "text": [
      " 74%|███████▍  | 73996/100000 [10:48<06:49, 63.46it/s] "
     ]
    },
    {
     "name": "stdout",
     "output_type": "stream",
     "text": [
      "2022-04-09 10:52.35 [info     ] Model parameters are saved to d3rlpy_logs/DoubleDQN_online_20220409104147/model_74000.pt\n",
      "2022-04-09 10:52.35 [info     ] DoubleDQN_online_20220409104147: epoch=74 step=74000 epoch=74 metrics={'time_inference': 0.0004916698932647706, 'time_environment_step': 0.001158334459577288, 'time_sample_batch': 0.0001479485034942627, 'time_algorithm_update': 0.010881182909011841, 'loss': 0.8570900019705295, 'time_step': 0.012635625600814819, 'rollout_return': 14.416, 'evaluation': 16.0} step=74000\n"
     ]
    },
    {
     "name": "stderr",
     "output_type": "stream",
     "text": [
      " 75%|███████▍  | 74998/100000 [11:05<09:01, 46.19it/s] "
     ]
    },
    {
     "name": "stdout",
     "output_type": "stream",
     "text": [
      "2022-04-09 10:52.52 [info     ] Model parameters are saved to d3rlpy_logs/DoubleDQN_online_20220409104147/model_75000.pt\n",
      "2022-04-09 10:52.52 [info     ] DoubleDQN_online_20220409104147: epoch=75 step=75000 epoch=75 metrics={'time_inference': 0.0005772228240966796, 'time_environment_step': 0.0012421981266566686, 'time_sample_batch': 0.00016286396980285645, 'time_algorithm_update': 0.012749033451080322, 'loss': 0.98359344124794, 'time_step': 0.014700743436813355, 'rollout_return': 14.544, 'evaluation': 12.6} step=75000\n"
     ]
    },
    {
     "name": "stderr",
     "output_type": "stream",
     "text": [
      " 76%|███████▌  | 75993/100000 [11:19<05:29, 72.76it/s] "
     ]
    },
    {
     "name": "stdout",
     "output_type": "stream",
     "text": [
      "2022-04-09 10:53.06 [info     ] Model parameters are saved to d3rlpy_logs/DoubleDQN_online_20220409104147/model_76000.pt\n",
      "2022-04-09 10:53.06 [info     ] DoubleDQN_online_20220409104147: epoch=76 step=76000 epoch=76 metrics={'time_inference': 0.0005213916301727295, 'time_environment_step': 0.001048985072544643, 'time_sample_batch': 0.00011249899864196778, 'time_algorithm_update': 0.01085733127593994, 'loss': 0.8824950950443745, 'time_step': 0.012516724109649659, 'rollout_return': 15.0, 'evaluation': 15.4} step=76000\n"
     ]
    },
    {
     "name": "stderr",
     "output_type": "stream",
     "text": [
      " 77%|███████▋  | 76995/100000 [11:35<05:00, 76.64it/s] "
     ]
    },
    {
     "name": "stdout",
     "output_type": "stream",
     "text": [
      "2022-04-09 10:53.22 [info     ] Model parameters are saved to d3rlpy_logs/DoubleDQN_online_20220409104147/model_77000.pt\n",
      "2022-04-09 10:53.22 [info     ] DoubleDQN_online_20220409104147: epoch=77 step=77000 epoch=77 metrics={'time_inference': 0.000607555866241455, 'time_environment_step': 0.001127443858555385, 'time_sample_batch': 0.00016407275199890138, 'time_algorithm_update': 0.011924174785614014, 'loss': 0.9990574949681759, 'time_step': 0.0137808735370636, 'rollout_return': 13.72, 'evaluation': 15.2} step=77000\n"
     ]
    },
    {
     "name": "stderr",
     "output_type": "stream",
     "text": [
      " 78%|███████▊  | 77994/100000 [11:48<04:11, 87.38it/s] "
     ]
    },
    {
     "name": "stdout",
     "output_type": "stream",
     "text": [
      "2022-04-09 10:53.36 [info     ] Model parameters are saved to d3rlpy_logs/DoubleDQN_online_20220409104147/model_78000.pt\n",
      "2022-04-09 10:53.36 [info     ] DoubleDQN_online_20220409104147: epoch=78 step=78000 epoch=78 metrics={'time_inference': 0.000512955665588379, 'time_environment_step': 0.0010637553078787667, 'time_sample_batch': 0.00012671446800231935, 'time_algorithm_update': 0.010763381242752074, 'loss': 0.8430268708467483, 'time_step': 0.012431862115859985, 'rollout_return': 14.92, 'evaluation': 15.3} step=78000\n"
     ]
    },
    {
     "name": "stderr",
     "output_type": "stream",
     "text": [
      " 79%|███████▉  | 78992/100000 [12:03<06:09, 56.79it/s] "
     ]
    },
    {
     "name": "stdout",
     "output_type": "stream",
     "text": [
      "2022-04-09 10:53.51 [info     ] Model parameters are saved to d3rlpy_logs/DoubleDQN_online_20220409104147/model_79000.pt\n",
      "2022-04-09 10:53.51 [info     ] DoubleDQN_online_20220409104147: epoch=79 step=79000 epoch=79 metrics={'time_inference': 0.0005435566902160645, 'time_environment_step': 0.0010463455745152064, 'time_sample_batch': 0.00014731884002685546, 'time_algorithm_update': 0.01133889079093933, 'loss': 0.8075408967882395, 'time_step': 0.013029340028762817, 'rollout_return': 14.92, 'evaluation': 15.0} step=79000\n"
     ]
    },
    {
     "name": "stderr",
     "output_type": "stream",
     "text": [
      " 80%|███████▉  | 79992/100000 [12:20<06:23, 52.18it/s] "
     ]
    },
    {
     "name": "stdout",
     "output_type": "stream",
     "text": [
      "2022-04-09 10:54.08 [info     ] Model parameters are saved to d3rlpy_logs/DoubleDQN_online_20220409104147/model_80000.pt\n",
      "2022-04-09 10:54.08 [info     ] DoubleDQN_online_20220409104147: epoch=80 step=80000 epoch=80 metrics={'time_inference': 0.0006601979732513428, 'time_environment_step': 0.0013150076184953962, 'time_sample_batch': 0.00015257596969604493, 'time_algorithm_update': 0.01315125322341919, 'loss': 0.8135780961662531, 'time_step': 0.015208771228790283, 'rollout_return': 15.096, 'evaluation': 15.0} step=80000\n"
     ]
    },
    {
     "name": "stderr",
     "output_type": "stream",
     "text": [
      " 81%|████████  | 80981/100000 [12:34<03:25, 92.65it/s] "
     ]
    },
    {
     "name": "stdout",
     "output_type": "stream",
     "text": [
      "2022-04-09 10:54.21 [info     ] Model parameters are saved to d3rlpy_logs/DoubleDQN_online_20220409104147/model_81000.pt\n",
      "2022-04-09 10:54.21 [info     ] DoubleDQN_online_20220409104147: epoch=81 step=81000 epoch=81 metrics={'time_inference': 0.0005961542129516602, 'time_environment_step': 0.0010163813999720982, 'time_sample_batch': 0.0001251823902130127, 'time_algorithm_update': 0.010272328615188599, 'loss': 0.8543182778656483, 'time_step': 0.012001110315322876, 'rollout_return': 14.12, 'evaluation': 7.6} step=81000\n"
     ]
    },
    {
     "name": "stderr",
     "output_type": "stream",
     "text": [
      " 82%|████████▏ | 81994/100000 [12:48<05:03, 59.40it/s] "
     ]
    },
    {
     "name": "stdout",
     "output_type": "stream",
     "text": [
      "2022-04-09 10:54.35 [info     ] Model parameters are saved to d3rlpy_logs/DoubleDQN_online_20220409104147/model_82000.pt\n",
      "2022-04-09 10:54.35 [info     ] DoubleDQN_online_20220409104147: epoch=82 step=82000 epoch=82 metrics={'time_inference': 0.0005434443950653076, 'time_environment_step': 0.0009823864528111048, 'time_sample_batch': 0.00013941001892089843, 'time_algorithm_update': 0.01050014591217041, 'loss': 0.9862467549443245, 'time_step': 0.0121247820854187, 'rollout_return': 14.016, 'evaluation': 15.8} step=82000\n"
     ]
    },
    {
     "name": "stderr",
     "output_type": "stream",
     "text": [
      " 83%|████████▎ | 82998/100000 [13:01<03:54, 72.46it/s] "
     ]
    },
    {
     "name": "stdout",
     "output_type": "stream",
     "text": [
      "2022-04-09 10:54.49 [info     ] Model parameters are saved to d3rlpy_logs/DoubleDQN_online_20220409104147/model_83000.pt\n",
      "2022-04-09 10:54.49 [info     ] DoubleDQN_online_20220409104147: epoch=83 step=83000 epoch=83 metrics={'time_inference': 0.0005186078548431397, 'time_environment_step': 0.0010569474356515068, 'time_sample_batch': 0.00010969710350036621, 'time_algorithm_update': 0.010591806173324584, 'loss': 0.8960074229836464, 'time_step': 0.012241801738739014, 'rollout_return': 14.792, 'evaluation': 14.3} step=83000\n"
     ]
    },
    {
     "name": "stderr",
     "output_type": "stream",
     "text": [
      " 84%|████████▍ | 83997/100000 [13:15<03:50, 69.47it/s] "
     ]
    },
    {
     "name": "stdout",
     "output_type": "stream",
     "text": [
      "2022-04-09 10:55.02 [info     ] Model parameters are saved to d3rlpy_logs/DoubleDQN_online_20220409104147/model_84000.pt\n",
      "2022-04-09 10:55.02 [info     ] DoubleDQN_online_20220409104147: epoch=84 step=84000 epoch=84 metrics={'time_inference': 0.0004897799491882324, 'time_environment_step': 0.0010141710553850446, 'time_sample_batch': 0.00013847064971923828, 'time_algorithm_update': 0.010276334285736084, 'loss': 0.8537618305087089, 'time_step': 0.01190103268623352, 'rollout_return': 15.224, 'evaluation': 15.6} step=84000\n"
     ]
    },
    {
     "name": "stderr",
     "output_type": "stream",
     "text": [
      " 85%|████████▍ | 84991/100000 [13:28<03:06, 80.27it/s] "
     ]
    },
    {
     "name": "stdout",
     "output_type": "stream",
     "text": [
      "2022-04-09 10:55.16 [info     ] Model parameters are saved to d3rlpy_logs/DoubleDQN_online_20220409104147/model_85000.pt\n",
      "2022-04-09 10:55.16 [info     ] DoubleDQN_online_20220409104147: epoch=85 step=85000 epoch=85 metrics={'time_inference': 0.0005433962345123291, 'time_environment_step': 0.00104891722542899, 'time_sample_batch': 0.0001609375476837158, 'time_algorithm_update': 0.010218129873275757, 'loss': 0.8298264575302601, 'time_step': 0.011960238456726073, 'rollout_return': 15.288, 'evaluation': 14.7} step=85000\n"
     ]
    },
    {
     "name": "stderr",
     "output_type": "stream",
     "text": [
      " 86%|████████▌ | 85991/100000 [13:41<02:54, 80.09it/s] "
     ]
    },
    {
     "name": "stdout",
     "output_type": "stream",
     "text": [
      "2022-04-09 10:55.29 [info     ] Model parameters are saved to d3rlpy_logs/DoubleDQN_online_20220409104147/model_86000.pt\n",
      "2022-04-09 10:55.29 [info     ] DoubleDQN_online_20220409104147: epoch=86 step=86000 epoch=86 metrics={'time_inference': 0.0005225353240966797, 'time_environment_step': 0.0010831710270472936, 'time_sample_batch': 0.00011893844604492187, 'time_algorithm_update': 0.0099105966091156, 'loss': 0.8528928993940353, 'time_step': 0.011601919412612915, 'rollout_return': 14.904, 'evaluation': 16.4} step=86000\n"
     ]
    },
    {
     "name": "stderr",
     "output_type": "stream",
     "text": [
      " 87%|████████▋ | 86986/100000 [13:56<03:50, 56.52it/s] "
     ]
    },
    {
     "name": "stdout",
     "output_type": "stream",
     "text": [
      "2022-04-09 10:55.44 [info     ] Model parameters are saved to d3rlpy_logs/DoubleDQN_online_20220409104147/model_87000.pt\n",
      "2022-04-09 10:55.44 [info     ] DoubleDQN_online_20220409104147: epoch=87 step=87000 epoch=87 metrics={'time_inference': 0.000609785795211792, 'time_environment_step': 0.0012308428628104073, 'time_sample_batch': 0.00011745095252990723, 'time_algorithm_update': 0.011213069200515747, 'loss': 0.9241646492332221, 'time_step': 0.01310483980178833, 'rollout_return': 14.368, 'evaluation': 16.1} step=87000\n"
     ]
    },
    {
     "name": "stderr",
     "output_type": "stream",
     "text": [
      " 88%|████████▊ | 87994/100000 [14:10<03:26, 58.08it/s] "
     ]
    },
    {
     "name": "stdout",
     "output_type": "stream",
     "text": [
      "2022-04-09 10:55.58 [info     ] Model parameters are saved to d3rlpy_logs/DoubleDQN_online_20220409104147/model_88000.pt\n",
      "2022-04-09 10:55.58 [info     ] DoubleDQN_online_20220409104147: epoch=88 step=88000 epoch=88 metrics={'time_inference': 0.0005540759563446045, 'time_environment_step': 0.0010421851021902902, 'time_sample_batch': 0.0001246957778930664, 'time_algorithm_update': 0.010886483907699585, 'loss': 0.8934526187181473, 'time_step': 0.012563753843307495, 'rollout_return': 15.088, 'evaluation': 15.6} step=88000\n"
     ]
    },
    {
     "name": "stderr",
     "output_type": "stream",
     "text": [
      " 89%|████████▉ | 88987/100000 [14:24<02:04, 88.76it/s] "
     ]
    },
    {
     "name": "stdout",
     "output_type": "stream",
     "text": [
      "2022-04-09 10:56.12 [info     ] Model parameters are saved to d3rlpy_logs/DoubleDQN_online_20220409104147/model_89000.pt\n",
      "2022-04-09 10:56.12 [info     ] DoubleDQN_online_20220409104147: epoch=89 step=89000 epoch=89 metrics={'time_inference': 0.000515380859375, 'time_environment_step': 0.0010388862064906529, 'time_sample_batch': 0.00010913681983947754, 'time_algorithm_update': 0.010607019662857056, 'loss': 0.8723974390029907, 'time_step': 0.012241616487503052, 'rollout_return': 14.648, 'evaluation': 16.0} step=89000\n"
     ]
    },
    {
     "name": "stderr",
     "output_type": "stream",
     "text": [
      " 90%|████████▉ | 89994/100000 [14:38<01:47, 92.83it/s] "
     ]
    },
    {
     "name": "stdout",
     "output_type": "stream",
     "text": [
      "2022-04-09 10:56.26 [info     ] Model parameters are saved to d3rlpy_logs/DoubleDQN_online_20220409104147/model_90000.pt\n",
      "2022-04-09 10:56.26 [info     ] DoubleDQN_online_20220409104147: epoch=90 step=90000 epoch=90 metrics={'time_inference': 0.0006219727993011474, 'time_environment_step': 0.0010353200095040457, 'time_sample_batch': 0.00015393471717834473, 'time_algorithm_update': 0.01092515254020691, 'loss': 0.8564030283987523, 'time_step': 0.012721097707748413, 'rollout_return': 15.152, 'evaluation': 15.2} step=90000\n"
     ]
    },
    {
     "name": "stderr",
     "output_type": "stream",
     "text": [
      " 91%|█████████ | 90986/100000 [14:51<01:59, 75.48it/s] "
     ]
    },
    {
     "name": "stdout",
     "output_type": "stream",
     "text": [
      "2022-04-09 10:56.38 [info     ] Model parameters are saved to d3rlpy_logs/DoubleDQN_online_20220409104147/model_91000.pt\n",
      "2022-04-09 10:56.39 [info     ] DoubleDQN_online_20220409104147: epoch=91 step=91000 epoch=91 metrics={'time_inference': 0.0005716583728790283, 'time_environment_step': 0.0010269462040492466, 'time_sample_batch': 0.00012471246719360351, 'time_algorithm_update': 0.009477934837341308, 'loss': 0.8216318470835686, 'time_step': 0.011152428150177002, 'rollout_return': 14.76, 'evaluation': 18.5} step=91000\n"
     ]
    },
    {
     "name": "stderr",
     "output_type": "stream",
     "text": [
      " 92%|█████████▏| 91996/100000 [15:06<02:02, 65.51it/s] "
     ]
    },
    {
     "name": "stdout",
     "output_type": "stream",
     "text": [
      "2022-04-09 10:56.54 [info     ] Model parameters are saved to d3rlpy_logs/DoubleDQN_online_20220409104147/model_92000.pt\n",
      "2022-04-09 10:56.54 [info     ] DoubleDQN_online_20220409104147: epoch=92 step=92000 epoch=92 metrics={'time_inference': 0.0005930280685424805, 'time_environment_step': 0.0012605569022042411, 'time_sample_batch': 0.00012838649749755858, 'time_algorithm_update': 0.011504087209701539, 'loss': 0.8038686243593692, 'time_step': 0.013437800407409668, 'rollout_return': 15.456, 'evaluation': 15.1} step=92000\n"
     ]
    },
    {
     "name": "stderr",
     "output_type": "stream",
     "text": [
      " 93%|█████████▎| 92998/100000 [15:21<01:43, 67.72it/s] "
     ]
    },
    {
     "name": "stdout",
     "output_type": "stream",
     "text": [
      "2022-04-09 10:57.08 [info     ] Model parameters are saved to d3rlpy_logs/DoubleDQN_online_20220409104147/model_93000.pt\n",
      "2022-04-09 10:57.08 [info     ] DoubleDQN_online_20220409104147: epoch=93 step=93000 epoch=93 metrics={'time_inference': 0.0005433967113494873, 'time_environment_step': 0.0011310198647635323, 'time_sample_batch': 0.00014339041709899902, 'time_algorithm_update': 0.01107974410057068, 'loss': 0.8763288668990136, 'time_step': 0.01283318591117859, 'rollout_return': 13.92, 'evaluation': 16.7} step=93000\n"
     ]
    },
    {
     "name": "stderr",
     "output_type": "stream",
     "text": [
      " 94%|█████████▍| 93997/100000 [15:34<01:30, 66.31it/s] "
     ]
    },
    {
     "name": "stdout",
     "output_type": "stream",
     "text": [
      "2022-04-09 10:57.22 [info     ] Model parameters are saved to d3rlpy_logs/DoubleDQN_online_20220409104147/model_94000.pt\n",
      "2022-04-09 10:57.22 [info     ] DoubleDQN_online_20220409104147: epoch=94 step=94000 epoch=94 metrics={'time_inference': 0.0005189085006713867, 'time_environment_step': 0.001027045113699777, 'time_sample_batch': 0.00010963964462280274, 'time_algorithm_update': 0.010622993230819703, 'loss': 0.8673127862811089, 'time_step': 0.01225070357322693, 'rollout_return': 15.224, 'evaluation': 7.3} step=94000\n"
     ]
    },
    {
     "name": "stderr",
     "output_type": "stream",
     "text": [
      " 95%|█████████▍| 94984/100000 [15:49<01:29, 55.76it/s] "
     ]
    },
    {
     "name": "stdout",
     "output_type": "stream",
     "text": [
      "2022-04-09 10:57.36 [info     ] Model parameters are saved to d3rlpy_logs/DoubleDQN_online_20220409104147/model_95000.pt\n",
      "2022-04-09 10:57.36 [info     ] DoubleDQN_online_20220409104147: epoch=95 step=95000 epoch=95 metrics={'time_inference': 0.000504765272140503, 'time_environment_step': 0.0010674501146589006, 'time_sample_batch': 0.00011583805084228516, 'time_algorithm_update': 0.011057716131210328, 'loss': 0.7770682124942541, 'time_step': 0.012707236766815186, 'rollout_return': 14.392, 'evaluation': 16.4} step=95000\n"
     ]
    },
    {
     "name": "stderr",
     "output_type": "stream",
     "text": [
      " 96%|█████████▌| 95995/100000 [16:01<00:50, 79.83it/s] "
     ]
    },
    {
     "name": "stdout",
     "output_type": "stream",
     "text": [
      "2022-04-09 10:57.49 [info     ] Model parameters are saved to d3rlpy_logs/DoubleDQN_online_20220409104147/model_96000.pt\n",
      "2022-04-09 10:57.49 [info     ] DoubleDQN_online_20220409104147: epoch=96 step=96000 epoch=96 metrics={'time_inference': 0.0004942851066589355, 'time_environment_step': 0.0009854725428989955, 'time_sample_batch': 0.00010401582717895508, 'time_algorithm_update': 0.009544723749160766, 'loss': 0.7986395505070686, 'time_step': 0.011084636926651, 'rollout_return': 14.616, 'evaluation': 15.2} step=96000\n"
     ]
    },
    {
     "name": "stderr",
     "output_type": "stream",
     "text": [
      " 97%|█████████▋| 96992/100000 [16:16<00:45, 66.70it/s] "
     ]
    },
    {
     "name": "stdout",
     "output_type": "stream",
     "text": [
      "2022-04-09 10:58.04 [info     ] Model parameters are saved to d3rlpy_logs/DoubleDQN_online_20220409104147/model_97000.pt\n",
      "2022-04-09 10:58.04 [info     ] DoubleDQN_online_20220409104147: epoch=97 step=97000 epoch=97 metrics={'time_inference': 0.0005884227752685547, 'time_environment_step': 0.0010630514962332589, 'time_sample_batch': 0.00012413716316223144, 'time_algorithm_update': 0.011457706689834595, 'loss': 0.8662950781285763, 'time_step': 0.013187160968780517, 'rollout_return': 14.448, 'evaluation': 13.6} step=97000\n"
     ]
    },
    {
     "name": "stderr",
     "output_type": "stream",
     "text": [
      " 98%|█████████▊| 97997/100000 [16:30<00:31, 64.19it/s] "
     ]
    },
    {
     "name": "stdout",
     "output_type": "stream",
     "text": [
      "2022-04-09 10:58.17 [info     ] Model parameters are saved to d3rlpy_logs/DoubleDQN_online_20220409104147/model_98000.pt\n",
      "2022-04-09 10:58.17 [info     ] DoubleDQN_online_20220409104147: epoch=98 step=98000 epoch=98 metrics={'time_inference': 0.0005580635070800781, 'time_environment_step': 0.0010570035661969866, 'time_sample_batch': 0.00016972661018371582, 'time_algorithm_update': 0.009917794704437256, 'loss': 0.8661165739893913, 'time_step': 0.01169810962677002, 'rollout_return': 14.832, 'evaluation': 18.0} step=98000\n"
     ]
    },
    {
     "name": "stderr",
     "output_type": "stream",
     "text": [
      " 99%|█████████▉| 98991/100000 [16:42<00:11, 91.30it/s] "
     ]
    },
    {
     "name": "stdout",
     "output_type": "stream",
     "text": [
      "2022-04-09 10:58.30 [info     ] Model parameters are saved to d3rlpy_logs/DoubleDQN_online_20220409104147/model_99000.pt\n",
      "2022-04-09 10:58.30 [info     ] DoubleDQN_online_20220409104147: epoch=99 step=99000 epoch=99 metrics={'time_inference': 0.00046579933166503905, 'time_environment_step': 0.000989823477608817, 'time_sample_batch': 0.0001355454921722412, 'time_algorithm_update': 0.009691028356552124, 'loss': 0.8464893105328083, 'time_step': 0.011234407186508179, 'rollout_return': 15.032, 'evaluation': 12.1} step=99000\n"
     ]
    },
    {
     "name": "stderr",
     "output_type": "stream",
     "text": [
      "100%|█████████▉| 99997/100000 [16:57<00:00, 64.46it/s] "
     ]
    },
    {
     "name": "stdout",
     "output_type": "stream",
     "text": [
      "2022-04-09 10:58.44 [info     ] Model parameters are saved to d3rlpy_logs/DoubleDQN_online_20220409104147/model_100000.pt\n",
      "2022-04-09 10:58.44 [info     ] DoubleDQN_online_20220409104147: epoch=100 step=100000 epoch=100 metrics={'time_inference': 0.00056217360496521, 'time_environment_step': 0.001112337384905134, 'time_sample_batch': 0.00014113926887512207, 'time_algorithm_update': 0.011125454664230346, 'loss': 0.8055439052581788, 'time_step': 0.012896185636520386, 'rollout_return': 15.168, 'evaluation': 14.3} step=100000\n"
     ]
    },
    {
     "name": "stderr",
     "output_type": "stream",
     "text": [
      "100%|██████████| 100000/100000 [16:57<00:00, 98.28it/s]\n"
     ]
    }
   ],
   "source": [
    "# start training\n",
    "# skip if there is a pre-trained model\n",
    "ddqn.fit_online(\n",
    "    env,\n",
    "    buffer,\n",
    "    explorer=explorer,\n",
    "    eval_env=env,\n",
    "    n_steps=100000,\n",
    "    n_steps_per_epoch=1000,\n",
    ")"
   ]
  },
  {
   "cell_type": "code",
   "execution_count": 23,
   "metadata": {},
   "outputs": [],
   "source": [
    "# save model\n",
    "ddqn.save_model(\"d3rlpy_logs/ddqn.pt\")"
   ]
  },
  {
   "cell_type": "code",
   "execution_count": 19,
   "metadata": {},
   "outputs": [],
   "source": [
    "# reload model\n",
    "ddqn.build_with_env(env)\n",
    "ddqn.load_model(\"d3rlpy_logs/ddqn.pt\")"
   ]
  },
  {
   "cell_type": "code",
   "execution_count": 20,
   "metadata": {},
   "outputs": [
    {
     "data": {
      "text/plain": [
       "Text(0, 0.5, 'episode reward')"
      ]
     },
     "execution_count": 20,
     "metadata": {},
     "output_type": "execute_result"
    },
    {
     "data": {
      "image/png": "[encoded data removed]",
      "text/plain": [
       "<Figure size 432x288 with 1 Axes>"
      ]
     },
     "metadata": {
      "needs_background": "light"
     },
     "output_type": "display_data"
    }
   ],
   "source": [
    "# we see that training RL policy can be risky online\n",
    "log_path = sorted(glob(\"d3rlpy_logs/DoubleDQN_online_*/evaluation.csv\"))[-1]\n",
    "df = pd.read_csv(\n",
    "    log_path, \n",
    "    usecols=[1,2],\n",
    "    names=[\"train_episode\", \"episodic_rewards\"]\n",
    ")\n",
    "plt.plot(df[\"train_episode\"], df[\"episodic_rewards\"])\n",
    "plt.title(\"Learning curve of DDQN\")\n",
    "plt.xlabel(\"episode\")\n",
    "plt.ylabel(\"episode reward\")"
   ]
  },
  {
   "cell_type": "code",
   "execution_count": 21,
   "metadata": {},
   "outputs": [],
   "source": [
    "random = DiscreteRandomPolicy()\n",
    "random.build_with_env(env)"
   ]
  },
  {
   "cell_type": "code",
   "execution_count": 22,
   "metadata": {},
   "outputs": [
    {
     "data": {
      "application/vnd.jupyter.widget-view+json": {
       "model_id": "5e1ca0b976e743d9ae985f24ecd9767a",
       "version_major": 2,
       "version_minor": 0
      },
      "text/plain": [
       "[calculate on-policy policy value]:   0%|          | 0/100 [00:00<?, ?it/s]"
      ]
     },
     "metadata": {},
     "output_type": "display_data"
    },
    {
     "data": {
      "application/vnd.jupyter.widget-view+json": {
       "model_id": "5aaa8a52e5e94261b48cad899122262e",
       "version_major": 2,
       "version_minor": 0
      },
      "text/plain": [
       "[calculate on-policy policy value]:   0%|          | 0/100 [00:00<?, ?it/s]"
      ]
     },
     "metadata": {},
     "output_type": "display_data"
    },
    {
     "data": {
      "image/png": "[encoded data removed]",
      "text/plain": [
       "<Figure size 288x288 with 1 Axes>"
      ]
     },
     "metadata": {},
     "output_type": "display_data"
    }
   ],
   "source": [
    "# compare performance online\n",
    "visualize_on_policy_policy_value(\n",
    "    env=env,\n",
    "    policies=[ddqn, random],\n",
    "    policy_names=[\"ddqn\", \"random\"],\n",
    "    n_episodes=100,\n",
    "    random_state=random_state,\n",
    ")"
   ]
  },
  {
   "cell_type": "code",
   "execution_count": 23,
   "metadata": {},
   "outputs": [
    {
     "data": {
      "application/vnd.jupyter.widget-view+json": {
       "model_id": "d777b98e29be4ee99052646dc34bf58a",
       "version_major": 2,
       "version_minor": 0
      },
      "text/plain": [
       "[calculate on-policy policy value]:   0%|          | 0/100 [00:00<?, ?it/s]"
      ]
     },
     "metadata": {},
     "output_type": "display_data"
    },
    {
     "data": {
      "application/vnd.jupyter.widget-view+json": {
       "model_id": "9453a80ee40441b297d893fe029df44d",
       "version_major": 2,
       "version_minor": 0
      },
      "text/plain": [
       "[calculate on-policy policy value]:   0%|          | 0/100 [00:00<?, ?it/s]"
      ]
     },
     "metadata": {},
     "output_type": "display_data"
    },
    {
     "name": "stdout",
     "output_type": "stream",
     "text": [
      "relative improvement: -0.03738317757009349\n"
     ]
    }
   ],
   "source": [
    "# on-policy policy value by ddqn policy\n",
    "# largely outperforms random policy (about 20%)\n",
    "ddqn_performance = calc_on_policy_policy_value(env, ddqn, n_episodes=100, random_state=random_state)\n",
    "random_performance = calc_on_policy_policy_value(env, random, n_episodes=100, random_state=random_state)\n",
    "print(\"relative improvement:\", (ddqn_performance - random_performance) / random_performance)"
   ]
  },
  {
   "cell_type": "markdown",
   "metadata": {},
   "source": [
    "## 1. Synthetic Dataset Generation\n",
    "In the previous section, we see how we can interact the environment *online* using synthetic simulator.  \n",
    "Though simulation is a good start for training agent, eventually we want to deploy our agent (or policy) in the real world environment.  \n",
    "However, online interaction may have potential risk of failure in real-world implementataion.  \n",
    "Therefore, we introduce alternative learning protocol, Offline RL, which aim to obtain a new policy using only offline logged dataset.\n",
    "\n",
    "We prepare easy-to-use synthetic dataset generator: `SyntheticDataset` class in the dataset module.  \n",
    "By regarding simulation environment as a hypothetical real-environment, we show how to conduct Offline RL using logged dataset in real-world application.  \n",
    "For detailed description of how to use real-world dataset, please see #TODO (will be implemented).\n",
    "\n",
    "We have following arguments for `SyntheticDataset` class:\n",
    "- `env`: RTB environment for RL defined in the previous section.\n",
    "- `bahavior_policy`: RL agent (or algorithm) used for the data collection.\n",
    "- `n_samples_pretrain_reward_predictor`: Numbers of samples used to pretrain reward predictor."
   ]
  },
  {
   "cell_type": "code",
   "execution_count": 24,
   "metadata": {},
   "outputs": [],
   "source": [
    "# import necessary module from offlinegym\n",
    "from offlinegym.policy import DiscreteEpsilonGreedyHead"
   ]
  },
  {
   "cell_type": "code",
   "execution_count": 25,
   "metadata": {},
   "outputs": [],
   "source": [
    "behavior_policy = DiscreteEpsilonGreedyHead(\n",
    "    ddqn, \n",
    "    n_actions=env.action_space.n,\n",
    "    epsilon=0.3,\n",
    "    name=\"ddqn_epsilon_0.3\",\n",
    "    random_state=random_state,\n",
    ")"
   ]
  },
  {
   "cell_type": "code",
   "execution_count": 26,
   "metadata": {},
   "outputs": [],
   "source": [
    "# initialize dataset class\n",
    "dataset = SyntheticDataset(\n",
    "    env=env,\n",
    "    behavior_policy=behavior_policy,\n",
    "    random_state=random_state,\n",
    ")"
   ]
  },
  {
   "cell_type": "code",
   "execution_count": 32,
   "metadata": {},
   "outputs": [
    {
     "data": {
      "application/vnd.jupyter.widget-view+json": {
       "model_id": "384f592a11f2419b892a677004da9090",
       "version_major": 2,
       "version_minor": 0
      },
      "text/plain": [
       "[obtain_trajectories]:   0%|          | 0/10000 [00:00<?, ?it/s]"
      ]
     },
     "metadata": {},
     "output_type": "display_data"
    }
   ],
   "source": [
    "# collect logged data using behavior policy\n",
    "# skip if there is a preserved logged dataset\n",
    "logged_dataset = dataset.obtain_trajectories(n_episodes=10000, obtain_info=True)"
   ]
  },
  {
   "cell_type": "code",
   "execution_count": 33,
   "metadata": {},
   "outputs": [
    {
     "data": {
      "text/plain": [
       "{'size': 70000,\n",
       " 'n_episodes': 10000,\n",
       " 'step_per_episode': 7,\n",
       " 'action_type': 'discrete',\n",
       " 'n_actions': 10,\n",
       " 'action_dim': None,\n",
       " 'action_meaning': array([ 0.1       ,  0.16681005,  0.27825594,  0.46415888,  0.77426368,\n",
       "         1.29154967,  2.15443469,  3.59381366,  5.9948425 , 10.        ]),\n",
       " 'state_dim': 7,\n",
       " 'state_keys': ['timestep',\n",
       "  'remaining_budget',\n",
       "  'budget_consumption_rate',\n",
       "  'cost_per_mille_of_impression',\n",
       "  'winning_rate',\n",
       "  'reward',\n",
       "  'adjust_rate'],\n",
       " 'state': array([[0.00000000e+00, 3.00000000e+03, 9.29616093e-01, ...,\n",
       "         1.83918812e-01, 2.00000000e+00, 1.06762161e+00],\n",
       "        [1.00000000e+00, 1.91000000e+03, 3.63333333e-01, ...,\n",
       "         1.00000000e+00, 6.00000000e+00, 1.00000000e+01],\n",
       "        [2.00000000e+00, 1.91000000e+03, 0.00000000e+00, ...,\n",
       "         0.00000000e+00, 0.00000000e+00, 1.66810054e-01],\n",
       "        ...,\n",
       "        [4.00000000e+00, 2.20000000e+01, 0.00000000e+00, ...,\n",
       "         3.38164251e-02, 0.00000000e+00, 5.99484250e+00],\n",
       "        [5.00000000e+00, 2.20000000e+01, 0.00000000e+00, ...,\n",
       "         4.92610837e-03, 0.00000000e+00, 2.15443469e+00],\n",
       "        [6.00000000e+00, 2.20000000e+01, 0.00000000e+00, ...,\n",
       "         7.78210117e-03, 0.00000000e+00, 5.99484250e+00]]),\n",
       " 'action': array([9., 1., 9., ..., 6., 8., 6.]),\n",
       " 'reward': array([6., 0., 1., ..., 0., 0., 0.]),\n",
       " 'done': array([0., 0., 0., ..., 0., 0., 1.]),\n",
       " 'terminal': array([0., 0., 0., ..., 0., 0., 1.]),\n",
       " 'info': {'search_volume': array([201., 205., 217., ..., 203., 257., 179.]),\n",
       "  'impression': array([201.,   0., 217., ...,   1.,   2.,   4.]),\n",
       "  'click': array([21.,  0., 24., ...,  0.,  0.,  0.]),\n",
       "  'conversion': array([6., 0., 1., ..., 0., 0., 0.]),\n",
       "  'average_bid_price': array([581.42288557,   8.51707317, 530.20276498, ..., 101.1182266 ,\n",
       "         270.03501946,  94.54189944])},\n",
       " 'pscore': array([0.73, 0.03, 0.73, ..., 0.73, 0.73, 0.73])}"
      ]
     },
     "execution_count": 33,
     "metadata": {},
     "output_type": "execute_result"
    }
   ],
   "source": [
    "logged_dataset"
   ]
  },
  {
   "cell_type": "code",
   "execution_count": 34,
   "metadata": {},
   "outputs": [],
   "source": [
    "with open(\"logs/dataset_discrete.pkl\", \"wb\") as f:\n",
    "    pickle.dump(logged_dataset, f)"
   ]
  },
  {
   "cell_type": "code",
   "execution_count": 27,
   "metadata": {},
   "outputs": [],
   "source": [
    "with open(\"logs/dataset_discrete.pkl\", \"rb\") as f:\n",
    "    logged_dataset = pickle.load(f)"
   ]
  },
  {
   "cell_type": "code",
   "execution_count": 28,
   "metadata": {},
   "outputs": [
    {
     "data": {
      "application/vnd.jupyter.widget-view+json": {
       "model_id": "96993d792fb747fba7dbab256b29958d",
       "version_major": 2,
       "version_minor": 0
      },
      "text/plain": [
       "[calculate on-policy policy value]:   0%|          | 0/100 [00:00<?, ?it/s]"
      ]
     },
     "metadata": {},
     "output_type": "display_data"
    },
    {
     "data": {
      "application/vnd.jupyter.widget-view+json": {
       "model_id": "6f5d582d44ff4c5aa507ebb9e0e59aef",
       "version_major": 2,
       "version_minor": 0
      },
      "text/plain": [
       "[calculate on-policy policy value]:   0%|          | 0/100 [00:00<?, ?it/s]"
      ]
     },
     "metadata": {},
     "output_type": "display_data"
    },
    {
     "data": {
      "application/vnd.jupyter.widget-view+json": {
       "model_id": "0811295db1dc4f4e8ed9ed42493a5548",
       "version_major": 2,
       "version_minor": 0
      },
      "text/plain": [
       "[calculate on-policy policy value]:   0%|          | 0/100 [00:00<?, ?it/s]"
      ]
     },
     "metadata": {},
     "output_type": "display_data"
    },
    {
     "data": {
      "image/png": "[encoded data removed]",
      "text/plain": [
       "<Figure size 432x288 with 1 Axes>"
      ]
     },
     "metadata": {},
     "output_type": "display_data"
    }
   ],
   "source": [
    "# compare performance online\n",
    "# almost same performance with greedy ddqn\n",
    "visualize_on_policy_policy_value(\n",
    "    env=env,\n",
    "    policies=[ddqn, behavior_policy, random],\n",
    "    policy_names=[\"ddqn\", \"ddqn (e=0.3)\", \"random\"],\n",
    "    n_episodes=100,\n",
    "    random_state=random_state,\n",
    ")"
   ]
  },
  {
   "cell_type": "code",
   "execution_count": 29,
   "metadata": {},
   "outputs": [
    {
     "data": {
      "text/html": [
       "<div>\n",
       "<style scoped>\n",
       "    .dataframe tbody tr th:only-of-type {\n",
       "        vertical-align: middle;\n",
       "    }\n",
       "\n",
       "    .dataframe tbody tr th {\n",
       "        vertical-align: top;\n",
       "    }\n",
       "\n",
       "    .dataframe thead th {\n",
       "        text-align: right;\n",
       "    }\n",
       "</style>\n",
       "<table border=\"1\" class=\"dataframe\">\n",
       "  <thead>\n",
       "    <tr style=\"text-align: right;\">\n",
       "      <th></th>\n",
       "      <th>adjust rate</th>\n",
       "      <th>average bid price</th>\n",
       "      <th>impression</th>\n",
       "      <th>click</th>\n",
       "      <th>conversion</th>\n",
       "      <th>winning rate</th>\n",
       "      <th>click / impression</th>\n",
       "      <th>conversion / click</th>\n",
       "    </tr>\n",
       "  </thead>\n",
       "  <tbody>\n",
       "    <tr>\n",
       "      <th>count</th>\n",
       "      <td>70000.000000</td>\n",
       "      <td>70000.000000</td>\n",
       "      <td>70000.000000</td>\n",
       "      <td>70000.000000</td>\n",
       "      <td>70000.000000</td>\n",
       "      <td>70000.000000</td>\n",
       "      <td>70000.000000</td>\n",
       "      <td>70000.000000</td>\n",
       "    </tr>\n",
       "    <tr>\n",
       "      <th>mean</th>\n",
       "      <td>4.480893</td>\n",
       "      <td>249.816086</td>\n",
       "      <td>90.265471</td>\n",
       "      <td>8.674686</td>\n",
       "      <td>2.028443</td>\n",
       "      <td>0.517691</td>\n",
       "      <td>0.060056</td>\n",
       "      <td>0.128410</td>\n",
       "    </tr>\n",
       "    <tr>\n",
       "      <th>std</th>\n",
       "      <td>3.620450</td>\n",
       "      <td>192.838475</td>\n",
       "      <td>90.130482</td>\n",
       "      <td>9.437137</td>\n",
       "      <td>2.910564</td>\n",
       "      <td>0.429352</td>\n",
       "      <td>0.069770</td>\n",
       "      <td>0.179454</td>\n",
       "    </tr>\n",
       "    <tr>\n",
       "      <th>min</th>\n",
       "      <td>0.000096</td>\n",
       "      <td>3.732323</td>\n",
       "      <td>0.000000</td>\n",
       "      <td>0.000000</td>\n",
       "      <td>0.000000</td>\n",
       "      <td>0.000000</td>\n",
       "      <td>0.000000</td>\n",
       "      <td>0.000000</td>\n",
       "    </tr>\n",
       "    <tr>\n",
       "      <th>25%</th>\n",
       "      <td>0.847021</td>\n",
       "      <td>58.770796</td>\n",
       "      <td>3.000000</td>\n",
       "      <td>0.000000</td>\n",
       "      <td>0.000000</td>\n",
       "      <td>0.034653</td>\n",
       "      <td>0.000000</td>\n",
       "      <td>0.000000</td>\n",
       "    </tr>\n",
       "    <tr>\n",
       "      <th>50%</th>\n",
       "      <td>5.994843</td>\n",
       "      <td>283.858259</td>\n",
       "      <td>44.000000</td>\n",
       "      <td>4.000000</td>\n",
       "      <td>0.000000</td>\n",
       "      <td>0.548828</td>\n",
       "      <td>0.067961</td>\n",
       "      <td>0.000000</td>\n",
       "    </tr>\n",
       "    <tr>\n",
       "      <th>75%</th>\n",
       "      <td>5.994843</td>\n",
       "      <td>328.606331</td>\n",
       "      <td>187.000000</td>\n",
       "      <td>17.000000</td>\n",
       "      <td>3.000000</td>\n",
       "      <td>1.000000</td>\n",
       "      <td>0.102151</td>\n",
       "      <td>0.222222</td>\n",
       "    </tr>\n",
       "    <tr>\n",
       "      <th>max</th>\n",
       "      <td>11.761622</td>\n",
       "      <td>585.751381</td>\n",
       "      <td>290.000000</td>\n",
       "      <td>41.000000</td>\n",
       "      <td>20.000000</td>\n",
       "      <td>1.000000</td>\n",
       "      <td>0.999990</td>\n",
       "      <td>0.999998</td>\n",
       "    </tr>\n",
       "  </tbody>\n",
       "</table>\n",
       "</div>"
      ],
      "text/plain": [
       "        adjust rate  average bid price    impression         click  \\\n",
       "count  70000.000000       70000.000000  70000.000000  70000.000000   \n",
       "mean       4.480893         249.816086     90.265471      8.674686   \n",
       "std        3.620450         192.838475     90.130482      9.437137   \n",
       "min        0.000096           3.732323      0.000000      0.000000   \n",
       "25%        0.847021          58.770796      3.000000      0.000000   \n",
       "50%        5.994843         283.858259     44.000000      4.000000   \n",
       "75%        5.994843         328.606331    187.000000     17.000000   \n",
       "max       11.761622         585.751381    290.000000     41.000000   \n",
       "\n",
       "         conversion  winning rate  click / impression  conversion / click  \n",
       "count  70000.000000  70000.000000        70000.000000        70000.000000  \n",
       "mean       2.028443      0.517691            0.060056            0.128410  \n",
       "std        2.910564      0.429352            0.069770            0.179454  \n",
       "min        0.000000      0.000000            0.000000            0.000000  \n",
       "25%        0.000000      0.034653            0.000000            0.000000  \n",
       "50%        0.000000      0.548828            0.067961            0.000000  \n",
       "75%        3.000000      1.000000            0.102151            0.222222  \n",
       "max       20.000000      1.000000            0.999990            0.999998  "
      ]
     },
     "execution_count": 29,
     "metadata": {},
     "output_type": "execute_result"
    }
   ],
   "source": [
    "# check statistics of the dataset\n",
    "df = pd.DataFrame()\n",
    "df['adjust rate'] = logged_dataset['state'][:, 6]\n",
    "df['average bid price'] = logged_dataset['info']['average_bid_price']\n",
    "df['impression'] = logged_dataset['info']['impression']\n",
    "df['click'] = logged_dataset['info']['click']\n",
    "df['conversion'] = logged_dataset['info']['conversion']\n",
    "df['winning rate'] = logged_dataset['state'][:, 4]\n",
    "df['click / impression'] = df['click'] / (df['impression'] + 1e-5)\n",
    "df['conversion / click'] = df['conversion'] / (df['click'] + 1e-5)\n",
    "df.describe()"
   ]
  },
  {
   "cell_type": "markdown",
   "metadata": {},
   "source": [
    "For more about the data collection and visualization, please refer to [examples/quickstart/rtb_synthetic_data_collection.ipynb](https://github.com/negocia-inc/rtb_reinforcement_learing/blob/ope/examples/quickstart/rtb_synthetic_data_collection.ipynb)."
   ]
  },
  {
   "cell_type": "markdown",
   "metadata": {},
   "source": [
    "## 2. Offline Reinforcement Learning\n",
    "In this section, we learn a new policy in an offline manner, without interacting to the environment.  \n",
    "To achieve this goal, we exploit logged dataset and train the policy on the data.  \n",
    "We use [d3rlpy](https://github.com/takuseno/d3rlpy)'s implementation of algorithms."
   ]
  },
  {
   "cell_type": "code",
   "execution_count": 30,
   "metadata": {},
   "outputs": [],
   "source": [
    "# import modules from d3rlpy\n",
    "from d3rlpy.dataset import MDPDataset\n",
    "from d3rlpy.algos import DiscreteCQL\n",
    "from d3rlpy.ope import DiscreteFQE\n",
    "from d3rlpy.metrics.scorer import evaluate_on_environment"
   ]
  },
  {
   "cell_type": "code",
   "execution_count": 31,
   "metadata": {},
   "outputs": [],
   "source": [
    "offlinerl_dataset = MDPDataset(\n",
    "    observations=logged_dataset[\"state\"],\n",
    "    actions=logged_dataset[\"action\"],\n",
    "    rewards=logged_dataset[\"reward\"],\n",
    "    terminals=logged_dataset[\"done\"],\n",
    "    episode_terminals=logged_dataset[\"done\"],\n",
    "    discrete_action=True,\n",
    ")\n",
    "train_episodes, test_episodes = train_test_split(offlinerl_dataset, test_size=0.2, random_state=random_state)"
   ]
  },
  {
   "cell_type": "code",
   "execution_count": 32,
   "metadata": {},
   "outputs": [],
   "source": [
    "# Use Conservetive Q-Learning policy\n",
    "cql = DiscreteCQL(\n",
    "    encoder_factory=VectorEncoderFactory(hidden_units=[30, 30]),\n",
    "    q_func_factory=MeanQFunctionFactory(),\n",
    "    use_gpu=torch.cuda.is_available(),\n",
    ")"
   ]
  },
  {
   "cell_type": "code",
   "execution_count": 41,
   "metadata": {},
   "outputs": [
    {
     "name": "stdout",
     "output_type": "stream",
     "text": [
      "2022-04-09 11:04.57 [debug    ] RandomIterator is selected.\n",
      "2022-04-09 11:04.57 [info     ] Directory is created at d3rlpy_logs/DiscreteCQL_20220409110457\n",
      "2022-04-09 11:04.57 [debug    ] Building models...\n",
      "2022-04-09 11:04.57 [debug    ] Models have been built.\n",
      "2022-04-09 11:04.57 [info     ] Parameters are saved to d3rlpy_logs/DiscreteCQL_20220409110457/params.json params={'action_scaler': None, 'alpha': 1.0, 'batch_size': 32, 'encoder_factory': {'type': 'vector', 'params': {'hidden_units': [30, 30], 'activation': 'relu', 'use_batch_norm': False, 'dropout_rate': None, 'use_dense': False}}, 'gamma': 0.99, 'generated_maxlen': 100000, 'learning_rate': 6.25e-05, 'n_critics': 1, 'n_frames': 1, 'n_steps': 1, 'optim_factory': {'optim_cls': 'Adam', 'betas': (0.9, 0.999), 'eps': 1e-08, 'weight_decay': 0, 'amsgrad': False}, 'q_func_factory': {'type': 'mean', 'params': {'bootstrap': False, 'share_encoder': False}}, 'real_ratio': 1.0, 'reward_scaler': None, 'scaler': None, 'target_reduction_type': 'min', 'target_update_interval': 8000, 'use_gpu': None, 'algorithm': 'DiscreteCQL', 'observation_shape': (7,), 'action_size': 10}\n"
     ]
    },
    {
     "data": {
      "application/vnd.jupyter.widget-view+json": {
       "model_id": "f078eeebdbc44febbb5d164ae5c2b704",
       "version_major": 2,
       "version_minor": 0
      },
      "text/plain": [
       "Epoch 1/1:   0%|          | 0/10000 [00:00<?, ?it/s]"
      ]
     },
     "metadata": {},
     "output_type": "display_data"
    },
    {
     "name": "stdout",
     "output_type": "stream",
     "text": [
      "2022-04-09 11:05.37 [info     ] DiscreteCQL_20220409110457: epoch=1 step=10000 epoch=1 metrics={'time_sample_batch': 0.0002075270652770996, 'time_algorithm_update': 0.0034426634311676024, 'loss': 95.64546132564544, 'time_step': 0.0038560485124588015, 'environment': 14.2} step=10000\n",
      "2022-04-09 11:05.37 [info     ] Model parameters are saved to d3rlpy_logs/DiscreteCQL_20220409110457/model_10000.pt\n"
     ]
    },
    {
     "data": {
      "text/plain": [
       "[(1,\n",
       "  {'time_sample_batch': 0.0002075270652770996,\n",
       "   'time_algorithm_update': 0.0034426634311676024,\n",
       "   'loss': 95.64546132564544,\n",
       "   'time_step': 0.0038560485124588015,\n",
       "   'environment': 14.2})]"
      ]
     },
     "execution_count": 41,
     "metadata": {},
     "output_type": "execute_result"
    }
   ],
   "source": [
    "cql.fit(\n",
    "    train_episodes,\n",
    "    eval_episodes=test_episodes,\n",
    "    n_steps=10000,\n",
    "    scorers={\n",
    "        'environment': evaluate_on_environment(env),\n",
    "        # to record training process w/ ground truth policy value, which is unseen to the agent\n",
    "    },\n",
    ")"
   ]
  },
  {
   "cell_type": "code",
   "execution_count": 42,
   "metadata": {},
   "outputs": [],
   "source": [
    "# save model\n",
    "cql.save_model(\"d3rlpy_logs/cql_discrete.pt\")"
   ]
  },
  {
   "cell_type": "code",
   "execution_count": 33,
   "metadata": {},
   "outputs": [],
   "source": [
    "# reload model\n",
    "cql.build_with_env(env)\n",
    "cql.load_model(\"d3rlpy_logs/cql_discrete.pt\")"
   ]
  },
  {
   "cell_type": "code",
   "execution_count": 49,
   "metadata": {},
   "outputs": [
    {
     "data": {
      "application/vnd.jupyter.widget-view+json": {
       "model_id": "aea04bd71c40491bb05960cee3cf2efe",
       "version_major": 2,
       "version_minor": 0
      },
      "text/plain": [
       "[calculate on-policy policy value]:   0%|          | 0/100 [00:00<?, ?it/s]"
      ]
     },
     "metadata": {},
     "output_type": "display_data"
    },
    {
     "data": {
      "application/vnd.jupyter.widget-view+json": {
       "model_id": "0382fbf57dda4c2295bc2dae1b48786a",
       "version_major": 2,
       "version_minor": 0
      },
      "text/plain": [
       "[calculate on-policy policy value]:   0%|          | 0/100 [00:00<?, ?it/s]"
      ]
     },
     "metadata": {},
     "output_type": "display_data"
    },
    {
     "data": {
      "application/vnd.jupyter.widget-view+json": {
       "model_id": "200777ecb63b4d5dbd80f3d4714b24f6",
       "version_major": 2,
       "version_minor": 0
      },
      "text/plain": [
       "[calculate on-policy policy value]:   0%|          | 0/100 [00:00<?, ?it/s]"
      ]
     },
     "metadata": {},
     "output_type": "display_data"
    },
    {
     "data": {
      "application/vnd.jupyter.widget-view+json": {
       "model_id": "40eaa94eac8b4aa7a45511efb20dfe5f",
       "version_major": 2,
       "version_minor": 0
      },
      "text/plain": [
       "[calculate on-policy policy value]:   0%|          | 0/100 [00:00<?, ?it/s]"
      ]
     },
     "metadata": {},
     "output_type": "display_data"
    },
    {
     "data": {
      "image/png": "[encoded data removed]",
      "text/plain": [
       "<Figure size 576x288 with 1 Axes>"
      ]
     },
     "metadata": {},
     "output_type": "display_data"
    }
   ],
   "source": [
    "# compare performance online\n",
    "# not better than online policy, but achieves almost the same performance\n",
    "# meaning that we can learn a reasonable policy without interacting with the environment!\n",
    "visualize_on_policy_policy_value(\n",
    "    env=env,\n",
    "    policies=[ddqn, behavior_policy, cql, random],\n",
    "    policy_names=[\"ddqn\", \"ddqn (e=0.3)\", \"cql (offline)\", \"random\"],\n",
    "    n_episodes=100,\n",
    "    random_state=random_state,\n",
    ")"
   ]
  },
  {
   "cell_type": "markdown",
   "metadata": {},
   "source": [
    "## 3. Off-Policy Evaluation and Evaluation of Offline RL methods\n",
    "In the previous section, we verified the performance of learned policy via online interaction (aka A/B tests).  \n",
    "However, it could be risky because the policy may perform poorly in an online environment.  \n",
    "To tackle this issue, we aim to evaluate the performance of policies in an offline manner, to gain prior knowledge on how agent works in the environment."
   ]
  },
  {
   "cell_type": "code",
   "execution_count": 50,
   "metadata": {},
   "outputs": [],
   "source": [
    "# import ope modules from offlinegym\n",
    "from offlinegym.ope import CreateOPEInput\n",
    "from offlinegym.ope import DiscreteOffPolicyEvaluation as OPE\n",
    "from offlinegym.ope import DiscreteDirectMethod as DM\n",
    "from offlinegym.ope import DiscreteTrajectoryWiseImportanceSampling as TIS\n",
    "from offlinegym.ope import DiscretePerDecisionImportanceSampling as PDIS\n",
    "from offlinegym.ope import DiscreteDoublyRobust as DR\n",
    "from offlinegym.ope import DiscreteSelfNormalizedTrajectoryWiseImportanceSampling as SNTIS\n",
    "from offlinegym.ope import DiscreteSelfNormalizedPerDecisionImportanceSampling as SNPDIS\n",
    "from offlinegym.ope import DiscreteSelfNormalizedDoublyRobust as SNDR"
   ]
  },
  {
   "cell_type": "code",
   "execution_count": 51,
   "metadata": {},
   "outputs": [],
   "source": [
    "# define evaluation policies\n",
    "cql_ = DiscreteEpsilonGreedyHead(base_policy=cql, n_actions=env.action_space.n, name=\"cql\", epsilon=0.0, random_state=random_state)\n",
    "ddqn_ = DiscreteEpsilonGreedyHead(base_policy=ddqn, n_actions=env.action_space.n, name=\"ddqn\", epsilon=0.0, random_state=random_state)\n",
    "random_ = DiscreteEpsilonGreedyHead(base_policy=random, n_actions=env.action_space.n, name=\"random\", epsilon=1.0, random_state=random_state)\n",
    "evaluation_policies = [cql_, ddqn_, random_]"
   ]
  },
  {
   "cell_type": "code",
   "execution_count": 52,
   "metadata": {},
   "outputs": [],
   "source": [
    "# first, prepare OPE inputs\n",
    "prep = CreateOPEInput(\n",
    "    logged_dataset=logged_dataset,\n",
    "    use_base_model=True,  # use model-based prediction\n",
    ")"
   ]
  },
  {
   "cell_type": "code",
   "execution_count": 53,
   "metadata": {},
   "outputs": [
    {
     "data": {
      "application/vnd.jupyter.widget-view+json": {
       "model_id": "9bb9d6ac68d84c168cd65e7574b0673e",
       "version_major": 2,
       "version_minor": 0
      },
      "text/plain": [
       "[fit FQE model]:   0%|          | 0/3 [00:00<?, ?it/s]"
      ]
     },
     "metadata": {},
     "output_type": "display_data"
    },
    {
     "name": "stdout",
     "output_type": "stream",
     "text": [
      "2022-05-12 16:33.34 [debug    ] RandomIterator is selected.\n",
      "2022-05-12 16:33.34 [info     ] Directory is created at d3rlpy_logs/DiscreteFQE_20220512163334\n",
      "2022-05-12 16:33.34 [debug    ] Building models...\n",
      "2022-05-12 16:33.34 [debug    ] Models have been built.\n",
      "2022-05-12 16:33.34 [info     ] Parameters are saved to d3rlpy_logs/DiscreteFQE_20220512163334/params.json params={'action_scaler': None, 'batch_size': 100, 'encoder_factory': {'type': 'vector', 'params': {'hidden_units': [30, 30], 'activation': 'relu', 'use_batch_norm': False, 'dropout_rate': None, 'use_dense': False}}, 'gamma': 0.99, 'generated_maxlen': 100000, 'learning_rate': 0.0001, 'n_critics': 1, 'n_frames': 1, 'n_steps': 1, 'optim_factory': {'optim_cls': 'Adam', 'betas': (0.9, 0.999), 'eps': 1e-08, 'weight_decay': 0, 'amsgrad': False}, 'q_func_factory': {'type': 'mean', 'params': {'bootstrap': False, 'share_encoder': False}}, 'real_ratio': 1.0, 'reward_scaler': None, 'scaler': None, 'target_update_interval': 100, 'use_gpu': None, 'algorithm': 'DiscreteFQE', 'observation_shape': (7,), 'action_size': 10}\n"
     ]
    },
    {
     "data": {
      "application/vnd.jupyter.widget-view+json": {
       "model_id": "49befe98a208487a8e0d65294f0f9894",
       "version_major": 2,
       "version_minor": 0
      },
      "text/plain": [
       "Epoch 1/1:   0%|          | 0/10000 [00:00<?, ?it/s]"
      ]
     },
     "metadata": {},
     "output_type": "display_data"
    },
    {
     "name": "stdout",
     "output_type": "stream",
     "text": [
      "2022-05-12 16:33.55 [info     ] DiscreteFQE_20220512163334: epoch=1 step=10000 epoch=1 metrics={'time_sample_batch': 0.00034172978401184083, 'time_algorithm_update': 0.0015076691389083862, 'loss': 1.9815444161057472, 'time_step': 0.001992629933357239} step=10000\n",
      "2022-05-12 16:33.55 [info     ] Model parameters are saved to d3rlpy_logs/DiscreteFQE_20220512163334/model_10000.pt\n",
      "2022-05-12 16:33.55 [debug    ] RandomIterator is selected.\n",
      "2022-05-12 16:33.55 [info     ] Directory is created at d3rlpy_logs/DiscreteFQE_20220512163355\n",
      "2022-05-12 16:33.55 [debug    ] Building models...\n",
      "2022-05-12 16:33.55 [debug    ] Models have been built.\n",
      "2022-05-12 16:33.55 [info     ] Parameters are saved to d3rlpy_logs/DiscreteFQE_20220512163355/params.json params={'action_scaler': None, 'batch_size': 100, 'encoder_factory': {'type': 'vector', 'params': {'hidden_units': [30, 30], 'activation': 'relu', 'use_batch_norm': False, 'dropout_rate': None, 'use_dense': False}}, 'gamma': 0.99, 'generated_maxlen': 100000, 'learning_rate': 0.0001, 'n_critics': 1, 'n_frames': 1, 'n_steps': 1, 'optim_factory': {'optim_cls': 'Adam', 'betas': (0.9, 0.999), 'eps': 1e-08, 'weight_decay': 0, 'amsgrad': False}, 'q_func_factory': {'type': 'mean', 'params': {'bootstrap': False, 'share_encoder': False}}, 'real_ratio': 1.0, 'reward_scaler': None, 'scaler': None, 'target_update_interval': 100, 'use_gpu': None, 'algorithm': 'DiscreteFQE', 'observation_shape': (7,), 'action_size': 10}\n"
     ]
    },
    {
     "data": {
      "application/vnd.jupyter.widget-view+json": {
       "model_id": "3046c7e515cd4470bc2c2f1f37cd50b5",
       "version_major": 2,
       "version_minor": 0
      },
      "text/plain": [
       "Epoch 1/1:   0%|          | 0/10000 [00:00<?, ?it/s]"
      ]
     },
     "metadata": {},
     "output_type": "display_data"
    },
    {
     "name": "stdout",
     "output_type": "stream",
     "text": [
      "2022-05-12 16:34.15 [info     ] DiscreteFQE_20220512163355: epoch=1 step=10000 epoch=1 metrics={'time_sample_batch': 0.0003453554630279541, 'time_algorithm_update': 0.0015249956607818603, 'loss': 6.211021261513233, 'time_step': 0.0020136587619781496} step=10000\n",
      "2022-05-12 16:34.15 [info     ] Model parameters are saved to d3rlpy_logs/DiscreteFQE_20220512163355/model_10000.pt\n",
      "2022-05-12 16:34.15 [debug    ] RandomIterator is selected.\n",
      "2022-05-12 16:34.15 [info     ] Directory is created at d3rlpy_logs/DiscreteFQE_20220512163415\n",
      "2022-05-12 16:34.15 [debug    ] Building models...\n",
      "2022-05-12 16:34.15 [debug    ] Models have been built.\n",
      "2022-05-12 16:34.15 [info     ] Parameters are saved to d3rlpy_logs/DiscreteFQE_20220512163415/params.json params={'action_scaler': None, 'batch_size': 100, 'encoder_factory': {'type': 'vector', 'params': {'hidden_units': [30, 30], 'activation': 'relu', 'use_batch_norm': False, 'dropout_rate': None, 'use_dense': False}}, 'gamma': 0.99, 'generated_maxlen': 100000, 'learning_rate': 0.0001, 'n_critics': 1, 'n_frames': 1, 'n_steps': 1, 'optim_factory': {'optim_cls': 'Adam', 'betas': (0.9, 0.999), 'eps': 1e-08, 'weight_decay': 0, 'amsgrad': False}, 'q_func_factory': {'type': 'mean', 'params': {'bootstrap': False, 'share_encoder': False}}, 'real_ratio': 1.0, 'reward_scaler': None, 'scaler': None, 'target_update_interval': 100, 'use_gpu': None, 'algorithm': 'DiscreteFQE', 'observation_shape': (7,), 'action_size': 10}\n"
     ]
    },
    {
     "data": {
      "application/vnd.jupyter.widget-view+json": {
       "model_id": "6182ab1cb08c4d47a280c66eca699af7",
       "version_major": 2,
       "version_minor": 0
      },
      "text/plain": [
       "Epoch 1/1:   0%|          | 0/10000 [00:00<?, ?it/s]"
      ]
     },
     "metadata": {},
     "output_type": "display_data"
    },
    {
     "name": "stdout",
     "output_type": "stream",
     "text": [
      "2022-05-12 16:34.42 [info     ] DiscreteFQE_20220512163415: epoch=1 step=10000 epoch=1 metrics={'time_sample_batch': 0.00044549763202667237, 'time_algorithm_update': 0.0019944708347320555, 'loss': 3.8546630851686, 'time_step': 0.002632479739189148} step=10000\n",
      "2022-05-12 16:34.42 [info     ] Model parameters are saved to d3rlpy_logs/DiscreteFQE_20220512163415/model_10000.pt\n"
     ]
    },
    {
     "data": {
      "application/vnd.jupyter.widget-view+json": {
       "model_id": "1f33208043b844a182c621c0101c268e",
       "version_major": 2,
       "version_minor": 0
      },
      "text/plain": [
       "[collect input data]:   0%|          | 0/3 [00:00<?, ?it/s]"
      ]
     },
     "metadata": {},
     "output_type": "display_data"
    },
    {
     "data": {
      "application/vnd.jupyter.widget-view+json": {
       "model_id": "a6853cc0207e49e880d2f743bb8908d2",
       "version_major": 2,
       "version_minor": 0
      },
      "text/plain": [
       "[calculate on-policy policy value]:   0%|          | 0/100 [00:00<?, ?it/s]"
      ]
     },
     "metadata": {},
     "output_type": "display_data"
    },
    {
     "data": {
      "application/vnd.jupyter.widget-view+json": {
       "model_id": "cb3a5b178be440efa25976106c56e026",
       "version_major": 2,
       "version_minor": 0
      },
      "text/plain": [
       "[calculate on-policy policy value]:   0%|          | 0/100 [00:00<?, ?it/s]"
      ]
     },
     "metadata": {},
     "output_type": "display_data"
    },
    {
     "data": {
      "application/vnd.jupyter.widget-view+json": {
       "model_id": "b7a81fae15bc4a1b8eb0d3a045d63022",
       "version_major": 2,
       "version_minor": 0
      },
      "text/plain": [
       "[calculate on-policy policy value]:   0%|          | 0/100 [00:00<?, ?it/s]"
      ]
     },
     "metadata": {},
     "output_type": "display_data"
    }
   ],
   "source": [
    "# takes time\n",
    "input_dict = prep.obtain_whole_inputs(\n",
    "    evaluation_policies=evaluation_policies,\n",
    "    env=env,\n",
    "    n_episodes_on_policy_evaluation=100,\n",
    "    random_state=random_state,\n",
    ")"
   ]
  },
  {
   "cell_type": "code",
   "execution_count": 54,
   "metadata": {},
   "outputs": [],
   "source": [
    "with open(\"logs/ope_input_dict_discrete.pkl\", \"wb\") as f:\n",
    "    pickle.dump(input_dict, f)"
   ]
  },
  {
   "cell_type": "code",
   "execution_count": 55,
   "metadata": {},
   "outputs": [],
   "source": [
    "with open(\"logs/ope_input_dict_discrete.pkl\", \"rb\") as f:\n",
    "    input_dict = pickle.load(f)"
   ]
  },
  {
   "cell_type": "code",
   "execution_count": 62,
   "metadata": {},
   "outputs": [],
   "source": [
    "ope = OPE(\n",
    "    logged_dataset=logged_dataset,\n",
    "    ope_estimators=[DM(), TIS(), PDIS(), DR(), SNTIS(), SNPDIS(), SNDR()],\n",
    ")"
   ]
  },
  {
   "cell_type": "code",
   "execution_count": 63,
   "metadata": {},
   "outputs": [],
   "source": [
    "# performance estimation by ope\n",
    "policy_value_df_dict, policy_value_interval_df_dict = ope.summarize_off_policy_estimates(input_dict, random_state=random_state)"
   ]
  },
  {
   "cell_type": "code",
   "execution_count": 64,
   "metadata": {},
   "outputs": [
    {
     "data": {
      "text/plain": [
       "{'cql':            policy_value  relative_policy_value\n",
       " on_policy     14.620000               1.000000\n",
       " dm             5.300915               0.362580\n",
       " tis          145.590301               9.958297\n",
       " pdis          14.499671               0.991770\n",
       " dr            14.321366               0.979574\n",
       " sntis         11.046634               0.755584\n",
       " snpdis        14.178076               0.969773\n",
       " sndr          14.489761               0.991092,\n",
       " 'ddqn':            policy_value  relative_policy_value\n",
       " on_policy     12.360000               1.000000\n",
       " dm            33.195877               2.685751\n",
       " tis            0.000000               0.000000\n",
       " pdis           7.924688               0.641156\n",
       " dr            36.771664               2.975054\n",
       " sntis          0.000000               0.000000\n",
       " snpdis         8.475724               0.685738\n",
       " sndr          36.405373               2.945419,\n",
       " 'random':            policy_value  relative_policy_value\n",
       " on_policy     12.600000               1.000000\n",
       " dm            14.141533               1.122344\n",
       " tis            5.976722               0.474343\n",
       " pdis          11.577156               0.918822\n",
       " dr            14.626143               1.160805\n",
       " sntis         13.825200               1.097238\n",
       " snpdis        12.706712               1.008469\n",
       " sndr          14.478645               1.149099}"
      ]
     },
     "execution_count": 64,
     "metadata": {},
     "output_type": "execute_result"
    }
   ],
   "source": [
    "# estimated policy performance\n",
    "policy_value_df_dict"
   ]
  },
  {
   "cell_type": "code",
   "execution_count": 65,
   "metadata": {},
   "outputs": [
    {
     "data": {
      "text/plain": [
       "{'cql':                  mean  95.0% CI (lower)  95.0% CI (upper)\n",
       " on_policy   14.539800         13.820000         15.216250\n",
       " dm           5.300921          5.300168          5.301663\n",
       " tis        122.442810          1.034022        432.155366\n",
       " pdis        14.447863         13.547133         16.061550\n",
       " dr          14.357805         13.143280         15.878739\n",
       " sntis        9.290323          0.078456         32.789701\n",
       " snpdis      14.127573         13.322637         15.576354\n",
       " sndr        14.460013         13.682349         15.801491,\n",
       " 'ddqn':                 mean  95.0% CI (lower)  95.0% CI (upper)\n",
       " on_policy  12.263200         11.488000         13.011500\n",
       " dm         33.195806         33.194587         33.196831\n",
       " tis         0.000000          0.000000          0.000000\n",
       " pdis        7.902176          6.886054          9.219628\n",
       " dr         36.518571         33.238651         39.618209\n",
       " sntis       0.000000          0.000000          0.000000\n",
       " snpdis      8.443811          7.229726         10.152322\n",
       " sndr       36.061808         31.406658         40.426114,\n",
       " 'random':                 mean  95.0% CI (lower)  95.0% CI (upper)\n",
       " on_policy  12.530000         11.664750         13.530500\n",
       " dm         14.141525         14.141294         14.141785\n",
       " tis         6.084647          4.191772          7.925495\n",
       " pdis       11.617157         10.159970         13.474379\n",
       " dr         14.719960         13.736264         15.636108\n",
       " sntis      14.074849          9.696300         18.333052\n",
       " snpdis     12.756136         10.979849         15.007898\n",
       " sndr       14.598942         13.442544         15.945909}"
      ]
     },
     "execution_count": 65,
     "metadata": {},
     "output_type": "execute_result"
    }
   ],
   "source": [
    "# estimated policy performance confidence intervals\n",
    "policy_value_interval_df_dict"
   ]
  },
  {
   "cell_type": "markdown",
   "metadata": {},
   "source": [
    "## 4. Evaluation of OPE methods\n",
    "Now, we evaluate how well ope estimators estimated the policy value."
   ]
  },
  {
   "cell_type": "code",
   "execution_count": 66,
   "metadata": {},
   "outputs": [
    {
     "data": {
      "image/png": "[encoded data removed]",
      "text/plain": [
       "<Figure size 1008x864 with 3 Axes>"
      ]
     },
     "metadata": {},
     "output_type": "display_data"
    }
   ],
   "source": [
    "# we can visualize and compare the result\n",
    "# it seems that DM tends to have a bias though the variance is quite small, \n",
    "# while (trajectory-wise) importance sampling estimators have a smaller bias with a larger variance.\n",
    "# self-normalized estimators also works well\n",
    "ope.visualize_off_policy_estimates(input_dict, random_state=random_state, sharey=False)"
   ]
  },
  {
   "cell_type": "code",
   "execution_count": 67,
   "metadata": {},
   "outputs": [
    {
     "data": {
      "text/html": [
       "<div>\n",
       "<style scoped>\n",
       "    .dataframe tbody tr th:only-of-type {\n",
       "        vertical-align: middle;\n",
       "    }\n",
       "\n",
       "    .dataframe tbody tr th {\n",
       "        vertical-align: top;\n",
       "    }\n",
       "\n",
       "    .dataframe thead th {\n",
       "        text-align: right;\n",
       "    }\n",
       "</style>\n",
       "<table border=\"1\" class=\"dataframe\">\n",
       "  <thead>\n",
       "    <tr style=\"text-align: right;\">\n",
       "      <th></th>\n",
       "      <th>cql</th>\n",
       "      <th>ddqn</th>\n",
       "      <th>random</th>\n",
       "    </tr>\n",
       "  </thead>\n",
       "  <tbody>\n",
       "    <tr>\n",
       "      <th>dm</th>\n",
       "      <td>86.845348</td>\n",
       "      <td>434.133764</td>\n",
       "      <td>2.376325</td>\n",
       "    </tr>\n",
       "    <tr>\n",
       "      <th>tis</th>\n",
       "      <td>17153.219706</td>\n",
       "      <td>152.769600</td>\n",
       "      <td>43.867815</td>\n",
       "    </tr>\n",
       "    <tr>\n",
       "      <th>pdis</th>\n",
       "      <td>0.014479</td>\n",
       "      <td>19.671993</td>\n",
       "      <td>1.046209</td>\n",
       "    </tr>\n",
       "    <tr>\n",
       "      <th>dr</th>\n",
       "      <td>0.089182</td>\n",
       "      <td>595.929332</td>\n",
       "      <td>4.105257</td>\n",
       "    </tr>\n",
       "    <tr>\n",
       "      <th>sntis</th>\n",
       "      <td>12.768941</td>\n",
       "      <td>152.769600</td>\n",
       "      <td>1.501115</td>\n",
       "    </tr>\n",
       "    <tr>\n",
       "      <th>snpdis</th>\n",
       "      <td>0.195297</td>\n",
       "      <td>15.087600</td>\n",
       "      <td>0.011387</td>\n",
       "    </tr>\n",
       "    <tr>\n",
       "      <th>sndr</th>\n",
       "      <td>0.016962</td>\n",
       "      <td>578.179955</td>\n",
       "      <td>3.529307</td>\n",
       "    </tr>\n",
       "  </tbody>\n",
       "</table>\n",
       "</div>"
      ],
      "text/plain": [
       "                 cql        ddqn     random\n",
       "dm         86.845348  434.133764   2.376325\n",
       "tis     17153.219706  152.769600  43.867815\n",
       "pdis        0.014479   19.671993   1.046209\n",
       "dr          0.089182  595.929332   4.105257\n",
       "sntis      12.768941  152.769600   1.501115\n",
       "snpdis      0.195297   15.087600   0.011387\n",
       "sndr        0.016962  578.179955   3.529307"
      ]
     },
     "execution_count": 67,
     "metadata": {},
     "output_type": "execute_result"
    }
   ],
   "source": [
    "# squared-error (se) measures the estimation accuracy of OPE\n",
    "eval_metric_ope_df = ope.summarize_estimators_comparison(input_dict, metric=\"se\")\n",
    "eval_metric_ope_df"
   ]
  },
  {
   "cell_type": "markdown",
   "metadata": {},
   "source": [
    "For more advanced topics in OPE (e.g., cumulative distribution function estimation and distributionally robust estimation) and OPS, please refer to [examples/quickstart/rtb_synthetic_discrete_advanced.ipynb](https://github.com/negocia-inc/rtb_reinforcement_learing/blob/ope/examples/quickstart/rtb_synthetic_discrete_advanced.ipynb). \\\n",
    "For the examples in the continuous action space, please refer to [examples/quickstart/rtb_synthetic_continuous_basic.ipynb](https://github.com/negocia-inc/rtb_reinforcement_learing/blob/ope/examples/quickstart/rtb_synthetic_continuous_basic.ipynb)."
   ]
  },
  {
   "cell_type": "markdown",
   "metadata": {},
   "source": [
    "## Reference\n",
    "\n",
    "- Yuta Saito, Shunsuke Aihara, Megumi Matsutani, and Yusuke Narita. \\\n",
    "\"Open Bandit Dataset and Pipeline: Towards Realistic and Reproducible Off-Policy Evaluation.\", 2021.\n",
    "\n",
    "- Takuma Seno and Michita Imai. \\\n",
    "\"d3rlpy: An Offline Deep Reinforcement Library.\", 2021.\n",
    "\n",
    "- Sergey Levine, Aviral Kumar, George Tucker, and Justin Fu. \\\n",
    "\"Offline Reinforcement Learning: Tutorial, Review, and Perspectives on Open Problems.\" 2020.\n",
    "\n",
    "- Aviral Kumar, Aurick Zhou, George Tucker, and Sergey Levine. \\\n",
    "\"Conservative Q-Learning for Offline Reinforcement Learning.\", 2020.\n",
    "\n",
    "- Nathan Kallus and Masatoshi Uehara. \\\n",
    "\"Intrinsically Efficient, Stable, and Bounded Off-Policy Evaluation for Reinforcement Learning.\", 2019.\n",
    "\n",
    "- Hoang Le, Cameron Voloshin, and Yisong Yue. \\\n",
    "\"Batch Policy Learning under Constraints.\", 2019.\n",
    "\n",
    "- Di Wu, Xiujun Chen, Xun Yang, Hao Wang, Qing Tan, Xiaoxun Zhang, Jian Xu, and Kun Gai. \\\n",
    "\"Budget Constrained Bidding by Model-free Reinforcement Learning in Display Advertising.\", 2018.\n",
    "\n",
    "- Jun Zhao, Guang Qiu, Ziyu Guan, Wei Zhao, and Xiaofei He. \\\n",
    "\"Deep Reinforcement Learning for Sponsored Search Real-time Bidding.\", 2018.\n",
    "\n",
    "- Nan Jiang and Lihong Li. \\\n",
    "\"Doubly Robust Off-policy Value Evaluation for Reinforcement Learning.\", 2016.\n",
    "\n",
    "- Philip S. Thomas and Emma Brunskill. \\\n",
    "\"Data-Efficient Off-Policy Policy Evaluation for Reinforcement Learning.\", 2016.\n",
    "\n",
    "- Greg Brockman, Vicki Cheung, Ludwig Pettersson, Jonas Schneider, John Schulman, Jie Tang, and Wojciech Zaremba. \\\n",
    "\"OpenAI Gym.\", 2016.\n",
    "\n",
    "- Adith Swaminathan and Thorsten Joachims. \\\n",
    "\"The Self-Normalized Estimator for Counterfactual Learning.\", 2015.\n",
    "\n",
    "- Hado van Hasselt, Arthur Guez, and David Silver. \\\n",
    "\"Deep Reinforcement Learning with Double Q-learning.\", 2015.\n",
    "\n",
    "- Miroslav Dudík, Dumitru Erhan, John Langford, and Lihong Li. \\\n",
    "\"Doubly Robust Policy Evaluation and Optimization.\", 2014.\n",
    "\n",
    "- Alex Strehl, John Langford, Sham Kakade, and Lihong Li. \\\n",
    "\"Learning from Logged Implicit Exploration Data.\", 2010.\n",
    "\n",
    "- Alina Beygelzimer and John Langford. \\\n",
    "\"The Offset Tree for Learning with Partial Labels.\", 2009.\n",
    "\n",
    "- Doina Precup, Richard S. Sutton, and Satinder P. Singh. \\\n",
    "\"Eligibility Traces for Off-Policy Policy Evaluation.\", 2000."
   ]
  },
  {
   "cell_type": "code",
   "execution_count": null,
   "metadata": {},
   "outputs": [],
   "source": []
  }
 ],
 "metadata": {
  "kernelspec": {
   "display_name": "Python 3",
   "language": "python",
   "name": "python3"
  },
  "language_info": {
   "codemirror_mode": {
    "name": "ipython",
    "version": 3
   },
   "file_extension": ".py",
   "mimetype": "text/x-python",
   "name": "python",
   "nbconvert_exporter": "python",
   "pygments_lexer": "ipython3",
   "version": "3.8.5"
  }
 },
 "nbformat": 4,
 "nbformat_minor": 4
}
