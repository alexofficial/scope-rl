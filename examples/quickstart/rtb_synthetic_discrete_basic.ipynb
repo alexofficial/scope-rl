{
 "cells": [
  {
   "cell_type": "markdown",
   "metadata": {},
   "source": [
    "# Quickstart Example with Synthetic RTB Simulation and Dataset (Discrete)\n",
    "This notebook provides an example of conducting **Off-policy Evaluation (OPE) and Offline Reinforcement Learning (Offline RL) on a synthetic Real-Time Bidding (RTB) dataset**.\n",
    "\n",
    "This example consists of the following 5 steps: \\\n",
    "0. (Setup Synthetic RTB Simulation Environment and Online RL)\n",
    "1. Synthetic Data Generation\n",
    "2. Offline Reinforcement Learning\n",
    "3. Off-Policy Evaluation and Evaluation of Offline RL methods\n",
    "4. Evaluation of OPE methods\n",
    "\n",
    "\\* This library uses [d3rlpy](https://github.com/takuseno/d3rlpy)'s algorithm implementations of online/offline rl policies and model-based evaluation.  \n",
    "\\* Also, our implementations of OPE are highly inspired by [Open Bandit Pipeline](https://github.com/st-tech/zr-obp)."
   ]
  },
  {
   "cell_type": "code",
   "execution_count": 1,
   "metadata": {},
   "outputs": [],
   "source": [
    "# delete later\n",
    "%load_ext autoreload\n",
    "%autoreload 2"
   ]
  },
  {
   "cell_type": "code",
   "execution_count": 2,
   "metadata": {},
   "outputs": [],
   "source": [
    "# delete later\n",
    "import warnings\n",
    "warnings.simplefilter('ignore')"
   ]
  },
  {
   "cell_type": "code",
   "execution_count": 3,
   "metadata": {},
   "outputs": [],
   "source": [
    "# delete later\n",
    "import sys\n",
    "sys.path.append('../')\n",
    "sys.path.append('../../')"
   ]
  },
  {
   "cell_type": "code",
   "execution_count": 4,
   "metadata": {},
   "outputs": [],
   "source": [
    "# import OFRL modules\n",
    "import ofrl\n",
    "from rtbgym import RTBEnv, CustomizedRTBEnv\n",
    "from ofrl.dataset import SyntheticDataset\n",
    "from ofrl.policy import OnlineHead\n",
    "from ofrl.ope.online import (\n",
    "    calc_on_policy_policy_value,\n",
    "    visualize_on_policy_policy_value,\n",
    ")\n",
    "\n",
    "# import d3rlpy algorithms\n",
    "from d3rlpy.algos import DiscreteRandomPolicy\n",
    "from d3rlpy.algos import RandomPolicy as ContinuousRandomPolicy\n",
    "from d3rlpy.preprocessing import MinMaxActionScaler\n",
    "\n",
    "# import from other libraries\n",
    "import gym\n",
    "import torch\n",
    "from sklearn.model_selection import train_test_split"
   ]
  },
  {
   "cell_type": "code",
   "execution_count": 5,
   "metadata": {},
   "outputs": [],
   "source": [
    "import pickle\n",
    "from glob import glob\n",
    "from tqdm import tqdm\n",
    "\n",
    "import numpy as np\n",
    "import pandas as pd\n",
    "\n",
    "import matplotlib.pyplot as plt\n",
    "import seaborn as sns\n",
    "\n",
    "%matplotlib inline"
   ]
  },
  {
   "cell_type": "code",
   "execution_count": 6,
   "metadata": {},
   "outputs": [
    {
     "name": "stdout",
     "output_type": "stream",
     "text": [
      "0.0.0\n"
     ]
    }
   ],
   "source": [
    "# version\n",
    "print(ofrl.__version__)"
   ]
  },
  {
   "cell_type": "code",
   "execution_count": 7,
   "metadata": {},
   "outputs": [],
   "source": [
    "# set random state\n",
    "random_state = 12345"
   ]
  },
  {
   "cell_type": "code",
   "execution_count": 8,
   "metadata": {},
   "outputs": [],
   "source": [
    "# log directory\n",
    "from pathlib import Path\n",
    "Path(\"logs/\").mkdir(exist_ok=True)"
   ]
  },
  {
   "cell_type": "markdown",
   "metadata": {},
   "source": [
    "## 0. (Setup Synthetic RTB Simulation Environment and Online RL)\n",
    "To begin with, we briefly describe how the RTB environment works for the preparation.\n",
    "\n",
    "#### RL setup for RTB\n",
    "In RTB, the objective of the RL agent is to maximize some KPIs (number of clicks or conversions) within an episode under given budget constraints.  \n",
    "We often try to achieve this by adjusting bidding price function parameter $\\alpha$. By using $\\alpha$, we can adjust the bid price as follows.  \n",
    "$bid_{t,i} = \\alpha \\cdot r^{\\ast}$, \n",
    "where $r^{\\ast}$ denotes a predicted or expected reward (KPIs).\n",
    "\n",
    "We often formulate this RTB problem as the following Constrained Markov Decision Process (CMDP):\n",
    "- `timestep`: One episode (a day or a week) consists of several timesteps (24 hours or seven days, for instance).\n",
    "- `state`: We observe some feedback from the environment at each timestep, which includes the following.\n",
    "  - timestep\n",
    "  - remaining budget\n",
    "  - impression level features (budget consumption rate, cost per mille of impressions, auction winning rate, reward) at the previous timestep\n",
    "  - adjust rate (RL agent's decision making) at the previous timestep\n",
    "- `action`: Agent chooses adjust rate parameter $\\alpha$ to maximize KPIs.\n",
    "- `reward`: Total number of clicks or conversions obtained during the timestep.\n",
    "- `constraints`: The pre-determined episodic budget should not be exceeded.\n",
    "\n",
    "For more about the environmental configuration , please refer to [examples/quickstart/rtb_synthetic_customize_env.ipynb](https://github.com/negocia-inc/rtb_reinforcement_learing/blob/ope/examples/quickstart/rtb_synthetic_customize_env.ipynb).\n",
    "\n",
    "Let's see how it works!"
   ]
  },
  {
   "cell_type": "code",
   "execution_count": 9,
   "metadata": {},
   "outputs": [],
   "source": [
    "# setup environment\n",
    "env = RTBEnv(random_state=random_state)"
   ]
  },
  {
   "cell_type": "code",
   "execution_count": 10,
   "metadata": {},
   "outputs": [],
   "source": [
    "# define a random agent\n",
    "agent = OnlineHead(\n",
    "    ContinuousRandomPolicy(\n",
    "        action_scaler=MinMaxActionScaler(\n",
    "            minimum=0.1,  # minimum value that policy can take\n",
    "            maximum=10,  # maximum value that policy can take\n",
    "        )\n",
    "    )\n",
    ")"
   ]
  },
  {
   "cell_type": "code",
   "execution_count": 11,
   "metadata": {},
   "outputs": [],
   "source": [
    "# interact agent with the environment\n",
    "# only 6 lines are needed for RL interaction\n",
    "for episode in range(10):\n",
    "    obs = env.reset()\n",
    "    done = False\n",
    "\n",
    "    while not done:\n",
    "        action = agent.predict_online(obs)\n",
    "        obs, reward, done, info = env.step(action)"
   ]
  },
  {
   "cell_type": "code",
   "execution_count": 12,
   "metadata": {},
   "outputs": [
    {
     "name": "stdout",
     "output_type": "stream",
     "text": [
      "['timestep', 'remaining_budget', 'budget_consumption_rate', 'cost_per_mille_of_impression', 'winning_rate', 'reward', 'adjust_rate']\n",
      "(7,)\n"
     ]
    }
   ],
   "source": [
    "# state contains the following feedback from the environment\n",
    "print(env.obs_keys)\n",
    "print(obs.shape)"
   ]
  },
  {
   "cell_type": "code",
   "execution_count": 13,
   "metadata": {},
   "outputs": [
    {
     "data": {
      "image/png": "[encoded data removed]",
      "text/plain": [
       "<Figure size 432x288 with 2 Axes>"
      ]
     },
     "metadata": {
      "needs_background": "light"
     },
     "output_type": "display_data"
    }
   ],
   "source": [
    "# let's visualize the transition of the remaining budget and cumulative reward\n",
    "# our goal is to obtain a policy (or an agent) that maximizes the cumulative reward under budget constraints using RL.  \n",
    "obs = env.reset()\n",
    "done = False\n",
    "remaining_budget = [obs[1]]\n",
    "cumulative_reward = [0]\n",
    "\n",
    "while not done:\n",
    "    action = agent.predict_online(obs)\n",
    "    obs, reward, done, info = env.step(action)\n",
    "    remaining_budget.append(obs[1])\n",
    "    cumulative_reward.append(cumulative_reward[-1] + reward)\n",
    "\n",
    "# plot\n",
    "fig = plt.figure()\n",
    "ax1 = fig.add_subplot(111)\n",
    "ax1.plot(remaining_budget[:-1], label='remaining budget')\n",
    "ax2 = ax1.twinx()\n",
    "ax2.plot(cumulative_reward[:-1], label='cumulative reward', color='tab:orange')\n",
    "ax1.set_xlabel('timestep')\n",
    "ax1.set_ylabel('remainig budget')\n",
    "ax1.set_ylim(0, env.initial_budget + 100)\n",
    "ax2.set_ylabel('reward (coversion)')\n",
    "ax1.legend(loc='upper left')\n",
    "ax2.legend(loc='upper right')\n",
    "plt.show()"
   ]
  },
  {
   "cell_type": "markdown",
   "metadata": {},
   "source": [
    "We see that the random policy run out the budget quickly.  \n",
    "Our goal is to derive a policy that controls the adjust rate (i.e., action) to maximize the reward within the given budget constraints.\n",
    "\n",
    "For more about the environmental configurations and customization, please refer to [examples/quickstart/rtb_synthetic_customize_env.ipynb](https://github.com/negocia-inc/rtb_reinforcement_learing/blob/ope/examples/quickstart/rtb_synthetic_customize_env.ipynb)."
   ]
  },
  {
   "cell_type": "markdown",
   "metadata": {},
   "source": [
    "#### Online RL and comparison of the policies\n",
    "We now learn an online RL policy and compare it to the random policy, using on-policy policy estimation."
   ]
  },
  {
   "cell_type": "code",
   "execution_count": 14,
   "metadata": {},
   "outputs": [
    {
     "name": "stdout",
     "output_type": "stream",
     "text": [
      "[ 0.1         0.16681005  0.27825594  0.46415888  0.77426368  1.29154967\n",
      "  2.15443469  3.59381366  5.9948425  10.        ]\n"
     ]
    }
   ],
   "source": [
    "# standardized environment for discrete action\n",
    "env = gym.make(\"RTBEnv-discrete-v0\")\n",
    "print(env.action_meaning)"
   ]
  },
  {
   "cell_type": "code",
   "execution_count": 15,
   "metadata": {},
   "outputs": [],
   "source": [
    "from d3rlpy.algos import DoubleDQN\n",
    "from d3rlpy.models.encoders import VectorEncoderFactory\n",
    "from d3rlpy.models.q_functions import MeanQFunctionFactory\n",
    "from d3rlpy.online.buffers import ReplayBuffer\n",
    "from d3rlpy.online.explorers import LinearDecayEpsilonGreedy\n",
    "\n",
    "# model\n",
    "ddqn = DoubleDQN(\n",
    "    encoder_factory=VectorEncoderFactory(hidden_units=[30, 30]),\n",
    "    q_func_factory=MeanQFunctionFactory(),\n",
    "    target_update_interval=100,\n",
    "    use_gpu=torch.cuda.is_available(),\n",
    ")\n",
    "# replay buffer\n",
    "buffer = ReplayBuffer(\n",
    "    maxlen=10000,\n",
    "    env=env,\n",
    ")\n",
    "# explorers\n",
    "explorer = LinearDecayEpsilonGreedy(\n",
    "    start_epsilon=1.0,\n",
    "    end_epsilon=0.3,\n",
    "    duration=1000,\n",
    ")"
   ]
  },
  {
   "cell_type": "code",
   "execution_count": 16,
   "metadata": {},
   "outputs": [
    {
     "name": "stdout",
     "output_type": "stream",
     "text": [
      "2022-08-07 20:03.14 [info     ] Directory is created at d3rlpy_logs/DoubleDQN_online_20220807200314\n",
      "2022-08-07 20:03.14 [debug    ] Building model...\n",
      "2022-08-07 20:03.14 [debug    ] Model has been built.\n",
      "2022-08-07 20:03.14 [info     ] Parameters are saved to d3rlpy_logs/DoubleDQN_online_20220807200314/params.json params={'action_scaler': None, 'batch_size': 32, 'encoder_factory': {'type': 'vector', 'params': {'hidden_units': [30, 30], 'activation': 'relu', 'use_batch_norm': False, 'dropout_rate': None, 'use_dense': False}}, 'gamma': 0.99, 'generated_maxlen': 100000, 'learning_rate': 6.25e-05, 'n_critics': 1, 'n_frames': 1, 'n_steps': 1, 'optim_factory': {'optim_cls': 'Adam', 'betas': (0.9, 0.999), 'eps': 1e-08, 'weight_decay': 0, 'amsgrad': False}, 'q_func_factory': {'type': 'mean', 'params': {'share_encoder': False}}, 'real_ratio': 1.0, 'reward_scaler': None, 'scaler': None, 'target_update_interval': 100, 'use_gpu': None, 'algorithm': 'DoubleDQN', 'observation_shape': (7,), 'action_size': 10}\n"
     ]
    },
    {
     "data": {
      "application/vnd.jupyter.widget-view+json": {
       "model_id": "c9f1b6c3bdad4753bc8518e2ef5414d5",
       "version_major": 2,
       "version_minor": 0
      },
      "text/plain": [
       "  0%|          | 0/100000 [00:00<?, ?it/s]"
      ]
     },
     "metadata": {},
     "output_type": "display_data"
    },
    {
     "name": "stdout",
     "output_type": "stream",
     "text": [
      "2022-08-07 20:03.15 [info     ] Model parameters are saved to d3rlpy_logs/DoubleDQN_online_20220807200314/model_1000.pt\n",
      "2022-08-07 20:03.15 [info     ] DoubleDQN_online_20220807200314: epoch=1 step=1000 epoch=1 metrics={'time_inference': 0.0003038599491119385, 'time_environment_step': 0.000540860652923584, 'time_step': 0.0008770301342010498, 'rollout_return': 9.838028169014084, 'evaluation': 0.0} step=1000\n",
      "2022-08-07 20:03.17 [info     ] Model parameters are saved to d3rlpy_logs/DoubleDQN_online_20220807200314/model_2000.pt\n",
      "2022-08-07 20:03.17 [info     ] DoubleDQN_online_20220807200314: epoch=2 step=2000 epoch=2 metrics={'time_inference': 0.00032322096824645994, 'time_environment_step': 0.0006577999591827392, 'time_sample_batch': 8.252406120300292e-05, 'time_algorithm_update': 0.0013436088562011719, 'loss': 48.00396240997314, 'time_step': 0.0024674744606018066, 'rollout_return': 5.295774647887324, 'evaluation': 0.0} step=2000\n",
      "2022-08-07 20:03.19 [info     ] Model parameters are saved to d3rlpy_logs/DoubleDQN_online_20220807200314/model_3000.pt\n",
      "2022-08-07 20:03.19 [info     ] DoubleDQN_online_20220807200314: epoch=3 step=3000 epoch=3 metrics={'time_inference': 0.00028604674339294435, 'time_environment_step': 0.0005662076473236084, 'time_sample_batch': 6.96723461151123e-05, 'time_algorithm_update': 0.0011471292972564696, 'loss': 29.526688714027404, 'time_step': 0.0021207594871520997, 'rollout_return': 4.985915492957746, 'evaluation': 0.0} step=3000\n",
      "2022-08-07 20:03.22 [info     ] Model parameters are saved to d3rlpy_logs/DoubleDQN_online_20220807200314/model_4000.pt\n",
      "2022-08-07 20:03.22 [info     ] DoubleDQN_online_20220807200314: epoch=4 step=4000 epoch=4 metrics={'time_inference': 0.0002826104164123535, 'time_environment_step': 0.0005670228004455567, 'time_sample_batch': 7.003402709960938e-05, 'time_algorithm_update': 0.0011439366340637207, 'loss': 26.13326420688629, 'time_step': 0.0021156637668609617, 'rollout_return': 4.964788732394366, 'evaluation': 0.0} step=4000\n",
      "2022-08-07 20:03.24 [info     ] Model parameters are saved to d3rlpy_logs/DoubleDQN_online_20220807200314/model_5000.pt\n",
      "2022-08-07 20:03.24 [info     ] DoubleDQN_online_20220807200314: epoch=5 step=5000 epoch=5 metrics={'time_inference': 0.0002915868759155273, 'time_environment_step': 0.0005853521823883057, 'time_sample_batch': 7.40966796875e-05, 'time_algorithm_update': 0.0011756739616394043, 'loss': 22.336394837856293, 'time_step': 0.0021798505783081055, 'rollout_return': 5.211267605633803, 'evaluation': 0.0} step=5000\n",
      "2022-08-07 20:03.26 [info     ] Model parameters are saved to d3rlpy_logs/DoubleDQN_online_20220807200314/model_6000.pt\n",
      "2022-08-07 20:03.26 [info     ] DoubleDQN_online_20220807200314: epoch=6 step=6000 epoch=6 metrics={'time_inference': 0.0003026714324951172, 'time_environment_step': 0.0005983083248138428, 'time_sample_batch': 7.556533813476563e-05, 'time_algorithm_update': 0.0012112150192260742, 'loss': 19.49597411394119, 'time_step': 0.0022434747219085695, 'rollout_return': 5.070422535211268, 'evaluation': 0.0} step=6000\n",
      "2022-08-07 20:03.28 [info     ] Model parameters are saved to d3rlpy_logs/DoubleDQN_online_20220807200314/model_7000.pt\n",
      "2022-08-07 20:03.28 [info     ] DoubleDQN_online_20220807200314: epoch=7 step=7000 epoch=7 metrics={'time_inference': 0.000291079044342041, 'time_environment_step': 0.0005744521617889405, 'time_sample_batch': 7.235813140869141e-05, 'time_algorithm_update': 0.0011644046306610108, 'loss': 17.10769641160965, 'time_step': 0.0021548254489898683, 'rollout_return': 5.514084507042254, 'evaluation': 0.0} step=7000\n",
      "2022-08-07 20:03.31 [info     ] Model parameters are saved to d3rlpy_logs/DoubleDQN_online_20220807200314/model_8000.pt\n",
      "2022-08-07 20:03.31 [info     ] DoubleDQN_online_20220807200314: epoch=8 step=8000 epoch=8 metrics={'time_inference': 0.0002972259521484375, 'time_environment_step': 0.0005851855278015137, 'time_sample_batch': 7.415318489074707e-05, 'time_algorithm_update': 0.0011908247470855712, 'loss': 14.755117673158646, 'time_step': 0.0022010531425476075, 'rollout_return': 4.838028169014085, 'evaluation': 0.9} step=8000\n",
      "2022-08-07 20:03.33 [info     ] Model parameters are saved to d3rlpy_logs/DoubleDQN_online_20220807200314/model_9000.pt\n",
      "2022-08-07 20:03.33 [info     ] DoubleDQN_online_20220807200314: epoch=9 step=9000 epoch=9 metrics={'time_inference': 0.00028024697303771973, 'time_environment_step': 0.0005537738800048828, 'time_sample_batch': 6.966590881347656e-05, 'time_algorithm_update': 0.0011259078979492187, 'loss': 12.528475004673004, 'time_step': 0.00208004355430603, 'rollout_return': 5.852112676056338, 'evaluation': 0.0} step=9000\n",
      "2022-08-07 20:03.35 [info     ] Model parameters are saved to d3rlpy_logs/DoubleDQN_online_20220807200314/model_10000.pt\n",
      "2022-08-07 20:03.35 [info     ] DoubleDQN_online_20220807200314: epoch=10 step=10000 epoch=10 metrics={'time_inference': 0.0002811446189880371, 'time_environment_step': 0.000556384801864624, 'time_sample_batch': 7.062697410583496e-05, 'time_algorithm_update': 0.0011315879821777344, 'loss': 9.658303494215012, 'time_step': 0.002090529680252075, 'rollout_return': 6.838028169014085, 'evaluation': 0.0} step=10000\n",
      "2022-08-07 20:03.37 [info     ] Model parameters are saved to d3rlpy_logs/DoubleDQN_online_20220807200314/model_11000.pt\n",
      "2022-08-07 20:03.37 [info     ] DoubleDQN_online_20220807200314: epoch=11 step=11000 epoch=11 metrics={'time_inference': 0.00029198241233825684, 'time_environment_step': 0.0005845210552215576, 'time_sample_batch': 7.406401634216308e-05, 'time_algorithm_update': 0.0011895909309387208, 'loss': 7.542748468399048, 'time_step': 0.002194766044616699, 'rollout_return': 7.330985915492958, 'evaluation': 4.5} step=11000\n",
      "2022-08-07 20:03.40 [info     ] Model parameters are saved to d3rlpy_logs/DoubleDQN_online_20220807200314/model_12000.pt\n",
      "2022-08-07 20:03.40 [info     ] DoubleDQN_online_20220807200314: epoch=12 step=12000 epoch=12 metrics={'time_inference': 0.000296839714050293, 'time_environment_step': 0.0005857818126678467, 'time_sample_batch': 7.46901035308838e-05, 'time_algorithm_update': 0.0012051305770874024, 'loss': 5.69371865439415, 'time_step': 0.0022179996967315674, 'rollout_return': 7.591549295774648, 'evaluation': 0.0} step=12000\n",
      "2022-08-07 20:03.42 [info     ] Model parameters are saved to d3rlpy_logs/DoubleDQN_online_20220807200314/model_13000.pt\n",
      "2022-08-07 20:03.42 [info     ] DoubleDQN_online_20220807200314: epoch=13 step=13000 epoch=13 metrics={'time_inference': 0.00028023695945739743, 'time_environment_step': 0.0005562891960144043, 'time_sample_batch': 7.03575611114502e-05, 'time_algorithm_update': 0.0011346819400787354, 'loss': 4.32930704176426, 'time_step': 0.0020939276218414305, 'rollout_return': 9.119718309859154, 'evaluation': 5.4} step=13000\n",
      "2022-08-07 20:03.44 [info     ] Model parameters are saved to d3rlpy_logs/DoubleDQN_online_20220807200314/model_14000.pt\n",
      "2022-08-07 20:03.44 [info     ] DoubleDQN_online_20220807200314: epoch=14 step=14000 epoch=14 metrics={'time_inference': 0.00029368162155151366, 'time_environment_step': 0.000583045482635498, 'time_sample_batch': 7.454156875610351e-05, 'time_algorithm_update': 0.0011850962638854982, 'loss': 3.362534141898155, 'time_step': 0.0021917891502380373, 'rollout_return': 9.788732394366198, 'evaluation': 10.2} step=14000\n",
      "2022-08-07 20:03.46 [info     ] Model parameters are saved to d3rlpy_logs/DoubleDQN_online_20220807200314/model_15000.pt\n",
      "2022-08-07 20:03.46 [info     ] DoubleDQN_online_20220807200314: epoch=15 step=15000 epoch=15 metrics={'time_inference': 0.0003106365203857422, 'time_environment_step': 0.0006131408214569092, 'time_sample_batch': 7.919502258300781e-05, 'time_algorithm_update': 0.0012457172870635987, 'loss': 2.714424111902714, 'time_step': 0.0023066110610961916, 'rollout_return': 11.429577464788732, 'evaluation': 12.2} step=15000\n",
      "2022-08-07 20:03.49 [info     ] Model parameters are saved to d3rlpy_logs/DoubleDQN_online_20220807200314/model_16000.pt\n",
      "2022-08-07 20:03.49 [info     ] DoubleDQN_online_20220807200314: epoch=16 step=16000 epoch=16 metrics={'time_inference': 0.00029382801055908203, 'time_environment_step': 0.0005851597785949707, 'time_sample_batch': 7.531094551086426e-05, 'time_algorithm_update': 0.001189035654067993, 'loss': 2.378944682121277, 'time_step': 0.0021984877586364747, 'rollout_return': 12.309859154929578, 'evaluation': 16.6} step=16000\n",
      "2022-08-07 20:03.51 [info     ] Model parameters are saved to d3rlpy_logs/DoubleDQN_online_20220807200314/model_17000.pt\n",
      "2022-08-07 20:03.51 [info     ] DoubleDQN_online_20220807200314: epoch=17 step=17000 epoch=17 metrics={'time_inference': 0.0002825162410736084, 'time_environment_step': 0.0005602893829345703, 'time_sample_batch': 7.105517387390136e-05, 'time_algorithm_update': 0.0011418037414550782, 'loss': 1.9892736930847168, 'time_step': 0.0021083636283874513, 'rollout_return': 13.422535211267606, 'evaluation': 13.1} step=17000\n",
      "2022-08-07 20:03.53 [info     ] Model parameters are saved to d3rlpy_logs/DoubleDQN_online_20220807200314/model_18000.pt\n",
      "2022-08-07 20:03.53 [info     ] DoubleDQN_online_20220807200314: epoch=18 step=18000 epoch=18 metrics={'time_inference': 0.0002876620292663574, 'time_environment_step': 0.0005740644931793213, 'time_sample_batch': 7.300662994384765e-05, 'time_algorithm_update': 0.0011782538890838623, 'loss': 1.8482099042534827, 'time_step': 0.0021668460369110108, 'rollout_return': 13.225352112676056, 'evaluation': 14.5} step=18000\n",
      "2022-08-07 20:03.55 [info     ] Model parameters are saved to d3rlpy_logs/DoubleDQN_online_20220807200314/model_19000.pt\n",
      "2022-08-07 20:03.55 [info     ] DoubleDQN_online_20220807200314: epoch=19 step=19000 epoch=19 metrics={'time_inference': 0.00028736090660095215, 'time_environment_step': 0.0005704910755157471, 'time_sample_batch': 7.236266136169434e-05, 'time_algorithm_update': 0.0011643953323364259, 'loss': 1.5440880193710327, 'time_step': 0.0021481003761291504, 'rollout_return': 13.93661971830986, 'evaluation': 16.8} step=19000\n",
      "2022-08-07 20:03.58 [info     ] Model parameters are saved to d3rlpy_logs/DoubleDQN_online_20220807200314/model_20000.pt\n",
      "2022-08-07 20:03.58 [info     ] DoubleDQN_online_20220807200314: epoch=20 step=20000 epoch=20 metrics={'time_inference': 0.0002993700504302978, 'time_environment_step': 0.0006059813499450684, 'time_sample_batch': 7.769536972045898e-05, 'time_algorithm_update': 0.001236828327178955, 'loss': 1.5154644179344177, 'time_step': 0.002276369333267212, 'rollout_return': 14.091549295774648, 'evaluation': 15.2} step=20000\n",
      "2022-08-07 20:04.00 [info     ] Model parameters are saved to d3rlpy_logs/DoubleDQN_online_20220807200314/model_21000.pt\n",
      "2022-08-07 20:04.00 [info     ] DoubleDQN_online_20220807200314: epoch=21 step=21000 epoch=21 metrics={'time_inference': 0.0002999992370605469, 'time_environment_step': 0.0005970358848571778, 'time_sample_batch': 7.602286338806152e-05, 'time_algorithm_update': 0.0012139637470245362, 'loss': 1.4232978731095791, 'time_step': 0.0022439236640930177, 'rollout_return': 13.626760563380282, 'evaluation': 14.6} step=21000\n",
      "2022-08-07 20:04.02 [info     ] Model parameters are saved to d3rlpy_logs/DoubleDQN_online_20220807200314/model_22000.pt\n",
      "2022-08-07 20:04.02 [info     ] DoubleDQN_online_20220807200314: epoch=22 step=22000 epoch=22 metrics={'time_inference': 0.0002865312099456787, 'time_environment_step': 0.0005676321983337403, 'time_sample_batch': 7.254648208618164e-05, 'time_algorithm_update': 0.001161250352859497, 'loss': 1.3314582503736019, 'time_step': 0.002141459703445435, 'rollout_return': 13.992957746478874, 'evaluation': 15.7} step=22000\n",
      "2022-08-07 20:04.05 [info     ] Model parameters are saved to d3rlpy_logs/DoubleDQN_online_20220807200314/model_23000.pt\n",
      "2022-08-07 20:04.05 [info     ] DoubleDQN_online_20220807200314: epoch=23 step=23000 epoch=23 metrics={'time_inference': 0.0002900464534759521, 'time_environment_step': 0.0005737278461456299, 'time_sample_batch': 7.285737991333008e-05, 'time_algorithm_update': 0.0011681535243988038, 'loss': 1.2256911132633685, 'time_step': 0.002159012794494629, 'rollout_return': 13.971830985915492, 'evaluation': 15.5} step=23000\n",
      "2022-08-07 20:04.07 [info     ] Model parameters are saved to d3rlpy_logs/DoubleDQN_online_20220807200314/model_24000.pt\n",
      "2022-08-07 20:04.07 [info     ] DoubleDQN_online_20220807200314: epoch=24 step=24000 epoch=24 metrics={'time_inference': 0.0002943124771118164, 'time_environment_step': 0.000585468053817749, 'time_sample_batch': 7.526206970214844e-05, 'time_algorithm_update': 0.001196707010269165, 'loss': 1.2005300133228303, 'time_step': 0.0022073569297790525, 'rollout_return': 12.866197183098592, 'evaluation': 13.0} step=24000\n",
      "2022-08-07 20:04.11 [info     ] Model parameters are saved to d3rlpy_logs/DoubleDQN_online_20220807200314/model_25000.pt\n",
      "2022-08-07 20:04.11 [info     ] DoubleDQN_online_20220807200314: epoch=25 step=25000 epoch=25 metrics={'time_inference': 0.0004069809913635254, 'time_environment_step': 0.0008125987052917481, 'time_sample_batch': 9.724688529968261e-05, 'time_algorithm_update': 0.0025412750244140623, 'loss': 1.0605634003281594, 'time_step': 0.003938022375106811, 'rollout_return': 13.605633802816902, 'evaluation': 2.6} step=25000\n",
      "2022-08-07 20:04.14 [info     ] Model parameters are saved to d3rlpy_logs/DoubleDQN_online_20220807200314/model_26000.pt\n",
      "2022-08-07 20:04.14 [info     ] DoubleDQN_online_20220807200314: epoch=26 step=26000 epoch=26 metrics={'time_inference': 0.0003884739875793457, 'time_environment_step': 0.0007654507160186767, 'time_sample_batch': 9.554147720336914e-05, 'time_algorithm_update': 0.0019341220855712891, 'loss': 1.0760610993802548, 'time_step': 0.0032524514198303224, 'rollout_return': 13.767605633802816, 'evaluation': 16.1} step=26000\n",
      "2022-08-07 20:04.18 [info     ] Model parameters are saved to d3rlpy_logs/DoubleDQN_online_20220807200314/model_27000.pt\n",
      "2022-08-07 20:04.18 [info     ] DoubleDQN_online_20220807200314: epoch=27 step=27000 epoch=27 metrics={'time_inference': 0.0003664839267730713, 'time_environment_step': 0.0007603845596313477, 'time_sample_batch': 0.00010049915313720703, 'time_algorithm_update': 0.0018488361835479737, 'loss': 1.0633943446278573, 'time_step': 0.0031472225189208983, 'rollout_return': 13.464788732394366, 'evaluation': 9.6} step=27000\n",
      "2022-08-07 20:04.21 [info     ] Model parameters are saved to d3rlpy_logs/DoubleDQN_online_20220807200314/model_28000.pt\n",
      "2022-08-07 20:04.21 [info     ] DoubleDQN_online_20220807200314: epoch=28 step=28000 epoch=28 metrics={'time_inference': 0.000356898307800293, 'time_environment_step': 0.0007339522838592529, 'time_sample_batch': 9.280824661254883e-05, 'time_algorithm_update': 0.0016876318454742431, 'loss': 1.0590360343754293, 'time_step': 0.0029501986503601076, 'rollout_return': 12.915492957746478, 'evaluation': 17.8} step=28000\n",
      "2022-08-07 20:04.25 [info     ] Model parameters are saved to d3rlpy_logs/DoubleDQN_online_20220807200314/model_29000.pt\n",
      "2022-08-07 20:04.25 [info     ] DoubleDQN_online_20220807200314: epoch=29 step=29000 epoch=29 metrics={'time_inference': 0.00040743708610534667, 'time_environment_step': 0.0008292493820190429, 'time_sample_batch': 0.00011254549026489258, 'time_algorithm_update': 0.0026087749004364016, 'loss': 1.0709754345417022, 'time_step': 0.004029190540313721, 'rollout_return': 14.654929577464788, 'evaluation': 15.9} step=29000\n",
      "2022-08-07 20:04.29 [info     ] Model parameters are saved to d3rlpy_logs/DoubleDQN_online_20220807200314/model_30000.pt\n",
      "2022-08-07 20:04.29 [info     ] DoubleDQN_online_20220807200314: epoch=30 step=30000 epoch=30 metrics={'time_inference': 0.0003926436901092529, 'time_environment_step': 0.000807593822479248, 'time_sample_batch': 0.00011617636680603027, 'time_algorithm_update': 0.0022613403797149658, 'loss': 1.0596721238195896, 'time_step': 0.003654200792312622, 'rollout_return': 13.485915492957746, 'evaluation': 14.6} step=30000\n",
      "2022-08-07 20:04.32 [info     ] Model parameters are saved to d3rlpy_logs/DoubleDQN_online_20220807200314/model_31000.pt\n",
      "2022-08-07 20:04.32 [info     ] DoubleDQN_online_20220807200314: epoch=31 step=31000 epoch=31 metrics={'time_inference': 0.0003750650882720947, 'time_environment_step': 0.0007686421871185302, 'time_sample_batch': 0.00010396122932434082, 'time_algorithm_update': 0.0024697096347808837, 'loss': 1.0858087341487408, 'time_step': 0.00379137921333313, 'rollout_return': 14.873239436619718, 'evaluation': 15.0} step=31000\n",
      "2022-08-07 20:04.35 [info     ] Model parameters are saved to d3rlpy_logs/DoubleDQN_online_20220807200314/model_32000.pt\n",
      "2022-08-07 20:04.35 [info     ] DoubleDQN_online_20220807200314: epoch=32 step=32000 epoch=32 metrics={'time_inference': 0.0003410887718200684, 'time_environment_step': 0.0007182750701904297, 'time_sample_batch': 8.936452865600586e-05, 'time_algorithm_update': 0.001608041524887085, 'loss': 1.032150028973818, 'time_step': 0.002824240207672119, 'rollout_return': 13.485915492957746, 'evaluation': 15.1} step=32000\n",
      "2022-08-07 20:04.38 [info     ] Model parameters are saved to d3rlpy_logs/DoubleDQN_online_20220807200314/model_33000.pt\n",
      "2022-08-07 20:04.38 [info     ] DoubleDQN_online_20220807200314: epoch=33 step=33000 epoch=33 metrics={'time_inference': 0.0003439371585845947, 'time_environment_step': 0.0007118804454803466, 'time_sample_batch': 9.012627601623535e-05, 'time_algorithm_update': 0.0015699570178985597, 'loss': 0.994072983711958, 'time_step': 0.0027809526920318604, 'rollout_return': 14.26056338028169, 'evaluation': 13.7} step=33000\n",
      "2022-08-07 20:04.41 [info     ] Model parameters are saved to d3rlpy_logs/DoubleDQN_online_20220807200314/model_34000.pt\n",
      "2022-08-07 20:04.41 [info     ] DoubleDQN_online_20220807200314: epoch=34 step=34000 epoch=34 metrics={'time_inference': 0.0003549373149871826, 'time_environment_step': 0.0007025537490844727, 'time_sample_batch': 8.988785743713379e-05, 'time_algorithm_update': 0.0017098617553710938, 'loss': 0.9654875545203686, 'time_step': 0.00292154860496521, 'rollout_return': 14.204225352112676, 'evaluation': 13.7} step=34000\n",
      "2022-08-07 20:04.44 [info     ] Model parameters are saved to d3rlpy_logs/DoubleDQN_online_20220807200314/model_35000.pt\n",
      "2022-08-07 20:04.44 [info     ] DoubleDQN_online_20220807200314: epoch=35 step=35000 epoch=35 metrics={'time_inference': 0.00033817481994628904, 'time_environment_step': 0.0007075114250183106, 'time_sample_batch': 9.630370140075684e-05, 'time_algorithm_update': 0.0018154172897338868, 'loss': 0.9698124763518572, 'time_step': 0.0030202538967132567, 'rollout_return': 14.133802816901408, 'evaluation': 13.4} step=35000\n",
      "2022-08-07 20:04.48 [info     ] Model parameters are saved to d3rlpy_logs/DoubleDQN_online_20220807200314/model_36000.pt\n",
      "2022-08-07 20:04.48 [info     ] DoubleDQN_online_20220807200314: epoch=36 step=36000 epoch=36 metrics={'time_inference': 0.00035602498054504396, 'time_environment_step': 0.0007328603267669678, 'time_sample_batch': 9.768891334533692e-05, 'time_algorithm_update': 0.0018427867889404296, 'loss': 0.9010904131829739, 'time_step': 0.0030935492515563965, 'rollout_return': 14.873239436619718, 'evaluation': 16.2} step=36000\n",
      "2022-08-07 20:04.58 [info     ] Model parameters are saved to d3rlpy_logs/DoubleDQN_online_20220807200314/model_37000.pt\n",
      "2022-08-07 20:04.58 [info     ] DoubleDQN_online_20220807200314: epoch=37 step=37000 epoch=37 metrics={'time_inference': 0.000542912244796753, 'time_environment_step': 0.0011880571842193604, 'time_sample_batch': 0.00013128113746643067, 'time_algorithm_update': 0.008471898794174194, 'loss': 0.884401654869318, 'time_step': 0.010434320449829101, 'rollout_return': 14.070422535211268, 'evaluation': 16.8} step=37000\n",
      "2022-08-07 20:05.02 [info     ] Model parameters are saved to d3rlpy_logs/DoubleDQN_online_20220807200314/model_38000.pt\n",
      "2022-08-07 20:05.02 [info     ] DoubleDQN_online_20220807200314: epoch=38 step=38000 epoch=38 metrics={'time_inference': 0.00040770459175109864, 'time_environment_step': 0.0007837200164794922, 'time_sample_batch': 9.499144554138184e-05, 'time_algorithm_update': 0.0023275399208068847, 'loss': 0.9002173676341773, 'time_step': 0.003681340456008911, 'rollout_return': 13.570422535211268, 'evaluation': 14.9} step=38000\n",
      "2022-08-07 20:05.05 [info     ] Model parameters are saved to d3rlpy_logs/DoubleDQN_online_20220807200314/model_39000.pt\n",
      "2022-08-07 20:05.05 [info     ] DoubleDQN_online_20220807200314: epoch=39 step=39000 epoch=39 metrics={'time_inference': 0.00035509967803955077, 'time_environment_step': 0.0007224516868591308, 'time_sample_batch': 9.029006958007813e-05, 'time_algorithm_update': 0.0019148616790771484, 'loss': 0.8519407638013363, 'time_step': 0.003148984909057617, 'rollout_return': 14.295774647887324, 'evaluation': 14.4} step=39000\n",
      "2022-08-07 20:05.09 [info     ] Model parameters are saved to d3rlpy_logs/DoubleDQN_online_20220807200314/model_40000.pt\n",
      "2022-08-07 20:05.09 [info     ] DoubleDQN_online_20220807200314: epoch=40 step=40000 epoch=40 metrics={'time_inference': 0.00037811279296875, 'time_environment_step': 0.0008097028732299804, 'time_sample_batch': 0.00010468387603759766, 'time_algorithm_update': 0.0023623905181884767, 'loss': 0.8565693414211273, 'time_step': 0.003728160619735718, 'rollout_return': 14.93661971830986, 'evaluation': 13.9} step=40000\n",
      "2022-08-07 20:05.12 [info     ] Model parameters are saved to d3rlpy_logs/DoubleDQN_online_20220807200314/model_41000.pt\n",
      "2022-08-07 20:05.12 [info     ] DoubleDQN_online_20220807200314: epoch=41 step=41000 epoch=41 metrics={'time_inference': 0.0003730461597442627, 'time_environment_step': 0.0007456600666046143, 'time_sample_batch': 9.089350700378418e-05, 'time_algorithm_update': 0.001771064043045044, 'loss': 0.8718197973668576, 'time_step': 0.0030458056926727295, 'rollout_return': 14.352112676056338, 'evaluation': 13.8} step=41000\n",
      "2022-08-07 20:05.16 [info     ] Model parameters are saved to d3rlpy_logs/DoubleDQN_online_20220807200314/model_42000.pt\n",
      "2022-08-07 20:05.16 [info     ] DoubleDQN_online_20220807200314: epoch=42 step=42000 epoch=42 metrics={'time_inference': 0.0003692018985748291, 'time_environment_step': 0.0007763979434967041, 'time_sample_batch': 0.00011285758018493652, 'time_algorithm_update': 0.002372666835784912, 'loss': 0.8148896539509296, 'time_step': 0.0036974098682403564, 'rollout_return': 14.45774647887324, 'evaluation': 15.0} step=42000\n",
      "2022-08-07 20:05.19 [info     ] Model parameters are saved to d3rlpy_logs/DoubleDQN_online_20220807200314/model_43000.pt\n",
      "2022-08-07 20:05.19 [info     ] DoubleDQN_online_20220807200314: epoch=43 step=43000 epoch=43 metrics={'time_inference': 0.0003751626014709473, 'time_environment_step': 0.0007232191562652588, 'time_sample_batch': 9.117412567138671e-05, 'time_algorithm_update': 0.0016757895946502685, 'loss': 0.8512412587106228, 'time_step': 0.002929872751235962, 'rollout_return': 14.133802816901408, 'evaluation': 16.8} step=43000\n",
      "2022-08-07 20:05.22 [info     ] Model parameters are saved to d3rlpy_logs/DoubleDQN_online_20220807200314/model_44000.pt\n",
      "2022-08-07 20:05.22 [info     ] DoubleDQN_online_20220807200314: epoch=44 step=44000 epoch=44 metrics={'time_inference': 0.00033569693565368655, 'time_environment_step': 0.0007083961963653564, 'time_sample_batch': 9.017705917358399e-05, 'time_algorithm_update': 0.0014907479286193847, 'loss': 0.8662359042912722, 'time_step': 0.002687654733657837, 'rollout_return': 14.345070422535212, 'evaluation': 10.0} step=44000\n",
      "2022-08-07 20:05.26 [info     ] Model parameters are saved to d3rlpy_logs/DoubleDQN_online_20220807200314/model_45000.pt\n",
      "2022-08-07 20:05.26 [info     ] DoubleDQN_online_20220807200314: epoch=45 step=45000 epoch=45 metrics={'time_inference': 0.0003613119125366211, 'time_environment_step': 0.0007813143730163575, 'time_sample_batch': 9.665727615356446e-05, 'time_algorithm_update': 0.0024634175300598145, 'loss': 0.8554527679979801, 'time_step': 0.0037740683555603028, 'rollout_return': 14.330985915492958, 'evaluation': 13.5} step=45000\n",
      "2022-08-07 20:05.29 [info     ] Model parameters are saved to d3rlpy_logs/DoubleDQN_online_20220807200314/model_46000.pt\n",
      "2022-08-07 20:05.29 [info     ] DoubleDQN_online_20220807200314: epoch=46 step=46000 epoch=46 metrics={'time_inference': 0.0003694353103637695, 'time_environment_step': 0.0007864377498626709, 'time_sample_batch': 0.0001003262996673584, 'time_algorithm_update': 0.0018991754055023193, 'loss': 0.8279369588941335, 'time_step': 0.00322975754737854, 'rollout_return': 14.887323943661972, 'evaluation': 14.8} step=46000\n",
      "2022-08-07 20:05.33 [info     ] Model parameters are saved to d3rlpy_logs/DoubleDQN_online_20220807200314/model_47000.pt\n",
      "2022-08-07 20:05.33 [info     ] DoubleDQN_online_20220807200314: epoch=47 step=47000 epoch=47 metrics={'time_inference': 0.00040042638778686523, 'time_environment_step': 0.0008220417499542236, 'time_sample_batch': 0.00010555124282836914, 'time_algorithm_update': 0.002007161855697632, 'loss': 0.8516704431176185, 'time_step': 0.003420293092727661, 'rollout_return': 13.915492957746478, 'evaluation': 15.8} step=47000\n",
      "2022-08-07 20:05.36 [info     ] Model parameters are saved to d3rlpy_logs/DoubleDQN_online_20220807200314/model_48000.pt\n",
      "2022-08-07 20:05.36 [info     ] DoubleDQN_online_20220807200314: epoch=48 step=48000 epoch=48 metrics={'time_inference': 0.00034113883972167967, 'time_environment_step': 0.0006985154151916504, 'time_sample_batch': 9.107756614685059e-05, 'time_algorithm_update': 0.0015473644733428956, 'loss': 0.8312094751000404, 'time_step': 0.0027435925006866453, 'rollout_return': 14.232394366197184, 'evaluation': 14.6} step=48000\n",
      "2022-08-07 20:05.39 [info     ] Model parameters are saved to d3rlpy_logs/DoubleDQN_online_20220807200314/model_49000.pt\n",
      "2022-08-07 20:05.39 [info     ] DoubleDQN_online_20220807200314: epoch=49 step=49000 epoch=49 metrics={'time_inference': 0.0003413989543914795, 'time_environment_step': 0.0007136666774749756, 'time_sample_batch': 9.73973274230957e-05, 'time_algorithm_update': 0.0015891542434692382, 'loss': 0.8454104000031948, 'time_step': 0.0028123812675476074, 'rollout_return': 14.28169014084507, 'evaluation': 12.1} step=49000\n",
      "2022-08-07 20:05.41 [info     ] Model parameters are saved to d3rlpy_logs/DoubleDQN_online_20220807200314/model_50000.pt\n",
      "2022-08-07 20:05.41 [info     ] DoubleDQN_online_20220807200314: epoch=50 step=50000 epoch=50 metrics={'time_inference': 0.0003460261821746826, 'time_environment_step': 0.0007112181186676026, 'time_sample_batch': 8.911752700805664e-05, 'time_algorithm_update': 0.0015625710487365723, 'loss': 0.824988878250122, 'time_step': 0.002771573781967163, 'rollout_return': 14.309859154929578, 'evaluation': 15.2} step=50000\n",
      "2022-08-07 20:05.44 [info     ] Model parameters are saved to d3rlpy_logs/DoubleDQN_online_20220807200314/model_51000.pt\n",
      "2022-08-07 20:05.44 [info     ] DoubleDQN_online_20220807200314: epoch=51 step=51000 epoch=51 metrics={'time_inference': 0.00034375739097595217, 'time_environment_step': 0.0007149770259857178, 'time_sample_batch': 0.00010413742065429687, 'time_algorithm_update': 0.0015658547878265382, 'loss': 0.8030409020930529, 'time_step': 0.0027935473918914793, 'rollout_return': 14.345070422535212, 'evaluation': 15.9} step=51000\n",
      "2022-08-07 20:05.47 [info     ] Model parameters are saved to d3rlpy_logs/DoubleDQN_online_20220807200314/model_52000.pt\n",
      "2022-08-07 20:05.47 [info     ] DoubleDQN_online_20220807200314: epoch=52 step=52000 epoch=52 metrics={'time_inference': 0.0003554842472076416, 'time_environment_step': 0.0007067108154296875, 'time_sample_batch': 9.050536155700684e-05, 'time_algorithm_update': 0.0016016416549682617, 'loss': 0.8445558790713549, 'time_step': 0.002818584680557251, 'rollout_return': 13.838028169014084, 'evaluation': 16.0} step=52000\n",
      "2022-08-07 20:05.50 [info     ] Model parameters are saved to d3rlpy_logs/DoubleDQN_online_20220807200314/model_53000.pt\n",
      "2022-08-07 20:05.50 [info     ] DoubleDQN_online_20220807200314: epoch=53 step=53000 epoch=53 metrics={'time_inference': 0.00034177231788635256, 'time_environment_step': 0.0006947047710418701, 'time_sample_batch': 8.953261375427246e-05, 'time_algorithm_update': 0.001565079927444458, 'loss': 0.8143863695263862, 'time_step': 0.002754106521606445, 'rollout_return': 14.929577464788732, 'evaluation': 16.1} step=53000\n",
      "2022-08-07 20:05.54 [info     ] Model parameters are saved to d3rlpy_logs/DoubleDQN_online_20220807200314/model_54000.pt\n",
      "2022-08-07 20:05.54 [info     ] DoubleDQN_online_20220807200314: epoch=54 step=54000 epoch=54 metrics={'time_inference': 0.00034966158866882324, 'time_environment_step': 0.0007209815979003906, 'time_sample_batch': 9.382295608520508e-05, 'time_algorithm_update': 0.0021761462688446045, 'loss': 0.8183053618371486, 'time_step': 0.0034067771434783934, 'rollout_return': 14.246478873239436, 'evaluation': 15.3} step=54000\n",
      "2022-08-07 20:05.57 [info     ] Model parameters are saved to d3rlpy_logs/DoubleDQN_online_20220807200314/model_55000.pt\n",
      "2022-08-07 20:05.57 [info     ] DoubleDQN_online_20220807200314: epoch=55 step=55000 epoch=55 metrics={'time_inference': 0.00037212586402893066, 'time_environment_step': 0.0007405533790588379, 'time_sample_batch': 9.405684471130371e-05, 'time_algorithm_update': 0.001922450065612793, 'loss': 0.795395162910223, 'time_step': 0.003193160533905029, 'rollout_return': 14.69718309859155, 'evaluation': 14.3} step=55000\n",
      "2022-08-07 20:06.00 [info     ] Model parameters are saved to d3rlpy_logs/DoubleDQN_online_20220807200314/model_56000.pt\n",
      "2022-08-07 20:06.00 [info     ] DoubleDQN_online_20220807200314: epoch=56 step=56000 epoch=56 metrics={'time_inference': 0.00035148978233337405, 'time_environment_step': 0.0007469210624694824, 'time_sample_batch': 9.139871597290039e-05, 'time_algorithm_update': 0.0017286746501922608, 'loss': 0.8523992446064949, 'time_step': 0.002981945753097534, 'rollout_return': 14.830985915492958, 'evaluation': 10.8} step=56000\n",
      "2022-08-07 20:06.03 [info     ] Model parameters are saved to d3rlpy_logs/DoubleDQN_online_20220807200314/model_57000.pt\n",
      "2022-08-07 20:06.03 [info     ] DoubleDQN_online_20220807200314: epoch=57 step=57000 epoch=57 metrics={'time_inference': 0.00035299301147460936, 'time_environment_step': 0.0007006032466888428, 'time_sample_batch': 0.00010862302780151368, 'time_algorithm_update': 0.0019043178558349608, 'loss': 0.8278554194569587, 'time_step': 0.0031335442066192628, 'rollout_return': 14.619718309859154, 'evaluation': 14.8} step=57000\n",
      "2022-08-07 20:06.06 [info     ] Model parameters are saved to d3rlpy_logs/DoubleDQN_online_20220807200314/model_58000.pt\n",
      "2022-08-07 20:06.06 [info     ] DoubleDQN_online_20220807200314: epoch=58 step=58000 epoch=58 metrics={'time_inference': 0.0003589463233947754, 'time_environment_step': 0.0006983344554901123, 'time_sample_batch': 9.369921684265136e-05, 'time_algorithm_update': 0.0015249669551849366, 'loss': 0.8079558769464493, 'time_step': 0.002738835334777832, 'rollout_return': 14.711267605633802, 'evaluation': 15.4} step=58000\n",
      "2022-08-07 20:06.09 [info     ] Model parameters are saved to d3rlpy_logs/DoubleDQN_online_20220807200314/model_59000.pt\n",
      "2022-08-07 20:06.09 [info     ] DoubleDQN_online_20220807200314: epoch=59 step=59000 epoch=59 metrics={'time_inference': 0.00034716272354125976, 'time_environment_step': 0.0007088034152984619, 'time_sample_batch': 9.578132629394531e-05, 'time_algorithm_update': 0.001507941484451294, 'loss': 0.8209579562544823, 'time_step': 0.0027245664596557617, 'rollout_return': 15.161971830985916, 'evaluation': 14.7} step=59000\n",
      "2022-08-07 20:06.13 [info     ] Model parameters are saved to d3rlpy_logs/DoubleDQN_online_20220807200314/model_60000.pt\n",
      "2022-08-07 20:06.13 [info     ] DoubleDQN_online_20220807200314: epoch=60 step=60000 epoch=60 metrics={'time_inference': 0.0003972218036651611, 'time_environment_step': 0.0008484694957733154, 'time_sample_batch': 0.00011192059516906738, 'time_algorithm_update': 0.0020267882347106934, 'loss': 0.7809812484830618, 'time_step': 0.003464275598526001, 'rollout_return': 14.661971830985916, 'evaluation': 17.1} step=60000\n",
      "2022-08-07 20:06.16 [info     ] Model parameters are saved to d3rlpy_logs/DoubleDQN_online_20220807200314/model_61000.pt\n",
      "2022-08-07 20:06.16 [info     ] DoubleDQN_online_20220807200314: epoch=61 step=61000 epoch=61 metrics={'time_inference': 0.0004151148796081543, 'time_environment_step': 0.0009036455154418946, 'time_sample_batch': 0.00010550260543823242, 'time_algorithm_update': 0.00226895809173584, 'loss': 0.7957294165790081, 'time_step': 0.003767742395401001, 'rollout_return': 14.97887323943662, 'evaluation': 16.0} step=61000\n",
      "2022-08-07 20:06.20 [info     ] Model parameters are saved to d3rlpy_logs/DoubleDQN_online_20220807200314/model_62000.pt\n",
      "2022-08-07 20:06.20 [info     ] DoubleDQN_online_20220807200314: epoch=62 step=62000 epoch=62 metrics={'time_inference': 0.00039449048042297365, 'time_environment_step': 0.0008075957298278809, 'time_sample_batch': 0.00010108065605163575, 'time_algorithm_update': 0.001854379415512085, 'loss': 0.8279946828484536, 'time_step': 0.0032384474277496337, 'rollout_return': 14.049295774647888, 'evaluation': 15.4} step=62000\n",
      "2022-08-07 20:06.23 [info     ] Model parameters are saved to d3rlpy_logs/DoubleDQN_online_20220807200314/model_63000.pt\n",
      "2022-08-07 20:06.23 [info     ] DoubleDQN_online_20220807200314: epoch=63 step=63000 epoch=63 metrics={'time_inference': 0.000426527738571167, 'time_environment_step': 0.000835693359375, 'time_sample_batch': 0.00012103128433227539, 'time_algorithm_update': 0.0020248653888702392, 'loss': 0.8031447833776474, 'time_step': 0.0034907402992248537, 'rollout_return': 15.06338028169014, 'evaluation': 9.5} step=63000\n",
      "2022-08-07 20:06.27 [info     ] Model parameters are saved to d3rlpy_logs/DoubleDQN_online_20220807200314/model_64000.pt\n",
      "2022-08-07 20:06.27 [info     ] DoubleDQN_online_20220807200314: epoch=64 step=64000 epoch=64 metrics={'time_inference': 0.00041509628295898437, 'time_environment_step': 0.0007842550277709961, 'time_sample_batch': 9.909987449645995e-05, 'time_algorithm_update': 0.002333641529083252, 'loss': 0.7938818168640137, 'time_step': 0.0037072179317474366, 'rollout_return': 15.288732394366198, 'evaluation': 12.5} step=64000\n",
      "2022-08-07 20:06.31 [info     ] Model parameters are saved to d3rlpy_logs/DoubleDQN_online_20220807200314/model_65000.pt\n",
      "2022-08-07 20:06.31 [info     ] DoubleDQN_online_20220807200314: epoch=65 step=65000 epoch=65 metrics={'time_inference': 0.0004190957546234131, 'time_environment_step': 0.0008496785163879394, 'time_sample_batch': 0.00010450387001037598, 'time_algorithm_update': 0.0020926244258880613, 'loss': 0.7873180543333292, 'time_step': 0.003536468505859375, 'rollout_return': 14.795774647887324, 'evaluation': 15.6} step=65000\n",
      "2022-08-07 20:06.35 [info     ] Model parameters are saved to d3rlpy_logs/DoubleDQN_online_20220807200314/model_66000.pt\n",
      "2022-08-07 20:06.35 [info     ] DoubleDQN_online_20220807200314: epoch=66 step=66000 epoch=66 metrics={'time_inference': 0.00042226362228393557, 'time_environment_step': 0.0008484280109405518, 'time_sample_batch': 0.00011818456649780273, 'time_algorithm_update': 0.0020893864631652834, 'loss': 0.770801376491785, 'time_step': 0.0035493948459625244, 'rollout_return': 14.661971830985916, 'evaluation': 14.6} step=66000\n",
      "2022-08-07 20:06.38 [info     ] Model parameters are saved to d3rlpy_logs/DoubleDQN_online_20220807200314/model_67000.pt\n",
      "2022-08-07 20:06.38 [info     ] DoubleDQN_online_20220807200314: epoch=67 step=67000 epoch=67 metrics={'time_inference': 0.00040506386756896973, 'time_environment_step': 0.0008214213848114014, 'time_sample_batch': 9.853672981262207e-05, 'time_algorithm_update': 0.0022161030769348145, 'loss': 0.739438488908112, 'time_step': 0.0036135740280151367, 'rollout_return': 15.408450704225352, 'evaluation': 16.3} step=67000\n",
      "2022-08-07 20:06.42 [info     ] Model parameters are saved to d3rlpy_logs/DoubleDQN_online_20220807200314/model_68000.pt\n",
      "2022-08-07 20:06.42 [info     ] DoubleDQN_online_20220807200314: epoch=68 step=68000 epoch=68 metrics={'time_inference': 0.00041120362281799316, 'time_environment_step': 0.0007947170734405517, 'time_sample_batch': 9.833765029907227e-05, 'time_algorithm_update': 0.002254953622817993, 'loss': 0.76576291154325, 'time_step': 0.00363055419921875, 'rollout_return': 14.732394366197184, 'evaluation': 15.8} step=68000\n",
      "2022-08-07 20:06.45 [info     ] Model parameters are saved to d3rlpy_logs/DoubleDQN_online_20220807200314/model_69000.pt\n",
      "2022-08-07 20:06.45 [info     ] DoubleDQN_online_20220807200314: epoch=69 step=69000 epoch=69 metrics={'time_inference': 0.0003339672088623047, 'time_environment_step': 0.0006832211017608643, 'time_sample_batch': 9.81450080871582e-05, 'time_algorithm_update': 0.00145987868309021, 'loss': 0.7519562820494174, 'time_step': 0.002636749505996704, 'rollout_return': 14.464788732394366, 'evaluation': 15.4} step=69000\n",
      "2022-08-07 20:06.49 [info     ] Model parameters are saved to d3rlpy_logs/DoubleDQN_online_20220807200314/model_70000.pt\n",
      "2022-08-07 20:06.49 [info     ] DoubleDQN_online_20220807200314: epoch=70 step=70000 epoch=70 metrics={'time_inference': 0.00041618871688842775, 'time_environment_step': 0.0008737070560455322, 'time_sample_batch': 0.00011538100242614746, 'time_algorithm_update': 0.0022739195823669434, 'loss': 0.7455177765488624, 'time_step': 0.003760908365249634, 'rollout_return': 14.5, 'evaluation': 15.2} step=70000\n",
      "2022-08-07 20:06.52 [info     ] Model parameters are saved to d3rlpy_logs/DoubleDQN_online_20220807200314/model_71000.pt\n",
      "2022-08-07 20:06.52 [info     ] DoubleDQN_online_20220807200314: epoch=71 step=71000 epoch=71 metrics={'time_inference': 0.0003892536163330078, 'time_environment_step': 0.0008527178764343262, 'time_sample_batch': 9.91363525390625e-05, 'time_algorithm_update': 0.0021704273223876955, 'loss': 0.7680946812927723, 'time_step': 0.0035986278057098388, 'rollout_return': 14.309859154929578, 'evaluation': 15.8} step=71000\n",
      "2022-08-07 20:06.56 [info     ] Model parameters are saved to d3rlpy_logs/DoubleDQN_online_20220807200314/model_72000.pt\n",
      "2022-08-07 20:06.56 [info     ] DoubleDQN_online_20220807200314: epoch=72 step=72000 epoch=72 metrics={'time_inference': 0.0004105544090270996, 'time_environment_step': 0.0008231306076049805, 'time_sample_batch': 0.00010751557350158691, 'time_algorithm_update': 0.001989454984664917, 'loss': 0.7618406301140785, 'time_step': 0.0034014365673065185, 'rollout_return': 14.070422535211268, 'evaluation': 17.6} step=72000\n",
      "2022-08-07 20:06.59 [info     ] Model parameters are saved to d3rlpy_logs/DoubleDQN_online_20220807200314/model_73000.pt\n",
      "2022-08-07 20:06.59 [info     ] DoubleDQN_online_20220807200314: epoch=73 step=73000 epoch=73 metrics={'time_inference': 0.000397721529006958, 'time_environment_step': 0.0008141841888427735, 'time_sample_batch': 0.00010423588752746582, 'time_algorithm_update': 0.0018469324111938475, 'loss': 0.7706577627658844, 'time_step': 0.003249891757965088, 'rollout_return': 14.661971830985916, 'evaluation': 16.2} step=73000\n",
      "2022-08-07 20:07.03 [info     ] Model parameters are saved to d3rlpy_logs/DoubleDQN_online_20220807200314/model_74000.pt\n",
      "2022-08-07 20:07.03 [info     ] DoubleDQN_online_20220807200314: epoch=74 step=74000 epoch=74 metrics={'time_inference': 0.00040571093559265136, 'time_environment_step': 0.000799537181854248, 'time_sample_batch': 0.00010615634918212891, 'time_algorithm_update': 0.0019295201301574706, 'loss': 0.7701213423609734, 'time_step': 0.003318352222442627, 'rollout_return': 15.147887323943662, 'evaluation': 16.0} step=74000\n",
      "2022-08-07 20:07.06 [info     ] Model parameters are saved to d3rlpy_logs/DoubleDQN_online_20220807200314/model_75000.pt\n",
      "2022-08-07 20:07.06 [info     ] DoubleDQN_online_20220807200314: epoch=75 step=75000 epoch=75 metrics={'time_inference': 0.00034817719459533694, 'time_environment_step': 0.0007233610153198242, 'time_sample_batch': 9.108114242553711e-05, 'time_algorithm_update': 0.0017157785892486573, 'loss': 0.7413625402748585, 'time_step': 0.0029447009563446044, 'rollout_return': 14.704225352112676, 'evaluation': 15.4} step=75000\n",
      "2022-08-07 20:07.09 [info     ] Model parameters are saved to d3rlpy_logs/DoubleDQN_online_20220807200314/model_76000.pt\n",
      "2022-08-07 20:07.09 [info     ] DoubleDQN_online_20220807200314: epoch=76 step=76000 epoch=76 metrics={'time_inference': 0.0003526277542114258, 'time_environment_step': 0.000696218490600586, 'time_sample_batch': 0.00010272264480590821, 'time_algorithm_update': 0.0015432796478271485, 'loss': 0.7891505208164453, 'time_step': 0.002758436918258667, 'rollout_return': 14.992957746478874, 'evaluation': 15.2} step=76000\n",
      "2022-08-07 20:07.12 [info     ] Model parameters are saved to d3rlpy_logs/DoubleDQN_online_20220807200314/model_77000.pt\n",
      "2022-08-07 20:07.12 [info     ] DoubleDQN_online_20220807200314: epoch=77 step=77000 epoch=77 metrics={'time_inference': 0.0003376893997192383, 'time_environment_step': 0.0007080590724945068, 'time_sample_batch': 9.898161888122558e-05, 'time_algorithm_update': 0.0016469213962554932, 'loss': 0.7715418751835823, 'time_step': 0.0028541085720062255, 'rollout_return': 15.43661971830986, 'evaluation': 15.9} step=77000\n",
      "2022-08-07 20:07.15 [info     ] Model parameters are saved to d3rlpy_logs/DoubleDQN_online_20220807200314/model_78000.pt\n",
      "2022-08-07 20:07.15 [info     ] DoubleDQN_online_20220807200314: epoch=78 step=78000 epoch=78 metrics={'time_inference': 0.000356215238571167, 'time_environment_step': 0.0007416212558746338, 'time_sample_batch': 9.259772300720214e-05, 'time_algorithm_update': 0.0016371941566467286, 'loss': 0.7566957859098912, 'time_step': 0.0028916826248168944, 'rollout_return': 14.549295774647888, 'evaluation': 16.2} step=78000\n",
      "2022-08-07 20:07.18 [info     ] Model parameters are saved to d3rlpy_logs/DoubleDQN_online_20220807200314/model_79000.pt\n",
      "2022-08-07 20:07.18 [info     ] DoubleDQN_online_20220807200314: epoch=79 step=79000 epoch=79 metrics={'time_inference': 0.00036216545104980467, 'time_environment_step': 0.0007492365837097168, 'time_sample_batch': 9.210824966430664e-05, 'time_algorithm_update': 0.0017090504169464111, 'loss': 0.7561889629513026, 'time_step': 0.002986856460571289, 'rollout_return': 14.82394366197183, 'evaluation': 14.8} step=79000\n",
      "2022-08-07 20:07.21 [info     ] Model parameters are saved to d3rlpy_logs/DoubleDQN_online_20220807200314/model_80000.pt\n",
      "2022-08-07 20:07.21 [info     ] DoubleDQN_online_20220807200314: epoch=80 step=80000 epoch=80 metrics={'time_inference': 0.000389188289642334, 'time_environment_step': 0.0008156454563140869, 'time_sample_batch': 0.00010272121429443359, 'time_algorithm_update': 0.0017997722625732423, 'loss': 0.7594837206751108, 'time_step': 0.003179713726043701, 'rollout_return': 14.816901408450704, 'evaluation': 16.0} step=80000\n",
      "2022-08-07 20:07.24 [info     ] Model parameters are saved to d3rlpy_logs/DoubleDQN_online_20220807200314/model_81000.pt\n",
      "2022-08-07 20:07.24 [info     ] DoubleDQN_online_20220807200314: epoch=81 step=81000 epoch=81 metrics={'time_inference': 0.0003739919662475586, 'time_environment_step': 0.0008078873157501221, 'time_sample_batch': 0.00010426378250122071, 'time_algorithm_update': 0.0018289368152618409, 'loss': 0.8011182021796703, 'time_step': 0.0031965363025665285, 'rollout_return': 14.225352112676056, 'evaluation': 12.1} step=81000\n",
      "2022-08-07 20:07.27 [info     ] Model parameters are saved to d3rlpy_logs/DoubleDQN_online_20220807200314/model_82000.pt\n",
      "2022-08-07 20:07.27 [info     ] DoubleDQN_online_20220807200314: epoch=82 step=82000 epoch=82 metrics={'time_inference': 0.0003464803695678711, 'time_environment_step': 0.0007058215141296386, 'time_sample_batch': 8.899569511413574e-05, 'time_algorithm_update': 0.001646996259689331, 'loss': 0.7607967579066753, 'time_step': 0.0028524789810180666, 'rollout_return': 14.570422535211268, 'evaluation': 15.2} step=82000\n",
      "2022-08-07 20:07.30 [info     ] Model parameters are saved to d3rlpy_logs/DoubleDQN_online_20220807200314/model_83000.pt\n",
      "2022-08-07 20:07.30 [info     ] DoubleDQN_online_20220807200314: epoch=83 step=83000 epoch=83 metrics={'time_inference': 0.00034081339836120603, 'time_environment_step': 0.0006875836849212646, 'time_sample_batch': 9.547495841979981e-05, 'time_algorithm_update': 0.0015953936576843261, 'loss': 0.7363658343702555, 'time_step': 0.002783083200454712, 'rollout_return': 14.887323943661972, 'evaluation': 16.1} step=83000\n",
      "2022-08-07 20:07.33 [info     ] Model parameters are saved to d3rlpy_logs/DoubleDQN_online_20220807200314/model_84000.pt\n",
      "2022-08-07 20:07.33 [info     ] DoubleDQN_online_20220807200314: epoch=84 step=84000 epoch=84 metrics={'time_inference': 0.0003657991886138916, 'time_environment_step': 0.0007247207164764404, 'time_sample_batch': 9.209513664245605e-05, 'time_algorithm_update': 0.0017372040748596192, 'loss': 0.7896338221132755, 'time_step': 0.0029845783710479735, 'rollout_return': 14.633802816901408, 'evaluation': 16.8} step=84000\n",
      "2022-08-07 20:07.36 [info     ] Model parameters are saved to d3rlpy_logs/DoubleDQN_online_20220807200314/model_85000.pt\n",
      "2022-08-07 20:07.36 [info     ] DoubleDQN_online_20220807200314: epoch=85 step=85000 epoch=85 metrics={'time_inference': 0.0003570165634155273, 'time_environment_step': 0.0007117769718170166, 'time_sample_batch': 9.077334403991699e-05, 'time_algorithm_update': 0.001598475456237793, 'loss': 0.7625141187608242, 'time_step': 0.0028232507705688477, 'rollout_return': 14.985915492957746, 'evaluation': 15.0} step=85000\n",
      "2022-08-07 20:07.39 [info     ] Model parameters are saved to d3rlpy_logs/DoubleDQN_online_20220807200314/model_86000.pt\n",
      "2022-08-07 20:07.39 [info     ] DoubleDQN_online_20220807200314: epoch=86 step=86000 epoch=86 metrics={'time_inference': 0.0003498382568359375, 'time_environment_step': 0.0007199180126190185, 'time_sample_batch': 9.110403060913086e-05, 'time_algorithm_update': 0.0016318745613098146, 'loss': 0.7530420055985451, 'time_step': 0.0028572964668273928, 'rollout_return': 14.535211267605634, 'evaluation': 14.8} step=86000\n",
      "2022-08-07 20:07.42 [info     ] Model parameters are saved to d3rlpy_logs/DoubleDQN_online_20220807200314/model_87000.pt\n",
      "2022-08-07 20:07.42 [info     ] DoubleDQN_online_20220807200314: epoch=87 step=87000 epoch=87 metrics={'time_inference': 0.00036329889297485353, 'time_environment_step': 0.0007270829677581787, 'time_sample_batch': 8.984827995300293e-05, 'time_algorithm_update': 0.001545835018157959, 'loss': 0.757735796958208, 'time_step': 0.0027893850803375245, 'rollout_return': 14.71830985915493, 'evaluation': 18.8} step=87000\n",
      "2022-08-07 20:07.45 [info     ] Model parameters are saved to d3rlpy_logs/DoubleDQN_online_20220807200314/model_88000.pt\n",
      "2022-08-07 20:07.45 [info     ] DoubleDQN_online_20220807200314: epoch=88 step=88000 epoch=88 metrics={'time_inference': 0.000365307092666626, 'time_environment_step': 0.0007405936717987061, 'time_sample_batch': 9.558820724487304e-05, 'time_algorithm_update': 0.0016724700927734375, 'loss': 0.7689101583957673, 'time_step': 0.00294061541557312, 'rollout_return': 14.091549295774648, 'evaluation': 14.4} step=88000\n",
      "2022-08-07 20:07.48 [info     ] Model parameters are saved to d3rlpy_logs/DoubleDQN_online_20220807200314/model_89000.pt\n",
      "2022-08-07 20:07.48 [info     ] DoubleDQN_online_20220807200314: epoch=89 step=89000 epoch=89 metrics={'time_inference': 0.00033834433555603025, 'time_environment_step': 0.0006913754940032959, 'time_sample_batch': 9.056162834167481e-05, 'time_algorithm_update': 0.0016082370281219483, 'loss': 0.7563283093422651, 'time_step': 0.0027911484241485594, 'rollout_return': 14.21830985915493, 'evaluation': 16.6} step=89000\n",
      "2022-08-07 20:07.51 [info     ] Model parameters are saved to d3rlpy_logs/DoubleDQN_online_20220807200314/model_90000.pt\n",
      "2022-08-07 20:07.51 [info     ] DoubleDQN_online_20220807200314: epoch=90 step=90000 epoch=90 metrics={'time_inference': 0.0003627796173095703, 'time_environment_step': 0.0007253901958465576, 'time_sample_batch': 9.162425994873047e-05, 'time_algorithm_update': 0.001573857307434082, 'loss': 0.7392799271345138, 'time_step': 0.002817317008972168, 'rollout_return': 14.485915492957746, 'evaluation': 13.7} step=90000\n",
      "2022-08-07 20:07.54 [info     ] Model parameters are saved to d3rlpy_logs/DoubleDQN_online_20220807200314/model_91000.pt\n",
      "2022-08-07 20:07.54 [info     ] DoubleDQN_online_20220807200314: epoch=91 step=91000 epoch=91 metrics={'time_inference': 0.000356029748916626, 'time_environment_step': 0.0007126381397247315, 'time_sample_batch': 9.50760841369629e-05, 'time_algorithm_update': 0.0016525654792785645, 'loss': 0.7599930016249419, 'time_step': 0.0028802103996276853, 'rollout_return': 14.67605633802817, 'evaluation': 16.7} step=91000\n",
      "2022-08-07 20:07.57 [info     ] Model parameters are saved to d3rlpy_logs/DoubleDQN_online_20220807200314/model_92000.pt\n",
      "2022-08-07 20:07.57 [info     ] DoubleDQN_online_20220807200314: epoch=92 step=92000 epoch=92 metrics={'time_inference': 0.0003445315361022949, 'time_environment_step': 0.000713986873626709, 'time_sample_batch': 9.195256233215333e-05, 'time_algorithm_update': 0.0015880615711212158, 'loss': 0.7333149174600839, 'time_step': 0.0028018481731414795, 'rollout_return': 14.964788732394366, 'evaluation': 16.4} step=92000\n",
      "2022-08-07 20:08.00 [info     ] Model parameters are saved to d3rlpy_logs/DoubleDQN_online_20220807200314/model_93000.pt\n",
      "2022-08-07 20:08.00 [info     ] DoubleDQN_online_20220807200314: epoch=93 step=93000 epoch=93 metrics={'time_inference': 0.00035926079750061034, 'time_environment_step': 0.0007228448390960694, 'time_sample_batch': 9.034180641174316e-05, 'time_algorithm_update': 0.0016473212242126465, 'loss': 0.7425030625611544, 'time_step': 0.0028966798782348634, 'rollout_return': 15.077464788732394, 'evaluation': 14.5} step=93000\n",
      "2022-08-07 20:08.03 [info     ] Model parameters are saved to d3rlpy_logs/DoubleDQN_online_20220807200314/model_94000.pt\n",
      "2022-08-07 20:08.03 [info     ] DoubleDQN_online_20220807200314: epoch=94 step=94000 epoch=94 metrics={'time_inference': 0.00034957265853881835, 'time_environment_step': 0.0007120532989501954, 'time_sample_batch': 8.993077278137207e-05, 'time_algorithm_update': 0.0016246604919433593, 'loss': 0.7362923587411642, 'time_step': 0.0028390204906463623, 'rollout_return': 14.929577464788732, 'evaluation': 13.5} step=94000\n",
      "2022-08-07 20:08.06 [info     ] Model parameters are saved to d3rlpy_logs/DoubleDQN_online_20220807200314/model_95000.pt\n",
      "2022-08-07 20:08.06 [info     ] DoubleDQN_online_20220807200314: epoch=95 step=95000 epoch=95 metrics={'time_inference': 0.00033875489234924314, 'time_environment_step': 0.0006901719570159913, 'time_sample_batch': 9.425091743469238e-05, 'time_algorithm_update': 0.0014827570915222168, 'loss': 0.7331197437494993, 'time_step': 0.0026685895919799805, 'rollout_return': 15.429577464788732, 'evaluation': 17.0} step=95000\n",
      "2022-08-07 20:08.09 [info     ] Model parameters are saved to d3rlpy_logs/DoubleDQN_online_20220807200314/model_96000.pt\n",
      "2022-08-07 20:08.09 [info     ] DoubleDQN_online_20220807200314: epoch=96 step=96000 epoch=96 metrics={'time_inference': 0.0003578939437866211, 'time_environment_step': 0.0007326843738555908, 'time_sample_batch': 9.269070625305176e-05, 'time_algorithm_update': 0.0016346476078033447, 'loss': 0.7743713451772928, 'time_step': 0.00288413667678833, 'rollout_return': 14.288732394366198, 'evaluation': 15.1} step=96000\n",
      "2022-08-07 20:08.11 [info     ] Model parameters are saved to d3rlpy_logs/DoubleDQN_online_20220807200314/model_97000.pt\n",
      "2022-08-07 20:08.11 [info     ] DoubleDQN_online_20220807200314: epoch=97 step=97000 epoch=97 metrics={'time_inference': 0.00033642053604125975, 'time_environment_step': 0.0007082431316375732, 'time_sample_batch': 8.835792541503907e-05, 'time_algorithm_update': 0.0016178913116455078, 'loss': 0.748046298995614, 'time_step': 0.0028131909370422365, 'rollout_return': 14.485915492957746, 'evaluation': 15.4} step=97000\n",
      "2022-08-07 20:08.15 [info     ] Model parameters are saved to d3rlpy_logs/DoubleDQN_online_20220807200314/model_98000.pt\n",
      "2022-08-07 20:08.15 [info     ] DoubleDQN_online_20220807200314: epoch=98 step=98000 epoch=98 metrics={'time_inference': 0.0003538546562194824, 'time_environment_step': 0.0007303154468536377, 'time_sample_batch': 9.266471862792968e-05, 'time_algorithm_update': 0.0017245771884918213, 'loss': 0.7442725134342909, 'time_step': 0.002966747283935547, 'rollout_return': 15.26056338028169, 'evaluation': 16.8} step=98000\n",
      "2022-08-07 20:08.17 [info     ] Model parameters are saved to d3rlpy_logs/DoubleDQN_online_20220807200314/model_99000.pt\n",
      "2022-08-07 20:08.17 [info     ] DoubleDQN_online_20220807200314: epoch=99 step=99000 epoch=99 metrics={'time_inference': 0.0003410344123840332, 'time_environment_step': 0.0006973655223846436, 'time_sample_batch': 8.993005752563477e-05, 'time_algorithm_update': 0.0015614392757415771, 'loss': 0.7524961108416319, 'time_step': 0.0027519285678863524, 'rollout_return': 14.69718309859155, 'evaluation': 13.7} step=99000\n",
      "2022-08-07 20:08.20 [info     ] Model parameters are saved to d3rlpy_logs/DoubleDQN_online_20220807200314/model_100000.pt\n",
      "2022-08-07 20:08.20 [info     ] DoubleDQN_online_20220807200314: epoch=100 step=100000 epoch=100 metrics={'time_inference': 0.0003561971187591553, 'time_environment_step': 0.0007037770748138428, 'time_sample_batch': 8.956027030944824e-05, 'time_algorithm_update': 0.0015728371143341065, 'loss': 0.7744808081686497, 'time_step': 0.002786667823791504, 'rollout_return': 15.070422535211268, 'evaluation': 15.7} step=100000\n"
     ]
    }
   ],
   "source": [
    "# start training\n",
    "# skip if there is a pre-trained model\n",
    "ddqn.fit_online(\n",
    "    env,\n",
    "    buffer,\n",
    "    explorer=explorer,\n",
    "    eval_env=env,\n",
    "    n_steps=100000,\n",
    "    n_steps_per_epoch=1000,\n",
    "    update_start_step=1000,\n",
    ")"
   ]
  },
  {
   "cell_type": "code",
   "execution_count": 17,
   "metadata": {},
   "outputs": [],
   "source": [
    "# save model\n",
    "ddqn.save_model(\"d3rlpy_logs/ddqn.pt\")"
   ]
  },
  {
   "cell_type": "code",
   "execution_count": 18,
   "metadata": {},
   "outputs": [
    {
     "name": "stdout",
     "output_type": "stream",
     "text": [
      "2022-08-07 20:08.20 [warning  ] Parameters will be reinitialized.\n"
     ]
    }
   ],
   "source": [
    "# reload model\n",
    "ddqn.build_with_env(env)\n",
    "ddqn.load_model(\"d3rlpy_logs/ddqn.pt\")"
   ]
  },
  {
   "cell_type": "code",
   "execution_count": 19,
   "metadata": {},
   "outputs": [
    {
     "data": {
      "text/plain": [
       "Text(0, 0.5, 'episode reward')"
      ]
     },
     "execution_count": 19,
     "metadata": {},
     "output_type": "execute_result"
    },
    {
     "data": {
      "image/png": "[encoded data removed]",
      "text/plain": [
       "<Figure size 432x288 with 1 Axes>"
      ]
     },
     "metadata": {
      "needs_background": "light"
     },
     "output_type": "display_data"
    }
   ],
   "source": [
    "# we see that training RL policy can be risky online\n",
    "log_path = sorted(glob(\"d3rlpy_logs/DoubleDQN_online_*/evaluation.csv\"))[-1]\n",
    "df = pd.read_csv(\n",
    "    log_path, \n",
    "    usecols=[1,2],\n",
    "    names=[\"train_episode\", \"episodic_rewards\"]\n",
    ")\n",
    "plt.plot(df[\"train_episode\"], df[\"episodic_rewards\"])\n",
    "plt.title(\"Learning curve of DDQN\")\n",
    "plt.xlabel(\"episode\")\n",
    "plt.ylabel(\"episode reward\")"
   ]
  },
  {
   "cell_type": "code",
   "execution_count": 20,
   "metadata": {},
   "outputs": [],
   "source": [
    "random = DiscreteRandomPolicy()\n",
    "random.build_with_env(env)"
   ]
  },
  {
   "cell_type": "code",
   "execution_count": 21,
   "metadata": {},
   "outputs": [
    {
     "data": {
      "application/vnd.jupyter.widget-view+json": {
       "model_id": "52ae2655ea284e45b31da970f1aa92be",
       "version_major": 2,
       "version_minor": 0
      },
      "text/plain": [
       "[calculate on-policy policy value]:   0%|          | 0/100 [00:00<?, ?it/s]"
      ]
     },
     "metadata": {},
     "output_type": "display_data"
    },
    {
     "data": {
      "application/vnd.jupyter.widget-view+json": {
       "model_id": "ca3e2840797f4a05946b31db24a5ac5a",
       "version_major": 2,
       "version_minor": 0
      },
      "text/plain": [
       "[calculate on-policy policy value]:   0%|          | 0/100 [00:00<?, ?it/s]"
      ]
     },
     "metadata": {},
     "output_type": "display_data"
    },
    {
     "data": {
      "image/png": "[encoded data removed]",
      "text/plain": [
       "<Figure size 288x288 with 1 Axes>"
      ]
     },
     "metadata": {},
     "output_type": "display_data"
    }
   ],
   "source": [
    "# compare the policy performance online\n",
    "visualize_on_policy_policy_value(\n",
    "    env=env,\n",
    "    policies=[ddqn, random],\n",
    "    policy_names=[\"ddqn\", \"random\"],\n",
    "    n_episodes=100,\n",
    "    random_state=random_state,\n",
    ")"
   ]
  },
  {
   "cell_type": "code",
   "execution_count": 22,
   "metadata": {},
   "outputs": [
    {
     "data": {
      "application/vnd.jupyter.widget-view+json": {
       "model_id": "cbb4901db8624acfa34e9e29397e0201",
       "version_major": 2,
       "version_minor": 0
      },
      "text/plain": [
       "[calculate on-policy policy value]:   0%|          | 0/100 [00:00<?, ?it/s]"
      ]
     },
     "metadata": {},
     "output_type": "display_data"
    },
    {
     "data": {
      "application/vnd.jupyter.widget-view+json": {
       "model_id": "1a6d3baa6dfe403c93e5328166a30992",
       "version_major": 2,
       "version_minor": 0
      },
      "text/plain": [
       "[calculate on-policy policy value]:   0%|          | 0/100 [00:00<?, ?it/s]"
      ]
     },
     "metadata": {},
     "output_type": "display_data"
    },
    {
     "name": "stdout",
     "output_type": "stream",
     "text": [
      "relative improvement: 0.2417138237671787\n"
     ]
    }
   ],
   "source": [
    "# on-policy policy value by ddqn policy\n",
    "# largely outperforms the random policy (about 20%)\n",
    "ddqn_performance = calc_on_policy_policy_value(env, ddqn, n_episodes=100, random_state=random_state)\n",
    "random_performance = calc_on_policy_policy_value(env, random, n_episodes=100, random_state=random_state)\n",
    "print(\"relative improvement:\", (ddqn_performance - random_performance) / random_performance)"
   ]
  },
  {
   "cell_type": "markdown",
   "metadata": {},
   "source": [
    "Note that, we provide the following functions for online evaluation of the policy performance under `ofrl.ope.online`.\n",
    "\n",
    "(Statistics)\n",
    "\n",
    "* `calc_on_policy_policy_value`\n",
    "* `calc_on_policy_policy_value_interval`\n",
    "* `calc_on_policy_variance`\n",
    "* `calc_on_policy_conditional_value_at_risk`\n",
    "* `calc_on_policy_policy_interquartile_range`\n",
    "* `calc_on_policy_cumulative_distribution_function`\n",
    "\n",
    "(Visualization)\n",
    "* `visualize_on_policy_policy_value`\n",
    "* `visualize_on_policy_policy_value_with_variance`\n",
    "* `visualize_on_policy_cumulative_distribution_function`\n",
    "* `visualize_on_policy_conditional_value_at_risk`\n",
    "* `visualize_on_policy_interquartile_range`"
   ]
  },
  {
   "cell_type": "markdown",
   "metadata": {},
   "source": [
    "## 1. Synthetic Dataset Generation\n",
    "In the previous section, we see how we can interact with the environment *online* using synthetic simulator.  \n",
    "Though simulation is a good starting point for training an agent, eventually we want to deploy our agent (or policy) in the real world environment.  \n",
    "However, online interaction may have potential risk of failure in the real-world.\n",
    "Therefore, we introduce an alternative learning protocol, Offline RL, which aims at training a new policy using only offline logged dataset.\n",
    "\n",
    "We prepare an easy-to-use synthetic dataset generator: `SyntheticDataset` class in the dataset module.  \n",
    "By regarding the simulation environment as a hypothetical real-environment, we show how to conduct Offline RL using logged dataset in real-world application.  \n",
    "For detailed description of how to use a real-world dataset, please see #TODO (will be implemented).\n",
    "\n",
    "`SyntheticDataset` class has the following arguments:\n",
    "- `env`: RTB environment for RL defined in the previous section.\n",
    "- `behavior_policy`: RL agent (or algorithm) used for the data collection.\n",
    "- `n_samples_pretrain_reward_predictor`: Numbers of samples used to pretrain reward predictor."
   ]
  },
  {
   "cell_type": "code",
   "execution_count": 23,
   "metadata": {},
   "outputs": [],
   "source": [
    "# import necessary module from OFRL\n",
    "from ofrl.policy import DiscreteEpsilonGreedyHead"
   ]
  },
  {
   "cell_type": "code",
   "execution_count": 24,
   "metadata": {},
   "outputs": [],
   "source": [
    "behavior_policy = DiscreteEpsilonGreedyHead(\n",
    "    ddqn, \n",
    "    n_actions=env.action_space.n,\n",
    "    epsilon=0.3,\n",
    "    name=\"ddqn_epsilon_0.3\",\n",
    "    random_state=random_state,\n",
    ")"
   ]
  },
  {
   "cell_type": "code",
   "execution_count": 25,
   "metadata": {},
   "outputs": [],
   "source": [
    "# initialize dataset class\n",
    "dataset = SyntheticDataset(\n",
    "    env=env,\n",
    "    behavior_policy=behavior_policy,\n",
    "    is_rtb_env=True,\n",
    "    random_state=random_state,\n",
    ")"
   ]
  },
  {
   "cell_type": "code",
   "execution_count": 26,
   "metadata": {},
   "outputs": [
    {
     "data": {
      "application/vnd.jupyter.widget-view+json": {
       "model_id": "f4c2a7c8a50148d99b9cb27fa8064a2c",
       "version_major": 2,
       "version_minor": 0
      },
      "text/plain": [
       "[obtain_trajectories]:   0%|          | 0/10000 [00:00<?, ?it/s]"
      ]
     },
     "metadata": {},
     "output_type": "display_data"
    }
   ],
   "source": [
    "# collect logged data by a behavior policy\n",
    "# skip if there is a preserved logged dataset\n",
    "logged_dataset = dataset.obtain_trajectories(n_episodes=10000, obtain_info=True)"
   ]
  },
  {
   "cell_type": "code",
   "execution_count": 27,
   "metadata": {},
   "outputs": [
    {
     "data": {
      "text/plain": [
       "{'size': 70000,\n",
       " 'n_episodes': 10000,\n",
       " 'step_per_episode': 7,\n",
       " 'action_type': 'discrete',\n",
       " 'n_actions': 10,\n",
       " 'action_dim': None,\n",
       " 'action_meaning': array([ 0.1       ,  0.16681005,  0.27825594,  0.46415888,  0.77426368,\n",
       "         1.29154967,  2.15443469,  3.59381366,  5.9948425 , 10.        ]),\n",
       " 'state_dim': 7,\n",
       " 'state_keys': ['timestep',\n",
       "  'remaining_budget',\n",
       "  'budget_consumption_rate',\n",
       "  'cost_per_mille_of_impression',\n",
       "  'winning_rate',\n",
       "  'reward',\n",
       "  'adjust_rate'],\n",
       " 'state': array([[0.00000000e+00, 3.00000000e+03, 9.29616093e-01, ...,\n",
       "         1.83918812e-01, 2.00000000e+00, 5.67019226e-01],\n",
       "        [1.00000000e+00, 1.91000000e+03, 3.63333333e-01, ...,\n",
       "         1.00000000e+00, 6.00000000e+00, 5.99484250e+00],\n",
       "        [2.00000000e+00, 1.91000000e+03, 0.00000000e+00, ...,\n",
       "         0.00000000e+00, 0.00000000e+00, 1.66810054e-01],\n",
       "        ...,\n",
       "        [4.00000000e+00, 6.00000000e+00, 9.88700565e-01, ...,\n",
       "         5.55555556e-01, 2.00000000e+00, 5.99484250e+00],\n",
       "        [5.00000000e+00, 6.00000000e+00, 0.00000000e+00, ...,\n",
       "         2.46305419e-02, 0.00000000e+00, 7.74263683e-01],\n",
       "        [6.00000000e+00, 6.00000000e+00, 0.00000000e+00, ...,\n",
       "         7.78210117e-03, 0.00000000e+00, 2.15443469e+00]]),\n",
       " 'action': array([8., 1., 8., ..., 4., 6., 6.]),\n",
       " 'reward': array([6., 0., 1., ..., 0., 0., 0.]),\n",
       " 'done': array([0., 0., 0., ..., 0., 0., 1.]),\n",
       " 'terminal': array([0., 0., 0., ..., 0., 0., 1.]),\n",
       " 'info': {'search_volume': array([201., 205., 217., ..., 203., 257., 179.]),\n",
       "  'impression': array([201.,   0., 217., ...,   5.,   2.,   5.]),\n",
       "  'click': array([21.,  0., 24., ...,  0.,  0.,  0.]),\n",
       "  'conversion': array([6., 0., 1., ..., 0., 0., 0.]),\n",
       "  'average_bid_price': array([326.24875622,   8.24390244, 313.49769585, ...,  37.14285714,\n",
       "         101.32684825,  99.34078212])},\n",
       " 'pscore': array([0.73, 0.73, 0.73, ..., 0.73, 0.73, 0.73])}"
      ]
     },
     "execution_count": 27,
     "metadata": {},
     "output_type": "execute_result"
    }
   ],
   "source": [
    "logged_dataset"
   ]
  },
  {
   "cell_type": "code",
   "execution_count": 28,
   "metadata": {},
   "outputs": [],
   "source": [
    "with open(\"logs/dataset_discrete.pkl\", \"wb\") as f:\n",
    "    pickle.dump(logged_dataset, f)"
   ]
  },
  {
   "cell_type": "code",
   "execution_count": 29,
   "metadata": {},
   "outputs": [],
   "source": [
    "with open(\"logs/dataset_discrete.pkl\", \"rb\") as f:\n",
    "    logged_dataset = pickle.load(f)"
   ]
  },
  {
   "cell_type": "code",
   "execution_count": 30,
   "metadata": {},
   "outputs": [
    {
     "data": {
      "application/vnd.jupyter.widget-view+json": {
       "model_id": "e36e5e090e7f4e7bb940117ad95c3967",
       "version_major": 2,
       "version_minor": 0
      },
      "text/plain": [
       "[calculate on-policy policy value]:   0%|          | 0/100 [00:00<?, ?it/s]"
      ]
     },
     "metadata": {},
     "output_type": "display_data"
    },
    {
     "data": {
      "application/vnd.jupyter.widget-view+json": {
       "model_id": "35ebf529557f4d13ac4f45851bfee899",
       "version_major": 2,
       "version_minor": 0
      },
      "text/plain": [
       "[calculate on-policy policy value]:   0%|          | 0/100 [00:00<?, ?it/s]"
      ]
     },
     "metadata": {},
     "output_type": "display_data"
    },
    {
     "data": {
      "application/vnd.jupyter.widget-view+json": {
       "model_id": "17db4ebd19a3482f91941dd530453034",
       "version_major": 2,
       "version_minor": 0
      },
      "text/plain": [
       "[calculate on-policy policy value]:   0%|          | 0/100 [00:00<?, ?it/s]"
      ]
     },
     "metadata": {},
     "output_type": "display_data"
    },
    {
     "data": {
      "image/png": "[encoded data removed]",
      "text/plain": [
       "<Figure size 432x288 with 1 Axes>"
      ]
     },
     "metadata": {},
     "output_type": "display_data"
    }
   ],
   "source": [
    "# compare the policy performance online\n",
    "# almost the same performance as greedy ddqn\n",
    "visualize_on_policy_policy_value(\n",
    "    env=env,\n",
    "    policies=[ddqn, behavior_policy, random],\n",
    "    policy_names=[\"ddqn\", \"ddqn (e=0.3)\", \"random\"],\n",
    "    n_episodes=100,\n",
    "    random_state=random_state,\n",
    ")"
   ]
  },
  {
   "cell_type": "code",
   "execution_count": 31,
   "metadata": {},
   "outputs": [
    {
     "data": {
      "text/html": [
       "<div>\n",
       "<style scoped>\n",
       "    .dataframe tbody tr th:only-of-type {\n",
       "        vertical-align: middle;\n",
       "    }\n",
       "\n",
       "    .dataframe tbody tr th {\n",
       "        vertical-align: top;\n",
       "    }\n",
       "\n",
       "    .dataframe thead th {\n",
       "        text-align: right;\n",
       "    }\n",
       "</style>\n",
       "<table border=\"1\" class=\"dataframe\">\n",
       "  <thead>\n",
       "    <tr style=\"text-align: right;\">\n",
       "      <th></th>\n",
       "      <th>adjust rate</th>\n",
       "      <th>average bid price</th>\n",
       "      <th>impression</th>\n",
       "      <th>click</th>\n",
       "      <th>conversion</th>\n",
       "      <th>winning rate</th>\n",
       "      <th>click / impression</th>\n",
       "      <th>conversion / click</th>\n",
       "    </tr>\n",
       "  </thead>\n",
       "  <tbody>\n",
       "    <tr>\n",
       "      <th>count</th>\n",
       "      <td>70000.000000</td>\n",
       "      <td>70000.000000</td>\n",
       "      <td>70000.000000</td>\n",
       "      <td>70000.000000</td>\n",
       "      <td>70000.000000</td>\n",
       "      <td>70000.000000</td>\n",
       "      <td>70000.000000</td>\n",
       "      <td>70000.000000</td>\n",
       "    </tr>\n",
       "    <tr>\n",
       "      <th>mean</th>\n",
       "      <td>2.660002</td>\n",
       "      <td>146.124731</td>\n",
       "      <td>86.615629</td>\n",
       "      <td>8.679429</td>\n",
       "      <td>2.127314</td>\n",
       "      <td>0.495621</td>\n",
       "      <td>0.061904</td>\n",
       "      <td>0.133715</td>\n",
       "    </tr>\n",
       "    <tr>\n",
       "      <th>std</th>\n",
       "      <td>2.616485</td>\n",
       "      <td>138.340648</td>\n",
       "      <td>89.508099</td>\n",
       "      <td>9.651904</td>\n",
       "      <td>2.989329</td>\n",
       "      <td>0.430046</td>\n",
       "      <td>0.071473</td>\n",
       "      <td>0.182682</td>\n",
       "    </tr>\n",
       "    <tr>\n",
       "      <th>min</th>\n",
       "      <td>0.000181</td>\n",
       "      <td>4.051887</td>\n",
       "      <td>0.000000</td>\n",
       "      <td>0.000000</td>\n",
       "      <td>0.000000</td>\n",
       "      <td>0.000000</td>\n",
       "      <td>0.000000</td>\n",
       "      <td>0.000000</td>\n",
       "    </tr>\n",
       "    <tr>\n",
       "      <th>25%</th>\n",
       "      <td>0.464159</td>\n",
       "      <td>35.388466</td>\n",
       "      <td>1.000000</td>\n",
       "      <td>0.000000</td>\n",
       "      <td>0.000000</td>\n",
       "      <td>0.016760</td>\n",
       "      <td>0.000000</td>\n",
       "      <td>0.000000</td>\n",
       "    </tr>\n",
       "    <tr>\n",
       "      <th>50%</th>\n",
       "      <td>1.291550</td>\n",
       "      <td>101.644595</td>\n",
       "      <td>38.000000</td>\n",
       "      <td>3.000000</td>\n",
       "      <td>0.000000</td>\n",
       "      <td>0.476138</td>\n",
       "      <td>0.070064</td>\n",
       "      <td>0.000000</td>\n",
       "    </tr>\n",
       "    <tr>\n",
       "      <th>75%</th>\n",
       "      <td>5.994843</td>\n",
       "      <td>298.331606</td>\n",
       "      <td>184.000000</td>\n",
       "      <td>18.000000</td>\n",
       "      <td>4.000000</td>\n",
       "      <td>1.000000</td>\n",
       "      <td>0.105960</td>\n",
       "      <td>0.235294</td>\n",
       "    </tr>\n",
       "    <tr>\n",
       "      <th>max</th>\n",
       "      <td>11.157754</td>\n",
       "      <td>546.900000</td>\n",
       "      <td>290.000000</td>\n",
       "      <td>42.000000</td>\n",
       "      <td>20.000000</td>\n",
       "      <td>1.000000</td>\n",
       "      <td>0.999995</td>\n",
       "      <td>0.999998</td>\n",
       "    </tr>\n",
       "  </tbody>\n",
       "</table>\n",
       "</div>"
      ],
      "text/plain": [
       "        adjust rate  average bid price    impression         click  \\\n",
       "count  70000.000000       70000.000000  70000.000000  70000.000000   \n",
       "mean       2.660002         146.124731     86.615629      8.679429   \n",
       "std        2.616485         138.340648     89.508099      9.651904   \n",
       "min        0.000181           4.051887      0.000000      0.000000   \n",
       "25%        0.464159          35.388466      1.000000      0.000000   \n",
       "50%        1.291550         101.644595     38.000000      3.000000   \n",
       "75%        5.994843         298.331606    184.000000     18.000000   \n",
       "max       11.157754         546.900000    290.000000     42.000000   \n",
       "\n",
       "         conversion  winning rate  click / impression  conversion / click  \n",
       "count  70000.000000  70000.000000        70000.000000        70000.000000  \n",
       "mean       2.127314      0.495621            0.061904            0.133715  \n",
       "std        2.989329      0.430046            0.071473            0.182682  \n",
       "min        0.000000      0.000000            0.000000            0.000000  \n",
       "25%        0.000000      0.016760            0.000000            0.000000  \n",
       "50%        0.000000      0.476138            0.070064            0.000000  \n",
       "75%        4.000000      1.000000            0.105960            0.235294  \n",
       "max       20.000000      1.000000            0.999995            0.999998  "
      ]
     },
     "execution_count": 31,
     "metadata": {},
     "output_type": "execute_result"
    }
   ],
   "source": [
    "# let's see some statistics of the dataset\n",
    "df = pd.DataFrame()\n",
    "df['adjust rate'] = logged_dataset['state'][:, 6]\n",
    "df['average bid price'] = logged_dataset['info']['average_bid_price']\n",
    "df['impression'] = logged_dataset['info']['impression']\n",
    "df['click'] = logged_dataset['info']['click']\n",
    "df['conversion'] = logged_dataset['info']['conversion']\n",
    "df['winning rate'] = logged_dataset['state'][:, 4]\n",
    "df['click / impression'] = df['click'] / (df['impression'] + 1e-5)\n",
    "df['conversion / click'] = df['conversion'] / (df['click'] + 1e-5)\n",
    "df.describe()"
   ]
  },
  {
   "cell_type": "markdown",
   "metadata": {},
   "source": [
    "For more about the data collection and visualization, please refer to [examples/quickstart/rtb_synthetic_data_collection.ipynb](https://github.com/negocia-inc/rtb_reinforcement_learing/blob/ope/examples/quickstart/rtb_synthetic_data_collection.ipynb)."
   ]
  },
  {
   "cell_type": "markdown",
   "metadata": {},
   "source": [
    "## 2. Offline Reinforcement Learning\n",
    "In this section, we learn a new policy in an offline manner, without interacting with the environment.  \n",
    "We use [d3rlpy](https://github.com/takuseno/d3rlpy)'s implementation of algorithms."
   ]
  },
  {
   "cell_type": "code",
   "execution_count": 32,
   "metadata": {},
   "outputs": [],
   "source": [
    "# import modules from d3rlpy\n",
    "from d3rlpy.dataset import MDPDataset\n",
    "from d3rlpy.algos import DiscreteCQL\n",
    "from d3rlpy.ope import DiscreteFQE\n",
    "from d3rlpy.metrics.scorer import evaluate_on_environment"
   ]
  },
  {
   "cell_type": "code",
   "execution_count": 33,
   "metadata": {},
   "outputs": [],
   "source": [
    "offlinerl_dataset = MDPDataset(\n",
    "    observations=logged_dataset[\"state\"],\n",
    "    actions=logged_dataset[\"action\"],\n",
    "    rewards=logged_dataset[\"reward\"],\n",
    "    terminals=logged_dataset[\"done\"],\n",
    "    episode_terminals=logged_dataset[\"done\"],\n",
    "    discrete_action=True,\n",
    ")\n",
    "train_episodes, test_episodes = train_test_split(offlinerl_dataset, test_size=0.2, random_state=random_state)"
   ]
  },
  {
   "cell_type": "code",
   "execution_count": 34,
   "metadata": {},
   "outputs": [],
   "source": [
    "# Use Conservative Q-Learning policy\n",
    "cql = DiscreteCQL(\n",
    "    encoder_factory=VectorEncoderFactory(hidden_units=[30, 30]),\n",
    "    q_func_factory=MeanQFunctionFactory(),\n",
    "    use_gpu=torch.cuda.is_available(),\n",
    ")"
   ]
  },
  {
   "cell_type": "code",
   "execution_count": 35,
   "metadata": {},
   "outputs": [
    {
     "name": "stdout",
     "output_type": "stream",
     "text": [
      "2022-08-07 20:10.26 [debug    ] RandomIterator is selected.\n",
      "2022-08-07 20:10.26 [info     ] Directory is created at d3rlpy_logs/DiscreteCQL_20220807201026\n",
      "2022-08-07 20:10.26 [debug    ] Building models...\n",
      "2022-08-07 20:10.26 [debug    ] Models have been built.\n",
      "2022-08-07 20:10.26 [info     ] Parameters are saved to d3rlpy_logs/DiscreteCQL_20220807201026/params.json params={'action_scaler': None, 'alpha': 1.0, 'batch_size': 32, 'encoder_factory': {'type': 'vector', 'params': {'hidden_units': [30, 30], 'activation': 'relu', 'use_batch_norm': False, 'dropout_rate': None, 'use_dense': False}}, 'gamma': 0.99, 'generated_maxlen': 100000, 'learning_rate': 6.25e-05, 'n_critics': 1, 'n_frames': 1, 'n_steps': 1, 'optim_factory': {'optim_cls': 'Adam', 'betas': (0.9, 0.999), 'eps': 1e-08, 'weight_decay': 0, 'amsgrad': False}, 'q_func_factory': {'type': 'mean', 'params': {'share_encoder': False}}, 'real_ratio': 1.0, 'reward_scaler': None, 'scaler': None, 'target_update_interval': 8000, 'use_gpu': None, 'algorithm': 'DiscreteCQL', 'observation_shape': (7,), 'action_size': 10}\n"
     ]
    },
    {
     "data": {
      "application/vnd.jupyter.widget-view+json": {
       "model_id": "1683b3931cf54008b202b9bebca4327d",
       "version_major": 2,
       "version_minor": 0
      },
      "text/plain": [
       "Epoch 1/1:   0%|          | 0/10000 [00:00<?, ?it/s]"
      ]
     },
     "metadata": {},
     "output_type": "display_data"
    },
    {
     "name": "stdout",
     "output_type": "stream",
     "text": [
      "2022-08-07 20:11.14 [info     ] DiscreteCQL_20220807201026: epoch=1 step=10000 epoch=1 metrics={'time_sample_batch': 0.00019255259037017822, 'time_algorithm_update': 0.00434262490272522, 'loss': 37.058514602565765, 'time_step': 0.004728208112716675, 'environment': 15.9} step=10000\n",
      "2022-08-07 20:11.14 [info     ] Model parameters are saved to d3rlpy_logs/DiscreteCQL_20220807201026/model_10000.pt\n"
     ]
    },
    {
     "data": {
      "text/plain": [
       "[(1,\n",
       "  {'time_sample_batch': 0.00019255259037017822,\n",
       "   'time_algorithm_update': 0.00434262490272522,\n",
       "   'loss': 37.058514602565765,\n",
       "   'time_step': 0.004728208112716675,\n",
       "   'environment': 15.9})]"
      ]
     },
     "execution_count": 35,
     "metadata": {},
     "output_type": "execute_result"
    }
   ],
   "source": [
    "cql.fit(\n",
    "    train_episodes,\n",
    "    eval_episodes=test_episodes,\n",
    "    n_steps=10000,\n",
    "    scorers={\n",
    "        'environment': evaluate_on_environment(env),\n",
    "        # to record training process w/ ground truth policy value, which is unseen to the agent\n",
    "    },\n",
    ")"
   ]
  },
  {
   "cell_type": "code",
   "execution_count": 36,
   "metadata": {},
   "outputs": [],
   "source": [
    "# save model\n",
    "cql.save_model(\"d3rlpy_logs/cql_discrete.pt\")"
   ]
  },
  {
   "cell_type": "code",
   "execution_count": 37,
   "metadata": {},
   "outputs": [
    {
     "name": "stdout",
     "output_type": "stream",
     "text": [
      "2022-08-07 20:11.14 [warning  ] Parameters will be reinitialized.\n"
     ]
    }
   ],
   "source": [
    "# reload model\n",
    "cql.build_with_env(env)\n",
    "cql.load_model(\"d3rlpy_logs/cql_discrete.pt\")"
   ]
  },
  {
   "cell_type": "code",
   "execution_count": 38,
   "metadata": {},
   "outputs": [
    {
     "data": {
      "application/vnd.jupyter.widget-view+json": {
       "model_id": "7c7c97ae33c142538b573ecb76befd9e",
       "version_major": 2,
       "version_minor": 0
      },
      "text/plain": [
       "[calculate on-policy policy value]:   0%|          | 0/100 [00:00<?, ?it/s]"
      ]
     },
     "metadata": {},
     "output_type": "display_data"
    },
    {
     "data": {
      "application/vnd.jupyter.widget-view+json": {
       "model_id": "8c7fb26d74534d178d4cf150c89ad20f",
       "version_major": 2,
       "version_minor": 0
      },
      "text/plain": [
       "[calculate on-policy policy value]:   0%|          | 0/100 [00:00<?, ?it/s]"
      ]
     },
     "metadata": {},
     "output_type": "display_data"
    },
    {
     "data": {
      "application/vnd.jupyter.widget-view+json": {
       "model_id": "f0b10f7daeca46c6835843f6c77fc4b1",
       "version_major": 2,
       "version_minor": 0
      },
      "text/plain": [
       "[calculate on-policy policy value]:   0%|          | 0/100 [00:00<?, ?it/s]"
      ]
     },
     "metadata": {},
     "output_type": "display_data"
    },
    {
     "data": {
      "application/vnd.jupyter.widget-view+json": {
       "model_id": "12d48fff67ba4007af9538a8d160f31c",
       "version_major": 2,
       "version_minor": 0
      },
      "text/plain": [
       "[calculate on-policy policy value]:   0%|          | 0/100 [00:00<?, ?it/s]"
      ]
     },
     "metadata": {},
     "output_type": "display_data"
    },
    {
     "data": {
      "image/png": "[encoded data removed]",
      "text/plain": [
       "<Figure size 576x288 with 1 Axes>"
      ]
     },
     "metadata": {},
     "output_type": "display_data"
    }
   ],
   "source": [
    "# compare the policy performance online\n",
    "# not better than online policy, but achieves almost the same performance\n",
    "# meaning that we can learn a reasonable policy without interacting with the environment!\n",
    "visualize_on_policy_policy_value(\n",
    "    env=env,\n",
    "    policies=[ddqn, behavior_policy, cql, random],\n",
    "    policy_names=[\"ddqn\", \"ddqn (e=0.3)\", \"cql (offline)\", \"random\"],\n",
    "    n_episodes=100,\n",
    "    random_state=random_state,\n",
    ")"
   ]
  },
  {
   "cell_type": "markdown",
   "metadata": {},
   "source": [
    "## 3. Off-Policy Evaluation and Evaluation of Offline RL methods\n",
    "In the previous section, we verified the performance of a learned policy via online interaction (aka A/B tests).  \n",
    "However, it could be risky because the policy may perform poorly in an online environment.  \n",
    "To tackle this issue, we aim at evaluating the performance of a policy offline, to gain some prior knowledge on how agent works in the environment."
   ]
  },
  {
   "cell_type": "code",
   "execution_count": 39,
   "metadata": {},
   "outputs": [],
   "source": [
    "# import ope modules from OFRL\n",
    "from ofrl.ope import CreateOPEInput\n",
    "from ofrl.ope import DiscreteOffPolicyEvaluation as OPE\n",
    "from ofrl.ope import DiscreteDirectMethod as DM\n",
    "from ofrl.ope import DiscreteTrajectoryWiseImportanceSampling as TIS\n",
    "from ofrl.ope import DiscretePerDecisionImportanceSampling as PDIS\n",
    "from ofrl.ope import DiscreteDoublyRobust as DR\n",
    "from ofrl.ope import DiscreteSelfNormalizedTrajectoryWiseImportanceSampling as SNTIS\n",
    "from ofrl.ope import DiscreteSelfNormalizedPerDecisionImportanceSampling as SNPDIS\n",
    "from ofrl.ope import DiscreteSelfNormalizedDoublyRobust as SNDR"
   ]
  },
  {
   "cell_type": "code",
   "execution_count": 40,
   "metadata": {},
   "outputs": [],
   "source": [
    "# define evaluation policies\n",
    "cql_ = DiscreteEpsilonGreedyHead(base_policy=cql, n_actions=env.action_space.n, name=\"cql\", epsilon=0.0, random_state=random_state)\n",
    "ddqn_ = DiscreteEpsilonGreedyHead(base_policy=ddqn, n_actions=env.action_space.n, name=\"ddqn\", epsilon=0.0, random_state=random_state)\n",
    "random_ = DiscreteEpsilonGreedyHead(base_policy=random, n_actions=env.action_space.n, name=\"random\", epsilon=1.0, random_state=random_state)\n",
    "evaluation_policies = [cql_, ddqn_, random_]"
   ]
  },
  {
   "cell_type": "code",
   "execution_count": 43,
   "metadata": {},
   "outputs": [],
   "source": [
    "# first, prepare OPE inputs\n",
    "prep = CreateOPEInput(\n",
    "    logged_dataset=logged_dataset,\n",
    "    use_base_model=True,  # use model-based prediction\n",
    ")"
   ]
  },
  {
   "cell_type": "code",
   "execution_count": 45,
   "metadata": {},
   "outputs": [
    {
     "data": {
      "application/vnd.jupyter.widget-view+json": {
       "model_id": "9f870f83c32c4c94a9a35e815cc6a6dd",
       "version_major": 2,
       "version_minor": 0
      },
      "text/plain": [
       "[fit FQE model]:   0%|          | 0/3 [00:00<?, ?it/s]"
      ]
     },
     "metadata": {},
     "output_type": "display_data"
    },
    {
     "data": {
      "application/vnd.jupyter.widget-view+json": {
       "model_id": "003e064b7bbe45e6898a6626db9cf0c2",
       "version_major": 2,
       "version_minor": 0
      },
      "text/plain": [
       "[collect input data]:   0%|          | 0/3 [00:00<?, ?it/s]"
      ]
     },
     "metadata": {},
     "output_type": "display_data"
    },
    {
     "data": {
      "application/vnd.jupyter.widget-view+json": {
       "model_id": "0fd51c7c0f5e4000b6abb7dcf2f16c8c",
       "version_major": 2,
       "version_minor": 0
      },
      "text/plain": [
       "[calculate on-policy policy value]:   0%|          | 0/100 [00:00<?, ?it/s]"
      ]
     },
     "metadata": {},
     "output_type": "display_data"
    },
    {
     "data": {
      "application/vnd.jupyter.widget-view+json": {
       "model_id": "56aecde41a3945e98fa34ed757fb7e1e",
       "version_major": 2,
       "version_minor": 0
      },
      "text/plain": [
       "[calculate on-policy policy value]:   0%|          | 0/100 [00:00<?, ?it/s]"
      ]
     },
     "metadata": {},
     "output_type": "display_data"
    },
    {
     "data": {
      "application/vnd.jupyter.widget-view+json": {
       "model_id": "0916c488986e4829ae5162f719f3b255",
       "version_major": 2,
       "version_minor": 0
      },
      "text/plain": [
       "[calculate on-policy policy value]:   0%|          | 0/100 [00:00<?, ?it/s]"
      ]
     },
     "metadata": {},
     "output_type": "display_data"
    }
   ],
   "source": [
    "# takes time\n",
    "input_dict = prep.obtain_whole_inputs(\n",
    "    evaluation_policies=evaluation_policies,\n",
    "    env=env,\n",
    "    n_episodes_on_policy_evaluation=100,\n",
    "    random_state=random_state,\n",
    ")"
   ]
  },
  {
   "cell_type": "code",
   "execution_count": 46,
   "metadata": {},
   "outputs": [],
   "source": [
    "with open(\"logs/ope_input_dict_discrete.pkl\", \"wb\") as f:\n",
    "    pickle.dump(input_dict, f)"
   ]
  },
  {
   "cell_type": "code",
   "execution_count": 47,
   "metadata": {},
   "outputs": [],
   "source": [
    "with open(\"logs/ope_input_dict_discrete.pkl\", \"rb\") as f:\n",
    "    input_dict = pickle.load(f)"
   ]
  },
  {
   "cell_type": "code",
   "execution_count": 48,
   "metadata": {},
   "outputs": [],
   "source": [
    "ope = OPE(\n",
    "    logged_dataset=logged_dataset,\n",
    "    ope_estimators=[DM(), TIS(), PDIS(), DR(), SNTIS(), SNPDIS(), SNDR()],\n",
    ")"
   ]
  },
  {
   "cell_type": "code",
   "execution_count": 51,
   "metadata": {},
   "outputs": [],
   "source": [
    "# performance estimation by ope\n",
    "policy_value_df_dict, policy_value_interval_df_dict = ope.summarize_off_policy_estimates(input_dict, random_state=random_state)"
   ]
  },
  {
   "cell_type": "code",
   "execution_count": 52,
   "metadata": {},
   "outputs": [
    {
     "data": {
      "text/plain": [
       "{'cql':            policy_value  relative_policy_value\n",
       " on_policy     16.010000               1.000000\n",
       " dm            14.973380               0.935252\n",
       " tis            9.023542               0.563619\n",
       " pdis          15.525784               0.969755\n",
       " dr            15.632082               0.976395\n",
       " sntis         12.860952               0.803307\n",
       " snpdis        16.176390               1.010393\n",
       " sndr          15.584463               0.973421,\n",
       " 'ddqn':            policy_value  relative_policy_value\n",
       " on_policy     15.360000               1.000000\n",
       " dm            15.590860               1.015030\n",
       " tis           16.012820               1.042501\n",
       " pdis          15.480267               1.007830\n",
       " dr            15.317694               0.997246\n",
       " sntis         15.490368               1.008487\n",
       " snpdis        15.328724               0.997964\n",
       " sndr          15.323555               0.997627,\n",
       " 'random':            policy_value  relative_policy_value\n",
       " on_policy     12.570000               1.000000\n",
       " dm            13.896844               1.105556\n",
       " tis            6.008649               0.478015\n",
       " pdis          12.386016               0.985363\n",
       " dr            13.829806               1.100223\n",
       " sntis         12.851032               1.022357\n",
       " snpdis        13.721985               1.091646\n",
       " sndr          13.458403               1.070676}"
      ]
     },
     "execution_count": 52,
     "metadata": {},
     "output_type": "execute_result"
    }
   ],
   "source": [
    "# estimated policy performance\n",
    "policy_value_df_dict"
   ]
  },
  {
   "cell_type": "code",
   "execution_count": 53,
   "metadata": {},
   "outputs": [
    {
     "data": {
      "text/plain": [
       "{'cql':                 mean  95.0% CI (lower)  95.0% CI (upper)\n",
       " on_policy  15.958800         15.119500         16.636750\n",
       " dm         14.972845         14.968251         14.978276\n",
       " tis         8.421295          1.006330         24.986961\n",
       " pdis       15.420840         14.299552         16.564960\n",
       " dr         15.636195         14.683645         16.310778\n",
       " sntis      12.002589          1.434289         35.613077\n",
       " snpdis     16.049747         14.754154         17.375275\n",
       " sndr       15.594056         14.296940         16.439965,\n",
       " 'ddqn':                 mean  95.0% CI (lower)  95.0% CI (upper)\n",
       " on_policy  15.274400         14.499500         16.055000\n",
       " dm         15.590313         15.585155         15.596166\n",
       " tis        16.073241         15.148317         16.920997\n",
       " pdis       15.483005         15.224874         15.750155\n",
       " dr         15.316206         15.222718         15.407684\n",
       " sntis      15.548818         14.654072         16.368914\n",
       " snpdis     15.331481         15.076165         15.595154\n",
       " sndr       15.322136         15.230317         15.412913,\n",
       " 'random':                 mean  95.0% CI (lower)  95.0% CI (upper)\n",
       " on_policy  12.497200         11.637000         13.475750\n",
       " dm         13.896817         13.896534         13.897164\n",
       " tis         5.947855          3.801369          7.840662\n",
       " pdis       12.212714         10.034808         14.981726\n",
       " dr         13.812505         13.130617         14.504730\n",
       " sntis      12.721008          8.130199         16.769261\n",
       " snpdis     13.516336         10.975464         16.669937\n",
       " sndr       13.439978         12.507708         14.524002}"
      ]
     },
     "execution_count": 53,
     "metadata": {},
     "output_type": "execute_result"
    }
   ],
   "source": [
    "# estimated confidence intervals of the policy performance\n",
    "policy_value_interval_df_dict"
   ]
  },
  {
   "cell_type": "markdown",
   "metadata": {},
   "source": [
    "## 4. Evaluation of OPE methods\n",
    "Now, we evaluate how well the ope estimators estimated the policy value."
   ]
  },
  {
   "cell_type": "code",
   "execution_count": 54,
   "metadata": {},
   "outputs": [
    {
     "data": {
      "image/png": "[encoded data removed]",
      "text/plain": [
       "<Figure size 1008x864 with 3 Axes>"
      ]
     },
     "metadata": {},
     "output_type": "display_data"
    }
   ],
   "source": [
    "# we can visualize and compare the result\n",
    "# it seems that DM tends to have a bias though the variance is quite small, \n",
    "# while (trajectory-wise) importance sampling estimators have a smaller bias with a larger variance.\n",
    "# self-normalized estimators also works well\n",
    "ope.visualize_off_policy_estimates(input_dict, random_state=random_state, sharey=False)"
   ]
  },
  {
   "cell_type": "code",
   "execution_count": 55,
   "metadata": {},
   "outputs": [
    {
     "data": {
      "text/html": [
       "<div>\n",
       "<style scoped>\n",
       "    .dataframe tbody tr th:only-of-type {\n",
       "        vertical-align: middle;\n",
       "    }\n",
       "\n",
       "    .dataframe tbody tr th {\n",
       "        vertical-align: top;\n",
       "    }\n",
       "\n",
       "    .dataframe thead th {\n",
       "        text-align: right;\n",
       "    }\n",
       "</style>\n",
       "<table border=\"1\" class=\"dataframe\">\n",
       "  <thead>\n",
       "    <tr style=\"text-align: right;\">\n",
       "      <th></th>\n",
       "      <th>cql</th>\n",
       "      <th>ddqn</th>\n",
       "      <th>random</th>\n",
       "    </tr>\n",
       "  </thead>\n",
       "  <tbody>\n",
       "    <tr>\n",
       "      <th>dm</th>\n",
       "      <td>1.074580</td>\n",
       "      <td>0.053296</td>\n",
       "      <td>1.760516</td>\n",
       "    </tr>\n",
       "    <tr>\n",
       "      <th>tis</th>\n",
       "      <td>48.810593</td>\n",
       "      <td>0.426173</td>\n",
       "      <td>43.051326</td>\n",
       "    </tr>\n",
       "    <tr>\n",
       "      <th>pdis</th>\n",
       "      <td>0.234465</td>\n",
       "      <td>0.014464</td>\n",
       "      <td>0.033850</td>\n",
       "    </tr>\n",
       "    <tr>\n",
       "      <th>dr</th>\n",
       "      <td>0.142822</td>\n",
       "      <td>0.001790</td>\n",
       "      <td>1.587110</td>\n",
       "    </tr>\n",
       "    <tr>\n",
       "      <th>sntis</th>\n",
       "      <td>9.916504</td>\n",
       "      <td>0.016996</td>\n",
       "      <td>0.078979</td>\n",
       "    </tr>\n",
       "    <tr>\n",
       "      <th>snpdis</th>\n",
       "      <td>0.027686</td>\n",
       "      <td>0.000978</td>\n",
       "      <td>1.327070</td>\n",
       "    </tr>\n",
       "    <tr>\n",
       "      <th>sndr</th>\n",
       "      <td>0.181082</td>\n",
       "      <td>0.001328</td>\n",
       "      <td>0.789260</td>\n",
       "    </tr>\n",
       "  </tbody>\n",
       "</table>\n",
       "</div>"
      ],
      "text/plain": [
       "              cql      ddqn     random\n",
       "dm       1.074580  0.053296   1.760516\n",
       "tis     48.810593  0.426173  43.051326\n",
       "pdis     0.234465  0.014464   0.033850\n",
       "dr       0.142822  0.001790   1.587110\n",
       "sntis    9.916504  0.016996   0.078979\n",
       "snpdis   0.027686  0.000978   1.327070\n",
       "sndr     0.181082  0.001328   0.789260"
      ]
     },
     "execution_count": 55,
     "metadata": {},
     "output_type": "execute_result"
    }
   ],
   "source": [
    "# squared-error (se) measures the estimation accuracy of OPE\n",
    "eval_metric_ope_df = ope.evaluate_performance_of_ope_estimators(\n",
    "    input_dict, \n",
    "    metric=\"se\",\n",
    "    return_by_dataframe=True,\n",
    ")\n",
    "eval_metric_ope_df"
   ]
  },
  {
   "cell_type": "markdown",
   "metadata": {},
   "source": [
    "For more advanced topics in OPE (e.g., cumulative distribution function estimation) and OPS, please refer to [examples/quickstart/rtb_synthetic_discrete_advanced.ipynb](https://github.com/negocia-inc/rtb_reinforcement_learing/blob/ope/examples/quickstart/rtb_synthetic_discrete_advanced.ipynb). \n",
    "\n",
    "For the examples in the continuous action space, please refer to [examples/quickstart/rtb_synthetic_continuous_basic.ipynb](https://github.com/negocia-inc/rtb_reinforcement_learing/blob/ope/examples/quickstart/rtb_synthetic_continuous_basic.ipynb)."
   ]
  },
  {
   "cell_type": "markdown",
   "metadata": {},
   "source": [
    "## Reference\n",
    "\n",
    "- Yuta Saito, Shunsuke Aihara, Megumi Matsutani, and Yusuke Narita. \\\n",
    "\"Open Bandit Dataset and Pipeline: Towards Realistic and Reproducible Off-Policy Evaluation.\", 2021.\n",
    "\n",
    "- Takuma Seno and Michita Imai. \\\n",
    "\"d3rlpy: An Offline Deep Reinforcement Library.\", 2021.\n",
    "\n",
    "- Sergey Levine, Aviral Kumar, George Tucker, and Justin Fu. \\\n",
    "\"Offline Reinforcement Learning: Tutorial, Review, and Perspectives on Open Problems.\" 2020.\n",
    "\n",
    "- Aviral Kumar, Aurick Zhou, George Tucker, and Sergey Levine. \\\n",
    "\"Conservative Q-Learning for Offline Reinforcement Learning.\", 2020.\n",
    "\n",
    "- Nathan Kallus and Masatoshi Uehara. \\\n",
    "\"Intrinsically Efficient, Stable, and Bounded Off-Policy Evaluation for Reinforcement Learning.\", 2019.\n",
    "\n",
    "- Hoang Le, Cameron Voloshin, and Yisong Yue. \\\n",
    "\"Batch Policy Learning under Constraints.\", 2019.\n",
    "\n",
    "- Di Wu, Xiujun Chen, Xun Yang, Hao Wang, Qing Tan, Xiaoxun Zhang, Jian Xu, and Kun Gai. \\\n",
    "\"Budget Constrained Bidding by Model-free Reinforcement Learning in Display Advertising.\", 2018.\n",
    "\n",
    "- Jun Zhao, Guang Qiu, Ziyu Guan, Wei Zhao, and Xiaofei He. \\\n",
    "\"Deep Reinforcement Learning for Sponsored Search Real-time Bidding.\", 2018.\n",
    "\n",
    "- Nan Jiang and Lihong Li. \\\n",
    "\"Doubly Robust Off-policy Value Evaluation for Reinforcement Learning.\", 2016.\n",
    "\n",
    "- Philip S. Thomas and Emma Brunskill. \\\n",
    "\"Data-Efficient Off-Policy Policy Evaluation for Reinforcement Learning.\", 2016.\n",
    "\n",
    "- Greg Brockman, Vicki Cheung, Ludwig Pettersson, Jonas Schneider, John Schulman, Jie Tang, and Wojciech Zaremba. \\\n",
    "\"OpenAI Gym.\", 2016.\n",
    "\n",
    "- Adith Swaminathan and Thorsten Joachims. \\\n",
    "\"The Self-Normalized Estimator for Counterfactual Learning.\", 2015.\n",
    "\n",
    "- Hado van Hasselt, Arthur Guez, and David Silver. \\\n",
    "\"Deep Reinforcement Learning with Double Q-learning.\", 2015.\n",
    "\n",
    "- Miroslav Dudík, Dumitru Erhan, John Langford, and Lihong Li. \\\n",
    "\"Doubly Robust Policy Evaluation and Optimization.\", 2014.\n",
    "\n",
    "- Alex Strehl, John Langford, Sham Kakade, and Lihong Li. \\\n",
    "\"Learning from Logged Implicit Exploration Data.\", 2010.\n",
    "\n",
    "- Alina Beygelzimer and John Langford. \\\n",
    "\"The Offset Tree for Learning with Partial Labels.\", 2009.\n",
    "\n",
    "- Doina Precup, Richard S. Sutton, and Satinder P. Singh. \\\n",
    "\"Eligibility Traces for Off-Policy Policy Evaluation.\", 2000."
   ]
  },
  {
   "cell_type": "code",
   "execution_count": null,
   "metadata": {},
   "outputs": [],
   "source": []
  }
 ],
 "metadata": {
  "kernelspec": {
   "display_name": "Python 3",
   "language": "python",
   "name": "python3"
  },
  "language_info": {
   "codemirror_mode": {
    "name": "ipython",
    "version": 3
   },
   "file_extension": ".py",
   "mimetype": "text/x-python",
   "name": "python",
   "nbconvert_exporter": "python",
   "pygments_lexer": "ipython3",
   "version": "3.8.5"
  },
  "vscode": {
   "interpreter": {
    "hash": "eeb0e296031d5f4c93e05211083c58e9e78a3e8af86402f626ea4098c0a5e991"
   }
  }
 },
 "nbformat": 4,
 "nbformat_minor": 4
}
